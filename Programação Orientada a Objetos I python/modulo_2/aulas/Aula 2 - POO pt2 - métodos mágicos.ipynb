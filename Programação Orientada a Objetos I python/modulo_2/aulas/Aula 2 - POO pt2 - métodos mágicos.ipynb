{
 "cells": [
  {
   "cell_type": "markdown",
   "metadata": {},
   "source": [
    "# Programação Orientada a Objetos\n",
    "\n",
    "## Parte 2 - Métodos mágicos\n",
    "__________\n",
    "\n",
    "Na aula de hoje, vamos explorar os seguintes tópicos em Python:\n",
    "\n",
    "- 1) Métodos mágicos.\n",
    "\n",
    "__________"
   ]
  },
  {
   "cell_type": "markdown",
   "metadata": {},
   "source": [
    "Essas operações são triviais, quando feita entre números"
   ]
  },
  {
   "cell_type": "code",
   "execution_count": 2,
   "metadata": {
    "ExecuteTime": {
     "end_time": "2021-11-17T00:12:23.458921Z",
     "start_time": "2021-11-17T00:12:23.440906Z"
    }
   },
   "outputs": [
    {
     "data": {
      "text/plain": [
       "4"
      ]
     },
     "execution_count": 2,
     "metadata": {},
     "output_type": "execute_result"
    }
   ],
   "source": [
    "1+3"
   ]
  },
  {
   "cell_type": "code",
   "execution_count": 5,
   "metadata": {
    "ExecuteTime": {
     "end_time": "2021-11-17T00:12:42.589402Z",
     "start_time": "2021-11-17T00:12:42.572414Z"
    }
   },
   "outputs": [
    {
     "data": {
      "text/plain": [
       "176.4"
      ]
     },
     "execution_count": 5,
     "metadata": {},
     "output_type": "execute_result"
    }
   ],
   "source": [
    "4.2*42"
   ]
  },
  {
   "cell_type": "markdown",
   "metadata": {},
   "source": [
    "São meramente simbolos: + - * / "
   ]
  },
  {
   "cell_type": "code",
   "execution_count": 6,
   "metadata": {
    "ExecuteTime": {
     "end_time": "2021-11-17T00:14:39.090136Z",
     "start_time": "2021-11-17T00:14:39.075149Z"
    }
   },
   "outputs": [
    {
     "data": {
      "text/plain": [
       "6"
      ]
     },
     "execution_count": 6,
     "metadata": {},
     "output_type": "execute_result"
    }
   ],
   "source": [
    "4 + 2"
   ]
  },
  {
   "cell_type": "code",
   "execution_count": 17,
   "metadata": {
    "ExecuteTime": {
     "end_time": "2021-11-17T00:19:55.690871Z",
     "start_time": "2021-11-17T00:19:55.680880Z"
    }
   },
   "outputs": [],
   "source": [
    "n1 = 4.2\n",
    "n2 = 2"
   ]
  },
  {
   "cell_type": "code",
   "execution_count": 18,
   "metadata": {
    "ExecuteTime": {
     "end_time": "2021-11-17T00:19:56.004601Z",
     "start_time": "2021-11-17T00:19:55.995605Z"
    }
   },
   "outputs": [
    {
     "data": {
      "text/plain": [
       "6.2"
      ]
     },
     "execution_count": 18,
     "metadata": {},
     "output_type": "execute_result"
    }
   ],
   "source": [
    "n1 + n2"
   ]
  },
  {
   "cell_type": "code",
   "execution_count": 19,
   "metadata": {
    "ExecuteTime": {
     "end_time": "2021-11-17T00:19:56.426542Z",
     "start_time": "2021-11-17T00:19:56.414547Z"
    }
   },
   "outputs": [
    {
     "data": {
      "text/plain": [
       "6.2"
      ]
     },
     "execution_count": 19,
     "metadata": {},
     "output_type": "execute_result"
    }
   ],
   "source": [
    "n1.__add__(n2)"
   ]
  },
  {
   "cell_type": "markdown",
   "metadata": {},
   "source": [
    "Já essas operações, não são nada triviais:"
   ]
  },
  {
   "cell_type": "code",
   "execution_count": 1,
   "metadata": {
    "ExecuteTime": {
     "end_time": "2021-11-18T23:56:50.029004Z",
     "start_time": "2021-11-18T23:56:49.965047Z"
    }
   },
   "outputs": [
    {
     "data": {
      "text/plain": [
       "\"let's code\""
      ]
     },
     "execution_count": 1,
     "metadata": {},
     "output_type": "execute_result"
    }
   ],
   "source": [
    "\"let's\" + \" code\""
   ]
  },
  {
   "cell_type": "code",
   "execution_count": 22,
   "metadata": {
    "ExecuteTime": {
     "end_time": "2021-11-17T00:24:03.473406Z",
     "start_time": "2021-11-17T00:24:03.467409Z"
    }
   },
   "outputs": [
    {
     "data": {
      "text/plain": [
       "\"let's code\""
      ]
     },
     "execution_count": 22,
     "metadata": {},
     "output_type": "execute_result"
    }
   ],
   "source": [
    "\"let's\".__add__(\" code\")"
   ]
  },
  {
   "cell_type": "code",
   "execution_count": 23,
   "metadata": {
    "ExecuteTime": {
     "end_time": "2021-11-17T00:32:06.825053Z",
     "start_time": "2021-11-17T00:32:06.806068Z"
    }
   },
   "outputs": [
    {
     "ename": "TypeError",
     "evalue": "can only concatenate str (not \"int\") to str",
     "output_type": "error",
     "traceback": [
      "\u001b[1;31m---------------------------------------------------------------------------\u001b[0m",
      "\u001b[1;31mTypeError\u001b[0m                                 Traceback (most recent call last)",
      "\u001b[1;32m<ipython-input-23-0adb85d5f25e>\u001b[0m in \u001b[0;36m<module>\u001b[1;34m\u001b[0m\n\u001b[1;32m----> 1\u001b[1;33m \u001b[1;34m\"python\"\u001b[0m \u001b[1;33m+\u001b[0m \u001b[1;36m2\u001b[0m\u001b[1;33m\u001b[0m\u001b[1;33m\u001b[0m\u001b[0m\n\u001b[0m",
      "\u001b[1;31mTypeError\u001b[0m: can only concatenate str (not \"int\") to str"
     ]
    }
   ],
   "source": [
    "\"python\" + 2"
   ]
  },
  {
   "cell_type": "code",
   "execution_count": 24,
   "metadata": {
    "ExecuteTime": {
     "end_time": "2021-11-17T00:32:32.222013Z",
     "start_time": "2021-11-17T00:32:32.175039Z"
    }
   },
   "outputs": [
    {
     "ename": "TypeError",
     "evalue": "can only concatenate str (not \"int\") to str",
     "output_type": "error",
     "traceback": [
      "\u001b[1;31m---------------------------------------------------------------------------\u001b[0m",
      "\u001b[1;31mTypeError\u001b[0m                                 Traceback (most recent call last)",
      "\u001b[1;32m<ipython-input-24-71a9efde1ad4>\u001b[0m in \u001b[0;36m<module>\u001b[1;34m\u001b[0m\n\u001b[1;32m----> 1\u001b[1;33m \u001b[1;34m\"python\"\u001b[0m\u001b[1;33m.\u001b[0m\u001b[0m__add__\u001b[0m\u001b[1;33m(\u001b[0m\u001b[1;36m2\u001b[0m\u001b[1;33m)\u001b[0m\u001b[1;33m\u001b[0m\u001b[1;33m\u001b[0m\u001b[0m\n\u001b[0m",
      "\u001b[1;31mTypeError\u001b[0m: can only concatenate str (not \"int\") to str"
     ]
    }
   ],
   "source": [
    "\"python\".__add__(2)"
   ]
  },
  {
   "cell_type": "code",
   "execution_count": 25,
   "metadata": {
    "ExecuteTime": {
     "end_time": "2021-11-17T00:32:47.591307Z",
     "start_time": "2021-11-17T00:32:47.559324Z"
    }
   },
   "outputs": [
    {
     "ename": "TypeError",
     "evalue": "unsupported operand type(s) for +: 'int' and 'str'",
     "output_type": "error",
     "traceback": [
      "\u001b[1;31m---------------------------------------------------------------------------\u001b[0m",
      "\u001b[1;31mTypeError\u001b[0m                                 Traceback (most recent call last)",
      "\u001b[1;32m<ipython-input-25-ba123a9c513d>\u001b[0m in \u001b[0;36m<module>\u001b[1;34m\u001b[0m\n\u001b[1;32m----> 1\u001b[1;33m \u001b[1;36m2\u001b[0m \u001b[1;33m+\u001b[0m \u001b[1;34m\"python\"\u001b[0m\u001b[1;33m\u001b[0m\u001b[1;33m\u001b[0m\u001b[0m\n\u001b[0m",
      "\u001b[1;31mTypeError\u001b[0m: unsupported operand type(s) for +: 'int' and 'str'"
     ]
    }
   ],
   "source": [
    "2 + \"python\""
   ]
  },
  {
   "cell_type": "code",
   "execution_count": 27,
   "metadata": {
    "ExecuteTime": {
     "end_time": "2021-11-17T00:33:14.195038Z",
     "start_time": "2021-11-17T00:33:14.188040Z"
    }
   },
   "outputs": [
    {
     "data": {
      "text/plain": [
       "NotImplemented"
      ]
     },
     "execution_count": 27,
     "metadata": {},
     "output_type": "execute_result"
    }
   ],
   "source": [
    "(2).__add__(\"python\")"
   ]
  },
  {
   "cell_type": "code",
   "execution_count": 28,
   "metadata": {
    "ExecuteTime": {
     "end_time": "2021-11-17T00:33:26.952171Z",
     "start_time": "2021-11-17T00:33:26.933182Z"
    }
   },
   "outputs": [
    {
     "data": {
      "text/plain": [
       "NotImplemented"
      ]
     },
     "execution_count": 28,
     "metadata": {},
     "output_type": "execute_result"
    }
   ],
   "source": [
    "int(2).__add__(\"python\")"
   ]
  },
  {
   "cell_type": "markdown",
   "metadata": {},
   "source": [
    "Como o python sabe o que fazer?"
   ]
  },
  {
   "cell_type": "markdown",
   "metadata": {},
   "source": [
    "## 4) Métodos mágicos\n",
    "\n",
    "Como o python entende que o sinal \"+\", quando aplicado à objetos da classe `str` deve **concatenar** as duas strings, ao invés de fazer alguma outra operação estranha de soma?\n",
    "\n",
    "Isso é feito a partir dos **métodos mágicos**\n",
    "\n",
    "Para ilustrar os usos desses métodos, vamos criar uma classe de horário!"
   ]
  },
  {
   "cell_type": "markdown",
   "metadata": {},
   "source": [
    "Antes, lembre-se que existe a biblioteca [datetime](https://docs.python.org/pt-br/3/library/datetime.html). Use ela! Mas, pro exercicio, vamos fazer a nossa classe de horário"
   ]
  },
  {
   "cell_type": "code",
   "execution_count": 28,
   "metadata": {
    "ExecuteTime": {
     "end_time": "2021-11-19T00:09:32.539986Z",
     "start_time": "2021-11-19T00:09:32.532994Z"
    }
   },
   "outputs": [],
   "source": [
    "# \"alias\"\n",
    "import datetime as dt"
   ]
  },
  {
   "cell_type": "code",
   "execution_count": 29,
   "metadata": {
    "ExecuteTime": {
     "end_time": "2021-11-19T00:09:33.069842Z",
     "start_time": "2021-11-19T00:09:33.054692Z"
    }
   },
   "outputs": [],
   "source": [
    "agora = dt.datetime.now()"
   ]
  },
  {
   "cell_type": "code",
   "execution_count": 31,
   "metadata": {
    "ExecuteTime": {
     "end_time": "2021-11-19T00:09:42.633006Z",
     "start_time": "2021-11-19T00:09:42.609023Z"
    }
   },
   "outputs": [
    {
     "data": {
      "text/plain": [
       "datetime.datetime"
      ]
     },
     "execution_count": 31,
     "metadata": {},
     "output_type": "execute_result"
    }
   ],
   "source": [
    "type(agora)"
   ]
  },
  {
   "cell_type": "code",
   "execution_count": 30,
   "metadata": {
    "ExecuteTime": {
     "end_time": "2021-11-19T00:09:34.664600Z",
     "start_time": "2021-11-19T00:09:34.650609Z"
    }
   },
   "outputs": [
    {
     "data": {
      "text/plain": [
       "datetime.datetime(2021, 11, 18, 21, 9, 33, 58688)"
      ]
     },
     "execution_count": 30,
     "metadata": {},
     "output_type": "execute_result"
    }
   ],
   "source": [
    "agora"
   ]
  },
  {
   "cell_type": "code",
   "execution_count": 15,
   "metadata": {
    "ExecuteTime": {
     "end_time": "2021-11-19T00:02:24.448477Z",
     "start_time": "2021-11-19T00:02:24.437483Z"
    }
   },
   "outputs": [
    {
     "name": "stdout",
     "output_type": "stream",
     "text": [
      "2021-11-18 21:01:48.425612\n"
     ]
    }
   ],
   "source": [
    "print(agora)"
   ]
  },
  {
   "cell_type": "code",
   "execution_count": 16,
   "metadata": {
    "ExecuteTime": {
     "end_time": "2021-11-19T00:02:35.961082Z",
     "start_time": "2021-11-19T00:02:35.939094Z"
    }
   },
   "outputs": [
    {
     "data": {
      "text/plain": [
       "2021"
      ]
     },
     "execution_count": 16,
     "metadata": {},
     "output_type": "execute_result"
    }
   ],
   "source": [
    "agora.year"
   ]
  },
  {
   "cell_type": "code",
   "execution_count": 17,
   "metadata": {
    "ExecuteTime": {
     "end_time": "2021-11-19T00:02:39.761664Z",
     "start_time": "2021-11-19T00:02:39.747673Z"
    }
   },
   "outputs": [
    {
     "data": {
      "text/plain": [
       "11"
      ]
     },
     "execution_count": 17,
     "metadata": {},
     "output_type": "execute_result"
    }
   ],
   "source": [
    "agora.month"
   ]
  },
  {
   "cell_type": "code",
   "execution_count": 45,
   "metadata": {
    "ExecuteTime": {
     "end_time": "2021-11-19T00:30:51.191972Z",
     "start_time": "2021-11-19T00:30:51.173980Z"
    }
   },
   "outputs": [],
   "source": [
    "# pra trabalhar com fusohorário, etc\n",
    "\n",
    "import locale"
   ]
  },
  {
   "cell_type": "markdown",
   "metadata": {},
   "source": [
    "Vamos pra nossa classe!"
   ]
  },
  {
   "cell_type": "code",
   "execution_count": 1,
   "metadata": {
    "ExecuteTime": {
     "end_time": "2021-11-19T22:19:00.202015Z",
     "start_time": "2021-11-19T22:19:00.188023Z"
    }
   },
   "outputs": [],
   "source": [
    "class Horario:\n",
    "    '''\n",
    "    classe pra representar um horario com hora, minuto e segundo\n",
    "    '''\n",
    "    \n",
    "    def __init__(self, hour, minute, sec):\n",
    "        \n",
    "        self.h = hour\n",
    "        self.m = minute\n",
    "        self.s = sec\n",
    "        \n",
    "    \n",
    "    # desejável:\n",
    "    \n",
    "    # - método de fomatação AM/PM (pra isso, precisamos controlar a representação)\n",
    "    # - método de despertador (cai no debaixo)\n",
    "    # - método pra operar (somar, subtrair) com horários"
   ]
  },
  {
   "cell_type": "code",
   "execution_count": 2,
   "metadata": {
    "ExecuteTime": {
     "end_time": "2021-11-19T22:19:00.811129Z",
     "start_time": "2021-11-19T22:19:00.790140Z"
    }
   },
   "outputs": [],
   "source": [
    "agora_orig = Horario(21, 15, 54)"
   ]
  },
  {
   "cell_type": "code",
   "execution_count": 85,
   "metadata": {
    "ExecuteTime": {
     "end_time": "2021-11-19T00:45:03.668115Z",
     "start_time": "2021-11-19T00:45:03.652124Z"
    }
   },
   "outputs": [
    {
     "data": {
      "text/plain": [
       "<__main__.Horario at 0x1c8ed849d60>"
      ]
     },
     "execution_count": 85,
     "metadata": {},
     "output_type": "execute_result"
    }
   ],
   "source": [
    "agora_orig"
   ]
  },
  {
   "cell_type": "code",
   "execution_count": 3,
   "metadata": {
    "ExecuteTime": {
     "end_time": "2021-11-19T22:19:10.739536Z",
     "start_time": "2021-11-19T22:19:10.706554Z"
    }
   },
   "outputs": [
    {
     "data": {
      "text/plain": [
       "<__main__.Horario at 0x20c3111edc0>"
      ]
     },
     "metadata": {},
     "output_type": "display_data"
    }
   ],
   "source": [
    "display(agora_orig)"
   ]
  },
  {
   "cell_type": "code",
   "execution_count": 86,
   "metadata": {
    "ExecuteTime": {
     "end_time": "2021-11-19T00:45:03.856038Z",
     "start_time": "2021-11-19T00:45:03.846012Z"
    }
   },
   "outputs": [
    {
     "name": "stdout",
     "output_type": "stream",
     "text": [
      "<__main__.Horario object at 0x000001C8ED849D60>\n"
     ]
    }
   ],
   "source": [
    "print(agora_orig)"
   ]
  },
  {
   "cell_type": "code",
   "execution_count": 87,
   "metadata": {
    "ExecuteTime": {
     "end_time": "2021-11-19T00:45:06.399035Z",
     "start_time": "2021-11-19T00:45:06.379047Z"
    }
   },
   "outputs": [
    {
     "data": {
      "text/plain": [
       "21"
      ]
     },
     "execution_count": 87,
     "metadata": {},
     "output_type": "execute_result"
    }
   ],
   "source": [
    "agora_orig.h"
   ]
  },
  {
   "cell_type": "code",
   "execution_count": 88,
   "metadata": {
    "ExecuteTime": {
     "end_time": "2021-11-19T00:45:06.585438Z",
     "start_time": "2021-11-19T00:45:06.577444Z"
    }
   },
   "outputs": [
    {
     "data": {
      "text/plain": [
       "15"
      ]
     },
     "execution_count": 88,
     "metadata": {},
     "output_type": "execute_result"
    }
   ],
   "source": [
    "agora_orig.m"
   ]
  },
  {
   "cell_type": "code",
   "execution_count": 89,
   "metadata": {
    "ExecuteTime": {
     "end_time": "2021-11-19T00:45:06.773335Z",
     "start_time": "2021-11-19T00:45:06.755343Z"
    }
   },
   "outputs": [
    {
     "data": {
      "text/plain": [
       "54"
      ]
     },
     "execution_count": 89,
     "metadata": {},
     "output_type": "execute_result"
    }
   ],
   "source": [
    "agora_orig.s"
   ]
  },
  {
   "cell_type": "code",
   "execution_count": 90,
   "metadata": {
    "ExecuteTime": {
     "end_time": "2021-11-19T00:45:06.959266Z",
     "start_time": "2021-11-19T00:45:06.945232Z"
    }
   },
   "outputs": [
    {
     "data": {
      "text/plain": [
       "{'h': 21, 'm': 15, 's': 54}"
      ]
     },
     "execution_count": 90,
     "metadata": {},
     "output_type": "execute_result"
    }
   ],
   "source": [
    "vars(agora_orig)"
   ]
  },
  {
   "cell_type": "code",
   "execution_count": 92,
   "metadata": {
    "ExecuteTime": {
     "end_time": "2021-11-19T00:45:23.819473Z",
     "start_time": "2021-11-19T00:45:23.811480Z"
    }
   },
   "outputs": [],
   "source": [
    "# sai_pro_almoco = Horario(12, 37, 54)\n",
    "\n",
    "# volta_do_almoco = Horario(12, 37, 54) + Horario(1, 30, 0)"
   ]
  },
  {
   "cell_type": "markdown",
   "metadata": {},
   "source": [
    "### Método de representação\n",
    "\n",
    "O método `__repr__` é um método mágico que permite dar um \"print\" diretamente no objeto, segundo o formato estabelecido!\n",
    "\n",
    "Sem definir este método na classe, a chamada/inspeção do objeto mostra apenas o endereço do objeto:"
   ]
  },
  {
   "cell_type": "markdown",
   "metadata": {},
   "source": [
    "_______"
   ]
  },
  {
   "cell_type": "markdown",
   "metadata": {},
   "source": [
    "________\n",
    "\n",
    "_________\n",
    "\n",
    "_________\n",
    "\n",
    "__REFERÊNCIA PARA FORMATAÇÃO DE STRINGS e o .format()__\n",
    "\n",
    "https://docs.python.org/pt-br/3/tutorial/inputoutput.html\n",
    "\n",
    "https://www.geeksforgeeks.org/python-format-function/\n",
    "\n",
    "________\n",
    "\n",
    "Relemembrando sobre a formatação de strings..."
   ]
  },
  {
   "cell_type": "code",
   "execution_count": 94,
   "metadata": {
    "ExecuteTime": {
     "end_time": "2021-11-19T00:45:46.156188Z",
     "start_time": "2021-11-19T00:45:46.139196Z"
    }
   },
   "outputs": [],
   "source": [
    "agora_orig = Horario(21, 15, 54)"
   ]
  },
  {
   "cell_type": "code",
   "execution_count": 95,
   "metadata": {
    "ExecuteTime": {
     "end_time": "2021-11-19T00:45:46.532070Z",
     "start_time": "2021-11-19T00:45:46.521077Z"
    }
   },
   "outputs": [
    {
     "data": {
      "text/plain": [
       "{'h': 21, 'm': 15, 's': 54}"
      ]
     },
     "execution_count": 95,
     "metadata": {},
     "output_type": "execute_result"
    }
   ],
   "source": [
    "vars(agora_orig)"
   ]
  },
  {
   "cell_type": "code",
   "execution_count": 96,
   "metadata": {
    "ExecuteTime": {
     "end_time": "2021-11-19T00:45:47.144898Z",
     "start_time": "2021-11-19T00:45:47.125910Z"
    }
   },
   "outputs": [
    {
     "data": {
      "text/plain": [
       "'21:15:54'"
      ]
     },
     "execution_count": 96,
     "metadata": {},
     "output_type": "execute_result"
    }
   ],
   "source": [
    "f\"{agora_orig.h}:{agora_orig.m}:{agora_orig.s}\""
   ]
  },
  {
   "cell_type": "code",
   "execution_count": 97,
   "metadata": {
    "ExecuteTime": {
     "end_time": "2021-11-19T00:45:50.558906Z",
     "start_time": "2021-11-19T00:45:50.539913Z"
    }
   },
   "outputs": [
    {
     "data": {
      "text/plain": [
       "'21:15:54'"
      ]
     },
     "execution_count": 97,
     "metadata": {},
     "output_type": "execute_result"
    }
   ],
   "source": [
    "\"{}:{}:{}\".format(agora_orig.h, agora_orig.m, agora_orig.s)"
   ]
  },
  {
   "cell_type": "code",
   "execution_count": 99,
   "metadata": {
    "ExecuteTime": {
     "end_time": "2021-11-19T00:46:01.165226Z",
     "start_time": "2021-11-19T00:46:01.153231Z"
    }
   },
   "outputs": [],
   "source": [
    "agora_orig = Horario(21, 1, 54)"
   ]
  },
  {
   "cell_type": "code",
   "execution_count": 100,
   "metadata": {
    "ExecuteTime": {
     "end_time": "2021-11-19T00:46:01.432960Z",
     "start_time": "2021-11-19T00:46:01.420965Z"
    }
   },
   "outputs": [
    {
     "data": {
      "text/plain": [
       "'21:01:54'"
      ]
     },
     "execution_count": 100,
     "metadata": {},
     "output_type": "execute_result"
    }
   ],
   "source": [
    "f\"{agora_orig.h:02d}:{agora_orig.m:02d}:{agora_orig.s:02d}\""
   ]
  },
  {
   "cell_type": "code",
   "execution_count": 101,
   "metadata": {
    "ExecuteTime": {
     "end_time": "2021-11-19T00:46:06.782971Z",
     "start_time": "2021-11-19T00:46:06.766982Z"
    }
   },
   "outputs": [
    {
     "data": {
      "text/plain": [
       "'21:01:54'"
      ]
     },
     "execution_count": 101,
     "metadata": {},
     "output_type": "execute_result"
    }
   ],
   "source": [
    "\"{:02d}:{:02d}:{:02d}\".format(agora_orig.h, agora_orig.m, agora_orig.s)"
   ]
  },
  {
   "cell_type": "markdown",
   "metadata": {},
   "source": [
    "__________\n",
    "\n",
    "___________\n",
    "\n",
    "\n",
    "___________"
   ]
  },
  {
   "cell_type": "markdown",
   "metadata": {},
   "source": [
    "Este objeto foi criado antes da redefinição do \\_\\_repr__, então fica o comportamento antigo!"
   ]
  },
  {
   "cell_type": "code",
   "execution_count": 102,
   "metadata": {
    "ExecuteTime": {
     "end_time": "2021-11-19T00:46:32.842737Z",
     "start_time": "2021-11-19T00:46:32.834745Z"
    }
   },
   "outputs": [
    {
     "data": {
      "text/plain": [
       "<__main__.Horario at 0x1c8ed8498e0>"
      ]
     },
     "execution_count": 102,
     "metadata": {},
     "output_type": "execute_result"
    }
   ],
   "source": [
    "agora_orig"
   ]
  },
  {
   "cell_type": "markdown",
   "metadata": {},
   "source": [
    "Redefinindo a classe, com o método \\_\\_repr\\_\\_"
   ]
  },
  {
   "cell_type": "code",
   "execution_count": 4,
   "metadata": {
    "ExecuteTime": {
     "end_time": "2021-11-19T22:20:53.113582Z",
     "start_time": "2021-11-19T22:20:53.097594Z"
    }
   },
   "outputs": [],
   "source": [
    "class Horario:\n",
    "    '''\n",
    "    classe pra representar um horario com hora, minuto e segundo\n",
    "    '''\n",
    "    \n",
    "    def __init__(self, hour, minute, sec):\n",
    "        \n",
    "        self.h = hour\n",
    "        self.m = minute\n",
    "        self.s = sec\n",
    "        \n",
    "    \n",
    "    def __repr__(self):\n",
    "        \n",
    "        return f\"{self.h:02d}:{self.m:02d}:{self.s:02d}\""
   ]
  },
  {
   "cell_type": "code",
   "execution_count": 5,
   "metadata": {
    "ExecuteTime": {
     "end_time": "2021-11-19T22:20:54.488714Z",
     "start_time": "2021-11-19T22:20:54.470718Z"
    }
   },
   "outputs": [],
   "source": [
    "agora = Horario(21, 1, 54)"
   ]
  },
  {
   "cell_type": "code",
   "execution_count": 6,
   "metadata": {
    "ExecuteTime": {
     "end_time": "2021-11-19T22:21:09.332238Z",
     "start_time": "2021-11-19T22:21:09.319245Z"
    }
   },
   "outputs": [
    {
     "data": {
      "text/plain": [
       "21:01:54"
      ]
     },
     "execution_count": 6,
     "metadata": {},
     "output_type": "execute_result"
    }
   ],
   "source": [
    "agora"
   ]
  },
  {
   "cell_type": "code",
   "execution_count": 7,
   "metadata": {
    "ExecuteTime": {
     "end_time": "2021-11-19T22:21:16.685937Z",
     "start_time": "2021-11-19T22:21:16.676944Z"
    }
   },
   "outputs": [
    {
     "name": "stdout",
     "output_type": "stream",
     "text": [
      "21:01:54\n"
     ]
    }
   ],
   "source": [
    "print(agora)"
   ]
  },
  {
   "cell_type": "markdown",
   "metadata": {},
   "source": [
    "____________\n",
    "\n",
    "Um método mágico parecido com o \\_\\_repr\\_\\_ é o \\_\\_str\\_\\_. Na prática, este método determina o que será exibido PELO PRINT!\n",
    "\n",
    "Se não definir o \\_\\_str\\_\\_, o print vai exibir exatamente o que tá no \\_\\_repr\\_\\_.\n",
    "\n",
    "Mas, se tiver ambos definidos, temos:\n",
    "\n",
    "- \\_\\_repr\\_\\_ : exibe a \"chamada\";\n",
    "- \\_\\_str\\_\\_ : exibe o print()."
   ]
  },
  {
   "cell_type": "code",
   "execution_count": 22,
   "metadata": {
    "ExecuteTime": {
     "end_time": "2021-11-19T22:35:05.774164Z",
     "start_time": "2021-11-19T22:35:05.763172Z"
    }
   },
   "outputs": [],
   "source": [
    "class Horario:\n",
    "    '''\n",
    "    classe pra representar um horario com hora, minuto e segundo\n",
    "    '''\n",
    "    \n",
    "    def __init__(self, hour, minute, sec):\n",
    "        \n",
    "        self.h = hour\n",
    "        self.m = minute\n",
    "        self.s = sec\n",
    "        \n",
    "        \n",
    "    def __repr__(self):\n",
    "        \n",
    "        return f\"{self.h:02d}:{self.m:02d}:{self.s:02d}\"\n",
    "    \n",
    "    \n",
    "    def __str__(self):\n",
    "        \n",
    "        return f\"O horário é:\\n{self.h:02d}:{self.m:02d}:{self.s:02d}\""
   ]
  },
  {
   "cell_type": "code",
   "execution_count": 23,
   "metadata": {
    "ExecuteTime": {
     "end_time": "2021-11-19T22:35:06.089452Z",
     "start_time": "2021-11-19T22:35:06.077455Z"
    }
   },
   "outputs": [],
   "source": [
    "agora = Horario(21, 1, 54)"
   ]
  },
  {
   "cell_type": "code",
   "execution_count": 24,
   "metadata": {
    "ExecuteTime": {
     "end_time": "2021-11-19T22:35:06.371619Z",
     "start_time": "2021-11-19T22:35:06.361622Z"
    }
   },
   "outputs": [
    {
     "data": {
      "text/plain": [
       "21:01:54"
      ]
     },
     "execution_count": 24,
     "metadata": {},
     "output_type": "execute_result"
    }
   ],
   "source": [
    "# executa o método __repr__\n",
    "\n",
    "agora"
   ]
  },
  {
   "cell_type": "code",
   "execution_count": 25,
   "metadata": {
    "ExecuteTime": {
     "end_time": "2021-11-19T22:35:07.442784Z",
     "start_time": "2021-11-19T22:35:07.425794Z"
    }
   },
   "outputs": [
    {
     "data": {
      "text/plain": [
       "21:01:54"
      ]
     },
     "metadata": {},
     "output_type": "display_data"
    }
   ],
   "source": [
    "# com o display, não tem output, mas isso executa tbm o __repr__\n",
    "\n",
    "display(agora)"
   ]
  },
  {
   "cell_type": "code",
   "execution_count": 26,
   "metadata": {
    "ExecuteTime": {
     "end_time": "2021-11-19T22:35:07.849446Z",
     "start_time": "2021-11-19T22:35:07.834456Z"
    }
   },
   "outputs": [
    {
     "data": {
      "text/plain": [
       "4"
      ]
     },
     "metadata": {},
     "output_type": "display_data"
    },
    {
     "data": {
      "text/plain": [
       "21:01:54"
      ]
     },
     "metadata": {},
     "output_type": "display_data"
    }
   ],
   "source": [
    "display(2+2)\n",
    "display(agora)"
   ]
  },
  {
   "cell_type": "code",
   "execution_count": 27,
   "metadata": {
    "ExecuteTime": {
     "end_time": "2021-11-19T22:35:09.700916Z",
     "start_time": "2021-11-19T22:35:09.690920Z"
    }
   },
   "outputs": [
    {
     "name": "stdout",
     "output_type": "stream",
     "text": [
      "O horário é:\n",
      "21:01:54\n"
     ]
    }
   ],
   "source": [
    "# executa o método __str__\n",
    "\n",
    "print(agora)"
   ]
  },
  {
   "cell_type": "code",
   "execution_count": 28,
   "metadata": {
    "ExecuteTime": {
     "end_time": "2021-11-19T22:35:10.337314Z",
     "start_time": "2021-11-19T22:35:10.319326Z"
    }
   },
   "outputs": [
    {
     "name": "stdout",
     "output_type": "stream",
     "text": [
      "4\n",
      "\n",
      "\n",
      "O horário é:\n",
      "21:01:54\n"
     ]
    }
   ],
   "source": [
    "print(2+2)\n",
    "print(\"\\n\")\n",
    "print(agora)"
   ]
  },
  {
   "cell_type": "markdown",
   "metadata": {},
   "source": [
    "____________\n",
    "\n",
    "Um outro exemplo pra entender a diferença do \\_\\_repr\\_\\_ e o \\_\\_str\\_\\_. Ignora o código que gerou o \"df\", só olha o resultado..."
   ]
  },
  {
   "cell_type": "code",
   "execution_count": 11,
   "metadata": {
    "ExecuteTime": {
     "end_time": "2021-11-19T22:26:40.982174Z",
     "start_time": "2021-11-19T22:26:39.948381Z"
    }
   },
   "outputs": [],
   "source": [
    "import pandas as pd\n",
    "\n",
    "df = pd.DataFrame({\"col1\" : [1, 2, 3, 4], \n",
    "                   \"col2\" : [10, 20, 30, 40]})"
   ]
  },
  {
   "cell_type": "code",
   "execution_count": 12,
   "metadata": {
    "ExecuteTime": {
     "end_time": "2021-11-19T22:28:06.940966Z",
     "start_time": "2021-11-19T22:28:06.925975Z"
    }
   },
   "outputs": [
    {
     "data": {
      "text/plain": [
       "pandas.core.frame.DataFrame"
      ]
     },
     "execution_count": 12,
     "metadata": {},
     "output_type": "execute_result"
    }
   ],
   "source": [
    "type(df)"
   ]
  },
  {
   "cell_type": "code",
   "execution_count": 156,
   "metadata": {
    "ExecuteTime": {
     "end_time": "2021-11-19T01:07:34.915342Z",
     "start_time": "2021-11-19T01:07:34.785342Z"
    }
   },
   "outputs": [
    {
     "data": {
      "text/html": [
       "<div>\n",
       "<style scoped>\n",
       "    .dataframe tbody tr th:only-of-type {\n",
       "        vertical-align: middle;\n",
       "    }\n",
       "\n",
       "    .dataframe tbody tr th {\n",
       "        vertical-align: top;\n",
       "    }\n",
       "\n",
       "    .dataframe thead th {\n",
       "        text-align: right;\n",
       "    }\n",
       "</style>\n",
       "<table border=\"1\" class=\"dataframe\">\n",
       "  <thead>\n",
       "    <tr style=\"text-align: right;\">\n",
       "      <th></th>\n",
       "      <th>col1</th>\n",
       "      <th>col2</th>\n",
       "    </tr>\n",
       "  </thead>\n",
       "  <tbody>\n",
       "    <tr>\n",
       "      <th>0</th>\n",
       "      <td>1</td>\n",
       "      <td>10</td>\n",
       "    </tr>\n",
       "    <tr>\n",
       "      <th>1</th>\n",
       "      <td>2</td>\n",
       "      <td>20</td>\n",
       "    </tr>\n",
       "    <tr>\n",
       "      <th>2</th>\n",
       "      <td>3</td>\n",
       "      <td>30</td>\n",
       "    </tr>\n",
       "    <tr>\n",
       "      <th>3</th>\n",
       "      <td>4</td>\n",
       "      <td>40</td>\n",
       "    </tr>\n",
       "  </tbody>\n",
       "</table>\n",
       "</div>"
      ],
      "text/plain": [
       "   col1  col2\n",
       "0     1    10\n",
       "1     2    20\n",
       "2     3    30\n",
       "3     4    40"
      ]
     },
     "execution_count": 156,
     "metadata": {},
     "output_type": "execute_result"
    }
   ],
   "source": [
    "# cahamdando o objeto: __repr__ com return\n",
    "\n",
    "df"
   ]
  },
  {
   "cell_type": "code",
   "execution_count": 158,
   "metadata": {
    "ExecuteTime": {
     "end_time": "2021-11-19T01:07:41.532459Z",
     "start_time": "2021-11-19T01:07:41.509466Z"
    }
   },
   "outputs": [
    {
     "data": {
      "text/html": [
       "<div>\n",
       "<style scoped>\n",
       "    .dataframe tbody tr th:only-of-type {\n",
       "        vertical-align: middle;\n",
       "    }\n",
       "\n",
       "    .dataframe tbody tr th {\n",
       "        vertical-align: top;\n",
       "    }\n",
       "\n",
       "    .dataframe thead th {\n",
       "        text-align: right;\n",
       "    }\n",
       "</style>\n",
       "<table border=\"1\" class=\"dataframe\">\n",
       "  <thead>\n",
       "    <tr style=\"text-align: right;\">\n",
       "      <th></th>\n",
       "      <th>col1</th>\n",
       "      <th>col2</th>\n",
       "    </tr>\n",
       "  </thead>\n",
       "  <tbody>\n",
       "    <tr>\n",
       "      <th>0</th>\n",
       "      <td>1</td>\n",
       "      <td>10</td>\n",
       "    </tr>\n",
       "    <tr>\n",
       "      <th>1</th>\n",
       "      <td>2</td>\n",
       "      <td>20</td>\n",
       "    </tr>\n",
       "    <tr>\n",
       "      <th>2</th>\n",
       "      <td>3</td>\n",
       "      <td>30</td>\n",
       "    </tr>\n",
       "    <tr>\n",
       "      <th>3</th>\n",
       "      <td>4</td>\n",
       "      <td>40</td>\n",
       "    </tr>\n",
       "  </tbody>\n",
       "</table>\n",
       "</div>"
      ],
      "text/plain": [
       "   col1  col2\n",
       "0     1    10\n",
       "1     2    20\n",
       "2     3    30\n",
       "3     4    40"
      ]
     },
     "metadata": {},
     "output_type": "display_data"
    }
   ],
   "source": [
    "# diaply: __repr__, só que sem return\n",
    "\n",
    "display(df)"
   ]
  },
  {
   "cell_type": "code",
   "execution_count": 159,
   "metadata": {
    "ExecuteTime": {
     "end_time": "2021-11-19T01:07:48.888854Z",
     "start_time": "2021-11-19T01:07:48.877861Z"
    }
   },
   "outputs": [
    {
     "name": "stdout",
     "output_type": "stream",
     "text": [
      "   col1  col2\n",
      "0     1    10\n",
      "1     2    20\n",
      "2     3    30\n",
      "3     4    40\n"
     ]
    }
   ],
   "source": [
    "# __str__\n",
    "\n",
    "print(df)"
   ]
  },
  {
   "cell_type": "markdown",
   "metadata": {},
   "source": [
    "_________\n",
    "_________\n",
    "_________"
   ]
  },
  {
   "cell_type": "markdown",
   "metadata": {},
   "source": [
    "### Métodos aritméticos\n",
    "\n",
    "Como o \"+\" é entendido como concatenação entre objetos da classe `str`?\n",
    "\n",
    "Isso se faz através dos __métodos mágicos aritméticos__, que substituem os símbolos aritméticos pelas operações que forem definidas dentro da classe!\n",
    "\n",
    "Temos os seguintes métodos mágicos aritméticos:\n",
    "\n",
    "- \\_\\_add\\__:  soma: +\n",
    "- \\_\\_sub\\__:  subtração: -\n",
    "- \\_\\_mul\\__:  multiplicação: *\n",
    "- \\_\\_truediv\\__:  divisão: /\n",
    "- \\_\\_floordiv\\__:  divisão inteira: //\n",
    "- \\_\\_mod\\__:  resto de divisão: %\n",
    "- \\_\\_pow\\__:  potência: **\n",
    "\n",
    "Vamos, a seguir, definir um método de soma de horas na nossa classe, que vai ser chamado pelo operador aritmético \"+\" (ou seja, será o método `__add__`)"
   ]
  },
  {
   "cell_type": "code",
   "execution_count": 29,
   "metadata": {
    "ExecuteTime": {
     "end_time": "2021-11-19T22:43:28.872911Z",
     "start_time": "2021-11-19T22:43:28.856918Z"
    }
   },
   "outputs": [
    {
     "data": {
      "text/plain": [
       "6"
      ]
     },
     "execution_count": 29,
     "metadata": {},
     "output_type": "execute_result"
    }
   ],
   "source": [
    "4 + 2"
   ]
  },
  {
   "cell_type": "code",
   "execution_count": 33,
   "metadata": {
    "ExecuteTime": {
     "end_time": "2021-11-19T22:44:30.497844Z",
     "start_time": "2021-11-19T22:44:30.487851Z"
    }
   },
   "outputs": [],
   "source": [
    "n1 = 4\n",
    "n2 = 2"
   ]
  },
  {
   "cell_type": "code",
   "execution_count": 36,
   "metadata": {
    "ExecuteTime": {
     "end_time": "2021-11-19T22:45:52.574309Z",
     "start_time": "2021-11-19T22:45:52.552320Z"
    }
   },
   "outputs": [
    {
     "data": {
      "text/plain": [
       "6"
      ]
     },
     "execution_count": 36,
     "metadata": {},
     "output_type": "execute_result"
    }
   ],
   "source": [
    "n1 + n2"
   ]
  },
  {
   "cell_type": "code",
   "execution_count": 35,
   "metadata": {
    "ExecuteTime": {
     "end_time": "2021-11-19T22:45:45.346699Z",
     "start_time": "2021-11-19T22:45:45.330711Z"
    }
   },
   "outputs": [
    {
     "data": {
      "text/plain": [
       "6"
      ]
     },
     "execution_count": 35,
     "metadata": {},
     "output_type": "execute_result"
    }
   ],
   "source": [
    "n1.__add__(n2)"
   ]
  },
  {
   "cell_type": "code",
   "execution_count": 34,
   "metadata": {
    "ExecuteTime": {
     "end_time": "2021-11-19T22:44:30.874618Z",
     "start_time": "2021-11-19T22:44:30.862623Z"
    }
   },
   "outputs": [
    {
     "data": {
      "text/plain": [
       "6"
      ]
     },
     "execution_count": 34,
     "metadata": {},
     "output_type": "execute_result"
    }
   ],
   "source": [
    "n1.__add__(n2)"
   ]
  },
  {
   "cell_type": "code",
   "execution_count": 39,
   "metadata": {
    "ExecuteTime": {
     "end_time": "2021-11-19T22:46:25.563816Z",
     "start_time": "2021-11-19T22:46:25.554821Z"
    }
   },
   "outputs": [
    {
     "data": {
      "text/plain": [
       "2.0"
      ]
     },
     "execution_count": 39,
     "metadata": {},
     "output_type": "execute_result"
    }
   ],
   "source": [
    "n1/n2"
   ]
  },
  {
   "cell_type": "code",
   "execution_count": 40,
   "metadata": {
    "ExecuteTime": {
     "end_time": "2021-11-19T22:46:29.422637Z",
     "start_time": "2021-11-19T22:46:29.410642Z"
    }
   },
   "outputs": [
    {
     "data": {
      "text/plain": [
       "2.0"
      ]
     },
     "execution_count": 40,
     "metadata": {},
     "output_type": "execute_result"
    }
   ],
   "source": [
    "n1/n2"
   ]
  },
  {
   "cell_type": "code",
   "execution_count": 41,
   "metadata": {
    "ExecuteTime": {
     "end_time": "2021-11-19T22:46:40.159036Z",
     "start_time": "2021-11-19T22:46:40.148043Z"
    }
   },
   "outputs": [
    {
     "data": {
      "text/plain": [
       "2.0"
      ]
     },
     "execution_count": 41,
     "metadata": {},
     "output_type": "execute_result"
    }
   ],
   "source": [
    "n1.__truediv__(n2)"
   ]
  },
  {
   "cell_type": "code",
   "execution_count": 42,
   "metadata": {
    "ExecuteTime": {
     "end_time": "2021-11-19T22:46:55.658367Z",
     "start_time": "2021-11-19T22:46:55.645376Z"
    }
   },
   "outputs": [
    {
     "data": {
      "text/plain": [
       "0.5"
      ]
     },
     "execution_count": 42,
     "metadata": {},
     "output_type": "execute_result"
    }
   ],
   "source": [
    "n2.__truediv__(n1)"
   ]
  },
  {
   "cell_type": "markdown",
   "metadata": {},
   "source": [
    "Vamos agora fazer o método mágico \\_\\_add\\_\\_ pra nossa classe!"
   ]
  },
  {
   "cell_type": "code",
   "execution_count": 115,
   "metadata": {
    "ExecuteTime": {
     "end_time": "2021-11-19T23:35:10.650710Z",
     "start_time": "2021-11-19T23:35:10.630722Z"
    }
   },
   "outputs": [],
   "source": [
    "class Horario:\n",
    "    '''\n",
    "    classe pra representar um horario com hora, minuto e segundo\n",
    "    '''\n",
    "    \n",
    "    def __init__(self, hour, minute, sec):\n",
    "        \n",
    "        self.h = hour\n",
    "        self.m = minute\n",
    "        self.s = sec\n",
    "        \n",
    "        \n",
    "    def __repr__(self):\n",
    "        \n",
    "        return f\"{self.h:02d}:{self.m:02d}:{self.s:02d}\"\n",
    "    \n",
    "    \n",
    "    def __str__(self):\n",
    "        \n",
    "        return f\"{self.h:02d}:{self.m:02d}:{self.s:02d}\"\n",
    "            \n",
    "    \n",
    "    def __add__(self, other):\n",
    "        \n",
    "        ho = self.h + other.h\n",
    "        mi = self.m + other.m\n",
    "        se = self.s + other.s\n",
    "\n",
    "        while se >= 60:\n",
    "            mi = mi + 1\n",
    "            se = se - 60\n",
    "\n",
    "        while mi >= 60:\n",
    "            ho = ho + 1\n",
    "            mi = mi - 60\n",
    "\n",
    "        while ho >= 24:\n",
    "            ho = ho - 24\n",
    "\n",
    "        return Horario(ho, mi, se)"
   ]
  },
  {
   "cell_type": "code",
   "execution_count": 95,
   "metadata": {
    "ExecuteTime": {
     "end_time": "2021-11-19T23:17:53.041678Z",
     "start_time": "2021-11-19T23:17:53.022688Z"
    }
   },
   "outputs": [
    {
     "data": {
      "text/plain": [
       "6"
      ]
     },
     "execution_count": 95,
     "metadata": {},
     "output_type": "execute_result"
    }
   ],
   "source": [
    "n1 = 2\n",
    "n2 = 4\n",
    "\n",
    "n1 + n2"
   ]
  },
  {
   "cell_type": "code",
   "execution_count": 96,
   "metadata": {
    "ExecuteTime": {
     "end_time": "2021-11-19T23:17:54.568681Z",
     "start_time": "2021-11-19T23:17:54.557682Z"
    }
   },
   "outputs": [],
   "source": [
    "h1 = Horario(12, 30, 30)\n",
    "h2 = Horario(2, 4, 27)\n",
    "\n",
    "h3 = h1 + h2"
   ]
  },
  {
   "cell_type": "code",
   "execution_count": 97,
   "metadata": {
    "ExecuteTime": {
     "end_time": "2021-11-19T23:17:57.086205Z",
     "start_time": "2021-11-19T23:17:57.069211Z"
    }
   },
   "outputs": [
    {
     "data": {
      "text/plain": [
       "6"
      ]
     },
     "execution_count": 97,
     "metadata": {},
     "output_type": "execute_result"
    }
   ],
   "source": [
    "n1 = 2\n",
    "n2 = 4\n",
    "\n",
    "n3 = n1 + n2\n",
    "\n",
    "n3"
   ]
  },
  {
   "cell_type": "code",
   "execution_count": 98,
   "metadata": {
    "ExecuteTime": {
     "end_time": "2021-11-19T23:17:57.647303Z",
     "start_time": "2021-11-19T23:17:57.637310Z"
    }
   },
   "outputs": [
    {
     "data": {
      "text/plain": [
       "14:34:57"
      ]
     },
     "execution_count": 98,
     "metadata": {},
     "output_type": "execute_result"
    }
   ],
   "source": [
    "h1 = Horario(12, 30, 30)\n",
    "h2 = Horario(2, 4, 27)\n",
    "\n",
    "h3 = h1 + h2\n",
    "\n",
    "h3"
   ]
  },
  {
   "cell_type": "code",
   "execution_count": 110,
   "metadata": {
    "ExecuteTime": {
     "end_time": "2021-11-19T23:28:27.833810Z",
     "start_time": "2021-11-19T23:28:27.824815Z"
    }
   },
   "outputs": [
    {
     "name": "stdout",
     "output_type": "stream",
     "text": [
      "Se eu entrar às 12:30:45\n",
      "E ficar 01:37:58 fora\n",
      "Eu vou voltar pro trabalho às 14:08:43\n"
     ]
    }
   ],
   "source": [
    "entrada_almoco = Horario(12, 30, 45)\n",
    "duracao_almoco = Horario(1, 37, 58)\n",
    "\n",
    "volta_ao_trabalho = entrada_almoco + duracao_almoco\n",
    "\n",
    "print(f\"Se eu entrar às {entrada_almoco}\")\n",
    "print(f\"E ficar {duracao_almoco} fora\")\n",
    "print(f\"Eu vou voltar pro trabalho às {volta_ao_trabalho}\")"
   ]
  },
  {
   "cell_type": "markdown",
   "metadata": {},
   "source": [
    "### Métodos mágicos lógicos\n",
    "\n",
    "Da mesma forma que há metódos mágicos para operações aritméticas, há também para **operações lógicas!**\n",
    "\n",
    "Naturalmente, estes métodos retornaram True ou False.\n",
    "\n",
    "Os métodos lógicos são:\n",
    "\n",
    "- \\_\\_gt\\__: maior que (greater than): >\n",
    "- \\_\\_ge\\__: maior ou igual (greater or equal): >=\n",
    "- \\_\\_lt\\__: menor que (less than): <\n",
    "- \\_\\_le\\__: menor ou igual (less or equal): <=\n",
    "- \\_\\_eq\\__: igual (equal): ==\n",
    "- \\_\\_ne\\__: diferente (not equal): !=\n",
    "\n",
    "\n",
    "Como fazer um método para comparar dois horários?\n"
   ]
  },
  {
   "cell_type": "code",
   "execution_count": 111,
   "metadata": {
    "ExecuteTime": {
     "end_time": "2021-11-19T23:31:59.341843Z",
     "start_time": "2021-11-19T23:31:59.334849Z"
    }
   },
   "outputs": [
    {
     "data": {
      "text/plain": [
       "True"
      ]
     },
     "execution_count": 111,
     "metadata": {},
     "output_type": "execute_result"
    }
   ],
   "source": [
    "n1 = 4\n",
    "n2 = 2\n",
    "\n",
    "n1 > n2"
   ]
  },
  {
   "cell_type": "code",
   "execution_count": 113,
   "metadata": {
    "ExecuteTime": {
     "end_time": "2021-11-19T23:33:52.094119Z",
     "start_time": "2021-11-19T23:33:52.074130Z"
    }
   },
   "outputs": [
    {
     "data": {
      "text/plain": [
       "False"
      ]
     },
     "execution_count": 113,
     "metadata": {},
     "output_type": "execute_result"
    }
   ],
   "source": [
    "a = \"abacate\"\n",
    "b = \"abacaxi\"\n",
    "\n",
    "a > b"
   ]
  },
  {
   "cell_type": "code",
   "execution_count": 114,
   "metadata": {
    "ExecuteTime": {
     "end_time": "2021-11-19T23:34:50.066363Z",
     "start_time": "2021-11-19T23:34:50.049373Z"
    }
   },
   "outputs": [
    {
     "data": {
      "text/plain": [
       "False"
      ]
     },
     "execution_count": 114,
     "metadata": {},
     "output_type": "execute_result"
    }
   ],
   "source": [
    "a.__gt__(b)"
   ]
  },
  {
   "cell_type": "code",
   "execution_count": 134,
   "metadata": {
    "ExecuteTime": {
     "end_time": "2021-11-20T00:17:12.997334Z",
     "start_time": "2021-11-20T00:17:12.967351Z"
    }
   },
   "outputs": [],
   "source": [
    "class Horario:\n",
    "    '''\n",
    "    classe pra representar um horario com hora, minuto e segundo\n",
    "    '''\n",
    "    \n",
    "    def __init__(self, hour, minute, sec):\n",
    "        \n",
    "        self.h = hour\n",
    "        self.m = minute\n",
    "        self.s = sec\n",
    "        \n",
    "        \n",
    "    def __repr__(self):\n",
    "        \n",
    "        return f\"{self.h:02d}:{self.m:02d}:{self.s:02d}\"\n",
    "    \n",
    "    \n",
    "    def __str__(self):\n",
    "        \n",
    "        return f\"{self.h:02d}:{self.m:02d}:{self.s:02d}\"\n",
    "            \n",
    "    \n",
    "    def __add__(self, other):\n",
    "        \n",
    "        ho = self.h + other.h\n",
    "        mi = self.m + other.m\n",
    "        se = self.s + other.s\n",
    "\n",
    "        while se >= 60:\n",
    "            mi = mi + 1\n",
    "            se = se - 60\n",
    "\n",
    "        while mi >= 60:\n",
    "            ho = ho + 1\n",
    "            mi = mi - 60\n",
    "\n",
    "        while ho >= 24:\n",
    "            ho = ho - 24\n",
    "\n",
    "        return Horario(ho, mi, se)\n",
    "    \n",
    "    \n",
    "    def __gt__(self, other):\n",
    "        \n",
    "        if self.h > other.h:\n",
    "            \n",
    "            return True\n",
    "        \n",
    "        elif self.h == other.h and self.m > other.m:\n",
    "            \n",
    "            return True\n",
    "        \n",
    "        elif self.h == other.h and self.m == other.m and self.s > other.s:\n",
    "            \n",
    "            return True\n",
    "        \n",
    "        else:\n",
    "            \n",
    "            return False\n",
    "    "
   ]
  },
  {
   "cell_type": "code",
   "execution_count": 145,
   "metadata": {
    "ExecuteTime": {
     "end_time": "2021-11-20T00:20:19.827086Z",
     "start_time": "2021-11-20T00:20:19.819087Z"
    }
   },
   "outputs": [],
   "source": [
    "h1 = Horario(10, 14, 35)\n",
    "h2 = Horario(12, 14, 27)"
   ]
  },
  {
   "cell_type": "code",
   "execution_count": 147,
   "metadata": {
    "ExecuteTime": {
     "end_time": "2021-11-20T00:20:31.452247Z",
     "start_time": "2021-11-20T00:20:31.440255Z"
    }
   },
   "outputs": [
    {
     "data": {
      "text/plain": [
       "False"
      ]
     },
     "execution_count": 147,
     "metadata": {},
     "output_type": "execute_result"
    }
   ],
   "source": [
    "h1 > h2"
   ]
  },
  {
   "cell_type": "code",
   "execution_count": 149,
   "metadata": {
    "ExecuteTime": {
     "end_time": "2021-11-20T00:20:43.113641Z",
     "start_time": "2021-11-20T00:20:43.092657Z"
    }
   },
   "outputs": [
    {
     "data": {
      "text/plain": [
       "True"
      ]
     },
     "execution_count": 149,
     "metadata": {},
     "output_type": "execute_result"
    }
   ],
   "source": [
    "h1 < h2"
   ]
  },
  {
   "cell_type": "code",
   "execution_count": 142,
   "metadata": {
    "ExecuteTime": {
     "end_time": "2021-11-20T00:19:10.227757Z",
     "start_time": "2021-11-20T00:19:10.218763Z"
    }
   },
   "outputs": [
    {
     "data": {
      "text/plain": [
       "False"
      ]
     },
     "execution_count": 142,
     "metadata": {},
     "output_type": "execute_result"
    }
   ],
   "source": [
    "h1 == h2"
   ]
  },
  {
   "cell_type": "code",
   "execution_count": 143,
   "metadata": {
    "ExecuteTime": {
     "end_time": "2021-11-20T00:19:17.544818Z",
     "start_time": "2021-11-20T00:19:17.532827Z"
    }
   },
   "outputs": [
    {
     "data": {
      "text/plain": [
       "True"
      ]
     },
     "execution_count": 143,
     "metadata": {},
     "output_type": "execute_result"
    }
   ],
   "source": [
    "h1 != h2"
   ]
  },
  {
   "cell_type": "code",
   "execution_count": 150,
   "metadata": {
    "ExecuteTime": {
     "end_time": "2021-11-20T00:21:16.530226Z",
     "start_time": "2021-11-20T00:21:16.509240Z"
    }
   },
   "outputs": [
    {
     "data": {
      "text/plain": [
       "False"
      ]
     },
     "execution_count": 150,
     "metadata": {},
     "output_type": "execute_result"
    }
   ],
   "source": [
    "2 < 2"
   ]
  },
  {
   "cell_type": "code",
   "execution_count": 151,
   "metadata": {
    "ExecuteTime": {
     "end_time": "2021-11-20T00:21:20.771780Z",
     "start_time": "2021-11-20T00:21:20.736803Z"
    }
   },
   "outputs": [
    {
     "data": {
      "text/plain": [
       "False"
      ]
     },
     "execution_count": 151,
     "metadata": {},
     "output_type": "execute_result"
    }
   ],
   "source": [
    "2 > 2"
   ]
  },
  {
   "cell_type": "code",
   "execution_count": 152,
   "metadata": {
    "ExecuteTime": {
     "end_time": "2021-11-20T00:21:28.533354Z",
     "start_time": "2021-11-20T00:21:28.522361Z"
    }
   },
   "outputs": [
    {
     "data": {
      "text/plain": [
       "True"
      ]
     },
     "execution_count": 152,
     "metadata": {},
     "output_type": "execute_result"
    }
   ],
   "source": [
    "2 == 2"
   ]
  },
  {
   "cell_type": "markdown",
   "metadata": {},
   "source": [
    "___\n",
    "___\n",
    "___"
   ]
  }
 ],
 "metadata": {
  "kernelspec": {
   "display_name": "Python 3",
   "language": "python",
   "name": "python3"
  },
  "language_info": {
   "codemirror_mode": {
    "name": "ipython",
    "version": 3
   },
   "file_extension": ".py",
   "mimetype": "text/x-python",
   "name": "python",
   "nbconvert_exporter": "python",
   "pygments_lexer": "ipython3",
   "version": "3.8.3"
  }
 },
 "nbformat": 4,
 "nbformat_minor": 4
}
