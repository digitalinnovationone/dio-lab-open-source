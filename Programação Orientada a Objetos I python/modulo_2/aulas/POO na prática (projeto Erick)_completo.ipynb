{
 "cells": [
  {
   "cell_type": "code",
   "execution_count": 1,
   "metadata": {},
   "outputs": [],
   "source": [
    "class RegistroBancoDados:\n",
    "    def __init__(self, identificador):\n",
    "        self.identificador = identificador\n",
    "    \n",
    "    def gravar(self):\n",
    "        print('gravando os dados no banco de dados')\n",
    "        print(self)\n",
    "\n",
    "        \n",
    "class Publicacao(RegistroBancoDados):\n",
    "    def __init__(self, identificador, nome, qtd_paginas):\n",
    "        self.nome = nome\n",
    "        self.qtd_paginas = qtd_paginas\n",
    "        super().__init__(identificador)\n",
    "        \n",
    "    def __str__(self):\n",
    "        return str(vars(self))\n",
    "        \n",
    "        \n",
    "class Revista(Publicacao):\n",
    "    def __init__(self, identificador, nome, qtd_paginas, periodicidade):\n",
    "        self.periodicidade = periodicidade\n",
    "        super().__init__(identificador, nome, qtd_paginas)\n",
    "\n",
    "        \n",
    "class Livro(Publicacao):\n",
    "    def __init__(self, identificador, nome, qtd_paginas, tipo_capa, autor):\n",
    "        self.tipo_capa = tipo_capa\n",
    "        self.autor = autor\n",
    "        super().__init__(identificador, nome, qtd_paginas)\n",
    "      \n",
    "    \n",
    "class Colecao:\n",
    "    def __init__(self):\n",
    "        self.itens = []\n",
    "        \n",
    "    def adicionar(self, item):\n",
    "        self.itens.append(item)\n",
    "    \n",
    "    def gravar(self):\n",
    "        for item in self.itens: \n",
    "            item.gravar()\n",
    "    \n",
    "    \n",
    "class LivroColecao(Colecao):\n",
    "    def __init__(self):\n",
    "        super().__init__()            \n",
    "    \n",
    "    def buscar_todos_itens(self):\n",
    "        # buscaria do banco de dados\n",
    "        if not self.itens:\n",
    "            self.itens = [\n",
    "                Livro('2190121', 'O Jogo Infinito', 100, 'dura', 'Simon Sinek'),\n",
    "                Livro('8432042', 'O Guia do Mochileiro das Galaxias', 200, 'flexivel', 'Douglas Adams'),\n",
    "                Livro('4372894', 'Code', 300, 'flexivel', 'Charles Petzold'),            \n",
    "            ]\n",
    "        return [str(item) for item in self.itens]\n",
    "    \n",
    "    \n",
    "class RevistaColecao(Colecao):\n",
    "    \n",
    "    def buscar_todos_itens(self):\n",
    "        if not self.itens:\n",
    "            self.itens = [\n",
    "                Revista('EPC', 'Epoca', 100, 'semanal'),\n",
    "                Revista('EXA', 'Exame', 90, 'quinzenal'),\n",
    "                Revista('CPR', 'Capricho', 50, 'semanal'),\n",
    "            ]\n",
    "        return [str(item) for item in self.itens]\n",
    "    \n",
    "    \n",
    "    "
   ]
  },
  {
   "cell_type": "code",
   "execution_count": 2,
   "metadata": {},
   "outputs": [
    {
     "name": "stdout",
     "output_type": "stream",
     "text": [
      "{'periodicidade': 'Mensal', 'nome': 'Superinteressante', 'qtd_paginas': 100, 'identificador': '123'}\n"
     ]
    }
   ],
   "source": [
    "revista = Revista(identificador='123', nome=\"Superinteressante\", qtd_paginas=100, periodicidade=\"Mensal\")\n",
    "print(str(revista))"
   ]
  },
  {
   "cell_type": "code",
   "execution_count": 3,
   "metadata": {},
   "outputs": [
    {
     "name": "stdout",
     "output_type": "stream",
     "text": [
      "{'tipo_capa': 'dura', 'autor': 'Nassim Taleb', 'nome': 'Antifrágil', 'qtd_paginas': 700, 'identificador': '7841235'}\n"
     ]
    }
   ],
   "source": [
    "livro = Livro(identificador='7841235', nome=\"Antifrágil\", qtd_paginas=700, tipo_capa='dura', autor='Nassim Taleb')\n",
    "print(str(livro))"
   ]
  },
  {
   "cell_type": "code",
   "execution_count": 6,
   "metadata": {},
   "outputs": [
    {
     "data": {
      "text/plain": [
       "[\"{'tipo_capa': 'dura', 'autor': 'Simon Sinek', 'nome': 'O Jogo Infinito', 'qtd_paginas': 100, 'identificador': '2190121'}\",\n",
       " \"{'tipo_capa': 'flexivel', 'autor': 'Douglas Adams', 'nome': 'O Guia do Mochileiro das Galaxias', 'qtd_paginas': 200, 'identificador': '8432042'}\",\n",
       " \"{'tipo_capa': 'flexivel', 'autor': 'Charles Petzold', 'nome': 'Code', 'qtd_paginas': 300, 'identificador': '4372894'}\"]"
      ]
     },
     "execution_count": 6,
     "metadata": {},
     "output_type": "execute_result"
    }
   ],
   "source": [
    "colecao_livro = LivroColecao()\n",
    "colecao_livro.buscar_todos_itens()"
   ]
  },
  {
   "cell_type": "code",
   "execution_count": 7,
   "metadata": {
    "scrolled": true
   },
   "outputs": [
    {
     "data": {
      "text/plain": [
       "[\"{'periodicidade': 'semanal', 'nome': 'Epoca', 'qtd_paginas': 100, 'identificador': 'EPC'}\",\n",
       " \"{'periodicidade': 'quinzenal', 'nome': 'Exame', 'qtd_paginas': 90, 'identificador': 'EXA'}\",\n",
       " \"{'periodicidade': 'semanal', 'nome': 'Capricho', 'qtd_paginas': 50, 'identificador': 'CPR'}\"]"
      ]
     },
     "execution_count": 7,
     "metadata": {},
     "output_type": "execute_result"
    }
   ],
   "source": [
    "colecao_revista = RevistaColecao()\n",
    "colecao_revista.buscar_todos_itens()"
   ]
  },
  {
   "cell_type": "code",
   "execution_count": 8,
   "metadata": {},
   "outputs": [
    {
     "name": "stdout",
     "output_type": "stream",
     "text": [
      "gravando os dados no banco de dados\n",
      "{'tipo_capa': 'dura', 'autor': 'Nassim Taleb', 'nome': 'Iludidos pelo acaso', 'qtd_paginas': 700, 'identificador': '7841235'}\n"
     ]
    }
   ],
   "source": [
    "livro.nome = 'Iludidos pelo acaso'\n",
    "livro.gravar()"
   ]
  },
  {
   "cell_type": "code",
   "execution_count": 9,
   "metadata": {},
   "outputs": [
    {
     "data": {
      "text/plain": [
       "[\"{'periodicidade': 'semanal', 'nome': 'Epoca', 'qtd_paginas': 100, 'identificador': 'EPC'}\",\n",
       " \"{'periodicidade': 'quinzenal', 'nome': 'Exame', 'qtd_paginas': 90, 'identificador': 'EXA'}\",\n",
       " \"{'periodicidade': 'semanal', 'nome': 'Capricho', 'qtd_paginas': 50, 'identificador': 'CPR'}\",\n",
       " \"{'periodicidade': 'eventual', 'nome': 'Placar', 'qtd_paginas': 130, 'identificador': 'PLC'}\"]"
      ]
     },
     "execution_count": 9,
     "metadata": {},
     "output_type": "execute_result"
    }
   ],
   "source": [
    "nova_revista = Revista(\"PLC\", 'Placar', 130, 'eventual')\n",
    "colecao_revista.adicionar(nova_revista)\n",
    "colecao_revista.buscar_todos_itens()"
   ]
  },
  {
   "cell_type": "code",
   "execution_count": 10,
   "metadata": {},
   "outputs": [
    {
     "name": "stdout",
     "output_type": "stream",
     "text": [
      "gravando os dados no banco de dados\n",
      "{'periodicidade': 'semanal', 'nome': 'Epoca', 'qtd_paginas': 100, 'identificador': 'EPC'}\n",
      "gravando os dados no banco de dados\n",
      "{'periodicidade': 'quinzenal', 'nome': 'Exame', 'qtd_paginas': 90, 'identificador': 'EXA'}\n",
      "gravando os dados no banco de dados\n",
      "{'periodicidade': 'semanal', 'nome': 'Capricho', 'qtd_paginas': 50, 'identificador': 'CPR'}\n",
      "gravando os dados no banco de dados\n",
      "{'periodicidade': 'eventual', 'nome': 'Placar', 'qtd_paginas': 130, 'identificador': 'PLC'}\n"
     ]
    }
   ],
   "source": [
    "colecao_revista.gravar()"
   ]
  }
 ],
 "metadata": {
  "kernelspec": {
   "display_name": "Python 3",
   "language": "python",
   "name": "python3"
  },
  "language_info": {
   "codemirror_mode": {
    "name": "ipython",
    "version": 3
   },
   "file_extension": ".py",
   "mimetype": "text/x-python",
   "name": "python",
   "nbconvert_exporter": "python",
   "pygments_lexer": "ipython3",
   "version": "3.8.3"
  }
 },
 "nbformat": 4,
 "nbformat_minor": 5
}
