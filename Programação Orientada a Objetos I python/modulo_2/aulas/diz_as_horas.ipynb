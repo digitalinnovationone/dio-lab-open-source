{
 "cells": [
  {
   "cell_type": "code",
   "execution_count": 5,
   "metadata": {
    "ExecuteTime": {
     "end_time": "2021-11-26T00:09:29.788766Z",
     "start_time": "2021-11-26T00:09:27.306762Z"
    }
   },
   "outputs": [
    {
     "name": "stdout",
     "output_type": "stream",
     "text": [
      "\n",
      "Qual é o seu nome? André\n",
      "\n",
      "Olá, André! Tudo bom?\n",
      "\n",
      "Agora é: 2021-11-25 21:09:27.309764\n",
      "\n",
      "Até mais!\n"
     ]
    }
   ],
   "source": [
    "import datetime as dt\n",
    "\n",
    "hoje = dt.datetime.now()\n",
    "\n",
    "nome = input(\"\\nQual é o seu nome? \")\n",
    "\n",
    "print(f\"\\nOlá, {nome}! Tudo bom?\")\n",
    "\n",
    "print(f\"\\nAgora é: {hoje}\")\n",
    "\n",
    "print(\"\\nAté mais!\")"
   ]
  }
 ],
 "metadata": {
  "kernelspec": {
   "display_name": "Python 3",
   "language": "python",
   "name": "python3"
  },
  "language_info": {
   "codemirror_mode": {
    "name": "ipython",
    "version": 3
   },
   "file_extension": ".py",
   "mimetype": "text/x-python",
   "name": "python",
   "nbconvert_exporter": "python",
   "pygments_lexer": "ipython3",
   "version": "3.8.3"
  }
 },
 "nbformat": 4,
 "nbformat_minor": 4
}
