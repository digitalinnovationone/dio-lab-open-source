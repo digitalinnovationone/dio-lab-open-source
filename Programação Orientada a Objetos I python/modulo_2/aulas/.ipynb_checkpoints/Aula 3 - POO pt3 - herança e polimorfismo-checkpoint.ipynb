{
 "cells": [
  {
   "cell_type": "markdown",
   "metadata": {},
   "source": [
    "# Programação Orientada a Objetos\n",
    "\n",
    "## Parte 3 - Herança e Polimorfismo\n",
    "__________\n",
    "\n",
    "Na aula de hoje, vamos explorar os seguintes tópicos em Python:\n",
    "\n",
    "- 1) Herança e Polimorfismo.\n",
    "\n",
    "__________"
   ]
  },
  {
   "cell_type": "markdown",
   "metadata": {},
   "source": [
    "___\n",
    "___\n",
    "___"
   ]
  },
  {
   "cell_type": "markdown",
   "metadata": {},
   "source": [
    "## 1) Herança e Polimorfismo"
   ]
  },
  {
   "cell_type": "markdown",
   "metadata": {},
   "source": [
    "Imagine que você tenha várias classes com os mesmos atributos, os mesmos métodos e mesmos parâmetros. \n",
    "\n",
    "Reescrevê-los várias vezes é um desperdício de tempo! Além disso, se pecisarmos atualizar um método, precisaremos fazer a modificação múltiplas vezes. \n",
    "\n",
    "Para solucionar esta questão, trateremos dos conceitos de **herança** e **polimorfismo**.\n"
   ]
  },
  {
   "cell_type": "markdown",
   "metadata": {},
   "source": [
    "### Herança\n",
    "\n",
    "É possível criar **classes filhas** que herdem atributos e métodos de uma **classe mãe** através de **herança**.\n",
    "\n",
    "Para herdar, colocamos o **nome da classe mãe entre parênteses** na frente do nome da classe filha em sua definição.\n",
    "\n",
    "Se necessário, podemos redefinir um método na classe filha."
   ]
  },
  {
   "cell_type": "code",
   "execution_count": 1,
   "metadata": {
    "ExecuteTime": {
     "end_time": "2021-11-23T22:29:02.953692Z",
     "start_time": "2021-11-23T22:29:02.939701Z"
    }
   },
   "outputs": [],
   "source": [
    "class Animal:\n",
    "    \n",
    "    def __init__(self, name):\n",
    "        \n",
    "        self.nome = name\n",
    "        \n",
    "    def faz_barulho(self):\n",
    "        \n",
    "        print(f\"O animal {self.nome} faz barulho.\")\n"
   ]
  },
  {
   "cell_type": "code",
   "execution_count": 2,
   "metadata": {
    "ExecuteTime": {
     "end_time": "2021-11-23T22:29:22.988314Z",
     "start_time": "2021-11-23T22:29:22.973319Z"
    }
   },
   "outputs": [],
   "source": [
    "a1 = Animal(\"bicho\")"
   ]
  },
  {
   "cell_type": "code",
   "execution_count": 3,
   "metadata": {
    "ExecuteTime": {
     "end_time": "2021-11-23T22:29:25.392478Z",
     "start_time": "2021-11-23T22:29:25.373508Z"
    }
   },
   "outputs": [
    {
     "data": {
      "text/plain": [
       "'bicho'"
      ]
     },
     "execution_count": 3,
     "metadata": {},
     "output_type": "execute_result"
    }
   ],
   "source": [
    "a1.nome"
   ]
  },
  {
   "cell_type": "code",
   "execution_count": 4,
   "metadata": {
    "ExecuteTime": {
     "end_time": "2021-11-23T22:29:32.686582Z",
     "start_time": "2021-11-23T22:29:32.664595Z"
    }
   },
   "outputs": [
    {
     "name": "stdout",
     "output_type": "stream",
     "text": [
      "O animal bicho faz barulho.\n"
     ]
    }
   ],
   "source": [
    "a1.faz_barulho()"
   ]
  },
  {
   "cell_type": "code",
   "execution_count": null,
   "metadata": {},
   "outputs": [],
   "source": [
    "# caso eu não quise herdar...\n",
    "\n",
    "class Cachorro:\n",
    "    \n",
    "    def __init__(self, name):\n",
    "        \n",
    "        self.nome = name\n",
    "        \n",
    "    def faz_barulho(self):\n",
    "        \n",
    "        print(f\"O animal {self.nome} faz barulho.\")\n",
    "\n",
    "    def late(self):\n",
    "        \n",
    "        print(f\"O cachorro {self.nome} faz au au.\")"
   ]
  },
  {
   "cell_type": "code",
   "execution_count": 5,
   "metadata": {
    "ExecuteTime": {
     "end_time": "2021-11-23T22:32:56.345661Z",
     "start_time": "2021-11-23T22:32:56.324672Z"
    }
   },
   "outputs": [],
   "source": [
    "# usando herança...\n",
    "\n",
    "class Cachorro(Animal):\n",
    "    \n",
    "    def late(self):\n",
    "        \n",
    "        print(f\"O cachorro {self.nome} faz au au.\")"
   ]
  },
  {
   "cell_type": "code",
   "execution_count": 6,
   "metadata": {
    "ExecuteTime": {
     "end_time": "2021-11-23T22:33:35.486465Z",
     "start_time": "2021-11-23T22:33:35.472474Z"
    }
   },
   "outputs": [],
   "source": [
    "c1 = Cachorro(\"bowie\")"
   ]
  },
  {
   "cell_type": "code",
   "execution_count": 7,
   "metadata": {
    "ExecuteTime": {
     "end_time": "2021-11-23T22:33:44.849637Z",
     "start_time": "2021-11-23T22:33:44.830651Z"
    }
   },
   "outputs": [
    {
     "data": {
      "text/plain": [
       "'bowie'"
      ]
     },
     "execution_count": 7,
     "metadata": {},
     "output_type": "execute_result"
    }
   ],
   "source": [
    "c1.nome"
   ]
  },
  {
   "cell_type": "code",
   "execution_count": 26,
   "metadata": {
    "ExecuteTime": {
     "end_time": "2021-11-23T22:48:54.442035Z",
     "start_time": "2021-11-23T22:48:54.426040Z"
    }
   },
   "outputs": [
    {
     "data": {
      "text/plain": [
       "{'nome': 'bowie'}"
      ]
     },
     "execution_count": 26,
     "metadata": {},
     "output_type": "execute_result"
    }
   ],
   "source": [
    "vars(c1)"
   ]
  },
  {
   "cell_type": "code",
   "execution_count": 8,
   "metadata": {
    "ExecuteTime": {
     "end_time": "2021-11-23T22:33:51.477773Z",
     "start_time": "2021-11-23T22:33:51.464762Z"
    }
   },
   "outputs": [
    {
     "name": "stdout",
     "output_type": "stream",
     "text": [
      "O animal bowie faz barulho.\n"
     ]
    }
   ],
   "source": [
    "c1.faz_barulho()"
   ]
  },
  {
   "cell_type": "code",
   "execution_count": 9,
   "metadata": {
    "ExecuteTime": {
     "end_time": "2021-11-23T22:33:59.248580Z",
     "start_time": "2021-11-23T22:33:59.233590Z"
    }
   },
   "outputs": [
    {
     "name": "stdout",
     "output_type": "stream",
     "text": [
      "O cachorro bowie faz au au.\n"
     ]
    }
   ],
   "source": [
    "c1.late()"
   ]
  },
  {
   "cell_type": "markdown",
   "metadata": {},
   "source": [
    "Avaliação de polimorfismo (poli = muitos; morfismo = formas) quanto à classe:"
   ]
  },
  {
   "cell_type": "code",
   "execution_count": 10,
   "metadata": {
    "ExecuteTime": {
     "end_time": "2021-11-23T22:37:47.270608Z",
     "start_time": "2021-11-23T22:37:47.256609Z"
    }
   },
   "outputs": [
    {
     "data": {
      "text/plain": [
       "True"
      ]
     },
     "execution_count": 10,
     "metadata": {},
     "output_type": "execute_result"
    }
   ],
   "source": [
    "# objeto c1 é da classe Cachorro?\n",
    "\n",
    "isinstance(c1, Cachorro)"
   ]
  },
  {
   "cell_type": "code",
   "execution_count": 11,
   "metadata": {
    "ExecuteTime": {
     "end_time": "2021-11-23T22:38:25.165852Z",
     "start_time": "2021-11-23T22:38:25.150860Z"
    }
   },
   "outputs": [
    {
     "data": {
      "text/plain": [
       "True"
      ]
     },
     "execution_count": 11,
     "metadata": {},
     "output_type": "execute_result"
    }
   ],
   "source": [
    "# objeto c1 é da classe Animal?\n",
    "\n",
    "isinstance(c1, Animal)"
   ]
  },
  {
   "cell_type": "code",
   "execution_count": 12,
   "metadata": {
    "ExecuteTime": {
     "end_time": "2021-11-23T22:40:23.425755Z",
     "start_time": "2021-11-23T22:40:23.412763Z"
    }
   },
   "outputs": [
    {
     "data": {
      "text/plain": [
       "True"
      ]
     },
     "execution_count": 12,
     "metadata": {},
     "output_type": "execute_result"
    }
   ],
   "source": [
    "# objeto a1 é da classe Animal?\n",
    "\n",
    "isinstance(a1, Animal)"
   ]
  },
  {
   "cell_type": "code",
   "execution_count": 13,
   "metadata": {
    "ExecuteTime": {
     "end_time": "2021-11-23T22:40:29.365651Z",
     "start_time": "2021-11-23T22:40:29.355658Z"
    }
   },
   "outputs": [
    {
     "data": {
      "text/plain": [
       "False"
      ]
     },
     "execution_count": 13,
     "metadata": {},
     "output_type": "execute_result"
    }
   ],
   "source": [
    "# objeto a1 é da classe Cachorro?\n",
    "\n",
    "isinstance(a1, Cachorro)"
   ]
  },
  {
   "cell_type": "markdown",
   "metadata": {},
   "source": [
    "Podemos, sem problemas, fazer heranças de \"muitos níveis\"\n",
    "\n",
    "<img src=https://i.pinimg.com/originals/3c/4b/13/3c4b13453e894b2278f83107c1346f0b.gif width=300>"
   ]
  },
  {
   "cell_type": "code",
   "execution_count": 14,
   "metadata": {
    "ExecuteTime": {
     "end_time": "2021-11-23T22:42:40.371631Z",
     "start_time": "2021-11-23T22:42:40.354638Z"
    }
   },
   "outputs": [],
   "source": [
    "class Poodle(Cachorro):\n",
    "    \n",
    "    def fala_poodle(self):\n",
    "        \n",
    "        print(\"Oi, sou um poodle\")"
   ]
  },
  {
   "cell_type": "code",
   "execution_count": 15,
   "metadata": {
    "ExecuteTime": {
     "end_time": "2021-11-23T22:42:43.379955Z",
     "start_time": "2021-11-23T22:42:43.373958Z"
    }
   },
   "outputs": [],
   "source": [
    "p1 = Poodle(\"leo\")"
   ]
  },
  {
   "cell_type": "code",
   "execution_count": 16,
   "metadata": {
    "ExecuteTime": {
     "end_time": "2021-11-23T22:42:47.244987Z",
     "start_time": "2021-11-23T22:42:47.234990Z"
    }
   },
   "outputs": [
    {
     "data": {
      "text/plain": [
       "'leo'"
      ]
     },
     "execution_count": 16,
     "metadata": {},
     "output_type": "execute_result"
    }
   ],
   "source": [
    "p1.nome"
   ]
  },
  {
   "cell_type": "code",
   "execution_count": 17,
   "metadata": {
    "ExecuteTime": {
     "end_time": "2021-11-23T22:42:49.507581Z",
     "start_time": "2021-11-23T22:42:49.492590Z"
    }
   },
   "outputs": [
    {
     "name": "stdout",
     "output_type": "stream",
     "text": [
      "O animal leo faz barulho.\n"
     ]
    }
   ],
   "source": [
    "p1.faz_barulho()"
   ]
  },
  {
   "cell_type": "code",
   "execution_count": 18,
   "metadata": {
    "ExecuteTime": {
     "end_time": "2021-11-23T22:42:53.838687Z",
     "start_time": "2021-11-23T22:42:53.826692Z"
    }
   },
   "outputs": [
    {
     "name": "stdout",
     "output_type": "stream",
     "text": [
      "O cachorro leo faz au au.\n"
     ]
    }
   ],
   "source": [
    "p1.late()"
   ]
  },
  {
   "cell_type": "code",
   "execution_count": 19,
   "metadata": {
    "ExecuteTime": {
     "end_time": "2021-11-23T22:42:59.516059Z",
     "start_time": "2021-11-23T22:42:59.499070Z"
    }
   },
   "outputs": [
    {
     "name": "stdout",
     "output_type": "stream",
     "text": [
      "Oi, sou um poodle\n"
     ]
    }
   ],
   "source": [
    "p1.fala_poodle()"
   ]
  },
  {
   "cell_type": "code",
   "execution_count": 20,
   "metadata": {
    "ExecuteTime": {
     "end_time": "2021-11-23T22:43:06.600837Z",
     "start_time": "2021-11-23T22:43:06.586825Z"
    }
   },
   "outputs": [
    {
     "data": {
      "text/plain": [
       "True"
      ]
     },
     "execution_count": 20,
     "metadata": {},
     "output_type": "execute_result"
    }
   ],
   "source": [
    "isinstance(p1, Poodle)"
   ]
  },
  {
   "cell_type": "code",
   "execution_count": 21,
   "metadata": {
    "ExecuteTime": {
     "end_time": "2021-11-23T22:43:08.723967Z",
     "start_time": "2021-11-23T22:43:08.702959Z"
    }
   },
   "outputs": [
    {
     "data": {
      "text/plain": [
       "True"
      ]
     },
     "execution_count": 21,
     "metadata": {},
     "output_type": "execute_result"
    }
   ],
   "source": [
    "isinstance(p1, Cachorro)"
   ]
  },
  {
   "cell_type": "code",
   "execution_count": 22,
   "metadata": {
    "ExecuteTime": {
     "end_time": "2021-11-23T22:43:10.329513Z",
     "start_time": "2021-11-23T22:43:10.308526Z"
    }
   },
   "outputs": [
    {
     "data": {
      "text/plain": [
       "True"
      ]
     },
     "execution_count": 22,
     "metadata": {},
     "output_type": "execute_result"
    }
   ],
   "source": [
    "isinstance(p1, Animal)"
   ]
  },
  {
   "cell_type": "code",
   "execution_count": 23,
   "metadata": {
    "ExecuteTime": {
     "end_time": "2021-11-23T22:43:16.368322Z",
     "start_time": "2021-11-23T22:43:16.349333Z"
    }
   },
   "outputs": [
    {
     "data": {
      "text/plain": [
       "True"
      ]
     },
     "execution_count": 23,
     "metadata": {},
     "output_type": "execute_result"
    }
   ],
   "source": [
    "isinstance(c1, Cachorro)"
   ]
  },
  {
   "cell_type": "code",
   "execution_count": 24,
   "metadata": {
    "ExecuteTime": {
     "end_time": "2021-11-23T22:43:18.140060Z",
     "start_time": "2021-11-23T22:43:18.124068Z"
    }
   },
   "outputs": [
    {
     "data": {
      "text/plain": [
       "False"
      ]
     },
     "execution_count": 24,
     "metadata": {},
     "output_type": "execute_result"
    }
   ],
   "source": [
    "isinstance(c1, Poodle)"
   ]
  },
  {
   "cell_type": "markdown",
   "metadata": {},
   "source": [
    "Imagine agora que queremos herdar um método **parcialmente**, com a possibilidade de alterá-lo.\n",
    "\n",
    "(Isso é importante, pois se apenas copiássemos o método original, qualquer alteração nele teria de ser feita em todos os locais onde ele é copiado...)\n",
    "\n",
    "Para isso, usamos o método `super()`"
   ]
  },
  {
   "cell_type": "code",
   "execution_count": 42,
   "metadata": {
    "ExecuteTime": {
     "end_time": "2021-11-23T23:06:57.162293Z",
     "start_time": "2021-11-23T23:06:57.141285Z"
    }
   },
   "outputs": [],
   "source": [
    "class Animal:\n",
    "    \n",
    "    def __init__(self, name, breed):\n",
    "        \n",
    "        self.nome = name\n",
    "        self.raca = breed\n",
    "        \n",
    "    def faz_barulho(self):\n",
    "        \n",
    "        print(f\"O animal {self.nome} faz barulho.\")"
   ]
  },
  {
   "cell_type": "code",
   "execution_count": 40,
   "metadata": {
    "ExecuteTime": {
     "end_time": "2021-11-23T23:04:13.797348Z",
     "start_time": "2021-11-23T23:04:13.784354Z"
    }
   },
   "outputs": [],
   "source": [
    "class Cachorro(Animal):\n",
    "    \n",
    "    def __init__(self):\n",
    "        \n",
    "        super().__init__(input(\"Digite o nome: \"), input(\"Digite a raça: \"))\n",
    "        \n",
    "        self.cor = input(\"Digite a cor: \")"
   ]
  },
  {
   "cell_type": "code",
   "execution_count": 41,
   "metadata": {
    "ExecuteTime": {
     "end_time": "2021-11-23T23:04:40.786034Z",
     "start_time": "2021-11-23T23:04:18.535926Z"
    }
   },
   "outputs": [
    {
     "name": "stdout",
     "output_type": "stream",
     "text": [
      "Digite o nome: bowie\n",
      "Digite a raça: poodle\n",
      "Digite a cor: marrom\n"
     ]
    },
    {
     "data": {
      "text/plain": [
       "{'nome': 'bowie', 'raca': 'poodle', 'cor': 'marrom'}"
      ]
     },
     "execution_count": 41,
     "metadata": {},
     "output_type": "execute_result"
    }
   ],
   "source": [
    "bowie = Cachorro()\n",
    "\n",
    "vars(bowie)"
   ]
  },
  {
   "cell_type": "code",
   "execution_count": 48,
   "metadata": {
    "ExecuteTime": {
     "end_time": "2021-11-23T23:15:44.766192Z",
     "start_time": "2021-11-23T23:15:44.754201Z"
    }
   },
   "outputs": [],
   "source": [
    "class Animal:\n",
    "    \n",
    "    def __init__(self):\n",
    "        \n",
    "        self.nome = input(\"Digite o nome: \")\n",
    "        self.raca = input(\"Digite a raça: \")\n",
    "        \n",
    "    def faz_barulho(self):\n",
    "        \n",
    "        print(f\"O animal {self.nome} faz barulho.\")"
   ]
  },
  {
   "cell_type": "code",
   "execution_count": 49,
   "metadata": {
    "ExecuteTime": {
     "end_time": "2021-11-23T23:15:46.212890Z",
     "start_time": "2021-11-23T23:15:46.207893Z"
    }
   },
   "outputs": [],
   "source": [
    "class Cachorro(Animal):\n",
    "    \n",
    "    def __init__(self):\n",
    "        \n",
    "        super().__init__()\n",
    "        \n",
    "        self.cor = input(\"Digite a cor: \")"
   ]
  },
  {
   "cell_type": "code",
   "execution_count": 47,
   "metadata": {
    "ExecuteTime": {
     "end_time": "2021-11-23T23:13:15.139685Z",
     "start_time": "2021-11-23T23:13:03.283805Z"
    }
   },
   "outputs": [
    {
     "name": "stdout",
     "output_type": "stream",
     "text": [
      "Digite o nome: bowie segundo\n",
      "Digite a raça: poodle\n",
      "Digite a cor: preto\n"
     ]
    },
    {
     "data": {
      "text/plain": [
       "{'nome': 'bowie segundo', 'raca': 'poodle', 'cor': 'preto'}"
      ]
     },
     "execution_count": 47,
     "metadata": {},
     "output_type": "execute_result"
    }
   ],
   "source": [
    "bowie2 = Cachorro()\n",
    "\n",
    "vars(bowie2)"
   ]
  },
  {
   "cell_type": "code",
   "execution_count": 104,
   "metadata": {
    "ExecuteTime": {
     "end_time": "2021-11-23T23:30:39.414727Z",
     "start_time": "2021-11-23T23:30:39.404731Z"
    }
   },
   "outputs": [],
   "source": [
    "class Animal:\n",
    "    \n",
    "    def __init__(self, name, breed):\n",
    "        \n",
    "        self.nome = name\n",
    "        self.raca = breed\n",
    "        \n",
    "    def faz_barulho(self, n):\n",
    "        \n",
    "        print(f\"O animal {self.nome} faz barulho.\")\n",
    "        \n",
    "        fatorial = 1\n",
    "        \n",
    "        for i in range(1, n+1):\n",
    "            \n",
    "            fatorial = fatorial*i\n",
    "            \n",
    "        print(f\"\\nAliás, {n}! = {fatorial}\\n\")"
   ]
  },
  {
   "cell_type": "code",
   "execution_count": 123,
   "metadata": {
    "ExecuteTime": {
     "end_time": "2021-11-24T00:02:56.127379Z",
     "start_time": "2021-11-24T00:02:56.109388Z"
    }
   },
   "outputs": [],
   "source": [
    "class Cachorro(Animal):\n",
    "    \n",
    "    def __init__(self, name, breed, color, prof):\n",
    "        \n",
    "        super().__init__(name, breed)\n",
    "        \n",
    "        self.cor = color\n",
    "        self.profissao = prof\n",
    "        \n",
    "    def faz_barulho(self, n):\n",
    "        \n",
    "        super().faz_barulho(n)\n",
    "        \n",
    "        print(f\"Mas como o {self.nome} é um cachorro, ele late!\")\n",
    "        print(\"au au au!\")\n",
    "        print(f\"E o {self.nome} não gosta de matemática :(\")"
   ]
  },
  {
   "cell_type": "code",
   "execution_count": 124,
   "metadata": {
    "ExecuteTime": {
     "end_time": "2021-11-24T00:02:56.437246Z",
     "start_time": "2021-11-24T00:02:56.424255Z"
    }
   },
   "outputs": [
    {
     "data": {
      "text/plain": [
       "{'nome': 'bowie',\n",
       " 'raca': 'vira-lata',\n",
       " 'cor': 'vermelho',\n",
       " 'profissao': 'historiador'}"
      ]
     },
     "execution_count": 124,
     "metadata": {},
     "output_type": "execute_result"
    }
   ],
   "source": [
    "bowie3 = Cachorro(\"bowie\", \"vira-lata\", \"vermelho\", \"historiador\")\n",
    "\n",
    "vars(bowie3)"
   ]
  },
  {
   "cell_type": "code",
   "execution_count": 112,
   "metadata": {
    "ExecuteTime": {
     "end_time": "2021-11-23T23:31:24.196118Z",
     "start_time": "2021-11-23T23:31:24.187121Z"
    }
   },
   "outputs": [
    {
     "name": "stdout",
     "output_type": "stream",
     "text": [
      "O animal bowie faz barulho.\n",
      "\n",
      "Aliás, 5! = 120\n",
      "\n",
      "Mas como o bowie é um cachorro, ele late!\n",
      "au au au!\n",
      "E o bowie não gosta de matemática :(\n"
     ]
    }
   ],
   "source": [
    "bowie3.faz_barulho(5)"
   ]
  },
  {
   "cell_type": "code",
   "execution_count": 113,
   "metadata": {
    "ExecuteTime": {
     "end_time": "2021-11-23T23:31:28.068750Z",
     "start_time": "2021-11-23T23:31:28.052759Z"
    }
   },
   "outputs": [],
   "source": [
    "animal = Animal(\"bicho\", \"bichus\")"
   ]
  },
  {
   "cell_type": "code",
   "execution_count": 114,
   "metadata": {
    "ExecuteTime": {
     "end_time": "2021-11-23T23:31:28.319030Z",
     "start_time": "2021-11-23T23:31:28.307037Z"
    }
   },
   "outputs": [
    {
     "name": "stdout",
     "output_type": "stream",
     "text": [
      "O animal bicho faz barulho.\n",
      "\n",
      "Aliás, 5! = 120\n",
      "\n"
     ]
    }
   ],
   "source": [
    "animal.faz_barulho(5)"
   ]
  },
  {
   "cell_type": "markdown",
   "metadata": {},
   "source": [
    "### Polimorfismo\n",
    "\n",
    "Do grego, **\"várias formas\"**. A ideia é que um objeto de uma certa classe pode se comportar como objeto de outras classes. \n",
    "\n",
    "Mais especificamente, **objetos de uma classe filha podem também ser tratados como se pertencessem à classe mãe**.\n",
    "\n",
    "O método `isinstance` recebe 2 parâmetros: um objeto e uma classe. \n",
    "\n",
    "Ele retorna True caso o objeto pertenca à classe, e False caso não pertença."
   ]
  },
  {
   "cell_type": "code",
   "execution_count": 120,
   "metadata": {
    "ExecuteTime": {
     "end_time": "2021-11-24T00:02:23.830609Z",
     "start_time": "2021-11-24T00:02:23.820612Z"
    }
   },
   "outputs": [
    {
     "data": {
      "text/plain": [
       "True"
      ]
     },
     "execution_count": 120,
     "metadata": {},
     "output_type": "execute_result"
    }
   ],
   "source": [
    "isinstance(animal, Animal)"
   ]
  },
  {
   "cell_type": "code",
   "execution_count": 121,
   "metadata": {
    "ExecuteTime": {
     "end_time": "2021-11-24T00:02:31.725359Z",
     "start_time": "2021-11-24T00:02:31.714101Z"
    }
   },
   "outputs": [
    {
     "data": {
      "text/plain": [
       "False"
      ]
     },
     "execution_count": 121,
     "metadata": {},
     "output_type": "execute_result"
    }
   ],
   "source": [
    "isinstance(animal, Cachorro)"
   ]
  },
  {
   "cell_type": "code",
   "execution_count": 128,
   "metadata": {
    "ExecuteTime": {
     "end_time": "2021-11-24T00:03:28.252652Z",
     "start_time": "2021-11-24T00:03:28.233663Z"
    }
   },
   "outputs": [
    {
     "name": "stdout",
     "output_type": "stream",
     "text": [
      "O animal bicho faz barulho.\n",
      "\n",
      "Aliás, 5! = 120\n",
      "\n"
     ]
    }
   ],
   "source": [
    "animal.faz_barulho(5)"
   ]
  },
  {
   "cell_type": "code",
   "execution_count": 125,
   "metadata": {
    "ExecuteTime": {
     "end_time": "2021-11-24T00:03:01.145369Z",
     "start_time": "2021-11-24T00:03:01.133379Z"
    }
   },
   "outputs": [
    {
     "data": {
      "text/plain": [
       "True"
      ]
     },
     "execution_count": 125,
     "metadata": {},
     "output_type": "execute_result"
    }
   ],
   "source": [
    "isinstance(bowie3, Cachorro)"
   ]
  },
  {
   "cell_type": "code",
   "execution_count": 126,
   "metadata": {
    "ExecuteTime": {
     "end_time": "2021-11-24T00:03:06.693574Z",
     "start_time": "2021-11-24T00:03:06.673572Z"
    }
   },
   "outputs": [
    {
     "data": {
      "text/plain": [
       "True"
      ]
     },
     "execution_count": 126,
     "metadata": {},
     "output_type": "execute_result"
    }
   ],
   "source": [
    "isinstance(bowie3, Animal)"
   ]
  },
  {
   "cell_type": "code",
   "execution_count": 129,
   "metadata": {
    "ExecuteTime": {
     "end_time": "2021-11-24T00:03:39.436126Z",
     "start_time": "2021-11-24T00:03:39.418136Z"
    }
   },
   "outputs": [
    {
     "name": "stdout",
     "output_type": "stream",
     "text": [
      "O animal bowie faz barulho.\n",
      "\n",
      "Aliás, 5! = 120\n",
      "\n",
      "Mas como o bowie é um cachorro, ele late!\n",
      "au au au!\n",
      "E o bowie não gosta de matemática :(\n"
     ]
    }
   ],
   "source": [
    "bowie3.faz_barulho(5)"
   ]
  },
  {
   "cell_type": "markdown",
   "metadata": {},
   "source": [
    "Isso é útil porque uma função que seja feita para lidar com Animal será capaz de lidar com qualquer classe herdeira de Animal com a mesma facilidade."
   ]
  },
  {
   "cell_type": "markdown",
   "metadata": {},
   "source": [
    "**Polimorfismo de funções**\n",
    "\n",
    "<img src=https://cdn.programiz.com/sites/tutorial2program/files/func-polymorphism.png width=400>"
   ]
  },
  {
   "cell_type": "code",
   "execution_count": 132,
   "metadata": {
    "ExecuteTime": {
     "end_time": "2021-11-24T00:04:48.709985Z",
     "start_time": "2021-11-24T00:04:48.700991Z"
    }
   },
   "outputs": [
    {
     "data": {
      "text/plain": [
       "7"
      ]
     },
     "execution_count": 132,
     "metadata": {},
     "output_type": "execute_result"
    }
   ],
   "source": [
    "len(\"abacate\")"
   ]
  },
  {
   "cell_type": "code",
   "execution_count": 133,
   "metadata": {
    "ExecuteTime": {
     "end_time": "2021-11-24T00:05:03.329682Z",
     "start_time": "2021-11-24T00:05:03.314692Z"
    }
   },
   "outputs": [
    {
     "data": {
      "text/plain": [
       "4"
      ]
     },
     "execution_count": 133,
     "metadata": {},
     "output_type": "execute_result"
    }
   ],
   "source": [
    "len([\"a\", \"b\", 42, True])"
   ]
  },
  {
   "cell_type": "code",
   "execution_count": 134,
   "metadata": {
    "ExecuteTime": {
     "end_time": "2021-11-24T00:05:25.373084Z",
     "start_time": "2021-11-24T00:05:25.361092Z"
    }
   },
   "outputs": [
    {
     "data": {
      "text/plain": [
       "2"
      ]
     },
     "execution_count": 134,
     "metadata": {},
     "output_type": "execute_result"
    }
   ],
   "source": [
    "len({\"a\": [2, 23, 456], \"b\": True})"
   ]
  },
  {
   "cell_type": "code",
   "execution_count": 130,
   "metadata": {
    "ExecuteTime": {
     "end_time": "2021-11-24T00:04:34.439227Z",
     "start_time": "2021-11-24T00:04:34.430234Z"
    }
   },
   "outputs": [
    {
     "data": {
      "text/plain": [
       "4"
      ]
     },
     "execution_count": 130,
     "metadata": {},
     "output_type": "execute_result"
    }
   ],
   "source": [
    "2 + 2"
   ]
  },
  {
   "cell_type": "code",
   "execution_count": 131,
   "metadata": {
    "ExecuteTime": {
     "end_time": "2021-11-24T00:04:41.406066Z",
     "start_time": "2021-11-24T00:04:41.378058Z"
    }
   },
   "outputs": [
    {
     "data": {
      "text/plain": [
       "'ab'"
      ]
     },
     "execution_count": 131,
     "metadata": {},
     "output_type": "execute_result"
    }
   ],
   "source": [
    "\"a\" + \"b\""
   ]
  },
  {
   "cell_type": "markdown",
   "metadata": {},
   "source": [
    "___\n",
    "___\n",
    "___"
   ]
  },
  {
   "cell_type": "markdown",
   "metadata": {},
   "source": [
    "Crie uma classe `Quadrado`, filha da classe `Retangulo` do exercício 2 (lista 1)"
   ]
  },
  {
   "cell_type": "markdown",
   "metadata": {},
   "source": [
    "2. Crie uma classe `Retangulo` cujos atributos são `lado_a` e `lado_b`. \n",
    "\n",
    "Crie um método para calcular a área desse retângulo. \n",
    "\n",
    "Crie um objeto dessa classe e calcule a área e a imprima em seguida."
   ]
  },
  {
   "cell_type": "code",
   "execution_count": 202,
   "metadata": {
    "ExecuteTime": {
     "end_time": "2021-11-24T00:35:23.249355Z",
     "start_time": "2021-11-24T00:35:23.235361Z"
    }
   },
   "outputs": [],
   "source": [
    "class Retangulo:\n",
    "    \n",
    "    def __init__(self, la, lb):\n",
    "        \n",
    "        self.lado_a = la\n",
    "        self.lado_b = lb\n",
    "        \n",
    "    def calc_area(self):\n",
    "\n",
    "        area = self.lado_a*self.lado_b\n",
    "\n",
    "        return area\n",
    "    \n",
    "    def __str__(self):\n",
    "        \n",
    "        return f\"Sou um retângulo de lados {self.lado_a} e {self.lado_b}\"\n",
    "    \n",
    "    def __repr__(self):\n",
    "        \n",
    "        return ((\"+ \"*self.lado_a + \"\\n\")*self.lado_b)[:-1]"
   ]
  },
  {
   "cell_type": "code",
   "execution_count": 210,
   "metadata": {
    "ExecuteTime": {
     "end_time": "2021-11-24T00:39:20.367277Z",
     "start_time": "2021-11-24T00:39:20.360287Z"
    }
   },
   "outputs": [],
   "source": [
    "class Quadrado(Retangulo):\n",
    "    \n",
    "    def __init__(self, lado):\n",
    "        \n",
    "        super().__init__(lado, lado)\n",
    "        \n",
    "    def __str__(self):\n",
    "        \n",
    "        return f\"Sou um quadrado de lado {self.lado_a}\""
   ]
  },
  {
   "cell_type": "code",
   "execution_count": 211,
   "metadata": {
    "ExecuteTime": {
     "end_time": "2021-11-24T00:39:21.265861Z",
     "start_time": "2021-11-24T00:39:21.251872Z"
    }
   },
   "outputs": [],
   "source": [
    "q1 = Quadrado(3)"
   ]
  },
  {
   "cell_type": "code",
   "execution_count": 207,
   "metadata": {
    "ExecuteTime": {
     "end_time": "2021-11-24T00:37:09.588398Z",
     "start_time": "2021-11-24T00:37:09.569405Z"
    }
   },
   "outputs": [
    {
     "data": {
      "text/plain": [
       "{'lado_a': 3, 'lado_b': 3}"
      ]
     },
     "execution_count": 207,
     "metadata": {},
     "output_type": "execute_result"
    }
   ],
   "source": [
    "vars(q1)"
   ]
  },
  {
   "cell_type": "code",
   "execution_count": 205,
   "metadata": {
    "ExecuteTime": {
     "end_time": "2021-11-24T00:35:28.822154Z",
     "start_time": "2021-11-24T00:35:28.800169Z"
    }
   },
   "outputs": [
    {
     "data": {
      "text/plain": [
       "+ + + \n",
       "+ + + \n",
       "+ + + "
      ]
     },
     "execution_count": 205,
     "metadata": {},
     "output_type": "execute_result"
    }
   ],
   "source": [
    "q1"
   ]
  },
  {
   "cell_type": "code",
   "execution_count": 206,
   "metadata": {
    "ExecuteTime": {
     "end_time": "2021-11-24T00:35:30.440571Z",
     "start_time": "2021-11-24T00:35:30.423580Z"
    }
   },
   "outputs": [
    {
     "name": "stdout",
     "output_type": "stream",
     "text": [
      "Sou um quadrado de lado 3\n"
     ]
    }
   ],
   "source": [
    "print(q1)"
   ]
  },
  {
   "cell_type": "code",
   "execution_count": 192,
   "metadata": {
    "ExecuteTime": {
     "end_time": "2021-11-24T00:34:18.961274Z",
     "start_time": "2021-11-24T00:34:18.943284Z"
    }
   },
   "outputs": [
    {
     "data": {
      "text/plain": [
       "9"
      ]
     },
     "execution_count": 192,
     "metadata": {},
     "output_type": "execute_result"
    }
   ],
   "source": [
    "q1.calc_area()"
   ]
  },
  {
   "cell_type": "code",
   "execution_count": 193,
   "metadata": {
    "ExecuteTime": {
     "end_time": "2021-11-24T00:34:22.817925Z",
     "start_time": "2021-11-24T00:34:22.801817Z"
    }
   },
   "outputs": [],
   "source": [
    "r1 = Retangulo(5, 3)"
   ]
  },
  {
   "cell_type": "code",
   "execution_count": 194,
   "metadata": {
    "ExecuteTime": {
     "end_time": "2021-11-24T00:34:23.558831Z",
     "start_time": "2021-11-24T00:34:23.546838Z"
    }
   },
   "outputs": [
    {
     "data": {
      "text/plain": [
       "+ + + + + \n",
       "+ + + + + \n",
       "+ + + + + "
      ]
     },
     "execution_count": 194,
     "metadata": {},
     "output_type": "execute_result"
    }
   ],
   "source": [
    "r1"
   ]
  },
  {
   "cell_type": "code",
   "execution_count": 195,
   "metadata": {
    "ExecuteTime": {
     "end_time": "2021-11-24T00:34:23.854096Z",
     "start_time": "2021-11-24T00:34:23.832109Z"
    }
   },
   "outputs": [
    {
     "name": "stdout",
     "output_type": "stream",
     "text": [
      "Sou um retângulo de lados 5 e 3\n"
     ]
    }
   ],
   "source": [
    "print(r1)"
   ]
  },
  {
   "cell_type": "code",
   "execution_count": 196,
   "metadata": {
    "ExecuteTime": {
     "end_time": "2021-11-24T00:34:25.683430Z",
     "start_time": "2021-11-24T00:34:25.667441Z"
    }
   },
   "outputs": [
    {
     "data": {
      "text/plain": [
       "15"
      ]
     },
     "execution_count": 196,
     "metadata": {},
     "output_type": "execute_result"
    }
   ],
   "source": [
    "r1.calc_area()"
   ]
  }
 ],
 "metadata": {
  "kernelspec": {
   "display_name": "Python 3",
   "language": "python",
   "name": "python3"
  },
  "language_info": {
   "codemirror_mode": {
    "name": "ipython",
    "version": 3
   },
   "file_extension": ".py",
   "mimetype": "text/x-python",
   "name": "python",
   "nbconvert_exporter": "python",
   "pygments_lexer": "ipython3",
   "version": "3.8.3"
  }
 },
 "nbformat": 4,
 "nbformat_minor": 4
}
