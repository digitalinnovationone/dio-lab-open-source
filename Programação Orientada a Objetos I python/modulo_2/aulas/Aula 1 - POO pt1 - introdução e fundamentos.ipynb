{
 "cells": [
  {
   "cell_type": "markdown",
   "metadata": {},
   "source": [
    "# Programação Orientada a Objetos\n",
    "\n",
    "## Parte 1 - Introdução e fundamentos\n",
    "\n",
    "__________\n",
    "\n",
    "Na aula de hoje, vamos explorar os seguintes tópicos em Python:\n",
    "\n",
    "- 1) Programação Orientada a Objetos;\n",
    "- 2) Classes, Atributos, Objetos e Métodos;\n",
    "- 3) Atributos e métodos estáticos;\n",
    "__________"
   ]
  },
  {
   "cell_type": "code",
   "execution_count": 1,
   "metadata": {
    "ExecuteTime": {
     "end_time": "2021-11-05T23:01:48.129061Z",
     "start_time": "2021-11-05T23:01:48.097082Z"
    }
   },
   "outputs": [
    {
     "data": {
      "text/plain": [
       "\"LET'S CODE\""
      ]
     },
     "execution_count": 1,
     "metadata": {},
     "output_type": "execute_result"
    }
   ],
   "source": [
    "string = \"let's code\"\n",
    "\n",
    "string.upper()"
   ]
  },
  {
   "cell_type": "code",
   "execution_count": 7,
   "metadata": {
    "ExecuteTime": {
     "end_time": "2021-11-06T00:55:05.445768Z",
     "start_time": "2021-11-06T00:55:05.432786Z"
    }
   },
   "outputs": [
    {
     "data": {
      "text/plain": [
       "<function str.upper()>"
      ]
     },
     "execution_count": 7,
     "metadata": {},
     "output_type": "execute_result"
    }
   ],
   "source": [
    "string.upper"
   ]
  },
  {
   "cell_type": "code",
   "execution_count": 2,
   "metadata": {
    "ExecuteTime": {
     "end_time": "2021-11-05T23:02:20.620298Z",
     "start_time": "2021-11-05T23:02:20.606307Z"
    }
   },
   "outputs": [
    {
     "data": {
      "text/plain": [
       "8"
      ]
     },
     "execution_count": 2,
     "metadata": {},
     "output_type": "execute_result"
    }
   ],
   "source": [
    "lista = [1, 3, 4]\n",
    "\n",
    "sum(lista)"
   ]
  },
  {
   "cell_type": "code",
   "execution_count": 3,
   "metadata": {
    "ExecuteTime": {
     "end_time": "2021-11-05T23:03:47.607675Z",
     "start_time": "2021-11-05T23:03:47.257871Z"
    }
   },
   "outputs": [
    {
     "ename": "TypeError",
     "evalue": "can only concatenate str (not \"int\") to str",
     "output_type": "error",
     "traceback": [
      "\u001b[1;31m---------------------------------------------------------------------------\u001b[0m",
      "\u001b[1;31mTypeError\u001b[0m                                 Traceback (most recent call last)",
      "\u001b[1;32m<ipython-input-3-338addf90d45>\u001b[0m in \u001b[0;36m<module>\u001b[1;34m\u001b[0m\n\u001b[1;32m----> 1\u001b[1;33m \u001b[1;34m\"a\"\u001b[0m \u001b[1;33m+\u001b[0m \u001b[1;36m2\u001b[0m\u001b[1;33m\u001b[0m\u001b[1;33m\u001b[0m\u001b[0m\n\u001b[0m",
      "\u001b[1;31mTypeError\u001b[0m: can only concatenate str (not \"int\") to str"
     ]
    }
   ],
   "source": [
    "\"a\" + 2"
   ]
  },
  {
   "cell_type": "code",
   "execution_count": 4,
   "metadata": {
    "ExecuteTime": {
     "end_time": "2021-11-05T23:04:11.623924Z",
     "start_time": "2021-11-05T23:04:11.594942Z"
    }
   },
   "outputs": [
    {
     "ename": "AttributeError",
     "evalue": "'int' object has no attribute 'upper'",
     "output_type": "error",
     "traceback": [
      "\u001b[1;31m---------------------------------------------------------------------------\u001b[0m",
      "\u001b[1;31mAttributeError\u001b[0m                            Traceback (most recent call last)",
      "\u001b[1;32m<ipython-input-4-81e8fd749711>\u001b[0m in \u001b[0;36m<module>\u001b[1;34m\u001b[0m\n\u001b[0;32m      1\u001b[0m \u001b[0mnum\u001b[0m \u001b[1;33m=\u001b[0m \u001b[1;36m2\u001b[0m\u001b[1;33m\u001b[0m\u001b[1;33m\u001b[0m\u001b[0m\n\u001b[0;32m      2\u001b[0m \u001b[1;33m\u001b[0m\u001b[0m\n\u001b[1;32m----> 3\u001b[1;33m \u001b[0mnum\u001b[0m\u001b[1;33m.\u001b[0m\u001b[0mupper\u001b[0m\u001b[1;33m(\u001b[0m\u001b[1;33m)\u001b[0m\u001b[1;33m\u001b[0m\u001b[1;33m\u001b[0m\u001b[0m\n\u001b[0m",
      "\u001b[1;31mAttributeError\u001b[0m: 'int' object has no attribute 'upper'"
     ]
    }
   ],
   "source": [
    "num = 2\n",
    "\n",
    "num.upper()"
   ]
  },
  {
   "cell_type": "code",
   "execution_count": 5,
   "metadata": {
    "ExecuteTime": {
     "end_time": "2021-11-06T00:51:30.913950Z",
     "start_time": "2021-11-06T00:51:30.899955Z"
    }
   },
   "outputs": [
    {
     "data": {
      "text/plain": [
       "4"
      ]
     },
     "execution_count": 5,
     "metadata": {},
     "output_type": "execute_result"
    }
   ],
   "source": [
    "2 + 2"
   ]
  },
  {
   "cell_type": "code",
   "execution_count": 6,
   "metadata": {
    "ExecuteTime": {
     "end_time": "2021-11-06T00:51:42.371153Z",
     "start_time": "2021-11-06T00:51:42.359162Z"
    }
   },
   "outputs": [
    {
     "data": {
      "text/plain": [
       "'ab'"
      ]
     },
     "execution_count": 6,
     "metadata": {},
     "output_type": "execute_result"
    }
   ],
   "source": [
    "\"a\" + \"b\""
   ]
  },
  {
   "cell_type": "code",
   "execution_count": 8,
   "metadata": {
    "ExecuteTime": {
     "end_time": "2021-11-06T00:56:13.079470Z",
     "start_time": "2021-11-06T00:56:13.043491Z"
    }
   },
   "outputs": [
    {
     "ename": "TypeError",
     "evalue": "'int' object is not callable",
     "output_type": "error",
     "traceback": [
      "\u001b[1;31m---------------------------------------------------------------------------\u001b[0m",
      "\u001b[1;31mTypeError\u001b[0m                                 Traceback (most recent call last)",
      "\u001b[1;32m<ipython-input-8-c91ff519afcc>\u001b[0m in \u001b[0;36m<module>\u001b[1;34m\u001b[0m\n\u001b[1;32m----> 1\u001b[1;33m \u001b[0mnum\u001b[0m\u001b[1;33m(\u001b[0m\u001b[1;33m)\u001b[0m\u001b[1;33m\u001b[0m\u001b[1;33m\u001b[0m\u001b[0m\n\u001b[0m",
      "\u001b[1;31mTypeError\u001b[0m: 'int' object is not callable"
     ]
    }
   ],
   "source": [
    "num()"
   ]
  },
  {
   "cell_type": "markdown",
   "metadata": {},
   "source": [
    "____\n",
    "____\n",
    "____"
   ]
  },
  {
   "cell_type": "markdown",
   "metadata": {},
   "source": [
    "- Programação estruturada (C, Fortran, ...);\n",
    "\n",
    "- Programação funcional (Haskell, Scala, ...);\n",
    "\n",
    "<img src=https://digitalfellows.commons.gc.cuny.edu/files/2018/03/paradigms-1170x669.jpg width=600>\n",
    "\n",
    "<img src=https://blog.phoenix-it-mos.com/wp-content/uploads/2016/05/paradigms-300x199.jpg width=400>"
   ]
  },
  {
   "cell_type": "markdown",
   "metadata": {},
   "source": [
    "Sobre baixo e alto nível de programação:\n",
    "\n",
    "<img src=https://e7.pngegg.com/pngimages/155/27/png-clipart-low-level-programming-language-high-level-programming-language-high-and-low-level-computer-programming-types-of-programming-languages-text-computer-programming.png width=400>\n",
    "\n",
    "\n",
    "<img src=https://miro.medium.com/max/624/1*icGwCEFBJTjIPcslHeL1Eg.png width=400>\n",
    "\n",
    "<img src=https://i.pinimg.com/736x/54/b5/f0/54b5f0bbab5b6e896698a8017859f095.jpg width=600>\n",
    "\n",
    "\n"
   ]
  },
  {
   "cell_type": "markdown",
   "metadata": {},
   "source": [
    "_________"
   ]
  },
  {
   "cell_type": "markdown",
   "metadata": {},
   "source": [
    "## 1) Programação Orientada a Objetos\n",
    "\n",
    "O Python, como outras linguagens, é classificada como uma **linguagem de programação orientada a objetos (POO)** (outros exemplos: Java, C++, etc). \n",
    "\n",
    "Esta classificação é uma dos chamados \"paradigmas de programação\". Isso porque uma linguagem de POO é fundamentalmente diferente de linguagens de outros paradigmas.\n",
    "\n",
    "O grande objetivo da POO é a **reutilização de código**.\n",
    "\n",
    "Os programas devem ser **modularizados**, de modo que diferentes pessoas possam implementar módulos diferentes e juntá-los ao final, e reaporveitar modulos diferentes.\n",
    "\n",
    "Dentro de POO, tudo isso é feito de acordo com as seguintes **entidades**:\n",
    "\n",
    "- Classes\n",
    "\n",
    "> As classes são os \"moldes\" dos objetos, as entidades abstratas. Elas contêm as informações e os comportamentos que os objetos terão. Todos os objetos pertencentes a uma mesma classe terão características em comum. **Ex: Pessoa**\n",
    "\n",
    "- Objetos\n",
    "\n",
    "> Os objetos são as instâncias concretas das classes, que são abstratas. Os objetos contêm as características comuns à classe, mas cada um tem suas particularidades. **Ex: você!**\n",
    "\n",
    "\n",
    "- Atributos\n",
    "\n",
    "> Cada objeto particular de uma mesma classe tem valores diferentes para as variáveis internas da classe. Essas \"variáveis do objeto\" chamamos de atributos. **Ex: a cor do seu cabelo**\n",
    "\n",
    "- Métodos\n",
    "\n",
    "> Métodos são funções dentro da classe, que não podem ser executadas arbitrariamente, mas deverão ser chamadas necessariamente pelos objetos. Os métodos podem utilizar os atributos e até mesmo alterá-los. **Ex: você pintar seu cabelo para mudar a cor** \n",
    "\n",
    "\n",
    "Em POO, há **4 princípios de boas práticas** para a criação das entidades:\n",
    "\n",
    "- **Encapsulamento**: cada classe deve conter todas as informações necessárias para seu funcionamento bem como todos os métodos necessários para alterar essas informações.\n",
    "\n",
    "- **Abstração**: as classes devem apresentar interfaces simples para o uso por outros desenvolvedores e para a interação com outras classes. Todos os detalhes complicados de seu funcionamento devem estar \"escondidos\" dentro de métodos simples de usar, com parâmetros e retornos bem definidos. \n",
    "\n",
    "- **Herança**: se várias classes terão atributos e métodos em comum, não devemos ter que redigitá-los várias vezes. Ao invés disso, criamos uma classe com esses atributos comuns e as outras classes irão herdá-los.\n",
    "        \n",
    "- **Polimorfismo**: objetos de diferentes classes herdeiras de uma mesma classe mãe podem ser tratados genericamente como objetos pertencentes à classe mãe.\n",
    "\n",
    "Vamos agora a exemplos específicos para ilustrar e concretizar todos os conceitos discutidos acima!"
   ]
  },
  {
   "cell_type": "code",
   "execution_count": 18,
   "metadata": {
    "ExecuteTime": {
     "end_time": "2021-11-06T01:09:56.943307Z",
     "start_time": "2021-11-06T01:09:56.929317Z"
    }
   },
   "outputs": [],
   "source": [
    "class Quadrado:\n",
    "    \n",
    "    def __init__(self, size, color):\n",
    "        \n",
    "        self.lado = size\n",
    "        \n",
    "        self.cor = color\n",
    "        \n",
    "    def fala_cor(self):\n",
    "        \n",
    "        print(f\"Eu sou um quadrado de cor {self.cor}\")\n",
    "        \n",
    "        \n",
    "    def calcula_area(self):\n",
    "        \n",
    "        return self.lado**2"
   ]
  },
  {
   "cell_type": "code",
   "execution_count": 19,
   "metadata": {
    "ExecuteTime": {
     "end_time": "2021-11-06T01:09:58.316703Z",
     "start_time": "2021-11-06T01:09:58.302709Z"
    }
   },
   "outputs": [],
   "source": [
    "meu_quadrado = Quadrado(4, \"verde\")"
   ]
  },
  {
   "cell_type": "code",
   "execution_count": 20,
   "metadata": {
    "ExecuteTime": {
     "end_time": "2021-11-06T01:09:58.563666Z",
     "start_time": "2021-11-06T01:09:58.551674Z"
    }
   },
   "outputs": [
    {
     "data": {
      "text/plain": [
       "4"
      ]
     },
     "execution_count": 20,
     "metadata": {},
     "output_type": "execute_result"
    }
   ],
   "source": [
    "meu_quadrado.lado"
   ]
  },
  {
   "cell_type": "code",
   "execution_count": 21,
   "metadata": {
    "ExecuteTime": {
     "end_time": "2021-11-06T01:09:58.783251Z",
     "start_time": "2021-11-06T01:09:58.773257Z"
    }
   },
   "outputs": [
    {
     "data": {
      "text/plain": [
       "'verde'"
      ]
     },
     "execution_count": 21,
     "metadata": {},
     "output_type": "execute_result"
    }
   ],
   "source": [
    "meu_quadrado.cor"
   ]
  },
  {
   "cell_type": "code",
   "execution_count": 22,
   "metadata": {
    "ExecuteTime": {
     "end_time": "2021-11-06T01:09:59.043102Z",
     "start_time": "2021-11-06T01:09:59.025115Z"
    }
   },
   "outputs": [
    {
     "name": "stdout",
     "output_type": "stream",
     "text": [
      "Eu sou um quadrado de cor verde\n"
     ]
    }
   ],
   "source": [
    "meu_quadrado.fala_cor()"
   ]
  },
  {
   "cell_type": "code",
   "execution_count": 24,
   "metadata": {
    "ExecuteTime": {
     "end_time": "2021-11-06T01:16:16.370986Z",
     "start_time": "2021-11-06T01:16:16.354996Z"
    }
   },
   "outputs": [],
   "source": [
    "area = meu_quadrado.calcula_area()"
   ]
  },
  {
   "cell_type": "code",
   "execution_count": 26,
   "metadata": {
    "ExecuteTime": {
     "end_time": "2021-11-06T01:16:23.828766Z",
     "start_time": "2021-11-06T01:16:23.817773Z"
    }
   },
   "outputs": [
    {
     "name": "stdout",
     "output_type": "stream",
     "text": [
      "16\n"
     ]
    }
   ],
   "source": [
    "print(area)"
   ]
  },
  {
   "cell_type": "code",
   "execution_count": 27,
   "metadata": {
    "ExecuteTime": {
     "end_time": "2021-11-06T01:16:30.627294Z",
     "start_time": "2021-11-06T01:16:30.609305Z"
    }
   },
   "outputs": [
    {
     "name": "stdout",
     "output_type": "stream",
     "text": [
      "16\n"
     ]
    }
   ],
   "source": [
    "print(meu_quadrado.calcula_area())"
   ]
  },
  {
   "cell_type": "markdown",
   "metadata": {},
   "source": [
    "_____\n",
    "_____\n",
    "_____"
   ]
  },
  {
   "cell_type": "markdown",
   "metadata": {},
   "source": [
    "## 2) Classes, Atributos, Objetos e Métodos\n",
    "\n",
    "\n",
    "### Criando uma classe\n",
    "\n",
    "A criação de classes é feita segundo a seguinte estrutura:\n",
    "\n",
    "```python\n",
    "class NomeDaClasse:\n",
    "    \n",
    "    # método construtor\n",
    "    def __init__(self, atributos):\n",
    "        \n",
    "        # definição dos atributos\n",
    "        self.atributos = atributos\n",
    "        \n",
    "    # definição de outros métodos\n",
    "    def metodo1(self, parametros):\n",
    "        operacoes\n",
    "        \n",
    "    # definição de outros métodos\n",
    "    def metodo2(self, parametros):\n",
    "        operacoes\n",
    "        \n",
    "    # e quantos métodos quiser\n",
    "```\n",
    "\n",
    "O **método construtor** é onde inicializamos alguns atributos que os objetos da classe terão!\n",
    "\n",
    "Os argumentos deste método são **obrigatórios** para a definição do objeto!\n",
    "\n",
    "- Esse método é opcional, mas é uma boa prática sempre defini-lo!\n",
    "- Sempre que um objeto é criado, este método é chamado, automaticamente"
   ]
  },
  {
   "cell_type": "markdown",
   "metadata": {},
   "source": [
    "O **\"self\"** sempre será o primeiro parâmetro dos métodos de uma classe, e ele é necessário para **fazer referência à classe**\n",
    "\n",
    "Assim, em geral, sempre usaremos dentro dos métodos alguma operação que **faça uso dos atributos da classe**, que é referenciada através do `self`."
   ]
  },
  {
   "cell_type": "code",
   "execution_count": 23,
   "metadata": {
    "ExecuteTime": {
     "end_time": "2021-11-12T22:54:29.929603Z",
     "start_time": "2021-11-12T22:54:29.909614Z"
    }
   },
   "outputs": [],
   "source": [
    "class Pessoa:\n",
    "    '''\n",
    "    classe de pessoas\n",
    "    '''\n",
    "    \n",
    "    def __init__(self, name, hair_color, height):\n",
    "        '''\n",
    "        método construtor, inicializa os \n",
    "        atributos \"nome\", \"cor_cabelo\" e \"altura\"\n",
    "        \"'''\n",
    "        \n",
    "        self.nome = name\n",
    "        self.cor_cabelo = hair_color\n",
    "        \n",
    "        if type(height) != float:\n",
    "            \n",
    "            raise ValueError(\"Tipo de dado errado pra altura!\")\n",
    "        \n",
    "        else:\n",
    "            \n",
    "            self.altura = height"
   ]
  },
  {
   "cell_type": "markdown",
   "metadata": {},
   "source": [
    "### Criação de objeto: instanciando uma classe\n",
    "\n",
    "Para criarmos um objeto (instância concreta da classe abstrata), nós fazemos o processo de **instanciação**, que nada mais é do que **chamar a classe**, com os argumentos definidos no método construtor"
   ]
  },
  {
   "cell_type": "code",
   "execution_count": 24,
   "metadata": {
    "ExecuteTime": {
     "end_time": "2021-11-12T22:54:30.577438Z",
     "start_time": "2021-11-12T22:54:30.568443Z"
    }
   },
   "outputs": [],
   "source": [
    "bob = Pessoa(name=\"Bob\", hair_color=\"Dark\", height=1.70)"
   ]
  },
  {
   "cell_type": "code",
   "execution_count": 19,
   "metadata": {
    "ExecuteTime": {
     "end_time": "2021-11-12T22:53:00.057334Z",
     "start_time": "2021-11-12T22:53:00.050336Z"
    }
   },
   "outputs": [],
   "source": [
    "matheus = Pessoa(\"Matheus\", \"Marrom\", 1.70)"
   ]
  },
  {
   "cell_type": "code",
   "execution_count": 17,
   "metadata": {
    "ExecuteTime": {
     "end_time": "2021-11-12T22:50:56.684454Z",
     "start_time": "2021-11-12T22:50:56.623974Z"
    }
   },
   "outputs": [
    {
     "ename": "ValueError",
     "evalue": "Tipo de dado errado pra altura!",
     "output_type": "error",
     "traceback": [
      "\u001b[1;31m---------------------------------------------------------------------------\u001b[0m",
      "\u001b[1;31mValueError\u001b[0m                                Traceback (most recent call last)",
      "\u001b[1;32m<ipython-input-17-c3e308d75ce9>\u001b[0m in \u001b[0;36m<module>\u001b[1;34m\u001b[0m\n\u001b[1;32m----> 1\u001b[1;33m \u001b[0mmatheus\u001b[0m \u001b[1;33m=\u001b[0m \u001b[0mPessoa\u001b[0m\u001b[1;33m(\u001b[0m\u001b[1;34m\"Matheus\"\u001b[0m\u001b[1;33m,\u001b[0m \u001b[1;34m\"Marrom\"\u001b[0m\u001b[1;33m,\u001b[0m \u001b[1;34m\"1.70\"\u001b[0m\u001b[1;33m)\u001b[0m\u001b[1;33m\u001b[0m\u001b[1;33m\u001b[0m\u001b[0m\n\u001b[0m",
      "\u001b[1;32m<ipython-input-15-fb6db5fd3bcb>\u001b[0m in \u001b[0;36m__init__\u001b[1;34m(self, name, hair_color, height)\u001b[0m\n\u001b[0;32m     15\u001b[0m         \u001b[1;32mif\u001b[0m \u001b[0mtype\u001b[0m\u001b[1;33m(\u001b[0m\u001b[0mheight\u001b[0m\u001b[1;33m)\u001b[0m \u001b[1;33m!=\u001b[0m \u001b[0mfloat\u001b[0m\u001b[1;33m:\u001b[0m\u001b[1;33m\u001b[0m\u001b[1;33m\u001b[0m\u001b[0m\n\u001b[0;32m     16\u001b[0m \u001b[1;33m\u001b[0m\u001b[0m\n\u001b[1;32m---> 17\u001b[1;33m             \u001b[1;32mraise\u001b[0m \u001b[0mValueError\u001b[0m\u001b[1;33m(\u001b[0m\u001b[1;34m\"Tipo de dado errado pra altura!\"\u001b[0m\u001b[1;33m)\u001b[0m\u001b[1;33m\u001b[0m\u001b[1;33m\u001b[0m\u001b[0m\n\u001b[0m\u001b[0;32m     18\u001b[0m \u001b[1;33m\u001b[0m\u001b[0m\n\u001b[0;32m     19\u001b[0m         \u001b[1;32melse\u001b[0m\u001b[1;33m:\u001b[0m\u001b[1;33m\u001b[0m\u001b[1;33m\u001b[0m\u001b[0m\n",
      "\u001b[1;31mValueError\u001b[0m: Tipo de dado errado pra altura!"
     ]
    }
   ],
   "source": [
    "matheus = Pessoa(\"Matheus\", \"Marrom\", \"1.70\")"
   ]
  },
  {
   "cell_type": "code",
   "execution_count": 20,
   "metadata": {
    "ExecuteTime": {
     "end_time": "2021-11-12T22:53:12.402410Z",
     "start_time": "2021-11-12T22:53:12.379424Z"
    }
   },
   "outputs": [
    {
     "data": {
      "text/plain": [
       "__main__.Pessoa"
      ]
     },
     "execution_count": 20,
     "metadata": {},
     "output_type": "execute_result"
    }
   ],
   "source": [
    "type(bob)"
   ]
  },
  {
   "cell_type": "markdown",
   "metadata": {},
   "source": [
    "Se chamarmos a variável com o objeto, aparece apenas o endereço respectivo ao objeto:"
   ]
  },
  {
   "cell_type": "code",
   "execution_count": 21,
   "metadata": {
    "ExecuteTime": {
     "end_time": "2021-11-12T22:53:32.151858Z",
     "start_time": "2021-11-12T22:53:32.145862Z"
    }
   },
   "outputs": [
    {
     "data": {
      "text/plain": [
       "<__main__.Pessoa at 0x289d778b490>"
      ]
     },
     "execution_count": 21,
     "metadata": {},
     "output_type": "execute_result"
    }
   ],
   "source": [
    "bob"
   ]
  },
  {
   "cell_type": "code",
   "execution_count": 22,
   "metadata": {
    "ExecuteTime": {
     "end_time": "2021-11-12T22:53:37.018276Z",
     "start_time": "2021-11-12T22:53:37.000285Z"
    }
   },
   "outputs": [
    {
     "name": "stdout",
     "output_type": "stream",
     "text": [
      "<__main__.Pessoa object at 0x00000289D778B490>\n"
     ]
    }
   ],
   "source": [
    "print(bob)"
   ]
  },
  {
   "cell_type": "markdown",
   "metadata": {},
   "source": [
    "Mas podemos acessar cada um dos atributos deste objeto, que são aqueles definidos na classe. \n",
    "\n",
    "Para isso, seguimos a sintaxe\n",
    "\n",
    "```python\n",
    "nome_do_objeto.nome_do_atributo\n",
    "```"
   ]
  },
  {
   "cell_type": "code",
   "execution_count": 25,
   "metadata": {
    "ExecuteTime": {
     "end_time": "2021-11-12T22:54:58.852029Z",
     "start_time": "2021-11-12T22:54:58.840035Z"
    }
   },
   "outputs": [
    {
     "data": {
      "text/plain": [
       "'Bob'"
      ]
     },
     "execution_count": 25,
     "metadata": {},
     "output_type": "execute_result"
    }
   ],
   "source": [
    "bob.nome"
   ]
  },
  {
   "cell_type": "code",
   "execution_count": 26,
   "metadata": {
    "ExecuteTime": {
     "end_time": "2021-11-12T22:55:18.176985Z",
     "start_time": "2021-11-12T22:55:18.158473Z"
    }
   },
   "outputs": [
    {
     "data": {
      "text/plain": [
       "'Dark'"
      ]
     },
     "execution_count": 26,
     "metadata": {},
     "output_type": "execute_result"
    }
   ],
   "source": [
    "bob.cor_cabelo"
   ]
  },
  {
   "cell_type": "code",
   "execution_count": 27,
   "metadata": {
    "ExecuteTime": {
     "end_time": "2021-11-12T22:55:23.287200Z",
     "start_time": "2021-11-12T22:55:23.269210Z"
    }
   },
   "outputs": [
    {
     "data": {
      "text/plain": [
       "1.7"
      ]
     },
     "execution_count": 27,
     "metadata": {},
     "output_type": "execute_result"
    }
   ],
   "source": [
    "bob.altura"
   ]
  },
  {
   "cell_type": "markdown",
   "metadata": {},
   "source": [
    "Os atributos são mutáveis! Para mudá-los, basta redefinir novos valores:"
   ]
  },
  {
   "cell_type": "code",
   "execution_count": 28,
   "metadata": {
    "ExecuteTime": {
     "end_time": "2021-11-12T23:03:21.537944Z",
     "start_time": "2021-11-12T23:03:21.526950Z"
    }
   },
   "outputs": [
    {
     "data": {
      "text/plain": [
       "1.9"
      ]
     },
     "execution_count": 28,
     "metadata": {},
     "output_type": "execute_result"
    }
   ],
   "source": [
    "bob.altura + 0.2"
   ]
  },
  {
   "cell_type": "code",
   "execution_count": 29,
   "metadata": {
    "ExecuteTime": {
     "end_time": "2021-11-12T23:03:37.499587Z",
     "start_time": "2021-11-12T23:03:37.482597Z"
    }
   },
   "outputs": [
    {
     "data": {
      "text/plain": [
       "1.7"
      ]
     },
     "execution_count": 29,
     "metadata": {},
     "output_type": "execute_result"
    }
   ],
   "source": [
    "bob.altura"
   ]
  },
  {
   "cell_type": "code",
   "execution_count": 30,
   "metadata": {
    "ExecuteTime": {
     "end_time": "2021-11-12T23:03:50.596457Z",
     "start_time": "2021-11-12T23:03:50.580467Z"
    }
   },
   "outputs": [],
   "source": [
    "bob.altura = bob.altura + 0.2"
   ]
  },
  {
   "cell_type": "code",
   "execution_count": 31,
   "metadata": {
    "ExecuteTime": {
     "end_time": "2021-11-12T23:03:57.368441Z",
     "start_time": "2021-11-12T23:03:57.351450Z"
    }
   },
   "outputs": [
    {
     "data": {
      "text/plain": [
       "1.9"
      ]
     },
     "execution_count": 31,
     "metadata": {},
     "output_type": "execute_result"
    }
   ],
   "source": [
    "bob.altura"
   ]
  },
  {
   "cell_type": "code",
   "execution_count": 37,
   "metadata": {
    "ExecuteTime": {
     "end_time": "2021-11-12T23:06:55.445159Z",
     "start_time": "2021-11-12T23:06:55.430167Z"
    }
   },
   "outputs": [],
   "source": [
    "# jeito legal de saber quais são os atributos e seus respectivos valores\n",
    "\n",
    "dados_bob = vars(bob)"
   ]
  },
  {
   "cell_type": "code",
   "execution_count": 39,
   "metadata": {
    "ExecuteTime": {
     "end_time": "2021-11-12T23:07:11.722871Z",
     "start_time": "2021-11-12T23:07:11.714876Z"
    }
   },
   "outputs": [],
   "source": [
    "dados_bob[\"nome\"] = \"João\""
   ]
  },
  {
   "cell_type": "code",
   "execution_count": 40,
   "metadata": {
    "ExecuteTime": {
     "end_time": "2021-11-12T23:07:15.099801Z",
     "start_time": "2021-11-12T23:07:15.081810Z"
    }
   },
   "outputs": [
    {
     "data": {
      "text/plain": [
       "{'nome': 'João', 'cor_cabelo': 'Dark', 'altura': 1.9}"
      ]
     },
     "execution_count": 40,
     "metadata": {},
     "output_type": "execute_result"
    }
   ],
   "source": [
    "dados_bob"
   ]
  },
  {
   "cell_type": "code",
   "execution_count": 41,
   "metadata": {
    "ExecuteTime": {
     "end_time": "2021-11-12T23:07:19.972353Z",
     "start_time": "2021-11-12T23:07:19.961357Z"
    }
   },
   "outputs": [
    {
     "data": {
      "text/plain": [
       "{'nome': 'João', 'cor_cabelo': 'Dark', 'altura': 1.9}"
      ]
     },
     "execution_count": 41,
     "metadata": {},
     "output_type": "execute_result"
    }
   ],
   "source": [
    "vars(bob)"
   ]
  },
  {
   "cell_type": "code",
   "execution_count": 53,
   "metadata": {
    "ExecuteTime": {
     "end_time": "2021-11-12T23:10:50.750101Z",
     "start_time": "2021-11-12T23:10:50.737108Z"
    }
   },
   "outputs": [],
   "source": [
    "dados_bob2 = vars(bob).copy()"
   ]
  },
  {
   "cell_type": "code",
   "execution_count": 54,
   "metadata": {
    "ExecuteTime": {
     "end_time": "2021-11-12T23:11:00.746618Z",
     "start_time": "2021-11-12T23:11:00.736586Z"
    }
   },
   "outputs": [],
   "source": [
    "dados_bob2[\"nome\"] = \"Pedro\""
   ]
  },
  {
   "cell_type": "code",
   "execution_count": 56,
   "metadata": {
    "ExecuteTime": {
     "end_time": "2021-11-12T23:11:11.921003Z",
     "start_time": "2021-11-12T23:11:11.902014Z"
    }
   },
   "outputs": [
    {
     "data": {
      "text/plain": [
       "{'nome': 'Pedro', 'cor_cabelo': 'Dark', 'altura': 1.9}"
      ]
     },
     "execution_count": 56,
     "metadata": {},
     "output_type": "execute_result"
    }
   ],
   "source": [
    "dados_bob2"
   ]
  },
  {
   "cell_type": "code",
   "execution_count": 55,
   "metadata": {
    "ExecuteTime": {
     "end_time": "2021-11-12T23:11:05.939657Z",
     "start_time": "2021-11-12T23:11:05.928663Z"
    }
   },
   "outputs": [
    {
     "data": {
      "text/plain": [
       "{'nome': 'João', 'cor_cabelo': 'Dark', 'altura': 1.9}"
      ]
     },
     "execution_count": 55,
     "metadata": {},
     "output_type": "execute_result"
    }
   ],
   "source": [
    "vars(bob)"
   ]
  },
  {
   "cell_type": "markdown",
   "metadata": {},
   "source": [
    "Podemos, também, adicionar novos atributos que não sejam **obrigatoriamente definidos na instanciação da classe**. Para isso, os inicializamos na classe como vazios:"
   ]
  },
  {
   "cell_type": "code",
   "execution_count": 81,
   "metadata": {
    "ExecuteTime": {
     "end_time": "2021-11-12T23:25:19.889631Z",
     "start_time": "2021-11-12T23:25:19.872620Z"
    }
   },
   "outputs": [],
   "source": [
    "class Pessoa:\n",
    "    '''\n",
    "    classe de pessoas\n",
    "    '''\n",
    "    \n",
    "    def __init__(self, name, hair_color, height):\n",
    "        '''\n",
    "        método construtor, inicializa os \n",
    "        atributos \"nome\", \"cor_cabelo\" e \"altura\"\n",
    "        \"'''\n",
    "        \n",
    "        self.nome = name\n",
    "        self.cor_cabelo = hair_color\n",
    "        \n",
    "        if type(height) != float:\n",
    "            \n",
    "            raise ValueError(\"Tipo de dado errado pra altura!\")\n",
    "        \n",
    "        else:\n",
    "            \n",
    "            self.altura = height\n",
    "            \n",
    "        self.num_passaporte = None\n",
    "        self.marca_carro = None\n",
    "        self.num_filhos = 0"
   ]
  },
  {
   "cell_type": "code",
   "execution_count": 84,
   "metadata": {
    "ExecuteTime": {
     "end_time": "2021-11-12T23:25:52.768806Z",
     "start_time": "2021-11-12T23:25:52.756814Z"
    }
   },
   "outputs": [],
   "source": [
    "alice = Pessoa(\"Alice\", \"preto\", 1.7)"
   ]
  },
  {
   "cell_type": "code",
   "execution_count": 85,
   "metadata": {
    "ExecuteTime": {
     "end_time": "2021-11-12T23:25:53.036199Z",
     "start_time": "2021-11-12T23:25:53.026204Z"
    }
   },
   "outputs": [
    {
     "data": {
      "text/plain": [
       "'Alice'"
      ]
     },
     "execution_count": 85,
     "metadata": {},
     "output_type": "execute_result"
    }
   ],
   "source": [
    "alice.nome"
   ]
  },
  {
   "cell_type": "code",
   "execution_count": 86,
   "metadata": {
    "ExecuteTime": {
     "end_time": "2021-11-12T23:25:53.301052Z",
     "start_time": "2021-11-12T23:25:53.282058Z"
    }
   },
   "outputs": [
    {
     "data": {
      "text/plain": [
       "'preto'"
      ]
     },
     "execution_count": 86,
     "metadata": {},
     "output_type": "execute_result"
    }
   ],
   "source": [
    "alice.cor_cabelo"
   ]
  },
  {
   "cell_type": "code",
   "execution_count": 87,
   "metadata": {
    "ExecuteTime": {
     "end_time": "2021-11-12T23:25:53.563911Z",
     "start_time": "2021-11-12T23:25:53.549917Z"
    }
   },
   "outputs": [
    {
     "data": {
      "text/plain": [
       "1.7"
      ]
     },
     "execution_count": 87,
     "metadata": {},
     "output_type": "execute_result"
    }
   ],
   "source": [
    "alice.altura"
   ]
  },
  {
   "cell_type": "code",
   "execution_count": 88,
   "metadata": {
    "ExecuteTime": {
     "end_time": "2021-11-12T23:25:54.715115Z",
     "start_time": "2021-11-12T23:25:54.705120Z"
    }
   },
   "outputs": [],
   "source": [
    "alice.num_passaporte"
   ]
  },
  {
   "cell_type": "code",
   "execution_count": 89,
   "metadata": {
    "ExecuteTime": {
     "end_time": "2021-11-12T23:25:54.951507Z",
     "start_time": "2021-11-12T23:25:54.940512Z"
    }
   },
   "outputs": [
    {
     "data": {
      "text/plain": [
       "0"
      ]
     },
     "execution_count": 89,
     "metadata": {},
     "output_type": "execute_result"
    }
   ],
   "source": [
    "alice.num_filhos"
   ]
  },
  {
   "cell_type": "code",
   "execution_count": 90,
   "metadata": {
    "ExecuteTime": {
     "end_time": "2021-11-12T23:25:55.218353Z",
     "start_time": "2021-11-12T23:25:55.198365Z"
    }
   },
   "outputs": [
    {
     "data": {
      "text/plain": [
       "{'nome': 'Alice',\n",
       " 'cor_cabelo': 'preto',\n",
       " 'altura': 1.7,\n",
       " 'num_passaporte': None,\n",
       " 'marca_carro': None,\n",
       " 'num_filhos': 0}"
      ]
     },
     "execution_count": 90,
     "metadata": {},
     "output_type": "execute_result"
    }
   ],
   "source": [
    "vars(alice)"
   ]
  },
  {
   "cell_type": "code",
   "execution_count": 91,
   "metadata": {
    "ExecuteTime": {
     "end_time": "2021-11-12T23:25:58.888890Z",
     "start_time": "2021-11-12T23:25:58.870901Z"
    }
   },
   "outputs": [],
   "source": [
    "alice.num_passaporte = 13251351351"
   ]
  },
  {
   "cell_type": "code",
   "execution_count": 92,
   "metadata": {
    "ExecuteTime": {
     "end_time": "2021-11-12T23:25:59.605546Z",
     "start_time": "2021-11-12T23:25:59.587556Z"
    }
   },
   "outputs": [
    {
     "data": {
      "text/plain": [
       "{'nome': 'Alice',\n",
       " 'cor_cabelo': 'preto',\n",
       " 'altura': 1.7,\n",
       " 'num_passaporte': 13251351351,\n",
       " 'marca_carro': None,\n",
       " 'num_filhos': 0}"
      ]
     },
     "execution_count": 92,
     "metadata": {},
     "output_type": "execute_result"
    }
   ],
   "source": [
    "vars(alice)"
   ]
  },
  {
   "cell_type": "code",
   "execution_count": 93,
   "metadata": {
    "ExecuteTime": {
     "end_time": "2021-11-12T23:26:19.765553Z",
     "start_time": "2021-11-12T23:26:19.750564Z"
    }
   },
   "outputs": [],
   "source": [
    "bob = Pessoa(\"Bob\", \"marrom\", 1.7)"
   ]
  },
  {
   "cell_type": "code",
   "execution_count": 94,
   "metadata": {
    "ExecuteTime": {
     "end_time": "2021-11-12T23:26:26.413775Z",
     "start_time": "2021-11-12T23:26:26.395785Z"
    }
   },
   "outputs": [
    {
     "data": {
      "text/plain": [
       "{'nome': 'Bob',\n",
       " 'cor_cabelo': 'marrom',\n",
       " 'altura': 1.7,\n",
       " 'num_passaporte': None,\n",
       " 'marca_carro': None,\n",
       " 'num_filhos': 0}"
      ]
     },
     "execution_count": 94,
     "metadata": {},
     "output_type": "execute_result"
    }
   ],
   "source": [
    "vars(bob)"
   ]
  },
  {
   "cell_type": "markdown",
   "metadata": {},
   "source": [
    "E se eu quiser pedir input..?"
   ]
  },
  {
   "cell_type": "code",
   "execution_count": 95,
   "metadata": {
    "ExecuteTime": {
     "end_time": "2021-11-12T23:28:47.379699Z",
     "start_time": "2021-11-12T23:28:47.361715Z"
    }
   },
   "outputs": [],
   "source": [
    "class Pessoa_input:\n",
    "    '''\n",
    "    classe de pessoas\n",
    "    '''\n",
    "    \n",
    "    def __init__(self):\n",
    "        '''\n",
    "        método construtor, inicializa os \n",
    "        atributos \"nome\", \"cor_cabelo\" e \"altura\"\n",
    "        \"'''\n",
    "        \n",
    "        self.nome = input(\"Digite o nome do objeto: \")\n",
    "        self.cor_cabelo = input(\"Digite a cor do cabelo do objeto: \")\n",
    "        \n",
    "        self.altura = float(input(\"Digite a altura do objeto: \"))\n",
    " \n",
    "        self.num_passaporte = None\n",
    "        self.marca_carro = None\n",
    "        self.num_filhos = 0"
   ]
  },
  {
   "cell_type": "code",
   "execution_count": 96,
   "metadata": {
    "ExecuteTime": {
     "end_time": "2021-11-12T23:29:25.723756Z",
     "start_time": "2021-11-12T23:29:18.713069Z"
    }
   },
   "outputs": [
    {
     "name": "stdout",
     "output_type": "stream",
     "text": [
      "Digite o nome do objeto: Bob\n",
      "Digite a cor do cabelo do objeto: Marrom\n",
      "Digite a altura do objeto: 1.7\n"
     ]
    }
   ],
   "source": [
    "bob2 = Pessoa_input()"
   ]
  },
  {
   "cell_type": "code",
   "execution_count": 97,
   "metadata": {
    "ExecuteTime": {
     "end_time": "2021-11-12T23:29:38.988319Z",
     "start_time": "2021-11-12T23:29:38.969333Z"
    }
   },
   "outputs": [
    {
     "data": {
      "text/plain": [
       "{'nome': 'Bob',\n",
       " 'cor_cabelo': 'Marrom',\n",
       " 'altura': 1.7,\n",
       " 'num_passaporte': None,\n",
       " 'marca_carro': None,\n",
       " 'num_filhos': 0}"
      ]
     },
     "execution_count": 97,
     "metadata": {},
     "output_type": "execute_result"
    }
   ],
   "source": [
    "vars(bob2)"
   ]
  },
  {
   "cell_type": "code",
   "execution_count": 98,
   "metadata": {
    "ExecuteTime": {
     "end_time": "2021-11-12T23:31:43.049820Z",
     "start_time": "2021-11-12T23:31:43.036831Z"
    }
   },
   "outputs": [],
   "source": [
    "bobs = [Pessoa(\"Bob da Silva\", \"preto\", 1.7),\n",
    "        Pessoa(\"Bob de Souza\", \"marrom\", 1.6)]"
   ]
  },
  {
   "cell_type": "code",
   "execution_count": 100,
   "metadata": {
    "ExecuteTime": {
     "end_time": "2021-11-12T23:31:57.031645Z",
     "start_time": "2021-11-12T23:31:57.009595Z"
    }
   },
   "outputs": [
    {
     "data": {
      "text/plain": [
       "{'nome': 'Bob da Silva',\n",
       " 'cor_cabelo': 'preto',\n",
       " 'altura': 1.7,\n",
       " 'num_passaporte': None,\n",
       " 'marca_carro': None,\n",
       " 'num_filhos': 0}"
      ]
     },
     "execution_count": 100,
     "metadata": {},
     "output_type": "execute_result"
    }
   ],
   "source": [
    "vars(bobs[0])"
   ]
  },
  {
   "cell_type": "code",
   "execution_count": 101,
   "metadata": {
    "ExecuteTime": {
     "end_time": "2021-11-12T23:32:03.505724Z",
     "start_time": "2021-11-12T23:32:03.481741Z"
    }
   },
   "outputs": [
    {
     "data": {
      "text/plain": [
       "{'nome': 'Bob de Souza',\n",
       " 'cor_cabelo': 'marrom',\n",
       " 'altura': 1.6,\n",
       " 'num_passaporte': None,\n",
       " 'marca_carro': None,\n",
       " 'num_filhos': 0}"
      ]
     },
     "execution_count": 101,
     "metadata": {},
     "output_type": "execute_result"
    }
   ],
   "source": [
    "vars(bobs[1])"
   ]
  },
  {
   "cell_type": "markdown",
   "metadata": {},
   "source": [
    "### Métodos da classe: definindo e chamando\n",
    "\n",
    "Os métodos são **funções específicas de uma classe**, que só podem ser usadas após a criação de um objeto instância da classe.\n",
    "\n",
    "Assim, definimos os métodos dentro da classe, fazendo sempre referência à classe e seus atributos através do parâmetro self:"
   ]
  },
  {
   "cell_type": "code",
   "execution_count": 118,
   "metadata": {
    "ExecuteTime": {
     "end_time": "2021-11-12T23:50:34.467107Z",
     "start_time": "2021-11-12T23:50:34.441123Z"
    }
   },
   "outputs": [],
   "source": [
    "class Pessoa:\n",
    "    '''\n",
    "    classe de pessoas\n",
    "    '''\n",
    "    \n",
    "    def __init__(self, name, hair_color, height):\n",
    "        '''\n",
    "        método construtor, inicializa os \n",
    "        atributos \"nome\", \"cor_cabelo\" e \"altura\"\n",
    "        \"'''\n",
    "        \n",
    "        self.nome = name\n",
    "        self.cor_cabelo = hair_color\n",
    "        \n",
    "        if type(height) != float:\n",
    "            \n",
    "            raise ValueError(\"Tipo de dado errado pra altura!\")\n",
    "        \n",
    "        else:\n",
    "            \n",
    "            self.altura = height\n",
    "            \n",
    "        self.num_passaporte = None\n",
    "        self.marca_carro = None\n",
    "        self.num_filhos = 0\n",
    "        \n",
    "    def fala(self, texto):\n",
    "        \n",
    "        print(f\"{self.nome}, que tem cabelo cor {self.cor_cabelo} diz:\\n{texto}\")"
   ]
  },
  {
   "cell_type": "code",
   "execution_count": 104,
   "metadata": {
    "ExecuteTime": {
     "end_time": "2021-11-12T23:39:51.701882Z",
     "start_time": "2021-11-12T23:39:51.691888Z"
    }
   },
   "outputs": [
    {
     "name": "stdout",
     "output_type": "stream",
     "text": [
      "Bob diz: Oi! Tudo bem?\n"
     ]
    }
   ],
   "source": [
    "nome = \"Bob\"\n",
    "\n",
    "texto = \"Oi! Tudo bem?\"\n",
    "\n",
    "print(f\"{nome} diz: {texto}\")"
   ]
  },
  {
   "cell_type": "code",
   "execution_count": 110,
   "metadata": {
    "ExecuteTime": {
     "end_time": "2021-11-12T23:47:53.421490Z",
     "start_time": "2021-11-12T23:47:53.406498Z"
    }
   },
   "outputs": [],
   "source": [
    "andre = Pessoa(\"André\", \"Preto\", 1.8)"
   ]
  },
  {
   "cell_type": "code",
   "execution_count": 111,
   "metadata": {
    "ExecuteTime": {
     "end_time": "2021-11-12T23:47:53.981376Z",
     "start_time": "2021-11-12T23:47:53.959388Z"
    }
   },
   "outputs": [
    {
     "data": {
      "text/plain": [
       "{'nome': 'André',\n",
       " 'cor_cabelo': 'Preto',\n",
       " 'altura': 1.8,\n",
       " 'num_passaporte': None,\n",
       " 'marca_carro': None,\n",
       " 'num_filhos': 0}"
      ]
     },
     "execution_count": 111,
     "metadata": {},
     "output_type": "execute_result"
    }
   ],
   "source": [
    "vars(andre)"
   ]
  },
  {
   "cell_type": "markdown",
   "metadata": {},
   "source": [
    "Chamando o método, após instanciar a classe.\n",
    "\n",
    "Note, que o primeiro argumento do método, o \"self\", **é ignorado**! Ele é apenas usado para referenciair os atributos da classe!"
   ]
  },
  {
   "cell_type": "code",
   "execution_count": 112,
   "metadata": {
    "ExecuteTime": {
     "end_time": "2021-11-12T23:48:14.515430Z",
     "start_time": "2021-11-12T23:48:14.501438Z"
    }
   },
   "outputs": [
    {
     "name": "stdout",
     "output_type": "stream",
     "text": [
      "André, que tem cabelo cor Preto diz:\n",
      "Eae galera da 815!\n"
     ]
    }
   ],
   "source": [
    "andre.fala(\"Eae galera da 815!\")"
   ]
  },
  {
   "cell_type": "code",
   "execution_count": 113,
   "metadata": {
    "ExecuteTime": {
     "end_time": "2021-11-12T23:48:40.027384Z",
     "start_time": "2021-11-12T23:48:40.013392Z"
    }
   },
   "outputs": [
    {
     "data": {
      "text/plain": [
       "'André'"
      ]
     },
     "execution_count": 113,
     "metadata": {},
     "output_type": "execute_result"
    }
   ],
   "source": [
    "andre.nome"
   ]
  },
  {
   "cell_type": "code",
   "execution_count": 114,
   "metadata": {
    "ExecuteTime": {
     "end_time": "2021-11-12T23:48:51.401987Z",
     "start_time": "2021-11-12T23:48:51.391992Z"
    }
   },
   "outputs": [
    {
     "data": {
      "text/plain": [
       "'Preto'"
      ]
     },
     "execution_count": 114,
     "metadata": {},
     "output_type": "execute_result"
    }
   ],
   "source": [
    "andre.cor_cabelo"
   ]
  },
  {
   "cell_type": "code",
   "execution_count": 116,
   "metadata": {
    "ExecuteTime": {
     "end_time": "2021-11-12T23:49:07.986032Z",
     "start_time": "2021-11-12T23:49:07.967042Z"
    }
   },
   "outputs": [
    {
     "name": "stdout",
     "output_type": "stream",
     "text": [
      "André, que tem cabelo cor Preto diz:\n",
      "Eae galera da 815!\n"
     ]
    }
   ],
   "source": [
    "texto = \"Eae galera da 815!\"\n",
    "\n",
    "print(f\"{andre.nome}, que tem cabelo cor {andre.cor_cabelo} diz:\\n{texto}\")"
   ]
  },
  {
   "cell_type": "code",
   "execution_count": 124,
   "metadata": {
    "ExecuteTime": {
     "end_time": "2021-11-13T00:03:55.404780Z",
     "start_time": "2021-11-13T00:03:55.388791Z"
    }
   },
   "outputs": [
    {
     "name": "stdout",
     "output_type": "stream",
     "text": [
      "Bob, que tem cabelo cor preto diz:\n",
      "Saalve!\n"
     ]
    }
   ],
   "source": [
    "# criando o bob de novo, com a claase atualizada\n",
    "\n",
    "bob = Pessoa(\"Bob\", \"preto\", 1.7)\n",
    "\n",
    "bob.fala(\"Saalve!\")"
   ]
  },
  {
   "cell_type": "markdown",
   "metadata": {},
   "source": [
    "Vamos criar um método que \n",
    "altera diretamente um atributo:"
   ]
  },
  {
   "cell_type": "code",
   "execution_count": 30,
   "metadata": {
    "ExecuteTime": {
     "end_time": "2021-11-16T22:41:26.232926Z",
     "start_time": "2021-11-16T22:41:26.198943Z"
    }
   },
   "outputs": [],
   "source": [
    "class Pessoa:\n",
    "    '''\n",
    "    classe de pessoas\n",
    "    '''\n",
    "    \n",
    "    def __init__(self, name, hair_color, height):\n",
    "        '''\n",
    "        método construtor, inicializa os \n",
    "        atributos \"nome\", \"cor_cabelo\" e \"altura\"\n",
    "        \"'''\n",
    "        \n",
    "        self.nome = name\n",
    "        self.cor_cabelo = hair_color\n",
    "        \n",
    "        if type(height) != float:\n",
    "            \n",
    "            raise ValueError(\"Tipo de dado errado pra altura!\")\n",
    "        \n",
    "        else:\n",
    "            \n",
    "            self.altura = height\n",
    "            \n",
    "        self.num_passaporte = None\n",
    "        self.marca_carro = None\n",
    "        self.num_filhos = 0\n",
    "        \n",
    "        # bool\n",
    "        self.emprego = False\n",
    "        self.salario = 0\n",
    "        \n",
    "        \n",
    "    def fala(self, texto):\n",
    "        \n",
    "        print(f\"{self.nome}, que tem cabelo cor {self.cor_cabelo} diz:\\n{texto}\")\n",
    "        \n",
    "        \n",
    "    def pinta_cabelo(self, cor : str):\n",
    "        '''\n",
    "        altera o atributo de cor de cabelo\n",
    "        \n",
    "        args:\n",
    "        \n",
    "            - cor (str)\n",
    "        '''\n",
    "        \n",
    "        if type(cor) != str:\n",
    "            \n",
    "            raise ValueError(\"Tipo de dado errado pra cor de cabelo!\")\n",
    "        \n",
    "        else:\n",
    "            \n",
    "            self.cor_cabelo = cor\n",
    "        \n",
    "        \n",
    "    def status_emprego(self, empregado, salary=0):\n",
    "        '''\n",
    "        muda status de emprego, e adiciona respectivo salario\n",
    "        argumentos:\n",
    "            - empregado: booleano;\n",
    "            - salary: int ou float.\n",
    "        '''\n",
    "        \n",
    "        self.emprego = empregado\n",
    "\n",
    "        self.salario = salary if empregado else 0\n",
    "        \n",
    "\n",
    "    def aumento(self, perc):\n",
    "        '''\n",
    "        aumenta o salario em \"perc\" pontos percentuais\n",
    "        OBS: o perc deve estar \"dividido por 100\",\n",
    "        ou seja, se houver um aumento de 10%, temos perc = 0.1\n",
    "        '''\n",
    "        \n",
    "        if self.emprego:\n",
    "        \n",
    "            self.salario = self.salario*(1 + perc)\n",
    "            \n",
    "        else:\n",
    "            \n",
    "            print(f\"{self.nome} não tem emprego, portanto, não pode ter aumento!\")\n",
    "            \n",
    "            \n",
    "    def printa_info(self):\n",
    "        '''\n",
    "        isso é uma função auxiliar pra printar o status empregatício de um objeto Pessoa\n",
    "        '''\n",
    "\n",
    "        if self.emprego:\n",
    "\n",
    "            str_info = f\"O {self.nome} está empregado, e ganha R$ {self.salario:.2f}\"\n",
    "\n",
    "        else:\n",
    "\n",
    "            str_info = f\"O {self.nome} está desempregado\"\n",
    "\n",
    "        print(str_info)"
   ]
  },
  {
   "cell_type": "markdown",
   "metadata": {},
   "source": [
    "______\n",
    "\n",
    "Funções com argumento padrão (default)"
   ]
  },
  {
   "cell_type": "code",
   "execution_count": 3,
   "metadata": {
    "ExecuteTime": {
     "end_time": "2021-11-16T22:22:17.377870Z",
     "start_time": "2021-11-16T22:22:17.361879Z"
    }
   },
   "outputs": [],
   "source": [
    "def soma1(x, y):\n",
    "    \n",
    "    return x + y"
   ]
  },
  {
   "cell_type": "code",
   "execution_count": 4,
   "metadata": {
    "ExecuteTime": {
     "end_time": "2021-11-16T22:22:22.235808Z",
     "start_time": "2021-11-16T22:22:22.214822Z"
    }
   },
   "outputs": [
    {
     "data": {
      "text/plain": [
       "5"
      ]
     },
     "execution_count": 4,
     "metadata": {},
     "output_type": "execute_result"
    }
   ],
   "source": [
    "soma1(2, 3)"
   ]
  },
  {
   "cell_type": "code",
   "execution_count": 205,
   "metadata": {
    "ExecuteTime": {
     "end_time": "2021-11-13T00:55:38.035132Z",
     "start_time": "2021-11-13T00:55:37.970170Z"
    }
   },
   "outputs": [
    {
     "ename": "TypeError",
     "evalue": "soma1() missing 1 required positional argument: 'y'",
     "output_type": "error",
     "traceback": [
      "\u001b[1;31m---------------------------------------------------------------------------\u001b[0m",
      "\u001b[1;31mTypeError\u001b[0m                                 Traceback (most recent call last)",
      "\u001b[1;32m<ipython-input-205-2360fa24d465>\u001b[0m in \u001b[0;36m<module>\u001b[1;34m\u001b[0m\n\u001b[1;32m----> 1\u001b[1;33m \u001b[0msoma1\u001b[0m\u001b[1;33m(\u001b[0m\u001b[1;36m2\u001b[0m\u001b[1;33m)\u001b[0m\u001b[1;33m\u001b[0m\u001b[1;33m\u001b[0m\u001b[0m\n\u001b[0m",
      "\u001b[1;31mTypeError\u001b[0m: soma1() missing 1 required positional argument: 'y'"
     ]
    }
   ],
   "source": [
    "soma1(2)"
   ]
  },
  {
   "cell_type": "code",
   "execution_count": 9,
   "metadata": {
    "ExecuteTime": {
     "end_time": "2021-11-16T22:27:01.100862Z",
     "start_time": "2021-11-16T22:27:01.091869Z"
    }
   },
   "outputs": [],
   "source": [
    "def soma2(x, y=0):\n",
    "    \n",
    "    return x + y"
   ]
  },
  {
   "cell_type": "code",
   "execution_count": 10,
   "metadata": {
    "ExecuteTime": {
     "end_time": "2021-11-16T22:27:01.333349Z",
     "start_time": "2021-11-16T22:27:01.312362Z"
    }
   },
   "outputs": [
    {
     "data": {
      "text/plain": [
       "5"
      ]
     },
     "execution_count": 10,
     "metadata": {},
     "output_type": "execute_result"
    }
   ],
   "source": [
    "soma2(2, 3)"
   ]
  },
  {
   "cell_type": "code",
   "execution_count": 11,
   "metadata": {
    "ExecuteTime": {
     "end_time": "2021-11-16T22:27:01.533979Z",
     "start_time": "2021-11-16T22:27:01.511988Z"
    }
   },
   "outputs": [
    {
     "data": {
      "text/plain": [
       "5"
      ]
     },
     "execution_count": 11,
     "metadata": {},
     "output_type": "execute_result"
    }
   ],
   "source": [
    "soma2(x=2, y=3)"
   ]
  },
  {
   "cell_type": "code",
   "execution_count": 12,
   "metadata": {
    "ExecuteTime": {
     "end_time": "2021-11-16T22:27:01.856791Z",
     "start_time": "2021-11-16T22:27:01.842797Z"
    }
   },
   "outputs": [
    {
     "data": {
      "text/plain": [
       "2"
      ]
     },
     "execution_count": 12,
     "metadata": {},
     "output_type": "execute_result"
    }
   ],
   "source": [
    "soma2(2)"
   ]
  },
  {
   "cell_type": "code",
   "execution_count": 13,
   "metadata": {
    "ExecuteTime": {
     "end_time": "2021-11-16T22:27:03.107906Z",
     "start_time": "2021-11-16T22:27:03.095913Z"
    }
   },
   "outputs": [],
   "source": [
    "def soma3(x=0, y=0, z=0):\n",
    "    \n",
    "    return x + y + z"
   ]
  },
  {
   "cell_type": "code",
   "execution_count": 14,
   "metadata": {
    "ExecuteTime": {
     "end_time": "2021-11-16T22:27:03.325791Z",
     "start_time": "2021-11-16T22:27:03.310799Z"
    }
   },
   "outputs": [
    {
     "data": {
      "text/plain": [
       "0"
      ]
     },
     "execution_count": 14,
     "metadata": {},
     "output_type": "execute_result"
    }
   ],
   "source": [
    "soma3()"
   ]
  },
  {
   "cell_type": "code",
   "execution_count": 15,
   "metadata": {
    "ExecuteTime": {
     "end_time": "2021-11-16T22:27:03.512692Z",
     "start_time": "2021-11-16T22:27:03.498701Z"
    }
   },
   "outputs": [
    {
     "data": {
      "text/plain": [
       "2"
      ]
     },
     "execution_count": 15,
     "metadata": {},
     "output_type": "execute_result"
    }
   ],
   "source": [
    "soma3(y=2)"
   ]
  },
  {
   "cell_type": "markdown",
   "metadata": {},
   "source": [
    "___________"
   ]
  },
  {
   "cell_type": "code",
   "execution_count": 18,
   "metadata": {
    "ExecuteTime": {
     "end_time": "2021-11-16T22:34:02.084100Z",
     "start_time": "2021-11-16T22:34:02.077105Z"
    }
   },
   "outputs": [
    {
     "data": {
      "text/plain": [
       "True"
      ]
     },
     "execution_count": 18,
     "metadata": {},
     "output_type": "execute_result"
    }
   ],
   "source": [
    "isinstance(\"andre\", str)"
   ]
  },
  {
   "cell_type": "code",
   "execution_count": 19,
   "metadata": {
    "ExecuteTime": {
     "end_time": "2021-11-16T22:34:02.508350Z",
     "start_time": "2021-11-16T22:34:02.495348Z"
    }
   },
   "outputs": [
    {
     "data": {
      "text/plain": [
       "False"
      ]
     },
     "execution_count": 19,
     "metadata": {},
     "output_type": "execute_result"
    }
   ],
   "source": [
    "isinstance(\"andre\", float)"
   ]
  },
  {
   "cell_type": "code",
   "execution_count": 20,
   "metadata": {
    "ExecuteTime": {
     "end_time": "2021-11-16T22:34:05.603175Z",
     "start_time": "2021-11-16T22:34:05.581207Z"
    }
   },
   "outputs": [
    {
     "data": {
      "text/plain": [
       "False"
      ]
     },
     "execution_count": 20,
     "metadata": {},
     "output_type": "execute_result"
    }
   ],
   "source": [
    "nome = \"andre\"\n",
    "\n",
    "isinstance(nome, Pessoa)"
   ]
  },
  {
   "cell_type": "code",
   "execution_count": 21,
   "metadata": {
    "ExecuteTime": {
     "end_time": "2021-11-16T22:34:06.524255Z",
     "start_time": "2021-11-16T22:34:06.510263Z"
    }
   },
   "outputs": [
    {
     "data": {
      "text/plain": [
       "False"
      ]
     },
     "execution_count": 21,
     "metadata": {},
     "output_type": "execute_result"
    }
   ],
   "source": [
    "isinstance(bob, Pessoa)"
   ]
  },
  {
   "cell_type": "code",
   "execution_count": 41,
   "metadata": {
    "ExecuteTime": {
     "end_time": "2021-11-16T22:42:31.732087Z",
     "start_time": "2021-11-16T22:42:31.723093Z"
    }
   },
   "outputs": [],
   "source": [
    "def printa_info(obj, classe=Pessoa):\n",
    "    '''\n",
    "    isso é uma função auxiliar pra printar o status empregatício de um objeto Pessoa\n",
    "    '''\n",
    "    \n",
    "    if isinstance(obj, classe):\n",
    "        \n",
    "        if obj.emprego:\n",
    "\n",
    "            str_info = f\"AAAAAAAAAAAAAAAA\\nO {obj.nome} está empregado, e ganha R$ {obj.salario:.2f}\"\n",
    "\n",
    "        else:\n",
    "\n",
    "            str_info = f\"AAAAAAAAAAAAAAAA\\nO {obj.nome} está desempregado\"\n",
    "\n",
    "        print(str_info)\n",
    "        \n",
    "    else:\n",
    "        \n",
    "        print(\"O objeto não é da classe Pessoa!\")"
   ]
  },
  {
   "cell_type": "code",
   "execution_count": 42,
   "metadata": {
    "ExecuteTime": {
     "end_time": "2021-11-16T22:42:34.403824Z",
     "start_time": "2021-11-16T22:42:34.398291Z"
    }
   },
   "outputs": [],
   "source": [
    "# finalmente, instanciando \n",
    "\n",
    "bob = Pessoa(\"Bob\", \"preto\", 1.7)"
   ]
  },
  {
   "cell_type": "code",
   "execution_count": 43,
   "metadata": {
    "ExecuteTime": {
     "end_time": "2021-11-16T22:42:34.749180Z",
     "start_time": "2021-11-16T22:42:34.730678Z"
    }
   },
   "outputs": [
    {
     "name": "stdout",
     "output_type": "stream",
     "text": [
      "Bob, que tem cabelo cor preto diz:\n",
      "olá\n"
     ]
    }
   ],
   "source": [
    "bob.fala(\"olá\")"
   ]
  },
  {
   "cell_type": "code",
   "execution_count": 46,
   "metadata": {
    "ExecuteTime": {
     "end_time": "2021-11-16T22:43:07.559899Z",
     "start_time": "2021-11-16T22:43:07.541891Z"
    }
   },
   "outputs": [
    {
     "name": "stdout",
     "output_type": "stream",
     "text": [
      "O Bob está desempregado\n"
     ]
    }
   ],
   "source": [
    "bob.printa_info()"
   ]
  },
  {
   "cell_type": "code",
   "execution_count": 47,
   "metadata": {
    "ExecuteTime": {
     "end_time": "2021-11-16T22:43:12.207384Z",
     "start_time": "2021-11-16T22:43:12.192376Z"
    }
   },
   "outputs": [
    {
     "name": "stdout",
     "output_type": "stream",
     "text": [
      "AAAAAAAAAAAAAAAA\n",
      "O Bob está desempregado\n"
     ]
    }
   ],
   "source": [
    "printa_info(bob)"
   ]
  },
  {
   "cell_type": "code",
   "execution_count": 49,
   "metadata": {
    "ExecuteTime": {
     "end_time": "2021-11-16T22:43:59.175594Z",
     "start_time": "2021-11-16T22:43:59.157609Z"
    }
   },
   "outputs": [
    {
     "data": {
      "text/plain": [
       "1639465131744"
      ]
     },
     "execution_count": 49,
     "metadata": {},
     "output_type": "execute_result"
    }
   ],
   "source": [
    "id(Pessoa.printa_info)"
   ]
  },
  {
   "cell_type": "code",
   "execution_count": 48,
   "metadata": {
    "ExecuteTime": {
     "end_time": "2021-11-16T22:43:43.100290Z",
     "start_time": "2021-11-16T22:43:43.093298Z"
    }
   },
   "outputs": [
    {
     "data": {
      "text/plain": [
       "1639465131888"
      ]
     },
     "execution_count": 48,
     "metadata": {},
     "output_type": "execute_result"
    }
   ],
   "source": [
    "id(printa_info)"
   ]
  },
  {
   "cell_type": "code",
   "execution_count": 50,
   "metadata": {
    "ExecuteTime": {
     "end_time": "2021-11-16T22:45:00.185124Z",
     "start_time": "2021-11-16T22:45:00.171133Z"
    }
   },
   "outputs": [
    {
     "data": {
      "text/plain": [
       "'preto'"
      ]
     },
     "execution_count": 50,
     "metadata": {},
     "output_type": "execute_result"
    }
   ],
   "source": [
    "bob.cor_cabelo"
   ]
  },
  {
   "cell_type": "code",
   "execution_count": 51,
   "metadata": {
    "ExecuteTime": {
     "end_time": "2021-11-16T22:45:02.569255Z",
     "start_time": "2021-11-16T22:45:02.557238Z"
    }
   },
   "outputs": [],
   "source": [
    "bob.pinta_cabelo(\"roxo\")"
   ]
  },
  {
   "cell_type": "code",
   "execution_count": 52,
   "metadata": {
    "ExecuteTime": {
     "end_time": "2021-11-16T22:45:05.249402Z",
     "start_time": "2021-11-16T22:45:05.235412Z"
    }
   },
   "outputs": [
    {
     "data": {
      "text/plain": [
       "'roxo'"
      ]
     },
     "execution_count": 52,
     "metadata": {},
     "output_type": "execute_result"
    }
   ],
   "source": [
    "bob.cor_cabelo"
   ]
  },
  {
   "cell_type": "code",
   "execution_count": 54,
   "metadata": {
    "ExecuteTime": {
     "end_time": "2021-11-16T22:46:19.335063Z",
     "start_time": "2021-11-16T22:46:19.314050Z"
    }
   },
   "outputs": [
    {
     "ename": "ValueError",
     "evalue": "Tipo de dado errado pra cor de cabelo!",
     "output_type": "error",
     "traceback": [
      "\u001b[1;31m---------------------------------------------------------------------------\u001b[0m",
      "\u001b[1;31mValueError\u001b[0m                                Traceback (most recent call last)",
      "\u001b[1;32m<ipython-input-54-429043389c5e>\u001b[0m in \u001b[0;36m<module>\u001b[1;34m\u001b[0m\n\u001b[0;32m      1\u001b[0m \u001b[1;31m# isso gera um erro, devido ao check que colocamos no método\u001b[0m\u001b[1;33m\u001b[0m\u001b[1;33m\u001b[0m\u001b[1;33m\u001b[0m\u001b[0m\n\u001b[0;32m      2\u001b[0m \u001b[1;33m\u001b[0m\u001b[0m\n\u001b[1;32m----> 3\u001b[1;33m \u001b[0mbob\u001b[0m\u001b[1;33m.\u001b[0m\u001b[0mpinta_cabelo\u001b[0m\u001b[1;33m(\u001b[0m\u001b[1;36m42\u001b[0m\u001b[1;33m)\u001b[0m\u001b[1;33m\u001b[0m\u001b[1;33m\u001b[0m\u001b[0m\n\u001b[0m",
      "\u001b[1;32m<ipython-input-30-47c9a7a9256c>\u001b[0m in \u001b[0;36mpinta_cabelo\u001b[1;34m(self, cor)\u001b[0m\n\u001b[0;32m     46\u001b[0m         \u001b[1;32mif\u001b[0m \u001b[0mtype\u001b[0m\u001b[1;33m(\u001b[0m\u001b[0mcor\u001b[0m\u001b[1;33m)\u001b[0m \u001b[1;33m!=\u001b[0m \u001b[0mstr\u001b[0m\u001b[1;33m:\u001b[0m\u001b[1;33m\u001b[0m\u001b[1;33m\u001b[0m\u001b[0m\n\u001b[0;32m     47\u001b[0m \u001b[1;33m\u001b[0m\u001b[0m\n\u001b[1;32m---> 48\u001b[1;33m             \u001b[1;32mraise\u001b[0m \u001b[0mValueError\u001b[0m\u001b[1;33m(\u001b[0m\u001b[1;34m\"Tipo de dado errado pra cor de cabelo!\"\u001b[0m\u001b[1;33m)\u001b[0m\u001b[1;33m\u001b[0m\u001b[1;33m\u001b[0m\u001b[0m\n\u001b[0m\u001b[0;32m     49\u001b[0m \u001b[1;33m\u001b[0m\u001b[0m\n\u001b[0;32m     50\u001b[0m         \u001b[1;32melse\u001b[0m\u001b[1;33m:\u001b[0m\u001b[1;33m\u001b[0m\u001b[1;33m\u001b[0m\u001b[0m\n",
      "\u001b[1;31mValueError\u001b[0m: Tipo de dado errado pra cor de cabelo!"
     ]
    }
   ],
   "source": [
    "# isso gera um erro, devido ao check que colocamos no método\n",
    "\n",
    "bob.pinta_cabelo(42)"
   ]
  },
  {
   "cell_type": "code",
   "execution_count": 64,
   "metadata": {
    "ExecuteTime": {
     "end_time": "2021-11-16T22:50:07.586496Z",
     "start_time": "2021-11-16T22:50:07.572503Z"
    }
   },
   "outputs": [
    {
     "data": {
      "text/plain": [
       "'roxo'"
      ]
     },
     "execution_count": 64,
     "metadata": {},
     "output_type": "execute_result"
    }
   ],
   "source": [
    "# validando input de usuario\n",
    "\n",
    "string_cor = \"roxo423135\"\n",
    "\n",
    "# retorna uma string sem qqr digito\n",
    "\"\".join([char for char in string_cor if not char.isdigit()])"
   ]
  },
  {
   "cell_type": "code",
   "execution_count": 65,
   "metadata": {
    "ExecuteTime": {
     "end_time": "2021-11-16T22:51:20.164494Z",
     "start_time": "2021-11-16T22:51:20.149503Z"
    }
   },
   "outputs": [
    {
     "data": {
      "text/plain": [
       "{'nome': 'Bob',\n",
       " 'cor_cabelo': 'roxo',\n",
       " 'altura': 1.7,\n",
       " 'num_passaporte': None,\n",
       " 'marca_carro': None,\n",
       " 'num_filhos': 0,\n",
       " 'emprego': False,\n",
       " 'salario': 0}"
      ]
     },
     "execution_count": 65,
     "metadata": {},
     "output_type": "execute_result"
    }
   ],
   "source": [
    "vars(bob)"
   ]
  },
  {
   "cell_type": "code",
   "execution_count": 66,
   "metadata": {
    "ExecuteTime": {
     "end_time": "2021-11-16T22:51:31.881651Z",
     "start_time": "2021-11-16T22:51:31.861661Z"
    }
   },
   "outputs": [],
   "source": [
    "bob.status_emprego(True, 2000)"
   ]
  },
  {
   "cell_type": "code",
   "execution_count": 67,
   "metadata": {
    "ExecuteTime": {
     "end_time": "2021-11-16T22:51:45.499060Z",
     "start_time": "2021-11-16T22:51:45.486070Z"
    }
   },
   "outputs": [
    {
     "name": "stdout",
     "output_type": "stream",
     "text": [
      "AAAAAAAAAAAAAAAA\n",
      "O Bob está empregado, e ganha R$ 2000.00\n"
     ]
    }
   ],
   "source": [
    "printa_info(bob)"
   ]
  },
  {
   "cell_type": "code",
   "execution_count": 68,
   "metadata": {
    "ExecuteTime": {
     "end_time": "2021-11-16T22:51:55.229705Z",
     "start_time": "2021-11-16T22:51:55.220711Z"
    }
   },
   "outputs": [
    {
     "name": "stdout",
     "output_type": "stream",
     "text": [
      "O Bob está empregado, e ganha R$ 2000.00\n"
     ]
    }
   ],
   "source": [
    "bob.printa_info()"
   ]
  },
  {
   "cell_type": "code",
   "execution_count": 69,
   "metadata": {
    "ExecuteTime": {
     "end_time": "2021-11-16T22:52:02.245713Z",
     "start_time": "2021-11-16T22:52:02.235192Z"
    }
   },
   "outputs": [],
   "source": [
    "bob.status_emprego(False)"
   ]
  },
  {
   "cell_type": "code",
   "execution_count": 70,
   "metadata": {
    "ExecuteTime": {
     "end_time": "2021-11-16T22:52:08.779052Z",
     "start_time": "2021-11-16T22:52:08.770055Z"
    }
   },
   "outputs": [
    {
     "name": "stdout",
     "output_type": "stream",
     "text": [
      "O Bob está desempregado\n"
     ]
    }
   ],
   "source": [
    "bob.printa_info()"
   ]
  },
  {
   "cell_type": "code",
   "execution_count": 71,
   "metadata": {
    "ExecuteTime": {
     "end_time": "2021-11-16T22:52:17.841319Z",
     "start_time": "2021-11-16T22:52:17.825329Z"
    }
   },
   "outputs": [
    {
     "name": "stdout",
     "output_type": "stream",
     "text": [
      "Bob não tem emprego, portanto, não pode ter aumento!\n"
     ]
    }
   ],
   "source": [
    "bob.aumento(0.1)"
   ]
  },
  {
   "cell_type": "code",
   "execution_count": 72,
   "metadata": {
    "ExecuteTime": {
     "end_time": "2021-11-16T22:52:27.724086Z",
     "start_time": "2021-11-16T22:52:27.706080Z"
    }
   },
   "outputs": [],
   "source": [
    "bob.status_emprego(True, 4000)"
   ]
  },
  {
   "cell_type": "code",
   "execution_count": 73,
   "metadata": {
    "ExecuteTime": {
     "end_time": "2021-11-16T22:52:31.723089Z",
     "start_time": "2021-11-16T22:52:31.706099Z"
    }
   },
   "outputs": [
    {
     "name": "stdout",
     "output_type": "stream",
     "text": [
      "O Bob está empregado, e ganha R$ 4000.00\n"
     ]
    }
   ],
   "source": [
    "bob.printa_info()"
   ]
  },
  {
   "cell_type": "code",
   "execution_count": 74,
   "metadata": {
    "ExecuteTime": {
     "end_time": "2021-11-16T22:52:37.076297Z",
     "start_time": "2021-11-16T22:52:37.062305Z"
    }
   },
   "outputs": [],
   "source": [
    "bob.aumento(0.25)"
   ]
  },
  {
   "cell_type": "code",
   "execution_count": 75,
   "metadata": {
    "ExecuteTime": {
     "end_time": "2021-11-16T22:52:40.981834Z",
     "start_time": "2021-11-16T22:52:40.961846Z"
    }
   },
   "outputs": [
    {
     "name": "stdout",
     "output_type": "stream",
     "text": [
      "O Bob está empregado, e ganha R$ 5000.00\n"
     ]
    }
   ],
   "source": [
    "bob.printa_info()"
   ]
  },
  {
   "cell_type": "code",
   "execution_count": 76,
   "metadata": {
    "ExecuteTime": {
     "end_time": "2021-11-16T22:54:32.248576Z",
     "start_time": "2021-11-16T22:54:32.232583Z"
    }
   },
   "outputs": [],
   "source": [
    "bob.num_pets = 2"
   ]
  },
  {
   "cell_type": "code",
   "execution_count": 77,
   "metadata": {
    "ExecuteTime": {
     "end_time": "2021-11-16T22:54:41.054282Z",
     "start_time": "2021-11-16T22:54:41.040291Z"
    }
   },
   "outputs": [
    {
     "data": {
      "text/plain": [
       "{'nome': 'Bob',\n",
       " 'cor_cabelo': 'roxo',\n",
       " 'altura': 1.7,\n",
       " 'num_passaporte': None,\n",
       " 'marca_carro': None,\n",
       " 'num_filhos': 0,\n",
       " 'emprego': True,\n",
       " 'salario': 5000.0,\n",
       " 'num_pets': 2}"
      ]
     },
     "execution_count": 77,
     "metadata": {},
     "output_type": "execute_result"
    }
   ],
   "source": [
    "vars(bob)"
   ]
  },
  {
   "cell_type": "markdown",
   "metadata": {},
   "source": [
    "A este ponto, conseguimos reconhecer que já fizemos muito o uso de métodos e objetos sem termos nos dado conta de sua existência!\n",
    "\n",
    "Por exemplo, para strings, usamos métodos como `.upper()`, `.lower()`, `.replace()`, etc.\n",
    "\n",
    "Para séries do pandas, usamos `.mean()`, `.value_counts()`, etc.\n",
    "\n",
    "Isso mostra que `str`, `list` e `pd.Series` são estruturas de classe! E, realmente, eles são! Nos bastidores do Python, muita coisa é feita com classes, sem que ao menos percebamos! E essa é uma das grandes vantagens desses métodos!"
   ]
  },
  {
   "cell_type": "markdown",
   "metadata": {},
   "source": [
    "_____\n",
    "_____\n",
    "_____"
   ]
  },
  {
   "cell_type": "code",
   "execution_count": 85,
   "metadata": {
    "ExecuteTime": {
     "end_time": "2021-11-16T23:01:50.348444Z",
     "start_time": "2021-11-16T23:01:50.329455Z"
    }
   },
   "outputs": [],
   "source": [
    "alice = Pessoa(\"Alice\", \"verde\", 1.7)"
   ]
  },
  {
   "cell_type": "code",
   "execution_count": 86,
   "metadata": {
    "ExecuteTime": {
     "end_time": "2021-11-16T23:01:50.521346Z",
     "start_time": "2021-11-16T23:01:50.515348Z"
    }
   },
   "outputs": [
    {
     "data": {
      "text/plain": [
       "True"
      ]
     },
     "execution_count": 86,
     "metadata": {},
     "output_type": "execute_result"
    }
   ],
   "source": [
    "isinstance(bob, Pessoa)"
   ]
  },
  {
   "cell_type": "code",
   "execution_count": 87,
   "metadata": {
    "ExecuteTime": {
     "end_time": "2021-11-16T23:01:50.692268Z",
     "start_time": "2021-11-16T23:01:50.673289Z"
    }
   },
   "outputs": [
    {
     "data": {
      "text/plain": [
       "True"
      ]
     },
     "execution_count": 87,
     "metadata": {},
     "output_type": "execute_result"
    }
   ],
   "source": [
    "isinstance(alice, Pessoa)"
   ]
  },
  {
   "cell_type": "code",
   "execution_count": 88,
   "metadata": {
    "ExecuteTime": {
     "end_time": "2021-11-16T23:01:50.866167Z",
     "start_time": "2021-11-16T23:01:50.850177Z"
    }
   },
   "outputs": [
    {
     "data": {
      "text/plain": [
       "__main__.Pessoa"
      ]
     },
     "execution_count": 88,
     "metadata": {},
     "output_type": "execute_result"
    }
   ],
   "source": [
    "type(bob)"
   ]
  },
  {
   "cell_type": "code",
   "execution_count": 89,
   "metadata": {
    "ExecuteTime": {
     "end_time": "2021-11-16T23:01:51.008085Z",
     "start_time": "2021-11-16T23:01:50.994093Z"
    }
   },
   "outputs": [
    {
     "data": {
      "text/plain": [
       "__main__.Pessoa"
      ]
     },
     "execution_count": 89,
     "metadata": {},
     "output_type": "execute_result"
    }
   ],
   "source": [
    "type(alice)"
   ]
  },
  {
   "cell_type": "code",
   "execution_count": 90,
   "metadata": {
    "ExecuteTime": {
     "end_time": "2021-11-16T23:01:51.195988Z",
     "start_time": "2021-11-16T23:01:51.187987Z"
    }
   },
   "outputs": [
    {
     "data": {
      "text/plain": [
       "True"
      ]
     },
     "execution_count": 90,
     "metadata": {},
     "output_type": "execute_result"
    }
   ],
   "source": [
    "type(bob) == type(alice)"
   ]
  },
  {
   "cell_type": "code",
   "execution_count": 91,
   "metadata": {
    "ExecuteTime": {
     "end_time": "2021-11-16T23:01:51.477856Z",
     "start_time": "2021-11-16T23:01:51.469827Z"
    }
   },
   "outputs": [
    {
     "name": "stdout",
     "output_type": "stream",
     "text": [
      "Alice, que tem cabelo cor verde diz:\n",
      "Oi, sou a alice\n"
     ]
    }
   ],
   "source": [
    "alice.fala(\"Oi, sou a alice\")"
   ]
  },
  {
   "cell_type": "markdown",
   "metadata": {},
   "source": [
    "## 3) Atributos e métodos estáticos\n",
    "\n",
    "Se quisermos criar atributos e métodos que pertençam **à classe**, e não exatamente a um objeto instanciado desta, usamos suas versões **estáticas**\n",
    "\n",
    "- Para criar um atributo estático, basta **criar uma variável (atribuindo um valor inicial a ela) dentro da classe**, mas **fora de qualquer um de seus métodos**;\n",
    "- Para criar um método estático, use antes de sua criação **@staticmethod**"
   ]
  },
  {
   "cell_type": "code",
   "execution_count": 253,
   "metadata": {
    "ExecuteTime": {
     "end_time": "2021-11-16T23:47:11.543128Z",
     "start_time": "2021-11-16T23:47:11.498156Z"
    }
   },
   "outputs": [],
   "source": [
    "class Pessoa:\n",
    "    '''\n",
    "    classe de pessoas\n",
    "    '''\n",
    "    # atributos estatísticos\n",
    "    populacao = 0\n",
    "    lista_nomes = []\n",
    "    lista_objs = []\n",
    "    dict_cadastro = {}\n",
    "    \n",
    "    def __init__(self, name, hair_color, height):\n",
    "        '''\n",
    "        método construtor, inicializa os \n",
    "        atributos \"nome\", \"cor_cabelo\" e \"altura\"\n",
    "        \"'''\n",
    "        \n",
    "        self.nome = name\n",
    "        self.cor_cabelo = hair_color\n",
    "        \n",
    "        if type(height) != float:\n",
    "            \n",
    "            raise ValueError(\"Tipo de dado errado pra altura!\")\n",
    "        \n",
    "        else:\n",
    "            \n",
    "            self.altura = height\n",
    "            \n",
    "        self.num_passaporte = None\n",
    "        self.marca_carro = None\n",
    "        self.num_filhos = 0\n",
    "        \n",
    "        # bool\n",
    "        self.emprego = False\n",
    "        self.salario = 0\n",
    "        \n",
    "        # incrementando o atributo estático \"populacao\"\n",
    "        Pessoa.populacao = Pessoa.populacao + 1\n",
    "        \n",
    "        Pessoa.lista_nomes.append(self.nome)\n",
    "        \n",
    "        Pessoa.lista_objs.append(self)\n",
    "        \n",
    "        Pessoa.dict_cadastro[self.nome] = vars(self)\n",
    "        \n",
    "        \n",
    "    def fala(self, texto):\n",
    "        \n",
    "        print(f\"{self.nome}, que tem cabelo cor {self.cor_cabelo} diz:\\n{texto}\")\n",
    "        \n",
    "        \n",
    "    def pinta_cabelo(self, cor : str):\n",
    "        '''\n",
    "        altera o atributo de cor de cabelo\n",
    "        \n",
    "        args:\n",
    "        \n",
    "            - cor (str)\n",
    "        '''\n",
    "        \n",
    "        if type(cor) != str:\n",
    "            \n",
    "            raise ValueError(\"Tipo de dado errado pra cor de cabelo!\")\n",
    "        \n",
    "        else:\n",
    "            \n",
    "            self.cor_cabelo = cor\n",
    "        \n",
    "        \n",
    "    def status_emprego(self, empregado, salary=0):\n",
    "        '''\n",
    "        muda status de emprego, e adiciona respectivo salario\n",
    "        argumentos:\n",
    "            - empregado: booleano;\n",
    "            - salary: int ou float.\n",
    "        '''\n",
    "        \n",
    "        self.emprego = empregado\n",
    "\n",
    "        self.salario = salary if empregado else 0\n",
    "        \n",
    "\n",
    "    def aumento(self, perc):\n",
    "        '''\n",
    "        aumenta o salario em \"perc\" pontos percentuais\n",
    "        OBS: o perc deve estar \"dividido por 100\",\n",
    "        ou seja, se houver um aumento de 10%, temos perc = 0.1\n",
    "        '''\n",
    "        \n",
    "        if self.emprego:\n",
    "        \n",
    "            self.salario = self.salario*(1 + perc)\n",
    "            \n",
    "        else:\n",
    "            \n",
    "            print(f\"{self.nome} não tem emprego, portanto, não pode ter aumento!\")\n",
    "            \n",
    "            \n",
    "    def printa_info(self):\n",
    "        '''\n",
    "        isso é uma função auxiliar pra printar o status empregatício de um objeto Pessoa\n",
    "        '''\n",
    "\n",
    "        if self.emprego:\n",
    "\n",
    "            str_info = f\"O {self.nome} está empregado, e ganha R$ {self.salario:.2f}\"\n",
    "\n",
    "        else:\n",
    "\n",
    "            str_info = f\"O {self.nome} está desempregado\"\n",
    "\n",
    "        print(str_info)\n",
    "        \n",
    "    # isso simplesmente indica que é um método estático (usado no nível da classe)\n",
    "    @staticmethod\n",
    "    def mostra_num_pop():\n",
    "        \n",
    "        print(f\"População total: {Pessoa.populacao}\")"
   ]
  },
  {
   "cell_type": "code",
   "execution_count": 254,
   "metadata": {
    "ExecuteTime": {
     "end_time": "2021-11-16T23:47:12.468171Z",
     "start_time": "2021-11-16T23:47:12.455178Z"
    }
   },
   "outputs": [
    {
     "data": {
      "text/plain": [
       "0"
      ]
     },
     "execution_count": 254,
     "metadata": {},
     "output_type": "execute_result"
    }
   ],
   "source": [
    "Pessoa.populacao"
   ]
  },
  {
   "cell_type": "code",
   "execution_count": 229,
   "metadata": {
    "ExecuteTime": {
     "end_time": "2021-11-16T23:46:29.649997Z",
     "start_time": "2021-11-16T23:46:29.643000Z"
    }
   },
   "outputs": [
    {
     "data": {
      "text/plain": [
       "[]"
      ]
     },
     "execution_count": 229,
     "metadata": {},
     "output_type": "execute_result"
    }
   ],
   "source": [
    "Pessoa.lista_nomes"
   ]
  },
  {
   "cell_type": "code",
   "execution_count": 230,
   "metadata": {
    "ExecuteTime": {
     "end_time": "2021-11-16T23:46:30.083019Z",
     "start_time": "2021-11-16T23:46:30.063034Z"
    }
   },
   "outputs": [
    {
     "data": {
      "text/plain": [
       "[]"
      ]
     },
     "execution_count": 230,
     "metadata": {},
     "output_type": "execute_result"
    }
   ],
   "source": [
    "Pessoa.lista_objs"
   ]
  },
  {
   "cell_type": "code",
   "execution_count": 231,
   "metadata": {
    "ExecuteTime": {
     "end_time": "2021-11-16T23:46:30.614735Z",
     "start_time": "2021-11-16T23:46:30.595746Z"
    }
   },
   "outputs": [
    {
     "data": {
      "text/plain": [
       "{}"
      ]
     },
     "execution_count": 231,
     "metadata": {},
     "output_type": "execute_result"
    }
   ],
   "source": [
    "Pessoa.dict_cadastro"
   ]
  },
  {
   "cell_type": "code",
   "execution_count": 233,
   "metadata": {
    "ExecuteTime": {
     "end_time": "2021-11-16T23:46:43.433343Z",
     "start_time": "2021-11-16T23:46:43.423348Z"
    }
   },
   "outputs": [
    {
     "name": "stdout",
     "output_type": "stream",
     "text": [
      "População total: 0\n"
     ]
    }
   ],
   "source": [
    "Pessoa.mostra_num_pop()"
   ]
  },
  {
   "cell_type": "code",
   "execution_count": 234,
   "metadata": {
    "ExecuteTime": {
     "end_time": "2021-11-16T23:46:43.670206Z",
     "start_time": "2021-11-16T23:46:43.655215Z"
    }
   },
   "outputs": [],
   "source": [
    "bob = Pessoa(\"Bob\", \"preto\", 1.7)"
   ]
  },
  {
   "cell_type": "code",
   "execution_count": 235,
   "metadata": {
    "ExecuteTime": {
     "end_time": "2021-11-16T23:46:43.843107Z",
     "start_time": "2021-11-16T23:46:43.827118Z"
    }
   },
   "outputs": [
    {
     "data": {
      "text/plain": [
       "1"
      ]
     },
     "execution_count": 235,
     "metadata": {},
     "output_type": "execute_result"
    }
   ],
   "source": [
    "Pessoa.populacao"
   ]
  },
  {
   "cell_type": "code",
   "execution_count": 236,
   "metadata": {
    "ExecuteTime": {
     "end_time": "2021-11-16T23:46:44.015008Z",
     "start_time": "2021-11-16T23:46:44.003015Z"
    }
   },
   "outputs": [
    {
     "data": {
      "text/plain": [
       "['Bob']"
      ]
     },
     "execution_count": 236,
     "metadata": {},
     "output_type": "execute_result"
    }
   ],
   "source": [
    "Pessoa.lista_nomes"
   ]
  },
  {
   "cell_type": "code",
   "execution_count": 237,
   "metadata": {
    "ExecuteTime": {
     "end_time": "2021-11-16T23:46:44.231889Z",
     "start_time": "2021-11-16T23:46:44.206898Z"
    }
   },
   "outputs": [
    {
     "data": {
      "text/plain": [
       "[<__main__.Pessoa at 0x17db8bbc130>]"
      ]
     },
     "execution_count": 237,
     "metadata": {},
     "output_type": "execute_result"
    }
   ],
   "source": [
    "Pessoa.lista_objs"
   ]
  },
  {
   "cell_type": "code",
   "execution_count": 238,
   "metadata": {
    "ExecuteTime": {
     "end_time": "2021-11-16T23:46:44.356811Z",
     "start_time": "2021-11-16T23:46:44.345820Z"
    }
   },
   "outputs": [
    {
     "data": {
      "text/plain": [
       "{'Bob': {'nome': 'Bob',\n",
       "  'cor_cabelo': 'preto',\n",
       "  'altura': 1.7,\n",
       "  'num_passaporte': None,\n",
       "  'marca_carro': None,\n",
       "  'num_filhos': 0,\n",
       "  'emprego': False,\n",
       "  'salario': 0}}"
      ]
     },
     "execution_count": 238,
     "metadata": {},
     "output_type": "execute_result"
    }
   ],
   "source": [
    "Pessoa.dict_cadastro"
   ]
  },
  {
   "cell_type": "code",
   "execution_count": 239,
   "metadata": {
    "ExecuteTime": {
     "end_time": "2021-11-16T23:46:44.528714Z",
     "start_time": "2021-11-16T23:46:44.518719Z"
    }
   },
   "outputs": [
    {
     "name": "stdout",
     "output_type": "stream",
     "text": [
      "População total: 1\n"
     ]
    }
   ],
   "source": [
    "Pessoa.mostra_num_pop()"
   ]
  },
  {
   "cell_type": "code",
   "execution_count": 240,
   "metadata": {
    "ExecuteTime": {
     "end_time": "2021-11-16T23:46:44.681626Z",
     "start_time": "2021-11-16T23:46:44.670632Z"
    }
   },
   "outputs": [],
   "source": [
    "alice = Pessoa(\"Alice\", \"preto\", 1.7)"
   ]
  },
  {
   "cell_type": "code",
   "execution_count": 241,
   "metadata": {
    "ExecuteTime": {
     "end_time": "2021-11-16T23:46:44.841044Z",
     "start_time": "2021-11-16T23:46:44.824051Z"
    }
   },
   "outputs": [
    {
     "data": {
      "text/plain": [
       "2"
      ]
     },
     "execution_count": 241,
     "metadata": {},
     "output_type": "execute_result"
    }
   ],
   "source": [
    "Pessoa.populacao"
   ]
  },
  {
   "cell_type": "code",
   "execution_count": 242,
   "metadata": {
    "ExecuteTime": {
     "end_time": "2021-11-16T23:46:45.012974Z",
     "start_time": "2021-11-16T23:46:44.995984Z"
    }
   },
   "outputs": [
    {
     "data": {
      "text/plain": [
       "['Bob', 'Alice']"
      ]
     },
     "execution_count": 242,
     "metadata": {},
     "output_type": "execute_result"
    }
   ],
   "source": [
    "Pessoa.lista_nomes"
   ]
  },
  {
   "cell_type": "code",
   "execution_count": 243,
   "metadata": {
    "ExecuteTime": {
     "end_time": "2021-11-16T23:46:45.170882Z",
     "start_time": "2021-11-16T23:46:45.153892Z"
    }
   },
   "outputs": [
    {
     "data": {
      "text/plain": [
       "[<__main__.Pessoa at 0x17db8bbc130>, <__main__.Pessoa at 0x17db8bb5a60>]"
      ]
     },
     "execution_count": 243,
     "metadata": {},
     "output_type": "execute_result"
    }
   ],
   "source": [
    "Pessoa.lista_objs"
   ]
  },
  {
   "cell_type": "code",
   "execution_count": 244,
   "metadata": {
    "ExecuteTime": {
     "end_time": "2021-11-16T23:46:46.421647Z",
     "start_time": "2021-11-16T23:46:46.415650Z"
    }
   },
   "outputs": [
    {
     "name": "stdout",
     "output_type": "stream",
     "text": [
      "População total: 2\n"
     ]
    }
   ],
   "source": [
    "Pessoa.mostra_num_pop()"
   ]
  },
  {
   "cell_type": "code",
   "execution_count": 245,
   "metadata": {
    "ExecuteTime": {
     "end_time": "2021-11-16T23:46:47.560132Z",
     "start_time": "2021-11-16T23:46:47.548136Z"
    }
   },
   "outputs": [
    {
     "data": {
      "text/plain": [
       "<__main__.Pessoa at 0x17db8bb5a60>"
      ]
     },
     "execution_count": 245,
     "metadata": {},
     "output_type": "execute_result"
    }
   ],
   "source": [
    "alice"
   ]
  },
  {
   "cell_type": "code",
   "execution_count": 246,
   "metadata": {
    "ExecuteTime": {
     "end_time": "2021-11-16T23:46:48.061857Z",
     "start_time": "2021-11-16T23:46:48.046866Z"
    }
   },
   "outputs": [
    {
     "data": {
      "text/plain": [
       "{'Bob': {'nome': 'Bob',\n",
       "  'cor_cabelo': 'preto',\n",
       "  'altura': 1.7,\n",
       "  'num_passaporte': None,\n",
       "  'marca_carro': None,\n",
       "  'num_filhos': 0,\n",
       "  'emprego': False,\n",
       "  'salario': 0},\n",
       " 'Alice': {'nome': 'Alice',\n",
       "  'cor_cabelo': 'preto',\n",
       "  'altura': 1.7,\n",
       "  'num_passaporte': None,\n",
       "  'marca_carro': None,\n",
       "  'num_filhos': 0,\n",
       "  'emprego': False,\n",
       "  'salario': 0}}"
      ]
     },
     "execution_count": 246,
     "metadata": {},
     "output_type": "execute_result"
    }
   ],
   "source": [
    "Pessoa.dict_cadastro"
   ]
  },
  {
   "cell_type": "code",
   "execution_count": 247,
   "metadata": {
    "ExecuteTime": {
     "end_time": "2021-11-16T23:46:48.559836Z",
     "start_time": "2021-11-16T23:46:48.546833Z"
    }
   },
   "outputs": [
    {
     "data": {
      "text/plain": [
       "{'nome': 'Alice',\n",
       " 'cor_cabelo': 'preto',\n",
       " 'altura': 1.7,\n",
       " 'num_passaporte': None,\n",
       " 'marca_carro': None,\n",
       " 'num_filhos': 0,\n",
       " 'emprego': False,\n",
       " 'salario': 0}"
      ]
     },
     "execution_count": 247,
     "metadata": {},
     "output_type": "execute_result"
    }
   ],
   "source": [
    "Pessoa.dict_cadastro[\"Alice\"]"
   ]
  },
  {
   "cell_type": "code",
   "execution_count": 248,
   "metadata": {
    "ExecuteTime": {
     "end_time": "2021-11-16T23:46:48.996570Z",
     "start_time": "2021-11-16T23:46:48.989574Z"
    }
   },
   "outputs": [],
   "source": [
    "alice.pinta_cabelo(\"roxo\")"
   ]
  },
  {
   "cell_type": "code",
   "execution_count": 249,
   "metadata": {
    "ExecuteTime": {
     "end_time": "2021-11-16T23:46:49.453644Z",
     "start_time": "2021-11-16T23:46:49.434649Z"
    }
   },
   "outputs": [
    {
     "data": {
      "text/plain": [
       "{'nome': 'Alice',\n",
       " 'cor_cabelo': 'roxo',\n",
       " 'altura': 1.7,\n",
       " 'num_passaporte': None,\n",
       " 'marca_carro': None,\n",
       " 'num_filhos': 0,\n",
       " 'emprego': False,\n",
       " 'salario': 0}"
      ]
     },
     "execution_count": 249,
     "metadata": {},
     "output_type": "execute_result"
    }
   ],
   "source": [
    "Pessoa.dict_cadastro[\"Alice\"]"
   ]
  },
  {
   "cell_type": "code",
   "execution_count": 250,
   "metadata": {
    "ExecuteTime": {
     "end_time": "2021-11-16T23:46:49.891115Z",
     "start_time": "2021-11-16T23:46:49.881122Z"
    }
   },
   "outputs": [],
   "source": [
    "alice.status_emprego(True, 5000)"
   ]
  },
  {
   "cell_type": "code",
   "execution_count": 251,
   "metadata": {
    "ExecuteTime": {
     "end_time": "2021-11-16T23:46:50.389839Z",
     "start_time": "2021-11-16T23:46:50.374847Z"
    }
   },
   "outputs": [
    {
     "name": "stdout",
     "output_type": "stream",
     "text": [
      "O Alice está empregado, e ganha R$ 5000.00\n"
     ]
    }
   ],
   "source": [
    "alice.printa_info()"
   ]
  },
  {
   "cell_type": "code",
   "execution_count": 252,
   "metadata": {
    "ExecuteTime": {
     "end_time": "2021-11-16T23:46:50.870563Z",
     "start_time": "2021-11-16T23:46:50.862572Z"
    }
   },
   "outputs": [
    {
     "data": {
      "text/plain": [
       "{'nome': 'Alice',\n",
       " 'cor_cabelo': 'roxo',\n",
       " 'altura': 1.7,\n",
       " 'num_passaporte': None,\n",
       " 'marca_carro': None,\n",
       " 'num_filhos': 0,\n",
       " 'emprego': True,\n",
       " 'salario': 5000}"
      ]
     },
     "execution_count": 252,
     "metadata": {},
     "output_type": "execute_result"
    }
   ],
   "source": [
    "Pessoa.dict_cadastro[\"Alice\"]"
   ]
  },
  {
   "cell_type": "markdown",
   "metadata": {},
   "source": [
    "__Atributos estáticos podem ser acessados tanto pela classe quanto por algum objeto da classe__"
   ]
  },
  {
   "cell_type": "code",
   "execution_count": 220,
   "metadata": {
    "ExecuteTime": {
     "end_time": "2021-11-16T23:44:58.161123Z",
     "start_time": "2021-11-16T23:44:58.146132Z"
    }
   },
   "outputs": [
    {
     "data": {
      "text/plain": [
       "2"
      ]
     },
     "execution_count": 220,
     "metadata": {},
     "output_type": "execute_result"
    }
   ],
   "source": [
    "Pessoa.populacao"
   ]
  },
  {
   "cell_type": "code",
   "execution_count": 221,
   "metadata": {
    "ExecuteTime": {
     "end_time": "2021-11-16T23:45:01.898041Z",
     "start_time": "2021-11-16T23:45:01.883070Z"
    }
   },
   "outputs": [
    {
     "data": {
      "text/plain": [
       "2"
      ]
     },
     "execution_count": 221,
     "metadata": {},
     "output_type": "execute_result"
    }
   ],
   "source": [
    "bob.populacao"
   ]
  },
  {
   "cell_type": "code",
   "execution_count": 222,
   "metadata": {
    "ExecuteTime": {
     "end_time": "2021-11-16T23:45:02.759901Z",
     "start_time": "2021-11-16T23:45:02.741889Z"
    }
   },
   "outputs": [
    {
     "data": {
      "text/plain": [
       "2"
      ]
     },
     "execution_count": 222,
     "metadata": {},
     "output_type": "execute_result"
    }
   ],
   "source": [
    "alice.populacao"
   ]
  },
  {
   "cell_type": "code",
   "execution_count": 191,
   "metadata": {
    "ExecuteTime": {
     "end_time": "2021-11-16T23:38:52.396420Z",
     "start_time": "2021-11-16T23:38:52.370435Z"
    }
   },
   "outputs": [
    {
     "ename": "AttributeError",
     "evalue": "type object 'Pessoa' has no attribute 'nome'",
     "output_type": "error",
     "traceback": [
      "\u001b[1;31m---------------------------------------------------------------------------\u001b[0m",
      "\u001b[1;31mAttributeError\u001b[0m                            Traceback (most recent call last)",
      "\u001b[1;32m<ipython-input-191-7da796157340>\u001b[0m in \u001b[0;36m<module>\u001b[1;34m\u001b[0m\n\u001b[1;32m----> 1\u001b[1;33m \u001b[0mPessoa\u001b[0m\u001b[1;33m.\u001b[0m\u001b[0mnome\u001b[0m\u001b[1;33m\u001b[0m\u001b[1;33m\u001b[0m\u001b[0m\n\u001b[0m",
      "\u001b[1;31mAttributeError\u001b[0m: type object 'Pessoa' has no attribute 'nome'"
     ]
    }
   ],
   "source": [
    "Pessoa.nome"
   ]
  },
  {
   "cell_type": "code",
   "execution_count": 193,
   "metadata": {
    "ExecuteTime": {
     "end_time": "2021-11-16T23:39:24.742820Z",
     "start_time": "2021-11-16T23:39:24.715939Z"
    }
   },
   "outputs": [
    {
     "ename": "TypeError",
     "evalue": "pinta_cabelo() missing 1 required positional argument: 'cor'",
     "output_type": "error",
     "traceback": [
      "\u001b[1;31m---------------------------------------------------------------------------\u001b[0m",
      "\u001b[1;31mTypeError\u001b[0m                                 Traceback (most recent call last)",
      "\u001b[1;32m<ipython-input-193-78fce1f8680b>\u001b[0m in \u001b[0;36m<module>\u001b[1;34m\u001b[0m\n\u001b[1;32m----> 1\u001b[1;33m \u001b[0mPessoa\u001b[0m\u001b[1;33m.\u001b[0m\u001b[0mpinta_cabelo\u001b[0m\u001b[1;33m(\u001b[0m\u001b[1;34m\"roxo\"\u001b[0m\u001b[1;33m)\u001b[0m\u001b[1;33m\u001b[0m\u001b[1;33m\u001b[0m\u001b[0m\n\u001b[0m",
      "\u001b[1;31mTypeError\u001b[0m: pinta_cabelo() missing 1 required positional argument: 'cor'"
     ]
    }
   ],
   "source": [
    "Pessoa.pinta_cabelo(\"roxo\")"
   ]
  },
  {
   "cell_type": "code",
   "execution_count": 223,
   "metadata": {
    "ExecuteTime": {
     "end_time": "2021-11-16T23:45:14.319118Z",
     "start_time": "2021-11-16T23:45:14.310127Z"
    }
   },
   "outputs": [
    {
     "name": "stdout",
     "output_type": "stream",
     "text": [
      "População total: 2\n"
     ]
    }
   ],
   "source": [
    "Pessoa.mostra_num_pop()"
   ]
  },
  {
   "cell_type": "code",
   "execution_count": 225,
   "metadata": {
    "ExecuteTime": {
     "end_time": "2021-11-16T23:45:22.182911Z",
     "start_time": "2021-11-16T23:45:22.176839Z"
    }
   },
   "outputs": [
    {
     "name": "stdout",
     "output_type": "stream",
     "text": [
      "População total: 2\n"
     ]
    }
   ],
   "source": [
    "bob.mostra_num_pop()"
   ]
  },
  {
   "cell_type": "code",
   "execution_count": 226,
   "metadata": {
    "ExecuteTime": {
     "end_time": "2021-11-16T23:45:27.465944Z",
     "start_time": "2021-11-16T23:45:27.451954Z"
    }
   },
   "outputs": [
    {
     "name": "stdout",
     "output_type": "stream",
     "text": [
      "População total: 2\n"
     ]
    }
   ],
   "source": [
    "alice.mostra_num_pop()"
   ]
  },
  {
   "cell_type": "markdown",
   "metadata": {},
   "source": [
    "___\n",
    "___\n",
    "___"
   ]
  }
 ],
 "metadata": {
  "kernelspec": {
   "display_name": "Python 3",
   "language": "python",
   "name": "python3"
  },
  "language_info": {
   "codemirror_mode": {
    "name": "ipython",
    "version": 3
   },
   "file_extension": ".py",
   "mimetype": "text/x-python",
   "name": "python",
   "nbconvert_exporter": "python",
   "pygments_lexer": "ipython3",
   "version": "3.8.3"
  }
 },
 "nbformat": 4,
 "nbformat_minor": 4
}
