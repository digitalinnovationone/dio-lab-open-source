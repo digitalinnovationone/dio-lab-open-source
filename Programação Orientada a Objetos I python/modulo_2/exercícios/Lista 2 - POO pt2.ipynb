{
 "cells": [
  {
   "cell_type": "markdown",
   "metadata": {},
   "source": [
    "# Lista 2 - POO parte 2\n",
    "\n",
    "__________\n",
    "\n",
    "### Métodos mágicos\n",
    "\n",
    "__________"
   ]
  },
  {
   "cell_type": "markdown",
   "metadata": {},
   "source": [
    "___________"
   ]
  },
  {
   "cell_type": "markdown",
   "metadata": {},
   "source": [
    "1. Nos exercícios 1, 2, 3, 4 e 6 (exercícios da Lista 1 - POO parte 1), implemente o método `__repr__` para exibir as informações desejadas de cada uma das classes."
   ]
  },
  {
   "cell_type": "code",
   "execution_count": null,
   "metadata": {},
   "outputs": [],
   "source": []
  },
  {
   "cell_type": "markdown",
   "metadata": {},
   "source": [
    "___________"
   ]
  },
  {
   "cell_type": "markdown",
   "metadata": {},
   "source": [
    "2. Crie uma classe `Fração` cujos atributos são numerador (número de cima) e denominador (número de baixo). Implemente os métodos de adição, subtração, multiplicação, divisão que retornam objetos da classe `Fração`. \n",
    "\n",
    "Implemente também o método `__repr__`. \n",
    "\n",
    "Implemente métodos para comparação: igualdade (==) e desigualdades (!=, <=, >=, < e >)."
   ]
  },
  {
   "cell_type": "code",
   "execution_count": null,
   "metadata": {},
   "outputs": [],
   "source": []
  },
  {
   "cell_type": "markdown",
   "metadata": {},
   "source": [
    "___________"
   ]
  },
  {
   "cell_type": "markdown",
   "metadata": {},
   "source": [
    "3. Crie uma classe Data cujos atributos são dia, mês e ano. \n",
    "\n",
    "Implemente métodos `__repr__` e para comparação: igualdade (==) e desigualdades (!=, <=, >=, < e >)."
   ]
  },
  {
   "cell_type": "code",
   "execution_count": null,
   "metadata": {},
   "outputs": [],
   "source": []
  },
  {
   "cell_type": "markdown",
   "metadata": {},
   "source": [
    "___________"
   ]
  }
 ],
 "metadata": {
  "kernelspec": {
   "display_name": "Python 3",
   "language": "python",
   "name": "python3"
  },
  "language_info": {
   "codemirror_mode": {
    "name": "ipython",
    "version": 3
   },
   "file_extension": ".py",
   "mimetype": "text/x-python",
   "name": "python",
   "nbconvert_exporter": "python",
   "pygments_lexer": "ipython3",
   "version": "3.8.3"
  }
 },
 "nbformat": 4,
 "nbformat_minor": 4
}
