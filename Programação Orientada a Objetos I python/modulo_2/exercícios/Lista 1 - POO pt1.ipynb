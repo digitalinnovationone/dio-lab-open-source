{
 "cells": [
  {
   "cell_type": "code",
   "execution_count": 48,
   "metadata": {
    "ExecuteTime": {
     "end_time": "2021-11-18T22:49:48.980675Z",
     "start_time": "2021-11-18T22:49:48.974677Z"
    }
   },
   "outputs": [],
   "source": [
    "import time"
   ]
  },
  {
   "cell_type": "markdown",
   "metadata": {},
   "source": [
    "# Lista 1 - POO parte 1\n",
    "\n",
    "__________\n",
    "\n",
    "### Fundamentos\n",
    "\n",
    "__________"
   ]
  },
  {
   "cell_type": "markdown",
   "metadata": {},
   "source": [
    "___________"
   ]
  },
  {
   "cell_type": "markdown",
   "metadata": {},
   "source": [
    "1. Crie uma classe `Bola` cujos atributos são cor e raio. \n",
    "\n",
    "Crie um método para calcular a área dessa bola (obs.: a área de uma esfera é $4 \\pi r^2$). \n",
    "\n",
    "Crie um método que imprime a cor da bola. \n",
    "\n",
    "Crie um método para calcular o volume da bola (obs.: o volume de uma esfera é $\\frac{4}{3}\\pi r^3$). \n",
    "\n",
    "Crie um objeto dessa classe e calcule a área e o volume, imprimindo ambos em seguida."
   ]
  },
  {
   "cell_type": "code",
   "execution_count": 39,
   "metadata": {
    "ExecuteTime": {
     "end_time": "2021-11-18T22:39:17.287902Z",
     "start_time": "2021-11-18T22:39:17.275909Z"
    }
   },
   "outputs": [],
   "source": [
    "class Bola:\n",
    "    \n",
    "    def __init__(self, x1, x2):\n",
    "        \n",
    "        self.raio = x1\n",
    "        self.cor = x2"
   ]
  },
  {
   "cell_type": "code",
   "execution_count": 40,
   "metadata": {
    "ExecuteTime": {
     "end_time": "2021-11-18T22:39:17.646670Z",
     "start_time": "2021-11-18T22:39:17.630680Z"
    }
   },
   "outputs": [],
   "source": [
    "b1 = Bola(2, \"vermelha\")"
   ]
  },
  {
   "cell_type": "code",
   "execution_count": 41,
   "metadata": {
    "ExecuteTime": {
     "end_time": "2021-11-18T22:39:18.052663Z",
     "start_time": "2021-11-18T22:39:18.036672Z"
    }
   },
   "outputs": [
    {
     "data": {
      "text/plain": [
       "{'raio': 2, 'cor': 'vermelha'}"
      ]
     },
     "execution_count": 41,
     "metadata": {},
     "output_type": "execute_result"
    }
   ],
   "source": [
    "vars(b1)"
   ]
  },
  {
   "cell_type": "markdown",
   "metadata": {},
   "source": [
    "___________"
   ]
  },
  {
   "cell_type": "markdown",
   "metadata": {},
   "source": [
    "2. Crie uma classe `Retangulo` cujos atributos são `lado_a` e `lado_b`. \n",
    "\n",
    "Crie um método para calcular a área desse retângulo. \n",
    "\n",
    "Crie um objeto dessa classe e calcule a área e a imprima em seguida.\n"
   ]
  },
  {
   "cell_type": "code",
   "execution_count": null,
   "metadata": {},
   "outputs": [],
   "source": []
  },
  {
   "cell_type": "markdown",
   "metadata": {},
   "source": [
    "___________"
   ]
  },
  {
   "cell_type": "markdown",
   "metadata": {},
   "source": [
    "3. Crie uma classe `Cliente` cujos atributos são nome, idade e e-mail, cpf. Construa um método que imprima as informações tal como abaixo:\n",
    "\n",
    "```\n",
    "Nome: Fulano de Tal\n",
    "Idade: 40\n",
    "E-mail: fulano@mail.com\n",
    "CPF: 123456789\n",
    "```"
   ]
  },
  {
   "cell_type": "code",
   "execution_count": 1,
   "metadata": {
    "ExecuteTime": {
     "end_time": "2021-11-18T22:14:06.831035Z",
     "start_time": "2021-11-18T22:14:06.818042Z"
    }
   },
   "outputs": [],
   "source": [
    "class Cliente:\n",
    "    \n",
    "    def __init__(self, x1, x2, x3, x4):\n",
    "        \n",
    "        self.nome = x1\n",
    "        self.idade = x2\n",
    "        self.email = x3\n",
    "        self.cpf = x4\n",
    "        \n",
    "    def visualizar_infos(self):\n",
    "        \n",
    "        print(f\"Nome: {self.nome}\")\n",
    "        print(f\"Idade: {self.idade}\")\n",
    "        print(f\"E-mail: {self.email}\")\n",
    "        print(f\"CPF: {self.cpf}\")\n",
    "        \n",
    "    def retorna_infos(self):\n",
    "        \n",
    "        str_return = f\"Nome: {self.nome}\\nIdade: {self.idade}\\nE-mail: {self.email}\\nCPF: {self.cpf}\"\n",
    "        \n",
    "        return str_return"
   ]
  },
  {
   "cell_type": "code",
   "execution_count": 2,
   "metadata": {
    "ExecuteTime": {
     "end_time": "2021-11-18T22:14:07.046688Z",
     "start_time": "2021-11-18T22:14:07.033691Z"
    }
   },
   "outputs": [],
   "source": [
    "fulano = Cliente(\"fulano\", 40, \"fulano@mail.com\", 12321516)"
   ]
  },
  {
   "cell_type": "code",
   "execution_count": 3,
   "metadata": {
    "ExecuteTime": {
     "end_time": "2021-11-18T22:14:07.263094Z",
     "start_time": "2021-11-18T22:14:07.237090Z"
    }
   },
   "outputs": [
    {
     "name": "stdout",
     "output_type": "stream",
     "text": [
      "Nome: fulano\n",
      "Idade: 40\n",
      "E-mail: fulano@mail.com\n",
      "CPF: 12321516\n"
     ]
    }
   ],
   "source": [
    "fulano.visualizar_infos()"
   ]
  },
  {
   "cell_type": "code",
   "execution_count": 4,
   "metadata": {
    "ExecuteTime": {
     "end_time": "2021-11-18T22:14:07.496962Z",
     "start_time": "2021-11-18T22:14:07.484974Z"
    }
   },
   "outputs": [
    {
     "name": "stdout",
     "output_type": "stream",
     "text": [
      "Nome: fulano\n",
      "Idade: 40\n",
      "E-mail: fulano@mail.com\n",
      "CPF: 12321516\n"
     ]
    }
   ],
   "source": [
    "print(fulano.retorna_infos())"
   ]
  },
  {
   "cell_type": "code",
   "execution_count": 5,
   "metadata": {
    "ExecuteTime": {
     "end_time": "2021-11-18T22:14:08.225573Z",
     "start_time": "2021-11-18T22:14:08.209067Z"
    }
   },
   "outputs": [
    {
     "name": "stdout",
     "output_type": "stream",
     "text": [
      "Nome: fulano\n",
      "Idade: 40\n",
      "E-mail: fulano@mail.com\n",
      "CPF: 12321516\n"
     ]
    }
   ],
   "source": [
    "str_resposta = fulano.retorna_infos()\n",
    "\n",
    "print(str_resposta)"
   ]
  },
  {
   "cell_type": "markdown",
   "metadata": {},
   "source": [
    "___________"
   ]
  },
  {
   "cell_type": "markdown",
   "metadata": {},
   "source": [
    "4. Com base no exercício anterior, crie um sistema de cadastro com dicionários e a classe `Cliente`; cada cliente deve ter como chave o seu CPF. Seu programa deve perguntar se o usuário quer cadastrar um novo cliente, alterar um cadastro ou sair. \n",
    "\n",
    "Obs.: tente fazer esse exercício criando uma classe `Sistema`, que irá controlar o sistema de cadastros. Essa classe deve ter o atributo cadastro e os métodos para imprimir os cadastrados, cadastrar um novo, alterar um cadastro ou sair."
   ]
  },
  {
   "cell_type": "code",
   "execution_count": 6,
   "metadata": {
    "ExecuteTime": {
     "end_time": "2021-11-18T22:17:31.982165Z",
     "start_time": "2021-11-18T22:17:31.957176Z"
    }
   },
   "outputs": [],
   "source": [
    "class Cliente:\n",
    "    \n",
    "    def __init__(self, x1, x2, x3, x4):\n",
    "        \n",
    "        self.nome = x1\n",
    "        self.idade = x2\n",
    "        self.email = x3\n",
    "        self.cpf = x4\n",
    "        \n",
    "    def visualizar_infos(self):\n",
    "        \n",
    "        print(f\"Nome: {self.nome}\")\n",
    "        print(f\"Idade: {self.idade}\")\n",
    "        print(f\"E-mail: {self.email}\")\n",
    "        print(f\"CPF: {self.cpf}\")\n",
    "        \n",
    "    def retorna_infos(self):\n",
    "        \n",
    "        str_return = f\"Nome: {self.nome}\\nIdade: {self.idade}\\nE-mail: {self.email}\\nCPF: {self.cpf}\"\n",
    "        \n",
    "        return str_return"
   ]
  },
  {
   "cell_type": "code",
   "execution_count": 109,
   "metadata": {
    "ExecuteTime": {
     "end_time": "2021-11-18T23:24:58.493338Z",
     "start_time": "2021-11-18T23:24:58.455766Z"
    }
   },
   "outputs": [],
   "source": [
    "class Sistema:\n",
    "    \n",
    "    def __init__(self):\n",
    "        \n",
    "        self.cadastro = {}\n",
    "        \n",
    "    def cadastro_cliente(self):\n",
    "        \n",
    "        nome = input(\"Digite o nome do cliente: \")\n",
    "        idade = input(\"Digite a idade do cliente: \")\n",
    "        email = input(\"Digite o email do cliente: \")\n",
    "        cpf = input(\"Digite o cpf do cliente: \")\n",
    "        \n",
    "        novo_cliente = Cliente(nome, idade, email, cpf)\n",
    "        \n",
    "        self.cadastro[cpf] = novo_cliente\n",
    "        \n",
    "    \n",
    "    def altera_cadastro(self):\n",
    "\n",
    "        print(\"CPFs disponíveis:\\n\")\n",
    "        print(*self.cadastro.keys(), sep=\"\\n\")\n",
    "\n",
    "        time.sleep(0.5)\n",
    "\n",
    "        cpf_input = input(\"\\nQual é o CPF do cliente cujos dados vc quer alterar? \")\n",
    "\n",
    "        quero_alterar = input(\"O que vc quer alterar? \")\n",
    "\n",
    "        if quero_alterar == \"nome\":\n",
    "\n",
    "            self.cadastro[cpf_input].nome = input(\"Qual é o novo nome? \")\n",
    "\n",
    "        elif quero_alterar == \"idade\":\n",
    "\n",
    "            self.cadastro[cpf_input].idade = input(\"Qual é a nova idade? \")\n",
    "\n",
    "        elif quero_alterar == \"email\":\n",
    "\n",
    "            self.cadastro[cpf_input].email = input(\"Qual é o novo email? \")\n",
    "\n",
    "        elif quero_alterar == \"cpf\":\n",
    "\n",
    "            cpf_novo = input(\"Qual é o novo cpf? \")\n",
    "\n",
    "            self.cadastro[cpf_input].cpf = cpf_novo\n",
    "\n",
    "            objeto_cliente = self.cadastro.pop(cpf_input)\n",
    "\n",
    "            self.cadastro[cpf_novo] = objeto_cliente\n",
    "    \n",
    "    \n",
    "    def visualizar_cadastro(self):\n",
    "\n",
    "        print(\"CPFs disponíveis:\\n\")\n",
    "        print(*self.cadastro.keys(), sep=\"\\n\")\n",
    "\n",
    "        time.sleep(0.5)\n",
    "\n",
    "        cpf_input = input(\"\\nQual é o CPF do cliente cujos dados vc quer visualizar? \")\n",
    "\n",
    "        print(\"\\n\")\n",
    "        self.cadastro[cpf_input].visualizar_infos()\n",
    "    \n",
    "    \n",
    "    def sist_naveg(self):\n",
    "    \n",
    "        print(\"=\"*50)\n",
    "        print(\"Bem-vindo ao sistema de cadastro!\".center(50))\n",
    "        print(\"=\"*50)\n",
    "\n",
    "        print(\"\\n1 - Cadastrar novo cliente\")\n",
    "        print(\"2 - Exibir info de cliente\")\n",
    "        print(\"3 - Alterar dados de cliente\")\n",
    "        print(\"0 - Sair\")\n",
    "\n",
    "        time.sleep(0.5)\n",
    "\n",
    "        opcao = int(input(\"\\nO que você deseja fazer? \"))\n",
    "\n",
    "        while opcao != 0:\n",
    "\n",
    "            if opcao == 1:\n",
    "                self.cadastro_cliente()\n",
    "\n",
    "            elif opcao == 2:\n",
    "                self.visualizar_cadastro()\n",
    "\n",
    "            elif opcao == 3:\n",
    "                self.altera_cadastro()\n",
    "\n",
    "            else:\n",
    "                print(\"Não entendi!\")\n",
    "\n",
    "            opcao = int(input(\"\\nPronto!\\nO que você deseja fazer agora? \"))\n",
    "\n",
    "        print(\"\\n\")\n",
    "        print(\"=\"*50)\n",
    "        print(\"Até mais!!\".center(50))\n",
    "        print(\"=\"*50)\n"
   ]
  },
  {
   "cell_type": "markdown",
   "metadata": {},
   "source": [
    "#### Uma primeira rodada, sem usar o sistema de navegação..."
   ]
  },
  {
   "cell_type": "code",
   "execution_count": 81,
   "metadata": {
    "ExecuteTime": {
     "end_time": "2021-11-18T23:04:44.737075Z",
     "start_time": "2021-11-18T23:04:44.730080Z"
    }
   },
   "outputs": [],
   "source": [
    "s = Sistema()"
   ]
  },
  {
   "cell_type": "code",
   "execution_count": 82,
   "metadata": {
    "ExecuteTime": {
     "end_time": "2021-11-18T23:04:45.299102Z",
     "start_time": "2021-11-18T23:04:45.288108Z"
    }
   },
   "outputs": [
    {
     "data": {
      "text/plain": [
       "{}"
      ]
     },
     "execution_count": 82,
     "metadata": {},
     "output_type": "execute_result"
    }
   ],
   "source": [
    "s.cadastro"
   ]
  },
  {
   "cell_type": "code",
   "execution_count": 83,
   "metadata": {
    "ExecuteTime": {
     "end_time": "2021-11-18T23:04:55.508066Z",
     "start_time": "2021-11-18T23:04:48.652100Z"
    }
   },
   "outputs": [
    {
     "name": "stdout",
     "output_type": "stream",
     "text": [
      "Digite o nome do cliente: bob\n",
      "Digite a idade do cliente: 42\n",
      "Digite o email do cliente: afshgfdfg\n",
      "Digite o cpf do cliente: 11111111111\n"
     ]
    }
   ],
   "source": [
    "s.cadastro_cliente()"
   ]
  },
  {
   "cell_type": "code",
   "execution_count": 84,
   "metadata": {
    "ExecuteTime": {
     "end_time": "2021-11-18T23:05:05.756032Z",
     "start_time": "2021-11-18T23:04:57.753241Z"
    }
   },
   "outputs": [
    {
     "name": "stdout",
     "output_type": "stream",
     "text": [
      "Digite o nome do cliente: alice\n",
      "Digite a idade do cliente: 24\n",
      "Digite o email do cliente: sfdgdfhgfhgjgh\n",
      "Digite o cpf do cliente: 222222222222\n"
     ]
    }
   ],
   "source": [
    "s.cadastro_cliente()"
   ]
  },
  {
   "cell_type": "code",
   "execution_count": 85,
   "metadata": {
    "ExecuteTime": {
     "end_time": "2021-11-18T23:05:08.245986Z",
     "start_time": "2021-11-18T23:05:08.233993Z"
    }
   },
   "outputs": [
    {
     "data": {
      "text/plain": [
       "{'11111111111': <__main__.Cliente at 0x266cd63e430>,\n",
       " '222222222222': <__main__.Cliente at 0x266cd637f70>}"
      ]
     },
     "execution_count": 85,
     "metadata": {},
     "output_type": "execute_result"
    }
   ],
   "source": [
    "s.cadastro"
   ]
  },
  {
   "cell_type": "code",
   "execution_count": 86,
   "metadata": {
    "ExecuteTime": {
     "end_time": "2021-11-18T23:05:17.766899Z",
     "start_time": "2021-11-18T23:05:17.747909Z"
    }
   },
   "outputs": [
    {
     "name": "stdout",
     "output_type": "stream",
     "text": [
      "Nome: bob\n",
      "Idade: 42\n",
      "E-mail: afshgfdfg\n",
      "CPF: 11111111111\n"
     ]
    }
   ],
   "source": [
    "s.cadastro[\"11111111111\"].visualizar_infos()"
   ]
  },
  {
   "cell_type": "code",
   "execution_count": 87,
   "metadata": {
    "ExecuteTime": {
     "end_time": "2021-11-18T23:05:25.634384Z",
     "start_time": "2021-11-18T23:05:25.618413Z"
    }
   },
   "outputs": [
    {
     "name": "stdout",
     "output_type": "stream",
     "text": [
      "Nome: alice\n",
      "Idade: 24\n",
      "E-mail: sfdgdfhgfhgjgh\n",
      "CPF: 222222222222\n"
     ]
    }
   ],
   "source": [
    "s.cadastro[\"222222222222\"].visualizar_infos()"
   ]
  },
  {
   "cell_type": "code",
   "execution_count": 88,
   "metadata": {
    "ExecuteTime": {
     "end_time": "2021-11-18T23:06:01.370638Z",
     "start_time": "2021-11-18T23:05:44.966281Z"
    }
   },
   "outputs": [
    {
     "name": "stdout",
     "output_type": "stream",
     "text": [
      "CPFs disponíveis:\n",
      "\n",
      "11111111111\n",
      "222222222222\n",
      "\n",
      "Qual é o CPF do cliente cujos dados vc quer alterar? 11111111111\n",
      "O que vc quer alterar? idade\n",
      "Qual é a nova idade? 50\n"
     ]
    }
   ],
   "source": [
    "s.altera_cadastro()"
   ]
  },
  {
   "cell_type": "code",
   "execution_count": 89,
   "metadata": {
    "ExecuteTime": {
     "end_time": "2021-11-18T23:06:08.633313Z",
     "start_time": "2021-11-18T23:06:08.627316Z"
    }
   },
   "outputs": [
    {
     "name": "stdout",
     "output_type": "stream",
     "text": [
      "Nome: bob\n",
      "Idade: 50\n",
      "E-mail: afshgfdfg\n",
      "CPF: 11111111111\n"
     ]
    }
   ],
   "source": [
    "s.cadastro[\"11111111111\"].visualizar_infos()"
   ]
  },
  {
   "cell_type": "code",
   "execution_count": 90,
   "metadata": {
    "ExecuteTime": {
     "end_time": "2021-11-18T23:06:23.646072Z",
     "start_time": "2021-11-18T23:06:13.402778Z"
    }
   },
   "outputs": [
    {
     "name": "stdout",
     "output_type": "stream",
     "text": [
      "CPFs disponíveis:\n",
      "\n",
      "11111111111\n",
      "222222222222\n",
      "\n",
      "Qual é o CPF do cliente cujos dados vc quer alterar? 222222222222\n",
      "O que vc quer alterar? cpf\n",
      "Qual é o novo cpf? 333333333333\n"
     ]
    }
   ],
   "source": [
    "s.altera_cadastro()"
   ]
  },
  {
   "cell_type": "code",
   "execution_count": 91,
   "metadata": {
    "ExecuteTime": {
     "end_time": "2021-11-18T23:06:31.989837Z",
     "start_time": "2021-11-18T23:06:31.972846Z"
    }
   },
   "outputs": [
    {
     "data": {
      "text/plain": [
       "{'11111111111': <__main__.Cliente at 0x266cd63e430>,\n",
       " '333333333333': <__main__.Cliente at 0x266cd637f70>}"
      ]
     },
     "execution_count": 91,
     "metadata": {},
     "output_type": "execute_result"
    }
   ],
   "source": [
    "s.cadastro"
   ]
  },
  {
   "cell_type": "code",
   "execution_count": 92,
   "metadata": {
    "ExecuteTime": {
     "end_time": "2021-11-18T23:06:38.080844Z",
     "start_time": "2021-11-18T23:06:38.067850Z"
    }
   },
   "outputs": [
    {
     "name": "stdout",
     "output_type": "stream",
     "text": [
      "Nome: alice\n",
      "Idade: 24\n",
      "E-mail: sfdgdfhgfhgjgh\n",
      "CPF: 333333333333\n"
     ]
    }
   ],
   "source": [
    "s.cadastro[\"333333333333\"].visualizar_infos()"
   ]
  },
  {
   "cell_type": "markdown",
   "metadata": {},
   "source": [
    "### Agora, usando o sistema de vanegação:"
   ]
  },
  {
   "cell_type": "code",
   "execution_count": 110,
   "metadata": {
    "ExecuteTime": {
     "end_time": "2021-11-18T23:26:03.978926Z",
     "start_time": "2021-11-18T23:26:03.959421Z"
    }
   },
   "outputs": [],
   "source": [
    "s = Sistema()"
   ]
  },
  {
   "cell_type": "code",
   "execution_count": 111,
   "metadata": {
    "ExecuteTime": {
     "end_time": "2021-11-18T23:28:10.789219Z",
     "start_time": "2021-11-18T23:26:20.983124Z"
    },
    "scrolled": false
   },
   "outputs": [
    {
     "name": "stdout",
     "output_type": "stream",
     "text": [
      "==================================================\n",
      "        Bem-vindo ao sistema de cadastro!         \n",
      "==================================================\n",
      "\n",
      "1 - Cadastrar novo cliente\n",
      "2 - Exibir info de cliente\n",
      "3 - Alterar dados de cliente\n",
      "0 - Sair\n",
      "\n",
      "O que você deseja fazer? 1\n",
      "Digite o nome do cliente: bob\n",
      "Digite a idade do cliente: 42\n",
      "Digite o email do cliente: sdfsdfsdf\n",
      "Digite o cpf do cliente: 111111111\n",
      "\n",
      "Pronto!\n",
      "O que você deseja fazer agora? 1\n",
      "Digite o nome do cliente: alice\n",
      "Digite a idade do cliente: 34\n",
      "Digite o email do cliente: sdfsdfsfd\n",
      "Digite o cpf do cliente: 222222\n",
      "\n",
      "Pronto!\n",
      "O que você deseja fazer agora? 2\n",
      "CPFs disponíveis:\n",
      "\n",
      "111111111\n",
      "222222\n",
      "\n",
      "Qual é o CPF do cliente cujos dados vc quer visualizar? 111111111\n",
      "\n",
      "\n",
      "Nome: bob\n",
      "Idade: 42\n",
      "E-mail: sdfsdfsdf\n",
      "CPF: 111111111\n",
      "\n",
      "Pronto!\n",
      "O que você deseja fazer agora? 222222\n",
      "Não entendi!\n",
      "\n",
      "Pronto!\n",
      "O que você deseja fazer agora? 2\n",
      "CPFs disponíveis:\n",
      "\n",
      "111111111\n",
      "222222\n",
      "\n",
      "Qual é o CPF do cliente cujos dados vc quer visualizar? 222222\n",
      "\n",
      "\n",
      "Nome: alice\n",
      "Idade: 34\n",
      "E-mail: sdfsdfsfd\n",
      "CPF: 222222\n",
      "\n",
      "Pronto!\n",
      "O que você deseja fazer agora? 3\n",
      "CPFs disponíveis:\n",
      "\n",
      "111111111\n",
      "222222\n",
      "\n",
      "Qual é o CPF do cliente cujos dados vc quer alterar? 111111111\n",
      "O que vc quer alterar? idade\n",
      "Qual é a nova idade? 50\n",
      "\n",
      "Pronto!\n",
      "O que você deseja fazer agora? 2\n",
      "CPFs disponíveis:\n",
      "\n",
      "111111111\n",
      "222222\n",
      "\n",
      "Qual é o CPF do cliente cujos dados vc quer visualizar? 111111111\n",
      "\n",
      "\n",
      "Nome: bob\n",
      "Idade: 50\n",
      "E-mail: sdfsdfsdf\n",
      "CPF: 111111111\n",
      "\n",
      "Pronto!\n",
      "O que você deseja fazer agora? 3\n",
      "CPFs disponíveis:\n",
      "\n",
      "111111111\n",
      "222222\n",
      "\n",
      "Qual é o CPF do cliente cujos dados vc quer alterar? 222222\n",
      "O que vc quer alterar? cpf\n",
      "Qual é o novo cpf? 444444\n",
      "\n",
      "Pronto!\n",
      "O que você deseja fazer agora? 2\n",
      "CPFs disponíveis:\n",
      "\n",
      "111111111\n",
      "444444\n",
      "\n",
      "Qual é o CPF do cliente cujos dados vc quer visualizar? 444444\n",
      "\n",
      "\n",
      "Nome: alice\n",
      "Idade: 34\n",
      "E-mail: sdfsdfsfd\n",
      "CPF: 444444\n",
      "\n",
      "Pronto!\n",
      "O que você deseja fazer agora? 0\n",
      "\n",
      "\n",
      "==================================================\n",
      "                    Até mais!!                    \n",
      "==================================================\n"
     ]
    }
   ],
   "source": [
    "s.sist_naveg()"
   ]
  },
  {
   "cell_type": "code",
   "execution_count": 112,
   "metadata": {
    "ExecuteTime": {
     "end_time": "2021-11-18T23:28:24.042747Z",
     "start_time": "2021-11-18T23:28:24.023234Z"
    }
   },
   "outputs": [
    {
     "data": {
      "text/plain": [
       "{'111111111': <__main__.Cliente at 0x266cd641280>,\n",
       " '444444': <__main__.Cliente at 0x266cd627790>}"
      ]
     },
     "execution_count": 112,
     "metadata": {},
     "output_type": "execute_result"
    }
   ],
   "source": [
    "s.cadastro"
   ]
  },
  {
   "cell_type": "markdown",
   "metadata": {},
   "source": [
    "____________\n",
    "\n",
    "Isso é só um rascunho, pra gente entender... Essa função depois entrou como método na classe!"
   ]
  },
  {
   "cell_type": "markdown",
   "metadata": {
    "ExecuteTime": {
     "end_time": "2021-11-18T23:10:56.540133Z",
     "start_time": "2021-11-18T23:10:56.502636Z"
    }
   },
   "source": [
    "```python\n",
    "def altera_cadastro(s):\n",
    "    \n",
    "    print(\"CPFs disponíveis:\\n\")\n",
    "    print(*s.cadastro.keys(), sep=\"\\n\")\n",
    "    \n",
    "    time.sleep(0.5)\n",
    "\n",
    "    cpf_input = input(\"\\nQual é o CPF do cliente cujos dados vc quer alterar? \")\n",
    "\n",
    "    quero_alterar = input(\"O que vc quer alterar? \")\n",
    "\n",
    "    if quero_alterar == \"nome\":\n",
    "\n",
    "        s.cadastro[cpf_input].nome = input(\"Qual é o novo nome? \")\n",
    "\n",
    "    elif quero_alterar == \"idade\":\n",
    "\n",
    "        s.cadastro[cpf_input].idade = input(\"Qual é a nova idade? \")\n",
    "\n",
    "    elif quero_alterar == \"email\":\n",
    "\n",
    "        s.cadastro[cpf_input].email = input(\"Qual é o novo email? \")\n",
    "\n",
    "    elif quero_alterar == \"cpf\":\n",
    "    \n",
    "        cpf_novo = input(\"Qual é o novo cpf? \")\n",
    "        \n",
    "        s.cadastro[cpf_input].cpf = cpf_novo\n",
    "        \n",
    "        objeto_cliente = s.cadastro.pop(cpf_input)\n",
    "\n",
    "        s.cadastro[cpf_novo] = objeto_cliente\n",
    "```"
   ]
  },
  {
   "cell_type": "code",
   "execution_count": 97,
   "metadata": {
    "ExecuteTime": {
     "end_time": "2021-11-18T23:11:48.212017Z",
     "start_time": "2021-11-18T23:11:48.190032Z"
    }
   },
   "outputs": [
    {
     "data": {
      "text/plain": [
       "{'a': 2, 'c': 3}"
      ]
     },
     "execution_count": 97,
     "metadata": {},
     "output_type": "execute_result"
    }
   ],
   "source": [
    "dic = {\"a\" : 2, \"b\" : 3}\n",
    "\n",
    "valor = dic.pop(\"b\")\n",
    "\n",
    "dic[\"c\"] = valor\n",
    "\n",
    "dic"
   ]
  },
  {
   "cell_type": "markdown",
   "metadata": {},
   "source": [
    "___________"
   ]
  },
  {
   "cell_type": "markdown",
   "metadata": {},
   "source": [
    "5. Crie uma classe `Funcionario` cujos atributos são nome e e-mail. \n",
    "\n",
    "Guarde as horas trabalhadas em um dicionário cujas chaves são o mês em questão e, em outro dicionário, guarde o salário por hora relativo ao mês em questão. \n",
    "\n",
    "Crie um método que retorna o salário mensal do funcionário.\n"
   ]
  },
  {
   "cell_type": "code",
   "execution_count": null,
   "metadata": {},
   "outputs": [],
   "source": []
  },
  {
   "cell_type": "markdown",
   "metadata": {},
   "source": [
    "___________"
   ]
  },
  {
   "cell_type": "markdown",
   "metadata": {},
   "source": [
    "6. Crie uma classe `ContaCorrente` com os atributos cliente (que deve ser um objeto da classe Cliente) e saldo. \n",
    "\n",
    "Crie métodos para depósito, saque e transferência. Os métodos de saque e transferência devem verificar se é possível realizar a transação."
   ]
  },
  {
   "cell_type": "code",
   "execution_count": null,
   "metadata": {},
   "outputs": [],
   "source": []
  },
  {
   "cell_type": "markdown",
   "metadata": {},
   "source": [
    "___________"
   ]
  },
  {
   "cell_type": "markdown",
   "metadata": {},
   "source": [
    "7. Crie uma classe `Televisor`cujos atributos são: fabricante; modelo; canal atual; lista de canais; volume.\n",
    "\n",
    "Faça métodos aumentar/diminuir volume, trocar o canal e sintonizar um novo canal, que adiciona um novo canal à lista de canais (somente se esse canal não estiver nessa lista). No atributo lista de canais, devem estar armazenados todos os canais já sintonizados dessa TV. \n",
    "\n",
    "Obs.: o volume não pode ser menor que zero e maior que cem; só se pode trocar para um canal que já esteja na lista de canais."
   ]
  },
  {
   "cell_type": "code",
   "execution_count": null,
   "metadata": {},
   "outputs": [],
   "source": []
  },
  {
   "cell_type": "markdown",
   "metadata": {},
   "source": [
    "___________"
   ]
  },
  {
   "cell_type": "markdown",
   "metadata": {},
   "source": [
    "8. Crie uma classe `ControleRemoto` cujo atributo é televisão (isso é, recebe um objeto da classe do exercício 7). Crie métodos para aumentar/diminuir volume, trocar o canal e sintonizar um novo canal, que adiciona um novo canal à lista de canais (somente se esse canal não estiver nessa lista).\n"
   ]
  },
  {
   "cell_type": "code",
   "execution_count": null,
   "metadata": {},
   "outputs": [],
   "source": []
  },
  {
   "cell_type": "markdown",
   "metadata": {},
   "source": [
    "___________"
   ]
  },
  {
   "cell_type": "markdown",
   "metadata": {},
   "source": [
    "9. O módulo (biblioteca) `time` possui a função `time.sleep(x)`, que faz seu programa “dormir” por x segundos. Utilizando essa função, crie uma classe `Cronômetro` e faça um programa que cronometre o tempo.\n"
   ]
  },
  {
   "cell_type": "code",
   "execution_count": null,
   "metadata": {},
   "outputs": [],
   "source": []
  },
  {
   "cell_type": "markdown",
   "metadata": {},
   "source": [
    "___________"
   ]
  },
  {
   "cell_type": "markdown",
   "metadata": {},
   "source": [
    "10. Crie uma modelagem orientada a objetos para uma agenda capaz de armazenar contatos. Através dessa agenda é possível incluir, remover, buscar e listar contatos já cadastrados. \n",
    "\n",
    "Dica: siga o modelo do exercício 4.\n"
   ]
  },
  {
   "cell_type": "code",
   "execution_count": null,
   "metadata": {},
   "outputs": [],
   "source": []
  }
 ],
 "metadata": {
  "kernelspec": {
   "display_name": "Python 3",
   "language": "python",
   "name": "python3"
  },
  "language_info": {
   "codemirror_mode": {
    "name": "ipython",
    "version": 3
   },
   "file_extension": ".py",
   "mimetype": "text/x-python",
   "name": "python",
   "nbconvert_exporter": "python",
   "pygments_lexer": "ipython3",
   "version": "3.8.3"
  }
 },
 "nbformat": 4,
 "nbformat_minor": 4
}
