{
 "cells": [
  {
   "cell_type": "code",
   "execution_count": 48,
   "metadata": {
    "ExecuteTime": {
     "end_time": "2021-11-18T22:49:48.980675Z",
     "start_time": "2021-11-18T22:49:48.974677Z"
    }
   },
   "outputs": [],
   "source": [
    "import time"
   ]
  },
  {
   "cell_type": "markdown",
   "metadata": {},
   "source": [
    "# Lista 1 - POO parte 1\n",
    "\n",
    "__________\n",
    "\n",
    "### Fundamentos\n",
    "\n",
    "__________"
   ]
  },
  {
   "cell_type": "markdown",
   "metadata": {},
   "source": [
    "___________"
   ]
  },
  {
   "cell_type": "markdown",
   "metadata": {},
   "source": [
    "1. Crie uma classe `Bola` cujos atributos são cor e raio. \n",
    "\n",
    "Crie um método para calcular a área dessa bola (obs.: a área de uma esfera é $4 \\pi r^2$). \n",
    "\n",
    "Crie um método que imprime a cor da bola. \n",
    "\n",
    "Crie um método para calcular o volume da bola (obs.: o volume de uma esfera é $\\frac{4}{3}\\pi r^3$). \n",
    "\n",
    "Crie um objeto dessa classe e calcule a área e o volume, imprimindo ambos em seguida."
   ]
  },
  {
   "cell_type": "code",
   "execution_count": 39,
   "metadata": {
    "ExecuteTime": {
     "end_time": "2021-11-18T22:39:17.287902Z",
     "start_time": "2021-11-18T22:39:17.275909Z"
    }
   },
   "outputs": [],
   "source": [
    "class Bola:\n",
    "    \n",
    "    def __init__(self, x1, x2):\n",
    "        \n",
    "        self.raio = x1\n",
    "        self.cor = x2"
   ]
  },
  {
   "cell_type": "code",
   "execution_count": 40,
   "metadata": {
    "ExecuteTime": {
     "end_time": "2021-11-18T22:39:17.646670Z",
     "start_time": "2021-11-18T22:39:17.630680Z"
    }
   },
   "outputs": [],
   "source": [
    "b1 = Bola(2, \"vermelha\")"
   ]
  },
  {
   "cell_type": "code",
   "execution_count": 41,
   "metadata": {
    "ExecuteTime": {
     "end_time": "2021-11-18T22:39:18.052663Z",
     "start_time": "2021-11-18T22:39:18.036672Z"
    }
   },
   "outputs": [
    {
     "data": {
      "text/plain": [
       "{'raio': 2, 'cor': 'vermelha'}"
      ]
     },
     "execution_count": 41,
     "metadata": {},
     "output_type": "execute_result"
    }
   ],
   "source": [
    "vars(b1)"
   ]
  },
  {
   "cell_type": "markdown",
   "metadata": {},
   "source": [
    "___________"
   ]
  },
  {
   "cell_type": "markdown",
   "metadata": {},
   "source": [
    "2. Crie uma classe `Retangulo` cujos atributos são `lado_a` e `lado_b`. \n",
    "\n",
    "Crie um método para calcular a área desse retângulo. \n",
    "\n",
    "Crie um objeto dessa classe e calcule a área e a imprima em seguida.\n"
   ]
  },
  {
   "cell_type": "code",
   "execution_count": null,
   "metadata": {},
   "outputs": [],
   "source": []
  },
  {
   "cell_type": "markdown",
   "metadata": {},
   "source": [
    "___________"
   ]
  },
  {
   "cell_type": "markdown",
   "metadata": {},
   "source": [
    "3. Crie uma classe `Cliente` cujos atributos são nome, idade e e-mail, cpf. Construa um método que imprima as informações tal como abaixo:\n",
    "\n",
    "```\n",
    "Nome: Fulano de Tal\n",
    "Idade: 40\n",
    "E-mail: fulano@mail.com\n",
    "CPF: 123456789\n",
    "```"
   ]
  },
  {
   "cell_type": "code",
   "execution_count": 1,
   "metadata": {
    "ExecuteTime": {
     "end_time": "2021-11-18T22:14:06.831035Z",
     "start_time": "2021-11-18T22:14:06.818042Z"
    }
   },
   "outputs": [],
   "source": [
    "class Cliente:\n",
    "    \n",
    "    def __init__(self, x1, x2, x3, x4):\n",
    "        \n",
    "        self.nome = x1\n",
    "        self.idade = x2\n",
    "        self.email = x3\n",
    "        self.cpf = x4\n",
    "        \n",
    "    def visualizar_infos(self):\n",
    "        \n",
    "        print(f\"Nome: {self.nome}\")\n",
    "        print(f\"Idade: {self.idade}\")\n",
    "        print(f\"E-mail: {self.email}\")\n",
    "        print(f\"CPF: {self.cpf}\")\n",
    "        \n",
    "    def retorna_infos(self):\n",
    "        \n",
    "        str_return = f\"Nome: {self.nome}\\nIdade: {self.idade}\\nE-mail: {self.email}\\nCPF: {self.cpf}\"\n",
    "        \n",
    "        return str_return"
   ]
  },
  {
   "cell_type": "code",
   "execution_count": 2,
   "metadata": {
    "ExecuteTime": {
     "end_time": "2021-11-18T22:14:07.046688Z",
     "start_time": "2021-11-18T22:14:07.033691Z"
    }
   },
   "outputs": [],
   "source": [
    "fulano = Cliente(\"fulano\", 40, \"fulano@mail.com\", 12321516)"
   ]
  },
  {
   "cell_type": "code",
   "execution_count": 3,
   "metadata": {
    "ExecuteTime": {
     "end_time": "2021-11-18T22:14:07.263094Z",
     "start_time": "2021-11-18T22:14:07.237090Z"
    }
   },
   "outputs": [
    {
     "name": "stdout",
     "output_type": "stream",
     "text": [
      "Nome: fulano\n",
      "Idade: 40\n",
      "E-mail: fulano@mail.com\n",
      "CPF: 12321516\n"
     ]
    }
   ],
   "source": [
    "fulano.visualizar_infos()"
   ]
  },
  {
   "cell_type": "code",
   "execution_count": 4,
   "metadata": {
    "ExecuteTime": {
     "end_time": "2021-11-18T22:14:07.496962Z",
     "start_time": "2021-11-18T22:14:07.484974Z"
    }
   },
   "outputs": [
    {
     "name": "stdout",
     "output_type": "stream",
     "text": [
      "Nome: fulano\n",
      "Idade: 40\n",
      "E-mail: fulano@mail.com\n",
      "CPF: 12321516\n"
     ]
    }
   ],
   "source": [
    "print(fulano.retorna_infos())"
   ]
  },
  {
   "cell_type": "code",
   "execution_count": 5,
   "metadata": {
    "ExecuteTime": {
     "end_time": "2021-11-18T22:14:08.225573Z",
     "start_time": "2021-11-18T22:14:08.209067Z"
    }
   },
   "outputs": [
    {
     "name": "stdout",
     "output_type": "stream",
     "text": [
      "Nome: fulano\n",
      "Idade: 40\n",
      "E-mail: fulano@mail.com\n",
      "CPF: 12321516\n"
     ]
    }
   ],
   "source": [
    "str_resposta = fulano.retorna_infos()\n",
    "\n",
    "print(str_resposta)"
   ]
  },
  {
   "cell_type": "markdown",
   "metadata": {},
   "source": [
    "___________"
   ]
  },
  {
   "cell_type": "markdown",
   "metadata": {},
   "source": [
    "4. Com base no exercício anterior, crie um sistema de cadastro com dicionários e a classe `Cliente`; cada cliente deve ter como chave o seu CPF. Seu programa deve perguntar se o usuário quer cadastrar um novo cliente, alterar um cadastro ou sair. \n",
    "\n",
    "Obs.: tente fazer esse exercício criando uma classe `Sistema`, que irá controlar o sistema de cadastros. Essa classe deve ter o atributo cadastro e os métodos para imprimir os cadastrados, cadastrar um novo, alterar um cadastro ou sair."
   ]
  },
  {
   "cell_type": "code",
   "execution_count": 6,
   "metadata": {
    "ExecuteTime": {
     "end_time": "2021-11-18T22:17:31.982165Z",
     "start_time": "2021-11-18T22:17:31.957176Z"
    }
   },
   "outputs": [],
   "source": [
    "class Cliente:\n",
    "    \n",
    "    def __init__(self, x1, x2, x3, x4):\n",
    "        \n",
    "        self.nome = x1\n",
    "        self.idade = x2\n",
    "        self.email = x3\n",
    "        self.cpf = x4\n",
    "        \n",
    "    def visualizar_infos(self):\n",
    "        \n",
    "        print(f\"Nome: {self.nome}\")\n",
    "        print(f\"Idade: {self.idade}\")\n",
    "        print(f\"E-mail: {self.email}\")\n",
    "        print(f\"CPF: {self.cpf}\")\n",
    "        \n",
    "    def retorna_infos(self):\n",
    "        \n",
    "        str_return = f\"Nome: {self.nome}\\nIdade: {self.idade}\\nE-mail: {self.email}\\nCPF: {self.cpf}\"\n",
    "        \n",
    "        return str_return"
   ]
  },
  {
   "cell_type": "code",
   "execution_count": 7,
   "metadata": {
    "ExecuteTime": {
     "end_time": "2021-11-18T22:18:34.659311Z",
     "start_time": "2021-11-18T22:18:34.636325Z"
    }
   },
   "outputs": [],
   "source": [
    "class Sistema:\n",
    "    \n",
    "    def __init__(self):\n",
    "        \n",
    "        self.cadastro = {}\n",
    "        \n",
    "    def cadastro_cliente(self):\n",
    "        \n",
    "        nome = input(\"Digite o nome do cliente: \")\n",
    "        idade = input(\"Digite a idade do cliente: \")\n",
    "        email = input(\"Digite o email do cliente: \")\n",
    "        cpf = input(\"Digite o cpf do cliente: \")\n",
    "        \n",
    "        novo_cliente = Cliente(nome, idade, email, cpf)\n",
    "        \n",
    "        self.cadastro[cpf] = novo_cliente\n",
    "        \n",
    "    \n",
    "    def alterar_cadastro(self, cpf):\n",
    "        \n",
    "        pass\n",
    "    \n",
    "    \n",
    "    def visualizar_cadastro(self, cpf):\n",
    "        \n",
    "        pass\n",
    "    \n",
    "    \n",
    "    def sist_naveg(self):\n",
    "        \n",
    "        pass"
   ]
  },
  {
   "cell_type": "code",
   "execution_count": null,
   "metadata": {},
   "outputs": [],
   "source": []
  },
  {
   "cell_type": "code",
   "execution_count": null,
   "metadata": {},
   "outputs": [],
   "source": []
  },
  {
   "cell_type": "code",
   "execution_count": 8,
   "metadata": {
    "ExecuteTime": {
     "end_time": "2021-11-18T22:19:56.894240Z",
     "start_time": "2021-11-18T22:19:56.880254Z"
    }
   },
   "outputs": [],
   "source": [
    "s = Sistema()"
   ]
  },
  {
   "cell_type": "code",
   "execution_count": 9,
   "metadata": {
    "ExecuteTime": {
     "end_time": "2021-11-18T22:20:11.546260Z",
     "start_time": "2021-11-18T22:20:11.527265Z"
    }
   },
   "outputs": [
    {
     "data": {
      "text/plain": [
       "{'cadastro': {}}"
      ]
     },
     "execution_count": 9,
     "metadata": {},
     "output_type": "execute_result"
    }
   ],
   "source": [
    "vars(s)"
   ]
  },
  {
   "cell_type": "code",
   "execution_count": 10,
   "metadata": {
    "ExecuteTime": {
     "end_time": "2021-11-18T22:20:47.096228Z",
     "start_time": "2021-11-18T22:20:17.594876Z"
    }
   },
   "outputs": [
    {
     "name": "stdout",
     "output_type": "stream",
     "text": [
      "Digite o nome do cliente: bob\n",
      "Digite a idade do cliente: 42\n",
      "Digite o email do cliente: bob@gmail.com\n",
      "Digite o cpf do cliente: 123456789\n"
     ]
    }
   ],
   "source": [
    "s.cadastro_cliente()"
   ]
  },
  {
   "cell_type": "code",
   "execution_count": 27,
   "metadata": {
    "ExecuteTime": {
     "end_time": "2021-11-18T22:35:33.729150Z",
     "start_time": "2021-11-18T22:35:16.345132Z"
    }
   },
   "outputs": [
    {
     "name": "stdout",
     "output_type": "stream",
     "text": [
      "Digite o nome do cliente: alice\n",
      "Digite a idade do cliente: 24\n",
      "Digite o email do cliente: alice@gmail.com\n",
      "Digite o cpf do cliente: 454541541\n"
     ]
    }
   ],
   "source": [
    "s.cadastro_cliente()"
   ]
  },
  {
   "cell_type": "code",
   "execution_count": 29,
   "metadata": {
    "ExecuteTime": {
     "end_time": "2021-11-18T22:35:44.130076Z",
     "start_time": "2021-11-18T22:35:44.115976Z"
    }
   },
   "outputs": [
    {
     "data": {
      "text/plain": [
       "{'123456789': <__main__.Cliente at 0x266cd637be0>,\n",
       " '454541541': <__main__.Cliente at 0x266cd641340>}"
      ]
     },
     "execution_count": 29,
     "metadata": {},
     "output_type": "execute_result"
    }
   ],
   "source": [
    "s.cadastro"
   ]
  },
  {
   "cell_type": "code",
   "execution_count": 43,
   "metadata": {
    "ExecuteTime": {
     "end_time": "2021-11-18T22:44:48.207335Z",
     "start_time": "2021-11-18T22:44:48.191340Z"
    }
   },
   "outputs": [
    {
     "name": "stdout",
     "output_type": "stream",
     "text": [
      "Nome: bob\n",
      "Idade: 42\n",
      "E-mail: bob@gmail.com\n",
      "CPF: 123456789\n"
     ]
    }
   ],
   "source": [
    "s.cadastro[\"123456789\"].visualizar_infos()"
   ]
  },
  {
   "cell_type": "code",
   "execution_count": 45,
   "metadata": {
    "ExecuteTime": {
     "end_time": "2021-11-18T22:47:03.792515Z",
     "start_time": "2021-11-18T22:47:03.774525Z"
    }
   },
   "outputs": [
    {
     "name": "stdout",
     "output_type": "stream",
     "text": [
      "Nome: alice\n",
      "Idade: 24\n",
      "E-mail: alice@gmail.com\n",
      "CPF: 454541541\n"
     ]
    }
   ],
   "source": [
    "s.cadastro[\"454541541\"].visualizar_infos()"
   ]
  },
  {
   "cell_type": "code",
   "execution_count": 70,
   "metadata": {
    "ExecuteTime": {
     "end_time": "2021-11-18T23:01:53.794836Z",
     "start_time": "2021-11-18T23:01:53.775846Z"
    }
   },
   "outputs": [],
   "source": [
    "def altera_cadastro(s):\n",
    "    \n",
    "    print(\"CPFs disponíveis:\\n\")\n",
    "    print(*s.cadastro.keys(), sep=\"\\n\")\n",
    "    \n",
    "    time.sleep(0.5)\n",
    "\n",
    "    cpf_input = input(\"\\nQual é o CPF do cliente cujos dados vc quer alterar? \")\n",
    "\n",
    "    quero_alterar = input(\"O que vc quer alterar? \")\n",
    "\n",
    "    if quero_alterar == \"nome\":\n",
    "\n",
    "        s.cadastro[cpf_input].nome = input(\"Qual é o novo nome? \")\n",
    "\n",
    "    elif quero_alterar == \"idade\":\n",
    "\n",
    "        s.cadastro[cpf_input].idade = input(\"Qual é a nova idade? \")\n",
    "\n",
    "    elif quero_alterar == \"email\":\n",
    "\n",
    "        s.cadastro[cpf_input].email = input(\"Qual é o novo email? \")\n",
    "\n",
    "    elif quero_alterar == \"cpf\":\n",
    "    \n",
    "        cpf_novo = input(\"Qual é o novo cpf? \")\n",
    "        \n",
    "        s.cadastro[cpf_input].cpf = cpf_novo\n",
    "        \n",
    "        objeto_cliente = s.cadastro.pop(cpf_input)\n",
    "\n",
    "        s.cadastro[cpf_novo] = objeto_cliente"
   ]
  },
  {
   "cell_type": "code",
   "execution_count": 71,
   "metadata": {
    "ExecuteTime": {
     "end_time": "2021-11-18T23:02:11.947597Z",
     "start_time": "2021-11-18T23:02:11.941053Z"
    }
   },
   "outputs": [
    {
     "name": "stdout",
     "output_type": "stream",
     "text": [
      "Nome: alice\n",
      "Idade: 25\n",
      "E-mail: alice@gmail.com\n",
      "CPF: 454541541\n"
     ]
    }
   ],
   "source": [
    "s.cadastro[\"454541541\"].visualizar_infos()"
   ]
  },
  {
   "cell_type": "code",
   "execution_count": 50,
   "metadata": {
    "ExecuteTime": {
     "end_time": "2021-11-18T22:50:51.924179Z",
     "start_time": "2021-11-18T22:50:25.028374Z"
    }
   },
   "outputs": [
    {
     "name": "stdout",
     "output_type": "stream",
     "text": [
      "CPFs disponíveis:\n",
      "\n",
      "123456789\n",
      "454541541\n",
      "\n",
      "Qual é o CPF do cliente cujos dados vc quer alterar? 123456789\n",
      "O que vc quer alterar? email\n",
      "Qual é o novo email? bob_novo@gmail.com\n"
     ]
    }
   ],
   "source": [
    "altera_cadastro(s)"
   ]
  },
  {
   "cell_type": "code",
   "execution_count": 51,
   "metadata": {
    "ExecuteTime": {
     "end_time": "2021-11-18T22:51:01.172831Z",
     "start_time": "2021-11-18T22:51:01.153842Z"
    }
   },
   "outputs": [
    {
     "name": "stdout",
     "output_type": "stream",
     "text": [
      "Nome: bob\n",
      "Idade: 42\n",
      "E-mail: bob_novo@gmail.com\n",
      "CPF: 123456789\n"
     ]
    }
   ],
   "source": [
    "s.cadastro[\"123456789\"].visualizar_infos()"
   ]
  },
  {
   "cell_type": "markdown",
   "metadata": {},
   "source": [
    "___________"
   ]
  },
  {
   "cell_type": "markdown",
   "metadata": {},
   "source": [
    "5. Crie uma classe `Funcionario` cujos atributos são nome e e-mail. \n",
    "\n",
    "Guarde as horas trabalhadas em um dicionário cujas chaves são o mês em questão e, em outro dicionário, guarde o salário por hora relativo ao mês em questão. \n",
    "\n",
    "Crie um método que retorna o salário mensal do funcionário.\n"
   ]
  },
  {
   "cell_type": "code",
   "execution_count": null,
   "metadata": {},
   "outputs": [],
   "source": []
  },
  {
   "cell_type": "markdown",
   "metadata": {},
   "source": [
    "___________"
   ]
  },
  {
   "cell_type": "markdown",
   "metadata": {},
   "source": [
    "6. Crie uma classe `ContaCorrente` com os atributos cliente (que deve ser um objeto da classe Cliente) e saldo. \n",
    "\n",
    "Crie métodos para depósito, saque e transferência. Os métodos de saque e transferência devem verificar se é possível realizar a transação."
   ]
  },
  {
   "cell_type": "code",
   "execution_count": null,
   "metadata": {},
   "outputs": [],
   "source": []
  },
  {
   "cell_type": "markdown",
   "metadata": {},
   "source": [
    "___________"
   ]
  },
  {
   "cell_type": "markdown",
   "metadata": {},
   "source": [
    "7. Crie uma classe `Televisor`cujos atributos são: fabricante; modelo; canal atual; lista de canais; volume.\n",
    "\n",
    "Faça métodos aumentar/diminuir volume, trocar o canal e sintonizar um novo canal, que adiciona um novo canal à lista de canais (somente se esse canal não estiver nessa lista). No atributo lista de canais, devem estar armazenados todos os canais já sintonizados dessa TV. \n",
    "\n",
    "Obs.: o volume não pode ser menor que zero e maior que cem; só se pode trocar para um canal que já esteja na lista de canais."
   ]
  },
  {
   "cell_type": "code",
   "execution_count": null,
   "metadata": {},
   "outputs": [],
   "source": []
  },
  {
   "cell_type": "markdown",
   "metadata": {},
   "source": [
    "___________"
   ]
  },
  {
   "cell_type": "markdown",
   "metadata": {},
   "source": [
    "8. Crie uma classe `ControleRemoto` cujo atributo é televisão (isso é, recebe um objeto da classe do exercício 7). Crie métodos para aumentar/diminuir volume, trocar o canal e sintonizar um novo canal, que adiciona um novo canal à lista de canais (somente se esse canal não estiver nessa lista).\n"
   ]
  },
  {
   "cell_type": "code",
   "execution_count": null,
   "metadata": {},
   "outputs": [],
   "source": []
  },
  {
   "cell_type": "markdown",
   "metadata": {},
   "source": [
    "___________"
   ]
  },
  {
   "cell_type": "markdown",
   "metadata": {},
   "source": [
    "9. O módulo (biblioteca) `time` possui a função `time.sleep(x)`, que faz seu programa “dormir” por x segundos. Utilizando essa função, crie uma classe `Cronômetro` e faça um programa que cronometre o tempo.\n"
   ]
  },
  {
   "cell_type": "code",
   "execution_count": null,
   "metadata": {},
   "outputs": [],
   "source": []
  },
  {
   "cell_type": "markdown",
   "metadata": {},
   "source": [
    "___________"
   ]
  },
  {
   "cell_type": "markdown",
   "metadata": {},
   "source": [
    "10. Crie uma modelagem orientada a objetos para uma agenda capaz de armazenar contatos. Através dessa agenda é possível incluir, remover, buscar e listar contatos já cadastrados. \n",
    "\n",
    "Dica: siga o modelo do exercício 4.\n"
   ]
  },
  {
   "cell_type": "code",
   "execution_count": null,
   "metadata": {},
   "outputs": [],
   "source": []
  }
 ],
 "metadata": {
  "kernelspec": {
   "display_name": "Python 3",
   "language": "python",
   "name": "python3"
  },
  "language_info": {
   "codemirror_mode": {
    "name": "ipython",
    "version": 3
   },
   "file_extension": ".py",
   "mimetype": "text/x-python",
   "name": "python",
   "nbconvert_exporter": "python",
   "pygments_lexer": "ipython3",
   "version": "3.8.3"
  }
 },
 "nbformat": 4,
 "nbformat_minor": 4
}
