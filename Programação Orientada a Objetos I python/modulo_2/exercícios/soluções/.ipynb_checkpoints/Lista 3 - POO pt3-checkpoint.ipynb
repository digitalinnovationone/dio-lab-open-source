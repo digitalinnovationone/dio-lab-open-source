{
 "cells": [
  {
   "cell_type": "markdown",
   "metadata": {},
   "source": [
    "# Lista 3 - POO parte 3\n",
    "\n",
    "__________\n",
    "\n",
    "### Herança e polimorfismo\n",
    "\n",
    "__________"
   ]
  },
  {
   "cell_type": "markdown",
   "metadata": {},
   "source": [
    "___________"
   ]
  },
  {
   "cell_type": "markdown",
   "metadata": {},
   "source": [
    "1. Crie uma classe `Quadrado`, filha da classe `Retângulo` do exercício 2"
   ]
  },
  {
   "cell_type": "code",
   "execution_count": 1,
   "metadata": {
    "ExecuteTime": {
     "end_time": "2021-11-25T21:53:51.443766Z",
     "start_time": "2021-11-25T21:53:51.433771Z"
    }
   },
   "outputs": [],
   "source": [
    "class Retangulo:\n",
    "    \n",
    "    def __init__(self, lado_a, lado_b):\n",
    "        \n",
    "        self.lado_a = lado_a\n",
    "        self.lado_b = lado_b\n",
    "        \n",
    "    def area(self):\n",
    "        \n",
    "        return self.lado_a*self.lado_b\n",
    "    "
   ]
  },
  {
   "cell_type": "code",
   "execution_count": 2,
   "metadata": {
    "ExecuteTime": {
     "end_time": "2021-11-25T21:53:51.727180Z",
     "start_time": "2021-11-25T21:53:51.709192Z"
    }
   },
   "outputs": [],
   "source": [
    "class Quadrado(Retangulo):\n",
    "    \n",
    "    def __init__(self, lado):\n",
    "        \n",
    "        super().__init__(lado, lado)"
   ]
  },
  {
   "cell_type": "markdown",
   "metadata": {},
   "source": [
    "___________"
   ]
  },
  {
   "cell_type": "markdown",
   "metadata": {},
   "source": [
    "2. Faça uma classe `ContaVip` que difere da `ContaCorrente` por ter cheque especial (novo atributo) e é filha da classe `ContaCorrente`. Você precisa implementar os métodos para saque, transferência ou depósito?\n"
   ]
  },
  {
   "cell_type": "code",
   "execution_count": 8,
   "metadata": {
    "ExecuteTime": {
     "end_time": "2021-11-25T21:54:52.014072Z",
     "start_time": "2021-11-25T21:54:51.982074Z"
    }
   },
   "outputs": [],
   "source": [
    "class Cliente:\n",
    "    \n",
    "    def __init__(self, nome, idade, email):\n",
    "        \n",
    "        self.nome = nome\n",
    "        self.idade = idade\n",
    "        self.email = email\n",
    "        \n",
    "    def __repr__(self):\n",
    "        \n",
    "        texto  = \"Nome: {}\\nIdade: {}\\nE-mail: {}\".format(self.nome, self.idade, self.email)\n",
    "        \n",
    "        return texto\n",
    "    \n",
    "class ContaCorrente:\n",
    "    \n",
    "    def __init__(self, cliente, saldo = 0):\n",
    "        \n",
    "        self.cliente = cliente\n",
    "        self.saldo = saldo\n",
    "        \n",
    "    def __repr__(self):\n",
    "        \n",
    "        texto = self.cliente.__repr__() + \"Saldo: {}\".format(self.saldo)\n",
    "        \n",
    "    def saque(self, valor):\n",
    "        \n",
    "        if self.saldo - valor >= 0:\n",
    "            \n",
    "            self.saldo -= valor\n",
    "        else:\n",
    "            \n",
    "            print('Saldo insuficiente.')\n",
    "            \n",
    "    def deposito(self, valor):\n",
    "        \n",
    "        self.saldo += valor\n",
    "        \n",
    "    def transferencia(self, other, valor):\n",
    "        \n",
    "        if self.saldo - valor >= 0:\n",
    "            \n",
    "            self.saldo -= valor\n",
    "            other.saldo += valor\n",
    "            \n",
    "        else:\n",
    "            \n",
    "            print('Saldo insuficiente.')\n",
    "            \n",
    "class ContaVip(ContaCorrente):\n",
    "    \n",
    "    def __init__(self, cliente, saldo, cheque_esp=100):\n",
    "        \n",
    "        super().__init__(cliente, saldo)\n",
    "        self.cheque_esp = cheque_esp\n",
    "        \n",
    "    def saque(self, valor):\n",
    "        \n",
    "        if self.saldo + limite - valor >= 0:\n",
    "            \n",
    "            self.saldo -= valor\n",
    "            \n",
    "        else:\n",
    "            \n",
    "            print('Saldo insuficiente.')\n",
    "            \n",
    "    def transferencia(self, other, valor):\n",
    "        \n",
    "        if self.saldo + limite - valor >= 0:\n",
    "            \n",
    "            self.saldo -= valor\n",
    "            other.saldo += valor\n",
    "            \n",
    "        else:\n",
    "            \n",
    "            print(\"Saldo insuficiente.\")\n",
    "            \n",
    "# não há a necessidade de implementar o depósito"
   ]
  },
  {
   "cell_type": "markdown",
   "metadata": {},
   "source": [
    "___________"
   ]
  },
  {
   "cell_type": "markdown",
   "metadata": {},
   "source": [
    "3. Selecione pelo menos 4 classes que você criou em alguma das listas, e faça os checks de polimorfismo, utilizando o `isinstance()`"
   ]
  },
  {
   "cell_type": "code",
   "execution_count": 10,
   "metadata": {
    "ExecuteTime": {
     "end_time": "2021-11-25T21:55:11.623329Z",
     "start_time": "2021-11-25T21:55:11.605339Z"
    }
   },
   "outputs": [],
   "source": [
    "cv = ContaVip(\"bob\", 1000)"
   ]
  },
  {
   "cell_type": "code",
   "execution_count": 11,
   "metadata": {
    "ExecuteTime": {
     "end_time": "2021-11-25T21:55:16.098560Z",
     "start_time": "2021-11-25T21:55:16.084589Z"
    }
   },
   "outputs": [
    {
     "data": {
      "text/plain": [
       "{'cliente': 'bob', 'saldo': 1000, 'cheque_esp': 100}"
      ]
     },
     "execution_count": 11,
     "metadata": {},
     "output_type": "execute_result"
    }
   ],
   "source": [
    "vars(cv)"
   ]
  },
  {
   "cell_type": "code",
   "execution_count": 12,
   "metadata": {
    "ExecuteTime": {
     "end_time": "2021-11-25T21:55:47.020641Z",
     "start_time": "2021-11-25T21:55:47.012649Z"
    }
   },
   "outputs": [
    {
     "data": {
      "text/plain": [
       "True"
      ]
     },
     "execution_count": 12,
     "metadata": {},
     "output_type": "execute_result"
    }
   ],
   "source": [
    "isinstance(cv, ContaVip)"
   ]
  },
  {
   "cell_type": "code",
   "execution_count": 13,
   "metadata": {
    "ExecuteTime": {
     "end_time": "2021-11-25T21:55:57.544823Z",
     "start_time": "2021-11-25T21:55:57.523854Z"
    }
   },
   "outputs": [
    {
     "data": {
      "text/plain": [
       "True"
      ]
     },
     "execution_count": 13,
     "metadata": {},
     "output_type": "execute_result"
    }
   ],
   "source": [
    "isinstance(cv, ContaCorrente)"
   ]
  },
  {
   "cell_type": "markdown",
   "metadata": {},
   "source": [
    "___________"
   ]
  },
  {
   "cell_type": "markdown",
   "metadata": {},
   "source": [
    "4. Utilizando o `isinstance()`, estude o polimorfismo da classe `Quadrado`"
   ]
  },
  {
   "cell_type": "code",
   "execution_count": 4,
   "metadata": {
    "ExecuteTime": {
     "end_time": "2021-11-25T21:54:09.776671Z",
     "start_time": "2021-11-25T21:54:09.767678Z"
    }
   },
   "outputs": [],
   "source": [
    "q1 = Quadrado(3)"
   ]
  },
  {
   "cell_type": "code",
   "execution_count": 7,
   "metadata": {
    "ExecuteTime": {
     "end_time": "2021-11-25T21:54:37.453983Z",
     "start_time": "2021-11-25T21:54:37.435995Z"
    }
   },
   "outputs": [
    {
     "data": {
      "text/plain": [
       "{'lado_a': 3, 'lado_b': 3}"
      ]
     },
     "execution_count": 7,
     "metadata": {},
     "output_type": "execute_result"
    }
   ],
   "source": [
    "vars(q1)"
   ]
  },
  {
   "cell_type": "code",
   "execution_count": 5,
   "metadata": {
    "ExecuteTime": {
     "end_time": "2021-11-25T21:54:22.711000Z",
     "start_time": "2021-11-25T21:54:22.677022Z"
    }
   },
   "outputs": [
    {
     "data": {
      "text/plain": [
       "True"
      ]
     },
     "execution_count": 5,
     "metadata": {},
     "output_type": "execute_result"
    }
   ],
   "source": [
    "isinstance(q1, Quadrado)"
   ]
  },
  {
   "cell_type": "code",
   "execution_count": 6,
   "metadata": {
    "ExecuteTime": {
     "end_time": "2021-11-25T21:54:31.877164Z",
     "start_time": "2021-11-25T21:54:31.861177Z"
    }
   },
   "outputs": [
    {
     "data": {
      "text/plain": [
       "True"
      ]
     },
     "execution_count": 6,
     "metadata": {},
     "output_type": "execute_result"
    }
   ],
   "source": [
    "isinstance(q1, Retangulo)"
   ]
  },
  {
   "cell_type": "markdown",
   "metadata": {},
   "source": [
    "___________"
   ]
  }
 ],
 "metadata": {
  "kernelspec": {
   "display_name": "Python 3",
   "language": "python",
   "name": "python3"
  },
  "language_info": {
   "codemirror_mode": {
    "name": "ipython",
    "version": 3
   },
   "file_extension": ".py",
   "mimetype": "text/x-python",
   "name": "python",
   "nbconvert_exporter": "python",
   "pygments_lexer": "ipython3",
   "version": "3.8.3"
  }
 },
 "nbformat": 4,
 "nbformat_minor": 4
}
