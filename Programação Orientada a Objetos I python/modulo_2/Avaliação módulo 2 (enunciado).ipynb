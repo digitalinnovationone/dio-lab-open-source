{
 "cells": [
  {
   "cell_type": "markdown",
   "metadata": {},
   "source": [
    "# Avaliação módulo 2 - Degree Data Science\n",
    "\n",
    "## Data de entrega: idealmente 21/11 (DOMINGO, 23:59)\n",
    "\n",
    "Se tiver problema, dia 22/11\n",
    "\n",
    "_________\n",
    "\n",
    "Você deve construir o sistema de marcação de ponto de sua empresa. O sistema deve conter uma interface de navegação, onde o funcionário pode marcar o horário em que entrou no trabalho (digitando a hora, minuto e segundo); o horário em que bateu o ponto pra entrar no almoço; quando bateu o ponto pra voltar do almoço; e quando bateu o ponto da saída.\n",
    "\n",
    "Mas, reforçando: são 4 batidas de ponto:\n",
    "\n",
    "- entrada (começo do dia);\n",
    "- saída (sai pro almoço);\n",
    "- entrada (volta do almoço);\n",
    "- saída (fim do dia).\n",
    "\n",
    "Requisitos:\n",
    "\n",
    "- Requisito #1 - O intervalo mínimo é de 1h. Se o funcionário tentar bater o ponto da volta do almoço com menos de 1h, avise-o disso, e impeça a marcação!\n",
    "- Requisito #2 - Ao fim da jornada de trabalho, você deve avisar para o usuário exatamente qual foi sua jornada de trabalho (não inclui o intervalo!).\n",
    "- Requisito #3 - Se trabalhar mais que 10h, dê um esporro.\n",
    "- Requisito #4 - Você deve, necessariamente, criar uma classe para o projeto. A forma como você irá modelar os atributos, métodos, etc., é inteiramente livre. Mas sugiro que você se inspire nos exercícios que fizemos (ex. 4, projeto do módulo 1, classe `Horario`, etc.)\n",
    "\n",
    "\n",
    "Tópicos avaliados:\n",
    "\n",
    "- Modelagem orienta a objetos;\n",
    "- Classes;\n",
    "- Atributos;\n",
    "- Métodos;\n",
    "- Construtor;\n",
    "- Métodos mágicos;\n",
    "\n",
    "Opcionais:\n",
    "- Herança;\n",
    "- Polimorfismo;\n",
    "- Bibliotecas."
   ]
  },
  {
   "cell_type": "code",
   "execution_count": null,
   "metadata": {},
   "outputs": [],
   "source": []
  }
 ],
 "metadata": {
  "kernelspec": {
   "display_name": "Python 3",
   "language": "python",
   "name": "python3"
  },
  "language_info": {
   "codemirror_mode": {
    "name": "ipython",
    "version": 3
   },
   "file_extension": ".py",
   "mimetype": "text/x-python",
   "name": "python",
   "nbconvert_exporter": "python",
   "pygments_lexer": "ipython3",
   "version": "3.8.3"
  }
 },
 "nbformat": 4,
 "nbformat_minor": 4
}
