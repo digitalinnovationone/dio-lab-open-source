{
 "cells": [
  {
   "cell_type": "markdown",
   "metadata": {},
   "source": [
    "# Redes Neurais\n",
    "\n",
    "Na aula de hoje, vamos explorar os seguintes tópicos em Python:\n",
    "\n",
    "- TensorFlow e Keras;\n",
    "- MLP;\n",
    "- Treinando uma Rede Neural;\n",
    "- MNIST;\n",
    "- Exercícios"
   ]
  },
  {
   "cell_type": "markdown",
   "metadata": {},
   "source": [
    "##   "
   ]
  },
  {
   "cell_type": "markdown",
   "metadata": {},
   "source": [
    "## TensorFlow e Keras"
   ]
  },
  {
   "cell_type": "markdown",
   "metadata": {},
   "source": [
    "Hoje vamos trabalhar com __as principais bibliotecas de redes neurais__, sendo a principal delas desenvolvida para Python, o [__TensorFlow__](https://www.tensorflow.org/).<br>\n",
    " <br>\n",
    "<img src=\"https://www.ambientelivre.com.br/images/logos_open_source/tensorflow_logo.png\" width=500>\n",
    " <br>\n",
    "O __TensorFlow__ é um __framework extremamente poderoso__, mas que apresenta uma __sintaxe consideravelmeente complicada__. Para facilitar a vida e descomplicar Redes Neurais, que surgiu uma outra biblioteca construída encima do TensorFlow, conhecida como [__Keras__](https://keras.io/) <br>\n",
    " <br>\n",
    " <img src=\"https://www.pyimagesearch.com/wp-content/uploads/2020/02/keras_autoencoders_header.png\" width=500>\n",
    " <br>\n",
    "Diferente com o que estamos acostumados do _SciKit-Learn_, o __Keras__ é focada exclusivamente em Redes Neurais, oferencendo implementação de funções de alto nível, construindo essas redes de forma prática e simples!<br><br>\n",
    " \n",
    "Claro que infelizmente até o __Keras__ têm suas limitações, quando precisar de modificações muito especificas, pode ser precise recorrer ao __TensorFlow__, apesar do __Keras__ possuir a __maioria das principais arquiteturas__ de Redes Neurais do __TensorFLow__ completamente integradas. \n",
    "<br><br>\n",
    "Para instalar tanto o __TensorFlow__ quanto o __Keras__ basta seguir o código abaixo:"
   ]
  },
  {
   "cell_type": "code",
   "execution_count": 1,
   "metadata": {},
   "outputs": [],
   "source": [
    "# Instalando as Bibliotecas\n",
    "#!pip install tensorflow\n",
    "#!pip install keras"
   ]
  },
  {
   "cell_type": "markdown",
   "metadata": {},
   "source": [
    "## "
   ]
  },
  {
   "cell_type": "markdown",
   "metadata": {},
   "source": [
    "## Multi Layer Perceptron (MLP)"
   ]
  },
  {
   "cell_type": "markdown",
   "metadata": {},
   "source": [
    "Vimos na aula anterior a respeito do _Perceptron_, onde montamos uma rede neural a partir de um neurônio. É importante o conceito do _Perceptron_ para justamente entender o que existe por trás das redes neurais mais complexas.\n",
    "\n",
    "As redes __Multi Layer Perceptron__ (pela sigla MLP) sõa todos tipos de redes onde temos __diversas camadas de neurônios totalmente conectada__.\n",
    "\n",
    "<br>\n",
    "\n",
    "<img src=\"https://miro.medium.com/max/1400/1*piYTTh83qsQJVUMOZKmN5w.png\" width= 600>\n",
    "\n",
    "<br>\n",
    "\n",
    "Conhecido já os principais conceitos por trás das redes neurais e agora fazendo a abstração para redes mais complexas, vamos treinar uma rede agora baseado no _MLP_."
   ]
  },
  {
   "cell_type": "markdown",
   "metadata": {},
   "source": [
    "##   "
   ]
  },
  {
   "cell_type": "markdown",
   "metadata": {},
   "source": [
    "## Treinando uma Rede Neural"
   ]
  },
  {
   "cell_type": "markdown",
   "metadata": {},
   "source": [
    "A \"aprendizagem\" da Rede Neural a partir dos dados se dá através de duas etapas, o **Forward Propagation** e o **Backward Propagation**.\n",
    "\n",
    "### Forward Propagation\n",
    "\n",
    "No __Forward Propagation__, a informação propaga na direção habitual (da esquerda para direita) na rede neural: features são lidas na camada de input, passam pelo processamento nas camadas ocultas, e a resposta (target) é predita na camada de output. \n",
    "\n",
    "Para que a predição seja realizada, os neurônios nas camadas ocultas realizam as seguintes duas etapas de cálculo:\n",
    "\n",
    "- Uma combinação linear entre o output (que denotamos pela letra **a**) da camada enterior e os pesos da camada atual. Isto é, se tivermos n ligações. a combinação linear é:\n",
    "\n",
    "![](https://latex.codecogs.com/gif.latex?z%5E%7Batual%7D%20%3D%20W_0%5E%7Batual%7D%20&plus;%20%5Cleft%20%28%20W_1%5E%7Batual%7D%5Ctimes%20a_1%5E%7Banterior%7D%20%5Cright%29%20&plus;%20%5Cleft%28%20W_2%5E%7Batual%7D%20%5Ctimes%20a_2%5E%7Banterior%7D%20%5Cright%20%29%20&plus;%20%5Ccdots%20&plus;%20%5Cleft%20%28%20W_n%5E%7Batual%7D%20%5Ctimes%20a_n%5E%7Banterior%7D%20%5Cright%29)\n",
    "\n",
    "- Aplica-se uma __função de ativação não-linear__ à combinação linear acima. As principais funções de ativação utilizadas são:\n",
    "<br><br>\n",
    "\n",
    "<img src=\"https://cdn-images-1.medium.com/max/1000/1*4ZEDRpFuCIpUjNgjDdT2Lg.png\n",
    "\" width=\"800\" />\n",
    "\n",
    "O cálculo realizado por um único neurônio é bem parecido com um **perceptron**, ilustrado a seguir:\n",
    "<br>\n",
    "\n",
    "<img src=\"https://img2.gratispng.com/20180619/oav/kisspng-multilayer-perceptron-machine-learning-statistical-5b2996bdb9dcd2.4724873615294522217613.jpg\" width=\"400\" />\n",
    "<br>\n",
    "\n",
    "A escolha das funções de ativação também pode ser variável, mas costuma-se utilizar:\n",
    "\n",
    "- **ReLu** nas camadas ocultas;\n",
    "- **Sigmoid** (para problemas de classificação binários) ou **Softmax** (para probelams de classificação multiclasse) na camada de output.\n",
    "\n",
    "\n",
    "Ao fim do __Forward Propagation__, na camada de output, calculamos a **Função de Perda**, que quantifica qual a **diferença entre as predições feitas pela rede neural e os valores reais do target dos dados**. Cada tipo de problema tem uma função de perda própria.\n",
    "<br><br>\n",
    "\n",
    "Queremos que as predições sejam sempre o mais próximas o possível dos valores reais. Então, o que fazemos é **minimizar** a função de perda. \n",
    "\n",
    "\n",
    "### Backward Propagation\n",
    "\n",
    "Isto é feito ao propagarmos a informação na direção contrária (da direita para esquerda) na rede neural, o que caracteriza o chamado __Backward Propagation__. \n",
    "\n",
    "Para minimizar a função de perda, utilizamos um **Otimizador**, que são objetos que representam o procedimento matemático de minimização da função de perda. Os principais otimizadores utilizados são: __gradiente descendente (GD)__, **Adam** e **RMSProp**.\n",
    "\n",
    "Este processo de __Forward e Backward Propagation__ é feito iterativamente, ou seja por diversas vezes no desenvolvimento do modelo. Cada rodada é chamada de __época__ (**epoch**).\n",
    "\n",
    "O objetivo do Backward Propagation é **determinar os Pesos que miminizem a Função de Perda.** A cada epoch, os pesos são **atualizados**, de modo que a função de perda é sempre reduzida em direção ao seu mínimo!\n",
    "\n",
    "Para quem quiser saber mais, segue uma sugestão de leitura adicional: [Neural Networks Explained](https://medium.com/datadriveninvestor/neural-networks-explained-6e21c70d7818)\n",
    "\n",
    "Vamos agora ao nosso exemplo prático: construiremos nossa própria rede neural!"
   ]
  },
  {
   "cell_type": "markdown",
   "metadata": {},
   "source": [
    "##   "
   ]
  },
  {
   "cell_type": "markdown",
   "metadata": {},
   "source": [
    "## 5) O exemplo clássico: MNIST\n",
    "\n",
    "Neste exemplo, usaremos o **[MNIST](https://www.kaggle.com/c/digit-recognizer/data)**, o famoso dataset de dígitos (números de 0 a 9) escritos à mão, onde vocês podem conhecer mais a respeito neste [link](http://yann.lecun.com/exdb/mnist/)\n",
    "\n",
    "<br><br>\n",
    "<img src=\"https://i2.wp.com/syncedreview.com/wp-content/uploads/2019/06/MNIST.png?fit=530%2C297&ssl=1\" width=700>\n",
    "\n",
    "<br><br>\n",
    "O objetivo do nosso modelo será o de **classificar digítos, com base em imagens**. Assim sendo, temos um **problema de classificação multiclasse** (pois os dados serão classificados em uma dentre 10 classes possíveis, de 0 a 9)."
   ]
  },
  {
   "cell_type": "code",
   "execution_count": 2,
   "metadata": {},
   "outputs": [],
   "source": [
    "# importe as bibliotecas padrões\n",
    "import numpy as np\n",
    "import pandas as pd\n",
    "import matplotlib.pyplot as plt\n",
    "import seaborn as sns"
   ]
  },
  {
   "cell_type": "markdown",
   "metadata": {},
   "source": [
    "__Algumas observações sobre a base :__\n",
    "\n",
    "- A base do MNIST é composta por imagens de números manuscritos, onde cada imagem é uma **matriz 28 x 28**, contendo assim **784 pixels**; \n",
    "\n",
    "- As imagens estão em escala de cinza, na qual cada pixel pode variar de **0 a 255**, e foram centralizadas, de forma que o número não fique \"cortado\" por estar na borda;\n",
    "\n",
    "- A base está dividida em 60 mil casos para treino e 10 mil casos para teste;\n",
    "\n",
    "\n",
    "Na função ``carrega_mnist()``, o objetivo é ler a base e retornar dois numpy arrays (a = 60000 ou a = 10000, a depender do tipo): \n",
    "\n",
    "- o primeiro da forma (a, 784), que são os 784 pixels da imagem organizados de forma sequencial;\n",
    "- o segundo da forma (a, 1), que é o identificador (label) da imagem, sendo um número que varia de 0 a 9.\n"
   ]
  },
  {
   "cell_type": "code",
   "execution_count": 3,
   "metadata": {},
   "outputs": [],
   "source": [
    "# Função essencial para ler a base do MNIST\n",
    "import os\n",
    "import gzip\n",
    "\n",
    "def carrega_mnist(caminho, tipo = 'train'):\n",
    "    label_caminho = os.path.join(caminho, '%s-labels-idx1-ubyte.gz' % tipo)\n",
    "    imagens_caminho = os.path.join(caminho, '%s-images-idx3-ubyte.gz' % tipo)\n",
    "        \n",
    "    with gzip.open(label_caminho, 'rb') as lbpath:\n",
    "        lbpath.read(8)\n",
    "        buffer = lbpath.read()\n",
    "        labels = np.frombuffer(buffer, dtype=np.uint8)\n",
    "\n",
    "    with gzip.open(imagens_caminho, 'rb') as imgpath:\n",
    "        imgpath.read(16)\n",
    "        buffer = imgpath.read()\n",
    "        imagens = np.frombuffer(buffer, \n",
    "                               dtype=np.uint8).reshape(\n",
    "            len(labels), 784).astype(np.float64)\n",
    " \n",
    "    return imagens, labels\n",
    "\n",
    "X_train, y_train = carrega_mnist('')\n",
    "X_test, y_test = carrega_mnist('', \"t10k\")"
   ]
  },
  {
   "cell_type": "code",
   "execution_count": 4,
   "metadata": {},
   "outputs": [
    {
     "name": "stdout",
     "output_type": "stream",
     "text": [
      "(60000, 784) (60000,)\n"
     ]
    }
   ],
   "source": [
    "print(X_train.shape, y_train.shape)"
   ]
  },
  {
   "cell_type": "code",
   "execution_count": 5,
   "metadata": {},
   "outputs": [
    {
     "name": "stdout",
     "output_type": "stream",
     "text": [
      "(10000, 784) (10000,)\n"
     ]
    }
   ],
   "source": [
    "print(X_test.shape, y_test.shape)"
   ]
  },
  {
   "cell_type": "markdown",
   "metadata": {},
   "source": [
    "Fazendo uma visualização do Dataset:"
   ]
  },
  {
   "cell_type": "code",
   "execution_count": 6,
   "metadata": {},
   "outputs": [],
   "source": [
    "# uma imagem qualquer do dataset de treino\n",
    "\n",
    "idx = 32\n",
    "features = X_train[idx]\n",
    "target = y_train[idx]"
   ]
  },
  {
   "cell_type": "code",
   "execution_count": 7,
   "metadata": {},
   "outputs": [
    {
     "data": {
      "text/plain": [
       "array([  0.,   0.,   0.,   0.,   0.,   0.,   0.,   0.,   0.,   0.,   0.,\n",
       "         0.,   0.,   0.,   0.,   0.,   0.,   0.,   0.,   0.,   0.,   0.,\n",
       "         0.,   0.,   0.,   0.,   0.,   0.,   0.,   0.,   0.,   0.,   0.,\n",
       "         0.,   0.,   0.,   0.,   0.,   0.,   0.,   0.,   0.,   0.,   0.,\n",
       "         0.,   0.,   0.,   0.,   0.,   0.,   0.,   0.,   0.,   0.,   0.,\n",
       "         0.,   0.,   0.,   0.,   0.,   0.,   0.,   0.,   0.,   0.,   0.,\n",
       "         0.,   0.,   0.,   0.,   0., 132., 255., 225.,  12.,   0.,   0.,\n",
       "         0.,   0.,   0.,   0.,   0.,   0.,   0.,   0.,   0.,   0.,   0.,\n",
       "         0.,   0.,   0.,   0.,   0.,   0.,   0.,   0.,   0.,   3., 128.,\n",
       "       246., 183., 128.,  46.,   0.,   0.,   0.,   0.,   0.,   0.,   0.,\n",
       "         0.,   0.,   0.,   0.,   0.,   0.,   0.,   0.,   0.,   0.,   0.,\n",
       "         0.,   0.,   0.,   0.,  91., 254., 134.,   0.,   0.,   0.,   0.,\n",
       "         0.,   0.,   0.,   0.,   0.,   0.,   0.,   0.,   0.,   0.,   0.,\n",
       "         0.,   0.,   0.,   0.,   0.,   0.,   0.,   0.,   0.,  54., 235.,\n",
       "       204.,   7.,   0.,   0.,   0.,   0.,   0.,   0.,   0.,   0.,   0.,\n",
       "         0.,   0.,   0.,   0.,   0.,   0.,   0.,   0.,   0.,   0.,   0.,\n",
       "         0.,   0.,   0.,   0., 158., 252., 120.,   0.,   0.,   0.,   0.,\n",
       "         0.,   0.,   0.,   0.,   0.,   0.,   0.,   0.,   0.,   0.,   0.,\n",
       "         0.,   0.,   0.,   0.,   0.,   0.,   0.,   0.,   0.,  63., 251.,\n",
       "       165.,   0.,   0.,   0.,   0.,   0.,   0.,   0.,   0.,   0.,   0.,\n",
       "         0.,   0.,   0.,   0.,   0.,   0.,   0.,   0.,   0.,   0.,   0.,\n",
       "         0.,   0.,   0.,   0., 107., 254., 138.,   0.,   0.,   0.,   0.,\n",
       "         0.,   0.,   0.,   0.,   0.,   0.,   0.,   0.,   0.,   0.,   0.,\n",
       "         0.,   0.,   0.,   0.,   0.,   0.,   0.,   0.,   0.,   0., 182.,\n",
       "       229.,  40.,   0.,   0.,   0.,   0.,   0.,   0.,   0.,   0.,   0.,\n",
       "         0.,   0.,   0.,   0.,   0.,   0.,   0.,   0.,   0.,   0.,   0.,\n",
       "         0.,   0.,   0.,   0.,  17., 232., 133.,   0.,   0.,   0.,   0.,\n",
       "         0.,   0.,   0.,   0.,   0.,   0.,   0.,   0.,   0.,   0.,   0.,\n",
       "         0.,   0.,   0.,   0.,   0.,   0.,   0.,   0.,   0.,   0., 133.,\n",
       "       254., 105.,   0.,   0.,   0.,   0.,   0.,   0.,   0.,   0.,   0.,\n",
       "         0.,   0.,   0.,   0.,   0.,   0.,   0.,   0.,   0.,   0.,   0.,\n",
       "         0.,   0.,   0.,   0.,   0., 216., 254.,  27.,   0.,   0.,   0.,\n",
       "         0.,   0.,   0.,   0.,   0.,   0.,   0.,   0.,   0.,   0.,   0.,\n",
       "         0.,   0.,   0.,   0.,   0.,   0.,   0.,   0.,   0.,   0.,  18.,\n",
       "       227., 194.,   3.,   0.,   0.,   0.,   0.,   0.,   0.,  30.,   0.,\n",
       "         0.,   0.,   0.,   0.,   0.,   0.,   0.,   0.,   0.,   0.,   0.,\n",
       "         0.,   0.,   0.,   0.,   0.,  58., 254., 115.,   0.,   0.,   0.,\n",
       "         0.,  25., 139., 155., 242., 235., 128.,   0.,   0.,   0.,   0.,\n",
       "         0.,   0.,   0.,   0.,   0.,   0.,   0.,   0.,   0.,   0.,   0.,\n",
       "        58., 254.,  75.,   0.,   0.,   0.,  83., 224., 251., 155., 152.,\n",
       "       254., 211.,   0.,   0.,   0.,   0.,   0.,   0.,   0.,   0.,   0.,\n",
       "         0.,   0.,   0.,   0.,   0.,   0.,  58., 254., 104.,   0.,   0.,\n",
       "        82., 249., 217.,  60.,   0.,  37., 254., 120.,   0.,   0.,   0.,\n",
       "         0.,   0.,   0.,   0.,   0.,   0.,   0.,   0.,   0.,   0.,   0.,\n",
       "         0.,  58., 254.,  72.,   0.,  18., 247., 159.,  14.,   0.,   7.,\n",
       "       201., 254.,  69.,   0.,   0.,   0.,   0.,   0.,   0.,   0.,   0.,\n",
       "         0.,   0.,   0.,   0.,   0.,   0.,   0.,  35., 239., 147.,   1.,\n",
       "         5., 155.,  72.,   0.,   4., 193., 253., 122.,   6.,   0.,   0.,\n",
       "         0.,   0.,   0.,   0.,   0.,   0.,   0.,   0.,   0.,   0.,   0.,\n",
       "         0.,   0.,   0., 216., 254.,  97.,   0.,   0.,  13.,  73., 225.,\n",
       "       254., 121.,   0.,   0.,   0.,   0.,   0.,   0.,   0.,   0.,   0.,\n",
       "         0.,   0.,   0.,   0.,   0.,   0.,   0.,   0.,   0.,  79., 244.,\n",
       "       248., 226., 226., 231., 254., 243., 115.,   6.,   0.,   0.,   0.,\n",
       "         0.,   0.,   0.,   0.,   0.,   0.,   0.,   0.,   0.,   0.,   0.,\n",
       "         0.,   0.,   0.,   0.,   0., 114., 177., 254., 254., 235., 152.,\n",
       "        43.,   0.,   0.,   0.,   0.,   0.,   0.,   0.,   0.,   0.,   0.,\n",
       "         0.,   0.,   0.,   0.,   0.,   0.,   0.,   0.,   0.,   0.,   0.,\n",
       "         0.,   0.,   0.,   0.,   0.,   0.,   0.,   0.,   0.,   0.,   0.,\n",
       "         0.,   0.,   0.,   0.,   0.,   0.,   0.,   0.,   0.,   0.,   0.,\n",
       "         0.,   0.,   0.,   0.,   0.,   0.,   0.,   0.,   0.,   0.,   0.,\n",
       "         0.,   0.,   0.,   0.,   0.,   0.,   0.,   0.,   0.,   0.,   0.,\n",
       "         0.,   0.,   0.,   0.,   0.,   0.,   0.,   0.,   0.,   0.,   0.,\n",
       "         0.,   0.,   0.,   0.,   0.,   0.,   0.,   0.,   0.,   0.,   0.,\n",
       "         0.,   0.,   0.,   0.,   0.,   0.,   0.,   0.,   0.,   0.,   0.,\n",
       "         0.,   0.,   0.,   0.,   0.,   0.,   0.,   0.,   0.,   0.,   0.,\n",
       "         0.,   0.,   0.,   0.,   0.,   0.,   0.,   0.,   0.,   0.,   0.,\n",
       "         0.,   0.,   0.,   0.,   0.,   0.,   0.,   0.,   0.,   0.,   0.,\n",
       "         0.,   0.,   0.,   0.,   0.,   0.,   0.,   0.,   0.,   0.,   0.,\n",
       "         0.,   0.,   0.,   0.,   0.,   0.,   0.,   0.,   0.,   0.,   0.,\n",
       "         0.,   0.,   0.,   0.,   0.,   0.,   0.,   0.,   0.,   0.,   0.,\n",
       "         0.,   0.,   0.,   0.,   0.,   0.,   0.,   0.,   0.,   0.,   0.,\n",
       "         0.,   0.,   0.])"
      ]
     },
     "execution_count": 7,
     "metadata": {},
     "output_type": "execute_result"
    }
   ],
   "source": [
    "features"
   ]
  },
  {
   "cell_type": "code",
   "execution_count": 8,
   "metadata": {
    "scrolled": false
   },
   "outputs": [
    {
     "data": {
      "text/plain": [
       "array([[  0.,   0.,   0.,   0.,   0.,   0.,   0.,   0.,   0.,   0.,   0.,\n",
       "          0.,   0.,   0.,   0.,   0.,   0.,   0.,   0.,   0.,   0.,   0.,\n",
       "          0.,   0.,   0.,   0.,   0.,   0.],\n",
       "       [  0.,   0.,   0.,   0.,   0.,   0.,   0.,   0.,   0.,   0.,   0.,\n",
       "          0.,   0.,   0.,   0.,   0.,   0.,   0.,   0.,   0.,   0.,   0.,\n",
       "          0.,   0.,   0.,   0.,   0.,   0.],\n",
       "       [  0.,   0.,   0.,   0.,   0.,   0.,   0.,   0.,   0.,   0.,   0.,\n",
       "          0.,   0.,   0.,   0., 132., 255., 225.,  12.,   0.,   0.,   0.,\n",
       "          0.,   0.,   0.,   0.,   0.,   0.],\n",
       "       [  0.,   0.,   0.,   0.,   0.,   0.,   0.,   0.,   0.,   0.,   0.,\n",
       "          0.,   0.,   3., 128., 246., 183., 128.,  46.,   0.,   0.,   0.,\n",
       "          0.,   0.,   0.,   0.,   0.,   0.],\n",
       "       [  0.,   0.,   0.,   0.,   0.,   0.,   0.,   0.,   0.,   0.,   0.,\n",
       "          0.,   0.,  91., 254., 134.,   0.,   0.,   0.,   0.,   0.,   0.,\n",
       "          0.,   0.,   0.,   0.,   0.,   0.],\n",
       "       [  0.,   0.,   0.,   0.,   0.,   0.,   0.,   0.,   0.,   0.,   0.,\n",
       "          0.,  54., 235., 204.,   7.,   0.,   0.,   0.,   0.,   0.,   0.,\n",
       "          0.,   0.,   0.,   0.,   0.,   0.],\n",
       "       [  0.,   0.,   0.,   0.,   0.,   0.,   0.,   0.,   0.,   0.,   0.,\n",
       "          0., 158., 252., 120.,   0.,   0.,   0.,   0.,   0.,   0.,   0.,\n",
       "          0.,   0.,   0.,   0.,   0.,   0.],\n",
       "       [  0.,   0.,   0.,   0.,   0.,   0.,   0.,   0.,   0.,   0.,   0.,\n",
       "         63., 251., 165.,   0.,   0.,   0.,   0.,   0.,   0.,   0.,   0.,\n",
       "          0.,   0.,   0.,   0.,   0.,   0.],\n",
       "       [  0.,   0.,   0.,   0.,   0.,   0.,   0.,   0.,   0.,   0.,   0.,\n",
       "        107., 254., 138.,   0.,   0.,   0.,   0.,   0.,   0.,   0.,   0.,\n",
       "          0.,   0.,   0.,   0.,   0.,   0.],\n",
       "       [  0.,   0.,   0.,   0.,   0.,   0.,   0.,   0.,   0.,   0.,   0.,\n",
       "        182., 229.,  40.,   0.,   0.,   0.,   0.,   0.,   0.,   0.,   0.,\n",
       "          0.,   0.,   0.,   0.,   0.,   0.],\n",
       "       [  0.,   0.,   0.,   0.,   0.,   0.,   0.,   0.,   0.,   0.,  17.,\n",
       "        232., 133.,   0.,   0.,   0.,   0.,   0.,   0.,   0.,   0.,   0.,\n",
       "          0.,   0.,   0.,   0.,   0.,   0.],\n",
       "       [  0.,   0.,   0.,   0.,   0.,   0.,   0.,   0.,   0.,   0., 133.,\n",
       "        254., 105.,   0.,   0.,   0.,   0.,   0.,   0.,   0.,   0.,   0.,\n",
       "          0.,   0.,   0.,   0.,   0.,   0.],\n",
       "       [  0.,   0.,   0.,   0.,   0.,   0.,   0.,   0.,   0.,   0., 216.,\n",
       "        254.,  27.,   0.,   0.,   0.,   0.,   0.,   0.,   0.,   0.,   0.,\n",
       "          0.,   0.,   0.,   0.,   0.,   0.],\n",
       "       [  0.,   0.,   0.,   0.,   0.,   0.,   0.,   0.,   0.,  18., 227.,\n",
       "        194.,   3.,   0.,   0.,   0.,   0.,   0.,   0.,  30.,   0.,   0.,\n",
       "          0.,   0.,   0.,   0.,   0.,   0.],\n",
       "       [  0.,   0.,   0.,   0.,   0.,   0.,   0.,   0.,   0.,  58., 254.,\n",
       "        115.,   0.,   0.,   0.,   0.,  25., 139., 155., 242., 235., 128.,\n",
       "          0.,   0.,   0.,   0.,   0.,   0.],\n",
       "       [  0.,   0.,   0.,   0.,   0.,   0.,   0.,   0.,   0.,  58., 254.,\n",
       "         75.,   0.,   0.,   0.,  83., 224., 251., 155., 152., 254., 211.,\n",
       "          0.,   0.,   0.,   0.,   0.,   0.],\n",
       "       [  0.,   0.,   0.,   0.,   0.,   0.,   0.,   0.,   0.,  58., 254.,\n",
       "        104.,   0.,   0.,  82., 249., 217.,  60.,   0.,  37., 254., 120.,\n",
       "          0.,   0.,   0.,   0.,   0.,   0.],\n",
       "       [  0.,   0.,   0.,   0.,   0.,   0.,   0.,   0.,   0.,  58., 254.,\n",
       "         72.,   0.,  18., 247., 159.,  14.,   0.,   7., 201., 254.,  69.,\n",
       "          0.,   0.,   0.,   0.,   0.,   0.],\n",
       "       [  0.,   0.,   0.,   0.,   0.,   0.,   0.,   0.,   0.,  35., 239.,\n",
       "        147.,   1.,   5., 155.,  72.,   0.,   4., 193., 253., 122.,   6.,\n",
       "          0.,   0.,   0.,   0.,   0.,   0.],\n",
       "       [  0.,   0.,   0.,   0.,   0.,   0.,   0.,   0.,   0.,   0., 216.,\n",
       "        254.,  97.,   0.,   0.,  13.,  73., 225., 254., 121.,   0.,   0.,\n",
       "          0.,   0.,   0.,   0.,   0.,   0.],\n",
       "       [  0.,   0.,   0.,   0.,   0.,   0.,   0.,   0.,   0.,   0.,  79.,\n",
       "        244., 248., 226., 226., 231., 254., 243., 115.,   6.,   0.,   0.,\n",
       "          0.,   0.,   0.,   0.,   0.,   0.],\n",
       "       [  0.,   0.,   0.,   0.,   0.,   0.,   0.,   0.,   0.,   0.,   0.,\n",
       "        114., 177., 254., 254., 235., 152.,  43.,   0.,   0.,   0.,   0.,\n",
       "          0.,   0.,   0.,   0.,   0.,   0.],\n",
       "       [  0.,   0.,   0.,   0.,   0.,   0.,   0.,   0.,   0.,   0.,   0.,\n",
       "          0.,   0.,   0.,   0.,   0.,   0.,   0.,   0.,   0.,   0.,   0.,\n",
       "          0.,   0.,   0.,   0.,   0.,   0.],\n",
       "       [  0.,   0.,   0.,   0.,   0.,   0.,   0.,   0.,   0.,   0.,   0.,\n",
       "          0.,   0.,   0.,   0.,   0.,   0.,   0.,   0.,   0.,   0.,   0.,\n",
       "          0.,   0.,   0.,   0.,   0.,   0.],\n",
       "       [  0.,   0.,   0.,   0.,   0.,   0.,   0.,   0.,   0.,   0.,   0.,\n",
       "          0.,   0.,   0.,   0.,   0.,   0.,   0.,   0.,   0.,   0.,   0.,\n",
       "          0.,   0.,   0.,   0.,   0.,   0.],\n",
       "       [  0.,   0.,   0.,   0.,   0.,   0.,   0.,   0.,   0.,   0.,   0.,\n",
       "          0.,   0.,   0.,   0.,   0.,   0.,   0.,   0.,   0.,   0.,   0.,\n",
       "          0.,   0.,   0.,   0.,   0.,   0.],\n",
       "       [  0.,   0.,   0.,   0.,   0.,   0.,   0.,   0.,   0.,   0.,   0.,\n",
       "          0.,   0.,   0.,   0.,   0.,   0.,   0.,   0.,   0.,   0.,   0.,\n",
       "          0.,   0.,   0.,   0.,   0.,   0.],\n",
       "       [  0.,   0.,   0.,   0.,   0.,   0.,   0.,   0.,   0.,   0.,   0.,\n",
       "          0.,   0.,   0.,   0.,   0.,   0.,   0.,   0.,   0.,   0.,   0.,\n",
       "          0.,   0.,   0.,   0.,   0.,   0.]])"
      ]
     },
     "execution_count": 8,
     "metadata": {},
     "output_type": "execute_result"
    }
   ],
   "source": [
    "img = features.reshape(28, 28)\n",
    "img"
   ]
  },
  {
   "cell_type": "code",
   "execution_count": 9,
   "metadata": {},
   "outputs": [
    {
     "name": "stdout",
     "output_type": "stream",
     "text": [
      "A label é:  6\n"
     ]
    }
   ],
   "source": [
    "print(\"A label é: \", target)"
   ]
  },
  {
   "cell_type": "code",
   "execution_count": 10,
   "metadata": {},
   "outputs": [
    {
     "data": {
      "image/png": "[encoded data removed]",
      "text/plain": [
       "<Figure size 432x288 with 1 Axes>"
      ]
     },
     "metadata": {
      "needs_background": "light"
     },
     "output_type": "display_data"
    }
   ],
   "source": [
    "plt.imshow(img, cmap = 'gray')\n",
    "plt.show()"
   ]
  },
  {
   "cell_type": "markdown",
   "metadata": {},
   "source": [
    "## Pré-Processamento dos Dados\n",
    "\n",
    "Um processo muito importante quando trabalhamos com Redes Neurais é o __Rescalamento__, pois é interessante que o os valores sejam rescalados **entre 0 e 1 para que o tempo de treinamento seja otimizado**. Não iremos enttrar em tantos detalhes sobre o motivo dessa otimização, mas [nesse link](https://stackoverflow.com/questions/4674623/why-do-we-have-to-normalize-the-input-for-an-artificial-neural-network) poderam ter mais detalhes sobre esse processo. \n",
    "\n",
    "Então, fazemos a divisão correpondentes aos pixels das imagens pelo pixel de valor máximo do **conjunto de treino**:"
   ]
  },
  {
   "cell_type": "code",
   "execution_count": 11,
   "metadata": {},
   "outputs": [
    {
     "data": {
      "text/plain": [
       "255.0"
      ]
     },
     "execution_count": 11,
     "metadata": {},
     "output_type": "execute_result"
    }
   ],
   "source": [
    "np.max(X_train)"
   ]
  },
  {
   "cell_type": "code",
   "execution_count": 12,
   "metadata": {},
   "outputs": [],
   "source": [
    "X_train = X_train/255.0\n",
    "X_test = X_test/255.0"
   ]
  },
  {
   "cell_type": "markdown",
   "metadata": {},
   "source": [
    "Em modelos de rede neural de classificação, necessariamente **devemos ter o target transformado em variáveis dummy**, pois nossa resposta precisa ter a estrutura de output correta, como vimos na animação (GIF) acima. Podemos fazer isso com o __OneHot Encoder__, como já vimos anteriormente.<br><br>\n",
    "\n",
    "Esse tipo de mapeamento é um vetor com a mesma quantidade de classes existentes, com cada posição desse vetor correspondendo a uma das classes. (No nosso caso, como temos 10 classes possíveis, este vetor terá 10 elementos!)"
   ]
  },
  {
   "cell_type": "code",
   "execution_count": 13,
   "metadata": {
    "scrolled": false
   },
   "outputs": [
    {
     "data": {
      "text/plain": [
       "array([5, 0, 4, 1, 9], dtype=uint8)"
      ]
     },
     "execution_count": 13,
     "metadata": {},
     "output_type": "execute_result"
    }
   ],
   "source": [
    "y_train[0:5]"
   ]
  },
  {
   "cell_type": "code",
   "execution_count": 14,
   "metadata": {},
   "outputs": [],
   "source": [
    "# Carrega o OneHotEncoder\n",
    "from sklearn.preprocessing import OneHotEncoder"
   ]
  },
  {
   "cell_type": "code",
   "execution_count": 15,
   "metadata": {},
   "outputs": [],
   "source": [
    "# Instancia o OHEncoder\n",
    "hot = OneHotEncoder()"
   ]
  },
  {
   "cell_type": "code",
   "execution_count": 16,
   "metadata": {},
   "outputs": [],
   "source": [
    "y_train = hot.fit_transform(y_train.reshape(-1, 1)).toarray()\n",
    "y_test = hot.fit_transform(y_test.reshape(-1, 1)).toarray()"
   ]
  },
  {
   "cell_type": "code",
   "execution_count": 17,
   "metadata": {},
   "outputs": [
    {
     "data": {
      "text/plain": [
       "array([[0., 0., 0., 0., 0., 1., 0., 0., 0., 0.],\n",
       "       [1., 0., 0., 0., 0., 0., 0., 0., 0., 0.],\n",
       "       [0., 0., 0., 0., 1., 0., 0., 0., 0., 0.],\n",
       "       [0., 1., 0., 0., 0., 0., 0., 0., 0., 0.],\n",
       "       [0., 0., 0., 0., 0., 0., 0., 0., 0., 1.]])"
      ]
     },
     "execution_count": 17,
     "metadata": {},
     "output_type": "execute_result"
    }
   ],
   "source": [
    "y_train[0:5]"
   ]
  },
  {
   "cell_type": "markdown",
   "metadata": {},
   "source": [
    "## Conjunto de Validação\n",
    "\n",
    "Em modelos de rede neural, é importante que exista um terceiro conjunto além de treino e teste, o **conjunto de validação**.\n",
    "\n",
    "Durante o treinamento, a depender do caso, **risco de ocorrer overfitting é bastante alto**.\n",
    "\n",
    "Uma forma de verificar e evitar isso é por meio do conjunto de validação, o qual é um subconjunto do conjunto de treino que não é utilizado pelo otimizador.  \n",
    "\n",
    "Espera-se que a o valor da função de perda (loss) vá diminuindo a cada época, tanto para o conjunto de treino como para o conjunto de validação. Porém, se a função de perda diminui para o conjunto de treino e aumenta para o conjunto de validação (ocorrendo assim um descolamento), podemos concluir que está ocorrendo um overfitting para o conjunto de treino.\n",
    "\n",
    "Deve-se então interromper o processo de treinamento. Esse comportamento pode ser visto com mais facilidade nos próximos tópicos.\n",
    "\n",
    "Para fazer a divisão, usamos a função ``train_test_split`` do ``sklearn`` e definimos que o conjunto de validação será 10% do conjunto de treino."
   ]
  },
  {
   "cell_type": "code",
   "execution_count": 18,
   "metadata": {},
   "outputs": [],
   "source": [
    "from sklearn.model_selection import train_test_split"
   ]
  },
  {
   "cell_type": "code",
   "execution_count": 19,
   "metadata": {},
   "outputs": [],
   "source": [
    "X_train, X_val, y_train, y_val = train_test_split(X_train,\n",
    "                                                  y_train,\n",
    "                                                  test_size = 0.1,\n",
    "                                                  random_state = 42,\n",
    "                                                  stratify = y_train)"
   ]
  },
  {
   "cell_type": "code",
   "execution_count": 20,
   "metadata": {},
   "outputs": [
    {
     "name": "stdout",
     "output_type": "stream",
     "text": [
      "(54000, 784) (6000, 784) (10000, 784)\n"
     ]
    }
   ],
   "source": [
    "print(X_train.shape, X_val.shape, X_test.shape)"
   ]
  },
  {
   "cell_type": "code",
   "execution_count": 21,
   "metadata": {},
   "outputs": [
    {
     "name": "stdout",
     "output_type": "stream",
     "text": [
      "(54000, 10) (6000, 10) (10000, 10)\n"
     ]
    }
   ],
   "source": [
    "print(y_train.shape, y_val.shape, y_test.shape)"
   ]
  },
  {
   "cell_type": "markdown",
   "metadata": {},
   "source": [
    "## Arquitetura da Rede\n",
    "\n",
    "Faremos uma rede simples, com:\n",
    "\n",
    "- **3 camadas ocultas**;\n",
    "- **25 neurônios cada**; \n",
    "- **Camadas densas**;\n",
    "- **função de ativação ReLu nas camadas escondidas**;\n",
    "- **10 neurônios e ativação Softmax na camada de saída**. \n",
    "\n",
    "Para a construção da rede neural, utilizaremos a biblioteca [Keras](https://keras.io/).\n",
    "\n",
    "Primeiro definimos que nossa rede é do tipo **sequencial**, utilizando a função ``Sequential()``. \n",
    "\n",
    "O Keras funciona de forma super intuitiva: construímos **a arquitetura** de nossa rede neural camada a camada, construindo assim a rede neural da forma que queiramos!\n",
    "\n",
    "[Clique aqui](https://keras.io/api/layers/) para conhecer melhor sobre a estrutura de camadas do Keras, e dar uma olhada nas camadas disponíveis!\n",
    "\n",
    "Dessa forma, utilizamos o método ``.add()`` para adicionar as camadas, uma após a outra, de forma que a saída da camada anterior camada seja a entrada da próxima camada. \n",
    "\n",
    "> A primeira camada adicionada é uma **camada densa (fully connected)** com 25 neurônios. Para isso, é usada a função ``Dense()``, que conecta todos os valores de input e todos o neurônios da camada. \n",
    "Na primeira camada, é necessário **definir a dimensão dos dados de entrada**. Em camadas subsequentes isso não será necessário, já que o Keras automaticamente determinará que a dimensão de entrada será a dimensão da saída da camada anterior. \n",
    "No caso da rede em questão, os **784 pixels da imagem estarão todos conectados, um a um, aos 25 neurônios da primeira camada, produzindo 25 saídas nessa camada**.\n",
    "\n",
    "> Após a camada densa, é necessário inserir **a camada de ativação**, por meio da função ``Activation()``. Ao usar essa função, é necessário definir qual função de fato será usada passando uma string como parâmetro pra função. Dentre as disponíveis no Keras estão ``'tanh'``, ``'sigmoid'``, ``'softmax'`` e ``'relu'``. Nessa camada, a `ReLu` será usada.\n",
    "\n",
    "Esse processo de ``Dense()`` e ``Activation()`` é repetido mais duas vezes com os mesmos parâmetros. \n",
    "\n",
    "> Posteriormente, por ser um problema de classificação com 10 classes diferentes, é importante que a **a camada de saída possua 10 neurônios**. Dessa forma, cada neurônio representará uma classe, e a predição final será a correspondente ao neurônio **com maior valor de saída**. \n",
    "Outro fator importante é o uso de uma **camada de ativação Softmax após essa última camada com 10 neurônios**. \n",
    "A ativação Softmax funciona como uma versão mais generalizada da função sigmóide (ou logística), usada para **predições multiclasse**\n",
    "Ou seja, com valores entre 0 e 1, a saída de cada neurônio pode ser interpretada como a **probabilidade daquela instância pertencer àquela classe**."
   ]
  },
  {
   "cell_type": "code",
   "execution_count": 22,
   "metadata": {},
   "outputs": [],
   "source": [
    "from tensorflow.keras.models import Sequential\n",
    "from tensorflow.keras.layers import Dense, Activation"
   ]
  },
  {
   "cell_type": "code",
   "execution_count": 23,
   "metadata": {},
   "outputs": [],
   "source": [
    "# Instancia a Rede\n",
    "rede_simples = Sequential()\n",
    "\n",
    "# Definindo camada de input e primeira camada oculta\n",
    "rede_simples.add(Dense(25, \n",
    "            input_dim = X_train.shape[1]))\n",
    "rede_simples.add(Activation('relu'))\n",
    "\n",
    "# Definir segunda camada oculta\n",
    "rede_simples.add(Dense(25))\n",
    "rede_simples.add(Activation('relu'))\n",
    "\n",
    "# Definir terceira camada oculta\n",
    "rede_simples.add(Dense(25))\n",
    "rede_simples.add(Activation('relu'))\n",
    "\n",
    "# Camada de output\n",
    "rede_simples.add(Dense(y_train.shape[1]))\n",
    "rede_simples.add(Activation('softmax'))"
   ]
  },
  {
   "cell_type": "markdown",
   "metadata": {},
   "source": [
    "A rede então deve ser compilada usando o método ``compile()``. Devem ser passados a [função de perda](https://keras.io/losses/) e o [otimizador](https://keras.io/optimizers/) a serem utilizados. \n",
    "\n",
    "Para a função de perda, usamos ``categorial_crossentropy`` por ser um **problema de classificação multiclasse** (não binário). \n",
    "\n",
    "Já o otimizador escolhido foi o ``RMSprop()``.\n",
    "\n",
    "Diferentes funções de perda possuem diferentes propósitos, devendo ser escolhido caso a caso. Já os otimizadores possuem maior liberdade de escolha, não existindo uma regra fechada.\n",
    "\n",
    "Artigo sobre `RMSprop`: [aqui](https://towardsdatascience.com/understanding-rmsprop-faster-neural-network-learning-62e116fcf29a)\n",
    "\n",
    "Artigo sobre o Gradiente descendente, Adam e outros métodos: [aqui](https://towardsdatascience.com/how-do-we-train-neural-networks-edd985562b73)\n",
    "\n",
    "A arquitetura da rede pode ser visualizada com o método ``.summary()``."
   ]
  },
  {
   "cell_type": "code",
   "execution_count": 24,
   "metadata": {},
   "outputs": [],
   "source": [
    "from tensorflow.keras.optimizers import RMSprop"
   ]
  },
  {
   "cell_type": "code",
   "execution_count": 25,
   "metadata": {
    "scrolled": false
   },
   "outputs": [
    {
     "name": "stdout",
     "output_type": "stream",
     "text": [
      "Model: \"sequential\"\n",
      "_________________________________________________________________\n",
      " Layer (type)                Output Shape              Param #   \n",
      "=================================================================\n",
      " dense (Dense)               (None, 25)                19625     \n",
      "                                                                 \n",
      " activation (Activation)     (None, 25)                0         \n",
      "                                                                 \n",
      " dense_1 (Dense)             (None, 25)                650       \n",
      "                                                                 \n",
      " activation_1 (Activation)   (None, 25)                0         \n",
      "                                                                 \n",
      " dense_2 (Dense)             (None, 25)                650       \n",
      "                                                                 \n",
      " activation_2 (Activation)   (None, 25)                0         \n",
      "                                                                 \n",
      " dense_3 (Dense)             (None, 10)                260       \n",
      "                                                                 \n",
      " activation_3 (Activation)   (None, 10)                0         \n",
      "                                                                 \n",
      "=================================================================\n",
      "Total params: 21,185\n",
      "Trainable params: 21,185\n",
      "Non-trainable params: 0\n",
      "_________________________________________________________________\n"
     ]
    }
   ],
   "source": [
    "rede_simples.compile(loss = 'categorical_crossentropy',\n",
    "                     optimizer = RMSprop())\n",
    "\n",
    "pesos_iniciais = rede_simples.get_weights()\n",
    "\n",
    "rede_simples.summary()"
   ]
  },
  {
   "cell_type": "code",
   "execution_count": 26,
   "metadata": {
    "scrolled": true
   },
   "outputs": [
    {
     "data": {
      "text/plain": [
       "[array([[-0.05610178,  0.06932236,  0.01354674, ..., -0.06273577,\n",
       "         -0.00868469, -0.00349364],\n",
       "        [-0.01585738,  0.00336281, -0.07794674, ...,  0.01405691,\n",
       "          0.06599359, -0.07288621],\n",
       "        [ 0.02544114,  0.04337551,  0.0331177 , ..., -0.01878059,\n",
       "          0.05637045, -0.07593994],\n",
       "        ...,\n",
       "        [ 0.0644033 ,  0.01789855,  0.04494216, ...,  0.07180269,\n",
       "         -0.07041362, -0.00958974],\n",
       "        [-0.04690354,  0.04072788, -0.07689659, ..., -0.07185712,\n",
       "          0.02389632, -0.04546113],\n",
       "        [-0.07582018,  0.03367961,  0.08580136, ..., -0.04066466,\n",
       "         -0.0461462 ,  0.06869549]], dtype=float32),\n",
       " array([0., 0., 0., 0., 0., 0., 0., 0., 0., 0., 0., 0., 0., 0., 0., 0., 0.,\n",
       "        0., 0., 0., 0., 0., 0., 0., 0.], dtype=float32),\n",
       " array([[-0.11045058,  0.13109979, -0.00876749, -0.29376236, -0.13952413,\n",
       "         -0.08614913, -0.07022399,  0.11188954, -0.10328874,  0.02320623,\n",
       "          0.05287403, -0.16603844, -0.0343653 ,  0.1098797 ,  0.14936355,\n",
       "          0.11982915, -0.08571693,  0.07157558, -0.09644255, -0.02749285,\n",
       "          0.02803794, -0.31968227, -0.12226707, -0.278725  ,  0.18670875],\n",
       "        [-0.15784793,  0.11223248, -0.31127635,  0.21714568,  0.08928624,\n",
       "         -0.27429748,  0.21005869, -0.16489944,  0.1124534 ,  0.00978345,\n",
       "         -0.27203986, -0.19943099, -0.09028435, -0.10220712, -0.33273348,\n",
       "         -0.00551847, -0.04050756, -0.25818437, -0.09949039, -0.1959127 ,\n",
       "          0.05984005, -0.09478191,  0.28499645,  0.17619777,  0.06351548],\n",
       "        [-0.30155253,  0.01487654, -0.0949707 ,  0.10383606,  0.31269866,\n",
       "         -0.34567726, -0.06946185, -0.32538044, -0.28202945, -0.12677239,\n",
       "         -0.06566226,  0.09955069,  0.32146162,  0.16050804,  0.11610043,\n",
       "         -0.04976556,  0.24158323, -0.32621443,  0.2979775 , -0.24701293,\n",
       "          0.3367731 , -0.20089498, -0.07295883, -0.34115484, -0.02699575],\n",
       "        [ 0.19638711, -0.06158435,  0.02548879,  0.34627247, -0.16695528,\n",
       "         -0.25722608, -0.10564546, -0.10706387,  0.27631062,  0.10974354,\n",
       "         -0.15336937, -0.06791815, -0.08269393, -0.14290589,  0.02594188,\n",
       "          0.20013118, -0.05635217, -0.01342675,  0.33610588,  0.03218549,\n",
       "         -0.12411124,  0.09956357, -0.1658346 ,  0.2546472 , -0.15067732],\n",
       "        [ 0.2580101 ,  0.14499551, -0.31994456, -0.04504722,  0.08735782,\n",
       "          0.10051385, -0.3348796 ,  0.24016267, -0.1533251 , -0.08665615,\n",
       "         -0.04814827, -0.33628356, -0.16537714, -0.3411426 ,  0.02285349,\n",
       "          0.00486788, -0.19500586, -0.04606393,  0.20635611, -0.00887999,\n",
       "          0.15437317,  0.04751751,  0.12645963,  0.02946618, -0.08496115],\n",
       "        [-0.21348436,  0.31003892,  0.14452267,  0.12729543,  0.31962955,\n",
       "          0.06555068, -0.18414147,  0.15339598, -0.17714432, -0.0288547 ,\n",
       "         -0.24346823,  0.10715836,  0.28492147,  0.11246297,  0.34341288,\n",
       "         -0.23767978,  0.13881773, -0.09070489, -0.04498753, -0.09346309,\n",
       "          0.08987296,  0.13409743, -0.18637308, -0.01778722, -0.03878787],\n",
       "        [ 0.04862645,  0.11269787,  0.32311004,  0.23827177,  0.3123113 ,\n",
       "          0.07563171,  0.07363051, -0.12168579, -0.21164052,  0.22191507,\n",
       "         -0.21619068,  0.19554585, -0.09076321,  0.15460014, -0.16091469,\n",
       "         -0.2967913 , -0.23117279, -0.211477  , -0.29576352, -0.02692074,\n",
       "          0.2051087 ,  0.17347485,  0.13984889, -0.28691173, -0.11413404],\n",
       "        [-0.17617966, -0.25323647,  0.31734216, -0.01290667, -0.3148299 ,\n",
       "          0.02696261,  0.16298324,  0.0880985 ,  0.11390939,  0.04723391,\n",
       "         -0.0285002 ,  0.2938518 ,  0.11157107, -0.25490794,  0.11408505,\n",
       "         -0.03671417,  0.33269143, -0.21302705,  0.18751818, -0.09619173,\n",
       "         -0.27311444,  0.28651392,  0.06772628,  0.05659926,  0.2217341 ],\n",
       "        [-0.0503341 ,  0.29271984,  0.33478147,  0.06176415,  0.1279375 ,\n",
       "          0.09166029,  0.3039927 ,  0.04345298, -0.20811704,  0.3118397 ,\n",
       "         -0.04700142, -0.2794176 ,  0.00065023,  0.00680587,  0.03585738,\n",
       "         -0.16019276, -0.19813043,  0.3439843 ,  0.23960531, -0.19827868,\n",
       "          0.30339348,  0.01553115, -0.23734511, -0.20794624, -0.02894497],\n",
       "        [ 0.22253507,  0.25250614, -0.03076765, -0.14344248,  0.23462218,\n",
       "         -0.01892895, -0.14608026,  0.12509885,  0.23272449, -0.27594534,\n",
       "          0.28026062, -0.14856558,  0.09230113,  0.15437937,  0.1227811 ,\n",
       "          0.13594863, -0.01422986,  0.04179862, -0.32426447, -0.15505926,\n",
       "          0.31708336, -0.04366168, -0.23182145,  0.34231997, -0.28774586],\n",
       "        [ 0.00605124,  0.074738  ,  0.27643973,  0.30631334, -0.22551847,\n",
       "          0.00369319,  0.01709905,  0.2525062 , -0.13509612,  0.28128058,\n",
       "          0.29622298, -0.3141581 ,  0.17016679, -0.20429896,  0.20331496,\n",
       "         -0.14288433,  0.27703172, -0.08111176,  0.16266727,  0.02369797,\n",
       "         -0.04335585,  0.25889856,  0.02232167,  0.09661046,  0.24394691],\n",
       "        [ 0.02829942, -0.00576597,  0.0584293 , -0.22499798, -0.03218102,\n",
       "         -0.16870472,  0.09340528,  0.17421615,  0.16149652,  0.12419498,\n",
       "         -0.08525854,  0.02229956,  0.04752412,  0.1621452 ,  0.05877653,\n",
       "          0.33919352,  0.29937428, -0.29020873,  0.30987644,  0.09299159,\n",
       "          0.07139024,  0.19542474, -0.09065378, -0.2456221 ,  0.01900783],\n",
       "        [-0.15958217, -0.20874217,  0.3006053 ,  0.13960159, -0.25599334,\n",
       "         -0.31328794,  0.28277576, -0.13520423, -0.03047469,  0.32744014,\n",
       "          0.05598727, -0.06406364,  0.29289025,  0.13918972, -0.08882537,\n",
       "         -0.03809485, -0.14927717, -0.22397394,  0.02013195,  0.08554149,\n",
       "         -0.11049145, -0.1342422 ,  0.2650925 ,  0.18466693, -0.08791441],\n",
       "        [-0.20537932,  0.04558349, -0.00735024, -0.27316335, -0.26604545,\n",
       "         -0.10294326,  0.04308388, -0.19767296,  0.34345055,  0.2008143 ,\n",
       "          0.16184902,  0.15346658, -0.29516912,  0.30002952, -0.09823897,\n",
       "         -0.02244458,  0.19038159, -0.00064644, -0.02674383,  0.24958348,\n",
       "          0.32908022, -0.28697968,  0.13193133, -0.33969602, -0.04200014],\n",
       "        [ 0.2879179 ,  0.15249795, -0.19158289, -0.11990093, -0.17917258,\n",
       "          0.22766602,  0.09094721, -0.21755178,  0.1858545 , -0.2157769 ,\n",
       "          0.00684017,  0.17649662,  0.12674472,  0.01473755,  0.34385127,\n",
       "         -0.18480344,  0.20585984,  0.02424794, -0.27732244, -0.2689386 ,\n",
       "         -0.2992007 ,  0.06000391, -0.1166424 , -0.3416132 , -0.26767793],\n",
       "        [-0.21714312,  0.22346485, -0.33411124, -0.0949631 ,  0.29311073,\n",
       "          0.09746179,  0.00439465, -0.11151724, -0.1705089 ,  0.03273645,\n",
       "          0.275531  ,  0.11342409, -0.24792613, -0.06321758, -0.20958914,\n",
       "          0.21186078,  0.0787228 , -0.31214142,  0.32772517, -0.21717086,\n",
       "          0.22112852, -0.34560564,  0.0242168 ,  0.10354519, -0.13712925],\n",
       "        [-0.01419839,  0.30774248, -0.11784731, -0.0151889 , -0.279874  ,\n",
       "         -0.22393247, -0.10631081, -0.3395225 , -0.2926059 ,  0.19878602,\n",
       "          0.12451908, -0.1799866 , -0.12840256,  0.34588677,  0.29326868,\n",
       "         -0.11215095, -0.22700766,  0.06415623,  0.06376591,  0.1334899 ,\n",
       "          0.10294688, -0.0485011 , -0.28244883,  0.24090111, -0.07987908],\n",
       "        [ 0.02711806, -0.00427836,  0.30283433, -0.2883894 , -0.2880205 ,\n",
       "         -0.16954432, -0.24062958,  0.3272702 ,  0.11609194,  0.17165881,\n",
       "          0.02706289,  0.16397053,  0.26416284, -0.10510151,  0.10044554,\n",
       "         -0.27617988,  0.11280632,  0.02173677, -0.33581874,  0.13494092,\n",
       "         -0.00958622, -0.11581922,  0.17427713, -0.17790614, -0.16899808],\n",
       "        [ 0.12990794, -0.19509506,  0.24930811, -0.11630799,  0.18797427,\n",
       "         -0.26450694, -0.17164618,  0.30142784, -0.18876499, -0.2915219 ,\n",
       "          0.20771068,  0.2002312 , -0.3256581 , -0.10349645,  0.33128226,\n",
       "          0.02292997, -0.0018796 , -0.15787774,  0.02102402, -0.06018949,\n",
       "         -0.3300459 ,  0.29234767,  0.1339894 , -0.18992712,  0.05146354],\n",
       "        [ 0.2199238 ,  0.21586281, -0.2358641 , -0.19946964,  0.11110726,\n",
       "          0.22005612,  0.00115535, -0.1517117 , -0.00437167, -0.26221883,\n",
       "         -0.340367  ,  0.2677136 , -0.26902506, -0.04545054, -0.01907605,\n",
       "          0.257563  , -0.05517235, -0.2747353 ,  0.0011732 , -0.15044194,\n",
       "          0.2515266 , -0.21534042,  0.06865445,  0.21746051, -0.06543803],\n",
       "        [ 0.06383717,  0.13416895,  0.10892677,  0.04567888,  0.08304867,\n",
       "          0.06621024, -0.1304987 , -0.02996165, -0.04863647,  0.03938639,\n",
       "          0.1652863 ,  0.2676677 ,  0.05947515, -0.12476708, -0.2495511 ,\n",
       "          0.29594678, -0.13875075, -0.19232967,  0.13411346,  0.13503394,\n",
       "          0.143902  ,  0.01588061,  0.22787368, -0.25503892, -0.21354811],\n",
       "        [ 0.33848542, -0.09441793,  0.11175269, -0.18061404,  0.14281967,\n",
       "         -0.11466824, -0.16976279,  0.21726108,  0.2855147 , -0.32878828,\n",
       "          0.22349155, -0.17665398, -0.104196  , -0.20466343,  0.32962757,\n",
       "          0.22021383,  0.20042813, -0.04101631, -0.21635124, -0.13004157,\n",
       "         -0.04337189,  0.19917923, -0.13279358,  0.03589761, -0.15643522],\n",
       "        [-0.22476631, -0.2187994 ,  0.31580478, -0.33552676,  0.02582228,\n",
       "         -0.25811294, -0.16219285,  0.04590899, -0.18182622, -0.2236117 ,\n",
       "         -0.04766229, -0.3167631 , -0.18081778,  0.02668089,  0.13269818,\n",
       "         -0.14318413,  0.06867757,  0.34089684,  0.18969238,  0.2788213 ,\n",
       "          0.09527299,  0.00109375,  0.31484276,  0.10330302,  0.33443016],\n",
       "        [ 0.19739664, -0.02378196,  0.05837539,  0.33449876, -0.02925327,\n",
       "         -0.1927822 , -0.12805831, -0.282329  ,  0.33181745,  0.27096593,\n",
       "          0.07489327,  0.23489583, -0.3248231 , -0.09859915, -0.30750427,\n",
       "          0.28085113, -0.25235447,  0.3082708 , -0.33992496,  0.29265803,\n",
       "         -0.09938608, -0.2291973 , -0.12133858, -0.29025745, -0.31707537],\n",
       "        [-0.21718657, -0.17392692,  0.3411939 , -0.06950563,  0.12739909,\n",
       "         -0.2556823 , -0.210485  ,  0.04851505,  0.13704443, -0.33904374,\n",
       "          0.18329245, -0.16340388, -0.34501612,  0.28987867,  0.1522952 ,\n",
       "          0.32633728, -0.26710185, -0.34004217, -0.09248844, -0.17593916,\n",
       "          0.28248256, -0.14792004,  0.28254384, -0.34143662,  0.05848917]],\n",
       "       dtype=float32),\n",
       " array([0., 0., 0., 0., 0., 0., 0., 0., 0., 0., 0., 0., 0., 0., 0., 0., 0.,\n",
       "        0., 0., 0., 0., 0., 0., 0., 0.], dtype=float32),\n",
       " array([[ 0.29315764,  0.07052892, -0.21069883,  0.00327149, -0.32078055,\n",
       "         -0.19498125,  0.0424211 , -0.13563222,  0.28963524, -0.33741033,\n",
       "          0.31271857,  0.16233832,  0.25458127,  0.21650934, -0.19621037,\n",
       "          0.28911823, -0.03670946,  0.33471823, -0.1574106 , -0.01930243,\n",
       "         -0.26122165,  0.18250072,  0.06984285, -0.21695721, -0.04445103],\n",
       "        [ 0.26547426,  0.14171666,  0.11158323, -0.34387034, -0.22407058,\n",
       "          0.07847545, -0.02267995, -0.24551415,  0.11894602,  0.16679627,\n",
       "          0.01980871,  0.07939768, -0.29963362,  0.16548318, -0.2257612 ,\n",
       "         -0.03917596,  0.29923636,  0.11705503,  0.33440733, -0.2648487 ,\n",
       "          0.2893142 ,  0.24982405, -0.33904746, -0.11961269, -0.1605531 ],\n",
       "        [-0.21323848,  0.1588726 ,  0.16030276, -0.01168218,  0.12142837,\n",
       "         -0.20910177, -0.04791579,  0.1405144 , -0.0069842 , -0.22934887,\n",
       "          0.06896293,  0.2103563 ,  0.26020473,  0.03249097,  0.26692587,\n",
       "         -0.2525091 , -0.07431164,  0.22860539, -0.13124491, -0.30850685,\n",
       "          0.05367184,  0.04548374, -0.2357631 ,  0.04307342,  0.22105777],\n",
       "        [-0.05048656, -0.3314322 , -0.26846254,  0.24618047, -0.16968085,\n",
       "         -0.18961723,  0.00991517,  0.25306803, -0.3397399 ,  0.11644253,\n",
       "          0.26367337, -0.02697873, -0.2359827 , -0.16742712,  0.15373766,\n",
       "         -0.18171744, -0.14745176, -0.00744671,  0.2778815 ,  0.271487  ,\n",
       "         -0.1506396 ,  0.2938912 , -0.23175645, -0.196771  ,  0.00709975],\n",
       "        [-0.06956896, -0.33396506,  0.16435236,  0.32428324, -0.05694062,\n",
       "         -0.25149372,  0.03942761,  0.34584814, -0.19627883, -0.17872478,\n",
       "         -0.01341751, -0.24094012,  0.27933198, -0.12696053, -0.20213483,\n",
       "         -0.0566816 ,  0.02976707, -0.17060256,  0.25726306,  0.05633011,\n",
       "          0.17864287,  0.15723968, -0.33928654, -0.14409354,  0.11650628],\n",
       "        [ 0.3458979 , -0.06825545, -0.27255127,  0.253192  ,  0.05891889,\n",
       "          0.04302144,  0.05038902, -0.01589945,  0.27963406, -0.15036291,\n",
       "          0.20529044, -0.22155842,  0.23635858, -0.2554208 , -0.04868445,\n",
       "          0.23799288, -0.18260719, -0.03129515, -0.34356862, -0.2122569 ,\n",
       "          0.2624311 , -0.33007556, -0.25206682,  0.23853403, -0.3422181 ],\n",
       "        [-0.00043103,  0.2935652 ,  0.03052285,  0.21867591,  0.06192264,\n",
       "          0.2628125 , -0.01982877, -0.0374954 ,  0.13995516,  0.3196863 ,\n",
       "         -0.02795172,  0.24351943,  0.23688394,  0.31636304,  0.05749688,\n",
       "         -0.13017595,  0.12237954,  0.2589873 ,  0.02684194, -0.2836658 ,\n",
       "         -0.11887573,  0.22500706, -0.3026291 , -0.17894232,  0.05663618],\n",
       "        [-0.16340223,  0.15075406,  0.09765282,  0.24497098, -0.21671803,\n",
       "          0.04824406, -0.2278235 ,  0.18808669, -0.02782899,  0.03246439,\n",
       "         -0.334872  ,  0.29043823,  0.12752083, -0.00465581,  0.00844216,\n",
       "          0.3436507 ,  0.18023247, -0.03305921,  0.21896046,  0.2514844 ,\n",
       "          0.1849379 , -0.14478655, -0.2869849 , -0.30494618, -0.09414339],\n",
       "        [ 0.2985928 ,  0.09033713,  0.3390348 ,  0.3245381 , -0.25528866,\n",
       "          0.05402163,  0.25203937, -0.23363936,  0.32315618, -0.12919873,\n",
       "          0.05522248, -0.26928604,  0.1205397 ,  0.25056547, -0.23601061,\n",
       "          0.07439995, -0.16975147, -0.16810495,  0.15664846,  0.23567528,\n",
       "          0.19624913,  0.33012122,  0.28628618, -0.14521594, -0.12853883],\n",
       "        [-0.18640554,  0.01302439, -0.02424812, -0.2405754 ,  0.06875536,\n",
       "          0.14187977, -0.21271436,  0.08513168, -0.06648743, -0.34186387,\n",
       "          0.06152719, -0.28331077,  0.1454229 ,  0.10748738,  0.08507568,\n",
       "          0.32135844,  0.07102603,  0.30681574, -0.10405204, -0.3462932 ,\n",
       "         -0.08208591,  0.07331371, -0.19139905,  0.06560165, -0.03406987],\n",
       "        [ 0.25171536,  0.03697821, -0.07631993,  0.02073339, -0.04627544,\n",
       "          0.31189752, -0.03829348, -0.01303867, -0.22545901, -0.10911766,\n",
       "          0.00180626, -0.28504872,  0.2607845 ,  0.18792695,  0.3098387 ,\n",
       "          0.26500565,  0.20808816,  0.23651266,  0.11544532, -0.29324073,\n",
       "          0.02332911,  0.09491265, -0.2861428 ,  0.173437  ,  0.2334556 ],\n",
       "        [-0.19086881,  0.03823987, -0.11067745,  0.12264311, -0.10078293,\n",
       "          0.12996906,  0.07956284,  0.0370993 , -0.26697317, -0.05001786,\n",
       "          0.19790655, -0.1301206 ,  0.00501862, -0.08816913,  0.01272896,\n",
       "         -0.28286088,  0.1312435 ,  0.15517157,  0.31681883,  0.02951425,\n",
       "          0.1397036 ,  0.30966616,  0.09828639,  0.2422831 , -0.1547725 ],\n",
       "        [-0.18349306,  0.1635114 , -0.3167626 , -0.19977076,  0.3089255 ,\n",
       "         -0.20675313,  0.11375791, -0.20325758,  0.29929328,  0.32454842,\n",
       "         -0.27937788,  0.14231074,  0.11885864,  0.035947  , -0.12722424,\n",
       "          0.0766668 ,  0.13982847, -0.27572876, -0.02140194, -0.06801617,\n",
       "          0.11938968, -0.15455529,  0.28528756, -0.16836807,  0.08611938],\n",
       "        [-0.2832778 , -0.03334463,  0.01431561, -0.02505311, -0.19431622,\n",
       "         -0.2853927 ,  0.15810561,  0.12430969, -0.17215444,  0.06672379,\n",
       "          0.09162363, -0.09490785,  0.32633954, -0.08828804, -0.30209854,\n",
       "         -0.08589664,  0.16939366,  0.31012845, -0.11298265,  0.17445701,\n",
       "         -0.17004128, -0.2625549 , -0.13721143, -0.22243834, -0.26183647],\n",
       "        [-0.11707163, -0.30062076,  0.17240125, -0.27672747, -0.15136085,\n",
       "          0.2940985 , -0.31237027,  0.16623706, -0.15294643, -0.1281372 ,\n",
       "          0.05399734, -0.23991576,  0.3370514 , -0.28533143,  0.28800815,\n",
       "         -0.295889  , -0.2638093 , -0.01762095, -0.3102504 , -0.31855622,\n",
       "         -0.09888162,  0.00114107,  0.00130376, -0.10224536, -0.00326598],\n",
       "        [-0.30436477,  0.22481036,  0.2106933 ,  0.08214381, -0.05181125,\n",
       "          0.00924033, -0.2015296 ,  0.29169476, -0.06865957, -0.10988012,\n",
       "          0.00106186, -0.223652  , -0.05716369,  0.25466228,  0.09804529,\n",
       "          0.2732823 ,  0.01096183, -0.31114554,  0.00722304,  0.11286932,\n",
       "         -0.32062835,  0.29616368, -0.10705784, -0.3188883 , -0.09847635],\n",
       "        [-0.26775688, -0.10548176,  0.20599258, -0.13145973,  0.02845567,\n",
       "          0.33640116,  0.169482  ,  0.10934478,  0.19704723, -0.2806018 ,\n",
       "          0.21613783,  0.2694158 ,  0.10736465,  0.03405312, -0.00147054,\n",
       "         -0.13460933,  0.13581201, -0.00909528, -0.23175555, -0.00947586,\n",
       "         -0.09172019, -0.0579977 ,  0.3264984 ,  0.02257159,  0.1079309 ],\n",
       "        [-0.15267916, -0.25247613, -0.00045326, -0.07453638,  0.09210482,\n",
       "          0.05071741, -0.27258432, -0.03416434,  0.0594019 , -0.09493983,\n",
       "          0.04503915, -0.11974251,  0.22461557, -0.31227842,  0.16737169,\n",
       "          0.14647329, -0.09619024, -0.25256985,  0.22457981,  0.13399816,\n",
       "         -0.11484052,  0.01316437, -0.03771576,  0.03372505, -0.25532722],\n",
       "        [ 0.13392705,  0.23709947,  0.03766239, -0.28559744, -0.21739411,\n",
       "         -0.30777657,  0.00611782,  0.29794538, -0.11468707, -0.2601397 ,\n",
       "          0.00065824, -0.20397504, -0.21938248, -0.1759973 , -0.19501759,\n",
       "         -0.2659019 , -0.3086005 ,  0.05565378,  0.16327494, -0.09593379,\n",
       "         -0.16218583, -0.06876296, -0.19946279,  0.264085  ,  0.09179932],\n",
       "        [ 0.0801622 ,  0.03501156,  0.2275905 , -0.1752188 ,  0.33648062,\n",
       "          0.12004685,  0.11885476,  0.06241223, -0.27249467,  0.12849408,\n",
       "          0.21798486,  0.28017515, -0.04808128,  0.3179931 ,  0.23932815,\n",
       "         -0.22239307, -0.34068   ,  0.14450493,  0.16374886,  0.23973274,\n",
       "         -0.3123791 ,  0.31385434,  0.28019774, -0.00412184,  0.2900167 ],\n",
       "        [ 0.33616132,  0.20547861,  0.20427829,  0.00424623,  0.17730284,\n",
       "         -0.34118482,  0.0574891 ,  0.26777512, -0.05420184, -0.16700757,\n",
       "         -0.00214827,  0.3012548 , -0.13647637, -0.1160997 ,  0.14652443,\n",
       "         -0.34389395,  0.17000926, -0.28287822, -0.31763747,  0.17711121,\n",
       "         -0.2812953 , -0.2859971 ,  0.17726994, -0.27807665, -0.259812  ],\n",
       "        [-0.11977349,  0.28405017,  0.2511366 ,  0.24157709,  0.3190499 ,\n",
       "          0.24135119, -0.23943442, -0.29513684, -0.32444972, -0.12859549,\n",
       "          0.08337796,  0.05726627,  0.293607  ,  0.07182139, -0.22177044,\n",
       "          0.03265345, -0.29030752, -0.085058  , -0.2521698 , -0.01358747,\n",
       "         -0.31676078,  0.30462408,  0.19663942,  0.11703619,  0.16166711],\n",
       "        [-0.2812284 , -0.00868398, -0.27059907,  0.22807878,  0.1952427 ,\n",
       "          0.32798433,  0.18881148, -0.26508838, -0.11784022,  0.28044695,\n",
       "         -0.09097061, -0.12853825,  0.03365228, -0.07663888, -0.2809115 ,\n",
       "         -0.23348103,  0.28457177, -0.32099074, -0.01548797, -0.15167949,\n",
       "          0.33443785,  0.13444322,  0.07518148,  0.16907787, -0.2206296 ],\n",
       "        [ 0.2483899 ,  0.2292543 , -0.26443103, -0.01682496, -0.24619222,\n",
       "         -0.00313696, -0.17654496,  0.14054826, -0.28948936,  0.33676958,\n",
       "          0.17236036, -0.12256819, -0.2614875 ,  0.34439707,  0.00453117,\n",
       "         -0.20225707,  0.31384128,  0.20555383,  0.32017183,  0.26343203,\n",
       "         -0.09370351,  0.03282416,  0.18864995,  0.2983998 ,  0.18753439],\n",
       "        [-0.26630586, -0.19364443,  0.18261659,  0.1315605 , -0.22171584,\n",
       "          0.13641006,  0.17788088,  0.31740028,  0.13539839,  0.01894671,\n",
       "         -0.26325008, -0.09417775, -0.23100117,  0.1494753 ,  0.1902948 ,\n",
       "          0.21774215,  0.01421097,  0.02433118,  0.08609915,  0.16017336,\n",
       "         -0.05760846,  0.21758753, -0.04745194,  0.08883819, -0.13328093]],\n",
       "       dtype=float32),\n",
       " array([0., 0., 0., 0., 0., 0., 0., 0., 0., 0., 0., 0., 0., 0., 0., 0., 0.,\n",
       "        0., 0., 0., 0., 0., 0., 0., 0.], dtype=float32),\n",
       " array([[-0.09135166, -0.34192947,  0.25562838, -0.37631395,  0.21727309,\n",
       "         -0.03446999,  0.08849356, -0.39043528, -0.04565001,  0.17677656],\n",
       "        [ 0.09489933, -0.29696867, -0.35364503, -0.263902  , -0.04576245,\n",
       "         -0.36218905,  0.15250614,  0.39506957,  0.37883106,  0.29128793],\n",
       "        [ 0.17159799, -0.01933849,  0.2592658 , -0.22427914, -0.06041053,\n",
       "         -0.32054016,  0.2772915 ,  0.07659724, -0.3038345 , -0.3766004 ],\n",
       "        [-0.03110805,  0.0268724 ,  0.32737717, -0.1197331 , -0.02087945,\n",
       "          0.20698288, -0.32342884, -0.09374824,  0.13169208,  0.04099146],\n",
       "        [-0.3132043 , -0.02404997, -0.24813542,  0.09335735, -0.16944818,\n",
       "          0.17238072, -0.03446129,  0.13904217, -0.33729392,  0.02409634],\n",
       "        [ 0.14496425, -0.29447278,  0.05585077, -0.33227625, -0.02288759,\n",
       "         -0.32793903, -0.24430844,  0.41016284, -0.25202468, -0.24496244],\n",
       "        [-0.23104396,  0.10565117, -0.05177605,  0.16198453,  0.25177827,\n",
       "         -0.01956624, -0.38149402, -0.07752666, -0.06826168,  0.34747478],\n",
       "        [ 0.07547528,  0.14907524,  0.38443765, -0.35072356,  0.18009368,\n",
       "          0.29545066,  0.22347036, -0.21649322, -0.34925163, -0.27719355],\n",
       "        [ 0.21542421,  0.23563734, -0.1087814 , -0.3171734 , -0.13882461,\n",
       "         -0.3401911 , -0.13957563, -0.25583872, -0.33936742,  0.256431  ],\n",
       "        [-0.06011653, -0.19913444,  0.0025655 ,  0.3907704 ,  0.29500553,\n",
       "         -0.0877457 ,  0.30002102, -0.33059347,  0.08195913,  0.16536161],\n",
       "        [ 0.3328952 ,  0.334429  ,  0.32715723, -0.2598099 , -0.03010234,\n",
       "         -0.19401154, -0.32670727, -0.20154436, -0.15723303, -0.11745238],\n",
       "        [-0.11882699, -0.35272706, -0.17888886, -0.25648588,  0.39205125,\n",
       "          0.2665443 , -0.3226253 ,  0.36716786,  0.1827459 ,  0.23541346],\n",
       "        [-0.35670182, -0.16075054, -0.2957059 ,  0.30729762,  0.03954026,\n",
       "          0.15868905, -0.39929423,  0.15395984,  0.11834618, -0.3184252 ],\n",
       "        [ 0.16435817, -0.15170312,  0.31396535, -0.22241344, -0.09545383,\n",
       "         -0.05760396, -0.04156262, -0.15788424,  0.39385435, -0.18420148],\n",
       "        [-0.17251761,  0.0160439 , -0.38675946, -0.36284444,  0.28825906,\n",
       "         -0.1450772 , -0.1101945 , -0.26741636,  0.03987807, -0.39889908],\n",
       "        [-0.18352716,  0.40598008,  0.15525666,  0.11871299,  0.18747643,\n",
       "         -0.21308845, -0.19960453, -0.20159708, -0.37835488, -0.37174702],\n",
       "        [-0.31143612, -0.10164541,  0.21353295, -0.02841601,  0.35648802,\n",
       "          0.24325415,  0.35264876, -0.0159516 , -0.02573827,  0.307682  ],\n",
       "        [ 0.40086654, -0.40098906,  0.04480562, -0.26071453, -0.29962498,\n",
       "         -0.38243476, -0.12930506, -0.36205748, -0.16179067,  0.08639392],\n",
       "        [ 0.32707396, -0.39601493, -0.27382186, -0.33526582, -0.3223961 ,\n",
       "          0.20341995,  0.1115627 , -0.30325067, -0.08649379, -0.37950036],\n",
       "        [ 0.1882945 ,  0.18965045,  0.2402161 ,  0.29333004,  0.28090504,\n",
       "          0.28564957,  0.08676973, -0.37474144, -0.22947183, -0.26025403],\n",
       "        [ 0.37033084,  0.16071698,  0.16935053, -0.02000877,  0.07448003,\n",
       "         -0.03012437, -0.06497726,  0.06672323,  0.41192082, -0.23587732],\n",
       "        [-0.34480748, -0.15729353,  0.11686584, -0.07122728, -0.27492964,\n",
       "         -0.29499123, -0.19031636, -0.09650031,  0.1339778 , -0.1896606 ],\n",
       "        [ 0.09574249,  0.0768404 , -0.09845632,  0.15670541, -0.10576645,\n",
       "          0.25734964, -0.00726461,  0.15571585, -0.09126922,  0.2500901 ],\n",
       "        [-0.22641395, -0.10304448, -0.03652561, -0.01098981, -0.30243945,\n",
       "         -0.14113188,  0.350733  , -0.39510044, -0.22335123,  0.27730283],\n",
       "        [ 0.15742484,  0.3949702 , -0.28143334,  0.24249306, -0.18048932,\n",
       "         -0.38308656, -0.13237658,  0.01066089, -0.18666658, -0.40514556]],\n",
       "       dtype=float32),\n",
       " array([0., 0., 0., 0., 0., 0., 0., 0., 0., 0.], dtype=float32)]"
      ]
     },
     "execution_count": 26,
     "metadata": {},
     "output_type": "execute_result"
    }
   ],
   "source": [
    "pesos_iniciais"
   ]
  },
  {
   "cell_type": "markdown",
   "metadata": {},
   "source": [
    "## Treinamento\n",
    "\n",
    "Agora vem a parte de treinamento da rede neural. Para isso, basta usar o método ``.fit()`` e definir a quantidade de epochs, conjunto de treino e conjunto de validação. O parâmetro ``verbose`` define se informações de treinamento devem ser exibidas na tela a cada epoch."
   ]
  },
  {
   "cell_type": "code",
   "execution_count": 27,
   "metadata": {
    "scrolled": true
   },
   "outputs": [
    {
     "name": "stdout",
     "output_type": "stream",
     "text": [
      "Epoch 1/100\n",
      "1688/1688 [==============================] - 2s 945us/step - loss: 0.4056 - val_loss: 0.2417\n",
      "Epoch 2/100\n",
      "1688/1688 [==============================] - 1s 849us/step - loss: 0.2107 - val_loss: 0.1988\n",
      "Epoch 3/100\n",
      "1688/1688 [==============================] - 1s 844us/step - loss: 0.1759 - val_loss: 0.1823\n",
      "Epoch 4/100\n",
      "1688/1688 [==============================] - 1s 864us/step - loss: 0.1566 - val_loss: 0.1730\n",
      "Epoch 5/100\n",
      "1688/1688 [==============================] - 1s 861us/step - loss: 0.1426 - val_loss: 0.1801\n",
      "Epoch 6/100\n",
      "1688/1688 [==============================] - 2s 896us/step - loss: 0.1308 - val_loss: 0.1736\n",
      "Epoch 7/100\n",
      "1688/1688 [==============================] - 1s 862us/step - loss: 0.1226 - val_loss: 0.1688\n",
      "Epoch 8/100\n",
      "1688/1688 [==============================] - 1s 849us/step - loss: 0.1147 - val_loss: 0.1481\n",
      "Epoch 9/100\n",
      "1688/1688 [==============================] - 1s 862us/step - loss: 0.1100 - val_loss: 0.1675\n",
      "Epoch 10/100\n",
      "1688/1688 [==============================] - 1s 853us/step - loss: 0.1057 - val_loss: 0.1500\n",
      "Epoch 11/100\n",
      "1688/1688 [==============================] - 1s 879us/step - loss: 0.1014 - val_loss: 0.1675\n",
      "Epoch 12/100\n",
      "1688/1688 [==============================] - 1s 878us/step - loss: 0.0977 - val_loss: 0.1501\n",
      "Epoch 13/100\n",
      "1688/1688 [==============================] - 1s 859us/step - loss: 0.0935 - val_loss: 0.1580\n",
      "Epoch 14/100\n",
      "1688/1688 [==============================] - 1s 856us/step - loss: 0.0912 - val_loss: 0.1575\n",
      "Epoch 15/100\n",
      "1688/1688 [==============================] - 1s 847us/step - loss: 0.0889 - val_loss: 0.1805\n",
      "Epoch 16/100\n",
      "1688/1688 [==============================] - 1s 848us/step - loss: 0.0849 - val_loss: 0.1756\n",
      "Epoch 17/100\n",
      "1688/1688 [==============================] - 1s 859us/step - loss: 0.0847 - val_loss: 0.1715\n",
      "Epoch 18/100\n",
      "1688/1688 [==============================] - 1s 866us/step - loss: 0.0830 - val_loss: 0.1794\n",
      "Epoch 19/100\n",
      "1688/1688 [==============================] - 1s 869us/step - loss: 0.0811 - val_loss: 0.1641\n",
      "Epoch 20/100\n",
      "1688/1688 [==============================] - 1s 859us/step - loss: 0.0783 - val_loss: 0.1707\n",
      "Epoch 21/100\n",
      "1688/1688 [==============================] - 1s 854us/step - loss: 0.0763 - val_loss: 0.2087\n",
      "Epoch 22/100\n",
      "1688/1688 [==============================] - 2s 1ms/step - loss: 0.0756 - val_loss: 0.2071\n",
      "Epoch 23/100\n",
      "1688/1688 [==============================] - 1s 884us/step - loss: 0.0727 - val_loss: 0.1866\n",
      "Epoch 24/100\n",
      "1688/1688 [==============================] - 2s 951us/step - loss: 0.0729 - val_loss: 0.2028\n",
      "Epoch 25/100\n",
      "1688/1688 [==============================] - 2s 894us/step - loss: 0.0712 - val_loss: 0.1982\n",
      "Epoch 26/100\n",
      "1688/1688 [==============================] - 1s 866us/step - loss: 0.0703 - val_loss: 0.1945\n",
      "Epoch 27/100\n",
      "1688/1688 [==============================] - 1s 867us/step - loss: 0.0692 - val_loss: 0.2237\n",
      "Epoch 28/100\n",
      "1688/1688 [==============================] - 1s 850us/step - loss: 0.0666 - val_loss: 0.2070\n",
      "Epoch 29/100\n",
      "1688/1688 [==============================] - 1s 857us/step - loss: 0.0661 - val_loss: 0.2133\n",
      "Epoch 30/100\n",
      "1688/1688 [==============================] - 1s 850us/step - loss: 0.0667 - val_loss: 0.2191\n",
      "Epoch 31/100\n",
      "1688/1688 [==============================] - 1s 852us/step - loss: 0.0641 - val_loss: 0.2190\n",
      "Epoch 32/100\n",
      "1688/1688 [==============================] - 1s 866us/step - loss: 0.0652 - val_loss: 0.2256\n",
      "Epoch 33/100\n",
      "1688/1688 [==============================] - 1s 860us/step - loss: 0.0636 - val_loss: 0.2230\n",
      "Epoch 34/100\n",
      "1688/1688 [==============================] - 1s 851us/step - loss: 0.0636 - val_loss: 0.2611\n",
      "Epoch 35/100\n",
      "1688/1688 [==============================] - 1s 846us/step - loss: 0.0622 - val_loss: 0.2501\n",
      "Epoch 36/100\n",
      "1688/1688 [==============================] - 1s 853us/step - loss: 0.0598 - val_loss: 0.2716\n",
      "Epoch 37/100\n",
      "1688/1688 [==============================] - 1s 859us/step - loss: 0.0613 - val_loss: 0.2256\n",
      "Epoch 38/100\n",
      "1688/1688 [==============================] - 2s 900us/step - loss: 0.0585 - val_loss: 0.2415\n",
      "Epoch 39/100\n",
      "1688/1688 [==============================] - 1s 883us/step - loss: 0.0593 - val_loss: 0.2653\n",
      "Epoch 40/100\n",
      "1688/1688 [==============================] - 1s 876us/step - loss: 0.0591 - val_loss: 0.2672\n",
      "Epoch 41/100\n",
      "1688/1688 [==============================] - 1s 885us/step - loss: 0.0567 - val_loss: 0.2731\n",
      "Epoch 42/100\n",
      "1688/1688 [==============================] - 1s 872us/step - loss: 0.0588 - val_loss: 0.2582\n",
      "Epoch 43/100\n",
      "1688/1688 [==============================] - 1s 875us/step - loss: 0.0569 - val_loss: 0.2692\n",
      "Epoch 44/100\n",
      "1688/1688 [==============================] - 1s 880us/step - loss: 0.0570 - val_loss: 0.2881\n",
      "Epoch 45/100\n",
      "1688/1688 [==============================] - 2s 902us/step - loss: 0.0594 - val_loss: 0.3267\n",
      "Epoch 46/100\n",
      "1688/1688 [==============================] - 1s 868us/step - loss: 0.0562 - val_loss: 0.3025\n",
      "Epoch 47/100\n",
      "1688/1688 [==============================] - 2s 937us/step - loss: 0.0552 - val_loss: 0.2951\n",
      "Epoch 48/100\n",
      "1688/1688 [==============================] - 1s 885us/step - loss: 0.0549 - val_loss: 0.3291\n",
      "Epoch 49/100\n",
      "1688/1688 [==============================] - 1s 887us/step - loss: 0.0567 - val_loss: 0.3087\n",
      "Epoch 50/100\n",
      "1688/1688 [==============================] - 1s 868us/step - loss: 0.0575 - val_loss: 0.3316\n",
      "Epoch 51/100\n",
      "1688/1688 [==============================] - 1s 884us/step - loss: 0.0562 - val_loss: 0.3220\n",
      "Epoch 52/100\n",
      "1688/1688 [==============================] - 2s 918us/step - loss: 0.0556 - val_loss: 0.3718\n",
      "Epoch 53/100\n",
      "1688/1688 [==============================] - 1s 869us/step - loss: 0.0557 - val_loss: 0.3760\n",
      "Epoch 54/100\n",
      "1688/1688 [==============================] - 1s 867us/step - loss: 0.0552 - val_loss: 0.3460\n",
      "Epoch 55/100\n",
      "1688/1688 [==============================] - 1s 851us/step - loss: 0.0535 - val_loss: 0.3761\n",
      "Epoch 56/100\n",
      "1688/1688 [==============================] - 1s 856us/step - loss: 0.0546 - val_loss: 0.3851\n",
      "Epoch 57/100\n",
      "1688/1688 [==============================] - 1s 870us/step - loss: 0.0543 - val_loss: 0.3539\n",
      "Epoch 58/100\n",
      "1688/1688 [==============================] - 1s 867us/step - loss: 0.0573 - val_loss: 0.3966\n",
      "Epoch 59/100\n",
      "1688/1688 [==============================] - 1s 879us/step - loss: 0.0526 - val_loss: 0.3756\n",
      "Epoch 60/100\n",
      "1688/1688 [==============================] - 1s 855us/step - loss: 0.0522 - val_loss: 0.3752\n",
      "Epoch 61/100\n",
      "1688/1688 [==============================] - 1s 850us/step - loss: 0.0531 - val_loss: 0.4150\n",
      "Epoch 62/100\n",
      "1688/1688 [==============================] - 1s 845us/step - loss: 0.0515 - val_loss: 0.4320\n",
      "Epoch 63/100\n",
      "1688/1688 [==============================] - 1s 855us/step - loss: 0.0517 - val_loss: 0.4072\n",
      "Epoch 64/100\n",
      "1688/1688 [==============================] - 1s 854us/step - loss: 0.0538 - val_loss: 0.3859\n",
      "Epoch 65/100\n",
      "1688/1688 [==============================] - 1s 886us/step - loss: 0.0496 - val_loss: 0.3904\n",
      "Epoch 66/100\n",
      "1688/1688 [==============================] - 1s 853us/step - loss: 0.0535 - val_loss: 0.4606\n",
      "Epoch 67/100\n",
      "1688/1688 [==============================] - 1s 870us/step - loss: 0.0519 - val_loss: 0.4287\n",
      "Epoch 68/100\n",
      "1688/1688 [==============================] - 1s 850us/step - loss: 0.0488 - val_loss: 0.4114\n",
      "Epoch 69/100\n",
      "1688/1688 [==============================] - 1s 864us/step - loss: 0.0498 - val_loss: 0.4015\n",
      "Epoch 70/100\n",
      "1688/1688 [==============================] - 1s 858us/step - loss: 0.0502 - val_loss: 0.4685\n",
      "Epoch 71/100\n",
      "1688/1688 [==============================] - 1s 857us/step - loss: 0.0472 - val_loss: 0.4970\n",
      "Epoch 72/100\n",
      "1688/1688 [==============================] - 1s 867us/step - loss: 0.0498 - val_loss: 0.4734\n",
      "Epoch 73/100\n",
      "1688/1688 [==============================] - 1s 854us/step - loss: 0.0512 - val_loss: 0.4617\n",
      "Epoch 74/100\n",
      "1688/1688 [==============================] - 1s 850us/step - loss: 0.0480 - val_loss: 0.4369\n",
      "Epoch 75/100\n",
      "1688/1688 [==============================] - 1s 854us/step - loss: 0.0503 - val_loss: 0.5432\n",
      "Epoch 76/100\n",
      "1688/1688 [==============================] - 1s 856us/step - loss: 0.0535 - val_loss: 0.4794\n",
      "Epoch 77/100\n",
      "1688/1688 [==============================] - 1s 852us/step - loss: 0.0509 - val_loss: 0.5505\n",
      "Epoch 78/100\n",
      "1688/1688 [==============================] - 1s 857us/step - loss: 0.0490 - val_loss: 0.5245\n",
      "Epoch 79/100\n",
      "1688/1688 [==============================] - 1s 854us/step - loss: 0.0502 - val_loss: 0.5246\n",
      "Epoch 80/100\n",
      "1688/1688 [==============================] - 1s 854us/step - loss: 0.0475 - val_loss: 0.4930\n",
      "Epoch 81/100\n",
      "1688/1688 [==============================] - 1s 865us/step - loss: 0.0511 - val_loss: 0.5943\n",
      "Epoch 82/100\n",
      "1688/1688 [==============================] - 1s 873us/step - loss: 0.0508 - val_loss: 0.5657\n",
      "Epoch 83/100\n",
      "1688/1688 [==============================] - 1s 866us/step - loss: 0.0520 - val_loss: 0.5638\n",
      "Epoch 84/100\n",
      "1688/1688 [==============================] - 1s 857us/step - loss: 0.0466 - val_loss: 0.5490\n",
      "Epoch 85/100\n",
      "1688/1688 [==============================] - 1s 859us/step - loss: 0.0467 - val_loss: 0.5717\n",
      "Epoch 86/100\n",
      "1688/1688 [==============================] - 1s 854us/step - loss: 0.0490 - val_loss: 0.5467\n",
      "Epoch 87/100\n",
      "1688/1688 [==============================] - 1s 857us/step - loss: 0.0482 - val_loss: 0.6214\n",
      "Epoch 88/100\n",
      "1688/1688 [==============================] - 1s 853us/step - loss: 0.0494 - val_loss: 0.6073\n",
      "Epoch 89/100\n",
      "1688/1688 [==============================] - 1s 854us/step - loss: 0.0502 - val_loss: 0.5982\n",
      "Epoch 90/100\n",
      "1688/1688 [==============================] - 1s 854us/step - loss: 0.0475 - val_loss: 0.6100\n",
      "Epoch 91/100\n",
      "1688/1688 [==============================] - 1s 857us/step - loss: 0.0502 - val_loss: 0.5911\n",
      "Epoch 92/100\n",
      "1688/1688 [==============================] - 1s 856us/step - loss: 0.0476 - val_loss: 0.6635\n",
      "Epoch 93/100\n",
      "1688/1688 [==============================] - 1s 856us/step - loss: 0.0482 - val_loss: 0.6214\n",
      "Epoch 94/100\n",
      "1688/1688 [==============================] - 1s 856us/step - loss: 0.0475 - val_loss: 0.6614\n",
      "Epoch 95/100\n",
      "1688/1688 [==============================] - 1s 854us/step - loss: 0.0477 - val_loss: 0.6457\n",
      "Epoch 96/100\n",
      "1688/1688 [==============================] - 1s 853us/step - loss: 0.0505 - val_loss: 0.6249\n",
      "Epoch 97/100\n",
      "1688/1688 [==============================] - 1s 849us/step - loss: 0.0479 - val_loss: 0.6492\n",
      "Epoch 98/100\n",
      "1688/1688 [==============================] - 1s 846us/step - loss: 0.0499 - val_loss: 0.6412\n",
      "Epoch 99/100\n",
      "1688/1688 [==============================] - 1s 862us/step - loss: 0.0477 - val_loss: 0.6601\n",
      "Epoch 100/100\n",
      "1688/1688 [==============================] - 1s 848us/step - loss: 0.0472 - val_loss: 0.6183\n"
     ]
    }
   ],
   "source": [
    "historico = rede_simples.fit(X_train,\n",
    "                             y_train,\n",
    "                             epochs = 100,\n",
    "                             verbose = 1,\n",
    "                             validation_data = (X_val, y_val))"
   ]
  },
  {
   "cell_type": "markdown",
   "metadata": {},
   "source": [
    "O que está acontecendo acima?\n",
    "\n",
    "O treinamento de uma rede neural (e de todo modelo de machine learning, na verdade) consiste em um **problema de otimização**, em que queremos encontrar **o valor mínimo da função de perda**\n",
    "\n",
    "No nosso caso, a função de perda é a \"__categorical crossentropy__, cuja expressão matemática é:\n",
    "\n",
    "$$ L(y, \\hat{y}) = - \\sum_i{y_i \\log \\hat{y}_i}$$, \n",
    "\n",
    "onde $\\hat{y}$, a previsão do modelo, é uma expressão bem complicada, que relaciona todos os pesos e funções de ativação de toda a rede neural.\n",
    "\n",
    "Como mencionamos, as redes neurais utilizam o procedimento de **Backward Propagation** em seu treinamento (cujo objetivo é **determinar os pesos**):\n",
    "\n",
    "<img src=\"https://machinelearningknowledge.ai/wp-content/uploads/2019/10/Backpropagation.gif\" width=600>\n",
    "\n",
    "Matematicamente, o Backward Propagation é implementado através de algum **método de otimização**, com o fim de **determinar os pesos que minimizam a função de perda**. O principal método utilizado para este fim é o **gradiente descendente**:\n",
    "\n",
    "<img src=\"https://thumbs.gfycat.com/AngryInconsequentialDiplodocus-size_restricted.gif\" width=1000>\n",
    "\n",
    "Então, o que está acontecendo acima, é que **em cada epoch**, o Keras faz o Forward Propagation, avalia as predições, e depois segue com o Backward Propagation para atualizar os pesos. Este processo é realizado pelo número de vezes (epochs) que determinarmos!"
   ]
  },
  {
   "cell_type": "markdown",
   "metadata": {},
   "source": [
    "Após o __modelo treinado__, agora devemos **fazer predições** e **avaliar a performance**:"
   ]
  },
  {
   "cell_type": "code",
   "execution_count": 28,
   "metadata": {},
   "outputs": [
    {
     "name": "stdout",
     "output_type": "stream",
     "text": [
      "313/313 [==============================] - 0s 535us/step\n"
     ]
    },
    {
     "data": {
      "text/plain": [
       "array([7, 2, 1, ..., 4, 5, 6], dtype=int64)"
      ]
     },
     "execution_count": 28,
     "metadata": {},
     "output_type": "execute_result"
    }
   ],
   "source": [
    "y_pred = np.argmax(rede_simples.predict(X_test), \n",
    "                   axis = 1)\n",
    "y_pred"
   ]
  },
  {
   "cell_type": "code",
   "execution_count": 29,
   "metadata": {},
   "outputs": [
    {
     "data": {
      "text/plain": [
       "array([7, 2, 1, ..., 4, 5, 6], dtype=int64)"
      ]
     },
     "execution_count": 29,
     "metadata": {},
     "output_type": "execute_result"
    }
   ],
   "source": [
    "y_test = np.argmax(y_test, axis = 1)\n",
    "y_test"
   ]
  },
  {
   "cell_type": "code",
   "execution_count": 30,
   "metadata": {},
   "outputs": [
    {
     "name": "stdout",
     "output_type": "stream",
     "text": [
      "              precision    recall  f1-score   support\n",
      "\n",
      "           0       0.97      0.98      0.98       980\n",
      "           1       0.99      0.97      0.98      1135\n",
      "           2       0.97      0.94      0.96      1032\n",
      "           3       0.93      0.95      0.94      1010\n",
      "           4       0.98      0.95      0.96       982\n",
      "           5       0.96      0.95      0.95       892\n",
      "           6       0.97      0.97      0.97       958\n",
      "           7       0.94      0.96      0.95      1028\n",
      "           8       0.92      0.95      0.93       974\n",
      "           9       0.95      0.96      0.96      1009\n",
      "\n",
      "    accuracy                           0.96     10000\n",
      "   macro avg       0.96      0.96      0.96     10000\n",
      "weighted avg       0.96      0.96      0.96     10000\n",
      "\n"
     ]
    }
   ],
   "source": [
    "from sklearn.metrics import classification_report\n",
    "\n",
    "print(classification_report(y_test, y_pred))"
   ]
  },
  {
   "cell_type": "code",
   "execution_count": 31,
   "metadata": {},
   "outputs": [
    {
     "data": {
      "image/png": "[encoded data removed]",
      "text/plain": [
       "<Figure size 432x288 with 1 Axes>"
      ]
     },
     "metadata": {
      "needs_background": "light"
     },
     "output_type": "display_data"
    }
   ],
   "source": [
    "from mlxtend.plotting import plot_confusion_matrix\n",
    "from sklearn.metrics import confusion_matrix\n",
    "\n",
    "cm = confusion_matrix(y_test, y_pred)\n",
    "\n",
    "plot_confusion_matrix(conf_mat = cm)\n",
    "plt.show()"
   ]
  },
  {
   "cell_type": "markdown",
   "metadata": {},
   "source": [
    "O modelo teve uma performance muito boa, com uma acurácia de 96%, mas algumas coisas devem ser observadas a partir desse resultado como por exemplo a possibilidade de __Overfitting!__"
   ]
  },
  {
   "cell_type": "markdown",
   "metadata": {},
   "source": [
    "O **Overfitting** é algo que pode ser bastante comum em redes neurais se não for bem tratado, porque ele é um modelo altamente não linear. Relembrando, o overfitting está intimamente relacionado com o tradeoff viés-variância:\n",
    "\n",
    "<img src=\"https://www.learnopencv.com/wp-content/uploads/2017/02/Bias-Variance-Tradeoff-In-Machine-Learning-1.png\" width=600>\n",
    "\n",
    "Podemos visualizar esta característica em nosso modelo ao **plotar** o valor da **função de perda** a cada epoch:"
   ]
  },
  {
   "cell_type": "code",
   "execution_count": 32,
   "metadata": {},
   "outputs": [],
   "source": [
    "# loss e val_loss\n",
    "loss = historico.history['loss']\n",
    "val_loss = historico.history['val_loss']\n",
    "epochs = range(len(loss))"
   ]
  },
  {
   "cell_type": "code",
   "execution_count": 33,
   "metadata": {},
   "outputs": [
    {
     "data": {
      "image/png": "[encoded data removed]",
      "text/plain": [
       "<Figure size 864x432 with 1 Axes>"
      ]
     },
     "metadata": {
      "needs_background": "light"
     },
     "output_type": "display_data"
    }
   ],
   "source": [
    "plt.figure(figsize = (12, 6))\n",
    "plt.plot(epochs, loss, 'blue', label = 'Training Loss')\n",
    "plt.plot(epochs, val_loss, 'green', label = 'Validation Loss')\n",
    "plt.legend()\n",
    "plt.show()"
   ]
  },
  {
   "cell_type": "markdown",
   "metadata": {},
   "source": [
    "Pelo gráfico, é possível perceber que mais ou menos a partir da 15ª época a função de perda continuou decrescedo pro conjunto de treinamento, mas no conjunto de validação isso se manteve fixo por um tempo e depois começou a perder desempenho.\n",
    "\n",
    "A curva acima é muito parecida com o nosso exemplo do tradeoff vié-variância, não é mesmo?!\n",
    "\n",
    "Temos, portanto, um forte indício que está começando a ocorrer overfitting!\n",
    "\n",
    "Para evitarmos isso, pode ser interessante que o **treinamento seja interrompido antes do overfitting começar a ocorrer**! Esta técnica é conhecida como **early stopping**:\n",
    "<br><br>\n",
    "\n",
    "### Early Stopping\n",
    "\n",
    "Para interromper um treinamento, podemos usar o callback de ``EarlyStopping()``. Esse callback pode receber alguns parâmetros, como o que ele deve monitorar (``monitor``), a diferença mínima que deve ser considerada pra ser um avanço (``min_delta``) e a quantidade de épocas que devem se manter sem avanço até de fato interromper o treinamento (``patience``). No exemplo a seguir, estamos monitorando a função de perda do conjunto de validação, consideramos um avanço mínimo o valor de 0.001 e paciência de 10 épocas. \n",
    "\n",
    "Ou seja, **se a função de perda na validação não tiver uma redução de pelo menos 0.001 por 10 épocas**, o treinamento será interrompido."
   ]
  },
  {
   "cell_type": "code",
   "execution_count": 34,
   "metadata": {
    "scrolled": true
   },
   "outputs": [],
   "source": [
    "from tensorflow.keras.callbacks import EarlyStopping\n",
    "\n",
    "early_stop = EarlyStopping(monitor = 'val_loss',\n",
    "                           min_delta = \n",
    "                           0.001,\n",
    "                          patience = 10,\n",
    "                          verbose = 1,\n",
    "                          mode = 'auto')"
   ]
  },
  {
   "cell_type": "code",
   "execution_count": 35,
   "metadata": {},
   "outputs": [
    {
     "name": "stdout",
     "output_type": "stream",
     "text": [
      "Epoch 1/100\n",
      "1688/1688 [==============================] - 1s 871us/step - loss: 0.4224 - val_loss: 0.2426\n",
      "Epoch 2/100\n",
      "1688/1688 [==============================] - 1s 863us/step - loss: 0.1928 - val_loss: 0.1850\n",
      "Epoch 3/100\n",
      "1688/1688 [==============================] - 1s 866us/step - loss: 0.1576 - val_loss: 0.1663\n",
      "Epoch 4/100\n",
      "1688/1688 [==============================] - 1s 861us/step - loss: 0.1396 - val_loss: 0.1642\n",
      "Epoch 5/100\n",
      "1688/1688 [==============================] - 1s 865us/step - loss: 0.1254 - val_loss: 0.1645\n",
      "Epoch 6/100\n",
      "1688/1688 [==============================] - 1s 875us/step - loss: 0.1169 - val_loss: 0.1579\n",
      "Epoch 7/100\n",
      "1688/1688 [==============================] - 1s 870us/step - loss: 0.1092 - val_loss: 0.1658\n",
      "Epoch 8/100\n",
      "1688/1688 [==============================] - 1s 870us/step - loss: 0.1038 - val_loss: 0.1781\n",
      "Epoch 9/100\n",
      "1688/1688 [==============================] - 1s 863us/step - loss: 0.0994 - val_loss: 0.1609\n",
      "Epoch 10/100\n",
      "1688/1688 [==============================] - 1s 868us/step - loss: 0.0947 - val_loss: 0.1719\n",
      "Epoch 11/100\n",
      "1688/1688 [==============================] - 1s 866us/step - loss: 0.0913 - val_loss: 0.1721\n",
      "Epoch 12/100\n",
      "1688/1688 [==============================] - 1s 876us/step - loss: 0.0873 - val_loss: 0.1598\n",
      "Epoch 13/100\n",
      "1688/1688 [==============================] - 1s 866us/step - loss: 0.0849 - val_loss: 0.1786\n",
      "Epoch 14/100\n",
      "1688/1688 [==============================] - 1s 858us/step - loss: 0.0837 - val_loss: 0.1651\n",
      "Epoch 15/100\n",
      "1688/1688 [==============================] - 1s 868us/step - loss: 0.0784 - val_loss: 0.1746\n",
      "Epoch 16/100\n",
      "1688/1688 [==============================] - 1s 862us/step - loss: 0.0790 - val_loss: 0.1732\n",
      "Epoch 16: early stopping\n"
     ]
    }
   ],
   "source": [
    "# Retomando as valores de pesos iniciais igual ao primeiro treinamento\n",
    "rede_simples.set_weights(pesos_iniciais)\n",
    "\n",
    "historico = rede_simples.fit(X_train,\n",
    "                             y_train,\n",
    "                             epochs = 100,\n",
    "                             verbose = 1,\n",
    "                             validation_data = (X_val, y_val),\n",
    "                             callbacks = [early_stop])"
   ]
  },
  {
   "cell_type": "markdown",
   "metadata": {},
   "source": [
    "É possível perceber que o treinamento foi interrompido pouco depois da __epoch 15__, bem antes do total de epochs definido inicialmente. Vamos agora fazer predições e avaliar o modelo:"
   ]
  },
  {
   "cell_type": "code",
   "execution_count": 36,
   "metadata": {},
   "outputs": [],
   "source": [
    "# loss e val_loss\n",
    "loss = historico.history['loss']\n",
    "val_loss = historico.history['val_loss']\n",
    "epochs = range(len(loss))"
   ]
  },
  {
   "cell_type": "code",
   "execution_count": 37,
   "metadata": {
    "scrolled": false
   },
   "outputs": [
    {
     "data": {
      "image/png": "[encoded data removed]",
      "text/plain": [
       "<Figure size 864x432 with 1 Axes>"
      ]
     },
     "metadata": {
      "needs_background": "light"
     },
     "output_type": "display_data"
    }
   ],
   "source": [
    "plt.figure(figsize = (12, 6))\n",
    "plt.plot(epochs, loss, 'blue', label = 'Training Loss')\n",
    "plt.plot(epochs, val_loss, 'green', label = 'Validation Loss')\n",
    "plt.legend()\n",
    "plt.show()"
   ]
  },
  {
   "cell_type": "code",
   "execution_count": 38,
   "metadata": {},
   "outputs": [
    {
     "name": "stdout",
     "output_type": "stream",
     "text": [
      "313/313 [==============================] - 0s 548us/step\n"
     ]
    },
    {
     "data": {
      "text/plain": [
       "array([7, 2, 1, ..., 4, 5, 6], dtype=int64)"
      ]
     },
     "execution_count": 38,
     "metadata": {},
     "output_type": "execute_result"
    }
   ],
   "source": [
    "y_pred = np.argmax(rede_simples.predict(X_test), axis = 1)\n",
    "y_pred"
   ]
  },
  {
   "cell_type": "code",
   "execution_count": 39,
   "metadata": {},
   "outputs": [
    {
     "name": "stdout",
     "output_type": "stream",
     "text": [
      "              precision    recall  f1-score   support\n",
      "\n",
      "           0       0.97      0.98      0.98       980\n",
      "           1       0.98      0.99      0.99      1135\n",
      "           2       0.97      0.96      0.96      1032\n",
      "           3       0.96      0.96      0.96      1010\n",
      "           4       0.92      0.98      0.95       982\n",
      "           5       0.97      0.94      0.95       892\n",
      "           6       0.96      0.97      0.96       958\n",
      "           7       0.97      0.96      0.96      1028\n",
      "           8       0.96      0.94      0.95       974\n",
      "           9       0.97      0.92      0.94      1009\n",
      "\n",
      "    accuracy                           0.96     10000\n",
      "   macro avg       0.96      0.96      0.96     10000\n",
      "weighted avg       0.96      0.96      0.96     10000\n",
      "\n"
     ]
    }
   ],
   "source": [
    "from sklearn.metrics import classification_report\n",
    "\n",
    "print(classification_report(y_test, y_pred))"
   ]
  },
  {
   "cell_type": "code",
   "execution_count": 40,
   "metadata": {},
   "outputs": [
    {
     "data": {
      "image/png": "[encoded data removed]",
      "text/plain": [
       "<Figure size 432x288 with 1 Axes>"
      ]
     },
     "metadata": {
      "needs_background": "light"
     },
     "output_type": "display_data"
    }
   ],
   "source": [
    "from mlxtend.plotting import plot_confusion_matrix\n",
    "from sklearn.metrics import confusion_matrix\n",
    "\n",
    "cm = confusion_matrix(y_test, y_pred)\n",
    "\n",
    "plot_confusion_matrix(conf_mat = cm)\n",
    "plt.show()"
   ]
  },
  {
   "cell_type": "markdown",
   "metadata": {},
   "source": [
    "Agora garantindo que não houvesse o deslocamento entre o __treino__ e a __validação__ obtemos uma resultado muito bom para o nosso modeolo, e isso é um forte indicativo de que o Early Stopping ajudou a evitar o Overfitting."
   ]
  },
  {
   "cell_type": "markdown",
   "metadata": {},
   "source": [
    "Vimos acima uma forma de evitar o Overfitting em Redes Neurais, mas esta definitivamente não é a única maneira! Existem inúmeras técnicas para mitigar este problema, entre elas a aplicação de **técnicas de regularização** (leia sobre isso [aqui](https://towardsdatascience.com/how-to-improve-a-neural-network-with-regularization-8a18ecda9fe3) e [aqui](https://towardsdatascience.com/regularization-techniques-and-their-implementation-in-tensorflow-keras-c06e7551e709))), cuja implementação existe no Keras! (mais informações [aqui](https://keras.io/api/layers/regularization_layers/) e [aqui](https://keras.io/api/layers/regularizers/)))"
   ]
  },
  {
   "cell_type": "markdown",
   "metadata": {},
   "source": [
    "##   "
   ]
  },
  {
   "cell_type": "markdown",
   "metadata": {},
   "source": [
    "## Exercício"
   ]
  },
  {
   "cell_type": "markdown",
   "metadata": {},
   "source": [
    "__1)__ Refaça o exercício exemplo da aula para fixar conceitos!"
   ]
  },
  {
   "cell_type": "markdown",
   "metadata": {},
   "source": [
    "__2)__ Preencha os códigos nos __locais indicados!!!__\n",
    "\n",
    "O exercicio será montar uma Rede Neural de uma importante base de dados, muito conhecida também, chamada de __Fashion MNIST__, onde queremos classificar roupas em algumas categorias. Está base de dados contém 70,000 imagens em tons de cinza em 10 categorias. As imagens mostram artigos individuais de roupas com baixa resolução (28 por 28 pixels), como vemos aqui:\n",
    "\n",
    "<img src=\"https://tensorflow.org/images/fashion-mnist-sprite.png\" width=\"600\">"
   ]
  },
  {
   "cell_type": "code",
   "execution_count": 41,
   "metadata": {},
   "outputs": [],
   "source": [
    "# TensorFlow e tf.keras\n",
    "import tensorflow\n",
    "import keras\n",
    "\n",
    "# Bibliotecas Auxiliares\n",
    "import pandas as pd\n",
    "import numpy as np\n",
    "import matplotlib.pyplot as plt"
   ]
  },
  {
   "cell_type": "code",
   "execution_count": 42,
   "metadata": {},
   "outputs": [
    {
     "name": "stdout",
     "output_type": "stream",
     "text": [
      "Downloading data from https://storage.googleapis.com/tensorflow/tf-keras-datasets/train-labels-idx1-ubyte.gz\n",
      "29515/29515 [==============================] - 0s 0us/step\n",
      "Downloading data from https://storage.googleapis.com/tensorflow/tf-keras-datasets/train-images-idx3-ubyte.gz\n",
      "26421880/26421880 [==============================] - 2s 0us/step\n",
      "Downloading data from https://storage.googleapis.com/tensorflow/tf-keras-datasets/t10k-labels-idx1-ubyte.gz\n",
      "5148/5148 [==============================] - 0s 0s/step\n",
      "Downloading data from https://storage.googleapis.com/tensorflow/tf-keras-datasets/t10k-images-idx3-ubyte.gz\n",
      "4422102/4422102 [==============================] - 0s 0us/step\n"
     ]
    }
   ],
   "source": [
    "#Baixando a nossa base de dados\n",
    "\n",
    "fashion_mnist = keras.datasets.fashion_mnist\n",
    "\n",
    "(train_images, train_labels), (test_images, test_labels) = fashion_mnist.load_data()"
   ]
  },
  {
   "cell_type": "markdown",
   "metadata": {},
   "source": [
    "Carregamos 4 arrays NumPy divididos em treino e teste, e além disso as imagens são arrays NumPy de 28x28, com os valores de pixels entre 0 to 255. As labels (alvo da classificação) são um array de inteiros, no intervalo de 0 a 9. Esse corresponde com a classe de roupa que cada imagem representa:\n",
    "\n",
    "<table>\n",
    "  <tr>\n",
    "    <th>Label</th>\n",
    "    <th>Classe</th>\n",
    "  </tr>\n",
    "  <tr>\n",
    "    <td>0</td>\n",
    "    <td>Camisetas/Top (T-shirt/top)</td>\n",
    "  </tr>\n",
    "  <tr>\n",
    "    <td>1</td>\n",
    "    <td>Calça (Trouser)</td>\n",
    "  </tr>\n",
    "    <tr>\n",
    "    <td>2</td>\n",
    "    <td>Suéter (Pullover)</td>\n",
    "  </tr>\n",
    "    <tr>\n",
    "    <td>3</td>\n",
    "    <td>Vestidos (Dress)</td>\n",
    "  </tr>\n",
    "    <tr>\n",
    "    <td>4</td>\n",
    "    <td>Casaco (Coat)</td>\n",
    "  </tr>\n",
    "    <tr>\n",
    "    <td>5</td>\n",
    "    <td>Sandálias (Sandal)</td>\n",
    "  </tr>\n",
    "    <tr>\n",
    "    <td>6</td>\n",
    "    <td>Camisas (Shirt)</td>\n",
    "  </tr>\n",
    "    <tr>\n",
    "    <td>7</td>\n",
    "    <td>Tênis (Sneaker)</td>\n",
    "  </tr>\n",
    "    <tr>\n",
    "    <td>8</td>\n",
    "    <td>Bolsa (Bag)</td>\n",
    "  </tr>\n",
    "    <tr>\n",
    "    <td>9</td>\n",
    "    <td>Botas (Ankle boot)</td>\n",
    "  </tr>\n",
    "</table>\n"
   ]
  },
  {
   "cell_type": "code",
   "execution_count": 43,
   "metadata": {},
   "outputs": [],
   "source": [
    "class_names = ['T-shirt/top', \n",
    "               'Trouser', \n",
    "               'Pullover', \n",
    "               'Dress', \n",
    "               'Coat',\n",
    "               'Sandal', \n",
    "               'Shirt', \n",
    "               'Sneaker', \n",
    "               'Bag', \n",
    "               'Ankle boot']"
   ]
  },
  {
   "cell_type": "code",
   "execution_count": 44,
   "metadata": {},
   "outputs": [
    {
     "data": {
      "text/plain": [
       "(60000, 28, 28)"
      ]
     },
     "execution_count": 44,
     "metadata": {},
     "output_type": "execute_result"
    }
   ],
   "source": [
    "train_images.shape"
   ]
  },
  {
   "cell_type": "code",
   "execution_count": 45,
   "metadata": {},
   "outputs": [
    {
     "data": {
      "text/plain": [
       "60000"
      ]
     },
     "execution_count": 45,
     "metadata": {},
     "output_type": "execute_result"
    }
   ],
   "source": [
    "len(train_labels)"
   ]
  },
  {
   "cell_type": "code",
   "execution_count": 46,
   "metadata": {},
   "outputs": [
    {
     "data": {
      "text/plain": [
       "array([9, 0, 0, ..., 3, 0, 5], dtype=uint8)"
      ]
     },
     "execution_count": 46,
     "metadata": {},
     "output_type": "execute_result"
    }
   ],
   "source": [
    "train_labels"
   ]
  },
  {
   "cell_type": "code",
   "execution_count": 47,
   "metadata": {},
   "outputs": [
    {
     "data": {
      "text/plain": [
       "(10000, 28, 28)"
      ]
     },
     "execution_count": 47,
     "metadata": {},
     "output_type": "execute_result"
    }
   ],
   "source": [
    "test_images.shape"
   ]
  },
  {
   "cell_type": "code",
   "execution_count": 48,
   "metadata": {},
   "outputs": [
    {
     "data": {
      "text/plain": [
       "10000"
      ]
     },
     "execution_count": 48,
     "metadata": {},
     "output_type": "execute_result"
    }
   ],
   "source": [
    "len(test_labels)"
   ]
  },
  {
   "cell_type": "markdown",
   "metadata": {},
   "source": [
    "## Pré-Processamento dos Dados"
   ]
  },
  {
   "cell_type": "code",
   "execution_count": 49,
   "metadata": {},
   "outputs": [
    {
     "data": {
      "image/png": "[encoded data removed]",
      "text/plain": [
       "<Figure size 432x288 with 2 Axes>"
      ]
     },
     "metadata": {
      "needs_background": "light"
     },
     "output_type": "display_data"
    }
   ],
   "source": [
    "plt.figure()\n",
    "plt.imshow(train_images[0])\n",
    "plt.colorbar()\n",
    "plt.grid(False)\n",
    "plt.show()"
   ]
  },
  {
   "cell_type": "code",
   "execution_count": 50,
   "metadata": {},
   "outputs": [],
   "source": [
    "# Reshape\n",
    "\n",
    "#Faça o reshape da train_images dividindo por 255. e salvando na mesma variavel\n",
    "### COLOQUE SEU CODIGO AQUI ###\n",
    "train_images = train_images/255.0\n",
    "\n",
    "#Faça o reshape da test_images dividindo por 255. e salvando na mesma variavel\n",
    "### COLOQUE SEU CODIGO AQUI ###\n",
    "test_images = test_images/255.0"
   ]
  },
  {
   "cell_type": "code",
   "execution_count": 51,
   "metadata": {},
   "outputs": [
    {
     "data": {
      "image/png": "[encoded data removed]",
      "text/plain": [
       "<Figure size 720x720 with 25 Axes>"
      ]
     },
     "metadata": {},
     "output_type": "display_data"
    }
   ],
   "source": [
    "# alguns plots da base de teste\n",
    "\n",
    "plt.figure(figsize=(10,10))\n",
    "for i in range(25):\n",
    "    plt.subplot(5,5,i+1)\n",
    "    plt.xticks([])\n",
    "    plt.yticks([])\n",
    "    plt.grid(False)\n",
    "    plt.imshow(train_images[i], cmap=plt.cm.binary)\n",
    "    plt.xlabel(class_names[train_labels[i]])\n",
    "plt.show()"
   ]
  },
  {
   "cell_type": "code",
   "execution_count": 52,
   "metadata": {},
   "outputs": [],
   "source": [
    "# Uma outra forma de criarmos a Rede Neural camada a camada é da seguinte forma:\n",
    "\n",
    "model = keras.Sequential([\n",
    "        keras.layers.Flatten(input_shape=(28, 28)),\n",
    "        keras.layers.Dense(128, activation='relu'),\n",
    "        keras.layers.Dense(10, activation='softmax')\n",
    "])"
   ]
  },
  {
   "cell_type": "code",
   "execution_count": 53,
   "metadata": {},
   "outputs": [
    {
     "name": "stdout",
     "output_type": "stream",
     "text": [
      "Model: \"sequential_1\"\n",
      "_________________________________________________________________\n",
      " Layer (type)                Output Shape              Param #   \n",
      "=================================================================\n",
      " flatten (Flatten)           (None, 784)               0         \n",
      "                                                                 \n",
      " dense_4 (Dense)             (None, 128)               100480    \n",
      "                                                                 \n",
      " dense_5 (Dense)             (None, 10)                1290      \n",
      "                                                                 \n",
      "=================================================================\n",
      "Total params: 101,770\n",
      "Trainable params: 101,770\n",
      "Non-trainable params: 0\n",
      "_________________________________________________________________\n"
     ]
    }
   ],
   "source": [
    "# Crie um compile() com os seguintes parametros:\n",
    "# optimizer = 'adam'\n",
    "# loss = 'sparse_categorical_crossentropy'\n",
    "# metrics=['accuracy']\n",
    "\n",
    "### COLOQUE SEU CODIGO AQUI ###\n",
    "model.compile(optimizer = 'adam',\n",
    "              loss = 'sparse_categorical_crossentropy',\n",
    "              metrics = ['accuracy'])\n",
    "\n",
    "# Crie o summary() para o modelo\n",
    "### COLOQUE SEU CODIGO AQUI ###\n",
    "model.summary()"
   ]
  },
  {
   "cell_type": "code",
   "execution_count": 54,
   "metadata": {},
   "outputs": [
    {
     "name": "stdout",
     "output_type": "stream",
     "text": [
      "Epoch 1/10\n",
      "1875/1875 [==============================] - 2s 949us/step - loss: 0.5044 - accuracy: 0.8233\n",
      "Epoch 2/10\n",
      "1875/1875 [==============================] - 2s 953us/step - loss: 0.3796 - accuracy: 0.8631\n",
      "Epoch 3/10\n",
      "1875/1875 [==============================] - 2s 956us/step - loss: 0.3400 - accuracy: 0.8756\n",
      "Epoch 4/10\n",
      "1875/1875 [==============================] - 2s 945us/step - loss: 0.3151 - accuracy: 0.8848\n",
      "Epoch 5/10\n",
      "1875/1875 [==============================] - 2s 964us/step - loss: 0.2962 - accuracy: 0.8916\n",
      "Epoch 6/10\n",
      "1875/1875 [==============================] - 2s 958us/step - loss: 0.2827 - accuracy: 0.8958\n",
      "Epoch 7/10\n",
      "1875/1875 [==============================] - 2s 956us/step - loss: 0.2685 - accuracy: 0.9000\n",
      "Epoch 8/10\n",
      "1875/1875 [==============================] - 2s 961us/step - loss: 0.2582 - accuracy: 0.9050\n",
      "Epoch 9/10\n",
      "1875/1875 [==============================] - 2s 954us/step - loss: 0.2489 - accuracy: 0.9075\n",
      "Epoch 10/10\n",
      "1875/1875 [==============================] - 2s 950us/step - loss: 0.2391 - accuracy: 0.9104\n"
     ]
    },
    {
     "data": {
      "text/plain": [
       "<keras.callbacks.History at 0x2a6f09475e0>"
      ]
     },
     "execution_count": 54,
     "metadata": {},
     "output_type": "execute_result"
    }
   ],
   "source": [
    "# Faça o fit do modelo passando train_images, train_labels e epochs = 10\n",
    "### COLOQUE SEU CODIGO AQUI ###\n",
    "model.fit(train_images, train_labels, epochs = 10)"
   ]
  },
  {
   "cell_type": "code",
   "execution_count": 55,
   "metadata": {},
   "outputs": [
    {
     "name": "stdout",
     "output_type": "stream",
     "text": [
      "313/313 - 0s - loss: 0.3382 - accuracy: 0.8843 - 290ms/epoch - 927us/step\n",
      "\n",
      "Test accuracy: 0.8842999935150146\n"
     ]
    }
   ],
   "source": [
    "# Avaliando a acurácia no teste\n",
    "\n",
    "test_loss, test_acc = model.evaluate(test_images,  test_labels, verbose=2)\n",
    "\n",
    "print('\\nTest accuracy:', test_acc)"
   ]
  },
  {
   "cell_type": "code",
   "execution_count": 57,
   "metadata": {},
   "outputs": [
    {
     "name": "stdout",
     "output_type": "stream",
     "text": [
      "313/313 [==============================] - 0s 619us/step\n"
     ]
    },
    {
     "data": {
      "text/plain": [
       "array([9, 2, 1, ..., 8, 1, 5], dtype=int64)"
      ]
     },
     "execution_count": 57,
     "metadata": {},
     "output_type": "execute_result"
    }
   ],
   "source": [
    "pred_labels = np.argmax(model.predict(test_images), axis = 1)\n",
    "pred_labels"
   ]
  },
  {
   "cell_type": "code",
   "execution_count": 58,
   "metadata": {},
   "outputs": [
    {
     "name": "stdout",
     "output_type": "stream",
     "text": [
      "              precision    recall  f1-score   support\n",
      "\n",
      "           0       0.86      0.83      0.85      1040\n",
      "           1       0.98      0.97      0.97      1017\n",
      "           2       0.78      0.82      0.80       956\n",
      "           3       0.84      0.93      0.88       901\n",
      "           4       0.86      0.76      0.81      1133\n",
      "           5       0.95      0.98      0.97       976\n",
      "           6       0.68      0.73      0.70       939\n",
      "           7       0.98      0.91      0.94      1084\n",
      "           8       0.97      0.97      0.97      1004\n",
      "           9       0.93      0.98      0.95       950\n",
      "\n",
      "    accuracy                           0.88     10000\n",
      "   macro avg       0.88      0.89      0.88     10000\n",
      "weighted avg       0.89      0.88      0.88     10000\n",
      "\n"
     ]
    }
   ],
   "source": [
    "from mlxtend.plotting import plot_confusion_matrix\n",
    "from sklearn.metrics import classification_report, confusion_matrix\n",
    "\n",
    "# Faça o print do classification_report para pred_labels e test_labels\n",
    "### COLOQUE SEU CODIGO AQUI ###\n",
    "print(classification_report(pred_labels, test_labels))"
   ]
  },
  {
   "cell_type": "code",
   "execution_count": 59,
   "metadata": {
    "scrolled": true
   },
   "outputs": [
    {
     "name": "stdout",
     "output_type": "stream",
     "text": [
      "Matriz de confusão do modelo nos dados de teste:\n",
      "\n"
     ]
    },
    {
     "data": {
      "image/png": "[encoded data removed]",
      "text/plain": [
       "<Figure size 432x288 with 1 Axes>"
      ]
     },
     "metadata": {
      "needs_background": "light"
     },
     "output_type": "display_data"
    }
   ],
   "source": [
    "# Crie a matriz de confusão para o pred_labels e test_labels\n",
    "### COLOQUE SEU CODIGO AQUI ###\n",
    "cm = confusion_matrix(pred_labels, test_labels)\n",
    "\n",
    "print(\"Matriz de confusão do modelo nos dados de teste:\\n\")\n",
    "plot_confusion_matrix(conf_mat=cm)\n",
    "plt.show()"
   ]
  },
  {
   "cell_type": "code",
   "execution_count": 60,
   "metadata": {},
   "outputs": [
    {
     "name": "stdout",
     "output_type": "stream",
     "text": [
      "313/313 [==============================] - 0s 637us/step\n"
     ]
    }
   ],
   "source": [
    "# Trazendo a probabilidade de cada classe\n",
    "predictions = model.predict(test_images)"
   ]
  },
  {
   "cell_type": "code",
   "execution_count": 61,
   "metadata": {},
   "outputs": [],
   "source": [
    "# Função para plotar as imagens\n",
    "\n",
    "def plot_image(i, predictions_array, true_label, img):\n",
    "  predictions_array, true_label, img = predictions_array[i], true_label[i], img[i]\n",
    "  plt.grid(False)\n",
    "  plt.xticks([])\n",
    "  plt.yticks([])\n",
    "\n",
    "  plt.imshow(img, cmap=plt.cm.binary)\n",
    "\n",
    "  predicted_label = np.argmax(predictions_array)\n",
    "  if predicted_label == true_label:\n",
    "    color = 'blue'\n",
    "  else:\n",
    "    color = 'red'\n",
    "\n",
    "  plt.xlabel(\"{} {:2.0f}% ({})\".format(class_names[predicted_label],\n",
    "                                100*np.max(predictions_array),\n",
    "                                class_names[true_label]),\n",
    "                                color=color)\n",
    "\n",
    "# Cria o gráfico com as probabilidades\n",
    "\n",
    "def plot_value_array(i, predictions_array, true_label):\n",
    "  predictions_array, true_label = predictions_array[i], true_label[i]\n",
    "  plt.grid(False)\n",
    "  plt.xticks([])\n",
    "  plt.yticks([])\n",
    "  thisplot = plt.bar(range(10), predictions_array, color=\"#777777\")\n",
    "  plt.ylim([0, 1])\n",
    "  predicted_label = np.argmax(predictions_array)\n",
    "\n",
    "  thisplot[predicted_label].set_color('red')\n",
    "  thisplot[true_label].set_color('blue')"
   ]
  },
  {
   "cell_type": "code",
   "execution_count": 62,
   "metadata": {},
   "outputs": [
    {
     "data": {
      "image/png": "[encoded data removed]",
      "text/plain": [
       "<Figure size 432x216 with 2 Axes>"
      ]
     },
     "metadata": {},
     "output_type": "display_data"
    }
   ],
   "source": [
    "# Teste com o id = 1\n",
    "\n",
    "i = 0\n",
    "plt.figure(figsize=(6,3))\n",
    "plt.subplot(1,2,1)\n",
    "plot_image(i, predictions, test_labels, test_images)\n",
    "plt.subplot(1,2,2)\n",
    "plot_value_array(i, predictions,  test_labels)\n",
    "plt.show()"
   ]
  },
  {
   "cell_type": "code",
   "execution_count": 63,
   "metadata": {},
   "outputs": [
    {
     "data": {
      "image/png": "[encoded data removed]",
      "text/plain": [
       "<Figure size 864x720 with 30 Axes>"
      ]
     },
     "metadata": {},
     "output_type": "display_data"
    }
   ],
   "source": [
    "# Plota o primeiro X test images, e as labels preditas, e as labels verdadeiras.\n",
    "# Colore as predições corretas de azul e as incorretas de vermelho.\n",
    "\n",
    "num_rows = 5\n",
    "num_cols = 3\n",
    "num_images = num_rows*num_cols\n",
    "plt.figure(figsize=(2*2*num_cols, 2*num_rows))\n",
    "for i in range(num_images):\n",
    "  plt.subplot(num_rows, 2*num_cols, 2*i+1)\n",
    "  plot_image(i, predictions, test_labels, test_images)\n",
    "  plt.subplot(num_rows, 2*num_cols, 2*i+2)\n",
    "  plot_value_array(i, predictions, test_labels)\n",
    "plt.show()"
   ]
  }
 ],
 "metadata": {
  "kernelspec": {
   "display_name": "Python 3 (ipykernel)",
   "language": "python",
   "name": "python3"
  },
  "language_info": {
   "codemirror_mode": {
    "name": "ipython",
    "version": 3
   },
   "file_extension": ".py",
   "mimetype": "text/x-python",
   "name": "python",
   "nbconvert_exporter": "python",
   "pygments_lexer": "ipython3",
   "version": "3.9.12"
  }
 },
 "nbformat": 4,
 "nbformat_minor": 2
}
