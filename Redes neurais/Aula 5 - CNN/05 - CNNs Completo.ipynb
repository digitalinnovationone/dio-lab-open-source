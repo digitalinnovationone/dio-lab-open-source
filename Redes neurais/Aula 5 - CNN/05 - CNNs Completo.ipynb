{
 "cells": [
  {
   "cell_type": "markdown",
   "metadata": {
    "id": "2M8VL0U44dUR"
   },
   "source": [
    "# Aula 05 - CNNs\n",
    "\n",
    "Na aula de hoje, vamos explorar os seguintes tópicos em Python:\n",
    "\n",
    "- Redes Neurais Convolucionais (CNN);\n",
    "- Convoluções;\n",
    "- _Pooling_;\n",
    "- Exercícios."
   ]
  },
  {
   "cell_type": "markdown",
   "metadata": {
    "id": "Xv75LoD94dUW"
   },
   "source": [
    "##   "
   ]
  },
  {
   "cell_type": "markdown",
   "metadata": {
    "id": "Dl9JD82A4dUj"
   },
   "source": [
    "# Redes Neurais Convolucionais (CNN)\n",
    "\n",
    "As Redes Neurais Convolucionais são um ti´po de arquitetura específica para a análise de __imagens__, sendo um braço forte para modelos de __visão computacional__. As principais diferenças entre uma rede neural tradicional e uma CNN são dois tipos de camadas: as __convoluções__ e a __subamostragem (pooling)__.\n",
    "\n",
    "<img src=\"https://miro.medium.com/max/3288/1*uAeANQIOQPqWZnnuH-VEyw.jpeg\" width=600>\n",
    "\n",
    "\n",
    "## Convoluções\n",
    "\n",
    "As convoluções têm como objetivo destacar elementos nas imagens que forem relevantes utilizando da aplicação de filtros. A forma como o filtro funciona seria como uma transformação matemática entre matrizes:\n",
    "\n",
    "<img src=\"https://miro.medium.com/max/658/0*jLoqqFsO-52KHTn9.gif\" width=500>\n",
    "\n",
    "Com esses filtros, consegue-se criar os chamados __features maps__ ou mapas de atributo, que seria novas imagens destaques em determinados pontos da imagem de acordo com os filtros a serem aplicados:\n",
    "\n",
    "<img src=\"https://miro.medium.com/max/875/1*ixuhX9vaf1kUQTWicVYiyg.png\" width=900>\n",
    "\n",
    "## Pooling\n",
    "\n",
    "A camada de _Pooling_ ou também chamada de Subamostragem, ajuda a selecionar os principais elementos de uma imagem garantindo que seja representativo da imagem de origem. Então determinada uma janela de aplicação da subamostragem, o modelo percorre toda imagem aplicando algum tipo de agregação, como por exemplo média, máximo ou mesmo soma:\n",
    "\n",
    "<img src=\"https://miro.medium.com/max/2340/1*Fw-ehcNBR9byHtho-Rxbtw.gif\" width=600>\n",
    "\n",
    "<img src=\"https://www.bouvet.no/bouvet-deler/understanding-convolutional-neural-networks-part-1/_/attachment/inline/e60e56a6-8bcd-4b61-880d-7c621e2cb1d5:6595a68471ed37621734130ca2cb7997a1502a2b/Pooling.gif\" width=600>\n",
    "\n",
    "A Aplicação do _Pooling_ auxilia na rede no sentido de manter determinados pontos relevantes da imagem, mas auxilia ao mesmo tempo a generalizar para as demais imagens.\n",
    "\n",
    "<img src = \"https://www.bouvet.no/bouvet-deler/understanding-convolutional-neural-networks-part-2/_/attachment/inline/607c9f97-d102-4025-9d6d-4149831f1bc2:7486b2c8566539842998faeec3cd28d2d0aa5360/Screenshot%202019-07-01%20at%2019.43.59.png\" width=800>\n",
    "\n",
    "\n",
    "Notem que fazer esses processos envolvem sempre redução do tamanho ou da qualidade da imagem, mas podemos evitar esse tipo de efeito utilizando de duas técnicas auxiliares que são o __zero-padding__ e o __stride__\n",
    "\n",
    "<br><br>\n",
    "\n",
    "- _Zero-Padding_: Consiste em adicionar uma camada de zeros ao redor da imagem com o intuito de preservar o tamanho da imagem antes da convoluções ou subamostragem e sem acrescentar viés a transformação:\n",
    "\n",
    "<img src = \"https://deeplizard.com/assets/jpg/2b25a0c1.jpg\" width=800>\n",
    "\n",
    "- _Stride_: Consiste em determinar \"saltos\" durante a aplicação das janelas de filtros, sendo esses saltos tanto na vertical quanto na horizontal:\n",
    "\n",
    "<img src = \"https://miro.medium.com/max/1400/1*4wZt9G7W7CchZO-5rVxl5g@2x.gif\" width=600>"
   ]
  },
  {
   "cell_type": "markdown",
   "metadata": {},
   "source": [
    "## "
   ]
  },
  {
   "cell_type": "markdown",
   "metadata": {
    "id": "-5cIXFIX4dUj"
   },
   "source": [
    "##  Exemplo - Fashion MNIST\n",
    "\n",
    "Vamos revisitar o exercício do MNIST utilizando agora de uma CNN para avaliar as imagens:"
   ]
  },
  {
   "cell_type": "code",
   "execution_count": 1,
   "metadata": {
    "id": "1gl9tGW94dUY"
   },
   "outputs": [],
   "source": [
    "# TensorFlow e tf.keras\n",
    "import tensorflow\n",
    "import keras\n",
    "\n",
    "# Bibliotecas Auxiliares\n",
    "import pandas as pd\n",
    "import numpy as np\n",
    "import matplotlib.pyplot as plt"
   ]
  },
  {
   "cell_type": "code",
   "execution_count": 2,
   "metadata": {
    "id": "hD43Ov8d4dUZ"
   },
   "outputs": [],
   "source": [
    "#Baixando a nossa base de dados\n",
    "\n",
    "fashion_mnist = keras.datasets.fashion_mnist\n",
    "\n",
    "(train_images, train_labels), (test_images, test_labels) = fashion_mnist.load_data()"
   ]
  },
  {
   "cell_type": "code",
   "execution_count": 3,
   "metadata": {
    "id": "KEc4ZnuO4dUb"
   },
   "outputs": [],
   "source": [
    "class_names = ['T-shirt/top', \n",
    "               'Trouser', \n",
    "               'Pullover', \n",
    "               'Dress', \n",
    "               'Coat',\n",
    "               'Sandal', \n",
    "               'Shirt', \n",
    "               'Sneaker', \n",
    "               'Bag', \n",
    "               'Ankle boot']"
   ]
  },
  {
   "cell_type": "code",
   "execution_count": 4,
   "metadata": {},
   "outputs": [
    {
     "name": "stdout",
     "output_type": "stream",
     "text": [
      "(60000, 28, 28) (10000, 28, 28)\n"
     ]
    }
   ],
   "source": [
    "# Olhando os shapes\n",
    "print(train_images.shape, test_images.shape)"
   ]
  },
  {
   "cell_type": "code",
   "execution_count": 5,
   "metadata": {},
   "outputs": [
    {
     "data": {
      "text/plain": [
       "array([9, 0, 0, ..., 3, 0, 5], dtype=uint8)"
      ]
     },
     "execution_count": 5,
     "metadata": {},
     "output_type": "execute_result"
    }
   ],
   "source": [
    "# Olhando a target\n",
    "train_labels"
   ]
  },
  {
   "cell_type": "markdown",
   "metadata": {
    "id": "H-TFxwhj4dUe"
   },
   "source": [
    "## Pré-Processamento dos Dados"
   ]
  },
  {
   "cell_type": "code",
   "execution_count": 6,
   "metadata": {
    "id": "FUFt4sfj4dUe"
   },
   "outputs": [],
   "source": [
    "# Reshape\n",
    "\n",
    "#Faça o reshape da train_images dividindo por 255. e salvando na mesma variavel\n",
    "train_images = train_images / 255.0\n",
    "\n",
    "#Faça o reshape da test_images dividindo por 255. e salvando na mesma variavel\n",
    "test_images = test_images/255.0"
   ]
  },
  {
   "cell_type": "code",
   "execution_count": 7,
   "metadata": {
    "id": "QzJP9QqM4dUk"
   },
   "outputs": [],
   "source": [
    "# Montar uma CNN\n",
    "# 1 camada de convolução com 32 filtros e filtros com 3x3, ativação relu\n",
    "# 1 camada MaxPooling com janela de 2x2\n",
    "# Camada Flatten\n",
    "# 1 camada dense com 100 neuronios e ativação relu\n",
    "# camada de saída com 10 neurônios e ativação softmax\n",
    "\n",
    "\n",
    "# Montar as camadas\n",
    "cnn = keras.Sequential([\n",
    "      keras.layers.Conv2D(32,                         # numero de filtros\n",
    "                          (3,3),                      # dimensão do filtro\n",
    "                          activation = 'relu',        # função de ativação\n",
    "                          input_shape = (28, 28, 1)), # tamanho da entrada\n",
    "      keras.layers.MaxPooling2D((2, 2)), # tamanho da janela\n",
    "      keras.layers.Flatten(),            # Vetoriza as matrizes\n",
    "      # Parte MLP\n",
    "      keras.layers.Dense(100, activation = 'relu'),\n",
    "      keras.layers.Dense(10, activation = 'softmax')\n",
    "])"
   ]
  },
  {
   "cell_type": "code",
   "execution_count": 8,
   "metadata": {
    "id": "CcS9fB7t4dUk",
    "outputId": "63969731-b666-41ae-d433-25a3aa31fdda"
   },
   "outputs": [
    {
     "name": "stdout",
     "output_type": "stream",
     "text": [
      "Model: \"sequential\"\n",
      "_________________________________________________________________\n",
      " Layer (type)                Output Shape              Param #   \n",
      "=================================================================\n",
      " conv2d (Conv2D)             (None, 26, 26, 32)        320       \n",
      "                                                                 \n",
      " max_pooling2d (MaxPooling2D  (None, 13, 13, 32)       0         \n",
      " )                                                               \n",
      "                                                                 \n",
      " flatten (Flatten)           (None, 5408)              0         \n",
      "                                                                 \n",
      " dense (Dense)               (None, 100)               540900    \n",
      "                                                                 \n",
      " dense_1 (Dense)             (None, 10)                1010      \n",
      "                                                                 \n",
      "=================================================================\n",
      "Total params: 542,230\n",
      "Trainable params: 542,230\n",
      "Non-trainable params: 0\n",
      "_________________________________________________________________\n"
     ]
    }
   ],
   "source": [
    "# Crie um compile() com os seguintes parametros:\n",
    "cnn.compile(optimizer = 'adam',\n",
    "            loss = 'sparse_categorical_crossentropy',\n",
    "            metrics = ['accuracy'])\n",
    "\n",
    "# Crie o summary() para o modelo\n",
    "cnn.summary()"
   ]
  },
  {
   "cell_type": "code",
   "execution_count": 9,
   "metadata": {
    "id": "oLltCCC94dUk",
    "outputId": "667fd296-da1c-49dd-bcff-eb86fe17f760"
   },
   "outputs": [
    {
     "name": "stdout",
     "output_type": "stream",
     "text": [
      "Epoch 1/5\n",
      "1875/1875 [==============================] - 14s 7ms/step - loss: 0.3922 - accuracy: 0.8607\n",
      "Epoch 2/5\n",
      "1875/1875 [==============================] - 13s 7ms/step - loss: 0.2684 - accuracy: 0.9029\n",
      "Epoch 3/5\n",
      "1875/1875 [==============================] - 13s 7ms/step - loss: 0.2242 - accuracy: 0.9182\n",
      "Epoch 4/5\n",
      "1875/1875 [==============================] - 13s 7ms/step - loss: 0.1927 - accuracy: 0.9293\n",
      "Epoch 5/5\n",
      "1875/1875 [==============================] - 13s 7ms/step - loss: 0.1682 - accuracy: 0.9380\n"
     ]
    },
    {
     "data": {
      "text/plain": [
       "<keras.callbacks.History at 0x1a77687fc40>"
      ]
     },
     "execution_count": 9,
     "metadata": {},
     "output_type": "execute_result"
    }
   ],
   "source": [
    "# Faça o fit do modelo passando train_images, train_labels e epochs = 10\n",
    "cnn.fit(train_images,\n",
    "        train_labels,\n",
    "        epochs = 5)"
   ]
  },
  {
   "cell_type": "code",
   "execution_count": 10,
   "metadata": {
    "id": "TV0yuZuH4dUl",
    "outputId": "7c60d370-2006-4179-f3b1-0e3c6d5ae1ff",
    "scrolled": true
   },
   "outputs": [
    {
     "name": "stdout",
     "output_type": "stream",
     "text": [
      "313/313 [==============================] - 1s 2ms/step\n"
     ]
    }
   ],
   "source": [
    "# crie o pred_labels usando a função predict_classes para o test_images\n",
    "pred_labels = np.argmax(cnn.predict(test_images), axis = -1)"
   ]
  },
  {
   "cell_type": "code",
   "execution_count": 11,
   "metadata": {
    "id": "h9A_JWCA4dUl",
    "outputId": "8c5554a8-9980-4ba3-efa1-28b6ce6e6568"
   },
   "outputs": [
    {
     "name": "stdout",
     "output_type": "stream",
     "text": [
      "              precision    recall  f1-score   support\n",
      "\n",
      "           0       0.86      0.88      0.87       979\n",
      "           1       0.98      0.99      0.99       995\n",
      "           2       0.88      0.85      0.87      1038\n",
      "           3       0.87      0.95      0.91       913\n",
      "           4       0.87      0.85      0.86      1030\n",
      "           5       0.97      0.98      0.98       985\n",
      "           6       0.79      0.75      0.77      1053\n",
      "           7       0.97      0.95      0.96      1016\n",
      "           8       0.97      0.99      0.98       984\n",
      "           9       0.96      0.96      0.96      1007\n",
      "\n",
      "    accuracy                           0.91     10000\n",
      "   macro avg       0.91      0.91      0.91     10000\n",
      "weighted avg       0.91      0.91      0.91     10000\n",
      "\n"
     ]
    }
   ],
   "source": [
    "from mlxtend.plotting import plot_confusion_matrix\n",
    "from sklearn.metrics import classification_report, confusion_matrix\n",
    "\n",
    "# Faça o print do classification_report para pred_labels e test_labels\n",
    "print(classification_report(pred_labels, test_labels))"
   ]
  },
  {
   "cell_type": "code",
   "execution_count": 13,
   "metadata": {
    "id": "D_GzE54G4dUm",
    "outputId": "6b05ef51-032a-4cf5-860b-227eabd097ec",
    "scrolled": false
   },
   "outputs": [
    {
     "data": {
      "image/png": "[encoded data removed]",
      "text/plain": [
       "<Figure size 432x288 with 1 Axes>"
      ]
     },
     "metadata": {
      "needs_background": "light"
     },
     "output_type": "display_data"
    }
   ],
   "source": [
    "# Crie a matriz de confusão para o pred_labels e test_labels\n",
    "cm = confusion_matrix(pred_labels, test_labels)\n",
    "plot_confusion_matrix(conf_mat = cm)\n",
    "plt.show()"
   ]
  },
  {
   "cell_type": "markdown",
   "metadata": {
    "id": "BRglSuqz4dUm"
   },
   "source": [
    "## "
   ]
  },
  {
   "cell_type": "markdown",
   "metadata": {
    "id": "acxnGWUT4dUm"
   },
   "source": [
    "## Exercícios\n",
    "\n",
    "__1)__ Desenvolva uma rede CNN para a base MNIST de classificação de dígitos, seguindo os passos abaixo:\n",
    "- Carregue os dados segundo a função dada em aula, utilize os dados de teste como dados em __produção__, ou seja iremos usar em um outro momento;\n",
    "- Nomeie os dados de treino como X e faça as seguintes separações: X em treino e teste (90/10%) e depois o X de treino em treino e validação (80/20%);\n",
    "- Monte uma CNN;\n",
    "- Faça as predições, avalie overfitting e salve o modelo final e os dados de produção;\n",
    "- Carregue o modelo treinado e os dados de produção, e faça as novas predições."
   ]
  }
 ],
 "metadata": {
  "colab": {
   "name": "Aula 15.1 - CNN e RNN.ipynb",
   "provenance": []
  },
  "kernelspec": {
   "display_name": "Python 3 (ipykernel)",
   "language": "python",
   "name": "python3"
  },
  "language_info": {
   "codemirror_mode": {
    "name": "ipython",
    "version": 3
   },
   "file_extension": ".py",
   "mimetype": "text/x-python",
   "name": "python",
   "nbconvert_exporter": "python",
   "pygments_lexer": "ipython3",
   "version": "3.9.12"
  }
 },
 "nbformat": 4,
 "nbformat_minor": 1
}
