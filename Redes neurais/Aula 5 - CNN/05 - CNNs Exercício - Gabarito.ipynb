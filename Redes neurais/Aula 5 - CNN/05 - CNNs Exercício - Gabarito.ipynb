{
 "cells": [
  {
   "cell_type": "markdown",
   "metadata": {},
   "source": [
    "# Aula 04 - CNNs\n",
    "\n",
    "Na aula de hoje, vamos explorar os seguintes tópicos em Python:\n",
    "\n",
    "- Redes Neurais Convolucionais (CNN);\n",
    "- Convoluções;\n",
    "- _Pooling_;\n",
    "- Exercícios."
   ]
  },
  {
   "cell_type": "markdown",
   "metadata": {},
   "source": [
    "##   "
   ]
  },
  {
   "cell_type": "markdown",
   "metadata": {},
   "source": [
    "## Exercícios"
   ]
  },
  {
   "cell_type": "markdown",
   "metadata": {},
   "source": [
    "__1)__ Desenvolva uma rede CNN para a base MNIST de classificação de dígitos, seguindo os passos abaixo:\n",
    "- Carregue os dados segundo a função dada em aula, utilize os dados de teste como dados em __produção__, ou seja iremos usar em um outro momento;\n",
    "- Nomeie os dados de treino como X e faça as seguintes separações: X em treino e teste (90/10%) e depois o X de treino em treino e validação (80/20%);\n",
    "- Monte uma CNN;\n",
    "- Faça as predições, avalie overfitting e salve o modelo final e os dados de produção;\n",
    "- Carregue o modelo treinado e os dados de produção, e faça as novas predições."
   ]
  },
  {
   "cell_type": "code",
   "execution_count": 1,
   "metadata": {},
   "outputs": [],
   "source": [
    "# importe as bibliotecas padrões\n",
    "import numpy as np\n",
    "import pandas as pd\n",
    "import matplotlib.pyplot as plt\n",
    "import seaborn as sns"
   ]
  },
  {
   "cell_type": "code",
   "execution_count": 2,
   "metadata": {},
   "outputs": [],
   "source": [
    "# Função essencial para ler a base do MNIST\n",
    "import os\n",
    "import gzip\n",
    "\n",
    "def carrega_mnist(caminho, tipo = 'train'):\n",
    "    label_caminho = os.path.join(caminho, '%s-labels-idx1-ubyte.gz' % tipo)\n",
    "    imagens_caminho = os.path.join(caminho, '%s-images-idx3-ubyte.gz' % tipo)\n",
    "        \n",
    "    with gzip.open(label_caminho, 'rb') as lbpath:\n",
    "        lbpath.read(8)\n",
    "        buffer = lbpath.read()\n",
    "        labels = np.frombuffer(buffer, dtype=np.uint8)\n",
    "\n",
    "    with gzip.open(imagens_caminho, 'rb') as imgpath:\n",
    "        imgpath.read(16)\n",
    "        buffer = imgpath.read()\n",
    "        imagens = np.frombuffer(buffer, \n",
    "                               dtype=np.uint8).reshape(\n",
    "            len(labels), 784).astype(np.float64)\n",
    " \n",
    "    return imagens, labels\n",
    "\n",
    "X, y = carrega_mnist('./datasets/')\n",
    "X_producao, y_producao = carrega_mnist('./datasets/', \"t10k\")"
   ]
  },
  {
   "cell_type": "code",
   "execution_count": 3,
   "metadata": {},
   "outputs": [
    {
     "data": {
      "text/plain": [
       "((60000, 784), (60000,))"
      ]
     },
     "execution_count": 3,
     "metadata": {},
     "output_type": "execute_result"
    }
   ],
   "source": [
    "# Shape dos dados originais\n",
    "X.shape, y.shape"
   ]
  },
  {
   "cell_type": "code",
   "execution_count": 4,
   "metadata": {},
   "outputs": [],
   "source": [
    "# Reshape dos dados\n",
    "IMG_SIZE = 28\n",
    "X = np.array(X).reshape(-1, IMG_SIZE, IMG_SIZE, 1)"
   ]
  },
  {
   "cell_type": "code",
   "execution_count": 5,
   "metadata": {},
   "outputs": [
    {
     "data": {
      "text/plain": [
       "(60000, 28, 28, 1)"
      ]
     },
     "execution_count": 5,
     "metadata": {},
     "output_type": "execute_result"
    }
   ],
   "source": [
    "# Shape novo\n",
    "X.shape"
   ]
  },
  {
   "cell_type": "code",
   "execution_count": 6,
   "metadata": {},
   "outputs": [],
   "source": [
    "# Normalização\n",
    "X = X/255."
   ]
  },
  {
   "cell_type": "code",
   "execution_count": 7,
   "metadata": {},
   "outputs": [
    {
     "name": "stdout",
     "output_type": "stream",
     "text": [
      "(54000, 28, 28, 1) (6000, 28, 28, 1) (54000,) (6000,)\n"
     ]
    }
   ],
   "source": [
    "# Separa em treino e teste\n",
    "from sklearn.model_selection import train_test_split\n",
    "\n",
    "X_train, X_test, y_train, y_test = train_test_split(X, \n",
    "                                                    y, \n",
    "                                                    test_size = 0.1, \n",
    "                                                    random_state = 42,\n",
    "                                                    stratify = y)\n",
    "\n",
    "print(X_train.shape, X_test.shape, y_train.shape, y_test.shape)"
   ]
  },
  {
   "cell_type": "code",
   "execution_count": 8,
   "metadata": {},
   "outputs": [],
   "source": [
    "# One Hot Encoder\n",
    "from sklearn.preprocessing import OneHotEncoder\n",
    "\n",
    "hot = OneHotEncoder()\n",
    "\n",
    "y_train = hot.fit_transform(y_train.reshape(-1, 1)).toarray()\n",
    "y_test = hot.fit_transform(y_test.reshape(-1, 1)).toarray()"
   ]
  },
  {
   "cell_type": "code",
   "execution_count": 9,
   "metadata": {},
   "outputs": [
    {
     "data": {
      "text/plain": [
       "array([[0., 0., 1., 0., 0., 0., 0., 0., 0., 0.],\n",
       "       [0., 1., 0., 0., 0., 0., 0., 0., 0., 0.],\n",
       "       [0., 0., 0., 0., 0., 1., 0., 0., 0., 0.],\n",
       "       [0., 1., 0., 0., 0., 0., 0., 0., 0., 0.],\n",
       "       [0., 0., 0., 0., 0., 0., 0., 0., 1., 0.]])"
      ]
     },
     "execution_count": 9,
     "metadata": {},
     "output_type": "execute_result"
    }
   ],
   "source": [
    "y_train[0:5]"
   ]
  },
  {
   "cell_type": "code",
   "execution_count": 10,
   "metadata": {},
   "outputs": [
    {
     "name": "stdout",
     "output_type": "stream",
     "text": [
      "(43200, 28, 28, 1) (10800, 28, 28, 1) (6000, 28, 28, 1) (43200, 10) (10800, 10) (6000, 10)\n"
     ]
    }
   ],
   "source": [
    "# Separa em treino e validação\n",
    "X_train, X_val, y_train, y_val = train_test_split(X_train, y_train, test_size = 0.2, random_state = 42)\n",
    "\n",
    "print(X_train.shape, X_val.shape, X_test.shape, y_train.shape, y_val.shape, y_test.shape)"
   ]
  },
  {
   "cell_type": "code",
   "execution_count": 11,
   "metadata": {},
   "outputs": [],
   "source": [
    "# Cria as camadas\n",
    "\n",
    "from tensorflow.keras.models import Sequential\n",
    "from tensorflow.keras.layers import Dense, Conv2D, MaxPooling2D, Flatten\n",
    "\n",
    "cnn = Sequential()\n",
    "\n",
    "# 1 camada\n",
    "cnn.add(Conv2D(16, (3, 3), activation = 'relu', input_shape = X_train.shape[1:]))\n",
    "cnn.add(MaxPooling2D((2, 2)))\n",
    "cnn.add(Flatten())\n",
    "\n",
    "# 2 camada\n",
    "cnn.add(Dense(32, activation = 'relu'))\n",
    "\n",
    "# camada de output\n",
    "cnn.add(Dense(y_train.shape[1], activation = 'softmax'))"
   ]
  },
  {
   "cell_type": "code",
   "execution_count": 12,
   "metadata": {},
   "outputs": [
    {
     "name": "stdout",
     "output_type": "stream",
     "text": [
      "Model: \"sequential\"\n",
      "_________________________________________________________________\n",
      "Layer (type)                 Output Shape              Param #   \n",
      "=================================================================\n",
      "conv2d (Conv2D)              (None, 26, 26, 16)        160       \n",
      "_________________________________________________________________\n",
      "max_pooling2d (MaxPooling2D) (None, 13, 13, 16)        0         \n",
      "_________________________________________________________________\n",
      "flatten (Flatten)            (None, 2704)              0         \n",
      "_________________________________________________________________\n",
      "dense (Dense)                (None, 32)                86560     \n",
      "_________________________________________________________________\n",
      "activation (Activation)      (None, 32)                0         \n",
      "_________________________________________________________________\n",
      "dense_1 (Dense)              (None, 10)                330       \n",
      "_________________________________________________________________\n",
      "activation_1 (Activation)    (None, 10)                0         \n",
      "=================================================================\n",
      "Total params: 87,050\n",
      "Trainable params: 87,050\n",
      "Non-trainable params: 0\n",
      "_________________________________________________________________\n"
     ]
    }
   ],
   "source": [
    "# Compile da Rede\n",
    "cnn.compile(loss = 'categorical_crossentropy', \n",
    "            optimizer = 'adam',\n",
    "             metrics=['accuracy'])\n",
    "\n",
    "# Salva os pesos iniciais\n",
    "pesos_iniciais = cnn.get_weights()\n",
    "\n",
    "# Sumario\n",
    "cnn.summary()"
   ]
  },
  {
   "cell_type": "code",
   "execution_count": 13,
   "metadata": {
    "scrolled": true
   },
   "outputs": [
    {
     "name": "stdout",
     "output_type": "stream",
     "text": [
      "Epoch 1/20\n",
      "1350/1350 [==============================] - 5s 4ms/step - loss: 0.2425 - accuracy: 0.9294 - val_loss: 0.1142 - val_accuracy: 0.9676\n",
      "Epoch 2/20\n",
      "1350/1350 [==============================] - 5s 4ms/step - loss: 0.0833 - accuracy: 0.9755 - val_loss: 0.0773 - val_accuracy: 0.9771\n",
      "Epoch 3/20\n",
      "1350/1350 [==============================] - 5s 4ms/step - loss: 0.0593 - accuracy: 0.9818 - val_loss: 0.0727 - val_accuracy: 0.9789\n",
      "Epoch 4/20\n",
      "1350/1350 [==============================] - 5s 4ms/step - loss: 0.0474 - accuracy: 0.9853 - val_loss: 0.0671 - val_accuracy: 0.9783\n",
      "Epoch 5/20\n",
      "1350/1350 [==============================] - 5s 4ms/step - loss: 0.0372 - accuracy: 0.9887 - val_loss: 0.0764 - val_accuracy: 0.9772\n",
      "Epoch 6/20\n",
      "1350/1350 [==============================] - 5s 4ms/step - loss: 0.0303 - accuracy: 0.9907 - val_loss: 0.0770 - val_accuracy: 0.9788\n",
      "Epoch 7/20\n",
      "1350/1350 [==============================] - 5s 4ms/step - loss: 0.0243 - accuracy: 0.9924 - val_loss: 0.0702 - val_accuracy: 0.9808\n",
      "Epoch 8/20\n",
      "1350/1350 [==============================] - 5s 4ms/step - loss: 0.0193 - accuracy: 0.9937 - val_loss: 0.0728 - val_accuracy: 0.9795\n",
      "Epoch 9/20\n",
      "1350/1350 [==============================] - 5s 4ms/step - loss: 0.0163 - accuracy: 0.9946 - val_loss: 0.0824 - val_accuracy: 0.9781\n",
      "Epoch 10/20\n",
      "1350/1350 [==============================] - 5s 4ms/step - loss: 0.0131 - accuracy: 0.9960 - val_loss: 0.0712 - val_accuracy: 0.9824\n",
      "Epoch 11/20\n",
      "1350/1350 [==============================] - 5s 4ms/step - loss: 0.0099 - accuracy: 0.9970 - val_loss: 0.0728 - val_accuracy: 0.9815\n",
      "Epoch 12/20\n",
      "1350/1350 [==============================] - 5s 4ms/step - loss: 0.0091 - accuracy: 0.9970 - val_loss: 0.0835 - val_accuracy: 0.9806\n",
      "Epoch 13/20\n",
      "1350/1350 [==============================] - 5s 4ms/step - loss: 0.0086 - accuracy: 0.9974 - val_loss: 0.0820 - val_accuracy: 0.9819\n",
      "Epoch 14/20\n",
      "1350/1350 [==============================] - 5s 4ms/step - loss: 0.0065 - accuracy: 0.9978 - val_loss: 0.0971 - val_accuracy: 0.9786\n",
      "Epoch 15/20\n",
      "1350/1350 [==============================] - 5s 4ms/step - loss: 0.0073 - accuracy: 0.9974 - val_loss: 0.0871 - val_accuracy: 0.9827\n",
      "Epoch 16/20\n",
      "1350/1350 [==============================] - 5s 4ms/step - loss: 0.0051 - accuracy: 0.9984 - val_loss: 0.0849 - val_accuracy: 0.9809\n",
      "Epoch 17/20\n",
      "1350/1350 [==============================] - 5s 4ms/step - loss: 0.0030 - accuracy: 0.9992 - val_loss: 0.1015 - val_accuracy: 0.9811\n",
      "Epoch 18/20\n",
      "1350/1350 [==============================] - 5s 4ms/step - loss: 0.0039 - accuracy: 0.9989 - val_loss: 0.1093 - val_accuracy: 0.9783\n",
      "Epoch 19/20\n",
      "1350/1350 [==============================] - 5s 4ms/step - loss: 0.0041 - accuracy: 0.9988 - val_loss: 0.1021 - val_accuracy: 0.9820\n",
      "Epoch 20/20\n",
      "1350/1350 [==============================] - 5s 4ms/step - loss: 0.0046 - accuracy: 0.9984 - val_loss: 0.0934 - val_accuracy: 0.9813\n"
     ]
    }
   ],
   "source": [
    "# Fit da rede e salva o historico\n",
    "historico = cnn.fit(X_train, \n",
    "                    y_train, \n",
    "                    epochs = 20, \n",
    "                    verbose = 1,\n",
    "                    validation_data = (X_val, y_val))"
   ]
  },
  {
   "cell_type": "code",
   "execution_count": 14,
   "metadata": {
    "scrolled": true
   },
   "outputs": [
    {
     "data": {
      "text/plain": [
       "array([1, 9, 3, ..., 5, 0, 4], dtype=int64)"
      ]
     },
     "execution_count": 14,
     "metadata": {},
     "output_type": "execute_result"
    }
   ],
   "source": [
    "# método pra predizer as classes finais\n",
    "y_pred = np.argmax(cnn.predict(X_test), axis = -1)\n",
    "y_pred"
   ]
  },
  {
   "cell_type": "code",
   "execution_count": 15,
   "metadata": {},
   "outputs": [
    {
     "data": {
      "text/plain": [
       "array([1, 9, 3, ..., 5, 0, 4], dtype=int64)"
      ]
     },
     "execution_count": 15,
     "metadata": {},
     "output_type": "execute_result"
    }
   ],
   "source": [
    "# voltando o y_test pra valores nunéricos\n",
    "y_test = np.argmax(y_test, axis = -1)\n",
    "y_test"
   ]
  },
  {
   "cell_type": "code",
   "execution_count": 16,
   "metadata": {},
   "outputs": [
    {
     "name": "stdout",
     "output_type": "stream",
     "text": [
      "              precision    recall  f1-score   support\n",
      "\n",
      "           0       0.99      1.00      0.99       592\n",
      "           1       0.99      0.99      0.99       674\n",
      "           2       0.97      0.98      0.97       596\n",
      "           3       0.98      0.98      0.98       613\n",
      "           4       0.98      0.98      0.98       584\n",
      "           5       0.99      0.98      0.99       542\n",
      "           6       0.99      0.98      0.99       592\n",
      "           7       0.99      0.95      0.97       627\n",
      "           8       0.97      0.98      0.97       585\n",
      "           9       0.95      0.98      0.97       595\n",
      "\n",
      "    accuracy                           0.98      6000\n",
      "   macro avg       0.98      0.98      0.98      6000\n",
      "weighted avg       0.98      0.98      0.98      6000\n",
      "\n"
     ]
    }
   ],
   "source": [
    "# Classification report\n",
    "from mlxtend.plotting import plot_confusion_matrix\n",
    "from sklearn.metrics import classification_report, confusion_matrix\n",
    "\n",
    "print(classification_report(y_test, y_pred))"
   ]
  },
  {
   "cell_type": "code",
   "execution_count": 17,
   "metadata": {},
   "outputs": [
    {
     "name": "stdout",
     "output_type": "stream",
     "text": [
      "Matriz de confusão do modelo nos dados de teste:\n",
      "\n"
     ]
    },
    {
     "data": {
      "image/png": "[encoded data removed]",
      "text/plain": [
       "<Figure size 432x288 with 1 Axes>"
      ]
     },
     "metadata": {
      "needs_background": "light"
     },
     "output_type": "display_data"
    }
   ],
   "source": [
    "# Matriz de Confusão\n",
    "cm = confusion_matrix(y_test, y_pred)\n",
    "\n",
    "print(\"Matriz de confusão do modelo nos dados de teste:\\n\")\n",
    "plot_confusion_matrix(conf_mat=cm)\n",
    "plt.show()"
   ]
  },
  {
   "cell_type": "code",
   "execution_count": 18,
   "metadata": {},
   "outputs": [
    {
     "data": {
      "image/png": "[encoded data removed]",
      "text/plain": [
       "<Figure size 864x432 with 1 Axes>"
      ]
     },
     "metadata": {
      "needs_background": "light"
     },
     "output_type": "display_data"
    }
   ],
   "source": [
    "# valor da função de perda NOS DADOS DE TREINO a cada epoch\n",
    "loss = historico.history['loss']\n",
    "\n",
    "# valor da função de perda NOS DADOS DE VALIDAÇÃO a cada epoch\n",
    "val_loss = historico.history['val_loss']\n",
    "\n",
    "# numero de epochs\n",
    "epochs = range(len(loss))\n",
    "\n",
    "# plot\n",
    "plt.figure(figsize=(12, 6))\n",
    "plt.plot(epochs, loss, 'red', label = 'Training loss')\n",
    "plt.plot(epochs, val_loss, 'blue', label = 'Validation loss')\n",
    "plt.title('Training and validation loss')\n",
    "plt.legend()\n",
    "plt.show()"
   ]
  },
  {
   "cell_type": "code",
   "execution_count": 19,
   "metadata": {},
   "outputs": [
    {
     "data": {
      "image/png": "[encoded data removed]",
      "text/plain": [
       "<Figure size 864x432 with 1 Axes>"
      ]
     },
     "metadata": {
      "needs_background": "light"
     },
     "output_type": "display_data"
    }
   ],
   "source": [
    "# valor da função de perda NOS DADOS DE TREINO a cada epoch\n",
    "acc = historico.history['accuracy']\n",
    "\n",
    "# valor da função de perda NOS DADOS DE VALIDAÇÃO a cada epoch\n",
    "val_acc = historico.history['val_accuracy']\n",
    "\n",
    "# numero de epochs\n",
    "epochs = range(len(acc))\n",
    "\n",
    "# plot\n",
    "plt.figure(figsize=(12, 6))\n",
    "plt.plot(epochs, acc, 'red', label = 'Training accuracy')\n",
    "plt.plot(epochs, val_acc, 'blue', label = 'Validation accuracy')\n",
    "plt.title('Training and validation accuracy')\n",
    "plt.legend()\n",
    "plt.show()"
   ]
  },
  {
   "cell_type": "code",
   "execution_count": 20,
   "metadata": {
    "scrolled": true
   },
   "outputs": [
    {
     "name": "stdout",
     "output_type": "stream",
     "text": [
      "Epoch 1/20\n",
      "1350/1350 [==============================] - 5s 4ms/step - loss: 0.2127 - accuracy: 0.9365 - val_loss: 0.1048 - val_accuracy: 0.9706\n",
      "Epoch 2/20\n",
      "1350/1350 [==============================] - 5s 4ms/step - loss: 0.0787 - accuracy: 0.9770 - val_loss: 0.0862 - val_accuracy: 0.9747\n",
      "Epoch 3/20\n",
      "1350/1350 [==============================] - 5s 4ms/step - loss: 0.0547 - accuracy: 0.9831 - val_loss: 0.0734 - val_accuracy: 0.9784\n",
      "Epoch 4/20\n",
      "1350/1350 [==============================] - 5s 4ms/step - loss: 0.0402 - accuracy: 0.9882 - val_loss: 0.0699 - val_accuracy: 0.9803\n",
      "Epoch 5/20\n",
      "1350/1350 [==============================] - 5s 4ms/step - loss: 0.0307 - accuracy: 0.9907 - val_loss: 0.0641 - val_accuracy: 0.9815\n",
      "Epoch 6/20\n",
      "1350/1350 [==============================] - 5s 4ms/step - loss: 0.0239 - accuracy: 0.9928 - val_loss: 0.0615 - val_accuracy: 0.9820\n",
      "Epoch 7/20\n",
      "1350/1350 [==============================] - 5s 4ms/step - loss: 0.0176 - accuracy: 0.9948 - val_loss: 0.0673 - val_accuracy: 0.9811\n",
      "Epoch 8/20\n",
      "1350/1350 [==============================] - 5s 4ms/step - loss: 0.0140 - accuracy: 0.9960 - val_loss: 0.0641 - val_accuracy: 0.9831\n",
      "Epoch 9/20\n",
      "1350/1350 [==============================] - 5s 4ms/step - loss: 0.0107 - accuracy: 0.9969 - val_loss: 0.0743 - val_accuracy: 0.9802\n",
      "Epoch 10/20\n",
      "1350/1350 [==============================] - 5s 4ms/step - loss: 0.0084 - accuracy: 0.9976 - val_loss: 0.0784 - val_accuracy: 0.9812\n",
      "Epoch 11/20\n",
      "1350/1350 [==============================] - 5s 4ms/step - loss: 0.0062 - accuracy: 0.9982 - val_loss: 0.0697 - val_accuracy: 0.9841\n",
      "Epoch 12/20\n",
      "1350/1350 [==============================] - 6s 4ms/step - loss: 0.0069 - accuracy: 0.9978 - val_loss: 0.0779 - val_accuracy: 0.9825\n",
      "Epoch 13/20\n",
      "1350/1350 [==============================] - 5s 4ms/step - loss: 0.0038 - accuracy: 0.9991 - val_loss: 0.0791 - val_accuracy: 0.9807\n",
      "Epoch 14/20\n",
      "1350/1350 [==============================] - 5s 4ms/step - loss: 0.0040 - accuracy: 0.9989 - val_loss: 0.0812 - val_accuracy: 0.9837\n",
      "Epoch 15/20\n",
      "1350/1350 [==============================] - 5s 4ms/step - loss: 0.0044 - accuracy: 0.9987 - val_loss: 0.0884 - val_accuracy: 0.9821\n",
      "Epoch 16/20\n",
      "1350/1350 [==============================] - 5s 4ms/step - loss: 0.0033 - accuracy: 0.9991 - val_loss: 0.0994 - val_accuracy: 0.9793\n",
      "Epoch 00016: early stopping\n"
     ]
    }
   ],
   "source": [
    "# Early stopping\n",
    "from tensorflow.keras.callbacks import EarlyStopping\n",
    "\n",
    "early_stop = EarlyStopping(monitor = 'val_loss', \n",
    "                           min_delta = 0.001,\n",
    "                           patience = 10, \n",
    "                           verbose = 1, mode = 'auto')\n",
    "\n",
    "# setamos os pesos iniciais iguais à versão antes do treinamento pra ter um comparativo mais real.\n",
    "cnn.set_weights(pesos_iniciais)\n",
    "\n",
    "# treinando a rede neural novamente\n",
    "# note o argumento \"callbacks\", ao qual passamos o objeto de early_stop\n",
    "historico2 = cnn.fit(X_train, \n",
    "                     y_train, \n",
    "                     epochs = 20, \n",
    "                     verbose = 1,\n",
    "                     validation_data = (X_val, y_val),\n",
    "                     callbacks = [early_stop])"
   ]
  },
  {
   "cell_type": "code",
   "execution_count": 21,
   "metadata": {
    "scrolled": false
   },
   "outputs": [
    {
     "data": {
      "image/png": "[encoded data removed]",
      "text/plain": [
       "<Figure size 864x432 with 1 Axes>"
      ]
     },
     "metadata": {
      "needs_background": "light"
     },
     "output_type": "display_data"
    }
   ],
   "source": [
    "# valor da função de perda NOS DADOS DE TREINO a cada epoch\n",
    "loss = historico2.history['loss']\n",
    "\n",
    "# valor da função de perda NOS DADOS DE VALIDAÇÃO a cada epoch\n",
    "val_loss = historico2.history['val_loss']\n",
    "\n",
    "# numero de epochs\n",
    "epochs = range(len(loss))\n",
    "\n",
    "# plot\n",
    "plt.figure(figsize=(12, 6))\n",
    "plt.plot(epochs, loss, 'red', label = 'Training loss')\n",
    "plt.plot(epochs, val_loss, 'blue', label = 'Validation loss')\n",
    "plt.title('Training and validation loss')\n",
    "plt.legend()\n",
    "plt.show()"
   ]
  },
  {
   "cell_type": "code",
   "execution_count": 22,
   "metadata": {},
   "outputs": [
    {
     "data": {
      "image/png": "[encoded data removed]",
      "text/plain": [
       "<Figure size 864x432 with 1 Axes>"
      ]
     },
     "metadata": {
      "needs_background": "light"
     },
     "output_type": "display_data"
    }
   ],
   "source": [
    "# valor da função de perda NOS DADOS DE TREINO a cada epoch\n",
    "acc = historico2.history['accuracy']\n",
    "\n",
    "# valor da função de perda NOS DADOS DE VALIDAÇÃO a cada epoch\n",
    "val_acc = historico2.history['val_accuracy']\n",
    "\n",
    "# numero de epochs\n",
    "epochs = range(len(acc))\n",
    "\n",
    "# plot\n",
    "plt.figure(figsize=(12, 6))\n",
    "plt.plot(epochs, acc, 'red', label = 'Training accuracy')\n",
    "plt.plot(epochs, val_acc, 'blue', label = 'Validation accuracy')\n",
    "plt.title('Training and validation accuracy')\n",
    "plt.legend()\n",
    "plt.show()"
   ]
  },
  {
   "cell_type": "code",
   "execution_count": 23,
   "metadata": {},
   "outputs": [
    {
     "name": "stdout",
     "output_type": "stream",
     "text": [
      "Matriz de confusão do modelo nos dados de teste:\n",
      "\n"
     ]
    },
    {
     "data": {
      "image/png": "[encoded data removed]",
      "text/plain": [
       "<Figure size 432x288 with 1 Axes>"
      ]
     },
     "metadata": {
      "needs_background": "light"
     },
     "output_type": "display_data"
    },
    {
     "name": "stdout",
     "output_type": "stream",
     "text": [
      "              precision    recall  f1-score   support\n",
      "\n",
      "           0       0.98      0.99      0.99       592\n",
      "           1       0.99      0.99      0.99       674\n",
      "           2       0.97      0.98      0.97       596\n",
      "           3       1.00      0.95      0.97       613\n",
      "           4       0.97      0.99      0.98       584\n",
      "           5       0.97      0.99      0.98       542\n",
      "           6       0.98      0.99      0.98       592\n",
      "           7       0.99      0.97      0.98       627\n",
      "           8       0.94      0.98      0.96       585\n",
      "           9       0.99      0.96      0.97       595\n",
      "\n",
      "    accuracy                           0.98      6000\n",
      "   macro avg       0.98      0.98      0.98      6000\n",
      "weighted avg       0.98      0.98      0.98      6000\n",
      "\n"
     ]
    }
   ],
   "source": [
    "y_pred = np.argmax(cnn.predict(X_test), axis = -1)\n",
    "\n",
    "cm = confusion_matrix(y_test, y_pred)\n",
    "\n",
    "plot_confusion_matrix(conf_mat=cm)\n",
    "plt.show()\n",
    "\n",
    "print(classification_report(y_test, y_pred))"
   ]
  },
  {
   "cell_type": "markdown",
   "metadata": {},
   "source": [
    "## "
   ]
  },
  {
   "cell_type": "markdown",
   "metadata": {},
   "source": [
    "## Salvando Dados, Pesos e a Rede"
   ]
  },
  {
   "cell_type": "markdown",
   "metadata": {},
   "source": [
    "Salvando os pesos da rede treinada e a arquitetura da rede:"
   ]
  },
  {
   "cell_type": "code",
   "execution_count": 24,
   "metadata": {},
   "outputs": [],
   "source": [
    "from keras.models import model_from_json"
   ]
  },
  {
   "cell_type": "code",
   "execution_count": 25,
   "metadata": {},
   "outputs": [],
   "source": [
    "cnn_json = cnn.to_json()\n",
    "with open(\"cnn.json\", \"w\") as json_file:\n",
    "    json_file.write(cnn_json)\n",
    "    \n",
    "# serialize weights to HDF5\n",
    "cnn.save_weights(\"weights.h5\")"
   ]
  },
  {
   "cell_type": "markdown",
   "metadata": {},
   "source": [
    "Dessa forma podemos carregar em qualquer outro lugar a mesma rede já treinada!\n",
    "<br>\n",
    "<br>\n",
    "Agora vamos ver como podemos salvar os dados utilizando a biblioteca _Pickle_:"
   ]
  },
  {
   "cell_type": "code",
   "execution_count": 26,
   "metadata": {},
   "outputs": [],
   "source": [
    "import pickle\n",
    "\n",
    "dados_prod = open(\"X.pickle\",\"wb\")\n",
    "pickle.dump(X_producao, dados_prod)\n",
    "dados_prod.close()"
   ]
  },
  {
   "cell_type": "markdown",
   "metadata": {},
   "source": [
    "## "
   ]
  },
  {
   "cell_type": "markdown",
   "metadata": {},
   "source": [
    "## Utilizando de Dados, Pesos e Rede já Salvos"
   ]
  },
  {
   "cell_type": "markdown",
   "metadata": {},
   "source": [
    "Vamos primeiramente carregar a arquitetura da rede e os pesos:"
   ]
  },
  {
   "cell_type": "code",
   "execution_count": 27,
   "metadata": {},
   "outputs": [],
   "source": [
    "json_file = open('cnn.json', 'r')\n",
    "loaded_model_json = json_file.read()\n",
    "json_file.close()\n",
    "cnn_treinada = model_from_json(loaded_model_json)\n",
    "\n",
    "# load weights into new model\n",
    "cnn_treinada.load_weights(\"weights.h5\")"
   ]
  },
  {
   "cell_type": "markdown",
   "metadata": {},
   "source": [
    "Carregando os dados que queremos utilizar:"
   ]
  },
  {
   "cell_type": "code",
   "execution_count": 28,
   "metadata": {},
   "outputs": [],
   "source": [
    "dados_novos = open(\"X.pickle\",\"rb\")\n",
    "X_new = pickle.load(dados_novos)"
   ]
  },
  {
   "cell_type": "code",
   "execution_count": 29,
   "metadata": {},
   "outputs": [
    {
     "data": {
      "text/plain": [
       "(10000, 784)"
      ]
     },
     "execution_count": 29,
     "metadata": {},
     "output_type": "execute_result"
    }
   ],
   "source": [
    "X_new.shape"
   ]
  },
  {
   "cell_type": "markdown",
   "metadata": {},
   "source": [
    "Agora como exercício se simular para dados que nunca foram vistos, vamos fazer o processamento desses dados novos antes de utilizar na rede:"
   ]
  },
  {
   "cell_type": "code",
   "execution_count": 30,
   "metadata": {},
   "outputs": [
    {
     "data": {
      "text/plain": [
       "(10000, 28, 28, 1)"
      ]
     },
     "execution_count": 30,
     "metadata": {},
     "output_type": "execute_result"
    }
   ],
   "source": [
    "X_new = np.array(X_new).reshape(-1, IMG_SIZE, IMG_SIZE, 1)\n",
    "X_new.shape"
   ]
  },
  {
   "cell_type": "code",
   "execution_count": 31,
   "metadata": {},
   "outputs": [],
   "source": [
    "X_new = X_new/255."
   ]
  },
  {
   "cell_type": "code",
   "execution_count": 32,
   "metadata": {},
   "outputs": [],
   "source": [
    "# Recompilando a rede\n",
    "cnn_treinada.compile(loss = 'categorical_crossentropy', \n",
    "                     optimizer = 'adam',\n",
    "                     metrics=['accuracy'])"
   ]
  },
  {
   "cell_type": "code",
   "execution_count": 33,
   "metadata": {},
   "outputs": [
    {
     "data": {
      "text/plain": [
       "array([7, 2, 1, ..., 4, 5, 6], dtype=int64)"
      ]
     },
     "execution_count": 33,
     "metadata": {},
     "output_type": "execute_result"
    }
   ],
   "source": [
    "# Calculando os predicts para dados nunca vistos\n",
    "y_pred_new = np.argmax(cnn_treinada.predict(X_new), axis = -1)\n",
    "y_pred_new"
   ]
  },
  {
   "cell_type": "markdown",
   "metadata": {},
   "source": [
    "## "
   ]
  }
 ],
 "metadata": {
  "kernelspec": {
   "display_name": "Python 3 (ipykernel)",
   "language": "python",
   "name": "python3"
  },
  "language_info": {
   "codemirror_mode": {
    "name": "ipython",
    "version": 3
   },
   "file_extension": ".py",
   "mimetype": "text/x-python",
   "name": "python",
   "nbconvert_exporter": "python",
   "pygments_lexer": "ipython3",
   "version": "3.9.12"
  }
 },
 "nbformat": 4,
 "nbformat_minor": 2
}
