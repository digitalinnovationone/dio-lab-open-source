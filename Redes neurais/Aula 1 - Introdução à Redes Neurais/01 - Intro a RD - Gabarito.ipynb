{
 "cells": [
  {
   "cell_type": "markdown",
   "id": "bc86332b",
   "metadata": {},
   "source": [
    "# Redes Neurais - Conceitos Básicos\n",
    "\n",
    "Nessa aula, iremos tratar dos seguintes conteúdos:\n",
    "- Introdução a Redes Neurais;\n",
    "- Componentes de uma Rede Neural;\n",
    "- Aplicações de Redes Neurais;\n",
    "- Quando utilizar Redes Neurais?;\n",
    "- Diferenças entre Redes Neurais e _Deep Learning_;\n",
    "- Modelando uma Rede Neural - Perceptron;\n",
    "- Implementação em Python;\n",
    "- Exercícios."
   ]
  },
  {
   "cell_type": "markdown",
   "id": "12006384",
   "metadata": {},
   "source": [
    "## "
   ]
  },
  {
   "cell_type": "markdown",
   "id": "37e7620e",
   "metadata": {},
   "source": [
    "## Exercícios - Gabarito"
   ]
  },
  {
   "cell_type": "markdown",
   "id": "69d7f7af",
   "metadata": {},
   "source": [
    "__1)__ Aplique o _Perceptron_ no _dataset_ `iris` e classifique utilizando a Rede Neural entre flores que são da espécie `virginica` e `versicolor`(mantenha só estas espécies no conjunto de dados). O modelo consegue determinar a região de separação? Para isso façam 3 testes:\n",
    "\n",
    "- utilizando apenas as variáveis `sepal_length` e `petal_length`;\n",
    "\n",
    "- utilizando apenas as variáveis `sepal_width` e `petal_width`;\n",
    "\n",
    "- Utilizando todas as variáveis disponíveis (__Obs.:__ Neste caso para tentar visualizar a região de separação será necessário realizar uma redução de dimensionalidade)."
   ]
  },
  {
   "cell_type": "code",
   "execution_count": 1,
   "id": "7c10485d",
   "metadata": {},
   "outputs": [],
   "source": [
    "# Principais bibliotecas\n",
    "import pandas as pd\n",
    "import numpy as np\n",
    "import seaborn as sns\n",
    "import matplotlib.pyplot as plt"
   ]
  },
  {
   "cell_type": "code",
   "execution_count": 2,
   "id": "2b43d7f3",
   "metadata": {},
   "outputs": [
    {
     "data": {
      "text/html": [
       "<div>\n",
       "<style scoped>\n",
       "    .dataframe tbody tr th:only-of-type {\n",
       "        vertical-align: middle;\n",
       "    }\n",
       "\n",
       "    .dataframe tbody tr th {\n",
       "        vertical-align: top;\n",
       "    }\n",
       "\n",
       "    .dataframe thead th {\n",
       "        text-align: right;\n",
       "    }\n",
       "</style>\n",
       "<table border=\"1\" class=\"dataframe\">\n",
       "  <thead>\n",
       "    <tr style=\"text-align: right;\">\n",
       "      <th></th>\n",
       "      <th>sepal_length</th>\n",
       "      <th>sepal_width</th>\n",
       "      <th>petal_length</th>\n",
       "      <th>petal_width</th>\n",
       "      <th>species</th>\n",
       "    </tr>\n",
       "  </thead>\n",
       "  <tbody>\n",
       "    <tr>\n",
       "      <th>0</th>\n",
       "      <td>5.1</td>\n",
       "      <td>3.5</td>\n",
       "      <td>1.4</td>\n",
       "      <td>0.2</td>\n",
       "      <td>setosa</td>\n",
       "    </tr>\n",
       "    <tr>\n",
       "      <th>1</th>\n",
       "      <td>4.9</td>\n",
       "      <td>3.0</td>\n",
       "      <td>1.4</td>\n",
       "      <td>0.2</td>\n",
       "      <td>setosa</td>\n",
       "    </tr>\n",
       "    <tr>\n",
       "      <th>2</th>\n",
       "      <td>4.7</td>\n",
       "      <td>3.2</td>\n",
       "      <td>1.3</td>\n",
       "      <td>0.2</td>\n",
       "      <td>setosa</td>\n",
       "    </tr>\n",
       "    <tr>\n",
       "      <th>3</th>\n",
       "      <td>4.6</td>\n",
       "      <td>3.1</td>\n",
       "      <td>1.5</td>\n",
       "      <td>0.2</td>\n",
       "      <td>setosa</td>\n",
       "    </tr>\n",
       "    <tr>\n",
       "      <th>4</th>\n",
       "      <td>5.0</td>\n",
       "      <td>3.6</td>\n",
       "      <td>1.4</td>\n",
       "      <td>0.2</td>\n",
       "      <td>setosa</td>\n",
       "    </tr>\n",
       "    <tr>\n",
       "      <th>...</th>\n",
       "      <td>...</td>\n",
       "      <td>...</td>\n",
       "      <td>...</td>\n",
       "      <td>...</td>\n",
       "      <td>...</td>\n",
       "    </tr>\n",
       "    <tr>\n",
       "      <th>145</th>\n",
       "      <td>6.7</td>\n",
       "      <td>3.0</td>\n",
       "      <td>5.2</td>\n",
       "      <td>2.3</td>\n",
       "      <td>virginica</td>\n",
       "    </tr>\n",
       "    <tr>\n",
       "      <th>146</th>\n",
       "      <td>6.3</td>\n",
       "      <td>2.5</td>\n",
       "      <td>5.0</td>\n",
       "      <td>1.9</td>\n",
       "      <td>virginica</td>\n",
       "    </tr>\n",
       "    <tr>\n",
       "      <th>147</th>\n",
       "      <td>6.5</td>\n",
       "      <td>3.0</td>\n",
       "      <td>5.2</td>\n",
       "      <td>2.0</td>\n",
       "      <td>virginica</td>\n",
       "    </tr>\n",
       "    <tr>\n",
       "      <th>148</th>\n",
       "      <td>6.2</td>\n",
       "      <td>3.4</td>\n",
       "      <td>5.4</td>\n",
       "      <td>2.3</td>\n",
       "      <td>virginica</td>\n",
       "    </tr>\n",
       "    <tr>\n",
       "      <th>149</th>\n",
       "      <td>5.9</td>\n",
       "      <td>3.0</td>\n",
       "      <td>5.1</td>\n",
       "      <td>1.8</td>\n",
       "      <td>virginica</td>\n",
       "    </tr>\n",
       "  </tbody>\n",
       "</table>\n",
       "<p>150 rows × 5 columns</p>\n",
       "</div>"
      ],
      "text/plain": [
       "     sepal_length  sepal_width  petal_length  petal_width    species\n",
       "0             5.1          3.5           1.4          0.2     setosa\n",
       "1             4.9          3.0           1.4          0.2     setosa\n",
       "2             4.7          3.2           1.3          0.2     setosa\n",
       "3             4.6          3.1           1.5          0.2     setosa\n",
       "4             5.0          3.6           1.4          0.2     setosa\n",
       "..            ...          ...           ...          ...        ...\n",
       "145           6.7          3.0           5.2          2.3  virginica\n",
       "146           6.3          2.5           5.0          1.9  virginica\n",
       "147           6.5          3.0           5.2          2.0  virginica\n",
       "148           6.2          3.4           5.4          2.3  virginica\n",
       "149           5.9          3.0           5.1          1.8  virginica\n",
       "\n",
       "[150 rows x 5 columns]"
      ]
     },
     "execution_count": 2,
     "metadata": {},
     "output_type": "execute_result"
    }
   ],
   "source": [
    "# Carregando os dados do seaborn\n",
    "iris = sns.load_dataset('iris')\n",
    "iris"
   ]
  },
  {
   "cell_type": "code",
   "execution_count": 3,
   "id": "665ee3c2",
   "metadata": {},
   "outputs": [
    {
     "data": {
      "text/html": [
       "<div>\n",
       "<style scoped>\n",
       "    .dataframe tbody tr th:only-of-type {\n",
       "        vertical-align: middle;\n",
       "    }\n",
       "\n",
       "    .dataframe tbody tr th {\n",
       "        vertical-align: top;\n",
       "    }\n",
       "\n",
       "    .dataframe thead th {\n",
       "        text-align: right;\n",
       "    }\n",
       "</style>\n",
       "<table border=\"1\" class=\"dataframe\">\n",
       "  <thead>\n",
       "    <tr style=\"text-align: right;\">\n",
       "      <th></th>\n",
       "      <th>sepal_length</th>\n",
       "      <th>sepal_width</th>\n",
       "      <th>petal_length</th>\n",
       "      <th>petal_width</th>\n",
       "      <th>species</th>\n",
       "    </tr>\n",
       "  </thead>\n",
       "  <tbody>\n",
       "    <tr>\n",
       "      <th>50</th>\n",
       "      <td>7.0</td>\n",
       "      <td>3.2</td>\n",
       "      <td>4.7</td>\n",
       "      <td>1.4</td>\n",
       "      <td>versicolor</td>\n",
       "    </tr>\n",
       "    <tr>\n",
       "      <th>51</th>\n",
       "      <td>6.4</td>\n",
       "      <td>3.2</td>\n",
       "      <td>4.5</td>\n",
       "      <td>1.5</td>\n",
       "      <td>versicolor</td>\n",
       "    </tr>\n",
       "    <tr>\n",
       "      <th>52</th>\n",
       "      <td>6.9</td>\n",
       "      <td>3.1</td>\n",
       "      <td>4.9</td>\n",
       "      <td>1.5</td>\n",
       "      <td>versicolor</td>\n",
       "    </tr>\n",
       "    <tr>\n",
       "      <th>53</th>\n",
       "      <td>5.5</td>\n",
       "      <td>2.3</td>\n",
       "      <td>4.0</td>\n",
       "      <td>1.3</td>\n",
       "      <td>versicolor</td>\n",
       "    </tr>\n",
       "    <tr>\n",
       "      <th>54</th>\n",
       "      <td>6.5</td>\n",
       "      <td>2.8</td>\n",
       "      <td>4.6</td>\n",
       "      <td>1.5</td>\n",
       "      <td>versicolor</td>\n",
       "    </tr>\n",
       "    <tr>\n",
       "      <th>...</th>\n",
       "      <td>...</td>\n",
       "      <td>...</td>\n",
       "      <td>...</td>\n",
       "      <td>...</td>\n",
       "      <td>...</td>\n",
       "    </tr>\n",
       "    <tr>\n",
       "      <th>145</th>\n",
       "      <td>6.7</td>\n",
       "      <td>3.0</td>\n",
       "      <td>5.2</td>\n",
       "      <td>2.3</td>\n",
       "      <td>virginica</td>\n",
       "    </tr>\n",
       "    <tr>\n",
       "      <th>146</th>\n",
       "      <td>6.3</td>\n",
       "      <td>2.5</td>\n",
       "      <td>5.0</td>\n",
       "      <td>1.9</td>\n",
       "      <td>virginica</td>\n",
       "    </tr>\n",
       "    <tr>\n",
       "      <th>147</th>\n",
       "      <td>6.5</td>\n",
       "      <td>3.0</td>\n",
       "      <td>5.2</td>\n",
       "      <td>2.0</td>\n",
       "      <td>virginica</td>\n",
       "    </tr>\n",
       "    <tr>\n",
       "      <th>148</th>\n",
       "      <td>6.2</td>\n",
       "      <td>3.4</td>\n",
       "      <td>5.4</td>\n",
       "      <td>2.3</td>\n",
       "      <td>virginica</td>\n",
       "    </tr>\n",
       "    <tr>\n",
       "      <th>149</th>\n",
       "      <td>5.9</td>\n",
       "      <td>3.0</td>\n",
       "      <td>5.1</td>\n",
       "      <td>1.8</td>\n",
       "      <td>virginica</td>\n",
       "    </tr>\n",
       "  </tbody>\n",
       "</table>\n",
       "<p>100 rows × 5 columns</p>\n",
       "</div>"
      ],
      "text/plain": [
       "     sepal_length  sepal_width  petal_length  petal_width     species\n",
       "50            7.0          3.2           4.7          1.4  versicolor\n",
       "51            6.4          3.2           4.5          1.5  versicolor\n",
       "52            6.9          3.1           4.9          1.5  versicolor\n",
       "53            5.5          2.3           4.0          1.3  versicolor\n",
       "54            6.5          2.8           4.6          1.5  versicolor\n",
       "..            ...          ...           ...          ...         ...\n",
       "145           6.7          3.0           5.2          2.3   virginica\n",
       "146           6.3          2.5           5.0          1.9   virginica\n",
       "147           6.5          3.0           5.2          2.0   virginica\n",
       "148           6.2          3.4           5.4          2.3   virginica\n",
       "149           5.9          3.0           5.1          1.8   virginica\n",
       "\n",
       "[100 rows x 5 columns]"
      ]
     },
     "execution_count": 3,
     "metadata": {},
     "output_type": "execute_result"
    }
   ],
   "source": [
    "iris = iris[iris['species'] != 'setosa']\n",
    "iris"
   ]
  },
  {
   "cell_type": "code",
   "execution_count": 4,
   "id": "d0014b9d",
   "metadata": {},
   "outputs": [
    {
     "data": {
      "text/plain": [
       "array([-1, -1, -1, -1, -1, -1, -1, -1, -1, -1, -1, -1, -1, -1, -1, -1, -1,\n",
       "       -1, -1, -1, -1, -1, -1, -1, -1, -1, -1, -1, -1, -1, -1, -1, -1, -1,\n",
       "       -1, -1, -1, -1, -1, -1, -1, -1, -1, -1, -1, -1, -1, -1, -1, -1,  1,\n",
       "        1,  1,  1,  1,  1,  1,  1,  1,  1,  1,  1,  1,  1,  1,  1,  1,  1,\n",
       "        1,  1,  1,  1,  1,  1,  1,  1,  1,  1,  1,  1,  1,  1,  1,  1,  1,\n",
       "        1,  1,  1,  1,  1,  1,  1,  1,  1,  1,  1,  1,  1,  1,  1])"
      ]
     },
     "execution_count": 4,
     "metadata": {},
     "output_type": "execute_result"
    }
   ],
   "source": [
    "# Criando a target\n",
    "y = iris['species'].values\n",
    "y = np.where(y == 'virginica', 1, -1)\n",
    "y"
   ]
  },
  {
   "cell_type": "code",
   "execution_count": 5,
   "id": "6e969b74",
   "metadata": {
    "scrolled": true
   },
   "outputs": [
    {
     "data": {
      "image/png": "[encoded data removed]",
      "text/plain": [
       "<Figure size 432x288 with 1 Axes>"
      ]
     },
     "metadata": {
      "needs_background": "light"
     },
     "output_type": "display_data"
    }
   ],
   "source": [
    "# Plot dos dados utilizando apenas a sepal_legnth, petal_length\n",
    "plt.scatter(iris[iris['species'] == 'virginica']['sepal_length'], \n",
    "            iris[iris['species'] == 'virginica']['petal_length'],\n",
    "            color = 'green',\n",
    "            marker = 'o',\n",
    "            label = 'virginica')\n",
    "\n",
    "plt.scatter(iris[iris['species'] == 'versicolor']['sepal_length'], \n",
    "            iris[iris['species'] == 'versicolor']['petal_length'],\n",
    "            color = 'red',\n",
    "            marker = 'x',\n",
    "            label = 'versicolor')\n",
    "\n",
    "plt.xlabel('Sepal Length')\n",
    "plt.ylabel('Petal Length')\n",
    "\n",
    "plt.legend()\n",
    "plt.show()"
   ]
  },
  {
   "cell_type": "code",
   "execution_count": 6,
   "id": "47b4f2b6",
   "metadata": {},
   "outputs": [
    {
     "data": {
      "text/plain": [
       "array([[7. , 4.7],\n",
       "       [6.4, 4.5],\n",
       "       [6.9, 4.9],\n",
       "       [5.5, 4. ],\n",
       "       [6.5, 4.6],\n",
       "       [5.7, 4.5],\n",
       "       [6.3, 4.7],\n",
       "       [4.9, 3.3],\n",
       "       [6.6, 4.6],\n",
       "       [5.2, 3.9],\n",
       "       [5. , 3.5],\n",
       "       [5.9, 4.2],\n",
       "       [6. , 4. ],\n",
       "       [6.1, 4.7],\n",
       "       [5.6, 3.6],\n",
       "       [6.7, 4.4],\n",
       "       [5.6, 4.5],\n",
       "       [5.8, 4.1],\n",
       "       [6.2, 4.5],\n",
       "       [5.6, 3.9],\n",
       "       [5.9, 4.8],\n",
       "       [6.1, 4. ],\n",
       "       [6.3, 4.9],\n",
       "       [6.1, 4.7],\n",
       "       [6.4, 4.3],\n",
       "       [6.6, 4.4],\n",
       "       [6.8, 4.8],\n",
       "       [6.7, 5. ],\n",
       "       [6. , 4.5],\n",
       "       [5.7, 3.5],\n",
       "       [5.5, 3.8],\n",
       "       [5.5, 3.7],\n",
       "       [5.8, 3.9],\n",
       "       [6. , 5.1],\n",
       "       [5.4, 4.5],\n",
       "       [6. , 4.5],\n",
       "       [6.7, 4.7],\n",
       "       [6.3, 4.4],\n",
       "       [5.6, 4.1],\n",
       "       [5.5, 4. ],\n",
       "       [5.5, 4.4],\n",
       "       [6.1, 4.6],\n",
       "       [5.8, 4. ],\n",
       "       [5. , 3.3],\n",
       "       [5.6, 4.2],\n",
       "       [5.7, 4.2],\n",
       "       [5.7, 4.2],\n",
       "       [6.2, 4.3],\n",
       "       [5.1, 3. ],\n",
       "       [5.7, 4.1],\n",
       "       [6.3, 6. ],\n",
       "       [5.8, 5.1],\n",
       "       [7.1, 5.9],\n",
       "       [6.3, 5.6],\n",
       "       [6.5, 5.8],\n",
       "       [7.6, 6.6],\n",
       "       [4.9, 4.5],\n",
       "       [7.3, 6.3],\n",
       "       [6.7, 5.8],\n",
       "       [7.2, 6.1],\n",
       "       [6.5, 5.1],\n",
       "       [6.4, 5.3],\n",
       "       [6.8, 5.5],\n",
       "       [5.7, 5. ],\n",
       "       [5.8, 5.1],\n",
       "       [6.4, 5.3],\n",
       "       [6.5, 5.5],\n",
       "       [7.7, 6.7],\n",
       "       [7.7, 6.9],\n",
       "       [6. , 5. ],\n",
       "       [6.9, 5.7],\n",
       "       [5.6, 4.9],\n",
       "       [7.7, 6.7],\n",
       "       [6.3, 4.9],\n",
       "       [6.7, 5.7],\n",
       "       [7.2, 6. ],\n",
       "       [6.2, 4.8],\n",
       "       [6.1, 4.9],\n",
       "       [6.4, 5.6],\n",
       "       [7.2, 5.8],\n",
       "       [7.4, 6.1],\n",
       "       [7.9, 6.4],\n",
       "       [6.4, 5.6],\n",
       "       [6.3, 5.1],\n",
       "       [6.1, 5.6],\n",
       "       [7.7, 6.1],\n",
       "       [6.3, 5.6],\n",
       "       [6.4, 5.5],\n",
       "       [6. , 4.8],\n",
       "       [6.9, 5.4],\n",
       "       [6.7, 5.6],\n",
       "       [6.9, 5.1],\n",
       "       [5.8, 5.1],\n",
       "       [6.8, 5.9],\n",
       "       [6.7, 5.7],\n",
       "       [6.7, 5.2],\n",
       "       [6.3, 5. ],\n",
       "       [6.5, 5.2],\n",
       "       [6.2, 5.4],\n",
       "       [5.9, 5.1]])"
      ]
     },
     "execution_count": 6,
     "metadata": {},
     "output_type": "execute_result"
    }
   ],
   "source": [
    "# Separando só as duas variaveis para o modelo\n",
    "X = iris[['sepal_length', 'petal_length']].values\n",
    "X"
   ]
  },
  {
   "cell_type": "code",
   "execution_count": 7,
   "id": "6a34081a",
   "metadata": {},
   "outputs": [],
   "source": [
    "from sklearn.linear_model import Perceptron"
   ]
  },
  {
   "cell_type": "code",
   "execution_count": 8,
   "id": "908a5de6",
   "metadata": {},
   "outputs": [],
   "source": [
    "# instancia o modelo\n",
    "model = Perceptron()"
   ]
  },
  {
   "cell_type": "code",
   "execution_count": 9,
   "id": "b92d98b0",
   "metadata": {},
   "outputs": [
    {
     "data": {
      "text/plain": [
       "Perceptron()"
      ]
     },
     "execution_count": 9,
     "metadata": {},
     "output_type": "execute_result"
    }
   ],
   "source": [
    "model.fit(X, y)"
   ]
  },
  {
   "cell_type": "code",
   "execution_count": 10,
   "id": "1d7f42ef",
   "metadata": {},
   "outputs": [],
   "source": [
    "# Carrega a função plot_decision_regions\n",
    "from mlxtend.plotting import plot_decision_regions"
   ]
  },
  {
   "cell_type": "code",
   "execution_count": 11,
   "id": "205b5db9",
   "metadata": {},
   "outputs": [
    {
     "data": {
      "image/png": "[encoded data removed]",
      "text/plain": [
       "<Figure size 432x288 with 1 Axes>"
      ]
     },
     "metadata": {
      "needs_background": "light"
     },
     "output_type": "display_data"
    }
   ],
   "source": [
    "# Plot da região de separação\n",
    "plot_decision_regions(X, \n",
    "                      y, \n",
    "                      clf = model, \n",
    "                      legend = 2)\n",
    "plt.xlabel('Sepal Length')\n",
    "plt.ylabel('Petal Length')\n",
    "plt.title('Região de Separação - Perceptron')\n",
    "plt.legend()\n",
    "plt.show()"
   ]
  },
  {
   "cell_type": "markdown",
   "id": "c1fbd1c4",
   "metadata": {},
   "source": [
    "Usando só as larguras de pétala e sépala:"
   ]
  },
  {
   "cell_type": "code",
   "execution_count": 12,
   "id": "2a32844c",
   "metadata": {},
   "outputs": [
    {
     "data": {
      "image/png": "[encoded data removed]",
      "text/plain": [
       "<Figure size 432x288 with 1 Axes>"
      ]
     },
     "metadata": {
      "needs_background": "light"
     },
     "output_type": "display_data"
    }
   ],
   "source": [
    "# Plot dos dados utilizando apenas a sepal_legnth, petal_length\n",
    "plt.scatter(iris[iris['species'] == 'virginica']['sepal_width'], \n",
    "            iris[iris['species'] == 'virginica']['petal_width'],\n",
    "            color = 'green',\n",
    "            marker = 'o',\n",
    "            label = 'virginica')\n",
    "\n",
    "plt.scatter(iris[iris['species'] == 'versicolor']['sepal_width'], \n",
    "            iris[iris['species'] == 'versicolor']['petal_width'],\n",
    "            color = 'red',\n",
    "            marker = 'x',\n",
    "            label = 'versicolor')\n",
    "\n",
    "plt.xlabel('Sepal Width')\n",
    "plt.ylabel('Petal Width')\n",
    "\n",
    "plt.legend()\n",
    "plt.show()"
   ]
  },
  {
   "cell_type": "code",
   "execution_count": 13,
   "id": "d5a90490",
   "metadata": {},
   "outputs": [
    {
     "data": {
      "text/plain": [
       "array([[3.2, 1.4],\n",
       "       [3.2, 1.5],\n",
       "       [3.1, 1.5],\n",
       "       [2.3, 1.3],\n",
       "       [2.8, 1.5],\n",
       "       [2.8, 1.3],\n",
       "       [3.3, 1.6],\n",
       "       [2.4, 1. ],\n",
       "       [2.9, 1.3],\n",
       "       [2.7, 1.4],\n",
       "       [2. , 1. ],\n",
       "       [3. , 1.5],\n",
       "       [2.2, 1. ],\n",
       "       [2.9, 1.4],\n",
       "       [2.9, 1.3],\n",
       "       [3.1, 1.4],\n",
       "       [3. , 1.5],\n",
       "       [2.7, 1. ],\n",
       "       [2.2, 1.5],\n",
       "       [2.5, 1.1],\n",
       "       [3.2, 1.8],\n",
       "       [2.8, 1.3],\n",
       "       [2.5, 1.5],\n",
       "       [2.8, 1.2],\n",
       "       [2.9, 1.3],\n",
       "       [3. , 1.4],\n",
       "       [2.8, 1.4],\n",
       "       [3. , 1.7],\n",
       "       [2.9, 1.5],\n",
       "       [2.6, 1. ],\n",
       "       [2.4, 1.1],\n",
       "       [2.4, 1. ],\n",
       "       [2.7, 1.2],\n",
       "       [2.7, 1.6],\n",
       "       [3. , 1.5],\n",
       "       [3.4, 1.6],\n",
       "       [3.1, 1.5],\n",
       "       [2.3, 1.3],\n",
       "       [3. , 1.3],\n",
       "       [2.5, 1.3],\n",
       "       [2.6, 1.2],\n",
       "       [3. , 1.4],\n",
       "       [2.6, 1.2],\n",
       "       [2.3, 1. ],\n",
       "       [2.7, 1.3],\n",
       "       [3. , 1.2],\n",
       "       [2.9, 1.3],\n",
       "       [2.9, 1.3],\n",
       "       [2.5, 1.1],\n",
       "       [2.8, 1.3],\n",
       "       [3.3, 2.5],\n",
       "       [2.7, 1.9],\n",
       "       [3. , 2.1],\n",
       "       [2.9, 1.8],\n",
       "       [3. , 2.2],\n",
       "       [3. , 2.1],\n",
       "       [2.5, 1.7],\n",
       "       [2.9, 1.8],\n",
       "       [2.5, 1.8],\n",
       "       [3.6, 2.5],\n",
       "       [3.2, 2. ],\n",
       "       [2.7, 1.9],\n",
       "       [3. , 2.1],\n",
       "       [2.5, 2. ],\n",
       "       [2.8, 2.4],\n",
       "       [3.2, 2.3],\n",
       "       [3. , 1.8],\n",
       "       [3.8, 2.2],\n",
       "       [2.6, 2.3],\n",
       "       [2.2, 1.5],\n",
       "       [3.2, 2.3],\n",
       "       [2.8, 2. ],\n",
       "       [2.8, 2. ],\n",
       "       [2.7, 1.8],\n",
       "       [3.3, 2.1],\n",
       "       [3.2, 1.8],\n",
       "       [2.8, 1.8],\n",
       "       [3. , 1.8],\n",
       "       [2.8, 2.1],\n",
       "       [3. , 1.6],\n",
       "       [2.8, 1.9],\n",
       "       [3.8, 2. ],\n",
       "       [2.8, 2.2],\n",
       "       [2.8, 1.5],\n",
       "       [2.6, 1.4],\n",
       "       [3. , 2.3],\n",
       "       [3.4, 2.4],\n",
       "       [3.1, 1.8],\n",
       "       [3. , 1.8],\n",
       "       [3.1, 2.1],\n",
       "       [3.1, 2.4],\n",
       "       [3.1, 2.3],\n",
       "       [2.7, 1.9],\n",
       "       [3.2, 2.3],\n",
       "       [3.3, 2.5],\n",
       "       [3. , 2.3],\n",
       "       [2.5, 1.9],\n",
       "       [3. , 2. ],\n",
       "       [3.4, 2.3],\n",
       "       [3. , 1.8]])"
      ]
     },
     "execution_count": 13,
     "metadata": {},
     "output_type": "execute_result"
    }
   ],
   "source": [
    "# Separando só as duas variaveis para o modelo\n",
    "X = iris[['sepal_width', 'petal_width']].values\n",
    "X"
   ]
  },
  {
   "cell_type": "code",
   "execution_count": 14,
   "id": "b1409eea",
   "metadata": {},
   "outputs": [
    {
     "data": {
      "text/plain": [
       "Perceptron()"
      ]
     },
     "execution_count": 14,
     "metadata": {},
     "output_type": "execute_result"
    }
   ],
   "source": [
    "model.fit(X, y)"
   ]
  },
  {
   "cell_type": "code",
   "execution_count": 15,
   "id": "14e8725f",
   "metadata": {},
   "outputs": [
    {
     "data": {
      "image/png": "[encoded data removed]",
      "text/plain": [
       "<Figure size 432x288 with 1 Axes>"
      ]
     },
     "metadata": {
      "needs_background": "light"
     },
     "output_type": "display_data"
    }
   ],
   "source": [
    "# Plot da região de separação\n",
    "plot_decision_regions(X, \n",
    "                      y, \n",
    "                      clf = model, \n",
    "                      legend = 2)\n",
    "plt.xlabel('Sepal Length')\n",
    "plt.ylabel('Petal Length')\n",
    "plt.title('Região de Separação - Perceptron')\n",
    "plt.legend()\n",
    "plt.show()"
   ]
  },
  {
   "cell_type": "markdown",
   "id": "8650cb18",
   "metadata": {},
   "source": [
    "Usando todas as features:"
   ]
  },
  {
   "cell_type": "code",
   "execution_count": 16,
   "id": "101061f0",
   "metadata": {},
   "outputs": [
    {
     "data": {
      "text/plain": [
       "array([[7. , 3.2, 4.7, 1.4],\n",
       "       [6.4, 3.2, 4.5, 1.5],\n",
       "       [6.9, 3.1, 4.9, 1.5],\n",
       "       [5.5, 2.3, 4. , 1.3],\n",
       "       [6.5, 2.8, 4.6, 1.5],\n",
       "       [5.7, 2.8, 4.5, 1.3],\n",
       "       [6.3, 3.3, 4.7, 1.6],\n",
       "       [4.9, 2.4, 3.3, 1. ],\n",
       "       [6.6, 2.9, 4.6, 1.3],\n",
       "       [5.2, 2.7, 3.9, 1.4],\n",
       "       [5. , 2. , 3.5, 1. ],\n",
       "       [5.9, 3. , 4.2, 1.5],\n",
       "       [6. , 2.2, 4. , 1. ],\n",
       "       [6.1, 2.9, 4.7, 1.4],\n",
       "       [5.6, 2.9, 3.6, 1.3],\n",
       "       [6.7, 3.1, 4.4, 1.4],\n",
       "       [5.6, 3. , 4.5, 1.5],\n",
       "       [5.8, 2.7, 4.1, 1. ],\n",
       "       [6.2, 2.2, 4.5, 1.5],\n",
       "       [5.6, 2.5, 3.9, 1.1],\n",
       "       [5.9, 3.2, 4.8, 1.8],\n",
       "       [6.1, 2.8, 4. , 1.3],\n",
       "       [6.3, 2.5, 4.9, 1.5],\n",
       "       [6.1, 2.8, 4.7, 1.2],\n",
       "       [6.4, 2.9, 4.3, 1.3],\n",
       "       [6.6, 3. , 4.4, 1.4],\n",
       "       [6.8, 2.8, 4.8, 1.4],\n",
       "       [6.7, 3. , 5. , 1.7],\n",
       "       [6. , 2.9, 4.5, 1.5],\n",
       "       [5.7, 2.6, 3.5, 1. ],\n",
       "       [5.5, 2.4, 3.8, 1.1],\n",
       "       [5.5, 2.4, 3.7, 1. ],\n",
       "       [5.8, 2.7, 3.9, 1.2],\n",
       "       [6. , 2.7, 5.1, 1.6],\n",
       "       [5.4, 3. , 4.5, 1.5],\n",
       "       [6. , 3.4, 4.5, 1.6],\n",
       "       [6.7, 3.1, 4.7, 1.5],\n",
       "       [6.3, 2.3, 4.4, 1.3],\n",
       "       [5.6, 3. , 4.1, 1.3],\n",
       "       [5.5, 2.5, 4. , 1.3],\n",
       "       [5.5, 2.6, 4.4, 1.2],\n",
       "       [6.1, 3. , 4.6, 1.4],\n",
       "       [5.8, 2.6, 4. , 1.2],\n",
       "       [5. , 2.3, 3.3, 1. ],\n",
       "       [5.6, 2.7, 4.2, 1.3],\n",
       "       [5.7, 3. , 4.2, 1.2],\n",
       "       [5.7, 2.9, 4.2, 1.3],\n",
       "       [6.2, 2.9, 4.3, 1.3],\n",
       "       [5.1, 2.5, 3. , 1.1],\n",
       "       [5.7, 2.8, 4.1, 1.3],\n",
       "       [6.3, 3.3, 6. , 2.5],\n",
       "       [5.8, 2.7, 5.1, 1.9],\n",
       "       [7.1, 3. , 5.9, 2.1],\n",
       "       [6.3, 2.9, 5.6, 1.8],\n",
       "       [6.5, 3. , 5.8, 2.2],\n",
       "       [7.6, 3. , 6.6, 2.1],\n",
       "       [4.9, 2.5, 4.5, 1.7],\n",
       "       [7.3, 2.9, 6.3, 1.8],\n",
       "       [6.7, 2.5, 5.8, 1.8],\n",
       "       [7.2, 3.6, 6.1, 2.5],\n",
       "       [6.5, 3.2, 5.1, 2. ],\n",
       "       [6.4, 2.7, 5.3, 1.9],\n",
       "       [6.8, 3. , 5.5, 2.1],\n",
       "       [5.7, 2.5, 5. , 2. ],\n",
       "       [5.8, 2.8, 5.1, 2.4],\n",
       "       [6.4, 3.2, 5.3, 2.3],\n",
       "       [6.5, 3. , 5.5, 1.8],\n",
       "       [7.7, 3.8, 6.7, 2.2],\n",
       "       [7.7, 2.6, 6.9, 2.3],\n",
       "       [6. , 2.2, 5. , 1.5],\n",
       "       [6.9, 3.2, 5.7, 2.3],\n",
       "       [5.6, 2.8, 4.9, 2. ],\n",
       "       [7.7, 2.8, 6.7, 2. ],\n",
       "       [6.3, 2.7, 4.9, 1.8],\n",
       "       [6.7, 3.3, 5.7, 2.1],\n",
       "       [7.2, 3.2, 6. , 1.8],\n",
       "       [6.2, 2.8, 4.8, 1.8],\n",
       "       [6.1, 3. , 4.9, 1.8],\n",
       "       [6.4, 2.8, 5.6, 2.1],\n",
       "       [7.2, 3. , 5.8, 1.6],\n",
       "       [7.4, 2.8, 6.1, 1.9],\n",
       "       [7.9, 3.8, 6.4, 2. ],\n",
       "       [6.4, 2.8, 5.6, 2.2],\n",
       "       [6.3, 2.8, 5.1, 1.5],\n",
       "       [6.1, 2.6, 5.6, 1.4],\n",
       "       [7.7, 3. , 6.1, 2.3],\n",
       "       [6.3, 3.4, 5.6, 2.4],\n",
       "       [6.4, 3.1, 5.5, 1.8],\n",
       "       [6. , 3. , 4.8, 1.8],\n",
       "       [6.9, 3.1, 5.4, 2.1],\n",
       "       [6.7, 3.1, 5.6, 2.4],\n",
       "       [6.9, 3.1, 5.1, 2.3],\n",
       "       [5.8, 2.7, 5.1, 1.9],\n",
       "       [6.8, 3.2, 5.9, 2.3],\n",
       "       [6.7, 3.3, 5.7, 2.5],\n",
       "       [6.7, 3. , 5.2, 2.3],\n",
       "       [6.3, 2.5, 5. , 1.9],\n",
       "       [6.5, 3. , 5.2, 2. ],\n",
       "       [6.2, 3.4, 5.4, 2.3],\n",
       "       [5.9, 3. , 5.1, 1.8]])"
      ]
     },
     "execution_count": 16,
     "metadata": {},
     "output_type": "execute_result"
    }
   ],
   "source": [
    "# Separando só as duas variaveis para o modelo\n",
    "X = iris.drop(['species'], axis = 1).values\n",
    "X"
   ]
  },
  {
   "cell_type": "code",
   "execution_count": 17,
   "id": "146f33a5",
   "metadata": {},
   "outputs": [],
   "source": [
    "from sklearn.decomposition import PCA"
   ]
  },
  {
   "cell_type": "code",
   "execution_count": 18,
   "id": "645549f2",
   "metadata": {},
   "outputs": [],
   "source": [
    "pca = PCA(n_components = 2, random_state = 42)"
   ]
  },
  {
   "cell_type": "code",
   "execution_count": 19,
   "id": "14847975",
   "metadata": {},
   "outputs": [
    {
     "data": {
      "text/plain": [
       "array([[ 0.23000653, -0.79246422],\n",
       "       [-0.22029451, -0.34809451],\n",
       "       [ 0.33647186, -0.59107214],\n",
       "       [-1.32483876,  0.08256375],\n",
       "       [-0.16495432, -0.37886184],\n",
       "       [-0.7488377 ,  0.08290714],\n",
       "       [-0.0765287 , -0.15257514],\n",
       "       [-2.2566922 ,  0.13367678],\n",
       "       [-0.15503047, -0.56944577],\n",
       "       [-1.45929372,  0.32094933],\n",
       "       [-2.12706283,  0.13625967],\n",
       "       [-0.75872242, -0.06295759],\n",
       "       [-1.16179666, -0.46149168],\n",
       "       [-0.326812  , -0.10088837],\n",
       "       [-1.45444204, -0.14431826],\n",
       "       [-0.17846718, -0.66198961],\n",
       "       [-0.70281082,  0.26468201],\n",
       "       [-1.10556023, -0.29109728],\n",
       "       [-0.51810088, -0.16700501],\n",
       "       [-1.37055385, -0.14430677],\n",
       "       [-0.17911931,  0.29894794],\n",
       "       [-0.89767568, -0.38729588],\n",
       "       [-0.10934147, -0.11827615],\n",
       "       [-0.40984061, -0.20973662],\n",
       "       [-0.48920197, -0.51777049],\n",
       "       [-0.2527694 , -0.58319028],\n",
       "       [ 0.11839079, -0.59564262],\n",
       "       [ 0.34518521, -0.29127501],\n",
       "       [-0.49885315, -0.03583354],\n",
       "       [-1.62559753, -0.41239929],\n",
       "       [-1.51914525, -0.09885766],\n",
       "       [-1.62562361, -0.18810018],\n",
       "       [-1.18976022, -0.24601313],\n",
       "       [-0.05822937,  0.22603281],\n",
       "       [-0.81411478,  0.41640796],\n",
       "       [-0.37341275,  0.00537698],\n",
       "       [ 0.07658954, -0.50604663],\n",
       "       [-0.58246622, -0.39093916],\n",
       "       [-1.06434591,  0.01949651],\n",
       "       [-1.28753827,  0.07669104],\n",
       "       [-1.0039205 ,  0.15126328],\n",
       "       [-0.38245094, -0.13717495],\n",
       "       [-1.13412128, -0.20972655],\n",
       "       [-2.21969046,  0.06075015],\n",
       "       [-1.04600745,  0.0616558 ],\n",
       "       [-0.96659394, -0.07890854],\n",
       "       [-0.95305499, -0.02007989],\n",
       "       [-0.60050592, -0.36604454],\n",
       "       [-2.31741635, -0.0651439 ],\n",
       "       [-1.04599441, -0.05049376],\n",
       "       [ 1.1789333 ,  0.78400848],\n",
       "       [-0.07296577,  0.54543567],\n",
       "       [ 1.36515247, -0.07100569],\n",
       "       [ 0.58185131,  0.2711069 ],\n",
       "       [ 0.98914061,  0.40671424],\n",
       "       [ 2.16343662, -0.216869  ],\n",
       "       [-1.12124751,  0.92218921],\n",
       "       [ 1.65839535, -0.25407129],\n",
       "       [ 0.87843662,  0.04610086],\n",
       "       [ 1.810041  ,  0.12578285],\n",
       "       [ 0.44203847,  0.05560536],\n",
       "       [ 0.40952446,  0.15695826],\n",
       "       [ 0.90103982,  0.02318234],\n",
       "       [-0.20801823,  0.64971343],\n",
       "       [ 0.1066304 ,  0.82196081],\n",
       "       [ 0.63153241,  0.36584569],\n",
       "       [ 0.63751633,  0.08309437],\n",
       "       [ 2.4747689 , -0.22698029],\n",
       "       [ 2.43173354, -0.06915128],\n",
       "       [-0.25795895,  0.15147206],\n",
       "       [ 1.20694901,  0.1199317 ],\n",
       "       [-0.28200866,  0.68341712],\n",
       "       [ 2.22388811, -0.30940134],\n",
       "       [ 0.02452658,  0.04352804],\n",
       "       [ 1.04991693,  0.1569367 ],\n",
       "       [ 1.43582656, -0.28706805],\n",
       "       [-0.08676434,  0.08310444],\n",
       "       [-0.03082666,  0.18644493],\n",
       "       [ 0.71542061,  0.36585718],\n",
       "       [ 1.18556934, -0.45968039],\n",
       "       [ 1.57900791, -0.33780606],\n",
       "       [ 2.29882694, -0.59054152],\n",
       "       [ 0.74760979,  0.42174948],\n",
       "       [ 0.09518762, -0.06038477],\n",
       "       [ 0.28583989,  0.20807271],\n",
       "       [ 1.91202107, -0.3476985 ],\n",
       "       [ 0.86823764,  0.59177893],\n",
       "       [ 0.60051459,  0.15602099],\n",
       "       [-0.16076781,  0.22895768],\n",
       "       [ 0.90105286, -0.08896721],\n",
       "       [ 1.03489482,  0.29713609],\n",
       "       [ 0.7425637 , -0.07723329],\n",
       "       [-0.07296577,  0.54543567],\n",
       "       [ 1.29987539,  0.26249513],\n",
       "       [ 1.17867367,  0.3805059 ],\n",
       "       [ 0.68689868,  0.11077925],\n",
       "       [ 0.09370446,  0.13864327],\n",
       "       [ 0.47902717,  0.0948283 ],\n",
       "       [ 0.63181811,  0.54504915],\n",
       "       [ 0.00644775,  0.40487133]])"
      ]
     },
     "execution_count": 19,
     "metadata": {},
     "output_type": "execute_result"
    }
   ],
   "source": [
    "X_pca = pca.fit_transform(X)\n",
    "X_pca"
   ]
  },
  {
   "cell_type": "code",
   "execution_count": 20,
   "id": "0e9172db",
   "metadata": {},
   "outputs": [
    {
     "data": {
      "text/plain": [
       "Perceptron()"
      ]
     },
     "execution_count": 20,
     "metadata": {},
     "output_type": "execute_result"
    }
   ],
   "source": [
    "model.fit(X_pca, y)"
   ]
  },
  {
   "cell_type": "code",
   "execution_count": 21,
   "id": "b07abcde",
   "metadata": {},
   "outputs": [
    {
     "data": {
      "text/html": [
       "<div>\n",
       "<style scoped>\n",
       "    .dataframe tbody tr th:only-of-type {\n",
       "        vertical-align: middle;\n",
       "    }\n",
       "\n",
       "    .dataframe tbody tr th {\n",
       "        vertical-align: top;\n",
       "    }\n",
       "\n",
       "    .dataframe thead th {\n",
       "        text-align: right;\n",
       "    }\n",
       "</style>\n",
       "<table border=\"1\" class=\"dataframe\">\n",
       "  <thead>\n",
       "    <tr style=\"text-align: right;\">\n",
       "      <th></th>\n",
       "      <th>x_PCA</th>\n",
       "      <th>y_PCA</th>\n",
       "    </tr>\n",
       "  </thead>\n",
       "  <tbody>\n",
       "    <tr>\n",
       "      <th>0</th>\n",
       "      <td>0.230007</td>\n",
       "      <td>-0.792464</td>\n",
       "    </tr>\n",
       "    <tr>\n",
       "      <th>1</th>\n",
       "      <td>-0.220295</td>\n",
       "      <td>-0.348095</td>\n",
       "    </tr>\n",
       "    <tr>\n",
       "      <th>2</th>\n",
       "      <td>0.336472</td>\n",
       "      <td>-0.591072</td>\n",
       "    </tr>\n",
       "    <tr>\n",
       "      <th>3</th>\n",
       "      <td>-1.324839</td>\n",
       "      <td>0.082564</td>\n",
       "    </tr>\n",
       "    <tr>\n",
       "      <th>4</th>\n",
       "      <td>-0.164954</td>\n",
       "      <td>-0.378862</td>\n",
       "    </tr>\n",
       "    <tr>\n",
       "      <th>...</th>\n",
       "      <td>...</td>\n",
       "      <td>...</td>\n",
       "    </tr>\n",
       "    <tr>\n",
       "      <th>95</th>\n",
       "      <td>0.686899</td>\n",
       "      <td>0.110779</td>\n",
       "    </tr>\n",
       "    <tr>\n",
       "      <th>96</th>\n",
       "      <td>0.093704</td>\n",
       "      <td>0.138643</td>\n",
       "    </tr>\n",
       "    <tr>\n",
       "      <th>97</th>\n",
       "      <td>0.479027</td>\n",
       "      <td>0.094828</td>\n",
       "    </tr>\n",
       "    <tr>\n",
       "      <th>98</th>\n",
       "      <td>0.631818</td>\n",
       "      <td>0.545049</td>\n",
       "    </tr>\n",
       "    <tr>\n",
       "      <th>99</th>\n",
       "      <td>0.006448</td>\n",
       "      <td>0.404871</td>\n",
       "    </tr>\n",
       "  </tbody>\n",
       "</table>\n",
       "<p>100 rows × 2 columns</p>\n",
       "</div>"
      ],
      "text/plain": [
       "       x_PCA     y_PCA\n",
       "0   0.230007 -0.792464\n",
       "1  -0.220295 -0.348095\n",
       "2   0.336472 -0.591072\n",
       "3  -1.324839  0.082564\n",
       "4  -0.164954 -0.378862\n",
       "..       ...       ...\n",
       "95  0.686899  0.110779\n",
       "96  0.093704  0.138643\n",
       "97  0.479027  0.094828\n",
       "98  0.631818  0.545049\n",
       "99  0.006448  0.404871\n",
       "\n",
       "[100 rows x 2 columns]"
      ]
     },
     "execution_count": 21,
     "metadata": {},
     "output_type": "execute_result"
    }
   ],
   "source": [
    "iris_PCA = pd.DataFrame(X_pca, columns = ['x_PCA', 'y_PCA'])\n",
    "iris_PCA"
   ]
  },
  {
   "cell_type": "code",
   "execution_count": 22,
   "id": "3fa7fbba",
   "metadata": {},
   "outputs": [],
   "source": [
    "iris_PCA['species'] = iris['species']\n",
    "iris_PCA['species'].fillna('virginica', inplace = True)"
   ]
  },
  {
   "cell_type": "code",
   "execution_count": 23,
   "id": "30ff7960",
   "metadata": {},
   "outputs": [
    {
     "data": {
      "text/html": [
       "<div>\n",
       "<style scoped>\n",
       "    .dataframe tbody tr th:only-of-type {\n",
       "        vertical-align: middle;\n",
       "    }\n",
       "\n",
       "    .dataframe tbody tr th {\n",
       "        vertical-align: top;\n",
       "    }\n",
       "\n",
       "    .dataframe thead th {\n",
       "        text-align: right;\n",
       "    }\n",
       "</style>\n",
       "<table border=\"1\" class=\"dataframe\">\n",
       "  <thead>\n",
       "    <tr style=\"text-align: right;\">\n",
       "      <th></th>\n",
       "      <th>x_PCA</th>\n",
       "      <th>y_PCA</th>\n",
       "      <th>species</th>\n",
       "    </tr>\n",
       "  </thead>\n",
       "  <tbody>\n",
       "    <tr>\n",
       "      <th>0</th>\n",
       "      <td>0.230007</td>\n",
       "      <td>-0.792464</td>\n",
       "      <td>virginica</td>\n",
       "    </tr>\n",
       "    <tr>\n",
       "      <th>1</th>\n",
       "      <td>-0.220295</td>\n",
       "      <td>-0.348095</td>\n",
       "      <td>virginica</td>\n",
       "    </tr>\n",
       "    <tr>\n",
       "      <th>2</th>\n",
       "      <td>0.336472</td>\n",
       "      <td>-0.591072</td>\n",
       "      <td>virginica</td>\n",
       "    </tr>\n",
       "    <tr>\n",
       "      <th>3</th>\n",
       "      <td>-1.324839</td>\n",
       "      <td>0.082564</td>\n",
       "      <td>virginica</td>\n",
       "    </tr>\n",
       "    <tr>\n",
       "      <th>4</th>\n",
       "      <td>-0.164954</td>\n",
       "      <td>-0.378862</td>\n",
       "      <td>virginica</td>\n",
       "    </tr>\n",
       "    <tr>\n",
       "      <th>...</th>\n",
       "      <td>...</td>\n",
       "      <td>...</td>\n",
       "      <td>...</td>\n",
       "    </tr>\n",
       "    <tr>\n",
       "      <th>95</th>\n",
       "      <td>0.686899</td>\n",
       "      <td>0.110779</td>\n",
       "      <td>versicolor</td>\n",
       "    </tr>\n",
       "    <tr>\n",
       "      <th>96</th>\n",
       "      <td>0.093704</td>\n",
       "      <td>0.138643</td>\n",
       "      <td>versicolor</td>\n",
       "    </tr>\n",
       "    <tr>\n",
       "      <th>97</th>\n",
       "      <td>0.479027</td>\n",
       "      <td>0.094828</td>\n",
       "      <td>versicolor</td>\n",
       "    </tr>\n",
       "    <tr>\n",
       "      <th>98</th>\n",
       "      <td>0.631818</td>\n",
       "      <td>0.545049</td>\n",
       "      <td>versicolor</td>\n",
       "    </tr>\n",
       "    <tr>\n",
       "      <th>99</th>\n",
       "      <td>0.006448</td>\n",
       "      <td>0.404871</td>\n",
       "      <td>versicolor</td>\n",
       "    </tr>\n",
       "  </tbody>\n",
       "</table>\n",
       "<p>100 rows × 3 columns</p>\n",
       "</div>"
      ],
      "text/plain": [
       "       x_PCA     y_PCA     species\n",
       "0   0.230007 -0.792464   virginica\n",
       "1  -0.220295 -0.348095   virginica\n",
       "2   0.336472 -0.591072   virginica\n",
       "3  -1.324839  0.082564   virginica\n",
       "4  -0.164954 -0.378862   virginica\n",
       "..       ...       ...         ...\n",
       "95  0.686899  0.110779  versicolor\n",
       "96  0.093704  0.138643  versicolor\n",
       "97  0.479027  0.094828  versicolor\n",
       "98  0.631818  0.545049  versicolor\n",
       "99  0.006448  0.404871  versicolor\n",
       "\n",
       "[100 rows x 3 columns]"
      ]
     },
     "execution_count": 23,
     "metadata": {},
     "output_type": "execute_result"
    }
   ],
   "source": [
    "iris_PCA"
   ]
  },
  {
   "cell_type": "code",
   "execution_count": 24,
   "id": "56f10fe7",
   "metadata": {},
   "outputs": [
    {
     "data": {
      "text/plain": [
       "virginica     50\n",
       "versicolor    50\n",
       "Name: species, dtype: int64"
      ]
     },
     "execution_count": 24,
     "metadata": {},
     "output_type": "execute_result"
    }
   ],
   "source": [
    "iris_PCA['species'].value_counts()"
   ]
  },
  {
   "cell_type": "code",
   "execution_count": 25,
   "id": "8d728b71",
   "metadata": {},
   "outputs": [
    {
     "data": {
      "image/png": "[encoded data removed]",
      "text/plain": [
       "<Figure size 432x288 with 1 Axes>"
      ]
     },
     "metadata": {
      "needs_background": "light"
     },
     "output_type": "display_data"
    }
   ],
   "source": [
    "# Plot dos dados utilizando apenas a sepal_legnth, petal_length\n",
    "plt.scatter(iris_PCA[iris_PCA['species'] == 'virginica']['x_PCA'], \n",
    "            iris_PCA[iris_PCA['species'] == 'virginica']['y_PCA'],\n",
    "            color = 'green',\n",
    "            marker = 'o',\n",
    "            label = 'virginica')\n",
    "\n",
    "plt.scatter(iris_PCA[iris_PCA['species'] == 'versicolor']['x_PCA'], \n",
    "            iris_PCA[iris_PCA['species'] == 'versicolor']['y_PCA'],\n",
    "            color = 'red',\n",
    "            marker = 'x',\n",
    "            label = 'versicolor')\n",
    "\n",
    "plt.xlabel('x_PCA')\n",
    "plt.ylabel('Py_PCA')\n",
    "\n",
    "plt.legend()\n",
    "plt.show()"
   ]
  },
  {
   "cell_type": "code",
   "execution_count": 26,
   "id": "65820bbb",
   "metadata": {},
   "outputs": [
    {
     "data": {
      "image/png": "[encoded data removed]",
      "text/plain": [
       "<Figure size 432x288 with 1 Axes>"
      ]
     },
     "metadata": {
      "needs_background": "light"
     },
     "output_type": "display_data"
    }
   ],
   "source": [
    "# Plot da região de separação\n",
    "plot_decision_regions(X_pca, \n",
    "                      y, \n",
    "                      clf = model, \n",
    "                      legend = 2)\n",
    "plt.xlabel('x_PCA')\n",
    "plt.ylabel('y_PCA')\n",
    "plt.title('Região de Separação - Perceptron')\n",
    "plt.legend()\n",
    "plt.show()"
   ]
  }
 ],
 "metadata": {
  "kernelspec": {
   "display_name": "Python 3 (ipykernel)",
   "language": "python",
   "name": "python3"
  },
  "language_info": {
   "codemirror_mode": {
    "name": "ipython",
    "version": 3
   },
   "file_extension": ".py",
   "mimetype": "text/x-python",
   "name": "python",
   "nbconvert_exporter": "python",
   "pygments_lexer": "ipython3",
   "version": "3.9.12"
  }
 },
 "nbformat": 4,
 "nbformat_minor": 5
}
