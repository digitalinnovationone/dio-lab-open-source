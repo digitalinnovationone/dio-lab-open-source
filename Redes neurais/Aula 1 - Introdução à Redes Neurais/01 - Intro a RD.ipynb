{
 "cells": [
  {
   "cell_type": "markdown",
   "id": "bc86332b",
   "metadata": {},
   "source": [
    "# Redes Neurais - Conceitos Básicos\n",
    "\n",
    "Nessa aula, iremos tratar dos seguintes conteúdos:\n",
    "- Introdução a Redes Neurais;\n",
    "- Componentes de uma Rede Neural;\n",
    "- Aplicações de Redes Neurais;\n",
    "- Quando utilizar Redes Neurais?;\n",
    "- Diferenças entre Redes Neurais e _Deep Learning_;\n",
    "- Modelando uma Rede Neural - Perceptron;\n",
    "- Implementação em Python;\n",
    "- Exercícios."
   ]
  },
  {
   "cell_type": "markdown",
   "id": "12006384",
   "metadata": {},
   "source": [
    "## "
   ]
  },
  {
   "cell_type": "markdown",
   "id": "6ef63f46",
   "metadata": {},
   "source": [
    "## Introdução"
   ]
  },
  {
   "cell_type": "markdown",
   "id": "ca9ff112",
   "metadata": {},
   "source": [
    "\n",
    "A inspiração para o desenvolvimento de Redes Neurais partiu justamente dos __seres humanos__, somos muito bons em __aprender__ e __reconhecer padrões__. Isto se deve ao nosso __sistema nervoso__, que pode ser entendido como uma __grande rede de neurônios interligados__.\n",
    "\n",
    "<br>\n",
    "\n",
    "<img src=\"https://www.tiopen.com.br/wp-content/uploads/2019/08/rede-neural.jpeg.webp\" width=\"600\" />\n",
    "\n",
    "<br>\n",
    "\n",
    "Um dos objetivos da Inteligência Artificial é __construir sistemas inteligentes__, com __capacidade cognitiva__ similar à dos __humanos__, ou seja, com a mesma capacidade de analisar e reconhecer padrões.Foi assim que começaram a desenvolver as chamadas __Redes Neurais Artificiais (RNAs)__. \n",
    "\n",
    "<br>\n",
    "\n",
    "<img src=\"https://s3-sa-east-1.amazonaws.com/lcpi/fcba5e37-3815-43d7-ad9f-25686c045ee9.png\" width=600>\n",
    "\n",
    "<br>"
   ]
  },
  {
   "cell_type": "markdown",
   "id": "11516c40",
   "metadata": {},
   "source": [
    "## "
   ]
  },
  {
   "cell_type": "markdown",
   "id": "86708f20",
   "metadata": {},
   "source": [
    "## Componentes de uma Redes Neural"
   ]
  },
  {
   "cell_type": "markdown",
   "id": "cd414f43",
   "metadata": {},
   "source": [
    "Uma Rede Neural Artificial é composta pelos seguintes elementos básicos:\n",
    "\n",
    "- **Unidades (ou neurônios)**: são as unidades mínimas de processamento da rede neural, onde as operações matemáticas são realizadas;\n",
    "\n",
    "<br>\n",
    "\n",
    "- **Camadas**: são os conjuntos de neurônios, que podem ser agrupados em 3 tipos de camadas:\n",
    "\n",
    "    - **Camada de entrada (_input layer_)**: é a camada de entrada de dados. O número de unidades nesta camada é igual ao número de atributos (_features_) do modelo;\n",
    "\n",
    "    - **Camadas ocultas (_hidden layers_)**: são as camadas de processamento. O número de camadas ocultas, bem como o número de neurônios em cada uma delas, é variável, dependendo do problema e dos dados. Em geral, a melhor estratégia é experimentar diferentes números de camadas e de neurônios;\n",
    "\n",
    "    - **Camada de saída (_output layer_)**: é a camada que dá a resposta da rede neural, isto é, o valor predito por ela. O número de unidades nesta camada depende do tipo de output desejado, e é o que determina a variável resposta (_target_) do modelo.\n",
    "\n",
    "<br>\n",
    "\t\n",
    "<img src=\"https://www.monolitonimbus.com.br/wp-content/uploads/2017/05/neuronios_rna.gif\" width=\"600\" />\n",
    "\n",
    "<br>\n",
    "\n",
    "Os últimos elementos extremamente importantes para a construção da rede neural são os __pesos__ (atribuído a sigla _W_), que são as conexões que interligam os neurônios de uma camada com a outra. Na ligação entre os neurônios, os pesos fazem justamente o balanço durante as __operações matemáticas__, então a partir dos dados oriundos da camada de entrada, são feitas operações matemáticas ao longo da rede para chegar no final as predições do modelo.\n",
    "\n",
    "<br>"
   ]
  },
  {
   "cell_type": "markdown",
   "id": "43580d23",
   "metadata": {},
   "source": [
    "## Aplicações de Redes Neurais"
   ]
  },
  {
   "cell_type": "markdown",
   "id": "3e2c7cfd",
   "metadata": {},
   "source": [
    "De forma análoga ao modelos de _Machine Learning_ mais tradicionais, as redes neurais podem também ser divididas em 3 tipos de aplicações:\n",
    "\n",
    "<br>\n",
    "\n",
    "- __Aprendizado Supervisionado:__ Recapitulando, aprendizagem supervisionado é quando o modelo têm uma variável resposta (_target_) de referência para treinar e aprender os padrões;\n",
    "\n",
    "- __Aprendizado Não Supervisionado:__, neste caso não existe a resposta de referência e o modelo aprende a partir das características dos dados a respeito de similariedade por exemplo;\n",
    "\n",
    "- __Aprendizado por Reforço:__ é um método de aprendizagem onde o modelo é penalizado pelas respostas incorretas que ele gerar e a partir das penalizações, ele deve se adaptar para fazer melhores predições."
   ]
  },
  {
   "cell_type": "markdown",
   "id": "707f861a",
   "metadata": {},
   "source": [
    "## "
   ]
  },
  {
   "cell_type": "markdown",
   "id": "0ad1527e",
   "metadata": {},
   "source": [
    "## Quando utilizar Redes Neurais?"
   ]
  },
  {
   "cell_type": "markdown",
   "id": "d36d2f0d",
   "metadata": {},
   "source": [
    "No atual cenário de _Big Data_ em que vivemos (há muitos dados em todo o lugar!), os modelos de Redes Neurais e _Deep Learning_ são cada vez mais utilizados!\n",
    "\n",
    "Isto é possível porque a performance destes modelos aumenta conforme mais dados são utilizados, diferentemente dos modelos tradicionais, cuja performance é estabilizada depois de certa quantidade de dados!\n",
    "\n",
    "\n",
    "<img src=\"https://www.sumologic.com/wp-content/uploads/performances_vs_data.png\" width=\"600\" />\n",
    "\n",
    "\n",
    "Então, é de se esperar que os modelos de _Deep Learning_ funcionem melhor nos cenários em que há **muitos dados disponíveis**.\n",
    "\n",
    "No entanto, se houver tempo e recursos computacionais disponíveis, é sempre uma ideia construir também um modelo de _Deep Learning_ juntamente de outros modelos de Machine Learning, e então comparar qual tem melhor performance!"
   ]
  },
  {
   "cell_type": "markdown",
   "id": "68cf82c3",
   "metadata": {},
   "source": [
    "## "
   ]
  },
  {
   "cell_type": "markdown",
   "id": "e414446a",
   "metadata": {},
   "source": [
    "## Diferenças entre Redes Neurais e _Deep Learning_"
   ]
  },
  {
   "cell_type": "markdown",
   "id": "4a592921",
   "metadata": {},
   "source": [
    "De forma geral, uma rede neural é chamada de \"profunda\", se ela tiver mais de uma camada oculta. Neste caso, temos uma **\"Rede Neural Profunda\" (_Deep Neural Network_)**.\n",
    "\n",
    "<img src=\"https://thedatascientist.com/wp-content/uploads/2018/03/simple_neural_network_vs_deep_learning.jpg\" width=500>\n",
    "\n",
    "O termo \"_Deep Learning_\" é utilizado pra se referir a modelos que usam Redes Neurais Profundas, mas este termo engloba também outras **arquiteturas** de redes neurais mais especializadas e complexas, como CNNs e RNNs, que inevitavelmente são \"profundas\", por construção."
   ]
  },
  {
   "cell_type": "markdown",
   "id": "18877e72",
   "metadata": {},
   "source": [
    "## "
   ]
  },
  {
   "cell_type": "markdown",
   "id": "2f63de28",
   "metadata": {},
   "source": [
    "## Modelando uma Rede Neural - Perceptron"
   ]
  },
  {
   "cell_type": "markdown",
   "id": "ff8e4ca7",
   "metadata": {},
   "source": [
    "Vamos começar a trabalhar de fato com Redes Neurais e ao longo do desenvolvimento do modelo, será introduzido alguns conceitos fundamentais para a construção de uma Rede Neural qualquer.\n",
    "\n",
    "O primeiro modelo que iremos utilizar é o __Perceptron__, que pode ser entendido como a concepção mais simples possível de uma Rede Neural, onde vamos utilizar de apenas __um neurônio__. O _Perceptron_ foi criado em 1957 por Frank Rosenblatt e é um algoritmo de classificação que busca uma separação lineares entre as observações de um conjunto de dados, tentando assim predizer para qual classe pertence cada dado.\n",
    "\n",
    "O _Perceptron_ foi claramente inspirado no funcionamento de um neurônio biológico! Conforme podemos comparar na figura abaixo:\n",
    "\n",
    "<br>\n",
    "\n",
    "<img src=\"https://www.ee.co.za/wp-content/uploads/2019/07/Application-of-machine-learning-algorithms-in-boiler-plant-root-cause-analysis-Fig-1.jpg\" width=\"600\">\n",
    "\n",
    "<br><br>\n",
    "\n",
    "### Como funciona o _Perceptron_?\n",
    "\n",
    "<br>\n",
    "\n",
    "O _Perceptron_ irá receber o conjunto de dados ao longo da camada de entrada (_input layer_), lembrando que ela têm a __mesma dimensão da quantidade de atributos disponíveis no conjunto de dados__.\n",
    "\n",
    "<br>\n",
    "\n",
    "<img src=\"https://www.deeplearningbook.com.br/wp-content/uploads/2018/01/neuronio-matematico.png\" width=600>\n",
    "\n",
    "<br>\n",
    "\n",
    "E no processo que interliga os neurônios da camada de entrada com o neurônio do _Perceptron_ em si, será feito um __produto escalar__ com os valores dos respectivos pesos. Ou seja, cada um dos dados de entrada srá multiplicado pelo respectivo peso, assim o modelo pode ponderar os valores de acordo com o tipo de resposta esperado na aprendizagem. Veremos um pouco mais pra frente que o processo de treinamento de uma Rede Neural será justamente __definir os valores dos pesos__.\n",
    "\n",
    "Um termo importante para o desenvolvimento da Rede é o que chamamos de __viés__ (em inglês _bias_), sendo um valor de peso que não está associado a valores de entrada do conjunto de dados. O _bias_ serve um ajuste da rede independente do que acontecer ao longo da rede e ajuda a corrigir problemas como por exemplo _overfitting_.\n",
    "\n",
    "Dessa forma, vamos calcular de acordo com o exemplo da imagem:\n",
    "\n",
    "<br>\n",
    "\n",
    "<img src=\"https://miro.medium.com/max/1400/1*SaQMHTLi4C7MIA4IzjAXJw.png\" width=500>\n",
    "\n",
    "<br>\n",
    "\n",
    "A cálculo do _Perceptron_ será feito da seguinte forma:\n",
    "\n",
    "<br>\n",
    "\n",
    "$$ h = (\\sum x_i w_i) + b  = x_1 w_1 + x_2 w_2 + x_3 w_3 + b = 0,57$$\n",
    "\n",
    "<br>\n",
    "\n",
    "Calculado o valor $h$ de saída do neurônio, o próximo passo seria aplicar uma __função de ativiação__ no resultado.\n",
    "\n",
    "<br>\n",
    "\n",
    "### Função de Ativação\n",
    "\n",
    "<br>\n",
    "\n",
    "Como comentado anteriormente, o principal desafio na determinação de uma Rede Neural é na __definição dos pesos__, pois o comportamento da Rede Neural será bem sensível aos valores de pesos utilizados. Ou seja, se aplicarmos uma pequena diferença em um dos pesos o resultado final da predição pode ser __completamente diferente__.\n",
    "\n",
    "Uma forma de contornar este tipo de problema e transformar a nossa Rede Neural em um modelo funcional é a aplicação de __função de ativação__.\n",
    "\n",
    "<br>\n",
    "\n",
    "<img src=\"https://www.researchgate.net/profile/Auzuir-Alexandria/publication/268740641/figure/fig2/AS:392100567896071@1470495468400/Figura-4-Exemplos-de-funcoes-tipicas-de-ativacao-de-neuronios-a-degrau-b.png\" width=500>\n",
    "\n",
    "<br>\n",
    "\n",
    "A __função de ativação__ é uma transformação matemática não linear, que faz controle do comportamento ao longo do treinamento da Rede Neural. Este tipo de transformação que faz com que uma pequena modificação nos valores de peso não impacte na predição final do modelo e é importante para identificar o __comportamento dos dados__, ou seja, como cada um dos atributos pode estar influenciando na resposta final. Existem diversas funções de ativação (que serão detalhadas e utilziadas ao longo do curso), mas aqui na aplicação do _Perceptron_ vamos nos limitar a utilizada de um função de ativação do __tipo degrau__ (_Step Function_):\n",
    "\n",
    "<br>\n",
    "\n",
    "$$ f(h) = \\left \\{ \\begin{matrix} 1, & \\mbox{se }h \\mbox{>= 0} \\\\ -1, & \\mbox{se }h \\mbox{ < 0} \\end{matrix} \\right. $$\n",
    "\n",
    "<br>\n",
    "\n",
    "No caso do exemplo numérico aplicado anteriormente, têm-se que:\n",
    "\n",
    "<br>\n",
    "\n",
    "$$ f(h) = f(0,57) = 1 $$\n",
    "\n",
    "<br>\n",
    "\n",
    "### Otimização de Pesos e Função de Perda (_Loss Function_)\n",
    "\n",
    "<br>\n",
    "\n",
    "Agora que temos a resposta da predição do modelo, dado que está resposta pode estar correta ou não, como que pode-se ajustar os valores de peso de maneira a conseguir um melhor resultado da rede?\n",
    "\n",
    "Todo o processo de treinamento de uma Rede Neural pode ser dividido em dois trajeto, o __Feed Forward Propagation__ que é basicamente o processo que fizemos até então, recebe os valores de entrada, faz as transformações matemática utilizando os pesos e a função de ativação e obtem a resposta do modelo.\n",
    "\n",
    "O segundo trajeto seria o __Backward Propagation__, onde iremos ajustar os valores dos pesos de acordo com __o erro cometido pelo modelo__. Da mesma forma, existe algumas técnicas de otimiação dos pesos, para o exemplo do _Perceptron_ iremos utilizar uma variação simples da otimização por __gradiente descendente__:\n",
    "\n",
    "<br>\n",
    "\n",
    "$$ w_i = w_i + \\eta (y_i - f(h_i)) x_i $$\n",
    "\n",
    "<br>\n",
    "\n",
    "$$ b = b + \\eta(y_i - f(h_i)) $$\n",
    "\n",
    "<br>\n",
    "\n",
    "Onde o grau de correção que será feito nos pesos está relacionada a __taxa de aprendizagem__ (valor $\\eta$ em inglês _learning rate_). Dessa forma, o processo de modelagem com Redes Neurais se transforma em um processo __iterativo__, onde a cada __época__ (em inglês _epoch_) o modelo ajusta os pesos de forma a minimizar os erros cometidos."
   ]
  },
  {
   "cell_type": "markdown",
   "id": "f4cbf47d",
   "metadata": {},
   "source": [
    "## "
   ]
  },
  {
   "cell_type": "markdown",
   "id": "dd75d998",
   "metadata": {},
   "source": [
    "## Implementação em _Python_"
   ]
  },
  {
   "cell_type": "markdown",
   "id": "10345fdf",
   "metadata": {},
   "source": [
    "Vamos ver duas formas de implementar o _Perceptron_ na prática, sendo elas:\n",
    "\n",
    "<br>\n",
    "\n",
    "- Criando uma __classe__ para o _Perceptron_:"
   ]
  },
  {
   "cell_type": "code",
   "execution_count": 1,
   "id": "84eb2e94",
   "metadata": {},
   "outputs": [],
   "source": [
    "# Principais bibliotecas\n",
    "import pandas as pd\n",
    "import numpy as np\n",
    "import seaborn as sns\n",
    "import matplotlib.pyplot as plt"
   ]
  },
  {
   "cell_type": "code",
   "execution_count": 2,
   "id": "50c2e5ec",
   "metadata": {},
   "outputs": [],
   "source": [
    "# Definindo uma classe para o perceptron\n",
    "class PPN:\n",
    "    # Define o __init__\n",
    "    def __init__(): \n",
    "        \n",
    "        \n",
    "    # Criar fit do modelo\n",
    "    def fit():\n",
    "        \n",
    "            \n",
    "    # Função para a predição\n",
    "    def predict(self, X):\n",
    "\n",
    "    \n",
    "    # Calculo dos produtos escalares + bias\n",
    "    def net_input(self, X):\n",
    "        "
   ]
  },
  {
   "cell_type": "markdown",
   "id": "8af798f1",
   "metadata": {},
   "source": [
    "Vamos aplicar o _Perceptron_ ao _dataset_ `iris`:"
   ]
  },
  {
   "cell_type": "code",
   "execution_count": null,
   "id": "e031409a",
   "metadata": {},
   "outputs": [],
   "source": []
  },
  {
   "cell_type": "code",
   "execution_count": null,
   "id": "a298ae5a",
   "metadata": {},
   "outputs": [],
   "source": []
  },
  {
   "cell_type": "code",
   "execution_count": null,
   "id": "9e0e7a18",
   "metadata": {},
   "outputs": [],
   "source": []
  },
  {
   "cell_type": "code",
   "execution_count": null,
   "id": "8895a46d",
   "metadata": {},
   "outputs": [],
   "source": []
  },
  {
   "cell_type": "code",
   "execution_count": null,
   "id": "2f86faf5",
   "metadata": {},
   "outputs": [],
   "source": []
  },
  {
   "cell_type": "code",
   "execution_count": null,
   "id": "19f77cd2",
   "metadata": {},
   "outputs": [],
   "source": []
  },
  {
   "cell_type": "code",
   "execution_count": null,
   "id": "c768ca87",
   "metadata": {},
   "outputs": [],
   "source": []
  },
  {
   "cell_type": "markdown",
   "id": "6822eb6e",
   "metadata": {},
   "source": [
    "- Utilizando a função diretamente do `scikit-learn`:"
   ]
  },
  {
   "cell_type": "code",
   "execution_count": 13,
   "id": "427304ae",
   "metadata": {},
   "outputs": [],
   "source": [
    "# Carregando o Perceptron\n",
    "from sklearn.linear_model import Perceptron"
   ]
  },
  {
   "cell_type": "code",
   "execution_count": 14,
   "id": "34281c45",
   "metadata": {},
   "outputs": [],
   "source": [
    "from sklearn.datasets import make_classification\n",
    "from sklearn.model_selection import RepeatedStratifiedKFold, cross_val_score"
   ]
  },
  {
   "cell_type": "markdown",
   "id": "63413495",
   "metadata": {},
   "source": [
    "Vamos criar um conjunto de dados genéricos com 10 atributos e 2 classes. Com a função _Perceptron_ do `scikit-learn`, podemos fazer muito mais coisas nativas da própria biblioteca:"
   ]
  },
  {
   "cell_type": "code",
   "execution_count": null,
   "id": "2450f7b5",
   "metadata": {},
   "outputs": [],
   "source": []
  },
  {
   "cell_type": "code",
   "execution_count": null,
   "id": "962977fb",
   "metadata": {},
   "outputs": [],
   "source": []
  },
  {
   "cell_type": "code",
   "execution_count": null,
   "id": "95b5e8c8",
   "metadata": {},
   "outputs": [],
   "source": []
  },
  {
   "cell_type": "code",
   "execution_count": null,
   "id": "945722a2",
   "metadata": {},
   "outputs": [],
   "source": []
  },
  {
   "cell_type": "code",
   "execution_count": null,
   "id": "803709d4",
   "metadata": {},
   "outputs": [],
   "source": []
  },
  {
   "cell_type": "code",
   "execution_count": null,
   "id": "aeb359c0",
   "metadata": {},
   "outputs": [],
   "source": []
  },
  {
   "cell_type": "markdown",
   "id": "0891eda1",
   "metadata": {},
   "source": [
    "## "
   ]
  },
  {
   "cell_type": "markdown",
   "id": "37e7620e",
   "metadata": {},
   "source": [
    "## Exercícios"
   ]
  },
  {
   "cell_type": "markdown",
   "id": "69d7f7af",
   "metadata": {},
   "source": [
    "__1)__ Aplique o _Perceptron_ no _dataset_ `iris` e classifique utilizando a Rede Neural entre flores que são da espécie `virginica` e `versicolor`(mantenha só estas espécies no conjunto de dados). O modelo consegue determinar a região de separação? Para isso façam 3 testes:\n",
    "\n",
    "- utilizando apenas as variáveis `sepal_length` e `petal_length`;\n",
    "\n",
    "- utilizando apenas as variáveis `sepal_width` e `petal_width`;\n",
    "\n",
    "- Utilizando todas as variáveis disponíveis (__Obs.:__ Neste caso para tentar visualizar a região de separação será necessário realizar uma redução de dimensionalidade)."
   ]
  },
  {
   "cell_type": "code",
   "execution_count": null,
   "id": "a1af973f",
   "metadata": {},
   "outputs": [],
   "source": []
  },
  {
   "cell_type": "code",
   "execution_count": null,
   "id": "bfa65911",
   "metadata": {},
   "outputs": [],
   "source": []
  },
  {
   "cell_type": "code",
   "execution_count": null,
   "id": "065096c4",
   "metadata": {},
   "outputs": [],
   "source": []
  },
  {
   "cell_type": "markdown",
   "id": "35ea51be",
   "metadata": {},
   "source": [
    "## "
   ]
  }
 ],
 "metadata": {
  "kernelspec": {
   "display_name": "Python 3 (ipykernel)",
   "language": "python",
   "name": "python3"
  },
  "language_info": {
   "codemirror_mode": {
    "name": "ipython",
    "version": 3
   },
   "file_extension": ".py",
   "mimetype": "text/x-python",
   "name": "python",
   "nbconvert_exporter": "python",
   "pygments_lexer": "ipython3",
   "version": "3.9.12"
  }
 },
 "nbformat": 4,
 "nbformat_minor": 5
}
