{
 "cells": [
  {
   "cell_type": "markdown",
   "metadata": {},
   "source": [
    "# Aula 0 - Introdução, Jupyter e variáveis\n",
    "\n",
    "Na aula de hoje, vamos explorar os seguintes tópicos em Python:\n",
    "\n",
    "- 1) Introdução: Jupyter;\n",
    "- 2) Primeiro programa em Python;\n",
    "- 3) Variáveis.\n",
    "\n",
    "_____________"
   ]
  },
  {
   "cell_type": "markdown",
   "metadata": {},
   "source": [
    "_________\n",
    "_________\n",
    "_________"
   ]
  },
  {
   "cell_type": "markdown",
   "metadata": {},
   "source": [
    "## 1) Introdução: Jupyter Notebook\n",
    "\n",
    "\n",
    "### Instalação do Anaconda:\n",
    "\n",
    "O anaconda é uma distribuição das linguagens Python e R para a computação científica, sendo amplamente utilizada no mundo de Data Science (mas não se restringindo apenas a isso). Para instalá-la, baixe a versão mais recente na [página de downloads](https://www.anaconda.com/distribution/) do site. Essa distribuição já contém grande parte dos módulos (bibliotecas) Python que usaremos em aula.\n",
    "\n",
    "O curso também pode ser seguido instalando cada biblioteca manualmente com o `pip`.\n",
    "\n",
    "### Jupyter\n",
    "\n",
    "Você pode encontrar uma introdução ao Jupyter Notebook [aqui](https://letscode-academy.com/blog/introducao-ao-jupyter-notebook/).\n",
    "\n",
    "### Alguns atalhos\n",
    "\n",
    "Pra usar o Jupyter de forma fluida e rápida, é importante utilizarmos alguns atalhos do teclado.\n",
    "\n",
    "Existem muitos atalhos (eles podem ser consultados no menu acima, em **Help >> Keyboard Shortcuts**), mas os pricipais utilizados são:\n",
    "\n",
    "- CTRL + ENTER ou SHIFT + ENTER: executa a célula;\n",
    "- ESC: deixa a célula em modo de comando (azul);\n",
    "- ESC e depois M: transforma a célula em célula de texto (markdown);\n",
    "- ESC e depois Y: transforma a célula em célula de código;\n",
    "- ESC e depois DD: apaga a célula;\n",
    "- ESC e depois A: (ABOVE) - cria uma célula acima da célula atual;\n",
    "- ESC e depois B: (BELOW) - cria uma célula abaixo da célula atual;"
   ]
  },
  {
   "cell_type": "markdown",
   "metadata": {},
   "source": [
    "## Google Colab\n",
    "\n",
    "Uma alternativa interessante ao Jupyter é o [Google Colab](https://colab.research.google.com/notebooks/welcome.ipynb?hl=pt-BR).\n",
    "\n",
    "O Colab é **essencialmente** um *Notebook*, bem parecido com o Jupyter, mas com a diferença de ser online e integrado às contas Google.\n",
    "\n",
    "Usando o Colab, você utiliza os recursos disponibilizados pelo google (ou seja, recursos na nuvem). Isto pode ser interessante quando houver limitações de hardware! Além disso, muitas bibliotecas já estão instaladas, então você raramente precisa se preocupar em instalar alguma coisa, o que e super prático!\n",
    "\n",
    "Além disso, é possível também utilizar recursos especializados, como GPUs e [TPUs](https://cloud.google.com/tpu). Para saber mais detalhes, [clique aqui!](https://research.google.com/colaboratory/faq.html)"
   ]
  },
  {
   "cell_type": "markdown",
   "metadata": {},
   "source": [
    "_________\n",
    "_________\n",
    "_____________"
   ]
  },
  {
   "cell_type": "markdown",
   "metadata": {},
   "source": [
    "## 2) Primeiro programa em Python\n",
    "\n",
    "Tradicionalmente, o primeiro programa feito em uma nova linguagem de programação consiste em exibir a frase \"Olá, mundo!\" na tela.\n",
    "\n",
    "Vamos fazer isso em Python?\n",
    "\n",
    "Para isso, basta utilizar a função `print()`, e indicar o texto a ser exibido entre aspas: \"Olá, mundo!\""
   ]
  },
  {
   "cell_type": "code",
   "execution_count": 18,
   "metadata": {
    "ExecuteTime": {
     "end_time": "2021-10-18T23:02:43.056905Z",
     "start_time": "2021-10-18T23:02:43.036918Z"
    }
   },
   "outputs": [
    {
     "name": "stdout",
     "output_type": "stream",
     "text": [
      "Olá, mundo\n"
     ]
    }
   ],
   "source": [
    "print(\"Olá, mundo\")"
   ]
  },
  {
   "cell_type": "markdown",
   "metadata": {},
   "source": [
    "Parabéns! Seu primeiro programa em Python foi executado com sucesso!\n",
    "\n",
    "Depois vamos falar melhor sobre o print()."
   ]
  },
  {
   "cell_type": "markdown",
   "metadata": {},
   "source": [
    "_________\n",
    "_________"
   ]
  },
  {
   "cell_type": "markdown",
   "metadata": {},
   "source": [
    "Depois vamos falar melhor sobre operações matemáticas em Python, mas podemos exibir o resultado de algumas operações simples usando a funçao print()\n",
    "\n",
    "Note que as instruções são executadas __na ordem em que aparecem!__"
   ]
  },
  {
   "cell_type": "code",
   "execution_count": 19,
   "metadata": {
    "ExecuteTime": {
     "end_time": "2021-10-18T23:02:43.182834Z",
     "start_time": "2021-10-18T23:02:43.059909Z"
    }
   },
   "outputs": [
    {
     "name": "stdout",
     "output_type": "stream",
     "text": [
      "Olá, mundo\n",
      "3\n",
      "Olá, mundo\n"
     ]
    }
   ],
   "source": [
    "print(\"Olá, mundo\")\n",
    "\n",
    "print(1+2)\n",
    "\n",
    "print(\"Olá, mundo\")"
   ]
  },
  {
   "cell_type": "markdown",
   "metadata": {},
   "source": [
    "O jupyter nos permite também examinar o valor de uma expressão sem a necessidade de usar o print()\n",
    "\n",
    "Mas note que logo abaixo do código, aparece um \"Out[]\", o que não acontece quando usamos a função print()\n",
    "\n",
    "Esse é um jeito de \"espiar\" o output das operações do Python de forma direta!"
   ]
  },
  {
   "cell_type": "code",
   "execution_count": 20,
   "metadata": {
    "ExecuteTime": {
     "end_time": "2021-10-18T23:02:43.277484Z",
     "start_time": "2021-10-18T23:02:43.188831Z"
    }
   },
   "outputs": [
    {
     "data": {
      "text/plain": [
       "3"
      ]
     },
     "execution_count": 20,
     "metadata": {},
     "output_type": "execute_result"
    }
   ],
   "source": [
    "1+2"
   ]
  },
  {
   "cell_type": "markdown",
   "metadata": {},
   "source": [
    "Outra coisa importante é que o Jupyter só permite examinar o valor da **última** expressão no código:"
   ]
  },
  {
   "cell_type": "code",
   "execution_count": 21,
   "metadata": {
    "ExecuteTime": {
     "end_time": "2021-10-18T23:02:43.391401Z",
     "start_time": "2021-10-18T23:02:43.281465Z"
    }
   },
   "outputs": [
    {
     "data": {
      "text/plain": [
       "4"
      ]
     },
     "execution_count": 21,
     "metadata": {},
     "output_type": "execute_result"
    }
   ],
   "source": [
    "20-4\n",
    "\n",
    "1+2\n",
    "\n",
    "2*2"
   ]
  },
  {
   "cell_type": "markdown",
   "metadata": {},
   "source": [
    "_________\n",
    "_________\n",
    "__________"
   ]
  },
  {
   "cell_type": "markdown",
   "metadata": {},
   "source": [
    "## 3) Variáveis\n",
    "\n",
    "Seria legal se pudéssemos **guardar** o valor das operações matemáticas que fizemos acima, não é mesmo?\n",
    "\n",
    "Isso é possível com o uso das **variáveis**, que são um pedacinho da memória onde armazenamos as operações do Python\n",
    "\n",
    "\n",
    "Uma variável pode legar qualquer nome, mas existem algumas regras:\n",
    "\n",
    "- O Python **diferencia** maiúscula de minúscula (ex: \"variavel\" é diferente de \"Variavel\", \"VaRiAvEl\" ou \"VARIAVEL\")\n",
    "    - Dica: melhor usar letras minúsculas pra nomes de variáveis\n",
    "- O nome das variáveis **não** pode ter espaço! Use um underline ao invés de espaço: \"minha_variavel\" ao invés de \"minha variavel\"\n",
    "- É melhor que o nome da variável **não** tenha acento (ex: não usar o nome \"variável\")\n",
    "- Existem algumas palavras reservadas do Python, que **não** podem ser usadas como nome de variável, ex: and, or, if, else, lambda, etc.\n",
    "- Também **não** use nome de funções para variáveis (ex: print)\n",
    "- Dica geral: o nome de variavel fica preto em python!\n",
    "    - Se o nome que você for dar ficar colorido, melhor escolher outro nome!"
   ]
  },
  {
   "cell_type": "markdown",
   "metadata": {},
   "source": [
    "### Criando três variaveis\n",
    "\n",
    "Agora, vamos criar três variáveis para armazenar os calores dos cálculos matemáticos\n",
    "\n",
    "__IMPORTANTE (dica): O sinal \"=\" é lido como \"recebe\", pois o que estamos fazendo é guardando o valor da operação matemática no pedacinho de memória com o nome da variável, então o pedacinho de memória recebe o valor indicado depois do sinal de \"=\"__\n",
    "\n",
    "Ou seja, lemos o código a seguir como:\n",
    "\n",
    "- A variável que demos o nome de \"meu_numero\", **recebe** o valor da operação \"2+3\" (que é 5);\n",
    "- A variável que demos o nome de \"variavel\", **recebe** o valor da operação \"1+1\" (que é 2);\n",
    "- A variável que demos o nome de \"x\", **recebe** o valor da operação \"2*3\" (que é 6);\n",
    "\n",
    "O código a seguir apenas cria as variáveis: note que não há nenhum output!"
   ]
  },
  {
   "cell_type": "code",
   "execution_count": 22,
   "metadata": {
    "ExecuteTime": {
     "end_time": "2021-10-18T23:02:43.512841Z",
     "start_time": "2021-10-18T23:02:43.397397Z"
    }
   },
   "outputs": [],
   "source": [
    "variavel = 42"
   ]
  },
  {
   "cell_type": "code",
   "execution_count": 23,
   "metadata": {
    "ExecuteTime": {
     "end_time": "2021-10-18T23:02:43.622778Z",
     "start_time": "2021-10-18T23:02:43.517839Z"
    }
   },
   "outputs": [
    {
     "name": "stdout",
     "output_type": "stream",
     "text": [
      "42\n"
     ]
    }
   ],
   "source": [
    "print(variavel)"
   ]
  },
  {
   "cell_type": "markdown",
   "metadata": {},
   "source": [
    "Para examinarmos o valor armazenado nas variáveis, podemos, individualmente, \"chamar\" a variável na célula:"
   ]
  },
  {
   "cell_type": "code",
   "execution_count": 24,
   "metadata": {
    "ExecuteTime": {
     "end_time": "2021-10-18T23:02:43.727780Z",
     "start_time": "2021-10-18T23:02:43.632309Z"
    }
   },
   "outputs": [
    {
     "data": {
      "text/plain": [
       "42"
      ]
     },
     "execution_count": 24,
     "metadata": {},
     "output_type": "execute_result"
    }
   ],
   "source": [
    "variavel"
   ]
  },
  {
   "cell_type": "code",
   "execution_count": 25,
   "metadata": {
    "ExecuteTime": {
     "end_time": "2021-10-18T23:02:43.836719Z",
     "start_time": "2021-10-18T23:02:43.732778Z"
    }
   },
   "outputs": [],
   "source": [
    "resultado = 2+2"
   ]
  },
  {
   "cell_type": "code",
   "execution_count": 26,
   "metadata": {
    "ExecuteTime": {
     "end_time": "2021-10-18T23:02:44.012064Z",
     "start_time": "2021-10-18T23:02:43.842715Z"
    }
   },
   "outputs": [
    {
     "data": {
      "text/plain": [
       "4"
      ]
     },
     "execution_count": 26,
     "metadata": {},
     "output_type": "execute_result"
    }
   ],
   "source": [
    "resultado"
   ]
  },
  {
   "cell_type": "code",
   "execution_count": 27,
   "metadata": {
    "ExecuteTime": {
     "end_time": "2021-10-18T23:02:44.076034Z",
     "start_time": "2021-10-18T23:02:44.017066Z"
    }
   },
   "outputs": [],
   "source": [
    "x = variavel * resultado"
   ]
  },
  {
   "cell_type": "code",
   "execution_count": 28,
   "metadata": {
    "ExecuteTime": {
     "end_time": "2021-10-18T23:02:44.180337Z",
     "start_time": "2021-10-18T23:02:44.081028Z"
    }
   },
   "outputs": [
    {
     "data": {
      "text/plain": [
       "168"
      ]
     },
     "execution_count": 28,
     "metadata": {},
     "output_type": "execute_result"
    }
   ],
   "source": [
    "x"
   ]
  },
  {
   "cell_type": "code",
   "execution_count": 29,
   "metadata": {
    "ExecuteTime": {
     "end_time": "2021-10-18T23:02:44.322277Z",
     "start_time": "2021-10-18T23:02:44.183336Z"
    }
   },
   "outputs": [],
   "source": [
    "Resultado = 20"
   ]
  },
  {
   "cell_type": "code",
   "execution_count": 30,
   "metadata": {
    "ExecuteTime": {
     "end_time": "2021-10-18T23:02:44.418751Z",
     "start_time": "2021-10-18T23:02:44.325275Z"
    }
   },
   "outputs": [
    {
     "data": {
      "text/plain": [
       "20"
      ]
     },
     "execution_count": 30,
     "metadata": {},
     "output_type": "execute_result"
    }
   ],
   "source": [
    "Resultado"
   ]
  },
  {
   "cell_type": "code",
   "execution_count": 31,
   "metadata": {
    "ExecuteTime": {
     "end_time": "2021-10-18T23:02:44.494650Z",
     "start_time": "2021-10-18T23:02:44.424695Z"
    }
   },
   "outputs": [
    {
     "data": {
      "text/plain": [
       "4"
      ]
     },
     "execution_count": 31,
     "metadata": {},
     "output_type": "execute_result"
    }
   ],
   "source": [
    "resultado"
   ]
  },
  {
   "cell_type": "markdown",
   "metadata": {},
   "source": [
    "and, or, if, else, elif, lambda, class, def, "
   ]
  },
  {
   "cell_type": "code",
   "execution_count": 32,
   "metadata": {
    "ExecuteTime": {
     "end_time": "2021-10-18T23:02:44.587598Z",
     "start_time": "2021-10-18T23:02:44.501647Z"
    }
   },
   "outputs": [],
   "source": [
    "# and = 4"
   ]
  },
  {
   "cell_type": "markdown",
   "metadata": {},
   "source": [
    "print, input, int, float, str, bool"
   ]
  },
  {
   "cell_type": "code",
   "execution_count": 33,
   "metadata": {
    "ExecuteTime": {
     "end_time": "2021-10-18T23:02:44.667551Z",
     "start_time": "2021-10-18T23:02:44.591596Z"
    }
   },
   "outputs": [],
   "source": [
    "# print = 4"
   ]
  },
  {
   "cell_type": "code",
   "execution_count": 34,
   "metadata": {
    "ExecuteTime": {
     "end_time": "2021-10-18T23:02:44.729497Z",
     "start_time": "2021-10-18T23:02:44.672275Z"
    }
   },
   "outputs": [],
   "source": [
    "# print + 2"
   ]
  },
  {
   "cell_type": "code",
   "execution_count": 35,
   "metadata": {
    "ExecuteTime": {
     "end_time": "2021-10-18T23:02:44.826245Z",
     "start_time": "2021-10-18T23:02:44.734242Z"
    }
   },
   "outputs": [
    {
     "name": "stdout",
     "output_type": "stream",
     "text": [
      "168\n"
     ]
    }
   ],
   "source": [
    "print(x)"
   ]
  },
  {
   "cell_type": "code",
   "execution_count": 36,
   "metadata": {
    "ExecuteTime": {
     "end_time": "2021-10-18T23:02:44.917231Z",
     "start_time": "2021-10-18T23:02:44.835240Z"
    }
   },
   "outputs": [],
   "source": [
    "print_ = 20"
   ]
  },
  {
   "cell_type": "code",
   "execution_count": 37,
   "metadata": {
    "ExecuteTime": {
     "end_time": "2021-10-18T23:02:45.009182Z",
     "start_time": "2021-10-18T23:02:44.923226Z"
    }
   },
   "outputs": [
    {
     "name": "stdout",
     "output_type": "stream",
     "text": [
      "168\n"
     ]
    }
   ],
   "source": [
    "print(x)"
   ]
  },
  {
   "cell_type": "code",
   "execution_count": 38,
   "metadata": {
    "ExecuteTime": {
     "end_time": "2021-10-18T23:02:45.117632Z",
     "start_time": "2021-10-18T23:02:45.016173Z"
    }
   },
   "outputs": [],
   "source": [
    "a = print"
   ]
  },
  {
   "cell_type": "code",
   "execution_count": 39,
   "metadata": {
    "ExecuteTime": {
     "end_time": "2021-10-18T23:02:45.272579Z",
     "start_time": "2021-10-18T23:02:45.126627Z"
    }
   },
   "outputs": [
    {
     "name": "stdout",
     "output_type": "stream",
     "text": [
      "olá mundo\n"
     ]
    }
   ],
   "source": [
    "a(\"olá mundo\")"
   ]
  },
  {
   "cell_type": "code",
   "execution_count": 40,
   "metadata": {
    "ExecuteTime": {
     "end_time": "2021-10-18T23:02:45.396509Z",
     "start_time": "2021-10-18T23:02:45.280575Z"
    }
   },
   "outputs": [
    {
     "name": "stdout",
     "output_type": "stream",
     "text": [
      "Olá mundo\n"
     ]
    }
   ],
   "source": [
    "print(\"Olá mundo\")"
   ]
  },
  {
   "cell_type": "markdown",
   "metadata": {},
   "source": [
    "Se quisermos exibir o valor das 3 variáveis em seguida, podemos usar o print\n",
    "\n",
    "Note que de fato são exibidos os **valores armazenados nas variáveis!!**"
   ]
  },
  {
   "cell_type": "code",
   "execution_count": 52,
   "metadata": {
    "ExecuteTime": {
     "end_time": "2021-10-18T23:07:38.034107Z",
     "start_time": "2021-10-18T23:07:38.024078Z"
    }
   },
   "outputs": [],
   "source": [
    "x = 3\n",
    "y = 4\n",
    "z = 5"
   ]
  },
  {
   "cell_type": "code",
   "execution_count": 53,
   "metadata": {
    "ExecuteTime": {
     "end_time": "2021-10-18T23:07:38.360294Z",
     "start_time": "2021-10-18T23:07:38.343305Z"
    }
   },
   "outputs": [
    {
     "name": "stdout",
     "output_type": "stream",
     "text": [
      "3\n",
      "4\n",
      "5\n"
     ]
    }
   ],
   "source": [
    "print(x)\n",
    "print(y)\n",
    "print(z)"
   ]
  },
  {
   "cell_type": "code",
   "execution_count": 55,
   "metadata": {
    "ExecuteTime": {
     "end_time": "2021-10-18T23:07:44.666558Z",
     "start_time": "2021-10-18T23:07:44.653544Z"
    }
   },
   "outputs": [],
   "source": [
    "x, y, z = 10, 20, 30"
   ]
  },
  {
   "cell_type": "code",
   "execution_count": 56,
   "metadata": {
    "ExecuteTime": {
     "end_time": "2021-10-18T23:07:45.178029Z",
     "start_time": "2021-10-18T23:07:45.170035Z"
    }
   },
   "outputs": [
    {
     "name": "stdout",
     "output_type": "stream",
     "text": [
      "10\n",
      "20\n",
      "30\n"
     ]
    }
   ],
   "source": [
    "print(x)\n",
    "print(y)\n",
    "print(z)"
   ]
  },
  {
   "cell_type": "markdown",
   "metadata": {},
   "source": [
    "Como o próprio nome diz, variáveis podem variar, ou seja, eu posso mudar o valor que tá armazenado na variável.\n",
    "\n",
    "Se, por exemplo, eu quiser que a variável \"x\" passe a receber o valor \"42\", eu faço simplesmente o código a seguir, que é lido como \"a variável x recebe o valor 42\"."
   ]
  },
  {
   "cell_type": "code",
   "execution_count": 57,
   "metadata": {
    "ExecuteTime": {
     "end_time": "2021-10-18T23:08:03.044669Z",
     "start_time": "2021-10-18T23:08:03.036450Z"
    }
   },
   "outputs": [],
   "source": [
    "x = 42"
   ]
  },
  {
   "cell_type": "markdown",
   "metadata": {},
   "source": [
    "Após fazer isso, o valor anterior (6), é completamente esquecido, e a variável x agora tem apenas o valor 42.\n",
    "\n",
    "Chamando a variável:"
   ]
  },
  {
   "cell_type": "code",
   "execution_count": 58,
   "metadata": {
    "ExecuteTime": {
     "end_time": "2021-10-18T23:08:53.362725Z",
     "start_time": "2021-10-18T23:08:53.342736Z"
    }
   },
   "outputs": [],
   "source": [
    "x = x + 4"
   ]
  },
  {
   "cell_type": "code",
   "execution_count": 59,
   "metadata": {
    "ExecuteTime": {
     "end_time": "2021-10-18T23:09:08.464494Z",
     "start_time": "2021-10-18T23:09:08.453504Z"
    }
   },
   "outputs": [
    {
     "data": {
      "text/plain": [
       "46"
      ]
     },
     "execution_count": 59,
     "metadata": {},
     "output_type": "execute_result"
    }
   ],
   "source": [
    "x"
   ]
  },
  {
   "cell_type": "markdown",
   "metadata": {},
   "source": [
    "_________\n",
    "_________"
   ]
  }
 ],
 "metadata": {
  "kernelspec": {
   "display_name": "Python 3",
   "language": "python",
   "name": "python3"
  },
  "language_info": {
   "codemirror_mode": {
    "name": "ipython",
    "version": 3
   },
   "file_extension": ".py",
   "mimetype": "text/x-python",
   "name": "python",
   "nbconvert_exporter": "python",
   "pygments_lexer": "ipython3",
   "version": "3.8.3"
  }
 },
 "nbformat": 4,
 "nbformat_minor": 4
}
