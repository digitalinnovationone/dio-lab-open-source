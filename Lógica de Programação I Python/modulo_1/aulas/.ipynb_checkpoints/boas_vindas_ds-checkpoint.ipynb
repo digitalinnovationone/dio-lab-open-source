{
 "cells": [
  {
   "cell_type": "markdown",
   "metadata": {},
   "source": [
    "# Degree Data Science\n",
    "\n",
    "__________\n",
    "\n",
    "Bem-vindos ao curso!\n",
    "\n",
    "Hoje iniciamos nossa jornada no maravilhoso mundo da Ciência de Dados!\n",
    "\n",
    "Neste curso, utilizaremos **Python** para fazer (quase) todas as tarefas!\n",
    "\n",
    "Mas antes de começarmos a programar, vamos nos familiarizar um pouquinho mais com alguns dos termos utilizados na área!"
   ]
  },
  {
   "cell_type": "markdown",
   "metadata": {},
   "source": [
    "____"
   ]
  },
  {
   "cell_type": "markdown",
   "metadata": {},
   "source": [
    "## Data science\n",
    "\n",
    "Como o próprio nome diz, o termo **data science** se refere a um conjunto de técnicas e ferramentas utilizadas para o estudo de **dados**.\n",
    "\n",
    "O mundo é repleto de **dados**...\n",
    "\n",
    "...e os dados **contêm muita informação**...\n",
    "\n",
    "...e informação é vital para todo **negócio**...\n",
    "\n",
    "...para a **tomada de decisão** e **produção de novos insights**!\n",
    "\n",
    "Como fazer isso?\n",
    "\n",
    "__Com as técnicas que aprenderemos aqui! :)__\n",
    "\n",
    "Ciência de dados é uma área interdisciplinar baseada em três pilares, conforme a imagem abaixo:\n",
    "\n",
    "<img src=https://s3.amazonaws.com/uploads.hotmart.com/blog/2018/04/data-science-1.png>"
   ]
  },
  {
   "cell_type": "markdown",
   "metadata": {},
   "source": [
    "___"
   ]
  },
  {
   "cell_type": "markdown",
   "metadata": {},
   "source": [
    "## A jornada de um projeto de Data Science\n",
    "\n",
    "Um projeto de ciência de dados costuma ser dividido, essencialmente, nas seguintes etapas:\n",
    "\n",
    "- 0) Formulação do problema;\n",
    "- 1) Ingestão dos dados;\n",
    "- 2) Preparação dos dados;\n",
    "- 3) Exploração dos dados;\n",
    "- 4) Modelagem;\n",
    "- 5) Apresentação ou deploy;\n",
    "\n",
    "Depois da etapa 0), a mais trabalhosaa (e que provavelmente mais vai levar tempo) são de 2) a 3)!\n",
    "\n",
    "E há quem diga que estas são as etapas mais importantes! **(Garbage in, garabage out!)**"
   ]
  },
  {
   "cell_type": "markdown",
   "metadata": {},
   "source": [
    "<img src=\"https://www.abgconsultoria.com.br/blog/wp-content/uploads/img33-768x242.png\" width=700>"
   ]
  },
  {
   "cell_type": "markdown",
   "metadata": {},
   "source": [
    "<img src=\"https://www.researchgate.net/profile/Eduardo_Garcia_Del_Valle/publication/327612291/figure/fig4/AS:670200676511747@1536799701256/Sequence-of-functional-units-of-a-data-science-pipeline-including-data.ppm\" width=700>"
   ]
  },
  {
   "cell_type": "markdown",
   "metadata": {},
   "source": [
    "<img src=\"https://www.xtivia.com/media/Data_Science_Pipeline.png\" width=700>"
   ]
  },
  {
   "cell_type": "markdown",
   "metadata": {},
   "source": [
    "Neste curso, vocês irão aprender em detalhes como conduzir cada uma destas etapas, sendo capazes de resolver problemas completos, de ponta a ponta, utilizando técnicas de data science!\n",
    "\n",
    "E vamos treinar bastante para que o processo acima aos poucos se torne natural!"
   ]
  },
  {
   "cell_type": "markdown",
   "metadata": {},
   "source": [
    "Como dito acima, os passos até o 3) são talvez os mais importantes da jornada, mas não é incomum que muita gente goste bastante da etapa 4)! Vamos dar uma olhadinha?"
   ]
  },
  {
   "cell_type": "markdown",
   "metadata": {},
   "source": [
    "## Inteligência Artificial\n",
    "\n",
    "É a área que estuda sistemas computacionais **capazes de realizar tarefas que normalmente exigiriam interferência ou ação humana**\n",
    "\n",
    "<img src=\"https://www.researchgate.net/profile/Ma_Louella_Salenga/publication/324183626/figure/fig1/AS:611807588798464@1522877704466/Fields-of-artificial-intelligence-10.png\" width=650>\n",
    "\n",
    "Neste curso, abordaremos as seguintes sub-áreas:\n",
    "\n",
    "<img src=\"https://qph.fs.quoracdn.net/main-qimg-c40865291122af3a2b49cc52f04ef773\">"
   ]
  },
  {
   "cell_type": "markdown",
   "metadata": {},
   "source": [
    "____"
   ]
  },
  {
   "cell_type": "markdown",
   "metadata": {},
   "source": [
    "## Machine Learning\n",
    "\n",
    "A **aprendizagem de máquina** se divide em três grandes áreas:\n",
    "\n",
    "<img src=\"https://i.pinimg.com/originals/67/70/5d/67705d8c7aee0c6b601c16548076e924.png\" width=700>"
   ]
  },
  {
   "cell_type": "markdown",
   "metadata": {},
   "source": [
    "### NLP\n",
    "\n",
    "**Processamento de linguagem natural**\n",
    "\n",
    "<img src=\"https://lh3.googleusercontent.com/proxy/FcHk3_zym-okdu6nvDcFYKzHJkW1KaDhtU2cz34VaLvEHjU3w1TIEOAnz5nz0kW1SwzrA3vqT6XbaAgVykLBPkMAbidA0gg-np5UO1l0vRZGDlh-cF93HC9bXsW9vVsmYab0F2RX\" width=600>\n",
    "\n",
    "### Deep Learning\n",
    "\n",
    "**Redes neurais artificiais profundas**\n",
    "\n",
    "<img src=\"https://www.institutodeengenharia.org.br/site/wp-content/uploads/2019/04/2.png\" width=650>\n",
    "    \n",
    "<br>\n",
    "\n",
    "<img src=\"https://i2.wp.com/semiengineering.com/wp-content/uploads/2018/01/MLvsDL.png?resize=733%2C405&ssl=1\" width=650>\n",
    "\n",
    "<br>\n",
    "\n",
    "<img src=\"https://www.researchgate.net/publication/331540139/figure/fig3/AS:733273504378885@1551837435876/The-performance-of-deep-learning-with-respect-to-the-amount-of-data.ppm\" width=600>"
   ]
  },
  {
   "cell_type": "markdown",
   "metadata": {},
   "source": [
    "____"
   ]
  },
  {
   "cell_type": "markdown",
   "metadata": {},
   "source": [
    "## Em resumo:"
   ]
  },
  {
   "cell_type": "markdown",
   "metadata": {},
   "source": [
    "<img src=\"https://miro.medium.com/max/1000/1*_0A4I9mXjl6H0Qw401qWRg.png\" width=600>"
   ]
  },
  {
   "cell_type": "markdown",
   "metadata": {},
   "source": [
    "____"
   ]
  },
  {
   "cell_type": "markdown",
   "metadata": {},
   "source": [
    "## Alguns exemplos de aplicações\n",
    "\n",
    "Que tipo de problemas podemos resolver com ML?\n",
    "\n",
    "<img src=https://static.javatpoint.com/tutorial/machine-learning/images/applications-of-machine-learning.png width=500>\n",
    "\n"
   ]
  },
  {
   "cell_type": "markdown",
   "metadata": {},
   "source": [
    "## O cientista de dados é um Jedi?\n",
    "\n",
    "<img src=\"https://1onjea25cyhx3uvxgs4vu325-wpengine.netdna-ssl.com/wp-content/uploads/2014/11/Data-Science-Skills-Udacity-Matrix.png\" width=600>"
   ]
  }
 ],
 "metadata": {
  "kernelspec": {
   "display_name": "Python 3",
   "language": "python",
   "name": "python3"
  },
  "language_info": {
   "codemirror_mode": {
    "name": "ipython",
    "version": 3
   },
   "file_extension": ".py",
   "mimetype": "text/x-python",
   "name": "python",
   "nbconvert_exporter": "python",
   "pygments_lexer": "ipython3",
   "version": "3.8.3"
  }
 },
 "nbformat": 4,
 "nbformat_minor": 4
}
