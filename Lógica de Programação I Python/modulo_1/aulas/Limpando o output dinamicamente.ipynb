{
 "cells": [
  {
   "cell_type": "code",
   "execution_count": 5,
   "metadata": {
    "ExecuteTime": {
     "end_time": "2021-11-01T13:35:51.636813Z",
     "start_time": "2021-11-01T13:35:51.626814Z"
    }
   },
   "outputs": [
    {
     "name": "stdout",
     "output_type": "stream",
     "text": [
      "1: Olá, mundo!!\n",
      "2: Olá, mundo!!\n",
      "3: Olá, mundo!!\n",
      "4: Olá, mundo!!\n",
      "5: Olá, mundo!!\n",
      "6: Olá, mundo!!\n",
      "7: Olá, mundo!!\n",
      "8: Olá, mundo!!\n",
      "9: Olá, mundo!!\n",
      "10: Olá, mundo!!\n"
     ]
    }
   ],
   "source": [
    "for i in range(10):\n",
    "    \n",
    "    print(f\"{i+1}: Olá, mundo!!\")"
   ]
  },
  {
   "cell_type": "code",
   "execution_count": 6,
   "metadata": {
    "ExecuteTime": {
     "end_time": "2021-11-01T13:35:53.767915Z",
     "start_time": "2021-11-01T13:35:53.728938Z"
    }
   },
   "outputs": [
    {
     "name": "stdout",
     "output_type": "stream",
     "text": [
      "10: Olá, mundo!!\n"
     ]
    }
   ],
   "source": [
    "from IPython.display import clear_output\n",
    "\n",
    "for i in range(10):\n",
    "    \n",
    "    clear_output(wait=True)\n",
    "    \n",
    "    print(f\"{i+1}: Olá, mundo!!\", flush=True)"
   ]
  }
 ],
 "metadata": {
  "kernelspec": {
   "display_name": "Python 3",
   "language": "python",
   "name": "python3"
  },
  "language_info": {
   "codemirror_mode": {
    "name": "ipython",
    "version": 3
   },
   "file_extension": ".py",
   "mimetype": "text/x-python",
   "name": "python",
   "nbconvert_exporter": "python",
   "pygments_lexer": "ipython3",
   "version": "3.8.3"
  }
 },
 "nbformat": 4,
 "nbformat_minor": 4
}
