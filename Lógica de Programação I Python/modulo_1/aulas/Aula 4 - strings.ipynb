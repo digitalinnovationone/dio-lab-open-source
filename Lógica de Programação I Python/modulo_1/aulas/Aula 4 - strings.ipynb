{
 "cells": [
  {
   "cell_type": "markdown",
   "metadata": {},
   "source": [
    "# Aula 4 - strings\n",
    "\n",
    "Na aula de hoje, vamos explorar os seguintes tópicos em Python:\n",
    "\n",
    "- 1) Strings\n",
    "- 2) Funções de Strings\n",
    "    - 2.1) Formatação de strings\n",
    "_______\n"
   ]
  },
  {
   "cell_type": "markdown",
   "metadata": {},
   "source": [
    "____\n",
    "____\n",
    "____"
   ]
  },
  {
   "cell_type": "markdown",
   "metadata": {},
   "source": [
    "## 1) Strings\n",
    "\n",
    "Desde a primeira aula, temos trabalhado com strings, que, como vimos, representam **dados textuais**\n",
    "\n",
    "Vamos, agora, olhar pra strings um pouco mais a fundo, e aprender algumas funções para trabalharmos com strings"
   ]
  },
  {
   "cell_type": "markdown",
   "metadata": {},
   "source": [
    "Uma string nada mais é do que uma **coleção de caracteres**!\n",
    "\n",
    "Assim, podemos acessar caracteres específicos ou então um intervalo de caracteres de uma string, como se fosse uma lista!\n",
    "\n",
    "**OBS.: Para strings também, o índice começa em 0, e podemos usar índices negativos!**"
   ]
  },
  {
   "cell_type": "code",
   "execution_count": 4,
   "metadata": {
    "ExecuteTime": {
     "end_time": "2021-10-27T23:29:40.872775Z",
     "start_time": "2021-10-27T23:29:40.864782Z"
    }
   },
   "outputs": [
    {
     "data": {
      "text/plain": [
       "['l', 'e', 't', \"'\", 's', ' ', 'c', 'o', 'd', 'e']"
      ]
     },
     "execution_count": 4,
     "metadata": {},
     "output_type": "execute_result"
    }
   ],
   "source": [
    "escola = \"let's code\"\n",
    "\n",
    "list(escola)"
   ]
  },
  {
   "cell_type": "code",
   "execution_count": 5,
   "metadata": {
    "ExecuteTime": {
     "end_time": "2021-10-27T23:29:46.967502Z",
     "start_time": "2021-10-27T23:29:46.953510Z"
    }
   },
   "outputs": [
    {
     "data": {
      "text/plain": [
       "'l'"
      ]
     },
     "execution_count": 5,
     "metadata": {},
     "output_type": "execute_result"
    }
   ],
   "source": [
    "escola[0]"
   ]
  },
  {
   "cell_type": "code",
   "execution_count": 6,
   "metadata": {
    "ExecuteTime": {
     "end_time": "2021-10-27T23:29:58.374861Z",
     "start_time": "2021-10-27T23:29:58.363864Z"
    }
   },
   "outputs": [
    {
     "data": {
      "text/plain": [
       "'d'"
      ]
     },
     "execution_count": 6,
     "metadata": {},
     "output_type": "execute_result"
    }
   ],
   "source": [
    "escola[-2]"
   ]
  },
  {
   "cell_type": "code",
   "execution_count": 7,
   "metadata": {
    "ExecuteTime": {
     "end_time": "2021-10-27T23:30:12.258399Z",
     "start_time": "2021-10-27T23:30:12.248406Z"
    }
   },
   "outputs": [
    {
     "data": {
      "text/plain": [
       "\"'s c\""
      ]
     },
     "execution_count": 7,
     "metadata": {},
     "output_type": "execute_result"
    }
   ],
   "source": [
    "escola[3:7]"
   ]
  },
  {
   "cell_type": "code",
   "execution_count": 8,
   "metadata": {
    "ExecuteTime": {
     "end_time": "2021-10-27T23:30:23.844772Z",
     "start_time": "2021-10-27T23:30:23.825783Z"
    }
   },
   "outputs": [
    {
     "data": {
      "text/plain": [
       "\"edoc s'tel\""
      ]
     },
     "execution_count": 8,
     "metadata": {},
     "output_type": "execute_result"
    }
   ],
   "source": [
    "escola[::-1]"
   ]
  },
  {
   "cell_type": "markdown",
   "metadata": {},
   "source": [
    "Para saber o comprimento de uma string (quantos caracteres ela tem, incluindo espaços e pontuações), use a função len():"
   ]
  },
  {
   "cell_type": "code",
   "execution_count": 9,
   "metadata": {
    "ExecuteTime": {
     "end_time": "2021-10-27T23:30:45.966664Z",
     "start_time": "2021-10-27T23:30:45.946663Z"
    }
   },
   "outputs": [
    {
     "data": {
      "text/plain": [
       "10"
      ]
     },
     "execution_count": 9,
     "metadata": {},
     "output_type": "execute_result"
    }
   ],
   "source": [
    "len(escola)"
   ]
  },
  {
   "cell_type": "markdown",
   "metadata": {},
   "source": [
    "Podemos também percorrer cada caractere da string com o `for` -- strings são objetos **iteráveis**:"
   ]
  },
  {
   "cell_type": "code",
   "execution_count": 10,
   "metadata": {
    "ExecuteTime": {
     "end_time": "2021-10-27T23:31:02.978026Z",
     "start_time": "2021-10-27T23:31:02.959038Z"
    }
   },
   "outputs": [
    {
     "name": "stdout",
     "output_type": "stream",
     "text": [
      "l\n",
      "e\n",
      "t\n",
      "'\n",
      "s\n",
      " \n",
      "c\n",
      "o\n",
      "d\n",
      "e\n"
     ]
    }
   ],
   "source": [
    "for char in escola:\n",
    "    \n",
    "    print(char)"
   ]
  },
  {
   "cell_type": "markdown",
   "metadata": {},
   "source": [
    "Dá pra fazer o mesmo com o range() e o len():"
   ]
  },
  {
   "cell_type": "code",
   "execution_count": 14,
   "metadata": {
    "ExecuteTime": {
     "end_time": "2021-10-27T23:32:49.262508Z",
     "start_time": "2021-10-27T23:32:49.248566Z"
    }
   },
   "outputs": [
    {
     "data": {
      "text/plain": [
       "[0, 1, 2, 3, 4, 5, 6, 7, 8, 9]"
      ]
     },
     "execution_count": 14,
     "metadata": {},
     "output_type": "execute_result"
    }
   ],
   "source": [
    "list(range(len(escola)))"
   ]
  },
  {
   "cell_type": "code",
   "execution_count": 13,
   "metadata": {
    "ExecuteTime": {
     "end_time": "2021-10-27T23:31:59.521751Z",
     "start_time": "2021-10-27T23:31:59.513754Z"
    }
   },
   "outputs": [
    {
     "name": "stdout",
     "output_type": "stream",
     "text": [
      "0 l\n",
      "1 e\n",
      "2 t\n",
      "3 '\n",
      "4 s\n",
      "5  \n",
      "6 c\n",
      "7 o\n",
      "8 d\n",
      "9 e\n"
     ]
    }
   ],
   "source": [
    "for i in range(len(escola)):\n",
    "    \n",
    "    print(i, escola[i])"
   ]
  },
  {
   "cell_type": "code",
   "execution_count": 15,
   "metadata": {
    "ExecuteTime": {
     "end_time": "2021-10-27T23:33:10.484395Z",
     "start_time": "2021-10-27T23:33:10.472401Z"
    }
   },
   "outputs": [
    {
     "data": {
      "text/plain": [
       "[(0, 'l'),\n",
       " (1, 'e'),\n",
       " (2, 't'),\n",
       " (3, \"'\"),\n",
       " (4, 's'),\n",
       " (5, ' '),\n",
       " (6, 'c'),\n",
       " (7, 'o'),\n",
       " (8, 'd'),\n",
       " (9, 'e')]"
      ]
     },
     "execution_count": 15,
     "metadata": {},
     "output_type": "execute_result"
    }
   ],
   "source": [
    "list(enumerate(escola))"
   ]
  },
  {
   "cell_type": "code",
   "execution_count": 12,
   "metadata": {
    "ExecuteTime": {
     "end_time": "2021-10-27T23:31:52.733204Z",
     "start_time": "2021-10-27T23:31:52.721209Z"
    }
   },
   "outputs": [
    {
     "name": "stdout",
     "output_type": "stream",
     "text": [
      "0 l\n",
      "1 e\n",
      "2 t\n",
      "3 '\n",
      "4 s\n",
      "5  \n",
      "6 c\n",
      "7 o\n",
      "8 d\n",
      "9 e\n"
     ]
    }
   ],
   "source": [
    "# \"tuple unpacking\"\n",
    "for i, char in enumerate(escola):\n",
    "    \n",
    "    print(i, char)"
   ]
  },
  {
   "cell_type": "markdown",
   "metadata": {},
   "source": [
    "Apesar de se parecer com uma lista, a string não tem exatamente as propriedades de uma lista. Por exemplo, **não podemos alterar** caracteres individualmente:"
   ]
  },
  {
   "cell_type": "code",
   "execution_count": 17,
   "metadata": {
    "ExecuteTime": {
     "end_time": "2021-10-27T23:35:20.422778Z",
     "start_time": "2021-10-27T23:35:20.407791Z"
    }
   },
   "outputs": [
    {
     "name": "stdout",
     "output_type": "stream",
     "text": [
      "[10, 20, 30]\n",
      "[42, 20, 30]\n"
     ]
    }
   ],
   "source": [
    "lista = [10, 20, 30]\n",
    "print(lista)\n",
    "\n",
    "lista[0] = 42\n",
    "print(lista)"
   ]
  },
  {
   "cell_type": "code",
   "execution_count": 18,
   "metadata": {
    "ExecuteTime": {
     "end_time": "2021-10-27T23:35:53.178755Z",
     "start_time": "2021-10-27T23:35:52.741914Z"
    }
   },
   "outputs": [
    {
     "name": "stdout",
     "output_type": "stream",
     "text": [
      "andre\n"
     ]
    },
    {
     "ename": "TypeError",
     "evalue": "'str' object does not support item assignment",
     "output_type": "error",
     "traceback": [
      "\u001b[1;31m---------------------------------------------------------------------------\u001b[0m",
      "\u001b[1;31mTypeError\u001b[0m                                 Traceback (most recent call last)",
      "\u001b[1;32m<ipython-input-18-d4fcc6c84b59>\u001b[0m in \u001b[0;36m<module>\u001b[1;34m\u001b[0m\n\u001b[0;32m      2\u001b[0m \u001b[0mprint\u001b[0m\u001b[1;33m(\u001b[0m\u001b[0mnome\u001b[0m\u001b[1;33m)\u001b[0m\u001b[1;33m\u001b[0m\u001b[1;33m\u001b[0m\u001b[0m\n\u001b[0;32m      3\u001b[0m \u001b[1;33m\u001b[0m\u001b[0m\n\u001b[1;32m----> 4\u001b[1;33m \u001b[0mnome\u001b[0m\u001b[1;33m[\u001b[0m\u001b[1;33m-\u001b[0m\u001b[1;36m1\u001b[0m\u001b[1;33m]\u001b[0m \u001b[1;33m=\u001b[0m \u001b[1;34m\"3\"\u001b[0m\u001b[1;33m\u001b[0m\u001b[1;33m\u001b[0m\u001b[0m\n\u001b[0m",
      "\u001b[1;31mTypeError\u001b[0m: 'str' object does not support item assignment"
     ]
    }
   ],
   "source": [
    "nome = \"andre\"\n",
    "print(nome)\n",
    "\n",
    "nome[-1] = \"3\""
   ]
  },
  {
   "cell_type": "markdown",
   "metadata": {},
   "source": [
    "Mas nós conseguimos **alterar caracteres (ou palavras)** com o método \"replace()\":"
   ]
  },
  {
   "cell_type": "code",
   "execution_count": 19,
   "metadata": {
    "ExecuteTime": {
     "end_time": "2021-10-27T23:36:57.394799Z",
     "start_time": "2021-10-27T23:36:57.385803Z"
    }
   },
   "outputs": [
    {
     "data": {
      "text/plain": [
       "'andr3'"
      ]
     },
     "execution_count": 19,
     "metadata": {},
     "output_type": "execute_result"
    }
   ],
   "source": [
    "nome.replace(\"e\", \"3\")"
   ]
  },
  {
   "cell_type": "code",
   "execution_count": 20,
   "metadata": {
    "ExecuteTime": {
     "end_time": "2021-10-27T23:37:21.994188Z",
     "start_time": "2021-10-27T23:37:21.974200Z"
    }
   },
   "outputs": [
    {
     "data": {
      "text/plain": [
       "'andre'"
      ]
     },
     "execution_count": 20,
     "metadata": {},
     "output_type": "execute_result"
    }
   ],
   "source": [
    "nome"
   ]
  },
  {
   "cell_type": "markdown",
   "metadata": {},
   "source": [
    "Podemos **transformar uma string em uma lista de caracteres**, explicitamente, usando a fução \"list()\""
   ]
  },
  {
   "cell_type": "code",
   "execution_count": 22,
   "metadata": {
    "ExecuteTime": {
     "end_time": "2021-10-27T23:37:48.041854Z",
     "start_time": "2021-10-27T23:37:48.022865Z"
    }
   },
   "outputs": [],
   "source": [
    "nome_list = list(nome)"
   ]
  },
  {
   "cell_type": "markdown",
   "metadata": {},
   "source": [
    "Agora sim, podemos alterar um elemento da lista:"
   ]
  },
  {
   "cell_type": "code",
   "execution_count": 24,
   "metadata": {
    "ExecuteTime": {
     "end_time": "2021-10-27T23:38:01.288458Z",
     "start_time": "2021-10-27T23:38:01.275466Z"
    }
   },
   "outputs": [],
   "source": [
    "nome_list[-1] = \"3\""
   ]
  },
  {
   "cell_type": "code",
   "execution_count": 25,
   "metadata": {
    "ExecuteTime": {
     "end_time": "2021-10-27T23:38:06.709927Z",
     "start_time": "2021-10-27T23:38:06.695418Z"
    }
   },
   "outputs": [
    {
     "data": {
      "text/plain": [
       "['a', 'n', 'd', 'r', '3']"
      ]
     },
     "execution_count": 25,
     "metadata": {},
     "output_type": "execute_result"
    }
   ],
   "source": [
    "nome_list"
   ]
  },
  {
   "cell_type": "markdown",
   "metadata": {},
   "source": [
    "E, pra trasnformar a lista de volta pra string, usamos a função \"join()\":"
   ]
  },
  {
   "cell_type": "code",
   "execution_count": 39,
   "metadata": {
    "ExecuteTime": {
     "end_time": "2021-10-27T23:45:18.710632Z",
     "start_time": "2021-10-27T23:45:18.693644Z"
    }
   },
   "outputs": [
    {
     "data": {
      "text/plain": [
       "'andr3'"
      ]
     },
     "execution_count": 39,
     "metadata": {},
     "output_type": "execute_result"
    }
   ],
   "source": [
    "\"\".join(nome_list)"
   ]
  },
  {
   "cell_type": "code",
   "execution_count": 38,
   "metadata": {
    "ExecuteTime": {
     "end_time": "2021-10-27T23:45:13.768604Z",
     "start_time": "2021-10-27T23:45:13.751613Z"
    }
   },
   "outputs": [
    {
     "data": {
      "text/plain": [
       "'a n d r 3'"
      ]
     },
     "execution_count": 38,
     "metadata": {},
     "output_type": "execute_result"
    }
   ],
   "source": [
    "\" \".join(nome_list)"
   ]
  },
  {
   "cell_type": "code",
   "execution_count": 40,
   "metadata": {
    "ExecuteTime": {
     "end_time": "2021-10-27T23:45:24.563350Z",
     "start_time": "2021-10-27T23:45:24.539365Z"
    }
   },
   "outputs": [
    {
     "data": {
      "text/plain": [
       "'a|n|d|r|3'"
      ]
     },
     "execution_count": 40,
     "metadata": {},
     "output_type": "execute_result"
    }
   ],
   "source": [
    "\"|\".join(nome_list)"
   ]
  },
  {
   "cell_type": "markdown",
   "metadata": {},
   "source": [
    "Um exemplo do uso do .join() pra juntar os números de uma lista em um único numero"
   ]
  },
  {
   "cell_type": "code",
   "execution_count": 57,
   "metadata": {
    "ExecuteTime": {
     "end_time": "2021-10-27T23:58:09.856659Z",
     "start_time": "2021-10-27T23:58:09.844667Z"
    }
   },
   "outputs": [
    {
     "data": {
      "text/plain": [
       "'b4n4na'"
      ]
     },
     "execution_count": 57,
     "metadata": {},
     "output_type": "execute_result"
    }
   ],
   "source": [
    "# pro replace nao alterar todas as aparições\n",
    "\n",
    "fruta = \"banana\"\n",
    "\n",
    "fruta.replace(\"a\", \"4\", 2)"
   ]
  },
  {
   "cell_type": "code",
   "execution_count": 34,
   "metadata": {
    "ExecuteTime": {
     "end_time": "2021-10-27T23:43:34.443353Z",
     "start_time": "2021-10-27T23:43:34.420363Z"
    }
   },
   "outputs": [
    {
     "data": {
      "text/plain": [
       "['banana', 'maçã', 'uva', 'pera']"
      ]
     },
     "execution_count": 34,
     "metadata": {},
     "output_type": "execute_result"
    }
   ],
   "source": [
    "\"banana maçã uva pera\".split()"
   ]
  },
  {
   "cell_type": "code",
   "execution_count": 33,
   "metadata": {
    "ExecuteTime": {
     "end_time": "2021-10-27T23:43:28.171398Z",
     "start_time": "2021-10-27T23:43:28.152405Z"
    }
   },
   "outputs": [
    {
     "data": {
      "text/plain": [
       "['b', 'n', 'n', ' m', 'çã uv', ' per', '']"
      ]
     },
     "execution_count": 33,
     "metadata": {},
     "output_type": "execute_result"
    }
   ],
   "source": [
    "\"banana maçã uva pera\".split(\"a\")"
   ]
  },
  {
   "cell_type": "code",
   "execution_count": 42,
   "metadata": {
    "ExecuteTime": {
     "end_time": "2021-10-27T23:47:27.723314Z",
     "start_time": "2021-10-27T23:47:27.710322Z"
    }
   },
   "outputs": [
    {
     "data": {
      "text/plain": [
       "['banana', 'maçã', 'uva', 'pera']"
      ]
     },
     "execution_count": 42,
     "metadata": {},
     "output_type": "execute_result"
    }
   ],
   "source": [
    "frutas = \"banana maçã uva pera\".split()\n",
    "\n",
    "frutas"
   ]
  },
  {
   "cell_type": "code",
   "execution_count": 44,
   "metadata": {
    "ExecuteTime": {
     "end_time": "2021-10-27T23:48:01.714099Z",
     "start_time": "2021-10-27T23:48:01.695107Z"
    }
   },
   "outputs": [
    {
     "data": {
      "text/plain": [
       "'ã'"
      ]
     },
     "execution_count": 44,
     "metadata": {},
     "output_type": "execute_result"
    }
   ],
   "source": [
    "frutas[1][-1]"
   ]
  },
  {
   "cell_type": "markdown",
   "metadata": {},
   "source": [
    "E se quisermos substituir aparições específicas de um caractere de uma string??"
   ]
  },
  {
   "cell_type": "code",
   "execution_count": 61,
   "metadata": {
    "ExecuteTime": {
     "end_time": "2021-10-27T23:59:53.188097Z",
     "start_time": "2021-10-27T23:59:53.174104Z"
    }
   },
   "outputs": [
    {
     "data": {
      "text/plain": [
       "'b4nan4'"
      ]
     },
     "execution_count": 61,
     "metadata": {},
     "output_type": "execute_result"
    }
   ],
   "source": [
    "fruta = \"banana\"\n",
    "\n",
    "# trasnf string pra lista\n",
    "fruta_list = list(fruta)\n",
    "\n",
    "# altera os caracteres da lista\n",
    "fruta_list[5] = \"4\"\n",
    "fruta_list[1] = \"4\"\n",
    "\n",
    "# transf lista pra string de volta\n",
    "\"\".join(fruta_list)"
   ]
  },
  {
   "cell_type": "code",
   "execution_count": 69,
   "metadata": {
    "ExecuteTime": {
     "end_time": "2021-10-28T00:04:52.740368Z",
     "start_time": "2021-10-28T00:04:52.726375Z"
    }
   },
   "outputs": [
    {
     "data": {
      "text/plain": [
       "'b4nan4'"
      ]
     },
     "execution_count": 69,
     "metadata": {},
     "output_type": "execute_result"
    }
   ],
   "source": [
    "# fazendo o mesmo que acima, mas com list comprehension\n",
    "\n",
    "\"\".join([\"4\" if posicao in [1, 5] else char for posicao, char in enumerate(fruta)])"
   ]
  },
  {
   "cell_type": "code",
   "execution_count": 65,
   "metadata": {
    "ExecuteTime": {
     "end_time": "2021-10-28T00:03:02.013054Z",
     "start_time": "2021-10-28T00:03:02.001060Z"
    }
   },
   "outputs": [
    {
     "data": {
      "text/plain": [
       "[(0, 'b'), (1, 'a'), (2, 'n'), (3, 'a'), (4, 'n'), (5, 'a')]"
      ]
     },
     "execution_count": 65,
     "metadata": {},
     "output_type": "execute_result"
    }
   ],
   "source": [
    "list(enumerate(fruta))"
   ]
  },
  {
   "cell_type": "code",
   "execution_count": 66,
   "metadata": {
    "ExecuteTime": {
     "end_time": "2021-10-28T00:03:11.001195Z",
     "start_time": "2021-10-28T00:03:10.994202Z"
    }
   },
   "outputs": [
    {
     "data": {
      "text/plain": [
       "[(0, 'b'), (1, 'a'), (2, 'n'), (3, 'a'), (4, 'n'), (5, 'a')]"
      ]
     },
     "execution_count": 66,
     "metadata": {},
     "output_type": "execute_result"
    }
   ],
   "source": [
    "list(enumerate(list(fruta)))"
   ]
  },
  {
   "cell_type": "markdown",
   "metadata": {},
   "source": [
    "Como já vimos, podemos fazer **operações com strings**:"
   ]
  },
  {
   "cell_type": "markdown",
   "metadata": {},
   "source": [
    "Soma de strings: ao somar duas strings, elas são concatenadas:"
   ]
  },
  {
   "cell_type": "code",
   "execution_count": 71,
   "metadata": {
    "ExecuteTime": {
     "end_time": "2021-10-28T00:06:14.911687Z",
     "start_time": "2021-10-28T00:06:14.890701Z"
    }
   },
   "outputs": [
    {
     "data": {
      "text/plain": [
       "'lets code'"
      ]
     },
     "execution_count": 71,
     "metadata": {},
     "output_type": "execute_result"
    }
   ],
   "source": [
    "\"lets\" + \" \" + \"code\""
   ]
  },
  {
   "cell_type": "markdown",
   "metadata": {},
   "source": [
    "Multiplicação de string por inteiro: ao multiplicar uma string por um número inteiro, a string é repetida:"
   ]
  },
  {
   "cell_type": "code",
   "execution_count": 72,
   "metadata": {
    "ExecuteTime": {
     "end_time": "2021-10-28T00:06:24.783455Z",
     "start_time": "2021-10-28T00:06:24.772462Z"
    }
   },
   "outputs": [
    {
     "data": {
      "text/plain": [
       "'andreandreandreandreandre'"
      ]
     },
     "execution_count": 72,
     "metadata": {},
     "output_type": "execute_result"
    }
   ],
   "source": [
    "\"andre\"*5"
   ]
  },
  {
   "cell_type": "markdown",
   "metadata": {},
   "source": [
    "__________\n",
    "__________\n",
    "__________"
   ]
  },
  {
   "cell_type": "markdown",
   "metadata": {},
   "source": [
    "## 2) Funções de strings\n",
    "\n",
    "Como listas, strings também têm algumas funções específicas. Algumas delas são:"
   ]
  },
  {
   "cell_type": "code",
   "execution_count": 14,
   "metadata": {
    "ExecuteTime": {
     "end_time": "2021-10-29T22:20:32.772490Z",
     "start_time": "2021-10-29T22:20:32.762496Z"
    }
   },
   "outputs": [],
   "source": [
    "escola = \"lEt's cOde de são paulo\""
   ]
  },
  {
   "cell_type": "code",
   "execution_count": 15,
   "metadata": {
    "ExecuteTime": {
     "end_time": "2021-10-29T22:20:32.988366Z",
     "start_time": "2021-10-29T22:20:32.970376Z"
    }
   },
   "outputs": [
    {
     "data": {
      "text/plain": [
       "\"lEt's cOde de são paulo\""
      ]
     },
     "execution_count": 15,
     "metadata": {},
     "output_type": "execute_result"
    }
   ],
   "source": [
    "escola"
   ]
  },
  {
   "cell_type": "markdown",
   "metadata": {},
   "source": [
    ".upper(): transforma todos os caracteres em maiúscula"
   ]
  },
  {
   "cell_type": "code",
   "execution_count": 16,
   "metadata": {
    "ExecuteTime": {
     "end_time": "2021-10-29T22:20:33.457617Z",
     "start_time": "2021-10-29T22:20:33.439624Z"
    }
   },
   "outputs": [
    {
     "data": {
      "text/plain": [
       "\"LET'S CODE DE SÃO PAULO\""
      ]
     },
     "execution_count": 16,
     "metadata": {},
     "output_type": "execute_result"
    }
   ],
   "source": [
    "escola.upper()"
   ]
  },
  {
   "cell_type": "markdown",
   "metadata": {},
   "source": [
    ".lower(): trasnforma todos os caracteres em minúscula"
   ]
  },
  {
   "cell_type": "code",
   "execution_count": 17,
   "metadata": {
    "ExecuteTime": {
     "end_time": "2021-10-29T22:20:35.033184Z",
     "start_time": "2021-10-29T22:20:35.021191Z"
    }
   },
   "outputs": [
    {
     "data": {
      "text/plain": [
       "\"let's code de são paulo\""
      ]
     },
     "execution_count": 17,
     "metadata": {},
     "output_type": "execute_result"
    }
   ],
   "source": [
    "escola.lower()"
   ]
  },
  {
   "cell_type": "markdown",
   "metadata": {},
   "source": [
    ".title(): deixa a primeira letra de cada palavra em maiúscula"
   ]
  },
  {
   "cell_type": "code",
   "execution_count": 18,
   "metadata": {
    "ExecuteTime": {
     "end_time": "2021-10-29T22:20:37.650687Z",
     "start_time": "2021-10-29T22:20:37.642689Z"
    }
   },
   "outputs": [
    {
     "data": {
      "text/plain": [
       "\"Let'S Code De São Paulo\""
      ]
     },
     "execution_count": 18,
     "metadata": {},
     "output_type": "execute_result"
    }
   ],
   "source": [
    "escola.title()"
   ]
  },
  {
   "cell_type": "markdown",
   "metadata": {},
   "source": [
    ".capitalize(): deixa a primeira letra da primeira palavra em maiúscula"
   ]
  },
  {
   "cell_type": "code",
   "execution_count": 20,
   "metadata": {
    "ExecuteTime": {
     "end_time": "2021-10-29T22:21:15.430351Z",
     "start_time": "2021-10-29T22:21:15.422355Z"
    }
   },
   "outputs": [
    {
     "data": {
      "text/plain": [
       "\"lEt's cOde de são paulo\""
      ]
     },
     "execution_count": 20,
     "metadata": {},
     "output_type": "execute_result"
    }
   ],
   "source": [
    "escola"
   ]
  },
  {
   "cell_type": "code",
   "execution_count": 19,
   "metadata": {
    "ExecuteTime": {
     "end_time": "2021-10-29T22:20:57.071323Z",
     "start_time": "2021-10-29T22:20:57.059330Z"
    }
   },
   "outputs": [
    {
     "data": {
      "text/plain": [
       "\"Let's code de são paulo\""
      ]
     },
     "execution_count": 19,
     "metadata": {},
     "output_type": "execute_result"
    }
   ],
   "source": [
    "escola.capitalize()"
   ]
  },
  {
   "cell_type": "markdown",
   "metadata": {},
   "source": [
    "É possível quebrar uma string em determinado caractere, tendo como resultado uma **lista com os caracteres além da quebra**.\n",
    "\n",
    "- Para quebrar nos espaços, use a função \".split()\", sem argumento"
   ]
  },
  {
   "cell_type": "code",
   "execution_count": 21,
   "metadata": {
    "ExecuteTime": {
     "end_time": "2021-10-29T22:21:53.617043Z",
     "start_time": "2021-10-29T22:21:53.601058Z"
    }
   },
   "outputs": [
    {
     "data": {
      "text/plain": [
       "\"lEt's cOde de são paulo\""
      ]
     },
     "execution_count": 21,
     "metadata": {},
     "output_type": "execute_result"
    }
   ],
   "source": [
    "escola"
   ]
  },
  {
   "cell_type": "code",
   "execution_count": 25,
   "metadata": {
    "ExecuteTime": {
     "end_time": "2021-10-29T22:29:27.401123Z",
     "start_time": "2021-10-29T22:29:27.382129Z"
    }
   },
   "outputs": [
    {
     "data": {
      "text/plain": [
       "[\"lEt's\", 'cOde', 'de', 'são', 'paulo']"
      ]
     },
     "execution_count": 25,
     "metadata": {},
     "output_type": "execute_result"
    }
   ],
   "source": [
    "escola.split()"
   ]
  },
  {
   "cell_type": "code",
   "execution_count": 26,
   "metadata": {
    "ExecuteTime": {
     "end_time": "2021-10-29T22:30:01.074794Z",
     "start_time": "2021-10-29T22:30:01.056807Z"
    }
   },
   "outputs": [
    {
     "data": {
      "text/plain": [
       "['abacaxi', 'uva', 'morango', 'limão', 'abacate']"
      ]
     },
     "execution_count": 26,
     "metadata": {},
     "output_type": "execute_result"
    }
   ],
   "source": [
    "\"abacaxi uva morango limão abacate\".split()"
   ]
  },
  {
   "cell_type": "markdown",
   "metadata": {},
   "source": [
    "- Para quebrar em algum caracter, use o caractere como argumento:"
   ]
  },
  {
   "cell_type": "code",
   "execution_count": 22,
   "metadata": {
    "ExecuteTime": {
     "end_time": "2021-10-29T22:25:00.279139Z",
     "start_time": "2021-10-29T22:25:00.267147Z"
    }
   },
   "outputs": [
    {
     "data": {
      "text/plain": [
       "[\"lEt's cOde de são p\", 'ulo']"
      ]
     },
     "execution_count": 22,
     "metadata": {},
     "output_type": "execute_result"
    }
   ],
   "source": [
    "escola.split(\"a\")"
   ]
  },
  {
   "cell_type": "code",
   "execution_count": 23,
   "metadata": {
    "ExecuteTime": {
     "end_time": "2021-10-29T22:28:28.176225Z",
     "start_time": "2021-10-29T22:28:28.169231Z"
    }
   },
   "outputs": [
    {
     "data": {
      "text/plain": [
       "[\"lEt's cOd\", ' d', ' são paulo']"
      ]
     },
     "execution_count": 23,
     "metadata": {},
     "output_type": "execute_result"
    }
   ],
   "source": [
    "escola.split(\"e\")"
   ]
  },
  {
   "cell_type": "code",
   "execution_count": 27,
   "metadata": {
    "ExecuteTime": {
     "end_time": "2021-10-29T22:32:39.485956Z",
     "start_time": "2021-10-29T22:32:39.460970Z"
    }
   },
   "outputs": [
    {
     "data": {
      "text/plain": [
       "[['l', 'E', 't', \"'\", 's'],\n",
       " ['c', 'O', 'd', 'e'],\n",
       " ['d', 'e'],\n",
       " ['s', 'ã', 'o'],\n",
       " ['p', 'a', 'u', 'l', 'o']]"
      ]
     },
     "execution_count": 27,
     "metadata": {},
     "output_type": "execute_result"
    }
   ],
   "source": [
    "[list(item) for item in escola.split(\" \")]"
   ]
  },
  {
   "cell_type": "markdown",
   "metadata": {},
   "source": [
    "__Tirar espaços que tão sobrando no fim e no início da string__\n",
    "\n",
    "Utilize a função strip()"
   ]
  },
  {
   "cell_type": "code",
   "execution_count": 28,
   "metadata": {
    "ExecuteTime": {
     "end_time": "2021-10-29T22:34:04.776660Z",
     "start_time": "2021-10-29T22:34:04.757670Z"
    }
   },
   "outputs": [],
   "source": [
    "string_bizarra = \"       python    \""
   ]
  },
  {
   "cell_type": "code",
   "execution_count": 29,
   "metadata": {
    "ExecuteTime": {
     "end_time": "2021-10-29T22:34:24.278636Z",
     "start_time": "2021-10-29T22:34:24.270640Z"
    }
   },
   "outputs": [
    {
     "data": {
      "text/plain": [
       "False"
      ]
     },
     "execution_count": 29,
     "metadata": {},
     "output_type": "execute_result"
    }
   ],
   "source": [
    "string_bizarra == \"python\""
   ]
  },
  {
   "cell_type": "code",
   "execution_count": 31,
   "metadata": {
    "ExecuteTime": {
     "end_time": "2021-10-29T22:35:36.622029Z",
     "start_time": "2021-10-29T22:35:36.609028Z"
    }
   },
   "outputs": [
    {
     "data": {
      "text/plain": [
       "'       python    '"
      ]
     },
     "execution_count": 31,
     "metadata": {},
     "output_type": "execute_result"
    }
   ],
   "source": [
    "string_bizarra"
   ]
  },
  {
   "cell_type": "code",
   "execution_count": 30,
   "metadata": {
    "ExecuteTime": {
     "end_time": "2021-10-29T22:35:29.754113Z",
     "start_time": "2021-10-29T22:35:29.738126Z"
    }
   },
   "outputs": [
    {
     "data": {
      "text/plain": [
       "'python'"
      ]
     },
     "execution_count": 30,
     "metadata": {},
     "output_type": "execute_result"
    }
   ],
   "source": [
    "string_bizarra.strip()"
   ]
  },
  {
   "cell_type": "code",
   "execution_count": 33,
   "metadata": {
    "ExecuteTime": {
     "end_time": "2021-10-29T22:36:32.259333Z",
     "start_time": "2021-10-29T22:36:32.251339Z"
    }
   },
   "outputs": [
    {
     "data": {
      "text/plain": [
       "'python'"
      ]
     },
     "execution_count": 33,
     "metadata": {},
     "output_type": "execute_result"
    }
   ],
   "source": [
    "\"aaaaaapythonaaaa\".strip(\"a\")"
   ]
  },
  {
   "cell_type": "markdown",
   "metadata": {},
   "source": [
    "Pequena digressão sobre listas e o operador `in`"
   ]
  },
  {
   "cell_type": "code",
   "execution_count": 49,
   "metadata": {
    "ExecuteTime": {
     "end_time": "2021-10-29T22:42:21.353963Z",
     "start_time": "2021-10-29T22:42:21.330988Z"
    }
   },
   "outputs": [
    {
     "data": {
      "text/plain": [
       "False"
      ]
     },
     "execution_count": 49,
     "metadata": {},
     "output_type": "execute_result"
    }
   ],
   "source": [
    "[2, 3] in [1, 2, 3, 4]"
   ]
  },
  {
   "cell_type": "code",
   "execution_count": 71,
   "metadata": {
    "ExecuteTime": {
     "end_time": "2021-10-29T22:48:45.901091Z",
     "start_time": "2021-10-29T22:48:45.887094Z"
    }
   },
   "outputs": [
    {
     "data": {
      "text/plain": [
       "[True, True]"
      ]
     },
     "execution_count": 71,
     "metadata": {},
     "output_type": "execute_result"
    }
   ],
   "source": [
    "[x in [1, 2, 3, 4] for x in [2, 3]]"
   ]
  },
  {
   "cell_type": "code",
   "execution_count": 72,
   "metadata": {
    "ExecuteTime": {
     "end_time": "2021-10-29T22:49:09.064967Z",
     "start_time": "2021-10-29T22:49:09.049976Z"
    }
   },
   "outputs": [
    {
     "data": {
      "text/plain": [
       "True"
      ]
     },
     "execution_count": 72,
     "metadata": {},
     "output_type": "execute_result"
    }
   ],
   "source": [
    "any([x in [1, 2, 3, 4] for x in [2, 3, 42]])"
   ]
  },
  {
   "cell_type": "code",
   "execution_count": 73,
   "metadata": {
    "ExecuteTime": {
     "end_time": "2021-10-29T22:49:09.648174Z",
     "start_time": "2021-10-29T22:49:09.636180Z"
    }
   },
   "outputs": [
    {
     "data": {
      "text/plain": [
       "True"
      ]
     },
     "execution_count": 73,
     "metadata": {},
     "output_type": "execute_result"
    }
   ],
   "source": [
    "# diferença sutil...\n",
    "any(x in [1, 2, 3, 4] for x in [2, 3, 42])"
   ]
  },
  {
   "cell_type": "code",
   "execution_count": 69,
   "metadata": {
    "ExecuteTime": {
     "end_time": "2021-10-29T22:48:36.280556Z",
     "start_time": "2021-10-29T22:48:36.268560Z"
    }
   },
   "outputs": [
    {
     "data": {
      "text/plain": [
       "False"
      ]
     },
     "execution_count": 69,
     "metadata": {},
     "output_type": "execute_result"
    }
   ],
   "source": [
    "all(x in [1, 2, 3, 4] for x in [2, 3, 42])"
   ]
  },
  {
   "cell_type": "markdown",
   "metadata": {},
   "source": [
    "_________"
   ]
  },
  {
   "cell_type": "code",
   "execution_count": 38,
   "metadata": {
    "ExecuteTime": {
     "end_time": "2021-10-29T22:38:10.067186Z",
     "start_time": "2021-10-29T22:38:10.055186Z"
    }
   },
   "outputs": [
    {
     "data": {
      "text/plain": [
       "True"
      ]
     },
     "execution_count": 38,
     "metadata": {},
     "output_type": "execute_result"
    }
   ],
   "source": [
    "\"ana\" in \"banana\""
   ]
  },
  {
   "cell_type": "code",
   "execution_count": 62,
   "metadata": {
    "ExecuteTime": {
     "end_time": "2021-10-29T22:46:46.073237Z",
     "start_time": "2021-10-29T22:46:46.057245Z"
    }
   },
   "outputs": [],
   "source": [
    "string_estados = \"Os estados são SP, RJ, BA, CE, RN, MS\""
   ]
  },
  {
   "cell_type": "code",
   "execution_count": 66,
   "metadata": {
    "ExecuteTime": {
     "end_time": "2021-10-29T22:47:34.837818Z",
     "start_time": "2021-10-29T22:47:34.828813Z"
    }
   },
   "outputs": [
    {
     "data": {
      "text/plain": [
       "True"
      ]
     },
     "execution_count": 66,
     "metadata": {},
     "output_type": "execute_result"
    }
   ],
   "source": [
    "\"SP\" in string_estados"
   ]
  },
  {
   "cell_type": "code",
   "execution_count": 64,
   "metadata": {
    "ExecuteTime": {
     "end_time": "2021-10-29T22:46:49.627256Z",
     "start_time": "2021-10-29T22:46:49.607135Z"
    }
   },
   "outputs": [
    {
     "data": {
      "text/plain": [
       "False"
      ]
     },
     "execution_count": 64,
     "metadata": {},
     "output_type": "execute_result"
    }
   ],
   "source": [
    "\"MG\" in string_estados"
   ]
  },
  {
   "cell_type": "code",
   "execution_count": 75,
   "metadata": {
    "ExecuteTime": {
     "end_time": "2021-10-29T22:49:41.158021Z",
     "start_time": "2021-10-29T22:49:41.140033Z"
    }
   },
   "outputs": [
    {
     "data": {
      "text/plain": [
       "[True, False]"
      ]
     },
     "execution_count": 75,
     "metadata": {},
     "output_type": "execute_result"
    }
   ],
   "source": [
    "[x in string_estados for x in \"SP MG\".split()]"
   ]
  },
  {
   "cell_type": "code",
   "execution_count": 65,
   "metadata": {
    "ExecuteTime": {
     "end_time": "2021-10-29T22:47:20.137870Z",
     "start_time": "2021-10-29T22:47:20.125879Z"
    }
   },
   "outputs": [
    {
     "data": {
      "text/plain": [
       "True"
      ]
     },
     "execution_count": 65,
     "metadata": {},
     "output_type": "execute_result"
    }
   ],
   "source": [
    "any(x in string_estados for x in \"SP MG\".split())"
   ]
  },
  {
   "cell_type": "code",
   "execution_count": 67,
   "metadata": {
    "ExecuteTime": {
     "end_time": "2021-10-29T22:47:42.024771Z",
     "start_time": "2021-10-29T22:47:42.014780Z"
    }
   },
   "outputs": [
    {
     "data": {
      "text/plain": [
       "False"
      ]
     },
     "execution_count": 67,
     "metadata": {},
     "output_type": "execute_result"
    }
   ],
   "source": [
    "all(x in string_estados for x in \"SP MG\".split())"
   ]
  },
  {
   "cell_type": "code",
   "execution_count": 77,
   "metadata": {
    "ExecuteTime": {
     "end_time": "2021-10-29T22:50:35.888812Z",
     "start_time": "2021-10-29T22:50:35.866825Z"
    }
   },
   "outputs": [
    {
     "data": {
      "text/plain": [
       "False"
      ]
     },
     "execution_count": 77,
     "metadata": {},
     "output_type": "execute_result"
    }
   ],
   "source": [
    "all([0, 0, 1])"
   ]
  },
  {
   "cell_type": "code",
   "execution_count": 78,
   "metadata": {
    "ExecuteTime": {
     "end_time": "2021-10-29T22:50:46.130355Z",
     "start_time": "2021-10-29T22:50:46.117365Z"
    }
   },
   "outputs": [
    {
     "data": {
      "text/plain": [
       "True"
      ]
     },
     "execution_count": 78,
     "metadata": {},
     "output_type": "execute_result"
    }
   ],
   "source": [
    "1 == True"
   ]
  },
  {
   "cell_type": "markdown",
   "metadata": {},
   "source": [
    "___________"
   ]
  },
  {
   "cell_type": "code",
   "execution_count": 40,
   "metadata": {
    "ExecuteTime": {
     "end_time": "2021-10-29T22:38:34.846839Z",
     "start_time": "2021-10-29T22:38:34.825853Z"
    }
   },
   "outputs": [
    {
     "data": {
      "text/plain": [
       "False"
      ]
     },
     "execution_count": 40,
     "metadata": {},
     "output_type": "execute_result"
    }
   ],
   "source": [
    "\"python\" == string_bizarra"
   ]
  },
  {
   "cell_type": "code",
   "execution_count": 41,
   "metadata": {
    "ExecuteTime": {
     "end_time": "2021-10-29T22:38:41.489495Z",
     "start_time": "2021-10-29T22:38:41.480502Z"
    }
   },
   "outputs": [
    {
     "data": {
      "text/plain": [
       "True"
      ]
     },
     "execution_count": 41,
     "metadata": {},
     "output_type": "execute_result"
    }
   ],
   "source": [
    "\"python\" in string_bizarra"
   ]
  },
  {
   "cell_type": "code",
   "execution_count": 42,
   "metadata": {
    "ExecuteTime": {
     "end_time": "2021-10-29T22:39:51.236981Z",
     "start_time": "2021-10-29T22:39:51.222990Z"
    }
   },
   "outputs": [
    {
     "data": {
      "text/plain": [
       "True"
      ]
     },
     "execution_count": 42,
     "metadata": {},
     "output_type": "execute_result"
    }
   ],
   "source": [
    "\"python\" == string_bizarra.strip()"
   ]
  },
  {
   "cell_type": "code",
   "execution_count": 46,
   "metadata": {
    "ExecuteTime": {
     "end_time": "2021-10-29T22:41:21.331346Z",
     "start_time": "2021-10-29T22:41:21.312337Z"
    }
   },
   "outputs": [
    {
     "data": {
      "text/plain": [
       "True"
      ]
     },
     "execution_count": 46,
     "metadata": {},
     "output_type": "execute_result"
    }
   ],
   "source": [
    "\"PYTHON\" == string_bizarra.strip().upper()"
   ]
  },
  {
   "cell_type": "code",
   "execution_count": 44,
   "metadata": {
    "ExecuteTime": {
     "end_time": "2021-10-29T22:40:51.766396Z",
     "start_time": "2021-10-29T22:40:51.756401Z"
    }
   },
   "outputs": [
    {
     "data": {
      "text/plain": [
       "'python'"
      ]
     },
     "execution_count": 44,
     "metadata": {},
     "output_type": "execute_result"
    }
   ],
   "source": [
    "string_bizarra.strip()"
   ]
  },
  {
   "cell_type": "markdown",
   "metadata": {},
   "source": [
    "Mas essa função não elimina espaços extrar no \"meio\" da string -- apenas no início e no fim!"
   ]
  },
  {
   "cell_type": "code",
   "execution_count": 84,
   "metadata": {
    "ExecuteTime": {
     "end_time": "2021-10-29T22:52:47.623059Z",
     "start_time": "2021-10-29T22:52:47.607070Z"
    }
   },
   "outputs": [
    {
     "data": {
      "text/plain": [
       "'   python é   legal  '"
      ]
     },
     "execution_count": 84,
     "metadata": {},
     "output_type": "execute_result"
    }
   ],
   "source": [
    "frase = \"   python é   legal  \"\n",
    "\n",
    "frase"
   ]
  },
  {
   "cell_type": "code",
   "execution_count": 83,
   "metadata": {
    "ExecuteTime": {
     "end_time": "2021-10-29T22:52:44.488832Z",
     "start_time": "2021-10-29T22:52:44.473838Z"
    }
   },
   "outputs": [
    {
     "data": {
      "text/plain": [
       "'python é   legal'"
      ]
     },
     "execution_count": 83,
     "metadata": {},
     "output_type": "execute_result"
    }
   ],
   "source": [
    "frase.strip()"
   ]
  },
  {
   "cell_type": "markdown",
   "metadata": {},
   "source": [
    "__Pra tirar espaços do meio, podemos fazer:__"
   ]
  },
  {
   "cell_type": "code",
   "execution_count": 88,
   "metadata": {
    "ExecuteTime": {
     "end_time": "2021-10-29T22:54:50.760255Z",
     "start_time": "2021-10-29T22:54:50.748262Z"
    }
   },
   "outputs": [
    {
     "data": {
      "text/plain": [
       "'python é legal'"
      ]
     },
     "execution_count": 88,
     "metadata": {},
     "output_type": "execute_result"
    }
   ],
   "source": [
    "\" \".join(frase.split())"
   ]
  },
  {
   "cell_type": "code",
   "execution_count": 87,
   "metadata": {
    "ExecuteTime": {
     "end_time": "2021-10-29T22:54:30.980569Z",
     "start_time": "2021-10-29T22:54:30.965576Z"
    }
   },
   "outputs": [
    {
     "data": {
      "text/plain": [
       "'   python é   legal  '"
      ]
     },
     "execution_count": 87,
     "metadata": {},
     "output_type": "execute_result"
    }
   ],
   "source": [
    "frase"
   ]
  },
  {
   "cell_type": "code",
   "execution_count": 218,
   "metadata": {
    "ExecuteTime": {
     "end_time": "2021-10-29T23:58:20.762899Z",
     "start_time": "2021-10-29T23:58:20.744912Z"
    }
   },
   "outputs": [
    {
     "data": {
      "text/plain": [
       "'python é legal'"
      ]
     },
     "execution_count": 218,
     "metadata": {},
     "output_type": "execute_result"
    }
   ],
   "source": [
    "# credito philippe\n",
    "\n",
    "frase = 'python   é       legal'\n",
    "\n",
    "frase = str(frase).split(' ')\n",
    "\n",
    "frase = \" \".join([i for i in frase if i != ''])\n",
    "\n",
    "frase"
   ]
  },
  {
   "cell_type": "markdown",
   "metadata": {},
   "source": [
    "Ou, pra tirar todos os espaços (tarefa diferente)"
   ]
  },
  {
   "cell_type": "code",
   "execution_count": 126,
   "metadata": {
    "ExecuteTime": {
     "end_time": "2021-10-29T23:11:02.541146Z",
     "start_time": "2021-10-29T23:11:02.520157Z"
    }
   },
   "outputs": [
    {
     "data": {
      "text/plain": [
       "'pythonélegal'"
      ]
     },
     "execution_count": 126,
     "metadata": {},
     "output_type": "execute_result"
    }
   ],
   "source": [
    "# credito philippe\n",
    "\n",
    "frase = 'python é legal'\n",
    "nova_frase = []\n",
    "\n",
    "for i in frase:\n",
    "    nova_frase.append(i.strip())\n",
    "\n",
    "\"\".join(nova_frase)"
   ]
  },
  {
   "cell_type": "code",
   "execution_count": 125,
   "metadata": {
    "ExecuteTime": {
     "end_time": "2021-10-29T23:10:25.912218Z",
     "start_time": "2021-10-29T23:10:25.906222Z"
    }
   },
   "outputs": [
    {
     "data": {
      "text/plain": [
       "'pythonélegal'"
      ]
     },
     "execution_count": 125,
     "metadata": {},
     "output_type": "execute_result"
    }
   ],
   "source": [
    "frase.replace(\" \", \"\")"
   ]
  },
  {
   "cell_type": "markdown",
   "metadata": {},
   "source": [
    "Outras funções interessantes...\n",
    "\n",
    "- isdigit()\n",
    "- isalpha()\n",
    "- isalnum()\n",
    "- isspace()"
   ]
  },
  {
   "cell_type": "code",
   "execution_count": 91,
   "metadata": {
    "ExecuteTime": {
     "end_time": "2021-10-29T22:58:05.330657Z",
     "start_time": "2021-10-29T22:58:05.320686Z"
    }
   },
   "outputs": [],
   "source": [
    "string_num = \"135135\"\n",
    "string_alpha = \"asdsdgdfhs\"\n",
    "stinng_alpha_num = \"abc123\""
   ]
  },
  {
   "cell_type": "code",
   "execution_count": 92,
   "metadata": {
    "ExecuteTime": {
     "end_time": "2021-10-29T22:58:31.468283Z",
     "start_time": "2021-10-29T22:58:31.459288Z"
    }
   },
   "outputs": [
    {
     "data": {
      "text/plain": [
       "True"
      ]
     },
     "execution_count": 92,
     "metadata": {},
     "output_type": "execute_result"
    }
   ],
   "source": [
    "string_num.isdigit()"
   ]
  },
  {
   "cell_type": "code",
   "execution_count": 93,
   "metadata": {
    "ExecuteTime": {
     "end_time": "2021-10-29T22:58:52.383672Z",
     "start_time": "2021-10-29T22:58:52.373677Z"
    }
   },
   "outputs": [
    {
     "data": {
      "text/plain": [
       "True"
      ]
     },
     "execution_count": 93,
     "metadata": {},
     "output_type": "execute_result"
    }
   ],
   "source": [
    "string_alpha.isalpha()"
   ]
  },
  {
   "cell_type": "code",
   "execution_count": 94,
   "metadata": {
    "ExecuteTime": {
     "end_time": "2021-10-29T22:59:07.194916Z",
     "start_time": "2021-10-29T22:59:07.184942Z"
    }
   },
   "outputs": [
    {
     "data": {
      "text/plain": [
       "True"
      ]
     },
     "execution_count": 94,
     "metadata": {},
     "output_type": "execute_result"
    }
   ],
   "source": [
    "stinng_alpha_num.isalnum()"
   ]
  },
  {
   "cell_type": "code",
   "execution_count": 101,
   "metadata": {
    "ExecuteTime": {
     "end_time": "2021-10-29T23:00:30.845045Z",
     "start_time": "2021-10-29T23:00:30.834053Z"
    }
   },
   "outputs": [],
   "source": [
    "cpf = \"123.345.356-10\""
   ]
  },
  {
   "cell_type": "code",
   "execution_count": 102,
   "metadata": {
    "ExecuteTime": {
     "end_time": "2021-10-29T23:01:31.710996Z",
     "start_time": "2021-10-29T23:01:31.694008Z"
    }
   },
   "outputs": [
    {
     "data": {
      "text/plain": [
       "True"
      ]
     },
     "execution_count": 102,
     "metadata": {},
     "output_type": "execute_result"
    }
   ],
   "source": [
    "\"1\".isdigit()"
   ]
  },
  {
   "cell_type": "code",
   "execution_count": 103,
   "metadata": {
    "ExecuteTime": {
     "end_time": "2021-10-29T23:01:38.489705Z",
     "start_time": "2021-10-29T23:01:38.470714Z"
    }
   },
   "outputs": [
    {
     "data": {
      "text/plain": [
       "False"
      ]
     },
     "execution_count": 103,
     "metadata": {},
     "output_type": "execute_result"
    }
   ],
   "source": [
    "\".\".isdigit()"
   ]
  },
  {
   "cell_type": "code",
   "execution_count": 113,
   "metadata": {
    "ExecuteTime": {
     "end_time": "2021-10-29T23:05:36.398249Z",
     "start_time": "2021-10-29T23:05:36.388742Z"
    }
   },
   "outputs": [
    {
     "data": {
      "text/plain": [
       "['1', '2', '3', '3', '4', '5', '3', '5', '6', '1', '0']"
      ]
     },
     "execution_count": 113,
     "metadata": {},
     "output_type": "execute_result"
    }
   ],
   "source": [
    "[char for char in cpf if char.isdigit()]"
   ]
  },
  {
   "cell_type": "code",
   "execution_count": 105,
   "metadata": {
    "ExecuteTime": {
     "end_time": "2021-10-29T23:02:00.628021Z",
     "start_time": "2021-10-29T23:02:00.618027Z"
    }
   },
   "outputs": [
    {
     "data": {
      "text/plain": [
       "'12334535610'"
      ]
     },
     "execution_count": 105,
     "metadata": {},
     "output_type": "execute_result"
    }
   ],
   "source": [
    "\"\".join([char for char in cpf if char.isdigit()])"
   ]
  },
  {
   "cell_type": "code",
   "execution_count": 106,
   "metadata": {
    "ExecuteTime": {
     "end_time": "2021-10-29T23:04:23.450499Z",
     "start_time": "2021-10-29T23:04:23.435505Z"
    }
   },
   "outputs": [],
   "source": [
    "def check_is_digit(x):\n",
    "    \n",
    "    return x.isdigit()"
   ]
  },
  {
   "cell_type": "code",
   "execution_count": 109,
   "metadata": {
    "ExecuteTime": {
     "end_time": "2021-10-29T23:04:37.430369Z",
     "start_time": "2021-10-29T23:04:37.413381Z"
    }
   },
   "outputs": [
    {
     "data": {
      "text/plain": [
       "True"
      ]
     },
     "execution_count": 109,
     "metadata": {},
     "output_type": "execute_result"
    }
   ],
   "source": [
    "check_is_digit(\"1\")"
   ]
  },
  {
   "cell_type": "code",
   "execution_count": 112,
   "metadata": {
    "ExecuteTime": {
     "end_time": "2021-10-29T23:05:17.639305Z",
     "start_time": "2021-10-29T23:05:17.616314Z"
    }
   },
   "outputs": [
    {
     "data": {
      "text/plain": [
       "'123.345.356-10'"
      ]
     },
     "execution_count": 112,
     "metadata": {},
     "output_type": "execute_result"
    }
   ],
   "source": [
    "cpf"
   ]
  },
  {
   "cell_type": "code",
   "execution_count": 111,
   "metadata": {
    "ExecuteTime": {
     "end_time": "2021-10-29T23:05:05.171009Z",
     "start_time": "2021-10-29T23:05:05.153020Z"
    }
   },
   "outputs": [
    {
     "data": {
      "text/plain": [
       "['1', '2', '3', '3', '4', '5', '3', '5', '6', '1', '0']"
      ]
     },
     "execution_count": 111,
     "metadata": {},
     "output_type": "execute_result"
    }
   ],
   "source": [
    "list(filter(check_is_digit, cpf))"
   ]
  },
  {
   "cell_type": "code",
   "execution_count": 115,
   "metadata": {
    "ExecuteTime": {
     "end_time": "2021-10-29T23:07:23.000139Z",
     "start_time": "2021-10-29T23:07:22.979150Z"
    }
   },
   "outputs": [
    {
     "data": {
      "text/plain": [
       "['1', '2', '3', '3', '4', '5', '3', '5', '6', '1', '0']"
      ]
     },
     "execution_count": 115,
     "metadata": {},
     "output_type": "execute_result"
    }
   ],
   "source": [
    "list(filter(str.isdigit, cpf))"
   ]
  },
  {
   "cell_type": "code",
   "execution_count": 116,
   "metadata": {
    "ExecuteTime": {
     "end_time": "2021-10-29T23:07:42.829383Z",
     "start_time": "2021-10-29T23:07:42.822385Z"
    }
   },
   "outputs": [
    {
     "data": {
      "text/plain": [
       "'12334535610'"
      ]
     },
     "execution_count": 116,
     "metadata": {},
     "output_type": "execute_result"
    }
   ],
   "source": [
    "\"\".join(filter(check_is_digit, cpf))"
   ]
  },
  {
   "cell_type": "code",
   "execution_count": 119,
   "metadata": {
    "ExecuteTime": {
     "end_time": "2021-10-29T23:08:07.249424Z",
     "start_time": "2021-10-29T23:08:07.228434Z"
    }
   },
   "outputs": [
    {
     "data": {
      "text/plain": [
       "'12334535610'"
      ]
     },
     "execution_count": 119,
     "metadata": {},
     "output_type": "execute_result"
    }
   ],
   "source": [
    "''.join(filter(str.isdigit, cpf))"
   ]
  },
  {
   "cell_type": "markdown",
   "metadata": {},
   "source": [
    "Podemos usar as funções acima para padronizar a resposta de um usuário!\n",
    "\n",
    "Utilizamos a função \n",
    "\n",
    "```unicodedata.normalize(\"NFD\", minha_string).encode(\"ascii\", \"ignore\").decode(\"utf-8\")```\n",
    "\n",
    "Para tirar acentos da string \"minha_string\"\n",
    "\n",
    "E o ```strip()``` é usado pra tirar espaços desnecessários do início e do fim de uma string"
   ]
  },
  {
   "cell_type": "code",
   "execution_count": 168,
   "metadata": {
    "ExecuteTime": {
     "end_time": "2021-10-29T23:30:56.576943Z",
     "start_time": "2021-10-29T23:30:56.558954Z"
    }
   },
   "outputs": [],
   "source": [
    "import unicodedata\n",
    "\n",
    "def tira_acento(x):\n",
    "\n",
    "    return unicodedata.normalize(\"NFD\", \n",
    "                                 x).encode(\"ascii\", \n",
    "                                           \"ignore\").decode(\"utf-8\")\n",
    "\n",
    "def pipe_norm_lower(x, tira_simbolos=True):\n",
    "    \n",
    "    ans = tira_acento(x).lower().strip()\n",
    "    \n",
    "    # tira espaços a mais no meio da string\n",
    "    ans = \" \".join(ans.split())\n",
    "    \n",
    "    # tira qqr coisa que nao seja letra (opcional - dependendo da flag \"tira_simbolos\")\n",
    "    if tira_simbolos:\n",
    "        \n",
    "        ans = \"\".join([char for char in ans if char.isalpha() or char == \" \"])\n",
    "    \n",
    "    return ans"
   ]
  },
  {
   "cell_type": "code",
   "execution_count": 169,
   "metadata": {
    "ExecuteTime": {
     "end_time": "2021-10-29T23:30:57.201649Z",
     "start_time": "2021-10-29T23:30:57.189655Z"
    }
   },
   "outputs": [
    {
     "data": {
      "text/plain": [
       "'coracao acoes alem'"
      ]
     },
     "execution_count": 169,
     "metadata": {},
     "output_type": "execute_result"
    }
   ],
   "source": [
    "pipe_norm_lower(\"     CORAÇÃO         ações ALém  \")"
   ]
  },
  {
   "cell_type": "code",
   "execution_count": 170,
   "metadata": {
    "ExecuteTime": {
     "end_time": "2021-10-29T23:30:58.643328Z",
     "start_time": "2021-10-29T23:30:58.630651Z"
    }
   },
   "outputs": [
    {
     "data": {
      "text/plain": [
       "('nao', 'nao', 'nao')"
      ]
     },
     "execution_count": 170,
     "metadata": {},
     "output_type": "execute_result"
    }
   ],
   "source": [
    "pipe_norm_lower(\"Não\"), pipe_norm_lower(\"NÃO\"), pipe_norm_lower(\"naO\")"
   ]
  },
  {
   "cell_type": "code",
   "execution_count": 173,
   "metadata": {
    "ExecuteTime": {
     "end_time": "2021-10-29T23:35:04.581642Z",
     "start_time": "2021-10-29T23:35:01.866696Z"
    }
   },
   "outputs": [
    {
     "name": "stdout",
     "output_type": "stream",
     "text": [
      "Você tá com febre? não\n",
      "que bom!\n"
     ]
    }
   ],
   "source": [
    "resp = input(\"Você tá com febre? \")\n",
    "resp = pipe_norm_lower(resp)\n",
    "\n",
    "# ou, direto:\n",
    "# resp = pipe_norm_lower(input(\"Você tá com febre? \"))\n",
    "\n",
    "if resp == \"nao\":\n",
    "    \n",
    "    print(\"que bom!\")\n",
    "    \n",
    "else:\n",
    "    \n",
    "    print(\"poxa :(\")"
   ]
  },
  {
   "cell_type": "markdown",
   "metadata": {},
   "source": [
    "Como pudemos ver acima, processar a string para que ela esteja em **determinado padrão** (por exemplo: em letras maiúsculas e sem acentos) é um passo muito importante para que operações de comparação entre strings funcionem perfeitamente sem erros!"
   ]
  },
  {
   "cell_type": "markdown",
   "metadata": {},
   "source": [
    "___\n",
    "___"
   ]
  },
  {
   "cell_type": "markdown",
   "metadata": {},
   "source": [
    "### 2.1) Formatação de strings\n",
    "\n",
    "Também podemos **formatar strings**. Isso pode ser super útil tanto ao receber dados do usuário (input) quando ao exbibir dados pro usuário (print)"
   ]
  },
  {
   "cell_type": "code",
   "execution_count": 178,
   "metadata": {
    "ExecuteTime": {
     "end_time": "2021-10-29T23:38:48.844460Z",
     "start_time": "2021-10-29T23:38:48.827468Z"
    }
   },
   "outputs": [],
   "source": [
    "dia_hoje = 29\n",
    "mes = \"outubro\""
   ]
  },
  {
   "cell_type": "code",
   "execution_count": 180,
   "metadata": {
    "ExecuteTime": {
     "end_time": "2021-10-29T23:38:53.357813Z",
     "start_time": "2021-10-29T23:38:53.337824Z"
    }
   },
   "outputs": [
    {
     "data": {
      "text/plain": [
       "'hoje é dia 29 do mês de outubro'"
      ]
     },
     "execution_count": 180,
     "metadata": {},
     "output_type": "execute_result"
    }
   ],
   "source": [
    "\"hoje é dia {} do mês de {}\".format(dia_hoje, mes)"
   ]
  },
  {
   "cell_type": "code",
   "execution_count": 183,
   "metadata": {
    "ExecuteTime": {
     "end_time": "2021-10-29T23:40:37.755715Z",
     "start_time": "2021-10-29T23:40:37.743771Z"
    }
   },
   "outputs": [
    {
     "data": {
      "text/plain": [
       "'hoje é dia 29 do mês de outubro'"
      ]
     },
     "execution_count": 183,
     "metadata": {},
     "output_type": "execute_result"
    }
   ],
   "source": [
    "f\"hoje é dia {dia_hoje} do mês de {mes}\""
   ]
  },
  {
   "cell_type": "markdown",
   "metadata": {},
   "source": [
    "Um dos usos mais legal do format é para **exibir** strings formatadas.\n",
    "\n",
    "Imagine que você queira exibir uma data no formato dd/mm/aaaa.\n",
    "\n",
    "Em situações normais, dias e meses inferiores a 10 apareceriam com apenas 1 dígito (int não é representado com zeros à esquerda). Porém, podemos especificar no format que gostaríamos de representar um inteiro com 2 dígitos, preenchendo com zero dígitos em branco (à esquerda): \n",
    "\n",
    "```python\n",
    "\n",
    "dia = 1\n",
    "mes = 2\n",
    "ano = 2020\n",
    "data = '{:02d}/{:02d}/{:04d}'.format(dia, mes, ano)\n",
    "print(data) # resultado: 01/02/2020\n",
    "```\n",
    "\n",
    "O símbolo 'd' indica que estamos representando números **inteiros** em base decimal (dígitos de 0 a 9). \n",
    "\n",
    "Os símbolos '2' e '4' indicam, respectivamente, 2 dígitos ou 4 dígitos. \n",
    "\n",
    "o símbolo '0' indica que se faltar dígitos, os espaços devem ser preenchidos com zero"
   ]
  },
  {
   "cell_type": "code",
   "execution_count": 190,
   "metadata": {
    "ExecuteTime": {
     "end_time": "2021-10-29T23:44:54.956153Z",
     "start_time": "2021-10-29T23:44:54.946159Z"
    }
   },
   "outputs": [
    {
     "data": {
      "text/plain": [
       "'01/02/2021'"
      ]
     },
     "execution_count": 190,
     "metadata": {},
     "output_type": "execute_result"
    }
   ],
   "source": [
    "dia = 1\n",
    "mes = 2\n",
    "ano = 2021\n",
    "\n",
    "# data = '{}/{}/{}'.format(dia, mes, ano)\n",
    "\n",
    "data = '{:02d}/{:02d}/{:04d}'.format(dia, mes, ano)\n",
    "\n",
    "data"
   ]
  },
  {
   "cell_type": "markdown",
   "metadata": {},
   "source": [
    "Imagina que você queira exibir algum valor monetário, por exemplo, o preço de alguma coisa.\n",
    "\n",
    "Utilizando float, pode ser que seu resultado tenha apenas uma casa decimal.\n",
    "\n",
    "Mas, se tratando de dinheito, sempre queremos mostrar duas casas decimais!\n",
    "\n",
    "Usaremos o format para representar com apenas 2 casas.\n",
    "\n",
    "```python\n",
    "preco = 1500.5\n",
    "\n",
    "print(preco) \n",
    "\n",
    "precoFinal = 'R$ {:.2f}'.format(preco)\n",
    "\n",
    "print(precoFinal)\n",
    "```\n",
    "\n",
    "Neste caso, o 'f' indica que o número é float. \n",
    "\n",
    "Já o '.2' indica que queremos 2 casas após o ponto decimal. \n",
    "\n",
    "Note que a função não apenas descarta as casas excedentes, e sim arredonda corretamente o número."
   ]
  },
  {
   "cell_type": "code",
   "execution_count": 193,
   "metadata": {
    "ExecuteTime": {
     "end_time": "2021-10-29T23:46:32.176386Z",
     "start_time": "2021-10-29T23:46:32.163394Z"
    }
   },
   "outputs": [
    {
     "data": {
      "text/plain": [
       "'R$ 1500.50'"
      ]
     },
     "execution_count": 193,
     "metadata": {},
     "output_type": "execute_result"
    }
   ],
   "source": [
    "preco = 1500.5\n",
    "\n",
    "preco_final = 'R$ {:.2f}'.format(preco)\n",
    "\n",
    "preco_final"
   ]
  },
  {
   "cell_type": "code",
   "execution_count": 199,
   "metadata": {
    "ExecuteTime": {
     "end_time": "2021-10-29T23:47:41.371939Z",
     "start_time": "2021-10-29T23:47:41.348953Z"
    }
   },
   "outputs": [
    {
     "data": {
      "text/plain": [
       "'R$ 1,530,000.51'"
      ]
     },
     "execution_count": 199,
     "metadata": {},
     "output_type": "execute_result"
    }
   ],
   "source": [
    "preco = 1530000.5119168\n",
    "\n",
    "preco_final = 'R$ {:,.2f}'.format(preco)\n",
    "\n",
    "preco_final"
   ]
  },
  {
   "cell_type": "code",
   "execution_count": 201,
   "metadata": {
    "ExecuteTime": {
     "end_time": "2021-10-29T23:48:35.363316Z",
     "start_time": "2021-10-29T23:48:35.343330Z"
    }
   },
   "outputs": [
    {
     "data": {
      "text/plain": [
       "'R$ 1.530.000,51'"
      ]
     },
     "execution_count": 201,
     "metadata": {},
     "output_type": "execute_result"
    }
   ],
   "source": [
    "preco_final = 'R$ {:,.2f}'.format(preco)\n",
    "\n",
    "preco_final.replace(\".\", \"@\").replace(\",\", \".\").replace(\"@\", \",\")"
   ]
  },
  {
   "cell_type": "code",
   "execution_count": null,
   "metadata": {},
   "outputs": [],
   "source": [
    "# deem uma olhada na biblioteca \"locale\", que faz isso automatico."
   ]
  },
  {
   "cell_type": "markdown",
   "metadata": {},
   "source": [
    "Uma outra forma interessante de formatar strings é com a utilização das chamadas [f strings](https://docs.python.org/pt-br/3/tutorial/inputoutput.html#tut-f-strings).\n",
    "\n",
    "Esa formatação permite que coloquemos facilmente variáveis em strings, de maneira fluida! Essa construção é super útil sobretudo na construção de exibições mais complexas.\n",
    "\n",
    "Veja, abaixo, alguns exemplos!"
   ]
  },
  {
   "cell_type": "code",
   "execution_count": 203,
   "metadata": {
    "ExecuteTime": {
     "end_time": "2021-10-29T23:49:40.515992Z",
     "start_time": "2021-10-29T23:49:40.507998Z"
    }
   },
   "outputs": [
    {
     "data": {
      "text/plain": [
       "'R$ 1530000.51'"
      ]
     },
     "execution_count": 203,
     "metadata": {},
     "output_type": "execute_result"
    }
   ],
   "source": [
    "f'R$ {preco:.2f}'"
   ]
  },
  {
   "cell_type": "code",
   "execution_count": 204,
   "metadata": {
    "ExecuteTime": {
     "end_time": "2021-10-29T23:50:05.490023Z",
     "start_time": "2021-10-29T23:50:05.472035Z"
    }
   },
   "outputs": [
    {
     "data": {
      "text/plain": [
       "'01/02/2021'"
      ]
     },
     "execution_count": 204,
     "metadata": {},
     "output_type": "execute_result"
    }
   ],
   "source": [
    "f'{dia:02d}/{mes:02d}/{ano:04d}'"
   ]
  },
  {
   "cell_type": "markdown",
   "metadata": {},
   "source": [
    "Lista 4, exercício 9"
   ]
  },
  {
   "cell_type": "code",
   "execution_count": 214,
   "metadata": {
    "ExecuteTime": {
     "end_time": "2021-10-29T23:55:12.463202Z",
     "start_time": "2021-10-29T23:55:12.438217Z"
    }
   },
   "outputs": [
    {
     "name": "stdout",
     "output_type": "stream",
     "text": [
      "Apenas as letras: ['a', 'b', 'c']\n",
      "Apenas os números: ['1', '2', '3']\n",
      "Apenas os aracteres especiais: ['!', '.', ',']\n"
     ]
    }
   ],
   "source": [
    "string = \"abc123!.,\"\n",
    "\n",
    "lista_letras = [c for c in string if c.isalpha()]\n",
    "\n",
    "lista_numeros = [c for c in string if c.isdigit()]\n",
    "\n",
    "lista_caracteres_especiais = [c for c in string if not c.isalnum()]\n",
    "\n",
    "print(f\"Apenas as letras: {lista_letras}\")\n",
    "print(f\"Apenas os números: {lista_numeros}\")\n",
    "print(f\"Apenas os aracteres especiais: {lista_caracteres_especiais}\")"
   ]
  }
 ],
 "metadata": {
  "kernelspec": {
   "display_name": "Python 3",
   "language": "python",
   "name": "python3"
  },
  "language_info": {
   "codemirror_mode": {
    "name": "ipython",
    "version": 3
   },
   "file_extension": ".py",
   "mimetype": "text/x-python",
   "name": "python",
   "nbconvert_exporter": "python",
   "pygments_lexer": "ipython3",
   "version": "3.8.3"
  },
  "varInspector": {
   "cols": {
    "lenName": 16,
    "lenType": 16,
    "lenVar": 40
   },
   "kernels_config": {
    "python": {
     "delete_cmd_postfix": "",
     "delete_cmd_prefix": "del ",
     "library": "var_list.py",
     "varRefreshCmd": "print(var_dic_list())"
    },
    "r": {
     "delete_cmd_postfix": ") ",
     "delete_cmd_prefix": "rm(",
     "library": "var_list.r",
     "varRefreshCmd": "cat(var_dic_list()) "
    }
   },
   "types_to_exclude": [
    "module",
    "function",
    "builtin_function_or_method",
    "instance",
    "_Feature"
   ],
   "window_display": false
  }
 },
 "nbformat": 4,
 "nbformat_minor": 4
}
