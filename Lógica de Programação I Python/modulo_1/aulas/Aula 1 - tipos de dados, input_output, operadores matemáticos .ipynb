{
 "cells": [
  {
   "cell_type": "markdown",
   "metadata": {},
   "source": [
    "# Aula 1 - Tipos de dados, input/output, operadores matemáticos\n",
    "\n",
    "Na aula de hoje, vamos explorar os seguintes tópicos em Python:\n",
    "\n",
    "- 1) Tipos de variáveis;\n",
    "- 2) Comentários;\n",
    "- 3) Saída (output);\n",
    "- 4) Entrada (input);\n",
    "- 5) Operadores Matemáticos;\n",
    "\n",
    "_______\n"
   ]
  },
  {
   "cell_type": "markdown",
   "metadata": {},
   "source": [
    "____\n",
    "____\n",
    "____"
   ]
  },
  {
   "cell_type": "markdown",
   "metadata": {},
   "source": [
    "## 1) Tipos de variáveis\n",
    "\n",
    "Em python, temos 4 **tipos** principais de dados básicos"
   ]
  },
  {
   "cell_type": "markdown",
   "metadata": {},
   "source": [
    "~ Tipo **inteiros** (int): são números inteiros, isto é, sem casas decimais.\n",
    "\n",
    "- Ex:\n",
    "    - 1 \n",
    "    - 456\n",
    "    - 124023\n",
    "    - 0\n",
    "    - -2 (números to tipo int podem ser negativos!)\n",
    "\n",
    "No Jupyter, números inteiros são destacados em cor verde clara"
   ]
  },
  {
   "cell_type": "markdown",
   "metadata": {},
   "source": [
    "Exemplo: a idade de uma pessoa em anos, número de filhos de uma pessoa, etc."
   ]
  },
  {
   "cell_type": "code",
   "execution_count": 1,
   "metadata": {
    "ExecuteTime": {
     "end_time": "2021-10-20T22:20:02.860429Z",
     "start_time": "2021-10-20T22:20:02.840443Z"
    }
   },
   "outputs": [],
   "source": [
    "numero_de_filhos = 2"
   ]
  },
  {
   "cell_type": "code",
   "execution_count": 2,
   "metadata": {
    "ExecuteTime": {
     "end_time": "2021-10-20T22:20:08.871606Z",
     "start_time": "2021-10-20T22:20:08.842623Z"
    }
   },
   "outputs": [
    {
     "data": {
      "text/plain": [
       "2"
      ]
     },
     "execution_count": 2,
     "metadata": {},
     "output_type": "execute_result"
    }
   ],
   "source": [
    "numero_de_filhos"
   ]
  },
  {
   "cell_type": "code",
   "execution_count": 7,
   "metadata": {
    "ExecuteTime": {
     "end_time": "2021-10-20T22:23:53.187649Z",
     "start_time": "2021-10-20T22:23:53.179672Z"
    }
   },
   "outputs": [
    {
     "data": {
      "text/plain": [
       "int"
      ]
     },
     "execution_count": 7,
     "metadata": {},
     "output_type": "execute_result"
    }
   ],
   "source": [
    "type(numero_de_filhos)"
   ]
  },
  {
   "cell_type": "code",
   "execution_count": 8,
   "metadata": {
    "ExecuteTime": {
     "end_time": "2021-10-20T22:24:10.493867Z",
     "start_time": "2021-10-20T22:24:10.478872Z"
    }
   },
   "outputs": [
    {
     "data": {
      "text/plain": [
       "type"
      ]
     },
     "execution_count": 8,
     "metadata": {},
     "output_type": "execute_result"
    }
   ],
   "source": [
    "type(type(numero_de_filhos))"
   ]
  },
  {
   "cell_type": "code",
   "execution_count": 9,
   "metadata": {
    "ExecuteTime": {
     "end_time": "2021-10-20T22:24:23.134504Z",
     "start_time": "2021-10-20T22:24:23.113522Z"
    }
   },
   "outputs": [
    {
     "data": {
      "text/plain": [
       "type"
      ]
     },
     "execution_count": 9,
     "metadata": {},
     "output_type": "execute_result"
    }
   ],
   "source": [
    "type(int)"
   ]
  },
  {
   "cell_type": "code",
   "execution_count": 11,
   "metadata": {
    "ExecuteTime": {
     "end_time": "2021-10-20T22:25:32.681873Z",
     "start_time": "2021-10-20T22:25:32.657887Z"
    }
   },
   "outputs": [
    {
     "data": {
      "text/plain": [
       "True"
      ]
     },
     "execution_count": 11,
     "metadata": {},
     "output_type": "execute_result"
    }
   ],
   "source": [
    "type(numero_de_filhos) == int"
   ]
  },
  {
   "cell_type": "code",
   "execution_count": 14,
   "metadata": {
    "ExecuteTime": {
     "end_time": "2021-10-20T22:26:04.050186Z",
     "start_time": "2021-10-20T22:26:04.033196Z"
    }
   },
   "outputs": [
    {
     "data": {
      "text/plain": [
       "False"
      ]
     },
     "execution_count": 14,
     "metadata": {},
     "output_type": "execute_result"
    }
   ],
   "source": [
    "type(numero_de_filhos) == float"
   ]
  },
  {
   "cell_type": "code",
   "execution_count": 15,
   "metadata": {
    "ExecuteTime": {
     "end_time": "2021-10-20T22:26:29.777008Z",
     "start_time": "2021-10-20T22:26:29.761017Z"
    }
   },
   "outputs": [
    {
     "data": {
      "text/plain": [
       "int"
      ]
     },
     "execution_count": 15,
     "metadata": {},
     "output_type": "execute_result"
    }
   ],
   "source": [
    "type(-4)"
   ]
  },
  {
   "cell_type": "markdown",
   "metadata": {},
   "source": [
    "~ Tipo **float** (float): são números com casas decimais (**em python usamos ponto ao invés de vírgula para indicar cadas decimais!**)\n",
    "\n",
    "- Ex:\n",
    "    - 3.1415\n",
    "    - 1.78\n",
    "    - 10.0 (essa é a representação float de um número inteiro, 10) \n",
    "    - -42.73 (números do tipo float podem ser negativos!)\n",
    "\n",
    "No Jupyter, números float também são destacados em cor verde clara"
   ]
  },
  {
   "cell_type": "markdown",
   "metadata": {},
   "source": [
    "Exemplo: a altura de uma pessoa em metros"
   ]
  },
  {
   "cell_type": "code",
   "execution_count": 16,
   "metadata": {
    "ExecuteTime": {
     "end_time": "2021-10-20T22:32:25.138133Z",
     "start_time": "2021-10-20T22:32:25.118143Z"
    }
   },
   "outputs": [],
   "source": [
    "altura = 1.78"
   ]
  },
  {
   "cell_type": "code",
   "execution_count": 17,
   "metadata": {
    "ExecuteTime": {
     "end_time": "2021-10-20T22:32:31.245915Z",
     "start_time": "2021-10-20T22:32:31.227926Z"
    }
   },
   "outputs": [
    {
     "data": {
      "text/plain": [
       "float"
      ]
     },
     "execution_count": 17,
     "metadata": {},
     "output_type": "execute_result"
    }
   ],
   "source": [
    "type(altura)"
   ]
  },
  {
   "cell_type": "code",
   "execution_count": 18,
   "metadata": {
    "ExecuteTime": {
     "end_time": "2021-10-20T22:32:44.266385Z",
     "start_time": "2021-10-20T22:32:44.247396Z"
    }
   },
   "outputs": [],
   "source": [
    "numero_filhos = 2.0"
   ]
  },
  {
   "cell_type": "code",
   "execution_count": 19,
   "metadata": {
    "ExecuteTime": {
     "end_time": "2021-10-20T22:33:02.319995Z",
     "start_time": "2021-10-20T22:33:02.313999Z"
    }
   },
   "outputs": [
    {
     "data": {
      "text/plain": [
       "float"
      ]
     },
     "execution_count": 19,
     "metadata": {},
     "output_type": "execute_result"
    }
   ],
   "source": [
    "type(numero_filhos)"
   ]
  },
  {
   "cell_type": "code",
   "execution_count": 20,
   "metadata": {
    "ExecuteTime": {
     "end_time": "2021-10-20T22:34:03.180822Z",
     "start_time": "2021-10-20T22:34:03.168829Z"
    }
   },
   "outputs": [
    {
     "data": {
      "text/plain": [
       "2"
      ]
     },
     "execution_count": 20,
     "metadata": {},
     "output_type": "execute_result"
    }
   ],
   "source": [
    "# esta NÃO é uma operação \"inplace\"\n",
    "# o valor convertido é RETORNADO\n",
    "int(numero_filhos)"
   ]
  },
  {
   "cell_type": "code",
   "execution_count": 24,
   "metadata": {
    "ExecuteTime": {
     "end_time": "2021-10-20T22:36:42.971340Z",
     "start_time": "2021-10-20T22:36:42.949357Z"
    }
   },
   "outputs": [
    {
     "data": {
      "text/plain": [
       "2.0"
      ]
     },
     "execution_count": 24,
     "metadata": {},
     "output_type": "execute_result"
    }
   ],
   "source": [
    "numero_filhos"
   ]
  },
  {
   "cell_type": "code",
   "execution_count": 25,
   "metadata": {
    "ExecuteTime": {
     "end_time": "2021-10-20T22:37:39.757335Z",
     "start_time": "2021-10-20T22:37:39.739344Z"
    }
   },
   "outputs": [
    {
     "data": {
      "text/plain": [
       "2"
      ]
     },
     "execution_count": 25,
     "metadata": {},
     "output_type": "execute_result"
    }
   ],
   "source": [
    "# alterando a variavel original\n",
    "\n",
    "numero_filhos = int(numero_filhos)\n",
    "\n",
    "numero_filhos"
   ]
  },
  {
   "cell_type": "code",
   "execution_count": 21,
   "metadata": {
    "ExecuteTime": {
     "end_time": "2021-10-20T22:34:24.943505Z",
     "start_time": "2021-10-20T22:34:24.935509Z"
    }
   },
   "outputs": [
    {
     "data": {
      "text/plain": [
       "int"
      ]
     },
     "execution_count": 21,
     "metadata": {},
     "output_type": "execute_result"
    }
   ],
   "source": [
    "type(int(numero_filhos))"
   ]
  },
  {
   "cell_type": "code",
   "execution_count": 22,
   "metadata": {
    "ExecuteTime": {
     "end_time": "2021-10-20T22:34:48.108860Z",
     "start_time": "2021-10-20T22:34:48.092875Z"
    }
   },
   "outputs": [
    {
     "data": {
      "text/plain": [
       "1.78"
      ]
     },
     "execution_count": 22,
     "metadata": {},
     "output_type": "execute_result"
    }
   ],
   "source": [
    "altura"
   ]
  },
  {
   "cell_type": "code",
   "execution_count": 30,
   "metadata": {
    "ExecuteTime": {
     "end_time": "2021-10-20T22:45:03.526979Z",
     "start_time": "2021-10-20T22:45:03.509991Z"
    }
   },
   "outputs": [
    {
     "data": {
      "text/plain": [
       "1"
      ]
     },
     "execution_count": 30,
     "metadata": {},
     "output_type": "execute_result"
    }
   ],
   "source": [
    "# isso trunca o numero racional\n",
    "\n",
    "int(altura)"
   ]
  },
  {
   "cell_type": "markdown",
   "metadata": {},
   "source": [
    "**Numeros complexos**\n",
    "\n",
    "Notação: `a + bj`, `j` (sempre junto de algum outro numero), é a unidade imaginaria ($j^2 = -1$)"
   ]
  },
  {
   "cell_type": "code",
   "execution_count": 27,
   "metadata": {
    "ExecuteTime": {
     "end_time": "2021-10-20T22:41:13.067289Z",
     "start_time": "2021-10-20T22:41:13.047301Z"
    }
   },
   "outputs": [],
   "source": [
    "z = 1 + 2j"
   ]
  },
  {
   "cell_type": "code",
   "execution_count": 28,
   "metadata": {
    "ExecuteTime": {
     "end_time": "2021-10-20T22:41:18.358668Z",
     "start_time": "2021-10-20T22:41:18.351679Z"
    }
   },
   "outputs": [
    {
     "data": {
      "text/plain": [
       "complex"
      ]
     },
     "execution_count": 28,
     "metadata": {},
     "output_type": "execute_result"
    }
   ],
   "source": [
    "type(z)"
   ]
  },
  {
   "cell_type": "code",
   "execution_count": 29,
   "metadata": {
    "ExecuteTime": {
     "end_time": "2021-10-20T22:41:30.621607Z",
     "start_time": "2021-10-20T22:41:30.607613Z"
    }
   },
   "outputs": [
    {
     "data": {
      "text/plain": [
       "complex"
      ]
     },
     "execution_count": 29,
     "metadata": {},
     "output_type": "execute_result"
    }
   ],
   "source": [
    "type(2j)"
   ]
  },
  {
   "cell_type": "markdown",
   "metadata": {},
   "source": [
    "___________"
   ]
  },
  {
   "cell_type": "markdown",
   "metadata": {},
   "source": [
    "[Biblioteca math](https://docs.python.org/3/library/math.html)"
   ]
  },
  {
   "cell_type": "code",
   "execution_count": 34,
   "metadata": {
    "ExecuteTime": {
     "end_time": "2021-10-20T22:48:48.624282Z",
     "start_time": "2021-10-20T22:48:48.614287Z"
    }
   },
   "outputs": [
    {
     "data": {
      "text/plain": [
       "3.141592653589793"
      ]
     },
     "execution_count": 34,
     "metadata": {},
     "output_type": "execute_result"
    }
   ],
   "source": [
    "import math\n",
    "\n",
    "math.pi"
   ]
  },
  {
   "cell_type": "markdown",
   "metadata": {},
   "source": [
    "________"
   ]
  },
  {
   "cell_type": "markdown",
   "metadata": {},
   "source": [
    "~ Tipo **string** (str): são textos, que devem ser indicados entre aspas duplas \" \" ou aspas simples ' ' \n",
    "\n",
    "- Ex:\n",
    "    - \"Olá, mundo!\" (para strings, podemos usar pontuação e acentuação sem problemas!)\n",
    "    - \"Nos encontramos às 9h30 amanhã?\" (strings podem conter numeros!)\n",
    "    - \"100\" (neste caso, é uma string que representa um numero inteiro)\n",
    "    - \"3.1415\" (neste caso, é uma string que representa um numero float)\n",
    "\n",
    "No Jupyter, strings são destacadas em cor vermelha"
   ]
  },
  {
   "cell_type": "markdown",
   "metadata": {},
   "source": [
    "Exemplo: uma frase de despedida e um encontro marcado"
   ]
  },
  {
   "cell_type": "code",
   "execution_count": 46,
   "metadata": {
    "ExecuteTime": {
     "end_time": "2021-10-20T22:56:57.529974Z",
     "start_time": "2021-10-20T22:56:57.510986Z"
    }
   },
   "outputs": [
    {
     "name": "stdout",
     "output_type": "stream",
     "text": [
      "ele disse: 'olá'\n",
      "\n",
      "ele disse: \"olá\"\n"
     ]
    }
   ],
   "source": [
    "print(\"ele disse: 'olá'\")\n",
    "print()\n",
    "print('ele disse: \"olá\"')"
   ]
  },
  {
   "cell_type": "code",
   "execution_count": 47,
   "metadata": {
    "ExecuteTime": {
     "end_time": "2021-10-20T22:57:41.479567Z",
     "start_time": "2021-10-20T22:57:41.468573Z"
    }
   },
   "outputs": [],
   "source": [
    "numero1 = \"100\"\n",
    "\n",
    "numero2 = \"3.1415\""
   ]
  },
  {
   "cell_type": "code",
   "execution_count": 49,
   "metadata": {
    "ExecuteTime": {
     "end_time": "2021-10-20T22:57:52.258166Z",
     "start_time": "2021-10-20T22:57:52.242176Z"
    }
   },
   "outputs": [
    {
     "data": {
      "text/plain": [
       "(str, str)"
      ]
     },
     "execution_count": 49,
     "metadata": {},
     "output_type": "execute_result"
    }
   ],
   "source": [
    "type(numero1), type(numero2)"
   ]
  },
  {
   "cell_type": "code",
   "execution_count": 51,
   "metadata": {
    "ExecuteTime": {
     "end_time": "2021-10-20T22:58:37.269538Z",
     "start_time": "2021-10-20T22:58:37.256547Z"
    }
   },
   "outputs": [
    {
     "data": {
      "text/plain": [
       "(100, int)"
      ]
     },
     "execution_count": 51,
     "metadata": {},
     "output_type": "execute_result"
    }
   ],
   "source": [
    "int(numero1), type(int(numero1))"
   ]
  },
  {
   "cell_type": "code",
   "execution_count": 56,
   "metadata": {
    "ExecuteTime": {
     "end_time": "2021-10-20T23:00:52.210472Z",
     "start_time": "2021-10-20T23:00:52.190482Z"
    }
   },
   "outputs": [
    {
     "data": {
      "text/plain": [
       "(100.0, float)"
      ]
     },
     "execution_count": 56,
     "metadata": {},
     "output_type": "execute_result"
    }
   ],
   "source": [
    "float(numero1), type(float(numero1))"
   ]
  },
  {
   "cell_type": "code",
   "execution_count": 52,
   "metadata": {
    "ExecuteTime": {
     "end_time": "2021-10-20T22:58:54.633596Z",
     "start_time": "2021-10-20T22:58:54.614606Z"
    }
   },
   "outputs": [
    {
     "data": {
      "text/plain": [
       "(3.1415, float)"
      ]
     },
     "execution_count": 52,
     "metadata": {},
     "output_type": "execute_result"
    }
   ],
   "source": [
    "float(numero2), type(float(numero2))"
   ]
  },
  {
   "cell_type": "code",
   "execution_count": 55,
   "metadata": {
    "ExecuteTime": {
     "end_time": "2021-10-20T23:00:39.897958Z",
     "start_time": "2021-10-20T23:00:39.870964Z"
    }
   },
   "outputs": [
    {
     "ename": "ValueError",
     "evalue": "invalid literal for int() with base 10: '3.1415'",
     "output_type": "error",
     "traceback": [
      "\u001b[1;31m---------------------------------------------------------------------------\u001b[0m",
      "\u001b[1;31mValueError\u001b[0m                                Traceback (most recent call last)",
      "\u001b[1;32m<ipython-input-55-b9ef110e7c48>\u001b[0m in \u001b[0;36m<module>\u001b[1;34m\u001b[0m\n\u001b[1;32m----> 1\u001b[1;33m \u001b[0mint\u001b[0m\u001b[1;33m(\u001b[0m\u001b[0mnumero2\u001b[0m\u001b[1;33m)\u001b[0m\u001b[1;33m,\u001b[0m \u001b[0mtype\u001b[0m\u001b[1;33m(\u001b[0m\u001b[0mint\u001b[0m\u001b[1;33m(\u001b[0m\u001b[0mnumero2\u001b[0m\u001b[1;33m)\u001b[0m\u001b[1;33m)\u001b[0m\u001b[1;33m\u001b[0m\u001b[1;33m\u001b[0m\u001b[0m\n\u001b[0m",
      "\u001b[1;31mValueError\u001b[0m: invalid literal for int() with base 10: '3.1415'"
     ]
    }
   ],
   "source": [
    "int(numero2), type(int(numero2))"
   ]
  },
  {
   "cell_type": "markdown",
   "metadata": {},
   "source": [
    "~ Tipo **booleanos** (bool): Verdadeiro (True) ou Falso (False)\n",
    "\n",
    "- Únicos dois valores possíveis: **True** ou **False**\n",
    "\n",
    "Vamos entender a enorme importância deste tipo de dado mais a frente no curso (operações lógicas, estruturas condicionais, etc.)\n",
    "\n",
    "No Jupyter, bools são destacados em cor verde escuro"
   ]
  },
  {
   "cell_type": "code",
   "execution_count": 57,
   "metadata": {
    "ExecuteTime": {
     "end_time": "2021-10-20T23:06:30.565276Z",
     "start_time": "2021-10-20T23:06:30.545288Z"
    }
   },
   "outputs": [
    {
     "data": {
      "text/plain": [
       "True"
      ]
     },
     "execution_count": 57,
     "metadata": {},
     "output_type": "execute_result"
    }
   ],
   "source": [
    "True"
   ]
  },
  {
   "cell_type": "code",
   "execution_count": 58,
   "metadata": {
    "ExecuteTime": {
     "end_time": "2021-10-20T23:06:37.818103Z",
     "start_time": "2021-10-20T23:06:37.800115Z"
    }
   },
   "outputs": [
    {
     "data": {
      "text/plain": [
       "False"
      ]
     },
     "execution_count": 58,
     "metadata": {},
     "output_type": "execute_result"
    }
   ],
   "source": [
    "False"
   ]
  },
  {
   "cell_type": "markdown",
   "metadata": {},
   "source": [
    "____\n",
    "____\n",
    "____"
   ]
  },
  {
   "cell_type": "markdown",
   "metadata": {},
   "source": [
    "## 2) Comentários\n",
    "\n",
    "São utilizados para melhor explicar um trecho de código.\n",
    "\n",
    "Os comentários não são executados pelo Python. \n",
    "\n",
    "Tudo o que está comentado é ignorado, serve apenas para guiar o usuário.\n",
    "\n",
    "É indicado com o uso da #, e em cor azul marinho no Jupyter\n",
    "\n",
    "- Atalho: CTRL + / : A LINHA VIRA UM COMENTÁRIO"
   ]
  },
  {
   "cell_type": "code",
   "execution_count": 61,
   "metadata": {
    "ExecuteTime": {
     "end_time": "2021-10-20T23:08:04.671632Z",
     "start_time": "2021-10-20T23:08:04.663639Z"
    }
   },
   "outputs": [
    {
     "name": "stdout",
     "output_type": "stream",
     "text": [
      "4\n"
     ]
    }
   ],
   "source": [
    "# comentário\n",
    "\n",
    "print(4)\n",
    "# print(\"ola\")"
   ]
  },
  {
   "cell_type": "markdown",
   "metadata": {},
   "source": [
    "Embora você possa fazer **comentários** de várias linhas apenas colocando o # na frente de cada linha:"
   ]
  },
  {
   "cell_type": "code",
   "execution_count": null,
   "metadata": {},
   "outputs": [],
   "source": [
    "# esse é um comentário muito grande, e por isso pode ser interessante\n",
    "# quebrar ele em várias linhas, para ficar mais fácil de ler\n",
    "# um comentário grande e complexo como esse no meio do código\n"
   ]
  },
  {
   "cell_type": "markdown",
   "metadata": {},
   "source": [
    "Também é possível fazer comentários de várias linhas utilizando três aspas:"
   ]
  },
  {
   "cell_type": "code",
   "execution_count": null,
   "metadata": {},
   "outputs": [],
   "source": [
    "\"\"\"\n",
    "esse é um comentário muito grande, e por isso pode ser interessante\n",
    "quebrar ele em várias linhas, para ficar mais fácil de ler\n",
    "um comentário grande e complexo como esse no meio do código\n",
    "\n",
    "\"\"\""
   ]
  },
  {
   "cell_type": "markdown",
   "metadata": {},
   "source": [
    "Note que estes \"comentários\" feitos com 3 aspas na verdade são strings de muitas linhas: mas o Python irá ignorá-las caso elas não sejá atribuídas a uma variável, funcionando, assim, como comentário.\n",
    "\n",
    "De qualquer forma, o modo acima, com um # em cada linha, é preferível!"
   ]
  },
  {
   "cell_type": "markdown",
   "metadata": {},
   "source": [
    "____\n",
    "____\n",
    "____"
   ]
  },
  {
   "cell_type": "markdown",
   "metadata": {},
   "source": [
    "## 3) Saída (output)\n",
    "\n",
    "É como o computador **apresenta dados de saída** para um usuário.\n",
    "\n",
    "Utilizamos a função print() para exibir o conteúdo na tela"
   ]
  },
  {
   "cell_type": "code",
   "execution_count": 62,
   "metadata": {
    "ExecuteTime": {
     "end_time": "2021-10-20T23:13:10.775074Z",
     "start_time": "2021-10-20T23:13:10.757085Z"
    }
   },
   "outputs": [
    {
     "name": "stdout",
     "output_type": "stream",
     "text": [
      "Olá, mundo\n"
     ]
    }
   ],
   "source": [
    "print(\"Olá, mundo\")"
   ]
  },
  {
   "cell_type": "markdown",
   "metadata": {},
   "source": [
    "Podemos imprimir diversas strings ou diversas variáveis em sequência, utilizando vírgula para separá-las dentro do print:"
   ]
  },
  {
   "cell_type": "code",
   "execution_count": 71,
   "metadata": {
    "ExecuteTime": {
     "end_time": "2021-10-20T23:15:54.511091Z",
     "start_time": "2021-10-20T23:15:54.492100Z"
    }
   },
   "outputs": [
    {
     "name": "stdout",
     "output_type": "stream",
     "text": [
      "1 7 oi 42\n",
      "tudo 234\n"
     ]
    }
   ],
   "source": [
    "x = 42\n",
    "\n",
    "print(1, 3+4, \"oi\", x, sep=\" \", end=\"\\n\")\n",
    "print(\"tudo\", 234)"
   ]
  },
  {
   "cell_type": "markdown",
   "metadata": {},
   "source": [
    "Um caractere especial do print é o \"\\n\", que serve para fazer a quebra de linha:"
   ]
  },
  {
   "cell_type": "code",
   "execution_count": 72,
   "metadata": {
    "ExecuteTime": {
     "end_time": "2021-10-20T23:16:10.157421Z",
     "start_time": "2021-10-20T23:16:10.140433Z"
    }
   },
   "outputs": [
    {
     "name": "stdout",
     "output_type": "stream",
     "text": [
      "olá\n",
      "mundo\n"
     ]
    }
   ],
   "source": [
    "print(\"olá\\nmundo\")"
   ]
  },
  {
   "cell_type": "code",
   "execution_count": 74,
   "metadata": {
    "ExecuteTime": {
     "end_time": "2021-10-20T23:19:05.905162Z",
     "start_time": "2021-10-20T23:19:05.887174Z"
    }
   },
   "outputs": [
    {
     "name": "stdout",
     "output_type": "stream",
     "text": [
      "olá\n",
      "mundo\n",
      "\n",
      "olá\tmundo\n",
      "\n",
      "olá\bmundo\n"
     ]
    }
   ],
   "source": [
    "print(\"olá\\nmundo\")\n",
    "print()\n",
    "print(\"olá\\tmundo\")\n",
    "print()\n",
    "print(\"olá\\bmundo\")"
   ]
  },
  {
   "cell_type": "markdown",
   "metadata": {},
   "source": [
    "[Escape characters](https://www.w3schools.com/python/gloss_python_escape_characters.asp)"
   ]
  },
  {
   "cell_type": "code",
   "execution_count": 80,
   "metadata": {
    "ExecuteTime": {
     "end_time": "2021-10-20T23:22:10.789874Z",
     "start_time": "2021-10-20T23:22:10.777880Z"
    }
   },
   "outputs": [
    {
     "data": {
      "text/plain": [
       "'pi: 8.14'"
      ]
     },
     "execution_count": 80,
     "metadata": {},
     "output_type": "execute_result"
    }
   ],
   "source": [
    "\"pi: {:.2f}\".format(math.pi+5)"
   ]
  },
  {
   "cell_type": "code",
   "execution_count": 81,
   "metadata": {
    "ExecuteTime": {
     "end_time": "2021-10-20T23:22:14.141400Z",
     "start_time": "2021-10-20T23:22:14.135406Z"
    }
   },
   "outputs": [
    {
     "data": {
      "text/plain": [
       "'pi: 8.14'"
      ]
     },
     "execution_count": 81,
     "metadata": {},
     "output_type": "execute_result"
    }
   ],
   "source": [
    "f\"pi: {math.pi+5:.2f}\""
   ]
  },
  {
   "cell_type": "code",
   "execution_count": 88,
   "metadata": {
    "ExecuteTime": {
     "end_time": "2021-10-20T23:25:46.354372Z",
     "start_time": "2021-10-20T23:25:46.333374Z"
    }
   },
   "outputs": [
    {
     "name": "stdout",
     "output_type": "stream",
     "text": [
      "[1, 3, 4, 5, 6]\n",
      "\n",
      "1\n",
      "3\n",
      "4\n",
      "5\n",
      "6\n"
     ]
    }
   ],
   "source": [
    "lista = [1, 3, 4, 5, 6]\n",
    "\n",
    "print(lista)\n",
    "print()\n",
    "print(*lista, sep=\"\\n\")"
   ]
  },
  {
   "cell_type": "code",
   "execution_count": 89,
   "metadata": {
    "ExecuteTime": {
     "end_time": "2021-10-20T23:26:37.401048Z",
     "start_time": "2021-10-20T23:26:37.378546Z"
    }
   },
   "outputs": [
    {
     "name": "stdout",
     "output_type": "stream",
     "text": [
      "(1, 3, 4, 5, 6)\n",
      "\n",
      "1\n",
      "3\n",
      "4\n",
      "5\n",
      "6\n"
     ]
    }
   ],
   "source": [
    "tupla = (1, 3, 4, 5, 6)\n",
    "\n",
    "print(tupla)\n",
    "print()\n",
    "print(*tupla, sep=\"\\n\")"
   ]
  },
  {
   "cell_type": "code",
   "execution_count": 90,
   "metadata": {
    "ExecuteTime": {
     "end_time": "2021-10-20T23:26:53.791359Z",
     "start_time": "2021-10-20T23:26:53.779366Z"
    }
   },
   "outputs": [
    {
     "name": "stdout",
     "output_type": "stream",
     "text": [
      "lets code\n",
      "\n",
      "l\n",
      "e\n",
      "t\n",
      "s\n",
      " \n",
      "c\n",
      "o\n",
      "d\n",
      "e\n"
     ]
    }
   ],
   "source": [
    "string = \"lets code\"\n",
    "\n",
    "print(string)\n",
    "print()\n",
    "print(*string, sep=\"\\n\")"
   ]
  },
  {
   "cell_type": "code",
   "execution_count": 91,
   "metadata": {
    "ExecuteTime": {
     "end_time": "2021-10-20T23:27:15.652814Z",
     "start_time": "2021-10-20T23:27:15.637824Z"
    }
   },
   "outputs": [
    {
     "name": "stdout",
     "output_type": "stream",
     "text": [
      "{'a': 2, 'b': 3}\n",
      "\n",
      "a\n",
      "b\n"
     ]
    }
   ],
   "source": [
    "dic = {\"a\": 2, \"b\": 3}\n",
    "\n",
    "print(dic)\n",
    "print()\n",
    "print(*dic, sep=\"\\n\")"
   ]
  },
  {
   "cell_type": "markdown",
   "metadata": {},
   "source": [
    "____\n",
    "____\n",
    "___"
   ]
  },
  {
   "cell_type": "markdown",
   "metadata": {},
   "source": [
    "## 4) Entrada (input)\n",
    "\n",
    "É como o computador **coleta dados de entrada** de um usuário através do teclado.\n",
    "\n",
    "Utilizamos a função input() para receber os dados do usuário, que deve digitá-los\n",
    "\n",
    "Opcionalmente, podemos colocar uma frase de instrução ao usuário na função input, dentro dos parênteses"
   ]
  },
  {
   "cell_type": "code",
   "execution_count": 95,
   "metadata": {
    "ExecuteTime": {
     "end_time": "2021-10-20T23:30:13.755043Z",
     "start_time": "2021-10-20T23:29:53.499749Z"
    }
   },
   "outputs": [
    {
     "name": "stdout",
     "output_type": "stream",
     "text": [
      "digite algo: algo\n"
     ]
    }
   ],
   "source": [
    "resultado = input(\"digite algo: \")"
   ]
  },
  {
   "cell_type": "code",
   "execution_count": 96,
   "metadata": {
    "ExecuteTime": {
     "end_time": "2021-10-20T23:30:17.950987Z",
     "start_time": "2021-10-20T23:30:17.939478Z"
    }
   },
   "outputs": [
    {
     "data": {
      "text/plain": [
       "'algo'"
      ]
     },
     "execution_count": 96,
     "metadata": {},
     "output_type": "execute_result"
    }
   ],
   "source": [
    "resultado"
   ]
  },
  {
   "cell_type": "markdown",
   "metadata": {},
   "source": [
    "__IMPORTANTE: a função input() toma o que o usuário digitou como uma string! Se o usuário digitar algum número, e algum cálculo for feito com esse número, o número deve ser transformado em int ou float!__\n",
    "\n",
    "A melhor forma de fazer isso, é já transformar o resultado da função input em float.\n",
    "\n",
    "Fazemos isso com uma espécie de sanduíche, colocando a função input() dentro da função float(), que transforma uma string em um float!\n",
    "\n",
    "OBS: é melhor transformar o input em float ao invés de int, pois o float é um tipo numérico mais genérico, apesar de ocupar (um pouco) mais memória"
   ]
  },
  {
   "cell_type": "code",
   "execution_count": 97,
   "metadata": {
    "ExecuteTime": {
     "end_time": "2021-10-20T23:30:38.143387Z",
     "start_time": "2021-10-20T23:30:36.123361Z"
    }
   },
   "outputs": [
    {
     "name": "stdout",
     "output_type": "stream",
     "text": [
      "digite um numero: 4\n"
     ]
    }
   ],
   "source": [
    "# num = input(\"digite um numero: \")\n",
    "\n",
    "# num = int(num)"
   ]
  },
  {
   "cell_type": "code",
   "execution_count": 106,
   "metadata": {
    "ExecuteTime": {
     "end_time": "2021-10-20T23:33:12.851198Z",
     "start_time": "2021-10-20T23:33:10.590643Z"
    }
   },
   "outputs": [
    {
     "name": "stdout",
     "output_type": "stream",
     "text": [
      "digite um numero: 4.2\n"
     ]
    },
    {
     "data": {
      "text/plain": [
       "14.2"
      ]
     },
     "execution_count": 106,
     "metadata": {},
     "output_type": "execute_result"
    }
   ],
   "source": [
    "num = float(input(\"digite um numero: \"))\n",
    "\n",
    "num + 10"
   ]
  },
  {
   "cell_type": "code",
   "execution_count": 142,
   "metadata": {
    "ExecuteTime": {
     "end_time": "2021-10-20T23:55:13.312161Z",
     "start_time": "2021-10-20T23:55:11.770537Z"
    }
   },
   "outputs": [
    {
     "name": "stdout",
     "output_type": "stream",
     "text": [
      "Digite qualquer coisa: andre\n",
      "\n",
      "Você digitou andre que é do tipo <class 'str'>\n"
     ]
    }
   ],
   "source": [
    "qqr = input(\"Digite qualquer coisa: \")\n",
    "\n",
    "try:\n",
    "    qqr = int(qqr)\n",
    "\n",
    "except:\n",
    "    \n",
    "    try:\n",
    "        qqr = float(qqr)\n",
    "        \n",
    "    except:\n",
    "        \n",
    "        pass\n",
    "\n",
    "print(f\"\\nVocê digitou {qqr} que é do tipo {type(qqr)}\")"
   ]
  },
  {
   "cell_type": "code",
   "execution_count": 148,
   "metadata": {
    "ExecuteTime": {
     "end_time": "2021-10-21T00:00:20.525573Z",
     "start_time": "2021-10-21T00:00:18.557638Z"
    }
   },
   "outputs": [
    {
     "name": "stdout",
     "output_type": "stream",
     "text": [
      "Digite qualquer coisa: andre\n",
      "deu erro!\n"
     ]
    },
    {
     "ename": "ValueError",
     "evalue": "could not convert string to float: 'andre'",
     "output_type": "error",
     "traceback": [
      "\u001b[1;31m---------------------------------------------------------------------------\u001b[0m",
      "\u001b[1;31mValueError\u001b[0m                                Traceback (most recent call last)",
      "\u001b[1;32m<ipython-input-148-99586cd2b406>\u001b[0m in \u001b[0;36m<module>\u001b[1;34m\u001b[0m\n\u001b[0;32m      3\u001b[0m \u001b[1;32mtry\u001b[0m\u001b[1;33m:\u001b[0m\u001b[1;33m\u001b[0m\u001b[1;33m\u001b[0m\u001b[0m\n\u001b[1;32m----> 4\u001b[1;33m     \u001b[0mqqr\u001b[0m \u001b[1;33m=\u001b[0m \u001b[0mint\u001b[0m\u001b[1;33m(\u001b[0m\u001b[0mqqr\u001b[0m\u001b[1;33m)\u001b[0m\u001b[1;33m\u001b[0m\u001b[1;33m\u001b[0m\u001b[0m\n\u001b[0m\u001b[0;32m      5\u001b[0m \u001b[1;33m\u001b[0m\u001b[0m\n",
      "\u001b[1;31mValueError\u001b[0m: invalid literal for int() with base 10: 'andre'",
      "\nDuring handling of the above exception, another exception occurred:\n",
      "\u001b[1;31mValueError\u001b[0m                                Traceback (most recent call last)",
      "\u001b[1;32m<ipython-input-148-99586cd2b406>\u001b[0m in \u001b[0;36m<module>\u001b[1;34m\u001b[0m\n\u001b[0;32m      6\u001b[0m \u001b[1;32mexcept\u001b[0m\u001b[1;33m:\u001b[0m\u001b[1;33m\u001b[0m\u001b[1;33m\u001b[0m\u001b[0m\n\u001b[0;32m      7\u001b[0m \u001b[1;33m\u001b[0m\u001b[0m\n\u001b[1;32m----> 8\u001b[1;33m     \u001b[0mqqr\u001b[0m \u001b[1;33m=\u001b[0m \u001b[0mfloat\u001b[0m\u001b[1;33m(\u001b[0m\u001b[0mqqr\u001b[0m\u001b[1;33m)\u001b[0m\u001b[1;33m\u001b[0m\u001b[1;33m\u001b[0m\u001b[0m\n\u001b[0m\u001b[0;32m      9\u001b[0m \u001b[1;33m\u001b[0m\u001b[0m\n\u001b[0;32m     10\u001b[0m \u001b[1;32mfinally\u001b[0m\u001b[1;33m:\u001b[0m\u001b[1;33m\u001b[0m\u001b[1;33m\u001b[0m\u001b[0m\n",
      "\u001b[1;31mValueError\u001b[0m: could not convert string to float: 'andre'"
     ]
    }
   ],
   "source": [
    "# finally - é executado independente de erros. ou seja, SEMPRE é executado.\n",
    "\n",
    "qqr = input(\"Digite qualquer coisa: \")\n",
    "\n",
    "try:\n",
    "    qqr = int(qqr)\n",
    "\n",
    "except:\n",
    "\n",
    "    qqr = float(qqr)\n",
    "        \n",
    "finally:\n",
    "        \n",
    "    print(\"deu erro!\")\n",
    "    \n",
    "\n",
    "print(f\"\\nVocê digitou {qqr} que é do tipo {type(qqr)}\")"
   ]
  },
  {
   "cell_type": "markdown",
   "metadata": {},
   "source": [
    "Alguns outros casos, com raise de exception"
   ]
  },
  {
   "cell_type": "code",
   "execution_count": 135,
   "metadata": {
    "ExecuteTime": {
     "end_time": "2021-10-20T23:51:54.184282Z",
     "start_time": "2021-10-20T23:51:54.172290Z"
    }
   },
   "outputs": [
    {
     "name": "stdout",
     "output_type": "stream",
     "text": [
      "CUIDADO, DEU ERRO!\n"
     ]
    },
    {
     "data": {
      "text/plain": [
       "'andre'"
      ]
     },
     "execution_count": 135,
     "metadata": {},
     "output_type": "execute_result"
    }
   ],
   "source": [
    "qqr = \"andre\"\n",
    "\n",
    "try:\n",
    "    qqr = int(qqr)\n",
    "    \n",
    "    print(\"Deu certo!\")\n",
    "    \n",
    "except:\n",
    "\n",
    "    print(\"CUIDADO, DEU ERRO!\")\n",
    "\n",
    "qqr"
   ]
  },
  {
   "cell_type": "code",
   "execution_count": 130,
   "metadata": {
    "ExecuteTime": {
     "end_time": "2021-10-20T23:49:24.124659Z",
     "start_time": "2021-10-20T23:49:24.093684Z"
    },
    "scrolled": true
   },
   "outputs": [
    {
     "ename": "ValueError",
     "evalue": "Valor inválido, não é inteiro",
     "output_type": "error",
     "traceback": [
      "\u001b[1;31m---------------------------------------------------------------------------\u001b[0m",
      "\u001b[1;31mValueError\u001b[0m                                Traceback (most recent call last)",
      "\u001b[1;32m<ipython-input-130-5699ef7073e4>\u001b[0m in \u001b[0;36m<module>\u001b[1;34m\u001b[0m\n\u001b[0;32m      3\u001b[0m \u001b[1;32mtry\u001b[0m\u001b[1;33m:\u001b[0m\u001b[1;33m\u001b[0m\u001b[1;33m\u001b[0m\u001b[0m\n\u001b[1;32m----> 4\u001b[1;33m     \u001b[0mqqr\u001b[0m \u001b[1;33m=\u001b[0m \u001b[0mint\u001b[0m\u001b[1;33m(\u001b[0m\u001b[0mqqr\u001b[0m\u001b[1;33m)\u001b[0m\u001b[1;33m\u001b[0m\u001b[1;33m\u001b[0m\u001b[0m\n\u001b[0m\u001b[0;32m      5\u001b[0m \u001b[1;33m\u001b[0m\u001b[0m\n",
      "\u001b[1;31mValueError\u001b[0m: invalid literal for int() with base 10: 'andre'",
      "\nDuring handling of the above exception, another exception occurred:\n",
      "\u001b[1;31mValueError\u001b[0m                                Traceback (most recent call last)",
      "\u001b[1;32m<ipython-input-130-5699ef7073e4>\u001b[0m in \u001b[0;36m<module>\u001b[1;34m\u001b[0m\n\u001b[0;32m      6\u001b[0m \u001b[1;32mexcept\u001b[0m\u001b[1;33m:\u001b[0m\u001b[1;33m\u001b[0m\u001b[1;33m\u001b[0m\u001b[0m\n\u001b[0;32m      7\u001b[0m \u001b[1;33m\u001b[0m\u001b[0m\n\u001b[1;32m----> 8\u001b[1;33m     \u001b[1;32mraise\u001b[0m \u001b[0mValueError\u001b[0m\u001b[1;33m(\u001b[0m\u001b[1;34m\"Valor inválido, não é inteiro\"\u001b[0m\u001b[1;33m)\u001b[0m\u001b[1;33m\u001b[0m\u001b[1;33m\u001b[0m\u001b[0m\n\u001b[0m",
      "\u001b[1;31mValueError\u001b[0m: Valor inválido, não é inteiro"
     ]
    }
   ],
   "source": [
    "qqr = \"andre\"\n",
    "\n",
    "try:\n",
    "    qqr = int(qqr)\n",
    "    \n",
    "except:\n",
    "\n",
    "    raise ValueError(\"Valor inválido, não é inteiro\")"
   ]
  },
  {
   "cell_type": "code",
   "execution_count": 150,
   "metadata": {
    "ExecuteTime": {
     "end_time": "2021-10-21T00:04:57.888106Z",
     "start_time": "2021-10-21T00:04:53.777162Z"
    }
   },
   "outputs": [
    {
     "name": "stdout",
     "output_type": "stream",
     "text": [
      "Digite um numero: andre\n",
      "Digite um numero: 4.2\n"
     ]
    }
   ],
   "source": [
    "# by carlos andrade\n",
    "\n",
    "def enumero(value):\n",
    "    try:\n",
    "         float(value)\n",
    "            \n",
    "    except ValueError:\n",
    "         \n",
    "        return False\n",
    "    \n",
    "    return True\n",
    "\n",
    "numero = ''\n",
    "\n",
    "while not enumero(numero) :\n",
    "    numero = input('Digite um numero: ')"
   ]
  },
  {
   "cell_type": "markdown",
   "metadata": {},
   "source": [
    "____\n",
    "____\n",
    "____"
   ]
  },
  {
   "cell_type": "markdown",
   "metadata": {},
   "source": [
    "Use o time.sleep() se bugar a ordem do print e input"
   ]
  },
  {
   "cell_type": "code",
   "execution_count": 154,
   "metadata": {
    "ExecuteTime": {
     "end_time": "2021-10-21T00:15:27.187667Z",
     "start_time": "2021-10-21T00:15:19.783203Z"
    }
   },
   "outputs": [
    {
     "name": "stdout",
     "output_type": "stream",
     "text": [
      "\n",
      "Responda as perguntas com S ou N\n",
      "???? \\zxc\n"
     ]
    }
   ],
   "source": [
    "import time\n",
    "\n",
    "print('\\nResponda as perguntas com S ou N')\n",
    "\n",
    "time.sleep(0.5)\n",
    "    \n",
    "resp = input(\"???? \").upper()"
   ]
  },
  {
   "cell_type": "markdown",
   "metadata": {},
   "source": [
    "## 5) Operadores Matemáticos\n",
    "\n",
    "Em Python, temos as principais operações matemáticas, com os respectivos símbolos:\n",
    "\n",
    "- soma: (+)\n",
    "\n",
    "- subtração: (-)\n",
    "\n",
    "- multiplicação: (*)\n",
    "\n",
    "- divisão: (/)\n",
    "\n",
    "- potência: (**)\n",
    "\n",
    "Além disso, temos duas operações especiais:\n",
    "\n",
    "- divisão inteira: (//) retorna a parte inteira da divisão entre dois números\n",
    "\n",
    "- resto da divisão: (%) se lê \"mod\", e retorna o resto da divisão entre dois números"
   ]
  },
  {
   "cell_type": "code",
   "execution_count": 157,
   "metadata": {
    "ExecuteTime": {
     "end_time": "2021-10-21T00:27:14.455323Z",
     "start_time": "2021-10-21T00:27:14.445330Z"
    }
   },
   "outputs": [
    {
     "data": {
      "text/plain": [
       "4"
      ]
     },
     "execution_count": 157,
     "metadata": {},
     "output_type": "execute_result"
    }
   ],
   "source": [
    "2+2"
   ]
  },
  {
   "cell_type": "code",
   "execution_count": 158,
   "metadata": {
    "ExecuteTime": {
     "end_time": "2021-10-21T00:27:23.929072Z",
     "start_time": "2021-10-21T00:27:23.922077Z"
    }
   },
   "outputs": [
    {
     "data": {
      "text/plain": [
       "7.4"
      ]
     },
     "execution_count": 158,
     "metadata": {},
     "output_type": "execute_result"
    }
   ],
   "source": [
    "2.4 + 5"
   ]
  },
  {
   "cell_type": "code",
   "execution_count": 162,
   "metadata": {
    "ExecuteTime": {
     "end_time": "2021-10-21T00:28:26.304007Z",
     "start_time": "2021-10-21T00:28:26.284019Z"
    }
   },
   "outputs": [
    {
     "data": {
      "text/plain": [
       "-2"
      ]
     },
     "execution_count": 162,
     "metadata": {},
     "output_type": "execute_result"
    }
   ],
   "source": [
    "0-2"
   ]
  },
  {
   "cell_type": "code",
   "execution_count": 163,
   "metadata": {
    "ExecuteTime": {
     "end_time": "2021-10-21T00:28:31.869396Z",
     "start_time": "2021-10-21T00:28:31.852403Z"
    }
   },
   "outputs": [
    {
     "data": {
      "text/plain": [
       "-10"
      ]
     },
     "execution_count": 163,
     "metadata": {},
     "output_type": "execute_result"
    }
   ],
   "source": [
    "-4 -6"
   ]
  },
  {
   "cell_type": "code",
   "execution_count": 166,
   "metadata": {
    "ExecuteTime": {
     "end_time": "2021-10-21T00:29:03.549394Z",
     "start_time": "2021-10-21T00:29:03.535401Z"
    }
   },
   "outputs": [
    {
     "data": {
      "text/plain": [
       "0.20000000000000018"
      ]
     },
     "execution_count": 166,
     "metadata": {},
     "output_type": "execute_result"
    }
   ],
   "source": [
    "4.2 - 4"
   ]
  },
  {
   "cell_type": "code",
   "execution_count": 168,
   "metadata": {
    "ExecuteTime": {
     "end_time": "2021-10-21T00:30:41.006018Z",
     "start_time": "2021-10-21T00:30:40.986031Z"
    }
   },
   "outputs": [
    {
     "data": {
      "text/plain": [
       "8"
      ]
     },
     "execution_count": 168,
     "metadata": {},
     "output_type": "execute_result"
    }
   ],
   "source": [
    "4*2"
   ]
  },
  {
   "cell_type": "code",
   "execution_count": 169,
   "metadata": {
    "ExecuteTime": {
     "end_time": "2021-10-21T00:30:48.671209Z",
     "start_time": "2021-10-21T00:30:48.663214Z"
    }
   },
   "outputs": [
    {
     "data": {
      "text/plain": [
       "18.480000000000004"
      ]
     },
     "execution_count": 169,
     "metadata": {},
     "output_type": "execute_result"
    }
   ],
   "source": [
    "4.2*4.4"
   ]
  },
  {
   "cell_type": "code",
   "execution_count": 172,
   "metadata": {
    "ExecuteTime": {
     "end_time": "2021-10-21T00:31:16.998312Z",
     "start_time": "2021-10-21T00:31:16.984316Z"
    }
   },
   "outputs": [
    {
     "data": {
      "text/plain": [
       "-16.8"
      ]
     },
     "execution_count": 172,
     "metadata": {},
     "output_type": "execute_result"
    }
   ],
   "source": [
    "4.2*(-4)"
   ]
  },
  {
   "cell_type": "code",
   "execution_count": 175,
   "metadata": {
    "ExecuteTime": {
     "end_time": "2021-10-21T00:32:24.982674Z",
     "start_time": "2021-10-21T00:32:24.965681Z"
    }
   },
   "outputs": [
    {
     "data": {
      "text/plain": [
       "1"
      ]
     },
     "execution_count": 175,
     "metadata": {},
     "output_type": "execute_result"
    }
   ],
   "source": [
    "4 + (2*1) - 5"
   ]
  },
  {
   "cell_type": "code",
   "execution_count": 178,
   "metadata": {
    "ExecuteTime": {
     "end_time": "2021-10-21T00:33:31.044336Z",
     "start_time": "2021-10-21T00:33:31.037341Z"
    }
   },
   "outputs": [
    {
     "data": {
      "text/plain": [
       "2.0"
      ]
     },
     "execution_count": 178,
     "metadata": {},
     "output_type": "execute_result"
    }
   ],
   "source": [
    "4/2"
   ]
  },
  {
   "cell_type": "code",
   "execution_count": 177,
   "metadata": {
    "ExecuteTime": {
     "end_time": "2021-10-21T00:33:20.093232Z",
     "start_time": "2021-10-21T00:33:20.080238Z"
    }
   },
   "outputs": [
    {
     "data": {
      "text/plain": [
       "2"
      ]
     },
     "execution_count": 177,
     "metadata": {},
     "output_type": "execute_result"
    }
   ],
   "source": [
    "int(4/2)"
   ]
  },
  {
   "cell_type": "code",
   "execution_count": 180,
   "metadata": {
    "ExecuteTime": {
     "end_time": "2021-10-21T00:33:54.906054Z",
     "start_time": "2021-10-21T00:33:54.887064Z"
    }
   },
   "outputs": [
    {
     "data": {
      "text/plain": [
       "0.875"
      ]
     },
     "execution_count": 180,
     "metadata": {},
     "output_type": "execute_result"
    }
   ],
   "source": [
    "7/8"
   ]
  },
  {
   "cell_type": "code",
   "execution_count": 179,
   "metadata": {
    "ExecuteTime": {
     "end_time": "2021-10-21T00:33:49.812543Z",
     "start_time": "2021-10-21T00:33:49.799550Z"
    }
   },
   "outputs": [
    {
     "data": {
      "text/plain": [
       "4.0"
      ]
     },
     "execution_count": 179,
     "metadata": {},
     "output_type": "execute_result"
    }
   ],
   "source": [
    "4/1"
   ]
  },
  {
   "cell_type": "code",
   "execution_count": 181,
   "metadata": {
    "ExecuteTime": {
     "end_time": "2021-10-21T00:34:04.406544Z",
     "start_time": "2021-10-21T00:34:04.393551Z"
    }
   },
   "outputs": [
    {
     "data": {
      "text/plain": [
       "3.3333333333333335"
      ]
     },
     "execution_count": 181,
     "metadata": {},
     "output_type": "execute_result"
    }
   ],
   "source": [
    "10/3"
   ]
  },
  {
   "cell_type": "code",
   "execution_count": 182,
   "metadata": {
    "ExecuteTime": {
     "end_time": "2021-10-21T00:34:30.361872Z",
     "start_time": "2021-10-21T00:34:30.355878Z"
    }
   },
   "outputs": [
    {
     "data": {
      "text/plain": [
       "16"
      ]
     },
     "execution_count": 182,
     "metadata": {},
     "output_type": "execute_result"
    }
   ],
   "source": [
    "2**4"
   ]
  },
  {
   "cell_type": "code",
   "execution_count": 184,
   "metadata": {
    "ExecuteTime": {
     "end_time": "2021-10-21T00:34:39.673067Z",
     "start_time": "2021-10-21T00:34:39.655196Z"
    }
   },
   "outputs": [
    {
     "data": {
      "text/plain": [
       "17.64"
      ]
     },
     "execution_count": 184,
     "metadata": {},
     "output_type": "execute_result"
    }
   ],
   "source": [
    "4.2**2"
   ]
  },
  {
   "cell_type": "code",
   "execution_count": 185,
   "metadata": {
    "ExecuteTime": {
     "end_time": "2021-10-21T00:34:46.793547Z",
     "start_time": "2021-10-21T00:34:46.774560Z"
    }
   },
   "outputs": [
    {
     "data": {
      "text/plain": [
       "20.36214425352342"
      ]
     },
     "execution_count": 185,
     "metadata": {},
     "output_type": "execute_result"
    }
   ],
   "source": [
    "4.2**2.1"
   ]
  },
  {
   "cell_type": "code",
   "execution_count": 186,
   "metadata": {
    "ExecuteTime": {
     "end_time": "2021-10-21T00:35:06.478587Z",
     "start_time": "2021-10-21T00:35:06.456600Z"
    }
   },
   "outputs": [
    {
     "data": {
      "text/plain": [
       "3.0"
      ]
     },
     "execution_count": 186,
     "metadata": {},
     "output_type": "execute_result"
    }
   ],
   "source": [
    "9**0.5"
   ]
  },
  {
   "cell_type": "code",
   "execution_count": 187,
   "metadata": {
    "ExecuteTime": {
     "end_time": "2021-10-21T00:35:14.852095Z",
     "start_time": "2021-10-21T00:35:14.845098Z"
    }
   },
   "outputs": [
    {
     "data": {
      "text/plain": [
       "3.0"
      ]
     },
     "execution_count": 187,
     "metadata": {},
     "output_type": "execute_result"
    }
   ],
   "source": [
    "math.sqrt(9)"
   ]
  },
  {
   "cell_type": "code",
   "execution_count": 189,
   "metadata": {
    "ExecuteTime": {
     "end_time": "2021-10-21T00:36:16.556140Z",
     "start_time": "2021-10-21T00:36:16.541147Z"
    }
   },
   "outputs": [
    {
     "data": {
      "text/plain": [
       "1.1428571428571428"
      ]
     },
     "execution_count": 189,
     "metadata": {},
     "output_type": "execute_result"
    }
   ],
   "source": [
    "8/7"
   ]
  },
  {
   "cell_type": "code",
   "execution_count": 190,
   "metadata": {
    "ExecuteTime": {
     "end_time": "2021-10-21T00:36:40.898360Z",
     "start_time": "2021-10-21T00:36:40.888364Z"
    }
   },
   "outputs": [
    {
     "data": {
      "text/plain": [
       "1"
      ]
     },
     "execution_count": 190,
     "metadata": {},
     "output_type": "execute_result"
    }
   ],
   "source": [
    "8//7"
   ]
  },
  {
   "cell_type": "code",
   "execution_count": 192,
   "metadata": {
    "ExecuteTime": {
     "end_time": "2021-10-21T00:37:58.392750Z",
     "start_time": "2021-10-21T00:37:58.383758Z"
    }
   },
   "outputs": [
    {
     "data": {
      "text/plain": [
       "1"
      ]
     },
     "execution_count": 192,
     "metadata": {},
     "output_type": "execute_result"
    }
   ],
   "source": [
    "8 % 7"
   ]
  },
  {
   "cell_type": "code",
   "execution_count": 193,
   "metadata": {
    "ExecuteTime": {
     "end_time": "2021-10-21T00:41:24.170080Z",
     "start_time": "2021-10-21T00:41:24.152089Z"
    }
   },
   "outputs": [
    {
     "data": {
      "text/plain": [
       "2.6666666666666665"
      ]
     },
     "execution_count": 193,
     "metadata": {},
     "output_type": "execute_result"
    }
   ],
   "source": [
    "8/3"
   ]
  },
  {
   "cell_type": "code",
   "execution_count": 194,
   "metadata": {
    "ExecuteTime": {
     "end_time": "2021-10-21T00:41:32.743486Z",
     "start_time": "2021-10-21T00:41:32.729980Z"
    }
   },
   "outputs": [
    {
     "data": {
      "text/plain": [
       "2"
      ]
     },
     "execution_count": 194,
     "metadata": {},
     "output_type": "execute_result"
    }
   ],
   "source": [
    "8//3"
   ]
  },
  {
   "cell_type": "code",
   "execution_count": 196,
   "metadata": {
    "ExecuteTime": {
     "end_time": "2021-10-21T00:41:50.292923Z",
     "start_time": "2021-10-21T00:41:50.282924Z"
    }
   },
   "outputs": [
    {
     "data": {
      "text/plain": [
       "2"
      ]
     },
     "execution_count": 196,
     "metadata": {},
     "output_type": "execute_result"
    }
   ],
   "source": [
    "8 % 3"
   ]
  },
  {
   "cell_type": "code",
   "execution_count": 197,
   "metadata": {
    "ExecuteTime": {
     "end_time": "2021-10-21T00:42:28.348083Z",
     "start_time": "2021-10-21T00:42:28.335090Z"
    }
   },
   "outputs": [
    {
     "data": {
      "text/plain": [
       "4"
      ]
     },
     "execution_count": 197,
     "metadata": {},
     "output_type": "execute_result"
    }
   ],
   "source": [
    "13//3"
   ]
  },
  {
   "cell_type": "code",
   "execution_count": 198,
   "metadata": {
    "ExecuteTime": {
     "end_time": "2021-10-21T00:42:33.003497Z",
     "start_time": "2021-10-21T00:42:32.984505Z"
    }
   },
   "outputs": [
    {
     "data": {
      "text/plain": [
       "1"
      ]
     },
     "execution_count": 198,
     "metadata": {},
     "output_type": "execute_result"
    }
   ],
   "source": [
    "13%3"
   ]
  },
  {
   "cell_type": "markdown",
   "metadata": {},
   "source": [
    "OBS: o principal uso do operador resto da divisão (%) é para avaliar se um número é par ou impar:\n",
    "\n",
    "- se o resto da divisão de um número por 2 **É ZERO**, ele é par;\n",
    "- se o resto da divisão de um número por 2 **É UM**, ele é ímpar;\n"
   ]
  },
  {
   "cell_type": "code",
   "execution_count": 200,
   "metadata": {
    "ExecuteTime": {
     "end_time": "2021-10-21T00:45:37.031683Z",
     "start_time": "2021-10-21T00:45:37.018685Z"
    }
   },
   "outputs": [
    {
     "data": {
      "text/plain": [
       "0"
      ]
     },
     "execution_count": 200,
     "metadata": {},
     "output_type": "execute_result"
    }
   ],
   "source": [
    "35456567788 % 2 "
   ]
  },
  {
   "cell_type": "code",
   "execution_count": 201,
   "metadata": {
    "ExecuteTime": {
     "end_time": "2021-10-21T00:45:43.687286Z",
     "start_time": "2021-10-21T00:45:43.671298Z"
    }
   },
   "outputs": [
    {
     "data": {
      "text/plain": [
       "1"
      ]
     },
     "execution_count": 201,
     "metadata": {},
     "output_type": "execute_result"
    }
   ],
   "source": [
    "354565677883 % 2 "
   ]
  }
 ],
 "metadata": {
  "kernelspec": {
   "display_name": "Python 3",
   "language": "python",
   "name": "python3"
  },
  "language_info": {
   "codemirror_mode": {
    "name": "ipython",
    "version": 3
   },
   "file_extension": ".py",
   "mimetype": "text/x-python",
   "name": "python",
   "nbconvert_exporter": "python",
   "pygments_lexer": "ipython3",
   "version": "3.8.3"
  }
 },
 "nbformat": 4,
 "nbformat_minor": 4
}
