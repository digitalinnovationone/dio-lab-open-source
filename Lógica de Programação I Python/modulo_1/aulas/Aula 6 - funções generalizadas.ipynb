{
 "cells": [
  {
   "cell_type": "markdown",
   "metadata": {},
   "source": [
    "# Aula 6 - funções generalizadas\n",
    "\n",
    "Na aula de hoje, vamos explorar os seguintes tópicos em Python:\n",
    "\n",
    "- 1) Funções com parâmetros variáveis (\\*args)\n",
    "- 2) Funções com parâmetros opcionais (\\*\\*kwargs)\n",
    "\n",
    "_______\n"
   ]
  },
  {
   "cell_type": "markdown",
   "metadata": {},
   "source": [
    "____\n",
    "____\n",
    "____"
   ]
  },
  {
   "cell_type": "markdown",
   "metadata": {},
   "source": [
    "## 1) Funções com parâmetros variáveis (\\*args)\n",
    "\n",
    "Se não quisermos especificar **quais** e **quantos** são os parâmetros de uma função, passamos o argumento com **um asterisco**\n",
    "\n",
    "- Os parâmetros passados são **agrupados em uma tupla**, automaticamente, pelo python.\n",
    "\n",
    "Porém, o usuário não precisa passar uma tupla: basta passar vários argumentos separados por vírgula, e o Python automaticamente criará uma tupla com eles. \n",
    "\n",
    "Uma função que segue exatamente essa estrutura é o `print()`!\n",
    "\n",
    "Vamos criar uma função desta forma:"
   ]
  },
  {
   "cell_type": "code",
   "execution_count": 4,
   "metadata": {
    "ExecuteTime": {
     "end_time": "2021-11-03T22:27:36.334101Z",
     "start_time": "2021-11-03T22:27:36.320110Z"
    }
   },
   "outputs": [
    {
     "name": "stdout",
     "output_type": "stream",
     "text": [
      "4 olá True\n"
     ]
    }
   ],
   "source": [
    "print(2+2, \"olá\", True)"
   ]
  },
  {
   "cell_type": "code",
   "execution_count": 71,
   "metadata": {
    "ExecuteTime": {
     "end_time": "2021-11-03T23:04:38.490373Z",
     "start_time": "2021-11-03T23:04:38.473381Z"
    }
   },
   "outputs": [],
   "source": [
    "def somatorio_rigido(x1, x2):\n",
    "    \n",
    "    return x1 + x2"
   ]
  },
  {
   "cell_type": "code",
   "execution_count": 72,
   "metadata": {
    "ExecuteTime": {
     "end_time": "2021-11-03T23:04:38.736746Z",
     "start_time": "2021-11-03T23:04:38.724749Z"
    }
   },
   "outputs": [
    {
     "data": {
      "text/plain": [
       "5"
      ]
     },
     "execution_count": 72,
     "metadata": {},
     "output_type": "execute_result"
    }
   ],
   "source": [
    "somatorio_rigido(2, 3)"
   ]
  },
  {
   "cell_type": "code",
   "execution_count": 73,
   "metadata": {
    "ExecuteTime": {
     "end_time": "2021-11-03T23:04:39.096537Z",
     "start_time": "2021-11-03T23:04:39.053562Z"
    }
   },
   "outputs": [
    {
     "ename": "TypeError",
     "evalue": "somatorio_rigido() missing 1 required positional argument: 'x2'",
     "output_type": "error",
     "traceback": [
      "\u001b[1;31m---------------------------------------------------------------------------\u001b[0m",
      "\u001b[1;31mTypeError\u001b[0m                                 Traceback (most recent call last)",
      "\u001b[1;32m<ipython-input-73-c3e2c65a419d>\u001b[0m in \u001b[0;36m<module>\u001b[1;34m\u001b[0m\n\u001b[1;32m----> 1\u001b[1;33m \u001b[0msomatorio_rigido\u001b[0m\u001b[1;33m(\u001b[0m\u001b[1;36m2\u001b[0m\u001b[1;33m)\u001b[0m\u001b[1;33m\u001b[0m\u001b[1;33m\u001b[0m\u001b[0m\n\u001b[0m",
      "\u001b[1;31mTypeError\u001b[0m: somatorio_rigido() missing 1 required positional argument: 'x2'"
     ]
    }
   ],
   "source": [
    "somatorio_rigido(2)"
   ]
  },
  {
   "cell_type": "code",
   "execution_count": 74,
   "metadata": {
    "ExecuteTime": {
     "end_time": "2021-11-03T23:04:39.498612Z",
     "start_time": "2021-11-03T23:04:39.464631Z"
    }
   },
   "outputs": [
    {
     "ename": "TypeError",
     "evalue": "somatorio_rigido() takes 2 positional arguments but 3 were given",
     "output_type": "error",
     "traceback": [
      "\u001b[1;31m---------------------------------------------------------------------------\u001b[0m",
      "\u001b[1;31mTypeError\u001b[0m                                 Traceback (most recent call last)",
      "\u001b[1;32m<ipython-input-74-e8fa473619a9>\u001b[0m in \u001b[0;36m<module>\u001b[1;34m\u001b[0m\n\u001b[1;32m----> 1\u001b[1;33m \u001b[0msomatorio_rigido\u001b[0m\u001b[1;33m(\u001b[0m\u001b[1;36m2\u001b[0m\u001b[1;33m,\u001b[0m \u001b[1;36m3\u001b[0m\u001b[1;33m,\u001b[0m \u001b[1;36m4\u001b[0m\u001b[1;33m)\u001b[0m\u001b[1;33m\u001b[0m\u001b[1;33m\u001b[0m\u001b[0m\n\u001b[0m",
      "\u001b[1;31mTypeError\u001b[0m: somatorio_rigido() takes 2 positional arguments but 3 were given"
     ]
    }
   ],
   "source": [
    "somatorio_rigido(2, 3, 4)"
   ]
  },
  {
   "cell_type": "code",
   "execution_count": 10,
   "metadata": {
    "ExecuteTime": {
     "end_time": "2021-11-03T22:34:32.769200Z",
     "start_time": "2021-11-03T22:34:32.753208Z"
    }
   },
   "outputs": [
    {
     "data": {
      "text/plain": [
       "(1, 2, 3, 4, 5)"
      ]
     },
     "execution_count": 10,
     "metadata": {},
     "output_type": "execute_result"
    }
   ],
   "source": [
    "1, 2, 3, 4, 5"
   ]
  },
  {
   "cell_type": "code",
   "execution_count": 55,
   "metadata": {
    "ExecuteTime": {
     "end_time": "2021-11-03T23:01:02.555764Z",
     "start_time": "2021-11-03T23:01:02.535774Z"
    }
   },
   "outputs": [],
   "source": [
    "def somatorio(*args):\n",
    "    \n",
    "    soma = 0\n",
    "    \n",
    "    # não é necessario, mas é util\n",
    "    print(args)\n",
    "\n",
    "    for elemento in args:\n",
    "\n",
    "        if type(elemento) == int or type(elemento) == float:\n",
    "\n",
    "            soma = soma + elemento\n",
    "            \n",
    "    return soma"
   ]
  },
  {
   "cell_type": "code",
   "execution_count": 56,
   "metadata": {
    "ExecuteTime": {
     "end_time": "2021-11-03T23:01:04.367378Z",
     "start_time": "2021-11-03T23:01:04.349389Z"
    }
   },
   "outputs": [
    {
     "name": "stdout",
     "output_type": "stream",
     "text": [
      "(1,)\n"
     ]
    },
    {
     "data": {
      "text/plain": [
       "1"
      ]
     },
     "execution_count": 56,
     "metadata": {},
     "output_type": "execute_result"
    }
   ],
   "source": [
    "somatorio(1)"
   ]
  },
  {
   "cell_type": "code",
   "execution_count": 57,
   "metadata": {
    "ExecuteTime": {
     "end_time": "2021-11-03T23:01:08.315740Z",
     "start_time": "2021-11-03T23:01:08.301729Z"
    }
   },
   "outputs": [
    {
     "name": "stdout",
     "output_type": "stream",
     "text": [
      "(2, 3)\n"
     ]
    },
    {
     "data": {
      "text/plain": [
       "5"
      ]
     },
     "execution_count": 57,
     "metadata": {},
     "output_type": "execute_result"
    }
   ],
   "source": [
    "somatorio(2, 3)"
   ]
  },
  {
   "cell_type": "code",
   "execution_count": 58,
   "metadata": {
    "ExecuteTime": {
     "end_time": "2021-11-03T23:01:10.353616Z",
     "start_time": "2021-11-03T23:01:10.333628Z"
    }
   },
   "outputs": [
    {
     "name": "stdout",
     "output_type": "stream",
     "text": [
      "()\n"
     ]
    },
    {
     "data": {
      "text/plain": [
       "0"
      ]
     },
     "execution_count": 58,
     "metadata": {},
     "output_type": "execute_result"
    }
   ],
   "source": [
    "somatorio()"
   ]
  },
  {
   "cell_type": "code",
   "execution_count": 59,
   "metadata": {
    "ExecuteTime": {
     "end_time": "2021-11-03T23:01:12.379382Z",
     "start_time": "2021-11-03T23:01:12.359396Z"
    }
   },
   "outputs": [
    {
     "name": "stdout",
     "output_type": "stream",
     "text": [
      "(2, 3, 4.2, 10)\n"
     ]
    },
    {
     "data": {
      "text/plain": [
       "19.2"
      ]
     },
     "execution_count": 59,
     "metadata": {},
     "output_type": "execute_result"
    }
   ],
   "source": [
    "somatorio(2, 3, 4.2, 10)"
   ]
  },
  {
   "cell_type": "code",
   "execution_count": 60,
   "metadata": {
    "ExecuteTime": {
     "end_time": "2021-11-03T23:01:14.655923Z",
     "start_time": "2021-11-03T23:01:14.634935Z"
    }
   },
   "outputs": [
    {
     "name": "stdout",
     "output_type": "stream",
     "text": [
      "(2, 'andre', 3, 4.2, 10, True, [1, 3, 4])\n"
     ]
    },
    {
     "data": {
      "text/plain": [
       "19.2"
      ]
     },
     "execution_count": 60,
     "metadata": {},
     "output_type": "execute_result"
    }
   ],
   "source": [
    "somatorio(2, \"andre\", 3, 4.2, 10, True, [1, 3, 4])"
   ]
  },
  {
   "cell_type": "markdown",
   "metadata": {},
   "source": [
    "Se quisermos passar como argumento uma lista, teremos um comportamento \"inesperado\":"
   ]
  },
  {
   "cell_type": "code",
   "execution_count": 61,
   "metadata": {
    "ExecuteTime": {
     "end_time": "2021-11-03T23:01:19.511773Z",
     "start_time": "2021-11-03T23:01:19.496784Z"
    }
   },
   "outputs": [
    {
     "name": "stdout",
     "output_type": "stream",
     "text": [
      "([1, 3, 4],)\n"
     ]
    },
    {
     "data": {
      "text/plain": [
       "0"
      ]
     },
     "execution_count": 61,
     "metadata": {},
     "output_type": "execute_result"
    }
   ],
   "source": [
    "somatorio([1, 3, 4])"
   ]
  },
  {
   "cell_type": "code",
   "execution_count": 62,
   "metadata": {
    "ExecuteTime": {
     "end_time": "2021-11-03T23:01:21.646012Z",
     "start_time": "2021-11-03T23:01:21.638018Z"
    }
   },
   "outputs": [
    {
     "name": "stdout",
     "output_type": "stream",
     "text": [
      "((1, 3, 4),)\n"
     ]
    },
    {
     "data": {
      "text/plain": [
       "0"
      ]
     },
     "execution_count": 62,
     "metadata": {},
     "output_type": "execute_result"
    }
   ],
   "source": [
    "somatorio(tuple([1, 3, 4]))"
   ]
  },
  {
   "cell_type": "markdown",
   "metadata": {},
   "source": [
    "Pra resolver isso, colocamos o **asterisco no argumento**, diretamente. \n",
    "\n",
    "Com isso, o Python entende que a lista passada como argumento é pra ser interpretada como uma sequência de elementos passados separadamente à função como argumentos"
   ]
  },
  {
   "cell_type": "code",
   "execution_count": 63,
   "metadata": {
    "ExecuteTime": {
     "end_time": "2021-11-03T23:01:24.185442Z",
     "start_time": "2021-11-03T23:01:24.164455Z"
    }
   },
   "outputs": [
    {
     "name": "stdout",
     "output_type": "stream",
     "text": [
      "(1, 3, 4)\n"
     ]
    },
    {
     "data": {
      "text/plain": [
       "8"
      ]
     },
     "execution_count": 63,
     "metadata": {},
     "output_type": "execute_result"
    }
   ],
   "source": [
    "somatorio(*[1, 3, 4])"
   ]
  },
  {
   "cell_type": "code",
   "execution_count": 81,
   "metadata": {
    "ExecuteTime": {
     "end_time": "2021-11-03T23:09:04.061589Z",
     "start_time": "2021-11-03T23:09:04.039734Z"
    }
   },
   "outputs": [
    {
     "name": "stdout",
     "output_type": "stream",
     "text": [
      "([1, 3], [4, 5])\n"
     ]
    },
    {
     "data": {
      "text/plain": [
       "0"
      ]
     },
     "execution_count": 81,
     "metadata": {},
     "output_type": "execute_result"
    }
   ],
   "source": [
    "somatorio(*[[1, 3], [4, 5]])"
   ]
  },
  {
   "cell_type": "code",
   "execution_count": 82,
   "metadata": {
    "ExecuteTime": {
     "end_time": "2021-11-03T23:09:09.409921Z",
     "start_time": "2021-11-03T23:09:09.398925Z"
    }
   },
   "outputs": [
    {
     "name": "stdout",
     "output_type": "stream",
     "text": [
      "(1, 3, 4, 5)\n"
     ]
    },
    {
     "data": {
      "text/plain": [
       "13"
      ]
     },
     "execution_count": 82,
     "metadata": {},
     "output_type": "execute_result"
    }
   ],
   "source": [
    "somatorio(*[*[1, 3], *[4, 5]])"
   ]
  },
  {
   "cell_type": "code",
   "execution_count": 64,
   "metadata": {
    "ExecuteTime": {
     "end_time": "2021-11-03T23:01:29.056629Z",
     "start_time": "2021-11-03T23:01:29.046633Z"
    }
   },
   "outputs": [
    {
     "name": "stdout",
     "output_type": "stream",
     "text": [
      "(4, 10, 20, 30, 42, 'andre', True, 2)\n"
     ]
    },
    {
     "data": {
      "text/plain": [
       "108"
      ]
     },
     "execution_count": 64,
     "metadata": {},
     "output_type": "execute_result"
    }
   ],
   "source": [
    "lista1 = [10, 20, 30]\n",
    "lista2 = [42, \"andre\", True]\n",
    "\n",
    "somatorio(4, *lista1, *lista2, 2)"
   ]
  },
  {
   "cell_type": "code",
   "execution_count": 65,
   "metadata": {
    "ExecuteTime": {
     "end_time": "2021-11-03T23:01:33.586382Z",
     "start_time": "2021-11-03T23:01:33.569389Z"
    }
   },
   "outputs": [
    {
     "name": "stdout",
     "output_type": "stream",
     "text": [
      "[10, 20, 30]\n"
     ]
    }
   ],
   "source": [
    "print(lista1)"
   ]
  },
  {
   "cell_type": "code",
   "execution_count": 66,
   "metadata": {
    "ExecuteTime": {
     "end_time": "2021-11-03T23:01:33.900424Z",
     "start_time": "2021-11-03T23:01:33.887434Z"
    }
   },
   "outputs": [
    {
     "name": "stdout",
     "output_type": "stream",
     "text": [
      "10 20 30\n"
     ]
    }
   ],
   "source": [
    "print(*lista1)"
   ]
  },
  {
   "cell_type": "code",
   "execution_count": 67,
   "metadata": {
    "ExecuteTime": {
     "end_time": "2021-11-03T23:01:35.563397Z",
     "start_time": "2021-11-03T23:01:35.548406Z"
    }
   },
   "outputs": [
    {
     "name": "stdout",
     "output_type": "stream",
     "text": [
      "10 20 30\n"
     ]
    }
   ],
   "source": [
    "print(10, 20, 30)"
   ]
  },
  {
   "cell_type": "markdown",
   "metadata": {},
   "source": [
    "Mais algumas elaborações desta sintaxe com o \"\\*\" usado no input de funções"
   ]
  },
  {
   "cell_type": "code",
   "execution_count": 75,
   "metadata": {
    "ExecuteTime": {
     "end_time": "2021-11-03T23:04:51.959080Z",
     "start_time": "2021-11-03T23:04:51.945096Z"
    }
   },
   "outputs": [],
   "source": [
    "def somatorio_rigido(x1, x2):\n",
    "    \n",
    "    return x1 + x2"
   ]
  },
  {
   "cell_type": "code",
   "execution_count": 76,
   "metadata": {
    "ExecuteTime": {
     "end_time": "2021-11-03T23:05:05.867824Z",
     "start_time": "2021-11-03T23:05:05.849833Z"
    }
   },
   "outputs": [
    {
     "data": {
      "text/plain": [
       "5"
      ]
     },
     "execution_count": 76,
     "metadata": {},
     "output_type": "execute_result"
    }
   ],
   "source": [
    "somatorio_rigido(2, 3)"
   ]
  },
  {
   "cell_type": "code",
   "execution_count": 77,
   "metadata": {
    "ExecuteTime": {
     "end_time": "2021-11-03T23:05:31.608483Z",
     "start_time": "2021-11-03T23:05:31.589374Z"
    }
   },
   "outputs": [
    {
     "ename": "TypeError",
     "evalue": "somatorio_rigido() missing 1 required positional argument: 'x2'",
     "output_type": "error",
     "traceback": [
      "\u001b[1;31m---------------------------------------------------------------------------\u001b[0m",
      "\u001b[1;31mTypeError\u001b[0m                                 Traceback (most recent call last)",
      "\u001b[1;32m<ipython-input-77-a80d642caa50>\u001b[0m in \u001b[0;36m<module>\u001b[1;34m\u001b[0m\n\u001b[1;32m----> 1\u001b[1;33m \u001b[0msomatorio_rigido\u001b[0m\u001b[1;33m(\u001b[0m\u001b[1;33m[\u001b[0m\u001b[1;36m2\u001b[0m\u001b[1;33m,\u001b[0m \u001b[1;36m3\u001b[0m\u001b[1;33m]\u001b[0m\u001b[1;33m)\u001b[0m\u001b[1;33m\u001b[0m\u001b[1;33m\u001b[0m\u001b[0m\n\u001b[0m",
      "\u001b[1;31mTypeError\u001b[0m: somatorio_rigido() missing 1 required positional argument: 'x2'"
     ]
    }
   ],
   "source": [
    "somatorio_rigido([2, 3])"
   ]
  },
  {
   "cell_type": "code",
   "execution_count": 78,
   "metadata": {
    "ExecuteTime": {
     "end_time": "2021-11-03T23:05:42.972357Z",
     "start_time": "2021-11-03T23:05:42.957367Z"
    }
   },
   "outputs": [
    {
     "data": {
      "text/plain": [
       "5"
      ]
     },
     "execution_count": 78,
     "metadata": {},
     "output_type": "execute_result"
    }
   ],
   "source": [
    "somatorio_rigido(*[2, 3])"
   ]
  },
  {
   "cell_type": "markdown",
   "metadata": {},
   "source": [
    "Função que soma os elementos de listas, quantas forem passadas como argumento.\n",
    "\n",
    "O retorno é a soma de todos os elementos de todas as listas"
   ]
  },
  {
   "cell_type": "code",
   "execution_count": 84,
   "metadata": {
    "ExecuteTime": {
     "end_time": "2021-11-03T23:10:51.548408Z",
     "start_time": "2021-11-03T23:10:51.541412Z"
    }
   },
   "outputs": [],
   "source": [
    "def somatorio_geral(*args):\n",
    "    \n",
    "    soma = 0\n",
    "    \n",
    "    # não é necessario, mas é util\n",
    "    print(args)\n",
    "\n",
    "    for elemento in args:\n",
    "\n",
    "        if type(elemento) == int or type(elemento) == float:\n",
    "\n",
    "            soma = soma + elemento\n",
    "            \n",
    "        elif type(elemento) == list:\n",
    "            \n",
    "            soma = soma + sum(elemento)\n",
    "            \n",
    "    return soma"
   ]
  },
  {
   "cell_type": "code",
   "execution_count": 86,
   "metadata": {
    "ExecuteTime": {
     "end_time": "2021-11-03T23:11:39.897878Z",
     "start_time": "2021-11-03T23:11:39.873894Z"
    }
   },
   "outputs": [
    {
     "name": "stdout",
     "output_type": "stream",
     "text": [
      "([1, 3], [4, 5], 1, 3, True)\n"
     ]
    },
    {
     "data": {
      "text/plain": [
       "17"
      ]
     },
     "execution_count": 86,
     "metadata": {},
     "output_type": "execute_result"
    }
   ],
   "source": [
    "lista = [[1, 3], [4, 5], 1, 3, True]\n",
    "\n",
    "somatorio_geral(*lista)"
   ]
  },
  {
   "cell_type": "code",
   "execution_count": 88,
   "metadata": {
    "ExecuteTime": {
     "end_time": "2021-11-03T23:14:15.466620Z",
     "start_time": "2021-11-03T23:14:15.448101Z"
    }
   },
   "outputs": [],
   "source": [
    "def printa_cadastro(nome, codigo, cidade):\n",
    "    \n",
    "    print(f\"Nome: {nome}\")\n",
    "    print(f\"Código: {codigo}\")\n",
    "    print(f\"Cidade: {cidade}\")"
   ]
  },
  {
   "cell_type": "code",
   "execution_count": 89,
   "metadata": {
    "ExecuteTime": {
     "end_time": "2021-11-03T23:14:49.340460Z",
     "start_time": "2021-11-03T23:14:49.325464Z"
    }
   },
   "outputs": [],
   "source": [
    "lista_cadastro = [\"André\", 13548, \"Mauá\"]"
   ]
  },
  {
   "cell_type": "code",
   "execution_count": 90,
   "metadata": {
    "ExecuteTime": {
     "end_time": "2021-11-03T23:15:20.817058Z",
     "start_time": "2021-11-03T23:15:20.796073Z"
    }
   },
   "outputs": [
    {
     "name": "stdout",
     "output_type": "stream",
     "text": [
      "Nome: André\n",
      "Código: 13548\n",
      "Cidade: Mauá\n"
     ]
    }
   ],
   "source": [
    "printa_cadastro(lista_cadastro[0], lista_cadastro[1], lista_cadastro[2])"
   ]
  },
  {
   "cell_type": "code",
   "execution_count": 91,
   "metadata": {
    "ExecuteTime": {
     "end_time": "2021-11-03T23:15:58.783954Z",
     "start_time": "2021-11-03T23:15:58.764962Z"
    }
   },
   "outputs": [
    {
     "name": "stdout",
     "output_type": "stream",
     "text": [
      "Nome: André\n",
      "Código: 13548\n",
      "Cidade: Mauá\n"
     ]
    }
   ],
   "source": [
    "printa_cadastro(*lista_cadastro)"
   ]
  },
  {
   "cell_type": "markdown",
   "metadata": {},
   "source": [
    "______\n",
    "_________\n",
    "________"
   ]
  },
  {
   "cell_type": "markdown",
   "metadata": {},
   "source": [
    "## 2) Funções com parâmetros opcionais (\\*\\*kwargs)\n",
    "\n",
    "Também é possível fazer funções com **argumentos opcionais**, que são indicados com **dois asteriscos**\n",
    "\n",
    "- Os parâmetros passados são **agrupados em um dicionário**: o nome do parâmetro será uma chave, e o valor será o valor.\n",
    "\n",
    "O exemplo abaixo cadastra usuários em uma base de dados.\n",
    "\n",
    "Até agora, sabemos apenas definir funções com argumentos **obrigatórios**: se algum deles não for passado, a função nos avisará isso!"
   ]
  },
  {
   "cell_type": "code",
   "execution_count": 92,
   "metadata": {
    "ExecuteTime": {
     "end_time": "2021-11-03T23:25:16.399766Z",
     "start_time": "2021-11-03T23:25:16.382777Z"
    }
   },
   "outputs": [],
   "source": [
    "def cadastro(cpf, nome):\n",
    "    \n",
    "    print(f\"CPF: {cpf}\")\n",
    "    print(f\"Nome: {nome}\")"
   ]
  },
  {
   "cell_type": "code",
   "execution_count": 93,
   "metadata": {
    "ExecuteTime": {
     "end_time": "2021-11-03T23:25:30.969011Z",
     "start_time": "2021-11-03T23:25:30.951021Z"
    }
   },
   "outputs": [
    {
     "name": "stdout",
     "output_type": "stream",
     "text": [
      "CPF: 3015135136\n",
      "Nome: André\n"
     ]
    }
   ],
   "source": [
    "cadastro(3015135136, \"André\")"
   ]
  },
  {
   "cell_type": "code",
   "execution_count": 95,
   "metadata": {
    "ExecuteTime": {
     "end_time": "2021-11-03T23:26:10.897223Z",
     "start_time": "2021-11-03T23:26:10.883233Z"
    }
   },
   "outputs": [
    {
     "name": "stdout",
     "output_type": "stream",
     "text": [
      "CPF: André\n",
      "Nome: 3015135136\n"
     ]
    }
   ],
   "source": [
    "cadastro(\"André\", 3015135136)"
   ]
  },
  {
   "cell_type": "code",
   "execution_count": 96,
   "metadata": {
    "ExecuteTime": {
     "end_time": "2021-11-03T23:26:36.474680Z",
     "start_time": "2021-11-03T23:26:36.465687Z"
    }
   },
   "outputs": [
    {
     "name": "stdout",
     "output_type": "stream",
     "text": [
      "CPF: 3015135136\n",
      "Nome: André\n"
     ]
    }
   ],
   "source": [
    "cadastro(nome=\"André\", cpf=3015135136)"
   ]
  },
  {
   "cell_type": "code",
   "execution_count": 97,
   "metadata": {
    "ExecuteTime": {
     "end_time": "2021-11-03T23:26:52.144115Z",
     "start_time": "2021-11-03T23:26:52.106137Z"
    }
   },
   "outputs": [
    {
     "ename": "TypeError",
     "evalue": "cadastro() missing 1 required positional argument: 'cpf'",
     "output_type": "error",
     "traceback": [
      "\u001b[1;31m---------------------------------------------------------------------------\u001b[0m",
      "\u001b[1;31mTypeError\u001b[0m                                 Traceback (most recent call last)",
      "\u001b[1;32m<ipython-input-97-dd8162d09f4b>\u001b[0m in \u001b[0;36m<module>\u001b[1;34m\u001b[0m\n\u001b[1;32m----> 1\u001b[1;33m \u001b[0mcadastro\u001b[0m\u001b[1;33m(\u001b[0m\u001b[0mnome\u001b[0m\u001b[1;33m=\u001b[0m\u001b[1;34m\"André\"\u001b[0m\u001b[1;33m)\u001b[0m\u001b[1;33m\u001b[0m\u001b[1;33m\u001b[0m\u001b[0m\n\u001b[0m",
      "\u001b[1;31mTypeError\u001b[0m: cadastro() missing 1 required positional argument: 'cpf'"
     ]
    }
   ],
   "source": [
    "cadastro(nome=\"André\")"
   ]
  },
  {
   "cell_type": "code",
   "execution_count": 99,
   "metadata": {
    "ExecuteTime": {
     "end_time": "2021-11-03T23:28:08.516841Z",
     "start_time": "2021-11-03T23:28:08.490877Z"
    }
   },
   "outputs": [
    {
     "ename": "TypeError",
     "evalue": "cadastro() takes 2 positional arguments but 3 were given",
     "output_type": "error",
     "traceback": [
      "\u001b[1;31m---------------------------------------------------------------------------\u001b[0m",
      "\u001b[1;31mTypeError\u001b[0m                                 Traceback (most recent call last)",
      "\u001b[1;32m<ipython-input-99-bbca3a9ac0ba>\u001b[0m in \u001b[0;36m<module>\u001b[1;34m\u001b[0m\n\u001b[1;32m----> 1\u001b[1;33m \u001b[0mcadastro\u001b[0m\u001b[1;33m(\u001b[0m\u001b[1;36m3015135136\u001b[0m\u001b[1;33m,\u001b[0m \u001b[1;34m\"André\"\u001b[0m\u001b[1;33m,\u001b[0m \u001b[1;34m\"Mauá\"\u001b[0m\u001b[1;33m)\u001b[0m\u001b[1;33m\u001b[0m\u001b[1;33m\u001b[0m\u001b[0m\n\u001b[0m",
      "\u001b[1;31mTypeError\u001b[0m: cadastro() takes 2 positional arguments but 3 were given"
     ]
    }
   ],
   "source": [
    "cadastro(3015135136, \"André\", \"Mauá\")"
   ]
  },
  {
   "cell_type": "code",
   "execution_count": 98,
   "metadata": {
    "ExecuteTime": {
     "end_time": "2021-11-03T23:27:24.463763Z",
     "start_time": "2021-11-03T23:27:24.418794Z"
    }
   },
   "outputs": [
    {
     "ename": "TypeError",
     "evalue": "cadastro() got an unexpected keyword argument 'cidade'",
     "output_type": "error",
     "traceback": [
      "\u001b[1;31m---------------------------------------------------------------------------\u001b[0m",
      "\u001b[1;31mTypeError\u001b[0m                                 Traceback (most recent call last)",
      "\u001b[1;32m<ipython-input-98-a8abdf543c67>\u001b[0m in \u001b[0;36m<module>\u001b[1;34m\u001b[0m\n\u001b[1;32m----> 1\u001b[1;33m \u001b[0mcadastro\u001b[0m\u001b[1;33m(\u001b[0m\u001b[0mnome\u001b[0m\u001b[1;33m=\u001b[0m\u001b[1;34m\"André\"\u001b[0m\u001b[1;33m,\u001b[0m \u001b[0mcpf\u001b[0m\u001b[1;33m=\u001b[0m\u001b[1;36m235135210\u001b[0m\u001b[1;33m,\u001b[0m \u001b[0mcidade\u001b[0m\u001b[1;33m=\u001b[0m\u001b[1;34m\"Mauá\"\u001b[0m\u001b[1;33m)\u001b[0m\u001b[1;33m\u001b[0m\u001b[1;33m\u001b[0m\u001b[0m\n\u001b[0m",
      "\u001b[1;31mTypeError\u001b[0m: cadastro() got an unexpected keyword argument 'cidade'"
     ]
    }
   ],
   "source": [
    "cadastro(nome=\"André\", cpf=235135210, cidade=\"Mauá\")"
   ]
  },
  {
   "cell_type": "markdown",
   "metadata": {},
   "source": [
    " Podemos modificar a função para que um usuário possa fornecer unicamente seu nome e CPF; ou ambos, opcionalmente."
   ]
  },
  {
   "cell_type": "code",
   "execution_count": 198,
   "metadata": {
    "ExecuteTime": {
     "end_time": "2021-11-04T00:21:08.757532Z",
     "start_time": "2021-11-04T00:21:08.742542Z"
    }
   },
   "outputs": [],
   "source": [
    "def cadastro_generica(**kwargs):\n",
    "    \n",
    "#     print(kwargs)\n",
    "    \n",
    "    if \"cpf\" in kwargs:\n",
    "    \n",
    "        print(f\"\\nCPF: {kwargs['cpf']}\")\n",
    "        \n",
    "        kwargs.pop(\"cpf\")\n",
    "\n",
    "    if \"nome\" in kwargs:\n",
    "\n",
    "        print(f\"\\nNome: {kwargs['nome']}\")\n",
    "        \n",
    "        kwargs.pop(\"nome\")\n",
    "        \n",
    "    if kwargs != {}:\n",
    "\n",
    "        print(\"\\nInformações restantes:\")\n",
    "        \n",
    "        for k, v in kwargs.items():\n",
    "\n",
    "            print(f\"\\n\\t{k.capitalize()}: {v}\") "
   ]
  },
  {
   "cell_type": "code",
   "execution_count": 199,
   "metadata": {
    "ExecuteTime": {
     "end_time": "2021-11-04T00:21:09.010261Z",
     "start_time": "2021-11-04T00:21:09.000267Z"
    }
   },
   "outputs": [],
   "source": [
    "cadastro_generica()"
   ]
  },
  {
   "cell_type": "code",
   "execution_count": 200,
   "metadata": {
    "ExecuteTime": {
     "end_time": "2021-11-04T00:21:09.227651Z",
     "start_time": "2021-11-04T00:21:09.211660Z"
    }
   },
   "outputs": [
    {
     "name": "stdout",
     "output_type": "stream",
     "text": [
      "\n",
      "CPF: 1313524145\n",
      "\n",
      "Nome: André\n"
     ]
    }
   ],
   "source": [
    "cadastro_generica(nome=\"André\", cpf=1313524145)"
   ]
  },
  {
   "cell_type": "code",
   "execution_count": 201,
   "metadata": {
    "ExecuteTime": {
     "end_time": "2021-11-04T00:21:09.495171Z",
     "start_time": "2021-11-04T00:21:09.487177Z"
    }
   },
   "outputs": [
    {
     "name": "stdout",
     "output_type": "stream",
     "text": [
      "\n",
      "Nome: André\n"
     ]
    }
   ],
   "source": [
    "cadastro_generica(nome=\"André\")"
   ]
  },
  {
   "cell_type": "code",
   "execution_count": 202,
   "metadata": {
    "ExecuteTime": {
     "end_time": "2021-11-04T00:21:09.821809Z",
     "start_time": "2021-11-04T00:21:09.816810Z"
    }
   },
   "outputs": [
    {
     "name": "stdout",
     "output_type": "stream",
     "text": [
      "\n",
      "CPF: 1313513\n"
     ]
    }
   ],
   "source": [
    "cadastro_generica(cpf=1313513)"
   ]
  },
  {
   "cell_type": "code",
   "execution_count": 203,
   "metadata": {
    "ExecuteTime": {
     "end_time": "2021-11-04T00:21:10.165308Z",
     "start_time": "2021-11-04T00:21:10.157314Z"
    }
   },
   "outputs": [
    {
     "name": "stdout",
     "output_type": "stream",
     "text": [
      "\n",
      "CPF: 1313524145\n",
      "\n",
      "Nome: André\n",
      "\n",
      "Informações restantes:\n",
      "\n",
      "\tIdade: 20\n"
     ]
    }
   ],
   "source": [
    "cadastro_generica(nome=\"André\", cpf=1313524145, idade=20)"
   ]
  },
  {
   "cell_type": "code",
   "execution_count": 204,
   "metadata": {
    "ExecuteTime": {
     "end_time": "2021-11-04T00:21:12.325054Z",
     "start_time": "2021-11-04T00:21:12.312058Z"
    }
   },
   "outputs": [
    {
     "name": "stdout",
     "output_type": "stream",
     "text": [
      "\n",
      "CPF: 1313524145\n",
      "\n",
      "Nome: André\n",
      "\n",
      "Informações restantes:\n",
      "\n",
      "\tIdade: 20\n",
      "\n",
      "\tCidade: Mauá\n",
      "\n",
      "\tAltura: 1.6\n"
     ]
    }
   ],
   "source": [
    "cadastro_generica(nome=\"André\", cpf=1313524145, idade=20, cidade=\"Mauá\", altura=1.60)"
   ]
  },
  {
   "cell_type": "markdown",
   "metadata": {},
   "source": [
    "Um outro uso do \"**\" como input de funções"
   ]
  },
  {
   "cell_type": "code",
   "execution_count": 212,
   "metadata": {
    "ExecuteTime": {
     "end_time": "2021-11-04T01:40:15.018241Z",
     "start_time": "2021-11-04T01:40:14.999252Z"
    }
   },
   "outputs": [],
   "source": [
    "def myFun(x1, x2, x3):\n",
    "    \n",
    "    print(\"x1:\", x1)\n",
    "    print(\"x2:\", x2)\n",
    "    print(\"x3:\", x3)"
   ]
  },
  {
   "cell_type": "code",
   "execution_count": 213,
   "metadata": {
    "ExecuteTime": {
     "end_time": "2021-11-04T01:40:15.419885Z",
     "start_time": "2021-11-04T01:40:15.404893Z"
    }
   },
   "outputs": [
    {
     "name": "stdout",
     "output_type": "stream",
     "text": [
      "x1: Geek\n",
      "x2: for\n",
      "x3: Geeks\n"
     ]
    }
   ],
   "source": [
    "# chamando a função naturalmente\n",
    "\n",
    "myFun(x1=\"Geek\", x2=\"for\", x3=\"Geeks\")"
   ]
  },
  {
   "cell_type": "code",
   "execution_count": 215,
   "metadata": {
    "ExecuteTime": {
     "end_time": "2021-11-04T01:40:55.329517Z",
     "start_time": "2021-11-04T01:40:55.314527Z"
    }
   },
   "outputs": [
    {
     "name": "stdout",
     "output_type": "stream",
     "text": [
      "x1: Geek\n",
      "x2: for\n",
      "x3: Geeks\n"
     ]
    }
   ],
   "source": [
    "# fazendo exatamente o mesmo do que acima, só que passando\n",
    "# os argumentos através de um dicionário com **\n",
    "\n",
    "kwxs = {\"x1\" : \"Geek\", \"x2\" : \"for\", \"x3\" : \"Geeks\"}\n",
    "\n",
    "myFun(**kwxs)"
   ]
  },
  {
   "cell_type": "markdown",
   "metadata": {},
   "source": [
    "Uma função que mistura tudo (argumentos posicionais, depois \\*args e \\*\\*kwargs)"
   ]
  },
  {
   "cell_type": "code",
   "execution_count": 208,
   "metadata": {
    "ExecuteTime": {
     "end_time": "2021-11-04T00:24:22.728846Z",
     "start_time": "2021-11-04T00:24:22.707855Z"
    }
   },
   "outputs": [],
   "source": [
    "def cadastro_generica_total(nome, idade, *args, **kwargs):\n",
    "    \n",
    "    print(nome, idade)\n",
    "    print(args)\n",
    "    print(kwargs)"
   ]
  },
  {
   "cell_type": "code",
   "execution_count": 209,
   "metadata": {
    "ExecuteTime": {
     "end_time": "2021-11-04T00:24:23.025796Z",
     "start_time": "2021-11-04T00:24:23.013805Z"
    }
   },
   "outputs": [
    {
     "name": "stdout",
     "output_type": "stream",
     "text": [
      "André 10\n",
      "(3, 4, True, 141)\n",
      "{'cpf': 23434545}\n"
     ]
    }
   ],
   "source": [
    "cadastro_generica_total(\"André\", 10, 3, 4, True, 141, cpf=23434545)"
   ]
  },
  {
   "cell_type": "markdown",
   "metadata": {},
   "source": [
    "___________"
   ]
  }
 ],
 "metadata": {
  "kernelspec": {
   "display_name": "Python 3",
   "language": "python",
   "name": "python3"
  },
  "language_info": {
   "codemirror_mode": {
    "name": "ipython",
    "version": 3
   },
   "file_extension": ".py",
   "mimetype": "text/x-python",
   "name": "python",
   "nbconvert_exporter": "python",
   "pygments_lexer": "ipython3",
   "version": "3.8.3"
  }
 },
 "nbformat": 4,
 "nbformat_minor": 4
}
