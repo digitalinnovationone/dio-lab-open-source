{
 "cells": [
  {
   "cell_type": "markdown",
   "metadata": {},
   "source": [
    "# Aula 5 - tuplas e dicionários\n",
    "\n",
    "Na aula de hoje, vamos explorar os seguintes tópicos em Python:\n",
    "\n",
    "- 1) Tuplas\n",
    "- 2) Dicionários\n",
    "\n",
    "_______\n"
   ]
  },
  {
   "cell_type": "markdown",
   "metadata": {},
   "source": [
    "____\n",
    "____\n",
    "____"
   ]
  },
  {
   "cell_type": "markdown",
   "metadata": {},
   "source": [
    "## 1) Tuplas\n",
    "\n",
    "Até o momento, temos utilizado **listas** pra armazenar uma coleção de dados.\n",
    "\n",
    "Aprenderemos agora sobre uma nova **estrutura de dados**: tuplas!\n",
    "\n",
    "Tuplas são estruturas bastante parecidas com listas:\n",
    "\n",
    "- Podem guardar **tipos diferentes de dados**.\n",
    "- São indexadas (podemos **acessar elementos por índices**).\n",
    "- São iteráveis (**podemos percorrer com o `for`**)."
   ]
  },
  {
   "cell_type": "markdown",
   "metadata": {},
   "source": [
    "A principal diferença é: tuplas são **imutáveis**!\n",
    "\n",
    "Para tuplas **não é possível**: alterar elementos individuais, adicionar elementos, remover elementos ou alterar a ordem dos elementos. Uma vez criada, não é possível alterar nada de uma tupla!\n",
    "\n",
    "Mas, então, pra que servem as tuplas?\n",
    "\n",
    "- É um jeito de **sinalizar que esses dados não deveriam ser alterados**. \n",
    "\n",
    "- É um meio de garantir que os elementos estarão **em uma ordem específica**.\n",
    "\n",
    "- O acesso a elementos de uma tupla **é bem mais rápido**."
   ]
  },
  {
   "cell_type": "markdown",
   "metadata": {},
   "source": [
    "Tuplas são indicadas entre **parênteses ()**\n"
   ]
  },
  {
   "cell_type": "code",
   "execution_count": 2,
   "metadata": {
    "ExecuteTime": {
     "end_time": "2021-10-30T00:13:38.469879Z",
     "start_time": "2021-10-30T00:13:38.448893Z"
    }
   },
   "outputs": [
    {
     "data": {
      "text/plain": [
       "(1, 2, 3, 4, 5)"
      ]
     },
     "execution_count": 2,
     "metadata": {},
     "output_type": "execute_result"
    }
   ],
   "source": [
    "tupla = (1, 2, 3, 4, 5)\n",
    "\n",
    "tupla"
   ]
  },
  {
   "cell_type": "markdown",
   "metadata": {},
   "source": [
    "No entanto, é possível definir tuplas sem a utilização de parênteses, apenas **listando os elementos, separados por vírgula**"
   ]
  },
  {
   "cell_type": "code",
   "execution_count": 5,
   "metadata": {
    "ExecuteTime": {
     "end_time": "2021-10-30T00:14:13.823238Z",
     "start_time": "2021-10-30T00:14:13.810246Z"
    }
   },
   "outputs": [
    {
     "data": {
      "text/plain": [
       "(10, 2, 3, 42, 5)"
      ]
     },
     "execution_count": 5,
     "metadata": {},
     "output_type": "execute_result"
    }
   ],
   "source": [
    "tupla = 10, 2, 3, 42, 5\n",
    "\n",
    "tupla"
   ]
  },
  {
   "cell_type": "code",
   "execution_count": 6,
   "metadata": {
    "ExecuteTime": {
     "end_time": "2021-10-30T00:14:56.612822Z",
     "start_time": "2021-10-30T00:14:56.594833Z"
    }
   },
   "outputs": [
    {
     "data": {
      "text/plain": [
       "(10, 2.45, '3', 42, [2, 4], True)"
      ]
     },
     "execution_count": 6,
     "metadata": {},
     "output_type": "execute_result"
    }
   ],
   "source": [
    "tupla_todos_tipos = 10, 2.45, \"3\", 42, [2, 4], True\n",
    "\n",
    "tupla_todos_tipos"
   ]
  },
  {
   "cell_type": "markdown",
   "metadata": {},
   "source": [
    "Operações com tuplas"
   ]
  },
  {
   "cell_type": "code",
   "execution_count": 7,
   "metadata": {
    "ExecuteTime": {
     "end_time": "2021-10-30T00:15:14.602740Z",
     "start_time": "2021-10-30T00:15:14.583748Z"
    }
   },
   "outputs": [
    {
     "data": {
      "text/plain": [
       "(10, 2, 3, 42, 5)"
      ]
     },
     "execution_count": 7,
     "metadata": {},
     "output_type": "execute_result"
    }
   ],
   "source": [
    "tupla"
   ]
  },
  {
   "cell_type": "code",
   "execution_count": 12,
   "metadata": {
    "ExecuteTime": {
     "end_time": "2021-10-30T00:16:05.331005Z",
     "start_time": "2021-10-30T00:16:05.308020Z"
    }
   },
   "outputs": [
    {
     "data": {
      "text/plain": [
       "10"
      ]
     },
     "execution_count": 12,
     "metadata": {},
     "output_type": "execute_result"
    }
   ],
   "source": [
    "tupla[0]"
   ]
  },
  {
   "cell_type": "code",
   "execution_count": 13,
   "metadata": {
    "ExecuteTime": {
     "end_time": "2021-10-30T00:16:09.980088Z",
     "start_time": "2021-10-30T00:16:09.967096Z"
    }
   },
   "outputs": [
    {
     "data": {
      "text/plain": [
       "5"
      ]
     },
     "execution_count": 13,
     "metadata": {},
     "output_type": "execute_result"
    }
   ],
   "source": [
    "tupla[-1]"
   ]
  },
  {
   "cell_type": "code",
   "execution_count": 14,
   "metadata": {
    "ExecuteTime": {
     "end_time": "2021-10-30T00:16:14.937188Z",
     "start_time": "2021-10-30T00:16:14.924204Z"
    }
   },
   "outputs": [
    {
     "data": {
      "text/plain": [
       "(2, 3, 42)"
      ]
     },
     "execution_count": 14,
     "metadata": {},
     "output_type": "execute_result"
    }
   ],
   "source": [
    "tupla[1:4]"
   ]
  },
  {
   "cell_type": "code",
   "execution_count": 8,
   "metadata": {
    "ExecuteTime": {
     "end_time": "2021-10-30T00:15:23.599802Z",
     "start_time": "2021-10-30T00:15:23.584810Z"
    }
   },
   "outputs": [
    {
     "name": "stdout",
     "output_type": "stream",
     "text": [
      "10\n",
      "2\n",
      "3\n",
      "42\n",
      "5\n"
     ]
    }
   ],
   "source": [
    "for elemento in tupla:\n",
    "    \n",
    "    print(elemento)"
   ]
  },
  {
   "cell_type": "code",
   "execution_count": 10,
   "metadata": {
    "ExecuteTime": {
     "end_time": "2021-10-30T00:15:54.318028Z",
     "start_time": "2021-10-30T00:15:54.307024Z"
    }
   },
   "outputs": [
    {
     "name": "stdout",
     "output_type": "stream",
     "text": [
      "0 10\n",
      "1 2\n",
      "2 3\n",
      "3 42\n",
      "4 5\n"
     ]
    }
   ],
   "source": [
    "for i in range(len(tupla)):\n",
    "    \n",
    "    print(i, tupla[i])"
   ]
  },
  {
   "cell_type": "markdown",
   "metadata": {},
   "source": [
    "Mas, como dissemos, a tupla é **imutável!** Assim, se tentarmos mudar algum dos seus elementos, teremos um erro:"
   ]
  },
  {
   "cell_type": "code",
   "execution_count": 15,
   "metadata": {
    "ExecuteTime": {
     "end_time": "2021-10-30T00:16:41.629644Z",
     "start_time": "2021-10-30T00:16:41.600658Z"
    }
   },
   "outputs": [
    {
     "ename": "TypeError",
     "evalue": "'tuple' object does not support item assignment",
     "output_type": "error",
     "traceback": [
      "\u001b[1;31m---------------------------------------------------------------------------\u001b[0m",
      "\u001b[1;31mTypeError\u001b[0m                                 Traceback (most recent call last)",
      "\u001b[1;32m<ipython-input-15-3bf81748de97>\u001b[0m in \u001b[0;36m<module>\u001b[1;34m\u001b[0m\n\u001b[1;32m----> 1\u001b[1;33m \u001b[0mtupla\u001b[0m\u001b[1;33m[\u001b[0m\u001b[1;36m0\u001b[0m\u001b[1;33m]\u001b[0m \u001b[1;33m=\u001b[0m \u001b[1;36m42\u001b[0m\u001b[1;33m\u001b[0m\u001b[1;33m\u001b[0m\u001b[0m\n\u001b[0m",
      "\u001b[1;31mTypeError\u001b[0m: 'tuple' object does not support item assignment"
     ]
    }
   ],
   "source": [
    "tupla[0] = 42"
   ]
  },
  {
   "cell_type": "markdown",
   "metadata": {},
   "source": [
    "Para \"alterar uma tupla\", podemos fazer um procedimento bem forçado: primeiro, transformamos a tupla em lista; aí, alteramos a lista; depois, transformamos a lista de volta em tupla:"
   ]
  },
  {
   "cell_type": "code",
   "execution_count": 17,
   "metadata": {
    "ExecuteTime": {
     "end_time": "2021-10-30T00:17:26.977355Z",
     "start_time": "2021-10-30T00:17:26.956363Z"
    }
   },
   "outputs": [
    {
     "data": {
      "text/plain": [
       "(10, 2, 3, 42, 5)"
      ]
     },
     "execution_count": 17,
     "metadata": {},
     "output_type": "execute_result"
    }
   ],
   "source": [
    "tupla"
   ]
  },
  {
   "cell_type": "code",
   "execution_count": 18,
   "metadata": {
    "ExecuteTime": {
     "end_time": "2021-10-30T00:17:32.295965Z",
     "start_time": "2021-10-30T00:17:32.285972Z"
    }
   },
   "outputs": [],
   "source": [
    "list_tupla = list(tupla)"
   ]
  },
  {
   "cell_type": "code",
   "execution_count": 19,
   "metadata": {
    "ExecuteTime": {
     "end_time": "2021-10-30T00:17:37.001154Z",
     "start_time": "2021-10-30T00:17:36.985162Z"
    }
   },
   "outputs": [
    {
     "data": {
      "text/plain": [
       "[10, 2, 3, 42, 5]"
      ]
     },
     "execution_count": 19,
     "metadata": {},
     "output_type": "execute_result"
    }
   ],
   "source": [
    "list_tupla"
   ]
  },
  {
   "cell_type": "code",
   "execution_count": 20,
   "metadata": {
    "ExecuteTime": {
     "end_time": "2021-10-30T00:17:46.637438Z",
     "start_time": "2021-10-30T00:17:46.630439Z"
    }
   },
   "outputs": [
    {
     "data": {
      "text/plain": [
       "[42, 2, 3, 42, 5]"
      ]
     },
     "execution_count": 20,
     "metadata": {},
     "output_type": "execute_result"
    }
   ],
   "source": [
    "list_tupla[0] = 42\n",
    "\n",
    "list_tupla"
   ]
  },
  {
   "cell_type": "code",
   "execution_count": 23,
   "metadata": {
    "ExecuteTime": {
     "end_time": "2021-10-30T00:18:13.859129Z",
     "start_time": "2021-10-30T00:18:13.848139Z"
    }
   },
   "outputs": [
    {
     "data": {
      "text/plain": [
       "(42, 2, 3, 42, 5)"
      ]
     },
     "execution_count": 23,
     "metadata": {},
     "output_type": "execute_result"
    }
   ],
   "source": [
    "tuple(list_tupla)"
   ]
  },
  {
   "cell_type": "markdown",
   "metadata": {},
   "source": [
    "No entanto, note que a tupla original permaneceu inalterada:"
   ]
  },
  {
   "cell_type": "code",
   "execution_count": 22,
   "metadata": {
    "ExecuteTime": {
     "end_time": "2021-10-30T00:18:01.923481Z",
     "start_time": "2021-10-30T00:18:01.904490Z"
    }
   },
   "outputs": [
    {
     "data": {
      "text/plain": [
       "(10, 2, 3, 42, 5)"
      ]
     },
     "execution_count": 22,
     "metadata": {},
     "output_type": "execute_result"
    }
   ],
   "source": [
    "tupla"
   ]
  },
  {
   "cell_type": "code",
   "execution_count": 24,
   "metadata": {
    "ExecuteTime": {
     "end_time": "2021-10-30T00:18:36.556157Z",
     "start_time": "2021-10-30T00:18:36.535178Z"
    }
   },
   "outputs": [
    {
     "data": {
      "text/plain": [
       "(10, 2, 3, 42, 5)"
      ]
     },
     "execution_count": 24,
     "metadata": {},
     "output_type": "execute_result"
    }
   ],
   "source": [
    "tupla"
   ]
  },
  {
   "cell_type": "code",
   "execution_count": 25,
   "metadata": {
    "ExecuteTime": {
     "end_time": "2021-10-30T00:18:44.133113Z",
     "start_time": "2021-10-30T00:18:44.116124Z"
    }
   },
   "outputs": [],
   "source": [
    "tupla = (10, 20, 30)"
   ]
  },
  {
   "cell_type": "code",
   "execution_count": 26,
   "metadata": {
    "ExecuteTime": {
     "end_time": "2021-10-30T00:18:47.186104Z",
     "start_time": "2021-10-30T00:18:47.170094Z"
    }
   },
   "outputs": [
    {
     "data": {
      "text/plain": [
       "(10, 20, 30)"
      ]
     },
     "execution_count": 26,
     "metadata": {},
     "output_type": "execute_result"
    }
   ],
   "source": [
    "tupla"
   ]
  },
  {
   "cell_type": "markdown",
   "metadata": {},
   "source": [
    "Outra utilidade de tuplas: fazer uma função **retornar mais de um valor**"
   ]
  },
  {
   "cell_type": "code",
   "execution_count": 38,
   "metadata": {
    "ExecuteTime": {
     "end_time": "2021-10-30T00:23:55.062846Z",
     "start_time": "2021-10-30T00:23:55.047854Z"
    }
   },
   "outputs": [],
   "source": [
    "def ops_fundamentais(x1, x2):\n",
    "    \n",
    "    return x1+x2, x1-x2, x1*x2, x1/x2"
   ]
  },
  {
   "cell_type": "code",
   "execution_count": 44,
   "metadata": {
    "ExecuteTime": {
     "end_time": "2021-10-30T00:25:29.628051Z",
     "start_time": "2021-10-30T00:25:29.614059Z"
    }
   },
   "outputs": [
    {
     "data": {
      "text/plain": [
       "(5, -1, 6, 0.6666666666666666)"
      ]
     },
     "execution_count": 44,
     "metadata": {},
     "output_type": "execute_result"
    }
   ],
   "source": [
    "ops_fundamentais(2, 3)"
   ]
  },
  {
   "cell_type": "code",
   "execution_count": 34,
   "metadata": {
    "ExecuteTime": {
     "end_time": "2021-10-30T00:22:15.722086Z",
     "start_time": "2021-10-30T00:22:15.716089Z"
    }
   },
   "outputs": [],
   "source": [
    "soma, subt, mult, div = ops_fundamentais(2, 3)"
   ]
  },
  {
   "cell_type": "code",
   "execution_count": 41,
   "metadata": {
    "ExecuteTime": {
     "end_time": "2021-10-30T00:24:59.210712Z",
     "start_time": "2021-10-30T00:24:59.191724Z"
    }
   },
   "outputs": [
    {
     "data": {
      "text/plain": [
       "5"
      ]
     },
     "execution_count": 41,
     "metadata": {},
     "output_type": "execute_result"
    }
   ],
   "source": [
    "soma"
   ]
  },
  {
   "cell_type": "code",
   "execution_count": 36,
   "metadata": {
    "ExecuteTime": {
     "end_time": "2021-10-30T00:22:20.852310Z",
     "start_time": "2021-10-30T00:22:20.840318Z"
    }
   },
   "outputs": [
    {
     "data": {
      "text/plain": [
       "-1"
      ]
     },
     "execution_count": 36,
     "metadata": {},
     "output_type": "execute_result"
    }
   ],
   "source": [
    "subt"
   ]
  },
  {
   "cell_type": "markdown",
   "metadata": {},
   "source": [
    "____\n",
    "____\n",
    "____"
   ]
  },
  {
   "cell_type": "markdown",
   "metadata": {},
   "source": [
    "## 2) Dicionários\n",
    "\n",
    "Uma outra estrutura de dados bem importante em Python são os **dicionários**.\n",
    "\n",
    "O dicionário também é uma **coleção de dados**. \n",
    "\n",
    "A diferença é que um dicionário é definido a partir de **dois elementos**: uma **chave** e um **valor**.\n",
    "\n",
    "- A **chave** é uma string ou int que é utilizada como se fosse um índice, identificando os respectivos valores.\n",
    "\n",
    "- O **valor** pode ser qualquer dado: um int, um float, uma str, um bool, uma lista, uma tupla, outro dicionário...\n",
    "\n"
   ]
  },
  {
   "cell_type": "markdown",
   "metadata": {},
   "source": [
    "Dicionários são indicados **entre chaves{}**, segundo a estrutura:\n",
    "\n",
    "```python\n",
    "dicionario = {\"chave\": valor}\n",
    "```"
   ]
  },
  {
   "cell_type": "code",
   "execution_count": 49,
   "metadata": {
    "ExecuteTime": {
     "end_time": "2021-10-30T00:30:34.269235Z",
     "start_time": "2021-10-30T00:30:34.261241Z"
    }
   },
   "outputs": [
    {
     "data": {
      "text/plain": [
       "['João', 15, 'Mauá']"
      ]
     },
     "execution_count": 49,
     "metadata": {},
     "output_type": "execute_result"
    }
   ],
   "source": [
    "lista = [\"João\", 15, \"Mauá\"]\n",
    "\n",
    "lista"
   ]
  },
  {
   "cell_type": "code",
   "execution_count": 51,
   "metadata": {
    "ExecuteTime": {
     "end_time": "2021-10-30T00:31:00.936074Z",
     "start_time": "2021-10-30T00:31:00.923083Z"
    }
   },
   "outputs": [
    {
     "data": {
      "text/plain": [
       "'João'"
      ]
     },
     "execution_count": 51,
     "metadata": {},
     "output_type": "execute_result"
    }
   ],
   "source": [
    "lista[0]"
   ]
  },
  {
   "cell_type": "code",
   "execution_count": 50,
   "metadata": {
    "ExecuteTime": {
     "end_time": "2021-10-30T00:30:38.921137Z",
     "start_time": "2021-10-30T00:30:38.906145Z"
    }
   },
   "outputs": [
    {
     "data": {
      "text/plain": [
       "{'nome': 'João', 'idade': 15, 'cidade': 'Mauá'}"
      ]
     },
     "execution_count": 50,
     "metadata": {},
     "output_type": "execute_result"
    }
   ],
   "source": [
    "dicionario = {\"nome\": \"João\",\n",
    "              \"idade\" : 15,\n",
    "              \"cidade\": \"Mauá\"}\n",
    "\n",
    "dicionario"
   ]
  },
  {
   "cell_type": "code",
   "execution_count": 52,
   "metadata": {
    "ExecuteTime": {
     "end_time": "2021-10-30T00:31:26.185856Z",
     "start_time": "2021-10-30T00:31:26.170847Z"
    }
   },
   "outputs": [
    {
     "data": {
      "text/plain": [
       "'João'"
      ]
     },
     "execution_count": 52,
     "metadata": {},
     "output_type": "execute_result"
    }
   ],
   "source": [
    "dicionario[\"nome\"]"
   ]
  },
  {
   "cell_type": "markdown",
   "metadata": {},
   "source": [
    "Poderíamos, ao invés de um dicionário, usar uma lista de listas, como abaixo. \n",
    "\n",
    "Porém, neste caso, fica bem menos intuitivo quando queremos selecionar os elementos que representam nomes ou cidades, porque somos obrigado a usar números para indexar, ao invés das chaves."
   ]
  },
  {
   "cell_type": "code",
   "execution_count": 86,
   "metadata": {
    "ExecuteTime": {
     "end_time": "2021-10-30T00:49:16.263835Z",
     "start_time": "2021-10-30T00:49:16.249840Z"
    }
   },
   "outputs": [],
   "source": [
    "cadastro = {\"nomes\": [\"João\", \"Maria\", \"Bob\"],\n",
    "             \"idades\" : [15, 14, 20],\n",
    "             \"cidades\": [\"Mauá\", \"Santo André\", \"SCS\"]}"
   ]
  },
  {
   "cell_type": "code",
   "execution_count": 56,
   "metadata": {
    "ExecuteTime": {
     "end_time": "2021-10-30T00:34:57.589990Z",
     "start_time": "2021-10-30T00:34:57.572006Z"
    }
   },
   "outputs": [
    {
     "data": {
      "text/plain": [
       "['João', 'Maria', 'Bob']"
      ]
     },
     "execution_count": 56,
     "metadata": {},
     "output_type": "execute_result"
    }
   ],
   "source": [
    "cadastro[\"nomes\"]"
   ]
  },
  {
   "cell_type": "code",
   "execution_count": 57,
   "metadata": {
    "ExecuteTime": {
     "end_time": "2021-10-30T00:35:55.307843Z",
     "start_time": "2021-10-30T00:35:55.290851Z"
    }
   },
   "outputs": [],
   "source": [
    "cadastro_lista = [[\"João\", \"Maria\", \"Bob\"],\n",
    "                  [15, 14, 20],\n",
    "                  [\"Mauá\", \"Santo André\", \"SCS\"]]"
   ]
  },
  {
   "cell_type": "code",
   "execution_count": 58,
   "metadata": {
    "ExecuteTime": {
     "end_time": "2021-10-30T00:36:02.930795Z",
     "start_time": "2021-10-30T00:36:02.918805Z"
    }
   },
   "outputs": [
    {
     "data": {
      "text/plain": [
       "['João', 'Maria', 'Bob']"
      ]
     },
     "execution_count": 58,
     "metadata": {},
     "output_type": "execute_result"
    }
   ],
   "source": [
    "cadastro_lista[0]"
   ]
  },
  {
   "cell_type": "markdown",
   "metadata": {},
   "source": [
    "Para adicionar elementos ao dicionário, não precisamos de uma função pronta (como o append das listas). \n",
    "\n",
    "Basta definir a nova chave como uma variável, e atribuir um novo valor a ela:\n"
   ]
  },
  {
   "cell_type": "code",
   "execution_count": 87,
   "metadata": {
    "ExecuteTime": {
     "end_time": "2021-10-30T00:49:18.215834Z",
     "start_time": "2021-10-30T00:49:18.206839Z"
    }
   },
   "outputs": [
    {
     "data": {
      "text/plain": [
       "{'nomes': ['João', 'Maria', 'Bob'],\n",
       " 'idades': [15, 14, 20],\n",
       " 'cidades': ['Mauá', 'Santo André', 'SCS']}"
      ]
     },
     "execution_count": 87,
     "metadata": {},
     "output_type": "execute_result"
    }
   ],
   "source": [
    "cadastro"
   ]
  },
  {
   "cell_type": "code",
   "execution_count": 88,
   "metadata": {
    "ExecuteTime": {
     "end_time": "2021-10-30T00:49:18.662581Z",
     "start_time": "2021-10-30T00:49:18.647045Z"
    }
   },
   "outputs": [],
   "source": [
    "cadastro[\"num_pets\"] = [0, 2, 1]"
   ]
  },
  {
   "cell_type": "code",
   "execution_count": 89,
   "metadata": {
    "ExecuteTime": {
     "end_time": "2021-10-30T00:49:19.272790Z",
     "start_time": "2021-10-30T00:49:19.252801Z"
    }
   },
   "outputs": [],
   "source": [
    "cadastro.update({\"a\": 42})"
   ]
  },
  {
   "cell_type": "markdown",
   "metadata": {},
   "source": [
    "Automaticamente, o elemento criado é adicionado ao fim!"
   ]
  },
  {
   "cell_type": "code",
   "execution_count": 91,
   "metadata": {
    "ExecuteTime": {
     "end_time": "2021-10-30T00:49:28.928327Z",
     "start_time": "2021-10-30T00:49:28.912336Z"
    }
   },
   "outputs": [
    {
     "data": {
      "text/plain": [
       "{'nomes': ['João', 'Maria', 'Bob'],\n",
       " 'idades': [15, 14, 20],\n",
       " 'cidades': ['Mauá', 'Santo André', 'SCS'],\n",
       " 'num_pets': [0, 2, 1],\n",
       " 'a': 42}"
      ]
     },
     "execution_count": 91,
     "metadata": {},
     "output_type": "execute_result"
    }
   ],
   "source": [
    "cadastro"
   ]
  },
  {
   "cell_type": "markdown",
   "metadata": {},
   "source": [
    "__Para apagar uma chave, utilize o \"pop\"__"
   ]
  },
  {
   "cell_type": "code",
   "execution_count": 93,
   "metadata": {
    "ExecuteTime": {
     "end_time": "2021-10-30T00:49:38.068588Z",
     "start_time": "2021-10-30T00:49:38.050598Z"
    }
   },
   "outputs": [
    {
     "data": {
      "text/plain": [
       "{'nomes': ['João', 'Maria', 'Bob'],\n",
       " 'idades': [15, 14, 20],\n",
       " 'cidades': ['Mauá', 'Santo André', 'SCS'],\n",
       " 'a': 42}"
      ]
     },
     "execution_count": 93,
     "metadata": {},
     "output_type": "execute_result"
    }
   ],
   "source": [
    "cadastro.pop(\"num_pets\")\n",
    "\n",
    "cadastro"
   ]
  },
  {
   "cell_type": "markdown",
   "metadata": {},
   "source": [
    "__Ou, utilize o \"del\"__"
   ]
  },
  {
   "cell_type": "code",
   "execution_count": 94,
   "metadata": {
    "ExecuteTime": {
     "end_time": "2021-10-30T00:49:41.459710Z",
     "start_time": "2021-10-30T00:49:41.441720Z"
    }
   },
   "outputs": [
    {
     "data": {
      "text/plain": [
       "{'nomes': ['João', 'Maria', 'Bob'],\n",
       " 'idades': [15, 14, 20],\n",
       " 'cidades': ['Mauá', 'Santo André', 'SCS']}"
      ]
     },
     "execution_count": 94,
     "metadata": {},
     "output_type": "execute_result"
    }
   ],
   "source": [
    "del cadastro[\"a\"]\n",
    "\n",
    "cadastro"
   ]
  },
  {
   "cell_type": "markdown",
   "metadata": {},
   "source": [
    "Alterar os valores também é possível:"
   ]
  },
  {
   "cell_type": "code",
   "execution_count": 95,
   "metadata": {
    "ExecuteTime": {
     "end_time": "2021-10-30T00:49:43.847681Z",
     "start_time": "2021-10-30T00:49:43.840686Z"
    }
   },
   "outputs": [],
   "source": [
    "cadastro[\"cidades\"] = [\"Paris\", \"São Paulo\", \"Mauá\"]"
   ]
  },
  {
   "cell_type": "code",
   "execution_count": 96,
   "metadata": {
    "ExecuteTime": {
     "end_time": "2021-10-30T00:49:44.918290Z",
     "start_time": "2021-10-30T00:49:44.898300Z"
    }
   },
   "outputs": [
    {
     "data": {
      "text/plain": [
       "{'nomes': ['João', 'Maria', 'Bob'],\n",
       " 'idades': [15, 14, 20],\n",
       " 'cidades': ['Paris', 'São Paulo', 'Mauá']}"
      ]
     },
     "execution_count": 96,
     "metadata": {},
     "output_type": "execute_result"
    }
   ],
   "source": [
    "cadastro"
   ]
  },
  {
   "cell_type": "markdown",
   "metadata": {},
   "source": [
    "Posso também alterar elementos individuais dos valores, os indexando\n",
    "\n",
    "(Lembre-se que, neste caso, os valores são listas! Então, devo indexá-las para alterar seus elementos!)"
   ]
  },
  {
   "cell_type": "code",
   "execution_count": 99,
   "metadata": {
    "ExecuteTime": {
     "end_time": "2021-10-30T00:51:01.862907Z",
     "start_time": "2021-10-30T00:51:01.845918Z"
    }
   },
   "outputs": [],
   "source": [
    "cadastro[\"cidades\"][2] = \"Berlin\""
   ]
  },
  {
   "cell_type": "code",
   "execution_count": 100,
   "metadata": {
    "ExecuteTime": {
     "end_time": "2021-10-30T00:51:05.842894Z",
     "start_time": "2021-10-30T00:51:05.822815Z"
    }
   },
   "outputs": [
    {
     "data": {
      "text/plain": [
       "{'nomes': ['João', 'Maria', 'Bob'],\n",
       " 'idades': [15, 14, 20],\n",
       " 'cidades': ['Paris', 'São Paulo', 'Berlin']}"
      ]
     },
     "execution_count": 100,
     "metadata": {},
     "output_type": "execute_result"
    }
   ],
   "source": [
    "cadastro"
   ]
  },
  {
   "cell_type": "markdown",
   "metadata": {},
   "source": [
    "Alternativamente, pegando o indice pelo nome:"
   ]
  },
  {
   "cell_type": "code",
   "execution_count": 103,
   "metadata": {
    "ExecuteTime": {
     "end_time": "2021-10-30T00:52:45.352640Z",
     "start_time": "2021-10-30T00:52:45.339642Z"
    }
   },
   "outputs": [
    {
     "data": {
      "text/plain": [
       "'Berlin'"
      ]
     },
     "execution_count": 103,
     "metadata": {},
     "output_type": "execute_result"
    }
   ],
   "source": [
    "nome = \"Bob\"\n",
    "\n",
    "idx_nome = cadastro[\"nomes\"].index(nome)\n",
    "\n",
    "cadastro[\"cidades\"][idx_nome]"
   ]
  },
  {
   "cell_type": "markdown",
   "metadata": {},
   "source": [
    "Para adicionar novos elementos aos valores (que são listas), usamos o append:"
   ]
  },
  {
   "cell_type": "code",
   "execution_count": 106,
   "metadata": {
    "ExecuteTime": {
     "end_time": "2021-10-30T00:53:36.824474Z",
     "start_time": "2021-10-30T00:53:36.806479Z"
    }
   },
   "outputs": [
    {
     "data": {
      "text/plain": [
       "{'nomes': ['João', 'Maria', 'Bob'],\n",
       " 'idades': [15, 14, 20],\n",
       " 'cidades': ['Paris', 'São Paulo', 'Berlin']}"
      ]
     },
     "execution_count": 106,
     "metadata": {},
     "output_type": "execute_result"
    }
   ],
   "source": [
    "cadastro"
   ]
  },
  {
   "cell_type": "code",
   "execution_count": 107,
   "metadata": {
    "ExecuteTime": {
     "end_time": "2021-10-30T00:54:19.889713Z",
     "start_time": "2021-10-30T00:54:19.882718Z"
    }
   },
   "outputs": [],
   "source": [
    "cadastro[\"nomes\"].append(\"Alice\")\n",
    "cadastro[\"idades\"].append(42)\n",
    "cadastro[\"cidades\"].append(\"Viena\")"
   ]
  },
  {
   "cell_type": "code",
   "execution_count": 108,
   "metadata": {
    "ExecuteTime": {
     "end_time": "2021-10-30T00:54:23.858458Z",
     "start_time": "2021-10-30T00:54:23.839471Z"
    }
   },
   "outputs": [
    {
     "data": {
      "text/plain": [
       "{'nomes': ['João', 'Maria', 'Bob', 'Alice'],\n",
       " 'idades': [15, 14, 20, 42],\n",
       " 'cidades': ['Paris', 'São Paulo', 'Berlin', 'Viena']}"
      ]
     },
     "execution_count": 108,
     "metadata": {},
     "output_type": "execute_result"
    }
   ],
   "source": [
    "cadastro"
   ]
  },
  {
   "cell_type": "markdown",
   "metadata": {},
   "source": [
    "Dicionários podem ser percorridos com um for. \n",
    "\n",
    "Ao fazer isso, **as chaves serão percorridas** \n",
    "\n",
    "Porém, a partir da chave obtém-se o valor:"
   ]
  },
  {
   "cell_type": "code",
   "execution_count": 111,
   "metadata": {
    "ExecuteTime": {
     "end_time": "2021-10-30T00:56:52.226670Z",
     "start_time": "2021-10-30T00:56:52.220460Z"
    }
   },
   "outputs": [
    {
     "name": "stdout",
     "output_type": "stream",
     "text": [
      "nomes\n",
      "idades\n",
      "cidades\n"
     ]
    }
   ],
   "source": [
    "for k in cadastro:\n",
    "    \n",
    "    print(k)"
   ]
  },
  {
   "cell_type": "code",
   "execution_count": 115,
   "metadata": {
    "ExecuteTime": {
     "end_time": "2021-10-30T00:58:37.232926Z",
     "start_time": "2021-10-30T00:58:37.216934Z"
    }
   },
   "outputs": [
    {
     "name": "stdout",
     "output_type": "stream",
     "text": [
      "['João', 'Maria', 'Bob', 'Alice']\n",
      "[15, 14, 20, 42]\n",
      "['Paris', 'São Paulo', 'Berlin', 'Viena']\n"
     ]
    }
   ],
   "source": [
    "for k in cadastro:\n",
    "    \n",
    "    print(cadastro[k])"
   ]
  },
  {
   "cell_type": "markdown",
   "metadata": {},
   "source": [
    "Mas também é possível acessar apenas os valores do dicionário com o método `values()`"
   ]
  },
  {
   "cell_type": "code",
   "execution_count": 129,
   "metadata": {
    "ExecuteTime": {
     "end_time": "2021-10-30T01:06:56.378565Z",
     "start_time": "2021-10-30T01:06:56.366571Z"
    }
   },
   "outputs": [
    {
     "name": "stdout",
     "output_type": "stream",
     "text": [
      "['João', 'Maria', 'Bob', 'Alice']\n",
      "[15, 14, 20, 42]\n",
      "['Paris', 'São Paulo', 'Berlin', 'Viena']\n"
     ]
    }
   ],
   "source": [
    "for value in cadastro.values():\n",
    "    \n",
    "    print(value)"
   ]
  },
  {
   "cell_type": "markdown",
   "metadata": {},
   "source": [
    "Uma utilidade disso é para pegar os dados respectivos de cada elemento do cadastro:"
   ]
  },
  {
   "cell_type": "code",
   "execution_count": 137,
   "metadata": {
    "ExecuteTime": {
     "end_time": "2021-10-30T01:09:20.390559Z",
     "start_time": "2021-10-30T01:09:20.373569Z"
    }
   },
   "outputs": [
    {
     "data": {
      "text/plain": [
       "['Alice', 42, 'Viena']"
      ]
     },
     "execution_count": 137,
     "metadata": {},
     "output_type": "execute_result"
    }
   ],
   "source": [
    "nome=\"Alice\"\n",
    "idx_nome=cadastro[\"nomes\"].index(nome)\n",
    "\n",
    "dados_nome = []\n",
    "\n",
    "for v in cadastro.values():\n",
    "    \n",
    "    dados_nome.append(v[idx_nome])\n",
    "    \n",
    "dados_nome"
   ]
  },
  {
   "cell_type": "markdown",
   "metadata": {},
   "source": [
    "Usando compreensão de listas, fica ainda mais simples:"
   ]
  },
  {
   "cell_type": "code",
   "execution_count": 139,
   "metadata": {
    "ExecuteTime": {
     "end_time": "2021-10-30T01:11:29.734006Z",
     "start_time": "2021-10-30T01:11:29.717015Z"
    }
   },
   "outputs": [
    {
     "data": {
      "text/plain": [
       "['Alice', 42, 'Viena']"
      ]
     },
     "execution_count": 139,
     "metadata": {},
     "output_type": "execute_result"
    }
   ],
   "source": [
    "nome=\"Alice\"\n",
    "idx_nome=cadastro[\"nomes\"].index(nome)\n",
    "\n",
    "dados_nome = [v[idx_nome] for v in cadastro.values()]\n",
    "\n",
    "dados_nome"
   ]
  },
  {
   "cell_type": "markdown",
   "metadata": {},
   "source": [
    "É possível obter chaves e valores separadamente.\n",
    "\n",
    "Para isso, usamos os métodos `keys()` e `values()`. "
   ]
  },
  {
   "cell_type": "code",
   "execution_count": 140,
   "metadata": {
    "ExecuteTime": {
     "end_time": "2021-10-30T01:12:02.407931Z",
     "start_time": "2021-10-30T01:12:02.388941Z"
    }
   },
   "outputs": [
    {
     "data": {
      "text/plain": [
       "dict_keys(['nomes', 'idades', 'cidades'])"
      ]
     },
     "execution_count": 140,
     "metadata": {},
     "output_type": "execute_result"
    }
   ],
   "source": [
    "cadastro.keys()"
   ]
  },
  {
   "cell_type": "code",
   "execution_count": 141,
   "metadata": {
    "ExecuteTime": {
     "end_time": "2021-10-30T01:12:10.330235Z",
     "start_time": "2021-10-30T01:12:10.312246Z"
    }
   },
   "outputs": [
    {
     "data": {
      "text/plain": [
       "dict_values([['João', 'Maria', 'Bob', 'Alice'], [15, 14, 20, 42], ['Paris', 'São Paulo', 'Berlin', 'Viena']])"
      ]
     },
     "execution_count": 141,
     "metadata": {},
     "output_type": "execute_result"
    }
   ],
   "source": [
    "cadastro.values()"
   ]
  },
  {
   "cell_type": "markdown",
   "metadata": {},
   "source": [
    "E esses valores podem ser transformados em listas com a função `list()`"
   ]
  },
  {
   "cell_type": "code",
   "execution_count": 142,
   "metadata": {
    "ExecuteTime": {
     "end_time": "2021-10-30T01:12:27.058371Z",
     "start_time": "2021-10-30T01:12:27.043378Z"
    }
   },
   "outputs": [
    {
     "data": {
      "text/plain": [
       "['nomes', 'idades', 'cidades']"
      ]
     },
     "execution_count": 142,
     "metadata": {},
     "output_type": "execute_result"
    }
   ],
   "source": [
    "list(cadastro.keys())"
   ]
  },
  {
   "cell_type": "code",
   "execution_count": 143,
   "metadata": {
    "ExecuteTime": {
     "end_time": "2021-10-30T01:12:44.971565Z",
     "start_time": "2021-10-30T01:12:44.957577Z"
    }
   },
   "outputs": [
    {
     "data": {
      "text/plain": [
       "[['João', 'Maria', 'Bob', 'Alice'],\n",
       " [15, 14, 20, 42],\n",
       " ['Paris', 'São Paulo', 'Berlin', 'Viena']]"
      ]
     },
     "execution_count": 143,
     "metadata": {},
     "output_type": "execute_result"
    }
   ],
   "source": [
    "list(cadastro.values())"
   ]
  },
  {
   "cell_type": "markdown",
   "metadata": {},
   "source": [
    "Deixando todos os valores em uma unica lista, a partir da lista de listas.\n",
    "\n",
    "Esta lista terá todos os valores dentro do dicionario"
   ]
  },
  {
   "cell_type": "code",
   "execution_count": 144,
   "metadata": {
    "ExecuteTime": {
     "end_time": "2021-10-30T01:13:17.101640Z",
     "start_time": "2021-10-30T01:13:17.085649Z"
    }
   },
   "outputs": [
    {
     "data": {
      "text/plain": [
       "[['João', 'Maria', 'Bob', 'Alice'],\n",
       " [15, 14, 20, 42],\n",
       " ['Paris', 'São Paulo', 'Berlin', 'Viena']]"
      ]
     },
     "execution_count": 144,
     "metadata": {},
     "output_type": "execute_result"
    }
   ],
   "source": [
    "[value for value in cadastro.values()]"
   ]
  },
  {
   "cell_type": "markdown",
   "metadata": {},
   "source": [
    "Por fim, também é possível percorrer simultaneamente as chaves e valores, utilizando o `items()`:"
   ]
  },
  {
   "cell_type": "code",
   "execution_count": 119,
   "metadata": {
    "ExecuteTime": {
     "end_time": "2021-10-30T01:00:32.495022Z",
     "start_time": "2021-10-30T01:00:32.485027Z"
    }
   },
   "outputs": [
    {
     "data": {
      "text/plain": [
       "dict_items([('nomes', ['João', 'Maria', 'Bob', 'Alice']), ('idades', [15, 14, 20, 42]), ('cidades', ['Paris', 'São Paulo', 'Berlin', 'Viena'])])"
      ]
     },
     "execution_count": 119,
     "metadata": {},
     "output_type": "execute_result"
    }
   ],
   "source": [
    "cadastro.items()"
   ]
  },
  {
   "cell_type": "code",
   "execution_count": 120,
   "metadata": {
    "ExecuteTime": {
     "end_time": "2021-10-30T01:00:49.054181Z",
     "start_time": "2021-10-30T01:00:49.043185Z"
    }
   },
   "outputs": [
    {
     "name": "stdout",
     "output_type": "stream",
     "text": [
      "nomes ['João', 'Maria', 'Bob', 'Alice']\n",
      "idades [15, 14, 20, 42]\n",
      "cidades ['Paris', 'São Paulo', 'Berlin', 'Viena']\n"
     ]
    }
   ],
   "source": [
    "for k, v in cadastro.items():\n",
    "    \n",
    "    print(k, v)"
   ]
  },
  {
   "cell_type": "code",
   "execution_count": 123,
   "metadata": {
    "ExecuteTime": {
     "end_time": "2021-10-30T01:02:20.879301Z",
     "start_time": "2021-10-30T01:02:20.866310Z"
    }
   },
   "outputs": [
    {
     "data": {
      "text/plain": [
       "[(0, 'nomes'), (1, 'idades'), (2, 'cidades')]"
      ]
     },
     "execution_count": 123,
     "metadata": {},
     "output_type": "execute_result"
    }
   ],
   "source": [
    "list(enumerate(cadastro))"
   ]
  },
  {
   "cell_type": "code",
   "execution_count": 127,
   "metadata": {
    "ExecuteTime": {
     "end_time": "2021-10-30T01:04:50.402975Z",
     "start_time": "2021-10-30T01:04:50.389470Z"
    }
   },
   "outputs": [
    {
     "name": "stdout",
     "output_type": "stream",
     "text": [
      "0 nomes ['João', 'Maria', 'Bob', 'Alice']\n",
      "João\n",
      "Maria\n",
      "Bob\n",
      "Alice\n",
      "1 idades [15, 14, 20, 42]\n",
      "15\n",
      "14\n",
      "20\n",
      "42\n",
      "2 cidades ['Paris', 'São Paulo', 'Berlin', 'Viena']\n",
      "Paris\n",
      "São Paulo\n",
      "Berlin\n",
      "Viena\n"
     ]
    }
   ],
   "source": [
    "for idx, k in enumerate(cadastro):\n",
    "    \n",
    "    print(idx, k, cadastro[k])\n",
    "    \n",
    "    for item in cadastro[k]:\n",
    "        \n",
    "        print(item)"
   ]
  },
  {
   "cell_type": "markdown",
   "metadata": {},
   "source": [
    "Pra remover os dados de uma dada pessoa do cadastro:"
   ]
  },
  {
   "cell_type": "code",
   "execution_count": 147,
   "metadata": {
    "ExecuteTime": {
     "end_time": "2021-10-30T01:37:47.290115Z",
     "start_time": "2021-10-30T01:37:47.271128Z"
    }
   },
   "outputs": [
    {
     "data": {
      "text/plain": [
       "{'nomes': ['João', 'Maria', 'Bob', 'Alice'],\n",
       " 'idades': [15, 14, 20, 42],\n",
       " 'cidades': ['Paris', 'São Paulo', 'Berlin', 'Viena']}"
      ]
     },
     "execution_count": 147,
     "metadata": {},
     "output_type": "execute_result"
    }
   ],
   "source": [
    "cadastro"
   ]
  },
  {
   "cell_type": "code",
   "execution_count": 148,
   "metadata": {
    "ExecuteTime": {
     "end_time": "2021-10-30T01:38:03.508881Z",
     "start_time": "2021-10-30T01:38:03.491891Z"
    }
   },
   "outputs": [
    {
     "data": {
      "text/plain": [
       "'Berlin'"
      ]
     },
     "execution_count": 148,
     "metadata": {},
     "output_type": "execute_result"
    }
   ],
   "source": [
    "nome=\"Bob\"\n",
    "idx_nome=cadastro[\"nomes\"].index(nome)\n",
    "\n",
    "cadastro[\"nomes\"].pop(idx_nome)\n",
    "cadastro[\"idades\"].pop(idx_nome)\n",
    "cadastro[\"cidades\"].pop(idx_nome)"
   ]
  },
  {
   "cell_type": "code",
   "execution_count": 149,
   "metadata": {
    "ExecuteTime": {
     "end_time": "2021-10-30T01:38:10.004538Z",
     "start_time": "2021-10-30T01:38:09.983539Z"
    }
   },
   "outputs": [
    {
     "data": {
      "text/plain": [
       "{'nomes': ['João', 'Maria', 'Alice'],\n",
       " 'idades': [15, 14, 42],\n",
       " 'cidades': ['Paris', 'São Paulo', 'Viena']}"
      ]
     },
     "execution_count": 149,
     "metadata": {},
     "output_type": "execute_result"
    }
   ],
   "source": [
    "cadastro"
   ]
  },
  {
   "cell_type": "markdown",
   "metadata": {},
   "source": [
    "____\n",
    "____\n",
    "____\n",
    "___"
   ]
  }
 ],
 "metadata": {
  "kernelspec": {
   "display_name": "Python 3",
   "language": "python",
   "name": "python3"
  },
  "language_info": {
   "codemirror_mode": {
    "name": "ipython",
    "version": 3
   },
   "file_extension": ".py",
   "mimetype": "text/x-python",
   "name": "python",
   "nbconvert_exporter": "python",
   "pygments_lexer": "ipython3",
   "version": "3.8.3"
  }
 },
 "nbformat": 4,
 "nbformat_minor": 4
}
