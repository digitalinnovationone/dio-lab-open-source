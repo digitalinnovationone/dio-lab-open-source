{
 "cells": [
  {
   "cell_type": "markdown",
   "metadata": {},
   "source": [
    "# Aula 3 - listas e loop for\n",
    "\n",
    "Na aula de hoje, vamos explorar os seguintes tópicos em Python:\n",
    "\n",
    "- 1) Listas\n",
    "- 2) Funções de listas\n",
    "- 3) Laços de repetição (for)\n",
    "    - 3.1) Compreensão de listas\n",
    "\n",
    "_________________\n"
   ]
  },
  {
   "cell_type": "markdown",
   "metadata": {},
   "source": [
    "____\n",
    "____\n",
    "____"
   ]
  },
  {
   "cell_type": "markdown",
   "metadata": {},
   "source": [
    "## 1) Listas\n",
    "\n",
    "Imagine que você quer armazenar várias variáveis relacionadas, como, por exemplo, todas suas notas em provas.\n",
    "\n",
    "Se houver muitas notas, não é muito prático criar uma variável para cada uma. Seria muito mais conveniente armazenar todas as notas em uma **lista**, não é mesmo? \n",
    "\n",
    "Em python, temos uma estrutura de dados que é exatamente isso: uma lista! Listas são indicadas por colchete []\n",
    "\n",
    "Uma lista nada mais é que um **conjunto de objetos**, que podem ser de diversos tipos:"
   ]
  },
  {
   "cell_type": "code",
   "execution_count": 1,
   "metadata": {
    "ExecuteTime": {
     "end_time": "2021-10-26T00:55:03.558520Z",
     "start_time": "2021-10-26T00:55:03.541529Z"
    }
   },
   "outputs": [],
   "source": [
    "n1 = 8\n",
    "n2 = 7.5\n",
    "n3 = 10\n",
    "n4 = 9"
   ]
  },
  {
   "cell_type": "markdown",
   "metadata": {},
   "source": [
    "Lista de números (int e float)"
   ]
  },
  {
   "cell_type": "code",
   "execution_count": 2,
   "metadata": {
    "ExecuteTime": {
     "end_time": "2021-10-26T00:55:03.667456Z",
     "start_time": "2021-10-26T00:55:03.562518Z"
    }
   },
   "outputs": [],
   "source": [
    "notas = [8, 7.5, 10, 9]"
   ]
  },
  {
   "cell_type": "code",
   "execution_count": 3,
   "metadata": {
    "ExecuteTime": {
     "end_time": "2021-10-26T00:55:03.776405Z",
     "start_time": "2021-10-26T00:55:03.672456Z"
    }
   },
   "outputs": [
    {
     "data": {
      "text/plain": [
       "[8, 7.5, 10, 9]"
      ]
     },
     "execution_count": 3,
     "metadata": {},
     "output_type": "execute_result"
    }
   ],
   "source": [
    "notas"
   ]
  },
  {
   "cell_type": "markdown",
   "metadata": {},
   "source": [
    "Lista de strings"
   ]
  },
  {
   "cell_type": "code",
   "execution_count": 4,
   "metadata": {
    "ExecuteTime": {
     "end_time": "2021-10-26T00:55:03.898326Z",
     "start_time": "2021-10-26T00:55:03.783391Z"
    }
   },
   "outputs": [],
   "source": [
    "lista1 = [\"andre\", \"lets code\"]"
   ]
  },
  {
   "cell_type": "code",
   "execution_count": 5,
   "metadata": {
    "ExecuteTime": {
     "end_time": "2021-10-26T00:55:04.113203Z",
     "start_time": "2021-10-26T00:55:03.904321Z"
    }
   },
   "outputs": [
    {
     "data": {
      "text/plain": [
       "['andre', 'lets code']"
      ]
     },
     "execution_count": 5,
     "metadata": {},
     "output_type": "execute_result"
    }
   ],
   "source": [
    "lista1"
   ]
  },
  {
   "cell_type": "markdown",
   "metadata": {},
   "source": [
    "Lista de números e strings"
   ]
  },
  {
   "cell_type": "code",
   "execution_count": 6,
   "metadata": {
    "ExecuteTime": {
     "end_time": "2021-10-26T00:55:04.297100Z",
     "start_time": "2021-10-26T00:55:04.118198Z"
    }
   },
   "outputs": [
    {
     "data": {
      "text/plain": [
       "['andre', 'lets code', 8, 7.5, 10, 9]"
      ]
     },
     "execution_count": 6,
     "metadata": {},
     "output_type": "execute_result"
    }
   ],
   "source": [
    "lista2 = [\"andre\", \"lets code\", 8, 7.5, 10, 9]\n",
    "\n",
    "lista2"
   ]
  },
  {
   "cell_type": "markdown",
   "metadata": {},
   "source": [
    "Lista de listas"
   ]
  },
  {
   "cell_type": "code",
   "execution_count": 7,
   "metadata": {
    "ExecuteTime": {
     "end_time": "2021-10-26T00:55:04.436016Z",
     "start_time": "2021-10-26T00:55:04.306090Z"
    }
   },
   "outputs": [],
   "source": [
    "lista_listas = [[1, 2, 4], [\"andre\"]]"
   ]
  },
  {
   "cell_type": "markdown",
   "metadata": {},
   "source": [
    "Tudo junto"
   ]
  },
  {
   "cell_type": "code",
   "execution_count": 8,
   "metadata": {
    "ExecuteTime": {
     "end_time": "2021-10-26T00:55:04.634416Z",
     "start_time": "2021-10-26T00:55:04.446012Z"
    }
   },
   "outputs": [],
   "source": [
    "lista_tudo = [\"andre\", [10, 20, 40, 50, 60], [\"andre\"], False, \"lets code\", 8, 7.5, 10, 9]"
   ]
  },
  {
   "cell_type": "code",
   "execution_count": 9,
   "metadata": {
    "ExecuteTime": {
     "end_time": "2021-10-26T00:55:04.773337Z",
     "start_time": "2021-10-26T00:55:04.639415Z"
    }
   },
   "outputs": [
    {
     "data": {
      "text/plain": [
       "['andre', [10, 20, 40, 50, 60], ['andre'], False, 'lets code', 8, 7.5, 10, 9]"
      ]
     },
     "execution_count": 9,
     "metadata": {},
     "output_type": "execute_result"
    }
   ],
   "source": [
    "lista_tudo"
   ]
  },
  {
   "cell_type": "markdown",
   "metadata": {},
   "source": [
    "Muitas vezes, queremos **acessar elementos individuais** da lista. \n",
    "\n",
    "Para fazer isso, devemos indicar qual é o **índice** respectivo ao elemento, isto é, qual é a **posição** do elemento dentro da lista\n",
    "\n",
    "Para acessar o elemento na **posição i** da lista \"minha_lista\", fazemos:\n",
    "\n",
    "```python\n",
    "minha_lista[i]\n",
    "```\n",
    "\n",
    "__MUITO IMPORTANTE: a numeração de índice começa em zero!__\n",
    "\n",
    "Ou seja:\n",
    "\n",
    "- O primeiro elemento tem índice 0: ```minha_lista[0]``` ,\n",
    "- O segundo tem índice 1: ```minha_lista[1]```,\n",
    "\n",
    "E assim por diante!\n",
    "\n",
    "Também podemos acessar os últimos elementos, usando índices negativos:\n",
    "\n",
    "- O último elemento tem índice -1: ```minha_lista[-1]```,\n",
    "- O penúltimo tem índice -2: ```minha_lista[-2]```,\n",
    "\n",
    "E assim por diante!"
   ]
  },
  {
   "cell_type": "code",
   "execution_count": 10,
   "metadata": {
    "ExecuteTime": {
     "end_time": "2021-10-26T00:55:04.896193Z",
     "start_time": "2021-10-26T00:55:04.777336Z"
    }
   },
   "outputs": [
    {
     "data": {
      "text/plain": [
       "['andre', [10, 20, 40, 50, 60], ['andre'], False, 'lets code', 8, 7.5, 10, 9]"
      ]
     },
     "execution_count": 10,
     "metadata": {},
     "output_type": "execute_result"
    }
   ],
   "source": [
    "lista_tudo"
   ]
  },
  {
   "cell_type": "code",
   "execution_count": 11,
   "metadata": {
    "ExecuteTime": {
     "end_time": "2021-10-26T00:55:04.988135Z",
     "start_time": "2021-10-26T00:55:04.901187Z"
    }
   },
   "outputs": [
    {
     "data": {
      "text/plain": [
       "7.5"
      ]
     },
     "execution_count": 11,
     "metadata": {},
     "output_type": "execute_result"
    }
   ],
   "source": [
    "lista_tudo[6]"
   ]
  },
  {
   "cell_type": "code",
   "execution_count": 12,
   "metadata": {
    "ExecuteTime": {
     "end_time": "2021-10-26T00:55:05.145861Z",
     "start_time": "2021-10-26T00:55:04.993131Z"
    }
   },
   "outputs": [
    {
     "data": {
      "text/plain": [
       "9.5"
      ]
     },
     "execution_count": 12,
     "metadata": {},
     "output_type": "execute_result"
    }
   ],
   "source": [
    "x = lista_tudo[6]\n",
    "\n",
    "x + 2"
   ]
  },
  {
   "cell_type": "code",
   "execution_count": 13,
   "metadata": {
    "ExecuteTime": {
     "end_time": "2021-10-26T00:55:05.362765Z",
     "start_time": "2021-10-26T00:55:05.150860Z"
    }
   },
   "outputs": [
    {
     "data": {
      "text/plain": [
       "9.5"
      ]
     },
     "execution_count": 13,
     "metadata": {},
     "output_type": "execute_result"
    }
   ],
   "source": [
    "lista_tudo[6] + 2"
   ]
  },
  {
   "cell_type": "code",
   "execution_count": 14,
   "metadata": {
    "ExecuteTime": {
     "end_time": "2021-10-26T00:55:05.533873Z",
     "start_time": "2021-10-26T00:55:05.368757Z"
    }
   },
   "outputs": [
    {
     "data": {
      "text/plain": [
       "7.5"
      ]
     },
     "execution_count": 14,
     "metadata": {},
     "output_type": "execute_result"
    }
   ],
   "source": [
    "lista_tudo[-3]"
   ]
  },
  {
   "cell_type": "code",
   "execution_count": 15,
   "metadata": {
    "ExecuteTime": {
     "end_time": "2021-10-26T00:55:05.628774Z",
     "start_time": "2021-10-26T00:55:05.548715Z"
    }
   },
   "outputs": [
    {
     "data": {
      "text/plain": [
       "[10, 20, 40, 50, 60]"
      ]
     },
     "execution_count": 15,
     "metadata": {},
     "output_type": "execute_result"
    }
   ],
   "source": [
    "lista_tudo[1]"
   ]
  },
  {
   "cell_type": "code",
   "execution_count": 16,
   "metadata": {
    "ExecuteTime": {
     "end_time": "2021-10-26T00:55:05.751599Z",
     "start_time": "2021-10-26T00:55:05.634667Z"
    }
   },
   "outputs": [
    {
     "data": {
      "text/plain": [
       "60"
      ]
     },
     "execution_count": 16,
     "metadata": {},
     "output_type": "execute_result"
    }
   ],
   "source": [
    "(lista_tudo[1])[-1]"
   ]
  },
  {
   "cell_type": "code",
   "execution_count": 17,
   "metadata": {
    "ExecuteTime": {
     "end_time": "2021-10-26T00:55:05.906510Z",
     "start_time": "2021-10-26T00:55:05.758596Z"
    }
   },
   "outputs": [
    {
     "data": {
      "text/plain": [
       "60"
      ]
     },
     "execution_count": 17,
     "metadata": {},
     "output_type": "execute_result"
    }
   ],
   "source": [
    "lista_tudo[1][-1]"
   ]
  },
  {
   "cell_type": "markdown",
   "metadata": {},
   "source": [
    "Também podemos **acessar pedaços da lista**, indicando o intervalo de índices que queremos, separados por \":\",  **com intervalo superior aberto**:\n",
    "\n",
    "- ```minha_lista[1:3]```: seleciona os elementos de indice 1 até indice 2\n",
    "- ```minha_lista[:4]```: seleciona do primeiro elemento até o de índice 3\n",
    "- ```minha_lista[3:]```: seleciona do elemento de índice 3 até o final\n",
    "- ```minha_lista[:]```: seleciona a lista inteira\n",
    "\n",
    "Este conceito é chamado de \"slicing\" em Python, pois você está pegando \"fatias\" da lista!"
   ]
  },
  {
   "cell_type": "code",
   "execution_count": 18,
   "metadata": {
    "ExecuteTime": {
     "end_time": "2021-10-26T00:55:06.046949Z",
     "start_time": "2021-10-26T00:55:05.912506Z"
    }
   },
   "outputs": [
    {
     "data": {
      "text/plain": [
       "['andre', [10, 20, 40, 50, 60], ['andre'], False, 'lets code', 8, 7.5, 10, 9]"
      ]
     },
     "execution_count": 18,
     "metadata": {},
     "output_type": "execute_result"
    }
   ],
   "source": [
    "lista_tudo"
   ]
  },
  {
   "cell_type": "code",
   "execution_count": 19,
   "metadata": {
    "ExecuteTime": {
     "end_time": "2021-10-26T00:55:06.124916Z",
     "start_time": "2021-10-26T00:55:06.053945Z"
    }
   },
   "outputs": [
    {
     "data": {
      "text/plain": [
       "[False, 'lets code', 8]"
      ]
     },
     "execution_count": 19,
     "metadata": {},
     "output_type": "execute_result"
    }
   ],
   "source": [
    "lista_tudo[3:6]"
   ]
  },
  {
   "cell_type": "code",
   "execution_count": 20,
   "metadata": {
    "ExecuteTime": {
     "end_time": "2021-10-26T00:55:06.265830Z",
     "start_time": "2021-10-26T00:55:06.133908Z"
    }
   },
   "outputs": [
    {
     "data": {
      "text/plain": [
       "['andre', [10, 20, 40, 50, 60], ['andre'], False]"
      ]
     },
     "execution_count": 20,
     "metadata": {},
     "output_type": "execute_result"
    }
   ],
   "source": [
    "lista_tudo[0:4]"
   ]
  },
  {
   "cell_type": "code",
   "execution_count": 21,
   "metadata": {
    "ExecuteTime": {
     "end_time": "2021-10-26T00:55:06.407751Z",
     "start_time": "2021-10-26T00:55:06.268830Z"
    }
   },
   "outputs": [
    {
     "data": {
      "text/plain": [
       "['andre', [10, 20, 40, 50, 60], ['andre'], False]"
      ]
     },
     "execution_count": 21,
     "metadata": {},
     "output_type": "execute_result"
    }
   ],
   "source": [
    "# me da os primeiros 4 elementos (indices 0, 1, 2, 3)\n",
    "lista_tudo[:4]"
   ]
  },
  {
   "cell_type": "code",
   "execution_count": 22,
   "metadata": {
    "ExecuteTime": {
     "end_time": "2021-10-26T00:55:06.518687Z",
     "start_time": "2021-10-26T00:55:06.413747Z"
    }
   },
   "outputs": [
    {
     "data": {
      "text/plain": [
       "[8, 7.5, 10, 9]"
      ]
     },
     "execution_count": 22,
     "metadata": {},
     "output_type": "execute_result"
    }
   ],
   "source": [
    "lista_tudo[5:]"
   ]
  },
  {
   "cell_type": "code",
   "execution_count": 23,
   "metadata": {
    "ExecuteTime": {
     "end_time": "2021-10-26T00:55:06.722537Z",
     "start_time": "2021-10-26T00:55:06.532680Z"
    }
   },
   "outputs": [
    {
     "data": {
      "text/plain": [
       "[8, 7.5, 10, 9]"
      ]
     },
     "execution_count": 23,
     "metadata": {},
     "output_type": "execute_result"
    }
   ],
   "source": [
    "lista_tudo[-4:]"
   ]
  },
  {
   "cell_type": "code",
   "execution_count": 24,
   "metadata": {
    "ExecuteTime": {
     "end_time": "2021-10-26T00:55:06.875450Z",
     "start_time": "2021-10-26T00:55:06.738530Z"
    }
   },
   "outputs": [
    {
     "data": {
      "text/plain": [
       "[10, 20, 40, 50, 60]"
      ]
     },
     "execution_count": 24,
     "metadata": {},
     "output_type": "execute_result"
    }
   ],
   "source": [
    "lista_tudo[1]"
   ]
  },
  {
   "cell_type": "code",
   "execution_count": 25,
   "metadata": {
    "ExecuteTime": {
     "end_time": "2021-10-26T00:55:07.016491Z",
     "start_time": "2021-10-26T00:55:06.884444Z"
    }
   },
   "outputs": [
    {
     "data": {
      "text/plain": [
       "[20, 40, 50]"
      ]
     },
     "execution_count": 25,
     "metadata": {},
     "output_type": "execute_result"
    }
   ],
   "source": [
    "lista_tudo[1][1:4]"
   ]
  },
  {
   "cell_type": "markdown",
   "metadata": {},
   "source": [
    "Podemos também fazer algumas **operações com listas**"
   ]
  },
  {
   "cell_type": "code",
   "execution_count": 26,
   "metadata": {
    "ExecuteTime": {
     "end_time": "2021-10-26T00:55:07.142432Z",
     "start_time": "2021-10-26T00:55:07.020492Z"
    }
   },
   "outputs": [],
   "source": [
    "lista1 = [10, 20, 30]\n",
    "lista2 = [40, 50, 60]"
   ]
  },
  {
   "cell_type": "markdown",
   "metadata": {},
   "source": [
    "Soma de listas: ao **somar listas**, os elementos são **concatenados**, na ordem dada, para formar uma lista maior:"
   ]
  },
  {
   "cell_type": "code",
   "execution_count": 27,
   "metadata": {
    "ExecuteTime": {
     "end_time": "2021-10-26T00:55:07.237397Z",
     "start_time": "2021-10-26T00:55:07.151420Z"
    }
   },
   "outputs": [
    {
     "data": {
      "text/plain": [
       "[10, 20, 30, 40, 50, 60]"
      ]
     },
     "execution_count": 27,
     "metadata": {},
     "output_type": "execute_result"
    }
   ],
   "source": [
    "lista1 + lista2"
   ]
  },
  {
   "cell_type": "markdown",
   "metadata": {},
   "source": [
    "Ao **multiplicar listas por um inteiro**, os elementos são repetidos, na ordem que aparecem:"
   ]
  },
  {
   "cell_type": "code",
   "execution_count": 28,
   "metadata": {
    "ExecuteTime": {
     "end_time": "2021-10-26T00:55:07.393144Z",
     "start_time": "2021-10-26T00:55:07.253361Z"
    }
   },
   "outputs": [
    {
     "data": {
      "text/plain": [
       "[10, 20, 30, 10, 20, 30, 10, 20, 30, 10, 20, 30]"
      ]
     },
     "execution_count": 28,
     "metadata": {},
     "output_type": "execute_result"
    }
   ],
   "source": [
    "lista1*4"
   ]
  },
  {
   "cell_type": "markdown",
   "metadata": {},
   "source": [
    "Se quisermos somar os elementos de duas listas, ou multiplicá-los por algum número, temos que usar um **laço**, como veremos logo mais!"
   ]
  },
  {
   "cell_type": "markdown",
   "metadata": {},
   "source": [
    "É possível transformar strings em uma **lista de caracteres**:"
   ]
  },
  {
   "cell_type": "code",
   "execution_count": 29,
   "metadata": {
    "ExecuteTime": {
     "end_time": "2021-10-26T00:55:07.486095Z",
     "start_time": "2021-10-26T00:55:07.401139Z"
    }
   },
   "outputs": [
    {
     "data": {
      "text/plain": [
       "['a', 'n', 'd', 'r', 'e', ' ', 'l', 'e', 't', 's', ' ', 'c', 'o', 'd', 'e']"
      ]
     },
     "execution_count": 29,
     "metadata": {},
     "output_type": "execute_result"
    }
   ],
   "source": [
    "list(\"andre lets code\")"
   ]
  },
  {
   "cell_type": "markdown",
   "metadata": {},
   "source": [
    "__________\n",
    "__________\n",
    "__________"
   ]
  },
  {
   "cell_type": "markdown",
   "metadata": {},
   "source": [
    "## 2) Funções de listas"
   ]
  },
  {
   "cell_type": "markdown",
   "metadata": {},
   "source": [
    "Podemos começar com uma lista vazia, e preenchê-la aos poucos.\n",
    "\n",
    "Para **criar uma lista vazia**, fazemos:"
   ]
  },
  {
   "cell_type": "code",
   "execution_count": 30,
   "metadata": {
    "ExecuteTime": {
     "end_time": "2021-10-26T00:55:07.581037Z",
     "start_time": "2021-10-26T00:55:07.492105Z"
    }
   },
   "outputs": [],
   "source": [
    "lista = []\n",
    "# lista = list()"
   ]
  },
  {
   "cell_type": "code",
   "execution_count": 31,
   "metadata": {
    "ExecuteTime": {
     "end_time": "2021-10-26T00:55:07.689344Z",
     "start_time": "2021-10-26T00:55:07.587035Z"
    }
   },
   "outputs": [
    {
     "data": {
      "text/plain": [
       "[]"
      ]
     },
     "execution_count": 31,
     "metadata": {},
     "output_type": "execute_result"
    }
   ],
   "source": [
    "lista"
   ]
  },
  {
   "cell_type": "markdown",
   "metadata": {},
   "source": [
    "Para adicionar um elemento **ao fim da lista**, usamos a função \"append()\".\n",
    "\n",
    "**OBS.: só podemos apendar um único elemento por vez!**"
   ]
  },
  {
   "cell_type": "code",
   "execution_count": 32,
   "metadata": {
    "ExecuteTime": {
     "end_time": "2021-10-26T00:55:07.815273Z",
     "start_time": "2021-10-26T00:55:07.695340Z"
    }
   },
   "outputs": [],
   "source": [
    "# esta é uma operação \"inplace\", ou seja, ALTERA O OBJETO ORIGINAL DIRETO\n",
    "lista.append(42)"
   ]
  },
  {
   "cell_type": "code",
   "execution_count": 33,
   "metadata": {
    "ExecuteTime": {
     "end_time": "2021-10-26T00:55:07.970697Z",
     "start_time": "2021-10-26T00:55:07.820269Z"
    }
   },
   "outputs": [
    {
     "data": {
      "text/plain": [
       "[42]"
      ]
     },
     "execution_count": 33,
     "metadata": {},
     "output_type": "execute_result"
    }
   ],
   "source": [
    "lista"
   ]
  },
  {
   "cell_type": "code",
   "execution_count": 34,
   "metadata": {
    "ExecuteTime": {
     "end_time": "2021-10-26T00:55:08.098607Z",
     "start_time": "2021-10-26T00:55:07.979692Z"
    }
   },
   "outputs": [],
   "source": [
    "lista.append(50)"
   ]
  },
  {
   "cell_type": "code",
   "execution_count": 35,
   "metadata": {
    "ExecuteTime": {
     "end_time": "2021-10-26T00:55:08.255626Z",
     "start_time": "2021-10-26T00:55:08.102606Z"
    }
   },
   "outputs": [
    {
     "data": {
      "text/plain": [
       "[42, 50]"
      ]
     },
     "execution_count": 35,
     "metadata": {},
     "output_type": "execute_result"
    }
   ],
   "source": [
    "lista"
   ]
  },
  {
   "cell_type": "markdown",
   "metadata": {},
   "source": [
    "Se você quiser adicionar um elemento numa **posição específica**, use a função \"insert()\", onde o primeiro argumento é a posição, e o segundo é o elemento:\n",
    "\n",
    "**OBS.: só podemos inserir um único elemento por vez!**"
   ]
  },
  {
   "cell_type": "code",
   "execution_count": 36,
   "metadata": {
    "ExecuteTime": {
     "end_time": "2021-10-26T00:55:08.396562Z",
     "start_time": "2021-10-26T00:55:08.258609Z"
    }
   },
   "outputs": [],
   "source": [
    "lista.insert(1, 4.2)"
   ]
  },
  {
   "cell_type": "code",
   "execution_count": 37,
   "metadata": {
    "ExecuteTime": {
     "end_time": "2021-10-26T00:55:08.524230Z",
     "start_time": "2021-10-26T00:55:08.399561Z"
    }
   },
   "outputs": [
    {
     "data": {
      "text/plain": [
       "[42, 4.2, 50]"
      ]
     },
     "execution_count": 37,
     "metadata": {},
     "output_type": "execute_result"
    }
   ],
   "source": [
    "lista"
   ]
  },
  {
   "cell_type": "code",
   "execution_count": 38,
   "metadata": {
    "ExecuteTime": {
     "end_time": "2021-10-26T00:55:08.633167Z",
     "start_time": "2021-10-26T00:55:08.528227Z"
    }
   },
   "outputs": [],
   "source": [
    "lista.insert(4, \"André\")"
   ]
  },
  {
   "cell_type": "code",
   "execution_count": 39,
   "metadata": {
    "ExecuteTime": {
     "end_time": "2021-10-26T00:55:08.789238Z",
     "start_time": "2021-10-26T00:55:08.643164Z"
    }
   },
   "outputs": [
    {
     "data": {
      "text/plain": [
       "[42, 4.2, 50, 'André']"
      ]
     },
     "execution_count": 39,
     "metadata": {},
     "output_type": "execute_result"
    }
   ],
   "source": [
    "lista"
   ]
  },
  {
   "cell_type": "code",
   "execution_count": 40,
   "metadata": {
    "ExecuteTime": {
     "end_time": "2021-10-26T00:55:08.884205Z",
     "start_time": "2021-10-26T00:55:08.792235Z"
    }
   },
   "outputs": [],
   "source": [
    "lista.insert(-1, \"lets code\")"
   ]
  },
  {
   "cell_type": "code",
   "execution_count": 41,
   "metadata": {
    "ExecuteTime": {
     "end_time": "2021-10-26T00:55:08.992837Z",
     "start_time": "2021-10-26T00:55:08.887202Z"
    }
   },
   "outputs": [
    {
     "data": {
      "text/plain": [
       "[42, 4.2, 50, 'lets code', 'André']"
      ]
     },
     "execution_count": 41,
     "metadata": {},
     "output_type": "execute_result"
    }
   ],
   "source": [
    "lista"
   ]
  },
  {
   "cell_type": "markdown",
   "metadata": {},
   "source": [
    "Podemos, também, **redefinir um elemento da lista individualmente**. Para isso, basta selecionarmos este elemento, e redefiní-lo:"
   ]
  },
  {
   "cell_type": "code",
   "execution_count": 42,
   "metadata": {
    "ExecuteTime": {
     "end_time": "2021-10-26T00:55:09.118279Z",
     "start_time": "2021-10-26T00:55:08.996836Z"
    }
   },
   "outputs": [],
   "source": [
    "lista[3] = \"python!!\""
   ]
  },
  {
   "cell_type": "code",
   "execution_count": 43,
   "metadata": {
    "ExecuteTime": {
     "end_time": "2021-10-26T00:55:09.246238Z",
     "start_time": "2021-10-26T00:55:09.120273Z"
    }
   },
   "outputs": [
    {
     "data": {
      "text/plain": [
       "[42, 4.2, 50, 'python!!', 'André']"
      ]
     },
     "execution_count": 43,
     "metadata": {},
     "output_type": "execute_result"
    }
   ],
   "source": [
    "lista"
   ]
  },
  {
   "cell_type": "code",
   "execution_count": 44,
   "metadata": {
    "ExecuteTime": {
     "end_time": "2021-10-26T00:55:09.341052Z",
     "start_time": "2021-10-26T00:55:09.251221Z"
    }
   },
   "outputs": [],
   "source": [
    "lista[2] = lista[2] + 4"
   ]
  },
  {
   "cell_type": "code",
   "execution_count": 45,
   "metadata": {
    "ExecuteTime": {
     "end_time": "2021-10-26T00:55:09.449801Z",
     "start_time": "2021-10-26T00:55:09.343055Z"
    }
   },
   "outputs": [
    {
     "data": {
      "text/plain": [
       "[42, 4.2, 54, 'python!!', 'André']"
      ]
     },
     "execution_count": 45,
     "metadata": {},
     "output_type": "execute_result"
    }
   ],
   "source": [
    "lista"
   ]
  },
  {
   "cell_type": "code",
   "execution_count": 46,
   "metadata": {
    "ExecuteTime": {
     "end_time": "2021-10-26T00:55:09.559299Z",
     "start_time": "2021-10-26T00:55:09.453797Z"
    }
   },
   "outputs": [],
   "source": [
    "lista[0] = lista[1] + lista[2]"
   ]
  },
  {
   "cell_type": "code",
   "execution_count": 47,
   "metadata": {
    "ExecuteTime": {
     "end_time": "2021-10-26T00:55:09.655251Z",
     "start_time": "2021-10-26T00:55:09.571298Z"
    }
   },
   "outputs": [
    {
     "data": {
      "text/plain": [
       "[58.2, 4.2, 54, 'python!!', 'André']"
      ]
     },
     "execution_count": 47,
     "metadata": {},
     "output_type": "execute_result"
    }
   ],
   "source": [
    "lista"
   ]
  },
  {
   "cell_type": "markdown",
   "metadata": {},
   "source": [
    "Para **remover um elemento da lista**, use a função \"remove()\". \n",
    "\n",
    "**OBS.: Essa função remove apenas a primeira aparição do elemento**"
   ]
  },
  {
   "cell_type": "code",
   "execution_count": 48,
   "metadata": {
    "ExecuteTime": {
     "end_time": "2021-10-26T00:55:09.765809Z",
     "start_time": "2021-10-26T00:55:09.657250Z"
    }
   },
   "outputs": [],
   "source": [
    "lista.remove(54)"
   ]
  },
  {
   "cell_type": "code",
   "execution_count": 49,
   "metadata": {
    "ExecuteTime": {
     "end_time": "2021-10-26T00:55:09.905920Z",
     "start_time": "2021-10-26T00:55:09.773354Z"
    }
   },
   "outputs": [
    {
     "data": {
      "text/plain": [
       "[58.2, 4.2, 'python!!', 'André']"
      ]
     },
     "execution_count": 49,
     "metadata": {},
     "output_type": "execute_result"
    }
   ],
   "source": [
    "lista"
   ]
  },
  {
   "cell_type": "code",
   "execution_count": 50,
   "metadata": {
    "ExecuteTime": {
     "end_time": "2021-10-26T00:55:10.044840Z",
     "start_time": "2021-10-26T00:55:09.912919Z"
    }
   },
   "outputs": [],
   "source": [
    "lista2 = [1, 2, 3, 4, 3, 5, 6]"
   ]
  },
  {
   "cell_type": "code",
   "execution_count": 51,
   "metadata": {
    "ExecuteTime": {
     "end_time": "2021-10-26T00:55:10.153772Z",
     "start_time": "2021-10-26T00:55:10.049840Z"
    }
   },
   "outputs": [],
   "source": [
    "lista2.remove(3)"
   ]
  },
  {
   "cell_type": "code",
   "execution_count": 52,
   "metadata": {
    "ExecuteTime": {
     "end_time": "2021-10-26T00:55:10.263711Z",
     "start_time": "2021-10-26T00:55:10.158768Z"
    }
   },
   "outputs": [
    {
     "data": {
      "text/plain": [
       "[1, 2, 4, 3, 5, 6]"
      ]
     },
     "execution_count": 52,
     "metadata": {},
     "output_type": "execute_result"
    }
   ],
   "source": [
    "lista2"
   ]
  },
  {
   "cell_type": "markdown",
   "metadata": {},
   "source": [
    "Se você quiser remover um elemento de determinado índice, use a função \"pop()\":"
   ]
  },
  {
   "cell_type": "code",
   "execution_count": 53,
   "metadata": {
    "ExecuteTime": {
     "end_time": "2021-10-26T00:55:10.374536Z",
     "start_time": "2021-10-26T00:55:10.266708Z"
    }
   },
   "outputs": [
    {
     "data": {
      "text/plain": [
       "'python!!'"
      ]
     },
     "execution_count": 53,
     "metadata": {},
     "output_type": "execute_result"
    }
   ],
   "source": [
    "lista.pop(2)"
   ]
  },
  {
   "cell_type": "code",
   "execution_count": 54,
   "metadata": {
    "ExecuteTime": {
     "end_time": "2021-10-26T00:55:10.481501Z",
     "start_time": "2021-10-26T00:55:10.385525Z"
    }
   },
   "outputs": [
    {
     "data": {
      "text/plain": [
       "[58.2, 4.2, 'André']"
      ]
     },
     "execution_count": 54,
     "metadata": {},
     "output_type": "execute_result"
    }
   ],
   "source": [
    "lista"
   ]
  },
  {
   "cell_type": "code",
   "execution_count": 55,
   "metadata": {
    "ExecuteTime": {
     "end_time": "2021-10-26T00:55:10.588957Z",
     "start_time": "2021-10-26T00:55:10.486498Z"
    }
   },
   "outputs": [
    {
     "data": {
      "text/plain": [
       "[58.2, 4.2, 'André']"
      ]
     },
     "execution_count": 55,
     "metadata": {},
     "output_type": "execute_result"
    }
   ],
   "source": [
    "lista"
   ]
  },
  {
   "cell_type": "code",
   "execution_count": 56,
   "metadata": {
    "ExecuteTime": {
     "end_time": "2021-10-26T00:55:10.711887Z",
     "start_time": "2021-10-26T00:55:10.595957Z"
    }
   },
   "outputs": [],
   "source": [
    "# usando o fato do \"pop\" retornar um elemento removido da lista\n",
    "cache = lista.pop(1)"
   ]
  },
  {
   "cell_type": "code",
   "execution_count": 57,
   "metadata": {
    "ExecuteTime": {
     "end_time": "2021-10-26T00:55:10.789871Z",
     "start_time": "2021-10-26T00:55:10.718884Z"
    }
   },
   "outputs": [
    {
     "data": {
      "text/plain": [
       "4.2"
      ]
     },
     "execution_count": 57,
     "metadata": {},
     "output_type": "execute_result"
    }
   ],
   "source": [
    "cache"
   ]
  },
  {
   "cell_type": "code",
   "execution_count": 58,
   "metadata": {
    "ExecuteTime": {
     "end_time": "2021-10-26T00:55:10.913833Z",
     "start_time": "2021-10-26T00:55:10.799851Z"
    }
   },
   "outputs": [
    {
     "data": {
      "text/plain": [
       "[58.2, 'André']"
      ]
     },
     "execution_count": 58,
     "metadata": {},
     "output_type": "execute_result"
    }
   ],
   "source": [
    "lista"
   ]
  },
  {
   "cell_type": "code",
   "execution_count": 59,
   "metadata": {
    "ExecuteTime": {
     "end_time": "2021-10-26T00:55:11.068698Z",
     "start_time": "2021-10-26T00:55:10.919783Z"
    }
   },
   "outputs": [],
   "source": [
    "lista.insert(1, cache)"
   ]
  },
  {
   "cell_type": "code",
   "execution_count": 60,
   "metadata": {
    "ExecuteTime": {
     "end_time": "2021-10-26T00:55:11.257636Z",
     "start_time": "2021-10-26T00:55:11.072695Z"
    }
   },
   "outputs": [
    {
     "data": {
      "text/plain": [
       "[58.2, 4.2, 'André']"
      ]
     },
     "execution_count": 60,
     "metadata": {},
     "output_type": "execute_result"
    }
   ],
   "source": [
    "lista"
   ]
  },
  {
   "cell_type": "markdown",
   "metadata": {},
   "source": [
    "Muitas vezes é interessante **ordenar a lista**. Pra fazer isso, usamos a função \"sorted\".\n",
    "\n",
    "**OBS: essa função só funciona para listas com o mesmo tipo de dado!**"
   ]
  },
  {
   "cell_type": "code",
   "execution_count": 61,
   "metadata": {
    "ExecuteTime": {
     "end_time": "2021-10-26T00:55:11.960270Z",
     "start_time": "2021-10-26T00:55:11.271624Z"
    }
   },
   "outputs": [
    {
     "ename": "TypeError",
     "evalue": "'<' not supported between instances of 'str' and 'float'",
     "output_type": "error",
     "traceback": [
      "\u001b[1;31m---------------------------------------------------------------------------\u001b[0m",
      "\u001b[1;31mTypeError\u001b[0m                                 Traceback (most recent call last)",
      "\u001b[1;32m<ipython-input-61-11f0d8176bd6>\u001b[0m in \u001b[0;36m<module>\u001b[1;34m\u001b[0m\n\u001b[1;32m----> 1\u001b[1;33m \u001b[1;34m\"André\"\u001b[0m \u001b[1;33m<\u001b[0m \u001b[1;36m4.2\u001b[0m\u001b[1;33m\u001b[0m\u001b[1;33m\u001b[0m\u001b[0m\n\u001b[0m",
      "\u001b[1;31mTypeError\u001b[0m: '<' not supported between instances of 'str' and 'float'"
     ]
    }
   ],
   "source": [
    "\"André\" < 4.2"
   ]
  },
  {
   "cell_type": "code",
   "execution_count": 62,
   "metadata": {
    "ExecuteTime": {
     "end_time": "2021-10-26T00:55:21.316946Z",
     "start_time": "2021-10-26T00:55:21.292960Z"
    }
   },
   "outputs": [
    {
     "ename": "TypeError",
     "evalue": "'<' not supported between instances of 'str' and 'float'",
     "output_type": "error",
     "traceback": [
      "\u001b[1;31m---------------------------------------------------------------------------\u001b[0m",
      "\u001b[1;31mTypeError\u001b[0m                                 Traceback (most recent call last)",
      "\u001b[1;32m<ipython-input-62-06c3f264dc7a>\u001b[0m in \u001b[0;36m<module>\u001b[1;34m\u001b[0m\n\u001b[1;32m----> 1\u001b[1;33m \u001b[0msorted\u001b[0m\u001b[1;33m(\u001b[0m\u001b[0mlista\u001b[0m\u001b[1;33m)\u001b[0m\u001b[1;33m\u001b[0m\u001b[1;33m\u001b[0m\u001b[0m\n\u001b[0m",
      "\u001b[1;31mTypeError\u001b[0m: '<' not supported between instances of 'str' and 'float'"
     ]
    }
   ],
   "source": [
    "sorted(lista)"
   ]
  },
  {
   "cell_type": "code",
   "execution_count": 63,
   "metadata": {
    "ExecuteTime": {
     "end_time": "2021-10-26T00:55:21.659311Z",
     "start_time": "2021-10-26T00:55:21.638323Z"
    }
   },
   "outputs": [
    {
     "data": {
      "text/plain": [
       "[-1135, -56, 23, 42, 53.2456]"
      ]
     },
     "execution_count": 63,
     "metadata": {},
     "output_type": "execute_result"
    }
   ],
   "source": [
    "lista_num = [23, 42, 53.2456, -56, -1135]\n",
    "\n",
    "# o sorted() não é inplace!!\n",
    "lista_num = sorted(lista_num)\n",
    "\n",
    "lista_num"
   ]
  },
  {
   "cell_type": "code",
   "execution_count": 64,
   "metadata": {
    "ExecuteTime": {
     "end_time": "2021-10-26T00:55:21.910809Z",
     "start_time": "2021-10-26T00:55:21.889706Z"
    }
   },
   "outputs": [
    {
     "data": {
      "text/plain": [
       "['1514sdf', 'abacate', 'abacaxi', 'andre', 'lets code']"
      ]
     },
     "execution_count": 64,
     "metadata": {},
     "output_type": "execute_result"
    }
   ],
   "source": [
    "lista_str = [\"andre\", \"abacate\", \"abacaxi\", \"lets code\", \"1514sdf\"]\n",
    "\n",
    "# o sorted() não é inplace!!\n",
    "lista_str = sorted(lista_str)\n",
    "\n",
    "lista_str"
   ]
  },
  {
   "cell_type": "markdown",
   "metadata": {},
   "source": [
    "Para **inverter a ordem dos elementos**, adicione ao final da lista [::-1]:"
   ]
  },
  {
   "cell_type": "code",
   "execution_count": 65,
   "metadata": {
    "ExecuteTime": {
     "end_time": "2021-10-26T00:55:22.926366Z",
     "start_time": "2021-10-26T00:55:22.905379Z"
    }
   },
   "outputs": [
    {
     "data": {
      "text/plain": [
       "[58.2, 4.2, 'André']"
      ]
     },
     "execution_count": 65,
     "metadata": {},
     "output_type": "execute_result"
    }
   ],
   "source": [
    "lista"
   ]
  },
  {
   "cell_type": "code",
   "execution_count": 66,
   "metadata": {
    "ExecuteTime": {
     "end_time": "2021-10-26T00:55:23.125252Z",
     "start_time": "2021-10-26T00:55:23.109263Z"
    }
   },
   "outputs": [
    {
     "data": {
      "text/plain": [
       "['André', 4.2, 58.2]"
      ]
     },
     "execution_count": 66,
     "metadata": {},
     "output_type": "execute_result"
    }
   ],
   "source": [
    "lista[::-1]"
   ]
  },
  {
   "cell_type": "markdown",
   "metadata": {},
   "source": [
    "Isso pode ser usado para ordenar uma lista na ordem inversa (maior pro menor):"
   ]
  },
  {
   "cell_type": "code",
   "execution_count": 67,
   "metadata": {
    "ExecuteTime": {
     "end_time": "2021-10-26T00:55:23.389101Z",
     "start_time": "2021-10-26T00:55:23.376112Z"
    }
   },
   "outputs": [
    {
     "data": {
      "text/plain": [
       "[-1135, -56, 23, 42, 53.2456]"
      ]
     },
     "execution_count": 67,
     "metadata": {},
     "output_type": "execute_result"
    }
   ],
   "source": [
    "lista_num"
   ]
  },
  {
   "cell_type": "code",
   "execution_count": 68,
   "metadata": {
    "ExecuteTime": {
     "end_time": "2021-10-26T00:55:23.593989Z",
     "start_time": "2021-10-26T00:55:23.578995Z"
    }
   },
   "outputs": [
    {
     "data": {
      "text/plain": [
       "[53.2456, 42, 23, -56, -1135]"
      ]
     },
     "execution_count": 68,
     "metadata": {},
     "output_type": "execute_result"
    }
   ],
   "source": [
    "lista_num[::-1]"
   ]
  },
  {
   "cell_type": "markdown",
   "metadata": {},
   "source": [
    "O que isso quer dizer??"
   ]
  },
  {
   "cell_type": "code",
   "execution_count": 69,
   "metadata": {
    "ExecuteTime": {
     "end_time": "2021-10-26T00:55:23.936244Z",
     "start_time": "2021-10-26T00:55:23.921253Z"
    }
   },
   "outputs": [
    {
     "data": {
      "text/plain": [
       "[-1135, -56, 23, 42, 53.2456]"
      ]
     },
     "execution_count": 69,
     "metadata": {},
     "output_type": "execute_result"
    }
   ],
   "source": [
    "lista_num"
   ]
  },
  {
   "cell_type": "code",
   "execution_count": 70,
   "metadata": {
    "ExecuteTime": {
     "end_time": "2021-10-26T00:55:24.156626Z",
     "start_time": "2021-10-26T00:55:24.137635Z"
    }
   },
   "outputs": [
    {
     "data": {
      "text/plain": [
       "[-56, 23, 42, 53.2456]"
      ]
     },
     "execution_count": 70,
     "metadata": {},
     "output_type": "execute_result"
    }
   ],
   "source": [
    "lista_num[1:]"
   ]
  },
  {
   "cell_type": "code",
   "execution_count": 71,
   "metadata": {
    "ExecuteTime": {
     "end_time": "2021-10-26T00:55:24.265561Z",
     "start_time": "2021-10-26T00:55:24.243577Z"
    }
   },
   "outputs": [
    {
     "data": {
      "text/plain": [
       "[-1135, -56]"
      ]
     },
     "execution_count": 71,
     "metadata": {},
     "output_type": "execute_result"
    }
   ],
   "source": [
    "lista_num[:2]"
   ]
  },
  {
   "cell_type": "code",
   "execution_count": 72,
   "metadata": {
    "ExecuteTime": {
     "end_time": "2021-10-26T00:55:24.435475Z",
     "start_time": "2021-10-26T00:55:24.422475Z"
    }
   },
   "outputs": [
    {
     "data": {
      "text/plain": [
       "[-1135, -56, 23, 42, 53.2456]"
      ]
     },
     "execution_count": 72,
     "metadata": {},
     "output_type": "execute_result"
    }
   ],
   "source": [
    "# isso faz um slice do primerio até o ultimo elemento (ou seja, nao faz nada)\n",
    "lista_num[:]"
   ]
  },
  {
   "cell_type": "code",
   "execution_count": 73,
   "metadata": {
    "ExecuteTime": {
     "end_time": "2021-10-26T00:55:24.622567Z",
     "start_time": "2021-10-26T00:55:24.600105Z"
    }
   },
   "outputs": [
    {
     "data": {
      "text/plain": [
       "[-1135, -56, 23, 42, 53.2456]"
      ]
     },
     "execution_count": 73,
     "metadata": {},
     "output_type": "execute_result"
    }
   ],
   "source": [
    "lista_num.copy()"
   ]
  },
  {
   "cell_type": "code",
   "execution_count": 74,
   "metadata": {
    "ExecuteTime": {
     "end_time": "2021-10-26T00:55:24.793983Z",
     "start_time": "2021-10-26T00:55:24.784000Z"
    }
   },
   "outputs": [
    {
     "data": {
      "text/plain": [
       "[-1135, -56, 23, 42, 53.2456]"
      ]
     },
     "execution_count": 74,
     "metadata": {},
     "output_type": "execute_result"
    }
   ],
   "source": [
    "lista_num"
   ]
  },
  {
   "cell_type": "code",
   "execution_count": 75,
   "metadata": {
    "ExecuteTime": {
     "end_time": "2021-10-26T00:55:25.010860Z",
     "start_time": "2021-10-26T00:55:24.990870Z"
    }
   },
   "outputs": [
    {
     "data": {
      "text/plain": [
       "[-56, 23, 42, 53.2456]"
      ]
     },
     "execution_count": 75,
     "metadata": {},
     "output_type": "execute_result"
    }
   ],
   "source": [
    "lista_num[1:5]"
   ]
  },
  {
   "cell_type": "code",
   "execution_count": 76,
   "metadata": {
    "ExecuteTime": {
     "end_time": "2021-10-26T00:55:25.228732Z",
     "start_time": "2021-10-26T00:55:25.213747Z"
    }
   },
   "outputs": [
    {
     "data": {
      "text/plain": [
       "[-56, 42]"
      ]
     },
     "execution_count": 76,
     "metadata": {},
     "output_type": "execute_result"
    }
   ],
   "source": [
    "# sintaxe completa do slicing: [indice_do_começo : indice_do_fim(ABERTO!) : passo]\n",
    "lista_num[1:5:2]"
   ]
  },
  {
   "cell_type": "code",
   "execution_count": 77,
   "metadata": {
    "ExecuteTime": {
     "end_time": "2021-10-26T00:55:25.440804Z",
     "start_time": "2021-10-26T00:55:25.422814Z"
    }
   },
   "outputs": [
    {
     "data": {
      "text/plain": [
       "[-1135, -56, 23, 42, 53.2456]"
      ]
     },
     "execution_count": 77,
     "metadata": {},
     "output_type": "execute_result"
    }
   ],
   "source": [
    "lista_num[:]"
   ]
  },
  {
   "cell_type": "code",
   "execution_count": 78,
   "metadata": {
    "ExecuteTime": {
     "end_time": "2021-10-26T00:55:25.672671Z",
     "start_time": "2021-10-26T00:55:25.656680Z"
    }
   },
   "outputs": [
    {
     "data": {
      "text/plain": [
       "[-1135, 23, 53.2456]"
      ]
     },
     "execution_count": 78,
     "metadata": {},
     "output_type": "execute_result"
    }
   ],
   "source": [
    "lista_num[::2]"
   ]
  },
  {
   "cell_type": "code",
   "execution_count": 79,
   "metadata": {
    "ExecuteTime": {
     "end_time": "2021-10-26T00:55:25.857565Z",
     "start_time": "2021-10-26T00:55:25.833580Z"
    }
   },
   "outputs": [
    {
     "data": {
      "text/plain": [
       "[-56, 42]"
      ]
     },
     "execution_count": 79,
     "metadata": {},
     "output_type": "execute_result"
    }
   ],
   "source": [
    "lista_num[1::2]"
   ]
  },
  {
   "cell_type": "code",
   "execution_count": 80,
   "metadata": {
    "ExecuteTime": {
     "end_time": "2021-10-26T00:55:26.120964Z",
     "start_time": "2021-10-26T00:55:26.102942Z"
    }
   },
   "outputs": [
    {
     "data": {
      "text/plain": [
       "[-1135, -56, 23, 42, 53.2456]"
      ]
     },
     "execution_count": 80,
     "metadata": {},
     "output_type": "execute_result"
    }
   ],
   "source": [
    "lista_num"
   ]
  },
  {
   "cell_type": "code",
   "execution_count": 81,
   "metadata": {
    "ExecuteTime": {
     "end_time": "2021-10-26T00:55:26.308860Z",
     "start_time": "2021-10-26T00:55:26.287870Z"
    }
   },
   "outputs": [
    {
     "data": {
      "text/plain": [
       "[53.2456, 42, 23, -56, -1135]"
      ]
     },
     "execution_count": 81,
     "metadata": {},
     "output_type": "execute_result"
    }
   ],
   "source": [
    "# agora finalmente entendemos.. esse \"-1\" é um passo negativo \n",
    "# (retorna uma lista com os elementos de trás frente)\n",
    "lista_num[::-1]"
   ]
  },
  {
   "cell_type": "markdown",
   "metadata": {},
   "source": [
    "Mas, se o objetivo é apenas ordenar a lista de maneira DECRESCENTE, é mais simples"
   ]
  },
  {
   "cell_type": "code",
   "execution_count": 82,
   "metadata": {
    "ExecuteTime": {
     "end_time": "2021-10-26T00:55:26.634181Z",
     "start_time": "2021-10-26T00:55:26.616190Z"
    }
   },
   "outputs": [
    {
     "data": {
      "text/plain": [
       "[23568, 245, 79, 57, 45, 23, 4, 1]"
      ]
     },
     "execution_count": 82,
     "metadata": {},
     "output_type": "execute_result"
    }
   ],
   "source": [
    "lista_2 = [45, 23, 57, 79, 245, 23568, 1, 4]\n",
    "\n",
    "sorted(lista_2, reverse=True)"
   ]
  },
  {
   "cell_type": "code",
   "execution_count": 83,
   "metadata": {
    "ExecuteTime": {
     "end_time": "2021-10-26T00:55:26.835066Z",
     "start_time": "2021-10-26T00:55:26.813078Z"
    }
   },
   "outputs": [
    {
     "data": {
      "text/plain": [
       "[23568, 245, 79, 57, 45, 23, 4, 1]"
      ]
     },
     "execution_count": 83,
     "metadata": {},
     "output_type": "execute_result"
    }
   ],
   "source": [
    "sorted(lista_2, reverse=False)[::-1]"
   ]
  },
  {
   "cell_type": "markdown",
   "metadata": {},
   "source": [
    "Se quisermos saber **qual é a posição (índice) de determinado elemento**, usamos o método \".index()\".\n",
    "\n",
    "Este método retorna apenas a **primeira aparição** do elemento:"
   ]
  },
  {
   "cell_type": "code",
   "execution_count": 84,
   "metadata": {
    "ExecuteTime": {
     "end_time": "2021-10-26T00:55:27.178398Z",
     "start_time": "2021-10-26T00:55:27.163402Z"
    }
   },
   "outputs": [
    {
     "data": {
      "text/plain": [
       "[58.2, 4.2, 'André']"
      ]
     },
     "execution_count": 84,
     "metadata": {},
     "output_type": "execute_result"
    }
   ],
   "source": [
    "lista"
   ]
  },
  {
   "cell_type": "code",
   "execution_count": 85,
   "metadata": {
    "ExecuteTime": {
     "end_time": "2021-10-26T00:55:27.366286Z",
     "start_time": "2021-10-26T00:55:27.355296Z"
    }
   },
   "outputs": [
    {
     "data": {
      "text/plain": [
       "1"
      ]
     },
     "execution_count": 85,
     "metadata": {},
     "output_type": "execute_result"
    }
   ],
   "source": [
    "lista.index(4.2)"
   ]
  },
  {
   "cell_type": "code",
   "execution_count": 86,
   "metadata": {
    "ExecuteTime": {
     "end_time": "2021-10-26T00:55:27.520196Z",
     "start_time": "2021-10-26T00:55:27.506206Z"
    }
   },
   "outputs": [
    {
     "data": {
      "text/plain": [
       "2"
      ]
     },
     "execution_count": 86,
     "metadata": {},
     "output_type": "execute_result"
    }
   ],
   "source": [
    "lista.index(\"André\")"
   ]
  },
  {
   "cell_type": "code",
   "execution_count": 87,
   "metadata": {
    "ExecuteTime": {
     "end_time": "2021-10-26T00:55:29.812295Z",
     "start_time": "2021-10-26T00:55:29.796303Z"
    }
   },
   "outputs": [],
   "source": [
    "notas = [8, 5, 9, 7, 8, 8, 6, 7.5, 3.2, 10, 10]"
   ]
  },
  {
   "cell_type": "code",
   "execution_count": 88,
   "metadata": {
    "ExecuteTime": {
     "end_time": "2021-10-26T00:55:30.016640Z",
     "start_time": "2021-10-26T00:55:29.995656Z"
    }
   },
   "outputs": [
    {
     "data": {
      "text/plain": [
       "9"
      ]
     },
     "execution_count": 88,
     "metadata": {},
     "output_type": "execute_result"
    }
   ],
   "source": [
    "notas.index(10)"
   ]
  },
  {
   "cell_type": "markdown",
   "metadata": {},
   "source": [
    "Por fim, podemos encontrar algumas **propriedades dos elementos da lista:**"
   ]
  },
  {
   "cell_type": "markdown",
   "metadata": {},
   "source": [
    "Para encontrar o maior elemento, use \"max()\":"
   ]
  },
  {
   "cell_type": "code",
   "execution_count": 89,
   "metadata": {
    "ExecuteTime": {
     "end_time": "2021-10-26T00:55:30.566419Z",
     "start_time": "2021-10-26T00:55:30.545431Z"
    }
   },
   "outputs": [
    {
     "data": {
      "text/plain": [
       "10"
      ]
     },
     "execution_count": 89,
     "metadata": {},
     "output_type": "execute_result"
    }
   ],
   "source": [
    "max(notas)"
   ]
  },
  {
   "cell_type": "code",
   "execution_count": 90,
   "metadata": {
    "ExecuteTime": {
     "end_time": "2021-10-26T00:55:30.756092Z",
     "start_time": "2021-10-26T00:55:30.739103Z"
    }
   },
   "outputs": [
    {
     "data": {
      "text/plain": [
       "[3.2, 5, 6, 7, 7.5, 8, 8, 8, 9, 10, 10]"
      ]
     },
     "execution_count": 90,
     "metadata": {},
     "output_type": "execute_result"
    }
   ],
   "source": [
    "sorted(notas)"
   ]
  },
  {
   "cell_type": "code",
   "execution_count": 91,
   "metadata": {
    "ExecuteTime": {
     "end_time": "2021-10-26T00:55:30.927994Z",
     "start_time": "2021-10-26T00:55:30.917004Z"
    }
   },
   "outputs": [
    {
     "data": {
      "text/plain": [
       "[3.2, 5, 6, 7, 7.5, 8, 9, 10]"
      ]
     },
     "execution_count": 91,
     "metadata": {},
     "output_type": "execute_result"
    }
   ],
   "source": [
    "# pegar uma lista qualquer, ordenar (crescente) e eliminar duplicatas\n",
    "sorted(list(set(notas)))"
   ]
  },
  {
   "cell_type": "code",
   "execution_count": 92,
   "metadata": {
    "ExecuteTime": {
     "end_time": "2021-10-26T00:55:31.035737Z",
     "start_time": "2021-10-26T00:55:31.026742Z"
    }
   },
   "outputs": [],
   "source": [
    "def n_esimo_maior(ll, n):\n",
    "    '''\n",
    "    retorna o n-ésimo maior elemento de uma lista\n",
    "    '''\n",
    "    \n",
    "    return sorted(list(set(ll)))[-n]"
   ]
  },
  {
   "cell_type": "code",
   "execution_count": 93,
   "metadata": {
    "ExecuteTime": {
     "end_time": "2021-10-26T00:55:31.221631Z",
     "start_time": "2021-10-26T00:55:31.205640Z"
    }
   },
   "outputs": [
    {
     "data": {
      "text/plain": [
       "8"
      ]
     },
     "execution_count": 93,
     "metadata": {},
     "output_type": "execute_result"
    }
   ],
   "source": [
    "n_esimo_maior(notas, 3)"
   ]
  },
  {
   "cell_type": "markdown",
   "metadata": {},
   "source": [
    "Para encontrar o menor elemento, use \"min()\":"
   ]
  },
  {
   "cell_type": "code",
   "execution_count": 94,
   "metadata": {
    "ExecuteTime": {
     "end_time": "2021-10-26T00:55:31.645466Z",
     "start_time": "2021-10-26T00:55:31.626477Z"
    }
   },
   "outputs": [
    {
     "data": {
      "text/plain": [
       "3.2"
      ]
     },
     "execution_count": 94,
     "metadata": {},
     "output_type": "execute_result"
    }
   ],
   "source": [
    "min(notas)"
   ]
  },
  {
   "cell_type": "markdown",
   "metadata": {},
   "source": [
    "Para encontrar o número de elementos (ou seja, qual é o \"tamanho\" da lista), use \"len()\":"
   ]
  },
  {
   "cell_type": "code",
   "execution_count": 95,
   "metadata": {
    "ExecuteTime": {
     "end_time": "2021-10-26T00:55:31.850351Z",
     "start_time": "2021-10-26T00:55:31.841355Z"
    }
   },
   "outputs": [
    {
     "data": {
      "text/plain": [
       "11"
      ]
     },
     "execution_count": 95,
     "metadata": {},
     "output_type": "execute_result"
    }
   ],
   "source": [
    "len(notas)"
   ]
  },
  {
   "cell_type": "markdown",
   "metadata": {},
   "source": [
    "Para somar os elementos da lista, use \"sum()\":"
   ]
  },
  {
   "cell_type": "code",
   "execution_count": 96,
   "metadata": {
    "ExecuteTime": {
     "end_time": "2021-10-26T00:55:32.197325Z",
     "start_time": "2021-10-26T00:55:32.185334Z"
    }
   },
   "outputs": [
    {
     "data": {
      "text/plain": [
       "81.7"
      ]
     },
     "execution_count": 96,
     "metadata": {},
     "output_type": "execute_result"
    }
   ],
   "source": [
    "sum(notas)"
   ]
  },
  {
   "cell_type": "markdown",
   "metadata": {},
   "source": [
    "Agora fica bem fácil encontrar a média dos números em uma lista:"
   ]
  },
  {
   "cell_type": "code",
   "execution_count": 97,
   "metadata": {
    "ExecuteTime": {
     "end_time": "2021-10-26T00:55:32.524140Z",
     "start_time": "2021-10-26T00:55:32.503154Z"
    }
   },
   "outputs": [
    {
     "data": {
      "text/plain": [
       "[8, 5, 9, 7, 8, 8, 6, 7.5, 3.2, 10, 10]"
      ]
     },
     "execution_count": 97,
     "metadata": {},
     "output_type": "execute_result"
    }
   ],
   "source": [
    "notas"
   ]
  },
  {
   "cell_type": "code",
   "execution_count": 98,
   "metadata": {
    "ExecuteTime": {
     "end_time": "2021-10-26T00:55:32.723537Z",
     "start_time": "2021-10-26T00:55:32.715543Z"
    }
   },
   "outputs": [
    {
     "data": {
      "text/plain": [
       "7.427272727272728"
      ]
     },
     "execution_count": 98,
     "metadata": {},
     "output_type": "execute_result"
    }
   ],
   "source": [
    "media = sum(notas)/len(notas)\n",
    "\n",
    "media"
   ]
  },
  {
   "cell_type": "markdown",
   "metadata": {},
   "source": [
    "__Um exemplo para o cálculo de média dos valores em uma lista...__\n",
    "\n",
    "Mas fazemos o usuário digitar os elementos da lista, um a um!"
   ]
  },
  {
   "cell_type": "code",
   "execution_count": 100,
   "metadata": {
    "ExecuteTime": {
     "end_time": "2021-10-26T00:55:45.760661Z",
     "start_time": "2021-10-26T00:55:39.697210Z"
    }
   },
   "outputs": [
    {
     "name": "stdout",
     "output_type": "stream",
     "text": [
      "Quantas atividades você fez? 2\n",
      "\n",
      "\n",
      "Digite a 1a nota: 9\n",
      "Digite a 2a nota: 8\n",
      "\n",
      "A sua média é 8.50\n"
     ]
    }
   ],
   "source": [
    "qtd_notas = int(input(\"Quantas atividades você fez? \"))\n",
    "\n",
    "lista_notas = []\n",
    "\n",
    "cont = 1\n",
    "\n",
    "print(\"\\n\")\n",
    "while cont <= qtd_notas:\n",
    "    \n",
    "    nota_digitada = float(input(f\"Digite a {cont}a nota: \"))\n",
    "    \n",
    "    lista_notas.append(nota_digitada)\n",
    "    \n",
    "    cont = cont + 1\n",
    "    \n",
    "    \n",
    "# cont = 0\n",
    "\n",
    "# while cont < qtd_notas:\n",
    "    \n",
    "#     nota_digitada = float(input(f\"Digite a {cont+1}a nota: \"))\n",
    "    \n",
    "#     lista_notas.append(nota_digitada)\n",
    "    \n",
    "#     cont = cont + 1\n",
    "    \n",
    "    \n",
    "media = sum(lista_notas)/len(lista_notas)\n",
    "\n",
    "print(f\"\\nA sua média é {media:.2f}\")"
   ]
  },
  {
   "cell_type": "markdown",
   "metadata": {},
   "source": [
    "__________\n",
    "__________\n",
    "__________"
   ]
  },
  {
   "cell_type": "markdown",
   "metadata": {},
   "source": [
    "## 3) Laços de repetição (for)\n",
    "\n",
    "Na última aula, vimos como usar o laço de repetição \"while\" para repetir operações em Python\n",
    "\n",
    "Agora, veremos um outro laço, o **for**\n",
    "\n",
    "Mas, antes de vermos como este laço pode ser utilizado para **repetir operações**, é interessante entender o `for` como sendo, na realidade, um operador utilizado para **percorrer elementos de uma lista** (na verdade, de qualquer objeto **iterável**. Conheceremos outros objetos assim mais pra frente...)\n",
    "\n",
    "A estrutura do for é:\n",
    "\n",
    "```python\n",
    "for item in lista:\n",
    "    operacao_feita_pra_cada_item\n",
    "```"
   ]
  },
  {
   "cell_type": "code",
   "execution_count": 101,
   "metadata": {
    "ExecuteTime": {
     "end_time": "2021-10-26T00:55:47.977443Z",
     "start_time": "2021-10-26T00:55:47.958452Z"
    }
   },
   "outputs": [
    {
     "name": "stdout",
     "output_type": "stream",
     "text": [
      "a\n",
      "b\n",
      "c\n",
      "d\n"
     ]
    }
   ],
   "source": [
    "lista = [\"a\", \"b\", \"c\", \"d\"]\n",
    "\n",
    "for item in lista:\n",
    "    \n",
    "    print(item)"
   ]
  },
  {
   "cell_type": "markdown",
   "metadata": {},
   "source": [
    "O código acima é equivalente a:"
   ]
  },
  {
   "cell_type": "code",
   "execution_count": 102,
   "metadata": {
    "ExecuteTime": {
     "end_time": "2021-10-26T00:55:48.735570Z",
     "start_time": "2021-10-26T00:55:48.720578Z"
    }
   },
   "outputs": [
    {
     "name": "stdout",
     "output_type": "stream",
     "text": [
      "a\n",
      "b\n",
      "c\n",
      "d\n"
     ]
    }
   ],
   "source": [
    "item = lista[0]\n",
    "print(item)\n",
    "\n",
    "item = lista[1]\n",
    "print(item)\n",
    "\n",
    "item = lista[2]\n",
    "print(item)\n",
    "\n",
    "item = lista[3]\n",
    "print(item)"
   ]
  },
  {
   "cell_type": "markdown",
   "metadata": {},
   "source": [
    "__Um exemplo de uso...__\n",
    "\n",
    "Separando números positivos e negativos de uma lista de números"
   ]
  },
  {
   "cell_type": "code",
   "execution_count": 103,
   "metadata": {
    "ExecuteTime": {
     "end_time": "2021-10-26T00:55:49.204395Z",
     "start_time": "2021-10-26T00:55:49.179410Z"
    }
   },
   "outputs": [
    {
     "name": "stdout",
     "output_type": "stream",
     "text": [
      "zero é neutro!!!\n",
      "[-7, -7, -39, -6]\n",
      "[4, 5, 6, 12, 6, 23, 8, 45, 7, 42]\n"
     ]
    }
   ],
   "source": [
    "lista_nums = [4, 5, 6, -7, 12, 6, -7, 0, 23, 8, -39, 45, -6, 7, 42]\n",
    "\n",
    "lista_neg = []\n",
    "lista_pos = []\n",
    "\n",
    "\n",
    "for item in lista_nums:\n",
    "    \n",
    "    if item < 0:\n",
    "        \n",
    "        lista_neg.append(item)\n",
    "        \n",
    "    elif item > 0:\n",
    "        \n",
    "        lista_pos.append(item)\n",
    "        \n",
    "    else:\n",
    "        \n",
    "        print(\"zero é neutro!!!\")\n",
    "        \n",
    "print(lista_neg)\n",
    "print(lista_pos)"
   ]
  },
  {
   "cell_type": "markdown",
   "metadata": {},
   "source": [
    "O \"for\" percorre todos os elementos de uma lista, a não ser que o \"break\" seja utilizado -- esse comando quebra o for, ou seja, os elementos param de ser percorridos"
   ]
  },
  {
   "cell_type": "code",
   "execution_count": 104,
   "metadata": {
    "ExecuteTime": {
     "end_time": "2021-10-26T00:55:49.502550Z",
     "start_time": "2021-10-26T00:55:49.487558Z"
    }
   },
   "outputs": [
    {
     "data": {
      "text/plain": [
       "[4, 5, 6, -7, 12, 6, -7, 0, 23, 8, -39, 45, -6, 7, 42]"
      ]
     },
     "execution_count": 104,
     "metadata": {},
     "output_type": "execute_result"
    }
   ],
   "source": [
    "lista_nums"
   ]
  },
  {
   "cell_type": "code",
   "execution_count": 105,
   "metadata": {
    "ExecuteTime": {
     "end_time": "2021-10-26T00:55:49.983616Z",
     "start_time": "2021-10-26T00:55:49.969612Z"
    }
   },
   "outputs": [
    {
     "name": "stdout",
     "output_type": "stream",
     "text": [
      "Achei um negativo: -7\n",
      "Achei um negativo: -7\n",
      "Achei um negativo: -39\n",
      "Achei um negativo: -6\n"
     ]
    }
   ],
   "source": [
    "# indica os negativos\n",
    "for elemento in lista_nums:\n",
    "    \n",
    "    if elemento < 0:\n",
    "        \n",
    "        print(f\"Achei um negativo: {elemento}\")"
   ]
  },
  {
   "cell_type": "code",
   "execution_count": 106,
   "metadata": {
    "ExecuteTime": {
     "end_time": "2021-10-26T00:55:50.309634Z",
     "start_time": "2021-10-26T00:55:50.289646Z"
    }
   },
   "outputs": [
    {
     "name": "stdout",
     "output_type": "stream",
     "text": [
      "\n",
      "Lista atual: [1, 2, -3, 4]\n",
      "1\n",
      "2\n",
      "-3\n",
      "Achei um negativo: -3\n"
     ]
    }
   ],
   "source": [
    "lista_de_listas = [[1, 2, -3, 4], [1, -5, 4, 3, 4, 6, 7]]\n",
    "\n",
    "\n",
    "check = False\n",
    "\n",
    "for lista in lista_de_listas:\n",
    "    \n",
    "    print(f\"\\nLista atual: {lista}\")\n",
    "    \n",
    "    for elemento in lista:\n",
    "    \n",
    "        print(elemento)\n",
    "        \n",
    "        if elemento < 0:\n",
    "\n",
    "            print(f\"Achei um negativo: {elemento}\")\n",
    "            \n",
    "            check = True\n",
    "            break\n",
    "            \n",
    "    if check:\n",
    "        break"
   ]
  },
  {
   "cell_type": "code",
   "execution_count": 107,
   "metadata": {
    "ExecuteTime": {
     "end_time": "2021-10-26T00:55:50.854689Z",
     "start_time": "2021-10-26T00:55:50.846697Z"
    }
   },
   "outputs": [
    {
     "name": "stdout",
     "output_type": "stream",
     "text": [
      "Achei um negativo: -7\n"
     ]
    }
   ],
   "source": [
    "# indique apenas o PRIMEIRO negativo encontrado\n",
    "for elemento in lista_nums:\n",
    "    \n",
    "    if elemento < 0:\n",
    "        \n",
    "        print(f\"Achei um negativo: {elemento}\")\n",
    "        \n",
    "        break"
   ]
  },
  {
   "cell_type": "markdown",
   "metadata": {},
   "source": [
    "Podemos fazer operações com os elementos de umas lista e usá-los pra preencher outra lista:"
   ]
  },
  {
   "cell_type": "code",
   "execution_count": 108,
   "metadata": {
    "ExecuteTime": {
     "end_time": "2021-10-26T00:55:52.014130Z",
     "start_time": "2021-10-26T00:55:51.996145Z"
    }
   },
   "outputs": [
    {
     "name": "stdout",
     "output_type": "stream",
     "text": [
      "[4, 5, 6, -7, 12, 6, -7, 0, 23, 8, -39, 45, -6, 7, 42]\n",
      "[8, 10, 12, -14, 24, 12, -14, 0, 46, 16, -78, 90, -12, 14, 84]\n"
     ]
    }
   ],
   "source": [
    "lista_dobro = []\n",
    "\n",
    "for item in lista_nums:\n",
    "    \n",
    "    lista_dobro.append(2*item)\n",
    "    \n",
    "print(lista_nums)\n",
    "print(lista_dobro)"
   ]
  },
  {
   "cell_type": "markdown",
   "metadata": {},
   "source": [
    "_____\n",
    "\n",
    "### 3.1) Compreensão de listas\n",
    "\n",
    "Uma estrutura extremamente útil em python é a __compreensão de listas__ (list comprehension), com a qual é possível construir listas novas a partir de outras listas de forma bem condensada!\n",
    "\n",
    "A sintaxe é: \n",
    "\n",
    "```python\n",
    "[operacao_sobre_os_items for item in lista_base]\n",
    "```"
   ]
  },
  {
   "cell_type": "code",
   "execution_count": 110,
   "metadata": {
    "ExecuteTime": {
     "end_time": "2021-10-26T00:58:01.396900Z",
     "start_time": "2021-10-26T00:58:01.384613Z"
    }
   },
   "outputs": [],
   "source": [
    "lista_nums = [1, 2, 3, 4, 5]"
   ]
  },
  {
   "cell_type": "code",
   "execution_count": 113,
   "metadata": {
    "ExecuteTime": {
     "end_time": "2021-10-26T00:58:13.773952Z",
     "start_time": "2021-10-26T00:58:13.759961Z"
    }
   },
   "outputs": [
    {
     "data": {
      "text/plain": [
       "[2, 4, 6, 8, 10]"
      ]
     },
     "execution_count": 113,
     "metadata": {},
     "output_type": "execute_result"
    }
   ],
   "source": [
    "lista_dobro = []\n",
    "\n",
    "for item in lista_nums:\n",
    "    \n",
    "    lista_dobro.append(2*item)\n",
    "    \n",
    "lista_dobro"
   ]
  },
  {
   "cell_type": "markdown",
   "metadata": {},
   "source": [
    "Por exemplo, é possível criar a mesma \"lista_dobro\" definida acima, de forma muito mais condensada:"
   ]
  },
  {
   "cell_type": "code",
   "execution_count": 114,
   "metadata": {
    "ExecuteTime": {
     "end_time": "2021-10-26T00:58:28.184723Z",
     "start_time": "2021-10-26T00:58:28.165736Z"
    }
   },
   "outputs": [
    {
     "data": {
      "text/plain": [
       "[2, 4, 6, 8, 10]"
      ]
     },
     "execution_count": 114,
     "metadata": {},
     "output_type": "execute_result"
    }
   ],
   "source": [
    "lista_dobro = [2*x for x in lista_nums]\n",
    "\n",
    "lista_dobro"
   ]
  },
  {
   "cell_type": "code",
   "execution_count": 115,
   "metadata": {
    "ExecuteTime": {
     "end_time": "2021-10-26T00:59:47.292283Z",
     "start_time": "2021-10-26T00:59:47.270092Z"
    }
   },
   "outputs": [
    {
     "data": {
      "text/plain": [
       "[11, 12, 13, 14, 15]"
      ]
     },
     "execution_count": 115,
     "metadata": {},
     "output_type": "execute_result"
    }
   ],
   "source": [
    "[10 + item for item in lista_nums]"
   ]
  },
  {
   "cell_type": "code",
   "execution_count": null,
   "metadata": {},
   "outputs": [],
   "source": []
  },
  {
   "cell_type": "markdown",
   "metadata": {},
   "source": [
    "Também é possível construir uma lista usando compreensão de listas com base em alguma estrutura condicional!\n",
    "\n",
    "Se você for utilizar apenas o if, a sintaxe é:\n",
    "\n",
    "```python\n",
    "[operacao_sobre_os_items for item in lista_base if condicao]\n",
    "```"
   ]
  },
  {
   "cell_type": "code",
   "execution_count": 126,
   "metadata": {
    "ExecuteTime": {
     "end_time": "2021-10-26T01:04:46.827661Z",
     "start_time": "2021-10-26T01:04:46.805679Z"
    }
   },
   "outputs": [],
   "source": [
    "lista_nums = [1, 2, 3, 4, 2, 2, 2, 7, 8]"
   ]
  },
  {
   "cell_type": "code",
   "execution_count": 127,
   "metadata": {
    "ExecuteTime": {
     "end_time": "2021-10-26T01:04:47.094834Z",
     "start_time": "2021-10-26T01:04:47.084838Z"
    }
   },
   "outputs": [
    {
     "data": {
      "text/plain": [
       "[1, 3, 4, 7, 8]"
      ]
     },
     "execution_count": 127,
     "metadata": {},
     "output_type": "execute_result"
    }
   ],
   "source": [
    "[elemento for elemento in lista_nums if elemento != 2]"
   ]
  },
  {
   "cell_type": "code",
   "execution_count": 2,
   "metadata": {
    "ExecuteTime": {
     "end_time": "2021-10-27T22:16:52.371041Z",
     "start_time": "2021-10-27T22:16:52.352057Z"
    }
   },
   "outputs": [
    {
     "name": "stdout",
     "output_type": "stream",
     "text": [
      "[1, 3, 4, 2, 2, 8]\n",
      "[-2, -2, -7]\n"
     ]
    }
   ],
   "source": [
    "lista_nums = [1, -2, 3, 4, 0, -2, 2, 2, -7, 8]\n",
    "\n",
    "lista_pos = [x for x in lista_nums if x > 0]\n",
    "lista_neg = [x for x in lista_nums if x < 0]\n",
    "\n",
    "print(lista_pos)\n",
    "print(lista_neg)"
   ]
  },
  {
   "cell_type": "code",
   "execution_count": 137,
   "metadata": {
    "ExecuteTime": {
     "end_time": "2021-10-26T01:10:40.341034Z",
     "start_time": "2021-10-26T01:10:40.331041Z"
    }
   },
   "outputs": [
    {
     "data": {
      "text/plain": [
       "[4, 2, 2, 8]"
      ]
     },
     "execution_count": 137,
     "metadata": {},
     "output_type": "execute_result"
    }
   ],
   "source": [
    "lista_pos_pares = [x for x in lista_nums if (x > 0\n",
    "                                             and \n",
    "                                             x % 2 == 0)]\n",
    "\n",
    "lista_pos_pares"
   ]
  },
  {
   "cell_type": "markdown",
   "metadata": {},
   "source": [
    "Caso você queira utilizar também o else como parte da estrutura condicional, a sintaxe muda um pouco:\n",
    "\n",
    "```python\n",
    "[valor_caso_if if condicao else valor_caso_else for item in lista_base]\n",
    "```"
   ]
  },
  {
   "cell_type": "code",
   "execution_count": 142,
   "metadata": {
    "ExecuteTime": {
     "end_time": "2021-10-26T01:12:57.674190Z",
     "start_time": "2021-10-26T01:12:57.653206Z"
    }
   },
   "outputs": [
    {
     "data": {
      "text/plain": [
       "'impar'"
      ]
     },
     "execution_count": 142,
     "metadata": {},
     "output_type": "execute_result"
    }
   ],
   "source": [
    "x = 7\n",
    "\n",
    "if x % 2 == 0:\n",
    "    \n",
    "    ans = \"par\"\n",
    "    \n",
    "else:\n",
    "    \n",
    "    ans = \"impar\"\n",
    "    \n",
    "ans"
   ]
  },
  {
   "cell_type": "code",
   "execution_count": 141,
   "metadata": {
    "ExecuteTime": {
     "end_time": "2021-10-26T01:12:51.735594Z",
     "start_time": "2021-10-26T01:12:51.727601Z"
    }
   },
   "outputs": [
    {
     "data": {
      "text/plain": [
       "'par'"
      ]
     },
     "execution_count": 141,
     "metadata": {},
     "output_type": "execute_result"
    }
   ],
   "source": [
    "x = 4\n",
    "\n",
    "# \"operador ternário\"\n",
    "ans = \"par\" if x % 2 == 0 else \"impar\"\n",
    "\n",
    "ans"
   ]
  },
  {
   "cell_type": "code",
   "execution_count": 143,
   "metadata": {
    "ExecuteTime": {
     "end_time": "2021-10-26T01:14:29.736313Z",
     "start_time": "2021-10-26T01:14:29.719328Z"
    }
   },
   "outputs": [
    {
     "data": {
      "text/plain": [
       "[1, -2, 3, 4, 0, -2, 2, 2, -7, 8]"
      ]
     },
     "execution_count": 143,
     "metadata": {},
     "output_type": "execute_result"
    }
   ],
   "source": [
    "lista_nums"
   ]
  },
  {
   "cell_type": "code",
   "execution_count": 144,
   "metadata": {
    "ExecuteTime": {
     "end_time": "2021-10-26T01:15:07.849016Z",
     "start_time": "2021-10-26T01:15:07.833026Z"
    }
   },
   "outputs": [
    {
     "data": {
      "text/plain": [
       "['impar', 'par', 'impar', 'par', 'par', 'par', 'par', 'par', 'impar', 'par']"
      ]
     },
     "execution_count": 144,
     "metadata": {},
     "output_type": "execute_result"
    }
   ],
   "source": [
    "[\"par\" if item % 2 == 0 else \"impar\" for item in lista_nums]"
   ]
  },
  {
   "cell_type": "code",
   "execution_count": 145,
   "metadata": {
    "ExecuteTime": {
     "end_time": "2021-10-26T01:17:25.206925Z",
     "start_time": "2021-10-26T01:17:25.197932Z"
    }
   },
   "outputs": [
    {
     "data": {
      "text/plain": [
       "['impar',\n",
       " 'negativo!!!',\n",
       " 'impar',\n",
       " 'par',\n",
       " 'par',\n",
       " 'negativo!!!',\n",
       " 'par',\n",
       " 'par',\n",
       " 'negativo!!!',\n",
       " 'par']"
      ]
     },
     "execution_count": 145,
     "metadata": {},
     "output_type": "execute_result"
    }
   ],
   "source": [
    "[\"negativo!!!\" if x < 0 else (\"par\" if x % 2 == 0 else \"impar\") for x in lista_nums]"
   ]
  },
  {
   "cell_type": "code",
   "execution_count": 160,
   "metadata": {
    "ExecuteTime": {
     "end_time": "2021-10-26T01:38:49.032983Z",
     "start_time": "2021-10-26T01:38:49.009995Z"
    }
   },
   "outputs": [
    {
     "data": {
      "text/plain": [
       "[1, 'andre', 3, 4]"
      ]
     },
     "execution_count": 160,
     "metadata": {},
     "output_type": "execute_result"
    }
   ],
   "source": [
    "lista = [1, 2, 3, 4]\n",
    "\n",
    "lista_new = [\"andre\" if x == 2 else x for x in lista]\n",
    "\n",
    "lista_new"
   ]
  },
  {
   "cell_type": "code",
   "execution_count": 161,
   "metadata": {
    "ExecuteTime": {
     "end_time": "2021-10-26T01:39:44.357735Z",
     "start_time": "2021-10-26T01:39:44.340743Z"
    }
   },
   "outputs": [
    {
     "data": {
      "text/plain": [
       "[1, 'andre', 3, 4]"
      ]
     },
     "execution_count": 161,
     "metadata": {},
     "output_type": "execute_result"
    }
   ],
   "source": [
    "lista = [1, 2, 3, 4]\n",
    "\n",
    "lista_new = []\n",
    "\n",
    "for x in lista:\n",
    "    \n",
    "    if x == 2:\n",
    "    \n",
    "        lista_new.append(\"andre\")\n",
    "        \n",
    "    else:\n",
    "        \n",
    "        lista_new.append(x)\n",
    "        \n",
    "lista_new"
   ]
  },
  {
   "cell_type": "markdown",
   "metadata": {},
   "source": [
    "Comparando as duas formas..."
   ]
  },
  {
   "cell_type": "code",
   "execution_count": 6,
   "metadata": {
    "ExecuteTime": {
     "end_time": "2021-10-27T22:17:15.301840Z",
     "start_time": "2021-10-27T22:17:15.282849Z"
    }
   },
   "outputs": [
    {
     "data": {
      "text/plain": [
       "[1, -2, 3, 4, 0, -2, 2, 2, -7, 8]"
      ]
     },
     "execution_count": 6,
     "metadata": {},
     "output_type": "execute_result"
    }
   ],
   "source": [
    "lista_nums"
   ]
  },
  {
   "cell_type": "code",
   "execution_count": 5,
   "metadata": {
    "ExecuteTime": {
     "end_time": "2021-10-27T22:17:05.619534Z",
     "start_time": "2021-10-27T22:17:05.605539Z"
    }
   },
   "outputs": [
    {
     "data": {
      "text/plain": [
       "['impar',\n",
       " 'negativo!!!',\n",
       " 'impar',\n",
       " 'par',\n",
       " 'par',\n",
       " 'negativo!!!',\n",
       " 'par',\n",
       " 'par',\n",
       " 'negativo!!!',\n",
       " 'par']"
      ]
     },
     "execution_count": 5,
     "metadata": {},
     "output_type": "execute_result"
    }
   ],
   "source": [
    "resp = [\"negativo!!!\" if x < 0 else (\"par\" if x % 2 == 0 else \"impar\") for x in lista_nums]\n",
    "\n",
    "resp"
   ]
  },
  {
   "cell_type": "code",
   "execution_count": 7,
   "metadata": {
    "ExecuteTime": {
     "end_time": "2021-10-27T22:20:23.316865Z",
     "start_time": "2021-10-27T22:20:23.296876Z"
    }
   },
   "outputs": [
    {
     "data": {
      "text/plain": [
       "['impar',\n",
       " 'negativo!!!',\n",
       " 'impar',\n",
       " 'par',\n",
       " 'par',\n",
       " 'negativo!!!',\n",
       " 'par',\n",
       " 'par',\n",
       " 'negativo!!!',\n",
       " 'par']"
      ]
     },
     "execution_count": 7,
     "metadata": {},
     "output_type": "execute_result"
    }
   ],
   "source": [
    "resp = []\n",
    "\n",
    "for x in lista_nums:\n",
    "    \n",
    "    if x < 0:\n",
    "        \n",
    "        resp.append(\"negativo!!!\")\n",
    "        \n",
    "    else:\n",
    "        \n",
    "        if x % 2 == 0:\n",
    "            \n",
    "            resp.append(\"par\")\n",
    "            \n",
    "        else:\n",
    "            \n",
    "            resp.append(\"impar\")\n",
    "    \n",
    "resp    "
   ]
  },
  {
   "cell_type": "markdown",
   "metadata": {},
   "source": [
    "____________"
   ]
  },
  {
   "cell_type": "code",
   "execution_count": null,
   "metadata": {},
   "outputs": [],
   "source": [
    "# fazer exemplo de auto-referencia de listas!!"
   ]
  },
  {
   "cell_type": "code",
   "execution_count": 1,
   "metadata": {
    "ExecuteTime": {
     "end_time": "2021-10-27T22:24:54.387181Z",
     "start_time": "2021-10-27T22:24:54.377184Z"
    }
   },
   "outputs": [],
   "source": [
    "lista1 = [1, 2, 3]"
   ]
  },
  {
   "cell_type": "code",
   "execution_count": 2,
   "metadata": {
    "ExecuteTime": {
     "end_time": "2021-10-27T22:25:19.121865Z",
     "start_time": "2021-10-27T22:25:19.106872Z"
    }
   },
   "outputs": [],
   "source": [
    "lista2 = lista1"
   ]
  },
  {
   "cell_type": "code",
   "execution_count": 3,
   "metadata": {
    "ExecuteTime": {
     "end_time": "2021-10-27T22:25:21.643711Z",
     "start_time": "2021-10-27T22:25:21.616724Z"
    }
   },
   "outputs": [
    {
     "data": {
      "text/plain": [
       "[1, 2, 3]"
      ]
     },
     "execution_count": 3,
     "metadata": {},
     "output_type": "execute_result"
    }
   ],
   "source": [
    "lista2"
   ]
  },
  {
   "cell_type": "code",
   "execution_count": 10,
   "metadata": {
    "ExecuteTime": {
     "end_time": "2021-10-27T22:27:09.852578Z",
     "start_time": "2021-10-27T22:27:09.836587Z"
    }
   },
   "outputs": [],
   "source": [
    "lista1.append(4)"
   ]
  },
  {
   "cell_type": "code",
   "execution_count": 11,
   "metadata": {
    "ExecuteTime": {
     "end_time": "2021-10-27T22:27:19.254985Z",
     "start_time": "2021-10-27T22:27:19.236997Z"
    }
   },
   "outputs": [
    {
     "data": {
      "text/plain": [
       "[1, 2, 3, 4]"
      ]
     },
     "execution_count": 11,
     "metadata": {},
     "output_type": "execute_result"
    }
   ],
   "source": [
    "lista1"
   ]
  },
  {
   "cell_type": "code",
   "execution_count": 12,
   "metadata": {
    "ExecuteTime": {
     "end_time": "2021-10-27T22:27:35.408950Z",
     "start_time": "2021-10-27T22:27:35.385963Z"
    }
   },
   "outputs": [
    {
     "data": {
      "text/plain": [
       "[1, 2, 3, 4]"
      ]
     },
     "execution_count": 12,
     "metadata": {},
     "output_type": "execute_result"
    }
   ],
   "source": [
    "lista2"
   ]
  },
  {
   "cell_type": "code",
   "execution_count": 13,
   "metadata": {
    "ExecuteTime": {
     "end_time": "2021-10-27T22:29:53.906485Z",
     "start_time": "2021-10-27T22:29:53.893492Z"
    }
   },
   "outputs": [],
   "source": [
    "lista1[0] = 42"
   ]
  },
  {
   "cell_type": "code",
   "execution_count": 14,
   "metadata": {
    "ExecuteTime": {
     "end_time": "2021-10-27T22:29:58.042788Z",
     "start_time": "2021-10-27T22:29:58.027796Z"
    }
   },
   "outputs": [
    {
     "data": {
      "text/plain": [
       "[42, 2, 3, 4]"
      ]
     },
     "execution_count": 14,
     "metadata": {},
     "output_type": "execute_result"
    }
   ],
   "source": [
    "lista1"
   ]
  },
  {
   "cell_type": "code",
   "execution_count": 15,
   "metadata": {
    "ExecuteTime": {
     "end_time": "2021-10-27T22:30:00.662592Z",
     "start_time": "2021-10-27T22:30:00.655596Z"
    }
   },
   "outputs": [
    {
     "data": {
      "text/plain": [
       "[42, 2, 3, 4]"
      ]
     },
     "execution_count": 15,
     "metadata": {},
     "output_type": "execute_result"
    }
   ],
   "source": [
    "lista2"
   ]
  },
  {
   "cell_type": "code",
   "execution_count": 16,
   "metadata": {
    "ExecuteTime": {
     "end_time": "2021-10-27T22:30:06.588191Z",
     "start_time": "2021-10-27T22:30:06.572203Z"
    }
   },
   "outputs": [],
   "source": [
    "lista2.append(5)"
   ]
  },
  {
   "cell_type": "code",
   "execution_count": 17,
   "metadata": {
    "ExecuteTime": {
     "end_time": "2021-10-27T22:30:07.073609Z",
     "start_time": "2021-10-27T22:30:07.064611Z"
    }
   },
   "outputs": [
    {
     "data": {
      "text/plain": [
       "[42, 2, 3, 4, 5]"
      ]
     },
     "execution_count": 17,
     "metadata": {},
     "output_type": "execute_result"
    }
   ],
   "source": [
    "lista2"
   ]
  },
  {
   "cell_type": "code",
   "execution_count": 19,
   "metadata": {
    "ExecuteTime": {
     "end_time": "2021-10-27T22:38:05.320996Z",
     "start_time": "2021-10-27T22:38:05.307004Z"
    },
    "scrolled": true
   },
   "outputs": [
    {
     "data": {
      "text/plain": [
       "[42, 2, 3, 4, 5]"
      ]
     },
     "execution_count": 19,
     "metadata": {},
     "output_type": "execute_result"
    }
   ],
   "source": [
    "lista1"
   ]
  },
  {
   "cell_type": "code",
   "execution_count": 20,
   "metadata": {
    "ExecuteTime": {
     "end_time": "2021-10-27T22:38:07.142976Z",
     "start_time": "2021-10-27T22:38:07.128982Z"
    }
   },
   "outputs": [],
   "source": [
    "del lista1"
   ]
  },
  {
   "cell_type": "code",
   "execution_count": 21,
   "metadata": {
    "ExecuteTime": {
     "end_time": "2021-10-27T22:38:11.966040Z",
     "start_time": "2021-10-27T22:38:11.483803Z"
    }
   },
   "outputs": [
    {
     "ename": "NameError",
     "evalue": "name 'lista1' is not defined",
     "output_type": "error",
     "traceback": [
      "\u001b[1;31m---------------------------------------------------------------------------\u001b[0m",
      "\u001b[1;31mNameError\u001b[0m                                 Traceback (most recent call last)",
      "\u001b[1;32m<ipython-input-21-28c806bba2a7>\u001b[0m in \u001b[0;36m<module>\u001b[1;34m\u001b[0m\n\u001b[1;32m----> 1\u001b[1;33m \u001b[0mlista1\u001b[0m\u001b[1;33m\u001b[0m\u001b[1;33m\u001b[0m\u001b[0m\n\u001b[0m",
      "\u001b[1;31mNameError\u001b[0m: name 'lista1' is not defined"
     ]
    }
   ],
   "source": [
    "lista1"
   ]
  },
  {
   "cell_type": "code",
   "execution_count": 23,
   "metadata": {
    "ExecuteTime": {
     "end_time": "2021-10-27T22:39:59.657771Z",
     "start_time": "2021-10-27T22:39:59.638784Z"
    }
   },
   "outputs": [
    {
     "data": {
      "text/plain": [
       "[42, 2, 3, 4, 5]"
      ]
     },
     "execution_count": 23,
     "metadata": {},
     "output_type": "execute_result"
    }
   ],
   "source": [
    "lista2"
   ]
  },
  {
   "cell_type": "markdown",
   "metadata": {},
   "source": [
    "#### Resolvendo o \"problema\""
   ]
  },
  {
   "cell_type": "code",
   "execution_count": 24,
   "metadata": {
    "ExecuteTime": {
     "end_time": "2021-10-27T22:40:11.504114Z",
     "start_time": "2021-10-27T22:40:11.495120Z"
    }
   },
   "outputs": [],
   "source": [
    "lista3 = lista2.copy()"
   ]
  },
  {
   "cell_type": "code",
   "execution_count": 25,
   "metadata": {
    "ExecuteTime": {
     "end_time": "2021-10-27T22:40:19.906818Z",
     "start_time": "2021-10-27T22:40:19.895824Z"
    }
   },
   "outputs": [
    {
     "data": {
      "text/plain": [
       "[42, 2, 3, 4, 5]"
      ]
     },
     "execution_count": 25,
     "metadata": {},
     "output_type": "execute_result"
    }
   ],
   "source": [
    "lista3"
   ]
  },
  {
   "cell_type": "code",
   "execution_count": 26,
   "metadata": {
    "ExecuteTime": {
     "end_time": "2021-10-27T22:40:33.673293Z",
     "start_time": "2021-10-27T22:40:33.664300Z"
    }
   },
   "outputs": [],
   "source": [
    "lista2.append(6)"
   ]
  },
  {
   "cell_type": "code",
   "execution_count": 27,
   "metadata": {
    "ExecuteTime": {
     "end_time": "2021-10-27T22:40:38.235792Z",
     "start_time": "2021-10-27T22:40:38.215806Z"
    }
   },
   "outputs": [
    {
     "data": {
      "text/plain": [
       "[42, 2, 3, 4, 5, 6]"
      ]
     },
     "execution_count": 27,
     "metadata": {},
     "output_type": "execute_result"
    }
   ],
   "source": [
    "lista2"
   ]
  },
  {
   "cell_type": "code",
   "execution_count": 28,
   "metadata": {
    "ExecuteTime": {
     "end_time": "2021-10-27T22:40:43.015205Z",
     "start_time": "2021-10-27T22:40:42.999214Z"
    }
   },
   "outputs": [
    {
     "data": {
      "text/plain": [
       "[42, 2, 3, 4, 5]"
      ]
     },
     "execution_count": 28,
     "metadata": {},
     "output_type": "execute_result"
    }
   ],
   "source": [
    "lista3"
   ]
  },
  {
   "cell_type": "code",
   "execution_count": 29,
   "metadata": {
    "ExecuteTime": {
     "end_time": "2021-10-27T22:42:32.575805Z",
     "start_time": "2021-10-27T22:42:32.555819Z"
    }
   },
   "outputs": [],
   "source": [
    "import copy"
   ]
  },
  {
   "cell_type": "code",
   "execution_count": 31,
   "metadata": {
    "ExecuteTime": {
     "end_time": "2021-10-27T22:42:57.860818Z",
     "start_time": "2021-10-27T22:42:57.850825Z"
    }
   },
   "outputs": [],
   "source": [
    "lista4 = copy.deepcopy(lista2)"
   ]
  },
  {
   "cell_type": "code",
   "execution_count": 32,
   "metadata": {
    "ExecuteTime": {
     "end_time": "2021-10-27T22:43:00.976589Z",
     "start_time": "2021-10-27T22:43:00.955538Z"
    }
   },
   "outputs": [
    {
     "data": {
      "text/plain": [
       "[42, 2, 3, 4, 5, 6]"
      ]
     },
     "execution_count": 32,
     "metadata": {},
     "output_type": "execute_result"
    }
   ],
   "source": [
    "lista4"
   ]
  },
  {
   "cell_type": "markdown",
   "metadata": {},
   "source": [
    "_____\n",
    "_____"
   ]
  },
  {
   "cell_type": "markdown",
   "metadata": {},
   "source": [
    "É muito comum utilizarmos a função \"range()\" juntamente do for\n",
    "\n",
    "Essa função cria um **intervalo**, que é uma espécie de \"lista virtual\" de **números em sequência**. Sua sintaxe é:\n",
    "\n",
    "- range(primeiro_numero, último_numero - 1, passo)\n",
    "\n",
    "Se for dado apenas um argumento, o padrão é começar por zero, e ir de 1 em 1:\n",
    "\n",
    "- range(10) é equivalente a range(0, 10, 1), cria uma sequência de 0 a 9, de 1 em 1\n",
    "- range(-12, 12, 2): cria uma sequência de -12 a 11, de 2 em 2\n",
    "\n",
    "Ao fazermos list(range()), obtermos uma lista correspondente ao iterável.\n",
    "\n",
    "**OBS: só podemos fazer iteráveis de int!**"
   ]
  },
  {
   "cell_type": "code",
   "execution_count": 39,
   "metadata": {
    "ExecuteTime": {
     "end_time": "2021-10-27T22:49:18.869564Z",
     "start_time": "2021-10-27T22:49:18.858571Z"
    }
   },
   "outputs": [
    {
     "data": {
      "text/plain": [
       "[0, 1, 2, 3, 4, 5, 6, 7, 8, 9]"
      ]
     },
     "execution_count": 39,
     "metadata": {},
     "output_type": "execute_result"
    }
   ],
   "source": [
    "list(range(0, 10, 1))"
   ]
  },
  {
   "cell_type": "code",
   "execution_count": 40,
   "metadata": {
    "ExecuteTime": {
     "end_time": "2021-10-27T22:49:32.645148Z",
     "start_time": "2021-10-27T22:49:32.626159Z"
    }
   },
   "outputs": [
    {
     "data": {
      "text/plain": [
       "[0, 1, 2, 3, 4, 5, 6, 7, 8, 9]"
      ]
     },
     "execution_count": 40,
     "metadata": {},
     "output_type": "execute_result"
    }
   ],
   "source": [
    "list(range(10))"
   ]
  },
  {
   "cell_type": "code",
   "execution_count": 41,
   "metadata": {
    "ExecuteTime": {
     "end_time": "2021-10-27T22:51:07.341004Z",
     "start_time": "2021-10-27T22:51:07.329012Z"
    }
   },
   "outputs": [],
   "source": [
    "a = range(5)"
   ]
  },
  {
   "cell_type": "code",
   "execution_count": 43,
   "metadata": {
    "ExecuteTime": {
     "end_time": "2021-10-27T22:51:13.974513Z",
     "start_time": "2021-10-27T22:51:13.956504Z"
    }
   },
   "outputs": [],
   "source": [
    "b = list(a)"
   ]
  },
  {
   "cell_type": "code",
   "execution_count": 45,
   "metadata": {
    "ExecuteTime": {
     "end_time": "2021-10-27T22:51:27.399887Z",
     "start_time": "2021-10-27T22:51:27.385875Z"
    }
   },
   "outputs": [
    {
     "data": {
      "text/plain": [
       "range(0, 5)"
      ]
     },
     "execution_count": 45,
     "metadata": {},
     "output_type": "execute_result"
    }
   ],
   "source": [
    "a"
   ]
  },
  {
   "cell_type": "code",
   "execution_count": 46,
   "metadata": {
    "ExecuteTime": {
     "end_time": "2021-10-27T22:51:30.609128Z",
     "start_time": "2021-10-27T22:51:30.595134Z"
    }
   },
   "outputs": [
    {
     "data": {
      "text/plain": [
       "[0, 1, 2, 3, 4]"
      ]
     },
     "execution_count": 46,
     "metadata": {},
     "output_type": "execute_result"
    }
   ],
   "source": [
    "b"
   ]
  },
  {
   "cell_type": "code",
   "execution_count": 47,
   "metadata": {
    "ExecuteTime": {
     "end_time": "2021-10-27T22:51:55.673379Z",
     "start_time": "2021-10-27T22:51:55.662387Z"
    }
   },
   "outputs": [],
   "source": [
    "b[1] = 42"
   ]
  },
  {
   "cell_type": "code",
   "execution_count": 48,
   "metadata": {
    "ExecuteTime": {
     "end_time": "2021-10-27T22:51:58.592829Z",
     "start_time": "2021-10-27T22:51:58.573840Z"
    }
   },
   "outputs": [
    {
     "data": {
      "text/plain": [
       "[0, 42, 2, 3, 4]"
      ]
     },
     "execution_count": 48,
     "metadata": {},
     "output_type": "execute_result"
    }
   ],
   "source": [
    "b"
   ]
  },
  {
   "cell_type": "code",
   "execution_count": 49,
   "metadata": {
    "ExecuteTime": {
     "end_time": "2021-10-27T22:52:20.740584Z",
     "start_time": "2021-10-27T22:52:20.710602Z"
    }
   },
   "outputs": [
    {
     "ename": "TypeError",
     "evalue": "'range' object does not support item assignment",
     "output_type": "error",
     "traceback": [
      "\u001b[1;31m---------------------------------------------------------------------------\u001b[0m",
      "\u001b[1;31mTypeError\u001b[0m                                 Traceback (most recent call last)",
      "\u001b[1;32m<ipython-input-49-9146a5d1bfd7>\u001b[0m in \u001b[0;36m<module>\u001b[1;34m\u001b[0m\n\u001b[1;32m----> 1\u001b[1;33m \u001b[0ma\u001b[0m\u001b[1;33m[\u001b[0m\u001b[1;36m1\u001b[0m\u001b[1;33m]\u001b[0m \u001b[1;33m=\u001b[0m \u001b[1;36m42\u001b[0m\u001b[1;33m\u001b[0m\u001b[1;33m\u001b[0m\u001b[0m\n\u001b[0m",
      "\u001b[1;31mTypeError\u001b[0m: 'range' object does not support item assignment"
     ]
    }
   ],
   "source": [
    "a[1] = 42"
   ]
  },
  {
   "cell_type": "markdown",
   "metadata": {},
   "source": [
    "É muito comum usar o for com o range para **percorrer os índices de uma lista**, e assim também **acessar os elementos da lista através do índice**.\n",
    "\n",
    "Isso é feito passando pro range o comprinento da lista como argumento!"
   ]
  },
  {
   "cell_type": "code",
   "execution_count": 59,
   "metadata": {
    "ExecuteTime": {
     "end_time": "2021-10-27T22:58:56.530196Z",
     "start_time": "2021-10-27T22:58:56.510208Z"
    }
   },
   "outputs": [],
   "source": [
    "lista = [10, 20, 30, 40, 50, 60, 70]"
   ]
  },
  {
   "cell_type": "code",
   "execution_count": 60,
   "metadata": {
    "ExecuteTime": {
     "end_time": "2021-10-27T22:58:56.763062Z",
     "start_time": "2021-10-27T22:58:56.747070Z"
    }
   },
   "outputs": [
    {
     "name": "stdout",
     "output_type": "stream",
     "text": [
      "10\n",
      "20\n",
      "30\n",
      "40\n",
      "50\n",
      "60\n",
      "70\n"
     ]
    }
   ],
   "source": [
    "for item in lista:\n",
    "    \n",
    "    print(item)"
   ]
  },
  {
   "cell_type": "code",
   "execution_count": 61,
   "metadata": {
    "ExecuteTime": {
     "end_time": "2021-10-27T22:58:57.076892Z",
     "start_time": "2021-10-27T22:58:57.063901Z"
    }
   },
   "outputs": [
    {
     "data": {
      "text/plain": [
       "[0, 1, 2, 3, 4, 5, 6]"
      ]
     },
     "execution_count": 61,
     "metadata": {},
     "output_type": "execute_result"
    }
   ],
   "source": [
    "list(range(len(lista)))"
   ]
  },
  {
   "cell_type": "code",
   "execution_count": 62,
   "metadata": {
    "ExecuteTime": {
     "end_time": "2021-10-27T22:58:57.472015Z",
     "start_time": "2021-10-27T22:58:57.465019Z"
    }
   },
   "outputs": [
    {
     "name": "stdout",
     "output_type": "stream",
     "text": [
      "10\n",
      "20\n",
      "30\n",
      "40\n",
      "50\n",
      "60\n",
      "70\n"
     ]
    }
   ],
   "source": [
    "for i in range(len(lista)):\n",
    "    \n",
    "    # print(i, lista[i])\n",
    "    \n",
    "     print(lista[i])"
   ]
  },
  {
   "cell_type": "markdown",
   "metadata": {},
   "source": [
    "Note a diferença do que foi feito acima e o que é feito abaixo:"
   ]
  },
  {
   "cell_type": "code",
   "execution_count": 63,
   "metadata": {
    "ExecuteTime": {
     "end_time": "2021-10-27T22:58:59.449056Z",
     "start_time": "2021-10-27T22:58:59.443059Z"
    }
   },
   "outputs": [
    {
     "name": "stdout",
     "output_type": "stream",
     "text": [
      "10\n",
      "20\n",
      "30\n",
      "40\n",
      "50\n",
      "60\n",
      "70\n"
     ]
    }
   ],
   "source": [
    "for item in lista:\n",
    "    \n",
    "    print(item)"
   ]
  },
  {
   "cell_type": "code",
   "execution_count": 66,
   "metadata": {
    "ExecuteTime": {
     "end_time": "2021-10-27T23:00:21.764107Z",
     "start_time": "2021-10-27T23:00:21.749112Z"
    }
   },
   "outputs": [
    {
     "data": {
      "text/plain": [
       "[10, 20, 30, 40, 50, 60, 70]"
      ]
     },
     "execution_count": 66,
     "metadata": {},
     "output_type": "execute_result"
    }
   ],
   "source": [
    "lista"
   ]
  },
  {
   "cell_type": "code",
   "execution_count": 65,
   "metadata": {
    "ExecuteTime": {
     "end_time": "2021-10-27T23:00:15.624098Z",
     "start_time": "2021-10-27T23:00:15.617104Z"
    }
   },
   "outputs": [
    {
     "name": "stdout",
     "output_type": "stream",
     "text": [
      "10\n",
      "30\n",
      "50\n",
      "70\n"
     ]
    }
   ],
   "source": [
    "# printa apenas os elementos de indice par (isto é, elementos alternados)\n",
    "\n",
    "for i in range(len(lista)):\n",
    "    \n",
    "    if i%2 == 0:\n",
    "        \n",
    "        print(lista[i])"
   ]
  },
  {
   "cell_type": "code",
   "execution_count": 68,
   "metadata": {
    "ExecuteTime": {
     "end_time": "2021-10-27T23:01:09.397910Z",
     "start_time": "2021-10-27T23:01:09.385919Z"
    }
   },
   "outputs": [
    {
     "name": "stdout",
     "output_type": "stream",
     "text": [
      "10\n",
      "30\n",
      "50\n",
      "70\n"
     ]
    }
   ],
   "source": [
    "for i in range(0, len(lista), 2):\n",
    "    \n",
    "    print(lista[i])"
   ]
  },
  {
   "cell_type": "code",
   "execution_count": 70,
   "metadata": {
    "ExecuteTime": {
     "end_time": "2021-10-27T23:02:18.067219Z",
     "start_time": "2021-10-27T23:02:18.052233Z"
    }
   },
   "outputs": [
    {
     "data": {
      "text/plain": [
       "[10, 20, 30, 40, 50, 60, 70]"
      ]
     },
     "execution_count": 70,
     "metadata": {},
     "output_type": "execute_result"
    }
   ],
   "source": [
    "lista"
   ]
  },
  {
   "cell_type": "code",
   "execution_count": 90,
   "metadata": {
    "ExecuteTime": {
     "end_time": "2021-10-27T23:16:53.231831Z",
     "start_time": "2021-10-27T23:16:53.210844Z"
    }
   },
   "outputs": [
    {
     "name": "stdout",
     "output_type": "stream",
     "text": [
      "10\n",
      "30\n",
      "50\n",
      "70\n"
     ]
    },
    {
     "data": {
      "text/plain": [
       "[None, None, None, None]"
      ]
     },
     "execution_count": 90,
     "metadata": {},
     "output_type": "execute_result"
    }
   ],
   "source": [
    "[print(lista[i]) for i in range(0, len(lista), 2)]"
   ]
  },
  {
   "cell_type": "code",
   "execution_count": 71,
   "metadata": {
    "ExecuteTime": {
     "end_time": "2021-10-27T23:03:19.973394Z",
     "start_time": "2021-10-27T23:03:19.952405Z"
    }
   },
   "outputs": [
    {
     "data": {
      "text/plain": [
       "[9, 8, 7, 6, 5, 4, 3, 2, 1, 0]"
      ]
     },
     "execution_count": 71,
     "metadata": {},
     "output_type": "execute_result"
    }
   ],
   "source": [
    "# tbm é possivel intervalos \"inversos\"\n",
    "\n",
    "list(range(9, -1, -1))"
   ]
  },
  {
   "cell_type": "markdown",
   "metadata": {},
   "source": [
    "E o enumerate?"
   ]
  },
  {
   "cell_type": "code",
   "execution_count": 73,
   "metadata": {
    "ExecuteTime": {
     "end_time": "2021-10-27T23:04:58.513213Z",
     "start_time": "2021-10-27T23:04:58.492226Z"
    }
   },
   "outputs": [
    {
     "name": "stdout",
     "output_type": "stream",
     "text": [
      "0 10\n",
      "1 20\n",
      "2 30\n",
      "3 40\n",
      "4 50\n",
      "5 60\n",
      "6 70\n"
     ]
    }
   ],
   "source": [
    "for i in range(len(lista)):\n",
    "    \n",
    "    print(i, lista[i])"
   ]
  },
  {
   "cell_type": "code",
   "execution_count": 86,
   "metadata": {
    "ExecuteTime": {
     "end_time": "2021-10-27T23:13:20.734786Z",
     "start_time": "2021-10-27T23:13:20.713799Z"
    }
   },
   "outputs": [
    {
     "data": {
      "text/plain": [
       "[10, 20, 30, 40, 50, 60, 70]"
      ]
     },
     "execution_count": 86,
     "metadata": {},
     "output_type": "execute_result"
    }
   ],
   "source": [
    "lista"
   ]
  },
  {
   "cell_type": "code",
   "execution_count": 75,
   "metadata": {
    "ExecuteTime": {
     "end_time": "2021-10-27T23:05:29.773844Z",
     "start_time": "2021-10-27T23:05:29.751861Z"
    }
   },
   "outputs": [
    {
     "data": {
      "text/plain": [
       "[(0, 10), (1, 20), (2, 30), (3, 40), (4, 50), (5, 60), (6, 70)]"
      ]
     },
     "execution_count": 75,
     "metadata": {},
     "output_type": "execute_result"
    }
   ],
   "source": [
    "list(enumerate(lista))\n",
    "\n",
    "# o emumerate gera um iterável que tem a estrutura [(indice, elemento[indice])]"
   ]
  },
  {
   "cell_type": "code",
   "execution_count": 78,
   "metadata": {
    "ExecuteTime": {
     "end_time": "2021-10-27T23:08:58.957499Z",
     "start_time": "2021-10-27T23:08:58.943510Z"
    }
   },
   "outputs": [
    {
     "name": "stdout",
     "output_type": "stream",
     "text": [
      "0 10\n",
      "1 20\n",
      "2 30\n",
      "3 40\n",
      "4 50\n",
      "5 60\n",
      "6 70\n"
     ]
    }
   ],
   "source": [
    "for i, elemento in enumerate(lista):\n",
    "    \n",
    "    print(i, elemento)"
   ]
  },
  {
   "cell_type": "code",
   "execution_count": 79,
   "metadata": {
    "ExecuteTime": {
     "end_time": "2021-10-27T23:10:22.165287Z",
     "start_time": "2021-10-27T23:10:22.144300Z"
    }
   },
   "outputs": [],
   "source": [
    "aux_enumerate = [(0, 10), (1, 20), (2, 30), (3, 40), (4, 50), (5, 60), (6, 70)]"
   ]
  },
  {
   "cell_type": "code",
   "execution_count": 85,
   "metadata": {
    "ExecuteTime": {
     "end_time": "2021-10-27T23:12:13.905078Z",
     "start_time": "2021-10-27T23:12:13.887093Z"
    }
   },
   "outputs": [
    {
     "name": "stdout",
     "output_type": "stream",
     "text": [
      "0 10\n",
      "1 20\n",
      "2 30\n",
      "3 40\n",
      "4 50\n",
      "5 60\n",
      "6 70\n"
     ]
    }
   ],
   "source": [
    "i, elemento = aux_enumerate[0]\n",
    "print(i, elemento)\n",
    "\n",
    "i, elemento = aux_enumerate[1]\n",
    "print(i, elemento)\n",
    "\n",
    "i, elemento = aux_enumerate[2]\n",
    "print(i, elemento)\n",
    "\n",
    "i, elemento = aux_enumerate[3]\n",
    "print(i, elemento)\n",
    "\n",
    "i, elemento = aux_enumerate[4]\n",
    "print(i, elemento)\n",
    "\n",
    "i, elemento = aux_enumerate[5]\n",
    "print(i, elemento)\n",
    "\n",
    "i, elemento = aux_enumerate[6]\n",
    "print(i, elemento)"
   ]
  },
  {
   "cell_type": "markdown",
   "metadata": {},
   "source": [
    "O range é muito interessante caso **queiramos repetir determinada instrução**\n",
    "\n",
    "Se vc quer repetir N vezes, basta fazer:\n",
    "\n",
    "```python\n",
    "for i in range(N):\n",
    "    operacao_repetida\n",
    "```\n",
    "\n",
    "É neste sentido que o `for` passa a ser explicitamente um laço de repetição!\n",
    "\n",
    "Mas note que este laço se diferencia do while no fato de **não precisar de uma condição explícita**\n",
    "\n",
    "Este laço determina que as operações sejam repetidas **para valores em uma lista** (que no caso é o `range`).\n",
    "\n",
    "Este laço é, portanto, bem mais controlado -- dificilmente ocorrerá loops infinitos!"
   ]
  },
  {
   "cell_type": "code",
   "execution_count": 93,
   "metadata": {
    "ExecuteTime": {
     "end_time": "2021-10-27T23:18:52.737496Z",
     "start_time": "2021-10-27T23:18:52.718508Z"
    }
   },
   "outputs": [
    {
     "name": "stdout",
     "output_type": "stream",
     "text": [
      "olá\n",
      "olá\n",
      "olá\n",
      "olá\n",
      "olá\n"
     ]
    }
   ],
   "source": [
    "cont = 0\n",
    "\n",
    "while cont < 5:\n",
    "    \n",
    "    print(\"olá\")\n",
    "    \n",
    "    cont +=1"
   ]
  },
  {
   "cell_type": "code",
   "execution_count": 96,
   "metadata": {
    "ExecuteTime": {
     "end_time": "2021-10-27T23:19:51.969547Z",
     "start_time": "2021-10-27T23:19:51.950560Z"
    }
   },
   "outputs": [
    {
     "name": "stdout",
     "output_type": "stream",
     "text": [
      "olá\n",
      "olá\n",
      "olá\n",
      "olá\n",
      "olá\n"
     ]
    }
   ],
   "source": [
    "for i in range(5):\n",
    "    \n",
    "    print(\"olá\")"
   ]
  },
  {
   "cell_type": "code",
   "execution_count": 97,
   "metadata": {
    "ExecuteTime": {
     "end_time": "2021-10-27T23:20:23.293788Z",
     "start_time": "2021-10-27T23:20:23.281794Z"
    }
   },
   "outputs": [
    {
     "name": "stdout",
     "output_type": "stream",
     "text": [
      "olá\n",
      "olá\n",
      "olá\n",
      "olá\n",
      "olá\n"
     ]
    }
   ],
   "source": [
    "for _ in range(5):\n",
    "    \n",
    "    print(\"olá\")"
   ]
  },
  {
   "cell_type": "markdown",
   "metadata": {},
   "source": [
    "Note que o código acima é equivalente a:"
   ]
  },
  {
   "cell_type": "code",
   "execution_count": 98,
   "metadata": {
    "ExecuteTime": {
     "end_time": "2021-10-27T23:21:05.094568Z",
     "start_time": "2021-10-27T23:21:05.083550Z"
    }
   },
   "outputs": [
    {
     "name": "stdout",
     "output_type": "stream",
     "text": [
      "olá\n",
      "olá\n",
      "olá\n",
      "olá\n",
      "olá\n"
     ]
    }
   ],
   "source": [
    "for _ in [0, 1, 2, 3, 4]:\n",
    "    \n",
    "    print(\"olá\")"
   ]
  },
  {
   "cell_type": "code",
   "execution_count": 99,
   "metadata": {
    "ExecuteTime": {
     "end_time": "2021-10-27T23:23:53.178147Z",
     "start_time": "2021-10-27T23:23:43.764244Z"
    }
   },
   "outputs": [
    {
     "name": "stdout",
     "output_type": "stream",
     "text": [
      "digite a qtdd de notas: 4\n",
      "digite a 1a nota: 8\n",
      "digite a 2a nota: 9\n",
      "digite a 3a nota: 7.5\n",
      "digite a 4a nota: 10\n",
      "A sua média é: 8.6\n"
     ]
    }
   ],
   "source": [
    "qtdd = int(input(\"digite a qtdd de notas: \"))\n",
    "\n",
    "notas = [float(input(f\"digite a {i+1}a nota: \")) for i in range(qtdd)]\n",
    "\n",
    "print(f\"A sua média é: {sum(notas)/len(notas):.1f}\")"
   ]
  },
  {
   "cell_type": "markdown",
   "metadata": {},
   "source": [
    "Crédito ao Carlos: como uar validação tipo try/except junto com list comprehension"
   ]
  },
  {
   "cell_type": "code",
   "execution_count": null,
   "metadata": {},
   "outputs": [],
   "source": [
    "def checkint(value):\n",
    "    try:\n",
    "         int(value)\n",
    "    except ValueError:\n",
    "         while (not value.isdigit()) :\n",
    "                value = input('Não foi digitado um numero inteiro, tente novamente: ')      \n",
    "    return int(value)\n",
    "\n",
    "def checkfloat(value):\n",
    "    try:\n",
    "         float(value)\n",
    "    except ValueError:\n",
    "         while (not value.replace('.','',1).isdigit()) :\n",
    "                value = input('Não foi digitado um numero, tente novamente: ')  \n",
    "    return float(value)\n",
    "\n",
    "notas = [checkfloat(input(f'Digite a {i+1}ª nota: ')) \n",
    "         for i in range(checkint(input('Digite a quantidade de notas: ')))]\n",
    "\n",
    "print('Sua méia foi {}'.format(sum(notas)/len(notas)))"
   ]
  },
  {
   "cell_type": "markdown",
   "metadata": {},
   "source": [
    "___\n",
    "___\n",
    "\n",
    "### Vamos a um exercício que utilizada tudo o que vimos até então?"
   ]
  },
  {
   "cell_type": "code",
   "execution_count": null,
   "metadata": {},
   "outputs": [],
   "source": [
    "# desafio 3, lista 2\n"
   ]
  }
 ],
 "metadata": {
  "kernelspec": {
   "display_name": "Python 3",
   "language": "python",
   "name": "python3"
  },
  "language_info": {
   "codemirror_mode": {
    "name": "ipython",
    "version": 3
   },
   "file_extension": ".py",
   "mimetype": "text/x-python",
   "name": "python",
   "nbconvert_exporter": "python",
   "pygments_lexer": "ipython3",
   "version": "3.8.3"
  }
 },
 "nbformat": 4,
 "nbformat_minor": 4
}
