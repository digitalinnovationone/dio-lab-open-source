{
 "cells": [
  {
   "cell_type": "markdown",
   "metadata": {},
   "source": [
    "# Avaliação módulo 1 - Degree Data Science\n",
    "\n",
    "Na empresa em que você trabalha foi solicitada a implementação de um sistema de cadastro dos fornecedores. As informações que devem ser cadastradas são:\n",
    "\n",
    "- Código do fornecedor;\n",
    "- Nome do fornecedor;\n",
    "- Telefone do fornecedor;\n",
    "- Email do fornecedor.\n",
    "\n",
    "Para isso, você deverá criar um script para armazenar essas informações em alguma estrutura de dados.\n",
    "\n",
    "Também como parte do sistema de cadastro, é necessário criar uma \"interface de navegação\" pelo sistema, que tenha as seguintes funcionalidades:\n",
    "\n",
    "- Permite a exibição (usando o `print`) de todas as informaçoes de contatos específicos, a partir da busca pelo código do fornecedor;\n",
    "- Permite a remoção e adição de fornecedores à estrutura de cadastro.\n",
    "\n",
    "Requisitos:\n",
    "\n",
    "- Requisito #1 - Não existe um limite para fornecedores cadastrados, portanto você deverá permitir que o usuário cadastre a quantidade que desejar.\n",
    "- Requisito #2 - Crie pelo menos uma função em seu script. Você deverá escolher pelo menos uma tarefa do seu script e implementar em uma função para chamá-la dentro da sua lógica de cadastro.\n",
    "- Requisito #3 - Crie pelo menos uma verificação em seu código, por exemplo: Se o dicionário estiver vazio, não permita a opção remover.\n",
    "\n",
    "Tópicos avaliados:\n",
    "\n",
    "- Variáveis;\n",
    "- Tipos de dados;\n",
    "- Operadores aritméticos;\n",
    "- I/O de dados;\n",
    "- Expressões lógicas e condicionais;\n",
    "- Laços de repetição;\n",
    "- Listas e dicionários;\n",
    "- Funções.\n"
   ]
  },
  {
   "cell_type": "code",
   "execution_count": null,
   "metadata": {},
   "outputs": [],
   "source": []
  }
 ],
 "metadata": {
  "kernelspec": {
   "display_name": "Python 3",
   "language": "python",
   "name": "python3"
  },
  "language_info": {
   "codemirror_mode": {
    "name": "ipython",
    "version": 3
   },
   "file_extension": ".py",
   "mimetype": "text/x-python",
   "name": "python",
   "nbconvert_exporter": "python",
   "pygments_lexer": "ipython3",
   "version": "3.8.3"
  }
 },
 "nbformat": 4,
 "nbformat_minor": 4
}
