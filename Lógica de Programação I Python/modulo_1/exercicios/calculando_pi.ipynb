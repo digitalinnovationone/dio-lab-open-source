{
 "cells": [
  {
   "cell_type": "markdown",
   "metadata": {},
   "source": [
    "## Aproximando o valor de Pi com Monte Carlo\n",
    "\n",
    "É possível aproximar o valor de pi utilizando números aleatórios, em uma abordagem que se utiliza do método de [Monte Carlo](https://en.wikipedia.org/wiki/Monte_Carlo_method).\n",
    "\n",
    "A ideia é bem simples: desenhamos uma circunferência inscrita em um quadrado de lado $L$. \n",
    "\n",
    "De fato, a área do quadrado é $A_q = L^2$;\n",
    "\n",
    "E a área do círculo é $A_c = \\pi r^2 = \\pi L^2/4$ (note que, sendo o círculo inscrito ao quadrado, temos que seu raio é a metade do lado, isto é, $r = L/2$).\n",
    "\n",
    "Desta forma, temos que:\n",
    "\n",
    "$$A_c = \\frac{\\pi}{4}L^2 = \\frac{\\pi}{4} \\left ( A_q \\right ) = \\frac{A_q}{4} \\pi \\Rightarrow $$\n",
    "\n",
    "$$\\frac{4}{A_q}\\left ( A_c \\right ) = \\pi \\Rightarrow $$\n",
    "\n",
    "$$\\boxed{\\pi = 4 \\frac{A_c}{A_q}}$$\n",
    "\n",
    "Ou seja, se tivermos a razão entre a área do círculo e a área do quadrado, e multiplicarmos esta razão por 4, teremos o valor de $\\pi$!\n",
    "\n",
    "A ideia do algoritmo de Monte Carlo é a seguinte: aproximar a razão $\\frac{A_c}{A_q}$ utilizando números aleatórios!\n",
    "\n",
    "Vamos sortear um par de números aleatórios $(x, y)$ dentro da região $[0, 1] \\times [0, 1]$. Ou seja, $x \\in [0, 1]$ será um número aleatório sorteado, bem como $y \\in [0, 1]$ (isso corresponde a pegarmos um quadrado de lado $L=1$ como o espaço amostral para o par $(x, y)$).\n",
    "\n",
    "A equação que define a região interna da circunferência (de raio $r=0.5$), que é centrada no ponto $(0.5, 0.5)$ (desenhe pra enxergar isso!) é dada por:\n",
    "\n",
    "$(x-0.5)^2 + (y-0.5)^2 < 0.5^2$\n",
    "\n",
    "Por tanto, se o ponto sorteado $(x, y)$ for tal que satisfaz a inequação acima, sabemos que ele está no interior da circunferência! Por outro lado, se tivermos:\n",
    "\n",
    "$(x-0.5)^2 + (y-0.5)^2 > 0.5^2$ , \n",
    "\n",
    "temos que o ponto sorteado está na região externa à circunferência (mas, garantidamente dentro do quadrado, dado o espaço amostral de $x$ e $y$!\n",
    "\n",
    "Assim, note que os pontos que caem nesta região externa ($(x-0.5)^2 + (y-0.5)^2 > 0.5^2$), contribuem para a área do quadrado, mas NÃO contribuem para a área do círculo! Analogamente, os pontos que caem na região interna ($(x-0.5)^2 + (y-0.5)^2 < 0.5^2$), contribuem para ambas as áreas. \n",
    "\n",
    "Ou seja, no limite em que muitos pontos são sorteados, podemos aproximar $A_c$ pela quantidade de pontos que estão na região interior à circunferência, e $A_q$ por ambos os pontos dentro e fora da circunferência (ou seja, todos os pontos que são selecionados). Desta maneira, podemos aproximar $\\pi$ pela seguinte relação:\n",
    "\n",
    "$$\\boxed{\\pi \\approx 4 \\left ( \\frac{\\text{# pontos dentro da circunferência}}{\\text{# total de pontos sorteados}} \\right )}$$\n"
   ]
  },
  {
   "cell_type": "code",
   "execution_count": 6,
   "metadata": {
    "ExecuteTime": {
     "end_time": "2021-11-04T02:11:07.066331Z",
     "start_time": "2021-11-04T02:11:07.048353Z"
    }
   },
   "outputs": [],
   "source": [
    "import random\n",
    "\n",
    "def check_interior(dentro):\n",
    "    \n",
    "    x, y = random.random(), random.random()\n",
    "\n",
    "    if (x-0.5)**2 + (y-0.5)**2 <= (0.5)**2:\n",
    "\n",
    "        dentro += 1\n",
    "        \n",
    "    return dentro\n",
    "\n",
    "def pi_mc(N, step=10):\n",
    "    '''\n",
    "    estima pi com base em N pontos sampleados aleatoriamente\n",
    "    '''\n",
    "    \n",
    "    dentro = 0\n",
    "    \n",
    "    pi_aproxs = {}\n",
    "    \n",
    "    for i in range(N):\n",
    "\n",
    "        dentro = check_interior(dentro)\n",
    "\n",
    "        # atualiza o dicionário a cada \"step\" iterações\n",
    "        if i % step == 0 and i != 0:\n",
    "            \n",
    "            pi_aproxs[i] = 4*dentro/i\n",
    "\n",
    "    return pi_aproxs"
   ]
  },
  {
   "cell_type": "code",
   "execution_count": 7,
   "metadata": {
    "ExecuteTime": {
     "end_time": "2021-11-04T02:11:07.764006Z",
     "start_time": "2021-11-04T02:11:07.739025Z"
    }
   },
   "outputs": [],
   "source": [
    "pi_aproxs = pi_mc(10000)"
   ]
  },
  {
   "cell_type": "code",
   "execution_count": 8,
   "metadata": {
    "ExecuteTime": {
     "end_time": "2021-11-04T02:11:08.591242Z",
     "start_time": "2021-11-04T02:11:08.355238Z"
    }
   },
   "outputs": [
    {
     "data": {
      "image/png": "[encoded data removed]",
      "text/plain": [
       "<Figure size 864x360 with 1 Axes>"
      ]
     },
     "metadata": {
      "needs_background": "light"
     },
     "output_type": "display_data"
    }
   ],
   "source": [
    "import matplotlib.pyplot as plt\n",
    "import math\n",
    "\n",
    "plt.figure(figsize=(12, 5))\n",
    "\n",
    "plt.plot(list(pi_aproxs.keys()), list(pi_aproxs.values()), label=\"proxy de $\\pi$\")\n",
    "\n",
    "plt.axhline(y=math.pi, color=\"red\", label=\"$\\pi$ real\")\n",
    "\n",
    "plt.legend()\n",
    "plt.show()"
   ]
  }
 ],
 "metadata": {
  "kernelspec": {
   "display_name": "Python 3",
   "language": "python",
   "name": "python3"
  },
  "language_info": {
   "codemirror_mode": {
    "name": "ipython",
    "version": 3
   },
   "file_extension": ".py",
   "mimetype": "text/x-python",
   "name": "python",
   "nbconvert_exporter": "python",
   "pygments_lexer": "ipython3",
   "version": "3.8.3"
  }
 },
 "nbformat": 4,
 "nbformat_minor": 4
}
