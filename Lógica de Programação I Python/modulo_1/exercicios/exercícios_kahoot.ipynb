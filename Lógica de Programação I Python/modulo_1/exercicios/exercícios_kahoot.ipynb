{
 "cells": [
  {
   "cell_type": "markdown",
   "metadata": {},
   "source": [
    "# Exercícios kahoot\n",
    "\n",
    "_________"
   ]
  },
  {
   "cell_type": "markdown",
   "metadata": {},
   "source": [
    "**1) São tipos de dados em Python:**\n",
    "\n",
    "- a) Numbers, Bool e For\n",
    "- b) Bool, String e While\n",
    "- c) Dict, For e Numbers\n",
    "- *d) Dict, List e Bool\n"
   ]
  },
  {
   "cell_type": "code",
   "execution_count": 1,
   "metadata": {
    "ExecuteTime": {
     "end_time": "2021-11-04T02:17:05.415006Z",
     "start_time": "2021-11-04T02:17:05.391018Z"
    }
   },
   "outputs": [
    {
     "data": {
      "text/plain": [
       "(dict, list, bool)"
      ]
     },
     "execution_count": 1,
     "metadata": {},
     "output_type": "execute_result"
    }
   ],
   "source": [
    "dict, list, bool"
   ]
  },
  {
   "cell_type": "markdown",
   "metadata": {},
   "source": [
    "_________________"
   ]
  },
  {
   "cell_type": "markdown",
   "metadata": {},
   "source": [
    "**2) Pensando no trecho abaixo, o que será exibido?**\n",
    "\n",
    "```python\n",
    "a, *b, c, d = [0, 1, 2, 3, 4][::-1]\n",
    "\n",
    "print(a, b, c, d)\n",
    "```\n",
    "\n",
    "- a) 0, [1, 2], 3, 4\n",
    "- *b) 4 [3, 2] 1 0\n",
    "- c) 0 [1, 2] 3 4\n",
    "- d) 4, [3, 2], 1, 0"
   ]
  },
  {
   "cell_type": "code",
   "execution_count": 2,
   "metadata": {
    "ExecuteTime": {
     "end_time": "2021-11-04T02:18:20.158389Z",
     "start_time": "2021-11-04T02:18:20.144393Z"
    },
    "scrolled": true
   },
   "outputs": [
    {
     "name": "stdout",
     "output_type": "stream",
     "text": [
      "4 [3, 2] 1 0\n"
     ]
    }
   ],
   "source": [
    "a, *b, c, d = [0, 1, 2, 3, 4][::-1]\n",
    "\n",
    "print(a, b, c, d)"
   ]
  },
  {
   "cell_type": "markdown",
   "metadata": {},
   "source": [
    "_________________"
   ]
  },
  {
   "cell_type": "markdown",
   "metadata": {},
   "source": [
    "**3) Saída esperada?**\n",
    "\n",
    "```python\n",
    "var = \"OláMundo\"\n",
    "\n",
    "print(var[2::-1])\n",
    "```\n",
    "\n",
    "- a) MálO\n",
    "- b) Olá\n",
    "- *c) álO\n",
    "- d) OláM"
   ]
  },
  {
   "cell_type": "code",
   "execution_count": 3,
   "metadata": {
    "ExecuteTime": {
     "end_time": "2021-11-04T02:19:54.832976Z",
     "start_time": "2021-11-04T02:19:54.819985Z"
    },
    "scrolled": true
   },
   "outputs": [
    {
     "name": "stdout",
     "output_type": "stream",
     "text": [
      "álO\n"
     ]
    }
   ],
   "source": [
    "var = \"OláMundo\"\n",
    "\n",
    "print(var[2::-1])"
   ]
  },
  {
   "cell_type": "markdown",
   "metadata": {},
   "source": [
    "_________________"
   ]
  },
  {
   "cell_type": "markdown",
   "metadata": {},
   "source": [
    "**4) Imagine que valores diversos podem estar em \"a\", \"b\" e \"c\"**\n",
    "\n",
    "```python\n",
    "# qual o output de \"a\"?\n",
    "a = b*c\n",
    "```\n",
    "\n",
    "- a) [1, 2, 1, 2]\n",
    "- b) Nenhuma das opções\n",
    "- c) \"OláOlá\"\n",
    "- *d) Duas das opções"
   ]
  },
  {
   "cell_type": "code",
   "execution_count": 4,
   "metadata": {
    "ExecuteTime": {
     "end_time": "2021-11-04T02:21:54.270170Z",
     "start_time": "2021-11-04T02:21:54.261175Z"
    },
    "scrolled": true
   },
   "outputs": [
    {
     "data": {
      "text/plain": [
       "[1, 2, 1, 2]"
      ]
     },
     "execution_count": 4,
     "metadata": {},
     "output_type": "execute_result"
    }
   ],
   "source": [
    "b = [1, 2]\n",
    "c = 2\n",
    "\n",
    "a = b*c\n",
    "\n",
    "a"
   ]
  },
  {
   "cell_type": "code",
   "execution_count": 5,
   "metadata": {
    "ExecuteTime": {
     "end_time": "2021-11-04T02:22:02.752178Z",
     "start_time": "2021-11-04T02:22:02.736178Z"
    }
   },
   "outputs": [
    {
     "data": {
      "text/plain": [
       "'OláOlá'"
      ]
     },
     "execution_count": 5,
     "metadata": {},
     "output_type": "execute_result"
    }
   ],
   "source": [
    "b = \"Olá\"\n",
    "c = 2\n",
    "\n",
    "a = b*c\n",
    "\n",
    "a"
   ]
  },
  {
   "cell_type": "markdown",
   "metadata": {},
   "source": [
    "_________________"
   ]
  },
  {
   "cell_type": "markdown",
   "metadata": {},
   "source": [
    "**5) Qual o resultado do código abaixo?**\n",
    "\n",
    "```python\n",
    "lista = [\"Programaação\", \"Estatística\", \"Deep Learning\"]\n",
    "lista.append(2, \"Big Data\")\n",
    "print(lista)\n",
    "```\n",
    "\n",
    "- *a) Erro, pois o append só espera um argumento\n",
    "- b) ['Programação', 'Estatística',  'Big Data', 'Deeplearning']\n",
    "- c) ['Programação', 'Big Data', 'Estatística', 'Deeplearning']\n",
    "- d) ['Programação', 'Estatística',  'Big Data']"
   ]
  },
  {
   "cell_type": "code",
   "execution_count": 6,
   "metadata": {
    "ExecuteTime": {
     "end_time": "2021-11-04T02:23:21.036854Z",
     "start_time": "2021-11-04T02:23:20.845509Z"
    },
    "scrolled": true
   },
   "outputs": [
    {
     "ename": "TypeError",
     "evalue": "append() takes exactly one argument (2 given)",
     "output_type": "error",
     "traceback": [
      "\u001b[1;31m---------------------------------------------------------------------------\u001b[0m",
      "\u001b[1;31mTypeError\u001b[0m                                 Traceback (most recent call last)",
      "\u001b[1;32m<ipython-input-6-6714dea72081>\u001b[0m in \u001b[0;36m<module>\u001b[1;34m\u001b[0m\n\u001b[0;32m      1\u001b[0m \u001b[0mlista\u001b[0m \u001b[1;33m=\u001b[0m \u001b[1;33m[\u001b[0m\u001b[1;34m\"Programaação\"\u001b[0m\u001b[1;33m,\u001b[0m \u001b[1;34m\"Estatística\"\u001b[0m\u001b[1;33m,\u001b[0m \u001b[1;34m\"Deep Learning\"\u001b[0m\u001b[1;33m]\u001b[0m\u001b[1;33m\u001b[0m\u001b[1;33m\u001b[0m\u001b[0m\n\u001b[1;32m----> 2\u001b[1;33m \u001b[0mlista\u001b[0m\u001b[1;33m.\u001b[0m\u001b[0mappend\u001b[0m\u001b[1;33m(\u001b[0m\u001b[1;36m2\u001b[0m\u001b[1;33m,\u001b[0m \u001b[1;34m\"Big Data\"\u001b[0m\u001b[1;33m)\u001b[0m\u001b[1;33m\u001b[0m\u001b[1;33m\u001b[0m\u001b[0m\n\u001b[0m\u001b[0;32m      3\u001b[0m \u001b[0mprint\u001b[0m\u001b[1;33m(\u001b[0m\u001b[0mlista\u001b[0m\u001b[1;33m)\u001b[0m\u001b[1;33m\u001b[0m\u001b[1;33m\u001b[0m\u001b[0m\n",
      "\u001b[1;31mTypeError\u001b[0m: append() takes exactly one argument (2 given)"
     ]
    }
   ],
   "source": [
    "lista = [\"Programaação\", \"Estatística\", \"Deep Learning\"]\n",
    "lista.append(2, \"Big Data\")\n",
    "print(lista)"
   ]
  },
  {
   "cell_type": "markdown",
   "metadata": {},
   "source": [
    "_________________"
   ]
  },
  {
   "cell_type": "markdown",
   "metadata": {},
   "source": [
    "**6) Qual a saída esperada?**\n",
    "\n",
    "```python\n",
    "a = 4**2\n",
    "b = 4**3\n",
    "c = 4**0.5\n",
    "\n",
    "print(a, b, c)\n",
    "```\n",
    "\n",
    "- a) 16 64 2\n",
    "- b) 16, 64, 2\n",
    "- *c) 16 64 2.0\n",
    "- d) Error: invalid sintax"
   ]
  },
  {
   "cell_type": "code",
   "execution_count": 8,
   "metadata": {
    "ExecuteTime": {
     "end_time": "2021-11-04T02:25:30.872399Z",
     "start_time": "2021-11-04T02:25:30.852358Z"
    },
    "scrolled": true
   },
   "outputs": [
    {
     "name": "stdout",
     "output_type": "stream",
     "text": [
      "16 64 2.0\n"
     ]
    }
   ],
   "source": [
    "a = 4**2\n",
    "b = 4**3\n",
    "c = 4**0.5\n",
    "\n",
    "print(a, b, c)"
   ]
  },
  {
   "cell_type": "markdown",
   "metadata": {},
   "source": [
    "_________________"
   ]
  },
  {
   "cell_type": "markdown",
   "metadata": {},
   "source": [
    "**7) Qual a saída esperada?**\n",
    "\n",
    "```python\n",
    "x = 0\n",
    "\n",
    "while x < 100:\n",
    "    \n",
    "    x+=3\n",
    "    \n",
    "print(x)\n",
    "```\n",
    "\n",
    "- *a) 102\n",
    "- b) 100\n",
    "- c) 99\n",
    "- d) 97"
   ]
  },
  {
   "cell_type": "code",
   "execution_count": 9,
   "metadata": {
    "ExecuteTime": {
     "end_time": "2021-11-04T02:26:12.060685Z",
     "start_time": "2021-11-04T02:26:12.053689Z"
    },
    "scrolled": true
   },
   "outputs": [
    {
     "name": "stdout",
     "output_type": "stream",
     "text": [
      "102\n"
     ]
    }
   ],
   "source": [
    "x = 0\n",
    "\n",
    "while x < 100:\n",
    "    \n",
    "    x+=3\n",
    "    \n",
    "print(x)"
   ]
  },
  {
   "cell_type": "markdown",
   "metadata": {},
   "source": [
    "_________________"
   ]
  },
  {
   "cell_type": "markdown",
   "metadata": {},
   "source": [
    "**8) Qual a saída esperada?**\n",
    "\n",
    "```python\n",
    "for valor in range(-2, 2, 2):\n",
    "    print(valor, end=\" > \")\n",
    "```\n",
    "\n",
    "- a) -2>0> \n",
    "- b) Error: invalid sintax\n",
    "- c) -2 > 0 \n",
    "- *d) -2 > 0 > "
   ]
  },
  {
   "cell_type": "code",
   "execution_count": 10,
   "metadata": {
    "ExecuteTime": {
     "end_time": "2021-11-04T02:27:14.309935Z",
     "start_time": "2021-11-04T02:27:14.293945Z"
    },
    "scrolled": true
   },
   "outputs": [
    {
     "name": "stdout",
     "output_type": "stream",
     "text": [
      "-2 > 0 > "
     ]
    }
   ],
   "source": [
    "for valor in range(-2, 2, 2):\n",
    "    print(valor, end=\" > \")"
   ]
  },
  {
   "cell_type": "markdown",
   "metadata": {},
   "source": [
    "_________________"
   ]
  },
  {
   "cell_type": "markdown",
   "metadata": {},
   "source": [
    "**9) Como posso remover o 'status'?**\n",
    "\n",
    "```python\n",
    "estudante = {\"nome\" : \"Kuma\",\n",
    "             \"nota1\" : 8,\n",
    "             \"nota2\" : 7,\n",
    "             \"status\" : \"Aprovado\"}\n",
    "```\n",
    "\n",
    "- a) estudante.pop(\"status\")\n",
    "- b) Nenhuma das opções\n",
    "- c) del estudante[\"status\"] \n",
    "- *d) Duas das opções"
   ]
  },
  {
   "cell_type": "code",
   "execution_count": 13,
   "metadata": {
    "ExecuteTime": {
     "end_time": "2021-11-04T02:29:30.943270Z",
     "start_time": "2021-11-04T02:29:30.926301Z"
    }
   },
   "outputs": [
    {
     "name": "stdout",
     "output_type": "stream",
     "text": [
      "{'nome': 'Kuma', 'nota1': 8, 'nota2': 7, 'status': 'Aprovado'}\n",
      "{'nome': 'Kuma', 'nota1': 8, 'nota2': 7}\n"
     ]
    }
   ],
   "source": [
    "estudante = {\"nome\" : \"Kuma\",\n",
    "             \"nota1\" : 8,\n",
    "             \"nota2\" : 7,\n",
    "             \"status\" : \"Aprovado\"}\n",
    "\n",
    "print(estudante)\n",
    "\n",
    "del estudante[\"status\"]\n",
    "\n",
    "print(estudante)"
   ]
  },
  {
   "cell_type": "code",
   "execution_count": 12,
   "metadata": {
    "ExecuteTime": {
     "end_time": "2021-11-04T02:29:20.777726Z",
     "start_time": "2021-11-04T02:29:20.760736Z"
    },
    "scrolled": true
   },
   "outputs": [
    {
     "name": "stdout",
     "output_type": "stream",
     "text": [
      "{'nome': 'Kuma', 'nota1': 8, 'nota2': 7, 'status': 'Aprovado'}\n",
      "{'nome': 'Kuma', 'nota1': 8, 'nota2': 7}\n"
     ]
    }
   ],
   "source": [
    "estudante = {\"nome\" : \"Kuma\",\n",
    "             \"nota1\" : 8,\n",
    "             \"nota2\" : 7,\n",
    "             \"status\" : \"Aprovado\"}\n",
    "\n",
    "print(estudante)\n",
    "\n",
    "estudante.pop(\"status\")\n",
    "\n",
    "print(estudante)"
   ]
  },
  {
   "cell_type": "markdown",
   "metadata": {},
   "source": [
    "_________________"
   ]
  },
  {
   "cell_type": "markdown",
   "metadata": {},
   "source": [
    "**10) Qual a saída esperada?**\n",
    "\n",
    "```python\n",
    "valor = 1\n",
    "\n",
    "def print_valor(valor=2):\n",
    "    \n",
    "    print(\"valor:\", valor, end=\" \")\n",
    "    \n",
    "print_valor()\n",
    "print_valor(None)\n",
    "print_valor(3)\n",
    "```\n",
    "\n",
    "- a) valor: 1 valor: None valor: 3\n",
    "- b) Error: invalid sintax\n",
    "- c) valor: 2 valor: 2 valor: 3\n",
    "- *d) valor: 2 valor: None valor: 3"
   ]
  },
  {
   "cell_type": "code",
   "execution_count": 14,
   "metadata": {
    "ExecuteTime": {
     "end_time": "2021-11-04T02:31:13.675117Z",
     "start_time": "2021-11-04T02:31:13.655130Z"
    }
   },
   "outputs": [
    {
     "name": "stdout",
     "output_type": "stream",
     "text": [
      "valor: 2 valor: None valor: 3 "
     ]
    }
   ],
   "source": [
    "valor = 1\n",
    "\n",
    "def print_valor(valor=2):\n",
    "    \n",
    "    print(\"valor:\", valor, end=\" \")\n",
    "    \n",
    "print_valor()\n",
    "print_valor(None)\n",
    "print_valor(3)"
   ]
  },
  {
   "cell_type": "markdown",
   "metadata": {},
   "source": [
    "_________________"
   ]
  }
 ],
 "metadata": {
  "kernelspec": {
   "display_name": "Python 3",
   "language": "python",
   "name": "python3"
  },
  "language_info": {
   "codemirror_mode": {
    "name": "ipython",
    "version": 3
   },
   "file_extension": ".py",
   "mimetype": "text/x-python",
   "name": "python",
   "nbconvert_exporter": "python",
   "pygments_lexer": "ipython3",
   "version": "3.8.3"
  }
 },
 "nbformat": 4,
 "nbformat_minor": 4
}
