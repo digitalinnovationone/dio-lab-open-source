{
 "cells": [
  {
   "cell_type": "markdown",
   "metadata": {},
   "source": [
    "# Lista 7 - Funções"
   ]
  },
  {
   "cell_type": "markdown",
   "metadata": {},
   "source": [
    "1.Faça uma função que recebe um número e imprime seu dobro. \n",
    "\n"
   ]
  },
  {
   "cell_type": "code",
   "execution_count": null,
   "metadata": {},
   "outputs": [],
   "source": []
  },
  {
   "cell_type": "markdown",
   "metadata": {},
   "source": [
    "2.Faça uma função que recebe o valor do raio de um círculo e retorna o valor do comprimento de sua circunferência: $C = 2\\pi r$.  \n",
    " "
   ]
  },
  {
   "cell_type": "code",
   "execution_count": null,
   "metadata": {},
   "outputs": [],
   "source": []
  },
  {
   "cell_type": "markdown",
   "metadata": {},
   "source": [
    "\n",
    "3.Faça uma função para cada operação matemática básica (soma, subtração, multiplicação e divisão). As funções devem receber dois números e retornar o resultado da operação. \n",
    "\n"
   ]
  },
  {
   "cell_type": "code",
   "execution_count": null,
   "metadata": {},
   "outputs": [],
   "source": []
  },
  {
   "cell_type": "markdown",
   "metadata": {},
   "source": [
    "4.Faça uma função que recebe um nome e imprime “olá, [nome]”. \n"
   ]
  },
  {
   "cell_type": "code",
   "execution_count": null,
   "metadata": {},
   "outputs": [],
   "source": []
  },
  {
   "cell_type": "markdown",
   "metadata": {},
   "source": [
    "5.Faça uma função que recebe um nome e um horário e imprime “Bom dia, [nome]”, caso seja antes de 12h, “Boa Tarde, [nome]”, caso seja entre 12h e 18h e “Boa noite, [nome]” se for após às 18h. \n"
   ]
  },
  {
   "cell_type": "code",
   "execution_count": null,
   "metadata": {},
   "outputs": [],
   "source": []
  },
  {
   "cell_type": "markdown",
   "metadata": {},
   "source": [
    "\n",
    "6.Faça uma função que recebe um número e retorna True se ele é par ou False, se ele é ímpar. \n",
    "\n"
   ]
  },
  {
   "cell_type": "code",
   "execution_count": 6,
   "metadata": {
    "ExecuteTime": {
     "end_time": "2021-11-11T22:23:05.233787Z",
     "start_time": "2021-11-11T22:23:05.215796Z"
    }
   },
   "outputs": [],
   "source": [
    "# vamos fazer esse\n",
    "\n",
    "def eh_par_v1(num):\n",
    "    \n",
    "    return True if num % 2 == 0 else False"
   ]
  },
  {
   "cell_type": "code",
   "execution_count": 2,
   "metadata": {
    "ExecuteTime": {
     "end_time": "2021-11-11T22:21:38.158855Z",
     "start_time": "2021-11-11T22:21:38.147858Z"
    }
   },
   "outputs": [
    {
     "data": {
      "text/plain": [
       "True"
      ]
     },
     "execution_count": 2,
     "metadata": {},
     "output_type": "execute_result"
    }
   ],
   "source": [
    "num = 4\n",
    "\n",
    "True if num % 2 == 0 else False"
   ]
  },
  {
   "cell_type": "code",
   "execution_count": 13,
   "metadata": {
    "ExecuteTime": {
     "end_time": "2021-11-11T22:25:10.741570Z",
     "start_time": "2021-11-11T22:25:10.720585Z"
    }
   },
   "outputs": [
    {
     "data": {
      "text/plain": [
       "(False, True)"
      ]
     },
     "execution_count": 13,
     "metadata": {},
     "output_type": "execute_result"
    }
   ],
   "source": [
    "eh_par_v1(203213), eh_par_v1(2032136)"
   ]
  },
  {
   "cell_type": "code",
   "execution_count": 9,
   "metadata": {
    "ExecuteTime": {
     "end_time": "2021-11-11T22:24:26.374540Z",
     "start_time": "2021-11-11T22:24:26.364546Z"
    }
   },
   "outputs": [],
   "source": [
    "def eh_par_v2(num):\n",
    "    \n",
    "    return num % 2 == 0"
   ]
  },
  {
   "cell_type": "code",
   "execution_count": 8,
   "metadata": {
    "ExecuteTime": {
     "end_time": "2021-11-11T22:23:45.182839Z",
     "start_time": "2021-11-11T22:23:45.160859Z"
    }
   },
   "outputs": [
    {
     "data": {
      "text/plain": [
       "False"
      ]
     },
     "execution_count": 8,
     "metadata": {},
     "output_type": "execute_result"
    }
   ],
   "source": [
    "num = 3\n",
    "\n",
    "num % 2 == 0"
   ]
  },
  {
   "cell_type": "code",
   "execution_count": 12,
   "metadata": {
    "ExecuteTime": {
     "end_time": "2021-11-11T22:25:02.059512Z",
     "start_time": "2021-11-11T22:25:02.041521Z"
    }
   },
   "outputs": [
    {
     "data": {
      "text/plain": [
       "(False, True)"
      ]
     },
     "execution_count": 12,
     "metadata": {},
     "output_type": "execute_result"
    }
   ],
   "source": [
    "eh_par_v2(203213), eh_par_v2(2032136)"
   ]
  },
  {
   "cell_type": "markdown",
   "metadata": {},
   "source": [
    "Função lambda, tbm conhecida como \"função anônima\""
   ]
  },
  {
   "cell_type": "code",
   "execution_count": 17,
   "metadata": {
    "ExecuteTime": {
     "end_time": "2021-11-11T22:28:28.727822Z",
     "start_time": "2021-11-11T22:28:28.714832Z"
    }
   },
   "outputs": [
    {
     "data": {
      "text/plain": [
       "True"
      ]
     },
     "execution_count": 17,
     "metadata": {},
     "output_type": "execute_result"
    }
   ],
   "source": [
    "(lambda num: num % 2 == 0)(2032136)"
   ]
  },
  {
   "cell_type": "code",
   "execution_count": 18,
   "metadata": {
    "ExecuteTime": {
     "end_time": "2021-11-11T22:29:13.670070Z",
     "start_time": "2021-11-11T22:29:13.664074Z"
    }
   },
   "outputs": [],
   "source": [
    "eh_par_v3 = lambda num: num % 2 == 0"
   ]
  },
  {
   "cell_type": "code",
   "execution_count": 20,
   "metadata": {
    "ExecuteTime": {
     "end_time": "2021-11-11T22:29:33.898573Z",
     "start_time": "2021-11-11T22:29:33.887574Z"
    }
   },
   "outputs": [
    {
     "data": {
      "text/plain": [
       "(False, True)"
      ]
     },
     "execution_count": 20,
     "metadata": {},
     "output_type": "execute_result"
    }
   ],
   "source": [
    "eh_par_v3(203213), eh_par_v3(2032136)"
   ]
  },
  {
   "cell_type": "code",
   "execution_count": 21,
   "metadata": {
    "ExecuteTime": {
     "end_time": "2021-11-11T22:38:40.347112Z",
     "start_time": "2021-11-11T22:38:40.328125Z"
    }
   },
   "outputs": [
    {
     "data": {
      "text/plain": [
       "function"
      ]
     },
     "execution_count": 21,
     "metadata": {},
     "output_type": "execute_result"
    }
   ],
   "source": [
    "type(eh_par_v3)"
   ]
  },
  {
   "cell_type": "code",
   "execution_count": 23,
   "metadata": {
    "ExecuteTime": {
     "end_time": "2021-11-11T22:38:57.661929Z",
     "start_time": "2021-11-11T22:38:57.650936Z"
    }
   },
   "outputs": [
    {
     "data": {
      "text/plain": [
       "bool"
      ]
     },
     "execution_count": 23,
     "metadata": {},
     "output_type": "execute_result"
    }
   ],
   "source": [
    "type(eh_par_v3(203213))"
   ]
  },
  {
   "cell_type": "markdown",
   "metadata": {},
   "source": [
    "7.Faça uma função que sorteia 10 números aleatórios entre 0 e 100 e retorna o maior entre eles. \n",
    "\n"
   ]
  },
  {
   "cell_type": "code",
   "execution_count": 4,
   "metadata": {
    "ExecuteTime": {
     "end_time": "2021-11-11T22:57:01.590320Z",
     "start_time": "2021-11-11T22:57:01.577328Z"
    }
   },
   "outputs": [],
   "source": [
    "# vamos fazer esse\n",
    "\n",
    "import random\n",
    "\n",
    "def maximo_aleatorio():\n",
    "    \n",
    "    lista = random.sample(population=range(0, 101), k=10)\n",
    "    \n",
    "    print(lista)\n",
    "    \n",
    "    return max(lista)"
   ]
  },
  {
   "cell_type": "code",
   "execution_count": 58,
   "metadata": {
    "ExecuteTime": {
     "end_time": "2021-11-11T22:52:47.894927Z",
     "start_time": "2021-11-11T22:52:47.876931Z"
    }
   },
   "outputs": [
    {
     "name": "stdout",
     "output_type": "stream",
     "text": [
      "[11, 69, 5, 89, 79, 12, 71, 3, 75, 15]\n"
     ]
    },
    {
     "data": {
      "text/plain": [
       "89"
      ]
     },
     "execution_count": 58,
     "metadata": {},
     "output_type": "execute_result"
    }
   ],
   "source": [
    "maximo_aleatorio()"
   ]
  },
  {
   "cell_type": "code",
   "execution_count": 49,
   "metadata": {
    "ExecuteTime": {
     "end_time": "2021-11-11T22:50:40.393491Z",
     "start_time": "2021-11-11T22:50:40.374507Z"
    }
   },
   "outputs": [
    {
     "data": {
      "text/plain": [
       "[57, 32, 54, 15, 87, 93, 13, 27, 16, 18]"
      ]
     },
     "execution_count": 49,
     "metadata": {},
     "output_type": "execute_result"
    }
   ],
   "source": [
    "# gera uma lista de 10 aleatorios entre 0 e 100, SEM REPOSIÇÃO (não pode ter repetidos)\n",
    "\n",
    "random.sample(population=range(0, 101), k=10)"
   ]
  },
  {
   "cell_type": "code",
   "execution_count": 50,
   "metadata": {
    "ExecuteTime": {
     "end_time": "2021-11-11T22:50:49.173605Z",
     "start_time": "2021-11-11T22:50:49.153613Z"
    }
   },
   "outputs": [
    {
     "data": {
      "text/plain": [
       "[54, 76, 12, 38, 64, 58, 59, 44, 70, 91]"
      ]
     },
     "execution_count": 50,
     "metadata": {},
     "output_type": "execute_result"
    }
   ],
   "source": [
    "# gera uma lista de 10 aleatorios entre 0 e 100, COM REPOSIÇÃO (pode ter repetidos)\n",
    "\n",
    "k = 10\n",
    "[random.randint(0, 100) for _ in range(k)]"
   ]
  },
  {
   "cell_type": "code",
   "execution_count": 39,
   "metadata": {
    "ExecuteTime": {
     "end_time": "2021-11-11T22:46:35.912047Z",
     "start_time": "2021-11-11T22:46:35.893079Z"
    }
   },
   "outputs": [
    {
     "data": {
      "text/plain": [
       "78"
      ]
     },
     "execution_count": 39,
     "metadata": {},
     "output_type": "execute_result"
    }
   ],
   "source": [
    "max(lista)"
   ]
  },
  {
   "cell_type": "markdown",
   "metadata": {},
   "source": [
    "8.Faça uma função que recebe um número `n` de entrada, sorteia `n` números aleatórios entre 0 e 100 e retorna a média deles. \n"
   ]
  },
  {
   "cell_type": "code",
   "execution_count": 8,
   "metadata": {
    "ExecuteTime": {
     "end_time": "2021-11-11T22:58:38.329556Z",
     "start_time": "2021-11-11T22:58:38.309574Z"
    }
   },
   "outputs": [],
   "source": [
    "# vamos fazer esse\n",
    "\n",
    "import random\n",
    "\n",
    "def media_aleatoria(n):\n",
    "    \n",
    "    lista = random.sample(population=range(0, 101), k=n)\n",
    "    \n",
    "    print(lista)\n",
    "    \n",
    "    return sum(lista)/len(lista)"
   ]
  },
  {
   "cell_type": "code",
   "execution_count": 18,
   "metadata": {
    "ExecuteTime": {
     "end_time": "2021-11-11T23:03:48.543075Z",
     "start_time": "2021-11-11T23:03:48.527083Z"
    }
   },
   "outputs": [
    {
     "name": "stdout",
     "output_type": "stream",
     "text": [
      "[3, 41, 15, 43, 86, 92, 8, 24, 53, 46, 60, 79, 11, 1, 71, 42, 55, 0, 21, 38, 59, 76, 87, 75, 34, 61, 27, 78, 22, 94, 64, 70, 51, 99, 37, 56, 72, 66, 9, 26, 32, 74, 17, 69, 98, 33, 29, 73, 30, 25, 12, 20, 58, 83, 90, 52, 80, 13, 7, 35, 49, 45, 23, 81, 14, 4, 85, 40, 5, 2, 84, 68, 18, 16, 93, 48, 57, 47, 54, 28, 88, 89, 95, 44, 97, 31, 67, 6, 39, 10, 19, 100, 82, 77, 63, 36, 91, 96, 62, 50, 65]\n"
     ]
    },
    {
     "data": {
      "text/plain": [
       "50.0"
      ]
     },
     "execution_count": 18,
     "metadata": {},
     "output_type": "execute_result"
    }
   ],
   "source": [
    "media_aleatoria(n=101)"
   ]
  },
  {
   "cell_type": "code",
   "execution_count": 13,
   "metadata": {
    "ExecuteTime": {
     "end_time": "2021-11-11T23:00:34.694354Z",
     "start_time": "2021-11-11T23:00:34.684359Z"
    }
   },
   "outputs": [],
   "source": [
    "def media_aleatoria_com_rep(n):\n",
    "    \n",
    "    lista = [random.randint(0, 100) for _ in range(n)]\n",
    "    \n",
    "    print(lista)\n",
    "    \n",
    "    return sum(lista)/len(lista)"
   ]
  },
  {
   "cell_type": "code",
   "execution_count": 19,
   "metadata": {
    "ExecuteTime": {
     "end_time": "2021-11-11T23:04:00.887440Z",
     "start_time": "2021-11-11T23:04:00.870450Z"
    }
   },
   "outputs": [
    {
     "name": "stdout",
     "output_type": "stream",
     "text": [
      "[27, 17, 8, 3, 31, 61, 78, 81, 64, 30, 91, 14, 36, 96, 43, 39, 94, 36, 42, 2, 68, 9, 53, 34, 89, 24, 22, 75, 69, 62, 6, 68, 73, 73, 92, 19, 85, 37, 13, 30, 3, 21, 33, 73, 71, 71, 5, 53, 26, 48, 61, 16, 57, 96, 48, 23, 74, 59, 4, 9, 93, 2, 100, 100, 64, 36, 45, 34, 58, 67, 35, 54, 88, 71, 67, 90, 81, 17, 59, 44, 73, 5, 78, 27, 7, 92, 13, 81, 11, 78, 74, 8, 14, 40, 33, 33, 58, 94, 55, 1, 77, 87, 90, 9, 12, 88, 88, 79, 96, 34, 12, 99, 83, 80, 70, 25, 30, 17, 47, 0, 84, 92, 95, 80, 91, 92, 48, 30, 35, 15, 70, 81, 98, 88, 88, 89, 79, 44, 57, 40, 97, 9, 72, 57, 2, 5, 38, 1, 81, 65, 29, 16, 0, 74, 57, 82, 61, 93, 77, 84, 67, 86, 10, 96, 9, 94, 65, 6, 12, 97, 82, 33, 72, 1, 39, 75, 70, 52, 26, 76, 71, 94, 32, 13, 76, 15, 78, 92, 69, 90, 36, 56, 62, 80, 0, 50, 68, 92, 66, 44]\n"
     ]
    },
    {
     "data": {
      "text/plain": [
       "52.98"
      ]
     },
     "execution_count": 19,
     "metadata": {},
     "output_type": "execute_result"
    }
   ],
   "source": [
    "media_aleatoria_com_rep(n=200)"
   ]
  },
  {
   "cell_type": "markdown",
   "metadata": {},
   "source": [
    "\n",
    "9.Faça uma função que recebe uma lista de palavras e retorna uma lista contendo as mesmas palavras da lista anterior, porém escritas em caixa alta. \n"
   ]
  },
  {
   "cell_type": "code",
   "execution_count": 71,
   "metadata": {
    "ExecuteTime": {
     "end_time": "2021-11-11T23:35:46.042912Z",
     "start_time": "2021-11-11T23:35:46.028915Z"
    }
   },
   "outputs": [
    {
     "data": {
      "text/plain": [
       "['PYTHON', \"LET'S CODE\", 'ANDRE']"
      ]
     },
     "execution_count": 71,
     "metadata": {},
     "output_type": "execute_result"
    }
   ],
   "source": [
    "# vamos fazer esse\n",
    "\n",
    "lista = [\"python\", \"let's code\", \"andre\"]\n",
    "\n",
    "[elemento.upper() for elemento in lista]"
   ]
  },
  {
   "cell_type": "code",
   "execution_count": 72,
   "metadata": {
    "ExecuteTime": {
     "end_time": "2021-11-11T23:36:44.978615Z",
     "start_time": "2021-11-11T23:36:44.968609Z"
    }
   },
   "outputs": [],
   "source": [
    "def palavras_maiusculas(lista):\n",
    "    \n",
    "    return [elemento.upper() for elemento in lista]"
   ]
  },
  {
   "cell_type": "code",
   "execution_count": 74,
   "metadata": {
    "ExecuteTime": {
     "end_time": "2021-11-11T23:37:20.738410Z",
     "start_time": "2021-11-11T23:37:20.727418Z"
    }
   },
   "outputs": [
    {
     "data": {
      "text/plain": [
       "['python', 'andre', \"let's_code\"]"
      ]
     },
     "execution_count": 74,
     "metadata": {},
     "output_type": "execute_result"
    }
   ],
   "source": [
    "\"python andre let's_code\".split()"
   ]
  },
  {
   "cell_type": "code",
   "execution_count": 73,
   "metadata": {
    "ExecuteTime": {
     "end_time": "2021-11-11T23:37:06.088444Z",
     "start_time": "2021-11-11T23:37:06.079452Z"
    }
   },
   "outputs": [
    {
     "data": {
      "text/plain": [
       "['PYTHON', 'ANDRE', \"LET'S_CODE\"]"
      ]
     },
     "execution_count": 73,
     "metadata": {},
     "output_type": "execute_result"
    }
   ],
   "source": [
    "palavras_maiusculas(\"python andre let's_code\".split())"
   ]
  },
  {
   "cell_type": "markdown",
   "metadata": {},
   "source": [
    "\n",
    "10.Faça uma função que recebe duas listas e retorna a soma item a item dessas listas. Exemplo: Se a função receber as listas [1,4,3] e [3,5,1], então a função deve retornar [1+3, 4+5, 3+1] = [4, 9, 4]. \n",
    "\n",
    "\n"
   ]
  },
  {
   "cell_type": "code",
   "execution_count": null,
   "metadata": {},
   "outputs": [],
   "source": []
  },
  {
   "cell_type": "markdown",
   "metadata": {},
   "source": [
    "11.Faça uma função que receba duas listas e retorne o produto item a item dessas listas.\n",
    "Exemplo: Se a função receber as listas [1,4,3] e [3,5,1], então a função deve retornar [1x3, 4x5, 3x1] = [3, 20, 3]. \n",
    "\n"
   ]
  },
  {
   "cell_type": "code",
   "execution_count": 24,
   "metadata": {
    "ExecuteTime": {
     "end_time": "2021-11-11T23:08:30.085730Z",
     "start_time": "2021-11-11T23:08:30.064742Z"
    }
   },
   "outputs": [
    {
     "name": "stdout",
     "output_type": "stream",
     "text": [
      "Erro! Comprimentos diferentes!\n"
     ]
    }
   ],
   "source": [
    "# vamos fazer esse\n",
    "\n",
    "lista1 = [1,4,3]\n",
    "lista2 = [3,5,1]\n",
    "\n",
    "if len(lista1) == len(lista2):\n",
    "    \n",
    "    lista_produto = [lista1[i]*lista2[i] for i in range(len(lista1))]\n",
    "    \n",
    "else: \n",
    "    \n",
    "    print(\"Erro! Comprimentos diferentes!\")\n"
   ]
  },
  {
   "cell_type": "code",
   "execution_count": 51,
   "metadata": {
    "ExecuteTime": {
     "end_time": "2021-11-11T23:23:34.361760Z",
     "start_time": "2021-11-11T23:23:34.344770Z"
    }
   },
   "outputs": [
    {
     "data": {
      "text/plain": [
       "'Erro! Comprimentos diferentes!'"
      ]
     },
     "execution_count": 51,
     "metadata": {},
     "output_type": "execute_result"
    }
   ],
   "source": [
    "lista1 = [1,4,3]\n",
    "lista2 = [3,5,1,0]\n",
    "\n",
    "resposta = ([lista1[i]*lista2[i] for i in range(len(lista1))]\n",
    "            if len(lista1) == len(lista2)\n",
    "            else \"Erro! Comprimentos diferentes!\")\n",
    "\n",
    "resposta"
   ]
  },
  {
   "cell_type": "code",
   "execution_count": 52,
   "metadata": {
    "ExecuteTime": {
     "end_time": "2021-11-11T23:23:34.579639Z",
     "start_time": "2021-11-11T23:23:34.570641Z"
    }
   },
   "outputs": [],
   "source": [
    "def produto_listas(lista1, lista2):\n",
    "    \n",
    "    return ([lista1[i]*lista2[i] for i in range(len(lista1))]\n",
    "            if len(lista1) == len(lista2)\n",
    "            else \"Erro! Comprimentos diferentes!\")"
   ]
  },
  {
   "cell_type": "code",
   "execution_count": 53,
   "metadata": {
    "ExecuteTime": {
     "end_time": "2021-11-11T23:23:34.827496Z",
     "start_time": "2021-11-11T23:23:34.804506Z"
    }
   },
   "outputs": [
    {
     "data": {
      "text/plain": [
       "'Erro! Comprimentos diferentes!'"
      ]
     },
     "execution_count": 53,
     "metadata": {},
     "output_type": "execute_result"
    }
   ],
   "source": [
    "lista1 = [1,4,3]\n",
    "lista2 = [3,5,1,0]\n",
    "\n",
    "produto_listas(lista1, lista2)"
   ]
  },
  {
   "cell_type": "code",
   "execution_count": 54,
   "metadata": {
    "ExecuteTime": {
     "end_time": "2021-11-11T23:23:35.074352Z",
     "start_time": "2021-11-11T23:23:35.067357Z"
    }
   },
   "outputs": [
    {
     "data": {
      "text/plain": [
       "[3, 20, 3]"
      ]
     },
     "execution_count": 54,
     "metadata": {},
     "output_type": "execute_result"
    }
   ],
   "source": [
    "lista1 = [1,4,3]\n",
    "lista2 = [3,5,1]\n",
    "\n",
    "produto_listas(lista1, lista2)"
   ]
  },
  {
   "cell_type": "code",
   "execution_count": 55,
   "metadata": {
    "ExecuteTime": {
     "end_time": "2021-11-11T23:23:35.444887Z",
     "start_time": "2021-11-11T23:23:35.437892Z"
    }
   },
   "outputs": [],
   "source": [
    "# obrigado bruno\n",
    "\n",
    "def prod_lista(lista1, lista2):\n",
    "\n",
    "    return [i*j for i, j in zip(lista1, lista2)]"
   ]
  },
  {
   "cell_type": "code",
   "execution_count": 56,
   "metadata": {
    "ExecuteTime": {
     "end_time": "2021-11-11T23:23:36.062528Z",
     "start_time": "2021-11-11T23:23:36.041540Z"
    }
   },
   "outputs": [
    {
     "data": {
      "text/plain": [
       "[3, 20, 3]"
      ]
     },
     "execution_count": 56,
     "metadata": {},
     "output_type": "execute_result"
    }
   ],
   "source": [
    "prod_lista(lista1, lista2)"
   ]
  },
  {
   "cell_type": "code",
   "execution_count": 57,
   "metadata": {
    "ExecuteTime": {
     "end_time": "2021-11-11T23:23:36.581758Z",
     "start_time": "2021-11-11T23:23:36.568768Z"
    }
   },
   "outputs": [
    {
     "data": {
      "text/plain": [
       "([1, 4, 3], [3, 5, 1])"
      ]
     },
     "execution_count": 57,
     "metadata": {},
     "output_type": "execute_result"
    }
   ],
   "source": [
    "lista1, lista2"
   ]
  },
  {
   "cell_type": "code",
   "execution_count": 58,
   "metadata": {
    "ExecuteTime": {
     "end_time": "2021-11-11T23:23:36.972893Z",
     "start_time": "2021-11-11T23:23:36.957897Z"
    }
   },
   "outputs": [
    {
     "data": {
      "text/plain": [
       "[(1, 3), (4, 5), (3, 1)]"
      ]
     },
     "execution_count": 58,
     "metadata": {},
     "output_type": "execute_result"
    }
   ],
   "source": [
    "list(zip(lista1, lista2))"
   ]
  },
  {
   "cell_type": "code",
   "execution_count": 63,
   "metadata": {
    "ExecuteTime": {
     "end_time": "2021-11-11T23:24:02.762567Z",
     "start_time": "2021-11-11T23:24:02.741576Z"
    }
   },
   "outputs": [
    {
     "name": "stdout",
     "output_type": "stream",
     "text": [
      "1 3 3\n",
      "4 5 20\n",
      "3 1 3\n",
      "1 42 42\n",
      "1 21 21\n"
     ]
    }
   ],
   "source": [
    "for i, j in zip(lista1, lista2):\n",
    "    \n",
    "    print(i, j, i*j)"
   ]
  },
  {
   "cell_type": "code",
   "execution_count": 60,
   "metadata": {
    "ExecuteTime": {
     "end_time": "2021-11-11T23:23:37.775101Z",
     "start_time": "2021-11-11T23:23:37.764110Z"
    }
   },
   "outputs": [
    {
     "data": {
      "text/plain": [
       "dict_items([('a', 2), ('b', 3)])"
      ]
     },
     "execution_count": 60,
     "metadata": {},
     "output_type": "execute_result"
    }
   ],
   "source": [
    "# o .items() é um MÉTODO da classe dict, que é tipo um zip, pra dicionarios\n",
    "\n",
    "dic = {\"a\" : 2, \"b\" : 3}\n",
    "\n",
    "dic.items()"
   ]
  },
  {
   "cell_type": "markdown",
   "metadata": {},
   "source": [
    "Caso queiramos tratar as listas que tenham tamanhos diferentes..."
   ]
  },
  {
   "cell_type": "code",
   "execution_count": 61,
   "metadata": {
    "ExecuteTime": {
     "end_time": "2021-11-11T23:23:38.402742Z",
     "start_time": "2021-11-11T23:23:38.386752Z"
    }
   },
   "outputs": [],
   "source": [
    "# obrigado josé!\n",
    "\n",
    "def norm_len_listas(lista1:list, lista2: list, neutro: int):\n",
    "    '''\n",
    "    Esta função recebe duas listas, compara seus tamanhos e apenda zeros no final\n",
    "    da lista menor, para que fiquem com o mesmo \"len\"\n",
    "    \n",
    "    chamamos este procedimento de \"padding\"\n",
    "    '''\n",
    "    dif = len(lista1) - len(lista2)\n",
    "    \n",
    "    if dif > 0:\n",
    "        for n in range(dif):\n",
    "            lista2.append(neutro)\n",
    "    else:\n",
    "        for n in range(abs(dif)):\n",
    "            lista1.append(neutro)\n",
    "            \n",
    "    return lista1, lista2"
   ]
  },
  {
   "cell_type": "code",
   "execution_count": 62,
   "metadata": {
    "ExecuteTime": {
     "end_time": "2021-11-11T23:23:38.810476Z",
     "start_time": "2021-11-11T23:23:38.797483Z"
    }
   },
   "outputs": [
    {
     "data": {
      "text/plain": [
       "([1, 4, 3, 1, 1], [3, 5, 1, 42, 21])"
      ]
     },
     "execution_count": 62,
     "metadata": {},
     "output_type": "execute_result"
    }
   ],
   "source": [
    "lista1 = [1,4,3]\n",
    "lista2 = [3,5,1,42,21]\n",
    "\n",
    "norm_len_listas(lista1, lista2, 1)"
   ]
  },
  {
   "cell_type": "code",
   "execution_count": 64,
   "metadata": {
    "ExecuteTime": {
     "end_time": "2021-11-11T23:25:31.388609Z",
     "start_time": "2021-11-11T23:25:31.370620Z"
    }
   },
   "outputs": [
    {
     "data": {
      "text/plain": [
       "([1, 4, 3, 0, 0], [3, 5, 1, 42, 21])"
      ]
     },
     "execution_count": 64,
     "metadata": {},
     "output_type": "execute_result"
    }
   ],
   "source": [
    "lista1 = [1,4,3]\n",
    "lista2 = [3,5,1,42,21]\n",
    "\n",
    "norm_len_listas(lista1, lista2, 0)"
   ]
  },
  {
   "cell_type": "markdown",
   "metadata": {},
   "source": [
    "12.Faça uma função que recebe um número x e uma lista numérica e retorna uma lista cujos elementos são os itens da lista de entrada multiplicado por x. Exemplo: se a função receber o número 5 e a lista [3,5,1], então a função deve retornar [5x3, 5x5, 5x1] = [15, 25, 5]. \n"
   ]
  },
  {
   "cell_type": "code",
   "execution_count": 65,
   "metadata": {
    "ExecuteTime": {
     "end_time": "2021-11-11T23:27:34.789126Z",
     "start_time": "2021-11-11T23:27:34.776133Z"
    }
   },
   "outputs": [
    {
     "data": {
      "text/plain": [
       "[15, 25, 5]"
      ]
     },
     "execution_count": 65,
     "metadata": {},
     "output_type": "execute_result"
    }
   ],
   "source": [
    "# vamos fazer esse\n",
    "\n",
    "x = 5\n",
    "lista = [3,5,1]\n",
    "\n",
    "[x*elemento for elemento in lista]"
   ]
  },
  {
   "cell_type": "code",
   "execution_count": 66,
   "metadata": {
    "ExecuteTime": {
     "end_time": "2021-11-11T23:28:33.728543Z",
     "start_time": "2021-11-11T23:28:33.716551Z"
    }
   },
   "outputs": [],
   "source": [
    "def multiplica_lista_por_escalar(lista, x):\n",
    "    \n",
    "    return [x*elemento for elemento in lista]"
   ]
  },
  {
   "cell_type": "code",
   "execution_count": 67,
   "metadata": {
    "ExecuteTime": {
     "end_time": "2021-11-11T23:28:44.840393Z",
     "start_time": "2021-11-11T23:28:44.821409Z"
    }
   },
   "outputs": [
    {
     "data": {
      "text/plain": [
       "[15, 25, 5]"
      ]
     },
     "execution_count": 67,
     "metadata": {},
     "output_type": "execute_result"
    }
   ],
   "source": [
    "x = 5\n",
    "lista = [3,5,1]\n",
    "\n",
    "multiplica_lista_por_escalar(lista, x)"
   ]
  },
  {
   "cell_type": "code",
   "execution_count": 68,
   "metadata": {
    "ExecuteTime": {
     "end_time": "2021-11-11T23:30:19.403916Z",
     "start_time": "2021-11-11T23:30:19.389921Z"
    }
   },
   "outputs": [],
   "source": [
    "mlpe = lambda lista, x: [x*elemento for elemento in lista]"
   ]
  },
  {
   "cell_type": "code",
   "execution_count": 70,
   "metadata": {
    "ExecuteTime": {
     "end_time": "2021-11-11T23:30:51.018452Z",
     "start_time": "2021-11-11T23:30:51.001461Z"
    }
   },
   "outputs": [
    {
     "data": {
      "text/plain": [
       "[15, 25, 5]"
      ]
     },
     "execution_count": 70,
     "metadata": {},
     "output_type": "execute_result"
    }
   ],
   "source": [
    "x = 5\n",
    "lista = [3,5,1]\n",
    "\n",
    "mlpe(lista, x)"
   ]
  },
  {
   "cell_type": "markdown",
   "metadata": {},
   "source": [
    "\n",
    "13.Faça uma função que recebe uma lista de números e retorna a soma dos elementos dessa lista. \n"
   ]
  },
  {
   "cell_type": "code",
   "execution_count": null,
   "metadata": {},
   "outputs": [],
   "source": []
  },
  {
   "cell_type": "markdown",
   "metadata": {},
   "source": [
    "\n",
    "14.Faça uma função que recebe uma lista de números e retorna a média aritmética dos elementos dessa lista."
   ]
  },
  {
   "cell_type": "code",
   "execution_count": null,
   "metadata": {},
   "outputs": [],
   "source": []
  },
  {
   "cell_type": "markdown",
   "metadata": {},
   "source": [
    "____\n",
    "____\n",
    "____\n",
    "____"
   ]
  },
  {
   "cell_type": "markdown",
   "metadata": {},
   "source": [
    "# DESAFIOS"
   ]
  },
  {
   "cell_type": "markdown",
   "metadata": {},
   "source": [
    "1.Faça uma função que receba um número e calcule seu fatorial. "
   ]
  },
  {
   "cell_type": "code",
   "execution_count": null,
   "metadata": {},
   "outputs": [],
   "source": [
    "# vamos fazer esse\n"
   ]
  },
  {
   "cell_type": "code",
   "execution_count": 92,
   "metadata": {
    "ExecuteTime": {
     "end_time": "2021-11-12T00:00:37.162370Z",
     "start_time": "2021-11-12T00:00:37.142380Z"
    }
   },
   "outputs": [
    {
     "data": {
      "text/plain": [
       "[1, 2, 3, 4, 5]"
      ]
     },
     "execution_count": 92,
     "metadata": {},
     "output_type": "execute_result"
    }
   ],
   "source": [
    "list(range(1, 6))"
   ]
  },
  {
   "cell_type": "code",
   "execution_count": 96,
   "metadata": {
    "ExecuteTime": {
     "end_time": "2021-11-12T00:03:02.002474Z",
     "start_time": "2021-11-12T00:03:01.991480Z"
    }
   },
   "outputs": [
    {
     "data": {
      "text/plain": [
       "120"
      ]
     },
     "execution_count": 96,
     "metadata": {},
     "output_type": "execute_result"
    }
   ],
   "source": [
    "# 5! = 1*2*3*4*5\n",
    "\n",
    "n = 5\n",
    "fat = 1\n",
    "\n",
    "for termo in range(1, n+1):\n",
    "    \n",
    "    fat = fat*termo\n",
    "    \n",
    "fat"
   ]
  },
  {
   "cell_type": "markdown",
   "metadata": {},
   "source": [
    "_________________\n",
    "\n",
    "Map & reduce"
   ]
  },
  {
   "cell_type": "code",
   "execution_count": 107,
   "metadata": {
    "ExecuteTime": {
     "end_time": "2021-11-12T00:09:55.074580Z",
     "start_time": "2021-11-12T00:09:55.055591Z"
    }
   },
   "outputs": [],
   "source": [
    "def multiplica_por_2(x):\n",
    "    \n",
    "    return 2*x"
   ]
  },
  {
   "cell_type": "code",
   "execution_count": 108,
   "metadata": {
    "ExecuteTime": {
     "end_time": "2021-11-12T00:10:14.444615Z",
     "start_time": "2021-11-12T00:10:14.429316Z"
    }
   },
   "outputs": [],
   "source": [
    "lista = [1, 2, 3, 4, 5]"
   ]
  },
  {
   "cell_type": "code",
   "execution_count": 111,
   "metadata": {
    "ExecuteTime": {
     "end_time": "2021-11-12T00:11:11.153900Z",
     "start_time": "2021-11-12T00:11:11.138911Z"
    }
   },
   "outputs": [
    {
     "data": {
      "text/plain": [
       "[2, 4, 6, 8, 10]"
      ]
     },
     "execution_count": 111,
     "metadata": {},
     "output_type": "execute_result"
    }
   ],
   "source": [
    "list(map(multiplica_por_2, lista))"
   ]
  },
  {
   "cell_type": "code",
   "execution_count": 114,
   "metadata": {
    "ExecuteTime": {
     "end_time": "2021-11-12T00:12:06.214148Z",
     "start_time": "2021-11-12T00:12:06.193162Z"
    }
   },
   "outputs": [
    {
     "data": {
      "text/plain": [
       "[1, 16, 49, 100, 169, 256, 361]"
      ]
     },
     "execution_count": 114,
     "metadata": {},
     "output_type": "execute_result"
    }
   ],
   "source": [
    "list(map(lambda x: x**2, range(1, 20, 3)))"
   ]
  },
  {
   "cell_type": "code",
   "execution_count": 115,
   "metadata": {
    "ExecuteTime": {
     "end_time": "2021-11-12T00:13:23.060809Z",
     "start_time": "2021-11-12T00:13:23.037827Z"
    }
   },
   "outputs": [
    {
     "data": {
      "text/plain": [
       "15"
      ]
     },
     "execution_count": 115,
     "metadata": {},
     "output_type": "execute_result"
    }
   ],
   "source": [
    "sum(lista)"
   ]
  },
  {
   "cell_type": "code",
   "execution_count": 119,
   "metadata": {
    "ExecuteTime": {
     "end_time": "2021-11-12T00:14:46.993519Z",
     "start_time": "2021-11-12T00:14:46.984524Z"
    }
   },
   "outputs": [
    {
     "data": {
      "text/plain": [
       "[1, 2, 3, 4, 5]"
      ]
     },
     "execution_count": 119,
     "metadata": {},
     "output_type": "execute_result"
    }
   ],
   "source": [
    "lista"
   ]
  },
  {
   "cell_type": "code",
   "execution_count": 116,
   "metadata": {
    "ExecuteTime": {
     "end_time": "2021-11-12T00:14:10.264915Z",
     "start_time": "2021-11-12T00:14:10.255921Z"
    }
   },
   "outputs": [],
   "source": [
    "def soma(x, y):\n",
    "    \n",
    "    return x + y"
   ]
  },
  {
   "cell_type": "code",
   "execution_count": 117,
   "metadata": {
    "ExecuteTime": {
     "end_time": "2021-11-12T00:14:15.905099Z",
     "start_time": "2021-11-12T00:14:15.887111Z"
    }
   },
   "outputs": [
    {
     "data": {
      "text/plain": [
       "15"
      ]
     },
     "execution_count": 117,
     "metadata": {},
     "output_type": "execute_result"
    }
   ],
   "source": [
    "from functools import reduce\n",
    "\n",
    "reduce(soma, lista)"
   ]
  },
  {
   "cell_type": "code",
   "execution_count": 118,
   "metadata": {
    "ExecuteTime": {
     "end_time": "2021-11-12T00:14:32.360579Z",
     "start_time": "2021-11-12T00:14:32.341585Z"
    }
   },
   "outputs": [
    {
     "data": {
      "text/plain": [
       "15"
      ]
     },
     "execution_count": 118,
     "metadata": {},
     "output_type": "execute_result"
    }
   ],
   "source": [
    "reduce(lambda x, y: x + y, lista)"
   ]
  },
  {
   "cell_type": "code",
   "execution_count": 103,
   "metadata": {
    "ExecuteTime": {
     "end_time": "2021-11-12T00:06:09.216274Z",
     "start_time": "2021-11-12T00:06:09.202282Z"
    }
   },
   "outputs": [
    {
     "data": {
      "text/plain": [
       "720"
      ]
     },
     "execution_count": 103,
     "metadata": {},
     "output_type": "execute_result"
    }
   ],
   "source": [
    "# valeu erivan\n",
    "\n",
    "from functools import reduce\n",
    "\n",
    "n=6\n",
    "reduce(lambda x, y: x*y, range(1, n+1))"
   ]
  },
  {
   "cell_type": "code",
   "execution_count": 106,
   "metadata": {
    "ExecuteTime": {
     "end_time": "2021-11-12T00:07:42.704519Z",
     "start_time": "2021-11-12T00:07:42.687530Z"
    }
   },
   "outputs": [
    {
     "data": {
      "text/plain": [
       "720"
      ]
     },
     "execution_count": 106,
     "metadata": {},
     "output_type": "execute_result"
    }
   ],
   "source": [
    "# valeu fabio\n",
    "\n",
    "import functools\n",
    "import operator\n",
    "\n",
    "n=6\n",
    "functools.reduce(operator.mul, range(1, n+1))"
   ]
  },
  {
   "cell_type": "code",
   "execution_count": 97,
   "metadata": {
    "ExecuteTime": {
     "end_time": "2021-11-12T00:03:34.856730Z",
     "start_time": "2021-11-12T00:03:34.834746Z"
    }
   },
   "outputs": [],
   "source": [
    "def fatorial_iterativo(n):\n",
    "    \n",
    "    fat = 1\n",
    "\n",
    "    for termo in range(1, n+1):\n",
    "\n",
    "        fat = fat*termo\n",
    "\n",
    "    return fat"
   ]
  },
  {
   "cell_type": "markdown",
   "metadata": {},
   "source": [
    "2.Super Desafio! - Repita o exercício anterior usando recursão, ou seja, uma função que chame ela mesma, lembrando que 3! = 3\\*2!, que 2! = 2\\*1!, que 1! = 1\\*0! e que 0! = 1.\n",
    "\n",
    " "
   ]
  },
  {
   "cell_type": "code",
   "execution_count": 75,
   "metadata": {
    "ExecuteTime": {
     "end_time": "2021-11-11T23:41:14.480198Z",
     "start_time": "2021-11-11T23:41:14.466209Z"
    }
   },
   "outputs": [],
   "source": [
    "# vamos fazer esse\n",
    "\n",
    "def fatorial(n):\n",
    "    \n",
    "    if n > 1:\n",
    "        \n",
    "        return n * fatorial(n-1)\n",
    "    \n",
    "    elif n == 1 or n == 0:\n",
    "        \n",
    "        return 1"
   ]
  },
  {
   "cell_type": "code",
   "execution_count": 78,
   "metadata": {
    "ExecuteTime": {
     "end_time": "2021-11-11T23:42:00.514139Z",
     "start_time": "2021-11-11T23:42:00.503145Z"
    }
   },
   "outputs": [
    {
     "name": "stdout",
     "output_type": "stream",
     "text": [
      "0! = 1\n",
      "1! = 1\n",
      "2! = 2\n",
      "3! = 6\n",
      "4! = 24\n",
      "5! = 120\n",
      "6! = 720\n",
      "7! = 5040\n",
      "8! = 40320\n",
      "9! = 362880\n"
     ]
    }
   ],
   "source": [
    "for n in range(10):\n",
    "    \n",
    "    print(f\"{n}! = {fatorial(n)}\")"
   ]
  },
  {
   "cell_type": "markdown",
   "metadata": {},
   "source": [
    "3.Faça uma função que recebe duas entradas: um input dado pelo usuário e um string que informa o tipo de dado (\"idade\", \"salário\" ou \"sexo\"), e verifica se os dados digitados foram válidos, usando os seguintes critérios: \n",
    "- a.Idade: entre 0 e 150;  \n",
    "- b.Salário: maior que 0;  \n",
    "- c.Sexo: M, F ou Outro. \n",
    "\n"
   ]
  },
  {
   "cell_type": "code",
   "execution_count": null,
   "metadata": {},
   "outputs": [],
   "source": []
  },
  {
   "cell_type": "markdown",
   "metadata": {},
   "source": [
    "\n",
    "4.A sequência Fibonacci é a sequência cujos dois primeiros termos são 1 e os demais são obtidos através da soma de seus dois antecessores, isso é: a.Fibonacci(1) = 1 e Fibonacci(2) = 2; b.dado qualquer número n >= 3, Fibonacci(n) = Fibonacci(n-1) + Fibonacci(n-2) Assim, os 10 primeiros termos da sequência Fibonacci são:     1, 1, 2, 3, 5, 8, 13, 21, 34, 55... Faça uma função que receba um número n e calcule o termo de número n da sequência Fibonacci. \n",
    "\n"
   ]
  },
  {
   "cell_type": "code",
   "execution_count": 139,
   "metadata": {
    "ExecuteTime": {
     "end_time": "2021-11-12T00:36:07.733547Z",
     "start_time": "2021-11-12T00:36:07.708558Z"
    }
   },
   "outputs": [
    {
     "data": {
      "text/plain": [
       "([1, 1, 2, 3, 5, 8], 8)"
      ]
     },
     "execution_count": 139,
     "metadata": {},
     "output_type": "execute_result"
    }
   ],
   "source": [
    "# vamos fazer esse\n",
    "\n",
    "n = 6\n",
    "\n",
    "n = n-1\n",
    "\n",
    "lista_fibo = [1, 1]\n",
    "\n",
    "for i in range(2, n+1):\n",
    "    \n",
    "    lista_fibo.append(lista_fibo[i-1] + lista_fibo[i-2])\n",
    "\n",
    "lista_fibo, lista_fibo[n]"
   ]
  },
  {
   "cell_type": "code",
   "execution_count": 148,
   "metadata": {
    "ExecuteTime": {
     "end_time": "2021-11-12T00:44:23.390454Z",
     "start_time": "2021-11-12T00:44:23.373598Z"
    }
   },
   "outputs": [
    {
     "data": {
      "text/plain": [
       "[1, 1, 2, 3, 5, 8]"
      ]
     },
     "execution_count": 148,
     "metadata": {},
     "output_type": "execute_result"
    }
   ],
   "source": [
    "n = 6\n",
    "\n",
    "n = n-1\n",
    "\n",
    "lista_fibo = [1, 1]\n",
    "\n",
    "for i in range(2, n+1):\n",
    "    \n",
    "    lista_fibo.append(lista_fibo[i-1] + lista_fibo[i-2])\n",
    "\n",
    "lista_fibo"
   ]
  },
  {
   "cell_type": "code",
   "execution_count": 142,
   "metadata": {
    "ExecuteTime": {
     "end_time": "2021-11-12T00:38:13.461249Z",
     "start_time": "2021-11-12T00:38:13.437260Z"
    }
   },
   "outputs": [],
   "source": [
    "def fibonacci_iterativo(n):\n",
    "    \n",
    "    if n <= 0:\n",
    "        \n",
    "        return \"ERRO! Posição inexistente!\"\n",
    "    \n",
    "    else:\n",
    "        \n",
    "        n = n-1\n",
    "\n",
    "        lista_fibo = [1, 1]\n",
    "\n",
    "        for i in range(2, n+1):\n",
    "\n",
    "            lista_fibo.append(lista_fibo[i-1] + lista_fibo[i-2])\n",
    "\n",
    "        return lista_fibo[n]"
   ]
  },
  {
   "cell_type": "code",
   "execution_count": 143,
   "metadata": {
    "ExecuteTime": {
     "end_time": "2021-11-12T00:38:14.839123Z",
     "start_time": "2021-11-12T00:38:14.820130Z"
    }
   },
   "outputs": [
    {
     "name": "stdout",
     "output_type": "stream",
     "text": [
      "0-ésimo termo de fibonacci: ERRO! Posição inexistente!\n",
      "1-ésimo termo de fibonacci: 1\n",
      "2-ésimo termo de fibonacci: 1\n",
      "3-ésimo termo de fibonacci: 2\n",
      "4-ésimo termo de fibonacci: 3\n",
      "5-ésimo termo de fibonacci: 5\n",
      "6-ésimo termo de fibonacci: 8\n",
      "7-ésimo termo de fibonacci: 13\n",
      "8-ésimo termo de fibonacci: 21\n",
      "9-ésimo termo de fibonacci: 34\n"
     ]
    }
   ],
   "source": [
    "for n in range(0, 10):\n",
    "    \n",
    "    print(f\"{n}-ésimo termo de fibonacci: {fibonacci_iterativo(n)}\")"
   ]
  },
  {
   "cell_type": "code",
   "execution_count": 150,
   "metadata": {
    "ExecuteTime": {
     "end_time": "2021-11-12T00:49:31.220083Z",
     "start_time": "2021-11-12T00:49:31.208090Z"
    }
   },
   "outputs": [
    {
     "data": {
      "text/plain": [
       "[1, 1, 2, 3, 5, 8]"
      ]
     },
     "execution_count": 150,
     "metadata": {},
     "output_type": "execute_result"
    }
   ],
   "source": [
    "# valeu fabio, formula analitica (com o numero de ouro)\n",
    "\n",
    "n = 6\n",
    "\n",
    "series = [int((((1 + 5**0.5) / 2)**n - ((1 - 5**0.5) / 2)**n) / 5**0.5) for n in range(1, n+1)]\n",
    "\n",
    "series"
   ]
  },
  {
   "cell_type": "markdown",
   "metadata": {},
   "source": [
    "5.Super Desafio! Refaça o desafio 4 usando recursão. \n",
    "\n",
    " "
   ]
  },
  {
   "cell_type": "markdown",
   "metadata": {},
   "source": [
    "1 1 2 3 5 8 ...\n",
    "\n",
    "f(n) = f(n-1) + f(n-2)"
   ]
  },
  {
   "cell_type": "code",
   "execution_count": 127,
   "metadata": {
    "ExecuteTime": {
     "end_time": "2021-11-12T00:26:54.370657Z",
     "start_time": "2021-11-12T00:26:54.362660Z"
    }
   },
   "outputs": [],
   "source": [
    "# vamos fazer esse\n",
    "\n",
    "def fibonacci(n):\n",
    "    \n",
    "    if n == 1 or n == 2: \n",
    "        \n",
    "        return 1\n",
    "    \n",
    "    elif n > 2:\n",
    "        \n",
    "        return fibonacci(n-1) + fibonacci(n-2)\n",
    "    \n",
    "    else:\n",
    "        \n",
    "        return \"ERRO! Posição inexistente!\""
   ]
  },
  {
   "cell_type": "code",
   "execution_count": 128,
   "metadata": {
    "ExecuteTime": {
     "end_time": "2021-11-12T00:26:54.815966Z",
     "start_time": "2021-11-12T00:26:54.798976Z"
    }
   },
   "outputs": [
    {
     "name": "stdout",
     "output_type": "stream",
     "text": [
      "0-ésimo termo de fibonacci: ERRO! Posição inexistente!\n",
      "1-ésimo termo de fibonacci: 1\n",
      "2-ésimo termo de fibonacci: 1\n",
      "3-ésimo termo de fibonacci: 2\n",
      "4-ésimo termo de fibonacci: 3\n",
      "5-ésimo termo de fibonacci: 5\n",
      "6-ésimo termo de fibonacci: 8\n",
      "7-ésimo termo de fibonacci: 13\n",
      "8-ésimo termo de fibonacci: 21\n",
      "9-ésimo termo de fibonacci: 34\n"
     ]
    }
   ],
   "source": [
    "for n in range(0, 10):\n",
    "    \n",
    "    print(f\"{n}-ésimo termo de fibonacci: {fibonacci(n)}\")"
   ]
  },
  {
   "cell_type": "markdown",
   "metadata": {
    "ExecuteTime": {
     "end_time": "2021-11-12T00:23:13.110027Z",
     "start_time": "2021-11-12T00:23:13.088041Z"
    }
   },
   "source": [
    "fibonacci(4)\n",
    "\n",
    "fibonacci(3) + fibonacci(2)\n",
    "\n",
    "(fibonacci(2) + fibonacci(1)) + 1\n",
    "\n",
    "(1 + 1) + 1\n",
    "\n",
    "3"
   ]
  },
  {
   "cell_type": "markdown",
   "metadata": {},
   "source": [
    "6.Super  Desafio!  -  Faça  um  jogo  de BlackJack  usando  funções:  o BlackJack, ou Vinte e Um, é um jogo em que os jogadores podem comprar cartas livremente, enquanto tiverem menos de 21 pontos. No nosso jogo, o Ás vale um ponto; as cartas de 2 a 10 valem o número de pontos que elas representam; e Valete, Dama e Rei valem 10 pontos cada. Ganha o jogador que tiver o maior número de pontos, desde que este seja menor ou igual a 21. Nosso jogo deve ter as seguintes funções:  \n",
    "- a.Função principal: a função que vamos chamar para iniciar o jogo.  Essa  função  não  irá  receber  nem  retornar  nenhuma variável.  Ela  deve  perguntar  o  número  de  jogadores participantes e o nome de cada um. Em seguida ela chama as outras funções do jogo. \n",
    "- b.Função para criar o baralho: essa função deve criar um baralho (uma lista) com as cartas do baralho. \n",
    "- c.Função para a jogada: essa função deve receber o nome do jogador que irá realizar a jogada e, caso ele ainda esteja ativo (tenha menos de 21 pontos e ainda não tenha desistido de comprar cartas) deve perguntar se ele quer comprar uma carta. Se ele responder que sim, a função deve chamar a próxima função para sortear uma carta e somar o valor retornado na pontuação do jogador; se ele responder que não, a função deve desativar o jogador para que ele não possa mais comprar cartas; Essa função só deve ser chamada enquanto houver jogadores ativos. \n",
    "- d.Função para o sorteio: essa função retira uma carta aleatória do baralho e retorna o número de pontos que essa carta vale. \n",
    "- e.Função   verificação:   verifica   e   indica   qual/quais jogador/jogadores tem o maior número de pontos, que seja menor ou igual a 21. "
   ]
  },
  {
   "cell_type": "code",
   "execution_count": null,
   "metadata": {},
   "outputs": [],
   "source": []
  },
  {
   "cell_type": "markdown",
   "metadata": {},
   "source": [
    "7.Super desafio! Faça um sistema de cadastro de clientes. Modele cada cliente como uma lista de três elementos: nome, CPF e e-mail.  \n",
    "- a.Faça uma função que peça o nome, o CPF e o e-mail da pessoa e retorne uma lista contendo esses elementos nessa ordem. \n",
    "- b.Os clientes cadastrados devem ser armazenados em uma lista (uma lista de listas, já que cada cliente será uma lista tal como produzido no item a). \n",
    "- c.Faça uma função que recebe a lista do item b) e um CPF e, se esse  cliente  estiver  na  lista  de  cadastro,  sua  função  deve devolver  a  lista  de  dados  desse  cliente;  caso  contrário,  sua função deve imprimir “não encontrado”. \n",
    "- d.Enquanto não for digitado 0, o seu programa deve continuar rodando. Se digitado 0, seu programa deve cadastrar um novo cliente;  se  digitado  1,  seu  programa  deve  pedir  um  CPF  e procurá-lo  na  lista  de  clientes  (item  c);  se  digitado  3,  seu programa deve imprimir todos os clientes cadastrados."
   ]
  },
  {
   "cell_type": "code",
   "execution_count": null,
   "metadata": {},
   "outputs": [],
   "source": []
  }
 ],
 "metadata": {
  "kernelspec": {
   "display_name": "Python 3",
   "language": "python",
   "name": "python3"
  },
  "language_info": {
   "codemirror_mode": {
    "name": "ipython",
    "version": 3
   },
   "file_extension": ".py",
   "mimetype": "text/x-python",
   "name": "python",
   "nbconvert_exporter": "python",
   "pygments_lexer": "ipython3",
   "version": "3.8.3"
  }
 },
 "nbformat": 4,
 "nbformat_minor": 4
}
