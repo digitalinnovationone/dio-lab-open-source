{
 "cells": [
  {
   "cell_type": "markdown",
   "metadata": {},
   "source": [
    "# Lista 2 - estruturas condicionais"
   ]
  },
  {
   "cell_type": "markdown",
   "metadata": {},
   "source": [
    "1. Faça um programa que peça a idade do usuário e imprima se ele é\n",
    "maior ou menor de 18 anos.\n"
   ]
  },
  {
   "cell_type": "code",
   "execution_count": null,
   "metadata": {},
   "outputs": [],
   "source": []
  },
  {
   "cell_type": "markdown",
   "metadata": {},
   "source": [
    "\n",
    "\n",
    "2. Faça um programa que peça um número e mostre se ele é positivo\n",
    "ou negativo.\n"
   ]
  },
  {
   "cell_type": "code",
   "execution_count": null,
   "metadata": {},
   "outputs": [],
   "source": []
  },
  {
   "cell_type": "markdown",
   "metadata": {},
   "source": [
    "\n",
    "\n",
    "3. Faça um programa que dado um número digitado, mostre se ele é\n",
    "Par ou Ímpar.\n",
    "\n"
   ]
  },
  {
   "cell_type": "code",
   "execution_count": null,
   "metadata": {},
   "outputs": [],
   "source": []
  },
  {
   "cell_type": "markdown",
   "metadata": {},
   "source": [
    "\n",
    "4. Faça um programa que peça dois números e mostre o maior deles.\n",
    "\n"
   ]
  },
  {
   "cell_type": "code",
   "execution_count": null,
   "metadata": {},
   "outputs": [],
   "source": []
  },
  {
   "cell_type": "markdown",
   "metadata": {},
   "source": [
    "\n",
    "5. Faça um programa que leia a validade das informações:\n",
    "\n",
    "a. Idade: entre 0 e 150;\n",
    "\n",
    "b. Salário: maior que 0;\n",
    "\n",
    "c. Sexo: M, F ou Outro;\n",
    "\n",
    "O programa deve imprimir uma mensagem de erro para cada\n",
    "informação inválida.\n"
   ]
  },
  {
   "cell_type": "code",
   "execution_count": null,
   "metadata": {},
   "outputs": [],
   "source": []
  },
  {
   "cell_type": "markdown",
   "metadata": {},
   "source": [
    "\n",
    "\n",
    "6. Escreva um programa que peça a nota de 3 provas de um aluno e\n",
    "verifique se ele passou o não de ano.\n",
    "Obs.: O aluno irá passar de ano se sua média for maior que 6.\n"
   ]
  },
  {
   "cell_type": "code",
   "execution_count": null,
   "metadata": {},
   "outputs": [],
   "source": []
  },
  {
   "cell_type": "markdown",
   "metadata": {},
   "source": [
    "\n",
    "7. Faça um programa que mostre uma questão de múltipla escolha com\n",
    "5 opções (letras a, b, c, d, e e). Sabendo a resposta certa, o programa\n",
    "deve receber a opção do usuário e informar a letra que o usuário\n",
    "marcou e se a resposta está certa ou errada.\n"
   ]
  },
  {
   "cell_type": "code",
   "execution_count": null,
   "metadata": {},
   "outputs": [],
   "source": []
  },
  {
   "cell_type": "markdown",
   "metadata": {},
   "source": [
    "\n",
    "\n",
    "8. Vamos fazer um programa para verificar quem é o assassino de um\n",
    "crime. Para descobrir o assassino, a polícia faz um pequeno\n",
    "questionário com 5 perguntas onde a resposta só pode ser sim ou não:\n",
    "a. Mora perto da vítima?\n",
    "b. Já trabalhou com a vítima?\n",
    "c. Telefonou para a vítima?\n",
    "d. Esteve no local do crime?\n",
    "e. Devia para a vítima?\n",
    "Cada resposta sim dá um ponto para o suspeito. A polícia considera\n",
    "que os suspeitos com 5 pontos são os assassinos, com 4 a 3 pontos são\n",
    "cúmplices e 2 pontos são apenas suspeitos, necessitando outras\n",
    "investigações. Valores abaixo de 1 são liberados.\n"
   ]
  },
  {
   "cell_type": "code",
   "execution_count": null,
   "metadata": {},
   "outputs": [],
   "source": []
  },
  {
   "cell_type": "markdown",
   "metadata": {},
   "source": [
    "\n",
    "9. Um produto vai sofrer aumento de acordo com a Tabela 1 abaixo. Faça\n",
    "um programa que peça para o usuário digitar o valor do produto de\n",
    "acordo com o preço antigo e escreva uma das mensagens da Tabela\n",
    "2, de acordo com o preço reajustado:\n",
    "\n",
    "REAJUSTE: \n",
    "\n",
    "- Até 50 : 5\\%\n",
    "\n",
    "- Entre 50 e 100 : 10\\%\n",
    "\n",
    "- Entre 100 e 150 : 13\\%\n",
    "\n",
    "- Acima de 150 : 15\\%\n",
    "\n",
    "MENSAGENS: \n",
    "\n",
    "- Até 80 : Barato\n",
    "\n",
    "- Entre 80 e 115 : Razoável\n",
    "\n",
    "- Entre 115 e 150 : Normal\n",
    "\n",
    "- Entre 150 e 170 : Caro\n",
    "\n",
    "- Acima de 170 : Muito caro"
   ]
  },
  {
   "cell_type": "code",
   "execution_count": null,
   "metadata": {},
   "outputs": [],
   "source": []
  },
  {
   "cell_type": "markdown",
   "metadata": {},
   "source": [
    "__________________\n",
    "__________________\n",
    "\n",
    "__________________\n",
    "__________________"
   ]
  },
  {
   "cell_type": "markdown",
   "metadata": {},
   "source": [
    "# DESAFIOS"
   ]
  },
  {
   "cell_type": "markdown",
   "metadata": {},
   "source": [
    "\n",
    "1. Faça um programa que leia 3 números e informe o maior deles.\n",
    "\n"
   ]
  },
  {
   "cell_type": "code",
   "execution_count": null,
   "metadata": {},
   "outputs": [],
   "source": []
  },
  {
   "cell_type": "markdown",
   "metadata": {},
   "source": [
    "2. Faça o mesmo programa do exercício anterior, porém com 4\n",
    "números.\n",
    "\n"
   ]
  },
  {
   "cell_type": "code",
   "execution_count": null,
   "metadata": {},
   "outputs": [],
   "source": []
  },
  {
   "cell_type": "markdown",
   "metadata": {},
   "source": [
    "3. Um hospital quer fazer o diagnóstico de gripe ou dengue a partir de\n",
    "um questionário de sintomas, tendo as perguntas abaixo, faça um\n",
    "programa que faça o diagnóstico deste hospital:\n",
    "a. Sente dor no corpo?\n",
    "b. Você tem febre?\n",
    "c. Você tem tosse?\n",
    "d. Está com congestão nasal?\n",
    "e. Tem manchas pelo corpo?\n",
    "Para o diagnóstico ele tem a seguinte tabela\n",
    "\n",
    "<img src=https://s3-sa-east-1.amazonaws.com/lcpi/7df17e28-dd5c-4ef0-8ccf-941aa400d2ab.JPG width=500>"
   ]
  },
  {
   "cell_type": "code",
   "execution_count": 2,
   "metadata": {
    "ExecuteTime": {
     "end_time": "2021-10-28T01:04:41.466632Z",
     "start_time": "2021-10-28T01:04:41.443645Z"
    }
   },
   "outputs": [
    {
     "data": {
      "text/plain": [
       "['a. Sente dor no corpo?',\n",
       " 'b. Você tem febre?',\n",
       " 'c. Você tem tosse?',\n",
       " 'd. Está com congestão nasal?',\n",
       " 'e. Tem manchas pelo corpo?']"
      ]
     },
     "execution_count": 2,
     "metadata": {},
     "output_type": "execute_result"
    }
   ],
   "source": [
    "'''a. Sente dor no corpo?\n",
    "b. Você tem febre?\n",
    "c. Você tem tosse?\n",
    "d. Está com congestão nasal?\n",
    "e. Tem manchas pelo corpo?'''.split(\"\\n\")"
   ]
  },
  {
   "cell_type": "code",
   "execution_count": 18,
   "metadata": {
    "ExecuteTime": {
     "end_time": "2021-10-28T01:18:23.173628Z",
     "start_time": "2021-10-28T01:18:19.997289Z"
    }
   },
   "outputs": [
    {
     "name": "stdout",
     "output_type": "stream",
     "text": [
      "a. Sente dor no corpo? (digite \"s\" ou \"n\")s\n",
      "b. Você tem febre? (digite \"s\" ou \"n\")s\n",
      "c. Você tem tosse? (digite \"s\" ou \"n\")s\n",
      "d. Está com congestão nasal? (digite \"s\" ou \"n\")s\n",
      "e. Tem manchas pelo corpo? (digite \"s\" ou \"n\")n\n",
      "\n",
      "Você está com Gripe!\n"
     ]
    }
   ],
   "source": [
    "lista_de_perguntas = ['a. Sente dor no corpo? (digite \"s\" ou \"n\")',\n",
    "                      'b. Você tem febre? (digite \"s\" ou \"n\")',\n",
    "                      'c. Você tem tosse? (digite \"s\" ou \"n\")',\n",
    "                      'd. Está com congestão nasal? (digite \"s\" ou \"n\")',\n",
    "                      'e. Tem manchas pelo corpo? (digite \"s\" ou \"n\")']\n",
    "\n",
    "lista_de_respostas = []\n",
    "\n",
    "for pergunta in lista_de_perguntas:\n",
    "        \n",
    "    resposta = input(pergunta)\n",
    "    \n",
    "    while resposta not in [\"s\", \"n\"]:\n",
    "        \n",
    "        resposta = input(\"Não entendi!\\n\" + pergunta)\n",
    "        \n",
    "    lista_de_respostas.append(resposta)\n",
    "\n",
    "# lista_de_respostas = [input(pergunta) for pergunta in lista_de_perguntas]\n",
    "\n",
    "string_resposta = \"\".join(lista_de_respostas)\n",
    "\n",
    "dengue = [\"ssnns\"]\n",
    "gripe = [\"ssssn\", \"nsssn\"]\n",
    "sem_doenca = [\"snnnn\", \"nnnnn\"]\n",
    "\n",
    "resp = \"\\nVocê está com \"\n",
    "\n",
    "if string_resposta in dengue:\n",
    "    \n",
    "    print(resp + \"Dengue!\")\n",
    "\n",
    "elif string_resposta in gripe:\n",
    "    \n",
    "    print(resp + \"Gripe!\")\n",
    "    \n",
    "elif string_resposta in sem_doenca:\n",
    "    \n",
    "    print(\"\\nVocê está sem doenças!\")\n",
    "    \n",
    "else:\n",
    "    \n",
    "    print(\"Não sei!\")"
   ]
  }
 ],
 "metadata": {
  "kernelspec": {
   "display_name": "Python 3",
   "language": "python",
   "name": "python3"
  },
  "language_info": {
   "codemirror_mode": {
    "name": "ipython",
    "version": 3
   },
   "file_extension": ".py",
   "mimetype": "text/x-python",
   "name": "python",
   "nbconvert_exporter": "python",
   "pygments_lexer": "ipython3",
   "version": "3.8.3"
  }
 },
 "nbformat": 4,
 "nbformat_minor": 4
}
