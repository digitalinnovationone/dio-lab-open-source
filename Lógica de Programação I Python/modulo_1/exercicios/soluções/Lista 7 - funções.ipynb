{
 "cells": [
  {
   "cell_type": "markdown",
   "metadata": {},
   "source": [
    "# Lista 6 - Funções"
   ]
  },
  {
   "cell_type": "markdown",
   "metadata": {},
   "source": [
    "1.Faça uma função que recebe um número e imprime seu dobro. \n",
    "\n"
   ]
  },
  {
   "cell_type": "code",
   "execution_count": 76,
   "metadata": {},
   "outputs": [
    {
     "name": "stdout",
     "output_type": "stream",
     "text": [
      "6.28\n"
     ]
    }
   ],
   "source": [
    "def dobra_numero(num):\n",
    "\n",
    "    # printa o dobro do numero que é passado como argumento\n",
    "    print(2*num)\n",
    "\n",
    "##################################\n",
    "##################################\n",
    "# chamando a função, pra testar\n",
    "\n",
    "dobra_numero(3.14)"
   ]
  },
  {
   "cell_type": "markdown",
   "metadata": {},
   "source": [
    "2.Faça uma função que recebe o valor do raio de um círculo e retorna o valor do comprimento de sua circunferência: $C = 2\\pi r$.  \n",
    " "
   ]
  },
  {
   "cell_type": "code",
   "execution_count": 77,
   "metadata": {},
   "outputs": [
    {
     "data": {
      "text/plain": [
       "28.26"
      ]
     },
     "execution_count": 77,
     "metadata": {},
     "output_type": "execute_result"
    }
   ],
   "source": [
    "def comprimento(raio):\n",
    "    \n",
    "    # calculo o comprimento, usando o argumento \"raio\"\n",
    "    comp = 2*3.14*raio\n",
    "    \n",
    "    return comp\n",
    "\n",
    "##################################\n",
    "##################################\n",
    "# chamando a função, pra testar\n",
    "\n",
    "comprimento(4.5)"
   ]
  },
  {
   "cell_type": "markdown",
   "metadata": {},
   "source": [
    "__ELABORAÇÃO: usando o valor de pi da biblioteca `math`__"
   ]
  },
  {
   "cell_type": "code",
   "execution_count": 78,
   "metadata": {},
   "outputs": [
    {
     "data": {
      "text/plain": [
       "28.274333882308138"
      ]
     },
     "execution_count": 78,
     "metadata": {},
     "output_type": "execute_result"
    }
   ],
   "source": [
    "def comprimento(raio):\n",
    "    \n",
    "    import math\n",
    "    \n",
    "    # usando agora a constante \"math.pi\", que tem mais casas decimais de pi\n",
    "    comp = 2*math.pi*raio\n",
    "    \n",
    "    return comp\n",
    "\n",
    "##################################\n",
    "##################################\n",
    "# chamando a função, pra testar\n",
    "\n",
    "comprimento(4.5)"
   ]
  },
  {
   "cell_type": "markdown",
   "metadata": {},
   "source": [
    "\n",
    "3.Faça uma função para cada operação matemática básica (soma, subtração, multiplicação e divisão). As funções devem receber dois números e retornar o resultado da operação. \n",
    "\n"
   ]
  },
  {
   "cell_type": "code",
   "execution_count": 81,
   "metadata": {},
   "outputs": [
    {
     "name": "stdout",
     "output_type": "stream",
     "text": [
      "49 \n",
      "\n",
      "35 \n",
      "\n",
      "294 \n",
      "\n",
      "6.0 \n",
      "\n"
     ]
    }
   ],
   "source": [
    "# definimos cada uma das funções, bem simples, \n",
    "# retornando diretamente as operações respectivas entre os argumentos\n",
    "\n",
    "def soma(num1, num2):\n",
    "    \n",
    "    return num1 + num2\n",
    "\n",
    "\n",
    "########################################\n",
    "\n",
    "\n",
    "def subtracao(num1, num2):\n",
    "    \n",
    "    return num1 - num2\n",
    "\n",
    "\n",
    "########################################\n",
    "\n",
    "\n",
    "def multiplicacao(num1, num2):\n",
    "    \n",
    "    return num1*num2\n",
    "\n",
    "\n",
    "\n",
    "########################################\n",
    "\n",
    "\n",
    "def divisao(num1, num2):\n",
    "    \n",
    "    return num1/num2\n",
    "\n",
    "\n",
    "##################################\n",
    "##################################\n",
    "# chamando as funções, pra testar\n",
    "\n",
    "print(soma(42, 7), \"\\n\")\n",
    "print(subtracao(42, 7), \"\\n\")\n",
    "print(multiplicacao(42, 7), \"\\n\")\n",
    "print(divisao(42, 7), \"\\n\")"
   ]
  },
  {
   "cell_type": "markdown",
   "metadata": {},
   "source": [
    "4.Faça uma função que recebe um nome e imprime “olá, [nome]”. \n"
   ]
  },
  {
   "cell_type": "code",
   "execution_count": 83,
   "metadata": {},
   "outputs": [
    {
     "name": "stdout",
     "output_type": "stream",
     "text": [
      "Olá, André\n"
     ]
    }
   ],
   "source": [
    "def cumprimento(nome):\n",
    "    \n",
    "    # printa o cumprimento, usando o argumento\n",
    "    print(\"Olá,\", nome)\n",
    "    \n",
    "##################################\n",
    "##################################\n",
    "# chamando a função, pra testar\n",
    "\n",
    "cumprimento(\"André\")"
   ]
  },
  {
   "cell_type": "markdown",
   "metadata": {},
   "source": [
    "5.Faça uma função que recebe um nome e um horário e imprime “Bom dia, [nome]”, caso seja antes de 12h, “Boa Tarde, [nome]”, caso seja entre 12h e 18h e “Boa noite, [nome]” se for após às 18h. \n"
   ]
  },
  {
   "cell_type": "code",
   "execution_count": 86,
   "metadata": {},
   "outputs": [
    {
     "name": "stdout",
     "output_type": "stream",
     "text": [
      "Boa tarde, André\n"
     ]
    }
   ],
   "source": [
    "def cumprimento_horario(nome, horario):\n",
    "    \n",
    "    if horario < 12:\n",
    "        \n",
    "        print(\"Bom dia,\", nome)\n",
    "        \n",
    "    elif horario >= 12 and horario < 18:\n",
    "        \n",
    "        print(\"Boa tarde,\", nome)\n",
    "        \n",
    "    else:\n",
    "        \n",
    "        print(\"Boa noite,\", nome)\n",
    "\n",
    "##################################\n",
    "################################## \n",
    "# chamando a função, pra testar\n",
    "\n",
    "cumprimento_horario(\"André\", 13)"
   ]
  },
  {
   "cell_type": "markdown",
   "metadata": {},
   "source": [
    "\n",
    "6.Faça uma função que recebe um número e retorna True se ele é par ou False, se ele é ímpar. \n",
    "\n"
   ]
  },
  {
   "cell_type": "code",
   "execution_count": 90,
   "metadata": {},
   "outputs": [
    {
     "name": "stdout",
     "output_type": "stream",
     "text": [
      "True\n",
      "False\n"
     ]
    }
   ],
   "source": [
    "def par_ou_nao(num):\n",
    "    \n",
    "    # se o numero for par\n",
    "    if num % 2 == 0:\n",
    "        \n",
    "        return True\n",
    "    \n",
    "    # se no numero nao for par\n",
    "    else:\n",
    "    \n",
    "        return False\n",
    "\n",
    "##################################\n",
    "##################################\n",
    "# chamando a função, pra testar\n",
    "\n",
    "print(par_ou_nao(42))\n",
    "print(par_ou_nao(7))"
   ]
  },
  {
   "cell_type": "markdown",
   "metadata": {},
   "source": [
    "7.Faça uma função que sorteia 10 números aleatórios entre 0 e 100 e retorna o maior entre eles. \n",
    "\n"
   ]
  },
  {
   "cell_type": "code",
   "execution_count": 95,
   "metadata": {},
   "outputs": [
    {
     "name": "stdout",
     "output_type": "stream",
     "text": [
      "[74, 72, 86, 28, 8, 39, 58, 88, 90, 1]\n"
     ]
    },
    {
     "data": {
      "text/plain": [
       "90"
      ]
     },
     "execution_count": 95,
     "metadata": {},
     "output_type": "execute_result"
    }
   ],
   "source": [
    "def sorteia_maximo():\n",
    "\n",
    "    # gerando lista com 10 numeros aleatorios entre 0 e 100 (sem incluir o 100)\n",
    "    import random\n",
    "    lista = random.sample(range(0,100), 10)\n",
    "    \n",
    "    # exibe a lista\n",
    "    print(lista)\n",
    "    \n",
    "    # retorna o maior deles\n",
    "    return max(lista)\n",
    "\n",
    "##################################\n",
    "##################################\n",
    "# chamando a função, pra testar\n",
    "\n",
    "sorteia_maximo()"
   ]
  },
  {
   "cell_type": "markdown",
   "metadata": {},
   "source": [
    "8.Faça uma função que recebe um número n de entrada, sorteia nnúmeros aleatórios entre 0 e 100 e retorna a média deles. \n"
   ]
  },
  {
   "cell_type": "code",
   "execution_count": 107,
   "metadata": {},
   "outputs": [
    {
     "name": "stdout",
     "output_type": "stream",
     "text": [
      "[48, 47, 97]\n"
     ]
    },
    {
     "data": {
      "text/plain": [
       "64.0"
      ]
     },
     "execution_count": 107,
     "metadata": {},
     "output_type": "execute_result"
    }
   ],
   "source": [
    "def retorna_media(n):\n",
    "    \n",
    "    # gerando lista com n (argumento da função) numeros aleatorios entre 0 e 100 (sem incluir o 100)\n",
    "    import random\n",
    "    lista = random.sample(range(0,100), n)\n",
    "    \n",
    "    print(lista)\n",
    "    \n",
    "    # calcula a media dos elementos na lista\n",
    "    media = sum(lista)/len(lista)\n",
    "    \n",
    "    return media  \n",
    "    \n",
    "##################################\n",
    "##################################\n",
    "# chamando a função, pra testar\n",
    "\n",
    "retorna_media(3)"
   ]
  },
  {
   "cell_type": "markdown",
   "metadata": {},
   "source": [
    "\n",
    "9.Faça uma função que recebe uma lista de palavras e retorna uma lista contendo as mesmas palavras da lista anterior, porém escritas em caixa alta. \n"
   ]
  },
  {
   "cell_type": "code",
   "execution_count": 108,
   "metadata": {},
   "outputs": [
    {
     "data": {
      "text/plain": [
       "['UM TEXTO LEGAL QUE QUERO DEIXAR COM CAPS GRITANDOOOO']"
      ]
     },
     "execution_count": 108,
     "metadata": {},
     "output_type": "execute_result"
    }
   ],
   "source": [
    "def caps_lock(lista):\n",
    "    \n",
    "    # inicializa a list vazia a ser preenchida\n",
    "    lista_caps = []\n",
    "    \n",
    "    for palavra in lista:\n",
    "        \n",
    "        # pega cada palavra em letras maiusculas e apenda à lista\n",
    "        lista_caps.append(palavra.upper())\n",
    "     \n",
    "    # retorna a lista com maiusculas\n",
    "    return lista_caps\n",
    "\n",
    "##################################\n",
    "##################################\n",
    "# chamando a função, pra testar\n",
    "\n",
    "caps_lock([\"um texto legal que quero deixar com caps gritandoooo\"])"
   ]
  },
  {
   "cell_type": "markdown",
   "metadata": {},
   "source": [
    "__ELABORAÇÃO: usando list comprehension__"
   ]
  },
  {
   "cell_type": "code",
   "execution_count": 110,
   "metadata": {},
   "outputs": [
    {
     "data": {
      "text/plain": [
       "['UM TEXTO LEGAL QUE QUERO DEIXAR COM CAPS GRITANDOOOO']"
      ]
     },
     "execution_count": 110,
     "metadata": {},
     "output_type": "execute_result"
    }
   ],
   "source": [
    "def caps_lock(lista):\n",
    "    \n",
    "    # usando compreensão de lista\n",
    "    lista_caps = [palavra.upper() for palavra in lista]\n",
    "    \n",
    "    return lista_caps\n",
    "\n",
    "##################################\n",
    "##################################\n",
    "# chamando a função, pra testar\n",
    "\n",
    "caps_lock([\"um texto legal que quero deixar com caps gritandoooo\"])"
   ]
  },
  {
   "cell_type": "markdown",
   "metadata": {},
   "source": [
    "\n",
    "10.Faça uma função que recebe duas listas e retorna a soma item a item dessas listas. Exemplo: Se a função receber as listas [1,4,3] e [3,5,1], então a função deve retornar [1+3, 4+5, 3+1] = [4, 9, 4]. \n",
    "\n",
    "\n"
   ]
  },
  {
   "cell_type": "code",
   "execution_count": 120,
   "metadata": {},
   "outputs": [
    {
     "data": {
      "text/plain": [
       "[4, 9, 4]"
      ]
     },
     "execution_count": 120,
     "metadata": {},
     "output_type": "execute_result"
    }
   ],
   "source": [
    "def soma_listas(lista1, lista2):\n",
    "    \n",
    "    # checa se as listas têm numero de elementos doferemtes -- se tiver, não dá pra fazer a soma!\n",
    "    if len(lista1) != len(lista2):\n",
    "\n",
    "        # se o tamanho das listas for diferente, avisa o erro!\n",
    "        print(\"As listas têm comprimento diferente, não consigo somar\")\n",
    "        \n",
    "        # retorna um erro\n",
    "        return \"ERRO!\"\n",
    "\n",
    "    # se as listas tiverem o mesmo numero de elementos\n",
    "    else:\n",
    "\n",
    "        # define uma lista vazia, que vai conter a soma dos elementos\n",
    "        soma_das_listas = []\n",
    "\n",
    "        # percorre o indice da lista. note que estamos usando o range!\n",
    "        # e tanto faz usar len(lista1) ou len(lista2), pq já garantimos que eles são iguais!\n",
    "        for indice in range(len(lista1)):\n",
    "\n",
    "            # calcula a soma dos elementos, acessados pelo indice\n",
    "            soma_dos_elementos = lista1[indice] + lista2[indice]\n",
    "\n",
    "            # apenda o a soma inicializada\n",
    "            soma_das_listas.append(soma_dos_elementos)\n",
    "            \n",
    "        return soma_das_listas\n",
    "    \n",
    "##################################\n",
    "##################################\n",
    "# chamando a função, pra testar\n",
    "\n",
    "soma_listas([1,4,3], [3,5,1])"
   ]
  },
  {
   "cell_type": "markdown",
   "metadata": {},
   "source": [
    "11.Faça uma função que receba duas listas e retorne o produto item a item dessas listas.\n",
    "Exemplo: Se a função receber as listas [1,4,3] e [3,5,1], então a função deve retornar [1x3, 4x5, 3x1] = [3, 20, 3]. \n",
    "\n"
   ]
  },
  {
   "cell_type": "code",
   "execution_count": 119,
   "metadata": {},
   "outputs": [
    {
     "data": {
      "text/plain": [
       "[3, 20, 3]"
      ]
     },
     "execution_count": 119,
     "metadata": {},
     "output_type": "execute_result"
    }
   ],
   "source": [
    "def produto_listas(lista1, lista2):\n",
    "    \n",
    "    # checa se as listas têm numero de elementos doferemtes -- se tiver, não dá pra fazer a soma!\n",
    "    if len(lista1) != len(lista2):\n",
    "\n",
    "        # se o tamanho das listas for diferente, avisa o erro!\n",
    "        print(\"As listas têm comprimento diferente, não consigo somar\")\n",
    "        \n",
    "        # retorna um erro\n",
    "        return \"ERRO!\"\n",
    "\n",
    "    # se as listas tiverem o mesmo numero de elementos\n",
    "    else:\n",
    "\n",
    "        # define uma lista vazia, que vai conter a soma dos elementos\n",
    "        produto_das_listas = []\n",
    "\n",
    "        # percorre o indice da lista. note que estamos usando o range!\n",
    "        # e tanto faz usar len(lista1) ou len(lista2), pq já garantimos que eles são iguais!\n",
    "        for indice in range(len(lista1)):\n",
    "\n",
    "            # calcula o produto dos elementos, acessados pelo indice\n",
    "            produto_dos_elementos = lista1[indice]*lista2[indice]\n",
    "\n",
    "            # apenda o produto inicializado\n",
    "            produto_das_listas.append(produto_dos_elementos)\n",
    "            \n",
    "        return produto_das_listas\n",
    "    \n",
    "##################################\n",
    "##################################\n",
    "# chamando a função, pra testar\n",
    "\n",
    "produto_listas([1,4,3], [3,5,1])"
   ]
  },
  {
   "cell_type": "markdown",
   "metadata": {},
   "source": [
    "12.Faça uma função que recebe um número x e uma lista numérica e retorna uma lista cujos elementos são os itens da lista de entrada multiplicado por x. Exemplo: se a função receber o número 5 e a lista [3,5,1], então a função deve retornar [5x3, 5x5, 5x1] = [15, 25, 5]. \n"
   ]
  },
  {
   "cell_type": "code",
   "execution_count": 118,
   "metadata": {},
   "outputs": [
    {
     "data": {
      "text/plain": [
       "[15, 25, 5]"
      ]
     },
     "execution_count": 118,
     "metadata": {},
     "output_type": "execute_result"
    }
   ],
   "source": [
    "def multiplicacao_por_escalar(x, lista):\n",
    "    \n",
    "    # cria lista vazia\n",
    "    lista_nova = []\n",
    "    \n",
    "    # percorre cada elemento da lista dada como argumento\n",
    "    for elemento in lista:\n",
    "        \n",
    "        # apenda à lista nova o escalar x vezes cada elemento da lista\n",
    "        lista_nova.append(x*elemento)\n",
    "        \n",
    "    return lista_nova\n",
    "\n",
    "##################################\n",
    "##################################\n",
    "# chamando a função, pra testar\n",
    "\n",
    "multiplicacao_por_escalar(5, [3, 5, 1])"
   ]
  },
  {
   "cell_type": "markdown",
   "metadata": {},
   "source": [
    "__ELABORAÇÃO: usando list comprehension__"
   ]
  },
  {
   "cell_type": "code",
   "execution_count": 115,
   "metadata": {},
   "outputs": [
    {
     "data": {
      "text/plain": [
       "[15, 25, 5]"
      ]
     },
     "execution_count": 115,
     "metadata": {},
     "output_type": "execute_result"
    }
   ],
   "source": [
    "def multiplicacao_por_escalar(x, lista):\n",
    "    \n",
    "    # usando compreensão de listas\n",
    "    lista_nova = [x*elemento for elemento in lista]\n",
    "        \n",
    "    return lista_nova\n",
    "\n",
    "##################################\n",
    "##################################\n",
    "# chamando a função, pra testar\n",
    "\n",
    "multiplicacao_por_escalar(5, [3, 5, 1])"
   ]
  },
  {
   "cell_type": "markdown",
   "metadata": {},
   "source": [
    "\n",
    "13.Faça uma função que recebe uma lista de números e retorna a soma dos elementos dessa lista. \n"
   ]
  },
  {
   "cell_type": "code",
   "execution_count": 116,
   "metadata": {},
   "outputs": [
    {
     "data": {
      "text/plain": [
       "9"
      ]
     },
     "execution_count": 116,
     "metadata": {},
     "output_type": "execute_result"
    }
   ],
   "source": [
    "def soma_elementos(lista):\n",
    "    \n",
    "    # retorna a soma dos elementos da lista\n",
    "    return sum(lista)\n",
    "\n",
    "##################################\n",
    "##################################\n",
    "# chamando a função, pra testar\n",
    "\n",
    "soma_elementos([3, 5, 1])"
   ]
  },
  {
   "cell_type": "markdown",
   "metadata": {},
   "source": [
    "\n",
    "14.Faça uma função que recebe uma lista de números e retorna a média aritmética dos elementos dessa lista."
   ]
  },
  {
   "cell_type": "code",
   "execution_count": 117,
   "metadata": {},
   "outputs": [
    {
     "data": {
      "text/plain": [
       "3.0"
      ]
     },
     "execution_count": 117,
     "metadata": {},
     "output_type": "execute_result"
    }
   ],
   "source": [
    "def media_elementos(lista):\n",
    "    \n",
    "    # calcula a media dos elementos da lista\n",
    "    media = sum(lista)/len(lista)\n",
    "    \n",
    "    return media\n",
    "\n",
    "##################################\n",
    "##################################\n",
    "# chamando a função, pra testar\n",
    "\n",
    "media_elementos([3, 5, 1])"
   ]
  },
  {
   "cell_type": "markdown",
   "metadata": {},
   "source": [
    "____\n",
    "____\n",
    "____\n",
    "____"
   ]
  },
  {
   "cell_type": "markdown",
   "metadata": {},
   "source": [
    "# DESAFIOS"
   ]
  },
  {
   "cell_type": "markdown",
   "metadata": {},
   "source": [
    "1.Faça uma função que receba um número e calcule seu fatorial. "
   ]
  },
  {
   "cell_type": "code",
   "execution_count": 3,
   "metadata": {},
   "outputs": [
    {
     "data": {
      "text/plain": [
       "120"
      ]
     },
     "execution_count": 3,
     "metadata": {},
     "output_type": "execute_result"
    }
   ],
   "source": [
    "def fatorial(n):\n",
    "    \n",
    "    fat = 1\n",
    "    \n",
    "    for i in range(1, n+1):\n",
    "        \n",
    "        fat = fat*i\n",
    "        \n",
    "    return fat\n",
    "        \n",
    "##################################\n",
    "##################################"
   ]
  },
  {
   "cell_type": "markdown",
   "metadata": {},
   "source": [
    "2.Super Desafio! - Repita o exercício anterior usando recursão, ou seja, uma função que chame ela mesma, lembrando que 3! = 3\\*2!, que 2! = 2\\*1!, que 1! = 1\\*0! e que 0! = 1.\n",
    " "
   ]
  },
  {
   "cell_type": "code",
   "execution_count": null,
   "metadata": {},
   "outputs": [],
   "source": [
    "def fatorial(n):\n",
    "    \n",
    "    if n > 1: \n",
    "        \n",
    "        return n*fatorial(n-1)\n",
    "    \n",
    "    elif n == 1:\n",
    "        \n",
    "        return 1\n",
    "    \n",
    "##################################\n",
    "##################################"
   ]
  },
  {
   "cell_type": "markdown",
   "metadata": {},
   "source": [
    "3.Faça uma função que recebe duas entradas: um input dado pelo usuário e um string que informa o tipo de dado (\"idade\", \"salário\" ou \"sexo\"), e verifica se os dados digitados foram válidos, usando os seguintes critérios: \n",
    "- a.Idade: entre 0 e 150;  \n",
    "- b.Salário: maior que 0;  \n",
    "- c.Sexo: M, F ou Outro. \n",
    "\n"
   ]
  },
  {
   "cell_type": "code",
   "execution_count": 62,
   "metadata": {},
   "outputs": [
    {
     "name": "stdout",
     "output_type": "stream",
     "text": [
      "Digite sua idade: 22\n",
      " A idade informava é válida!\n",
      "\n",
      "\n",
      "Digite seu salário: 1000\n",
      "O salário informado é válido!\n",
      "\n",
      "\n",
      "Digite seu sexo: M\n",
      "O sexo informado é válido!\n",
      "\n",
      "\n"
     ]
    }
   ],
   "source": [
    "def verifica_validade(input_usuario, tipo):\n",
    "\n",
    "    if tipo == \"idade\":\n",
    "        \n",
    "        # trasnforma o input em int\n",
    "        input_usuario = int(input_usuario)\n",
    "        \n",
    "        # se a idade não for válida...\n",
    "        if input_usuario < 0 or input_usuario > 150:\n",
    "            print(\"A idade informada é inválida!\")\n",
    "        else:\n",
    "            print(\" A idade informava é válida!\")\n",
    "    \n",
    "    elif tipo == \"salario\":\n",
    "        \n",
    "        # trasnforma o input em float\n",
    "        input_usuario = int(input_usuario)\n",
    "        \n",
    "        # se o salário não for válido...\n",
    "        if input_usuario < 0:\n",
    "            print(\"O salário informado é inválido!\")\n",
    "        else:\n",
    "            print(\"O salário informado é válido!\")\n",
    "\n",
    "    elif tipo == \"sexo\":\n",
    "        \n",
    "        # se o sexo não for válido...\n",
    "        if input_usuario not in [\"M\", \"F\",\"OUTRO\"]:\n",
    "            print(\"O sexo informado é inválido!\")\n",
    "        else:\n",
    "            print(\"O sexo informado é válido!\")\n",
    "\n",
    "    # caso o tipo não seja nenhum dos anteriores\n",
    "    else:\n",
    "        \n",
    "        print(\"Não entendi o que é pra verificar!\")\n",
    "        \n",
    "    # quebra de linha, só pra ficar melhor formatado\n",
    "    print(\"\\n\")\n",
    "        \n",
    "##################################\n",
    "##################################\n",
    "\n",
    "dado_usuario = input(\"Digite sua idade: \")\n",
    "verifica_validade(dado_usuario, \"idade\")\n",
    "\n",
    "\n",
    "dado_usuario = input(\"Digite seu salário: \")\n",
    "verifica_validade(dado_usuario, \"salario\")\n",
    "\n",
    "\n",
    "dado_usuario = input(\"Digite seu sexo: \")\n",
    "verifica_validade(dado_usuario, \"sexo\")"
   ]
  },
  {
   "cell_type": "markdown",
   "metadata": {},
   "source": [
    "\n",
    "4.A sequência Fibonacci é a sequência cujos dois primeiros termos são 1 e os demais são obtidos através da soma de seus dois antecessores, isso é: a.Fibonacci(1) = 1 e Fibonacci(2) = 2; b.dado qualquer número n >= 3, Fibonacci(n) = Fibonacci(n-1) + Fibonacci(n-2) Assim, os 10 primeiros termos da sequência Fibonacci são:     1, 1, 2, 3, 5, 8, 13, 21, 34, 55... Faça uma função que receba um número n e calcule o termo de número n da sequência Fibonacci. \n",
    "\n"
   ]
  },
  {
   "cell_type": "code",
   "execution_count": 26,
   "metadata": {},
   "outputs": [
    {
     "name": "stdout",
     "output_type": "stream",
     "text": [
      "a sequência de fibonacci até o termo 7 é: [1, 1, 2, 3, 5, 8, 13, 21]\n"
     ]
    },
    {
     "data": {
      "text/plain": [
       "21"
      ]
     },
     "execution_count": 26,
     "metadata": {},
     "output_type": "execute_result"
    }
   ],
   "source": [
    "def fibonacci(n):\n",
    "    \n",
    "    # iniciaciliza uma lista com os dois primeiros termos da sequencia de fibonacci\n",
    "    # o elemento 0 é o 1, e o elemento 1 tb é o 1\n",
    "    # agora, vamos preencher essa lista até o elemento n\n",
    "    lista_fibonacci = [1, 1]\n",
    "    \n",
    "    # o range começa em 2 (pq os índices 0 e 1 já foram inicializados)\n",
    "    # e termina em n+1, pq queremos ir até o índice n! \n",
    "    #(lembre que o range é de intervalo superior aberto, então se terminasse em n, ele ia parar em n-1)\n",
    "    for i in range(2, n+1):\n",
    "        \n",
    "        # calcula qual é o i-ésimo termo da sequencia\n",
    "        # que, pela definição da sequência, é o anterior (i-1) mais o ante-anterior (i-2)\n",
    "        termo_i = lista_fibonacci[i-1] + lista_fibonacci[i-2]\n",
    "        \n",
    "        # apenda o termo i à lista\n",
    "        lista_fibonacci.append(termo_i)\n",
    "      \n",
    "    # o exercicio nao pediu, mas é legal visualizar a lista criada\n",
    "    print(\"a sequência de fibonacci até o termo\", n, \"é:\", lista_fibonacci)\n",
    "    \n",
    "    # o n-ésimo termo desejado vai ser o ultimo elemento da lista,\n",
    "    # pois nós construímos a lista justamente até o n-ésimo termo\n",
    "    termo_n = lista_fibonacci[-1]\n",
    "    \n",
    "    return termo_n\n",
    "\n",
    "##################################\n",
    "##################################\n",
    "\n",
    "fibonacci(7)"
   ]
  },
  {
   "cell_type": "markdown",
   "metadata": {},
   "source": [
    "5.Super Desafio! Refaça o desafio 4 usando recursão. \n",
    "\n",
    " "
   ]
  },
  {
   "cell_type": "code",
   "execution_count": 31,
   "metadata": {},
   "outputs": [
    {
     "data": {
      "text/plain": [
       "21"
      ]
     },
     "execution_count": 31,
     "metadata": {},
     "output_type": "execute_result"
    }
   ],
   "source": [
    "# esse é um caso onde a função recursiva fica bem mais simples de ser feita e entendida!!\n",
    "\n",
    "def fibonacci(n):\n",
    "    \n",
    "    # esses são os dois primeiros termos da sequência (termos 0 e 1), ambos com o valor de 1\n",
    "    if n == 0 or n == 1:\n",
    "        \n",
    "        return 1\n",
    "      \n",
    "    # agora, pra n >= 2, não precisamos \n",
    "    elif n >= 2:\n",
    "        \n",
    "        return fibonacci(n-1) + fibonacci(n-2)\n",
    "    \n",
    "##################################\n",
    "##################################\n",
    "\n",
    "fibonacci(7)"
   ]
  },
  {
   "cell_type": "markdown",
   "metadata": {},
   "source": [
    "6.Super  Desafio!  -  Faça  um  jogo  de BlackJack  usando  funções:  o BlackJack, ou Vinte e Um, é um jogo em que os jogadores podem comprar cartas livremente, enquanto tiverem menos de 21 pontos. No nosso jogo, o Ás vale um ponto; as cartas de 2 a 10 valem o número de pontos que elas representam; e Valete, Dama e Rei valem 10 pontos cada. Ganha o jogador que tiver o maior número de pontos, desde que este seja menor ou igual a 21. Nosso jogo deve ter as seguintes funções:  \n",
    "- a.Função principal: a função que vamos chamar para iniciar o jogo.  Essa  função  não  irá  receber  nem  retornar  nenhuma variável.  Ela  deve  perguntar  o  número  de  jogadores participantes e o nome de cada um. Em seguida ela chama as outras funções do jogo. \n",
    "- b.Função para criar o baralho: essa função deve criar um baralho (uma lista) com as cartas do baralho. \n",
    "- c.Função para a jogada: essa função deve receber o nome do jogador que irá realizar a jogada e, caso ele ainda esteja ativo (tenha menos de 21 pontos e ainda não tenha desistido de comprar cartas) deve perguntar se ele quer comprar uma carta. Se ele responder que sim, a função deve chamar a próxima função para sortear uma carta e somar o valor retornado na pontuação do jogador; se ele responder que não, a função deve desativar o jogador para que ele não possa mais comprar cartas; Essa função só deve ser chamada enquanto houver jogadores ativos. \n",
    "- d.Função para o sorteio: essa função retira uma carta aleatória do baralho e retorna o número de pontos que essa carta vale. \n",
    "- e.Função   verificação:   verifica   e   indica   qual/quais jogador/jogadores tem o maior número de pontos, que seja menor ou igual a 21. "
   ]
  },
  {
   "cell_type": "code",
   "execution_count": 10,
   "metadata": {
    "scrolled": false
   },
   "outputs": [
    {
     "name": "stdout",
     "output_type": "stream",
     "text": [
      "Quantas pessoas vão jogar? 2\n",
      "Digite o nome do 1° jogador: André\n",
      "Digite o nome do 2° jogador: João\n",
      "\n",
      "**********************************************\n",
      "\n",
      "Iniciando a jogada do jogador: André\n",
      "\n",
      "**********************************************\n",
      "\n",
      "Primeira carta comprada: \n",
      "A carta comprada foi: dama\n",
      "A carta dama equivale a 10 pontos!\n",
      "Sua pontuação atual é de 10 pontos!\n",
      "\n",
      "\n",
      "Você quer comprar uma nova carta? (digite 'sim' ou 'nao')sim\n",
      "A carta comprada foi: ás\n",
      "A carta ás equivale a 1 pontos!\n",
      "Sua pontuação atual é de 11 pontos!\n",
      "\n",
      "\n",
      "Você quer comprar uma nova carta? (digite 'sim' ou 'nao')sim\n",
      "A carta comprada foi: 7\n",
      "A carta 7 equivale a 7 pontos!\n",
      "Sua pontuação atual é de 18 pontos!\n",
      "\n",
      "\n",
      "Você quer comprar uma nova carta? (digite 'sim' ou 'nao')sim\n",
      "A carta comprada foi: 5\n",
      "A carta 5 equivale a 5 pontos!\n",
      "Sua pontuação atual é de 23 pontos!\n",
      "\n",
      "**********************************************\n",
      "\n",
      "O jogador André finalizou a jogada, terminando com 23 pontos!\n",
      "\n",
      "**********************************************\n",
      "\n",
      "\n",
      "_____________________________________________________\n",
      "_____________________________________________________\n",
      "\n",
      "MUDANDO DE JOGADOR\n",
      "_____________________________________________________\n",
      "_____________________________________________________\n",
      "\n",
      "\n",
      "**********************************************\n",
      "\n",
      "Iniciando a jogada do jogador: João\n",
      "\n",
      "**********************************************\n",
      "\n",
      "Primeira carta comprada: \n",
      "A carta comprada foi: dama\n",
      "A carta dama equivale a 10 pontos!\n",
      "Sua pontuação atual é de 10 pontos!\n",
      "\n",
      "\n",
      "Você quer comprar uma nova carta? (digite 'sim' ou 'nao')sim\n",
      "A carta comprada foi: 3\n",
      "A carta 3 equivale a 3 pontos!\n",
      "Sua pontuação atual é de 13 pontos!\n",
      "\n",
      "\n",
      "Você quer comprar uma nova carta? (digite 'sim' ou 'nao')sim\n",
      "A carta comprada foi: dama\n",
      "A carta dama equivale a 10 pontos!\n",
      "Sua pontuação atual é de 23 pontos!\n",
      "\n",
      "**********************************************\n",
      "\n",
      "O jogador João finalizou a jogada, terminando com 23 pontos!\n",
      "\n",
      "**********************************************\n",
      "\n",
      "\n",
      "_____________________________________________________\n",
      "_____________________________________________________\n",
      "_____________________________________________________\n",
      "\n",
      "FIM DE JOGO!\n",
      "_____________________________________________________\n",
      "_____________________________________________________\n",
      "_____________________________________________________\n",
      "\n",
      "\n",
      "Resultado do jogo:\n",
      "\n",
      "O jogador André terminou o jogo com 23 pontos!\n",
      "O jogador João terminou o jogo com 23 pontos!\n",
      "\n",
      "\n",
      "\n",
      "############################################\n",
      "\n",
      "############################################\n",
      "\n",
      "Ninguém venceu!\n",
      "\n",
      "\n",
      "############################################\n",
      "\n",
      "############################################\n",
      "\n"
     ]
    }
   ],
   "source": [
    "# a.Função principal: a função que vamos chamar para iniciar o jogo.  \n",
    "# Essa  função  não  irá  receber  nem  retornar  nenhuma variável.  \n",
    "# Ela  deve  perguntar  o  número  de  jogadores participantes e o nome de cada um. \n",
    "# Em seguida ela chama as outras funções do jogo. \n",
    "        \n",
    "def principal():\n",
    "    \n",
    "    # solicita numero de jogadores\n",
    "    n = int(input(\"Quantas pessoas vão jogar? \"))\n",
    "    \n",
    "    # inicializa a lista pra armazenar os nomes\n",
    "    jogadores = []\n",
    "\n",
    "    # pergunta o nome dos jogadores e os armazena\n",
    "    for i in range(n):\n",
    "        \n",
    "        nome = input(\"Digite o nome do \" + str(i+1) + \"° jogador: \")\n",
    "        \n",
    "        jogadores.append(nome)\n",
    "    \n",
    "    # pra cada um dos jogadores, faça as jogadas\n",
    "    # a funçao retorna uma lista, que apendamos à lista de listas\n",
    "    # que contabiliza os pontos finais de cada jogador\n",
    "    \n",
    "    # inicializa a lista contabilizadora \n",
    "    contabiliza_pontos = []\n",
    "\n",
    "    # pra cada um dos jogadores\n",
    "    for nome in jogadores:\n",
    "        \n",
    "        # armazena a lista com [nome, pontuacao] da jogada de cada jogador\n",
    "        resultado_da_jogada = jogada(nome)\n",
    "        \n",
    "        # apenda à lista contabilizadora\n",
    "        contabiliza_pontos.append(resultado_da_jogada)\n",
    "        \n",
    "        # pra todos os jogadores, exceto o ultimo\n",
    "        if nome != jogadores[-1]:\n",
    "            print(\"\\n_____________________________________________________\")\n",
    "            print(\"_____________________________________________________\\n\")\n",
    "            print(\"MUDANDO DE JOGADOR\")\n",
    "            print(\"_____________________________________________________\")\n",
    "            print(\"_____________________________________________________\\n\")\n",
    "           \n",
    "        # depois do ultimo jogador, o jogo acaba!\n",
    "        else:\n",
    "            print(\"\\n_____________________________________________________\")\n",
    "            print(\"_____________________________________________________\")\n",
    "            print(\"_____________________________________________________\\n\")\n",
    "            print(\"FIM DE JOGO!\")\n",
    "            print(\"_____________________________________________________\")\n",
    "            print(\"_____________________________________________________\")\n",
    "            print(\"_____________________________________________________\\n\") \n",
    "            \n",
    "    # mostra um resumo dos resultados do jogo:\n",
    "    print(\"\\nResultado do jogo:\\n\")\n",
    "    for item in contabiliza_pontos:\n",
    "        \n",
    "        print(\"O jogador\", item[0], \"terminou o jogo com\", item[1], \"pontos!\")\n",
    "        \n",
    "    print(\"\\n\")\n",
    "        \n",
    "    # por fim, chama a função que verifica quem ganhou, e armazena a lista de vencedores\n",
    "    jogadores_vencedores = verificacao(contabiliza_pontos)\n",
    "    \n",
    "    # mostra quem venceu\n",
    "    print(\"\\n############################################\")\n",
    "    print(\"\\n############################################\\n\")\n",
    "    \n",
    "    # caso tenha mais de um vencedor\n",
    "    if len(jogadores_vencedores) > 1:\n",
    "        \n",
    "        print(\"E os jogadores vencedores são:\\n\")\n",
    "        print(*jogadores_vencedores, sep=\"\\n\")\n",
    "     \n",
    "    # caso ninguem tenha vencido\n",
    "    elif jogadores_vencedores[0] == \"Ninguém venceu!\":\n",
    "        \n",
    "        print(\"Ninguém venceu!\\n\")\n",
    "     \n",
    "    # caso tenha apenas um vencedor\n",
    "    else:\n",
    "        \n",
    "        print(\"E o jogador vencedor é:\\n\")\n",
    "        print(*jogadores_vencedores, sep=\"\\n\")\n",
    "        \n",
    "    print(\"\\n############################################\")\n",
    "    print(\"\\n############################################\\n\")\n",
    "\n",
    "#########################################################################################\n",
    "#########################################################################################\n",
    "\n",
    "# b.Função para criar o baralho: essa função deve criar um baralho (uma lista) com as cartas do baralho. \n",
    "\n",
    "def criar_baralho():\n",
    "\n",
    "    # lista com as cartas do baralho\n",
    "    baralho = [\"ás\", 2, 3, 4, 5, 6, 7, 8, 9, 10, \"valete\", \"dama\", \"rei\"]\n",
    "    \n",
    "    return baralho\n",
    "\n",
    "\n",
    "#########################################################################################\n",
    "#########################################################################################\n",
    "\n",
    "# c.Função para a jogada: essa função deve receber o nome do jogador que irá realizar a jogada e,\n",
    "# caso ele ainda esteja ativo (tenha menos de 21 pontos e ainda não tenha desistido de comprar cartas)\n",
    "# deve perguntar se ele quer comprar uma carta. \n",
    "# - Se ele responder que sim, a função deve chamar a próxima função para sortear uma carta \n",
    "#   e somar o valor retornado na pontuação do jogador; \n",
    "# - se ele responder que não, a função deve desativar o jogador para que ele não possa mais comprar cartas; \n",
    "# ssa função só deve ser chamada enquanto houver jogadores ativos. \n",
    "\n",
    "def jogada(nome):\n",
    "    \n",
    "    print(\"\\n**********************************************\\n\")\n",
    "    print(\"Iniciando a jogada do jogador:\", nome)\n",
    "    print(\"\\n**********************************************\\n\")\n",
    "    \n",
    "    # inicializa a pontiacao com zero\n",
    "    pontuacao = 0\n",
    "\n",
    "    print(\"Primeira carta comprada: \")\n",
    "    \n",
    "    # chama a função sorteio(), que retorna os pontos da carta escolhida\n",
    "    ponto_da_carta = sorteio()\n",
    "    \n",
    "    # atualiza a pontuação e a informa\n",
    "    pontuacao = pontuacao + ponto_da_carta\n",
    "    print(\"Sua pontuação atual é de\", pontuacao, \"pontos!\")\n",
    "    \n",
    "    # flag pra saber se o jogador quer continuar jogando\n",
    "    continuar = True\n",
    "    \n",
    "    while pontuacao < 21 and continuar:\n",
    "        \n",
    "        # só pra formatar melhor\n",
    "        print(\"\\n\")\n",
    "        \n",
    "        # pergunta se o jogador quer comprar uma nova carta\n",
    "        resposta = input(\"Você quer comprar uma nova carta? (digite 'sim' ou 'nao')\")\n",
    "        \n",
    "        # tirando acentos e espaços no fim e começo, e deixando letra minuscula\n",
    "        import unicodedata\n",
    "        resposta = unicodedata.normalize(\"NFD\", resposta).encode(\"ascii\", \"ignore\").decode(\"utf-8\").strip().lower() \n",
    "        \n",
    "        # se ele quiser continuar, sorteie nova carta\n",
    "        if resposta == \"sim\":\n",
    "            \n",
    "            # sorteia nova carta e informe a nova pontuação\n",
    "            ponto_da_carta = sorteio()\n",
    "            pontuacao = pontuacao + ponto_da_carta\n",
    "            print(\"Sua pontuação atual é de\", pontuacao, \"pontos!\")\n",
    "            \n",
    "        elif resposta == \"nao\":\n",
    "            \n",
    "            # muda a flag\n",
    "            continuar = False\n",
    "          \n",
    "    print(\"\\n**********************************************\\n\")\n",
    "    print(\"O jogador\", nome, \"finalizou a jogada, terminando com\", pontuacao, \"pontos!\")\n",
    "    print(\"\\n**********************************************\\n\")\n",
    "    \n",
    "    # no fim, retornamos uma lista com o nome do jogador, e sua pontuacao\n",
    "    return [nome, pontuacao]\n",
    "   \n",
    "#########################################################################################\n",
    "#########################################################################################\n",
    "\n",
    "# d.Função para o sorteio: essa função retira uma carta aleatória do baralho e retorna o número\n",
    "# de pontos que essa carta vale. \n",
    "\n",
    "def sorteio():\n",
    "    \n",
    "    # chama a função de criação do baralho\n",
    "    baralho = criar_baralho()\n",
    "    \n",
    "    # vamos sortear um indice aleatório do baralho\n",
    "    # como são 13 cartas, vamos sortear um número entre 0 e 12\n",
    "    import random\n",
    "    indice = random.randint(0, 12)\n",
    "    \n",
    "    # sorteia a carta, e exibe pro usuário\n",
    "    carta_sorteada = baralho[indice]\n",
    "    print(\"A carta comprada foi:\", carta_sorteada)\n",
    "    \n",
    "    if carta_sorteada in [\"valete\", \"dama\", \"rei\"]:\n",
    "        \n",
    "        # as figuras valem 10 pontos\n",
    "        pontos = 10\n",
    "        \n",
    "    elif carta_sorteada == \"ás\":\n",
    "        \n",
    "        # ás vale 1\n",
    "        pontos = 1\n",
    "        \n",
    "    # são os próprios numeros    \n",
    "    else:\n",
    "        \n",
    "        # os numeros já são inteiros\n",
    "        pontos = carta_sorteada\n",
    "\n",
    "    # informa o numero de pontos correspondente à carta\n",
    "    print(\"A carta\", carta_sorteada, \"equivale a\", pontos, \"pontos!\")\n",
    "    \n",
    "    # retorna o numero de pontos\n",
    "    return pontos\n",
    "\n",
    "#########################################################################################\n",
    "#########################################################################################\n",
    "\n",
    "# e.Função   verificação:   verifica   e   indica   qual/quais jogador/jogadores tem o maior número de pontos, \n",
    "# que seja menor ou igual a 21. \n",
    "\n",
    "def verificacao(contabiliza_pontos):\n",
    "    \n",
    "    # a \"contabiliza_pontos\" é uma lista de listas, em que cada elemento\n",
    "    # é uma lista referente a cada jogador, [nome, pontuacao]\n",
    "    \n",
    "    # pega os nomes dos jogadores, que é o elemento de indice 0 de cada lista\n",
    "    nomes = [elemento[0] for elemento in contabiliza_pontos]\n",
    "     \n",
    "    # pega as pontuações dos jogadores, que é o elemento de indice 1 de cada lista\n",
    "    pontuacoes = [elemento[1] for elemento in contabiliza_pontos]\n",
    "    \n",
    "        \n",
    "    # vamos ver qual que é a pontuação minima.. se até essa for maior que 21, é pq ngm ganhou!\n",
    "    pontuacao_minima = min(pontuacoes)\n",
    "    \n",
    "    if pontuacao_minima > 21:\n",
    "        \n",
    "        # neste caso, criamos uma lista com um unico elemento, dizendo que ngm venceu\n",
    "        vencedores = [\"Ninguém venceu!\"]\n",
    "        \n",
    "    else:\n",
    "        # checa qual é o máximo de pontuação, mas que seja menor que 21\n",
    "        pontuacao_maxima = max(pontuacoes)\n",
    "\n",
    "        # cria uma copia pra poder alterar\n",
    "        pontuacoes_copia = pontuacoes.copy()\n",
    "\n",
    "        # loop pra determinar a pontuação maxima que seja menor que 21\n",
    "        while pontuacao_maxima > 21:\n",
    "\n",
    "            # se a pontuacao for maior que 21, tira ela da lista\n",
    "            pontuacoes_copia.remove(pontuacao_maxima)\n",
    "\n",
    "            # aí, calcula a nova pontuação maxima\n",
    "            pontuacao_maxima = max(pontuacoes_copia)\n",
    "\n",
    "        # inicializa uma lista vazia, que vai conter o nome dos vencedores\n",
    "        # (ou seja, os jogadores com maior pontuação, mas que seja menor que 21)\n",
    "        vencedores = []\n",
    "\n",
    "        for i in range(len(pontuacoes)):\n",
    "\n",
    "            # ve se a pontuação é a pontuação maxima, determinada acima\n",
    "            if pontuacoes[i] == pontuacao_maxima:\n",
    "\n",
    "                # pegamos o nome, usando o mesmo indice\n",
    "                nome = nomes[i]\n",
    "\n",
    "                # apendamos o nome à lista de vencedores\n",
    "                vencedores.append(nome)\n",
    "     \n",
    "    # dá pra fazer a mesma coisa feita no loop acima com list comprehension:\n",
    "    # vencedores = [nomes[pontuacoes.index(item)] for item in pontuacoes if item == pontuacao_maxima]\n",
    "    \n",
    "    # retorna a lista com os vencedores\n",
    "    return vencedores\n",
    "\n",
    "#########################################################################################\n",
    "#########################################################################################\n",
    "#########################################################################################\n",
    "#########################################################################################\n",
    "#########################################################################################\n",
    "#########################################################################################\n",
    "\n",
    "# chama a função principal pra iniciar o jogo\n",
    "principal()"
   ]
  },
  {
   "cell_type": "markdown",
   "metadata": {},
   "source": [
    "7.Super desafio! Faça um sistema de cadastro de clientes. Modele cada cliente como uma lista de três elementos: nome, CPF e e-mail.  \n",
    "- a.Faça uma função que peça o nome, o CPF e o e-mail da pessoa e retorne uma lista contendo esses elementos nessa ordem. \n",
    "- b.Os clientes cadastrados devem ser armazenados em uma lista (uma lista de listas, já que cada cliente será uma lista tal como produzido no item a). \n",
    "- c.Faça uma função que recebe a lista do item b) e um CPF e, se esse  cliente  estiver  na  lista  de  cadastro,  sua  função  deve devolver  a  lista  de  dados  desse  cliente;  caso  contrário,  sua função deve imprimir “não encontrado”. \n",
    "- d.Enquanto não for digitado 0, o seu programa deve continuar rodando. Se digitado 0, seu programa deve cadastrar um novo cliente;  se  digitado  1,  seu  programa  deve  pedir  um  CPF  e procurá-lo  na  lista  de  clientes  (item  c);  se  digitado  3,  seu programa deve imprimir todos os clientes cadastrados."
   ]
  },
  {
   "cell_type": "code",
   "execution_count": 55,
   "metadata": {},
   "outputs": [
    {
     "name": "stdout",
     "output_type": "stream",
     "text": [
      "\n",
      "##########################################\n",
      "\n",
      "Cadastre, a seguir, 3 clientes: \n",
      "\n",
      "##########################################\n",
      "\n",
      "Digite seu nome: andre\n",
      "Digite seu CPF: 123.456.789-10\n",
      "Digite seu e-mail: andre@gmail.com\n",
      "Cliente cadastrado!\n",
      "\n",
      "Digite seu nome: maria\n",
      "Digite seu CPF: 777.888.999-10\n",
      "Digite seu e-mail: maria@gmail.com\n",
      "Cliente cadastrado!\n",
      "\n",
      "Digite seu nome: joao\n",
      "Digite seu CPF: 111.222.333-44\n",
      "Digite seu e-mail: joao@gmail.com\n",
      "Cliente cadastrado!\n",
      "\n",
      "\n",
      "##########################################\n",
      "\n",
      "Clientes cadastrados!\n",
      "Cadastro atual:\n",
      "['andre', '123.456.789-10', 'andre@gmail.com']\n",
      "['maria', '777.888.999-10', 'maria@gmail.com']\n",
      "['joao', '111.222.333-44', 'joao@gmail.com']\n",
      "\n",
      "##########################################\n",
      "\n",
      "Digite:\n",
      "0 - pra cadastrar um novo cliente;\n",
      "1 - pra pedir um cpf e procurá-lo na lista;\n",
      "3 - pra mostrar todos os clientes cadastrados\n",
      "1\n",
      "Digite o CPF a ser encontrado: 123.456.789-10\n",
      "['andre', '123.456.789-10', 'andre@gmail.com']\n",
      "\n",
      "\n",
      "Digite um dígito novamene (0, 1 ou 3). 0 para parar o programa.1\n",
      "Digite o CPF a ser encontrado: 111222333-44\n",
      "['joao', '111.222.333-44', 'joao@gmail.com']\n",
      "\n",
      "\n",
      "Digite um dígito novamene (0, 1 ou 3). 0 para parar o programa.1\n",
      "Digite o CPF a ser encontrado: 77788899910\n",
      "['maria', '777.888.999-10', 'maria@gmail.com']\n",
      "\n",
      "\n",
      "Digite um dígito novamene (0, 1 ou 3). 0 para parar o programa.3\n",
      "Os clientes cadastrados são:\n",
      "['andre', '123.456.789-10', 'andre@gmail.com']\n",
      "['maria', '777.888.999-10', 'maria@gmail.com']\n",
      "['joao', '111.222.333-44', 'joao@gmail.com']\n",
      "\n",
      "\n",
      "Digite um dígito novamene (0, 1 ou 3). 0 para parar o programa.0\n",
      "\n",
      "\n",
      "##########################################\n",
      "\n",
      "PROGRAMA FINALIZADO\n",
      "\n",
      "##########################################\n",
      "\n"
     ]
    }
   ],
   "source": [
    "# a.Faça uma função que peça o nome, o CPF e o e-mail da pessoa e retorne uma lista contendo \n",
    "# esses elementos nessa ordem. \n",
    "\n",
    "def pede_dados():\n",
    "    \n",
    "    # pede os dados do cliente\n",
    "    nome = input(\"Digite seu nome: \")\n",
    "    cpf = input(\"Digite seu CPF: \")\n",
    "    email = input(\"Digite seu e-mail: \")\n",
    "    \n",
    "    # cria a lista, com as variáveis na ordem pedida\n",
    "    lista = [nome, cpf, email]\n",
    "    \n",
    "    # retorna a lista\n",
    "    return lista\n",
    "\n",
    "#########################################################\n",
    "\n",
    "# b.Os clientes cadastrados devem ser armazenados em uma lista (uma lista de listas, já que cada cliente\n",
    "# será uma lista tal como produzido no item a). \n",
    "\n",
    "# aqui, inicializamos a lista de cadastro como vazia\n",
    "lista_de_cadastro = []\n",
    "\n",
    "# vamos cadastrar 3 clientes (pedindo pro usuário)\n",
    "print(\"\\n##########################################\\n\")\n",
    "print(\"Cadastre, a seguir, 3 clientes: \")\n",
    "print(\"\\n##########################################\\n\")\n",
    "\n",
    "for i in range(3):\n",
    "    \n",
    "    lista_de_cadastro.append(pede_dados())\n",
    "    \n",
    "    print(\"Cliente cadastrado!\\n\")\n",
    "    \n",
    "    \n",
    "print(\"\\n##########################################\\n\")\n",
    "print(\"Clientes cadastrados!\\nCadastro atual:\")\n",
    "print(*lista_de_cadastro, sep=\"\\n\")\n",
    "print(\"\\n##########################################\\n\")\n",
    "    \n",
    "#########################################################\n",
    "\n",
    "# c.Faça uma função que recebe a lista do item b) e um CPF e, se esse  cliente  estiver  na\n",
    "# lista  de  cadastro,  sua  função  deve devolver  a  lista  de  dados  desse  cliente;  \n",
    "# caso  contrário,  sua função deve imprimir “não encontrado”. \n",
    "\n",
    "def procura_cliente(lista_de_cadastro, cpf):\n",
    "    \n",
    "    # usando list comprehension para pegar todos os cpfs da lista de cadastro\n",
    "    # o cpf é o elemento de indice 1 em cada um das listas da lista_de_cadastro\n",
    "    lista_de_cpfs = [elemento[1] for elemento in lista_de_cadastro]\n",
    "    \n",
    "    # aqui, fazemos a lista de cpfs, só com numeros, tirando os pontos e traços\n",
    "    lista_de_cpfs_so_numeros = [elemento[1].replace(\".\", \"\").replace(\"-\", \"\") for elemento in lista_de_cadastro]\n",
    "    \n",
    "    # checa se o cpf do cliente tá no cadastro\n",
    "    # aqui, procuramos com pontos e traço\n",
    "    if cpf in lista_de_cpfs:\n",
    "        \n",
    "        # pra retornar a lista referente ao usuário, primeiro vemos qual é o índice\n",
    "        # do cpf encontrado\n",
    "        indice = lista_de_cpfs.index(cpf)\n",
    "        \n",
    "        # e aí, acessamos o elemento da lista de cadastro que tem esse indice, e o retornamos\n",
    "        return lista_de_cadastro[indice]\n",
    "    \n",
    "    # aqui, checamos se o cpf tá na lista só de numeros\n",
    "    elif cpf in lista_de_cpfs_so_numeros:\n",
    "        \n",
    "        # mesma coisa que o caso anterior, pega o indice e retorna o elemento correspondente do cadastro\n",
    "        indice = lista_de_cpfs_so_numeros.index(cpf)\n",
    "        \n",
    "        return lista_de_cadastro[indice]\n",
    "    \n",
    "    # aqui, checamos se o cpf tá na lista só de numeros\n",
    "    # mas tirando os pontos e traço\n",
    "    elif cpf.replace(\".\", \"\").replace(\"-\", \"\") in lista_de_cpfs_so_numeros:\n",
    "        \n",
    "        # mesma coisa que o caso anterior, pega o indice e retorna o elemento correspondente do cadastro\n",
    "        indice = lista_de_cpfs_so_numeros.index(cpf.replace(\".\", \"\").replace(\"-\", \"\"))\n",
    "        \n",
    "        return lista_de_cadastro[indice]\n",
    "        \n",
    "    # caso o cpf nao esteja cadastrado\n",
    "    else:\n",
    "        \n",
    "        # nesse caso, a função retorna (pra ser impresso) \"não encontrado\"        \n",
    "        return(\"O CPF não foi encontrado!\")\n",
    "    \n",
    "#########################################################\n",
    "\n",
    "# d.Enquanto não for digitado 0, o seu programa deve continuar rodando. \n",
    "# Se digitado 0, seu programa deve cadastrar um novo cliente;  \n",
    "# se  digitado  1,  seu  programa  deve  pedir  um  CPF  e procurá-lo  na  lista  de  clientes  (item  c);\n",
    "# se  digitado  3,  seu programa deve imprimir todos os clientes cadastrados.\n",
    "\n",
    "digito = int(input(\"Digite:\\n0 - pra cadastrar um novo cliente;\\n1 - pra pedir um cpf e procurá-lo na lista;\\n3 - pra mostrar todos os clientes cadastrados\\n\"))\n",
    "\n",
    "while digito != 0:\n",
    "    \n",
    "    if digito == 0:\n",
    "\n",
    "        dados_do_cliente = pede_dados()\n",
    "\n",
    "        lista_de_cadastro.append(dados_do_cliente)\n",
    "\n",
    "    elif digito == 1:\n",
    "        \n",
    "        # pede o cpf a ser procurado\n",
    "        cpf = input(\"Digite o CPF a ser encontrado: \")\n",
    "        \n",
    "        # chama a função de procura de cliente\n",
    "        # e printa o que for retornado\n",
    "        print(procura_cliente(lista_de_cadastro, cpf))\n",
    "        \n",
    "    elif digito == 3:\n",
    "        \n",
    "        # imprime todo o cadastro\n",
    "        print(\"Os clientes cadastrados são:\")\n",
    "        print(*lista_de_cadastro, sep=\"\\n\")\n",
    "    \n",
    "    else:\n",
    "        \n",
    "        # caso o usuário digite algo que nao seja 0, 1 ou 3\n",
    "        print(\"Não entendi!\")\n",
    "    \n",
    "    # sempre dá uma quebra de linha\n",
    "    print(\"\\n\")\n",
    "    \n",
    "    # pede um digito novamente\n",
    "    digito = int(input(\"Digite um dígito novamene (0, 1 ou 3). 0 para parar o programa.\"))\n",
    "    \n",
    "print(\"\\n\\n##########################################\\n\")\n",
    "print(\"PROGRAMA FINALIZADO\")\n",
    "print(\"\\n##########################################\\n\")"
   ]
  }
 ],
 "metadata": {
  "kernelspec": {
   "display_name": "Python 3",
   "language": "python",
   "name": "python3"
  },
  "language_info": {
   "codemirror_mode": {
    "name": "ipython",
    "version": 3
   },
   "file_extension": ".py",
   "mimetype": "text/x-python",
   "name": "python",
   "nbconvert_exporter": "python",
   "pygments_lexer": "ipython3",
   "version": "3.8.3"
  }
 },
 "nbformat": 4,
 "nbformat_minor": 4
}
