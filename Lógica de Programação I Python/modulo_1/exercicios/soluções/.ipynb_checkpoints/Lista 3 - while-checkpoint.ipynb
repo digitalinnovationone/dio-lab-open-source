{
 "cells": [
  {
   "cell_type": "markdown",
   "metadata": {},
   "source": [
    "# Lista 3 - while"
   ]
  },
  {
   "cell_type": "markdown",
   "metadata": {},
   "source": [
    "1. Faça um programa que peça ao usuário um número e imprima todos os números de um até o número dado. Exemplo: digite: 5, imprime: 1 2 3 4 5"
   ]
  },
  {
   "cell_type": "code",
   "execution_count": 1,
   "metadata": {},
   "outputs": [
    {
     "name": "stdout",
     "output_type": "stream",
     "text": [
      "Você quer exibir números de 1 até qual? 20\n",
      "\n",
      "\n",
      "1\n",
      "2\n",
      "3\n",
      "4\n",
      "5\n",
      "6\n",
      "7\n",
      "8\n",
      "9\n",
      "10\n",
      "11\n",
      "12\n",
      "13\n",
      "14\n",
      "15\n",
      "16\n",
      "17\n",
      "18\n",
      "19\n",
      "20\n"
     ]
    }
   ],
   "source": [
    "# armazena o número (inteiro) solicitado ao usuário na variável \"n\"\n",
    "n = int(input(\"Você quer exibir números de 1 até qual? \"))\n",
    "\n",
    "# variável contadora. Vamos inicializá-la em 1, pq queremos contar de 1 a n\n",
    "cont = 1\n",
    "\n",
    "print(\"\\n\")\n",
    "# enquanto a variável contadora for menor ou igual a n\n",
    "# note que colocamos <= n pq queremos exibir também o número n \n",
    "while cont <= n:\n",
    "    \n",
    "    # exibimos a variável contadora\n",
    "    print(cont)\n",
    "    \n",
    "    # atualizamos a variável contadora\n",
    "    cont = cont + 1"
   ]
  },
  {
   "cell_type": "markdown",
   "metadata": {},
   "source": [
    "2. Peça ao usuário para digitar um número n e some todos os números de 1 a n."
   ]
  },
  {
   "cell_type": "code",
   "execution_count": 3,
   "metadata": {},
   "outputs": [
    {
     "name": "stdout",
     "output_type": "stream",
     "text": [
      "Você quer a soma até qual número (maior ou igual a 2)? 10\n",
      "\n",
      "\n",
      "0 + 1 + 2 + 3 + 4 + 5 + 6 + 7 + 8 + 9 + 10 = 55\n"
     ]
    }
   ],
   "source": [
    "# armazena o número (inteiro) solicitado ao usuário na variável \"n\"\n",
    "n = int(input(\"Você quer a soma até qual número (maior ou igual a 2)? \"))\n",
    "\n",
    "# inicializando a variável de soma em 0\n",
    "soma = 0\n",
    "\n",
    "# inicializando o contador em 0\n",
    "cont = 0\n",
    "\n",
    "# string com a soma. inicializamos ela vazia, e a atualizamos dentro do while\n",
    "# no fim, queremos algo como \"0 + 1 + 2 + ... + n = soma\"\n",
    "string_soma = \"\"\n",
    "\n",
    "while cont <= n:\n",
    "    \n",
    "    # atualizo a soma\n",
    "    soma = soma + cont\n",
    "    \n",
    "    # para as parcelas iniciais da soma, colocamos o sinal de +\n",
    "    if cont != n:\n",
    "        # atualizo a string com a soma\n",
    "        string_soma = string_soma + str(cont) + \" + \"\n",
    "    else:\n",
    "        # pra ultima parcela da soma (que é n), não colocamos o sinal de +\n",
    "        string_soma = string_soma + str(cont)\n",
    "    \n",
    "    # atualizo o contador\n",
    "    cont = cont + 1\n",
    "    \n",
    "\n",
    "# fora do laço, atualizamos a string de soma com o resultado:\n",
    "string_soma = string_soma + \" = \" + str(soma)\n",
    "\n",
    "print(\"\\n\")\n",
    "print(string_soma)"
   ]
  },
  {
   "cell_type": "code",
   "execution_count": 1,
   "metadata": {},
   "outputs": [
    {
     "name": "stdout",
     "output_type": "stream",
     "text": [
      "Você quer a soma até qual número (maior ou igual a 2)? 3\n",
      "\n",
      "\n",
      "Soma de 1 a 3 = 6\n"
     ]
    }
   ],
   "source": [
    "# armazena o número (inteiro) solicitado ao usuário na variável \"n\"\n",
    "n = int(input(\"Você quer a soma até qual número (maior ou igual a 2)? \"))\n",
    "\n",
    "# inicializando a variável de soma em 0\n",
    "soma = 0\n",
    "\n",
    "# inicializando o contador em 0\n",
    "cont = 0\n",
    "\n",
    "while cont <= n:\n",
    "    \n",
    "    # atualizo a soma\n",
    "    soma = soma + cont\n",
    "    \n",
    "    # atualizo o contador\n",
    "    cont = cont + 1\n",
    "\n",
    "print(\"\\n\")\n",
    "print(\"Soma de 1 a\", n, \"=\", soma)"
   ]
  },
  {
   "cell_type": "markdown",
   "metadata": {},
   "source": [
    "3. Peça ao usuário para digitar um número e imprima o fatorial de n."
   ]
  },
  {
   "cell_type": "code",
   "execution_count": 4,
   "metadata": {},
   "outputs": [
    {
     "name": "stdout",
     "output_type": "stream",
     "text": [
      "Digite um número inteiro positivo cujo fatorial você deseja calcular: 6\n",
      "\n",
      "\n",
      "6! = 720\n"
     ]
    }
   ],
   "source": [
    "# solicitando o numero ao usuário\n",
    "n = int(input(\"Digite um número inteiro positivo cujo fatorial você deseja calcular: \"))\n",
    "\n",
    "# definindo a variável contadora, começando em 1\n",
    "cont = 1\n",
    "\n",
    "# definindo a variável do fatorial, começando em 1\n",
    "fatorial = 1\n",
    "\n",
    "# calcula o fatorial\n",
    "while cont <= n:\n",
    "\n",
    "    # atualiza o fatorial\n",
    "    fatorial = cont*fatorial\n",
    "\n",
    "    # atualizando a variável contadora\n",
    "    cont = cont + 1\n",
    "\n",
    "# exibe o fatorial de n\n",
    "print(\"\\n\")\n",
    "print(str(n) + \"! =\", fatorial)"
   ]
  },
  {
   "cell_type": "markdown",
   "metadata": {},
   "source": [
    "4. Faça um programa que imprima a tabuada do 9 (de 9\\*1 a 9\\*10) usando loops."
   ]
  },
  {
   "cell_type": "code",
   "execution_count": 5,
   "metadata": {},
   "outputs": [
    {
     "name": "stdout",
     "output_type": "stream",
     "text": [
      "9 * 1 = 9\n",
      "9 * 2 = 18\n",
      "9 * 3 = 27\n",
      "9 * 4 = 36\n",
      "9 * 5 = 45\n",
      "9 * 6 = 54\n",
      "9 * 7 = 63\n",
      "9 * 8 = 72\n",
      "9 * 9 = 81\n",
      "9 * 10 = 90\n"
     ]
    }
   ],
   "source": [
    "# inicializamos o contador em 1\n",
    "cont = 1\n",
    "\n",
    "while cont <= 10:\n",
    "\n",
    "    # exibe o termo da tabuada\n",
    "    print(\"9 *\", cont, \"=\", 9*cont)\n",
    "    \n",
    "    # atualiza o contador\n",
    "    cont = cont + 1"
   ]
  },
  {
   "cell_type": "markdown",
   "metadata": {},
   "source": [
    "5. Faça um programa que recebe um número inteiro do usuário e imprime na tela a quantidade de divisores desse número e quais são eles.\n",
    "\n"
   ]
  },
  {
   "cell_type": "code",
   "execution_count": 6,
   "metadata": {},
   "outputs": [
    {
     "name": "stdout",
     "output_type": "stream",
     "text": [
      "Você quer saber os divisores de que número? 248\n",
      "\n",
      "\n",
      "1 é um divisor de 248\n",
      "2 é um divisor de 248\n",
      "4 é um divisor de 248\n",
      "8 é um divisor de 248\n",
      "31 é um divisor de 248\n",
      "62 é um divisor de 248\n",
      "124 é um divisor de 248\n",
      "248 é um divisor de 248\n",
      "\n",
      "O número 248 tem 8 divisores, mostrados acima!\n"
     ]
    }
   ],
   "source": [
    "# armazena o número (inteiro) solicitado ao usuário na variável \"n\"\n",
    "n = int(input(\"Você quer saber os divisores de que número? \"))\n",
    "\n",
    "# variável que vamos utilizar como contadora no while\n",
    "# essa variável representará os possíveis divisores\n",
    "div = 1\n",
    "\n",
    "# variável pra contabilizar o número de divisores de n\n",
    "num = 0\n",
    "\n",
    "# quebrando a linha só pra formatar melhor\n",
    "print(\"\\n\")\n",
    "\n",
    "# vamos testar os divisores de 1 a n\n",
    "while div <= n:\n",
    "    \n",
    "    # por definição, um número será um divisor de n se o resto da divisão\n",
    "    # de n por ele é zero\n",
    "    if n % div == 0:\n",
    "        \n",
    "        # se div for o um divisor, falamos isso pro usuário\n",
    "        print(div, \"é um divisor de\", n)\n",
    "        \n",
    "        # e atualizamos o número de divisores\n",
    "        num = num + 1\n",
    "    \n",
    "    # atualizamos a variável contadora\n",
    "    # note que a atualização é feita FORA do bloco do if, mas DENTRO do bloco do while\n",
    "    div = div + 1\n",
    "    \n",
    "# depois que saímos do loop\n",
    "print(\"\\nO número\", n, \"tem\", num, \"divisores, mostrados acima!\")"
   ]
  },
  {
   "cell_type": "markdown",
   "metadata": {},
   "source": [
    "6. Faça um programa, usando loops, que peça para um usuário digitar um número e que só finaliza quando o usuário digitar 0. Ao final imprima a soma de todos os números digitados."
   ]
  },
  {
   "cell_type": "code",
   "execution_count": 7,
   "metadata": {},
   "outputs": [
    {
     "name": "stdout",
     "output_type": "stream",
     "text": [
      "Digite um número para somar, e digite zero para terminar a soma: 2\n",
      "Digite um número para somar, e digite zero para terminar a soma: 4\n",
      "Digite um número para somar, e digite zero para terminar a soma: 4.5\n",
      "Digite um número para somar, e digite zero para terminar a soma: 0\n",
      "\n",
      "A soma dos números digitados é: 10.5\n"
     ]
    }
   ],
   "source": [
    "# solicita o número ao usuário, pra começar\n",
    "n = float(input(\"Digite um número para somar, e digite zero para terminar a soma: \"))\n",
    "\n",
    "# inicia a soma em zero\n",
    "soma = 0\n",
    "\n",
    "while n != 0:\n",
    "    \n",
    "    # atualiza a soma\n",
    "    soma = soma + n\n",
    "    \n",
    "    # pergunta um novo numero\n",
    "    n = float(input(\"Digite um número para somar, e digite zero para terminar a soma: \"))\n",
    "    \n",
    "# fora do loop, exibimos a soma\n",
    "print(\"\\nA soma dos números digitados é:\", soma)"
   ]
  },
  {
   "cell_type": "markdown",
   "metadata": {},
   "source": [
    "7. Faça um programa que sorteia um número N e peça para o usuário adivinhar o número sorteado. A cada resposta errada, o seu programa deve imprimir um aviso dizendo que a resposta está errada e pedir novamente uma resposta ao usuário."
   ]
  },
  {
   "cell_type": "code",
   "execution_count": 8,
   "metadata": {},
   "outputs": [
    {
     "name": "stdout",
     "output_type": "stream",
     "text": [
      "Digite o seu palpite sobre o número sorteado: 50\n",
      "\n",
      "Seu palpite não está correto :(\n",
      "O palpite 50 é MAIOR que o número sorteado!\n",
      "Digite um novo palpite sobre o número sorteado: 40\n",
      "\n",
      "Seu palpite não está correto :(\n",
      "O palpite 40 é MAIOR que o número sorteado!\n",
      "Digite um novo palpite sobre o número sorteado: 30\n",
      "\n",
      "Seu palpite não está correto :(\n",
      "O palpite 30 é MAIOR que o número sorteado!\n",
      "Digite um novo palpite sobre o número sorteado: 20\n",
      "\n",
      "Seu palpite não está correto :(\n",
      "O palpite 20 é MAIOR que o número sorteado!\n",
      "Digite um novo palpite sobre o número sorteado: 10\n",
      "\n",
      "Seu palpite não está correto :(\n",
      "O palpite 10 é MAIOR que o número sorteado!\n",
      "Digite um novo palpite sobre o número sorteado: 5\n",
      "\n",
      "Seu palpite não está correto :(\n",
      "O palpite 5 é MAIOR que o número sorteado!\n",
      "Digite um novo palpite sobre o número sorteado: 2\n",
      "\n",
      "Seu palpite não está correto :(\n",
      "O palpite 2 é MENOR que o número sorteado!\n",
      "Digite um novo palpite sobre o número sorteado: 3\n",
      "\n",
      "Você acertou! O número sorteado é 3\n"
     ]
    }
   ],
   "source": [
    "# importando a biblioteca random para sortear um número aleatório\n",
    "import random\n",
    "\n",
    "# sorteia um numero inteiro aleatório entre 0 e 100, usando a função randint()\n",
    "N = random.randint(0,100)\n",
    "\n",
    "# pergunta pro usuário o palpite sobre o numero\n",
    "palpite = int(input(\"Digite o seu palpite sobre o número sorteado: \"))\n",
    "\n",
    "# entra no loop se o palpite estiver errado\n",
    "while palpite != N:\n",
    "    \n",
    "    # avisa que o palpite está errado\n",
    "    print(\"\\nSeu palpite não está correto :(\")\n",
    "    \n",
    "    # dá uma dica pro usuário\n",
    "    # informa pro usuário se o palpite dele é maior ou menor que o número sorteado\n",
    "    if palpite < N:\n",
    "        print(\"O palpite\", palpite, \"é MENOR que o número sorteado!\")\n",
    "    else:\n",
    "        print(\"O palpite\", palpite, \"é MAIOR que o número sorteado!\")\n",
    "        \n",
    "    # pergunta pro usuário o palpite novamente\n",
    "    palpite = int(input(\"Digite um novo palpite sobre o número sorteado: \"))\n",
    "    \n",
    "# sai do loop, e avisa ao usuário que ele acertou\n",
    "print(\"\\nVocê acertou! O número sorteado é\", N)"
   ]
  },
  {
   "cell_type": "markdown",
   "metadata": {},
   "source": [
    "8. Faça um programa que peça para o usuário digitar a idade, o salário e o sexo de uma pessoa até que as entradas digitadas sejam válidas.\n",
    "    a. Idade: entre 0 e 150;\n",
    "    b. Salário: maior que 0;\n",
    "    c. Sexo: M, F ou Outro."
   ]
  },
  {
   "cell_type": "code",
   "execution_count": 9,
   "metadata": {},
   "outputs": [
    {
     "name": "stdout",
     "output_type": "stream",
     "text": [
      "Digite sua idade: 20\n",
      "Digite seu salário em R$: 1000\n",
      "Digite o sexo (M/F/OUTRO): m\n",
      "Sexo inválido! Divite seu sexo novamente: M\n",
      "\n",
      "Sua idade é 20 \n",
      "Seu salário é R$ 1000.0 \n",
      "Seu sexo é M\n"
     ]
    }
   ],
   "source": [
    "# pede a idade\n",
    "idade = int(input(\"Digite sua idade: \"))\n",
    "\n",
    "# enquanto a idade não for válida...\n",
    "while idade < 0 or idade > 150:\n",
    "    \n",
    "    #... pergunte a idade novamente\n",
    "    idade = int(input(\"Idade inválida! Divite sua idade novamente: \"))\n",
    "\n",
    "# pede o salario\n",
    "salario = float(input(\"Digite seu salário em R$: \"))\n",
    "\n",
    "# enquanto o salário não for válido...\n",
    "while salario < 0:\n",
    "    \n",
    "    #... pergunte o salário novamente\n",
    "    salario = float(input(\"Salário inválido! Divite seu salário novamente: \"))\n",
    "\n",
    "# pede o sexo\n",
    "sexo = input(\"Digite o sexo (M/F/OUTRO): \")\n",
    "\n",
    "# enquanto o sexo não for válido...\n",
    "while sexo !=  \"M\" and sexo !=  \"F\" and sexo !=  \"OUTRO\":\n",
    "    \n",
    "    #... pergunte o sexo novamente\n",
    "    sexo = input(\"Sexo inválido! Divite seu sexo novamente: \")\n",
    "    \n",
    "# quando tivermos tudo válido, exibimos\n",
    "print(\"\\nSua idade é\", idade, \"\\nSeu salário é R$\", salario, \"\\nSeu sexo é\", sexo)"
   ]
  },
  {
   "cell_type": "markdown",
   "metadata": {},
   "source": [
    "__________________\n",
    "__________________\n",
    "\n",
    "__________________\n",
    "__________________\n"
   ]
  },
  {
   "cell_type": "markdown",
   "metadata": {},
   "source": [
    "# DESAFIOS"
   ]
  },
  {
   "cell_type": "markdown",
   "metadata": {},
   "source": [
    "1. Calcule a soma de até mil termos da série 1 + 1/2 + 1/4 + 1/8 + 1/16 + ...\n",
    "Dica: Use três variáveis:\n",
    "um contador, que começa em zero;\n",
    "uma variável para a soma de todos os termos, que também começa em zero;\n",
    "uma variável para cada termo, que começa em 1 e a cada loop é dividida por 2.\n",
    "A repetição da soma de mil termos pode ser feita com a função while contador < 1000.\n"
   ]
  },
  {
   "cell_type": "code",
   "execution_count": 10,
   "metadata": {},
   "outputs": [
    {
     "name": "stdout",
     "output_type": "stream",
     "text": [
      "Soma de 1000 termos: 1/(2^0) + 1/(2^1) + 1/(2^2) + ... + 1/(2^1000) = 2.0\n"
     ]
    }
   ],
   "source": [
    "# inicializa o contador\n",
    "cont = 0\n",
    "\n",
    "# inicializa a soma\n",
    "soma = 0\n",
    "\n",
    "# contador de 1 até 1000, para termos 1000 termos na soma\n",
    "while cont < 1000:\n",
    "    \n",
    "    # atualiza a soma\n",
    "    # note que essa é a soma do inverso das potência de 2, ou seja,\n",
    "    # 1/(2^0) + 1/(2^1) + 1/(2^2) + ... + 1/(2^1000)\n",
    "    soma = soma + 1/(2**cont)\n",
    "    \n",
    "    # atualiza o contador\n",
    "    cont = cont + 1\n",
    "    \n",
    "# exibe a soma. Ela deve convergir pra 2\n",
    "print(\"Soma de 1000 termos: 1/(2^0) + 1/(2^1) + 1/(2^2) + ... + 1/(2^1000) =\", soma)"
   ]
  },
  {
   "cell_type": "markdown",
   "metadata": {},
   "source": [
    "\n",
    "\n",
    "2. Super Desafio! - Calcule a soma de mil termos dos inversos dos fatoriais: 1/(1!) + 1/(2!) + 1/(3!) + 1/(4!) + ...\n",
    "Dica: Assim como no exercício anterior use três variáveis: um contador; uma variável para a soma; e uma variável para os termos.\n",
    "Lembre-se de que 4! = 4\\*3\\*2\\*1 que também é igual a 4\\*3!."
   ]
  },
  {
   "cell_type": "code",
   "execution_count": 14,
   "metadata": {},
   "outputs": [
    {
     "name": "stdout",
     "output_type": "stream",
     "text": [
      "Soma de 1000 termos: 1/(1!) + 1/(2!) + 1/(3!) + ... + 1/(1000!) = 1.7182818284590455\n"
     ]
    }
   ],
   "source": [
    "# inicializa o contador\n",
    "cont = 1\n",
    "\n",
    "# inicializa a soma\n",
    "soma = 0\n",
    "\n",
    "# inicializa o fatorial\n",
    "fatorial = 1\n",
    "\n",
    "# contador de 1 até 1000, para termos 1000 termos na soma\n",
    "while cont <= 1000:\n",
    "    \n",
    "    # calcula o fatorial, que é atualizado a cada iteração\n",
    "    fatorial = fatorial * cont\n",
    "    \n",
    "    # atualiza a som\n",
    "    soma = soma + 1/fatorial\n",
    "    \n",
    "    # atualiza o contador\n",
    "    cont = cont + 1\n",
    "    \n",
    "# exibe a soma. Ela deve convergir pra e-1, que é aproximadamente 1.71828182846\n",
    "print(\"Soma de 1000 termos: 1/(1!) + 1/(2!) + 1/(3!) + ... + 1/(1000!) =\", soma)"
   ]
  }
 ],
 "metadata": {
  "kernelspec": {
   "display_name": "Python 3",
   "language": "python",
   "name": "python3"
  },
  "language_info": {
   "codemirror_mode": {
    "name": "ipython",
    "version": 3
   },
   "file_extension": ".py",
   "mimetype": "text/x-python",
   "name": "python",
   "nbconvert_exporter": "python",
   "pygments_lexer": "ipython3",
   "version": "3.7.6"
  }
 },
 "nbformat": 4,
 "nbformat_minor": 4
}
