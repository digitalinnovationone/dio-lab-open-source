{
 "cells": [
  {
   "cell_type": "markdown",
   "metadata": {},
   "source": [
    "# Lista 6 - tuplas e dicionários"
   ]
  },
  {
   "cell_type": "markdown",
   "metadata": {},
   "source": [
    "## Tuplas"
   ]
  },
  {
   "cell_type": "markdown",
   "metadata": {},
   "source": [
    "1. Crie uma tupla com todos os números de 0 a 9. Explore a sintaxe: use e depois não use parênteses.\n"
   ]
  },
  {
   "cell_type": "code",
   "execution_count": 3,
   "metadata": {},
   "outputs": [
    {
     "name": "stdout",
     "output_type": "stream",
     "text": [
      "(0, 1, 2, 3, 4, 5, 6, 7, 8, 9)\n",
      "(0, 1, 2, 3, 4, 5, 6, 7, 8, 9)\n",
      "(0, 1, 2, 3, 4, 5, 6, 7, 8, 9)\n"
     ]
    }
   ],
   "source": [
    "# criando direto com parênteses:\n",
    "tupla1 = (0, 1, 2, 3, 4, 5, 6, 7, 8, 9)\n",
    "\n",
    "# criando sem parênteses\n",
    "tupla2 = 0,1,2,3,4,5,6,7,8,9 # Mesma coisa\n",
    "\n",
    "# criando a partir de uma lista:\n",
    "lista = [0, 1, 2, 3, 4, 5, 6, 7, 8, 9]\n",
    "tupla3 = tuple(lista)\n",
    "\n",
    "print(tupla1)\n",
    "print(tupla2)\n",
    "print(tupla3)"
   ]
  },
  {
   "cell_type": "markdown",
   "metadata": {},
   "source": [
    "2. Crie uma tupla com todos os pares entre 0 e 100 (inclusive).\n"
   ]
  },
  {
   "cell_type": "code",
   "execution_count": 4,
   "metadata": {},
   "outputs": [
    {
     "name": "stdout",
     "output_type": "stream",
     "text": [
      "(0, 2, 4, 6, 8, 10, 12, 14, 16, 18, 20, 22, 24, 26, 28, 30, 32, 34, 36, 38, 40, 42, 44, 46, 48, 50, 52, 54, 56, 58, 60, 62, 64, 66, 68, 70, 72, 74, 76, 78, 80, 82, 84, 86, 88, 90, 92, 94, 96, 98, 100)\n"
     ]
    }
   ],
   "source": [
    "lista = []\n",
    "for i in range(0, 101, 2):\n",
    "    lista.append(i)\n",
    "\n",
    "# jeito alternativo de substituir o bloco anterior por 1 linha:\n",
    "# lista = [i for i in range(0, 101, 2)]\n",
    "\n",
    "tupla = tuple(lista)\n",
    "\n",
    "print(tupla)"
   ]
  },
  {
   "cell_type": "markdown",
   "metadata": {},
   "source": [
    "3. Crie uma função que recebe uma lista de números e devolve, nesta ordem, o mínimo, a média, o desvio padrão e o máximo.\n"
   ]
  },
  {
   "cell_type": "code",
   "execution_count": 5,
   "metadata": {},
   "outputs": [
    {
     "name": "stdout",
     "output_type": "stream",
     "text": [
      "8.571428571428571\n",
      "[8, 6, 3, 1, 2, 4, 9, 7]\n",
      "Mínimo =  1\n",
      "Média =  5.0\n",
      "Desvio padrão =  2.9277002188455996\n",
      "Máximo =  9\n"
     ]
    }
   ],
   "source": [
    "import math\n",
    "\n",
    "def funcaoListaNumeros (numeros):\n",
    "    maior = max(numeros)\n",
    "    menor = min(numeros)\n",
    "\n",
    "    # média\n",
    "    soma = 0\n",
    "    for num in numeros:\n",
    "        soma = soma + num\n",
    "    media = soma/len(numeros)\n",
    "\n",
    "    # desvio padrão\n",
    "    soma = 0\n",
    "    for num in numeros:\n",
    "        soma = soma + (num - media)**2\n",
    "    variancia = soma/(len(numeros) - 1)\n",
    "    print(variancia)\n",
    "    desvio = math.sqrt(variancia)\n",
    "\n",
    "    resposta = (menor, media, desvio, maior)\n",
    "    return resposta\n",
    "\n",
    "teste = [8, 6, 3, 1, 2, 4, 9, 7]\n",
    "\n",
    "minimo, med, dp, maximo = funcaoListaNumeros(teste)\n",
    "\n",
    "print(teste)\n",
    "print('Mínimo = ', minimo)\n",
    "print('Média = ', med)\n",
    "print('Desvio padrão = ', dp)\n",
    "print('Máximo = ', maximo)\n"
   ]
  },
  {
   "cell_type": "markdown",
   "metadata": {},
   "source": [
    "4. Crie uma função que recebe uma lista e retorna True se todos os seus elementos forem numéricos (int, float ou string contendo um int ou float) ou False do contrário. A função deve também retornar a lista tratada: transformar todas as entradas não numéricas em numéricas ou, no melhor caso, devolver a lista apenas.\n"
   ]
  },
  {
   "cell_type": "code",
   "execution_count": 6,
   "metadata": {},
   "outputs": [
    {
     "name": "stdout",
     "output_type": "stream",
     "text": [
      "[-1, 2.7, '3.14']\n",
      "É numérica? True\n",
      "Tratada:  [-1, 2.7, '3.14']\n",
      "[1, 'dois', 3.0]\n",
      "É numérica? False\n",
      "Tratada:  [1, 0, 3.0]\n"
     ]
    }
   ],
   "source": [
    "def listaNumerica(lista):\n",
    "    tratada = []\n",
    "    saoNumericos = True\n",
    "\n",
    "    for elemento in lista:\n",
    "        string = str(elemento)\n",
    "        string = string.replace('-', '') # tratando sinal negativo\n",
    "        string = string.replace('.', '') # tratando ponto decimal\n",
    "        numerica = string.isdigit()   # retorna False se uma string contém qualquer coisa diferente de número\n",
    "        if numerica:\n",
    "            tratada.append(elemento)\n",
    "        else:\n",
    "            # o enunciado pediu para transformar entradas não-numéricas em numéricas\n",
    "            # como não especificaram COMO, vamos trocar não-numéricas por 0\n",
    "            tratada.append(0)\n",
    "            saoNumericos = False\n",
    "\n",
    "    return (saoNumericos, tratada)\n",
    "\n",
    "numerica = [-1, 2.7, '3.14']\n",
    "naoNumerica = [1, 'dois', 3.0]\n",
    "\n",
    "print(numerica)\n",
    "\n",
    "# o primeiro elemento da tupla retornada é atribuído à variável \"resp\",\n",
    "# e o segundo à variável \"lista\"\n",
    "resp, lista = listaNumerica(numerica)\n",
    "print('É numérica?', resp)\n",
    "print('Tratada: ', lista)\n",
    "\n",
    "print(naoNumerica)\n",
    "resp, lista = listaNumerica(naoNumerica)\n",
    "print('É numérica?', resp)\n",
    "print('Tratada: ', lista)\n"
   ]
  },
  {
   "cell_type": "markdown",
   "metadata": {},
   "source": [
    "5. Faça uma função que recebe valores a, b e c, resolve a equação quadrática ax^2+ bx + c = 0 e retorna:\n",
    "\n",
    "a. o valor de Δ onde Δ=b^2- 4ac;\n",
    "\n",
    "b. uma tupla com o valor do ponto de mínimo ou máximo, onde, x_m=-b/2a e y_m  = -Δ/4a;\n",
    "\n",
    "c. uma lista contendo as raízes (a lista pode ser vazia, caso Δ<0;  pode conter apenas um elemento, caso Δ = 0; ou conter duas raízes, caso Δ> 0).\n"
   ]
  },
  {
   "cell_type": "code",
   "execution_count": 7,
   "metadata": {},
   "outputs": [
    {
     "name": "stdout",
     "output_type": "stream",
     "text": [
      "2x² + x + 1 = 0\n",
      "delta = -7\n",
      "ponto min:  (-0.25, 0.875)\n",
      "raizes:  []\n",
      "-2x² + x + 1 = 0\n",
      "delta = 9\n",
      "ponto max:  (0.25, 1.125)\n",
      "raizes:  [-0.5, 1.0]\n",
      "x² + 2x + 1 = 0\n",
      "delta = 0\n",
      "ponto min:  (-1.0, 0.0)\n",
      "raizes:  [-1.0]\n"
     ]
    }
   ],
   "source": [
    "import math\n",
    "\n",
    "def quadratica(a, b, c):\n",
    "    \n",
    "    # item a: valor de delta\n",
    "    delta = b**2 - 4*a*c\n",
    "    \n",
    "    # item b: ponto de max ou min:\n",
    "    xm = -b/(2*a)\n",
    "    ym = -delta/(4*a)\n",
    "    \n",
    "    # item c: raizes\n",
    "    raizes = []\n",
    "    \n",
    "    if delta == 0:\n",
    "        raizes.append(xm)\n",
    "        \n",
    "    elif delta > 0:\n",
    "        # pode tb usar **0.5\n",
    "        raiz_delta = math.sqrt(delta)\n",
    "        x1 = (-b + raiz_delta) / (2*a)\n",
    "        x2 = (-b - raiz_delta) / (2*a)\n",
    "        raizes = [x1, x2]\n",
    "        \n",
    "    return (delta, (xm, ym), raizes)\n",
    "\n",
    "# Equação com delta negativo: 2x² + x + 1 = 0\n",
    "delta, ponto, raizes = quadratica(2, 1, 1)\n",
    "print('2x² + x + 1 = 0')\n",
    "print('delta =', delta)\n",
    "print('ponto min: ', ponto)\n",
    "print('raizes: ', raizes)\n",
    "\n",
    "# Equação com delta positivo: -2x² + x + 1 = 0\n",
    "delta, ponto, raizes = quadratica(-2, 1, 1)\n",
    "print('-2x² + x + 1 = 0')\n",
    "print('delta =', delta)\n",
    "print('ponto max: ', ponto)\n",
    "print('raizes: ', raizes)\n",
    "\n",
    "# Equação com delta nulo: x² + 2x + 1 = 0\n",
    "delta, ponto, raizes = quadratica(1, 2, 1)\n",
    "print('x² + 2x + 1 = 0')\n",
    "print('delta =', delta)\n",
    "print('ponto min: ', ponto)\n",
    "print('raizes: ', raizes)\n"
   ]
  },
  {
   "cell_type": "markdown",
   "metadata": {},
   "source": [
    "## Dicionários"
   ]
  },
  {
   "cell_type": "markdown",
   "metadata": {},
   "source": [
    "1. Crie um dicionário cujas chaves são os meses do ano e os valores são a duração (em dias) de cada mês.\n"
   ]
  },
  {
   "cell_type": "code",
   "execution_count": 8,
   "metadata": {},
   "outputs": [
    {
     "name": "stdout",
     "output_type": "stream",
     "text": [
      "Não é bissexto!\n"
     ]
    }
   ],
   "source": [
    "meses = {'Janeiro': 31, 'Fevereiro': 28, 'Março': 31, 'Abril': 30,\n",
    "         'Maio':31, 'Junho':30, 'Agosto':31, 'Setembro':30, 'Outubro':31,\n",
    "         'Novembro':30, 'Dezembro':31}\n",
    "\n",
    "if meses['Fevereiro'] == 28:\n",
    "    print('Não é bissexto!')\n",
    "else:\n",
    "    print('Bissexto!')"
   ]
  },
  {
   "cell_type": "markdown",
   "metadata": {},
   "source": [
    " 2. Imprima as chaves seguidas dos seus valores para o dicionário criado no exercício 1. "
   ]
  },
  {
   "cell_type": "code",
   "execution_count": 10,
   "metadata": {},
   "outputs": [
    {
     "name": "stdout",
     "output_type": "stream",
     "text": [
      "Janeiro - 31\n",
      "Fevereiro - 28\n",
      "Março - 31\n",
      "Abril - 30\n",
      "Maio - 31\n",
      "Junho - 30\n",
      "Agosto - 31\n",
      "Setembro - 30\n",
      "Outubro - 31\n",
      "Novembro - 30\n",
      "Dezembro - 31\n"
     ]
    }
   ],
   "source": [
    "for k, v in meses.items():\n",
    "    print(\"%s - %d\" %(k, v))"
   ]
  },
  {
   "cell_type": "markdown",
   "metadata": {},
   "source": [
    "3. Crie um dicionário para as seguintes relações:\n",
    "\n",
    "‘Banana’: 3.0\n",
    "\n",
    "‘Cebola’: 4.0\n",
    "\n",
    "‘Maçã’: 5.7\n",
    "\n",
    "‘Abacaxi’: 8.0"
   ]
  },
  {
   "cell_type": "code",
   "execution_count": 11,
   "metadata": {},
   "outputs": [
    {
     "name": "stdout",
     "output_type": "stream",
     "text": [
      "{'Banana': 3.0, 'Cebola': 4.0, 'Maçã': 5.7, 'Abacaxi': 8.0}\n"
     ]
    }
   ],
   "source": [
    "frutas = {'Banana': 3.0, 'Cebola': 4.0, 'Maçã': 5.7, 'Abacaxi': 8.0}\n",
    "\n",
    "print(frutas)"
   ]
  },
  {
   "cell_type": "markdown",
   "metadata": {},
   "source": [
    " 4. Altere o valor da chave ‘Maçã’ no dicionário do exercício anterior para 8.6.\n"
   ]
  },
  {
   "cell_type": "code",
   "execution_count": 12,
   "metadata": {},
   "outputs": [
    {
     "name": "stdout",
     "output_type": "stream",
     "text": [
      "{'Banana': 3.0, 'Cebola': 4.0, 'Maçã': 8.6, 'Abacaxi': 8.0}\n"
     ]
    }
   ],
   "source": [
    "frutas['Maçã'] = 8.6\n",
    "\n",
    "print(frutas)"
   ]
  },
  {
   "cell_type": "markdown",
   "metadata": {},
   "source": [
    "5. Crie uma função que receba os valores do nome, idade e e-mail de uma pessoa e guarde-os em um dicionário com as chaves ‘nome’, ‘idade’ e ‘email’, respectivamente. Sua função deve retornar esse dicionário.\n"
   ]
  },
  {
   "cell_type": "code",
   "execution_count": 13,
   "metadata": {},
   "outputs": [
    {
     "name": "stdout",
     "output_type": "stream",
     "text": [
      "{'nome': 'Joaozinho', 'idade': 22, 'email': 'joaozinho@email.com'}\n"
     ]
    }
   ],
   "source": [
    "def cadastraPessoa(nome, idade, email):\n",
    "    \n",
    "    return {\"nome\": nome, \"idade\": idade, \"email\": email}\n",
    "\n",
    "\n",
    "nome = 'Joaozinho'\n",
    "idade = 22\n",
    "email = 'joaozinho@email.com'\n",
    "\n",
    "joaozinho = cadastraPessoa(nome, idade, email)\n",
    "\n",
    "print(joaozinho)"
   ]
  },
  {
   "cell_type": "markdown",
   "metadata": {},
   "source": [
    " 6. Como você armazenaria a seguinte tabela usando apenas dicionários? Tente imprimir o valor correspondente da linha Pedro x Coluna B.\n"
   ]
  },
  {
   "cell_type": "code",
   "execution_count": 2,
   "metadata": {},
   "outputs": [
    {
     "name": "stdout",
     "output_type": "stream",
     "text": [
      "{'Maria': {'Coluna A': 1, 'Coluna B': 5}, 'Pedro': {'Coluna A': 0.5, 'Coluna B': 3}, 'João': {'Coluna A': 3.2, 'Coluna B': 1}}\n",
      "3\n"
     ]
    }
   ],
   "source": [
    "tabela = {}\n",
    "\n",
    "# criando a estrutura da tabela como um dicionário pra cada chave\n",
    "# teremos, portanto, um dicionário de dicionários!\n",
    "tabela[\"Maria\"] = {\"Coluna A\": 1, \"Coluna B\": 5}\n",
    "tabela[\"Pedro\"] = {\"Coluna A\": 0.5, \"Coluna B\": 3}\n",
    "tabela[\"João\"] = {\"Coluna A\": 3.2, \"Coluna B\": 1}\n",
    "\n",
    "# descomenta abaixo se quiser ver o dicionario\n",
    "# print(tabela)\n",
    "\n",
    "# acessando o elemento solicitado\n",
    "print(tabela[\"Pedro\"][\"Coluna B\"])"
   ]
  },
  {
   "cell_type": "markdown",
   "metadata": {},
   "source": [
    "7. Faça uma função que receba uma lista e conte quantas vezes cada elemento apareceu nessa lista. Essa função deverá guardar os dados em um dicionário no qual as chaves são os elementos da lista e os valores são a contagem de quantas vezes esse elemento aparece.\n"
   ]
  },
  {
   "cell_type": "code",
   "execution_count": 5,
   "metadata": {},
   "outputs": [
    {
     "data": {
      "text/plain": [
       "{'Banana': 2, 'Maçã': 1, 'Abacaxi': 1}"
      ]
     },
     "execution_count": 5,
     "metadata": {},
     "output_type": "execute_result"
    }
   ],
   "source": [
    "def contaElementos(lista):\n",
    "    \n",
    "    # inicializa um elemento vazio\n",
    "    contagem = {}\n",
    "    \n",
    "    # percorro os elementos da lista\n",
    "    for elemento in lista:\n",
    "        \n",
    "        # se eu ainda não tiver adicionado o elemento como chave do dicionario, \n",
    "        # eu crio a chave, e inicializo com o valor 1\n",
    "        if elemento not in contagem.keys():\n",
    "            contagem[elemento] = 1\n",
    "        \n",
    "        # mas se eu já tiver adicionado a chave antes (que é o caso de items repetidos da lista),\n",
    "        # aí eu incremento um da contagem que eu já tinha antes\n",
    "        else:\n",
    "            contagem[elemento] = contagem[elemento] + 1\n",
    "    \n",
    "    # ao fim, retorna o dicionário\n",
    "    return contagem\n",
    "\n",
    "lista_teste = [\"Banana\", \"Maçã\", \"Banana\", \"Abacaxi\"]\n",
    "contaElementos(lista_teste)"
   ]
  },
  {
   "cell_type": "markdown",
   "metadata": {},
   "source": [
    " 8. Faça um programa que fique pedindo uma resposta do usuário, entre 1, 2 e 3. Se o usuário digitar 1, o programa deve cadastrar um novo usuário nos moldes do exercício 5 e guardar esse cadastro num dicionário cuja chave será o CPF da pessoa. Quando o usuário digitar 2, o programa deve imprimir os usuários cadastrados; e se o usuário digitar 3, o programa deve fechar.\n",
    "\n",
    "9. Implemente um sistema de busca para o programa do exercício 7, isso é, se o usuário digitar 4, procure um determinado usuário pelo seu CPF.\n"
   ]
  },
  {
   "cell_type": "code",
   "execution_count": 16,
   "metadata": {},
   "outputs": [
    {
     "name": "stdout",
     "output_type": "stream",
     "text": [
      "\n",
      "As opções são:\n",
      "1 - Cadastrar novo usuário\n",
      "2 - Mostrar usuários cadastrados\n",
      "3 - Fechar programa\n",
      "4 - Pesquisar usuário\n",
      "Escolha uma opção: 1\n",
      "\n",
      "Cadastro de usuário\n",
      "CPF: 111.222.333-44\n",
      "Nome: João da Silva\n",
      "Idade: 55\n",
      "Email: joao.silva@gmail.com\n",
      "Usuário Cadastrado\n",
      "\n",
      "As opções são:\n",
      "1 - Cadastrar novo usuário\n",
      "2 - Mostrar usuários cadastrados\n",
      "3 - Fechar programa\n",
      "4 - Pesquisar usuário\n",
      "Escolha uma opção: 2\n",
      "\n",
      "Lista de usuários cadastrados\n",
      "('111.222.333-44', {'nome': 'João da Silva', 'idade': 55, 'email': 'joao.silva@gmail.com'})\n",
      "\n",
      "As opções são:\n",
      "1 - Cadastrar novo usuário\n",
      "2 - Mostrar usuários cadastrados\n",
      "3 - Fechar programa\n",
      "4 - Pesquisar usuário\n",
      "Escolha uma opção: 4\n",
      "\n",
      "Pesquisa de usuário\n",
      "CPF: 111.222.333-44\n",
      "{'nome': 'João da Silva', 'idade': 55, 'email': 'joao.silva@gmail.com'}\n",
      "\n",
      "As opções são:\n",
      "1 - Cadastrar novo usuário\n",
      "2 - Mostrar usuários cadastrados\n",
      "3 - Fechar programa\n",
      "4 - Pesquisar usuário\n",
      "Escolha uma opção: 3\n",
      "\n"
     ]
    }
   ],
   "source": [
    "def cadastraPessoa(nome, idade, email): #função do exercício 5\n",
    "    return { \"nome\": nome, \"idade\": idade, \"email\": email }\n",
    "\n",
    "usuarios = {}\n",
    "entrada = 0 # Começa a variável num valor que entra no loop\n",
    "\n",
    "while entrada != 3:\n",
    "    \n",
    "    print(\"\\n\")\n",
    "    print(\"As opções são:\")\n",
    "    print(\"1 - Cadastrar novo usuário\")\n",
    "    print(\"2 - Mostrar usuários cadastrados\")\n",
    "    print(\"3 - Fechar programa\")\n",
    "    print(\"4 - Pesquisar usuário\")\n",
    "    entrada = int(input(\"Escolha uma opção: \"))\n",
    "    print(\"\\n\")\n",
    "    \n",
    "    if entrada == 1:\n",
    "        print(\"Cadastro de usuário\")\n",
    "        CPF = input(\"CPF: \")\n",
    "        nome = input(\"Nome: \")\n",
    "        idade = int(input(\"Idade: \"))\n",
    "        email = input(\"Email: \")\n",
    "        usuarios[CPF] = cadastraPessoa(nome, idade, email) \n",
    "        print(\"Usuário Cadastrado\")\n",
    "\n",
    "    elif entrada == 2:\n",
    "        if len(usuarios) == 0:\n",
    "            print(\"Não há usuários cadastrados\")\n",
    "        else:\n",
    "            print(\"Lista de usuários cadastrados\")\n",
    "            for i in usuarios.items():\n",
    "                print(i)\n",
    "    \n",
    "    elif entrada == 4:\n",
    "        print(\"Pesquisa de usuário\")\n",
    "        CPF = input(\"CPF: \")\n",
    "        if CPF in usuarios.keys():\n",
    "            print(usuarios[CPF])\n",
    "        else:\n",
    "            print(\"Esse usuário não existe\")\n"
   ]
  },
  {
   "cell_type": "markdown",
   "metadata": {},
   "source": [
    " 10. Faça o análogo do exercício 6 para strings: conte quantas vezes cada caracter apareceu nessa string e retorne um dicionário com essa contagem.\n"
   ]
  },
  {
   "cell_type": "code",
   "execution_count": 7,
   "metadata": {},
   "outputs": [
    {
     "name": "stdout",
     "output_type": "stream",
     "text": [
      "{'B': 1, 'a': 3, 'n': 2}\n"
     ]
    }
   ],
   "source": [
    "def contaCaracteres(palavra):\n",
    "    \n",
    "    # inicializa o dicionario \n",
    "    contagem = {}\n",
    "    \n",
    "    # percorre os caracteres\n",
    "    for caractere in palavra:\n",
    "        \n",
    "        # se for a primeira vez que determinado caractere for encontrado\n",
    "        if caractere not in contagem.keys():\n",
    "            contagem[caractere] = 1\n",
    "        # se o caractere for repetido\n",
    "        else:\n",
    "            contagem[caractere] = contagem[caractere] + 1\n",
    "    return contagem\n",
    "\n",
    "palavra_teste = \"Banana\"\n",
    "print(contaCaracteres(palavra_teste))"
   ]
  },
  {
   "cell_type": "code",
   "execution_count": null,
   "metadata": {},
   "outputs": [],
   "source": []
  }
 ],
 "metadata": {
  "kernelspec": {
   "display_name": "Python 3",
   "language": "python",
   "name": "python3"
  },
  "language_info": {
   "codemirror_mode": {
    "name": "ipython",
    "version": 3
   },
   "file_extension": ".py",
   "mimetype": "text/x-python",
   "name": "python",
   "nbconvert_exporter": "python",
   "pygments_lexer": "ipython3",
   "version": "3.8.3"
  }
 },
 "nbformat": 4,
 "nbformat_minor": 4
}
