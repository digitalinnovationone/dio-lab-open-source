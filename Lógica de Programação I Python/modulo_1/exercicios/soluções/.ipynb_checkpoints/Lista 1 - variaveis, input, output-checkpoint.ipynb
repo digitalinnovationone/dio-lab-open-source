{
 "cells": [
  {
   "cell_type": "markdown",
   "metadata": {},
   "source": [
    "# Lista 1 - variáveis, input, output"
   ]
  },
  {
   "cell_type": "markdown",
   "metadata": {},
   "source": [
    "\n",
    "1. Faça um programa que mostre a mensagem \"Olá, mundo!\" na tela.\n"
   ]
  },
  {
   "cell_type": "code",
   "execution_count": 2,
   "metadata": {},
   "outputs": [
    {
     "name": "stdout",
     "output_type": "stream",
     "text": [
      "Olá, mundo!\n"
     ]
    }
   ],
   "source": [
    "# nosso primeiro programa em Python! :)\n",
    "print(\"Olá, mundo!\")"
   ]
  },
  {
   "cell_type": "markdown",
   "metadata": {},
   "source": [
    "2. Faça um programa que peça um número e mostre a mensagem \"O número informado foi [número]\".\n"
   ]
  },
  {
   "cell_type": "code",
   "execution_count": 3,
   "metadata": {},
   "outputs": [
    {
     "name": "stdout",
     "output_type": "stream",
     "text": [
      "Digite um número 10\n",
      "\n",
      "O número informado foi 10\n"
     ]
    }
   ],
   "source": [
    "# como não vamos fazer nenhuma operação matemática com o número (vamos apenas exibi-lo),\n",
    "# nao precisamos transforma-lo em int ou float\n",
    "numero = input(\"Digite um número \")\n",
    "\n",
    "# usei o \"\\n\" no começo pra quebrar a linha\n",
    "print(\"\\nO número informado foi\", numero)"
   ]
  },
  {
   "cell_type": "markdown",
   "metadata": {},
   "source": [
    "\n",
    "3. Faça um programa que peça um número para o usuário (string), converta-o para float e depois imprima-o na tela. Você consegue fazer a mesma coisa, porém convertendo para int?\n",
    "\n"
   ]
  },
  {
   "cell_type": "code",
   "execution_count": 9,
   "metadata": {},
   "outputs": [
    {
     "name": "stdout",
     "output_type": "stream",
     "text": [
      "Digite um número 7\n",
      "7\n"
     ]
    }
   ],
   "source": [
    "# pedindo o número pro usuário, ainda como string\n",
    "numero = input(\"Digite um número \")\n",
    "\n",
    "# convertendo o número pra int\n",
    "numero = int(numero)\n",
    "\n",
    "# exibindo o numero na tela\n",
    "print(numero)\n",
    "\n",
    "#OBS.: como convertemos o número para int, caso o usuário digite um número com casas decimais\n",
    "# o python vai retornar um erro!"
   ]
  },
  {
   "cell_type": "code",
   "execution_count": 11,
   "metadata": {},
   "outputs": [
    {
     "name": "stdout",
     "output_type": "stream",
     "text": [
      "Digite um número 4.7\n",
      "4.7\n"
     ]
    }
   ],
   "source": [
    "# pedindo o número pro usuário, ainda como string\n",
    "numero = input(\"Digite um número \")\n",
    "\n",
    "# convertendo o número pra float\n",
    "# agora funciona até se o usuário digitar um número com casas decimais\n",
    "numero = float(numero)\n",
    "\n",
    "# exibindo o numero na tela\n",
    "print(numero)"
   ]
  },
  {
   "cell_type": "markdown",
   "metadata": {},
   "source": [
    "4. Faça um programa que peça dois números e imprima a soma deles.\n",
    "\n"
   ]
  },
  {
   "cell_type": "code",
   "execution_count": 15,
   "metadata": {},
   "outputs": [
    {
     "name": "stdout",
     "output_type": "stream",
     "text": [
      "Digite o primeiro número: 2.7\n",
      "Digite o segundo número: 8\n",
      "\n",
      "\n",
      "2.7 + 8.0 = 10.7\n"
     ]
    }
   ],
   "source": [
    "# pede o primeiro numero. Vamos transformá-lo em float, pra ser mais geral\n",
    "num1 = float(input(\"Digite o primeiro número: \"))\n",
    "\n",
    "# pede o segundo numero\n",
    "num2 = float(input(\"Digite o segundo número: \"))\n",
    "\n",
    "# calcula a soma\n",
    "soma = num1 + num2\n",
    "\n",
    "# exibe a soma\n",
    "print(\"\\n\")\n",
    "print(num1, \"+\", num2, \"=\", soma)"
   ]
  },
  {
   "cell_type": "markdown",
   "metadata": {},
   "source": [
    "5. Faça um programa que peça as 4 notas bimestrais de um aluno e mostre a média aritmética delas.\n"
   ]
  },
  {
   "cell_type": "code",
   "execution_count": 21,
   "metadata": {},
   "outputs": [
    {
     "name": "stdout",
     "output_type": "stream",
     "text": [
      "Digite a nota do primeiro bimestre: 9.9\n",
      "Digite a nota do segundo bimestre: 7.8\n",
      "Digite a nota do terceiro bimestre: 9\n",
      "Digite a nota do quarto bimestre: 8.5\n",
      "\n",
      "A média do aluno é 8.8\n"
     ]
    }
   ],
   "source": [
    "# peço pro usuário as 4 notas, já as transformando em float\n",
    "nota1 = float(input(\"Digite a nota do primeiro bimestre: \"))\n",
    "nota2 = float(input(\"Digite a nota do segundo bimestre: \"))\n",
    "nota3 = float(input(\"Digite a nota do terceiro bimestre: \"))\n",
    "nota4 = float(input(\"Digite a nota do quarto bimestre: \"))\n",
    "\n",
    "# calculo a média\n",
    "media = (nota1 + nota2 + nota3 + nota4)/4\n",
    "\n",
    "# exibo a nota\n",
    "print(\"\\nA média do aluno é\", media)"
   ]
  },
  {
   "cell_type": "markdown",
   "metadata": {},
   "source": [
    "\n",
    "6. Faça um programa que converta um valor em metros para centímetros.\n",
    "\n"
   ]
  },
  {
   "cell_type": "code",
   "execution_count": 24,
   "metadata": {},
   "outputs": [
    {
     "name": "stdout",
     "output_type": "stream",
     "text": [
      "Digite um comprimento em metros: 1.78\n",
      "\n",
      "O comprimento 1.78 metros equivale a 178.0 centímetros!\n"
     ]
    }
   ],
   "source": [
    "# solicita ao usuário o comprimento em metros\n",
    "metros = float(input(\"Digite um comprimento em metros: \"))\n",
    "\n",
    "# converte para centímetros, multiplicando por 100\n",
    "cm = metros*100\n",
    "\n",
    "# exibe o resultado\n",
    "print(\"\\nO comprimento\", metros, \"metros equivale a\", cm, \"centímetros!\")"
   ]
  },
  {
   "cell_type": "markdown",
   "metadata": {},
   "source": [
    "7. Faça um programa que peça o raio de um círculo, calcule e mostre sua área. Obs: Fórmula da área de um círculo: A = 3,14*r2, onde r é o raio.\n"
   ]
  },
  {
   "cell_type": "code",
   "execution_count": 27,
   "metadata": {},
   "outputs": [
    {
     "name": "stdout",
     "output_type": "stream",
     "text": [
      "Digite o raio do círculo: 2.5\n",
      "\n",
      "A área do círculo de raio 2.5 é: 19.625 u.a. (unidades de área)\n"
     ]
    }
   ],
   "source": [
    "# solicita o raio do círculo ao usuário\n",
    "raio = float(input(\"Digite o raio do círculo: \"))\n",
    "\n",
    "# calcula a área\n",
    "area = 3.14*(raio**2)\n",
    "\n",
    "print(\"\\nA área do círculo de raio\", raio, \"é:\", area, \"u.a. (unidades de área)\")"
   ]
  },
  {
   "cell_type": "code",
   "execution_count": 28,
   "metadata": {},
   "outputs": [
    {
     "name": "stdout",
     "output_type": "stream",
     "text": [
      "Digite o raio do círculo: 2.5\n",
      "\n",
      "A área do círculo de raio 2.5 é: 19.634954084936208 u.a. (unidades de área)\n"
     ]
    }
   ],
   "source": [
    "# Podemos também utilizar a constante pi, como é armazenada no próprio Python!\n",
    "# para isso, temos que importar a biblioteca \"math\"\n",
    "# fazemos isso com o comando:\n",
    "import math \n",
    "\n",
    "# aí, pra pegar o valor de pi, utilizamos o comando \"math.pi\"\n",
    "# vamos armazenar este valor na variavel \"pi\"\n",
    "# o valor é 3.141592653589793\n",
    "pi = math.pi\n",
    "\n",
    "# solicita o raio do círculo ao usuário\n",
    "raio = float(input(\"Digite o raio do círculo: \"))\n",
    "\n",
    "# calcula a área, utilizando a variável pi da biblioteca math\n",
    "area = pi*(raio**2)\n",
    "\n",
    "print(\"\\nA área do círculo de raio\", raio, \"é:\", area, \"u.a. (unidades de área)\")"
   ]
  },
  {
   "cell_type": "markdown",
   "metadata": {},
   "source": [
    "\n",
    "8. Faça um programa que pergunte quanto você ganha por hora e o número de horas trabalhadas no mês e depois, calcule e mostre o total do seu salário no referido mês.\n",
    "\n"
   ]
  },
  {
   "cell_type": "code",
   "execution_count": 35,
   "metadata": {},
   "outputs": [
    {
     "name": "stdout",
     "output_type": "stream",
     "text": [
      "Quanto você ganha por hora? (em R$) 66\n",
      "Quantas horas você trabalhou este mês? 167\n",
      "\n",
      "Seu salário no mês será R$ 11022.0\n"
     ]
    }
   ],
   "source": [
    "# pergunta o salário por hora\n",
    "salario_por_hora = float(input(\"Quanto você ganha por hora? (em R$) \"))\n",
    "\n",
    "# pergunta quantas horas foram trabalhadas no mês\n",
    "horas_trabalhadas = float(input(\"Quantas horas você trabalhou este mês? \"))\n",
    "\n",
    "# calcula o salário, que é o produto das duas variaveis definidas acima\n",
    "salario = salario_por_hora*horas_trabalhadas\n",
    "\n",
    "# exibe o solário\n",
    "print(\"\\nSeu salário no mês será R$\", round(salario, 3))"
   ]
  },
  {
   "cell_type": "markdown",
   "metadata": {},
   "source": [
    "9. Faça um programa que peça a temperatura em graus Fahrenheit (F), transforme e mostre a temperatura em graus Celsius (°C). °C = (5 * (F-32) / 9) Obs: Tente também fazer um programa que faça o inverso: peça a temperatura em graus Celsius e a transforme em graus Fahrenheit.\n"
   ]
  },
  {
   "cell_type": "code",
   "execution_count": 40,
   "metadata": {},
   "outputs": [
    {
     "name": "stdout",
     "output_type": "stream",
     "text": [
      "Digite a temperatura em graus Fahrenheit: 100\n",
      "\n",
      "A temperatura 100.0 graus fahrenheit equivale a 37.77777777777778 graus celsius\n"
     ]
    }
   ],
   "source": [
    "# pede a temperatura em fahrenheit\n",
    "f = float(input(\"Digite a temperatura em graus Fahrenheit: \"))\n",
    "\n",
    "# transnforma a temperatura em celsius\n",
    "c = (5*(f-32))/9\n",
    "\n",
    "# exibe a temperatura convertida\n",
    "print(\"\\nA temperatura\", f, \"graus fahrenheit equivale a\", c, \"graus celsius\")"
   ]
  },
  {
   "cell_type": "code",
   "execution_count": 41,
   "metadata": {},
   "outputs": [
    {
     "name": "stdout",
     "output_type": "stream",
     "text": [
      "Digite a temperatura em graus Celscius: 37.78\n",
      "\n",
      "A temperatura 37.78 graus celsius equivale a 100.00399999999999 graus fahrenheit\n"
     ]
    }
   ],
   "source": [
    "# pede a temperatura em celsius\n",
    "c = float(input(\"Digite a temperatura em graus Celscius: \"))\n",
    "\n",
    "# transnforma a temperatura em fahrenheit\n",
    "f = (9*c)/5 + 32\n",
    "\n",
    "# exibe a temperatura convertida\n",
    "print(\"\\nA temperatura\", c, \"graus celsius equivale a\", f, \"graus fahrenheit\")"
   ]
  },
  {
   "cell_type": "markdown",
   "metadata": {},
   "source": [
    "\n",
    "10. Faça um programa que peça o dia, o mês e o ano para o usuário e imprima a data completa no formato dd/mm/aaaa.\n",
    "\n"
   ]
  },
  {
   "cell_type": "code",
   "execution_count": 45,
   "metadata": {},
   "outputs": [
    {
     "name": "stdout",
     "output_type": "stream",
     "text": [
      "Digite o dia: 14\n",
      "Digite o mês: 06\n",
      "Digite o ano: 2020\n",
      "\n",
      "\n",
      "14 / 06 / 2020\n"
     ]
    }
   ],
   "source": [
    "# pede o dia\n",
    "dia = input(\"Digite o dia: \")\n",
    "\n",
    "# pede o mês\n",
    "mes = input(\"Digite o mês: \")\n",
    "\n",
    "# pede o ano\n",
    "ano = input(\"Digite o ano: \")\n",
    "\n",
    "# exibe a data no formato solicitado\n",
    "print(\"\\n\")\n",
    "print(dia, \"/\", mes, \"/\", ano)"
   ]
  },
  {
   "cell_type": "markdown",
   "metadata": {},
   "source": [
    "11. Faça um programa que peça 2 números inteiros e um número real, calcule e mostre:\n",
    "a) o produto do dobro do primeiro com metade do segundo.\n",
    "b) a soma do triplo do primeiro com o terceiro.\n",
    "c) o terceiro elevado ao cubo.\n",
    "\n"
   ]
  },
  {
   "cell_type": "code",
   "execution_count": 3,
   "metadata": {},
   "outputs": [
    {
     "name": "stdout",
     "output_type": "stream",
     "text": [
      "Digite o primeiro número inteiro: 4\n",
      "Digite o segundo número inteiro: 5\n",
      "Digite o número terceiro: 2.2\n",
      "\n",
      "\n",
      "a) produto do dobro do primeiro com metade do segundo: 20.0\n",
      "b) soma do triplo do primeiro com o terceiro: 14.2\n",
      "c) terceiro elevado ao cubo: 10.648000000000003\n"
     ]
    }
   ],
   "source": [
    "# pergunta e recebe os números do usuário\n",
    "# o terceiro é um float!\n",
    "primeiro = int(input(\"Digite o primeiro número inteiro: \"))\n",
    "segundo = int(input(\"Digite o segundo número inteiro: \"))\n",
    "terceiro = float(input(\"Digite o número terceiro: \"))\n",
    "\n",
    "print(\"\\n\")\n",
    "\n",
    "# item a)\n",
    "a = (2*primeiro)*(0.5*segundo)\n",
    "print(\"a) produto do dobro do primeiro com metade do segundo:\",  a)\n",
    "\n",
    "# item b)\n",
    "b = (3*primeiro) + terceiro\n",
    "print(\"b) soma do triplo do primeiro com o terceiro:\",  b)\n",
    "\n",
    "# item c)\n",
    "c = terceiro**3\n",
    "print(\"c) terceiro elevado ao cubo:\",  c)"
   ]
  },
  {
   "cell_type": "markdown",
   "metadata": {},
   "source": [
    "12. Faça um programa que peça o peso e altura de uma pessoa e calcule seu IMC (Índice de Massa Corporal).\n",
    "Obs: IMC = Peso/Altura2\n",
    "\n"
   ]
  },
  {
   "cell_type": "code",
   "execution_count": 8,
   "metadata": {},
   "outputs": [
    {
     "name": "stdout",
     "output_type": "stream",
     "text": [
      "Digite sua altura em metros: 1.68\n",
      "Digite seu peso em quilos: 70\n",
      "\n",
      "O IMC é de: 24.801587301587304\n"
     ]
    }
   ],
   "source": [
    "# solicita a altura\n",
    "altura = float(input(\"Digite sua altura em metros: \"))\n",
    "\n",
    "# solicita o peso\n",
    "peso = float(input(\"Digite seu peso em quilos: \"))\n",
    "\n",
    "# calcula o IMC\n",
    "imc = peso/altura**2\n",
    "\n",
    "# exibe o IMC\n",
    "print(\"\\nO IMC é de:\", imc)"
   ]
  },
  {
   "cell_type": "markdown",
   "metadata": {},
   "source": [
    "13. Faça um programa que peça um valor monetário e aumente-o em\n",
    "15%. Seu programa deve imprimir a mensagem “O novo valor é\n",
    "R$[valor]”.\n"
   ]
  },
  {
   "cell_type": "code",
   "execution_count": 13,
   "metadata": {},
   "outputs": [
    {
     "name": "stdout",
     "output_type": "stream",
     "text": [
      "Digite um valor monetário: 5\n",
      "\n",
      "O novo valor é R$ 5.75\n"
     ]
    }
   ],
   "source": [
    "# solicita o valor\n",
    "valor = float(input(\"Digite um valor monetário: \"))\n",
    "\n",
    "# aumentando o valor em 15%\n",
    "valor = valor*(1 + 0.15)\n",
    "\n",
    "# exibe o novo valor\n",
    "print(\"\\nO novo valor é R$\", valor)"
   ]
  },
  {
   "cell_type": "markdown",
   "metadata": {},
   "source": [
    "\n",
    "14. Faça um programa que peça um valor monetário e diminua-o em 15%.\n",
    "Seu programa deve imprimir a mensagem “O novo valor é R$[valor]”.\n"
   ]
  },
  {
   "cell_type": "code",
   "execution_count": 14,
   "metadata": {},
   "outputs": [
    {
     "name": "stdout",
     "output_type": "stream",
     "text": [
      "Digite um valor monetário: 5\n",
      "\n",
      "O novo valor é R$ 4.25\n"
     ]
    }
   ],
   "source": [
    "# solicita o valor\n",
    "valor = float(input(\"Digite um valor monetário: \"))\n",
    "\n",
    "# diminuindo o valor em 15%\n",
    "valor = valor*(1 - 0.15)\n",
    "\n",
    "# exibe o novo valor\n",
    "print(\"\\nO novo valor é R$\", valor)"
   ]
  },
  {
   "cell_type": "markdown",
   "metadata": {},
   "source": [
    "__________________\n",
    "__________________\n",
    "\n",
    "__________________\n",
    "__________________\n"
   ]
  },
  {
   "cell_type": "markdown",
   "metadata": {},
   "source": [
    "# DESAFIOS"
   ]
  },
  {
   "cell_type": "markdown",
   "metadata": {},
   "source": [
    "\n",
    "1. Peça para o usuário digitar uma velocidade inicial (em m/s), uma posição inicial (em m) e um instante de tempo (em s) e imprima a posição de um projétil nesse instante de tempo. Dica: use a fórmula matemática:\n",
    "yt = y0 + v0*t + (1/2)*gt^2\n",
    "Onde, g é a aceleração da gravidade (-10m/s²), y(t) é a posição\n",
    "final, y(0) é a posição inicial, v(0) é a velocidade inicial e t é o\n",
    "instante de tempo.\n"
   ]
  },
  {
   "cell_type": "code",
   "execution_count": 18,
   "metadata": {},
   "outputs": [
    {
     "name": "stdout",
     "output_type": "stream",
     "text": [
      "Digite a velocidade inicial: 2.5\n",
      "Digite a posição inicial: 100\n",
      "Digite um instante de tempo: 4.2\n",
      "\n",
      "A posição em t = 4.2 segundos é: y(t) =  22.299999999999997 metros\n"
     ]
    }
   ],
   "source": [
    "# solicita a velocidade inicial\n",
    "v0 = float(input(\"Digite a velocidade inicial: \"))\n",
    "\n",
    "# solicite a posição inicial\n",
    "y0 = float(input(\"Digite a posição inicial: \"))\n",
    "\n",
    "# solicite o instante de tempo\n",
    "t = float(input(\"Digite um instante de tempo: \"))\n",
    "\n",
    "# definindo a aceleração da gravidade\n",
    "g = -10\n",
    "\n",
    "# calcula a posição\n",
    "yt = y0 + v0*t + (0.5*g)*t**2\n",
    "\n",
    "# exibe a posição\n",
    "print(\"\\nA posição em t =\", t, \"segundos é: y(t) = \", yt, \"metros\")"
   ]
  },
  {
   "cell_type": "markdown",
   "metadata": {},
   "source": [
    "\n",
    "2. Faça um programa que informe a data e a hora para o usuário. Para\n",
    "isso use a função datetime.now() do módulo datetime"
   ]
  },
  {
   "cell_type": "code",
   "execution_count": 28,
   "metadata": {},
   "outputs": [
    {
     "name": "stdout",
     "output_type": "stream",
     "text": [
      "Data de hoje: 2020-06-15\n",
      "Hora atual: 11:35:30.580430\n"
     ]
    }
   ],
   "source": [
    "# aqui, importamos a biblioteca datetime\n",
    "import datetime\n",
    "\n",
    "# aqui eu armazeno o instante atual () com a função datetime.now()\n",
    "hoje = datetime.datetime.now()\n",
    "\n",
    "# para pegar a data, usamos o método .date()\n",
    "# às vezes não é necessário, mas só pra garantir, trasnformamos em string com str()\n",
    "print(\"Data de hoje:\", str(hoje.date()))\n",
    "\n",
    "# para pegar a hora, usamos o método .time()\n",
    "print(\"Hora atual:\", str(hoje.time()))"
   ]
  }
 ],
 "metadata": {
  "kernelspec": {
   "display_name": "Python 3",
   "language": "python",
   "name": "python3"
  },
  "language_info": {
   "codemirror_mode": {
    "name": "ipython",
    "version": 3
   },
   "file_extension": ".py",
   "mimetype": "text/x-python",
   "name": "python",
   "nbconvert_exporter": "python",
   "pygments_lexer": "ipython3",
   "version": "3.8.3"
  }
 },
 "nbformat": 4,
 "nbformat_minor": 4
}
