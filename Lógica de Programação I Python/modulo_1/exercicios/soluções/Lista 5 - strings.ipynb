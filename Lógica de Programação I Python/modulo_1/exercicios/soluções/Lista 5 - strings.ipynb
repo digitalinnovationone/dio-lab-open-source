{
 "cells": [
  {
   "cell_type": "markdown",
   "metadata": {},
   "source": [
    "# Lista 5 - Strings"
   ]
  },
  {
   "cell_type": "markdown",
   "metadata": {},
   "source": [
    "1.Faça um programa que pede para o usuário digitar uma palavra e imprima cada letra em uma linha. \n",
    "\n"
   ]
  },
  {
   "cell_type": "code",
   "execution_count": 1,
   "metadata": {},
   "outputs": [
    {
     "name": "stdout",
     "output_type": "stream",
     "text": [
      "Digite uma palavra: python\n",
      "p\n",
      "y\n",
      "t\n",
      "h\n",
      "o\n",
      "n\n"
     ]
    }
   ],
   "source": [
    "# solicita a palavra pro usuário\n",
    "palavra = input(\"Digite uma palavra: \")\n",
    "\n",
    "# percorre cada caractere da palavra digitada\n",
    "for letra in palavra:\n",
    "    \n",
    "    # inprime cada caractere\n",
    "    print(letra)"
   ]
  },
  {
   "cell_type": "markdown",
   "metadata": {},
   "source": [
    "2.Faça um programa que pede para o usuário digitar uma palavra e cria uma nova string igual, copiando letra por letra a palavra digitada, depois imprima a nova string. \n",
    "\n"
   ]
  },
  {
   "cell_type": "code",
   "execution_count": 3,
   "metadata": {},
   "outputs": [
    {
     "name": "stdout",
     "output_type": "stream",
     "text": [
      "Digite uma palavra: python\n",
      "\n",
      "String copiada: python\n"
     ]
    }
   ],
   "source": [
    "# solicita a palavra pro usuário\n",
    "palavra = input(\"Digite uma palavra: \")\n",
    "\n",
    "# inicializa uma string vazia\n",
    "string_nova = \"\"\n",
    "\n",
    "# percorre cada caractere da palavra\n",
    "for letra in palavra:\n",
    "    \n",
    "    # atualiza a string nova, concatenando cada caractere da string dada pelo usuário\n",
    "    string_nova = string_nova + letra\n",
    "    \n",
    "print(\"\\nString copiada:\", string_nova)"
   ]
  },
  {
   "cell_type": "markdown",
   "metadata": {},
   "source": [
    "3.Altere o exercício anterior para que a string copiada alterne entre letras maiúsculas e minúsculas Exemplo: se  o  usuário  digitar  \"latex\"  o  programa  deve  imprimir \"LaTeX\". \n",
    "\n"
   ]
  },
  {
   "cell_type": "code",
   "execution_count": 7,
   "metadata": {},
   "outputs": [
    {
     "name": "stdout",
     "output_type": "stream",
     "text": [
      "Digite uma palavra: latex\n",
      "\n",
      "String copiada e modificada: LaTeX\n"
     ]
    }
   ],
   "source": [
    "# solicita a palavra pro usuário\n",
    "palavra = input(\"Digite uma palavra: \")\n",
    "\n",
    "# inicializa uma string vazia\n",
    "string_nova = \"\"\n",
    "\n",
    "# percorre os indices da palavra\n",
    "for i in range(len(palavra)):\n",
    "    \n",
    "    # se o indice for par\n",
    "    if i % 2 == 0:\n",
    "        # concatena o caractere da palavra original em maiuscula\n",
    "        string_nova = string_nova + palavra[i].upper()\n",
    "    else:\n",
    "        # concatena o caractere da palavra original em minuscula\n",
    "        string_nova = string_nova + palavra[i].lower()\n",
    "         \n",
    "print(\"\\nString copiada e modificada:\", string_nova)"
   ]
  },
  {
   "cell_type": "markdown",
   "metadata": {},
   "source": [
    "4.Faça um programa que pede para o usuário digitar uma palavra e cria uma nova string igual, porém com espaço entre cada letra, depois imprima a nova string: Exemplo: se o usuário digitar \"python\" o programa deve imprimir  \"p y t h o n \" \n",
    "\n"
   ]
  },
  {
   "cell_type": "code",
   "execution_count": 8,
   "metadata": {},
   "outputs": [
    {
     "name": "stdout",
     "output_type": "stream",
     "text": [
      "Digite uma palavra: python\n",
      "\n",
      "String copiada: p y t h o n \n"
     ]
    }
   ],
   "source": [
    "# solicita a palavra pro usuário\n",
    "palavra = input(\"Digite uma palavra: \")\n",
    "\n",
    "# inicializa uma string vazia\n",
    "string_nova = \"\"\n",
    "\n",
    "# percorre cada caractere da palavra\n",
    "for letra in palavra:\n",
    "    \n",
    "    # concatena à string nova o caractere e um espaço\n",
    "    string_nova = string_nova + letra + \" \"\n",
    "\n",
    "print(\"\\nString copiada:\", string_nova)"
   ]
  },
  {
   "cell_type": "markdown",
   "metadata": {},
   "source": [
    "5.Faça uma função que receba uma string e retorne uma nova string substituindo: 'a' por '4' 'e' por '3' 'I' por '1' 't' por '7' \n",
    "\n"
   ]
  },
  {
   "cell_type": "code",
   "execution_count": 10,
   "metadata": {},
   "outputs": [
    {
     "name": "stdout",
     "output_type": "stream",
     "text": [
      "Digite uma palavra: paralelepipedo terrestre\n",
      "\n",
      "String copiada: p4r41313pip3do 73rr3s7r3\n"
     ]
    }
   ],
   "source": [
    "# solicita a palavra pro usuário\n",
    "palavra = input(\"Digite uma palavra: \")\n",
    "\n",
    "# inicializa uma string vazia\n",
    "string_nova = \"\"\n",
    "\n",
    "\n",
    "# percorre cada caractere da palavra\n",
    "for letra in palavra:\n",
    "    \n",
    "    # faz as mudanças para as letras indicadas\n",
    "    if letra == \"a\":\n",
    "        letra = \"4\"\n",
    "    elif letra == \"e\":\n",
    "        letra = \"3\"\n",
    "    elif letra == \"l\":\n",
    "        letra = \"1\"\n",
    "    elif letra == \"t\":\n",
    "        letra = \"7\"\n",
    "    \n",
    "    # concatena as letras modificadas (se elas o tiverem sido acima) à string inicial\n",
    "    string_nova = string_nova + letra\n",
    "    \n",
    "print(\"\\nString copiada:\", string_nova)"
   ]
  },
  {
   "cell_type": "markdown",
   "metadata": {},
   "source": [
    "6.Faça uma função que recebe uma string e retorna ela ao contrário. Exemplo: Recebe \"teste\" e retorna \"etset\". \n"
   ]
  },
  {
   "cell_type": "code",
   "execution_count": 13,
   "metadata": {},
   "outputs": [
    {
     "data": {
      "text/plain": [
       "'etset'"
      ]
     },
     "execution_count": 13,
     "metadata": {},
     "output_type": "execute_result"
    }
   ],
   "source": [
    "def inverte_palavra(palavra):\n",
    "    \n",
    "    # para inverter a palavra, basta usar [::-1], como se fosse uma lista\n",
    "    return palavra[::-1]\n",
    "\n",
    "############################################################################\n",
    "############################################################################\n",
    "\n",
    "# chama a função\n",
    "inverte_palavra(\"teste\")"
   ]
  },
  {
   "cell_type": "markdown",
   "metadata": {},
   "source": [
    "\n",
    "7.Agora faça uma função que recebe uma palavra e diz se ela é um palíndromo, ou seja, se ela é igual a ela mesma ao contrário. Dica: Use a função do exercício 5."
   ]
  },
  {
   "cell_type": "code",
   "execution_count": 44,
   "metadata": {},
   "outputs": [
    {
     "name": "stdout",
     "output_type": "stream",
     "text": [
      "A palavra 'arara' é um palíndromo!\n",
      "\n",
      "\n",
      "A palavra 'avião' NÃO é um palíndromo!\n"
     ]
    }
   ],
   "source": [
    "def checa_palindromo(palavra):\n",
    "\n",
    "    # usa a função anterior para inverter a palavea\n",
    "    palavra_ao_contrario = inverte_palavra(palavra)\n",
    "    \n",
    "    # checa se a palavra original é igual à sua versão invertida (definição de palíndromo)\n",
    "    if palavra == palavra_ao_contrario:\n",
    "        \n",
    "        print(\"A palavra '\" + palavra + \"' é um palíndromo!\")\n",
    "    \n",
    "    else:\n",
    "        \n",
    "        print(\"A palavra '\" + palavra + \"' NÃO é um palíndromo!\")\n",
    "        \n",
    "############################################################################\n",
    "############################################################################\n",
    "\n",
    "# chama a função\n",
    "checa_palindromo(\"arara\")\n",
    "\n",
    "print(\"\\n\")\n",
    "\n",
    "# chama a função\n",
    "checa_palindromo(\"avião\")"
   ]
  },
  {
   "cell_type": "markdown",
   "metadata": {},
   "source": [
    "8.Faça uma função que receba um texto e uma palavra, então verifique se a palavra está no texto, retornando True ou False. "
   ]
  },
  {
   "cell_type": "code",
   "execution_count": 57,
   "metadata": {},
   "outputs": [
    {
     "name": "stdout",
     "output_type": "stream",
     "text": [
      "True\n",
      "\n",
      "\n",
      "False\n"
     ]
    }
   ],
   "source": [
    "def palavra_no_texto(palavra, texto):\n",
    "    \n",
    "    # checa se a palavra está contida no texto, como substring\n",
    "    if palavra in texto:\n",
    "        \n",
    "        return True\n",
    "    \n",
    "    else:\n",
    "        \n",
    "        return False\n",
    "\n",
    "############################################################################\n",
    "############################################################################\n",
    "\n",
    "# chama a função\n",
    "print(palavra_no_texto(\"python\", \"programar em python é muito legal!\"))\n",
    "\n",
    "print(\"\\n\")\n",
    "\n",
    "# chama a função\n",
    "print(palavra_no_texto(\"programação\", \"qualquer frase aleatória\"))"
   ]
  },
  {
   "cell_type": "code",
   "execution_count": null,
   "metadata": {},
   "outputs": [],
   "source": []
  },
  {
   "cell_type": "code",
   "execution_count": null,
   "metadata": {},
   "outputs": [],
   "source": []
  },
  {
   "cell_type": "code",
   "execution_count": 5,
   "metadata": {},
   "outputs": [
    {
     "name": "stdout",
     "output_type": "stream",
     "text": [
      "A palavra noite está no texto informado!\n"
     ]
    }
   ],
   "source": []
  },
  {
   "cell_type": "code",
   "execution_count": null,
   "metadata": {},
   "outputs": [],
   "source": []
  },
  {
   "cell_type": "markdown",
   "metadata": {},
   "source": [
    "__Elaoração: informando se a palavra está contida na frase ou não__"
   ]
  },
  {
   "cell_type": "code",
   "execution_count": 47,
   "metadata": {},
   "outputs": [
    {
     "name": "stdout",
     "output_type": "stream",
     "text": [
      "A palavra 'python' está contida no texto 'programar em python é muito legal!'\n",
      "\n",
      "\n",
      "A palavra 'programação' NÃO está contida no texto 'qualquer frase aleatória'\n"
     ]
    }
   ],
   "source": [
    "def palavra_no_texto(palavra, texto):\n",
    "    \n",
    "    # checa se a palavra está contida no texto, como substring\n",
    "    if palavra in texto:\n",
    "        \n",
    "        print(\"A palavra '\" + palavra + \"' está contida no texto '\" + texto + \"'\")\n",
    "    \n",
    "    # caso contrário\n",
    "    else:\n",
    "        \n",
    "        print(\"A palavra '\" + palavra + \"' NÃO está contida no texto '\" + texto + \"'\")\n",
    "        \n",
    "############################################################################\n",
    "############################################################################\n",
    "\n",
    "# chama a função\n",
    "palavra_no_texto(\"python\", \"programar em python é muito legal!\")\n",
    "\n",
    "print(\"\\n\")\n",
    "\n",
    "# chama a função\n",
    "palavra_no_texto(\"programação\", \"qualquer frase aleatória\")"
   ]
  },
  {
   "cell_type": "markdown",
   "metadata": {},
   "source": [
    "9.Faça uma função que receba uma string que contém tanto números quanto letras e caracteres especiais, e que separe as letras em uma variável e os números em outra (os caracteres especiais podem ser descartados). Ao final a função deve imprimir as duas variáveis."
   ]
  },
  {
   "cell_type": "code",
   "execution_count": 29,
   "metadata": {},
   "outputs": [
    {
     "name": "stdout",
     "output_type": "stream",
     "text": [
      "\n",
      "String inicial: Meu celular é: (11) 91234-5678\n",
      "\n",
      "Letras: ['M', 'e', 'u', 'c', 'e', 'l', 'u', 'l', 'a', 'r', 'é']\n",
      "\n",
      "Números: ['1', '1', '9', '1', '2', '3', '4', '5', '6', '7', '8']\n"
     ]
    }
   ],
   "source": [
    "def separa_caracteres(string):\n",
    "    \n",
    "    # cria listas vazias para armazenas letras e numeros\n",
    "    letras = []\n",
    "    numeros = []\n",
    "    \n",
    "    # percorre os caracteres da string\n",
    "    for caractere in string:\n",
    "        \n",
    "        # checa se o caractere é uma letra com a função .isalpha()\n",
    "        if caractere.isalpha():\n",
    "            \n",
    "            # apenda a letra à lista de letras\n",
    "            letras.append(caractere)\n",
    "         \n",
    "        # checa se o caractere é um numero com a função .isdigit()\n",
    "        elif caractere.isdigit():\n",
    "            \n",
    "            # apenda o número à lista de números\n",
    "            numeros.append(caractere)\n",
    "            \n",
    "            \n",
    "    print(\"\\nString inicial:\", string)\n",
    "    \n",
    "    print(\"\\nLetras:\", letras)\n",
    "    \n",
    "    print(\"\\nNúmeros:\", numeros)\n",
    "    \n",
    "############################################################################\n",
    "############################################################################\n",
    "\n",
    "# chama a função\n",
    "separa_caracteres(\"Meu celular é: (11) 91234-5678\")    "
   ]
  },
  {
   "cell_type": "markdown",
   "metadata": {},
   "source": [
    "___\n",
    "___\n",
    "___\n",
    "___"
   ]
  },
  {
   "cell_type": "markdown",
   "metadata": {},
   "source": [
    "# DESAFIOS"
   ]
  },
  {
   "cell_type": "markdown",
   "metadata": {},
   "source": [
    "1.Faça uma função que receba uma string e uma letra e: \n",
    "\n",
    "- a.imprima quantas vezes a letra aparece na string; \n",
    "\n",
    "- b.imprima todas as posições em que a letra aparece na string; \n",
    "\n",
    "- c.retorne a distância entre a primeira e a última aparição dessa letra na string. "
   ]
  },
  {
   "cell_type": "code",
   "execution_count": 55,
   "metadata": {},
   "outputs": [
    {
     "name": "stdout",
     "output_type": "stream",
     "text": [
      "A letra 'a' aparece na string 'papagaio' 3 vezes\n",
      "A letra 'a' aparece na string 'papagaio' nas posições [1, 3, 5]\n",
      "4\n"
     ]
    }
   ],
   "source": [
    "def funcao_desafio_1(letra, string):\n",
    "    \n",
    "    # a.imprima quantas vezes a letra aparece na string; \n",
    "    \n",
    "    cont = 0\n",
    "    \n",
    "    for char in string:\n",
    "        \n",
    "        if char == letra:\n",
    "            \n",
    "            cont = cont + 1\n",
    "            \n",
    "    print(\"A letra '\" + letra + \"' aparece na string '\" + string + \"'\", cont, \"vezes\")\n",
    "    \n",
    "    #____________________________________________________________\n",
    "    \n",
    "    # b.imprima todas as posições em que a letra aparece na string; \n",
    "\n",
    "    posicoes = []\n",
    "\n",
    "    for i in range(len(string)):\n",
    "        \n",
    "        if string[i] == letra:\n",
    "            \n",
    "            posicoes.append(i)\n",
    "            \n",
    "    print(\"A letra '\" + letra + \"' aparece na string '\" + string + \"' nas posições\", posicoes)\n",
    "    \n",
    "    #____________________________________________________________\n",
    "    \n",
    "    # c.retorne a distância entre a primeira e a última aparição dessa letra na string. \n",
    "    \n",
    "    # a posição da ultima aparição é posicoes[-1]\n",
    "    # a posição da primeira aparição é posicoes[0]\n",
    "    # assim, a distâncie é a diferença entre as posições\n",
    "    distancia = posicoes[-1] - posicoes[0]\n",
    "    \n",
    "    # vamor retornar a distancia\n",
    "    return distancia\n",
    "    \n",
    "\n",
    "############################################################################\n",
    "############################################################################\n",
    "   \n",
    "# vamos armazenar a distasncia (que é o valor retornado pela função) na variavel \"distancia_primeira_ultima\"\n",
    "distancia_primeira_ultima = funcao_desafio_1(\"a\", \"papagaio\")\n",
    "\n",
    "print(distancia_primeira_ultima)"
   ]
  },
  {
   "cell_type": "markdown",
   "metadata": {},
   "source": [
    "2.Super Desafio! - faça uma função que criptografa uma mensagem substituindo cada letra pela letra oposta do dicionário: 'a' por 'z' 'b' por 'y' 'c' por 'x' "
   ]
  },
  {
   "cell_type": "code",
   "execution_count": 41,
   "metadata": {},
   "outputs": [
    {
     "name": "stdout",
     "output_type": "stream",
     "text": [
      "fnz nvmhztvn hfkvi hvxivgz\n",
      "\n",
      "\n",
      "uma mensagem super secreta\n"
     ]
    }
   ],
   "source": [
    "# primeiramente, definimos uma lista com cada letra do alfabeto\n",
    "\n",
    "# depois, o ponto é perceber que devemos trocar as letras segundo sua posição no alfabeto. Exemplo:\n",
    "    \n",
    "# - \"a\" (posição 0) é trocada por \"z\" (posição -1)\n",
    "# - \"b\" (posição 1) é trocada por \"y\" (posição -2)\n",
    "\n",
    "# Então, em termos dos índices, a troca é:\n",
    "    \n",
    "# 0 <--> -1\n",
    "# 1 <--> -2\n",
    "# 2 <--> -3\n",
    "# 3 <--> -4\n",
    "\n",
    "# ... e assim por diante!\n",
    "\n",
    "# Note, então, que o padrão é trocar:\n",
    "    \n",
    "# n <--> -(n+1)\n",
    "\n",
    "# uma vez que percebemos isso, basta:\n",
    "    \n",
    "# - descobrir qual é a posição de cada letra no alfabeto: pra isso, usamos a função .index()\n",
    "# - retornar a letra na posição -(n+1) do alfabeto: ou seja, alfabeto[-(n+1)]\n",
    "\n",
    "# pra deixar o programa mais robusto, antes de fazer a troca de letras, nós checamos se \n",
    "# o caractere da string pertence ao afabeto.\n",
    "\n",
    "# - Se pertencer, nós fazemos a troca.\n",
    "# - Se não pertencer (que é o caso de caracteres como números, espaço, pontuações, etc.), nós não trocamos\n",
    "\n",
    "def criptografa(string):\n",
    "            \n",
    "    alfabeto = list(\"abcdefghijklmnopqrstuvwxyz\")\n",
    "    \n",
    "    nova_string = \"\"\n",
    "    \n",
    "    for char in string:\n",
    "        \n",
    "        if char in alfabeto:\n",
    "            \n",
    "            # pega qual é o indice do caractere atual\n",
    "            n = alfabeto.index(char)\n",
    "            \n",
    "            # concatena à nova string o caractere com índice correspondente a -(n+1)\n",
    "            nova_string = nova_string + alfabeto[-(n+1)]\n",
    "\n",
    "        else:\n",
    "            \n",
    "            # aqui, concatena à nova string o proprio caracter, sem modificações\n",
    "            nova_string = nova_string + char\n",
    "\n",
    "\n",
    "    return nova_string\n",
    "\n",
    "############################################################################\n",
    "############################################################################\n",
    "\n",
    "# chama a função\n",
    "print(criptografa(\"uma mensagem super secreta\"))\n",
    "\n",
    "print(\"\\n\")\n",
    "\n",
    "# chama a função, com o output da função anterior, pra fazer o teste de funcionaento da função!\n",
    "# como usei o output anterior como input aqui, ele deve retornar o input anterior como output\n",
    "print(criptografa(\"fnz nvmhztvn hfkvi hvxivgz\"))"
   ]
  }
 ],
 "metadata": {
  "kernelspec": {
   "display_name": "Python 3",
   "language": "python",
   "name": "python3"
  },
  "language_info": {
   "codemirror_mode": {
    "name": "ipython",
    "version": 3
   },
   "file_extension": ".py",
   "mimetype": "text/x-python",
   "name": "python",
   "nbconvert_exporter": "python",
   "pygments_lexer": "ipython3",
   "version": "3.8.3"
  }
 },
 "nbformat": 4,
 "nbformat_minor": 4
}
