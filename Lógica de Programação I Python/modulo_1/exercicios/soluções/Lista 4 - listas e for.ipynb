{
 "cells": [
  {
   "cell_type": "markdown",
   "metadata": {},
   "source": [
    "# Lista 4 - listas e for"
   ]
  },
  {
   "cell_type": "markdown",
   "metadata": {},
   "source": [
    "1.Crie uma lista qualquer e faça um programa que imprima cada elemento da lista usando o for."
   ]
  },
  {
   "cell_type": "code",
   "execution_count": 127,
   "metadata": {},
   "outputs": [
    {
     "name": "stdout",
     "output_type": "stream",
     "text": [
      "1\n",
      "3.14\n",
      "um texto qualquer\n",
      "True\n"
     ]
    }
   ],
   "source": [
    "# define a lista\n",
    "lista = [1, 3.14, \"um texto qualquer\", True]\n",
    "\n",
    "# percorre cada elemento da lista, e exibe na tela, elemento a elemento\n",
    "for item in lista:\n",
    "    \n",
    "    print(item)"
   ]
  },
  {
   "cell_type": "markdown",
   "metadata": {},
   "source": [
    "2.Faça um programa que imprima todos os itens de uma lista usando while e compare com o exercício 1. \n"
   ]
  },
  {
   "cell_type": "code",
   "execution_count": 128,
   "metadata": {},
   "outputs": [
    {
     "name": "stdout",
     "output_type": "stream",
     "text": [
      "1\n",
      "3.14\n",
      "um texto qualquer\n",
      "True\n"
     ]
    }
   ],
   "source": [
    "# define a lista\n",
    "lista = [1, 3.14, \"um texto qualquer\", True]\n",
    "\n",
    "# inicializa a variável contadora\n",
    "cont = 0\n",
    "\n",
    "while cont < len(lista):\n",
    "    \n",
    "    print(lista[cont])\n",
    "    \n",
    "    # atualiza a variável contadora\n",
    "    cont = cont + 1"
   ]
  },
  {
   "cell_type": "markdown",
   "metadata": {},
   "source": [
    "\n",
    "3.Faça um programa que peça para o usuário digitar um número n e imprima uma lista com todos os números de 0 a n-1. Exemplo: se o usuário digitar 5, o programa deve imprimir [0, 1, 2, 3, 4] \n",
    "\n"
   ]
  },
  {
   "cell_type": "code",
   "execution_count": 3,
   "metadata": {},
   "outputs": [
    {
     "name": "stdout",
     "output_type": "stream",
     "text": [
      "Digite um número inteiro: 7\n",
      "[0, 1, 2, 3, 4, 5, 6]\n"
     ]
    }
   ],
   "source": [
    "# solicita o numero ao usuario\n",
    "n = int(input(\"Digite um número inteiro: \"))\n",
    "\n",
    "# cria uma lista vazia\n",
    "lista_numeros = []\n",
    "\n",
    "for i in range(n): \n",
    "    \n",
    "    # prenche a lista, elemento a elemento\n",
    "    lista_numeros.append(i)\n",
    "    \n",
    "print(lista_numeros)"
   ]
  },
  {
   "cell_type": "markdown",
   "metadata": {},
   "source": [
    "4.Faça um programa que olhe todos os itens de uma lista e diga quantos deles são pares. \n",
    "\n"
   ]
  },
  {
   "cell_type": "code",
   "execution_count": 133,
   "metadata": {},
   "outputs": [
    {
     "name": "stdout",
     "output_type": "stream",
     "text": [
      "Quantidade de números pares: 5\n"
     ]
    }
   ],
   "source": [
    "# define a lista\n",
    "lista = [4, 6, -3, 1, 5, -8, 9, -14, 1565, 12317, 1233, 129, -765432, 54321, 6543]\n",
    "\n",
    "# inicializa a variavel que vai contabilizar o numero de pares\n",
    "pares = 0\n",
    "\n",
    "# percorre a lista elemento a elemento\n",
    "for elemento in lista:\n",
    "    \n",
    "    # checa se o elemento é par\n",
    "    if elemento % 2 == 0:\n",
    "        \n",
    "        # se for par, atualiza o numero de pares com + 1\n",
    "        pares = pares + 1\n",
    "        \n",
    "print(\"Quantidade de números pares:\", pares)"
   ]
  },
  {
   "cell_type": "markdown",
   "metadata": {},
   "source": [
    "__ELABORAÇÃO: mostrar quais são os números pares__"
   ]
  },
  {
   "cell_type": "code",
   "execution_count": 134,
   "metadata": {},
   "outputs": [
    {
     "name": "stdout",
     "output_type": "stream",
     "text": [
      "Quantidade de números pares: 5\n",
      "Eles são: [4, 6, -8, -14, -765432]\n"
     ]
    }
   ],
   "source": [
    "lista = [4, 6, -3, 1, 5, -8, 9, -14, 1565, 12317, 1233, 129, -765432, 54321, 6543]\n",
    "\n",
    "# cria uma lista vazia, que vai armazenar os numeros pares\n",
    "pares = []\n",
    "\n",
    "for elemento in lista:\n",
    "    \n",
    "    if elemento % 2 == 0:\n",
    "        \n",
    "        # apenda os numeros pares à lista\n",
    "        pares.append(elemento)\n",
    "        \n",
    "# note que nao precisamos mais contar o numero de pares: basta tomar o comprimento da lista!\n",
    "print(\"Quantidade de números pares:\", len(pares))\n",
    "print(\"Eles são:\", pares)"
   ]
  },
  {
   "cell_type": "markdown",
   "metadata": {},
   "source": [
    "5.Faça um programa que imprima o maior número de uma lista, sem usar o método max().\n"
   ]
  },
  {
   "cell_type": "code",
   "execution_count": 135,
   "metadata": {},
   "outputs": [
    {
     "name": "stdout",
     "output_type": "stream",
     "text": [
      "O maior elemento é: 54321\n"
     ]
    }
   ],
   "source": [
    "# define a lista\n",
    "lista = [4, 6, -3, 1, 5, -8, 9, -14, 1565, 12317, 1233, 129, -765432, 54321, 6543]\n",
    "\n",
    "# suponha que o primeiro é o maior\n",
    "maior = lista[0]\n",
    "\n",
    "# percorre a lista, elemento a elemento\n",
    "for elemento in lista:\n",
    "    \n",
    "    # se encontrar um elemento maior que o inicialmente suposto\n",
    "    if elemento > maior:\n",
    "        \n",
    "        # atualiza o maior\n",
    "        maior = elemento\n",
    "        \n",
    "print(\"O maior elemento é:\", maior)"
   ]
  },
  {
   "cell_type": "markdown",
   "metadata": {},
   "source": [
    "\n",
    "6.Agora usando o método max() faça um programa que imprima os três maiores números de uma lista.  Dica: Use o método próprio de listas .remove(). \n",
    "\n"
   ]
  },
  {
   "cell_type": "code",
   "execution_count": 137,
   "metadata": {},
   "outputs": [
    {
     "name": "stdout",
     "output_type": "stream",
     "text": [
      "Maior elemento: 54321\n",
      "Segundo maior elemento: 12317\n",
      "Terceiro maior elemento: 6543\n"
     ]
    }
   ],
   "source": [
    "# define a lista\n",
    "lista = [4, 6, -3, 1, 5, -8, 9, -14, 1565, 12317, 1233, 129, -765432, 54321, 6543]\n",
    "\n",
    "# mostra qual é o maior elemento, com a função max()\n",
    "print(\"Maior elemento:\", max(lista))\n",
    "# remove o maior elemento da lista, com a função remove()\n",
    "lista.remove(max(lista))\n",
    "\n",
    "# ai, é só repetir o processo mais duas vezes!\n",
    "\n",
    "print(\"Segundo maior elemento:\", max(lista))\n",
    "lista.remove(max(lista))\n",
    "\n",
    "print(\"Terceiro maior elemento:\", max(lista))\n",
    "lista.remove(max(lista))"
   ]
  },
  {
   "cell_type": "markdown",
   "metadata": {},
   "source": [
    "7.Faça um programa que, dadas duas listas de mesmo tamanho, crie uma nova lista com cada elemento igual a soma dos elementos da lista 1 com os da lista 2, na mesma posição.  Exemplo: dadas lista1 = [1, 4, 5] e lista2 = [2, 2, 3], então lista3 = [1+2, 4+2, 5+3] = [3, 6, 8] \n",
    "\n"
   ]
  },
  {
   "cell_type": "code",
   "execution_count": 1,
   "metadata": {},
   "outputs": [
    {
     "name": "stdout",
     "output_type": "stream",
     "text": [
      "[5, 6, 6]\n"
     ]
    }
   ],
   "source": [
    "# define a lista1\n",
    "lista1 = [2, 4, 1]\n",
    "\n",
    "# define a lista2\n",
    "lista2 = [3, 2, 5]\n",
    "\n",
    "# checa se as listas têm numero de elementos doferemtes -- se tiver, não dá pra fazer a soma!\n",
    "if len(lista1) != len(lista2):\n",
    "    \n",
    "    # se o tamanho das listas for diferente, avisa o erro!\n",
    "    print(\"As listas têm comprimento diferente, não consigo somar\")\n",
    "\n",
    "# se as listas tiverem o mesmo numero de elementos\n",
    "else:\n",
    "    \n",
    "    # define uma lista vazia, que vai conter a soma dos elementos\n",
    "    soma_das_listas = []\n",
    "    \n",
    "    # percorre o indice da lista. note que estamos usando o range!\n",
    "    # e tanto faz usar len(lista1) ou len(lista2), pq já garantimos que eles são iguais!\n",
    "    for indice in range(len(lista1)):\n",
    "        \n",
    "        # calcula a soma dos elementos, acessados pelo indice\n",
    "        soma_dos_elementos = lista1[indice] + lista2[indice]\n",
    "        \n",
    "        # apenda o a soma inicializada\n",
    "        soma_das_listas.append(soma_dos_elementos)\n",
    "\n",
    "    print(soma_das_listas)"
   ]
  },
  {
   "cell_type": "markdown",
   "metadata": {},
   "source": [
    "8.Faça  um  programa  que  dadas  duas  listas  de  mesmo  tamanho, imprima o produto escalar entre elas.  OBS: produto escalar é a soma do resultado da multiplicação entre o número na posição i da lista1 pelo número na posição i da lista2, com i variando de 0 ao tamanho da lista. \n"
   ]
  },
  {
   "cell_type": "code",
   "execution_count": 40,
   "metadata": {},
   "outputs": [
    {
     "name": "stdout",
     "output_type": "stream",
     "text": [
      "-422.16\n"
     ]
    }
   ],
   "source": [
    "# define a lista1\n",
    "lista1 = [2, 4.75, 1, 10, -12.45]\n",
    "\n",
    "# define a lista2\n",
    "lista2 = [-5, 2, 5, -45.156, -2]\n",
    "\n",
    "# checa se as listas têm numero de elementos doferemtes -- se tiver, não dá pra fazer o produto escalar!\n",
    "if len(lista1) != len(lista2):\n",
    "    \n",
    "    # se o tamanho das listas for diferente, avisa o erro!\n",
    "    print(\"As listas têm comprimento diferente, não consigo calcular o produto escalar!\")\n",
    "\n",
    "# se as listas tiverem o mesmo numero de elementos\n",
    "else:\n",
    "    \n",
    "    # inicializa a variavel que vai conter o valor do produto escalar\n",
    "    produto_escalar = 0\n",
    "    \n",
    "    # percorre o indice das listas, usando o range(len())\n",
    "    for i in range(len(lista1)):\n",
    "        \n",
    "        # atualiza o produto escalar, com o produto dos elmentos, acessados pelo indice i\n",
    "        produto_escalar = produto_escalar + lista1[i]*lista2[i]\n",
    "        \n",
    "    print(produto_escalar)"
   ]
  },
  {
   "cell_type": "markdown",
   "metadata": {},
   "source": [
    "\n",
    "9.Faça um programa que pede para o usuário digitar 5 números e, ao final, imprime uma lista com os 5 números digitados pelo usuário (sem converter os números para int ou float).  Exemplo: Se o usuário digitar 1, 5, 2, 3, 6, o programa deve imprimir a lista ['1','5','2','3','6']  \n"
   ]
  },
  {
   "cell_type": "code",
   "execution_count": 3,
   "metadata": {},
   "outputs": [
    {
     "name": "stdout",
     "output_type": "stream",
     "text": [
      "Digite um número: 1\n",
      "Digite um número: 5\n",
      "Digite um número: 2\n",
      "Digite um número: 3\n",
      "Digite um número: 6\n",
      "\n",
      "\n",
      "['1', '5', '2', '3', '6']\n"
     ]
    }
   ],
   "source": [
    "# inicializa a lista que vai conter os numeros digitados\n",
    "numeros = []\n",
    "\n",
    "# repete 5 vezes\n",
    "for i in range(5):\n",
    "\n",
    "    # pergunta o numero pro usuario\n",
    "    n = input(\"Digite um número: \")\n",
    "    \n",
    "    # apenda o numero digitado à lista\n",
    "    numeros.append(n)\n",
    "    \n",
    "print(\"\\n\")\n",
    "print(numeros)"
   ]
  },
  {
   "cell_type": "markdown",
   "metadata": {},
   "source": [
    "__ELABORAÇÃO: antes pergunta pro usuário quantos números ele quer armazenar__"
   ]
  },
  {
   "cell_type": "code",
   "execution_count": 9,
   "metadata": {},
   "outputs": [
    {
     "name": "stdout",
     "output_type": "stream",
     "text": [
      "Quantos números vc quer armazenar? 4\n",
      "Digite um número: 14\n",
      "Digite um número: -1854.5\n",
      "Digite um número: 414\n",
      "Digite um número: 0\n",
      "\n",
      "\n",
      "['14', '-1854.5', '414', '0']\n"
     ]
    }
   ],
   "source": [
    "numeros = []\n",
    "\n",
    "# pergunt pro usuario quantos numeros ele vai querer armazenar na lista\n",
    "quantos_numeros = int(input(\"Quantos números vc quer armazenar? \"))\n",
    "\n",
    "# repete o numero de vezes que o usuario desejar\n",
    "for aux in range(quantos_numeros):\n",
    "\n",
    "    n = input(\"Digite um número: \")\n",
    "    \n",
    "    numeros.append(n)\n",
    "    \n",
    "print(\"\\n\")\n",
    "print(numeros)"
   ]
  },
  {
   "cell_type": "markdown",
   "metadata": {},
   "source": [
    "\n",
    "10.Pegue a lista gerada no exercício anterior e transforme cada um dos itens dessa lista em um float.  OBS: Não é para alterar o programa anterior, mas sim a lista gerada por ele. \n",
    "\n"
   ]
  },
  {
   "cell_type": "code",
   "execution_count": 10,
   "metadata": {},
   "outputs": [
    {
     "name": "stdout",
     "output_type": "stream",
     "text": [
      "lista de strings:\n",
      "['14', '-1854.5', '414', '0']\n",
      "\n",
      "lista de strings trasnformada em lista de floats:\n",
      "[14.0, -1854.5, 414.0, 0.0]\n"
     ]
    }
   ],
   "source": [
    "# exibe a lista de strings, antes de trasnformarmos em floats\n",
    "print(\"lista de strings:\")\n",
    "print(numeros)\n",
    "\n",
    "# vamos alterar a lista do exercício anterior (que demos o nome de \"numeros\")\n",
    "# percorre os indices dessa lista\n",
    "for i in range(len(numeros)):\n",
    "    \n",
    "    # acessa os elementos da lista através do indice i, e depois os altera\n",
    "    # a alteração é: transforma as strings em float, com a função float()\n",
    "    numeros[i] = float(numeros[i])\n",
    "    \n",
    "print(\"\\nlista de strings trasnformada em lista de floats:\")\n",
    "print(numeros)"
   ]
  },
  {
   "cell_type": "markdown",
   "metadata": {},
   "source": [
    "11.Faça um Programa que peça as 4 notas bimestrais e mostre a média aritmética delas, usando listas.  \n",
    "\n"
   ]
  },
  {
   "cell_type": "code",
   "execution_count": 13,
   "metadata": {},
   "outputs": [
    {
     "name": "stdout",
     "output_type": "stream",
     "text": [
      "Qual é a nota do 1° bimestre? 10\n",
      "Qual é a nota do 2° bimestre? 9\n",
      "Qual é a nota do 3° bimestre? 7.5\n",
      "Qual é a nota do 4° bimestre? 8\n",
      "\n",
      "Notas: [10.0, 9.0, 7.5, 8.0]\n",
      "\n",
      "Média: 8.625\n"
     ]
    }
   ],
   "source": [
    "# inicializa a lista vazia que vai armazenar as notas\n",
    "notas = []\n",
    "\n",
    "# repete 4 vezes\n",
    "for i in range(4):\n",
    "    \n",
    "    # pergunta a nota pro usuario\n",
    "    # note que o texto está formatado pra perguntar sobre os bimestres específicos\n",
    "    # usamos \"i+1\", pq o i começa em 0 com o range!\n",
    "    nota = float(input(\"Qual é a nota do \" + str(i+1) + \"° bimestre? \"))\n",
    "                 \n",
    "    notas.append(nota)\n",
    "                 \n",
    "print(\"\\nNotas:\", notas)\n",
    "\n",
    "# calcula a média das notas\n",
    "media = sum(notas)/len(notas)\n",
    "                 \n",
    "print(\"\\nMédia:\", media)"
   ]
  },
  {
   "cell_type": "markdown",
   "metadata": {},
   "source": [
    "12.Sorteie uma lista de 10 números e imprima: \n",
    "\n",
    "- a.uma lista com os 4 primeiros números; \n",
    "- b.uma lista com os 5 últimos números; \n",
    "- c.uma lista contendo apenas os elementos das posições pares; \n",
    "- d.uma lista contendo apenas os elementos das posições ímpares; \n",
    "- e.a lista inversa da lista sorteada (isto é, uma lista que começa com o último elemento da lista sorteada e termina com o primeiro); \n",
    "- f.uma lista inversa dos 5 primeiros números; \n",
    "- g.uma lista inversa dos 5 últimos números. \n",
    "\n"
   ]
  },
  {
   "cell_type": "code",
   "execution_count": 26,
   "metadata": {},
   "outputs": [
    {
     "name": "stdout",
     "output_type": "stream",
     "text": [
      "lista original: [29, 9, 49, 65, 81, 58, 73, 32, 66, 90] \n",
      "\n",
      "a) 4 primeiros [29, 9, 49, 65]\n",
      "b) 5 ultimos [58, 73, 32, 66, 90]\n",
      "c) elementos em posição par [29, 49, 81, 73, 66]\n",
      "d) elementos em posição impar [9, 65, 58, 32, 90]\n",
      "e) lista inversa [90, 66, 32, 73, 58, 81, 65, 49, 9, 29]\n",
      "f) lista inversa, 5 primeiros [90, 66, 32, 73, 58]\n",
      "g) lista inversa, 5 ultimos [81, 65, 49, 9, 29]\n"
     ]
    }
   ],
   "source": [
    "# para sortear números aleatórios, usamos a biblioteca random\n",
    "import random\n",
    "\n",
    "# parar criar uma lista com 10 números aleatorios, usamos a função sample\n",
    "# o primeiro argumento, que é o range(), indica qual o intervalo de numeros aleatorios que queremos\n",
    "# no caso, range(0, 100), quer dizer que queremos numeros aleatorios entre 0 e 100\n",
    "# o segundo argumento indica quantos numeros aleatórios queremos, no caso, 10\n",
    "lista = random.sample(range(0,100), 10)\n",
    "\n",
    "################################################\n",
    "\n",
    "print(\"lista original:\", lista, \"\\n\")\n",
    "\n",
    "################################################\n",
    "\n",
    "#a) 4 primeiros\n",
    "\n",
    "print(\"a) 4 primeiros\", lista[:4])\n",
    "\n",
    "################################################\n",
    "\n",
    "#b) 5 ultimos\n",
    "\n",
    "print(\"b) 5 ultimos\", lista[-5:])\n",
    "\n",
    "################################################\n",
    "\n",
    "#c) elementos em posição par\n",
    "\n",
    "# cria uma lista que vai armazenar os elementos em posição par\n",
    "posicao_par = []\n",
    "\n",
    "# pecorre os indices\n",
    "for i in range(len(lista)):\n",
    "    \n",
    "    # se o indice for par\n",
    "    if i % 2 == 0:\n",
    "        \n",
    "        # apenda o respectivo elemento à lista\n",
    "        posicao_par.append(lista[i])\n",
    "        \n",
    "print(\"c) elementos em posição par\", posicao_par)\n",
    "\n",
    "################################################\n",
    "\n",
    "#d) elementos em posição impar\n",
    "\n",
    "# analogo ao intem anterior!\n",
    "\n",
    "posicao_impar = []\n",
    "for i in range(len(lista)):\n",
    "    \n",
    "    # aqui, checamos se o indice é impar\n",
    "    if i % 2 != 0:\n",
    "        \n",
    "        posicao_impar.append(lista[i])\n",
    "        \n",
    "print(\"d) elementos em posição impar\", posicao_impar)\n",
    "\n",
    "################################################\n",
    "\n",
    "#e) lista inversa\n",
    "\n",
    "# pra inverter a lista, usamos o [::-1]\n",
    "print(\"e) lista inversa\", lista[::-1])\n",
    "\n",
    "################################################\n",
    "\n",
    "#f) lista inversa, 5 primeiros\n",
    "print(\"f) lista inversa, 5 primeiros\", lista[::-1][:5])\n",
    "\n",
    "################################################\n",
    "\n",
    "#g) lista inversa, 5 ultimos\n",
    "print(\"g) lista inversa, 5 ultimos\", lista[::-1][-5:])\n",
    "\n",
    "################################################"
   ]
  },
  {
   "cell_type": "markdown",
   "metadata": {},
   "source": [
    "13.Faça  um programa que sorteia 10 números entre 0 e 100 e conte quantos números sorteados são maiores que 50. \n"
   ]
  },
  {
   "cell_type": "code",
   "execution_count": 34,
   "metadata": {},
   "outputs": [
    {
     "name": "stdout",
     "output_type": "stream",
     "text": [
      "Na lista sorteada: [17, 0, 68, 16, 39, 64, 41, 29, 10, 67] há 3 números maiores que 50\n"
     ]
    }
   ],
   "source": [
    "# sorteia 10 numeros aleatorios entre 0 e 100\n",
    "sorteados = random.sample(range(0,100), 10)\n",
    "\n",
    "# variavel que vai contavilizar quantos são maiores que 50\n",
    "cont = 0\n",
    "\n",
    "# percorre os elementos da lista\n",
    "for elemento in sorteados:\n",
    "    \n",
    "    # checa se o elemento é maior que 50\n",
    "    if elemento > 50:\n",
    "        \n",
    "        # se for, atualiza o contador com + 1\n",
    "        cont = cont + 1\n",
    "        \n",
    "print(\"Na lista sorteada:\", sorteados, \"há\", cont, \"números maiores que 50\")"
   ]
  },
  {
   "cell_type": "markdown",
   "metadata": {},
   "source": [
    "__ELABORAÇÃO: armazena os números maiores que 50, e mostre-os:__"
   ]
  },
  {
   "cell_type": "code",
   "execution_count": 18,
   "metadata": {},
   "outputs": [
    {
     "name": "stdout",
     "output_type": "stream",
     "text": [
      "Na lista sorteada: [83, 43, 68, 92, 50, 67, 19, 29, 4, 39] há 4 números maiores que 50\n",
      "Eles são: [83, 68, 92, 67]\n"
     ]
    }
   ],
   "source": [
    "sorteados = random.sample(range(0,100), 10)\n",
    "\n",
    "# vamos armazenar os elementos maiores que 50\n",
    "maiores_que_50 = []\n",
    "\n",
    "for elemento in sorteados:\n",
    "    \n",
    "    if elemento > 50:\n",
    "        \n",
    "        # se o elemento for maior que 50, apendamos ele à lista        \n",
    "        maiores_que_50.append(elemento)\n",
    "        \n",
    "# note que nao precisamos de contador! basta mostrar o tamanho da lista!\n",
    "print(\"Na lista sorteada:\", sorteados, \"há\", len(maiores_que_50), \"números maiores que 50\")\n",
    "print(\"Eles são:\", maiores_que_50)"
   ]
  },
  {
   "cell_type": "markdown",
   "metadata": {},
   "source": [
    "\n",
    "14.Faça um programa que sorteie 10 números entre 0 e 100 e imprima: \n",
    "\n",
    "- a.o maior número sorteado;\n",
    "- b.o menor número sorteado; \n",
    "- c.a média dos números sorteados; \n",
    "- d.a soma dos números sorteados."
   ]
  },
  {
   "cell_type": "code",
   "execution_count": 37,
   "metadata": {},
   "outputs": [
    {
     "name": "stdout",
     "output_type": "stream",
     "text": [
      "Lista de números sorteados: [14, 36, 17, 61, 13, 26, 23, 98, 56, 78] \n",
      "\n",
      "a) o maior número sorteado: 98\n",
      "b) o menor número sorteado: 13\n",
      "c) a média dos números sorteados: 42.2\n",
      "d) a soma dos números sorteados: 422\n"
     ]
    }
   ],
   "source": [
    "# faz lista com 10 numeros aleatorios entre 0 e 100\n",
    "sorteados = random.sample(range(0,100), 10)\n",
    "\n",
    "print(\"Lista de números sorteados:\", sorteados, \"\\n\")\n",
    "\n",
    "# pega o maximo com a função max()\n",
    "print(\"a) o maior número sorteado:\", max(sorteados))\n",
    "\n",
    "# pega o minimo com a função min()\n",
    "print(\"b) o menor número sorteado:\", min(sorteados)) \n",
    "\n",
    "# calcula a média com sum() e len()\n",
    "print(\"c) a média dos números sorteados:\", sum(sorteados)/len(sorteados)) \n",
    "\n",
    "# calcula a soma dos elementos da lista com a função sum()\n",
    "print(\"d) a soma dos números sorteados:\", sum(sorteados))"
   ]
  },
  {
   "cell_type": "markdown",
   "metadata": {},
   "source": [
    "_____\n",
    "____\n",
    "_____\n",
    "____"
   ]
  },
  {
   "cell_type": "markdown",
   "metadata": {},
   "source": [
    "# DESAFIOS"
   ]
  },
  {
   "cell_type": "markdown",
   "metadata": {},
   "source": [
    "1.Faça um programa que peça para o usuário digitar o nome e a idade de um aluno e o número de provas que esse aluno fez. Depois, o programa deve pedir para o usuário digitar as notas de cada prova do aluno. Ao final o programa deve imprimir uma lista contendo: \n",
    "\n",
    "- a.Nome do aluno na posição 0 \n",
    "- b.Idade do aluno na posição 1 \n",
    "- c.Uma lista com todas as notas na posição 2  \n",
    "- d.A média do aluno na posição 3 \n",
    "- e.True ou False, caso a média seja maior que 5 ou não, na posição 4\n",
    "\n",
    "Dica: Use o que você fez nos exercícios anteriores para criar esse programa. "
   ]
  },
  {
   "cell_type": "code",
   "execution_count": 45,
   "metadata": {},
   "outputs": [
    {
     "name": "stdout",
     "output_type": "stream",
     "text": [
      "Digite o nome do(a) aluno(a): André\n",
      "Digite a idade do(a) aluno(a) André: 22\n",
      "Digite o número de provas que o(a) aluno(a) André fez: 5\n",
      "Qual é a nota na 1a prova? 10\n",
      "Qual é a nota na 2a prova? 8\n",
      "Qual é a nota na 3a prova? 6.5\n",
      "Qual é a nota na 4a prova? 7.4\n",
      "Qual é a nota na 5a prova? 4.6\n",
      "\n",
      "\n",
      "['André', '22', [10.0, 8.0, 6.5, 7.4, 4.6], 7.3, True]\n"
     ]
    }
   ],
   "source": [
    "# pergunta os dados do aluno\n",
    "nome = input(\"Digite o nome do(a) aluno(a): \")\n",
    "idade = input(\"Digite a idade do(a) aluno(a) \" + nome + \": \")\n",
    "num_provas = int(input(\"Digite o número de provas que o(a) aluno(a) \" + nome + \" fez: \"))\n",
    "\n",
    "# cria lista vazia pra armazenar as notas\n",
    "notas = []\n",
    "\n",
    "# repete o numero de vezes que o usuario informou\n",
    "for i in range(num_provas):\n",
    "    \n",
    "    # pergunta a nota\n",
    "    nota = float(input(\"Qual é a nota na \" + str(i+1) + \"a prova? \"))\n",
    "    \n",
    "    # apenda a nota digitada à lista de notas\n",
    "    notas.append(nota)\n",
    "\n",
    "##############################################################\n",
    "\n",
    "# calcula a média\n",
    "media = sum(notas)/len(notas)\n",
    "\n",
    "# checa se a media é maior que 5\n",
    "if media > 5:\n",
    "    # se for maior que 5, criamos a variavel \"passou\" com valor True\n",
    "    passou = True\n",
    "else:\n",
    "    # mas se a media for menor que 5, criamos a variavel \"passou\" com valor False\n",
    "    passpu = False\n",
    "    \n",
    "##############################################################\n",
    "    \n",
    "# criamos a lista com cada um dos valores acima\n",
    "lista = [nome, idade, notas, media, passou]   \n",
    "\n",
    "print(\"\\n\")\n",
    "print(lista)"
   ]
  },
  {
   "cell_type": "markdown",
   "metadata": {},
   "source": [
    "\n",
    "2.Faça um programa como o do item anterior, porém que imprima a média sem considerar a maior e menor nota do aluno (nesse caso o número de provas precisa ser obrigatoriamente maior que dois).  Dica: crie uma cópia com a lista de todas as notas antes de fazer a média. \n",
    "\n"
   ]
  },
  {
   "cell_type": "code",
   "execution_count": 52,
   "metadata": {},
   "outputs": [
    {
     "name": "stdout",
     "output_type": "stream",
     "text": [
      "Digite o nome do(a) aluno(a): André\n",
      "Digite a idade do(a) aluno(a) André: 22\n",
      "Digite o número de provas que o(a) aluno(a) André fez: 5\n",
      "Qual é a nota na 1a prova? 6\n",
      "Qual é a nota na 2a prova? 3.4\n",
      "Qual é a nota na 3a prova? 9\n",
      "Qual é a nota na 4a prova? 7\n",
      "Qual é a nota na 5a prova? 8.5\n",
      "\n",
      "\n",
      "Todas as notas: [6.0, 3.4, 9.0, 7.0, 8.5]\n",
      "Todas as notas, menos a menor e a maior: [6.0, 7.0, 8.5]\n",
      "\n",
      "\n",
      "['André', '22', [6.0, 3.4, 9.0, 7.0, 8.5], 7.166666666666667, True]\n"
     ]
    }
   ],
   "source": [
    "# a primeira parte é igual ao exercico anterior\n",
    "\n",
    "nome = input(\"Digite o nome do(a) aluno(a): \")\n",
    "idade = input(\"Digite a idade do(a) aluno(a) \" + nome + \": \")\n",
    "num_provas = int(input(\"Digite o número de provas que o(a) aluno(a) \" + nome + \" fez: \"))\n",
    "\n",
    "notas = []\n",
    "\n",
    "for i in range(num_provas):\n",
    "    \n",
    "    nota = float(input(\"Qual é a nota na \" + str(i+1) + \"a prova? \"))\n",
    "    \n",
    "    notas.append(nota)\n",
    "    \n",
    "##############################################################\n",
    "      \n",
    "# criamos uma copia da lista, com a função .copy()\n",
    "# isso porque a seguir vamos alterar a lista original, e não queremos perdê-la!\n",
    "notas_copia = notas.copy()\n",
    "\n",
    "# ve qual é a maior nota, com o max()\n",
    "maior_nota = max(notas)\n",
    "# tira a maior nota da lista\n",
    "notas.remove(maior_nota)\n",
    "\n",
    "# ve qual é a menor nota, com o min()\n",
    "menor_nota = min(notas)\n",
    "# tira a menor nota da lista\n",
    "notas.remove(menor_nota)\n",
    "\n",
    "##############################################################\n",
    "\n",
    "# calcula a média\n",
    "# note que estamos calculando a partir da lista alterada, sem a maior e menor nota!\n",
    "media = sum(notas)/len(notas)\n",
    "\n",
    "if media > 5:\n",
    "    passou = True\n",
    "else:\n",
    "    passpu = False\n",
    "    \n",
    "# exibimos uma lista com todas as notas, e também uma lista sem a maior e menor nota\n",
    "print(\"\\n\")\n",
    "print(\"Todas as notas:\", notas_copia)\n",
    "print(\"Todas as notas, menos a menor e a maior:\", notas)\n",
    "\n",
    "# conforme o exercicio solicitou, a unica coisa que muda aqui é a média\n",
    "# então, colocamos a lista original (notas_copia)\n",
    "lista = [nome, idade, notas_copia, media, passou]   \n",
    "\n",
    "print(\"\\n\")\n",
    "print(lista)"
   ]
  },
  {
   "cell_type": "markdown",
   "metadata": {},
   "source": [
    "\n",
    "3.Faça um programa que pede para o usuário digitar o CPF e verifica se ele é válido. Para isso, primeiramente o programa deve multiplicar cada um dos 9 primeiros dígitos do CPF pelos números de 10 a 2 e somar todas as respostas. O resultado deve ser multiplicado por 10 e dividido por 11. O resto dessa divisão deve ser igual ao primeiro dígito verificador (10º dígito). Em seguida, o programa deve multiplicar cada \n",
    "um dos 10 primeiros dígitos do CPF pelos números de 11 a 2 e repetir o procedimento anterior para verificar o segundo dígito verificador. \n",
    "\n",
    "Exemplo:Se o CPF for 286.255.878-87 o programa deve fazer primeiro:\n",
    "\n",
    "- x = (2\\*10 + 8\\*9 + 6\\*8 + 2\\*7 + 5\\*6 + 5\\*5 + 8\\*4 + 7\\*3 + 8\\*2).  \n",
    "\n",
    "Em seguida o programa deve testar se x\\*10%11 == 8 (o décimo número do CPF).  \n",
    "\n",
    "Se sim, o programa deve calcular  \n",
    "\n",
    "- x = (2\\*11 + 8\\*10 + 6\\*9 + 2\\*8 + 5\\*7 + 5\\*6 + 8\\*5 + 7\\*4 + 8\\*3 + 8\\*2)\n",
    "\n",
    "e verificar se x\\*10%11 == 7 (o décimo primeiro número do CPF)\n",
    "\n",
    "**Observação Importante: Se o resto da divisão for igual a 10, nós o consideramos como 0**"
   ]
  },
  {
   "cell_type": "code",
   "execution_count": 123,
   "metadata": {},
   "outputs": [
    {
     "name": "stdout",
     "output_type": "stream",
     "text": [
      "Digite seu cpf, sem pontos ou traço: 39100377805\n",
      "\n",
      "O CPF é valido!\n"
     ]
    }
   ],
   "source": [
    "# converte o cpf digitado para int\n",
    "cpf =  int(input(\"Digite seu cpf, sem pontos ou traço: \"))\n",
    "\n",
    "###################################################\n",
    "\n",
    "# cria uma lista vazia, pra armazenar os digitos do cpf\n",
    "lista_digitos = []\n",
    "\n",
    "# repete 11 vezes, pra cada digito do cpf\n",
    "for i in range(11):\n",
    "\n",
    "    # pra entender melhor, descomente a linha abaixo para ver os calculos feitos!\n",
    "    #print(10-i, cpf//10**(10-i), cpf//10**(10-i),  cpf//10**(10-i) - int((cpf//10**(10-i))/10)*10)\n",
    "    \n",
    "    # aqui, caputramos cada digito do cpf\n",
    "    # a conta feita é:\n",
    "    # - primeiro, pegue a divisão inteira do cpf por potencias decrescentes de 10 (por isso o (10-i))\n",
    "    # - depois, subtraia o valor deste mesmo numero truncado\n",
    "    #   - isso é feito dividindo o numero por 10, transformando em inteiro (pra truncar), e depois \n",
    "    #     multiplicando por 10 pra acertar o truncamento decimal.\n",
    "    digito = cpf//10**(10-i) - int((cpf//10**(10-i))/10)*10\n",
    "    \n",
    "    lista_digitos.append(digito)\n",
    "    \n",
    "###################################################\n",
    "\n",
    "primeira_soma = 0\n",
    "\n",
    "for i in range(9):\n",
    "    \n",
    "    # pra entender a multiplicação feita em cada passo\n",
    "    #print(lista_digitos[i], (10-i), lista_digitos[i]*(10-i))\n",
    "    \n",
    "    primeira_soma = primeira_soma + lista_digitos[i]*(10-i)\n",
    "\n",
    "# caso o resto for 10, considere 0\n",
    "check1 = (primeira_soma*10) % 11\n",
    "if check1 == 10:\n",
    "    check1 = 0\n",
    "    \n",
    "# primeira verificação\n",
    "if check1 == lista_digitos[-2]: \n",
    "\n",
    "    segunda_soma = 0\n",
    "\n",
    "    for i in range(10):\n",
    "\n",
    "        # pra entender a multiplicação feita em cada passo\n",
    "        #print(lista_digitos[i], (11-i))\n",
    "\n",
    "        segunda_soma = segunda_soma + lista_digitos[i]*(11-i)\n",
    "        \n",
    "    # caso o resto for 10, considere 0\n",
    "    check2 = (segunda_soma*10) % 11\n",
    "    if check2 == 10:\n",
    "        check2 = 0\n",
    "      \n",
    "    # segunda verficcação\n",
    "    if check2 == lista_digitos[-1]:\n",
    "        \n",
    "        print(\"\\nO CPF é valido!\")\n",
    "\n",
    "    else:\n",
    "        \n",
    "        print(\"\\nA segunda verificação falhou! CPF inválido!\")\n",
    "else:\n",
    "    \n",
    "    print(\"\\nA primeira verificação falhou! CPF inválido!\")"
   ]
  },
  {
   "cell_type": "markdown",
   "metadata": {},
   "source": [
    "__ELABORAÇÃO: como resolver esse exercício sabendo de strings?__"
   ]
  },
  {
   "cell_type": "code",
   "execution_count": 2,
   "metadata": {},
   "outputs": [
    {
     "name": "stdout",
     "output_type": "stream",
     "text": [
      "Digite seu cpf: 09024108730\n",
      "\n",
      "O CPF é valido!\n"
     ]
    }
   ],
   "source": [
    "# nao convertemos o cpf pra numero, deixa ele como string!\n",
    "cpf =  input(\"Digite seu cpf: \")\n",
    "\n",
    "# pra retirar pontos ou traço, caso o usuario os digite\n",
    "cpf = cpf.replace(\".\", \"\")\n",
    "cpf = cpf.replace(\"-\", \"\")\n",
    "\n",
    "###################################################\n",
    "\n",
    "# essa é a unica parte que muda\n",
    "# note que não precisamos fazer aqueles calculos pra captar cada digito!\n",
    "# basta usar a função list(), aplicada à string!\n",
    "lista_digitos = list(cpf)\n",
    "\n",
    "for i in range(len(lista_digitos)):\n",
    "    lista_digitos[i] = int(lista_digitos[i])\n",
    "    \n",
    "###################################################\n",
    "\n",
    "primeira_soma = 0\n",
    "\n",
    "for i in range(9):\n",
    "    \n",
    "    # pra entender a multiplicação feita em cada passo\n",
    "    #print(lista_digitos[i], (10-i), lista_digitos[i]*(10-i))\n",
    "    \n",
    "    primeira_soma = primeira_soma + lista_digitos[i]*(10-i)\n",
    "\n",
    "# caso o resto for 10, considere 0\n",
    "check1 = (primeira_soma*10) % 11\n",
    "if check1 == 10:\n",
    "    check1 = 0\n",
    "    \n",
    "# primeira verificação\n",
    "if check1 == lista_digitos[-2]: \n",
    "\n",
    "    segunda_soma = 0\n",
    "\n",
    "    for i in range(10):\n",
    "\n",
    "        # pra entender a multiplicação feita em cada passo\n",
    "        #print(lista_digitos[i], (11-i))\n",
    "\n",
    "        segunda_soma = segunda_soma + lista_digitos[i]*(11-i)\n",
    "        \n",
    "    # caso o resto for 10, considere 0\n",
    "    check2 = (segunda_soma*10) % 11\n",
    "    if check2 == 10:\n",
    "        check2 = 0\n",
    "      \n",
    "    # segunda verficcação\n",
    "    if check2 == lista_digitos[-1]:\n",
    "        \n",
    "        print(\"\\nO CPF é valido!\")\n",
    "\n",
    "    else:\n",
    "        \n",
    "        print(\"\\nA segunda verificação falhou! CPF inválido!\")\n",
    "else:\n",
    "    \n",
    "    print(\"\\nA primeira verificação falhou! CPF inválido!\")"
   ]
  }
 ],
 "metadata": {
  "kernelspec": {
   "display_name": "Python 3",
   "language": "python",
   "name": "python3"
  },
  "language_info": {
   "codemirror_mode": {
    "name": "ipython",
    "version": 3
   },
   "file_extension": ".py",
   "mimetype": "text/x-python",
   "name": "python",
   "nbconvert_exporter": "python",
   "pygments_lexer": "ipython3",
   "version": "3.7.6"
  }
 },
 "nbformat": 4,
 "nbformat_minor": 4
}
