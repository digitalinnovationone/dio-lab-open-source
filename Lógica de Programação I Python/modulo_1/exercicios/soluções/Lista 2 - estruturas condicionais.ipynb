{
 "cells": [
  {
   "cell_type": "markdown",
   "metadata": {},
   "source": [
    "# Lista 2 - estruturas condicionais"
   ]
  },
  {
   "cell_type": "markdown",
   "metadata": {},
   "source": [
    "1. Faça um programa que peça a idade do usuário e imprima se ele é\n",
    "maior ou menor de 18 anos.\n"
   ]
  },
  {
   "cell_type": "code",
   "execution_count": 26,
   "metadata": {},
   "outputs": [
    {
     "name": "stdout",
     "output_type": "stream",
     "text": [
      "Qual é sua idade? 22\n",
      "\n",
      "Vocé é maior de 18 anos!\n"
     ]
    }
   ],
   "source": [
    "# solicita a idade\n",
    "idade = int(input(\"Qual é sua idade? \"))\n",
    "\n",
    "# se a idade for maior que 18 anos\n",
    "if idade >= 18:\n",
    "    print(\"\\nVocé é maior de 18 anos!\")\n",
    "    \n",
    "# caso contrário\n",
    "else: \n",
    "    print(\"\\nVocé é menor de 18 anos!\")\n",
    "    "
   ]
  },
  {
   "cell_type": "markdown",
   "metadata": {},
   "source": [
    "\n",
    "\n",
    "2. Faça um programa que peça um número e mostre se ele é positivo\n",
    "ou negativo.\n"
   ]
  },
  {
   "cell_type": "code",
   "execution_count": 25,
   "metadata": {},
   "outputs": [
    {
     "name": "stdout",
     "output_type": "stream",
     "text": [
      "Digite um número qualquer: -58\n",
      "\n",
      "O número -58.0 é negativo!\n"
     ]
    }
   ],
   "source": [
    "# solicita um numero\n",
    "num = float(input(\"Digite um número qualquer: \"))\n",
    "\n",
    "# se o numero é menor que zero\n",
    "if num < 0:\n",
    "    print(\"\\nO número\", num, \"é negativo!\")\n",
    "    \n",
    "# se o numero é maior que zero\n",
    "elif num > 0:\n",
    "    print(\"\\nO número\", num, \"é positivo!\")\n",
    "    \n",
    "# se o numero é o próprio zero\n",
    "else:\n",
    "    print(\"\\nO número digitado é o zero!\")"
   ]
  },
  {
   "cell_type": "markdown",
   "metadata": {},
   "source": [
    "\n",
    "\n",
    "3. Faça um programa que dado um número digitado, mostre se ele é\n",
    "Par ou Ímpar.\n",
    "\n"
   ]
  },
  {
   "cell_type": "code",
   "execution_count": 22,
   "metadata": {},
   "outputs": [
    {
     "name": "stdout",
     "output_type": "stream",
     "text": [
      "Digite um número inteiro positivo: 73\n",
      "\n",
      "O número 73 é impar!\n"
     ]
    }
   ],
   "source": [
    "# solicita o numero\n",
    "num = int(input(\"Digite um número inteiro positivo: \"))\n",
    "\n",
    "# veja se o numero é par \n",
    "#(por definição, um numero será par se o resto da divisão dele por 2 é zero)\n",
    "if num % 2 == 0:\n",
    "    print(\"\\nO número\", num, \"é par!\")\n",
    "else:\n",
    "    print(\"\\nO número\", num, \"é impar!\")"
   ]
  },
  {
   "cell_type": "markdown",
   "metadata": {},
   "source": [
    "\n",
    "4. Faça um programa que peça dois números e mostre o maior deles.\n",
    "\n"
   ]
  },
  {
   "cell_type": "code",
   "execution_count": 20,
   "metadata": {},
   "outputs": [
    {
     "name": "stdout",
     "output_type": "stream",
     "text": [
      "Digite o primeiro número: 4\n",
      "Digite o segundo número: -4\n",
      "\n",
      "O maior número é 4.0\n"
     ]
    }
   ],
   "source": [
    "# solicita os dois numeros\n",
    "num1 = float(input(\"Digite o primeiro número: \"))\n",
    "num2 = float(input(\"Digite o segundo número: \"))\n",
    "\n",
    "# se o primeiro for maior\n",
    "if num1 > num2:\n",
    "    print(\"\\nO maior número é\", num1)\n",
    "    \n",
    "# se o segundo for maior\n",
    "elif num2 > num1:\n",
    "    print(\"\\nO maior número é\", num2)\n",
    "# se os numeros forem iguais (duas condições acima falsas)\n",
    "\n",
    "else:\n",
    "    print(\"\\nOs números digitados são iguais!\")"
   ]
  },
  {
   "cell_type": "markdown",
   "metadata": {},
   "source": [
    "\n",
    "5. Faça um programa que leia a validade das informações:\n",
    "\n",
    "a. Idade: entre 0 e 150;\n",
    "\n",
    "b. Salário: maior que 0;\n",
    "\n",
    "c. Sexo: M, F ou Outro;\n",
    "\n",
    "O programa deve imprimir uma mensagem de erro para cada\n",
    "informação inválida.\n"
   ]
  },
  {
   "cell_type": "code",
   "execution_count": 18,
   "metadata": {},
   "outputs": [
    {
     "name": "stdout",
     "output_type": "stream",
     "text": [
      "Digite sua idade: 165\n",
      "A idade informada é inválida!\n",
      "\n",
      "\n",
      "Digite seu salário em R$: 1000\n",
      "\n",
      "\n",
      "Digite o sexo (M/F/OUTRO): masculino\n",
      "O sexo informado é inválido!\n"
     ]
    }
   ],
   "source": [
    "# pede a idade\n",
    "idade = int(input(\"Digite sua idade: \"))\n",
    "\n",
    "# se a idade não for válida...\n",
    "if idade < 0 or idade > 150:\n",
    "    print(\"A idade informada é inválida!\")\n",
    "    \n",
    "# para quebrar a linha\n",
    "print(\"\\n\")\n",
    "\n",
    "# pede o salario\n",
    "salario = float(input(\"Digite seu salário em R$: \"))\n",
    "\n",
    "# se o salário não for válido...\n",
    "if salario < 0:\n",
    "    print(\"O salário informado é inválido!\")\n",
    "    \n",
    "print(\"\\n\")\n",
    "\n",
    "# pede o sexo\n",
    "sexo = input(\"Digite o sexo (M/F/OUTRO): \")\n",
    "\n",
    "# se o sexo não for válido...\n",
    "if sexo !=  \"M\" or sexo !=  \"F\" or sexo !=  \"OUTRO\":\n",
    "    print(\"O sexo informado é inválido!\")\n"
   ]
  },
  {
   "cell_type": "markdown",
   "metadata": {},
   "source": [
    "\n",
    "\n",
    "6. Escreva um programa que peça a nota de 3 provas de um aluno e\n",
    "verifique se ele passou o não de ano.\n",
    "Obs.: O aluno irá passar de ano se sua média for maior que 6.\n"
   ]
  },
  {
   "cell_type": "code",
   "execution_count": 15,
   "metadata": {},
   "outputs": [
    {
     "name": "stdout",
     "output_type": "stream",
     "text": [
      "Digite a nota da primeira prova: 6\n",
      "Digite a nota da segunda prova: 10\n",
      "Digite a nota da terceira prova: 8\n",
      "\n",
      "O aluno passou de ano!\n"
     ]
    }
   ],
   "source": [
    "# pergunta as notas\n",
    "nota1 = float(input(\"Digite a nota da primeira prova: \"))\n",
    "nota2 = float(input(\"Digite a nota da segunda prova: \"))\n",
    "nota3 = float(input(\"Digite a nota da terceira prova: \"))\n",
    "\n",
    "# calcula a media\n",
    "media = (nota1 + nota2 + nota3)/3\n",
    "\n",
    "# checa se a média é maior que 6, pra saber se o aluno foi aprovado ou nao,\n",
    "# e avisa o usuario\n",
    "if media > 6:\n",
    "    print(\"\\nO aluno passou de ano!\")\n",
    "else:\n",
    "    print(\"\\nO aluno foi reprovado!\")"
   ]
  },
  {
   "cell_type": "markdown",
   "metadata": {},
   "source": [
    "\n",
    "7. Faça um programa que mostre uma questão de múltipla escolha com\n",
    "5 opções (letras a, b, c, d, e e). Sabendo a resposta certa, o programa\n",
    "deve receber a opção do usuário e informar a letra que o usuário\n",
    "marcou e se a resposta está certa ou errada.\n"
   ]
  },
  {
   "cell_type": "code",
   "execution_count": 12,
   "metadata": {},
   "outputs": [
    {
     "name": "stdout",
     "output_type": "stream",
     "text": [
      "Quanto é 2+2?\n",
      "a) 22\n",
      "b) 0\n",
      "c) 4\n",
      "d) -4\n",
      "e) -22\n",
      "Escolha uma das alternativas (a, b, c, d ou e): c\n",
      "\n",
      "Você escolheu a alternativa c e essa resposta está CERTA!\n"
     ]
    }
   ],
   "source": [
    "# faz a pergunta e dá as alternativas\n",
    "print(\"Quanto é 2+2?\")\n",
    "print(\"a) 22\")\n",
    "print(\"b) 0\")\n",
    "print(\"c) 4\")\n",
    "print(\"d) -4\")\n",
    "print(\"e) -22\")\n",
    "\n",
    "# pergunta ao usuario qual é a resposta dele\n",
    "alternativa_escolhida = input(\"Escolha uma das alternativas (a, b, c, d ou e): \")\n",
    "\n",
    "# fixa qual é a alternastiva correta\n",
    "resposta_certa = \"c\"\n",
    "\n",
    "# checa se a resposta dada pelo usuario está correta, e avisa pra ele\n",
    "if alternativa_escolhida == resposta_certa:\n",
    "        print(\"\\nVocê escolheu a alternativa\", alternativa_escolhida, \"e essa resposta está CERTA!\")\n",
    "else:\n",
    "        print(\"\\nVocê escolheu a alternativa\", alternativa_escolhida, \"e essa resposta está ERRADA!\")\n"
   ]
  },
  {
   "cell_type": "markdown",
   "metadata": {},
   "source": [
    "\n",
    "\n",
    "8. Vamos fazer um programa para verificar quem é o assassino de um\n",
    "crime. Para descobrir o assassino, a polícia faz um pequeno\n",
    "questionário com 5 perguntas onde a resposta só pode ser sim ou não:\n",
    "a. Mora perto da vítima?\n",
    "b. Já trabalhou com a vítima?\n",
    "c. Telefonou para a vítima?\n",
    "d. Esteve no local do crime?\n",
    "e. Devia para a vítima?\n",
    "Cada resposta sim dá um ponto para o suspeito. A polícia considera\n",
    "que os suspeitos com 5 pontos são os assassinos, com 4 a 3 pontos são\n",
    "cúmplices e 2 pontos são apenas suspeitos, necessitando outras\n",
    "investigações. Valores abaixo de 1 são liberados.\n"
   ]
  },
  {
   "cell_type": "code",
   "execution_count": 30,
   "metadata": {},
   "outputs": [
    {
     "name": "stdout",
     "output_type": "stream",
     "text": [
      "Mora perto da vítima? NAO\n",
      "Já trabalhou com a vítima? NAO\n",
      "Telefonou para a vítima? SIM\n",
      "Esteve no local do crime? SIM\n",
      "Devia para a vítima? NAO\n",
      "\n",
      "Você é suspeito\n"
     ]
    }
   ],
   "source": [
    "pontuacao = 0\n",
    "\n",
    "resposta = input(\"Mora perto da vítima? \")\n",
    "if resposta == \"SIM\":\n",
    "    pontuacao = pontuacao + 1\n",
    "    \n",
    "resposta = input(\"Já trabalhou com a vítima? \")\n",
    "if resposta == \"SIM\":\n",
    "    pontuacao = pontuacao + 1\n",
    "\n",
    "resposta = input(\"Telefonou para a vítima? \")\n",
    "if resposta == \"SIM\":\n",
    "    pontuacao = pontuacao + 1\n",
    "\n",
    "resposta = input(\"Esteve no local do crime? \")\n",
    "if resposta == \"SIM\":\n",
    "    pontuacao = pontuacao + 1\n",
    "                 \n",
    "resposta = input(\"Devia para a vítima? \")\n",
    "if resposta == \"SIM\":\n",
    "    pontuacao = pontuacao + 1\n",
    "                 \n",
    "if pontuacao == 5:\n",
    "    print(\"\\nVocê é um assassino!\")\n",
    "elif pontuacao == 4 or pontuacao == 3:\n",
    "    print(\"\\nVocê é cumplice!\")\n",
    "elif pontuacao == 2:\n",
    "    print(\"\\nVocê é suspeito\")\n",
    "else:\n",
    "    print(\"\\nVocê tá liberado\")"
   ]
  },
  {
   "cell_type": "markdown",
   "metadata": {},
   "source": [
    "__Solução com verificação da resposta usando while e listas__\n",
    "\n",
    "Sugestão do colega"
   ]
  },
  {
   "cell_type": "code",
   "execution_count": 3,
   "metadata": {},
   "outputs": [
    {
     "name": "stdout",
     "output_type": "stream",
     "text": [
      "Mora perto da vítima? NAO SEI\n",
      "RESPOSTA INVÁLIDA! Mora perto da vítima? ah,...\n",
      "RESPOSTA INVÁLIDA! Mora perto da vítima? SIM\n",
      "Já trabalhou com a vítima? sim\n",
      "RESPOSTA INVÁLIDA! Já trabalhou com a vítima? SIM\n",
      "Telefonou para a vítima? NAO\n",
      "Esteve no local do crime? NAOP\n",
      "RESPOSTA INVÁLIDA! Esteve no local do crime?  NAO\n",
      "Devia para a vítima? SIM\n",
      "Você é cumplice!\n"
     ]
    }
   ],
   "source": [
    "lista = [\"SIM\", \"NAO\"]\n",
    "pontuacao = 0\n",
    "\n",
    "\n",
    "resposta = input(\"Mora perto da vítima? \")\n",
    "while resposta not in lista:\n",
    "    resposta = input(\"RESPOSTA INVÁLIDA! Mora perto da vítima? \")\n",
    "\n",
    "if resposta == \"SIM\":\n",
    "    pontuacao = pontuacao + 1\n",
    "\n",
    "\n",
    "resposta = input(\"Já trabalhou com a vítima? \")\n",
    "while resposta not in lista:\n",
    "    resposta = input(\"RESPOSTA INVÁLIDA! Já trabalhou com a vítima? \")\n",
    "\n",
    "if resposta == \"SIM\":\n",
    "    pontuacao = pontuacao + 1\n",
    "\n",
    "\n",
    "resposta = input(\"Telefonou para a vítima? \")\n",
    "while resposta not in lista:\n",
    "    resposta = input(\"RESPOSTA INVÁLIDA! Telefonou para a vítima? \")\n",
    "    \n",
    "if resposta == \"SIM\":\n",
    "    pontuacao = pontuacao + 1\n",
    "\n",
    "\n",
    "resposta = input(\"Esteve no local do crime? \")\n",
    "while resposta not in lista:\n",
    "    resposta = input(\"RESPOSTA INVÁLIDA! Esteve no local do crime?  \")\n",
    "\n",
    "if resposta == \"SIM\":\n",
    "    pontuacao = pontuacao + 1\n",
    "\n",
    "\n",
    "resposta = input(\"Devia para a vítima? \")\n",
    "while resposta not in lista:\n",
    "    resposta = input(\"RESPOSTA INVÁLIDA! Devia para a vítima? \")\n",
    "    \n",
    "if resposta == \"SIM\":\n",
    "    pontuacao = pontuacao + 1\n",
    "\n",
    "\n",
    "if pontuacao == 5:\n",
    "    print(\"Você é um assassino!\")\n",
    "elif pontuacao == 4 or pontuacao == 3:\n",
    "    print(\"Você é cumplice!\")\n",
    "elif pontuacao == 2:\n",
    "    print(\"Você é suspeito\")\n",
    "else:\n",
    "    print(\"Você tá liberado\")"
   ]
  },
  {
   "cell_type": "markdown",
   "metadata": {},
   "source": [
    "__O exercício usando while e for__\n",
    "\n",
    "Não precisamos mais fazer vários inputs :)"
   ]
  },
  {
   "cell_type": "code",
   "execution_count": 4,
   "metadata": {},
   "outputs": [
    {
     "name": "stdout",
     "output_type": "stream",
     "text": [
      "Mora perto da vítima? nao sei\n",
      "RESPOSTA INVÁLIDA! Mora perto da vítima? SIM\n",
      "Já trabalhou com a vítima? NASSSDFSDF\n",
      "RESPOSTA INVÁLIDA! Já trabalhou com a vítima? NAOO\n",
      "RESPOSTA INVÁLIDA! Já trabalhou com a vítima? NAO\n",
      "Telefonou para a vítima? SIM\n",
      "Esteve no local do crime? SIM\n",
      "Devia para a vítima? SIM\n",
      "Você é cumplice!\n"
     ]
    }
   ],
   "source": [
    "lista = [\"SIM\", \"NAO\"]\n",
    "pontuacao = 0\n",
    "\n",
    "lista_de_perguntas = [\"Mora perto da vítima? \", \"Já trabalhou com a vítima? \",\n",
    "                     \"Telefonou para a vítima? \",\"Esteve no local do crime? \",\n",
    "                      \"Devia para a vítima? \"]\n",
    "\n",
    "\n",
    "for pergunta in lista_de_perguntas:\n",
    "    \n",
    "    resposta = input(pergunta)\n",
    "    \n",
    "    while resposta not in lista:\n",
    "        resposta = input(\"RESPOSTA INVÁLIDA! \" + pergunta)\n",
    "\n",
    "    if resposta == \"SIM\":\n",
    "        pontuacao = pontuacao + 1\n",
    "        \n",
    "        \n",
    "if pontuacao == 5:\n",
    "    print(\"Você é um assassino!\")\n",
    "elif pontuacao == 4 or pontuacao == 3:\n",
    "    print(\"Você é cumplice!\")\n",
    "elif pontuacao == 2:\n",
    "    print(\"Você é suspeito\")\n",
    "else:\n",
    "    print(\"Você tá liberado\")"
   ]
  },
  {
   "cell_type": "markdown",
   "metadata": {},
   "source": [
    "\n",
    "9. Um produto vai sofrer aumento de acordo com a Tabela 1 abaixo. Faça\n",
    "um programa que peça para o usuário digitar o valor do produto de\n",
    "acordo com o preço antigo e escreva uma das mensagens da Tabela\n",
    "2, de acordo com o preço reajustado:\n",
    "\n",
    "REAJUSTE: \n",
    "\n",
    "- Até 50 : 5\\%\n",
    "\n",
    "- Entre 50 e 100 : 10\\%\n",
    "\n",
    "- Entre 100 e 150 : 13\\%\n",
    "\n",
    "- Acima de 150 : 15\\%\n",
    "\n",
    "MENSAGENS: \n",
    "\n",
    "- Até 80 : Barato\n",
    "\n",
    "- Entre 80 e 115 : Razoável\n",
    "\n",
    "- Entre 115 e 150 : Normal\n",
    "\n",
    "- Entre 150 e 170 : Caro\n",
    "\n",
    "- Acima de 170 : Muito caro"
   ]
  },
  {
   "cell_type": "code",
   "execution_count": 32,
   "metadata": {},
   "outputs": [
    {
     "name": "stdout",
     "output_type": "stream",
     "text": [
      "Digite o valor inicial do produto: 70\n",
      "Valor ajustado: 77.0\n",
      "\n",
      "\n",
      "Barato!\n"
     ]
    }
   ],
   "source": [
    "# pede o valor ao usuario\n",
    "valor = float(input(\"Digite o valor inicial do produto: \"))\n",
    "\n",
    "# redefine o valor, com um ajuste diferente em cada caso\n",
    "if valor <= 50:\n",
    "    valor = valor*(1 + 0.05)\n",
    "elif valor > 50 and valor <= 100:\n",
    "    valor = valor*(1 + 0.10)\n",
    "elif valor > 100 and valor <= 150:\n",
    "    valor = valor*(1 + 0.13)\n",
    "else:\n",
    "    valor = valor*(1 + 0.15)\n",
    "\n",
    "print(\"Valor ajustado:\", valor)\n",
    "    \n",
    "# avalia o nível do valor, dependendo do valor reajustado\n",
    "print(\"\\n\")\n",
    "if valor <= 80:\n",
    "    print(\"Barato!\")\n",
    "elif valor > 80 and valor <= 115:\n",
    "    print(\"Razoável\")\n",
    "elif valor > 115 and valor <= 150:\n",
    "    print(\"Normal\")\n",
    "elif valor > 150 and valor <= 170:\n",
    "    print(\"Caro\")\n",
    "else:\n",
    "    print(\"Muito caro!\") "
   ]
  },
  {
   "cell_type": "markdown",
   "metadata": {},
   "source": [
    "Eliminando redundâncias nos `elif`..."
   ]
  },
  {
   "cell_type": "code",
   "execution_count": 1,
   "metadata": {
    "ExecuteTime": {
     "end_time": "2021-10-30T20:55:16.086176Z",
     "start_time": "2021-10-30T20:55:14.610690Z"
    }
   },
   "outputs": [
    {
     "name": "stdout",
     "output_type": "stream",
     "text": [
      "Digite o valor inicial do produto: 70\n",
      "Valor ajustado: 77.0\n",
      "\n",
      "\n",
      "Barato!\n"
     ]
    }
   ],
   "source": [
    "# pede o valor ao usuario\n",
    "valor = float(input(\"Digite o valor inicial do produto: \"))\n",
    "\n",
    "# redefine o valor, com um ajuste diferente em cada caso\n",
    "if valor <= 50:\n",
    "    valor = valor*(1 + 0.05)\n",
    "elif valor <= 100:\n",
    "    valor = valor*(1 + 0.10)\n",
    "elif valor <= 150:\n",
    "    valor = valor*(1 + 0.13)\n",
    "else:\n",
    "    valor = valor*(1 + 0.15)\n",
    "\n",
    "print(\"Valor ajustado:\", valor)\n",
    "    \n",
    "# avalia o nível do valor, dependendo do valor reajustado\n",
    "print(\"\\n\")\n",
    "if valor <= 80:\n",
    "    print(\"Barato!\")\n",
    "elif valor <= 115:\n",
    "    print(\"Razoável\")\n",
    "elif valor <= 150:\n",
    "    print(\"Normal\")\n",
    "elif valor <= 170:\n",
    "    print(\"Caro\")\n",
    "else:\n",
    "    print(\"Muito caro!\") "
   ]
  },
  {
   "cell_type": "markdown",
   "metadata": {},
   "source": [
    "__________________\n",
    "__________________\n",
    "\n",
    "__________________\n",
    "__________________"
   ]
  },
  {
   "cell_type": "markdown",
   "metadata": {},
   "source": [
    "# DESAFIOS"
   ]
  },
  {
   "cell_type": "markdown",
   "metadata": {},
   "source": [
    "\n",
    "1. Faça um programa que leia 3 números e informe o maior deles.\n",
    "\n"
   ]
  },
  {
   "cell_type": "code",
   "execution_count": 4,
   "metadata": {},
   "outputs": [
    {
     "name": "stdout",
     "output_type": "stream",
     "text": [
      "Digite o primeiro número: 14\n",
      "Digite o segundo número: -1210\n",
      "Digite o terceiro número: 1\n",
      "\n",
      "O maior número é 14.0\n"
     ]
    }
   ],
   "source": [
    "# solicita os nuneros ao usuario\n",
    "num1 = float(input(\"Digite o primeiro número: \"))\n",
    "num2 = float(input(\"Digite o segundo número: \"))\n",
    "num3 = float(input(\"Digite o terceiro número: \"))\n",
    "\n",
    "# vamos supor que o primeiro é o maior\n",
    "maior = num1\n",
    "\n",
    "# a ideia agora ir comparando em cadeia\n",
    "\n",
    "# se o segundo for maior\n",
    "if num2 > maior:\n",
    "    \n",
    "    # o segundo passa a ser o maior\n",
    "    maior = num2\n",
    "\n",
    "    # mas se o terceiro for maior \n",
    "    if num3 > maior:\n",
    "        \n",
    "        # o terceiro passa a ser o maior\n",
    "        maior = num3\n",
    "\n",
    "# mas se o segundo nao for o maior\n",
    "else:\n",
    "    \n",
    "    # ve se o terceiro é maior\n",
    "    if num3 > maior:\n",
    "    \n",
    "        # e ai o terceiro passa a ser o maior\n",
    "        maior = num3\n",
    "        \n",
    "# se nenhuma condição acima foi verdadeira, entao o maior é o primeiro,\n",
    "# que supomos ser o maior desde o inicio\n",
    "        \n",
    "print(\"\\nO maior número é\", maior)"
   ]
  },
  {
   "cell_type": "markdown",
   "metadata": {},
   "source": [
    "2. Faça o mesmo programa do exercício anterior, porém com 4\n",
    "números.\n",
    "\n"
   ]
  },
  {
   "cell_type": "code",
   "execution_count": 43,
   "metadata": {},
   "outputs": [
    {
     "name": "stdout",
     "output_type": "stream",
     "text": [
      "Digite o primeiro número: 14857\n",
      "Digite o segundo número: -315684\n",
      "Digite o terceiro número: 548.148496\n",
      "Difite o quarto número: 0.187\n",
      "\n",
      "O maior número é 14857.0\n"
     ]
    }
   ],
   "source": [
    "# solicita os nuneros ao usuario\n",
    "num1 = float(input(\"Digite o primeiro número: \"))\n",
    "num2 = float(input(\"Digite o segundo número: \"))\n",
    "num3 = float(input(\"Digite o terceiro número: \"))\n",
    "num4 = float(input(\"Digite o quarto número: \"))\n",
    "\n",
    "# supoe que o maior é o primeiro\n",
    "maior = num1\n",
    "\n",
    "# agora, vamos fazer a mesma comparação encadeada que fizemos acima,\n",
    "# mas temos que fazer comparações extras com o num4\n",
    "\n",
    "if num2 > maior:\n",
    "    \n",
    "    maior = num2\n",
    "\n",
    "    if num3 > maior:\n",
    "        \n",
    "        maior = num3\n",
    "        \n",
    "    if num4 > maior:\n",
    "        \n",
    "        maior = num4\n",
    "\n",
    "else:\n",
    "    \n",
    "    if num3 > maior:\n",
    "    \n",
    "        maior = num3\n",
    "        \n",
    "        if num4 > maior:\n",
    "\n",
    "            maior = num4\n",
    "            \n",
    "    else:\n",
    "        \n",
    "        if num4 > maior:\n",
    "            \n",
    "            maior = num4\n",
    "        \n",
    "print(\"\\nO maior número é\", maior)"
   ]
  },
  {
   "cell_type": "markdown",
   "metadata": {},
   "source": [
    "__Para achar o maior entre N números, usamos listas, de um jeito bem simples!__"
   ]
  },
  {
   "cell_type": "code",
   "execution_count": 2,
   "metadata": {},
   "outputs": [
    {
     "name": "stdout",
     "output_type": "stream",
     "text": [
      "Você quer encontrar o maior entre quantos números? 4\n",
      "Digite o 1° número: 14857\n",
      "Digite o 2° número: -315684\n",
      "Digite o 3° número: 548.148496\n",
      "Digite o 4° número: 0.187\n",
      "\n",
      "O maior número é 14857.0\n"
     ]
    }
   ],
   "source": [
    "# pede pro usuario quantos números quer comparar pra achar o maior\n",
    "N = int(input(\"Você quer encontrar o maior entre quantos números? \"))\n",
    "\n",
    "# inicializa uma lista vazia a ser preenchida com os numeros dados pelo usuario\n",
    "lista_de_numeros = []\n",
    "\n",
    "for i in range(N):\n",
    "    \n",
    "    # pega o numero digitado pelo usuario\n",
    "    numero = float(input(\"Digite o \" + str(i+1) + \"° número: \"))\n",
    "\n",
    "    # apernda o numero à lista\n",
    "    lista_de_numeros.append(numero)\n",
    "    \n",
    "# ordena a lista, e pega o ultimo elemento\n",
    "maior = sorted(lista_de_numeros)[-1]\n",
    "\n",
    "print(\"\\nO maior número é\", maior)"
   ]
  },
  {
   "cell_type": "markdown",
   "metadata": {},
   "source": [
    "3. Um hospital quer fazer o diagnóstico de gripe ou dengue a partir de\n",
    "um questionário de sintomas, tendo as perguntas abaixo, faça um\n",
    "programa que faça o diagnóstico deste hospital:\n",
    "a. Sente dor no corpo?\n",
    "b. Você tem febre?\n",
    "c. Você tem tosse?\n",
    "d. Está com congestão nasal?\n",
    "e. Tem manchas pelo corpo?\n",
    "Para o diagnóstico ele tem a seguinte tabela (**ver na lista**)"
   ]
  },
  {
   "cell_type": "code",
   "execution_count": 3,
   "metadata": {},
   "outputs": [
    {
     "name": "stdout",
     "output_type": "stream",
     "text": [
      "Sente dor no corpo? SIM\n",
      "Você tem febre? SIM\n",
      "Você tem tosse? NAO\n",
      "Está com congestão nasal?  NAO\n",
      "Tem manchas pelo corpo? SIM\n",
      "\n",
      "\n",
      "Diagnóstico: Dengue\n"
     ]
    }
   ],
   "source": [
    "# Faz as perguntas\n",
    "a = input(\"Sente dor no corpo? \")\n",
    "b = input(\"Você tem febre? \")\n",
    "c = input(\"Você tem tosse? \")\n",
    "d = input(\"Está com congestão nasal?  \")\n",
    "e = input(\"Tem manchas pelo corpo? \")\n",
    "\n",
    "print(\"\\n\")\n",
    "\n",
    "# checa os casos, e exibe o diagnóstico\n",
    "if a == \"SIM\" and b == \"SIM\" and c == \"NAO\" and d == \"NAO\" and e == \"SIM\":\n",
    "    print(\"Diagnóstico: Dengue\")\n",
    "elif a == \"SIM\" and b == \"SIM\" and c == \"SIM\" and d == \"SIM\" and e == \"NAO\":\n",
    "    print(\"Diagnóstico: Gripe\")\n",
    "elif a == \"NAO\" and b == \"SIM\" and c == \"SIM\" and d == \"SIM\" and e == \"NAO\":\n",
    "    print(\"Diagnóstico: Gripe\")\n",
    "elif a == \"SIM\" and b == \"NAO\" and c == \"NAO\" and d == \"NAO\" and e == \"NAO\":\n",
    "    print(\"Diagnóstico: Sem Doenças\")\n",
    "elif a == \"NAO\" and b == \"NAO\" and c == \"NAO\" and d == \"NAO\" and e == \"NAO\":\n",
    "    print(\"Diagnóstico: Sem Doenças\")\n",
    "# se nao for nenhum dos casos da tabela\n",
    "else:\n",
    "    print(\"Impossível diagnosticar\")"
   ]
  },
  {
   "cell_type": "code",
   "execution_count": null,
   "metadata": {},
   "outputs": [],
   "source": []
  }
 ],
 "metadata": {
  "kernelspec": {
   "display_name": "Python 3",
   "language": "python",
   "name": "python3"
  },
  "language_info": {
   "codemirror_mode": {
    "name": "ipython",
    "version": 3
   },
   "file_extension": ".py",
   "mimetype": "text/x-python",
   "name": "python",
   "nbconvert_exporter": "python",
   "pygments_lexer": "ipython3",
   "version": "3.8.3"
  }
 },
 "nbformat": 4,
 "nbformat_minor": 4
}
