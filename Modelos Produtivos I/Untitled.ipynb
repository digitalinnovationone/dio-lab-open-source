{
 "cells": [
  {
   "cell_type": "code",
   "execution_count": null,
   "id": "005ecb87",
   "metadata": {
    "ExecuteTime": {
     "end_time": "2022-10-26T18:40:30.201668Z",
     "start_time": "2022-10-26T18:40:29.658109Z"
    }
   },
   "outputs": [],
   "source": [
    "import pandas as pd\n",
    "import numpy as np"
   ]
  },
  {
   "cell_type": "code",
   "execution_count": null,
   "id": "2a14e7b0",
   "metadata": {
    "ExecuteTime": {
     "end_time": "2022-10-26T19:16:21.779882Z",
     "start_time": "2022-10-26T19:16:21.773014Z"
    }
   },
   "outputs": [],
   "source": [
    "df = pd.read_csv(\"./teste.csv\", sep=\";\")"
   ]
  },
  {
   "cell_type": "code",
   "execution_count": null,
   "id": "7f15b102",
   "metadata": {
    "ExecuteTime": {
     "end_time": "2022-10-26T19:16:22.651394Z",
     "start_time": "2022-10-26T19:16:22.636907Z"
    }
   },
   "outputs": [],
   "source": [
    "df"
   ]
  },
  {
   "cell_type": "code",
   "execution_count": null,
   "id": "01517774",
   "metadata": {},
   "outputs": [],
   "source": [
    "class Class1:\n",
    "    a = 10\n",
    "    def __init__(self, a):\n",
    "        self.a = a\n",
    "    def method1(self, a):\n",
    "        return a*self.a    "
   ]
  },
  {
   "cell_type": "code",
   "execution_count": null,
   "id": "b9354332",
   "metadata": {},
   "outputs": [],
   "source": [
    "numero = Class1(a=20)"
   ]
  },
  {
   "cell_type": "code",
   "execution_count": null,
   "id": "145e3ab9",
   "metadata": {},
   "outputs": [],
   "source": [
    "mult = numero.method1(a=15)"
   ]
  },
  {
   "cell_type": "code",
   "execution_count": null,
   "id": "39ef1df2",
   "metadata": {},
   "outputs": [],
   "source": [
    "mult"
   ]
  },
  {
   "cell_type": "code",
   "execution_count": null,
   "id": "e7374bfe",
   "metadata": {},
   "outputs": [],
   "source": [
    "def func1(x, y):\n",
    "    \n",
    "    if y == 0:\n",
    "        return 0\n",
    "    \n",
    "    elif y == 1:\n",
    "        \n",
    "        return x\n",
    "    else:\n",
    "        return x + func1 (x, y-1)"
   ]
  },
  {
   "cell_type": "code",
   "execution_count": null,
   "id": "8579294a",
   "metadata": {},
   "outputs": [],
   "source": [
    "func1(14, 60)"
   ]
  },
  {
   "cell_type": "code",
   "execution_count": null,
   "id": "748aa6ae",
   "metadata": {},
   "outputs": [],
   "source": [
    "import re\n",
    " \n",
    "def remove_special_char(text):\n",
    "    rsc = re.sub(r'^[0-9]{2}([^@]+)','',text)\n",
    "    return rsc"
   ]
  },
  {
   "cell_type": "code",
   "execution_count": null,
   "id": "fb5014d4",
   "metadata": {},
   "outputs": [],
   "source": [
    "test = \"952345SA#124@APNNE\"\n",
    "\n",
    "remove_special_char(test)"
   ]
  },
  {
   "cell_type": "code",
   "execution_count": null,
   "id": "b9fb7ef0",
   "metadata": {},
   "outputs": [],
   "source": [
    "pattern = re.compile(r'^[0-9]{2}([^@]+)') ### qual é a expressao regular do regex neste caso\n",
    "email = \"952345SA#124@APNNE\"\n",
    "print(re.match(pattern, email))"
   ]
  },
  {
   "cell_type": "code",
   "execution_count": null,
   "id": "c1f35a44",
   "metadata": {},
   "outputs": [],
   "source": [
    "t1 = 99999 * 0.000007895\n",
    "t2 = 99999 * 0.9875\n",
    "t3 = 99999 * 0.000009875\n",
    "t4 = 99999 * 0.07895\n",
    "t5 = 99999 * 0.0007895"
   ]
  },
  {
   "cell_type": "code",
   "execution_count": null,
   "id": "796cd54d",
   "metadata": {},
   "outputs": [],
   "source": [
    "print(t1, t2, t3, t4, t5)"
   ]
  },
  {
   "cell_type": "code",
   "execution_count": null,
   "id": "1fe2f5cb",
   "metadata": {},
   "outputs": [],
   "source": [
    "0.000009875*1.25"
   ]
  },
  {
   "cell_type": "code",
   "execution_count": null,
   "id": "ddb9603b",
   "metadata": {},
   "outputs": [],
   "source": [
    "class Foo:\n",
    "    def hello(self):\n",
    "        print(self.__class__.__name__.lower())\n",
    "\n",
    "\n",
    "class Bar(Foo):\n",
    "    def hello(self):\n",
    "        return super().hello()"
   ]
  },
  {
   "cell_type": "code",
   "execution_count": null,
   "id": "7a4a9af5",
   "metadata": {},
   "outputs": [],
   "source": [
    "\n",
    "bar = Bar()\n",
    "bar.hello()"
   ]
  },
  {
   "cell_type": "code",
   "execution_count": 27,
   "id": "f79270e3",
   "metadata": {},
   "outputs": [
    {
     "name": "stdout",
     "output_type": "stream",
     "text": [
      "0 a\n"
     ]
    }
   ],
   "source": [
    "letra = input().upper()\n",
    "numero = 0\n",
    "letra_informada = \"a\"\n",
    "for n, i in enumerate(range(ord('a'), ord('z')+1)):\n",
    "    \n",
    "    if chr(i) == letra:\n",
    "        numero = n+1\n",
    "        letra_informada = chr(i)\n",
    "print(numero, letra_informada)"
   ]
  },
  {
   "cell_type": "code",
   "execution_count": 26,
   "id": "32512c73",
   "metadata": {},
   "outputs": [
    {
     "name": "stdout",
     "output_type": "stream",
     "text": [
      "['a', 'b', 'c', 'd', 'e', 'f', 'g', 'h', 'i', 'j', 'k', 'l', 'm', 'n', 'o', 'p', 'q', 'r', 's', 't', 'u', 'v', 'w', 'x', 'y', 'z']\n"
     ]
    }
   ],
   "source": [
    "a =[]\n",
    "\n",
    "# list de a-n\n",
    "for i in range(ord('a'), ord('z')+1):\n",
    "    a.append(chr(i))\n",
    "\n",
    "print(a)"
   ]
  },
  {
   "cell_type": "code",
   "execution_count": 33,
   "id": "1dfd546e",
   "metadata": {},
   "outputs": [],
   "source": [
    "while True: \n",
    "    try:\n",
    "        pernas = input().lower().strip()\n",
    "        \n",
    "        def papagaio(pernas)\n",
    "            \n",
    "            if pernas == \"esquerda\":\n",
    "                            \n",
    "                print(\"ingles\")\n",
    "            \n",
    "            elif pernas == \"direita\":\n",
    "            \n",
    "                print(\"frances\")\n",
    "            \n",
    "            elif pernas == \"nenhuma\":\n",
    "            \n",
    "                print(\"portugues\")\n",
    "            \n",
    "            elif pernas == \"ambas\":\n",
    "            \n",
    "                print(\"caiu\")\n",
    "                \n",
    "        papagaio(pernas)\n",
    "            # TODO:  Programe aqui dentro as condições necessárias para satisfazer o problema\n",
    "            # e imprima a saída de acordo com a situação das pernas do papagaio\n",
    "    except EOFError: \n",
    "        break"
   ]
  },
  {
   "cell_type": "code",
   "execution_count": 4,
   "id": "daf38596",
   "metadata": {},
   "outputs": [
    {
     "name": "stdout",
     "output_type": "stream",
     "text": [
      "Novo salario: 2200.00 Reajuste ganho: 200.00 Em percentual: 10%\n"
     ]
    }
   ],
   "source": [
    "salario = float(2000) \n",
    "\n",
    "if (salario <= 600):\n",
    "  \n",
    "  percentual = 17\n",
    "  \n",
    "  salario_novo = (salario / 100) * percentual + salario\n",
    "  \n",
    "  reajuste = (salario / 100) * percentual\n",
    "\n",
    "elif (salario >= 600.01 and salario <= 900 ):\n",
    "\n",
    "  percentual = 13\n",
    "  \n",
    "  salario_novo = (salario / 100) * percentual + salario\n",
    "  \n",
    "  reajuste = (salario / 100) * percentual\n",
    "\n",
    "elif (salario >= 900.01 and salario <= 1500):\n",
    "  \n",
    "  percentual = 12\n",
    "  \n",
    "  salario_novo = (salario / 100) * percentual + salario\n",
    "  \n",
    "  reajuste = (salario / 100) * percentual\n",
    "\n",
    "elif (salario >= 1500.01 and salario <= 2000):\n",
    "  \n",
    "  percentual = 10\n",
    "  \n",
    "  salario_novo = (salario / 100) * percentual + salario\n",
    "  \n",
    "  reajuste = (salario / 100) * percentual\n",
    "\n",
    "else: \n",
    "  percentual = 5\n",
    "  \n",
    "  salario_novo = (salario / 100) * percentual + salario\n",
    "  \n",
    "  reajuste = (salario / 100) * percentual\n",
    "\n",
    "print(f\"Novo salario: {salario_novo:.2f} Reajuste ganho: {reajuste:.2f} Em percentual: {percentual}%\")"
   ]
  },
  {
   "cell_type": "code",
   "execution_count": null,
   "id": "601b1e4e",
   "metadata": {},
   "outputs": [],
   "source": []
  }
 ],
 "metadata": {
  "kernelspec": {
   "display_name": "Python 3.8.10 64-bit",
   "language": "python",
   "name": "python3"
  },
  "language_info": {
   "codemirror_mode": {
    "name": "ipython",
    "version": 3
   },
   "file_extension": ".py",
   "mimetype": "text/x-python",
   "name": "python",
   "nbconvert_exporter": "python",
   "pygments_lexer": "ipython3",
   "version": "3.8.10"
  },
  "vscode": {
   "interpreter": {
    "hash": "916dbcbb3f70747c44a77c7bcd40155683ae19c65e1c03b4aa3499c5328201f1"
   }
  }
 },
 "nbformat": 4,
 "nbformat_minor": 5
}
