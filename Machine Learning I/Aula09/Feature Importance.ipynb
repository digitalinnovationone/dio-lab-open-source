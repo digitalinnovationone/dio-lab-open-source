{
 "cells": [
  {
   "cell_type": "markdown",
   "id": "85d05017",
   "metadata": {},
   "source": [
    "# Feature Importance"
   ]
  },
  {
   "cell_type": "markdown",
   "id": "b4a82529",
   "metadata": {},
   "source": [
    "Exercício com o dataset house prices"
   ]
  },
  {
   "cell_type": "code",
   "execution_count": 39,
   "id": "0de9b8aa",
   "metadata": {
    "ExecuteTime": {
     "end_time": "2022-05-26T23:18:52.572712Z",
     "start_time": "2022-05-26T23:18:52.560743Z"
    }
   },
   "outputs": [],
   "source": [
    "# importar as bibliotecas\n",
    "import pandas as pd\n",
    "import numpy as np\n",
    "from sklearn.model_selection import train_test_split\n",
    "from sklearn.ensemble import RandomForestRegressor\n",
    "\n",
    "pd.options.display.max_columns=100"
   ]
  },
  {
   "cell_type": "code",
   "execution_count": 38,
   "id": "6bc6e521",
   "metadata": {
    "ExecuteTime": {
     "end_time": "2022-05-26T23:14:03.632925Z",
     "start_time": "2022-05-26T23:14:03.612980Z"
    }
   },
   "outputs": [
    {
     "name": "stdout",
     "output_type": "stream",
     "text": [
      "1.4.2\n",
      "1.0.2\n"
     ]
    }
   ],
   "source": [
    "# Requirements\n",
    "import sklearn\n",
    "print(pd.__version__)\n",
    "print(sklearn.__version__)"
   ]
  },
  {
   "cell_type": "code",
   "execution_count": 5,
   "id": "25dfa3ac",
   "metadata": {
    "ExecuteTime": {
     "end_time": "2022-05-26T22:36:03.121825Z",
     "start_time": "2022-05-26T22:36:03.110868Z"
    }
   },
   "outputs": [],
   "source": [
    "# Objetivo:\n",
    "\n",
    "# Determinar o preço de uma casa a partir de muitas variáveis ----> problema de regressão (SalePrice)"
   ]
  },
  {
   "cell_type": "code",
   "execution_count": 2,
   "id": "86349214",
   "metadata": {
    "ExecuteTime": {
     "end_time": "2022-05-26T22:33:36.428233Z",
     "start_time": "2022-05-26T22:33:36.340467Z"
    }
   },
   "outputs": [],
   "source": [
    "# Carregando o dataset\n",
    "\n",
    "df = pd.read_csv('../datasets/house_prices.csv')"
   ]
  },
  {
   "cell_type": "code",
   "execution_count": 12,
   "id": "bd962674",
   "metadata": {
    "ExecuteTime": {
     "end_time": "2022-05-26T22:41:34.657901Z",
     "start_time": "2022-05-26T22:41:34.648918Z"
    }
   },
   "outputs": [],
   "source": [
    "# EDA\n",
    "\n",
    "# Inspeciona os dados (info, shape, type, transformação para data)\n",
    "# dados nulos (faltantes), duplicados, distribuição, média, mediana, desvio padrão, correlação, outiliers, \n",
    "# gráficos (inclusive boxplot), dependência"
   ]
  },
  {
   "cell_type": "code",
   "execution_count": 23,
   "id": "1b90f353",
   "metadata": {
    "ExecuteTime": {
     "end_time": "2022-05-26T22:47:22.187871Z",
     "start_time": "2022-05-26T22:47:22.175390Z"
    }
   },
   "outputs": [],
   "source": [
    "# para esse exercício, vamos usar apenas colunas numéricas e tirar qualquer coluna que tenha algum valor faltante\n",
    "\n",
    "df = df.select_dtypes(include=[np.number])\n",
    "df.dropna(axis='columns', how='any', inplace=True)\n"
   ]
  },
  {
   "cell_type": "code",
   "execution_count": 31,
   "id": "652347b3",
   "metadata": {
    "ExecuteTime": {
     "end_time": "2022-05-26T23:03:14.652555Z",
     "start_time": "2022-05-26T23:03:14.633607Z"
    }
   },
   "outputs": [],
   "source": [
    "# Determine quem é o target e quem são as features\n",
    "\n",
    "X = df.drop(columns=['SalePrice','Id']) # feature OU\n",
    "# X = df[['MSSubClass', 'LotArea', 'OverallQual', 'OverallCond',\n",
    "#        'YearBuilt', 'YearRemodAdd', 'BsmtFinSF1', 'BsmtFinSF2', 'BsmtUnfSF',\n",
    "#        'TotalBsmtSF', '1stFlrSF', '2ndFlrSF', 'LowQualFinSF', 'GrLivArea',\n",
    "#        'BsmtFullBath', 'BsmtHalfBath', 'FullBath', 'HalfBath', 'BedroomAbvGr',\n",
    "#        'KitchenAbvGr', 'TotRmsAbvGrd', 'Fireplaces', 'GarageCars',\n",
    "#        'GarageArea', 'WoodDeckSF', 'OpenPorchSF', 'EnclosedPorch', '3SsnPorch',\n",
    "#        'ScreenPorch', 'PoolArea', 'MiscVal', 'MoSold', 'YrSold']] OU\n",
    "# X = df.iloc[:,1:-1]\n",
    "y = df['SalePrice'] # target OU\n",
    "# y = df.SalePrice "
   ]
  },
  {
   "cell_type": "code",
   "execution_count": 33,
   "id": "3642a3da",
   "metadata": {
    "ExecuteTime": {
     "end_time": "2022-05-26T23:09:51.811292Z",
     "start_time": "2022-05-26T23:09:51.802071Z"
    }
   },
   "outputs": [],
   "source": [
    "# Particionar os dados em treino e teste (e/ou validação)\n",
    "\n",
    "X_train, X_test, y_train, y_test = train_test_split(X, y, train_size=0.8, random_state=42)\n",
    "\n",
    "# é interessante dar uma olhada nos dados depois do split"
   ]
  },
  {
   "cell_type": "code",
   "execution_count": 41,
   "id": "406a7df8",
   "metadata": {
    "ExecuteTime": {
     "end_time": "2022-05-26T23:21:54.209202Z",
     "start_time": "2022-05-26T23:21:52.378737Z"
    }
   },
   "outputs": [
    {
     "data": {
      "text/plain": [
       "RandomForestRegressor(random_state=42)"
      ]
     },
     "execution_count": 41,
     "metadata": {},
     "output_type": "execute_result"
    }
   ],
   "source": [
    "# Modelo -> instanciar e criar o objeto\n",
    "\n",
    "rf = RandomForestRegressor(random_state=42)\n",
    "\n",
    "# Treinar --> FIT\n",
    "rf.fit(X_train, y_train)"
   ]
  },
  {
   "cell_type": "code",
   "execution_count": 42,
   "id": "07eef929",
   "metadata": {
    "ExecuteTime": {
     "end_time": "2022-05-26T23:24:01.462275Z",
     "start_time": "2022-05-26T23:24:01.371518Z"
    }
   },
   "outputs": [],
   "source": [
    "# Avaliar --> predict (O ideal é fazer nos dados de treino e teste para avaliar underfitting e overfitting)\n",
    "\n",
    "y_pred_train = rf.predict(X_train)\n",
    "y_pred_test = rf.predict(X_test)\n",
    "\n",
    "# Não vamos fazer matriz de confusão pois só é usada para classificação\n",
    "# Usar r2, mse, mae, e todos os erros que achar interessante"
   ]
  },
  {
   "cell_type": "code",
   "execution_count": 44,
   "id": "3d14154c",
   "metadata": {
    "ExecuteTime": {
     "end_time": "2022-05-26T23:25:09.123504Z",
     "start_time": "2022-05-26T23:25:08.958943Z"
    }
   },
   "outputs": [
    {
     "name": "stdout",
     "output_type": "stream",
     "text": [
      "0.9783243610922434\n",
      "0.8941815051693367\n"
     ]
    }
   ],
   "source": [
    "print(rf.score(X_train, y_train))\n",
    "print(rf.score(X_test, y_test))"
   ]
  },
  {
   "cell_type": "code",
   "execution_count": 46,
   "id": "0064a460",
   "metadata": {
    "ExecuteTime": {
     "end_time": "2022-05-26T23:26:46.563350Z",
     "start_time": "2022-05-26T23:26:46.549386Z"
    }
   },
   "outputs": [
    {
     "data": {
      "text/plain": [
       "Index(['MSSubClass', 'LotArea', 'OverallQual', 'OverallCond', 'YearBuilt',\n",
       "       'YearRemodAdd', 'BsmtFinSF1', 'BsmtFinSF2', 'BsmtUnfSF', 'TotalBsmtSF',\n",
       "       '1stFlrSF', '2ndFlrSF', 'LowQualFinSF', 'GrLivArea', 'BsmtFullBath',\n",
       "       'BsmtHalfBath', 'FullBath', 'HalfBath', 'BedroomAbvGr', 'KitchenAbvGr',\n",
       "       'TotRmsAbvGrd', 'Fireplaces', 'GarageCars', 'GarageArea', 'WoodDeckSF',\n",
       "       'OpenPorchSF', 'EnclosedPorch', '3SsnPorch', 'ScreenPorch', 'PoolArea',\n",
       "       'MiscVal', 'MoSold', 'YrSold'],\n",
       "      dtype='object')"
      ]
     },
     "execution_count": 46,
     "metadata": {},
     "output_type": "execute_result"
    }
   ],
   "source": [
    "X.columns"
   ]
  },
  {
   "cell_type": "markdown",
   "id": "804c1e0d",
   "metadata": {},
   "source": [
    "**FEATURE IMPORTANCE**"
   ]
  },
  {
   "cell_type": "markdown",
   "id": "1774b069",
   "metadata": {},
   "source": [
    "Feature importance do random forest mostra as features que tiveram maior peso nos splits das árvores com relação ao target"
   ]
  },
  {
   "cell_type": "code",
   "execution_count": 47,
   "id": "05860585",
   "metadata": {
    "ExecuteTime": {
     "end_time": "2022-05-26T23:28:30.047524Z",
     "start_time": "2022-05-26T23:28:29.990154Z"
    }
   },
   "outputs": [
    {
     "data": {
      "text/plain": [
       "array([4.02482873e-03, 2.28468057e-02, 5.63752817e-01, 5.56032788e-03,\n",
       "       2.14811018e-02, 1.24250177e-02, 3.57432040e-02, 1.17350227e-03,\n",
       "       6.64195331e-03, 3.86205846e-02, 3.19477190e-02, 3.72114244e-02,\n",
       "       1.26943751e-04, 1.27606597e-01, 1.33105087e-03, 2.03246848e-04,\n",
       "       6.34780802e-03, 1.33402717e-03, 2.14060001e-03, 1.14515941e-03,\n",
       "       8.64022859e-03, 4.11086622e-03, 1.40104171e-02, 2.04042387e-02,\n",
       "       6.61374433e-03, 9.77292483e-03, 1.02043817e-03, 6.51197458e-04,\n",
       "       3.73031576e-03, 1.34137195e-03, 1.37720381e-04, 5.50298732e-03,\n",
       "       2.39882951e-03])"
      ]
     },
     "execution_count": 47,
     "metadata": {},
     "output_type": "execute_result"
    }
   ],
   "source": [
    "# 33 colunas\n",
    "rf.feature_importances_"
   ]
  },
  {
   "cell_type": "code",
   "execution_count": 52,
   "id": "5dff44b2",
   "metadata": {
    "ExecuteTime": {
     "end_time": "2022-05-26T23:31:52.117519Z",
     "start_time": "2022-05-26T23:31:52.041175Z"
    }
   },
   "outputs": [
    {
     "data": {
      "text/html": [
       "<div>\n",
       "<style scoped>\n",
       "    .dataframe tbody tr th:only-of-type {\n",
       "        vertical-align: middle;\n",
       "    }\n",
       "\n",
       "    .dataframe tbody tr th {\n",
       "        vertical-align: top;\n",
       "    }\n",
       "\n",
       "    .dataframe thead th {\n",
       "        text-align: right;\n",
       "    }\n",
       "</style>\n",
       "<table border=\"1\" class=\"dataframe\">\n",
       "  <thead>\n",
       "    <tr style=\"text-align: right;\">\n",
       "      <th></th>\n",
       "      <th>importance</th>\n",
       "    </tr>\n",
       "  </thead>\n",
       "  <tbody>\n",
       "    <tr>\n",
       "      <th>OverallQual</th>\n",
       "      <td>0.563753</td>\n",
       "    </tr>\n",
       "    <tr>\n",
       "      <th>GrLivArea</th>\n",
       "      <td>0.127607</td>\n",
       "    </tr>\n",
       "    <tr>\n",
       "      <th>TotalBsmtSF</th>\n",
       "      <td>0.038621</td>\n",
       "    </tr>\n",
       "    <tr>\n",
       "      <th>2ndFlrSF</th>\n",
       "      <td>0.037211</td>\n",
       "    </tr>\n",
       "    <tr>\n",
       "      <th>BsmtFinSF1</th>\n",
       "      <td>0.035743</td>\n",
       "    </tr>\n",
       "    <tr>\n",
       "      <th>1stFlrSF</th>\n",
       "      <td>0.031948</td>\n",
       "    </tr>\n",
       "    <tr>\n",
       "      <th>LotArea</th>\n",
       "      <td>0.022847</td>\n",
       "    </tr>\n",
       "    <tr>\n",
       "      <th>YearBuilt</th>\n",
       "      <td>0.021481</td>\n",
       "    </tr>\n",
       "    <tr>\n",
       "      <th>GarageArea</th>\n",
       "      <td>0.020404</td>\n",
       "    </tr>\n",
       "    <tr>\n",
       "      <th>GarageCars</th>\n",
       "      <td>0.014010</td>\n",
       "    </tr>\n",
       "    <tr>\n",
       "      <th>YearRemodAdd</th>\n",
       "      <td>0.012425</td>\n",
       "    </tr>\n",
       "    <tr>\n",
       "      <th>OpenPorchSF</th>\n",
       "      <td>0.009773</td>\n",
       "    </tr>\n",
       "    <tr>\n",
       "      <th>TotRmsAbvGrd</th>\n",
       "      <td>0.008640</td>\n",
       "    </tr>\n",
       "    <tr>\n",
       "      <th>BsmtUnfSF</th>\n",
       "      <td>0.006642</td>\n",
       "    </tr>\n",
       "    <tr>\n",
       "      <th>WoodDeckSF</th>\n",
       "      <td>0.006614</td>\n",
       "    </tr>\n",
       "    <tr>\n",
       "      <th>FullBath</th>\n",
       "      <td>0.006348</td>\n",
       "    </tr>\n",
       "    <tr>\n",
       "      <th>OverallCond</th>\n",
       "      <td>0.005560</td>\n",
       "    </tr>\n",
       "    <tr>\n",
       "      <th>MoSold</th>\n",
       "      <td>0.005503</td>\n",
       "    </tr>\n",
       "    <tr>\n",
       "      <th>Fireplaces</th>\n",
       "      <td>0.004111</td>\n",
       "    </tr>\n",
       "    <tr>\n",
       "      <th>MSSubClass</th>\n",
       "      <td>0.004025</td>\n",
       "    </tr>\n",
       "    <tr>\n",
       "      <th>ScreenPorch</th>\n",
       "      <td>0.003730</td>\n",
       "    </tr>\n",
       "    <tr>\n",
       "      <th>YrSold</th>\n",
       "      <td>0.002399</td>\n",
       "    </tr>\n",
       "    <tr>\n",
       "      <th>BedroomAbvGr</th>\n",
       "      <td>0.002141</td>\n",
       "    </tr>\n",
       "    <tr>\n",
       "      <th>PoolArea</th>\n",
       "      <td>0.001341</td>\n",
       "    </tr>\n",
       "    <tr>\n",
       "      <th>HalfBath</th>\n",
       "      <td>0.001334</td>\n",
       "    </tr>\n",
       "    <tr>\n",
       "      <th>BsmtFullBath</th>\n",
       "      <td>0.001331</td>\n",
       "    </tr>\n",
       "    <tr>\n",
       "      <th>BsmtFinSF2</th>\n",
       "      <td>0.001174</td>\n",
       "    </tr>\n",
       "    <tr>\n",
       "      <th>KitchenAbvGr</th>\n",
       "      <td>0.001145</td>\n",
       "    </tr>\n",
       "    <tr>\n",
       "      <th>EnclosedPorch</th>\n",
       "      <td>0.001020</td>\n",
       "    </tr>\n",
       "    <tr>\n",
       "      <th>3SsnPorch</th>\n",
       "      <td>0.000651</td>\n",
       "    </tr>\n",
       "    <tr>\n",
       "      <th>BsmtHalfBath</th>\n",
       "      <td>0.000203</td>\n",
       "    </tr>\n",
       "    <tr>\n",
       "      <th>MiscVal</th>\n",
       "      <td>0.000138</td>\n",
       "    </tr>\n",
       "    <tr>\n",
       "      <th>LowQualFinSF</th>\n",
       "      <td>0.000127</td>\n",
       "    </tr>\n",
       "  </tbody>\n",
       "</table>\n",
       "</div>"
      ],
      "text/plain": [
       "               importance\n",
       "OverallQual      0.563753\n",
       "GrLivArea        0.127607\n",
       "TotalBsmtSF      0.038621\n",
       "2ndFlrSF         0.037211\n",
       "BsmtFinSF1       0.035743\n",
       "1stFlrSF         0.031948\n",
       "LotArea          0.022847\n",
       "YearBuilt        0.021481\n",
       "GarageArea       0.020404\n",
       "GarageCars       0.014010\n",
       "YearRemodAdd     0.012425\n",
       "OpenPorchSF      0.009773\n",
       "TotRmsAbvGrd     0.008640\n",
       "BsmtUnfSF        0.006642\n",
       "WoodDeckSF       0.006614\n",
       "FullBath         0.006348\n",
       "OverallCond      0.005560\n",
       "MoSold           0.005503\n",
       "Fireplaces       0.004111\n",
       "MSSubClass       0.004025\n",
       "ScreenPorch      0.003730\n",
       "YrSold           0.002399\n",
       "BedroomAbvGr     0.002141\n",
       "PoolArea         0.001341\n",
       "HalfBath         0.001334\n",
       "BsmtFullBath     0.001331\n",
       "BsmtFinSF2       0.001174\n",
       "KitchenAbvGr     0.001145\n",
       "EnclosedPorch    0.001020\n",
       "3SsnPorch        0.000651\n",
       "BsmtHalfBath     0.000203\n",
       "MiscVal          0.000138\n",
       "LowQualFinSF     0.000127"
      ]
     },
     "execution_count": 52,
     "metadata": {},
     "output_type": "execute_result"
    }
   ],
   "source": [
    "feature_importance = pd.DataFrame(rf.feature_importances_, index=X_train.columns, columns=['importance']).sort_values('importance', ascending=False)\n",
    "feature_importance"
   ]
  },
  {
   "cell_type": "code",
   "execution_count": 57,
   "id": "d0fabb0e",
   "metadata": {
    "ExecuteTime": {
     "end_time": "2022-05-26T23:36:41.170153Z",
     "start_time": "2022-05-26T23:36:39.996049Z"
    }
   },
   "outputs": [
    {
     "data": {
      "text/plain": [
       "<AxesSubplot:xlabel='importance', ylabel='Features'>"
      ]
     },
     "execution_count": 57,
     "metadata": {},
     "output_type": "execute_result"
    },
    {
     "data": {
      "image/png": "[encoded data removed]",
      "text/plain": [
       "<Figure size 1008x576 with 1 Axes>"
      ]
     },
     "metadata": {
      "needs_background": "light"
     },
     "output_type": "display_data"
    }
   ],
   "source": [
    "import matplotlib.pyplot as plt\n",
    "import seaborn as sns\n",
    "\n",
    "\n",
    "plt.figure(figsize=(14,8))\n",
    "sns.barplot(x='importance', y='Features', data=feature_importance.reset_index().rename(columns={'index':'Features'}))"
   ]
  },
  {
   "cell_type": "code",
   "execution_count": 70,
   "id": "9bea3f29",
   "metadata": {
    "ExecuteTime": {
     "end_time": "2022-05-26T23:44:09.915251Z",
     "start_time": "2022-05-26T23:44:07.947528Z"
    }
   },
   "outputs": [
    {
     "data": {
      "text/plain": [
       "RandomForestRegressor(random_state=42)"
      ]
     },
     "execution_count": 70,
     "metadata": {},
     "output_type": "execute_result"
    }
   ],
   "source": [
    "# retreinando com algumas variáveis mais importantes\n",
    "\n",
    "X_train[feature_importance.index[:15]] #usando as n features mais importantes\n",
    "\n",
    "rf.fit(X_train[feature_importance.index[:15]], y_train)"
   ]
  },
  {
   "cell_type": "code",
   "execution_count": 71,
   "id": "52fee29d",
   "metadata": {
    "ExecuteTime": {
     "end_time": "2022-05-26T23:44:10.373078Z",
     "start_time": "2022-05-26T23:44:10.253401Z"
    }
   },
   "outputs": [
    {
     "name": "stdout",
     "output_type": "stream",
     "text": [
      "0.9782451393978218\n",
      "0.895574166389338\n"
     ]
    }
   ],
   "source": [
    "print(rf.score(X_train[feature_importance.index[:15]], y_train))\n",
    "print(rf.score(X_test[feature_importance.index[:15]], y_test))"
   ]
  },
  {
   "cell_type": "code",
   "execution_count": 72,
   "id": "997986fc",
   "metadata": {
    "ExecuteTime": {
     "end_time": "2022-05-26T23:48:03.947963Z",
     "start_time": "2022-05-26T23:48:03.937008Z"
    }
   },
   "outputs": [],
   "source": [
    "# Para casa: Ver a feature Importance XGBoost Classificação"
   ]
  }
 ],
 "metadata": {
  "kernelspec": {
   "display_name": "Python 3 (ipykernel)",
   "language": "python",
   "name": "python3"
  },
  "language_info": {
   "codemirror_mode": {
    "name": "ipython",
    "version": 3
   },
   "file_extension": ".py",
   "mimetype": "text/x-python",
   "name": "python",
   "nbconvert_exporter": "python",
   "pygments_lexer": "ipython3",
   "version": "3.10.4"
  },
  "varInspector": {
   "cols": {
    "lenName": 16,
    "lenType": 16,
    "lenVar": 40
   },
   "kernels_config": {
    "python": {
     "delete_cmd_postfix": "",
     "delete_cmd_prefix": "del ",
     "library": "var_list.py",
     "varRefreshCmd": "print(var_dic_list())"
    },
    "r": {
     "delete_cmd_postfix": ") ",
     "delete_cmd_prefix": "rm(",
     "library": "var_list.r",
     "varRefreshCmd": "cat(var_dic_list()) "
    }
   },
   "position": {
    "height": "188.85px",
    "left": "1147.2px",
    "right": "20px",
    "top": "122px",
    "width": "350px"
   },
   "types_to_exclude": [
    "module",
    "function",
    "builtin_function_or_method",
    "instance",
    "_Feature"
   ],
   "window_display": false
  }
 },
 "nbformat": 4,
 "nbformat_minor": 5
}
