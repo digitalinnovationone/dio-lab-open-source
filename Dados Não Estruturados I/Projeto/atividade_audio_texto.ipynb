{
 "cells": [
  {
   "cell_type": "markdown",
   "id": "8694f1af",
   "metadata": {},
   "source": [
    "### Atividade processamento de audio\n",
    "\n",
    "* Objetivo: consolidar conhecimentos de dados não estruturados para  áudio\n",
    "* Escolha uma base de dados de áudio \n",
    "  1. Sugestões\n",
    "    * [Urbansound](https://urbansounddataset.weebly.com/urbansound8k.html)\n",
    "    * [Classificação de generos musicais](https://www.kaggle.com/datasets/andradaolteanu/gtzan-dataset-music-genre-classification)\n",
    "    \n",
    "OBS. Caso deseje, o aluno pode escolher outra base de dados de áudio, desde que seja de classificação\n",
    "\n",
    "* Escolha duas amostras da base de dados escolhida e plote o espectograma. Para cada amostra plote o sinal e fale um pouco sobre suas características (amplitude, tempo total, taxa de amostragem)\n",
    "* Gere um espectograma ou espectograma na escala MEL destas duas amostras, o que você observa?\n",
    "* Extraia características do sinal utilizando a biblioteca librosa. Dentre as características, sugere-se que o aluno escolha algumas das features listadas abaixo: (não precisa trabalhar com todas)\n",
    "\n",
    "| Feature            | Descricao                                                                                                                                                                |\n",
    "|--------------------|--------------------------------------------------------------------------------------------------------------------------------------------------------------------------|\n",
    "| Zero Crossing Rate | A taxa de mudanças do sinal durante a duração de um determinado quadro.                                                                                                  |\n",
    "| Energy             | A soma dos quadrados dos valores do sinal, normalizados pelo respectivo comprimento do quadro.                                                                           |\n",
    "| Entropy of Energy  | A entropia das energias normalizadas dos subquadros. Pode ser interpretado como uma medida de mudanças abruptas                                                          |\n",
    "| Spectral Centroid  | O centro de gravidade do espectro.                                                                                                                                       |\n",
    "| Spectral Spread    | O segundo momento central do espectro.                                                                                                                                   |\n",
    "| Spectral Entropy   | Entropia das energias espectrais normalizadas para um conjunto de subquadros                                                                                             |\n",
    "| Spectral Flux      | A diferença quadrada entre as magnitudes normalizadas dos espectros dos dois quadros sucessivos.                                                                         |\n",
    "| Spectral Rolloff   | A frequência abaixo da qual se concentra 90% da distribuição de magnitude do espectro.                                                                                   |\n",
    "| MFCC               | Mel Frequency Cepstral Coefficients formam uma representação cepstral onde as bandas de frequência não são lineares, mas sim distribuídas de acordo com a escala mel.    |\n",
    "| Chroma Vector      | Uma representação de 12 elementos da energia espectral onde as caixas representam as 12 classes de alturas iguais de música do tipo ocidental (espaçamento de semitons). |\n",
    "\n",
    "* Treine um classificador utilizando como entrada as características do sinal extraídas anteriormente. Qual o desempenho deste classificador? (utilizar acurácia e outra métrica de escolha do aluno como F1 score, curva ROC, sensibilidade e especificidade)\n",
    "* Bônus: ao invés de trabalhar com as features extraídas, poderíamos treinar um modelo colocando como entrada apenas imagens do espectograma? Treine o mesmo classificador para este caso e compare os resultados"
   ]
  },
  {
   "cell_type": "code",
   "execution_count": null,
   "id": "e1c30dd0",
   "metadata": {},
   "outputs": [],
   "source": []
  }
 ],
 "metadata": {
  "kernelspec": {
   "display_name": "Python 3 (ipykernel)",
   "language": "python",
   "name": "python3"
  },
  "language_info": {
   "codemirror_mode": {
    "name": "ipython",
    "version": 3
   },
   "file_extension": ".py",
   "mimetype": "text/x-python",
   "name": "python",
   "nbconvert_exporter": "python",
   "pygments_lexer": "ipython3",
   "version": "3.9.5"
  }
 },
 "nbformat": 4,
 "nbformat_minor": 5
}
