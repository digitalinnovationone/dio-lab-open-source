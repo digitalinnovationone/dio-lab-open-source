{
 "cells": [
  {
   "cell_type": "markdown",
   "id": "b7cd226d",
   "metadata": {},
   "source": [
    "### Projeto - Classificação de imagens\n",
    "\n",
    "Na disciplina são vistas diferentes técnicas de preprocessamento, bem como algoritmos de extração de features e como podemos utilizar técnicas de aprendizagem de máquina para classificar imagens.\n",
    "\n",
    "Este projeto tem como objetivo consolidar os conhecimentos vistos na disciplina aplicando-os em um determinado problema"
   ]
  },
  {
   "cell_type": "markdown",
   "id": "4a17ba0e",
   "metadata": {},
   "source": [
    "### A Base de dados\n",
    "\n",
    "Para desenvolver o projeto, será utilizado o dataset [The Oxford-IIIT Pet Dataset](https://www.robots.ox.ac.uk/~vgg/data/pets/). Este dataset possui diferentes raças de cachorros e gatos, conforme ilustrado na figura baixo.\n",
    "\n",
    "![Title](breeds.png)\n",
    "\n",
    "Para essa base de dados,os conceitos vistos na disciplina deverão ser realizados para desenvolver duas soluções:\n",
    "\n",
    "1 - Um classificador de gatos e cachorros\n",
    "\n",
    "2 (bônus) - Um classificador de raças de animais \n",
    "\n",
    "OBS: O ponto 2, a princípio, deverá ser realizado com todas as raças de gatos e cachorros. Entretanto, caso desejem, podem dividir o problema em dois: uma para raças de gatos e outra para raças de cachorros. "
   ]
  },
  {
   "cell_type": "markdown",
   "id": "acd6e11c",
   "metadata": {},
   "source": [
    "### Solução 1 - Classificador de gatos e cachorros\n",
    "\n",
    "Para implementação dessa solução, as seguintes etapas deverão ser realizadas:\n",
    "\n",
    "1 - Leitura da base de dados utilizando a biblioteca OpenCV\n",
    "\n",
    "2 - Visualização de imagens do dataset. Como você avalia as imagens desta base de dados para cada classe? O quão difícil você considera esse problema visualmente?\n",
    "\n",
    "3 - Quais as dimensões e quantos canais de cores possuem a imagem?\n",
    "\n",
    "4 - Implemente um classificador para este problema. Qual o desempenho deste classificador? (escolha acurácia e outra métrica como F1 score, curva ROC, matriz de confusão)\n",
    "\n",
    "5 - Preprocesse as imagens do dataset e realize novamente a etapa 4, compare os resultados com os obtidos anteriormente. Dentre as técnicas de pré-processamento, pode-se passar a imagem para tons de cinza, implementar filtros de aguçamento, suavização ou operações como equalização do histograma.\n",
    "\n",
    "**Bônus:** Utilize um extrator de características (como SIFT ou SURF) e treine o classificador após este passo. O que você observa no desempenho do algoritmo?  "
   ]
  },
  {
   "cell_type": "markdown",
   "id": "a708bf92",
   "metadata": {},
   "source": [
    "### Solução 2 - Classificar raças de animais\n",
    "\n",
    "Repita os passos 1 a 5 da solução 1, porém, ao invés de um problema binário, a base de dados será utilizada para classificar raças de animais, sendo cada raça uma classe. "
   ]
  },
  {
   "cell_type": "code",
   "execution_count": null,
   "id": "f5ddc7ad",
   "metadata": {},
   "outputs": [],
   "source": []
  }
 ],
 "metadata": {
  "kernelspec": {
   "display_name": "Python 3 (ipykernel)",
   "language": "python",
   "name": "python3"
  },
  "language_info": {
   "codemirror_mode": {
    "name": "ipython",
    "version": 3
   },
   "file_extension": ".py",
   "mimetype": "text/x-python",
   "name": "python",
   "nbconvert_exporter": "python",
   "pygments_lexer": "ipython3",
   "version": "3.10.4"
  }
 },
 "nbformat": 4,
 "nbformat_minor": 5
}
