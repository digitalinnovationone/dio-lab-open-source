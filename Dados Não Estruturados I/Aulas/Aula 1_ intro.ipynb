{
 "cells": [
  {
   "cell_type": "markdown",
   "id": "7387ec77",
   "metadata": {},
   "source": [
    "### Aula 1 - Introdução a dados não estruturados\n",
    "\n",
    "O que são? De que vivem?\n",
    "* Dados não tabulares em essência\n",
    "* Cada \"coluna\" pode conter diferentes tipos de informações\n",
    "\n",
    "<img src=https://cdn.ttgtmedia.com/rms/onlineImages/business_analytics-unstructured_data_mobile.png width=500>\n",
    "\n",
    "Cuidados:\n",
    "* Nem tudo é feature! Precisamos manipular/processar os nossos dados para que os padrões tornem-se mais perceptíveis\n",
    "\n",
    "* Pré-processamento de imagem é utilizado para fazer esta manipulação\n",
    "\n",
    "<img src=https://www.xnview.com/wiki/images/e/e7/Filter-1.png width=500>\n",
    "\n",
    "* Pré-processamento de texto\n",
    "\n",
    "<img src=https://miro.medium.com/max/1024/1*pzjECYWP8WOWhwfCjebZVw.png width=600>\n",
    "\n",
    "* Pré-processamento de áudio \n",
    "\n",
    "<img src=https://www.researchgate.net/profile/Andrzej-Nowicki/publication/289330957/figure/fig2/AS:868230386171910@1584013663864/Basic-setup-of-analog-signal-filtering.png width=500>"
   ]
  },
  {
   "cell_type": "markdown",
   "id": "1355c269",
   "metadata": {},
   "source": [
    "### Alguns exemplos de aplicações reais\n",
    "\n",
    "- [Visão computacional aplicada a carros autônomos](https://www.youtube.com/watch?v=HS1wV9NMLr8&ab_channel=NVIDIA) - aqui, lidamos com imagens, em modelos de classificação dinâmicos que devem responder em tempo real!\n",
    "<br><br>\n",
    "- [Visão computacional em esporte](https://www.youtube.com/watch?v=2oaWVjeyPK0&ab_channel=ZUZEX) - mais um exemplo de modelo dinâmico que trabalhar com imagens, com diversas finalidades. Imagine as aplicações em esporte e entretenimento (realidade aumentada, por exemplo).\n",
    "<br><br>\n",
    "- [Google's AI Assistant faz chamada de telefone](https://www.youtube.com/watch?v=JvbHu_bVa_g&ab_channel=MashableDeals) - aqui, estamos lidando com áudio e linguagem natural, tanto identificação quanto geração!\n",
    "<br><br>\n",
    "- [GPT3](https://beta.openai.com/examples) - uma rede neural gigantesca (~175 bilhões de parâmetros!) utilizada para diversos fins em linguagem natural, sobretudo geração de textos.\n",
    "<br><br>\n",
    "- [This \"X\" does not exist](https://thisxdoesnotexist.com/) - geração de imagens (de mais diferentes tipos e contextos), utilizando [GANs](https://machinelearningmastery.com/what-are-generative-adversarial-networks-gans/)\n",
    "<br><br>\n",
    "- [Style transfer](https://www.google.com/search?q=deep+learning+style+transfer&sxsrf=ALiCzsYCK0afvqPvPvHmSCtxrRqopj8HJQ:1659459103728&source=lnms&tbm=isch&sa=X&ved=2ahUKEwiG-pXzzqj5AhVepZUCHSeaDicQ_AUoAXoECAQQAw&cshid=1659459140125422&biw=1455&bih=717&dpr=1.1) - modificação de uma imagem original pra ter o estilo de uma segunda imagem.\n",
    "<br><br>\n",
    "- [DALL-E](https://openai.com/blog/dall-e/) - geração de imagens a partir de uma descrição textual."
   ]
  }
 ],
 "metadata": {
  "kernelspec": {
   "display_name": "Python 3 (ipykernel)",
   "language": "python",
   "name": "python3"
  },
  "language_info": {
   "codemirror_mode": {
    "name": "ipython",
    "version": 3
   },
   "file_extension": ".py",
   "mimetype": "text/x-python",
   "name": "python",
   "nbconvert_exporter": "python",
   "pygments_lexer": "ipython3",
   "version": "3.9.5"
  }
 },
 "nbformat": 4,
 "nbformat_minor": 5
}
