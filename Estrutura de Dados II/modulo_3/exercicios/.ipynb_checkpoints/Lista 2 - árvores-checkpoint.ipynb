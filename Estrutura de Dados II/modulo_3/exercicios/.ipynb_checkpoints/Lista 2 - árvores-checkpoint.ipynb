{
 "cells": [
  {
   "cell_type": "markdown",
   "metadata": {},
   "source": [
    "# Lista 2 - Árvores\n",
    "\n",
    "---\n",
    "\n"
   ]
  },
  {
   "cell_type": "markdown",
   "metadata": {},
   "source": [
    "**1)** Crie a árvore genealógica representada pela figura abaixo, utilizando a estrutura de dados Árvore. Em seguida, crie um método que recebe o nome de uma pessoa e informa se existe um integrante da família com esse nome (True) ou não (False).\n",
    "\n",
    "<img src=\"https://img.elo7.com.br/product/original/2BEE9E8/arvore-genealogica-minha-familia-arvoredafamilia.jpg\" width=\"30%\" align=left />"
   ]
  },
  {
   "cell_type": "code",
   "execution_count": null,
   "metadata": {},
   "outputs": [],
   "source": []
  },
  {
   "cell_type": "markdown",
   "metadata": {},
   "source": [
    "__________"
   ]
  },
  {
   "cell_type": "markdown",
   "metadata": {},
   "source": [
    "**2)** Amplie a classe da árvore genealógica criada na questão anterior, adicionando um método que nos permita informar o nome de uma pessoa da família e, a partir disso, retorne quem é o ancestral (pai/mãe) dessa pessoa."
   ]
  },
  {
   "cell_type": "code",
   "execution_count": null,
   "metadata": {},
   "outputs": [],
   "source": []
  },
  {
   "cell_type": "markdown",
   "metadata": {},
   "source": [
    "__________"
   ]
  },
  {
   "cell_type": "markdown",
   "metadata": {},
   "source": [
    "**3)** A startup ABC co. possui 4 funcionários, em que 2 desenvolvedores se reportam a um gerente, que, por sua vez, se reporta a um diretor. Sabendo que o colaborador possui uma ficha contendo um número de matrícula, um nome, um salário mensal e o seu cargo, construa uma árvore que apresente a hierarquia da empresa e uma função que retorne um dicionário em que a chave são os nomes do funcionários e o valor são seus salários, organizados em ordem decrescente de salário."
   ]
  },
  {
   "cell_type": "code",
   "execution_count": null,
   "metadata": {},
   "outputs": [],
   "source": []
  }
 ],
 "metadata": {
  "kernelspec": {
   "display_name": "Python 3",
   "language": "python",
   "name": "python3"
  },
  "language_info": {
   "codemirror_mode": {
    "name": "ipython",
    "version": 3
   },
   "file_extension": ".py",
   "mimetype": "text/x-python",
   "name": "python",
   "nbconvert_exporter": "python",
   "pygments_lexer": "ipython3",
   "version": "3.8.3"
  }
 },
 "nbformat": 4,
 "nbformat_minor": 4
}
