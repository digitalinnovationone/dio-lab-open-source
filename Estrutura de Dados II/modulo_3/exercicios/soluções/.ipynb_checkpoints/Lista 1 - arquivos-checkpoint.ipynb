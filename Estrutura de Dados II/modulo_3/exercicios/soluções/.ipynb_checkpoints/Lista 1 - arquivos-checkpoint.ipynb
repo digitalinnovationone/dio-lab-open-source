{
 "cells": [
  {
   "cell_type": "markdown",
   "metadata": {},
   "source": [
    "# Lista 7 - arquivos"
   ]
  },
  {
   "cell_type": "markdown",
   "metadata": {},
   "source": [
    "1. Faça um programa que imprima as linhas do arquivo alunos.csv."
   ]
  },
  {
   "cell_type": "code",
   "execution_count": 1,
   "metadata": {
    "ExecuteTime": {
     "end_time": "2021-12-13T19:40:41.523132Z",
     "start_time": "2021-12-13T19:40:41.500147Z"
    }
   },
   "outputs": [],
   "source": [
    "import csv"
   ]
  },
  {
   "cell_type": "code",
   "execution_count": 4,
   "metadata": {
    "ExecuteTime": {
     "end_time": "2021-12-13T19:41:05.087577Z",
     "start_time": "2021-12-13T19:41:05.077603Z"
    }
   },
   "outputs": [
    {
     "name": "stdout",
     "output_type": "stream",
     "text": [
      "RA;Nome;Frequencia;Prova_1;Prova_2;Prova_3;Prova_4\n",
      "110201;Antonio Carlos;20;6.5;8.5;7;6\n",
      "110212;Ana Beatriz;20;7;7;7;8\n",
      "110218;Carlos Vernes;17;7;7;7;7\n",
      "110307;Francisco Cunha;20;9;8.5;8.5;10\n",
      "110275;Sandra Rosa;15;6.5;7.5;7;7\n",
      "110281;Juliana Arruda;18;7.5;7;7.5;8\n",
      "110301;Joao Galo;20;5;6.5;7;5\n",
      "110263;José Valente;20;10;10;10;10\n",
      "110271;Maria Ferreira;19;9.5;8;7;10\n",
      "110236;Adriana Tavares;20;8;8;8;8\n"
     ]
    }
   ],
   "source": [
    "f = open(\"alunos.csv\", \"r\", encoding=\"utf-8\")\n",
    "\n",
    "dados = f.read()\n",
    "\n",
    "f.close()\n",
    "\n",
    "print(dados)"
   ]
  },
  {
   "cell_type": "code",
   "execution_count": 5,
   "metadata": {
    "ExecuteTime": {
     "end_time": "2021-12-13T19:41:24.907529Z",
     "start_time": "2021-12-13T19:41:24.886541Z"
    }
   },
   "outputs": [
    {
     "name": "stdout",
     "output_type": "stream",
     "text": [
      "RA;Nome;Frequencia;Prova_1;Prova_2;Prova_3;Prova_4\n",
      "110201;Antonio Carlos;20;6.5;8.5;7;6\n",
      "110212;Ana Beatriz;20;7;7;7;8\n",
      "110218;Carlos Vernes;17;7;7;7;7\n",
      "110307;Francisco Cunha;20;9;8.5;8.5;10\n",
      "110275;Sandra Rosa;15;6.5;7.5;7;7\n",
      "110281;Juliana Arruda;18;7.5;7;7.5;8\n",
      "110301;Joao Galo;20;5;6.5;7;5\n",
      "110263;José Valente;20;10;10;10;10\n",
      "110271;Maria Ferreira;19;9.5;8;7;10\n",
      "110236;Adriana Tavares;20;8;8;8;8\n"
     ]
    }
   ],
   "source": [
    "with open(\"alunos.csv\", \"r\", encoding=\"utf-8\") as f:\n",
    "\n",
    "    dados = f.read()\n",
    "\n",
    "print(dados)"
   ]
  },
  {
   "cell_type": "markdown",
   "metadata": {},
   "source": [
    "\n",
    "2. Faça um programa que imprima as linhas do arquivo alunos.csv como\n",
    "listas.\n"
   ]
  },
  {
   "cell_type": "code",
   "execution_count": 10,
   "metadata": {
    "ExecuteTime": {
     "end_time": "2021-12-13T19:42:21.603285Z",
     "start_time": "2021-12-13T19:42:21.573302Z"
    }
   },
   "outputs": [
    {
     "name": "stdout",
     "output_type": "stream",
     "text": [
      "['RA', 'Nome', 'Frequencia', 'Prova_1', 'Prova_2', 'Prova_3', 'Prova_4']\n",
      "['110201', 'Antonio Carlos', '20', '6.5', '8.5', '7', '6']\n",
      "['110212', 'Ana Beatriz', '20', '7', '7', '7', '8']\n",
      "['110218', 'Carlos Vernes', '17', '7', '7', '7', '7']\n",
      "['110307', 'Francisco Cunha', '20', '9', '8.5', '8.5', '10']\n",
      "['110275', 'Sandra Rosa', '15', '6.5', '7.5', '7', '7']\n",
      "['110281', 'Juliana Arruda', '18', '7.5', '7', '7.5', '8']\n",
      "['110301', 'Joao Galo', '20', '5', '6.5', '7', '5']\n",
      "['110263', 'José Valente', '20', '10', '10', '10', '10']\n",
      "['110271', 'Maria Ferreira', '19', '9.5', '8', '7', '10']\n",
      "['110236', 'Adriana Tavares', '20', '8', '8', '8', '8']\n"
     ]
    }
   ],
   "source": [
    "f = open(\"alunos.csv\", \"r\", encoding=\"utf-8\")\n",
    "leitor = csv.reader(f, delimiter = ';', lineterminator = '\\n')\n",
    "\n",
    "for linha in leitor:\n",
    "    print(linha)\n",
    "\n",
    "f.close()"
   ]
  },
  {
   "cell_type": "code",
   "execution_count": 12,
   "metadata": {
    "ExecuteTime": {
     "end_time": "2021-12-13T19:42:33.470025Z",
     "start_time": "2021-12-13T19:42:33.446037Z"
    }
   },
   "outputs": [
    {
     "name": "stdout",
     "output_type": "stream",
     "text": [
      "['RA', 'Nome', 'Frequencia', 'Prova_1', 'Prova_2', 'Prova_3', 'Prova_4']\n",
      "['110201', 'Antonio Carlos', '20', '6.5', '8.5', '7', '6']\n",
      "['110212', 'Ana Beatriz', '20', '7', '7', '7', '8']\n",
      "['110218', 'Carlos Vernes', '17', '7', '7', '7', '7']\n",
      "['110307', 'Francisco Cunha', '20', '9', '8.5', '8.5', '10']\n",
      "['110275', 'Sandra Rosa', '15', '6.5', '7.5', '7', '7']\n",
      "['110281', 'Juliana Arruda', '18', '7.5', '7', '7.5', '8']\n",
      "['110301', 'Joao Galo', '20', '5', '6.5', '7', '5']\n",
      "['110263', 'José Valente', '20', '10', '10', '10', '10']\n",
      "['110271', 'Maria Ferreira', '19', '9.5', '8', '7', '10']\n",
      "['110236', 'Adriana Tavares', '20', '8', '8', '8', '8']\n"
     ]
    }
   ],
   "source": [
    "with open(\"alunos.csv\", \"r\", encoding=\"utf-8\") as f:\n",
    "    \n",
    "    leitor = csv.reader(f, delimiter = ';', lineterminator = '\\n')\n",
    "\n",
    "    for linha in leitor:\n",
    "\n",
    "        print(linha)\n"
   ]
  },
  {
   "cell_type": "markdown",
   "metadata": {},
   "source": [
    "\n",
    "3. Faça um programa que imprima os elementos da coluna ‘Nome’ do\n",
    "arquivo alunos.csv.\n"
   ]
  },
  {
   "cell_type": "code",
   "execution_count": 15,
   "metadata": {
    "ExecuteTime": {
     "end_time": "2021-12-13T19:43:42.262932Z",
     "start_time": "2021-12-13T19:43:42.229915Z"
    }
   },
   "outputs": [
    {
     "name": "stdout",
     "output_type": "stream",
     "text": [
      "Antonio Carlos\n",
      "Ana Beatriz\n",
      "Carlos Vernes\n",
      "Francisco Cunha\n",
      "Sandra Rosa\n",
      "Juliana Arruda\n",
      "Joao Galo\n",
      "JosÃ© Valente\n",
      "Maria Ferreira\n",
      "Adriana Tavares\n"
     ]
    }
   ],
   "source": [
    "f = open(\"alunos.csv\", \"r\")\n",
    "leitor = csv.reader(f, delimiter = ';', lineterminator = '\\n')\n",
    "\n",
    "leitor.__next__() # pula a primeira linha que é o cabeçalho\n",
    "\n",
    "for linha in leitor:\n",
    "    print(linha[1]) # Os nomes de cada aluno estão na coluna de índice 1 de cada linha\n",
    "    \n",
    "f.close()"
   ]
  },
  {
   "cell_type": "code",
   "execution_count": 16,
   "metadata": {
    "ExecuteTime": {
     "end_time": "2021-12-13T19:44:10.698534Z",
     "start_time": "2021-12-13T19:44:10.669052Z"
    }
   },
   "outputs": [
    {
     "name": "stdout",
     "output_type": "stream",
     "text": [
      "Antonio Carlos\n",
      "Ana Beatriz\n",
      "Carlos Vernes\n",
      "Francisco Cunha\n",
      "Sandra Rosa\n",
      "Juliana Arruda\n",
      "Joao Galo\n",
      "JosÃ© Valente\n",
      "Maria Ferreira\n",
      "Adriana Tavares\n"
     ]
    }
   ],
   "source": [
    "with open(\"alunos.csv\", \"r\") as f:\n",
    "    \n",
    "    leitor = csv.reader(f, delimiter = ';', lineterminator = '\\n')\n",
    "\n",
    "    leitor.__next__() # pula a primeira linha que é o cabeçalho\n",
    "\n",
    "    for linha in leitor:\n",
    "        print(linha[1]) # Os nomes de cada aluno estão na coluna de índice 1 de cada linha"
   ]
  },
  {
   "cell_type": "markdown",
   "metadata": {},
   "source": [
    "\n",
    "4. Faça um programa que copie os dados do arquivo alunos.csv para um arquivo chamado alunos2.csv.\n"
   ]
  },
  {
   "cell_type": "code",
   "execution_count": 20,
   "metadata": {
    "ExecuteTime": {
     "end_time": "2021-12-13T19:45:33.229117Z",
     "start_time": "2021-12-13T19:45:33.204910Z"
    }
   },
   "outputs": [],
   "source": [
    "arquivo_lido =  open(\"alunos.csv\", \"r\")\n",
    "leitor = csv.reader(arquivo_lido, delimiter = ';', lineterminator = '\\n')\n",
    "\n",
    "arquivo_criado = open(\"alunos2.csv\", \"w\")\n",
    "escritor = csv.writer(arquivo_criado, delimiter = ';', lineterminator = '\\n') #criando um escritor\n",
    "\n",
    "for linha in leitor:\n",
    "    escritor.writerow(linha)\n",
    "\n",
    "arquivo_lido.close()\n",
    "arquivo_criado.close()"
   ]
  },
  {
   "cell_type": "code",
   "execution_count": 21,
   "metadata": {
    "ExecuteTime": {
     "end_time": "2021-12-13T19:45:33.745157Z",
     "start_time": "2021-12-13T19:45:33.709130Z"
    }
   },
   "outputs": [],
   "source": [
    "with open(\"alunos.csv\", \"r\") as arquivo_lido:\n",
    "\n",
    "    leitor = csv.reader(arquivo_lido, delimiter = ';', lineterminator = '\\n')\n",
    "\n",
    "    with open(\"alunos2.csv\", \"w\") as arquivo_criado:\n",
    "\n",
    "        escritor = csv.writer(arquivo_criado, delimiter = ';', lineterminator = '\\n') #criando um escritor\n",
    "\n",
    "        for linha in leitor:\n",
    "            escritor.writerow(linha)"
   ]
  },
  {
   "cell_type": "markdown",
   "metadata": {},
   "source": [
    "\n",
    "5. Faça um programa que imprima o nome e a média de cada um dos\n",
    "alunos do arquivo alunos.csv\n"
   ]
  },
  {
   "cell_type": "code",
   "execution_count": 25,
   "metadata": {
    "ExecuteTime": {
     "end_time": "2021-12-13T19:47:24.405226Z",
     "start_time": "2021-12-13T19:47:24.381221Z"
    }
   },
   "outputs": [
    {
     "name": "stdout",
     "output_type": "stream",
     "text": [
      "Aluno(a): Antonio Carlos / Média: 7.0\n",
      "Aluno(a): Ana Beatriz / Média: 7.25\n",
      "Aluno(a): Carlos Vernes / Média: 7.0\n",
      "Aluno(a): Francisco Cunha / Média: 9.0\n",
      "Aluno(a): Sandra Rosa / Média: 7.0\n",
      "Aluno(a): Juliana Arruda / Média: 7.5\n",
      "Aluno(a): Joao Galo / Média: 5.875\n",
      "Aluno(a): JosÃ© Valente / Média: 10.0\n",
      "Aluno(a): Maria Ferreira / Média: 8.625\n",
      "Aluno(a): Adriana Tavares / Média: 8.0\n"
     ]
    }
   ],
   "source": [
    "f = open('alunos.csv', 'r')\n",
    "leitor = csv.reader(f, delimiter = ';', lineterminator = '\\n')\n",
    "\n",
    "leitor.__next__()\n",
    "\n",
    "for linha in leitor:\n",
    "    \n",
    "    # As notas das provas estão nas colunas de índices 3 a 6. É preciso converter de string para float\n",
    "    p1 = float(linha[3]) \n",
    "    p2 = float(linha[4])\n",
    "    p3 = float(linha[5])\n",
    "    p4 = float(linha[6])\n",
    "    \n",
    "    media = (p1 + p2 + p3 + p4)/4\n",
    "    \n",
    "    print(\"Aluno(a): {} / Média: {}\".format(linha[1],media))\n",
    "\n",
    "f.close()"
   ]
  },
  {
   "cell_type": "code",
   "execution_count": 26,
   "metadata": {
    "ExecuteTime": {
     "end_time": "2021-12-13T19:47:49.661074Z",
     "start_time": "2021-12-13T19:47:49.629074Z"
    }
   },
   "outputs": [
    {
     "name": "stdout",
     "output_type": "stream",
     "text": [
      "Aluno(a): Antonio Carlos / Média: 7.0\n",
      "Aluno(a): Ana Beatriz / Média: 7.25\n",
      "Aluno(a): Carlos Vernes / Média: 7.0\n",
      "Aluno(a): Francisco Cunha / Média: 9.0\n",
      "Aluno(a): Sandra Rosa / Média: 7.0\n",
      "Aluno(a): Juliana Arruda / Média: 7.5\n",
      "Aluno(a): Joao Galo / Média: 5.875\n",
      "Aluno(a): JosÃ© Valente / Média: 10.0\n",
      "Aluno(a): Maria Ferreira / Média: 8.625\n",
      "Aluno(a): Adriana Tavares / Média: 8.0\n"
     ]
    }
   ],
   "source": [
    "with open('alunos.csv', 'r') as f:\n",
    "    \n",
    "    leitor = csv.reader(f, delimiter = ';', lineterminator = '\\n')\n",
    "\n",
    "    leitor.__next__()\n",
    "\n",
    "    for linha in leitor:\n",
    "\n",
    "        # As notas das provas estão nas colunas de índices 3 a 6. É preciso converter de string para float\n",
    "        p1 = float(linha[3]) \n",
    "        p2 = float(linha[4])\n",
    "        p3 = float(linha[5])\n",
    "        p4 = float(linha[6])\n",
    "\n",
    "        media = (p1 + p2 + p3 + p4)/4\n",
    "\n",
    "        print(\"Aluno(a): {} / Média: {}\".format(linha[1],media))"
   ]
  },
  {
   "cell_type": "markdown",
   "metadata": {},
   "source": [
    "6. Faça um programa que crie um arquivo media.csv e guarde o RA\n",
    "(registro do aluno) junto com a respectiva média de cada um dos\n",
    "alunos no arquivo alunos.csv."
   ]
  },
  {
   "cell_type": "code",
   "execution_count": 29,
   "metadata": {
    "ExecuteTime": {
     "end_time": "2021-12-13T19:52:48.603147Z",
     "start_time": "2021-12-13T19:52:48.564170Z"
    }
   },
   "outputs": [
    {
     "name": "stdout",
     "output_type": "stream",
     "text": [
      "['110201', 'Antonio Carlos', '20', '6.5', '8.5', '7', '6']\n",
      "['110212', 'Ana Beatriz', '20', '7', '7', '7', '8']\n",
      "['110218', 'Carlos Vernes', '17', '7', '7', '7', '7']\n",
      "['110307', 'Francisco Cunha', '20', '9', '8.5', '8.5', '10']\n",
      "['110275', 'Sandra Rosa', '15', '6.5', '7.5', '7', '7']\n",
      "['110281', 'Juliana Arruda', '18', '7.5', '7', '7.5', '8']\n",
      "['110301', 'Joao Galo', '20', '5', '6.5', '7', '5']\n",
      "['110263', 'José Valente', '20', '10', '10', '10', '10']\n",
      "['110271', 'Maria Ferreira', '19', '9.5', '8', '7', '10']\n",
      "['110236', 'Adriana Tavares', '20', '8', '8', '8', '8']\n"
     ]
    }
   ],
   "source": [
    "arquivo = open('alunos.csv', 'r', encoding=\"utf-8\")\n",
    "leitor = csv.reader(arquivo, delimiter = ';', lineterminator = '\\n')\n",
    "\n",
    "novo_arquivo = open('media.csv', 'w', encoding=\"utf-8\")\n",
    "escritor = csv.writer(novo_arquivo, delimiter = ';', lineterminator = '\\n')\n",
    "\n",
    "#Cabeçalho do novo arquivo\n",
    "cabecalho = [\"RA\", \"Media\"] \n",
    "\n",
    "# Escreve o novo cabeçalho no arquivo 'media.csv'\n",
    "escritor.writerow(cabecalho) \n",
    "\n",
    "#pula a primeira linha do arquivo alunos.csv\n",
    "leitor.__next__() \n",
    "\n",
    "for linha in leitor:\n",
    "    \n",
    "    print(linha)\n",
    "    \n",
    "    p1 = float(linha[3])\n",
    "    p2 = float(linha[4])\n",
    "    p3 = float(linha[5])\n",
    "    p4 = float(linha[6])\n",
    "    \n",
    "    media = (p1 + p2 + p3 + p4)/4\n",
    "    nova_linha = [linha[0], media] \n",
    "    \n",
    "    #escreve a nova linha no arquivo media.csv\n",
    "    escritor.writerow(nova_linha) \n",
    "\n",
    "arquivo.close()\n",
    "novo_arquivo.close()"
   ]
  },
  {
   "cell_type": "code",
   "execution_count": 30,
   "metadata": {
    "ExecuteTime": {
     "end_time": "2021-12-13T20:03:45.553989Z",
     "start_time": "2021-12-13T20:03:45.507019Z"
    }
   },
   "outputs": [
    {
     "name": "stdout",
     "output_type": "stream",
     "text": [
      "['110201', 'Antonio Carlos', '20', '6.5', '8.5', '7', '6']\n",
      "['110212', 'Ana Beatriz', '20', '7', '7', '7', '8']\n",
      "['110218', 'Carlos Vernes', '17', '7', '7', '7', '7']\n",
      "['110307', 'Francisco Cunha', '20', '9', '8.5', '8.5', '10']\n",
      "['110275', 'Sandra Rosa', '15', '6.5', '7.5', '7', '7']\n",
      "['110281', 'Juliana Arruda', '18', '7.5', '7', '7.5', '8']\n",
      "['110301', 'Joao Galo', '20', '5', '6.5', '7', '5']\n",
      "['110263', 'José Valente', '20', '10', '10', '10', '10']\n",
      "['110271', 'Maria Ferreira', '19', '9.5', '8', '7', '10']\n",
      "['110236', 'Adriana Tavares', '20', '8', '8', '8', '8']\n"
     ]
    }
   ],
   "source": [
    "with open('alunos.csv', 'r', encoding=\"utf-8\") as arquivo:\n",
    "    \n",
    "    leitor = csv.reader(arquivo, delimiter = ';', lineterminator = '\\n')\n",
    "\n",
    "    with open('media.csv', 'w', encoding=\"utf-8\") as novo_arquivo:\n",
    "        \n",
    "        escritor = csv.writer(novo_arquivo, delimiter = ';', lineterminator = '\\n')\n",
    "\n",
    "        #Cabeçalho do novo arquivo\n",
    "        cabecalho = [\"RA\", \"Media\"] \n",
    "\n",
    "        # Escreve o novo cabeçalho no arquivo 'media.csv'\n",
    "        escritor.writerow(cabecalho) \n",
    "\n",
    "        #pula a primeira linha do arquivo alunos.csv\n",
    "        leitor.__next__() \n",
    "\n",
    "        for linha in leitor:\n",
    "\n",
    "            print(linha)\n",
    "\n",
    "            p1 = float(linha[3])\n",
    "            p2 = float(linha[4])\n",
    "            p3 = float(linha[5])\n",
    "            p4 = float(linha[6])\n",
    "\n",
    "            media = (p1 + p2 + p3 + p4)/4\n",
    "            nova_linha = [linha[0], media] \n",
    "\n",
    "            #escreve a nova linha no arquivo media.csv\n",
    "            escritor.writerow(nova_linha) \n"
   ]
  }
 ],
 "metadata": {
  "kernelspec": {
   "display_name": "Python 3",
   "language": "python",
   "name": "python3"
  },
  "language_info": {
   "codemirror_mode": {
    "name": "ipython",
    "version": 3
   },
   "file_extension": ".py",
   "mimetype": "text/x-python",
   "name": "python",
   "nbconvert_exporter": "python",
   "pygments_lexer": "ipython3",
   "version": "3.8.3"
  }
 },
 "nbformat": 4,
 "nbformat_minor": 4
}
