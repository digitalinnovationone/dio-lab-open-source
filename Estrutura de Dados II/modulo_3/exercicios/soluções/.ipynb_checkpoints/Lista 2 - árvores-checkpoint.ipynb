{
 "cells": [
  {
   "cell_type": "markdown",
   "metadata": {},
   "source": [
    "# Lista 2 - Árvores\n",
    "\n",
    "---\n",
    "\n"
   ]
  },
  {
   "cell_type": "markdown",
   "metadata": {},
   "source": [
    "**1)** Crie a árvore genealógica representada pela figura abaixo, utilizando a estrutura de dados Árvore. Em seguida, crie um método que recebe o nome de uma pessoa e informa se existe um integrante da família com esse nome (True) ou não (False).\n",
    "\n",
    "<img src=\"https://img.elo7.com.br/product/original/2BEE9E8/arvore-genealogica-minha-familia-arvoredafamilia.jpg\" width=\"30%\" align=left />"
   ]
  },
  {
   "cell_type": "code",
   "execution_count": 1,
   "metadata": {},
   "outputs": [],
   "source": [
    "class Arvore:\n",
    "    \n",
    "    def __init__(self, pessoa, esquerda=None, direita=None):\n",
    "        \n",
    "        self.pessoa = pessoa\n",
    "        \n",
    "        self.esquerda = esquerda\n",
    "        self.direita = direita\n",
    "\n",
    "    def buscar_integrante(self, nome):\n",
    "        \n",
    "        if self.pessoa == nome:\n",
    "            \n",
    "            return True\n",
    "        \n",
    "        if self.esquerda == None and self.direita == None:\n",
    "            \n",
    "            return False\n",
    "        \n",
    "        return self.esquerda.buscar_integrante(nome) or self.direita.buscar_integrante(nome)"
   ]
  },
  {
   "cell_type": "code",
   "execution_count": 2,
   "metadata": {},
   "outputs": [],
   "source": [
    "familia = Arvore('Melissa',\n",
    "                 esquerda = Arvore('Fabiana',\n",
    "                                   esquerda = Arvore('Antônio',\n",
    "                                                     esquerda = Arvore('João'),\n",
    "                                                     direita = Arvore('Júlia')),\n",
    "                                   direita = Arvore('Rose',\n",
    "                                                    esquerda = Arvore('André'),\n",
    "                                                    direita = Arvore('Rosana'))),\n",
    "                 direita = Arvore('Gustavo'))"
   ]
  },
  {
   "cell_type": "code",
   "execution_count": 3,
   "metadata": {},
   "outputs": [
    {
     "data": {
      "text/plain": [
       "True"
      ]
     },
     "execution_count": 3,
     "metadata": {},
     "output_type": "execute_result"
    }
   ],
   "source": [
    "familia.buscar_integrante('André')"
   ]
  },
  {
   "cell_type": "code",
   "execution_count": 4,
   "metadata": {},
   "outputs": [
    {
     "data": {
      "text/plain": [
       "False"
      ]
     },
     "execution_count": 4,
     "metadata": {},
     "output_type": "execute_result"
    }
   ],
   "source": [
    "familia.buscar_integrante('José')"
   ]
  },
  {
   "cell_type": "markdown",
   "metadata": {},
   "source": [
    "__________"
   ]
  },
  {
   "cell_type": "markdown",
   "metadata": {},
   "source": [
    "**2)** Amplie a classe da árvore genealógica criada na questão anterior, adicionando um método que nos permita informar o nome de uma pessoa da família e, a partir disso, retorne quem é o ancestral (pai/mãe) dessa pessoa."
   ]
  },
  {
   "cell_type": "markdown",
   "metadata": {},
   "source": [
    "__VISÃO 1: Primeira geração nas folhas (Heredograma)__"
   ]
  },
  {
   "cell_type": "code",
   "execution_count": 5,
   "metadata": {},
   "outputs": [],
   "source": [
    "class Arvore:\n",
    "    \n",
    "    def __init__(self, pessoa, esquerda=None, direita=None):\n",
    "        \n",
    "        self.pessoa = pessoa\n",
    "        \n",
    "        self.esquerda = esquerda\n",
    "        self.direita = direita\n",
    "\n",
    "    def buscar_integrante(self, nome):\n",
    "        \n",
    "        if self.pessoa == nome:\n",
    "            \n",
    "            return True\n",
    "        \n",
    "        if self.esquerda == None and self.direita == None:\n",
    "            \n",
    "            return False\n",
    "        \n",
    "        return self.esquerda.buscar_integrante(nome) or self.direita.buscar_integrante(nome)\n",
    "    \n",
    "    \n",
    "    # função que efetivamente percorre a árvore\n",
    "    def ancestrais_aux(self, nome):\n",
    "    \n",
    "        if self.pessoa == nome: \n",
    "            \n",
    "            if self.esquerda == None and self.direita == None:\n",
    "                \n",
    "                return \"Os ancestrais de {} não constam na árvore\".format(nome)\n",
    "            \n",
    "            else:\n",
    "                \n",
    "                return \"Os ancestrais de {} são {} e {}\".format(nome, self.esquerda.pessoa, self.direita.pessoa)\n",
    "        \n",
    "        if self.esquerda == None and self.direita == None:\n",
    "            \n",
    "            return False\n",
    "        \n",
    "        return self.esquerda.ancestrais_aux(nome) or self.direita.ancestrais_aux(nome)\n",
    "    \n",
    "    # essa função formata a resposta final \n",
    "    # (na verdade, ela apenas trata o caso de pessoas que não pertencem à família!)\n",
    "    def ancestrais(self, nome):\n",
    "        \n",
    "        resp = self.ancestrais_aux(nome)\n",
    "        \n",
    "        if resp == False:\n",
    "            \n",
    "            return \"{} não pertence à família!\".format(nome)\n",
    "        \n",
    "        else:\n",
    "        \n",
    "            return resp"
   ]
  },
  {
   "cell_type": "code",
   "execution_count": 6,
   "metadata": {},
   "outputs": [],
   "source": [
    "familia = Arvore('Melissa',\n",
    "                 esquerda = Arvore('Fabiana',\n",
    "                                   esquerda = Arvore('Antônio',\n",
    "                                                     esquerda = Arvore('João'),\n",
    "                                                     direita = Arvore('Júlia')),\n",
    "                                   direita = Arvore('Rose',\n",
    "                                                    esquerda = Arvore('André'),\n",
    "                                                    direita = Arvore('Rosana'))),\n",
    "                 direita = Arvore('Gustavo'))"
   ]
  },
  {
   "cell_type": "code",
   "execution_count": 7,
   "metadata": {},
   "outputs": [
    {
     "data": {
      "text/plain": [
       "'Os ancestrais de André não constam na árvore'"
      ]
     },
     "execution_count": 7,
     "metadata": {},
     "output_type": "execute_result"
    }
   ],
   "source": [
    "familia.ancestrais('André')"
   ]
  },
  {
   "cell_type": "code",
   "execution_count": 8,
   "metadata": {},
   "outputs": [
    {
     "data": {
      "text/plain": [
       "'Os ancestrais de Rose são André e Rosana'"
      ]
     },
     "execution_count": 8,
     "metadata": {},
     "output_type": "execute_result"
    }
   ],
   "source": [
    "familia.ancestrais('Rose')"
   ]
  },
  {
   "cell_type": "code",
   "execution_count": 9,
   "metadata": {},
   "outputs": [
    {
     "data": {
      "text/plain": [
       "'Os ancestrais de Melissa são Fabiana e Gustavo'"
      ]
     },
     "execution_count": 9,
     "metadata": {},
     "output_type": "execute_result"
    }
   ],
   "source": [
    "familia.ancestrais('Melissa')"
   ]
  },
  {
   "cell_type": "code",
   "execution_count": 10,
   "metadata": {},
   "outputs": [
    {
     "data": {
      "text/plain": [
       "'José não pertence à família!'"
      ]
     },
     "execution_count": 10,
     "metadata": {},
     "output_type": "execute_result"
    }
   ],
   "source": [
    "familia.ancestrais('José')"
   ]
  },
  {
   "cell_type": "markdown",
   "metadata": {},
   "source": [
    "__VISÃO 2: Primeira geração no nó raiz (visão de estrutura de dados)__"
   ]
  },
  {
   "cell_type": "code",
   "execution_count": 11,
   "metadata": {},
   "outputs": [],
   "source": [
    "class Arvore:\n",
    "    \n",
    "    def __init__(self, pessoa, esquerda=None, direita=None):\n",
    "        \n",
    "        self.pessoa = pessoa\n",
    "        \n",
    "        self.esquerda = esquerda\n",
    "        self.direita = direita\n",
    "\n",
    "    def buscar_integrante(self, nome):\n",
    "        \n",
    "        if self.pessoa == nome:\n",
    "            \n",
    "            return True\n",
    "        \n",
    "        if self.esquerda == None and self.direita == None:\n",
    "            \n",
    "            return False\n",
    "        \n",
    "        return self.esquerda.buscar_integrante(nome) or self.direita.buscar_integrante(nome)\n",
    "    \n",
    "    \n",
    "    def ancestrais_aux(self, nome):\n",
    "        \n",
    "        if self.buscar_integrante(nome):\n",
    "        \n",
    "            if self.esquerda != None and self.direita != None:\n",
    "\n",
    "                if self.esquerda.pessoa == nome or self.direita.pessoa == nome: \n",
    "\n",
    "                    return \"O nó {} é nó filho de {}\".format(nome, self.pessoa)\n",
    "\n",
    "                return self.esquerda.ancestrais_aux(nome) or self.direita.ancestrais_aux(nome)\n",
    "    \n",
    "        else:\n",
    "            return False\n",
    "        \n",
    "    # pra formatar direitinho os dois casos\n",
    "    def ancestrais(self, nome):\n",
    "        \n",
    "        resposta = self.ancestrais_aux(nome)\n",
    "        \n",
    "        if resposta == False:\n",
    "            \n",
    "            if self.buscar_integrante(nome):\n",
    "                \n",
    "                return \"{} é o nó raiz da família!\".format(nome)\n",
    "                \n",
    "            else:\n",
    "                return \"{} não pertence à família!\".format(nome)\n",
    "        else:\n",
    "            \n",
    "            return resposta"
   ]
  },
  {
   "cell_type": "code",
   "execution_count": 12,
   "metadata": {},
   "outputs": [],
   "source": [
    "familia = Arvore('Melissa',\n",
    "                 esquerda = Arvore('Fabiana',\n",
    "                                   esquerda = Arvore('Antônio',\n",
    "                                                     esquerda = Arvore('João'),\n",
    "                                                     direita = Arvore('Júlia')),\n",
    "                                   direita = Arvore('Rose',\n",
    "                                                    esquerda = Arvore('André'),\n",
    "                                                    direita = Arvore('Rosana'))),\n",
    "                 direita = Arvore('Gustavo'))"
   ]
  },
  {
   "cell_type": "code",
   "execution_count": 13,
   "metadata": {},
   "outputs": [
    {
     "data": {
      "text/plain": [
       "'O nó João é nó filho de Antônio'"
      ]
     },
     "execution_count": 13,
     "metadata": {},
     "output_type": "execute_result"
    }
   ],
   "source": [
    "familia.ancestrais('João')"
   ]
  },
  {
   "cell_type": "code",
   "execution_count": 14,
   "metadata": {},
   "outputs": [
    {
     "data": {
      "text/plain": [
       "'O nó Antônio é nó filho de Fabiana'"
      ]
     },
     "execution_count": 14,
     "metadata": {},
     "output_type": "execute_result"
    }
   ],
   "source": [
    "familia.ancestrais('Antônio')"
   ]
  },
  {
   "cell_type": "code",
   "execution_count": 15,
   "metadata": {},
   "outputs": [
    {
     "data": {
      "text/plain": [
       "'O nó Rose é nó filho de Fabiana'"
      ]
     },
     "execution_count": 15,
     "metadata": {},
     "output_type": "execute_result"
    }
   ],
   "source": [
    "familia.ancestrais('Rose')"
   ]
  },
  {
   "cell_type": "code",
   "execution_count": 16,
   "metadata": {},
   "outputs": [
    {
     "data": {
      "text/plain": [
       "'O nó Gustavo é nó filho de Melissa'"
      ]
     },
     "execution_count": 16,
     "metadata": {},
     "output_type": "execute_result"
    }
   ],
   "source": [
    "familia.ancestrais('Gustavo')"
   ]
  },
  {
   "cell_type": "code",
   "execution_count": 17,
   "metadata": {},
   "outputs": [
    {
     "data": {
      "text/plain": [
       "'Melissa é o nó raiz da família!'"
      ]
     },
     "execution_count": 17,
     "metadata": {},
     "output_type": "execute_result"
    }
   ],
   "source": [
    "familia.ancestrais('Melissa')"
   ]
  },
  {
   "cell_type": "code",
   "execution_count": 18,
   "metadata": {},
   "outputs": [
    {
     "data": {
      "text/plain": [
       "'José não pertence à família!'"
      ]
     },
     "execution_count": 18,
     "metadata": {},
     "output_type": "execute_result"
    }
   ],
   "source": [
    "familia.ancestrais('José')"
   ]
  },
  {
   "cell_type": "markdown",
   "metadata": {},
   "source": [
    "__________"
   ]
  },
  {
   "cell_type": "markdown",
   "metadata": {},
   "source": [
    "**3)** A startup ABC co. possui 4 funcionários, em que 2 desenvolvedores se reportam a um gerente, que, por sua vez, se reporta a um diretor. Sabendo que o colaborador possui uma ficha contendo um número de matrícula, um nome, um salário mensal e o seu cargo, construa uma árvore que apresente a hierarquia da empresa e uma função que retorne um dicionário em que a chave são os nomes do funcionários e o valor são seus salários, organizados em ordem decrescente de salário."
   ]
  },
  {
   "cell_type": "markdown",
   "metadata": {},
   "source": [
    "Primeiramente, vamos construir uma classe para representar um funcionário:"
   ]
  },
  {
   "cell_type": "code",
   "execution_count": 19,
   "metadata": {},
   "outputs": [],
   "source": [
    "class Funcionario:\n",
    "    \n",
    "    def __init__(self, matricula, nome, cargo, salario):\n",
    "        \n",
    "        self.matricula = matricula\n",
    "        self.nome = nome\n",
    "        self.cargo = cargo\n",
    "        self.salario = salario\n",
    "        \n",
    "    def __repr__(self):\n",
    "        \n",
    "        return f'Funcionário com matrícula {self.matricula}'"
   ]
  },
  {
   "cell_type": "code",
   "execution_count": 20,
   "metadata": {},
   "outputs": [],
   "source": [
    "f1 = Funcionario('001', 'Joao', 'diretor', 25000)\n",
    "f2 = Funcionario('002', 'Jose', 'gerente', 15000)\n",
    "f3 = Funcionario('003', 'Maria', 'dev', 20000)\n",
    "f4 = Funcionario('004', 'Joaquim', 'dev', 5000)"
   ]
  },
  {
   "cell_type": "code",
   "execution_count": 21,
   "metadata": {},
   "outputs": [
    {
     "data": {
      "text/plain": [
       "(Funcionário com matrícula 001,\n",
       " Funcionário com matrícula 002,\n",
       " Funcionário com matrícula 003,\n",
       " Funcionário com matrícula 004)"
      ]
     },
     "execution_count": 21,
     "metadata": {},
     "output_type": "execute_result"
    }
   ],
   "source": [
    "f1, f2, f3, f4"
   ]
  },
  {
   "cell_type": "markdown",
   "metadata": {},
   "source": [
    "Ágora, a classe para a árvore hierárquica"
   ]
  },
  {
   "cell_type": "code",
   "execution_count": 22,
   "metadata": {},
   "outputs": [],
   "source": [
    "class Hierarquia:\n",
    "    \n",
    "    def __init__(self, func, sub_1 = None, sub_2 = None):\n",
    "        \n",
    "        self.func = func\n",
    "        \n",
    "        self.sub_1 = sub_1\n",
    "        self.sub_2 = sub_2\n",
    "        \n",
    "    def __repr__(self):\n",
    "        \n",
    "        return f'Árvore com elemento {self.func}'\n",
    "    \n",
    "    def salarios(self):\n",
    "        \n",
    "        # vamos construir o dicionário de salários\n",
    "        dic = {self.func.nome: self.func.salario}\n",
    "        \n",
    "        if self.sub_1 != None:\n",
    "            dic_1 = self.sub_1.salarios()\n",
    "            dic.update(dic_1)\n",
    "            \n",
    "        if self.sub_2 != None:\n",
    "            dic_2 = self.sub_2.salarios()\n",
    "            dic.update(dic_2)\n",
    "            \n",
    "        return dic\n",
    "    \n",
    "    # não é possível ordenar dicionários diretamente\n",
    "    # teremos que construir um dicionário ordenado a partir do dicionário original!\n",
    "    def salarios_ordenados(self):\n",
    "        \n",
    "        # lista de tuplas [(chave, valor)]\n",
    "        dic = self.salarios().items()\n",
    "        \n",
    "        # ordenando segundo os valores (x[1])\n",
    "        dic = sorted(dic, reverse = True, key = lambda x: x[1])\n",
    "        \n",
    "        # cria novo dicionário a ser preenchido com a ordenação correta\n",
    "        novo_dic = {}\n",
    "        \n",
    "        for chave, valor in dic:\n",
    "            novo_dic[chave] = valor\n",
    "        \n",
    "        return novo_dic\n",
    "            "
   ]
  },
  {
   "cell_type": "code",
   "execution_count": 23,
   "metadata": {},
   "outputs": [],
   "source": [
    "empresa = Hierarquia(f1, \n",
    "                     sub_1 = Hierarquia(f2,\n",
    "                                        sub_1 = Hierarquia(f3),\n",
    "                                        sub_2 = Hierarquia(f4)),\n",
    "                     sub_2 = None)"
   ]
  },
  {
   "cell_type": "code",
   "execution_count": 24,
   "metadata": {},
   "outputs": [
    {
     "data": {
      "text/plain": [
       "{'Joao': 25000, 'Jose': 15000, 'Maria': 20000, 'Joaquim': 5000}"
      ]
     },
     "execution_count": 24,
     "metadata": {},
     "output_type": "execute_result"
    }
   ],
   "source": [
    "empresa.salarios()"
   ]
  },
  {
   "cell_type": "code",
   "execution_count": 25,
   "metadata": {},
   "outputs": [
    {
     "data": {
      "text/plain": [
       "{'Joao': 25000, 'Maria': 20000, 'Jose': 15000, 'Joaquim': 5000}"
      ]
     },
     "execution_count": 25,
     "metadata": {},
     "output_type": "execute_result"
    }
   ],
   "source": [
    "empresa.salarios_ordenados()"
   ]
  }
 ],
 "metadata": {
  "kernelspec": {
   "display_name": "Python 3",
   "language": "python",
   "name": "python3"
  },
  "language_info": {
   "codemirror_mode": {
    "name": "ipython",
    "version": 3
   },
   "file_extension": ".py",
   "mimetype": "text/x-python",
   "name": "python",
   "nbconvert_exporter": "python",
   "pygments_lexer": "ipython3",
   "version": "3.8.3"
  }
 },
 "nbformat": 4,
 "nbformat_minor": 4
}
