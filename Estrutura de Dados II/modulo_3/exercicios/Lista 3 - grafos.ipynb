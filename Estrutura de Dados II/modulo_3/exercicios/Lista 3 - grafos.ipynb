{
 "cells": [
  {
   "cell_type": "markdown",
   "metadata": {},
   "source": [
    "# Lista 3 - Grafos\n",
    "\n",
    "---\n",
    "\n"
   ]
  },
  {
   "cell_type": "code",
   "execution_count": 1,
   "metadata": {
    "ExecuteTime": {
     "end_time": "2021-12-13T19:38:37.436321Z",
     "start_time": "2021-12-13T19:38:20.606910Z"
    }
   },
   "outputs": [],
   "source": [
    "import networkx as nx"
   ]
  },
  {
   "cell_type": "markdown",
   "metadata": {},
   "source": [
    "__________"
   ]
  },
  {
   "cell_type": "markdown",
   "metadata": {},
   "source": [
    "**1)** Implemente o grafo ilustrado pela figura abaixo, utilizando a representação baseada em uma matriz de adjacências. Em seguida, exiba a matriz que representa o grafo.\n",
    "\n",
    "<img src=https://s3-sa-east-1.amazonaws.com/lcpi/c5b98cc3-2c85-4d9a-b1e8-aaa4b1aba9b3.png width=300>"
   ]
  },
  {
   "cell_type": "code",
   "execution_count": null,
   "metadata": {},
   "outputs": [],
   "source": []
  },
  {
   "cell_type": "markdown",
   "metadata": {},
   "source": [
    "__________"
   ]
  },
  {
   "cell_type": "markdown",
   "metadata": {},
   "source": [
    "**2)** Implemente o grafo ilustrado pela figura abaixo, utilizando a representação baseada em uma lista de adjacências. Em seguida, observe a lista de adjacências que representa o grafo.\n",
    "\n",
    "<img src=https://ycpcs.github.io/cs360-spring2019/lectures/images/lecture15/digraph.png width=300>"
   ]
  },
  {
   "cell_type": "code",
   "execution_count": null,
   "metadata": {},
   "outputs": [],
   "source": []
  },
  {
   "cell_type": "markdown",
   "metadata": {},
   "source": [
    "__________"
   ]
  },
  {
   "cell_type": "markdown",
   "metadata": {},
   "source": [
    "**3)** Implemente o grafo ponderado ilustrado pela figura abaixo, utilizando as representações baseadas em:\n",
    "\n",
    "- matriz de adjacências;\n",
    "- lista de adjacências.\n",
    "\n",
    "Em seguida, exiba a matriz e a lista que representam o grafo.\n",
    "\n",
    "<img src=\"https://ucarecdn.com/a67cb888-aa0c-424b-8c7f-847e38dd5691/\" width=300>"
   ]
  },
  {
   "cell_type": "code",
   "execution_count": null,
   "metadata": {},
   "outputs": [],
   "source": []
  },
  {
   "cell_type": "markdown",
   "metadata": {},
   "source": [
    "__________"
   ]
  },
  {
   "cell_type": "markdown",
   "metadata": {},
   "source": [
    "**4) (DESAFIO!)** O grafo dos estados do Brasil é definido da seguinte forma:\n",
    "\n",
    "- Cada vértice é um dos estados estados da República Federativa do Brasil\n",
    "- Dois estados são adjacentes se têm uma fronteira comum\n",
    "\n",
    "<br>\n",
    "\n",
    "<img src=\"https://www.researchgate.net/profile/Paulo-Feofiloff/publication/327057443/figure/fig1/AS:660253444153345@1534428096628/Figura-13-Adjacncia-entre-estados-do-Brasil-veja-exemplo-15.png\" width=400>\n",
    "\n",
    "Implemente o grafo no networkx e responda: \n",
    "\n",
    "- Quantos vértices tem o grafo? \n",
    "\n",
    "- Quantas arestas? \n",
    "\n",
    "- Você consegue plotar o grafo de forma parecida com o real formato do Brasil?"
   ]
  },
  {
   "cell_type": "markdown",
   "metadata": {},
   "source": []
  },
  {
   "cell_type": "markdown",
   "metadata": {},
   "source": [
    "Pergunta adicional (bônus): faça uma função que receba dois estados, e que devolve o menor caminho entre eles (inicialmente, considere um grafo não-ponderado)"
   ]
  },
  {
   "cell_type": "code",
   "execution_count": null,
   "metadata": {},
   "outputs": [],
   "source": []
  },
  {
   "cell_type": "markdown",
   "metadata": {},
   "source": [
    "Construa agora um grafo ponderado, usando a [distância entre capitais dos estados](http://www.itatrans.com.br/distancia.html) como pesos! \n",
    "\n",
    "Construa novamente a função de menor caminho (como se fosse trechos de avião entre aeroportos das capitais!"
   ]
  },
  {
   "cell_type": "code",
   "execution_count": null,
   "metadata": {},
   "outputs": [],
   "source": []
  },
  {
   "cell_type": "markdown",
   "metadata": {},
   "source": [
    "__________"
   ]
  }
 ],
 "metadata": {
  "kernelspec": {
   "display_name": "Python 3",
   "language": "python",
   "name": "python3"
  },
  "language_info": {
   "codemirror_mode": {
    "name": "ipython",
    "version": 3
   },
   "file_extension": ".py",
   "mimetype": "text/x-python",
   "name": "python",
   "nbconvert_exporter": "python",
   "pygments_lexer": "ipython3",
   "version": "3.8.3"
  }
 },
 "nbformat": 4,
 "nbformat_minor": 4
}
