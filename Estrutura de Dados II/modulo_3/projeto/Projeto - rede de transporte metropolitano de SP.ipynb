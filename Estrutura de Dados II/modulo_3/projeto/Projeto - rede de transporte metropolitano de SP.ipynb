{
 "cells": [
  {
   "cell_type": "markdown",
   "metadata": {},
   "source": [
    "# Projeto Módulo 3\n",
    "\n",
    "## Rede de transporte metropolitano SP\n",
    "\n",
    "Conforme conversamos em aula, o projeto do módulo 2 consiste em modelar a **rede de transporte metropolitano de SP** como um grafo!\n",
    "\n",
    "A rede a ser implementada é a que está [neste arquivo.](http://www.metro.sp.gov.br/pdf/mapa-da-rede-metro.pdf) O arquivo pdf está também na pasta do projeto!\n",
    "\n",
    "O arquivo `sp_transporte.csv` contém grande parte (se não todas) as estações da rede. Pode ser que algumas estejam faltando -- neste caso, vocês podem adicionar as estações que estão faltando ao arquivo. Muito obrigado ao Otávio por nos mostrar como obter este arquivo!\n",
    "\n",
    "Este arquivo está sendo disponibilizado para auxiliar vocês. Mas os grupos são inteiramente livres para coletar dados de qualquer outra forma (com webscraping, por exemplo). Fiquem à vontade! Isso certamente produzirá um modelo bem mais realístico!\n",
    "\n",
    "Independente da forma como os dados forem coletados, uma coisa será super necessária: **estruturar os dados de maneira adequada** para que eles possam servir de input para o networkx para a montagem do grafo, **de maneira automática**. Não é proibido, mas eu desencorajo fortemente que vocês construam o grafo manualmente com o `.add_edge()`. A ideia é que vocês construam o grafo usando programação, a partir da leitura e estruturação dos dados no arquivo! Vocês são livres em como farão isso, usem a criatividade!\n",
    "\n",
    "O objetivo primário do projeto é que vocês construam **um único grafo** para a rede completa de transporte (CPTM, metrô, EMTU, etc.). Dica: construam sub-grafos, um pra cada linha, e depois façam a composição destes grafos para construir o grafo da rede completa. \n",
    "\n",
    "O grafo não precisa ser ponderado. Mas, **opcionalmente**, se vocês conseguirem encontrar dados e atribuir algum peso às conexões (tempo ou distância entre as estações, por exemplo), fiquem à vontade! \n",
    "\n",
    "Vocês também deverão criar uma função que recebe como argumento duas estações (origem e destino), e retorna **o melhor caminho** entre estas duas estações, explicitando qual é a rota que o usuário deve seguir! \n",
    "\n",
    "Por exemplo:\n",
    "\n",
    "```\n",
    "Origem: Trianon-Masp\n",
    "Destino: Vergueiro\n",
    "\n",
    "Rota:\n",
    "- Pegue o metrô na estação Trianon-Masp (linha 2 - Verde), sentido Vila Prudente;\n",
    "- Desembarque na estação Paraíso (2 estações);\n",
    "- Faça baldeação da linha 2 - Verde para a linha 1 - Azul, na estação Paraíso;\n",
    "- Pegue o metrô na estação Paraíso (linha 1 - Azul), sentido Tucuruvi;\n",
    "- Desembarque na estação Vergueiro (1 estação);\n",
    "- Você chegou a seu destino!\n",
    "```\n",
    "\n",
    "A função deve ser integrada a uma interface de navegação que seja de fácil utilização pelo usuário (pode ser do tipo print/input, mas quem quiser construir uma interface gráfica, fique à vontade!)\n",
    "\n",
    "A ideia é que o projeto seja bem aberto, pra que vocês explorem maneiras diferentes de resolver o problema!\n",
    "\n",
    "Mas, pra ajudar a direcionar um pouco mais o trabalho, listei abaixo algumas orientações mais específicas sobre entregáveis (vcs podem usar como checklist!)\n",
    "\n",
    "____________\n",
    "\n",
    "- Estruturação dos dados para que eles sejam usados na construção do grafo;\n",
    "- Um grafo completo para toda a rede de transporte metropolitano de SP;\n",
    "- Uma função que encontre o melhor caminho entre dois nós;\n",
    "- Uma função que descreva a rota do melhor caminho entre dois nós;\n",
    "- Uma interface de navegação para interação com usuário;\n",
    "\n",
    "Opcionais:\n",
    "\n",
    "- Caputra dos dados por webscraping ou outra ferramenta;\n",
    "- Atribuição de pesos às conexões do grafo (tempo entre estações, distância, etc);\n",
    "- Visualização do grafo."
   ]
  },
  {
   "cell_type": "markdown",
   "metadata": {},
   "source": [
    "_______"
   ]
  }
 ],
 "metadata": {
  "kernelspec": {
   "display_name": "Python 3",
   "language": "python",
   "name": "python3"
  },
  "language_info": {
   "codemirror_mode": {
    "name": "ipython",
    "version": 3
   },
   "file_extension": ".py",
   "mimetype": "text/x-python",
   "name": "python",
   "nbconvert_exporter": "python",
   "pygments_lexer": "ipython3",
   "version": "3.8.3"
  }
 },
 "nbformat": 4,
 "nbformat_minor": 4
}
