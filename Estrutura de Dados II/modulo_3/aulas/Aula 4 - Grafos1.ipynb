{
 "cells": [
  {
   "cell_type": "markdown",
   "metadata": {},
   "source": [
    "# Aula 4 - Grafos 1\n",
    "\n",
    "Na aula de hoje, vamos explorar os seguintes tópicos em Python:\n",
    "\n",
    "- 1) Grafos"
   ]
  },
  {
   "cell_type": "markdown",
   "metadata": {},
   "source": [
    "_________"
   ]
  },
  {
   "cell_type": "markdown",
   "metadata": {},
   "source": [
    "## 1) Grafos / Graph\n",
    "\n",
    "Um grafo é um par de conjuntos, `G = (V, E)`, sendo um deles o conjunto de **vértices** `V` e o outro um conjunto de **arestas** (edges) `E`, onde cada aresta é um par de vértices.\n",
    "\n",
    "Os vértices, muitas vezes também chamados de **nós**, são os itens de interesse do que se quer modelar, e as arestas são as conexoes ou relações entre estes itens.\n",
    "\n",
    "Por exemplo, em uma aplicação logística, poderíamos modelar cada **local de entrega** como um vértice do grafo e as arestas indicariam se existe um **caminho conectando estes dois pontos diretamente**.\n",
    "\n",
    "<img src=\"https://algoritmosempython.com.br/images/algoritmos-python/algoritmos-grafos/ModelagemGrafosExemplo.png\" width=200>\n",
    "\n",
    "As arestas podem ser direcionadas (mão única) ou não direcionadas (mão dupla).\n",
    "\n",
    "<img src=\"https://www.ime.usp.br/~pf/algoritmos_para_grafos/aulas/figs/Sedgewick-Wayne/TinyNetworkOnly.png\" width=200>\n",
    "\n",
    "Além disso, as arestas podem ter um rótulo associado à elas, indicando por exemplo o custo de percorrer um caminho, ou a distância entre dois pontos de interesse. Chamamos este rótulo de \"peso\" ou \"custo\".\n",
    "\n",
    "<img src=\"https://upload.wikimedia.org/wikipedia/commons/thumb/a/a8/Prim_Algorithm_0.svg/250px-Prim_Algorithm_0.svg.png\" width=200>\n",
    "\n",
    "Quando existe uma aresta conectando um vértice `u` à um vértice `v` (`u-v`), dizemos que `v` é vizinho de `u`.\n",
    "\n",
    "Em grafos direcionados, é comum usarmos a nomenclatura de árvores e dizer que `u` é pai de `v` caso exista uma aresta direcionada `u -> v`"
   ]
  },
  {
   "cell_type": "markdown",
   "metadata": {},
   "source": [
    "### Ciclicidade de um grafo\n",
    "\n",
    "É possível termos vértices que têm uma aresta que liga ele a si mesmo, e até mesmo vértices desconectados. Veja:\n",
    "\n",
    "<img src=https://s3-sa-east-1.amazonaws.com/lcpi/c5b98cc3-2c85-4d9a-b1e8-aaa4b1aba9b3.png width=300>\n",
    "\n",
    "Isso leva a uma importante definição:\n",
    "\n",
    "> Um grafo é chamado de **cíclico** se nele há ao menos um **ciclo**, que se caracteriza por um \"loop\" em que pode-se sair de um vértice e voltar a ele, percorrendo determinado caminho. Se não há ciclo algum no grafo, ele é chamado de **acíclico**.\n",
    "\n",
    "Alguns exemplos:\n",
    "\n",
    "\n",
    "<img src=\"https://image.slidesharecdn.com/slides-mav-grafos-110529200045-phpapp01/95/treinamento-para-competies-de-programao-do-infufg-grafos-parte-1-turma-iniciantes-15-728.jpg?cb=1306710526\" width=600>\n",
    "\n",
    "<img src=https://www.codingeek.com/wp-content/uploads/2016/11/cyclic.png width=500>"
   ]
  },
  {
   "cell_type": "markdown",
   "metadata": {},
   "source": [
    "Dada a definição acima, podemos agora dizer com segurança que:\n",
    "\n",
    "### Árvores são grafos direcionados acícliclos!\n",
    "\n",
    "Agora entendemos o porquê :)\n",
    "\n",
    "___________"
   ]
  },
  {
   "cell_type": "markdown",
   "metadata": {},
   "source": [
    "### Um resumo legal das propriedades de grafos:\n",
    "<br>\n",
    "<img src=https://dist.neo4j.com/wp-content/uploads/20181121091034/graph-properties-graph-algorithms-2.png width=600>"
   ]
  },
  {
   "cell_type": "markdown",
   "metadata": {},
   "source": [
    "_________"
   ]
  },
  {
   "cell_type": "markdown",
   "metadata": {},
   "source": [
    "**Esparso**: vazio, que não tem mta informação, que tem vários 0s...\n",
    "\n",
    "**Denso**: tem muitas conexões, tem mta informação, etc"
   ]
  },
  {
   "cell_type": "markdown",
   "metadata": {},
   "source": [
    "\n",
    "### 1.1) Como representar um grafo no computador?\n",
    "\n",
    "Existem diferentes maneiras de se representar um grafo no computador, e cada uma pode ser mais ou menos indicada dependendo do problema que se quer resolver ou da forma como se decidiu modelá-lo.\n",
    "Vamos falar das duas maneiras mais comuns de representação."
   ]
  },
  {
   "cell_type": "markdown",
   "metadata": {},
   "source": [
    "#### Matriz de adjacência\n",
    "\n",
    "Uma das maneiras mais simples de representar um grafo é utilizando uma **matriz de adjacência**.\n",
    "\n",
    "Vemos um exemplo de visualização dessa estrutura na figura abaixo.\n",
    "\n",
    "Para criar um grafo como uma matriz de adjacências, definimos uma matriz `M` de dimensões `n x n`, sendo `n` a quantidade de vértices.\n",
    "\n",
    "Inicializamos a matriz com zeros, e \"marcamos\" `M[u][v]` com um valor diferente de zero caso exista uma aresta conectando o vértice `u` ao vértice `v`.\n",
    "\n",
    "<img src=\"https://s3-sa-east-1.amazonaws.com/lcpi/1f5e0fd3-572c-479a-8a53-74d8212c5e5c.jpg\" width=500>\n",
    "\n",
    "No exemplo da figura acima vemos um grafo **não direcionado** e por isso temos a matriz **diagonalmente simétrica** (`M[u][v] == M[v][u]`). \n",
    "\n",
    "> Ou seja, a aresta `u-v` é \"de mão dupla\".\n",
    "\n",
    "__________"
   ]
  },
  {
   "cell_type": "markdown",
   "metadata": {},
   "source": [
    "Mas com essa estrutura também é possivel modelar grafos direcioinados, basta não impor a simetria.\n",
    "\n",
    "**OPERACIONAL: flecha sai da linha e vai pra coluna, ou seja, o nó de \"origem\" é o que está na linha `u`, e o nó de \"destino\", é o que está na colunva `v`.**\n",
    "\n",
    "<img src=\"https://algoritmosempython.com.br/images/algoritmos-python/algoritmos-grafos/GrafoMatrizAdjacencia.png\" width=400>\n",
    "\n",
    "__________"
   ]
  },
  {
   "cell_type": "code",
   "execution_count": 6,
   "metadata": {
    "ExecuteTime": {
     "end_time": "2021-12-14T23:37:57.897705Z",
     "start_time": "2021-12-14T23:37:57.889709Z"
    }
   },
   "outputs": [],
   "source": [
    "m = [[0, 1, 0, 0, 0],\n",
    "     [0, 0, 1, 1, 0],\n",
    "     [0, 1, 0, 0, 1],\n",
    "     [1, 0, 0, 0, 0],\n",
    "     [0, 1, 0, 0, 0]]"
   ]
  },
  {
   "cell_type": "code",
   "execution_count": 2,
   "metadata": {
    "ExecuteTime": {
     "end_time": "2021-12-14T23:37:08.632800Z",
     "start_time": "2021-12-14T23:37:08.610515Z"
    }
   },
   "outputs": [
    {
     "data": {
      "text/plain": [
       "1"
      ]
     },
     "execution_count": 2,
     "metadata": {},
     "output_type": "execute_result"
    }
   ],
   "source": [
    "# conexão do nó 1 pro nó 2?\n",
    "m[1][2]"
   ]
  },
  {
   "cell_type": "code",
   "execution_count": 5,
   "metadata": {
    "ExecuteTime": {
     "end_time": "2021-12-14T23:37:50.677525Z",
     "start_time": "2021-12-14T23:37:50.657535Z"
    }
   },
   "outputs": [
    {
     "data": {
      "text/plain": [
       "0"
      ]
     },
     "execution_count": 5,
     "metadata": {},
     "output_type": "execute_result"
    }
   ],
   "source": [
    "# conexão do nó 4 pro nó 3?\n",
    "m[4][3]"
   ]
  },
  {
   "cell_type": "markdown",
   "metadata": {},
   "source": [
    "Essa estrutura também permite representar arestas com peso, basta utilizar o valor do peso para marcar a aresta no lugar da constante 1 que utilizamos.\n",
    "\n",
    "<img src=\"https://www.researchgate.net/profile/Paula-Gabrielly-Rodrigues/publication/326722760/figure/fig5/AS:654507780345864@1533058223380/Figura-4-7-Grafo-nao-ponderado-A-e-ponderado-B-com-suas-respectivas-matrizes-de.png\" width=500>\n",
    "\n",
    "__________"
   ]
  },
  {
   "cell_type": "markdown",
   "metadata": {},
   "source": [
    "#### Lista de adjacências\n",
    "\n",
    "Embora a matriz de adjacências seja uma maneira simples e flexível para representação dos grafos, podemos ver que, principalmente para **grafos esparsos (grafos com poucas arestas)**, ela tende a gerar um desperdício de espaço (armazenando um monte de zeros para as conexões que não existem no grafo).\n",
    "\n",
    "Uma alternativa que mitiga esse desperdício de espaço é a **lista de adjacêcias**.\n",
    "\n",
    "Nessa representação, cada vértice está associado a uma lista com seus vizinhos.\n",
    "\n",
    "Assim, não gastamos espaço representando a ausência de arestas.\n",
    "\n",
    "<img src=\"https://s3-sa-east-1.amazonaws.com/lcpi/9775dad0-c900-42e9-87fa-41d78b73444c.jpg\" width=500>\n",
    "\n",
    "Mas e se o grafo tiver uma grande quantidade de arestas? Ainda estariamos economizando espaço?"
   ]
  },
  {
   "cell_type": "markdown",
   "metadata": {},
   "source": [
    "#### Comparação das estruturas\n",
    "\n",
    "Para um grafo `G=(V,E)` composto de vértices `V` e arestas `E`, listamos a complexidade das operações mais básicas.\n",
    "\n",
    "|                            \t| Matriz de Adj. \t| Lista de Adj.  \t|\n",
    "|----------------------------\t|----------------\t|----------------\t|\n",
    "| inserir aresta             \t| O(1)           \t| O(1)           \t|\n",
    "| remover aresta             \t| O(1)           \t| O(grau_max(G)) \t|\n",
    "| verificar adj. de dois nós \t| O(1)           \t| O(grau_max(G)) \t|\n",
    "| listar vizinhos de um nó   \t| O(len(V))         \t| O(grau_max(G)) \t|\n",
    "| espaço de armazenamento    \t| O(len(V)^2 )      \t| O(len(V) + len(E))  |\n",
    "\n",
    "Obs: O **grau** de um vértice, é a **quantidade de arestas que incide sobre esse vértice.** O grau máximo de um grafo `G` é o maior grau dentre todos os vértices de `G`.\n",
    "\n",
    "Será que faz sentido dizer que uma representação é melhor que a outra?\n",
    "Em que situações seria melhor usar a matriz? E a lista?"
   ]
  },
  {
   "cell_type": "markdown",
   "metadata": {},
   "source": [
    "_________"
   ]
  },
  {
   "cell_type": "markdown",
   "metadata": {},
   "source": [
    "### 1.2) Implementação\n",
    "\n",
    "Abaixo vemos um exemplo de implementação de grafo como **matriz de adjacência**."
   ]
  },
  {
   "cell_type": "code",
   "execution_count": 7,
   "metadata": {
    "ExecuteTime": {
     "end_time": "2021-12-14T23:38:24.546466Z",
     "start_time": "2021-12-14T23:38:24.530462Z"
    }
   },
   "outputs": [],
   "source": [
    "m = [[0, 1, 0, 0, 0],\n",
    "     [0, 0, 1, 1, 0],\n",
    "     [0, 1, 0, 0, 1],\n",
    "     [1, 0, 0, 0, 0],\n",
    "     [0, 1, 0, 0, 0]]"
   ]
  },
  {
   "cell_type": "code",
   "execution_count": 8,
   "metadata": {
    "ExecuteTime": {
     "end_time": "2021-12-14T23:39:50.226555Z",
     "start_time": "2021-12-14T23:39:50.215562Z"
    }
   },
   "outputs": [
    {
     "data": {
      "text/plain": [
       "[0, 0, 0, 0]"
      ]
     },
     "execution_count": 8,
     "metadata": {},
     "output_type": "execute_result"
    }
   ],
   "source": [
    "n = 4\n",
    "\n",
    "[0]*n"
   ]
  },
  {
   "cell_type": "code",
   "execution_count": 16,
   "metadata": {
    "ExecuteTime": {
     "end_time": "2021-12-14T23:43:31.834100Z",
     "start_time": "2021-12-14T23:43:31.817122Z"
    }
   },
   "outputs": [
    {
     "data": {
      "text/plain": [
       "[[0, 0, 0, 0], [0, 0, 0, 0], [0, 0, 0, 0], [0, 0, 0, 0]]"
      ]
     },
     "execution_count": 16,
     "metadata": {},
     "output_type": "execute_result"
    }
   ],
   "source": [
    "n = 4\n",
    "\n",
    "# isso inicializa uma matriz nxn cheia de zeros\n",
    "[[0]*n for _ in range(n)]"
   ]
  },
  {
   "cell_type": "code",
   "execution_count": 41,
   "metadata": {
    "ExecuteTime": {
     "end_time": "2021-12-15T00:04:15.831182Z",
     "start_time": "2021-12-15T00:04:15.813191Z"
    }
   },
   "outputs": [
    {
     "name": "stdout",
     "output_type": "stream",
     "text": [
      "[0, 0, 0, 0]\n",
      "[0, 0, 0, 0]\n",
      "[0, 0, 0, 0]\n",
      "[0, 0, 0, 0]\n"
     ]
    }
   ],
   "source": [
    "print(*[[0]*n for _ in range(n)], sep=\"\\n\")"
   ]
  },
  {
   "cell_type": "code",
   "execution_count": 17,
   "metadata": {
    "ExecuteTime": {
     "end_time": "2021-12-14T23:43:37.619182Z",
     "start_time": "2021-12-14T23:43:37.601194Z"
    }
   },
   "outputs": [],
   "source": [
    "ma = [[0]*n for _ in range(n)]"
   ]
  },
  {
   "cell_type": "code",
   "execution_count": 18,
   "metadata": {
    "ExecuteTime": {
     "end_time": "2021-12-14T23:43:40.695842Z",
     "start_time": "2021-12-14T23:43:40.682854Z"
    }
   },
   "outputs": [
    {
     "data": {
      "text/plain": [
       "[[0, 0, 0, 0], [0, 0, 0, 0], [0, 0, 0, 0], [0, 0, 0, 0]]"
      ]
     },
     "execution_count": 18,
     "metadata": {},
     "output_type": "execute_result"
    }
   ],
   "source": [
    "ma"
   ]
  },
  {
   "cell_type": "code",
   "execution_count": 21,
   "metadata": {
    "ExecuteTime": {
     "end_time": "2021-12-14T23:44:29.822485Z",
     "start_time": "2021-12-14T23:44:29.808494Z"
    }
   },
   "outputs": [
    {
     "data": {
      "text/plain": [
       "'a\\nb\\nc'"
      ]
     },
     "execution_count": 21,
     "metadata": {},
     "output_type": "execute_result"
    }
   ],
   "source": [
    "\"\\n\".join(['a', 'b', 'c'])"
   ]
  },
  {
   "cell_type": "code",
   "execution_count": 24,
   "metadata": {
    "ExecuteTime": {
     "end_time": "2021-12-14T23:45:01.105485Z",
     "start_time": "2021-12-14T23:45:01.091494Z"
    }
   },
   "outputs": [
    {
     "name": "stdout",
     "output_type": "stream",
     "text": [
      "[0, 0, 0, 0]\n",
      "[0, 0, 0, 0]\n",
      "[0, 0, 0, 0]\n",
      "[0, 0, 0, 0]\n"
     ]
    }
   ],
   "source": [
    "print(\"[0, 0, 0, 0]\\n[0, 0, 0, 0]\\n[0, 0, 0, 0]\\n[0, 0, 0, 0]\")"
   ]
  },
  {
   "cell_type": "code",
   "execution_count": 34,
   "metadata": {
    "ExecuteTime": {
     "end_time": "2021-12-14T23:47:58.691500Z",
     "start_time": "2021-12-14T23:47:58.672512Z"
    }
   },
   "outputs": [
    {
     "data": {
      "text/plain": [
       "[[0, 0, 0, 0], [0, 0, 0, 0], [0, 0, 0, 0], [0, 0, 0, 0]]"
      ]
     },
     "execution_count": 34,
     "metadata": {},
     "output_type": "execute_result"
    }
   ],
   "source": [
    "ma"
   ]
  },
  {
   "cell_type": "code",
   "execution_count": 33,
   "metadata": {
    "ExecuteTime": {
     "end_time": "2021-12-14T23:47:51.494401Z",
     "start_time": "2021-12-14T23:47:51.479403Z"
    }
   },
   "outputs": [
    {
     "data": {
      "text/plain": [
       "['[0, 0, 0, 0]', '[0, 0, 0, 0]', '[0, 0, 0, 0]', '[0, 0, 0, 0]']"
      ]
     },
     "execution_count": 33,
     "metadata": {},
     "output_type": "execute_result"
    }
   ],
   "source": [
    "[str(x) for x in ma]"
   ]
  },
  {
   "cell_type": "code",
   "execution_count": 30,
   "metadata": {
    "ExecuteTime": {
     "end_time": "2021-12-14T23:46:17.955784Z",
     "start_time": "2021-12-14T23:46:17.934794Z"
    }
   },
   "outputs": [
    {
     "name": "stdout",
     "output_type": "stream",
     "text": [
      "[0, 0, 0, 0]\n",
      "[0, 0, 0, 0]\n",
      "[0, 0, 0, 0]\n",
      "[0, 0, 0, 0]\n"
     ]
    }
   ],
   "source": [
    "print(\"\\n\".join([str(x) for x in ma]))"
   ]
  },
  {
   "cell_type": "code",
   "execution_count": 63,
   "metadata": {
    "ExecuteTime": {
     "end_time": "2021-12-15T00:13:06.949381Z",
     "start_time": "2021-12-15T00:13:06.938389Z"
    }
   },
   "outputs": [],
   "source": [
    "class GrafoMA:\n",
    "    \n",
    "    def __init__(self, n):\n",
    "        \n",
    "        # isso inicializa uma matriz (lista de listas) nxn cheia de zeros\n",
    "        self.ma = [[0]*n for _ in range(n)]\n",
    "        \n",
    "    \n",
    "    def __repr__(self):\n",
    "        \n",
    "        return \"\\n\".join([str(x) for x in self.ma])\n",
    "    \n",
    "    \n",
    "    def add_edge(self, origem, destino, direcionado, peso):\n",
    "        \n",
    "        self.ma[origem][destino] = peso\n",
    "        \n",
    "        if not direcionado:\n",
    "            \n",
    "            self.ma[destino][origem] = peso\n",
    "            \n",
    "            \n",
    "    # implemente tirar conexões; listar vizinhos, checar se é vizinho\n",
    "        "
   ]
  },
  {
   "cell_type": "code",
   "execution_count": 98,
   "metadata": {
    "ExecuteTime": {
     "end_time": "2021-12-15T00:31:19.953229Z",
     "start_time": "2021-12-15T00:31:19.931243Z"
    }
   },
   "outputs": [
    {
     "data": {
      "text/plain": [
       "[0, 0, 0, 0]\n",
       "[0, 0, 0, 0]\n",
       "[0, 0, 0, 0]\n",
       "[0, 0, 0, 0]"
      ]
     },
     "execution_count": 98,
     "metadata": {},
     "output_type": "execute_result"
    }
   ],
   "source": [
    "g1 = GrafoMA(n=4)\n",
    "\n",
    "g1"
   ]
  },
  {
   "cell_type": "code",
   "execution_count": 99,
   "metadata": {
    "ExecuteTime": {
     "end_time": "2021-12-15T00:31:20.311308Z",
     "start_time": "2021-12-15T00:31:20.289323Z"
    }
   },
   "outputs": [
    {
     "data": {
      "text/plain": [
       "[0, 0, 0, 5]\n",
       "[0, 0, 1, 0]\n",
       "[0, 0, 0, 0]\n",
       "[0, 0, 0, 0]"
      ]
     },
     "execution_count": 99,
     "metadata": {},
     "output_type": "execute_result"
    }
   ],
   "source": [
    "g1.add_edge(1, 2, direcionado=True, peso=1)\n",
    "g1.add_edge(0, 3, direcionado=True, peso=5)\n",
    "\n",
    "g1"
   ]
  },
  {
   "cell_type": "markdown",
   "metadata": {},
   "source": [
    "Podemos também implementar a **lista de adjacência**:"
   ]
  },
  {
   "cell_type": "code",
   "execution_count": 100,
   "metadata": {
    "ExecuteTime": {
     "end_time": "2021-12-15T00:31:21.992623Z",
     "start_time": "2021-12-15T00:31:21.984623Z"
    }
   },
   "outputs": [],
   "source": [
    "la = {i : [] for i in range(n)}"
   ]
  },
  {
   "cell_type": "code",
   "execution_count": 101,
   "metadata": {
    "ExecuteTime": {
     "end_time": "2021-12-15T00:31:22.195596Z",
     "start_time": "2021-12-15T00:31:22.185604Z"
    }
   },
   "outputs": [
    {
     "data": {
      "text/plain": [
       "'abc'"
      ]
     },
     "execution_count": 101,
     "metadata": {},
     "output_type": "execute_result"
    }
   ],
   "source": [
    "txt = \"\"\n",
    "\n",
    "txt = txt + \"abc\"\n",
    "\n",
    "txt"
   ]
  },
  {
   "cell_type": "code",
   "execution_count": 102,
   "metadata": {
    "ExecuteTime": {
     "end_time": "2021-12-15T00:31:23.376402Z",
     "start_time": "2021-12-15T00:31:23.370404Z"
    }
   },
   "outputs": [
    {
     "name": "stdout",
     "output_type": "stream",
     "text": [
      "0 : []\n",
      "1 : []\n",
      "2 : []\n",
      "3 : []\n",
      "\n"
     ]
    }
   ],
   "source": [
    "txt = \"\"\n",
    "\n",
    "for k, v in la.items():\n",
    "    \n",
    "    txt = txt + f\"{k} : {v}\\n\"\n",
    "    \n",
    "print(txt)"
   ]
  },
  {
   "cell_type": "code",
   "execution_count": 109,
   "metadata": {
    "ExecuteTime": {
     "end_time": "2021-12-15T00:32:56.751933Z",
     "start_time": "2021-12-15T00:32:56.725951Z"
    }
   },
   "outputs": [],
   "source": [
    "class GrafoLA:\n",
    "    \n",
    "    def __init__(self, n):\n",
    "        \n",
    "        self.la = {i : [] for i in range(n)}\n",
    "        \n",
    "        \n",
    "    def __repr__(self):\n",
    "        \n",
    "        txt = \"\"\n",
    "\n",
    "        for k, v in self.la.items():\n",
    "\n",
    "            txt = txt + f\"{k} : {v}\\n\"\n",
    "            \n",
    "        return txt\n",
    "    \n",
    "\n",
    "    def add_edge(self, origem, destino, direcionado, peso):\n",
    "        \n",
    "        self.la[origem].append([destino, peso])\n",
    "        \n",
    "        if not direcionado:\n",
    "            \n",
    "            self.la[destino].append([origem, peso])"
   ]
  },
  {
   "cell_type": "code",
   "execution_count": 110,
   "metadata": {
    "ExecuteTime": {
     "end_time": "2021-12-15T00:32:57.298164Z",
     "start_time": "2021-12-15T00:32:57.277176Z"
    }
   },
   "outputs": [
    {
     "data": {
      "text/plain": [
       "0 : []\n",
       "1 : []\n",
       "2 : []\n",
       "3 : []"
      ]
     },
     "execution_count": 110,
     "metadata": {},
     "output_type": "execute_result"
    }
   ],
   "source": [
    "g2 = GrafoLA(4)\n",
    "\n",
    "g2"
   ]
  },
  {
   "cell_type": "code",
   "execution_count": 111,
   "metadata": {
    "ExecuteTime": {
     "end_time": "2021-12-15T00:32:58.157636Z",
     "start_time": "2021-12-15T00:32:58.140644Z"
    }
   },
   "outputs": [
    {
     "data": {
      "text/plain": [
       "0 : [[3, 5]]\n",
       "1 : [[2, 1]]\n",
       "2 : []\n",
       "3 : [[0, 5]]"
      ]
     },
     "execution_count": 111,
     "metadata": {},
     "output_type": "execute_result"
    }
   ],
   "source": [
    "g2.add_edge(1, 2, direcionado=True, peso = 1)\n",
    "g2.add_edge(0, 3, direcionado=False, peso = 5)\n",
    "\n",
    "g2"
   ]
  },
  {
   "cell_type": "markdown",
   "metadata": {},
   "source": [
    "Pergunta: como armazenar grafos ponderados com lista de adjacência?"
   ]
  },
  {
   "cell_type": "code",
   "execution_count": null,
   "metadata": {},
   "outputs": [],
   "source": [
    "# conforme fizemos acima, apendando à lista de adjacencia algo como\n",
    "# (nó, peso) --> como é tupla, é imutável\n",
    "# [nó, peso] --> como é lista, é mutável."
   ]
  },
  {
   "cell_type": "markdown",
   "metadata": {},
   "source": [
    "Uma outra opção, com ligações de mão dupla, mas pesos diferentes:"
   ]
  },
  {
   "cell_type": "code",
   "execution_count": 108,
   "metadata": {
    "ExecuteTime": {
     "end_time": "2021-12-15T00:32:13.333050Z",
     "start_time": "2021-12-15T00:32:13.309071Z"
    }
   },
   "outputs": [
    {
     "data": {
      "text/plain": [
       "[0, 0, 0, 5]\n",
       "[0, 0, 1, 0]\n",
       "[0, 0, 0, 0]\n",
       "[42, 0, 0, 0]"
      ]
     },
     "execution_count": 108,
     "metadata": {},
     "output_type": "execute_result"
    }
   ],
   "source": [
    "g3 = GrafoMA(4)\n",
    "\n",
    "g3.add_edge(1, 2, direcionado=True, peso=1)\n",
    "g3.add_edge(0, 3, direcionado=True, peso=5)\n",
    "g3.add_edge(3, 0, direcionado=True, peso=42)\n",
    "\n",
    "g3"
   ]
  },
  {
   "cell_type": "markdown",
   "metadata": {},
   "source": [
    "_________"
   ]
  },
  {
   "cell_type": "markdown",
   "metadata": {},
   "source": [
    "### 1.3) Percurso\n",
    "\n",
    "Quando utilizamos um grafo para modelar um problema, muitas vezes temos o interesse de **percorrer** esse grafo (Graph Traversal ou Search).\n",
    "\n",
    "Percorrer um grafo é passar por cada nó \"visitando\" o nó apenas uma vez.\n",
    "\n",
    "Muitas vezes o interesse está não na visita em si, mas no **caminho percorrido para se chegar a esse nó**, ou na **ordem em que estes nós são visitados** (veremos mais abaixo como um destes algoritmos de percurso pode ser usado para encontrar o menor caminho entre dois nós, por exemplo).\n",
    "\n",
    "E é por isso que os algoritmos de percurso precisam respeitar as arestas do grafo e não podem simplesmente percorrer a lista de vértices.\n"
   ]
  },
  {
   "cell_type": "markdown",
   "metadata": {},
   "source": [
    "Veremos, abaixo, os principais algoritmos de percurso!"
   ]
  },
  {
   "cell_type": "markdown",
   "metadata": {},
   "source": [
    "<img src=\"https://miro.medium.com/max/1280/0*miG6xdyYzdvrB67S.gif\" width=450>"
   ]
  },
  {
   "cell_type": "markdown",
   "metadata": {},
   "source": [
    "#### Busca em profundidade (DFS - Depth First Search)\n",
    "\n",
    "Uma das maneiras de se percorrer um grafo é a busca em profundidade, que pode ser facilmente implementada de maneira recursiva.\n",
    "\n",
    "Sempre que a DFS encontra **um vértice não visitado** ela segue por esse vértice.\n",
    "\n",
    "Ela tem esse nome pois ao percorrer o grafo ela \"verticaliza\".\n",
    "\n",
    "Ou seja, ao escolher um \"ramo\" do grafo, segue por esse ramo até que ele termine.\n",
    "\n",
    "Abaixo temos um exemplo de como a busca em profundidade percorreria esse grafo partindo do nó 0.\n",
    "\n",
    "<img src=\"https://s3-sa-east-1.amazonaws.com/lcpi/0084b080-e980-46d0-8694-55895333a3e7.jpg\" width=600>"
   ]
  },
  {
   "cell_type": "markdown",
   "metadata": {},
   "source": [
    "#### Busca em largura (BFS - Breadth First Search)\n",
    "\n",
    "A BFS visita os nós do grafo em \"camadas\" partindo da origem, cada camada está uma aresta a mais de distância da origem em relação a camada anterior.\n",
    "Ou seja, partindo de um nó origem `s` os nós diretamente conectados a `s` (seus vizinhos) são visitados primeiro antes dos nós conectados aos vizinhos de `s` (seus \"vizinhos de segundo grau\").\n",
    "\n",
    "A figura abaixo mostra um exemplo gráfico desse comportamento em camadas.\n",
    "\n",
    "<img src=\"https://s3-sa-east-1.amazonaws.com/lcpi/a67dd98f-8578-4bda-a710-903d7de9ceb6.jpg\" width=600>\n",
    "\n",
    "Note que a ordem de visitação imposta pela BFS é parcial.\n",
    "Existem diferentes ordenações possíveis que qualificam como percurso BFS, o importante é respeitar as camadas.\n",
    "Por exemplo, não importa se 1 foi visitado antes do 3 ou se o 3 foi visitado antes do 1 desde que ambos tenham sido visitados antes de 2, 4 e 5.\n"
   ]
  },
  {
   "cell_type": "markdown",
   "metadata": {},
   "source": [
    "_________"
   ]
  },
  {
   "cell_type": "markdown",
   "metadata": {},
   "source": [
    "### 1.4) Menor caminho\n",
    "\n",
    "Uma das aplicações mais comuns em grafos é o cálculo do menor caminho entre vértices.\n",
    "\n",
    "Aqui veremos o problema conhecido como **Single Source Shortest Path**, posto da seguinte forma: \n",
    "\n",
    "Dado um grafo `G` e um **vértice origem** `s`, encontre o **menor caminho** partindo de `s` até **cada vértice** `v` pertencente a `G`.\n",
    " \n",
    "Vamos começar com o caso de grafos sem peso (ou peso constante = 1) nas arestas, ou seja, o menor caminho nesse caso é o **caminho com menos arestas**.\n",
    "\n",
    "> Considere a busca em largura (BFS).\n",
    "\n",
    "Já sabemos que um nó que está a uma aresta de distância da origem será visitado na primeira camada, um nó que está a duas arestas da origem será visitado na segunda, e assim por diante.\n",
    "\n",
    "Ou seja, os nós já são visitados na ordem de menor caminho e a camada dá o custo desse caminho!!\n",
    "\n",
    "\n"
   ]
  },
  {
   "cell_type": "markdown",
   "metadata": {},
   "source": [
    "#### Menor caminho para grafos com peso nas arestas\n",
    "\n",
    "Grafos sem custo nas arestas são muito utilizados e nesses casos a BFS modificada será suficiente para encontrar o menor caminho.\n",
    "\n",
    "Porém, muitas aplicações precisam levar em conta custos diferentes para cada aresta.\n",
    "\n",
    "Por exemplo a **distância entre duas cidades** ou o **custo de pedágio** para se utilizar determinada rodovia.\n",
    "\n",
    "A figura abaixo mostra um grafo com custos nas aretas.\n",
    "\n",
    "Note que a BFS indicaria que o menor caminho de 0 a 1 seria simplesmente 0->1, mas podemos ver que 0->2->1, embora utilize mais arestas, tem um custo menor. E agora?\n",
    "\n",
    "<img src=\"https://s3-sa-east-1.amazonaws.com/lcpi/bafb6b0b-7d19-47d8-8b93-293e84b7a7cd.jpg\" width=800>\n",
    "\n",
    "Existem diferentes algoritmos para encontrar o menor caminho entre todos os vértices e um vértice origem (*Single Source Shortest Path Problem*).\n",
    "\n"
   ]
  },
  {
   "cell_type": "markdown",
   "metadata": {},
   "source": [
    "## Algoritmo de Dijkstra\n",
    "\n",
    "Aqui vamos utilizar o algoritmo de Dijkstra por ser um dos mais famosos.\n",
    "\n",
    "Este algoritmo calcula **a menor distância entre um nó e todos os outros nós no grafo**.\n",
    "\n",
    "Considere o grafo a seguir:\n",
    "\n",
    "<img src=\"https://www.codingame.com/servlet/fileservlet?id=14497257275137\" width=300>\n",
    "\n",
    "Vamos calcular o menor caminho entre o nó **C** e todos os outros nó do grafo!!\n",
    "\n",
    "Durante o algoritmo, vamos marcar todos os nós **com a menor distância entre este nó e o nó C**.\n",
    "\n",
    "A distância entre o nó C e ele mesmo é 0.\n",
    "\n",
    "Inicialmente, a distância entre todos os nós é $\\infty$. Já já vai ficar claro o porquê.\n",
    "\n",
    "A cada iteração, vamos também focar em um único nó, o **nó atual**, que será marcado por um ponto vermelho.\n",
    "\n",
    "<img src=\"https://www.codingame.com/servlet/fileservlet?id=14497265537633\" width=300>\n",
    "\n",
    "Nós vamos também criar listas para os menores caminhos! Isso vai permitir termos não somente o comprimento dos menores caminhos entre os nós e **C**, como também o caminho em si!\n",
    "\n",
    "Inicialmente, temos:\n",
    "\n",
    "```\n",
    "Caminho entre C e A = []\n",
    "Caminho entre C e B = []\n",
    "Caminho entre C e C = [C]\n",
    "Caminho entre C e D = []\n",
    "Caminho entre C e E = []\n",
    "```\n",
    "\n",
    "As listas serão alteradas toda vez que atualizarmos as distâncias mínimas, de modo que as listas finais expressarão o menor caminho!\n",
    "\n",
    "Vamos ver o passo a passo:\n",
    "\n",
    "### Nó atual: C\n",
    "\n",
    "<img src=\"https://www.codingame.com/servlet/fileservlet?id=14497279927597\" width=300>\n",
    "\n",
    "<img src=\"https://www.codingame.com/servlet/fileservlet?id=14497284902206\" width=300>\n",
    "\n",
    "<img src=\"https://www.codingame.com/servlet/fileservlet?id=14497297264677\" width=300>\n",
    "\n",
    "<img src=\"https://www.codingame.com/servlet/fileservlet?id=14497301316895\" width=300>\n",
    "\n",
    "```\n",
    "Caminho entre C e A = [C, A]\n",
    "Caminho entre C e B = [C, B]\n",
    "Caminho entre C e C = [C]\n",
    "Caminho entre C e D = [C, D]\n",
    "Caminho entre C e E = []\n",
    "```\n",
    "\n",
    "### Nó atual: A\n",
    "\n",
    "<img src=\"https://www.codingame.com/servlet/fileservlet?id=14497311165233\" width=300>\n",
    "\n",
    "<img src=\"https://www.codingame.com/servlet/fileservlet?id=14497327460640\" width=300>\n",
    "\n",
    "```\n",
    "Caminho entre C e A = [C, A]\n",
    "Caminho entre C e B = [C, A, B]\n",
    "Caminho entre C e C = [C]\n",
    "Caminho entre C e D = [C, D]\n",
    "Caminho entre C e E = []\n",
    "```\n",
    "\n",
    "### Nó atual: D\n",
    "\n",
    "<img src=\"https://www.codingame.com/servlet/fileservlet?id=14497330975308\" width=300>\n",
    "\n",
    "```\n",
    "Caminho entre C e A = [C, A]\n",
    "Caminho entre C e B = [C, A, B]\n",
    "Caminho entre C e C = [C]\n",
    "Caminho entre C e D = [C, D]\n",
    "Caminho entre C e E = [C, D, E]\n",
    "```\n",
    "\n",
    "### Nó atual: B\n",
    "\n",
    "<img src=\"https://www.codingame.com/servlet/fileservlet?id=14497346742885\" width=300>\n",
    "\n",
    "```\n",
    "Caminho entre C e A = [C, A]\n",
    "Caminho entre C e B = [C, A, B]\n",
    "Caminho entre C e C = [C]\n",
    "Caminho entre C e D = [C, D]\n",
    "Caminho entre C e E = [(C, B), E] = [C, A, B, E]\n",
    "```\n",
    "\n",
    "### Nó atual: E\n",
    "\n",
    "<img src=\"https://www.codingame.com/servlet/fileservlet?id=14497350226741\" width=300>\n",
    "\n",
    "### FIM\n",
    "\n",
    "<img src=\"https://www.codingame.com/servlet/fileservlet?id=14497361633811\" width=300>\n",
    "\n",
    "```\n",
    "Caminho entre C e A = [C, A]\n",
    "Caminho entre C e B = [C, A, B]\n",
    "Caminho entre C e C = [C]\n",
    "Caminho entre C e D = [C, D]\n",
    "Caminho entre C e E = [C, A, B, E]\n",
    "```\n",
    "\n",
    "Esquematicamente, temos o algoritmo:\n",
    "\n",
    "\n",
    "- 1: Marque o nó de origem com distância zero, e os demais nós com distância $\\infty$\n",
    "\n",
    "- 2: Atribua aos nós não visitados a menor entre as distâncias atuais entre o nó C\n",
    "\n",
    "- 3: Para cada vizinho V do nó C: adicione a distância atual de C com o peso da aresta conectando C-V. Se for menor que a distância atual de N, mude a distância atual para este valor.\n",
    "\n",
    "- 4: Marque o nó atual C como visitado.\n",
    "\n",
    "- 5: Se ainda houver nós não visitados, volte para o passo 2.\n",
    "\n",
    "__________\n",
    "\n",
    "Tirei as imagens acima [deste post](https://www.codingame.com/playgrounds/1608/shortest-paths-with-dijkstras-algorithm/dijkstras-algorithm). Vale a leitura!"
   ]
  },
  {
   "cell_type": "markdown",
   "metadata": {},
   "source": [
    "_________"
   ]
  },
  {
   "cell_type": "markdown",
   "metadata": {},
   "source": [
    "## Na aula que vem: [NetworkX!](https://networkx.org/)\n",
    "\n",
    "Conheceremos algumas funcionalidades desta biblioteca para a análise de grafos/redes em Python!\n",
    "\n",
    "<img src=\"https://networkx.org/_static/networkx_logo.svg\">"
   ]
  },
  {
   "cell_type": "code",
   "execution_count": 1,
   "metadata": {
    "ExecuteTime": {
     "end_time": "2021-12-10T20:57:45.021681Z",
     "start_time": "2021-12-10T20:57:45.005390Z"
    }
   },
   "outputs": [],
   "source": [
    "# !pip install networkx"
   ]
  },
  {
   "cell_type": "markdown",
   "metadata": {},
   "source": [
    "___________"
   ]
  }
 ],
 "metadata": {
  "kernelspec": {
   "display_name": "Python 3",
   "language": "python",
   "name": "python3"
  },
  "language_info": {
   "codemirror_mode": {
    "name": "ipython",
    "version": 3
   },
   "file_extension": ".py",
   "mimetype": "text/x-python",
   "name": "python",
   "nbconvert_exporter": "python",
   "pygments_lexer": "ipython3",
   "version": "3.8.3"
  }
 },
 "nbformat": 4,
 "nbformat_minor": 4
}
