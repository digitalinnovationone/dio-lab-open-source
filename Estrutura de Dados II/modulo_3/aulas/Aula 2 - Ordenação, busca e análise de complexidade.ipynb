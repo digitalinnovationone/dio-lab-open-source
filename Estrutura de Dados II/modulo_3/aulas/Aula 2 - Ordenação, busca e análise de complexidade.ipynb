{
 "cells": [
  {
   "cell_type": "markdown",
   "metadata": {},
   "source": [
    "# Aula 2 - Algoritmos de ordenação e análise de complexidade\n",
    "\n",
    "Na aula de hoje, vamos explorar os seguintes tópicos em Python:\n",
    "\n",
    "- 1) Algoritmos de ordenação (sort)\n",
    "- 2) Análise de Complexidade\n",
    "- 3) Exemplo prático: busca binária\n",
    "_______\n"
   ]
  },
  {
   "cell_type": "code",
   "execution_count": 1,
   "metadata": {
    "ExecuteTime": {
     "end_time": "2021-12-02T22:15:57.998688Z",
     "start_time": "2021-12-02T22:15:57.980702Z"
    }
   },
   "outputs": [],
   "source": [
    "lista = [1, 4, 42, -5, 6]"
   ]
  },
  {
   "cell_type": "code",
   "execution_count": 2,
   "metadata": {
    "ExecuteTime": {
     "end_time": "2021-12-02T22:16:11.319606Z",
     "start_time": "2021-12-02T22:16:11.287626Z"
    }
   },
   "outputs": [
    {
     "data": {
      "text/plain": [
       "[-5, 1, 4, 6, 42]"
      ]
     },
     "execution_count": 2,
     "metadata": {},
     "output_type": "execute_result"
    }
   ],
   "source": [
    "sorted(lista)"
   ]
  },
  {
   "cell_type": "code",
   "execution_count": 3,
   "metadata": {
    "ExecuteTime": {
     "end_time": "2021-12-02T22:21:22.670024Z",
     "start_time": "2021-12-02T22:21:22.655036Z"
    }
   },
   "outputs": [
    {
     "data": {
      "text/plain": [
       "False"
      ]
     },
     "execution_count": 3,
     "metadata": {},
     "output_type": "execute_result"
    }
   ],
   "source": [
    "1 > 2"
   ]
  },
  {
   "cell_type": "code",
   "execution_count": 4,
   "metadata": {
    "ExecuteTime": {
     "end_time": "2021-12-02T22:21:49.146890Z",
     "start_time": "2021-12-02T22:21:49.129900Z"
    }
   },
   "outputs": [
    {
     "data": {
      "text/plain": [
       "False"
      ]
     },
     "execution_count": 4,
     "metadata": {},
     "output_type": "execute_result"
    }
   ],
   "source": [
    "\"abacate\" > \"abacaxi\""
   ]
  },
  {
   "cell_type": "markdown",
   "metadata": {},
   "source": [
    "______\n",
    "________\n",
    "______"
   ]
  },
  {
   "cell_type": "markdown",
   "metadata": {},
   "source": [
    "## 1) Algoritmos de ordenação (sort)\n",
    "\n",
    "Problema: ordenar uma lista\n",
    "\n",
    "Solução é dada por um **algoritmo de ordenação**, que precisa inevitavelmente, de fazer duas \"coisas\":\n",
    "\n",
    "- De alguma forma, percorrer os elementos;\n",
    "- Realizar operações logicas de comparação ordinal;\n",
    "\n",
    "Vamos usar as animações [deste site](https://www.toptal.com/developers/sorting-algorithms) para ilustrar os algoritmos! \n",
    "\n",
    "[Este vídeo](https://www.youtube.com/watch?v=OOBBI-kSChM&t=1s) é legal após a discussão de análise de complexidade.\n",
    "\n",
    "Assista também [este vídeo](https://www.youtube.com/watch?v=kPRA0W1kECg)!"
   ]
  },
  {
   "cell_type": "markdown",
   "metadata": {},
   "source": [
    "Dado uma lista de tamanho n, em que n = 10 e o array tem valores 2, 5, 1, 3, 4, 6, 9, 8, 7, 0, nesta sequência, crie uma função que ordene os valores de forma crescente."
   ]
  },
  {
   "cell_type": "markdown",
   "metadata": {},
   "source": [
    "#### [Selection Sort](https://www.youtube.com/watch?v=Ns4TPTC8whw)\n",
    "\n",
    "### $O(n^2)$\n",
    "\n",
    "<img src=\"https://upload.wikimedia.org/wikipedia/commons/9/94/Selection-Sort-Animation.gif\" height=300 align=left>"
   ]
  },
  {
   "cell_type": "code",
   "execution_count": 31,
   "metadata": {
    "ExecuteTime": {
     "end_time": "2021-12-02T23:22:42.588050Z",
     "start_time": "2021-12-02T23:22:42.570060Z"
    }
   },
   "outputs": [],
   "source": [
    "lista = [2, 5, 1, 3, 4, 6, 9, 8, 7, 0]"
   ]
  },
  {
   "cell_type": "code",
   "execution_count": 32,
   "metadata": {
    "ExecuteTime": {
     "end_time": "2021-12-02T23:22:46.467211Z",
     "start_time": "2021-12-02T23:22:46.446225Z"
    }
   },
   "outputs": [
    {
     "name": "stdout",
     "output_type": "stream",
     "text": [
      "[2, 5, 1, 3, 4, 6, 9, 8, 7, 0]\n",
      "\n",
      "\n",
      "\n",
      "entrada: 0, 2\n",
      "\n",
      "saída: 9, 0\n",
      "\n",
      "[0, 5, 1, 3, 4, 6, 9, 8, 7, 2]\n",
      "\n",
      "\n",
      "entrada: 1, 5\n",
      "\n",
      "saída: 2, 1\n",
      "\n",
      "[0, 1, 5, 3, 4, 6, 9, 8, 7, 2]\n",
      "\n",
      "\n",
      "entrada: 2, 5\n",
      "\n",
      "saída: 9, 2\n",
      "\n",
      "[0, 1, 2, 3, 4, 6, 9, 8, 7, 5]\n",
      "\n",
      "\n",
      "entrada: 3, 3\n",
      "\n",
      "saída: 3, 3\n",
      "\n",
      "[0, 1, 2, 3, 4, 6, 9, 8, 7, 5]\n",
      "\n",
      "\n",
      "entrada: 4, 4\n",
      "\n",
      "saída: 4, 4\n",
      "\n",
      "[0, 1, 2, 3, 4, 6, 9, 8, 7, 5]\n",
      "\n",
      "\n",
      "entrada: 5, 6\n",
      "\n",
      "saída: 9, 5\n",
      "\n",
      "[0, 1, 2, 3, 4, 5, 9, 8, 7, 6]\n",
      "\n",
      "\n",
      "entrada: 6, 9\n",
      "\n",
      "saída: 9, 6\n",
      "\n",
      "[0, 1, 2, 3, 4, 5, 6, 8, 7, 9]\n",
      "\n",
      "\n",
      "entrada: 7, 8\n",
      "\n",
      "saída: 8, 7\n",
      "\n",
      "[0, 1, 2, 3, 4, 5, 6, 7, 8, 9]\n",
      "\n",
      "\n",
      "entrada: 8, 8\n",
      "\n",
      "saída: 8, 8\n",
      "\n",
      "[0, 1, 2, 3, 4, 5, 6, 7, 8, 9]\n",
      "\n",
      "\n",
      "entrada: 9, 9\n",
      "\n",
      "saída: 9, 9\n",
      "\n",
      "[0, 1, 2, 3, 4, 5, 6, 7, 8, 9]\n",
      "\n",
      "\n"
     ]
    }
   ],
   "source": [
    "print(lista)\n",
    "print(\"\\n\\n\")\n",
    "\n",
    "for i in range(len(lista)):\n",
    "    \n",
    "    idx_menor = i\n",
    "    \n",
    "    print(f\"entrada: {idx_menor}, {lista[idx_menor]}\\n\")\n",
    "    \n",
    "    for j in range(i+1, len(lista)):\n",
    "        \n",
    "        if lista[j] < lista[idx_menor]: \n",
    "            \n",
    "            idx_menor = j\n",
    "        \n",
    "    print(f\"saída: {idx_menor}, {lista[idx_menor]}\\n\")\n",
    "    \n",
    "    # fazendo o swap explicitamente com variavel auxiliar\n",
    "    aux = lista[idx_menor]\n",
    "    lista[idx_menor] = lista[i]\n",
    "    lista[i] = aux\n",
    "    \n",
    "#     # outra opção, se aproveitando do \"açúcar sintático\" do python\n",
    "#     lista[i], lista[idx_menor] = lista[idx_menor], lista[i]\n",
    "    \n",
    "    print(lista)\n",
    "    \n",
    "    print(\"\\n\")"
   ]
  },
  {
   "cell_type": "markdown",
   "metadata": {},
   "source": [
    "Colocando dentro de uma função, tirando os prints:"
   ]
  },
  {
   "cell_type": "code",
   "execution_count": 58,
   "metadata": {
    "ExecuteTime": {
     "end_time": "2021-12-02T23:32:00.707755Z",
     "start_time": "2021-12-02T23:32:00.695853Z"
    }
   },
   "outputs": [],
   "source": [
    "lista = [2, 5, 1, 3, 3, 3, 4, 6, 9, 8, 7, 0]"
   ]
  },
  {
   "cell_type": "code",
   "execution_count": 59,
   "metadata": {
    "ExecuteTime": {
     "end_time": "2021-12-02T23:32:01.798651Z",
     "start_time": "2021-12-02T23:32:01.783675Z"
    }
   },
   "outputs": [],
   "source": [
    "def selection_sort(lista):\n",
    "    \n",
    "    # fazemos uma copia pra NÃO alterar inplace\n",
    "    lista = lista.copy()\n",
    "\n",
    "    for i in range(len(lista)):\n",
    "\n",
    "        idx_menor = i\n",
    "\n",
    "        for j in range(i+1, len(lista)):\n",
    "\n",
    "            if lista[j] < lista[idx_menor]: \n",
    "\n",
    "                idx_menor = j\n",
    "\n",
    "        # faz o swap\n",
    "        lista[i], lista[idx_menor] = lista[idx_menor], lista[i]\n",
    "        \n",
    "    return lista"
   ]
  },
  {
   "cell_type": "code",
   "execution_count": 60,
   "metadata": {
    "ExecuteTime": {
     "end_time": "2021-12-02T23:32:02.172278Z",
     "start_time": "2021-12-02T23:32:02.164287Z"
    }
   },
   "outputs": [
    {
     "data": {
      "text/plain": [
       "[0, 1, 2, 3, 3, 3, 4, 5, 6, 7, 8, 9]"
      ]
     },
     "execution_count": 60,
     "metadata": {},
     "output_type": "execute_result"
    }
   ],
   "source": [
    "selection_sort(lista)"
   ]
  },
  {
   "cell_type": "code",
   "execution_count": 61,
   "metadata": {
    "ExecuteTime": {
     "end_time": "2021-12-02T23:32:02.625936Z",
     "start_time": "2021-12-02T23:32:02.603937Z"
    }
   },
   "outputs": [
    {
     "data": {
      "text/plain": [
       "[2, 5, 1, 3, 3, 3, 4, 6, 9, 8, 7, 0]"
      ]
     },
     "execution_count": 61,
     "metadata": {},
     "output_type": "execute_result"
    }
   ],
   "source": [
    "lista"
   ]
  },
  {
   "cell_type": "markdown",
   "metadata": {},
   "source": [
    "#### [Insertion Sort](https://www.youtube.com/watch?v=ROalU379l3U)\n",
    "\n",
    "### $O(n^2)$\n",
    "\n",
    "\n",
    "\n",
    "<img src=\"https://upload.wikimedia.org/wikipedia/commons/0/0f/Insertion-sort-example-300px.gif\" align=left>"
   ]
  },
  {
   "cell_type": "markdown",
   "metadata": {},
   "source": [
    "1 2 3 4 5 6 ... 64 --> n\n",
    "\n",
    "1 2 4 8 16 32 64 --> log_2(n)\n",
    "\n",
    "_____________\n",
    "\n",
    "1024 1023 1022 .... 2 --> n\n",
    "\n",
    "1024 512 256 128 64 32 16 8 4 2 --> log_2(n)"
   ]
  },
  {
   "cell_type": "code",
   "execution_count": 62,
   "metadata": {
    "ExecuteTime": {
     "end_time": "2021-12-03T00:24:01.700345Z",
     "start_time": "2021-12-03T00:24:01.685357Z"
    }
   },
   "outputs": [],
   "source": [
    "def insertion_sort(lista):\n",
    "    \n",
    "    lista = lista.copy()\n",
    "    \n",
    "    for i in range(1, len(lista)):\n",
    "\n",
    "        marcado = lista[i]\n",
    "\n",
    "        # marcador de posição de trás pra frente\n",
    "        j = i - 1\n",
    "\n",
    "        while j >= 0 and marcado < lista[j]:\n",
    "\n",
    "            lista[j+1] = lista[j]\n",
    "\n",
    "            j = j - 1\n",
    "\n",
    "        # faço a inserção efetivamente\n",
    "        lista[j+1] = marcado\n",
    "        \n",
    "    return lista"
   ]
  },
  {
   "cell_type": "code",
   "execution_count": 63,
   "metadata": {
    "ExecuteTime": {
     "end_time": "2021-12-03T00:24:16.052992Z",
     "start_time": "2021-12-03T00:24:16.037003Z"
    }
   },
   "outputs": [
    {
     "data": {
      "text/plain": [
       "[2, 5, 1, 3, 3, 3, 4, 6, 9, 8, 7, 0]"
      ]
     },
     "execution_count": 63,
     "metadata": {},
     "output_type": "execute_result"
    }
   ],
   "source": [
    "lista"
   ]
  },
  {
   "cell_type": "code",
   "execution_count": 65,
   "metadata": {
    "ExecuteTime": {
     "end_time": "2021-12-03T00:26:55.885103Z",
     "start_time": "2021-12-03T00:26:55.872110Z"
    }
   },
   "outputs": [
    {
     "data": {
      "text/plain": [
       "[0, 1, 2, 3, 3, 3, 4, 5, 6, 7, 8, 9]"
      ]
     },
     "execution_count": 65,
     "metadata": {},
     "output_type": "execute_result"
    }
   ],
   "source": [
    "lista_ordenada = insertion_sort(lista)\n",
    "\n",
    "lista_ordenada"
   ]
  },
  {
   "cell_type": "code",
   "execution_count": 66,
   "metadata": {
    "ExecuteTime": {
     "end_time": "2021-12-03T00:27:06.193119Z",
     "start_time": "2021-12-03T00:27:06.182014Z"
    }
   },
   "outputs": [
    {
     "data": {
      "text/plain": [
       "[2, 5, 1, 3, 3, 3, 4, 6, 9, 8, 7, 0]"
      ]
     },
     "execution_count": 66,
     "metadata": {},
     "output_type": "execute_result"
    }
   ],
   "source": [
    "lista"
   ]
  },
  {
   "cell_type": "markdown",
   "metadata": {},
   "source": [
    "#### [Bubble Sort](https://www.youtube.com/watch?v=lyZQPjUT5B4)\n",
    "\n",
    "## $O(n^2)$\n",
    "\n",
    "<img src=\"https://upload.wikimedia.org/wikipedia/commons/c/c8/Bubble-sort-example-300px.gif\" align=left>"
   ]
  },
  {
   "cell_type": "markdown",
   "metadata": {},
   "source": [
    "Desafio: tentem implementar!!"
   ]
  },
  {
   "cell_type": "code",
   "execution_count": null,
   "metadata": {},
   "outputs": [],
   "source": [
    "# pra casa\n",
    "# dicas: vc vai precisar de dois loops\n",
    "# o segundo loop, não precisa fazer a ultima comparação\n",
    "# faça os swaps (recomndo usar o \"sugar\")"
   ]
  },
  {
   "cell_type": "markdown",
   "metadata": {},
   "source": [
    "Sugestão de solução:"
   ]
  },
  {
   "cell_type": "code",
   "execution_count": null,
   "metadata": {},
   "outputs": [],
   "source": [
    "def bubblesort(lista):\n",
    "    \n",
    "    lista = lista.copy()\n",
    "    \n",
    "    for i in range(len(lista)):\n",
    "        \n",
    "        for j in range(len(lista) - 1):\n",
    "            \n",
    "            if lista[j + 1] < lista[j]:\n",
    "                \n",
    "                lista[j + 1], lista[j] = lista[j], lista[j + 1]\n",
    "                \n",
    "    return lista"
   ]
  },
  {
   "cell_type": "markdown",
   "metadata": {},
   "source": [
    "#### [Quick Sort](https://www.youtube.com/watch?v=ywWBy6J5gz8&t=214s)\n",
    "\n",
    "### $O(n \\log n)$\n",
    "\n",
    "<img src=\"https://upload.wikimedia.org/wikipedia/commons/6/6a/Sorting_quicksort_anim.gif\" align=left>"
   ]
  },
  {
   "cell_type": "code",
   "execution_count": 2,
   "metadata": {
    "ExecuteTime": {
     "end_time": "2021-12-07T23:31:18.019155Z",
     "start_time": "2021-12-07T23:31:18.008165Z"
    }
   },
   "outputs": [],
   "source": [
    "# dica: abra as recursões!!! (acompanhe \"na mão\" as chamadas recursivas)"
   ]
  },
  {
   "cell_type": "code",
   "execution_count": 67,
   "metadata": {
    "ExecuteTime": {
     "end_time": "2021-12-03T00:35:43.344049Z",
     "start_time": "2021-12-03T00:35:43.329058Z"
    }
   },
   "outputs": [],
   "source": [
    "from random import randint\n",
    "\n",
    "def quicksort(lista):\n",
    "    \n",
    "    print(lista)\n",
    "    \n",
    "    if len(lista) <= 1:\n",
    "        \n",
    "        return lista\n",
    "    \n",
    "    lista_esquerda = []\n",
    "    lista_direita = []\n",
    "    lista_meio = []\n",
    "    \n",
    "    pivo = lista[randint(0, len(lista) - 1)]\n",
    "    \n",
    "    for elemento in lista:\n",
    "        \n",
    "        if elemento == pivo:\n",
    "            \n",
    "            lista_meio.append(elemento)\n",
    "            \n",
    "        elif elemento < pivo:\n",
    "            \n",
    "            lista_esquerda.append(elemento)\n",
    "            \n",
    "        else:\n",
    "            \n",
    "            lista_direita.append(elemento)\n",
    "    \n",
    "    le_ord = quicksort(lista_esquerda)\n",
    "    ld_ord = quicksort(lista_direita)\n",
    "\n",
    "    return le_ord + lista_meio + ld_ord"
   ]
  },
  {
   "cell_type": "markdown",
   "metadata": {},
   "source": [
    "______\n",
    "\n",
    "_______\n",
    "\n",
    "_________"
   ]
  },
  {
   "cell_type": "markdown",
   "metadata": {},
   "source": [
    "## 2) Análise de Complexidade\n",
    "\n",
    "Quando falamos sobre a complexidade de um algoritmo estamos nos referindo à **quantidade de recursos** (tempo de processamento ou espaço de armazenamento) que precisa ser consumida ou alocada para sua execução.\n",
    "\n",
    "Essa análise é fundamental para que possamos projetar algoritmos eficientes e verificar a eficiência dos algoritmos que utilizamos.\n",
    "\n",
    "Além disso, para escolher a estrutura de dados mais adequada para cada problema que precisamos resolver, é necessário identificar **quais operações essa estrutura** fornece com máxima eficiência.\n",
    "\n",
    "\n"
   ]
  },
  {
   "cell_type": "markdown",
   "metadata": {},
   "source": [
    "__________"
   ]
  },
  {
   "cell_type": "markdown",
   "metadata": {},
   "source": [
    "### 2.1) Como analisar?\n",
    "\n",
    "Definimos `T(n)`, uma função que representa o **tempo de execução** em função do **tamanho da entrada** `n`.\n",
    "\n",
    "O tamanho da entrada aqui é a quantidade de \"coisas\" que o algoritmo precisa processar.\n",
    "\n",
    "Fazemos a análise em função do tamanho da entrada pois o que nos interessa é identificar como o algoritmo irá escalar.\n",
    "\n",
    "Em outras palavras queremos responder algo do tipo: \"Quando dobramos a entrada, o tempo de execução dobra? quadruplica?\". \n",
    "\n",
    "Enfim, o que acontece com o tempo de execução a medida que o **tamanho da entrada aumenta**.\n",
    "\n",
    "Além disso, queremos uma medida que seja geral o suficiente para capturar o comportamento do algoritmo independentemente do tipo de máquina que o código irá executar.\n",
    "\n",
    "Se usássemos segundos ou minutos para medir o tempo, teríamos que fazer uma análise diferente para cada processador existente.\n",
    "\n",
    "Por esse motivo, o que contamos é a **quantidade de operações básicas que são executadas** e cada uma destas instruções leva um tempo constante.\n",
    "\n"
   ]
  },
  {
   "cell_type": "markdown",
   "metadata": {},
   "source": [
    "__________"
   ]
  },
  {
   "cell_type": "code",
   "execution_count": 3,
   "metadata": {
    "ExecuteTime": {
     "end_time": "2021-12-03T22:30:39.323542Z",
     "start_time": "2021-12-03T22:30:39.304552Z"
    }
   },
   "outputs": [],
   "source": [
    "def f(n):\n",
    "    \n",
    "    a = 0\n",
    "    \n",
    "    for i in range(n):\n",
    "        \n",
    "        a = a + i\n",
    "        \n",
    "    return a"
   ]
  },
  {
   "cell_type": "code",
   "execution_count": 34,
   "metadata": {
    "ExecuteTime": {
     "end_time": "2021-12-03T22:46:04.296526Z",
     "start_time": "2021-12-03T22:46:04.286535Z"
    }
   },
   "outputs": [
    {
     "data": {
      "text/plain": [
       "45"
      ]
     },
     "execution_count": 34,
     "metadata": {},
     "output_type": "execute_result"
    }
   ],
   "source": [
    "f(10)"
   ]
  },
  {
   "cell_type": "code",
   "execution_count": 33,
   "metadata": {
    "ExecuteTime": {
     "end_time": "2021-12-03T22:45:58.724044Z",
     "start_time": "2021-12-03T22:45:58.387247Z"
    }
   },
   "outputs": [
    {
     "data": {
      "text/plain": [
       "499999500000"
      ]
     },
     "execution_count": 33,
     "metadata": {},
     "output_type": "execute_result"
    }
   ],
   "source": [
    "f(1000000)"
   ]
  },
  {
   "cell_type": "markdown",
   "metadata": {},
   "source": [
    "f(5)\n",
    "\n",
    "----------\n",
    "\n",
    "a = 0\n",
    "\n",
    "i += 1\n",
    "a = a + i\n",
    "\n",
    "i += 1\n",
    "a = a + i\n",
    "\n",
    "i += 1\n",
    "a = a + i\n",
    "\n",
    "i += 1\n",
    "a = a + i\n",
    "\n",
    "i += 1\n",
    "a = a + i"
   ]
  },
  {
   "cell_type": "markdown",
   "metadata": {},
   "source": [
    "Vejamos, por exemplo, a análise do seguinte trecho de código:\n",
    "\n",
    "``` python\n",
    "a = 0                 ... 1 atribuição\n",
    "for i in range(n):    ... executa n vezes o que estiver dentro do for\n",
    "\ta = a + i         ...... atribuição e soma são executadas n vezes\n",
    "```\n",
    "\n",
    "Logo, `T(n) = 1 + n`operações.\n"
   ]
  },
  {
   "cell_type": "code",
   "execution_count": 20,
   "metadata": {
    "ExecuteTime": {
     "end_time": "2021-12-03T22:42:29.808341Z",
     "start_time": "2021-12-03T22:42:29.792345Z"
    }
   },
   "outputs": [],
   "source": [
    "T = lambda n: 1 + 4*n"
   ]
  },
  {
   "cell_type": "code",
   "execution_count": 21,
   "metadata": {
    "ExecuteTime": {
     "end_time": "2021-12-03T22:42:29.997440Z",
     "start_time": "2021-12-03T22:42:29.982447Z"
    }
   },
   "outputs": [
    {
     "data": {
      "text/plain": [
       "(41, 201)"
      ]
     },
     "execution_count": 21,
     "metadata": {},
     "output_type": "execute_result"
    }
   ],
   "source": [
    "T(10), T(50)"
   ]
  },
  {
   "cell_type": "code",
   "execution_count": 22,
   "metadata": {
    "ExecuteTime": {
     "end_time": "2021-12-03T22:42:30.167363Z",
     "start_time": "2021-12-03T22:42:30.148357Z"
    }
   },
   "outputs": [
    {
     "data": {
      "text/plain": [
       "(4001, 20001)"
      ]
     },
     "execution_count": 22,
     "metadata": {},
     "output_type": "execute_result"
    }
   ],
   "source": [
    "T(1000), T(5000)"
   ]
  },
  {
   "cell_type": "code",
   "execution_count": 29,
   "metadata": {
    "ExecuteTime": {
     "end_time": "2021-12-03T22:45:23.983116Z",
     "start_time": "2021-12-03T22:45:23.973120Z"
    }
   },
   "outputs": [
    {
     "data": {
      "text/plain": [
       "(1000001, 5000001)"
      ]
     },
     "execution_count": 29,
     "metadata": {},
     "output_type": "execute_result"
    }
   ],
   "source": [
    "T(1000000), T(5000000)"
   ]
  },
  {
   "cell_type": "code",
   "execution_count": 25,
   "metadata": {
    "ExecuteTime": {
     "end_time": "2021-12-03T22:42:33.036893Z",
     "start_time": "2021-12-03T22:42:33.028898Z"
    }
   },
   "outputs": [],
   "source": [
    "T2 = lambda n: 1 + n"
   ]
  },
  {
   "cell_type": "code",
   "execution_count": 26,
   "metadata": {
    "ExecuteTime": {
     "end_time": "2021-12-03T22:42:39.445555Z",
     "start_time": "2021-12-03T22:42:39.436561Z"
    }
   },
   "outputs": [
    {
     "data": {
      "text/plain": [
       "(11, 51)"
      ]
     },
     "execution_count": 26,
     "metadata": {},
     "output_type": "execute_result"
    }
   ],
   "source": [
    "T2(10), T2(50)"
   ]
  },
  {
   "cell_type": "code",
   "execution_count": 27,
   "metadata": {
    "ExecuteTime": {
     "end_time": "2021-12-03T22:42:54.311648Z",
     "start_time": "2021-12-03T22:42:54.301623Z"
    }
   },
   "outputs": [
    {
     "data": {
      "text/plain": [
       "(1001, 5001)"
      ]
     },
     "execution_count": 27,
     "metadata": {},
     "output_type": "execute_result"
    }
   ],
   "source": [
    "T2(1000), T2(5000)"
   ]
  },
  {
   "cell_type": "code",
   "execution_count": 28,
   "metadata": {
    "ExecuteTime": {
     "end_time": "2021-12-03T22:43:05.084871Z",
     "start_time": "2021-12-03T22:43:05.067883Z"
    }
   },
   "outputs": [
    {
     "data": {
      "text/plain": [
       "(1000001, 5000001)"
      ]
     },
     "execution_count": 28,
     "metadata": {},
     "output_type": "execute_result"
    }
   ],
   "source": [
    "T2(1000000), T2(5000000)"
   ]
  },
  {
   "cell_type": "markdown",
   "metadata": {},
   "source": [
    "__________"
   ]
  },
  {
   "cell_type": "markdown",
   "metadata": {},
   "source": [
    "### 2.2) Comportamento assintótico (n grande, $n \\rightarrow \\infty$)\n",
    "\n",
    "Suponha que você tem algumas listas que precisam ser ordenadas e duas opções de algoritmos com as seguintes complexidades:\n",
    "\n",
    "- Algoritmo 1: 2n² + 5n operações\n",
    "- Algoritmo 2: 500n + 4000 operações\n",
    "\n",
    "Qual deles é mais eficiente para ordenar uma lista com 10 itens? e com 1000? \n",
    "\n",
    "Qual você escolheria para utilizar em uma lista arbitrária (da qual você não saberia o tamanho previamente)?\n",
    "\n",
    "Vejamos abaixo um gráfico do tempo de exeução desses dois algoritmos, Algoritmo 1 em vermelho e Algoritmo 2 em azul:\n",
    "\n",
    "<img src=\"https://s3-sa-east-1.amazonaws.com/lcpi/e1207199-1f9e-4859-a595-07fe393154ab.png\" width=700>\n",
    "\n"
   ]
  },
  {
   "cell_type": "markdown",
   "metadata": {},
   "source": [
    "Criando funções de complexidade:"
   ]
  },
  {
   "cell_type": "code",
   "execution_count": 31,
   "metadata": {
    "ExecuteTime": {
     "end_time": "2021-12-08T01:21:09.606540Z",
     "start_time": "2021-12-08T01:21:09.599543Z"
    }
   },
   "outputs": [],
   "source": [
    "f1 = lambda n: 2*(n**2) + 5*n\n",
    "\n",
    "f2 = lambda n: 500*n + 4000"
   ]
  },
  {
   "cell_type": "code",
   "execution_count": 43,
   "metadata": {
    "ExecuteTime": {
     "end_time": "2021-12-03T23:00:51.142278Z",
     "start_time": "2021-12-03T23:00:51.134283Z"
    }
   },
   "outputs": [
    {
     "data": {
      "text/plain": [
       "(250, 9000)"
      ]
     },
     "execution_count": 43,
     "metadata": {},
     "output_type": "execute_result"
    }
   ],
   "source": [
    "f1(10), f2(10)"
   ]
  },
  {
   "cell_type": "code",
   "execution_count": 44,
   "metadata": {
    "ExecuteTime": {
     "end_time": "2021-12-03T23:01:05.693694Z",
     "start_time": "2021-12-03T23:01:05.683701Z"
    }
   },
   "outputs": [
    {
     "data": {
      "text/plain": [
       "(20500, 54000)"
      ]
     },
     "execution_count": 44,
     "metadata": {},
     "output_type": "execute_result"
    }
   ],
   "source": [
    "f1(100), f2(100)"
   ]
  },
  {
   "cell_type": "code",
   "execution_count": 45,
   "metadata": {
    "ExecuteTime": {
     "end_time": "2021-12-03T23:01:34.574315Z",
     "start_time": "2021-12-03T23:01:34.556323Z"
    }
   },
   "outputs": [
    {
     "data": {
      "text/plain": [
       "(502500, 254000)"
      ]
     },
     "execution_count": 45,
     "metadata": {},
     "output_type": "execute_result"
    }
   ],
   "source": [
    "f1(500), f2(500)"
   ]
  },
  {
   "cell_type": "code",
   "execution_count": 46,
   "metadata": {
    "ExecuteTime": {
     "end_time": "2021-12-03T23:02:17.409535Z",
     "start_time": "2021-12-03T23:02:17.401538Z"
    }
   },
   "outputs": [
    {
     "data": {
      "text/plain": [
       "(500002500000, 250004000)"
      ]
     },
     "execution_count": 46,
     "metadata": {},
     "output_type": "execute_result"
    }
   ],
   "source": [
    "f1(500000), f2(500000)"
   ]
  },
  {
   "cell_type": "markdown",
   "metadata": {},
   "source": [
    "Olhando pra razão, em diferentes regimes:"
   ]
  },
  {
   "cell_type": "code",
   "execution_count": 49,
   "metadata": {
    "ExecuteTime": {
     "end_time": "2021-12-03T23:04:09.192956Z",
     "start_time": "2021-12-03T23:04:09.177961Z"
    }
   },
   "outputs": [
    {
     "data": {
      "text/plain": [
       "(20500, 54000)"
      ]
     },
     "execution_count": 49,
     "metadata": {},
     "output_type": "execute_result"
    }
   ],
   "source": [
    "n = 100\n",
    "\n",
    "f1(n), f2(n)"
   ]
  },
  {
   "cell_type": "code",
   "execution_count": 60,
   "metadata": {
    "ExecuteTime": {
     "end_time": "2021-12-03T23:05:15.305586Z",
     "start_time": "2021-12-03T23:05:15.284599Z"
    }
   },
   "outputs": [
    {
     "data": {
      "text/plain": [
       "0.9986692015209125"
      ]
     },
     "execution_count": 60,
     "metadata": {},
     "output_type": "execute_result"
    }
   ],
   "source": [
    "n = 255\n",
    "\n",
    "f1(n)/f2(n)"
   ]
  },
  {
   "cell_type": "code",
   "execution_count": 61,
   "metadata": {
    "ExecuteTime": {
     "end_time": "2021-12-03T23:05:15.896030Z",
     "start_time": "2021-12-03T23:05:15.876034Z"
    }
   },
   "outputs": [
    {
     "data": {
      "text/plain": [
       "1.0026666666666666"
      ]
     },
     "execution_count": 61,
     "metadata": {},
     "output_type": "execute_result"
    }
   ],
   "source": [
    "n = 256\n",
    "\n",
    "f1(n)/f2(n)"
   ]
  },
  {
   "cell_type": "code",
   "execution_count": 62,
   "metadata": {
    "ExecuteTime": {
     "end_time": "2021-12-03T23:06:13.891031Z",
     "start_time": "2021-12-03T23:06:13.874040Z"
    }
   },
   "outputs": [
    {
     "data": {
      "text/plain": [
       "3999999.978"
      ]
     },
     "execution_count": 62,
     "metadata": {},
     "output_type": "execute_result"
    }
   ],
   "source": [
    "n = 1000000000\n",
    "\n",
    "f1(n)/f2(n)"
   ]
  },
  {
   "cell_type": "markdown",
   "metadata": {},
   "source": [
    "Vamos plotar?? Pequeno spoiler!"
   ]
  },
  {
   "cell_type": "code",
   "execution_count": 72,
   "metadata": {
    "ExecuteTime": {
     "end_time": "2021-12-03T23:17:51.255856Z",
     "start_time": "2021-12-03T23:17:51.233869Z"
    }
   },
   "outputs": [
    {
     "data": {
      "text/plain": [
       "array([   0.        ,   10.1010101 ,   20.2020202 ,   30.3030303 ,\n",
       "         40.4040404 ,   50.50505051,   60.60606061,   70.70707071,\n",
       "         80.80808081,   90.90909091,  101.01010101,  111.11111111,\n",
       "        121.21212121,  131.31313131,  141.41414141,  151.51515152,\n",
       "        161.61616162,  171.71717172,  181.81818182,  191.91919192,\n",
       "        202.02020202,  212.12121212,  222.22222222,  232.32323232,\n",
       "        242.42424242,  252.52525253,  262.62626263,  272.72727273,\n",
       "        282.82828283,  292.92929293,  303.03030303,  313.13131313,\n",
       "        323.23232323,  333.33333333,  343.43434343,  353.53535354,\n",
       "        363.63636364,  373.73737374,  383.83838384,  393.93939394,\n",
       "        404.04040404,  414.14141414,  424.24242424,  434.34343434,\n",
       "        444.44444444,  454.54545455,  464.64646465,  474.74747475,\n",
       "        484.84848485,  494.94949495,  505.05050505,  515.15151515,\n",
       "        525.25252525,  535.35353535,  545.45454545,  555.55555556,\n",
       "        565.65656566,  575.75757576,  585.85858586,  595.95959596,\n",
       "        606.06060606,  616.16161616,  626.26262626,  636.36363636,\n",
       "        646.46464646,  656.56565657,  666.66666667,  676.76767677,\n",
       "        686.86868687,  696.96969697,  707.07070707,  717.17171717,\n",
       "        727.27272727,  737.37373737,  747.47474747,  757.57575758,\n",
       "        767.67676768,  777.77777778,  787.87878788,  797.97979798,\n",
       "        808.08080808,  818.18181818,  828.28282828,  838.38383838,\n",
       "        848.48484848,  858.58585859,  868.68686869,  878.78787879,\n",
       "        888.88888889,  898.98989899,  909.09090909,  919.19191919,\n",
       "        929.29292929,  939.39393939,  949.49494949,  959.5959596 ,\n",
       "        969.6969697 ,  979.7979798 ,  989.8989899 , 1000.        ])"
      ]
     },
     "execution_count": 72,
     "metadata": {},
     "output_type": "execute_result"
    }
   ],
   "source": [
    "x"
   ]
  },
  {
   "cell_type": "code",
   "execution_count": 73,
   "metadata": {
    "ExecuteTime": {
     "end_time": "2021-12-03T23:18:02.758238Z",
     "start_time": "2021-12-03T23:18:02.742249Z"
    }
   },
   "outputs": [
    {
     "data": {
      "text/plain": [
       "array([0.00000000e+00, 2.54565861e+02, 9.17253341e+02, 1.98806244e+03,\n",
       "       3.46699316e+03, 5.35404551e+03, 7.64921947e+03, 1.03525150e+04,\n",
       "       1.34639323e+04, 1.69834711e+04, 2.09111315e+04, 2.52469136e+04,\n",
       "       2.99908173e+04, 3.51428426e+04, 4.07029895e+04, 4.66712580e+04,\n",
       "       5.30476482e+04, 5.98321600e+04, 6.70247934e+04, 7.46255484e+04,\n",
       "       8.26344251e+04, 9.10514233e+04, 9.98765432e+04, 1.09109785e+05,\n",
       "       1.18751148e+05, 1.28800633e+05, 1.39258239e+05, 1.50123967e+05,\n",
       "       1.61397817e+05, 1.73079788e+05, 1.85169881e+05, 1.97668095e+05,\n",
       "       2.10574431e+05, 2.23888889e+05, 2.37611468e+05, 2.51742169e+05,\n",
       "       2.66280992e+05, 2.81227936e+05, 2.96583002e+05, 3.12346189e+05,\n",
       "       3.28517498e+05, 3.45096929e+05, 3.62084481e+05, 3.79480155e+05,\n",
       "       3.97283951e+05, 4.15495868e+05, 4.34115907e+05, 4.53144067e+05,\n",
       "       4.72580349e+05, 4.92424753e+05, 5.12677278e+05, 5.33337925e+05,\n",
       "       5.54406693e+05, 5.75883583e+05, 5.97768595e+05, 6.20061728e+05,\n",
       "       6.42762983e+05, 6.65872360e+05, 6.89389858e+05, 7.13315478e+05,\n",
       "       7.37649219e+05, 7.62391083e+05, 7.87541067e+05, 8.13099174e+05,\n",
       "       8.39065401e+05, 8.65439751e+05, 8.92222222e+05, 9.19412815e+05,\n",
       "       9.47011529e+05, 9.75018365e+05, 1.00343332e+06, 1.03225640e+06,\n",
       "       1.06148760e+06, 1.09112693e+06, 1.12117437e+06, 1.15162994e+06,\n",
       "       1.18249362e+06, 1.21376543e+06, 1.24544536e+06, 1.27753341e+06,\n",
       "       1.31002959e+06, 1.34293388e+06, 1.37624630e+06, 1.40996684e+06,\n",
       "       1.44409550e+06, 1.47863228e+06, 1.51357719e+06, 1.54893021e+06,\n",
       "       1.58469136e+06, 1.62086063e+06, 1.65743802e+06, 1.69442353e+06,\n",
       "       1.73181716e+06, 1.76961892e+06, 1.80782879e+06, 1.84644679e+06,\n",
       "       1.88547291e+06, 1.92490715e+06, 1.96474952e+06, 2.00500000e+06])"
      ]
     },
     "execution_count": 73,
     "metadata": {},
     "output_type": "execute_result"
    }
   ],
   "source": [
    "f1(x)"
   ]
  },
  {
   "cell_type": "code",
   "execution_count": 32,
   "metadata": {
    "ExecuteTime": {
     "end_time": "2021-12-08T01:21:15.941049Z",
     "start_time": "2021-12-08T01:21:14.904093Z"
    }
   },
   "outputs": [
    {
     "data": {
      "image/png": "[encoded data removed]",
      "text/plain": [
       "<Figure size 864x360 with 1 Axes>"
      ]
     },
     "metadata": {
      "needs_background": "light"
     },
     "output_type": "display_data"
    }
   ],
   "source": [
    "import numpy as np\n",
    "\n",
    "import matplotlib.pyplot as plt\n",
    "\n",
    "x_min = 0\n",
    "x_max = 400\n",
    "x = np.linspace(x_min, x_max, 10000)\n",
    "\n",
    "plt.figure(figsize=(12, 5))\n",
    "\n",
    "plt.plot(x, f1(x), label=\"O(n^2)\")\n",
    "plt.plot(x, f2(x), label=\"O(n)\")\n",
    "\n",
    "plt.legend()\n",
    "plt.show()"
   ]
  },
  {
   "cell_type": "code",
   "execution_count": 95,
   "metadata": {
    "ExecuteTime": {
     "end_time": "2021-12-03T23:23:52.405023Z",
     "start_time": "2021-12-03T23:23:51.770376Z"
    }
   },
   "outputs": [
    {
     "data": {
      "image/png": "[encoded data removed]",
      "text/plain": [
       "<Figure size 864x360 with 1 Axes>"
      ]
     },
     "metadata": {
      "needs_background": "light"
     },
     "output_type": "display_data"
    }
   ],
   "source": [
    "import numpy as np\n",
    "\n",
    "import matplotlib.pyplot as plt\n",
    "\n",
    "x_min = 0\n",
    "x_max = 10\n",
    "x = np.linspace(x_min, x_max, 10000)\n",
    "\n",
    "plt.figure(figsize=(12, 5))\n",
    "\n",
    "plt.plot(x, np.sin(x))\n",
    "plt.plot(x, np.cos(x))\n",
    "\n",
    "f = lambda x: 0.1*x**2 - 3\n",
    "plt.plot(x, f(x))\n",
    "\n",
    "plt.show()"
   ]
  },
  {
   "cell_type": "code",
   "execution_count": 102,
   "metadata": {
    "ExecuteTime": {
     "end_time": "2021-12-03T23:25:40.016589Z",
     "start_time": "2021-12-03T23:25:39.141561Z"
    }
   },
   "outputs": [
    {
     "data": {
      "image/png": "[encoded data removed]",
      "text/plain": [
       "<Figure size 864x360 with 1 Axes>"
      ]
     },
     "metadata": {
      "needs_background": "light"
     },
     "output_type": "display_data"
    }
   ],
   "source": [
    "import numpy as np\n",
    "\n",
    "import matplotlib.pyplot as plt\n",
    "\n",
    "x_min = 1\n",
    "x_max = 5\n",
    "x = np.linspace(x_min, x_max, 10000)\n",
    "\n",
    "plt.figure(figsize=(12, 5))\n",
    "\n",
    "plt.plot(x, x, label=\"x\")\n",
    "plt.plot(x, x*np.log(x), label=\"x*log(x)\")\n",
    "plt.plot(x, x**2, label=\"x^2\")\n",
    "plt.plot(x, np.exp(x), label=\"e(x)\")\n",
    "\n",
    "plt.legend()\n",
    "plt.show()"
   ]
  },
  {
   "cell_type": "code",
   "execution_count": 38,
   "metadata": {
    "ExecuteTime": {
     "end_time": "2021-12-08T01:24:11.155843Z",
     "start_time": "2021-12-08T01:24:10.678056Z"
    }
   },
   "outputs": [
    {
     "data": {
      "image/png": "[encoded data removed]",
      "text/plain": [
       "<Figure size 864x360 with 1 Axes>"
      ]
     },
     "metadata": {
      "needs_background": "light"
     },
     "output_type": "display_data"
    }
   ],
   "source": [
    "x_min = 0\n",
    "x_max = 50\n",
    "x = np.linspace(x_min, x_max, 10000)\n",
    "\n",
    "plt.figure(figsize=(12, 5))\n",
    "\n",
    "plt.plot(x, x**10*np.exp(-x))\n",
    "\n",
    "plt.show()"
   ]
  },
  {
   "cell_type": "markdown",
   "metadata": {},
   "source": [
    "Pelo gráfico podemos ver que, embora Algoritmo 1 seja mais eficiente que Algoritmo 2 para **valores pequenos** de `n`, ele rapidamente se torna muito pior a medida que `n` aumenta.\n",
    "\n",
    "O termo quadrático de Algoritmo 1 (2n²) \"domina\" a função, ou seja, a contribuição desse termo é maior do que todos os outros de maneira que, para valores grandes de `n`, a contribuição dos demais termos se torna irrelevante para o comportamento da função.\n",
    "\n",
    "Dito isso, vemos que não há necessidade de identificar a função `T(n)` completamente precisa levando em conta cada instrução, o que realmente importa é o **comportamento assintótico de `T(n)`**, ou seja o que ocorre com `T(n)` quando `n` aumenta consideravelmente.\n",
    "\n",
    "Em outras palavras, queremos a ordem da função `T(n)` de cada algoritmo, o **termo dominante da função.**\n",
    "\n",
    "> Nesse caso, dizemos que Algoritmo 1 é ``O(n**2)`` (lê-se \"da ordem de n quadrado\", ou \"o de n quadrado\") e Algoritmo 2 é ``O(n)``.\n",
    "\n",
    "E é assim que analisaremos e representaremos a complexidade dos algoritmos daqui para frente.\n"
   ]
  },
  {
   "cell_type": "markdown",
   "metadata": {},
   "source": [
    "__________"
   ]
  },
  {
   "cell_type": "code",
   "execution_count": 105,
   "metadata": {
    "ExecuteTime": {
     "end_time": "2021-12-03T23:40:07.508855Z",
     "start_time": "2021-12-03T23:40:07.498862Z"
    }
   },
   "outputs": [
    {
     "data": {
      "text/plain": [
       "[2, 3, 4]"
      ]
     },
     "execution_count": 105,
     "metadata": {},
     "output_type": "execute_result"
    }
   ],
   "source": [
    "n = 5\n",
    "\n",
    "list(range(2, n))"
   ]
  },
  {
   "cell_type": "code",
   "execution_count": 103,
   "metadata": {
    "ExecuteTime": {
     "end_time": "2021-12-03T23:37:22.419855Z",
     "start_time": "2021-12-03T23:37:22.389870Z"
    }
   },
   "outputs": [
    {
     "data": {
      "text/plain": [
       "18"
      ]
     },
     "execution_count": 103,
     "metadata": {},
     "output_type": "execute_result"
    }
   ],
   "source": [
    "a = 0\n",
    "\n",
    "for i in range(n):\n",
    "    \n",
    "    for j in range(i + 1, n):\n",
    "        \n",
    "        a = a + i\n",
    "        a = a + j\n",
    "        \n",
    "a"
   ]
  },
  {
   "cell_type": "markdown",
   "metadata": {},
   "source": [
    "n = 4\n",
    "\n",
    "i = 0, j = 1 : 4 --> 3 (n-1)\n",
    "\n",
    "i = 1, j = 2 : 4 --> 2 (n-2)\n",
    "\n",
    "i = 2, j = 3 : 4 --> 1 (n-3)\n",
    "\n",
    "i = 3, j = 4 : 4 --> 0 (n-4) \n",
    "    \n",
    "3 + 2 + 1 + 0\n",
    "\n",
    "(n-1) + (n-2) + (n-3) + .... + 1 + 0"
   ]
  },
  {
   "cell_type": "markdown",
   "metadata": {},
   "source": [
    "De modo geral, ao fazer uma análise podemos focar nos **loops do código.**\n",
    "\n",
    "Mas e quando o loop muda de tamanho?\n",
    "\n",
    "``` python\n",
    "a = 0\n",
    "for i in range(n):\n",
    "  for j in range(i + 1, n):\n",
    "    a = a + i\n",
    "    a = a + j\n",
    "print(a)\n",
    "```\n",
    "\n",
    "Nesse caso vemos que o loop mais interno irá executar `n-1` vezes na primeira iteração do loop externo, `n-2` vezes na segunda iteração, e assim por diante:\n",
    "\n",
    "``` \n",
    "(n-1) + (n-2) + (n-3) +...+ 1 \n",
    "``` \n",
    "\n",
    "Trata-se da soma de todos os termos de uma [Progressão Aritmética](https://pt.wikipedia.org/wiki/Progress%C3%A3o_aritm%C3%A9tica), e portanto é da ordem de `n**2`, `O(n**2)`\n",
    "\n",
    "Ou seja, o `for` interno irá executar `n - 1` vezes para cada `n` do `for` externo. O que leva a uma função de complexidade `T(n) = n(n - 1)/2`.\n",
    "\n",
    "Podemos simplificar em `T(n) = (n² - n)/2`, o que dá uma complexidade assintótica de `O(n²)`. \n",
    "\n"
   ]
  },
  {
   "cell_type": "markdown",
   "metadata": {},
   "source": [
    "__________"
   ]
  },
  {
   "cell_type": "code",
   "execution_count": 142,
   "metadata": {
    "ExecuteTime": {
     "end_time": "2021-12-04T00:27:26.954664Z",
     "start_time": "2021-12-04T00:27:26.939684Z"
    }
   },
   "outputs": [
    {
     "name": "stdout",
     "output_type": "stream",
     "text": [
      "10\n",
      "9\n",
      "8\n",
      "7\n",
      "6\n",
      "5\n",
      "4\n",
      "3\n",
      "2\n"
     ]
    }
   ],
   "source": [
    "n = 10\n",
    "\n",
    "i = n\n",
    "\n",
    "while i > 1:\n",
    "    \n",
    "    print(i)\n",
    "    i = i - 1"
   ]
  },
  {
   "cell_type": "code",
   "execution_count": 153,
   "metadata": {
    "ExecuteTime": {
     "end_time": "2021-12-04T00:47:21.190854Z",
     "start_time": "2021-12-04T00:47:21.171859Z"
    }
   },
   "outputs": [
    {
     "name": "stdout",
     "output_type": "stream",
     "text": [
      "101\n"
     ]
    }
   ],
   "source": [
    "n = 101\n",
    "\n",
    "i = n\n",
    "\n",
    "while i > 1:\n",
    "    \n",
    "    print(i)\n",
    "    i = 100/i\n"
   ]
  },
  {
   "cell_type": "code",
   "execution_count": 145,
   "metadata": {
    "ExecuteTime": {
     "end_time": "2021-12-04T00:43:29.189781Z",
     "start_time": "2021-12-04T00:43:28.483558Z"
    }
   },
   "outputs": [
    {
     "data": {
      "image/png": "[encoded data removed]",
      "text/plain": [
       "<Figure size 864x360 with 1 Axes>"
      ]
     },
     "metadata": {
      "needs_background": "light"
     },
     "output_type": "display_data"
    }
   ],
   "source": [
    "import numpy as np\n",
    "\n",
    "import matplotlib.pyplot as plt\n",
    "\n",
    "x_min = 1\n",
    "x_max = 100\n",
    "x = np.linspace(x_min, x_max, 10000)\n",
    "\n",
    "plt.figure(figsize=(12, 5))\n",
    "\n",
    "plt.plot(x, np.log2(x), label=\"log2(x)\")\n",
    "plt.plot(x, np.sqrt(x), label=\"sqrt(x)\")\n",
    "plt.plot(x, x, label=\"x\")\n",
    "# plt.plot(x, x*np.log2(x), label=\"x*log2(x)\")\n",
    "# plt.plot(x, x*x, label=\"x^2\")\n",
    "\n",
    "plt.legend()\n",
    "plt.show()"
   ]
  },
  {
   "cell_type": "markdown",
   "metadata": {},
   "source": [
    "E qual a complexidade desse código?\n",
    "\n",
    "```python\n",
    "i = n\n",
    "while i > 1:\n",
    "  i = i / 2\n",
    "  print(i)\n",
    "```\n",
    "\n",
    "A princípio podemos pensar que esse loop executaria `n` vezes, porém se olharmos com mais atenção o termo `i` está sendo cortado pela metade a cada iteração. Ou seja, esse loop será executado a quantidade de vezes que for possível dividir `n` por 2 e obter um resultado maior do que 1.\n",
    "Por exemplo, se `n = 8` o loop executa 3 vezes, se `n = 32` o loop executa 5 vezes. Para um `n` qualquer, o loop executa `O(log2(n))`.\n",
    "\n"
   ]
  },
  {
   "cell_type": "markdown",
   "metadata": {},
   "source": [
    "____________"
   ]
  },
  {
   "cell_type": "markdown",
   "metadata": {},
   "source": [
    "Complexidades mais comuns em ordem de eficiência (do pior para o melhor):\n",
    "\n",
    "```\n",
    "- O(n!)     -> fatorial\n",
    "- O(2**n)     -> exponencial\n",
    "- O(n**2)     -> polinomial/quadrático\n",
    "- O(n*log2(n)) -> logaritmica\n",
    "- O(n)        -> linear\n",
    "- O(log2(n))   -> logaritmica\n",
    "- O(1)        -> constante\n",
    "```\n",
    "\n",
    "<img src='https://devopedia.org/images/article/17/4996.1513922020.jpg' width='600'/>\n",
    "\n"
   ]
  },
  {
   "cell_type": "markdown",
   "metadata": {},
   "source": [
    "______\n",
    "\n",
    "Exemplos: sequência de fibonacci!"
   ]
  },
  {
   "cell_type": "markdown",
   "metadata": {},
   "source": [
    "f(0) = f(1) = 1\n",
    "\n",
    "f(n) = f(n-1) + f(n-2)\n",
    "\n",
    "1 1 2 3 5 ...."
   ]
  },
  {
   "cell_type": "code",
   "execution_count": 154,
   "metadata": {
    "ExecuteTime": {
     "end_time": "2021-12-04T00:59:30.624662Z",
     "start_time": "2021-12-04T00:59:30.608670Z"
    }
   },
   "outputs": [],
   "source": [
    "def fibo(n):\n",
    "    \n",
    "    if n == 0 or n == 1:\n",
    "        \n",
    "        return 1\n",
    "    \n",
    "    else:\n",
    "        \n",
    "        return fibo(n-1) + fibo(n-2)"
   ]
  },
  {
   "cell_type": "code",
   "execution_count": null,
   "metadata": {},
   "outputs": [],
   "source": [
    "4\n",
    "3 2\n",
    "2 1 1\n",
    "1 1 1 1"
   ]
  },
  {
   "cell_type": "code",
   "execution_count": 155,
   "metadata": {
    "ExecuteTime": {
     "end_time": "2021-12-04T00:59:51.744192Z",
     "start_time": "2021-12-04T00:59:51.727202Z"
    }
   },
   "outputs": [
    {
     "name": "stdout",
     "output_type": "stream",
     "text": [
      "0 1\n",
      "1 1\n",
      "2 2\n",
      "3 3\n",
      "4 5\n",
      "5 8\n",
      "6 13\n",
      "7 21\n",
      "8 34\n",
      "9 55\n"
     ]
    }
   ],
   "source": [
    "for i in range(10):\n",
    "    \n",
    "    print(i, fibo(i))"
   ]
  },
  {
   "cell_type": "markdown",
   "metadata": {},
   "source": [
    "Essa implementação acima é $O(2^n)$... Implementação recursiva bem ineficiente!"
   ]
  },
  {
   "cell_type": "code",
   "execution_count": 157,
   "metadata": {
    "ExecuteTime": {
     "end_time": "2021-12-04T01:08:49.172905Z",
     "start_time": "2021-12-04T01:08:49.164914Z"
    }
   },
   "outputs": [],
   "source": [
    "def fibo(n):\n",
    "    \n",
    "    if n == 0 or n == 1:\n",
    "        \n",
    "        return 1\n",
    "    \n",
    "    else:\n",
    "        \n",
    "        anterior = 1\n",
    "        ante_anterior = 1\n",
    "        \n",
    "        for i in range(2, n+1):\n",
    "        \n",
    "            atual = anterior + ante_anterior\n",
    "            \n",
    "            anterior, ante_anterior = atual, anterior\n",
    "            \n",
    "        return atual"
   ]
  },
  {
   "cell_type": "code",
   "execution_count": 158,
   "metadata": {
    "ExecuteTime": {
     "end_time": "2021-12-04T01:08:52.567112Z",
     "start_time": "2021-12-04T01:08:52.553122Z"
    }
   },
   "outputs": [
    {
     "name": "stdout",
     "output_type": "stream",
     "text": [
      "0 1\n",
      "1 1\n",
      "2 2\n",
      "3 3\n",
      "4 5\n",
      "5 8\n",
      "6 13\n",
      "7 21\n",
      "8 34\n",
      "9 55\n"
     ]
    }
   ],
   "source": [
    "for i in range(10):\n",
    "    \n",
    "    print(i, fibo(i))"
   ]
  },
  {
   "cell_type": "markdown",
   "metadata": {},
   "source": [
    "Já esta impenentação, é $O(n)$... Implementação iterativa bem mais eficiente!"
   ]
  },
  {
   "cell_type": "markdown",
   "metadata": {},
   "source": [
    "______\n",
    "\n",
    "_______\n",
    "\n",
    "_________"
   ]
  },
  {
   "cell_type": "markdown",
   "metadata": {},
   "source": [
    "##  3) Exemplo prático: busca binária\n",
    "\n",
    "Agora que sabemos analisar algoritmos, vejamos um exemplo mais prático.  \n",
    "\n",
    "Dada uma lista ordenada, defina uma função `def find(lista, item)` que retorna `True` caso `item` esteja na lista e `False` caso contrário.\n",
    "\n",
    "\n",
    "Implemente e analise a complexidade desse algoritmo.\n"
   ]
  },
  {
   "cell_type": "code",
   "execution_count": 1,
   "metadata": {
    "ExecuteTime": {
     "end_time": "2021-12-08T01:18:35.526299Z",
     "start_time": "2021-12-08T01:18:35.505310Z"
    }
   },
   "outputs": [
    {
     "data": {
      "text/plain": [
       "True"
      ]
     },
     "execution_count": 1,
     "metadata": {},
     "output_type": "execute_result"
    }
   ],
   "source": [
    "32 in [2, 3, 65, 8, 32, 8, 5, 87, 9, 73]"
   ]
  },
  {
   "cell_type": "code",
   "execution_count": 2,
   "metadata": {
    "ExecuteTime": {
     "end_time": "2021-12-08T01:18:35.803717Z",
     "start_time": "2021-12-08T01:18:35.782726Z"
    }
   },
   "outputs": [
    {
     "data": {
      "text/plain": [
       "True"
      ]
     },
     "execution_count": 2,
     "metadata": {},
     "output_type": "execute_result"
    }
   ],
   "source": [
    "73 in [2, 3, 65, 8, 32, 8, 5, 87, 9, 73]"
   ]
  },
  {
   "cell_type": "code",
   "execution_count": 3,
   "metadata": {
    "ExecuteTime": {
     "end_time": "2021-12-08T01:18:35.988121Z",
     "start_time": "2021-12-08T01:18:35.971131Z"
    }
   },
   "outputs": [
    {
     "data": {
      "text/plain": [
       "False"
      ]
     },
     "execution_count": 3,
     "metadata": {},
     "output_type": "execute_result"
    }
   ],
   "source": [
    "42 in [2, 3, 65, 8, 32, 8, 5, 87, 9, 73]"
   ]
  },
  {
   "cell_type": "code",
   "execution_count": 4,
   "metadata": {
    "ExecuteTime": {
     "end_time": "2021-12-08T01:18:36.254967Z",
     "start_time": "2021-12-08T01:18:36.237977Z"
    }
   },
   "outputs": [],
   "source": [
    "# precisamos de um iteravel (for ou while)\n",
    "# aí, olhamos um por um"
   ]
  },
  {
   "cell_type": "code",
   "execution_count": 5,
   "metadata": {
    "ExecuteTime": {
     "end_time": "2021-12-08T01:18:36.522812Z",
     "start_time": "2021-12-08T01:18:36.504823Z"
    }
   },
   "outputs": [],
   "source": [
    "buscado = 42"
   ]
  },
  {
   "cell_type": "code",
   "execution_count": 9,
   "metadata": {
    "ExecuteTime": {
     "end_time": "2021-12-09T22:19:22.174430Z",
     "start_time": "2021-12-09T22:19:22.167435Z"
    }
   },
   "outputs": [],
   "source": [
    "def busca1(lista, buscado):\n",
    "    \n",
    "    for elemento in lista:\n",
    "\n",
    "        if elemento == buscado:\n",
    "            \n",
    "            return True\n",
    "        \n",
    "    return False"
   ]
  },
  {
   "cell_type": "code",
   "execution_count": 10,
   "metadata": {
    "ExecuteTime": {
     "end_time": "2021-12-09T22:19:22.456268Z",
     "start_time": "2021-12-09T22:19:22.446274Z"
    }
   },
   "outputs": [
    {
     "data": {
      "text/plain": [
       "False"
      ]
     },
     "execution_count": 10,
     "metadata": {},
     "output_type": "execute_result"
    }
   ],
   "source": [
    "busca1([2, 3, 65, 8, 32, 8, 5, 87, 9, 73], 42)"
   ]
  },
  {
   "cell_type": "code",
   "execution_count": 11,
   "metadata": {
    "ExecuteTime": {
     "end_time": "2021-12-09T22:19:22.701496Z",
     "start_time": "2021-12-09T22:19:22.692500Z"
    }
   },
   "outputs": [
    {
     "data": {
      "text/plain": [
       "True"
      ]
     },
     "execution_count": 11,
     "metadata": {},
     "output_type": "execute_result"
    }
   ],
   "source": [
    "busca1([2, 3, 65, 8, 32, 8, 5, 87, 9, 73], 3)"
   ]
  },
  {
   "cell_type": "code",
   "execution_count": 12,
   "metadata": {
    "ExecuteTime": {
     "end_time": "2021-12-09T22:19:22.856410Z",
     "start_time": "2021-12-09T22:19:22.849409Z"
    }
   },
   "outputs": [],
   "source": [
    "def busca2(lista, buscado):\n",
    "    \n",
    "    ans = False\n",
    "    \n",
    "    for elemento in lista:\n",
    "\n",
    "        if elemento == buscado:\n",
    "            \n",
    "            ans = True\n",
    "            \n",
    "            break\n",
    "        \n",
    "    return ans"
   ]
  },
  {
   "cell_type": "code",
   "execution_count": 13,
   "metadata": {
    "ExecuteTime": {
     "end_time": "2021-12-09T22:19:23.030828Z",
     "start_time": "2021-12-09T22:19:23.021837Z"
    }
   },
   "outputs": [
    {
     "data": {
      "text/plain": [
       "False"
      ]
     },
     "execution_count": 13,
     "metadata": {},
     "output_type": "execute_result"
    }
   ],
   "source": [
    "busca2([2, 3, 65, 8, 32, 8, 5, 87, 9, 73], 42)"
   ]
  },
  {
   "cell_type": "code",
   "execution_count": 14,
   "metadata": {
    "ExecuteTime": {
     "end_time": "2021-12-09T22:19:23.200731Z",
     "start_time": "2021-12-09T22:19:23.191749Z"
    }
   },
   "outputs": [
    {
     "data": {
      "text/plain": [
       "True"
      ]
     },
     "execution_count": 14,
     "metadata": {},
     "output_type": "execute_result"
    }
   ],
   "source": [
    "busca2([2, 3, 65, 8, 32, 8, 5, 87, 9, 73], 3)"
   ]
  },
  {
   "cell_type": "code",
   "execution_count": 15,
   "metadata": {
    "ExecuteTime": {
     "end_time": "2021-12-09T22:19:23.355641Z",
     "start_time": "2021-12-09T22:19:23.345648Z"
    }
   },
   "outputs": [],
   "source": [
    "def busca3(lista, buscado):\n",
    "    \n",
    "    ans = False\n",
    "\n",
    "    cont = 0\n",
    "\n",
    "    while cont < len(lista):\n",
    "\n",
    "        if lista[cont] == buscado:\n",
    "\n",
    "            ans = True\n",
    "\n",
    "            break\n",
    "\n",
    "        cont = cont + 1\n",
    "\n",
    "    return ans"
   ]
  },
  {
   "cell_type": "code",
   "execution_count": 16,
   "metadata": {
    "ExecuteTime": {
     "end_time": "2021-12-09T22:19:23.554528Z",
     "start_time": "2021-12-09T22:19:23.528543Z"
    }
   },
   "outputs": [
    {
     "data": {
      "text/plain": [
       "False"
      ]
     },
     "execution_count": 16,
     "metadata": {},
     "output_type": "execute_result"
    }
   ],
   "source": [
    "busca3([2, 3, 65, 8, 32, 8, 5, 87, 9, 73], 42)"
   ]
  },
  {
   "cell_type": "code",
   "execution_count": 17,
   "metadata": {
    "ExecuteTime": {
     "end_time": "2021-12-09T22:19:23.835444Z",
     "start_time": "2021-12-09T22:19:23.824473Z"
    }
   },
   "outputs": [
    {
     "data": {
      "text/plain": [
       "True"
      ]
     },
     "execution_count": 17,
     "metadata": {},
     "output_type": "execute_result"
    }
   ],
   "source": [
    "busca3([2, 3, 65, 8, 32, 8, 5, 87, 9, 73], 3)"
   ]
  },
  {
   "cell_type": "markdown",
   "metadata": {},
   "source": [
    "### $ O(n) $"
   ]
  },
  {
   "cell_type": "markdown",
   "metadata": {},
   "source": [
    "O que ocorre se buscamos um elemento que não está na lista e a lista for muito grande?\n",
    "\n",
    "Será que podemos fazer algo melhor?  \n",
    "\n",
    "O algoritmo descrito acima não faz uso da informação de que a lista **está ordenada**, podemos usar essa ordenação a nosso favor.  \n",
    "\n",
    "O código abaixo é uma implementação do algoritmo conhecido como **busca binária**: Começamos comparando o item com o elemento no meio da lista, se o item que queremos for menor que o meio procuramos na metade esquerda da lista, se for maior procuramos na metade direita.\n"
   ]
  },
  {
   "cell_type": "code",
   "execution_count": 15,
   "metadata": {
    "ExecuteTime": {
     "end_time": "2021-12-08T01:18:48.491565Z",
     "start_time": "2021-12-08T01:18:45.208294Z"
    }
   },
   "outputs": [
    {
     "data": {
      "text/plain": [
       "19.931568569324174"
      ]
     },
     "execution_count": 15,
     "metadata": {},
     "output_type": "execute_result"
    }
   ],
   "source": [
    "import numpy as np\n",
    "\n",
    "N = 1000000\n",
    "\n",
    "np.log2(N)"
   ]
  },
  {
   "cell_type": "code",
   "execution_count": 16,
   "metadata": {
    "ExecuteTime": {
     "end_time": "2021-12-08T01:18:48.543524Z",
     "start_time": "2021-12-08T01:18:48.500549Z"
    }
   },
   "outputs": [
    {
     "name": "stdout",
     "output_type": "stream",
     "text": [
      "500000.0\n",
      "250000.0\n",
      "125000.0\n",
      "62500.0\n",
      "31250.0\n",
      "15625.0\n",
      "7812.5\n",
      "3906.25\n",
      "1953.125\n",
      "976.5625\n",
      "488.28125\n",
      "244.140625\n",
      "122.0703125\n",
      "61.03515625\n",
      "30.517578125\n",
      "15.2587890625\n",
      "7.62939453125\n",
      "3.814697265625\n",
      "1.9073486328125\n"
     ]
    }
   ],
   "source": [
    "for n in range(1, 20):\n",
    "\n",
    "    print(N/(2**n))"
   ]
  },
  {
   "cell_type": "markdown",
   "metadata": {
    "ExecuteTime": {
     "end_time": "2021-12-08T00:22:14.409830Z",
     "start_time": "2021-12-08T00:22:14.391844Z"
    }
   },
   "source": [
    "lista --> O(n), lista sem estrutura"
   ]
  },
  {
   "cell_type": "markdown",
   "metadata": {
    "ExecuteTime": {
     "end_time": "2021-12-08T00:22:38.704648Z",
     "start_time": "2021-12-08T00:22:38.692656Z"
    }
   },
   "source": [
    "sorted(lista) --> O(log n), lista está ordenada"
   ]
  },
  {
   "cell_type": "code",
   "execution_count": 17,
   "metadata": {
    "ExecuteTime": {
     "end_time": "2021-12-08T01:18:48.693438Z",
     "start_time": "2021-12-08T01:18:48.551540Z"
    }
   },
   "outputs": [],
   "source": [
    "def busca_binaria(lista, buscado):\n",
    "    '''\n",
    "    implenenta a busca binaria, ASSSUMINDO que\n",
    "    o argumento \"lista\" é uma lista ordenada\n",
    "    '''\n",
    "    \n",
    "    lista = lista.copy()\n",
    "    \n",
    "    ans = False\n",
    "    \n",
    "    while len(lista) > 0:\n",
    "        \n",
    "        # divisao inteira pra garantir que teremos um inteiro como idx\n",
    "        idx_metade = len(lista)//2\n",
    "    \n",
    "        elemento_meio = lista[idx_metade]\n",
    "        \n",
    "        if buscado == elemento_meio:\n",
    "            \n",
    "            ans = True\n",
    "            \n",
    "            break\n",
    "        \n",
    "        elif buscado > elemento_meio:\n",
    "            \n",
    "            # ignorar a primeira metade, e focar na segunda metade\n",
    "            lista = lista[idx_metade + 1:]\n",
    "            \n",
    "        else:\n",
    "            \n",
    "            # ignorar a segunda metade, e focar na primeira metade\n",
    "            lista = lista[:idx_metade]\n",
    "            \n",
    "    return ans"
   ]
  },
  {
   "cell_type": "code",
   "execution_count": 8,
   "metadata": {
    "ExecuteTime": {
     "end_time": "2021-12-09T22:19:11.907147Z",
     "start_time": "2021-12-09T22:19:11.790211Z"
    }
   },
   "outputs": [],
   "source": [
    "def busca_binaria(lista, buscado):\n",
    "    '''\n",
    "    implenenta a busca binaria, ASSSUMINDO que\n",
    "    o argumento \"lista\" é uma lista ordenada\n",
    "    '''\n",
    "    \n",
    "    lista = lista.copy()\n",
    "    \n",
    "    while len(lista) > 0:\n",
    "        \n",
    "        # divisao inteira pra garantir que teremos um inteiro como idx\n",
    "        idx_metade = len(lista)//2\n",
    "    \n",
    "        elemento_meio = lista[idx_metade]\n",
    "        \n",
    "        if buscado == elemento_meio:\n",
    "\n",
    "            return True\n",
    "        \n",
    "        elif buscado > elemento_meio:\n",
    "            \n",
    "            # ignorar a primeira metade, e focar na segunda metade\n",
    "            lista = lista[idx_metade + 1:]\n",
    "            \n",
    "        else:\n",
    "            \n",
    "            # ignorar a segunda metade, e focar na primeira metade\n",
    "            lista = lista[:idx_metade]\n",
    "            \n",
    "    return False"
   ]
  },
  {
   "cell_type": "code",
   "execution_count": 19,
   "metadata": {
    "ExecuteTime": {
     "end_time": "2021-12-08T01:18:52.773768Z",
     "start_time": "2021-12-08T01:18:52.751797Z"
    }
   },
   "outputs": [
    {
     "data": {
      "text/plain": [
       "False"
      ]
     },
     "execution_count": 19,
     "metadata": {},
     "output_type": "execute_result"
    }
   ],
   "source": [
    "# 87 tá na lista, mas retornou False\n",
    "\n",
    "busca_binaria([2, 3, 65, 8, 32, 8, 5, 87, 9, 73], 87)"
   ]
  },
  {
   "cell_type": "code",
   "execution_count": 20,
   "metadata": {
    "ExecuteTime": {
     "end_time": "2021-12-08T01:18:53.376656Z",
     "start_time": "2021-12-08T01:18:53.353672Z"
    }
   },
   "outputs": [
    {
     "data": {
      "text/plain": [
       "True"
      ]
     },
     "execution_count": 20,
     "metadata": {},
     "output_type": "execute_result"
    }
   ],
   "source": [
    "# mas, se passar a lista ordenada, dá certo!\n",
    "\n",
    "busca_binaria(sorted([2, 3, 65, 8, 32, 8, 5, 87, 9, 73]), 87)"
   ]
  },
  {
   "cell_type": "markdown",
   "metadata": {},
   "source": [
    "Pra entender um pouco melhor..."
   ]
  },
  {
   "cell_type": "markdown",
   "metadata": {},
   "source": [
    "42 tá dentro de [10, 20, 30, 40]?\n",
    "\n",
    "........\n",
    "\n",
    "idx_metade = 2\n",
    "elemento_meio = 30\n",
    "\n",
    "lista = [40]\n",
    "\n",
    "........\n",
    "\n",
    "idx_metade = 0\n",
    "elemento_meio = 40\n",
    "\n",
    "lista = []\n",
    "\n",
    "........\n",
    "\n",
    "return False\n",
    "_____________"
   ]
  },
  {
   "cell_type": "markdown",
   "metadata": {},
   "source": [
    "10 tá dentro de [10, 20, 30, 40]?\n",
    "\n",
    "........\n",
    "\n",
    "idx_metade = 2\n",
    "elemento_meio = 30\n",
    "\n",
    "lista = [10, 20]\n",
    "\n",
    "........\n",
    "\n",
    "idx_metade = 1\n",
    "elemento_meio = 20\n",
    "\n",
    "lista = [10]\n",
    "\n",
    "\n",
    "........\n",
    "\n",
    "idx_metade = 0\n",
    "elemento_meio = 10\n",
    "\n",
    "return True"
   ]
  },
  {
   "cell_type": "markdown",
   "metadata": {},
   "source": [
    "n --> n/2 --> n/4 ---> n/8 --> n/16 ..."
   ]
  },
  {
   "cell_type": "markdown",
   "metadata": {},
   "source": [
    "Qual é a complexidade desse código?\n",
    "\n",
    "Meça também o tempo de execução dos dois códigos, o que ocorre em cada um quando dobramos o tamanho da lista?"
   ]
  },
  {
   "cell_type": "code",
   "execution_count": 1,
   "metadata": {
    "ExecuteTime": {
     "end_time": "2021-12-09T22:14:15.708038Z",
     "start_time": "2021-12-09T22:14:14.089794Z"
    }
   },
   "outputs": [],
   "source": [
    "import numpy as np"
   ]
  },
  {
   "cell_type": "code",
   "execution_count": 69,
   "metadata": {
    "ExecuteTime": {
     "end_time": "2021-12-09T22:22:45.336564Z",
     "start_time": "2021-12-09T22:22:42.786839Z"
    }
   },
   "outputs": [],
   "source": [
    "# é uma lista com números aleatorios entre 0 e 500 milhões, 1 milhão deles\n",
    "\n",
    "lista = np.random.randint(0, 500000000, 1000000).tolist()\n",
    "\n",
    "lista_ordenada = sorted(lista)"
   ]
  },
  {
   "cell_type": "code",
   "execution_count": 70,
   "metadata": {
    "ExecuteTime": {
     "end_time": "2021-12-09T22:22:45.677884Z",
     "start_time": "2021-12-09T22:22:45.342562Z"
    }
   },
   "outputs": [
    {
     "name": "stdout",
     "output_type": "stream",
     "text": [
      "Wall time: 194 ms\n"
     ]
    },
    {
     "data": {
      "text/plain": [
       "False"
      ]
     },
     "execution_count": 70,
     "metadata": {},
     "output_type": "execute_result"
    }
   ],
   "source": [
    "%%time\n",
    "\n",
    "busca_binaria(lista_ordenada, 42)"
   ]
  },
  {
   "cell_type": "code",
   "execution_count": 71,
   "metadata": {
    "ExecuteTime": {
     "end_time": "2021-12-09T22:22:46.787959Z",
     "start_time": "2021-12-09T22:22:45.688877Z"
    }
   },
   "outputs": [
    {
     "name": "stdout",
     "output_type": "stream",
     "text": [
      "Wall time: 1.04 s\n"
     ]
    },
    {
     "data": {
      "text/plain": [
       "False"
      ]
     },
     "execution_count": 71,
     "metadata": {},
     "output_type": "execute_result"
    }
   ],
   "source": [
    "%%time\n",
    "\n",
    "busca3(lista_ordenada, 42)"
   ]
  },
  {
   "cell_type": "markdown",
   "metadata": {},
   "source": [
    "__________"
   ]
  }
 ],
 "metadata": {
  "kernelspec": {
   "display_name": "Python 3",
   "language": "python",
   "name": "python3"
  },
  "language_info": {
   "codemirror_mode": {
    "name": "ipython",
    "version": 3
   },
   "file_extension": ".py",
   "mimetype": "text/x-python",
   "name": "python",
   "nbconvert_exporter": "python",
   "pygments_lexer": "ipython3",
   "version": "3.8.3"
  }
 },
 "nbformat": 4,
 "nbformat_minor": 4
}
