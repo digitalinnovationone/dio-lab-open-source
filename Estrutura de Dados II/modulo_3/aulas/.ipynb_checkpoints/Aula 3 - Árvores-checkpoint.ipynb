{
 "cells": [
  {
   "cell_type": "markdown",
   "metadata": {},
   "source": [
    "# Aula 3 - Árvores\n",
    "\n",
    "Na aula de hoje, vamos explorar os seguintes tópicos em Python:\n",
    "\n",
    "- 1) Árvores"
   ]
  },
  {
   "cell_type": "markdown",
   "metadata": {},
   "source": [
    "_________"
   ]
  },
  {
   "cell_type": "markdown",
   "metadata": {},
   "source": [
    "## 1) Árvores\n",
    "\n",
    "\n",
    "### 1.1) O que é uma árvore?\n",
    "\n",
    "Árvore é uma estrutura de dados definida por uma coleção de elementos, chamados nós, que são conectados entre si de maneira a modelar relações hierarquicas, mantendo as seguintes propriedades:\n",
    "\n",
    "- Existe um nó específico, chamado raiz, que fica no topo da hierarquia\n",
    "- Todo nó é conectado a raiz por um único caminho\n",
    "\n",
    "Existem diversos exemplos em outras áreas, além da matemática e da ciência da computação, onde árvores são utilizadas.\n",
    "Por exemplo, a [árvore filogenética](https://pt.wikipedia.org/wiki/%C3%81rvore_filogen%C3%A9tica) que agrupa espécies de acordo com suas relações evolutivas. \n",
    "\n",
    "A figura abaixo mostra um organograma empresarial, que também é um exemplo de árvore:\n",
    "\n",
    "<img src=\"https://www.nibo.com.br/wp-content/uploads/2014/12/organograma_tradicional-1024x554.jpg\" width=600>\n",
    "\n",
    "Fazendo o paralelo com a nossa definição: o \"presidente\", que está no topo da hierarquia, é a raiz da árvore.\n",
    "\n",
    "Note que há apenas **um caminho** entre o presidente e cada um dos demais nós.\n",
    "\n",
    "Por exemplo, o caminho do \"presidente\" até o \"auxiliar de marketing\", seria:\n",
    "\n",
    "`\"presidente\"-> \"diretor comercial\"-> \"gerente de marketing\"-> \"auxiliar de marketing\".`"
   ]
  },
  {
   "cell_type": "markdown",
   "metadata": {},
   "source": [
    "_________"
   ]
  },
  {
   "cell_type": "markdown",
   "metadata": {},
   "source": [
    "### 1.2) Terminologia\n",
    "\n",
    "Para falarmos desta estrutura, definir e analisar algoritmos sobre ela, é necessário nomearmos algumas partes específicas sobre as quais faremos referência posteriormente.\n",
    "\n",
    "<img src=\"https://s3-sa-east-1.amazonaws.com/lcpi/8dfbec82-e81b-43da-8867-0f27cf6cd44f.png\" width=600>\n",
    "\n",
    "Algumas definições tomando como exemplo a figura acima:\n",
    "\n",
    "- Quando um nó A está diretamente acima de um nó B, dizemos que A é \"pai\" de B ou que B é \"filho\" de A.\n",
    "- Raiz: é o topo da hierarquia (A)\n",
    "- Folhas: são os nós na camada mais baixa da hierarquia, os nós que não têm filhos (C, H, I, F, G)\n",
    "- Nós internos: são os nós que não são folhas nem raiz (B, D, E)\n",
    "- Altura da árvore (`h`): é a distância entre a raiz e a folha mais afastada\n",
    "- de acordo com a definição, um único nó, sozinho, também é uma árvore\n",
    "- toda sub-árvore é árvore (estrutura recursiva)\n",
    "- todo nó, exceto a raiz, tem exatamente um nó pai\n",
    "\n",
    "\n"
   ]
  },
  {
   "cell_type": "markdown",
   "metadata": {},
   "source": [
    "_________"
   ]
  },
  {
   "cell_type": "markdown",
   "metadata": {},
   "source": [
    "### 1.3) Árvore Binária de Busca (Binary Search Tree)\n",
    "\n",
    "Uma árvode binária de busca, é um tipo mais específico de árvore.\n",
    "Além das propriedades básicas de uma árvore, também precisa satisfazer as seguintes:\n",
    "\n",
    "- Todo nó tem no máximo dois filhos\n",
    "- Para cada nó v, v é maior que todos os nós a sua esquerda e menor que todos os nós a sua direita"
   ]
  },
  {
   "cell_type": "markdown",
   "metadata": {},
   "source": [
    "### 1.4) Implementação\n",
    "\n",
    "Para implementar uma estrutura de árvore binária de busca, criamos uma classe nó com três atributos:\n",
    "\n",
    "- conteúdo: o valor útil, qualquer valor ou dado, ou algo que faça referência a um objeto mais complexo\n",
    "- esquerda: referência ao filho à esquerda\n",
    "- direita: referência ao filho à direita\n",
    "\n",
    "[2, 4, 3, 7, 6, 13, 15, 17, 18, 20]\n",
    "\n",
    "A figura abaixo mostra uma representação dessa implementação:\n",
    "\n",
    "<img src=\"https://s3-sa-east-1.amazonaws.com/lcpi/61af9259-b2d0-444c-bef0-22ae71c0b9f2.png\" width=600>\n"
   ]
  },
  {
   "cell_type": "code",
   "execution_count": 5,
   "metadata": {
    "ExecuteTime": {
     "end_time": "2021-12-09T23:38:06.911239Z",
     "start_time": "2021-12-09T23:38:06.890249Z"
    }
   },
   "outputs": [],
   "source": [
    "class Arvore:\n",
    "    '''\n",
    "    classe pra representar uma árvore\n",
    "    '''\n",
    "    \n",
    "    def __init__(self, root : int, right : Arvore, left : Arvore):\n",
    "        '''\n",
    "        root (int): o valor no nó;\n",
    "        right (Arvore): objeto arvore, que representa a sub-arvore à direita\n",
    "        left (Arvore): objeto arvore, que representa a sub-arvore à esquera\n",
    "        '''\n",
    "        \n",
    "        # atributos: raiz, com maximo de 2 filhos, e definir quais são os filhos\n",
    "        \n",
    "        self.raiz = root\n",
    "\n",
    "        self.direita = right\n",
    "        \n",
    "        self.esquerda = left"
   ]
  },
  {
   "cell_type": "code",
   "execution_count": 16,
   "metadata": {
    "ExecuteTime": {
     "end_time": "2021-12-09T23:46:38.069389Z",
     "start_time": "2021-12-09T23:46:38.046402Z"
    }
   },
   "outputs": [],
   "source": [
    "tree = Arvore(root = 15,\n",
    "              right = Arvore(root = 18,\n",
    "                             right = Arvore(root = 20,\n",
    "                                            right = None,\n",
    "                                            left = None),\n",
    "                             left = Arvore(root = 17,\n",
    "                                           right = None,\n",
    "                                           left = None)),\n",
    "              left = Arvore(root = 6,\n",
    "                            right = Arvore(root = 7,\n",
    "                                           right = Arvore(root = 13,\n",
    "                                                          right = None,\n",
    "                                                          left = None),\n",
    "                                           left = None),\n",
    "                            left = Arvore(root = 3,\n",
    "                                          right = Arvore(root = 4,\n",
    "                                                         right = None,\n",
    "                                                         left = None),\n",
    "                                          left = Arvore(root = 2,\n",
    "                                                        right = None,\n",
    "                                                        left = None))))"
   ]
  },
  {
   "cell_type": "code",
   "execution_count": 10,
   "metadata": {
    "ExecuteTime": {
     "end_time": "2021-12-09T23:42:57.102369Z",
     "start_time": "2021-12-09T23:42:57.092378Z"
    }
   },
   "outputs": [
    {
     "data": {
      "text/plain": [
       "<__main__.Arvore at 0x284e10b4670>"
      ]
     },
     "execution_count": 10,
     "metadata": {},
     "output_type": "execute_result"
    }
   ],
   "source": [
    "tree"
   ]
  },
  {
   "cell_type": "code",
   "execution_count": 9,
   "metadata": {
    "ExecuteTime": {
     "end_time": "2021-12-09T23:42:28.044409Z",
     "start_time": "2021-12-09T23:42:28.026424Z"
    }
   },
   "outputs": [
    {
     "data": {
      "text/plain": [
       "{'raiz': 15,\n",
       " 'direita': <__main__.Arvore at 0x284e10b43d0>,\n",
       " 'esquerda': <__main__.Arvore at 0x284e10b4610>}"
      ]
     },
     "execution_count": 9,
     "metadata": {},
     "output_type": "execute_result"
    }
   ],
   "source": [
    "vars(tree)"
   ]
  },
  {
   "cell_type": "code",
   "execution_count": 11,
   "metadata": {
    "ExecuteTime": {
     "end_time": "2021-12-09T23:43:05.854326Z",
     "start_time": "2021-12-09T23:43:05.838335Z"
    }
   },
   "outputs": [
    {
     "data": {
      "text/plain": [
       "15"
      ]
     },
     "execution_count": 11,
     "metadata": {},
     "output_type": "execute_result"
    }
   ],
   "source": [
    "tree.raiz"
   ]
  },
  {
   "cell_type": "code",
   "execution_count": 12,
   "metadata": {
    "ExecuteTime": {
     "end_time": "2021-12-09T23:43:11.716616Z",
     "start_time": "2021-12-09T23:43:11.710622Z"
    }
   },
   "outputs": [
    {
     "data": {
      "text/plain": [
       "<__main__.Arvore at 0x284e10b43d0>"
      ]
     },
     "execution_count": 12,
     "metadata": {},
     "output_type": "execute_result"
    }
   ],
   "source": [
    "tree.direita"
   ]
  },
  {
   "cell_type": "code",
   "execution_count": 13,
   "metadata": {
    "ExecuteTime": {
     "end_time": "2021-12-09T23:43:28.638170Z",
     "start_time": "2021-12-09T23:43:28.616185Z"
    }
   },
   "outputs": [
    {
     "data": {
      "text/plain": [
       "{'raiz': 18,\n",
       " 'direita': <__main__.Arvore at 0x284e10b4310>,\n",
       " 'esquerda': <__main__.Arvore at 0x284e10b4370>}"
      ]
     },
     "execution_count": 13,
     "metadata": {},
     "output_type": "execute_result"
    }
   ],
   "source": [
    "vars(tree.direita)"
   ]
  },
  {
   "cell_type": "code",
   "execution_count": 14,
   "metadata": {
    "ExecuteTime": {
     "end_time": "2021-12-09T23:44:12.461066Z",
     "start_time": "2021-12-09T23:44:12.441076Z"
    }
   },
   "outputs": [
    {
     "data": {
      "text/plain": [
       "{'raiz': 17, 'direita': None, 'esquerda': None}"
      ]
     },
     "execution_count": 14,
     "metadata": {},
     "output_type": "execute_result"
    }
   ],
   "source": [
    "vars(tree.direita.esquerda)"
   ]
  },
  {
   "cell_type": "markdown",
   "metadata": {},
   "source": [
    "Vamos melhorar a representação..."
   ]
  },
  {
   "cell_type": "code",
   "execution_count": 24,
   "metadata": {
    "ExecuteTime": {
     "end_time": "2021-12-10T00:07:24.708462Z",
     "start_time": "2021-12-10T00:07:24.684474Z"
    }
   },
   "outputs": [],
   "source": [
    "class Arvore:\n",
    "    '''\n",
    "    classe pra representar uma árvore\n",
    "    '''\n",
    "    \n",
    "    def __init__(self, root : int, right : Arvore, left : Arvore):\n",
    "        '''\n",
    "        root (int): o valor no nó;\n",
    "        right (Arvore): objeto arvore, que representa a sub-arvore à direita\n",
    "        left (Arvore): objeto arvore, que representa a sub-arvore à esquera\n",
    "        '''\n",
    "        \n",
    "        # atributos: raiz, com maximo de 2 filhos, e definir quais são os filhos\n",
    "        \n",
    "        self.raiz = root\n",
    "\n",
    "        self.direita = right\n",
    "        \n",
    "        self.esquerda = left\n",
    "        \n",
    "    \n",
    "    def __repr__(self):\n",
    "        \n",
    "        # é uma folha?\n",
    "        if self.esquerda == None and self.direita == None:\n",
    "            \n",
    "            return f\"Folha com valor {self.raiz} no nó.\"\n",
    "        \n",
    "        # para todos os demais nós,\n",
    "        else:\n",
    "            \n",
    "            return f\"Árvore com valor {self.raiz} no nó.\"\n",
    "            \n",
    "        "
   ]
  },
  {
   "cell_type": "code",
   "execution_count": 25,
   "metadata": {
    "ExecuteTime": {
     "end_time": "2021-12-10T00:07:25.145564Z",
     "start_time": "2021-12-10T00:07:25.133567Z"
    }
   },
   "outputs": [],
   "source": [
    "# NAO PRECISA NOMEAR OS ARGUMENTOS NO __init__.. \n",
    "# fica mais clean, mas eu acho que fica mais confuso\n",
    "\n",
    "tree = Arvore(15,\n",
    "              Arvore(18,\n",
    "                     Arvore(20,\n",
    "                            None,\n",
    "                            None),\n",
    "                     Arvore(17,\n",
    "                           None,\n",
    "                           None)),\n",
    "              Arvore(6,\n",
    "                    Arvore(7,\n",
    "                           Arvore(13,\n",
    "                                  None,\n",
    "                                  None),\n",
    "                           None),\n",
    "                    Arvore(3,\n",
    "                          Arvore(4,\n",
    "                                 None,\n",
    "                                 None),\n",
    "                          Arvore(2,\n",
    "                                None,\n",
    "                                None))))"
   ]
  },
  {
   "cell_type": "code",
   "execution_count": 26,
   "metadata": {
    "ExecuteTime": {
     "end_time": "2021-12-10T00:07:25.644075Z",
     "start_time": "2021-12-10T00:07:25.617087Z"
    }
   },
   "outputs": [],
   "source": [
    "tree = Arvore(root = 15,\n",
    "              right = Arvore(root = 18,\n",
    "                             right = Arvore(root = 20,\n",
    "                                            right = None,\n",
    "                                            left = None),\n",
    "                             left = Arvore(root = 17,\n",
    "                                           right = None,\n",
    "                                           left = None)),\n",
    "              left = Arvore(root = 6,\n",
    "                            right = Arvore(root = 7,\n",
    "                                           right = Arvore(root = 13,\n",
    "                                                          right = None,\n",
    "                                                          left = None),\n",
    "                                           left = None),\n",
    "                            left = Arvore(root = 3,\n",
    "                                          right = Arvore(root = 4,\n",
    "                                                         right = None,\n",
    "                                                         left = None),\n",
    "                                          left = Arvore(root = 2,\n",
    "                                                        right = None,\n",
    "                                                        left = None))))"
   ]
  },
  {
   "cell_type": "code",
   "execution_count": 32,
   "metadata": {
    "ExecuteTime": {
     "end_time": "2021-12-10T00:08:50.969000Z",
     "start_time": "2021-12-10T00:08:50.956008Z"
    }
   },
   "outputs": [
    {
     "data": {
      "text/plain": [
       "Folha com valor 2 no nó."
      ]
     },
     "execution_count": 32,
     "metadata": {},
     "output_type": "execute_result"
    }
   ],
   "source": [
    "tree.esquerda.esquerda.esquerda"
   ]
  },
  {
   "cell_type": "code",
   "execution_count": 28,
   "metadata": {
    "ExecuteTime": {
     "end_time": "2021-12-10T00:07:29.768502Z",
     "start_time": "2021-12-10T00:07:29.755510Z"
    }
   },
   "outputs": [
    {
     "data": {
      "text/plain": [
       "Árvore com valor 15 no nó."
      ]
     },
     "execution_count": 28,
     "metadata": {},
     "output_type": "execute_result"
    }
   ],
   "source": [
    "tree"
   ]
  },
  {
   "cell_type": "code",
   "execution_count": 29,
   "metadata": {
    "ExecuteTime": {
     "end_time": "2021-12-10T00:07:37.495428Z",
     "start_time": "2021-12-10T00:07:37.475440Z"
    }
   },
   "outputs": [
    {
     "data": {
      "text/plain": [
       "Árvore com valor 18 no nó."
      ]
     },
     "execution_count": 29,
     "metadata": {},
     "output_type": "execute_result"
    }
   ],
   "source": [
    "tree.direita"
   ]
  },
  {
   "cell_type": "code",
   "execution_count": 30,
   "metadata": {
    "ExecuteTime": {
     "end_time": "2021-12-10T00:07:55.271700Z",
     "start_time": "2021-12-10T00:07:55.260707Z"
    }
   },
   "outputs": [
    {
     "data": {
      "text/plain": [
       "Folha com valor 17 no nó."
      ]
     },
     "execution_count": 30,
     "metadata": {},
     "output_type": "execute_result"
    }
   ],
   "source": [
    "tree.direita.esquerda"
   ]
  },
  {
   "cell_type": "code",
   "execution_count": 40,
   "metadata": {
    "ExecuteTime": {
     "end_time": "2021-12-10T00:14:25.453213Z",
     "start_time": "2021-12-10T00:14:25.441997Z"
    }
   },
   "outputs": [],
   "source": [
    "class Arvore:\n",
    "    '''\n",
    "    classe pra representar uma árvore\n",
    "    '''\n",
    "    \n",
    "    def __init__(self, root : int, right : Arvore, left : Arvore, level : int):\n",
    "        '''\n",
    "        root (int): o valor no nó;\n",
    "        right (Arvore): objeto arvore, que representa a sub-arvore à direita\n",
    "        left (Arvore): objeto arvore, que representa a sub-arvore à esquera\n",
    "        '''\n",
    "        \n",
    "        # atributos: raiz, com maximo de 2 filhos, e definir quais são os filhos\n",
    "        \n",
    "        self.raiz = root\n",
    "\n",
    "        self.direita = right\n",
    "        self.esquerda = left\n",
    "        \n",
    "        # \"profundidade\", nivel hierárquivo do nó de uma arvore\n",
    "        self.nivel = level\n",
    "    \n",
    "    def __repr__(self):\n",
    "        \n",
    "        # é uma folha?\n",
    "        if self.esquerda == None and self.direita == None:\n",
    "            \n",
    "            return f\"Folha com valor {self.raiz} no nó.\"\n",
    "        \n",
    "        elif self.nivel == 0:\n",
    "            \n",
    "            return f\"Árvore com o nó raiz de valor {self.raiz}.\"\n",
    "        \n",
    "        # para todos os demais nós,\n",
    "        else:\n",
    "            \n",
    "            return f\"Nó interno da árvore, com valor {self.raiz} no nó.\""
   ]
  },
  {
   "cell_type": "code",
   "execution_count": 41,
   "metadata": {
    "ExecuteTime": {
     "end_time": "2021-12-10T00:14:25.887287Z",
     "start_time": "2021-12-10T00:14:25.873294Z"
    }
   },
   "outputs": [],
   "source": [
    "tree = Arvore(root = 15,\n",
    "              right = Arvore(root = 18,\n",
    "                             right = Arvore(root = 20,\n",
    "                                            right = None,\n",
    "                                            left = None, \n",
    "                                            level = 2),\n",
    "                             left = Arvore(root = 17,\n",
    "                                           right = None,\n",
    "                                           left = None, \n",
    "                                           level = 2),\n",
    "                             level = 1),\n",
    "              left = Arvore(root = 6,\n",
    "                            right = Arvore(root = 7,\n",
    "                                           right = Arvore(root = 13,\n",
    "                                                          right = None,\n",
    "                                                          left = None,\n",
    "                                                          level = 3),\n",
    "                                           left = None,\n",
    "                                           level = 2),\n",
    "                            left = Arvore(root = 3,\n",
    "                                          right = Arvore(root = 4,\n",
    "                                                         right = None,\n",
    "                                                         left = None,\n",
    "                                                         level = 3),\n",
    "                                          left = Arvore(root = 2,\n",
    "                                                        right = None,\n",
    "                                                        left = None,\n",
    "                                                        level = 3),\n",
    "                                          level = 2),\n",
    "                            level = 1),\n",
    "             level = 0)"
   ]
  },
  {
   "cell_type": "code",
   "execution_count": 42,
   "metadata": {
    "ExecuteTime": {
     "end_time": "2021-12-10T00:14:26.339814Z",
     "start_time": "2021-12-10T00:14:26.328822Z"
    }
   },
   "outputs": [
    {
     "data": {
      "text/plain": [
       "Árvore com o nó raiz de valor 15."
      ]
     },
     "execution_count": 42,
     "metadata": {},
     "output_type": "execute_result"
    }
   ],
   "source": [
    "tree"
   ]
  },
  {
   "cell_type": "code",
   "execution_count": 43,
   "metadata": {
    "ExecuteTime": {
     "end_time": "2021-12-10T00:14:26.575196Z",
     "start_time": "2021-12-10T00:14:26.566200Z"
    }
   },
   "outputs": [
    {
     "data": {
      "text/plain": [
       "Nó interno da árvore, com valor 6 no nó."
      ]
     },
     "execution_count": 43,
     "metadata": {},
     "output_type": "execute_result"
    }
   ],
   "source": [
    "tree.esquerda"
   ]
  },
  {
   "cell_type": "code",
   "execution_count": 48,
   "metadata": {
    "ExecuteTime": {
     "end_time": "2021-12-10T00:15:08.722169Z",
     "start_time": "2021-12-10T00:15:08.708176Z"
    }
   },
   "outputs": [
    {
     "data": {
      "text/plain": [
       "Folha com valor 13 no nó."
      ]
     },
     "execution_count": 48,
     "metadata": {},
     "output_type": "execute_result"
    }
   ],
   "source": [
    "tree.esquerda.direita.direita"
   ]
  },
  {
   "cell_type": "code",
   "execution_count": 51,
   "metadata": {
    "ExecuteTime": {
     "end_time": "2021-12-10T00:16:12.658962Z",
     "start_time": "2021-12-10T00:16:12.641973Z"
    }
   },
   "outputs": [],
   "source": [
    "# esse é um caso onde tem \"None\", o __repr__ não retorna nada.\n",
    "\n",
    "tree.esquerda.direita.esquerda"
   ]
  },
  {
   "cell_type": "code",
   "execution_count": 52,
   "metadata": {
    "ExecuteTime": {
     "end_time": "2021-12-10T00:17:40.052436Z",
     "start_time": "2021-12-10T00:17:40.035445Z"
    }
   },
   "outputs": [],
   "source": [
    "# SUPER DESAFIO: implementar o __str__ pra \"plotar\" a árvore.\n",
    "# dica: o atributo self.nivel vai ser importante!\n",
    "# dica2: dá trabalho!"
   ]
  },
  {
   "cell_type": "markdown",
   "metadata": {},
   "source": [
    "Vamos implementar a busca binária:"
   ]
  },
  {
   "cell_type": "code",
   "execution_count": 61,
   "metadata": {
    "ExecuteTime": {
     "end_time": "2021-12-10T00:46:21.087212Z",
     "start_time": "2021-12-10T00:46:21.063229Z"
    }
   },
   "outputs": [],
   "source": [
    "class Arvore:\n",
    "    '''\n",
    "    classe pra representar uma árvore\n",
    "    '''\n",
    "    \n",
    "    def __init__(self, \n",
    "                 root : int, \n",
    "                 right : Arvore,\n",
    "                 left : Arvore,\n",
    "                 level : int):\n",
    "        '''\n",
    "        root (int): o valor no nó;\n",
    "        right (Arvore): objeto arvore, que representa a sub-arvore à direita\n",
    "        left (Arvore): objeto arvore, que representa a sub-arvore à esquera\n",
    "        '''\n",
    "        \n",
    "        # atributos: raiz, com maximo de 2 filhos, e definir quais são os filhos\n",
    "        \n",
    "        self.raiz = root\n",
    "\n",
    "        self.direita = right\n",
    "        self.esquerda = left\n",
    "        \n",
    "        # \"profundidade\", nivel hierárquivo do nó de uma arvore\n",
    "        self.nivel = level\n",
    "    \n",
    "    def __repr__(self):\n",
    "        \n",
    "        # é uma folha?\n",
    "        if self.esquerda == None and self.direita == None:\n",
    "            \n",
    "            return f\"Folha com valor {self.raiz} no nó.\"\n",
    "        \n",
    "        elif self.nivel == 0:\n",
    "            \n",
    "            return f\"Árvore com o nó raiz de valor {self.raiz}.\"\n",
    "        \n",
    "        # para todos os demais nós,\n",
    "        else:\n",
    "            \n",
    "            return f\"Nó interno da árvore, com valor {self.raiz} no nó.\"\n",
    "        \n",
    "        \n",
    "    def busca_binaria(self, buscado):\n",
    "        \n",
    "        # se eu encontrei o buscado na raiz (que é onde estão os elementos)\n",
    "        if buscado == self.raiz:\n",
    "            \n",
    "            return True, self.nivel\n",
    "        \n",
    "        # se eu tô numa folha e não retornei True até aqui, eu retorno False.\n",
    "        elif self.esquerda == None and self.direita == None:\n",
    "            \n",
    "            return False\n",
    "        \n",
    "        # se eu não encontrei o elemento na raiz\n",
    "        # E se eu ainda não cheguei numa folha,\n",
    "        # eu percorro a árvore\n",
    "        \n",
    "        elif buscado < self.raiz:\n",
    "            \n",
    "            print(\"Vá pra esquerda\")\n",
    "            return self.esquerda.busca_binaria(buscado)\n",
    "            \n",
    "        elif buscado > self.raiz:\n",
    "            \n",
    "            print(\"Vá pra direita\")\n",
    "            return self.direita.busca_binaria(buscado)\n",
    "        \n",
    "        "
   ]
  },
  {
   "cell_type": "code",
   "execution_count": 62,
   "metadata": {
    "ExecuteTime": {
     "end_time": "2021-12-10T00:46:21.544173Z",
     "start_time": "2021-12-10T00:46:21.524186Z"
    }
   },
   "outputs": [],
   "source": [
    "tree = Arvore(root = 15,\n",
    "              right = Arvore(root = 18,\n",
    "                             right = Arvore(root = 20,\n",
    "                                            right = None,\n",
    "                                            left = None, \n",
    "                                            level = 2),\n",
    "                             left = Arvore(root = 17,\n",
    "                                           right = None,\n",
    "                                           left = None, \n",
    "                                           level = 2),\n",
    "                             level = 1),\n",
    "              left = Arvore(root = 6,\n",
    "                            right = Arvore(root = 7,\n",
    "                                           right = Arvore(root = 13,\n",
    "                                                          right = None,\n",
    "                                                          left = None,\n",
    "                                                          level = 3),\n",
    "                                           left = None,\n",
    "                                           level = 2),\n",
    "                            left = Arvore(root = 3,\n",
    "                                          right = Arvore(root = 4,\n",
    "                                                         right = None,\n",
    "                                                         left = None,\n",
    "                                                         level = 3),\n",
    "                                          left = Arvore(root = 2,\n",
    "                                                        right = None,\n",
    "                                                        left = None,\n",
    "                                                        level = 3),\n",
    "                                          level = 2),\n",
    "                            level = 1),\n",
    "             level = 0)"
   ]
  },
  {
   "cell_type": "code",
   "execution_count": 63,
   "metadata": {
    "ExecuteTime": {
     "end_time": "2021-12-10T00:46:22.862574Z",
     "start_time": "2021-12-10T00:46:22.845564Z"
    }
   },
   "outputs": [
    {
     "data": {
      "text/plain": [
       "(True, 0)"
      ]
     },
     "execution_count": 63,
     "metadata": {},
     "output_type": "execute_result"
    }
   ],
   "source": [
    "tree.busca_binaria(15)"
   ]
  },
  {
   "cell_type": "code",
   "execution_count": 64,
   "metadata": {
    "ExecuteTime": {
     "end_time": "2021-12-10T00:46:23.724085Z",
     "start_time": "2021-12-10T00:46:23.699100Z"
    }
   },
   "outputs": [
    {
     "name": "stdout",
     "output_type": "stream",
     "text": [
      "Vá pra esquerda\n",
      "Vá pra esquerda\n"
     ]
    },
    {
     "data": {
      "text/plain": [
       "(True, 2)"
      ]
     },
     "execution_count": 64,
     "metadata": {},
     "output_type": "execute_result"
    }
   ],
   "source": [
    "tree.busca_binaria(3)"
   ]
  },
  {
   "cell_type": "code",
   "execution_count": 65,
   "metadata": {
    "ExecuteTime": {
     "end_time": "2021-12-10T00:46:26.620854Z",
     "start_time": "2021-12-10T00:46:26.605862Z"
    }
   },
   "outputs": [
    {
     "name": "stdout",
     "output_type": "stream",
     "text": [
      "Vá pra esquerda\n",
      "Vá pra direita\n",
      "Vá pra direita\n"
     ]
    },
    {
     "data": {
      "text/plain": [
       "(True, 3)"
      ]
     },
     "execution_count": 65,
     "metadata": {},
     "output_type": "execute_result"
    }
   ],
   "source": [
    "tree.busca_binaria(13)"
   ]
  },
  {
   "cell_type": "code",
   "execution_count": 66,
   "metadata": {
    "ExecuteTime": {
     "end_time": "2021-12-10T00:46:29.246900Z",
     "start_time": "2021-12-10T00:46:29.229911Z"
    }
   },
   "outputs": [
    {
     "name": "stdout",
     "output_type": "stream",
     "text": [
      "Vá pra direita\n",
      "Vá pra esquerda\n"
     ]
    },
    {
     "data": {
      "text/plain": [
       "(True, 2)"
      ]
     },
     "execution_count": 66,
     "metadata": {},
     "output_type": "execute_result"
    }
   ],
   "source": [
    "tree.busca_binaria(17)"
   ]
  },
  {
   "cell_type": "code",
   "execution_count": 67,
   "metadata": {
    "ExecuteTime": {
     "end_time": "2021-12-10T00:46:30.536064Z",
     "start_time": "2021-12-10T00:46:30.527067Z"
    }
   },
   "outputs": [
    {
     "name": "stdout",
     "output_type": "stream",
     "text": [
      "Vá pra direita\n",
      "Vá pra direita\n"
     ]
    },
    {
     "data": {
      "text/plain": [
       "False"
      ]
     },
     "execution_count": 67,
     "metadata": {},
     "output_type": "execute_result"
    }
   ],
   "source": [
    "tree.busca_binaria(42)"
   ]
  },
  {
   "cell_type": "code",
   "execution_count": 68,
   "metadata": {
    "ExecuteTime": {
     "end_time": "2021-12-10T00:46:32.174052Z",
     "start_time": "2021-12-10T00:46:32.151086Z"
    }
   },
   "outputs": [
    {
     "name": "stdout",
     "output_type": "stream",
     "text": [
      "Vá pra esquerda\n",
      "Vá pra esquerda\n",
      "Vá pra direita\n"
     ]
    },
    {
     "data": {
      "text/plain": [
       "False"
      ]
     },
     "execution_count": 68,
     "metadata": {},
     "output_type": "execute_result"
    }
   ],
   "source": [
    "tree.busca_binaria(5)"
   ]
  },
  {
   "cell_type": "markdown",
   "metadata": {},
   "source": [
    "<img src=\"https://s3-sa-east-1.amazonaws.com/lcpi/61af9259-b2d0-444c-bef0-22ae71c0b9f2.png\" width=600>"
   ]
  },
  {
   "cell_type": "markdown",
   "metadata": {},
   "source": [
    "_________"
   ]
  },
  {
   "cell_type": "markdown",
   "metadata": {},
   "source": [
    "Com o método \\_\\_str\\_\\_(), caso alguém queira :)"
   ]
  },
  {
   "cell_type": "code",
   "execution_count": 8,
   "metadata": {
    "ExecuteTime": {
     "end_time": "2021-12-10T22:17:51.411078Z",
     "start_time": "2021-12-10T22:17:51.387092Z"
    }
   },
   "outputs": [],
   "source": [
    "class Arvore:\n",
    "    '''\n",
    "    classe pra representar uma árvore\n",
    "    '''\n",
    "    \n",
    "    def __init__(self, \n",
    "                 root : int, \n",
    "                 right,\n",
    "                 left,\n",
    "                 level : int):\n",
    "        '''\n",
    "        root (int): o valor no nó;\n",
    "        right (Arvore): objeto arvore, que representa a sub-arvore à direita\n",
    "        left (Arvore): objeto arvore, que representa a sub-arvore à esquera\n",
    "        '''\n",
    "        \n",
    "        # atributos: raiz, com maximo de 2 filhos, e definir quais são os filhos\n",
    "        \n",
    "        self.raiz = root\n",
    "\n",
    "        self.direita = right\n",
    "        self.esquerda = left\n",
    "        \n",
    "        # \"profundidade\", nivel hierárquivo do nó de uma arvore\n",
    "        self.nivel = level\n",
    "    \n",
    "    def __repr__(self):\n",
    "        \n",
    "        # é uma folha?\n",
    "        if self.esquerda == None and self.direita == None:\n",
    "            \n",
    "            return f\"Folha com valor {self.raiz} no nó.\"\n",
    "        \n",
    "        elif self.nivel == 0:\n",
    "            \n",
    "            return f\"Árvore com o nó raiz de valor {self.raiz}.\"\n",
    "        \n",
    "        # para todos os demais nós,\n",
    "        else:\n",
    "            \n",
    "            return f\"Nó interno da árvore, com valor {self.raiz} no nó.\"\n",
    "        \n",
    "        \n",
    "    # adaptei daqui: \n",
    "    # https://stackoverflow.com/questions/20242479/printing-a-tree-data-structure-in-python       \n",
    "    def __str__(self, level=0):\n",
    "        \n",
    "        txt = f\"{'-'*5*level}|{int(repr(self.raiz)):02d}|{'-'*(20-5*level)}\"[:20] + \"\\n\"\n",
    "        \n",
    "        if self.direita:\n",
    "            \n",
    "            txt += f'{self.direita.__str__(level+1)}'\n",
    "            \n",
    "        if self.esquerda:\n",
    "            \n",
    "            txt += f'{self.esquerda.__str__(level+1)}'\n",
    "            \n",
    "        return txt\n",
    "        \n",
    "        \n",
    "    def busca_binaria(self, buscado):\n",
    "        \n",
    "        # se eu encontrei o buscado na raiz (que é onde estão os elementos)\n",
    "        if buscado == self.raiz:\n",
    "            \n",
    "            return True, self.nivel\n",
    "        \n",
    "        # se eu tô numa folha e não retornei True até aqui, eu retorno False.\n",
    "        elif self.esquerda == None and self.direita == None:\n",
    "            \n",
    "            return False\n",
    "        \n",
    "        # se eu não encontrei o elemento na raiz\n",
    "        # E se eu ainda não cheguei numa folha,\n",
    "        # eu percorro a árvore\n",
    "        \n",
    "        elif buscado < self.raiz:\n",
    "            \n",
    "            print(\"Vá pra esquerda\")\n",
    "            return self.esquerda.busca_binaria(buscado)\n",
    "            \n",
    "        elif buscado > self.raiz:\n",
    "            \n",
    "            print(\"Vá pra direita\")\n",
    "            return self.direita.busca_binaria(buscado)\n",
    "        \n",
    "        "
   ]
  },
  {
   "cell_type": "code",
   "execution_count": 9,
   "metadata": {
    "ExecuteTime": {
     "end_time": "2021-12-10T22:17:51.941436Z",
     "start_time": "2021-12-10T22:17:51.921448Z"
    }
   },
   "outputs": [],
   "source": [
    "tree = Arvore(root = 15,\n",
    "              right = Arvore(root = 18,\n",
    "                             right = Arvore(root = 20,\n",
    "                                            right = None,\n",
    "                                            left = None, \n",
    "                                            level = 2),\n",
    "                             left = Arvore(root = 17,\n",
    "                                           right = None,\n",
    "                                           left = None, \n",
    "                                           level = 2),\n",
    "                             level = 1),\n",
    "              left = Arvore(root = 6,\n",
    "                            right = Arvore(root = 7,\n",
    "                                           right = Arvore(root = 13,\n",
    "                                                          right = None,\n",
    "                                                          left = None,\n",
    "                                                          level = 3),\n",
    "                                           left = None,\n",
    "                                           level = 2),\n",
    "                            left = Arvore(root = 3,\n",
    "                                          right = Arvore(root = 4,\n",
    "                                                         right = None,\n",
    "                                                         left = None,\n",
    "                                                         level = 3),\n",
    "                                          left = Arvore(root = 2,\n",
    "                                                        right = None,\n",
    "                                                        left = None,\n",
    "                                                        level = 3),\n",
    "                                          level = 2),\n",
    "                            level = 1),\n",
    "             level = 0)"
   ]
  },
  {
   "cell_type": "code",
   "execution_count": 12,
   "metadata": {
    "ExecuteTime": {
     "end_time": "2021-12-10T22:19:06.700862Z",
     "start_time": "2021-12-10T22:19:06.673878Z"
    }
   },
   "outputs": [
    {
     "data": {
      "text/plain": [
       "Árvore com o nó raiz de valor 15."
      ]
     },
     "execution_count": 12,
     "metadata": {},
     "output_type": "execute_result"
    }
   ],
   "source": [
    "tree"
   ]
  },
  {
   "cell_type": "code",
   "execution_count": 13,
   "metadata": {
    "ExecuteTime": {
     "end_time": "2021-12-10T22:19:15.115347Z",
     "start_time": "2021-12-10T22:19:15.101357Z"
    }
   },
   "outputs": [
    {
     "data": {
      "text/plain": [
       "Nó interno da árvore, com valor 6 no nó."
      ]
     },
     "execution_count": 13,
     "metadata": {},
     "output_type": "execute_result"
    }
   ],
   "source": [
    "tree.esquerda"
   ]
  },
  {
   "cell_type": "code",
   "execution_count": 11,
   "metadata": {
    "ExecuteTime": {
     "end_time": "2021-12-10T22:18:09.319153Z",
     "start_time": "2021-12-10T22:18:09.304162Z"
    }
   },
   "outputs": [
    {
     "name": "stdout",
     "output_type": "stream",
     "text": [
      "|15|----------------\n",
      "-----|18|-----------\n",
      "----------|20|------\n",
      "----------|17|------\n",
      "-----|06|-----------\n",
      "----------|07|------\n",
      "---------------|13|-\n",
      "----------|03|------\n",
      "---------------|04|-\n",
      "---------------|02|-\n",
      "\n"
     ]
    }
   ],
   "source": [
    "# pense que pegou a árvore e rotacionou 90° em sentido anti-horário!!\n",
    "\n",
    "print(tree)"
   ]
  },
  {
   "cell_type": "markdown",
   "metadata": {},
   "source": [
    "<img src=\"https://s3-sa-east-1.amazonaws.com/lcpi/61af9259-b2d0-444c-bef0-22ae71c0b9f2.png\" width=600>"
   ]
  },
  {
   "cell_type": "markdown",
   "metadata": {},
   "source": [
    "_________"
   ]
  },
  {
   "cell_type": "markdown",
   "metadata": {},
   "source": [
    "### 1.5) Árvores de decisão\n",
    "\n",
    "Árvores podem ser usadas para criar um caminho lógico para uma decisão. \n",
    "\n",
    "Na figura, temos uma árvore que diagnosticará se uma pessoa está com algum problema de saúde.\n",
    "\n",
    "<img src=https://s3-sa-east-1.amazonaws.com/lcpi/c7bfd1c3-f7dc-464a-ae25-6dcc6ce7672f.PNG width=600>\n",
    "\n",
    "Crie uma árvore no Python que representa a árvore da imagem. \n",
    "\n",
    "Inserir método que percorre a árvore, fazendo perguntas, e ao final diz o problema de saúde de uma determinada pessoa."
   ]
  },
  {
   "cell_type": "code",
   "execution_count": 1,
   "metadata": {},
   "outputs": [],
   "source": [
    "# exercício: implementem a classe dá árvore! \n",
    "\n",
    "# construam também um método para o diagnóstico\n",
    "# no método, deve haver um input perguntando sobre alguma das variáveis \n",
    "# (sente mal estar? tem dor de cabeça?)\n",
    "# a resposta deve ser de sim/nao, True/False\n",
    "# com base na resposta, vc deve decidir por qual lado seguir, e assim, percorrer a árvore\n",
    "# percorra a árvore, até chegar em alguma folha\n",
    "# na folha, é retornado o diagnóstico.\n"
   ]
  },
  {
   "cell_type": "code",
   "execution_count": 35,
   "metadata": {
    "ExecuteTime": {
     "end_time": "2021-12-10T23:05:33.971179Z",
     "start_time": "2021-12-10T23:05:33.946670Z"
    }
   },
   "outputs": [],
   "source": [
    "class Arvore:\n",
    "    \n",
    "    def __init__(self, p, es, di, lv):\n",
    "        \n",
    "        self.pergunta = p\n",
    "        \n",
    "        self.esquerda = es\n",
    "        self.direita = di\n",
    "        \n",
    "        # lembre que esse atributo \"nivel\" SÓ É UTILIZADO\n",
    "        # no método __repr__ abaixo. Só serve pra isso.\n",
    "        self.nivel = lv\n",
    "        \n",
    "    def __repr__(self):\n",
    "        \n",
    "        # é uma folha?\n",
    "        if self.esquerda == None and self.direita == None:\n",
    "            \n",
    "            return f\"O diagnóstico é: {self.pergunta}.\"\n",
    "        \n",
    "        elif self.nivel == 0:\n",
    "            \n",
    "            return f\"A primeira pergunta é: você está com {self.pergunta}?\"\n",
    "        \n",
    "        # para todos os demais nós,\n",
    "        else:\n",
    "            \n",
    "            return f\"Agora eu pergunto: você está com {self.pergunta}?\"\n",
    "        \n",
    "        \n",
    "    def diagnostico(self):\n",
    "        \n",
    "        # é uma folha?\n",
    "        if self.esquerda == None and self.direita == None:\n",
    "        \n",
    "            return f\"O diagnóstico é: {self.pergunta}.\"\n",
    "        \n",
    "        else:\n",
    "            \n",
    "            # pegando dados do usuário\n",
    "            resposta = input(f\"{self.nivel + 1} - Você está com {self.pergunta}? Responda com 's' ou 'n': \").lower()\n",
    "            \n",
    "            while resposta not in [\"s\", \"n\"]:\n",
    "                \n",
    "                pergunta = f\"Não entendi!\\n{self.nivel + 1} - Você está com {self.pergunta}? Responda com 's' ou 'n': \"\n",
    "                resposta = input(pergunta).lower()\n",
    "                \n",
    "            # agora, com base na resposta do usuario, percorremos a árvore\n",
    "            \n",
    "            if resposta == \"s\":\n",
    "                \n",
    "                return self.direita.diagnostico()\n",
    "            \n",
    "            # isso podia ser só um \"else\", mas vou deixar elif pra ficar explicito\n",
    "            elif resposta == \"n\":\n",
    "                \n",
    "                return self.esquerda.diagnostico()\n",
    "            "
   ]
  },
  {
   "cell_type": "code",
   "execution_count": 36,
   "metadata": {
    "ExecuteTime": {
     "end_time": "2021-12-10T23:05:34.799832Z",
     "start_time": "2021-12-10T23:05:34.772325Z"
    }
   },
   "outputs": [],
   "source": [
    "# dt = decision tree\n",
    "\n",
    "dt = Arvore(p = \"mal estar\",\n",
    "            es = Arvore(p = \"febre\",\n",
    "                        es = Arvore(p = \"dor de cabeça\",\n",
    "                                    es = Arvore(p = \"saudável\",\n",
    "                                                es = None,\n",
    "                                                di = None,\n",
    "                                                lv = 3),\n",
    "                                    di = Arvore(p = \"fadiga\",\n",
    "                                                es = None,\n",
    "                                                di = None,\n",
    "                                                lv = 3),\n",
    "                                    lv = 2),\n",
    "                        di = Arvore(p = \"mancha\",\n",
    "                                    es = Arvore(p = \"virose\",\n",
    "                                                es = None,\n",
    "                                                di = None,\n",
    "                                                lv = 3),\n",
    "                                    di = Arvore(p = \"sarampo\",\n",
    "                                                es = None,\n",
    "                                                di = None,\n",
    "                                                lv = 3),\n",
    "                                    lv = 2),\n",
    "                       lv = 1),\n",
    "            di = Arvore(p = \"dor de cabeça\",\n",
    "                        es = Arvore(p = \"vômito\",\n",
    "                                    es = Arvore(p = \"fome\",\n",
    "                                                es = None,\n",
    "                                                di = None,\n",
    "                                                lv = 3),\n",
    "                                    di = Arvore(p = \"infecção intestinal\",\n",
    "                                                es = None,\n",
    "                                                di = None,\n",
    "                                                lv = 3),\n",
    "                                    lv = 2),\n",
    "                        di = Arvore(p = \"boca seca\",\n",
    "                                    es = Arvore(p = \"falta de café\",\n",
    "                                                es = None,\n",
    "                                                di = None,\n",
    "                                                lv = 3),\n",
    "                                    di = Arvore(p = \"ressaca\",\n",
    "                                                es = None,\n",
    "                                                di = None,\n",
    "                                                lv = 3),\n",
    "                                    lv = 2),\n",
    "                       lv = 1),\n",
    "           lv = 0)"
   ]
  },
  {
   "cell_type": "code",
   "execution_count": 29,
   "metadata": {
    "ExecuteTime": {
     "end_time": "2021-12-10T23:02:32.109449Z",
     "start_time": "2021-12-10T23:02:32.095940Z"
    }
   },
   "outputs": [
    {
     "data": {
      "text/plain": [
       "A primeira pergunta é: você está com mal estar?"
      ]
     },
     "execution_count": 29,
     "metadata": {},
     "output_type": "execute_result"
    }
   ],
   "source": [
    "dt"
   ]
  },
  {
   "cell_type": "code",
   "execution_count": 30,
   "metadata": {
    "ExecuteTime": {
     "end_time": "2021-12-10T23:02:32.620857Z",
     "start_time": "2021-12-10T23:02:32.600869Z"
    }
   },
   "outputs": [
    {
     "data": {
      "text/plain": [
       "Agora eu pergunto: você está com febre?"
      ]
     },
     "execution_count": 30,
     "metadata": {},
     "output_type": "execute_result"
    }
   ],
   "source": [
    "dt.esquerda"
   ]
  },
  {
   "cell_type": "code",
   "execution_count": 31,
   "metadata": {
    "ExecuteTime": {
     "end_time": "2021-12-10T23:02:32.946223Z",
     "start_time": "2021-12-10T23:02:32.922237Z"
    }
   },
   "outputs": [
    {
     "data": {
      "text/plain": [
       "O diagnóstico é: sarampo."
      ]
     },
     "execution_count": 31,
     "metadata": {},
     "output_type": "execute_result"
    }
   ],
   "source": [
    "dt.esquerda.direita.direita"
   ]
  },
  {
   "cell_type": "markdown",
   "metadata": {},
   "source": [
    "<img src=https://s3-sa-east-1.amazonaws.com/lcpi/c7bfd1c3-f7dc-464a-ae25-6dcc6ce7672f.PNG width=600>"
   ]
  },
  {
   "cell_type": "code",
   "execution_count": 37,
   "metadata": {
    "ExecuteTime": {
     "end_time": "2021-12-10T23:05:46.645842Z",
     "start_time": "2021-12-10T23:05:38.977586Z"
    }
   },
   "outputs": [
    {
     "name": "stdout",
     "output_type": "stream",
     "text": [
      "1 - Você está com mal estar? Responda com 's' ou 'n': s\n",
      "2 - Você está com dor de cabeça? Responda com 's' ou 'n': n\n",
      "3 - Você está com vômito? Responda com 's' ou 'n': s\n"
     ]
    },
    {
     "data": {
      "text/plain": [
       "'O diagnóstico é: infecção intestinal.'"
      ]
     },
     "execution_count": 37,
     "metadata": {},
     "output_type": "execute_result"
    }
   ],
   "source": [
    "dt.diagnostico()"
   ]
  },
  {
   "cell_type": "code",
   "execution_count": 38,
   "metadata": {
    "ExecuteTime": {
     "end_time": "2021-12-10T23:05:55.839312Z",
     "start_time": "2021-12-10T23:05:54.182125Z"
    }
   },
   "outputs": [
    {
     "name": "stdout",
     "output_type": "stream",
     "text": [
      "1 - Você está com mal estar? Responda com 's' ou 'n': n\n",
      "2 - Você está com febre? Responda com 's' ou 'n': n\n",
      "3 - Você está com dor de cabeça? Responda com 's' ou 'n': n\n"
     ]
    },
    {
     "data": {
      "text/plain": [
       "'O diagnóstico é: saudável.'"
      ]
     },
     "execution_count": 38,
     "metadata": {},
     "output_type": "execute_result"
    }
   ],
   "source": [
    "dt.diagnostico()"
   ]
  },
  {
   "cell_type": "code",
   "execution_count": 40,
   "metadata": {
    "ExecuteTime": {
     "end_time": "2021-12-10T23:06:10.876347Z",
     "start_time": "2021-12-10T23:06:08.027125Z"
    }
   },
   "outputs": [
    {
     "name": "stdout",
     "output_type": "stream",
     "text": [
      "1 - Você está com mal estar? Responda com 's' ou 'n': n\n",
      "2 - Você está com febre? Responda com 's' ou 'n': s\n",
      "3 - Você está com mancha? Responda com 's' ou 'n': n\n"
     ]
    },
    {
     "data": {
      "text/plain": [
       "'O diagnóstico é: virose.'"
      ]
     },
     "execution_count": 40,
     "metadata": {},
     "output_type": "execute_result"
    }
   ],
   "source": [
    "dt.diagnostico()"
   ]
  },
  {
   "cell_type": "markdown",
   "metadata": {},
   "source": [
    "_____"
   ]
  }
 ],
 "metadata": {
  "kernelspec": {
   "display_name": "Python 3",
   "language": "python",
   "name": "python3"
  },
  "language_info": {
   "codemirror_mode": {
    "name": "ipython",
    "version": 3
   },
   "file_extension": ".py",
   "mimetype": "text/x-python",
   "name": "python",
   "nbconvert_exporter": "python",
   "pygments_lexer": "ipython3",
   "version": "3.8.3"
  }
 },
 "nbformat": 4,
 "nbformat_minor": 4
}
