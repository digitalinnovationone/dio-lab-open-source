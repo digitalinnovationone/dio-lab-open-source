{
 "cells": [
  {
   "cell_type": "markdown",
   "metadata": {},
   "source": [
    "# Aula 5 - Grafos 2\n",
    "\n",
    "Na aula de hoje, vamos explorar os seguintes tópicos em Python:\n",
    "\n",
    "- 1) Grafos com NetworkX"
   ]
  },
  {
   "cell_type": "markdown",
   "metadata": {},
   "source": [
    "_________"
   ]
  },
  {
   "cell_type": "markdown",
   "metadata": {},
   "source": [
    "## 1) Grafos com networkx\n",
    "\n",
    "Na aula de hoje, vamos aprender como usar a biblioteca [NetworkX!](https://networkx.org/) para a análise de grafos/redes em Python!\n",
    "\n",
    "<img src=\"https://networkx.org/_static/networkx_logo.svg\">\n",
    "\n",
    "Primeiramente, se ainda não tiver instalado, instale a biblioteca com:\n",
    "\n",
    "`!pip install networkx==2.6.3`\n",
    "\n",
    "`!pip install --upgrade networkx`"
   ]
  },
  {
   "cell_type": "code",
   "execution_count": 1,
   "metadata": {
    "ExecuteTime": {
     "end_time": "2021-12-16T23:00:53.869711Z",
     "start_time": "2021-12-16T23:00:49.504797Z"
    }
   },
   "outputs": [],
   "source": [
    "import networkx as nx"
   ]
  },
  {
   "cell_type": "markdown",
   "metadata": {},
   "source": [
    "__________\n",
    "\n",
    "Para vermos como a networkx funciona na prática, vamos resolver os primeiros exercícios da lista, que são bem simples, e servirão perfeitamente para introduzir a sintaxe da biblioteca!\n",
    "\n",
    "__________"
   ]
  },
  {
   "cell_type": "markdown",
   "metadata": {},
   "source": [
    "**1)** Implemente o grafo ilustrado pela figura abaixo, utilizando a representação baseada em uma matriz de adjacências. Em seguida, exiba a matriz que representa o grafo.\n",
    "\n",
    "<img src=https://s3-sa-east-1.amazonaws.com/lcpi/c5b98cc3-2c85-4d9a-b1e8-aaa4b1aba9b3.png width=300>"
   ]
  },
  {
   "cell_type": "markdown",
   "metadata": {},
   "source": [
    "A classe para um grafo de mão dupla é `Graph()`:"
   ]
  },
  {
   "cell_type": "code",
   "execution_count": 11,
   "metadata": {
    "ExecuteTime": {
     "end_time": "2021-12-16T23:11:40.605832Z",
     "start_time": "2021-12-16T23:11:40.595840Z"
    }
   },
   "outputs": [],
   "source": [
    "g1 = nx.Graph()"
   ]
  },
  {
   "cell_type": "code",
   "execution_count": 12,
   "metadata": {
    "ExecuteTime": {
     "end_time": "2021-12-16T23:11:41.197555Z",
     "start_time": "2021-12-16T23:11:41.186559Z"
    }
   },
   "outputs": [
    {
     "data": {
      "text/plain": [
       "<networkx.classes.graph.Graph at 0x215ab911d30>"
      ]
     },
     "execution_count": 12,
     "metadata": {},
     "output_type": "execute_result"
    }
   ],
   "source": [
    "g1"
   ]
  },
  {
   "cell_type": "code",
   "execution_count": 13,
   "metadata": {
    "ExecuteTime": {
     "end_time": "2021-12-16T23:11:41.367467Z",
     "start_time": "2021-12-16T23:11:41.345469Z"
    }
   },
   "outputs": [
    {
     "data": {
      "text/plain": [
       "{'graph_attr_dict_factory': dict,\n",
       " 'node_dict_factory': dict,\n",
       " 'node_attr_dict_factory': dict,\n",
       " 'adjlist_outer_dict_factory': dict,\n",
       " 'adjlist_inner_dict_factory': dict,\n",
       " 'edge_attr_dict_factory': dict,\n",
       " 'graph': {},\n",
       " '_node': {},\n",
       " '_adj': {}}"
      ]
     },
     "execution_count": 13,
     "metadata": {},
     "output_type": "execute_result"
    }
   ],
   "source": [
    "vars(g1)"
   ]
  },
  {
   "cell_type": "markdown",
   "metadata": {},
   "source": [
    "Para adicionarmos vértices ao grafo, utilizamos o método `.add_node()`:"
   ]
  },
  {
   "cell_type": "code",
   "execution_count": 14,
   "metadata": {
    "ExecuteTime": {
     "end_time": "2021-12-16T23:11:41.725800Z",
     "start_time": "2021-12-16T23:11:41.712807Z"
    }
   },
   "outputs": [],
   "source": [
    "g1.add_node(0)\n",
    "g1.add_node(1)\n",
    "g1.add_node(2)\n",
    "g1.add_node(3)\n",
    "g1.add_node(4)\n",
    "g1.add_node(5)\n",
    "g1.add_node(6)\n",
    "\n",
    "# for i in range(7):\n",
    "#     g1.add_node(i)"
   ]
  },
  {
   "cell_type": "code",
   "execution_count": 15,
   "metadata": {
    "ExecuteTime": {
     "end_time": "2021-12-16T23:11:41.849779Z",
     "start_time": "2021-12-16T23:11:41.816756Z"
    }
   },
   "outputs": [
    {
     "data": {
      "text/plain": [
       "{'graph_attr_dict_factory': dict,\n",
       " 'node_dict_factory': dict,\n",
       " 'node_attr_dict_factory': dict,\n",
       " 'adjlist_outer_dict_factory': dict,\n",
       " 'adjlist_inner_dict_factory': dict,\n",
       " 'edge_attr_dict_factory': dict,\n",
       " 'graph': {},\n",
       " '_node': {0: {}, 1: {}, 2: {}, 3: {}, 4: {}, 5: {}, 6: {}},\n",
       " '_adj': {0: {}, 1: {}, 2: {}, 3: {}, 4: {}, 5: {}, 6: {}}}"
      ]
     },
     "execution_count": 15,
     "metadata": {},
     "output_type": "execute_result"
    }
   ],
   "source": [
    "vars(g1)"
   ]
  },
  {
   "cell_type": "markdown",
   "metadata": {},
   "source": [
    "O método `.add_edge()` cria arestas:"
   ]
  },
  {
   "cell_type": "code",
   "execution_count": 16,
   "metadata": {
    "ExecuteTime": {
     "end_time": "2021-12-16T23:11:42.190510Z",
     "start_time": "2021-12-16T23:11:42.162525Z"
    }
   },
   "outputs": [],
   "source": [
    "g1.add_edge(1, 3)\n",
    "\n",
    "g1.add_edge(2, 3)\n",
    "g1.add_edge(2, 5)\n",
    "\n",
    "g1.add_edge(3, 4)\n",
    "\n",
    "g1.add_edge(4, 5)\n",
    "g1.add_edge(4, 6)\n",
    "\n",
    "g1.add_edge(5, 5)\n",
    "g1.add_edge(5, 6)"
   ]
  },
  {
   "cell_type": "code",
   "execution_count": 17,
   "metadata": {
    "ExecuteTime": {
     "end_time": "2021-12-16T23:11:49.924805Z",
     "start_time": "2021-12-16T23:11:49.903819Z"
    }
   },
   "outputs": [
    {
     "data": {
      "text/plain": [
       "{'graph_attr_dict_factory': dict,\n",
       " 'node_dict_factory': dict,\n",
       " 'node_attr_dict_factory': dict,\n",
       " 'adjlist_outer_dict_factory': dict,\n",
       " 'adjlist_inner_dict_factory': dict,\n",
       " 'edge_attr_dict_factory': dict,\n",
       " 'graph': {},\n",
       " '_node': {0: {}, 1: {}, 2: {}, 3: {}, 4: {}, 5: {}, 6: {}},\n",
       " '_adj': {0: {},\n",
       "  1: {3: {}},\n",
       "  2: {3: {}, 5: {}},\n",
       "  3: {1: {}, 2: {}, 4: {}},\n",
       "  4: {3: {}, 5: {}, 6: {}},\n",
       "  5: {2: {}, 4: {}, 5: {}, 6: {}},\n",
       "  6: {4: {}, 5: {}}}}"
      ]
     },
     "execution_count": 17,
     "metadata": {},
     "output_type": "execute_result"
    }
   ],
   "source": [
    "vars(g1)"
   ]
  },
  {
   "cell_type": "code",
   "execution_count": 18,
   "metadata": {
    "ExecuteTime": {
     "end_time": "2021-12-16T23:12:21.924071Z",
     "start_time": "2021-12-16T23:12:21.904079Z"
    }
   },
   "outputs": [
    {
     "data": {
      "text/plain": [
       "{0: {},\n",
       " 1: {3: {}},\n",
       " 2: {3: {}, 5: {}},\n",
       " 3: {1: {}, 2: {}, 4: {}},\n",
       " 4: {3: {}, 5: {}, 6: {}},\n",
       " 5: {2: {}, 4: {}, 5: {}, 6: {}},\n",
       " 6: {4: {}, 5: {}}}"
      ]
     },
     "execution_count": 18,
     "metadata": {},
     "output_type": "execute_result"
    }
   ],
   "source": [
    "g1._adj"
   ]
  },
  {
   "cell_type": "markdown",
   "metadata": {},
   "source": [
    "O objeto g1 tem uns atributos importantes:"
   ]
  },
  {
   "cell_type": "code",
   "execution_count": 19,
   "metadata": {
    "ExecuteTime": {
     "end_time": "2021-12-16T23:12:52.327776Z",
     "start_time": "2021-12-16T23:12:52.311787Z"
    }
   },
   "outputs": [
    {
     "data": {
      "text/plain": [
       "NodeView((0, 1, 2, 3, 4, 5, 6))"
      ]
     },
     "execution_count": 19,
     "metadata": {},
     "output_type": "execute_result"
    }
   ],
   "source": [
    "g1.nodes"
   ]
  },
  {
   "cell_type": "code",
   "execution_count": 35,
   "metadata": {
    "ExecuteTime": {
     "end_time": "2021-12-16T23:17:31.220514Z",
     "start_time": "2021-12-16T23:17:31.213519Z"
    }
   },
   "outputs": [
    {
     "data": {
      "text/plain": [
       "NodeView((0, 1, 2, 3, 4, 5, 6))"
      ]
     },
     "execution_count": 35,
     "metadata": {},
     "output_type": "execute_result"
    }
   ],
   "source": [
    "# tem um método tambem, de mesmo nome\n",
    "g1.nodes()"
   ]
  },
  {
   "cell_type": "code",
   "execution_count": 20,
   "metadata": {
    "ExecuteTime": {
     "end_time": "2021-12-16T23:13:10.103809Z",
     "start_time": "2021-12-16T23:13:10.089816Z"
    }
   },
   "outputs": [
    {
     "data": {
      "text/plain": [
       "7"
      ]
     },
     "execution_count": 20,
     "metadata": {},
     "output_type": "execute_result"
    }
   ],
   "source": [
    "g1.number_of_nodes()"
   ]
  },
  {
   "cell_type": "code",
   "execution_count": 21,
   "metadata": {
    "ExecuteTime": {
     "end_time": "2021-12-16T23:13:20.139492Z",
     "start_time": "2021-12-16T23:13:20.124503Z"
    }
   },
   "outputs": [
    {
     "data": {
      "text/plain": [
       "EdgeView([(1, 3), (2, 3), (2, 5), (3, 4), (4, 5), (4, 6), (5, 5), (5, 6)])"
      ]
     },
     "execution_count": 21,
     "metadata": {},
     "output_type": "execute_result"
    }
   ],
   "source": [
    "g1.edges"
   ]
  },
  {
   "cell_type": "code",
   "execution_count": 22,
   "metadata": {
    "ExecuteTime": {
     "end_time": "2021-12-16T23:13:34.907357Z",
     "start_time": "2021-12-16T23:13:34.896366Z"
    }
   },
   "outputs": [
    {
     "data": {
      "text/plain": [
       "8"
      ]
     },
     "execution_count": 22,
     "metadata": {},
     "output_type": "execute_result"
    }
   ],
   "source": [
    "g1.number_of_edges()"
   ]
  },
  {
   "cell_type": "markdown",
   "metadata": {},
   "source": [
    "Para visualizarmos o grafo, existe a função `draw_networkx()`:"
   ]
  },
  {
   "cell_type": "code",
   "execution_count": 40,
   "metadata": {
    "ExecuteTime": {
     "end_time": "2021-12-16T23:21:22.604858Z",
     "start_time": "2021-12-16T23:21:22.589867Z"
    }
   },
   "outputs": [
    {
     "data": {
      "text/plain": [
       "'2.6.3'"
      ]
     },
     "execution_count": 40,
     "metadata": {},
     "output_type": "execute_result"
    }
   ],
   "source": [
    "nx.__version__a'"
   ]
  },
  {
   "cell_type": "code",
   "execution_count": 45,
   "metadata": {
    "ExecuteTime": {
     "end_time": "2021-12-16T23:30:44.086206Z",
     "start_time": "2021-12-16T23:30:43.666317Z"
    }
   },
   "outputs": [
    {
     "data": {
      "image/png": "[encoded data removed]",
      "text/plain": [
       "<Figure size 432x288 with 1 Axes>"
      ]
     },
     "metadata": {},
     "output_type": "display_data"
    }
   ],
   "source": [
    "nx.draw_networkx(g1)"
   ]
  },
  {
   "cell_type": "markdown",
   "metadata": {},
   "source": [
    "<img src=https://s3-sa-east-1.amazonaws.com/lcpi/c5b98cc3-2c85-4d9a-b1e8-aaa4b1aba9b3.png width=300>"
   ]
  },
  {
   "cell_type": "markdown",
   "metadata": {},
   "source": [
    "Toda vez que o método é executado, o grafo aparece em uma posição aleatória. Isso porque o algoritmo de plotagem do networkx se utiliza de seeds aleatórias para a posição inicial do grafo.\n",
    "\n",
    "É possível entender qual foi a posição escolhida, usando a função `spring_layout()`:"
   ]
  },
  {
   "cell_type": "code",
   "execution_count": 66,
   "metadata": {
    "ExecuteTime": {
     "end_time": "2021-12-16T23:34:15.697210Z",
     "start_time": "2021-12-16T23:34:15.663229Z"
    }
   },
   "outputs": [
    {
     "data": {
      "text/plain": [
       "{0: array([0.07390872, 1.        ]),\n",
       " 1: array([0.23132053, 0.08306077]),\n",
       " 2: array([-0.12042549, -0.07465783]),\n",
       " 3: array([ 0.07472968, -0.05600028]),\n",
       " 4: array([ 0.00173165, -0.26583597]),\n",
       " 5: array([-0.16073083, -0.26408723]),\n",
       " 6: array([-0.10053426, -0.42247946])}"
      ]
     },
     "execution_count": 66,
     "metadata": {},
     "output_type": "execute_result"
    }
   ],
   "source": [
    "my_pos = nx.spring_layout(g1, seed = 42)\n",
    "\n",
    "my_pos"
   ]
  },
  {
   "cell_type": "markdown",
   "metadata": {},
   "source": [
    "Se quisermos que essa sempre seja a posição, basta fixarmos a seed e passar esse dicionário pra função de plot, como o argumento `pos`:"
   ]
  },
  {
   "cell_type": "code",
   "execution_count": 79,
   "metadata": {
    "ExecuteTime": {
     "end_time": "2021-12-16T23:35:28.932258Z",
     "start_time": "2021-12-16T23:35:28.538941Z"
    }
   },
   "outputs": [
    {
     "data": {
      "image/png": "[encoded data removed]",
      "text/plain": [
       "<Figure size 432x288 with 1 Axes>"
      ]
     },
     "metadata": {},
     "output_type": "display_data"
    }
   ],
   "source": [
    "my_pos = nx.spring_layout(g1, seed=42)\n",
    "\n",
    "nx.draw_networkx(g1, pos=my_pos)"
   ]
  },
  {
   "cell_type": "markdown",
   "metadata": {},
   "source": [
    "E, claro, podemos fixar à mão, basta mudar os valores no dicionário que é passado pro `pos`:"
   ]
  },
  {
   "cell_type": "code",
   "execution_count": 89,
   "metadata": {
    "ExecuteTime": {
     "end_time": "2021-12-16T23:38:08.245035Z",
     "start_time": "2021-12-16T23:38:07.831249Z"
    }
   },
   "outputs": [
    {
     "data": {
      "image/png": "[encoded data removed]",
      "text/plain": [
       "<Figure size 432x288 with 1 Axes>"
      ]
     },
     "metadata": {},
     "output_type": "display_data"
    }
   ],
   "source": [
    "my_pos = {0: [-0.9, 0.4],\n",
    "          1: [-1, 1],\n",
    "          2: [-0.7, 0.2],\n",
    "          3: [-0.8, 0.8],\n",
    "          4: [-0.5, 1],\n",
    "          5: [-0.4, 0.4],\n",
    "          6: [-0.3, 0.8]}\n",
    "\n",
    "nx.draw_networkx(g1, pos=my_pos)"
   ]
  },
  {
   "cell_type": "code",
   "execution_count": 88,
   "metadata": {
    "ExecuteTime": {
     "end_time": "2021-12-16T23:37:35.692617Z",
     "start_time": "2021-12-16T23:37:35.280343Z"
    }
   },
   "outputs": [
    {
     "data": {
      "image/png": "[encoded data removed]",
      "text/plain": [
       "<Figure size 432x288 with 1 Axes>"
      ]
     },
     "metadata": {},
     "output_type": "display_data"
    }
   ],
   "source": [
    "my_pos = {0: [0.5, 0.5        ],\n",
    "          1: [0.23132053, 0.08306077],\n",
    "          2: [-0.12042549, -0.07465783],\n",
    "          3: [ 0.01, 0.2],\n",
    "          4: [ 0.00173165, -0.26583597],\n",
    "          5: [-0.16073083, -0.26408723],\n",
    "          6: [-0.10053426, -0.42247946]}\n",
    "\n",
    "nx.draw_networkx(g1, pos=my_pos)"
   ]
  },
  {
   "cell_type": "markdown",
   "metadata": {},
   "source": [
    "Depois vamos ver outros argumentos interessantes pra controlar a aparência do plot -- mas **explore você mesmo**!"
   ]
  },
  {
   "cell_type": "markdown",
   "metadata": {},
   "source": [
    "Podemos recuperar a matriz de adjacência referente ao grafo:"
   ]
  },
  {
   "cell_type": "code",
   "execution_count": 91,
   "metadata": {
    "ExecuteTime": {
     "end_time": "2021-12-16T23:41:59.241043Z",
     "start_time": "2021-12-16T23:41:59.235045Z"
    }
   },
   "outputs": [],
   "source": [
    "m1 = nx.adjacency_matrix(g1)"
   ]
  },
  {
   "cell_type": "markdown",
   "metadata": {},
   "source": [
    "Por padrão, a matriz é representada de maneira esparsa:"
   ]
  },
  {
   "cell_type": "code",
   "execution_count": 92,
   "metadata": {
    "ExecuteTime": {
     "end_time": "2021-12-16T23:42:01.472725Z",
     "start_time": "2021-12-16T23:42:01.454065Z"
    }
   },
   "outputs": [
    {
     "data": {
      "text/plain": [
       "<7x7 sparse matrix of type '<class 'numpy.intc'>'\n",
       "\twith 15 stored elements in Compressed Sparse Row format>"
      ]
     },
     "execution_count": 92,
     "metadata": {},
     "output_type": "execute_result"
    }
   ],
   "source": [
    "m1"
   ]
  },
  {
   "cell_type": "markdown",
   "metadata": {},
   "source": [
    "Caso se deseje visualizar a matriz completa, densa:"
   ]
  },
  {
   "cell_type": "code",
   "execution_count": 95,
   "metadata": {
    "ExecuteTime": {
     "end_time": "2021-12-16T23:54:05.290604Z",
     "start_time": "2021-12-16T23:54:05.268617Z"
    }
   },
   "outputs": [
    {
     "name": "stdout",
     "output_type": "stream",
     "text": [
      "[[0 0 0 0 0 0 0]\n",
      " [0 0 0 1 0 0 0]\n",
      " [0 0 0 1 0 1 0]\n",
      " [0 1 1 0 1 0 0]\n",
      " [0 0 0 1 0 1 1]\n",
      " [0 0 1 0 1 1 1]\n",
      " [0 0 0 0 1 1 0]]\n"
     ]
    }
   ],
   "source": [
    "print(m1.todense())"
   ]
  },
  {
   "cell_type": "markdown",
   "metadata": {},
   "source": [
    "<img src=https://s3-sa-east-1.amazonaws.com/lcpi/c5b98cc3-2c85-4d9a-b1e8-aaa4b1aba9b3.png width=300>"
   ]
  },
  {
   "cell_type": "markdown",
   "metadata": {
    "ExecuteTime": {
     "end_time": "2021-12-13T20:37:54.585421Z",
     "start_time": "2021-12-13T20:37:54.210116Z"
    }
   },
   "source": [
    "Lembrando que os nós aparecem segundo a ordem em que os criamos! \n",
    "\n",
    "Esta ordem pode ser visualizada com:"
   ]
  },
  {
   "cell_type": "code",
   "execution_count": 94,
   "metadata": {
    "ExecuteTime": {
     "end_time": "2021-12-16T23:43:57.553577Z",
     "start_time": "2021-12-16T23:43:57.531589Z"
    }
   },
   "outputs": [
    {
     "data": {
      "text/plain": [
       "NodeView((0, 1, 2, 3, 4, 5, 6))"
      ]
     },
     "execution_count": 94,
     "metadata": {},
     "output_type": "execute_result"
    }
   ],
   "source": [
    "g1.nodes"
   ]
  },
  {
   "cell_type": "markdown",
   "metadata": {},
   "source": [
    "Também é possível recuperar a lista de adjacência:"
   ]
  },
  {
   "cell_type": "code",
   "execution_count": 96,
   "metadata": {
    "ExecuteTime": {
     "end_time": "2021-12-16T23:58:18.524984Z",
     "start_time": "2021-12-16T23:58:18.509973Z"
    }
   },
   "outputs": [
    {
     "data": {
      "text/plain": [
       "{0: {},\n",
       " 1: {3: {}},\n",
       " 2: {3: {}, 5: {}},\n",
       " 3: {1: {}, 2: {}, 4: {}},\n",
       " 4: {3: {}, 5: {}, 6: {}},\n",
       " 5: {2: {}, 4: {}, 5: {}, 6: {}},\n",
       " 6: {4: {}, 5: {}}}"
      ]
     },
     "execution_count": 96,
     "metadata": {},
     "output_type": "execute_result"
    }
   ],
   "source": [
    "g1._adj"
   ]
  },
  {
   "cell_type": "markdown",
   "metadata": {},
   "source": [
    "Uma outra forma:"
   ]
  },
  {
   "cell_type": "code",
   "execution_count": 97,
   "metadata": {
    "ExecuteTime": {
     "end_time": "2021-12-16T23:59:33.910135Z",
     "start_time": "2021-12-16T23:59:33.897143Z"
    }
   },
   "outputs": [
    {
     "data": {
      "text/plain": [
       "<generator object generate_adjlist at 0x00000215B7D63740>"
      ]
     },
     "execution_count": 97,
     "metadata": {},
     "output_type": "execute_result"
    }
   ],
   "source": [
    "nx.generate_adjlist(g1)"
   ]
  },
  {
   "cell_type": "markdown",
   "metadata": {},
   "source": [
    "Uma outra forma:"
   ]
  },
  {
   "cell_type": "code",
   "execution_count": 98,
   "metadata": {
    "ExecuteTime": {
     "end_time": "2021-12-16T23:59:55.783113Z",
     "start_time": "2021-12-16T23:59:55.772067Z"
    }
   },
   "outputs": [
    {
     "name": "stdout",
     "output_type": "stream",
     "text": [
      "0\n",
      "1 3\n",
      "2 3 5\n",
      "3 4\n",
      "4 5 6\n",
      "5 5 6\n",
      "6\n"
     ]
    }
   ],
   "source": [
    "for item in nx.generate_adjlist(g1):\n",
    "    \n",
    "    print(item)"
   ]
  },
  {
   "cell_type": "code",
   "execution_count": 99,
   "metadata": {
    "ExecuteTime": {
     "end_time": "2021-12-17T00:00:17.655160Z",
     "start_time": "2021-12-17T00:00:17.637657Z"
    }
   },
   "outputs": [
    {
     "data": {
      "text/plain": [
       "['0', '1 3', '2 3 5', '3 4', '4 5 6', '5 5 6', '6']"
      ]
     },
     "execution_count": 99,
     "metadata": {},
     "output_type": "execute_result"
    }
   ],
   "source": [
    "[item for item in nx.generate_adjlist(g1)]"
   ]
  },
  {
   "cell_type": "code",
   "execution_count": 100,
   "metadata": {
    "ExecuteTime": {
     "end_time": "2021-12-17T00:00:44.804528Z",
     "start_time": "2021-12-17T00:00:44.781543Z"
    }
   },
   "outputs": [
    {
     "data": {
      "text/plain": [
       "{'directed': False,\n",
       " 'multigraph': False,\n",
       " 'graph': [],\n",
       " 'nodes': [{'id': 0},\n",
       "  {'id': 1},\n",
       "  {'id': 2},\n",
       "  {'id': 3},\n",
       "  {'id': 4},\n",
       "  {'id': 5},\n",
       "  {'id': 6}],\n",
       " 'adjacency': [[],\n",
       "  [{'id': 3}],\n",
       "  [{'id': 3}, {'id': 5}],\n",
       "  [{'id': 1}, {'id': 2}, {'id': 4}],\n",
       "  [{'id': 3}, {'id': 5}, {'id': 6}],\n",
       "  [{'id': 2}, {'id': 4}, {'id': 5}, {'id': 6}],\n",
       "  [{'id': 4}, {'id': 5}]]}"
      ]
     },
     "execution_count": 100,
     "metadata": {},
     "output_type": "execute_result"
    }
   ],
   "source": [
    "nx.adjacency_data(g1)"
   ]
  },
  {
   "cell_type": "code",
   "execution_count": 104,
   "metadata": {
    "ExecuteTime": {
     "end_time": "2021-12-17T00:03:41.408502Z",
     "start_time": "2021-12-17T00:03:41.399317Z"
    }
   },
   "outputs": [
    {
     "data": {
      "text/plain": [
       "NodeView((0, 1, 2, 3, 4, 5, 6))"
      ]
     },
     "execution_count": 104,
     "metadata": {},
     "output_type": "execute_result"
    }
   ],
   "source": [
    "g1.nodes"
   ]
  },
  {
   "cell_type": "code",
   "execution_count": 101,
   "metadata": {
    "ExecuteTime": {
     "end_time": "2021-12-17T00:01:08.405694Z",
     "start_time": "2021-12-17T00:01:08.385700Z"
    }
   },
   "outputs": [
    {
     "data": {
      "text/plain": [
       "[{'id': 0}, {'id': 1}, {'id': 2}, {'id': 3}, {'id': 4}, {'id': 5}, {'id': 6}]"
      ]
     },
     "execution_count": 101,
     "metadata": {},
     "output_type": "execute_result"
    }
   ],
   "source": [
    "nx.adjacency_data(g1)[\"nodes\"]"
   ]
  },
  {
   "cell_type": "code",
   "execution_count": 102,
   "metadata": {
    "ExecuteTime": {
     "end_time": "2021-12-17T00:01:18.457230Z",
     "start_time": "2021-12-17T00:01:18.441241Z"
    }
   },
   "outputs": [
    {
     "data": {
      "text/plain": [
       "[[],\n",
       " [{'id': 3}],\n",
       " [{'id': 3}, {'id': 5}],\n",
       " [{'id': 1}, {'id': 2}, {'id': 4}],\n",
       " [{'id': 3}, {'id': 5}, {'id': 6}],\n",
       " [{'id': 2}, {'id': 4}, {'id': 5}, {'id': 6}],\n",
       " [{'id': 4}, {'id': 5}]]"
      ]
     },
     "execution_count": 102,
     "metadata": {},
     "output_type": "execute_result"
    }
   ],
   "source": [
    "nx.adjacency_data(g1)[\"adjacency\"]"
   ]
  },
  {
   "cell_type": "code",
   "execution_count": 103,
   "metadata": {
    "ExecuteTime": {
     "end_time": "2021-12-17T00:01:57.329113Z",
     "start_time": "2021-12-17T00:01:56.938337Z"
    }
   },
   "outputs": [
    {
     "data": {
      "image/png": "[encoded data removed]",
      "text/plain": [
       "<Figure size 432x288 with 1 Axes>"
      ]
     },
     "metadata": {},
     "output_type": "display_data"
    }
   ],
   "source": [
    "my_pos = {0: [-0.9, 0.4],\n",
    "          1: [-1, 1],\n",
    "          2: [-0.7, 0.2],\n",
    "          3: [-0.8, 0.8],\n",
    "          4: [-0.5, 1],\n",
    "          5: [-0.4, 0.4],\n",
    "          6: [-0.3, 0.8]}\n",
    "\n",
    "nx.draw_networkx(g1, pos=my_pos)"
   ]
  },
  {
   "cell_type": "markdown",
   "metadata": {},
   "source": [
    "Caso queiramos percorrer o grafo, o networkx nos disponibiliza [algoritmos de percurso:](https://networkx.org/documentation/stable/reference/algorithms/simple_paths.html)"
   ]
  },
  {
   "cell_type": "code",
   "execution_count": 105,
   "metadata": {
    "ExecuteTime": {
     "end_time": "2021-12-17T00:05:25.067558Z",
     "start_time": "2021-12-17T00:05:25.059562Z"
    }
   },
   "outputs": [
    {
     "data": {
      "text/plain": [
       "<generator object _all_simple_paths_graph at 0x00000215B7D632E0>"
      ]
     },
     "execution_count": 105,
     "metadata": {},
     "output_type": "execute_result"
    }
   ],
   "source": [
    "nx.all_simple_paths(g1, 1, 5)"
   ]
  },
  {
   "cell_type": "code",
   "execution_count": 106,
   "metadata": {
    "ExecuteTime": {
     "end_time": "2021-12-17T00:05:39.316943Z",
     "start_time": "2021-12-17T00:05:39.298933Z"
    }
   },
   "outputs": [
    {
     "data": {
      "text/plain": [
       "[[1, 3, 2, 5], [1, 3, 4, 5], [1, 3, 4, 6, 5]]"
      ]
     },
     "execution_count": 106,
     "metadata": {},
     "output_type": "execute_result"
    }
   ],
   "source": [
    "[caminho for caminho in nx.all_simple_paths(g1, 1, 5)]"
   ]
  },
  {
   "cell_type": "code",
   "execution_count": 107,
   "metadata": {
    "ExecuteTime": {
     "end_time": "2021-12-17T00:06:13.125140Z",
     "start_time": "2021-12-17T00:06:13.105152Z"
    }
   },
   "outputs": [
    {
     "data": {
      "text/plain": [
       "[]"
      ]
     },
     "execution_count": 107,
     "metadata": {},
     "output_type": "execute_result"
    }
   ],
   "source": [
    "[caminho for caminho in nx.all_simple_paths(g1, 0, 5)]"
   ]
  },
  {
   "cell_type": "code",
   "execution_count": 108,
   "metadata": {
    "ExecuteTime": {
     "end_time": "2021-12-17T00:06:34.523572Z",
     "start_time": "2021-12-17T00:06:34.514578Z"
    }
   },
   "outputs": [
    {
     "data": {
      "text/plain": [
       "[[6, 4, 3, 1], [6, 4, 5, 2, 3, 1], [6, 5, 2, 3, 1], [6, 5, 4, 3, 1]]"
      ]
     },
     "execution_count": 108,
     "metadata": {},
     "output_type": "execute_result"
    }
   ],
   "source": [
    "[caminho for caminho in nx.all_simple_paths(g1, 6, 1)]"
   ]
  },
  {
   "cell_type": "code",
   "execution_count": 109,
   "metadata": {
    "ExecuteTime": {
     "end_time": "2021-12-17T00:06:46.506868Z",
     "start_time": "2021-12-17T00:06:46.488875Z"
    }
   },
   "outputs": [
    {
     "data": {
      "text/plain": [
       "[[1, 3, 2, 5, 4, 6], [1, 3, 2, 5, 6], [1, 3, 4, 5, 6], [1, 3, 4, 6]]"
      ]
     },
     "execution_count": 109,
     "metadata": {},
     "output_type": "execute_result"
    }
   ],
   "source": [
    "[caminho for caminho in nx.all_simple_paths(g1, 1, 6)]"
   ]
  },
  {
   "cell_type": "markdown",
   "metadata": {},
   "source": [
    "O networkx também disponibiliza [algoritmos de menor caminho!](https://networkx.org/documentation/stable/reference/algorithms/shortest_paths.html)"
   ]
  },
  {
   "cell_type": "code",
   "execution_count": 110,
   "metadata": {
    "ExecuteTime": {
     "end_time": "2021-12-17T00:08:20.984419Z",
     "start_time": "2021-12-17T00:08:20.965427Z"
    }
   },
   "outputs": [
    {
     "data": {
      "text/plain": [
       "[1, 3, 4, 6]"
      ]
     },
     "execution_count": 110,
     "metadata": {},
     "output_type": "execute_result"
    }
   ],
   "source": [
    "nx.shortest_path(g1, 1, 6)"
   ]
  },
  {
   "cell_type": "markdown",
   "metadata": {},
   "source": [
    "E se tiver varios caminhos mair curtos?"
   ]
  },
  {
   "cell_type": "code",
   "execution_count": 112,
   "metadata": {
    "ExecuteTime": {
     "end_time": "2021-12-17T00:09:14.807777Z",
     "start_time": "2021-12-17T00:09:14.788785Z"
    }
   },
   "outputs": [
    {
     "data": {
      "text/plain": [
       "[[1, 3, 2, 5], [1, 3, 4, 5], [1, 3, 4, 6, 5]]"
      ]
     },
     "execution_count": 112,
     "metadata": {},
     "output_type": "execute_result"
    }
   ],
   "source": [
    "[caminho for caminho in nx.all_simple_paths(g1, 1, 5)]"
   ]
  },
  {
   "cell_type": "code",
   "execution_count": 118,
   "metadata": {
    "ExecuteTime": {
     "end_time": "2021-12-17T00:09:44.325963Z",
     "start_time": "2021-12-17T00:09:44.308972Z"
    }
   },
   "outputs": [
    {
     "data": {
      "text/plain": [
       "[1, 3, 2, 5]"
      ]
     },
     "execution_count": 118,
     "metadata": {},
     "output_type": "execute_result"
    }
   ],
   "source": [
    "# retorna APENAS 1!\n",
    "nx.shortest_path(g1, 1, 5)"
   ]
  },
  {
   "cell_type": "code",
   "execution_count": 122,
   "metadata": {
    "ExecuteTime": {
     "end_time": "2021-12-17T00:10:20.854756Z",
     "start_time": "2021-12-17T00:10:20.840765Z"
    }
   },
   "outputs": [
    {
     "data": {
      "text/plain": [
       "[[1, 3, 2, 5], [1, 3, 4, 5]]"
      ]
     },
     "execution_count": 122,
     "metadata": {},
     "output_type": "execute_result"
    }
   ],
   "source": [
    "# isso é seguro, se vc quiser ter todos os menores caminhos\n",
    "\n",
    "[path for path in nx.all_shortest_paths(g1, 1, 5)]"
   ]
  },
  {
   "cell_type": "markdown",
   "metadata": {},
   "source": [
    "_____________"
   ]
  },
  {
   "cell_type": "markdown",
   "metadata": {},
   "source": [
    "**2)** Implemente o grafo ilustrado pela figura abaixo, utilizando a representação baseada em uma lista de adjacências. Em seguida, observe a lista de adjacências que representa o grafo.\n",
    "\n",
    "<img src=https://ycpcs.github.io/cs360-spring2019/lectures/images/lecture15/digraph.png width=300>"
   ]
  },
  {
   "cell_type": "markdown",
   "metadata": {},
   "source": [
    "A classe para grafos de não única (grafos direcionais) é a `DiGraph()`:"
   ]
  },
  {
   "cell_type": "code",
   "execution_count": 132,
   "metadata": {
    "ExecuteTime": {
     "end_time": "2021-12-17T00:17:11.882372Z",
     "start_time": "2021-12-17T00:17:11.871379Z"
    }
   },
   "outputs": [],
   "source": [
    "g2 = nx.DiGraph()\n",
    "\n",
    "for i in range(1, 6):\n",
    "    \n",
    "    g2.add_node(i)\n",
    "    \n",
    "g2.add_edge(1, 2)\n",
    "g2.add_edge(1, 3)\n",
    "g2.add_edge(1, 4)\n",
    "\n",
    "g2.add_edge(2, 3)\n",
    "\n",
    "g2.add_edge(3, 2)\n",
    "\n",
    "g2.add_edge(4, 4)\n",
    "\n",
    "g2.add_edge(5, 2)"
   ]
  },
  {
   "cell_type": "code",
   "execution_count": 134,
   "metadata": {
    "ExecuteTime": {
     "end_time": "2021-12-17T00:18:17.771793Z",
     "start_time": "2021-12-17T00:18:17.762799Z"
    }
   },
   "outputs": [
    {
     "name": "stdout",
     "output_type": "stream",
     "text": [
      "{1: {2: {}, 3: {}, 4: {}}, 2: {3: {}}, 3: {2: {}}, 4: {4: {}}, 5: {2: {}}}\n"
     ]
    }
   ],
   "source": [
    "print(g2._adj)"
   ]
  },
  {
   "cell_type": "code",
   "execution_count": 135,
   "metadata": {
    "ExecuteTime": {
     "end_time": "2021-12-17T00:18:31.973358Z",
     "start_time": "2021-12-17T00:18:31.953370Z"
    }
   },
   "outputs": [
    {
     "data": {
      "text/plain": [
       "[[{'id': 2}, {'id': 3}, {'id': 4}],\n",
       " [{'id': 3}],\n",
       " [{'id': 2}],\n",
       " [{'id': 4}],\n",
       " [{'id': 2}]]"
      ]
     },
     "execution_count": 135,
     "metadata": {},
     "output_type": "execute_result"
    }
   ],
   "source": [
    "nx.adjacency_data(g2)[\"adjacency\"]"
   ]
  },
  {
   "cell_type": "code",
   "execution_count": 136,
   "metadata": {
    "ExecuteTime": {
     "end_time": "2021-12-17T00:18:54.043235Z",
     "start_time": "2021-12-17T00:18:54.023247Z"
    }
   },
   "outputs": [
    {
     "data": {
      "text/plain": [
       "matrix([[0, 1, 1, 1, 0],\n",
       "        [0, 0, 1, 0, 0],\n",
       "        [0, 1, 0, 0, 0],\n",
       "        [0, 0, 0, 1, 0],\n",
       "        [0, 1, 0, 0, 0]], dtype=int32)"
      ]
     },
     "execution_count": 136,
     "metadata": {},
     "output_type": "execute_result"
    }
   ],
   "source": [
    "nx.adjacency_matrix(g2).todense()"
   ]
  },
  {
   "cell_type": "code",
   "execution_count": 144,
   "metadata": {
    "ExecuteTime": {
     "end_time": "2021-12-17T00:21:44.833233Z",
     "start_time": "2021-12-17T00:21:44.391192Z"
    }
   },
   "outputs": [
    {
     "data": {
      "image/png": "[encoded data removed]",
      "text/plain": [
       "<Figure size 432x288 with 1 Axes>"
      ]
     },
     "metadata": {},
     "output_type": "display_data"
    }
   ],
   "source": [
    "nx.draw_networkx(g2, pos=nx.spring_layout(g2, seed=42), node_color=\"#fc03c6\")"
   ]
  },
  {
   "cell_type": "markdown",
   "metadata": {},
   "source": [
    "Em um grafo direcionado (mão única), pode ser que caminhos não existam!"
   ]
  },
  {
   "cell_type": "code",
   "execution_count": 146,
   "metadata": {
    "ExecuteTime": {
     "end_time": "2021-12-17T00:23:19.240285Z",
     "start_time": "2021-12-17T00:23:19.220297Z"
    }
   },
   "outputs": [
    {
     "data": {
      "text/plain": [
       "[[1, 2], [1, 3, 2]]"
      ]
     },
     "execution_count": 146,
     "metadata": {},
     "output_type": "execute_result"
    }
   ],
   "source": [
    "[path for path in nx.all_simple_paths(g2, 1, 2)]"
   ]
  },
  {
   "cell_type": "code",
   "execution_count": 148,
   "metadata": {
    "ExecuteTime": {
     "end_time": "2021-12-17T00:24:58.884535Z",
     "start_time": "2021-12-17T00:24:58.874541Z"
    }
   },
   "outputs": [
    {
     "data": {
      "text/plain": [
       "[[1, 2]]"
      ]
     },
     "execution_count": 148,
     "metadata": {},
     "output_type": "execute_result"
    }
   ],
   "source": [
    "[path for path in nx.all_shortest_paths(g2, 1, 2)]"
   ]
  },
  {
   "cell_type": "code",
   "execution_count": 147,
   "metadata": {
    "ExecuteTime": {
     "end_time": "2021-12-17T00:23:48.271264Z",
     "start_time": "2021-12-17T00:23:48.251274Z"
    }
   },
   "outputs": [
    {
     "data": {
      "text/plain": [
       "[]"
      ]
     },
     "execution_count": 147,
     "metadata": {},
     "output_type": "execute_result"
    }
   ],
   "source": [
    "[path for path in nx.all_simple_paths(g2, 1, 5)]"
   ]
  },
  {
   "cell_type": "markdown",
   "metadata": {},
   "source": [
    "_____________"
   ]
  },
  {
   "cell_type": "markdown",
   "metadata": {},
   "source": [
    "**3)** Implemente o grafo ponderado ilustrado pela figura abaixo, utilizando as representações baseadas em:\n",
    "\n",
    "- matriz de adjacências;\n",
    "- lista de adjacências.\n",
    "\n",
    "Em seguida, exiba a matriz e a lista que representam o grafo.\n",
    "\n",
    "<img src=\"https://ucarecdn.com/a67cb888-aa0c-424b-8c7f-847e38dd5691/\" width=300>"
   ]
  },
  {
   "cell_type": "markdown",
   "metadata": {},
   "source": [
    "Por fim, para representar um grafo ponderado de mão dupla (como o acima), basta usar o parâmetro \"weight\" no méotodo de adição de nós"
   ]
  },
  {
   "cell_type": "code",
   "execution_count": 196,
   "metadata": {
    "ExecuteTime": {
     "end_time": "2021-12-17T00:47:02.105082Z",
     "start_time": "2021-12-17T00:47:02.090091Z"
    }
   },
   "outputs": [],
   "source": [
    "g3 = nx.Graph()\n",
    "\n",
    "for i in range(5):\n",
    "    \n",
    "    g3.add_node(i)\n",
    "    \n",
    "g3.add_edge(0, 4, weight=8)\n",
    "g3.add_edge(0, 1, weight=3)\n",
    "g3.add_edge(0, 3, weight=7)\n",
    "\n",
    "g3.add_edge(1, 3, weight=4)\n",
    "g3.add_edge(1, 2, weight=1)\n",
    "\n",
    "g3.add_edge(2, 3, weight=2)\n",
    "\n",
    "g3.add_edge(3, 4, weight=3)"
   ]
  },
  {
   "cell_type": "code",
   "execution_count": 197,
   "metadata": {
    "ExecuteTime": {
     "end_time": "2021-12-17T00:47:03.117509Z",
     "start_time": "2021-12-17T00:47:02.734714Z"
    }
   },
   "outputs": [
    {
     "data": {
      "image/png": "[encoded data removed]",
      "text/plain": [
       "<Figure size 432x288 with 1 Axes>"
      ]
     },
     "metadata": {},
     "output_type": "display_data"
    }
   ],
   "source": [
    "nx.draw_networkx(g3, pos=nx.spring_layout(g3, seed=42), node_color=\"#03cefc\")"
   ]
  },
  {
   "cell_type": "markdown",
   "metadata": {},
   "source": [
    "As duas representações:"
   ]
  },
  {
   "cell_type": "code",
   "execution_count": 198,
   "metadata": {
    "ExecuteTime": {
     "end_time": "2021-12-17T00:47:03.352303Z",
     "start_time": "2021-12-17T00:47:03.337313Z"
    }
   },
   "outputs": [
    {
     "data": {
      "text/plain": [
       "matrix([[0, 3, 0, 7, 8],\n",
       "        [3, 0, 1, 4, 0],\n",
       "        [0, 1, 0, 2, 0],\n",
       "        [7, 4, 2, 0, 3],\n",
       "        [8, 0, 0, 3, 0]], dtype=int32)"
      ]
     },
     "execution_count": 198,
     "metadata": {},
     "output_type": "execute_result"
    }
   ],
   "source": [
    "nx.adjacency_matrix(g3).todense()"
   ]
  },
  {
   "cell_type": "code",
   "execution_count": 199,
   "metadata": {
    "ExecuteTime": {
     "end_time": "2021-12-17T00:47:03.876178Z",
     "start_time": "2021-12-17T00:47:03.868183Z"
    }
   },
   "outputs": [
    {
     "data": {
      "text/plain": [
       "{0: {4: {'weight': 8}, 1: {'weight': 3}, 3: {'weight': 7}},\n",
       " 1: {0: {'weight': 3}, 3: {'weight': 4}, 2: {'weight': 1}},\n",
       " 2: {1: {'weight': 1}, 3: {'weight': 2}},\n",
       " 3: {0: {'weight': 7}, 1: {'weight': 4}, 2: {'weight': 2}, 4: {'weight': 3}},\n",
       " 4: {0: {'weight': 8}, 3: {'weight': 3}}}"
      ]
     },
     "execution_count": 199,
     "metadata": {},
     "output_type": "execute_result"
    }
   ],
   "source": [
    "g3._adj"
   ]
  },
  {
   "cell_type": "markdown",
   "metadata": {},
   "source": [
    "Caso queira plotar com os pesos:"
   ]
  },
  {
   "cell_type": "code",
   "execution_count": 200,
   "metadata": {
    "ExecuteTime": {
     "end_time": "2021-12-17T00:47:04.446119Z",
     "start_time": "2021-12-17T00:47:04.428128Z"
    }
   },
   "outputs": [
    {
     "data": {
      "text/plain": [
       "{(0, 4): 8, (0, 1): 3, (0, 3): 7, (1, 3): 4, (1, 2): 1, (2, 3): 2, (3, 4): 3}"
      ]
     },
     "execution_count": 200,
     "metadata": {},
     "output_type": "execute_result"
    }
   ],
   "source": [
    "nx.get_edge_attributes(g3, \"weight\")"
   ]
  },
  {
   "cell_type": "code",
   "execution_count": 201,
   "metadata": {
    "ExecuteTime": {
     "end_time": "2021-12-17T00:47:05.307354Z",
     "start_time": "2021-12-17T00:47:04.700492Z"
    }
   },
   "outputs": [
    {
     "data": {
      "image/png": "[encoded data removed]",
      "text/plain": [
       "<Figure size 432x288 with 1 Axes>"
      ]
     },
     "metadata": {},
     "output_type": "display_data"
    }
   ],
   "source": [
    "nx.draw_networkx(g3, \n",
    "                 pos=nx.spring_layout(g3, seed=42), \n",
    "                 node_color=\"#03cefc\")\n",
    "\n",
    "nx.draw_networkx_edge_labels(g3, \n",
    "                             pos=nx.spring_layout(g3, seed=42),\n",
    "                             edge_labels=nx.get_edge_attributes(g3, \"weight\"));"
   ]
  },
  {
   "cell_type": "markdown",
   "metadata": {},
   "source": [
    "Engrossando a largura das ligações proporcionalmente ao peso:"
   ]
  },
  {
   "cell_type": "code",
   "execution_count": 204,
   "metadata": {
    "ExecuteTime": {
     "end_time": "2021-12-17T00:48:15.600290Z",
     "start_time": "2021-12-17T00:48:15.576295Z"
    }
   },
   "outputs": [
    {
     "data": {
      "text/plain": [
       "{(0, 4): 8, (0, 1): 3, (0, 3): 7, (1, 3): 4, (1, 2): 1, (2, 3): 2, (3, 4): 3}"
      ]
     },
     "execution_count": 204,
     "metadata": {},
     "output_type": "execute_result"
    }
   ],
   "source": [
    "nx.get_edge_attributes(g3, \"weight\")"
   ]
  },
  {
   "cell_type": "code",
   "execution_count": 207,
   "metadata": {
    "ExecuteTime": {
     "end_time": "2021-12-17T00:48:40.786266Z",
     "start_time": "2021-12-17T00:48:40.771275Z"
    }
   },
   "outputs": [
    {
     "data": {
      "text/plain": [
       "[8, 3, 7, 4, 1, 2, 3]"
      ]
     },
     "execution_count": 207,
     "metadata": {},
     "output_type": "execute_result"
    }
   ],
   "source": [
    "list(nx.get_edge_attributes(g3, \"weight\").values())"
   ]
  },
  {
   "cell_type": "code",
   "execution_count": 211,
   "metadata": {
    "ExecuteTime": {
     "end_time": "2021-12-17T00:49:14.058667Z",
     "start_time": "2021-12-17T00:49:13.673606Z"
    }
   },
   "outputs": [
    {
     "data": {
      "image/png": "[encoded data removed]",
      "text/plain": [
       "<Figure size 432x288 with 1 Axes>"
      ]
     },
     "metadata": {},
     "output_type": "display_data"
    }
   ],
   "source": [
    "nx.draw_networkx(g3, \n",
    "                 pos=nx.spring_layout(g3, seed=42), \n",
    "                 node_color=\"#03cefc\",\n",
    "                 width=list(nx.get_edge_attributes(g3, \"weight\").values()))"
   ]
  },
  {
   "cell_type": "code",
   "execution_count": 210,
   "metadata": {
    "ExecuteTime": {
     "end_time": "2021-12-17T00:49:08.509527Z",
     "start_time": "2021-12-17T00:49:08.022803Z"
    }
   },
   "outputs": [
    {
     "data": {
      "image/png": "[encoded data removed]",
      "text/plain": [
       "<Figure size 432x288 with 1 Axes>"
      ]
     },
     "metadata": {},
     "output_type": "display_data"
    }
   ],
   "source": [
    "nx.draw_networkx(g3, \n",
    "                 pos=nx.spring_layout(g3, seed=42), \n",
    "                 node_color=\"#03cefc\",\n",
    "                 width=list(nx.get_edge_attributes(g3, \"weight\").values()))\n",
    "\n",
    "nx.draw_networkx_edge_labels(g3, \n",
    "                             pos=nx.spring_layout(g3, seed=42),\n",
    "                             edge_labels=nx.get_edge_attributes(g3, \"weight\"));"
   ]
  },
  {
   "cell_type": "markdown",
   "metadata": {},
   "source": [
    "Vejamos todos os caminhos entre os nós 1 e 4:"
   ]
  },
  {
   "cell_type": "code",
   "execution_count": 212,
   "metadata": {
    "ExecuteTime": {
     "end_time": "2021-12-17T00:50:44.186227Z",
     "start_time": "2021-12-17T00:50:44.171724Z"
    }
   },
   "outputs": [
    {
     "data": {
      "text/plain": [
       "[[1, 0, 4],\n",
       " [1, 0, 3, 4],\n",
       " [1, 3, 0, 4],\n",
       " [1, 3, 4],\n",
       " [1, 2, 3, 0, 4],\n",
       " [1, 2, 3, 4]]"
      ]
     },
     "execution_count": 212,
     "metadata": {},
     "output_type": "execute_result"
    }
   ],
   "source": [
    "[path for path in nx.all_simple_paths(g3, 1, 4)]"
   ]
  },
  {
   "cell_type": "markdown",
   "metadata": {},
   "source": [
    "Considerando pesos para o menor caminho, temos dijkstra!"
   ]
  },
  {
   "cell_type": "code",
   "execution_count": 214,
   "metadata": {
    "ExecuteTime": {
     "end_time": "2021-12-17T00:51:29.587007Z",
     "start_time": "2021-12-17T00:51:29.573500Z"
    }
   },
   "outputs": [
    {
     "data": {
      "text/plain": [
       "[1, 2, 3, 4]"
      ]
     },
     "execution_count": 214,
     "metadata": {},
     "output_type": "execute_result"
    }
   ],
   "source": [
    "nx.dijkstra_path(g3, 1, 4)"
   ]
  },
  {
   "cell_type": "markdown",
   "metadata": {},
   "source": [
    "Caso queira saber o comprimento do menor caminho:"
   ]
  },
  {
   "cell_type": "code",
   "execution_count": 215,
   "metadata": {
    "ExecuteTime": {
     "end_time": "2021-12-17T00:52:17.353055Z",
     "start_time": "2021-12-17T00:52:17.337061Z"
    }
   },
   "outputs": [
    {
     "data": {
      "text/plain": [
       "6"
      ]
     },
     "execution_count": 215,
     "metadata": {},
     "output_type": "execute_result"
    }
   ],
   "source": [
    "nx.dijkstra_path_length(g3, 1, 4)"
   ]
  },
  {
   "cell_type": "markdown",
   "metadata": {},
   "source": [
    "__________"
   ]
  },
  {
   "cell_type": "markdown",
   "metadata": {},
   "source": [
    "Agora que já conhecemos o básico da NetworkX, vamos nos aprofundar em algumas outras propriedades de frafos, que são super úteis em uma grande diversidade de problemas!"
   ]
  },
  {
   "cell_type": "markdown",
   "metadata": {},
   "source": [
    "## Medidas de centralidade\n",
    "\n",
    "Seria interessante se pudéssemos avaliar o \"**quão importantes**\" são determinados nó em um grafo, não é mesmo? Pense nos seguintes exemplos:\n",
    "\n",
    "- \"Influenciadores digitais\" nas redes sociais;\n",
    "- Estação da Sé/Luz no sistema de transporte metropolitano de SP;\n",
    "- O aeroporto London Heathrow Airport (veja detalhes [aqui](https://www.travelctm.asia/blog/the-worlds-top-25-most-connected-airports-2019/)), no sistema aeroviário internacional.\n",
    "\n",
    "Existe algo de especial nestes nós, dentro do contexto de seus respectivos grafos, não é mesmo? E seria muito legal se pudéssemos **quantificar** esta importância, não é mesmo?\n",
    "\n",
    "É neste contexto que surgem as chamadas **medidas de centralidade**, que têm como objetivo, dentro de um determinado contexto e/ou aplicação, atribuir a cada nó um \"score\".\n",
    "\n",
    "A seguir, amos ver 3 das mais importantes medidas de centralidade!"
   ]
  },
  {
   "cell_type": "markdown",
   "metadata": {},
   "source": [
    "### Degree (grau)\n",
    "\n",
    "O **grau (degree) de um nó** é definido como **o número de vizinhos** daquele nó; ou, equivalentemente, **o número de conexões** que um nó faz.\n",
    "\n",
    "<img src=\"imgs/degree.PNG\" width=400>\n",
    "\n",
    "Em outras palavras,\n",
    "\n",
    "- Quanto maior o degree de um nó, mais conexões um nó tem;\n",
    "- Quanto menor o degree de um nó, menos conexões um nó tem;\n",
    "\n",
    "Um ponto importante do degree é que esta é uma medida **local**, no sentido de que, ao saber o degree de um dado nó, não sabemos nada sobre o degree de seus vizinhos. Por este motivo, a centralidade dá apenas informações locais, falhando em dar uma informação mais global sobre a rede. Isso é ilustrado, por exemplo, na seguinte figura:\n",
    "\n",
    "<img src=\"imgs/degree2.PNG\" width=400>\n",
    "\n",
    "_________"
   ]
  },
  {
   "cell_type": "markdown",
   "metadata": {},
   "source": [
    "### Closeness (proximidade)\n",
    "\n",
    "Como o próprio nome indica, a **proximidade (closeness)** de um nó mede a nédia dentre os caminhos mais curtos entre o dado nó e os demais nós acessíveis a partir dele. Ou seja, esta é uma medida que indica o quanto um nó está proximo dos demais. \n",
    "\n",
    "<img src=\"imgs/closeness1.PNG\" width=400>\n",
    "\n",
    "<img src=\"imgs/closeness2.PNG\" width=400>\n",
    "\n",
    "Em outras palavras,\n",
    "\n",
    "- Quanto maior a closeness de um nó, mais próximo, em média, ele está dos demais nós.\n",
    "- Quanto menor a closeness de um nó, mais distante, em média, ele está dos demais nós.\n",
    "\n",
    "Note que, diferente do degree, a closeness é uma medida com caráter mais global, pois para calculá-la, olhamos para o grafo globalmente, examinando os caminhos mais curtos.\n",
    "\n",
    "__________"
   ]
  },
  {
   "cell_type": "markdown",
   "metadata": {},
   "source": [
    "### Betweenness (intermediação)\n",
    "\n",
    "A medida de centralidade de **intermediação (betweenness)** de um nó e definida como **a fração de caminhos mais curtos que incluem este nó**. Ou seja, esta medida indica o quanto de informação passa pelo nó, isto é, o quanto que ele é \"intermediário\", no sentido dos caminhos mais curtos. \n",
    "\n",
    "\n",
    "<img src=\"imgs/between.PNG\" width=400>\n",
    "\n",
    "\n",
    "Existe uma interpretação interessante pra betweenness: um nó com alta betweenness é tal que exerce **uma grande influência** entre os nós que ele conecta, de modo que este nó pode ser visto como uma \"ponte\". Se o nó for alterado ou removido, o efeito terá uma ampla escala, pois, sendo uma \"ponte\", esta influência é carregada para diferentes porções do grafo.\n",
    "\n",
    "Em outras palavras,\n",
    "\n",
    "- Quanto maior a betweenness de um nó, maior é sua influência em nós cujos caminhos passam por ele. Nós que são \"pontes\" terão alta betweeness.\n",
    "- Quanto menor a betweenness de um nó, menor é sua influência em nós cujos caminhos passam por ele. Nós nas extremidades do grafo terão baixa betweenness.\n",
    "\n",
    "___________"
   ]
  },
  {
   "cell_type": "markdown",
   "metadata": {},
   "source": [
    "Um resumo legal das 3 medidas de centralidade:\n",
    "\n",
    "<img src=\"https://image.slidesharecdn.com/icsm-docsym-090919140350-phpapp01/95/changes-and-bugs-mining-and-predicting-development-activities-19-728.jpg?cb=1253447625\" width=500>"
   ]
  },
  {
   "cell_type": "markdown",
   "metadata": {},
   "source": [
    "No [artigo da wikipedia](https://en.wikipedia.org/wiki/Centrality) há mais informações sobre medidas de centralidade. Algo notável é que **há muitas medidas diferentes**! De fato, cada uma foca em um aspecto específico do grafo, tendo sido introduzida em seu respectivo contexto. \n",
    "\n",
    "Assim, é verdade que não existe uma medida de centralidade melhor do que as demais. Cada uma mede um aspecto, e por isso, tem seus pontos fortes e pontos fracos, que são, quase sempre, contextuais.\n",
    "\n",
    "Deste modo, mais importante do que decorar fórmulas para calcular cada umas das medidas, é importante **entender o que elas estão quantificando**, e em que casos é válido usar uma ou outra!\n",
    "\n",
    "Deixo mais um artigo legal que discute esta questão, que é também de onde tirei as imagens acima -- [veja aqui](https://towardsdatascience.com/notes-on-graph-theory-centrality-measurements-e37d2e49550a)!"
   ]
  },
  {
   "cell_type": "markdown",
   "metadata": {},
   "source": [
    "Vamos calcular as medidas de centralidade do nosso grafo?"
   ]
  },
  {
   "cell_type": "code",
   "execution_count": 216,
   "metadata": {
    "ExecuteTime": {
     "end_time": "2021-12-17T01:09:24.878641Z",
     "start_time": "2021-12-17T01:09:24.359418Z"
    }
   },
   "outputs": [
    {
     "data": {
      "image/png": "[encoded data removed]",
      "text/plain": [
       "<Figure size 432x288 with 1 Axes>"
      ]
     },
     "metadata": {},
     "output_type": "display_data"
    }
   ],
   "source": [
    "nx.draw_networkx(g3, \n",
    "                 pos=nx.spring_layout(g3, seed=42), \n",
    "                 node_color=\"#03cefc\",\n",
    "                 width=list(nx.get_edge_attributes(g3, \"weight\").values()))\n",
    "\n",
    "nx.draw_networkx_edge_labels(g3, \n",
    "                             pos=nx.spring_layout(g3, seed=42),\n",
    "                             edge_labels=nx.get_edge_attributes(g3, \"weight\"));"
   ]
  },
  {
   "cell_type": "code",
   "execution_count": 217,
   "metadata": {
    "ExecuteTime": {
     "end_time": "2021-12-17T01:18:40.669736Z",
     "start_time": "2021-12-17T01:18:40.655747Z"
    }
   },
   "outputs": [
    {
     "data": {
      "text/plain": [
       "DegreeView({0: 3, 1: 3, 2: 2, 3: 4, 4: 2})"
      ]
     },
     "execution_count": 217,
     "metadata": {},
     "output_type": "execute_result"
    }
   ],
   "source": [
    "g3.degree()"
   ]
  },
  {
   "cell_type": "code",
   "execution_count": 225,
   "metadata": {
    "ExecuteTime": {
     "end_time": "2021-12-17T01:25:14.970892Z",
     "start_time": "2021-12-17T01:25:14.958900Z"
    }
   },
   "outputs": [
    {
     "data": {
      "text/plain": [
       "{0: 0.75, 1: 0.75, 2: 0.5, 3: 1.0, 4: 0.5}"
      ]
     },
     "execution_count": 225,
     "metadata": {},
     "output_type": "execute_result"
    }
   ],
   "source": [
    "# degree normalizado, isto é, dividido pelo maior degree.\n",
    "\n",
    "nx.degree_centrality(g3)"
   ]
  },
  {
   "cell_type": "code",
   "execution_count": 220,
   "metadata": {
    "ExecuteTime": {
     "end_time": "2021-12-17T01:20:18.778075Z",
     "start_time": "2021-12-17T01:20:18.753091Z"
    }
   },
   "outputs": [
    {
     "data": {
      "text/plain": [
       "{0: 0.8, 1: 0.8, 2: 0.6666666666666666, 3: 1.0, 4: 0.6666666666666666}"
      ]
     },
     "execution_count": 220,
     "metadata": {},
     "output_type": "execute_result"
    }
   ],
   "source": [
    "nx.closeness_centrality(g3)"
   ]
  },
  {
   "cell_type": "code",
   "execution_count": 221,
   "metadata": {
    "ExecuteTime": {
     "end_time": "2021-12-17T01:20:34.279609Z",
     "start_time": "2021-12-17T01:20:34.268618Z"
    }
   },
   "outputs": [
    {
     "data": {
      "text/plain": [
       "{0: 0.08333333333333333,\n",
       " 1: 0.08333333333333333,\n",
       " 2: 0.0,\n",
       " 3: 0.3333333333333333,\n",
       " 4: 0.0}"
      ]
     },
     "execution_count": 221,
     "metadata": {},
     "output_type": "execute_result"
    }
   ],
   "source": [
    "nx.betweenness_centrality(g3)"
   ]
  },
  {
   "cell_type": "markdown",
   "metadata": {},
   "source": [
    "_______"
   ]
  },
  {
   "cell_type": "markdown",
   "metadata": {},
   "source": [
    "### Composição de grafos\n",
    "\n",
    "Ao modelarmos um grafo, o trabalho geralmente é facilitado se focarmos primeiramente em modelar sub-grafos dentro da estrutura, que podem ser posteriormente compostos para gerar o grafo completo!"
   ]
  },
  {
   "cell_type": "code",
   "execution_count": 241,
   "metadata": {
    "ExecuteTime": {
     "end_time": "2021-12-17T01:30:49.437518Z",
     "start_time": "2021-12-17T01:30:49.420525Z"
    }
   },
   "outputs": [],
   "source": [
    "g1 = nx.Graph()\n",
    "\n",
    "g1.add_node(\"a\")\n",
    "g1.add_node(\"b\")\n",
    "g1.add_node(\"c\")\n",
    "\n",
    "g1.add_edge(\"a\", \"b\", weight = 5)\n",
    "g1.add_edge(\"b\", \"c\")\n",
    "g1.add_edge(\"a\", \"c\")\n",
    "\n",
    "#######################\n",
    "\n",
    "g2 = nx.Graph()\n",
    "\n",
    "g2.add_node(\"a\")\n",
    "g2.add_node(\"b\")\n",
    "g2.add_node(\"d\")\n",
    "\n",
    "g2.add_edge(\"a\", \"b\", weight = 5)\n",
    "g2.add_edge(\"a\", \"d\") "
   ]
  },
  {
   "cell_type": "code",
   "execution_count": 242,
   "metadata": {
    "ExecuteTime": {
     "end_time": "2021-12-17T01:30:50.362441Z",
     "start_time": "2021-12-17T01:30:49.894573Z"
    }
   },
   "outputs": [
    {
     "data": {
      "image/png": "[encoded data removed]",
      "text/plain": [
       "<Figure size 432x288 with 1 Axes>"
      ]
     },
     "metadata": {},
     "output_type": "display_data"
    }
   ],
   "source": [
    "nx.draw_networkx(g1, node_color=\"yellow\")"
   ]
  },
  {
   "cell_type": "code",
   "execution_count": 243,
   "metadata": {
    "ExecuteTime": {
     "end_time": "2021-12-17T01:30:50.985614Z",
     "start_time": "2021-12-17T01:30:50.368437Z"
    }
   },
   "outputs": [
    {
     "data": {
      "image/png": "[encoded data removed]",
      "text/plain": [
       "<Figure size 432x288 with 1 Axes>"
      ]
     },
     "metadata": {},
     "output_type": "display_data"
    }
   ],
   "source": [
    "nx.draw_networkx(g2, node_color=\"yellow\")"
   ]
  },
  {
   "cell_type": "code",
   "execution_count": 244,
   "metadata": {
    "ExecuteTime": {
     "end_time": "2021-12-17T01:30:51.000655Z",
     "start_time": "2021-12-17T01:30:50.994657Z"
    }
   },
   "outputs": [],
   "source": [
    "g3 = nx.compose(g1, g2)"
   ]
  },
  {
   "cell_type": "code",
   "execution_count": 245,
   "metadata": {
    "ExecuteTime": {
     "end_time": "2021-12-17T01:30:51.629561Z",
     "start_time": "2021-12-17T01:30:51.005653Z"
    }
   },
   "outputs": [
    {
     "data": {
      "image/png": "[encoded data removed]",
      "text/plain": [
       "<Figure size 432x288 with 1 Axes>"
      ]
     },
     "metadata": {},
     "output_type": "display_data"
    }
   ],
   "source": [
    "nx.draw_networkx(g3, node_color=\"yellow\")"
   ]
  },
  {
   "cell_type": "code",
   "execution_count": 246,
   "metadata": {
    "ExecuteTime": {
     "end_time": "2021-12-17T01:30:51.676047Z",
     "start_time": "2021-12-17T01:30:51.636551Z"
    }
   },
   "outputs": [
    {
     "data": {
      "text/plain": [
       "{'a': {'b': {'weight': 5}, 'c': {}, 'd': {}},\n",
       " 'b': {'a': {'weight': 5}, 'c': {}},\n",
       " 'c': {'a': {}, 'b': {}},\n",
       " 'd': {'a': {}}}"
      ]
     },
     "execution_count": 246,
     "metadata": {},
     "output_type": "execute_result"
    }
   ],
   "source": [
    "g3._adj"
   ]
  },
  {
   "cell_type": "markdown",
   "metadata": {},
   "source": [
    "_____\n",
    "_____\n",
    "_____\n",
    "\n",
    "### Desafio \"mini projeto\": exercício Q4 da lista de grafos!\n",
    "\n",
    "**4) (DESAFIO!)** O grafo dos estados do Brasil é definido da seguinte forma:\n",
    "\n",
    "- Cada vértice é um dos estados estados da República Federativa do Brasil\n",
    "- Dois estados são adjacentes se têm uma fronteira comum\n",
    "\n",
    "<br>\n",
    "\n",
    "<img src=\"https://www.researchgate.net/profile/Paulo-Feofiloff/publication/327057443/figure/fig1/AS:660253444153345@1534428096628/Figura-13-Adjacncia-entre-estados-do-Brasil-veja-exemplo-15.png\" width=400>\n",
    "\n",
    "Implemente o grafo no networkx e responda: \n",
    "\n",
    "- Quantos vértices tem o grafo? \n",
    "\n",
    "- Quantas arestas? \n",
    "\n",
    "- Você consegue plotar o grafo de forma parecida com o real formato do Brasil?"
   ]
  },
  {
   "cell_type": "code",
   "execution_count": null,
   "metadata": {},
   "outputs": [],
   "source": [
    "# mini-projeto!\n"
   ]
  },
  {
   "cell_type": "markdown",
   "metadata": {},
   "source": [
    "Pergunta adicional: faça uma função que receba dois estados, e que devolve o menor caminho entre eles (inicialmente, considere um grafo não-ponderado)"
   ]
  },
  {
   "cell_type": "code",
   "execution_count": null,
   "metadata": {},
   "outputs": [],
   "source": [
    "# mini-projeto!\n"
   ]
  },
  {
   "cell_type": "markdown",
   "metadata": {},
   "source": [
    "Construa agora um grafo ponderado, usando a [distância entre capitais dos estados](http://www.itatrans.com.br/distancia.html) como pesos! \n",
    "\n",
    "Construa novamente a função de menor caminho (como se fosse trechos de avião entre aeroportos das capitais!"
   ]
  },
  {
   "cell_type": "code",
   "execution_count": 1,
   "metadata": {
    "ExecuteTime": {
     "end_time": "2021-12-13T20:27:33.416541Z",
     "start_time": "2021-12-13T20:27:33.404549Z"
    }
   },
   "outputs": [],
   "source": [
    "# mini-projeto! (o principal desafio aqui é coletar os dados com webscraping!)\n"
   ]
  },
  {
   "cell_type": "markdown",
   "metadata": {},
   "source": [
    "__________"
   ]
  }
 ],
 "metadata": {
  "kernelspec": {
   "display_name": "Python 3",
   "language": "python",
   "name": "python3"
  },
  "language_info": {
   "codemirror_mode": {
    "name": "ipython",
    "version": 3
   },
   "file_extension": ".py",
   "mimetype": "text/x-python",
   "name": "python",
   "nbconvert_exporter": "python",
   "pygments_lexer": "ipython3",
   "version": "3.8.3"
  }
 },
 "nbformat": 4,
 "nbformat_minor": 4
}
