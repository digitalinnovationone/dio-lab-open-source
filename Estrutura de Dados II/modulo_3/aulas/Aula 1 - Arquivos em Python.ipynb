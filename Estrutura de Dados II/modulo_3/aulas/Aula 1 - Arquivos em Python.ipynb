{
 "cells": [
  {
   "cell_type": "markdown",
   "metadata": {},
   "source": [
    "# Aula 1 - Arquivos em Python\n",
    "\n",
    "Na aula de hoje, vamos explorar os seguintes tópicos em Python:\n",
    "\n",
    "- 1) Arquivos em Python\n",
    "- 2) Arquivos csv\n",
    "\n",
    "_______\n"
   ]
  },
  {
   "cell_type": "markdown",
   "metadata": {},
   "source": [
    "______\n",
    "________\n",
    "______"
   ]
  },
  {
   "cell_type": "markdown",
   "metadata": {},
   "source": [
    "## 1) Arquivos em Python\n",
    "\n",
    "Todos os programas que fizemos até o momento tinham variáveis, input e output **temporários**, guardados na memória RAM do computador **enquanto o programa é executado**.\n",
    "\n",
    "Após o programa ser finalizado, todas as variáveis, inputs e outputs eram perdidos.\n",
    "\n",
    "Muitas vezes queremos que esses valores sejam armazenados, que os dados processados pelo programa sejam preservados. O termo para esta característica é **persistência de dados**.\n",
    "\n",
    "A persistência se dá através de **arquivos**: documentos criados para **armazenar dados em uma memória permanente**, como o **disco rígido**, um **USB** ou um **servidor web**."
   ]
  },
  {
   "cell_type": "markdown",
   "metadata": {},
   "source": [
    "O Python têm algumas funções padrão para a manipulação de arquivos. Vamos vê-las!"
   ]
  },
  {
   "cell_type": "markdown",
   "metadata": {},
   "source": [
    "A função `open()` é usada pra abrir arquivos existentes ou criar um arquivo novo. \n",
    "\n",
    "Ela possui 2 argumentos: o primeiro é o caminho do arquivo, com seu nome (se apenas o nome do arquivo for passado, isso é interpretado como o arquivo estando na mesma pasta que o código!); e o segundo é o modo de operação. Os modos são:\n",
    "\n",
    "- r -\tlê um arquivo existente\n",
    "- w -\tcria um novo arquivo\n",
    "- a -\tabre um arquivo existente para adicionar informações ao seu final\n",
    "- \\+ -\tao ser combinado com outros modos, permite alteração de arquivo já existente (ex: r+ abre um arquivo existente e permite modificá-lo)\n",
    "\n",
    "O terceiro argumento é o \"encoding\", que dá a codificação do arquivo. Pra evitar problemas, é legal sempre usar `encoding=\"utf-8\"`"
   ]
  },
  {
   "cell_type": "markdown",
   "metadata": {},
   "source": [
    "<img src=\"./modos_abertura.png\" width=700>\n",
    "\n",
    "(Valeu, Arthur!)"
   ]
  },
  {
   "cell_type": "code",
   "execution_count": 13,
   "metadata": {
    "ExecuteTime": {
     "end_time": "2021-11-26T23:36:30.573824Z",
     "start_time": "2021-11-26T23:36:30.560835Z"
    }
   },
   "outputs": [],
   "source": [
    "caminho_absoluto1 = \"H:/Meu Drive/let's code/pi_ds/815/modulo_3/aulas/arquivos/arquivo1.txt\""
   ]
  },
  {
   "cell_type": "code",
   "execution_count": 14,
   "metadata": {
    "ExecuteTime": {
     "end_time": "2021-11-26T23:36:30.898886Z",
     "start_time": "2021-11-26T23:36:30.880895Z"
    }
   },
   "outputs": [],
   "source": [
    "caminho_absoluto2 = \"H:\\\\Meu Drive\\\\let's code\\\\pi_ds\\\\815\\\\modulo_3\\\\aulas\\\\arquivos\\\\arquivo2.txt\""
   ]
  },
  {
   "cell_type": "code",
   "execution_count": 15,
   "metadata": {
    "ExecuteTime": {
     "end_time": "2021-11-26T23:36:31.182656Z",
     "start_time": "2021-11-26T23:36:31.177658Z"
    }
   },
   "outputs": [],
   "source": [
    "caminho_relativo = \"./arquivos/arquivo3.txt\""
   ]
  },
  {
   "cell_type": "code",
   "execution_count": 16,
   "metadata": {
    "ExecuteTime": {
     "end_time": "2021-11-26T23:56:52.542673Z",
     "start_time": "2021-11-26T23:56:52.513689Z"
    }
   },
   "outputs": [],
   "source": [
    "arquivo = open(caminho_relativo, \"w\", encoding=\"utf-8\")"
   ]
  },
  {
   "cell_type": "markdown",
   "metadata": {},
   "source": [
    "Se analisarmos a variável \"arquivo\" (é o return da função `open()`), note que há algumas coisas estranhas... É assim que o python entende seu arquivo, mas não precisa se preocupar muito com isso"
   ]
  },
  {
   "cell_type": "code",
   "execution_count": 17,
   "metadata": {
    "ExecuteTime": {
     "end_time": "2021-11-26T23:57:15.715304Z",
     "start_time": "2021-11-26T23:57:15.701312Z"
    }
   },
   "outputs": [
    {
     "data": {
      "text/plain": [
       "<_io.TextIOWrapper name='./arquivos/arquivo3.txt' mode='w' encoding='utf-8'>"
      ]
     },
     "execution_count": 17,
     "metadata": {},
     "output_type": "execute_result"
    }
   ],
   "source": [
    "arquivo"
   ]
  },
  {
   "cell_type": "markdown",
   "metadata": {},
   "source": [
    "Uma vez aberto o arquivo, podemos escrever alguma coisa nele. Para isso, usamos o método `write()`\n",
    "\n",
    "Essa função aceita apenas um argumento, que é o que vc quer escrever no arquivo -- e **deve ser uma string**!"
   ]
  },
  {
   "cell_type": "code",
   "execution_count": 18,
   "metadata": {
    "ExecuteTime": {
     "end_time": "2021-11-26T23:59:28.410586Z",
     "start_time": "2021-11-26T23:59:28.398589Z"
    }
   },
   "outputs": [
    {
     "data": {
      "text/plain": [
       "31"
      ]
     },
     "execution_count": 18,
     "metadata": {},
     "output_type": "execute_result"
    }
   ],
   "source": [
    "arquivo.write(\"meu primeiro arquivo uhuuuuu!!!\")"
   ]
  },
  {
   "cell_type": "markdown",
   "metadata": {},
   "source": [
    "Após abrirmos (ou criarmos) um arquivo, e fazer as operações desejadas com ele, devemos fechá-lo usando o método `close()`. Essa etapa é importante por 2 motivos:\n",
    "\n",
    "- Se alteramos o arquivo mas não o fechamos, as alterações não serão salvas.\n",
    "- Se esquecermos de fechar um arquivo, outros programas podem ter problemas de acesso a ele.\n",
    "\n",
    "Por isso, **nunca se esqueca de fechar os arquivos abertos!**"
   ]
  },
  {
   "cell_type": "code",
   "execution_count": 19,
   "metadata": {
    "ExecuteTime": {
     "end_time": "2021-11-27T00:02:24.103304Z",
     "start_time": "2021-11-27T00:02:24.082320Z"
    }
   },
   "outputs": [],
   "source": [
    "arquivo.close()"
   ]
  },
  {
   "cell_type": "markdown",
   "metadata": {},
   "source": [
    "__Fazendo todas as operações em uma única célula__"
   ]
  },
  {
   "cell_type": "code",
   "execution_count": 23,
   "metadata": {
    "ExecuteTime": {
     "end_time": "2021-11-27T00:04:30.008449Z",
     "start_time": "2021-11-27T00:04:29.908902Z"
    }
   },
   "outputs": [],
   "source": [
    "arquivo = open(caminho_absoluto2, \"w\", encoding=\"utf-8\")\n",
    "\n",
    "arquivo.write(\"meu primeiro arquivo uhuuuuu!!!\")\n",
    "\n",
    "arquivo.close()"
   ]
  },
  {
   "cell_type": "markdown",
   "metadata": {},
   "source": [
    "Apesar desta ser uma forma clara e direta, existe um procedimento mais robusto e mais seguro, que é utilizando o ambiente `with`.\n",
    "\n",
    "O `with` garante que, quando o bloco de código em seu interior for executado, todos os recursos que foram criados (indicados após o `as`) serão liberados!\n",
    "\n",
    "No nosso caso, o recurso é justamente um arquivo! Com o `with`, nós garantimos que **o arquivo será aberto e fechado**, independente se ocorra qualquer erro antes do arquivo ser fechado! Isso é muito importante, pois garante maior segurança e robustez a nosso código!"
   ]
  },
  {
   "cell_type": "code",
   "execution_count": 32,
   "metadata": {
    "ExecuteTime": {
     "end_time": "2021-11-27T00:21:49.594445Z",
     "start_time": "2021-11-27T00:21:49.580452Z"
    }
   },
   "outputs": [
    {
     "data": {
      "text/plain": [
       "'./arquivos/arquivo3.txt'"
      ]
     },
     "execution_count": 32,
     "metadata": {},
     "output_type": "execute_result"
    }
   ],
   "source": [
    "caminho_relativo"
   ]
  },
  {
   "cell_type": "code",
   "execution_count": 26,
   "metadata": {
    "ExecuteTime": {
     "end_time": "2021-11-27T00:15:33.647151Z",
     "start_time": "2021-11-27T00:15:33.621186Z"
    }
   },
   "outputs": [],
   "source": [
    "with open(caminho_relativo, \"w\", encoding=\"utf-8\") as f:\n",
    "\n",
    "    f.write(\"meu primeiro arquivo uhuuuuu!!!\")"
   ]
  },
  {
   "cell_type": "markdown",
   "metadata": {},
   "source": [
    "Brincando um pouco com o caminho relativo"
   ]
  },
  {
   "cell_type": "code",
   "execution_count": 27,
   "metadata": {
    "ExecuteTime": {
     "end_time": "2021-11-27T00:17:45.711418Z",
     "start_time": "2021-11-27T00:17:45.683453Z"
    }
   },
   "outputs": [],
   "source": [
    "# arquivo na mesma pasta que o notebook (usando CAMINHO RELATIVO)\n",
    "\n",
    "with open(\"./arquivo_na_mesma_pasta.txt\", \"w\", encoding=\"utf-8\") as f:\n",
    "    \n",
    "    f.write(\"tô na mesma pasta!\")"
   ]
  },
  {
   "cell_type": "code",
   "execution_count": 28,
   "metadata": {
    "ExecuteTime": {
     "end_time": "2021-11-27T00:18:46.831798Z",
     "start_time": "2021-11-27T00:18:46.797818Z"
    }
   },
   "outputs": [],
   "source": [
    "# arquivo na mesma pasta que o notebook (mesma coisa que o anterior, não precisa do ./)\n",
    "\n",
    "with open(\"arquivo_também_na_mesma_pasta.txt\", \"w\", encoding=\"utf-8\") as f:\n",
    "    \n",
    "    f.write(\"tô na mesma pasta!\")"
   ]
  },
  {
   "cell_type": "code",
   "execution_count": 30,
   "metadata": {
    "ExecuteTime": {
     "end_time": "2021-11-27T00:20:23.793404Z",
     "start_time": "2021-11-27T00:20:23.738437Z"
    }
   },
   "outputs": [],
   "source": [
    "with open(\"./../arquivo_uma_pasta_antes.txt\", \"w\", encoding=\"utf-8\") as f:\n",
    "    \n",
    "    f.write(\"tô numa pasta antes!\")"
   ]
  },
  {
   "cell_type": "code",
   "execution_count": 31,
   "metadata": {
    "ExecuteTime": {
     "end_time": "2021-11-27T00:20:59.025998Z",
     "start_time": "2021-11-27T00:20:59.002013Z"
    }
   },
   "outputs": [],
   "source": [
    "with open(\"../arquivo_também_uma_pasta_antes.txt\", \"w\", encoding=\"utf-8\") as f:\n",
    "    \n",
    "    f.write(\"tô numa pasta antes!\")"
   ]
  },
  {
   "cell_type": "code",
   "execution_count": 33,
   "metadata": {
    "ExecuteTime": {
     "end_time": "2021-11-27T00:22:02.633040Z",
     "start_time": "2021-11-27T00:22:02.623046Z"
    }
   },
   "outputs": [
    {
     "data": {
      "text/plain": [
       "'./arquivos/arquivo3.txt'"
      ]
     },
     "execution_count": 33,
     "metadata": {},
     "output_type": "execute_result"
    }
   ],
   "source": [
    "caminho_relativo"
   ]
  },
  {
   "cell_type": "code",
   "execution_count": 34,
   "metadata": {
    "ExecuteTime": {
     "end_time": "2021-11-27T00:22:12.777335Z",
     "start_time": "2021-11-27T00:22:12.749355Z"
    }
   },
   "outputs": [
    {
     "ename": "FileNotFoundError",
     "evalue": "[Errno 2] No such file or directory: './nao_existe/arquivo_também_uma_pasta_antes.txt'",
     "output_type": "error",
     "traceback": [
      "\u001b[1;31m---------------------------------------------------------------------------\u001b[0m",
      "\u001b[1;31mFileNotFoundError\u001b[0m                         Traceback (most recent call last)",
      "\u001b[1;32m<ipython-input-34-6e8f408be015>\u001b[0m in \u001b[0;36m<module>\u001b[1;34m\u001b[0m\n\u001b[1;32m----> 1\u001b[1;33m \u001b[1;32mwith\u001b[0m \u001b[0mopen\u001b[0m\u001b[1;33m(\u001b[0m\u001b[1;34m\"./nao_existe/arquivo_também_uma_pasta_antes.txt\"\u001b[0m\u001b[1;33m,\u001b[0m \u001b[1;34m\"w\"\u001b[0m\u001b[1;33m,\u001b[0m \u001b[0mencoding\u001b[0m\u001b[1;33m=\u001b[0m\u001b[1;34m\"utf-8\"\u001b[0m\u001b[1;33m)\u001b[0m \u001b[1;32mas\u001b[0m \u001b[0mf\u001b[0m\u001b[1;33m:\u001b[0m\u001b[1;33m\u001b[0m\u001b[1;33m\u001b[0m\u001b[0m\n\u001b[0m\u001b[0;32m      2\u001b[0m \u001b[1;33m\u001b[0m\u001b[0m\n\u001b[0;32m      3\u001b[0m     \u001b[0mf\u001b[0m\u001b[1;33m.\u001b[0m\u001b[0mwrite\u001b[0m\u001b[1;33m(\u001b[0m\u001b[1;34m\"tô numa pasta antes!\"\u001b[0m\u001b[1;33m)\u001b[0m\u001b[1;33m\u001b[0m\u001b[1;33m\u001b[0m\u001b[0m\n",
      "\u001b[1;31mFileNotFoundError\u001b[0m: [Errno 2] No such file or directory: './nao_existe/arquivo_também_uma_pasta_antes.txt'"
     ]
    }
   ],
   "source": [
    "# o open NÃO cria pastas!!\n",
    "with open(\"./nao_existe/arquivo_em_pasta_que_nao_existe.txt\", \"w\", encoding=\"utf-8\") as f:\n",
    "    \n",
    "    f.write(\"tô numa pasta antes!\")"
   ]
  },
  {
   "cell_type": "markdown",
   "metadata": {},
   "source": [
    "Brincando um pouco com o encoding"
   ]
  },
  {
   "cell_type": "code",
   "execution_count": 37,
   "metadata": {
    "ExecuteTime": {
     "end_time": "2021-11-27T00:25:00.460497Z",
     "start_time": "2021-11-27T00:25:00.424515Z"
    }
   },
   "outputs": [],
   "source": [
    "with open(\"./arquivos/arquivo_certo.txt\", \"w\", encoding=\"utf-8\") as f:\n",
    "\n",
    "    f.write(\"coração amigão migué essência ó ú\")"
   ]
  },
  {
   "cell_type": "code",
   "execution_count": 46,
   "metadata": {
    "ExecuteTime": {
     "end_time": "2021-11-27T00:29:39.351491Z",
     "start_time": "2021-11-27T00:29:39.303516Z"
    }
   },
   "outputs": [],
   "source": [
    "with open(\"./arquivos/arquivo_bugado.txt\", \"w\") as f:\n",
    "\n",
    "    f.write(\"coração amigão migué essência ó ú\")"
   ]
  },
  {
   "cell_type": "markdown",
   "metadata": {},
   "source": [
    "__________________"
   ]
  },
  {
   "cell_type": "markdown",
   "metadata": {},
   "source": [
    "Como essa maneira é mais robusta, bamos usá-la daqui pra frente. (Mas, lembre-se que a opção que apresentamos primeiro também é possível!)"
   ]
  },
  {
   "cell_type": "code",
   "execution_count": 15,
   "metadata": {
    "ExecuteTime": {
     "end_time": "2021-11-27T00:43:35.264082Z",
     "start_time": "2021-11-27T00:43:34.978043Z"
    }
   },
   "outputs": [],
   "source": [
    "# criando um novo arquivo\n",
    "\n",
    "with open(\"./arquivos/arquivo.txt\", \"w\", encoding=\"utf-8\") as f:\n",
    "\n",
    "    f.write(\"olá, mundo!!\")"
   ]
  },
  {
   "cell_type": "markdown",
   "metadata": {},
   "source": [
    "Vamos escrever mais algumas coisas no nosso arquivo...\n",
    "\n",
    "Como o arquivo já existe, vamos tentar usar o modo \"r\"..."
   ]
  },
  {
   "cell_type": "code",
   "execution_count": 13,
   "metadata": {
    "ExecuteTime": {
     "end_time": "2021-11-27T00:42:35.158927Z",
     "start_time": "2021-11-27T00:42:35.121949Z"
    }
   },
   "outputs": [
    {
     "ename": "UnsupportedOperation",
     "evalue": "not writable",
     "output_type": "error",
     "traceback": [
      "\u001b[1;31m---------------------------------------------------------------------------\u001b[0m",
      "\u001b[1;31mUnsupportedOperation\u001b[0m                      Traceback (most recent call last)",
      "\u001b[1;32m<ipython-input-13-78873078be79>\u001b[0m in \u001b[0;36m<module>\u001b[1;34m\u001b[0m\n\u001b[0;32m      1\u001b[0m \u001b[1;32mwith\u001b[0m \u001b[0mopen\u001b[0m\u001b[1;33m(\u001b[0m\u001b[1;34m\"./arquivos/arquivo.txt\"\u001b[0m\u001b[1;33m,\u001b[0m \u001b[1;34m\"r\"\u001b[0m\u001b[1;33m,\u001b[0m \u001b[0mencoding\u001b[0m\u001b[1;33m=\u001b[0m\u001b[1;34m\"utf-8\"\u001b[0m\u001b[1;33m)\u001b[0m \u001b[1;32mas\u001b[0m \u001b[0mf\u001b[0m\u001b[1;33m:\u001b[0m\u001b[1;33m\u001b[0m\u001b[1;33m\u001b[0m\u001b[0m\n\u001b[0;32m      2\u001b[0m \u001b[1;33m\u001b[0m\u001b[0m\n\u001b[1;32m----> 3\u001b[1;33m     \u001b[0mf\u001b[0m\u001b[1;33m.\u001b[0m\u001b[0mwrite\u001b[0m\u001b[1;33m(\u001b[0m\u001b[1;34m\"abacate\"\u001b[0m\u001b[1;33m)\u001b[0m\u001b[1;33m\u001b[0m\u001b[1;33m\u001b[0m\u001b[0m\n\u001b[0m",
      "\u001b[1;31mUnsupportedOperation\u001b[0m: not writable"
     ]
    }
   ],
   "source": [
    "with open(\"./arquivos/arquivo.txt\", \"r\", encoding=\"utf-8\") as f:\n",
    "\n",
    "    f.write(\"abacate\")"
   ]
  },
  {
   "cell_type": "markdown",
   "metadata": {},
   "source": [
    "Note que encontramos um erro, pois o modo \"r\" permite **apenas a leitura do arquivo**\n",
    "\n",
    "Se queremos escrever algo nele, usamos o \"r+\""
   ]
  },
  {
   "cell_type": "code",
   "execution_count": 16,
   "metadata": {
    "ExecuteTime": {
     "end_time": "2021-11-27T00:44:10.901421Z",
     "start_time": "2021-11-27T00:44:10.887429Z"
    }
   },
   "outputs": [],
   "source": [
    "with open(\"./arquivos/arquivo.txt\", \"r+\", encoding=\"utf-8\") as f:\n",
    "\n",
    "    f.write(\"abacate\")"
   ]
  },
  {
   "cell_type": "markdown",
   "metadata": {},
   "source": [
    "Note, no entanto, que se usarmos o modo \"r+\", o write substitui o conteúdo anterior da primeira linha do arquivo! Isso pq este modo equivale a colocar o cursor **no começo do arquivo** e escrever a partir dali (como se tivese com o `Insert` selecionado)."
   ]
  },
  {
   "cell_type": "markdown",
   "metadata": {},
   "source": [
    "Prra corrigir isso, usamos o modo \"a\", que permite escrever AO FIM do arquivo. Isso equivale a colocar o cursor **no último caractere escrito**, e começar a escrever a partir dali!"
   ]
  },
  {
   "cell_type": "code",
   "execution_count": 1,
   "metadata": {
    "ExecuteTime": {
     "end_time": "2021-11-30T22:21:55.007065Z",
     "start_time": "2021-11-30T22:21:54.852128Z"
    }
   },
   "outputs": [],
   "source": [
    "with open(\"./arquivos/arquivo.txt\", \"w\", encoding=\"utf-8\") as f:\n",
    "\n",
    "    f.write(\"olá, mundo!!\")"
   ]
  },
  {
   "cell_type": "code",
   "execution_count": 2,
   "metadata": {
    "ExecuteTime": {
     "end_time": "2021-11-30T22:21:57.530760Z",
     "start_time": "2021-11-30T22:21:57.502755Z"
    }
   },
   "outputs": [],
   "source": [
    "with open(\"./arquivos/arquivo.txt\", \"a\", encoding=\"utf-8\") as f:\n",
    "\n",
    "    f.write(\"abacate\")"
   ]
  },
  {
   "cell_type": "markdown",
   "metadata": {},
   "source": [
    "Se quisermos escrever em uma nova linha, usamos o \"\\n\":"
   ]
  },
  {
   "cell_type": "code",
   "execution_count": 3,
   "metadata": {
    "ExecuteTime": {
     "end_time": "2021-11-30T22:21:59.933786Z",
     "start_time": "2021-11-30T22:21:59.887813Z"
    }
   },
   "outputs": [],
   "source": [
    "with open(\"./arquivos/arquivo.txt\", \"a\", encoding=\"utf-8\") as f:\n",
    "\n",
    "    f.write(\"\\nabacaxi\")"
   ]
  },
  {
   "cell_type": "markdown",
   "metadata": {},
   "source": [
    "Caso queiramos escrever uma lista pro arquivo:"
   ]
  },
  {
   "cell_type": "code",
   "execution_count": 5,
   "metadata": {
    "ExecuteTime": {
     "end_time": "2021-11-30T22:22:15.606090Z",
     "start_time": "2021-11-30T22:22:15.598094Z"
    }
   },
   "outputs": [],
   "source": [
    "lista = [\"oi, tudo bom?\", \"estudo na let's code\", \"bob e alice\"]"
   ]
  },
  {
   "cell_type": "code",
   "execution_count": 37,
   "metadata": {
    "ExecuteTime": {
     "end_time": "2021-11-27T00:57:57.989303Z",
     "start_time": "2021-11-27T00:57:57.944326Z"
    }
   },
   "outputs": [
    {
     "ename": "TypeError",
     "evalue": "write() argument must be str, not list",
     "output_type": "error",
     "traceback": [
      "\u001b[1;31m---------------------------------------------------------------------------\u001b[0m",
      "\u001b[1;31mTypeError\u001b[0m                                 Traceback (most recent call last)",
      "\u001b[1;32m<ipython-input-37-764c1906b87d>\u001b[0m in \u001b[0;36m<module>\u001b[1;34m\u001b[0m\n\u001b[0;32m      1\u001b[0m \u001b[1;32mwith\u001b[0m \u001b[0mopen\u001b[0m\u001b[1;33m(\u001b[0m\u001b[1;34m\"./arquivos/arquivo.txt\"\u001b[0m\u001b[1;33m,\u001b[0m \u001b[1;34m\"a\"\u001b[0m\u001b[1;33m,\u001b[0m \u001b[0mencoding\u001b[0m\u001b[1;33m=\u001b[0m\u001b[1;34m\"utf-8\"\u001b[0m\u001b[1;33m)\u001b[0m \u001b[1;32mas\u001b[0m \u001b[0mf\u001b[0m\u001b[1;33m:\u001b[0m\u001b[1;33m\u001b[0m\u001b[1;33m\u001b[0m\u001b[0m\n\u001b[0;32m      2\u001b[0m \u001b[1;33m\u001b[0m\u001b[0m\n\u001b[1;32m----> 3\u001b[1;33m     \u001b[0mf\u001b[0m\u001b[1;33m.\u001b[0m\u001b[0mwrite\u001b[0m\u001b[1;33m(\u001b[0m\u001b[0mlista\u001b[0m\u001b[1;33m)\u001b[0m\u001b[1;33m\u001b[0m\u001b[1;33m\u001b[0m\u001b[0m\n\u001b[0m",
      "\u001b[1;31mTypeError\u001b[0m: write() argument must be str, not list"
     ]
    }
   ],
   "source": [
    "with open(\"./arquivos/arquivo.txt\", \"a\", encoding=\"utf-8\") as f:\n",
    "\n",
    "    f.write(lista)"
   ]
  },
  {
   "cell_type": "markdown",
   "metadata": {},
   "source": [
    "O método `write()` pode apenas escrever strings ao arquivo!!"
   ]
  },
  {
   "cell_type": "code",
   "execution_count": 6,
   "metadata": {
    "ExecuteTime": {
     "end_time": "2021-11-30T22:22:17.705988Z",
     "start_time": "2021-11-30T22:22:17.679003Z"
    }
   },
   "outputs": [],
   "source": [
    "with open(\"./arquivos/arquivo.txt\", \"a\", encoding=\"utf-8\") as f:\n",
    "\n",
    "    for elemento in lista:\n",
    "        \n",
    "        f.write(f\"\\n{elemento}\")"
   ]
  },
  {
   "cell_type": "markdown",
   "metadata": {},
   "source": [
    "________\n",
    "\n",
    "Agora, imagina que queremos apenas **ler** o arquivo, sem intenção de modificá-lo.\n",
    "\n",
    "Nesse caso, utilizamos o modo \"r\" do open.\n",
    "\n",
    "Além disso, se quisermos de fato armazenar os dados do arquivo em uma variável do python, usamos o método `read()`"
   ]
  },
  {
   "cell_type": "code",
   "execution_count": 7,
   "metadata": {
    "ExecuteTime": {
     "end_time": "2021-11-30T22:26:49.911962Z",
     "start_time": "2021-11-30T22:26:49.893973Z"
    }
   },
   "outputs": [],
   "source": [
    "with open(\"./arquivos/arquivo.txt\", \"r\", encoding=\"utf-8\") as f:\n",
    "    \n",
    "    conteudo = f.read()"
   ]
  },
  {
   "cell_type": "code",
   "execution_count": 9,
   "metadata": {
    "ExecuteTime": {
     "end_time": "2021-11-30T22:27:32.958275Z",
     "start_time": "2021-11-30T22:27:32.942287Z"
    }
   },
   "outputs": [],
   "source": [
    "conteudo2 = '''olá, mundo!!abacate\n",
    "abacaxi\n",
    "oi, tudo bom?\n",
    "estudo na let's code\n",
    "bob e alice'''"
   ]
  },
  {
   "cell_type": "code",
   "execution_count": 11,
   "metadata": {
    "ExecuteTime": {
     "end_time": "2021-11-30T22:28:11.294733Z",
     "start_time": "2021-11-30T22:28:11.283738Z"
    }
   },
   "outputs": [],
   "source": [
    "conteudo2 = \"olá, mundo!!abacate\\nabacaxi\\noi, tudo bom?\\nestudo na let's code\\nbob e alice\""
   ]
  },
  {
   "cell_type": "markdown",
   "metadata": {},
   "source": [
    "Da mesma forma que o `write()` só pode escrever strings, o `read()` lê o arquivo como uma string! Veja:"
   ]
  },
  {
   "cell_type": "code",
   "execution_count": 15,
   "metadata": {
    "ExecuteTime": {
     "end_time": "2021-11-30T22:30:59.688378Z",
     "start_time": "2021-11-30T22:30:59.668391Z"
    }
   },
   "outputs": [
    {
     "data": {
      "text/plain": [
       "\"olá, mundo!!abacate\\nabacaxi\\noi, tudo bom?\\nestudo na let's code\\nbob e alice\""
      ]
     },
     "execution_count": 15,
     "metadata": {},
     "output_type": "execute_result"
    }
   ],
   "source": [
    "conteudo"
   ]
  },
  {
   "cell_type": "code",
   "execution_count": 17,
   "metadata": {
    "ExecuteTime": {
     "end_time": "2021-11-30T22:35:18.635721Z",
     "start_time": "2021-11-30T22:35:18.621728Z"
    }
   },
   "outputs": [
    {
     "name": "stdout",
     "output_type": "stream",
     "text": [
      "olá, mundo!!abacate\n",
      "abacaxi\n",
      "oi, tudo bom?\n",
      "estudo na let's code\n",
      "bob e alice\n"
     ]
    }
   ],
   "source": [
    "print(conteudo)"
   ]
  },
  {
   "cell_type": "markdown",
   "metadata": {},
   "source": [
    "Como o `read()` lê o que estiver no arquivo em forma de uma string, temos que as quebras de linha serão, portanto, armazenadas como \"\\n\".\n",
    "\n",
    "A partir daí, dá pra pegar cada linha e colocar numa lista:"
   ]
  },
  {
   "cell_type": "code",
   "execution_count": 18,
   "metadata": {
    "ExecuteTime": {
     "end_time": "2021-11-30T22:38:11.158587Z",
     "start_time": "2021-11-30T22:38:11.153587Z"
    }
   },
   "outputs": [],
   "source": [
    "conteudo_lista = conteudo.split(\"\\n\")"
   ]
  },
  {
   "cell_type": "code",
   "execution_count": 20,
   "metadata": {
    "ExecuteTime": {
     "end_time": "2021-11-30T22:38:24.310834Z",
     "start_time": "2021-11-30T22:38:24.292849Z"
    }
   },
   "outputs": [],
   "source": [
    "conteudo_lista.append(\"nova linha!!!\")"
   ]
  },
  {
   "cell_type": "code",
   "execution_count": 21,
   "metadata": {
    "ExecuteTime": {
     "end_time": "2021-11-30T22:38:33.849662Z",
     "start_time": "2021-11-30T22:38:33.841663Z"
    }
   },
   "outputs": [],
   "source": [
    "conteudo_lista.append(\"mais uma nova linha!!!\")"
   ]
  },
  {
   "cell_type": "code",
   "execution_count": 22,
   "metadata": {
    "ExecuteTime": {
     "end_time": "2021-11-30T22:38:41.733987Z",
     "start_time": "2021-11-30T22:38:41.721993Z"
    }
   },
   "outputs": [
    {
     "data": {
      "text/plain": [
       "['olá, mundo!!abacate',\n",
       " 'abacaxi',\n",
       " 'oi, tudo bom?',\n",
       " \"estudo na let's code\",\n",
       " 'bob e alice',\n",
       " 'nova linha!!!',\n",
       " 'mais uma nova linha!!!']"
      ]
     },
     "execution_count": 22,
     "metadata": {},
     "output_type": "execute_result"
    }
   ],
   "source": [
    "conteudo_lista"
   ]
  },
  {
   "cell_type": "code",
   "execution_count": 23,
   "metadata": {
    "ExecuteTime": {
     "end_time": "2021-11-30T22:39:45.129144Z",
     "start_time": "2021-11-30T22:39:45.113643Z"
    }
   },
   "outputs": [],
   "source": [
    "conteudo_lista[1] = \"limão\""
   ]
  },
  {
   "cell_type": "code",
   "execution_count": 24,
   "metadata": {
    "ExecuteTime": {
     "end_time": "2021-11-30T22:39:49.171936Z",
     "start_time": "2021-11-30T22:39:49.161941Z"
    }
   },
   "outputs": [
    {
     "data": {
      "text/plain": [
       "['olá, mundo!!abacate',\n",
       " 'limão',\n",
       " 'oi, tudo bom?',\n",
       " \"estudo na let's code\",\n",
       " 'bob e alice',\n",
       " 'nova linha!!!',\n",
       " 'mais uma nova linha!!!']"
      ]
     },
     "execution_count": 24,
     "metadata": {},
     "output_type": "execute_result"
    }
   ],
   "source": [
    "conteudo_lista"
   ]
  },
  {
   "cell_type": "markdown",
   "metadata": {},
   "source": [
    "Alterando o arquivo original, depois de ter alterado o conteúdo dele NO PYTHON, ou seja, o que tá na lista `conteudo_lista`"
   ]
  },
  {
   "cell_type": "code",
   "execution_count": 29,
   "metadata": {
    "ExecuteTime": {
     "end_time": "2021-11-30T22:49:46.327856Z",
     "start_time": "2021-11-30T22:49:46.311867Z"
    }
   },
   "outputs": [
    {
     "data": {
      "text/plain": [
       "'olá, mundo!!abacate'"
      ]
     },
     "execution_count": 29,
     "metadata": {},
     "output_type": "execute_result"
    }
   ],
   "source": [
    "conteudo_lista[0]"
   ]
  },
  {
   "cell_type": "code",
   "execution_count": 30,
   "metadata": {
    "ExecuteTime": {
     "end_time": "2021-11-30T22:49:54.636813Z",
     "start_time": "2021-11-30T22:49:54.615825Z"
    }
   },
   "outputs": [
    {
     "data": {
      "text/plain": [
       "['limão',\n",
       " 'oi, tudo bom?',\n",
       " \"estudo na let's code\",\n",
       " 'bob e alice',\n",
       " 'nova linha!!!',\n",
       " 'mais uma nova linha!!!']"
      ]
     },
     "execution_count": 30,
     "metadata": {},
     "output_type": "execute_result"
    }
   ],
   "source": [
    "conteudo_lista[1:]"
   ]
  },
  {
   "cell_type": "markdown",
   "metadata": {},
   "source": [
    "Obs.: é importante escrever a primeira linha separadamente, pra não ter o \"\\n\" na primeira linha"
   ]
  },
  {
   "cell_type": "code",
   "execution_count": 31,
   "metadata": {
    "ExecuteTime": {
     "end_time": "2021-11-30T22:50:00.869824Z",
     "start_time": "2021-11-30T22:50:00.608974Z"
    }
   },
   "outputs": [],
   "source": [
    "with open(\"./arquivos/arquivo.txt\", \"w\", encoding=\"utf-8\") as f:\n",
    "\n",
    "    # primeira linha, que é o primeiro elemento da lista - sem \\n\n",
    "    f.write(f\"{conteudo_lista[0]}\")\n",
    "    \n",
    "    # demais linhas, são os demais elementos da lista - com \\n\n",
    "    for elemento in conteudo_lista[1:]:\n",
    "        \n",
    "        f.write(f\"\\n{elemento}\")"
   ]
  },
  {
   "cell_type": "markdown",
   "metadata": {},
   "source": [
    "Vamos para um outro exemplo... Imagine que eu quero armazenar uma lista, para depois lê-la novamente. Como faço isso?"
   ]
  },
  {
   "cell_type": "code",
   "execution_count": 32,
   "metadata": {
    "ExecuteTime": {
     "end_time": "2021-11-30T22:52:32.430932Z",
     "start_time": "2021-11-30T22:52:32.423937Z"
    }
   },
   "outputs": [],
   "source": [
    "notas = [8, 5, 9, 10, 10, 7]"
   ]
  },
  {
   "cell_type": "code",
   "execution_count": 33,
   "metadata": {
    "ExecuteTime": {
     "end_time": "2021-11-30T22:55:48.054751Z",
     "start_time": "2021-11-30T22:54:51.103599Z"
    }
   },
   "outputs": [
    {
     "name": "stdout",
     "output_type": "stream",
     "text": [
      "Quantas notas vc quer? 4\n",
      "Digite a 1a nota: 8\n",
      "Digite a 2a nota: 9\n",
      "Digite a 3a nota: 7.5\n",
      "Digite a 4a nota: 10\n"
     ]
    }
   ],
   "source": [
    "n_notas = int(input(\"Quantas notas vc quer? \"))\n",
    "\n",
    "notas = []\n",
    "\n",
    "for i in range(n_notas):\n",
    "    \n",
    "    notas.append(float(input(f\"Digite a {i+1}a nota: \")))"
   ]
  },
  {
   "cell_type": "code",
   "execution_count": 40,
   "metadata": {
    "ExecuteTime": {
     "end_time": "2021-11-30T23:00:12.262171Z",
     "start_time": "2021-11-30T23:00:06.730618Z"
    }
   },
   "outputs": [
    {
     "name": "stdout",
     "output_type": "stream",
     "text": [
      "Quantas notas vc quer? 4\n",
      "Digite a 1a nota: 8\n",
      "Digite a 2a nota: 9\n",
      "Digite a 3a nota: 7.5\n",
      "Digite a 4a nota: 10\n"
     ]
    }
   ],
   "source": [
    "notas = [float(input(f\"Digite a {i+1}a nota: \")) for i in range(int(input(\"Quantas notas vc quer? \")))]"
   ]
  },
  {
   "cell_type": "code",
   "execution_count": 41,
   "metadata": {
    "ExecuteTime": {
     "end_time": "2021-11-30T23:00:28.134128Z",
     "start_time": "2021-11-30T23:00:28.126134Z"
    }
   },
   "outputs": [
    {
     "data": {
      "text/plain": [
       "[8.0, 9.0, 7.5, 10.0]"
      ]
     },
     "execution_count": 41,
     "metadata": {},
     "output_type": "execute_result"
    }
   ],
   "source": [
    "notas"
   ]
  },
  {
   "cell_type": "code",
   "execution_count": 63,
   "metadata": {
    "ExecuteTime": {
     "end_time": "2021-11-30T23:11:31.308929Z",
     "start_time": "2021-11-30T23:11:31.287941Z"
    }
   },
   "outputs": [
    {
     "data": {
      "text/plain": [
       "8.625"
      ]
     },
     "execution_count": 63,
     "metadata": {},
     "output_type": "execute_result"
    }
   ],
   "source": [
    "sum(notas)/len(notas)"
   ]
  },
  {
   "cell_type": "markdown",
   "metadata": {},
   "source": [
    "Lembre-se que só é possível escrever **strings** com o `write()`! "
   ]
  },
  {
   "cell_type": "code",
   "execution_count": 57,
   "metadata": {
    "ExecuteTime": {
     "end_time": "2021-11-30T23:08:44.876828Z",
     "start_time": "2021-11-30T23:08:44.837849Z"
    }
   },
   "outputs": [],
   "source": [
    "with open(\"./arquivos/notas.txt\", \"w\", encoding=\"utf-8\") as f:\n",
    "    \n",
    "    f.write(f\"{notas[0]}\")\n",
    "    \n",
    "    for nota in notas[1:]:\n",
    "        \n",
    "        f.write(f\"\\n{nota}\")"
   ]
  },
  {
   "cell_type": "markdown",
   "metadata": {},
   "source": [
    "Agora, pra ler o arquivo, e já calcular a média das notas armazenadas!"
   ]
  },
  {
   "cell_type": "code",
   "execution_count": 58,
   "metadata": {
    "ExecuteTime": {
     "end_time": "2021-11-30T23:08:46.083501Z",
     "start_time": "2021-11-30T23:08:46.048528Z"
    }
   },
   "outputs": [],
   "source": [
    "with open(\"./arquivos/notas.txt\", \"r\", encoding=\"utf-8\") as f:\n",
    "    \n",
    "    conteudo = f.read()"
   ]
  },
  {
   "cell_type": "code",
   "execution_count": 59,
   "metadata": {
    "ExecuteTime": {
     "end_time": "2021-11-30T23:08:46.473417Z",
     "start_time": "2021-11-30T23:08:46.461887Z"
    }
   },
   "outputs": [
    {
     "data": {
      "text/plain": [
       "'8.0\\n9.0\\n7.5\\n10.0'"
      ]
     },
     "execution_count": 59,
     "metadata": {},
     "output_type": "execute_result"
    }
   ],
   "source": [
    "conteudo"
   ]
  },
  {
   "cell_type": "code",
   "execution_count": 61,
   "metadata": {
    "ExecuteTime": {
     "end_time": "2021-11-30T23:11:07.098155Z",
     "start_time": "2021-11-30T23:11:07.088164Z"
    }
   },
   "outputs": [],
   "source": [
    "notas_lidas = conteudo.split(\"\\n\")"
   ]
  },
  {
   "cell_type": "code",
   "execution_count": 62,
   "metadata": {
    "ExecuteTime": {
     "end_time": "2021-11-30T23:11:10.811978Z",
     "start_time": "2021-11-30T23:11:10.804979Z"
    }
   },
   "outputs": [
    {
     "data": {
      "text/plain": [
       "['8.0', '9.0', '7.5', '10.0']"
      ]
     },
     "execution_count": 62,
     "metadata": {},
     "output_type": "execute_result"
    }
   ],
   "source": [
    "notas_lidas"
   ]
  },
  {
   "cell_type": "code",
   "execution_count": 68,
   "metadata": {
    "ExecuteTime": {
     "end_time": "2021-11-30T23:12:48.600328Z",
     "start_time": "2021-11-30T23:12:48.584337Z"
    }
   },
   "outputs": [],
   "source": [
    "notas_lidas = [float(x) for x in notas_lidas]"
   ]
  },
  {
   "cell_type": "code",
   "execution_count": 69,
   "metadata": {
    "ExecuteTime": {
     "end_time": "2021-11-30T23:12:54.087598Z",
     "start_time": "2021-11-30T23:12:54.078604Z"
    }
   },
   "outputs": [
    {
     "data": {
      "text/plain": [
       "[8.0, 9.0, 7.5, 10.0]"
      ]
     },
     "execution_count": 69,
     "metadata": {},
     "output_type": "execute_result"
    }
   ],
   "source": [
    "notas_lidas"
   ]
  },
  {
   "cell_type": "code",
   "execution_count": 70,
   "metadata": {
    "ExecuteTime": {
     "end_time": "2021-11-30T23:13:04.366687Z",
     "start_time": "2021-11-30T23:13:04.355699Z"
    }
   },
   "outputs": [
    {
     "data": {
      "text/plain": [
       "8.625"
      ]
     },
     "execution_count": 70,
     "metadata": {},
     "output_type": "execute_result"
    }
   ],
   "source": [
    "sum(notas_lidas)/len(notas_lidas)"
   ]
  },
  {
   "cell_type": "markdown",
   "metadata": {},
   "source": [
    "__________"
   ]
  },
  {
   "cell_type": "markdown",
   "metadata": {},
   "source": [
    "Vamos fazer um arquivo de várias linhas, e depois lê-lo:"
   ]
  },
  {
   "cell_type": "code",
   "execution_count": 76,
   "metadata": {
    "ExecuteTime": {
     "end_time": "2021-11-30T23:17:49.900550Z",
     "start_time": "2021-11-30T23:17:49.896548Z"
    }
   },
   "outputs": [],
   "source": [
    "poema = \"\"\"Batatinha quando nasce\n",
    "se esparrama pelo chão\n",
    "menininha quando dorme\n",
    "põe a mão no coração\"\"\".split(\"\\n\")"
   ]
  },
  {
   "cell_type": "code",
   "execution_count": 77,
   "metadata": {
    "ExecuteTime": {
     "end_time": "2021-11-30T23:17:50.102157Z",
     "start_time": "2021-11-30T23:17:50.084163Z"
    }
   },
   "outputs": [
    {
     "data": {
      "text/plain": [
       "['Batatinha quando nasce',\n",
       " 'se esparrama pelo chão',\n",
       " 'menininha quando dorme',\n",
       " 'põe a mão no coração']"
      ]
     },
     "execution_count": 77,
     "metadata": {},
     "output_type": "execute_result"
    }
   ],
   "source": [
    "poema"
   ]
  },
  {
   "cell_type": "code",
   "execution_count": 78,
   "metadata": {
    "ExecuteTime": {
     "end_time": "2021-11-30T23:17:50.537484Z",
     "start_time": "2021-11-30T23:17:50.427548Z"
    }
   },
   "outputs": [],
   "source": [
    "with open(\"./arquivos/poema.txt\", \"w\", encoding=\"utf-8\") as f:\n",
    "    \n",
    "    f.write(f\"{poema[0]}\")\n",
    "    \n",
    "    for verso in poema[1:]:\n",
    "        \n",
    "        f.write(f\"\\n{verso}\")"
   ]
  },
  {
   "cell_type": "markdown",
   "metadata": {},
   "source": [
    "Lendo o arquivo todo:"
   ]
  },
  {
   "cell_type": "code",
   "execution_count": 79,
   "metadata": {
    "ExecuteTime": {
     "end_time": "2021-11-30T23:18:34.373067Z",
     "start_time": "2021-11-30T23:18:34.336074Z"
    }
   },
   "outputs": [],
   "source": [
    "with open(\"./arquivos/poema.txt\", \"r\", encoding=\"utf-8\") as f:\n",
    "    \n",
    "    conteudo = f.read()"
   ]
  },
  {
   "cell_type": "code",
   "execution_count": 80,
   "metadata": {
    "ExecuteTime": {
     "end_time": "2021-11-30T23:18:36.990454Z",
     "start_time": "2021-11-30T23:18:36.972466Z"
    }
   },
   "outputs": [
    {
     "data": {
      "text/plain": [
       "'Batatinha quando nasce\\nse esparrama pelo chão\\nmenininha quando dorme\\npõe a mão no coração'"
      ]
     },
     "execution_count": 80,
     "metadata": {},
     "output_type": "execute_result"
    }
   ],
   "source": [
    "conteudo"
   ]
  },
  {
   "cell_type": "code",
   "execution_count": 81,
   "metadata": {
    "ExecuteTime": {
     "end_time": "2021-11-30T23:18:44.734229Z",
     "start_time": "2021-11-30T23:18:44.719238Z"
    }
   },
   "outputs": [
    {
     "data": {
      "text/plain": [
       "['Batatinha quando nasce',\n",
       " 'se esparrama pelo chão',\n",
       " 'menininha quando dorme',\n",
       " 'põe a mão no coração']"
      ]
     },
     "execution_count": 81,
     "metadata": {},
     "output_type": "execute_result"
    }
   ],
   "source": [
    "conteudo.split(\"\\n\")"
   ]
  },
  {
   "cell_type": "markdown",
   "metadata": {},
   "source": [
    "Lendo apenas a primeira linha, com o método `readline()`:"
   ]
  },
  {
   "cell_type": "code",
   "execution_count": 89,
   "metadata": {
    "ExecuteTime": {
     "end_time": "2021-11-30T23:20:58.422860Z",
     "start_time": "2021-11-30T23:20:58.363897Z"
    }
   },
   "outputs": [],
   "source": [
    "with open(\"./arquivos/poema.txt\", \"r\", encoding=\"utf-8\") as f:\n",
    "    \n",
    "    conteudo = f.readline()"
   ]
  },
  {
   "cell_type": "code",
   "execution_count": 90,
   "metadata": {
    "ExecuteTime": {
     "end_time": "2021-11-30T23:20:59.868606Z",
     "start_time": "2021-11-30T23:20:59.861630Z"
    }
   },
   "outputs": [
    {
     "data": {
      "text/plain": [
       "'Batatinha quando nasce\\n'"
      ]
     },
     "execution_count": 90,
     "metadata": {},
     "output_type": "execute_result"
    }
   ],
   "source": [
    "conteudo"
   ]
  },
  {
   "cell_type": "markdown",
   "metadata": {},
   "source": [
    "Para ler algo que não seja a primeira linha, use o `.readlines()`:"
   ]
  },
  {
   "cell_type": "code",
   "execution_count": 101,
   "metadata": {
    "ExecuteTime": {
     "end_time": "2021-11-30T23:24:22.140449Z",
     "start_time": "2021-11-30T23:24:22.109467Z"
    }
   },
   "outputs": [],
   "source": [
    "with open(\"./arquivos/poema.txt\", \"r\", encoding=\"utf-8\") as f:\n",
    "    \n",
    "    conteudo = f.readlines()"
   ]
  },
  {
   "cell_type": "code",
   "execution_count": 102,
   "metadata": {
    "ExecuteTime": {
     "end_time": "2021-11-30T23:24:26.087564Z",
     "start_time": "2021-11-30T23:24:26.070575Z"
    }
   },
   "outputs": [
    {
     "data": {
      "text/plain": [
       "['Batatinha quando nasce\\n',\n",
       " 'se esparrama pelo chão\\n',\n",
       " 'menininha quando dorme\\n',\n",
       " 'põe a mão no coração']"
      ]
     },
     "execution_count": 102,
     "metadata": {},
     "output_type": "execute_result"
    }
   ],
   "source": [
    "conteudo"
   ]
  },
  {
   "cell_type": "code",
   "execution_count": 97,
   "metadata": {
    "ExecuteTime": {
     "end_time": "2021-11-30T23:22:28.570791Z",
     "start_time": "2021-11-30T23:22:28.540810Z"
    }
   },
   "outputs": [],
   "source": [
    "with open(\"./arquivos/poema.txt\", \"r\", encoding=\"utf-8\") as f:\n",
    "    \n",
    "    conteudo = f.readlines()[1]"
   ]
  },
  {
   "cell_type": "code",
   "execution_count": 98,
   "metadata": {
    "ExecuteTime": {
     "end_time": "2021-11-30T23:22:28.881611Z",
     "start_time": "2021-11-30T23:22:28.874617Z"
    }
   },
   "outputs": [
    {
     "data": {
      "text/plain": [
       "'se esparrama pelo chão\\n'"
      ]
     },
     "execution_count": 98,
     "metadata": {},
     "output_type": "execute_result"
    }
   ],
   "source": [
    "conteudo"
   ]
  },
  {
   "cell_type": "markdown",
   "metadata": {},
   "source": [
    "Ler cada uma das linhas, separadamente\n",
    "\n",
    "Neste caso, não precisa nem de readline!"
   ]
  },
  {
   "cell_type": "code",
   "execution_count": 99,
   "metadata": {
    "ExecuteTime": {
     "end_time": "2021-11-30T23:24:07.636377Z",
     "start_time": "2021-11-30T23:24:07.588404Z"
    }
   },
   "outputs": [],
   "source": [
    "conteudo = []\n",
    "\n",
    "with open(\"./arquivos/poema.txt\", \"r\", encoding=\"utf-8\") as f:\n",
    "    \n",
    "    for linha in f:\n",
    "        \n",
    "        conteudo.append(linha)"
   ]
  },
  {
   "cell_type": "code",
   "execution_count": 100,
   "metadata": {
    "ExecuteTime": {
     "end_time": "2021-11-30T23:24:14.121110Z",
     "start_time": "2021-11-30T23:24:14.105120Z"
    }
   },
   "outputs": [
    {
     "data": {
      "text/plain": [
       "['Batatinha quando nasce\\n',\n",
       " 'se esparrama pelo chão\\n',\n",
       " 'menininha quando dorme\\n',\n",
       " 'põe a mão no coração']"
      ]
     },
     "execution_count": 100,
     "metadata": {},
     "output_type": "execute_result"
    }
   ],
   "source": [
    "conteudo"
   ]
  },
  {
   "cell_type": "code",
   "execution_count": 103,
   "metadata": {
    "ExecuteTime": {
     "end_time": "2021-11-30T23:25:20.142660Z",
     "start_time": "2021-11-30T23:25:20.109682Z"
    }
   },
   "outputs": [],
   "source": [
    "with open(\"./arquivos/poema.txt\", \"r\", encoding=\"utf-8\") as f:\n",
    "    \n",
    "    conteudo = [linha for linha in f]"
   ]
  },
  {
   "cell_type": "code",
   "execution_count": 104,
   "metadata": {
    "ExecuteTime": {
     "end_time": "2021-11-30T23:25:24.897430Z",
     "start_time": "2021-11-30T23:25:24.879441Z"
    }
   },
   "outputs": [
    {
     "data": {
      "text/plain": [
       "['Batatinha quando nasce\\n',\n",
       " 'se esparrama pelo chão\\n',\n",
       " 'menininha quando dorme\\n',\n",
       " 'põe a mão no coração']"
      ]
     },
     "execution_count": 104,
     "metadata": {},
     "output_type": "execute_result"
    }
   ],
   "source": [
    "conteudo"
   ]
  },
  {
   "cell_type": "markdown",
   "metadata": {},
   "source": [
    "Apesar de termos tratado sobre as funções acima, existem **bibliotecas específicas** para a leitura/escrita de determinados tipos de arquivos.\n",
    "\n",
    "Na prática, é muito mais conveniente usarmos estas bibliotecas, a depender do tipo de arquivo que desejamos ler/escrever!"
   ]
  },
  {
   "cell_type": "markdown",
   "metadata": {},
   "source": [
    "____\n",
    "____\n",
    "___"
   ]
  },
  {
   "cell_type": "markdown",
   "metadata": {},
   "source": [
    "## 2) Arquivos CSV\n",
    "\n",
    "Um tipo de arquivo muito comum é o **csv**\n",
    "\n",
    "A sigla CSV significa **Comma-Separated Values**, ou **\"valores separados por vírgula\"**. \n",
    "\n",
    "Este formato é uma forma padrão de representar tabelas usando arquivos de texto simples: cada elemento é separado por uma vírgula (ou ponto-e-vírgula, ou, qualquer outro separador), e cada linha é separada por uma quebra de linha. "
   ]
  },
  {
   "cell_type": "markdown",
   "metadata": {},
   "source": [
    "Em Python, podemos entender um arquivo CSV como uma lista de listas. \n",
    "\n",
    "Imagine que queremos armazenar um arquivo csv. Começamos com uma lista de listas:"
   ]
  },
  {
   "cell_type": "code",
   "execution_count": 108,
   "metadata": {
    "ExecuteTime": {
     "end_time": "2021-11-30T23:32:32.682813Z",
     "start_time": "2021-11-30T23:32:32.661826Z"
    }
   },
   "outputs": [],
   "source": [
    "tabela = [['Aluno', 'Nota1', 'Nota2', 'Presença'],\n",
    "          [\"Alice\", 10, 8.5, 75],\n",
    "          [\"Bob\", 7, 9.5, 80],\n",
    "          [\"Eva\", 8, 8, 30]]\n",
    "          "
   ]
  },
  {
   "cell_type": "code",
   "execution_count": 113,
   "metadata": {
    "ExecuteTime": {
     "end_time": "2021-11-30T23:35:45.003398Z",
     "start_time": "2021-11-30T23:35:44.982409Z"
    }
   },
   "outputs": [
    {
     "data": {
      "text/plain": [
       "[['Aluno', 'Nota1', 'Nota2', 'Presença'],\n",
       " ['Alice', 10, 8.5, 75],\n",
       " ['Bob', 7, 9.5, 80],\n",
       " ['Eva', 8, 8, 30]]"
      ]
     },
     "execution_count": 113,
     "metadata": {},
     "output_type": "execute_result"
    }
   ],
   "source": [
    "tabela"
   ]
  },
  {
   "cell_type": "code",
   "execution_count": 115,
   "metadata": {
    "ExecuteTime": {
     "end_time": "2021-11-30T23:36:04.780281Z",
     "start_time": "2021-11-30T23:36:04.765283Z"
    }
   },
   "outputs": [
    {
     "name": "stdout",
     "output_type": "stream",
     "text": [
      "['Aluno', 'Nota1', 'Nota2', 'Presença']\n",
      "['Alice', 10, 8.5, 75]\n",
      "['Bob', 7, 9.5, 80]\n",
      "['Eva', 8, 8, 30]\n"
     ]
    }
   ],
   "source": [
    "for linha in tabela:\n",
    "    \n",
    "    print(linha)"
   ]
  },
  {
   "cell_type": "code",
   "execution_count": 122,
   "metadata": {
    "ExecuteTime": {
     "end_time": "2021-11-30T23:37:32.404929Z",
     "start_time": "2021-11-30T23:37:32.388942Z"
    }
   },
   "outputs": [
    {
     "name": "stdout",
     "output_type": "stream",
     "text": [
      "a\tb\tc\n"
     ]
    }
   ],
   "source": [
    "lista = [\"a\", \"b\", \"c\"]\n",
    "\n",
    "print(*lista, sep=\"\\t\")"
   ]
  },
  {
   "cell_type": "code",
   "execution_count": 132,
   "metadata": {
    "ExecuteTime": {
     "end_time": "2021-11-30T23:43:06.270225Z",
     "start_time": "2021-11-30T23:43:06.250233Z"
    }
   },
   "outputs": [
    {
     "name": "stdout",
     "output_type": "stream",
     "text": [
      "Aluno\tNota1\tNota2\tPresença\n",
      "Alice\t10\t8.5\t75\n",
      "Bob\t7\t9.5\t80\n",
      "Eva\t8\t8\t30\n"
     ]
    }
   ],
   "source": [
    "for linha in tabela:\n",
    "    \n",
    "    print(*linha, sep=\"\\t\")"
   ]
  },
  {
   "cell_type": "code",
   "execution_count": 127,
   "metadata": {
    "ExecuteTime": {
     "end_time": "2021-11-30T23:39:10.192709Z",
     "start_time": "2021-11-30T23:39:10.182715Z"
    }
   },
   "outputs": [],
   "source": [
    "# exercicio: escreve esses dados num arquivo, usando o método que vimos até aqui."
   ]
  },
  {
   "cell_type": "markdown",
   "metadata": {},
   "source": [
    "Pode não ser tão simples escrever esta lista de listas em um arquivo usando o método write(), como vimos antes, né?\n",
    "\n",
    "Para trabalhar com arquivos csv, vamos utilizar a biblioteca `csv` do python!\n",
    "\n",
    "Desta biblioteca, vamo usar duas funções:\n",
    "\n",
    "- **método de escrita**: `csv.writer().writerows()`\n",
    "\n",
    "- **método de leitura**: `csv.reader()`"
   ]
  },
  {
   "cell_type": "code",
   "execution_count": 128,
   "metadata": {
    "ExecuteTime": {
     "end_time": "2021-11-30T23:39:40.196403Z",
     "start_time": "2021-11-30T23:39:40.164423Z"
    }
   },
   "outputs": [],
   "source": [
    "import csv"
   ]
  },
  {
   "cell_type": "code",
   "execution_count": 134,
   "metadata": {
    "ExecuteTime": {
     "end_time": "2021-11-30T23:55:52.374708Z",
     "start_time": "2021-11-30T23:55:52.360715Z"
    }
   },
   "outputs": [
    {
     "data": {
      "text/plain": [
       "[['Aluno', 'Nota1', 'Nota2', 'Presença'],\n",
       " ['Alice', 10, 8.5, 75],\n",
       " ['Bob', 7, 9.5, 80],\n",
       " ['Eva', 8, 8, 30]]"
      ]
     },
     "execution_count": 134,
     "metadata": {},
     "output_type": "execute_result"
    }
   ],
   "source": [
    "tabela"
   ]
  },
  {
   "cell_type": "markdown",
   "metadata": {},
   "source": [
    "Primeiramente, criamos o arquivo, como fizemos antes"
   ]
  },
  {
   "cell_type": "code",
   "execution_count": 135,
   "metadata": {
    "ExecuteTime": {
     "end_time": "2021-11-30T23:56:44.713061Z",
     "start_time": "2021-11-30T23:56:44.697070Z"
    }
   },
   "outputs": [],
   "source": [
    "f = open(\"./arquivos/notas_alunos.csv\", \"w\", encoding=\"utf-8\")"
   ]
  },
  {
   "cell_type": "markdown",
   "metadata": {},
   "source": [
    "Depois, utilizamos o método `writer` da biblioteca `csv`, juntamente do método `writerows` para escrever a lista de listas ao arquivo:"
   ]
  },
  {
   "cell_type": "code",
   "execution_count": 136,
   "metadata": {
    "ExecuteTime": {
     "end_time": "2021-12-01T00:00:49.907306Z",
     "start_time": "2021-12-01T00:00:49.899311Z"
    }
   },
   "outputs": [],
   "source": [
    "csv.writer(f, delimiter=\",\", lineterminator=\"\\n\").writerows(tabela)"
   ]
  },
  {
   "cell_type": "markdown",
   "metadata": {},
   "source": [
    "A primeira parte, \n",
    "\n",
    "```python\n",
    "csv.writer(arquivo, delimiter=';', lineterminator='\\n')\n",
    "```\n",
    "\n",
    "Indica:\n",
    "\n",
    "- em que arquivo você quer escrever\n",
    "- como que você vai separar os valores (neste caso, com \";\")\n",
    "- como vc vai separar as diferentes linhas do arquivo (neste caso, com \"\\n\")\n",
    "\n",
    "A segunda parte, indica quais os dados que você quer escrever no arquivo (no caso, a lista de listas \"tabela\"):\n",
    "\n",
    "```python\n",
    "writerows(tabela)\n",
    "```"
   ]
  },
  {
   "cell_type": "markdown",
   "metadata": {},
   "source": [
    "Fechando o arquivo"
   ]
  },
  {
   "cell_type": "code",
   "execution_count": 137,
   "metadata": {
    "ExecuteTime": {
     "end_time": "2021-12-01T00:00:58.880004Z",
     "start_time": "2021-12-01T00:00:58.855018Z"
    }
   },
   "outputs": [],
   "source": [
    "f.close()"
   ]
  },
  {
   "cell_type": "markdown",
   "metadata": {},
   "source": [
    "Tudo junto:"
   ]
  },
  {
   "cell_type": "code",
   "execution_count": 145,
   "metadata": {
    "ExecuteTime": {
     "end_time": "2021-12-01T00:03:35.401824Z",
     "start_time": "2021-12-01T00:03:35.348344Z"
    }
   },
   "outputs": [],
   "source": [
    "f = open(\"./arquivos/notas_alunos.csv\", \"w\", encoding=\"utf-8\")\n",
    "\n",
    "csv.writer(f, delimiter=\",\", lineterminator=\"\\n\").writerows(tabela)\n",
    "\n",
    "f.close()"
   ]
  },
  {
   "cell_type": "code",
   "execution_count": 139,
   "metadata": {
    "ExecuteTime": {
     "end_time": "2021-12-01T00:01:48.062892Z",
     "start_time": "2021-12-01T00:01:48.049896Z"
    }
   },
   "outputs": [
    {
     "data": {
      "text/plain": [
       "[['Aluno', 'Nota1', 'Nota2', 'Presença'],\n",
       " ['Alice', 10, 8.5, 75],\n",
       " ['Bob', 7, 9.5, 80],\n",
       " ['Eva', 8, 8, 30]]"
      ]
     },
     "execution_count": 139,
     "metadata": {},
     "output_type": "execute_result"
    }
   ],
   "source": [
    "tabela"
   ]
  },
  {
   "cell_type": "markdown",
   "metadata": {},
   "source": [
    "E, fazendo do jeito mais robusto, com o `with`:"
   ]
  },
  {
   "cell_type": "code",
   "execution_count": 170,
   "metadata": {
    "ExecuteTime": {
     "end_time": "2021-12-01T00:17:48.596652Z",
     "start_time": "2021-12-01T00:17:48.413758Z"
    }
   },
   "outputs": [],
   "source": [
    "with open(\"./arquivos/notas_alunos.csv\", \"w\", encoding=\"utf-8\") as f:\n",
    "    \n",
    "    csv.writer(f, delimiter=\",\", lineterminator=\"\\n\").writerows(tabela)"
   ]
  },
  {
   "cell_type": "markdown",
   "metadata": {},
   "source": [
    "E como lemos este arquivo?"
   ]
  },
  {
   "cell_type": "markdown",
   "metadata": {},
   "source": [
    "Para isso, temos que utilizar a função `reader()` da biblioteca csv:\n",
    "\n",
    "```python\n",
    "csv.reader(f, delimiter=';', lineterminator='\\n')\n",
    "```\n",
    "\n",
    "Essa função tem como argumentos:\n",
    "\n",
    "- o arquivo aberto (no caso, a variável \"f\");\n",
    "- o separador entre os valores (no caso, \";\");\n",
    "- o separador de linhas (no caso, \"\\n\");\n",
    "\n",
    "Aí, basta iterar neste objeto com o for para popular a lista de listas \"planilha\":"
   ]
  },
  {
   "cell_type": "markdown",
   "metadata": {},
   "source": [
    "É uma boa ideia sempre ler só a primeira linha, pra determinar com certeza o que é o `delimiter` e o `lineterminator`"
   ]
  },
  {
   "cell_type": "code",
   "execution_count": 178,
   "metadata": {
    "ExecuteTime": {
     "end_time": "2021-12-01T00:19:43.768444Z",
     "start_time": "2021-12-01T00:19:43.717928Z"
    }
   },
   "outputs": [
    {
     "data": {
      "text/plain": [
       "'Aluno,Nota1,Nota2,Presença\\n'"
      ]
     },
     "execution_count": 178,
     "metadata": {},
     "output_type": "execute_result"
    }
   ],
   "source": [
    "with open(\"./arquivos/notas_alunos.csv\", \"r\", encoding=\"utf-8\") as f:\n",
    "    \n",
    "    primeira_linha = f.readline()\n",
    "    \n",
    "primeira_linha"
   ]
  },
  {
   "cell_type": "code",
   "execution_count": 175,
   "metadata": {
    "ExecuteTime": {
     "end_time": "2021-12-01T00:19:34.301244Z",
     "start_time": "2021-12-01T00:19:34.273258Z"
    }
   },
   "outputs": [],
   "source": [
    "with open(\"./arquivos/notas_alunos.csv\", \"r\", encoding=\"utf-8\") as f:\n",
    "    \n",
    "    tabela_lida = [linha for linha in csv.reader(f, delimiter=\",\", lineterminator=\"\\n\")]"
   ]
  },
  {
   "cell_type": "code",
   "execution_count": 172,
   "metadata": {
    "ExecuteTime": {
     "end_time": "2021-12-01T00:17:57.894020Z",
     "start_time": "2021-12-01T00:17:57.874032Z"
    }
   },
   "outputs": [
    {
     "data": {
      "text/plain": [
       "[['Aluno', 'Nota1', 'Nota2', 'Presença'],\n",
       " ['Alice', '10', '8.5', '75'],\n",
       " ['Bob', '7', '9.5', '80'],\n",
       " ['Eva', '8', '8', '30']]"
      ]
     },
     "execution_count": 172,
     "metadata": {},
     "output_type": "execute_result"
    }
   ],
   "source": [
    "tabela_lida"
   ]
  },
  {
   "cell_type": "code",
   "execution_count": 167,
   "metadata": {
    "ExecuteTime": {
     "end_time": "2021-12-01T00:15:18.117717Z",
     "start_time": "2021-12-01T00:15:18.108723Z"
    }
   },
   "outputs": [
    {
     "data": {
      "text/plain": [
       "[['Aluno', 'Nota1', 'Nota2', 'Presença'],\n",
       " ['Alice', 10, 8.5, 75],\n",
       " ['Bob', 7, 9.5, 80],\n",
       " ['Eva', 8, 8, 30]]"
      ]
     },
     "execution_count": 167,
     "metadata": {},
     "output_type": "execute_result"
    }
   ],
   "source": [
    "tabela"
   ]
  },
  {
   "cell_type": "markdown",
   "metadata": {},
   "source": [
    "Outra forma de fazer: usando o `f.read()` para ler os dados como uma string, e depois processá-la"
   ]
  },
  {
   "cell_type": "code",
   "execution_count": 179,
   "metadata": {
    "ExecuteTime": {
     "end_time": "2021-12-01T00:21:19.320412Z",
     "start_time": "2021-12-01T00:21:19.285432Z"
    }
   },
   "outputs": [],
   "source": [
    "with open(\"./arquivos/notas_alunos.csv\", \"r\", encoding=\"utf-8\") as f:\n",
    "    \n",
    "    conteudo = f.read()"
   ]
  },
  {
   "cell_type": "code",
   "execution_count": 188,
   "metadata": {
    "ExecuteTime": {
     "end_time": "2021-12-01T00:22:56.340581Z",
     "start_time": "2021-12-01T00:22:56.325590Z"
    }
   },
   "outputs": [
    {
     "data": {
      "text/plain": [
       "'Aluno,Nota1,Nota2,Presença\\nAlice,10,8.5,75\\nBob,7,9.5,80\\nEva,8,8,30\\n'"
      ]
     },
     "execution_count": 188,
     "metadata": {},
     "output_type": "execute_result"
    }
   ],
   "source": [
    "conteudo"
   ]
  },
  {
   "cell_type": "code",
   "execution_count": 186,
   "metadata": {
    "ExecuteTime": {
     "end_time": "2021-12-01T00:22:39.320731Z",
     "start_time": "2021-12-01T00:22:39.303740Z"
    }
   },
   "outputs": [
    {
     "data": {
      "text/plain": [
       "[['Aluno', 'Nota1', 'Nota2', 'Presença'],\n",
       " ['Alice', '10', '8.5', '75'],\n",
       " ['Bob', '7', '9.5', '80'],\n",
       " ['Eva', '8', '8', '30']]"
      ]
     },
     "execution_count": 186,
     "metadata": {},
     "output_type": "execute_result"
    }
   ],
   "source": [
    "tabela_lida2 = [x.split(\",\") for x in conteudo.split(\"\\n\")[:-1]]\n",
    "\n",
    "tabela_lida2"
   ]
  },
  {
   "cell_type": "markdown",
   "metadata": {},
   "source": [
    "__Vamos agora processar esse arquivo que acabamos de ler?__\n",
    "\n",
    "Imagina que queremos calcular qual é a média de determinado aluno, a partir do seu nome!\n",
    "\n",
    "Pra fazer isso, usamos **list comprehension** pra fazer uma lista com os nomes dos alunos:"
   ]
  },
  {
   "cell_type": "code",
   "execution_count": 235,
   "metadata": {
    "ExecuteTime": {
     "end_time": "2021-12-01T00:44:43.336948Z",
     "start_time": "2021-12-01T00:44:43.323955Z"
    }
   },
   "outputs": [
    {
     "data": {
      "text/plain": [
       "['Aluno', 'Alice', 'Bob', 'Eva']"
      ]
     },
     "execution_count": 235,
     "metadata": {},
     "output_type": "execute_result"
    }
   ],
   "source": [
    "lista_nomes = [linha[0] for linha in tabela_lida]\n",
    "\n",
    "lista_nomes"
   ]
  },
  {
   "cell_type": "markdown",
   "metadata": {},
   "source": [
    "Aí, usamos a função index() pra descobrir qual é o índice nesta lista referente a determinado aluno.\n",
    "\n",
    "Por exemplo, a aluna \"Alice\", está na posição de índice 1:"
   ]
  },
  {
   "cell_type": "code",
   "execution_count": 238,
   "metadata": {
    "ExecuteTime": {
     "end_time": "2021-12-01T00:45:39.311071Z",
     "start_time": "2021-12-01T00:45:39.293081Z"
    }
   },
   "outputs": [
    {
     "data": {
      "text/plain": [
       "1"
      ]
     },
     "execution_count": 238,
     "metadata": {},
     "output_type": "execute_result"
    }
   ],
   "source": [
    "idx_aluno = lista_nomes.index(\"Alice\")\n",
    "\n",
    "idx_aluno"
   ]
  },
  {
   "cell_type": "markdown",
   "metadata": {},
   "source": [
    "Agora, basta passar esse índice para a lista de listas (que chamamos de \"tabela_lida\"), pra acessarmos a linha correspondente à Alice:"
   ]
  },
  {
   "cell_type": "code",
   "execution_count": 239,
   "metadata": {
    "ExecuteTime": {
     "end_time": "2021-12-01T00:45:41.067348Z",
     "start_time": "2021-12-01T00:45:41.049357Z"
    }
   },
   "outputs": [
    {
     "data": {
      "text/plain": [
       "['Alice', '10', '8.5', '75']"
      ]
     },
     "execution_count": 239,
     "metadata": {},
     "output_type": "execute_result"
    }
   ],
   "source": [
    "tabela_lida[idx_aluno]"
   ]
  },
  {
   "cell_type": "markdown",
   "metadata": {},
   "source": [
    "Legal! Agora, sabemos que as posições de índice 1 e 2 **desta lista** são, respectivamente, a nota1 e a nota2! \n",
    "\n",
    "Ou seja, podemos capturar as notas (já as transformando para float!), e aí calcular a média "
   ]
  },
  {
   "cell_type": "code",
   "execution_count": 240,
   "metadata": {
    "ExecuteTime": {
     "end_time": "2021-12-01T00:45:58.340649Z",
     "start_time": "2021-12-01T00:45:58.322663Z"
    }
   },
   "outputs": [
    {
     "data": {
      "text/plain": [
       "(10.0, 8.5)"
      ]
     },
     "execution_count": 240,
     "metadata": {},
     "output_type": "execute_result"
    }
   ],
   "source": [
    "nota1 = float(tabela_lida[idx_aluno][1])\n",
    "nota2 = float(tabela_lida[idx_aluno][2])\n",
    "\n",
    "nota1, nota2"
   ]
  },
  {
   "cell_type": "markdown",
   "metadata": {},
   "source": [
    "Com isso, podemos calcular a média!"
   ]
  },
  {
   "cell_type": "markdown",
   "metadata": {},
   "source": [
    "Vamos agora fazer todas as operações acima, mas solicitando ao usuário a média de qual aluno ele deseja:"
   ]
  },
  {
   "cell_type": "markdown",
   "metadata": {},
   "source": [
    "(Colocando tudo numa função)"
   ]
  },
  {
   "cell_type": "code",
   "execution_count": 233,
   "metadata": {
    "ExecuteTime": {
     "end_time": "2021-12-01T00:43:51.806578Z",
     "start_time": "2021-12-01T00:43:51.781591Z"
    }
   },
   "outputs": [],
   "source": [
    "import time\n",
    "\n",
    "def calcula_media_aluno():\n",
    "    \n",
    "    lista_nomes = [linha[0] for linha in tabela_lida]\n",
    "    \n",
    "    print(\"Alunos cadastrados:\\n\")\n",
    "    print(*lista_nomes[1:], sep=\"\\n\")\n",
    "\n",
    "    time.sleep(0.5)\n",
    "\n",
    "    aluno = input(\"\\nDigite o nome do aluno: \")\n",
    "    \n",
    "    idx_aluno = lista_nomes.index(aluno)\n",
    "\n",
    "    nota1 = float(tabela_lida[idx_aluno][1])\n",
    "    nota2 = float(tabela_lida[idx_aluno][2])\n",
    "\n",
    "    media = (nota1 + nota2)/2\n",
    "\n",
    "    print(f\"\\nA média do(a) {aluno} é: {media}\")"
   ]
  },
  {
   "cell_type": "code",
   "execution_count": 234,
   "metadata": {
    "ExecuteTime": {
     "end_time": "2021-12-01T00:43:55.161663Z",
     "start_time": "2021-12-01T00:43:52.377084Z"
    }
   },
   "outputs": [
    {
     "name": "stdout",
     "output_type": "stream",
     "text": [
      "Alunos cadastrados:\n",
      "\n",
      "Alice\n",
      "Bob\n",
      "Eva\n",
      "\n",
      "Digite o nome do aluno: Bob\n",
      "\n",
      "A média do(a) Bob é: 8.25\n"
     ]
    }
   ],
   "source": [
    "calcula_media_aluno()"
   ]
  },
  {
   "cell_type": "markdown",
   "metadata": {},
   "source": [
    "__________"
   ]
  },
  {
   "cell_type": "markdown",
   "metadata": {},
   "source": [
    "É possíver fazer o **processamento de arquivos** de forma muito mais simples e natural do que foi feito acima, ao utilizarmos uma biblioteca própria para isso: o [pandas](https://pandas.pydata.org/)! Vamos introduzi-la nas aulas seguintes!"
   ]
  },
  {
   "cell_type": "markdown",
   "metadata": {},
   "source": [
    "Um pequeno spoiler..."
   ]
  },
  {
   "cell_type": "code",
   "execution_count": 241,
   "metadata": {
    "ExecuteTime": {
     "end_time": "2021-12-01T00:50:48.904383Z",
     "start_time": "2021-12-01T00:50:38.794343Z"
    }
   },
   "outputs": [],
   "source": [
    "import pandas as pd"
   ]
  },
  {
   "cell_type": "code",
   "execution_count": 242,
   "metadata": {
    "ExecuteTime": {
     "end_time": "2021-12-01T00:55:35.376390Z",
     "start_time": "2021-12-01T00:55:35.252765Z"
    }
   },
   "outputs": [],
   "source": [
    "df = pd.read_csv(\"./arquivos/notas_alunos.csv\")"
   ]
  },
  {
   "cell_type": "code",
   "execution_count": 253,
   "metadata": {
    "ExecuteTime": {
     "end_time": "2021-12-01T00:56:54.707132Z",
     "start_time": "2021-12-01T00:56:54.686144Z"
    }
   },
   "outputs": [
    {
     "data": {
      "text/plain": [
       "8.0"
      ]
     },
     "execution_count": 253,
     "metadata": {},
     "output_type": "execute_result"
    }
   ],
   "source": [
    "df[df[\"Aluno\"] == \"Eva\"][[\"Nota1\", \"Nota2\"]].mean(axis=1).values[0]"
   ]
  },
  {
   "cell_type": "markdown",
   "metadata": {
    "ExecuteTime": {
     "end_time": "2021-12-01T00:58:01.822751Z",
     "start_time": "2021-12-01T00:58:01.384849Z"
    }
   },
   "source": [
    "______"
   ]
  },
  {
   "cell_type": "markdown",
   "metadata": {},
   "source": [
    "O que vc prefere? Assim..."
   ]
  },
  {
   "cell_type": "code",
   "execution_count": 284,
   "metadata": {
    "ExecuteTime": {
     "end_time": "2021-12-01T01:07:14.045160Z",
     "start_time": "2021-12-01T01:07:14.001187Z"
    }
   },
   "outputs": [],
   "source": [
    "with open(\"./arquivos/temperature.csv\", \"r\", encoding=\"utf-8\") as f:\n",
    "    \n",
    "    tabela_lida = [linha for linha in csv.reader(f, delimiter=\",\", lineterminator=\"\\n\")]"
   ]
  },
  {
   "cell_type": "code",
   "execution_count": 285,
   "metadata": {
    "ExecuteTime": {
     "end_time": "2021-12-01T01:07:31.673648Z",
     "start_time": "2021-12-01T01:07:31.531216Z"
    }
   },
   "outputs": [
    {
     "data": {
      "text/plain": [
       "[['record_id',\n",
       "  'month',\n",
       "  'day',\n",
       "  'year',\n",
       "  'AverageTemperatureFahr',\n",
       "  'AverageTemperatureUncertaintyFahr',\n",
       "  'City',\n",
       "  'country_id',\n",
       "  'Country',\n",
       "  'Latitude',\n",
       "  'Longitude'],\n",
       " ['3779550',\n",
       "  '04',\n",
       "  '01',\n",
       "  '1854',\n",
       "  '42.0674',\n",
       "  '33.1142',\n",
       "  'Kherson',\n",
       "  'UKR',\n",
       "  'Ukraine',\n",
       "  '47.42N',\n",
       "  '31.97E'],\n",
       " ['3779551',\n",
       "  '05',\n",
       "  '01',\n",
       "  '1854',\n",
       "  '62.654',\n",
       "  '33.2888',\n",
       "  'Kherson',\n",
       "  'UKR',\n",
       "  'Ukraine',\n",
       "  '47.42N',\n",
       "  '31.97E'],\n",
       " ['3779552',\n",
       "  '06',\n",
       "  '01',\n",
       "  '1854',\n",
       "  '65.8166',\n",
       "  '35.096',\n",
       "  'Kherson',\n",
       "  'UKR',\n",
       "  'Ukraine',\n",
       "  '47.42N',\n",
       "  '31.97E'],\n",
       " ['3779553',\n",
       "  '07',\n",
       "  '01',\n",
       "  '1854',\n",
       "  '72.8366',\n",
       "  '34.0376',\n",
       "  'Kherson',\n",
       "  'UKR',\n",
       "  'Ukraine',\n",
       "  '47.42N',\n",
       "  '31.97E'],\n",
       " ['3779554',\n",
       "  '08',\n",
       "  '01',\n",
       "  '1854',\n",
       "  '69.1466',\n",
       "  '34.295',\n",
       "  'Kherson',\n",
       "  'UKR',\n",
       "  'Ukraine',\n",
       "  '47.42N',\n",
       "  '31.97E'],\n",
       " ['3779555',\n",
       "  '09',\n",
       "  '01',\n",
       "  '1854',\n",
       "  '56.8382',\n",
       "  '33.8468',\n",
       "  'Kherson',\n",
       "  'UKR',\n",
       "  'Ukraine',\n",
       "  '47.42N',\n",
       "  '31.97E'],\n",
       " ['3779556',\n",
       "  '10',\n",
       "  '01',\n",
       "  '1854',\n",
       "  '50.9666',\n",
       "  '34.439',\n",
       "  'Kherson',\n",
       "  'UKR',\n",
       "  'Ukraine',\n",
       "  '47.42N',\n",
       "  '31.97E'],\n",
       " ['3779557',\n",
       "  '11',\n",
       "  '01',\n",
       "  '1854',\n",
       "  '39.0164',\n",
       "  '34.8602',\n",
       "  'Kherson',\n",
       "  'UKR',\n",
       "  'Ukraine',\n",
       "  '47.42N',\n",
       "  '31.97E'],\n",
       " ['3779558',\n",
       "  '12',\n",
       "  '01',\n",
       "  '1854',\n",
       "  '34.8422',\n",
       "  '37.1372',\n",
       "  'Kherson',\n",
       "  'UKR',\n",
       "  'Ukraine',\n",
       "  '47.42N',\n",
       "  '31.97E'],\n",
       " ['3779559',\n",
       "  '01',\n",
       "  '01',\n",
       "  '1855',\n",
       "  '21.2432',\n",
       "  '35.8088',\n",
       "  'Kherson',\n",
       "  'UKR',\n",
       "  'Ukraine',\n",
       "  '47.42N',\n",
       "  '31.97E'],\n",
       " ['3779560',\n",
       "  '02',\n",
       "  '01',\n",
       "  '1855',\n",
       "  '24.7982',\n",
       "  '34.9682',\n",
       "  'Kherson',\n",
       "  'UKR',\n",
       "  'Ukraine',\n",
       "  '47.42N',\n",
       "  '31.97E'],\n",
       " ['3779561',\n",
       "  '03',\n",
       "  '01',\n",
       "  '1855',\n",
       "  '38.8886',\n",
       "  '33.6164',\n",
       "  'Kherson',\n",
       "  'UKR',\n",
       "  'Ukraine',\n",
       "  '47.42N',\n",
       "  '31.97E'],\n",
       " ['3779562',\n",
       "  '04',\n",
       "  '01',\n",
       "  '1855',\n",
       "  '48.695',\n",
       "  '34.8098',\n",
       "  'Kherson',\n",
       "  'UKR',\n",
       "  'Ukraine',\n",
       "  '47.42N',\n",
       "  '31.97E'],\n",
       " ['474381',\n",
       "  '06',\n",
       "  '01',\n",
       "  '1853',\n",
       "  '51.9062',\n",
       "  '36.9572',\n",
       "  'Auckland',\n",
       "  'NEW',\n",
       "  'New Zealand',\n",
       "  '36.17S',\n",
       "  '175.03E'],\n",
       " ['474382',\n",
       "  '07',\n",
       "  '01',\n",
       "  '1853',\n",
       "  '52.3886',\n",
       "  '34.5488',\n",
       "  'Auckland',\n",
       "  'NEW',\n",
       "  'New Zealand',\n",
       "  '36.17S',\n",
       "  '175.03E'],\n",
       " ['474383',\n",
       "  '08',\n",
       "  '01',\n",
       "  '1853',\n",
       "  '52.853',\n",
       "  '33.5498',\n",
       "  'Auckland',\n",
       "  'NEW',\n",
       "  'New Zealand',\n",
       "  '36.17S',\n",
       "  '175.03E'],\n",
       " ['474384',\n",
       "  '09',\n",
       "  '01',\n",
       "  '1853',\n",
       "  '52.5776',\n",
       "  '33.638',\n",
       "  'Auckland',\n",
       "  'NEW',\n",
       "  'New Zealand',\n",
       "  '36.17S',\n",
       "  '175.03E'],\n",
       " ['474385',\n",
       "  '10',\n",
       "  '01',\n",
       "  '1853',\n",
       "  '54.8726',\n",
       "  '33.9836',\n",
       "  'Auckland',\n",
       "  'NEW',\n",
       "  'New Zealand',\n",
       "  '36.17S',\n",
       "  '175.03E'],\n",
       " ['474386',\n",
       "  '11',\n",
       "  '01',\n",
       "  '1853',\n",
       "  '56.6888',\n",
       "  '34.2518',\n",
       "  'Auckland',\n",
       "  'NEW',\n",
       "  'New Zealand',\n",
       "  '36.17S',\n",
       "  '175.03E'],\n",
       " ['474387',\n",
       "  '12',\n",
       "  '01',\n",
       "  '1853',\n",
       "  '59.846',\n",
       "  '37.5062',\n",
       "  'Auckland',\n",
       "  'NEW',\n",
       "  'New Zealand',\n",
       "  '36.17S',\n",
       "  '175.03E'],\n",
       " ['474388',\n",
       "  '01',\n",
       "  '01',\n",
       "  '1854',\n",
       "  '64.5908',\n",
       "  '36.23',\n",
       "  'Auckland',\n",
       "  'NEW',\n",
       "  'New Zealand',\n",
       "  '36.17S',\n",
       "  '175.03E'],\n",
       " ['474389',\n",
       "  '02',\n",
       "  '01',\n",
       "  '1854',\n",
       "  '65.372',\n",
       "  '35.6576',\n",
       "  'Auckland',\n",
       "  'NEW',\n",
       "  'New Zealand',\n",
       "  '36.17S',\n",
       "  '175.03E'],\n",
       " ['474390',\n",
       "  '03',\n",
       "  '01',\n",
       "  '1854',\n",
       "  '64.9688',\n",
       "  '35.3966',\n",
       "  'Auckland',\n",
       "  'NEW',\n",
       "  'New Zealand',\n",
       "  '36.17S',\n",
       "  '175.03E'],\n",
       " ['474391',\n",
       "  '04',\n",
       "  '01',\n",
       "  '1854',\n",
       "  '59.927',\n",
       "  '35.2022',\n",
       "  'Auckland',\n",
       "  'NEW',\n",
       "  'New Zealand',\n",
       "  '36.17S',\n",
       "  '175.03E'],\n",
       " ['474392',\n",
       "  '05',\n",
       "  '01',\n",
       "  '1854',\n",
       "  '57.5042',\n",
       "  '34.511',\n",
       "  'Auckland',\n",
       "  'NEW',\n",
       "  'New Zealand',\n",
       "  '36.17S',\n",
       "  '175.03E'],\n",
       " ['474393',\n",
       "  '06',\n",
       "  '01',\n",
       "  '1854',\n",
       "  '54.518',\n",
       "  '34.7972',\n",
       "  'Auckland',\n",
       "  'NEW',\n",
       "  'New Zealand',\n",
       "  '36.17S',\n",
       "  '175.03E'],\n",
       " ['474394',\n",
       "  '07',\n",
       "  '01',\n",
       "  '1854',\n",
       "  '53.1914',\n",
       "  '35.024',\n",
       "  'Auckland',\n",
       "  'NEW',\n",
       "  'New Zealand',\n",
       "  '36.17S',\n",
       "  '175.03E'],\n",
       " ['474395',\n",
       "  '08',\n",
       "  '01',\n",
       "  '1854',\n",
       "  '52.8044',\n",
       "  '34.3544',\n",
       "  'Auckland',\n",
       "  'NEW',\n",
       "  'New Zealand',\n",
       "  '36.17S',\n",
       "  '175.03E'],\n",
       " ['474396',\n",
       "  '09',\n",
       "  '01',\n",
       "  '1854',\n",
       "  '53.3912',\n",
       "  '33.683',\n",
       "  'Auckland',\n",
       "  'NEW',\n",
       "  'New Zealand',\n",
       "  '36.17S',\n",
       "  '175.03E'],\n",
       " ['474397',\n",
       "  '10',\n",
       "  '01',\n",
       "  '1854',\n",
       "  '54.7538',\n",
       "  '37.4108',\n",
       "  'Auckland',\n",
       "  'NEW',\n",
       "  'New Zealand',\n",
       "  '36.17S',\n",
       "  '175.03E'],\n",
       " ['474398',\n",
       "  '11',\n",
       "  '01',\n",
       "  '1854',\n",
       "  '57.317',\n",
       "  '35.0024',\n",
       "  'Auckland',\n",
       "  'NEW',\n",
       "  'New Zealand',\n",
       "  '36.17S',\n",
       "  '175.03E'],\n",
       " ['474399',\n",
       "  '12',\n",
       "  '01',\n",
       "  '1854',\n",
       "  '60.0296',\n",
       "  '35.924',\n",
       "  'Auckland',\n",
       "  'NEW',\n",
       "  'New Zealand',\n",
       "  '36.17S',\n",
       "  '175.03E'],\n",
       " ['474400',\n",
       "  '01',\n",
       "  '01',\n",
       "  '1855',\n",
       "  '63.3578',\n",
       "  '36.0716',\n",
       "  'Auckland',\n",
       "  'NEW',\n",
       "  'New Zealand',\n",
       "  '36.17S',\n",
       "  '175.03E'],\n",
       " ['474401',\n",
       "  '02',\n",
       "  '01',\n",
       "  '1855',\n",
       "  '64.346',\n",
       "  '37.13',\n",
       "  'Auckland',\n",
       "  'NEW',\n",
       "  'New Zealand',\n",
       "  '36.17S',\n",
       "  '175.03E'],\n",
       " ['474402',\n",
       "  '03',\n",
       "  '01',\n",
       "  '1855',\n",
       "  '63.6584',\n",
       "  '34.3058',\n",
       "  'Auckland',\n",
       "  'NEW',\n",
       "  'New Zealand',\n",
       "  '36.17S',\n",
       "  '175.03E'],\n",
       " ['474403',\n",
       "  '04',\n",
       "  '01',\n",
       "  '1855',\n",
       "  '61.5848',\n",
       "  '34.7594',\n",
       "  'Auckland',\n",
       "  'NEW',\n",
       "  'New Zealand',\n",
       "  '36.17S',\n",
       "  '175.03E'],\n",
       " ['474404',\n",
       "  '05',\n",
       "  '01',\n",
       "  '1855',\n",
       "  '58.0028',\n",
       "  '34.1996',\n",
       "  'Auckland',\n",
       "  'NEW',\n",
       "  'New Zealand',\n",
       "  '36.17S',\n",
       "  '175.03E'],\n",
       " ['474405',\n",
       "  '06',\n",
       "  '01',\n",
       "  '1855',\n",
       "  '54.842',\n",
       "  '33.7568',\n",
       "  'Auckland',\n",
       "  'NEW',\n",
       "  'New Zealand',\n",
       "  '36.17S',\n",
       "  '175.03E'],\n",
       " ['474406',\n",
       "  '07',\n",
       "  '01',\n",
       "  '1855',\n",
       "  '53.1554',\n",
       "  '33.5048',\n",
       "  'Auckland',\n",
       "  'NEW',\n",
       "  'New Zealand',\n",
       "  '36.17S',\n",
       "  '175.03E'],\n",
       " ['474407',\n",
       "  '08',\n",
       "  '01',\n",
       "  '1855',\n",
       "  '52.3094',\n",
       "  '34.8422',\n",
       "  'Auckland',\n",
       "  'NEW',\n",
       "  'New Zealand',\n",
       "  '36.17S',\n",
       "  '175.03E'],\n",
       " ['474408',\n",
       "  '09',\n",
       "  '01',\n",
       "  '1855',\n",
       "  '52.61',\n",
       "  '34.1042',\n",
       "  'Auckland',\n",
       "  'NEW',\n",
       "  'New Zealand',\n",
       "  '36.17S',\n",
       "  '175.03E'],\n",
       " ['474409',\n",
       "  '10',\n",
       "  '01',\n",
       "  '1855',\n",
       "  '57.407',\n",
       "  '34.2302',\n",
       "  'Auckland',\n",
       "  'NEW',\n",
       "  'New Zealand',\n",
       "  '36.17S',\n",
       "  '175.03E'],\n",
       " ['474410',\n",
       "  '11',\n",
       "  '01',\n",
       "  '1855',\n",
       "  '58.1558',\n",
       "  '33.7622',\n",
       "  'Auckland',\n",
       "  'NEW',\n",
       "  'New Zealand',\n",
       "  '36.17S',\n",
       "  '175.03E'],\n",
       " ['474411',\n",
       "  '12',\n",
       "  '01',\n",
       "  '1855',\n",
       "  '60.9206',\n",
       "  '35.7026',\n",
       "  'Auckland',\n",
       "  'NEW',\n",
       "  'New Zealand',\n",
       "  '36.17S',\n",
       "  '175.03E'],\n",
       " ['474412',\n",
       "  '01',\n",
       "  '01',\n",
       "  '1856',\n",
       "  '61.8422',\n",
       "  '37.9166',\n",
       "  'Auckland',\n",
       "  'NEW',\n",
       "  'New Zealand',\n",
       "  '36.17S',\n",
       "  '175.03E'],\n",
       " ['474413',\n",
       "  '02',\n",
       "  '01',\n",
       "  '1856',\n",
       "  '62.033',\n",
       "  '37.8878',\n",
       "  'Auckland',\n",
       "  'NEW',\n",
       "  'New Zealand',\n",
       "  '36.17S',\n",
       "  '175.03E'],\n",
       " ['474414',\n",
       "  '03',\n",
       "  '01',\n",
       "  '1856',\n",
       "  '62.1266',\n",
       "  '35.9114',\n",
       "  'Auckland',\n",
       "  'NEW',\n",
       "  'New Zealand',\n",
       "  '36.17S',\n",
       "  '175.03E'],\n",
       " ['474415',\n",
       "  '04',\n",
       "  '01',\n",
       "  '1856',\n",
       "  '59.801',\n",
       "  '36.2966',\n",
       "  'Auckland',\n",
       "  'NEW',\n",
       "  'New Zealand',\n",
       "  '36.17S',\n",
       "  '175.03E'],\n",
       " ['3817589',\n",
       "  '09',\n",
       "  '01',\n",
       "  '1770',\n",
       "  '57.2828',\n",
       "  '36.9176',\n",
       "  'Kiev',\n",
       "  'UKR',\n",
       "  'Ukraine',\n",
       "  '50.63N',\n",
       "  '31.69E'],\n",
       " ['3817590',\n",
       "  '10',\n",
       "  '01',\n",
       "  '1770',\n",
       "  '47.111',\n",
       "  '39.6788',\n",
       "  'Kiev',\n",
       "  'UKR',\n",
       "  'Ukraine',\n",
       "  '50.63N',\n",
       "  '31.69E'],\n",
       " ['3817591',\n",
       "  '11',\n",
       "  '01',\n",
       "  '1770',\n",
       "  '35.2544',\n",
       "  '39.7058',\n",
       "  'Kiev',\n",
       "  'UKR',\n",
       "  'Ukraine',\n",
       "  '50.63N',\n",
       "  '31.69E'],\n",
       " ['3817592',\n",
       "  '12',\n",
       "  '01',\n",
       "  '1770',\n",
       "  '31.2152',\n",
       "  '45.059',\n",
       "  'Kiev',\n",
       "  'UKR',\n",
       "  'Ukraine',\n",
       "  '50.63N',\n",
       "  '31.69E'],\n",
       " ['3817593',\n",
       "  '01',\n",
       "  '01',\n",
       "  '1771',\n",
       "  '24.1862',\n",
       "  '41.603',\n",
       "  'Kiev',\n",
       "  'UKR',\n",
       "  'Ukraine',\n",
       "  '50.63N',\n",
       "  '31.69E'],\n",
       " ['3817594',\n",
       "  '02',\n",
       "  '01',\n",
       "  '1771',\n",
       "  '13.4978',\n",
       "  '38.498',\n",
       "  'Kiev',\n",
       "  'UKR',\n",
       "  'Ukraine',\n",
       "  '50.63N',\n",
       "  '31.69E'],\n",
       " ['3817595',\n",
       "  '03',\n",
       "  '01',\n",
       "  '1771',\n",
       "  '23.7686',\n",
       "  '42.8378',\n",
       "  'Kiev',\n",
       "  'UKR',\n",
       "  'Ukraine',\n",
       "  '50.63N',\n",
       "  '31.69E'],\n",
       " ['3817596',\n",
       "  '04',\n",
       "  '01',\n",
       "  '1771',\n",
       "  '40.262',\n",
       "  '42.233',\n",
       "  'Kiev',\n",
       "  'UKR',\n",
       "  'Ukraine',\n",
       "  '50.63N',\n",
       "  '31.69E'],\n",
       " ['3817597',\n",
       "  '05',\n",
       "  '01',\n",
       "  '1771',\n",
       "  '56.7842',\n",
       "  '46.5656',\n",
       "  'Kiev',\n",
       "  'UKR',\n",
       "  'Ukraine',\n",
       "  '50.63N',\n",
       "  '31.69E'],\n",
       " ['3817598',\n",
       "  '06',\n",
       "  '01',\n",
       "  '1771',\n",
       "  '67.2998',\n",
       "  '36.563',\n",
       "  'Kiev',\n",
       "  'UKR',\n",
       "  'Ukraine',\n",
       "  '50.63N',\n",
       "  '31.69E'],\n",
       " ['3817599',\n",
       "  '07',\n",
       "  '01',\n",
       "  '1771',\n",
       "  '67.0532',\n",
       "  '35.1032',\n",
       "  'Kiev',\n",
       "  'UKR',\n",
       "  'Ukraine',\n",
       "  '50.63N',\n",
       "  '31.69E'],\n",
       " ['3817600',\n",
       "  '08',\n",
       "  '01',\n",
       "  '1771',\n",
       "  '65.4584',\n",
       "  '36.1976',\n",
       "  'Kiev',\n",
       "  'UKR',\n",
       "  'Ukraine',\n",
       "  '50.63N',\n",
       "  '31.69E'],\n",
       " ['3817601',\n",
       "  '09',\n",
       "  '01',\n",
       "  '1771',\n",
       "  '57.3836',\n",
       "  '35.3912',\n",
       "  'Kiev',\n",
       "  'UKR',\n",
       "  'Ukraine',\n",
       "  '50.63N',\n",
       "  '31.69E'],\n",
       " ['3817602',\n",
       "  '10',\n",
       "  '01',\n",
       "  '1771',\n",
       "  '46.571',\n",
       "  '35.7674',\n",
       "  'Kiev',\n",
       "  'UKR',\n",
       "  'Ukraine',\n",
       "  '50.63N',\n",
       "  '31.69E'],\n",
       " ['3817603',\n",
       "  '11',\n",
       "  '01',\n",
       "  '1771',\n",
       "  '30.2612',\n",
       "  '39.4826',\n",
       "  'Kiev',\n",
       "  'UKR',\n",
       "  'Ukraine',\n",
       "  '50.63N',\n",
       "  '31.69E'],\n",
       " ['3817604',\n",
       "  '12',\n",
       "  '01',\n",
       "  '1771',\n",
       "  '26.0348',\n",
       "  '38.48',\n",
       "  'Kiev',\n",
       "  'UKR',\n",
       "  'Ukraine',\n",
       "  '50.63N',\n",
       "  '31.69E'],\n",
       " ['3817605',\n",
       "  '01',\n",
       "  '01',\n",
       "  '1772',\n",
       "  '20.0858',\n",
       "  '41.4662',\n",
       "  'Kiev',\n",
       "  'UKR',\n",
       "  'Ukraine',\n",
       "  '50.63N',\n",
       "  '31.69E'],\n",
       " ['3817606',\n",
       "  '02',\n",
       "  '01',\n",
       "  '1772',\n",
       "  '18.167',\n",
       "  '45.1274',\n",
       "  'Kiev',\n",
       "  'UKR',\n",
       "  'Ukraine',\n",
       "  '50.63N',\n",
       "  '31.69E'],\n",
       " ['3817607',\n",
       "  '03',\n",
       "  '01',\n",
       "  '1772',\n",
       "  '28.265',\n",
       "  '39.6518',\n",
       "  'Kiev',\n",
       "  'UKR',\n",
       "  'Ukraine',\n",
       "  '50.63N',\n",
       "  '31.69E'],\n",
       " ['3817608',\n",
       "  '04',\n",
       "  '01',\n",
       "  '1772',\n",
       "  '46.5566',\n",
       "  '39.0254',\n",
       "  'Kiev',\n",
       "  'UKR',\n",
       "  'Ukraine',\n",
       "  '50.63N',\n",
       "  '31.69E'],\n",
       " ['3817609',\n",
       "  '05',\n",
       "  '01',\n",
       "  '1772',\n",
       "  '54.6566',\n",
       "  '35.5388',\n",
       "  'Kiev',\n",
       "  'UKR',\n",
       "  'Ukraine',\n",
       "  '50.63N',\n",
       "  '31.69E'],\n",
       " ['3817610',\n",
       "  '06',\n",
       "  '01',\n",
       "  '1772',\n",
       "  '64.1786',\n",
       "  '38.2946',\n",
       "  'Kiev',\n",
       "  'UKR',\n",
       "  'Ukraine',\n",
       "  '50.63N',\n",
       "  '31.69E'],\n",
       " ['3817611',\n",
       "  '07',\n",
       "  '01',\n",
       "  '1772',\n",
       "  '68.792',\n",
       "  '36.7628',\n",
       "  'Kiev',\n",
       "  'UKR',\n",
       "  'Ukraine',\n",
       "  '50.63N',\n",
       "  '31.69E'],\n",
       " ['4433730',\n",
       "  '06',\n",
       "  '01',\n",
       "  '1906',\n",
       "  '61.8764',\n",
       "  '32.729',\n",
       "  'Lvov',\n",
       "  'UKR',\n",
       "  'Ukraine',\n",
       "  '50.63N',\n",
       "  '24.08E'],\n",
       " ['4433731',\n",
       "  '07',\n",
       "  '01',\n",
       "  '1906',\n",
       "  '65.3324',\n",
       "  '32.5742',\n",
       "  'Lvov',\n",
       "  'UKR',\n",
       "  'Ukraine',\n",
       "  '50.63N',\n",
       "  '24.08E'],\n",
       " ['4433732',\n",
       "  '08',\n",
       "  '01',\n",
       "  '1906',\n",
       "  '61.2536',\n",
       "  '32.4104',\n",
       "  'Lvov',\n",
       "  'UKR',\n",
       "  'Ukraine',\n",
       "  '50.63N',\n",
       "  '24.08E'],\n",
       " ['4433733',\n",
       "  '09',\n",
       "  '01',\n",
       "  '1906',\n",
       "  '53.3516',\n",
       "  '32.5886',\n",
       "  'Lvov',\n",
       "  'UKR',\n",
       "  'Ukraine',\n",
       "  '50.63N',\n",
       "  '24.08E'],\n",
       " ['4433734',\n",
       "  '10',\n",
       "  '01',\n",
       "  '1906',\n",
       "  '44.0546',\n",
       "  '32.5274',\n",
       "  'Lvov',\n",
       "  'UKR',\n",
       "  'Ukraine',\n",
       "  '50.63N',\n",
       "  '24.08E'],\n",
       " ['4433735',\n",
       "  '11',\n",
       "  '01',\n",
       "  '1906',\n",
       "  '41.2808',\n",
       "  '32.8352',\n",
       "  'Lvov',\n",
       "  'UKR',\n",
       "  'Ukraine',\n",
       "  '50.63N',\n",
       "  '24.08E'],\n",
       " ['4433736',\n",
       "  '12',\n",
       "  '01',\n",
       "  '1906',\n",
       "  '23.7902',\n",
       "  '33.8882',\n",
       "  'Lvov',\n",
       "  'UKR',\n",
       "  'Ukraine',\n",
       "  '50.63N',\n",
       "  '24.08E'],\n",
       " ['4433737',\n",
       "  '01',\n",
       "  '01',\n",
       "  '1907',\n",
       "  '20.0282',\n",
       "  '32.7488',\n",
       "  'Lvov',\n",
       "  'UKR',\n",
       "  'Ukraine',\n",
       "  '50.63N',\n",
       "  '24.08E'],\n",
       " ['4433738',\n",
       "  '02',\n",
       "  '01',\n",
       "  '1907',\n",
       "  '20.5358',\n",
       "  '32.8136',\n",
       "  'Lvov',\n",
       "  'UKR',\n",
       "  'Ukraine',\n",
       "  '50.63N',\n",
       "  '24.08E'],\n",
       " ['4433739',\n",
       "  '03',\n",
       "  '01',\n",
       "  '1907',\n",
       "  '28.769',\n",
       "  '32.7794',\n",
       "  'Lvov',\n",
       "  'UKR',\n",
       "  'Ukraine',\n",
       "  '50.63N',\n",
       "  '24.08E'],\n",
       " ['4433740',\n",
       "  '04',\n",
       "  '01',\n",
       "  '1907',\n",
       "  '40.4348',\n",
       "  '33.8342',\n",
       "  'Lvov',\n",
       "  'UKR',\n",
       "  'Ukraine',\n",
       "  '50.63N',\n",
       "  '24.08E'],\n",
       " ['4433741',\n",
       "  '05',\n",
       "  '01',\n",
       "  '1907',\n",
       "  '59.6822',\n",
       "  '33.179',\n",
       "  'Lvov',\n",
       "  'UKR',\n",
       "  'Ukraine',\n",
       "  '50.63N',\n",
       "  '24.08E'],\n",
       " ['4433742',\n",
       "  '06',\n",
       "  '01',\n",
       "  '1907',\n",
       "  '60.8882',\n",
       "  '33.0476',\n",
       "  'Lvov',\n",
       "  'UKR',\n",
       "  'Ukraine',\n",
       "  '50.63N',\n",
       "  '24.08E'],\n",
       " ['4433743',\n",
       "  '07',\n",
       "  '01',\n",
       "  '1907',\n",
       "  '62.3534',\n",
       "  '32.3996',\n",
       "  'Lvov',\n",
       "  'UKR',\n",
       "  'Ukraine',\n",
       "  '50.63N',\n",
       "  '24.08E'],\n",
       " ['4433744',\n",
       "  '08',\n",
       "  '01',\n",
       "  '1907',\n",
       "  '61.2194',\n",
       "  '32.3744',\n",
       "  'Lvov',\n",
       "  'UKR',\n",
       "  'Ukraine',\n",
       "  '50.63N',\n",
       "  '24.08E'],\n",
       " ['4433745',\n",
       "  '09',\n",
       "  '01',\n",
       "  '1907',\n",
       "  '54.7286',\n",
       "  '33.008',\n",
       "  'Lvov',\n",
       "  'UKR',\n",
       "  'Ukraine',\n",
       "  '50.63N',\n",
       "  '24.08E'],\n",
       " ['4433746',\n",
       "  '10',\n",
       "  '01',\n",
       "  '1907',\n",
       "  '52.8944',\n",
       "  '32.6642',\n",
       "  'Lvov',\n",
       "  'UKR',\n",
       "  'Ukraine',\n",
       "  '50.63N',\n",
       "  '24.08E'],\n",
       " ['4433747',\n",
       "  '11',\n",
       "  '01',\n",
       "  '1907',\n",
       "  '32.1944',\n",
       "  '32.6984',\n",
       "  'Lvov',\n",
       "  'UKR',\n",
       "  'Ukraine',\n",
       "  '50.63N',\n",
       "  '24.08E'],\n",
       " ['4433748',\n",
       "  '12',\n",
       "  '01',\n",
       "  '1907',\n",
       "  '25.7162',\n",
       "  '32.7614',\n",
       "  'Lvov',\n",
       "  'UKR',\n",
       "  'Ukraine',\n",
       "  '50.63N',\n",
       "  '24.08E'],\n",
       " ['4433749',\n",
       "  '01',\n",
       "  '01',\n",
       "  '1908',\n",
       "  '24.4274',\n",
       "  '33.2888',\n",
       "  'Lvov',\n",
       "  'UKR',\n",
       "  'Ukraine',\n",
       "  '50.63N',\n",
       "  '24.08E'],\n",
       " ['4433750',\n",
       "  '02',\n",
       "  '01',\n",
       "  '1908',\n",
       "  '28.6304',\n",
       "  '33.1232',\n",
       "  'Lvov',\n",
       "  'UKR',\n",
       "  'Ukraine',\n",
       "  '50.63N',\n",
       "  '24.08E'],\n",
       " ['4433751',\n",
       "  '03',\n",
       "  '01',\n",
       "  '1908',\n",
       "  '33.7604',\n",
       "  '33.476',\n",
       "  'Lvov',\n",
       "  'UKR',\n",
       "  'Ukraine',\n",
       "  '50.63N',\n",
       "  '24.08E'],\n",
       " ['4672984',\n",
       "  '01',\n",
       "  '01',\n",
       "  '1999',\n",
       "  '52.205',\n",
       "  '32.5724',\n",
       "  'Marseille',\n",
       "  'FRA',\n",
       "  'France',\n",
       "  '42.59N',\n",
       "  '6.55E'],\n",
       " ['4672985',\n",
       "  '02',\n",
       "  '01',\n",
       "  '1999',\n",
       "  '49.703',\n",
       "  '32.8244',\n",
       "  'Marseille',\n",
       "  'FRA',\n",
       "  'France',\n",
       "  '42.59N',\n",
       "  '6.55E'],\n",
       " ['4672986',\n",
       "  '03',\n",
       "  '01',\n",
       "  '1999',\n",
       "  '54.2318',\n",
       "  '32.4392',\n",
       "  'Marseille',\n",
       "  'FRA',\n",
       "  'France',\n",
       "  '42.59N',\n",
       "  '6.55E'],\n",
       " ['4672987',\n",
       "  '04',\n",
       "  '01',\n",
       "  '1999',\n",
       "  '55.9868',\n",
       "  '32.558',\n",
       "  'Marseille',\n",
       "  'FRA',\n",
       "  'France',\n",
       "  '42.59N',\n",
       "  '6.55E'],\n",
       " ['4672988',\n",
       "  '05',\n",
       "  '01',\n",
       "  '1999',\n",
       "  '64.3064',\n",
       "  '32.6048',\n",
       "  'Marseille',\n",
       "  'FRA',\n",
       "  'France',\n",
       "  '42.59N',\n",
       "  '6.55E'],\n",
       " ['4672989',\n",
       "  '06',\n",
       "  '01',\n",
       "  '1999',\n",
       "  '68.7668',\n",
       "  '32.4734',\n",
       "  'Marseille',\n",
       "  'FRA',\n",
       "  'France',\n",
       "  '42.59N',\n",
       "  '6.55E'],\n",
       " ['4672990',\n",
       "  '07',\n",
       "  '01',\n",
       "  '1999',\n",
       "  '74.0264',\n",
       "  '32.4428',\n",
       "  'Marseille',\n",
       "  'FRA',\n",
       "  'France',\n",
       "  '42.59N',\n",
       "  '6.55E'],\n",
       " ['4672991',\n",
       "  '08',\n",
       "  '01',\n",
       "  '1999',\n",
       "  '75.6356',\n",
       "  '32.5364',\n",
       "  'Marseille',\n",
       "  'FRA',\n",
       "  'France',\n",
       "  '42.59N',\n",
       "  '6.55E'],\n",
       " ['4672992',\n",
       "  '09',\n",
       "  '01',\n",
       "  '1999',\n",
       "  '71.9942',\n",
       "  '32.45',\n",
       "  'Marseille',\n",
       "  'FRA',\n",
       "  'France',\n",
       "  '42.59N',\n",
       "  '6.55E'],\n",
       " ['4672993',\n",
       "  '10',\n",
       "  '01',\n",
       "  '1999',\n",
       "  '64.8374',\n",
       "  '32.2844',\n",
       "  'Marseille',\n",
       "  'FRA',\n",
       "  'France',\n",
       "  '42.59N',\n",
       "  '6.55E'],\n",
       " ['4672994',\n",
       "  '11',\n",
       "  '01',\n",
       "  '1999',\n",
       "  '55.0418',\n",
       "  '32.387',\n",
       "  'Marseille',\n",
       "  'FRA',\n",
       "  'France',\n",
       "  '42.59N',\n",
       "  '6.55E'],\n",
       " ['4672995',\n",
       "  '12',\n",
       "  '01',\n",
       "  '1999',\n",
       "  '51.4832',\n",
       "  '32.4986',\n",
       "  'Marseille',\n",
       "  'FRA',\n",
       "  'France',\n",
       "  '42.59N',\n",
       "  '6.55E'],\n",
       " ['4672996',\n",
       "  '01',\n",
       "  '01',\n",
       "  '2000',\n",
       "  '49.6616',\n",
       "  '32.6282',\n",
       "  'Marseille',\n",
       "  'FRA',\n",
       "  'France',\n",
       "  '42.59N',\n",
       "  '6.55E'],\n",
       " ['4672997',\n",
       "  '02',\n",
       "  '01',\n",
       "  '2000',\n",
       "  '52.889',\n",
       "  '32.4734',\n",
       "  'Marseille',\n",
       "  'FRA',\n",
       "  'France',\n",
       "  '42.59N',\n",
       "  '6.55E'],\n",
       " ['4672998',\n",
       "  '03',\n",
       "  '01',\n",
       "  '2000',\n",
       "  '53.582',\n",
       "  '32.5454',\n",
       "  'Marseille',\n",
       "  'FRA',\n",
       "  'France',\n",
       "  '42.59N',\n",
       "  '6.55E'],\n",
       " ['4672999',\n",
       "  '04',\n",
       "  '01',\n",
       "  '2000',\n",
       "  '56.1524',\n",
       "  '32.4626',\n",
       "  'Marseille',\n",
       "  'FRA',\n",
       "  'France',\n",
       "  '42.59N',\n",
       "  '6.55E'],\n",
       " ['4673000',\n",
       "  '05',\n",
       "  '01',\n",
       "  '2000',\n",
       "  '65.1884',\n",
       "  '32.5526',\n",
       "  'Marseille',\n",
       "  'FRA',\n",
       "  'France',\n",
       "  '42.59N',\n",
       "  '6.55E'],\n",
       " ['4673001',\n",
       "  '06',\n",
       "  '01',\n",
       "  '2000',\n",
       "  '69.6146',\n",
       "  '32.5454',\n",
       "  'Marseille',\n",
       "  'FRA',\n",
       "  'France',\n",
       "  '42.59N',\n",
       "  '6.55E'],\n",
       " ['4673002',\n",
       "  '07',\n",
       "  '01',\n",
       "  '2000',\n",
       "  '70.8926',\n",
       "  '32.3366',\n",
       "  'Marseille',\n",
       "  'FRA',\n",
       "  'France',\n",
       "  '42.59N',\n",
       "  '6.55E'],\n",
       " ['4673003',\n",
       "  '08',\n",
       "  '01',\n",
       "  '2000',\n",
       "  '74.6474',\n",
       "  '32.5976',\n",
       "  'Marseille',\n",
       "  'FRA',\n",
       "  'France',\n",
       "  '42.59N',\n",
       "  '6.55E'],\n",
       " ['4673004',\n",
       "  '09',\n",
       "  '01',\n",
       "  '2000',\n",
       "  '70.16',\n",
       "  '32.3654',\n",
       "  'Marseille',\n",
       "  'FRA',\n",
       "  'France',\n",
       "  '42.59N',\n",
       "  '6.55E'],\n",
       " ['4673005',\n",
       "  '10',\n",
       "  '01',\n",
       "  '2000',\n",
       "  '63.8474',\n",
       "  '32.3888',\n",
       "  'Marseille',\n",
       "  'FRA',\n",
       "  'France',\n",
       "  '42.59N',\n",
       "  '6.55E'],\n",
       " ['4673006',\n",
       "  '11',\n",
       "  '01',\n",
       "  '2000',\n",
       "  '57.4718',\n",
       "  '32.2808',\n",
       "  'Marseille',\n",
       "  'FRA',\n",
       "  'France',\n",
       "  '42.59N',\n",
       "  '6.55E'],\n",
       " ['4673007',\n",
       "  '12',\n",
       "  '01',\n",
       "  '2000',\n",
       "  '56.2514',\n",
       "  '32.3744',\n",
       "  'Marseille',\n",
       "  'FRA',\n",
       "  'France',\n",
       "  '42.59N',\n",
       "  '6.55E'],\n",
       " ['4673008',\n",
       "  '01',\n",
       "  '01',\n",
       "  '2001',\n",
       "  '53.357',\n",
       "  '32.5526',\n",
       "  'Marseille',\n",
       "  'FRA',\n",
       "  'France',\n",
       "  '42.59N',\n",
       "  '6.55E'],\n",
       " ['4673009',\n",
       "  '02',\n",
       "  '01',\n",
       "  '2001',\n",
       "  '51.9314',\n",
       "  '32.495',\n",
       "  'Marseille',\n",
       "  'FRA',\n",
       "  'France',\n",
       "  '42.59N',\n",
       "  '6.55E'],\n",
       " ['4673010',\n",
       "  '03',\n",
       "  '01',\n",
       "  '2001',\n",
       "  '57.4574',\n",
       "  '32.4824',\n",
       "  'Marseille',\n",
       "  'FRA',\n",
       "  'France',\n",
       "  '42.59N',\n",
       "  '6.55E'],\n",
       " ['4673011',\n",
       "  '04',\n",
       "  '01',\n",
       "  '2001',\n",
       "  '55.9652',\n",
       "  '32.3978',\n",
       "  'Marseille',\n",
       "  'FRA',\n",
       "  'France',\n",
       "  '42.59N',\n",
       "  '6.55E'],\n",
       " ['4673012',\n",
       "  '05',\n",
       "  '01',\n",
       "  '2001',\n",
       "  '63.7142',\n",
       "  '32.3726',\n",
       "  'Marseille',\n",
       "  'FRA',\n",
       "  'France',\n",
       "  '42.59N',\n",
       "  '6.55E'],\n",
       " ['4673013',\n",
       "  '06',\n",
       "  '01',\n",
       "  '2001',\n",
       "  '68.9522',\n",
       "  '32.5634',\n",
       "  'Marseille',\n",
       "  'FRA',\n",
       "  'France',\n",
       "  '42.59N',\n",
       "  '6.55E'],\n",
       " ['4673014',\n",
       "  '07',\n",
       "  '01',\n",
       "  '2001',\n",
       "  '73.247',\n",
       "  '32.3762',\n",
       "  'Marseille',\n",
       "  'FRA',\n",
       "  'France',\n",
       "  '42.59N',\n",
       "  '6.55E'],\n",
       " ['4673015',\n",
       "  '08',\n",
       "  '01',\n",
       "  '2001',\n",
       "  '75.839',\n",
       "  '32.5022',\n",
       "  'Marseille',\n",
       "  'FRA',\n",
       "  'France',\n",
       "  '42.59N',\n",
       "  '6.55E'],\n",
       " ['4673016',\n",
       "  '09',\n",
       "  '01',\n",
       "  '2001',\n",
       "  '67.3016',\n",
       "  '32.5922',\n",
       "  'Marseille',\n",
       "  'FRA',\n",
       "  'France',\n",
       "  '42.59N',\n",
       "  '6.55E'],\n",
       " ['4673017',\n",
       "  '10',\n",
       "  '01',\n",
       "  '2001',\n",
       "  '67.7354',\n",
       "  '32.2898',\n",
       "  'Marseille',\n",
       "  'FRA',\n",
       "  'France',\n",
       "  '42.59N',\n",
       "  '6.55E'],\n",
       " ['4673018',\n",
       "  '11',\n",
       "  '01',\n",
       "  '2001',\n",
       "  '56.9516',\n",
       "  '32.5364',\n",
       "  'Marseille',\n",
       "  'FRA',\n",
       "  'France',\n",
       "  '42.59N',\n",
       "  '6.55E'],\n",
       " ['4673019',\n",
       "  '12',\n",
       "  '01',\n",
       "  '2001',\n",
       "  '49.8074',\n",
       "  '32.4176',\n",
       "  'Marseille',\n",
       "  'FRA',\n",
       "  'France',\n",
       "  '42.59N',\n",
       "  '6.55E'],\n",
       " ['4673020',\n",
       "  '01',\n",
       "  '01',\n",
       "  '2002',\n",
       "  '50.2088',\n",
       "  '32.5868',\n",
       "  'Marseille',\n",
       "  'FRA',\n",
       "  'France',\n",
       "  '42.59N',\n",
       "  '6.55E'],\n",
       " ['4673021',\n",
       "  '02',\n",
       "  '01',\n",
       "  '2002',\n",
       "  '53.4416',\n",
       "  '32.5526',\n",
       "  'Marseille',\n",
       "  'FRA',\n",
       "  'France',\n",
       "  '42.59N',\n",
       "  '6.55E'],\n",
       " ['5415607',\n",
       "  '05',\n",
       "  '01',\n",
       "  '1992',\n",
       "  '55.6556',\n",
       "  '32.6066',\n",
       "  'Odesa',\n",
       "  'UKR',\n",
       "  'Ukraine',\n",
       "  '45.81N',\n",
       "  '31.15E'],\n",
       " ['5415608',\n",
       "  '06',\n",
       "  '01',\n",
       "  '1992',\n",
       "  '64.6682',\n",
       "  '32.6768',\n",
       "  'Odesa',\n",
       "  'UKR',\n",
       "  'Ukraine',\n",
       "  '45.81N',\n",
       "  '31.15E'],\n",
       " ['5415609',\n",
       "  '07',\n",
       "  '01',\n",
       "  '1992',\n",
       "  '69.3896',\n",
       "  '32.3528',\n",
       "  'Odesa',\n",
       "  'UKR',\n",
       "  'Ukraine',\n",
       "  '45.81N',\n",
       "  '31.15E'],\n",
       " ['5415610',\n",
       "  '08',\n",
       "  '01',\n",
       "  '1992',\n",
       "  '75.5906',\n",
       "  '32.6588',\n",
       "  'Odesa',\n",
       "  'UKR',\n",
       "  'Ukraine',\n",
       "  '45.81N',\n",
       "  '31.15E'],\n",
       " ['5415611',\n",
       "  '09',\n",
       "  '01',\n",
       "  '1992',\n",
       "  '61.5002',\n",
       "  '32.3672',\n",
       "  'Odesa',\n",
       "  'UKR',\n",
       "  'Ukraine',\n",
       "  '45.81N',\n",
       "  '31.15E'],\n",
       " ['5415612',\n",
       "  '10',\n",
       "  '01',\n",
       "  '1992',\n",
       "  '54.968',\n",
       "  '32.2664',\n",
       "  'Odesa',\n",
       "  'UKR',\n",
       "  'Ukraine',\n",
       "  '45.81N',\n",
       "  '31.15E'],\n",
       " ['5415613',\n",
       "  '11',\n",
       "  '01',\n",
       "  '1992',\n",
       "  '46.6988',\n",
       "  '32.4986',\n",
       "  'Odesa',\n",
       "  'UKR',\n",
       "  'Ukraine',\n",
       "  '45.81N',\n",
       "  '31.15E'],\n",
       " ['5415614',\n",
       "  '12',\n",
       "  '01',\n",
       "  '1992',\n",
       "  '35.1968',\n",
       "  '32.7056',\n",
       "  'Odesa',\n",
       "  'UKR',\n",
       "  'Ukraine',\n",
       "  '45.81N',\n",
       "  '31.15E'],\n",
       " ['5415615',\n",
       "  '01',\n",
       "  '01',\n",
       "  '1993',\n",
       "  '35.8952',\n",
       "  '32.5184',\n",
       "  'Odesa',\n",
       "  'UKR',\n",
       "  'Ukraine',\n",
       "  '45.81N',\n",
       "  '31.15E'],\n",
       " ['5415616',\n",
       "  '02',\n",
       "  '01',\n",
       "  '1993',\n",
       "  '32.8658',\n",
       "  '32.5094',\n",
       "  'Odesa',\n",
       "  'UKR',\n",
       "  'Ukraine',\n",
       "  '45.81N',\n",
       "  '31.15E'],\n",
       " ['5415617',\n",
       "  '03',\n",
       "  '01',\n",
       "  '1993',\n",
       "  '37.0292',\n",
       "  '32.6966',\n",
       "  'Odesa',\n",
       "  'UKR',\n",
       "  'Ukraine',\n",
       "  '45.81N',\n",
       "  '31.15E'],\n",
       " ['5415618',\n",
       "  '04',\n",
       "  '01',\n",
       "  '1993',\n",
       "  '46.4666',\n",
       "  '32.2898',\n",
       "  'Odesa',\n",
       "  'UKR',\n",
       "  'Ukraine',\n",
       "  '45.81N',\n",
       "  '31.15E'],\n",
       " ['5415619',\n",
       "  '05',\n",
       "  '01',\n",
       "  '1993',\n",
       "  '58.0208',\n",
       "  '32.531',\n",
       "  'Odesa',\n",
       "  'UKR',\n",
       "  'Ukraine',\n",
       "  '45.81N',\n",
       "  '31.15E'],\n",
       " ['5415620',\n",
       "  '06',\n",
       "  '01',\n",
       "  '1993',\n",
       "  '64.085',\n",
       "  '32.405',\n",
       "  'Odesa',\n",
       "  'UKR',\n",
       "  'Ukraine',\n",
       "  '45.81N',\n",
       "  '31.15E'],\n",
       " ['5415621',\n",
       "  '07',\n",
       "  '01',\n",
       "  '1993',\n",
       "  '67.199',\n",
       "  '32.6606',\n",
       "  'Odesa',\n",
       "  'UKR',\n",
       "  'Ukraine',\n",
       "  '45.81N',\n",
       "  '31.15E'],\n",
       " ['5415622',\n",
       "  '08',\n",
       "  '01',\n",
       "  '1993',\n",
       "  '69.8432',\n",
       "  '32.6696',\n",
       "  'Odesa',\n",
       "  'UKR',\n",
       "  'Ukraine',\n",
       "  '45.81N',\n",
       "  '31.15E'],\n",
       " ['5415623',\n",
       "  '09',\n",
       "  '01',\n",
       "  '1993',\n",
       "  '61.1258',\n",
       "  '32.2754',\n",
       "  'Odesa',\n",
       "  'UKR',\n",
       "  'Ukraine',\n",
       "  '45.81N',\n",
       "  '31.15E'],\n",
       " ['5415624',\n",
       "  '10',\n",
       "  '01',\n",
       "  '1993',\n",
       "  '55.3388',\n",
       "  '32.5886',\n",
       "  'Odesa',\n",
       "  'UKR',\n",
       "  'Ukraine',\n",
       "  '45.81N',\n",
       "  '31.15E'],\n",
       " ['5415625',\n",
       "  '11',\n",
       "  '01',\n",
       "  '1993',\n",
       "  '34.8296',\n",
       "  '32.6714',\n",
       "  'Odesa',\n",
       "  'UKR',\n",
       "  'Ukraine',\n",
       "  '45.81N',\n",
       "  '31.15E'],\n",
       " ['5415626',\n",
       "  '12',\n",
       "  '01',\n",
       "  '1993',\n",
       "  '42.089',\n",
       "  '32.3438',\n",
       "  'Odesa',\n",
       "  'UKR',\n",
       "  'Ukraine',\n",
       "  '45.81N',\n",
       "  '31.15E'],\n",
       " ['5415627',\n",
       "  '01',\n",
       "  '01',\n",
       "  '1994',\n",
       "  '40.8704',\n",
       "  '32.657',\n",
       "  'Odesa',\n",
       "  'UKR',\n",
       "  'Ukraine',\n",
       "  '45.81N',\n",
       "  '31.15E'],\n",
       " ['5415628',\n",
       "  '02',\n",
       "  '01',\n",
       "  '1994',\n",
       "  '31.9604',\n",
       "  '32.8352',\n",
       "  'Odesa',\n",
       "  'UKR',\n",
       "  'Ukraine',\n",
       "  '45.81N',\n",
       "  '31.15E'],\n",
       " ['5415629',\n",
       "  '03',\n",
       "  '01',\n",
       "  '1994',\n",
       "  '40.4924',\n",
       "  '32.3762',\n",
       "  'Odesa',\n",
       "  'UKR',\n",
       "  'Ukraine',\n",
       "  '45.81N',\n",
       "  '31.15E'],\n",
       " ['5415630',\n",
       "  '04',\n",
       "  '01',\n",
       "  '1994',\n",
       "  '52.1204',\n",
       "  '32.4446',\n",
       "  'Odesa',\n",
       "  'UKR',\n",
       "  'Ukraine',\n",
       "  '45.81N',\n",
       "  '31.15E'],\n",
       " ['5415631',\n",
       "  '05',\n",
       "  '01',\n",
       "  '1994',\n",
       "  '58.3646',\n",
       "  '32.6948',\n",
       "  'Odesa',\n",
       "  'UKR',\n",
       "  'Ukraine',\n",
       "  '45.81N',\n",
       "  '31.15E'],\n",
       " ['5415632',\n",
       "  '06',\n",
       "  '01',\n",
       "  '1994',\n",
       "  '63.5756',\n",
       "  '32.6012',\n",
       "  'Odesa',\n",
       "  'UKR',\n",
       "  'Ukraine',\n",
       "  '45.81N',\n",
       "  '31.15E'],\n",
       " ['5415633',\n",
       "  '07',\n",
       "  '01',\n",
       "  '1994',\n",
       "  '72.815',\n",
       "  '32.6678',\n",
       "  'Odesa',\n",
       "  'UKR',\n",
       "  'Ukraine',\n",
       "  '45.81N',\n",
       "  '31.15E'],\n",
       " ['5415634',\n",
       "  '08',\n",
       "  '01',\n",
       "  '1994',\n",
       "  '71.8718',\n",
       "  '32.4158',\n",
       "  'Odesa',\n",
       "  'UKR',\n",
       "  'Ukraine',\n",
       "  '45.81N',\n",
       "  '31.15E'],\n",
       " ['5415635',\n",
       "  '09',\n",
       "  '01',\n",
       "  '1994',\n",
       "  '70.5326',\n",
       "  '32.63',\n",
       "  'Odesa',\n",
       "  'UKR',\n",
       "  'Ukraine',\n",
       "  '45.81N',\n",
       "  '31.15E'],\n",
       " ['5415636',\n",
       "  '10',\n",
       "  '01',\n",
       "  '1994',\n",
       "  '56.4602',\n",
       "  '32.4896',\n",
       "  'Odesa',\n",
       "  'UKR',\n",
       "  'Ukraine',\n",
       "  '45.81N',\n",
       "  '31.15E'],\n",
       " ['5415637',\n",
       "  '11',\n",
       "  '01',\n",
       "  '1994',\n",
       "  '43.9088',\n",
       "  '32.549',\n",
       "  'Odesa',\n",
       "  'UKR',\n",
       "  'Ukraine',\n",
       "  '45.81N',\n",
       "  '31.15E'],\n",
       " ['5415638',\n",
       "  '12',\n",
       "  '01',\n",
       "  '1994',\n",
       "  '37.5998',\n",
       "  '32.7578',\n",
       "  'Odesa',\n",
       "  'UKR',\n",
       "  'Ukraine',\n",
       "  '45.81N',\n",
       "  '31.15E'],\n",
       " ['5415639',\n",
       "  '01',\n",
       "  '01',\n",
       "  '1995',\n",
       "  '34.3958',\n",
       "  '32.7128',\n",
       "  'Odesa',\n",
       "  'UKR',\n",
       "  'Ukraine',\n",
       "  '45.81N',\n",
       "  '31.15E'],\n",
       " ['5415640',\n",
       "  '02',\n",
       "  '01',\n",
       "  '1995',\n",
       "  '41.5544',\n",
       "  '32.3204',\n",
       "  'Odesa',\n",
       "  'UKR',\n",
       "  'Ukraine',\n",
       "  '45.81N',\n",
       "  '31.15E'],\n",
       " ['5415641',\n",
       "  '03',\n",
       "  '01',\n",
       "  '1995',\n",
       "  '41.7398',\n",
       "  '32.3258',\n",
       "  'Odesa',\n",
       "  'UKR',\n",
       "  'Ukraine',\n",
       "  '45.81N',\n",
       "  '31.15E'],\n",
       " ['5415642',\n",
       "  '04',\n",
       "  '01',\n",
       "  '1995',\n",
       "  '48.3116',\n",
       "  '32.7722',\n",
       "  'Odesa',\n",
       "  'UKR',\n",
       "  'Ukraine',\n",
       "  '45.81N',\n",
       "  '31.15E'],\n",
       " ['5699290',\n",
       "  '09',\n",
       "  '01',\n",
       "  '1744',\n",
       "  '57.875',\n",
       "  '35.0258',\n",
       "  'Paris',\n",
       "  'FRA',\n",
       "  'France',\n",
       "  '49.03N',\n",
       "  '2.45E'],\n",
       " ['5699291',\n",
       "  '10',\n",
       "  '01',\n",
       "  '1744',\n",
       "  '50.8766',\n",
       "  '34.9826',\n",
       "  'Paris',\n",
       "  'FRA',\n",
       "  'France',\n",
       "  '49.03N',\n",
       "  '2.45E'],\n",
       " ['5699292',\n",
       "  '11',\n",
       "  '01',\n",
       "  '1744',\n",
       "  '44.1716',\n",
       "  '34.8368',\n",
       "  'Paris',\n",
       "  'FRA',\n",
       "  'France',\n",
       "  '49.03N',\n",
       "  '2.45E'],\n",
       " ['5699293',\n",
       "  '12',\n",
       "  '01',\n",
       "  '1744',\n",
       "  '38.5196',\n",
       "  '35.3804',\n",
       "  'Paris',\n",
       "  'FRA',\n",
       "  'France',\n",
       "  '49.03N',\n",
       "  '2.45E'],\n",
       " ['5699294',\n",
       "  '01',\n",
       "  '01',\n",
       "  '1745',\n",
       "  '35.519',\n",
       "  '35.492',\n",
       "  'Paris',\n",
       "  'FRA',\n",
       "  'France',\n",
       "  '49.03N',\n",
       "  '2.45E'],\n",
       " ['5699295',\n",
       "  '02',\n",
       "  '01',\n",
       "  '1745',\n",
       "  '36.5288',\n",
       "  '35.1716',\n",
       "  'Paris',\n",
       "  'FRA',\n",
       "  'France',\n",
       "  '49.03N',\n",
       "  '2.45E'],\n",
       " ['5699296',\n",
       "  '03',\n",
       "  '01',\n",
       "  '1745',\n",
       "  '41.3816',\n",
       "  '34.5812',\n",
       "  'Paris',\n",
       "  'FRA',\n",
       "  'France',\n",
       "  '49.03N',\n",
       "  '2.45E'],\n",
       " ['5699297',\n",
       "  '04',\n",
       "  '01',\n",
       "  '1745',\n",
       "  '48.6194',\n",
       "  '34.5848',\n",
       "  'Paris',\n",
       "  'FRA',\n",
       "  'France',\n",
       "  '49.03N',\n",
       "  '2.45E'],\n",
       " ['5699387',\n",
       "  '10',\n",
       "  '01',\n",
       "  '1752',\n",
       "  '50.4338',\n",
       "  '34.781',\n",
       "  'Paris',\n",
       "  'FRA',\n",
       "  'France',\n",
       "  '49.03N',\n",
       "  '2.45E'],\n",
       " ['5699388',\n",
       "  '11',\n",
       "  '01',\n",
       "  '1752',\n",
       "  '45.473',\n",
       "  '34.7018',\n",
       "  'Paris',\n",
       "  'FRA',\n",
       "  'France',\n",
       "  '49.03N',\n",
       "  '2.45E'],\n",
       " ['5699389',\n",
       "  '12',\n",
       "  '01',\n",
       "  '1752',\n",
       "  '40.928',\n",
       "  '35.0924',\n",
       "  'Paris',\n",
       "  'FRA',\n",
       "  'France',\n",
       "  '49.03N',\n",
       "  '2.45E'],\n",
       " ['5699390',\n",
       "  '01',\n",
       "  '01',\n",
       "  '1753',\n",
       "  '31.9046',\n",
       "  '46.1282',\n",
       "  'Paris',\n",
       "  'FRA',\n",
       "  'France',\n",
       "  '49.03N',\n",
       "  '2.45E'],\n",
       " ['5699391',\n",
       "  '02',\n",
       "  '01',\n",
       "  '1753',\n",
       "  '38.7698',\n",
       "  '38.1902',\n",
       "  'Paris',\n",
       "  'FRA',\n",
       "  'France',\n",
       "  '49.03N',\n",
       "  '2.45E'],\n",
       " ['5699392',\n",
       "  '03',\n",
       "  '01',\n",
       "  '1753',\n",
       "  '46.3352',\n",
       "  '38.6996',\n",
       "  'Paris',\n",
       "  'FRA',\n",
       "  'France',\n",
       "  '49.03N',\n",
       "  '2.45E'],\n",
       " ['5699393',\n",
       "  '04',\n",
       "  '01',\n",
       "  '1753',\n",
       "  '48.7526',\n",
       "  '45.7016',\n",
       "  'Paris',\n",
       "  'FRA',\n",
       "  'France',\n",
       "  '49.03N',\n",
       "  '2.45E'],\n",
       " ['5699394',\n",
       "  '05',\n",
       "  '01',\n",
       "  '1753',\n",
       "  '56.5736',\n",
       "  '35.5586',\n",
       "  'Paris',\n",
       "  'FRA',\n",
       "  'France',\n",
       "  '49.03N',\n",
       "  '2.45E'],\n",
       " ['7178147',\n",
       "  '11',\n",
       "  '01',\n",
       "  '1805',\n",
       "  '36.0356',\n",
       "  '36.8618',\n",
       "  'Stockholm',\n",
       "  'SWE',\n",
       "  'Sweden',\n",
       "  '58.66N',\n",
       "  '18.46E'],\n",
       " ['7178148',\n",
       "  '12',\n",
       "  '01',\n",
       "  '1805',\n",
       "  '32.747',\n",
       "  '36.6548',\n",
       "  'Stockholm',\n",
       "  'SWE',\n",
       "  'Sweden',\n",
       "  '58.66N',\n",
       "  '18.46E'],\n",
       " ['7178149',\n",
       "  '01',\n",
       "  '01',\n",
       "  '1806',\n",
       "  '32.7236',\n",
       "  '36.8402',\n",
       "  'Stockholm',\n",
       "  'SWE',\n",
       "  'Sweden',\n",
       "  '58.66N',\n",
       "  '18.46E'],\n",
       " ['7178150',\n",
       "  '02',\n",
       "  '01',\n",
       "  '1806',\n",
       "  '27.2984',\n",
       "  '40.3718',\n",
       "  'Stockholm',\n",
       "  'SWE',\n",
       "  'Sweden',\n",
       "  '58.66N',\n",
       "  '18.46E'],\n",
       " ['7178151',\n",
       "  '03',\n",
       "  '01',\n",
       "  '1806',\n",
       "  '27.3596',\n",
       "  '38.2982',\n",
       "  'Stockholm',\n",
       "  'SWE',\n",
       "  'Sweden',\n",
       "  '58.66N',\n",
       "  '18.46E'],\n",
       " ['7178152',\n",
       "  '04',\n",
       "  '01',\n",
       "  '1806',\n",
       "  '32.7884',\n",
       "  '40.5896',\n",
       "  'Stockholm',\n",
       "  'SWE',\n",
       "  'Sweden',\n",
       "  '58.66N',\n",
       "  '18.46E'],\n",
       " ['7178153',\n",
       "  '05',\n",
       "  '01',\n",
       "  '1806',\n",
       "  '45.8042',\n",
       "  '36.2138',\n",
       "  'Stockholm',\n",
       "  'SWE',\n",
       "  'Sweden',\n",
       "  '58.66N',\n",
       "  '18.46E'],\n",
       " ['7178154',\n",
       "  '06',\n",
       "  '01',\n",
       "  '1806',\n",
       "  '49.6472',\n",
       "  '36.1472',\n",
       "  'Stockholm',\n",
       "  'SWE',\n",
       "  'Sweden',\n",
       "  '58.66N',\n",
       "  '18.46E'],\n",
       " ['7178155',\n",
       "  '07',\n",
       "  '01',\n",
       "  '1806',\n",
       "  '57.5474',\n",
       "  '35.3408',\n",
       "  'Stockholm',\n",
       "  'SWE',\n",
       "  'Sweden',\n",
       "  '58.66N',\n",
       "  '18.46E'],\n",
       " ['7178156',\n",
       "  '08',\n",
       "  '01',\n",
       "  '1806',\n",
       "  '62.3408',\n",
       "  '36.5684',\n",
       "  'Stockholm',\n",
       "  'SWE',\n",
       "  'Sweden',\n",
       "  '58.66N',\n",
       "  '18.46E'],\n",
       " ['7178157',\n",
       "  '09',\n",
       "  '01',\n",
       "  '1806',\n",
       "  '58.3322',\n",
       "  '37.9634',\n",
       "  'Stockholm',\n",
       "  'SWE',\n",
       "  'Sweden',\n",
       "  '58.66N',\n",
       "  '18.46E'],\n",
       " ['7178158',\n",
       "  '10',\n",
       "  '01',\n",
       "  '1806',\n",
       "  '45.365',\n",
       "  '33.7046',\n",
       "  'Stockholm',\n",
       "  'SWE',\n",
       "  'Sweden',\n",
       "  '58.66N',\n",
       "  '18.46E'],\n",
       " ['7178159',\n",
       "  '11',\n",
       "  '01',\n",
       "  '1806',\n",
       "  '39.6698',\n",
       "  '34.3526',\n",
       "  'Stockholm',\n",
       "  'SWE',\n",
       "  'Sweden',\n",
       "  '58.66N',\n",
       "  '18.46E'],\n",
       " ['7178160',\n",
       "  '12',\n",
       "  '01',\n",
       "  '1806',\n",
       "  '38.3702',\n",
       "  '38.3504',\n",
       "  'Stockholm',\n",
       "  'SWE',\n",
       "  'Sweden',\n",
       "  '58.66N',\n",
       "  '18.46E'],\n",
       " ['7178161',\n",
       "  '01',\n",
       "  '01',\n",
       "  '1807',\n",
       "  '29.471',\n",
       "  '37.6736',\n",
       "  'Stockholm',\n",
       "  'SWE',\n",
       "  'Sweden',\n",
       "  '58.66N',\n",
       "  '18.46E'],\n",
       " ['7178162',\n",
       "  '02',\n",
       "  '01',\n",
       "  '1807',\n",
       "  '31.6976',\n",
       "  '42.3986',\n",
       "  'Stockholm',\n",
       "  'SWE',\n",
       "  'Sweden',\n",
       "  '58.66N',\n",
       "  '18.46E'],\n",
       " ['7178163',\n",
       "  '03',\n",
       "  '01',\n",
       "  '1807',\n",
       "  '28.3712',\n",
       "  '41.423',\n",
       "  'Stockholm',\n",
       "  'SWE',\n",
       "  'Sweden',\n",
       "  '58.66N',\n",
       "  '18.46E'],\n",
       " ['7178164',\n",
       "  '04',\n",
       "  '01',\n",
       "  '1807',\n",
       "  '32.5076',\n",
       "  '37.3694',\n",
       "  'Stockholm',\n",
       "  'SWE',\n",
       "  'Sweden',\n",
       "  '58.66N',\n",
       "  '18.46E'],\n",
       " ['7178165',\n",
       "  '05',\n",
       "  '01',\n",
       "  '1807',\n",
       "  '43.6172',\n",
       "  '35.4362',\n",
       "  'Stockholm',\n",
       "  'SWE',\n",
       "  'Sweden',\n",
       "  '58.66N',\n",
       "  '18.46E'],\n",
       " ['7178166',\n",
       "  '06',\n",
       "  '01',\n",
       "  '1807',\n",
       "  '53.5082',\n",
       "  '34.5074',\n",
       "  'Stockholm',\n",
       "  'SWE',\n",
       "  'Sweden',\n",
       "  '58.66N',\n",
       "  '18.46E'],\n",
       " ['7178167',\n",
       "  '07',\n",
       "  '01',\n",
       "  '1807',\n",
       "  '62.573',\n",
       "  '39.6014',\n",
       "  'Stockholm',\n",
       "  'SWE',\n",
       "  'Sweden',\n",
       "  '58.66N',\n",
       "  '18.46E'],\n",
       " ['7178168',\n",
       "  '08',\n",
       "  '01',\n",
       "  '1807',\n",
       "  '66.3008',\n",
       "  '37.0472',\n",
       "  'Stockholm',\n",
       "  'SWE',\n",
       "  'Sweden',\n",
       "  '58.66N',\n",
       "  '18.46E'],\n",
       " ['7178169',\n",
       "  '09',\n",
       "  '01',\n",
       "  '1807',\n",
       "  '51.3932',\n",
       "  '34.3868',\n",
       "  'Stockholm',\n",
       "  'SWE',\n",
       "  'Sweden',\n",
       "  '58.66N',\n",
       "  '18.46E'],\n",
       " ['7178170',\n",
       "  '10',\n",
       "  '01',\n",
       "  '1807',\n",
       "  '43.7504',\n",
       "  '35.3138',\n",
       "  'Stockholm',\n",
       "  'SWE',\n",
       "  'Sweden',\n",
       "  '58.66N',\n",
       "  '18.46E'],\n",
       " ['7178171',\n",
       "  '11',\n",
       "  '01',\n",
       "  '1807',\n",
       "  '39.4178',\n",
       "  '37.8986',\n",
       "  'Stockholm',\n",
       "  'SWE',\n",
       "  'Sweden',\n",
       "  '58.66N',\n",
       "  '18.46E'],\n",
       " ['7178172',\n",
       "  '12',\n",
       "  '01',\n",
       "  '1807',\n",
       "  '35.5406',\n",
       "  '36.734',\n",
       "  'Stockholm',\n",
       "  'SWE',\n",
       "  'Sweden',\n",
       "  '58.66N',\n",
       "  '18.46E']]"
      ]
     },
     "execution_count": 285,
     "metadata": {},
     "output_type": "execute_result"
    }
   ],
   "source": [
    "tabela_lida"
   ]
  },
  {
   "cell_type": "code",
   "execution_count": 264,
   "metadata": {
    "ExecuteTime": {
     "end_time": "2021-12-01T00:59:23.443176Z",
     "start_time": "2021-12-01T00:59:23.411197Z"
    }
   },
   "outputs": [
    {
     "data": {
      "text/plain": [
       "'record_id,month,day,year,AverageTemperatureFahr,AverageTemperatureUncertaintyFahr,City,country_id,Country,Latitude,Longitude\\n'"
      ]
     },
     "execution_count": 264,
     "metadata": {},
     "output_type": "execute_result"
    }
   ],
   "source": [
    "with open(\"./arquivos/temperature.csv\", \"r\", encoding=\"utf-8\") as f:\n",
    "    \n",
    "    primeira_linha = f.readline()\n",
    "    \n",
    "primeira_linha"
   ]
  },
  {
   "cell_type": "code",
   "execution_count": 265,
   "metadata": {
    "ExecuteTime": {
     "end_time": "2021-12-01T00:59:27.154071Z",
     "start_time": "2021-12-01T00:59:27.108095Z"
    }
   },
   "outputs": [],
   "source": [
    "df = pd.read_csv(\"./arquivos/temperature.csv\", sep=\",\")"
   ]
  },
  {
   "cell_type": "code",
   "execution_count": 266,
   "metadata": {
    "ExecuteTime": {
     "end_time": "2021-12-01T00:59:27.480359Z",
     "start_time": "2021-12-01T00:59:27.431387Z"
    }
   },
   "outputs": [
    {
     "data": {
      "text/html": [
       "<div>\n",
       "<style scoped>\n",
       "    .dataframe tbody tr th:only-of-type {\n",
       "        vertical-align: middle;\n",
       "    }\n",
       "\n",
       "    .dataframe tbody tr th {\n",
       "        vertical-align: top;\n",
       "    }\n",
       "\n",
       "    .dataframe thead th {\n",
       "        text-align: right;\n",
       "    }\n",
       "</style>\n",
       "<table border=\"1\" class=\"dataframe\">\n",
       "  <thead>\n",
       "    <tr style=\"text-align: right;\">\n",
       "      <th></th>\n",
       "      <th>record_id</th>\n",
       "      <th>month</th>\n",
       "      <th>day</th>\n",
       "      <th>year</th>\n",
       "      <th>AverageTemperatureFahr</th>\n",
       "      <th>AverageTemperatureUncertaintyFahr</th>\n",
       "      <th>City</th>\n",
       "      <th>country_id</th>\n",
       "      <th>Country</th>\n",
       "      <th>Latitude</th>\n",
       "      <th>Longitude</th>\n",
       "    </tr>\n",
       "  </thead>\n",
       "  <tbody>\n",
       "    <tr>\n",
       "      <th>0</th>\n",
       "      <td>3779550</td>\n",
       "      <td>4</td>\n",
       "      <td>1</td>\n",
       "      <td>1854</td>\n",
       "      <td>42.0674</td>\n",
       "      <td>33.1142</td>\n",
       "      <td>Kherson</td>\n",
       "      <td>UKR</td>\n",
       "      <td>Ukraine</td>\n",
       "      <td>47.42N</td>\n",
       "      <td>31.97E</td>\n",
       "    </tr>\n",
       "    <tr>\n",
       "      <th>1</th>\n",
       "      <td>3779551</td>\n",
       "      <td>5</td>\n",
       "      <td>1</td>\n",
       "      <td>1854</td>\n",
       "      <td>62.6540</td>\n",
       "      <td>33.2888</td>\n",
       "      <td>Kherson</td>\n",
       "      <td>UKR</td>\n",
       "      <td>Ukraine</td>\n",
       "      <td>47.42N</td>\n",
       "      <td>31.97E</td>\n",
       "    </tr>\n",
       "    <tr>\n",
       "      <th>2</th>\n",
       "      <td>3779552</td>\n",
       "      <td>6</td>\n",
       "      <td>1</td>\n",
       "      <td>1854</td>\n",
       "      <td>65.8166</td>\n",
       "      <td>35.0960</td>\n",
       "      <td>Kherson</td>\n",
       "      <td>UKR</td>\n",
       "      <td>Ukraine</td>\n",
       "      <td>47.42N</td>\n",
       "      <td>31.97E</td>\n",
       "    </tr>\n",
       "    <tr>\n",
       "      <th>3</th>\n",
       "      <td>3779553</td>\n",
       "      <td>7</td>\n",
       "      <td>1</td>\n",
       "      <td>1854</td>\n",
       "      <td>72.8366</td>\n",
       "      <td>34.0376</td>\n",
       "      <td>Kherson</td>\n",
       "      <td>UKR</td>\n",
       "      <td>Ukraine</td>\n",
       "      <td>47.42N</td>\n",
       "      <td>31.97E</td>\n",
       "    </tr>\n",
       "    <tr>\n",
       "      <th>4</th>\n",
       "      <td>3779554</td>\n",
       "      <td>8</td>\n",
       "      <td>1</td>\n",
       "      <td>1854</td>\n",
       "      <td>69.1466</td>\n",
       "      <td>34.2950</td>\n",
       "      <td>Kherson</td>\n",
       "      <td>UKR</td>\n",
       "      <td>Ukraine</td>\n",
       "      <td>47.42N</td>\n",
       "      <td>31.97E</td>\n",
       "    </tr>\n",
       "    <tr>\n",
       "      <th>...</th>\n",
       "      <td>...</td>\n",
       "      <td>...</td>\n",
       "      <td>...</td>\n",
       "      <td>...</td>\n",
       "      <td>...</td>\n",
       "      <td>...</td>\n",
       "      <td>...</td>\n",
       "      <td>...</td>\n",
       "      <td>...</td>\n",
       "      <td>...</td>\n",
       "      <td>...</td>\n",
       "    </tr>\n",
       "    <tr>\n",
       "      <th>204</th>\n",
       "      <td>7178168</td>\n",
       "      <td>8</td>\n",
       "      <td>1</td>\n",
       "      <td>1807</td>\n",
       "      <td>66.3008</td>\n",
       "      <td>37.0472</td>\n",
       "      <td>Stockholm</td>\n",
       "      <td>SWE</td>\n",
       "      <td>Sweden</td>\n",
       "      <td>58.66N</td>\n",
       "      <td>18.46E</td>\n",
       "    </tr>\n",
       "    <tr>\n",
       "      <th>205</th>\n",
       "      <td>7178169</td>\n",
       "      <td>9</td>\n",
       "      <td>1</td>\n",
       "      <td>1807</td>\n",
       "      <td>51.3932</td>\n",
       "      <td>34.3868</td>\n",
       "      <td>Stockholm</td>\n",
       "      <td>SWE</td>\n",
       "      <td>Sweden</td>\n",
       "      <td>58.66N</td>\n",
       "      <td>18.46E</td>\n",
       "    </tr>\n",
       "    <tr>\n",
       "      <th>206</th>\n",
       "      <td>7178170</td>\n",
       "      <td>10</td>\n",
       "      <td>1</td>\n",
       "      <td>1807</td>\n",
       "      <td>43.7504</td>\n",
       "      <td>35.3138</td>\n",
       "      <td>Stockholm</td>\n",
       "      <td>SWE</td>\n",
       "      <td>Sweden</td>\n",
       "      <td>58.66N</td>\n",
       "      <td>18.46E</td>\n",
       "    </tr>\n",
       "    <tr>\n",
       "      <th>207</th>\n",
       "      <td>7178171</td>\n",
       "      <td>11</td>\n",
       "      <td>1</td>\n",
       "      <td>1807</td>\n",
       "      <td>39.4178</td>\n",
       "      <td>37.8986</td>\n",
       "      <td>Stockholm</td>\n",
       "      <td>SWE</td>\n",
       "      <td>Sweden</td>\n",
       "      <td>58.66N</td>\n",
       "      <td>18.46E</td>\n",
       "    </tr>\n",
       "    <tr>\n",
       "      <th>208</th>\n",
       "      <td>7178172</td>\n",
       "      <td>12</td>\n",
       "      <td>1</td>\n",
       "      <td>1807</td>\n",
       "      <td>35.5406</td>\n",
       "      <td>36.7340</td>\n",
       "      <td>Stockholm</td>\n",
       "      <td>SWE</td>\n",
       "      <td>Sweden</td>\n",
       "      <td>58.66N</td>\n",
       "      <td>18.46E</td>\n",
       "    </tr>\n",
       "  </tbody>\n",
       "</table>\n",
       "<p>209 rows × 11 columns</p>\n",
       "</div>"
      ],
      "text/plain": [
       "     record_id  month  day  year  AverageTemperatureFahr  \\\n",
       "0      3779550      4    1  1854                 42.0674   \n",
       "1      3779551      5    1  1854                 62.6540   \n",
       "2      3779552      6    1  1854                 65.8166   \n",
       "3      3779553      7    1  1854                 72.8366   \n",
       "4      3779554      8    1  1854                 69.1466   \n",
       "..         ...    ...  ...   ...                     ...   \n",
       "204    7178168      8    1  1807                 66.3008   \n",
       "205    7178169      9    1  1807                 51.3932   \n",
       "206    7178170     10    1  1807                 43.7504   \n",
       "207    7178171     11    1  1807                 39.4178   \n",
       "208    7178172     12    1  1807                 35.5406   \n",
       "\n",
       "     AverageTemperatureUncertaintyFahr       City country_id  Country  \\\n",
       "0                              33.1142    Kherson        UKR  Ukraine   \n",
       "1                              33.2888    Kherson        UKR  Ukraine   \n",
       "2                              35.0960    Kherson        UKR  Ukraine   \n",
       "3                              34.0376    Kherson        UKR  Ukraine   \n",
       "4                              34.2950    Kherson        UKR  Ukraine   \n",
       "..                                 ...        ...        ...      ...   \n",
       "204                            37.0472  Stockholm        SWE   Sweden   \n",
       "205                            34.3868  Stockholm        SWE   Sweden   \n",
       "206                            35.3138  Stockholm        SWE   Sweden   \n",
       "207                            37.8986  Stockholm        SWE   Sweden   \n",
       "208                            36.7340  Stockholm        SWE   Sweden   \n",
       "\n",
       "    Latitude Longitude  \n",
       "0     47.42N    31.97E  \n",
       "1     47.42N    31.97E  \n",
       "2     47.42N    31.97E  \n",
       "3     47.42N    31.97E  \n",
       "4     47.42N    31.97E  \n",
       "..       ...       ...  \n",
       "204   58.66N    18.46E  \n",
       "205   58.66N    18.46E  \n",
       "206   58.66N    18.46E  \n",
       "207   58.66N    18.46E  \n",
       "208   58.66N    18.46E  \n",
       "\n",
       "[209 rows x 11 columns]"
      ]
     },
     "execution_count": 266,
     "metadata": {},
     "output_type": "execute_result"
    }
   ],
   "source": [
    "df"
   ]
  },
  {
   "cell_type": "code",
   "execution_count": 267,
   "metadata": {
    "ExecuteTime": {
     "end_time": "2021-12-01T00:59:51.629004Z",
     "start_time": "2021-12-01T00:59:51.409052Z"
    }
   },
   "outputs": [
    {
     "data": {
      "text/html": [
       "<div>\n",
       "<style scoped>\n",
       "    .dataframe tbody tr th:only-of-type {\n",
       "        vertical-align: middle;\n",
       "    }\n",
       "\n",
       "    .dataframe tbody tr th {\n",
       "        vertical-align: top;\n",
       "    }\n",
       "\n",
       "    .dataframe thead th {\n",
       "        text-align: right;\n",
       "    }\n",
       "</style>\n",
       "<table border=\"1\" class=\"dataframe\">\n",
       "  <thead>\n",
       "    <tr style=\"text-align: right;\">\n",
       "      <th></th>\n",
       "      <th>record_id</th>\n",
       "      <th>month</th>\n",
       "      <th>day</th>\n",
       "      <th>year</th>\n",
       "      <th>AverageTemperatureFahr</th>\n",
       "      <th>AverageTemperatureUncertaintyFahr</th>\n",
       "    </tr>\n",
       "  </thead>\n",
       "  <tbody>\n",
       "    <tr>\n",
       "      <th>count</th>\n",
       "      <td>2.090000e+02</td>\n",
       "      <td>209.000000</td>\n",
       "      <td>209.0</td>\n",
       "      <td>209.000000</td>\n",
       "      <td>209.000000</td>\n",
       "      <td>209.000000</td>\n",
       "    </tr>\n",
       "    <tr>\n",
       "      <th>mean</th>\n",
       "      <td>4.313127e+06</td>\n",
       "      <td>6.488038</td>\n",
       "      <td>1.0</td>\n",
       "      <td>1887.090909</td>\n",
       "      <td>50.799751</td>\n",
       "      <td>34.803194</td>\n",
       "    </tr>\n",
       "    <tr>\n",
       "      <th>std</th>\n",
       "      <td>1.983425e+06</td>\n",
       "      <td>3.572208</td>\n",
       "      <td>0.0</td>\n",
       "      <td>91.403619</td>\n",
       "      <td>14.068438</td>\n",
       "      <td>2.968804</td>\n",
       "    </tr>\n",
       "    <tr>\n",
       "      <th>min</th>\n",
       "      <td>4.743810e+05</td>\n",
       "      <td>1.000000</td>\n",
       "      <td>1.0</td>\n",
       "      <td>1744.000000</td>\n",
       "      <td>13.497800</td>\n",
       "      <td>32.266400</td>\n",
       "    </tr>\n",
       "    <tr>\n",
       "      <th>25%</th>\n",
       "      <td>3.817593e+06</td>\n",
       "      <td>3.000000</td>\n",
       "      <td>1.0</td>\n",
       "      <td>1806.000000</td>\n",
       "      <td>40.434800</td>\n",
       "      <td>32.563400</td>\n",
       "    </tr>\n",
       "    <tr>\n",
       "      <th>50%</th>\n",
       "      <td>4.672995e+06</td>\n",
       "      <td>6.000000</td>\n",
       "      <td>1.0</td>\n",
       "      <td>1855.000000</td>\n",
       "      <td>53.351600</td>\n",
       "      <td>33.834200</td>\n",
       "    </tr>\n",
       "    <tr>\n",
       "      <th>75%</th>\n",
       "      <td>5.415632e+06</td>\n",
       "      <td>10.000000</td>\n",
       "      <td>1.0</td>\n",
       "      <td>1994.000000</td>\n",
       "      <td>61.584800</td>\n",
       "      <td>35.924000</td>\n",
       "    </tr>\n",
       "    <tr>\n",
       "      <th>max</th>\n",
       "      <td>7.178172e+06</td>\n",
       "      <td>12.000000</td>\n",
       "      <td>1.0</td>\n",
       "      <td>2002.000000</td>\n",
       "      <td>75.839000</td>\n",
       "      <td>46.565600</td>\n",
       "    </tr>\n",
       "  </tbody>\n",
       "</table>\n",
       "</div>"
      ],
      "text/plain": [
       "          record_id       month    day         year  AverageTemperatureFahr  \\\n",
       "count  2.090000e+02  209.000000  209.0   209.000000              209.000000   \n",
       "mean   4.313127e+06    6.488038    1.0  1887.090909               50.799751   \n",
       "std    1.983425e+06    3.572208    0.0    91.403619               14.068438   \n",
       "min    4.743810e+05    1.000000    1.0  1744.000000               13.497800   \n",
       "25%    3.817593e+06    3.000000    1.0  1806.000000               40.434800   \n",
       "50%    4.672995e+06    6.000000    1.0  1855.000000               53.351600   \n",
       "75%    5.415632e+06   10.000000    1.0  1994.000000               61.584800   \n",
       "max    7.178172e+06   12.000000    1.0  2002.000000               75.839000   \n",
       "\n",
       "       AverageTemperatureUncertaintyFahr  \n",
       "count                         209.000000  \n",
       "mean                           34.803194  \n",
       "std                             2.968804  \n",
       "min                            32.266400  \n",
       "25%                            32.563400  \n",
       "50%                            33.834200  \n",
       "75%                            35.924000  \n",
       "max                            46.565600  "
      ]
     },
     "execution_count": 267,
     "metadata": {},
     "output_type": "execute_result"
    }
   ],
   "source": [
    "df.describe()"
   ]
  },
  {
   "cell_type": "code",
   "execution_count": 269,
   "metadata": {
    "ExecuteTime": {
     "end_time": "2021-12-01T01:00:50.843950Z",
     "start_time": "2021-12-01T01:00:50.833953Z"
    }
   },
   "outputs": [
    {
     "data": {
      "text/plain": [
       "['record_id',\n",
       " 'month',\n",
       " 'day',\n",
       " 'year',\n",
       " 'AverageTemperatureFahr',\n",
       " 'AverageTemperatureUncertaintyFahr',\n",
       " 'City',\n",
       " 'country_id',\n",
       " 'Country',\n",
       " 'Latitude',\n",
       " 'Longitude']"
      ]
     },
     "execution_count": 269,
     "metadata": {},
     "output_type": "execute_result"
    }
   ],
   "source": [
    "df.columns.tolist()"
   ]
  },
  {
   "cell_type": "code",
   "execution_count": 271,
   "metadata": {
    "ExecuteTime": {
     "end_time": "2021-12-01T01:01:15.257510Z",
     "start_time": "2021-12-01T01:01:15.232524Z"
    }
   },
   "outputs": [
    {
     "data": {
      "text/plain": [
       "Marseille    38\n",
       "Odesa        36\n",
       "Auckland     35\n",
       "Stockholm    26\n",
       "Kiev         23\n",
       "Lvov         22\n",
       "Paris        16\n",
       "Kherson      13\n",
       "Name: City, dtype: int64"
      ]
     },
     "execution_count": 271,
     "metadata": {},
     "output_type": "execute_result"
    }
   ],
   "source": [
    "df['City'].value_counts()"
   ]
  },
  {
   "cell_type": "code",
   "execution_count": 272,
   "metadata": {
    "ExecuteTime": {
     "end_time": "2021-12-01T01:02:05.713317Z",
     "start_time": "2021-12-01T01:02:05.699324Z"
    }
   },
   "outputs": [
    {
     "data": {
      "text/plain": [
       "array(['Kherson', 'Auckland', 'Kiev', 'Lvov', 'Marseille', 'Odesa',\n",
       "       'Paris', 'Stockholm'], dtype=object)"
      ]
     },
     "execution_count": 272,
     "metadata": {},
     "output_type": "execute_result"
    }
   ],
   "source": [
    "df['City'].unique()"
   ]
  },
  {
   "cell_type": "code",
   "execution_count": 273,
   "metadata": {
    "ExecuteTime": {
     "end_time": "2021-12-01T01:02:38.676819Z",
     "start_time": "2021-12-01T01:02:38.612857Z"
    },
    "scrolled": true
   },
   "outputs": [
    {
     "data": {
      "text/html": [
       "<div>\n",
       "<style scoped>\n",
       "    .dataframe tbody tr th:only-of-type {\n",
       "        vertical-align: middle;\n",
       "    }\n",
       "\n",
       "    .dataframe tbody tr th {\n",
       "        vertical-align: top;\n",
       "    }\n",
       "\n",
       "    .dataframe thead th {\n",
       "        text-align: right;\n",
       "    }\n",
       "</style>\n",
       "<table border=\"1\" class=\"dataframe\">\n",
       "  <thead>\n",
       "    <tr style=\"text-align: right;\">\n",
       "      <th></th>\n",
       "      <th>record_id</th>\n",
       "      <th>month</th>\n",
       "      <th>day</th>\n",
       "      <th>year</th>\n",
       "      <th>AverageTemperatureFahr</th>\n",
       "      <th>AverageTemperatureUncertaintyFahr</th>\n",
       "      <th>City</th>\n",
       "      <th>country_id</th>\n",
       "      <th>Country</th>\n",
       "      <th>Latitude</th>\n",
       "      <th>Longitude</th>\n",
       "    </tr>\n",
       "  </thead>\n",
       "  <tbody>\n",
       "    <tr>\n",
       "      <th>48</th>\n",
       "      <td>3817589</td>\n",
       "      <td>9</td>\n",
       "      <td>1</td>\n",
       "      <td>1770</td>\n",
       "      <td>57.2828</td>\n",
       "      <td>36.9176</td>\n",
       "      <td>Kiev</td>\n",
       "      <td>UKR</td>\n",
       "      <td>Ukraine</td>\n",
       "      <td>50.63N</td>\n",
       "      <td>31.69E</td>\n",
       "    </tr>\n",
       "    <tr>\n",
       "      <th>49</th>\n",
       "      <td>3817590</td>\n",
       "      <td>10</td>\n",
       "      <td>1</td>\n",
       "      <td>1770</td>\n",
       "      <td>47.1110</td>\n",
       "      <td>39.6788</td>\n",
       "      <td>Kiev</td>\n",
       "      <td>UKR</td>\n",
       "      <td>Ukraine</td>\n",
       "      <td>50.63N</td>\n",
       "      <td>31.69E</td>\n",
       "    </tr>\n",
       "    <tr>\n",
       "      <th>50</th>\n",
       "      <td>3817591</td>\n",
       "      <td>11</td>\n",
       "      <td>1</td>\n",
       "      <td>1770</td>\n",
       "      <td>35.2544</td>\n",
       "      <td>39.7058</td>\n",
       "      <td>Kiev</td>\n",
       "      <td>UKR</td>\n",
       "      <td>Ukraine</td>\n",
       "      <td>50.63N</td>\n",
       "      <td>31.69E</td>\n",
       "    </tr>\n",
       "    <tr>\n",
       "      <th>51</th>\n",
       "      <td>3817592</td>\n",
       "      <td>12</td>\n",
       "      <td>1</td>\n",
       "      <td>1770</td>\n",
       "      <td>31.2152</td>\n",
       "      <td>45.0590</td>\n",
       "      <td>Kiev</td>\n",
       "      <td>UKR</td>\n",
       "      <td>Ukraine</td>\n",
       "      <td>50.63N</td>\n",
       "      <td>31.69E</td>\n",
       "    </tr>\n",
       "    <tr>\n",
       "      <th>52</th>\n",
       "      <td>3817593</td>\n",
       "      <td>1</td>\n",
       "      <td>1</td>\n",
       "      <td>1771</td>\n",
       "      <td>24.1862</td>\n",
       "      <td>41.6030</td>\n",
       "      <td>Kiev</td>\n",
       "      <td>UKR</td>\n",
       "      <td>Ukraine</td>\n",
       "      <td>50.63N</td>\n",
       "      <td>31.69E</td>\n",
       "    </tr>\n",
       "    <tr>\n",
       "      <th>53</th>\n",
       "      <td>3817594</td>\n",
       "      <td>2</td>\n",
       "      <td>1</td>\n",
       "      <td>1771</td>\n",
       "      <td>13.4978</td>\n",
       "      <td>38.4980</td>\n",
       "      <td>Kiev</td>\n",
       "      <td>UKR</td>\n",
       "      <td>Ukraine</td>\n",
       "      <td>50.63N</td>\n",
       "      <td>31.69E</td>\n",
       "    </tr>\n",
       "    <tr>\n",
       "      <th>54</th>\n",
       "      <td>3817595</td>\n",
       "      <td>3</td>\n",
       "      <td>1</td>\n",
       "      <td>1771</td>\n",
       "      <td>23.7686</td>\n",
       "      <td>42.8378</td>\n",
       "      <td>Kiev</td>\n",
       "      <td>UKR</td>\n",
       "      <td>Ukraine</td>\n",
       "      <td>50.63N</td>\n",
       "      <td>31.69E</td>\n",
       "    </tr>\n",
       "    <tr>\n",
       "      <th>55</th>\n",
       "      <td>3817596</td>\n",
       "      <td>4</td>\n",
       "      <td>1</td>\n",
       "      <td>1771</td>\n",
       "      <td>40.2620</td>\n",
       "      <td>42.2330</td>\n",
       "      <td>Kiev</td>\n",
       "      <td>UKR</td>\n",
       "      <td>Ukraine</td>\n",
       "      <td>50.63N</td>\n",
       "      <td>31.69E</td>\n",
       "    </tr>\n",
       "    <tr>\n",
       "      <th>56</th>\n",
       "      <td>3817597</td>\n",
       "      <td>5</td>\n",
       "      <td>1</td>\n",
       "      <td>1771</td>\n",
       "      <td>56.7842</td>\n",
       "      <td>46.5656</td>\n",
       "      <td>Kiev</td>\n",
       "      <td>UKR</td>\n",
       "      <td>Ukraine</td>\n",
       "      <td>50.63N</td>\n",
       "      <td>31.69E</td>\n",
       "    </tr>\n",
       "    <tr>\n",
       "      <th>57</th>\n",
       "      <td>3817598</td>\n",
       "      <td>6</td>\n",
       "      <td>1</td>\n",
       "      <td>1771</td>\n",
       "      <td>67.2998</td>\n",
       "      <td>36.5630</td>\n",
       "      <td>Kiev</td>\n",
       "      <td>UKR</td>\n",
       "      <td>Ukraine</td>\n",
       "      <td>50.63N</td>\n",
       "      <td>31.69E</td>\n",
       "    </tr>\n",
       "    <tr>\n",
       "      <th>58</th>\n",
       "      <td>3817599</td>\n",
       "      <td>7</td>\n",
       "      <td>1</td>\n",
       "      <td>1771</td>\n",
       "      <td>67.0532</td>\n",
       "      <td>35.1032</td>\n",
       "      <td>Kiev</td>\n",
       "      <td>UKR</td>\n",
       "      <td>Ukraine</td>\n",
       "      <td>50.63N</td>\n",
       "      <td>31.69E</td>\n",
       "    </tr>\n",
       "    <tr>\n",
       "      <th>59</th>\n",
       "      <td>3817600</td>\n",
       "      <td>8</td>\n",
       "      <td>1</td>\n",
       "      <td>1771</td>\n",
       "      <td>65.4584</td>\n",
       "      <td>36.1976</td>\n",
       "      <td>Kiev</td>\n",
       "      <td>UKR</td>\n",
       "      <td>Ukraine</td>\n",
       "      <td>50.63N</td>\n",
       "      <td>31.69E</td>\n",
       "    </tr>\n",
       "    <tr>\n",
       "      <th>60</th>\n",
       "      <td>3817601</td>\n",
       "      <td>9</td>\n",
       "      <td>1</td>\n",
       "      <td>1771</td>\n",
       "      <td>57.3836</td>\n",
       "      <td>35.3912</td>\n",
       "      <td>Kiev</td>\n",
       "      <td>UKR</td>\n",
       "      <td>Ukraine</td>\n",
       "      <td>50.63N</td>\n",
       "      <td>31.69E</td>\n",
       "    </tr>\n",
       "    <tr>\n",
       "      <th>61</th>\n",
       "      <td>3817602</td>\n",
       "      <td>10</td>\n",
       "      <td>1</td>\n",
       "      <td>1771</td>\n",
       "      <td>46.5710</td>\n",
       "      <td>35.7674</td>\n",
       "      <td>Kiev</td>\n",
       "      <td>UKR</td>\n",
       "      <td>Ukraine</td>\n",
       "      <td>50.63N</td>\n",
       "      <td>31.69E</td>\n",
       "    </tr>\n",
       "    <tr>\n",
       "      <th>62</th>\n",
       "      <td>3817603</td>\n",
       "      <td>11</td>\n",
       "      <td>1</td>\n",
       "      <td>1771</td>\n",
       "      <td>30.2612</td>\n",
       "      <td>39.4826</td>\n",
       "      <td>Kiev</td>\n",
       "      <td>UKR</td>\n",
       "      <td>Ukraine</td>\n",
       "      <td>50.63N</td>\n",
       "      <td>31.69E</td>\n",
       "    </tr>\n",
       "    <tr>\n",
       "      <th>63</th>\n",
       "      <td>3817604</td>\n",
       "      <td>12</td>\n",
       "      <td>1</td>\n",
       "      <td>1771</td>\n",
       "      <td>26.0348</td>\n",
       "      <td>38.4800</td>\n",
       "      <td>Kiev</td>\n",
       "      <td>UKR</td>\n",
       "      <td>Ukraine</td>\n",
       "      <td>50.63N</td>\n",
       "      <td>31.69E</td>\n",
       "    </tr>\n",
       "    <tr>\n",
       "      <th>64</th>\n",
       "      <td>3817605</td>\n",
       "      <td>1</td>\n",
       "      <td>1</td>\n",
       "      <td>1772</td>\n",
       "      <td>20.0858</td>\n",
       "      <td>41.4662</td>\n",
       "      <td>Kiev</td>\n",
       "      <td>UKR</td>\n",
       "      <td>Ukraine</td>\n",
       "      <td>50.63N</td>\n",
       "      <td>31.69E</td>\n",
       "    </tr>\n",
       "    <tr>\n",
       "      <th>65</th>\n",
       "      <td>3817606</td>\n",
       "      <td>2</td>\n",
       "      <td>1</td>\n",
       "      <td>1772</td>\n",
       "      <td>18.1670</td>\n",
       "      <td>45.1274</td>\n",
       "      <td>Kiev</td>\n",
       "      <td>UKR</td>\n",
       "      <td>Ukraine</td>\n",
       "      <td>50.63N</td>\n",
       "      <td>31.69E</td>\n",
       "    </tr>\n",
       "    <tr>\n",
       "      <th>66</th>\n",
       "      <td>3817607</td>\n",
       "      <td>3</td>\n",
       "      <td>1</td>\n",
       "      <td>1772</td>\n",
       "      <td>28.2650</td>\n",
       "      <td>39.6518</td>\n",
       "      <td>Kiev</td>\n",
       "      <td>UKR</td>\n",
       "      <td>Ukraine</td>\n",
       "      <td>50.63N</td>\n",
       "      <td>31.69E</td>\n",
       "    </tr>\n",
       "    <tr>\n",
       "      <th>67</th>\n",
       "      <td>3817608</td>\n",
       "      <td>4</td>\n",
       "      <td>1</td>\n",
       "      <td>1772</td>\n",
       "      <td>46.5566</td>\n",
       "      <td>39.0254</td>\n",
       "      <td>Kiev</td>\n",
       "      <td>UKR</td>\n",
       "      <td>Ukraine</td>\n",
       "      <td>50.63N</td>\n",
       "      <td>31.69E</td>\n",
       "    </tr>\n",
       "    <tr>\n",
       "      <th>68</th>\n",
       "      <td>3817609</td>\n",
       "      <td>5</td>\n",
       "      <td>1</td>\n",
       "      <td>1772</td>\n",
       "      <td>54.6566</td>\n",
       "      <td>35.5388</td>\n",
       "      <td>Kiev</td>\n",
       "      <td>UKR</td>\n",
       "      <td>Ukraine</td>\n",
       "      <td>50.63N</td>\n",
       "      <td>31.69E</td>\n",
       "    </tr>\n",
       "    <tr>\n",
       "      <th>69</th>\n",
       "      <td>3817610</td>\n",
       "      <td>6</td>\n",
       "      <td>1</td>\n",
       "      <td>1772</td>\n",
       "      <td>64.1786</td>\n",
       "      <td>38.2946</td>\n",
       "      <td>Kiev</td>\n",
       "      <td>UKR</td>\n",
       "      <td>Ukraine</td>\n",
       "      <td>50.63N</td>\n",
       "      <td>31.69E</td>\n",
       "    </tr>\n",
       "    <tr>\n",
       "      <th>70</th>\n",
       "      <td>3817611</td>\n",
       "      <td>7</td>\n",
       "      <td>1</td>\n",
       "      <td>1772</td>\n",
       "      <td>68.7920</td>\n",
       "      <td>36.7628</td>\n",
       "      <td>Kiev</td>\n",
       "      <td>UKR</td>\n",
       "      <td>Ukraine</td>\n",
       "      <td>50.63N</td>\n",
       "      <td>31.69E</td>\n",
       "    </tr>\n",
       "  </tbody>\n",
       "</table>\n",
       "</div>"
      ],
      "text/plain": [
       "    record_id  month  day  year  AverageTemperatureFahr  \\\n",
       "48    3817589      9    1  1770                 57.2828   \n",
       "49    3817590     10    1  1770                 47.1110   \n",
       "50    3817591     11    1  1770                 35.2544   \n",
       "51    3817592     12    1  1770                 31.2152   \n",
       "52    3817593      1    1  1771                 24.1862   \n",
       "53    3817594      2    1  1771                 13.4978   \n",
       "54    3817595      3    1  1771                 23.7686   \n",
       "55    3817596      4    1  1771                 40.2620   \n",
       "56    3817597      5    1  1771                 56.7842   \n",
       "57    3817598      6    1  1771                 67.2998   \n",
       "58    3817599      7    1  1771                 67.0532   \n",
       "59    3817600      8    1  1771                 65.4584   \n",
       "60    3817601      9    1  1771                 57.3836   \n",
       "61    3817602     10    1  1771                 46.5710   \n",
       "62    3817603     11    1  1771                 30.2612   \n",
       "63    3817604     12    1  1771                 26.0348   \n",
       "64    3817605      1    1  1772                 20.0858   \n",
       "65    3817606      2    1  1772                 18.1670   \n",
       "66    3817607      3    1  1772                 28.2650   \n",
       "67    3817608      4    1  1772                 46.5566   \n",
       "68    3817609      5    1  1772                 54.6566   \n",
       "69    3817610      6    1  1772                 64.1786   \n",
       "70    3817611      7    1  1772                 68.7920   \n",
       "\n",
       "    AverageTemperatureUncertaintyFahr  City country_id  Country Latitude  \\\n",
       "48                            36.9176  Kiev        UKR  Ukraine   50.63N   \n",
       "49                            39.6788  Kiev        UKR  Ukraine   50.63N   \n",
       "50                            39.7058  Kiev        UKR  Ukraine   50.63N   \n",
       "51                            45.0590  Kiev        UKR  Ukraine   50.63N   \n",
       "52                            41.6030  Kiev        UKR  Ukraine   50.63N   \n",
       "53                            38.4980  Kiev        UKR  Ukraine   50.63N   \n",
       "54                            42.8378  Kiev        UKR  Ukraine   50.63N   \n",
       "55                            42.2330  Kiev        UKR  Ukraine   50.63N   \n",
       "56                            46.5656  Kiev        UKR  Ukraine   50.63N   \n",
       "57                            36.5630  Kiev        UKR  Ukraine   50.63N   \n",
       "58                            35.1032  Kiev        UKR  Ukraine   50.63N   \n",
       "59                            36.1976  Kiev        UKR  Ukraine   50.63N   \n",
       "60                            35.3912  Kiev        UKR  Ukraine   50.63N   \n",
       "61                            35.7674  Kiev        UKR  Ukraine   50.63N   \n",
       "62                            39.4826  Kiev        UKR  Ukraine   50.63N   \n",
       "63                            38.4800  Kiev        UKR  Ukraine   50.63N   \n",
       "64                            41.4662  Kiev        UKR  Ukraine   50.63N   \n",
       "65                            45.1274  Kiev        UKR  Ukraine   50.63N   \n",
       "66                            39.6518  Kiev        UKR  Ukraine   50.63N   \n",
       "67                            39.0254  Kiev        UKR  Ukraine   50.63N   \n",
       "68                            35.5388  Kiev        UKR  Ukraine   50.63N   \n",
       "69                            38.2946  Kiev        UKR  Ukraine   50.63N   \n",
       "70                            36.7628  Kiev        UKR  Ukraine   50.63N   \n",
       "\n",
       "   Longitude  \n",
       "48    31.69E  \n",
       "49    31.69E  \n",
       "50    31.69E  \n",
       "51    31.69E  \n",
       "52    31.69E  \n",
       "53    31.69E  \n",
       "54    31.69E  \n",
       "55    31.69E  \n",
       "56    31.69E  \n",
       "57    31.69E  \n",
       "58    31.69E  \n",
       "59    31.69E  \n",
       "60    31.69E  \n",
       "61    31.69E  \n",
       "62    31.69E  \n",
       "63    31.69E  \n",
       "64    31.69E  \n",
       "65    31.69E  \n",
       "66    31.69E  \n",
       "67    31.69E  \n",
       "68    31.69E  \n",
       "69    31.69E  \n",
       "70    31.69E  "
      ]
     },
     "execution_count": 273,
     "metadata": {},
     "output_type": "execute_result"
    }
   ],
   "source": [
    "cidade = 'Kiev'\n",
    "\n",
    "df[df[\"City\"] == cidade]"
   ]
  },
  {
   "cell_type": "code",
   "execution_count": 279,
   "metadata": {
    "ExecuteTime": {
     "end_time": "2021-12-01T01:05:29.791423Z",
     "start_time": "2021-12-01T01:05:29.772435Z"
    }
   },
   "outputs": [],
   "source": [
    "import numpy as np"
   ]
  },
  {
   "cell_type": "code",
   "execution_count": 282,
   "metadata": {
    "ExecuteTime": {
     "end_time": "2021-12-01T01:06:01.282967Z",
     "start_time": "2021-12-01T01:06:01.226998Z"
    },
    "scrolled": true
   },
   "outputs": [
    {
     "data": {
      "text/html": [
       "<div>\n",
       "<style scoped>\n",
       "    .dataframe tbody tr th:only-of-type {\n",
       "        vertical-align: middle;\n",
       "    }\n",
       "\n",
       "    .dataframe tbody tr th {\n",
       "        vertical-align: top;\n",
       "    }\n",
       "\n",
       "    .dataframe thead tr th {\n",
       "        text-align: left;\n",
       "    }\n",
       "\n",
       "    .dataframe thead tr:last-of-type th {\n",
       "        text-align: right;\n",
       "    }\n",
       "</style>\n",
       "<table border=\"1\" class=\"dataframe\">\n",
       "  <thead>\n",
       "    <tr>\n",
       "      <th></th>\n",
       "      <th></th>\n",
       "      <th colspan=\"3\" halign=\"left\">AverageTemperatureFahr</th>\n",
       "    </tr>\n",
       "    <tr>\n",
       "      <th></th>\n",
       "      <th></th>\n",
       "      <th>min</th>\n",
       "      <th>mean</th>\n",
       "      <th>max</th>\n",
       "    </tr>\n",
       "    <tr>\n",
       "      <th>Country</th>\n",
       "      <th>year</th>\n",
       "      <th></th>\n",
       "      <th></th>\n",
       "      <th></th>\n",
       "    </tr>\n",
       "  </thead>\n",
       "  <tbody>\n",
       "    <tr>\n",
       "      <th rowspan=\"8\" valign=\"top\">France</th>\n",
       "      <th>1744</th>\n",
       "      <td>38.5196</td>\n",
       "      <td>47.860700</td>\n",
       "      <td>57.8750</td>\n",
       "    </tr>\n",
       "    <tr>\n",
       "      <th>1745</th>\n",
       "      <td>35.5190</td>\n",
       "      <td>40.512200</td>\n",
       "      <td>48.6194</td>\n",
       "    </tr>\n",
       "    <tr>\n",
       "      <th>1752</th>\n",
       "      <td>40.9280</td>\n",
       "      <td>45.611600</td>\n",
       "      <td>50.4338</td>\n",
       "    </tr>\n",
       "    <tr>\n",
       "      <th>1753</th>\n",
       "      <td>31.9046</td>\n",
       "      <td>44.467160</td>\n",
       "      <td>56.5736</td>\n",
       "    </tr>\n",
       "    <tr>\n",
       "      <th>1999</th>\n",
       "      <td>49.7030</td>\n",
       "      <td>61.518200</td>\n",
       "      <td>75.6356</td>\n",
       "    </tr>\n",
       "    <tr>\n",
       "      <th>2000</th>\n",
       "      <td>49.6616</td>\n",
       "      <td>61.696550</td>\n",
       "      <td>74.6474</td>\n",
       "    </tr>\n",
       "    <tr>\n",
       "      <th>2001</th>\n",
       "      <td>49.8074</td>\n",
       "      <td>61.854950</td>\n",
       "      <td>75.8390</td>\n",
       "    </tr>\n",
       "    <tr>\n",
       "      <th>2002</th>\n",
       "      <td>50.2088</td>\n",
       "      <td>51.825200</td>\n",
       "      <td>53.4416</td>\n",
       "    </tr>\n",
       "    <tr>\n",
       "      <th rowspan=\"4\" valign=\"top\">New Zealand</th>\n",
       "      <th>1853</th>\n",
       "      <td>51.9062</td>\n",
       "      <td>54.447543</td>\n",
       "      <td>59.8460</td>\n",
       "    </tr>\n",
       "    <tr>\n",
       "      <th>1854</th>\n",
       "      <td>52.8044</td>\n",
       "      <td>58.197350</td>\n",
       "      <td>65.3720</td>\n",
       "    </tr>\n",
       "    <tr>\n",
       "      <th>1855</th>\n",
       "      <td>52.3094</td>\n",
       "      <td>58.362500</td>\n",
       "      <td>64.3460</td>\n",
       "    </tr>\n",
       "    <tr>\n",
       "      <th>1856</th>\n",
       "      <td>59.8010</td>\n",
       "      <td>61.450700</td>\n",
       "      <td>62.1266</td>\n",
       "    </tr>\n",
       "    <tr>\n",
       "      <th rowspan=\"3\" valign=\"top\">Sweden</th>\n",
       "      <th>1805</th>\n",
       "      <td>32.7470</td>\n",
       "      <td>34.391300</td>\n",
       "      <td>36.0356</td>\n",
       "    </tr>\n",
       "    <tr>\n",
       "      <th>1806</th>\n",
       "      <td>27.2984</td>\n",
       "      <td>43.103900</td>\n",
       "      <td>62.3408</td>\n",
       "    </tr>\n",
       "    <tr>\n",
       "      <th>1807</th>\n",
       "      <td>28.3712</td>\n",
       "      <td>43.179050</td>\n",
       "      <td>66.3008</td>\n",
       "    </tr>\n",
       "    <tr>\n",
       "      <th rowspan=\"12\" valign=\"top\">Ukraine</th>\n",
       "      <th>1770</th>\n",
       "      <td>31.2152</td>\n",
       "      <td>42.715850</td>\n",
       "      <td>57.2828</td>\n",
       "    </tr>\n",
       "    <tr>\n",
       "      <th>1771</th>\n",
       "      <td>13.4978</td>\n",
       "      <td>43.213400</td>\n",
       "      <td>67.2998</td>\n",
       "    </tr>\n",
       "    <tr>\n",
       "      <th>1772</th>\n",
       "      <td>18.1670</td>\n",
       "      <td>42.957371</td>\n",
       "      <td>68.7920</td>\n",
       "    </tr>\n",
       "    <tr>\n",
       "      <th>1854</th>\n",
       "      <td>34.8422</td>\n",
       "      <td>54.909400</td>\n",
       "      <td>72.8366</td>\n",
       "    </tr>\n",
       "    <tr>\n",
       "      <th>1855</th>\n",
       "      <td>21.2432</td>\n",
       "      <td>33.406250</td>\n",
       "      <td>48.6950</td>\n",
       "    </tr>\n",
       "    <tr>\n",
       "      <th>1906</th>\n",
       "      <td>23.7902</td>\n",
       "      <td>50.134229</td>\n",
       "      <td>65.3324</td>\n",
       "    </tr>\n",
       "    <tr>\n",
       "      <th>1907</th>\n",
       "      <td>20.0282</td>\n",
       "      <td>43.287050</td>\n",
       "      <td>62.3534</td>\n",
       "    </tr>\n",
       "    <tr>\n",
       "      <th>1908</th>\n",
       "      <td>24.4274</td>\n",
       "      <td>28.939400</td>\n",
       "      <td>33.7604</td>\n",
       "    </tr>\n",
       "    <tr>\n",
       "      <th>1992</th>\n",
       "      <td>35.1968</td>\n",
       "      <td>57.958475</td>\n",
       "      <td>75.5906</td>\n",
       "    </tr>\n",
       "    <tr>\n",
       "      <th>1993</th>\n",
       "      <td>32.8658</td>\n",
       "      <td>50.399000</td>\n",
       "      <td>69.8432</td>\n",
       "    </tr>\n",
       "    <tr>\n",
       "      <th>1994</th>\n",
       "      <td>31.9604</td>\n",
       "      <td>53.381000</td>\n",
       "      <td>72.8150</td>\n",
       "    </tr>\n",
       "    <tr>\n",
       "      <th>1995</th>\n",
       "      <td>34.3958</td>\n",
       "      <td>41.500400</td>\n",
       "      <td>48.3116</td>\n",
       "    </tr>\n",
       "  </tbody>\n",
       "</table>\n",
       "</div>"
      ],
      "text/plain": [
       "                 AverageTemperatureFahr                    \n",
       "                                    min       mean      max\n",
       "Country     year                                           \n",
       "France      1744                38.5196  47.860700  57.8750\n",
       "            1745                35.5190  40.512200  48.6194\n",
       "            1752                40.9280  45.611600  50.4338\n",
       "            1753                31.9046  44.467160  56.5736\n",
       "            1999                49.7030  61.518200  75.6356\n",
       "            2000                49.6616  61.696550  74.6474\n",
       "            2001                49.8074  61.854950  75.8390\n",
       "            2002                50.2088  51.825200  53.4416\n",
       "New Zealand 1853                51.9062  54.447543  59.8460\n",
       "            1854                52.8044  58.197350  65.3720\n",
       "            1855                52.3094  58.362500  64.3460\n",
       "            1856                59.8010  61.450700  62.1266\n",
       "Sweden      1805                32.7470  34.391300  36.0356\n",
       "            1806                27.2984  43.103900  62.3408\n",
       "            1807                28.3712  43.179050  66.3008\n",
       "Ukraine     1770                31.2152  42.715850  57.2828\n",
       "            1771                13.4978  43.213400  67.2998\n",
       "            1772                18.1670  42.957371  68.7920\n",
       "            1854                34.8422  54.909400  72.8366\n",
       "            1855                21.2432  33.406250  48.6950\n",
       "            1906                23.7902  50.134229  65.3324\n",
       "            1907                20.0282  43.287050  62.3534\n",
       "            1908                24.4274  28.939400  33.7604\n",
       "            1992                35.1968  57.958475  75.5906\n",
       "            1993                32.8658  50.399000  69.8432\n",
       "            1994                31.9604  53.381000  72.8150\n",
       "            1995                34.3958  41.500400  48.3116"
      ]
     },
     "execution_count": 282,
     "metadata": {},
     "output_type": "execute_result"
    }
   ],
   "source": [
    "df.groupby([\"Country\", \"year\"])[[\"AverageTemperatureFahr\"]].agg([\"min\", \"mean\", \"max\"])"
   ]
  },
  {
   "cell_type": "code",
   "execution_count": 281,
   "metadata": {
    "ExecuteTime": {
     "end_time": "2021-12-01T01:05:42.466589Z",
     "start_time": "2021-12-01T01:05:42.400627Z"
    },
    "scrolled": true
   },
   "outputs": [
    {
     "data": {
      "text/html": [
       "<div>\n",
       "<style scoped>\n",
       "    .dataframe tbody tr th:only-of-type {\n",
       "        vertical-align: middle;\n",
       "    }\n",
       "\n",
       "    .dataframe tbody tr th {\n",
       "        vertical-align: top;\n",
       "    }\n",
       "\n",
       "    .dataframe thead tr th {\n",
       "        text-align: left;\n",
       "    }\n",
       "\n",
       "    .dataframe thead tr:last-of-type th {\n",
       "        text-align: right;\n",
       "    }\n",
       "</style>\n",
       "<table border=\"1\" class=\"dataframe\">\n",
       "  <thead>\n",
       "    <tr>\n",
       "      <th></th>\n",
       "      <th></th>\n",
       "      <th colspan=\"3\" halign=\"left\">AverageTemperatureFahr</th>\n",
       "    </tr>\n",
       "    <tr>\n",
       "      <th></th>\n",
       "      <th></th>\n",
       "      <th>amin</th>\n",
       "      <th>mean</th>\n",
       "      <th>amax</th>\n",
       "    </tr>\n",
       "    <tr>\n",
       "      <th>Country</th>\n",
       "      <th>year</th>\n",
       "      <th></th>\n",
       "      <th></th>\n",
       "      <th></th>\n",
       "    </tr>\n",
       "  </thead>\n",
       "  <tbody>\n",
       "    <tr>\n",
       "      <th rowspan=\"8\" valign=\"top\">France</th>\n",
       "      <th>1744</th>\n",
       "      <td>38.5196</td>\n",
       "      <td>47.860700</td>\n",
       "      <td>57.8750</td>\n",
       "    </tr>\n",
       "    <tr>\n",
       "      <th>1745</th>\n",
       "      <td>35.5190</td>\n",
       "      <td>40.512200</td>\n",
       "      <td>48.6194</td>\n",
       "    </tr>\n",
       "    <tr>\n",
       "      <th>1752</th>\n",
       "      <td>40.9280</td>\n",
       "      <td>45.611600</td>\n",
       "      <td>50.4338</td>\n",
       "    </tr>\n",
       "    <tr>\n",
       "      <th>1753</th>\n",
       "      <td>31.9046</td>\n",
       "      <td>44.467160</td>\n",
       "      <td>56.5736</td>\n",
       "    </tr>\n",
       "    <tr>\n",
       "      <th>1999</th>\n",
       "      <td>49.7030</td>\n",
       "      <td>61.518200</td>\n",
       "      <td>75.6356</td>\n",
       "    </tr>\n",
       "    <tr>\n",
       "      <th>2000</th>\n",
       "      <td>49.6616</td>\n",
       "      <td>61.696550</td>\n",
       "      <td>74.6474</td>\n",
       "    </tr>\n",
       "    <tr>\n",
       "      <th>2001</th>\n",
       "      <td>49.8074</td>\n",
       "      <td>61.854950</td>\n",
       "      <td>75.8390</td>\n",
       "    </tr>\n",
       "    <tr>\n",
       "      <th>2002</th>\n",
       "      <td>50.2088</td>\n",
       "      <td>51.825200</td>\n",
       "      <td>53.4416</td>\n",
       "    </tr>\n",
       "    <tr>\n",
       "      <th rowspan=\"4\" valign=\"top\">New Zealand</th>\n",
       "      <th>1853</th>\n",
       "      <td>51.9062</td>\n",
       "      <td>54.447543</td>\n",
       "      <td>59.8460</td>\n",
       "    </tr>\n",
       "    <tr>\n",
       "      <th>1854</th>\n",
       "      <td>52.8044</td>\n",
       "      <td>58.197350</td>\n",
       "      <td>65.3720</td>\n",
       "    </tr>\n",
       "    <tr>\n",
       "      <th>1855</th>\n",
       "      <td>52.3094</td>\n",
       "      <td>58.362500</td>\n",
       "      <td>64.3460</td>\n",
       "    </tr>\n",
       "    <tr>\n",
       "      <th>1856</th>\n",
       "      <td>59.8010</td>\n",
       "      <td>61.450700</td>\n",
       "      <td>62.1266</td>\n",
       "    </tr>\n",
       "    <tr>\n",
       "      <th rowspan=\"3\" valign=\"top\">Sweden</th>\n",
       "      <th>1805</th>\n",
       "      <td>32.7470</td>\n",
       "      <td>34.391300</td>\n",
       "      <td>36.0356</td>\n",
       "    </tr>\n",
       "    <tr>\n",
       "      <th>1806</th>\n",
       "      <td>27.2984</td>\n",
       "      <td>43.103900</td>\n",
       "      <td>62.3408</td>\n",
       "    </tr>\n",
       "    <tr>\n",
       "      <th>1807</th>\n",
       "      <td>28.3712</td>\n",
       "      <td>43.179050</td>\n",
       "      <td>66.3008</td>\n",
       "    </tr>\n",
       "    <tr>\n",
       "      <th rowspan=\"12\" valign=\"top\">Ukraine</th>\n",
       "      <th>1770</th>\n",
       "      <td>31.2152</td>\n",
       "      <td>42.715850</td>\n",
       "      <td>57.2828</td>\n",
       "    </tr>\n",
       "    <tr>\n",
       "      <th>1771</th>\n",
       "      <td>13.4978</td>\n",
       "      <td>43.213400</td>\n",
       "      <td>67.2998</td>\n",
       "    </tr>\n",
       "    <tr>\n",
       "      <th>1772</th>\n",
       "      <td>18.1670</td>\n",
       "      <td>42.957371</td>\n",
       "      <td>68.7920</td>\n",
       "    </tr>\n",
       "    <tr>\n",
       "      <th>1854</th>\n",
       "      <td>34.8422</td>\n",
       "      <td>54.909400</td>\n",
       "      <td>72.8366</td>\n",
       "    </tr>\n",
       "    <tr>\n",
       "      <th>1855</th>\n",
       "      <td>21.2432</td>\n",
       "      <td>33.406250</td>\n",
       "      <td>48.6950</td>\n",
       "    </tr>\n",
       "    <tr>\n",
       "      <th>1906</th>\n",
       "      <td>23.7902</td>\n",
       "      <td>50.134229</td>\n",
       "      <td>65.3324</td>\n",
       "    </tr>\n",
       "    <tr>\n",
       "      <th>1907</th>\n",
       "      <td>20.0282</td>\n",
       "      <td>43.287050</td>\n",
       "      <td>62.3534</td>\n",
       "    </tr>\n",
       "    <tr>\n",
       "      <th>1908</th>\n",
       "      <td>24.4274</td>\n",
       "      <td>28.939400</td>\n",
       "      <td>33.7604</td>\n",
       "    </tr>\n",
       "    <tr>\n",
       "      <th>1992</th>\n",
       "      <td>35.1968</td>\n",
       "      <td>57.958475</td>\n",
       "      <td>75.5906</td>\n",
       "    </tr>\n",
       "    <tr>\n",
       "      <th>1993</th>\n",
       "      <td>32.8658</td>\n",
       "      <td>50.399000</td>\n",
       "      <td>69.8432</td>\n",
       "    </tr>\n",
       "    <tr>\n",
       "      <th>1994</th>\n",
       "      <td>31.9604</td>\n",
       "      <td>53.381000</td>\n",
       "      <td>72.8150</td>\n",
       "    </tr>\n",
       "    <tr>\n",
       "      <th>1995</th>\n",
       "      <td>34.3958</td>\n",
       "      <td>41.500400</td>\n",
       "      <td>48.3116</td>\n",
       "    </tr>\n",
       "  </tbody>\n",
       "</table>\n",
       "</div>"
      ],
      "text/plain": [
       "                 AverageTemperatureFahr                    \n",
       "                                   amin       mean     amax\n",
       "Country     year                                           \n",
       "France      1744                38.5196  47.860700  57.8750\n",
       "            1745                35.5190  40.512200  48.6194\n",
       "            1752                40.9280  45.611600  50.4338\n",
       "            1753                31.9046  44.467160  56.5736\n",
       "            1999                49.7030  61.518200  75.6356\n",
       "            2000                49.6616  61.696550  74.6474\n",
       "            2001                49.8074  61.854950  75.8390\n",
       "            2002                50.2088  51.825200  53.4416\n",
       "New Zealand 1853                51.9062  54.447543  59.8460\n",
       "            1854                52.8044  58.197350  65.3720\n",
       "            1855                52.3094  58.362500  64.3460\n",
       "            1856                59.8010  61.450700  62.1266\n",
       "Sweden      1805                32.7470  34.391300  36.0356\n",
       "            1806                27.2984  43.103900  62.3408\n",
       "            1807                28.3712  43.179050  66.3008\n",
       "Ukraine     1770                31.2152  42.715850  57.2828\n",
       "            1771                13.4978  43.213400  67.2998\n",
       "            1772                18.1670  42.957371  68.7920\n",
       "            1854                34.8422  54.909400  72.8366\n",
       "            1855                21.2432  33.406250  48.6950\n",
       "            1906                23.7902  50.134229  65.3324\n",
       "            1907                20.0282  43.287050  62.3534\n",
       "            1908                24.4274  28.939400  33.7604\n",
       "            1992                35.1968  57.958475  75.5906\n",
       "            1993                32.8658  50.399000  69.8432\n",
       "            1994                31.9604  53.381000  72.8150\n",
       "            1995                34.3958  41.500400  48.3116"
      ]
     },
     "execution_count": 281,
     "metadata": {},
     "output_type": "execute_result"
    }
   ],
   "source": [
    "df.groupby([\"Country\", \"year\"])[[\"AverageTemperatureFahr\"]].agg([np.min, np.mean, np.max])"
   ]
  },
  {
   "cell_type": "markdown",
   "metadata": {},
   "source": [
    "____\n",
    "____\n",
    "____\n",
    "____"
   ]
  }
 ],
 "metadata": {
  "kernelspec": {
   "display_name": "Python 3",
   "language": "python",
   "name": "python3"
  },
  "language_info": {
   "codemirror_mode": {
    "name": "ipython",
    "version": 3
   },
   "file_extension": ".py",
   "mimetype": "text/x-python",
   "name": "python",
   "nbconvert_exporter": "python",
   "pygments_lexer": "ipython3",
   "version": "3.8.3"
  }
 },
 "nbformat": 4,
 "nbformat_minor": 4
}
