{
 "cells": [
  {
   "cell_type": "markdown",
   "metadata": {},
   "source": [
    "# Data limite pra entrega: 20/12/2021\n",
    "\n",
    "____________________"
   ]
  },
  {
   "cell_type": "markdown",
   "metadata": {},
   "source": [
    "# Avaliação módulo 3 - Degree Data Science\n",
    "\n",
    "A avaliação deste módulo será bem direcionada, para que possamos avaliar diretamente cada um dos tópicos da ementa, de maneira integrada.\n",
    "\n",
    "Vamos montar o organograma de uma empresa!\n",
    "\n",
    "A empresa ainda é bem pequena, e tem os seguintes funcionarios: um CEO, 4 gerentes abaixo dele; cada gerente tem 3 analistas abaixo de si; em uma das gerências há, também, 2 estagiários.\n",
    "\n",
    "Você precisa modelar este organograma, e completar também os seguintes itens (use como se fosse um checklist!)\n",
    "\n",
    "- () Representar o orgonograma como uma árvore;\n",
    "- () Implementar uma função/método para indicar o \"caminho\" entre dois dados funcionários;\n",
    "- () Implementar uma função para checar se determinado funcionário trabalha na empresa;\n",
    "- () Responda: qual a complexidade das funções/métodos que vc implementou/utilizou?\n",
    "- () Escreva a matriz de adjacência da árvore em um arquivo (csv ou txt).\n",
    "\n",
    "Requisitos:\n",
    "\n",
    "Todos os items acima são obrigatórios! Mas vocês têm total liberdade pra utilizar a ferramenta que desejaram para implementar a árvore! (Por exemplo: fazer uma classe \"na unha\", ou então usar o networkx pra fazer tudo).\n",
    "\n",
    "Tópicos avaliados:\n",
    "\n",
    "- Manipulação de arquivos;\n",
    "- Análise de complexidade;\n",
    "- Busca e ordenação;\n",
    "- Árvores;\n",
    "- Grafos"
   ]
  },
  {
   "cell_type": "code",
   "execution_count": null,
   "metadata": {},
   "outputs": [],
   "source": [
    "import networkx as nx\n",
    "\n"
   ]
  }
 ],
 "metadata": {
  "kernelspec": {
   "display_name": "Python 3 (ipykernel)",
   "language": "python",
   "name": "python3"
  },
  "language_info": {
   "codemirror_mode": {
    "name": "ipython",
    "version": 3
   },
   "file_extension": ".py",
   "mimetype": "text/x-python",
   "name": "python",
   "nbconvert_exporter": "python",
   "pygments_lexer": "ipython3",
   "version": "3.10.0"
  }
 },
 "nbformat": 4,
 "nbformat_minor": 4
}
