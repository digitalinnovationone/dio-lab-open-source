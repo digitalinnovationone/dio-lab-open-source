{
 "cells": [
  {
   "cell_type": "markdown",
   "id": "8adc90c7",
   "metadata": {},
   "source": [
    "# Exercícios\n",
    "\n",
    "__1)__ Utilizando o _dataset_ para a classificação de casas em Paris, com as seguintes características dos dados:\n",
    "\n",
    "- squareMeters - quantidade de metros quadrados;\n",
    "- numberOfRooms - quantidade de quartos;\n",
    "- hasYard - se têm ou não quintal;\n",
    "- hasPool - se tem ou não piscina;\n",
    "- floors - número de andares;\n",
    "- cityCode - CEP;\n",
    "- cityPartRange - quanto maior o valor mais exclusivo é a vizinhança;\n",
    "- numPrevOwners - quantidade de donos anteriores;\n",
    "- made - ano da fabricação;\n",
    "- isNewBuilt - se é um imóvel novo;\n",
    "- hasStormProtector - se têm proteção contra chuva;\n",
    "- basement - tamanho do porão;\n",
    "- attic - tamanho do sotão;\n",
    "- garage - tamanho da garagem;\n",
    "- hasStorageRoom - se têm ou não despensa;\n",
    "- hasGuestRoom - número de quartos de hóspedes;\n",
    "- price - preço da casa;\n",
    "- category - marcação se a casa é luxuosa `Luxury` ou uma casa básica `Basic`.\n",
    "\n",
    "A partir da descrição dos dados desenvolva os tópicos a seguir:\n",
    "\n",
    "__A)__ Faça uma EDA para conhecer as características dos dados (façam gráficos, análise de correlações e etc.)\n",
    "\n",
    "__B)__ Faça um modelo de Regressão onde a variável resposta será o preço dos imóveis. Teste os diferentes modelos vistos durante o curso. Avalie a importância dos atributos, se a variável `price` influência na resposta final do modelo e o quanto que impacta."
   ]
  },
  {
   "cell_type": "code",
   "execution_count": null,
   "id": "99425787",
   "metadata": {},
   "outputs": [],
   "source": []
  },
  {
   "cell_type": "code",
   "execution_count": null,
   "id": "08fc891f",
   "metadata": {},
   "outputs": [],
   "source": []
  },
  {
   "cell_type": "code",
   "execution_count": null,
   "id": "7bcb60c5",
   "metadata": {},
   "outputs": [],
   "source": []
  },
  {
   "cell_type": "markdown",
   "id": "c1458bfa",
   "metadata": {},
   "source": [
    "## "
   ]
  },
  {
   "cell_type": "markdown",
   "id": "a08a1c53",
   "metadata": {},
   "source": [
    "__2)__ Utilizando o _dataset_ para a classificação de casas em Paris, com as seguintes características dos dados:\n",
    "\n",
    "- squareMeters - quantidade de metros quadrados;\n",
    "- numberOfRooms - quantidade de quartos;\n",
    "- hasYard - se têm ou não quintal;\n",
    "- hasPool - se tem ou não piscina;\n",
    "- floors - número de andares;\n",
    "- cityCode - CEP;\n",
    "- cityPartRange - quanto maior o valor mais exclusivo é a vizinhança;\n",
    "- numPrevOwners - quantidade de donos anteriores;\n",
    "- made - ano da fabricação;\n",
    "- isNewBuilt - se é um imóvel novo;\n",
    "- hasStormProtector - se têm proteção contra chuva;\n",
    "- basement - tamanho do porão;\n",
    "- attic - tamanho do sotão;\n",
    "- garage - tamanho da garagem;\n",
    "- hasStorageRoom - se têm ou não despensa;\n",
    "- hasGuestRoom - número de quartos de hóspedes;\n",
    "- price - preço da casa;\n",
    "- category - marcação se a casa é luxuosa `Luxury` ou uma casa básica `Basic`.\n",
    "\n",
    "A partir da descrição dos dados desenvolva os tópicos a seguir:\n",
    "\n",
    "__A)__ Faça uma EDA para conhecer as características dos dados (façam gráficos, análise de correlações e etc.)\n",
    "\n",
    "__B)__ Avalie inicialmente as variáveis categóricas utilizando o Qui-Quadrado e o ANOVa. Busque entender se todas as variáveis categóricas são relevantes para a variável `category`. Desenvolva uma modelo de Regressão Logística e avalie o resultado do modelo e o impacto da variável `price` no desempenho do modelo."
   ]
  },
  {
   "cell_type": "code",
   "execution_count": null,
   "id": "dadb144e",
   "metadata": {},
   "outputs": [],
   "source": []
  },
  {
   "cell_type": "code",
   "execution_count": null,
   "id": "b7665488",
   "metadata": {},
   "outputs": [],
   "source": []
  },
  {
   "cell_type": "markdown",
   "id": "59dad96a",
   "metadata": {},
   "source": [
    "## "
   ]
  },
  {
   "cell_type": "markdown",
   "id": "bbc4793b",
   "metadata": {},
   "source": [
    "__3)__ A partir do _dataset_ sobre caranguejos, utilize um modelo de regressão para predizer a idade dos caranguejos. Faça uma EDA para conhecer os dados, desenvolva os modelos de Regressão apresentados em aula e faça uma análise da importância das variáveis."
   ]
  },
  {
   "cell_type": "code",
   "execution_count": null,
   "id": "55740eca",
   "metadata": {},
   "outputs": [],
   "source": []
  },
  {
   "cell_type": "code",
   "execution_count": null,
   "id": "0841942d",
   "metadata": {},
   "outputs": [],
   "source": []
  },
  {
   "cell_type": "code",
   "execution_count": null,
   "id": "e9ac5453",
   "metadata": {},
   "outputs": [],
   "source": []
  },
  {
   "cell_type": "markdown",
   "id": "ecc8a989",
   "metadata": {},
   "source": [
    "## "
   ]
  },
  {
   "cell_type": "markdown",
   "id": "e9718741",
   "metadata": {},
   "source": [
    "__4)__ Utilizando o _dataset_ sobre o câncer de mama `breast_cancer.csv`, resolva os itens abaixo:\n",
    "\n",
    "__A)__ Realize uma análise exploratória dos dados para conhecer melhor o dataset;\n",
    "\n",
    "__B)__ Utilizando o raio médio como variável resposta, desenvolva uma Regressão Linear para fazer a predição. Teste diferentes modelos que foram vistos em aula. Faz sentido um modelo de predição desta forma?\n",
    "\n",
    "__C)__ Desenvolva um modelo de Regressão Logística para predizer se o câncer seria maligno ou benigno, utilizando a\n",
    "comovariável resposta `diagnosis`"
   ]
  },
  {
   "cell_type": "code",
   "execution_count": null,
   "id": "e8abe7f6",
   "metadata": {},
   "outputs": [],
   "source": []
  },
  {
   "cell_type": "code",
   "execution_count": null,
   "id": "d24dd29b",
   "metadata": {},
   "outputs": [],
   "source": []
  },
  {
   "cell_type": "code",
   "execution_count": null,
   "id": "adf9ab3d",
   "metadata": {},
   "outputs": [],
   "source": []
  }
 ],
 "metadata": {
  "kernelspec": {
   "display_name": "Python 3 (ipykernel)",
   "language": "python",
   "name": "python3"
  },
  "language_info": {
   "codemirror_mode": {
    "name": "ipython",
    "version": 3
   },
   "file_extension": ".py",
   "mimetype": "text/x-python",
   "name": "python",
   "nbconvert_exporter": "python",
   "pygments_lexer": "ipython3",
   "version": "3.10.4"
  }
 },
 "nbformat": 4,
 "nbformat_minor": 5
}
