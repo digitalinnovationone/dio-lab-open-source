{
 "cells": [
  {
   "cell_type": "markdown",
   "metadata": {},
   "source": [
    "# 04 - Gabarito - RegLin e RegLog"
   ]
  },
  {
   "cell_type": "markdown",
   "metadata": {},
   "source": [
    "###  "
   ]
  },
  {
   "cell_type": "markdown",
   "metadata": {},
   "source": [
    "### Exercícios - Regressão Logística"
   ]
  },
  {
   "cell_type": "code",
   "execution_count": 1,
   "metadata": {},
   "outputs": [],
   "source": [
    "# importe as principais bibliotecas\n",
    "import numpy as np\n",
    "import pandas as pd\n",
    "import matplotlib.pyplot as plt\n",
    "import seaborn as sns\n",
    "from sklearn.preprocessing import StandardScaler\n",
    "from sklearn.model_selection import train_test_split\n",
    "from sklearn.linear_model import LogisticRegression, LinearRegression\n",
    "from sklearn.metrics import confusion_matrix\n",
    "from sklearn.metrics import accuracy_score,  precision_score, recall_score, f1_score, r2_score, classification_report\n",
    "from mlxtend.plotting import plot_confusion_matrix\n",
    "\n",
    "# desabilita os warnings\n",
    "import warnings\n",
    "warnings.filterwarnings('ignore')"
   ]
  },
  {
   "cell_type": "markdown",
   "metadata": {},
   "source": [
    "**1)** [COVID](https://www.kaggle.com/tanmoyx/covid19-patient-precondition-dataset?select=covid.csv): Esses dados estão no dataset *COVID.csv* e nele encontramos alguns dados sobre os casos de Covid no México, onde têm os sintomas e caractéristicas dos pacientes além do resultado do teste para Covid."
   ]
  },
  {
   "cell_type": "markdown",
   "metadata": {},
   "source": [
    "A descrição das variáveis estão indicadas abaixo:<br>\n",
    " - **id**: Identificação do paciente<br>\n",
    " - **sex**: Sexo do Paciente (0 - Homem / 1 - Mulher) <br>\n",
    " - **patient_type**: Se o paciente foi dispensado para casa (1) ou se foi internado (0) <br>\n",
    " - **intubed**: Seo paciente foi intubado ou não<br>\n",
    " - **pneumonia**: Se o paciente apresentou pneumonia ou não<br>\n",
    " - **age**: Idade do Paciente<br>\n",
    " - **pregnancy**: Se a paciente estava grávida ou não (para pacientes mulheres)<br>\n",
    " - **diabetes**: Se o paciente tem diabetes ou não<br>\n",
    " - **copd**: Se opaciente tem COPD ou não<br>\n",
    " - **asthma**: Se o paciente tem Asma ou não<br>\n",
    " - **inmsupr**: Se o paciente apresentou Imunosupressão ou não<br>\n",
    " - **hypertension**: Se o paciente tem hipertensão ou não<br>\n",
    " - **ohter_disease**: Se o paciente tem outras doenças ou não<br>\n",
    " - **cardiovascular**: Se o paciente tem doenças cardiácas ou não<br>\n",
    " - **obesity**: Se o paciente tem obesidade ou não<br>\n",
    " - **renal_chronic**: Se o paciente tem problemas renais ou não<br>\n",
    " - **tobacco**: Se o paciente é fumante ou não<br>\n",
    " - **contact_other_covid**: Se o paciente teve contato com outras pessoas diagnosticadas com covid<br>\n",
    " - **icu**: Se o paciente precisou ser internado na UTI<br>\n",
    " - **covid_res**: Se o resultado do teste foi Positivo ou Negativo<br>"
   ]
  },
  {
   "cell_type": "code",
   "execution_count": 2,
   "metadata": {},
   "outputs": [],
   "source": [
    "# Importe dos dados pelo CSV\n",
    "covid = pd.read_csv('./datasets/COVID.csv', index_col=0)"
   ]
  },
  {
   "cell_type": "code",
   "execution_count": 3,
   "metadata": {
    "scrolled": true
   },
   "outputs": [
    {
     "data": {
      "text/html": [
       "<div>\n",
       "<style scoped>\n",
       "    .dataframe tbody tr th:only-of-type {\n",
       "        vertical-align: middle;\n",
       "    }\n",
       "\n",
       "    .dataframe tbody tr th {\n",
       "        vertical-align: top;\n",
       "    }\n",
       "\n",
       "    .dataframe thead th {\n",
       "        text-align: right;\n",
       "    }\n",
       "</style>\n",
       "<table border=\"1\" class=\"dataframe\">\n",
       "  <thead>\n",
       "    <tr style=\"text-align: right;\">\n",
       "      <th></th>\n",
       "      <th>sex</th>\n",
       "      <th>patient_type</th>\n",
       "      <th>intubed</th>\n",
       "      <th>pneumonia</th>\n",
       "      <th>age</th>\n",
       "      <th>pregnancy</th>\n",
       "      <th>diabetes</th>\n",
       "      <th>copd</th>\n",
       "      <th>asthma</th>\n",
       "      <th>inmsupr</th>\n",
       "      <th>hypertension</th>\n",
       "      <th>other_disease</th>\n",
       "      <th>cardiovascular</th>\n",
       "      <th>obesity</th>\n",
       "      <th>renal_chronic</th>\n",
       "      <th>tobacco</th>\n",
       "      <th>contact_other_covid</th>\n",
       "      <th>covid_res</th>\n",
       "      <th>icu</th>\n",
       "    </tr>\n",
       "  </thead>\n",
       "  <tbody>\n",
       "    <tr>\n",
       "      <th>0</th>\n",
       "      <td>0</td>\n",
       "      <td>1</td>\n",
       "      <td>NaN</td>\n",
       "      <td>0.0</td>\n",
       "      <td>27</td>\n",
       "      <td>NaN</td>\n",
       "      <td>0.0</td>\n",
       "      <td>0.0</td>\n",
       "      <td>0.0</td>\n",
       "      <td>0.0</td>\n",
       "      <td>0.0</td>\n",
       "      <td>0.0</td>\n",
       "      <td>0.0</td>\n",
       "      <td>0.0</td>\n",
       "      <td>0.0</td>\n",
       "      <td>0.0</td>\n",
       "      <td>0.0</td>\n",
       "      <td>1</td>\n",
       "      <td>NaN</td>\n",
       "    </tr>\n",
       "    <tr>\n",
       "      <th>1</th>\n",
       "      <td>0</td>\n",
       "      <td>1</td>\n",
       "      <td>NaN</td>\n",
       "      <td>0.0</td>\n",
       "      <td>24</td>\n",
       "      <td>NaN</td>\n",
       "      <td>0.0</td>\n",
       "      <td>0.0</td>\n",
       "      <td>0.0</td>\n",
       "      <td>0.0</td>\n",
       "      <td>0.0</td>\n",
       "      <td>0.0</td>\n",
       "      <td>0.0</td>\n",
       "      <td>0.0</td>\n",
       "      <td>0.0</td>\n",
       "      <td>0.0</td>\n",
       "      <td>NaN</td>\n",
       "      <td>1</td>\n",
       "      <td>NaN</td>\n",
       "    </tr>\n",
       "    <tr>\n",
       "      <th>2</th>\n",
       "      <td>1</td>\n",
       "      <td>0</td>\n",
       "      <td>0.0</td>\n",
       "      <td>0.0</td>\n",
       "      <td>54</td>\n",
       "      <td>0.0</td>\n",
       "      <td>0.0</td>\n",
       "      <td>0.0</td>\n",
       "      <td>0.0</td>\n",
       "      <td>0.0</td>\n",
       "      <td>0.0</td>\n",
       "      <td>0.0</td>\n",
       "      <td>0.0</td>\n",
       "      <td>1.0</td>\n",
       "      <td>0.0</td>\n",
       "      <td>0.0</td>\n",
       "      <td>NaN</td>\n",
       "      <td>1</td>\n",
       "      <td>0.0</td>\n",
       "    </tr>\n",
       "    <tr>\n",
       "      <th>3</th>\n",
       "      <td>0</td>\n",
       "      <td>0</td>\n",
       "      <td>0.0</td>\n",
       "      <td>1.0</td>\n",
       "      <td>30</td>\n",
       "      <td>NaN</td>\n",
       "      <td>0.0</td>\n",
       "      <td>0.0</td>\n",
       "      <td>0.0</td>\n",
       "      <td>0.0</td>\n",
       "      <td>0.0</td>\n",
       "      <td>0.0</td>\n",
       "      <td>0.0</td>\n",
       "      <td>0.0</td>\n",
       "      <td>0.0</td>\n",
       "      <td>0.0</td>\n",
       "      <td>NaN</td>\n",
       "      <td>1</td>\n",
       "      <td>0.0</td>\n",
       "    </tr>\n",
       "    <tr>\n",
       "      <th>4</th>\n",
       "      <td>1</td>\n",
       "      <td>0</td>\n",
       "      <td>0.0</td>\n",
       "      <td>0.0</td>\n",
       "      <td>60</td>\n",
       "      <td>0.0</td>\n",
       "      <td>1.0</td>\n",
       "      <td>0.0</td>\n",
       "      <td>0.0</td>\n",
       "      <td>0.0</td>\n",
       "      <td>1.0</td>\n",
       "      <td>0.0</td>\n",
       "      <td>1.0</td>\n",
       "      <td>0.0</td>\n",
       "      <td>0.0</td>\n",
       "      <td>0.0</td>\n",
       "      <td>NaN</td>\n",
       "      <td>1</td>\n",
       "      <td>0.0</td>\n",
       "    </tr>\n",
       "  </tbody>\n",
       "</table>\n",
       "</div>"
      ],
      "text/plain": [
       "   sex  patient_type  intubed  pneumonia  age  pregnancy  diabetes  copd  \\\n",
       "0    0             1      NaN        0.0   27        NaN       0.0   0.0   \n",
       "1    0             1      NaN        0.0   24        NaN       0.0   0.0   \n",
       "2    1             0      0.0        0.0   54        0.0       0.0   0.0   \n",
       "3    0             0      0.0        1.0   30        NaN       0.0   0.0   \n",
       "4    1             0      0.0        0.0   60        0.0       1.0   0.0   \n",
       "\n",
       "   asthma  inmsupr  hypertension  other_disease  cardiovascular  obesity  \\\n",
       "0     0.0      0.0           0.0            0.0             0.0      0.0   \n",
       "1     0.0      0.0           0.0            0.0             0.0      0.0   \n",
       "2     0.0      0.0           0.0            0.0             0.0      1.0   \n",
       "3     0.0      0.0           0.0            0.0             0.0      0.0   \n",
       "4     0.0      0.0           1.0            0.0             1.0      0.0   \n",
       "\n",
       "   renal_chronic  tobacco  contact_other_covid  covid_res  icu  \n",
       "0            0.0      0.0                  0.0          1  NaN  \n",
       "1            0.0      0.0                  NaN          1  NaN  \n",
       "2            0.0      0.0                  NaN          1  0.0  \n",
       "3            0.0      0.0                  NaN          1  0.0  \n",
       "4            0.0      0.0                  NaN          1  0.0  "
      ]
     },
     "execution_count": 3,
     "metadata": {},
     "output_type": "execute_result"
    }
   ],
   "source": [
    "# Olhando a base de dados\n",
    "covid.head()"
   ]
  },
  {
   "cell_type": "code",
   "execution_count": 4,
   "metadata": {},
   "outputs": [
    {
     "data": {
      "text/plain": [
       "(499692, 19)"
      ]
     },
     "execution_count": 4,
     "metadata": {},
     "output_type": "execute_result"
    }
   ],
   "source": [
    "# Verificando o shape dos dados\n",
    "covid.shape"
   ]
  },
  {
   "cell_type": "code",
   "execution_count": 5,
   "metadata": {},
   "outputs": [
    {
     "data": {
      "text/plain": [
       "sex                         0\n",
       "patient_type                0\n",
       "intubed                392268\n",
       "pneumonia                  11\n",
       "age                         0\n",
       "pregnancy              254434\n",
       "diabetes                 1641\n",
       "copd                     1446\n",
       "asthma                   1442\n",
       "inmsupr                  1662\n",
       "hypertension             1489\n",
       "other_disease            2193\n",
       "cardiovascular           1509\n",
       "obesity                  1470\n",
       "renal_chronic            1476\n",
       "tobacco                  1579\n",
       "contact_other_covid    153675\n",
       "covid_res                   0\n",
       "icu                    392269\n",
       "dtype: int64"
      ]
     },
     "execution_count": 5,
     "metadata": {},
     "output_type": "execute_result"
    }
   ],
   "source": [
    "# Verificando dados faltantes\n",
    "covid.isna().sum()"
   ]
  },
  {
   "cell_type": "code",
   "execution_count": 6,
   "metadata": {},
   "outputs": [
    {
     "data": {
      "text/plain": [
       "sex                     0.000000\n",
       "patient_type            0.000000\n",
       "intubed                78.501957\n",
       "pneumonia               0.002201\n",
       "age                     0.000000\n",
       "pregnancy              50.918166\n",
       "diabetes                0.328402\n",
       "copd                    0.289378\n",
       "asthma                  0.288578\n",
       "inmsupr                 0.332605\n",
       "hypertension            0.297984\n",
       "other_disease           0.438870\n",
       "cardiovascular          0.301986\n",
       "obesity                 0.294181\n",
       "renal_chronic           0.295382\n",
       "tobacco                 0.315995\n",
       "contact_other_covid    30.753944\n",
       "covid_res               0.000000\n",
       "icu                    78.502157\n",
       "dtype: float64"
      ]
     },
     "execution_count": 6,
     "metadata": {},
     "output_type": "execute_result"
    }
   ],
   "source": [
    "# Dados faltantes em percentual\n",
    "(covid.isna().sum()/len(covid))*100"
   ]
  },
  {
   "cell_type": "code",
   "execution_count": 7,
   "metadata": {},
   "outputs": [],
   "source": [
    "# Separando o dataframe por sexo\n",
    "covid_male = covid[covid['sex'] == 0]\n",
    "covid_female = covid[covid['sex'] == 1]"
   ]
  },
  {
   "cell_type": "code",
   "execution_count": 8,
   "metadata": {},
   "outputs": [
    {
     "data": {
      "text/plain": [
       "(253098, 19)"
      ]
     },
     "execution_count": 8,
     "metadata": {},
     "output_type": "execute_result"
    }
   ],
   "source": [
    "# Shape do covid_male\n",
    "covid_male.shape"
   ]
  },
  {
   "cell_type": "code",
   "execution_count": 9,
   "metadata": {},
   "outputs": [
    {
     "data": {
      "text/plain": [
       "(246594, 19)"
      ]
     },
     "execution_count": 9,
     "metadata": {},
     "output_type": "execute_result"
    }
   ],
   "source": [
    "# Shape do covid_female\n",
    "covid_female.shape"
   ]
  },
  {
   "cell_type": "code",
   "execution_count": 10,
   "metadata": {
    "scrolled": false
   },
   "outputs": [
    {
     "data": {
      "text/plain": [
       "sex                      0.000000\n",
       "patient_type             0.000000\n",
       "intubed                 74.516590\n",
       "pneumonia                0.002371\n",
       "age                      0.000000\n",
       "pregnancy              100.000000\n",
       "diabetes                 0.386016\n",
       "copd                     0.347691\n",
       "asthma                   0.341765\n",
       "inmsupr                  0.384041\n",
       "hypertension             0.356779\n",
       "other_disease            0.507708\n",
       "cardiovascular           0.357964\n",
       "obesity                  0.348482\n",
       "renal_chronic            0.351247\n",
       "tobacco                  0.379695\n",
       "contact_other_covid     30.619760\n",
       "covid_res                0.000000\n",
       "icu                     74.516590\n",
       "dtype: float64"
      ]
     },
     "execution_count": 10,
     "metadata": {},
     "output_type": "execute_result"
    }
   ],
   "source": [
    "# Dados faltantes para o covid_male\n",
    "covid_male.isna().sum()/len(covid_male)*100"
   ]
  },
  {
   "cell_type": "code",
   "execution_count": 11,
   "metadata": {},
   "outputs": [
    {
     "data": {
      "text/plain": [
       "sex                     0.000000\n",
       "patient_type            0.000000\n",
       "intubed                82.592439\n",
       "pneumonia               0.002028\n",
       "age                     0.000000\n",
       "pregnancy               0.541781\n",
       "diabetes                0.269269\n",
       "copd                    0.229527\n",
       "asthma                  0.233988\n",
       "inmsupr                 0.279812\n",
       "hypertension            0.237638\n",
       "other_disease           0.368217\n",
       "cardiovascular          0.244531\n",
       "obesity                 0.238449\n",
       "renal_chronic           0.238043\n",
       "tobacco                 0.250614\n",
       "contact_other_covid    30.891668\n",
       "covid_res               0.000000\n",
       "icu                    82.592845\n",
       "dtype: float64"
      ]
     },
     "execution_count": 11,
     "metadata": {},
     "output_type": "execute_result"
    }
   ],
   "source": [
    "# Dados faltantes para o covid_female\n",
    "covid_female.isna().sum()/len(covid_female)*100"
   ]
  },
  {
   "cell_type": "code",
   "execution_count": 12,
   "metadata": {},
   "outputs": [
    {
     "name": "stderr",
     "output_type": "stream",
     "text": [
      "C:\\Users\\sandro.saorin\\anaconda3\\lib\\site-packages\\pandas\\core\\series.py:4463: SettingWithCopyWarning: \n",
      "A value is trying to be set on a copy of a slice from a DataFrame\n",
      "\n",
      "See the caveats in the documentation: https://pandas.pydata.org/pandas-docs/stable/user_guide/indexing.html#returning-a-view-versus-a-copy\n",
      "  return super().fillna(\n"
     ]
    }
   ],
   "source": [
    "# Estratégia de preenchimento do covid_male\n",
    "for col in covid_male.columns:\n",
    "    if col == 'pregnancy':\n",
    "        covid_male[col].fillna(0, inplace=True) \n",
    "    else:\n",
    "        covid_male[col].fillna(covid_male[col].mode()[0], inplace=True)"
   ]
  },
  {
   "cell_type": "code",
   "execution_count": 13,
   "metadata": {},
   "outputs": [],
   "source": [
    "# Estratégia de preenchimento do covid_female\n",
    "for col in covid_female.columns:\n",
    "    covid_female[col].fillna(covid_female[col].mode()[0], inplace=True)"
   ]
  },
  {
   "cell_type": "code",
   "execution_count": 14,
   "metadata": {
    "scrolled": true
   },
   "outputs": [
    {
     "data": {
      "text/plain": [
       "sex                    0.0\n",
       "patient_type           0.0\n",
       "intubed                0.0\n",
       "pneumonia              0.0\n",
       "age                    0.0\n",
       "pregnancy              0.0\n",
       "diabetes               0.0\n",
       "copd                   0.0\n",
       "asthma                 0.0\n",
       "inmsupr                0.0\n",
       "hypertension           0.0\n",
       "other_disease          0.0\n",
       "cardiovascular         0.0\n",
       "obesity                0.0\n",
       "renal_chronic          0.0\n",
       "tobacco                0.0\n",
       "contact_other_covid    0.0\n",
       "covid_res              0.0\n",
       "icu                    0.0\n",
       "dtype: float64"
      ]
     },
     "execution_count": 14,
     "metadata": {},
     "output_type": "execute_result"
    }
   ],
   "source": [
    "# Reavaliando os dados faltantes covid_male\n",
    "covid_male.isna().sum()/len(covid_male)*100"
   ]
  },
  {
   "cell_type": "code",
   "execution_count": 15,
   "metadata": {},
   "outputs": [
    {
     "data": {
      "text/plain": [
       "sex                    0.0\n",
       "patient_type           0.0\n",
       "intubed                0.0\n",
       "pneumonia              0.0\n",
       "age                    0.0\n",
       "pregnancy              0.0\n",
       "diabetes               0.0\n",
       "copd                   0.0\n",
       "asthma                 0.0\n",
       "inmsupr                0.0\n",
       "hypertension           0.0\n",
       "other_disease          0.0\n",
       "cardiovascular         0.0\n",
       "obesity                0.0\n",
       "renal_chronic          0.0\n",
       "tobacco                0.0\n",
       "contact_other_covid    0.0\n",
       "covid_res              0.0\n",
       "icu                    0.0\n",
       "dtype: float64"
      ]
     },
     "execution_count": 15,
     "metadata": {},
     "output_type": "execute_result"
    }
   ],
   "source": [
    "# Reavaliando os dados faltantes covid_female\n",
    "covid_female.isna().sum()/len(covid_female)*100"
   ]
  },
  {
   "cell_type": "code",
   "execution_count": 16,
   "metadata": {},
   "outputs": [],
   "source": [
    "# Juntando em uma base só novamente\n",
    "covid_clean = pd.concat([covid_male, covid_female])"
   ]
  },
  {
   "cell_type": "code",
   "execution_count": 17,
   "metadata": {},
   "outputs": [
    {
     "data": {
      "text/plain": [
       "(499692, 19)"
      ]
     },
     "execution_count": 17,
     "metadata": {},
     "output_type": "execute_result"
    }
   ],
   "source": [
    "# Verificando problemas no join\n",
    "covid_clean.shape"
   ]
  },
  {
   "cell_type": "code",
   "execution_count": 18,
   "metadata": {
    "scrolled": true
   },
   "outputs": [
    {
     "data": {
      "text/html": [
       "<div>\n",
       "<style scoped>\n",
       "    .dataframe tbody tr th:only-of-type {\n",
       "        vertical-align: middle;\n",
       "    }\n",
       "\n",
       "    .dataframe tbody tr th {\n",
       "        vertical-align: top;\n",
       "    }\n",
       "\n",
       "    .dataframe thead th {\n",
       "        text-align: right;\n",
       "    }\n",
       "</style>\n",
       "<table border=\"1\" class=\"dataframe\">\n",
       "  <thead>\n",
       "    <tr style=\"text-align: right;\">\n",
       "      <th></th>\n",
       "      <th>sex</th>\n",
       "      <th>patient_type</th>\n",
       "      <th>intubed</th>\n",
       "      <th>pneumonia</th>\n",
       "      <th>age</th>\n",
       "      <th>pregnancy</th>\n",
       "      <th>diabetes</th>\n",
       "      <th>copd</th>\n",
       "      <th>asthma</th>\n",
       "      <th>inmsupr</th>\n",
       "      <th>hypertension</th>\n",
       "      <th>other_disease</th>\n",
       "      <th>cardiovascular</th>\n",
       "      <th>obesity</th>\n",
       "      <th>renal_chronic</th>\n",
       "      <th>tobacco</th>\n",
       "      <th>contact_other_covid</th>\n",
       "      <th>covid_res</th>\n",
       "      <th>icu</th>\n",
       "    </tr>\n",
       "  </thead>\n",
       "  <tbody>\n",
       "    <tr>\n",
       "      <th>0</th>\n",
       "      <td>0</td>\n",
       "      <td>1</td>\n",
       "      <td>0.0</td>\n",
       "      <td>0.0</td>\n",
       "      <td>27</td>\n",
       "      <td>0.0</td>\n",
       "      <td>0.0</td>\n",
       "      <td>0.0</td>\n",
       "      <td>0.0</td>\n",
       "      <td>0.0</td>\n",
       "      <td>0.0</td>\n",
       "      <td>0.0</td>\n",
       "      <td>0.0</td>\n",
       "      <td>0.0</td>\n",
       "      <td>0.0</td>\n",
       "      <td>0.0</td>\n",
       "      <td>0.0</td>\n",
       "      <td>1</td>\n",
       "      <td>0.0</td>\n",
       "    </tr>\n",
       "    <tr>\n",
       "      <th>1</th>\n",
       "      <td>0</td>\n",
       "      <td>1</td>\n",
       "      <td>0.0</td>\n",
       "      <td>0.0</td>\n",
       "      <td>24</td>\n",
       "      <td>0.0</td>\n",
       "      <td>0.0</td>\n",
       "      <td>0.0</td>\n",
       "      <td>0.0</td>\n",
       "      <td>0.0</td>\n",
       "      <td>0.0</td>\n",
       "      <td>0.0</td>\n",
       "      <td>0.0</td>\n",
       "      <td>0.0</td>\n",
       "      <td>0.0</td>\n",
       "      <td>0.0</td>\n",
       "      <td>1.0</td>\n",
       "      <td>1</td>\n",
       "      <td>0.0</td>\n",
       "    </tr>\n",
       "    <tr>\n",
       "      <th>3</th>\n",
       "      <td>0</td>\n",
       "      <td>0</td>\n",
       "      <td>0.0</td>\n",
       "      <td>1.0</td>\n",
       "      <td>30</td>\n",
       "      <td>0.0</td>\n",
       "      <td>0.0</td>\n",
       "      <td>0.0</td>\n",
       "      <td>0.0</td>\n",
       "      <td>0.0</td>\n",
       "      <td>0.0</td>\n",
       "      <td>0.0</td>\n",
       "      <td>0.0</td>\n",
       "      <td>0.0</td>\n",
       "      <td>0.0</td>\n",
       "      <td>0.0</td>\n",
       "      <td>1.0</td>\n",
       "      <td>1</td>\n",
       "      <td>0.0</td>\n",
       "    </tr>\n",
       "    <tr>\n",
       "      <th>5</th>\n",
       "      <td>0</td>\n",
       "      <td>0</td>\n",
       "      <td>0.0</td>\n",
       "      <td>1.0</td>\n",
       "      <td>47</td>\n",
       "      <td>0.0</td>\n",
       "      <td>1.0</td>\n",
       "      <td>0.0</td>\n",
       "      <td>0.0</td>\n",
       "      <td>0.0</td>\n",
       "      <td>0.0</td>\n",
       "      <td>0.0</td>\n",
       "      <td>0.0</td>\n",
       "      <td>0.0</td>\n",
       "      <td>0.0</td>\n",
       "      <td>0.0</td>\n",
       "      <td>1.0</td>\n",
       "      <td>1</td>\n",
       "      <td>1.0</td>\n",
       "    </tr>\n",
       "    <tr>\n",
       "      <th>6</th>\n",
       "      <td>0</td>\n",
       "      <td>0</td>\n",
       "      <td>0.0</td>\n",
       "      <td>0.0</td>\n",
       "      <td>63</td>\n",
       "      <td>0.0</td>\n",
       "      <td>0.0</td>\n",
       "      <td>0.0</td>\n",
       "      <td>0.0</td>\n",
       "      <td>0.0</td>\n",
       "      <td>1.0</td>\n",
       "      <td>0.0</td>\n",
       "      <td>0.0</td>\n",
       "      <td>0.0</td>\n",
       "      <td>0.0</td>\n",
       "      <td>0.0</td>\n",
       "      <td>1.0</td>\n",
       "      <td>1</td>\n",
       "      <td>0.0</td>\n",
       "    </tr>\n",
       "  </tbody>\n",
       "</table>\n",
       "</div>"
      ],
      "text/plain": [
       "   sex  patient_type  intubed  pneumonia  age  pregnancy  diabetes  copd  \\\n",
       "0    0             1      0.0        0.0   27        0.0       0.0   0.0   \n",
       "1    0             1      0.0        0.0   24        0.0       0.0   0.0   \n",
       "3    0             0      0.0        1.0   30        0.0       0.0   0.0   \n",
       "5    0             0      0.0        1.0   47        0.0       1.0   0.0   \n",
       "6    0             0      0.0        0.0   63        0.0       0.0   0.0   \n",
       "\n",
       "   asthma  inmsupr  hypertension  other_disease  cardiovascular  obesity  \\\n",
       "0     0.0      0.0           0.0            0.0             0.0      0.0   \n",
       "1     0.0      0.0           0.0            0.0             0.0      0.0   \n",
       "3     0.0      0.0           0.0            0.0             0.0      0.0   \n",
       "5     0.0      0.0           0.0            0.0             0.0      0.0   \n",
       "6     0.0      0.0           1.0            0.0             0.0      0.0   \n",
       "\n",
       "   renal_chronic  tobacco  contact_other_covid  covid_res  icu  \n",
       "0            0.0      0.0                  0.0          1  0.0  \n",
       "1            0.0      0.0                  1.0          1  0.0  \n",
       "3            0.0      0.0                  1.0          1  0.0  \n",
       "5            0.0      0.0                  1.0          1  1.0  \n",
       "6            0.0      0.0                  1.0          1  0.0  "
      ]
     },
     "execution_count": 18,
     "metadata": {},
     "output_type": "execute_result"
    }
   ],
   "source": [
    "# Olhando para os dados\n",
    "covid_clean.head()"
   ]
  },
  {
   "cell_type": "code",
   "execution_count": 19,
   "metadata": {},
   "outputs": [
    {
     "data": {
      "text/html": [
       "<div>\n",
       "<style scoped>\n",
       "    .dataframe tbody tr th:only-of-type {\n",
       "        vertical-align: middle;\n",
       "    }\n",
       "\n",
       "    .dataframe tbody tr th {\n",
       "        vertical-align: top;\n",
       "    }\n",
       "\n",
       "    .dataframe thead th {\n",
       "        text-align: right;\n",
       "    }\n",
       "</style>\n",
       "<table border=\"1\" class=\"dataframe\">\n",
       "  <thead>\n",
       "    <tr style=\"text-align: right;\">\n",
       "      <th></th>\n",
       "      <th>sex</th>\n",
       "      <th>patient_type</th>\n",
       "      <th>intubed</th>\n",
       "      <th>pneumonia</th>\n",
       "      <th>age</th>\n",
       "      <th>pregnancy</th>\n",
       "      <th>diabetes</th>\n",
       "      <th>copd</th>\n",
       "      <th>asthma</th>\n",
       "      <th>inmsupr</th>\n",
       "      <th>hypertension</th>\n",
       "      <th>other_disease</th>\n",
       "      <th>cardiovascular</th>\n",
       "      <th>obesity</th>\n",
       "      <th>renal_chronic</th>\n",
       "      <th>tobacco</th>\n",
       "      <th>contact_other_covid</th>\n",
       "      <th>covid_res</th>\n",
       "      <th>icu</th>\n",
       "    </tr>\n",
       "  </thead>\n",
       "  <tbody>\n",
       "    <tr>\n",
       "      <th>0</th>\n",
       "      <td>0</td>\n",
       "      <td>1</td>\n",
       "      <td>0.0</td>\n",
       "      <td>0.0</td>\n",
       "      <td>27</td>\n",
       "      <td>0.0</td>\n",
       "      <td>0.0</td>\n",
       "      <td>0.0</td>\n",
       "      <td>0.0</td>\n",
       "      <td>0.0</td>\n",
       "      <td>0.0</td>\n",
       "      <td>0.0</td>\n",
       "      <td>0.0</td>\n",
       "      <td>0.0</td>\n",
       "      <td>0.0</td>\n",
       "      <td>0.0</td>\n",
       "      <td>0.0</td>\n",
       "      <td>1</td>\n",
       "      <td>0.0</td>\n",
       "    </tr>\n",
       "    <tr>\n",
       "      <th>1</th>\n",
       "      <td>0</td>\n",
       "      <td>1</td>\n",
       "      <td>0.0</td>\n",
       "      <td>0.0</td>\n",
       "      <td>24</td>\n",
       "      <td>0.0</td>\n",
       "      <td>0.0</td>\n",
       "      <td>0.0</td>\n",
       "      <td>0.0</td>\n",
       "      <td>0.0</td>\n",
       "      <td>0.0</td>\n",
       "      <td>0.0</td>\n",
       "      <td>0.0</td>\n",
       "      <td>0.0</td>\n",
       "      <td>0.0</td>\n",
       "      <td>0.0</td>\n",
       "      <td>1.0</td>\n",
       "      <td>1</td>\n",
       "      <td>0.0</td>\n",
       "    </tr>\n",
       "    <tr>\n",
       "      <th>2</th>\n",
       "      <td>1</td>\n",
       "      <td>0</td>\n",
       "      <td>0.0</td>\n",
       "      <td>0.0</td>\n",
       "      <td>54</td>\n",
       "      <td>0.0</td>\n",
       "      <td>0.0</td>\n",
       "      <td>0.0</td>\n",
       "      <td>0.0</td>\n",
       "      <td>0.0</td>\n",
       "      <td>0.0</td>\n",
       "      <td>0.0</td>\n",
       "      <td>0.0</td>\n",
       "      <td>1.0</td>\n",
       "      <td>0.0</td>\n",
       "      <td>0.0</td>\n",
       "      <td>1.0</td>\n",
       "      <td>1</td>\n",
       "      <td>0.0</td>\n",
       "    </tr>\n",
       "    <tr>\n",
       "      <th>3</th>\n",
       "      <td>0</td>\n",
       "      <td>0</td>\n",
       "      <td>0.0</td>\n",
       "      <td>1.0</td>\n",
       "      <td>30</td>\n",
       "      <td>0.0</td>\n",
       "      <td>0.0</td>\n",
       "      <td>0.0</td>\n",
       "      <td>0.0</td>\n",
       "      <td>0.0</td>\n",
       "      <td>0.0</td>\n",
       "      <td>0.0</td>\n",
       "      <td>0.0</td>\n",
       "      <td>0.0</td>\n",
       "      <td>0.0</td>\n",
       "      <td>0.0</td>\n",
       "      <td>1.0</td>\n",
       "      <td>1</td>\n",
       "      <td>0.0</td>\n",
       "    </tr>\n",
       "    <tr>\n",
       "      <th>4</th>\n",
       "      <td>1</td>\n",
       "      <td>0</td>\n",
       "      <td>0.0</td>\n",
       "      <td>0.0</td>\n",
       "      <td>60</td>\n",
       "      <td>0.0</td>\n",
       "      <td>1.0</td>\n",
       "      <td>0.0</td>\n",
       "      <td>0.0</td>\n",
       "      <td>0.0</td>\n",
       "      <td>1.0</td>\n",
       "      <td>0.0</td>\n",
       "      <td>1.0</td>\n",
       "      <td>0.0</td>\n",
       "      <td>0.0</td>\n",
       "      <td>0.0</td>\n",
       "      <td>1.0</td>\n",
       "      <td>1</td>\n",
       "      <td>0.0</td>\n",
       "    </tr>\n",
       "  </tbody>\n",
       "</table>\n",
       "</div>"
      ],
      "text/plain": [
       "   sex  patient_type  intubed  pneumonia  age  pregnancy  diabetes  copd  \\\n",
       "0    0             1      0.0        0.0   27        0.0       0.0   0.0   \n",
       "1    0             1      0.0        0.0   24        0.0       0.0   0.0   \n",
       "2    1             0      0.0        0.0   54        0.0       0.0   0.0   \n",
       "3    0             0      0.0        1.0   30        0.0       0.0   0.0   \n",
       "4    1             0      0.0        0.0   60        0.0       1.0   0.0   \n",
       "\n",
       "   asthma  inmsupr  hypertension  other_disease  cardiovascular  obesity  \\\n",
       "0     0.0      0.0           0.0            0.0             0.0      0.0   \n",
       "1     0.0      0.0           0.0            0.0             0.0      0.0   \n",
       "2     0.0      0.0           0.0            0.0             0.0      1.0   \n",
       "3     0.0      0.0           0.0            0.0             0.0      0.0   \n",
       "4     0.0      0.0           1.0            0.0             1.0      0.0   \n",
       "\n",
       "   renal_chronic  tobacco  contact_other_covid  covid_res  icu  \n",
       "0            0.0      0.0                  0.0          1  0.0  \n",
       "1            0.0      0.0                  1.0          1  0.0  \n",
       "2            0.0      0.0                  1.0          1  0.0  \n",
       "3            0.0      0.0                  1.0          1  0.0  \n",
       "4            0.0      0.0                  1.0          1  0.0  "
      ]
     },
     "execution_count": 19,
     "metadata": {},
     "output_type": "execute_result"
    }
   ],
   "source": [
    "# Reordenar os dados pelo index\n",
    "covid_clean.sort_index(inplace=True)\n",
    "covid_clean.head()"
   ]
  },
  {
   "cell_type": "code",
   "execution_count": 20,
   "metadata": {},
   "outputs": [],
   "source": [
    "# Speara os dados em X e Y\n",
    "X = covid_clean.drop(['covid_res'], axis=1)\n",
    "y = covid_clean['covid_res']"
   ]
  },
  {
   "cell_type": "code",
   "execution_count": 21,
   "metadata": {},
   "outputs": [],
   "source": [
    "# Separa os dados em treino e teste\n",
    "X_train, X_test, y_train, y_test = train_test_split(X, \n",
    "                                                    y, \n",
    "                                                    test_size=0.3, \n",
    "                                                    random_state=42,\n",
    "                                                    stratify = y)"
   ]
  },
  {
   "cell_type": "code",
   "execution_count": null,
   "metadata": {},
   "outputs": [],
   "source": [
    "# Instancia a normalização\n",
    "scaler = StandardScaler()"
   ]
  },
  {
   "cell_type": "code",
   "execution_count": null,
   "metadata": {},
   "outputs": [],
   "source": [
    "# Normaliza os dados\n",
    "X_train_std = scaler.fit_transform(X_train)\n",
    "X_test_std = scaler.transform(X_test)"
   ]
  },
  {
   "cell_type": "code",
   "execution_count": 22,
   "metadata": {},
   "outputs": [],
   "source": [
    "# Instancia o modelo\n",
    "model = LogisticRegression(max_iter = 1000)"
   ]
  },
  {
   "cell_type": "code",
   "execution_count": 23,
   "metadata": {},
   "outputs": [
    {
     "data": {
      "text/plain": [
       "LogisticRegression(max_iter=1000)"
      ]
     },
     "execution_count": 23,
     "metadata": {},
     "output_type": "execute_result"
    }
   ],
   "source": [
    "# Fit do modelo\n",
    "model.fit(X_train_std, y_train)"
   ]
  },
  {
   "cell_type": "code",
   "execution_count": 28,
   "metadata": {},
   "outputs": [
    {
     "data": {
      "text/plain": [
       "array([0, 0, 0, ..., 0, 1, 0], dtype=int64)"
      ]
     },
     "execution_count": 28,
     "metadata": {},
     "output_type": "execute_result"
    }
   ],
   "source": [
    "# Gera o predict\n",
    "y_pred = model.predict(X_test_std)\n",
    "y_pred"
   ]
  },
  {
   "cell_type": "code",
   "execution_count": 25,
   "metadata": {},
   "outputs": [
    {
     "data": {
      "image/png": "[encoded data removed]",
      "text/plain": [
       "<Figure size 432x288 with 1 Axes>"
      ]
     },
     "metadata": {
      "needs_background": "light"
     },
     "output_type": "display_data"
    }
   ],
   "source": [
    "# gera a matriz de confusão\n",
    "cm = confusion_matrix(y_test, y_pred)\n",
    "plot_confusion_matrix(conf_mat=cm)\n",
    "plt.show()"
   ]
  },
  {
   "cell_type": "code",
   "execution_count": 26,
   "metadata": {
    "scrolled": true
   },
   "outputs": [
    {
     "name": "stdout",
     "output_type": "stream",
     "text": [
      "Acurácia:  0.629806281185794\n",
      "Precision:  0.6485445906831959\n",
      "Recall:  0.35783050847457626\n",
      "F1-Score:  0.46119789896793106\n"
     ]
    }
   ],
   "source": [
    "# Print do Classification report\n",
    "print(classification_report(y_test, y_pred))"
   ]
  },
  {
   "cell_type": "markdown",
   "metadata": {},
   "source": [
    "# Escolha de Threshold"
   ]
  },
  {
   "cell_type": "code",
   "execution_count": 27,
   "metadata": {},
   "outputs": [
    {
     "data": {
      "text/plain": [
       "array([[0.57457861, 0.42542139],\n",
       "       [0.62619628, 0.37380372],\n",
       "       [0.56065392, 0.43934608],\n",
       "       ...,\n",
       "       [0.51946827, 0.48053173],\n",
       "       [0.45358137, 0.54641863],\n",
       "       [0.72356751, 0.27643249]])"
      ]
     },
     "execution_count": 27,
     "metadata": {},
     "output_type": "execute_result"
    }
   ],
   "source": [
    "# Criando o predict proba para a base de teste\n",
    "y_proba_test = model.predict_proba(X_test_std)\n",
    "y_proba_test"
   ]
  },
  {
   "cell_type": "code",
   "execution_count": 29,
   "metadata": {},
   "outputs": [],
   "source": [
    "results_test = pd.DataFrame(y_test)\n",
    "results_test['proba'] = np.round(y_proba_test[:,1], 3)"
   ]
  },
  {
   "cell_type": "code",
   "execution_count": 30,
   "metadata": {},
   "outputs": [
    {
     "data": {
      "text/html": [
       "<div>\n",
       "<style scoped>\n",
       "    .dataframe tbody tr th:only-of-type {\n",
       "        vertical-align: middle;\n",
       "    }\n",
       "\n",
       "    .dataframe tbody tr th {\n",
       "        vertical-align: top;\n",
       "    }\n",
       "\n",
       "    .dataframe thead th {\n",
       "        text-align: right;\n",
       "    }\n",
       "</style>\n",
       "<table border=\"1\" class=\"dataframe\">\n",
       "  <thead>\n",
       "    <tr style=\"text-align: right;\">\n",
       "      <th></th>\n",
       "      <th>covid_res</th>\n",
       "      <th>proba</th>\n",
       "    </tr>\n",
       "  </thead>\n",
       "  <tbody>\n",
       "    <tr>\n",
       "      <th>373402</th>\n",
       "      <td>0</td>\n",
       "      <td>0.425</td>\n",
       "    </tr>\n",
       "    <tr>\n",
       "      <th>181022</th>\n",
       "      <td>1</td>\n",
       "      <td>0.374</td>\n",
       "    </tr>\n",
       "    <tr>\n",
       "      <th>317841</th>\n",
       "      <td>0</td>\n",
       "      <td>0.439</td>\n",
       "    </tr>\n",
       "    <tr>\n",
       "      <th>272745</th>\n",
       "      <td>0</td>\n",
       "      <td>0.362</td>\n",
       "    </tr>\n",
       "    <tr>\n",
       "      <th>153280</th>\n",
       "      <td>1</td>\n",
       "      <td>0.593</td>\n",
       "    </tr>\n",
       "  </tbody>\n",
       "</table>\n",
       "</div>"
      ],
      "text/plain": [
       "        covid_res  proba\n",
       "373402          0  0.425\n",
       "181022          1  0.374\n",
       "317841          0  0.439\n",
       "272745          0  0.362\n",
       "153280          1  0.593"
      ]
     },
     "execution_count": 30,
     "metadata": {},
     "output_type": "execute_result"
    }
   ],
   "source": [
    "#Criando um dataframe com a probabilidade da classe 1 e a marcação de target\n",
    "results_test.head()"
   ]
  },
  {
   "cell_type": "code",
   "execution_count": 31,
   "metadata": {},
   "outputs": [],
   "source": [
    "# Parâmetros para o Looping\n",
    "\n",
    "threshold_increment  = 0.02\n",
    "threshold_begin = threshold_increment\n",
    "threshold_end    = 1.0"
   ]
  },
  {
   "cell_type": "code",
   "execution_count": 32,
   "metadata": {},
   "outputs": [
    {
     "name": "stdout",
     "output_type": "stream",
     "text": [
      "0.02 0.04 0.06 0.08 0.1 0.12 0.14 0.16 0.18 0.2 0.22 0.24 0.26 0.28 0.3 0.32 0.34 0.36 0.38 0.4 0.42 0.44 0.46 0.48 0.5 0.52 0.54 0.56 0.58 0.6 0.62 0.64 0.66 0.68 0.7 0.72 0.74 0.76 0.78 0.8 0.82 0.84 0.86 0.88 0.9 0.92 0.94 "
     ]
    },
    {
     "name": "stderr",
     "output_type": "stream",
     "text": [
      "<ipython-input-32-6bae3eeb6b9f>:28: RuntimeWarning: invalid value encountered in longlong_scalars\n",
      "  precision = np.where((TP + FP) > 0, TP / (TP + FP), 0)\n",
      "<ipython-input-32-6bae3eeb6b9f>:32: RuntimeWarning: invalid value encountered in double_scalars\n",
      "  f1_score = np.where((precision + recall) > 0, (2 * precision * recall)/(precision + recall), 0)\n",
      "<ipython-input-32-6bae3eeb6b9f>:28: RuntimeWarning: invalid value encountered in longlong_scalars\n",
      "  precision = np.where((TP + FP) > 0, TP / (TP + FP), 0)\n",
      "<ipython-input-32-6bae3eeb6b9f>:32: RuntimeWarning: invalid value encountered in double_scalars\n",
      "  f1_score = np.where((precision + recall) > 0, (2 * precision * recall)/(precision + recall), 0)\n",
      "<ipython-input-32-6bae3eeb6b9f>:28: RuntimeWarning: invalid value encountered in longlong_scalars\n",
      "  precision = np.where((TP + FP) > 0, TP / (TP + FP), 0)\n",
      "<ipython-input-32-6bae3eeb6b9f>:32: RuntimeWarning: invalid value encountered in double_scalars\n",
      "  f1_score = np.where((precision + recall) > 0, (2 * precision * recall)/(precision + recall), 0)\n"
     ]
    },
    {
     "name": "stdout",
     "output_type": "stream",
     "text": [
      "0.96 0.98 1.0 "
     ]
    },
    {
     "name": "stderr",
     "output_type": "stream",
     "text": [
      "<ipython-input-32-6bae3eeb6b9f>:28: RuntimeWarning: invalid value encountered in longlong_scalars\n",
      "  precision = np.where((TP + FP) > 0, TP / (TP + FP), 0)\n",
      "<ipython-input-32-6bae3eeb6b9f>:32: RuntimeWarning: invalid value encountered in double_scalars\n",
      "  f1_score = np.where((precision + recall) > 0, (2 * precision * recall)/(precision + recall), 0)\n",
      "<ipython-input-32-6bae3eeb6b9f>:28: RuntimeWarning: invalid value encountered in longlong_scalars\n",
      "  precision = np.where((TP + FP) > 0, TP / (TP + FP), 0)\n",
      "<ipython-input-32-6bae3eeb6b9f>:32: RuntimeWarning: invalid value encountered in double_scalars\n",
      "  f1_score = np.where((precision + recall) > 0, (2 * precision * recall)/(precision + recall), 0)\n",
      "<ipython-input-32-6bae3eeb6b9f>:28: RuntimeWarning: invalid value encountered in longlong_scalars\n",
      "  precision = np.where((TP + FP) > 0, TP / (TP + FP), 0)\n",
      "<ipython-input-32-6bae3eeb6b9f>:32: RuntimeWarning: invalid value encountered in double_scalars\n",
      "  f1_score = np.where((precision + recall) > 0, (2 * precision * recall)/(precision + recall), 0)\n"
     ]
    }
   ],
   "source": [
    "# Para cada threshold, no looping calcula TN, FN, FP, TP e outras métricas\n",
    "\n",
    "list_threshold  = []\n",
    "list_TN         = []\n",
    "list_FN         = []\n",
    "list_FP         = []\n",
    "list_TP         = []\n",
    "list_precision  = []\n",
    "list_recall     = []\n",
    "list_accuracy   = []\n",
    "list_f1_score   = []\n",
    "\n",
    "for i in np.arange(threshold_begin, threshold_end + threshold_increment, threshold_increment):\n",
    "    i_threshold = np.round(i, 2)\n",
    "    print(str(i_threshold) + ' ', end = '')\n",
    "    \n",
    "    results_test['y_pred'] = results_test['proba'].apply(lambda x: 1 if x >= i_threshold else 0)\n",
    "    results_test['flag_TN'] = np.where((results_test['y_pred'] == 0) & (results_test['covid_res'] == 0), 1, 0)\n",
    "    results_test['flag_FN'] = np.where((results_test['y_pred'] == 0) & (results_test['covid_res'] == 1), 1, 0)\n",
    "    results_test['flag_TP'] = np.where((results_test['y_pred'] == 1) & (results_test['covid_res'] == 1), 1, 0)\n",
    "    results_test['flag_FP'] = np.where((results_test['y_pred'] == 1) & (results_test['covid_res'] == 0), 1, 0)\n",
    "  \n",
    "    TN = results_test['flag_TN'].sum()\n",
    "    FN = results_test['flag_FN'].sum()\n",
    "    TP = results_test['flag_TP'].sum()\n",
    "    FP = results_test['flag_FP'].sum()\n",
    "    \n",
    "    precision = np.where((TP + FP) > 0, TP / (TP + FP), 0)\n",
    "    recall = np.where((TP + FN) > 0, TP / (TP + FN), 0)\n",
    "    accuracy = np.where((TN + FN + TP + FP) > 0, \n",
    "                         (TP + TN)/(TN + FN + TP + FP), 0)\n",
    "    f1_score = np.where((precision + recall) > 0, (2 * precision * recall)/(precision + recall), 0)\n",
    "    \n",
    "    list_threshold.append(i_threshold)\n",
    "    list_TN.append(TN)\n",
    "    list_FN.append(FN)\n",
    "    list_FP.append(FP)\n",
    "    list_TP.append(TP)\n",
    "    list_precision.append(np.round(precision, 4))\n",
    "    list_recall.append(np.round(recall, 4))\n",
    "    list_accuracy.append(np.round(accuracy, 4))\n",
    "    list_f1_score.append(np.round(f1_score, 4))\n",
    "\n",
    "#---------------------\n",
    "dict_output = {\n",
    "  \"threshold\" : list_threshold, \n",
    "  \"TN\" : list_TN,\n",
    "  \"FN\" : list_FN,\n",
    "  \"FP\" : list_FP,\n",
    "  \"TP\" : list_TP,\n",
    "  \"precision\" : list_precision,\n",
    "  \"recall\" : list_recall,\n",
    "  \"accuracy\" : list_accuracy,\n",
    "  \"f1_score\" : list_f1_score\n",
    "}\n",
    "\n",
    "df_results = pd.DataFrame(dict_output)"
   ]
  },
  {
   "cell_type": "code",
   "execution_count": 33,
   "metadata": {},
   "outputs": [
    {
     "data": {
      "text/html": [
       "<div>\n",
       "<style scoped>\n",
       "    .dataframe tbody tr th:only-of-type {\n",
       "        vertical-align: middle;\n",
       "    }\n",
       "\n",
       "    .dataframe tbody tr th {\n",
       "        vertical-align: top;\n",
       "    }\n",
       "\n",
       "    .dataframe thead th {\n",
       "        text-align: right;\n",
       "    }\n",
       "</style>\n",
       "<table border=\"1\" class=\"dataframe\">\n",
       "  <thead>\n",
       "    <tr style=\"text-align: right;\">\n",
       "      <th></th>\n",
       "      <th>threshold</th>\n",
       "      <th>TN</th>\n",
       "      <th>FN</th>\n",
       "      <th>FP</th>\n",
       "      <th>TP</th>\n",
       "      <th>precision</th>\n",
       "      <th>recall</th>\n",
       "      <th>accuracy</th>\n",
       "      <th>f1_score</th>\n",
       "    </tr>\n",
       "  </thead>\n",
       "  <tbody>\n",
       "    <tr>\n",
       "      <th>0</th>\n",
       "      <td>0.02</td>\n",
       "      <td>0</td>\n",
       "      <td>0</td>\n",
       "      <td>83533</td>\n",
       "      <td>66375</td>\n",
       "      <td>0.4428</td>\n",
       "      <td>1.0000</td>\n",
       "      <td>0.4428</td>\n",
       "      <td>0.6138</td>\n",
       "    </tr>\n",
       "    <tr>\n",
       "      <th>1</th>\n",
       "      <td>0.04</td>\n",
       "      <td>0</td>\n",
       "      <td>0</td>\n",
       "      <td>83533</td>\n",
       "      <td>66375</td>\n",
       "      <td>0.4428</td>\n",
       "      <td>1.0000</td>\n",
       "      <td>0.4428</td>\n",
       "      <td>0.6138</td>\n",
       "    </tr>\n",
       "    <tr>\n",
       "      <th>2</th>\n",
       "      <td>0.06</td>\n",
       "      <td>3</td>\n",
       "      <td>0</td>\n",
       "      <td>83530</td>\n",
       "      <td>66375</td>\n",
       "      <td>0.4428</td>\n",
       "      <td>1.0000</td>\n",
       "      <td>0.4428</td>\n",
       "      <td>0.6138</td>\n",
       "    </tr>\n",
       "    <tr>\n",
       "      <th>3</th>\n",
       "      <td>0.08</td>\n",
       "      <td>11</td>\n",
       "      <td>5</td>\n",
       "      <td>83522</td>\n",
       "      <td>66370</td>\n",
       "      <td>0.4428</td>\n",
       "      <td>0.9999</td>\n",
       "      <td>0.4428</td>\n",
       "      <td>0.6138</td>\n",
       "    </tr>\n",
       "    <tr>\n",
       "      <th>4</th>\n",
       "      <td>0.10</td>\n",
       "      <td>15</td>\n",
       "      <td>7</td>\n",
       "      <td>83518</td>\n",
       "      <td>66368</td>\n",
       "      <td>0.4428</td>\n",
       "      <td>0.9999</td>\n",
       "      <td>0.4428</td>\n",
       "      <td>0.6138</td>\n",
       "    </tr>\n",
       "    <tr>\n",
       "      <th>5</th>\n",
       "      <td>0.12</td>\n",
       "      <td>21</td>\n",
       "      <td>8</td>\n",
       "      <td>83512</td>\n",
       "      <td>66367</td>\n",
       "      <td>0.4428</td>\n",
       "      <td>0.9999</td>\n",
       "      <td>0.4429</td>\n",
       "      <td>0.6138</td>\n",
       "    </tr>\n",
       "    <tr>\n",
       "      <th>6</th>\n",
       "      <td>0.14</td>\n",
       "      <td>29</td>\n",
       "      <td>11</td>\n",
       "      <td>83504</td>\n",
       "      <td>66364</td>\n",
       "      <td>0.4428</td>\n",
       "      <td>0.9998</td>\n",
       "      <td>0.4429</td>\n",
       "      <td>0.6138</td>\n",
       "    </tr>\n",
       "    <tr>\n",
       "      <th>7</th>\n",
       "      <td>0.16</td>\n",
       "      <td>69</td>\n",
       "      <td>26</td>\n",
       "      <td>83464</td>\n",
       "      <td>66349</td>\n",
       "      <td>0.4429</td>\n",
       "      <td>0.9996</td>\n",
       "      <td>0.4431</td>\n",
       "      <td>0.6138</td>\n",
       "    </tr>\n",
       "    <tr>\n",
       "      <th>8</th>\n",
       "      <td>0.18</td>\n",
       "      <td>121</td>\n",
       "      <td>48</td>\n",
       "      <td>83412</td>\n",
       "      <td>66327</td>\n",
       "      <td>0.4430</td>\n",
       "      <td>0.9993</td>\n",
       "      <td>0.4433</td>\n",
       "      <td>0.6138</td>\n",
       "    </tr>\n",
       "    <tr>\n",
       "      <th>9</th>\n",
       "      <td>0.20</td>\n",
       "      <td>250</td>\n",
       "      <td>87</td>\n",
       "      <td>83283</td>\n",
       "      <td>66288</td>\n",
       "      <td>0.4432</td>\n",
       "      <td>0.9987</td>\n",
       "      <td>0.4439</td>\n",
       "      <td>0.6139</td>\n",
       "    </tr>\n",
       "    <tr>\n",
       "      <th>10</th>\n",
       "      <td>0.22</td>\n",
       "      <td>404</td>\n",
       "      <td>147</td>\n",
       "      <td>83129</td>\n",
       "      <td>66228</td>\n",
       "      <td>0.4434</td>\n",
       "      <td>0.9978</td>\n",
       "      <td>0.4445</td>\n",
       "      <td>0.6140</td>\n",
       "    </tr>\n",
       "    <tr>\n",
       "      <th>11</th>\n",
       "      <td>0.24</td>\n",
       "      <td>993</td>\n",
       "      <td>325</td>\n",
       "      <td>82540</td>\n",
       "      <td>66050</td>\n",
       "      <td>0.4445</td>\n",
       "      <td>0.9951</td>\n",
       "      <td>0.4472</td>\n",
       "      <td>0.6145</td>\n",
       "    </tr>\n",
       "    <tr>\n",
       "      <th>12</th>\n",
       "      <td>0.26</td>\n",
       "      <td>2082</td>\n",
       "      <td>740</td>\n",
       "      <td>81451</td>\n",
       "      <td>65635</td>\n",
       "      <td>0.4462</td>\n",
       "      <td>0.9889</td>\n",
       "      <td>0.4517</td>\n",
       "      <td>0.6150</td>\n",
       "    </tr>\n",
       "    <tr>\n",
       "      <th>13</th>\n",
       "      <td>0.28</td>\n",
       "      <td>4513</td>\n",
       "      <td>1625</td>\n",
       "      <td>79020</td>\n",
       "      <td>64750</td>\n",
       "      <td>0.4504</td>\n",
       "      <td>0.9755</td>\n",
       "      <td>0.4620</td>\n",
       "      <td>0.6162</td>\n",
       "    </tr>\n",
       "    <tr>\n",
       "      <th>14</th>\n",
       "      <td>0.30</td>\n",
       "      <td>8058</td>\n",
       "      <td>3162</td>\n",
       "      <td>75475</td>\n",
       "      <td>63213</td>\n",
       "      <td>0.4558</td>\n",
       "      <td>0.9524</td>\n",
       "      <td>0.4754</td>\n",
       "      <td>0.6165</td>\n",
       "    </tr>\n",
       "    <tr>\n",
       "      <th>15</th>\n",
       "      <td>0.32</td>\n",
       "      <td>13873</td>\n",
       "      <td>5924</td>\n",
       "      <td>69660</td>\n",
       "      <td>60451</td>\n",
       "      <td>0.4646</td>\n",
       "      <td>0.9107</td>\n",
       "      <td>0.4958</td>\n",
       "      <td>0.6153</td>\n",
       "    </tr>\n",
       "    <tr>\n",
       "      <th>16</th>\n",
       "      <td>0.34</td>\n",
       "      <td>22273</td>\n",
       "      <td>10295</td>\n",
       "      <td>61260</td>\n",
       "      <td>56080</td>\n",
       "      <td>0.4779</td>\n",
       "      <td>0.8449</td>\n",
       "      <td>0.5227</td>\n",
       "      <td>0.6105</td>\n",
       "    </tr>\n",
       "    <tr>\n",
       "      <th>17</th>\n",
       "      <td>0.36</td>\n",
       "      <td>31068</td>\n",
       "      <td>15191</td>\n",
       "      <td>52465</td>\n",
       "      <td>51184</td>\n",
       "      <td>0.4938</td>\n",
       "      <td>0.7711</td>\n",
       "      <td>0.5487</td>\n",
       "      <td>0.6021</td>\n",
       "    </tr>\n",
       "    <tr>\n",
       "      <th>18</th>\n",
       "      <td>0.38</td>\n",
       "      <td>39412</td>\n",
       "      <td>20131</td>\n",
       "      <td>44121</td>\n",
       "      <td>46244</td>\n",
       "      <td>0.5117</td>\n",
       "      <td>0.6967</td>\n",
       "      <td>0.5714</td>\n",
       "      <td>0.5901</td>\n",
       "    </tr>\n",
       "    <tr>\n",
       "      <th>19</th>\n",
       "      <td>0.40</td>\n",
       "      <td>48311</td>\n",
       "      <td>25567</td>\n",
       "      <td>35222</td>\n",
       "      <td>40808</td>\n",
       "      <td>0.5367</td>\n",
       "      <td>0.6148</td>\n",
       "      <td>0.5945</td>\n",
       "      <td>0.5731</td>\n",
       "    </tr>\n",
       "    <tr>\n",
       "      <th>20</th>\n",
       "      <td>0.42</td>\n",
       "      <td>55037</td>\n",
       "      <td>30235</td>\n",
       "      <td>28496</td>\n",
       "      <td>36140</td>\n",
       "      <td>0.5591</td>\n",
       "      <td>0.5445</td>\n",
       "      <td>0.6082</td>\n",
       "      <td>0.5517</td>\n",
       "    </tr>\n",
       "    <tr>\n",
       "      <th>21</th>\n",
       "      <td>0.44</td>\n",
       "      <td>60295</td>\n",
       "      <td>34061</td>\n",
       "      <td>23238</td>\n",
       "      <td>32314</td>\n",
       "      <td>0.5817</td>\n",
       "      <td>0.4868</td>\n",
       "      <td>0.6178</td>\n",
       "      <td>0.5301</td>\n",
       "    </tr>\n",
       "    <tr>\n",
       "      <th>22</th>\n",
       "      <td>0.46</td>\n",
       "      <td>64478</td>\n",
       "      <td>37296</td>\n",
       "      <td>19055</td>\n",
       "      <td>29079</td>\n",
       "      <td>0.6041</td>\n",
       "      <td>0.4381</td>\n",
       "      <td>0.6241</td>\n",
       "      <td>0.5079</td>\n",
       "    </tr>\n",
       "    <tr>\n",
       "      <th>23</th>\n",
       "      <td>0.48</td>\n",
       "      <td>67990</td>\n",
       "      <td>40185</td>\n",
       "      <td>15543</td>\n",
       "      <td>26190</td>\n",
       "      <td>0.6276</td>\n",
       "      <td>0.3946</td>\n",
       "      <td>0.6283</td>\n",
       "      <td>0.4845</td>\n",
       "    </tr>\n",
       "    <tr>\n",
       "      <th>24</th>\n",
       "      <td>0.50</td>\n",
       "      <td>70629</td>\n",
       "      <td>42605</td>\n",
       "      <td>12904</td>\n",
       "      <td>23770</td>\n",
       "      <td>0.6481</td>\n",
       "      <td>0.3581</td>\n",
       "      <td>0.6297</td>\n",
       "      <td>0.4613</td>\n",
       "    </tr>\n",
       "    <tr>\n",
       "      <th>25</th>\n",
       "      <td>0.52</td>\n",
       "      <td>72668</td>\n",
       "      <td>44563</td>\n",
       "      <td>10865</td>\n",
       "      <td>21812</td>\n",
       "      <td>0.6675</td>\n",
       "      <td>0.3286</td>\n",
       "      <td>0.6303</td>\n",
       "      <td>0.4404</td>\n",
       "    </tr>\n",
       "    <tr>\n",
       "      <th>26</th>\n",
       "      <td>0.54</td>\n",
       "      <td>74336</td>\n",
       "      <td>46323</td>\n",
       "      <td>9197</td>\n",
       "      <td>20052</td>\n",
       "      <td>0.6856</td>\n",
       "      <td>0.3021</td>\n",
       "      <td>0.6296</td>\n",
       "      <td>0.4194</td>\n",
       "    </tr>\n",
       "    <tr>\n",
       "      <th>27</th>\n",
       "      <td>0.56</td>\n",
       "      <td>75526</td>\n",
       "      <td>47831</td>\n",
       "      <td>8007</td>\n",
       "      <td>18544</td>\n",
       "      <td>0.6984</td>\n",
       "      <td>0.2794</td>\n",
       "      <td>0.6275</td>\n",
       "      <td>0.3991</td>\n",
       "    </tr>\n",
       "    <tr>\n",
       "      <th>28</th>\n",
       "      <td>0.58</td>\n",
       "      <td>76519</td>\n",
       "      <td>49128</td>\n",
       "      <td>7014</td>\n",
       "      <td>17247</td>\n",
       "      <td>0.7109</td>\n",
       "      <td>0.2598</td>\n",
       "      <td>0.6255</td>\n",
       "      <td>0.3806</td>\n",
       "    </tr>\n",
       "    <tr>\n",
       "      <th>29</th>\n",
       "      <td>0.60</td>\n",
       "      <td>77380</td>\n",
       "      <td>50446</td>\n",
       "      <td>6153</td>\n",
       "      <td>15929</td>\n",
       "      <td>0.7214</td>\n",
       "      <td>0.2400</td>\n",
       "      <td>0.6224</td>\n",
       "      <td>0.3602</td>\n",
       "    </tr>\n",
       "    <tr>\n",
       "      <th>30</th>\n",
       "      <td>0.62</td>\n",
       "      <td>78192</td>\n",
       "      <td>51775</td>\n",
       "      <td>5341</td>\n",
       "      <td>14600</td>\n",
       "      <td>0.7322</td>\n",
       "      <td>0.2200</td>\n",
       "      <td>0.6190</td>\n",
       "      <td>0.3383</td>\n",
       "    </tr>\n",
       "    <tr>\n",
       "      <th>31</th>\n",
       "      <td>0.64</td>\n",
       "      <td>78887</td>\n",
       "      <td>53167</td>\n",
       "      <td>4646</td>\n",
       "      <td>13208</td>\n",
       "      <td>0.7398</td>\n",
       "      <td>0.1990</td>\n",
       "      <td>0.6143</td>\n",
       "      <td>0.3136</td>\n",
       "    </tr>\n",
       "    <tr>\n",
       "      <th>32</th>\n",
       "      <td>0.66</td>\n",
       "      <td>79565</td>\n",
       "      <td>54576</td>\n",
       "      <td>3968</td>\n",
       "      <td>11799</td>\n",
       "      <td>0.7483</td>\n",
       "      <td>0.1778</td>\n",
       "      <td>0.6095</td>\n",
       "      <td>0.2873</td>\n",
       "    </tr>\n",
       "    <tr>\n",
       "      <th>33</th>\n",
       "      <td>0.68</td>\n",
       "      <td>80214</td>\n",
       "      <td>56090</td>\n",
       "      <td>3319</td>\n",
       "      <td>10285</td>\n",
       "      <td>0.7560</td>\n",
       "      <td>0.1550</td>\n",
       "      <td>0.6037</td>\n",
       "      <td>0.2572</td>\n",
       "    </tr>\n",
       "    <tr>\n",
       "      <th>34</th>\n",
       "      <td>0.70</td>\n",
       "      <td>80841</td>\n",
       "      <td>57655</td>\n",
       "      <td>2692</td>\n",
       "      <td>8720</td>\n",
       "      <td>0.7641</td>\n",
       "      <td>0.1314</td>\n",
       "      <td>0.5974</td>\n",
       "      <td>0.2242</td>\n",
       "    </tr>\n",
       "    <tr>\n",
       "      <th>35</th>\n",
       "      <td>0.72</td>\n",
       "      <td>81459</td>\n",
       "      <td>59387</td>\n",
       "      <td>2074</td>\n",
       "      <td>6988</td>\n",
       "      <td>0.7711</td>\n",
       "      <td>0.1053</td>\n",
       "      <td>0.5900</td>\n",
       "      <td>0.1853</td>\n",
       "    </tr>\n",
       "    <tr>\n",
       "      <th>36</th>\n",
       "      <td>0.74</td>\n",
       "      <td>81996</td>\n",
       "      <td>61087</td>\n",
       "      <td>1537</td>\n",
       "      <td>5288</td>\n",
       "      <td>0.7748</td>\n",
       "      <td>0.0797</td>\n",
       "      <td>0.5823</td>\n",
       "      <td>0.1445</td>\n",
       "    </tr>\n",
       "    <tr>\n",
       "      <th>37</th>\n",
       "      <td>0.76</td>\n",
       "      <td>82494</td>\n",
       "      <td>62759</td>\n",
       "      <td>1039</td>\n",
       "      <td>3616</td>\n",
       "      <td>0.7768</td>\n",
       "      <td>0.0545</td>\n",
       "      <td>0.5744</td>\n",
       "      <td>0.1018</td>\n",
       "    </tr>\n",
       "    <tr>\n",
       "      <th>38</th>\n",
       "      <td>0.78</td>\n",
       "      <td>82897</td>\n",
       "      <td>64181</td>\n",
       "      <td>636</td>\n",
       "      <td>2194</td>\n",
       "      <td>0.7753</td>\n",
       "      <td>0.0331</td>\n",
       "      <td>0.5676</td>\n",
       "      <td>0.0634</td>\n",
       "    </tr>\n",
       "    <tr>\n",
       "      <th>39</th>\n",
       "      <td>0.80</td>\n",
       "      <td>83220</td>\n",
       "      <td>65229</td>\n",
       "      <td>313</td>\n",
       "      <td>1146</td>\n",
       "      <td>0.7855</td>\n",
       "      <td>0.0173</td>\n",
       "      <td>0.5628</td>\n",
       "      <td>0.0338</td>\n",
       "    </tr>\n",
       "    <tr>\n",
       "      <th>40</th>\n",
       "      <td>0.82</td>\n",
       "      <td>83408</td>\n",
       "      <td>65894</td>\n",
       "      <td>125</td>\n",
       "      <td>481</td>\n",
       "      <td>0.7937</td>\n",
       "      <td>0.0072</td>\n",
       "      <td>0.5596</td>\n",
       "      <td>0.0144</td>\n",
       "    </tr>\n",
       "    <tr>\n",
       "      <th>41</th>\n",
       "      <td>0.84</td>\n",
       "      <td>83494</td>\n",
       "      <td>66201</td>\n",
       "      <td>39</td>\n",
       "      <td>174</td>\n",
       "      <td>0.8169</td>\n",
       "      <td>0.0026</td>\n",
       "      <td>0.5581</td>\n",
       "      <td>0.0052</td>\n",
       "    </tr>\n",
       "    <tr>\n",
       "      <th>42</th>\n",
       "      <td>0.86</td>\n",
       "      <td>83524</td>\n",
       "      <td>66328</td>\n",
       "      <td>9</td>\n",
       "      <td>47</td>\n",
       "      <td>0.8393</td>\n",
       "      <td>0.0007</td>\n",
       "      <td>0.5575</td>\n",
       "      <td>0.0014</td>\n",
       "    </tr>\n",
       "    <tr>\n",
       "      <th>43</th>\n",
       "      <td>0.88</td>\n",
       "      <td>83533</td>\n",
       "      <td>66370</td>\n",
       "      <td>0</td>\n",
       "      <td>5</td>\n",
       "      <td>1.0000</td>\n",
       "      <td>0.0001</td>\n",
       "      <td>0.5573</td>\n",
       "      <td>0.0002</td>\n",
       "    </tr>\n",
       "    <tr>\n",
       "      <th>44</th>\n",
       "      <td>0.90</td>\n",
       "      <td>83533</td>\n",
       "      <td>66375</td>\n",
       "      <td>0</td>\n",
       "      <td>0</td>\n",
       "      <td>0.0000</td>\n",
       "      <td>0.0000</td>\n",
       "      <td>0.5572</td>\n",
       "      <td>0.0000</td>\n",
       "    </tr>\n",
       "    <tr>\n",
       "      <th>45</th>\n",
       "      <td>0.92</td>\n",
       "      <td>83533</td>\n",
       "      <td>66375</td>\n",
       "      <td>0</td>\n",
       "      <td>0</td>\n",
       "      <td>0.0000</td>\n",
       "      <td>0.0000</td>\n",
       "      <td>0.5572</td>\n",
       "      <td>0.0000</td>\n",
       "    </tr>\n",
       "    <tr>\n",
       "      <th>46</th>\n",
       "      <td>0.94</td>\n",
       "      <td>83533</td>\n",
       "      <td>66375</td>\n",
       "      <td>0</td>\n",
       "      <td>0</td>\n",
       "      <td>0.0000</td>\n",
       "      <td>0.0000</td>\n",
       "      <td>0.5572</td>\n",
       "      <td>0.0000</td>\n",
       "    </tr>\n",
       "    <tr>\n",
       "      <th>47</th>\n",
       "      <td>0.96</td>\n",
       "      <td>83533</td>\n",
       "      <td>66375</td>\n",
       "      <td>0</td>\n",
       "      <td>0</td>\n",
       "      <td>0.0000</td>\n",
       "      <td>0.0000</td>\n",
       "      <td>0.5572</td>\n",
       "      <td>0.0000</td>\n",
       "    </tr>\n",
       "    <tr>\n",
       "      <th>48</th>\n",
       "      <td>0.98</td>\n",
       "      <td>83533</td>\n",
       "      <td>66375</td>\n",
       "      <td>0</td>\n",
       "      <td>0</td>\n",
       "      <td>0.0000</td>\n",
       "      <td>0.0000</td>\n",
       "      <td>0.5572</td>\n",
       "      <td>0.0000</td>\n",
       "    </tr>\n",
       "    <tr>\n",
       "      <th>49</th>\n",
       "      <td>1.00</td>\n",
       "      <td>83533</td>\n",
       "      <td>66375</td>\n",
       "      <td>0</td>\n",
       "      <td>0</td>\n",
       "      <td>0.0000</td>\n",
       "      <td>0.0000</td>\n",
       "      <td>0.5572</td>\n",
       "      <td>0.0000</td>\n",
       "    </tr>\n",
       "  </tbody>\n",
       "</table>\n",
       "</div>"
      ],
      "text/plain": [
       "    threshold     TN     FN     FP     TP  precision  recall  accuracy  \\\n",
       "0        0.02      0      0  83533  66375     0.4428  1.0000    0.4428   \n",
       "1        0.04      0      0  83533  66375     0.4428  1.0000    0.4428   \n",
       "2        0.06      3      0  83530  66375     0.4428  1.0000    0.4428   \n",
       "3        0.08     11      5  83522  66370     0.4428  0.9999    0.4428   \n",
       "4        0.10     15      7  83518  66368     0.4428  0.9999    0.4428   \n",
       "5        0.12     21      8  83512  66367     0.4428  0.9999    0.4429   \n",
       "6        0.14     29     11  83504  66364     0.4428  0.9998    0.4429   \n",
       "7        0.16     69     26  83464  66349     0.4429  0.9996    0.4431   \n",
       "8        0.18    121     48  83412  66327     0.4430  0.9993    0.4433   \n",
       "9        0.20    250     87  83283  66288     0.4432  0.9987    0.4439   \n",
       "10       0.22    404    147  83129  66228     0.4434  0.9978    0.4445   \n",
       "11       0.24    993    325  82540  66050     0.4445  0.9951    0.4472   \n",
       "12       0.26   2082    740  81451  65635     0.4462  0.9889    0.4517   \n",
       "13       0.28   4513   1625  79020  64750     0.4504  0.9755    0.4620   \n",
       "14       0.30   8058   3162  75475  63213     0.4558  0.9524    0.4754   \n",
       "15       0.32  13873   5924  69660  60451     0.4646  0.9107    0.4958   \n",
       "16       0.34  22273  10295  61260  56080     0.4779  0.8449    0.5227   \n",
       "17       0.36  31068  15191  52465  51184     0.4938  0.7711    0.5487   \n",
       "18       0.38  39412  20131  44121  46244     0.5117  0.6967    0.5714   \n",
       "19       0.40  48311  25567  35222  40808     0.5367  0.6148    0.5945   \n",
       "20       0.42  55037  30235  28496  36140     0.5591  0.5445    0.6082   \n",
       "21       0.44  60295  34061  23238  32314     0.5817  0.4868    0.6178   \n",
       "22       0.46  64478  37296  19055  29079     0.6041  0.4381    0.6241   \n",
       "23       0.48  67990  40185  15543  26190     0.6276  0.3946    0.6283   \n",
       "24       0.50  70629  42605  12904  23770     0.6481  0.3581    0.6297   \n",
       "25       0.52  72668  44563  10865  21812     0.6675  0.3286    0.6303   \n",
       "26       0.54  74336  46323   9197  20052     0.6856  0.3021    0.6296   \n",
       "27       0.56  75526  47831   8007  18544     0.6984  0.2794    0.6275   \n",
       "28       0.58  76519  49128   7014  17247     0.7109  0.2598    0.6255   \n",
       "29       0.60  77380  50446   6153  15929     0.7214  0.2400    0.6224   \n",
       "30       0.62  78192  51775   5341  14600     0.7322  0.2200    0.6190   \n",
       "31       0.64  78887  53167   4646  13208     0.7398  0.1990    0.6143   \n",
       "32       0.66  79565  54576   3968  11799     0.7483  0.1778    0.6095   \n",
       "33       0.68  80214  56090   3319  10285     0.7560  0.1550    0.6037   \n",
       "34       0.70  80841  57655   2692   8720     0.7641  0.1314    0.5974   \n",
       "35       0.72  81459  59387   2074   6988     0.7711  0.1053    0.5900   \n",
       "36       0.74  81996  61087   1537   5288     0.7748  0.0797    0.5823   \n",
       "37       0.76  82494  62759   1039   3616     0.7768  0.0545    0.5744   \n",
       "38       0.78  82897  64181    636   2194     0.7753  0.0331    0.5676   \n",
       "39       0.80  83220  65229    313   1146     0.7855  0.0173    0.5628   \n",
       "40       0.82  83408  65894    125    481     0.7937  0.0072    0.5596   \n",
       "41       0.84  83494  66201     39    174     0.8169  0.0026    0.5581   \n",
       "42       0.86  83524  66328      9     47     0.8393  0.0007    0.5575   \n",
       "43       0.88  83533  66370      0      5     1.0000  0.0001    0.5573   \n",
       "44       0.90  83533  66375      0      0     0.0000  0.0000    0.5572   \n",
       "45       0.92  83533  66375      0      0     0.0000  0.0000    0.5572   \n",
       "46       0.94  83533  66375      0      0     0.0000  0.0000    0.5572   \n",
       "47       0.96  83533  66375      0      0     0.0000  0.0000    0.5572   \n",
       "48       0.98  83533  66375      0      0     0.0000  0.0000    0.5572   \n",
       "49       1.00  83533  66375      0      0     0.0000  0.0000    0.5572   \n",
       "\n",
       "    f1_score  \n",
       "0     0.6138  \n",
       "1     0.6138  \n",
       "2     0.6138  \n",
       "3     0.6138  \n",
       "4     0.6138  \n",
       "5     0.6138  \n",
       "6     0.6138  \n",
       "7     0.6138  \n",
       "8     0.6138  \n",
       "9     0.6139  \n",
       "10    0.6140  \n",
       "11    0.6145  \n",
       "12    0.6150  \n",
       "13    0.6162  \n",
       "14    0.6165  \n",
       "15    0.6153  \n",
       "16    0.6105  \n",
       "17    0.6021  \n",
       "18    0.5901  \n",
       "19    0.5731  \n",
       "20    0.5517  \n",
       "21    0.5301  \n",
       "22    0.5079  \n",
       "23    0.4845  \n",
       "24    0.4613  \n",
       "25    0.4404  \n",
       "26    0.4194  \n",
       "27    0.3991  \n",
       "28    0.3806  \n",
       "29    0.3602  \n",
       "30    0.3383  \n",
       "31    0.3136  \n",
       "32    0.2873  \n",
       "33    0.2572  \n",
       "34    0.2242  \n",
       "35    0.1853  \n",
       "36    0.1445  \n",
       "37    0.1018  \n",
       "38    0.0634  \n",
       "39    0.0338  \n",
       "40    0.0144  \n",
       "41    0.0052  \n",
       "42    0.0014  \n",
       "43    0.0002  \n",
       "44    0.0000  \n",
       "45    0.0000  \n",
       "46    0.0000  \n",
       "47    0.0000  \n",
       "48    0.0000  \n",
       "49    0.0000  "
      ]
     },
     "execution_count": 33,
     "metadata": {},
     "output_type": "execute_result"
    }
   ],
   "source": [
    "# tabela de Thresholds\n",
    "df_results"
   ]
  },
  {
   "cell_type": "code",
   "execution_count": 34,
   "metadata": {},
   "outputs": [
    {
     "data": {
      "text/plain": [
       "Text(0.5, 1.0, 'Precision and Recall')"
      ]
     },
     "execution_count": 34,
     "metadata": {},
     "output_type": "execute_result"
    },
    {
     "data": {
      "image/png": "[encoded data removed]",
      "text/plain": [
       "<Figure size 576x432 with 1 Axes>"
      ]
     },
     "metadata": {
      "needs_background": "light"
     },
     "output_type": "display_data"
    }
   ],
   "source": [
    "# Precison-Recall-Threshold Curve\n",
    "\n",
    "k = 2\n",
    "fig = plt.figure(figsize = (k*4,k*3))\n",
    "ax1 = fig.add_subplot(111)\n",
    "ax1.scatter(df_results['threshold'], df_results['precision'], color = 'b', s = 7)\n",
    "ax1.scatter(df_results['threshold'], df_results['recall']   , color = 'g', s = 7)\n",
    "ax1.set_xlabel('Threshold', fontsize = 12)\n",
    "ax1.set_ylabel('Proportion', fontsize = 12)\n",
    "plt.title(\"Precision and Recall\", fontsize = 15)"
   ]
  },
  {
   "cell_type": "code",
   "execution_count": 35,
   "metadata": {},
   "outputs": [
    {
     "data": {
      "text/plain": [
       "[Text(0.5, 0, 'Threshold'), Text(0, 0.5, 'F1 Score'), (0.0, 1.02), (0.0, 1.0)]"
      ]
     },
     "execution_count": 35,
     "metadata": {},
     "output_type": "execute_result"
    },
    {
     "data": {
      "image/png": "[encoded data removed]",
      "text/plain": [
       "<Figure size 576x432 with 1 Axes>"
      ]
     },
     "metadata": {
      "needs_background": "light"
     },
     "output_type": "display_data"
    }
   ],
   "source": [
    "# F1-Score Curve\n",
    "\n",
    "grap = df_results[df_results[\"threshold\"] > 0.0].plot(kind=\"scatter\", \n",
    "                                                         x=\"threshold\", \n",
    "                                                         y=\"f1_score\", \n",
    "                                                         grid=False, \n",
    "                                                         legend=True, \n",
    "                                                         title=\"F1-Score\",\n",
    "                                                         figsize=[8,6])\n",
    "grap.set(xlabel=\"Threshold\", \n",
    "            ylabel=\"F1 Score\", \n",
    "            xlim=(0.0,1.02), \n",
    "            ylim=(0.0,1.0))\n"
   ]
  },
  {
   "cell_type": "code",
   "execution_count": 36,
   "metadata": {},
   "outputs": [
    {
     "data": {
      "text/plain": [
       "array([1, 1, 1, ..., 1, 1, 0])"
      ]
     },
     "execution_count": 36,
     "metadata": {},
     "output_type": "execute_result"
    }
   ],
   "source": [
    "# Cria o predict usando um novo threshold\n",
    "\n",
    "y_pred2 = np.where(y_proba_test[:,1] >= 0.3, 1, 0)\n",
    "y_pred2"
   ]
  },
  {
   "cell_type": "code",
   "execution_count": 37,
   "metadata": {
    "scrolled": true
   },
   "outputs": [
    {
     "data": {
      "image/png": "[encoded data removed]",
      "text/plain": [
       "<Figure size 432x288 with 1 Axes>"
      ]
     },
     "metadata": {
      "needs_background": "light"
     },
     "output_type": "display_data"
    }
   ],
   "source": [
    "# Matriz de Confusão\n",
    "cm = confusion_matrix(y_test, y_pred2)\n",
    "plot_confusion_matrix(conf_mat=cm)\n",
    "plt.show()"
   ]
  },
  {
   "cell_type": "code",
   "execution_count": 38,
   "metadata": {},
   "outputs": [
    {
     "name": "stdout",
     "output_type": "stream",
     "text": [
      "              precision    recall  f1-score   support\n",
      "\n",
      "           0       0.72      0.10      0.18     83533\n",
      "           1       0.46      0.95      0.62     66375\n",
      "\n",
      "    accuracy                           0.48    149908\n",
      "   macro avg       0.59      0.53      0.40    149908\n",
      "weighted avg       0.60      0.48      0.37    149908\n",
      "\n"
     ]
    }
   ],
   "source": [
    "# Print do classification report\n",
    "print(classification_report(y_test, y_pred2))"
   ]
  },
  {
   "cell_type": "markdown",
   "metadata": {},
   "source": [
    "**2)** [Admissão em Faculdades para Estudantes Indianos](https://www.kaggle.com/mohansacharya/graduate-admissions): Esses dados estão no dataset *Admission_Predict.csv* e nele encontramos alguns dados sobre estudantes indianos que tem interesse em ingressar na Universidade. As variáveis que estão disponíveis são:\n",
    "\n",
    "- GRE Scores\n",
    "- TOEFL Scores\n",
    "- University Rating\n",
    "- SOP: Statement of Purpose \n",
    "- LOR: Letter of Recommendation Strength\n",
    "- CGPA: Undergraduate GPA\n",
    "- Research Experience\n",
    "- Chance of Admit\n",
    "\n",
    "**DICA:** Vocês irão perceber que o valor da target 'Chance of Admit ' não vai estar em binário, para transformar os dados vocês podem utilizar a função [np.where](https://numpy.org/doc/stable/reference/generated/numpy.where.html) com um threshold de 0.5"
   ]
  },
  {
   "cell_type": "code",
   "execution_count": null,
   "metadata": {},
   "outputs": [],
   "source": [
    "# Carrega os dados pelo CSV\n",
    "grades = pd.read_csv('Admission_Predict.csv')"
   ]
  },
  {
   "cell_type": "code",
   "execution_count": null,
   "metadata": {},
   "outputs": [],
   "source": [
    "# Print dos primeiros dados do DataFrame\n",
    "grades.head()"
   ]
  },
  {
   "cell_type": "code",
   "execution_count": null,
   "metadata": {},
   "outputs": [],
   "source": [
    "# Principais estatisticas do dataset\n",
    "grades.describe()"
   ]
  },
  {
   "cell_type": "code",
   "execution_count": null,
   "metadata": {},
   "outputs": [],
   "source": [
    "# Avaliando a distribuição das notas dos alunos\n",
    "sns.distplot(grades['Chance of Admit '])\n",
    "plt.show()"
   ]
  },
  {
   "cell_type": "markdown",
   "metadata": {},
   "source": [
    "**Ponto Importante deste exercício!:** Repare que a média das notas de aprovações dos alunos é muito mais alta que o valor default da Regressão Logística de 0,5. Por isso devemos colocar um threshold de 0,7 para sim equilibrar a nossa base:"
   ]
  },
  {
   "cell_type": "code",
   "execution_count": null,
   "metadata": {},
   "outputs": [],
   "source": [
    "# Modifica a variável target\n",
    "grades['Chance of Admit '] = np.where(grades['Chance of Admit '] >= 0.7, 1, 0)"
   ]
  },
  {
   "cell_type": "code",
   "execution_count": null,
   "metadata": {},
   "outputs": [],
   "source": [
    "# Separa os dados em X e Y\n",
    "X = grades.drop(['Chance of Admit '], axis = 1)\n",
    "y = grades['Chance of Admit ']"
   ]
  },
  {
   "cell_type": "code",
   "execution_count": null,
   "metadata": {},
   "outputs": [],
   "source": [
    "# Separa os dados em treino e teste\n",
    "X_train, X_test, y_train, y_test = train_test_split(X, \n",
    "                                                    y, \n",
    "                                                    test_size=0.3, \n",
    "                                                    random_state=42,\n",
    "                                                    stratify = y)"
   ]
  },
  {
   "cell_type": "code",
   "execution_count": null,
   "metadata": {},
   "outputs": [],
   "source": [
    "# Instancia a normalização\n",
    "scaler = StandardScaler()"
   ]
  },
  {
   "cell_type": "code",
   "execution_count": null,
   "metadata": {},
   "outputs": [],
   "source": [
    "# Normaliza os dados\n",
    "X_train_std = scaler.fit_transform(X_train)\n",
    "X_test_std = scaler.transform(X_test)"
   ]
  },
  {
   "cell_type": "code",
   "execution_count": 22,
   "metadata": {},
   "outputs": [],
   "source": [
    "# Instancia o modelo\n",
    "model = LogisticRegression()"
   ]
  },
  {
   "cell_type": "code",
   "execution_count": 23,
   "metadata": {},
   "outputs": [
    {
     "data": {
      "text/plain": [
       "LogisticRegression(max_iter=1000)"
      ]
     },
     "execution_count": 23,
     "metadata": {},
     "output_type": "execute_result"
    }
   ],
   "source": [
    "# Fit do modelo\n",
    "model.fit(X_train_std, y_train)"
   ]
  },
  {
   "cell_type": "code",
   "execution_count": 28,
   "metadata": {},
   "outputs": [
    {
     "data": {
      "text/plain": [
       "array([0, 0, 0, ..., 0, 1, 0], dtype=int64)"
      ]
     },
     "execution_count": 28,
     "metadata": {},
     "output_type": "execute_result"
    }
   ],
   "source": [
    "# Gera o predict\n",
    "y_pred = model.predict(X_test_std)\n",
    "y_pred"
   ]
  },
  {
   "cell_type": "code",
   "execution_count": null,
   "metadata": {},
   "outputs": [],
   "source": [
    "#Print do classification report\n",
    "print(classification_report(y_test, y_pred))"
   ]
  },
  {
   "cell_type": "code",
   "execution_count": null,
   "metadata": {},
   "outputs": [],
   "source": [
    "# Plot da Matriz de Confusão\n",
    "cm = confusion_matrix(y_test, y_pred)\n",
    "plot_confusion_matrix(conf_mat=cm)\n",
    "plt.show()"
   ]
  },
  {
   "cell_type": "markdown",
   "metadata": {},
   "source": [
    "**3)** Dataset Iris: Dataset bem conhecido a respeito de 3 tipos da Iris, onde no dataset *Iris.csv* temos alguns dados sobre caractéristicas da flor e a marcação da *species*"
   ]
  },
  {
   "cell_type": "code",
   "execution_count": null,
   "metadata": {},
   "outputs": [],
   "source": [
    "# Carrega os dados pelo CSV\n",
    "iris = pd.read_csv('iris.csv')"
   ]
  },
  {
   "cell_type": "code",
   "execution_count": null,
   "metadata": {},
   "outputs": [],
   "source": [
    "# Print dos primeiros dados\n",
    "iris.head()"
   ]
  },
  {
   "cell_type": "code",
   "execution_count": null,
   "metadata": {},
   "outputs": [],
   "source": [
    "# Pairplot das variaveis\n",
    "sns.pairplot(iris, hue='species')"
   ]
  },
  {
   "cell_type": "code",
   "execution_count": null,
   "metadata": {},
   "outputs": [],
   "source": [
    "# Speara os dados em X e Y\n",
    "X = iris.drop(['species'], axis = 1)\n",
    "y = iris['species']"
   ]
  },
  {
   "cell_type": "code",
   "execution_count": null,
   "metadata": {},
   "outputs": [],
   "source": [
    "# Separa os dados entre treino e teste\n",
    "X_train, X_test, y_train, y_test = train_test_split(X, \n",
    "                                                    y, \n",
    "                                                    test_size=0.3, \n",
    "                                                    random_state=42)"
   ]
  },
  {
   "cell_type": "code",
   "execution_count": null,
   "metadata": {},
   "outputs": [],
   "source": [
    "# Instancia a normalização\n",
    "scaler = StandardScaler()"
   ]
  },
  {
   "cell_type": "code",
   "execution_count": null,
   "metadata": {},
   "outputs": [],
   "source": [
    "# Normaliza os dados\n",
    "X_train_std = scaler.fit_transform(X_train)\n",
    "X_test_std = scaler.transform(X_test)"
   ]
  },
  {
   "cell_type": "code",
   "execution_count": null,
   "metadata": {},
   "outputs": [],
   "source": [
    "# instancia o Modelo\n",
    "model = LogisticRegression()"
   ]
  },
  {
   "cell_type": "code",
   "execution_count": null,
   "metadata": {},
   "outputs": [],
   "source": [
    "# Fit do Modelo\n",
    "model.fit(X_train_std, y_train)"
   ]
  },
  {
   "cell_type": "code",
   "execution_count": null,
   "metadata": {},
   "outputs": [],
   "source": [
    "# Gera os predicts\n",
    "y_pred = model.predict(X_test_std)"
   ]
  },
  {
   "cell_type": "code",
   "execution_count": null,
   "metadata": {},
   "outputs": [],
   "source": [
    "# print do classification report\n",
    "print(classification_report(y_test, y_pred))"
   ]
  },
  {
   "cell_type": "code",
   "execution_count": null,
   "metadata": {},
   "outputs": [],
   "source": [
    "# Gera a matriz de confusão\n",
    "cm = confusion_matrix(y_test, y_pred)\n",
    "plot_confusion_matrix(conf_mat=cm)\n",
    "plt.show()"
   ]
  },
  {
   "cell_type": "markdown",
   "metadata": {},
   "source": [
    "## "
   ]
  },
  {
   "cell_type": "markdown",
   "metadata": {},
   "source": [
    "### Regressão Linear"
   ]
  },
  {
   "cell_type": "markdown",
   "metadata": {},
   "source": [
    "__1)__ O arquivo fish.csv consiste em um dataset com registro de características de 7 espécies diferentes de peixes comuns nas vendas do mercado de peixes. Com este conjunto de dados, um modelo de Regressão Linear para estimar o peso (Weight) dos peixes.\n",
    "\n",
    "Não esqueça de explorar os dados, realizar o tratamento dos dados (analise o tipo dos dados, por exemplo), fazer a separação dos dados de treino e teste; e, por fim, avaliar a precisão do seu modelo."
   ]
  },
  {
   "cell_type": "code",
   "execution_count": null,
   "metadata": {},
   "outputs": [],
   "source": [
    "# Carrega os dados sobre os peixes\n",
    "fishs = pd.read_csv('Fish.csv')"
   ]
  },
  {
   "cell_type": "code",
   "execution_count": null,
   "metadata": {},
   "outputs": [],
   "source": [
    "# Print dos primeiros dados\n",
    "fishs.head()"
   ]
  },
  {
   "cell_type": "code",
   "execution_count": null,
   "metadata": {},
   "outputs": [],
   "source": [
    "# Dimensões da Base\n",
    "fishs.shape"
   ]
  },
  {
   "cell_type": "code",
   "execution_count": null,
   "metadata": {},
   "outputs": [],
   "source": [
    "# Proporção das espécies\n",
    "fishs['Species'].value_counts()"
   ]
  },
  {
   "cell_type": "code",
   "execution_count": null,
   "metadata": {},
   "outputs": [],
   "source": [
    "# PAlicao get dummies\n",
    "fishs_with_dummies = pd.get_dummies(fishs, \n",
    "                                    prefix_sep='_', \n",
    "                                    columns=['Species'], \n",
    "                                    drop_first = True)\n",
    "fishs_with_dummies.head()"
   ]
  },
  {
   "cell_type": "code",
   "execution_count": null,
   "metadata": {},
   "outputs": [],
   "source": [
    "# Separa os dados entre X e y\n",
    "X = fishs_with_dummies.drop(['Weight'], axis = 1)\n",
    "y = fishs_with_dummies['Weight']"
   ]
  },
  {
   "cell_type": "code",
   "execution_count": null,
   "metadata": {},
   "outputs": [],
   "source": [
    "# Separa os dados em treino e teste\n",
    "X_train, X_test, y_train, y_test = train_test_split(X, \n",
    "                                                    y, \n",
    "                                                    test_size = 0.3, \n",
    "                                                    random_state = 42)"
   ]
  },
  {
   "cell_type": "code",
   "execution_count": null,
   "metadata": {},
   "outputs": [],
   "source": [
    "# Instancia a normalização\n",
    "scaler = StandardScaler()"
   ]
  },
  {
   "cell_type": "code",
   "execution_count": null,
   "metadata": {},
   "outputs": [],
   "source": [
    "# Normaliza os dados\n",
    "X_train_std = scaler.fit_transform(X_train)\n",
    "X_test_std = scaler.transform(X_test)"
   ]
  },
  {
   "cell_type": "code",
   "execution_count": null,
   "metadata": {},
   "outputs": [],
   "source": [
    "# Instancia o modelo\n",
    "model = LinearRegression()"
   ]
  },
  {
   "cell_type": "code",
   "execution_count": null,
   "metadata": {},
   "outputs": [],
   "source": [
    "# Fit do modelo\n",
    "model.fit(X_train_std, y_train)"
   ]
  },
  {
   "cell_type": "code",
   "execution_count": null,
   "metadata": {},
   "outputs": [],
   "source": [
    "# Gera os predicts\n",
    "y_pred = model.predict(X_test_std)"
   ]
  },
  {
   "cell_type": "code",
   "execution_count": null,
   "metadata": {},
   "outputs": [],
   "source": [
    "# Plot da comparação do Predito pelo Real\n",
    "fig = plt.figure()\n",
    "l = plt.plot(y_pred, y_test, 'bo')\n",
    "plt.setp(l, markersize=10)\n",
    "plt.setp(l, markerfacecolor='C0')\n",
    "\n",
    "plt.ylabel(\"True Value\", fontsize=15)\n",
    "plt.xlabel(\"Predict Value\", fontsize=15)\n",
    "\n",
    "# mostra os valores preditos e originais\n",
    "xl = np.arange(min(y_test), 1.2*max(y_test),(max(y_test)-min(y_test))/10)\n",
    "yl = xl\n",
    "plt.plot(xl, yl, 'r--')\n",
    "\n",
    "plt.show(True)"
   ]
  },
  {
   "cell_type": "code",
   "execution_count": null,
   "metadata": {},
   "outputs": [],
   "source": [
    "# Calcula o R2\n",
    "R2 = r2_score(y_test, y_pred)\n",
    "print('R2:', R2)"
   ]
  },
  {
   "cell_type": "markdown",
   "metadata": {},
   "source": [
    "__2)__ O arquivo usa_housing.csv consiste em um dataset que contém informações sobre o preço de casas em determinadas regiões dos Estados Unidos. Uma descrição das colunas desse dataframes é apresentada abaixo:\n",
    "\n",
    "- __Avg. Area Income:__ Média da renda dos residentes de onde a casa está localizada.\n",
    "- __Avg. Area House Age:__ Média de idade das casas da mesma cidade.\n",
    "- __Avg. Area Number of Rooms:__ Número médio de quartos para casas na mesma cidade.\n",
    "- __Avg. Area Number of Bedrooms:__ Número médio de quartos para casas na mesma cidade.\n",
    "- __Area Population:__ A população da cidade onde a casa está localizada.\n",
    "- __Price:__ Preço de venda da casa.\n",
    "- __Address:__ Endereço da casa.\n",
    "\n",
    "Utilize os dados contidos nele para criar um modelo de regressão linear que seja capaz de estimar o preço de venda das casas."
   ]
  },
  {
   "cell_type": "code",
   "execution_count": null,
   "metadata": {},
   "outputs": [],
   "source": [
    "# Carrega os dados o CSV\n",
    "houses = pd.read_csv('usa_housing.csv')"
   ]
  },
  {
   "cell_type": "code",
   "execution_count": null,
   "metadata": {},
   "outputs": [],
   "source": [
    "# Print dos primeiros dados\n",
    "houses.head()"
   ]
  },
  {
   "cell_type": "code",
   "execution_count": null,
   "metadata": {},
   "outputs": [],
   "source": [
    "# Remover os dados sobre endereços\n",
    "houses_clean = houses.drop(['Address'], axis = 1)"
   ]
  },
  {
   "cell_type": "code",
   "execution_count": null,
   "metadata": {},
   "outputs": [],
   "source": [
    "# Separa os dados em X e y\n",
    "X = houses_clean.drop(['Price'], axis = 1)\n",
    "y = houses_clean['Price']"
   ]
  },
  {
   "cell_type": "code",
   "execution_count": null,
   "metadata": {},
   "outputs": [],
   "source": [
    "# Separa os dados em treino e teste\n",
    "X_train, X_test, y_train, y_test = train_test_split(X, \n",
    "                                                    y, \n",
    "                                                    test_size = 0.3, \n",
    "                                                    random_state = 42)"
   ]
  },
  {
   "cell_type": "code",
   "execution_count": null,
   "metadata": {},
   "outputs": [],
   "source": [
    "# Instancia a normalização\n",
    "scaler = StandardScaler()"
   ]
  },
  {
   "cell_type": "code",
   "execution_count": null,
   "metadata": {},
   "outputs": [],
   "source": [
    "# Normaliza os dados\n",
    "X_train_std = scaler.fit_transform(X_train)\n",
    "X_test_std = scaler.transform(X_test)"
   ]
  },
  {
   "cell_type": "code",
   "execution_count": null,
   "metadata": {},
   "outputs": [],
   "source": [
    "# Instancia o modelo\n",
    "model = LinearRegression()"
   ]
  },
  {
   "cell_type": "code",
   "execution_count": null,
   "metadata": {},
   "outputs": [],
   "source": [
    "# Fit do modelo\n",
    "model.fit(X_train_std, y_train)"
   ]
  },
  {
   "cell_type": "code",
   "execution_count": null,
   "metadata": {},
   "outputs": [],
   "source": [
    "# Gera os predicts\n",
    "y_pred = model.predict(X_test_std)"
   ]
  },
  {
   "cell_type": "code",
   "execution_count": null,
   "metadata": {},
   "outputs": [],
   "source": [
    "# Plot da comparação do Predito pelo Real\n",
    "fig = plt.figure()\n",
    "l = plt.plot(y_pred, y_test, 'bo')\n",
    "plt.setp(l, markersize=10)\n",
    "plt.setp(l, markerfacecolor='C0')\n",
    "\n",
    "plt.ylabel(\"True Value\", fontsize=15)\n",
    "plt.xlabel(\"Predict Value\", fontsize=15)\n",
    "\n",
    "# mostra os valores preditos e originais\n",
    "xl = np.arange(min(y_test), 1.2*max(y_test),(max(y_test)-min(y_test))/10)\n",
    "yl = xl\n",
    "plt.plot(xl, yl, 'r--')\n",
    "\n",
    "plt.show(True)"
   ]
  },
  {
   "cell_type": "code",
   "execution_count": null,
   "metadata": {},
   "outputs": [],
   "source": [
    "# Calcula o R2\n",
    "R2 = r2_score(y_test, y_pred)\n",
    "print('R2:', R2)"
   ]
  }
 ],
 "metadata": {
  "kernelspec": {
   "display_name": "Python 3 (ipykernel)",
   "language": "python",
   "name": "python3"
  },
  "language_info": {
   "codemirror_mode": {
    "name": "ipython",
    "version": 3
   },
   "file_extension": ".py",
   "mimetype": "text/x-python",
   "name": "python",
   "nbconvert_exporter": "python",
   "pygments_lexer": "ipython3",
   "version": "3.10.4"
  }
 },
 "nbformat": 4,
 "nbformat_minor": 2
}
