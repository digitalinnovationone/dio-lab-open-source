{
 "cells": [
  {
   "cell_type": "markdown",
   "metadata": {
    "id": "8RJWET-wrWG8"
   },
   "source": [
    "# Aprendizado de Máquina (ou Machine Learning)\n",
    "\n",
    "Nessa aula, iremos tratar dos seguintes conteúdos:\n",
    "- Conceitos Iniciais\n",
    "- Supervisionado e Não Supervisionado\n",
    "- Colocando a Máquina para pensar\n",
    "- Classificação e Regressão\n",
    "- Processo de Modelagem"
   ]
  },
  {
   "cell_type": "markdown",
   "metadata": {
    "id": "D2BUEDmJrWHB"
   },
   "source": [
    "<img src=\"https://img.vixdata.io/pd/jpg-large/pt/sites/default/files/c/codigo-filme-matrix-1117-1400x800.jpg\" width=800>"
   ]
  },
  {
   "cell_type": "markdown",
   "metadata": {
    "id": "ThSMpF3QrWHB"
   },
   "source": [
    "## "
   ]
  },
  {
   "cell_type": "markdown",
   "metadata": {
    "id": "zMzLn7nFrWHC"
   },
   "source": [
    "## Conceitos Iniciais "
   ]
  },
  {
   "cell_type": "markdown",
   "metadata": {
    "id": "a0VbE8IzrWHC"
   },
   "source": [
    "Vamos começar com um exemplo:\n",
    "<br>\n",
    "<br> \n",
    "> Você foi contratado para o seu novo emprego e o seu objetivo é monitorar milhares de e-mails diários para os seus clientes e indicar quais e-mails são relevantes ou não, quais podem ser spams. Você trabalha tranquilamente durante um tempo até receber a notícia que será substituído, para piorar o dia não será por outro funcionário, e sim por uma máquina.\n",
    "\n",
    "Pode ser um choque ou até mesmo frustrante, né? Mas esse é um dos vários exemplos de Aprendizado de Máquina  nos dia de hoje. Simplificando, vamos definir  Aprendizado de Máquina como:\n",
    "\n",
    ">**Aprendizado de Máquina** ou **Machine Learning** é ensinar máquinas a executar tarefas com ou sem supervisão, com o objetivo de prever resultados de acordo com os parâmetros informados"
   ]
  },
  {
   "cell_type": "markdown",
   "metadata": {
    "id": "MTuEBJlmrWHD"
   },
   "source": [
    "##  "
   ]
  },
  {
   "cell_type": "markdown",
   "metadata": {
    "id": "0dLvVZ3crWHD"
   },
   "source": [
    "## **Supervisionado ou Não Supervisionado**"
   ]
  },
  {
   "cell_type": "markdown",
   "metadata": {
    "id": "oqzwl5GkrWHE"
   },
   "source": [
    "Existe dois principais tipos de Aprendizado de Máquina: **Apredizado Supervisionado** - do inglês *Supervised Learning* - e o **Aprendizado Não Supervisionado** - do inglês *Unsupervised Learning.*<br><br>\n",
    "\n",
    "Vamos olhar novamente para o exemplo de seleção de e-mails. É um exemplo típico de modelo supervisionado, pois sabemos claramente qual o resultado esperado para a previsão desse modelo: separar e-mails relevantes e nõa revelevantes.\n",
    "<br><br>\n",
    "Já para o modelo Não Supervisionado, não temos um resultado esperado como no exemplo dos e-mails. Um típico exemplo de Não Supervisionado é um modelo que deseja saber a melhor rota para seguir no trânsito, ou recomendação de filmes no seu *streaming* favorito, onde nesses exemplos não há um resultado esperado ou resposta certa.\n",
    "\n",
    "<img src=\"https://www.researchgate.net/profile/Zhenyu-Wen-2/publication/336642133/figure/fig3/AS:815304842170368@1571395230317/Examples-of-Supervised-Learning-Linear-Regression-and-Unsupervised-Learning.png\" width=800>"
   ]
  },
  {
   "cell_type": "markdown",
   "metadata": {
    "id": "fnzXG2MHrWHF"
   },
   "source": [
    "##  "
   ]
  },
  {
   "cell_type": "markdown",
   "metadata": {
    "id": "b1VPufRyrWHF"
   },
   "source": [
    "## **Colocando a máquina para pensar**"
   ]
  },
  {
   "cell_type": "markdown",
   "metadata": {
    "id": "JBKt-OKyrWHG"
   },
   "source": [
    "Vamos acompanhar o passo a passo para uma máquina aprender a realizar tarefas:\n",
    "<br><br>\n",
    "O **ponto de partida** e talvez a etapa mais importe de todo o uso de Machine Learning é definirmos bem a nossa tarefa ou **problema que queremos resolver**!\n",
    "\n",
    ">**O que o modelo precisará prever e como ele fará isso?** \n",
    "\n",
    "Entenda que o modelo/modelagem seria uma espécie de **representação da realidade**, onde queremos traduzir certos aspectos em uma **equação matemática** em resumo. Para responder a essa pergunta, você deverá ter uma noção de qual **conjunto de dados/dataset** irá utilizar na sua programação. Seja esses dados vindo de Excel, imagens ou até mesmo tweet, primeiro passo é conhecer os seus dados.\n",
    "<br>\n",
    "<img src=\"https://miro.medium.com/max/2404/1*yLvf2jr_TNkEe9PKYOBDkA.png\" width=500>\n",
    "<br>\n",
    "Definido isso, **segunda etapa** é a **preparação desse modelo** e isso conseguimos fazer reunindo as informações necessárias do dataset que definimos, sabendo que as informações precisam ser **claras** e **precisas**. Ou seja:\n",
    "\n",
    "> *Se a sua base de dados não for correta, o seu modelo também não será!*"
   ]
  },
  {
   "cell_type": "markdown",
   "metadata": {
    "id": "flcJ-CQ3rWHH"
   },
   "source": [
    "Por fim, devemos **escolhermos o algoritmo de previsão**, definindo a forma que queremos que o nosso modelo use para prever dados. Existe inúmeros tipos de algoritmos que podemos utilizar, conforme a ilustração a seguir: \n",
    "\n",
    "<img src=\"https://scikit-learn.org/stable/_static/ml_map.png\" width=900>\n",
    "\n",
    "*Obs.: [Clique Aqui](https://scikit-learn.org/stable/tutorial/machine_learning_map/index.html) para a versão interativa online com links para as páginas de cada estimador!*\n",
    "\n",
    "Mas a priori focaremos em explicar alguns dos tipos **mais comuns de algoritmos** para Machine Learning que são: **Classificação** e **Regressão**."
   ]
  },
  {
   "cell_type": "markdown",
   "metadata": {
    "id": "vqM5LWE5rWHH"
   },
   "source": [
    "##  "
   ]
  },
  {
   "cell_type": "markdown",
   "metadata": {
    "id": "51VSd1OmrWHI"
   },
   "source": [
    "## **Classificação e Regressão**"
   ]
  },
  {
   "cell_type": "markdown",
   "metadata": {
    "id": "aOycR_YArWHI"
   },
   "source": [
    "Esses são os principais tipo de algoritmos de Machine Learning e podem ser definidos da seguinte forma:\n",
    "\n",
    "> **Classificação** é um tipo de algoritmo que basicamente classifica o resultado da previsão\n",
    "\n",
    "Voltando ao exemplo dos e-mails, utilizando um modelo de classificação para nos dizer qual e-mail é relevante ou não, funcionando como se fosse um filtro onde deixar passar apenas as informações que queremos. Já para os modelos de regressão temos que:\n",
    "\n",
    "> **Regressão** é um tipo de algoritmo que tenta prever um determinado resultado com base em variáveis anteriores\n",
    "\n",
    "Alguns exemplos para regressão são modelos de *forecasting* de vendas ou ações, onde o algoritmo deve prever se vai haver uma baixa ou baixa nos valores de determinado produto."
   ]
  },
  {
   "cell_type": "markdown",
   "metadata": {
    "id": "3bKqSfGSrWHI"
   },
   "source": [
    "##  "
   ]
  },
  {
   "cell_type": "markdown",
   "metadata": {
    "id": "eRTxOrSqrWHI"
   },
   "source": [
    "## **Processo de Modelagem**"
   ]
  },
  {
   "cell_type": "markdown",
   "metadata": {
    "id": "VboGvI1ZrWHJ"
   },
   "source": [
    "Agora que introduzimos o básico do básico sobre Machine Learning, uma etapa primordial é entender como funciona o processo de modelagem e etapas importantes para o desenvolvimento de modelo. Abaixo temos um esquema do processo de modelagem e a definição dos principais tópicos:"
   ]
  },
  {
   "cell_type": "markdown",
   "metadata": {
    "id": "dLAnFFmVrWHJ"
   },
   "source": [
    "<img src=\"https://techblog.cdiscount.com/assets/images/DataScience/automl/ML_process.png\" width=650>"
   ]
  },
  {
   "cell_type": "markdown",
   "metadata": {
    "id": "yIaAZ5HzrWHJ"
   },
   "source": [
    "- **Separação dos dados em treino, validação e teste**: Cada uma das etapas serão definidas a seguir, mas o importante a entender aqui é que a partir do nossos dados, iremos dividí-lo para alimentar cada uma das etapas sejam elas: treino, validação e teste. Durante o curso iremos abordar de que formas podemos fazer isso!\n",
    "\n",
    "<img src=\"https://cdn-images-1.medium.com/max/1000/1*ZiYvylk60EY2XG7ck1lqJA.png\" width=500>\n",
    "\n",
    "- **Conjunto de dados de treino**: são os dados utilizados para a construção do modelo, os dados que o modelo utilizará \"para aprender\";\n",
    "\n",
    "\n",
    "- **Treinamento do modelo**: é a etapa em que cálculos matemáticos são feitos para que a equação que descreve o modelo seja criada! É assim que \"o modelo aprende!\";\n",
    "\n",
    "\n",
    "- **Conjunto de dados de validação**: conjunto de dados usados para testar o modelo e aprimorar a sua performance, seja na seleção de hyperparâmetros/seleção de modelo;\n",
    "\n",
    "\n",
    "- **Seleção de hiperparâmetros/seleção de modelo**: etapa em que os hiperperâmetros que constituem o modelo são selecionados. Aqui, técnicas como **grid search** e **cross validation** são muito importantes! Falaremos disso mais tarde.\n",
    "\n",
    "\n",
    "- **Conjunto de dados de teste**: conjunto de dados utilizado para testar o modelo após ele ter sido treinado. Essa é a melhor forma de simular o modelo em produção ou podemos dizer \"na vida real\", onde o nosso modelo será testado com dados que ele nunca viu;\n",
    "\n",
    "\n",
    "- **Avaliação**: forma de avaliar a performance do modelo. Há várias métricas e formas diferentes de avaliação, que conheceremos melhor mais tarde."
   ]
  },
  {
   "cell_type": "markdown",
   "metadata": {
    "id": "NR6yNBVMrWHJ"
   },
   "source": [
    "Nas aulas seguintes vamos estudar os diversos exemplos de algoritmos e como fazer o processo de modelagem.\n",
    "\n",
    "Veremos que, de forma geral, o processo consiste em:\n",
    "\n",
    "- 0) Fazer todo o processo de limpeza e avaliação da base, EDA, etc., etc.\n",
    "\n",
    "\n",
    "- 1) Importar a **classe do algoritmo que se deseja treinar**\n",
    "    - Usaremos quase sempre a biblioteca [scikit-learn](https://scikit-learn.org/stable/)\n",
    "    \n",
    "  \n",
    "- 2) Instanciar a classe do algoritmo, **escolhendo os hiperparâmetros desejados**\n",
    "    - Para a primeira versão do modelo, pode ser uma boa escolha utilizar os parâmetros default;\n",
    "    - Veremos mais pra frente como escolher os parâmetros adequadamente;\n",
    "    \n",
    "   \n",
    "- 3) Separe os dados em **dados de treino** e **dados de teste**.\n",
    "    - Em alguns casos, pode ser interessante criar também um conjunto de **dados de validação**\n",
    "    - Para fazer a separação, usamos o [train_test_split](https://scikit-learn.org/stable/modules/generated/sklearn.model_selection.train_test_split.html)\n",
    "    \n",
    "    \n",
    "- 4) Treine o modelo, usando **os dados de treino**\n",
    "\n",
    "\n",
    "- 5) Use o modelo treinado para **fazer previsões** usando os **dados de teste** (ou **de validação**)\n",
    "\n",
    "\n",
    "- 6) **Avalie a performance do modelo com base nas previsões acima**\n",
    "\n",
    "\n",
    "- 7) Se necessário, reinicie o ciclo!\n",
    "\n",
    "\n",
    "- 8) Quando o modelo estiver suficientemente bom, faça o **deploy**"
   ]
  },
  {
   "cell_type": "markdown",
   "metadata": {
    "id": "6d_d-H5UrWHK"
   },
   "source": [
    "##  "
   ]
  },
  {
   "cell_type": "markdown",
   "metadata": {
    "id": "fAMTdMAyrWHK"
   },
   "source": [
    "## Links, Artigos e Referências:"
   ]
  },
  {
   "cell_type": "markdown",
   "metadata": {
    "id": "kjHIA9S6rWHK"
   },
   "source": [
    "- [Meu checklist de projetos de aprendizado de máquina](https://medium.com/databootcamp/meu-checklist-de-projetos-de-aprendizado-de-m%C3%A1quina-34328850d7ab), artigo publicado por Leticia Portella no Medium;\n",
    "- [A explicação mais simples sobre aprendizado de máquina que você lerá](https://kozyrk.medium.com/a-explica%C3%A7%C3%A3o-mais-simples-sobre-aprendizado-de-m%C3%A1quina-que-voc%C3%AA-ler%C3%A1-6d4e61002401), artigo escrito por Cassie Kozyrkov no Medium (traduzido por Thomas Chi);\n",
    "- [Por que as empresas falham no aprendizado de máquina](https://kozyrk.medium.com/por-que-as-empresas-falham-no-aprendizado-de-m%C3%A1quina-610a535f0d54), artigo escrito por Cassie Kozyrkov no Medium (traduzido por Thomas Chi);\n",
    "- [Aprendendo ML com Andrew Ng](https://medium.com/data-science-brigade/aprendendo-machine-learning-com-o-andrew-ng-4817adc7a4ad), artigo publicado por Silvia Benza Bareiro no Medium."
   ]
  }
 ],
 "metadata": {
  "colab": {
   "name": "01 - Machine Learning.ipynb",
   "provenance": []
  },
  "kernelspec": {
   "display_name": "Python 3 (ipykernel)",
   "language": "python",
   "name": "python3"
  },
  "language_info": {
   "codemirror_mode": {
    "name": "ipython",
    "version": 3
   },
   "file_extension": ".py",
   "mimetype": "text/x-python",
   "name": "python",
   "nbconvert_exporter": "python",
   "pygments_lexer": "ipython3",
   "version": "3.9.7"
  }
 },
 "nbformat": 4,
 "nbformat_minor": 1
}
