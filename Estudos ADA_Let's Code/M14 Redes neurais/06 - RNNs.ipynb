{
 "cells": [
  {
   "cell_type": "markdown",
   "metadata": {
    "id": "WL0dCSmMqjPV"
   },
   "source": [
    "# Redes Neurais Recorrentes (RNNs)\n",
    "\n",
    "Na aula de hoje, vamos explorar os seguintes tópicos em Python:\n",
    "\n",
    "- RNNs;\n",
    "- LSTM."
   ]
  },
  {
   "cell_type": "markdown",
   "metadata": {
    "id": "nZvNy3xjPyLv"
   },
   "source": [
    "## "
   ]
  },
  {
   "cell_type": "markdown",
   "metadata": {
    "id": "qv3ATXV5PyLw"
   },
   "source": [
    "# Introdução\n",
    "\n",
    "Até agora, nós vimos diversos tipos de redes neurais, e elas podem ser utilizadas para diversos problemas. A partir de entradas, elas calculavam uma saída como previsão. \n",
    "\n",
    "Porém, um tipo de dados comuns de se trabalhar são os __sequenciais__, como séries temporais e textos.\n",
    "\n",
    "<div>\n",
    "<img src=\"https://www.tradingview.com/x/BIMmjLxL/\" width=600 align=\"center\"/>\n",
    "</div>\n",
    "\n",
    "<div>\n",
    "<img src=\"attachment:image.png\" width=600 align=\"center\"/>\n",
    "</div>\n",
    "\n",
    "Nesse tipo de dados, os valores \"passados\" tem forte relação com os valores \"futuros\", algo que não está explícito nas arquiteturas que vimos até aqui. Para tentar explicitar isso, vamos usar __redes neurais recorrentes__."
   ]
  },
  {
   "cell_type": "markdown",
   "metadata": {
    "id": "Fl4Xyqb4PyLw"
   },
   "source": [
    "## "
   ]
  },
  {
   "cell_type": "markdown",
   "metadata": {
    "id": "o9BjQnLXPyLw"
   },
   "source": [
    "# Redes Neurais Recorrentes (RNNs)\n",
    "\n",
    "Nas __redes neurais recorrentes__, a saída de uma camada escondida também funciona como a entrada dessa mesma camada escondida! \n",
    "\n",
    "<div>\n",
    "<img src = \"https://www.deeplearningbook.com.br/wp-content/uploads/2019/07/rnn.png\" width=600>\n",
    "<div>\n",
    "\n",
    "Mas como funciona isso? Imagina que a saída em um dado passo de tempo é a entrada no passo de tempo seguinte.\n",
    "<br><br>\n",
    "<div>\n",
    "<img src=\"https://www.deeplearningbook.com.br/wp-content/uploads/2019/08/RNN-unrolled-1024x269.png\" width=600>\n",
    "</div>"
   ]
  },
  {
   "cell_type": "markdown",
   "metadata": {
    "id": "U1zMf4jWPyLx"
   },
   "source": [
    "Pode-se entender a rede neural recorrente como uma combinação de redes neurais em sequência, dessa forma as previsões levam em considerar o que foi passado anteriormente. As RNNs mais tradicionais podem apresentar um problema de dependência ao longo prazo, ou seja o intervalo de dados anteriores que seja preciso para fazer as próximas predições seria muito grandes, o que inviabiliza o desenvolvimento da RNN.\n",
    "\n",
    "<br>\n",
    "\n",
    "Uma forma de evitar este tipo de problema seria justamente utlizar de RNNs que tenha a capacidade de armazenamento de memória, garantindo que seja repassado dependências de longo prazo, uma dessas redes é a __Long Short Time Memory (LSTM).__\n",
    "\n",
    "<img src=\"https://miro.medium.com/max/875/0*z_7CtCBqX5OycQx4.png\" width = 600>\n",
    "\n",
    "Não vamos entrar no detalhe de como a LSTM faz esse armazenamento de fato, mas para mais detalhes, têm este [artigo](https://medium.com/@web2ajax/redes-neurais-recorrentes-lstm-b90b720dc3f6) do _Medium_ detalhando todo o processo."
   ]
  },
  {
   "cell_type": "markdown",
   "metadata": {
    "id": "qnsFfVmDPyLx"
   },
   "source": [
    "A seguir vamos ver ,um exemplo de aplicação utlizando a _LSTM_ em NLP e em Séries Temporais."
   ]
  },
  {
   "cell_type": "markdown",
   "metadata": {
    "id": "FkqwSlUAPyLy"
   },
   "source": [
    "## "
   ]
  },
  {
   "cell_type": "markdown",
   "metadata": {
    "id": "SVMK5GKbqjPc"
   },
   "source": [
    "### Exemplo aplicado a NLP\n",
    "\n",
    "Utilizando a base de dados sobre notificações de desastres pelo _Twitter_ `tweet.csv` e vamos desenvolver os seguintes tópicos abaixo:\n",
    "\n",
    "__A)__ Crie uma função para fazer o preprocessing da base `tweet.csv` e uma função para aplicar o TF-IDF;\n",
    "\n",
    "__B)__ Crie uma função que teste diversos modelos de Classificação como por exemplo: Regressão Logística, Árvore de Decisão, RandomForest e AdaBoost. Além disso, para cada modelo plote as principais métricas e por fim plote uma curva ROC-AUC. Teste os Modelos\n",
    "\n",
    "__C)__ Desenvolva uma Rede Neural Embedding com LSTM para fazer a classificação dos tweets. Qual a rede neural teve uma performance melhor que o modelo tradicional?\n"
   ]
  },
  {
   "cell_type": "markdown",
   "metadata": {
    "id": "Pzbs9YNYqjPc"
   },
   "source": [
    "### Resolução:"
   ]
  },
  {
   "cell_type": "code",
   "execution_count": null,
   "metadata": {
    "id": "6EGhq2aTqjPY",
    "outputId": "4b468475-0a45-4ef9-d550-3f0af1d3869c",
    "scrolled": true
   },
   "outputs": [
    {
     "name": "stderr",
     "output_type": "stream",
     "text": [
      "[nltk_data] Downloading package punkt to\n",
      "[nltk_data]     C:\\Users\\sandro.saorin\\AppData\\Roaming\\nltk_data...\n",
      "[nltk_data]   Package punkt is already up-to-date!\n",
      "[nltk_data] Downloading package stopwords to\n",
      "[nltk_data]     C:\\Users\\sandro.saorin\\AppData\\Roaming\\nltk_data...\n",
      "[nltk_data]   Package stopwords is already up-to-date!\n",
      "[nltk_data] Downloading package rslp to\n",
      "[nltk_data]     C:\\Users\\sandro.saorin\\AppData\\Roaming\\nltk_data...\n",
      "[nltk_data]   Package rslp is already up-to-date!\n"
     ]
    }
   ],
   "source": [
    "# Imports utilizados em todos os exercícios\n",
    "import pandas as pd\n",
    "import numpy as np\n",
    "import matplotlib.pyplot as plt\n",
    "import seaborn as sns\n",
    "\n",
    "# Libs para NLP\n",
    "import nltk\n",
    "nltk.download('punkt')\n",
    "nltk.download('stopwords')\n",
    "nltk.download('rslp')\n",
    "from nltk.corpus import stopwords \n",
    "from nltk.tokenize import word_tokenize\n",
    "from nltk.stem.porter import *\n",
    "from nltk.stem import SnowballStemmer\n",
    "import re\n",
    "\n",
    "# Libs de Machine Learning\n",
    "from sklearn.feature_extraction.text import TfidfVectorizer, CountVectorizer\n",
    "from sklearn.model_selection import train_test_split\n",
    "from sklearn.metrics import confusion_matrix, classification_report\n",
    "from sklearn import metrics\n",
    "from sklearn.ensemble import RandomForestClassifier, AdaBoostClassifier\n",
    "from sklearn.metrics import accuracy_score, precision_score, recall_score, f1_score, roc_auc_score, roc_curve\n",
    "from sklearn.tree import DecisionTreeClassifier\n",
    "from sklearn.linear_model import LogisticRegression\n",
    "from mlxtend.plotting import plot_confusion_matrix\n",
    "\n",
    "# Libs para Redes Neurais\n",
    "from collections import Counter\n",
    "from tensorflow.keras.preprocessing.sequence import pad_sequences\n",
    "from tensorflow.keras.preprocessing.text import Tokenizer\n",
    "from tensorflow.keras.models import Sequential\n",
    "from tensorflow.keras.layers import Embedding, LSTM, Dense, Dropout\n",
    "from tensorflow.keras.callbacks import Callback, EarlyStopping\n",
    "\n",
    "# Import da biblioteca warnings para ignorar eventuais warnings\n",
    "import warnings\n",
    "warnings.filterwarnings('ignore')"
   ]
  },
  {
   "cell_type": "markdown",
   "metadata": {
    "id": "AMOQFvgfqjPc"
   },
   "source": [
    "__A)__ Crie uma função para fazer o preprocessing da base `tweet.csv` e uma função para aplicar o TF-IDF;"
   ]
  },
  {
   "cell_type": "code",
   "execution_count": null,
   "metadata": {
    "id": "UPvKXSasqjPd"
   },
   "outputs": [],
   "source": [
    "# Carrega a base de dados\n",
    "tweets = pd.read_csv('tweets.csv')"
   ]
  },
  {
   "cell_type": "code",
   "execution_count": null,
   "metadata": {
    "id": "gzv3cnYUqjPd",
    "outputId": "3146fa62-f993-4114-c3f0-22ee8fee5067"
   },
   "outputs": [
    {
     "data": {
      "text/html": [
       "<div>\n",
       "<style scoped>\n",
       "    .dataframe tbody tr th:only-of-type {\n",
       "        vertical-align: middle;\n",
       "    }\n",
       "\n",
       "    .dataframe tbody tr th {\n",
       "        vertical-align: top;\n",
       "    }\n",
       "\n",
       "    .dataframe thead th {\n",
       "        text-align: right;\n",
       "    }\n",
       "</style>\n",
       "<table border=\"1\" class=\"dataframe\">\n",
       "  <thead>\n",
       "    <tr style=\"text-align: right;\">\n",
       "      <th></th>\n",
       "      <th>id</th>\n",
       "      <th>keyword</th>\n",
       "      <th>location</th>\n",
       "      <th>text</th>\n",
       "      <th>target</th>\n",
       "    </tr>\n",
       "  </thead>\n",
       "  <tbody>\n",
       "    <tr>\n",
       "      <th>0</th>\n",
       "      <td>1</td>\n",
       "      <td>NaN</td>\n",
       "      <td>NaN</td>\n",
       "      <td>Our Deeds are the Reason of this #earthquake M...</td>\n",
       "      <td>1</td>\n",
       "    </tr>\n",
       "    <tr>\n",
       "      <th>1</th>\n",
       "      <td>4</td>\n",
       "      <td>NaN</td>\n",
       "      <td>NaN</td>\n",
       "      <td>Forest fire near La Ronge Sask. Canada</td>\n",
       "      <td>1</td>\n",
       "    </tr>\n",
       "    <tr>\n",
       "      <th>2</th>\n",
       "      <td>5</td>\n",
       "      <td>NaN</td>\n",
       "      <td>NaN</td>\n",
       "      <td>All residents asked to 'shelter in place' are ...</td>\n",
       "      <td>1</td>\n",
       "    </tr>\n",
       "    <tr>\n",
       "      <th>3</th>\n",
       "      <td>6</td>\n",
       "      <td>NaN</td>\n",
       "      <td>NaN</td>\n",
       "      <td>13,000 people receive #wildfires evacuation or...</td>\n",
       "      <td>1</td>\n",
       "    </tr>\n",
       "    <tr>\n",
       "      <th>4</th>\n",
       "      <td>7</td>\n",
       "      <td>NaN</td>\n",
       "      <td>NaN</td>\n",
       "      <td>Just got sent this photo from Ruby #Alaska as ...</td>\n",
       "      <td>1</td>\n",
       "    </tr>\n",
       "  </tbody>\n",
       "</table>\n",
       "</div>"
      ],
      "text/plain": [
       "   id keyword location                                               text  \\\n",
       "0   1     NaN      NaN  Our Deeds are the Reason of this #earthquake M...   \n",
       "1   4     NaN      NaN             Forest fire near La Ronge Sask. Canada   \n",
       "2   5     NaN      NaN  All residents asked to 'shelter in place' are ...   \n",
       "3   6     NaN      NaN  13,000 people receive #wildfires evacuation or...   \n",
       "4   7     NaN      NaN  Just got sent this photo from Ruby #Alaska as ...   \n",
       "\n",
       "   target  \n",
       "0       1  \n",
       "1       1  \n",
       "2       1  \n",
       "3       1  \n",
       "4       1  "
      ]
     },
     "execution_count": 3,
     "metadata": {},
     "output_type": "execute_result"
    }
   ],
   "source": [
    "# Print dos primeiros resultados\n",
    "tweets.head()"
   ]
  },
  {
   "cell_type": "code",
   "execution_count": null,
   "metadata": {
    "id": "YMNoo5Z7qjPe",
    "outputId": "a2fe6bec-6c7a-4594-adc0-0fa2b1d6d711"
   },
   "outputs": [
    {
     "data": {
      "text/plain": [
       "0    4342\n",
       "1    3271\n",
       "Name: target, dtype: int64"
      ]
     },
     "execution_count": 4,
     "metadata": {},
     "output_type": "execute_result"
    }
   ],
   "source": [
    "# Olhar o balanço das classes\n",
    "tweets['target'].value_counts()"
   ]
  },
  {
   "cell_type": "code",
   "execution_count": null,
   "metadata": {
    "id": "i4RkyfBMqjPe"
   },
   "outputs": [],
   "source": [
    "# Define os stopwords\n",
    "stopwords = set(stopwords.words('english'))\n",
    "\n",
    "# Define o Stemming\n",
    "stemmer = PorterStemmer()\n",
    "\n",
    "# Pipeline - Text Preprocessing\n",
    "def preprocessing(string):\n",
    "    ###\n",
    "    # Remove Numbers\n",
    "    string = re.sub(r'\\d', '', string)\n",
    "    ###\n",
    "    # Remove Special Characters\n",
    "    string = re.sub(r\"[^a-zA-Z0-9]+\", ' ', string)\n",
    "    ###\n",
    "    # Lowercase words\n",
    "    string = string.lower()\n",
    "    ###\n",
    "    # Word Tokenize\n",
    "    words = word_tokenize(string)\n",
    "    ###\n",
    "    # Remove Stopwords\n",
    "    filtered_words = []\n",
    "    for w in words:\n",
    "        if w not in stopwords:\n",
    "            filtered_words.append(w)\n",
    "    ###\n",
    "    # Stemming Words\n",
    "    stem_words = []\n",
    "    for w in filtered_words:\n",
    "        s_words = stemmer.stem(w)\n",
    "        stem_words.append(s_words)\n",
    "    ###\n",
    "    return stem_words"
   ]
  },
  {
   "cell_type": "code",
   "execution_count": null,
   "metadata": {
    "id": "XPYN4lUKqjPf"
   },
   "outputs": [],
   "source": [
    "# APlica o preprocessing para os texts\n",
    "tweets[\"filtered_words\"] = tweets['text'].apply(lambda x: preprocessing(x))\n",
    "\n",
    "# Une novamente as palavras, agora ja filtradas\n",
    "tweets['join_words'] = tweets['filtered_words'].apply(lambda x: ' '.join(x))"
   ]
  },
  {
   "cell_type": "code",
   "execution_count": null,
   "metadata": {
    "id": "T0r8Qjd_qjPf",
    "outputId": "bf5abafd-a6ad-42fc-fd44-3abeedf566df",
    "scrolled": false
   },
   "outputs": [
    {
     "data": {
      "text/html": [
       "<div>\n",
       "<style scoped>\n",
       "    .dataframe tbody tr th:only-of-type {\n",
       "        vertical-align: middle;\n",
       "    }\n",
       "\n",
       "    .dataframe tbody tr th {\n",
       "        vertical-align: top;\n",
       "    }\n",
       "\n",
       "    .dataframe thead th {\n",
       "        text-align: right;\n",
       "    }\n",
       "</style>\n",
       "<table border=\"1\" class=\"dataframe\">\n",
       "  <thead>\n",
       "    <tr style=\"text-align: right;\">\n",
       "      <th></th>\n",
       "      <th>id</th>\n",
       "      <th>keyword</th>\n",
       "      <th>location</th>\n",
       "      <th>text</th>\n",
       "      <th>target</th>\n",
       "      <th>filtered_words</th>\n",
       "      <th>join_words</th>\n",
       "    </tr>\n",
       "  </thead>\n",
       "  <tbody>\n",
       "    <tr>\n",
       "      <th>0</th>\n",
       "      <td>1</td>\n",
       "      <td>NaN</td>\n",
       "      <td>NaN</td>\n",
       "      <td>Our Deeds are the Reason of this #earthquake M...</td>\n",
       "      <td>1</td>\n",
       "      <td>[deed, reason, earthquak, may, allah, forgiv, us]</td>\n",
       "      <td>deed reason earthquak may allah forgiv us</td>\n",
       "    </tr>\n",
       "    <tr>\n",
       "      <th>1</th>\n",
       "      <td>4</td>\n",
       "      <td>NaN</td>\n",
       "      <td>NaN</td>\n",
       "      <td>Forest fire near La Ronge Sask. Canada</td>\n",
       "      <td>1</td>\n",
       "      <td>[forest, fire, near, la, rong, sask, canada]</td>\n",
       "      <td>forest fire near la rong sask canada</td>\n",
       "    </tr>\n",
       "    <tr>\n",
       "      <th>2</th>\n",
       "      <td>5</td>\n",
       "      <td>NaN</td>\n",
       "      <td>NaN</td>\n",
       "      <td>All residents asked to 'shelter in place' are ...</td>\n",
       "      <td>1</td>\n",
       "      <td>[resid, ask, shelter, place, notifi, offic, ev...</td>\n",
       "      <td>resid ask shelter place notifi offic evacu she...</td>\n",
       "    </tr>\n",
       "    <tr>\n",
       "      <th>3</th>\n",
       "      <td>6</td>\n",
       "      <td>NaN</td>\n",
       "      <td>NaN</td>\n",
       "      <td>13,000 people receive #wildfires evacuation or...</td>\n",
       "      <td>1</td>\n",
       "      <td>[peopl, receiv, wildfir, evacu, order, califor...</td>\n",
       "      <td>peopl receiv wildfir evacu order california</td>\n",
       "    </tr>\n",
       "    <tr>\n",
       "      <th>4</th>\n",
       "      <td>7</td>\n",
       "      <td>NaN</td>\n",
       "      <td>NaN</td>\n",
       "      <td>Just got sent this photo from Ruby #Alaska as ...</td>\n",
       "      <td>1</td>\n",
       "      <td>[got, sent, photo, rubi, alaska, smoke, wildfi...</td>\n",
       "      <td>got sent photo rubi alaska smoke wildfir pour ...</td>\n",
       "    </tr>\n",
       "  </tbody>\n",
       "</table>\n",
       "</div>"
      ],
      "text/plain": [
       "   id keyword location                                               text  \\\n",
       "0   1     NaN      NaN  Our Deeds are the Reason of this #earthquake M...   \n",
       "1   4     NaN      NaN             Forest fire near La Ronge Sask. Canada   \n",
       "2   5     NaN      NaN  All residents asked to 'shelter in place' are ...   \n",
       "3   6     NaN      NaN  13,000 people receive #wildfires evacuation or...   \n",
       "4   7     NaN      NaN  Just got sent this photo from Ruby #Alaska as ...   \n",
       "\n",
       "   target                                     filtered_words  \\\n",
       "0       1  [deed, reason, earthquak, may, allah, forgiv, us]   \n",
       "1       1       [forest, fire, near, la, rong, sask, canada]   \n",
       "2       1  [resid, ask, shelter, place, notifi, offic, ev...   \n",
       "3       1  [peopl, receiv, wildfir, evacu, order, califor...   \n",
       "4       1  [got, sent, photo, rubi, alaska, smoke, wildfi...   \n",
       "\n",
       "                                          join_words  \n",
       "0          deed reason earthquak may allah forgiv us  \n",
       "1               forest fire near la rong sask canada  \n",
       "2  resid ask shelter place notifi offic evacu she...  \n",
       "3        peopl receiv wildfir evacu order california  \n",
       "4  got sent photo rubi alaska smoke wildfir pour ...  "
      ]
     },
     "execution_count": 7,
     "metadata": {},
     "output_type": "execute_result"
    }
   ],
   "source": [
    "# Print das Primeiras linhas\n",
    "tweets.head()"
   ]
  },
  {
   "cell_type": "code",
   "execution_count": null,
   "metadata": {
    "id": "9AuLAEyDqjPf"
   },
   "outputs": [],
   "source": [
    "# Instancia o TF IDF\n",
    "tfidf = TfidfVectorizer(use_idf = True)"
   ]
  },
  {
   "cell_type": "code",
   "execution_count": null,
   "metadata": {
    "id": "8vd20n4fqjPg"
   },
   "outputs": [],
   "source": [
    "# Função para transformar os dados pelo TF IDF\n",
    "def TF_IDF_fit_transform(X_to_fit_and_transform, X_to_transform):\n",
    "    X_fit_transformed = tfidf.fit_transform(X_to_fit_and_transform)\n",
    "    X_transformed     = tfidf.transform(X_to_transform)\n",
    "    return X_fit_transformed.todense(), X_transformed.todense()"
   ]
  },
  {
   "cell_type": "markdown",
   "metadata": {
    "id": "sO9ewzKWqjPg"
   },
   "source": [
    "__B)__ Crie uma função que teste diversos modelos de Classificação como por exemplo: Regressão Logística, Árvore de Decisão, RandomForest e AdaBoost. Além disso, para cada modelo plote as principais métricas e por fim plote uma curva ROC-AUC. Teste os Modelos"
   ]
  },
  {
   "cell_type": "code",
   "execution_count": null,
   "metadata": {
    "id": "bswJfvq7qjPh"
   },
   "outputs": [],
   "source": [
    "# Função para testar varios modelos e devolver um plot da curva ROC e principais métricas\n",
    "def test_models_plot_roc_auc_curve(model_list, col_model_name, col_model, X_train, X_test, y_train, y_test):\n",
    "    for mdl in model_list:\n",
    "        model = mdl[col_model]\n",
    "        model.fit(X_train, y_train)\n",
    "        y_predict = model.predict(X_test)\n",
    "        fpr, tpr, thresholds = metrics.roc_curve(y_test, model.predict_proba(X_test)[:,1])\n",
    "        auc = metrics.roc_auc_score(y_test, model.predict(X_test))\n",
    "        plt.plot(fpr, tpr, label='%s ROC (AUC = %0.2f)' % (mdl[col_model_name], auc))\n",
    "        print(\"Model      : %s\" % mdl[col_model_name])\n",
    "        print(\"Accuracy   : %0.4f \" %  accuracy_score(y_test, y_predict))\n",
    "        print(\"Precision  : %0.4f \" % precision_score(y_test, y_predict, average='weighted'))\n",
    "        print(\"Recall     : %0.4f \" % recall_score(y_test, y_predict, average='weighted'))\n",
    "        print(\"F1 - Score : %0.4f \" % f1_score(y_test, y_predict, average='weighted'))\n",
    "        print(\"ROC - AUC  : %0.4f \" % auc)\n",
    "        print(\"======================\")\n",
    "    plt.plot([0, 1], [0, 1],'r--')\n",
    "    plt.xlim([0.0, 1.0])\n",
    "    plt.ylim([0.0, 1.05])\n",
    "    plt.xlabel('False Positive Rate')\n",
    "    plt.ylabel('True Positive Rate')\n",
    "    plt.title('ROC-AUC curve')\n",
    "    plt.legend(loc=\"lower right\")\n",
    "    plt.show()"
   ]
  },
  {
   "cell_type": "code",
   "execution_count": null,
   "metadata": {
    "id": "PU_beFjyqjPh"
   },
   "outputs": [],
   "source": [
    "# Define uma seed aleatória\n",
    "random_seed = 42\n",
    "\n",
    "# Define uma lista de modelos a serem testados\n",
    "list_models = [\n",
    "{'model_name': 'Logistic Regression',\n",
    " 'estimator' : LogisticRegression(random_state = random_seed, \n",
    "                                  solver = 'lbfgs')},\n",
    "{'model_name': 'Decision Tree',\n",
    " 'estimator' : DecisionTreeClassifier(random_state = random_seed)},\n",
    "{'model_name': 'Random Forest',\n",
    " 'estimator' : RandomForestClassifier(random_state = random_seed)}, \n",
    "{'model_name': 'AdaBoost',\n",
    " 'estimator' : AdaBoostClassifier(random_state = random_seed)}\n",
    "]"
   ]
  },
  {
   "cell_type": "code",
   "execution_count": null,
   "metadata": {
    "id": "chDJPJREqjPh"
   },
   "outputs": [],
   "source": [
    "# Separação entre treino e teste\n",
    "X_train, X_test, y_train, y_test = train_test_split(tweets['join_words'], \n",
    "                                                     tweets['target'], \n",
    "                                                     test_size = 0.3, \n",
    "                                                     random_state = random_seed,\n",
    "                                                     stratify = tweets['target'])"
   ]
  },
  {
   "cell_type": "code",
   "execution_count": null,
   "metadata": {
    "id": "Jwij0ZFmqjPh",
    "outputId": "0587e133-56bb-469e-f4ae-f3ce704f952e",
    "scrolled": false
   },
   "outputs": [
    {
     "name": "stdout",
     "output_type": "stream",
     "text": [
      "Model      : Logistic Regression\n",
      "Accuracy   : 0.7964 \n",
      "Precision  : 0.7965 \n",
      "Recall     : 0.7964 \n",
      "F1 - Score : 0.7944 \n",
      "ROC - AUC  : 0.7852 \n",
      "======================\n",
      "Model      : Decision Tree\n",
      "Accuracy   : 0.7320 \n",
      "Precision  : 0.7312 \n",
      "Recall     : 0.7320 \n",
      "F1 - Score : 0.7315 \n",
      "ROC - AUC  : 0.7249 \n",
      "======================\n",
      "Model      : Random Forest\n",
      "Accuracy   : 0.7986 \n",
      "Precision  : 0.8047 \n",
      "Recall     : 0.7986 \n",
      "F1 - Score : 0.7938 \n",
      "ROC - AUC  : 0.7808 \n",
      "======================\n",
      "Model      : AdaBoost\n",
      "Accuracy   : 0.7583 \n",
      "Precision  : 0.7678 \n",
      "Recall     : 0.7583 \n",
      "F1 - Score : 0.7495 \n",
      "ROC - AUC  : 0.7352 \n",
      "======================\n"
     ]
    },
    {
     "data": {
      "image/png": "[encoded data removed]",
      "text/plain": [
       "<Figure size 432x288 with 1 Axes>"
      ]
     },
     "metadata": {
      "needs_background": "light"
     },
     "output_type": "display_data"
    }
   ],
   "source": [
    "# Aplica a transformação TF-IDF\n",
    "X_train_tfidf, X_test_tfidf = TF_IDF_fit_transform(X_train, X_test)\n",
    "\n",
    "# Aplica a função que testa varios modelos\n",
    "test_models_plot_roc_auc_curve(list_models,\n",
    "                              \"model_name\",\n",
    "                              \"estimator\",\n",
    "                              X_train_tfidf,\n",
    "                              X_test_tfidf,\n",
    "                              y_train,\n",
    "                              y_test)"
   ]
  },
  {
   "cell_type": "markdown",
   "metadata": {
    "id": "IQwCyjq4qjPi"
   },
   "source": [
    "__C)__ Desenvolva uma Rede Neural Embedding com LSTM para fazer a classificação dos tweets. Qual a rede neural teve uma performance melhor que o modelo tradicional?"
   ]
  },
  {
   "cell_type": "code",
   "execution_count": null,
   "metadata": {
    "id": "ndHg_JMIqjPi"
   },
   "outputs": [],
   "source": [
    "# Função para contar palavras\n",
    "def counter_word(text):\n",
    "    count = Counter()\n",
    "    for i in text.values:\n",
    "        for word in i.split():\n",
    "            count[word] += 1\n",
    "    return count"
   ]
  },
  {
   "cell_type": "code",
   "execution_count": null,
   "metadata": {
    "id": "h_GrpCJOqjPi"
   },
   "outputs": [],
   "source": [
    "# Define o texto\n",
    "text = tweets['join_words']\n",
    "\n",
    "# Contagem de todas as palavras\n",
    "counter = counter_word(text)"
   ]
  },
  {
   "cell_type": "code",
   "execution_count": null,
   "metadata": {
    "id": "8bOCpO8xqjPi",
    "outputId": "7c364c53-8826-4f3b-af65-4407e0de7eb4"
   },
   "outputs": [
    {
     "data": {
      "text/plain": [
       "17692"
      ]
     },
     "execution_count": 16,
     "metadata": {},
     "output_type": "execute_result"
    }
   ],
   "source": [
    "# Quantidade total de palavras\n",
    "len(counter)"
   ]
  },
  {
   "cell_type": "code",
   "execution_count": null,
   "metadata": {
    "id": "gQ42sdf5qjPi"
   },
   "outputs": [],
   "source": [
    "# Define o num_words\n",
    "num_words = len(counter)\n",
    "\n",
    "# Define o maximo de caracteres num tweet\n",
    "max_len = 157"
   ]
  },
  {
   "cell_type": "code",
   "execution_count": null,
   "metadata": {
    "id": "-G9L-WEVqjPj"
   },
   "outputs": [],
   "source": [
    "# aplica o Tokenizer na base de treino\n",
    "tokenizer = Tokenizer(num_words = num_words)\n",
    "\n",
    "# Fit nos textos\n",
    "tokenizer.fit_on_texts(X_train)"
   ]
  },
  {
   "cell_type": "code",
   "execution_count": null,
   "metadata": {
    "id": "RxmpzdWCqjPj"
   },
   "outputs": [],
   "source": [
    "# Converte os textos em palavras em sequencia\n",
    "X_train = tokenizer.texts_to_sequences(X_train)\n",
    "\n",
    "# Separa as sequencias em pedaços\n",
    "train_padded = pad_sequences(X_train, maxlen = max_len, truncating = \"post\")"
   ]
  },
  {
   "cell_type": "code",
   "execution_count": null,
   "metadata": {
    "id": "DV8S6oUXqjPj"
   },
   "outputs": [],
   "source": [
    "# Converte os textos em palavras em sequencia\n",
    "X_test = tokenizer.texts_to_sequences(X_test)\n",
    "\n",
    "# Separa as sequencias em pedaços\n",
    "test_padded = pad_sequences(X_test, maxlen = max_len, truncating = \"post\")"
   ]
  },
  {
   "cell_type": "code",
   "execution_count": null,
   "metadata": {
    "id": "HeNFgdgiqjPj"
   },
   "outputs": [],
   "source": [
    "# Define um callback de early Stopping\n",
    "callbacks  = [EarlyStopping(monitor = 'val_loss',\n",
    "                            min_delta = 0,\n",
    "                            patience = 5,\n",
    "                            mode = 'auto')]"
   ]
  },
  {
   "cell_type": "code",
   "execution_count": null,
   "metadata": {
    "id": "MYg3YX5XqjPj"
   },
   "outputs": [],
   "source": [
    "# Monta a arquitetura de Embedding com LSTM\n",
    "model = Sequential([\n",
    "            Embedding(num_words, \n",
    "                      32, \n",
    "                      input_length = max_len),\n",
    "            LSTM(64, dropout = 0.2),\n",
    "            Dense(1, activation = 'sigmoid')])"
   ]
  },
  {
   "cell_type": "code",
   "execution_count": null,
   "metadata": {
    "id": "tpx7CKcFqjPj",
    "outputId": "170c7ab1-d4e6-495a-8058-6aa3d961aeda"
   },
   "outputs": [
    {
     "name": "stdout",
     "output_type": "stream",
     "text": [
      "Model: \"sequential\"\n",
      "_________________________________________________________________\n",
      " Layer (type)                Output Shape              Param #   \n",
      "=================================================================\n",
      " embedding (Embedding)       (None, 157, 32)           566144    \n",
      "                                                                 \n",
      " lstm (LSTM)                 (None, 64)                24832     \n",
      "                                                                 \n",
      " dense (Dense)               (None, 1)                 65        \n",
      "                                                                 \n",
      "=================================================================\n",
      "Total params: 591,041\n",
      "Trainable params: 591,041\n",
      "Non-trainable params: 0\n",
      "_________________________________________________________________\n"
     ]
    }
   ],
   "source": [
    "# Sumário da rede\n",
    "model.summary()"
   ]
  },
  {
   "cell_type": "code",
   "execution_count": null,
   "metadata": {
    "id": "Rl8R8qxFqjPk"
   },
   "outputs": [],
   "source": [
    "# Compilador da rede\n",
    "model.compile(optimizer = \"Adam\", \n",
    "              loss = \"binary_crossentropy\", \n",
    "              metrics = [\"accuracy\"])"
   ]
  },
  {
   "cell_type": "code",
   "execution_count": null,
   "metadata": {
    "id": "pie_G_VQqjPk",
    "outputId": "356d7c43-c149-4eca-caa9-e81b92b36be7"
   },
   "outputs": [
    {
     "name": "stdout",
     "output_type": "stream",
     "text": [
      "Epoch 1/30\n",
      "167/167 [==============================] - 13s 68ms/step - loss: 0.6045 - accuracy: 0.6735 - val_loss: 0.4589 - val_accuracy: 0.7898\n",
      "Epoch 2/30\n",
      "167/167 [==============================] - 11s 68ms/step - loss: 0.3441 - accuracy: 0.8508 - val_loss: 0.4319 - val_accuracy: 0.8139\n",
      "Epoch 3/30\n",
      "167/167 [==============================] - 11s 66ms/step - loss: 0.2020 - accuracy: 0.9274 - val_loss: 0.5022 - val_accuracy: 0.8069\n",
      "Epoch 4/30\n",
      "167/167 [==============================] - 11s 68ms/step - loss: 0.1145 - accuracy: 0.9593 - val_loss: 0.5778 - val_accuracy: 0.7763\n",
      "Epoch 5/30\n",
      "167/167 [==============================] - 11s 67ms/step - loss: 0.0690 - accuracy: 0.9765 - val_loss: 0.6584 - val_accuracy: 0.7842\n",
      "Epoch 6/30\n",
      "167/167 [==============================] - 11s 67ms/step - loss: 0.0492 - accuracy: 0.9850 - val_loss: 0.6862 - val_accuracy: 0.7653\n",
      "Epoch 7/30\n",
      "167/167 [==============================] - 12s 70ms/step - loss: 0.0403 - accuracy: 0.9906 - val_loss: 0.7786 - val_accuracy: 0.7732\n"
     ]
    }
   ],
   "source": [
    "# Fit da Rede\n",
    "history = model.fit(train_padded, \n",
    "                    y_train, \n",
    "                    epochs = 30, \n",
    "                    validation_data = (test_padded, y_test), \n",
    "                    callbacks = callbacks)"
   ]
  },
  {
   "cell_type": "code",
   "execution_count": null,
   "metadata": {
    "id": "HATIElc2qjPk",
    "outputId": "bd275b48-0e6f-48c8-9f38-dece674c82b2"
   },
   "outputs": [
    {
     "data": {
      "text/plain": [
       "array([[1],\n",
       "       [1],\n",
       "       [0],\n",
       "       ...,\n",
       "       [0],\n",
       "       [1],\n",
       "       [0]])"
      ]
     },
     "execution_count": 29,
     "metadata": {},
     "output_type": "execute_result"
    }
   ],
   "source": [
    "# Define as predições para a base de teste\n",
    "y_pred = np.where(model.predict(test_padded) >= 0.5, 1, 0)\n",
    "y_pred"
   ]
  },
  {
   "cell_type": "code",
   "execution_count": null,
   "metadata": {
    "id": "zy4TuageqjPk",
    "outputId": "2ab45781-e09d-4252-ad5d-bac7504e810a"
   },
   "outputs": [
    {
     "name": "stdout",
     "output_type": "stream",
     "text": [
      "              precision    recall  f1-score   support\n",
      "\n",
      "           0       0.80      0.80      0.80      1303\n",
      "           1       0.73      0.74      0.74       981\n",
      "\n",
      "    accuracy                           0.77      2284\n",
      "   macro avg       0.77      0.77      0.77      2284\n",
      "weighted avg       0.77      0.77      0.77      2284\n",
      "\n"
     ]
    }
   ],
   "source": [
    "# Print do Classification_report\n",
    "print(classification_report(y_test, y_pred))"
   ]
  },
  {
   "cell_type": "markdown",
   "metadata": {
    "id": "r1Tdv1jkqjPk"
   },
   "source": [
    "Resultado para o Embedding com LSTM ficou bem próximo do resultado obtido para a melhor combinação de modelo com o TF-IDF, mostrando o potencial de desenvolvimento de uma rede neural."
   ]
  },
  {
   "cell_type": "markdown",
   "metadata": {
    "id": "TWInRDheqjPk"
   },
   "source": [
    "## "
   ]
  },
  {
   "cell_type": "markdown",
   "metadata": {
    "id": "AY3B0O_GqjPk"
   },
   "source": [
    "### Exemplo aplicado a Séries Temporais\n",
    "\n",
    "Use a base de dados `covid_saopaulo.csv` para desenvolver uma rede dinâmica LSTM e faça predições das mortes usando um trecho da série temporal de 21 dias."
   ]
  },
  {
   "cell_type": "markdown",
   "metadata": {
    "id": "6ugnEz3FqjPl"
   },
   "source": [
    "### Resolução:"
   ]
  },
  {
   "cell_type": "code",
   "execution_count": null,
   "metadata": {
    "id": "BhTk8NeXqjPl"
   },
   "outputs": [],
   "source": [
    "# carrega a base de dados\n",
    "covidsp = pd.read_csv('covid_saopaulo.csv', index_col = 'date', parse_dates = True)"
   ]
  },
  {
   "cell_type": "code",
   "execution_count": null,
   "metadata": {
    "id": "KE8L7prJqjPl"
   },
   "outputs": [],
   "source": [
    "# Dropa a coluna de casos confirmados\n",
    "covidsp = covidsp.drop('confirmed', axis = 1)"
   ]
  },
  {
   "cell_type": "code",
   "execution_count": null,
   "metadata": {
    "id": "bbTEVu4TqjPl"
   },
   "outputs": [],
   "source": [
    "# ajusta os indices como um date_range\n",
    "idx = pd.date_range(start = covidsp.index.min(), end = covidsp.index.max(), freq = 'D')"
   ]
  },
  {
   "cell_type": "code",
   "execution_count": null,
   "metadata": {
    "id": "B4Kwz-yAqjPl"
   },
   "outputs": [],
   "source": [
    "# Altera os indices\n",
    "covidsp = covidsp.reindex(idx)"
   ]
  },
  {
   "cell_type": "code",
   "execution_count": null,
   "metadata": {
    "id": "HG3to9N2qjPl"
   },
   "outputs": [],
   "source": [
    "# Preenche os nulos com 0\n",
    "covidsp.fillna(0, inplace = True)"
   ]
  },
  {
   "cell_type": "code",
   "execution_count": null,
   "metadata": {
    "id": "abox836LqjPl",
    "outputId": "2b51bd9d-1d25-4660-fb77-d6478de22f0d"
   },
   "outputs": [
    {
     "data": {
      "text/html": [
       "<div>\n",
       "<style scoped>\n",
       "    .dataframe tbody tr th:only-of-type {\n",
       "        vertical-align: middle;\n",
       "    }\n",
       "\n",
       "    .dataframe tbody tr th {\n",
       "        vertical-align: top;\n",
       "    }\n",
       "\n",
       "    .dataframe thead th {\n",
       "        text-align: right;\n",
       "    }\n",
       "</style>\n",
       "<table border=\"1\" class=\"dataframe\">\n",
       "  <thead>\n",
       "    <tr style=\"text-align: right;\">\n",
       "      <th></th>\n",
       "      <th>deaths</th>\n",
       "    </tr>\n",
       "  </thead>\n",
       "  <tbody>\n",
       "    <tr>\n",
       "      <th>2020-02-26</th>\n",
       "      <td>0.0</td>\n",
       "    </tr>\n",
       "    <tr>\n",
       "      <th>2020-02-27</th>\n",
       "      <td>0.0</td>\n",
       "    </tr>\n",
       "    <tr>\n",
       "      <th>2020-02-28</th>\n",
       "      <td>0.0</td>\n",
       "    </tr>\n",
       "    <tr>\n",
       "      <th>2020-02-29</th>\n",
       "      <td>0.0</td>\n",
       "    </tr>\n",
       "    <tr>\n",
       "      <th>2020-03-01</th>\n",
       "      <td>0.0</td>\n",
       "    </tr>\n",
       "  </tbody>\n",
       "</table>\n",
       "</div>"
      ],
      "text/plain": [
       "            deaths\n",
       "2020-02-26     0.0\n",
       "2020-02-27     0.0\n",
       "2020-02-28     0.0\n",
       "2020-02-29     0.0\n",
       "2020-03-01     0.0"
      ]
     },
     "execution_count": 36,
     "metadata": {},
     "output_type": "execute_result"
    }
   ],
   "source": [
    "# Print das primeiras linhas\n",
    "covidsp.head()"
   ]
  },
  {
   "cell_type": "code",
   "execution_count": null,
   "metadata": {
    "id": "C3aogAsnqjPl",
    "outputId": "5f65ce2d-82b8-4a6d-9fa0-315d0715c5d9"
   },
   "outputs": [
    {
     "data": {
      "image/png": "[encoded data removed]",
      "text/plain": [
       "<Figure size 864x576 with 1 Axes>"
      ]
     },
     "metadata": {
      "needs_background": "light"
     },
     "output_type": "display_data"
    }
   ],
   "source": [
    "# Plot da serie temporal\n",
    "covidsp.plot(figsize=(12,8))\n",
    "\n",
    "# Cria um titulo\n",
    "plt.title('Mortes por COVID - São Paulo')\n",
    "\n",
    "# Mostra o gráfico\n",
    "plt.show()"
   ]
  },
  {
   "cell_type": "code",
   "execution_count": null,
   "metadata": {
    "id": "Z2m2ot4fqjPm",
    "outputId": "1f4c3e52-5d2d-4c60-f99e-d5d839136199"
   },
   "outputs": [
    {
     "data": {
      "text/plain": [
       "288"
      ]
     },
     "execution_count": 60,
     "metadata": {},
     "output_type": "execute_result"
    }
   ],
   "source": [
    "# Determina o tamanho total menos os 21 dias de teste\n",
    "len(covidsp)-21"
   ]
  },
  {
   "cell_type": "code",
   "execution_count": null,
   "metadata": {
    "id": "uL55y9EuqjPm"
   },
   "outputs": [],
   "source": [
    "# Separa os dados em treino e teste\n",
    "train = covidsp.iloc[:288]\n",
    "test = covidsp.iloc[288:]"
   ]
  },
  {
   "cell_type": "code",
   "execution_count": null,
   "metadata": {
    "id": "Rse2i1cRqjPm",
    "outputId": "b80f9c60-ff6f-4fdf-ed91-dcdbddff13c6"
   },
   "outputs": [
    {
     "data": {
      "text/plain": [
       "((288, 1), (21, 1))"
      ]
     },
     "execution_count": 40,
     "metadata": {},
     "output_type": "execute_result"
    }
   ],
   "source": [
    "# Dimensões das bases de treino e teste\n",
    "train.shape, test.shape"
   ]
  },
  {
   "cell_type": "code",
   "execution_count": null,
   "metadata": {
    "id": "9enuNxQcqjPm"
   },
   "outputs": [],
   "source": [
    "# import do Scaler\n",
    "from sklearn.preprocessing import MinMaxScaler\n",
    "\n",
    "# Define a normalização\n",
    "scaler = MinMaxScaler()"
   ]
  },
  {
   "cell_type": "code",
   "execution_count": null,
   "metadata": {
    "id": "diBmWNnpqjPm"
   },
   "outputs": [],
   "source": [
    "# Aplica a normalização dos dados\n",
    "scaled_train = scaler.fit_transform(train)\n",
    "scaled_test = scaler.transform(test)"
   ]
  },
  {
   "cell_type": "code",
   "execution_count": null,
   "metadata": {
    "id": "gITyASbSqjPm"
   },
   "outputs": [],
   "source": [
    "from tensorflow.keras.preprocessing.sequence import TimeseriesGenerator"
   ]
  },
  {
   "cell_type": "code",
   "execution_count": null,
   "metadata": {
    "id": "W5PL7xa4qjPm"
   },
   "outputs": [],
   "source": [
    "# Definindo os tamanhos dos lotes de treinamento\n",
    "n_input = 7\n",
    "n_features = 1\n",
    "\n",
    "# Definindo o generator para a serie temporal\n",
    "generator = TimeseriesGenerator(scaled_train, \n",
    "                                scaled_train, \n",
    "                                length = n_input, \n",
    "                                batch_size = 2)"
   ]
  },
  {
   "cell_type": "code",
   "execution_count": null,
   "metadata": {
    "id": "4pTf-bt9qjPn"
   },
   "outputs": [],
   "source": [
    "# Testando o primeiro Lote\n",
    "X, y = generator[0]"
   ]
  },
  {
   "cell_type": "code",
   "execution_count": null,
   "metadata": {
    "id": "4t71REmqqjPn",
    "outputId": "86f5679f-72b5-4053-fbb9-925091288d99"
   },
   "outputs": [
    {
     "name": "stdout",
     "output_type": "stream",
     "text": [
      "Dados Esperados por lote e previsão\n",
      "Primeiro Lote: \n",
      "[0. 0. 0. 0. 0. 0. 0. 0. 0. 0. 0. 0. 0. 0.]\n",
      "Previsão: \n",
      " [[0.]\n",
      " [0.]]\n"
     ]
    }
   ],
   "source": [
    "# Entendendo a separação em lotes e a previsão esperada\n",
    "print('Dados Esperados por lote e previsão')\n",
    "print(f'Primeiro Lote: \\n{X.flatten()}');\n",
    "print(f'Previsão: \\n {y}');"
   ]
  },
  {
   "cell_type": "code",
   "execution_count": null,
   "metadata": {
    "id": "_Ix5pmhlqjPn"
   },
   "outputs": [],
   "source": [
    "from tensorflow.keras.models import Sequential\n",
    "from tensorflow.keras.layers import Dense\n",
    "from tensorflow.keras.layers import LSTM"
   ]
  },
  {
   "cell_type": "code",
   "execution_count": null,
   "metadata": {
    "id": "6pEorZ-MqjPn"
   },
   "outputs": [],
   "source": [
    "# Defina o modelo\n",
    "model = Sequential([\n",
    "            LSTM(100, activation='relu', input_shape=(n_input, n_features)),\n",
    "            Dense(1, activation = 'sigmoid')])"
   ]
  },
  {
   "cell_type": "code",
   "execution_count": null,
   "metadata": {
    "id": "vDorQaWoqjPn",
    "outputId": "65f57b9f-19bb-45a1-824b-b57a4de23ec1"
   },
   "outputs": [
    {
     "name": "stdout",
     "output_type": "stream",
     "text": [
      "Model: \"sequential_1\"\n",
      "_________________________________________________________________\n",
      " Layer (type)                Output Shape              Param #   \n",
      "=================================================================\n",
      " lstm_1 (LSTM)               (None, 100)               40800     \n",
      "                                                                 \n",
      " dense_1 (Dense)             (None, 1)                 101       \n",
      "                                                                 \n",
      "=================================================================\n",
      "Total params: 40,901\n",
      "Trainable params: 40,901\n",
      "Non-trainable params: 0\n",
      "_________________________________________________________________\n"
     ]
    }
   ],
   "source": [
    "# Sumario da Rede\n",
    "model.summary()"
   ]
  },
  {
   "cell_type": "code",
   "execution_count": null,
   "metadata": {
    "id": "M-7poi_sqxAo"
   },
   "outputs": [],
   "source": [
    "# Compilador do modelo\n",
    "model.compile(optimizer='adam', loss='mse')"
   ]
  },
  {
   "cell_type": "code",
   "execution_count": null,
   "metadata": {
    "id": "Gz5AYvFuqjPn",
    "outputId": "78bed40d-82c8-4f89-cc01-298f3bde783b"
   },
   "outputs": [
    {
     "name": "stdout",
     "output_type": "stream",
     "text": [
      "Epoch 1/250\n",
      "141/141 [==============================] - 1s 3ms/step - loss: 0.0824\n",
      "Epoch 2/250\n",
      "141/141 [==============================] - 0s 3ms/step - loss: 0.0413\n",
      "Epoch 3/250\n",
      "141/141 [==============================] - 0s 3ms/step - loss: 0.0344\n",
      "Epoch 4/250\n",
      "141/141 [==============================] - 0s 3ms/step - loss: 0.0315A: 0s - loss: 0\n",
      "Epoch 5/250\n",
      "141/141 [==============================] - 0s 3ms/step - loss: 0.0261\n",
      "Epoch 6/250\n",
      "141/141 [==============================] - 0s 3ms/step - loss: 0.0244\n",
      "Epoch 7/250\n",
      "141/141 [==============================] - 0s 3ms/step - loss: 0.0226\n",
      "Epoch 8/250\n",
      "141/141 [==============================] - 0s 3ms/step - loss: 0.0224\n",
      "Epoch 9/250\n",
      "141/141 [==============================] - 0s 3ms/step - loss: 0.0203\n",
      "Epoch 10/250\n",
      "141/141 [==============================] - 0s 3ms/step - loss: 0.0202\n",
      "Epoch 11/250\n",
      "141/141 [==============================] - 0s 3ms/step - loss: 0.0178\n",
      "Epoch 12/250\n",
      "141/141 [==============================] - 0s 3ms/step - loss: 0.0180\n",
      "Epoch 13/250\n",
      "141/141 [==============================] - 0s 3ms/step - loss: 0.0172\n",
      "Epoch 14/250\n",
      "141/141 [==============================] - 0s 3ms/step - loss: 0.0179\n",
      "Epoch 15/250\n",
      "141/141 [==============================] - 0s 3ms/step - loss: 0.0181\n",
      "Epoch 16/250\n",
      "141/141 [==============================] - 0s 3ms/step - loss: 0.0176\n",
      "Epoch 17/250\n",
      "141/141 [==============================] - 0s 3ms/step - loss: 0.0171\n",
      "Epoch 18/250\n",
      "141/141 [==============================] - 0s 3ms/step - loss: 0.0161\n",
      "Epoch 19/250\n",
      "141/141 [==============================] - 0s 3ms/step - loss: 0.0172\n",
      "Epoch 20/250\n",
      "141/141 [==============================] - 0s 3ms/step - loss: 0.0165\n",
      "Epoch 21/250\n",
      "141/141 [==============================] - 0s 3ms/step - loss: 0.0166\n",
      "Epoch 22/250\n",
      "141/141 [==============================] - 0s 3ms/step - loss: 0.0164\n",
      "Epoch 23/250\n",
      "141/141 [==============================] - 0s 3ms/step - loss: 0.0163\n",
      "Epoch 24/250\n",
      "141/141 [==============================] - 0s 3ms/step - loss: 0.0167\n",
      "Epoch 25/250\n",
      "141/141 [==============================] - 0s 3ms/step - loss: 0.0158\n",
      "Epoch 26/250\n",
      "141/141 [==============================] - 0s 3ms/step - loss: 0.0165\n",
      "Epoch 27/250\n",
      "141/141 [==============================] - 0s 3ms/step - loss: 0.0165\n",
      "Epoch 28/250\n",
      "141/141 [==============================] - 0s 3ms/step - loss: 0.0158\n",
      "Epoch 29/250\n",
      "141/141 [==============================] - 0s 3ms/step - loss: 0.0157\n",
      "Epoch 30/250\n",
      "141/141 [==============================] - 0s 3ms/step - loss: 0.0160\n",
      "Epoch 31/250\n",
      "141/141 [==============================] - 0s 3ms/step - loss: 0.0164\n",
      "Epoch 32/250\n",
      "141/141 [==============================] - 0s 3ms/step - loss: 0.0160\n",
      "Epoch 33/250\n",
      "141/141 [==============================] - 0s 3ms/step - loss: 0.0162\n",
      "Epoch 34/250\n",
      "141/141 [==============================] - 0s 3ms/step - loss: 0.0158\n",
      "Epoch 35/250\n",
      "141/141 [==============================] - 0s 3ms/step - loss: 0.0163\n",
      "Epoch 36/250\n",
      "141/141 [==============================] - 0s 3ms/step - loss: 0.0152\n",
      "Epoch 37/250\n",
      "141/141 [==============================] - 0s 3ms/step - loss: 0.0163\n",
      "Epoch 38/250\n",
      "141/141 [==============================] - 0s 3ms/step - loss: 0.0154\n",
      "Epoch 39/250\n",
      "141/141 [==============================] - 0s 3ms/step - loss: 0.0158\n",
      "Epoch 40/250\n",
      "141/141 [==============================] - 0s 3ms/step - loss: 0.0155\n",
      "Epoch 41/250\n",
      "141/141 [==============================] - 0s 3ms/step - loss: 0.0158\n",
      "Epoch 42/250\n",
      "141/141 [==============================] - 0s 3ms/step - loss: 0.0155\n",
      "Epoch 43/250\n",
      "141/141 [==============================] - 0s 3ms/step - loss: 0.0159\n",
      "Epoch 44/250\n",
      "141/141 [==============================] - 0s 3ms/step - loss: 0.0160\n",
      "Epoch 45/250\n",
      "141/141 [==============================] - 0s 3ms/step - loss: 0.0151\n",
      "Epoch 46/250\n",
      "141/141 [==============================] - 0s 3ms/step - loss: 0.0155\n",
      "Epoch 47/250\n",
      "141/141 [==============================] - 0s 3ms/step - loss: 0.0155\n",
      "Epoch 48/250\n",
      "141/141 [==============================] - 0s 3ms/step - loss: 0.0151\n",
      "Epoch 49/250\n",
      "141/141 [==============================] - 0s 3ms/step - loss: 0.0148\n",
      "Epoch 50/250\n",
      "141/141 [==============================] - 0s 3ms/step - loss: 0.0154\n",
      "Epoch 51/250\n",
      "141/141 [==============================] - 0s 3ms/step - loss: 0.0157\n",
      "Epoch 52/250\n",
      "141/141 [==============================] - 0s 3ms/step - loss: 0.0152\n",
      "Epoch 53/250\n",
      "141/141 [==============================] - 0s 3ms/step - loss: 0.0152\n",
      "Epoch 54/250\n",
      "141/141 [==============================] - 0s 3ms/step - loss: 0.0152\n",
      "Epoch 55/250\n",
      "141/141 [==============================] - 0s 3ms/step - loss: 0.0150\n",
      "Epoch 56/250\n",
      "141/141 [==============================] - 0s 3ms/step - loss: 0.0149\n",
      "Epoch 57/250\n",
      "141/141 [==============================] - 0s 3ms/step - loss: 0.0148\n",
      "Epoch 58/250\n",
      "141/141 [==============================] - 0s 3ms/step - loss: 0.0146\n",
      "Epoch 59/250\n",
      "141/141 [==============================] - 0s 3ms/step - loss: 0.0150\n",
      "Epoch 60/250\n",
      "141/141 [==============================] - 0s 3ms/step - loss: 0.0151\n",
      "Epoch 61/250\n",
      "141/141 [==============================] - 0s 3ms/step - loss: 0.0146\n",
      "Epoch 62/250\n",
      "141/141 [==============================] - 0s 3ms/step - loss: 0.0153\n",
      "Epoch 63/250\n",
      "141/141 [==============================] - 0s 3ms/step - loss: 0.0154\n",
      "Epoch 64/250\n",
      "141/141 [==============================] - 0s 3ms/step - loss: 0.0146\n",
      "Epoch 65/250\n",
      "141/141 [==============================] - 0s 3ms/step - loss: 0.0146\n",
      "Epoch 66/250\n",
      "141/141 [==============================] - 0s 3ms/step - loss: 0.0147\n",
      "Epoch 67/250\n",
      "141/141 [==============================] - 0s 3ms/step - loss: 0.0151\n",
      "Epoch 68/250\n",
      "141/141 [==============================] - 0s 3ms/step - loss: 0.0141\n",
      "Epoch 69/250\n",
      "141/141 [==============================] - 0s 3ms/step - loss: 0.0142\n",
      "Epoch 70/250\n",
      "141/141 [==============================] - 0s 3ms/step - loss: 0.0146\n",
      "Epoch 71/250\n",
      "141/141 [==============================] - 0s 3ms/step - loss: 0.0143\n",
      "Epoch 72/250\n",
      "141/141 [==============================] - 0s 3ms/step - loss: 0.0139A: 0s - loss: 0.014\n",
      "Epoch 73/250\n",
      "141/141 [==============================] - 0s 3ms/step - loss: 0.0143\n",
      "Epoch 74/250\n",
      "141/141 [==============================] - 0s 3ms/step - loss: 0.0145\n",
      "Epoch 75/250\n",
      "141/141 [==============================] - 0s 3ms/step - loss: 0.0143\n",
      "Epoch 76/250\n",
      "141/141 [==============================] - 1s 4ms/step - loss: 0.0138\n",
      "Epoch 77/250\n",
      "141/141 [==============================] - 0s 3ms/step - loss: 0.0146 ETA: 0s - loss: 0 - ETA: 0s - loss: 0.014\n",
      "Epoch 78/250\n",
      "141/141 [==============================] - 0s 3ms/step - loss: 0.0140\n",
      "Epoch 79/250\n",
      "141/141 [==============================] - 0s 3ms/step - loss: 0.0149\n",
      "Epoch 80/250\n",
      "141/141 [==============================] - 0s 3ms/step - loss: 0.0140\n",
      "Epoch 81/250\n",
      "141/141 [==============================] - 0s 3ms/step - loss: 0.0140\n",
      "Epoch 82/250\n",
      "141/141 [==============================] - 0s 3ms/step - loss: 0.0139\n",
      "Epoch 83/250\n",
      "141/141 [==============================] - 0s 3ms/step - loss: 0.0146\n",
      "Epoch 84/250\n",
      "141/141 [==============================] - 0s 3ms/step - loss: 0.0141\n",
      "Epoch 85/250\n",
      "141/141 [==============================] - 0s 3ms/step - loss: 0.0133\n",
      "Epoch 86/250\n",
      "141/141 [==============================] - 0s 3ms/step - loss: 0.0144\n",
      "Epoch 87/250\n",
      "141/141 [==============================] - 0s 3ms/step - loss: 0.0137\n",
      "Epoch 88/250\n",
      "141/141 [==============================] - 0s 3ms/step - loss: 0.0139\n",
      "Epoch 89/250\n",
      "141/141 [==============================] - 0s 3ms/step - loss: 0.0138\n",
      "Epoch 90/250\n",
      "141/141 [==============================] - 0s 3ms/step - loss: 0.0140\n",
      "Epoch 91/250\n",
      "141/141 [==============================] - 0s 3ms/step - loss: 0.0140\n",
      "Epoch 92/250\n",
      "141/141 [==============================] - 0s 3ms/step - loss: 0.0140\n",
      "Epoch 93/250\n",
      "141/141 [==============================] - 0s 3ms/step - loss: 0.0141\n",
      "Epoch 94/250\n",
      "141/141 [==============================] - 0s 3ms/step - loss: 0.0135\n",
      "Epoch 95/250\n",
      "141/141 [==============================] - 0s 3ms/step - loss: 0.0136\n",
      "Epoch 96/250\n",
      "141/141 [==============================] - 0s 3ms/step - loss: 0.0142\n",
      "Epoch 97/250\n",
      "141/141 [==============================] - 0s 3ms/step - loss: 0.0136\n",
      "Epoch 98/250\n",
      "141/141 [==============================] - 0s 3ms/step - loss: 0.0138\n",
      "Epoch 99/250\n",
      "141/141 [==============================] - 0s 3ms/step - loss: 0.0131\n",
      "Epoch 100/250\n",
      "141/141 [==============================] - 1s 3ms/step - loss: 0.0134\n",
      "Epoch 101/250\n",
      "141/141 [==============================] - 0s 3ms/step - loss: 0.0135\n",
      "Epoch 102/250\n",
      "141/141 [==============================] - 0s 3ms/step - loss: 0.0133\n",
      "Epoch 103/250\n",
      "141/141 [==============================] - 0s 3ms/step - loss: 0.0131\n",
      "Epoch 104/250\n",
      "141/141 [==============================] - 0s 3ms/step - loss: 0.0135\n",
      "Epoch 105/250\n",
      "141/141 [==============================] - 0s 3ms/step - loss: 0.0131\n",
      "Epoch 106/250\n",
      "141/141 [==============================] - 0s 3ms/step - loss: 0.0130\n",
      "Epoch 107/250\n",
      "141/141 [==============================] - 0s 3ms/step - loss: 0.0134\n",
      "Epoch 108/250\n",
      "141/141 [==============================] - 0s 3ms/step - loss: 0.0130\n",
      "Epoch 109/250\n",
      "141/141 [==============================] - 0s 3ms/step - loss: 0.0134\n",
      "Epoch 110/250\n",
      "141/141 [==============================] - 0s 3ms/step - loss: 0.0129\n",
      "Epoch 111/250\n",
      "141/141 [==============================] - 0s 3ms/step - loss: 0.0129\n",
      "Epoch 112/250\n",
      "141/141 [==============================] - 0s 3ms/step - loss: 0.0132\n",
      "Epoch 113/250\n",
      "141/141 [==============================] - 0s 3ms/step - loss: 0.0132\n",
      "Epoch 114/250\n",
      "141/141 [==============================] - 0s 3ms/step - loss: 0.0133\n",
      "Epoch 115/250\n",
      "141/141 [==============================] - 0s 3ms/step - loss: 0.0122\n",
      "Epoch 116/250\n",
      "141/141 [==============================] - 0s 3ms/step - loss: 0.0128\n",
      "Epoch 117/250\n",
      "141/141 [==============================] - 0s 3ms/step - loss: 0.0121\n",
      "Epoch 118/250\n",
      "141/141 [==============================] - 0s 3ms/step - loss: 0.0127\n",
      "Epoch 119/250\n",
      "141/141 [==============================] - 0s 3ms/step - loss: 0.0119\n",
      "Epoch 120/250\n",
      "141/141 [==============================] - 0s 3ms/step - loss: 0.0130A: 0s - loss: \n",
      "Epoch 121/250\n",
      "141/141 [==============================] - 0s 3ms/step - loss: 0.0125A: 0s - loss: 0.0\n",
      "Epoch 122/250\n",
      "141/141 [==============================] - 0s 3ms/step - loss: 0.0128\n",
      "Epoch 123/250\n",
      "141/141 [==============================] - 0s 3ms/step - loss: 0.0124\n",
      "Epoch 124/250\n",
      "141/141 [==============================] - 0s 3ms/step - loss: 0.0122\n",
      "Epoch 125/250\n",
      "141/141 [==============================] - 0s 3ms/step - loss: 0.0120\n",
      "Epoch 126/250\n",
      "141/141 [==============================] - 0s 3ms/step - loss: 0.0119\n",
      "Epoch 127/250\n",
      "141/141 [==============================] - 0s 3ms/step - loss: 0.0123\n",
      "Epoch 128/250\n",
      "141/141 [==============================] - 0s 3ms/step - loss: 0.0117\n",
      "Epoch 129/250\n",
      "141/141 [==============================] - 0s 3ms/step - loss: 0.0119\n",
      "Epoch 130/250\n",
      "141/141 [==============================] - 0s 3ms/step - loss: 0.0112\n",
      "Epoch 131/250\n",
      "141/141 [==============================] - 0s 3ms/step - loss: 0.0116\n",
      "Epoch 132/250\n",
      "141/141 [==============================] - 0s 3ms/step - loss: 0.0117\n",
      "Epoch 133/250\n",
      "141/141 [==============================] - 0s 3ms/step - loss: 0.0110\n",
      "Epoch 134/250\n",
      "141/141 [==============================] - 0s 3ms/step - loss: 0.0115\n",
      "Epoch 135/250\n",
      "141/141 [==============================] - 0s 3ms/step - loss: 0.0111\n",
      "Epoch 136/250\n",
      "141/141 [==============================] - 0s 3ms/step - loss: 0.0110A: 0s - loss: 0.0\n",
      "Epoch 137/250\n",
      "141/141 [==============================] - 0s 3ms/step - loss: 0.0111\n",
      "Epoch 138/250\n",
      "141/141 [==============================] - 0s 3ms/step - loss: 0.0108\n",
      "Epoch 139/250\n",
      "141/141 [==============================] - 0s 3ms/step - loss: 0.0106\n",
      "Epoch 140/250\n",
      "141/141 [==============================] - 0s 3ms/step - loss: 0.0102\n",
      "Epoch 141/250\n",
      "141/141 [==============================] - 1s 5ms/step - loss: 0.0141\n",
      "Epoch 142/250\n",
      "141/141 [==============================] - 1s 4ms/step - loss: 0.0119\n",
      "Epoch 143/250\n",
      "141/141 [==============================] - 1s 4ms/step - loss: 0.0111\n",
      "Epoch 144/250\n",
      "141/141 [==============================] - 1s 4ms/step - loss: 0.0107\n",
      "Epoch 145/250\n",
      "141/141 [==============================] - 1s 4ms/step - loss: 0.0109\n",
      "Epoch 146/250\n",
      "141/141 [==============================] - 1s 4ms/step - loss: 0.0098\n",
      "Epoch 147/250\n",
      "141/141 [==============================] - 0s 3ms/step - loss: 0.0091\n",
      "Epoch 148/250\n",
      "141/141 [==============================] - 0s 3ms/step - loss: 0.0094\n",
      "Epoch 149/250\n",
      "141/141 [==============================] - 0s 3ms/step - loss: 0.0089\n",
      "Epoch 150/250\n",
      "141/141 [==============================] - 0s 3ms/step - loss: 0.0088\n",
      "Epoch 151/250\n",
      "141/141 [==============================] - 0s 3ms/step - loss: 0.0090\n",
      "Epoch 152/250\n",
      "141/141 [==============================] - 1s 4ms/step - loss: 0.0090\n",
      "Epoch 153/250\n",
      "141/141 [==============================] - 1s 6ms/step - loss: 0.0086\n",
      "Epoch 154/250\n",
      "141/141 [==============================] - 0s 3ms/step - loss: 0.0087\n",
      "Epoch 155/250\n",
      "141/141 [==============================] - 0s 3ms/step - loss: 0.0091\n",
      "Epoch 156/250\n",
      "141/141 [==============================] - 0s 3ms/step - loss: 0.0092\n",
      "Epoch 157/250\n",
      "141/141 [==============================] - 0s 3ms/step - loss: 0.0097\n",
      "Epoch 158/250\n",
      "141/141 [==============================] - 0s 3ms/step - loss: 0.0091\n",
      "Epoch 159/250\n",
      "141/141 [==============================] - 0s 3ms/step - loss: 0.0085\n",
      "Epoch 160/250\n",
      "141/141 [==============================] - 0s 3ms/step - loss: 0.0083\n",
      "Epoch 161/250\n",
      "141/141 [==============================] - 0s 3ms/step - loss: 0.0087\n",
      "Epoch 162/250\n",
      "141/141 [==============================] - 0s 3ms/step - loss: 0.0091\n",
      "Epoch 163/250\n",
      "141/141 [==============================] - 0s 3ms/step - loss: 0.0093\n",
      "Epoch 164/250\n",
      "141/141 [==============================] - 0s 3ms/step - loss: 0.0082\n",
      "Epoch 165/250\n",
      "141/141 [==============================] - 0s 3ms/step - loss: 0.0081\n",
      "Epoch 166/250\n",
      "141/141 [==============================] - 0s 3ms/step - loss: 0.0079\n",
      "Epoch 167/250\n",
      "141/141 [==============================] - 0s 3ms/step - loss: 0.0082\n",
      "Epoch 168/250\n",
      "141/141 [==============================] - 0s 3ms/step - loss: 0.0081\n",
      "Epoch 169/250\n",
      "141/141 [==============================] - 0s 3ms/step - loss: 0.0084\n",
      "Epoch 170/250\n",
      "141/141 [==============================] - 0s 3ms/step - loss: 0.0086\n",
      "Epoch 171/250\n",
      "141/141 [==============================] - 1s 4ms/step - loss: 0.0081\n",
      "Epoch 172/250\n",
      "141/141 [==============================] - 1s 4ms/step - loss: 0.0078\n",
      "Epoch 173/250\n",
      "141/141 [==============================] - 1s 4ms/step - loss: 0.0077\n",
      "Epoch 174/250\n",
      "141/141 [==============================] - 0s 3ms/step - loss: 0.0080\n",
      "Epoch 175/250\n",
      "141/141 [==============================] - 0s 3ms/step - loss: 0.0083A: 0s - loss: \n",
      "Epoch 176/250\n",
      "141/141 [==============================] - 0s 3ms/step - loss: 0.0079\n",
      "Epoch 177/250\n",
      "141/141 [==============================] - 0s 3ms/step - loss: 0.0077\n",
      "Epoch 178/250\n",
      "141/141 [==============================] - 0s 3ms/step - loss: 0.0088A: 0s - loss: 0.009\n",
      "Epoch 179/250\n",
      "141/141 [==============================] - ETA: 0s - loss: 0.008 - 0s 3ms/step - loss: 0.0078\n",
      "Epoch 180/250\n",
      "141/141 [==============================] - 0s 3ms/step - loss: 0.0073\n",
      "Epoch 181/250\n",
      "141/141 [==============================] - 1s 4ms/step - loss: 0.0077\n",
      "Epoch 182/250\n",
      "141/141 [==============================] - 1s 5ms/step - loss: 0.0082\n",
      "Epoch 183/250\n",
      "141/141 [==============================] - 1s 5ms/step - loss: 0.0077\n",
      "Epoch 184/250\n",
      "141/141 [==============================] - 1s 4ms/step - loss: 0.0074\n",
      "Epoch 185/250\n",
      "141/141 [==============================] - 0s 3ms/step - loss: 0.0080\n",
      "Epoch 186/250\n",
      "141/141 [==============================] - 0s 3ms/step - loss: 0.0077A: 0s - loss: \n",
      "Epoch 187/250\n",
      "141/141 [==============================] - 0s 3ms/step - loss: 0.0074\n",
      "Epoch 188/250\n",
      "141/141 [==============================] - 0s 3ms/step - loss: 0.0073A: 0s - loss: 0.\n",
      "Epoch 189/250\n",
      "141/141 [==============================] - 0s 3ms/step - loss: 0.0079A: 0s - loss: 0.\n",
      "Epoch 190/250\n",
      "141/141 [==============================] - 0s 3ms/step - loss: 0.0075\n",
      "Epoch 191/250\n",
      "141/141 [==============================] - 0s 3ms/step - loss: 0.0078\n",
      "Epoch 192/250\n",
      "141/141 [==============================] - 0s 3ms/step - loss: 0.0078\n",
      "Epoch 193/250\n"
     ]
    },
    {
     "name": "stdout",
     "output_type": "stream",
     "text": [
      "141/141 [==============================] - 0s 3ms/step - loss: 0.0075\n",
      "Epoch 194/250\n",
      "141/141 [==============================] - 0s 3ms/step - loss: 0.0074\n",
      "Epoch 195/250\n",
      "141/141 [==============================] - 0s 3ms/step - loss: 0.0072\n",
      "Epoch 196/250\n",
      "141/141 [==============================] - 0s 3ms/step - loss: 0.0072\n",
      "Epoch 197/250\n",
      "141/141 [==============================] - 0s 3ms/step - loss: 0.0071A: 0s - loss: 0.0\n",
      "Epoch 198/250\n",
      "141/141 [==============================] - 0s 3ms/step - loss: 0.0074\n",
      "Epoch 199/250\n",
      "141/141 [==============================] - 0s 3ms/step - loss: 0.0077\n",
      "Epoch 200/250\n",
      "141/141 [==============================] - 0s 3ms/step - loss: 0.0075A: 0s - loss: 0.00\n",
      "Epoch 201/250\n",
      "141/141 [==============================] - 0s 3ms/step - loss: 0.0073\n",
      "Epoch 202/250\n",
      "141/141 [==============================] - 0s 3ms/step - loss: 0.0071A: 0s - loss: 0.00\n",
      "Epoch 203/250\n",
      "141/141 [==============================] - 0s 3ms/step - loss: 0.0078\n",
      "Epoch 204/250\n",
      "141/141 [==============================] - 0s 3ms/step - loss: 0.0070\n",
      "Epoch 205/250\n",
      "141/141 [==============================] - 0s 3ms/step - loss: 0.0072\n",
      "Epoch 206/250\n",
      "141/141 [==============================] - 0s 3ms/step - loss: 0.0069\n",
      "Epoch 207/250\n",
      "141/141 [==============================] - 0s 3ms/step - loss: 0.0070\n",
      "Epoch 208/250\n",
      "141/141 [==============================] - 0s 3ms/step - loss: 0.0067\n",
      "Epoch 209/250\n",
      "141/141 [==============================] - ETA: 0s - loss: 0.007 - 0s 3ms/step - loss: 0.0069\n",
      "Epoch 210/250\n",
      "141/141 [==============================] - 0s 3ms/step - loss: 0.0073\n",
      "Epoch 211/250\n",
      "141/141 [==============================] - 0s 3ms/step - loss: 0.0074\n",
      "Epoch 212/250\n",
      "141/141 [==============================] - 0s 3ms/step - loss: 0.0075\n",
      "Epoch 213/250\n",
      "141/141 [==============================] - 0s 3ms/step - loss: 0.0070\n",
      "Epoch 214/250\n",
      "141/141 [==============================] - 0s 3ms/step - loss: 0.0070\n",
      "Epoch 215/250\n",
      "141/141 [==============================] - 0s 3ms/step - loss: 0.0067\n",
      "Epoch 216/250\n",
      "141/141 [==============================] - 0s 3ms/step - loss: 0.0070\n",
      "Epoch 217/250\n",
      "141/141 [==============================] - 0s 3ms/step - loss: 0.0067\n",
      "Epoch 218/250\n",
      "141/141 [==============================] - 0s 3ms/step - loss: 0.0068\n",
      "Epoch 219/250\n",
      "141/141 [==============================] - 0s 3ms/step - loss: 0.0066\n",
      "Epoch 220/250\n",
      "141/141 [==============================] - 0s 3ms/step - loss: 0.0073\n",
      "Epoch 221/250\n",
      "141/141 [==============================] - 0s 3ms/step - loss: 0.0071\n",
      "Epoch 222/250\n",
      "141/141 [==============================] - 0s 3ms/step - loss: 0.0068\n",
      "Epoch 223/250\n",
      "141/141 [==============================] - 0s 3ms/step - loss: 0.0064\n",
      "Epoch 224/250\n",
      "141/141 [==============================] - 0s 3ms/step - loss: 0.0064\n",
      "Epoch 225/250\n",
      "141/141 [==============================] - 0s 3ms/step - loss: 0.0071\n",
      "Epoch 226/250\n",
      "141/141 [==============================] - 0s 3ms/step - loss: 0.0068\n",
      "Epoch 227/250\n",
      "141/141 [==============================] - 0s 3ms/step - loss: 0.0062\n",
      "Epoch 228/250\n",
      "141/141 [==============================] - 0s 3ms/step - loss: 0.0070\n",
      "Epoch 229/250\n",
      "141/141 [==============================] - 0s 3ms/step - loss: 0.0067A: 0s - loss: 0\n",
      "Epoch 230/250\n",
      "141/141 [==============================] - 0s 3ms/step - loss: 0.0061\n",
      "Epoch 231/250\n",
      "141/141 [==============================] - 0s 3ms/step - loss: 0.0066\n",
      "Epoch 232/250\n",
      "141/141 [==============================] - 0s 3ms/step - loss: 0.0065\n",
      "Epoch 233/250\n",
      "141/141 [==============================] - 0s 3ms/step - loss: 0.0063\n",
      "Epoch 234/250\n",
      "141/141 [==============================] - 0s 3ms/step - loss: 0.0069\n",
      "Epoch 235/250\n",
      "141/141 [==============================] - 0s 3ms/step - loss: 0.0066\n",
      "Epoch 236/250\n",
      "141/141 [==============================] - 0s 3ms/step - loss: 0.0061\n",
      "Epoch 237/250\n",
      "141/141 [==============================] - 0s 3ms/step - loss: 0.0062\n",
      "Epoch 238/250\n",
      "141/141 [==============================] - 0s 3ms/step - loss: 0.0064\n",
      "Epoch 239/250\n",
      "141/141 [==============================] - 0s 3ms/step - loss: 0.0061\n",
      "Epoch 240/250\n",
      "141/141 [==============================] - 0s 3ms/step - loss: 0.0060\n",
      "Epoch 241/250\n",
      "141/141 [==============================] - 0s 3ms/step - loss: 0.0063\n",
      "Epoch 242/250\n",
      "141/141 [==============================] - 0s 3ms/step - loss: 0.0060\n",
      "Epoch 243/250\n",
      "141/141 [==============================] - 0s 3ms/step - loss: 0.0062\n",
      "Epoch 244/250\n",
      "141/141 [==============================] - 0s 3ms/step - loss: 0.0062\n",
      "Epoch 245/250\n",
      "141/141 [==============================] - 0s 3ms/step - loss: 0.0061\n",
      "Epoch 246/250\n",
      "141/141 [==============================] - 0s 3ms/step - loss: 0.0061\n",
      "Epoch 247/250\n",
      "141/141 [==============================] - 0s 3ms/step - loss: 0.0058\n",
      "Epoch 248/250\n",
      "141/141 [==============================] - 0s 3ms/step - loss: 0.0059\n",
      "Epoch 249/250\n",
      "141/141 [==============================] - 0s 3ms/step - loss: 0.0059\n",
      "Epoch 250/250\n",
      "141/141 [==============================] - ETA: 0s - loss: 0.006 - 0s 3ms/step - loss: 0.0060\n"
     ]
    },
    {
     "data": {
      "text/plain": [
       "<keras.callbacks.History at 0x26328f80280>"
      ]
     },
     "execution_count": 52,
     "metadata": {},
     "output_type": "execute_result"
    }
   ],
   "source": [
    "# Fit do modelo\n",
    "model.fit(generator, epochs=250)"
   ]
  },
  {
   "cell_type": "code",
   "execution_count": null,
   "metadata": {
    "id": "jVIfHTsFqjPn"
   },
   "outputs": [],
   "source": [
    "# Considerando as previsões para as próximas 21 observações e comparar com a base de teste\n",
    "\n",
    "test_predictions = []\n",
    "\n",
    "first_eval_batch = scaled_train[-n_input:]\n",
    "current_batch = first_eval_batch.reshape((1, n_input, n_features))\n",
    "\n",
    "for i in range(len(test)):\n",
    "    # obter a previsão de tempo 1 antecipadamente ([0] é para pegar apenas o número em vez de [array])\n",
    "    current_pred = model.predict(current_batch)[0]\n",
    "    \n",
    "    # predição\n",
    "    test_predictions.append(current_pred) \n",
    "    \n",
    "    # atualize a rodada para agora incluir a previsão e descartar o primeiro valor\n",
    "    current_batch = np.append(current_batch[:,1:,:],[[current_pred]],axis=1)"
   ]
  },
  {
   "cell_type": "code",
   "execution_count": null,
   "metadata": {
    "id": "E40lKgPTqjPo",
    "outputId": "db0cb370-c0da-461c-fb24-ed2a95aa4717"
   },
   "outputs": [
    {
     "data": {
      "text/plain": [
       "[array([0.3782466], dtype=float32),\n",
       " array([0.38265842], dtype=float32),\n",
       " array([0.37322038], dtype=float32),\n",
       " array([0.11293504], dtype=float32),\n",
       " array([0.09089309], dtype=float32),\n",
       " array([0.45345584], dtype=float32),\n",
       " array([0.46304548], dtype=float32),\n",
       " array([0.42782748], dtype=float32),\n",
       " array([0.46145132], dtype=float32),\n",
       " array([0.4072778], dtype=float32),\n",
       " array([0.14901853], dtype=float32),\n",
       " array([0.10463712], dtype=float32),\n",
       " array([0.5528399], dtype=float32),\n",
       " array([0.5550343], dtype=float32),\n",
       " array([0.47290614], dtype=float32),\n",
       " array([0.49813247], dtype=float32),\n",
       " array([0.54370254], dtype=float32),\n",
       " array([0.207162], dtype=float32),\n",
       " array([0.08193004], dtype=float32),\n",
       " array([0.62791723], dtype=float32),\n",
       " array([0.6034088], dtype=float32)]"
      ]
     },
     "execution_count": 54,
     "metadata": {},
     "output_type": "execute_result"
    }
   ],
   "source": [
    "# Predições do modelo\n",
    "test_predictions"
   ]
  },
  {
   "cell_type": "code",
   "execution_count": null,
   "metadata": {
    "id": "cUNv302IqjPo"
   },
   "outputs": [],
   "source": [
    "# Revertendo a normalização\n",
    "true_predictions = scaler.inverse_transform(test_predictions)"
   ]
  },
  {
   "cell_type": "code",
   "execution_count": null,
   "metadata": {
    "id": "Xkl5d_B6qjPo",
    "outputId": "780dd4e5-0ea2-48a8-e4c2-8cb269014e8e"
   },
   "outputs": [
    {
     "data": {
      "text/plain": [
       "array([[172.10220546],\n",
       "       [174.10958201],\n",
       "       [169.81527478],\n",
       "       [ 51.38544157],\n",
       "       [ 41.35635585],\n",
       "       [206.32240519],\n",
       "       [210.68569243],\n",
       "       [194.66150224],\n",
       "       [209.96035144],\n",
       "       [185.31139567],\n",
       "       [ 67.80342937],\n",
       "       [ 47.60988787],\n",
       "       [251.54214323],\n",
       "       [252.54059732],\n",
       "       [215.17229483],\n",
       "       [226.65027261],\n",
       "       [247.38465697],\n",
       "       [ 94.25870672],\n",
       "       [ 37.2781688 ],\n",
       "       [285.70233971],\n",
       "       [274.55101013]])"
      ]
     },
     "execution_count": 56,
     "metadata": {},
     "output_type": "execute_result"
    }
   ],
   "source": [
    "# Predições do modelo para 21 dias\n",
    "true_predictions"
   ]
  },
  {
   "cell_type": "code",
   "execution_count": null,
   "metadata": {
    "id": "CWTs0U-BqjPo"
   },
   "outputs": [],
   "source": [
    "# Salvando as predições junto a base teste\n",
    "test['Predictions'] = true_predictions"
   ]
  },
  {
   "cell_type": "code",
   "execution_count": null,
   "metadata": {
    "id": "Y9Dfg2I3qjPo",
    "outputId": "73ac0595-e750-47d7-8f09-c8f5676ddb00"
   },
   "outputs": [
    {
     "data": {
      "image/png": "[encoded data removed]",
      "text/plain": [
       "<Figure size 864x576 with 1 Axes>"
      ]
     },
     "metadata": {
      "needs_background": "light"
     },
     "output_type": "display_data"
    }
   ],
   "source": [
    "# Plot da serie temporal\n",
    "test.plot(figsize=(12,8))\n",
    "\n",
    "# Cria um titulo\n",
    "plt.title('Mortes x Predições - 21 dias')\n",
    "\n",
    "# Mostra o gráfico\n",
    "plt.show()"
   ]
  },
  {
   "cell_type": "code",
   "execution_count": null,
   "metadata": {
    "id": "nSVJIgkXqjPo",
    "outputId": "383d2692-f8b1-4b29-9e49-c393606d9f7e",
    "scrolled": false
   },
   "outputs": [
    {
     "data": {
      "image/png": "[encoded data removed]",
      "text/plain": [
       "<Figure size 864x576 with 1 Axes>"
      ]
     },
     "metadata": {
      "needs_background": "light"
     },
     "output_type": "display_data"
    }
   ],
   "source": [
    "# Define o tamanho do gráfico e o plot para a base treino\n",
    "ax = train.plot(figsize=(12,8))\n",
    "\n",
    "# cria o plot\n",
    "test.plot(ax=ax)\n",
    "\n",
    "# Cria um titulo\n",
    "plt.title('Série Temporal com Predições')\n",
    "\n",
    "# Mostra o gráfico\n",
    "plt.show()"
   ]
  },
  {
   "cell_type": "markdown",
   "metadata": {},
   "source": [
    "## "
   ]
  },
  {
   "cell_type": "markdown",
   "metadata": {},
   "source": [
    "## Exercícios"
   ]
  },
  {
   "cell_type": "code",
   "execution_count": null,
   "metadata": {},
   "outputs": [],
   "source": [
    "__1)__ Replique o exercício dos casos de COVID em São Paulo para"
   ]
  },
  {
   "cell_type": "markdown",
   "metadata": {
    "id": "GB_gafVZqjPo"
   },
   "source": [
    "## "
   ]
  }
 ],
 "metadata": {
  "colab": {
   "collapsed_sections": [
    "AY3B0O_GqjPk"
   ],
   "provenance": []
  },
  "kernelspec": {
   "display_name": "Python 3 (ipykernel)",
   "language": "python",
   "name": "python3"
  },
  "language_info": {
   "codemirror_mode": {
    "name": "ipython",
    "version": 3
   },
   "file_extension": ".py",
   "mimetype": "text/x-python",
   "name": "python",
   "nbconvert_exporter": "python",
   "pygments_lexer": "ipython3",
   "version": "3.9.12"
  }
 },
 "nbformat": 4,
 "nbformat_minor": 1
}
