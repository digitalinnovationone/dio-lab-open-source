{
 "cells": [
  {
   "cell_type": "markdown",
   "id": "de6e0dee",
   "metadata": {},
   "source": [
    "# Módulo 5 - Técnicas de programação II \n",
    "\n",
    "## Aula 6 - Streamlit\n",
    "\n",
    "\n",
    "Streamlit transforma scripts de dados em aplicativos web compartilháveis, em minutos.\n",
    "\n",
    "Tudo puramente em Python - sem necessidade alguma de experiência de front-end.\n",
    "\n",
    "Página oficial: https://streamlit.io/\n",
    "\n",
    "Documentação: https://docs.streamlit.io/ \n",
    "\n",
    "Para instalar: ```!pip install streamlit```\n",
    "\n",
    "**Atenção:** É necessário ter python >= 3.7\n",
    "\n",
    "Para rodar um script: \n",
    "```python -m streamlit your_script.py``` ou ```streamlit run your_script.py```\n",
    "\n",
    "**Teste:** tente rodar ```streamlit hello``` no seu anaconda prompt ou ```python -m streamlit hello``` no seu cmd\n",
    "\n",
    "**Streamlit Cheat Sheet:** https://docs.streamlit.io/library/cheatsheet\n",
    "\n",
    "\n",
    "### Dataflow\n",
    "O Streamlit trabalha exatamente como nós escrevemos os códigos em Python: sempre que alguma coisa for atualizada, ele irá rodar novamente todo o script, de cima a baixo. Isso acontecerá sempre que:\n",
    "- O script for mudado;\n",
    "- Um usuário interagir com o dashboard (incluindo um campo texto, clicando em um botão etc).\n",
    "\n",
    "Sempre que você adicionar um callback (on_click ou on_change), ele irá rodar novamente o script, antes do resto do código. "
   ]
  },
  {
   "cell_type": "code",
   "execution_count": null,
   "id": "40af4b72",
   "metadata": {},
   "outputs": [],
   "source": []
  }
 ],
 "metadata": {
  "kernelspec": {
   "display_name": "Python 3",
   "language": "python",
   "name": "python3"
  },
  "language_info": {
   "codemirror_mode": {
    "name": "ipython",
    "version": 3
   },
   "file_extension": ".py",
   "mimetype": "text/x-python",
   "name": "python",
   "nbconvert_exporter": "python",
   "pygments_lexer": "ipython3",
   "version": "3.7.4"
  }
 },
 "nbformat": 4,
 "nbformat_minor": 5
}
