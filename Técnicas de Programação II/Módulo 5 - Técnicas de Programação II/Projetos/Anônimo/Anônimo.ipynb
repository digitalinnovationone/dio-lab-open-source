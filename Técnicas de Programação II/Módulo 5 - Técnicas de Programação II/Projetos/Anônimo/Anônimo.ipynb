{
 "cells": [
  {
   "cell_type": "markdown",
   "id": "a4dbfc68",
   "metadata": {
    "id": "a4dbfc68"
   },
   "source": [
    "# Módulo 5 - Técnicas de Programação II | Python\n",
    "\n",
    "## Projeto Final - História das Olimpíadas"
   ]
  },
  {
   "cell_type": "markdown",
   "id": "65064ba3",
   "metadata": {
    "id": "65064ba3"
   },
   "source": [
    "Este projeto consiste em uma análise de dados históricos dos jogos olímpicos.\n",
    "\n",
    "Utilize qualquer uma das bibliotecas estudadas (```matplotlib```, ```seaborn``` e ```plotly```) para realizar as atividades propostas. Não há problema em usar apenas uma para realizar todas as atividades, nem em utilizar cada uma delas em uma atividade diferente - siga suas preferências pessoais!\n",
    "\n",
    "Utilize os (muitos) parâmetros permitidos por cada função e/ou atributos dos objetos fornecidos pelas bibliotecas para criar uma identidade visual coesa para ser utilizada em todo o projeto. Use títulos, legendas e rótulos nos eixos para deixar os gráficos verdadeiramente informativos. E não se esqueça que a simples escolha das cores a serem utilizadas pode tornar os gráficos ainda mais interessantes!"
   ]
  },
  {
   "cell_type": "markdown",
   "id": "18fbd6d8",
   "metadata": {
    "id": "18fbd6d8"
   },
   "source": [
    "## Metadados:\n",
    "\n",
    "O arquivo ```athlete_events.csv``` contém 271116 linhas e 15 colunas. Cada linha corresponde a um indivíduo (atleta) que competiu em um evento olímpico individual. Veja a descrição das 15 colunas, a seguir:\n",
    "\n",
    "- **ID:** Valor único para cada atleta\n",
    "- **Name:** Nome do atleta\n",
    "- **Sex:** Gênero do atleta (M para masculino e F para feminino)\n",
    "- **Age:** Idade do atleta no momento da competição\n",
    "- **Height:** Altura do atleta, em centímetros\n",
    "- **Weight:** Peso do atleta, em kg\n",
    "- **Team:** Nome do time\n",
    "- **NOC:** National Olympic Committee (código de 3 letras)\n",
    "- **Games:** Ano e temporada dos jogos\n",
    "- **Year:** Ano dos jogos\n",
    "- **Season:** Temporada dos jogos (summer para verão e winter para inverno)\n",
    "- **City:** Cidade em que ocorreu os jogos\n",
    "- **Sport:** Esporte praticado pelo atleta\n",
    "- **Event:** Categoria/modalidade da competição\n",
    "- **Medal:** Medalha adquirida: Gold (ouro), Silver (prata), Bronze ou NA"
   ]
  },
  {
   "cell_type": "code",
   "execution_count": 76,
   "id": "14730a4a",
   "metadata": {
    "id": "14730a4a"
   },
   "outputs": [],
   "source": [
    "import plotly.express as px\n",
    "import pandas as pd\n",
    "import numpy as np\n",
    "import matplotlib.pyplot as plt\n",
    "\n",
    "df = pd.read_csv('./data/athlete_events.csv')"
   ]
  },
  {
   "cell_type": "code",
   "execution_count": 77,
   "id": "25a78f6e",
   "metadata": {
    "scrolled": false
   },
   "outputs": [
    {
     "data": {
      "text/html": [
       "<div>\n",
       "<style scoped>\n",
       "    .dataframe tbody tr th:only-of-type {\n",
       "        vertical-align: middle;\n",
       "    }\n",
       "\n",
       "    .dataframe tbody tr th {\n",
       "        vertical-align: top;\n",
       "    }\n",
       "\n",
       "    .dataframe thead th {\n",
       "        text-align: right;\n",
       "    }\n",
       "</style>\n",
       "<table border=\"1\" class=\"dataframe\">\n",
       "  <thead>\n",
       "    <tr style=\"text-align: right;\">\n",
       "      <th></th>\n",
       "      <th>ID</th>\n",
       "      <th>Name</th>\n",
       "      <th>Sex</th>\n",
       "      <th>Age</th>\n",
       "      <th>Height</th>\n",
       "      <th>Weight</th>\n",
       "      <th>Team</th>\n",
       "      <th>NOC</th>\n",
       "      <th>Games</th>\n",
       "      <th>Year</th>\n",
       "      <th>Season</th>\n",
       "      <th>City</th>\n",
       "      <th>Sport</th>\n",
       "      <th>Event</th>\n",
       "      <th>Medal</th>\n",
       "    </tr>\n",
       "  </thead>\n",
       "  <tbody>\n",
       "    <tr>\n",
       "      <th>0</th>\n",
       "      <td>1</td>\n",
       "      <td>A Dijiang</td>\n",
       "      <td>M</td>\n",
       "      <td>24.0</td>\n",
       "      <td>180.0</td>\n",
       "      <td>80.0</td>\n",
       "      <td>China</td>\n",
       "      <td>CHN</td>\n",
       "      <td>1992 Summer</td>\n",
       "      <td>1992</td>\n",
       "      <td>Summer</td>\n",
       "      <td>Barcelona</td>\n",
       "      <td>Basketball</td>\n",
       "      <td>Basketball Men's Basketball</td>\n",
       "      <td>NaN</td>\n",
       "    </tr>\n",
       "    <tr>\n",
       "      <th>1</th>\n",
       "      <td>2</td>\n",
       "      <td>A Lamusi</td>\n",
       "      <td>M</td>\n",
       "      <td>23.0</td>\n",
       "      <td>170.0</td>\n",
       "      <td>60.0</td>\n",
       "      <td>China</td>\n",
       "      <td>CHN</td>\n",
       "      <td>2012 Summer</td>\n",
       "      <td>2012</td>\n",
       "      <td>Summer</td>\n",
       "      <td>London</td>\n",
       "      <td>Judo</td>\n",
       "      <td>Judo Men's Extra-Lightweight</td>\n",
       "      <td>NaN</td>\n",
       "    </tr>\n",
       "    <tr>\n",
       "      <th>2</th>\n",
       "      <td>3</td>\n",
       "      <td>Gunnar Nielsen Aaby</td>\n",
       "      <td>M</td>\n",
       "      <td>24.0</td>\n",
       "      <td>NaN</td>\n",
       "      <td>NaN</td>\n",
       "      <td>Denmark</td>\n",
       "      <td>DEN</td>\n",
       "      <td>1920 Summer</td>\n",
       "      <td>1920</td>\n",
       "      <td>Summer</td>\n",
       "      <td>Antwerpen</td>\n",
       "      <td>Football</td>\n",
       "      <td>Football Men's Football</td>\n",
       "      <td>NaN</td>\n",
       "    </tr>\n",
       "    <tr>\n",
       "      <th>3</th>\n",
       "      <td>4</td>\n",
       "      <td>Edgar Lindenau Aabye</td>\n",
       "      <td>M</td>\n",
       "      <td>34.0</td>\n",
       "      <td>NaN</td>\n",
       "      <td>NaN</td>\n",
       "      <td>Denmark/Sweden</td>\n",
       "      <td>DEN</td>\n",
       "      <td>1900 Summer</td>\n",
       "      <td>1900</td>\n",
       "      <td>Summer</td>\n",
       "      <td>Paris</td>\n",
       "      <td>Tug-Of-War</td>\n",
       "      <td>Tug-Of-War Men's Tug-Of-War</td>\n",
       "      <td>Gold</td>\n",
       "    </tr>\n",
       "    <tr>\n",
       "      <th>4</th>\n",
       "      <td>5</td>\n",
       "      <td>Christine Jacoba Aaftink</td>\n",
       "      <td>F</td>\n",
       "      <td>21.0</td>\n",
       "      <td>185.0</td>\n",
       "      <td>82.0</td>\n",
       "      <td>Netherlands</td>\n",
       "      <td>NED</td>\n",
       "      <td>1988 Winter</td>\n",
       "      <td>1988</td>\n",
       "      <td>Winter</td>\n",
       "      <td>Calgary</td>\n",
       "      <td>Speed Skating</td>\n",
       "      <td>Speed Skating Women's 500 metres</td>\n",
       "      <td>NaN</td>\n",
       "    </tr>\n",
       "    <tr>\n",
       "      <th>...</th>\n",
       "      <td>...</td>\n",
       "      <td>...</td>\n",
       "      <td>...</td>\n",
       "      <td>...</td>\n",
       "      <td>...</td>\n",
       "      <td>...</td>\n",
       "      <td>...</td>\n",
       "      <td>...</td>\n",
       "      <td>...</td>\n",
       "      <td>...</td>\n",
       "      <td>...</td>\n",
       "      <td>...</td>\n",
       "      <td>...</td>\n",
       "      <td>...</td>\n",
       "      <td>...</td>\n",
       "    </tr>\n",
       "    <tr>\n",
       "      <th>271111</th>\n",
       "      <td>135569</td>\n",
       "      <td>Andrzej ya</td>\n",
       "      <td>M</td>\n",
       "      <td>29.0</td>\n",
       "      <td>179.0</td>\n",
       "      <td>89.0</td>\n",
       "      <td>Poland-1</td>\n",
       "      <td>POL</td>\n",
       "      <td>1976 Winter</td>\n",
       "      <td>1976</td>\n",
       "      <td>Winter</td>\n",
       "      <td>Innsbruck</td>\n",
       "      <td>Luge</td>\n",
       "      <td>Luge Mixed (Men)'s Doubles</td>\n",
       "      <td>NaN</td>\n",
       "    </tr>\n",
       "    <tr>\n",
       "      <th>271112</th>\n",
       "      <td>135570</td>\n",
       "      <td>Piotr ya</td>\n",
       "      <td>M</td>\n",
       "      <td>27.0</td>\n",
       "      <td>176.0</td>\n",
       "      <td>59.0</td>\n",
       "      <td>Poland</td>\n",
       "      <td>POL</td>\n",
       "      <td>2014 Winter</td>\n",
       "      <td>2014</td>\n",
       "      <td>Winter</td>\n",
       "      <td>Sochi</td>\n",
       "      <td>Ski Jumping</td>\n",
       "      <td>Ski Jumping Men's Large Hill, Individual</td>\n",
       "      <td>NaN</td>\n",
       "    </tr>\n",
       "    <tr>\n",
       "      <th>271113</th>\n",
       "      <td>135570</td>\n",
       "      <td>Piotr ya</td>\n",
       "      <td>M</td>\n",
       "      <td>27.0</td>\n",
       "      <td>176.0</td>\n",
       "      <td>59.0</td>\n",
       "      <td>Poland</td>\n",
       "      <td>POL</td>\n",
       "      <td>2014 Winter</td>\n",
       "      <td>2014</td>\n",
       "      <td>Winter</td>\n",
       "      <td>Sochi</td>\n",
       "      <td>Ski Jumping</td>\n",
       "      <td>Ski Jumping Men's Large Hill, Team</td>\n",
       "      <td>NaN</td>\n",
       "    </tr>\n",
       "    <tr>\n",
       "      <th>271114</th>\n",
       "      <td>135571</td>\n",
       "      <td>Tomasz Ireneusz ya</td>\n",
       "      <td>M</td>\n",
       "      <td>30.0</td>\n",
       "      <td>185.0</td>\n",
       "      <td>96.0</td>\n",
       "      <td>Poland</td>\n",
       "      <td>POL</td>\n",
       "      <td>1998 Winter</td>\n",
       "      <td>1998</td>\n",
       "      <td>Winter</td>\n",
       "      <td>Nagano</td>\n",
       "      <td>Bobsleigh</td>\n",
       "      <td>Bobsleigh Men's Four</td>\n",
       "      <td>NaN</td>\n",
       "    </tr>\n",
       "    <tr>\n",
       "      <th>271115</th>\n",
       "      <td>135571</td>\n",
       "      <td>Tomasz Ireneusz ya</td>\n",
       "      <td>M</td>\n",
       "      <td>34.0</td>\n",
       "      <td>185.0</td>\n",
       "      <td>96.0</td>\n",
       "      <td>Poland</td>\n",
       "      <td>POL</td>\n",
       "      <td>2002 Winter</td>\n",
       "      <td>2002</td>\n",
       "      <td>Winter</td>\n",
       "      <td>Salt Lake City</td>\n",
       "      <td>Bobsleigh</td>\n",
       "      <td>Bobsleigh Men's Four</td>\n",
       "      <td>NaN</td>\n",
       "    </tr>\n",
       "  </tbody>\n",
       "</table>\n",
       "<p>271116 rows × 15 columns</p>\n",
       "</div>"
      ],
      "text/plain": [
       "            ID                      Name Sex   Age  Height  Weight  \\\n",
       "0            1                 A Dijiang   M  24.0   180.0    80.0   \n",
       "1            2                  A Lamusi   M  23.0   170.0    60.0   \n",
       "2            3       Gunnar Nielsen Aaby   M  24.0     NaN     NaN   \n",
       "3            4      Edgar Lindenau Aabye   M  34.0     NaN     NaN   \n",
       "4            5  Christine Jacoba Aaftink   F  21.0   185.0    82.0   \n",
       "...        ...                       ...  ..   ...     ...     ...   \n",
       "271111  135569                Andrzej ya   M  29.0   179.0    89.0   \n",
       "271112  135570                  Piotr ya   M  27.0   176.0    59.0   \n",
       "271113  135570                  Piotr ya   M  27.0   176.0    59.0   \n",
       "271114  135571        Tomasz Ireneusz ya   M  30.0   185.0    96.0   \n",
       "271115  135571        Tomasz Ireneusz ya   M  34.0   185.0    96.0   \n",
       "\n",
       "                  Team  NOC        Games  Year  Season            City  \\\n",
       "0                China  CHN  1992 Summer  1992  Summer       Barcelona   \n",
       "1                China  CHN  2012 Summer  2012  Summer          London   \n",
       "2              Denmark  DEN  1920 Summer  1920  Summer       Antwerpen   \n",
       "3       Denmark/Sweden  DEN  1900 Summer  1900  Summer           Paris   \n",
       "4          Netherlands  NED  1988 Winter  1988  Winter         Calgary   \n",
       "...                ...  ...          ...   ...     ...             ...   \n",
       "271111        Poland-1  POL  1976 Winter  1976  Winter       Innsbruck   \n",
       "271112          Poland  POL  2014 Winter  2014  Winter           Sochi   \n",
       "271113          Poland  POL  2014 Winter  2014  Winter           Sochi   \n",
       "271114          Poland  POL  1998 Winter  1998  Winter          Nagano   \n",
       "271115          Poland  POL  2002 Winter  2002  Winter  Salt Lake City   \n",
       "\n",
       "                Sport                                     Event Medal  \n",
       "0          Basketball               Basketball Men's Basketball   NaN  \n",
       "1                Judo              Judo Men's Extra-Lightweight   NaN  \n",
       "2            Football                   Football Men's Football   NaN  \n",
       "3          Tug-Of-War               Tug-Of-War Men's Tug-Of-War  Gold  \n",
       "4       Speed Skating          Speed Skating Women's 500 metres   NaN  \n",
       "...               ...                                       ...   ...  \n",
       "271111           Luge                Luge Mixed (Men)'s Doubles   NaN  \n",
       "271112    Ski Jumping  Ski Jumping Men's Large Hill, Individual   NaN  \n",
       "271113    Ski Jumping        Ski Jumping Men's Large Hill, Team   NaN  \n",
       "271114      Bobsleigh                      Bobsleigh Men's Four   NaN  \n",
       "271115      Bobsleigh                      Bobsleigh Men's Four   NaN  \n",
       "\n",
       "[271116 rows x 15 columns]"
      ]
     },
     "execution_count": 77,
     "metadata": {},
     "output_type": "execute_result"
    }
   ],
   "source": [
    "df"
   ]
  },
  {
   "cell_type": "code",
   "execution_count": 78,
   "id": "aa7652a1",
   "metadata": {
    "scrolled": true
   },
   "outputs": [
    {
     "data": {
      "text/plain": [
       "(271116, 15)"
      ]
     },
     "execution_count": 78,
     "metadata": {},
     "output_type": "execute_result"
    }
   ],
   "source": [
    "df.shape"
   ]
  },
  {
   "cell_type": "markdown",
   "id": "4d9822e8",
   "metadata": {
    "id": "4d9822e8"
   },
   "source": [
    "## O Brasil nas olímpiadas\n",
    "\n",
    "**1.** Crie um DataFrame contendo apenas informações sobre atletas **brasileiros**. Exiba a quantidade de linhas desse novo DataFrame."
   ]
  },
  {
   "cell_type": "code",
   "execution_count": 79,
   "id": "96beccb7",
   "metadata": {
    "id": "96beccb7"
   },
   "outputs": [],
   "source": [
    "df_bra = df[df[\"Team\"] == \"Brazil\"].reset_index(drop=True)"
   ]
  },
  {
   "cell_type": "code",
   "execution_count": 80,
   "id": "ffa289ef",
   "metadata": {
    "scrolled": false
   },
   "outputs": [
    {
     "data": {
      "text/html": [
       "<div>\n",
       "<style scoped>\n",
       "    .dataframe tbody tr th:only-of-type {\n",
       "        vertical-align: middle;\n",
       "    }\n",
       "\n",
       "    .dataframe tbody tr th {\n",
       "        vertical-align: top;\n",
       "    }\n",
       "\n",
       "    .dataframe thead th {\n",
       "        text-align: right;\n",
       "    }\n",
       "</style>\n",
       "<table border=\"1\" class=\"dataframe\">\n",
       "  <thead>\n",
       "    <tr style=\"text-align: right;\">\n",
       "      <th></th>\n",
       "      <th>ID</th>\n",
       "      <th>Name</th>\n",
       "      <th>Sex</th>\n",
       "      <th>Age</th>\n",
       "      <th>Height</th>\n",
       "      <th>Weight</th>\n",
       "      <th>Team</th>\n",
       "      <th>NOC</th>\n",
       "      <th>Games</th>\n",
       "      <th>Year</th>\n",
       "      <th>Season</th>\n",
       "      <th>City</th>\n",
       "      <th>Sport</th>\n",
       "      <th>Event</th>\n",
       "      <th>Medal</th>\n",
       "    </tr>\n",
       "  </thead>\n",
       "  <tbody>\n",
       "    <tr>\n",
       "      <th>0</th>\n",
       "      <td>386</td>\n",
       "      <td>Alexandre Abeid</td>\n",
       "      <td>M</td>\n",
       "      <td>22.0</td>\n",
       "      <td>194.0</td>\n",
       "      <td>92.0</td>\n",
       "      <td>Brazil</td>\n",
       "      <td>BRA</td>\n",
       "      <td>1972 Summer</td>\n",
       "      <td>1972</td>\n",
       "      <td>Summer</td>\n",
       "      <td>Munich</td>\n",
       "      <td>Volleyball</td>\n",
       "      <td>Volleyball Men's Volleyball</td>\n",
       "      <td>NaN</td>\n",
       "    </tr>\n",
       "    <tr>\n",
       "      <th>1</th>\n",
       "      <td>386</td>\n",
       "      <td>Alexandre Abeid</td>\n",
       "      <td>M</td>\n",
       "      <td>26.0</td>\n",
       "      <td>194.0</td>\n",
       "      <td>92.0</td>\n",
       "      <td>Brazil</td>\n",
       "      <td>BRA</td>\n",
       "      <td>1976 Summer</td>\n",
       "      <td>1976</td>\n",
       "      <td>Summer</td>\n",
       "      <td>Montreal</td>\n",
       "      <td>Volleyball</td>\n",
       "      <td>Volleyball Men's Volleyball</td>\n",
       "      <td>NaN</td>\n",
       "    </tr>\n",
       "    <tr>\n",
       "      <th>2</th>\n",
       "      <td>388</td>\n",
       "      <td>Abel Carlos da Silva Braga</td>\n",
       "      <td>M</td>\n",
       "      <td>19.0</td>\n",
       "      <td>190.0</td>\n",
       "      <td>73.0</td>\n",
       "      <td>Brazil</td>\n",
       "      <td>BRA</td>\n",
       "      <td>1972 Summer</td>\n",
       "      <td>1972</td>\n",
       "      <td>Summer</td>\n",
       "      <td>Munich</td>\n",
       "      <td>Football</td>\n",
       "      <td>Football Men's Football</td>\n",
       "      <td>NaN</td>\n",
       "    </tr>\n",
       "    <tr>\n",
       "      <th>3</th>\n",
       "      <td>451</td>\n",
       "      <td>Diana Monteiro Abla</td>\n",
       "      <td>F</td>\n",
       "      <td>21.0</td>\n",
       "      <td>175.0</td>\n",
       "      <td>75.0</td>\n",
       "      <td>Brazil</td>\n",
       "      <td>BRA</td>\n",
       "      <td>2016 Summer</td>\n",
       "      <td>2016</td>\n",
       "      <td>Summer</td>\n",
       "      <td>Rio de Janeiro</td>\n",
       "      <td>Water Polo</td>\n",
       "      <td>Water Polo Women's Water Polo</td>\n",
       "      <td>NaN</td>\n",
       "    </tr>\n",
       "    <tr>\n",
       "      <th>4</th>\n",
       "      <td>565</td>\n",
       "      <td>Glauclio Serro Abreu</td>\n",
       "      <td>M</td>\n",
       "      <td>26.0</td>\n",
       "      <td>185.0</td>\n",
       "      <td>75.0</td>\n",
       "      <td>Brazil</td>\n",
       "      <td>BRA</td>\n",
       "      <td>2004 Summer</td>\n",
       "      <td>2004</td>\n",
       "      <td>Summer</td>\n",
       "      <td>Athina</td>\n",
       "      <td>Boxing</td>\n",
       "      <td>Boxing Men's Middleweight</td>\n",
       "      <td>NaN</td>\n",
       "    </tr>\n",
       "    <tr>\n",
       "      <th>...</th>\n",
       "      <td>...</td>\n",
       "      <td>...</td>\n",
       "      <td>...</td>\n",
       "      <td>...</td>\n",
       "      <td>...</td>\n",
       "      <td>...</td>\n",
       "      <td>...</td>\n",
       "      <td>...</td>\n",
       "      <td>...</td>\n",
       "      <td>...</td>\n",
       "      <td>...</td>\n",
       "      <td>...</td>\n",
       "      <td>...</td>\n",
       "      <td>...</td>\n",
       "      <td>...</td>\n",
       "    </tr>\n",
       "    <tr>\n",
       "      <th>3767</th>\n",
       "      <td>134400</td>\n",
       "      <td>Maria Jos \"Zz\" Bertolotti</td>\n",
       "      <td>F</td>\n",
       "      <td>26.0</td>\n",
       "      <td>190.0</td>\n",
       "      <td>NaN</td>\n",
       "      <td>Brazil</td>\n",
       "      <td>BRA</td>\n",
       "      <td>1992 Summer</td>\n",
       "      <td>1992</td>\n",
       "      <td>Summer</td>\n",
       "      <td>Barcelona</td>\n",
       "      <td>Basketball</td>\n",
       "      <td>Basketball Women's Basketball</td>\n",
       "      <td>NaN</td>\n",
       "    </tr>\n",
       "    <tr>\n",
       "      <th>3768</th>\n",
       "      <td>134976</td>\n",
       "      <td>Sieglinda Lenk Zigler</td>\n",
       "      <td>F</td>\n",
       "      <td>17.0</td>\n",
       "      <td>NaN</td>\n",
       "      <td>NaN</td>\n",
       "      <td>Brazil</td>\n",
       "      <td>BRA</td>\n",
       "      <td>1936 Summer</td>\n",
       "      <td>1936</td>\n",
       "      <td>Summer</td>\n",
       "      <td>Berlin</td>\n",
       "      <td>Swimming</td>\n",
       "      <td>Swimming Women's 100 metres Backstroke</td>\n",
       "      <td>NaN</td>\n",
       "    </tr>\n",
       "    <tr>\n",
       "      <th>3769</th>\n",
       "      <td>135037</td>\n",
       "      <td>Moacir Zimmermann</td>\n",
       "      <td>M</td>\n",
       "      <td>32.0</td>\n",
       "      <td>184.0</td>\n",
       "      <td>70.0</td>\n",
       "      <td>Brazil</td>\n",
       "      <td>BRA</td>\n",
       "      <td>2016 Summer</td>\n",
       "      <td>2016</td>\n",
       "      <td>Summer</td>\n",
       "      <td>Rio de Janeiro</td>\n",
       "      <td>Athletics</td>\n",
       "      <td>Athletics Men's 20 kilometres Walk</td>\n",
       "      <td>NaN</td>\n",
       "    </tr>\n",
       "    <tr>\n",
       "      <th>3770</th>\n",
       "      <td>135289</td>\n",
       "      <td>Zzimo Alves Calazans</td>\n",
       "      <td>M</td>\n",
       "      <td>20.0</td>\n",
       "      <td>NaN</td>\n",
       "      <td>NaN</td>\n",
       "      <td>Brazil</td>\n",
       "      <td>BRA</td>\n",
       "      <td>1952 Summer</td>\n",
       "      <td>1952</td>\n",
       "      <td>Summer</td>\n",
       "      <td>Helsinki</td>\n",
       "      <td>Football</td>\n",
       "      <td>Football Men's Football</td>\n",
       "      <td>NaN</td>\n",
       "    </tr>\n",
       "    <tr>\n",
       "      <th>3771</th>\n",
       "      <td>135423</td>\n",
       "      <td>Ral Benedito Zumbano</td>\n",
       "      <td>M</td>\n",
       "      <td>22.0</td>\n",
       "      <td>NaN</td>\n",
       "      <td>NaN</td>\n",
       "      <td>Brazil</td>\n",
       "      <td>BRA</td>\n",
       "      <td>1948 Summer</td>\n",
       "      <td>1948</td>\n",
       "      <td>Summer</td>\n",
       "      <td>London</td>\n",
       "      <td>Boxing</td>\n",
       "      <td>Boxing Men's Lightweight</td>\n",
       "      <td>NaN</td>\n",
       "    </tr>\n",
       "  </tbody>\n",
       "</table>\n",
       "<p>3772 rows × 15 columns</p>\n",
       "</div>"
      ],
      "text/plain": [
       "          ID                        Name Sex   Age  Height  Weight    Team  \\\n",
       "0        386             Alexandre Abeid   M  22.0   194.0    92.0  Brazil   \n",
       "1        386             Alexandre Abeid   M  26.0   194.0    92.0  Brazil   \n",
       "2        388  Abel Carlos da Silva Braga   M  19.0   190.0    73.0  Brazil   \n",
       "3        451         Diana Monteiro Abla   F  21.0   175.0    75.0  Brazil   \n",
       "4        565        Glauclio Serro Abreu   M  26.0   185.0    75.0  Brazil   \n",
       "...      ...                         ...  ..   ...     ...     ...     ...   \n",
       "3767  134400   Maria Jos \"Zz\" Bertolotti   F  26.0   190.0     NaN  Brazil   \n",
       "3768  134976       Sieglinda Lenk Zigler   F  17.0     NaN     NaN  Brazil   \n",
       "3769  135037           Moacir Zimmermann   M  32.0   184.0    70.0  Brazil   \n",
       "3770  135289        Zzimo Alves Calazans   M  20.0     NaN     NaN  Brazil   \n",
       "3771  135423        Ral Benedito Zumbano   M  22.0     NaN     NaN  Brazil   \n",
       "\n",
       "      NOC        Games  Year  Season            City       Sport  \\\n",
       "0     BRA  1972 Summer  1972  Summer          Munich  Volleyball   \n",
       "1     BRA  1976 Summer  1976  Summer        Montreal  Volleyball   \n",
       "2     BRA  1972 Summer  1972  Summer          Munich    Football   \n",
       "3     BRA  2016 Summer  2016  Summer  Rio de Janeiro  Water Polo   \n",
       "4     BRA  2004 Summer  2004  Summer          Athina      Boxing   \n",
       "...   ...          ...   ...     ...             ...         ...   \n",
       "3767  BRA  1992 Summer  1992  Summer       Barcelona  Basketball   \n",
       "3768  BRA  1936 Summer  1936  Summer          Berlin    Swimming   \n",
       "3769  BRA  2016 Summer  2016  Summer  Rio de Janeiro   Athletics   \n",
       "3770  BRA  1952 Summer  1952  Summer        Helsinki    Football   \n",
       "3771  BRA  1948 Summer  1948  Summer          London      Boxing   \n",
       "\n",
       "                                       Event Medal  \n",
       "0                Volleyball Men's Volleyball   NaN  \n",
       "1                Volleyball Men's Volleyball   NaN  \n",
       "2                    Football Men's Football   NaN  \n",
       "3              Water Polo Women's Water Polo   NaN  \n",
       "4                  Boxing Men's Middleweight   NaN  \n",
       "...                                      ...   ...  \n",
       "3767           Basketball Women's Basketball   NaN  \n",
       "3768  Swimming Women's 100 metres Backstroke   NaN  \n",
       "3769      Athletics Men's 20 kilometres Walk   NaN  \n",
       "3770                 Football Men's Football   NaN  \n",
       "3771                Boxing Men's Lightweight   NaN  \n",
       "\n",
       "[3772 rows x 15 columns]"
      ]
     },
     "execution_count": 80,
     "metadata": {},
     "output_type": "execute_result"
    }
   ],
   "source": [
    "df_bra"
   ]
  },
  {
   "cell_type": "code",
   "execution_count": 81,
   "id": "02d96b41",
   "metadata": {
    "scrolled": true
   },
   "outputs": [
    {
     "data": {
      "text/plain": [
       "449"
      ]
     },
     "execution_count": 81,
     "metadata": {},
     "output_type": "execute_result"
    }
   ],
   "source": [
    "df_bra2 = df_bra.groupby([\"Medal\"]).size().sum()\n",
    "df_bra2"
   ]
  },
  {
   "cell_type": "markdown",
   "id": "4565dbe2",
   "metadata": {
    "id": "4565dbe2"
   },
   "source": [
    "**2. Será que existe alguma correlação entre a altura do atleta e seu desempenho, para algum esporte? Faça essa análise separadamente para cada gênero, e conclua.**\n",
    "\n",
    "Gere um ou mais gráficos de sua escolha, em que seja possível comparar as alturas dos atletas de cada esporte, separando-os por gênero. Se necessário, crie colunas ou DataFrames auxiliares.\n",
    "\n",
    "**Facilitador:** se quiser, analise apenas os esportes em que se tenha ao menos 5 atletas medalhistas e 5 atletas não medalhistas, para facilitar visualizações e conclusões."
   ]
  },
  {
   "cell_type": "code",
   "execution_count": 82,
   "id": "dd742543",
   "metadata": {},
   "outputs": [
    {
     "data": {
      "text/plain": [
       "3323"
      ]
     },
     "execution_count": 82,
     "metadata": {},
     "output_type": "execute_result"
    }
   ],
   "source": [
    "df_bra[\"Medal\"].isnull().sum()"
   ]
  },
  {
   "cell_type": "code",
   "execution_count": 83,
   "id": "8a477237",
   "metadata": {
    "scrolled": true
   },
   "outputs": [],
   "source": [
    "df_bra[\"Medal2\"] = df_bra[\"Medal\"].map({\"Silver\" : 1, \"Gold\" : 1, \"Bronze\" : 1}).fillna(0)#.value_counts()"
   ]
  },
  {
   "cell_type": "code",
   "execution_count": 84,
   "id": "44039bc2",
   "metadata": {},
   "outputs": [],
   "source": [
    "df_bra[\"Medal\"] = df_bra[\"Medal\"].fillna(\"Sem medalha\")"
   ]
  },
  {
   "cell_type": "code",
   "execution_count": 85,
   "id": "9bc1eb3f",
   "metadata": {},
   "outputs": [
    {
     "data": {
      "text/html": [
       "<div>\n",
       "<style scoped>\n",
       "    .dataframe tbody tr th:only-of-type {\n",
       "        vertical-align: middle;\n",
       "    }\n",
       "\n",
       "    .dataframe tbody tr th {\n",
       "        vertical-align: top;\n",
       "    }\n",
       "\n",
       "    .dataframe thead th {\n",
       "        text-align: right;\n",
       "    }\n",
       "</style>\n",
       "<table border=\"1\" class=\"dataframe\">\n",
       "  <thead>\n",
       "    <tr style=\"text-align: right;\">\n",
       "      <th></th>\n",
       "      <th>ID</th>\n",
       "      <th>Name</th>\n",
       "      <th>Sex</th>\n",
       "      <th>Age</th>\n",
       "      <th>Height</th>\n",
       "      <th>Weight</th>\n",
       "      <th>Team</th>\n",
       "      <th>NOC</th>\n",
       "      <th>Games</th>\n",
       "      <th>Year</th>\n",
       "      <th>Season</th>\n",
       "      <th>City</th>\n",
       "      <th>Sport</th>\n",
       "      <th>Event</th>\n",
       "      <th>Medal</th>\n",
       "      <th>Medal2</th>\n",
       "    </tr>\n",
       "  </thead>\n",
       "  <tbody>\n",
       "    <tr>\n",
       "      <th>0</th>\n",
       "      <td>386</td>\n",
       "      <td>Alexandre Abeid</td>\n",
       "      <td>M</td>\n",
       "      <td>22.0</td>\n",
       "      <td>194.0</td>\n",
       "      <td>92.0</td>\n",
       "      <td>Brazil</td>\n",
       "      <td>BRA</td>\n",
       "      <td>1972 Summer</td>\n",
       "      <td>1972</td>\n",
       "      <td>Summer</td>\n",
       "      <td>Munich</td>\n",
       "      <td>Volleyball</td>\n",
       "      <td>Volleyball Men's Volleyball</td>\n",
       "      <td>Sem medalha</td>\n",
       "      <td>0.0</td>\n",
       "    </tr>\n",
       "    <tr>\n",
       "      <th>1</th>\n",
       "      <td>386</td>\n",
       "      <td>Alexandre Abeid</td>\n",
       "      <td>M</td>\n",
       "      <td>26.0</td>\n",
       "      <td>194.0</td>\n",
       "      <td>92.0</td>\n",
       "      <td>Brazil</td>\n",
       "      <td>BRA</td>\n",
       "      <td>1976 Summer</td>\n",
       "      <td>1976</td>\n",
       "      <td>Summer</td>\n",
       "      <td>Montreal</td>\n",
       "      <td>Volleyball</td>\n",
       "      <td>Volleyball Men's Volleyball</td>\n",
       "      <td>Sem medalha</td>\n",
       "      <td>0.0</td>\n",
       "    </tr>\n",
       "    <tr>\n",
       "      <th>2</th>\n",
       "      <td>388</td>\n",
       "      <td>Abel Carlos da Silva Braga</td>\n",
       "      <td>M</td>\n",
       "      <td>19.0</td>\n",
       "      <td>190.0</td>\n",
       "      <td>73.0</td>\n",
       "      <td>Brazil</td>\n",
       "      <td>BRA</td>\n",
       "      <td>1972 Summer</td>\n",
       "      <td>1972</td>\n",
       "      <td>Summer</td>\n",
       "      <td>Munich</td>\n",
       "      <td>Football</td>\n",
       "      <td>Football Men's Football</td>\n",
       "      <td>Sem medalha</td>\n",
       "      <td>0.0</td>\n",
       "    </tr>\n",
       "    <tr>\n",
       "      <th>3</th>\n",
       "      <td>451</td>\n",
       "      <td>Diana Monteiro Abla</td>\n",
       "      <td>F</td>\n",
       "      <td>21.0</td>\n",
       "      <td>175.0</td>\n",
       "      <td>75.0</td>\n",
       "      <td>Brazil</td>\n",
       "      <td>BRA</td>\n",
       "      <td>2016 Summer</td>\n",
       "      <td>2016</td>\n",
       "      <td>Summer</td>\n",
       "      <td>Rio de Janeiro</td>\n",
       "      <td>Water Polo</td>\n",
       "      <td>Water Polo Women's Water Polo</td>\n",
       "      <td>Sem medalha</td>\n",
       "      <td>0.0</td>\n",
       "    </tr>\n",
       "    <tr>\n",
       "      <th>4</th>\n",
       "      <td>565</td>\n",
       "      <td>Glauclio Serro Abreu</td>\n",
       "      <td>M</td>\n",
       "      <td>26.0</td>\n",
       "      <td>185.0</td>\n",
       "      <td>75.0</td>\n",
       "      <td>Brazil</td>\n",
       "      <td>BRA</td>\n",
       "      <td>2004 Summer</td>\n",
       "      <td>2004</td>\n",
       "      <td>Summer</td>\n",
       "      <td>Athina</td>\n",
       "      <td>Boxing</td>\n",
       "      <td>Boxing Men's Middleweight</td>\n",
       "      <td>Sem medalha</td>\n",
       "      <td>0.0</td>\n",
       "    </tr>\n",
       "    <tr>\n",
       "      <th>...</th>\n",
       "      <td>...</td>\n",
       "      <td>...</td>\n",
       "      <td>...</td>\n",
       "      <td>...</td>\n",
       "      <td>...</td>\n",
       "      <td>...</td>\n",
       "      <td>...</td>\n",
       "      <td>...</td>\n",
       "      <td>...</td>\n",
       "      <td>...</td>\n",
       "      <td>...</td>\n",
       "      <td>...</td>\n",
       "      <td>...</td>\n",
       "      <td>...</td>\n",
       "      <td>...</td>\n",
       "      <td>...</td>\n",
       "    </tr>\n",
       "    <tr>\n",
       "      <th>3767</th>\n",
       "      <td>134400</td>\n",
       "      <td>Maria Jos \"Zz\" Bertolotti</td>\n",
       "      <td>F</td>\n",
       "      <td>26.0</td>\n",
       "      <td>190.0</td>\n",
       "      <td>NaN</td>\n",
       "      <td>Brazil</td>\n",
       "      <td>BRA</td>\n",
       "      <td>1992 Summer</td>\n",
       "      <td>1992</td>\n",
       "      <td>Summer</td>\n",
       "      <td>Barcelona</td>\n",
       "      <td>Basketball</td>\n",
       "      <td>Basketball Women's Basketball</td>\n",
       "      <td>Sem medalha</td>\n",
       "      <td>0.0</td>\n",
       "    </tr>\n",
       "    <tr>\n",
       "      <th>3768</th>\n",
       "      <td>134976</td>\n",
       "      <td>Sieglinda Lenk Zigler</td>\n",
       "      <td>F</td>\n",
       "      <td>17.0</td>\n",
       "      <td>NaN</td>\n",
       "      <td>NaN</td>\n",
       "      <td>Brazil</td>\n",
       "      <td>BRA</td>\n",
       "      <td>1936 Summer</td>\n",
       "      <td>1936</td>\n",
       "      <td>Summer</td>\n",
       "      <td>Berlin</td>\n",
       "      <td>Swimming</td>\n",
       "      <td>Swimming Women's 100 metres Backstroke</td>\n",
       "      <td>Sem medalha</td>\n",
       "      <td>0.0</td>\n",
       "    </tr>\n",
       "    <tr>\n",
       "      <th>3769</th>\n",
       "      <td>135037</td>\n",
       "      <td>Moacir Zimmermann</td>\n",
       "      <td>M</td>\n",
       "      <td>32.0</td>\n",
       "      <td>184.0</td>\n",
       "      <td>70.0</td>\n",
       "      <td>Brazil</td>\n",
       "      <td>BRA</td>\n",
       "      <td>2016 Summer</td>\n",
       "      <td>2016</td>\n",
       "      <td>Summer</td>\n",
       "      <td>Rio de Janeiro</td>\n",
       "      <td>Athletics</td>\n",
       "      <td>Athletics Men's 20 kilometres Walk</td>\n",
       "      <td>Sem medalha</td>\n",
       "      <td>0.0</td>\n",
       "    </tr>\n",
       "    <tr>\n",
       "      <th>3770</th>\n",
       "      <td>135289</td>\n",
       "      <td>Zzimo Alves Calazans</td>\n",
       "      <td>M</td>\n",
       "      <td>20.0</td>\n",
       "      <td>NaN</td>\n",
       "      <td>NaN</td>\n",
       "      <td>Brazil</td>\n",
       "      <td>BRA</td>\n",
       "      <td>1952 Summer</td>\n",
       "      <td>1952</td>\n",
       "      <td>Summer</td>\n",
       "      <td>Helsinki</td>\n",
       "      <td>Football</td>\n",
       "      <td>Football Men's Football</td>\n",
       "      <td>Sem medalha</td>\n",
       "      <td>0.0</td>\n",
       "    </tr>\n",
       "    <tr>\n",
       "      <th>3771</th>\n",
       "      <td>135423</td>\n",
       "      <td>Ral Benedito Zumbano</td>\n",
       "      <td>M</td>\n",
       "      <td>22.0</td>\n",
       "      <td>NaN</td>\n",
       "      <td>NaN</td>\n",
       "      <td>Brazil</td>\n",
       "      <td>BRA</td>\n",
       "      <td>1948 Summer</td>\n",
       "      <td>1948</td>\n",
       "      <td>Summer</td>\n",
       "      <td>London</td>\n",
       "      <td>Boxing</td>\n",
       "      <td>Boxing Men's Lightweight</td>\n",
       "      <td>Sem medalha</td>\n",
       "      <td>0.0</td>\n",
       "    </tr>\n",
       "  </tbody>\n",
       "</table>\n",
       "<p>3772 rows × 16 columns</p>\n",
       "</div>"
      ],
      "text/plain": [
       "          ID                        Name Sex   Age  Height  Weight    Team  \\\n",
       "0        386             Alexandre Abeid   M  22.0   194.0    92.0  Brazil   \n",
       "1        386             Alexandre Abeid   M  26.0   194.0    92.0  Brazil   \n",
       "2        388  Abel Carlos da Silva Braga   M  19.0   190.0    73.0  Brazil   \n",
       "3        451         Diana Monteiro Abla   F  21.0   175.0    75.0  Brazil   \n",
       "4        565        Glauclio Serro Abreu   M  26.0   185.0    75.0  Brazil   \n",
       "...      ...                         ...  ..   ...     ...     ...     ...   \n",
       "3767  134400   Maria Jos \"Zz\" Bertolotti   F  26.0   190.0     NaN  Brazil   \n",
       "3768  134976       Sieglinda Lenk Zigler   F  17.0     NaN     NaN  Brazil   \n",
       "3769  135037           Moacir Zimmermann   M  32.0   184.0    70.0  Brazil   \n",
       "3770  135289        Zzimo Alves Calazans   M  20.0     NaN     NaN  Brazil   \n",
       "3771  135423        Ral Benedito Zumbano   M  22.0     NaN     NaN  Brazil   \n",
       "\n",
       "      NOC        Games  Year  Season            City       Sport  \\\n",
       "0     BRA  1972 Summer  1972  Summer          Munich  Volleyball   \n",
       "1     BRA  1976 Summer  1976  Summer        Montreal  Volleyball   \n",
       "2     BRA  1972 Summer  1972  Summer          Munich    Football   \n",
       "3     BRA  2016 Summer  2016  Summer  Rio de Janeiro  Water Polo   \n",
       "4     BRA  2004 Summer  2004  Summer          Athina      Boxing   \n",
       "...   ...          ...   ...     ...             ...         ...   \n",
       "3767  BRA  1992 Summer  1992  Summer       Barcelona  Basketball   \n",
       "3768  BRA  1936 Summer  1936  Summer          Berlin    Swimming   \n",
       "3769  BRA  2016 Summer  2016  Summer  Rio de Janeiro   Athletics   \n",
       "3770  BRA  1952 Summer  1952  Summer        Helsinki    Football   \n",
       "3771  BRA  1948 Summer  1948  Summer          London      Boxing   \n",
       "\n",
       "                                       Event        Medal  Medal2  \n",
       "0                Volleyball Men's Volleyball  Sem medalha     0.0  \n",
       "1                Volleyball Men's Volleyball  Sem medalha     0.0  \n",
       "2                    Football Men's Football  Sem medalha     0.0  \n",
       "3              Water Polo Women's Water Polo  Sem medalha     0.0  \n",
       "4                  Boxing Men's Middleweight  Sem medalha     0.0  \n",
       "...                                      ...          ...     ...  \n",
       "3767           Basketball Women's Basketball  Sem medalha     0.0  \n",
       "3768  Swimming Women's 100 metres Backstroke  Sem medalha     0.0  \n",
       "3769      Athletics Men's 20 kilometres Walk  Sem medalha     0.0  \n",
       "3770                 Football Men's Football  Sem medalha     0.0  \n",
       "3771                Boxing Men's Lightweight  Sem medalha     0.0  \n",
       "\n",
       "[3772 rows x 16 columns]"
      ]
     },
     "execution_count": 85,
     "metadata": {},
     "output_type": "execute_result"
    }
   ],
   "source": [
    "df_bra"
   ]
  },
  {
   "cell_type": "code",
   "execution_count": 86,
   "id": "d72256e3",
   "metadata": {
    "scrolled": false
   },
   "outputs": [
    {
     "data": {
      "application/vnd.plotly.v1+json": {
       "config": {
        "plotlyServerURL": "https://plot.ly"
       },
       "data": [
        {
         "customdata": [
          [
           "Sem medalha"
          ],
          [
           "Sem medalha"
          ],
          [
           "Sem medalha"
          ],
          [
           "Sem medalha"
          ],
          [
           "Sem medalha"
          ],
          [
           "Sem medalha"
          ],
          [
           "Sem medalha"
          ],
          [
           "Sem medalha"
          ],
          [
           "Sem medalha"
          ],
          [
           "Sem medalha"
          ],
          [
           "Sem medalha"
          ],
          [
           "Sem medalha"
          ],
          [
           "Sem medalha"
          ],
          [
           "Sem medalha"
          ],
          [
           "Sem medalha"
          ],
          [
           "Sem medalha"
          ],
          [
           "Sem medalha"
          ],
          [
           "Sem medalha"
          ],
          [
           "Sem medalha"
          ],
          [
           "Sem medalha"
          ],
          [
           "Sem medalha"
          ],
          [
           "Sem medalha"
          ],
          [
           "Sem medalha"
          ],
          [
           "Sem medalha"
          ],
          [
           "Sem medalha"
          ],
          [
           "Sem medalha"
          ],
          [
           "Sem medalha"
          ],
          [
           "Sem medalha"
          ],
          [
           "Sem medalha"
          ],
          [
           "Sem medalha"
          ],
          [
           "Sem medalha"
          ],
          [
           "Sem medalha"
          ],
          [
           "Sem medalha"
          ],
          [
           "Sem medalha"
          ],
          [
           "Sem medalha"
          ],
          [
           "Sem medalha"
          ],
          [
           "Sem medalha"
          ],
          [
           "Sem medalha"
          ],
          [
           "Sem medalha"
          ],
          [
           "Sem medalha"
          ],
          [
           "Sem medalha"
          ],
          [
           "Sem medalha"
          ],
          [
           "Sem medalha"
          ],
          [
           "Sem medalha"
          ],
          [
           "Sem medalha"
          ],
          [
           "Sem medalha"
          ],
          [
           "Sem medalha"
          ],
          [
           "Sem medalha"
          ],
          [
           "Sem medalha"
          ],
          [
           "Sem medalha"
          ],
          [
           "Sem medalha"
          ],
          [
           "Sem medalha"
          ],
          [
           "Sem medalha"
          ],
          [
           "Sem medalha"
          ],
          [
           "Sem medalha"
          ],
          [
           "Sem medalha"
          ],
          [
           "Sem medalha"
          ],
          [
           "Sem medalha"
          ],
          [
           "Sem medalha"
          ],
          [
           "Sem medalha"
          ],
          [
           "Sem medalha"
          ],
          [
           "Sem medalha"
          ],
          [
           "Sem medalha"
          ],
          [
           "Sem medalha"
          ],
          [
           "Sem medalha"
          ],
          [
           "Sem medalha"
          ],
          [
           "Sem medalha"
          ],
          [
           "Sem medalha"
          ],
          [
           "Sem medalha"
          ],
          [
           "Sem medalha"
          ],
          [
           "Sem medalha"
          ],
          [
           "Sem medalha"
          ],
          [
           "Sem medalha"
          ],
          [
           "Sem medalha"
          ],
          [
           "Sem medalha"
          ],
          [
           "Sem medalha"
          ],
          [
           "Sem medalha"
          ],
          [
           "Sem medalha"
          ],
          [
           "Sem medalha"
          ],
          [
           "Sem medalha"
          ],
          [
           "Sem medalha"
          ],
          [
           "Sem medalha"
          ],
          [
           "Sem medalha"
          ],
          [
           "Sem medalha"
          ],
          [
           "Sem medalha"
          ],
          [
           "Sem medalha"
          ],
          [
           "Sem medalha"
          ],
          [
           "Sem medalha"
          ],
          [
           "Sem medalha"
          ],
          [
           "Sem medalha"
          ],
          [
           "Sem medalha"
          ],
          [
           "Sem medalha"
          ],
          [
           "Sem medalha"
          ],
          [
           "Sem medalha"
          ],
          [
           "Sem medalha"
          ],
          [
           "Sem medalha"
          ],
          [
           "Sem medalha"
          ],
          [
           "Sem medalha"
          ],
          [
           "Sem medalha"
          ],
          [
           "Sem medalha"
          ],
          [
           "Sem medalha"
          ],
          [
           "Sem medalha"
          ],
          [
           "Sem medalha"
          ],
          [
           "Sem medalha"
          ],
          [
           "Sem medalha"
          ],
          [
           "Sem medalha"
          ],
          [
           "Sem medalha"
          ],
          [
           "Sem medalha"
          ],
          [
           "Sem medalha"
          ],
          [
           "Sem medalha"
          ],
          [
           "Sem medalha"
          ],
          [
           "Sem medalha"
          ],
          [
           "Sem medalha"
          ],
          [
           "Sem medalha"
          ],
          [
           "Sem medalha"
          ],
          [
           "Sem medalha"
          ],
          [
           "Sem medalha"
          ],
          [
           "Sem medalha"
          ],
          [
           "Sem medalha"
          ],
          [
           "Sem medalha"
          ],
          [
           "Sem medalha"
          ],
          [
           "Sem medalha"
          ],
          [
           "Sem medalha"
          ],
          [
           "Sem medalha"
          ],
          [
           "Sem medalha"
          ],
          [
           "Sem medalha"
          ],
          [
           "Sem medalha"
          ],
          [
           "Sem medalha"
          ],
          [
           "Sem medalha"
          ],
          [
           "Sem medalha"
          ],
          [
           "Sem medalha"
          ],
          [
           "Sem medalha"
          ],
          [
           "Sem medalha"
          ],
          [
           "Sem medalha"
          ],
          [
           "Sem medalha"
          ],
          [
           "Sem medalha"
          ],
          [
           "Sem medalha"
          ],
          [
           "Sem medalha"
          ],
          [
           "Sem medalha"
          ],
          [
           "Sem medalha"
          ],
          [
           "Sem medalha"
          ],
          [
           "Sem medalha"
          ],
          [
           "Sem medalha"
          ],
          [
           "Sem medalha"
          ],
          [
           "Sem medalha"
          ],
          [
           "Sem medalha"
          ],
          [
           "Sem medalha"
          ],
          [
           "Sem medalha"
          ],
          [
           "Sem medalha"
          ],
          [
           "Sem medalha"
          ],
          [
           "Sem medalha"
          ],
          [
           "Sem medalha"
          ],
          [
           "Sem medalha"
          ],
          [
           "Sem medalha"
          ],
          [
           "Sem medalha"
          ],
          [
           "Sem medalha"
          ],
          [
           "Sem medalha"
          ],
          [
           "Sem medalha"
          ],
          [
           "Sem medalha"
          ],
          [
           "Sem medalha"
          ],
          [
           "Sem medalha"
          ],
          [
           "Sem medalha"
          ],
          [
           "Sem medalha"
          ],
          [
           "Sem medalha"
          ],
          [
           "Sem medalha"
          ],
          [
           "Sem medalha"
          ],
          [
           "Sem medalha"
          ],
          [
           "Sem medalha"
          ],
          [
           "Sem medalha"
          ],
          [
           "Sem medalha"
          ],
          [
           "Sem medalha"
          ],
          [
           "Sem medalha"
          ],
          [
           "Sem medalha"
          ],
          [
           "Sem medalha"
          ],
          [
           "Sem medalha"
          ],
          [
           "Sem medalha"
          ],
          [
           "Sem medalha"
          ],
          [
           "Sem medalha"
          ],
          [
           "Sem medalha"
          ],
          [
           "Sem medalha"
          ],
          [
           "Sem medalha"
          ],
          [
           "Sem medalha"
          ],
          [
           "Sem medalha"
          ],
          [
           "Sem medalha"
          ],
          [
           "Sem medalha"
          ],
          [
           "Sem medalha"
          ],
          [
           "Sem medalha"
          ],
          [
           "Sem medalha"
          ],
          [
           "Sem medalha"
          ],
          [
           "Sem medalha"
          ],
          [
           "Sem medalha"
          ],
          [
           "Sem medalha"
          ],
          [
           "Sem medalha"
          ],
          [
           "Sem medalha"
          ],
          [
           "Sem medalha"
          ],
          [
           "Sem medalha"
          ],
          [
           "Sem medalha"
          ],
          [
           "Sem medalha"
          ],
          [
           "Sem medalha"
          ],
          [
           "Sem medalha"
          ],
          [
           "Sem medalha"
          ],
          [
           "Sem medalha"
          ],
          [
           "Sem medalha"
          ],
          [
           "Sem medalha"
          ],
          [
           "Sem medalha"
          ],
          [
           "Sem medalha"
          ],
          [
           "Sem medalha"
          ],
          [
           "Sem medalha"
          ],
          [
           "Sem medalha"
          ],
          [
           "Sem medalha"
          ],
          [
           "Sem medalha"
          ],
          [
           "Sem medalha"
          ],
          [
           "Sem medalha"
          ],
          [
           "Sem medalha"
          ],
          [
           "Sem medalha"
          ],
          [
           "Sem medalha"
          ],
          [
           "Sem medalha"
          ],
          [
           "Sem medalha"
          ],
          [
           "Sem medalha"
          ],
          [
           "Sem medalha"
          ],
          [
           "Sem medalha"
          ],
          [
           "Sem medalha"
          ],
          [
           "Sem medalha"
          ],
          [
           "Sem medalha"
          ],
          [
           "Sem medalha"
          ],
          [
           "Sem medalha"
          ],
          [
           "Sem medalha"
          ],
          [
           "Sem medalha"
          ],
          [
           "Sem medalha"
          ],
          [
           "Sem medalha"
          ],
          [
           "Sem medalha"
          ],
          [
           "Sem medalha"
          ],
          [
           "Sem medalha"
          ],
          [
           "Sem medalha"
          ],
          [
           "Sem medalha"
          ],
          [
           "Sem medalha"
          ],
          [
           "Sem medalha"
          ],
          [
           "Sem medalha"
          ],
          [
           "Sem medalha"
          ],
          [
           "Sem medalha"
          ],
          [
           "Sem medalha"
          ],
          [
           "Sem medalha"
          ],
          [
           "Sem medalha"
          ],
          [
           "Sem medalha"
          ],
          [
           "Sem medalha"
          ],
          [
           "Sem medalha"
          ],
          [
           "Sem medalha"
          ],
          [
           "Sem medalha"
          ],
          [
           "Sem medalha"
          ],
          [
           "Sem medalha"
          ],
          [
           "Sem medalha"
          ],
          [
           "Sem medalha"
          ],
          [
           "Sem medalha"
          ],
          [
           "Sem medalha"
          ],
          [
           "Sem medalha"
          ],
          [
           "Sem medalha"
          ],
          [
           "Sem medalha"
          ],
          [
           "Sem medalha"
          ],
          [
           "Sem medalha"
          ],
          [
           "Sem medalha"
          ],
          [
           "Sem medalha"
          ],
          [
           "Sem medalha"
          ],
          [
           "Sem medalha"
          ],
          [
           "Sem medalha"
          ],
          [
           "Sem medalha"
          ],
          [
           "Sem medalha"
          ],
          [
           "Sem medalha"
          ],
          [
           "Sem medalha"
          ],
          [
           "Sem medalha"
          ],
          [
           "Sem medalha"
          ],
          [
           "Sem medalha"
          ],
          [
           "Sem medalha"
          ],
          [
           "Sem medalha"
          ],
          [
           "Sem medalha"
          ],
          [
           "Sem medalha"
          ],
          [
           "Sem medalha"
          ],
          [
           "Sem medalha"
          ],
          [
           "Sem medalha"
          ],
          [
           "Sem medalha"
          ],
          [
           "Sem medalha"
          ],
          [
           "Sem medalha"
          ],
          [
           "Sem medalha"
          ],
          [
           "Sem medalha"
          ],
          [
           "Sem medalha"
          ],
          [
           "Sem medalha"
          ],
          [
           "Sem medalha"
          ],
          [
           "Sem medalha"
          ],
          [
           "Sem medalha"
          ],
          [
           "Sem medalha"
          ],
          [
           "Sem medalha"
          ],
          [
           "Sem medalha"
          ],
          [
           "Sem medalha"
          ],
          [
           "Sem medalha"
          ],
          [
           "Sem medalha"
          ],
          [
           "Sem medalha"
          ],
          [
           "Sem medalha"
          ],
          [
           "Sem medalha"
          ],
          [
           "Sem medalha"
          ],
          [
           "Sem medalha"
          ],
          [
           "Sem medalha"
          ],
          [
           "Sem medalha"
          ],
          [
           "Sem medalha"
          ],
          [
           "Sem medalha"
          ],
          [
           "Sem medalha"
          ],
          [
           "Sem medalha"
          ],
          [
           "Sem medalha"
          ],
          [
           "Sem medalha"
          ],
          [
           "Sem medalha"
          ],
          [
           "Sem medalha"
          ],
          [
           "Sem medalha"
          ],
          [
           "Sem medalha"
          ],
          [
           "Sem medalha"
          ],
          [
           "Sem medalha"
          ],
          [
           "Sem medalha"
          ],
          [
           "Sem medalha"
          ],
          [
           "Sem medalha"
          ],
          [
           "Sem medalha"
          ],
          [
           "Sem medalha"
          ],
          [
           "Sem medalha"
          ],
          [
           "Sem medalha"
          ],
          [
           "Sem medalha"
          ],
          [
           "Sem medalha"
          ],
          [
           "Sem medalha"
          ],
          [
           "Sem medalha"
          ],
          [
           "Sem medalha"
          ],
          [
           "Sem medalha"
          ],
          [
           "Sem medalha"
          ],
          [
           "Sem medalha"
          ],
          [
           "Sem medalha"
          ],
          [
           "Sem medalha"
          ],
          [
           "Sem medalha"
          ],
          [
           "Sem medalha"
          ],
          [
           "Sem medalha"
          ],
          [
           "Sem medalha"
          ],
          [
           "Sem medalha"
          ],
          [
           "Sem medalha"
          ],
          [
           "Sem medalha"
          ],
          [
           "Sem medalha"
          ],
          [
           "Sem medalha"
          ],
          [
           "Sem medalha"
          ],
          [
           "Sem medalha"
          ],
          [
           "Sem medalha"
          ],
          [
           "Sem medalha"
          ],
          [
           "Sem medalha"
          ],
          [
           "Sem medalha"
          ],
          [
           "Sem medalha"
          ],
          [
           "Sem medalha"
          ],
          [
           "Sem medalha"
          ],
          [
           "Sem medalha"
          ],
          [
           "Sem medalha"
          ],
          [
           "Sem medalha"
          ],
          [
           "Sem medalha"
          ],
          [
           "Sem medalha"
          ],
          [
           "Sem medalha"
          ],
          [
           "Sem medalha"
          ],
          [
           "Sem medalha"
          ],
          [
           "Sem medalha"
          ],
          [
           "Sem medalha"
          ],
          [
           "Sem medalha"
          ],
          [
           "Sem medalha"
          ],
          [
           "Sem medalha"
          ],
          [
           "Sem medalha"
          ],
          [
           "Sem medalha"
          ],
          [
           "Sem medalha"
          ],
          [
           "Sem medalha"
          ],
          [
           "Sem medalha"
          ],
          [
           "Sem medalha"
          ],
          [
           "Sem medalha"
          ],
          [
           "Sem medalha"
          ],
          [
           "Sem medalha"
          ],
          [
           "Sem medalha"
          ],
          [
           "Sem medalha"
          ],
          [
           "Sem medalha"
          ],
          [
           "Sem medalha"
          ],
          [
           "Sem medalha"
          ],
          [
           "Sem medalha"
          ],
          [
           "Sem medalha"
          ],
          [
           "Sem medalha"
          ],
          [
           "Sem medalha"
          ],
          [
           "Sem medalha"
          ],
          [
           "Sem medalha"
          ],
          [
           "Sem medalha"
          ],
          [
           "Sem medalha"
          ],
          [
           "Sem medalha"
          ],
          [
           "Sem medalha"
          ],
          [
           "Sem medalha"
          ],
          [
           "Sem medalha"
          ],
          [
           "Sem medalha"
          ],
          [
           "Sem medalha"
          ],
          [
           "Sem medalha"
          ],
          [
           "Sem medalha"
          ],
          [
           "Sem medalha"
          ],
          [
           "Sem medalha"
          ],
          [
           "Sem medalha"
          ],
          [
           "Sem medalha"
          ],
          [
           "Sem medalha"
          ],
          [
           "Sem medalha"
          ],
          [
           "Sem medalha"
          ],
          [
           "Sem medalha"
          ],
          [
           "Sem medalha"
          ],
          [
           "Sem medalha"
          ],
          [
           "Sem medalha"
          ],
          [
           "Sem medalha"
          ],
          [
           "Sem medalha"
          ],
          [
           "Sem medalha"
          ],
          [
           "Sem medalha"
          ],
          [
           "Sem medalha"
          ],
          [
           "Sem medalha"
          ],
          [
           "Sem medalha"
          ],
          [
           "Sem medalha"
          ],
          [
           "Sem medalha"
          ],
          [
           "Sem medalha"
          ],
          [
           "Sem medalha"
          ],
          [
           "Sem medalha"
          ],
          [
           "Sem medalha"
          ],
          [
           "Sem medalha"
          ],
          [
           "Sem medalha"
          ],
          [
           "Sem medalha"
          ],
          [
           "Sem medalha"
          ],
          [
           "Sem medalha"
          ],
          [
           "Sem medalha"
          ],
          [
           "Sem medalha"
          ],
          [
           "Sem medalha"
          ],
          [
           "Sem medalha"
          ],
          [
           "Sem medalha"
          ],
          [
           "Sem medalha"
          ],
          [
           "Sem medalha"
          ],
          [
           "Sem medalha"
          ],
          [
           "Sem medalha"
          ],
          [
           "Sem medalha"
          ],
          [
           "Sem medalha"
          ],
          [
           "Sem medalha"
          ],
          [
           "Sem medalha"
          ],
          [
           "Sem medalha"
          ],
          [
           "Sem medalha"
          ],
          [
           "Sem medalha"
          ],
          [
           "Sem medalha"
          ],
          [
           "Sem medalha"
          ],
          [
           "Sem medalha"
          ],
          [
           "Sem medalha"
          ],
          [
           "Sem medalha"
          ],
          [
           "Sem medalha"
          ],
          [
           "Sem medalha"
          ],
          [
           "Sem medalha"
          ],
          [
           "Sem medalha"
          ],
          [
           "Sem medalha"
          ],
          [
           "Sem medalha"
          ],
          [
           "Sem medalha"
          ],
          [
           "Sem medalha"
          ],
          [
           "Sem medalha"
          ],
          [
           "Sem medalha"
          ],
          [
           "Sem medalha"
          ],
          [
           "Sem medalha"
          ],
          [
           "Sem medalha"
          ],
          [
           "Sem medalha"
          ],
          [
           "Sem medalha"
          ],
          [
           "Sem medalha"
          ],
          [
           "Sem medalha"
          ],
          [
           "Sem medalha"
          ],
          [
           "Sem medalha"
          ],
          [
           "Sem medalha"
          ],
          [
           "Sem medalha"
          ],
          [
           "Sem medalha"
          ],
          [
           "Sem medalha"
          ],
          [
           "Sem medalha"
          ],
          [
           "Sem medalha"
          ],
          [
           "Sem medalha"
          ],
          [
           "Sem medalha"
          ],
          [
           "Sem medalha"
          ],
          [
           "Sem medalha"
          ],
          [
           "Sem medalha"
          ],
          [
           "Sem medalha"
          ],
          [
           "Sem medalha"
          ],
          [
           "Sem medalha"
          ],
          [
           "Sem medalha"
          ],
          [
           "Sem medalha"
          ],
          [
           "Sem medalha"
          ],
          [
           "Sem medalha"
          ],
          [
           "Sem medalha"
          ],
          [
           "Sem medalha"
          ],
          [
           "Sem medalha"
          ],
          [
           "Sem medalha"
          ],
          [
           "Sem medalha"
          ],
          [
           "Sem medalha"
          ],
          [
           "Sem medalha"
          ],
          [
           "Sem medalha"
          ],
          [
           "Sem medalha"
          ],
          [
           "Sem medalha"
          ],
          [
           "Sem medalha"
          ],
          [
           "Sem medalha"
          ],
          [
           "Sem medalha"
          ],
          [
           "Sem medalha"
          ],
          [
           "Sem medalha"
          ],
          [
           "Sem medalha"
          ],
          [
           "Sem medalha"
          ],
          [
           "Sem medalha"
          ],
          [
           "Sem medalha"
          ],
          [
           "Sem medalha"
          ],
          [
           "Sem medalha"
          ],
          [
           "Sem medalha"
          ],
          [
           "Sem medalha"
          ],
          [
           "Sem medalha"
          ],
          [
           "Sem medalha"
          ],
          [
           "Sem medalha"
          ],
          [
           "Sem medalha"
          ],
          [
           "Sem medalha"
          ],
          [
           "Sem medalha"
          ],
          [
           "Sem medalha"
          ],
          [
           "Sem medalha"
          ],
          [
           "Sem medalha"
          ],
          [
           "Sem medalha"
          ],
          [
           "Sem medalha"
          ],
          [
           "Sem medalha"
          ],
          [
           "Sem medalha"
          ],
          [
           "Sem medalha"
          ],
          [
           "Sem medalha"
          ],
          [
           "Sem medalha"
          ],
          [
           "Sem medalha"
          ],
          [
           "Sem medalha"
          ],
          [
           "Sem medalha"
          ],
          [
           "Sem medalha"
          ],
          [
           "Sem medalha"
          ],
          [
           "Sem medalha"
          ],
          [
           "Sem medalha"
          ],
          [
           "Sem medalha"
          ],
          [
           "Sem medalha"
          ],
          [
           "Sem medalha"
          ],
          [
           "Sem medalha"
          ],
          [
           "Sem medalha"
          ],
          [
           "Sem medalha"
          ],
          [
           "Sem medalha"
          ],
          [
           "Sem medalha"
          ],
          [
           "Sem medalha"
          ],
          [
           "Sem medalha"
          ],
          [
           "Sem medalha"
          ],
          [
           "Sem medalha"
          ],
          [
           "Sem medalha"
          ],
          [
           "Sem medalha"
          ],
          [
           "Sem medalha"
          ],
          [
           "Sem medalha"
          ],
          [
           "Sem medalha"
          ],
          [
           "Sem medalha"
          ],
          [
           "Sem medalha"
          ],
          [
           "Sem medalha"
          ],
          [
           "Sem medalha"
          ],
          [
           "Sem medalha"
          ],
          [
           "Sem medalha"
          ],
          [
           "Sem medalha"
          ],
          [
           "Sem medalha"
          ],
          [
           "Sem medalha"
          ],
          [
           "Sem medalha"
          ],
          [
           "Sem medalha"
          ],
          [
           "Sem medalha"
          ],
          [
           "Sem medalha"
          ],
          [
           "Sem medalha"
          ],
          [
           "Sem medalha"
          ],
          [
           "Sem medalha"
          ],
          [
           "Sem medalha"
          ],
          [
           "Sem medalha"
          ],
          [
           "Sem medalha"
          ],
          [
           "Sem medalha"
          ],
          [
           "Sem medalha"
          ],
          [
           "Sem medalha"
          ],
          [
           "Sem medalha"
          ],
          [
           "Sem medalha"
          ],
          [
           "Sem medalha"
          ],
          [
           "Sem medalha"
          ],
          [
           "Sem medalha"
          ],
          [
           "Sem medalha"
          ],
          [
           "Sem medalha"
          ],
          [
           "Sem medalha"
          ],
          [
           "Sem medalha"
          ],
          [
           "Sem medalha"
          ],
          [
           "Sem medalha"
          ],
          [
           "Sem medalha"
          ],
          [
           "Sem medalha"
          ],
          [
           "Sem medalha"
          ],
          [
           "Sem medalha"
          ],
          [
           "Sem medalha"
          ],
          [
           "Sem medalha"
          ],
          [
           "Sem medalha"
          ],
          [
           "Sem medalha"
          ],
          [
           "Sem medalha"
          ],
          [
           "Sem medalha"
          ],
          [
           "Sem medalha"
          ],
          [
           "Sem medalha"
          ],
          [
           "Sem medalha"
          ],
          [
           "Sem medalha"
          ],
          [
           "Sem medalha"
          ],
          [
           "Sem medalha"
          ],
          [
           "Sem medalha"
          ],
          [
           "Sem medalha"
          ],
          [
           "Sem medalha"
          ],
          [
           "Sem medalha"
          ],
          [
           "Sem medalha"
          ],
          [
           "Sem medalha"
          ],
          [
           "Sem medalha"
          ],
          [
           "Sem medalha"
          ],
          [
           "Sem medalha"
          ],
          [
           "Sem medalha"
          ],
          [
           "Sem medalha"
          ],
          [
           "Sem medalha"
          ],
          [
           "Sem medalha"
          ],
          [
           "Sem medalha"
          ],
          [
           "Sem medalha"
          ],
          [
           "Sem medalha"
          ],
          [
           "Sem medalha"
          ],
          [
           "Sem medalha"
          ],
          [
           "Sem medalha"
          ],
          [
           "Sem medalha"
          ],
          [
           "Sem medalha"
          ],
          [
           "Sem medalha"
          ],
          [
           "Sem medalha"
          ],
          [
           "Sem medalha"
          ],
          [
           "Sem medalha"
          ],
          [
           "Sem medalha"
          ],
          [
           "Sem medalha"
          ],
          [
           "Sem medalha"
          ],
          [
           "Sem medalha"
          ],
          [
           "Sem medalha"
          ],
          [
           "Sem medalha"
          ],
          [
           "Sem medalha"
          ],
          [
           "Sem medalha"
          ],
          [
           "Sem medalha"
          ],
          [
           "Sem medalha"
          ],
          [
           "Sem medalha"
          ],
          [
           "Sem medalha"
          ],
          [
           "Sem medalha"
          ],
          [
           "Sem medalha"
          ],
          [
           "Sem medalha"
          ],
          [
           "Sem medalha"
          ],
          [
           "Sem medalha"
          ],
          [
           "Sem medalha"
          ],
          [
           "Sem medalha"
          ],
          [
           "Sem medalha"
          ],
          [
           "Sem medalha"
          ],
          [
           "Sem medalha"
          ],
          [
           "Sem medalha"
          ],
          [
           "Sem medalha"
          ],
          [
           "Sem medalha"
          ],
          [
           "Sem medalha"
          ],
          [
           "Sem medalha"
          ],
          [
           "Sem medalha"
          ],
          [
           "Sem medalha"
          ],
          [
           "Sem medalha"
          ],
          [
           "Sem medalha"
          ],
          [
           "Sem medalha"
          ],
          [
           "Sem medalha"
          ],
          [
           "Sem medalha"
          ],
          [
           "Sem medalha"
          ],
          [
           "Sem medalha"
          ],
          [
           "Sem medalha"
          ],
          [
           "Sem medalha"
          ],
          [
           "Sem medalha"
          ],
          [
           "Sem medalha"
          ],
          [
           "Sem medalha"
          ],
          [
           "Sem medalha"
          ],
          [
           "Sem medalha"
          ],
          [
           "Sem medalha"
          ],
          [
           "Sem medalha"
          ],
          [
           "Sem medalha"
          ],
          [
           "Sem medalha"
          ],
          [
           "Sem medalha"
          ],
          [
           "Sem medalha"
          ],
          [
           "Sem medalha"
          ],
          [
           "Sem medalha"
          ],
          [
           "Sem medalha"
          ],
          [
           "Sem medalha"
          ],
          [
           "Sem medalha"
          ],
          [
           "Sem medalha"
          ],
          [
           "Sem medalha"
          ],
          [
           "Sem medalha"
          ],
          [
           "Sem medalha"
          ],
          [
           "Sem medalha"
          ],
          [
           "Sem medalha"
          ],
          [
           "Sem medalha"
          ],
          [
           "Sem medalha"
          ],
          [
           "Sem medalha"
          ],
          [
           "Sem medalha"
          ],
          [
           "Sem medalha"
          ],
          [
           "Sem medalha"
          ],
          [
           "Sem medalha"
          ],
          [
           "Sem medalha"
          ],
          [
           "Sem medalha"
          ],
          [
           "Sem medalha"
          ],
          [
           "Sem medalha"
          ],
          [
           "Sem medalha"
          ],
          [
           "Sem medalha"
          ],
          [
           "Sem medalha"
          ],
          [
           "Sem medalha"
          ],
          [
           "Sem medalha"
          ],
          [
           "Sem medalha"
          ],
          [
           "Sem medalha"
          ],
          [
           "Sem medalha"
          ],
          [
           "Sem medalha"
          ],
          [
           "Sem medalha"
          ],
          [
           "Sem medalha"
          ],
          [
           "Sem medalha"
          ],
          [
           "Sem medalha"
          ],
          [
           "Sem medalha"
          ],
          [
           "Sem medalha"
          ],
          [
           "Sem medalha"
          ],
          [
           "Sem medalha"
          ],
          [
           "Sem medalha"
          ],
          [
           "Sem medalha"
          ],
          [
           "Sem medalha"
          ],
          [
           "Sem medalha"
          ],
          [
           "Sem medalha"
          ],
          [
           "Sem medalha"
          ],
          [
           "Sem medalha"
          ],
          [
           "Sem medalha"
          ],
          [
           "Sem medalha"
          ],
          [
           "Sem medalha"
          ],
          [
           "Sem medalha"
          ],
          [
           "Sem medalha"
          ],
          [
           "Sem medalha"
          ],
          [
           "Sem medalha"
          ],
          [
           "Sem medalha"
          ],
          [
           "Sem medalha"
          ],
          [
           "Sem medalha"
          ],
          [
           "Sem medalha"
          ],
          [
           "Sem medalha"
          ],
          [
           "Sem medalha"
          ],
          [
           "Sem medalha"
          ],
          [
           "Sem medalha"
          ],
          [
           "Sem medalha"
          ],
          [
           "Sem medalha"
          ],
          [
           "Sem medalha"
          ],
          [
           "Sem medalha"
          ],
          [
           "Sem medalha"
          ],
          [
           "Sem medalha"
          ],
          [
           "Sem medalha"
          ],
          [
           "Sem medalha"
          ],
          [
           "Sem medalha"
          ],
          [
           "Sem medalha"
          ],
          [
           "Sem medalha"
          ],
          [
           "Sem medalha"
          ],
          [
           "Sem medalha"
          ],
          [
           "Sem medalha"
          ],
          [
           "Sem medalha"
          ],
          [
           "Sem medalha"
          ],
          [
           "Sem medalha"
          ],
          [
           "Sem medalha"
          ],
          [
           "Sem medalha"
          ],
          [
           "Sem medalha"
          ],
          [
           "Sem medalha"
          ],
          [
           "Sem medalha"
          ],
          [
           "Sem medalha"
          ],
          [
           "Sem medalha"
          ],
          [
           "Sem medalha"
          ],
          [
           "Sem medalha"
          ],
          [
           "Sem medalha"
          ],
          [
           "Sem medalha"
          ],
          [
           "Sem medalha"
          ],
          [
           "Sem medalha"
          ],
          [
           "Sem medalha"
          ],
          [
           "Sem medalha"
          ],
          [
           "Sem medalha"
          ],
          [
           "Sem medalha"
          ],
          [
           "Sem medalha"
          ],
          [
           "Sem medalha"
          ],
          [
           "Sem medalha"
          ],
          [
           "Sem medalha"
          ],
          [
           "Sem medalha"
          ],
          [
           "Sem medalha"
          ],
          [
           "Sem medalha"
          ],
          [
           "Sem medalha"
          ],
          [
           "Sem medalha"
          ],
          [
           "Sem medalha"
          ],
          [
           "Sem medalha"
          ],
          [
           "Sem medalha"
          ],
          [
           "Sem medalha"
          ],
          [
           "Sem medalha"
          ],
          [
           "Sem medalha"
          ],
          [
           "Sem medalha"
          ],
          [
           "Sem medalha"
          ],
          [
           "Sem medalha"
          ],
          [
           "Sem medalha"
          ],
          [
           "Sem medalha"
          ],
          [
           "Sem medalha"
          ],
          [
           "Sem medalha"
          ],
          [
           "Sem medalha"
          ],
          [
           "Sem medalha"
          ],
          [
           "Sem medalha"
          ],
          [
           "Sem medalha"
          ],
          [
           "Sem medalha"
          ],
          [
           "Sem medalha"
          ],
          [
           "Sem medalha"
          ],
          [
           "Sem medalha"
          ],
          [
           "Sem medalha"
          ],
          [
           "Sem medalha"
          ],
          [
           "Sem medalha"
          ],
          [
           "Sem medalha"
          ],
          [
           "Sem medalha"
          ],
          [
           "Sem medalha"
          ],
          [
           "Sem medalha"
          ],
          [
           "Sem medalha"
          ],
          [
           "Sem medalha"
          ],
          [
           "Sem medalha"
          ],
          [
           "Sem medalha"
          ],
          [
           "Sem medalha"
          ],
          [
           "Sem medalha"
          ],
          [
           "Sem medalha"
          ],
          [
           "Sem medalha"
          ],
          [
           "Sem medalha"
          ],
          [
           "Sem medalha"
          ],
          [
           "Sem medalha"
          ],
          [
           "Sem medalha"
          ],
          [
           "Sem medalha"
          ],
          [
           "Sem medalha"
          ],
          [
           "Sem medalha"
          ],
          [
           "Sem medalha"
          ],
          [
           "Sem medalha"
          ],
          [
           "Sem medalha"
          ],
          [
           "Sem medalha"
          ],
          [
           "Sem medalha"
          ],
          [
           "Sem medalha"
          ],
          [
           "Sem medalha"
          ],
          [
           "Sem medalha"
          ],
          [
           "Sem medalha"
          ],
          [
           "Sem medalha"
          ],
          [
           "Sem medalha"
          ],
          [
           "Sem medalha"
          ],
          [
           "Sem medalha"
          ],
          [
           "Sem medalha"
          ],
          [
           "Sem medalha"
          ],
          [
           "Sem medalha"
          ],
          [
           "Sem medalha"
          ],
          [
           "Sem medalha"
          ],
          [
           "Sem medalha"
          ],
          [
           "Sem medalha"
          ],
          [
           "Sem medalha"
          ],
          [
           "Sem medalha"
          ],
          [
           "Sem medalha"
          ],
          [
           "Sem medalha"
          ],
          [
           "Sem medalha"
          ],
          [
           "Sem medalha"
          ],
          [
           "Sem medalha"
          ],
          [
           "Sem medalha"
          ],
          [
           "Sem medalha"
          ],
          [
           "Sem medalha"
          ],
          [
           "Sem medalha"
          ],
          [
           "Sem medalha"
          ],
          [
           "Sem medalha"
          ],
          [
           "Sem medalha"
          ],
          [
           "Sem medalha"
          ],
          [
           "Sem medalha"
          ],
          [
           "Sem medalha"
          ],
          [
           "Sem medalha"
          ],
          [
           "Sem medalha"
          ],
          [
           "Sem medalha"
          ],
          [
           "Sem medalha"
          ],
          [
           "Sem medalha"
          ],
          [
           "Sem medalha"
          ],
          [
           "Sem medalha"
          ],
          [
           "Sem medalha"
          ],
          [
           "Sem medalha"
          ],
          [
           "Sem medalha"
          ],
          [
           "Sem medalha"
          ],
          [
           "Sem medalha"
          ],
          [
           "Sem medalha"
          ],
          [
           "Sem medalha"
          ],
          [
           "Sem medalha"
          ],
          [
           "Sem medalha"
          ],
          [
           "Sem medalha"
          ],
          [
           "Sem medalha"
          ],
          [
           "Sem medalha"
          ],
          [
           "Sem medalha"
          ],
          [
           "Sem medalha"
          ],
          [
           "Sem medalha"
          ],
          [
           "Sem medalha"
          ],
          [
           "Sem medalha"
          ],
          [
           "Sem medalha"
          ],
          [
           "Sem medalha"
          ],
          [
           "Sem medalha"
          ],
          [
           "Sem medalha"
          ],
          [
           "Sem medalha"
          ],
          [
           "Sem medalha"
          ],
          [
           "Sem medalha"
          ],
          [
           "Sem medalha"
          ],
          [
           "Sem medalha"
          ],
          [
           "Sem medalha"
          ],
          [
           "Sem medalha"
          ],
          [
           "Sem medalha"
          ],
          [
           "Sem medalha"
          ],
          [
           "Sem medalha"
          ],
          [
           "Sem medalha"
          ],
          [
           "Sem medalha"
          ],
          [
           "Sem medalha"
          ],
          [
           "Sem medalha"
          ],
          [
           "Sem medalha"
          ],
          [
           "Sem medalha"
          ],
          [
           "Sem medalha"
          ],
          [
           "Sem medalha"
          ],
          [
           "Sem medalha"
          ],
          [
           "Sem medalha"
          ],
          [
           "Sem medalha"
          ],
          [
           "Sem medalha"
          ],
          [
           "Sem medalha"
          ],
          [
           "Sem medalha"
          ],
          [
           "Sem medalha"
          ],
          [
           "Sem medalha"
          ],
          [
           "Sem medalha"
          ],
          [
           "Sem medalha"
          ],
          [
           "Sem medalha"
          ],
          [
           "Sem medalha"
          ],
          [
           "Sem medalha"
          ],
          [
           "Sem medalha"
          ],
          [
           "Sem medalha"
          ],
          [
           "Sem medalha"
          ],
          [
           "Sem medalha"
          ],
          [
           "Sem medalha"
          ],
          [
           "Sem medalha"
          ],
          [
           "Sem medalha"
          ],
          [
           "Sem medalha"
          ],
          [
           "Sem medalha"
          ],
          [
           "Sem medalha"
          ],
          [
           "Sem medalha"
          ],
          [
           "Sem medalha"
          ],
          [
           "Sem medalha"
          ],
          [
           "Sem medalha"
          ],
          [
           "Sem medalha"
          ],
          [
           "Sem medalha"
          ],
          [
           "Sem medalha"
          ],
          [
           "Sem medalha"
          ],
          [
           "Sem medalha"
          ],
          [
           "Sem medalha"
          ],
          [
           "Sem medalha"
          ],
          [
           "Sem medalha"
          ],
          [
           "Sem medalha"
          ],
          [
           "Sem medalha"
          ],
          [
           "Sem medalha"
          ],
          [
           "Sem medalha"
          ],
          [
           "Sem medalha"
          ],
          [
           "Sem medalha"
          ],
          [
           "Sem medalha"
          ],
          [
           "Sem medalha"
          ],
          [
           "Sem medalha"
          ],
          [
           "Sem medalha"
          ],
          [
           "Sem medalha"
          ],
          [
           "Sem medalha"
          ],
          [
           "Sem medalha"
          ],
          [
           "Sem medalha"
          ],
          [
           "Sem medalha"
          ],
          [
           "Sem medalha"
          ],
          [
           "Sem medalha"
          ],
          [
           "Sem medalha"
          ],
          [
           "Sem medalha"
          ],
          [
           "Sem medalha"
          ],
          [
           "Sem medalha"
          ],
          [
           "Sem medalha"
          ],
          [
           "Sem medalha"
          ],
          [
           "Sem medalha"
          ],
          [
           "Sem medalha"
          ],
          [
           "Sem medalha"
          ],
          [
           "Sem medalha"
          ],
          [
           "Sem medalha"
          ],
          [
           "Sem medalha"
          ],
          [
           "Sem medalha"
          ],
          [
           "Sem medalha"
          ],
          [
           "Sem medalha"
          ],
          [
           "Sem medalha"
          ],
          [
           "Sem medalha"
          ],
          [
           "Sem medalha"
          ],
          [
           "Sem medalha"
          ],
          [
           "Sem medalha"
          ],
          [
           "Sem medalha"
          ],
          [
           "Sem medalha"
          ],
          [
           "Sem medalha"
          ],
          [
           "Sem medalha"
          ],
          [
           "Sem medalha"
          ],
          [
           "Sem medalha"
          ],
          [
           "Sem medalha"
          ],
          [
           "Sem medalha"
          ],
          [
           "Sem medalha"
          ],
          [
           "Sem medalha"
          ],
          [
           "Sem medalha"
          ],
          [
           "Sem medalha"
          ],
          [
           "Sem medalha"
          ],
          [
           "Sem medalha"
          ],
          [
           "Sem medalha"
          ],
          [
           "Sem medalha"
          ],
          [
           "Sem medalha"
          ],
          [
           "Sem medalha"
          ],
          [
           "Sem medalha"
          ],
          [
           "Sem medalha"
          ],
          [
           "Sem medalha"
          ],
          [
           "Sem medalha"
          ],
          [
           "Sem medalha"
          ],
          [
           "Sem medalha"
          ],
          [
           "Sem medalha"
          ],
          [
           "Sem medalha"
          ],
          [
           "Sem medalha"
          ],
          [
           "Sem medalha"
          ],
          [
           "Sem medalha"
          ],
          [
           "Sem medalha"
          ],
          [
           "Sem medalha"
          ],
          [
           "Sem medalha"
          ],
          [
           "Sem medalha"
          ],
          [
           "Sem medalha"
          ],
          [
           "Sem medalha"
          ],
          [
           "Sem medalha"
          ],
          [
           "Sem medalha"
          ],
          [
           "Sem medalha"
          ],
          [
           "Sem medalha"
          ],
          [
           "Sem medalha"
          ],
          [
           "Sem medalha"
          ],
          [
           "Sem medalha"
          ],
          [
           "Sem medalha"
          ],
          [
           "Sem medalha"
          ],
          [
           "Sem medalha"
          ],
          [
           "Sem medalha"
          ],
          [
           "Sem medalha"
          ],
          [
           "Sem medalha"
          ],
          [
           "Sem medalha"
          ],
          [
           "Sem medalha"
          ],
          [
           "Sem medalha"
          ],
          [
           "Sem medalha"
          ],
          [
           "Sem medalha"
          ],
          [
           "Sem medalha"
          ],
          [
           "Sem medalha"
          ],
          [
           "Sem medalha"
          ],
          [
           "Sem medalha"
          ],
          [
           "Sem medalha"
          ],
          [
           "Sem medalha"
          ],
          [
           "Sem medalha"
          ],
          [
           "Sem medalha"
          ],
          [
           "Sem medalha"
          ],
          [
           "Sem medalha"
          ],
          [
           "Sem medalha"
          ],
          [
           "Sem medalha"
          ],
          [
           "Sem medalha"
          ],
          [
           "Sem medalha"
          ],
          [
           "Sem medalha"
          ],
          [
           "Sem medalha"
          ],
          [
           "Sem medalha"
          ],
          [
           "Sem medalha"
          ],
          [
           "Sem medalha"
          ],
          [
           "Sem medalha"
          ],
          [
           "Sem medalha"
          ],
          [
           "Sem medalha"
          ],
          [
           "Sem medalha"
          ],
          [
           "Sem medalha"
          ],
          [
           "Sem medalha"
          ],
          [
           "Sem medalha"
          ],
          [
           "Sem medalha"
          ],
          [
           "Sem medalha"
          ],
          [
           "Sem medalha"
          ],
          [
           "Sem medalha"
          ],
          [
           "Sem medalha"
          ],
          [
           "Sem medalha"
          ],
          [
           "Sem medalha"
          ],
          [
           "Sem medalha"
          ],
          [
           "Sem medalha"
          ],
          [
           "Sem medalha"
          ],
          [
           "Sem medalha"
          ],
          [
           "Sem medalha"
          ],
          [
           "Sem medalha"
          ],
          [
           "Sem medalha"
          ],
          [
           "Sem medalha"
          ],
          [
           "Sem medalha"
          ],
          [
           "Sem medalha"
          ],
          [
           "Sem medalha"
          ],
          [
           "Sem medalha"
          ],
          [
           "Sem medalha"
          ],
          [
           "Sem medalha"
          ],
          [
           "Sem medalha"
          ],
          [
           "Sem medalha"
          ],
          [
           "Sem medalha"
          ],
          [
           "Sem medalha"
          ],
          [
           "Sem medalha"
          ],
          [
           "Sem medalha"
          ],
          [
           "Sem medalha"
          ],
          [
           "Sem medalha"
          ],
          [
           "Sem medalha"
          ],
          [
           "Sem medalha"
          ],
          [
           "Sem medalha"
          ],
          [
           "Sem medalha"
          ],
          [
           "Sem medalha"
          ],
          [
           "Sem medalha"
          ],
          [
           "Sem medalha"
          ],
          [
           "Sem medalha"
          ],
          [
           "Sem medalha"
          ],
          [
           "Sem medalha"
          ],
          [
           "Sem medalha"
          ],
          [
           "Sem medalha"
          ],
          [
           "Sem medalha"
          ],
          [
           "Sem medalha"
          ],
          [
           "Sem medalha"
          ],
          [
           "Sem medalha"
          ],
          [
           "Sem medalha"
          ],
          [
           "Sem medalha"
          ],
          [
           "Sem medalha"
          ],
          [
           "Sem medalha"
          ],
          [
           "Sem medalha"
          ],
          [
           "Sem medalha"
          ],
          [
           "Sem medalha"
          ],
          [
           "Sem medalha"
          ],
          [
           "Sem medalha"
          ],
          [
           "Sem medalha"
          ],
          [
           "Sem medalha"
          ],
          [
           "Sem medalha"
          ],
          [
           "Sem medalha"
          ],
          [
           "Sem medalha"
          ],
          [
           "Sem medalha"
          ],
          [
           "Sem medalha"
          ],
          [
           "Sem medalha"
          ],
          [
           "Sem medalha"
          ],
          [
           "Sem medalha"
          ],
          [
           "Sem medalha"
          ],
          [
           "Sem medalha"
          ],
          [
           "Sem medalha"
          ],
          [
           "Sem medalha"
          ],
          [
           "Sem medalha"
          ],
          [
           "Sem medalha"
          ],
          [
           "Sem medalha"
          ],
          [
           "Sem medalha"
          ],
          [
           "Sem medalha"
          ],
          [
           "Sem medalha"
          ],
          [
           "Sem medalha"
          ],
          [
           "Sem medalha"
          ],
          [
           "Sem medalha"
          ],
          [
           "Sem medalha"
          ],
          [
           "Sem medalha"
          ],
          [
           "Sem medalha"
          ],
          [
           "Sem medalha"
          ],
          [
           "Sem medalha"
          ],
          [
           "Sem medalha"
          ],
          [
           "Sem medalha"
          ],
          [
           "Sem medalha"
          ],
          [
           "Sem medalha"
          ],
          [
           "Sem medalha"
          ],
          [
           "Sem medalha"
          ],
          [
           "Sem medalha"
          ],
          [
           "Sem medalha"
          ],
          [
           "Sem medalha"
          ],
          [
           "Sem medalha"
          ],
          [
           "Sem medalha"
          ],
          [
           "Sem medalha"
          ],
          [
           "Sem medalha"
          ],
          [
           "Sem medalha"
          ],
          [
           "Sem medalha"
          ],
          [
           "Sem medalha"
          ],
          [
           "Sem medalha"
          ],
          [
           "Sem medalha"
          ],
          [
           "Sem medalha"
          ],
          [
           "Sem medalha"
          ],
          [
           "Sem medalha"
          ],
          [
           "Sem medalha"
          ],
          [
           "Sem medalha"
          ],
          [
           "Sem medalha"
          ],
          [
           "Sem medalha"
          ],
          [
           "Sem medalha"
          ],
          [
           "Sem medalha"
          ],
          [
           "Sem medalha"
          ],
          [
           "Sem medalha"
          ],
          [
           "Sem medalha"
          ],
          [
           "Sem medalha"
          ],
          [
           "Sem medalha"
          ],
          [
           "Sem medalha"
          ],
          [
           "Sem medalha"
          ],
          [
           "Sem medalha"
          ],
          [
           "Sem medalha"
          ],
          [
           "Sem medalha"
          ],
          [
           "Sem medalha"
          ],
          [
           "Sem medalha"
          ],
          [
           "Sem medalha"
          ],
          [
           "Sem medalha"
          ],
          [
           "Sem medalha"
          ],
          [
           "Sem medalha"
          ],
          [
           "Sem medalha"
          ],
          [
           "Sem medalha"
          ],
          [
           "Sem medalha"
          ],
          [
           "Sem medalha"
          ],
          [
           "Sem medalha"
          ],
          [
           "Sem medalha"
          ],
          [
           "Sem medalha"
          ],
          [
           "Sem medalha"
          ],
          [
           "Sem medalha"
          ],
          [
           "Sem medalha"
          ],
          [
           "Sem medalha"
          ],
          [
           "Sem medalha"
          ],
          [
           "Sem medalha"
          ],
          [
           "Sem medalha"
          ],
          [
           "Sem medalha"
          ],
          [
           "Sem medalha"
          ],
          [
           "Sem medalha"
          ],
          [
           "Sem medalha"
          ],
          [
           "Sem medalha"
          ],
          [
           "Sem medalha"
          ],
          [
           "Sem medalha"
          ],
          [
           "Sem medalha"
          ],
          [
           "Sem medalha"
          ],
          [
           "Sem medalha"
          ],
          [
           "Sem medalha"
          ],
          [
           "Sem medalha"
          ],
          [
           "Sem medalha"
          ],
          [
           "Sem medalha"
          ],
          [
           "Sem medalha"
          ],
          [
           "Sem medalha"
          ],
          [
           "Sem medalha"
          ],
          [
           "Sem medalha"
          ],
          [
           "Sem medalha"
          ],
          [
           "Sem medalha"
          ],
          [
           "Sem medalha"
          ],
          [
           "Sem medalha"
          ],
          [
           "Sem medalha"
          ],
          [
           "Sem medalha"
          ],
          [
           "Sem medalha"
          ],
          [
           "Sem medalha"
          ],
          [
           "Sem medalha"
          ],
          [
           "Sem medalha"
          ],
          [
           "Sem medalha"
          ],
          [
           "Sem medalha"
          ],
          [
           "Sem medalha"
          ],
          [
           "Sem medalha"
          ],
          [
           "Sem medalha"
          ],
          [
           "Sem medalha"
          ],
          [
           "Sem medalha"
          ],
          [
           "Sem medalha"
          ],
          [
           "Sem medalha"
          ],
          [
           "Sem medalha"
          ],
          [
           "Sem medalha"
          ],
          [
           "Sem medalha"
          ],
          [
           "Sem medalha"
          ],
          [
           "Sem medalha"
          ],
          [
           "Sem medalha"
          ],
          [
           "Sem medalha"
          ],
          [
           "Sem medalha"
          ],
          [
           "Sem medalha"
          ],
          [
           "Sem medalha"
          ],
          [
           "Sem medalha"
          ],
          [
           "Sem medalha"
          ],
          [
           "Sem medalha"
          ],
          [
           "Sem medalha"
          ],
          [
           "Sem medalha"
          ],
          [
           "Sem medalha"
          ],
          [
           "Sem medalha"
          ],
          [
           "Sem medalha"
          ],
          [
           "Sem medalha"
          ],
          [
           "Sem medalha"
          ],
          [
           "Sem medalha"
          ],
          [
           "Sem medalha"
          ],
          [
           "Sem medalha"
          ],
          [
           "Sem medalha"
          ],
          [
           "Sem medalha"
          ],
          [
           "Sem medalha"
          ],
          [
           "Sem medalha"
          ],
          [
           "Sem medalha"
          ],
          [
           "Sem medalha"
          ],
          [
           "Sem medalha"
          ],
          [
           "Sem medalha"
          ],
          [
           "Sem medalha"
          ],
          [
           "Sem medalha"
          ],
          [
           "Sem medalha"
          ],
          [
           "Sem medalha"
          ],
          [
           "Sem medalha"
          ],
          [
           "Sem medalha"
          ],
          [
           "Sem medalha"
          ],
          [
           "Sem medalha"
          ],
          [
           "Sem medalha"
          ],
          [
           "Sem medalha"
          ],
          [
           "Sem medalha"
          ],
          [
           "Sem medalha"
          ],
          [
           "Sem medalha"
          ],
          [
           "Sem medalha"
          ],
          [
           "Sem medalha"
          ],
          [
           "Sem medalha"
          ],
          [
           "Sem medalha"
          ],
          [
           "Sem medalha"
          ],
          [
           "Sem medalha"
          ],
          [
           "Sem medalha"
          ],
          [
           "Sem medalha"
          ],
          [
           "Sem medalha"
          ],
          [
           "Sem medalha"
          ],
          [
           "Sem medalha"
          ],
          [
           "Sem medalha"
          ],
          [
           "Sem medalha"
          ],
          [
           "Sem medalha"
          ],
          [
           "Sem medalha"
          ],
          [
           "Sem medalha"
          ],
          [
           "Sem medalha"
          ],
          [
           "Sem medalha"
          ],
          [
           "Sem medalha"
          ],
          [
           "Sem medalha"
          ],
          [
           "Sem medalha"
          ],
          [
           "Sem medalha"
          ],
          [
           "Sem medalha"
          ],
          [
           "Sem medalha"
          ],
          [
           "Sem medalha"
          ],
          [
           "Sem medalha"
          ],
          [
           "Sem medalha"
          ],
          [
           "Sem medalha"
          ],
          [
           "Sem medalha"
          ],
          [
           "Sem medalha"
          ],
          [
           "Sem medalha"
          ],
          [
           "Sem medalha"
          ],
          [
           "Sem medalha"
          ],
          [
           "Sem medalha"
          ],
          [
           "Sem medalha"
          ],
          [
           "Sem medalha"
          ],
          [
           "Sem medalha"
          ],
          [
           "Sem medalha"
          ],
          [
           "Sem medalha"
          ],
          [
           "Sem medalha"
          ],
          [
           "Sem medalha"
          ],
          [
           "Sem medalha"
          ],
          [
           "Sem medalha"
          ],
          [
           "Sem medalha"
          ],
          [
           "Sem medalha"
          ],
          [
           "Sem medalha"
          ],
          [
           "Sem medalha"
          ],
          [
           "Sem medalha"
          ],
          [
           "Sem medalha"
          ],
          [
           "Sem medalha"
          ],
          [
           "Sem medalha"
          ],
          [
           "Sem medalha"
          ],
          [
           "Sem medalha"
          ],
          [
           "Sem medalha"
          ],
          [
           "Sem medalha"
          ],
          [
           "Sem medalha"
          ],
          [
           "Sem medalha"
          ],
          [
           "Sem medalha"
          ],
          [
           "Sem medalha"
          ],
          [
           "Sem medalha"
          ],
          [
           "Sem medalha"
          ],
          [
           "Sem medalha"
          ],
          [
           "Sem medalha"
          ],
          [
           "Sem medalha"
          ],
          [
           "Sem medalha"
          ],
          [
           "Sem medalha"
          ],
          [
           "Sem medalha"
          ],
          [
           "Sem medalha"
          ],
          [
           "Sem medalha"
          ],
          [
           "Sem medalha"
          ],
          [
           "Sem medalha"
          ],
          [
           "Sem medalha"
          ],
          [
           "Sem medalha"
          ],
          [
           "Sem medalha"
          ],
          [
           "Sem medalha"
          ],
          [
           "Sem medalha"
          ],
          [
           "Sem medalha"
          ],
          [
           "Sem medalha"
          ],
          [
           "Sem medalha"
          ],
          [
           "Sem medalha"
          ],
          [
           "Sem medalha"
          ],
          [
           "Sem medalha"
          ],
          [
           "Sem medalha"
          ],
          [
           "Sem medalha"
          ],
          [
           "Sem medalha"
          ],
          [
           "Sem medalha"
          ],
          [
           "Sem medalha"
          ],
          [
           "Sem medalha"
          ],
          [
           "Sem medalha"
          ],
          [
           "Sem medalha"
          ],
          [
           "Sem medalha"
          ],
          [
           "Sem medalha"
          ],
          [
           "Sem medalha"
          ],
          [
           "Sem medalha"
          ],
          [
           "Sem medalha"
          ],
          [
           "Sem medalha"
          ],
          [
           "Sem medalha"
          ],
          [
           "Sem medalha"
          ],
          [
           "Sem medalha"
          ],
          [
           "Sem medalha"
          ],
          [
           "Sem medalha"
          ],
          [
           "Sem medalha"
          ],
          [
           "Sem medalha"
          ],
          [
           "Sem medalha"
          ],
          [
           "Sem medalha"
          ],
          [
           "Sem medalha"
          ],
          [
           "Sem medalha"
          ],
          [
           "Sem medalha"
          ],
          [
           "Sem medalha"
          ],
          [
           "Sem medalha"
          ],
          [
           "Sem medalha"
          ],
          [
           "Sem medalha"
          ],
          [
           "Sem medalha"
          ],
          [
           "Sem medalha"
          ],
          [
           "Sem medalha"
          ],
          [
           "Sem medalha"
          ],
          [
           "Sem medalha"
          ],
          [
           "Sem medalha"
          ],
          [
           "Sem medalha"
          ],
          [
           "Sem medalha"
          ],
          [
           "Sem medalha"
          ],
          [
           "Sem medalha"
          ],
          [
           "Sem medalha"
          ],
          [
           "Sem medalha"
          ],
          [
           "Sem medalha"
          ],
          [
           "Sem medalha"
          ],
          [
           "Sem medalha"
          ],
          [
           "Sem medalha"
          ],
          [
           "Sem medalha"
          ],
          [
           "Sem medalha"
          ],
          [
           "Sem medalha"
          ],
          [
           "Sem medalha"
          ],
          [
           "Sem medalha"
          ],
          [
           "Sem medalha"
          ],
          [
           "Sem medalha"
          ],
          [
           "Sem medalha"
          ],
          [
           "Sem medalha"
          ],
          [
           "Sem medalha"
          ],
          [
           "Sem medalha"
          ],
          [
           "Sem medalha"
          ],
          [
           "Sem medalha"
          ],
          [
           "Sem medalha"
          ],
          [
           "Sem medalha"
          ],
          [
           "Sem medalha"
          ],
          [
           "Sem medalha"
          ],
          [
           "Sem medalha"
          ],
          [
           "Sem medalha"
          ],
          [
           "Sem medalha"
          ],
          [
           "Sem medalha"
          ],
          [
           "Sem medalha"
          ],
          [
           "Sem medalha"
          ],
          [
           "Sem medalha"
          ],
          [
           "Sem medalha"
          ],
          [
           "Sem medalha"
          ],
          [
           "Sem medalha"
          ],
          [
           "Sem medalha"
          ],
          [
           "Sem medalha"
          ],
          [
           "Sem medalha"
          ],
          [
           "Sem medalha"
          ],
          [
           "Sem medalha"
          ],
          [
           "Sem medalha"
          ],
          [
           "Sem medalha"
          ],
          [
           "Sem medalha"
          ],
          [
           "Sem medalha"
          ],
          [
           "Sem medalha"
          ],
          [
           "Sem medalha"
          ],
          [
           "Sem medalha"
          ],
          [
           "Sem medalha"
          ],
          [
           "Sem medalha"
          ],
          [
           "Sem medalha"
          ],
          [
           "Sem medalha"
          ],
          [
           "Sem medalha"
          ],
          [
           "Sem medalha"
          ],
          [
           "Sem medalha"
          ],
          [
           "Sem medalha"
          ],
          [
           "Sem medalha"
          ],
          [
           "Sem medalha"
          ],
          [
           "Sem medalha"
          ],
          [
           "Sem medalha"
          ],
          [
           "Sem medalha"
          ],
          [
           "Sem medalha"
          ],
          [
           "Sem medalha"
          ],
          [
           "Sem medalha"
          ],
          [
           "Sem medalha"
          ],
          [
           "Sem medalha"
          ],
          [
           "Sem medalha"
          ],
          [
           "Sem medalha"
          ],
          [
           "Sem medalha"
          ],
          [
           "Sem medalha"
          ],
          [
           "Sem medalha"
          ],
          [
           "Sem medalha"
          ],
          [
           "Sem medalha"
          ],
          [
           "Sem medalha"
          ],
          [
           "Sem medalha"
          ],
          [
           "Sem medalha"
          ],
          [
           "Sem medalha"
          ],
          [
           "Sem medalha"
          ],
          [
           "Sem medalha"
          ],
          [
           "Sem medalha"
          ],
          [
           "Sem medalha"
          ],
          [
           "Sem medalha"
          ],
          [
           "Sem medalha"
          ],
          [
           "Sem medalha"
          ],
          [
           "Sem medalha"
          ],
          [
           "Sem medalha"
          ],
          [
           "Sem medalha"
          ],
          [
           "Sem medalha"
          ],
          [
           "Sem medalha"
          ],
          [
           "Sem medalha"
          ],
          [
           "Sem medalha"
          ],
          [
           "Sem medalha"
          ],
          [
           "Sem medalha"
          ],
          [
           "Sem medalha"
          ],
          [
           "Sem medalha"
          ],
          [
           "Sem medalha"
          ],
          [
           "Sem medalha"
          ],
          [
           "Sem medalha"
          ],
          [
           "Sem medalha"
          ],
          [
           "Sem medalha"
          ],
          [
           "Sem medalha"
          ],
          [
           "Sem medalha"
          ],
          [
           "Sem medalha"
          ],
          [
           "Sem medalha"
          ],
          [
           "Sem medalha"
          ],
          [
           "Sem medalha"
          ],
          [
           "Sem medalha"
          ],
          [
           "Sem medalha"
          ],
          [
           "Sem medalha"
          ],
          [
           "Sem medalha"
          ],
          [
           "Sem medalha"
          ],
          [
           "Sem medalha"
          ],
          [
           "Sem medalha"
          ],
          [
           "Sem medalha"
          ],
          [
           "Sem medalha"
          ],
          [
           "Sem medalha"
          ],
          [
           "Sem medalha"
          ],
          [
           "Sem medalha"
          ],
          [
           "Sem medalha"
          ],
          [
           "Sem medalha"
          ],
          [
           "Sem medalha"
          ],
          [
           "Sem medalha"
          ],
          [
           "Sem medalha"
          ],
          [
           "Sem medalha"
          ],
          [
           "Sem medalha"
          ],
          [
           "Sem medalha"
          ],
          [
           "Sem medalha"
          ],
          [
           "Sem medalha"
          ],
          [
           "Sem medalha"
          ],
          [
           "Sem medalha"
          ],
          [
           "Sem medalha"
          ],
          [
           "Sem medalha"
          ],
          [
           "Sem medalha"
          ],
          [
           "Sem medalha"
          ],
          [
           "Sem medalha"
          ],
          [
           "Sem medalha"
          ],
          [
           "Sem medalha"
          ],
          [
           "Sem medalha"
          ],
          [
           "Sem medalha"
          ],
          [
           "Sem medalha"
          ],
          [
           "Sem medalha"
          ],
          [
           "Sem medalha"
          ],
          [
           "Sem medalha"
          ],
          [
           "Sem medalha"
          ],
          [
           "Sem medalha"
          ],
          [
           "Sem medalha"
          ],
          [
           "Sem medalha"
          ],
          [
           "Sem medalha"
          ],
          [
           "Sem medalha"
          ],
          [
           "Sem medalha"
          ],
          [
           "Sem medalha"
          ],
          [
           "Sem medalha"
          ],
          [
           "Sem medalha"
          ],
          [
           "Sem medalha"
          ],
          [
           "Sem medalha"
          ],
          [
           "Sem medalha"
          ],
          [
           "Sem medalha"
          ],
          [
           "Sem medalha"
          ],
          [
           "Sem medalha"
          ],
          [
           "Sem medalha"
          ],
          [
           "Sem medalha"
          ],
          [
           "Sem medalha"
          ],
          [
           "Sem medalha"
          ],
          [
           "Sem medalha"
          ],
          [
           "Sem medalha"
          ],
          [
           "Sem medalha"
          ],
          [
           "Sem medalha"
          ],
          [
           "Sem medalha"
          ],
          [
           "Sem medalha"
          ],
          [
           "Sem medalha"
          ],
          [
           "Sem medalha"
          ],
          [
           "Sem medalha"
          ],
          [
           "Sem medalha"
          ],
          [
           "Sem medalha"
          ],
          [
           "Sem medalha"
          ],
          [
           "Sem medalha"
          ],
          [
           "Sem medalha"
          ],
          [
           "Sem medalha"
          ],
          [
           "Sem medalha"
          ],
          [
           "Sem medalha"
          ],
          [
           "Sem medalha"
          ],
          [
           "Sem medalha"
          ],
          [
           "Sem medalha"
          ],
          [
           "Sem medalha"
          ],
          [
           "Sem medalha"
          ],
          [
           "Sem medalha"
          ],
          [
           "Sem medalha"
          ],
          [
           "Sem medalha"
          ],
          [
           "Sem medalha"
          ],
          [
           "Sem medalha"
          ],
          [
           "Sem medalha"
          ],
          [
           "Sem medalha"
          ],
          [
           "Sem medalha"
          ],
          [
           "Sem medalha"
          ],
          [
           "Sem medalha"
          ],
          [
           "Sem medalha"
          ],
          [
           "Sem medalha"
          ],
          [
           "Sem medalha"
          ],
          [
           "Sem medalha"
          ],
          [
           "Sem medalha"
          ],
          [
           "Sem medalha"
          ],
          [
           "Sem medalha"
          ],
          [
           "Sem medalha"
          ],
          [
           "Sem medalha"
          ],
          [
           "Sem medalha"
          ],
          [
           "Sem medalha"
          ],
          [
           "Sem medalha"
          ],
          [
           "Sem medalha"
          ],
          [
           "Sem medalha"
          ],
          [
           "Sem medalha"
          ],
          [
           "Sem medalha"
          ],
          [
           "Sem medalha"
          ],
          [
           "Sem medalha"
          ],
          [
           "Sem medalha"
          ],
          [
           "Sem medalha"
          ],
          [
           "Sem medalha"
          ],
          [
           "Sem medalha"
          ],
          [
           "Sem medalha"
          ],
          [
           "Sem medalha"
          ],
          [
           "Sem medalha"
          ],
          [
           "Sem medalha"
          ],
          [
           "Sem medalha"
          ],
          [
           "Sem medalha"
          ],
          [
           "Sem medalha"
          ],
          [
           "Sem medalha"
          ],
          [
           "Sem medalha"
          ],
          [
           "Sem medalha"
          ],
          [
           "Sem medalha"
          ],
          [
           "Sem medalha"
          ],
          [
           "Sem medalha"
          ],
          [
           "Sem medalha"
          ],
          [
           "Sem medalha"
          ],
          [
           "Sem medalha"
          ],
          [
           "Sem medalha"
          ],
          [
           "Sem medalha"
          ],
          [
           "Sem medalha"
          ],
          [
           "Sem medalha"
          ],
          [
           "Sem medalha"
          ],
          [
           "Sem medalha"
          ],
          [
           "Sem medalha"
          ],
          [
           "Sem medalha"
          ],
          [
           "Sem medalha"
          ],
          [
           "Sem medalha"
          ],
          [
           "Sem medalha"
          ],
          [
           "Sem medalha"
          ],
          [
           "Sem medalha"
          ],
          [
           "Sem medalha"
          ],
          [
           "Sem medalha"
          ],
          [
           "Sem medalha"
          ],
          [
           "Sem medalha"
          ],
          [
           "Sem medalha"
          ],
          [
           "Sem medalha"
          ],
          [
           "Sem medalha"
          ],
          [
           "Sem medalha"
          ],
          [
           "Sem medalha"
          ],
          [
           "Sem medalha"
          ],
          [
           "Sem medalha"
          ],
          [
           "Sem medalha"
          ],
          [
           "Sem medalha"
          ],
          [
           "Sem medalha"
          ],
          [
           "Sem medalha"
          ],
          [
           "Sem medalha"
          ],
          [
           "Sem medalha"
          ],
          [
           "Sem medalha"
          ],
          [
           "Sem medalha"
          ],
          [
           "Sem medalha"
          ],
          [
           "Sem medalha"
          ],
          [
           "Sem medalha"
          ],
          [
           "Sem medalha"
          ],
          [
           "Sem medalha"
          ],
          [
           "Sem medalha"
          ],
          [
           "Sem medalha"
          ],
          [
           "Sem medalha"
          ],
          [
           "Sem medalha"
          ],
          [
           "Sem medalha"
          ],
          [
           "Sem medalha"
          ],
          [
           "Sem medalha"
          ],
          [
           "Sem medalha"
          ],
          [
           "Sem medalha"
          ],
          [
           "Sem medalha"
          ],
          [
           "Sem medalha"
          ],
          [
           "Sem medalha"
          ],
          [
           "Sem medalha"
          ],
          [
           "Sem medalha"
          ],
          [
           "Sem medalha"
          ],
          [
           "Sem medalha"
          ],
          [
           "Sem medalha"
          ],
          [
           "Sem medalha"
          ],
          [
           "Sem medalha"
          ],
          [
           "Sem medalha"
          ],
          [
           "Sem medalha"
          ],
          [
           "Sem medalha"
          ],
          [
           "Sem medalha"
          ],
          [
           "Sem medalha"
          ],
          [
           "Sem medalha"
          ],
          [
           "Sem medalha"
          ],
          [
           "Sem medalha"
          ],
          [
           "Sem medalha"
          ],
          [
           "Sem medalha"
          ],
          [
           "Sem medalha"
          ],
          [
           "Sem medalha"
          ],
          [
           "Sem medalha"
          ],
          [
           "Sem medalha"
          ],
          [
           "Sem medalha"
          ],
          [
           "Sem medalha"
          ],
          [
           "Sem medalha"
          ],
          [
           "Sem medalha"
          ],
          [
           "Sem medalha"
          ],
          [
           "Sem medalha"
          ],
          [
           "Sem medalha"
          ],
          [
           "Sem medalha"
          ],
          [
           "Sem medalha"
          ],
          [
           "Sem medalha"
          ],
          [
           "Sem medalha"
          ],
          [
           "Sem medalha"
          ],
          [
           "Sem medalha"
          ],
          [
           "Sem medalha"
          ],
          [
           "Sem medalha"
          ],
          [
           "Sem medalha"
          ],
          [
           "Sem medalha"
          ],
          [
           "Sem medalha"
          ],
          [
           "Sem medalha"
          ],
          [
           "Sem medalha"
          ],
          [
           "Sem medalha"
          ],
          [
           "Sem medalha"
          ],
          [
           "Sem medalha"
          ],
          [
           "Sem medalha"
          ],
          [
           "Sem medalha"
          ],
          [
           "Sem medalha"
          ],
          [
           "Sem medalha"
          ],
          [
           "Sem medalha"
          ],
          [
           "Sem medalha"
          ],
          [
           "Sem medalha"
          ],
          [
           "Sem medalha"
          ],
          [
           "Sem medalha"
          ],
          [
           "Sem medalha"
          ],
          [
           "Sem medalha"
          ],
          [
           "Sem medalha"
          ],
          [
           "Sem medalha"
          ],
          [
           "Sem medalha"
          ],
          [
           "Sem medalha"
          ],
          [
           "Sem medalha"
          ],
          [
           "Sem medalha"
          ],
          [
           "Sem medalha"
          ],
          [
           "Sem medalha"
          ],
          [
           "Sem medalha"
          ],
          [
           "Sem medalha"
          ],
          [
           "Sem medalha"
          ],
          [
           "Sem medalha"
          ],
          [
           "Sem medalha"
          ],
          [
           "Sem medalha"
          ],
          [
           "Sem medalha"
          ],
          [
           "Sem medalha"
          ],
          [
           "Sem medalha"
          ],
          [
           "Sem medalha"
          ],
          [
           "Sem medalha"
          ],
          [
           "Sem medalha"
          ],
          [
           "Sem medalha"
          ],
          [
           "Sem medalha"
          ],
          [
           "Sem medalha"
          ],
          [
           "Sem medalha"
          ],
          [
           "Sem medalha"
          ],
          [
           "Sem medalha"
          ],
          [
           "Sem medalha"
          ],
          [
           "Sem medalha"
          ],
          [
           "Sem medalha"
          ],
          [
           "Sem medalha"
          ],
          [
           "Sem medalha"
          ],
          [
           "Sem medalha"
          ],
          [
           "Sem medalha"
          ],
          [
           "Sem medalha"
          ],
          [
           "Sem medalha"
          ],
          [
           "Sem medalha"
          ],
          [
           "Sem medalha"
          ],
          [
           "Sem medalha"
          ],
          [
           "Sem medalha"
          ],
          [
           "Sem medalha"
          ],
          [
           "Sem medalha"
          ],
          [
           "Sem medalha"
          ],
          [
           "Sem medalha"
          ],
          [
           "Sem medalha"
          ],
          [
           "Sem medalha"
          ],
          [
           "Sem medalha"
          ],
          [
           "Sem medalha"
          ],
          [
           "Sem medalha"
          ],
          [
           "Sem medalha"
          ],
          [
           "Sem medalha"
          ],
          [
           "Sem medalha"
          ],
          [
           "Sem medalha"
          ],
          [
           "Sem medalha"
          ],
          [
           "Sem medalha"
          ],
          [
           "Sem medalha"
          ],
          [
           "Sem medalha"
          ],
          [
           "Sem medalha"
          ],
          [
           "Sem medalha"
          ],
          [
           "Sem medalha"
          ],
          [
           "Sem medalha"
          ],
          [
           "Sem medalha"
          ],
          [
           "Sem medalha"
          ],
          [
           "Sem medalha"
          ],
          [
           "Sem medalha"
          ],
          [
           "Sem medalha"
          ],
          [
           "Sem medalha"
          ],
          [
           "Sem medalha"
          ],
          [
           "Sem medalha"
          ],
          [
           "Sem medalha"
          ],
          [
           "Sem medalha"
          ],
          [
           "Sem medalha"
          ],
          [
           "Sem medalha"
          ],
          [
           "Sem medalha"
          ],
          [
           "Sem medalha"
          ],
          [
           "Sem medalha"
          ],
          [
           "Sem medalha"
          ],
          [
           "Sem medalha"
          ],
          [
           "Sem medalha"
          ],
          [
           "Sem medalha"
          ],
          [
           "Sem medalha"
          ],
          [
           "Sem medalha"
          ],
          [
           "Sem medalha"
          ],
          [
           "Sem medalha"
          ],
          [
           "Sem medalha"
          ],
          [
           "Sem medalha"
          ],
          [
           "Sem medalha"
          ],
          [
           "Sem medalha"
          ],
          [
           "Sem medalha"
          ],
          [
           "Sem medalha"
          ],
          [
           "Sem medalha"
          ],
          [
           "Sem medalha"
          ],
          [
           "Sem medalha"
          ],
          [
           "Sem medalha"
          ],
          [
           "Sem medalha"
          ],
          [
           "Sem medalha"
          ],
          [
           "Sem medalha"
          ],
          [
           "Sem medalha"
          ],
          [
           "Sem medalha"
          ],
          [
           "Sem medalha"
          ],
          [
           "Sem medalha"
          ],
          [
           "Sem medalha"
          ],
          [
           "Sem medalha"
          ],
          [
           "Sem medalha"
          ],
          [
           "Sem medalha"
          ],
          [
           "Sem medalha"
          ],
          [
           "Sem medalha"
          ],
          [
           "Sem medalha"
          ],
          [
           "Sem medalha"
          ],
          [
           "Sem medalha"
          ],
          [
           "Sem medalha"
          ],
          [
           "Sem medalha"
          ],
          [
           "Sem medalha"
          ],
          [
           "Sem medalha"
          ],
          [
           "Sem medalha"
          ],
          [
           "Sem medalha"
          ],
          [
           "Sem medalha"
          ],
          [
           "Sem medalha"
          ],
          [
           "Sem medalha"
          ],
          [
           "Sem medalha"
          ],
          [
           "Sem medalha"
          ],
          [
           "Sem medalha"
          ],
          [
           "Sem medalha"
          ],
          [
           "Sem medalha"
          ],
          [
           "Sem medalha"
          ],
          [
           "Sem medalha"
          ],
          [
           "Sem medalha"
          ],
          [
           "Sem medalha"
          ],
          [
           "Sem medalha"
          ],
          [
           "Sem medalha"
          ],
          [
           "Sem medalha"
          ],
          [
           "Sem medalha"
          ],
          [
           "Sem medalha"
          ],
          [
           "Sem medalha"
          ],
          [
           "Sem medalha"
          ],
          [
           "Sem medalha"
          ],
          [
           "Sem medalha"
          ],
          [
           "Sem medalha"
          ],
          [
           "Sem medalha"
          ],
          [
           "Sem medalha"
          ],
          [
           "Sem medalha"
          ],
          [
           "Sem medalha"
          ],
          [
           "Sem medalha"
          ],
          [
           "Sem medalha"
          ],
          [
           "Sem medalha"
          ],
          [
           "Sem medalha"
          ],
          [
           "Sem medalha"
          ],
          [
           "Sem medalha"
          ],
          [
           "Sem medalha"
          ],
          [
           "Sem medalha"
          ],
          [
           "Sem medalha"
          ],
          [
           "Sem medalha"
          ],
          [
           "Sem medalha"
          ],
          [
           "Sem medalha"
          ],
          [
           "Sem medalha"
          ],
          [
           "Sem medalha"
          ],
          [
           "Sem medalha"
          ],
          [
           "Sem medalha"
          ],
          [
           "Sem medalha"
          ],
          [
           "Sem medalha"
          ],
          [
           "Sem medalha"
          ],
          [
           "Sem medalha"
          ],
          [
           "Sem medalha"
          ],
          [
           "Sem medalha"
          ],
          [
           "Sem medalha"
          ],
          [
           "Sem medalha"
          ],
          [
           "Sem medalha"
          ],
          [
           "Sem medalha"
          ],
          [
           "Sem medalha"
          ],
          [
           "Sem medalha"
          ],
          [
           "Sem medalha"
          ],
          [
           "Sem medalha"
          ],
          [
           "Sem medalha"
          ],
          [
           "Sem medalha"
          ],
          [
           "Sem medalha"
          ],
          [
           "Sem medalha"
          ],
          [
           "Sem medalha"
          ],
          [
           "Sem medalha"
          ],
          [
           "Sem medalha"
          ],
          [
           "Sem medalha"
          ],
          [
           "Sem medalha"
          ],
          [
           "Sem medalha"
          ],
          [
           "Sem medalha"
          ],
          [
           "Sem medalha"
          ],
          [
           "Sem medalha"
          ],
          [
           "Sem medalha"
          ],
          [
           "Sem medalha"
          ],
          [
           "Sem medalha"
          ],
          [
           "Sem medalha"
          ],
          [
           "Sem medalha"
          ],
          [
           "Sem medalha"
          ],
          [
           "Sem medalha"
          ],
          [
           "Sem medalha"
          ],
          [
           "Sem medalha"
          ],
          [
           "Sem medalha"
          ],
          [
           "Sem medalha"
          ],
          [
           "Sem medalha"
          ],
          [
           "Sem medalha"
          ],
          [
           "Sem medalha"
          ],
          [
           "Sem medalha"
          ],
          [
           "Sem medalha"
          ],
          [
           "Sem medalha"
          ],
          [
           "Sem medalha"
          ],
          [
           "Sem medalha"
          ],
          [
           "Sem medalha"
          ],
          [
           "Sem medalha"
          ],
          [
           "Sem medalha"
          ],
          [
           "Sem medalha"
          ],
          [
           "Sem medalha"
          ],
          [
           "Sem medalha"
          ],
          [
           "Sem medalha"
          ],
          [
           "Sem medalha"
          ],
          [
           "Sem medalha"
          ],
          [
           "Sem medalha"
          ],
          [
           "Sem medalha"
          ],
          [
           "Sem medalha"
          ],
          [
           "Sem medalha"
          ],
          [
           "Sem medalha"
          ],
          [
           "Sem medalha"
          ],
          [
           "Sem medalha"
          ],
          [
           "Sem medalha"
          ],
          [
           "Sem medalha"
          ],
          [
           "Sem medalha"
          ],
          [
           "Sem medalha"
          ],
          [
           "Sem medalha"
          ],
          [
           "Sem medalha"
          ],
          [
           "Sem medalha"
          ],
          [
           "Sem medalha"
          ],
          [
           "Sem medalha"
          ],
          [
           "Sem medalha"
          ],
          [
           "Sem medalha"
          ],
          [
           "Sem medalha"
          ],
          [
           "Sem medalha"
          ],
          [
           "Sem medalha"
          ],
          [
           "Sem medalha"
          ],
          [
           "Sem medalha"
          ],
          [
           "Sem medalha"
          ],
          [
           "Sem medalha"
          ],
          [
           "Sem medalha"
          ],
          [
           "Sem medalha"
          ],
          [
           "Sem medalha"
          ],
          [
           "Sem medalha"
          ],
          [
           "Sem medalha"
          ],
          [
           "Sem medalha"
          ],
          [
           "Sem medalha"
          ],
          [
           "Sem medalha"
          ],
          [
           "Sem medalha"
          ],
          [
           "Sem medalha"
          ],
          [
           "Sem medalha"
          ],
          [
           "Sem medalha"
          ],
          [
           "Sem medalha"
          ],
          [
           "Sem medalha"
          ],
          [
           "Sem medalha"
          ],
          [
           "Sem medalha"
          ],
          [
           "Sem medalha"
          ],
          [
           "Sem medalha"
          ],
          [
           "Sem medalha"
          ],
          [
           "Sem medalha"
          ],
          [
           "Sem medalha"
          ],
          [
           "Sem medalha"
          ],
          [
           "Sem medalha"
          ],
          [
           "Sem medalha"
          ],
          [
           "Sem medalha"
          ],
          [
           "Sem medalha"
          ],
          [
           "Sem medalha"
          ],
          [
           "Sem medalha"
          ],
          [
           "Sem medalha"
          ],
          [
           "Sem medalha"
          ],
          [
           "Sem medalha"
          ],
          [
           "Sem medalha"
          ],
          [
           "Sem medalha"
          ],
          [
           "Sem medalha"
          ],
          [
           "Sem medalha"
          ],
          [
           "Sem medalha"
          ],
          [
           "Sem medalha"
          ],
          [
           "Sem medalha"
          ],
          [
           "Sem medalha"
          ],
          [
           "Sem medalha"
          ],
          [
           "Sem medalha"
          ],
          [
           "Sem medalha"
          ],
          [
           "Sem medalha"
          ],
          [
           "Sem medalha"
          ],
          [
           "Sem medalha"
          ],
          [
           "Sem medalha"
          ],
          [
           "Sem medalha"
          ],
          [
           "Sem medalha"
          ],
          [
           "Sem medalha"
          ],
          [
           "Sem medalha"
          ],
          [
           "Sem medalha"
          ],
          [
           "Sem medalha"
          ],
          [
           "Sem medalha"
          ],
          [
           "Sem medalha"
          ],
          [
           "Sem medalha"
          ],
          [
           "Sem medalha"
          ],
          [
           "Sem medalha"
          ],
          [
           "Sem medalha"
          ],
          [
           "Sem medalha"
          ],
          [
           "Sem medalha"
          ],
          [
           "Sem medalha"
          ],
          [
           "Sem medalha"
          ],
          [
           "Sem medalha"
          ],
          [
           "Sem medalha"
          ],
          [
           "Sem medalha"
          ],
          [
           "Sem medalha"
          ],
          [
           "Sem medalha"
          ],
          [
           "Sem medalha"
          ],
          [
           "Sem medalha"
          ],
          [
           "Sem medalha"
          ],
          [
           "Sem medalha"
          ],
          [
           "Sem medalha"
          ],
          [
           "Sem medalha"
          ],
          [
           "Sem medalha"
          ],
          [
           "Sem medalha"
          ],
          [
           "Sem medalha"
          ],
          [
           "Sem medalha"
          ],
          [
           "Sem medalha"
          ],
          [
           "Sem medalha"
          ],
          [
           "Sem medalha"
          ],
          [
           "Sem medalha"
          ],
          [
           "Sem medalha"
          ],
          [
           "Sem medalha"
          ],
          [
           "Sem medalha"
          ],
          [
           "Sem medalha"
          ],
          [
           "Sem medalha"
          ],
          [
           "Sem medalha"
          ],
          [
           "Sem medalha"
          ],
          [
           "Sem medalha"
          ],
          [
           "Sem medalha"
          ],
          [
           "Sem medalha"
          ],
          [
           "Sem medalha"
          ],
          [
           "Sem medalha"
          ],
          [
           "Sem medalha"
          ],
          [
           "Sem medalha"
          ],
          [
           "Sem medalha"
          ],
          [
           "Sem medalha"
          ],
          [
           "Sem medalha"
          ],
          [
           "Sem medalha"
          ],
          [
           "Sem medalha"
          ],
          [
           "Sem medalha"
          ],
          [
           "Sem medalha"
          ],
          [
           "Sem medalha"
          ],
          [
           "Sem medalha"
          ],
          [
           "Sem medalha"
          ],
          [
           "Sem medalha"
          ],
          [
           "Sem medalha"
          ],
          [
           "Sem medalha"
          ],
          [
           "Sem medalha"
          ],
          [
           "Sem medalha"
          ],
          [
           "Sem medalha"
          ],
          [
           "Sem medalha"
          ],
          [
           "Sem medalha"
          ],
          [
           "Sem medalha"
          ],
          [
           "Sem medalha"
          ],
          [
           "Sem medalha"
          ],
          [
           "Sem medalha"
          ],
          [
           "Sem medalha"
          ],
          [
           "Sem medalha"
          ],
          [
           "Sem medalha"
          ],
          [
           "Sem medalha"
          ],
          [
           "Sem medalha"
          ],
          [
           "Sem medalha"
          ],
          [
           "Sem medalha"
          ],
          [
           "Sem medalha"
          ],
          [
           "Sem medalha"
          ],
          [
           "Sem medalha"
          ],
          [
           "Sem medalha"
          ],
          [
           "Sem medalha"
          ],
          [
           "Sem medalha"
          ],
          [
           "Sem medalha"
          ],
          [
           "Sem medalha"
          ],
          [
           "Sem medalha"
          ],
          [
           "Sem medalha"
          ],
          [
           "Sem medalha"
          ],
          [
           "Sem medalha"
          ],
          [
           "Sem medalha"
          ],
          [
           "Sem medalha"
          ],
          [
           "Sem medalha"
          ],
          [
           "Sem medalha"
          ],
          [
           "Sem medalha"
          ],
          [
           "Sem medalha"
          ],
          [
           "Sem medalha"
          ],
          [
           "Sem medalha"
          ],
          [
           "Sem medalha"
          ],
          [
           "Sem medalha"
          ],
          [
           "Sem medalha"
          ],
          [
           "Sem medalha"
          ],
          [
           "Sem medalha"
          ],
          [
           "Sem medalha"
          ],
          [
           "Sem medalha"
          ],
          [
           "Sem medalha"
          ],
          [
           "Sem medalha"
          ],
          [
           "Sem medalha"
          ],
          [
           "Sem medalha"
          ],
          [
           "Sem medalha"
          ],
          [
           "Sem medalha"
          ],
          [
           "Sem medalha"
          ],
          [
           "Sem medalha"
          ],
          [
           "Sem medalha"
          ],
          [
           "Sem medalha"
          ],
          [
           "Sem medalha"
          ],
          [
           "Sem medalha"
          ],
          [
           "Sem medalha"
          ],
          [
           "Sem medalha"
          ],
          [
           "Sem medalha"
          ],
          [
           "Sem medalha"
          ],
          [
           "Sem medalha"
          ],
          [
           "Sem medalha"
          ],
          [
           "Sem medalha"
          ],
          [
           "Sem medalha"
          ],
          [
           "Sem medalha"
          ],
          [
           "Sem medalha"
          ],
          [
           "Sem medalha"
          ],
          [
           "Sem medalha"
          ],
          [
           "Sem medalha"
          ],
          [
           "Sem medalha"
          ],
          [
           "Sem medalha"
          ],
          [
           "Sem medalha"
          ],
          [
           "Sem medalha"
          ],
          [
           "Sem medalha"
          ],
          [
           "Sem medalha"
          ],
          [
           "Sem medalha"
          ],
          [
           "Sem medalha"
          ],
          [
           "Sem medalha"
          ],
          [
           "Sem medalha"
          ],
          [
           "Sem medalha"
          ],
          [
           "Sem medalha"
          ],
          [
           "Sem medalha"
          ],
          [
           "Sem medalha"
          ],
          [
           "Sem medalha"
          ],
          [
           "Sem medalha"
          ],
          [
           "Sem medalha"
          ],
          [
           "Sem medalha"
          ],
          [
           "Sem medalha"
          ],
          [
           "Sem medalha"
          ],
          [
           "Sem medalha"
          ],
          [
           "Sem medalha"
          ],
          [
           "Sem medalha"
          ],
          [
           "Sem medalha"
          ],
          [
           "Sem medalha"
          ],
          [
           "Sem medalha"
          ],
          [
           "Sem medalha"
          ],
          [
           "Sem medalha"
          ],
          [
           "Sem medalha"
          ],
          [
           "Sem medalha"
          ],
          [
           "Sem medalha"
          ],
          [
           "Sem medalha"
          ],
          [
           "Sem medalha"
          ],
          [
           "Sem medalha"
          ],
          [
           "Sem medalha"
          ],
          [
           "Sem medalha"
          ],
          [
           "Sem medalha"
          ],
          [
           "Sem medalha"
          ],
          [
           "Sem medalha"
          ],
          [
           "Sem medalha"
          ],
          [
           "Sem medalha"
          ],
          [
           "Sem medalha"
          ],
          [
           "Sem medalha"
          ],
          [
           "Sem medalha"
          ],
          [
           "Sem medalha"
          ],
          [
           "Sem medalha"
          ],
          [
           "Sem medalha"
          ],
          [
           "Sem medalha"
          ],
          [
           "Sem medalha"
          ],
          [
           "Sem medalha"
          ],
          [
           "Sem medalha"
          ],
          [
           "Sem medalha"
          ],
          [
           "Sem medalha"
          ],
          [
           "Sem medalha"
          ],
          [
           "Sem medalha"
          ],
          [
           "Sem medalha"
          ],
          [
           "Sem medalha"
          ],
          [
           "Sem medalha"
          ],
          [
           "Sem medalha"
          ],
          [
           "Sem medalha"
          ],
          [
           "Sem medalha"
          ],
          [
           "Sem medalha"
          ],
          [
           "Sem medalha"
          ],
          [
           "Sem medalha"
          ],
          [
           "Sem medalha"
          ],
          [
           "Sem medalha"
          ],
          [
           "Sem medalha"
          ],
          [
           "Sem medalha"
          ],
          [
           "Sem medalha"
          ],
          [
           "Sem medalha"
          ],
          [
           "Sem medalha"
          ],
          [
           "Sem medalha"
          ],
          [
           "Sem medalha"
          ],
          [
           "Sem medalha"
          ],
          [
           "Sem medalha"
          ],
          [
           "Sem medalha"
          ],
          [
           "Sem medalha"
          ],
          [
           "Sem medalha"
          ],
          [
           "Sem medalha"
          ],
          [
           "Sem medalha"
          ],
          [
           "Sem medalha"
          ],
          [
           "Sem medalha"
          ],
          [
           "Sem medalha"
          ],
          [
           "Sem medalha"
          ],
          [
           "Sem medalha"
          ],
          [
           "Sem medalha"
          ],
          [
           "Sem medalha"
          ],
          [
           "Sem medalha"
          ],
          [
           "Sem medalha"
          ],
          [
           "Sem medalha"
          ],
          [
           "Sem medalha"
          ],
          [
           "Sem medalha"
          ],
          [
           "Sem medalha"
          ],
          [
           "Sem medalha"
          ],
          [
           "Sem medalha"
          ],
          [
           "Sem medalha"
          ],
          [
           "Sem medalha"
          ],
          [
           "Sem medalha"
          ],
          [
           "Sem medalha"
          ],
          [
           "Sem medalha"
          ],
          [
           "Sem medalha"
          ],
          [
           "Sem medalha"
          ],
          [
           "Sem medalha"
          ],
          [
           "Sem medalha"
          ],
          [
           "Sem medalha"
          ],
          [
           "Sem medalha"
          ],
          [
           "Sem medalha"
          ],
          [
           "Sem medalha"
          ],
          [
           "Sem medalha"
          ],
          [
           "Sem medalha"
          ],
          [
           "Sem medalha"
          ],
          [
           "Sem medalha"
          ],
          [
           "Sem medalha"
          ],
          [
           "Sem medalha"
          ],
          [
           "Sem medalha"
          ],
          [
           "Sem medalha"
          ],
          [
           "Sem medalha"
          ],
          [
           "Sem medalha"
          ],
          [
           "Sem medalha"
          ],
          [
           "Sem medalha"
          ],
          [
           "Sem medalha"
          ],
          [
           "Sem medalha"
          ],
          [
           "Sem medalha"
          ],
          [
           "Sem medalha"
          ],
          [
           "Sem medalha"
          ],
          [
           "Sem medalha"
          ],
          [
           "Sem medalha"
          ],
          [
           "Sem medalha"
          ],
          [
           "Sem medalha"
          ],
          [
           "Sem medalha"
          ],
          [
           "Sem medalha"
          ],
          [
           "Sem medalha"
          ],
          [
           "Sem medalha"
          ],
          [
           "Sem medalha"
          ],
          [
           "Sem medalha"
          ],
          [
           "Sem medalha"
          ],
          [
           "Sem medalha"
          ],
          [
           "Sem medalha"
          ],
          [
           "Sem medalha"
          ],
          [
           "Sem medalha"
          ],
          [
           "Sem medalha"
          ],
          [
           "Sem medalha"
          ],
          [
           "Sem medalha"
          ],
          [
           "Sem medalha"
          ],
          [
           "Sem medalha"
          ],
          [
           "Sem medalha"
          ],
          [
           "Sem medalha"
          ],
          [
           "Sem medalha"
          ],
          [
           "Sem medalha"
          ],
          [
           "Sem medalha"
          ],
          [
           "Sem medalha"
          ],
          [
           "Sem medalha"
          ],
          [
           "Sem medalha"
          ],
          [
           "Sem medalha"
          ],
          [
           "Sem medalha"
          ],
          [
           "Sem medalha"
          ],
          [
           "Sem medalha"
          ],
          [
           "Sem medalha"
          ],
          [
           "Sem medalha"
          ],
          [
           "Sem medalha"
          ],
          [
           "Sem medalha"
          ],
          [
           "Sem medalha"
          ],
          [
           "Sem medalha"
          ],
          [
           "Sem medalha"
          ],
          [
           "Sem medalha"
          ],
          [
           "Sem medalha"
          ],
          [
           "Sem medalha"
          ],
          [
           "Sem medalha"
          ],
          [
           "Sem medalha"
          ],
          [
           "Sem medalha"
          ],
          [
           "Sem medalha"
          ],
          [
           "Sem medalha"
          ],
          [
           "Sem medalha"
          ],
          [
           "Sem medalha"
          ],
          [
           "Sem medalha"
          ],
          [
           "Sem medalha"
          ],
          [
           "Sem medalha"
          ],
          [
           "Sem medalha"
          ],
          [
           "Sem medalha"
          ],
          [
           "Sem medalha"
          ],
          [
           "Sem medalha"
          ],
          [
           "Sem medalha"
          ],
          [
           "Sem medalha"
          ],
          [
           "Sem medalha"
          ],
          [
           "Sem medalha"
          ],
          [
           "Sem medalha"
          ]
         ],
         "hovertemplate": "<b>%{hovertext}</b><br><br>Sex=M<br>Medal=%{customdata[0]}<br>Year=%{x}<br>Height=%{y}<extra></extra>",
         "hovertext": [
          "Volleyball",
          "Volleyball",
          "Football",
          "Boxing",
          "Water Polo",
          "Tennis",
          "Handball",
          "Football",
          "Football",
          "Basketball",
          "Basketball",
          "Basketball",
          "Sailing",
          "Sailing",
          "Sailing",
          "Sailing",
          "Sailing",
          "Handball",
          "Handball",
          "Basketball",
          "Fencing",
          "Fencing",
          "Fencing",
          "Fencing",
          "Handball",
          "Basketball",
          "Football",
          "Sailing",
          "Sailing",
          "Rugby Sevens",
          "Boxing",
          "Fencing",
          "Fencing",
          "Fencing",
          "Fencing",
          "Football",
          "Basketball",
          "Basketball",
          "Football",
          "Swimming",
          "Swimming",
          "Handball",
          "Shooting",
          "Shooting",
          "Shooting",
          "Shooting",
          "Shooting",
          "Swimming",
          "Swimming",
          "Swimming",
          "Swimming",
          "Swimming",
          "Swimming",
          "Swimming",
          "Swimming",
          "Swimming",
          "Swimming",
          "Equestrianism",
          "Equestrianism",
          "Rowing",
          "Basketball",
          "Rowing",
          "Rowing",
          "Rowing",
          "Water Polo",
          "Rowing",
          "Cycling",
          "Cycling",
          "Football",
          "Athletics",
          "Boxing",
          "Sailing",
          "Swimming",
          "Volleyball",
          "Volleyball",
          "Basketball",
          "Water Polo",
          "Swimming",
          "Water Polo",
          "Cycling",
          "Cycling",
          "Boxing",
          "Trampolining",
          "Boxing",
          "Basketball",
          "Athletics",
          "Athletics",
          "Athletics",
          "Basketball",
          "Basketball",
          "Football",
          "Water Polo",
          "Basketball",
          "Basketball",
          "Alpine Skiing",
          "Alpine Skiing",
          "Alpine Skiing",
          "Alpine Skiing",
          "Equestrianism",
          "Equestrianism",
          "Judo",
          "Swimming",
          "Swimming",
          "Swimming",
          "Swimming",
          "Swimming",
          "Swimming",
          "Rowing",
          "Swimming",
          "Swimming",
          "Swimming",
          "Swimming",
          "Swimming",
          "Swimming",
          "Swimming",
          "Swimming",
          "Athletics",
          "Athletics",
          "Cycling",
          "Cycling",
          "Cycling",
          "Cycling",
          "Football",
          "Sailing",
          "Sailing",
          "Sailing",
          "Swimming",
          "Volleyball",
          "Sailing",
          "Football",
          "Cycling",
          "Fencing",
          "Fencing",
          "Sailing",
          "Swimming",
          "Swimming",
          "Archery",
          "Cycling",
          "Water Polo",
          "Volleyball",
          "Rowing",
          "Rowing",
          "Athletics",
          "Athletics",
          "Athletics",
          "Football",
          "Basketball",
          "Handball",
          "Athletics",
          "Rowing",
          "Athletics",
          "Weightlifting",
          "Weightlifting",
          "Weightlifting",
          "Shooting",
          "Swimming",
          "Swimming",
          "Swimming",
          "Athletics",
          "Athletics",
          "Athletics",
          "Athletics",
          "Athletics",
          "Athletics",
          "Basketball",
          "Basketball",
          "Triathlon",
          "Equestrianism",
          "Equestrianism",
          "Gymnastics",
          "Gymnastics",
          "Gymnastics",
          "Gymnastics",
          "Gymnastics",
          "Gymnastics",
          "Gymnastics",
          "Boxing",
          "Shooting",
          "Shooting",
          "Football",
          "Hockey",
          "Volleyball",
          "Volleyball",
          "Swimming",
          "Swimming",
          "Swimming",
          "Modern Pentathlon",
          "Water Polo",
          "Tennis",
          "Tennis",
          "Tennis",
          "Basketball",
          "Sailing",
          "Rowing",
          "Sailing",
          "Sailing",
          "Sailing",
          "Sailing",
          "Rugby Sevens",
          "Volleyball",
          "Volleyball",
          "Volleyball",
          "Athletics",
          "Sailing",
          "Fencing",
          "Fencing",
          "Sailing",
          "Sailing",
          "Sailing",
          "Football",
          "Sailing",
          "Sailing",
          "Sailing",
          "Sailing",
          "Sailing",
          "Bobsleigh",
          "Bobsleigh",
          "Bobsleigh",
          "Basketball",
          "Basketball",
          "Equestrianism",
          "Equestrianism",
          "Swimming",
          "Swimming",
          "Swimming",
          "Swimming",
          "Football",
          "Basketball",
          "Hockey",
          "Swimming",
          "Swimming",
          "Athletics",
          "Athletics",
          "Athletics",
          "Athletics",
          "Athletics",
          "Water Polo",
          "Modern Pentathlon",
          "Modern Pentathlon",
          "Modern Pentathlon",
          "Water Polo",
          "Canoeing",
          "Sailing",
          "Swimming",
          "Swimming",
          "Swimming",
          "Swimming",
          "Swimming",
          "Swimming",
          "Swimming",
          "Swimming",
          "Swimming",
          "Hockey",
          "Boxing",
          "Volleyball",
          "Volleyball",
          "Modern Pentathlon",
          "Modern Pentathlon",
          "Shooting",
          "Cycling",
          "Shooting",
          "Shooting",
          "Shooting",
          "Diving",
          "Diving",
          "Diving",
          "Rowing",
          "Water Polo",
          "Rowing",
          "Football",
          "Basketball",
          "Athletics",
          "Handball",
          "Sailing",
          "Sailing",
          "Sailing",
          "Sailing",
          "Sailing",
          "Sailing",
          "Sailing",
          "Sailing",
          "Athletics",
          "Diving",
          "Diving",
          "Judo",
          "Athletics",
          "Swimming",
          "Handball",
          "Basketball",
          "Basketball",
          "Basketball",
          "Basketball",
          "Basketball",
          "Equestrianism",
          "Equestrianism",
          "Athletics",
          "Athletics",
          "Table Tennis",
          "Table Tennis",
          "Fencing",
          "Rowing",
          "Judo",
          "Judo",
          "Water Polo",
          "Rowing",
          "Handball",
          "Judo",
          "Shooting",
          "Shooting",
          "Shooting",
          "Football",
          "Athletics",
          "Handball",
          "Judo",
          "Basketball",
          "Basketball",
          "Volleyball",
          "Water Polo",
          "Football",
          "Football",
          "Football",
          "Judo",
          "Judo",
          "Judo",
          "Handball",
          "Equestrianism",
          "Equestrianism",
          "Athletics",
          "Water Polo",
          "Water Polo",
          "Water Polo",
          "Swimming",
          "Swimming",
          "Swimming",
          "Boxing",
          "Shooting",
          "Shooting",
          "Water Polo",
          "Swimming",
          "Swimming",
          "Shooting",
          "Swimming",
          "Swimming",
          "Swimming",
          "Swimming",
          "Swimming",
          "Swimming",
          "Swimming",
          "Swimming",
          "Judo",
          "Modern Pentathlon",
          "Volleyball",
          "Canoeing",
          "Canoeing",
          "Shooting",
          "Equestrianism",
          "Boxing",
          "Athletics",
          "Football",
          "Swimming",
          "Swimming",
          "Boxing",
          "Weightlifting",
          "Water Polo",
          "Athletics",
          "Athletics",
          "Judo",
          "Football",
          "Swimming",
          "Swimming",
          "Swimming",
          "Swimming",
          "Swimming",
          "Football",
          "Football",
          "Handball",
          "Athletics",
          "Football",
          "Handball",
          "Water Polo",
          "Swimming",
          "Swimming",
          "Rugby Sevens",
          "Athletics",
          "Water Polo",
          "Modern Pentathlon",
          "Equestrianism",
          "Equestrianism",
          "Triathlon",
          "Triathlon",
          "Boxing",
          "Boxing",
          "Boxing",
          "Sailing",
          "Sailing",
          "Sailing",
          "Swimming",
          "Sailing",
          "Basketball",
          "Canoeing",
          "Judo",
          "Judo",
          "Athletics",
          "Athletics",
          "Athletics",
          "Athletics",
          "Rowing",
          "Swimming",
          "Swimming",
          "Athletics",
          "Athletics",
          "Rugby Sevens",
          "Fencing",
          "Fencing",
          "Sailing",
          "Fencing",
          "Fencing",
          "Fencing",
          "Boxing",
          "Water Polo",
          "Cycling",
          "Athletics",
          "Athletics",
          "Athletics",
          "Water Polo",
          "Water Polo",
          "Canoeing",
          "Canoeing",
          "Canoeing",
          "Canoeing",
          "Canoeing",
          "Canoeing",
          "Canoeing",
          "Canoeing",
          "Canoeing",
          "Judo",
          "Judo",
          "Athletics",
          "Athletics",
          "Athletics",
          "Athletics",
          "Athletics",
          "Volleyball",
          "Volleyball",
          "Athletics",
          "Water Polo",
          "Athletics",
          "Water Polo",
          "Rowing",
          "Sailing",
          "Sailing",
          "Sailing",
          "Swimming",
          "Swimming",
          "Equestrianism",
          "Equestrianism",
          "Equestrianism",
          "Equestrianism",
          "Basketball",
          "Equestrianism",
          "Equestrianism",
          "Modern Pentathlon",
          "Equestrianism",
          "Equestrianism",
          "Equestrianism",
          "Athletics",
          "Athletics",
          "Golf",
          "Athletics",
          "Athletics",
          "Athletics",
          "Athletics",
          "Athletics",
          "Athletics",
          "Athletics",
          "Athletics",
          "Athletics",
          "Athletics",
          "Athletics",
          "Athletics",
          "Athletics",
          "Athletics",
          "Athletics",
          "Athletics",
          "Bobsleigh",
          "Athletics",
          "Athletics",
          "Taekwondo",
          "Taekwondo",
          "Canoeing",
          "Canoeing",
          "Athletics",
          "Athletics",
          "Athletics",
          "Athletics",
          "Athletics",
          "Athletics",
          "Athletics",
          "Athletics",
          "Boxing",
          "Handball",
          "Athletics",
          "Athletics",
          "Athletics",
          "Athletics",
          "Athletics",
          "Athletics",
          "Athletics",
          "Athletics",
          "Art Competitions",
          "Swimming",
          "Swimming",
          "Water Polo",
          "Athletics",
          "Athletics",
          "Modern Pentathlon",
          "Modern Pentathlon",
          "Equestrianism",
          "Equestrianism",
          "Basketball",
          "Canoeing",
          "Athletics",
          "Athletics",
          "Athletics",
          "Athletics",
          "Athletics",
          "Athletics",
          "Athletics",
          "Athletics",
          "Athletics",
          "Athletics",
          "Athletics",
          "Basketball",
          "Boxing",
          "Boxing",
          "Athletics",
          "Athletics",
          "Athletics",
          "Athletics",
          "Shooting",
          "Basketball",
          "Boxing",
          "Cycling",
          "Water Polo",
          "Water Polo",
          "Tennis",
          "Volleyball",
          "Weightlifting",
          "Weightlifting",
          "Weightlifting",
          "Volleyball",
          "Football",
          "Athletics",
          "Athletics",
          "Archery",
          "Archery",
          "Swimming",
          "Swimming",
          "Rowing",
          "Equestrianism",
          "Rowing",
          "Athletics",
          "Water Polo",
          "Athletics",
          "Athletics",
          "Athletics",
          "Weightlifting",
          "Weightlifting",
          "Athletics",
          "Athletics",
          "Athletics",
          "Athletics",
          "Athletics",
          "Athletics",
          "Athletics",
          "Sailing",
          "Equestrianism",
          "Volleyball",
          "Volleyball",
          "Basketball",
          "Equestrianism",
          "Equestrianism",
          "Athletics",
          "Athletics",
          "Athletics",
          "Athletics",
          "Athletics",
          "Fencing",
          "Fencing",
          "Athletics",
          "Athletics",
          "Athletics",
          "Rowing",
          "Rowing",
          "Rowing",
          "Rowing",
          "Athletics",
          "Boxing",
          "Boxing",
          "Boxing",
          "Rowing",
          "Rowing",
          "Rowing",
          "Rowing",
          "Rowing",
          "Rowing",
          "Rowing",
          "Rowing",
          "Rowing",
          "Diving",
          "Diving",
          "Diving",
          "Diving",
          "Rowing",
          "Athletics",
          "Athletics",
          "Athletics",
          "Swimming",
          "Swimming",
          "Swimming",
          "Swimming",
          "Equestrianism",
          "Shooting",
          "Athletics",
          "Basketball",
          "Rowing",
          "Equestrianism",
          "Equestrianism",
          "Boxing",
          "Boxing",
          "Boxing",
          "Boxing",
          "Boxing",
          "Athletics",
          "Athletics",
          "Cycling",
          "Cycling",
          "Athletics",
          "Athletics",
          "Athletics",
          "Athletics",
          "Athletics",
          "Athletics",
          "Water Polo",
          "Swimming",
          "Swimming",
          "Swimming",
          "Triathlon",
          "Triathlon",
          "Equestrianism",
          "Boxing",
          "Diving",
          "Modern Pentathlon",
          "Modern Pentathlon",
          "Rowing",
          "Equestrianism",
          "Equestrianism",
          "Equestrianism",
          "Equestrianism",
          "Equestrianism",
          "Equestrianism",
          "Athletics",
          "Athletics",
          "Athletics",
          "Weightlifting",
          "Athletics",
          "Athletics",
          "Athletics",
          "Athletics",
          "Volleyball",
          "Fencing",
          "Fencing",
          "Fencing",
          "Fencing",
          "Athletics",
          "Athletics",
          "Athletics",
          "Volleyball",
          "Athletics",
          "Athletics",
          "Athletics",
          "Shooting",
          "Athletics",
          "Athletics",
          "Athletics",
          "Boxing",
          "Swimming",
          "Swimming",
          "Swimming",
          "Swimming",
          "Rowing",
          "Swimming",
          "Fencing",
          "Fencing",
          "Fencing",
          "Basketball",
          "Volleyball",
          "Equestrianism",
          "Athletics",
          "Athletics",
          "Athletics",
          "Rowing",
          "Shooting",
          "Shooting",
          "Weightlifting",
          "Weightlifting",
          "Equestrianism",
          "Equestrianism",
          "Weightlifting",
          "Shooting",
          "Shooting",
          "Athletics",
          "Sailing",
          "Sailing",
          "Rowing",
          "Athletics",
          "Athletics",
          "Athletics",
          "Athletics",
          "Athletics",
          "Athletics",
          "Volleyball",
          "Athletics",
          "Athletics",
          "Athletics",
          "Basketball",
          "Athletics",
          "Athletics",
          "Athletics",
          "Equestrianism",
          "Rowing",
          "Athletics",
          "Equestrianism",
          "Equestrianism",
          "Handball",
          "Water Polo",
          "Football",
          "Boxing",
          "Volleyball",
          "Swimming",
          "Swimming",
          "Swimming",
          "Swimming",
          "Swimming",
          "Swimming",
          "Swimming",
          "Swimming",
          "Football",
          "Judo",
          "Alpine Skiing",
          "Boxing",
          "Boxing",
          "Football",
          "Sailing",
          "Sailing",
          "Sailing",
          "Sailing",
          "Football",
          "Boxing",
          "Rowing",
          "Football",
          "Fencing",
          "Fencing",
          "Fencing",
          "Fencing",
          "Shooting",
          "Swimming",
          "Swimming",
          "Athletics",
          "Athletics",
          "Boxing",
          "Equestrianism",
          "Equestrianism",
          "Equestrianism",
          "Equestrianism",
          "Equestrianism",
          "Equestrianism",
          "Equestrianism",
          "Equestrianism",
          "Basketball",
          "Athletics",
          "Volleyball",
          "Athletics",
          "Athletics",
          "Cycling",
          "Cycling",
          "Cycling",
          "Athletics",
          "Athletics",
          "Swimming",
          "Modern Pentathlon",
          "Athletics",
          "Athletics",
          "Athletics",
          "Rowing",
          "Athletics",
          "Rowing",
          "Athletics",
          "Athletics",
          "Athletics",
          "Water Polo",
          "Water Polo",
          "Water Polo",
          "Athletics",
          "Athletics",
          "Athletics",
          "Athletics",
          "Athletics",
          "Athletics",
          "Athletics",
          "Athletics",
          "Athletics",
          "Basketball",
          "Judo",
          "Water Polo",
          "Swimming",
          "Swimming",
          "Swimming",
          "Handball",
          "Athletics",
          "Boxing",
          "Athletics",
          "Athletics",
          "Athletics",
          "Athletics",
          "Boxing",
          "Shooting",
          "Shooting",
          "Shooting",
          "Shooting",
          "Athletics",
          "Athletics",
          "Athletics",
          "Volleyball",
          "Equestrianism",
          "Equestrianism",
          "Shooting",
          "Swimming",
          "Sailing",
          "Sailing",
          "Modern Pentathlon",
          "Athletics",
          "Athletics",
          "Fencing",
          "Fencing",
          "Fencing",
          "Fencing",
          "Fencing",
          "Volleyball",
          "Rugby Sevens",
          "Rugby Sevens",
          "Diving",
          "Diving",
          "Diving",
          "Diving",
          "Football",
          "Handball",
          "Tennis",
          "Archery",
          "Archery",
          "Archery",
          "Archery",
          "Rowing",
          "Football",
          "Football",
          "Basketball",
          "Football",
          "Football",
          "Alpine Skiing",
          "Alpine Skiing",
          "Alpine Skiing",
          "Football",
          "Rowing",
          "Football",
          "Sailing",
          "Swimming",
          "Athletics",
          "Football",
          "Football",
          "Football",
          "Boxing",
          "Basketball",
          "Basketball",
          "Football",
          "Rowing",
          "Rowing",
          "Hockey",
          "Basketball",
          "Rowing",
          "Volleyball",
          "Volleyball",
          "Basketball",
          "Volleyball",
          "Rowing",
          "Rowing",
          "Equestrianism",
          "Equestrianism",
          "Equestrianism",
          "Equestrianism",
          "Basketball",
          "Cycling",
          "Weightlifting",
          "Athletics",
          "Athletics",
          "Athletics",
          "Athletics",
          "Cycling",
          "Sailing",
          "Fencing",
          "Fencing",
          "Equestrianism",
          "Equestrianism",
          "Equestrianism",
          "Equestrianism",
          "Equestrianism",
          "Equestrianism",
          "Equestrianism",
          "Equestrianism",
          "Shooting",
          "Swimming",
          "Swimming",
          "Athletics",
          "Athletics",
          "Cycling",
          "Football",
          "Athletics",
          "Sailing",
          "Water Polo",
          "Swimming",
          "Swimming",
          "Water Polo",
          "Fencing",
          "Swimming",
          "Swimming",
          "Swimming",
          "Swimming",
          "Swimming",
          "Swimming",
          "Swimming",
          "Rugby Sevens",
          "Swimming",
          "Swimming",
          "Swimming",
          "Swimming",
          "Swimming",
          "Cycling",
          "Cycling",
          "Cycling",
          "Cycling",
          "Cycling",
          "Cycling",
          "Cycling",
          "Cycling",
          "Cycling",
          "Judo",
          "Judo",
          "Judo",
          "Cycling",
          "Rowing",
          "Equestrianism",
          "Equestrianism",
          "Equestrianism",
          "Equestrianism",
          "Equestrianism",
          "Boxing",
          "Fencing",
          "Fencing",
          "Fencing",
          "Swimming",
          "Swimming",
          "Sailing",
          "Sailing",
          "Swimming",
          "Swimming",
          "Swimming",
          "Swimming",
          "Swimming",
          "Swimming",
          "Swimming",
          "Swimming",
          "Swimming",
          "Volleyball",
          "Boxing",
          "Swimming",
          "Swimming",
          "Swimming",
          "Swimming",
          "Swimming",
          "Swimming",
          "Water Polo",
          "Basketball",
          "Rowing",
          "Rowing",
          "Rowing",
          "Swimming",
          "Swimming",
          "Swimming",
          "Football",
          "Athletics",
          "Cycling",
          "Cycling",
          "Sailing",
          "Cross Country Skiing",
          "Boxing",
          "Rowing",
          "Shooting",
          "Boxing",
          "Athletics",
          "Athletics",
          "Athletics",
          "Athletics",
          "Athletics",
          "Water Polo",
          "Swimming",
          "Athletics",
          "Basketball",
          "Basketball",
          "Judo",
          "Basketball",
          "Basketball",
          "Basketball",
          "Football",
          "Rowing",
          "Basketball",
          "Basketball",
          "Basketball",
          "Football",
          "Football",
          "Rugby Sevens",
          "Rowing",
          "Volleyball",
          "Rowing",
          "Basketball",
          "Volleyball",
          "Athletics",
          "Volleyball",
          "Volleyball",
          "Equestrianism",
          "Basketball",
          "Basketball",
          "Athletics",
          "Sailing",
          "Gymnastics",
          "Gymnastics",
          "Gymnastics",
          "Gymnastics",
          "Gymnastics",
          "Gymnastics",
          "Gymnastics",
          "Basketball",
          "Athletics",
          "Athletics",
          "Athletics",
          "Water Polo",
          "Athletics",
          "Athletics",
          "Shooting",
          "Swimming",
          "Swimming",
          "Athletics",
          "Athletics",
          "Rowing",
          "Rowing",
          "Rowing",
          "Rowing",
          "Bobsleigh",
          "Swimming",
          "Swimming",
          "Swimming",
          "Water Polo",
          "Water Polo",
          "Water Polo",
          "Boxing",
          "Basketball",
          "Sailing",
          "Sailing",
          "Sailing",
          "Sailing",
          "Volleyball",
          "Athletics",
          "Athletics",
          "Athletics",
          "Weightlifting",
          "Cycling",
          "Swimming",
          "Water Polo",
          "Water Polo",
          "Canoeing",
          "Boxing",
          "Rowing",
          "Basketball",
          "Basketball",
          "Handball",
          "Handball",
          "Swimming",
          "Swimming",
          "Swimming",
          "Swimming",
          "Judo",
          "Athletics",
          "Athletics",
          "Athletics",
          "Athletics",
          "Athletics",
          "Shooting",
          "Shooting",
          "Shooting",
          "Shooting",
          "Athletics",
          "Shooting",
          "Shooting",
          "Shooting",
          "Shooting",
          "Shooting",
          "Shooting",
          "Water Polo",
          "Judo",
          "Judo",
          "Basketball",
          "Handball",
          "Swimming",
          "Athletics",
          "Volleyball",
          "Canoeing",
          "Canoeing",
          "Sailing",
          "Football",
          "Table Tennis",
          "Diving",
          "Athletics",
          "Athletics",
          "Athletics",
          "Swimming",
          "Swimming",
          "Water Polo",
          "Sailing",
          "Handball",
          "Handball",
          "Volleyball",
          "Football",
          "Alpine Skiing",
          "Alpine Skiing",
          "Alpine Skiing",
          "Alpine Skiing",
          "Alpine Skiing",
          "Judo",
          "Judo",
          "Basketball",
          "Athletics",
          "Handball",
          "Handball",
          "Judo",
          "Table Tennis",
          "Table Tennis",
          "Table Tennis",
          "Table Tennis",
          "Table Tennis",
          "Table Tennis",
          "Table Tennis",
          "Table Tennis",
          "Table Tennis",
          "Table Tennis",
          "Table Tennis",
          "Handball",
          "Basketball",
          "Basketball",
          "Football",
          "Football",
          "Gymnastics",
          "Gymnastics",
          "Gymnastics",
          "Gymnastics",
          "Alpine Skiing",
          "Hockey",
          "Bobsleigh",
          "Athletics",
          "Judo",
          "Basketball",
          "Basketball",
          "Basketball",
          "Handball",
          "Handball",
          "Water Polo",
          "Handball",
          "Cycling",
          "Cycling",
          "Basketball",
          "Football",
          "Wrestling",
          "Handball",
          "Football",
          "Handball",
          "Swimming",
          "Swimming",
          "Volleyball",
          "Volleyball",
          "Canoeing",
          "Canoeing",
          "Boxing",
          "Rowing",
          "Equestrianism",
          "Equestrianism",
          "Equestrianism",
          "Equestrianism",
          "Swimming",
          "Swimming",
          "Sailing",
          "Football",
          "Equestrianism",
          "Equestrianism",
          "Equestrianism",
          "Equestrianism",
          "Water Polo",
          "Rowing",
          "Basketball",
          "Basketball",
          "Swimming",
          "Swimming",
          "Swimming",
          "Swimming",
          "Swimming",
          "Swimming",
          "Swimming",
          "Swimming",
          "Athletics",
          "Football",
          "Football",
          "Football",
          "Volleyball",
          "Volleyball",
          "Athletics",
          "Table Tennis",
          "Table Tennis",
          "Table Tennis",
          "Table Tennis",
          "Sailing",
          "Table Tennis",
          "Table Tennis",
          "Table Tennis",
          "Diving",
          "Swimming",
          "Swimming",
          "Swimming",
          "Swimming",
          "Swimming",
          "Volleyball",
          "Judo",
          "Rowing",
          "Rowing",
          "Rowing",
          "Athletics",
          "Athletics",
          "Athletics",
          "Rowing",
          "Canoeing",
          "Canoeing",
          "Rowing",
          "Archery",
          "Tennis",
          "Tennis",
          "Tennis",
          "Rowing",
          "Rowing",
          "Rowing",
          "Rowing",
          "Shooting",
          "Canoeing",
          "Canoeing",
          "Swimming",
          "Swimming",
          "Shooting",
          "Handball",
          "Swimming",
          "Swimming",
          "Swimming",
          "Football",
          "Fencing",
          "Fencing",
          "Fencing",
          "Fencing",
          "Rowing",
          "Swimming",
          "Judo",
          "Rowing",
          "Rowing",
          "Water Polo",
          "Swimming",
          "Swimming",
          "Swimming",
          "Swimming",
          "Swimming",
          "Swimming",
          "Swimming",
          "Swimming",
          "Swimming",
          "Swimming",
          "Boxing",
          "Rowing",
          "Equestrianism",
          "Equestrianism",
          "Modern Pentathlon",
          "Modern Pentathlon",
          "Handball",
          "Cycling",
          "Basketball",
          "Water Polo",
          "Water Polo",
          "Rowing",
          "Swimming",
          "Swimming",
          "Swimming",
          "Swimming",
          "Swimming",
          "Swimming",
          "Swimming",
          "Athletics",
          "Athletics",
          "Basketball",
          "Alpine Skiing",
          "Alpine Skiing",
          "Alpine Skiing",
          "Alpine Skiing",
          "Boxing",
          "Boxing",
          "Cycling",
          "Basketball",
          "Hockey",
          "Swimming",
          "Swimming",
          "Swimming",
          "Swimming",
          "Rowing",
          "Water Polo",
          "Rowing",
          "Judo",
          "Judo",
          "Swimming",
          "Boxing",
          "Cycling",
          "Cycling",
          "Cycling",
          "Cycling",
          "Cycling",
          "Cycling",
          "Football",
          "Shooting",
          "Football",
          "Football",
          "Basketball",
          "Handball",
          "Handball",
          "Handball",
          "Shooting",
          "Swimming",
          "Swimming",
          "Swimming",
          "Swimming",
          "Swimming",
          "Fencing",
          "Fencing",
          "Fencing",
          "Rowing",
          "Rowing",
          "Basketball",
          "Swimming",
          "Swimming",
          "Judo",
          "Swimming",
          "Swimming",
          "Swimming",
          "Swimming",
          "Swimming",
          "Swimming",
          "Swimming",
          "Swimming",
          "Canoeing",
          "Shooting",
          "Boxing",
          "Boxing",
          "Cycling",
          "Cycling",
          "Cycling",
          "Rowing",
          "Cycling",
          "Handball",
          "Handball",
          "Rowing",
          "Bobsleigh",
          "Modern Pentathlon",
          "Modern Pentathlon",
          "Modern Pentathlon",
          "Modern Pentathlon",
          "Rowing",
          "Rowing",
          "Water Polo",
          "Swimming",
          "Swimming",
          "Water Polo",
          "Football",
          "Football",
          "Handball",
          "Basketball",
          "Basketball",
          "Basketball",
          "Basketball",
          "Volleyball",
          "Volleyball",
          "Basketball",
          "Basketball",
          "Athletics",
          "Football",
          "Gymnastics",
          "Gymnastics",
          "Gymnastics",
          "Gymnastics",
          "Gymnastics",
          "Gymnastics",
          "Diving",
          "Football",
          "Rowing",
          "Rowing",
          "Rowing",
          "Equestrianism",
          "Equestrianism",
          "Athletics",
          "Basketball",
          "Modern Pentathlon",
          "Modern Pentathlon",
          "Fencing",
          "Fencing",
          "Athletics",
          "Basketball",
          "Basketball",
          "Handball",
          "Basketball",
          "Basketball",
          "Basketball",
          "Basketball",
          "Basketball",
          "Water Polo",
          "Water Polo",
          "Bobsleigh",
          "Boxing",
          "Swimming",
          "Swimming",
          "Boxing",
          "Shooting",
          "Shooting",
          "Fencing",
          "Sailing",
          "Athletics",
          "Swimming",
          "Swimming",
          "Swimming",
          "Table Tennis",
          "Football",
          "Tennis",
          "Tennis",
          "Tennis",
          "Tennis",
          "Swimming",
          "Swimming",
          "Swimming",
          "Volleyball",
          "Volleyball",
          "Volleyball",
          "Shooting",
          "Shooting",
          "Football",
          "Football",
          "Basketball",
          "Basketball",
          "Cycling",
          "Cycling",
          "Cycling",
          "Cycling",
          "Cycling",
          "Cycling",
          "Hockey",
          "Athletics",
          "Fencing",
          "Fencing",
          "Sailing",
          "Tennis",
          "Athletics",
          "Shooting",
          "Water Polo",
          "Swimming",
          "Swimming",
          "Tennis",
          "Tennis",
          "Fencing",
          "Athletics",
          "Hockey",
          "Judo",
          "Equestrianism",
          "Equestrianism",
          "Swimming",
          "Swimming",
          "Basketball",
          "Basketball",
          "Handball",
          "Handball",
          "Swimming",
          "Swimming",
          "Swimming",
          "Swimming",
          "Swimming",
          "Swimming",
          "Swimming",
          "Swimming",
          "Football",
          "Judo",
          "Handball",
          "Handball",
          "Football",
          "Handball",
          "Basketball",
          "Basketball",
          "Shooting",
          "Football",
          "Triathlon",
          "Luge",
          "Rowing",
          "Swimming",
          "Swimming",
          "Fencing",
          "Fencing",
          "Basketball",
          "Volleyball",
          "Volleyball",
          "Cycling",
          "Gymnastics",
          "Gymnastics",
          "Gymnastics",
          "Gymnastics",
          "Gymnastics",
          "Gymnastics",
          "Gymnastics",
          "Table Tennis",
          "Table Tennis",
          "Table Tennis",
          "Table Tennis",
          "Swimming",
          "Swimming",
          "Swimming",
          "Handball",
          "Handball",
          "Equestrianism",
          "Equestrianism",
          "Swimming",
          "Athletics",
          "Shooting",
          "Shooting",
          "Shooting",
          "Shooting",
          "Triathlon",
          "Triathlon",
          "Triathlon",
          "Football",
          "Volleyball",
          "Volleyball",
          "Volleyball",
          "Volleyball",
          "Swimming",
          "Swimming",
          "Rowing",
          "Basketball",
          "Basketball",
          "Judo",
          "Judo",
          "Football",
          "Alpine Skiing",
          "Alpine Skiing",
          "Alpine Skiing",
          "Alpine Skiing",
          "Football",
          "Athletics",
          "Athletics",
          "Athletics",
          "Athletics",
          "Athletics",
          "Volleyball",
          "Volleyball",
          "Modern Pentathlon",
          "Cycling",
          "Cycling",
          "Volleyball",
          "Sailing",
          "Athletics",
          "Basketball",
          "Basketball",
          "Boxing",
          "Boxing",
          "Cycling",
          "Wrestling",
          "Wrestling",
          "Wrestling",
          "Volleyball",
          "Football",
          "Swimming",
          "Swimming",
          "Shooting",
          "Shooting",
          "Shooting",
          "Rowing",
          "Rowing",
          "Rowing",
          "Rowing",
          "Boxing",
          "Water Polo",
          "Football",
          "Swimming",
          "Swimming",
          "Swimming",
          "Volleyball",
          "Swimming",
          "Equestrianism",
          "Equestrianism",
          "Canoeing",
          "Archery",
          "Archery",
          "Canoeing",
          "Swimming",
          "Swimming",
          "Swimming",
          "Swimming",
          "Swimming",
          "Swimming",
          "Swimming",
          "Swimming",
          "Canoeing",
          "Canoeing",
          "Swimming",
          "Swimming",
          "Swimming",
          "Swimming",
          "Judo",
          "Boxing",
          "Badminton",
          "Basketball",
          "Basketball",
          "Shooting",
          "Shooting",
          "Shooting",
          "Shooting",
          "Tennis",
          "Tennis",
          "Tennis",
          "Judo",
          "Judo",
          "Swimming",
          "Football",
          "Diving",
          "Judo",
          "Athletics",
          "Athletics",
          "Athletics",
          "Hockey",
          "Bobsleigh",
          "Athletics",
          "Cycling",
          "Cycling",
          "Equestrianism",
          "Water Polo",
          "Hockey",
          "Shooting",
          "Athletics",
          "Athletics",
          "Swimming",
          "Volleyball",
          "Cycling",
          "Fencing",
          "Sailing",
          "Sailing",
          "Sailing",
          "Sailing",
          "Shooting",
          "Shooting",
          "Judo",
          "Judo",
          "Diving",
          "Diving",
          "Diving",
          "Diving",
          "Diving",
          "Equestrianism",
          "Equestrianism",
          "Equestrianism",
          "Equestrianism",
          "Equestrianism",
          "Equestrianism",
          "Equestrianism",
          "Athletics",
          "Athletics",
          "Athletics",
          "Hockey",
          "Athletics",
          "Athletics",
          "Volleyball",
          "Volleyball",
          "Football",
          "Basketball",
          "Basketball",
          "Swimming",
          "Basketball",
          "Athletics",
          "Athletics",
          "Football",
          "Athletics",
          "Athletics",
          "Shooting",
          "Shooting",
          "Table Tennis",
          "Fencing",
          "Fencing",
          "Sailing",
          "Judo",
          "Cross Country Skiing",
          "Swimming",
          "Volleyball",
          "Cycling",
          "Swimming",
          "Fencing",
          "Volleyball",
          "Volleyball",
          "Rowing",
          "Rowing",
          "Judo",
          "Swimming",
          "Swimming",
          "Swimming",
          "Swimming",
          "Swimming",
          "Swimming",
          "Swimming",
          "Swimming",
          "Boxing",
          "Water Polo",
          "Athletics",
          "Fencing",
          "Fencing",
          "Water Polo",
          "Swimming",
          "Swimming",
          "Equestrianism",
          "Equestrianism",
          "Equestrianism",
          "Equestrianism",
          "Equestrianism",
          "Equestrianism",
          "Equestrianism",
          "Equestrianism",
          "Equestrianism",
          "Judo",
          "Equestrianism",
          "Equestrianism",
          "Equestrianism",
          "Equestrianism",
          "Equestrianism",
          "Equestrianism",
          "Equestrianism",
          "Equestrianism",
          "Bobsleigh",
          "Handball",
          "Canoeing",
          "Volleyball",
          "Volleyball",
          "Sailing",
          "Shooting",
          "Water Polo",
          "Water Polo",
          "Volleyball",
          "Handball",
          "Volleyball",
          "Boxing",
          "Boxing",
          "Gymnastics",
          "Gymnastics",
          "Gymnastics",
          "Gymnastics",
          "Gymnastics",
          "Gymnastics",
          "Gymnastics",
          "Boxing",
          "Boxing",
          "Basketball",
          "Basketball",
          "Basketball",
          "Swimming",
          "Swimming",
          "Water Polo",
          "Athletics",
          "Athletics",
          "Athletics",
          "Shooting",
          "Football",
          "Water Polo",
          "Swimming",
          "Swimming",
          "Swimming",
          "Equestrianism",
          "Equestrianism",
          "Rowing",
          "Shooting",
          "Handball",
          "Swimming",
          "Swimming",
          "Swimming",
          "Swimming",
          "Swimming",
          "Swimming",
          "Sailing",
          "Sailing",
          "Sailing",
          "Sailing",
          "Volleyball",
          "Rowing",
          "Athletics",
          "Athletics",
          "Athletics",
          "Cycling",
          "Cycling",
          "Cycling",
          "Cycling",
          "Rowing",
          "Rowing",
          "Volleyball",
          "Swimming",
          "Swimming",
          "Swimming",
          "Swimming",
          "Athletics",
          "Cycling",
          "Athletics",
          "Athletics",
          "Athletics",
          "Athletics",
          "Rowing",
          "Luge",
          "Bobsleigh",
          "Rowing",
          "Basketball",
          "Basketball",
          "Basketball",
          "Cycling",
          "Sailing",
          "Sailing",
          "Rowing",
          "Weightlifting",
          "Weightlifting",
          "Sailing",
          "Volleyball",
          "Volleyball",
          "Equestrianism",
          "Equestrianism",
          "Equestrianism",
          "Equestrianism",
          "Cycling",
          "Cycling",
          "Equestrianism",
          "Athletics",
          "Athletics",
          "Athletics",
          "Athletics",
          "Athletics",
          "Handball",
          "Diving",
          "Diving",
          "Canoeing",
          "Canoeing",
          "Gymnastics",
          "Gymnastics",
          "Gymnastics",
          "Gymnastics",
          "Gymnastics",
          "Gymnastics",
          "Gymnastics",
          "Rowing",
          "Cycling",
          "Rowing",
          "Equestrianism",
          "Equestrianism",
          "Swimming",
          "Swimming",
          "Swimming",
          "Swimming",
          "Swimming",
          "Swimming",
          "Swimming",
          "Cross Country Skiing",
          "Cross Country Skiing",
          "Rowing",
          "Sailing",
          "Athletics",
          "Shooting",
          "Shooting",
          "Handball",
          "Football",
          "Weightlifting",
          "Shooting",
          "Shooting",
          "Shooting",
          "Water Polo",
          "Athletics",
          "Volleyball",
          "Sailing",
          "Athletics",
          "Athletics",
          "Handball",
          "Swimming",
          "Swimming",
          "Athletics",
          "Boxing",
          "Gymnastics",
          "Gymnastics",
          "Gymnastics",
          "Gymnastics",
          "Gymnastics",
          "Gymnastics",
          "Gymnastics",
          "Swimming",
          "Swimming",
          "Water Polo",
          "Volleyball",
          "Cycling",
          "Football",
          "Basketball",
          "Basketball",
          "Basketball",
          "Athletics",
          "Swimming",
          "Swimming",
          "Swimming",
          "Swimming",
          "Swimming",
          "Swimming",
          "Swimming",
          "Swimming",
          "Swimming",
          "Swimming",
          "Football",
          "Diving",
          "Athletics",
          "Athletics",
          "Basketball",
          "Football",
          "Rowing",
          "Rowing",
          "Water Polo",
          "Hockey",
          "Football",
          "Football",
          "Athletics",
          "Tennis",
          "Tennis",
          "Athletics",
          "Judo",
          "Judo",
          "Boxing",
          "Swimming",
          "Basketball",
          "Swimming",
          "Swimming",
          "Swimming",
          "Water Polo",
          "Water Polo",
          "Rowing",
          "Water Polo",
          "Rugby Sevens",
          "Rugby Sevens",
          "Water Polo",
          "Judo",
          "Sailing",
          "Sailing",
          "Handball",
          "Handball",
          "Boxing",
          "Swimming",
          "Football",
          "Judo",
          "Weightlifting",
          "Swimming",
          "Sailing",
          "Handball",
          "Swimming",
          "Swimming",
          "Tennis",
          "Tennis",
          "Gymnastics",
          "Gymnastics",
          "Gymnastics",
          "Gymnastics",
          "Gymnastics",
          "Gymnastics",
          "Gymnastics",
          "Gymnastics",
          "Gymnastics",
          "Gymnastics",
          "Gymnastics",
          "Gymnastics",
          "Gymnastics",
          "Gymnastics",
          "Rowing",
          "Handball",
          "Handball",
          "Handball",
          "Basketball",
          "Fencing",
          "Rugby Sevens",
          "Shooting",
          "Shooting",
          "Sailing",
          "Water Polo",
          "Swimming",
          "Swimming",
          "Swimming",
          "Swimming",
          "Swimming",
          "Athletics",
          "Judo",
          "Basketball",
          "Basketball",
          "Basketball",
          "Basketball",
          "Basketball",
          "Shooting",
          "Volleyball",
          "Alpine Skiing",
          "Alpine Skiing",
          "Alpine Skiing",
          "Volleyball",
          "Fencing",
          "Fencing",
          "Fencing",
          "Fencing",
          "Fencing",
          "Triathlon",
          "Triathlon",
          "Rowing",
          "Cycling",
          "Athletics",
          "Canoeing",
          "Canoeing",
          "Canoeing",
          "Canoeing",
          "Basketball",
          "Water Polo",
          "Volleyball",
          "Judo",
          "Judo",
          "Judo",
          "Judo",
          "Sailing",
          "Water Polo",
          "Boxing",
          "Judo",
          "Athletics",
          "Rugby Sevens",
          "Athletics",
          "Athletics",
          "Canoeing",
          "Swimming",
          "Water Polo",
          "Athletics",
          "Boxing",
          "Equestrianism",
          "Archery",
          "Bobsleigh",
          "Athletics",
          "Athletics",
          "Swimming",
          "Boxing",
          "Athletics",
          "Weightlifting",
          "Weightlifting",
          "Swimming",
          "Swimming",
          "Cycling",
          "Cycling",
          "Cycling",
          "Cycling",
          "Cycling",
          "Handball",
          "Basketball",
          "Shooting",
          "Shooting",
          "Shooting",
          "Equestrianism",
          "Basketball",
          "Judo",
          "Swimming",
          "Hockey",
          "Handball",
          "Football",
          "Rowing",
          "Rowing",
          "Shooting",
          "Shooting",
          "Shooting",
          "Rowing",
          "Rowing",
          "Boxing",
          "Wrestling",
          "Shooting",
          "Shooting",
          "Shooting",
          "Water Polo",
          "Athletics",
          "Athletics",
          "Athletics",
          "Canoeing",
          "Water Polo",
          "Handball",
          "Handball",
          "Athletics",
          "Swimming",
          "Swimming",
          "Swimming",
          "Water Polo",
          "Fencing",
          "Swimming",
          "Swimming",
          "Swimming",
          "Sailing",
          "Sailing",
          "Wrestling",
          "Wrestling",
          "Basketball",
          "Hockey",
          "Handball",
          "Equestrianism",
          "Equestrianism",
          "Rowing",
          "Rowing",
          "Cycling",
          "Basketball",
          "Athletics",
          "Athletics",
          "Volleyball",
          "Volleyball",
          "Water Polo",
          "Rowing",
          "Canoeing",
          "Rowing",
          "Sailing",
          "Volleyball",
          "Volleyball",
          "Swimming",
          "Rowing",
          "Basketball",
          "Football",
          "Swimming",
          "Swimming",
          "Swimming",
          "Athletics",
          "Athletics",
          "Handball",
          "Boxing",
          "Taekwondo",
          "Equestrianism",
          "Equestrianism",
          "Equestrianism",
          "Equestrianism",
          "Equestrianism",
          "Athletics",
          "Equestrianism",
          "Equestrianism",
          "Sailing",
          "Sailing",
          "Sailing",
          "Athletics",
          "Athletics",
          "Football",
          "Handball",
          "Basketball",
          "Water Polo",
          "Basketball",
          "Football",
          "Rowing",
          "Fencing",
          "Fencing",
          "Fencing",
          "Boxing",
          "Rowing",
          "Basketball",
          "Water Polo",
          "Football",
          "Basketball",
          "Swimming",
          "Swimming",
          "Swimming",
          "Equestrianism",
          "Equestrianism",
          "Equestrianism",
          "Equestrianism",
          "Judo",
          "Equestrianism",
          "Equestrianism",
          "Rowing",
          "Rowing",
          "Table Tennis",
          "Table Tennis",
          "Table Tennis",
          "Table Tennis",
          "Table Tennis",
          "Table Tennis",
          "Handball",
          "Handball",
          "Football",
          "Fencing",
          "Fencing",
          "Fencing",
          "Football",
          "Football",
          "Football",
          "Swimming",
          "Rowing",
          "Fencing",
          "Fencing",
          "Fencing",
          "Fencing",
          "Hockey",
          "Hockey",
          "Basketball",
          "Handball",
          "Handball",
          "Boxing",
          "Football",
          "Rowing",
          "Rowing",
          "Equestrianism",
          "Equestrianism",
          "Equestrianism",
          "Equestrianism",
          "Athletics",
          "Athletics",
          "Athletics",
          "Athletics",
          "Athletics",
          "Athletics",
          "Judo",
          "Fencing",
          "Handball",
          "Swimming",
          "Swimming",
          "Swimming",
          "Swimming",
          "Swimming",
          "Shooting",
          "Shooting",
          "Shooting",
          "Volleyball",
          "Volleyball",
          "Water Polo",
          "Athletics",
          "Swimming",
          "Swimming",
          "Football",
          "Sailing",
          "Volleyball",
          "Football",
          "Diving",
          "Diving",
          "Diving",
          "Taekwondo",
          "Taekwondo",
          "Sailing",
          "Volleyball",
          "Volleyball",
          "Volleyball",
          "Modern Pentathlon",
          "Modern Pentathlon",
          "Modern Pentathlon",
          "Athletics",
          "Shooting",
          "Shooting",
          "Shooting",
          "Shooting",
          "Volleyball",
          "Archery",
          "Archery",
          "Archery",
          "Handball",
          "Handball",
          "Swimming",
          "Shooting",
          "Shooting",
          "Judo",
          "Swimming",
          "Swimming",
          "Swimming",
          "Swimming",
          "Rowing",
          "Gymnastics",
          "Swimming",
          "Swimming",
          "Swimming",
          "Athletics",
          "Athletics",
          "Athletics",
          "Judo",
          "Sailing",
          "Sailing",
          "Sailing",
          "Sailing",
          "Football",
          "Football",
          "Basketball",
          "Basketball",
          "Basketball",
          "Basketball",
          "Football",
          "Volleyball",
          "Football",
          "Handball",
          "Volleyball",
          "Athletics",
          "Football",
          "Boxing"
         ],
         "legendgroup": "M, Sem medalha",
         "marker": {
          "color": "blue",
          "opacity": 0.3,
          "symbol": "circle"
         },
         "mode": "markers",
         "name": "M, Sem medalha",
         "showlegend": true,
         "type": "scattergl",
         "x": [
          1972,
          1976,
          1972,
          2004,
          1984,
          1988,
          2004,
          1952,
          1964,
          1972,
          1980,
          1984,
          1984,
          1988,
          1992,
          1988,
          1992,
          1996,
          2004,
          1984,
          2004,
          2008,
          2012,
          2016,
          1992,
          1936,
          1976,
          2008,
          2016,
          2016,
          1968,
          1936,
          1936,
          1936,
          1948,
          2000,
          1952,
          1956,
          1968,
          2016,
          2016,
          2016,
          2008,
          2008,
          2008,
          2016,
          2016,
          2004,
          2004,
          2004,
          2008,
          2008,
          2008,
          2012,
          2012,
          2012,
          2016,
          2016,
          2016,
          2008,
          1952,
          1976,
          1984,
          1988,
          2016,
          1996,
          1980,
          1984,
          2000,
          2016,
          1976,
          1996,
          1936,
          1980,
          1988,
          1956,
          1920,
          1920,
          1932,
          1988,
          1988,
          1952,
          2016,
          1996,
          1980,
          2012,
          2012,
          2016,
          1952,
          1956,
          1972,
          2016,
          1968,
          1972,
          1992,
          1992,
          1992,
          1998,
          2016,
          2016,
          2000,
          1968,
          1968,
          1972,
          1972,
          1972,
          1972,
          1988,
          1972,
          1972,
          1972,
          1976,
          1976,
          1976,
          1980,
          1980,
          2012,
          2016,
          1956,
          1956,
          1960,
          1960,
          1968,
          1988,
          1992,
          2004,
          1936,
          1972,
          1972,
          2000,
          2016,
          1988,
          1988,
          1976,
          1972,
          1972,
          1988,
          1992,
          2016,
          1980,
          1972,
          1976,
          2004,
          2008,
          2016,
          2000,
          1936,
          2004,
          2016,
          1992,
          1996,
          1952,
          1956,
          1960,
          1920,
          2008,
          2008,
          2012,
          1984,
          1984,
          1988,
          1988,
          1992,
          1996,
          2012,
          2016,
          2000,
          2016,
          2016,
          2016,
          2016,
          2016,
          2016,
          2016,
          2016,
          2016,
          2000,
          1988,
          2004,
          1976,
          2016,
          1972,
          1976,
          1992,
          1992,
          1972,
          1948,
          1964,
          2008,
          2012,
          2016,
          2016,
          1952,
          1984,
          1988,
          1992,
          1996,
          2000,
          2016,
          1976,
          1980,
          1980,
          1996,
          2016,
          1948,
          1948,
          1972,
          1976,
          1980,
          2000,
          2000,
          2004,
          2008,
          2012,
          2016,
          2002,
          2006,
          2014,
          1968,
          1972,
          1984,
          1984,
          1948,
          1948,
          1952,
          1952,
          1972,
          1956,
          2016,
          2004,
          2004,
          2012,
          2016,
          2016,
          1988,
          1992,
          1984,
          1948,
          1952,
          1952,
          1984,
          2016,
          2016,
          1992,
          1992,
          1992,
          1992,
          1996,
          1996,
          2000,
          2000,
          2004,
          2016,
          2016,
          1964,
          1968,
          1960,
          1960,
          1952,
          1984,
          1932,
          1936,
          1948,
          1976,
          1980,
          1980,
          1924,
          1932,
          1924,
          1960,
          1952,
          1932,
          1992,
          1964,
          1968,
          1972,
          1976,
          1980,
          1976,
          1980,
          1972,
          2016,
          1948,
          1952,
          2016,
          1924,
          1936,
          1996,
          1980,
          1984,
          1988,
          1992,
          1996,
          1984,
          1984,
          2008,
          2012,
          2016,
          2016,
          2016,
          1936,
          2012,
          2016,
          1984,
          1976,
          2016,
          1996,
          1976,
          1980,
          1984,
          1964,
          1932,
          1992,
          1988,
          1980,
          1984,
          1988,
          1984,
          1976,
          1952,
          1960,
          1980,
          1980,
          1988,
          1992,
          1984,
          1984,
          1952,
          1964,
          1968,
          1984,
          1984,
          1984,
          1984,
          2008,
          1980,
          1984,
          1952,
          1988,
          1988,
          1932,
          2000,
          2000,
          2004,
          2004,
          2004,
          2008,
          2008,
          2008,
          1992,
          1936,
          1972,
          2000,
          2000,
          1952,
          1952,
          1952,
          1976,
          1972,
          2012,
          2016,
          1964,
          1972,
          1984,
          1992,
          1996,
          2016,
          1976,
          2012,
          2012,
          2016,
          2016,
          2016,
          1968,
          1960,
          1996,
          2008,
          1960,
          2016,
          1920,
          2008,
          2012,
          2016,
          2012,
          1964,
          1948,
          1948,
          1948,
          2008,
          2012,
          2000,
          2008,
          2012,
          1960,
          1972,
          1980,
          1996,
          1972,
          1936,
          2016,
          2008,
          2012,
          1980,
          1980,
          1984,
          1984,
          1996,
          2000,
          2000,
          1924,
          1924,
          2016,
          1968,
          1968,
          2008,
          1968,
          1968,
          1976,
          1960,
          2016,
          2004,
          1984,
          1988,
          1996,
          1960,
          1960,
          1992,
          1992,
          1996,
          1996,
          2000,
          2000,
          2004,
          2004,
          2004,
          1980,
          2012,
          1952,
          1956,
          1956,
          1956,
          1960,
          1964,
          1968,
          1996,
          2016,
          1996,
          1960,
          1932,
          2000,
          2004,
          2008,
          1948,
          1952,
          2012,
          2012,
          2016,
          2016,
          1952,
          1992,
          1992,
          1936,
          1948,
          1948,
          2000,
          1948,
          1960,
          2016,
          1960,
          1992,
          1996,
          2000,
          2004,
          2004,
          2008,
          1960,
          1960,
          1984,
          1984,
          1988,
          1992,
          1996,
          1996,
          2000,
          2006,
          1996,
          1976,
          2004,
          2012,
          2016,
          2016,
          1984,
          1948,
          1948,
          1948,
          1952,
          1948,
          1948,
          1948,
          1964,
          2016,
          1984,
          1984,
          1932,
          1988,
          1992,
          1984,
          1984,
          1992,
          1924,
          1936,
          1936,
          1932,
          1972,
          1972,
          1956,
          1956,
          1960,
          1960,
          1988,
          2016,
          1984,
          1984,
          1988,
          1992,
          1992,
          1992,
          1996,
          1976,
          1976,
          1996,
          1996,
          1980,
          2004,
          2008,
          1992,
          2012,
          2012,
          2016,
          1932,
          1996,
          1980,
          1988,
          1960,
          1964,
          2008,
          1976,
          1988,
          1992,
          1996,
          2000,
          1960,
          2008,
          2016,
          2016,
          2016,
          1960,
          1960,
          1932,
          1996,
          1992,
          2008,
          1960,
          1932,
          1936,
          1936,
          1968,
          1972,
          1992,
          1992,
          1996,
          1996,
          2000,
          1980,
          1980,
          1996,
          2000,
          1964,
          1968,
          1988,
          1996,
          2000,
          2008,
          2012,
          2012,
          2016,
          2016,
          1948,
          1948,
          1956,
          1956,
          1956,
          1936,
          1932,
          1932,
          1936,
          1936,
          2004,
          2008,
          2012,
          1980,
          1984,
          1988,
          1980,
          1984,
          1988,
          1932,
          1956,
          1936,
          2004,
          2008,
          2012,
          2016,
          1932,
          1932,
          1980,
          1980,
          2012,
          2012,
          2016,
          2016,
          2000,
          1948,
          1924,
          1952,
          1936,
          2004,
          2004,
          1976,
          1980,
          2008,
          2012,
          2016,
          2004,
          2008,
          1980,
          1980,
          1996,
          2000,
          2000,
          2004,
          2004,
          2008,
          1932,
          2016,
          2016,
          2016,
          2000,
          2004,
          2000,
          2004,
          2016,
          1952,
          1952,
          1988,
          1948,
          1948,
          1952,
          1952,
          1956,
          1956,
          1988,
          1992,
          1992,
          1980,
          2004,
          2016,
          1992,
          1996,
          1976,
          1936,
          1936,
          1936,
          1936,
          1948,
          1952,
          1952,
          1964,
          1976,
          1980,
          2016,
          1952,
          2016,
          1936,
          2000,
          1972,
          1960,
          1960,
          1964,
          1964,
          1936,
          1932,
          1948,
          1952,
          1952,
          1936,
          1988,
          1972,
          1952,
          1956,
          1956,
          1936,
          1968,
          1968,
          1976,
          1980,
          2004,
          2004,
          1952,
          1972,
          1976,
          1996,
          1980,
          1984,
          1972,
          1984,
          1984,
          1988,
          2000,
          2004,
          2008,
          1968,
          2008,
          2000,
          2004,
          1936,
          1992,
          1992,
          1992,
          1996,
          1956,
          1996,
          1952,
          1952,
          2016,
          1968,
          1960,
          2000,
          1972,
          1980,
          1980,
          1980,
          1984,
          1984,
          1984,
          1984,
          1984,
          1968,
          2008,
          1992,
          1992,
          1996,
          1964,
          1988,
          1992,
          1988,
          1992,
          1960,
          1952,
          1948,
          1972,
          1952,
          1952,
          1968,
          1968,
          1932,
          2008,
          2016,
          1992,
          1996,
          1948,
          1996,
          2000,
          2004,
          2004,
          2012,
          2012,
          2016,
          2016,
          1972,
          2016,
          1988,
          1988,
          1936,
          2008,
          2012,
          2016,
          1932,
          2004,
          1936,
          2004,
          1988,
          1992,
          1996,
          1984,
          1996,
          1996,
          2008,
          2012,
          2016,
          1952,
          1960,
          1964,
          1980,
          1980,
          1984,
          1984,
          1996,
          1996,
          2000,
          2004,
          2016,
          1952,
          1984,
          1984,
          1952,
          1952,
          1956,
          2016,
          1956,
          1948,
          2016,
          2016,
          1984,
          1984,
          1996,
          1948,
          1948,
          1952,
          1960,
          2004,
          2008,
          2016,
          2000,
          1992,
          1996,
          2016,
          2016,
          2004,
          2008,
          1936,
          2008,
          2012,
          1936,
          1936,
          1936,
          1936,
          1936,
          1968,
          2016,
          2016,
          2000,
          2000,
          2004,
          2008,
          1968,
          1992,
          2016,
          1980,
          1984,
          1988,
          1992,
          1980,
          1976,
          1952,
          1956,
          2000,
          1976,
          1992,
          1992,
          1992,
          1964,
          1960,
          1976,
          1980,
          1952,
          2016,
          1976,
          2000,
          2000,
          1964,
          1952,
          1956,
          1972,
          1988,
          1932,
          2016,
          1956,
          1936,
          1964,
          1968,
          2016,
          1976,
          1992,
          1932,
          1968,
          1968,
          2012,
          2012,
          1996,
          1984,
          1956,
          1980,
          1980,
          1984,
          1984,
          1992,
          1992,
          2016,
          2016,
          1948,
          1948,
          1952,
          1952,
          1956,
          1956,
          1960,
          1960,
          1948,
          1992,
          1992,
          1996,
          2000,
          1936,
          1968,
          2000,
          1972,
          1952,
          1968,
          1968,
          1968,
          1992,
          1968,
          1968,
          1968,
          1972,
          1972,
          1972,
          1976,
          2016,
          2000,
          2000,
          2004,
          2004,
          2004,
          1980,
          1980,
          1984,
          1984,
          2000,
          2004,
          2008,
          2012,
          2016,
          1984,
          1988,
          1996,
          1972,
          1920,
          1992,
          1996,
          2000,
          2012,
          2012,
          1980,
          1988,
          1988,
          1988,
          1964,
          1964,
          2008,
          2012,
          1932,
          1988,
          1988,
          1988,
          1988,
          1988,
          1992,
          1992,
          1992,
          1964,
          1992,
          2008,
          2008,
          2012,
          2012,
          2016,
          2016,
          2016,
          1972,
          1936,
          1936,
          1936,
          2012,
          2012,
          2016,
          1972,
          1980,
          1988,
          1988,
          1992,
          2006,
          1992,
          1952,
          2012,
          1952,
          1992,
          1996,
          2004,
          1924,
          1924,
          1920,
          1920,
          1996,
          2012,
          2016,
          1996,
          1968,
          1972,
          1956,
          2000,
          1976,
          1984,
          1988,
          1992,
          1960,
          1968,
          2016,
          2016,
          2000,
          1968,
          1980,
          1996,
          1932,
          1996,
          2000,
          1996,
          2012,
          2016,
          1932,
          1996,
          1984,
          1984,
          1984,
          1984,
          1984,
          1984,
          1984,
          1952,
          1996,
          1924,
          1924,
          2016,
          2008,
          2012,
          1980,
          2016,
          2016,
          1932,
          1932,
          2004,
          2008,
          1932,
          1936,
          2014,
          1952,
          1952,
          1956,
          1960,
          1964,
          1968,
          2004,
          1972,
          1984,
          1992,
          2016,
          1992,
          1980,
          2004,
          2004,
          2008,
          2016,
          1984,
          1952,
          1960,
          1964,
          1992,
          1952,
          1956,
          1988,
          1992,
          2004,
          2008,
          2008,
          2008,
          2016,
          2016,
          2012,
          1980,
          1980,
          1984,
          1984,
          1988,
          1932,
          1936,
          1948,
          1952,
          1936,
          1968,
          1968,
          1972,
          1976,
          1980,
          1984,
          2016,
          2000,
          2004,
          1984,
          2016,
          1948,
          1932,
          2000,
          2000,
          2000,
          2016,
          1968,
          2004,
          1952,
          1948,
          1948,
          1948,
          1936,
          1936,
          1952,
          1984,
          2004,
          2008,
          2000,
          2000,
          2002,
          2006,
          2006,
          2006,
          2006,
          2000,
          2004,
          2016,
          1984,
          1992,
          1996,
          2004,
          1992,
          1992,
          1996,
          1996,
          2000,
          2000,
          2004,
          2004,
          2008,
          2012,
          2012,
          2016,
          2012,
          2016,
          1952,
          1964,
          2008,
          2008,
          2012,
          2016,
          1992,
          2016,
          2002,
          2004,
          1972,
          1984,
          1988,
          1992,
          1992,
          1996,
          1932,
          2004,
          1984,
          1988,
          1996,
          1952,
          2004,
          2004,
          1976,
          2008,
          2004,
          2004,
          1968,
          1972,
          2008,
          2008,
          1956,
          1980,
          1988,
          1988,
          1996,
          2000,
          1948,
          1948,
          2004,
          1968,
          2012,
          2012,
          2016,
          2016,
          1920,
          1920,
          1992,
          1996,
          1976,
          1976,
          1980,
          1980,
          1984,
          1984,
          1984,
          1984,
          2012,
          1976,
          1976,
          1960,
          1972,
          1976,
          1992,
          1988,
          1988,
          1992,
          1992,
          1980,
          1988,
          1988,
          2000,
          1948,
          1980,
          1980,
          1980,
          1948,
          1948,
          2000,
          2016,
          1960,
          1968,
          1936,
          1900,
          1900,
          1900,
          1956,
          1992,
          1992,
          1936,
          1992,
          2000,
          2000,
          2004,
          1976,
          1980,
          1988,
          1996,
          1996,
          1992,
          1992,
          1936,
          1936,
          1976,
          2016,
          1952,
          1952,
          1956,
          1952,
          1988,
          1988,
          1988,
          1992,
          1980,
          1996,
          2004,
          1936,
          1992,
          1920,
          1980,
          1980,
          1980,
          1984,
          1984,
          1984,
          1988,
          1988,
          1988,
          1988,
          1960,
          1960,
          1960,
          1960,
          1956,
          1956,
          2008,
          1996,
          2016,
          1968,
          1952,
          1932,
          2012,
          1996,
          1996,
          1996,
          2000,
          2000,
          2000,
          1932,
          1936,
          1956,
          2010,
          2010,
          2014,
          2014,
          2008,
          2012,
          1996,
          1936,
          2016,
          1988,
          1988,
          1988,
          1988,
          1920,
          1984,
          1992,
          2000,
          2008,
          1932,
          2016,
          1980,
          1980,
          1988,
          1988,
          1992,
          1992,
          2000,
          1976,
          2000,
          1968,
          2016,
          1992,
          1996,
          2004,
          1924,
          2016,
          1972,
          1972,
          1972,
          1972,
          1988,
          1988,
          1988,
          1980,
          1984,
          2012,
          2004,
          2004,
          1976,
          1976,
          1976,
          1980,
          1980,
          1980,
          1984,
          1984,
          1984,
          2016,
          1932,
          1996,
          2000,
          1988,
          1988,
          1992,
          1976,
          1936,
          2008,
          2016,
          1952,
          2002,
          1956,
          1956,
          1960,
          1960,
          1980,
          1984,
          1984,
          2004,
          2008,
          1920,
          1972,
          1968,
          2004,
          1980,
          1984,
          1988,
          1992,
          2000,
          1972,
          1980,
          1984,
          1932,
          2000,
          2016,
          2016,
          2016,
          2016,
          2016,
          2016,
          1948,
          1976,
          1984,
          1988,
          1996,
          2004,
          2004,
          2016,
          1952,
          1952,
          1952,
          2016,
          2016,
          1932,
          1956,
          1968,
          1996,
          2012,
          2016,
          1972,
          1980,
          1984,
          1968,
          1968,
          2014,
          1976,
          2016,
          2016,
          1960,
          1960,
          1960,
          2000,
          1972,
          2004,
          1996,
          2000,
          2000,
          2016,
          1964,
          1988,
          1988,
          1992,
          1992,
          1980,
          1980,
          1980,
          1988,
          1996,
          2000,
          1920,
          1920,
          1976,
          1952,
          1988,
          1992,
          1992,
          1996,
          2004,
          1984,
          1988,
          1988,
          2016,
          1932,
          2016,
          2016,
          1992,
          1996,
          1936,
          1936,
          1952,
          2016,
          2016,
          2008,
          2016,
          1992,
          1936,
          2016,
          2012,
          2016,
          2016,
          1984,
          1984,
          1968,
          1972,
          1996,
          2008,
          1988,
          1988,
          1988,
          1988,
          1988,
          1992,
          1992,
          1992,
          1968,
          1992,
          1992,
          1996,
          1952,
          2004,
          1992,
          1996,
          1972,
          1964,
          2004,
          2002,
          1932,
          1952,
          1956,
          1948,
          1952,
          1936,
          1980,
          1988,
          2016,
          1992,
          1992,
          1992,
          1992,
          1992,
          1992,
          1992,
          2004,
          2008,
          2008,
          2012,
          1932,
          1936,
          1936,
          1992,
          1996,
          2008,
          2008,
          1988,
          2008,
          1952,
          1952,
          1956,
          1956,
          2000,
          2004,
          2008,
          1968,
          1968,
          1972,
          1976,
          1980,
          2008,
          2004,
          1952,
          1968,
          1972,
          1976,
          1980,
          2000,
          1992,
          1992,
          1992,
          1994,
          1964,
          1936,
          1980,
          1980,
          1984,
          1984,
          1996,
          2000,
          2016,
          2012,
          2012,
          1996,
          1984,
          1932,
          2012,
          2016,
          2012,
          2016,
          1936,
          1988,
          1988,
          1992,
          1964,
          1972,
          1968,
          1968,
          1976,
          1984,
          1988,
          2000,
          2004,
          2008,
          2012,
          2016,
          1964,
          1960,
          1932,
          1932,
          1936,
          1964,
          1952,
          2016,
          2016,
          2016,
          2016,
          2016,
          2016,
          2008,
          2008,
          2008,
          2012,
          2012,
          2016,
          2016,
          2016,
          2012,
          2012,
          1972,
          1972,
          1972,
          1972,
          1992,
          1988,
          2016,
          1996,
          1956,
          1972,
          1976,
          1980,
          1984,
          1992,
          1992,
          2000,
          1980,
          1988,
          2012,
          1972,
          2016,
          1976,
          1932,
          1932,
          1936,
          2016,
          2002,
          2016,
          2004,
          2008,
          2000,
          1920,
          2016,
          1984,
          1988,
          1992,
          1948,
          1988,
          2012,
          1992,
          2000,
          2004,
          1976,
          1984,
          1920,
          1920,
          1988,
          1992,
          2004,
          2008,
          2012,
          2016,
          2016,
          2004,
          2004,
          2008,
          2008,
          2000,
          2016,
          2016,
          1996,
          1996,
          2000,
          2016,
          2012,
          2016,
          1988,
          1996,
          1960,
          1988,
          1992,
          1952,
          1936,
          2008,
          2012,
          1972,
          1980,
          1980,
          1920,
          1920,
          1996,
          1952,
          1952,
          2000,
          2016,
          2002,
          2016,
          1996,
          1980,
          1932,
          1968,
          1996,
          2000,
          1932,
          1932,
          1996,
          2004,
          2004,
          2008,
          2008,
          2008,
          2012,
          2012,
          2016,
          2000,
          1952,
          1996,
          2016,
          2016,
          2016,
          1960,
          1960,
          1992,
          1992,
          1996,
          2000,
          2004,
          2008,
          2008,
          2012,
          2012,
          1988,
          1956,
          1956,
          1964,
          1968,
          1968,
          1972,
          1992,
          1992,
          2014,
          1996,
          2000,
          1968,
          1976,
          2008,
          1984,
          1964,
          1968,
          1996,
          1996,
          1968,
          1952,
          1956,
          1988,
          1988,
          1988,
          1988,
          1988,
          1988,
          1988,
          2000,
          1960,
          1988,
          1992,
          1996,
          1964,
          1964,
          1968,
          1956,
          1956,
          1956,
          1976,
          1968,
          1964,
          1988,
          1988,
          1988,
          1948,
          1948,
          1932,
          2016,
          2016,
          1980,
          1980,
          1984,
          1984,
          1984,
          1984,
          1968,
          1972,
          1968,
          1972,
          1972,
          1932,
          1976,
          1932,
          1932,
          1992,
          1992,
          1996,
          1996,
          1932,
          1936,
          1964,
          1988,
          1988,
          1992,
          1992,
          2004,
          2016,
          1948,
          1948,
          1948,
          1932,
          1936,
          2002,
          2006,
          1936,
          1996,
          2012,
          2016,
          1996,
          1988,
          1992,
          1932,
          2012,
          2016,
          1996,
          1980,
          1988,
          2004,
          2004,
          2008,
          2008,
          2012,
          2016,
          2012,
          1924,
          1924,
          1996,
          1996,
          2004,
          2008,
          1956,
          1960,
          2016,
          2016,
          1980,
          1980,
          1980,
          1980,
          1980,
          1980,
          1980,
          1992,
          1996,
          1936,
          1948,
          1948,
          1976,
          1976,
          1980,
          1980,
          1988,
          1988,
          1988,
          2010,
          2014,
          1956,
          1948,
          2016,
          2016,
          2016,
          1992,
          1972,
          1952,
          1956,
          1960,
          1960,
          2016,
          2016,
          1988,
          1956,
          1984,
          1988,
          2008,
          2012,
          2016,
          1988,
          1996,
          2004,
          2004,
          2004,
          2004,
          2004,
          2004,
          2004,
          1948,
          1948,
          1952,
          1988,
          1996,
          2000,
          1996,
          1988,
          1992,
          2016,
          1988,
          1988,
          1988,
          1992,
          1992,
          1996,
          1996,
          2000,
          2000,
          2004,
          2000,
          2016,
          1952,
          1952,
          1968,
          1976,
          1984,
          1988,
          1952,
          2016,
          1960,
          1972,
          2016,
          2004,
          2008,
          2008,
          2000,
          2004,
          1960,
          1996,
          1980,
          2004,
          2008,
          2008,
          2016,
          1920,
          1920,
          1960,
          2016,
          2016,
          1968,
          1984,
          2000,
          2004,
          2004,
          2008,
          1988,
          2016,
          1976,
          2008,
          1988,
          2016,
          1996,
          2016,
          2008,
          2012,
          2004,
          2004,
          2012,
          2012,
          2012,
          2012,
          2012,
          2012,
          2016,
          2016,
          2016,
          2016,
          2016,
          2016,
          2016,
          2016,
          1936,
          1992,
          1996,
          2004,
          1968,
          2016,
          2016,
          1992,
          1992,
          2016,
          1952,
          1996,
          1996,
          2000,
          2000,
          2004,
          1984,
          2008,
          1980,
          1984,
          1988,
          1992,
          1996,
          2016,
          1968,
          1992,
          1992,
          1992,
          1996,
          2012,
          2016,
          2016,
          1948,
          1948,
          2012,
          2016,
          1960,
          2000,
          1924,
          1992,
          1996,
          1992,
          1996,
          1968,
          1932,
          1972,
          1980,
          1984,
          1964,
          1972,
          2004,
          1952,
          1992,
          2016,
          2016,
          2016,
          1992,
          1996,
          2012,
          2008,
          1984,
          2012,
          1996,
          2008,
          2008,
          2006,
          1992,
          2000,
          1948,
          1988,
          2016,
          2008,
          2016,
          2000,
          2000,
          1972,
          1980,
          1980,
          1988,
          1988,
          2008,
          1984,
          1948,
          1952,
          1956,
          1972,
          1968,
          1980,
          2016,
          2016,
          2016,
          1964,
          1980,
          1984,
          1948,
          1956,
          1956,
          2004,
          1992,
          1980,
          2016,
          1920,
          1920,
          1920,
          2016,
          2000,
          2004,
          2004,
          2016,
          1984,
          2004,
          2008,
          2016,
          2004,
          2004,
          2004,
          1932,
          2008,
          1992,
          1992,
          1992,
          1980,
          1984,
          1988,
          1988,
          2012,
          2016,
          1996,
          1988,
          1988,
          1932,
          1936,
          1996,
          1968,
          2008,
          2016,
          1976,
          1980,
          1964,
          1976,
          2004,
          1936,
          1996,
          1996,
          2000,
          1936,
          1992,
          2012,
          1976,
          1992,
          1996,
          1996,
          1996,
          1996,
          2016,
          2016,
          2016,
          1984,
          1988,
          1988,
          1992,
          1992,
          2016,
          2004,
          2004,
          1984,
          1988,
          1992,
          1992,
          1992,
          1972,
          1996,
          1952,
          1932,
          1952,
          1968,
          1960,
          2012,
          2016,
          2016,
          1976,
          1932,
          1996,
          1984,
          1968,
          2012,
          1988,
          1988,
          1988,
          2008,
          2008,
          2012,
          2012,
          1992,
          2008,
          2008,
          1980,
          1988,
          2008,
          2008,
          2012,
          2012,
          2016,
          2016,
          2004,
          2008,
          1972,
          1936,
          1936,
          1936,
          1964,
          1960,
          1952,
          2016,
          1996,
          1936,
          1936,
          1948,
          1948,
          2016,
          2016,
          2012,
          2004,
          2008,
          1972,
          1952,
          1920,
          2016,
          2008,
          2008,
          2016,
          2016,
          2008,
          2008,
          2012,
          2012,
          2016,
          2016,
          1980,
          1952,
          1992,
          1932,
          1932,
          1936,
          1936,
          1936,
          1936,
          1952,
          1952,
          1964,
          1968,
          2016,
          2004,
          1972,
          1972,
          1960,
          1988,
          1980,
          1972,
          1920,
          1920,
          1920,
          2004,
          2008,
          1976,
          1976,
          1980,
          1988,
          1960,
          1960,
          1964,
          1932,
          1920,
          1920,
          1920,
          2016,
          1980,
          2012,
          2016,
          2016,
          1992,
          1996,
          2004,
          2008,
          2008,
          1992,
          1960,
          1960,
          1964,
          1964,
          1948,
          2016,
          1972,
          1972,
          1972,
          1924,
          1924,
          1924,
          1996,
          2012,
          2016,
          1984,
          1988,
          1976,
          1972,
          1968,
          1972,
          1952,
          1956,
          1964,
          1976,
          1964,
          2008,
          1972,
          2016,
          1952,
          1948
         ],
         "xaxis": "x",
         "y": [
          194,
          194,
          190,
          185,
          176,
          179,
          189,
          null,
          null,
          195,
          195,
          195,
          186,
          186,
          186,
          180,
          180,
          193,
          193,
          194,
          181,
          181,
          181,
          181,
          null,
          null,
          174,
          180,
          180,
          172,
          172,
          null,
          null,
          null,
          null,
          176,
          183,
          183,
          186,
          186,
          186,
          188,
          180,
          180,
          180,
          180,
          180,
          177,
          177,
          177,
          177,
          177,
          177,
          177,
          177,
          177,
          177,
          176,
          176,
          181,
          null,
          158,
          158,
          158,
          191,
          190,
          170,
          170,
          182,
          183,
          165,
          171,
          null,
          198,
          198,
          190,
          null,
          null,
          178,
          172,
          172,
          null,
          168,
          181,
          202,
          172,
          172,
          163,
          178,
          178,
          165,
          183,
          201,
          201,
          null,
          null,
          null,
          null,
          172,
          172,
          180,
          191,
          191,
          191,
          191,
          191,
          191,
          194,
          185,
          185,
          185,
          185,
          185,
          185,
          185,
          185,
          188,
          188,
          181,
          181,
          181,
          181,
          183,
          184,
          184,
          184,
          null,
          189,
          189,
          181,
          176,
          189,
          189,
          172,
          185,
          185,
          168,
          167,
          184,
          193,
          178,
          178,
          172,
          172,
          172,
          175,
          null,
          190,
          187,
          null,
          null,
          182,
          182,
          182,
          null,
          195,
          195,
          195,
          184,
          184,
          184,
          184,
          184,
          184,
          194,
          194,
          181,
          null,
          null,
          175,
          175,
          175,
          175,
          175,
          175,
          175,
          182,
          181,
          181,
          175,
          185,
          180,
          180,
          null,
          null,
          187,
          null,
          null,
          187,
          187,
          187,
          190,
          null,
          195,
          198,
          198,
          198,
          198,
          183,
          187,
          187,
          185,
          174,
          181,
          null,
          null,
          187,
          187,
          187,
          186,
          185,
          185,
          185,
          185,
          185,
          190,
          190,
          190,
          196,
          196,
          185,
          185,
          null,
          null,
          null,
          null,
          183,
          187,
          193,
          177,
          177,
          174,
          174,
          174,
          185,
          181,
          180,
          null,
          null,
          null,
          196,
          185,
          180,
          203,
          203,
          203,
          203,
          203,
          203,
          203,
          203,
          203,
          176,
          182,
          177,
          177,
          173,
          173,
          null,
          null,
          173,
          173,
          173,
          166,
          166,
          166,
          178,
          178,
          188,
          176,
          null,
          173,
          null,
          180,
          180,
          180,
          176,
          176,
          188,
          188,
          180,
          180,
          null,
          null,
          183,
          null,
          null,
          188,
          200,
          200,
          200,
          200,
          195,
          170,
          170,
          173,
          173,
          182,
          182,
          177,
          null,
          180,
          180,
          185,
          186,
          185,
          179,
          170,
          170,
          170,
          null,
          null,
          null,
          174,
          188,
          188,
          196,
          176,
          168,
          179,
          179,
          183,
          183,
          183,
          null,
          183,
          183,
          185,
          178,
          178,
          186,
          187,
          187,
          187,
          165,
          171,
          171,
          null,
          181,
          181,
          175,
          184,
          184,
          184,
          184,
          184,
          184,
          184,
          184,
          null,
          null,
          183,
          172,
          172,
          null,
          null,
          null,
          182,
          173,
          182,
          182,
          null,
          178,
          178,
          190,
          190,
          163,
          174,
          190,
          190,
          190,
          190,
          190,
          167,
          180,
          191,
          195,
          171,
          185,
          null,
          195,
          195,
          172,
          180,
          null,
          null,
          null,
          null,
          190,
          190,
          183,
          171,
          171,
          179,
          179,
          179,
          193,
          177,
          null,
          159,
          189,
          189,
          178,
          178,
          178,
          178,
          182,
          196,
          196,
          null,
          null,
          171,
          182,
          182,
          180,
          183,
          183,
          183,
          170,
          181,
          170,
          187,
          187,
          187,
          null,
          178,
          183,
          183,
          183,
          183,
          183,
          183,
          183,
          183,
          183,
          176,
          170,
          186,
          186,
          186,
          186,
          186,
          185,
          185,
          167,
          196,
          185,
          174,
          178,
          174,
          174,
          174,
          null,
          null,
          181,
          181,
          181,
          181,
          null,
          180,
          180,
          null,
          null,
          null,
          168,
          178,
          178,
          175,
          163,
          187,
          187,
          187,
          187,
          187,
          188,
          179,
          179,
          174,
          174,
          174,
          174,
          174,
          186,
          186,
          186,
          185,
          173,
          178,
          178,
          170,
          170,
          184,
          null,
          null,
          null,
          null,
          185,
          185,
          185,
          null,
          190,
          178,
          178,
          160,
          181,
          181,
          178,
          178,
          null,
          null,
          null,
          null,
          null,
          178,
          178,
          null,
          null,
          173,
          173,
          217,
          176,
          187,
          187,
          187,
          187,
          187,
          187,
          187,
          172,
          172,
          180,
          180,
          195,
          180,
          180,
          186,
          193,
          193,
          193,
          168,
          202,
          167,
          182,
          184,
          184,
          180,
          189,
          177,
          177,
          177,
          201,
          171,
          175,
          175,
          183,
          183,
          183,
          183,
          180,
          170,
          null,
          186,
          173,
          174,
          174,
          174,
          160,
          160,
          182,
          182,
          182,
          182,
          182,
          184,
          184,
          175,
          176,
          184,
          184,
          195,
          179,
          179,
          182,
          182,
          182,
          182,
          182,
          null,
          null,
          null,
          null,
          null,
          null,
          180,
          180,
          180,
          null,
          182,
          182,
          182,
          192,
          192,
          192,
          181,
          181,
          181,
          163,
          null,
          null,
          175,
          175,
          175,
          175,
          180,
          176,
          176,
          176,
          175,
          175,
          175,
          175,
          176,
          null,
          null,
          175,
          null,
          172,
          172,
          172,
          172,
          166,
          166,
          166,
          191,
          191,
          172,
          172,
          168,
          168,
          166,
          166,
          166,
          166,
          157,
          193,
          193,
          193,
          174,
          174,
          180,
          169,
          171,
          null,
          null,
          198,
          null,
          null,
          null,
          null,
          null,
          null,
          180,
          180,
          180,
          152,
          178,
          180,
          180,
          180,
          187,
          null,
          null,
          null,
          null,
          null,
          null,
          null,
          182,
          186,
          186,
          190,
          null,
          185,
          182,
          170,
          172,
          186,
          186,
          186,
          186,
          null,
          178,
          null,
          null,
          null,
          null,
          198,
          172,
          170,
          170,
          170,
          null,
          163,
          163,
          154,
          154,
          187,
          187,
          null,
          170,
          170,
          194,
          180,
          180,
          182,
          176,
          176,
          176,
          181,
          181,
          181,
          193,
          163,
          181,
          181,
          null,
          183,
          183,
          183,
          173,
          null,
          192,
          null,
          null,
          193,
          180,
          168,
          160,
          183,
          182,
          182,
          182,
          182,
          182,
          182,
          182,
          182,
          170,
          163,
          null,
          169,
          169,
          null,
          178,
          178,
          178,
          178,
          168,
          null,
          null,
          170,
          174,
          174,
          174,
          174,
          170,
          174,
          174,
          172,
          172,
          null,
          186,
          186,
          186,
          186,
          186,
          186,
          186,
          186,
          192,
          187,
          198,
          173,
          null,
          173,
          173,
          173,
          180,
          186,
          null,
          188,
          166,
          166,
          166,
          null,
          168,
          187,
          174,
          174,
          174,
          173,
          173,
          173,
          168,
          168,
          168,
          168,
          175,
          175,
          175,
          175,
          181,
          null,
          170,
          180,
          null,
          null,
          null,
          198,
          null,
          null,
          185,
          185,
          188,
          188,
          175,
          172,
          172,
          172,
          172,
          171,
          171,
          171,
          200,
          167,
          167,
          182,
          180,
          177,
          177,
          null,
          183,
          183,
          null,
          null,
          null,
          null,
          null,
          190,
          170,
          173,
          174,
          174,
          174,
          174,
          170,
          null,
          178,
          167,
          167,
          167,
          167,
          184,
          182,
          null,
          195,
          182,
          183,
          null,
          null,
          null,
          null,
          187,
          171,
          null,
          null,
          183,
          175,
          180,
          178,
          null,
          null,
          null,
          178,
          190,
          170,
          167,
          null,
          null,
          180,
          180,
          208,
          199,
          null,
          175,
          181,
          181,
          183,
          183,
          193,
          null,
          null,
          173,
          173,
          173,
          173,
          170,
          181,
          185,
          185,
          166,
          166,
          166,
          166,
          166,
          166,
          166,
          166,
          null,
          null,
          null,
          188,
          188,
          null,
          188,
          175,
          190,
          null,
          183,
          183,
          189,
          null,
          179,
          179,
          179,
          179,
          179,
          179,
          179,
          191,
          180,
          180,
          180,
          180,
          180,
          185,
          185,
          185,
          185,
          170,
          170,
          170,
          170,
          170,
          190,
          190,
          190,
          170,
          null,
          178,
          178,
          178,
          178,
          178,
          173,
          180,
          180,
          180,
          null,
          null,
          175,
          175,
          180,
          182,
          182,
          182,
          182,
          182,
          182,
          182,
          182,
          185,
          185,
          186,
          186,
          186,
          186,
          186,
          186,
          185,
          179,
          null,
          null,
          null,
          187,
          187,
          187,
          178,
          182,
          182,
          182,
          182,
          173,
          171,
          null,
          177,
          null,
          166,
          166,
          166,
          null,
          null,
          null,
          null,
          178,
          192,
          192,
          163,
          185,
          185,
          190,
          171,
          179,
          203,
          203,
          203,
          170,
          172,
          170,
          193,
          192,
          180,
          198,
          192,
          168,
          196,
          196,
          174,
          204,
          204,
          185,
          178,
          174,
          174,
          174,
          174,
          174,
          174,
          174,
          null,
          185,
          181,
          181,
          188,
          178,
          178,
          178,
          190,
          190,
          175,
          175,
          174,
          174,
          176,
          176,
          178,
          175,
          175,
          175,
          175,
          175,
          175,
          171,
          196,
          185,
          185,
          181,
          185,
          198,
          202,
          202,
          202,
          185,
          null,
          174,
          174,
          174,
          172,
          null,
          null,
          186,
          186,
          190,
          190,
          194,
          194,
          194,
          194,
          176,
          175,
          175,
          175,
          175,
          175,
          198,
          198,
          198,
          198,
          null,
          175,
          175,
          175,
          175,
          175,
          175,
          180,
          172,
          172,
          180,
          183,
          null,
          178,
          203,
          185,
          185,
          165,
          169,
          169,
          null,
          null,
          null,
          null,
          null,
          null,
          null,
          182,
          184,
          184,
          199,
          169,
          186,
          186,
          186,
          186,
          186,
          190,
          190,
          208,
          180,
          183,
          183,
          175,
          170,
          170,
          170,
          170,
          170,
          170,
          170,
          170,
          170,
          170,
          170,
          183,
          191,
          191,
          null,
          null,
          170,
          170,
          170,
          170,
          null,
          182,
          192,
          192,
          180,
          206,
          206,
          206,
          195,
          195,
          175,
          182,
          183,
          183,
          205,
          null,
          186,
          192,
          175,
          192,
          190,
          190,
          189,
          189,
          173,
          173,
          162,
          184,
          178,
          178,
          178,
          178,
          null,
          null,
          181,
          165,
          186,
          186,
          186,
          186,
          null,
          null,
          207,
          207,
          null,
          null,
          174,
          174,
          174,
          174,
          174,
          174,
          194,
          178,
          173,
          170,
          186,
          186,
          168,
          178,
          178,
          178,
          178,
          187,
          175,
          175,
          175,
          null,
          180,
          180,
          180,
          null,
          null,
          193,
          164,
          178,
          178,
          null,
          null,
          null,
          null,
          null,
          183,
          183,
          null,
          null,
          190,
          190,
          190,
          191,
          191,
          192,
          192,
          187,
          178,
          178,
          null,
          null,
          177,
          197,
          null,
          null,
          null,
          null,
          180,
          180,
          180,
          180,
          182,
          187,
          170,
          null,
          null,
          null,
          188,
          188,
          188,
          188,
          188,
          188,
          188,
          188,
          188,
          188,
          181,
          180,
          169,
          169,
          null,
          null,
          185,
          181,
          206,
          185,
          null,
          181,
          195,
          184,
          184,
          184,
          184,
          184,
          184,
          178,
          178,
          null,
          178,
          178,
          178,
          178,
          172,
          172,
          165,
          null,
          170,
          180,
          180,
          180,
          180,
          null,
          186,
          null,
          163,
          163,
          null,
          164,
          189,
          189,
          189,
          189,
          189,
          189,
          178,
          172,
          188,
          172,
          188,
          181,
          181,
          181,
          null,
          189,
          181,
          181,
          181,
          181,
          180,
          180,
          180,
          190,
          190,
          200,
          193,
          193,
          174,
          181,
          181,
          181,
          181,
          181,
          181,
          181,
          181,
          183,
          170,
          168,
          168,
          173,
          173,
          173,
          188,
          null,
          180,
          180,
          null,
          182,
          167,
          167,
          167,
          167,
          165,
          165,
          178,
          194,
          194,
          null,
          173,
          162,
          184,
          199,
          199,
          199,
          199,
          183,
          183,
          198,
          198,
          165,
          180,
          169,
          169,
          169,
          169,
          169,
          169,
          null,
          171,
          195,
          195,
          186,
          186,
          186,
          175,
          null,
          null,
          null,
          178,
          178,
          178,
          185,
          185,
          186,
          207,
          207,
          204,
          204,
          204,
          182,
          181,
          187,
          178,
          180,
          180,
          154,
          176,
          176,
          180,
          179,
          185,
          190,
          190,
          190,
          180,
          null,
          183,
          183,
          183,
          183,
          181,
          181,
          181,
          184,
          184,
          184,
          null,
          null,
          175,
          null,
          190,
          190,
          179,
          179,
          179,
          175,
          175,
          175,
          185,
          178,
          184,
          184,
          null,
          180,
          null,
          null,
          null,
          174,
          174,
          203,
          203,
          null,
          null,
          183,
          173,
          193,
          193,
          null,
          null,
          196,
          196,
          185,
          185,
          187,
          187,
          187,
          187,
          187,
          187,
          187,
          187,
          178,
          180,
          182,
          182,
          null,
          190,
          200,
          200,
          167,
          null,
          177,
          169,
          180,
          null,
          null,
          null,
          null,
          null,
          187,
          187,
          180,
          170,
          170,
          170,
          170,
          170,
          170,
          170,
          182,
          182,
          182,
          182,
          null,
          null,
          null,
          191,
          191,
          185,
          185,
          178,
          172,
          null,
          null,
          null,
          null,
          186,
          186,
          186,
          166,
          192,
          192,
          192,
          192,
          189,
          182,
          null,
          178,
          178,
          179,
          186,
          179,
          188,
          188,
          188,
          188,
          null,
          183,
          178,
          178,
          178,
          178,
          196,
          196,
          172,
          172,
          172,
          198,
          185,
          180,
          211,
          211,
          164,
          164,
          null,
          181,
          181,
          181,
          192,
          181,
          175,
          175,
          180,
          180,
          180,
          189,
          189,
          189,
          189,
          186,
          null,
          179,
          null,
          null,
          null,
          185,
          null,
          182,
          182,
          169,
          173,
          173,
          188,
          195,
          195,
          195,
          195,
          195,
          195,
          195,
          195,
          180,
          180,
          187,
          187,
          187,
          187,
          null,
          176,
          183,
          211,
          null,
          165,
          165,
          165,
          165,
          196,
          196,
          196,
          168,
          168,
          190,
          178,
          181,
          182,
          183,
          183,
          183,
          177,
          181,
          184,
          174,
          174,
          175,
          null,
          172,
          171,
          180,
          180,
          null,
          194,
          183,
          null,
          168,
          168,
          176,
          176,
          null,
          null,
          180,
          180,
          173,
          173,
          173,
          173,
          173,
          180,
          180,
          180,
          180,
          179,
          179,
          179,
          194,
          194,
          194,
          173,
          170,
          170,
          201,
          201,
          172,
          217,
          217,
          null,
          null,
          186,
          186,
          173,
          185,
          185,
          null,
          null,
          null,
          null,
          null,
          187,
          174,
          174,
          185,
          187,
          182,
          178,
          188,
          198,
          198,
          185,
          185,
          176,
          187,
          187,
          187,
          187,
          187,
          187,
          187,
          187,
          167,
          null,
          190,
          179,
          179,
          183,
          175,
          175,
          177,
          177,
          177,
          177,
          177,
          177,
          177,
          177,
          177,
          172,
          175,
          175,
          175,
          175,
          175,
          175,
          175,
          175,
          182,
          192,
          173,
          197,
          197,
          172,
          169,
          188,
          188,
          195,
          182,
          185,
          null,
          null,
          173,
          173,
          173,
          173,
          173,
          173,
          173,
          180,
          165,
          204,
          204,
          204,
          185,
          185,
          185,
          null,
          null,
          null,
          178,
          166,
          null,
          187,
          187,
          187,
          null,
          null,
          182,
          165,
          192,
          158,
          158,
          158,
          158,
          158,
          158,
          178,
          178,
          175,
          175,
          181,
          180,
          182,
          173,
          173,
          175,
          175,
          175,
          175,
          180,
          180,
          182,
          185,
          185,
          185,
          185,
          177,
          167,
          null,
          null,
          null,
          178,
          null,
          181,
          181,
          null,
          181,
          192,
          192,
          170,
          177,
          177,
          173,
          185,
          185,
          175,
          190,
          190,
          186,
          186,
          186,
          186,
          171,
          171,
          182,
          null,
          null,
          190,
          190,
          190,
          186,
          168,
          168,
          180,
          180,
          173,
          173,
          173,
          173,
          173,
          173,
          173,
          null,
          178,
          null,
          null,
          null,
          181,
          181,
          181,
          181,
          185,
          185,
          185,
          184,
          184,
          null,
          180,
          192,
          193,
          193,
          null,
          178,
          null,
          null,
          170,
          170,
          181,
          172,
          null,
          null,
          181,
          181,
          190,
          194,
          194,
          170,
          180,
          169,
          169,
          169,
          169,
          169,
          169,
          169,
          null,
          null,
          null,
          185,
          175,
          171,
          201,
          214,
          214,
          187,
          181,
          181,
          181,
          181,
          181,
          181,
          181,
          181,
          181,
          181,
          180,
          163,
          180,
          180,
          190,
          176,
          185,
          185,
          null,
          184,
          null,
          170,
          173,
          186,
          186,
          192,
          189,
          189,
          172,
          182,
          189,
          176,
          176,
          176,
          191,
          170,
          170,
          190,
          182,
          182,
          180,
          160,
          166,
          166,
          183,
          183,
          168,
          189,
          170,
          182,
          182,
          184,
          180,
          194,
          190,
          190,
          185,
          185,
          161,
          161,
          161,
          161,
          161,
          161,
          161,
          161,
          161,
          161,
          161,
          161,
          161,
          161,
          null,
          184,
          184,
          184,
          191,
          184,
          183,
          null,
          null,
          188,
          null,
          193,
          193,
          193,
          193,
          193,
          176,
          197,
          205,
          205,
          205,
          205,
          205,
          187,
          186,
          null,
          null,
          null,
          197,
          190,
          190,
          190,
          null,
          null,
          190,
          190,
          169,
          178,
          null,
          183,
          183,
          170,
          170,
          191,
          178,
          184,
          160,
          160,
          166,
          166,
          185,
          null,
          174,
          174,
          181,
          170,
          183,
          183,
          175,
          196,
          183,
          188,
          176,
          177,
          191,
          181,
          182,
          182,
          null,
          182,
          190,
          160,
          160,
          194,
          194,
          170,
          173,
          173,
          173,
          173,
          170,
          207,
          null,
          null,
          null,
          163,
          185,
          187,
          184,
          173,
          194,
          null,
          190,
          190,
          null,
          null,
          null,
          182,
          null,
          173,
          190,
          null,
          null,
          null,
          196,
          168,
          168,
          168,
          187,
          189,
          199,
          199,
          189,
          193,
          193,
          193,
          183,
          183,
          null,
          null,
          null,
          187,
          187,
          178,
          178,
          210,
          161,
          188,
          177,
          177,
          160,
          160,
          182,
          200,
          184,
          184,
          191,
          191,
          null,
          190,
          194,
          null,
          168,
          200,
          200,
          null,
          null,
          188,
          176,
          192,
          192,
          192,
          185,
          185,
          192,
          172,
          182,
          174,
          174,
          174,
          174,
          174,
          180,
          176,
          176,
          187,
          187,
          187,
          196,
          196,
          169,
          187,
          null,
          180,
          null,
          180,
          170,
          176,
          176,
          176,
          168,
          180,
          203,
          188,
          176,
          206,
          175,
          175,
          175,
          180,
          180,
          180,
          180,
          null,
          180,
          180,
          177,
          177,
          170,
          170,
          170,
          170,
          170,
          170,
          184,
          184,
          180,
          null,
          null,
          null,
          null,
          171,
          null,
          176,
          186,
          null,
          null,
          null,
          null,
          180,
          178,
          211,
          194,
          194,
          160,
          null,
          null,
          178,
          181,
          181,
          181,
          181,
          188,
          188,
          188,
          188,
          171,
          171,
          164,
          null,
          null,
          null,
          null,
          null,
          null,
          null,
          null,
          null,
          null,
          187,
          187,
          196,
          180,
          185,
          185,
          174,
          170,
          191,
          172,
          null,
          null,
          null,
          163,
          165,
          180,
          185,
          185,
          185,
          164,
          164,
          164,
          180,
          175,
          175,
          175,
          169,
          193,
          191,
          191,
          191,
          180,
          180,
          186,
          173,
          173,
          null,
          187,
          187,
          187,
          187,
          null,
          156,
          184,
          184,
          184,
          null,
          null,
          null,
          180,
          191,
          191,
          190,
          190,
          180,
          172,
          200,
          200,
          195,
          195,
          null,
          177,
          null,
          190,
          186,
          184,
          null,
          null
         ],
         "yaxis": "y"
        },
        {
         "customdata": [
          [
           "Silver"
          ],
          [
           "Silver"
          ],
          [
           "Silver"
          ],
          [
           "Silver"
          ],
          [
           "Silver"
          ],
          [
           "Silver"
          ],
          [
           "Silver"
          ],
          [
           "Silver"
          ],
          [
           "Silver"
          ],
          [
           "Silver"
          ],
          [
           "Silver"
          ],
          [
           "Silver"
          ],
          [
           "Silver"
          ],
          [
           "Silver"
          ],
          [
           "Silver"
          ],
          [
           "Silver"
          ],
          [
           "Silver"
          ],
          [
           "Silver"
          ],
          [
           "Silver"
          ],
          [
           "Silver"
          ],
          [
           "Silver"
          ],
          [
           "Silver"
          ],
          [
           "Silver"
          ],
          [
           "Silver"
          ],
          [
           "Silver"
          ],
          [
           "Silver"
          ],
          [
           "Silver"
          ],
          [
           "Silver"
          ],
          [
           "Silver"
          ],
          [
           "Silver"
          ],
          [
           "Silver"
          ],
          [
           "Silver"
          ],
          [
           "Silver"
          ],
          [
           "Silver"
          ],
          [
           "Silver"
          ],
          [
           "Silver"
          ],
          [
           "Silver"
          ],
          [
           "Silver"
          ],
          [
           "Silver"
          ],
          [
           "Silver"
          ],
          [
           "Silver"
          ],
          [
           "Silver"
          ],
          [
           "Silver"
          ],
          [
           "Silver"
          ],
          [
           "Silver"
          ],
          [
           "Silver"
          ],
          [
           "Silver"
          ],
          [
           "Silver"
          ],
          [
           "Silver"
          ],
          [
           "Silver"
          ],
          [
           "Silver"
          ],
          [
           "Silver"
          ],
          [
           "Silver"
          ],
          [
           "Silver"
          ],
          [
           "Silver"
          ],
          [
           "Silver"
          ],
          [
           "Silver"
          ],
          [
           "Silver"
          ],
          [
           "Silver"
          ],
          [
           "Silver"
          ],
          [
           "Silver"
          ],
          [
           "Silver"
          ],
          [
           "Silver"
          ],
          [
           "Silver"
          ],
          [
           "Silver"
          ],
          [
           "Silver"
          ],
          [
           "Silver"
          ],
          [
           "Silver"
          ],
          [
           "Silver"
          ],
          [
           "Silver"
          ],
          [
           "Silver"
          ],
          [
           "Silver"
          ],
          [
           "Silver"
          ],
          [
           "Silver"
          ],
          [
           "Silver"
          ],
          [
           "Silver"
          ],
          [
           "Silver"
          ],
          [
           "Silver"
          ],
          [
           "Silver"
          ],
          [
           "Silver"
          ],
          [
           "Silver"
          ],
          [
           "Silver"
          ],
          [
           "Silver"
          ],
          [
           "Silver"
          ],
          [
           "Silver"
          ],
          [
           "Silver"
          ],
          [
           "Silver"
          ],
          [
           "Silver"
          ],
          [
           "Silver"
          ],
          [
           "Silver"
          ],
          [
           "Silver"
          ],
          [
           "Silver"
          ],
          [
           "Silver"
          ],
          [
           "Silver"
          ],
          [
           "Silver"
          ],
          [
           "Silver"
          ],
          [
           "Silver"
          ],
          [
           "Silver"
          ],
          [
           "Silver"
          ],
          [
           "Silver"
          ],
          [
           "Silver"
          ],
          [
           "Silver"
          ],
          [
           "Silver"
          ],
          [
           "Silver"
          ],
          [
           "Silver"
          ],
          [
           "Silver"
          ],
          [
           "Silver"
          ],
          [
           "Silver"
          ],
          [
           "Silver"
          ],
          [
           "Silver"
          ],
          [
           "Silver"
          ],
          [
           "Silver"
          ],
          [
           "Silver"
          ],
          [
           "Silver"
          ]
         ],
         "hovertemplate": "<b>%{hovertext}</b><br><br>Sex=M<br>Medal=%{customdata[0]}<br>Year=%{x}<br>Height=%{y}<extra></extra>",
         "hovertext": [
          "Football",
          "Football",
          "Sailing",
          "Football",
          "Football",
          "Football",
          "Volleyball",
          "Volleyball",
          "Volleyball",
          "Football",
          "Football",
          "Volleyball",
          "Football",
          "Football",
          "Volleyball",
          "Volleyball",
          "Swimming",
          "Swimming",
          "Volleyball",
          "Volleyball",
          "Judo",
          "Football",
          "Football",
          "Football",
          "Athletics",
          "Football",
          "Shooting",
          "Athletics",
          "Athletics",
          "Football",
          "Football",
          "Volleyball",
          "Volleyball",
          "Football",
          "Athletics",
          "Volleyball",
          "Football",
          "Football",
          "Volleyball",
          "Volleyball",
          "Volleyball",
          "Boxing",
          "Football",
          "Football",
          "Football",
          "Football",
          "Volleyball",
          "Volleyball",
          "Football",
          "Football",
          "Sailing",
          "Volleyball",
          "Volleyball",
          "Judo",
          "Football",
          "Gymnastics",
          "Football",
          "Football",
          "Football",
          "Football",
          "Football",
          "Volleyball",
          "Football",
          "Volleyball",
          "Football",
          "Volleyball",
          "Volleyball",
          "Volleyball",
          "Volleyball",
          "Football",
          "Football",
          "Volleyball",
          "Football",
          "Football",
          "Swimming",
          "Football",
          "Sailing",
          "Swimming",
          "Athletics",
          "Canoeing",
          "Canoeing",
          "Football",
          "Volleyball",
          "Athletics",
          "Volleyball",
          "Volleyball",
          "Volleyball",
          "Football",
          "Football",
          "Football",
          "Volleyball",
          "Volleyball",
          "Volleyball",
          "Football",
          "Football",
          "Sailing",
          "Sailing",
          "Sailing",
          "Volleyball",
          "Canoeing",
          "Football",
          "Football",
          "Athletics",
          "Football",
          "Football",
          "Football",
          "Judo",
          "Volleyball",
          "Volleyball",
          "Football",
          "Football",
          "Shooting",
          "Volleyball",
          "Gymnastics"
         ],
         "legendgroup": "M, Silver",
         "marker": {
          "color": "blue",
          "opacity": 0.3,
          "symbol": "diamond"
         },
         "mode": "markers",
         "name": "M, Silver",
         "showlegend": true,
         "type": "scattergl",
         "x": [
          1984,
          1988,
          1984,
          2012,
          2012,
          1988,
          2012,
          1984,
          2008,
          1988,
          1984,
          1984,
          1988,
          1988,
          1984,
          1984,
          1992,
          1996,
          2008,
          2012,
          2000,
          1988,
          1984,
          1988,
          1988,
          1984,
          1920,
          2000,
          2000,
          2012,
          2012,
          2008,
          2012,
          1984,
          2000,
          1984,
          1984,
          1988,
          2008,
          2012,
          1984,
          2012,
          2012,
          1984,
          2012,
          1988,
          2008,
          2012,
          1984,
          1984,
          1984,
          2008,
          2008,
          2000,
          2012,
          2016,
          1988,
          1988,
          2012,
          1984,
          2012,
          2008,
          2012,
          1984,
          1988,
          1984,
          2008,
          2012,
          2008,
          1988,
          2012,
          2012,
          2012,
          2012,
          2012,
          1984,
          2008,
          1984,
          1968,
          2016,
          2016,
          2012,
          1984,
          2000,
          2012,
          2008,
          2012,
          1988,
          2012,
          1984,
          1984,
          2012,
          2008,
          2012,
          1984,
          2000,
          2008,
          1984,
          2012,
          2016,
          2012,
          1984,
          2000,
          1988,
          1984,
          2012,
          1984,
          2012,
          1984,
          1984,
          1988,
          2016,
          1984,
          2016
         ],
         "xaxis": "x",
         "y": [
          179,
          179,
          180,
          177,
          179,
          182,
          194,
          198,
          190,
          170,
          180,
          193,
          179,
          177,
          187,
          185,
          203,
          203,
          190,
          190,
          180,
          170,
          185,
          172,
          187,
          178,
          178,
          187,
          186,
          187,
          184,
          201,
          201,
          178,
          166,
          198,
          174,
          175,
          184,
          184,
          199,
          171,
          193,
          180,
          184,
          169,
          192,
          192,
          185,
          null,
          185,
          203,
          199,
          175,
          180,
          170,
          170,
          174,
          185,
          180,
          173,
          183,
          173,
          195,
          178,
          187,
          190,
          190,
          195,
          173,
          191,
          212,
          174,
          179,
          187,
          null,
          185,
          158,
          182,
          175,
          175,
          172,
          190,
          190,
          191,
          205,
          205,
          169,
          184,
          null,
          194,
          209,
          200,
          187,
          178,
          188,
          188,
          170,
          203,
          175,
          183,
          169,
          168,
          182,
          null,
          190,
          170,
          198,
          185,
          177,
          177,
          169,
          193,
          156
         ],
         "yaxis": "y"
        },
        {
         "customdata": [
          [
           "Gold"
          ],
          [
           "Gold"
          ],
          [
           "Gold"
          ],
          [
           "Gold"
          ],
          [
           "Gold"
          ],
          [
           "Gold"
          ],
          [
           "Gold"
          ],
          [
           "Gold"
          ],
          [
           "Gold"
          ],
          [
           "Gold"
          ],
          [
           "Gold"
          ],
          [
           "Gold"
          ],
          [
           "Gold"
          ],
          [
           "Gold"
          ],
          [
           "Gold"
          ],
          [
           "Gold"
          ],
          [
           "Gold"
          ],
          [
           "Gold"
          ],
          [
           "Gold"
          ],
          [
           "Gold"
          ],
          [
           "Gold"
          ],
          [
           "Gold"
          ],
          [
           "Gold"
          ],
          [
           "Gold"
          ],
          [
           "Gold"
          ],
          [
           "Gold"
          ],
          [
           "Gold"
          ],
          [
           "Gold"
          ],
          [
           "Gold"
          ],
          [
           "Gold"
          ],
          [
           "Gold"
          ],
          [
           "Gold"
          ],
          [
           "Gold"
          ],
          [
           "Gold"
          ],
          [
           "Gold"
          ],
          [
           "Gold"
          ],
          [
           "Gold"
          ],
          [
           "Gold"
          ],
          [
           "Gold"
          ],
          [
           "Gold"
          ],
          [
           "Gold"
          ],
          [
           "Gold"
          ],
          [
           "Gold"
          ],
          [
           "Gold"
          ],
          [
           "Gold"
          ],
          [
           "Gold"
          ],
          [
           "Gold"
          ],
          [
           "Gold"
          ],
          [
           "Gold"
          ],
          [
           "Gold"
          ],
          [
           "Gold"
          ],
          [
           "Gold"
          ],
          [
           "Gold"
          ],
          [
           "Gold"
          ],
          [
           "Gold"
          ],
          [
           "Gold"
          ],
          [
           "Gold"
          ],
          [
           "Gold"
          ],
          [
           "Gold"
          ],
          [
           "Gold"
          ],
          [
           "Gold"
          ],
          [
           "Gold"
          ],
          [
           "Gold"
          ],
          [
           "Gold"
          ],
          [
           "Gold"
          ],
          [
           "Gold"
          ],
          [
           "Gold"
          ],
          [
           "Gold"
          ],
          [
           "Gold"
          ],
          [
           "Gold"
          ],
          [
           "Gold"
          ],
          [
           "Gold"
          ],
          [
           "Gold"
          ],
          [
           "Gold"
          ]
         ],
         "hovertemplate": "<b>%{hovertext}</b><br><br>Sex=M<br>Medal=%{customdata[0]}<br>Year=%{x}<br>Height=%{y}<extra></extra>",
         "hovertext": [
          "Volleyball",
          "Volleyball",
          "Volleyball",
          "Sailing",
          "Volleyball",
          "Athletics",
          "Volleyball",
          "Judo",
          "Volleyball",
          "Swimming",
          "Boxing",
          "Athletics",
          "Athletics",
          "Athletics",
          "Volleyball",
          "Volleyball",
          "Football",
          "Volleyball",
          "Volleyball",
          "Volleyball",
          "Football",
          "Sailing",
          "Sailing",
          "Football",
          "Football",
          "Volleyball",
          "Volleyball",
          "Volleyball",
          "Sailing",
          "Sailing",
          "Volleyball",
          "Volleyball",
          "Volleyball",
          "Volleyball",
          "Volleyball",
          "Football",
          "Football",
          "Volleyball",
          "Volleyball",
          "Football",
          "Volleyball",
          "Volleyball",
          "Judo",
          "Volleyball",
          "Volleyball",
          "Volleyball",
          "Football",
          "Volleyball",
          "Shooting",
          "Volleyball",
          "Sailing",
          "Equestrianism",
          "Football",
          "Football",
          "Volleyball",
          "Volleyball",
          "Football",
          "Football",
          "Volleyball",
          "Sailing",
          "Sailing",
          "Sailing",
          "Volleyball",
          "Volleyball",
          "Volleyball",
          "Volleyball",
          "Football",
          "Football",
          "Volleyball",
          "Sailing",
          "Football",
          "Football",
          "Gymnastics",
          "Football"
         ],
         "legendgroup": "M, Gold",
         "marker": {
          "color": "blue",
          "opacity": 0.3,
          "symbol": "square"
         },
         "mode": "markers",
         "name": "M, Gold",
         "showlegend": true,
         "type": "scattergl",
         "x": [
          1992,
          2004,
          2016,
          1980,
          2016,
          2016,
          2016,
          1992,
          1992,
          2008,
          2016,
          1984,
          1952,
          1956,
          2004,
          1992,
          2016,
          2016,
          2004,
          2016,
          2016,
          1996,
          2004,
          2016,
          2016,
          2004,
          1992,
          2004,
          1996,
          2004,
          2016,
          2004,
          2004,
          1992,
          1992,
          2016,
          2016,
          2016,
          2016,
          2016,
          1992,
          2004,
          1988,
          2004,
          2004,
          1992,
          2016,
          1992,
          1920,
          1992,
          1980,
          2004,
          2016,
          2016,
          2004,
          2004,
          2016,
          2016,
          2016,
          1996,
          2004,
          1980,
          2016,
          2016,
          1992,
          1992,
          2016,
          2016,
          2016,
          1980,
          2016,
          2016,
          2012,
          2016
         ],
         "xaxis": "x",
         "y": [
          198,
          190,
          186,
          184,
          199,
          183,
          190,
          null,
          196,
          195,
          171,
          187,
          178,
          178,
          201,
          200,
          173,
          205,
          184,
          184,
          178,
          181,
          181,
          178,
          175,
          192,
          196,
          196,
          185,
          185,
          207,
          203,
          199,
          195,
          192,
          180,
          183,
          195,
          196,
          185,
          184,
          184,
          180,
          196,
          195,
          198,
          174,
          194,
          null,
          201,
          177,
          177,
          172,
          186,
          191,
          205,
          182,
          186,
          209,
          188,
          188,
          173,
          199,
          209,
          194,
          200,
          178,
          188,
          198,
          186,
          189,
          176,
          156,
          170
         ],
         "yaxis": "y"
        },
        {
         "customdata": [
          [
           "Bronze"
          ],
          [
           "Bronze"
          ],
          [
           "Bronze"
          ],
          [
           "Bronze"
          ],
          [
           "Bronze"
          ],
          [
           "Bronze"
          ],
          [
           "Bronze"
          ],
          [
           "Bronze"
          ],
          [
           "Bronze"
          ],
          [
           "Bronze"
          ],
          [
           "Bronze"
          ],
          [
           "Bronze"
          ],
          [
           "Bronze"
          ],
          [
           "Bronze"
          ],
          [
           "Bronze"
          ],
          [
           "Bronze"
          ],
          [
           "Bronze"
          ],
          [
           "Bronze"
          ],
          [
           "Bronze"
          ],
          [
           "Bronze"
          ],
          [
           "Bronze"
          ],
          [
           "Bronze"
          ],
          [
           "Bronze"
          ],
          [
           "Bronze"
          ],
          [
           "Bronze"
          ],
          [
           "Bronze"
          ],
          [
           "Bronze"
          ],
          [
           "Bronze"
          ],
          [
           "Bronze"
          ],
          [
           "Bronze"
          ],
          [
           "Bronze"
          ],
          [
           "Bronze"
          ],
          [
           "Bronze"
          ],
          [
           "Bronze"
          ],
          [
           "Bronze"
          ],
          [
           "Bronze"
          ],
          [
           "Bronze"
          ],
          [
           "Bronze"
          ],
          [
           "Bronze"
          ],
          [
           "Bronze"
          ],
          [
           "Bronze"
          ],
          [
           "Bronze"
          ],
          [
           "Bronze"
          ],
          [
           "Bronze"
          ],
          [
           "Bronze"
          ],
          [
           "Bronze"
          ],
          [
           "Bronze"
          ],
          [
           "Bronze"
          ],
          [
           "Bronze"
          ],
          [
           "Bronze"
          ],
          [
           "Bronze"
          ],
          [
           "Bronze"
          ],
          [
           "Bronze"
          ],
          [
           "Bronze"
          ],
          [
           "Bronze"
          ],
          [
           "Bronze"
          ],
          [
           "Bronze"
          ],
          [
           "Bronze"
          ],
          [
           "Bronze"
          ],
          [
           "Bronze"
          ],
          [
           "Bronze"
          ],
          [
           "Bronze"
          ],
          [
           "Bronze"
          ],
          [
           "Bronze"
          ],
          [
           "Bronze"
          ],
          [
           "Bronze"
          ],
          [
           "Bronze"
          ],
          [
           "Bronze"
          ],
          [
           "Bronze"
          ],
          [
           "Bronze"
          ],
          [
           "Bronze"
          ],
          [
           "Bronze"
          ],
          [
           "Bronze"
          ],
          [
           "Bronze"
          ],
          [
           "Bronze"
          ],
          [
           "Bronze"
          ],
          [
           "Bronze"
          ],
          [
           "Bronze"
          ],
          [
           "Bronze"
          ],
          [
           "Bronze"
          ],
          [
           "Bronze"
          ],
          [
           "Bronze"
          ],
          [
           "Bronze"
          ],
          [
           "Bronze"
          ],
          [
           "Bronze"
          ],
          [
           "Bronze"
          ],
          [
           "Bronze"
          ],
          [
           "Bronze"
          ],
          [
           "Bronze"
          ],
          [
           "Bronze"
          ],
          [
           "Bronze"
          ],
          [
           "Bronze"
          ],
          [
           "Bronze"
          ],
          [
           "Bronze"
          ],
          [
           "Bronze"
          ],
          [
           "Bronze"
          ],
          [
           "Bronze"
          ],
          [
           "Bronze"
          ],
          [
           "Bronze"
          ],
          [
           "Bronze"
          ],
          [
           "Bronze"
          ],
          [
           "Bronze"
          ],
          [
           "Bronze"
          ],
          [
           "Bronze"
          ],
          [
           "Bronze"
          ],
          [
           "Bronze"
          ],
          [
           "Bronze"
          ],
          [
           "Bronze"
          ],
          [
           "Bronze"
          ],
          [
           "Bronze"
          ],
          [
           "Bronze"
          ],
          [
           "Bronze"
          ],
          [
           "Bronze"
          ],
          [
           "Bronze"
          ],
          [
           "Bronze"
          ],
          [
           "Bronze"
          ],
          [
           "Bronze"
          ],
          [
           "Bronze"
          ],
          [
           "Bronze"
          ],
          [
           "Bronze"
          ],
          [
           "Bronze"
          ],
          [
           "Bronze"
          ],
          [
           "Bronze"
          ],
          [
           "Bronze"
          ],
          [
           "Bronze"
          ],
          [
           "Bronze"
          ],
          [
           "Bronze"
          ],
          [
           "Bronze"
          ],
          [
           "Bronze"
          ],
          [
           "Bronze"
          ],
          [
           "Bronze"
          ],
          [
           "Bronze"
          ],
          [
           "Bronze"
          ],
          [
           "Bronze"
          ],
          [
           "Bronze"
          ],
          [
           "Bronze"
          ],
          [
           "Bronze"
          ],
          [
           "Bronze"
          ],
          [
           "Bronze"
          ],
          [
           "Bronze"
          ]
         ],
         "hovertemplate": "<b>%{hovertext}</b><br><br>Sex=M<br>Medal=%{customdata[0]}<br>Year=%{x}<br>Height=%{y}<extra></extra>",
         "hovertext": [
          "Football",
          "Football",
          "Basketball",
          "Basketball",
          "Football",
          "Basketball",
          "Basketball",
          "Football",
          "Football",
          "Shooting",
          "Football",
          "Basketball",
          "Basketball",
          "Basketball",
          "Basketball",
          "Swimming",
          "Swimming",
          "Basketball",
          "Football",
          "Judo",
          "Judo",
          "Judo",
          "Swimming",
          "Swimming",
          "Football",
          "Sailing",
          "Sailing",
          "Sailing",
          "Athletics",
          "Shooting",
          "Basketball",
          "Athletics",
          "Athletics",
          "Judo",
          "Judo",
          "Athletics",
          "Athletics",
          "Equestrianism",
          "Equestrianism",
          "Athletics",
          "Basketball",
          "Athletics",
          "Athletics",
          "Athletics",
          "Athletics",
          "Boxing",
          "Swimming",
          "Basketball",
          "Football",
          "Football",
          "Equestrianism",
          "Equestrianism",
          "Swimming",
          "Basketball",
          "Basketball",
          "Basketball",
          "Sailing",
          "Boxing",
          "Basketball",
          "Sailing",
          "Sailing",
          "Sailing",
          "Basketball",
          "Basketball",
          "Sailing",
          "Sailing",
          "Sailing",
          "Sailing",
          "Football",
          "Judo",
          "Judo",
          "Judo",
          "Football",
          "Football",
          "Judo",
          "Basketball",
          "Basketball",
          "Swimming",
          "Football",
          "Equestrianism",
          "Equestrianism",
          "Football",
          "Judo",
          "Swimming",
          "Football",
          "Football",
          "Swimming",
          "Football",
          "Football",
          "Gymnastics",
          "Basketball",
          "Basketball",
          "Basketball",
          "Swimming",
          "Judo",
          "Basketball",
          "Athletics",
          "Basketball",
          "Basketball",
          "Football",
          "Football",
          "Swimming",
          "Judo",
          "Basketball",
          "Shooting",
          "Sailing",
          "Equestrianism",
          "Equestrianism",
          "Sailing",
          "Athletics",
          "Canoeing",
          "Football",
          "Football",
          "Football",
          "Athletics",
          "Football",
          "Football",
          "Football",
          "Football",
          "Basketball",
          "Basketball",
          "Football",
          "Sailing",
          "Swimming",
          "Swimming",
          "Basketball",
          "Football",
          "Football",
          "Swimming",
          "Basketball",
          "Taekwondo",
          "Football",
          "Shooting",
          "Basketball",
          "Basketball",
          "Basketball",
          "Athletics",
          "Shooting",
          "Football",
          "Football"
         ],
         "legendgroup": "M, Bronze",
         "marker": {
          "color": "blue",
          "opacity": 0.3,
          "symbol": "x"
         },
         "mode": "markers",
         "name": "M, Bronze",
         "showlegend": true,
         "type": "scattergl",
         "x": [
          1996,
          2008,
          1948,
          1960,
          1996,
          1960,
          1964,
          2008,
          1996,
          1920,
          1996,
          1964,
          1960,
          1960,
          1960,
          1996,
          2000,
          1948,
          2008,
          2008,
          2004,
          1984,
          2008,
          2012,
          1996,
          1968,
          1976,
          1968,
          1952,
          1920,
          1948,
          1996,
          1996,
          2012,
          2016,
          1988,
          1996,
          1996,
          2000,
          2008,
          1948,
          2004,
          2008,
          1976,
          1980,
          1968,
          1980,
          1948,
          1996,
          2008,
          1996,
          2000,
          1960,
          1960,
          1964,
          1948,
          1988,
          2012,
          1960,
          2000,
          1976,
          1988,
          1964,
          1948,
          1988,
          1996,
          1988,
          2000,
          1996,
          2004,
          2008,
          1996,
          2008,
          2008,
          1972,
          1960,
          1964,
          2000,
          2008,
          1996,
          2000,
          1996,
          2012,
          1980,
          2008,
          1996,
          1980,
          1996,
          2008,
          2016,
          1960,
          1964,
          1948,
          1980,
          1996,
          1964,
          2008,
          1960,
          1964,
          1996,
          2008,
          1952,
          1984,
          1948,
          1920,
          1996,
          1996,
          2000,
          2012,
          1972,
          2016,
          2008,
          2008,
          2008,
          1996,
          1996,
          1996,
          1996,
          2008,
          1960,
          1964,
          1996,
          2012,
          1996,
          2000,
          1964,
          2008,
          2008,
          2000,
          1964,
          2016,
          2008,
          1920,
          1948,
          1960,
          1964,
          2008,
          1920,
          1996,
          1996
         ],
         "xaxis": "x",
         "y": [
          183,
          179,
          183,
          183,
          170,
          190,
          190,
          176,
          183,
          null,
          177,
          196,
          181,
          189,
          192,
          203,
          203,
          null,
          187,
          180,
          179,
          183,
          195,
          195,
          177,
          179,
          179,
          177,
          186,
          178,
          null,
          187,
          174,
          203,
          203,
          187,
          187,
          179,
          179,
          182,
          175,
          168,
          166,
          186,
          186,
          160,
          182,
          null,
          195,
          173,
          186,
          186,
          184,
          195,
          195,
          null,
          180,
          181,
          180,
          181,
          190,
          182,
          193,
          null,
          185,
          185,
          185,
          185,
          186,
          176,
          176,
          172,
          180,
          170,
          180,
          186,
          186,
          190,
          189,
          178,
          178,
          167,
          164,
          188,
          179,
          178,
          181,
          175,
          173,
          169,
          185,
          185,
          null,
          181,
          180,
          189,
          172,
          178,
          178,
          184,
          182,
          null,
          168,
          180,
          null,
          187,
          177,
          177,
          185,
          182,
          175,
          172,
          179,
          187,
          190,
          186,
          168,
          183,
          180,
          190,
          190,
          176,
          188,
          193,
          193,
          191,
          192,
          183,
          194,
          185,
          190,
          173,
          null,
          null,
          200,
          200,
          188,
          175,
          178,
          175
         ],
         "yaxis": "y"
        },
        {
         "customdata": [
          [
           "Sem medalha"
          ],
          [
           "Sem medalha"
          ],
          [
           "Sem medalha"
          ],
          [
           "Sem medalha"
          ],
          [
           "Sem medalha"
          ],
          [
           "Sem medalha"
          ],
          [
           "Sem medalha"
          ],
          [
           "Sem medalha"
          ],
          [
           "Sem medalha"
          ],
          [
           "Sem medalha"
          ],
          [
           "Sem medalha"
          ],
          [
           "Sem medalha"
          ],
          [
           "Sem medalha"
          ],
          [
           "Sem medalha"
          ],
          [
           "Sem medalha"
          ],
          [
           "Sem medalha"
          ],
          [
           "Sem medalha"
          ],
          [
           "Sem medalha"
          ],
          [
           "Sem medalha"
          ],
          [
           "Sem medalha"
          ],
          [
           "Sem medalha"
          ],
          [
           "Sem medalha"
          ],
          [
           "Sem medalha"
          ],
          [
           "Sem medalha"
          ],
          [
           "Sem medalha"
          ],
          [
           "Sem medalha"
          ],
          [
           "Sem medalha"
          ],
          [
           "Sem medalha"
          ],
          [
           "Sem medalha"
          ],
          [
           "Sem medalha"
          ],
          [
           "Sem medalha"
          ],
          [
           "Sem medalha"
          ],
          [
           "Sem medalha"
          ],
          [
           "Sem medalha"
          ],
          [
           "Sem medalha"
          ],
          [
           "Sem medalha"
          ],
          [
           "Sem medalha"
          ],
          [
           "Sem medalha"
          ],
          [
           "Sem medalha"
          ],
          [
           "Sem medalha"
          ],
          [
           "Sem medalha"
          ],
          [
           "Sem medalha"
          ],
          [
           "Sem medalha"
          ],
          [
           "Sem medalha"
          ],
          [
           "Sem medalha"
          ],
          [
           "Sem medalha"
          ],
          [
           "Sem medalha"
          ],
          [
           "Sem medalha"
          ],
          [
           "Sem medalha"
          ],
          [
           "Sem medalha"
          ],
          [
           "Sem medalha"
          ],
          [
           "Sem medalha"
          ],
          [
           "Sem medalha"
          ],
          [
           "Sem medalha"
          ],
          [
           "Sem medalha"
          ],
          [
           "Sem medalha"
          ],
          [
           "Sem medalha"
          ],
          [
           "Sem medalha"
          ],
          [
           "Sem medalha"
          ],
          [
           "Sem medalha"
          ],
          [
           "Sem medalha"
          ],
          [
           "Sem medalha"
          ],
          [
           "Sem medalha"
          ],
          [
           "Sem medalha"
          ],
          [
           "Sem medalha"
          ],
          [
           "Sem medalha"
          ],
          [
           "Sem medalha"
          ],
          [
           "Sem medalha"
          ],
          [
           "Sem medalha"
          ],
          [
           "Sem medalha"
          ],
          [
           "Sem medalha"
          ],
          [
           "Sem medalha"
          ],
          [
           "Sem medalha"
          ],
          [
           "Sem medalha"
          ],
          [
           "Sem medalha"
          ],
          [
           "Sem medalha"
          ],
          [
           "Sem medalha"
          ],
          [
           "Sem medalha"
          ],
          [
           "Sem medalha"
          ],
          [
           "Sem medalha"
          ],
          [
           "Sem medalha"
          ],
          [
           "Sem medalha"
          ],
          [
           "Sem medalha"
          ],
          [
           "Sem medalha"
          ],
          [
           "Sem medalha"
          ],
          [
           "Sem medalha"
          ],
          [
           "Sem medalha"
          ],
          [
           "Sem medalha"
          ],
          [
           "Sem medalha"
          ],
          [
           "Sem medalha"
          ],
          [
           "Sem medalha"
          ],
          [
           "Sem medalha"
          ],
          [
           "Sem medalha"
          ],
          [
           "Sem medalha"
          ],
          [
           "Sem medalha"
          ],
          [
           "Sem medalha"
          ],
          [
           "Sem medalha"
          ],
          [
           "Sem medalha"
          ],
          [
           "Sem medalha"
          ],
          [
           "Sem medalha"
          ],
          [
           "Sem medalha"
          ],
          [
           "Sem medalha"
          ],
          [
           "Sem medalha"
          ],
          [
           "Sem medalha"
          ],
          [
           "Sem medalha"
          ],
          [
           "Sem medalha"
          ],
          [
           "Sem medalha"
          ],
          [
           "Sem medalha"
          ],
          [
           "Sem medalha"
          ],
          [
           "Sem medalha"
          ],
          [
           "Sem medalha"
          ],
          [
           "Sem medalha"
          ],
          [
           "Sem medalha"
          ],
          [
           "Sem medalha"
          ],
          [
           "Sem medalha"
          ],
          [
           "Sem medalha"
          ],
          [
           "Sem medalha"
          ],
          [
           "Sem medalha"
          ],
          [
           "Sem medalha"
          ],
          [
           "Sem medalha"
          ],
          [
           "Sem medalha"
          ],
          [
           "Sem medalha"
          ],
          [
           "Sem medalha"
          ],
          [
           "Sem medalha"
          ],
          [
           "Sem medalha"
          ],
          [
           "Sem medalha"
          ],
          [
           "Sem medalha"
          ],
          [
           "Sem medalha"
          ],
          [
           "Sem medalha"
          ],
          [
           "Sem medalha"
          ],
          [
           "Sem medalha"
          ],
          [
           "Sem medalha"
          ],
          [
           "Sem medalha"
          ],
          [
           "Sem medalha"
          ],
          [
           "Sem medalha"
          ],
          [
           "Sem medalha"
          ],
          [
           "Sem medalha"
          ],
          [
           "Sem medalha"
          ],
          [
           "Sem medalha"
          ],
          [
           "Sem medalha"
          ],
          [
           "Sem medalha"
          ],
          [
           "Sem medalha"
          ],
          [
           "Sem medalha"
          ],
          [
           "Sem medalha"
          ],
          [
           "Sem medalha"
          ],
          [
           "Sem medalha"
          ],
          [
           "Sem medalha"
          ],
          [
           "Sem medalha"
          ],
          [
           "Sem medalha"
          ],
          [
           "Sem medalha"
          ],
          [
           "Sem medalha"
          ],
          [
           "Sem medalha"
          ],
          [
           "Sem medalha"
          ],
          [
           "Sem medalha"
          ],
          [
           "Sem medalha"
          ],
          [
           "Sem medalha"
          ],
          [
           "Sem medalha"
          ],
          [
           "Sem medalha"
          ],
          [
           "Sem medalha"
          ],
          [
           "Sem medalha"
          ],
          [
           "Sem medalha"
          ],
          [
           "Sem medalha"
          ],
          [
           "Sem medalha"
          ],
          [
           "Sem medalha"
          ],
          [
           "Sem medalha"
          ],
          [
           "Sem medalha"
          ],
          [
           "Sem medalha"
          ],
          [
           "Sem medalha"
          ],
          [
           "Sem medalha"
          ],
          [
           "Sem medalha"
          ],
          [
           "Sem medalha"
          ],
          [
           "Sem medalha"
          ],
          [
           "Sem medalha"
          ],
          [
           "Sem medalha"
          ],
          [
           "Sem medalha"
          ],
          [
           "Sem medalha"
          ],
          [
           "Sem medalha"
          ],
          [
           "Sem medalha"
          ],
          [
           "Sem medalha"
          ],
          [
           "Sem medalha"
          ],
          [
           "Sem medalha"
          ],
          [
           "Sem medalha"
          ],
          [
           "Sem medalha"
          ],
          [
           "Sem medalha"
          ],
          [
           "Sem medalha"
          ],
          [
           "Sem medalha"
          ],
          [
           "Sem medalha"
          ],
          [
           "Sem medalha"
          ],
          [
           "Sem medalha"
          ],
          [
           "Sem medalha"
          ],
          [
           "Sem medalha"
          ],
          [
           "Sem medalha"
          ],
          [
           "Sem medalha"
          ],
          [
           "Sem medalha"
          ],
          [
           "Sem medalha"
          ],
          [
           "Sem medalha"
          ],
          [
           "Sem medalha"
          ],
          [
           "Sem medalha"
          ],
          [
           "Sem medalha"
          ],
          [
           "Sem medalha"
          ],
          [
           "Sem medalha"
          ],
          [
           "Sem medalha"
          ],
          [
           "Sem medalha"
          ],
          [
           "Sem medalha"
          ],
          [
           "Sem medalha"
          ],
          [
           "Sem medalha"
          ],
          [
           "Sem medalha"
          ],
          [
           "Sem medalha"
          ],
          [
           "Sem medalha"
          ],
          [
           "Sem medalha"
          ],
          [
           "Sem medalha"
          ],
          [
           "Sem medalha"
          ],
          [
           "Sem medalha"
          ],
          [
           "Sem medalha"
          ],
          [
           "Sem medalha"
          ],
          [
           "Sem medalha"
          ],
          [
           "Sem medalha"
          ],
          [
           "Sem medalha"
          ],
          [
           "Sem medalha"
          ],
          [
           "Sem medalha"
          ],
          [
           "Sem medalha"
          ],
          [
           "Sem medalha"
          ],
          [
           "Sem medalha"
          ],
          [
           "Sem medalha"
          ],
          [
           "Sem medalha"
          ],
          [
           "Sem medalha"
          ],
          [
           "Sem medalha"
          ],
          [
           "Sem medalha"
          ],
          [
           "Sem medalha"
          ],
          [
           "Sem medalha"
          ],
          [
           "Sem medalha"
          ],
          [
           "Sem medalha"
          ],
          [
           "Sem medalha"
          ],
          [
           "Sem medalha"
          ],
          [
           "Sem medalha"
          ],
          [
           "Sem medalha"
          ],
          [
           "Sem medalha"
          ],
          [
           "Sem medalha"
          ],
          [
           "Sem medalha"
          ],
          [
           "Sem medalha"
          ],
          [
           "Sem medalha"
          ],
          [
           "Sem medalha"
          ],
          [
           "Sem medalha"
          ],
          [
           "Sem medalha"
          ],
          [
           "Sem medalha"
          ],
          [
           "Sem medalha"
          ],
          [
           "Sem medalha"
          ],
          [
           "Sem medalha"
          ],
          [
           "Sem medalha"
          ],
          [
           "Sem medalha"
          ],
          [
           "Sem medalha"
          ],
          [
           "Sem medalha"
          ],
          [
           "Sem medalha"
          ],
          [
           "Sem medalha"
          ],
          [
           "Sem medalha"
          ],
          [
           "Sem medalha"
          ],
          [
           "Sem medalha"
          ],
          [
           "Sem medalha"
          ],
          [
           "Sem medalha"
          ],
          [
           "Sem medalha"
          ],
          [
           "Sem medalha"
          ],
          [
           "Sem medalha"
          ],
          [
           "Sem medalha"
          ],
          [
           "Sem medalha"
          ],
          [
           "Sem medalha"
          ],
          [
           "Sem medalha"
          ],
          [
           "Sem medalha"
          ],
          [
           "Sem medalha"
          ],
          [
           "Sem medalha"
          ],
          [
           "Sem medalha"
          ],
          [
           "Sem medalha"
          ],
          [
           "Sem medalha"
          ],
          [
           "Sem medalha"
          ],
          [
           "Sem medalha"
          ],
          [
           "Sem medalha"
          ],
          [
           "Sem medalha"
          ],
          [
           "Sem medalha"
          ],
          [
           "Sem medalha"
          ],
          [
           "Sem medalha"
          ],
          [
           "Sem medalha"
          ],
          [
           "Sem medalha"
          ],
          [
           "Sem medalha"
          ],
          [
           "Sem medalha"
          ],
          [
           "Sem medalha"
          ],
          [
           "Sem medalha"
          ],
          [
           "Sem medalha"
          ],
          [
           "Sem medalha"
          ],
          [
           "Sem medalha"
          ],
          [
           "Sem medalha"
          ],
          [
           "Sem medalha"
          ],
          [
           "Sem medalha"
          ],
          [
           "Sem medalha"
          ],
          [
           "Sem medalha"
          ],
          [
           "Sem medalha"
          ],
          [
           "Sem medalha"
          ],
          [
           "Sem medalha"
          ],
          [
           "Sem medalha"
          ],
          [
           "Sem medalha"
          ],
          [
           "Sem medalha"
          ],
          [
           "Sem medalha"
          ],
          [
           "Sem medalha"
          ],
          [
           "Sem medalha"
          ],
          [
           "Sem medalha"
          ],
          [
           "Sem medalha"
          ],
          [
           "Sem medalha"
          ],
          [
           "Sem medalha"
          ],
          [
           "Sem medalha"
          ],
          [
           "Sem medalha"
          ],
          [
           "Sem medalha"
          ],
          [
           "Sem medalha"
          ],
          [
           "Sem medalha"
          ],
          [
           "Sem medalha"
          ],
          [
           "Sem medalha"
          ],
          [
           "Sem medalha"
          ],
          [
           "Sem medalha"
          ],
          [
           "Sem medalha"
          ],
          [
           "Sem medalha"
          ],
          [
           "Sem medalha"
          ],
          [
           "Sem medalha"
          ],
          [
           "Sem medalha"
          ],
          [
           "Sem medalha"
          ],
          [
           "Sem medalha"
          ],
          [
           "Sem medalha"
          ],
          [
           "Sem medalha"
          ],
          [
           "Sem medalha"
          ],
          [
           "Sem medalha"
          ],
          [
           "Sem medalha"
          ],
          [
           "Sem medalha"
          ],
          [
           "Sem medalha"
          ],
          [
           "Sem medalha"
          ],
          [
           "Sem medalha"
          ],
          [
           "Sem medalha"
          ],
          [
           "Sem medalha"
          ],
          [
           "Sem medalha"
          ],
          [
           "Sem medalha"
          ],
          [
           "Sem medalha"
          ],
          [
           "Sem medalha"
          ],
          [
           "Sem medalha"
          ],
          [
           "Sem medalha"
          ],
          [
           "Sem medalha"
          ],
          [
           "Sem medalha"
          ],
          [
           "Sem medalha"
          ],
          [
           "Sem medalha"
          ],
          [
           "Sem medalha"
          ],
          [
           "Sem medalha"
          ],
          [
           "Sem medalha"
          ],
          [
           "Sem medalha"
          ],
          [
           "Sem medalha"
          ],
          [
           "Sem medalha"
          ],
          [
           "Sem medalha"
          ],
          [
           "Sem medalha"
          ],
          [
           "Sem medalha"
          ],
          [
           "Sem medalha"
          ],
          [
           "Sem medalha"
          ],
          [
           "Sem medalha"
          ],
          [
           "Sem medalha"
          ],
          [
           "Sem medalha"
          ],
          [
           "Sem medalha"
          ],
          [
           "Sem medalha"
          ],
          [
           "Sem medalha"
          ],
          [
           "Sem medalha"
          ],
          [
           "Sem medalha"
          ],
          [
           "Sem medalha"
          ],
          [
           "Sem medalha"
          ],
          [
           "Sem medalha"
          ],
          [
           "Sem medalha"
          ],
          [
           "Sem medalha"
          ],
          [
           "Sem medalha"
          ],
          [
           "Sem medalha"
          ],
          [
           "Sem medalha"
          ],
          [
           "Sem medalha"
          ],
          [
           "Sem medalha"
          ],
          [
           "Sem medalha"
          ],
          [
           "Sem medalha"
          ],
          [
           "Sem medalha"
          ],
          [
           "Sem medalha"
          ],
          [
           "Sem medalha"
          ],
          [
           "Sem medalha"
          ],
          [
           "Sem medalha"
          ],
          [
           "Sem medalha"
          ],
          [
           "Sem medalha"
          ],
          [
           "Sem medalha"
          ],
          [
           "Sem medalha"
          ],
          [
           "Sem medalha"
          ],
          [
           "Sem medalha"
          ],
          [
           "Sem medalha"
          ],
          [
           "Sem medalha"
          ],
          [
           "Sem medalha"
          ],
          [
           "Sem medalha"
          ],
          [
           "Sem medalha"
          ],
          [
           "Sem medalha"
          ],
          [
           "Sem medalha"
          ],
          [
           "Sem medalha"
          ],
          [
           "Sem medalha"
          ],
          [
           "Sem medalha"
          ],
          [
           "Sem medalha"
          ],
          [
           "Sem medalha"
          ],
          [
           "Sem medalha"
          ],
          [
           "Sem medalha"
          ],
          [
           "Sem medalha"
          ],
          [
           "Sem medalha"
          ],
          [
           "Sem medalha"
          ],
          [
           "Sem medalha"
          ],
          [
           "Sem medalha"
          ],
          [
           "Sem medalha"
          ],
          [
           "Sem medalha"
          ],
          [
           "Sem medalha"
          ],
          [
           "Sem medalha"
          ],
          [
           "Sem medalha"
          ],
          [
           "Sem medalha"
          ],
          [
           "Sem medalha"
          ],
          [
           "Sem medalha"
          ],
          [
           "Sem medalha"
          ],
          [
           "Sem medalha"
          ],
          [
           "Sem medalha"
          ],
          [
           "Sem medalha"
          ],
          [
           "Sem medalha"
          ],
          [
           "Sem medalha"
          ],
          [
           "Sem medalha"
          ],
          [
           "Sem medalha"
          ],
          [
           "Sem medalha"
          ],
          [
           "Sem medalha"
          ],
          [
           "Sem medalha"
          ],
          [
           "Sem medalha"
          ],
          [
           "Sem medalha"
          ],
          [
           "Sem medalha"
          ],
          [
           "Sem medalha"
          ],
          [
           "Sem medalha"
          ],
          [
           "Sem medalha"
          ],
          [
           "Sem medalha"
          ],
          [
           "Sem medalha"
          ],
          [
           "Sem medalha"
          ],
          [
           "Sem medalha"
          ],
          [
           "Sem medalha"
          ],
          [
           "Sem medalha"
          ],
          [
           "Sem medalha"
          ],
          [
           "Sem medalha"
          ],
          [
           "Sem medalha"
          ],
          [
           "Sem medalha"
          ],
          [
           "Sem medalha"
          ],
          [
           "Sem medalha"
          ],
          [
           "Sem medalha"
          ],
          [
           "Sem medalha"
          ],
          [
           "Sem medalha"
          ],
          [
           "Sem medalha"
          ],
          [
           "Sem medalha"
          ],
          [
           "Sem medalha"
          ],
          [
           "Sem medalha"
          ],
          [
           "Sem medalha"
          ],
          [
           "Sem medalha"
          ],
          [
           "Sem medalha"
          ],
          [
           "Sem medalha"
          ],
          [
           "Sem medalha"
          ],
          [
           "Sem medalha"
          ],
          [
           "Sem medalha"
          ],
          [
           "Sem medalha"
          ],
          [
           "Sem medalha"
          ],
          [
           "Sem medalha"
          ],
          [
           "Sem medalha"
          ],
          [
           "Sem medalha"
          ],
          [
           "Sem medalha"
          ],
          [
           "Sem medalha"
          ],
          [
           "Sem medalha"
          ],
          [
           "Sem medalha"
          ],
          [
           "Sem medalha"
          ],
          [
           "Sem medalha"
          ],
          [
           "Sem medalha"
          ],
          [
           "Sem medalha"
          ],
          [
           "Sem medalha"
          ],
          [
           "Sem medalha"
          ],
          [
           "Sem medalha"
          ],
          [
           "Sem medalha"
          ],
          [
           "Sem medalha"
          ],
          [
           "Sem medalha"
          ],
          [
           "Sem medalha"
          ],
          [
           "Sem medalha"
          ],
          [
           "Sem medalha"
          ],
          [
           "Sem medalha"
          ],
          [
           "Sem medalha"
          ],
          [
           "Sem medalha"
          ],
          [
           "Sem medalha"
          ],
          [
           "Sem medalha"
          ],
          [
           "Sem medalha"
          ],
          [
           "Sem medalha"
          ],
          [
           "Sem medalha"
          ],
          [
           "Sem medalha"
          ],
          [
           "Sem medalha"
          ],
          [
           "Sem medalha"
          ],
          [
           "Sem medalha"
          ],
          [
           "Sem medalha"
          ],
          [
           "Sem medalha"
          ],
          [
           "Sem medalha"
          ],
          [
           "Sem medalha"
          ],
          [
           "Sem medalha"
          ],
          [
           "Sem medalha"
          ],
          [
           "Sem medalha"
          ],
          [
           "Sem medalha"
          ],
          [
           "Sem medalha"
          ],
          [
           "Sem medalha"
          ],
          [
           "Sem medalha"
          ],
          [
           "Sem medalha"
          ],
          [
           "Sem medalha"
          ],
          [
           "Sem medalha"
          ],
          [
           "Sem medalha"
          ],
          [
           "Sem medalha"
          ],
          [
           "Sem medalha"
          ],
          [
           "Sem medalha"
          ],
          [
           "Sem medalha"
          ],
          [
           "Sem medalha"
          ],
          [
           "Sem medalha"
          ],
          [
           "Sem medalha"
          ],
          [
           "Sem medalha"
          ],
          [
           "Sem medalha"
          ],
          [
           "Sem medalha"
          ],
          [
           "Sem medalha"
          ],
          [
           "Sem medalha"
          ],
          [
           "Sem medalha"
          ],
          [
           "Sem medalha"
          ],
          [
           "Sem medalha"
          ],
          [
           "Sem medalha"
          ],
          [
           "Sem medalha"
          ],
          [
           "Sem medalha"
          ],
          [
           "Sem medalha"
          ],
          [
           "Sem medalha"
          ],
          [
           "Sem medalha"
          ],
          [
           "Sem medalha"
          ],
          [
           "Sem medalha"
          ],
          [
           "Sem medalha"
          ],
          [
           "Sem medalha"
          ],
          [
           "Sem medalha"
          ],
          [
           "Sem medalha"
          ],
          [
           "Sem medalha"
          ],
          [
           "Sem medalha"
          ],
          [
           "Sem medalha"
          ],
          [
           "Sem medalha"
          ],
          [
           "Sem medalha"
          ],
          [
           "Sem medalha"
          ],
          [
           "Sem medalha"
          ],
          [
           "Sem medalha"
          ],
          [
           "Sem medalha"
          ],
          [
           "Sem medalha"
          ],
          [
           "Sem medalha"
          ],
          [
           "Sem medalha"
          ],
          [
           "Sem medalha"
          ],
          [
           "Sem medalha"
          ],
          [
           "Sem medalha"
          ],
          [
           "Sem medalha"
          ],
          [
           "Sem medalha"
          ],
          [
           "Sem medalha"
          ],
          [
           "Sem medalha"
          ],
          [
           "Sem medalha"
          ],
          [
           "Sem medalha"
          ],
          [
           "Sem medalha"
          ],
          [
           "Sem medalha"
          ],
          [
           "Sem medalha"
          ],
          [
           "Sem medalha"
          ],
          [
           "Sem medalha"
          ],
          [
           "Sem medalha"
          ],
          [
           "Sem medalha"
          ],
          [
           "Sem medalha"
          ],
          [
           "Sem medalha"
          ],
          [
           "Sem medalha"
          ],
          [
           "Sem medalha"
          ],
          [
           "Sem medalha"
          ],
          [
           "Sem medalha"
          ],
          [
           "Sem medalha"
          ],
          [
           "Sem medalha"
          ],
          [
           "Sem medalha"
          ],
          [
           "Sem medalha"
          ],
          [
           "Sem medalha"
          ],
          [
           "Sem medalha"
          ],
          [
           "Sem medalha"
          ],
          [
           "Sem medalha"
          ],
          [
           "Sem medalha"
          ],
          [
           "Sem medalha"
          ],
          [
           "Sem medalha"
          ],
          [
           "Sem medalha"
          ],
          [
           "Sem medalha"
          ],
          [
           "Sem medalha"
          ],
          [
           "Sem medalha"
          ],
          [
           "Sem medalha"
          ],
          [
           "Sem medalha"
          ],
          [
           "Sem medalha"
          ],
          [
           "Sem medalha"
          ],
          [
           "Sem medalha"
          ],
          [
           "Sem medalha"
          ],
          [
           "Sem medalha"
          ],
          [
           "Sem medalha"
          ],
          [
           "Sem medalha"
          ],
          [
           "Sem medalha"
          ],
          [
           "Sem medalha"
          ],
          [
           "Sem medalha"
          ],
          [
           "Sem medalha"
          ],
          [
           "Sem medalha"
          ],
          [
           "Sem medalha"
          ],
          [
           "Sem medalha"
          ],
          [
           "Sem medalha"
          ],
          [
           "Sem medalha"
          ],
          [
           "Sem medalha"
          ],
          [
           "Sem medalha"
          ],
          [
           "Sem medalha"
          ],
          [
           "Sem medalha"
          ],
          [
           "Sem medalha"
          ],
          [
           "Sem medalha"
          ],
          [
           "Sem medalha"
          ],
          [
           "Sem medalha"
          ],
          [
           "Sem medalha"
          ],
          [
           "Sem medalha"
          ],
          [
           "Sem medalha"
          ],
          [
           "Sem medalha"
          ],
          [
           "Sem medalha"
          ],
          [
           "Sem medalha"
          ],
          [
           "Sem medalha"
          ],
          [
           "Sem medalha"
          ],
          [
           "Sem medalha"
          ],
          [
           "Sem medalha"
          ],
          [
           "Sem medalha"
          ],
          [
           "Sem medalha"
          ],
          [
           "Sem medalha"
          ],
          [
           "Sem medalha"
          ],
          [
           "Sem medalha"
          ],
          [
           "Sem medalha"
          ],
          [
           "Sem medalha"
          ],
          [
           "Sem medalha"
          ],
          [
           "Sem medalha"
          ],
          [
           "Sem medalha"
          ],
          [
           "Sem medalha"
          ],
          [
           "Sem medalha"
          ],
          [
           "Sem medalha"
          ],
          [
           "Sem medalha"
          ],
          [
           "Sem medalha"
          ],
          [
           "Sem medalha"
          ],
          [
           "Sem medalha"
          ],
          [
           "Sem medalha"
          ],
          [
           "Sem medalha"
          ],
          [
           "Sem medalha"
          ],
          [
           "Sem medalha"
          ],
          [
           "Sem medalha"
          ],
          [
           "Sem medalha"
          ],
          [
           "Sem medalha"
          ],
          [
           "Sem medalha"
          ],
          [
           "Sem medalha"
          ],
          [
           "Sem medalha"
          ],
          [
           "Sem medalha"
          ],
          [
           "Sem medalha"
          ],
          [
           "Sem medalha"
          ],
          [
           "Sem medalha"
          ],
          [
           "Sem medalha"
          ],
          [
           "Sem medalha"
          ],
          [
           "Sem medalha"
          ],
          [
           "Sem medalha"
          ],
          [
           "Sem medalha"
          ],
          [
           "Sem medalha"
          ],
          [
           "Sem medalha"
          ],
          [
           "Sem medalha"
          ],
          [
           "Sem medalha"
          ],
          [
           "Sem medalha"
          ],
          [
           "Sem medalha"
          ],
          [
           "Sem medalha"
          ],
          [
           "Sem medalha"
          ],
          [
           "Sem medalha"
          ],
          [
           "Sem medalha"
          ],
          [
           "Sem medalha"
          ],
          [
           "Sem medalha"
          ],
          [
           "Sem medalha"
          ],
          [
           "Sem medalha"
          ],
          [
           "Sem medalha"
          ],
          [
           "Sem medalha"
          ],
          [
           "Sem medalha"
          ],
          [
           "Sem medalha"
          ],
          [
           "Sem medalha"
          ],
          [
           "Sem medalha"
          ],
          [
           "Sem medalha"
          ],
          [
           "Sem medalha"
          ],
          [
           "Sem medalha"
          ],
          [
           "Sem medalha"
          ],
          [
           "Sem medalha"
          ],
          [
           "Sem medalha"
          ],
          [
           "Sem medalha"
          ],
          [
           "Sem medalha"
          ],
          [
           "Sem medalha"
          ],
          [
           "Sem medalha"
          ],
          [
           "Sem medalha"
          ],
          [
           "Sem medalha"
          ],
          [
           "Sem medalha"
          ],
          [
           "Sem medalha"
          ],
          [
           "Sem medalha"
          ],
          [
           "Sem medalha"
          ],
          [
           "Sem medalha"
          ],
          [
           "Sem medalha"
          ],
          [
           "Sem medalha"
          ],
          [
           "Sem medalha"
          ],
          [
           "Sem medalha"
          ],
          [
           "Sem medalha"
          ],
          [
           "Sem medalha"
          ],
          [
           "Sem medalha"
          ],
          [
           "Sem medalha"
          ],
          [
           "Sem medalha"
          ],
          [
           "Sem medalha"
          ],
          [
           "Sem medalha"
          ],
          [
           "Sem medalha"
          ],
          [
           "Sem medalha"
          ],
          [
           "Sem medalha"
          ],
          [
           "Sem medalha"
          ],
          [
           "Sem medalha"
          ],
          [
           "Sem medalha"
          ],
          [
           "Sem medalha"
          ],
          [
           "Sem medalha"
          ],
          [
           "Sem medalha"
          ],
          [
           "Sem medalha"
          ],
          [
           "Sem medalha"
          ],
          [
           "Sem medalha"
          ],
          [
           "Sem medalha"
          ],
          [
           "Sem medalha"
          ],
          [
           "Sem medalha"
          ],
          [
           "Sem medalha"
          ],
          [
           "Sem medalha"
          ],
          [
           "Sem medalha"
          ],
          [
           "Sem medalha"
          ],
          [
           "Sem medalha"
          ],
          [
           "Sem medalha"
          ],
          [
           "Sem medalha"
          ],
          [
           "Sem medalha"
          ],
          [
           "Sem medalha"
          ],
          [
           "Sem medalha"
          ],
          [
           "Sem medalha"
          ],
          [
           "Sem medalha"
          ],
          [
           "Sem medalha"
          ],
          [
           "Sem medalha"
          ],
          [
           "Sem medalha"
          ],
          [
           "Sem medalha"
          ],
          [
           "Sem medalha"
          ],
          [
           "Sem medalha"
          ],
          [
           "Sem medalha"
          ],
          [
           "Sem medalha"
          ],
          [
           "Sem medalha"
          ],
          [
           "Sem medalha"
          ],
          [
           "Sem medalha"
          ],
          [
           "Sem medalha"
          ],
          [
           "Sem medalha"
          ],
          [
           "Sem medalha"
          ],
          [
           "Sem medalha"
          ],
          [
           "Sem medalha"
          ],
          [
           "Sem medalha"
          ],
          [
           "Sem medalha"
          ],
          [
           "Sem medalha"
          ],
          [
           "Sem medalha"
          ],
          [
           "Sem medalha"
          ],
          [
           "Sem medalha"
          ],
          [
           "Sem medalha"
          ],
          [
           "Sem medalha"
          ],
          [
           "Sem medalha"
          ],
          [
           "Sem medalha"
          ],
          [
           "Sem medalha"
          ],
          [
           "Sem medalha"
          ],
          [
           "Sem medalha"
          ],
          [
           "Sem medalha"
          ],
          [
           "Sem medalha"
          ],
          [
           "Sem medalha"
          ],
          [
           "Sem medalha"
          ],
          [
           "Sem medalha"
          ],
          [
           "Sem medalha"
          ],
          [
           "Sem medalha"
          ],
          [
           "Sem medalha"
          ],
          [
           "Sem medalha"
          ],
          [
           "Sem medalha"
          ],
          [
           "Sem medalha"
          ],
          [
           "Sem medalha"
          ],
          [
           "Sem medalha"
          ],
          [
           "Sem medalha"
          ],
          [
           "Sem medalha"
          ],
          [
           "Sem medalha"
          ],
          [
           "Sem medalha"
          ],
          [
           "Sem medalha"
          ],
          [
           "Sem medalha"
          ],
          [
           "Sem medalha"
          ],
          [
           "Sem medalha"
          ],
          [
           "Sem medalha"
          ],
          [
           "Sem medalha"
          ],
          [
           "Sem medalha"
          ],
          [
           "Sem medalha"
          ],
          [
           "Sem medalha"
          ],
          [
           "Sem medalha"
          ],
          [
           "Sem medalha"
          ],
          [
           "Sem medalha"
          ],
          [
           "Sem medalha"
          ],
          [
           "Sem medalha"
          ],
          [
           "Sem medalha"
          ],
          [
           "Sem medalha"
          ],
          [
           "Sem medalha"
          ],
          [
           "Sem medalha"
          ],
          [
           "Sem medalha"
          ],
          [
           "Sem medalha"
          ],
          [
           "Sem medalha"
          ],
          [
           "Sem medalha"
          ],
          [
           "Sem medalha"
          ],
          [
           "Sem medalha"
          ],
          [
           "Sem medalha"
          ],
          [
           "Sem medalha"
          ],
          [
           "Sem medalha"
          ],
          [
           "Sem medalha"
          ],
          [
           "Sem medalha"
          ],
          [
           "Sem medalha"
          ],
          [
           "Sem medalha"
          ],
          [
           "Sem medalha"
          ],
          [
           "Sem medalha"
          ],
          [
           "Sem medalha"
          ],
          [
           "Sem medalha"
          ],
          [
           "Sem medalha"
          ],
          [
           "Sem medalha"
          ],
          [
           "Sem medalha"
          ],
          [
           "Sem medalha"
          ],
          [
           "Sem medalha"
          ],
          [
           "Sem medalha"
          ],
          [
           "Sem medalha"
          ],
          [
           "Sem medalha"
          ],
          [
           "Sem medalha"
          ],
          [
           "Sem medalha"
          ],
          [
           "Sem medalha"
          ],
          [
           "Sem medalha"
          ],
          [
           "Sem medalha"
          ],
          [
           "Sem medalha"
          ],
          [
           "Sem medalha"
          ],
          [
           "Sem medalha"
          ],
          [
           "Sem medalha"
          ],
          [
           "Sem medalha"
          ],
          [
           "Sem medalha"
          ],
          [
           "Sem medalha"
          ],
          [
           "Sem medalha"
          ],
          [
           "Sem medalha"
          ],
          [
           "Sem medalha"
          ],
          [
           "Sem medalha"
          ],
          [
           "Sem medalha"
          ],
          [
           "Sem medalha"
          ],
          [
           "Sem medalha"
          ],
          [
           "Sem medalha"
          ],
          [
           "Sem medalha"
          ],
          [
           "Sem medalha"
          ],
          [
           "Sem medalha"
          ],
          [
           "Sem medalha"
          ],
          [
           "Sem medalha"
          ],
          [
           "Sem medalha"
          ],
          [
           "Sem medalha"
          ],
          [
           "Sem medalha"
          ],
          [
           "Sem medalha"
          ],
          [
           "Sem medalha"
          ],
          [
           "Sem medalha"
          ],
          [
           "Sem medalha"
          ],
          [
           "Sem medalha"
          ],
          [
           "Sem medalha"
          ],
          [
           "Sem medalha"
          ],
          [
           "Sem medalha"
          ],
          [
           "Sem medalha"
          ],
          [
           "Sem medalha"
          ],
          [
           "Sem medalha"
          ],
          [
           "Sem medalha"
          ],
          [
           "Sem medalha"
          ],
          [
           "Sem medalha"
          ],
          [
           "Sem medalha"
          ],
          [
           "Sem medalha"
          ],
          [
           "Sem medalha"
          ],
          [
           "Sem medalha"
          ],
          [
           "Sem medalha"
          ],
          [
           "Sem medalha"
          ],
          [
           "Sem medalha"
          ],
          [
           "Sem medalha"
          ],
          [
           "Sem medalha"
          ],
          [
           "Sem medalha"
          ],
          [
           "Sem medalha"
          ],
          [
           "Sem medalha"
          ],
          [
           "Sem medalha"
          ],
          [
           "Sem medalha"
          ],
          [
           "Sem medalha"
          ],
          [
           "Sem medalha"
          ],
          [
           "Sem medalha"
          ],
          [
           "Sem medalha"
          ],
          [
           "Sem medalha"
          ],
          [
           "Sem medalha"
          ],
          [
           "Sem medalha"
          ],
          [
           "Sem medalha"
          ],
          [
           "Sem medalha"
          ],
          [
           "Sem medalha"
          ],
          [
           "Sem medalha"
          ],
          [
           "Sem medalha"
          ],
          [
           "Sem medalha"
          ],
          [
           "Sem medalha"
          ],
          [
           "Sem medalha"
          ],
          [
           "Sem medalha"
          ],
          [
           "Sem medalha"
          ],
          [
           "Sem medalha"
          ],
          [
           "Sem medalha"
          ],
          [
           "Sem medalha"
          ],
          [
           "Sem medalha"
          ],
          [
           "Sem medalha"
          ],
          [
           "Sem medalha"
          ],
          [
           "Sem medalha"
          ],
          [
           "Sem medalha"
          ],
          [
           "Sem medalha"
          ],
          [
           "Sem medalha"
          ],
          [
           "Sem medalha"
          ],
          [
           "Sem medalha"
          ],
          [
           "Sem medalha"
          ],
          [
           "Sem medalha"
          ],
          [
           "Sem medalha"
          ],
          [
           "Sem medalha"
          ],
          [
           "Sem medalha"
          ],
          [
           "Sem medalha"
          ],
          [
           "Sem medalha"
          ],
          [
           "Sem medalha"
          ],
          [
           "Sem medalha"
          ],
          [
           "Sem medalha"
          ],
          [
           "Sem medalha"
          ],
          [
           "Sem medalha"
          ],
          [
           "Sem medalha"
          ],
          [
           "Sem medalha"
          ],
          [
           "Sem medalha"
          ],
          [
           "Sem medalha"
          ],
          [
           "Sem medalha"
          ],
          [
           "Sem medalha"
          ],
          [
           "Sem medalha"
          ],
          [
           "Sem medalha"
          ],
          [
           "Sem medalha"
          ],
          [
           "Sem medalha"
          ],
          [
           "Sem medalha"
          ],
          [
           "Sem medalha"
          ],
          [
           "Sem medalha"
          ],
          [
           "Sem medalha"
          ],
          [
           "Sem medalha"
          ],
          [
           "Sem medalha"
          ],
          [
           "Sem medalha"
          ],
          [
           "Sem medalha"
          ],
          [
           "Sem medalha"
          ],
          [
           "Sem medalha"
          ],
          [
           "Sem medalha"
          ],
          [
           "Sem medalha"
          ],
          [
           "Sem medalha"
          ],
          [
           "Sem medalha"
          ],
          [
           "Sem medalha"
          ],
          [
           "Sem medalha"
          ],
          [
           "Sem medalha"
          ],
          [
           "Sem medalha"
          ],
          [
           "Sem medalha"
          ],
          [
           "Sem medalha"
          ],
          [
           "Sem medalha"
          ],
          [
           "Sem medalha"
          ],
          [
           "Sem medalha"
          ],
          [
           "Sem medalha"
          ],
          [
           "Sem medalha"
          ],
          [
           "Sem medalha"
          ],
          [
           "Sem medalha"
          ],
          [
           "Sem medalha"
          ],
          [
           "Sem medalha"
          ],
          [
           "Sem medalha"
          ],
          [
           "Sem medalha"
          ],
          [
           "Sem medalha"
          ],
          [
           "Sem medalha"
          ],
          [
           "Sem medalha"
          ],
          [
           "Sem medalha"
          ],
          [
           "Sem medalha"
          ],
          [
           "Sem medalha"
          ],
          [
           "Sem medalha"
          ],
          [
           "Sem medalha"
          ],
          [
           "Sem medalha"
          ],
          [
           "Sem medalha"
          ],
          [
           "Sem medalha"
          ],
          [
           "Sem medalha"
          ],
          [
           "Sem medalha"
          ],
          [
           "Sem medalha"
          ],
          [
           "Sem medalha"
          ],
          [
           "Sem medalha"
          ],
          [
           "Sem medalha"
          ],
          [
           "Sem medalha"
          ],
          [
           "Sem medalha"
          ],
          [
           "Sem medalha"
          ],
          [
           "Sem medalha"
          ],
          [
           "Sem medalha"
          ],
          [
           "Sem medalha"
          ],
          [
           "Sem medalha"
          ],
          [
           "Sem medalha"
          ],
          [
           "Sem medalha"
          ],
          [
           "Sem medalha"
          ],
          [
           "Sem medalha"
          ],
          [
           "Sem medalha"
          ],
          [
           "Sem medalha"
          ],
          [
           "Sem medalha"
          ],
          [
           "Sem medalha"
          ],
          [
           "Sem medalha"
          ],
          [
           "Sem medalha"
          ],
          [
           "Sem medalha"
          ],
          [
           "Sem medalha"
          ],
          [
           "Sem medalha"
          ],
          [
           "Sem medalha"
          ],
          [
           "Sem medalha"
          ],
          [
           "Sem medalha"
          ],
          [
           "Sem medalha"
          ],
          [
           "Sem medalha"
          ],
          [
           "Sem medalha"
          ],
          [
           "Sem medalha"
          ],
          [
           "Sem medalha"
          ],
          [
           "Sem medalha"
          ],
          [
           "Sem medalha"
          ],
          [
           "Sem medalha"
          ],
          [
           "Sem medalha"
          ]
         ],
         "hovertemplate": "<b>%{hovertext}</b><br><br>Sex=F<br>Medal=%{customdata[0]}<br>Year=%{x}<br>Height=%{y}<extra></extra>",
         "hovertext": [
          "Water Polo",
          "Volleyball",
          "Basketball",
          "Basketball",
          "Basketball",
          "Basketball",
          "Basketball",
          "Athletics",
          "Athletics",
          "Athletics",
          "Athletics",
          "Volleyball",
          "Handball",
          "Handball",
          "Basketball",
          "Handball",
          "Handball",
          "Handball",
          "Handball",
          "Football",
          "Football",
          "Handball",
          "Handball",
          "Equestrianism",
          "Equestrianism",
          "Equestrianism",
          "Equestrianism",
          "Athletics",
          "Athletics",
          "Athletics",
          "Athletics",
          "Judo",
          "Judo",
          "Judo",
          "Athletics",
          "Shooting",
          "Shooting",
          "Handball",
          "Swimming",
          "Swimming",
          "Swimming",
          "Swimming",
          "Handball",
          "Handball",
          "Handball",
          "Volleyball",
          "Volleyball",
          "Volleyball",
          "Handball",
          "Handball",
          "Handball",
          "Volleyball",
          "Judo",
          "Gymnastics",
          "Gymnastics",
          "Gymnastics",
          "Gymnastics",
          "Gymnastics",
          "Judo",
          "Football",
          "Football",
          "Football",
          "Football",
          "Boxing",
          "Rugby Sevens",
          "Athletics",
          "Athletics",
          "Archery",
          "Handball",
          "Volleyball",
          "Alpine Skiing",
          "Alpine Skiing",
          "Fencing",
          "Water Polo",
          "Rugby Sevens",
          "Boxing",
          "Swimming",
          "Rhythmic Gymnastics",
          "Sailing",
          "Sailing",
          "Football",
          "Judo",
          "Gymnastics",
          "Gymnastics",
          "Gymnastics",
          "Gymnastics",
          "Gymnastics",
          "Gymnastics",
          "Gymnastics",
          "Gymnastics",
          "Gymnastics",
          "Gymnastics",
          "Gymnastics",
          "Football",
          "Cross Country Skiing",
          "Rowing",
          "Rowing",
          "Rowing",
          "Equestrianism",
          "Equestrianism",
          "Athletics",
          "Judo",
          "Volleyball",
          "Synchronized Swimming",
          "Synchronized Swimming",
          "Sailing",
          "Swimming",
          "Swimming",
          "Football",
          "Football",
          "Synchronized Swimming",
          "Shooting",
          "Shooting",
          "Fencing",
          "Swimming",
          "Swimming",
          "Swimming",
          "Rhythmic Gymnastics",
          "Rhythmic Gymnastics",
          "Rugby Sevens",
          "Judo",
          "Judo",
          "Archery",
          "Archery",
          "Water Polo",
          "Handball",
          "Basketball",
          "Cycling",
          "Cycling",
          "Cycling",
          "Shooting",
          "Rowing",
          "Water Polo",
          "Synchronized Swimming",
          "Synchronized Swimming",
          "Synchronized Swimming",
          "Synchronized Swimming",
          "Synchronized Swimming",
          "Volleyball",
          "Volleyball",
          "Swimming",
          "Rhythmic Gymnastics",
          "Rugby Sevens",
          "Tennis",
          "Water Polo",
          "Handball",
          "Handball",
          "Handball",
          "Handball",
          "Water Polo",
          "Handball",
          "Handball",
          "Basketball",
          "Basketball",
          "Football",
          "Volleyball",
          "Basketball",
          "Athletics",
          "Snowboarding",
          "Snowboarding",
          "Snowboarding",
          "Basketball",
          "Athletics",
          "Athletics",
          "Athletics",
          "Basketball",
          "Basketball",
          "Gymnastics",
          "Gymnastics",
          "Gymnastics",
          "Gymnastics",
          "Gymnastics",
          "Gymnastics",
          "Gymnastics",
          "Gymnastics",
          "Gymnastics",
          "Gymnastics",
          "Gymnastics",
          "Swimming",
          "Wrestling",
          "Handball",
          "Tennis",
          "Gymnastics",
          "Gymnastics",
          "Gymnastics",
          "Gymnastics",
          "Gymnastics",
          "Athletics",
          "Athletics",
          "Athletics",
          "Athletics",
          "Athletics",
          "Athletics",
          "Rowing",
          "Fencing",
          "Fencing",
          "Athletics",
          "Athletics",
          "Athletics",
          "Athletics",
          "Athletics",
          "Athletics",
          "Swimming",
          "Swimming",
          "Swimming",
          "Swimming",
          "Swimming",
          "Swimming",
          "Rowing",
          "Football",
          "Football",
          "Swimming",
          "Swimming",
          "Tennis",
          "Volleyball",
          "Volleyball",
          "Swimming",
          "Swimming",
          "Basketball",
          "Athletics",
          "Athletics",
          "Judo",
          "Judo",
          "Judo",
          "Judo",
          "Handball",
          "Handball",
          "Rhythmic Gymnastics",
          "Table Tennis",
          "Table Tennis",
          "Table Tennis",
          "Table Tennis",
          "Table Tennis",
          "Judo",
          "Volleyball",
          "Bobsleigh",
          "Football",
          "Handball",
          "Handball",
          "Handball",
          "Football",
          "Basketball",
          "Basketball",
          "Handball",
          "Handball",
          "Handball",
          "Handball",
          "Handball",
          "Handball",
          "Volleyball",
          "Handball",
          "Athletics",
          "Rowing",
          "Athletics",
          "Athletics",
          "Athletics",
          "Rhythmic Gymnastics",
          "Gymnastics",
          "Gymnastics",
          "Athletics",
          "Athletics",
          "Athletics",
          "Athletics",
          "Athletics",
          "Swimming",
          "Athletics",
          "Athletics",
          "Athletics",
          "Athletics",
          "Athletics",
          "Athletics",
          "Athletics",
          "Athletics",
          "Athletics",
          "Athletics",
          "Athletics",
          "Athletics",
          "Athletics",
          "Athletics",
          "Athletics",
          "Swimming",
          "Swimming",
          "Diving",
          "Diving",
          "Handball",
          "Handball",
          "Swimming",
          "Swimming",
          "Swimming",
          "Swimming",
          "Swimming",
          "Swimming",
          "Canoeing",
          "Swimming",
          "Athletics",
          "Athletics",
          "Athletics",
          "Athletics",
          "Football",
          "Sailing",
          "Swimming",
          "Swimming",
          "Swimming",
          "Swimming",
          "Handball",
          "Handball",
          "Handball",
          "Water Polo",
          "Football",
          "Equestrianism",
          "Equestrianism",
          "Athletics",
          "Athletics",
          "Athletics",
          "Archery",
          "Archery",
          "Basketball",
          "Basketball",
          "Gymnastics",
          "Gymnastics",
          "Gymnastics",
          "Gymnastics",
          "Gymnastics",
          "Gymnastics",
          "Gymnastics",
          "Gymnastics",
          "Gymnastics",
          "Gymnastics",
          "Gymnastics",
          "Athletics",
          "Athletics",
          "Athletics",
          "Bobsleigh",
          "Freestyle Skiing",
          "Taekwondo",
          "Athletics",
          "Athletics",
          "Athletics",
          "Athletics",
          "Athletics",
          "Athletics",
          "Athletics",
          "Athletics",
          "Athletics",
          "Table Tennis",
          "Table Tennis",
          "Table Tennis",
          "Table Tennis",
          "Water Polo",
          "Basketball",
          "Football",
          "Volleyball",
          "Handball",
          "Football",
          "Football",
          "Basketball",
          "Basketball",
          "Basketball",
          "Football",
          "Football",
          "Football",
          "Volleyball",
          "Volleyball",
          "Volleyball",
          "Taekwondo",
          "Taekwondo",
          "Football",
          "Equestrianism",
          "Equestrianism",
          "Athletics",
          "Rhythmic Gymnastics",
          "Shooting",
          "Shooting",
          "Shooting",
          "Shooting",
          "Rhythmic Gymnastics",
          "Boxing",
          "Synchronized Swimming",
          "Synchronized Swimming",
          "Rhythmic Gymnastics",
          "Rhythmic Gymnastics",
          "Volleyball",
          "Volleyball",
          "Volleyball",
          "Basketball",
          "Judo",
          "Cycling",
          "Cycling",
          "Cycling",
          "Wrestling",
          "Rowing",
          "Weightlifting",
          "Weightlifting",
          "Swimming",
          "Swimming",
          "Swimming",
          "Swimming",
          "Swimming",
          "Judo",
          "Athletics",
          "Synchronized Swimming",
          "Synchronized Swimming",
          "Athletics",
          "Athletics",
          "Athletics",
          "Athletics",
          "Handball",
          "Gymnastics",
          "Gymnastics",
          "Gymnastics",
          "Gymnastics",
          "Gymnastics",
          "Volleyball",
          "Volleyball",
          "Football",
          "Football",
          "Football",
          "Football",
          "Sailing",
          "Sailing",
          "Sailing",
          "Athletics",
          "Football",
          "Basketball",
          "Basketball",
          "Gymnastics",
          "Gymnastics",
          "Gymnastics",
          "Gymnastics",
          "Gymnastics",
          "Gymnastics",
          "Gymnastics",
          "Gymnastics",
          "Gymnastics",
          "Gymnastics",
          "Sailing",
          "Sailing",
          "Sailing",
          "Volleyball",
          "Volleyball",
          "Athletics",
          "Athletics",
          "Athletics",
          "Rhythmic Gymnastics",
          "Athletics",
          "Athletics",
          "Athletics",
          "Athletics",
          "Rhythmic Gymnastics",
          "Tennis",
          "Cycling",
          "Rowing",
          "Basketball",
          "Football",
          "Swimming",
          "Swimming",
          "Swimming",
          "Swimming",
          "Swimming",
          "Swimming",
          "Swimming",
          "Alpine Skiing",
          "Alpine Skiing",
          "Alpine Skiing",
          "Alpine Skiing",
          "Modern Pentathlon",
          "Basketball",
          "Basketball",
          "Fencing",
          "Basketball",
          "Swimming",
          "Swimming",
          "Volleyball",
          "Basketball",
          "Judo",
          "Gymnastics",
          "Gymnastics",
          "Gymnastics",
          "Gymnastics",
          "Gymnastics",
          "Gymnastics",
          "Gymnastics",
          "Gymnastics",
          "Gymnastics",
          "Gymnastics",
          "Gymnastics",
          "Gymnastics",
          "Gymnastics",
          "Gymnastics",
          "Gymnastics",
          "Gymnastics",
          "Gymnastics",
          "Gymnastics",
          "Gymnastics",
          "Gymnastics",
          "Gymnastics",
          "Gymnastics",
          "Gymnastics",
          "Gymnastics",
          "Volleyball",
          "Volleyball",
          "Volleyball",
          "Volleyball",
          "Basketball",
          "Rugby Sevens",
          "Judo",
          "Judo",
          "Judo",
          "Basketball",
          "Basketball",
          "Handball",
          "Handball",
          "Handball",
          "Basketball",
          "Basketball",
          "Volleyball",
          "Equestrianism",
          "Equestrianism",
          "Weightlifting",
          "Basketball",
          "Volleyball",
          "Football",
          "Basketball",
          "Basketball",
          "Basketball",
          "Basketball",
          "Football",
          "Football",
          "Basketball",
          "Basketball",
          "Basketball",
          "Volleyball",
          "Sailing",
          "Rugby Sevens",
          "Football",
          "Table Tennis",
          "Table Tennis",
          "Table Tennis",
          "Table Tennis",
          "Sailing",
          "Sailing",
          "Sailing",
          "Athletics",
          "Athletics",
          "Athletics",
          "Handball",
          "Table Tennis",
          "Table Tennis",
          "Table Tennis",
          "Table Tennis",
          "Gymnastics",
          "Gymnastics",
          "Gymnastics",
          "Gymnastics",
          "Gymnastics",
          "Basketball",
          "Volleyball",
          "Rhythmic Gymnastics",
          "Volleyball",
          "Volleyball",
          "Volleyball",
          "Athletics",
          "Athletics",
          "Swimming",
          "Swimming",
          "Swimming",
          "Swimming",
          "Swimming",
          "Swimming",
          "Swimming",
          "Swimming",
          "Swimming",
          "Rhythmic Gymnastics",
          "Handball",
          "Table Tennis",
          "Table Tennis",
          "Table Tennis",
          "Volleyball",
          "Synchronized Swimming",
          "Synchronized Swimming",
          "Synchronized Swimming",
          "Athletics",
          "Golf",
          "Handball",
          "Handball",
          "Handball",
          "Athletics",
          "Athletics",
          "Swimming",
          "Swimming",
          "Swimming",
          "Synchronized Swimming",
          "Synchronized Swimming",
          "Volleyball",
          "Athletics",
          "Athletics",
          "Athletics",
          "Athletics",
          "Rhythmic Gymnastics",
          "Athletics",
          "Athletics",
          "Water Polo",
          "Rhythmic Gymnastics",
          "Basketball",
          "Rhythmic Gymnastics",
          "Rhythmic Gymnastics",
          "Swimming",
          "Swimming",
          "Swimming",
          "Swimming",
          "Swimming",
          "Swimming",
          "Swimming",
          "Swimming",
          "Swimming",
          "Swimming",
          "Swimming",
          "Swimming",
          "Basketball",
          "Volleyball",
          "Volleyball",
          "Volleyball",
          "Football",
          "Judo",
          "Modern Pentathlon",
          "Modern Pentathlon",
          "Football",
          "Football",
          "Athletics",
          "Athletics",
          "Judo",
          "Boxing",
          "Rhythmic Gymnastics",
          "Volleyball",
          "Football",
          "Handball",
          "Handball",
          "Athletics",
          "Football",
          "Swimming",
          "Swimming",
          "Swimming",
          "Swimming",
          "Football",
          "Volleyball",
          "Athletics",
          "Athletics",
          "Rhythmic Gymnastics",
          "Judo",
          "Judo",
          "Tennis",
          "Tennis",
          "Basketball",
          "Synchronized Swimming",
          "Synchronized Swimming",
          "Football",
          "Fencing",
          "Judo",
          "Judo",
          "Athletics",
          "Tennis",
          "Fencing",
          "Fencing",
          "Swimming",
          "Swimming",
          "Swimming",
          "Swimming",
          "Swimming",
          "Gymnastics",
          "Gymnastics",
          "Gymnastics",
          "Synchronized Swimming",
          "Football",
          "Football",
          "Athletics",
          "Handball",
          "Handball",
          "Synchronized Swimming",
          "Synchronized Swimming",
          "Athletics",
          "Synchronized Swimming",
          "Synchronized Swimming",
          "Triathlon",
          "Triathlon",
          "Athletics",
          "Athletics",
          "Volleyball",
          "Volleyball",
          "Cycling",
          "Cross Country Skiing",
          "Cycling",
          "Cross Country Skiing",
          "Biathlon",
          "Cross Country Skiing",
          "Biathlon",
          "Rugby Sevens",
          "Athletics",
          "Athletics",
          "Athletics",
          "Rhythmic Gymnastics",
          "Athletics",
          "Athletics",
          "Athletics",
          "Swimming",
          "Basketball",
          "Golf",
          "Rhythmic Gymnastics",
          "Athletics",
          "Athletics",
          "Athletics",
          "Volleyball",
          "Diving",
          "Football",
          "Football",
          "Archery",
          "Archery",
          "Synchronized Swimming",
          "Table Tennis",
          "Table Tennis",
          "Taekwondo",
          "Wrestling",
          "Triathlon",
          "Triathlon",
          "Triathlon",
          "Swimming",
          "Swimming",
          "Water Polo",
          "Sailing",
          "Sailing",
          "Sailing",
          "Sailing",
          "Cycling",
          "Wrestling",
          "Athletics",
          "Rhythmic Gymnastics",
          "Swimming",
          "Swimming",
          "Swimming",
          "Swimming",
          "Swimming",
          "Volleyball",
          "Gymnastics",
          "Gymnastics",
          "Triathlon",
          "Triathlon",
          "Water Polo",
          "Handball",
          "Handball",
          "Judo",
          "Equestrianism",
          "Equestrianism",
          "Fencing",
          "Basketball",
          "Water Polo",
          "Diving",
          "Sailing",
          "Sailing",
          "Sailing",
          "Swimming",
          "Swimming",
          "Swimming",
          "Rhythmic Gymnastics",
          "Volleyball",
          "Athletics",
          "Athletics",
          "Tennis",
          "Tennis",
          "Tennis",
          "Handball",
          "Handball",
          "Athletics",
          "Handball",
          "Handball",
          "Handball",
          "Handball",
          "Athletics",
          "Handball",
          "Athletics",
          "Athletics",
          "Football",
          "Judo",
          "Basketball",
          "Judo",
          "Judo",
          "Athletics",
          "Football",
          "Football",
          "Diving",
          "Handball",
          "Handball",
          "Football",
          "Rugby Sevens",
          "Volleyball",
          "Football",
          "Football",
          "Athletics",
          "Swimming",
          "Swimming",
          "Diving",
          "Diving",
          "Diving",
          "Gymnastics",
          "Gymnastics",
          "Gymnastics",
          "Gymnastics",
          "Gymnastics",
          "Gymnastics",
          "Gymnastics",
          "Gymnastics",
          "Gymnastics",
          "Gymnastics",
          "Swimming",
          "Swimming",
          "Volleyball",
          "Volleyball",
          "Synchronized Swimming",
          "Synchronized Swimming",
          "Handball",
          "Handball",
          "Handball",
          "Fencing",
          "Gymnastics",
          "Gymnastics",
          "Gymnastics",
          "Gymnastics",
          "Gymnastics",
          "Gymnastics",
          "Judo",
          "Judo",
          "Basketball",
          "Basketball",
          "Swimming",
          "Handball",
          "Volleyball",
          "Swimming",
          "Athletics",
          "Football",
          "Football",
          "Swimming",
          "Swimming",
          "Swimming",
          "Football",
          "Football",
          "Basketball",
          "Swimming",
          "Swimming",
          "Swimming",
          "Volleyball",
          "Volleyball",
          "Athletics",
          "Rugby Sevens",
          "Rugby Sevens",
          "Athletics",
          "Athletics",
          "Volleyball",
          "Weightlifting",
          "Athletics",
          "Athletics",
          "Athletics",
          "Athletics",
          "Athletics",
          "Gymnastics",
          "Gymnastics",
          "Gymnastics",
          "Gymnastics",
          "Gymnastics",
          "Rugby Sevens",
          "Volleyball",
          "Canoeing",
          "Canoeing",
          "Rugby Sevens",
          "Sailing",
          "Rhythmic Gymnastics",
          "Rhythmic Gymnastics",
          "Alpine Skiing",
          "Alpine Skiing",
          "Swimming",
          "Swimming",
          "Volleyball",
          "Gymnastics",
          "Gymnastics",
          "Gymnastics",
          "Gymnastics",
          "Gymnastics",
          "Taekwondo",
          "Cycling",
          "Cycling",
          "Cycling",
          "Cycling",
          "Volleyball",
          "Volleyball",
          "Swimming",
          "Swimming",
          "Volleyball",
          "Volleyball",
          "Wrestling",
          "Wrestling",
          "Volleyball",
          "Athletics",
          "Judo",
          "Judo",
          "Judo",
          "Basketball",
          "Basketball",
          "Fencing",
          "Fencing",
          "Football",
          "Taekwondo",
          "Football",
          "Football",
          "Athletics",
          "Basketball",
          "Triathlon",
          "Triathlon",
          "Football",
          "Athletics",
          "Athletics",
          "Athletics",
          "Synchronized Swimming",
          "Cycling",
          "Gymnastics",
          "Gymnastics",
          "Gymnastics",
          "Gymnastics",
          "Gymnastics",
          "Gymnastics",
          "Gymnastics",
          "Gymnastics",
          "Gymnastics",
          "Gymnastics",
          "Shooting",
          "Shooting",
          "Athletics",
          "Athletics",
          "Shooting",
          "Cycling",
          "Volleyball",
          "Football",
          "Football",
          "Sailing",
          "Sailing",
          "Football",
          "Diving",
          "Table Tennis",
          "Football",
          "Football",
          "Football",
          "Swimming",
          "Swimming",
          "Swimming",
          "Swimming",
          "Shooting",
          "Synchronized Swimming",
          "Synchronized Swimming",
          "Synchronized Swimming",
          "Volleyball",
          "Rugby Sevens",
          "Athletics",
          "Athletics",
          "Athletics",
          "Athletics",
          "Athletics",
          "Football",
          "Volleyball",
          "Football",
          "Volleyball",
          "Athletics",
          "Athletics",
          "Volleyball",
          "Synchronized Swimming",
          "Synchronized Swimming",
          "Diving",
          "Diving",
          "Diving",
          "Diving",
          "Diving",
          "Diving",
          "Diving",
          "Diving",
          "Athletics",
          "Athletics",
          "Swimming",
          "Swimming",
          "Canoeing",
          "Canoeing",
          "Badminton",
          "Tennis",
          "Tennis",
          "Swimming",
          "Swimming",
          "Athletics",
          "Volleyball",
          "Volleyball",
          "Basketball",
          "Fencing",
          "Volleyball",
          "Figure Skating",
          "Water Polo",
          "Judo",
          "Judo",
          "Handball",
          "Basketball",
          "Swimming"
         ],
         "legendgroup": "F, Sem medalha",
         "marker": {
          "color": "red",
          "opacity": 0.3,
          "symbol": "circle"
         },
         "mode": "markers",
         "name": "F, Sem medalha",
         "showlegend": true,
         "type": "scattergl",
         "x": [
          2016,
          2016,
          1992,
          2004,
          2008,
          2012,
          2016,
          1996,
          2004,
          2004,
          2008,
          1980,
          2000,
          2008,
          2004,
          2004,
          2008,
          2012,
          2016,
          2016,
          2012,
          2004,
          2008,
          2008,
          2012,
          2016,
          2016,
          2004,
          2004,
          2008,
          2008,
          2012,
          2016,
          1992,
          1996,
          1988,
          1988,
          2004,
          1988,
          1988,
          1988,
          1988,
          2008,
          2012,
          2016,
          1992,
          1988,
          1992,
          2008,
          2012,
          2016,
          1992,
          1992,
          2016,
          2016,
          2016,
          2016,
          2016,
          1992,
          2000,
          2012,
          2016,
          2016,
          2016,
          2016,
          2012,
          2016,
          1980,
          2016,
          2004,
          2002,
          2006,
          2016,
          2016,
          2016,
          2016,
          2004,
          2004,
          2012,
          2016,
          2016,
          2008,
          2008,
          2008,
          2008,
          2008,
          2008,
          2008,
          2016,
          2016,
          2016,
          2016,
          2016,
          2016,
          2002,
          2004,
          2008,
          2012,
          2008,
          2008,
          1976,
          1992,
          2004,
          2016,
          2016,
          2004,
          2004,
          2004,
          2012,
          2016,
          2016,
          2016,
          2016,
          2016,
          2004,
          1972,
          1972,
          2000,
          2004,
          2016,
          1992,
          1996,
          2016,
          2016,
          2016,
          2012,
          2012,
          1992,
          2000,
          2016,
          2016,
          2008,
          2016,
          1984,
          1984,
          1988,
          1984,
          1984,
          1980,
          1988,
          2016,
          2004,
          2016,
          1992,
          2016,
          2000,
          2004,
          2008,
          2012,
          2016,
          2000,
          2004,
          2008,
          2012,
          2000,
          1992,
          2004,
          1968,
          2006,
          2010,
          2014,
          2008,
          2004,
          2004,
          2008,
          2012,
          2016,
          2000,
          2000,
          2000,
          2000,
          2000,
          2004,
          2004,
          2004,
          2004,
          2004,
          2004,
          2016,
          2008,
          2000,
          2000,
          1980,
          1980,
          1980,
          1980,
          1980,
          2016,
          2004,
          2008,
          2012,
          2016,
          2016,
          2012,
          2016,
          2016,
          2004,
          2004,
          2012,
          2012,
          2016,
          2016,
          1936,
          1936,
          1948,
          1948,
          1948,
          1952,
          2016,
          2012,
          2016,
          2008,
          2016,
          1996,
          1984,
          1988,
          1948,
          1948,
          2016,
          2012,
          2016,
          1996,
          2000,
          2004,
          2008,
          2012,
          2016,
          2016,
          2000,
          2004,
          2004,
          2012,
          2012,
          2008,
          1984,
          2014,
          2012,
          2000,
          2004,
          2008,
          2000,
          2012,
          2016,
          2004,
          2008,
          2012,
          2016,
          2004,
          2008,
          1980,
          2000,
          1988,
          2012,
          2016,
          1952,
          1952,
          2000,
          2012,
          2012,
          2016,
          2012,
          2012,
          2016,
          2016,
          2016,
          1984,
          1948,
          1948,
          1952,
          1952,
          2012,
          2016,
          2004,
          2004,
          2008,
          2008,
          1948,
          1948,
          1992,
          1996,
          1948,
          1952,
          2016,
          2016,
          2000,
          2000,
          2008,
          2012,
          2012,
          2016,
          2016,
          2016,
          2008,
          1936,
          2016,
          2016,
          1996,
          1996,
          2016,
          2016,
          2004,
          2004,
          2008,
          2008,
          2008,
          2012,
          2016,
          2016,
          1996,
          2004,
          2004,
          1964,
          1968,
          2012,
          2016,
          2016,
          2012,
          2016,
          2004,
          2004,
          2004,
          2004,
          2004,
          2008,
          2008,
          2008,
          2012,
          2012,
          2012,
          2008,
          2012,
          2012,
          2014,
          2014,
          2016,
          2000,
          2000,
          2004,
          2008,
          2016,
          2000,
          1952,
          1952,
          1960,
          1992,
          1992,
          1996,
          1996,
          2016,
          2008,
          1996,
          2004,
          2000,
          2012,
          2016,
          2004,
          2012,
          2016,
          2012,
          2012,
          2016,
          2004,
          2016,
          2016,
          2004,
          2012,
          1996,
          1968,
          1968,
          2016,
          2008,
          1988,
          1988,
          1992,
          1992,
          1984,
          2012,
          2016,
          2016,
          2000,
          2000,
          1988,
          1992,
          2004,
          2008,
          2008,
          2000,
          2004,
          2012,
          2016,
          2016,
          2012,
          2016,
          2004,
          2004,
          2008,
          2008,
          2008,
          2000,
          2012,
          2008,
          2012,
          1988,
          1988,
          1988,
          1996,
          2004,
          1984,
          1984,
          1984,
          1984,
          1984,
          1992,
          2004,
          1996,
          2000,
          2012,
          2016,
          1992,
          1996,
          2000,
          2004,
          2012,
          2008,
          2012,
          2008,
          2008,
          2008,
          2008,
          2008,
          2012,
          2012,
          2012,
          2012,
          2012,
          2008,
          2012,
          2016,
          2016,
          2016,
          1976,
          1984,
          1984,
          2016,
          1980,
          1984,
          1984,
          1988,
          2016,
          2016,
          2016,
          2008,
          2008,
          2012,
          1972,
          1972,
          1972,
          1976,
          2004,
          2004,
          2004,
          2010,
          2010,
          2014,
          2014,
          2004,
          1992,
          2004,
          2004,
          1992,
          2012,
          2016,
          1992,
          1992,
          2004,
          2000,
          2000,
          2000,
          2000,
          2000,
          2004,
          2004,
          2004,
          2004,
          2004,
          2004,
          2008,
          2008,
          2008,
          2008,
          2008,
          2012,
          2012,
          2012,
          2012,
          2012,
          2016,
          2016,
          2016,
          1984,
          1992,
          1980,
          1984,
          2016,
          2016,
          1992,
          2000,
          2004,
          2004,
          2016,
          2000,
          2004,
          2008,
          1992,
          2004,
          2016,
          1988,
          1988,
          2000,
          1992,
          2016,
          2000,
          2008,
          2004,
          2008,
          2012,
          1996,
          2000,
          2004,
          2008,
          2016,
          2004,
          1988,
          2016,
          2012,
          1992,
          1992,
          1996,
          1996,
          2004,
          2012,
          2000,
          2012,
          2016,
          2016,
          2004,
          2012,
          2012,
          2016,
          2016,
          2012,
          2012,
          2012,
          2012,
          2012,
          2004,
          1992,
          2008,
          1980,
          1984,
          1988,
          2012,
          2012,
          2004,
          2008,
          2008,
          2008,
          2008,
          1932,
          1932,
          1932,
          1936,
          2016,
          2016,
          2012,
          2016,
          2016,
          2016,
          1992,
          1992,
          2016,
          2016,
          2016,
          2000,
          2004,
          2008,
          1948,
          1948,
          2016,
          2016,
          2016,
          1988,
          1988,
          1984,
          2004,
          2008,
          2016,
          1996,
          2004,
          2000,
          2012,
          2016,
          2016,
          2008,
          2004,
          2008,
          2004,
          2004,
          2004,
          2008,
          2008,
          2008,
          2012,
          2012,
          2016,
          2016,
          2016,
          2016,
          2016,
          1988,
          1992,
          2004,
          1996,
          2000,
          2008,
          2016,
          2012,
          2016,
          2016,
          2016,
          2000,
          2012,
          2008,
          1980,
          2012,
          2012,
          2016,
          1992,
          2000,
          2016,
          2016,
          2016,
          2016,
          1996,
          1980,
          1996,
          2004,
          2008,
          2008,
          2016,
          1996,
          2000,
          2008,
          2016,
          2016,
          1996,
          2016,
          2012,
          2016,
          1988,
          1988,
          2016,
          2016,
          2000,
          2000,
          2008,
          2008,
          2012,
          2004,
          2004,
          2004,
          2016,
          2000,
          2016,
          1988,
          2000,
          2004,
          2000,
          2004,
          2016,
          2000,
          2004,
          2000,
          2004,
          1948,
          1948,
          1988,
          1992,
          2004,
          2006,
          2008,
          2010,
          2014,
          2014,
          2014,
          2016,
          1948,
          1948,
          1948,
          2008,
          2008,
          2012,
          2016,
          1976,
          1992,
          2016,
          2000,
          1992,
          1996,
          2004,
          2016,
          1992,
          1996,
          2000,
          2016,
          2016,
          2016,
          2004,
          2008,
          2008,
          2016,
          2000,
          2004,
          2008,
          2008,
          2012,
          2016,
          2000,
          2004,
          2012,
          2016,
          2016,
          2016,
          2008,
          2004,
          2016,
          2016,
          2016,
          2016,
          2016,
          1980,
          2016,
          2016,
          2012,
          2016,
          2016,
          2004,
          2008,
          1996,
          2016,
          2016,
          2004,
          1992,
          2016,
          2016,
          1988,
          1992,
          1996,
          1988,
          1988,
          1988,
          2016,
          1984,
          1976,
          1976,
          2016,
          2016,
          2016,
          2012,
          2016,
          2004,
          2004,
          2008,
          2012,
          2016,
          2008,
          2012,
          1948,
          1948,
          2016,
          2004,
          1992,
          2012,
          2016,
          2008,
          1996,
          2000,
          1956,
          2012,
          2016,
          2016,
          2016,
          1988,
          2000,
          2016,
          2008,
          1988,
          1988,
          1984,
          1984,
          1988,
          1988,
          1988,
          1988,
          1988,
          1988,
          1992,
          1992,
          1992,
          1992,
          1992,
          1976,
          1976,
          1984,
          1988,
          1988,
          1988,
          2016,
          2012,
          2016,
          2016,
          2004,
          2004,
          2004,
          2004,
          2004,
          2004,
          1992,
          1996,
          2012,
          2016,
          1948,
          2000,
          1984,
          2016,
          2016,
          2000,
          2012,
          1996,
          1996,
          1996,
          1996,
          2000,
          1992,
          2008,
          2008,
          2008,
          1984,
          1988,
          2016,
          2016,
          2016,
          2016,
          2004,
          1988,
          2016,
          2008,
          2012,
          2012,
          2016,
          2016,
          2016,
          2016,
          2016,
          2016,
          2016,
          2016,
          2004,
          2012,
          2016,
          2016,
          1992,
          2000,
          1992,
          1992,
          1992,
          1948,
          1948,
          2016,
          2008,
          2008,
          2008,
          2008,
          2008,
          2000,
          2008,
          2012,
          2012,
          2016,
          1980,
          1984,
          2008,
          2008,
          1980,
          1984,
          2012,
          2016,
          2016,
          2008,
          2012,
          2016,
          2012,
          2004,
          2012,
          2016,
          2016,
          2000,
          2016,
          1996,
          2000,
          2016,
          1992,
          2000,
          2004,
          1996,
          2012,
          2012,
          2016,
          1992,
          2012,
          2004,
          2004,
          2004,
          2004,
          2004,
          2004,
          2008,
          2008,
          2008,
          2008,
          2012,
          2012,
          2008,
          2016,
          1984,
          2012,
          1988,
          2000,
          1996,
          1992,
          2016,
          1996,
          2016,
          2016,
          2016,
          1996,
          2000,
          1972,
          1972,
          1976,
          1976,
          2016,
          2008,
          2012,
          2016,
          1980,
          2016,
          1988,
          1988,
          2004,
          2008,
          2008,
          2012,
          2016,
          2016,
          1992,
          2004,
          2008,
          2004,
          1992,
          1992,
          2000,
          2000,
          2004,
          2004,
          2008,
          2012,
          2016,
          2016,
          2016,
          2016,
          1936,
          1936,
          2016,
          2016,
          2016,
          1992,
          1992,
          1988,
          1988,
          2008,
          1980,
          2004,
          2004,
          1936,
          2004,
          2014,
          2016,
          1996,
          2004,
          2000,
          1992,
          1936
         ],
         "xaxis": "x",
         "y": [
          175,
          187,
          180,
          170,
          170,
          170,
          170,
          180,
          180,
          180,
          180,
          172,
          184,
          184,
          200,
          177,
          177,
          177,
          177,
          162,
          180,
          195,
          195,
          168,
          168,
          168,
          168,
          162,
          162,
          162,
          162,
          175,
          175,
          null,
          165,
          159,
          159,
          181,
          165,
          165,
          165,
          165,
          186,
          186,
          186,
          187,
          176,
          176,
          172,
          172,
          172,
          183,
          null,
          151,
          151,
          151,
          151,
          151,
          null,
          175,
          175,
          160,
          168,
          167,
          162,
          180,
          180,
          170,
          182,
          177,
          159,
          159,
          164,
          176,
          164,
          169,
          180,
          160,
          171,
          171,
          171,
          160,
          151,
          151,
          151,
          151,
          151,
          151,
          151,
          151,
          151,
          151,
          151,
          176,
          159,
          172,
          172,
          172,
          null,
          null,
          178,
          null,
          179,
          166,
          166,
          175,
          174,
          174,
          178,
          178,
          160,
          174,
          174,
          167,
          169,
          172,
          172,
          160,
          160,
          165,
          175,
          175,
          162,
          162,
          169,
          173,
          179,
          165,
          165,
          156,
          165,
          176,
          182,
          165,
          165,
          165,
          null,
          null,
          172,
          172,
          164,
          162,
          158,
          null,
          176,
          183,
          183,
          183,
          183,
          170,
          176,
          176,
          183,
          183,
          163,
          null,
          195,
          168,
          167,
          167,
          167,
          170,
          162,
          162,
          162,
          194,
          194,
          157,
          157,
          157,
          157,
          157,
          157,
          157,
          157,
          157,
          157,
          157,
          162,
          170,
          162,
          170,
          156,
          156,
          156,
          156,
          156,
          173,
          170,
          170,
          170,
          170,
          170,
          180,
          176,
          176,
          161,
          161,
          161,
          161,
          161,
          161,
          null,
          null,
          null,
          null,
          null,
          null,
          170,
          176,
          176,
          165,
          165,
          164,
          177,
          177,
          null,
          null,
          171,
          166,
          166,
          175,
          175,
          175,
          175,
          176,
          176,
          164,
          161,
          161,
          161,
          161,
          161,
          177,
          181,
          169,
          162,
          171,
          171,
          171,
          171,
          192,
          192,
          183,
          183,
          183,
          183,
          178,
          178,
          175,
          179,
          158,
          176,
          156,
          null,
          null,
          162,
          null,
          null,
          176,
          174,
          174,
          174,
          174,
          167,
          165,
          null,
          null,
          null,
          null,
          178,
          178,
          167,
          167,
          167,
          167,
          null,
          null,
          160,
          160,
          null,
          null,
          160,
          160,
          174,
          167,
          163,
          163,
          163,
          163,
          163,
          163,
          null,
          null,
          168,
          165,
          168,
          156,
          157,
          172,
          175,
          175,
          175,
          175,
          180,
          180,
          180,
          175,
          171,
          175,
          175,
          173,
          173,
          165,
          153,
          153,
          183,
          183,
          145,
          145,
          145,
          145,
          145,
          145,
          145,
          145,
          145,
          145,
          145,
          172,
          172,
          172,
          168,
          154,
          173,
          160,
          160,
          160,
          158,
          158,
          165,
          159,
          159,
          159,
          166,
          166,
          166,
          166,
          170,
          187,
          174,
          184,
          167,
          172,
          172,
          196,
          196,
          196,
          164,
          161,
          161,
          193,
          193,
          184,
          178,
          178,
          169,
          167,
          167,
          156,
          162,
          162,
          162,
          162,
          162,
          163,
          173,
          163,
          164,
          170,
          168,
          180,
          180,
          180,
          183,
          null,
          170,
          170,
          170,
          178,
          163,
          165,
          165,
          165,
          165,
          165,
          165,
          165,
          169,
          180,
          169,
          169,
          170,
          170,
          170,
          170,
          168,
          157,
          157,
          157,
          157,
          157,
          173,
          173,
          162,
          162,
          162,
          162,
          170,
          170,
          170,
          155,
          161,
          187,
          187,
          147,
          147,
          147,
          147,
          147,
          147,
          147,
          147,
          147,
          147,
          173,
          173,
          173,
          176,
          181,
          162,
          162,
          162,
          170,
          172,
          172,
          172,
          172,
          159,
          173,
          168,
          170,
          191,
          162,
          161,
          161,
          161,
          170,
          178,
          178,
          178,
          161,
          161,
          161,
          161,
          165,
          175,
          175,
          176,
          178,
          180,
          180,
          182,
          174,
          156,
          147,
          147,
          147,
          147,
          147,
          147,
          147,
          147,
          147,
          147,
          147,
          147,
          147,
          147,
          147,
          147,
          147,
          147,
          147,
          147,
          147,
          147,
          147,
          147,
          177,
          177,
          180,
          180,
          179,
          156,
          null,
          167,
          167,
          181,
          181,
          170,
          170,
          170,
          182,
          182,
          186,
          169,
          169,
          154,
          190,
          184,
          169,
          177,
          173,
          173,
          173,
          172,
          172,
          193,
          193,
          193,
          179,
          170,
          172,
          171,
          158,
          158,
          158,
          158,
          171,
          171,
          173,
          168,
          168,
          168,
          175,
          166,
          166,
          166,
          166,
          null,
          null,
          null,
          null,
          null,
          187,
          179,
          170,
          183,
          183,
          183,
          158,
          158,
          168,
          168,
          168,
          168,
          178,
          168,
          168,
          168,
          168,
          167,
          180,
          168,
          168,
          168,
          183,
          null,
          null,
          167,
          159,
          163,
          174,
          174,
          174,
          null,
          null,
          163,
          163,
          163,
          173,
          173,
          175,
          167,
          167,
          167,
          158,
          166,
          173,
          173,
          169,
          167,
          193,
          169,
          169,
          173,
          173,
          173,
          173,
          173,
          173,
          173,
          173,
          173,
          173,
          173,
          159,
          174,
          185,
          185,
          188,
          156,
          178,
          166,
          166,
          162,
          162,
          160,
          175,
          157,
          162,
          171,
          174,
          159,
          168,
          168,
          163,
          155,
          169,
          169,
          169,
          169,
          175,
          176,
          174,
          174,
          162,
          154,
          154,
          175,
          175,
          180,
          167,
          167,
          168,
          180,
          162,
          162,
          160,
          170,
          177,
          177,
          178,
          178,
          178,
          178,
          178,
          159,
          159,
          159,
          160,
          178,
          168,
          158,
          178,
          178,
          180,
          180,
          170,
          180,
          180,
          164,
          164,
          null,
          null,
          185,
          185,
          170,
          170,
          170,
          170,
          170,
          170,
          170,
          172,
          176,
          176,
          176,
          163,
          172,
          172,
          172,
          166,
          170,
          172,
          154,
          153,
          153,
          153,
          184,
          null,
          158,
          158,
          170,
          170,
          164,
          164,
          164,
          175,
          165,
          168,
          168,
          168,
          165,
          165,
          169,
          161,
          161,
          161,
          161,
          156,
          169,
          160,
          160,
          169,
          169,
          169,
          169,
          169,
          179,
          153,
          153,
          165,
          165,
          165,
          160,
          160,
          164,
          167,
          167,
          172,
          174,
          172,
          162,
          170,
          170,
          170,
          176,
          176,
          176,
          166,
          179,
          169,
          169,
          167,
          167,
          167,
          180,
          180,
          168,
          174,
          174,
          174,
          174,
          168,
          178,
          null,
          null,
          172,
          159,
          185,
          158,
          158,
          168,
          157,
          157,
          null,
          172,
          172,
          175,
          174,
          179,
          161,
          160,
          169,
          165,
          165,
          165,
          165,
          165,
          148,
          148,
          148,
          148,
          148,
          148,
          148,
          148,
          148,
          148,
          165,
          165,
          175,
          175,
          168,
          168,
          166,
          170,
          170,
          165,
          163,
          163,
          163,
          163,
          163,
          163,
          null,
          null,
          176,
          176,
          null,
          168,
          180,
          165,
          170,
          173,
          173,
          173,
          173,
          173,
          156,
          156,
          188,
          170,
          170,
          170,
          178,
          178,
          155,
          153,
          177,
          165,
          177,
          189,
          162,
          166,
          166,
          166,
          166,
          166,
          133,
          133,
          133,
          133,
          133,
          174,
          179,
          163,
          163,
          169,
          null,
          160,
          null,
          null,
          null,
          null,
          null,
          185,
          150,
          150,
          150,
          150,
          150,
          154,
          163,
          163,
          163,
          163,
          180,
          180,
          166,
          166,
          170,
          170,
          167,
          167,
          169,
          174,
          173,
          173,
          169,
          182,
          182,
          166,
          166,
          172,
          167,
          167,
          167,
          176,
          190,
          165,
          165,
          160,
          172,
          172,
          172,
          null,
          161,
          156,
          156,
          156,
          156,
          156,
          156,
          156,
          156,
          156,
          156,
          170,
          170,
          163,
          178,
          164,
          156,
          176,
          153,
          169,
          null,
          181,
          174,
          161,
          170,
          161,
          166,
          166,
          168,
          168,
          168,
          168,
          170,
          167,
          167,
          167,
          181,
          166,
          168,
          168,
          178,
          178,
          178,
          164,
          196,
          166,
          null,
          167,
          167,
          180,
          null,
          null,
          160,
          160,
          160,
          160,
          160,
          160,
          160,
          160,
          164,
          164,
          null,
          null,
          176,
          176,
          168,
          null,
          null,
          171,
          171,
          175,
          171,
          185,
          173,
          null,
          190,
          156,
          180,
          162,
          162,
          172,
          190,
          null
         ],
         "yaxis": "y"
        },
        {
         "customdata": [
          [
           "Silver"
          ],
          [
           "Silver"
          ],
          [
           "Silver"
          ],
          [
           "Silver"
          ],
          [
           "Silver"
          ],
          [
           "Silver"
          ],
          [
           "Silver"
          ],
          [
           "Silver"
          ],
          [
           "Silver"
          ],
          [
           "Silver"
          ],
          [
           "Silver"
          ],
          [
           "Silver"
          ],
          [
           "Silver"
          ],
          [
           "Silver"
          ],
          [
           "Silver"
          ],
          [
           "Silver"
          ],
          [
           "Silver"
          ],
          [
           "Silver"
          ],
          [
           "Silver"
          ],
          [
           "Silver"
          ],
          [
           "Silver"
          ],
          [
           "Silver"
          ],
          [
           "Silver"
          ],
          [
           "Silver"
          ],
          [
           "Silver"
          ],
          [
           "Silver"
          ],
          [
           "Silver"
          ],
          [
           "Silver"
          ],
          [
           "Silver"
          ],
          [
           "Silver"
          ],
          [
           "Silver"
          ],
          [
           "Silver"
          ],
          [
           "Silver"
          ],
          [
           "Silver"
          ],
          [
           "Silver"
          ],
          [
           "Silver"
          ],
          [
           "Silver"
          ],
          [
           "Silver"
          ],
          [
           "Silver"
          ],
          [
           "Silver"
          ],
          [
           "Silver"
          ],
          [
           "Silver"
          ],
          [
           "Silver"
          ],
          [
           "Silver"
          ],
          [
           "Silver"
          ],
          [
           "Silver"
          ],
          [
           "Silver"
          ]
         ],
         "hovertemplate": "<b>%{hovertext}</b><br><br>Sex=F<br>Medal=%{customdata[0]}<br>Year=%{x}<br>Height=%{y}<extra></extra>",
         "hovertext": [
          "Basketball",
          "Basketball",
          "Football",
          "Football",
          "Football",
          "Football",
          "Basketball",
          "Basketball",
          "Basketball",
          "Football",
          "Football",
          "Football",
          "Football",
          "Football",
          "Football",
          "Football",
          "Football",
          "Football",
          "Football",
          "Football",
          "Football",
          "Basketball",
          "Basketball",
          "Football",
          "Football",
          "Football",
          "Football",
          "Basketball",
          "Football",
          "Football",
          "Football",
          "Football",
          "Football",
          "Football",
          "Basketball",
          "Football",
          "Football",
          "Football",
          "Football",
          "Football",
          "Basketball",
          "Football",
          "Basketball",
          "Football",
          "Basketball",
          "Football",
          "Football"
         ],
         "legendgroup": "F, Silver",
         "marker": {
          "color": "red",
          "opacity": 0.3,
          "symbol": "diamond"
         },
         "mode": "markers",
         "name": "F, Silver",
         "showlegend": true,
         "type": "scattergl",
         "x": [
          1996,
          1996,
          2004,
          2004,
          2008,
          2008,
          1996,
          1996,
          1996,
          2004,
          2008,
          2004,
          2008,
          2004,
          2008,
          2008,
          2008,
          2004,
          2008,
          2008,
          2004,
          1996,
          1996,
          2004,
          2004,
          2004,
          2008,
          1996,
          2004,
          2008,
          2008,
          2004,
          2008,
          2004,
          1996,
          2004,
          2008,
          2008,
          2004,
          2008,
          1996,
          2004,
          1996,
          2008,
          1996,
          2004,
          2008
         ],
         "xaxis": "x",
         "y": [
          180,
          200,
          180,
          175,
          175,
          171,
          170,
          195,
          192,
          176,
          176,
          171,
          171,
          167,
          172,
          164,
          161,
          162,
          162,
          161,
          162,
          174,
          182,
          169,
          164,
          171,
          171,
          187,
          162,
          162,
          159,
          155,
          155,
          178,
          174,
          157,
          157,
          172,
          173,
          173,
          180,
          156,
          173,
          172,
          190,
          166,
          166
         ],
         "yaxis": "y"
        },
        {
         "customdata": [
          [
           "Gold"
          ],
          [
           "Gold"
          ],
          [
           "Gold"
          ],
          [
           "Gold"
          ],
          [
           "Gold"
          ],
          [
           "Gold"
          ],
          [
           "Gold"
          ],
          [
           "Gold"
          ],
          [
           "Gold"
          ],
          [
           "Gold"
          ],
          [
           "Gold"
          ],
          [
           "Gold"
          ],
          [
           "Gold"
          ],
          [
           "Gold"
          ],
          [
           "Gold"
          ],
          [
           "Gold"
          ],
          [
           "Gold"
          ],
          [
           "Gold"
          ],
          [
           "Gold"
          ],
          [
           "Gold"
          ],
          [
           "Gold"
          ],
          [
           "Gold"
          ],
          [
           "Gold"
          ],
          [
           "Gold"
          ],
          [
           "Gold"
          ],
          [
           "Gold"
          ],
          [
           "Gold"
          ],
          [
           "Gold"
          ],
          [
           "Gold"
          ]
         ],
         "hovertemplate": "<b>%{hovertext}</b><br><br>Sex=F<br>Medal=%{customdata[0]}<br>Year=%{x}<br>Height=%{y}<extra></extra>",
         "hovertext": [
          "Volleyball",
          "Volleyball",
          "Volleyball",
          "Volleyball",
          "Volleyball",
          "Volleyball",
          "Volleyball",
          "Volleyball",
          "Volleyball",
          "Sailing",
          "Volleyball",
          "Volleyball",
          "Sailing",
          "Volleyball",
          "Athletics",
          "Volleyball",
          "Judo",
          "Volleyball",
          "Volleyball",
          "Volleyball",
          "Volleyball",
          "Volleyball",
          "Volleyball",
          "Judo",
          "Volleyball",
          "Volleyball",
          "Volleyball",
          "Volleyball",
          "Volleyball"
         ],
         "legendgroup": "F, Gold",
         "marker": {
          "color": "red",
          "opacity": 0.3,
          "symbol": "square"
         },
         "mode": "markers",
         "name": "F, Gold",
         "showlegend": true,
         "type": "scattergl",
         "x": [
          2012,
          2008,
          2008,
          2012,
          2008,
          2012,
          2012,
          2008,
          2012,
          2016,
          2008,
          2012,
          2016,
          2012,
          2008,
          2008,
          2012,
          2012,
          2008,
          2012,
          2008,
          2008,
          2012,
          2016,
          2012,
          2008,
          2012,
          2008,
          2008
         ],
         "xaxis": "x",
         "y": [
          187,
          182,
          169,
          169,
          193,
          193,
          172,
          173,
          181,
          168,
          186,
          186,
          172,
          183,
          173,
          188,
          154,
          184,
          184,
          184,
          179,
          185,
          185,
          169,
          184,
          196,
          196,
          180,
          190
         ],
         "yaxis": "y"
        },
        {
         "customdata": [
          [
           "Bronze"
          ],
          [
           "Bronze"
          ],
          [
           "Bronze"
          ],
          [
           "Bronze"
          ],
          [
           "Bronze"
          ],
          [
           "Bronze"
          ],
          [
           "Bronze"
          ],
          [
           "Bronze"
          ],
          [
           "Bronze"
          ],
          [
           "Bronze"
          ],
          [
           "Bronze"
          ],
          [
           "Bronze"
          ],
          [
           "Bronze"
          ],
          [
           "Bronze"
          ],
          [
           "Bronze"
          ],
          [
           "Bronze"
          ],
          [
           "Bronze"
          ],
          [
           "Bronze"
          ],
          [
           "Bronze"
          ],
          [
           "Bronze"
          ],
          [
           "Bronze"
          ],
          [
           "Bronze"
          ],
          [
           "Bronze"
          ],
          [
           "Bronze"
          ],
          [
           "Bronze"
          ],
          [
           "Bronze"
          ],
          [
           "Bronze"
          ],
          [
           "Bronze"
          ],
          [
           "Bronze"
          ],
          [
           "Bronze"
          ],
          [
           "Bronze"
          ],
          [
           "Bronze"
          ],
          [
           "Bronze"
          ],
          [
           "Bronze"
          ],
          [
           "Bronze"
          ],
          [
           "Bronze"
          ],
          [
           "Bronze"
          ],
          [
           "Bronze"
          ],
          [
           "Bronze"
          ],
          [
           "Bronze"
          ],
          [
           "Bronze"
          ],
          [
           "Bronze"
          ],
          [
           "Bronze"
          ],
          [
           "Bronze"
          ],
          [
           "Bronze"
          ]
         ],
         "hovertemplate": "<b>%{hovertext}</b><br><br>Sex=F<br>Medal=%{customdata[0]}<br>Year=%{x}<br>Height=%{y}<extra></extra>",
         "hovertext": [
          "Basketball",
          "Basketball",
          "Basketball",
          "Volleyball",
          "Volleyball",
          "Boxing",
          "Basketball",
          "Basketball",
          "Judo",
          "Judo",
          "Volleyball",
          "Taekwondo",
          "Volleyball",
          "Volleyball",
          "Volleyball",
          "Volleyball",
          "Basketball",
          "Volleyball",
          "Volleyball",
          "Basketball",
          "Volleyball",
          "Volleyball",
          "Volleyball",
          "Basketball",
          "Volleyball",
          "Volleyball",
          "Volleyball",
          "Volleyball",
          "Basketball",
          "Volleyball",
          "Modern Pentathlon",
          "Volleyball",
          "Swimming",
          "Sailing",
          "Judo",
          "Volleyball",
          "Volleyball",
          "Volleyball",
          "Basketball",
          "Basketball",
          "Sailing",
          "Volleyball",
          "Volleyball",
          "Volleyball",
          "Basketball"
         ],
         "legendgroup": "F, Bronze",
         "marker": {
          "color": "red",
          "opacity": 0.3,
          "symbol": "x"
         },
         "mode": "markers",
         "name": "F, Bronze",
         "showlegend": true,
         "type": "scattergl",
         "x": [
          2000,
          2000,
          2000,
          1996,
          1996,
          2012,
          2000,
          2000,
          2012,
          2016,
          2000,
          2008,
          1996,
          1996,
          1996,
          2000,
          2000,
          1996,
          1996,
          2000,
          2000,
          2000,
          2000,
          2000,
          2000,
          2000,
          1996,
          2000,
          2000,
          1996,
          2012,
          1996,
          2016,
          2008,
          2008,
          2000,
          2000,
          1996,
          2000,
          2000,
          2008,
          1996,
          2000,
          2000,
          2000
         ],
         "xaxis": "x",
         "y": [
          180,
          170,
          200,
          187,
          183,
          167,
          195,
          170,
          177,
          177,
          184,
          178,
          180,
          192,
          173,
          173,
          175,
          182,
          177,
          182,
          192,
          187,
          172,
          193,
          193,
          179,
          179,
          179,
          186,
          185,
          166,
          185,
          165,
          161,
          164,
          191,
          185,
          178,
          173,
          190,
          181,
          185,
          185,
          190,
          190
         ],
         "yaxis": "y"
        }
       ],
       "layout": {
        "legend": {
         "title": {
          "text": "Sex, Medal"
         },
         "tracegroupgap": 0
        },
        "template": {
         "data": {
          "bar": [
           {
            "error_x": {
             "color": "#2a3f5f"
            },
            "error_y": {
             "color": "#2a3f5f"
            },
            "marker": {
             "line": {
              "color": "#E5ECF6",
              "width": 0.5
             },
             "pattern": {
              "fillmode": "overlay",
              "size": 10,
              "solidity": 0.2
             }
            },
            "type": "bar"
           }
          ],
          "barpolar": [
           {
            "marker": {
             "line": {
              "color": "#E5ECF6",
              "width": 0.5
             },
             "pattern": {
              "fillmode": "overlay",
              "size": 10,
              "solidity": 0.2
             }
            },
            "type": "barpolar"
           }
          ],
          "carpet": [
           {
            "aaxis": {
             "endlinecolor": "#2a3f5f",
             "gridcolor": "white",
             "linecolor": "white",
             "minorgridcolor": "white",
             "startlinecolor": "#2a3f5f"
            },
            "baxis": {
             "endlinecolor": "#2a3f5f",
             "gridcolor": "white",
             "linecolor": "white",
             "minorgridcolor": "white",
             "startlinecolor": "#2a3f5f"
            },
            "type": "carpet"
           }
          ],
          "choropleth": [
           {
            "colorbar": {
             "outlinewidth": 0,
             "ticks": ""
            },
            "type": "choropleth"
           }
          ],
          "contour": [
           {
            "colorbar": {
             "outlinewidth": 0,
             "ticks": ""
            },
            "colorscale": [
             [
              0,
              "#0d0887"
             ],
             [
              0.1111111111111111,
              "#46039f"
             ],
             [
              0.2222222222222222,
              "#7201a8"
             ],
             [
              0.3333333333333333,
              "#9c179e"
             ],
             [
              0.4444444444444444,
              "#bd3786"
             ],
             [
              0.5555555555555556,
              "#d8576b"
             ],
             [
              0.6666666666666666,
              "#ed7953"
             ],
             [
              0.7777777777777778,
              "#fb9f3a"
             ],
             [
              0.8888888888888888,
              "#fdca26"
             ],
             [
              1,
              "#f0f921"
             ]
            ],
            "type": "contour"
           }
          ],
          "contourcarpet": [
           {
            "colorbar": {
             "outlinewidth": 0,
             "ticks": ""
            },
            "type": "contourcarpet"
           }
          ],
          "heatmap": [
           {
            "colorbar": {
             "outlinewidth": 0,
             "ticks": ""
            },
            "colorscale": [
             [
              0,
              "#0d0887"
             ],
             [
              0.1111111111111111,
              "#46039f"
             ],
             [
              0.2222222222222222,
              "#7201a8"
             ],
             [
              0.3333333333333333,
              "#9c179e"
             ],
             [
              0.4444444444444444,
              "#bd3786"
             ],
             [
              0.5555555555555556,
              "#d8576b"
             ],
             [
              0.6666666666666666,
              "#ed7953"
             ],
             [
              0.7777777777777778,
              "#fb9f3a"
             ],
             [
              0.8888888888888888,
              "#fdca26"
             ],
             [
              1,
              "#f0f921"
             ]
            ],
            "type": "heatmap"
           }
          ],
          "heatmapgl": [
           {
            "colorbar": {
             "outlinewidth": 0,
             "ticks": ""
            },
            "colorscale": [
             [
              0,
              "#0d0887"
             ],
             [
              0.1111111111111111,
              "#46039f"
             ],
             [
              0.2222222222222222,
              "#7201a8"
             ],
             [
              0.3333333333333333,
              "#9c179e"
             ],
             [
              0.4444444444444444,
              "#bd3786"
             ],
             [
              0.5555555555555556,
              "#d8576b"
             ],
             [
              0.6666666666666666,
              "#ed7953"
             ],
             [
              0.7777777777777778,
              "#fb9f3a"
             ],
             [
              0.8888888888888888,
              "#fdca26"
             ],
             [
              1,
              "#f0f921"
             ]
            ],
            "type": "heatmapgl"
           }
          ],
          "histogram": [
           {
            "marker": {
             "pattern": {
              "fillmode": "overlay",
              "size": 10,
              "solidity": 0.2
             }
            },
            "type": "histogram"
           }
          ],
          "histogram2d": [
           {
            "colorbar": {
             "outlinewidth": 0,
             "ticks": ""
            },
            "colorscale": [
             [
              0,
              "#0d0887"
             ],
             [
              0.1111111111111111,
              "#46039f"
             ],
             [
              0.2222222222222222,
              "#7201a8"
             ],
             [
              0.3333333333333333,
              "#9c179e"
             ],
             [
              0.4444444444444444,
              "#bd3786"
             ],
             [
              0.5555555555555556,
              "#d8576b"
             ],
             [
              0.6666666666666666,
              "#ed7953"
             ],
             [
              0.7777777777777778,
              "#fb9f3a"
             ],
             [
              0.8888888888888888,
              "#fdca26"
             ],
             [
              1,
              "#f0f921"
             ]
            ],
            "type": "histogram2d"
           }
          ],
          "histogram2dcontour": [
           {
            "colorbar": {
             "outlinewidth": 0,
             "ticks": ""
            },
            "colorscale": [
             [
              0,
              "#0d0887"
             ],
             [
              0.1111111111111111,
              "#46039f"
             ],
             [
              0.2222222222222222,
              "#7201a8"
             ],
             [
              0.3333333333333333,
              "#9c179e"
             ],
             [
              0.4444444444444444,
              "#bd3786"
             ],
             [
              0.5555555555555556,
              "#d8576b"
             ],
             [
              0.6666666666666666,
              "#ed7953"
             ],
             [
              0.7777777777777778,
              "#fb9f3a"
             ],
             [
              0.8888888888888888,
              "#fdca26"
             ],
             [
              1,
              "#f0f921"
             ]
            ],
            "type": "histogram2dcontour"
           }
          ],
          "mesh3d": [
           {
            "colorbar": {
             "outlinewidth": 0,
             "ticks": ""
            },
            "type": "mesh3d"
           }
          ],
          "parcoords": [
           {
            "line": {
             "colorbar": {
              "outlinewidth": 0,
              "ticks": ""
             }
            },
            "type": "parcoords"
           }
          ],
          "pie": [
           {
            "automargin": true,
            "type": "pie"
           }
          ],
          "scatter": [
           {
            "marker": {
             "colorbar": {
              "outlinewidth": 0,
              "ticks": ""
             }
            },
            "type": "scatter"
           }
          ],
          "scatter3d": [
           {
            "line": {
             "colorbar": {
              "outlinewidth": 0,
              "ticks": ""
             }
            },
            "marker": {
             "colorbar": {
              "outlinewidth": 0,
              "ticks": ""
             }
            },
            "type": "scatter3d"
           }
          ],
          "scattercarpet": [
           {
            "marker": {
             "colorbar": {
              "outlinewidth": 0,
              "ticks": ""
             }
            },
            "type": "scattercarpet"
           }
          ],
          "scattergeo": [
           {
            "marker": {
             "colorbar": {
              "outlinewidth": 0,
              "ticks": ""
             }
            },
            "type": "scattergeo"
           }
          ],
          "scattergl": [
           {
            "marker": {
             "colorbar": {
              "outlinewidth": 0,
              "ticks": ""
             }
            },
            "type": "scattergl"
           }
          ],
          "scattermapbox": [
           {
            "marker": {
             "colorbar": {
              "outlinewidth": 0,
              "ticks": ""
             }
            },
            "type": "scattermapbox"
           }
          ],
          "scatterpolar": [
           {
            "marker": {
             "colorbar": {
              "outlinewidth": 0,
              "ticks": ""
             }
            },
            "type": "scatterpolar"
           }
          ],
          "scatterpolargl": [
           {
            "marker": {
             "colorbar": {
              "outlinewidth": 0,
              "ticks": ""
             }
            },
            "type": "scatterpolargl"
           }
          ],
          "scatterternary": [
           {
            "marker": {
             "colorbar": {
              "outlinewidth": 0,
              "ticks": ""
             }
            },
            "type": "scatterternary"
           }
          ],
          "surface": [
           {
            "colorbar": {
             "outlinewidth": 0,
             "ticks": ""
            },
            "colorscale": [
             [
              0,
              "#0d0887"
             ],
             [
              0.1111111111111111,
              "#46039f"
             ],
             [
              0.2222222222222222,
              "#7201a8"
             ],
             [
              0.3333333333333333,
              "#9c179e"
             ],
             [
              0.4444444444444444,
              "#bd3786"
             ],
             [
              0.5555555555555556,
              "#d8576b"
             ],
             [
              0.6666666666666666,
              "#ed7953"
             ],
             [
              0.7777777777777778,
              "#fb9f3a"
             ],
             [
              0.8888888888888888,
              "#fdca26"
             ],
             [
              1,
              "#f0f921"
             ]
            ],
            "type": "surface"
           }
          ],
          "table": [
           {
            "cells": {
             "fill": {
              "color": "#EBF0F8"
             },
             "line": {
              "color": "white"
             }
            },
            "header": {
             "fill": {
              "color": "#C8D4E3"
             },
             "line": {
              "color": "white"
             }
            },
            "type": "table"
           }
          ]
         },
         "layout": {
          "annotationdefaults": {
           "arrowcolor": "#2a3f5f",
           "arrowhead": 0,
           "arrowwidth": 1
          },
          "autotypenumbers": "strict",
          "coloraxis": {
           "colorbar": {
            "outlinewidth": 0,
            "ticks": ""
           }
          },
          "colorscale": {
           "diverging": [
            [
             0,
             "#8e0152"
            ],
            [
             0.1,
             "#c51b7d"
            ],
            [
             0.2,
             "#de77ae"
            ],
            [
             0.3,
             "#f1b6da"
            ],
            [
             0.4,
             "#fde0ef"
            ],
            [
             0.5,
             "#f7f7f7"
            ],
            [
             0.6,
             "#e6f5d0"
            ],
            [
             0.7,
             "#b8e186"
            ],
            [
             0.8,
             "#7fbc41"
            ],
            [
             0.9,
             "#4d9221"
            ],
            [
             1,
             "#276419"
            ]
           ],
           "sequential": [
            [
             0,
             "#0d0887"
            ],
            [
             0.1111111111111111,
             "#46039f"
            ],
            [
             0.2222222222222222,
             "#7201a8"
            ],
            [
             0.3333333333333333,
             "#9c179e"
            ],
            [
             0.4444444444444444,
             "#bd3786"
            ],
            [
             0.5555555555555556,
             "#d8576b"
            ],
            [
             0.6666666666666666,
             "#ed7953"
            ],
            [
             0.7777777777777778,
             "#fb9f3a"
            ],
            [
             0.8888888888888888,
             "#fdca26"
            ],
            [
             1,
             "#f0f921"
            ]
           ],
           "sequentialminus": [
            [
             0,
             "#0d0887"
            ],
            [
             0.1111111111111111,
             "#46039f"
            ],
            [
             0.2222222222222222,
             "#7201a8"
            ],
            [
             0.3333333333333333,
             "#9c179e"
            ],
            [
             0.4444444444444444,
             "#bd3786"
            ],
            [
             0.5555555555555556,
             "#d8576b"
            ],
            [
             0.6666666666666666,
             "#ed7953"
            ],
            [
             0.7777777777777778,
             "#fb9f3a"
            ],
            [
             0.8888888888888888,
             "#fdca26"
            ],
            [
             1,
             "#f0f921"
            ]
           ]
          },
          "colorway": [
           "#636efa",
           "#EF553B",
           "#00cc96",
           "#ab63fa",
           "#FFA15A",
           "#19d3f3",
           "#FF6692",
           "#B6E880",
           "#FF97FF",
           "#FECB52"
          ],
          "font": {
           "color": "#2a3f5f"
          },
          "geo": {
           "bgcolor": "white",
           "lakecolor": "white",
           "landcolor": "#E5ECF6",
           "showlakes": true,
           "showland": true,
           "subunitcolor": "white"
          },
          "hoverlabel": {
           "align": "left"
          },
          "hovermode": "closest",
          "mapbox": {
           "style": "light"
          },
          "paper_bgcolor": "white",
          "plot_bgcolor": "#E5ECF6",
          "polar": {
           "angularaxis": {
            "gridcolor": "white",
            "linecolor": "white",
            "ticks": ""
           },
           "bgcolor": "#E5ECF6",
           "radialaxis": {
            "gridcolor": "white",
            "linecolor": "white",
            "ticks": ""
           }
          },
          "scene": {
           "xaxis": {
            "backgroundcolor": "#E5ECF6",
            "gridcolor": "white",
            "gridwidth": 2,
            "linecolor": "white",
            "showbackground": true,
            "ticks": "",
            "zerolinecolor": "white"
           },
           "yaxis": {
            "backgroundcolor": "#E5ECF6",
            "gridcolor": "white",
            "gridwidth": 2,
            "linecolor": "white",
            "showbackground": true,
            "ticks": "",
            "zerolinecolor": "white"
           },
           "zaxis": {
            "backgroundcolor": "#E5ECF6",
            "gridcolor": "white",
            "gridwidth": 2,
            "linecolor": "white",
            "showbackground": true,
            "ticks": "",
            "zerolinecolor": "white"
           }
          },
          "shapedefaults": {
           "line": {
            "color": "#2a3f5f"
           }
          },
          "ternary": {
           "aaxis": {
            "gridcolor": "white",
            "linecolor": "white",
            "ticks": ""
           },
           "baxis": {
            "gridcolor": "white",
            "linecolor": "white",
            "ticks": ""
           },
           "bgcolor": "#E5ECF6",
           "caxis": {
            "gridcolor": "white",
            "linecolor": "white",
            "ticks": ""
           }
          },
          "title": {
           "x": 0.05
          },
          "xaxis": {
           "automargin": true,
           "gridcolor": "white",
           "linecolor": "white",
           "ticks": "",
           "title": {
            "standoff": 15
           },
           "zerolinecolor": "white",
           "zerolinewidth": 2
          },
          "yaxis": {
           "automargin": true,
           "gridcolor": "white",
           "linecolor": "white",
           "ticks": "",
           "title": {
            "standoff": 15
           },
           "zerolinecolor": "white",
           "zerolinewidth": 2
          }
         }
        },
        "title": {
         "text": "Autura x ano"
        },
        "xaxis": {
         "anchor": "y",
         "domain": [
          0,
          1
         ],
         "title": {
          "text": "Year"
         }
        },
        "yaxis": {
         "anchor": "x",
         "domain": [
          0,
          1
         ],
         "title": {
          "text": "Height"
         }
        }
       }
      },
      "text/html": [
       "<div>                            <div id=\"04ac7c80-72fb-4f33-9b81-1fce235db59a\" class=\"plotly-graph-div\" style=\"height:525px; width:100%;\"></div>            <script type=\"text/javascript\">                require([\"plotly\"], function(Plotly) {                    window.PLOTLYENV=window.PLOTLYENV || {};                                    if (document.getElementById(\"04ac7c80-72fb-4f33-9b81-1fce235db59a\")) {                    Plotly.newPlot(                        \"04ac7c80-72fb-4f33-9b81-1fce235db59a\",                        [{\"customdata\":[[\"Sem medalha\"],[\"Sem medalha\"],[\"Sem medalha\"],[\"Sem medalha\"],[\"Sem medalha\"],[\"Sem medalha\"],[\"Sem medalha\"],[\"Sem medalha\"],[\"Sem medalha\"],[\"Sem medalha\"],[\"Sem medalha\"],[\"Sem medalha\"],[\"Sem medalha\"],[\"Sem medalha\"],[\"Sem medalha\"],[\"Sem medalha\"],[\"Sem medalha\"],[\"Sem medalha\"],[\"Sem medalha\"],[\"Sem medalha\"],[\"Sem medalha\"],[\"Sem medalha\"],[\"Sem medalha\"],[\"Sem medalha\"],[\"Sem medalha\"],[\"Sem medalha\"],[\"Sem medalha\"],[\"Sem medalha\"],[\"Sem medalha\"],[\"Sem medalha\"],[\"Sem medalha\"],[\"Sem medalha\"],[\"Sem medalha\"],[\"Sem medalha\"],[\"Sem medalha\"],[\"Sem medalha\"],[\"Sem medalha\"],[\"Sem medalha\"],[\"Sem medalha\"],[\"Sem medalha\"],[\"Sem medalha\"],[\"Sem medalha\"],[\"Sem medalha\"],[\"Sem medalha\"],[\"Sem medalha\"],[\"Sem medalha\"],[\"Sem medalha\"],[\"Sem medalha\"],[\"Sem medalha\"],[\"Sem medalha\"],[\"Sem medalha\"],[\"Sem medalha\"],[\"Sem medalha\"],[\"Sem medalha\"],[\"Sem medalha\"],[\"Sem medalha\"],[\"Sem medalha\"],[\"Sem medalha\"],[\"Sem medalha\"],[\"Sem medalha\"],[\"Sem medalha\"],[\"Sem medalha\"],[\"Sem medalha\"],[\"Sem medalha\"],[\"Sem medalha\"],[\"Sem medalha\"],[\"Sem medalha\"],[\"Sem medalha\"],[\"Sem medalha\"],[\"Sem medalha\"],[\"Sem medalha\"],[\"Sem medalha\"],[\"Sem medalha\"],[\"Sem medalha\"],[\"Sem medalha\"],[\"Sem medalha\"],[\"Sem medalha\"],[\"Sem medalha\"],[\"Sem medalha\"],[\"Sem medalha\"],[\"Sem medalha\"],[\"Sem medalha\"],[\"Sem medalha\"],[\"Sem medalha\"],[\"Sem medalha\"],[\"Sem medalha\"],[\"Sem medalha\"],[\"Sem medalha\"],[\"Sem medalha\"],[\"Sem medalha\"],[\"Sem medalha\"],[\"Sem medalha\"],[\"Sem medalha\"],[\"Sem medalha\"],[\"Sem medalha\"],[\"Sem medalha\"],[\"Sem medalha\"],[\"Sem medalha\"],[\"Sem medalha\"],[\"Sem medalha\"],[\"Sem medalha\"],[\"Sem medalha\"],[\"Sem medalha\"],[\"Sem medalha\"],[\"Sem medalha\"],[\"Sem medalha\"],[\"Sem medalha\"],[\"Sem medalha\"],[\"Sem medalha\"],[\"Sem medalha\"],[\"Sem medalha\"],[\"Sem medalha\"],[\"Sem medalha\"],[\"Sem medalha\"],[\"Sem medalha\"],[\"Sem medalha\"],[\"Sem medalha\"],[\"Sem medalha\"],[\"Sem medalha\"],[\"Sem medalha\"],[\"Sem medalha\"],[\"Sem medalha\"],[\"Sem medalha\"],[\"Sem medalha\"],[\"Sem medalha\"],[\"Sem medalha\"],[\"Sem medalha\"],[\"Sem medalha\"],[\"Sem medalha\"],[\"Sem medalha\"],[\"Sem medalha\"],[\"Sem medalha\"],[\"Sem medalha\"],[\"Sem medalha\"],[\"Sem medalha\"],[\"Sem medalha\"],[\"Sem medalha\"],[\"Sem medalha\"],[\"Sem medalha\"],[\"Sem medalha\"],[\"Sem medalha\"],[\"Sem medalha\"],[\"Sem medalha\"],[\"Sem medalha\"],[\"Sem medalha\"],[\"Sem medalha\"],[\"Sem medalha\"],[\"Sem medalha\"],[\"Sem medalha\"],[\"Sem medalha\"],[\"Sem medalha\"],[\"Sem medalha\"],[\"Sem medalha\"],[\"Sem medalha\"],[\"Sem medalha\"],[\"Sem medalha\"],[\"Sem medalha\"],[\"Sem medalha\"],[\"Sem medalha\"],[\"Sem medalha\"],[\"Sem medalha\"],[\"Sem medalha\"],[\"Sem medalha\"],[\"Sem medalha\"],[\"Sem medalha\"],[\"Sem medalha\"],[\"Sem medalha\"],[\"Sem medalha\"],[\"Sem medalha\"],[\"Sem medalha\"],[\"Sem medalha\"],[\"Sem medalha\"],[\"Sem medalha\"],[\"Sem medalha\"],[\"Sem medalha\"],[\"Sem medalha\"],[\"Sem medalha\"],[\"Sem medalha\"],[\"Sem medalha\"],[\"Sem medalha\"],[\"Sem medalha\"],[\"Sem medalha\"],[\"Sem medalha\"],[\"Sem medalha\"],[\"Sem medalha\"],[\"Sem medalha\"],[\"Sem medalha\"],[\"Sem medalha\"],[\"Sem medalha\"],[\"Sem medalha\"],[\"Sem medalha\"],[\"Sem medalha\"],[\"Sem medalha\"],[\"Sem medalha\"],[\"Sem medalha\"],[\"Sem medalha\"],[\"Sem medalha\"],[\"Sem medalha\"],[\"Sem medalha\"],[\"Sem medalha\"],[\"Sem medalha\"],[\"Sem medalha\"],[\"Sem medalha\"],[\"Sem medalha\"],[\"Sem medalha\"],[\"Sem medalha\"],[\"Sem medalha\"],[\"Sem medalha\"],[\"Sem medalha\"],[\"Sem medalha\"],[\"Sem medalha\"],[\"Sem medalha\"],[\"Sem medalha\"],[\"Sem medalha\"],[\"Sem medalha\"],[\"Sem medalha\"],[\"Sem medalha\"],[\"Sem medalha\"],[\"Sem medalha\"],[\"Sem medalha\"],[\"Sem medalha\"],[\"Sem medalha\"],[\"Sem medalha\"],[\"Sem medalha\"],[\"Sem medalha\"],[\"Sem medalha\"],[\"Sem medalha\"],[\"Sem medalha\"],[\"Sem medalha\"],[\"Sem medalha\"],[\"Sem medalha\"],[\"Sem medalha\"],[\"Sem medalha\"],[\"Sem medalha\"],[\"Sem medalha\"],[\"Sem medalha\"],[\"Sem medalha\"],[\"Sem medalha\"],[\"Sem medalha\"],[\"Sem medalha\"],[\"Sem medalha\"],[\"Sem medalha\"],[\"Sem medalha\"],[\"Sem medalha\"],[\"Sem medalha\"],[\"Sem medalha\"],[\"Sem medalha\"],[\"Sem medalha\"],[\"Sem medalha\"],[\"Sem medalha\"],[\"Sem medalha\"],[\"Sem medalha\"],[\"Sem medalha\"],[\"Sem medalha\"],[\"Sem medalha\"],[\"Sem medalha\"],[\"Sem medalha\"],[\"Sem medalha\"],[\"Sem medalha\"],[\"Sem medalha\"],[\"Sem medalha\"],[\"Sem medalha\"],[\"Sem medalha\"],[\"Sem medalha\"],[\"Sem medalha\"],[\"Sem medalha\"],[\"Sem medalha\"],[\"Sem medalha\"],[\"Sem medalha\"],[\"Sem medalha\"],[\"Sem medalha\"],[\"Sem medalha\"],[\"Sem medalha\"],[\"Sem medalha\"],[\"Sem medalha\"],[\"Sem medalha\"],[\"Sem medalha\"],[\"Sem medalha\"],[\"Sem medalha\"],[\"Sem medalha\"],[\"Sem medalha\"],[\"Sem medalha\"],[\"Sem medalha\"],[\"Sem medalha\"],[\"Sem medalha\"],[\"Sem medalha\"],[\"Sem medalha\"],[\"Sem medalha\"],[\"Sem medalha\"],[\"Sem medalha\"],[\"Sem medalha\"],[\"Sem medalha\"],[\"Sem medalha\"],[\"Sem medalha\"],[\"Sem medalha\"],[\"Sem medalha\"],[\"Sem medalha\"],[\"Sem medalha\"],[\"Sem medalha\"],[\"Sem medalha\"],[\"Sem medalha\"],[\"Sem medalha\"],[\"Sem medalha\"],[\"Sem medalha\"],[\"Sem medalha\"],[\"Sem medalha\"],[\"Sem medalha\"],[\"Sem medalha\"],[\"Sem medalha\"],[\"Sem medalha\"],[\"Sem medalha\"],[\"Sem medalha\"],[\"Sem medalha\"],[\"Sem medalha\"],[\"Sem medalha\"],[\"Sem medalha\"],[\"Sem medalha\"],[\"Sem medalha\"],[\"Sem medalha\"],[\"Sem medalha\"],[\"Sem medalha\"],[\"Sem medalha\"],[\"Sem medalha\"],[\"Sem medalha\"],[\"Sem medalha\"],[\"Sem medalha\"],[\"Sem medalha\"],[\"Sem medalha\"],[\"Sem medalha\"],[\"Sem medalha\"],[\"Sem medalha\"],[\"Sem medalha\"],[\"Sem medalha\"],[\"Sem medalha\"],[\"Sem medalha\"],[\"Sem medalha\"],[\"Sem medalha\"],[\"Sem medalha\"],[\"Sem medalha\"],[\"Sem medalha\"],[\"Sem medalha\"],[\"Sem medalha\"],[\"Sem medalha\"],[\"Sem medalha\"],[\"Sem medalha\"],[\"Sem medalha\"],[\"Sem medalha\"],[\"Sem medalha\"],[\"Sem medalha\"],[\"Sem medalha\"],[\"Sem medalha\"],[\"Sem medalha\"],[\"Sem medalha\"],[\"Sem medalha\"],[\"Sem medalha\"],[\"Sem medalha\"],[\"Sem medalha\"],[\"Sem medalha\"],[\"Sem medalha\"],[\"Sem medalha\"],[\"Sem medalha\"],[\"Sem medalha\"],[\"Sem medalha\"],[\"Sem medalha\"],[\"Sem medalha\"],[\"Sem medalha\"],[\"Sem medalha\"],[\"Sem medalha\"],[\"Sem medalha\"],[\"Sem medalha\"],[\"Sem medalha\"],[\"Sem medalha\"],[\"Sem medalha\"],[\"Sem medalha\"],[\"Sem medalha\"],[\"Sem medalha\"],[\"Sem medalha\"],[\"Sem medalha\"],[\"Sem medalha\"],[\"Sem medalha\"],[\"Sem medalha\"],[\"Sem medalha\"],[\"Sem medalha\"],[\"Sem medalha\"],[\"Sem medalha\"],[\"Sem medalha\"],[\"Sem medalha\"],[\"Sem medalha\"],[\"Sem medalha\"],[\"Sem medalha\"],[\"Sem medalha\"],[\"Sem medalha\"],[\"Sem medalha\"],[\"Sem medalha\"],[\"Sem medalha\"],[\"Sem medalha\"],[\"Sem medalha\"],[\"Sem medalha\"],[\"Sem medalha\"],[\"Sem medalha\"],[\"Sem medalha\"],[\"Sem medalha\"],[\"Sem medalha\"],[\"Sem medalha\"],[\"Sem medalha\"],[\"Sem medalha\"],[\"Sem medalha\"],[\"Sem medalha\"],[\"Sem medalha\"],[\"Sem medalha\"],[\"Sem medalha\"],[\"Sem medalha\"],[\"Sem medalha\"],[\"Sem medalha\"],[\"Sem medalha\"],[\"Sem medalha\"],[\"Sem medalha\"],[\"Sem medalha\"],[\"Sem medalha\"],[\"Sem medalha\"],[\"Sem medalha\"],[\"Sem medalha\"],[\"Sem medalha\"],[\"Sem medalha\"],[\"Sem medalha\"],[\"Sem medalha\"],[\"Sem medalha\"],[\"Sem medalha\"],[\"Sem medalha\"],[\"Sem medalha\"],[\"Sem medalha\"],[\"Sem medalha\"],[\"Sem medalha\"],[\"Sem medalha\"],[\"Sem medalha\"],[\"Sem medalha\"],[\"Sem medalha\"],[\"Sem medalha\"],[\"Sem medalha\"],[\"Sem medalha\"],[\"Sem medalha\"],[\"Sem medalha\"],[\"Sem medalha\"],[\"Sem medalha\"],[\"Sem medalha\"],[\"Sem medalha\"],[\"Sem medalha\"],[\"Sem medalha\"],[\"Sem medalha\"],[\"Sem medalha\"],[\"Sem medalha\"],[\"Sem medalha\"],[\"Sem medalha\"],[\"Sem medalha\"],[\"Sem medalha\"],[\"Sem medalha\"],[\"Sem medalha\"],[\"Sem medalha\"],[\"Sem medalha\"],[\"Sem medalha\"],[\"Sem medalha\"],[\"Sem medalha\"],[\"Sem medalha\"],[\"Sem medalha\"],[\"Sem medalha\"],[\"Sem medalha\"],[\"Sem medalha\"],[\"Sem medalha\"],[\"Sem medalha\"],[\"Sem medalha\"],[\"Sem medalha\"],[\"Sem medalha\"],[\"Sem medalha\"],[\"Sem medalha\"],[\"Sem medalha\"],[\"Sem medalha\"],[\"Sem medalha\"],[\"Sem medalha\"],[\"Sem medalha\"],[\"Sem medalha\"],[\"Sem medalha\"],[\"Sem medalha\"],[\"Sem medalha\"],[\"Sem medalha\"],[\"Sem medalha\"],[\"Sem medalha\"],[\"Sem medalha\"],[\"Sem medalha\"],[\"Sem medalha\"],[\"Sem medalha\"],[\"Sem medalha\"],[\"Sem medalha\"],[\"Sem medalha\"],[\"Sem medalha\"],[\"Sem medalha\"],[\"Sem medalha\"],[\"Sem medalha\"],[\"Sem medalha\"],[\"Sem medalha\"],[\"Sem medalha\"],[\"Sem medalha\"],[\"Sem medalha\"],[\"Sem medalha\"],[\"Sem medalha\"],[\"Sem medalha\"],[\"Sem medalha\"],[\"Sem medalha\"],[\"Sem medalha\"],[\"Sem medalha\"],[\"Sem medalha\"],[\"Sem medalha\"],[\"Sem medalha\"],[\"Sem medalha\"],[\"Sem medalha\"],[\"Sem medalha\"],[\"Sem medalha\"],[\"Sem medalha\"],[\"Sem medalha\"],[\"Sem medalha\"],[\"Sem medalha\"],[\"Sem medalha\"],[\"Sem medalha\"],[\"Sem medalha\"],[\"Sem medalha\"],[\"Sem medalha\"],[\"Sem medalha\"],[\"Sem medalha\"],[\"Sem medalha\"],[\"Sem medalha\"],[\"Sem medalha\"],[\"Sem medalha\"],[\"Sem medalha\"],[\"Sem medalha\"],[\"Sem medalha\"],[\"Sem medalha\"],[\"Sem medalha\"],[\"Sem medalha\"],[\"Sem medalha\"],[\"Sem medalha\"],[\"Sem medalha\"],[\"Sem medalha\"],[\"Sem medalha\"],[\"Sem medalha\"],[\"Sem medalha\"],[\"Sem medalha\"],[\"Sem medalha\"],[\"Sem medalha\"],[\"Sem medalha\"],[\"Sem medalha\"],[\"Sem medalha\"],[\"Sem medalha\"],[\"Sem medalha\"],[\"Sem medalha\"],[\"Sem medalha\"],[\"Sem medalha\"],[\"Sem medalha\"],[\"Sem medalha\"],[\"Sem medalha\"],[\"Sem medalha\"],[\"Sem medalha\"],[\"Sem medalha\"],[\"Sem medalha\"],[\"Sem medalha\"],[\"Sem medalha\"],[\"Sem medalha\"],[\"Sem medalha\"],[\"Sem medalha\"],[\"Sem medalha\"],[\"Sem medalha\"],[\"Sem medalha\"],[\"Sem medalha\"],[\"Sem medalha\"],[\"Sem medalha\"],[\"Sem medalha\"],[\"Sem medalha\"],[\"Sem medalha\"],[\"Sem medalha\"],[\"Sem medalha\"],[\"Sem medalha\"],[\"Sem medalha\"],[\"Sem medalha\"],[\"Sem medalha\"],[\"Sem medalha\"],[\"Sem medalha\"],[\"Sem medalha\"],[\"Sem medalha\"],[\"Sem medalha\"],[\"Sem medalha\"],[\"Sem medalha\"],[\"Sem medalha\"],[\"Sem medalha\"],[\"Sem medalha\"],[\"Sem medalha\"],[\"Sem medalha\"],[\"Sem medalha\"],[\"Sem medalha\"],[\"Sem medalha\"],[\"Sem medalha\"],[\"Sem medalha\"],[\"Sem medalha\"],[\"Sem medalha\"],[\"Sem medalha\"],[\"Sem medalha\"],[\"Sem medalha\"],[\"Sem medalha\"],[\"Sem medalha\"],[\"Sem medalha\"],[\"Sem medalha\"],[\"Sem medalha\"],[\"Sem medalha\"],[\"Sem medalha\"],[\"Sem medalha\"],[\"Sem medalha\"],[\"Sem medalha\"],[\"Sem medalha\"],[\"Sem medalha\"],[\"Sem medalha\"],[\"Sem medalha\"],[\"Sem medalha\"],[\"Sem medalha\"],[\"Sem medalha\"],[\"Sem medalha\"],[\"Sem medalha\"],[\"Sem medalha\"],[\"Sem medalha\"],[\"Sem medalha\"],[\"Sem medalha\"],[\"Sem medalha\"],[\"Sem medalha\"],[\"Sem medalha\"],[\"Sem medalha\"],[\"Sem medalha\"],[\"Sem medalha\"],[\"Sem medalha\"],[\"Sem medalha\"],[\"Sem medalha\"],[\"Sem medalha\"],[\"Sem medalha\"],[\"Sem medalha\"],[\"Sem medalha\"],[\"Sem medalha\"],[\"Sem medalha\"],[\"Sem medalha\"],[\"Sem medalha\"],[\"Sem medalha\"],[\"Sem medalha\"],[\"Sem medalha\"],[\"Sem medalha\"],[\"Sem medalha\"],[\"Sem medalha\"],[\"Sem medalha\"],[\"Sem medalha\"],[\"Sem medalha\"],[\"Sem medalha\"],[\"Sem medalha\"],[\"Sem medalha\"],[\"Sem medalha\"],[\"Sem medalha\"],[\"Sem medalha\"],[\"Sem medalha\"],[\"Sem medalha\"],[\"Sem medalha\"],[\"Sem medalha\"],[\"Sem medalha\"],[\"Sem medalha\"],[\"Sem medalha\"],[\"Sem medalha\"],[\"Sem medalha\"],[\"Sem medalha\"],[\"Sem medalha\"],[\"Sem medalha\"],[\"Sem medalha\"],[\"Sem medalha\"],[\"Sem medalha\"],[\"Sem medalha\"],[\"Sem medalha\"],[\"Sem medalha\"],[\"Sem medalha\"],[\"Sem medalha\"],[\"Sem medalha\"],[\"Sem medalha\"],[\"Sem medalha\"],[\"Sem medalha\"],[\"Sem medalha\"],[\"Sem medalha\"],[\"Sem medalha\"],[\"Sem medalha\"],[\"Sem medalha\"],[\"Sem medalha\"],[\"Sem medalha\"],[\"Sem medalha\"],[\"Sem medalha\"],[\"Sem medalha\"],[\"Sem medalha\"],[\"Sem medalha\"],[\"Sem medalha\"],[\"Sem medalha\"],[\"Sem medalha\"],[\"Sem medalha\"],[\"Sem medalha\"],[\"Sem medalha\"],[\"Sem medalha\"],[\"Sem medalha\"],[\"Sem medalha\"],[\"Sem medalha\"],[\"Sem medalha\"],[\"Sem medalha\"],[\"Sem medalha\"],[\"Sem medalha\"],[\"Sem medalha\"],[\"Sem medalha\"],[\"Sem medalha\"],[\"Sem medalha\"],[\"Sem medalha\"],[\"Sem medalha\"],[\"Sem medalha\"],[\"Sem medalha\"],[\"Sem medalha\"],[\"Sem medalha\"],[\"Sem medalha\"],[\"Sem medalha\"],[\"Sem medalha\"],[\"Sem medalha\"],[\"Sem medalha\"],[\"Sem medalha\"],[\"Sem medalha\"],[\"Sem medalha\"],[\"Sem medalha\"],[\"Sem medalha\"],[\"Sem medalha\"],[\"Sem medalha\"],[\"Sem medalha\"],[\"Sem medalha\"],[\"Sem medalha\"],[\"Sem medalha\"],[\"Sem medalha\"],[\"Sem medalha\"],[\"Sem medalha\"],[\"Sem medalha\"],[\"Sem medalha\"],[\"Sem medalha\"],[\"Sem medalha\"],[\"Sem medalha\"],[\"Sem medalha\"],[\"Sem medalha\"],[\"Sem medalha\"],[\"Sem medalha\"],[\"Sem medalha\"],[\"Sem medalha\"],[\"Sem medalha\"],[\"Sem medalha\"],[\"Sem medalha\"],[\"Sem medalha\"],[\"Sem medalha\"],[\"Sem medalha\"],[\"Sem medalha\"],[\"Sem medalha\"],[\"Sem medalha\"],[\"Sem medalha\"],[\"Sem medalha\"],[\"Sem medalha\"],[\"Sem medalha\"],[\"Sem medalha\"],[\"Sem medalha\"],[\"Sem medalha\"],[\"Sem medalha\"],[\"Sem medalha\"],[\"Sem medalha\"],[\"Sem medalha\"],[\"Sem medalha\"],[\"Sem medalha\"],[\"Sem medalha\"],[\"Sem medalha\"],[\"Sem medalha\"],[\"Sem medalha\"],[\"Sem medalha\"],[\"Sem medalha\"],[\"Sem medalha\"],[\"Sem medalha\"],[\"Sem medalha\"],[\"Sem medalha\"],[\"Sem medalha\"],[\"Sem medalha\"],[\"Sem medalha\"],[\"Sem medalha\"],[\"Sem medalha\"],[\"Sem medalha\"],[\"Sem medalha\"],[\"Sem medalha\"],[\"Sem medalha\"],[\"Sem medalha\"],[\"Sem medalha\"],[\"Sem medalha\"],[\"Sem medalha\"],[\"Sem medalha\"],[\"Sem medalha\"],[\"Sem medalha\"],[\"Sem medalha\"],[\"Sem medalha\"],[\"Sem medalha\"],[\"Sem medalha\"],[\"Sem medalha\"],[\"Sem medalha\"],[\"Sem medalha\"],[\"Sem medalha\"],[\"Sem medalha\"],[\"Sem medalha\"],[\"Sem medalha\"],[\"Sem medalha\"],[\"Sem medalha\"],[\"Sem medalha\"],[\"Sem medalha\"],[\"Sem medalha\"],[\"Sem medalha\"],[\"Sem medalha\"],[\"Sem medalha\"],[\"Sem medalha\"],[\"Sem medalha\"],[\"Sem medalha\"],[\"Sem medalha\"],[\"Sem medalha\"],[\"Sem medalha\"],[\"Sem medalha\"],[\"Sem medalha\"],[\"Sem medalha\"],[\"Sem medalha\"],[\"Sem medalha\"],[\"Sem medalha\"],[\"Sem medalha\"],[\"Sem medalha\"],[\"Sem medalha\"],[\"Sem medalha\"],[\"Sem medalha\"],[\"Sem medalha\"],[\"Sem medalha\"],[\"Sem medalha\"],[\"Sem medalha\"],[\"Sem medalha\"],[\"Sem medalha\"],[\"Sem medalha\"],[\"Sem medalha\"],[\"Sem medalha\"],[\"Sem medalha\"],[\"Sem medalha\"],[\"Sem medalha\"],[\"Sem medalha\"],[\"Sem medalha\"],[\"Sem medalha\"],[\"Sem medalha\"],[\"Sem medalha\"],[\"Sem medalha\"],[\"Sem medalha\"],[\"Sem medalha\"],[\"Sem medalha\"],[\"Sem medalha\"],[\"Sem medalha\"],[\"Sem medalha\"],[\"Sem medalha\"],[\"Sem medalha\"],[\"Sem medalha\"],[\"Sem medalha\"],[\"Sem medalha\"],[\"Sem medalha\"],[\"Sem medalha\"],[\"Sem medalha\"],[\"Sem medalha\"],[\"Sem medalha\"],[\"Sem medalha\"],[\"Sem medalha\"],[\"Sem medalha\"],[\"Sem medalha\"],[\"Sem medalha\"],[\"Sem medalha\"],[\"Sem medalha\"],[\"Sem medalha\"],[\"Sem medalha\"],[\"Sem medalha\"],[\"Sem medalha\"],[\"Sem medalha\"],[\"Sem medalha\"],[\"Sem medalha\"],[\"Sem medalha\"],[\"Sem medalha\"],[\"Sem medalha\"],[\"Sem medalha\"],[\"Sem medalha\"],[\"Sem medalha\"],[\"Sem medalha\"],[\"Sem medalha\"],[\"Sem medalha\"],[\"Sem medalha\"],[\"Sem medalha\"],[\"Sem medalha\"],[\"Sem medalha\"],[\"Sem medalha\"],[\"Sem medalha\"],[\"Sem medalha\"],[\"Sem medalha\"],[\"Sem medalha\"],[\"Sem medalha\"],[\"Sem medalha\"],[\"Sem medalha\"],[\"Sem medalha\"],[\"Sem medalha\"],[\"Sem medalha\"],[\"Sem medalha\"],[\"Sem medalha\"],[\"Sem medalha\"],[\"Sem medalha\"],[\"Sem medalha\"],[\"Sem medalha\"],[\"Sem medalha\"],[\"Sem medalha\"],[\"Sem medalha\"],[\"Sem medalha\"],[\"Sem medalha\"],[\"Sem medalha\"],[\"Sem medalha\"],[\"Sem medalha\"],[\"Sem medalha\"],[\"Sem medalha\"],[\"Sem medalha\"],[\"Sem medalha\"],[\"Sem medalha\"],[\"Sem medalha\"],[\"Sem medalha\"],[\"Sem medalha\"],[\"Sem medalha\"],[\"Sem medalha\"],[\"Sem medalha\"],[\"Sem medalha\"],[\"Sem medalha\"],[\"Sem medalha\"],[\"Sem medalha\"],[\"Sem medalha\"],[\"Sem medalha\"],[\"Sem medalha\"],[\"Sem medalha\"],[\"Sem medalha\"],[\"Sem medalha\"],[\"Sem medalha\"],[\"Sem medalha\"],[\"Sem medalha\"],[\"Sem medalha\"],[\"Sem medalha\"],[\"Sem medalha\"],[\"Sem medalha\"],[\"Sem medalha\"],[\"Sem medalha\"],[\"Sem medalha\"],[\"Sem medalha\"],[\"Sem medalha\"],[\"Sem medalha\"],[\"Sem medalha\"],[\"Sem medalha\"],[\"Sem medalha\"],[\"Sem medalha\"],[\"Sem medalha\"],[\"Sem medalha\"],[\"Sem medalha\"],[\"Sem medalha\"],[\"Sem medalha\"],[\"Sem medalha\"],[\"Sem medalha\"],[\"Sem medalha\"],[\"Sem medalha\"],[\"Sem medalha\"],[\"Sem medalha\"],[\"Sem medalha\"],[\"Sem medalha\"],[\"Sem medalha\"],[\"Sem medalha\"],[\"Sem medalha\"],[\"Sem medalha\"],[\"Sem medalha\"],[\"Sem medalha\"],[\"Sem medalha\"],[\"Sem medalha\"],[\"Sem medalha\"],[\"Sem medalha\"],[\"Sem medalha\"],[\"Sem medalha\"],[\"Sem medalha\"],[\"Sem medalha\"],[\"Sem medalha\"],[\"Sem medalha\"],[\"Sem medalha\"],[\"Sem medalha\"],[\"Sem medalha\"],[\"Sem medalha\"],[\"Sem medalha\"],[\"Sem medalha\"],[\"Sem medalha\"],[\"Sem medalha\"],[\"Sem medalha\"],[\"Sem medalha\"],[\"Sem medalha\"],[\"Sem medalha\"],[\"Sem medalha\"],[\"Sem medalha\"],[\"Sem medalha\"],[\"Sem medalha\"],[\"Sem medalha\"],[\"Sem medalha\"],[\"Sem medalha\"],[\"Sem medalha\"],[\"Sem medalha\"],[\"Sem medalha\"],[\"Sem medalha\"],[\"Sem medalha\"],[\"Sem medalha\"],[\"Sem medalha\"],[\"Sem medalha\"],[\"Sem medalha\"],[\"Sem medalha\"],[\"Sem medalha\"],[\"Sem medalha\"],[\"Sem medalha\"],[\"Sem medalha\"],[\"Sem medalha\"],[\"Sem medalha\"],[\"Sem medalha\"],[\"Sem medalha\"],[\"Sem medalha\"],[\"Sem medalha\"],[\"Sem medalha\"],[\"Sem medalha\"],[\"Sem medalha\"],[\"Sem medalha\"],[\"Sem medalha\"],[\"Sem medalha\"],[\"Sem medalha\"],[\"Sem medalha\"],[\"Sem medalha\"],[\"Sem medalha\"],[\"Sem medalha\"],[\"Sem medalha\"],[\"Sem medalha\"],[\"Sem medalha\"],[\"Sem medalha\"],[\"Sem medalha\"],[\"Sem medalha\"],[\"Sem medalha\"],[\"Sem medalha\"],[\"Sem medalha\"],[\"Sem medalha\"],[\"Sem medalha\"],[\"Sem medalha\"],[\"Sem medalha\"],[\"Sem medalha\"],[\"Sem medalha\"],[\"Sem medalha\"],[\"Sem medalha\"],[\"Sem medalha\"],[\"Sem medalha\"],[\"Sem medalha\"],[\"Sem medalha\"],[\"Sem medalha\"],[\"Sem medalha\"],[\"Sem medalha\"],[\"Sem medalha\"],[\"Sem medalha\"],[\"Sem medalha\"],[\"Sem medalha\"],[\"Sem medalha\"],[\"Sem medalha\"],[\"Sem medalha\"],[\"Sem medalha\"],[\"Sem medalha\"],[\"Sem medalha\"],[\"Sem medalha\"],[\"Sem medalha\"],[\"Sem medalha\"],[\"Sem medalha\"],[\"Sem medalha\"],[\"Sem medalha\"],[\"Sem medalha\"],[\"Sem medalha\"],[\"Sem medalha\"],[\"Sem medalha\"],[\"Sem medalha\"],[\"Sem medalha\"],[\"Sem medalha\"],[\"Sem medalha\"],[\"Sem medalha\"],[\"Sem medalha\"],[\"Sem medalha\"],[\"Sem medalha\"],[\"Sem medalha\"],[\"Sem medalha\"],[\"Sem medalha\"],[\"Sem medalha\"],[\"Sem medalha\"],[\"Sem medalha\"],[\"Sem medalha\"],[\"Sem medalha\"],[\"Sem medalha\"],[\"Sem medalha\"],[\"Sem medalha\"],[\"Sem medalha\"],[\"Sem medalha\"],[\"Sem medalha\"],[\"Sem medalha\"],[\"Sem medalha\"],[\"Sem medalha\"],[\"Sem medalha\"],[\"Sem medalha\"],[\"Sem medalha\"],[\"Sem medalha\"],[\"Sem medalha\"],[\"Sem medalha\"],[\"Sem medalha\"],[\"Sem medalha\"],[\"Sem medalha\"],[\"Sem medalha\"],[\"Sem medalha\"],[\"Sem medalha\"],[\"Sem medalha\"],[\"Sem medalha\"],[\"Sem medalha\"],[\"Sem medalha\"],[\"Sem medalha\"],[\"Sem medalha\"],[\"Sem medalha\"],[\"Sem medalha\"],[\"Sem medalha\"],[\"Sem medalha\"],[\"Sem medalha\"],[\"Sem medalha\"],[\"Sem medalha\"],[\"Sem medalha\"],[\"Sem medalha\"],[\"Sem medalha\"],[\"Sem medalha\"],[\"Sem medalha\"],[\"Sem medalha\"],[\"Sem medalha\"],[\"Sem medalha\"],[\"Sem medalha\"],[\"Sem medalha\"],[\"Sem medalha\"],[\"Sem medalha\"],[\"Sem medalha\"],[\"Sem medalha\"],[\"Sem medalha\"],[\"Sem medalha\"],[\"Sem medalha\"],[\"Sem medalha\"],[\"Sem medalha\"],[\"Sem medalha\"],[\"Sem medalha\"],[\"Sem medalha\"],[\"Sem medalha\"],[\"Sem medalha\"],[\"Sem medalha\"],[\"Sem medalha\"],[\"Sem medalha\"],[\"Sem medalha\"],[\"Sem medalha\"],[\"Sem medalha\"],[\"Sem medalha\"],[\"Sem medalha\"],[\"Sem medalha\"],[\"Sem medalha\"],[\"Sem medalha\"],[\"Sem medalha\"],[\"Sem medalha\"],[\"Sem medalha\"],[\"Sem medalha\"],[\"Sem medalha\"],[\"Sem medalha\"],[\"Sem medalha\"],[\"Sem medalha\"],[\"Sem medalha\"],[\"Sem medalha\"],[\"Sem medalha\"],[\"Sem medalha\"],[\"Sem medalha\"],[\"Sem medalha\"],[\"Sem medalha\"],[\"Sem medalha\"],[\"Sem medalha\"],[\"Sem medalha\"],[\"Sem medalha\"],[\"Sem medalha\"],[\"Sem medalha\"],[\"Sem medalha\"],[\"Sem medalha\"],[\"Sem medalha\"],[\"Sem medalha\"],[\"Sem medalha\"],[\"Sem medalha\"],[\"Sem medalha\"],[\"Sem medalha\"],[\"Sem medalha\"],[\"Sem medalha\"],[\"Sem medalha\"],[\"Sem medalha\"],[\"Sem medalha\"],[\"Sem medalha\"],[\"Sem medalha\"],[\"Sem medalha\"],[\"Sem medalha\"],[\"Sem medalha\"],[\"Sem medalha\"],[\"Sem medalha\"],[\"Sem medalha\"],[\"Sem medalha\"],[\"Sem medalha\"],[\"Sem medalha\"],[\"Sem medalha\"],[\"Sem medalha\"],[\"Sem medalha\"],[\"Sem medalha\"],[\"Sem medalha\"],[\"Sem medalha\"],[\"Sem medalha\"],[\"Sem medalha\"],[\"Sem medalha\"],[\"Sem medalha\"],[\"Sem medalha\"],[\"Sem medalha\"],[\"Sem medalha\"],[\"Sem medalha\"],[\"Sem medalha\"],[\"Sem medalha\"],[\"Sem medalha\"],[\"Sem medalha\"],[\"Sem medalha\"],[\"Sem medalha\"],[\"Sem medalha\"],[\"Sem medalha\"],[\"Sem medalha\"],[\"Sem medalha\"],[\"Sem medalha\"],[\"Sem medalha\"],[\"Sem medalha\"],[\"Sem medalha\"],[\"Sem medalha\"],[\"Sem medalha\"],[\"Sem medalha\"],[\"Sem medalha\"],[\"Sem medalha\"],[\"Sem medalha\"],[\"Sem medalha\"],[\"Sem medalha\"],[\"Sem medalha\"],[\"Sem medalha\"],[\"Sem medalha\"],[\"Sem medalha\"],[\"Sem medalha\"],[\"Sem medalha\"],[\"Sem medalha\"],[\"Sem medalha\"],[\"Sem medalha\"],[\"Sem medalha\"],[\"Sem medalha\"],[\"Sem medalha\"],[\"Sem medalha\"],[\"Sem medalha\"],[\"Sem medalha\"],[\"Sem medalha\"],[\"Sem medalha\"],[\"Sem medalha\"],[\"Sem medalha\"],[\"Sem medalha\"],[\"Sem medalha\"],[\"Sem medalha\"],[\"Sem medalha\"],[\"Sem medalha\"],[\"Sem medalha\"],[\"Sem medalha\"],[\"Sem medalha\"],[\"Sem medalha\"],[\"Sem medalha\"],[\"Sem medalha\"],[\"Sem medalha\"],[\"Sem medalha\"],[\"Sem medalha\"],[\"Sem medalha\"],[\"Sem medalha\"],[\"Sem medalha\"],[\"Sem medalha\"],[\"Sem medalha\"],[\"Sem medalha\"],[\"Sem medalha\"],[\"Sem medalha\"],[\"Sem medalha\"],[\"Sem medalha\"],[\"Sem medalha\"],[\"Sem medalha\"],[\"Sem medalha\"],[\"Sem medalha\"],[\"Sem medalha\"],[\"Sem medalha\"],[\"Sem medalha\"],[\"Sem medalha\"],[\"Sem medalha\"],[\"Sem medalha\"],[\"Sem medalha\"],[\"Sem medalha\"],[\"Sem medalha\"],[\"Sem medalha\"],[\"Sem medalha\"],[\"Sem medalha\"],[\"Sem medalha\"],[\"Sem medalha\"],[\"Sem medalha\"],[\"Sem medalha\"],[\"Sem medalha\"],[\"Sem medalha\"],[\"Sem medalha\"],[\"Sem medalha\"],[\"Sem medalha\"],[\"Sem medalha\"],[\"Sem medalha\"],[\"Sem medalha\"],[\"Sem medalha\"],[\"Sem medalha\"],[\"Sem medalha\"],[\"Sem medalha\"],[\"Sem medalha\"],[\"Sem medalha\"],[\"Sem medalha\"],[\"Sem medalha\"],[\"Sem medalha\"],[\"Sem medalha\"],[\"Sem medalha\"],[\"Sem medalha\"],[\"Sem medalha\"],[\"Sem medalha\"],[\"Sem medalha\"],[\"Sem medalha\"],[\"Sem medalha\"],[\"Sem medalha\"],[\"Sem medalha\"],[\"Sem medalha\"],[\"Sem medalha\"],[\"Sem medalha\"],[\"Sem medalha\"],[\"Sem medalha\"],[\"Sem medalha\"],[\"Sem medalha\"],[\"Sem medalha\"],[\"Sem medalha\"],[\"Sem medalha\"],[\"Sem medalha\"],[\"Sem medalha\"],[\"Sem medalha\"],[\"Sem medalha\"],[\"Sem medalha\"],[\"Sem medalha\"],[\"Sem medalha\"],[\"Sem medalha\"],[\"Sem medalha\"],[\"Sem medalha\"],[\"Sem medalha\"],[\"Sem medalha\"],[\"Sem medalha\"],[\"Sem medalha\"],[\"Sem medalha\"],[\"Sem medalha\"],[\"Sem medalha\"],[\"Sem medalha\"],[\"Sem medalha\"],[\"Sem medalha\"],[\"Sem medalha\"],[\"Sem medalha\"],[\"Sem medalha\"],[\"Sem medalha\"],[\"Sem medalha\"],[\"Sem medalha\"],[\"Sem medalha\"],[\"Sem medalha\"],[\"Sem medalha\"],[\"Sem medalha\"],[\"Sem medalha\"],[\"Sem medalha\"],[\"Sem medalha\"],[\"Sem medalha\"],[\"Sem medalha\"],[\"Sem medalha\"],[\"Sem medalha\"],[\"Sem medalha\"],[\"Sem medalha\"],[\"Sem medalha\"],[\"Sem medalha\"],[\"Sem medalha\"],[\"Sem medalha\"],[\"Sem medalha\"],[\"Sem medalha\"],[\"Sem medalha\"],[\"Sem medalha\"],[\"Sem medalha\"],[\"Sem medalha\"],[\"Sem medalha\"],[\"Sem medalha\"],[\"Sem medalha\"],[\"Sem medalha\"],[\"Sem medalha\"],[\"Sem medalha\"],[\"Sem medalha\"],[\"Sem medalha\"],[\"Sem medalha\"],[\"Sem medalha\"],[\"Sem medalha\"],[\"Sem medalha\"],[\"Sem medalha\"],[\"Sem medalha\"],[\"Sem medalha\"],[\"Sem medalha\"],[\"Sem medalha\"],[\"Sem medalha\"],[\"Sem medalha\"],[\"Sem medalha\"],[\"Sem medalha\"],[\"Sem medalha\"],[\"Sem medalha\"],[\"Sem medalha\"],[\"Sem medalha\"],[\"Sem medalha\"],[\"Sem medalha\"],[\"Sem medalha\"],[\"Sem medalha\"],[\"Sem medalha\"],[\"Sem medalha\"],[\"Sem medalha\"],[\"Sem medalha\"],[\"Sem medalha\"],[\"Sem medalha\"],[\"Sem medalha\"],[\"Sem medalha\"],[\"Sem medalha\"],[\"Sem medalha\"],[\"Sem medalha\"],[\"Sem medalha\"],[\"Sem medalha\"],[\"Sem medalha\"],[\"Sem medalha\"],[\"Sem medalha\"],[\"Sem medalha\"],[\"Sem medalha\"],[\"Sem medalha\"],[\"Sem medalha\"],[\"Sem medalha\"],[\"Sem medalha\"],[\"Sem medalha\"],[\"Sem medalha\"],[\"Sem medalha\"],[\"Sem medalha\"],[\"Sem medalha\"],[\"Sem medalha\"],[\"Sem medalha\"],[\"Sem medalha\"],[\"Sem medalha\"],[\"Sem medalha\"],[\"Sem medalha\"],[\"Sem medalha\"],[\"Sem medalha\"],[\"Sem medalha\"],[\"Sem medalha\"],[\"Sem medalha\"],[\"Sem medalha\"],[\"Sem medalha\"],[\"Sem medalha\"],[\"Sem medalha\"],[\"Sem medalha\"],[\"Sem medalha\"],[\"Sem medalha\"],[\"Sem medalha\"],[\"Sem medalha\"],[\"Sem medalha\"],[\"Sem medalha\"],[\"Sem medalha\"],[\"Sem medalha\"],[\"Sem medalha\"],[\"Sem medalha\"],[\"Sem medalha\"],[\"Sem medalha\"],[\"Sem medalha\"],[\"Sem medalha\"],[\"Sem medalha\"],[\"Sem medalha\"],[\"Sem medalha\"],[\"Sem medalha\"],[\"Sem medalha\"],[\"Sem medalha\"],[\"Sem medalha\"],[\"Sem medalha\"],[\"Sem medalha\"],[\"Sem medalha\"],[\"Sem medalha\"],[\"Sem medalha\"],[\"Sem medalha\"],[\"Sem medalha\"],[\"Sem medalha\"],[\"Sem medalha\"],[\"Sem medalha\"],[\"Sem medalha\"],[\"Sem medalha\"],[\"Sem medalha\"],[\"Sem medalha\"],[\"Sem medalha\"],[\"Sem medalha\"],[\"Sem medalha\"],[\"Sem medalha\"],[\"Sem medalha\"],[\"Sem medalha\"],[\"Sem medalha\"],[\"Sem medalha\"],[\"Sem medalha\"],[\"Sem medalha\"],[\"Sem medalha\"],[\"Sem medalha\"],[\"Sem medalha\"],[\"Sem medalha\"],[\"Sem medalha\"],[\"Sem medalha\"],[\"Sem medalha\"],[\"Sem medalha\"],[\"Sem medalha\"],[\"Sem medalha\"],[\"Sem medalha\"],[\"Sem medalha\"],[\"Sem medalha\"],[\"Sem medalha\"],[\"Sem medalha\"],[\"Sem medalha\"],[\"Sem medalha\"],[\"Sem medalha\"],[\"Sem medalha\"],[\"Sem medalha\"],[\"Sem medalha\"],[\"Sem medalha\"],[\"Sem medalha\"],[\"Sem medalha\"],[\"Sem medalha\"],[\"Sem medalha\"],[\"Sem medalha\"],[\"Sem medalha\"],[\"Sem medalha\"],[\"Sem medalha\"],[\"Sem medalha\"],[\"Sem medalha\"],[\"Sem medalha\"],[\"Sem medalha\"],[\"Sem medalha\"],[\"Sem medalha\"],[\"Sem medalha\"],[\"Sem medalha\"],[\"Sem medalha\"],[\"Sem medalha\"],[\"Sem medalha\"],[\"Sem medalha\"],[\"Sem medalha\"],[\"Sem medalha\"],[\"Sem medalha\"],[\"Sem medalha\"],[\"Sem medalha\"],[\"Sem medalha\"],[\"Sem medalha\"],[\"Sem medalha\"],[\"Sem medalha\"],[\"Sem medalha\"],[\"Sem medalha\"],[\"Sem medalha\"],[\"Sem medalha\"],[\"Sem medalha\"],[\"Sem medalha\"],[\"Sem medalha\"],[\"Sem medalha\"],[\"Sem medalha\"],[\"Sem medalha\"],[\"Sem medalha\"],[\"Sem medalha\"],[\"Sem medalha\"],[\"Sem medalha\"],[\"Sem medalha\"],[\"Sem medalha\"],[\"Sem medalha\"],[\"Sem medalha\"],[\"Sem medalha\"],[\"Sem medalha\"],[\"Sem medalha\"],[\"Sem medalha\"],[\"Sem medalha\"],[\"Sem medalha\"],[\"Sem medalha\"],[\"Sem medalha\"],[\"Sem medalha\"],[\"Sem medalha\"],[\"Sem medalha\"],[\"Sem medalha\"],[\"Sem medalha\"],[\"Sem medalha\"],[\"Sem medalha\"],[\"Sem medalha\"],[\"Sem medalha\"],[\"Sem medalha\"],[\"Sem medalha\"],[\"Sem medalha\"],[\"Sem medalha\"],[\"Sem medalha\"],[\"Sem medalha\"],[\"Sem medalha\"],[\"Sem medalha\"],[\"Sem medalha\"],[\"Sem medalha\"],[\"Sem medalha\"],[\"Sem medalha\"],[\"Sem medalha\"],[\"Sem medalha\"],[\"Sem medalha\"],[\"Sem medalha\"],[\"Sem medalha\"],[\"Sem medalha\"],[\"Sem medalha\"],[\"Sem medalha\"],[\"Sem medalha\"],[\"Sem medalha\"],[\"Sem medalha\"],[\"Sem medalha\"],[\"Sem medalha\"],[\"Sem medalha\"],[\"Sem medalha\"],[\"Sem medalha\"],[\"Sem medalha\"],[\"Sem medalha\"],[\"Sem medalha\"],[\"Sem medalha\"],[\"Sem medalha\"],[\"Sem medalha\"],[\"Sem medalha\"],[\"Sem medalha\"],[\"Sem medalha\"],[\"Sem medalha\"],[\"Sem medalha\"],[\"Sem medalha\"],[\"Sem medalha\"],[\"Sem medalha\"],[\"Sem medalha\"],[\"Sem medalha\"],[\"Sem medalha\"],[\"Sem medalha\"],[\"Sem medalha\"],[\"Sem medalha\"],[\"Sem medalha\"],[\"Sem medalha\"],[\"Sem medalha\"],[\"Sem medalha\"],[\"Sem medalha\"],[\"Sem medalha\"],[\"Sem medalha\"],[\"Sem medalha\"],[\"Sem medalha\"],[\"Sem medalha\"],[\"Sem medalha\"],[\"Sem medalha\"],[\"Sem medalha\"],[\"Sem medalha\"],[\"Sem medalha\"],[\"Sem medalha\"],[\"Sem medalha\"],[\"Sem medalha\"],[\"Sem medalha\"],[\"Sem medalha\"],[\"Sem medalha\"],[\"Sem medalha\"],[\"Sem medalha\"],[\"Sem medalha\"],[\"Sem medalha\"],[\"Sem medalha\"],[\"Sem medalha\"],[\"Sem medalha\"],[\"Sem medalha\"],[\"Sem medalha\"],[\"Sem medalha\"],[\"Sem medalha\"],[\"Sem medalha\"],[\"Sem medalha\"],[\"Sem medalha\"],[\"Sem medalha\"],[\"Sem medalha\"],[\"Sem medalha\"],[\"Sem medalha\"],[\"Sem medalha\"],[\"Sem medalha\"],[\"Sem medalha\"],[\"Sem medalha\"],[\"Sem medalha\"],[\"Sem medalha\"],[\"Sem medalha\"],[\"Sem medalha\"],[\"Sem medalha\"],[\"Sem medalha\"],[\"Sem medalha\"],[\"Sem medalha\"],[\"Sem medalha\"],[\"Sem medalha\"],[\"Sem medalha\"],[\"Sem medalha\"],[\"Sem medalha\"],[\"Sem medalha\"],[\"Sem medalha\"],[\"Sem medalha\"],[\"Sem medalha\"],[\"Sem medalha\"],[\"Sem medalha\"],[\"Sem medalha\"],[\"Sem medalha\"],[\"Sem medalha\"],[\"Sem medalha\"],[\"Sem medalha\"],[\"Sem medalha\"],[\"Sem medalha\"],[\"Sem medalha\"],[\"Sem medalha\"],[\"Sem medalha\"],[\"Sem medalha\"],[\"Sem medalha\"],[\"Sem medalha\"],[\"Sem medalha\"],[\"Sem medalha\"],[\"Sem medalha\"],[\"Sem medalha\"],[\"Sem medalha\"],[\"Sem medalha\"],[\"Sem medalha\"],[\"Sem medalha\"],[\"Sem medalha\"],[\"Sem medalha\"],[\"Sem medalha\"],[\"Sem medalha\"],[\"Sem medalha\"],[\"Sem medalha\"],[\"Sem medalha\"],[\"Sem medalha\"],[\"Sem medalha\"],[\"Sem medalha\"],[\"Sem medalha\"],[\"Sem medalha\"],[\"Sem medalha\"],[\"Sem medalha\"],[\"Sem medalha\"],[\"Sem medalha\"],[\"Sem medalha\"],[\"Sem medalha\"],[\"Sem medalha\"],[\"Sem medalha\"],[\"Sem medalha\"],[\"Sem medalha\"],[\"Sem medalha\"],[\"Sem medalha\"],[\"Sem medalha\"],[\"Sem medalha\"],[\"Sem medalha\"],[\"Sem medalha\"],[\"Sem medalha\"],[\"Sem medalha\"],[\"Sem medalha\"],[\"Sem medalha\"],[\"Sem medalha\"],[\"Sem medalha\"],[\"Sem medalha\"],[\"Sem medalha\"],[\"Sem medalha\"],[\"Sem medalha\"],[\"Sem medalha\"],[\"Sem medalha\"],[\"Sem medalha\"],[\"Sem medalha\"],[\"Sem medalha\"],[\"Sem medalha\"],[\"Sem medalha\"],[\"Sem medalha\"],[\"Sem medalha\"],[\"Sem medalha\"],[\"Sem medalha\"],[\"Sem medalha\"],[\"Sem medalha\"],[\"Sem medalha\"],[\"Sem medalha\"],[\"Sem medalha\"],[\"Sem medalha\"],[\"Sem medalha\"],[\"Sem medalha\"],[\"Sem medalha\"],[\"Sem medalha\"],[\"Sem medalha\"],[\"Sem medalha\"],[\"Sem medalha\"],[\"Sem medalha\"],[\"Sem medalha\"],[\"Sem medalha\"],[\"Sem medalha\"],[\"Sem medalha\"],[\"Sem medalha\"],[\"Sem medalha\"],[\"Sem medalha\"],[\"Sem medalha\"],[\"Sem medalha\"],[\"Sem medalha\"],[\"Sem medalha\"],[\"Sem medalha\"],[\"Sem medalha\"],[\"Sem medalha\"],[\"Sem medalha\"],[\"Sem medalha\"],[\"Sem medalha\"],[\"Sem medalha\"],[\"Sem medalha\"],[\"Sem medalha\"],[\"Sem medalha\"],[\"Sem medalha\"],[\"Sem medalha\"],[\"Sem medalha\"],[\"Sem medalha\"],[\"Sem medalha\"],[\"Sem medalha\"],[\"Sem medalha\"],[\"Sem medalha\"],[\"Sem medalha\"],[\"Sem medalha\"],[\"Sem medalha\"],[\"Sem medalha\"],[\"Sem medalha\"],[\"Sem medalha\"],[\"Sem medalha\"],[\"Sem medalha\"],[\"Sem medalha\"],[\"Sem medalha\"],[\"Sem medalha\"],[\"Sem medalha\"],[\"Sem medalha\"],[\"Sem medalha\"],[\"Sem medalha\"],[\"Sem medalha\"],[\"Sem medalha\"],[\"Sem medalha\"],[\"Sem medalha\"],[\"Sem medalha\"],[\"Sem medalha\"],[\"Sem medalha\"],[\"Sem medalha\"],[\"Sem medalha\"],[\"Sem medalha\"],[\"Sem medalha\"],[\"Sem medalha\"],[\"Sem medalha\"],[\"Sem medalha\"],[\"Sem medalha\"],[\"Sem medalha\"],[\"Sem medalha\"],[\"Sem medalha\"],[\"Sem medalha\"],[\"Sem medalha\"],[\"Sem medalha\"],[\"Sem medalha\"],[\"Sem medalha\"],[\"Sem medalha\"],[\"Sem medalha\"],[\"Sem medalha\"],[\"Sem medalha\"],[\"Sem medalha\"],[\"Sem medalha\"],[\"Sem medalha\"],[\"Sem medalha\"],[\"Sem medalha\"],[\"Sem medalha\"],[\"Sem medalha\"],[\"Sem medalha\"],[\"Sem medalha\"],[\"Sem medalha\"],[\"Sem medalha\"],[\"Sem medalha\"],[\"Sem medalha\"],[\"Sem medalha\"],[\"Sem medalha\"],[\"Sem medalha\"],[\"Sem medalha\"],[\"Sem medalha\"],[\"Sem medalha\"],[\"Sem medalha\"],[\"Sem medalha\"],[\"Sem medalha\"],[\"Sem medalha\"],[\"Sem medalha\"],[\"Sem medalha\"],[\"Sem medalha\"],[\"Sem medalha\"],[\"Sem medalha\"],[\"Sem medalha\"],[\"Sem medalha\"],[\"Sem medalha\"],[\"Sem medalha\"],[\"Sem medalha\"],[\"Sem medalha\"],[\"Sem medalha\"],[\"Sem medalha\"],[\"Sem medalha\"],[\"Sem medalha\"],[\"Sem medalha\"],[\"Sem medalha\"],[\"Sem medalha\"],[\"Sem medalha\"],[\"Sem medalha\"],[\"Sem medalha\"],[\"Sem medalha\"],[\"Sem medalha\"],[\"Sem medalha\"],[\"Sem medalha\"],[\"Sem medalha\"],[\"Sem medalha\"],[\"Sem medalha\"],[\"Sem medalha\"],[\"Sem medalha\"],[\"Sem medalha\"],[\"Sem medalha\"],[\"Sem medalha\"],[\"Sem medalha\"],[\"Sem medalha\"],[\"Sem medalha\"],[\"Sem medalha\"],[\"Sem medalha\"],[\"Sem medalha\"],[\"Sem medalha\"],[\"Sem medalha\"],[\"Sem medalha\"],[\"Sem medalha\"],[\"Sem medalha\"],[\"Sem medalha\"],[\"Sem medalha\"],[\"Sem medalha\"],[\"Sem medalha\"],[\"Sem medalha\"],[\"Sem medalha\"],[\"Sem medalha\"],[\"Sem medalha\"],[\"Sem medalha\"],[\"Sem medalha\"],[\"Sem medalha\"],[\"Sem medalha\"],[\"Sem medalha\"],[\"Sem medalha\"],[\"Sem medalha\"],[\"Sem medalha\"],[\"Sem medalha\"],[\"Sem medalha\"],[\"Sem medalha\"],[\"Sem medalha\"],[\"Sem medalha\"],[\"Sem medalha\"],[\"Sem medalha\"],[\"Sem medalha\"],[\"Sem medalha\"],[\"Sem medalha\"],[\"Sem medalha\"],[\"Sem medalha\"],[\"Sem medalha\"],[\"Sem medalha\"],[\"Sem medalha\"],[\"Sem medalha\"],[\"Sem medalha\"],[\"Sem medalha\"],[\"Sem medalha\"],[\"Sem medalha\"],[\"Sem medalha\"],[\"Sem medalha\"],[\"Sem medalha\"],[\"Sem medalha\"],[\"Sem medalha\"],[\"Sem medalha\"],[\"Sem medalha\"],[\"Sem medalha\"],[\"Sem medalha\"],[\"Sem medalha\"],[\"Sem medalha\"],[\"Sem medalha\"],[\"Sem medalha\"],[\"Sem medalha\"],[\"Sem medalha\"],[\"Sem medalha\"],[\"Sem medalha\"],[\"Sem medalha\"],[\"Sem medalha\"],[\"Sem medalha\"],[\"Sem medalha\"],[\"Sem medalha\"],[\"Sem medalha\"],[\"Sem medalha\"],[\"Sem medalha\"],[\"Sem medalha\"],[\"Sem medalha\"],[\"Sem medalha\"],[\"Sem medalha\"],[\"Sem medalha\"],[\"Sem medalha\"],[\"Sem medalha\"],[\"Sem medalha\"],[\"Sem medalha\"],[\"Sem medalha\"],[\"Sem medalha\"],[\"Sem medalha\"],[\"Sem medalha\"],[\"Sem medalha\"],[\"Sem medalha\"],[\"Sem medalha\"],[\"Sem medalha\"],[\"Sem medalha\"],[\"Sem medalha\"],[\"Sem medalha\"],[\"Sem medalha\"],[\"Sem medalha\"],[\"Sem medalha\"],[\"Sem medalha\"],[\"Sem medalha\"],[\"Sem medalha\"],[\"Sem medalha\"],[\"Sem medalha\"],[\"Sem medalha\"],[\"Sem medalha\"],[\"Sem medalha\"],[\"Sem medalha\"],[\"Sem medalha\"],[\"Sem medalha\"],[\"Sem medalha\"],[\"Sem medalha\"],[\"Sem medalha\"],[\"Sem medalha\"],[\"Sem medalha\"],[\"Sem medalha\"],[\"Sem medalha\"],[\"Sem medalha\"],[\"Sem medalha\"],[\"Sem medalha\"],[\"Sem medalha\"],[\"Sem medalha\"],[\"Sem medalha\"],[\"Sem medalha\"],[\"Sem medalha\"],[\"Sem medalha\"],[\"Sem medalha\"],[\"Sem medalha\"],[\"Sem medalha\"],[\"Sem medalha\"],[\"Sem medalha\"],[\"Sem medalha\"],[\"Sem medalha\"],[\"Sem medalha\"],[\"Sem medalha\"],[\"Sem medalha\"],[\"Sem medalha\"],[\"Sem medalha\"],[\"Sem medalha\"],[\"Sem medalha\"],[\"Sem medalha\"],[\"Sem medalha\"],[\"Sem medalha\"],[\"Sem medalha\"],[\"Sem medalha\"],[\"Sem medalha\"],[\"Sem medalha\"],[\"Sem medalha\"],[\"Sem medalha\"],[\"Sem medalha\"],[\"Sem medalha\"],[\"Sem medalha\"],[\"Sem medalha\"],[\"Sem medalha\"],[\"Sem medalha\"],[\"Sem medalha\"],[\"Sem medalha\"],[\"Sem medalha\"],[\"Sem medalha\"],[\"Sem medalha\"],[\"Sem medalha\"],[\"Sem medalha\"],[\"Sem medalha\"],[\"Sem medalha\"],[\"Sem medalha\"],[\"Sem medalha\"],[\"Sem medalha\"],[\"Sem medalha\"],[\"Sem medalha\"],[\"Sem medalha\"],[\"Sem medalha\"],[\"Sem medalha\"],[\"Sem medalha\"],[\"Sem medalha\"],[\"Sem medalha\"],[\"Sem medalha\"],[\"Sem medalha\"],[\"Sem medalha\"],[\"Sem medalha\"],[\"Sem medalha\"],[\"Sem medalha\"],[\"Sem medalha\"],[\"Sem medalha\"],[\"Sem medalha\"],[\"Sem medalha\"],[\"Sem medalha\"],[\"Sem medalha\"],[\"Sem medalha\"],[\"Sem medalha\"],[\"Sem medalha\"],[\"Sem medalha\"],[\"Sem medalha\"],[\"Sem medalha\"],[\"Sem medalha\"],[\"Sem medalha\"],[\"Sem medalha\"],[\"Sem medalha\"],[\"Sem medalha\"],[\"Sem medalha\"],[\"Sem medalha\"],[\"Sem medalha\"],[\"Sem medalha\"],[\"Sem medalha\"],[\"Sem medalha\"],[\"Sem medalha\"],[\"Sem medalha\"],[\"Sem medalha\"],[\"Sem medalha\"],[\"Sem medalha\"],[\"Sem medalha\"],[\"Sem medalha\"],[\"Sem medalha\"],[\"Sem medalha\"],[\"Sem medalha\"],[\"Sem medalha\"],[\"Sem medalha\"],[\"Sem medalha\"],[\"Sem medalha\"],[\"Sem medalha\"],[\"Sem medalha\"],[\"Sem medalha\"],[\"Sem medalha\"],[\"Sem medalha\"],[\"Sem medalha\"],[\"Sem medalha\"],[\"Sem medalha\"],[\"Sem medalha\"],[\"Sem medalha\"],[\"Sem medalha\"],[\"Sem medalha\"],[\"Sem medalha\"],[\"Sem medalha\"],[\"Sem medalha\"],[\"Sem medalha\"],[\"Sem medalha\"],[\"Sem medalha\"],[\"Sem medalha\"],[\"Sem medalha\"],[\"Sem medalha\"],[\"Sem medalha\"],[\"Sem medalha\"],[\"Sem medalha\"],[\"Sem medalha\"],[\"Sem medalha\"],[\"Sem medalha\"],[\"Sem medalha\"],[\"Sem medalha\"],[\"Sem medalha\"],[\"Sem medalha\"],[\"Sem medalha\"],[\"Sem medalha\"],[\"Sem medalha\"],[\"Sem medalha\"],[\"Sem medalha\"],[\"Sem medalha\"],[\"Sem medalha\"],[\"Sem medalha\"],[\"Sem medalha\"],[\"Sem medalha\"],[\"Sem medalha\"],[\"Sem medalha\"],[\"Sem medalha\"],[\"Sem medalha\"],[\"Sem medalha\"],[\"Sem medalha\"],[\"Sem medalha\"],[\"Sem medalha\"],[\"Sem medalha\"],[\"Sem medalha\"],[\"Sem medalha\"],[\"Sem medalha\"],[\"Sem medalha\"],[\"Sem medalha\"],[\"Sem medalha\"],[\"Sem medalha\"],[\"Sem medalha\"],[\"Sem medalha\"],[\"Sem medalha\"],[\"Sem medalha\"],[\"Sem medalha\"],[\"Sem medalha\"],[\"Sem medalha\"],[\"Sem medalha\"],[\"Sem medalha\"],[\"Sem medalha\"],[\"Sem medalha\"],[\"Sem medalha\"],[\"Sem medalha\"],[\"Sem medalha\"],[\"Sem medalha\"],[\"Sem medalha\"],[\"Sem medalha\"],[\"Sem medalha\"],[\"Sem medalha\"],[\"Sem medalha\"],[\"Sem medalha\"],[\"Sem medalha\"],[\"Sem medalha\"],[\"Sem medalha\"],[\"Sem medalha\"],[\"Sem medalha\"],[\"Sem medalha\"],[\"Sem medalha\"],[\"Sem medalha\"],[\"Sem medalha\"],[\"Sem medalha\"],[\"Sem medalha\"],[\"Sem medalha\"],[\"Sem medalha\"],[\"Sem medalha\"],[\"Sem medalha\"],[\"Sem medalha\"],[\"Sem medalha\"],[\"Sem medalha\"],[\"Sem medalha\"],[\"Sem medalha\"],[\"Sem medalha\"],[\"Sem medalha\"],[\"Sem medalha\"],[\"Sem medalha\"],[\"Sem medalha\"],[\"Sem medalha\"],[\"Sem medalha\"],[\"Sem medalha\"],[\"Sem medalha\"],[\"Sem medalha\"],[\"Sem medalha\"],[\"Sem medalha\"],[\"Sem medalha\"],[\"Sem medalha\"],[\"Sem medalha\"],[\"Sem medalha\"],[\"Sem medalha\"],[\"Sem medalha\"],[\"Sem medalha\"],[\"Sem medalha\"],[\"Sem medalha\"],[\"Sem medalha\"],[\"Sem medalha\"],[\"Sem medalha\"],[\"Sem medalha\"],[\"Sem medalha\"],[\"Sem medalha\"],[\"Sem medalha\"],[\"Sem medalha\"],[\"Sem medalha\"],[\"Sem medalha\"],[\"Sem medalha\"],[\"Sem medalha\"],[\"Sem medalha\"],[\"Sem medalha\"],[\"Sem medalha\"],[\"Sem medalha\"],[\"Sem medalha\"],[\"Sem medalha\"],[\"Sem medalha\"],[\"Sem medalha\"],[\"Sem medalha\"],[\"Sem medalha\"],[\"Sem medalha\"],[\"Sem medalha\"],[\"Sem medalha\"],[\"Sem medalha\"],[\"Sem medalha\"],[\"Sem medalha\"],[\"Sem medalha\"],[\"Sem medalha\"],[\"Sem medalha\"],[\"Sem medalha\"],[\"Sem medalha\"],[\"Sem medalha\"],[\"Sem medalha\"],[\"Sem medalha\"],[\"Sem medalha\"],[\"Sem medalha\"],[\"Sem medalha\"],[\"Sem medalha\"],[\"Sem medalha\"],[\"Sem medalha\"],[\"Sem medalha\"],[\"Sem medalha\"],[\"Sem medalha\"],[\"Sem medalha\"],[\"Sem medalha\"],[\"Sem medalha\"],[\"Sem medalha\"],[\"Sem medalha\"],[\"Sem medalha\"],[\"Sem medalha\"],[\"Sem medalha\"],[\"Sem medalha\"],[\"Sem medalha\"],[\"Sem medalha\"],[\"Sem medalha\"],[\"Sem medalha\"],[\"Sem medalha\"],[\"Sem medalha\"],[\"Sem medalha\"],[\"Sem medalha\"],[\"Sem medalha\"],[\"Sem medalha\"],[\"Sem medalha\"],[\"Sem medalha\"],[\"Sem medalha\"],[\"Sem medalha\"]],\"hovertemplate\":\"<b>%{hovertext}</b><br><br>Sex=M<br>Medal=%{customdata[0]}<br>Year=%{x}<br>Height=%{y}<extra></extra>\",\"hovertext\":[\"Volleyball\",\"Volleyball\",\"Football\",\"Boxing\",\"Water Polo\",\"Tennis\",\"Handball\",\"Football\",\"Football\",\"Basketball\",\"Basketball\",\"Basketball\",\"Sailing\",\"Sailing\",\"Sailing\",\"Sailing\",\"Sailing\",\"Handball\",\"Handball\",\"Basketball\",\"Fencing\",\"Fencing\",\"Fencing\",\"Fencing\",\"Handball\",\"Basketball\",\"Football\",\"Sailing\",\"Sailing\",\"Rugby Sevens\",\"Boxing\",\"Fencing\",\"Fencing\",\"Fencing\",\"Fencing\",\"Football\",\"Basketball\",\"Basketball\",\"Football\",\"Swimming\",\"Swimming\",\"Handball\",\"Shooting\",\"Shooting\",\"Shooting\",\"Shooting\",\"Shooting\",\"Swimming\",\"Swimming\",\"Swimming\",\"Swimming\",\"Swimming\",\"Swimming\",\"Swimming\",\"Swimming\",\"Swimming\",\"Swimming\",\"Equestrianism\",\"Equestrianism\",\"Rowing\",\"Basketball\",\"Rowing\",\"Rowing\",\"Rowing\",\"Water Polo\",\"Rowing\",\"Cycling\",\"Cycling\",\"Football\",\"Athletics\",\"Boxing\",\"Sailing\",\"Swimming\",\"Volleyball\",\"Volleyball\",\"Basketball\",\"Water Polo\",\"Swimming\",\"Water Polo\",\"Cycling\",\"Cycling\",\"Boxing\",\"Trampolining\",\"Boxing\",\"Basketball\",\"Athletics\",\"Athletics\",\"Athletics\",\"Basketball\",\"Basketball\",\"Football\",\"Water Polo\",\"Basketball\",\"Basketball\",\"Alpine Skiing\",\"Alpine Skiing\",\"Alpine Skiing\",\"Alpine Skiing\",\"Equestrianism\",\"Equestrianism\",\"Judo\",\"Swimming\",\"Swimming\",\"Swimming\",\"Swimming\",\"Swimming\",\"Swimming\",\"Rowing\",\"Swimming\",\"Swimming\",\"Swimming\",\"Swimming\",\"Swimming\",\"Swimming\",\"Swimming\",\"Swimming\",\"Athletics\",\"Athletics\",\"Cycling\",\"Cycling\",\"Cycling\",\"Cycling\",\"Football\",\"Sailing\",\"Sailing\",\"Sailing\",\"Swimming\",\"Volleyball\",\"Sailing\",\"Football\",\"Cycling\",\"Fencing\",\"Fencing\",\"Sailing\",\"Swimming\",\"Swimming\",\"Archery\",\"Cycling\",\"Water Polo\",\"Volleyball\",\"Rowing\",\"Rowing\",\"Athletics\",\"Athletics\",\"Athletics\",\"Football\",\"Basketball\",\"Handball\",\"Athletics\",\"Rowing\",\"Athletics\",\"Weightlifting\",\"Weightlifting\",\"Weightlifting\",\"Shooting\",\"Swimming\",\"Swimming\",\"Swimming\",\"Athletics\",\"Athletics\",\"Athletics\",\"Athletics\",\"Athletics\",\"Athletics\",\"Basketball\",\"Basketball\",\"Triathlon\",\"Equestrianism\",\"Equestrianism\",\"Gymnastics\",\"Gymnastics\",\"Gymnastics\",\"Gymnastics\",\"Gymnastics\",\"Gymnastics\",\"Gymnastics\",\"Boxing\",\"Shooting\",\"Shooting\",\"Football\",\"Hockey\",\"Volleyball\",\"Volleyball\",\"Swimming\",\"Swimming\",\"Swimming\",\"Modern Pentathlon\",\"Water Polo\",\"Tennis\",\"Tennis\",\"Tennis\",\"Basketball\",\"Sailing\",\"Rowing\",\"Sailing\",\"Sailing\",\"Sailing\",\"Sailing\",\"Rugby Sevens\",\"Volleyball\",\"Volleyball\",\"Volleyball\",\"Athletics\",\"Sailing\",\"Fencing\",\"Fencing\",\"Sailing\",\"Sailing\",\"Sailing\",\"Football\",\"Sailing\",\"Sailing\",\"Sailing\",\"Sailing\",\"Sailing\",\"Bobsleigh\",\"Bobsleigh\",\"Bobsleigh\",\"Basketball\",\"Basketball\",\"Equestrianism\",\"Equestrianism\",\"Swimming\",\"Swimming\",\"Swimming\",\"Swimming\",\"Football\",\"Basketball\",\"Hockey\",\"Swimming\",\"Swimming\",\"Athletics\",\"Athletics\",\"Athletics\",\"Athletics\",\"Athletics\",\"Water Polo\",\"Modern Pentathlon\",\"Modern Pentathlon\",\"Modern Pentathlon\",\"Water Polo\",\"Canoeing\",\"Sailing\",\"Swimming\",\"Swimming\",\"Swimming\",\"Swimming\",\"Swimming\",\"Swimming\",\"Swimming\",\"Swimming\",\"Swimming\",\"Hockey\",\"Boxing\",\"Volleyball\",\"Volleyball\",\"Modern Pentathlon\",\"Modern Pentathlon\",\"Shooting\",\"Cycling\",\"Shooting\",\"Shooting\",\"Shooting\",\"Diving\",\"Diving\",\"Diving\",\"Rowing\",\"Water Polo\",\"Rowing\",\"Football\",\"Basketball\",\"Athletics\",\"Handball\",\"Sailing\",\"Sailing\",\"Sailing\",\"Sailing\",\"Sailing\",\"Sailing\",\"Sailing\",\"Sailing\",\"Athletics\",\"Diving\",\"Diving\",\"Judo\",\"Athletics\",\"Swimming\",\"Handball\",\"Basketball\",\"Basketball\",\"Basketball\",\"Basketball\",\"Basketball\",\"Equestrianism\",\"Equestrianism\",\"Athletics\",\"Athletics\",\"Table Tennis\",\"Table Tennis\",\"Fencing\",\"Rowing\",\"Judo\",\"Judo\",\"Water Polo\",\"Rowing\",\"Handball\",\"Judo\",\"Shooting\",\"Shooting\",\"Shooting\",\"Football\",\"Athletics\",\"Handball\",\"Judo\",\"Basketball\",\"Basketball\",\"Volleyball\",\"Water Polo\",\"Football\",\"Football\",\"Football\",\"Judo\",\"Judo\",\"Judo\",\"Handball\",\"Equestrianism\",\"Equestrianism\",\"Athletics\",\"Water Polo\",\"Water Polo\",\"Water Polo\",\"Swimming\",\"Swimming\",\"Swimming\",\"Boxing\",\"Shooting\",\"Shooting\",\"Water Polo\",\"Swimming\",\"Swimming\",\"Shooting\",\"Swimming\",\"Swimming\",\"Swimming\",\"Swimming\",\"Swimming\",\"Swimming\",\"Swimming\",\"Swimming\",\"Judo\",\"Modern Pentathlon\",\"Volleyball\",\"Canoeing\",\"Canoeing\",\"Shooting\",\"Equestrianism\",\"Boxing\",\"Athletics\",\"Football\",\"Swimming\",\"Swimming\",\"Boxing\",\"Weightlifting\",\"Water Polo\",\"Athletics\",\"Athletics\",\"Judo\",\"Football\",\"Swimming\",\"Swimming\",\"Swimming\",\"Swimming\",\"Swimming\",\"Football\",\"Football\",\"Handball\",\"Athletics\",\"Football\",\"Handball\",\"Water Polo\",\"Swimming\",\"Swimming\",\"Rugby Sevens\",\"Athletics\",\"Water Polo\",\"Modern Pentathlon\",\"Equestrianism\",\"Equestrianism\",\"Triathlon\",\"Triathlon\",\"Boxing\",\"Boxing\",\"Boxing\",\"Sailing\",\"Sailing\",\"Sailing\",\"Swimming\",\"Sailing\",\"Basketball\",\"Canoeing\",\"Judo\",\"Judo\",\"Athletics\",\"Athletics\",\"Athletics\",\"Athletics\",\"Rowing\",\"Swimming\",\"Swimming\",\"Athletics\",\"Athletics\",\"Rugby Sevens\",\"Fencing\",\"Fencing\",\"Sailing\",\"Fencing\",\"Fencing\",\"Fencing\",\"Boxing\",\"Water Polo\",\"Cycling\",\"Athletics\",\"Athletics\",\"Athletics\",\"Water Polo\",\"Water Polo\",\"Canoeing\",\"Canoeing\",\"Canoeing\",\"Canoeing\",\"Canoeing\",\"Canoeing\",\"Canoeing\",\"Canoeing\",\"Canoeing\",\"Judo\",\"Judo\",\"Athletics\",\"Athletics\",\"Athletics\",\"Athletics\",\"Athletics\",\"Volleyball\",\"Volleyball\",\"Athletics\",\"Water Polo\",\"Athletics\",\"Water Polo\",\"Rowing\",\"Sailing\",\"Sailing\",\"Sailing\",\"Swimming\",\"Swimming\",\"Equestrianism\",\"Equestrianism\",\"Equestrianism\",\"Equestrianism\",\"Basketball\",\"Equestrianism\",\"Equestrianism\",\"Modern Pentathlon\",\"Equestrianism\",\"Equestrianism\",\"Equestrianism\",\"Athletics\",\"Athletics\",\"Golf\",\"Athletics\",\"Athletics\",\"Athletics\",\"Athletics\",\"Athletics\",\"Athletics\",\"Athletics\",\"Athletics\",\"Athletics\",\"Athletics\",\"Athletics\",\"Athletics\",\"Athletics\",\"Athletics\",\"Athletics\",\"Athletics\",\"Bobsleigh\",\"Athletics\",\"Athletics\",\"Taekwondo\",\"Taekwondo\",\"Canoeing\",\"Canoeing\",\"Athletics\",\"Athletics\",\"Athletics\",\"Athletics\",\"Athletics\",\"Athletics\",\"Athletics\",\"Athletics\",\"Boxing\",\"Handball\",\"Athletics\",\"Athletics\",\"Athletics\",\"Athletics\",\"Athletics\",\"Athletics\",\"Athletics\",\"Athletics\",\"Art Competitions\",\"Swimming\",\"Swimming\",\"Water Polo\",\"Athletics\",\"Athletics\",\"Modern Pentathlon\",\"Modern Pentathlon\",\"Equestrianism\",\"Equestrianism\",\"Basketball\",\"Canoeing\",\"Athletics\",\"Athletics\",\"Athletics\",\"Athletics\",\"Athletics\",\"Athletics\",\"Athletics\",\"Athletics\",\"Athletics\",\"Athletics\",\"Athletics\",\"Basketball\",\"Boxing\",\"Boxing\",\"Athletics\",\"Athletics\",\"Athletics\",\"Athletics\",\"Shooting\",\"Basketball\",\"Boxing\",\"Cycling\",\"Water Polo\",\"Water Polo\",\"Tennis\",\"Volleyball\",\"Weightlifting\",\"Weightlifting\",\"Weightlifting\",\"Volleyball\",\"Football\",\"Athletics\",\"Athletics\",\"Archery\",\"Archery\",\"Swimming\",\"Swimming\",\"Rowing\",\"Equestrianism\",\"Rowing\",\"Athletics\",\"Water Polo\",\"Athletics\",\"Athletics\",\"Athletics\",\"Weightlifting\",\"Weightlifting\",\"Athletics\",\"Athletics\",\"Athletics\",\"Athletics\",\"Athletics\",\"Athletics\",\"Athletics\",\"Sailing\",\"Equestrianism\",\"Volleyball\",\"Volleyball\",\"Basketball\",\"Equestrianism\",\"Equestrianism\",\"Athletics\",\"Athletics\",\"Athletics\",\"Athletics\",\"Athletics\",\"Fencing\",\"Fencing\",\"Athletics\",\"Athletics\",\"Athletics\",\"Rowing\",\"Rowing\",\"Rowing\",\"Rowing\",\"Athletics\",\"Boxing\",\"Boxing\",\"Boxing\",\"Rowing\",\"Rowing\",\"Rowing\",\"Rowing\",\"Rowing\",\"Rowing\",\"Rowing\",\"Rowing\",\"Rowing\",\"Diving\",\"Diving\",\"Diving\",\"Diving\",\"Rowing\",\"Athletics\",\"Athletics\",\"Athletics\",\"Swimming\",\"Swimming\",\"Swimming\",\"Swimming\",\"Equestrianism\",\"Shooting\",\"Athletics\",\"Basketball\",\"Rowing\",\"Equestrianism\",\"Equestrianism\",\"Boxing\",\"Boxing\",\"Boxing\",\"Boxing\",\"Boxing\",\"Athletics\",\"Athletics\",\"Cycling\",\"Cycling\",\"Athletics\",\"Athletics\",\"Athletics\",\"Athletics\",\"Athletics\",\"Athletics\",\"Water Polo\",\"Swimming\",\"Swimming\",\"Swimming\",\"Triathlon\",\"Triathlon\",\"Equestrianism\",\"Boxing\",\"Diving\",\"Modern Pentathlon\",\"Modern Pentathlon\",\"Rowing\",\"Equestrianism\",\"Equestrianism\",\"Equestrianism\",\"Equestrianism\",\"Equestrianism\",\"Equestrianism\",\"Athletics\",\"Athletics\",\"Athletics\",\"Weightlifting\",\"Athletics\",\"Athletics\",\"Athletics\",\"Athletics\",\"Volleyball\",\"Fencing\",\"Fencing\",\"Fencing\",\"Fencing\",\"Athletics\",\"Athletics\",\"Athletics\",\"Volleyball\",\"Athletics\",\"Athletics\",\"Athletics\",\"Shooting\",\"Athletics\",\"Athletics\",\"Athletics\",\"Boxing\",\"Swimming\",\"Swimming\",\"Swimming\",\"Swimming\",\"Rowing\",\"Swimming\",\"Fencing\",\"Fencing\",\"Fencing\",\"Basketball\",\"Volleyball\",\"Equestrianism\",\"Athletics\",\"Athletics\",\"Athletics\",\"Rowing\",\"Shooting\",\"Shooting\",\"Weightlifting\",\"Weightlifting\",\"Equestrianism\",\"Equestrianism\",\"Weightlifting\",\"Shooting\",\"Shooting\",\"Athletics\",\"Sailing\",\"Sailing\",\"Rowing\",\"Athletics\",\"Athletics\",\"Athletics\",\"Athletics\",\"Athletics\",\"Athletics\",\"Volleyball\",\"Athletics\",\"Athletics\",\"Athletics\",\"Basketball\",\"Athletics\",\"Athletics\",\"Athletics\",\"Equestrianism\",\"Rowing\",\"Athletics\",\"Equestrianism\",\"Equestrianism\",\"Handball\",\"Water Polo\",\"Football\",\"Boxing\",\"Volleyball\",\"Swimming\",\"Swimming\",\"Swimming\",\"Swimming\",\"Swimming\",\"Swimming\",\"Swimming\",\"Swimming\",\"Football\",\"Judo\",\"Alpine Skiing\",\"Boxing\",\"Boxing\",\"Football\",\"Sailing\",\"Sailing\",\"Sailing\",\"Sailing\",\"Football\",\"Boxing\",\"Rowing\",\"Football\",\"Fencing\",\"Fencing\",\"Fencing\",\"Fencing\",\"Shooting\",\"Swimming\",\"Swimming\",\"Athletics\",\"Athletics\",\"Boxing\",\"Equestrianism\",\"Equestrianism\",\"Equestrianism\",\"Equestrianism\",\"Equestrianism\",\"Equestrianism\",\"Equestrianism\",\"Equestrianism\",\"Basketball\",\"Athletics\",\"Volleyball\",\"Athletics\",\"Athletics\",\"Cycling\",\"Cycling\",\"Cycling\",\"Athletics\",\"Athletics\",\"Swimming\",\"Modern Pentathlon\",\"Athletics\",\"Athletics\",\"Athletics\",\"Rowing\",\"Athletics\",\"Rowing\",\"Athletics\",\"Athletics\",\"Athletics\",\"Water Polo\",\"Water Polo\",\"Water Polo\",\"Athletics\",\"Athletics\",\"Athletics\",\"Athletics\",\"Athletics\",\"Athletics\",\"Athletics\",\"Athletics\",\"Athletics\",\"Basketball\",\"Judo\",\"Water Polo\",\"Swimming\",\"Swimming\",\"Swimming\",\"Handball\",\"Athletics\",\"Boxing\",\"Athletics\",\"Athletics\",\"Athletics\",\"Athletics\",\"Boxing\",\"Shooting\",\"Shooting\",\"Shooting\",\"Shooting\",\"Athletics\",\"Athletics\",\"Athletics\",\"Volleyball\",\"Equestrianism\",\"Equestrianism\",\"Shooting\",\"Swimming\",\"Sailing\",\"Sailing\",\"Modern Pentathlon\",\"Athletics\",\"Athletics\",\"Fencing\",\"Fencing\",\"Fencing\",\"Fencing\",\"Fencing\",\"Volleyball\",\"Rugby Sevens\",\"Rugby Sevens\",\"Diving\",\"Diving\",\"Diving\",\"Diving\",\"Football\",\"Handball\",\"Tennis\",\"Archery\",\"Archery\",\"Archery\",\"Archery\",\"Rowing\",\"Football\",\"Football\",\"Basketball\",\"Football\",\"Football\",\"Alpine Skiing\",\"Alpine Skiing\",\"Alpine Skiing\",\"Football\",\"Rowing\",\"Football\",\"Sailing\",\"Swimming\",\"Athletics\",\"Football\",\"Football\",\"Football\",\"Boxing\",\"Basketball\",\"Basketball\",\"Football\",\"Rowing\",\"Rowing\",\"Hockey\",\"Basketball\",\"Rowing\",\"Volleyball\",\"Volleyball\",\"Basketball\",\"Volleyball\",\"Rowing\",\"Rowing\",\"Equestrianism\",\"Equestrianism\",\"Equestrianism\",\"Equestrianism\",\"Basketball\",\"Cycling\",\"Weightlifting\",\"Athletics\",\"Athletics\",\"Athletics\",\"Athletics\",\"Cycling\",\"Sailing\",\"Fencing\",\"Fencing\",\"Equestrianism\",\"Equestrianism\",\"Equestrianism\",\"Equestrianism\",\"Equestrianism\",\"Equestrianism\",\"Equestrianism\",\"Equestrianism\",\"Shooting\",\"Swimming\",\"Swimming\",\"Athletics\",\"Athletics\",\"Cycling\",\"Football\",\"Athletics\",\"Sailing\",\"Water Polo\",\"Swimming\",\"Swimming\",\"Water Polo\",\"Fencing\",\"Swimming\",\"Swimming\",\"Swimming\",\"Swimming\",\"Swimming\",\"Swimming\",\"Swimming\",\"Rugby Sevens\",\"Swimming\",\"Swimming\",\"Swimming\",\"Swimming\",\"Swimming\",\"Cycling\",\"Cycling\",\"Cycling\",\"Cycling\",\"Cycling\",\"Cycling\",\"Cycling\",\"Cycling\",\"Cycling\",\"Judo\",\"Judo\",\"Judo\",\"Cycling\",\"Rowing\",\"Equestrianism\",\"Equestrianism\",\"Equestrianism\",\"Equestrianism\",\"Equestrianism\",\"Boxing\",\"Fencing\",\"Fencing\",\"Fencing\",\"Swimming\",\"Swimming\",\"Sailing\",\"Sailing\",\"Swimming\",\"Swimming\",\"Swimming\",\"Swimming\",\"Swimming\",\"Swimming\",\"Swimming\",\"Swimming\",\"Swimming\",\"Volleyball\",\"Boxing\",\"Swimming\",\"Swimming\",\"Swimming\",\"Swimming\",\"Swimming\",\"Swimming\",\"Water Polo\",\"Basketball\",\"Rowing\",\"Rowing\",\"Rowing\",\"Swimming\",\"Swimming\",\"Swimming\",\"Football\",\"Athletics\",\"Cycling\",\"Cycling\",\"Sailing\",\"Cross Country Skiing\",\"Boxing\",\"Rowing\",\"Shooting\",\"Boxing\",\"Athletics\",\"Athletics\",\"Athletics\",\"Athletics\",\"Athletics\",\"Water Polo\",\"Swimming\",\"Athletics\",\"Basketball\",\"Basketball\",\"Judo\",\"Basketball\",\"Basketball\",\"Basketball\",\"Football\",\"Rowing\",\"Basketball\",\"Basketball\",\"Basketball\",\"Football\",\"Football\",\"Rugby Sevens\",\"Rowing\",\"Volleyball\",\"Rowing\",\"Basketball\",\"Volleyball\",\"Athletics\",\"Volleyball\",\"Volleyball\",\"Equestrianism\",\"Basketball\",\"Basketball\",\"Athletics\",\"Sailing\",\"Gymnastics\",\"Gymnastics\",\"Gymnastics\",\"Gymnastics\",\"Gymnastics\",\"Gymnastics\",\"Gymnastics\",\"Basketball\",\"Athletics\",\"Athletics\",\"Athletics\",\"Water Polo\",\"Athletics\",\"Athletics\",\"Shooting\",\"Swimming\",\"Swimming\",\"Athletics\",\"Athletics\",\"Rowing\",\"Rowing\",\"Rowing\",\"Rowing\",\"Bobsleigh\",\"Swimming\",\"Swimming\",\"Swimming\",\"Water Polo\",\"Water Polo\",\"Water Polo\",\"Boxing\",\"Basketball\",\"Sailing\",\"Sailing\",\"Sailing\",\"Sailing\",\"Volleyball\",\"Athletics\",\"Athletics\",\"Athletics\",\"Weightlifting\",\"Cycling\",\"Swimming\",\"Water Polo\",\"Water Polo\",\"Canoeing\",\"Boxing\",\"Rowing\",\"Basketball\",\"Basketball\",\"Handball\",\"Handball\",\"Swimming\",\"Swimming\",\"Swimming\",\"Swimming\",\"Judo\",\"Athletics\",\"Athletics\",\"Athletics\",\"Athletics\",\"Athletics\",\"Shooting\",\"Shooting\",\"Shooting\",\"Shooting\",\"Athletics\",\"Shooting\",\"Shooting\",\"Shooting\",\"Shooting\",\"Shooting\",\"Shooting\",\"Water Polo\",\"Judo\",\"Judo\",\"Basketball\",\"Handball\",\"Swimming\",\"Athletics\",\"Volleyball\",\"Canoeing\",\"Canoeing\",\"Sailing\",\"Football\",\"Table Tennis\",\"Diving\",\"Athletics\",\"Athletics\",\"Athletics\",\"Swimming\",\"Swimming\",\"Water Polo\",\"Sailing\",\"Handball\",\"Handball\",\"Volleyball\",\"Football\",\"Alpine Skiing\",\"Alpine Skiing\",\"Alpine Skiing\",\"Alpine Skiing\",\"Alpine Skiing\",\"Judo\",\"Judo\",\"Basketball\",\"Athletics\",\"Handball\",\"Handball\",\"Judo\",\"Table Tennis\",\"Table Tennis\",\"Table Tennis\",\"Table Tennis\",\"Table Tennis\",\"Table Tennis\",\"Table Tennis\",\"Table Tennis\",\"Table Tennis\",\"Table Tennis\",\"Table Tennis\",\"Handball\",\"Basketball\",\"Basketball\",\"Football\",\"Football\",\"Gymnastics\",\"Gymnastics\",\"Gymnastics\",\"Gymnastics\",\"Alpine Skiing\",\"Hockey\",\"Bobsleigh\",\"Athletics\",\"Judo\",\"Basketball\",\"Basketball\",\"Basketball\",\"Handball\",\"Handball\",\"Water Polo\",\"Handball\",\"Cycling\",\"Cycling\",\"Basketball\",\"Football\",\"Wrestling\",\"Handball\",\"Football\",\"Handball\",\"Swimming\",\"Swimming\",\"Volleyball\",\"Volleyball\",\"Canoeing\",\"Canoeing\",\"Boxing\",\"Rowing\",\"Equestrianism\",\"Equestrianism\",\"Equestrianism\",\"Equestrianism\",\"Swimming\",\"Swimming\",\"Sailing\",\"Football\",\"Equestrianism\",\"Equestrianism\",\"Equestrianism\",\"Equestrianism\",\"Water Polo\",\"Rowing\",\"Basketball\",\"Basketball\",\"Swimming\",\"Swimming\",\"Swimming\",\"Swimming\",\"Swimming\",\"Swimming\",\"Swimming\",\"Swimming\",\"Athletics\",\"Football\",\"Football\",\"Football\",\"Volleyball\",\"Volleyball\",\"Athletics\",\"Table Tennis\",\"Table Tennis\",\"Table Tennis\",\"Table Tennis\",\"Sailing\",\"Table Tennis\",\"Table Tennis\",\"Table Tennis\",\"Diving\",\"Swimming\",\"Swimming\",\"Swimming\",\"Swimming\",\"Swimming\",\"Volleyball\",\"Judo\",\"Rowing\",\"Rowing\",\"Rowing\",\"Athletics\",\"Athletics\",\"Athletics\",\"Rowing\",\"Canoeing\",\"Canoeing\",\"Rowing\",\"Archery\",\"Tennis\",\"Tennis\",\"Tennis\",\"Rowing\",\"Rowing\",\"Rowing\",\"Rowing\",\"Shooting\",\"Canoeing\",\"Canoeing\",\"Swimming\",\"Swimming\",\"Shooting\",\"Handball\",\"Swimming\",\"Swimming\",\"Swimming\",\"Football\",\"Fencing\",\"Fencing\",\"Fencing\",\"Fencing\",\"Rowing\",\"Swimming\",\"Judo\",\"Rowing\",\"Rowing\",\"Water Polo\",\"Swimming\",\"Swimming\",\"Swimming\",\"Swimming\",\"Swimming\",\"Swimming\",\"Swimming\",\"Swimming\",\"Swimming\",\"Swimming\",\"Boxing\",\"Rowing\",\"Equestrianism\",\"Equestrianism\",\"Modern Pentathlon\",\"Modern Pentathlon\",\"Handball\",\"Cycling\",\"Basketball\",\"Water Polo\",\"Water Polo\",\"Rowing\",\"Swimming\",\"Swimming\",\"Swimming\",\"Swimming\",\"Swimming\",\"Swimming\",\"Swimming\",\"Athletics\",\"Athletics\",\"Basketball\",\"Alpine Skiing\",\"Alpine Skiing\",\"Alpine Skiing\",\"Alpine Skiing\",\"Boxing\",\"Boxing\",\"Cycling\",\"Basketball\",\"Hockey\",\"Swimming\",\"Swimming\",\"Swimming\",\"Swimming\",\"Rowing\",\"Water Polo\",\"Rowing\",\"Judo\",\"Judo\",\"Swimming\",\"Boxing\",\"Cycling\",\"Cycling\",\"Cycling\",\"Cycling\",\"Cycling\",\"Cycling\",\"Football\",\"Shooting\",\"Football\",\"Football\",\"Basketball\",\"Handball\",\"Handball\",\"Handball\",\"Shooting\",\"Swimming\",\"Swimming\",\"Swimming\",\"Swimming\",\"Swimming\",\"Fencing\",\"Fencing\",\"Fencing\",\"Rowing\",\"Rowing\",\"Basketball\",\"Swimming\",\"Swimming\",\"Judo\",\"Swimming\",\"Swimming\",\"Swimming\",\"Swimming\",\"Swimming\",\"Swimming\",\"Swimming\",\"Swimming\",\"Canoeing\",\"Shooting\",\"Boxing\",\"Boxing\",\"Cycling\",\"Cycling\",\"Cycling\",\"Rowing\",\"Cycling\",\"Handball\",\"Handball\",\"Rowing\",\"Bobsleigh\",\"Modern Pentathlon\",\"Modern Pentathlon\",\"Modern Pentathlon\",\"Modern Pentathlon\",\"Rowing\",\"Rowing\",\"Water Polo\",\"Swimming\",\"Swimming\",\"Water Polo\",\"Football\",\"Football\",\"Handball\",\"Basketball\",\"Basketball\",\"Basketball\",\"Basketball\",\"Volleyball\",\"Volleyball\",\"Basketball\",\"Basketball\",\"Athletics\",\"Football\",\"Gymnastics\",\"Gymnastics\",\"Gymnastics\",\"Gymnastics\",\"Gymnastics\",\"Gymnastics\",\"Diving\",\"Football\",\"Rowing\",\"Rowing\",\"Rowing\",\"Equestrianism\",\"Equestrianism\",\"Athletics\",\"Basketball\",\"Modern Pentathlon\",\"Modern Pentathlon\",\"Fencing\",\"Fencing\",\"Athletics\",\"Basketball\",\"Basketball\",\"Handball\",\"Basketball\",\"Basketball\",\"Basketball\",\"Basketball\",\"Basketball\",\"Water Polo\",\"Water Polo\",\"Bobsleigh\",\"Boxing\",\"Swimming\",\"Swimming\",\"Boxing\",\"Shooting\",\"Shooting\",\"Fencing\",\"Sailing\",\"Athletics\",\"Swimming\",\"Swimming\",\"Swimming\",\"Table Tennis\",\"Football\",\"Tennis\",\"Tennis\",\"Tennis\",\"Tennis\",\"Swimming\",\"Swimming\",\"Swimming\",\"Volleyball\",\"Volleyball\",\"Volleyball\",\"Shooting\",\"Shooting\",\"Football\",\"Football\",\"Basketball\",\"Basketball\",\"Cycling\",\"Cycling\",\"Cycling\",\"Cycling\",\"Cycling\",\"Cycling\",\"Hockey\",\"Athletics\",\"Fencing\",\"Fencing\",\"Sailing\",\"Tennis\",\"Athletics\",\"Shooting\",\"Water Polo\",\"Swimming\",\"Swimming\",\"Tennis\",\"Tennis\",\"Fencing\",\"Athletics\",\"Hockey\",\"Judo\",\"Equestrianism\",\"Equestrianism\",\"Swimming\",\"Swimming\",\"Basketball\",\"Basketball\",\"Handball\",\"Handball\",\"Swimming\",\"Swimming\",\"Swimming\",\"Swimming\",\"Swimming\",\"Swimming\",\"Swimming\",\"Swimming\",\"Football\",\"Judo\",\"Handball\",\"Handball\",\"Football\",\"Handball\",\"Basketball\",\"Basketball\",\"Shooting\",\"Football\",\"Triathlon\",\"Luge\",\"Rowing\",\"Swimming\",\"Swimming\",\"Fencing\",\"Fencing\",\"Basketball\",\"Volleyball\",\"Volleyball\",\"Cycling\",\"Gymnastics\",\"Gymnastics\",\"Gymnastics\",\"Gymnastics\",\"Gymnastics\",\"Gymnastics\",\"Gymnastics\",\"Table Tennis\",\"Table Tennis\",\"Table Tennis\",\"Table Tennis\",\"Swimming\",\"Swimming\",\"Swimming\",\"Handball\",\"Handball\",\"Equestrianism\",\"Equestrianism\",\"Swimming\",\"Athletics\",\"Shooting\",\"Shooting\",\"Shooting\",\"Shooting\",\"Triathlon\",\"Triathlon\",\"Triathlon\",\"Football\",\"Volleyball\",\"Volleyball\",\"Volleyball\",\"Volleyball\",\"Swimming\",\"Swimming\",\"Rowing\",\"Basketball\",\"Basketball\",\"Judo\",\"Judo\",\"Football\",\"Alpine Skiing\",\"Alpine Skiing\",\"Alpine Skiing\",\"Alpine Skiing\",\"Football\",\"Athletics\",\"Athletics\",\"Athletics\",\"Athletics\",\"Athletics\",\"Volleyball\",\"Volleyball\",\"Modern Pentathlon\",\"Cycling\",\"Cycling\",\"Volleyball\",\"Sailing\",\"Athletics\",\"Basketball\",\"Basketball\",\"Boxing\",\"Boxing\",\"Cycling\",\"Wrestling\",\"Wrestling\",\"Wrestling\",\"Volleyball\",\"Football\",\"Swimming\",\"Swimming\",\"Shooting\",\"Shooting\",\"Shooting\",\"Rowing\",\"Rowing\",\"Rowing\",\"Rowing\",\"Boxing\",\"Water Polo\",\"Football\",\"Swimming\",\"Swimming\",\"Swimming\",\"Volleyball\",\"Swimming\",\"Equestrianism\",\"Equestrianism\",\"Canoeing\",\"Archery\",\"Archery\",\"Canoeing\",\"Swimming\",\"Swimming\",\"Swimming\",\"Swimming\",\"Swimming\",\"Swimming\",\"Swimming\",\"Swimming\",\"Canoeing\",\"Canoeing\",\"Swimming\",\"Swimming\",\"Swimming\",\"Swimming\",\"Judo\",\"Boxing\",\"Badminton\",\"Basketball\",\"Basketball\",\"Shooting\",\"Shooting\",\"Shooting\",\"Shooting\",\"Tennis\",\"Tennis\",\"Tennis\",\"Judo\",\"Judo\",\"Swimming\",\"Football\",\"Diving\",\"Judo\",\"Athletics\",\"Athletics\",\"Athletics\",\"Hockey\",\"Bobsleigh\",\"Athletics\",\"Cycling\",\"Cycling\",\"Equestrianism\",\"Water Polo\",\"Hockey\",\"Shooting\",\"Athletics\",\"Athletics\",\"Swimming\",\"Volleyball\",\"Cycling\",\"Fencing\",\"Sailing\",\"Sailing\",\"Sailing\",\"Sailing\",\"Shooting\",\"Shooting\",\"Judo\",\"Judo\",\"Diving\",\"Diving\",\"Diving\",\"Diving\",\"Diving\",\"Equestrianism\",\"Equestrianism\",\"Equestrianism\",\"Equestrianism\",\"Equestrianism\",\"Equestrianism\",\"Equestrianism\",\"Athletics\",\"Athletics\",\"Athletics\",\"Hockey\",\"Athletics\",\"Athletics\",\"Volleyball\",\"Volleyball\",\"Football\",\"Basketball\",\"Basketball\",\"Swimming\",\"Basketball\",\"Athletics\",\"Athletics\",\"Football\",\"Athletics\",\"Athletics\",\"Shooting\",\"Shooting\",\"Table Tennis\",\"Fencing\",\"Fencing\",\"Sailing\",\"Judo\",\"Cross Country Skiing\",\"Swimming\",\"Volleyball\",\"Cycling\",\"Swimming\",\"Fencing\",\"Volleyball\",\"Volleyball\",\"Rowing\",\"Rowing\",\"Judo\",\"Swimming\",\"Swimming\",\"Swimming\",\"Swimming\",\"Swimming\",\"Swimming\",\"Swimming\",\"Swimming\",\"Boxing\",\"Water Polo\",\"Athletics\",\"Fencing\",\"Fencing\",\"Water Polo\",\"Swimming\",\"Swimming\",\"Equestrianism\",\"Equestrianism\",\"Equestrianism\",\"Equestrianism\",\"Equestrianism\",\"Equestrianism\",\"Equestrianism\",\"Equestrianism\",\"Equestrianism\",\"Judo\",\"Equestrianism\",\"Equestrianism\",\"Equestrianism\",\"Equestrianism\",\"Equestrianism\",\"Equestrianism\",\"Equestrianism\",\"Equestrianism\",\"Bobsleigh\",\"Handball\",\"Canoeing\",\"Volleyball\",\"Volleyball\",\"Sailing\",\"Shooting\",\"Water Polo\",\"Water Polo\",\"Volleyball\",\"Handball\",\"Volleyball\",\"Boxing\",\"Boxing\",\"Gymnastics\",\"Gymnastics\",\"Gymnastics\",\"Gymnastics\",\"Gymnastics\",\"Gymnastics\",\"Gymnastics\",\"Boxing\",\"Boxing\",\"Basketball\",\"Basketball\",\"Basketball\",\"Swimming\",\"Swimming\",\"Water Polo\",\"Athletics\",\"Athletics\",\"Athletics\",\"Shooting\",\"Football\",\"Water Polo\",\"Swimming\",\"Swimming\",\"Swimming\",\"Equestrianism\",\"Equestrianism\",\"Rowing\",\"Shooting\",\"Handball\",\"Swimming\",\"Swimming\",\"Swimming\",\"Swimming\",\"Swimming\",\"Swimming\",\"Sailing\",\"Sailing\",\"Sailing\",\"Sailing\",\"Volleyball\",\"Rowing\",\"Athletics\",\"Athletics\",\"Athletics\",\"Cycling\",\"Cycling\",\"Cycling\",\"Cycling\",\"Rowing\",\"Rowing\",\"Volleyball\",\"Swimming\",\"Swimming\",\"Swimming\",\"Swimming\",\"Athletics\",\"Cycling\",\"Athletics\",\"Athletics\",\"Athletics\",\"Athletics\",\"Rowing\",\"Luge\",\"Bobsleigh\",\"Rowing\",\"Basketball\",\"Basketball\",\"Basketball\",\"Cycling\",\"Sailing\",\"Sailing\",\"Rowing\",\"Weightlifting\",\"Weightlifting\",\"Sailing\",\"Volleyball\",\"Volleyball\",\"Equestrianism\",\"Equestrianism\",\"Equestrianism\",\"Equestrianism\",\"Cycling\",\"Cycling\",\"Equestrianism\",\"Athletics\",\"Athletics\",\"Athletics\",\"Athletics\",\"Athletics\",\"Handball\",\"Diving\",\"Diving\",\"Canoeing\",\"Canoeing\",\"Gymnastics\",\"Gymnastics\",\"Gymnastics\",\"Gymnastics\",\"Gymnastics\",\"Gymnastics\",\"Gymnastics\",\"Rowing\",\"Cycling\",\"Rowing\",\"Equestrianism\",\"Equestrianism\",\"Swimming\",\"Swimming\",\"Swimming\",\"Swimming\",\"Swimming\",\"Swimming\",\"Swimming\",\"Cross Country Skiing\",\"Cross Country Skiing\",\"Rowing\",\"Sailing\",\"Athletics\",\"Shooting\",\"Shooting\",\"Handball\",\"Football\",\"Weightlifting\",\"Shooting\",\"Shooting\",\"Shooting\",\"Water Polo\",\"Athletics\",\"Volleyball\",\"Sailing\",\"Athletics\",\"Athletics\",\"Handball\",\"Swimming\",\"Swimming\",\"Athletics\",\"Boxing\",\"Gymnastics\",\"Gymnastics\",\"Gymnastics\",\"Gymnastics\",\"Gymnastics\",\"Gymnastics\",\"Gymnastics\",\"Swimming\",\"Swimming\",\"Water Polo\",\"Volleyball\",\"Cycling\",\"Football\",\"Basketball\",\"Basketball\",\"Basketball\",\"Athletics\",\"Swimming\",\"Swimming\",\"Swimming\",\"Swimming\",\"Swimming\",\"Swimming\",\"Swimming\",\"Swimming\",\"Swimming\",\"Swimming\",\"Football\",\"Diving\",\"Athletics\",\"Athletics\",\"Basketball\",\"Football\",\"Rowing\",\"Rowing\",\"Water Polo\",\"Hockey\",\"Football\",\"Football\",\"Athletics\",\"Tennis\",\"Tennis\",\"Athletics\",\"Judo\",\"Judo\",\"Boxing\",\"Swimming\",\"Basketball\",\"Swimming\",\"Swimming\",\"Swimming\",\"Water Polo\",\"Water Polo\",\"Rowing\",\"Water Polo\",\"Rugby Sevens\",\"Rugby Sevens\",\"Water Polo\",\"Judo\",\"Sailing\",\"Sailing\",\"Handball\",\"Handball\",\"Boxing\",\"Swimming\",\"Football\",\"Judo\",\"Weightlifting\",\"Swimming\",\"Sailing\",\"Handball\",\"Swimming\",\"Swimming\",\"Tennis\",\"Tennis\",\"Gymnastics\",\"Gymnastics\",\"Gymnastics\",\"Gymnastics\",\"Gymnastics\",\"Gymnastics\",\"Gymnastics\",\"Gymnastics\",\"Gymnastics\",\"Gymnastics\",\"Gymnastics\",\"Gymnastics\",\"Gymnastics\",\"Gymnastics\",\"Rowing\",\"Handball\",\"Handball\",\"Handball\",\"Basketball\",\"Fencing\",\"Rugby Sevens\",\"Shooting\",\"Shooting\",\"Sailing\",\"Water Polo\",\"Swimming\",\"Swimming\",\"Swimming\",\"Swimming\",\"Swimming\",\"Athletics\",\"Judo\",\"Basketball\",\"Basketball\",\"Basketball\",\"Basketball\",\"Basketball\",\"Shooting\",\"Volleyball\",\"Alpine Skiing\",\"Alpine Skiing\",\"Alpine Skiing\",\"Volleyball\",\"Fencing\",\"Fencing\",\"Fencing\",\"Fencing\",\"Fencing\",\"Triathlon\",\"Triathlon\",\"Rowing\",\"Cycling\",\"Athletics\",\"Canoeing\",\"Canoeing\",\"Canoeing\",\"Canoeing\",\"Basketball\",\"Water Polo\",\"Volleyball\",\"Judo\",\"Judo\",\"Judo\",\"Judo\",\"Sailing\",\"Water Polo\",\"Boxing\",\"Judo\",\"Athletics\",\"Rugby Sevens\",\"Athletics\",\"Athletics\",\"Canoeing\",\"Swimming\",\"Water Polo\",\"Athletics\",\"Boxing\",\"Equestrianism\",\"Archery\",\"Bobsleigh\",\"Athletics\",\"Athletics\",\"Swimming\",\"Boxing\",\"Athletics\",\"Weightlifting\",\"Weightlifting\",\"Swimming\",\"Swimming\",\"Cycling\",\"Cycling\",\"Cycling\",\"Cycling\",\"Cycling\",\"Handball\",\"Basketball\",\"Shooting\",\"Shooting\",\"Shooting\",\"Equestrianism\",\"Basketball\",\"Judo\",\"Swimming\",\"Hockey\",\"Handball\",\"Football\",\"Rowing\",\"Rowing\",\"Shooting\",\"Shooting\",\"Shooting\",\"Rowing\",\"Rowing\",\"Boxing\",\"Wrestling\",\"Shooting\",\"Shooting\",\"Shooting\",\"Water Polo\",\"Athletics\",\"Athletics\",\"Athletics\",\"Canoeing\",\"Water Polo\",\"Handball\",\"Handball\",\"Athletics\",\"Swimming\",\"Swimming\",\"Swimming\",\"Water Polo\",\"Fencing\",\"Swimming\",\"Swimming\",\"Swimming\",\"Sailing\",\"Sailing\",\"Wrestling\",\"Wrestling\",\"Basketball\",\"Hockey\",\"Handball\",\"Equestrianism\",\"Equestrianism\",\"Rowing\",\"Rowing\",\"Cycling\",\"Basketball\",\"Athletics\",\"Athletics\",\"Volleyball\",\"Volleyball\",\"Water Polo\",\"Rowing\",\"Canoeing\",\"Rowing\",\"Sailing\",\"Volleyball\",\"Volleyball\",\"Swimming\",\"Rowing\",\"Basketball\",\"Football\",\"Swimming\",\"Swimming\",\"Swimming\",\"Athletics\",\"Athletics\",\"Handball\",\"Boxing\",\"Taekwondo\",\"Equestrianism\",\"Equestrianism\",\"Equestrianism\",\"Equestrianism\",\"Equestrianism\",\"Athletics\",\"Equestrianism\",\"Equestrianism\",\"Sailing\",\"Sailing\",\"Sailing\",\"Athletics\",\"Athletics\",\"Football\",\"Handball\",\"Basketball\",\"Water Polo\",\"Basketball\",\"Football\",\"Rowing\",\"Fencing\",\"Fencing\",\"Fencing\",\"Boxing\",\"Rowing\",\"Basketball\",\"Water Polo\",\"Football\",\"Basketball\",\"Swimming\",\"Swimming\",\"Swimming\",\"Equestrianism\",\"Equestrianism\",\"Equestrianism\",\"Equestrianism\",\"Judo\",\"Equestrianism\",\"Equestrianism\",\"Rowing\",\"Rowing\",\"Table Tennis\",\"Table Tennis\",\"Table Tennis\",\"Table Tennis\",\"Table Tennis\",\"Table Tennis\",\"Handball\",\"Handball\",\"Football\",\"Fencing\",\"Fencing\",\"Fencing\",\"Football\",\"Football\",\"Football\",\"Swimming\",\"Rowing\",\"Fencing\",\"Fencing\",\"Fencing\",\"Fencing\",\"Hockey\",\"Hockey\",\"Basketball\",\"Handball\",\"Handball\",\"Boxing\",\"Football\",\"Rowing\",\"Rowing\",\"Equestrianism\",\"Equestrianism\",\"Equestrianism\",\"Equestrianism\",\"Athletics\",\"Athletics\",\"Athletics\",\"Athletics\",\"Athletics\",\"Athletics\",\"Judo\",\"Fencing\",\"Handball\",\"Swimming\",\"Swimming\",\"Swimming\",\"Swimming\",\"Swimming\",\"Shooting\",\"Shooting\",\"Shooting\",\"Volleyball\",\"Volleyball\",\"Water Polo\",\"Athletics\",\"Swimming\",\"Swimming\",\"Football\",\"Sailing\",\"Volleyball\",\"Football\",\"Diving\",\"Diving\",\"Diving\",\"Taekwondo\",\"Taekwondo\",\"Sailing\",\"Volleyball\",\"Volleyball\",\"Volleyball\",\"Modern Pentathlon\",\"Modern Pentathlon\",\"Modern Pentathlon\",\"Athletics\",\"Shooting\",\"Shooting\",\"Shooting\",\"Shooting\",\"Volleyball\",\"Archery\",\"Archery\",\"Archery\",\"Handball\",\"Handball\",\"Swimming\",\"Shooting\",\"Shooting\",\"Judo\",\"Swimming\",\"Swimming\",\"Swimming\",\"Swimming\",\"Rowing\",\"Gymnastics\",\"Swimming\",\"Swimming\",\"Swimming\",\"Athletics\",\"Athletics\",\"Athletics\",\"Judo\",\"Sailing\",\"Sailing\",\"Sailing\",\"Sailing\",\"Football\",\"Football\",\"Basketball\",\"Basketball\",\"Basketball\",\"Basketball\",\"Football\",\"Volleyball\",\"Football\",\"Handball\",\"Volleyball\",\"Athletics\",\"Football\",\"Boxing\"],\"legendgroup\":\"M, Sem medalha\",\"marker\":{\"color\":\"blue\",\"opacity\":0.3,\"symbol\":\"circle\"},\"mode\":\"markers\",\"name\":\"M, Sem medalha\",\"showlegend\":true,\"x\":[1972,1976,1972,2004,1984,1988,2004,1952,1964,1972,1980,1984,1984,1988,1992,1988,1992,1996,2004,1984,2004,2008,2012,2016,1992,1936,1976,2008,2016,2016,1968,1936,1936,1936,1948,2000,1952,1956,1968,2016,2016,2016,2008,2008,2008,2016,2016,2004,2004,2004,2008,2008,2008,2012,2012,2012,2016,2016,2016,2008,1952,1976,1984,1988,2016,1996,1980,1984,2000,2016,1976,1996,1936,1980,1988,1956,1920,1920,1932,1988,1988,1952,2016,1996,1980,2012,2012,2016,1952,1956,1972,2016,1968,1972,1992,1992,1992,1998,2016,2016,2000,1968,1968,1972,1972,1972,1972,1988,1972,1972,1972,1976,1976,1976,1980,1980,2012,2016,1956,1956,1960,1960,1968,1988,1992,2004,1936,1972,1972,2000,2016,1988,1988,1976,1972,1972,1988,1992,2016,1980,1972,1976,2004,2008,2016,2000,1936,2004,2016,1992,1996,1952,1956,1960,1920,2008,2008,2012,1984,1984,1988,1988,1992,1996,2012,2016,2000,2016,2016,2016,2016,2016,2016,2016,2016,2016,2000,1988,2004,1976,2016,1972,1976,1992,1992,1972,1948,1964,2008,2012,2016,2016,1952,1984,1988,1992,1996,2000,2016,1976,1980,1980,1996,2016,1948,1948,1972,1976,1980,2000,2000,2004,2008,2012,2016,2002,2006,2014,1968,1972,1984,1984,1948,1948,1952,1952,1972,1956,2016,2004,2004,2012,2016,2016,1988,1992,1984,1948,1952,1952,1984,2016,2016,1992,1992,1992,1992,1996,1996,2000,2000,2004,2016,2016,1964,1968,1960,1960,1952,1984,1932,1936,1948,1976,1980,1980,1924,1932,1924,1960,1952,1932,1992,1964,1968,1972,1976,1980,1976,1980,1972,2016,1948,1952,2016,1924,1936,1996,1980,1984,1988,1992,1996,1984,1984,2008,2012,2016,2016,2016,1936,2012,2016,1984,1976,2016,1996,1976,1980,1984,1964,1932,1992,1988,1980,1984,1988,1984,1976,1952,1960,1980,1980,1988,1992,1984,1984,1952,1964,1968,1984,1984,1984,1984,2008,1980,1984,1952,1988,1988,1932,2000,2000,2004,2004,2004,2008,2008,2008,1992,1936,1972,2000,2000,1952,1952,1952,1976,1972,2012,2016,1964,1972,1984,1992,1996,2016,1976,2012,2012,2016,2016,2016,1968,1960,1996,2008,1960,2016,1920,2008,2012,2016,2012,1964,1948,1948,1948,2008,2012,2000,2008,2012,1960,1972,1980,1996,1972,1936,2016,2008,2012,1980,1980,1984,1984,1996,2000,2000,1924,1924,2016,1968,1968,2008,1968,1968,1976,1960,2016,2004,1984,1988,1996,1960,1960,1992,1992,1996,1996,2000,2000,2004,2004,2004,1980,2012,1952,1956,1956,1956,1960,1964,1968,1996,2016,1996,1960,1932,2000,2004,2008,1948,1952,2012,2012,2016,2016,1952,1992,1992,1936,1948,1948,2000,1948,1960,2016,1960,1992,1996,2000,2004,2004,2008,1960,1960,1984,1984,1988,1992,1996,1996,2000,2006,1996,1976,2004,2012,2016,2016,1984,1948,1948,1948,1952,1948,1948,1948,1964,2016,1984,1984,1932,1988,1992,1984,1984,1992,1924,1936,1936,1932,1972,1972,1956,1956,1960,1960,1988,2016,1984,1984,1988,1992,1992,1992,1996,1976,1976,1996,1996,1980,2004,2008,1992,2012,2012,2016,1932,1996,1980,1988,1960,1964,2008,1976,1988,1992,1996,2000,1960,2008,2016,2016,2016,1960,1960,1932,1996,1992,2008,1960,1932,1936,1936,1968,1972,1992,1992,1996,1996,2000,1980,1980,1996,2000,1964,1968,1988,1996,2000,2008,2012,2012,2016,2016,1948,1948,1956,1956,1956,1936,1932,1932,1936,1936,2004,2008,2012,1980,1984,1988,1980,1984,1988,1932,1956,1936,2004,2008,2012,2016,1932,1932,1980,1980,2012,2012,2016,2016,2000,1948,1924,1952,1936,2004,2004,1976,1980,2008,2012,2016,2004,2008,1980,1980,1996,2000,2000,2004,2004,2008,1932,2016,2016,2016,2000,2004,2000,2004,2016,1952,1952,1988,1948,1948,1952,1952,1956,1956,1988,1992,1992,1980,2004,2016,1992,1996,1976,1936,1936,1936,1936,1948,1952,1952,1964,1976,1980,2016,1952,2016,1936,2000,1972,1960,1960,1964,1964,1936,1932,1948,1952,1952,1936,1988,1972,1952,1956,1956,1936,1968,1968,1976,1980,2004,2004,1952,1972,1976,1996,1980,1984,1972,1984,1984,1988,2000,2004,2008,1968,2008,2000,2004,1936,1992,1992,1992,1996,1956,1996,1952,1952,2016,1968,1960,2000,1972,1980,1980,1980,1984,1984,1984,1984,1984,1968,2008,1992,1992,1996,1964,1988,1992,1988,1992,1960,1952,1948,1972,1952,1952,1968,1968,1932,2008,2016,1992,1996,1948,1996,2000,2004,2004,2012,2012,2016,2016,1972,2016,1988,1988,1936,2008,2012,2016,1932,2004,1936,2004,1988,1992,1996,1984,1996,1996,2008,2012,2016,1952,1960,1964,1980,1980,1984,1984,1996,1996,2000,2004,2016,1952,1984,1984,1952,1952,1956,2016,1956,1948,2016,2016,1984,1984,1996,1948,1948,1952,1960,2004,2008,2016,2000,1992,1996,2016,2016,2004,2008,1936,2008,2012,1936,1936,1936,1936,1936,1968,2016,2016,2000,2000,2004,2008,1968,1992,2016,1980,1984,1988,1992,1980,1976,1952,1956,2000,1976,1992,1992,1992,1964,1960,1976,1980,1952,2016,1976,2000,2000,1964,1952,1956,1972,1988,1932,2016,1956,1936,1964,1968,2016,1976,1992,1932,1968,1968,2012,2012,1996,1984,1956,1980,1980,1984,1984,1992,1992,2016,2016,1948,1948,1952,1952,1956,1956,1960,1960,1948,1992,1992,1996,2000,1936,1968,2000,1972,1952,1968,1968,1968,1992,1968,1968,1968,1972,1972,1972,1976,2016,2000,2000,2004,2004,2004,1980,1980,1984,1984,2000,2004,2008,2012,2016,1984,1988,1996,1972,1920,1992,1996,2000,2012,2012,1980,1988,1988,1988,1964,1964,2008,2012,1932,1988,1988,1988,1988,1988,1992,1992,1992,1964,1992,2008,2008,2012,2012,2016,2016,2016,1972,1936,1936,1936,2012,2012,2016,1972,1980,1988,1988,1992,2006,1992,1952,2012,1952,1992,1996,2004,1924,1924,1920,1920,1996,2012,2016,1996,1968,1972,1956,2000,1976,1984,1988,1992,1960,1968,2016,2016,2000,1968,1980,1996,1932,1996,2000,1996,2012,2016,1932,1996,1984,1984,1984,1984,1984,1984,1984,1952,1996,1924,1924,2016,2008,2012,1980,2016,2016,1932,1932,2004,2008,1932,1936,2014,1952,1952,1956,1960,1964,1968,2004,1972,1984,1992,2016,1992,1980,2004,2004,2008,2016,1984,1952,1960,1964,1992,1952,1956,1988,1992,2004,2008,2008,2008,2016,2016,2012,1980,1980,1984,1984,1988,1932,1936,1948,1952,1936,1968,1968,1972,1976,1980,1984,2016,2000,2004,1984,2016,1948,1932,2000,2000,2000,2016,1968,2004,1952,1948,1948,1948,1936,1936,1952,1984,2004,2008,2000,2000,2002,2006,2006,2006,2006,2000,2004,2016,1984,1992,1996,2004,1992,1992,1996,1996,2000,2000,2004,2004,2008,2012,2012,2016,2012,2016,1952,1964,2008,2008,2012,2016,1992,2016,2002,2004,1972,1984,1988,1992,1992,1996,1932,2004,1984,1988,1996,1952,2004,2004,1976,2008,2004,2004,1968,1972,2008,2008,1956,1980,1988,1988,1996,2000,1948,1948,2004,1968,2012,2012,2016,2016,1920,1920,1992,1996,1976,1976,1980,1980,1984,1984,1984,1984,2012,1976,1976,1960,1972,1976,1992,1988,1988,1992,1992,1980,1988,1988,2000,1948,1980,1980,1980,1948,1948,2000,2016,1960,1968,1936,1900,1900,1900,1956,1992,1992,1936,1992,2000,2000,2004,1976,1980,1988,1996,1996,1992,1992,1936,1936,1976,2016,1952,1952,1956,1952,1988,1988,1988,1992,1980,1996,2004,1936,1992,1920,1980,1980,1980,1984,1984,1984,1988,1988,1988,1988,1960,1960,1960,1960,1956,1956,2008,1996,2016,1968,1952,1932,2012,1996,1996,1996,2000,2000,2000,1932,1936,1956,2010,2010,2014,2014,2008,2012,1996,1936,2016,1988,1988,1988,1988,1920,1984,1992,2000,2008,1932,2016,1980,1980,1988,1988,1992,1992,2000,1976,2000,1968,2016,1992,1996,2004,1924,2016,1972,1972,1972,1972,1988,1988,1988,1980,1984,2012,2004,2004,1976,1976,1976,1980,1980,1980,1984,1984,1984,2016,1932,1996,2000,1988,1988,1992,1976,1936,2008,2016,1952,2002,1956,1956,1960,1960,1980,1984,1984,2004,2008,1920,1972,1968,2004,1980,1984,1988,1992,2000,1972,1980,1984,1932,2000,2016,2016,2016,2016,2016,2016,1948,1976,1984,1988,1996,2004,2004,2016,1952,1952,1952,2016,2016,1932,1956,1968,1996,2012,2016,1972,1980,1984,1968,1968,2014,1976,2016,2016,1960,1960,1960,2000,1972,2004,1996,2000,2000,2016,1964,1988,1988,1992,1992,1980,1980,1980,1988,1996,2000,1920,1920,1976,1952,1988,1992,1992,1996,2004,1984,1988,1988,2016,1932,2016,2016,1992,1996,1936,1936,1952,2016,2016,2008,2016,1992,1936,2016,2012,2016,2016,1984,1984,1968,1972,1996,2008,1988,1988,1988,1988,1988,1992,1992,1992,1968,1992,1992,1996,1952,2004,1992,1996,1972,1964,2004,2002,1932,1952,1956,1948,1952,1936,1980,1988,2016,1992,1992,1992,1992,1992,1992,1992,2004,2008,2008,2012,1932,1936,1936,1992,1996,2008,2008,1988,2008,1952,1952,1956,1956,2000,2004,2008,1968,1968,1972,1976,1980,2008,2004,1952,1968,1972,1976,1980,2000,1992,1992,1992,1994,1964,1936,1980,1980,1984,1984,1996,2000,2016,2012,2012,1996,1984,1932,2012,2016,2012,2016,1936,1988,1988,1992,1964,1972,1968,1968,1976,1984,1988,2000,2004,2008,2012,2016,1964,1960,1932,1932,1936,1964,1952,2016,2016,2016,2016,2016,2016,2008,2008,2008,2012,2012,2016,2016,2016,2012,2012,1972,1972,1972,1972,1992,1988,2016,1996,1956,1972,1976,1980,1984,1992,1992,2000,1980,1988,2012,1972,2016,1976,1932,1932,1936,2016,2002,2016,2004,2008,2000,1920,2016,1984,1988,1992,1948,1988,2012,1992,2000,2004,1976,1984,1920,1920,1988,1992,2004,2008,2012,2016,2016,2004,2004,2008,2008,2000,2016,2016,1996,1996,2000,2016,2012,2016,1988,1996,1960,1988,1992,1952,1936,2008,2012,1972,1980,1980,1920,1920,1996,1952,1952,2000,2016,2002,2016,1996,1980,1932,1968,1996,2000,1932,1932,1996,2004,2004,2008,2008,2008,2012,2012,2016,2000,1952,1996,2016,2016,2016,1960,1960,1992,1992,1996,2000,2004,2008,2008,2012,2012,1988,1956,1956,1964,1968,1968,1972,1992,1992,2014,1996,2000,1968,1976,2008,1984,1964,1968,1996,1996,1968,1952,1956,1988,1988,1988,1988,1988,1988,1988,2000,1960,1988,1992,1996,1964,1964,1968,1956,1956,1956,1976,1968,1964,1988,1988,1988,1948,1948,1932,2016,2016,1980,1980,1984,1984,1984,1984,1968,1972,1968,1972,1972,1932,1976,1932,1932,1992,1992,1996,1996,1932,1936,1964,1988,1988,1992,1992,2004,2016,1948,1948,1948,1932,1936,2002,2006,1936,1996,2012,2016,1996,1988,1992,1932,2012,2016,1996,1980,1988,2004,2004,2008,2008,2012,2016,2012,1924,1924,1996,1996,2004,2008,1956,1960,2016,2016,1980,1980,1980,1980,1980,1980,1980,1992,1996,1936,1948,1948,1976,1976,1980,1980,1988,1988,1988,2010,2014,1956,1948,2016,2016,2016,1992,1972,1952,1956,1960,1960,2016,2016,1988,1956,1984,1988,2008,2012,2016,1988,1996,2004,2004,2004,2004,2004,2004,2004,1948,1948,1952,1988,1996,2000,1996,1988,1992,2016,1988,1988,1988,1992,1992,1996,1996,2000,2000,2004,2000,2016,1952,1952,1968,1976,1984,1988,1952,2016,1960,1972,2016,2004,2008,2008,2000,2004,1960,1996,1980,2004,2008,2008,2016,1920,1920,1960,2016,2016,1968,1984,2000,2004,2004,2008,1988,2016,1976,2008,1988,2016,1996,2016,2008,2012,2004,2004,2012,2012,2012,2012,2012,2012,2016,2016,2016,2016,2016,2016,2016,2016,1936,1992,1996,2004,1968,2016,2016,1992,1992,2016,1952,1996,1996,2000,2000,2004,1984,2008,1980,1984,1988,1992,1996,2016,1968,1992,1992,1992,1996,2012,2016,2016,1948,1948,2012,2016,1960,2000,1924,1992,1996,1992,1996,1968,1932,1972,1980,1984,1964,1972,2004,1952,1992,2016,2016,2016,1992,1996,2012,2008,1984,2012,1996,2008,2008,2006,1992,2000,1948,1988,2016,2008,2016,2000,2000,1972,1980,1980,1988,1988,2008,1984,1948,1952,1956,1972,1968,1980,2016,2016,2016,1964,1980,1984,1948,1956,1956,2004,1992,1980,2016,1920,1920,1920,2016,2000,2004,2004,2016,1984,2004,2008,2016,2004,2004,2004,1932,2008,1992,1992,1992,1980,1984,1988,1988,2012,2016,1996,1988,1988,1932,1936,1996,1968,2008,2016,1976,1980,1964,1976,2004,1936,1996,1996,2000,1936,1992,2012,1976,1992,1996,1996,1996,1996,2016,2016,2016,1984,1988,1988,1992,1992,2016,2004,2004,1984,1988,1992,1992,1992,1972,1996,1952,1932,1952,1968,1960,2012,2016,2016,1976,1932,1996,1984,1968,2012,1988,1988,1988,2008,2008,2012,2012,1992,2008,2008,1980,1988,2008,2008,2012,2012,2016,2016,2004,2008,1972,1936,1936,1936,1964,1960,1952,2016,1996,1936,1936,1948,1948,2016,2016,2012,2004,2008,1972,1952,1920,2016,2008,2008,2016,2016,2008,2008,2012,2012,2016,2016,1980,1952,1992,1932,1932,1936,1936,1936,1936,1952,1952,1964,1968,2016,2004,1972,1972,1960,1988,1980,1972,1920,1920,1920,2004,2008,1976,1976,1980,1988,1960,1960,1964,1932,1920,1920,1920,2016,1980,2012,2016,2016,1992,1996,2004,2008,2008,1992,1960,1960,1964,1964,1948,2016,1972,1972,1972,1924,1924,1924,1996,2012,2016,1984,1988,1976,1972,1968,1972,1952,1956,1964,1976,1964,2008,1972,2016,1952,1948],\"xaxis\":\"x\",\"y\":[194.0,194.0,190.0,185.0,176.0,179.0,189.0,null,null,195.0,195.0,195.0,186.0,186.0,186.0,180.0,180.0,193.0,193.0,194.0,181.0,181.0,181.0,181.0,null,null,174.0,180.0,180.0,172.0,172.0,null,null,null,null,176.0,183.0,183.0,186.0,186.0,186.0,188.0,180.0,180.0,180.0,180.0,180.0,177.0,177.0,177.0,177.0,177.0,177.0,177.0,177.0,177.0,177.0,176.0,176.0,181.0,null,158.0,158.0,158.0,191.0,190.0,170.0,170.0,182.0,183.0,165.0,171.0,null,198.0,198.0,190.0,null,null,178.0,172.0,172.0,null,168.0,181.0,202.0,172.0,172.0,163.0,178.0,178.0,165.0,183.0,201.0,201.0,null,null,null,null,172.0,172.0,180.0,191.0,191.0,191.0,191.0,191.0,191.0,194.0,185.0,185.0,185.0,185.0,185.0,185.0,185.0,185.0,188.0,188.0,181.0,181.0,181.0,181.0,183.0,184.0,184.0,184.0,null,189.0,189.0,181.0,176.0,189.0,189.0,172.0,185.0,185.0,168.0,167.0,184.0,193.0,178.0,178.0,172.0,172.0,172.0,175.0,null,190.0,187.0,null,null,182.0,182.0,182.0,null,195.0,195.0,195.0,184.0,184.0,184.0,184.0,184.0,184.0,194.0,194.0,181.0,null,null,175.0,175.0,175.0,175.0,175.0,175.0,175.0,182.0,181.0,181.0,175.0,185.0,180.0,180.0,null,null,187.0,null,null,187.0,187.0,187.0,190.0,null,195.0,198.0,198.0,198.0,198.0,183.0,187.0,187.0,185.0,174.0,181.0,null,null,187.0,187.0,187.0,186.0,185.0,185.0,185.0,185.0,185.0,190.0,190.0,190.0,196.0,196.0,185.0,185.0,null,null,null,null,183.0,187.0,193.0,177.0,177.0,174.0,174.0,174.0,185.0,181.0,180.0,null,null,null,196.0,185.0,180.0,203.0,203.0,203.0,203.0,203.0,203.0,203.0,203.0,203.0,176.0,182.0,177.0,177.0,173.0,173.0,null,null,173.0,173.0,173.0,166.0,166.0,166.0,178.0,178.0,188.0,176.0,null,173.0,null,180.0,180.0,180.0,176.0,176.0,188.0,188.0,180.0,180.0,null,null,183.0,null,null,188.0,200.0,200.0,200.0,200.0,195.0,170.0,170.0,173.0,173.0,182.0,182.0,177.0,null,180.0,180.0,185.0,186.0,185.0,179.0,170.0,170.0,170.0,null,null,null,174.0,188.0,188.0,196.0,176.0,168.0,179.0,179.0,183.0,183.0,183.0,null,183.0,183.0,185.0,178.0,178.0,186.0,187.0,187.0,187.0,165.0,171.0,171.0,null,181.0,181.0,175.0,184.0,184.0,184.0,184.0,184.0,184.0,184.0,184.0,null,null,183.0,172.0,172.0,null,null,null,182.0,173.0,182.0,182.0,null,178.0,178.0,190.0,190.0,163.0,174.0,190.0,190.0,190.0,190.0,190.0,167.0,180.0,191.0,195.0,171.0,185.0,null,195.0,195.0,172.0,180.0,null,null,null,null,190.0,190.0,183.0,171.0,171.0,179.0,179.0,179.0,193.0,177.0,null,159.0,189.0,189.0,178.0,178.0,178.0,178.0,182.0,196.0,196.0,null,null,171.0,182.0,182.0,180.0,183.0,183.0,183.0,170.0,181.0,170.0,187.0,187.0,187.0,null,178.0,183.0,183.0,183.0,183.0,183.0,183.0,183.0,183.0,183.0,176.0,170.0,186.0,186.0,186.0,186.0,186.0,185.0,185.0,167.0,196.0,185.0,174.0,178.0,174.0,174.0,174.0,null,null,181.0,181.0,181.0,181.0,null,180.0,180.0,null,null,null,168.0,178.0,178.0,175.0,163.0,187.0,187.0,187.0,187.0,187.0,188.0,179.0,179.0,174.0,174.0,174.0,174.0,174.0,186.0,186.0,186.0,185.0,173.0,178.0,178.0,170.0,170.0,184.0,null,null,null,null,185.0,185.0,185.0,null,190.0,178.0,178.0,160.0,181.0,181.0,178.0,178.0,null,null,null,null,null,178.0,178.0,null,null,173.0,173.0,217.0,176.0,187.0,187.0,187.0,187.0,187.0,187.0,187.0,172.0,172.0,180.0,180.0,195.0,180.0,180.0,186.0,193.0,193.0,193.0,168.0,202.0,167.0,182.0,184.0,184.0,180.0,189.0,177.0,177.0,177.0,201.0,171.0,175.0,175.0,183.0,183.0,183.0,183.0,180.0,170.0,null,186.0,173.0,174.0,174.0,174.0,160.0,160.0,182.0,182.0,182.0,182.0,182.0,184.0,184.0,175.0,176.0,184.0,184.0,195.0,179.0,179.0,182.0,182.0,182.0,182.0,182.0,null,null,null,null,null,null,180.0,180.0,180.0,null,182.0,182.0,182.0,192.0,192.0,192.0,181.0,181.0,181.0,163.0,null,null,175.0,175.0,175.0,175.0,180.0,176.0,176.0,176.0,175.0,175.0,175.0,175.0,176.0,null,null,175.0,null,172.0,172.0,172.0,172.0,166.0,166.0,166.0,191.0,191.0,172.0,172.0,168.0,168.0,166.0,166.0,166.0,166.0,157.0,193.0,193.0,193.0,174.0,174.0,180.0,169.0,171.0,null,null,198.0,null,null,null,null,null,null,180.0,180.0,180.0,152.0,178.0,180.0,180.0,180.0,187.0,null,null,null,null,null,null,null,182.0,186.0,186.0,190.0,null,185.0,182.0,170.0,172.0,186.0,186.0,186.0,186.0,null,178.0,null,null,null,null,198.0,172.0,170.0,170.0,170.0,null,163.0,163.0,154.0,154.0,187.0,187.0,null,170.0,170.0,194.0,180.0,180.0,182.0,176.0,176.0,176.0,181.0,181.0,181.0,193.0,163.0,181.0,181.0,null,183.0,183.0,183.0,173.0,null,192.0,null,null,193.0,180.0,168.0,160.0,183.0,182.0,182.0,182.0,182.0,182.0,182.0,182.0,182.0,170.0,163.0,null,169.0,169.0,null,178.0,178.0,178.0,178.0,168.0,null,null,170.0,174.0,174.0,174.0,174.0,170.0,174.0,174.0,172.0,172.0,null,186.0,186.0,186.0,186.0,186.0,186.0,186.0,186.0,192.0,187.0,198.0,173.0,null,173.0,173.0,173.0,180.0,186.0,null,188.0,166.0,166.0,166.0,null,168.0,187.0,174.0,174.0,174.0,173.0,173.0,173.0,168.0,168.0,168.0,168.0,175.0,175.0,175.0,175.0,181.0,null,170.0,180.0,null,null,null,198.0,null,null,185.0,185.0,188.0,188.0,175.0,172.0,172.0,172.0,172.0,171.0,171.0,171.0,200.0,167.0,167.0,182.0,180.0,177.0,177.0,null,183.0,183.0,null,null,null,null,null,190.0,170.0,173.0,174.0,174.0,174.0,174.0,170.0,null,178.0,167.0,167.0,167.0,167.0,184.0,182.0,null,195.0,182.0,183.0,null,null,null,null,187.0,171.0,null,null,183.0,175.0,180.0,178.0,null,null,null,178.0,190.0,170.0,167.0,null,null,180.0,180.0,208.0,199.0,null,175.0,181.0,181.0,183.0,183.0,193.0,null,null,173.0,173.0,173.0,173.0,170.0,181.0,185.0,185.0,166.0,166.0,166.0,166.0,166.0,166.0,166.0,166.0,null,null,null,188.0,188.0,null,188.0,175.0,190.0,null,183.0,183.0,189.0,null,179.0,179.0,179.0,179.0,179.0,179.0,179.0,191.0,180.0,180.0,180.0,180.0,180.0,185.0,185.0,185.0,185.0,170.0,170.0,170.0,170.0,170.0,190.0,190.0,190.0,170.0,null,178.0,178.0,178.0,178.0,178.0,173.0,180.0,180.0,180.0,null,null,175.0,175.0,180.0,182.0,182.0,182.0,182.0,182.0,182.0,182.0,182.0,185.0,185.0,186.0,186.0,186.0,186.0,186.0,186.0,185.0,179.0,null,null,null,187.0,187.0,187.0,178.0,182.0,182.0,182.0,182.0,173.0,171.0,null,177.0,null,166.0,166.0,166.0,null,null,null,null,178.0,192.0,192.0,163.0,185.0,185.0,190.0,171.0,179.0,203.0,203.0,203.0,170.0,172.0,170.0,193.0,192.0,180.0,198.0,192.0,168.0,196.0,196.0,174.0,204.0,204.0,185.0,178.0,174.0,174.0,174.0,174.0,174.0,174.0,174.0,null,185.0,181.0,181.0,188.0,178.0,178.0,178.0,190.0,190.0,175.0,175.0,174.0,174.0,176.0,176.0,178.0,175.0,175.0,175.0,175.0,175.0,175.0,171.0,196.0,185.0,185.0,181.0,185.0,198.0,202.0,202.0,202.0,185.0,null,174.0,174.0,174.0,172.0,null,null,186.0,186.0,190.0,190.0,194.0,194.0,194.0,194.0,176.0,175.0,175.0,175.0,175.0,175.0,198.0,198.0,198.0,198.0,null,175.0,175.0,175.0,175.0,175.0,175.0,180.0,172.0,172.0,180.0,183.0,null,178.0,203.0,185.0,185.0,165.0,169.0,169.0,null,null,null,null,null,null,null,182.0,184.0,184.0,199.0,169.0,186.0,186.0,186.0,186.0,186.0,190.0,190.0,208.0,180.0,183.0,183.0,175.0,170.0,170.0,170.0,170.0,170.0,170.0,170.0,170.0,170.0,170.0,170.0,183.0,191.0,191.0,null,null,170.0,170.0,170.0,170.0,null,182.0,192.0,192.0,180.0,206.0,206.0,206.0,195.0,195.0,175.0,182.0,183.0,183.0,205.0,null,186.0,192.0,175.0,192.0,190.0,190.0,189.0,189.0,173.0,173.0,162.0,184.0,178.0,178.0,178.0,178.0,null,null,181.0,165.0,186.0,186.0,186.0,186.0,null,null,207.0,207.0,null,null,174.0,174.0,174.0,174.0,174.0,174.0,194.0,178.0,173.0,170.0,186.0,186.0,168.0,178.0,178.0,178.0,178.0,187.0,175.0,175.0,175.0,null,180.0,180.0,180.0,null,null,193.0,164.0,178.0,178.0,null,null,null,null,null,183.0,183.0,null,null,190.0,190.0,190.0,191.0,191.0,192.0,192.0,187.0,178.0,178.0,null,null,177.0,197.0,null,null,null,null,180.0,180.0,180.0,180.0,182.0,187.0,170.0,null,null,null,188.0,188.0,188.0,188.0,188.0,188.0,188.0,188.0,188.0,188.0,181.0,180.0,169.0,169.0,null,null,185.0,181.0,206.0,185.0,null,181.0,195.0,184.0,184.0,184.0,184.0,184.0,184.0,178.0,178.0,null,178.0,178.0,178.0,178.0,172.0,172.0,165.0,null,170.0,180.0,180.0,180.0,180.0,null,186.0,null,163.0,163.0,null,164.0,189.0,189.0,189.0,189.0,189.0,189.0,178.0,172.0,188.0,172.0,188.0,181.0,181.0,181.0,null,189.0,181.0,181.0,181.0,181.0,180.0,180.0,180.0,190.0,190.0,200.0,193.0,193.0,174.0,181.0,181.0,181.0,181.0,181.0,181.0,181.0,181.0,183.0,170.0,168.0,168.0,173.0,173.0,173.0,188.0,null,180.0,180.0,null,182.0,167.0,167.0,167.0,167.0,165.0,165.0,178.0,194.0,194.0,null,173.0,162.0,184.0,199.0,199.0,199.0,199.0,183.0,183.0,198.0,198.0,165.0,180.0,169.0,169.0,169.0,169.0,169.0,169.0,null,171.0,195.0,195.0,186.0,186.0,186.0,175.0,null,null,null,178.0,178.0,178.0,185.0,185.0,186.0,207.0,207.0,204.0,204.0,204.0,182.0,181.0,187.0,178.0,180.0,180.0,154.0,176.0,176.0,180.0,179.0,185.0,190.0,190.0,190.0,180.0,null,183.0,183.0,183.0,183.0,181.0,181.0,181.0,184.0,184.0,184.0,null,null,175.0,null,190.0,190.0,179.0,179.0,179.0,175.0,175.0,175.0,185.0,178.0,184.0,184.0,null,180.0,null,null,null,174.0,174.0,203.0,203.0,null,null,183.0,173.0,193.0,193.0,null,null,196.0,196.0,185.0,185.0,187.0,187.0,187.0,187.0,187.0,187.0,187.0,187.0,178.0,180.0,182.0,182.0,null,190.0,200.0,200.0,167.0,null,177.0,169.0,180.0,null,null,null,null,null,187.0,187.0,180.0,170.0,170.0,170.0,170.0,170.0,170.0,170.0,182.0,182.0,182.0,182.0,null,null,null,191.0,191.0,185.0,185.0,178.0,172.0,null,null,null,null,186.0,186.0,186.0,166.0,192.0,192.0,192.0,192.0,189.0,182.0,null,178.0,178.0,179.0,186.0,179.0,188.0,188.0,188.0,188.0,null,183.0,178.0,178.0,178.0,178.0,196.0,196.0,172.0,172.0,172.0,198.0,185.0,180.0,211.0,211.0,164.0,164.0,null,181.0,181.0,181.0,192.0,181.0,175.0,175.0,180.0,180.0,180.0,189.0,189.0,189.0,189.0,186.0,null,179.0,null,null,null,185.0,null,182.0,182.0,169.0,173.0,173.0,188.0,195.0,195.0,195.0,195.0,195.0,195.0,195.0,195.0,180.0,180.0,187.0,187.0,187.0,187.0,null,176.0,183.0,211.0,null,165.0,165.0,165.0,165.0,196.0,196.0,196.0,168.0,168.0,190.0,178.0,181.0,182.0,183.0,183.0,183.0,177.0,181.0,184.0,174.0,174.0,175.0,null,172.0,171.0,180.0,180.0,null,194.0,183.0,null,168.0,168.0,176.0,176.0,null,null,180.0,180.0,173.0,173.0,173.0,173.0,173.0,180.0,180.0,180.0,180.0,179.0,179.0,179.0,194.0,194.0,194.0,173.0,170.0,170.0,201.0,201.0,172.0,217.0,217.0,null,null,186.0,186.0,173.0,185.0,185.0,null,null,null,null,null,187.0,174.0,174.0,185.0,187.0,182.0,178.0,188.0,198.0,198.0,185.0,185.0,176.0,187.0,187.0,187.0,187.0,187.0,187.0,187.0,187.0,167.0,null,190.0,179.0,179.0,183.0,175.0,175.0,177.0,177.0,177.0,177.0,177.0,177.0,177.0,177.0,177.0,172.0,175.0,175.0,175.0,175.0,175.0,175.0,175.0,175.0,182.0,192.0,173.0,197.0,197.0,172.0,169.0,188.0,188.0,195.0,182.0,185.0,null,null,173.0,173.0,173.0,173.0,173.0,173.0,173.0,180.0,165.0,204.0,204.0,204.0,185.0,185.0,185.0,null,null,null,178.0,166.0,null,187.0,187.0,187.0,null,null,182.0,165.0,192.0,158.0,158.0,158.0,158.0,158.0,158.0,178.0,178.0,175.0,175.0,181.0,180.0,182.0,173.0,173.0,175.0,175.0,175.0,175.0,180.0,180.0,182.0,185.0,185.0,185.0,185.0,177.0,167.0,null,null,null,178.0,null,181.0,181.0,null,181.0,192.0,192.0,170.0,177.0,177.0,173.0,185.0,185.0,175.0,190.0,190.0,186.0,186.0,186.0,186.0,171.0,171.0,182.0,null,null,190.0,190.0,190.0,186.0,168.0,168.0,180.0,180.0,173.0,173.0,173.0,173.0,173.0,173.0,173.0,null,178.0,null,null,null,181.0,181.0,181.0,181.0,185.0,185.0,185.0,184.0,184.0,null,180.0,192.0,193.0,193.0,null,178.0,null,null,170.0,170.0,181.0,172.0,null,null,181.0,181.0,190.0,194.0,194.0,170.0,180.0,169.0,169.0,169.0,169.0,169.0,169.0,169.0,null,null,null,185.0,175.0,171.0,201.0,214.0,214.0,187.0,181.0,181.0,181.0,181.0,181.0,181.0,181.0,181.0,181.0,181.0,180.0,163.0,180.0,180.0,190.0,176.0,185.0,185.0,null,184.0,null,170.0,173.0,186.0,186.0,192.0,189.0,189.0,172.0,182.0,189.0,176.0,176.0,176.0,191.0,170.0,170.0,190.0,182.0,182.0,180.0,160.0,166.0,166.0,183.0,183.0,168.0,189.0,170.0,182.0,182.0,184.0,180.0,194.0,190.0,190.0,185.0,185.0,161.0,161.0,161.0,161.0,161.0,161.0,161.0,161.0,161.0,161.0,161.0,161.0,161.0,161.0,null,184.0,184.0,184.0,191.0,184.0,183.0,null,null,188.0,null,193.0,193.0,193.0,193.0,193.0,176.0,197.0,205.0,205.0,205.0,205.0,205.0,187.0,186.0,null,null,null,197.0,190.0,190.0,190.0,null,null,190.0,190.0,169.0,178.0,null,183.0,183.0,170.0,170.0,191.0,178.0,184.0,160.0,160.0,166.0,166.0,185.0,null,174.0,174.0,181.0,170.0,183.0,183.0,175.0,196.0,183.0,188.0,176.0,177.0,191.0,181.0,182.0,182.0,null,182.0,190.0,160.0,160.0,194.0,194.0,170.0,173.0,173.0,173.0,173.0,170.0,207.0,null,null,null,163.0,185.0,187.0,184.0,173.0,194.0,null,190.0,190.0,null,null,null,182.0,null,173.0,190.0,null,null,null,196.0,168.0,168.0,168.0,187.0,189.0,199.0,199.0,189.0,193.0,193.0,193.0,183.0,183.0,null,null,null,187.0,187.0,178.0,178.0,210.0,161.0,188.0,177.0,177.0,160.0,160.0,182.0,200.0,184.0,184.0,191.0,191.0,null,190.0,194.0,null,168.0,200.0,200.0,null,null,188.0,176.0,192.0,192.0,192.0,185.0,185.0,192.0,172.0,182.0,174.0,174.0,174.0,174.0,174.0,180.0,176.0,176.0,187.0,187.0,187.0,196.0,196.0,169.0,187.0,null,180.0,null,180.0,170.0,176.0,176.0,176.0,168.0,180.0,203.0,188.0,176.0,206.0,175.0,175.0,175.0,180.0,180.0,180.0,180.0,null,180.0,180.0,177.0,177.0,170.0,170.0,170.0,170.0,170.0,170.0,184.0,184.0,180.0,null,null,null,null,171.0,null,176.0,186.0,null,null,null,null,180.0,178.0,211.0,194.0,194.0,160.0,null,null,178.0,181.0,181.0,181.0,181.0,188.0,188.0,188.0,188.0,171.0,171.0,164.0,null,null,null,null,null,null,null,null,null,null,187.0,187.0,196.0,180.0,185.0,185.0,174.0,170.0,191.0,172.0,null,null,null,163.0,165.0,180.0,185.0,185.0,185.0,164.0,164.0,164.0,180.0,175.0,175.0,175.0,169.0,193.0,191.0,191.0,191.0,180.0,180.0,186.0,173.0,173.0,null,187.0,187.0,187.0,187.0,null,156.0,184.0,184.0,184.0,null,null,null,180.0,191.0,191.0,190.0,190.0,180.0,172.0,200.0,200.0,195.0,195.0,null,177.0,null,190.0,186.0,184.0,null,null],\"yaxis\":\"y\",\"type\":\"scattergl\"},{\"customdata\":[[\"Silver\"],[\"Silver\"],[\"Silver\"],[\"Silver\"],[\"Silver\"],[\"Silver\"],[\"Silver\"],[\"Silver\"],[\"Silver\"],[\"Silver\"],[\"Silver\"],[\"Silver\"],[\"Silver\"],[\"Silver\"],[\"Silver\"],[\"Silver\"],[\"Silver\"],[\"Silver\"],[\"Silver\"],[\"Silver\"],[\"Silver\"],[\"Silver\"],[\"Silver\"],[\"Silver\"],[\"Silver\"],[\"Silver\"],[\"Silver\"],[\"Silver\"],[\"Silver\"],[\"Silver\"],[\"Silver\"],[\"Silver\"],[\"Silver\"],[\"Silver\"],[\"Silver\"],[\"Silver\"],[\"Silver\"],[\"Silver\"],[\"Silver\"],[\"Silver\"],[\"Silver\"],[\"Silver\"],[\"Silver\"],[\"Silver\"],[\"Silver\"],[\"Silver\"],[\"Silver\"],[\"Silver\"],[\"Silver\"],[\"Silver\"],[\"Silver\"],[\"Silver\"],[\"Silver\"],[\"Silver\"],[\"Silver\"],[\"Silver\"],[\"Silver\"],[\"Silver\"],[\"Silver\"],[\"Silver\"],[\"Silver\"],[\"Silver\"],[\"Silver\"],[\"Silver\"],[\"Silver\"],[\"Silver\"],[\"Silver\"],[\"Silver\"],[\"Silver\"],[\"Silver\"],[\"Silver\"],[\"Silver\"],[\"Silver\"],[\"Silver\"],[\"Silver\"],[\"Silver\"],[\"Silver\"],[\"Silver\"],[\"Silver\"],[\"Silver\"],[\"Silver\"],[\"Silver\"],[\"Silver\"],[\"Silver\"],[\"Silver\"],[\"Silver\"],[\"Silver\"],[\"Silver\"],[\"Silver\"],[\"Silver\"],[\"Silver\"],[\"Silver\"],[\"Silver\"],[\"Silver\"],[\"Silver\"],[\"Silver\"],[\"Silver\"],[\"Silver\"],[\"Silver\"],[\"Silver\"],[\"Silver\"],[\"Silver\"],[\"Silver\"],[\"Silver\"],[\"Silver\"],[\"Silver\"],[\"Silver\"],[\"Silver\"],[\"Silver\"],[\"Silver\"],[\"Silver\"],[\"Silver\"],[\"Silver\"],[\"Silver\"]],\"hovertemplate\":\"<b>%{hovertext}</b><br><br>Sex=M<br>Medal=%{customdata[0]}<br>Year=%{x}<br>Height=%{y}<extra></extra>\",\"hovertext\":[\"Football\",\"Football\",\"Sailing\",\"Football\",\"Football\",\"Football\",\"Volleyball\",\"Volleyball\",\"Volleyball\",\"Football\",\"Football\",\"Volleyball\",\"Football\",\"Football\",\"Volleyball\",\"Volleyball\",\"Swimming\",\"Swimming\",\"Volleyball\",\"Volleyball\",\"Judo\",\"Football\",\"Football\",\"Football\",\"Athletics\",\"Football\",\"Shooting\",\"Athletics\",\"Athletics\",\"Football\",\"Football\",\"Volleyball\",\"Volleyball\",\"Football\",\"Athletics\",\"Volleyball\",\"Football\",\"Football\",\"Volleyball\",\"Volleyball\",\"Volleyball\",\"Boxing\",\"Football\",\"Football\",\"Football\",\"Football\",\"Volleyball\",\"Volleyball\",\"Football\",\"Football\",\"Sailing\",\"Volleyball\",\"Volleyball\",\"Judo\",\"Football\",\"Gymnastics\",\"Football\",\"Football\",\"Football\",\"Football\",\"Football\",\"Volleyball\",\"Football\",\"Volleyball\",\"Football\",\"Volleyball\",\"Volleyball\",\"Volleyball\",\"Volleyball\",\"Football\",\"Football\",\"Volleyball\",\"Football\",\"Football\",\"Swimming\",\"Football\",\"Sailing\",\"Swimming\",\"Athletics\",\"Canoeing\",\"Canoeing\",\"Football\",\"Volleyball\",\"Athletics\",\"Volleyball\",\"Volleyball\",\"Volleyball\",\"Football\",\"Football\",\"Football\",\"Volleyball\",\"Volleyball\",\"Volleyball\",\"Football\",\"Football\",\"Sailing\",\"Sailing\",\"Sailing\",\"Volleyball\",\"Canoeing\",\"Football\",\"Football\",\"Athletics\",\"Football\",\"Football\",\"Football\",\"Judo\",\"Volleyball\",\"Volleyball\",\"Football\",\"Football\",\"Shooting\",\"Volleyball\",\"Gymnastics\"],\"legendgroup\":\"M, Silver\",\"marker\":{\"color\":\"blue\",\"opacity\":0.3,\"symbol\":\"diamond\"},\"mode\":\"markers\",\"name\":\"M, Silver\",\"showlegend\":true,\"x\":[1984,1988,1984,2012,2012,1988,2012,1984,2008,1988,1984,1984,1988,1988,1984,1984,1992,1996,2008,2012,2000,1988,1984,1988,1988,1984,1920,2000,2000,2012,2012,2008,2012,1984,2000,1984,1984,1988,2008,2012,1984,2012,2012,1984,2012,1988,2008,2012,1984,1984,1984,2008,2008,2000,2012,2016,1988,1988,2012,1984,2012,2008,2012,1984,1988,1984,2008,2012,2008,1988,2012,2012,2012,2012,2012,1984,2008,1984,1968,2016,2016,2012,1984,2000,2012,2008,2012,1988,2012,1984,1984,2012,2008,2012,1984,2000,2008,1984,2012,2016,2012,1984,2000,1988,1984,2012,1984,2012,1984,1984,1988,2016,1984,2016],\"xaxis\":\"x\",\"y\":[179.0,179.0,180.0,177.0,179.0,182.0,194.0,198.0,190.0,170.0,180.0,193.0,179.0,177.0,187.0,185.0,203.0,203.0,190.0,190.0,180.0,170.0,185.0,172.0,187.0,178.0,178.0,187.0,186.0,187.0,184.0,201.0,201.0,178.0,166.0,198.0,174.0,175.0,184.0,184.0,199.0,171.0,193.0,180.0,184.0,169.0,192.0,192.0,185.0,null,185.0,203.0,199.0,175.0,180.0,170.0,170.0,174.0,185.0,180.0,173.0,183.0,173.0,195.0,178.0,187.0,190.0,190.0,195.0,173.0,191.0,212.0,174.0,179.0,187.0,null,185.0,158.0,182.0,175.0,175.0,172.0,190.0,190.0,191.0,205.0,205.0,169.0,184.0,null,194.0,209.0,200.0,187.0,178.0,188.0,188.0,170.0,203.0,175.0,183.0,169.0,168.0,182.0,null,190.0,170.0,198.0,185.0,177.0,177.0,169.0,193.0,156.0],\"yaxis\":\"y\",\"type\":\"scattergl\"},{\"customdata\":[[\"Gold\"],[\"Gold\"],[\"Gold\"],[\"Gold\"],[\"Gold\"],[\"Gold\"],[\"Gold\"],[\"Gold\"],[\"Gold\"],[\"Gold\"],[\"Gold\"],[\"Gold\"],[\"Gold\"],[\"Gold\"],[\"Gold\"],[\"Gold\"],[\"Gold\"],[\"Gold\"],[\"Gold\"],[\"Gold\"],[\"Gold\"],[\"Gold\"],[\"Gold\"],[\"Gold\"],[\"Gold\"],[\"Gold\"],[\"Gold\"],[\"Gold\"],[\"Gold\"],[\"Gold\"],[\"Gold\"],[\"Gold\"],[\"Gold\"],[\"Gold\"],[\"Gold\"],[\"Gold\"],[\"Gold\"],[\"Gold\"],[\"Gold\"],[\"Gold\"],[\"Gold\"],[\"Gold\"],[\"Gold\"],[\"Gold\"],[\"Gold\"],[\"Gold\"],[\"Gold\"],[\"Gold\"],[\"Gold\"],[\"Gold\"],[\"Gold\"],[\"Gold\"],[\"Gold\"],[\"Gold\"],[\"Gold\"],[\"Gold\"],[\"Gold\"],[\"Gold\"],[\"Gold\"],[\"Gold\"],[\"Gold\"],[\"Gold\"],[\"Gold\"],[\"Gold\"],[\"Gold\"],[\"Gold\"],[\"Gold\"],[\"Gold\"],[\"Gold\"],[\"Gold\"],[\"Gold\"],[\"Gold\"],[\"Gold\"],[\"Gold\"]],\"hovertemplate\":\"<b>%{hovertext}</b><br><br>Sex=M<br>Medal=%{customdata[0]}<br>Year=%{x}<br>Height=%{y}<extra></extra>\",\"hovertext\":[\"Volleyball\",\"Volleyball\",\"Volleyball\",\"Sailing\",\"Volleyball\",\"Athletics\",\"Volleyball\",\"Judo\",\"Volleyball\",\"Swimming\",\"Boxing\",\"Athletics\",\"Athletics\",\"Athletics\",\"Volleyball\",\"Volleyball\",\"Football\",\"Volleyball\",\"Volleyball\",\"Volleyball\",\"Football\",\"Sailing\",\"Sailing\",\"Football\",\"Football\",\"Volleyball\",\"Volleyball\",\"Volleyball\",\"Sailing\",\"Sailing\",\"Volleyball\",\"Volleyball\",\"Volleyball\",\"Volleyball\",\"Volleyball\",\"Football\",\"Football\",\"Volleyball\",\"Volleyball\",\"Football\",\"Volleyball\",\"Volleyball\",\"Judo\",\"Volleyball\",\"Volleyball\",\"Volleyball\",\"Football\",\"Volleyball\",\"Shooting\",\"Volleyball\",\"Sailing\",\"Equestrianism\",\"Football\",\"Football\",\"Volleyball\",\"Volleyball\",\"Football\",\"Football\",\"Volleyball\",\"Sailing\",\"Sailing\",\"Sailing\",\"Volleyball\",\"Volleyball\",\"Volleyball\",\"Volleyball\",\"Football\",\"Football\",\"Volleyball\",\"Sailing\",\"Football\",\"Football\",\"Gymnastics\",\"Football\"],\"legendgroup\":\"M, Gold\",\"marker\":{\"color\":\"blue\",\"opacity\":0.3,\"symbol\":\"square\"},\"mode\":\"markers\",\"name\":\"M, Gold\",\"showlegend\":true,\"x\":[1992,2004,2016,1980,2016,2016,2016,1992,1992,2008,2016,1984,1952,1956,2004,1992,2016,2016,2004,2016,2016,1996,2004,2016,2016,2004,1992,2004,1996,2004,2016,2004,2004,1992,1992,2016,2016,2016,2016,2016,1992,2004,1988,2004,2004,1992,2016,1992,1920,1992,1980,2004,2016,2016,2004,2004,2016,2016,2016,1996,2004,1980,2016,2016,1992,1992,2016,2016,2016,1980,2016,2016,2012,2016],\"xaxis\":\"x\",\"y\":[198.0,190.0,186.0,184.0,199.0,183.0,190.0,null,196.0,195.0,171.0,187.0,178.0,178.0,201.0,200.0,173.0,205.0,184.0,184.0,178.0,181.0,181.0,178.0,175.0,192.0,196.0,196.0,185.0,185.0,207.0,203.0,199.0,195.0,192.0,180.0,183.0,195.0,196.0,185.0,184.0,184.0,180.0,196.0,195.0,198.0,174.0,194.0,null,201.0,177.0,177.0,172.0,186.0,191.0,205.0,182.0,186.0,209.0,188.0,188.0,173.0,199.0,209.0,194.0,200.0,178.0,188.0,198.0,186.0,189.0,176.0,156.0,170.0],\"yaxis\":\"y\",\"type\":\"scattergl\"},{\"customdata\":[[\"Bronze\"],[\"Bronze\"],[\"Bronze\"],[\"Bronze\"],[\"Bronze\"],[\"Bronze\"],[\"Bronze\"],[\"Bronze\"],[\"Bronze\"],[\"Bronze\"],[\"Bronze\"],[\"Bronze\"],[\"Bronze\"],[\"Bronze\"],[\"Bronze\"],[\"Bronze\"],[\"Bronze\"],[\"Bronze\"],[\"Bronze\"],[\"Bronze\"],[\"Bronze\"],[\"Bronze\"],[\"Bronze\"],[\"Bronze\"],[\"Bronze\"],[\"Bronze\"],[\"Bronze\"],[\"Bronze\"],[\"Bronze\"],[\"Bronze\"],[\"Bronze\"],[\"Bronze\"],[\"Bronze\"],[\"Bronze\"],[\"Bronze\"],[\"Bronze\"],[\"Bronze\"],[\"Bronze\"],[\"Bronze\"],[\"Bronze\"],[\"Bronze\"],[\"Bronze\"],[\"Bronze\"],[\"Bronze\"],[\"Bronze\"],[\"Bronze\"],[\"Bronze\"],[\"Bronze\"],[\"Bronze\"],[\"Bronze\"],[\"Bronze\"],[\"Bronze\"],[\"Bronze\"],[\"Bronze\"],[\"Bronze\"],[\"Bronze\"],[\"Bronze\"],[\"Bronze\"],[\"Bronze\"],[\"Bronze\"],[\"Bronze\"],[\"Bronze\"],[\"Bronze\"],[\"Bronze\"],[\"Bronze\"],[\"Bronze\"],[\"Bronze\"],[\"Bronze\"],[\"Bronze\"],[\"Bronze\"],[\"Bronze\"],[\"Bronze\"],[\"Bronze\"],[\"Bronze\"],[\"Bronze\"],[\"Bronze\"],[\"Bronze\"],[\"Bronze\"],[\"Bronze\"],[\"Bronze\"],[\"Bronze\"],[\"Bronze\"],[\"Bronze\"],[\"Bronze\"],[\"Bronze\"],[\"Bronze\"],[\"Bronze\"],[\"Bronze\"],[\"Bronze\"],[\"Bronze\"],[\"Bronze\"],[\"Bronze\"],[\"Bronze\"],[\"Bronze\"],[\"Bronze\"],[\"Bronze\"],[\"Bronze\"],[\"Bronze\"],[\"Bronze\"],[\"Bronze\"],[\"Bronze\"],[\"Bronze\"],[\"Bronze\"],[\"Bronze\"],[\"Bronze\"],[\"Bronze\"],[\"Bronze\"],[\"Bronze\"],[\"Bronze\"],[\"Bronze\"],[\"Bronze\"],[\"Bronze\"],[\"Bronze\"],[\"Bronze\"],[\"Bronze\"],[\"Bronze\"],[\"Bronze\"],[\"Bronze\"],[\"Bronze\"],[\"Bronze\"],[\"Bronze\"],[\"Bronze\"],[\"Bronze\"],[\"Bronze\"],[\"Bronze\"],[\"Bronze\"],[\"Bronze\"],[\"Bronze\"],[\"Bronze\"],[\"Bronze\"],[\"Bronze\"],[\"Bronze\"],[\"Bronze\"],[\"Bronze\"],[\"Bronze\"],[\"Bronze\"],[\"Bronze\"],[\"Bronze\"],[\"Bronze\"],[\"Bronze\"]],\"hovertemplate\":\"<b>%{hovertext}</b><br><br>Sex=M<br>Medal=%{customdata[0]}<br>Year=%{x}<br>Height=%{y}<extra></extra>\",\"hovertext\":[\"Football\",\"Football\",\"Basketball\",\"Basketball\",\"Football\",\"Basketball\",\"Basketball\",\"Football\",\"Football\",\"Shooting\",\"Football\",\"Basketball\",\"Basketball\",\"Basketball\",\"Basketball\",\"Swimming\",\"Swimming\",\"Basketball\",\"Football\",\"Judo\",\"Judo\",\"Judo\",\"Swimming\",\"Swimming\",\"Football\",\"Sailing\",\"Sailing\",\"Sailing\",\"Athletics\",\"Shooting\",\"Basketball\",\"Athletics\",\"Athletics\",\"Judo\",\"Judo\",\"Athletics\",\"Athletics\",\"Equestrianism\",\"Equestrianism\",\"Athletics\",\"Basketball\",\"Athletics\",\"Athletics\",\"Athletics\",\"Athletics\",\"Boxing\",\"Swimming\",\"Basketball\",\"Football\",\"Football\",\"Equestrianism\",\"Equestrianism\",\"Swimming\",\"Basketball\",\"Basketball\",\"Basketball\",\"Sailing\",\"Boxing\",\"Basketball\",\"Sailing\",\"Sailing\",\"Sailing\",\"Basketball\",\"Basketball\",\"Sailing\",\"Sailing\",\"Sailing\",\"Sailing\",\"Football\",\"Judo\",\"Judo\",\"Judo\",\"Football\",\"Football\",\"Judo\",\"Basketball\",\"Basketball\",\"Swimming\",\"Football\",\"Equestrianism\",\"Equestrianism\",\"Football\",\"Judo\",\"Swimming\",\"Football\",\"Football\",\"Swimming\",\"Football\",\"Football\",\"Gymnastics\",\"Basketball\",\"Basketball\",\"Basketball\",\"Swimming\",\"Judo\",\"Basketball\",\"Athletics\",\"Basketball\",\"Basketball\",\"Football\",\"Football\",\"Swimming\",\"Judo\",\"Basketball\",\"Shooting\",\"Sailing\",\"Equestrianism\",\"Equestrianism\",\"Sailing\",\"Athletics\",\"Canoeing\",\"Football\",\"Football\",\"Football\",\"Athletics\",\"Football\",\"Football\",\"Football\",\"Football\",\"Basketball\",\"Basketball\",\"Football\",\"Sailing\",\"Swimming\",\"Swimming\",\"Basketball\",\"Football\",\"Football\",\"Swimming\",\"Basketball\",\"Taekwondo\",\"Football\",\"Shooting\",\"Basketball\",\"Basketball\",\"Basketball\",\"Athletics\",\"Shooting\",\"Football\",\"Football\"],\"legendgroup\":\"M, Bronze\",\"marker\":{\"color\":\"blue\",\"opacity\":0.3,\"symbol\":\"x\"},\"mode\":\"markers\",\"name\":\"M, Bronze\",\"showlegend\":true,\"x\":[1996,2008,1948,1960,1996,1960,1964,2008,1996,1920,1996,1964,1960,1960,1960,1996,2000,1948,2008,2008,2004,1984,2008,2012,1996,1968,1976,1968,1952,1920,1948,1996,1996,2012,2016,1988,1996,1996,2000,2008,1948,2004,2008,1976,1980,1968,1980,1948,1996,2008,1996,2000,1960,1960,1964,1948,1988,2012,1960,2000,1976,1988,1964,1948,1988,1996,1988,2000,1996,2004,2008,1996,2008,2008,1972,1960,1964,2000,2008,1996,2000,1996,2012,1980,2008,1996,1980,1996,2008,2016,1960,1964,1948,1980,1996,1964,2008,1960,1964,1996,2008,1952,1984,1948,1920,1996,1996,2000,2012,1972,2016,2008,2008,2008,1996,1996,1996,1996,2008,1960,1964,1996,2012,1996,2000,1964,2008,2008,2000,1964,2016,2008,1920,1948,1960,1964,2008,1920,1996,1996],\"xaxis\":\"x\",\"y\":[183.0,179.0,183.0,183.0,170.0,190.0,190.0,176.0,183.0,null,177.0,196.0,181.0,189.0,192.0,203.0,203.0,null,187.0,180.0,179.0,183.0,195.0,195.0,177.0,179.0,179.0,177.0,186.0,178.0,null,187.0,174.0,203.0,203.0,187.0,187.0,179.0,179.0,182.0,175.0,168.0,166.0,186.0,186.0,160.0,182.0,null,195.0,173.0,186.0,186.0,184.0,195.0,195.0,null,180.0,181.0,180.0,181.0,190.0,182.0,193.0,null,185.0,185.0,185.0,185.0,186.0,176.0,176.0,172.0,180.0,170.0,180.0,186.0,186.0,190.0,189.0,178.0,178.0,167.0,164.0,188.0,179.0,178.0,181.0,175.0,173.0,169.0,185.0,185.0,null,181.0,180.0,189.0,172.0,178.0,178.0,184.0,182.0,null,168.0,180.0,null,187.0,177.0,177.0,185.0,182.0,175.0,172.0,179.0,187.0,190.0,186.0,168.0,183.0,180.0,190.0,190.0,176.0,188.0,193.0,193.0,191.0,192.0,183.0,194.0,185.0,190.0,173.0,null,null,200.0,200.0,188.0,175.0,178.0,175.0],\"yaxis\":\"y\",\"type\":\"scattergl\"},{\"customdata\":[[\"Sem medalha\"],[\"Sem medalha\"],[\"Sem medalha\"],[\"Sem medalha\"],[\"Sem medalha\"],[\"Sem medalha\"],[\"Sem medalha\"],[\"Sem medalha\"],[\"Sem medalha\"],[\"Sem medalha\"],[\"Sem medalha\"],[\"Sem medalha\"],[\"Sem medalha\"],[\"Sem medalha\"],[\"Sem medalha\"],[\"Sem medalha\"],[\"Sem medalha\"],[\"Sem medalha\"],[\"Sem medalha\"],[\"Sem medalha\"],[\"Sem medalha\"],[\"Sem medalha\"],[\"Sem medalha\"],[\"Sem medalha\"],[\"Sem medalha\"],[\"Sem medalha\"],[\"Sem medalha\"],[\"Sem medalha\"],[\"Sem medalha\"],[\"Sem medalha\"],[\"Sem medalha\"],[\"Sem medalha\"],[\"Sem medalha\"],[\"Sem medalha\"],[\"Sem medalha\"],[\"Sem medalha\"],[\"Sem medalha\"],[\"Sem medalha\"],[\"Sem medalha\"],[\"Sem medalha\"],[\"Sem medalha\"],[\"Sem medalha\"],[\"Sem medalha\"],[\"Sem medalha\"],[\"Sem medalha\"],[\"Sem medalha\"],[\"Sem medalha\"],[\"Sem medalha\"],[\"Sem medalha\"],[\"Sem medalha\"],[\"Sem medalha\"],[\"Sem medalha\"],[\"Sem medalha\"],[\"Sem medalha\"],[\"Sem medalha\"],[\"Sem medalha\"],[\"Sem medalha\"],[\"Sem medalha\"],[\"Sem medalha\"],[\"Sem medalha\"],[\"Sem medalha\"],[\"Sem medalha\"],[\"Sem medalha\"],[\"Sem medalha\"],[\"Sem medalha\"],[\"Sem medalha\"],[\"Sem medalha\"],[\"Sem medalha\"],[\"Sem medalha\"],[\"Sem medalha\"],[\"Sem medalha\"],[\"Sem medalha\"],[\"Sem medalha\"],[\"Sem medalha\"],[\"Sem medalha\"],[\"Sem medalha\"],[\"Sem medalha\"],[\"Sem medalha\"],[\"Sem medalha\"],[\"Sem medalha\"],[\"Sem medalha\"],[\"Sem medalha\"],[\"Sem medalha\"],[\"Sem medalha\"],[\"Sem medalha\"],[\"Sem medalha\"],[\"Sem medalha\"],[\"Sem medalha\"],[\"Sem medalha\"],[\"Sem medalha\"],[\"Sem medalha\"],[\"Sem medalha\"],[\"Sem medalha\"],[\"Sem medalha\"],[\"Sem medalha\"],[\"Sem medalha\"],[\"Sem medalha\"],[\"Sem medalha\"],[\"Sem medalha\"],[\"Sem medalha\"],[\"Sem medalha\"],[\"Sem medalha\"],[\"Sem medalha\"],[\"Sem medalha\"],[\"Sem medalha\"],[\"Sem medalha\"],[\"Sem medalha\"],[\"Sem medalha\"],[\"Sem medalha\"],[\"Sem medalha\"],[\"Sem medalha\"],[\"Sem medalha\"],[\"Sem medalha\"],[\"Sem medalha\"],[\"Sem medalha\"],[\"Sem medalha\"],[\"Sem medalha\"],[\"Sem medalha\"],[\"Sem medalha\"],[\"Sem medalha\"],[\"Sem medalha\"],[\"Sem medalha\"],[\"Sem medalha\"],[\"Sem medalha\"],[\"Sem medalha\"],[\"Sem medalha\"],[\"Sem medalha\"],[\"Sem medalha\"],[\"Sem medalha\"],[\"Sem medalha\"],[\"Sem medalha\"],[\"Sem medalha\"],[\"Sem medalha\"],[\"Sem medalha\"],[\"Sem medalha\"],[\"Sem medalha\"],[\"Sem medalha\"],[\"Sem medalha\"],[\"Sem medalha\"],[\"Sem medalha\"],[\"Sem medalha\"],[\"Sem medalha\"],[\"Sem medalha\"],[\"Sem medalha\"],[\"Sem medalha\"],[\"Sem medalha\"],[\"Sem medalha\"],[\"Sem medalha\"],[\"Sem medalha\"],[\"Sem medalha\"],[\"Sem medalha\"],[\"Sem medalha\"],[\"Sem medalha\"],[\"Sem medalha\"],[\"Sem medalha\"],[\"Sem medalha\"],[\"Sem medalha\"],[\"Sem medalha\"],[\"Sem medalha\"],[\"Sem medalha\"],[\"Sem medalha\"],[\"Sem medalha\"],[\"Sem medalha\"],[\"Sem medalha\"],[\"Sem medalha\"],[\"Sem medalha\"],[\"Sem medalha\"],[\"Sem medalha\"],[\"Sem medalha\"],[\"Sem medalha\"],[\"Sem medalha\"],[\"Sem medalha\"],[\"Sem medalha\"],[\"Sem medalha\"],[\"Sem medalha\"],[\"Sem medalha\"],[\"Sem medalha\"],[\"Sem medalha\"],[\"Sem medalha\"],[\"Sem medalha\"],[\"Sem medalha\"],[\"Sem medalha\"],[\"Sem medalha\"],[\"Sem medalha\"],[\"Sem medalha\"],[\"Sem medalha\"],[\"Sem medalha\"],[\"Sem medalha\"],[\"Sem medalha\"],[\"Sem medalha\"],[\"Sem medalha\"],[\"Sem medalha\"],[\"Sem medalha\"],[\"Sem medalha\"],[\"Sem medalha\"],[\"Sem medalha\"],[\"Sem medalha\"],[\"Sem medalha\"],[\"Sem medalha\"],[\"Sem medalha\"],[\"Sem medalha\"],[\"Sem medalha\"],[\"Sem medalha\"],[\"Sem medalha\"],[\"Sem medalha\"],[\"Sem medalha\"],[\"Sem medalha\"],[\"Sem medalha\"],[\"Sem medalha\"],[\"Sem medalha\"],[\"Sem medalha\"],[\"Sem medalha\"],[\"Sem medalha\"],[\"Sem medalha\"],[\"Sem medalha\"],[\"Sem medalha\"],[\"Sem medalha\"],[\"Sem medalha\"],[\"Sem medalha\"],[\"Sem medalha\"],[\"Sem medalha\"],[\"Sem medalha\"],[\"Sem medalha\"],[\"Sem medalha\"],[\"Sem medalha\"],[\"Sem medalha\"],[\"Sem medalha\"],[\"Sem medalha\"],[\"Sem medalha\"],[\"Sem medalha\"],[\"Sem medalha\"],[\"Sem medalha\"],[\"Sem medalha\"],[\"Sem medalha\"],[\"Sem medalha\"],[\"Sem medalha\"],[\"Sem medalha\"],[\"Sem medalha\"],[\"Sem medalha\"],[\"Sem medalha\"],[\"Sem medalha\"],[\"Sem medalha\"],[\"Sem medalha\"],[\"Sem medalha\"],[\"Sem medalha\"],[\"Sem medalha\"],[\"Sem medalha\"],[\"Sem medalha\"],[\"Sem medalha\"],[\"Sem medalha\"],[\"Sem medalha\"],[\"Sem medalha\"],[\"Sem medalha\"],[\"Sem medalha\"],[\"Sem medalha\"],[\"Sem medalha\"],[\"Sem medalha\"],[\"Sem medalha\"],[\"Sem medalha\"],[\"Sem medalha\"],[\"Sem medalha\"],[\"Sem medalha\"],[\"Sem medalha\"],[\"Sem medalha\"],[\"Sem medalha\"],[\"Sem medalha\"],[\"Sem medalha\"],[\"Sem medalha\"],[\"Sem medalha\"],[\"Sem medalha\"],[\"Sem medalha\"],[\"Sem medalha\"],[\"Sem medalha\"],[\"Sem medalha\"],[\"Sem medalha\"],[\"Sem medalha\"],[\"Sem medalha\"],[\"Sem medalha\"],[\"Sem medalha\"],[\"Sem medalha\"],[\"Sem medalha\"],[\"Sem medalha\"],[\"Sem medalha\"],[\"Sem medalha\"],[\"Sem medalha\"],[\"Sem medalha\"],[\"Sem medalha\"],[\"Sem medalha\"],[\"Sem medalha\"],[\"Sem medalha\"],[\"Sem medalha\"],[\"Sem medalha\"],[\"Sem medalha\"],[\"Sem medalha\"],[\"Sem medalha\"],[\"Sem medalha\"],[\"Sem medalha\"],[\"Sem medalha\"],[\"Sem medalha\"],[\"Sem medalha\"],[\"Sem medalha\"],[\"Sem medalha\"],[\"Sem medalha\"],[\"Sem medalha\"],[\"Sem medalha\"],[\"Sem medalha\"],[\"Sem medalha\"],[\"Sem medalha\"],[\"Sem medalha\"],[\"Sem medalha\"],[\"Sem medalha\"],[\"Sem medalha\"],[\"Sem medalha\"],[\"Sem medalha\"],[\"Sem medalha\"],[\"Sem medalha\"],[\"Sem medalha\"],[\"Sem medalha\"],[\"Sem medalha\"],[\"Sem medalha\"],[\"Sem medalha\"],[\"Sem medalha\"],[\"Sem medalha\"],[\"Sem medalha\"],[\"Sem medalha\"],[\"Sem medalha\"],[\"Sem medalha\"],[\"Sem medalha\"],[\"Sem medalha\"],[\"Sem medalha\"],[\"Sem medalha\"],[\"Sem medalha\"],[\"Sem medalha\"],[\"Sem medalha\"],[\"Sem medalha\"],[\"Sem medalha\"],[\"Sem medalha\"],[\"Sem medalha\"],[\"Sem medalha\"],[\"Sem medalha\"],[\"Sem medalha\"],[\"Sem medalha\"],[\"Sem medalha\"],[\"Sem medalha\"],[\"Sem medalha\"],[\"Sem medalha\"],[\"Sem medalha\"],[\"Sem medalha\"],[\"Sem medalha\"],[\"Sem medalha\"],[\"Sem medalha\"],[\"Sem medalha\"],[\"Sem medalha\"],[\"Sem medalha\"],[\"Sem medalha\"],[\"Sem medalha\"],[\"Sem medalha\"],[\"Sem medalha\"],[\"Sem medalha\"],[\"Sem medalha\"],[\"Sem medalha\"],[\"Sem medalha\"],[\"Sem medalha\"],[\"Sem medalha\"],[\"Sem medalha\"],[\"Sem medalha\"],[\"Sem medalha\"],[\"Sem medalha\"],[\"Sem medalha\"],[\"Sem medalha\"],[\"Sem medalha\"],[\"Sem medalha\"],[\"Sem medalha\"],[\"Sem medalha\"],[\"Sem medalha\"],[\"Sem medalha\"],[\"Sem medalha\"],[\"Sem medalha\"],[\"Sem medalha\"],[\"Sem medalha\"],[\"Sem medalha\"],[\"Sem medalha\"],[\"Sem medalha\"],[\"Sem medalha\"],[\"Sem medalha\"],[\"Sem medalha\"],[\"Sem medalha\"],[\"Sem medalha\"],[\"Sem medalha\"],[\"Sem medalha\"],[\"Sem medalha\"],[\"Sem medalha\"],[\"Sem medalha\"],[\"Sem medalha\"],[\"Sem medalha\"],[\"Sem medalha\"],[\"Sem medalha\"],[\"Sem medalha\"],[\"Sem medalha\"],[\"Sem medalha\"],[\"Sem medalha\"],[\"Sem medalha\"],[\"Sem medalha\"],[\"Sem medalha\"],[\"Sem medalha\"],[\"Sem medalha\"],[\"Sem medalha\"],[\"Sem medalha\"],[\"Sem medalha\"],[\"Sem medalha\"],[\"Sem medalha\"],[\"Sem medalha\"],[\"Sem medalha\"],[\"Sem medalha\"],[\"Sem medalha\"],[\"Sem medalha\"],[\"Sem medalha\"],[\"Sem medalha\"],[\"Sem medalha\"],[\"Sem medalha\"],[\"Sem medalha\"],[\"Sem medalha\"],[\"Sem medalha\"],[\"Sem medalha\"],[\"Sem medalha\"],[\"Sem medalha\"],[\"Sem medalha\"],[\"Sem medalha\"],[\"Sem medalha\"],[\"Sem medalha\"],[\"Sem medalha\"],[\"Sem medalha\"],[\"Sem medalha\"],[\"Sem medalha\"],[\"Sem medalha\"],[\"Sem medalha\"],[\"Sem medalha\"],[\"Sem medalha\"],[\"Sem medalha\"],[\"Sem medalha\"],[\"Sem medalha\"],[\"Sem medalha\"],[\"Sem medalha\"],[\"Sem medalha\"],[\"Sem medalha\"],[\"Sem medalha\"],[\"Sem medalha\"],[\"Sem medalha\"],[\"Sem medalha\"],[\"Sem medalha\"],[\"Sem medalha\"],[\"Sem medalha\"],[\"Sem medalha\"],[\"Sem medalha\"],[\"Sem medalha\"],[\"Sem medalha\"],[\"Sem medalha\"],[\"Sem medalha\"],[\"Sem medalha\"],[\"Sem medalha\"],[\"Sem medalha\"],[\"Sem medalha\"],[\"Sem medalha\"],[\"Sem medalha\"],[\"Sem medalha\"],[\"Sem medalha\"],[\"Sem medalha\"],[\"Sem medalha\"],[\"Sem medalha\"],[\"Sem medalha\"],[\"Sem medalha\"],[\"Sem medalha\"],[\"Sem medalha\"],[\"Sem medalha\"],[\"Sem medalha\"],[\"Sem medalha\"],[\"Sem medalha\"],[\"Sem medalha\"],[\"Sem medalha\"],[\"Sem medalha\"],[\"Sem medalha\"],[\"Sem medalha\"],[\"Sem medalha\"],[\"Sem medalha\"],[\"Sem medalha\"],[\"Sem medalha\"],[\"Sem medalha\"],[\"Sem medalha\"],[\"Sem medalha\"],[\"Sem medalha\"],[\"Sem medalha\"],[\"Sem medalha\"],[\"Sem medalha\"],[\"Sem medalha\"],[\"Sem medalha\"],[\"Sem medalha\"],[\"Sem medalha\"],[\"Sem medalha\"],[\"Sem medalha\"],[\"Sem medalha\"],[\"Sem medalha\"],[\"Sem medalha\"],[\"Sem medalha\"],[\"Sem medalha\"],[\"Sem medalha\"],[\"Sem medalha\"],[\"Sem medalha\"],[\"Sem medalha\"],[\"Sem medalha\"],[\"Sem medalha\"],[\"Sem medalha\"],[\"Sem medalha\"],[\"Sem medalha\"],[\"Sem medalha\"],[\"Sem medalha\"],[\"Sem medalha\"],[\"Sem medalha\"],[\"Sem medalha\"],[\"Sem medalha\"],[\"Sem medalha\"],[\"Sem medalha\"],[\"Sem medalha\"],[\"Sem medalha\"],[\"Sem medalha\"],[\"Sem medalha\"],[\"Sem medalha\"],[\"Sem medalha\"],[\"Sem medalha\"],[\"Sem medalha\"],[\"Sem medalha\"],[\"Sem medalha\"],[\"Sem medalha\"],[\"Sem medalha\"],[\"Sem medalha\"],[\"Sem medalha\"],[\"Sem medalha\"],[\"Sem medalha\"],[\"Sem medalha\"],[\"Sem medalha\"],[\"Sem medalha\"],[\"Sem medalha\"],[\"Sem medalha\"],[\"Sem medalha\"],[\"Sem medalha\"],[\"Sem medalha\"],[\"Sem medalha\"],[\"Sem medalha\"],[\"Sem medalha\"],[\"Sem medalha\"],[\"Sem medalha\"],[\"Sem medalha\"],[\"Sem medalha\"],[\"Sem medalha\"],[\"Sem medalha\"],[\"Sem medalha\"],[\"Sem medalha\"],[\"Sem medalha\"],[\"Sem medalha\"],[\"Sem medalha\"],[\"Sem medalha\"],[\"Sem medalha\"],[\"Sem medalha\"],[\"Sem medalha\"],[\"Sem medalha\"],[\"Sem medalha\"],[\"Sem medalha\"],[\"Sem medalha\"],[\"Sem medalha\"],[\"Sem medalha\"],[\"Sem medalha\"],[\"Sem medalha\"],[\"Sem medalha\"],[\"Sem medalha\"],[\"Sem medalha\"],[\"Sem medalha\"],[\"Sem medalha\"],[\"Sem medalha\"],[\"Sem medalha\"],[\"Sem medalha\"],[\"Sem medalha\"],[\"Sem medalha\"],[\"Sem medalha\"],[\"Sem medalha\"],[\"Sem medalha\"],[\"Sem medalha\"],[\"Sem medalha\"],[\"Sem medalha\"],[\"Sem medalha\"],[\"Sem medalha\"],[\"Sem medalha\"],[\"Sem medalha\"],[\"Sem medalha\"],[\"Sem medalha\"],[\"Sem medalha\"],[\"Sem medalha\"],[\"Sem medalha\"],[\"Sem medalha\"],[\"Sem medalha\"],[\"Sem medalha\"],[\"Sem medalha\"],[\"Sem medalha\"],[\"Sem medalha\"],[\"Sem medalha\"],[\"Sem medalha\"],[\"Sem medalha\"],[\"Sem medalha\"],[\"Sem medalha\"],[\"Sem medalha\"],[\"Sem medalha\"],[\"Sem medalha\"],[\"Sem medalha\"],[\"Sem medalha\"],[\"Sem medalha\"],[\"Sem medalha\"],[\"Sem medalha\"],[\"Sem medalha\"],[\"Sem medalha\"],[\"Sem medalha\"],[\"Sem medalha\"],[\"Sem medalha\"],[\"Sem medalha\"],[\"Sem medalha\"],[\"Sem medalha\"],[\"Sem medalha\"],[\"Sem medalha\"],[\"Sem medalha\"],[\"Sem medalha\"],[\"Sem medalha\"],[\"Sem medalha\"],[\"Sem medalha\"],[\"Sem medalha\"],[\"Sem medalha\"],[\"Sem medalha\"],[\"Sem medalha\"],[\"Sem medalha\"],[\"Sem medalha\"],[\"Sem medalha\"],[\"Sem medalha\"],[\"Sem medalha\"],[\"Sem medalha\"],[\"Sem medalha\"],[\"Sem medalha\"],[\"Sem medalha\"],[\"Sem medalha\"],[\"Sem medalha\"],[\"Sem medalha\"],[\"Sem medalha\"],[\"Sem medalha\"],[\"Sem medalha\"],[\"Sem medalha\"],[\"Sem medalha\"],[\"Sem medalha\"],[\"Sem medalha\"],[\"Sem medalha\"],[\"Sem medalha\"],[\"Sem medalha\"],[\"Sem medalha\"],[\"Sem medalha\"],[\"Sem medalha\"],[\"Sem medalha\"],[\"Sem medalha\"],[\"Sem medalha\"],[\"Sem medalha\"],[\"Sem medalha\"],[\"Sem medalha\"],[\"Sem medalha\"],[\"Sem medalha\"],[\"Sem medalha\"],[\"Sem medalha\"],[\"Sem medalha\"],[\"Sem medalha\"],[\"Sem medalha\"],[\"Sem medalha\"],[\"Sem medalha\"],[\"Sem medalha\"],[\"Sem medalha\"],[\"Sem medalha\"],[\"Sem medalha\"],[\"Sem medalha\"],[\"Sem medalha\"],[\"Sem medalha\"],[\"Sem medalha\"],[\"Sem medalha\"],[\"Sem medalha\"],[\"Sem medalha\"],[\"Sem medalha\"],[\"Sem medalha\"],[\"Sem medalha\"],[\"Sem medalha\"],[\"Sem medalha\"],[\"Sem medalha\"],[\"Sem medalha\"],[\"Sem medalha\"],[\"Sem medalha\"],[\"Sem medalha\"],[\"Sem medalha\"],[\"Sem medalha\"],[\"Sem medalha\"],[\"Sem medalha\"],[\"Sem medalha\"],[\"Sem medalha\"],[\"Sem medalha\"],[\"Sem medalha\"],[\"Sem medalha\"],[\"Sem medalha\"],[\"Sem medalha\"],[\"Sem medalha\"],[\"Sem medalha\"],[\"Sem medalha\"],[\"Sem medalha\"],[\"Sem medalha\"],[\"Sem medalha\"],[\"Sem medalha\"],[\"Sem medalha\"],[\"Sem medalha\"],[\"Sem medalha\"],[\"Sem medalha\"],[\"Sem medalha\"],[\"Sem medalha\"],[\"Sem medalha\"],[\"Sem medalha\"],[\"Sem medalha\"],[\"Sem medalha\"],[\"Sem medalha\"],[\"Sem medalha\"],[\"Sem medalha\"],[\"Sem medalha\"],[\"Sem medalha\"],[\"Sem medalha\"],[\"Sem medalha\"],[\"Sem medalha\"],[\"Sem medalha\"],[\"Sem medalha\"],[\"Sem medalha\"],[\"Sem medalha\"],[\"Sem medalha\"],[\"Sem medalha\"],[\"Sem medalha\"],[\"Sem medalha\"],[\"Sem medalha\"],[\"Sem medalha\"],[\"Sem medalha\"],[\"Sem medalha\"],[\"Sem medalha\"],[\"Sem medalha\"],[\"Sem medalha\"],[\"Sem medalha\"],[\"Sem medalha\"],[\"Sem medalha\"],[\"Sem medalha\"],[\"Sem medalha\"],[\"Sem medalha\"],[\"Sem medalha\"],[\"Sem medalha\"],[\"Sem medalha\"],[\"Sem medalha\"],[\"Sem medalha\"],[\"Sem medalha\"],[\"Sem medalha\"],[\"Sem medalha\"],[\"Sem medalha\"],[\"Sem medalha\"],[\"Sem medalha\"],[\"Sem medalha\"],[\"Sem medalha\"],[\"Sem medalha\"],[\"Sem medalha\"],[\"Sem medalha\"],[\"Sem medalha\"],[\"Sem medalha\"],[\"Sem medalha\"],[\"Sem medalha\"],[\"Sem medalha\"],[\"Sem medalha\"],[\"Sem medalha\"],[\"Sem medalha\"],[\"Sem medalha\"],[\"Sem medalha\"],[\"Sem medalha\"],[\"Sem medalha\"],[\"Sem medalha\"],[\"Sem medalha\"],[\"Sem medalha\"],[\"Sem medalha\"],[\"Sem medalha\"],[\"Sem medalha\"],[\"Sem medalha\"],[\"Sem medalha\"],[\"Sem medalha\"],[\"Sem medalha\"],[\"Sem medalha\"],[\"Sem medalha\"],[\"Sem medalha\"],[\"Sem medalha\"],[\"Sem medalha\"],[\"Sem medalha\"],[\"Sem medalha\"],[\"Sem medalha\"],[\"Sem medalha\"],[\"Sem medalha\"],[\"Sem medalha\"],[\"Sem medalha\"],[\"Sem medalha\"],[\"Sem medalha\"],[\"Sem medalha\"],[\"Sem medalha\"],[\"Sem medalha\"],[\"Sem medalha\"],[\"Sem medalha\"],[\"Sem medalha\"],[\"Sem medalha\"],[\"Sem medalha\"],[\"Sem medalha\"],[\"Sem medalha\"],[\"Sem medalha\"],[\"Sem medalha\"],[\"Sem medalha\"],[\"Sem medalha\"],[\"Sem medalha\"],[\"Sem medalha\"],[\"Sem medalha\"],[\"Sem medalha\"],[\"Sem medalha\"],[\"Sem medalha\"],[\"Sem medalha\"],[\"Sem medalha\"],[\"Sem medalha\"],[\"Sem medalha\"],[\"Sem medalha\"],[\"Sem medalha\"],[\"Sem medalha\"],[\"Sem medalha\"],[\"Sem medalha\"],[\"Sem medalha\"],[\"Sem medalha\"],[\"Sem medalha\"],[\"Sem medalha\"],[\"Sem medalha\"],[\"Sem medalha\"],[\"Sem medalha\"],[\"Sem medalha\"],[\"Sem medalha\"],[\"Sem medalha\"],[\"Sem medalha\"],[\"Sem medalha\"],[\"Sem medalha\"],[\"Sem medalha\"],[\"Sem medalha\"],[\"Sem medalha\"],[\"Sem medalha\"],[\"Sem medalha\"],[\"Sem medalha\"],[\"Sem medalha\"],[\"Sem medalha\"],[\"Sem medalha\"],[\"Sem medalha\"],[\"Sem medalha\"],[\"Sem medalha\"],[\"Sem medalha\"],[\"Sem medalha\"],[\"Sem medalha\"],[\"Sem medalha\"],[\"Sem medalha\"],[\"Sem medalha\"],[\"Sem medalha\"],[\"Sem medalha\"],[\"Sem medalha\"],[\"Sem medalha\"],[\"Sem medalha\"],[\"Sem medalha\"],[\"Sem medalha\"],[\"Sem medalha\"],[\"Sem medalha\"],[\"Sem medalha\"],[\"Sem medalha\"],[\"Sem medalha\"],[\"Sem medalha\"],[\"Sem medalha\"],[\"Sem medalha\"],[\"Sem medalha\"],[\"Sem medalha\"],[\"Sem medalha\"],[\"Sem medalha\"],[\"Sem medalha\"],[\"Sem medalha\"],[\"Sem medalha\"],[\"Sem medalha\"],[\"Sem medalha\"],[\"Sem medalha\"],[\"Sem medalha\"],[\"Sem medalha\"],[\"Sem medalha\"],[\"Sem medalha\"],[\"Sem medalha\"],[\"Sem medalha\"],[\"Sem medalha\"],[\"Sem medalha\"],[\"Sem medalha\"],[\"Sem medalha\"],[\"Sem medalha\"],[\"Sem medalha\"],[\"Sem medalha\"],[\"Sem medalha\"],[\"Sem medalha\"],[\"Sem medalha\"],[\"Sem medalha\"],[\"Sem medalha\"],[\"Sem medalha\"],[\"Sem medalha\"],[\"Sem medalha\"],[\"Sem medalha\"],[\"Sem medalha\"],[\"Sem medalha\"],[\"Sem medalha\"],[\"Sem medalha\"],[\"Sem medalha\"],[\"Sem medalha\"],[\"Sem medalha\"],[\"Sem medalha\"],[\"Sem medalha\"],[\"Sem medalha\"],[\"Sem medalha\"],[\"Sem medalha\"],[\"Sem medalha\"],[\"Sem medalha\"],[\"Sem medalha\"],[\"Sem medalha\"],[\"Sem medalha\"],[\"Sem medalha\"],[\"Sem medalha\"],[\"Sem medalha\"],[\"Sem medalha\"],[\"Sem medalha\"],[\"Sem medalha\"],[\"Sem medalha\"],[\"Sem medalha\"],[\"Sem medalha\"],[\"Sem medalha\"],[\"Sem medalha\"],[\"Sem medalha\"],[\"Sem medalha\"],[\"Sem medalha\"],[\"Sem medalha\"],[\"Sem medalha\"],[\"Sem medalha\"],[\"Sem medalha\"],[\"Sem medalha\"],[\"Sem medalha\"],[\"Sem medalha\"],[\"Sem medalha\"],[\"Sem medalha\"],[\"Sem medalha\"],[\"Sem medalha\"],[\"Sem medalha\"],[\"Sem medalha\"],[\"Sem medalha\"],[\"Sem medalha\"],[\"Sem medalha\"],[\"Sem medalha\"],[\"Sem medalha\"],[\"Sem medalha\"],[\"Sem medalha\"],[\"Sem medalha\"],[\"Sem medalha\"],[\"Sem medalha\"],[\"Sem medalha\"],[\"Sem medalha\"],[\"Sem medalha\"],[\"Sem medalha\"],[\"Sem medalha\"],[\"Sem medalha\"],[\"Sem medalha\"],[\"Sem medalha\"],[\"Sem medalha\"],[\"Sem medalha\"],[\"Sem medalha\"],[\"Sem medalha\"],[\"Sem medalha\"],[\"Sem medalha\"],[\"Sem medalha\"],[\"Sem medalha\"],[\"Sem medalha\"],[\"Sem medalha\"],[\"Sem medalha\"],[\"Sem medalha\"],[\"Sem medalha\"],[\"Sem medalha\"],[\"Sem medalha\"],[\"Sem medalha\"],[\"Sem medalha\"],[\"Sem medalha\"],[\"Sem medalha\"],[\"Sem medalha\"],[\"Sem medalha\"],[\"Sem medalha\"],[\"Sem medalha\"],[\"Sem medalha\"],[\"Sem medalha\"],[\"Sem medalha\"],[\"Sem medalha\"],[\"Sem medalha\"],[\"Sem medalha\"],[\"Sem medalha\"]],\"hovertemplate\":\"<b>%{hovertext}</b><br><br>Sex=F<br>Medal=%{customdata[0]}<br>Year=%{x}<br>Height=%{y}<extra></extra>\",\"hovertext\":[\"Water Polo\",\"Volleyball\",\"Basketball\",\"Basketball\",\"Basketball\",\"Basketball\",\"Basketball\",\"Athletics\",\"Athletics\",\"Athletics\",\"Athletics\",\"Volleyball\",\"Handball\",\"Handball\",\"Basketball\",\"Handball\",\"Handball\",\"Handball\",\"Handball\",\"Football\",\"Football\",\"Handball\",\"Handball\",\"Equestrianism\",\"Equestrianism\",\"Equestrianism\",\"Equestrianism\",\"Athletics\",\"Athletics\",\"Athletics\",\"Athletics\",\"Judo\",\"Judo\",\"Judo\",\"Athletics\",\"Shooting\",\"Shooting\",\"Handball\",\"Swimming\",\"Swimming\",\"Swimming\",\"Swimming\",\"Handball\",\"Handball\",\"Handball\",\"Volleyball\",\"Volleyball\",\"Volleyball\",\"Handball\",\"Handball\",\"Handball\",\"Volleyball\",\"Judo\",\"Gymnastics\",\"Gymnastics\",\"Gymnastics\",\"Gymnastics\",\"Gymnastics\",\"Judo\",\"Football\",\"Football\",\"Football\",\"Football\",\"Boxing\",\"Rugby Sevens\",\"Athletics\",\"Athletics\",\"Archery\",\"Handball\",\"Volleyball\",\"Alpine Skiing\",\"Alpine Skiing\",\"Fencing\",\"Water Polo\",\"Rugby Sevens\",\"Boxing\",\"Swimming\",\"Rhythmic Gymnastics\",\"Sailing\",\"Sailing\",\"Football\",\"Judo\",\"Gymnastics\",\"Gymnastics\",\"Gymnastics\",\"Gymnastics\",\"Gymnastics\",\"Gymnastics\",\"Gymnastics\",\"Gymnastics\",\"Gymnastics\",\"Gymnastics\",\"Gymnastics\",\"Football\",\"Cross Country Skiing\",\"Rowing\",\"Rowing\",\"Rowing\",\"Equestrianism\",\"Equestrianism\",\"Athletics\",\"Judo\",\"Volleyball\",\"Synchronized Swimming\",\"Synchronized Swimming\",\"Sailing\",\"Swimming\",\"Swimming\",\"Football\",\"Football\",\"Synchronized Swimming\",\"Shooting\",\"Shooting\",\"Fencing\",\"Swimming\",\"Swimming\",\"Swimming\",\"Rhythmic Gymnastics\",\"Rhythmic Gymnastics\",\"Rugby Sevens\",\"Judo\",\"Judo\",\"Archery\",\"Archery\",\"Water Polo\",\"Handball\",\"Basketball\",\"Cycling\",\"Cycling\",\"Cycling\",\"Shooting\",\"Rowing\",\"Water Polo\",\"Synchronized Swimming\",\"Synchronized Swimming\",\"Synchronized Swimming\",\"Synchronized Swimming\",\"Synchronized Swimming\",\"Volleyball\",\"Volleyball\",\"Swimming\",\"Rhythmic Gymnastics\",\"Rugby Sevens\",\"Tennis\",\"Water Polo\",\"Handball\",\"Handball\",\"Handball\",\"Handball\",\"Water Polo\",\"Handball\",\"Handball\",\"Basketball\",\"Basketball\",\"Football\",\"Volleyball\",\"Basketball\",\"Athletics\",\"Snowboarding\",\"Snowboarding\",\"Snowboarding\",\"Basketball\",\"Athletics\",\"Athletics\",\"Athletics\",\"Basketball\",\"Basketball\",\"Gymnastics\",\"Gymnastics\",\"Gymnastics\",\"Gymnastics\",\"Gymnastics\",\"Gymnastics\",\"Gymnastics\",\"Gymnastics\",\"Gymnastics\",\"Gymnastics\",\"Gymnastics\",\"Swimming\",\"Wrestling\",\"Handball\",\"Tennis\",\"Gymnastics\",\"Gymnastics\",\"Gymnastics\",\"Gymnastics\",\"Gymnastics\",\"Athletics\",\"Athletics\",\"Athletics\",\"Athletics\",\"Athletics\",\"Athletics\",\"Rowing\",\"Fencing\",\"Fencing\",\"Athletics\",\"Athletics\",\"Athletics\",\"Athletics\",\"Athletics\",\"Athletics\",\"Swimming\",\"Swimming\",\"Swimming\",\"Swimming\",\"Swimming\",\"Swimming\",\"Rowing\",\"Football\",\"Football\",\"Swimming\",\"Swimming\",\"Tennis\",\"Volleyball\",\"Volleyball\",\"Swimming\",\"Swimming\",\"Basketball\",\"Athletics\",\"Athletics\",\"Judo\",\"Judo\",\"Judo\",\"Judo\",\"Handball\",\"Handball\",\"Rhythmic Gymnastics\",\"Table Tennis\",\"Table Tennis\",\"Table Tennis\",\"Table Tennis\",\"Table Tennis\",\"Judo\",\"Volleyball\",\"Bobsleigh\",\"Football\",\"Handball\",\"Handball\",\"Handball\",\"Football\",\"Basketball\",\"Basketball\",\"Handball\",\"Handball\",\"Handball\",\"Handball\",\"Handball\",\"Handball\",\"Volleyball\",\"Handball\",\"Athletics\",\"Rowing\",\"Athletics\",\"Athletics\",\"Athletics\",\"Rhythmic Gymnastics\",\"Gymnastics\",\"Gymnastics\",\"Athletics\",\"Athletics\",\"Athletics\",\"Athletics\",\"Athletics\",\"Swimming\",\"Athletics\",\"Athletics\",\"Athletics\",\"Athletics\",\"Athletics\",\"Athletics\",\"Athletics\",\"Athletics\",\"Athletics\",\"Athletics\",\"Athletics\",\"Athletics\",\"Athletics\",\"Athletics\",\"Athletics\",\"Swimming\",\"Swimming\",\"Diving\",\"Diving\",\"Handball\",\"Handball\",\"Swimming\",\"Swimming\",\"Swimming\",\"Swimming\",\"Swimming\",\"Swimming\",\"Canoeing\",\"Swimming\",\"Athletics\",\"Athletics\",\"Athletics\",\"Athletics\",\"Football\",\"Sailing\",\"Swimming\",\"Swimming\",\"Swimming\",\"Swimming\",\"Handball\",\"Handball\",\"Handball\",\"Water Polo\",\"Football\",\"Equestrianism\",\"Equestrianism\",\"Athletics\",\"Athletics\",\"Athletics\",\"Archery\",\"Archery\",\"Basketball\",\"Basketball\",\"Gymnastics\",\"Gymnastics\",\"Gymnastics\",\"Gymnastics\",\"Gymnastics\",\"Gymnastics\",\"Gymnastics\",\"Gymnastics\",\"Gymnastics\",\"Gymnastics\",\"Gymnastics\",\"Athletics\",\"Athletics\",\"Athletics\",\"Bobsleigh\",\"Freestyle Skiing\",\"Taekwondo\",\"Athletics\",\"Athletics\",\"Athletics\",\"Athletics\",\"Athletics\",\"Athletics\",\"Athletics\",\"Athletics\",\"Athletics\",\"Table Tennis\",\"Table Tennis\",\"Table Tennis\",\"Table Tennis\",\"Water Polo\",\"Basketball\",\"Football\",\"Volleyball\",\"Handball\",\"Football\",\"Football\",\"Basketball\",\"Basketball\",\"Basketball\",\"Football\",\"Football\",\"Football\",\"Volleyball\",\"Volleyball\",\"Volleyball\",\"Taekwondo\",\"Taekwondo\",\"Football\",\"Equestrianism\",\"Equestrianism\",\"Athletics\",\"Rhythmic Gymnastics\",\"Shooting\",\"Shooting\",\"Shooting\",\"Shooting\",\"Rhythmic Gymnastics\",\"Boxing\",\"Synchronized Swimming\",\"Synchronized Swimming\",\"Rhythmic Gymnastics\",\"Rhythmic Gymnastics\",\"Volleyball\",\"Volleyball\",\"Volleyball\",\"Basketball\",\"Judo\",\"Cycling\",\"Cycling\",\"Cycling\",\"Wrestling\",\"Rowing\",\"Weightlifting\",\"Weightlifting\",\"Swimming\",\"Swimming\",\"Swimming\",\"Swimming\",\"Swimming\",\"Judo\",\"Athletics\",\"Synchronized Swimming\",\"Synchronized Swimming\",\"Athletics\",\"Athletics\",\"Athletics\",\"Athletics\",\"Handball\",\"Gymnastics\",\"Gymnastics\",\"Gymnastics\",\"Gymnastics\",\"Gymnastics\",\"Volleyball\",\"Volleyball\",\"Football\",\"Football\",\"Football\",\"Football\",\"Sailing\",\"Sailing\",\"Sailing\",\"Athletics\",\"Football\",\"Basketball\",\"Basketball\",\"Gymnastics\",\"Gymnastics\",\"Gymnastics\",\"Gymnastics\",\"Gymnastics\",\"Gymnastics\",\"Gymnastics\",\"Gymnastics\",\"Gymnastics\",\"Gymnastics\",\"Sailing\",\"Sailing\",\"Sailing\",\"Volleyball\",\"Volleyball\",\"Athletics\",\"Athletics\",\"Athletics\",\"Rhythmic Gymnastics\",\"Athletics\",\"Athletics\",\"Athletics\",\"Athletics\",\"Rhythmic Gymnastics\",\"Tennis\",\"Cycling\",\"Rowing\",\"Basketball\",\"Football\",\"Swimming\",\"Swimming\",\"Swimming\",\"Swimming\",\"Swimming\",\"Swimming\",\"Swimming\",\"Alpine Skiing\",\"Alpine Skiing\",\"Alpine Skiing\",\"Alpine Skiing\",\"Modern Pentathlon\",\"Basketball\",\"Basketball\",\"Fencing\",\"Basketball\",\"Swimming\",\"Swimming\",\"Volleyball\",\"Basketball\",\"Judo\",\"Gymnastics\",\"Gymnastics\",\"Gymnastics\",\"Gymnastics\",\"Gymnastics\",\"Gymnastics\",\"Gymnastics\",\"Gymnastics\",\"Gymnastics\",\"Gymnastics\",\"Gymnastics\",\"Gymnastics\",\"Gymnastics\",\"Gymnastics\",\"Gymnastics\",\"Gymnastics\",\"Gymnastics\",\"Gymnastics\",\"Gymnastics\",\"Gymnastics\",\"Gymnastics\",\"Gymnastics\",\"Gymnastics\",\"Gymnastics\",\"Volleyball\",\"Volleyball\",\"Volleyball\",\"Volleyball\",\"Basketball\",\"Rugby Sevens\",\"Judo\",\"Judo\",\"Judo\",\"Basketball\",\"Basketball\",\"Handball\",\"Handball\",\"Handball\",\"Basketball\",\"Basketball\",\"Volleyball\",\"Equestrianism\",\"Equestrianism\",\"Weightlifting\",\"Basketball\",\"Volleyball\",\"Football\",\"Basketball\",\"Basketball\",\"Basketball\",\"Basketball\",\"Football\",\"Football\",\"Basketball\",\"Basketball\",\"Basketball\",\"Volleyball\",\"Sailing\",\"Rugby Sevens\",\"Football\",\"Table Tennis\",\"Table Tennis\",\"Table Tennis\",\"Table Tennis\",\"Sailing\",\"Sailing\",\"Sailing\",\"Athletics\",\"Athletics\",\"Athletics\",\"Handball\",\"Table Tennis\",\"Table Tennis\",\"Table Tennis\",\"Table Tennis\",\"Gymnastics\",\"Gymnastics\",\"Gymnastics\",\"Gymnastics\",\"Gymnastics\",\"Basketball\",\"Volleyball\",\"Rhythmic Gymnastics\",\"Volleyball\",\"Volleyball\",\"Volleyball\",\"Athletics\",\"Athletics\",\"Swimming\",\"Swimming\",\"Swimming\",\"Swimming\",\"Swimming\",\"Swimming\",\"Swimming\",\"Swimming\",\"Swimming\",\"Rhythmic Gymnastics\",\"Handball\",\"Table Tennis\",\"Table Tennis\",\"Table Tennis\",\"Volleyball\",\"Synchronized Swimming\",\"Synchronized Swimming\",\"Synchronized Swimming\",\"Athletics\",\"Golf\",\"Handball\",\"Handball\",\"Handball\",\"Athletics\",\"Athletics\",\"Swimming\",\"Swimming\",\"Swimming\",\"Synchronized Swimming\",\"Synchronized Swimming\",\"Volleyball\",\"Athletics\",\"Athletics\",\"Athletics\",\"Athletics\",\"Rhythmic Gymnastics\",\"Athletics\",\"Athletics\",\"Water Polo\",\"Rhythmic Gymnastics\",\"Basketball\",\"Rhythmic Gymnastics\",\"Rhythmic Gymnastics\",\"Swimming\",\"Swimming\",\"Swimming\",\"Swimming\",\"Swimming\",\"Swimming\",\"Swimming\",\"Swimming\",\"Swimming\",\"Swimming\",\"Swimming\",\"Swimming\",\"Basketball\",\"Volleyball\",\"Volleyball\",\"Volleyball\",\"Football\",\"Judo\",\"Modern Pentathlon\",\"Modern Pentathlon\",\"Football\",\"Football\",\"Athletics\",\"Athletics\",\"Judo\",\"Boxing\",\"Rhythmic Gymnastics\",\"Volleyball\",\"Football\",\"Handball\",\"Handball\",\"Athletics\",\"Football\",\"Swimming\",\"Swimming\",\"Swimming\",\"Swimming\",\"Football\",\"Volleyball\",\"Athletics\",\"Athletics\",\"Rhythmic Gymnastics\",\"Judo\",\"Judo\",\"Tennis\",\"Tennis\",\"Basketball\",\"Synchronized Swimming\",\"Synchronized Swimming\",\"Football\",\"Fencing\",\"Judo\",\"Judo\",\"Athletics\",\"Tennis\",\"Fencing\",\"Fencing\",\"Swimming\",\"Swimming\",\"Swimming\",\"Swimming\",\"Swimming\",\"Gymnastics\",\"Gymnastics\",\"Gymnastics\",\"Synchronized Swimming\",\"Football\",\"Football\",\"Athletics\",\"Handball\",\"Handball\",\"Synchronized Swimming\",\"Synchronized Swimming\",\"Athletics\",\"Synchronized Swimming\",\"Synchronized Swimming\",\"Triathlon\",\"Triathlon\",\"Athletics\",\"Athletics\",\"Volleyball\",\"Volleyball\",\"Cycling\",\"Cross Country Skiing\",\"Cycling\",\"Cross Country Skiing\",\"Biathlon\",\"Cross Country Skiing\",\"Biathlon\",\"Rugby Sevens\",\"Athletics\",\"Athletics\",\"Athletics\",\"Rhythmic Gymnastics\",\"Athletics\",\"Athletics\",\"Athletics\",\"Swimming\",\"Basketball\",\"Golf\",\"Rhythmic Gymnastics\",\"Athletics\",\"Athletics\",\"Athletics\",\"Volleyball\",\"Diving\",\"Football\",\"Football\",\"Archery\",\"Archery\",\"Synchronized Swimming\",\"Table Tennis\",\"Table Tennis\",\"Taekwondo\",\"Wrestling\",\"Triathlon\",\"Triathlon\",\"Triathlon\",\"Swimming\",\"Swimming\",\"Water Polo\",\"Sailing\",\"Sailing\",\"Sailing\",\"Sailing\",\"Cycling\",\"Wrestling\",\"Athletics\",\"Rhythmic Gymnastics\",\"Swimming\",\"Swimming\",\"Swimming\",\"Swimming\",\"Swimming\",\"Volleyball\",\"Gymnastics\",\"Gymnastics\",\"Triathlon\",\"Triathlon\",\"Water Polo\",\"Handball\",\"Handball\",\"Judo\",\"Equestrianism\",\"Equestrianism\",\"Fencing\",\"Basketball\",\"Water Polo\",\"Diving\",\"Sailing\",\"Sailing\",\"Sailing\",\"Swimming\",\"Swimming\",\"Swimming\",\"Rhythmic Gymnastics\",\"Volleyball\",\"Athletics\",\"Athletics\",\"Tennis\",\"Tennis\",\"Tennis\",\"Handball\",\"Handball\",\"Athletics\",\"Handball\",\"Handball\",\"Handball\",\"Handball\",\"Athletics\",\"Handball\",\"Athletics\",\"Athletics\",\"Football\",\"Judo\",\"Basketball\",\"Judo\",\"Judo\",\"Athletics\",\"Football\",\"Football\",\"Diving\",\"Handball\",\"Handball\",\"Football\",\"Rugby Sevens\",\"Volleyball\",\"Football\",\"Football\",\"Athletics\",\"Swimming\",\"Swimming\",\"Diving\",\"Diving\",\"Diving\",\"Gymnastics\",\"Gymnastics\",\"Gymnastics\",\"Gymnastics\",\"Gymnastics\",\"Gymnastics\",\"Gymnastics\",\"Gymnastics\",\"Gymnastics\",\"Gymnastics\",\"Swimming\",\"Swimming\",\"Volleyball\",\"Volleyball\",\"Synchronized Swimming\",\"Synchronized Swimming\",\"Handball\",\"Handball\",\"Handball\",\"Fencing\",\"Gymnastics\",\"Gymnastics\",\"Gymnastics\",\"Gymnastics\",\"Gymnastics\",\"Gymnastics\",\"Judo\",\"Judo\",\"Basketball\",\"Basketball\",\"Swimming\",\"Handball\",\"Volleyball\",\"Swimming\",\"Athletics\",\"Football\",\"Football\",\"Swimming\",\"Swimming\",\"Swimming\",\"Football\",\"Football\",\"Basketball\",\"Swimming\",\"Swimming\",\"Swimming\",\"Volleyball\",\"Volleyball\",\"Athletics\",\"Rugby Sevens\",\"Rugby Sevens\",\"Athletics\",\"Athletics\",\"Volleyball\",\"Weightlifting\",\"Athletics\",\"Athletics\",\"Athletics\",\"Athletics\",\"Athletics\",\"Gymnastics\",\"Gymnastics\",\"Gymnastics\",\"Gymnastics\",\"Gymnastics\",\"Rugby Sevens\",\"Volleyball\",\"Canoeing\",\"Canoeing\",\"Rugby Sevens\",\"Sailing\",\"Rhythmic Gymnastics\",\"Rhythmic Gymnastics\",\"Alpine Skiing\",\"Alpine Skiing\",\"Swimming\",\"Swimming\",\"Volleyball\",\"Gymnastics\",\"Gymnastics\",\"Gymnastics\",\"Gymnastics\",\"Gymnastics\",\"Taekwondo\",\"Cycling\",\"Cycling\",\"Cycling\",\"Cycling\",\"Volleyball\",\"Volleyball\",\"Swimming\",\"Swimming\",\"Volleyball\",\"Volleyball\",\"Wrestling\",\"Wrestling\",\"Volleyball\",\"Athletics\",\"Judo\",\"Judo\",\"Judo\",\"Basketball\",\"Basketball\",\"Fencing\",\"Fencing\",\"Football\",\"Taekwondo\",\"Football\",\"Football\",\"Athletics\",\"Basketball\",\"Triathlon\",\"Triathlon\",\"Football\",\"Athletics\",\"Athletics\",\"Athletics\",\"Synchronized Swimming\",\"Cycling\",\"Gymnastics\",\"Gymnastics\",\"Gymnastics\",\"Gymnastics\",\"Gymnastics\",\"Gymnastics\",\"Gymnastics\",\"Gymnastics\",\"Gymnastics\",\"Gymnastics\",\"Shooting\",\"Shooting\",\"Athletics\",\"Athletics\",\"Shooting\",\"Cycling\",\"Volleyball\",\"Football\",\"Football\",\"Sailing\",\"Sailing\",\"Football\",\"Diving\",\"Table Tennis\",\"Football\",\"Football\",\"Football\",\"Swimming\",\"Swimming\",\"Swimming\",\"Swimming\",\"Shooting\",\"Synchronized Swimming\",\"Synchronized Swimming\",\"Synchronized Swimming\",\"Volleyball\",\"Rugby Sevens\",\"Athletics\",\"Athletics\",\"Athletics\",\"Athletics\",\"Athletics\",\"Football\",\"Volleyball\",\"Football\",\"Volleyball\",\"Athletics\",\"Athletics\",\"Volleyball\",\"Synchronized Swimming\",\"Synchronized Swimming\",\"Diving\",\"Diving\",\"Diving\",\"Diving\",\"Diving\",\"Diving\",\"Diving\",\"Diving\",\"Athletics\",\"Athletics\",\"Swimming\",\"Swimming\",\"Canoeing\",\"Canoeing\",\"Badminton\",\"Tennis\",\"Tennis\",\"Swimming\",\"Swimming\",\"Athletics\",\"Volleyball\",\"Volleyball\",\"Basketball\",\"Fencing\",\"Volleyball\",\"Figure Skating\",\"Water Polo\",\"Judo\",\"Judo\",\"Handball\",\"Basketball\",\"Swimming\"],\"legendgroup\":\"F, Sem medalha\",\"marker\":{\"color\":\"red\",\"opacity\":0.3,\"symbol\":\"circle\"},\"mode\":\"markers\",\"name\":\"F, Sem medalha\",\"showlegend\":true,\"x\":[2016,2016,1992,2004,2008,2012,2016,1996,2004,2004,2008,1980,2000,2008,2004,2004,2008,2012,2016,2016,2012,2004,2008,2008,2012,2016,2016,2004,2004,2008,2008,2012,2016,1992,1996,1988,1988,2004,1988,1988,1988,1988,2008,2012,2016,1992,1988,1992,2008,2012,2016,1992,1992,2016,2016,2016,2016,2016,1992,2000,2012,2016,2016,2016,2016,2012,2016,1980,2016,2004,2002,2006,2016,2016,2016,2016,2004,2004,2012,2016,2016,2008,2008,2008,2008,2008,2008,2008,2016,2016,2016,2016,2016,2016,2002,2004,2008,2012,2008,2008,1976,1992,2004,2016,2016,2004,2004,2004,2012,2016,2016,2016,2016,2016,2004,1972,1972,2000,2004,2016,1992,1996,2016,2016,2016,2012,2012,1992,2000,2016,2016,2008,2016,1984,1984,1988,1984,1984,1980,1988,2016,2004,2016,1992,2016,2000,2004,2008,2012,2016,2000,2004,2008,2012,2000,1992,2004,1968,2006,2010,2014,2008,2004,2004,2008,2012,2016,2000,2000,2000,2000,2000,2004,2004,2004,2004,2004,2004,2016,2008,2000,2000,1980,1980,1980,1980,1980,2016,2004,2008,2012,2016,2016,2012,2016,2016,2004,2004,2012,2012,2016,2016,1936,1936,1948,1948,1948,1952,2016,2012,2016,2008,2016,1996,1984,1988,1948,1948,2016,2012,2016,1996,2000,2004,2008,2012,2016,2016,2000,2004,2004,2012,2012,2008,1984,2014,2012,2000,2004,2008,2000,2012,2016,2004,2008,2012,2016,2004,2008,1980,2000,1988,2012,2016,1952,1952,2000,2012,2012,2016,2012,2012,2016,2016,2016,1984,1948,1948,1952,1952,2012,2016,2004,2004,2008,2008,1948,1948,1992,1996,1948,1952,2016,2016,2000,2000,2008,2012,2012,2016,2016,2016,2008,1936,2016,2016,1996,1996,2016,2016,2004,2004,2008,2008,2008,2012,2016,2016,1996,2004,2004,1964,1968,2012,2016,2016,2012,2016,2004,2004,2004,2004,2004,2008,2008,2008,2012,2012,2012,2008,2012,2012,2014,2014,2016,2000,2000,2004,2008,2016,2000,1952,1952,1960,1992,1992,1996,1996,2016,2008,1996,2004,2000,2012,2016,2004,2012,2016,2012,2012,2016,2004,2016,2016,2004,2012,1996,1968,1968,2016,2008,1988,1988,1992,1992,1984,2012,2016,2016,2000,2000,1988,1992,2004,2008,2008,2000,2004,2012,2016,2016,2012,2016,2004,2004,2008,2008,2008,2000,2012,2008,2012,1988,1988,1988,1996,2004,1984,1984,1984,1984,1984,1992,2004,1996,2000,2012,2016,1992,1996,2000,2004,2012,2008,2012,2008,2008,2008,2008,2008,2012,2012,2012,2012,2012,2008,2012,2016,2016,2016,1976,1984,1984,2016,1980,1984,1984,1988,2016,2016,2016,2008,2008,2012,1972,1972,1972,1976,2004,2004,2004,2010,2010,2014,2014,2004,1992,2004,2004,1992,2012,2016,1992,1992,2004,2000,2000,2000,2000,2000,2004,2004,2004,2004,2004,2004,2008,2008,2008,2008,2008,2012,2012,2012,2012,2012,2016,2016,2016,1984,1992,1980,1984,2016,2016,1992,2000,2004,2004,2016,2000,2004,2008,1992,2004,2016,1988,1988,2000,1992,2016,2000,2008,2004,2008,2012,1996,2000,2004,2008,2016,2004,1988,2016,2012,1992,1992,1996,1996,2004,2012,2000,2012,2016,2016,2004,2012,2012,2016,2016,2012,2012,2012,2012,2012,2004,1992,2008,1980,1984,1988,2012,2012,2004,2008,2008,2008,2008,1932,1932,1932,1936,2016,2016,2012,2016,2016,2016,1992,1992,2016,2016,2016,2000,2004,2008,1948,1948,2016,2016,2016,1988,1988,1984,2004,2008,2016,1996,2004,2000,2012,2016,2016,2008,2004,2008,2004,2004,2004,2008,2008,2008,2012,2012,2016,2016,2016,2016,2016,1988,1992,2004,1996,2000,2008,2016,2012,2016,2016,2016,2000,2012,2008,1980,2012,2012,2016,1992,2000,2016,2016,2016,2016,1996,1980,1996,2004,2008,2008,2016,1996,2000,2008,2016,2016,1996,2016,2012,2016,1988,1988,2016,2016,2000,2000,2008,2008,2012,2004,2004,2004,2016,2000,2016,1988,2000,2004,2000,2004,2016,2000,2004,2000,2004,1948,1948,1988,1992,2004,2006,2008,2010,2014,2014,2014,2016,1948,1948,1948,2008,2008,2012,2016,1976,1992,2016,2000,1992,1996,2004,2016,1992,1996,2000,2016,2016,2016,2004,2008,2008,2016,2000,2004,2008,2008,2012,2016,2000,2004,2012,2016,2016,2016,2008,2004,2016,2016,2016,2016,2016,1980,2016,2016,2012,2016,2016,2004,2008,1996,2016,2016,2004,1992,2016,2016,1988,1992,1996,1988,1988,1988,2016,1984,1976,1976,2016,2016,2016,2012,2016,2004,2004,2008,2012,2016,2008,2012,1948,1948,2016,2004,1992,2012,2016,2008,1996,2000,1956,2012,2016,2016,2016,1988,2000,2016,2008,1988,1988,1984,1984,1988,1988,1988,1988,1988,1988,1992,1992,1992,1992,1992,1976,1976,1984,1988,1988,1988,2016,2012,2016,2016,2004,2004,2004,2004,2004,2004,1992,1996,2012,2016,1948,2000,1984,2016,2016,2000,2012,1996,1996,1996,1996,2000,1992,2008,2008,2008,1984,1988,2016,2016,2016,2016,2004,1988,2016,2008,2012,2012,2016,2016,2016,2016,2016,2016,2016,2016,2004,2012,2016,2016,1992,2000,1992,1992,1992,1948,1948,2016,2008,2008,2008,2008,2008,2000,2008,2012,2012,2016,1980,1984,2008,2008,1980,1984,2012,2016,2016,2008,2012,2016,2012,2004,2012,2016,2016,2000,2016,1996,2000,2016,1992,2000,2004,1996,2012,2012,2016,1992,2012,2004,2004,2004,2004,2004,2004,2008,2008,2008,2008,2012,2012,2008,2016,1984,2012,1988,2000,1996,1992,2016,1996,2016,2016,2016,1996,2000,1972,1972,1976,1976,2016,2008,2012,2016,1980,2016,1988,1988,2004,2008,2008,2012,2016,2016,1992,2004,2008,2004,1992,1992,2000,2000,2004,2004,2008,2012,2016,2016,2016,2016,1936,1936,2016,2016,2016,1992,1992,1988,1988,2008,1980,2004,2004,1936,2004,2014,2016,1996,2004,2000,1992,1936],\"xaxis\":\"x\",\"y\":[175.0,187.0,180.0,170.0,170.0,170.0,170.0,180.0,180.0,180.0,180.0,172.0,184.0,184.0,200.0,177.0,177.0,177.0,177.0,162.0,180.0,195.0,195.0,168.0,168.0,168.0,168.0,162.0,162.0,162.0,162.0,175.0,175.0,null,165.0,159.0,159.0,181.0,165.0,165.0,165.0,165.0,186.0,186.0,186.0,187.0,176.0,176.0,172.0,172.0,172.0,183.0,null,151.0,151.0,151.0,151.0,151.0,null,175.0,175.0,160.0,168.0,167.0,162.0,180.0,180.0,170.0,182.0,177.0,159.0,159.0,164.0,176.0,164.0,169.0,180.0,160.0,171.0,171.0,171.0,160.0,151.0,151.0,151.0,151.0,151.0,151.0,151.0,151.0,151.0,151.0,151.0,176.0,159.0,172.0,172.0,172.0,null,null,178.0,null,179.0,166.0,166.0,175.0,174.0,174.0,178.0,178.0,160.0,174.0,174.0,167.0,169.0,172.0,172.0,160.0,160.0,165.0,175.0,175.0,162.0,162.0,169.0,173.0,179.0,165.0,165.0,156.0,165.0,176.0,182.0,165.0,165.0,165.0,null,null,172.0,172.0,164.0,162.0,158.0,null,176.0,183.0,183.0,183.0,183.0,170.0,176.0,176.0,183.0,183.0,163.0,null,195.0,168.0,167.0,167.0,167.0,170.0,162.0,162.0,162.0,194.0,194.0,157.0,157.0,157.0,157.0,157.0,157.0,157.0,157.0,157.0,157.0,157.0,162.0,170.0,162.0,170.0,156.0,156.0,156.0,156.0,156.0,173.0,170.0,170.0,170.0,170.0,170.0,180.0,176.0,176.0,161.0,161.0,161.0,161.0,161.0,161.0,null,null,null,null,null,null,170.0,176.0,176.0,165.0,165.0,164.0,177.0,177.0,null,null,171.0,166.0,166.0,175.0,175.0,175.0,175.0,176.0,176.0,164.0,161.0,161.0,161.0,161.0,161.0,177.0,181.0,169.0,162.0,171.0,171.0,171.0,171.0,192.0,192.0,183.0,183.0,183.0,183.0,178.0,178.0,175.0,179.0,158.0,176.0,156.0,null,null,162.0,null,null,176.0,174.0,174.0,174.0,174.0,167.0,165.0,null,null,null,null,178.0,178.0,167.0,167.0,167.0,167.0,null,null,160.0,160.0,null,null,160.0,160.0,174.0,167.0,163.0,163.0,163.0,163.0,163.0,163.0,null,null,168.0,165.0,168.0,156.0,157.0,172.0,175.0,175.0,175.0,175.0,180.0,180.0,180.0,175.0,171.0,175.0,175.0,173.0,173.0,165.0,153.0,153.0,183.0,183.0,145.0,145.0,145.0,145.0,145.0,145.0,145.0,145.0,145.0,145.0,145.0,172.0,172.0,172.0,168.0,154.0,173.0,160.0,160.0,160.0,158.0,158.0,165.0,159.0,159.0,159.0,166.0,166.0,166.0,166.0,170.0,187.0,174.0,184.0,167.0,172.0,172.0,196.0,196.0,196.0,164.0,161.0,161.0,193.0,193.0,184.0,178.0,178.0,169.0,167.0,167.0,156.0,162.0,162.0,162.0,162.0,162.0,163.0,173.0,163.0,164.0,170.0,168.0,180.0,180.0,180.0,183.0,null,170.0,170.0,170.0,178.0,163.0,165.0,165.0,165.0,165.0,165.0,165.0,165.0,169.0,180.0,169.0,169.0,170.0,170.0,170.0,170.0,168.0,157.0,157.0,157.0,157.0,157.0,173.0,173.0,162.0,162.0,162.0,162.0,170.0,170.0,170.0,155.0,161.0,187.0,187.0,147.0,147.0,147.0,147.0,147.0,147.0,147.0,147.0,147.0,147.0,173.0,173.0,173.0,176.0,181.0,162.0,162.0,162.0,170.0,172.0,172.0,172.0,172.0,159.0,173.0,168.0,170.0,191.0,162.0,161.0,161.0,161.0,170.0,178.0,178.0,178.0,161.0,161.0,161.0,161.0,165.0,175.0,175.0,176.0,178.0,180.0,180.0,182.0,174.0,156.0,147.0,147.0,147.0,147.0,147.0,147.0,147.0,147.0,147.0,147.0,147.0,147.0,147.0,147.0,147.0,147.0,147.0,147.0,147.0,147.0,147.0,147.0,147.0,147.0,177.0,177.0,180.0,180.0,179.0,156.0,null,167.0,167.0,181.0,181.0,170.0,170.0,170.0,182.0,182.0,186.0,169.0,169.0,154.0,190.0,184.0,169.0,177.0,173.0,173.0,173.0,172.0,172.0,193.0,193.0,193.0,179.0,170.0,172.0,171.0,158.0,158.0,158.0,158.0,171.0,171.0,173.0,168.0,168.0,168.0,175.0,166.0,166.0,166.0,166.0,null,null,null,null,null,187.0,179.0,170.0,183.0,183.0,183.0,158.0,158.0,168.0,168.0,168.0,168.0,178.0,168.0,168.0,168.0,168.0,167.0,180.0,168.0,168.0,168.0,183.0,null,null,167.0,159.0,163.0,174.0,174.0,174.0,null,null,163.0,163.0,163.0,173.0,173.0,175.0,167.0,167.0,167.0,158.0,166.0,173.0,173.0,169.0,167.0,193.0,169.0,169.0,173.0,173.0,173.0,173.0,173.0,173.0,173.0,173.0,173.0,173.0,173.0,159.0,174.0,185.0,185.0,188.0,156.0,178.0,166.0,166.0,162.0,162.0,160.0,175.0,157.0,162.0,171.0,174.0,159.0,168.0,168.0,163.0,155.0,169.0,169.0,169.0,169.0,175.0,176.0,174.0,174.0,162.0,154.0,154.0,175.0,175.0,180.0,167.0,167.0,168.0,180.0,162.0,162.0,160.0,170.0,177.0,177.0,178.0,178.0,178.0,178.0,178.0,159.0,159.0,159.0,160.0,178.0,168.0,158.0,178.0,178.0,180.0,180.0,170.0,180.0,180.0,164.0,164.0,null,null,185.0,185.0,170.0,170.0,170.0,170.0,170.0,170.0,170.0,172.0,176.0,176.0,176.0,163.0,172.0,172.0,172.0,166.0,170.0,172.0,154.0,153.0,153.0,153.0,184.0,null,158.0,158.0,170.0,170.0,164.0,164.0,164.0,175.0,165.0,168.0,168.0,168.0,165.0,165.0,169.0,161.0,161.0,161.0,161.0,156.0,169.0,160.0,160.0,169.0,169.0,169.0,169.0,169.0,179.0,153.0,153.0,165.0,165.0,165.0,160.0,160.0,164.0,167.0,167.0,172.0,174.0,172.0,162.0,170.0,170.0,170.0,176.0,176.0,176.0,166.0,179.0,169.0,169.0,167.0,167.0,167.0,180.0,180.0,168.0,174.0,174.0,174.0,174.0,168.0,178.0,null,null,172.0,159.0,185.0,158.0,158.0,168.0,157.0,157.0,null,172.0,172.0,175.0,174.0,179.0,161.0,160.0,169.0,165.0,165.0,165.0,165.0,165.0,148.0,148.0,148.0,148.0,148.0,148.0,148.0,148.0,148.0,148.0,165.0,165.0,175.0,175.0,168.0,168.0,166.0,170.0,170.0,165.0,163.0,163.0,163.0,163.0,163.0,163.0,null,null,176.0,176.0,null,168.0,180.0,165.0,170.0,173.0,173.0,173.0,173.0,173.0,156.0,156.0,188.0,170.0,170.0,170.0,178.0,178.0,155.0,153.0,177.0,165.0,177.0,189.0,162.0,166.0,166.0,166.0,166.0,166.0,133.0,133.0,133.0,133.0,133.0,174.0,179.0,163.0,163.0,169.0,null,160.0,null,null,null,null,null,185.0,150.0,150.0,150.0,150.0,150.0,154.0,163.0,163.0,163.0,163.0,180.0,180.0,166.0,166.0,170.0,170.0,167.0,167.0,169.0,174.0,173.0,173.0,169.0,182.0,182.0,166.0,166.0,172.0,167.0,167.0,167.0,176.0,190.0,165.0,165.0,160.0,172.0,172.0,172.0,null,161.0,156.0,156.0,156.0,156.0,156.0,156.0,156.0,156.0,156.0,156.0,170.0,170.0,163.0,178.0,164.0,156.0,176.0,153.0,169.0,null,181.0,174.0,161.0,170.0,161.0,166.0,166.0,168.0,168.0,168.0,168.0,170.0,167.0,167.0,167.0,181.0,166.0,168.0,168.0,178.0,178.0,178.0,164.0,196.0,166.0,null,167.0,167.0,180.0,null,null,160.0,160.0,160.0,160.0,160.0,160.0,160.0,160.0,164.0,164.0,null,null,176.0,176.0,168.0,null,null,171.0,171.0,175.0,171.0,185.0,173.0,null,190.0,156.0,180.0,162.0,162.0,172.0,190.0,null],\"yaxis\":\"y\",\"type\":\"scattergl\"},{\"customdata\":[[\"Silver\"],[\"Silver\"],[\"Silver\"],[\"Silver\"],[\"Silver\"],[\"Silver\"],[\"Silver\"],[\"Silver\"],[\"Silver\"],[\"Silver\"],[\"Silver\"],[\"Silver\"],[\"Silver\"],[\"Silver\"],[\"Silver\"],[\"Silver\"],[\"Silver\"],[\"Silver\"],[\"Silver\"],[\"Silver\"],[\"Silver\"],[\"Silver\"],[\"Silver\"],[\"Silver\"],[\"Silver\"],[\"Silver\"],[\"Silver\"],[\"Silver\"],[\"Silver\"],[\"Silver\"],[\"Silver\"],[\"Silver\"],[\"Silver\"],[\"Silver\"],[\"Silver\"],[\"Silver\"],[\"Silver\"],[\"Silver\"],[\"Silver\"],[\"Silver\"],[\"Silver\"],[\"Silver\"],[\"Silver\"],[\"Silver\"],[\"Silver\"],[\"Silver\"],[\"Silver\"]],\"hovertemplate\":\"<b>%{hovertext}</b><br><br>Sex=F<br>Medal=%{customdata[0]}<br>Year=%{x}<br>Height=%{y}<extra></extra>\",\"hovertext\":[\"Basketball\",\"Basketball\",\"Football\",\"Football\",\"Football\",\"Football\",\"Basketball\",\"Basketball\",\"Basketball\",\"Football\",\"Football\",\"Football\",\"Football\",\"Football\",\"Football\",\"Football\",\"Football\",\"Football\",\"Football\",\"Football\",\"Football\",\"Basketball\",\"Basketball\",\"Football\",\"Football\",\"Football\",\"Football\",\"Basketball\",\"Football\",\"Football\",\"Football\",\"Football\",\"Football\",\"Football\",\"Basketball\",\"Football\",\"Football\",\"Football\",\"Football\",\"Football\",\"Basketball\",\"Football\",\"Basketball\",\"Football\",\"Basketball\",\"Football\",\"Football\"],\"legendgroup\":\"F, Silver\",\"marker\":{\"color\":\"red\",\"opacity\":0.3,\"symbol\":\"diamond\"},\"mode\":\"markers\",\"name\":\"F, Silver\",\"showlegend\":true,\"x\":[1996,1996,2004,2004,2008,2008,1996,1996,1996,2004,2008,2004,2008,2004,2008,2008,2008,2004,2008,2008,2004,1996,1996,2004,2004,2004,2008,1996,2004,2008,2008,2004,2008,2004,1996,2004,2008,2008,2004,2008,1996,2004,1996,2008,1996,2004,2008],\"xaxis\":\"x\",\"y\":[180.0,200.0,180.0,175.0,175.0,171.0,170.0,195.0,192.0,176.0,176.0,171.0,171.0,167.0,172.0,164.0,161.0,162.0,162.0,161.0,162.0,174.0,182.0,169.0,164.0,171.0,171.0,187.0,162.0,162.0,159.0,155.0,155.0,178.0,174.0,157.0,157.0,172.0,173.0,173.0,180.0,156.0,173.0,172.0,190.0,166.0,166.0],\"yaxis\":\"y\",\"type\":\"scattergl\"},{\"customdata\":[[\"Gold\"],[\"Gold\"],[\"Gold\"],[\"Gold\"],[\"Gold\"],[\"Gold\"],[\"Gold\"],[\"Gold\"],[\"Gold\"],[\"Gold\"],[\"Gold\"],[\"Gold\"],[\"Gold\"],[\"Gold\"],[\"Gold\"],[\"Gold\"],[\"Gold\"],[\"Gold\"],[\"Gold\"],[\"Gold\"],[\"Gold\"],[\"Gold\"],[\"Gold\"],[\"Gold\"],[\"Gold\"],[\"Gold\"],[\"Gold\"],[\"Gold\"],[\"Gold\"]],\"hovertemplate\":\"<b>%{hovertext}</b><br><br>Sex=F<br>Medal=%{customdata[0]}<br>Year=%{x}<br>Height=%{y}<extra></extra>\",\"hovertext\":[\"Volleyball\",\"Volleyball\",\"Volleyball\",\"Volleyball\",\"Volleyball\",\"Volleyball\",\"Volleyball\",\"Volleyball\",\"Volleyball\",\"Sailing\",\"Volleyball\",\"Volleyball\",\"Sailing\",\"Volleyball\",\"Athletics\",\"Volleyball\",\"Judo\",\"Volleyball\",\"Volleyball\",\"Volleyball\",\"Volleyball\",\"Volleyball\",\"Volleyball\",\"Judo\",\"Volleyball\",\"Volleyball\",\"Volleyball\",\"Volleyball\",\"Volleyball\"],\"legendgroup\":\"F, Gold\",\"marker\":{\"color\":\"red\",\"opacity\":0.3,\"symbol\":\"square\"},\"mode\":\"markers\",\"name\":\"F, Gold\",\"showlegend\":true,\"x\":[2012,2008,2008,2012,2008,2012,2012,2008,2012,2016,2008,2012,2016,2012,2008,2008,2012,2012,2008,2012,2008,2008,2012,2016,2012,2008,2012,2008,2008],\"xaxis\":\"x\",\"y\":[187.0,182.0,169.0,169.0,193.0,193.0,172.0,173.0,181.0,168.0,186.0,186.0,172.0,183.0,173.0,188.0,154.0,184.0,184.0,184.0,179.0,185.0,185.0,169.0,184.0,196.0,196.0,180.0,190.0],\"yaxis\":\"y\",\"type\":\"scattergl\"},{\"customdata\":[[\"Bronze\"],[\"Bronze\"],[\"Bronze\"],[\"Bronze\"],[\"Bronze\"],[\"Bronze\"],[\"Bronze\"],[\"Bronze\"],[\"Bronze\"],[\"Bronze\"],[\"Bronze\"],[\"Bronze\"],[\"Bronze\"],[\"Bronze\"],[\"Bronze\"],[\"Bronze\"],[\"Bronze\"],[\"Bronze\"],[\"Bronze\"],[\"Bronze\"],[\"Bronze\"],[\"Bronze\"],[\"Bronze\"],[\"Bronze\"],[\"Bronze\"],[\"Bronze\"],[\"Bronze\"],[\"Bronze\"],[\"Bronze\"],[\"Bronze\"],[\"Bronze\"],[\"Bronze\"],[\"Bronze\"],[\"Bronze\"],[\"Bronze\"],[\"Bronze\"],[\"Bronze\"],[\"Bronze\"],[\"Bronze\"],[\"Bronze\"],[\"Bronze\"],[\"Bronze\"],[\"Bronze\"],[\"Bronze\"],[\"Bronze\"]],\"hovertemplate\":\"<b>%{hovertext}</b><br><br>Sex=F<br>Medal=%{customdata[0]}<br>Year=%{x}<br>Height=%{y}<extra></extra>\",\"hovertext\":[\"Basketball\",\"Basketball\",\"Basketball\",\"Volleyball\",\"Volleyball\",\"Boxing\",\"Basketball\",\"Basketball\",\"Judo\",\"Judo\",\"Volleyball\",\"Taekwondo\",\"Volleyball\",\"Volleyball\",\"Volleyball\",\"Volleyball\",\"Basketball\",\"Volleyball\",\"Volleyball\",\"Basketball\",\"Volleyball\",\"Volleyball\",\"Volleyball\",\"Basketball\",\"Volleyball\",\"Volleyball\",\"Volleyball\",\"Volleyball\",\"Basketball\",\"Volleyball\",\"Modern Pentathlon\",\"Volleyball\",\"Swimming\",\"Sailing\",\"Judo\",\"Volleyball\",\"Volleyball\",\"Volleyball\",\"Basketball\",\"Basketball\",\"Sailing\",\"Volleyball\",\"Volleyball\",\"Volleyball\",\"Basketball\"],\"legendgroup\":\"F, Bronze\",\"marker\":{\"color\":\"red\",\"opacity\":0.3,\"symbol\":\"x\"},\"mode\":\"markers\",\"name\":\"F, Bronze\",\"showlegend\":true,\"x\":[2000,2000,2000,1996,1996,2012,2000,2000,2012,2016,2000,2008,1996,1996,1996,2000,2000,1996,1996,2000,2000,2000,2000,2000,2000,2000,1996,2000,2000,1996,2012,1996,2016,2008,2008,2000,2000,1996,2000,2000,2008,1996,2000,2000,2000],\"xaxis\":\"x\",\"y\":[180.0,170.0,200.0,187.0,183.0,167.0,195.0,170.0,177.0,177.0,184.0,178.0,180.0,192.0,173.0,173.0,175.0,182.0,177.0,182.0,192.0,187.0,172.0,193.0,193.0,179.0,179.0,179.0,186.0,185.0,166.0,185.0,165.0,161.0,164.0,191.0,185.0,178.0,173.0,190.0,181.0,185.0,185.0,190.0,190.0],\"yaxis\":\"y\",\"type\":\"scattergl\"}],                        {\"template\":{\"data\":{\"bar\":[{\"error_x\":{\"color\":\"#2a3f5f\"},\"error_y\":{\"color\":\"#2a3f5f\"},\"marker\":{\"line\":{\"color\":\"#E5ECF6\",\"width\":0.5},\"pattern\":{\"fillmode\":\"overlay\",\"size\":10,\"solidity\":0.2}},\"type\":\"bar\"}],\"barpolar\":[{\"marker\":{\"line\":{\"color\":\"#E5ECF6\",\"width\":0.5},\"pattern\":{\"fillmode\":\"overlay\",\"size\":10,\"solidity\":0.2}},\"type\":\"barpolar\"}],\"carpet\":[{\"aaxis\":{\"endlinecolor\":\"#2a3f5f\",\"gridcolor\":\"white\",\"linecolor\":\"white\",\"minorgridcolor\":\"white\",\"startlinecolor\":\"#2a3f5f\"},\"baxis\":{\"endlinecolor\":\"#2a3f5f\",\"gridcolor\":\"white\",\"linecolor\":\"white\",\"minorgridcolor\":\"white\",\"startlinecolor\":\"#2a3f5f\"},\"type\":\"carpet\"}],\"choropleth\":[{\"colorbar\":{\"outlinewidth\":0,\"ticks\":\"\"},\"type\":\"choropleth\"}],\"contour\":[{\"colorbar\":{\"outlinewidth\":0,\"ticks\":\"\"},\"colorscale\":[[0.0,\"#0d0887\"],[0.1111111111111111,\"#46039f\"],[0.2222222222222222,\"#7201a8\"],[0.3333333333333333,\"#9c179e\"],[0.4444444444444444,\"#bd3786\"],[0.5555555555555556,\"#d8576b\"],[0.6666666666666666,\"#ed7953\"],[0.7777777777777778,\"#fb9f3a\"],[0.8888888888888888,\"#fdca26\"],[1.0,\"#f0f921\"]],\"type\":\"contour\"}],\"contourcarpet\":[{\"colorbar\":{\"outlinewidth\":0,\"ticks\":\"\"},\"type\":\"contourcarpet\"}],\"heatmap\":[{\"colorbar\":{\"outlinewidth\":0,\"ticks\":\"\"},\"colorscale\":[[0.0,\"#0d0887\"],[0.1111111111111111,\"#46039f\"],[0.2222222222222222,\"#7201a8\"],[0.3333333333333333,\"#9c179e\"],[0.4444444444444444,\"#bd3786\"],[0.5555555555555556,\"#d8576b\"],[0.6666666666666666,\"#ed7953\"],[0.7777777777777778,\"#fb9f3a\"],[0.8888888888888888,\"#fdca26\"],[1.0,\"#f0f921\"]],\"type\":\"heatmap\"}],\"heatmapgl\":[{\"colorbar\":{\"outlinewidth\":0,\"ticks\":\"\"},\"colorscale\":[[0.0,\"#0d0887\"],[0.1111111111111111,\"#46039f\"],[0.2222222222222222,\"#7201a8\"],[0.3333333333333333,\"#9c179e\"],[0.4444444444444444,\"#bd3786\"],[0.5555555555555556,\"#d8576b\"],[0.6666666666666666,\"#ed7953\"],[0.7777777777777778,\"#fb9f3a\"],[0.8888888888888888,\"#fdca26\"],[1.0,\"#f0f921\"]],\"type\":\"heatmapgl\"}],\"histogram\":[{\"marker\":{\"pattern\":{\"fillmode\":\"overlay\",\"size\":10,\"solidity\":0.2}},\"type\":\"histogram\"}],\"histogram2d\":[{\"colorbar\":{\"outlinewidth\":0,\"ticks\":\"\"},\"colorscale\":[[0.0,\"#0d0887\"],[0.1111111111111111,\"#46039f\"],[0.2222222222222222,\"#7201a8\"],[0.3333333333333333,\"#9c179e\"],[0.4444444444444444,\"#bd3786\"],[0.5555555555555556,\"#d8576b\"],[0.6666666666666666,\"#ed7953\"],[0.7777777777777778,\"#fb9f3a\"],[0.8888888888888888,\"#fdca26\"],[1.0,\"#f0f921\"]],\"type\":\"histogram2d\"}],\"histogram2dcontour\":[{\"colorbar\":{\"outlinewidth\":0,\"ticks\":\"\"},\"colorscale\":[[0.0,\"#0d0887\"],[0.1111111111111111,\"#46039f\"],[0.2222222222222222,\"#7201a8\"],[0.3333333333333333,\"#9c179e\"],[0.4444444444444444,\"#bd3786\"],[0.5555555555555556,\"#d8576b\"],[0.6666666666666666,\"#ed7953\"],[0.7777777777777778,\"#fb9f3a\"],[0.8888888888888888,\"#fdca26\"],[1.0,\"#f0f921\"]],\"type\":\"histogram2dcontour\"}],\"mesh3d\":[{\"colorbar\":{\"outlinewidth\":0,\"ticks\":\"\"},\"type\":\"mesh3d\"}],\"parcoords\":[{\"line\":{\"colorbar\":{\"outlinewidth\":0,\"ticks\":\"\"}},\"type\":\"parcoords\"}],\"pie\":[{\"automargin\":true,\"type\":\"pie\"}],\"scatter\":[{\"marker\":{\"colorbar\":{\"outlinewidth\":0,\"ticks\":\"\"}},\"type\":\"scatter\"}],\"scatter3d\":[{\"line\":{\"colorbar\":{\"outlinewidth\":0,\"ticks\":\"\"}},\"marker\":{\"colorbar\":{\"outlinewidth\":0,\"ticks\":\"\"}},\"type\":\"scatter3d\"}],\"scattercarpet\":[{\"marker\":{\"colorbar\":{\"outlinewidth\":0,\"ticks\":\"\"}},\"type\":\"scattercarpet\"}],\"scattergeo\":[{\"marker\":{\"colorbar\":{\"outlinewidth\":0,\"ticks\":\"\"}},\"type\":\"scattergeo\"}],\"scattergl\":[{\"marker\":{\"colorbar\":{\"outlinewidth\":0,\"ticks\":\"\"}},\"type\":\"scattergl\"}],\"scattermapbox\":[{\"marker\":{\"colorbar\":{\"outlinewidth\":0,\"ticks\":\"\"}},\"type\":\"scattermapbox\"}],\"scatterpolar\":[{\"marker\":{\"colorbar\":{\"outlinewidth\":0,\"ticks\":\"\"}},\"type\":\"scatterpolar\"}],\"scatterpolargl\":[{\"marker\":{\"colorbar\":{\"outlinewidth\":0,\"ticks\":\"\"}},\"type\":\"scatterpolargl\"}],\"scatterternary\":[{\"marker\":{\"colorbar\":{\"outlinewidth\":0,\"ticks\":\"\"}},\"type\":\"scatterternary\"}],\"surface\":[{\"colorbar\":{\"outlinewidth\":0,\"ticks\":\"\"},\"colorscale\":[[0.0,\"#0d0887\"],[0.1111111111111111,\"#46039f\"],[0.2222222222222222,\"#7201a8\"],[0.3333333333333333,\"#9c179e\"],[0.4444444444444444,\"#bd3786\"],[0.5555555555555556,\"#d8576b\"],[0.6666666666666666,\"#ed7953\"],[0.7777777777777778,\"#fb9f3a\"],[0.8888888888888888,\"#fdca26\"],[1.0,\"#f0f921\"]],\"type\":\"surface\"}],\"table\":[{\"cells\":{\"fill\":{\"color\":\"#EBF0F8\"},\"line\":{\"color\":\"white\"}},\"header\":{\"fill\":{\"color\":\"#C8D4E3\"},\"line\":{\"color\":\"white\"}},\"type\":\"table\"}]},\"layout\":{\"annotationdefaults\":{\"arrowcolor\":\"#2a3f5f\",\"arrowhead\":0,\"arrowwidth\":1},\"autotypenumbers\":\"strict\",\"coloraxis\":{\"colorbar\":{\"outlinewidth\":0,\"ticks\":\"\"}},\"colorscale\":{\"diverging\":[[0,\"#8e0152\"],[0.1,\"#c51b7d\"],[0.2,\"#de77ae\"],[0.3,\"#f1b6da\"],[0.4,\"#fde0ef\"],[0.5,\"#f7f7f7\"],[0.6,\"#e6f5d0\"],[0.7,\"#b8e186\"],[0.8,\"#7fbc41\"],[0.9,\"#4d9221\"],[1,\"#276419\"]],\"sequential\":[[0.0,\"#0d0887\"],[0.1111111111111111,\"#46039f\"],[0.2222222222222222,\"#7201a8\"],[0.3333333333333333,\"#9c179e\"],[0.4444444444444444,\"#bd3786\"],[0.5555555555555556,\"#d8576b\"],[0.6666666666666666,\"#ed7953\"],[0.7777777777777778,\"#fb9f3a\"],[0.8888888888888888,\"#fdca26\"],[1.0,\"#f0f921\"]],\"sequentialminus\":[[0.0,\"#0d0887\"],[0.1111111111111111,\"#46039f\"],[0.2222222222222222,\"#7201a8\"],[0.3333333333333333,\"#9c179e\"],[0.4444444444444444,\"#bd3786\"],[0.5555555555555556,\"#d8576b\"],[0.6666666666666666,\"#ed7953\"],[0.7777777777777778,\"#fb9f3a\"],[0.8888888888888888,\"#fdca26\"],[1.0,\"#f0f921\"]]},\"colorway\":[\"#636efa\",\"#EF553B\",\"#00cc96\",\"#ab63fa\",\"#FFA15A\",\"#19d3f3\",\"#FF6692\",\"#B6E880\",\"#FF97FF\",\"#FECB52\"],\"font\":{\"color\":\"#2a3f5f\"},\"geo\":{\"bgcolor\":\"white\",\"lakecolor\":\"white\",\"landcolor\":\"#E5ECF6\",\"showlakes\":true,\"showland\":true,\"subunitcolor\":\"white\"},\"hoverlabel\":{\"align\":\"left\"},\"hovermode\":\"closest\",\"mapbox\":{\"style\":\"light\"},\"paper_bgcolor\":\"white\",\"plot_bgcolor\":\"#E5ECF6\",\"polar\":{\"angularaxis\":{\"gridcolor\":\"white\",\"linecolor\":\"white\",\"ticks\":\"\"},\"bgcolor\":\"#E5ECF6\",\"radialaxis\":{\"gridcolor\":\"white\",\"linecolor\":\"white\",\"ticks\":\"\"}},\"scene\":{\"xaxis\":{\"backgroundcolor\":\"#E5ECF6\",\"gridcolor\":\"white\",\"gridwidth\":2,\"linecolor\":\"white\",\"showbackground\":true,\"ticks\":\"\",\"zerolinecolor\":\"white\"},\"yaxis\":{\"backgroundcolor\":\"#E5ECF6\",\"gridcolor\":\"white\",\"gridwidth\":2,\"linecolor\":\"white\",\"showbackground\":true,\"ticks\":\"\",\"zerolinecolor\":\"white\"},\"zaxis\":{\"backgroundcolor\":\"#E5ECF6\",\"gridcolor\":\"white\",\"gridwidth\":2,\"linecolor\":\"white\",\"showbackground\":true,\"ticks\":\"\",\"zerolinecolor\":\"white\"}},\"shapedefaults\":{\"line\":{\"color\":\"#2a3f5f\"}},\"ternary\":{\"aaxis\":{\"gridcolor\":\"white\",\"linecolor\":\"white\",\"ticks\":\"\"},\"baxis\":{\"gridcolor\":\"white\",\"linecolor\":\"white\",\"ticks\":\"\"},\"bgcolor\":\"#E5ECF6\",\"caxis\":{\"gridcolor\":\"white\",\"linecolor\":\"white\",\"ticks\":\"\"}},\"title\":{\"x\":0.05},\"xaxis\":{\"automargin\":true,\"gridcolor\":\"white\",\"linecolor\":\"white\",\"ticks\":\"\",\"title\":{\"standoff\":15},\"zerolinecolor\":\"white\",\"zerolinewidth\":2},\"yaxis\":{\"automargin\":true,\"gridcolor\":\"white\",\"linecolor\":\"white\",\"ticks\":\"\",\"title\":{\"standoff\":15},\"zerolinecolor\":\"white\",\"zerolinewidth\":2}}},\"xaxis\":{\"anchor\":\"y\",\"domain\":[0.0,1.0],\"title\":{\"text\":\"Year\"}},\"yaxis\":{\"anchor\":\"x\",\"domain\":[0.0,1.0],\"title\":{\"text\":\"Height\"}},\"legend\":{\"title\":{\"text\":\"Sex, Medal\"},\"tracegroupgap\":0},\"title\":{\"text\":\"Autura x ano\"}},                        {\"responsive\": true}                    ).then(function(){\n",
       "                            \n",
       "var gd = document.getElementById('04ac7c80-72fb-4f33-9b81-1fce235db59a');\n",
       "var x = new MutationObserver(function (mutations, observer) {{\n",
       "        var display = window.getComputedStyle(gd).display;\n",
       "        if (!display || display === 'none') {{\n",
       "            console.log([gd, 'removed!']);\n",
       "            Plotly.purge(gd);\n",
       "            observer.disconnect();\n",
       "        }}\n",
       "}});\n",
       "\n",
       "// Listen for the removal of the full notebook cells\n",
       "var notebookContainer = gd.closest('#notebook-container');\n",
       "if (notebookContainer) {{\n",
       "    x.observe(notebookContainer, {childList: true});\n",
       "}}\n",
       "\n",
       "// Listen for the clearing of the current output cell\n",
       "var outputEl = gd.closest('.output');\n",
       "if (outputEl) {{\n",
       "    x.observe(outputEl, {childList: true});\n",
       "}}\n",
       "\n",
       "                        })                };                });            </script>        </div>"
      ]
     },
     "metadata": {},
     "output_type": "display_data"
    }
   ],
   "source": [
    "fig = px.scatter(x='Year', y='Height', data_frame=df_bra, title='Autura x ano', color='Sex', opacity=.3, \n",
    "                category_orders={'Sex':['M','F']}, hover_data=['Medal'], symbol='Medal', hover_name='Sport',\n",
    "                 color_discrete_map={'M' : 'blue', 'F' : 'red'});\n",
    "fig"
   ]
  },
  {
   "cell_type": "markdown",
   "id": "5eb6aba6",
   "metadata": {
    "id": "5eb6aba6"
   },
   "source": [
    "**3. Vamos analisar agora as medalhas que nossos atletas trouxeram para casa.**\n",
    "\n",
    "Crie uma visualização de sua preferência para mostrar, por esporte, a proporção de medalhas de ouro, prata e bronze que nosso país já consquistou.\n",
    "\n",
    "**Facilitador:** Se preferir, mostre as proporções apenas para os 6 esportes que tiveram mais medalhas.  \n",
    "\n",
    "*DICA:* Cuidado! Esportes em equipe dão medalhas a todos os jogadores, mas só contabilizam uma vez!"
   ]
  },
  {
   "cell_type": "code",
   "execution_count": 87,
   "id": "6b90ed05",
   "metadata": {
    "scrolled": true
   },
   "outputs": [],
   "source": [
    "df3 = df_bra[[\"Sport\",\"Medal\",\"Year\",\"Event\",\"Sex\"]].drop_duplicates()\n"
   ]
  },
  {
   "cell_type": "code",
   "execution_count": 88,
   "id": "132276f3",
   "metadata": {
    "scrolled": false
   },
   "outputs": [],
   "source": [
    "df4 = df3[df3[\"Medal\"] != \"Sem medalha\"].groupby([\"Medal\", \"Sport\"], as_index=False).count()"
   ]
  },
  {
   "cell_type": "code",
   "execution_count": 89,
   "id": "5976a030",
   "metadata": {
    "scrolled": false
   },
   "outputs": [
    {
     "data": {
      "text/html": [
       "<div>\n",
       "<style scoped>\n",
       "    .dataframe tbody tr th:only-of-type {\n",
       "        vertical-align: middle;\n",
       "    }\n",
       "\n",
       "    .dataframe tbody tr th {\n",
       "        vertical-align: top;\n",
       "    }\n",
       "\n",
       "    .dataframe thead th {\n",
       "        text-align: right;\n",
       "    }\n",
       "</style>\n",
       "<table border=\"1\" class=\"dataframe\">\n",
       "  <thead>\n",
       "    <tr style=\"text-align: right;\">\n",
       "      <th></th>\n",
       "      <th>Medal</th>\n",
       "      <th>Sport</th>\n",
       "      <th>Year</th>\n",
       "      <th>Event</th>\n",
       "      <th>Sex</th>\n",
       "    </tr>\n",
       "  </thead>\n",
       "  <tbody>\n",
       "    <tr>\n",
       "      <th>0</th>\n",
       "      <td>Bronze</td>\n",
       "      <td>Athletics</td>\n",
       "      <td>8</td>\n",
       "      <td>8</td>\n",
       "      <td>8</td>\n",
       "    </tr>\n",
       "    <tr>\n",
       "      <th>1</th>\n",
       "      <td>Bronze</td>\n",
       "      <td>Basketball</td>\n",
       "      <td>4</td>\n",
       "      <td>4</td>\n",
       "      <td>4</td>\n",
       "    </tr>\n",
       "    <tr>\n",
       "      <th>2</th>\n",
       "      <td>Bronze</td>\n",
       "      <td>Boxing</td>\n",
       "      <td>3</td>\n",
       "      <td>3</td>\n",
       "      <td>3</td>\n",
       "    </tr>\n",
       "    <tr>\n",
       "      <th>3</th>\n",
       "      <td>Bronze</td>\n",
       "      <td>Canoeing</td>\n",
       "      <td>1</td>\n",
       "      <td>1</td>\n",
       "      <td>1</td>\n",
       "    </tr>\n",
       "    <tr>\n",
       "      <th>4</th>\n",
       "      <td>Bronze</td>\n",
       "      <td>Equestrianism</td>\n",
       "      <td>2</td>\n",
       "      <td>2</td>\n",
       "      <td>2</td>\n",
       "    </tr>\n",
       "  </tbody>\n",
       "</table>\n",
       "</div>"
      ],
      "text/plain": [
       "    Medal          Sport  Year  Event  Sex\n",
       "0  Bronze      Athletics     8      8    8\n",
       "1  Bronze     Basketball     4      4    4\n",
       "2  Bronze         Boxing     3      3    3\n",
       "3  Bronze       Canoeing     1      1    1\n",
       "4  Bronze  Equestrianism     2      2    2"
      ]
     },
     "execution_count": 89,
     "metadata": {},
     "output_type": "execute_result"
    }
   ],
   "source": [
    "df4.head()"
   ]
  },
  {
   "cell_type": "code",
   "execution_count": 144,
   "id": "62ff35f9",
   "metadata": {
    "scrolled": false
   },
   "outputs": [
    {
     "data": {
      "application/vnd.plotly.v1+json": {
       "config": {
        "plotlyServerURL": "https://plot.ly"
       },
       "data": [
        {
         "alignmentgroup": "True",
         "hovertemplate": "Medal=Bronze<br>Sport=%{x}<br>Event=%{y}<extra></extra>",
         "legendgroup": "Bronze",
         "marker": {
          "color": "#cd7f32",
          "pattern": {
           "shape": ""
          }
         },
         "name": "Bronze",
         "offsetgroup": "Bronze",
         "orientation": "v",
         "showlegend": true,
         "textposition": "auto",
         "type": "bar",
         "x": [
          "Athletics",
          "Basketball",
          "Boxing",
          "Canoeing",
          "Equestrianism",
          "Football",
          "Gymnastics",
          "Judo",
          "Modern Pentathlon",
          "Sailing",
          "Shooting",
          "Swimming",
          "Taekwondo",
          "Volleyball"
         ],
         "xaxis": "x",
         "y": [
          8,
          4,
          3,
          1,
          2,
          2,
          1,
          15,
          1,
          8,
          1,
          9,
          2,
          2
         ],
         "yaxis": "y"
        },
        {
         "alignmentgroup": "True",
         "hovertemplate": "Medal=Gold<br>Sport=%{x}<br>Event=%{y}<extra></extra>",
         "legendgroup": "Gold",
         "marker": {
          "color": "gold",
          "pattern": {
           "shape": ""
          }
         },
         "name": "Gold",
         "offsetgroup": "Gold",
         "orientation": "v",
         "showlegend": true,
         "textposition": "auto",
         "type": "bar",
         "x": [
          "Athletics",
          "Boxing",
          "Equestrianism",
          "Football",
          "Gymnastics",
          "Judo",
          "Sailing",
          "Shooting",
          "Swimming",
          "Volleyball"
         ],
         "xaxis": "x",
         "y": [
          5,
          1,
          1,
          1,
          1,
          4,
          7,
          1,
          1,
          5
         ],
         "yaxis": "y"
        },
        {
         "alignmentgroup": "True",
         "hovertemplate": "Medal=Silver<br>Sport=%{x}<br>Event=%{y}<extra></extra>",
         "legendgroup": "Silver",
         "marker": {
          "color": "silver",
          "pattern": {
           "shape": ""
          }
         },
         "name": "Silver",
         "offsetgroup": "Silver",
         "orientation": "v",
         "showlegend": true,
         "textposition": "auto",
         "type": "bar",
         "x": [
          "Athletics",
          "Basketball",
          "Boxing",
          "Canoeing",
          "Football",
          "Gymnastics",
          "Judo",
          "Sailing",
          "Shooting",
          "Swimming",
          "Volleyball"
         ],
         "xaxis": "x",
         "y": [
          3,
          1,
          1,
          2,
          5,
          2,
          3,
          3,
          2,
          4,
          3
         ],
         "yaxis": "y"
        }
       ],
       "layout": {
        "barmode": "group",
        "legend": {
         "title": {
          "text": "Medal"
         },
         "tracegroupgap": 0
        },
        "margin": {
         "t": 60
        },
        "template": {
         "data": {
          "bar": [
           {
            "error_x": {
             "color": "#2a3f5f"
            },
            "error_y": {
             "color": "#2a3f5f"
            },
            "marker": {
             "line": {
              "color": "#E5ECF6",
              "width": 0.5
             },
             "pattern": {
              "fillmode": "overlay",
              "size": 10,
              "solidity": 0.2
             }
            },
            "type": "bar"
           }
          ],
          "barpolar": [
           {
            "marker": {
             "line": {
              "color": "#E5ECF6",
              "width": 0.5
             },
             "pattern": {
              "fillmode": "overlay",
              "size": 10,
              "solidity": 0.2
             }
            },
            "type": "barpolar"
           }
          ],
          "carpet": [
           {
            "aaxis": {
             "endlinecolor": "#2a3f5f",
             "gridcolor": "white",
             "linecolor": "white",
             "minorgridcolor": "white",
             "startlinecolor": "#2a3f5f"
            },
            "baxis": {
             "endlinecolor": "#2a3f5f",
             "gridcolor": "white",
             "linecolor": "white",
             "minorgridcolor": "white",
             "startlinecolor": "#2a3f5f"
            },
            "type": "carpet"
           }
          ],
          "choropleth": [
           {
            "colorbar": {
             "outlinewidth": 0,
             "ticks": ""
            },
            "type": "choropleth"
           }
          ],
          "contour": [
           {
            "colorbar": {
             "outlinewidth": 0,
             "ticks": ""
            },
            "colorscale": [
             [
              0,
              "#0d0887"
             ],
             [
              0.1111111111111111,
              "#46039f"
             ],
             [
              0.2222222222222222,
              "#7201a8"
             ],
             [
              0.3333333333333333,
              "#9c179e"
             ],
             [
              0.4444444444444444,
              "#bd3786"
             ],
             [
              0.5555555555555556,
              "#d8576b"
             ],
             [
              0.6666666666666666,
              "#ed7953"
             ],
             [
              0.7777777777777778,
              "#fb9f3a"
             ],
             [
              0.8888888888888888,
              "#fdca26"
             ],
             [
              1,
              "#f0f921"
             ]
            ],
            "type": "contour"
           }
          ],
          "contourcarpet": [
           {
            "colorbar": {
             "outlinewidth": 0,
             "ticks": ""
            },
            "type": "contourcarpet"
           }
          ],
          "heatmap": [
           {
            "colorbar": {
             "outlinewidth": 0,
             "ticks": ""
            },
            "colorscale": [
             [
              0,
              "#0d0887"
             ],
             [
              0.1111111111111111,
              "#46039f"
             ],
             [
              0.2222222222222222,
              "#7201a8"
             ],
             [
              0.3333333333333333,
              "#9c179e"
             ],
             [
              0.4444444444444444,
              "#bd3786"
             ],
             [
              0.5555555555555556,
              "#d8576b"
             ],
             [
              0.6666666666666666,
              "#ed7953"
             ],
             [
              0.7777777777777778,
              "#fb9f3a"
             ],
             [
              0.8888888888888888,
              "#fdca26"
             ],
             [
              1,
              "#f0f921"
             ]
            ],
            "type": "heatmap"
           }
          ],
          "heatmapgl": [
           {
            "colorbar": {
             "outlinewidth": 0,
             "ticks": ""
            },
            "colorscale": [
             [
              0,
              "#0d0887"
             ],
             [
              0.1111111111111111,
              "#46039f"
             ],
             [
              0.2222222222222222,
              "#7201a8"
             ],
             [
              0.3333333333333333,
              "#9c179e"
             ],
             [
              0.4444444444444444,
              "#bd3786"
             ],
             [
              0.5555555555555556,
              "#d8576b"
             ],
             [
              0.6666666666666666,
              "#ed7953"
             ],
             [
              0.7777777777777778,
              "#fb9f3a"
             ],
             [
              0.8888888888888888,
              "#fdca26"
             ],
             [
              1,
              "#f0f921"
             ]
            ],
            "type": "heatmapgl"
           }
          ],
          "histogram": [
           {
            "marker": {
             "pattern": {
              "fillmode": "overlay",
              "size": 10,
              "solidity": 0.2
             }
            },
            "type": "histogram"
           }
          ],
          "histogram2d": [
           {
            "colorbar": {
             "outlinewidth": 0,
             "ticks": ""
            },
            "colorscale": [
             [
              0,
              "#0d0887"
             ],
             [
              0.1111111111111111,
              "#46039f"
             ],
             [
              0.2222222222222222,
              "#7201a8"
             ],
             [
              0.3333333333333333,
              "#9c179e"
             ],
             [
              0.4444444444444444,
              "#bd3786"
             ],
             [
              0.5555555555555556,
              "#d8576b"
             ],
             [
              0.6666666666666666,
              "#ed7953"
             ],
             [
              0.7777777777777778,
              "#fb9f3a"
             ],
             [
              0.8888888888888888,
              "#fdca26"
             ],
             [
              1,
              "#f0f921"
             ]
            ],
            "type": "histogram2d"
           }
          ],
          "histogram2dcontour": [
           {
            "colorbar": {
             "outlinewidth": 0,
             "ticks": ""
            },
            "colorscale": [
             [
              0,
              "#0d0887"
             ],
             [
              0.1111111111111111,
              "#46039f"
             ],
             [
              0.2222222222222222,
              "#7201a8"
             ],
             [
              0.3333333333333333,
              "#9c179e"
             ],
             [
              0.4444444444444444,
              "#bd3786"
             ],
             [
              0.5555555555555556,
              "#d8576b"
             ],
             [
              0.6666666666666666,
              "#ed7953"
             ],
             [
              0.7777777777777778,
              "#fb9f3a"
             ],
             [
              0.8888888888888888,
              "#fdca26"
             ],
             [
              1,
              "#f0f921"
             ]
            ],
            "type": "histogram2dcontour"
           }
          ],
          "mesh3d": [
           {
            "colorbar": {
             "outlinewidth": 0,
             "ticks": ""
            },
            "type": "mesh3d"
           }
          ],
          "parcoords": [
           {
            "line": {
             "colorbar": {
              "outlinewidth": 0,
              "ticks": ""
             }
            },
            "type": "parcoords"
           }
          ],
          "pie": [
           {
            "automargin": true,
            "type": "pie"
           }
          ],
          "scatter": [
           {
            "marker": {
             "colorbar": {
              "outlinewidth": 0,
              "ticks": ""
             }
            },
            "type": "scatter"
           }
          ],
          "scatter3d": [
           {
            "line": {
             "colorbar": {
              "outlinewidth": 0,
              "ticks": ""
             }
            },
            "marker": {
             "colorbar": {
              "outlinewidth": 0,
              "ticks": ""
             }
            },
            "type": "scatter3d"
           }
          ],
          "scattercarpet": [
           {
            "marker": {
             "colorbar": {
              "outlinewidth": 0,
              "ticks": ""
             }
            },
            "type": "scattercarpet"
           }
          ],
          "scattergeo": [
           {
            "marker": {
             "colorbar": {
              "outlinewidth": 0,
              "ticks": ""
             }
            },
            "type": "scattergeo"
           }
          ],
          "scattergl": [
           {
            "marker": {
             "colorbar": {
              "outlinewidth": 0,
              "ticks": ""
             }
            },
            "type": "scattergl"
           }
          ],
          "scattermapbox": [
           {
            "marker": {
             "colorbar": {
              "outlinewidth": 0,
              "ticks": ""
             }
            },
            "type": "scattermapbox"
           }
          ],
          "scatterpolar": [
           {
            "marker": {
             "colorbar": {
              "outlinewidth": 0,
              "ticks": ""
             }
            },
            "type": "scatterpolar"
           }
          ],
          "scatterpolargl": [
           {
            "marker": {
             "colorbar": {
              "outlinewidth": 0,
              "ticks": ""
             }
            },
            "type": "scatterpolargl"
           }
          ],
          "scatterternary": [
           {
            "marker": {
             "colorbar": {
              "outlinewidth": 0,
              "ticks": ""
             }
            },
            "type": "scatterternary"
           }
          ],
          "surface": [
           {
            "colorbar": {
             "outlinewidth": 0,
             "ticks": ""
            },
            "colorscale": [
             [
              0,
              "#0d0887"
             ],
             [
              0.1111111111111111,
              "#46039f"
             ],
             [
              0.2222222222222222,
              "#7201a8"
             ],
             [
              0.3333333333333333,
              "#9c179e"
             ],
             [
              0.4444444444444444,
              "#bd3786"
             ],
             [
              0.5555555555555556,
              "#d8576b"
             ],
             [
              0.6666666666666666,
              "#ed7953"
             ],
             [
              0.7777777777777778,
              "#fb9f3a"
             ],
             [
              0.8888888888888888,
              "#fdca26"
             ],
             [
              1,
              "#f0f921"
             ]
            ],
            "type": "surface"
           }
          ],
          "table": [
           {
            "cells": {
             "fill": {
              "color": "#EBF0F8"
             },
             "line": {
              "color": "white"
             }
            },
            "header": {
             "fill": {
              "color": "#C8D4E3"
             },
             "line": {
              "color": "white"
             }
            },
            "type": "table"
           }
          ]
         },
         "layout": {
          "annotationdefaults": {
           "arrowcolor": "#2a3f5f",
           "arrowhead": 0,
           "arrowwidth": 1
          },
          "autotypenumbers": "strict",
          "coloraxis": {
           "colorbar": {
            "outlinewidth": 0,
            "ticks": ""
           }
          },
          "colorscale": {
           "diverging": [
            [
             0,
             "#8e0152"
            ],
            [
             0.1,
             "#c51b7d"
            ],
            [
             0.2,
             "#de77ae"
            ],
            [
             0.3,
             "#f1b6da"
            ],
            [
             0.4,
             "#fde0ef"
            ],
            [
             0.5,
             "#f7f7f7"
            ],
            [
             0.6,
             "#e6f5d0"
            ],
            [
             0.7,
             "#b8e186"
            ],
            [
             0.8,
             "#7fbc41"
            ],
            [
             0.9,
             "#4d9221"
            ],
            [
             1,
             "#276419"
            ]
           ],
           "sequential": [
            [
             0,
             "#0d0887"
            ],
            [
             0.1111111111111111,
             "#46039f"
            ],
            [
             0.2222222222222222,
             "#7201a8"
            ],
            [
             0.3333333333333333,
             "#9c179e"
            ],
            [
             0.4444444444444444,
             "#bd3786"
            ],
            [
             0.5555555555555556,
             "#d8576b"
            ],
            [
             0.6666666666666666,
             "#ed7953"
            ],
            [
             0.7777777777777778,
             "#fb9f3a"
            ],
            [
             0.8888888888888888,
             "#fdca26"
            ],
            [
             1,
             "#f0f921"
            ]
           ],
           "sequentialminus": [
            [
             0,
             "#0d0887"
            ],
            [
             0.1111111111111111,
             "#46039f"
            ],
            [
             0.2222222222222222,
             "#7201a8"
            ],
            [
             0.3333333333333333,
             "#9c179e"
            ],
            [
             0.4444444444444444,
             "#bd3786"
            ],
            [
             0.5555555555555556,
             "#d8576b"
            ],
            [
             0.6666666666666666,
             "#ed7953"
            ],
            [
             0.7777777777777778,
             "#fb9f3a"
            ],
            [
             0.8888888888888888,
             "#fdca26"
            ],
            [
             1,
             "#f0f921"
            ]
           ]
          },
          "colorway": [
           "#636efa",
           "#EF553B",
           "#00cc96",
           "#ab63fa",
           "#FFA15A",
           "#19d3f3",
           "#FF6692",
           "#B6E880",
           "#FF97FF",
           "#FECB52"
          ],
          "font": {
           "color": "#2a3f5f"
          },
          "geo": {
           "bgcolor": "white",
           "lakecolor": "white",
           "landcolor": "#E5ECF6",
           "showlakes": true,
           "showland": true,
           "subunitcolor": "white"
          },
          "hoverlabel": {
           "align": "left"
          },
          "hovermode": "closest",
          "mapbox": {
           "style": "light"
          },
          "paper_bgcolor": "white",
          "plot_bgcolor": "#E5ECF6",
          "polar": {
           "angularaxis": {
            "gridcolor": "white",
            "linecolor": "white",
            "ticks": ""
           },
           "bgcolor": "#E5ECF6",
           "radialaxis": {
            "gridcolor": "white",
            "linecolor": "white",
            "ticks": ""
           }
          },
          "scene": {
           "xaxis": {
            "backgroundcolor": "#E5ECF6",
            "gridcolor": "white",
            "gridwidth": 2,
            "linecolor": "white",
            "showbackground": true,
            "ticks": "",
            "zerolinecolor": "white"
           },
           "yaxis": {
            "backgroundcolor": "#E5ECF6",
            "gridcolor": "white",
            "gridwidth": 2,
            "linecolor": "white",
            "showbackground": true,
            "ticks": "",
            "zerolinecolor": "white"
           },
           "zaxis": {
            "backgroundcolor": "#E5ECF6",
            "gridcolor": "white",
            "gridwidth": 2,
            "linecolor": "white",
            "showbackground": true,
            "ticks": "",
            "zerolinecolor": "white"
           }
          },
          "shapedefaults": {
           "line": {
            "color": "#2a3f5f"
           }
          },
          "ternary": {
           "aaxis": {
            "gridcolor": "white",
            "linecolor": "white",
            "ticks": ""
           },
           "baxis": {
            "gridcolor": "white",
            "linecolor": "white",
            "ticks": ""
           },
           "bgcolor": "#E5ECF6",
           "caxis": {
            "gridcolor": "white",
            "linecolor": "white",
            "ticks": ""
           }
          },
          "title": {
           "x": 0.05
          },
          "xaxis": {
           "automargin": true,
           "gridcolor": "white",
           "linecolor": "white",
           "ticks": "",
           "title": {
            "standoff": 15
           },
           "zerolinecolor": "white",
           "zerolinewidth": 2
          },
          "yaxis": {
           "automargin": true,
           "gridcolor": "white",
           "linecolor": "white",
           "ticks": "",
           "title": {
            "standoff": 15
           },
           "zerolinecolor": "white",
           "zerolinewidth": 2
          }
         }
        },
        "xaxis": {
         "anchor": "y",
         "domain": [
          0,
          1
         ],
         "title": {
          "text": "Sport"
         }
        },
        "yaxis": {
         "anchor": "x",
         "domain": [
          0,
          1
         ],
         "title": {
          "text": "Event"
         }
        }
       }
      },
      "text/html": [
       "<div>                            <div id=\"9f360cd9-3481-417a-af76-472247473f79\" class=\"plotly-graph-div\" style=\"height:525px; width:100%;\"></div>            <script type=\"text/javascript\">                require([\"plotly\"], function(Plotly) {                    window.PLOTLYENV=window.PLOTLYENV || {};                                    if (document.getElementById(\"9f360cd9-3481-417a-af76-472247473f79\")) {                    Plotly.newPlot(                        \"9f360cd9-3481-417a-af76-472247473f79\",                        [{\"alignmentgroup\":\"True\",\"hovertemplate\":\"Medal=Bronze<br>Sport=%{x}<br>Event=%{y}<extra></extra>\",\"legendgroup\":\"Bronze\",\"marker\":{\"color\":\"#cd7f32\",\"pattern\":{\"shape\":\"\"}},\"name\":\"Bronze\",\"offsetgroup\":\"Bronze\",\"orientation\":\"v\",\"showlegend\":true,\"textposition\":\"auto\",\"x\":[\"Athletics\",\"Basketball\",\"Boxing\",\"Canoeing\",\"Equestrianism\",\"Football\",\"Gymnastics\",\"Judo\",\"Modern Pentathlon\",\"Sailing\",\"Shooting\",\"Swimming\",\"Taekwondo\",\"Volleyball\"],\"xaxis\":\"x\",\"y\":[8,4,3,1,2,2,1,15,1,8,1,9,2,2],\"yaxis\":\"y\",\"type\":\"bar\"},{\"alignmentgroup\":\"True\",\"hovertemplate\":\"Medal=Gold<br>Sport=%{x}<br>Event=%{y}<extra></extra>\",\"legendgroup\":\"Gold\",\"marker\":{\"color\":\"gold\",\"pattern\":{\"shape\":\"\"}},\"name\":\"Gold\",\"offsetgroup\":\"Gold\",\"orientation\":\"v\",\"showlegend\":true,\"textposition\":\"auto\",\"x\":[\"Athletics\",\"Boxing\",\"Equestrianism\",\"Football\",\"Gymnastics\",\"Judo\",\"Sailing\",\"Shooting\",\"Swimming\",\"Volleyball\"],\"xaxis\":\"x\",\"y\":[5,1,1,1,1,4,7,1,1,5],\"yaxis\":\"y\",\"type\":\"bar\"},{\"alignmentgroup\":\"True\",\"hovertemplate\":\"Medal=Silver<br>Sport=%{x}<br>Event=%{y}<extra></extra>\",\"legendgroup\":\"Silver\",\"marker\":{\"color\":\"silver\",\"pattern\":{\"shape\":\"\"}},\"name\":\"Silver\",\"offsetgroup\":\"Silver\",\"orientation\":\"v\",\"showlegend\":true,\"textposition\":\"auto\",\"x\":[\"Athletics\",\"Basketball\",\"Boxing\",\"Canoeing\",\"Football\",\"Gymnastics\",\"Judo\",\"Sailing\",\"Shooting\",\"Swimming\",\"Volleyball\"],\"xaxis\":\"x\",\"y\":[3,1,1,2,5,2,3,3,2,4,3],\"yaxis\":\"y\",\"type\":\"bar\"}],                        {\"template\":{\"data\":{\"bar\":[{\"error_x\":{\"color\":\"#2a3f5f\"},\"error_y\":{\"color\":\"#2a3f5f\"},\"marker\":{\"line\":{\"color\":\"#E5ECF6\",\"width\":0.5},\"pattern\":{\"fillmode\":\"overlay\",\"size\":10,\"solidity\":0.2}},\"type\":\"bar\"}],\"barpolar\":[{\"marker\":{\"line\":{\"color\":\"#E5ECF6\",\"width\":0.5},\"pattern\":{\"fillmode\":\"overlay\",\"size\":10,\"solidity\":0.2}},\"type\":\"barpolar\"}],\"carpet\":[{\"aaxis\":{\"endlinecolor\":\"#2a3f5f\",\"gridcolor\":\"white\",\"linecolor\":\"white\",\"minorgridcolor\":\"white\",\"startlinecolor\":\"#2a3f5f\"},\"baxis\":{\"endlinecolor\":\"#2a3f5f\",\"gridcolor\":\"white\",\"linecolor\":\"white\",\"minorgridcolor\":\"white\",\"startlinecolor\":\"#2a3f5f\"},\"type\":\"carpet\"}],\"choropleth\":[{\"colorbar\":{\"outlinewidth\":0,\"ticks\":\"\"},\"type\":\"choropleth\"}],\"contour\":[{\"colorbar\":{\"outlinewidth\":0,\"ticks\":\"\"},\"colorscale\":[[0.0,\"#0d0887\"],[0.1111111111111111,\"#46039f\"],[0.2222222222222222,\"#7201a8\"],[0.3333333333333333,\"#9c179e\"],[0.4444444444444444,\"#bd3786\"],[0.5555555555555556,\"#d8576b\"],[0.6666666666666666,\"#ed7953\"],[0.7777777777777778,\"#fb9f3a\"],[0.8888888888888888,\"#fdca26\"],[1.0,\"#f0f921\"]],\"type\":\"contour\"}],\"contourcarpet\":[{\"colorbar\":{\"outlinewidth\":0,\"ticks\":\"\"},\"type\":\"contourcarpet\"}],\"heatmap\":[{\"colorbar\":{\"outlinewidth\":0,\"ticks\":\"\"},\"colorscale\":[[0.0,\"#0d0887\"],[0.1111111111111111,\"#46039f\"],[0.2222222222222222,\"#7201a8\"],[0.3333333333333333,\"#9c179e\"],[0.4444444444444444,\"#bd3786\"],[0.5555555555555556,\"#d8576b\"],[0.6666666666666666,\"#ed7953\"],[0.7777777777777778,\"#fb9f3a\"],[0.8888888888888888,\"#fdca26\"],[1.0,\"#f0f921\"]],\"type\":\"heatmap\"}],\"heatmapgl\":[{\"colorbar\":{\"outlinewidth\":0,\"ticks\":\"\"},\"colorscale\":[[0.0,\"#0d0887\"],[0.1111111111111111,\"#46039f\"],[0.2222222222222222,\"#7201a8\"],[0.3333333333333333,\"#9c179e\"],[0.4444444444444444,\"#bd3786\"],[0.5555555555555556,\"#d8576b\"],[0.6666666666666666,\"#ed7953\"],[0.7777777777777778,\"#fb9f3a\"],[0.8888888888888888,\"#fdca26\"],[1.0,\"#f0f921\"]],\"type\":\"heatmapgl\"}],\"histogram\":[{\"marker\":{\"pattern\":{\"fillmode\":\"overlay\",\"size\":10,\"solidity\":0.2}},\"type\":\"histogram\"}],\"histogram2d\":[{\"colorbar\":{\"outlinewidth\":0,\"ticks\":\"\"},\"colorscale\":[[0.0,\"#0d0887\"],[0.1111111111111111,\"#46039f\"],[0.2222222222222222,\"#7201a8\"],[0.3333333333333333,\"#9c179e\"],[0.4444444444444444,\"#bd3786\"],[0.5555555555555556,\"#d8576b\"],[0.6666666666666666,\"#ed7953\"],[0.7777777777777778,\"#fb9f3a\"],[0.8888888888888888,\"#fdca26\"],[1.0,\"#f0f921\"]],\"type\":\"histogram2d\"}],\"histogram2dcontour\":[{\"colorbar\":{\"outlinewidth\":0,\"ticks\":\"\"},\"colorscale\":[[0.0,\"#0d0887\"],[0.1111111111111111,\"#46039f\"],[0.2222222222222222,\"#7201a8\"],[0.3333333333333333,\"#9c179e\"],[0.4444444444444444,\"#bd3786\"],[0.5555555555555556,\"#d8576b\"],[0.6666666666666666,\"#ed7953\"],[0.7777777777777778,\"#fb9f3a\"],[0.8888888888888888,\"#fdca26\"],[1.0,\"#f0f921\"]],\"type\":\"histogram2dcontour\"}],\"mesh3d\":[{\"colorbar\":{\"outlinewidth\":0,\"ticks\":\"\"},\"type\":\"mesh3d\"}],\"parcoords\":[{\"line\":{\"colorbar\":{\"outlinewidth\":0,\"ticks\":\"\"}},\"type\":\"parcoords\"}],\"pie\":[{\"automargin\":true,\"type\":\"pie\"}],\"scatter\":[{\"marker\":{\"colorbar\":{\"outlinewidth\":0,\"ticks\":\"\"}},\"type\":\"scatter\"}],\"scatter3d\":[{\"line\":{\"colorbar\":{\"outlinewidth\":0,\"ticks\":\"\"}},\"marker\":{\"colorbar\":{\"outlinewidth\":0,\"ticks\":\"\"}},\"type\":\"scatter3d\"}],\"scattercarpet\":[{\"marker\":{\"colorbar\":{\"outlinewidth\":0,\"ticks\":\"\"}},\"type\":\"scattercarpet\"}],\"scattergeo\":[{\"marker\":{\"colorbar\":{\"outlinewidth\":0,\"ticks\":\"\"}},\"type\":\"scattergeo\"}],\"scattergl\":[{\"marker\":{\"colorbar\":{\"outlinewidth\":0,\"ticks\":\"\"}},\"type\":\"scattergl\"}],\"scattermapbox\":[{\"marker\":{\"colorbar\":{\"outlinewidth\":0,\"ticks\":\"\"}},\"type\":\"scattermapbox\"}],\"scatterpolar\":[{\"marker\":{\"colorbar\":{\"outlinewidth\":0,\"ticks\":\"\"}},\"type\":\"scatterpolar\"}],\"scatterpolargl\":[{\"marker\":{\"colorbar\":{\"outlinewidth\":0,\"ticks\":\"\"}},\"type\":\"scatterpolargl\"}],\"scatterternary\":[{\"marker\":{\"colorbar\":{\"outlinewidth\":0,\"ticks\":\"\"}},\"type\":\"scatterternary\"}],\"surface\":[{\"colorbar\":{\"outlinewidth\":0,\"ticks\":\"\"},\"colorscale\":[[0.0,\"#0d0887\"],[0.1111111111111111,\"#46039f\"],[0.2222222222222222,\"#7201a8\"],[0.3333333333333333,\"#9c179e\"],[0.4444444444444444,\"#bd3786\"],[0.5555555555555556,\"#d8576b\"],[0.6666666666666666,\"#ed7953\"],[0.7777777777777778,\"#fb9f3a\"],[0.8888888888888888,\"#fdca26\"],[1.0,\"#f0f921\"]],\"type\":\"surface\"}],\"table\":[{\"cells\":{\"fill\":{\"color\":\"#EBF0F8\"},\"line\":{\"color\":\"white\"}},\"header\":{\"fill\":{\"color\":\"#C8D4E3\"},\"line\":{\"color\":\"white\"}},\"type\":\"table\"}]},\"layout\":{\"annotationdefaults\":{\"arrowcolor\":\"#2a3f5f\",\"arrowhead\":0,\"arrowwidth\":1},\"autotypenumbers\":\"strict\",\"coloraxis\":{\"colorbar\":{\"outlinewidth\":0,\"ticks\":\"\"}},\"colorscale\":{\"diverging\":[[0,\"#8e0152\"],[0.1,\"#c51b7d\"],[0.2,\"#de77ae\"],[0.3,\"#f1b6da\"],[0.4,\"#fde0ef\"],[0.5,\"#f7f7f7\"],[0.6,\"#e6f5d0\"],[0.7,\"#b8e186\"],[0.8,\"#7fbc41\"],[0.9,\"#4d9221\"],[1,\"#276419\"]],\"sequential\":[[0.0,\"#0d0887\"],[0.1111111111111111,\"#46039f\"],[0.2222222222222222,\"#7201a8\"],[0.3333333333333333,\"#9c179e\"],[0.4444444444444444,\"#bd3786\"],[0.5555555555555556,\"#d8576b\"],[0.6666666666666666,\"#ed7953\"],[0.7777777777777778,\"#fb9f3a\"],[0.8888888888888888,\"#fdca26\"],[1.0,\"#f0f921\"]],\"sequentialminus\":[[0.0,\"#0d0887\"],[0.1111111111111111,\"#46039f\"],[0.2222222222222222,\"#7201a8\"],[0.3333333333333333,\"#9c179e\"],[0.4444444444444444,\"#bd3786\"],[0.5555555555555556,\"#d8576b\"],[0.6666666666666666,\"#ed7953\"],[0.7777777777777778,\"#fb9f3a\"],[0.8888888888888888,\"#fdca26\"],[1.0,\"#f0f921\"]]},\"colorway\":[\"#636efa\",\"#EF553B\",\"#00cc96\",\"#ab63fa\",\"#FFA15A\",\"#19d3f3\",\"#FF6692\",\"#B6E880\",\"#FF97FF\",\"#FECB52\"],\"font\":{\"color\":\"#2a3f5f\"},\"geo\":{\"bgcolor\":\"white\",\"lakecolor\":\"white\",\"landcolor\":\"#E5ECF6\",\"showlakes\":true,\"showland\":true,\"subunitcolor\":\"white\"},\"hoverlabel\":{\"align\":\"left\"},\"hovermode\":\"closest\",\"mapbox\":{\"style\":\"light\"},\"paper_bgcolor\":\"white\",\"plot_bgcolor\":\"#E5ECF6\",\"polar\":{\"angularaxis\":{\"gridcolor\":\"white\",\"linecolor\":\"white\",\"ticks\":\"\"},\"bgcolor\":\"#E5ECF6\",\"radialaxis\":{\"gridcolor\":\"white\",\"linecolor\":\"white\",\"ticks\":\"\"}},\"scene\":{\"xaxis\":{\"backgroundcolor\":\"#E5ECF6\",\"gridcolor\":\"white\",\"gridwidth\":2,\"linecolor\":\"white\",\"showbackground\":true,\"ticks\":\"\",\"zerolinecolor\":\"white\"},\"yaxis\":{\"backgroundcolor\":\"#E5ECF6\",\"gridcolor\":\"white\",\"gridwidth\":2,\"linecolor\":\"white\",\"showbackground\":true,\"ticks\":\"\",\"zerolinecolor\":\"white\"},\"zaxis\":{\"backgroundcolor\":\"#E5ECF6\",\"gridcolor\":\"white\",\"gridwidth\":2,\"linecolor\":\"white\",\"showbackground\":true,\"ticks\":\"\",\"zerolinecolor\":\"white\"}},\"shapedefaults\":{\"line\":{\"color\":\"#2a3f5f\"}},\"ternary\":{\"aaxis\":{\"gridcolor\":\"white\",\"linecolor\":\"white\",\"ticks\":\"\"},\"baxis\":{\"gridcolor\":\"white\",\"linecolor\":\"white\",\"ticks\":\"\"},\"bgcolor\":\"#E5ECF6\",\"caxis\":{\"gridcolor\":\"white\",\"linecolor\":\"white\",\"ticks\":\"\"}},\"title\":{\"x\":0.05},\"xaxis\":{\"automargin\":true,\"gridcolor\":\"white\",\"linecolor\":\"white\",\"ticks\":\"\",\"title\":{\"standoff\":15},\"zerolinecolor\":\"white\",\"zerolinewidth\":2},\"yaxis\":{\"automargin\":true,\"gridcolor\":\"white\",\"linecolor\":\"white\",\"ticks\":\"\",\"title\":{\"standoff\":15},\"zerolinecolor\":\"white\",\"zerolinewidth\":2}}},\"xaxis\":{\"anchor\":\"y\",\"domain\":[0.0,1.0],\"title\":{\"text\":\"Sport\"}},\"yaxis\":{\"anchor\":\"x\",\"domain\":[0.0,1.0],\"title\":{\"text\":\"Event\"}},\"legend\":{\"title\":{\"text\":\"Medal\"},\"tracegroupgap\":0},\"margin\":{\"t\":60},\"barmode\":\"group\"},                        {\"responsive\": true}                    ).then(function(){\n",
       "                            \n",
       "var gd = document.getElementById('9f360cd9-3481-417a-af76-472247473f79');\n",
       "var x = new MutationObserver(function (mutations, observer) {{\n",
       "        var display = window.getComputedStyle(gd).display;\n",
       "        if (!display || display === 'none') {{\n",
       "            console.log([gd, 'removed!']);\n",
       "            Plotly.purge(gd);\n",
       "            observer.disconnect();\n",
       "        }}\n",
       "}});\n",
       "\n",
       "// Listen for the removal of the full notebook cells\n",
       "var notebookContainer = gd.closest('#notebook-container');\n",
       "if (notebookContainer) {{\n",
       "    x.observe(notebookContainer, {childList: true});\n",
       "}}\n",
       "\n",
       "// Listen for the clearing of the current output cell\n",
       "var outputEl = gd.closest('.output');\n",
       "if (outputEl) {{\n",
       "    x.observe(outputEl, {childList: true});\n",
       "}}\n",
       "\n",
       "                        })                };                });            </script>        </div>"
      ]
     },
     "metadata": {},
     "output_type": "display_data"
    }
   ],
   "source": [
    "px.bar(data_frame=df4, x='Sport', y='Event', color=\"Medal\", barmode='group',\n",
    "       color_discrete_map={'Bronze' : '#cd7f32', 'Gold' : 'gold', 'Silver' : 'silver'})"
   ]
  },
  {
   "cell_type": "markdown",
   "id": "8117b745",
   "metadata": {
    "id": "8117b745"
   },
   "source": [
    "**4. Para finalizar a história do Brasil, vamos ver a série temporal de medalhas brasileiras.**\n",
    "\n",
    "Crie um gráfico de sua escolha, que mostre o total de medalhas de ouro, prata e bronze, por edição da olimpíada (em ordem cronológica). \n",
    "\n",
    "*DICA:* Mais uma vez, tome cuidado com os esportes em grupo - os contabilize apenas uma vez!"
   ]
  },
  {
   "cell_type": "code",
   "execution_count": 110,
   "id": "9853faab",
   "metadata": {
    "scrolled": false
   },
   "outputs": [
    {
     "data": {
      "text/html": [
       "<div>\n",
       "<style scoped>\n",
       "    .dataframe tbody tr th:only-of-type {\n",
       "        vertical-align: middle;\n",
       "    }\n",
       "\n",
       "    .dataframe tbody tr th {\n",
       "        vertical-align: top;\n",
       "    }\n",
       "\n",
       "    .dataframe thead th {\n",
       "        text-align: right;\n",
       "    }\n",
       "</style>\n",
       "<table border=\"1\" class=\"dataframe\">\n",
       "  <thead>\n",
       "    <tr style=\"text-align: right;\">\n",
       "      <th></th>\n",
       "      <th>Year</th>\n",
       "      <th>Medal</th>\n",
       "      <th>Sport</th>\n",
       "      <th>Event</th>\n",
       "      <th>Sex</th>\n",
       "    </tr>\n",
       "  </thead>\n",
       "  <tbody>\n",
       "    <tr>\n",
       "      <th>0</th>\n",
       "      <td>1920</td>\n",
       "      <td>Bronze</td>\n",
       "      <td>1</td>\n",
       "      <td>1</td>\n",
       "      <td>1</td>\n",
       "    </tr>\n",
       "    <tr>\n",
       "      <th>1</th>\n",
       "      <td>1920</td>\n",
       "      <td>Gold</td>\n",
       "      <td>1</td>\n",
       "      <td>1</td>\n",
       "      <td>1</td>\n",
       "    </tr>\n",
       "    <tr>\n",
       "      <th>2</th>\n",
       "      <td>1920</td>\n",
       "      <td>Silver</td>\n",
       "      <td>1</td>\n",
       "      <td>1</td>\n",
       "      <td>1</td>\n",
       "    </tr>\n",
       "    <tr>\n",
       "      <th>3</th>\n",
       "      <td>1948</td>\n",
       "      <td>Bronze</td>\n",
       "      <td>1</td>\n",
       "      <td>1</td>\n",
       "      <td>1</td>\n",
       "    </tr>\n",
       "    <tr>\n",
       "      <th>4</th>\n",
       "      <td>1952</td>\n",
       "      <td>Bronze</td>\n",
       "      <td>2</td>\n",
       "      <td>2</td>\n",
       "      <td>2</td>\n",
       "    </tr>\n",
       "  </tbody>\n",
       "</table>\n",
       "</div>"
      ],
      "text/plain": [
       "   Year   Medal  Sport  Event  Sex\n",
       "0  1920  Bronze      1      1    1\n",
       "1  1920    Gold      1      1    1\n",
       "2  1920  Silver      1      1    1\n",
       "3  1948  Bronze      1      1    1\n",
       "4  1952  Bronze      2      2    2"
      ]
     },
     "execution_count": 110,
     "metadata": {},
     "output_type": "execute_result"
    }
   ],
   "source": [
    "df6 = df3[df3[\"Medal\"] != \"Sem medalha\"].groupby([\"Year\", \"Medal\"], as_index=False).count()\n",
    "df6.head()"
   ]
  },
  {
   "cell_type": "code",
   "execution_count": 92,
   "id": "d6605480",
   "metadata": {
    "id": "d6605480"
   },
   "outputs": [
    {
     "data": {
      "application/vnd.plotly.v1+json": {
       "config": {
        "plotlyServerURL": "https://plot.ly"
       },
       "data": [
        {
         "hovertemplate": "Medal=Bronze<br>Year=%{x}<br>Event=%{y}<extra></extra>",
         "legendgroup": "Bronze",
         "line": {
          "color": "#cd7f32",
          "dash": "solid"
         },
         "marker": {
          "symbol": "circle"
         },
         "mode": "lines",
         "name": "Bronze",
         "orientation": "v",
         "showlegend": true,
         "type": "scatter",
         "x": [
          1920,
          1948,
          1952,
          1960,
          1964,
          1968,
          1972,
          1976,
          1980,
          1984,
          1988,
          1996,
          2000,
          2004,
          2008,
          2012,
          2016
         ],
         "xaxis": "x",
         "y": [
          1,
          1,
          2,
          2,
          1,
          2,
          2,
          2,
          2,
          2,
          3,
          9,
          5,
          3,
          8,
          8,
          6
         ],
         "yaxis": "y"
        },
        {
         "hovertemplate": "Medal=Gold<br>Year=%{x}<br>Event=%{y}<extra></extra>",
         "legendgroup": "Gold",
         "line": {
          "color": "#FFD700",
          "dash": "dot"
         },
         "marker": {
          "symbol": "circle"
         },
         "mode": "lines",
         "name": "Gold",
         "orientation": "v",
         "showlegend": true,
         "type": "scatter",
         "x": [
          1920,
          1952,
          1956,
          1980,
          1984,
          1988,
          1992,
          1996,
          2004,
          2008,
          2012,
          2016
         ],
         "xaxis": "x",
         "y": [
          1,
          1,
          1,
          2,
          1,
          1,
          2,
          2,
          4,
          3,
          3,
          6
         ],
         "yaxis": "y"
        },
        {
         "hovertemplate": "Medal=Silver<br>Year=%{x}<br>Event=%{y}<extra></extra>",
         "legendgroup": "Silver",
         "line": {
          "color": "#C0C0C0",
          "dash": "dash"
         },
         "marker": {
          "symbol": "circle"
         },
         "mode": "lines",
         "name": "Silver",
         "orientation": "v",
         "showlegend": true,
         "type": "scatter",
         "x": [
          1920,
          1968,
          1984,
          1988,
          1992,
          1996,
          2000,
          2004,
          2008,
          2012,
          2016
         ],
         "xaxis": "x",
         "y": [
          1,
          1,
          5,
          2,
          1,
          2,
          4,
          1,
          3,
          4,
          5
         ],
         "yaxis": "y"
        }
       ],
       "layout": {
        "legend": {
         "title": {
          "text": "Medal"
         },
         "tracegroupgap": 0
        },
        "paper_bgcolor": "rgba(255, 255, 255, 1)",
        "plot_bgcolor": "rgba(0, 0, 0, 1)",
        "template": {
         "data": {
          "bar": [
           {
            "error_x": {
             "color": "#2a3f5f"
            },
            "error_y": {
             "color": "#2a3f5f"
            },
            "marker": {
             "line": {
              "color": "#E5ECF6",
              "width": 0.5
             },
             "pattern": {
              "fillmode": "overlay",
              "size": 10,
              "solidity": 0.2
             }
            },
            "type": "bar"
           }
          ],
          "barpolar": [
           {
            "marker": {
             "line": {
              "color": "#E5ECF6",
              "width": 0.5
             },
             "pattern": {
              "fillmode": "overlay",
              "size": 10,
              "solidity": 0.2
             }
            },
            "type": "barpolar"
           }
          ],
          "carpet": [
           {
            "aaxis": {
             "endlinecolor": "#2a3f5f",
             "gridcolor": "white",
             "linecolor": "white",
             "minorgridcolor": "white",
             "startlinecolor": "#2a3f5f"
            },
            "baxis": {
             "endlinecolor": "#2a3f5f",
             "gridcolor": "white",
             "linecolor": "white",
             "minorgridcolor": "white",
             "startlinecolor": "#2a3f5f"
            },
            "type": "carpet"
           }
          ],
          "choropleth": [
           {
            "colorbar": {
             "outlinewidth": 0,
             "ticks": ""
            },
            "type": "choropleth"
           }
          ],
          "contour": [
           {
            "colorbar": {
             "outlinewidth": 0,
             "ticks": ""
            },
            "colorscale": [
             [
              0,
              "#0d0887"
             ],
             [
              0.1111111111111111,
              "#46039f"
             ],
             [
              0.2222222222222222,
              "#7201a8"
             ],
             [
              0.3333333333333333,
              "#9c179e"
             ],
             [
              0.4444444444444444,
              "#bd3786"
             ],
             [
              0.5555555555555556,
              "#d8576b"
             ],
             [
              0.6666666666666666,
              "#ed7953"
             ],
             [
              0.7777777777777778,
              "#fb9f3a"
             ],
             [
              0.8888888888888888,
              "#fdca26"
             ],
             [
              1,
              "#f0f921"
             ]
            ],
            "type": "contour"
           }
          ],
          "contourcarpet": [
           {
            "colorbar": {
             "outlinewidth": 0,
             "ticks": ""
            },
            "type": "contourcarpet"
           }
          ],
          "heatmap": [
           {
            "colorbar": {
             "outlinewidth": 0,
             "ticks": ""
            },
            "colorscale": [
             [
              0,
              "#0d0887"
             ],
             [
              0.1111111111111111,
              "#46039f"
             ],
             [
              0.2222222222222222,
              "#7201a8"
             ],
             [
              0.3333333333333333,
              "#9c179e"
             ],
             [
              0.4444444444444444,
              "#bd3786"
             ],
             [
              0.5555555555555556,
              "#d8576b"
             ],
             [
              0.6666666666666666,
              "#ed7953"
             ],
             [
              0.7777777777777778,
              "#fb9f3a"
             ],
             [
              0.8888888888888888,
              "#fdca26"
             ],
             [
              1,
              "#f0f921"
             ]
            ],
            "type": "heatmap"
           }
          ],
          "heatmapgl": [
           {
            "colorbar": {
             "outlinewidth": 0,
             "ticks": ""
            },
            "colorscale": [
             [
              0,
              "#0d0887"
             ],
             [
              0.1111111111111111,
              "#46039f"
             ],
             [
              0.2222222222222222,
              "#7201a8"
             ],
             [
              0.3333333333333333,
              "#9c179e"
             ],
             [
              0.4444444444444444,
              "#bd3786"
             ],
             [
              0.5555555555555556,
              "#d8576b"
             ],
             [
              0.6666666666666666,
              "#ed7953"
             ],
             [
              0.7777777777777778,
              "#fb9f3a"
             ],
             [
              0.8888888888888888,
              "#fdca26"
             ],
             [
              1,
              "#f0f921"
             ]
            ],
            "type": "heatmapgl"
           }
          ],
          "histogram": [
           {
            "marker": {
             "pattern": {
              "fillmode": "overlay",
              "size": 10,
              "solidity": 0.2
             }
            },
            "type": "histogram"
           }
          ],
          "histogram2d": [
           {
            "colorbar": {
             "outlinewidth": 0,
             "ticks": ""
            },
            "colorscale": [
             [
              0,
              "#0d0887"
             ],
             [
              0.1111111111111111,
              "#46039f"
             ],
             [
              0.2222222222222222,
              "#7201a8"
             ],
             [
              0.3333333333333333,
              "#9c179e"
             ],
             [
              0.4444444444444444,
              "#bd3786"
             ],
             [
              0.5555555555555556,
              "#d8576b"
             ],
             [
              0.6666666666666666,
              "#ed7953"
             ],
             [
              0.7777777777777778,
              "#fb9f3a"
             ],
             [
              0.8888888888888888,
              "#fdca26"
             ],
             [
              1,
              "#f0f921"
             ]
            ],
            "type": "histogram2d"
           }
          ],
          "histogram2dcontour": [
           {
            "colorbar": {
             "outlinewidth": 0,
             "ticks": ""
            },
            "colorscale": [
             [
              0,
              "#0d0887"
             ],
             [
              0.1111111111111111,
              "#46039f"
             ],
             [
              0.2222222222222222,
              "#7201a8"
             ],
             [
              0.3333333333333333,
              "#9c179e"
             ],
             [
              0.4444444444444444,
              "#bd3786"
             ],
             [
              0.5555555555555556,
              "#d8576b"
             ],
             [
              0.6666666666666666,
              "#ed7953"
             ],
             [
              0.7777777777777778,
              "#fb9f3a"
             ],
             [
              0.8888888888888888,
              "#fdca26"
             ],
             [
              1,
              "#f0f921"
             ]
            ],
            "type": "histogram2dcontour"
           }
          ],
          "mesh3d": [
           {
            "colorbar": {
             "outlinewidth": 0,
             "ticks": ""
            },
            "type": "mesh3d"
           }
          ],
          "parcoords": [
           {
            "line": {
             "colorbar": {
              "outlinewidth": 0,
              "ticks": ""
             }
            },
            "type": "parcoords"
           }
          ],
          "pie": [
           {
            "automargin": true,
            "type": "pie"
           }
          ],
          "scatter": [
           {
            "marker": {
             "colorbar": {
              "outlinewidth": 0,
              "ticks": ""
             }
            },
            "type": "scatter"
           }
          ],
          "scatter3d": [
           {
            "line": {
             "colorbar": {
              "outlinewidth": 0,
              "ticks": ""
             }
            },
            "marker": {
             "colorbar": {
              "outlinewidth": 0,
              "ticks": ""
             }
            },
            "type": "scatter3d"
           }
          ],
          "scattercarpet": [
           {
            "marker": {
             "colorbar": {
              "outlinewidth": 0,
              "ticks": ""
             }
            },
            "type": "scattercarpet"
           }
          ],
          "scattergeo": [
           {
            "marker": {
             "colorbar": {
              "outlinewidth": 0,
              "ticks": ""
             }
            },
            "type": "scattergeo"
           }
          ],
          "scattergl": [
           {
            "marker": {
             "colorbar": {
              "outlinewidth": 0,
              "ticks": ""
             }
            },
            "type": "scattergl"
           }
          ],
          "scattermapbox": [
           {
            "marker": {
             "colorbar": {
              "outlinewidth": 0,
              "ticks": ""
             }
            },
            "type": "scattermapbox"
           }
          ],
          "scatterpolar": [
           {
            "marker": {
             "colorbar": {
              "outlinewidth": 0,
              "ticks": ""
             }
            },
            "type": "scatterpolar"
           }
          ],
          "scatterpolargl": [
           {
            "marker": {
             "colorbar": {
              "outlinewidth": 0,
              "ticks": ""
             }
            },
            "type": "scatterpolargl"
           }
          ],
          "scatterternary": [
           {
            "marker": {
             "colorbar": {
              "outlinewidth": 0,
              "ticks": ""
             }
            },
            "type": "scatterternary"
           }
          ],
          "surface": [
           {
            "colorbar": {
             "outlinewidth": 0,
             "ticks": ""
            },
            "colorscale": [
             [
              0,
              "#0d0887"
             ],
             [
              0.1111111111111111,
              "#46039f"
             ],
             [
              0.2222222222222222,
              "#7201a8"
             ],
             [
              0.3333333333333333,
              "#9c179e"
             ],
             [
              0.4444444444444444,
              "#bd3786"
             ],
             [
              0.5555555555555556,
              "#d8576b"
             ],
             [
              0.6666666666666666,
              "#ed7953"
             ],
             [
              0.7777777777777778,
              "#fb9f3a"
             ],
             [
              0.8888888888888888,
              "#fdca26"
             ],
             [
              1,
              "#f0f921"
             ]
            ],
            "type": "surface"
           }
          ],
          "table": [
           {
            "cells": {
             "fill": {
              "color": "#EBF0F8"
             },
             "line": {
              "color": "white"
             }
            },
            "header": {
             "fill": {
              "color": "#C8D4E3"
             },
             "line": {
              "color": "white"
             }
            },
            "type": "table"
           }
          ]
         },
         "layout": {
          "annotationdefaults": {
           "arrowcolor": "#2a3f5f",
           "arrowhead": 0,
           "arrowwidth": 1
          },
          "autotypenumbers": "strict",
          "coloraxis": {
           "colorbar": {
            "outlinewidth": 0,
            "ticks": ""
           }
          },
          "colorscale": {
           "diverging": [
            [
             0,
             "#8e0152"
            ],
            [
             0.1,
             "#c51b7d"
            ],
            [
             0.2,
             "#de77ae"
            ],
            [
             0.3,
             "#f1b6da"
            ],
            [
             0.4,
             "#fde0ef"
            ],
            [
             0.5,
             "#f7f7f7"
            ],
            [
             0.6,
             "#e6f5d0"
            ],
            [
             0.7,
             "#b8e186"
            ],
            [
             0.8,
             "#7fbc41"
            ],
            [
             0.9,
             "#4d9221"
            ],
            [
             1,
             "#276419"
            ]
           ],
           "sequential": [
            [
             0,
             "#0d0887"
            ],
            [
             0.1111111111111111,
             "#46039f"
            ],
            [
             0.2222222222222222,
             "#7201a8"
            ],
            [
             0.3333333333333333,
             "#9c179e"
            ],
            [
             0.4444444444444444,
             "#bd3786"
            ],
            [
             0.5555555555555556,
             "#d8576b"
            ],
            [
             0.6666666666666666,
             "#ed7953"
            ],
            [
             0.7777777777777778,
             "#fb9f3a"
            ],
            [
             0.8888888888888888,
             "#fdca26"
            ],
            [
             1,
             "#f0f921"
            ]
           ],
           "sequentialminus": [
            [
             0,
             "#0d0887"
            ],
            [
             0.1111111111111111,
             "#46039f"
            ],
            [
             0.2222222222222222,
             "#7201a8"
            ],
            [
             0.3333333333333333,
             "#9c179e"
            ],
            [
             0.4444444444444444,
             "#bd3786"
            ],
            [
             0.5555555555555556,
             "#d8576b"
            ],
            [
             0.6666666666666666,
             "#ed7953"
            ],
            [
             0.7777777777777778,
             "#fb9f3a"
            ],
            [
             0.8888888888888888,
             "#fdca26"
            ],
            [
             1,
             "#f0f921"
            ]
           ]
          },
          "colorway": [
           "#636efa",
           "#EF553B",
           "#00cc96",
           "#ab63fa",
           "#FFA15A",
           "#19d3f3",
           "#FF6692",
           "#B6E880",
           "#FF97FF",
           "#FECB52"
          ],
          "font": {
           "color": "#2a3f5f"
          },
          "geo": {
           "bgcolor": "white",
           "lakecolor": "white",
           "landcolor": "#E5ECF6",
           "showlakes": true,
           "showland": true,
           "subunitcolor": "white"
          },
          "hoverlabel": {
           "align": "left"
          },
          "hovermode": "closest",
          "mapbox": {
           "style": "light"
          },
          "paper_bgcolor": "white",
          "plot_bgcolor": "#E5ECF6",
          "polar": {
           "angularaxis": {
            "gridcolor": "white",
            "linecolor": "white",
            "ticks": ""
           },
           "bgcolor": "#E5ECF6",
           "radialaxis": {
            "gridcolor": "white",
            "linecolor": "white",
            "ticks": ""
           }
          },
          "scene": {
           "xaxis": {
            "backgroundcolor": "#E5ECF6",
            "gridcolor": "white",
            "gridwidth": 2,
            "linecolor": "white",
            "showbackground": true,
            "ticks": "",
            "zerolinecolor": "white"
           },
           "yaxis": {
            "backgroundcolor": "#E5ECF6",
            "gridcolor": "white",
            "gridwidth": 2,
            "linecolor": "white",
            "showbackground": true,
            "ticks": "",
            "zerolinecolor": "white"
           },
           "zaxis": {
            "backgroundcolor": "#E5ECF6",
            "gridcolor": "white",
            "gridwidth": 2,
            "linecolor": "white",
            "showbackground": true,
            "ticks": "",
            "zerolinecolor": "white"
           }
          },
          "shapedefaults": {
           "line": {
            "color": "#2a3f5f"
           }
          },
          "ternary": {
           "aaxis": {
            "gridcolor": "white",
            "linecolor": "white",
            "ticks": ""
           },
           "baxis": {
            "gridcolor": "white",
            "linecolor": "white",
            "ticks": ""
           },
           "bgcolor": "#E5ECF6",
           "caxis": {
            "gridcolor": "white",
            "linecolor": "white",
            "ticks": ""
           }
          },
          "title": {
           "x": 0.05
          },
          "xaxis": {
           "automargin": true,
           "gridcolor": "white",
           "linecolor": "white",
           "ticks": "",
           "title": {
            "standoff": 15
           },
           "zerolinecolor": "white",
           "zerolinewidth": 2
          },
          "yaxis": {
           "automargin": true,
           "gridcolor": "white",
           "linecolor": "white",
           "ticks": "",
           "title": {
            "standoff": 15
           },
           "zerolinecolor": "white",
           "zerolinewidth": 2
          }
         }
        },
        "title": {
         "text": "Quantidade de medalhas por ano"
        },
        "xaxis": {
         "anchor": "y",
         "domain": [
          0,
          1
         ],
         "title": {
          "text": "Year"
         }
        },
        "yaxis": {
         "anchor": "x",
         "domain": [
          0,
          1
         ],
         "title": {
          "text": "Event"
         }
        }
       }
      },
      "text/html": [
       "<div>                            <div id=\"2c04bdca-0c08-4beb-8803-e2ffa4e6fa1c\" class=\"plotly-graph-div\" style=\"height:525px; width:100%;\"></div>            <script type=\"text/javascript\">                require([\"plotly\"], function(Plotly) {                    window.PLOTLYENV=window.PLOTLYENV || {};                                    if (document.getElementById(\"2c04bdca-0c08-4beb-8803-e2ffa4e6fa1c\")) {                    Plotly.newPlot(                        \"2c04bdca-0c08-4beb-8803-e2ffa4e6fa1c\",                        [{\"hovertemplate\":\"Medal=Bronze<br>Year=%{x}<br>Event=%{y}<extra></extra>\",\"legendgroup\":\"Bronze\",\"line\":{\"color\":\"#cd7f32\",\"dash\":\"solid\"},\"marker\":{\"symbol\":\"circle\"},\"mode\":\"lines\",\"name\":\"Bronze\",\"orientation\":\"v\",\"showlegend\":true,\"x\":[1920,1948,1952,1960,1964,1968,1972,1976,1980,1984,1988,1996,2000,2004,2008,2012,2016],\"xaxis\":\"x\",\"y\":[1,1,2,2,1,2,2,2,2,2,3,9,5,3,8,8,6],\"yaxis\":\"y\",\"type\":\"scatter\"},{\"hovertemplate\":\"Medal=Gold<br>Year=%{x}<br>Event=%{y}<extra></extra>\",\"legendgroup\":\"Gold\",\"line\":{\"color\":\"#FFD700\",\"dash\":\"dot\"},\"marker\":{\"symbol\":\"circle\"},\"mode\":\"lines\",\"name\":\"Gold\",\"orientation\":\"v\",\"showlegend\":true,\"x\":[1920,1952,1956,1980,1984,1988,1992,1996,2004,2008,2012,2016],\"xaxis\":\"x\",\"y\":[1,1,1,2,1,1,2,2,4,3,3,6],\"yaxis\":\"y\",\"type\":\"scatter\"},{\"hovertemplate\":\"Medal=Silver<br>Year=%{x}<br>Event=%{y}<extra></extra>\",\"legendgroup\":\"Silver\",\"line\":{\"color\":\"#C0C0C0\",\"dash\":\"dash\"},\"marker\":{\"symbol\":\"circle\"},\"mode\":\"lines\",\"name\":\"Silver\",\"orientation\":\"v\",\"showlegend\":true,\"x\":[1920,1968,1984,1988,1992,1996,2000,2004,2008,2012,2016],\"xaxis\":\"x\",\"y\":[1,1,5,2,1,2,4,1,3,4,5],\"yaxis\":\"y\",\"type\":\"scatter\"}],                        {\"template\":{\"data\":{\"bar\":[{\"error_x\":{\"color\":\"#2a3f5f\"},\"error_y\":{\"color\":\"#2a3f5f\"},\"marker\":{\"line\":{\"color\":\"#E5ECF6\",\"width\":0.5},\"pattern\":{\"fillmode\":\"overlay\",\"size\":10,\"solidity\":0.2}},\"type\":\"bar\"}],\"barpolar\":[{\"marker\":{\"line\":{\"color\":\"#E5ECF6\",\"width\":0.5},\"pattern\":{\"fillmode\":\"overlay\",\"size\":10,\"solidity\":0.2}},\"type\":\"barpolar\"}],\"carpet\":[{\"aaxis\":{\"endlinecolor\":\"#2a3f5f\",\"gridcolor\":\"white\",\"linecolor\":\"white\",\"minorgridcolor\":\"white\",\"startlinecolor\":\"#2a3f5f\"},\"baxis\":{\"endlinecolor\":\"#2a3f5f\",\"gridcolor\":\"white\",\"linecolor\":\"white\",\"minorgridcolor\":\"white\",\"startlinecolor\":\"#2a3f5f\"},\"type\":\"carpet\"}],\"choropleth\":[{\"colorbar\":{\"outlinewidth\":0,\"ticks\":\"\"},\"type\":\"choropleth\"}],\"contour\":[{\"colorbar\":{\"outlinewidth\":0,\"ticks\":\"\"},\"colorscale\":[[0.0,\"#0d0887\"],[0.1111111111111111,\"#46039f\"],[0.2222222222222222,\"#7201a8\"],[0.3333333333333333,\"#9c179e\"],[0.4444444444444444,\"#bd3786\"],[0.5555555555555556,\"#d8576b\"],[0.6666666666666666,\"#ed7953\"],[0.7777777777777778,\"#fb9f3a\"],[0.8888888888888888,\"#fdca26\"],[1.0,\"#f0f921\"]],\"type\":\"contour\"}],\"contourcarpet\":[{\"colorbar\":{\"outlinewidth\":0,\"ticks\":\"\"},\"type\":\"contourcarpet\"}],\"heatmap\":[{\"colorbar\":{\"outlinewidth\":0,\"ticks\":\"\"},\"colorscale\":[[0.0,\"#0d0887\"],[0.1111111111111111,\"#46039f\"],[0.2222222222222222,\"#7201a8\"],[0.3333333333333333,\"#9c179e\"],[0.4444444444444444,\"#bd3786\"],[0.5555555555555556,\"#d8576b\"],[0.6666666666666666,\"#ed7953\"],[0.7777777777777778,\"#fb9f3a\"],[0.8888888888888888,\"#fdca26\"],[1.0,\"#f0f921\"]],\"type\":\"heatmap\"}],\"heatmapgl\":[{\"colorbar\":{\"outlinewidth\":0,\"ticks\":\"\"},\"colorscale\":[[0.0,\"#0d0887\"],[0.1111111111111111,\"#46039f\"],[0.2222222222222222,\"#7201a8\"],[0.3333333333333333,\"#9c179e\"],[0.4444444444444444,\"#bd3786\"],[0.5555555555555556,\"#d8576b\"],[0.6666666666666666,\"#ed7953\"],[0.7777777777777778,\"#fb9f3a\"],[0.8888888888888888,\"#fdca26\"],[1.0,\"#f0f921\"]],\"type\":\"heatmapgl\"}],\"histogram\":[{\"marker\":{\"pattern\":{\"fillmode\":\"overlay\",\"size\":10,\"solidity\":0.2}},\"type\":\"histogram\"}],\"histogram2d\":[{\"colorbar\":{\"outlinewidth\":0,\"ticks\":\"\"},\"colorscale\":[[0.0,\"#0d0887\"],[0.1111111111111111,\"#46039f\"],[0.2222222222222222,\"#7201a8\"],[0.3333333333333333,\"#9c179e\"],[0.4444444444444444,\"#bd3786\"],[0.5555555555555556,\"#d8576b\"],[0.6666666666666666,\"#ed7953\"],[0.7777777777777778,\"#fb9f3a\"],[0.8888888888888888,\"#fdca26\"],[1.0,\"#f0f921\"]],\"type\":\"histogram2d\"}],\"histogram2dcontour\":[{\"colorbar\":{\"outlinewidth\":0,\"ticks\":\"\"},\"colorscale\":[[0.0,\"#0d0887\"],[0.1111111111111111,\"#46039f\"],[0.2222222222222222,\"#7201a8\"],[0.3333333333333333,\"#9c179e\"],[0.4444444444444444,\"#bd3786\"],[0.5555555555555556,\"#d8576b\"],[0.6666666666666666,\"#ed7953\"],[0.7777777777777778,\"#fb9f3a\"],[0.8888888888888888,\"#fdca26\"],[1.0,\"#f0f921\"]],\"type\":\"histogram2dcontour\"}],\"mesh3d\":[{\"colorbar\":{\"outlinewidth\":0,\"ticks\":\"\"},\"type\":\"mesh3d\"}],\"parcoords\":[{\"line\":{\"colorbar\":{\"outlinewidth\":0,\"ticks\":\"\"}},\"type\":\"parcoords\"}],\"pie\":[{\"automargin\":true,\"type\":\"pie\"}],\"scatter\":[{\"marker\":{\"colorbar\":{\"outlinewidth\":0,\"ticks\":\"\"}},\"type\":\"scatter\"}],\"scatter3d\":[{\"line\":{\"colorbar\":{\"outlinewidth\":0,\"ticks\":\"\"}},\"marker\":{\"colorbar\":{\"outlinewidth\":0,\"ticks\":\"\"}},\"type\":\"scatter3d\"}],\"scattercarpet\":[{\"marker\":{\"colorbar\":{\"outlinewidth\":0,\"ticks\":\"\"}},\"type\":\"scattercarpet\"}],\"scattergeo\":[{\"marker\":{\"colorbar\":{\"outlinewidth\":0,\"ticks\":\"\"}},\"type\":\"scattergeo\"}],\"scattergl\":[{\"marker\":{\"colorbar\":{\"outlinewidth\":0,\"ticks\":\"\"}},\"type\":\"scattergl\"}],\"scattermapbox\":[{\"marker\":{\"colorbar\":{\"outlinewidth\":0,\"ticks\":\"\"}},\"type\":\"scattermapbox\"}],\"scatterpolar\":[{\"marker\":{\"colorbar\":{\"outlinewidth\":0,\"ticks\":\"\"}},\"type\":\"scatterpolar\"}],\"scatterpolargl\":[{\"marker\":{\"colorbar\":{\"outlinewidth\":0,\"ticks\":\"\"}},\"type\":\"scatterpolargl\"}],\"scatterternary\":[{\"marker\":{\"colorbar\":{\"outlinewidth\":0,\"ticks\":\"\"}},\"type\":\"scatterternary\"}],\"surface\":[{\"colorbar\":{\"outlinewidth\":0,\"ticks\":\"\"},\"colorscale\":[[0.0,\"#0d0887\"],[0.1111111111111111,\"#46039f\"],[0.2222222222222222,\"#7201a8\"],[0.3333333333333333,\"#9c179e\"],[0.4444444444444444,\"#bd3786\"],[0.5555555555555556,\"#d8576b\"],[0.6666666666666666,\"#ed7953\"],[0.7777777777777778,\"#fb9f3a\"],[0.8888888888888888,\"#fdca26\"],[1.0,\"#f0f921\"]],\"type\":\"surface\"}],\"table\":[{\"cells\":{\"fill\":{\"color\":\"#EBF0F8\"},\"line\":{\"color\":\"white\"}},\"header\":{\"fill\":{\"color\":\"#C8D4E3\"},\"line\":{\"color\":\"white\"}},\"type\":\"table\"}]},\"layout\":{\"annotationdefaults\":{\"arrowcolor\":\"#2a3f5f\",\"arrowhead\":0,\"arrowwidth\":1},\"autotypenumbers\":\"strict\",\"coloraxis\":{\"colorbar\":{\"outlinewidth\":0,\"ticks\":\"\"}},\"colorscale\":{\"diverging\":[[0,\"#8e0152\"],[0.1,\"#c51b7d\"],[0.2,\"#de77ae\"],[0.3,\"#f1b6da\"],[0.4,\"#fde0ef\"],[0.5,\"#f7f7f7\"],[0.6,\"#e6f5d0\"],[0.7,\"#b8e186\"],[0.8,\"#7fbc41\"],[0.9,\"#4d9221\"],[1,\"#276419\"]],\"sequential\":[[0.0,\"#0d0887\"],[0.1111111111111111,\"#46039f\"],[0.2222222222222222,\"#7201a8\"],[0.3333333333333333,\"#9c179e\"],[0.4444444444444444,\"#bd3786\"],[0.5555555555555556,\"#d8576b\"],[0.6666666666666666,\"#ed7953\"],[0.7777777777777778,\"#fb9f3a\"],[0.8888888888888888,\"#fdca26\"],[1.0,\"#f0f921\"]],\"sequentialminus\":[[0.0,\"#0d0887\"],[0.1111111111111111,\"#46039f\"],[0.2222222222222222,\"#7201a8\"],[0.3333333333333333,\"#9c179e\"],[0.4444444444444444,\"#bd3786\"],[0.5555555555555556,\"#d8576b\"],[0.6666666666666666,\"#ed7953\"],[0.7777777777777778,\"#fb9f3a\"],[0.8888888888888888,\"#fdca26\"],[1.0,\"#f0f921\"]]},\"colorway\":[\"#636efa\",\"#EF553B\",\"#00cc96\",\"#ab63fa\",\"#FFA15A\",\"#19d3f3\",\"#FF6692\",\"#B6E880\",\"#FF97FF\",\"#FECB52\"],\"font\":{\"color\":\"#2a3f5f\"},\"geo\":{\"bgcolor\":\"white\",\"lakecolor\":\"white\",\"landcolor\":\"#E5ECF6\",\"showlakes\":true,\"showland\":true,\"subunitcolor\":\"white\"},\"hoverlabel\":{\"align\":\"left\"},\"hovermode\":\"closest\",\"mapbox\":{\"style\":\"light\"},\"paper_bgcolor\":\"white\",\"plot_bgcolor\":\"#E5ECF6\",\"polar\":{\"angularaxis\":{\"gridcolor\":\"white\",\"linecolor\":\"white\",\"ticks\":\"\"},\"bgcolor\":\"#E5ECF6\",\"radialaxis\":{\"gridcolor\":\"white\",\"linecolor\":\"white\",\"ticks\":\"\"}},\"scene\":{\"xaxis\":{\"backgroundcolor\":\"#E5ECF6\",\"gridcolor\":\"white\",\"gridwidth\":2,\"linecolor\":\"white\",\"showbackground\":true,\"ticks\":\"\",\"zerolinecolor\":\"white\"},\"yaxis\":{\"backgroundcolor\":\"#E5ECF6\",\"gridcolor\":\"white\",\"gridwidth\":2,\"linecolor\":\"white\",\"showbackground\":true,\"ticks\":\"\",\"zerolinecolor\":\"white\"},\"zaxis\":{\"backgroundcolor\":\"#E5ECF6\",\"gridcolor\":\"white\",\"gridwidth\":2,\"linecolor\":\"white\",\"showbackground\":true,\"ticks\":\"\",\"zerolinecolor\":\"white\"}},\"shapedefaults\":{\"line\":{\"color\":\"#2a3f5f\"}},\"ternary\":{\"aaxis\":{\"gridcolor\":\"white\",\"linecolor\":\"white\",\"ticks\":\"\"},\"baxis\":{\"gridcolor\":\"white\",\"linecolor\":\"white\",\"ticks\":\"\"},\"bgcolor\":\"#E5ECF6\",\"caxis\":{\"gridcolor\":\"white\",\"linecolor\":\"white\",\"ticks\":\"\"}},\"title\":{\"x\":0.05},\"xaxis\":{\"automargin\":true,\"gridcolor\":\"white\",\"linecolor\":\"white\",\"ticks\":\"\",\"title\":{\"standoff\":15},\"zerolinecolor\":\"white\",\"zerolinewidth\":2},\"yaxis\":{\"automargin\":true,\"gridcolor\":\"white\",\"linecolor\":\"white\",\"ticks\":\"\",\"title\":{\"standoff\":15},\"zerolinecolor\":\"white\",\"zerolinewidth\":2}}},\"xaxis\":{\"anchor\":\"y\",\"domain\":[0.0,1.0],\"title\":{\"text\":\"Year\"}},\"yaxis\":{\"anchor\":\"x\",\"domain\":[0.0,1.0],\"title\":{\"text\":\"Event\"}},\"legend\":{\"title\":{\"text\":\"Medal\"},\"tracegroupgap\":0},\"title\":{\"text\":\"Quantidade de medalhas por ano\"},\"plot_bgcolor\":\"rgba(0, 0, 0, 1)\",\"paper_bgcolor\":\"rgba(255, 255, 255, 1)\"},                        {\"responsive\": true}                    ).then(function(){\n",
       "                            \n",
       "var gd = document.getElementById('2c04bdca-0c08-4beb-8803-e2ffa4e6fa1c');\n",
       "var x = new MutationObserver(function (mutations, observer) {{\n",
       "        var display = window.getComputedStyle(gd).display;\n",
       "        if (!display || display === 'none') {{\n",
       "            console.log([gd, 'removed!']);\n",
       "            Plotly.purge(gd);\n",
       "            observer.disconnect();\n",
       "        }}\n",
       "}});\n",
       "\n",
       "// Listen for the removal of the full notebook cells\n",
       "var notebookContainer = gd.closest('#notebook-container');\n",
       "if (notebookContainer) {{\n",
       "    x.observe(notebookContainer, {childList: true});\n",
       "}}\n",
       "\n",
       "// Listen for the clearing of the current output cell\n",
       "var outputEl = gd.closest('.output');\n",
       "if (outputEl) {{\n",
       "    x.observe(outputEl, {childList: true});\n",
       "}}\n",
       "\n",
       "                        })                };                });            </script>        </div>"
      ]
     },
     "metadata": {},
     "output_type": "display_data"
    }
   ],
   "source": [
    "fig = px.line(data_frame=df6, x='Year', y='Event', color='Medal', title='Quantidade de medalhas por ano',\n",
    "             line_dash='Medal',color_discrete_map={ 'Gold' : '#FFD700','Bronze' : '#cd7f32', 'Silver' : '#C0C0C0'})\n",
    "fig.update_layout({'plot_bgcolor': 'rgba(0, 0, 0, 1)',\n",
    "                    'paper_bgcolor': 'rgba(255, 255, 255, 1)'})\n",
    "fig.show()"
   ]
  },
  {
   "cell_type": "markdown",
   "id": "ea0aa7d0",
   "metadata": {
    "id": "ea0aa7d0"
   },
   "source": [
    "**5. Agora é com vocês!** \n",
    "\n",
    "Escolha uma análise visual que julga interessante de fazer neste conjunto de dados, faça o(s) gráficos(s) necessários e comente os resultados. "
   ]
  },
  {
   "cell_type": "code",
   "execution_count": 129,
   "id": "f144ac44",
   "metadata": {},
   "outputs": [],
   "source": [
    "df[\"Medal\"] = df[\"Medal\"].fillna(\"Sem medalha\")"
   ]
  },
  {
   "cell_type": "code",
   "execution_count": 130,
   "id": "e2c8bf38",
   "metadata": {},
   "outputs": [],
   "source": [
    "df_total = df[[\"Sport\",\"Medal\",\"Year\",\"Event\",\"Sex\"]].drop_duplicates()"
   ]
  },
  {
   "cell_type": "code",
   "execution_count": 131,
   "id": "43a83c34",
   "metadata": {
    "scrolled": false
   },
   "outputs": [],
   "source": [
    "df_total = df_total[df_total[\"Medal\"] != \"Sem medalha\"].groupby([\"Medal\", \"Year\"], as_index=False).count()"
   ]
  },
  {
   "cell_type": "code",
   "execution_count": 132,
   "id": "47ab9f98",
   "metadata": {},
   "outputs": [
    {
     "data": {
      "text/html": [
       "<div>\n",
       "<style scoped>\n",
       "    .dataframe tbody tr th:only-of-type {\n",
       "        vertical-align: middle;\n",
       "    }\n",
       "\n",
       "    .dataframe tbody tr th {\n",
       "        vertical-align: top;\n",
       "    }\n",
       "\n",
       "    .dataframe thead th {\n",
       "        text-align: right;\n",
       "    }\n",
       "</style>\n",
       "<table border=\"1\" class=\"dataframe\">\n",
       "  <thead>\n",
       "    <tr style=\"text-align: right;\">\n",
       "      <th></th>\n",
       "      <th>Medal</th>\n",
       "      <th>Year</th>\n",
       "      <th>Sport</th>\n",
       "      <th>Event</th>\n",
       "      <th>Sex</th>\n",
       "    </tr>\n",
       "  </thead>\n",
       "  <tbody>\n",
       "    <tr>\n",
       "      <th>0</th>\n",
       "      <td>Bronze</td>\n",
       "      <td>1896</td>\n",
       "      <td>32</td>\n",
       "      <td>32</td>\n",
       "      <td>32</td>\n",
       "    </tr>\n",
       "    <tr>\n",
       "      <th>1</th>\n",
       "      <td>Bronze</td>\n",
       "      <td>1900</td>\n",
       "      <td>81</td>\n",
       "      <td>81</td>\n",
       "      <td>81</td>\n",
       "    </tr>\n",
       "    <tr>\n",
       "      <th>2</th>\n",
       "      <td>Bronze</td>\n",
       "      <td>1904</td>\n",
       "      <td>88</td>\n",
       "      <td>88</td>\n",
       "      <td>88</td>\n",
       "    </tr>\n",
       "    <tr>\n",
       "      <th>3</th>\n",
       "      <td>Bronze</td>\n",
       "      <td>1906</td>\n",
       "      <td>72</td>\n",
       "      <td>72</td>\n",
       "      <td>72</td>\n",
       "    </tr>\n",
       "    <tr>\n",
       "      <th>4</th>\n",
       "      <td>Bronze</td>\n",
       "      <td>1908</td>\n",
       "      <td>98</td>\n",
       "      <td>98</td>\n",
       "      <td>98</td>\n",
       "    </tr>\n",
       "    <tr>\n",
       "      <th>5</th>\n",
       "      <td>Bronze</td>\n",
       "      <td>1912</td>\n",
       "      <td>102</td>\n",
       "      <td>102</td>\n",
       "      <td>102</td>\n",
       "    </tr>\n",
       "    <tr>\n",
       "      <th>6</th>\n",
       "      <td>Bronze</td>\n",
       "      <td>1920</td>\n",
       "      <td>140</td>\n",
       "      <td>140</td>\n",
       "      <td>140</td>\n",
       "    </tr>\n",
       "    <tr>\n",
       "      <th>7</th>\n",
       "      <td>Bronze</td>\n",
       "      <td>1924</td>\n",
       "      <td>146</td>\n",
       "      <td>146</td>\n",
       "      <td>146</td>\n",
       "    </tr>\n",
       "    <tr>\n",
       "      <th>8</th>\n",
       "      <td>Bronze</td>\n",
       "      <td>1928</td>\n",
       "      <td>134</td>\n",
       "      <td>134</td>\n",
       "      <td>134</td>\n",
       "    </tr>\n",
       "    <tr>\n",
       "      <th>9</th>\n",
       "      <td>Bronze</td>\n",
       "      <td>1932</td>\n",
       "      <td>135</td>\n",
       "      <td>135</td>\n",
       "      <td>135</td>\n",
       "    </tr>\n",
       "  </tbody>\n",
       "</table>\n",
       "</div>"
      ],
      "text/plain": [
       "    Medal  Year  Sport  Event  Sex\n",
       "0  Bronze  1896     32     32   32\n",
       "1  Bronze  1900     81     81   81\n",
       "2  Bronze  1904     88     88   88\n",
       "3  Bronze  1906     72     72   72\n",
       "4  Bronze  1908     98     98   98\n",
       "5  Bronze  1912    102    102  102\n",
       "6  Bronze  1920    140    140  140\n",
       "7  Bronze  1924    146    146  146\n",
       "8  Bronze  1928    134    134  134\n",
       "9  Bronze  1932    135    135  135"
      ]
     },
     "execution_count": 132,
     "metadata": {},
     "output_type": "execute_result"
    }
   ],
   "source": [
    "df_total.head(10)"
   ]
  },
  {
   "cell_type": "code",
   "execution_count": 133,
   "id": "b960853c",
   "metadata": {
    "scrolled": false
   },
   "outputs": [],
   "source": [
    "df_bra_soma = df_bra[[\"Sport\",\"Medal\",\"Year\",\"Event\",\"Sex\"]].drop_duplicates()"
   ]
  },
  {
   "cell_type": "code",
   "execution_count": 134,
   "id": "9cfa7ac5",
   "metadata": {},
   "outputs": [],
   "source": [
    "df_bra_soma = df_bra_soma[df_bra_soma[\"Medal\"] != \"Sem medalha\"].groupby([\"Medal\", \"Year\"], as_index=False).count()"
   ]
  },
  {
   "cell_type": "code",
   "execution_count": 135,
   "id": "6c51a0ee",
   "metadata": {},
   "outputs": [
    {
     "data": {
      "text/html": [
       "<div>\n",
       "<style scoped>\n",
       "    .dataframe tbody tr th:only-of-type {\n",
       "        vertical-align: middle;\n",
       "    }\n",
       "\n",
       "    .dataframe tbody tr th {\n",
       "        vertical-align: top;\n",
       "    }\n",
       "\n",
       "    .dataframe thead th {\n",
       "        text-align: right;\n",
       "    }\n",
       "</style>\n",
       "<table border=\"1\" class=\"dataframe\">\n",
       "  <thead>\n",
       "    <tr style=\"text-align: right;\">\n",
       "      <th></th>\n",
       "      <th>Medal</th>\n",
       "      <th>Year</th>\n",
       "      <th>Sport</th>\n",
       "      <th>Event</th>\n",
       "      <th>Sex</th>\n",
       "    </tr>\n",
       "  </thead>\n",
       "  <tbody>\n",
       "    <tr>\n",
       "      <th>0</th>\n",
       "      <td>Bronze</td>\n",
       "      <td>1920</td>\n",
       "      <td>1</td>\n",
       "      <td>1</td>\n",
       "      <td>1</td>\n",
       "    </tr>\n",
       "    <tr>\n",
       "      <th>1</th>\n",
       "      <td>Bronze</td>\n",
       "      <td>1948</td>\n",
       "      <td>1</td>\n",
       "      <td>1</td>\n",
       "      <td>1</td>\n",
       "    </tr>\n",
       "    <tr>\n",
       "      <th>2</th>\n",
       "      <td>Bronze</td>\n",
       "      <td>1952</td>\n",
       "      <td>2</td>\n",
       "      <td>2</td>\n",
       "      <td>2</td>\n",
       "    </tr>\n",
       "    <tr>\n",
       "      <th>3</th>\n",
       "      <td>Bronze</td>\n",
       "      <td>1960</td>\n",
       "      <td>2</td>\n",
       "      <td>2</td>\n",
       "      <td>2</td>\n",
       "    </tr>\n",
       "    <tr>\n",
       "      <th>4</th>\n",
       "      <td>Bronze</td>\n",
       "      <td>1964</td>\n",
       "      <td>1</td>\n",
       "      <td>1</td>\n",
       "      <td>1</td>\n",
       "    </tr>\n",
       "    <tr>\n",
       "      <th>5</th>\n",
       "      <td>Bronze</td>\n",
       "      <td>1968</td>\n",
       "      <td>2</td>\n",
       "      <td>2</td>\n",
       "      <td>2</td>\n",
       "    </tr>\n",
       "    <tr>\n",
       "      <th>6</th>\n",
       "      <td>Bronze</td>\n",
       "      <td>1972</td>\n",
       "      <td>2</td>\n",
       "      <td>2</td>\n",
       "      <td>2</td>\n",
       "    </tr>\n",
       "    <tr>\n",
       "      <th>7</th>\n",
       "      <td>Bronze</td>\n",
       "      <td>1976</td>\n",
       "      <td>2</td>\n",
       "      <td>2</td>\n",
       "      <td>2</td>\n",
       "    </tr>\n",
       "    <tr>\n",
       "      <th>8</th>\n",
       "      <td>Bronze</td>\n",
       "      <td>1980</td>\n",
       "      <td>2</td>\n",
       "      <td>2</td>\n",
       "      <td>2</td>\n",
       "    </tr>\n",
       "    <tr>\n",
       "      <th>9</th>\n",
       "      <td>Bronze</td>\n",
       "      <td>1984</td>\n",
       "      <td>2</td>\n",
       "      <td>2</td>\n",
       "      <td>2</td>\n",
       "    </tr>\n",
       "  </tbody>\n",
       "</table>\n",
       "</div>"
      ],
      "text/plain": [
       "    Medal  Year  Sport  Event  Sex\n",
       "0  Bronze  1920      1      1    1\n",
       "1  Bronze  1948      1      1    1\n",
       "2  Bronze  1952      2      2    2\n",
       "3  Bronze  1960      2      2    2\n",
       "4  Bronze  1964      1      1    1\n",
       "5  Bronze  1968      2      2    2\n",
       "6  Bronze  1972      2      2    2\n",
       "7  Bronze  1976      2      2    2\n",
       "8  Bronze  1980      2      2    2\n",
       "9  Bronze  1984      2      2    2"
      ]
     },
     "execution_count": 135,
     "metadata": {},
     "output_type": "execute_result"
    }
   ],
   "source": [
    "df_bra_soma.head(10)"
   ]
  },
  {
   "cell_type": "code",
   "execution_count": 142,
   "id": "a5377124",
   "metadata": {},
   "outputs": [
    {
     "data": {
      "image/png": "[encoded data removed]",
      "text/plain": [
       "<Figure size 1080x720 with 1 Axes>"
      ]
     },
     "metadata": {
      "needs_background": "light"
     },
     "output_type": "display_data"
    }
   ],
   "source": [
    "ax_hist = df_total['Year'].plot(y='Sport', kind='hist', bins=10, figsize=(15,10), alpha=.5, label='total de medalha')\n",
    "ax_hist2 = df_bra_soma['Year'].plot(y='Sport', kind='hist', bins=10, figsize=(15,10), alpha=.5, \n",
    "                                    ax=ax_hist, label='Brasil' )\n",
    "ax_hist.set_xlabel('Ano de competição', fontsize=15);"
   ]
  },
  {
   "cell_type": "code",
   "execution_count": null,
   "id": "70fbb1c4",
   "metadata": {},
   "outputs": [],
   "source": []
  }
 ],
 "metadata": {
  "colab": {
   "name": "Projeto Final.ipynb",
   "provenance": []
  },
  "kernelspec": {
   "display_name": "Python 3 (ipykernel)",
   "language": "python",
   "name": "python3"
  },
  "language_info": {
   "codemirror_mode": {
    "name": "ipython",
    "version": 3
   },
   "file_extension": ".py",
   "mimetype": "text/x-python",
   "name": "python",
   "nbconvert_exporter": "python",
   "pygments_lexer": "ipython3",
   "version": "3.9.7"
  }
 },
 "nbformat": 4,
 "nbformat_minor": 5
}
