{
 "cells": [
  {
   "cell_type": "markdown",
   "id": "a4dbfc68",
   "metadata": {
    "id": "a4dbfc68"
   },
   "source": [
    "# Módulo 5 - Técnicas de Programação II | Python\n",
    "\n",
    "## Projeto Final - História das Olimpíadas"
   ]
  },
  {
   "cell_type": "markdown",
   "id": "65064ba3",
   "metadata": {
    "id": "65064ba3"
   },
   "source": [
    "Este projeto consiste em uma análise de dados históricos dos jogos olímpicos.\n",
    "\n",
    "Utilize qualquer uma das bibliotecas estudadas (```matplotlib```, ```seaborn``` e ```plotly```) para realizar as atividades propostas. Não há problema em usar apenas uma para realizar todas as atividades, nem em utilizar cada uma delas em uma atividade diferente - siga suas preferências pessoais!\n",
    "\n",
    "Utilize os (muitos) parâmetros permitidos por cada função e/ou atributos dos objetos fornecidos pelas bibliotecas para criar uma identidade visual coesa para ser utilizada em todo o projeto. Use títulos, legendas e rótulos nos eixos para deixar os gráficos verdadeiramente informativos. E não se esqueça que a simples escolha das cores a serem utilizadas pode tornar os gráficos ainda mais interessantes!"
   ]
  },
  {
   "cell_type": "markdown",
   "id": "18fbd6d8",
   "metadata": {
    "id": "18fbd6d8"
   },
   "source": [
    "## Metadados:\n",
    "\n",
    "O arquivo ```athlete_events.csv``` contém 271116 linhas e 15 colunas. Cada linha corresponde a um indivíduo (atleta) que competiu em um evento olímpico individual. Veja a descrição das 15 colunas, a seguir:\n",
    "\n",
    "- **ID:** Valor único para cada atleta\n",
    "- **Name:** Nome do atleta\n",
    "- **Sex:** Gênero do atleta (M para masculino e F para feminino)\n",
    "- **Age:** Idade do atleta no momento da competição\n",
    "- **Height:** Altura do atleta, em centímetros\n",
    "- **Weight:** Peso do atleta, em kg\n",
    "- **Team:** Nome do time\n",
    "- **NOC:** National Olympic Committee (código de 3 letras)\n",
    "- **Games:** Ano e temporada dos jogos\n",
    "- **Year:** Ano dos jogos\n",
    "- **Season:** Temporada dos jogos (summer para verão e winter para inverno)\n",
    "- **City:** Cidade em que ocorreu os jogos\n",
    "- **Sport:** Esporte praticado pelo atleta\n",
    "- **Event:** Categoria/modalidade da competição\n",
    "- **Medal:** Medalha adquirida: Gold (ouro), Silver (prata), Bronze ou NA"
   ]
  },
  {
   "cell_type": "code",
   "execution_count": null,
   "id": "14730a4a",
   "metadata": {
    "id": "14730a4a"
   },
   "outputs": [],
   "source": []
  },
  {
   "cell_type": "markdown",
   "id": "4d9822e8",
   "metadata": {
    "id": "4d9822e8"
   },
   "source": [
    "## O Brasil nas olímpiadas\n",
    "\n",
    "<font size=+3>**1.** Crie um DataFrame contendo apenas informações sobre atletas **brasileiros**. Exiba a quantidade de linhas desse novo DataFrame.</font>"
   ]
  },
  {
   "cell_type": "code",
   "execution_count": null,
   "id": "96beccb7",
   "metadata": {
    "id": "96beccb7"
   },
   "outputs": [],
   "source": [
    "import pandas as pd\n",
    "import numpy as np\n",
    "import matplotlib as mp\n",
    "import plotly.express as px\n",
    "import seaborn as sns\n",
    "import matplotlib.pyplot as plt"
   ]
  },
  {
   "cell_type": "code",
   "execution_count": null,
   "id": "236fe3a3",
   "metadata": {
    "id": "236fe3a3"
   },
   "outputs": [],
   "source": [
    "df = pd.read_csv('athlete_events.csv')\n",
    "br = df[df['Team'] == 'Brazil'].copy()"
   ]
  },
  {
   "cell_type": "code",
   "execution_count": null,
   "id": "a7045e21",
   "metadata": {
    "id": "a7045e21",
    "outputId": "203ccf8f-3c8c-4846-b353-a37db4e75ad1"
   },
   "outputs": [],
   "source": [
    "br.info()"
   ]
  },
  {
   "cell_type": "code",
   "execution_count": null,
   "id": "930cee6e",
   "metadata": {
    "id": "930cee6e",
    "outputId": "6b4c787b-2e37-4611-a929-0aedd1003548",
    "scrolled": true
   },
   "outputs": [],
   "source": [
    "br.head()"
   ]
  },
  {
   "cell_type": "markdown",
   "id": "4565dbe2",
   "metadata": {
    "id": "4565dbe2"
   },
   "source": [
    "<font size=+3>**2. Será que existe alguma correlação entre a altura do atleta e seu desempenho, para algum esporte? Faça essa análise separadamente para cada gênero, e conclua.**</font>\n",
    "\n",
    "Gere um ou mais gráficos de sua escolha, em que seja possível comparar as alturas dos atletas de cada esporte, separando-os por gênero. Se necessário, crie colunas ou DataFrames auxiliares.\n",
    "\n",
    "**Facilitador:** se quiser, analise apenas os esportes em que se tenha ao menos 5 atletas medalhistas e 5 atletas não medalhistas, para facilitar visualizações e conclusões."
   ]
  },
  {
   "cell_type": "markdown",
   "id": "LoZskoe9Vs6z",
   "metadata": {
    "id": "LoZskoe9Vs6z"
   },
   "source": [
    "Para se fazer a análise de desempenho decidiu-se dividir a variável medalhas apenas em \"medalhistas\" e \"não-medalhistas\", visto que o enunciado foca apenas em \"desempenho\" e não solicita uma estratificação entre ouro, prata e bronze. Considerou-se então \"desempenho bom\" o atleta ter recebido melhas, independente do seu valor.\n",
    "\n",
    "JUSTIFICATIVA ABAIXO, AVALIAR\n",
    "*** Mesmo porquê, considerar uma diferença entre ouro, prata e bronze, além de deixar a análise mais complexa, pois a correlação ficaria muito nebulosa se por exemplo o valor da altura para medalhas de prata fosse maior que o de ouro e de bronze ao mesmo tempo, mas por exemplo, menor do que para não-medalhistas."
   ]
  },
  {
   "cell_type": "code",
   "execution_count": null,
   "id": "2dff4861",
   "metadata": {},
   "outputs": [],
   "source": [
    "br['Medal'].fillna('Não-Medalhista', inplace=True)\n",
    "br_bin = br.copy()\n",
    "br_bin.replace({'Bronze': 'Medalhista',\n",
    "                'Silver': 'Medalhista',\n",
    "                'Gold': 'Medalhista'}, inplace=True)\n",
    "br_bin['Medal'].value_counts()"
   ]
  },
  {
   "cell_type": "code",
   "execution_count": 6,
   "id": "fb0e2db1",
   "metadata": {
    "id": "fb0e2db1",
    "scrolled": false
   },
   "outputs": [],
   "source": []
  },
  {
   "cell_type": "code",
   "execution_count": 7,
   "id": "a37ecbb7",
   "metadata": {
    "id": "a37ecbb7",
    "outputId": "229d846c-3c86-4126-abb8-6cd4bb0a6fd9",
    "scrolled": true
   },
   "outputs": [
    {
     "data": {
      "text/plain": [
       "Não-Medalhista    3323\n",
       "Medalhista         449\n",
       "Name: Medal, dtype: int64"
      ]
     },
     "execution_count": 7,
     "metadata": {},
     "output_type": "execute_result"
    }
   ],
   "source": []
  },
  {
   "cell_type": "code",
   "execution_count": null,
   "id": "e6cd9016",
   "metadata": {
    "id": "e6cd9016"
   },
   "outputs": [],
   "source": [
    "br_f = br_bin[br_bin['Sex'] == 'F']\n",
    "br_f"
   ]
  },
  {
   "cell_type": "code",
   "execution_count": 15,
   "id": "e9bc07b9",
   "metadata": {},
   "outputs": [],
   "source": []
  },
  {
   "cell_type": "code",
   "execution_count": 16,
   "id": "80c0adbe",
   "metadata": {},
   "outputs": [
    {
     "data": {
      "text/html": [
       "<div>\n",
       "<style scoped>\n",
       "    .dataframe tbody tr th:only-of-type {\n",
       "        vertical-align: middle;\n",
       "    }\n",
       "\n",
       "    .dataframe tbody tr th {\n",
       "        vertical-align: top;\n",
       "    }\n",
       "\n",
       "    .dataframe thead th {\n",
       "        text-align: right;\n",
       "    }\n",
       "</style>\n",
       "<table border=\"1\" class=\"dataframe\">\n",
       "  <thead>\n",
       "    <tr style=\"text-align: right;\">\n",
       "      <th></th>\n",
       "      <th>ID</th>\n",
       "      <th>Name</th>\n",
       "      <th>Sex</th>\n",
       "      <th>Age</th>\n",
       "      <th>Height</th>\n",
       "      <th>Weight</th>\n",
       "      <th>Team</th>\n",
       "      <th>NOC</th>\n",
       "      <th>Games</th>\n",
       "      <th>Year</th>\n",
       "      <th>Season</th>\n",
       "      <th>City</th>\n",
       "      <th>Sport</th>\n",
       "      <th>Event</th>\n",
       "      <th>Medal</th>\n",
       "    </tr>\n",
       "  </thead>\n",
       "  <tbody>\n",
       "    <tr>\n",
       "      <th>781</th>\n",
       "      <td>451</td>\n",
       "      <td>Diana Monteiro Abla</td>\n",
       "      <td>F</td>\n",
       "      <td>21.0</td>\n",
       "      <td>175.0</td>\n",
       "      <td>75.0</td>\n",
       "      <td>Brazil</td>\n",
       "      <td>BRA</td>\n",
       "      <td>2016 Summer</td>\n",
       "      <td>2016</td>\n",
       "      <td>Summer</td>\n",
       "      <td>Rio de Janeiro</td>\n",
       "      <td>Water Polo</td>\n",
       "      <td>Water Polo Women's Water Polo</td>\n",
       "      <td>Não-Medalhista</td>\n",
       "    </tr>\n",
       "    <tr>\n",
       "      <th>1668</th>\n",
       "      <td>925</td>\n",
       "      <td>Adenzia Aparecida Ferreira da Silva</td>\n",
       "      <td>F</td>\n",
       "      <td>25.0</td>\n",
       "      <td>187.0</td>\n",
       "      <td>65.0</td>\n",
       "      <td>Brazil</td>\n",
       "      <td>BRA</td>\n",
       "      <td>2012 Summer</td>\n",
       "      <td>2012</td>\n",
       "      <td>Summer</td>\n",
       "      <td>London</td>\n",
       "      <td>Volleyball</td>\n",
       "      <td>Volleyball Women's Volleyball</td>\n",
       "      <td>Medalhista</td>\n",
       "    </tr>\n",
       "    <tr>\n",
       "      <th>1669</th>\n",
       "      <td>925</td>\n",
       "      <td>Adenzia Aparecida Ferreira da Silva</td>\n",
       "      <td>F</td>\n",
       "      <td>29.0</td>\n",
       "      <td>187.0</td>\n",
       "      <td>65.0</td>\n",
       "      <td>Brazil</td>\n",
       "      <td>BRA</td>\n",
       "      <td>2016 Summer</td>\n",
       "      <td>2016</td>\n",
       "      <td>Summer</td>\n",
       "      <td>Rio de Janeiro</td>\n",
       "      <td>Volleyball</td>\n",
       "      <td>Volleyball Women's Volleyball</td>\n",
       "      <td>Não-Medalhista</td>\n",
       "    </tr>\n",
       "    <tr>\n",
       "      <th>1855</th>\n",
       "      <td>1020</td>\n",
       "      <td>Adriana Aparecida dos Santos</td>\n",
       "      <td>F</td>\n",
       "      <td>21.0</td>\n",
       "      <td>180.0</td>\n",
       "      <td>61.0</td>\n",
       "      <td>Brazil</td>\n",
       "      <td>BRA</td>\n",
       "      <td>1992 Summer</td>\n",
       "      <td>1992</td>\n",
       "      <td>Summer</td>\n",
       "      <td>Barcelona</td>\n",
       "      <td>Basketball</td>\n",
       "      <td>Basketball Women's Basketball</td>\n",
       "      <td>Não-Medalhista</td>\n",
       "    </tr>\n",
       "    <tr>\n",
       "      <th>1856</th>\n",
       "      <td>1020</td>\n",
       "      <td>Adriana Aparecida dos Santos</td>\n",
       "      <td>F</td>\n",
       "      <td>25.0</td>\n",
       "      <td>180.0</td>\n",
       "      <td>61.0</td>\n",
       "      <td>Brazil</td>\n",
       "      <td>BRA</td>\n",
       "      <td>1996 Summer</td>\n",
       "      <td>1996</td>\n",
       "      <td>Summer</td>\n",
       "      <td>Atlanta</td>\n",
       "      <td>Basketball</td>\n",
       "      <td>Basketball Women's Basketball</td>\n",
       "      <td>Medalhista</td>\n",
       "    </tr>\n",
       "    <tr>\n",
       "      <th>...</th>\n",
       "      <td>...</td>\n",
       "      <td>...</td>\n",
       "      <td>...</td>\n",
       "      <td>...</td>\n",
       "      <td>...</td>\n",
       "      <td>...</td>\n",
       "      <td>...</td>\n",
       "      <td>...</td>\n",
       "      <td>...</td>\n",
       "      <td>...</td>\n",
       "      <td>...</td>\n",
       "      <td>...</td>\n",
       "      <td>...</td>\n",
       "      <td>...</td>\n",
       "      <td>...</td>\n",
       "    </tr>\n",
       "    <tr>\n",
       "      <th>267755</th>\n",
       "      <td>133947</td>\n",
       "      <td>Danielle Zangrando</td>\n",
       "      <td>F</td>\n",
       "      <td>16.0</td>\n",
       "      <td>162.0</td>\n",
       "      <td>57.0</td>\n",
       "      <td>Brazil</td>\n",
       "      <td>BRA</td>\n",
       "      <td>1996 Summer</td>\n",
       "      <td>1996</td>\n",
       "      <td>Summer</td>\n",
       "      <td>Atlanta</td>\n",
       "      <td>Judo</td>\n",
       "      <td>Judo Women's Lightweight</td>\n",
       "      <td>Não-Medalhista</td>\n",
       "    </tr>\n",
       "    <tr>\n",
       "      <th>267756</th>\n",
       "      <td>133947</td>\n",
       "      <td>Danielle Zangrando</td>\n",
       "      <td>F</td>\n",
       "      <td>25.0</td>\n",
       "      <td>162.0</td>\n",
       "      <td>57.0</td>\n",
       "      <td>Brazil</td>\n",
       "      <td>BRA</td>\n",
       "      <td>2004 Summer</td>\n",
       "      <td>2004</td>\n",
       "      <td>Summer</td>\n",
       "      <td>Athina</td>\n",
       "      <td>Judo</td>\n",
       "      <td>Judo Women's Lightweight</td>\n",
       "      <td>Não-Medalhista</td>\n",
       "    </tr>\n",
       "    <tr>\n",
       "      <th>268651</th>\n",
       "      <td>134399</td>\n",
       "      <td>Maria Jos \"Zez\" Batista de Sales</td>\n",
       "      <td>F</td>\n",
       "      <td>31.0</td>\n",
       "      <td>172.0</td>\n",
       "      <td>73.0</td>\n",
       "      <td>Brazil</td>\n",
       "      <td>BRA</td>\n",
       "      <td>2000 Summer</td>\n",
       "      <td>2000</td>\n",
       "      <td>Summer</td>\n",
       "      <td>Sydney</td>\n",
       "      <td>Handball</td>\n",
       "      <td>Handball Women's Handball</td>\n",
       "      <td>Não-Medalhista</td>\n",
       "    </tr>\n",
       "    <tr>\n",
       "      <th>268652</th>\n",
       "      <td>134400</td>\n",
       "      <td>Maria Jos \"Zz\" Bertolotti</td>\n",
       "      <td>F</td>\n",
       "      <td>26.0</td>\n",
       "      <td>190.0</td>\n",
       "      <td>NaN</td>\n",
       "      <td>Brazil</td>\n",
       "      <td>BRA</td>\n",
       "      <td>1992 Summer</td>\n",
       "      <td>1992</td>\n",
       "      <td>Summer</td>\n",
       "      <td>Barcelona</td>\n",
       "      <td>Basketball</td>\n",
       "      <td>Basketball Women's Basketball</td>\n",
       "      <td>Não-Medalhista</td>\n",
       "    </tr>\n",
       "    <tr>\n",
       "      <th>269745</th>\n",
       "      <td>134976</td>\n",
       "      <td>Sieglinda Lenk Zigler</td>\n",
       "      <td>F</td>\n",
       "      <td>17.0</td>\n",
       "      <td>NaN</td>\n",
       "      <td>NaN</td>\n",
       "      <td>Brazil</td>\n",
       "      <td>BRA</td>\n",
       "      <td>1936 Summer</td>\n",
       "      <td>1936</td>\n",
       "      <td>Summer</td>\n",
       "      <td>Berlin</td>\n",
       "      <td>Swimming</td>\n",
       "      <td>Swimming Women's 100 metres Backstroke</td>\n",
       "      <td>Não-Medalhista</td>\n",
       "    </tr>\n",
       "  </tbody>\n",
       "</table>\n",
       "<p>1124 rows × 15 columns</p>\n",
       "</div>"
      ],
      "text/plain": [
       "            ID                                 Name Sex   Age  Height  Weight  \\\n",
       "781        451                  Diana Monteiro Abla   F  21.0   175.0    75.0   \n",
       "1668       925  Adenzia Aparecida Ferreira da Silva   F  25.0   187.0    65.0   \n",
       "1669       925  Adenzia Aparecida Ferreira da Silva   F  29.0   187.0    65.0   \n",
       "1855      1020         Adriana Aparecida dos Santos   F  21.0   180.0    61.0   \n",
       "1856      1020         Adriana Aparecida dos Santos   F  25.0   180.0    61.0   \n",
       "...        ...                                  ...  ..   ...     ...     ...   \n",
       "267755  133947                   Danielle Zangrando   F  16.0   162.0    57.0   \n",
       "267756  133947                   Danielle Zangrando   F  25.0   162.0    57.0   \n",
       "268651  134399     Maria Jos \"Zez\" Batista de Sales   F  31.0   172.0    73.0   \n",
       "268652  134400            Maria Jos \"Zz\" Bertolotti   F  26.0   190.0     NaN   \n",
       "269745  134976                Sieglinda Lenk Zigler   F  17.0     NaN     NaN   \n",
       "\n",
       "          Team  NOC        Games  Year  Season            City       Sport  \\\n",
       "781     Brazil  BRA  2016 Summer  2016  Summer  Rio de Janeiro  Water Polo   \n",
       "1668    Brazil  BRA  2012 Summer  2012  Summer          London  Volleyball   \n",
       "1669    Brazil  BRA  2016 Summer  2016  Summer  Rio de Janeiro  Volleyball   \n",
       "1855    Brazil  BRA  1992 Summer  1992  Summer       Barcelona  Basketball   \n",
       "1856    Brazil  BRA  1996 Summer  1996  Summer         Atlanta  Basketball   \n",
       "...        ...  ...          ...   ...     ...             ...         ...   \n",
       "267755  Brazil  BRA  1996 Summer  1996  Summer         Atlanta        Judo   \n",
       "267756  Brazil  BRA  2004 Summer  2004  Summer          Athina        Judo   \n",
       "268651  Brazil  BRA  2000 Summer  2000  Summer          Sydney    Handball   \n",
       "268652  Brazil  BRA  1992 Summer  1992  Summer       Barcelona  Basketball   \n",
       "269745  Brazil  BRA  1936 Summer  1936  Summer          Berlin    Swimming   \n",
       "\n",
       "                                         Event           Medal  \n",
       "781              Water Polo Women's Water Polo  Não-Medalhista  \n",
       "1668             Volleyball Women's Volleyball      Medalhista  \n",
       "1669             Volleyball Women's Volleyball  Não-Medalhista  \n",
       "1855             Basketball Women's Basketball  Não-Medalhista  \n",
       "1856             Basketball Women's Basketball      Medalhista  \n",
       "...                                        ...             ...  \n",
       "267755                Judo Women's Lightweight  Não-Medalhista  \n",
       "267756                Judo Women's Lightweight  Não-Medalhista  \n",
       "268651               Handball Women's Handball  Não-Medalhista  \n",
       "268652           Basketball Women's Basketball  Não-Medalhista  \n",
       "269745  Swimming Women's 100 metres Backstroke  Não-Medalhista  \n",
       "\n",
       "[1124 rows x 15 columns]"
      ]
     },
     "execution_count": 16,
     "metadata": {},
     "output_type": "execute_result"
    }
   ],
   "source": []
  },
  {
   "cell_type": "code",
   "execution_count": null,
   "id": "d90fbdf9",
   "metadata": {},
   "outputs": [],
   "source": [
    "br_f.drop_duplicates(subset=['Year', 'Event'], keep='first').groupby(by=['Sport','Medal'],\n",
    "             as_index=False).count().sort_values(['Medal','Event'], \n",
    "                                                 ascending=False).drop(columns=['ID','Name','Sex','Age','Height','Weight',\n",
    "                         'Team','NOC','Games','Year','Season','City'])"
   ]
  },
  {
   "cell_type": "code",
   "execution_count": null,
   "id": "d1dd3c7d",
   "metadata": {
    "id": "d1dd3c7d",
    "outputId": "c3943feb-60ba-46a3-fc80-164e0f330891"
   },
   "outputs": [],
   "source": [
    "br_f_5 = br_f[(br_f['Sport'] == 'Judo') |\n",
    "              (br_f['Sport'] == 'Sailing') |\n",
    "              (br_f['Sport'] == 'Football') |\n",
    "              (br_f['Sport'] == 'Basketball') |\n",
    "              (br_f['Sport'] == 'Volleyball')]\n",
    "br_f_5['Sport'].value_counts()"
   ]
  },
  {
   "cell_type": "markdown",
   "id": "-hqcr-G9S4ua",
   "metadata": {
    "id": "-hqcr-G9S4ua"
   },
   "source": [
    "Abaixo temos um boxplot para as categorias femininas de 5 esportes (selecionados de acordo com a dica da professora). Nota-se que, para as mulheres a altura não aparenta ser uma variável correlacionada ao desempenho. Isso pode estar associado a vários fatores, como a maior quantidade de esportes de grupo estarem entre os 5, deixando mais indefinida a importancia da altura da atleta nas vitórias obtidas."
   ]
  },
  {
   "cell_type": "code",
   "execution_count": null,
   "id": "7db6b6c3",
   "metadata": {
    "id": "7db6b6c3",
    "outputId": "dfc88211-6bb2-4e9a-8f3d-65203ad508cf"
   },
   "outputs": [],
   "source": [
    "fig = px.box(x='Sport',\n",
    "             y='Height',\n",
    "             data_frame=br_f_5,\n",
    "             color='Medal',\n",
    "             title='Desempenho x Altura (F)',\n",
    "            color_discrete_sequence=['Orange','Lightgrey'])\n",
    "\n",
    "fig.update_yaxes(title='Altura')\n",
    "fig.update_xaxes(title='Medalhas')\n",
    "\n",
    "fig.update_layout(legend=dict(title='Desempenho'))\n",
    "\n",
    "fig.show()"
   ]
  },
  {
   "cell_type": "markdown",
   "id": "84951e7e",
   "metadata": {},
   "source": [
    "### Correlação entre Altura e Desempenho para os 5 Esportes Acima"
   ]
  },
  {
   "cell_type": "code",
   "execution_count": null,
   "id": "dda33468",
   "metadata": {},
   "outputs": [],
   "source": [
    "br_dummied_f = pd.get_dummies(br_f_5[['Height','Medal']])\n",
    "\n",
    "sns.heatmap(br_dummied_f[['Medal_Não-Medalhista','Medal_Medalhista','Height']]\n",
    "            .corr('spearman'), annot=True, cmap=\"PiYG\");"
   ]
  },
  {
   "cell_type": "markdown",
   "id": "18c07251",
   "metadata": {},
   "source": [
    "### MASCULINO"
   ]
  },
  {
   "cell_type": "code",
   "execution_count": null,
   "id": "8161fffb",
   "metadata": {},
   "outputs": [],
   "source": [
    "br_m = br_bin[br_bin['Sex'] == 'M']\n",
    "\n",
    "br_m.drop_duplicates(subset=['Year', 'Event'], keep='first').groupby(by=['Sport','Medal'],\n",
    "             as_index=False).count().sort_values(['Medal','Event'], \n",
    "                                                 ascending=False).drop(columns=['ID','Name','Sex','Age','Height','Weight',\n",
    "                         'Team','NOC','Games','Year','Season','City'])"
   ]
  },
  {
   "cell_type": "code",
   "execution_count": null,
   "id": "2aeb02de",
   "metadata": {
    "id": "2aeb02de",
    "outputId": "57d8f7eb-3c28-4a37-9fc1-560680c7ebe4"
   },
   "outputs": [],
   "source": [
    "br_m_5 = br_m[(br_m['Sport'] == 'Judo') |\n",
    "              (br_m['Sport'] == 'Sailing') |\n",
    "              (br_m['Sport'] == 'Athletics') |\n",
    "              (br_m['Sport'] == 'Swimming') |\n",
    "              (br_m['Sport'] == 'Volleyball')]\n",
    "\n",
    "br_m_5['Sport'].value_counts()"
   ]
  },
  {
   "cell_type": "markdown",
   "id": "rsusvxQYUP9Y",
   "metadata": {
    "id": "rsusvxQYUP9Y"
   },
   "source": [
    "Já para o conjunto de 5 esportes masculinhos uma possível correlação da altura com o desempenho começa a ficar mais evidente, pois tanto a mediana como a caixa da distribuição das alturas tem um posicionamento mais acima no gráfico quando se olham os vermelhos, os medalhistas. Como possível explicação temos o fato de que 4 dos esportes são individuais, e o único em grupo (volleyball) tem como benefício uma altura maior, tendo em vista a altura da rede e a necessidade da rotatividade na quadra. Quanto aos individuais, principalmente natação e atletismo, nota-se que a envergadura grande também pode ser um fator determimante na obtenção de medalhas."
   ]
  },
  {
   "cell_type": "code",
   "execution_count": null,
   "id": "130f4b81",
   "metadata": {
    "id": "130f4b81",
    "outputId": "7ed8b453-0fcc-42cf-fbb1-1499a6682da4",
    "scrolled": false
   },
   "outputs": [],
   "source": [
    "fig = px.box(x='Sport', y='Height', data_frame=br_m_5,\n",
    "             color='Medal', title='Desempenho x Altura (M)')\n",
    "\n",
    "fig.update_yaxes(title='Altura')\n",
    "fig.update_xaxes(title='Medalhas')\n",
    "\n",
    "fig.update_layout(legend=dict(title='Desempenho'))\n",
    "\n",
    "fig.show()"
   ]
  },
  {
   "cell_type": "markdown",
   "id": "0e51c251",
   "metadata": {},
   "source": [
    "### Correlação entre Altura e Desempenho para os 5 Esportes Acima"
   ]
  },
  {
   "cell_type": "code",
   "execution_count": null,
   "id": "3bd684ba",
   "metadata": {
    "scrolled": false
   },
   "outputs": [],
   "source": [
    "br_dummied_m = pd.get_dummies(br_m_5[['Height','Medal']])\n",
    "sns.heatmap(br_dummied_m[['Medal_Não-Medalhista','Medal_Medalhista','Height']].corr('spearman'), annot=True, cmap=\"PiYG\");"
   ]
  },
  {
   "cell_type": "markdown",
   "id": "dDVh8pBjXGmK",
   "metadata": {
    "id": "dDVh8pBjXGmK"
   },
   "source": [
    "CONCLUSÃO\n",
    "\n",
    "A altura parece ter uma leve correlação com o desempenho apenas nas categorias masculinas, nos 5 esportes analisados."
   ]
  },
  {
   "cell_type": "markdown",
   "id": "f8d0fab7",
   "metadata": {
    "id": "f8d0fab7"
   },
   "source": [
    "<font size=+3>**3. Vamos analisar agora as medalhas que nossos atletas trouxeram para casa.**</font>\n",
    "\n",
    "Crie uma visualização de sua preferência para mostrar, por esporte, a proporção de medalhas de ouro, prata e bronze que nosso país já consquistou.\n",
    "\n",
    "**Facilitador:** Se preferir, mostre as proporções apenas para os 6 esportes que tiveram mais medalhas.  \n",
    "\n",
    "*DICA:* Cuidado! Esportes em equipe dão medalhas a todos os jogadores, mas só contabilizam uma vez!"
   ]
  },
  {
   "cell_type": "code",
   "execution_count": 129,
   "id": "c2d664b8",
   "metadata": {},
   "outputs": [
    {
     "data": {
      "text/html": [
       "<div>\n",
       "<style scoped>\n",
       "    .dataframe tbody tr th:only-of-type {\n",
       "        vertical-align: middle;\n",
       "    }\n",
       "\n",
       "    .dataframe tbody tr th {\n",
       "        vertical-align: top;\n",
       "    }\n",
       "\n",
       "    .dataframe thead th {\n",
       "        text-align: right;\n",
       "    }\n",
       "</style>\n",
       "<table border=\"1\" class=\"dataframe\">\n",
       "  <thead>\n",
       "    <tr style=\"text-align: right;\">\n",
       "      <th></th>\n",
       "      <th>Sport</th>\n",
       "      <th>Medal</th>\n",
       "      <th>Event</th>\n",
       "    </tr>\n",
       "  </thead>\n",
       "  <tbody>\n",
       "    <tr>\n",
       "      <th>7</th>\n",
       "      <td>Judo</td>\n",
       "      <td>Medalhista</td>\n",
       "      <td>22</td>\n",
       "    </tr>\n",
       "    <tr>\n",
       "      <th>9</th>\n",
       "      <td>Sailing</td>\n",
       "      <td>Medalhista</td>\n",
       "      <td>18</td>\n",
       "    </tr>\n",
       "    <tr>\n",
       "      <th>0</th>\n",
       "      <td>Athletics</td>\n",
       "      <td>Medalhista</td>\n",
       "      <td>16</td>\n",
       "    </tr>\n",
       "    <tr>\n",
       "      <th>11</th>\n",
       "      <td>Swimming</td>\n",
       "      <td>Medalhista</td>\n",
       "      <td>14</td>\n",
       "    </tr>\n",
       "    <tr>\n",
       "      <th>13</th>\n",
       "      <td>Volleyball</td>\n",
       "      <td>Medalhista</td>\n",
       "      <td>10</td>\n",
       "    </tr>\n",
       "    <tr>\n",
       "      <th>5</th>\n",
       "      <td>Football</td>\n",
       "      <td>Medalhista</td>\n",
       "      <td>8</td>\n",
       "    </tr>\n",
       "    <tr>\n",
       "      <th>1</th>\n",
       "      <td>Basketball</td>\n",
       "      <td>Medalhista</td>\n",
       "      <td>5</td>\n",
       "    </tr>\n",
       "    <tr>\n",
       "      <th>2</th>\n",
       "      <td>Boxing</td>\n",
       "      <td>Medalhista</td>\n",
       "      <td>5</td>\n",
       "    </tr>\n",
       "    <tr>\n",
       "      <th>10</th>\n",
       "      <td>Shooting</td>\n",
       "      <td>Medalhista</td>\n",
       "      <td>4</td>\n",
       "    </tr>\n",
       "    <tr>\n",
       "      <th>3</th>\n",
       "      <td>Canoeing</td>\n",
       "      <td>Medalhista</td>\n",
       "      <td>3</td>\n",
       "    </tr>\n",
       "    <tr>\n",
       "      <th>4</th>\n",
       "      <td>Equestrianism</td>\n",
       "      <td>Medalhista</td>\n",
       "      <td>3</td>\n",
       "    </tr>\n",
       "    <tr>\n",
       "      <th>6</th>\n",
       "      <td>Gymnastics</td>\n",
       "      <td>Medalhista</td>\n",
       "      <td>3</td>\n",
       "    </tr>\n",
       "    <tr>\n",
       "      <th>12</th>\n",
       "      <td>Taekwondo</td>\n",
       "      <td>Medalhista</td>\n",
       "      <td>2</td>\n",
       "    </tr>\n",
       "    <tr>\n",
       "      <th>8</th>\n",
       "      <td>Modern Pentathlon</td>\n",
       "      <td>Medalhista</td>\n",
       "      <td>1</td>\n",
       "    </tr>\n",
       "  </tbody>\n",
       "</table>\n",
       "</div>"
      ],
      "text/plain": [
       "                Sport       Medal  Event\n",
       "7                Judo  Medalhista     22\n",
       "9             Sailing  Medalhista     18\n",
       "0           Athletics  Medalhista     16\n",
       "11           Swimming  Medalhista     14\n",
       "13         Volleyball  Medalhista     10\n",
       "5            Football  Medalhista      8\n",
       "1          Basketball  Medalhista      5\n",
       "2              Boxing  Medalhista      5\n",
       "10           Shooting  Medalhista      4\n",
       "3            Canoeing  Medalhista      3\n",
       "4       Equestrianism  Medalhista      3\n",
       "6          Gymnastics  Medalhista      3\n",
       "12          Taekwondo  Medalhista      2\n",
       "8   Modern Pentathlon  Medalhista      1"
      ]
     },
     "execution_count": 129,
     "metadata": {},
     "output_type": "execute_result"
    }
   ],
   "source": [
    "df_2 = pd.read_csv('athlete_events.csv')\n",
    "\n",
    "br_2 = df_2[df_2['Team'] == 'Brazil']\n",
    "\n",
    "br_bin_2 = br_2.copy()\n",
    "\n",
    "br_bin_2.replace({'Bronze': 'Medalhista',\n",
    "                'Silver': 'Medalhista',\n",
    "                'Gold': 'Medalhista'}, inplace=True)\n",
    "\n",
    "br_bin_2.sort_values('Year', inplace=True)\n",
    "\n",
    "br_bin_2.dropna(subset=['Medal'], inplace=True)\n",
    "\n",
    "br_bin_2.drop_duplicates(subset=['Year', 'Event'], keep='first', inplace=True)\n",
    "\n",
    "br_bin_2_group = br_bin_2.groupby(\n",
    "    by=['Sport','Medal'], as_index=False).count().sort_values(\n",
    "    ['Event'], ascending=False)\n",
    "\n",
    "br_bin_2_group.drop(\n",
    "    columns=['ID','Name','Sex','Age','Height','Weight','Team',\n",
    "             'NOC','Games','Year','Season','City'], inplace=True)\n",
    "\n",
    "br_mean_medal = br_2.sort_values('Year')\n",
    "br_mean_medal_1 = br_mean_medal.drop_duplicates(subset=['Year', 'Event'], keep='first')\n",
    "\n",
    "br_bin_2_group"
   ]
  },
  {
   "cell_type": "code",
   "execution_count": 104,
   "id": "0d6cf29b",
   "metadata": {
    "id": "0d6cf29b"
   },
   "outputs": [],
   "source": []
  },
  {
   "cell_type": "code",
   "execution_count": 130,
   "id": "92fab657",
   "metadata": {
    "id": "92fab657",
    "outputId": "0170d7fd-3cac-4765-9b08-38e247a72468"
   },
   "outputs": [
    {
     "data": {
      "text/html": [
       "<div>\n",
       "<style scoped>\n",
       "    .dataframe tbody tr th:only-of-type {\n",
       "        vertical-align: middle;\n",
       "    }\n",
       "\n",
       "    .dataframe tbody tr th {\n",
       "        vertical-align: top;\n",
       "    }\n",
       "\n",
       "    .dataframe thead th {\n",
       "        text-align: right;\n",
       "    }\n",
       "</style>\n",
       "<table border=\"1\" class=\"dataframe\">\n",
       "  <thead>\n",
       "    <tr style=\"text-align: right;\">\n",
       "      <th></th>\n",
       "      <th>ID</th>\n",
       "      <th>Name</th>\n",
       "      <th>Sex</th>\n",
       "      <th>Age</th>\n",
       "      <th>Height</th>\n",
       "      <th>Weight</th>\n",
       "      <th>Team</th>\n",
       "      <th>NOC</th>\n",
       "      <th>Games</th>\n",
       "      <th>Year</th>\n",
       "      <th>Season</th>\n",
       "      <th>City</th>\n",
       "      <th>Sport</th>\n",
       "      <th>Event</th>\n",
       "      <th>Medal</th>\n",
       "    </tr>\n",
       "  </thead>\n",
       "  <tbody>\n",
       "    <tr>\n",
       "      <th>121234</th>\n",
       "      <td>61291</td>\n",
       "      <td>Adolphe Christiano Klingelhoeffer</td>\n",
       "      <td>M</td>\n",
       "      <td>20.0</td>\n",
       "      <td>NaN</td>\n",
       "      <td>NaN</td>\n",
       "      <td>Brazil</td>\n",
       "      <td>BRA</td>\n",
       "      <td>1900 Summer</td>\n",
       "      <td>1900</td>\n",
       "      <td>Summer</td>\n",
       "      <td>Paris</td>\n",
       "      <td>Athletics</td>\n",
       "      <td>Athletics Men's 110 metres Hurdles</td>\n",
       "      <td>NaN</td>\n",
       "    </tr>\n",
       "    <tr>\n",
       "      <th>121232</th>\n",
       "      <td>61291</td>\n",
       "      <td>Adolphe Christiano Klingelhoeffer</td>\n",
       "      <td>M</td>\n",
       "      <td>20.0</td>\n",
       "      <td>NaN</td>\n",
       "      <td>NaN</td>\n",
       "      <td>Brazil</td>\n",
       "      <td>BRA</td>\n",
       "      <td>1900 Summer</td>\n",
       "      <td>1900</td>\n",
       "      <td>Summer</td>\n",
       "      <td>Paris</td>\n",
       "      <td>Athletics</td>\n",
       "      <td>Athletics Men's 60 metres</td>\n",
       "      <td>NaN</td>\n",
       "    </tr>\n",
       "    <tr>\n",
       "      <th>121233</th>\n",
       "      <td>61291</td>\n",
       "      <td>Adolphe Christiano Klingelhoeffer</td>\n",
       "      <td>M</td>\n",
       "      <td>20.0</td>\n",
       "      <td>NaN</td>\n",
       "      <td>NaN</td>\n",
       "      <td>Brazil</td>\n",
       "      <td>BRA</td>\n",
       "      <td>1900 Summer</td>\n",
       "      <td>1900</td>\n",
       "      <td>Summer</td>\n",
       "      <td>Paris</td>\n",
       "      <td>Athletics</td>\n",
       "      <td>Athletics Men's 200 metres</td>\n",
       "      <td>NaN</td>\n",
       "    </tr>\n",
       "    <tr>\n",
       "      <th>6045</th>\n",
       "      <td>3399</td>\n",
       "      <td>Orlando Amndola</td>\n",
       "      <td>M</td>\n",
       "      <td>NaN</td>\n",
       "      <td>NaN</td>\n",
       "      <td>NaN</td>\n",
       "      <td>Brazil</td>\n",
       "      <td>BRA</td>\n",
       "      <td>1920 Summer</td>\n",
       "      <td>1920</td>\n",
       "      <td>Summer</td>\n",
       "      <td>Antwerpen</td>\n",
       "      <td>Swimming</td>\n",
       "      <td>Swimming Men's 100 metres Freestyle</td>\n",
       "      <td>NaN</td>\n",
       "    </tr>\n",
       "    <tr>\n",
       "      <th>267759</th>\n",
       "      <td>133948</td>\n",
       "      <td>Octvio Zani</td>\n",
       "      <td>M</td>\n",
       "      <td>22.0</td>\n",
       "      <td>NaN</td>\n",
       "      <td>NaN</td>\n",
       "      <td>Brazil</td>\n",
       "      <td>BRA</td>\n",
       "      <td>1924 Summer</td>\n",
       "      <td>1924</td>\n",
       "      <td>Summer</td>\n",
       "      <td>Paris</td>\n",
       "      <td>Athletics</td>\n",
       "      <td>Athletics Men's Hammer Throw</td>\n",
       "      <td>NaN</td>\n",
       "    </tr>\n",
       "    <tr>\n",
       "      <th>...</th>\n",
       "      <td>...</td>\n",
       "      <td>...</td>\n",
       "      <td>...</td>\n",
       "      <td>...</td>\n",
       "      <td>...</td>\n",
       "      <td>...</td>\n",
       "      <td>...</td>\n",
       "      <td>...</td>\n",
       "      <td>...</td>\n",
       "      <td>...</td>\n",
       "      <td>...</td>\n",
       "      <td>...</td>\n",
       "      <td>...</td>\n",
       "      <td>...</td>\n",
       "      <td>...</td>\n",
       "    </tr>\n",
       "    <tr>\n",
       "      <th>51584</th>\n",
       "      <td>26512</td>\n",
       "      <td>Jlio Csar Miranda de Oliveira</td>\n",
       "      <td>M</td>\n",
       "      <td>30.0</td>\n",
       "      <td>185.0</td>\n",
       "      <td>95.0</td>\n",
       "      <td>Brazil</td>\n",
       "      <td>BRA</td>\n",
       "      <td>2016 Summer</td>\n",
       "      <td>2016</td>\n",
       "      <td>Summer</td>\n",
       "      <td>Rio de Janeiro</td>\n",
       "      <td>Athletics</td>\n",
       "      <td>Athletics Men's Javelin Throw</td>\n",
       "      <td>NaN</td>\n",
       "    </tr>\n",
       "    <tr>\n",
       "      <th>219943</th>\n",
       "      <td>110488</td>\n",
       "      <td>Altobeli Santos da Silva</td>\n",
       "      <td>M</td>\n",
       "      <td>25.0</td>\n",
       "      <td>181.0</td>\n",
       "      <td>60.0</td>\n",
       "      <td>Brazil</td>\n",
       "      <td>BRA</td>\n",
       "      <td>2016 Summer</td>\n",
       "      <td>2016</td>\n",
       "      <td>Summer</td>\n",
       "      <td>Rio de Janeiro</td>\n",
       "      <td>Athletics</td>\n",
       "      <td>Athletics Men's 3,000 metres Steeplechase</td>\n",
       "      <td>NaN</td>\n",
       "    </tr>\n",
       "    <tr>\n",
       "      <th>219942</th>\n",
       "      <td>110487</td>\n",
       "      <td>Alex William Pombo Silva</td>\n",
       "      <td>M</td>\n",
       "      <td>28.0</td>\n",
       "      <td>174.0</td>\n",
       "      <td>73.0</td>\n",
       "      <td>Brazil</td>\n",
       "      <td>BRA</td>\n",
       "      <td>2016 Summer</td>\n",
       "      <td>2016</td>\n",
       "      <td>Summer</td>\n",
       "      <td>Rio de Janeiro</td>\n",
       "      <td>Judo</td>\n",
       "      <td>Judo Men's Lightweight</td>\n",
       "      <td>NaN</td>\n",
       "    </tr>\n",
       "    <tr>\n",
       "      <th>5714</th>\n",
       "      <td>3221</td>\n",
       "      <td>Higor Silva Alves</td>\n",
       "      <td>M</td>\n",
       "      <td>22.0</td>\n",
       "      <td>183.0</td>\n",
       "      <td>64.0</td>\n",
       "      <td>Brazil</td>\n",
       "      <td>BRA</td>\n",
       "      <td>2016 Summer</td>\n",
       "      <td>2016</td>\n",
       "      <td>Summer</td>\n",
       "      <td>Rio de Janeiro</td>\n",
       "      <td>Athletics</td>\n",
       "      <td>Athletics Men's Long Jump</td>\n",
       "      <td>NaN</td>\n",
       "    </tr>\n",
       "    <tr>\n",
       "      <th>5487</th>\n",
       "      <td>3097</td>\n",
       "      <td>Maria Suelen Altheman</td>\n",
       "      <td>F</td>\n",
       "      <td>27.0</td>\n",
       "      <td>175.0</td>\n",
       "      <td>110.0</td>\n",
       "      <td>Brazil</td>\n",
       "      <td>BRA</td>\n",
       "      <td>2016 Summer</td>\n",
       "      <td>2016</td>\n",
       "      <td>Summer</td>\n",
       "      <td>Rio de Janeiro</td>\n",
       "      <td>Judo</td>\n",
       "      <td>Judo Women's Heavyweight</td>\n",
       "      <td>NaN</td>\n",
       "    </tr>\n",
       "  </tbody>\n",
       "</table>\n",
       "<p>834 rows × 15 columns</p>\n",
       "</div>"
      ],
      "text/plain": [
       "            ID                               Name Sex   Age  Height  Weight  \\\n",
       "121234   61291  Adolphe Christiano Klingelhoeffer   M  20.0     NaN     NaN   \n",
       "121232   61291  Adolphe Christiano Klingelhoeffer   M  20.0     NaN     NaN   \n",
       "121233   61291  Adolphe Christiano Klingelhoeffer   M  20.0     NaN     NaN   \n",
       "6045      3399                    Orlando Amndola   M   NaN     NaN     NaN   \n",
       "267759  133948                        Octvio Zani   M  22.0     NaN     NaN   \n",
       "...        ...                                ...  ..   ...     ...     ...   \n",
       "51584    26512      Jlio Csar Miranda de Oliveira   M  30.0   185.0    95.0   \n",
       "219943  110488           Altobeli Santos da Silva   M  25.0   181.0    60.0   \n",
       "219942  110487           Alex William Pombo Silva   M  28.0   174.0    73.0   \n",
       "5714      3221                  Higor Silva Alves   M  22.0   183.0    64.0   \n",
       "5487      3097              Maria Suelen Altheman   F  27.0   175.0   110.0   \n",
       "\n",
       "          Team  NOC        Games  Year  Season            City      Sport  \\\n",
       "121234  Brazil  BRA  1900 Summer  1900  Summer           Paris  Athletics   \n",
       "121232  Brazil  BRA  1900 Summer  1900  Summer           Paris  Athletics   \n",
       "121233  Brazil  BRA  1900 Summer  1900  Summer           Paris  Athletics   \n",
       "6045    Brazil  BRA  1920 Summer  1920  Summer       Antwerpen   Swimming   \n",
       "267759  Brazil  BRA  1924 Summer  1924  Summer           Paris  Athletics   \n",
       "...        ...  ...          ...   ...     ...             ...        ...   \n",
       "51584   Brazil  BRA  2016 Summer  2016  Summer  Rio de Janeiro  Athletics   \n",
       "219943  Brazil  BRA  2016 Summer  2016  Summer  Rio de Janeiro  Athletics   \n",
       "219942  Brazil  BRA  2016 Summer  2016  Summer  Rio de Janeiro       Judo   \n",
       "5714    Brazil  BRA  2016 Summer  2016  Summer  Rio de Janeiro  Athletics   \n",
       "5487    Brazil  BRA  2016 Summer  2016  Summer  Rio de Janeiro       Judo   \n",
       "\n",
       "                                            Event Medal  \n",
       "121234         Athletics Men's 110 metres Hurdles   NaN  \n",
       "121232                  Athletics Men's 60 metres   NaN  \n",
       "121233                 Athletics Men's 200 metres   NaN  \n",
       "6045          Swimming Men's 100 metres Freestyle   NaN  \n",
       "267759               Athletics Men's Hammer Throw   NaN  \n",
       "...                                           ...   ...  \n",
       "51584               Athletics Men's Javelin Throw   NaN  \n",
       "219943  Athletics Men's 3,000 metres Steeplechase   NaN  \n",
       "219942                     Judo Men's Lightweight   NaN  \n",
       "5714                    Athletics Men's Long Jump   NaN  \n",
       "5487                     Judo Women's Heavyweight   NaN  \n",
       "\n",
       "[834 rows x 15 columns]"
      ]
     },
     "execution_count": 130,
     "metadata": {},
     "output_type": "execute_result"
    }
   ],
   "source": [
    "br_6 = br_mean_medal_1[(br_mean_medal_1['Sport'] == 'Judo') |\n",
    "                       (br_mean_medal_1['Sport'] == 'Sailing') |\n",
    "                       (br_mean_medal_1['Sport'] == 'Athletics') |\n",
    "                       (br_mean_medal_1['Sport'] == 'Swimming') |\n",
    "                       (br_mean_medal_1['Sport'] == 'Volleyball') |\n",
    "                       (br_mean_medal_1['Sport'] == 'Football')]\n",
    "br_6"
   ]
  },
  {
   "cell_type": "code",
   "execution_count": 105,
   "id": "9018aab8",
   "metadata": {
    "id": "9018aab8"
   },
   "outputs": [],
   "source": [
    "\n"
   ]
  },
  {
   "cell_type": "code",
   "execution_count": 131,
   "id": "f2dbac6b",
   "metadata": {
    "id": "f2dbac6b"
   },
   "outputs": [],
   "source": [
    "br_6_group = br_6.groupby(by = ['Sport','Medal'], as_index=False).count()"
   ]
  },
  {
   "cell_type": "code",
   "execution_count": 61,
   "id": "4d5a47a5",
   "metadata": {},
   "outputs": [
    {
     "data": {
      "text/html": [
       "<div>\n",
       "<style scoped>\n",
       "    .dataframe tbody tr th:only-of-type {\n",
       "        vertical-align: middle;\n",
       "    }\n",
       "\n",
       "    .dataframe tbody tr th {\n",
       "        vertical-align: top;\n",
       "    }\n",
       "\n",
       "    .dataframe thead th {\n",
       "        text-align: right;\n",
       "    }\n",
       "</style>\n",
       "<table border=\"1\" class=\"dataframe\">\n",
       "  <thead>\n",
       "    <tr style=\"text-align: right;\">\n",
       "      <th></th>\n",
       "      <th>ID</th>\n",
       "      <th>Name</th>\n",
       "      <th>Sex</th>\n",
       "      <th>Age</th>\n",
       "      <th>Height</th>\n",
       "      <th>Weight</th>\n",
       "      <th>Team</th>\n",
       "      <th>NOC</th>\n",
       "      <th>Games</th>\n",
       "      <th>Year</th>\n",
       "      <th>Season</th>\n",
       "      <th>City</th>\n",
       "      <th>Sport</th>\n",
       "      <th>Event</th>\n",
       "      <th>Medal</th>\n",
       "    </tr>\n",
       "  </thead>\n",
       "  <tbody>\n",
       "    <tr>\n",
       "      <th>1651</th>\n",
       "      <td>918</td>\n",
       "      <td>Ademir Roque Kaefer</td>\n",
       "      <td>M</td>\n",
       "      <td>24.0</td>\n",
       "      <td>179.0</td>\n",
       "      <td>74.0</td>\n",
       "      <td>Brazil</td>\n",
       "      <td>BRA</td>\n",
       "      <td>1984 Summer</td>\n",
       "      <td>1984</td>\n",
       "      <td>Summer</td>\n",
       "      <td>Los Angeles</td>\n",
       "      <td>Football</td>\n",
       "      <td>Football Men's Football</td>\n",
       "      <td>Silver</td>\n",
       "    </tr>\n",
       "    <tr>\n",
       "      <th>64266</th>\n",
       "      <td>32920</td>\n",
       "      <td>rika Cristiano dos Santos</td>\n",
       "      <td>F</td>\n",
       "      <td>20.0</td>\n",
       "      <td>172.0</td>\n",
       "      <td>55.0</td>\n",
       "      <td>Brazil</td>\n",
       "      <td>BRA</td>\n",
       "      <td>2008 Summer</td>\n",
       "      <td>2008</td>\n",
       "      <td>Summer</td>\n",
       "      <td>Beijing</td>\n",
       "      <td>Football</td>\n",
       "      <td>Football Women's Football</td>\n",
       "      <td>Silver</td>\n",
       "    </tr>\n",
       "    <tr>\n",
       "      <th>192980</th>\n",
       "      <td>96895</td>\n",
       "      <td>Delma \"Pretinha\" Gonalves</td>\n",
       "      <td>F</td>\n",
       "      <td>29.0</td>\n",
       "      <td>157.0</td>\n",
       "      <td>53.0</td>\n",
       "      <td>Brazil</td>\n",
       "      <td>BRA</td>\n",
       "      <td>2004 Summer</td>\n",
       "      <td>2004</td>\n",
       "      <td>Summer</td>\n",
       "      <td>Athina</td>\n",
       "      <td>Football</td>\n",
       "      <td>Football Women's Football</td>\n",
       "      <td>Silver</td>\n",
       "    </tr>\n",
       "    <tr>\n",
       "      <th>192634</th>\n",
       "      <td>96718</td>\n",
       "      <td>Ricardo Prado</td>\n",
       "      <td>M</td>\n",
       "      <td>19.0</td>\n",
       "      <td>158.0</td>\n",
       "      <td>56.0</td>\n",
       "      <td>Brazil</td>\n",
       "      <td>BRA</td>\n",
       "      <td>1984 Summer</td>\n",
       "      <td>1984</td>\n",
       "      <td>Summer</td>\n",
       "      <td>Los Angeles</td>\n",
       "      <td>Swimming</td>\n",
       "      <td>Swimming Men's 400 metres Individual Medley</td>\n",
       "      <td>Silver</td>\n",
       "    </tr>\n",
       "    <tr>\n",
       "      <th>57108</th>\n",
       "      <td>29255</td>\n",
       "      <td>Domingos \"Domingos Maracan\" Lampariello Neto</td>\n",
       "      <td>M</td>\n",
       "      <td>23.0</td>\n",
       "      <td>198.0</td>\n",
       "      <td>92.0</td>\n",
       "      <td>Brazil</td>\n",
       "      <td>BRA</td>\n",
       "      <td>1984 Summer</td>\n",
       "      <td>1984</td>\n",
       "      <td>Summer</td>\n",
       "      <td>Los Angeles</td>\n",
       "      <td>Volleyball</td>\n",
       "      <td>Volleyball Men's Volleyball</td>\n",
       "      <td>Silver</td>\n",
       "    </tr>\n",
       "    <tr>\n",
       "      <th>...</th>\n",
       "      <td>...</td>\n",
       "      <td>...</td>\n",
       "      <td>...</td>\n",
       "      <td>...</td>\n",
       "      <td>...</td>\n",
       "      <td>...</td>\n",
       "      <td>...</td>\n",
       "      <td>...</td>\n",
       "      <td>...</td>\n",
       "      <td>...</td>\n",
       "      <td>...</td>\n",
       "      <td>...</td>\n",
       "      <td>...</td>\n",
       "      <td>...</td>\n",
       "      <td>...</td>\n",
       "    </tr>\n",
       "    <tr>\n",
       "      <th>268652</th>\n",
       "      <td>134400</td>\n",
       "      <td>Maria Jos \"Zz\" Bertolotti</td>\n",
       "      <td>F</td>\n",
       "      <td>26.0</td>\n",
       "      <td>190.0</td>\n",
       "      <td>NaN</td>\n",
       "      <td>Brazil</td>\n",
       "      <td>BRA</td>\n",
       "      <td>1992 Summer</td>\n",
       "      <td>1992</td>\n",
       "      <td>Summer</td>\n",
       "      <td>Barcelona</td>\n",
       "      <td>Basketball</td>\n",
       "      <td>Basketball Women's Basketball</td>\n",
       "      <td>NaN</td>\n",
       "    </tr>\n",
       "    <tr>\n",
       "      <th>269745</th>\n",
       "      <td>134976</td>\n",
       "      <td>Sieglinda Lenk Zigler</td>\n",
       "      <td>F</td>\n",
       "      <td>17.0</td>\n",
       "      <td>NaN</td>\n",
       "      <td>NaN</td>\n",
       "      <td>Brazil</td>\n",
       "      <td>BRA</td>\n",
       "      <td>1936 Summer</td>\n",
       "      <td>1936</td>\n",
       "      <td>Summer</td>\n",
       "      <td>Berlin</td>\n",
       "      <td>Swimming</td>\n",
       "      <td>Swimming Women's 100 metres Backstroke</td>\n",
       "      <td>NaN</td>\n",
       "    </tr>\n",
       "    <tr>\n",
       "      <th>269899</th>\n",
       "      <td>135037</td>\n",
       "      <td>Moacir Zimmermann</td>\n",
       "      <td>M</td>\n",
       "      <td>32.0</td>\n",
       "      <td>184.0</td>\n",
       "      <td>70.0</td>\n",
       "      <td>Brazil</td>\n",
       "      <td>BRA</td>\n",
       "      <td>2016 Summer</td>\n",
       "      <td>2016</td>\n",
       "      <td>Summer</td>\n",
       "      <td>Rio de Janeiro</td>\n",
       "      <td>Athletics</td>\n",
       "      <td>Athletics Men's 20 kilometres Walk</td>\n",
       "      <td>NaN</td>\n",
       "    </tr>\n",
       "    <tr>\n",
       "      <th>270478</th>\n",
       "      <td>135289</td>\n",
       "      <td>Zzimo Alves Calazans</td>\n",
       "      <td>M</td>\n",
       "      <td>20.0</td>\n",
       "      <td>NaN</td>\n",
       "      <td>NaN</td>\n",
       "      <td>Brazil</td>\n",
       "      <td>BRA</td>\n",
       "      <td>1952 Summer</td>\n",
       "      <td>1952</td>\n",
       "      <td>Summer</td>\n",
       "      <td>Helsinki</td>\n",
       "      <td>Football</td>\n",
       "      <td>Football Men's Football</td>\n",
       "      <td>NaN</td>\n",
       "    </tr>\n",
       "    <tr>\n",
       "      <th>270789</th>\n",
       "      <td>135423</td>\n",
       "      <td>Ral Benedito Zumbano</td>\n",
       "      <td>M</td>\n",
       "      <td>22.0</td>\n",
       "      <td>NaN</td>\n",
       "      <td>NaN</td>\n",
       "      <td>Brazil</td>\n",
       "      <td>BRA</td>\n",
       "      <td>1948 Summer</td>\n",
       "      <td>1948</td>\n",
       "      <td>Summer</td>\n",
       "      <td>London</td>\n",
       "      <td>Boxing</td>\n",
       "      <td>Boxing Men's Lightweight</td>\n",
       "      <td>NaN</td>\n",
       "    </tr>\n",
       "  </tbody>\n",
       "</table>\n",
       "<p>3772 rows × 15 columns</p>\n",
       "</div>"
      ],
      "text/plain": [
       "            ID                                          Name Sex   Age  \\\n",
       "1651       918                           Ademir Roque Kaefer   M  24.0   \n",
       "64266    32920                     rika Cristiano dos Santos   F  20.0   \n",
       "192980   96895                     Delma \"Pretinha\" Gonalves   F  29.0   \n",
       "192634   96718                                 Ricardo Prado   M  19.0   \n",
       "57108    29255  Domingos \"Domingos Maracan\" Lampariello Neto   M  23.0   \n",
       "...        ...                                           ...  ..   ...   \n",
       "268652  134400                     Maria Jos \"Zz\" Bertolotti   F  26.0   \n",
       "269745  134976                         Sieglinda Lenk Zigler   F  17.0   \n",
       "269899  135037                             Moacir Zimmermann   M  32.0   \n",
       "270478  135289                          Zzimo Alves Calazans   M  20.0   \n",
       "270789  135423                          Ral Benedito Zumbano   M  22.0   \n",
       "\n",
       "        Height  Weight    Team  NOC        Games  Year  Season  \\\n",
       "1651     179.0    74.0  Brazil  BRA  1984 Summer  1984  Summer   \n",
       "64266    172.0    55.0  Brazil  BRA  2008 Summer  2008  Summer   \n",
       "192980   157.0    53.0  Brazil  BRA  2004 Summer  2004  Summer   \n",
       "192634   158.0    56.0  Brazil  BRA  1984 Summer  1984  Summer   \n",
       "57108    198.0    92.0  Brazil  BRA  1984 Summer  1984  Summer   \n",
       "...        ...     ...     ...  ...          ...   ...     ...   \n",
       "268652   190.0     NaN  Brazil  BRA  1992 Summer  1992  Summer   \n",
       "269745     NaN     NaN  Brazil  BRA  1936 Summer  1936  Summer   \n",
       "269899   184.0    70.0  Brazil  BRA  2016 Summer  2016  Summer   \n",
       "270478     NaN     NaN  Brazil  BRA  1952 Summer  1952  Summer   \n",
       "270789     NaN     NaN  Brazil  BRA  1948 Summer  1948  Summer   \n",
       "\n",
       "                  City       Sport  \\\n",
       "1651       Los Angeles    Football   \n",
       "64266          Beijing    Football   \n",
       "192980          Athina    Football   \n",
       "192634     Los Angeles    Swimming   \n",
       "57108      Los Angeles  Volleyball   \n",
       "...                ...         ...   \n",
       "268652       Barcelona  Basketball   \n",
       "269745          Berlin    Swimming   \n",
       "269899  Rio de Janeiro   Athletics   \n",
       "270478        Helsinki    Football   \n",
       "270789          London      Boxing   \n",
       "\n",
       "                                              Event   Medal  \n",
       "1651                        Football Men's Football  Silver  \n",
       "64266                     Football Women's Football  Silver  \n",
       "192980                    Football Women's Football  Silver  \n",
       "192634  Swimming Men's 400 metres Individual Medley  Silver  \n",
       "57108                   Volleyball Men's Volleyball  Silver  \n",
       "...                                             ...     ...  \n",
       "268652                Basketball Women's Basketball     NaN  \n",
       "269745       Swimming Women's 100 metres Backstroke     NaN  \n",
       "269899           Athletics Men's 20 kilometres Walk     NaN  \n",
       "270478                      Football Men's Football     NaN  \n",
       "270789                     Boxing Men's Lightweight     NaN  \n",
       "\n",
       "[3772 rows x 15 columns]"
      ]
     },
     "execution_count": 61,
     "metadata": {},
     "output_type": "execute_result"
    }
   ],
   "source": [
    "br_bin_2.sort_values('Medal', ascending=False)"
   ]
  },
  {
   "cell_type": "code",
   "execution_count": 132,
   "id": "d753c68f",
   "metadata": {
    "id": "d753c68f",
    "outputId": "04f2690e-e6a0-4058-e927-6bdeb7d19907"
   },
   "outputs": [
    {
     "data": {
      "text/html": [
       "<div>\n",
       "<style scoped>\n",
       "    .dataframe tbody tr th:only-of-type {\n",
       "        vertical-align: middle;\n",
       "    }\n",
       "\n",
       "    .dataframe tbody tr th {\n",
       "        vertical-align: top;\n",
       "    }\n",
       "\n",
       "    .dataframe thead th {\n",
       "        text-align: right;\n",
       "    }\n",
       "</style>\n",
       "<table border=\"1\" class=\"dataframe\">\n",
       "  <thead>\n",
       "    <tr style=\"text-align: right;\">\n",
       "      <th></th>\n",
       "      <th>Sport</th>\n",
       "      <th>Medal</th>\n",
       "      <th>ID</th>\n",
       "      <th>Name</th>\n",
       "      <th>Sex</th>\n",
       "      <th>Age</th>\n",
       "      <th>Height</th>\n",
       "      <th>Weight</th>\n",
       "      <th>Team</th>\n",
       "      <th>NOC</th>\n",
       "      <th>Games</th>\n",
       "      <th>Year</th>\n",
       "      <th>Season</th>\n",
       "      <th>City</th>\n",
       "      <th>Event</th>\n",
       "    </tr>\n",
       "  </thead>\n",
       "  <tbody>\n",
       "    <tr>\n",
       "      <th>0</th>\n",
       "      <td>Athletics</td>\n",
       "      <td>Bronze</td>\n",
       "      <td>6</td>\n",
       "      <td>6</td>\n",
       "      <td>6</td>\n",
       "      <td>6</td>\n",
       "      <td>6</td>\n",
       "      <td>6</td>\n",
       "      <td>6</td>\n",
       "      <td>6</td>\n",
       "      <td>6</td>\n",
       "      <td>6</td>\n",
       "      <td>6</td>\n",
       "      <td>6</td>\n",
       "      <td>6</td>\n",
       "    </tr>\n",
       "    <tr>\n",
       "      <th>1</th>\n",
       "      <td>Athletics</td>\n",
       "      <td>Gold</td>\n",
       "      <td>4</td>\n",
       "      <td>4</td>\n",
       "      <td>4</td>\n",
       "      <td>4</td>\n",
       "      <td>4</td>\n",
       "      <td>4</td>\n",
       "      <td>4</td>\n",
       "      <td>4</td>\n",
       "      <td>4</td>\n",
       "      <td>4</td>\n",
       "      <td>4</td>\n",
       "      <td>4</td>\n",
       "      <td>4</td>\n",
       "    </tr>\n",
       "    <tr>\n",
       "      <th>2</th>\n",
       "      <td>Athletics</td>\n",
       "      <td>Silver</td>\n",
       "      <td>2</td>\n",
       "      <td>2</td>\n",
       "      <td>2</td>\n",
       "      <td>2</td>\n",
       "      <td>2</td>\n",
       "      <td>2</td>\n",
       "      <td>2</td>\n",
       "      <td>2</td>\n",
       "      <td>2</td>\n",
       "      <td>2</td>\n",
       "      <td>2</td>\n",
       "      <td>2</td>\n",
       "      <td>2</td>\n",
       "    </tr>\n",
       "    <tr>\n",
       "      <th>3</th>\n",
       "      <td>Football</td>\n",
       "      <td>Bronze</td>\n",
       "      <td>2</td>\n",
       "      <td>2</td>\n",
       "      <td>2</td>\n",
       "      <td>2</td>\n",
       "      <td>2</td>\n",
       "      <td>2</td>\n",
       "      <td>2</td>\n",
       "      <td>2</td>\n",
       "      <td>2</td>\n",
       "      <td>2</td>\n",
       "      <td>2</td>\n",
       "      <td>2</td>\n",
       "      <td>2</td>\n",
       "    </tr>\n",
       "    <tr>\n",
       "      <th>4</th>\n",
       "      <td>Football</td>\n",
       "      <td>Gold</td>\n",
       "      <td>1</td>\n",
       "      <td>1</td>\n",
       "      <td>1</td>\n",
       "      <td>1</td>\n",
       "      <td>1</td>\n",
       "      <td>1</td>\n",
       "      <td>1</td>\n",
       "      <td>1</td>\n",
       "      <td>1</td>\n",
       "      <td>1</td>\n",
       "      <td>1</td>\n",
       "      <td>1</td>\n",
       "      <td>1</td>\n",
       "    </tr>\n",
       "    <tr>\n",
       "      <th>5</th>\n",
       "      <td>Football</td>\n",
       "      <td>Silver</td>\n",
       "      <td>5</td>\n",
       "      <td>5</td>\n",
       "      <td>5</td>\n",
       "      <td>5</td>\n",
       "      <td>5</td>\n",
       "      <td>5</td>\n",
       "      <td>5</td>\n",
       "      <td>5</td>\n",
       "      <td>5</td>\n",
       "      <td>5</td>\n",
       "      <td>5</td>\n",
       "      <td>5</td>\n",
       "      <td>5</td>\n",
       "    </tr>\n",
       "    <tr>\n",
       "      <th>6</th>\n",
       "      <td>Judo</td>\n",
       "      <td>Bronze</td>\n",
       "      <td>15</td>\n",
       "      <td>15</td>\n",
       "      <td>15</td>\n",
       "      <td>15</td>\n",
       "      <td>15</td>\n",
       "      <td>15</td>\n",
       "      <td>15</td>\n",
       "      <td>15</td>\n",
       "      <td>15</td>\n",
       "      <td>15</td>\n",
       "      <td>15</td>\n",
       "      <td>15</td>\n",
       "      <td>15</td>\n",
       "    </tr>\n",
       "    <tr>\n",
       "      <th>7</th>\n",
       "      <td>Judo</td>\n",
       "      <td>Gold</td>\n",
       "      <td>4</td>\n",
       "      <td>4</td>\n",
       "      <td>4</td>\n",
       "      <td>4</td>\n",
       "      <td>3</td>\n",
       "      <td>3</td>\n",
       "      <td>4</td>\n",
       "      <td>4</td>\n",
       "      <td>4</td>\n",
       "      <td>4</td>\n",
       "      <td>4</td>\n",
       "      <td>4</td>\n",
       "      <td>4</td>\n",
       "    </tr>\n",
       "    <tr>\n",
       "      <th>8</th>\n",
       "      <td>Judo</td>\n",
       "      <td>Silver</td>\n",
       "      <td>3</td>\n",
       "      <td>3</td>\n",
       "      <td>3</td>\n",
       "      <td>3</td>\n",
       "      <td>3</td>\n",
       "      <td>3</td>\n",
       "      <td>3</td>\n",
       "      <td>3</td>\n",
       "      <td>3</td>\n",
       "      <td>3</td>\n",
       "      <td>3</td>\n",
       "      <td>3</td>\n",
       "      <td>3</td>\n",
       "    </tr>\n",
       "    <tr>\n",
       "      <th>9</th>\n",
       "      <td>Sailing</td>\n",
       "      <td>Bronze</td>\n",
       "      <td>8</td>\n",
       "      <td>8</td>\n",
       "      <td>8</td>\n",
       "      <td>8</td>\n",
       "      <td>8</td>\n",
       "      <td>8</td>\n",
       "      <td>8</td>\n",
       "      <td>8</td>\n",
       "      <td>8</td>\n",
       "      <td>8</td>\n",
       "      <td>8</td>\n",
       "      <td>8</td>\n",
       "      <td>8</td>\n",
       "    </tr>\n",
       "    <tr>\n",
       "      <th>10</th>\n",
       "      <td>Sailing</td>\n",
       "      <td>Gold</td>\n",
       "      <td>7</td>\n",
       "      <td>7</td>\n",
       "      <td>7</td>\n",
       "      <td>7</td>\n",
       "      <td>7</td>\n",
       "      <td>7</td>\n",
       "      <td>7</td>\n",
       "      <td>7</td>\n",
       "      <td>7</td>\n",
       "      <td>7</td>\n",
       "      <td>7</td>\n",
       "      <td>7</td>\n",
       "      <td>7</td>\n",
       "    </tr>\n",
       "    <tr>\n",
       "      <th>11</th>\n",
       "      <td>Sailing</td>\n",
       "      <td>Silver</td>\n",
       "      <td>3</td>\n",
       "      <td>3</td>\n",
       "      <td>3</td>\n",
       "      <td>3</td>\n",
       "      <td>3</td>\n",
       "      <td>3</td>\n",
       "      <td>3</td>\n",
       "      <td>3</td>\n",
       "      <td>3</td>\n",
       "      <td>3</td>\n",
       "      <td>3</td>\n",
       "      <td>3</td>\n",
       "      <td>3</td>\n",
       "    </tr>\n",
       "    <tr>\n",
       "      <th>12</th>\n",
       "      <td>Swimming</td>\n",
       "      <td>Bronze</td>\n",
       "      <td>6</td>\n",
       "      <td>6</td>\n",
       "      <td>6</td>\n",
       "      <td>6</td>\n",
       "      <td>6</td>\n",
       "      <td>5</td>\n",
       "      <td>6</td>\n",
       "      <td>6</td>\n",
       "      <td>6</td>\n",
       "      <td>6</td>\n",
       "      <td>6</td>\n",
       "      <td>6</td>\n",
       "      <td>6</td>\n",
       "    </tr>\n",
       "    <tr>\n",
       "      <th>13</th>\n",
       "      <td>Swimming</td>\n",
       "      <td>Silver</td>\n",
       "      <td>4</td>\n",
       "      <td>4</td>\n",
       "      <td>4</td>\n",
       "      <td>4</td>\n",
       "      <td>4</td>\n",
       "      <td>4</td>\n",
       "      <td>4</td>\n",
       "      <td>4</td>\n",
       "      <td>4</td>\n",
       "      <td>4</td>\n",
       "      <td>4</td>\n",
       "      <td>4</td>\n",
       "      <td>4</td>\n",
       "    </tr>\n",
       "    <tr>\n",
       "      <th>14</th>\n",
       "      <td>Volleyball</td>\n",
       "      <td>Bronze</td>\n",
       "      <td>2</td>\n",
       "      <td>2</td>\n",
       "      <td>2</td>\n",
       "      <td>2</td>\n",
       "      <td>2</td>\n",
       "      <td>2</td>\n",
       "      <td>2</td>\n",
       "      <td>2</td>\n",
       "      <td>2</td>\n",
       "      <td>2</td>\n",
       "      <td>2</td>\n",
       "      <td>2</td>\n",
       "      <td>2</td>\n",
       "    </tr>\n",
       "    <tr>\n",
       "      <th>15</th>\n",
       "      <td>Volleyball</td>\n",
       "      <td>Gold</td>\n",
       "      <td>5</td>\n",
       "      <td>5</td>\n",
       "      <td>5</td>\n",
       "      <td>5</td>\n",
       "      <td>5</td>\n",
       "      <td>5</td>\n",
       "      <td>5</td>\n",
       "      <td>5</td>\n",
       "      <td>5</td>\n",
       "      <td>5</td>\n",
       "      <td>5</td>\n",
       "      <td>5</td>\n",
       "      <td>5</td>\n",
       "    </tr>\n",
       "    <tr>\n",
       "      <th>16</th>\n",
       "      <td>Volleyball</td>\n",
       "      <td>Silver</td>\n",
       "      <td>3</td>\n",
       "      <td>3</td>\n",
       "      <td>3</td>\n",
       "      <td>3</td>\n",
       "      <td>3</td>\n",
       "      <td>3</td>\n",
       "      <td>3</td>\n",
       "      <td>3</td>\n",
       "      <td>3</td>\n",
       "      <td>3</td>\n",
       "      <td>3</td>\n",
       "      <td>3</td>\n",
       "      <td>3</td>\n",
       "    </tr>\n",
       "  </tbody>\n",
       "</table>\n",
       "</div>"
      ],
      "text/plain": [
       "         Sport   Medal  ID  Name  Sex  Age  Height  Weight  Team  NOC  Games  \\\n",
       "0    Athletics  Bronze   6     6    6    6       6       6     6    6      6   \n",
       "1    Athletics    Gold   4     4    4    4       4       4     4    4      4   \n",
       "2    Athletics  Silver   2     2    2    2       2       2     2    2      2   \n",
       "3     Football  Bronze   2     2    2    2       2       2     2    2      2   \n",
       "4     Football    Gold   1     1    1    1       1       1     1    1      1   \n",
       "5     Football  Silver   5     5    5    5       5       5     5    5      5   \n",
       "6         Judo  Bronze  15    15   15   15      15      15    15   15     15   \n",
       "7         Judo    Gold   4     4    4    4       3       3     4    4      4   \n",
       "8         Judo  Silver   3     3    3    3       3       3     3    3      3   \n",
       "9      Sailing  Bronze   8     8    8    8       8       8     8    8      8   \n",
       "10     Sailing    Gold   7     7    7    7       7       7     7    7      7   \n",
       "11     Sailing  Silver   3     3    3    3       3       3     3    3      3   \n",
       "12    Swimming  Bronze   6     6    6    6       6       5     6    6      6   \n",
       "13    Swimming  Silver   4     4    4    4       4       4     4    4      4   \n",
       "14  Volleyball  Bronze   2     2    2    2       2       2     2    2      2   \n",
       "15  Volleyball    Gold   5     5    5    5       5       5     5    5      5   \n",
       "16  Volleyball  Silver   3     3    3    3       3       3     3    3      3   \n",
       "\n",
       "    Year  Season  City  Event  \n",
       "0      6       6     6      6  \n",
       "1      4       4     4      4  \n",
       "2      2       2     2      2  \n",
       "3      2       2     2      2  \n",
       "4      1       1     1      1  \n",
       "5      5       5     5      5  \n",
       "6     15      15    15     15  \n",
       "7      4       4     4      4  \n",
       "8      3       3     3      3  \n",
       "9      8       8     8      8  \n",
       "10     7       7     7      7  \n",
       "11     3       3     3      3  \n",
       "12     6       6     6      6  \n",
       "13     4       4     4      4  \n",
       "14     2       2     2      2  \n",
       "15     5       5     5      5  \n",
       "16     3       3     3      3  "
      ]
     },
     "execution_count": 132,
     "metadata": {},
     "output_type": "execute_result"
    }
   ],
   "source": [
    "br_6_group"
   ]
  },
  {
   "cell_type": "code",
   "execution_count": 133,
   "id": "053550e6",
   "metadata": {
    "id": "053550e6"
   },
   "outputs": [],
   "source": [
    "br_6_group.drop(columns=['ID','Name','Sex','Age','Height','Weight',\n",
    "                         'Team','NOC','Games','Year','Season','City'], inplace=True)"
   ]
  },
  {
   "cell_type": "code",
   "execution_count": 57,
   "id": "c0680a23",
   "metadata": {},
   "outputs": [],
   "source": []
  },
  {
   "cell_type": "code",
   "execution_count": 134,
   "id": "73fa6844",
   "metadata": {
    "id": "73fa6844",
    "outputId": "a1ecd42d-9a1c-42a0-f876-bef3df31e995"
   },
   "outputs": [
    {
     "data": {
      "text/html": [
       "<div>\n",
       "<style scoped>\n",
       "    .dataframe tbody tr th:only-of-type {\n",
       "        vertical-align: middle;\n",
       "    }\n",
       "\n",
       "    .dataframe tbody tr th {\n",
       "        vertical-align: top;\n",
       "    }\n",
       "\n",
       "    .dataframe thead th {\n",
       "        text-align: right;\n",
       "    }\n",
       "</style>\n",
       "<table border=\"1\" class=\"dataframe\">\n",
       "  <thead>\n",
       "    <tr style=\"text-align: right;\">\n",
       "      <th></th>\n",
       "      <th>Sport</th>\n",
       "      <th>Medal</th>\n",
       "      <th>Event</th>\n",
       "    </tr>\n",
       "  </thead>\n",
       "  <tbody>\n",
       "    <tr>\n",
       "      <th>0</th>\n",
       "      <td>Athletics</td>\n",
       "      <td>Bronze</td>\n",
       "      <td>6</td>\n",
       "    </tr>\n",
       "    <tr>\n",
       "      <th>1</th>\n",
       "      <td>Athletics</td>\n",
       "      <td>Gold</td>\n",
       "      <td>4</td>\n",
       "    </tr>\n",
       "    <tr>\n",
       "      <th>2</th>\n",
       "      <td>Athletics</td>\n",
       "      <td>Silver</td>\n",
       "      <td>2</td>\n",
       "    </tr>\n",
       "    <tr>\n",
       "      <th>3</th>\n",
       "      <td>Football</td>\n",
       "      <td>Bronze</td>\n",
       "      <td>2</td>\n",
       "    </tr>\n",
       "    <tr>\n",
       "      <th>4</th>\n",
       "      <td>Football</td>\n",
       "      <td>Gold</td>\n",
       "      <td>1</td>\n",
       "    </tr>\n",
       "    <tr>\n",
       "      <th>5</th>\n",
       "      <td>Football</td>\n",
       "      <td>Silver</td>\n",
       "      <td>5</td>\n",
       "    </tr>\n",
       "    <tr>\n",
       "      <th>6</th>\n",
       "      <td>Judo</td>\n",
       "      <td>Bronze</td>\n",
       "      <td>15</td>\n",
       "    </tr>\n",
       "    <tr>\n",
       "      <th>7</th>\n",
       "      <td>Judo</td>\n",
       "      <td>Gold</td>\n",
       "      <td>4</td>\n",
       "    </tr>\n",
       "    <tr>\n",
       "      <th>8</th>\n",
       "      <td>Judo</td>\n",
       "      <td>Silver</td>\n",
       "      <td>3</td>\n",
       "    </tr>\n",
       "    <tr>\n",
       "      <th>9</th>\n",
       "      <td>Sailing</td>\n",
       "      <td>Bronze</td>\n",
       "      <td>8</td>\n",
       "    </tr>\n",
       "    <tr>\n",
       "      <th>10</th>\n",
       "      <td>Sailing</td>\n",
       "      <td>Gold</td>\n",
       "      <td>7</td>\n",
       "    </tr>\n",
       "    <tr>\n",
       "      <th>11</th>\n",
       "      <td>Sailing</td>\n",
       "      <td>Silver</td>\n",
       "      <td>3</td>\n",
       "    </tr>\n",
       "    <tr>\n",
       "      <th>12</th>\n",
       "      <td>Swimming</td>\n",
       "      <td>Bronze</td>\n",
       "      <td>6</td>\n",
       "    </tr>\n",
       "    <tr>\n",
       "      <th>13</th>\n",
       "      <td>Swimming</td>\n",
       "      <td>Silver</td>\n",
       "      <td>4</td>\n",
       "    </tr>\n",
       "    <tr>\n",
       "      <th>14</th>\n",
       "      <td>Volleyball</td>\n",
       "      <td>Bronze</td>\n",
       "      <td>2</td>\n",
       "    </tr>\n",
       "    <tr>\n",
       "      <th>15</th>\n",
       "      <td>Volleyball</td>\n",
       "      <td>Gold</td>\n",
       "      <td>5</td>\n",
       "    </tr>\n",
       "    <tr>\n",
       "      <th>16</th>\n",
       "      <td>Volleyball</td>\n",
       "      <td>Silver</td>\n",
       "      <td>3</td>\n",
       "    </tr>\n",
       "  </tbody>\n",
       "</table>\n",
       "</div>"
      ],
      "text/plain": [
       "         Sport   Medal  Event\n",
       "0    Athletics  Bronze      6\n",
       "1    Athletics    Gold      4\n",
       "2    Athletics  Silver      2\n",
       "3     Football  Bronze      2\n",
       "4     Football    Gold      1\n",
       "5     Football  Silver      5\n",
       "6         Judo  Bronze     15\n",
       "7         Judo    Gold      4\n",
       "8         Judo  Silver      3\n",
       "9      Sailing  Bronze      8\n",
       "10     Sailing    Gold      7\n",
       "11     Sailing  Silver      3\n",
       "12    Swimming  Bronze      6\n",
       "13    Swimming  Silver      4\n",
       "14  Volleyball  Bronze      2\n",
       "15  Volleyball    Gold      5\n",
       "16  Volleyball  Silver      3"
      ]
     },
     "execution_count": 134,
     "metadata": {},
     "output_type": "execute_result"
    }
   ],
   "source": [
    "br_6_group"
   ]
  },
  {
   "cell_type": "code",
   "execution_count": 135,
   "id": "96383252",
   "metadata": {
    "scrolled": false
   },
   "outputs": [
    {
     "data": {
      "application/vnd.plotly.v1+json": {
       "config": {
        "plotlyServerURL": "https://plot.ly"
       },
       "data": [
        {
         "alignmentgroup": "True",
         "bingroup": "x",
         "histfunc": "sum",
         "hovertemplate": "Medal=Bronze<br>Sport=%{x}<br>sum of Event (normalized as percent)=%{y}<extra></extra>",
         "legendgroup": "Bronze",
         "marker": {
          "color": "darkorange",
          "opacity": 0.7,
          "pattern": {
           "shape": ""
          }
         },
         "name": "Bronze",
         "offsetgroup": "Bronze",
         "orientation": "v",
         "showlegend": true,
         "texttemplate": "%{value}",
         "type": "histogram",
         "x": [
          "Athletics",
          "Football",
          "Judo",
          "Sailing",
          "Swimming",
          "Volleyball"
         ],
         "xaxis": "x",
         "y": [
          6,
          2,
          15,
          8,
          6,
          2
         ],
         "yaxis": "y"
        },
        {
         "alignmentgroup": "True",
         "bingroup": "x",
         "histfunc": "sum",
         "hovertemplate": "Medal=Silver<br>Sport=%{x}<br>sum of Event (normalized as percent)=%{y}<extra></extra>",
         "legendgroup": "Silver",
         "marker": {
          "color": "silver",
          "opacity": 0.7,
          "pattern": {
           "shape": ""
          }
         },
         "name": "Silver",
         "offsetgroup": "Silver",
         "orientation": "v",
         "showlegend": true,
         "texttemplate": "%{value}",
         "type": "histogram",
         "x": [
          "Athletics",
          "Football",
          "Judo",
          "Sailing",
          "Swimming",
          "Volleyball"
         ],
         "xaxis": "x",
         "y": [
          2,
          5,
          3,
          3,
          4,
          3
         ],
         "yaxis": "y"
        },
        {
         "alignmentgroup": "True",
         "bingroup": "x",
         "histfunc": "sum",
         "hovertemplate": "Medal=Gold<br>Sport=%{x}<br>sum of Event (normalized as percent)=%{y}<extra></extra>",
         "legendgroup": "Gold",
         "marker": {
          "color": "gold",
          "opacity": 0.7,
          "pattern": {
           "shape": ""
          }
         },
         "name": "Gold",
         "offsetgroup": "Gold",
         "orientation": "v",
         "showlegend": true,
         "texttemplate": "%{value}",
         "type": "histogram",
         "x": [
          "Athletics",
          "Football",
          "Judo",
          "Sailing",
          "Volleyball"
         ],
         "xaxis": "x",
         "y": [
          4,
          1,
          4,
          7,
          5
         ],
         "yaxis": "y"
        }
       ],
       "layout": {
        "annotations": [
         {
          "ax": 0,
          "ay": -80,
          "font": {
           "color": "#e67e22",
           "family": "Nunito",
           "size": 16
          },
          "showarrow": false,
          "text": "Totals:                        13                          8                          22                          18                          9                          10",
          "x": 2,
          "xref": "x",
          "y": 115,
          "yref": "y"
         }
        ],
        "barmode": "relative",
        "barnorm": "percent",
        "legend": {
         "title": {
          "text": "Medal"
         },
         "tracegroupgap": 0
        },
        "template": {
         "data": {
          "bar": [
           {
            "error_x": {
             "color": "#2a3f5f"
            },
            "error_y": {
             "color": "#2a3f5f"
            },
            "marker": {
             "line": {
              "color": "#E5ECF6",
              "width": 0.5
             },
             "pattern": {
              "fillmode": "overlay",
              "size": 10,
              "solidity": 0.2
             }
            },
            "type": "bar"
           }
          ],
          "barpolar": [
           {
            "marker": {
             "line": {
              "color": "#E5ECF6",
              "width": 0.5
             },
             "pattern": {
              "fillmode": "overlay",
              "size": 10,
              "solidity": 0.2
             }
            },
            "type": "barpolar"
           }
          ],
          "carpet": [
           {
            "aaxis": {
             "endlinecolor": "#2a3f5f",
             "gridcolor": "white",
             "linecolor": "white",
             "minorgridcolor": "white",
             "startlinecolor": "#2a3f5f"
            },
            "baxis": {
             "endlinecolor": "#2a3f5f",
             "gridcolor": "white",
             "linecolor": "white",
             "minorgridcolor": "white",
             "startlinecolor": "#2a3f5f"
            },
            "type": "carpet"
           }
          ],
          "choropleth": [
           {
            "colorbar": {
             "outlinewidth": 0,
             "ticks": ""
            },
            "type": "choropleth"
           }
          ],
          "contour": [
           {
            "colorbar": {
             "outlinewidth": 0,
             "ticks": ""
            },
            "colorscale": [
             [
              0,
              "#0d0887"
             ],
             [
              0.1111111111111111,
              "#46039f"
             ],
             [
              0.2222222222222222,
              "#7201a8"
             ],
             [
              0.3333333333333333,
              "#9c179e"
             ],
             [
              0.4444444444444444,
              "#bd3786"
             ],
             [
              0.5555555555555556,
              "#d8576b"
             ],
             [
              0.6666666666666666,
              "#ed7953"
             ],
             [
              0.7777777777777778,
              "#fb9f3a"
             ],
             [
              0.8888888888888888,
              "#fdca26"
             ],
             [
              1,
              "#f0f921"
             ]
            ],
            "type": "contour"
           }
          ],
          "contourcarpet": [
           {
            "colorbar": {
             "outlinewidth": 0,
             "ticks": ""
            },
            "type": "contourcarpet"
           }
          ],
          "heatmap": [
           {
            "colorbar": {
             "outlinewidth": 0,
             "ticks": ""
            },
            "colorscale": [
             [
              0,
              "#0d0887"
             ],
             [
              0.1111111111111111,
              "#46039f"
             ],
             [
              0.2222222222222222,
              "#7201a8"
             ],
             [
              0.3333333333333333,
              "#9c179e"
             ],
             [
              0.4444444444444444,
              "#bd3786"
             ],
             [
              0.5555555555555556,
              "#d8576b"
             ],
             [
              0.6666666666666666,
              "#ed7953"
             ],
             [
              0.7777777777777778,
              "#fb9f3a"
             ],
             [
              0.8888888888888888,
              "#fdca26"
             ],
             [
              1,
              "#f0f921"
             ]
            ],
            "type": "heatmap"
           }
          ],
          "heatmapgl": [
           {
            "colorbar": {
             "outlinewidth": 0,
             "ticks": ""
            },
            "colorscale": [
             [
              0,
              "#0d0887"
             ],
             [
              0.1111111111111111,
              "#46039f"
             ],
             [
              0.2222222222222222,
              "#7201a8"
             ],
             [
              0.3333333333333333,
              "#9c179e"
             ],
             [
              0.4444444444444444,
              "#bd3786"
             ],
             [
              0.5555555555555556,
              "#d8576b"
             ],
             [
              0.6666666666666666,
              "#ed7953"
             ],
             [
              0.7777777777777778,
              "#fb9f3a"
             ],
             [
              0.8888888888888888,
              "#fdca26"
             ],
             [
              1,
              "#f0f921"
             ]
            ],
            "type": "heatmapgl"
           }
          ],
          "histogram": [
           {
            "marker": {
             "pattern": {
              "fillmode": "overlay",
              "size": 10,
              "solidity": 0.2
             }
            },
            "type": "histogram"
           }
          ],
          "histogram2d": [
           {
            "colorbar": {
             "outlinewidth": 0,
             "ticks": ""
            },
            "colorscale": [
             [
              0,
              "#0d0887"
             ],
             [
              0.1111111111111111,
              "#46039f"
             ],
             [
              0.2222222222222222,
              "#7201a8"
             ],
             [
              0.3333333333333333,
              "#9c179e"
             ],
             [
              0.4444444444444444,
              "#bd3786"
             ],
             [
              0.5555555555555556,
              "#d8576b"
             ],
             [
              0.6666666666666666,
              "#ed7953"
             ],
             [
              0.7777777777777778,
              "#fb9f3a"
             ],
             [
              0.8888888888888888,
              "#fdca26"
             ],
             [
              1,
              "#f0f921"
             ]
            ],
            "type": "histogram2d"
           }
          ],
          "histogram2dcontour": [
           {
            "colorbar": {
             "outlinewidth": 0,
             "ticks": ""
            },
            "colorscale": [
             [
              0,
              "#0d0887"
             ],
             [
              0.1111111111111111,
              "#46039f"
             ],
             [
              0.2222222222222222,
              "#7201a8"
             ],
             [
              0.3333333333333333,
              "#9c179e"
             ],
             [
              0.4444444444444444,
              "#bd3786"
             ],
             [
              0.5555555555555556,
              "#d8576b"
             ],
             [
              0.6666666666666666,
              "#ed7953"
             ],
             [
              0.7777777777777778,
              "#fb9f3a"
             ],
             [
              0.8888888888888888,
              "#fdca26"
             ],
             [
              1,
              "#f0f921"
             ]
            ],
            "type": "histogram2dcontour"
           }
          ],
          "mesh3d": [
           {
            "colorbar": {
             "outlinewidth": 0,
             "ticks": ""
            },
            "type": "mesh3d"
           }
          ],
          "parcoords": [
           {
            "line": {
             "colorbar": {
              "outlinewidth": 0,
              "ticks": ""
             }
            },
            "type": "parcoords"
           }
          ],
          "pie": [
           {
            "automargin": true,
            "type": "pie"
           }
          ],
          "scatter": [
           {
            "marker": {
             "colorbar": {
              "outlinewidth": 0,
              "ticks": ""
             }
            },
            "type": "scatter"
           }
          ],
          "scatter3d": [
           {
            "line": {
             "colorbar": {
              "outlinewidth": 0,
              "ticks": ""
             }
            },
            "marker": {
             "colorbar": {
              "outlinewidth": 0,
              "ticks": ""
             }
            },
            "type": "scatter3d"
           }
          ],
          "scattercarpet": [
           {
            "marker": {
             "colorbar": {
              "outlinewidth": 0,
              "ticks": ""
             }
            },
            "type": "scattercarpet"
           }
          ],
          "scattergeo": [
           {
            "marker": {
             "colorbar": {
              "outlinewidth": 0,
              "ticks": ""
             }
            },
            "type": "scattergeo"
           }
          ],
          "scattergl": [
           {
            "marker": {
             "colorbar": {
              "outlinewidth": 0,
              "ticks": ""
             }
            },
            "type": "scattergl"
           }
          ],
          "scattermapbox": [
           {
            "marker": {
             "colorbar": {
              "outlinewidth": 0,
              "ticks": ""
             }
            },
            "type": "scattermapbox"
           }
          ],
          "scatterpolar": [
           {
            "marker": {
             "colorbar": {
              "outlinewidth": 0,
              "ticks": ""
             }
            },
            "type": "scatterpolar"
           }
          ],
          "scatterpolargl": [
           {
            "marker": {
             "colorbar": {
              "outlinewidth": 0,
              "ticks": ""
             }
            },
            "type": "scatterpolargl"
           }
          ],
          "scatterternary": [
           {
            "marker": {
             "colorbar": {
              "outlinewidth": 0,
              "ticks": ""
             }
            },
            "type": "scatterternary"
           }
          ],
          "surface": [
           {
            "colorbar": {
             "outlinewidth": 0,
             "ticks": ""
            },
            "colorscale": [
             [
              0,
              "#0d0887"
             ],
             [
              0.1111111111111111,
              "#46039f"
             ],
             [
              0.2222222222222222,
              "#7201a8"
             ],
             [
              0.3333333333333333,
              "#9c179e"
             ],
             [
              0.4444444444444444,
              "#bd3786"
             ],
             [
              0.5555555555555556,
              "#d8576b"
             ],
             [
              0.6666666666666666,
              "#ed7953"
             ],
             [
              0.7777777777777778,
              "#fb9f3a"
             ],
             [
              0.8888888888888888,
              "#fdca26"
             ],
             [
              1,
              "#f0f921"
             ]
            ],
            "type": "surface"
           }
          ],
          "table": [
           {
            "cells": {
             "fill": {
              "color": "#EBF0F8"
             },
             "line": {
              "color": "white"
             }
            },
            "header": {
             "fill": {
              "color": "#C8D4E3"
             },
             "line": {
              "color": "white"
             }
            },
            "type": "table"
           }
          ]
         },
         "layout": {
          "annotationdefaults": {
           "arrowcolor": "#2a3f5f",
           "arrowhead": 0,
           "arrowwidth": 1
          },
          "autotypenumbers": "strict",
          "coloraxis": {
           "colorbar": {
            "outlinewidth": 0,
            "ticks": ""
           }
          },
          "colorscale": {
           "diverging": [
            [
             0,
             "#8e0152"
            ],
            [
             0.1,
             "#c51b7d"
            ],
            [
             0.2,
             "#de77ae"
            ],
            [
             0.3,
             "#f1b6da"
            ],
            [
             0.4,
             "#fde0ef"
            ],
            [
             0.5,
             "#f7f7f7"
            ],
            [
             0.6,
             "#e6f5d0"
            ],
            [
             0.7,
             "#b8e186"
            ],
            [
             0.8,
             "#7fbc41"
            ],
            [
             0.9,
             "#4d9221"
            ],
            [
             1,
             "#276419"
            ]
           ],
           "sequential": [
            [
             0,
             "#0d0887"
            ],
            [
             0.1111111111111111,
             "#46039f"
            ],
            [
             0.2222222222222222,
             "#7201a8"
            ],
            [
             0.3333333333333333,
             "#9c179e"
            ],
            [
             0.4444444444444444,
             "#bd3786"
            ],
            [
             0.5555555555555556,
             "#d8576b"
            ],
            [
             0.6666666666666666,
             "#ed7953"
            ],
            [
             0.7777777777777778,
             "#fb9f3a"
            ],
            [
             0.8888888888888888,
             "#fdca26"
            ],
            [
             1,
             "#f0f921"
            ]
           ],
           "sequentialminus": [
            [
             0,
             "#0d0887"
            ],
            [
             0.1111111111111111,
             "#46039f"
            ],
            [
             0.2222222222222222,
             "#7201a8"
            ],
            [
             0.3333333333333333,
             "#9c179e"
            ],
            [
             0.4444444444444444,
             "#bd3786"
            ],
            [
             0.5555555555555556,
             "#d8576b"
            ],
            [
             0.6666666666666666,
             "#ed7953"
            ],
            [
             0.7777777777777778,
             "#fb9f3a"
            ],
            [
             0.8888888888888888,
             "#fdca26"
            ],
            [
             1,
             "#f0f921"
            ]
           ]
          },
          "colorway": [
           "#636efa",
           "#EF553B",
           "#00cc96",
           "#ab63fa",
           "#FFA15A",
           "#19d3f3",
           "#FF6692",
           "#B6E880",
           "#FF97FF",
           "#FECB52"
          ],
          "font": {
           "color": "#2a3f5f"
          },
          "geo": {
           "bgcolor": "white",
           "lakecolor": "white",
           "landcolor": "#E5ECF6",
           "showlakes": true,
           "showland": true,
           "subunitcolor": "white"
          },
          "hoverlabel": {
           "align": "left"
          },
          "hovermode": "closest",
          "mapbox": {
           "style": "light"
          },
          "paper_bgcolor": "white",
          "plot_bgcolor": "#E5ECF6",
          "polar": {
           "angularaxis": {
            "gridcolor": "white",
            "linecolor": "white",
            "ticks": ""
           },
           "bgcolor": "#E5ECF6",
           "radialaxis": {
            "gridcolor": "white",
            "linecolor": "white",
            "ticks": ""
           }
          },
          "scene": {
           "xaxis": {
            "backgroundcolor": "#E5ECF6",
            "gridcolor": "white",
            "gridwidth": 2,
            "linecolor": "white",
            "showbackground": true,
            "ticks": "",
            "zerolinecolor": "white"
           },
           "yaxis": {
            "backgroundcolor": "#E5ECF6",
            "gridcolor": "white",
            "gridwidth": 2,
            "linecolor": "white",
            "showbackground": true,
            "ticks": "",
            "zerolinecolor": "white"
           },
           "zaxis": {
            "backgroundcolor": "#E5ECF6",
            "gridcolor": "white",
            "gridwidth": 2,
            "linecolor": "white",
            "showbackground": true,
            "ticks": "",
            "zerolinecolor": "white"
           }
          },
          "shapedefaults": {
           "line": {
            "color": "#2a3f5f"
           }
          },
          "ternary": {
           "aaxis": {
            "gridcolor": "white",
            "linecolor": "white",
            "ticks": ""
           },
           "baxis": {
            "gridcolor": "white",
            "linecolor": "white",
            "ticks": ""
           },
           "bgcolor": "#E5ECF6",
           "caxis": {
            "gridcolor": "white",
            "linecolor": "white",
            "ticks": ""
           }
          },
          "title": {
           "x": 0.05
          },
          "xaxis": {
           "automargin": true,
           "gridcolor": "white",
           "linecolor": "white",
           "ticks": "",
           "title": {
            "standoff": 15
           },
           "zerolinecolor": "white",
           "zerolinewidth": 2
          },
          "yaxis": {
           "automargin": true,
           "gridcolor": "white",
           "linecolor": "white",
           "ticks": "",
           "title": {
            "standoff": 15
           },
           "zerolinecolor": "white",
           "zerolinewidth": 2
          }
         }
        },
        "title": {
         "text": "Proporção de Medalhas x Esporte"
        },
        "xaxis": {
         "anchor": "y",
         "domain": [
          0,
          1
         ],
         "title": {
          "text": "Esportes"
         }
        },
        "yaxis": {
         "anchor": "x",
         "domain": [
          0,
          1
         ],
         "title": {
          "text": "Medalhas em %"
         }
        }
       }
      },
      "text/html": [
       "<div>                            <div id=\"fd8b4849-9052-4784-a149-760c30b092d0\" class=\"plotly-graph-div\" style=\"height:525px; width:100%;\"></div>            <script type=\"text/javascript\">                require([\"plotly\"], function(Plotly) {                    window.PLOTLYENV=window.PLOTLYENV || {};                                    if (document.getElementById(\"fd8b4849-9052-4784-a149-760c30b092d0\")) {                    Plotly.newPlot(                        \"fd8b4849-9052-4784-a149-760c30b092d0\",                        [{\"alignmentgroup\":\"True\",\"bingroup\":\"x\",\"histfunc\":\"sum\",\"hovertemplate\":\"Medal=Bronze<br>Sport=%{x}<br>sum of Event (normalized as percent)=%{y}<extra></extra>\",\"legendgroup\":\"Bronze\",\"marker\":{\"color\":\"darkorange\",\"opacity\":0.7,\"pattern\":{\"shape\":\"\"}},\"name\":\"Bronze\",\"offsetgroup\":\"Bronze\",\"orientation\":\"v\",\"showlegend\":true,\"texttemplate\":\"%{value}\",\"x\":[\"Athletics\",\"Football\",\"Judo\",\"Sailing\",\"Swimming\",\"Volleyball\"],\"xaxis\":\"x\",\"y\":[6,2,15,8,6,2],\"yaxis\":\"y\",\"type\":\"histogram\"},{\"alignmentgroup\":\"True\",\"bingroup\":\"x\",\"histfunc\":\"sum\",\"hovertemplate\":\"Medal=Silver<br>Sport=%{x}<br>sum of Event (normalized as percent)=%{y}<extra></extra>\",\"legendgroup\":\"Silver\",\"marker\":{\"color\":\"silver\",\"opacity\":0.7,\"pattern\":{\"shape\":\"\"}},\"name\":\"Silver\",\"offsetgroup\":\"Silver\",\"orientation\":\"v\",\"showlegend\":true,\"texttemplate\":\"%{value}\",\"x\":[\"Athletics\",\"Football\",\"Judo\",\"Sailing\",\"Swimming\",\"Volleyball\"],\"xaxis\":\"x\",\"y\":[2,5,3,3,4,3],\"yaxis\":\"y\",\"type\":\"histogram\"},{\"alignmentgroup\":\"True\",\"bingroup\":\"x\",\"histfunc\":\"sum\",\"hovertemplate\":\"Medal=Gold<br>Sport=%{x}<br>sum of Event (normalized as percent)=%{y}<extra></extra>\",\"legendgroup\":\"Gold\",\"marker\":{\"color\":\"gold\",\"opacity\":0.7,\"pattern\":{\"shape\":\"\"}},\"name\":\"Gold\",\"offsetgroup\":\"Gold\",\"orientation\":\"v\",\"showlegend\":true,\"texttemplate\":\"%{value}\",\"x\":[\"Athletics\",\"Football\",\"Judo\",\"Sailing\",\"Volleyball\"],\"xaxis\":\"x\",\"y\":[4,1,4,7,5],\"yaxis\":\"y\",\"type\":\"histogram\"}],                        {\"template\":{\"data\":{\"bar\":[{\"error_x\":{\"color\":\"#2a3f5f\"},\"error_y\":{\"color\":\"#2a3f5f\"},\"marker\":{\"line\":{\"color\":\"#E5ECF6\",\"width\":0.5},\"pattern\":{\"fillmode\":\"overlay\",\"size\":10,\"solidity\":0.2}},\"type\":\"bar\"}],\"barpolar\":[{\"marker\":{\"line\":{\"color\":\"#E5ECF6\",\"width\":0.5},\"pattern\":{\"fillmode\":\"overlay\",\"size\":10,\"solidity\":0.2}},\"type\":\"barpolar\"}],\"carpet\":[{\"aaxis\":{\"endlinecolor\":\"#2a3f5f\",\"gridcolor\":\"white\",\"linecolor\":\"white\",\"minorgridcolor\":\"white\",\"startlinecolor\":\"#2a3f5f\"},\"baxis\":{\"endlinecolor\":\"#2a3f5f\",\"gridcolor\":\"white\",\"linecolor\":\"white\",\"minorgridcolor\":\"white\",\"startlinecolor\":\"#2a3f5f\"},\"type\":\"carpet\"}],\"choropleth\":[{\"colorbar\":{\"outlinewidth\":0,\"ticks\":\"\"},\"type\":\"choropleth\"}],\"contour\":[{\"colorbar\":{\"outlinewidth\":0,\"ticks\":\"\"},\"colorscale\":[[0.0,\"#0d0887\"],[0.1111111111111111,\"#46039f\"],[0.2222222222222222,\"#7201a8\"],[0.3333333333333333,\"#9c179e\"],[0.4444444444444444,\"#bd3786\"],[0.5555555555555556,\"#d8576b\"],[0.6666666666666666,\"#ed7953\"],[0.7777777777777778,\"#fb9f3a\"],[0.8888888888888888,\"#fdca26\"],[1.0,\"#f0f921\"]],\"type\":\"contour\"}],\"contourcarpet\":[{\"colorbar\":{\"outlinewidth\":0,\"ticks\":\"\"},\"type\":\"contourcarpet\"}],\"heatmap\":[{\"colorbar\":{\"outlinewidth\":0,\"ticks\":\"\"},\"colorscale\":[[0.0,\"#0d0887\"],[0.1111111111111111,\"#46039f\"],[0.2222222222222222,\"#7201a8\"],[0.3333333333333333,\"#9c179e\"],[0.4444444444444444,\"#bd3786\"],[0.5555555555555556,\"#d8576b\"],[0.6666666666666666,\"#ed7953\"],[0.7777777777777778,\"#fb9f3a\"],[0.8888888888888888,\"#fdca26\"],[1.0,\"#f0f921\"]],\"type\":\"heatmap\"}],\"heatmapgl\":[{\"colorbar\":{\"outlinewidth\":0,\"ticks\":\"\"},\"colorscale\":[[0.0,\"#0d0887\"],[0.1111111111111111,\"#46039f\"],[0.2222222222222222,\"#7201a8\"],[0.3333333333333333,\"#9c179e\"],[0.4444444444444444,\"#bd3786\"],[0.5555555555555556,\"#d8576b\"],[0.6666666666666666,\"#ed7953\"],[0.7777777777777778,\"#fb9f3a\"],[0.8888888888888888,\"#fdca26\"],[1.0,\"#f0f921\"]],\"type\":\"heatmapgl\"}],\"histogram\":[{\"marker\":{\"pattern\":{\"fillmode\":\"overlay\",\"size\":10,\"solidity\":0.2}},\"type\":\"histogram\"}],\"histogram2d\":[{\"colorbar\":{\"outlinewidth\":0,\"ticks\":\"\"},\"colorscale\":[[0.0,\"#0d0887\"],[0.1111111111111111,\"#46039f\"],[0.2222222222222222,\"#7201a8\"],[0.3333333333333333,\"#9c179e\"],[0.4444444444444444,\"#bd3786\"],[0.5555555555555556,\"#d8576b\"],[0.6666666666666666,\"#ed7953\"],[0.7777777777777778,\"#fb9f3a\"],[0.8888888888888888,\"#fdca26\"],[1.0,\"#f0f921\"]],\"type\":\"histogram2d\"}],\"histogram2dcontour\":[{\"colorbar\":{\"outlinewidth\":0,\"ticks\":\"\"},\"colorscale\":[[0.0,\"#0d0887\"],[0.1111111111111111,\"#46039f\"],[0.2222222222222222,\"#7201a8\"],[0.3333333333333333,\"#9c179e\"],[0.4444444444444444,\"#bd3786\"],[0.5555555555555556,\"#d8576b\"],[0.6666666666666666,\"#ed7953\"],[0.7777777777777778,\"#fb9f3a\"],[0.8888888888888888,\"#fdca26\"],[1.0,\"#f0f921\"]],\"type\":\"histogram2dcontour\"}],\"mesh3d\":[{\"colorbar\":{\"outlinewidth\":0,\"ticks\":\"\"},\"type\":\"mesh3d\"}],\"parcoords\":[{\"line\":{\"colorbar\":{\"outlinewidth\":0,\"ticks\":\"\"}},\"type\":\"parcoords\"}],\"pie\":[{\"automargin\":true,\"type\":\"pie\"}],\"scatter\":[{\"marker\":{\"colorbar\":{\"outlinewidth\":0,\"ticks\":\"\"}},\"type\":\"scatter\"}],\"scatter3d\":[{\"line\":{\"colorbar\":{\"outlinewidth\":0,\"ticks\":\"\"}},\"marker\":{\"colorbar\":{\"outlinewidth\":0,\"ticks\":\"\"}},\"type\":\"scatter3d\"}],\"scattercarpet\":[{\"marker\":{\"colorbar\":{\"outlinewidth\":0,\"ticks\":\"\"}},\"type\":\"scattercarpet\"}],\"scattergeo\":[{\"marker\":{\"colorbar\":{\"outlinewidth\":0,\"ticks\":\"\"}},\"type\":\"scattergeo\"}],\"scattergl\":[{\"marker\":{\"colorbar\":{\"outlinewidth\":0,\"ticks\":\"\"}},\"type\":\"scattergl\"}],\"scattermapbox\":[{\"marker\":{\"colorbar\":{\"outlinewidth\":0,\"ticks\":\"\"}},\"type\":\"scattermapbox\"}],\"scatterpolar\":[{\"marker\":{\"colorbar\":{\"outlinewidth\":0,\"ticks\":\"\"}},\"type\":\"scatterpolar\"}],\"scatterpolargl\":[{\"marker\":{\"colorbar\":{\"outlinewidth\":0,\"ticks\":\"\"}},\"type\":\"scatterpolargl\"}],\"scatterternary\":[{\"marker\":{\"colorbar\":{\"outlinewidth\":0,\"ticks\":\"\"}},\"type\":\"scatterternary\"}],\"surface\":[{\"colorbar\":{\"outlinewidth\":0,\"ticks\":\"\"},\"colorscale\":[[0.0,\"#0d0887\"],[0.1111111111111111,\"#46039f\"],[0.2222222222222222,\"#7201a8\"],[0.3333333333333333,\"#9c179e\"],[0.4444444444444444,\"#bd3786\"],[0.5555555555555556,\"#d8576b\"],[0.6666666666666666,\"#ed7953\"],[0.7777777777777778,\"#fb9f3a\"],[0.8888888888888888,\"#fdca26\"],[1.0,\"#f0f921\"]],\"type\":\"surface\"}],\"table\":[{\"cells\":{\"fill\":{\"color\":\"#EBF0F8\"},\"line\":{\"color\":\"white\"}},\"header\":{\"fill\":{\"color\":\"#C8D4E3\"},\"line\":{\"color\":\"white\"}},\"type\":\"table\"}]},\"layout\":{\"annotationdefaults\":{\"arrowcolor\":\"#2a3f5f\",\"arrowhead\":0,\"arrowwidth\":1},\"autotypenumbers\":\"strict\",\"coloraxis\":{\"colorbar\":{\"outlinewidth\":0,\"ticks\":\"\"}},\"colorscale\":{\"diverging\":[[0,\"#8e0152\"],[0.1,\"#c51b7d\"],[0.2,\"#de77ae\"],[0.3,\"#f1b6da\"],[0.4,\"#fde0ef\"],[0.5,\"#f7f7f7\"],[0.6,\"#e6f5d0\"],[0.7,\"#b8e186\"],[0.8,\"#7fbc41\"],[0.9,\"#4d9221\"],[1,\"#276419\"]],\"sequential\":[[0.0,\"#0d0887\"],[0.1111111111111111,\"#46039f\"],[0.2222222222222222,\"#7201a8\"],[0.3333333333333333,\"#9c179e\"],[0.4444444444444444,\"#bd3786\"],[0.5555555555555556,\"#d8576b\"],[0.6666666666666666,\"#ed7953\"],[0.7777777777777778,\"#fb9f3a\"],[0.8888888888888888,\"#fdca26\"],[1.0,\"#f0f921\"]],\"sequentialminus\":[[0.0,\"#0d0887\"],[0.1111111111111111,\"#46039f\"],[0.2222222222222222,\"#7201a8\"],[0.3333333333333333,\"#9c179e\"],[0.4444444444444444,\"#bd3786\"],[0.5555555555555556,\"#d8576b\"],[0.6666666666666666,\"#ed7953\"],[0.7777777777777778,\"#fb9f3a\"],[0.8888888888888888,\"#fdca26\"],[1.0,\"#f0f921\"]]},\"colorway\":[\"#636efa\",\"#EF553B\",\"#00cc96\",\"#ab63fa\",\"#FFA15A\",\"#19d3f3\",\"#FF6692\",\"#B6E880\",\"#FF97FF\",\"#FECB52\"],\"font\":{\"color\":\"#2a3f5f\"},\"geo\":{\"bgcolor\":\"white\",\"lakecolor\":\"white\",\"landcolor\":\"#E5ECF6\",\"showlakes\":true,\"showland\":true,\"subunitcolor\":\"white\"},\"hoverlabel\":{\"align\":\"left\"},\"hovermode\":\"closest\",\"mapbox\":{\"style\":\"light\"},\"paper_bgcolor\":\"white\",\"plot_bgcolor\":\"#E5ECF6\",\"polar\":{\"angularaxis\":{\"gridcolor\":\"white\",\"linecolor\":\"white\",\"ticks\":\"\"},\"bgcolor\":\"#E5ECF6\",\"radialaxis\":{\"gridcolor\":\"white\",\"linecolor\":\"white\",\"ticks\":\"\"}},\"scene\":{\"xaxis\":{\"backgroundcolor\":\"#E5ECF6\",\"gridcolor\":\"white\",\"gridwidth\":2,\"linecolor\":\"white\",\"showbackground\":true,\"ticks\":\"\",\"zerolinecolor\":\"white\"},\"yaxis\":{\"backgroundcolor\":\"#E5ECF6\",\"gridcolor\":\"white\",\"gridwidth\":2,\"linecolor\":\"white\",\"showbackground\":true,\"ticks\":\"\",\"zerolinecolor\":\"white\"},\"zaxis\":{\"backgroundcolor\":\"#E5ECF6\",\"gridcolor\":\"white\",\"gridwidth\":2,\"linecolor\":\"white\",\"showbackground\":true,\"ticks\":\"\",\"zerolinecolor\":\"white\"}},\"shapedefaults\":{\"line\":{\"color\":\"#2a3f5f\"}},\"ternary\":{\"aaxis\":{\"gridcolor\":\"white\",\"linecolor\":\"white\",\"ticks\":\"\"},\"baxis\":{\"gridcolor\":\"white\",\"linecolor\":\"white\",\"ticks\":\"\"},\"bgcolor\":\"#E5ECF6\",\"caxis\":{\"gridcolor\":\"white\",\"linecolor\":\"white\",\"ticks\":\"\"}},\"title\":{\"x\":0.05},\"xaxis\":{\"automargin\":true,\"gridcolor\":\"white\",\"linecolor\":\"white\",\"ticks\":\"\",\"title\":{\"standoff\":15},\"zerolinecolor\":\"white\",\"zerolinewidth\":2},\"yaxis\":{\"automargin\":true,\"gridcolor\":\"white\",\"linecolor\":\"white\",\"ticks\":\"\",\"title\":{\"standoff\":15},\"zerolinecolor\":\"white\",\"zerolinewidth\":2}}},\"xaxis\":{\"anchor\":\"y\",\"domain\":[0.0,1.0],\"title\":{\"text\":\"Esportes\"}},\"yaxis\":{\"anchor\":\"x\",\"domain\":[0.0,1.0],\"title\":{\"text\":\"Medalhas em %\"}},\"legend\":{\"title\":{\"text\":\"Medal\"},\"tracegroupgap\":0},\"title\":{\"text\":\"Propor\\u00e7\\u00e3o de Medalhas x Esporte\"},\"barmode\":\"relative\",\"barnorm\":\"percent\",\"annotations\":[{\"ax\":0,\"ay\":-80,\"font\":{\"color\":\"#e67e22\",\"family\":\"Nunito\",\"size\":16},\"showarrow\":false,\"text\":\"Totals:                        13                          8                          22                          18                          9                          10\",\"x\":2,\"xref\":\"x\",\"y\":115,\"yref\":\"y\"}]},                        {\"responsive\": true}                    ).then(function(){\n",
       "                            \n",
       "var gd = document.getElementById('fd8b4849-9052-4784-a149-760c30b092d0');\n",
       "var x = new MutationObserver(function (mutations, observer) {{\n",
       "        var display = window.getComputedStyle(gd).display;\n",
       "        if (!display || display === 'none') {{\n",
       "            console.log([gd, 'removed!']);\n",
       "            Plotly.purge(gd);\n",
       "            observer.disconnect();\n",
       "        }}\n",
       "}});\n",
       "\n",
       "// Listen for the removal of the full notebook cells\n",
       "var notebookContainer = gd.closest('#notebook-container');\n",
       "if (notebookContainer) {{\n",
       "    x.observe(notebookContainer, {childList: true});\n",
       "}}\n",
       "\n",
       "// Listen for the clearing of the current output cell\n",
       "var outputEl = gd.closest('.output');\n",
       "if (outputEl) {{\n",
       "    x.observe(outputEl, {childList: true});\n",
       "}}\n",
       "\n",
       "                        })                };                });            </script>        </div>"
      ]
     },
     "metadata": {},
     "output_type": "display_data"
    }
   ],
   "source": [
    "fig = px.histogram(x='Sport', y=\"Event\", data_frame=br_6_group, color='Medal',\n",
    "                   category_orders={'Medal': ['Bronze','Silver','Gold']},\n",
    "                   color_discrete_sequence=['darkorange','silver','gold'], opacity=0.7,\n",
    "                   barnorm='percent', text_auto=True, title = 'Proporção de Medalhas x Esporte')\n",
    "fig.update_layout(annotations=[{\n",
    "    'text':'Totals:                        13                          8                          22                          18                          9                          10',\n",
    "    'xref':'x',  \n",
    "    'yref':'y', \n",
    "    'x':2, \n",
    "    'y':115,\n",
    "    'showarrow':False,\n",
    "    'ax': 0,\n",
    "    'ay': -80,\n",
    "    'font':dict(\n",
    "            family=\"Nunito\",\n",
    "            size=16,\n",
    "            color=\"#e67e22\"\n",
    "            )\n",
    "}])\n",
    "\n",
    "fig.update_xaxes(title='Esportes')\n",
    "fig.update_yaxes(title='Medalhas em %')"
   ]
  },
  {
   "cell_type": "markdown",
   "id": "C2lQyFUpXUF4",
   "metadata": {
    "id": "C2lQyFUpXUF4"
   },
   "source": [
    "GRÁFICO DE BARRAS EMPILHADAS (NORMALIZADAS)\n",
    "\n",
    "Este gráfico foi escolhido, em detrimento dos de pizza, pela facilidade da visualização de todos os 6 esportes com mais medalhas em uma mesma plotagem. Como se pode observar, a proporção é visível tanto nas cores escolhidas para cada tipo de medalha como no valor exibido no topo de cada barra.\n",
    "\n",
    "Com esse gráfico é possível observar que, ao longo deste século contemplado no Data Frame, o esporte em equipel Volleyball é o que nos trouxe a maior proporção de medalhas de ouro e que o futebol (que é considerado o esporte nacional) ironicamente nos traz a menor proporção destas.\n",
    "\n",
    "AVALIAR:\n",
    "Outras observações também podem ser feitas comparando-se as proporções de medalhas, sendo este um gráfico de leitura fácil, que nos permite colocar em uma tela todas as informações na \"mesma pauta\", diferente de um conjunto de gráficos de pizza que nos forçaria a colocar, talvez, dois conjuntos de 3 e prejudicar um pouco a visualização e leitura, por dar a impressão que são 6 gráificos em vez de um só, a possível necessidade de uma edição adicional para que apenas um título aparecesse, em vez de 6, assim como os labels de cores."
   ]
  },
  {
   "cell_type": "markdown",
   "id": "3a5951fa",
   "metadata": {
    "id": "5669892d"
   },
   "source": [
    "<font size=+3>4. Para finalizar a história do Brasil, vamos ver a série temporal de medalhas brasileiras.</font>\n",
    "\n",
    "Crie um gráfico de sua escolha, que mostre o total de medalhas de ouro, prata e bronze, por edição da olimpíada (em ordem cronológica).\n",
    "\n",
    "DICA: Mais uma vez, tome cuidado com os esportes em grupo - os contabilize apenas uma vez!"
   ]
  },
  {
   "cell_type": "code",
   "execution_count": null,
   "id": "643c827a",
   "metadata": {
    "scrolled": false
   },
   "outputs": [],
   "source": [
    "df = pd.read_csv('athlete_events.csv')\n",
    "br4 = df[df['Team'] == 'Brazil'].copy()\n",
    "br4.dropna(subset=['Medal'], inplace=True)\n",
    "br_uniq = br4.drop_duplicates(subset=['Year', 'Event'], keep='first').copy()\n",
    "br_uniq.sort_values(by='Year').head()"
   ]
  },
  {
   "cell_type": "markdown",
   "id": "a5a1f501",
   "metadata": {},
   "source": [
    "No gráfico abaixo podemos observar um histograma de barras com as quantidades de medalhas obtidas a cada 4 anos, proximadamente. Esse gráfico se mostra útil, por em apenas uma visualização ser capaz de informar não apenas a quantidade de melhadas por tipo, como também observar o aumento das vitórias ao longo dos anos.\n",
    "\n",
    "OBS.: de acordo com o Data Frame, não há medalhas contabilizadas antes do ano de 1920"
   ]
  },
  {
   "cell_type": "code",
   "execution_count": null,
   "id": "3363370a",
   "metadata": {
    "scrolled": false
   },
   "outputs": [],
   "source": [
    "fig = px.histogram(x='Year', data_frame=br_uniq, color='Medal', nbins=50,\n",
    "                   category_orders={'Medal': ['Bronze','Silver','Gold']},\n",
    "                   color_discrete_sequence=['darkorange','silver','gold'], opacity=0.7,\n",
    "                   text_auto=True, title = 'Série Histórica de Medalhas')\n",
    "\n",
    "fig.update_xaxes(title='Anos')\n",
    "#fig.update_xticks(title='Anos')\n",
    "fig.update_yaxes(title='Medalhas')\n",
    "fig.update_layout(legend=dict(title='Medalha'))"
   ]
  },
  {
   "cell_type": "markdown",
   "id": "41e7a486",
   "metadata": {},
   "source": [
    "Conclusão: É visível que o Brasil apresenta uma boa crescente, principalmente a partir da metade dos anos 80."
   ]
  },
  {
   "cell_type": "markdown",
   "id": "ebce0056",
   "metadata": {},
   "source": [
    "<font size=+3>**5. Agora é com vocês!**</font>\n",
    "\n",
    "Escolha uma análise visual que julga interessante de fazer neste conjunto de dados, faça o(s) gráficos(s) necessários e comente os resultados. "
   ]
  },
  {
   "cell_type": "code",
   "execution_count": 183,
   "id": "a9522bb1",
   "metadata": {},
   "outputs": [],
   "source": [
    "df_5 = pd.read_csv('athlete_events.csv')\n",
    "df_5.dropna(subset=['Medal'], inplace=True)\n",
    "\n",
    "df_5_sorted = df_5.sort_values('Year')\n",
    "df_5_2 = df_5_sorted.drop_duplicates(subset=['Year', 'Event'], keep='first')\n",
    "\n",
    "df_5_g_medal_esport_pais = df_5_sorted.groupby(by=['Team','Sport'], as_index=False).count()"
   ]
  },
  {
   "cell_type": "code",
   "execution_count": 184,
   "id": "55066143",
   "metadata": {},
   "outputs": [],
   "source": [
    "df_5_g_medal_esport_pais.drop(columns=['ID','Name','Age','Height','Weight',\n",
    "                         'Sex','NOC','Games','Year','Season','City', 'Event'], inplace=True)\n",
    "df_aux = df_5_g_medal_esport_pais.sort_values('Medal', ascending=False)"
   ]
  },
  {
   "cell_type": "code",
   "execution_count": 185,
   "id": "3e03d3a0",
   "metadata": {},
   "outputs": [],
   "source": [
    "df_aux_top_5 = df_aux[((df_aux['Sport'] == 'Football') | \n",
    "                      (df_aux['Sport'] == 'Volleyball') | \n",
    "                      (df_aux['Sport'] == 'Basketball') | \n",
    "                      (df_aux['Sport'] == 'Sailing') | \n",
    "                      (df_aux['Sport'] == 'Athletics'))]"
   ]
  },
  {
   "cell_type": "code",
   "execution_count": 186,
   "id": "d9aa0734",
   "metadata": {
    "scrolled": false
   },
   "outputs": [],
   "source": [
    "df_top_5_volley = df_aux_top_5.sort_values(['Sport','Medal'], ascending=False).head()"
   ]
  },
  {
   "cell_type": "code",
   "execution_count": 187,
   "id": "fbd06f3e",
   "metadata": {},
   "outputs": [
    {
     "data": {
      "text/html": [
       "<div>\n",
       "<style scoped>\n",
       "    .dataframe tbody tr th:only-of-type {\n",
       "        vertical-align: middle;\n",
       "    }\n",
       "\n",
       "    .dataframe tbody tr th {\n",
       "        vertical-align: top;\n",
       "    }\n",
       "\n",
       "    .dataframe thead th {\n",
       "        text-align: right;\n",
       "    }\n",
       "</style>\n",
       "<table border=\"1\" class=\"dataframe\">\n",
       "  <thead>\n",
       "    <tr style=\"text-align: right;\">\n",
       "      <th></th>\n",
       "      <th>Team</th>\n",
       "      <th>Sport</th>\n",
       "      <th>Medal</th>\n",
       "    </tr>\n",
       "  </thead>\n",
       "  <tbody>\n",
       "    <tr>\n",
       "      <th>1444</th>\n",
       "      <td>Soviet Union</td>\n",
       "      <td>Volleyball</td>\n",
       "      <td>141</td>\n",
       "    </tr>\n",
       "    <tr>\n",
       "      <th>201</th>\n",
       "      <td>Brazil</td>\n",
       "      <td>Volleyball</td>\n",
       "      <td>120</td>\n",
       "    </tr>\n",
       "    <tr>\n",
       "      <th>1716</th>\n",
       "      <td>United States</td>\n",
       "      <td>Volleyball</td>\n",
       "      <td>120</td>\n",
       "    </tr>\n",
       "    <tr>\n",
       "      <th>915</th>\n",
       "      <td>Japan</td>\n",
       "      <td>Volleyball</td>\n",
       "      <td>101</td>\n",
       "    </tr>\n",
       "    <tr>\n",
       "      <th>873</th>\n",
       "      <td>Italy</td>\n",
       "      <td>Volleyball</td>\n",
       "      <td>72</td>\n",
       "    </tr>\n",
       "  </tbody>\n",
       "</table>\n",
       "</div>"
      ],
      "text/plain": [
       "               Team       Sport  Medal\n",
       "1444   Soviet Union  Volleyball    141\n",
       "201          Brazil  Volleyball    120\n",
       "1716  United States  Volleyball    120\n",
       "915           Japan  Volleyball    101\n",
       "873           Italy  Volleyball     72"
      ]
     },
     "execution_count": 187,
     "metadata": {},
     "output_type": "execute_result"
    }
   ],
   "source": [
    "df_top_5_volley"
   ]
  },
  {
   "cell_type": "code",
   "execution_count": 188,
   "id": "2c1f6c2b",
   "metadata": {},
   "outputs": [],
   "source": [
    "df_top_5_others = df_aux_top_5.sort_values(['Sport','Medal'], ascending=False)"
   ]
  },
  {
   "cell_type": "code",
   "execution_count": 189,
   "id": "1938fb45",
   "metadata": {},
   "outputs": [
    {
     "data": {
      "text/html": [
       "<div>\n",
       "<style scoped>\n",
       "    .dataframe tbody tr th:only-of-type {\n",
       "        vertical-align: middle;\n",
       "    }\n",
       "\n",
       "    .dataframe tbody tr th {\n",
       "        vertical-align: top;\n",
       "    }\n",
       "\n",
       "    .dataframe thead th {\n",
       "        text-align: right;\n",
       "    }\n",
       "</style>\n",
       "<table border=\"1\" class=\"dataframe\">\n",
       "  <thead>\n",
       "    <tr style=\"text-align: right;\">\n",
       "      <th></th>\n",
       "      <th>Team</th>\n",
       "      <th>Sport</th>\n",
       "      <th>Medal</th>\n",
       "    </tr>\n",
       "  </thead>\n",
       "  <tbody>\n",
       "    <tr>\n",
       "      <th>193</th>\n",
       "      <td>Brazil</td>\n",
       "      <td>Football</td>\n",
       "      <td>136</td>\n",
       "    </tr>\n",
       "    <tr>\n",
       "      <th>648</th>\n",
       "      <td>Germany</td>\n",
       "      <td>Football</td>\n",
       "      <td>104</td>\n",
       "    </tr>\n",
       "    <tr>\n",
       "      <th>1428</th>\n",
       "      <td>Soviet Union</td>\n",
       "      <td>Football</td>\n",
       "      <td>87</td>\n",
       "    </tr>\n",
       "    <tr>\n",
       "      <th>1688</th>\n",
       "      <td>United States</td>\n",
       "      <td>Football</td>\n",
       "      <td>79</td>\n",
       "    </tr>\n",
       "    <tr>\n",
       "      <th>790</th>\n",
       "      <td>Hungary</td>\n",
       "      <td>Football</td>\n",
       "      <td>79</td>\n",
       "    </tr>\n",
       "  </tbody>\n",
       "</table>\n",
       "</div>"
      ],
      "text/plain": [
       "               Team     Sport  Medal\n",
       "193          Brazil  Football    136\n",
       "648         Germany  Football    104\n",
       "1428   Soviet Union  Football     87\n",
       "1688  United States  Football     79\n",
       "790         Hungary  Football     79"
      ]
     },
     "execution_count": 189,
     "metadata": {},
     "output_type": "execute_result"
    }
   ],
   "source": [
    "df_top_5_foot = df_top_5_others[df_top_5_others['Sport'] == 'Football'].head()\n",
    "df_top_5_foot"
   ]
  },
  {
   "cell_type": "code",
   "execution_count": 190,
   "id": "7ce80eac",
   "metadata": {
    "scrolled": true
   },
   "outputs": [
    {
     "data": {
      "text/html": [
       "<div>\n",
       "<style scoped>\n",
       "    .dataframe tbody tr th:only-of-type {\n",
       "        vertical-align: middle;\n",
       "    }\n",
       "\n",
       "    .dataframe tbody tr th {\n",
       "        vertical-align: top;\n",
       "    }\n",
       "\n",
       "    .dataframe thead th {\n",
       "        text-align: right;\n",
       "    }\n",
       "</style>\n",
       "<table border=\"1\" class=\"dataframe\">\n",
       "  <thead>\n",
       "    <tr style=\"text-align: right;\">\n",
       "      <th></th>\n",
       "      <th>Team</th>\n",
       "      <th>Sport</th>\n",
       "      <th>Medal</th>\n",
       "    </tr>\n",
       "  </thead>\n",
       "  <tbody>\n",
       "    <tr>\n",
       "      <th>1678</th>\n",
       "      <td>United States</td>\n",
       "      <td>Basketball</td>\n",
       "      <td>341</td>\n",
       "    </tr>\n",
       "    <tr>\n",
       "      <th>1418</th>\n",
       "      <td>Soviet Union</td>\n",
       "      <td>Basketball</td>\n",
       "      <td>146</td>\n",
       "    </tr>\n",
       "    <tr>\n",
       "      <th>1809</th>\n",
       "      <td>Yugoslavia</td>\n",
       "      <td>Basketball</td>\n",
       "      <td>84</td>\n",
       "    </tr>\n",
       "    <tr>\n",
       "      <th>48</th>\n",
       "      <td>Australia</td>\n",
       "      <td>Basketball</td>\n",
       "      <td>60</td>\n",
       "    </tr>\n",
       "    <tr>\n",
       "      <th>1457</th>\n",
       "      <td>Spain</td>\n",
       "      <td>Basketball</td>\n",
       "      <td>60</td>\n",
       "    </tr>\n",
       "  </tbody>\n",
       "</table>\n",
       "</div>"
      ],
      "text/plain": [
       "               Team       Sport  Medal\n",
       "1678  United States  Basketball    341\n",
       "1418   Soviet Union  Basketball    146\n",
       "1809     Yugoslavia  Basketball     84\n",
       "48        Australia  Basketball     60\n",
       "1457          Spain  Basketball     60"
      ]
     },
     "execution_count": 190,
     "metadata": {},
     "output_type": "execute_result"
    }
   ],
   "source": [
    "df_top_5_basket = df_top_5_others[df_top_5_others['Sport'] == 'Basketball'].head()\n",
    "df_top_5_basket"
   ]
  },
  {
   "cell_type": "code",
   "execution_count": 191,
   "id": "0e0c125a",
   "metadata": {},
   "outputs": [
    {
     "data": {
      "text/html": [
       "<div>\n",
       "<style scoped>\n",
       "    .dataframe tbody tr th:only-of-type {\n",
       "        vertical-align: middle;\n",
       "    }\n",
       "\n",
       "    .dataframe tbody tr th {\n",
       "        vertical-align: top;\n",
       "    }\n",
       "\n",
       "    .dataframe thead th {\n",
       "        text-align: right;\n",
       "    }\n",
       "</style>\n",
       "<table border=\"1\" class=\"dataframe\">\n",
       "  <thead>\n",
       "    <tr style=\"text-align: right;\">\n",
       "      <th></th>\n",
       "      <th>Team</th>\n",
       "      <th>Sport</th>\n",
       "      <th>Medal</th>\n",
       "    </tr>\n",
       "  </thead>\n",
       "  <tbody>\n",
       "    <tr>\n",
       "      <th>1703</th>\n",
       "      <td>United States</td>\n",
       "      <td>Sailing</td>\n",
       "      <td>81</td>\n",
       "    </tr>\n",
       "    <tr>\n",
       "      <th>713</th>\n",
       "      <td>Great Britain</td>\n",
       "      <td>Sailing</td>\n",
       "      <td>62</td>\n",
       "    </tr>\n",
       "    <tr>\n",
       "      <th>60</th>\n",
       "      <td>Australia</td>\n",
       "      <td>Sailing</td>\n",
       "      <td>45</td>\n",
       "    </tr>\n",
       "    <tr>\n",
       "      <th>452</th>\n",
       "      <td>Denmark</td>\n",
       "      <td>Sailing</td>\n",
       "      <td>42</td>\n",
       "    </tr>\n",
       "    <tr>\n",
       "      <th>197</th>\n",
       "      <td>Brazil</td>\n",
       "      <td>Sailing</td>\n",
       "      <td>34</td>\n",
       "    </tr>\n",
       "  </tbody>\n",
       "</table>\n",
       "</div>"
      ],
      "text/plain": [
       "               Team    Sport  Medal\n",
       "1703  United States  Sailing     81\n",
       "713   Great Britain  Sailing     62\n",
       "60        Australia  Sailing     45\n",
       "452         Denmark  Sailing     42\n",
       "197          Brazil  Sailing     34"
      ]
     },
     "execution_count": 191,
     "metadata": {},
     "output_type": "execute_result"
    }
   ],
   "source": [
    "df_top_5_sail = df_top_5_others[df_top_5_others['Sport'] == 'Sailing'].head()\n",
    "df_top_5_sail"
   ]
  },
  {
   "cell_type": "code",
   "execution_count": 192,
   "id": "d875f004",
   "metadata": {},
   "outputs": [
    {
     "data": {
      "text/html": [
       "<div>\n",
       "<style scoped>\n",
       "    .dataframe tbody tr th:only-of-type {\n",
       "        vertical-align: middle;\n",
       "    }\n",
       "\n",
       "    .dataframe tbody tr th {\n",
       "        vertical-align: top;\n",
       "    }\n",
       "\n",
       "    .dataframe thead th {\n",
       "        text-align: right;\n",
       "    }\n",
       "</style>\n",
       "<table border=\"1\" class=\"dataframe\">\n",
       "  <thead>\n",
       "    <tr style=\"text-align: right;\">\n",
       "      <th></th>\n",
       "      <th>Team</th>\n",
       "      <th>Sport</th>\n",
       "      <th>Medal</th>\n",
       "    </tr>\n",
       "  </thead>\n",
       "  <tbody>\n",
       "    <tr>\n",
       "      <th>1676</th>\n",
       "      <td>United States</td>\n",
       "      <td>Athletics</td>\n",
       "      <td>1071</td>\n",
       "    </tr>\n",
       "    <tr>\n",
       "      <th>689</th>\n",
       "      <td>Great Britain</td>\n",
       "      <td>Athletics</td>\n",
       "      <td>334</td>\n",
       "    </tr>\n",
       "    <tr>\n",
       "      <th>1417</th>\n",
       "      <td>Soviet Union</td>\n",
       "      <td>Athletics</td>\n",
       "      <td>242</td>\n",
       "    </tr>\n",
       "    <tr>\n",
       "      <th>883</th>\n",
       "      <td>Jamaica</td>\n",
       "      <td>Athletics</td>\n",
       "      <td>156</td>\n",
       "    </tr>\n",
       "    <tr>\n",
       "      <th>637</th>\n",
       "      <td>Germany</td>\n",
       "      <td>Athletics</td>\n",
       "      <td>154</td>\n",
       "    </tr>\n",
       "  </tbody>\n",
       "</table>\n",
       "</div>"
      ],
      "text/plain": [
       "               Team      Sport  Medal\n",
       "1676  United States  Athletics   1071\n",
       "689   Great Britain  Athletics    334\n",
       "1417   Soviet Union  Athletics    242\n",
       "883         Jamaica  Athletics    156\n",
       "637         Germany  Athletics    154"
      ]
     },
     "execution_count": 192,
     "metadata": {},
     "output_type": "execute_result"
    }
   ],
   "source": [
    "df_top_5_athl = df_top_5_others[df_top_5_others['Sport'] == 'Athletics'].head()\n",
    "df_top_5_athl"
   ]
  },
  {
   "cell_type": "code",
   "execution_count": 193,
   "id": "feb3ef3d",
   "metadata": {},
   "outputs": [
    {
     "data": {
      "text/html": [
       "<div>\n",
       "<style scoped>\n",
       "    .dataframe tbody tr th:only-of-type {\n",
       "        vertical-align: middle;\n",
       "    }\n",
       "\n",
       "    .dataframe tbody tr th {\n",
       "        vertical-align: top;\n",
       "    }\n",
       "\n",
       "    .dataframe thead th {\n",
       "        text-align: right;\n",
       "    }\n",
       "</style>\n",
       "<table border=\"1\" class=\"dataframe\">\n",
       "  <thead>\n",
       "    <tr style=\"text-align: right;\">\n",
       "      <th></th>\n",
       "      <th>Team</th>\n",
       "      <th>Sport</th>\n",
       "      <th>Medal</th>\n",
       "    </tr>\n",
       "  </thead>\n",
       "  <tbody>\n",
       "    <tr>\n",
       "      <th>1444</th>\n",
       "      <td>Soviet Union</td>\n",
       "      <td>Volleyball</td>\n",
       "      <td>141</td>\n",
       "    </tr>\n",
       "    <tr>\n",
       "      <th>201</th>\n",
       "      <td>Brazil</td>\n",
       "      <td>Volleyball</td>\n",
       "      <td>120</td>\n",
       "    </tr>\n",
       "    <tr>\n",
       "      <th>1716</th>\n",
       "      <td>United States</td>\n",
       "      <td>Volleyball</td>\n",
       "      <td>120</td>\n",
       "    </tr>\n",
       "    <tr>\n",
       "      <th>915</th>\n",
       "      <td>Japan</td>\n",
       "      <td>Volleyball</td>\n",
       "      <td>101</td>\n",
       "    </tr>\n",
       "    <tr>\n",
       "      <th>873</th>\n",
       "      <td>Italy</td>\n",
       "      <td>Volleyball</td>\n",
       "      <td>72</td>\n",
       "    </tr>\n",
       "    <tr>\n",
       "      <th>193</th>\n",
       "      <td>Brazil</td>\n",
       "      <td>Football</td>\n",
       "      <td>136</td>\n",
       "    </tr>\n",
       "    <tr>\n",
       "      <th>648</th>\n",
       "      <td>Germany</td>\n",
       "      <td>Football</td>\n",
       "      <td>104</td>\n",
       "    </tr>\n",
       "    <tr>\n",
       "      <th>1428</th>\n",
       "      <td>Soviet Union</td>\n",
       "      <td>Football</td>\n",
       "      <td>87</td>\n",
       "    </tr>\n",
       "    <tr>\n",
       "      <th>1688</th>\n",
       "      <td>United States</td>\n",
       "      <td>Football</td>\n",
       "      <td>79</td>\n",
       "    </tr>\n",
       "    <tr>\n",
       "      <th>790</th>\n",
       "      <td>Hungary</td>\n",
       "      <td>Football</td>\n",
       "      <td>79</td>\n",
       "    </tr>\n",
       "    <tr>\n",
       "      <th>1678</th>\n",
       "      <td>United States</td>\n",
       "      <td>Basketball</td>\n",
       "      <td>341</td>\n",
       "    </tr>\n",
       "    <tr>\n",
       "      <th>1418</th>\n",
       "      <td>Soviet Union</td>\n",
       "      <td>Basketball</td>\n",
       "      <td>146</td>\n",
       "    </tr>\n",
       "    <tr>\n",
       "      <th>1809</th>\n",
       "      <td>Yugoslavia</td>\n",
       "      <td>Basketball</td>\n",
       "      <td>84</td>\n",
       "    </tr>\n",
       "    <tr>\n",
       "      <th>48</th>\n",
       "      <td>Australia</td>\n",
       "      <td>Basketball</td>\n",
       "      <td>60</td>\n",
       "    </tr>\n",
       "    <tr>\n",
       "      <th>1457</th>\n",
       "      <td>Spain</td>\n",
       "      <td>Basketball</td>\n",
       "      <td>60</td>\n",
       "    </tr>\n",
       "    <tr>\n",
       "      <th>1703</th>\n",
       "      <td>United States</td>\n",
       "      <td>Sailing</td>\n",
       "      <td>81</td>\n",
       "    </tr>\n",
       "    <tr>\n",
       "      <th>713</th>\n",
       "      <td>Great Britain</td>\n",
       "      <td>Sailing</td>\n",
       "      <td>62</td>\n",
       "    </tr>\n",
       "    <tr>\n",
       "      <th>60</th>\n",
       "      <td>Australia</td>\n",
       "      <td>Sailing</td>\n",
       "      <td>45</td>\n",
       "    </tr>\n",
       "    <tr>\n",
       "      <th>452</th>\n",
       "      <td>Denmark</td>\n",
       "      <td>Sailing</td>\n",
       "      <td>42</td>\n",
       "    </tr>\n",
       "    <tr>\n",
       "      <th>197</th>\n",
       "      <td>Brazil</td>\n",
       "      <td>Sailing</td>\n",
       "      <td>34</td>\n",
       "    </tr>\n",
       "    <tr>\n",
       "      <th>1676</th>\n",
       "      <td>United States</td>\n",
       "      <td>Athletics</td>\n",
       "      <td>1071</td>\n",
       "    </tr>\n",
       "    <tr>\n",
       "      <th>689</th>\n",
       "      <td>Great Britain</td>\n",
       "      <td>Athletics</td>\n",
       "      <td>334</td>\n",
       "    </tr>\n",
       "    <tr>\n",
       "      <th>1417</th>\n",
       "      <td>Soviet Union</td>\n",
       "      <td>Athletics</td>\n",
       "      <td>242</td>\n",
       "    </tr>\n",
       "    <tr>\n",
       "      <th>883</th>\n",
       "      <td>Jamaica</td>\n",
       "      <td>Athletics</td>\n",
       "      <td>156</td>\n",
       "    </tr>\n",
       "    <tr>\n",
       "      <th>637</th>\n",
       "      <td>Germany</td>\n",
       "      <td>Athletics</td>\n",
       "      <td>154</td>\n",
       "    </tr>\n",
       "  </tbody>\n",
       "</table>\n",
       "</div>"
      ],
      "text/plain": [
       "               Team       Sport  Medal\n",
       "1444   Soviet Union  Volleyball    141\n",
       "201          Brazil  Volleyball    120\n",
       "1716  United States  Volleyball    120\n",
       "915           Japan  Volleyball    101\n",
       "873           Italy  Volleyball     72\n",
       "193          Brazil    Football    136\n",
       "648         Germany    Football    104\n",
       "1428   Soviet Union    Football     87\n",
       "1688  United States    Football     79\n",
       "790         Hungary    Football     79\n",
       "1678  United States  Basketball    341\n",
       "1418   Soviet Union  Basketball    146\n",
       "1809     Yugoslavia  Basketball     84\n",
       "48        Australia  Basketball     60\n",
       "1457          Spain  Basketball     60\n",
       "1703  United States     Sailing     81\n",
       "713   Great Britain     Sailing     62\n",
       "60        Australia     Sailing     45\n",
       "452         Denmark     Sailing     42\n",
       "197          Brazil     Sailing     34\n",
       "1676  United States   Athletics   1071\n",
       "689   Great Britain   Athletics    334\n",
       "1417   Soviet Union   Athletics    242\n",
       "883         Jamaica   Athletics    156\n",
       "637         Germany   Athletics    154"
      ]
     },
     "metadata": {},
     "output_type": "display_data"
    }
   ],
   "source": [
    "df_5_5 = pd.concat([df_top_5_volley, df_top_5_foot, df_top_5_basket, df_top_5_sail, df_top_5_athl], axis=0)\n",
    "display(df_5_5)"
   ]
  },
  {
   "cell_type": "markdown",
   "id": "fb4b5a24",
   "metadata": {},
   "source": [
    "1. Top5 dos esportes que Brasil tem mais medalhas\n",
    "2. Top5 de Países para cada um destes esportes\n",
    "3. Objetivo final: verificar se o Brazil está entre os 5 países top, nos mesmos esportes em que tem melhor desempenho."
   ]
  },
  {
   "cell_type": "code",
   "execution_count": 194,
   "id": "3e03a6bf",
   "metadata": {
    "scrolled": false
   },
   "outputs": [
    {
     "data": {
      "application/vnd.plotly.v1+json": {
       "config": {
        "plotlyServerURL": "https://plot.ly"
       },
       "data": [
        {
         "alignmentgroup": "True",
         "bingroup": "y",
         "histfunc": "sum",
         "hovertemplate": "Team=Soviet Union<br>sum of Medal=%{x}<br>Sport=%{y}<extra></extra>",
         "legendgroup": "Soviet Union",
         "marker": {
          "color": "#EF553B",
          "pattern": {
           "shape": ""
          }
         },
         "name": "Soviet Union",
         "offsetgroup": "Soviet Union",
         "orientation": "h",
         "showlegend": true,
         "texttemplate": "%{value}",
         "type": "histogram",
         "x": [
          141,
          87,
          146,
          242
         ],
         "xaxis": "x",
         "y": [
          "Volleyball",
          "Football",
          "Basketball",
          "Athletics"
         ],
         "yaxis": "y"
        },
        {
         "alignmentgroup": "True",
         "bingroup": "y",
         "histfunc": "sum",
         "hovertemplate": "Team=Brazil<br>sum of Medal=%{x}<br>Sport=%{y}<extra></extra>",
         "legendgroup": "Brazil",
         "marker": {
          "color": "yellow",
          "pattern": {
           "shape": ""
          }
         },
         "name": "Brazil",
         "offsetgroup": "Brazil",
         "orientation": "h",
         "showlegend": true,
         "texttemplate": "%{value}",
         "type": "histogram",
         "x": [
          120,
          136,
          34
         ],
         "xaxis": "x",
         "y": [
          "Volleyball",
          "Football",
          "Sailing"
         ],
         "yaxis": "y"
        },
        {
         "alignmentgroup": "True",
         "bingroup": "y",
         "histfunc": "sum",
         "hovertemplate": "Team=United States<br>sum of Medal=%{x}<br>Sport=%{y}<extra></extra>",
         "legendgroup": "United States",
         "marker": {
          "color": "#00cc96",
          "pattern": {
           "shape": ""
          }
         },
         "name": "United States",
         "offsetgroup": "United States",
         "orientation": "h",
         "showlegend": true,
         "texttemplate": "%{value}",
         "type": "histogram",
         "x": [
          120,
          79,
          341,
          81,
          1071
         ],
         "xaxis": "x",
         "y": [
          "Volleyball",
          "Football",
          "Basketball",
          "Sailing",
          "Athletics"
         ],
         "yaxis": "y"
        },
        {
         "alignmentgroup": "True",
         "bingroup": "y",
         "histfunc": "sum",
         "hovertemplate": "Team=Japan<br>sum of Medal=%{x}<br>Sport=%{y}<extra></extra>",
         "legendgroup": "Japan",
         "marker": {
          "color": "#ab63fa",
          "pattern": {
           "shape": ""
          }
         },
         "name": "Japan",
         "offsetgroup": "Japan",
         "orientation": "h",
         "showlegend": true,
         "texttemplate": "%{value}",
         "type": "histogram",
         "x": [
          101
         ],
         "xaxis": "x",
         "y": [
          "Volleyball"
         ],
         "yaxis": "y"
        },
        {
         "alignmentgroup": "True",
         "bingroup": "y",
         "histfunc": "sum",
         "hovertemplate": "Team=Italy<br>sum of Medal=%{x}<br>Sport=%{y}<extra></extra>",
         "legendgroup": "Italy",
         "marker": {
          "color": "#FFA15A",
          "pattern": {
           "shape": ""
          }
         },
         "name": "Italy",
         "offsetgroup": "Italy",
         "orientation": "h",
         "showlegend": true,
         "texttemplate": "%{value}",
         "type": "histogram",
         "x": [
          72
         ],
         "xaxis": "x",
         "y": [
          "Volleyball"
         ],
         "yaxis": "y"
        },
        {
         "alignmentgroup": "True",
         "bingroup": "y",
         "histfunc": "sum",
         "hovertemplate": "Team=Germany<br>sum of Medal=%{x}<br>Sport=%{y}<extra></extra>",
         "legendgroup": "Germany",
         "marker": {
          "color": "#19d3f3",
          "pattern": {
           "shape": ""
          }
         },
         "name": "Germany",
         "offsetgroup": "Germany",
         "orientation": "h",
         "showlegend": true,
         "texttemplate": "%{value}",
         "type": "histogram",
         "x": [
          104,
          154
         ],
         "xaxis": "x",
         "y": [
          "Football",
          "Athletics"
         ],
         "yaxis": "y"
        },
        {
         "alignmentgroup": "True",
         "bingroup": "y",
         "histfunc": "sum",
         "hovertemplate": "Team=Hungary<br>sum of Medal=%{x}<br>Sport=%{y}<extra></extra>",
         "legendgroup": "Hungary",
         "marker": {
          "color": "#FF6692",
          "pattern": {
           "shape": ""
          }
         },
         "name": "Hungary",
         "offsetgroup": "Hungary",
         "orientation": "h",
         "showlegend": true,
         "texttemplate": "%{value}",
         "type": "histogram",
         "x": [
          79
         ],
         "xaxis": "x",
         "y": [
          "Football"
         ],
         "yaxis": "y"
        },
        {
         "alignmentgroup": "True",
         "bingroup": "y",
         "histfunc": "sum",
         "hovertemplate": "Team=Yugoslavia<br>sum of Medal=%{x}<br>Sport=%{y}<extra></extra>",
         "legendgroup": "Yugoslavia",
         "marker": {
          "color": "#B6E880",
          "pattern": {
           "shape": ""
          }
         },
         "name": "Yugoslavia",
         "offsetgroup": "Yugoslavia",
         "orientation": "h",
         "showlegend": true,
         "texttemplate": "%{value}",
         "type": "histogram",
         "x": [
          84
         ],
         "xaxis": "x",
         "y": [
          "Basketball"
         ],
         "yaxis": "y"
        },
        {
         "alignmentgroup": "True",
         "bingroup": "y",
         "histfunc": "sum",
         "hovertemplate": "Team=Australia<br>sum of Medal=%{x}<br>Sport=%{y}<extra></extra>",
         "legendgroup": "Australia",
         "marker": {
          "color": "#FF97FF",
          "pattern": {
           "shape": ""
          }
         },
         "name": "Australia",
         "offsetgroup": "Australia",
         "orientation": "h",
         "showlegend": true,
         "texttemplate": "%{value}",
         "type": "histogram",
         "x": [
          60,
          45
         ],
         "xaxis": "x",
         "y": [
          "Basketball",
          "Sailing"
         ],
         "yaxis": "y"
        },
        {
         "alignmentgroup": "True",
         "bingroup": "y",
         "histfunc": "sum",
         "hovertemplate": "Team=Spain<br>sum of Medal=%{x}<br>Sport=%{y}<extra></extra>",
         "legendgroup": "Spain",
         "marker": {
          "color": "#FECB52",
          "pattern": {
           "shape": ""
          }
         },
         "name": "Spain",
         "offsetgroup": "Spain",
         "orientation": "h",
         "showlegend": true,
         "texttemplate": "%{value}",
         "type": "histogram",
         "x": [
          60
         ],
         "xaxis": "x",
         "y": [
          "Basketball"
         ],
         "yaxis": "y"
        },
        {
         "alignmentgroup": "True",
         "bingroup": "y",
         "histfunc": "sum",
         "hovertemplate": "Team=Great Britain<br>sum of Medal=%{x}<br>Sport=%{y}<extra></extra>",
         "legendgroup": "Great Britain",
         "marker": {
          "color": "#636efa",
          "pattern": {
           "shape": ""
          }
         },
         "name": "Great Britain",
         "offsetgroup": "Great Britain",
         "orientation": "h",
         "showlegend": true,
         "texttemplate": "%{value}",
         "type": "histogram",
         "x": [
          62,
          334
         ],
         "xaxis": "x",
         "y": [
          "Sailing",
          "Athletics"
         ],
         "yaxis": "y"
        },
        {
         "alignmentgroup": "True",
         "bingroup": "y",
         "histfunc": "sum",
         "hovertemplate": "Team=Denmark<br>sum of Medal=%{x}<br>Sport=%{y}<extra></extra>",
         "legendgroup": "Denmark",
         "marker": {
          "color": "#EF553B",
          "pattern": {
           "shape": ""
          }
         },
         "name": "Denmark",
         "offsetgroup": "Denmark",
         "orientation": "h",
         "showlegend": true,
         "texttemplate": "%{value}",
         "type": "histogram",
         "x": [
          42
         ],
         "xaxis": "x",
         "y": [
          "Sailing"
         ],
         "yaxis": "y"
        },
        {
         "alignmentgroup": "True",
         "bingroup": "y",
         "histfunc": "sum",
         "hovertemplate": "Team=Jamaica<br>sum of Medal=%{x}<br>Sport=%{y}<extra></extra>",
         "legendgroup": "Jamaica",
         "marker": {
          "color": "#00cc96",
          "pattern": {
           "shape": ""
          }
         },
         "name": "Jamaica",
         "offsetgroup": "Jamaica",
         "orientation": "h",
         "showlegend": true,
         "texttemplate": "%{value}",
         "type": "histogram",
         "x": [
          156
         ],
         "xaxis": "x",
         "y": [
          "Athletics"
         ],
         "yaxis": "y"
        }
       ],
       "layout": {
        "barmode": "relative",
        "height": 500,
        "legend": {
         "title": {
          "text": "País"
         },
         "tracegroupgap": 0
        },
        "template": {
         "data": {
          "bar": [
           {
            "error_x": {
             "color": "#2a3f5f"
            },
            "error_y": {
             "color": "#2a3f5f"
            },
            "marker": {
             "line": {
              "color": "#E5ECF6",
              "width": 0.5
             },
             "pattern": {
              "fillmode": "overlay",
              "size": 10,
              "solidity": 0.2
             }
            },
            "type": "bar"
           }
          ],
          "barpolar": [
           {
            "marker": {
             "line": {
              "color": "#E5ECF6",
              "width": 0.5
             },
             "pattern": {
              "fillmode": "overlay",
              "size": 10,
              "solidity": 0.2
             }
            },
            "type": "barpolar"
           }
          ],
          "carpet": [
           {
            "aaxis": {
             "endlinecolor": "#2a3f5f",
             "gridcolor": "white",
             "linecolor": "white",
             "minorgridcolor": "white",
             "startlinecolor": "#2a3f5f"
            },
            "baxis": {
             "endlinecolor": "#2a3f5f",
             "gridcolor": "white",
             "linecolor": "white",
             "minorgridcolor": "white",
             "startlinecolor": "#2a3f5f"
            },
            "type": "carpet"
           }
          ],
          "choropleth": [
           {
            "colorbar": {
             "outlinewidth": 0,
             "ticks": ""
            },
            "type": "choropleth"
           }
          ],
          "contour": [
           {
            "colorbar": {
             "outlinewidth": 0,
             "ticks": ""
            },
            "colorscale": [
             [
              0,
              "#0d0887"
             ],
             [
              0.1111111111111111,
              "#46039f"
             ],
             [
              0.2222222222222222,
              "#7201a8"
             ],
             [
              0.3333333333333333,
              "#9c179e"
             ],
             [
              0.4444444444444444,
              "#bd3786"
             ],
             [
              0.5555555555555556,
              "#d8576b"
             ],
             [
              0.6666666666666666,
              "#ed7953"
             ],
             [
              0.7777777777777778,
              "#fb9f3a"
             ],
             [
              0.8888888888888888,
              "#fdca26"
             ],
             [
              1,
              "#f0f921"
             ]
            ],
            "type": "contour"
           }
          ],
          "contourcarpet": [
           {
            "colorbar": {
             "outlinewidth": 0,
             "ticks": ""
            },
            "type": "contourcarpet"
           }
          ],
          "heatmap": [
           {
            "colorbar": {
             "outlinewidth": 0,
             "ticks": ""
            },
            "colorscale": [
             [
              0,
              "#0d0887"
             ],
             [
              0.1111111111111111,
              "#46039f"
             ],
             [
              0.2222222222222222,
              "#7201a8"
             ],
             [
              0.3333333333333333,
              "#9c179e"
             ],
             [
              0.4444444444444444,
              "#bd3786"
             ],
             [
              0.5555555555555556,
              "#d8576b"
             ],
             [
              0.6666666666666666,
              "#ed7953"
             ],
             [
              0.7777777777777778,
              "#fb9f3a"
             ],
             [
              0.8888888888888888,
              "#fdca26"
             ],
             [
              1,
              "#f0f921"
             ]
            ],
            "type": "heatmap"
           }
          ],
          "heatmapgl": [
           {
            "colorbar": {
             "outlinewidth": 0,
             "ticks": ""
            },
            "colorscale": [
             [
              0,
              "#0d0887"
             ],
             [
              0.1111111111111111,
              "#46039f"
             ],
             [
              0.2222222222222222,
              "#7201a8"
             ],
             [
              0.3333333333333333,
              "#9c179e"
             ],
             [
              0.4444444444444444,
              "#bd3786"
             ],
             [
              0.5555555555555556,
              "#d8576b"
             ],
             [
              0.6666666666666666,
              "#ed7953"
             ],
             [
              0.7777777777777778,
              "#fb9f3a"
             ],
             [
              0.8888888888888888,
              "#fdca26"
             ],
             [
              1,
              "#f0f921"
             ]
            ],
            "type": "heatmapgl"
           }
          ],
          "histogram": [
           {
            "marker": {
             "pattern": {
              "fillmode": "overlay",
              "size": 10,
              "solidity": 0.2
             }
            },
            "type": "histogram"
           }
          ],
          "histogram2d": [
           {
            "colorbar": {
             "outlinewidth": 0,
             "ticks": ""
            },
            "colorscale": [
             [
              0,
              "#0d0887"
             ],
             [
              0.1111111111111111,
              "#46039f"
             ],
             [
              0.2222222222222222,
              "#7201a8"
             ],
             [
              0.3333333333333333,
              "#9c179e"
             ],
             [
              0.4444444444444444,
              "#bd3786"
             ],
             [
              0.5555555555555556,
              "#d8576b"
             ],
             [
              0.6666666666666666,
              "#ed7953"
             ],
             [
              0.7777777777777778,
              "#fb9f3a"
             ],
             [
              0.8888888888888888,
              "#fdca26"
             ],
             [
              1,
              "#f0f921"
             ]
            ],
            "type": "histogram2d"
           }
          ],
          "histogram2dcontour": [
           {
            "colorbar": {
             "outlinewidth": 0,
             "ticks": ""
            },
            "colorscale": [
             [
              0,
              "#0d0887"
             ],
             [
              0.1111111111111111,
              "#46039f"
             ],
             [
              0.2222222222222222,
              "#7201a8"
             ],
             [
              0.3333333333333333,
              "#9c179e"
             ],
             [
              0.4444444444444444,
              "#bd3786"
             ],
             [
              0.5555555555555556,
              "#d8576b"
             ],
             [
              0.6666666666666666,
              "#ed7953"
             ],
             [
              0.7777777777777778,
              "#fb9f3a"
             ],
             [
              0.8888888888888888,
              "#fdca26"
             ],
             [
              1,
              "#f0f921"
             ]
            ],
            "type": "histogram2dcontour"
           }
          ],
          "mesh3d": [
           {
            "colorbar": {
             "outlinewidth": 0,
             "ticks": ""
            },
            "type": "mesh3d"
           }
          ],
          "parcoords": [
           {
            "line": {
             "colorbar": {
              "outlinewidth": 0,
              "ticks": ""
             }
            },
            "type": "parcoords"
           }
          ],
          "pie": [
           {
            "automargin": true,
            "type": "pie"
           }
          ],
          "scatter": [
           {
            "marker": {
             "colorbar": {
              "outlinewidth": 0,
              "ticks": ""
             }
            },
            "type": "scatter"
           }
          ],
          "scatter3d": [
           {
            "line": {
             "colorbar": {
              "outlinewidth": 0,
              "ticks": ""
             }
            },
            "marker": {
             "colorbar": {
              "outlinewidth": 0,
              "ticks": ""
             }
            },
            "type": "scatter3d"
           }
          ],
          "scattercarpet": [
           {
            "marker": {
             "colorbar": {
              "outlinewidth": 0,
              "ticks": ""
             }
            },
            "type": "scattercarpet"
           }
          ],
          "scattergeo": [
           {
            "marker": {
             "colorbar": {
              "outlinewidth": 0,
              "ticks": ""
             }
            },
            "type": "scattergeo"
           }
          ],
          "scattergl": [
           {
            "marker": {
             "colorbar": {
              "outlinewidth": 0,
              "ticks": ""
             }
            },
            "type": "scattergl"
           }
          ],
          "scattermapbox": [
           {
            "marker": {
             "colorbar": {
              "outlinewidth": 0,
              "ticks": ""
             }
            },
            "type": "scattermapbox"
           }
          ],
          "scatterpolar": [
           {
            "marker": {
             "colorbar": {
              "outlinewidth": 0,
              "ticks": ""
             }
            },
            "type": "scatterpolar"
           }
          ],
          "scatterpolargl": [
           {
            "marker": {
             "colorbar": {
              "outlinewidth": 0,
              "ticks": ""
             }
            },
            "type": "scatterpolargl"
           }
          ],
          "scatterternary": [
           {
            "marker": {
             "colorbar": {
              "outlinewidth": 0,
              "ticks": ""
             }
            },
            "type": "scatterternary"
           }
          ],
          "surface": [
           {
            "colorbar": {
             "outlinewidth": 0,
             "ticks": ""
            },
            "colorscale": [
             [
              0,
              "#0d0887"
             ],
             [
              0.1111111111111111,
              "#46039f"
             ],
             [
              0.2222222222222222,
              "#7201a8"
             ],
             [
              0.3333333333333333,
              "#9c179e"
             ],
             [
              0.4444444444444444,
              "#bd3786"
             ],
             [
              0.5555555555555556,
              "#d8576b"
             ],
             [
              0.6666666666666666,
              "#ed7953"
             ],
             [
              0.7777777777777778,
              "#fb9f3a"
             ],
             [
              0.8888888888888888,
              "#fdca26"
             ],
             [
              1,
              "#f0f921"
             ]
            ],
            "type": "surface"
           }
          ],
          "table": [
           {
            "cells": {
             "fill": {
              "color": "#EBF0F8"
             },
             "line": {
              "color": "white"
             }
            },
            "header": {
             "fill": {
              "color": "#C8D4E3"
             },
             "line": {
              "color": "white"
             }
            },
            "type": "table"
           }
          ]
         },
         "layout": {
          "annotationdefaults": {
           "arrowcolor": "#2a3f5f",
           "arrowhead": 0,
           "arrowwidth": 1
          },
          "autotypenumbers": "strict",
          "coloraxis": {
           "colorbar": {
            "outlinewidth": 0,
            "ticks": ""
           }
          },
          "colorscale": {
           "diverging": [
            [
             0,
             "#8e0152"
            ],
            [
             0.1,
             "#c51b7d"
            ],
            [
             0.2,
             "#de77ae"
            ],
            [
             0.3,
             "#f1b6da"
            ],
            [
             0.4,
             "#fde0ef"
            ],
            [
             0.5,
             "#f7f7f7"
            ],
            [
             0.6,
             "#e6f5d0"
            ],
            [
             0.7,
             "#b8e186"
            ],
            [
             0.8,
             "#7fbc41"
            ],
            [
             0.9,
             "#4d9221"
            ],
            [
             1,
             "#276419"
            ]
           ],
           "sequential": [
            [
             0,
             "#0d0887"
            ],
            [
             0.1111111111111111,
             "#46039f"
            ],
            [
             0.2222222222222222,
             "#7201a8"
            ],
            [
             0.3333333333333333,
             "#9c179e"
            ],
            [
             0.4444444444444444,
             "#bd3786"
            ],
            [
             0.5555555555555556,
             "#d8576b"
            ],
            [
             0.6666666666666666,
             "#ed7953"
            ],
            [
             0.7777777777777778,
             "#fb9f3a"
            ],
            [
             0.8888888888888888,
             "#fdca26"
            ],
            [
             1,
             "#f0f921"
            ]
           ],
           "sequentialminus": [
            [
             0,
             "#0d0887"
            ],
            [
             0.1111111111111111,
             "#46039f"
            ],
            [
             0.2222222222222222,
             "#7201a8"
            ],
            [
             0.3333333333333333,
             "#9c179e"
            ],
            [
             0.4444444444444444,
             "#bd3786"
            ],
            [
             0.5555555555555556,
             "#d8576b"
            ],
            [
             0.6666666666666666,
             "#ed7953"
            ],
            [
             0.7777777777777778,
             "#fb9f3a"
            ],
            [
             0.8888888888888888,
             "#fdca26"
            ],
            [
             1,
             "#f0f921"
            ]
           ]
          },
          "colorway": [
           "#636efa",
           "#EF553B",
           "#00cc96",
           "#ab63fa",
           "#FFA15A",
           "#19d3f3",
           "#FF6692",
           "#B6E880",
           "#FF97FF",
           "#FECB52"
          ],
          "font": {
           "color": "#2a3f5f"
          },
          "geo": {
           "bgcolor": "white",
           "lakecolor": "white",
           "landcolor": "#E5ECF6",
           "showlakes": true,
           "showland": true,
           "subunitcolor": "white"
          },
          "hoverlabel": {
           "align": "left"
          },
          "hovermode": "closest",
          "mapbox": {
           "style": "light"
          },
          "paper_bgcolor": "white",
          "plot_bgcolor": "#E5ECF6",
          "polar": {
           "angularaxis": {
            "gridcolor": "white",
            "linecolor": "white",
            "ticks": ""
           },
           "bgcolor": "#E5ECF6",
           "radialaxis": {
            "gridcolor": "white",
            "linecolor": "white",
            "ticks": ""
           }
          },
          "scene": {
           "xaxis": {
            "backgroundcolor": "#E5ECF6",
            "gridcolor": "white",
            "gridwidth": 2,
            "linecolor": "white",
            "showbackground": true,
            "ticks": "",
            "zerolinecolor": "white"
           },
           "yaxis": {
            "backgroundcolor": "#E5ECF6",
            "gridcolor": "white",
            "gridwidth": 2,
            "linecolor": "white",
            "showbackground": true,
            "ticks": "",
            "zerolinecolor": "white"
           },
           "zaxis": {
            "backgroundcolor": "#E5ECF6",
            "gridcolor": "white",
            "gridwidth": 2,
            "linecolor": "white",
            "showbackground": true,
            "ticks": "",
            "zerolinecolor": "white"
           }
          },
          "shapedefaults": {
           "line": {
            "color": "#2a3f5f"
           }
          },
          "ternary": {
           "aaxis": {
            "gridcolor": "white",
            "linecolor": "white",
            "ticks": ""
           },
           "baxis": {
            "gridcolor": "white",
            "linecolor": "white",
            "ticks": ""
           },
           "bgcolor": "#E5ECF6",
           "caxis": {
            "gridcolor": "white",
            "linecolor": "white",
            "ticks": ""
           }
          },
          "title": {
           "x": 0.05
          },
          "xaxis": {
           "automargin": true,
           "gridcolor": "white",
           "linecolor": "white",
           "ticks": "",
           "title": {
            "standoff": 15
           },
           "zerolinecolor": "white",
           "zerolinewidth": 2
          },
          "yaxis": {
           "automargin": true,
           "gridcolor": "white",
           "linecolor": "white",
           "ticks": "",
           "title": {
            "standoff": 15
           },
           "zerolinecolor": "white",
           "zerolinewidth": 2
          }
         }
        },
        "title": {
         "text": "Top5 do Top5"
        },
        "width": 1000,
        "xaxis": {
         "anchor": "y",
         "domain": [
          0,
          1
         ],
         "title": {
          "text": "Medalhas"
         }
        },
        "yaxis": {
         "anchor": "x",
         "categoryarray": [
          "Sailing",
          "Football",
          "Volleyball",
          "Basketball",
          "Athletics"
         ],
         "categoryorder": "array",
         "domain": [
          0,
          1
         ],
         "title": {
          "text": "Esportes"
         }
        }
       }
      },
      "text/html": [
       "<div>                            <div id=\"fbb3e4dd-d1e6-412c-a312-57e32b5b13fc\" class=\"plotly-graph-div\" style=\"height:500px; width:1000px;\"></div>            <script type=\"text/javascript\">                require([\"plotly\"], function(Plotly) {                    window.PLOTLYENV=window.PLOTLYENV || {};                                    if (document.getElementById(\"fbb3e4dd-d1e6-412c-a312-57e32b5b13fc\")) {                    Plotly.newPlot(                        \"fbb3e4dd-d1e6-412c-a312-57e32b5b13fc\",                        [{\"alignmentgroup\":\"True\",\"bingroup\":\"y\",\"histfunc\":\"sum\",\"hovertemplate\":\"Team=Soviet Union<br>sum of Medal=%{x}<br>Sport=%{y}<extra></extra>\",\"legendgroup\":\"Soviet Union\",\"marker\":{\"color\":\"#EF553B\",\"pattern\":{\"shape\":\"\"}},\"name\":\"Soviet Union\",\"offsetgroup\":\"Soviet Union\",\"orientation\":\"h\",\"showlegend\":true,\"texttemplate\":\"%{value}\",\"x\":[141,87,146,242],\"xaxis\":\"x\",\"y\":[\"Volleyball\",\"Football\",\"Basketball\",\"Athletics\"],\"yaxis\":\"y\",\"type\":\"histogram\"},{\"alignmentgroup\":\"True\",\"bingroup\":\"y\",\"histfunc\":\"sum\",\"hovertemplate\":\"Team=Brazil<br>sum of Medal=%{x}<br>Sport=%{y}<extra></extra>\",\"legendgroup\":\"Brazil\",\"marker\":{\"color\":\"yellow\",\"pattern\":{\"shape\":\"\"}},\"name\":\"Brazil\",\"offsetgroup\":\"Brazil\",\"orientation\":\"h\",\"showlegend\":true,\"texttemplate\":\"%{value}\",\"x\":[120,136,34],\"xaxis\":\"x\",\"y\":[\"Volleyball\",\"Football\",\"Sailing\"],\"yaxis\":\"y\",\"type\":\"histogram\"},{\"alignmentgroup\":\"True\",\"bingroup\":\"y\",\"histfunc\":\"sum\",\"hovertemplate\":\"Team=United States<br>sum of Medal=%{x}<br>Sport=%{y}<extra></extra>\",\"legendgroup\":\"United States\",\"marker\":{\"color\":\"#00cc96\",\"pattern\":{\"shape\":\"\"}},\"name\":\"United States\",\"offsetgroup\":\"United States\",\"orientation\":\"h\",\"showlegend\":true,\"texttemplate\":\"%{value}\",\"x\":[120,79,341,81,1071],\"xaxis\":\"x\",\"y\":[\"Volleyball\",\"Football\",\"Basketball\",\"Sailing\",\"Athletics\"],\"yaxis\":\"y\",\"type\":\"histogram\"},{\"alignmentgroup\":\"True\",\"bingroup\":\"y\",\"histfunc\":\"sum\",\"hovertemplate\":\"Team=Japan<br>sum of Medal=%{x}<br>Sport=%{y}<extra></extra>\",\"legendgroup\":\"Japan\",\"marker\":{\"color\":\"#ab63fa\",\"pattern\":{\"shape\":\"\"}},\"name\":\"Japan\",\"offsetgroup\":\"Japan\",\"orientation\":\"h\",\"showlegend\":true,\"texttemplate\":\"%{value}\",\"x\":[101],\"xaxis\":\"x\",\"y\":[\"Volleyball\"],\"yaxis\":\"y\",\"type\":\"histogram\"},{\"alignmentgroup\":\"True\",\"bingroup\":\"y\",\"histfunc\":\"sum\",\"hovertemplate\":\"Team=Italy<br>sum of Medal=%{x}<br>Sport=%{y}<extra></extra>\",\"legendgroup\":\"Italy\",\"marker\":{\"color\":\"#FFA15A\",\"pattern\":{\"shape\":\"\"}},\"name\":\"Italy\",\"offsetgroup\":\"Italy\",\"orientation\":\"h\",\"showlegend\":true,\"texttemplate\":\"%{value}\",\"x\":[72],\"xaxis\":\"x\",\"y\":[\"Volleyball\"],\"yaxis\":\"y\",\"type\":\"histogram\"},{\"alignmentgroup\":\"True\",\"bingroup\":\"y\",\"histfunc\":\"sum\",\"hovertemplate\":\"Team=Germany<br>sum of Medal=%{x}<br>Sport=%{y}<extra></extra>\",\"legendgroup\":\"Germany\",\"marker\":{\"color\":\"#19d3f3\",\"pattern\":{\"shape\":\"\"}},\"name\":\"Germany\",\"offsetgroup\":\"Germany\",\"orientation\":\"h\",\"showlegend\":true,\"texttemplate\":\"%{value}\",\"x\":[104,154],\"xaxis\":\"x\",\"y\":[\"Football\",\"Athletics\"],\"yaxis\":\"y\",\"type\":\"histogram\"},{\"alignmentgroup\":\"True\",\"bingroup\":\"y\",\"histfunc\":\"sum\",\"hovertemplate\":\"Team=Hungary<br>sum of Medal=%{x}<br>Sport=%{y}<extra></extra>\",\"legendgroup\":\"Hungary\",\"marker\":{\"color\":\"#FF6692\",\"pattern\":{\"shape\":\"\"}},\"name\":\"Hungary\",\"offsetgroup\":\"Hungary\",\"orientation\":\"h\",\"showlegend\":true,\"texttemplate\":\"%{value}\",\"x\":[79],\"xaxis\":\"x\",\"y\":[\"Football\"],\"yaxis\":\"y\",\"type\":\"histogram\"},{\"alignmentgroup\":\"True\",\"bingroup\":\"y\",\"histfunc\":\"sum\",\"hovertemplate\":\"Team=Yugoslavia<br>sum of Medal=%{x}<br>Sport=%{y}<extra></extra>\",\"legendgroup\":\"Yugoslavia\",\"marker\":{\"color\":\"#B6E880\",\"pattern\":{\"shape\":\"\"}},\"name\":\"Yugoslavia\",\"offsetgroup\":\"Yugoslavia\",\"orientation\":\"h\",\"showlegend\":true,\"texttemplate\":\"%{value}\",\"x\":[84],\"xaxis\":\"x\",\"y\":[\"Basketball\"],\"yaxis\":\"y\",\"type\":\"histogram\"},{\"alignmentgroup\":\"True\",\"bingroup\":\"y\",\"histfunc\":\"sum\",\"hovertemplate\":\"Team=Australia<br>sum of Medal=%{x}<br>Sport=%{y}<extra></extra>\",\"legendgroup\":\"Australia\",\"marker\":{\"color\":\"#FF97FF\",\"pattern\":{\"shape\":\"\"}},\"name\":\"Australia\",\"offsetgroup\":\"Australia\",\"orientation\":\"h\",\"showlegend\":true,\"texttemplate\":\"%{value}\",\"x\":[60,45],\"xaxis\":\"x\",\"y\":[\"Basketball\",\"Sailing\"],\"yaxis\":\"y\",\"type\":\"histogram\"},{\"alignmentgroup\":\"True\",\"bingroup\":\"y\",\"histfunc\":\"sum\",\"hovertemplate\":\"Team=Spain<br>sum of Medal=%{x}<br>Sport=%{y}<extra></extra>\",\"legendgroup\":\"Spain\",\"marker\":{\"color\":\"#FECB52\",\"pattern\":{\"shape\":\"\"}},\"name\":\"Spain\",\"offsetgroup\":\"Spain\",\"orientation\":\"h\",\"showlegend\":true,\"texttemplate\":\"%{value}\",\"x\":[60],\"xaxis\":\"x\",\"y\":[\"Basketball\"],\"yaxis\":\"y\",\"type\":\"histogram\"},{\"alignmentgroup\":\"True\",\"bingroup\":\"y\",\"histfunc\":\"sum\",\"hovertemplate\":\"Team=Great Britain<br>sum of Medal=%{x}<br>Sport=%{y}<extra></extra>\",\"legendgroup\":\"Great Britain\",\"marker\":{\"color\":\"#636efa\",\"pattern\":{\"shape\":\"\"}},\"name\":\"Great Britain\",\"offsetgroup\":\"Great Britain\",\"orientation\":\"h\",\"showlegend\":true,\"texttemplate\":\"%{value}\",\"x\":[62,334],\"xaxis\":\"x\",\"y\":[\"Sailing\",\"Athletics\"],\"yaxis\":\"y\",\"type\":\"histogram\"},{\"alignmentgroup\":\"True\",\"bingroup\":\"y\",\"histfunc\":\"sum\",\"hovertemplate\":\"Team=Denmark<br>sum of Medal=%{x}<br>Sport=%{y}<extra></extra>\",\"legendgroup\":\"Denmark\",\"marker\":{\"color\":\"#EF553B\",\"pattern\":{\"shape\":\"\"}},\"name\":\"Denmark\",\"offsetgroup\":\"Denmark\",\"orientation\":\"h\",\"showlegend\":true,\"texttemplate\":\"%{value}\",\"x\":[42],\"xaxis\":\"x\",\"y\":[\"Sailing\"],\"yaxis\":\"y\",\"type\":\"histogram\"},{\"alignmentgroup\":\"True\",\"bingroup\":\"y\",\"histfunc\":\"sum\",\"hovertemplate\":\"Team=Jamaica<br>sum of Medal=%{x}<br>Sport=%{y}<extra></extra>\",\"legendgroup\":\"Jamaica\",\"marker\":{\"color\":\"#00cc96\",\"pattern\":{\"shape\":\"\"}},\"name\":\"Jamaica\",\"offsetgroup\":\"Jamaica\",\"orientation\":\"h\",\"showlegend\":true,\"texttemplate\":\"%{value}\",\"x\":[156],\"xaxis\":\"x\",\"y\":[\"Athletics\"],\"yaxis\":\"y\",\"type\":\"histogram\"}],                        {\"template\":{\"data\":{\"bar\":[{\"error_x\":{\"color\":\"#2a3f5f\"},\"error_y\":{\"color\":\"#2a3f5f\"},\"marker\":{\"line\":{\"color\":\"#E5ECF6\",\"width\":0.5},\"pattern\":{\"fillmode\":\"overlay\",\"size\":10,\"solidity\":0.2}},\"type\":\"bar\"}],\"barpolar\":[{\"marker\":{\"line\":{\"color\":\"#E5ECF6\",\"width\":0.5},\"pattern\":{\"fillmode\":\"overlay\",\"size\":10,\"solidity\":0.2}},\"type\":\"barpolar\"}],\"carpet\":[{\"aaxis\":{\"endlinecolor\":\"#2a3f5f\",\"gridcolor\":\"white\",\"linecolor\":\"white\",\"minorgridcolor\":\"white\",\"startlinecolor\":\"#2a3f5f\"},\"baxis\":{\"endlinecolor\":\"#2a3f5f\",\"gridcolor\":\"white\",\"linecolor\":\"white\",\"minorgridcolor\":\"white\",\"startlinecolor\":\"#2a3f5f\"},\"type\":\"carpet\"}],\"choropleth\":[{\"colorbar\":{\"outlinewidth\":0,\"ticks\":\"\"},\"type\":\"choropleth\"}],\"contour\":[{\"colorbar\":{\"outlinewidth\":0,\"ticks\":\"\"},\"colorscale\":[[0.0,\"#0d0887\"],[0.1111111111111111,\"#46039f\"],[0.2222222222222222,\"#7201a8\"],[0.3333333333333333,\"#9c179e\"],[0.4444444444444444,\"#bd3786\"],[0.5555555555555556,\"#d8576b\"],[0.6666666666666666,\"#ed7953\"],[0.7777777777777778,\"#fb9f3a\"],[0.8888888888888888,\"#fdca26\"],[1.0,\"#f0f921\"]],\"type\":\"contour\"}],\"contourcarpet\":[{\"colorbar\":{\"outlinewidth\":0,\"ticks\":\"\"},\"type\":\"contourcarpet\"}],\"heatmap\":[{\"colorbar\":{\"outlinewidth\":0,\"ticks\":\"\"},\"colorscale\":[[0.0,\"#0d0887\"],[0.1111111111111111,\"#46039f\"],[0.2222222222222222,\"#7201a8\"],[0.3333333333333333,\"#9c179e\"],[0.4444444444444444,\"#bd3786\"],[0.5555555555555556,\"#d8576b\"],[0.6666666666666666,\"#ed7953\"],[0.7777777777777778,\"#fb9f3a\"],[0.8888888888888888,\"#fdca26\"],[1.0,\"#f0f921\"]],\"type\":\"heatmap\"}],\"heatmapgl\":[{\"colorbar\":{\"outlinewidth\":0,\"ticks\":\"\"},\"colorscale\":[[0.0,\"#0d0887\"],[0.1111111111111111,\"#46039f\"],[0.2222222222222222,\"#7201a8\"],[0.3333333333333333,\"#9c179e\"],[0.4444444444444444,\"#bd3786\"],[0.5555555555555556,\"#d8576b\"],[0.6666666666666666,\"#ed7953\"],[0.7777777777777778,\"#fb9f3a\"],[0.8888888888888888,\"#fdca26\"],[1.0,\"#f0f921\"]],\"type\":\"heatmapgl\"}],\"histogram\":[{\"marker\":{\"pattern\":{\"fillmode\":\"overlay\",\"size\":10,\"solidity\":0.2}},\"type\":\"histogram\"}],\"histogram2d\":[{\"colorbar\":{\"outlinewidth\":0,\"ticks\":\"\"},\"colorscale\":[[0.0,\"#0d0887\"],[0.1111111111111111,\"#46039f\"],[0.2222222222222222,\"#7201a8\"],[0.3333333333333333,\"#9c179e\"],[0.4444444444444444,\"#bd3786\"],[0.5555555555555556,\"#d8576b\"],[0.6666666666666666,\"#ed7953\"],[0.7777777777777778,\"#fb9f3a\"],[0.8888888888888888,\"#fdca26\"],[1.0,\"#f0f921\"]],\"type\":\"histogram2d\"}],\"histogram2dcontour\":[{\"colorbar\":{\"outlinewidth\":0,\"ticks\":\"\"},\"colorscale\":[[0.0,\"#0d0887\"],[0.1111111111111111,\"#46039f\"],[0.2222222222222222,\"#7201a8\"],[0.3333333333333333,\"#9c179e\"],[0.4444444444444444,\"#bd3786\"],[0.5555555555555556,\"#d8576b\"],[0.6666666666666666,\"#ed7953\"],[0.7777777777777778,\"#fb9f3a\"],[0.8888888888888888,\"#fdca26\"],[1.0,\"#f0f921\"]],\"type\":\"histogram2dcontour\"}],\"mesh3d\":[{\"colorbar\":{\"outlinewidth\":0,\"ticks\":\"\"},\"type\":\"mesh3d\"}],\"parcoords\":[{\"line\":{\"colorbar\":{\"outlinewidth\":0,\"ticks\":\"\"}},\"type\":\"parcoords\"}],\"pie\":[{\"automargin\":true,\"type\":\"pie\"}],\"scatter\":[{\"marker\":{\"colorbar\":{\"outlinewidth\":0,\"ticks\":\"\"}},\"type\":\"scatter\"}],\"scatter3d\":[{\"line\":{\"colorbar\":{\"outlinewidth\":0,\"ticks\":\"\"}},\"marker\":{\"colorbar\":{\"outlinewidth\":0,\"ticks\":\"\"}},\"type\":\"scatter3d\"}],\"scattercarpet\":[{\"marker\":{\"colorbar\":{\"outlinewidth\":0,\"ticks\":\"\"}},\"type\":\"scattercarpet\"}],\"scattergeo\":[{\"marker\":{\"colorbar\":{\"outlinewidth\":0,\"ticks\":\"\"}},\"type\":\"scattergeo\"}],\"scattergl\":[{\"marker\":{\"colorbar\":{\"outlinewidth\":0,\"ticks\":\"\"}},\"type\":\"scattergl\"}],\"scattermapbox\":[{\"marker\":{\"colorbar\":{\"outlinewidth\":0,\"ticks\":\"\"}},\"type\":\"scattermapbox\"}],\"scatterpolar\":[{\"marker\":{\"colorbar\":{\"outlinewidth\":0,\"ticks\":\"\"}},\"type\":\"scatterpolar\"}],\"scatterpolargl\":[{\"marker\":{\"colorbar\":{\"outlinewidth\":0,\"ticks\":\"\"}},\"type\":\"scatterpolargl\"}],\"scatterternary\":[{\"marker\":{\"colorbar\":{\"outlinewidth\":0,\"ticks\":\"\"}},\"type\":\"scatterternary\"}],\"surface\":[{\"colorbar\":{\"outlinewidth\":0,\"ticks\":\"\"},\"colorscale\":[[0.0,\"#0d0887\"],[0.1111111111111111,\"#46039f\"],[0.2222222222222222,\"#7201a8\"],[0.3333333333333333,\"#9c179e\"],[0.4444444444444444,\"#bd3786\"],[0.5555555555555556,\"#d8576b\"],[0.6666666666666666,\"#ed7953\"],[0.7777777777777778,\"#fb9f3a\"],[0.8888888888888888,\"#fdca26\"],[1.0,\"#f0f921\"]],\"type\":\"surface\"}],\"table\":[{\"cells\":{\"fill\":{\"color\":\"#EBF0F8\"},\"line\":{\"color\":\"white\"}},\"header\":{\"fill\":{\"color\":\"#C8D4E3\"},\"line\":{\"color\":\"white\"}},\"type\":\"table\"}]},\"layout\":{\"annotationdefaults\":{\"arrowcolor\":\"#2a3f5f\",\"arrowhead\":0,\"arrowwidth\":1},\"autotypenumbers\":\"strict\",\"coloraxis\":{\"colorbar\":{\"outlinewidth\":0,\"ticks\":\"\"}},\"colorscale\":{\"diverging\":[[0,\"#8e0152\"],[0.1,\"#c51b7d\"],[0.2,\"#de77ae\"],[0.3,\"#f1b6da\"],[0.4,\"#fde0ef\"],[0.5,\"#f7f7f7\"],[0.6,\"#e6f5d0\"],[0.7,\"#b8e186\"],[0.8,\"#7fbc41\"],[0.9,\"#4d9221\"],[1,\"#276419\"]],\"sequential\":[[0.0,\"#0d0887\"],[0.1111111111111111,\"#46039f\"],[0.2222222222222222,\"#7201a8\"],[0.3333333333333333,\"#9c179e\"],[0.4444444444444444,\"#bd3786\"],[0.5555555555555556,\"#d8576b\"],[0.6666666666666666,\"#ed7953\"],[0.7777777777777778,\"#fb9f3a\"],[0.8888888888888888,\"#fdca26\"],[1.0,\"#f0f921\"]],\"sequentialminus\":[[0.0,\"#0d0887\"],[0.1111111111111111,\"#46039f\"],[0.2222222222222222,\"#7201a8\"],[0.3333333333333333,\"#9c179e\"],[0.4444444444444444,\"#bd3786\"],[0.5555555555555556,\"#d8576b\"],[0.6666666666666666,\"#ed7953\"],[0.7777777777777778,\"#fb9f3a\"],[0.8888888888888888,\"#fdca26\"],[1.0,\"#f0f921\"]]},\"colorway\":[\"#636efa\",\"#EF553B\",\"#00cc96\",\"#ab63fa\",\"#FFA15A\",\"#19d3f3\",\"#FF6692\",\"#B6E880\",\"#FF97FF\",\"#FECB52\"],\"font\":{\"color\":\"#2a3f5f\"},\"geo\":{\"bgcolor\":\"white\",\"lakecolor\":\"white\",\"landcolor\":\"#E5ECF6\",\"showlakes\":true,\"showland\":true,\"subunitcolor\":\"white\"},\"hoverlabel\":{\"align\":\"left\"},\"hovermode\":\"closest\",\"mapbox\":{\"style\":\"light\"},\"paper_bgcolor\":\"white\",\"plot_bgcolor\":\"#E5ECF6\",\"polar\":{\"angularaxis\":{\"gridcolor\":\"white\",\"linecolor\":\"white\",\"ticks\":\"\"},\"bgcolor\":\"#E5ECF6\",\"radialaxis\":{\"gridcolor\":\"white\",\"linecolor\":\"white\",\"ticks\":\"\"}},\"scene\":{\"xaxis\":{\"backgroundcolor\":\"#E5ECF6\",\"gridcolor\":\"white\",\"gridwidth\":2,\"linecolor\":\"white\",\"showbackground\":true,\"ticks\":\"\",\"zerolinecolor\":\"white\"},\"yaxis\":{\"backgroundcolor\":\"#E5ECF6\",\"gridcolor\":\"white\",\"gridwidth\":2,\"linecolor\":\"white\",\"showbackground\":true,\"ticks\":\"\",\"zerolinecolor\":\"white\"},\"zaxis\":{\"backgroundcolor\":\"#E5ECF6\",\"gridcolor\":\"white\",\"gridwidth\":2,\"linecolor\":\"white\",\"showbackground\":true,\"ticks\":\"\",\"zerolinecolor\":\"white\"}},\"shapedefaults\":{\"line\":{\"color\":\"#2a3f5f\"}},\"ternary\":{\"aaxis\":{\"gridcolor\":\"white\",\"linecolor\":\"white\",\"ticks\":\"\"},\"baxis\":{\"gridcolor\":\"white\",\"linecolor\":\"white\",\"ticks\":\"\"},\"bgcolor\":\"#E5ECF6\",\"caxis\":{\"gridcolor\":\"white\",\"linecolor\":\"white\",\"ticks\":\"\"}},\"title\":{\"x\":0.05},\"xaxis\":{\"automargin\":true,\"gridcolor\":\"white\",\"linecolor\":\"white\",\"ticks\":\"\",\"title\":{\"standoff\":15},\"zerolinecolor\":\"white\",\"zerolinewidth\":2},\"yaxis\":{\"automargin\":true,\"gridcolor\":\"white\",\"linecolor\":\"white\",\"ticks\":\"\",\"title\":{\"standoff\":15},\"zerolinecolor\":\"white\",\"zerolinewidth\":2}}},\"xaxis\":{\"anchor\":\"y\",\"domain\":[0.0,1.0],\"title\":{\"text\":\"Medalhas\"}},\"yaxis\":{\"anchor\":\"x\",\"domain\":[0.0,1.0],\"title\":{\"text\":\"Esportes\"},\"categoryorder\":\"array\",\"categoryarray\":[\"Sailing\",\"Football\",\"Volleyball\",\"Basketball\",\"Athletics\"]},\"legend\":{\"title\":{\"text\":\"Pa\\u00eds\"},\"tracegroupgap\":0},\"title\":{\"text\":\"Top5 do Top5\"},\"barmode\":\"relative\",\"height\":500,\"width\":1000},                        {\"responsive\": true}                    ).then(function(){\n",
       "                            \n",
       "var gd = document.getElementById('fbb3e4dd-d1e6-412c-a312-57e32b5b13fc');\n",
       "var x = new MutationObserver(function (mutations, observer) {{\n",
       "        var display = window.getComputedStyle(gd).display;\n",
       "        if (!display || display === 'none') {{\n",
       "            console.log([gd, 'removed!']);\n",
       "            Plotly.purge(gd);\n",
       "            observer.disconnect();\n",
       "        }}\n",
       "}});\n",
       "\n",
       "// Listen for the removal of the full notebook cells\n",
       "var notebookContainer = gd.closest('#notebook-container');\n",
       "if (notebookContainer) {{\n",
       "    x.observe(notebookContainer, {childList: true});\n",
       "}}\n",
       "\n",
       "// Listen for the clearing of the current output cell\n",
       "var outputEl = gd.closest('.output');\n",
       "if (outputEl) {{\n",
       "    x.observe(outputEl, {childList: true});\n",
       "}}\n",
       "\n",
       "                        })                };                });            </script>        </div>"
      ]
     },
     "metadata": {},
     "output_type": "display_data"
    }
   ],
   "source": [
    "fig = px.histogram(y='Sport', x=\"Medal\", data_frame=df_5_5, color='Team',\n",
    "                   text_auto=True, title = 'Top5 do Top5', color_discrete_map={'Brazil':'yellow'},\n",
    "                   category_orders={'Sport': ['Athletics','Basketball','Volleyball','Football','Sailing']},\n",
    "                  width=1000, height=500, orientation='h')\n",
    "\n",
    "fig.update_yaxes(title='Esportes')\n",
    "fig.update_xaxes(title='Medalhas')\n",
    "\n",
    "fig.update_layout(legend=dict(title='País'))\n",
    "\n",
    "fig.show()"
   ]
  },
  {
   "cell_type": "markdown",
   "id": "3affacc2",
   "metadata": {},
   "source": [
    "Conclusão: O Brasil ainda se coloca entre os Top 5 com 3 esportes, com boas pontuações, ficando em 5o lugar no Veleiro (?), 2o lugar em Volley e 1o Lugar no Futebol, como esperado. Vale pontuar que dois dos esportes que se tem mais medalhas no Brasil, não chegam a figurar entre os 5 melhores países no panorama mundial."
   ]
  },
  {
   "cell_type": "code",
   "execution_count": null,
   "id": "ccabaa70",
   "metadata": {},
   "outputs": [],
   "source": [
    "sns.set(rc={'figure.figsize':(12.7,6.27)})"
   ]
  }
 ],
 "metadata": {
  "colab": {
   "collapsed_sections": [],
   "name": "Projeto Final- Questão 1, 2 e 3.ipynb",
   "provenance": [
    {
     "file_id": "1-Kb_Gp-6d44C4dE3V_fncO5Zhcre91TR",
     "timestamp": 1644972512663
    }
   ]
  },
  "kernelspec": {
   "display_name": "Python 3 (ipykernel)",
   "language": "python",
   "name": "python3"
  },
  "language_info": {
   "codemirror_mode": {
    "name": "ipython",
    "version": 3
   },
   "file_extension": ".py",
   "mimetype": "text/x-python",
   "name": "python",
   "nbconvert_exporter": "python",
   "pygments_lexer": "ipython3",
   "version": "3.9.7"
  }
 },
 "nbformat": 4,
 "nbformat_minor": 5
}
