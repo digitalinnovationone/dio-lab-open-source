{
 "cells": [
  {
   "cell_type": "markdown",
   "id": "27db421d",
   "metadata": {},
   "source": [
    "### Aula 2: Exercícios\n",
    "\n",
    "Para estes exercícios, iremos utilizar duas bases:\n",
    "\n",
    "1) base fictícia de funcionários criada por cientistas de dados da IBM.\n",
    "\n",
    "**Variáveis:**\n",
    "- **Age:** Idade\n",
    "- **Attrition:** Se saiu da empresa (Sim ou não)\n",
    "- **BusinessTravel:** Frequência de viagens a trabalho\n",
    "- **DailyRate:** Custo do funcionário por dia\n",
    "- **Department:** Departamento\n",
    "- **DistanceFromHome:** Distância do trabalho até a casa do funcionário\n",
    "- **Education:** Nível de educação:\n",
    "    - 1: 'Below College'\n",
    "    - 2: 'College'\n",
    "    - 3: 'Bachelor'\n",
    "    - 4: 'Master'\n",
    "    - 5: 'Doctor'\n",
    "- **EducationField:** Área da educação\n",
    "- **EmployeeNumber:** ID do funcionário\n",
    "- **EnvironmentSatisfaction:** Satisfação com o ambiente de trabalho:\n",
    "    - 1: 'Low'\n",
    "    - 2: 'Medium'\n",
    "    - 3: 'High'\n",
    "    - 4: 'Very High'\n",
    "- **Gender:** Gênero\n",
    "- **HourlyRate:** Valor/hora\n",
    "- **JobInvolvement:** Nível de envolvimento com o trabalho (psicologica e emocionalmente):\n",
    "    - 1: 'Low'\n",
    "    - 2: 'Medium'\n",
    "    - 3: 'High'\n",
    "    - 4: 'Very High'\n",
    "- **JobLevel:** Nível do funcionário\n",
    "- **JobRole:** Cargo\n",
    "- **JobSatisfaction:** Nível de satisfação com o trabalho:\n",
    "    - 1: 'Low'\n",
    "    - 2: 'Medium'\n",
    "    - 3: 'High'\n",
    "    - 4: 'Very High'\n",
    "- **MaritalStatus:** Estado Civil\n",
    "- **NumCompaniesWorked:** Número de empresas que já trabalhou\n",
    "- **PercentSalaryHike:** Aumento salarial (%)\n",
    "- **PerformanceRating:** Nível de performance:\n",
    "    - 1: 'Low'\n",
    "    - 2: 'Good'\n",
    "    - 3: 'Excellent'\n",
    "    - 4: 'Outstanding'\n",
    "- **RelationshipSatisfaction:** Satisfação de relacionamento:\n",
    "    - 1: 'Low'\n",
    "    - 2: 'Medium'\n",
    "    - 3: 'High'\n",
    "    - 4: 'Very High'\n",
    "- **TotalWorkingYears:** Número de anos trabalhados\n",
    "- **TrainingTimesLastYear:** Número de treinamentos no ano anterior\n",
    "- **WorkLifeBalance:** Equilíbrio da vida profissional\n",
    "    - 1: 'Bad'\n",
    "    - 2: 'Good'\n",
    "    - 3: 'Better'\n",
    "    - 4: 'Best'\n",
    "- **YearsAtCompany:** Anos na empresa\n",
    "- **YearsInCurrentRole:** Anos na posição atual\n",
    "- **YearsSinceLastPromotion:** Anos desde a última promoção\n",
    "- **YearsWithCurrManager:** Anos com o mesmo gestor\n",
    "\n",
    "2) Base de dados de casos e óbitos de covid no estado de SP.\n",
    "\n",
    "- **nome_munic:** Nome do município\n",
    "- **codigo_ibge:** Código do município no IBGE (7 dígitos)\n",
    "- **casos_novos:** Casos novos registrados na data\n",
    "- **obitos_novos:** Óbitos novos registrados na data\n",
    "- **nome_drs:** Nome do Dpto. Regional de Saúde\n",
    "- **cod_drs:** Código do Dpto. Regional de Saúde\n",
    "- **pop:** População Estimada (fonte: SEADE)\n",
    "- **pop60:** População acima de 60 anos (fonte: SEADE)\n",
    "- **ano_mes:** Ano e mês dos dados"
   ]
  },
  {
   "cell_type": "code",
   "execution_count": 1,
   "id": "cc8717bc",
   "metadata": {},
   "outputs": [],
   "source": [
    "import pandas as pd\n",
    "import numpy as np"
   ]
  },
  {
   "cell_type": "code",
   "execution_count": 2,
   "id": "cd39ba13",
   "metadata": {},
   "outputs": [],
   "source": [
    "df1 = pd.read_csv('./data/IBM_Employees.csv')"
   ]
  },
  {
   "cell_type": "code",
   "execution_count": 9,
   "id": "0a4730cc",
   "metadata": {},
   "outputs": [],
   "source": [
    "df2 = pd.read_csv('./data/dados_covid_sp_20.csv')"
   ]
  },
  {
   "cell_type": "markdown",
   "id": "272987e1",
   "metadata": {},
   "source": [
    "## Exercício 1:\n",
    "Utilizando a base de dados de covid:\n",
    "\n",
    "**a)** Faça um gráfico de barras mostrando o total de óbitos (considerando todos os meses) para todos os DRS, excluindo a Grande São Paulo. Coloque título no gráfico e nos eixos, defina um tamanho de imagem bom e intercale as barras com as cores 'red' e 'green'."
   ]
  },
  {
   "cell_type": "code",
   "execution_count": null,
   "id": "db992733",
   "metadata": {},
   "outputs": [],
   "source": []
  },
  {
   "cell_type": "markdown",
   "id": "5889d8f5",
   "metadata": {},
   "source": [
    "**b)**  Faça um gráfico de barras horizontal mostrando o total de óbitos no mês de abril para 3 DRS da sua escolha. Coloque título no gráfico e nos eixos, defina um tamanho de imagem bom."
   ]
  },
  {
   "cell_type": "code",
   "execution_count": null,
   "id": "10d0f677",
   "metadata": {},
   "outputs": [],
   "source": []
  },
  {
   "cell_type": "markdown",
   "id": "cdcbe7ac",
   "metadata": {},
   "source": [
    "## Exercício 2\n",
    "\n",
    "**a)** Utilizando a base de dados da IBM, crie um histograma para as idades dos funcionários, separando por gênero."
   ]
  },
  {
   "cell_type": "code",
   "execution_count": null,
   "id": "71c2fb1a",
   "metadata": {},
   "outputs": [],
   "source": []
  },
  {
   "cell_type": "markdown",
   "id": "8c9a5551",
   "metadata": {},
   "source": [
    "**b)** Faça agora um boxplot das idades, por gênero."
   ]
  },
  {
   "cell_type": "code",
   "execution_count": null,
   "id": "19ebc888",
   "metadata": {},
   "outputs": [],
   "source": []
  }
 ],
 "metadata": {
  "kernelspec": {
   "display_name": "Python 3",
   "language": "python",
   "name": "python3"
  },
  "language_info": {
   "codemirror_mode": {
    "name": "ipython",
    "version": 3
   },
   "file_extension": ".py",
   "mimetype": "text/x-python",
   "name": "python",
   "nbconvert_exporter": "python",
   "pygments_lexer": "ipython3",
   "version": "3.7.4"
  }
 },
 "nbformat": 4,
 "nbformat_minor": 5
}
