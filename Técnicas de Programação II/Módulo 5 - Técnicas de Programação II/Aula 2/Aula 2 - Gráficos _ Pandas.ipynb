{
 "cells": [
  {
   "cell_type": "markdown",
   "id": "babe7e78",
   "metadata": {},
   "source": [
    "# Módulo 5 - Técnicas de Programação II\n",
    "\n",
    "## Introdução\n",
    "\n",
    "Gráficos são representações visuais dos dados, que buscam facilitar o entendimento dos mesmos. Podem ser muito úteis na identificação de variáveis importantes para uma modelagem ou tomada de decisão.\n",
    "\n",
    "\n",
    "**Tipos de gráficos mais usuais:**\n",
    "- **Scatter plot (ou gráfico de dispersão):**\n",
    "Dadas duas variáveis X e Y, cada observação (par de valores (x,y)) é representado por um ponto no gráfico. Na imagem abaixo, uma observação (x,y) = (4,5) é representada pelo X vermelho.\n",
    "<img src=\"./images/img_scatterplot_editada.png\" alt=\"Drawing\" style=\"width: 500px;\"/>\n",
    "\n",
    "- **Gráfico de linhas:**\n",
    "O gráfico de linhas é muito utilizado quando estamos querendo encontrar tendências de um conjunto de variáveis. No geral, a variável alocada no eixo horizontal representa categorias ordinais, geralmente temporais (como por exemplo: meses, anos, dias, semanas, lotes em ordem de fabricação etc). Para construí-lo, primeiro aplica-se um gráfico de dispersão dessas variáveis, e depois unem-se os pontos por linhas, como mostra a imagem abaixo. Podemos imaginar que cada categoria é um lote de produção de uma mercadoria (em que o lote 1 foi produzido antes do lote 2, e assim por diante), e no eixo vertical, têm se a quantidade vendida de cada lote. Ainda, há 3 séries representadas por cores, que podem representar, por exemplo, três clientes diferentes que adquiriram as mercadorias.\n",
    "<img src=\"./images/grafico_linhas.jpg\" alt=\"Drawing\" style=\"width: 500px;\"/>\n",
    "\n",
    "- **Gráfico de pizza/Pie plot (ou gráfico de setores):**\n",
    "Este gráfico tem como objetivo representar um valor relativo de cada categoria em relação a um todo. Exemplo: de todo o lucro de uma empresa revendedora de aparelhos celular, quantos porcento são relativos a cada marca de produto comercializado.\n",
    "<img src=\"./images/grafico_pizza.png\" alt=\"Drawing\" style=\"width: 400px;\"/>\n",
    "\n",
    "- **Gráfico de barras (horizontal e vertical):**\n",
    "Um gráfico de barras é uma forma de visualização de dados categóricos, em que cada categoria é representada por uma barra, cujo tamanho representa sua frequência/quantidade de observações. Pode ser representado de forma vertical (conhecido também como gráfico de colunas) ou de forma horizontal (em que o gráfico parece \"deitado\". No exemplo abaixo, o mesmo conjunto de dados é representado das duas formas. \n",
    "\n",
    "Observação: Aqui, os valores \"1\", \"2\" e \"3\" das barras representam categorias, e não uma variável contínua.\n",
    "<img src=\"./images/grafico_barras.png\" alt=\"Drawing\" style=\"width: 500px;\"/>\n",
    "\n",
    "- **Histograma:** \n",
    "Um histograma é muito parecido com um gráfico de barras, e possui a mesma ideia: cada coluna representa uma frequência/quantidade. Entretanto, o eixo horizontal deste tipo de gráfico é uma variável contínua, e a ideia é observar a distribuição das observações desta variável. Exemplos de perguntas que podemos estar tentando responder ao analisar esse tipo de gráfico, são: \"quais são os valores mais frequentes nessa variável contínua?\" e \"Qual a probabilidade de uma nova observação ter determinado valor?\"\n",
    "\n",
    "Para se construir as barras deste gráfico, a variável contínua é agrupada em intervalos, e o tamanho da barra representa o número de observações que possuem valores dentro deste intervalo. É comum encontrar histogramas com um traço linear ligando o topo dessas barras pelo meio, de forma a facilitar a identificação de uma distribuição estatística.\n",
    "<img src=\"./images/histograma.png\" alt=\"Drawing\" style=\"width: 500px;\"/>\n",
    "\n",
    "- **Box-Plot:**\n",
    "Os box-plot, assim como os histogramas, são gráficos estatísticos que permitem analisar uma distribuição dos dados, mas com uma representação diferente. Apesar de muito utilizados por estatísticos e cientistas de dados, a maioria das pessoas que não estão acostumadas a eles, têm dificuldade em interpretá-los. \n",
    "\n",
    "A representação do box-plot se baseia em medidas de quartis: uma caixinha central é desenhada ligando o primeiro (Q1) e terceiro (Q3) quartis (25% e 75%, respectivamente), e uma reta corta essa 'caixa' no quartil central (Q2 = 50%). Na parte inferior e superior do gráfico, é traçada uma reta de tamanho máximo 1.5xIQ, em que IQ = Q3-Q1. Essa reta é traçada até o último valor da variável que ainda esteja dentro desse limite. Observações acima ou abaixo dele, são representadas por bolinhas, e muito chamadas de 'outliers' (valor atípico). Abaixo, uma representação dos componentes de um box-plot, e um gráfico exibindo box-plots das distribuições de temperaturas de diferentes cidades.\n",
    "<img src=\"./images/boxplot2.png\" alt=\"Drawing\" style=\"width: 500px;\"/>\n",
    "<img src=\"./images/boxplot.png\" alt=\"Drawing\" style=\"width: 500px;\"/>"
   ]
  },
  {
   "cell_type": "markdown",
   "id": "2ad3987c",
   "metadata": {},
   "source": [
    "## Gráficos com pandas\n",
    "\n",
    "A biblioteca pandas, que estudamos no módulo 4, permite realizar alguns gráficos simples, baseados na biblioteca matplotlib. Vamos aprender a aplicá-los utilizando a base de dados do titanic como exemplo.  \n",
    "\n",
    "**Documentação:** https://pandas.pydata.org/docs/reference/api/pandas.DataFrame.plot.html"
   ]
  },
  {
   "cell_type": "code",
   "execution_count": null,
   "id": "1c2a1f22",
   "metadata": {},
   "outputs": [],
   "source": [
    "import pandas as pd\n",
    "import numpy as np\n",
    "import matplotlib.pyplot as plt\n",
    "\n",
    "df = pd.read_csv('./data/titanic.csv')"
   ]
  },
  {
   "cell_type": "markdown",
   "id": "6da71f30",
   "metadata": {},
   "source": [
    "## Gráfico de barras"
   ]
  },
  {
   "cell_type": "code",
   "execution_count": null,
   "id": "5946fae9",
   "metadata": {},
   "outputs": [],
   "source": []
  },
  {
   "cell_type": "markdown",
   "id": "f67810df",
   "metadata": {},
   "source": [
    "## Histograma"
   ]
  },
  {
   "cell_type": "code",
   "execution_count": null,
   "id": "535b3585",
   "metadata": {},
   "outputs": [],
   "source": []
  },
  {
   "cell_type": "markdown",
   "id": "6ded35c4",
   "metadata": {},
   "source": [
    "## Box-plot"
   ]
  },
  {
   "cell_type": "code",
   "execution_count": null,
   "id": "e0624434",
   "metadata": {},
   "outputs": [],
   "source": []
  }
 ],
 "metadata": {
  "kernelspec": {
   "display_name": "Python 3",
   "language": "python",
   "name": "python3"
  },
  "language_info": {
   "codemirror_mode": {
    "name": "ipython",
    "version": 3
   },
   "file_extension": ".py",
   "mimetype": "text/x-python",
   "name": "python",
   "nbconvert_exporter": "python",
   "pygments_lexer": "ipython3",
   "version": "3.7.4"
  }
 },
 "nbformat": 4,
 "nbformat_minor": 5
}
