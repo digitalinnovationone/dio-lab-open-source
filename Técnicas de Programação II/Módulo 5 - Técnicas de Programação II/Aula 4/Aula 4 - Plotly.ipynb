{
 "cells": [
  {
   "cell_type": "markdown",
   "metadata": {},
   "source": [
    "# Módulo 5 - Técnicas de Programação II\n",
    "# Aula 4 - Plotly\n",
    "\n",
    "*Observação:* Aula criada utilizando a versão 5.6.0 da biblioteca"
   ]
  },
  {
   "cell_type": "markdown",
   "metadata": {
    "id": "evsi0Lz0G7HF"
   },
   "source": [
    "**Plotly** é uma ferramenta/biblioteca poderosíssima para a criação de gráficos, principalmente gráficos dinâmicos. Ele suporta mais de 40 tipos de gráficos que são utilizados nas mais diversas áreas como: estatística, financeira, geográfica, científica, etc."
   ]
  },
  {
   "cell_type": "markdown",
   "metadata": {
    "id": "R3e2KOVJG7HK"
   },
   "source": [
    "## Instalação\n",
    "\n",
    "Para começar, o Plotly não é uma biblioteca padrão do python e também não vem junto com o anaconda. Por isso, precisamos realizar a instalação dessa biblioteca. Para isso, execute **UM DOS** seguintes comandos:\n",
    "\n",
    "- \n",
    "```bash\n",
    "! pip install plotly\n",
    "```\n",
    "- \n",
    "```bash\n",
    "! pip install plotly --upgrade --user \n",
    "```"
   ]
  },
  {
   "cell_type": "markdown",
   "metadata": {
    "id": "WSFgKQoNG7HM"
   },
   "source": [
    "## Antes de começar:\n",
    "\n",
    "Ouviremos muito falar de duas interfaces diferentes de visualização de gráficos dentro do plotly:\n",
    "\n",
    "- plotly.express: muito usado junto com DataFrames (https://plotly.com/python/plotly-express/)\n",
    "- plotly.graph_objects: usado para casos em que queremos customizar mais os gráficos\n",
    "\n",
    "Nessa aula, por ser um primeiro contato, focaremos no plotly.express."
   ]
  },
  {
   "cell_type": "code",
   "execution_count": 119,
   "metadata": {
    "ExecuteTime": {
     "end_time": "2021-10-20T23:57:41.478703Z",
     "start_time": "2021-10-20T23:57:40.657414Z"
    },
    "id": "1d8FLvOTG7HP"
   },
   "outputs": [],
   "source": [
    "import plotly.express as px\n",
    "import pandas as pd\n",
    "import numpy as np"
   ]
  },
  {
   "cell_type": "code",
   "execution_count": 31,
   "metadata": {},
   "outputs": [],
   "source": [
    "df = pd.read_csv('./data/titanic.csv')"
   ]
  },
  {
   "cell_type": "code",
   "execution_count": null,
   "metadata": {},
   "outputs": [],
   "source": []
  },
  {
   "cell_type": "markdown",
   "metadata": {
    "id": "-Ysjkt-rG7HV"
   },
   "source": [
    "### Scatter plot\n",
    "\n",
    "Comando básico: ```px.scatter()```\n",
    "\n",
    "Podemos passar diretamente nossas listas/Series, mas também temos a opção de passar um DataFrame e selecionar as colunas apenas pelos nomes.\n",
    "\n",
    "Alguns parâmetros importantes:\n",
    "\n",
    "- **data_frame (opcional):** dataframe onde estão suas colunas de interesse;\n",
    "- **x:** dados que usaremos para formar o eixo x;\n",
    "- **y:** dados que usaremos para formar o eixo y;\n",
    "- **height** e **width:** definem o tamanho do seu gráfico;\n",
    "- **color_discrete_sequence:** Lista contendo as cores para os seus pontos (mas também podemos mudar pelo update_traces);\n",
    "- **title:** define o título do seu gráfico;"
   ]
  },
  {
   "cell_type": "code",
   "execution_count": null,
   "metadata": {},
   "outputs": [],
   "source": []
  },
  {
   "cell_type": "markdown",
   "metadata": {},
   "source": [
    "Editando as figuras no plotly.express: https://plotly.com/python/styling-plotly-express/\n",
    "\n",
    "Editando marcadores: https://plotly.com/python/marker-style/"
   ]
  },
  {
   "cell_type": "code",
   "execution_count": null,
   "metadata": {},
   "outputs": [],
   "source": []
  },
  {
   "cell_type": "markdown",
   "metadata": {
    "id": "fJeFxomtG7Ha"
   },
   "source": [
    "### Line chart\n",
    "\n",
    "Comando básico: ```px.line()```\n",
    "\n",
    "Podemos passar diretamente nossas listas/Series, mas também temos a opção de passar um DataFrame e selecionar as colunas apenas pelos nomes.\n",
    "\n",
    "Alguns parâmetros importantes:\n",
    "\n",
    "- **data_frame (opcional):** dataframe onde estão suas colunas de interesse;\n",
    "- **x:** dados que usaremos para formar o eixo x;\n",
    "- **y:** dados que usaremos para formar o eixo y;\n",
    "- **height** e **width:** definem o tamanho do seu gráfico;\n",
    "- **markers:** flag que indica a presença ou não dos marcadores em cima dos seus pontos;\n",
    "- **color_discrete_sequence:** Lista contendo as cores para os seus pontos (mas também podemos mudar pelo update_traces);\n",
    "- **title:** define o título do seu gráfico;"
   ]
  },
  {
   "cell_type": "code",
   "execution_count": null,
   "metadata": {},
   "outputs": [],
   "source": []
  },
  {
   "cell_type": "markdown",
   "metadata": {},
   "source": [
    "### Pie chart\n",
    "\n",
    "https://plotly.com/python/pie-charts/\n",
    "\n",
    "Comando básico: ```px.pie()```\n",
    "\n",
    "Podemos passar diretamente nossas listas/Series, mas também temos a opção de passar um DataFrame e selecionar as colunas apenas pelos nomes.\n",
    "\n",
    "Alguns parâmetros importantes:\n",
    "\n",
    "- **data_frame (opcional):** dataframe onde estão suas colunas de interesse;\n",
    "- **values:** coluna ou lista em que nossos dados serão agrupados, efetuado a contagem;\n",
    "- **names:** representa a coluna que \"classifica\" nossos dados, ou seja, os grupos;\n",
    "- **height** e **width:** definem o tamanho do seu gráfico;\n",
    "- **title:** define o título do seu gráfico;\n",
    "- **hole:** permite que façamos um gráfico de rosquinha."
   ]
  },
  {
   "cell_type": "code",
   "execution_count": null,
   "metadata": {},
   "outputs": [],
   "source": []
  },
  {
   "cell_type": "markdown",
   "metadata": {
    "id": "P1sQgdYnG7Hc"
   },
   "source": [
    "### Bar chart e Horizontal Bar chart\n",
    "\n",
    "https://plotly.com/python/bar-charts/\n",
    "\n",
    "Comando básico: ```px.bar()```\n",
    "\n",
    "Podemos passar diretamente nossas listas/Series, mas também temos a opção de passar um DataFrame e selecionar as colunas apenas pelos nomes.\n",
    "\n",
    "Alguns parâmetros importantes:\n",
    "\n",
    "- **data_frame (opcional):** dataframe onde estão suas colunas de interesse;\n",
    "- **x:** dados que usaremos para formar o eixo x;\n",
    "- **y:** dados que usaremos para formar o eixo y;\n",
    "- **height** e **width:** definem o tamanho do seu gráfico;\n",
    "- **orientation:** define se é uma gráfico de colunas ou de linhas;\n",
    "- **title:** define o título do seu gráfico;"
   ]
  },
  {
   "cell_type": "code",
   "execution_count": null,
   "metadata": {},
   "outputs": [],
   "source": []
  },
  {
   "cell_type": "markdown",
   "metadata": {},
   "source": [
    "### Histogram\n",
    "\n",
    "https://plotly.com/python/histograms/\n",
    "\n",
    "Comando básico: ```px.histogram()```\n",
    "\n",
    "Podemos passar diretamente nossas listas/Series, mas também temos a opção de passar um DataFrame e selecionar as colunas apenas pelos nomes.\n",
    "\n",
    "Alguns parâmetros importantes:\n",
    "\n",
    "- **data_frame (opcional):** dataframe onde estão suas colunas de interesse;\n",
    "- **x:** dados que usaremos para formar o eixo x, onde será feita a contagem;\n",
    "- **height** e **width:** definem o tamanho do seu gráfico;\n",
    "- **color:** podemos observar também quanto cada grupo da coluna que passarmos aqui representa na contagem;\n",
    "- **title:** define o título do seu gráfico;\n",
    "- **histnorm:** permite que, ao invés do valor bruto de contagem, possamos ver de outras formas: como percentual, probabilidade, etc.\n",
    "- **nbins:** quantidade de divisões no nosso histograma."
   ]
  },
  {
   "cell_type": "code",
   "execution_count": null,
   "metadata": {},
   "outputs": [],
   "source": []
  },
  {
   "cell_type": "markdown",
   "metadata": {
    "id": "DPhEFO1xG7Hk"
   },
   "source": [
    "### Box Plot\n",
    "\n",
    "https://plotly.com/python/box-plots/\n",
    "\n",
    "Comando básico: ```px.box()```\n",
    "\n",
    "Podemos passar diretamente nossas listas/Series, mas também temos a opção de passar um DataFrame e selecionar as colunas apenas pelos nomes.\n",
    "\n",
    "Alguns parâmetros importantes:\n",
    "\n",
    "- **data_frame (opcional):** dataframe onde estão suas colunas de interesse;\n",
    "- **x (opcional):** dados que usaremos para formar o eixo x;\n",
    "- **y:** dados que usaremos para formar o eixo y;\n",
    "- **height** e **width:** definem o tamanho do seu gráfico;\n",
    "- **color:** lista ou Series que será usada para mapear cada boxplot para uma cor;\n",
    "- **title:** define o título do seu gráfico;"
   ]
  },
  {
   "cell_type": "code",
   "execution_count": null,
   "metadata": {},
   "outputs": [],
   "source": []
  }
 ],
 "metadata": {
  "colab": {
   "name": "Aula_Plotly.ipynb",
   "provenance": []
  },
  "kernelspec": {
   "display_name": "Python 3",
   "language": "python",
   "name": "python3"
  },
  "language_info": {
   "codemirror_mode": {
    "name": "ipython",
    "version": 3
   },
   "file_extension": ".py",
   "mimetype": "text/x-python",
   "name": "python",
   "nbconvert_exporter": "python",
   "pygments_lexer": "ipython3",
   "version": "3.7.4"
  }
 },
 "nbformat": 4,
 "nbformat_minor": 1
}
