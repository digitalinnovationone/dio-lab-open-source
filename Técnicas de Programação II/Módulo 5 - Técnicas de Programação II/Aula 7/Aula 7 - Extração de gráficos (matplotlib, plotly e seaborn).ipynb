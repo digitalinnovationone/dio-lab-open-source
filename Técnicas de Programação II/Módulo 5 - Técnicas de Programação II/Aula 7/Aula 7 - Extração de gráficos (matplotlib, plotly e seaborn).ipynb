{
 "cells": [
  {
   "cell_type": "markdown",
   "id": "ea6b59ab",
   "metadata": {},
   "source": [
    "# Módulo 5 - Técnicas de programação II\n",
    "\n",
    "## Aula 7 - Extração de gráficos (matplotlib, plotly e seaborn)"
   ]
  },
  {
   "cell_type": "code",
   "execution_count": 1,
   "id": "c44b6308",
   "metadata": {},
   "outputs": [],
   "source": [
    "import pandas as pd\n",
    "import numpy as np\n",
    "\n",
    "df = pd.read_csv('./data/titanic.csv')"
   ]
  },
  {
   "cell_type": "markdown",
   "id": "66f527ef",
   "metadata": {},
   "source": [
    "**1.** Matplotlib - savefig (https://matplotlib.org/stable/api/_as_gen/matplotlib.pyplot.savefig.html) "
   ]
  },
  {
   "cell_type": "code",
   "execution_count": null,
   "id": "a50f5e30",
   "metadata": {},
   "outputs": [],
   "source": []
  },
  {
   "cell_type": "markdown",
   "id": "bb6a17fb",
   "metadata": {},
   "source": [
    "**2.** plotly \n",
    "- write_image (https://plotly.com/python/static-image-export/)\n",
    "- write_html (https://plotly.com/python/interactive-html-export/)\n",
    "\n",
    "Para salvar imagens estáticas, será necessário instalar a lib kaleido\n",
    "```!pip install -U kaleido``` e reiniciar o kernel"
   ]
  },
  {
   "cell_type": "code",
   "execution_count": null,
   "id": "3c04143b",
   "metadata": {},
   "outputs": [],
   "source": []
  },
  {
   "cell_type": "markdown",
   "id": "9761ab75",
   "metadata": {},
   "source": [
    "**3.** Seaborn "
   ]
  },
  {
   "cell_type": "code",
   "execution_count": null,
   "id": "6a5124af",
   "metadata": {},
   "outputs": [],
   "source": []
  }
 ],
 "metadata": {
  "kernelspec": {
   "display_name": "Python 3",
   "language": "python",
   "name": "python3"
  },
  "language_info": {
   "codemirror_mode": {
    "name": "ipython",
    "version": 3
   },
   "file_extension": ".py",
   "mimetype": "text/x-python",
   "name": "python",
   "nbconvert_exporter": "python",
   "pygments_lexer": "ipython3",
   "version": "3.7.4"
  }
 },
 "nbformat": 4,
 "nbformat_minor": 5
}
