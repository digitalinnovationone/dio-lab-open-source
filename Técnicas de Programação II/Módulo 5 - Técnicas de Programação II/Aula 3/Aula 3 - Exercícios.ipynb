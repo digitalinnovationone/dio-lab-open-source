{
 "cells": [
  {
   "cell_type": "markdown",
   "id": "76122e75",
   "metadata": {},
   "source": [
    "### Aula 1: Exercícios\n",
    "\n",
    "Para estes exercícios, iremos utilizar duas bases:\n",
    "\n",
    "1) base fictícia de funcionários criada por cientistas de dados da IBM.\n",
    "\n",
    "**Variáveis:**\n",
    "- **Age:** Idade\n",
    "- **Attrition:** Se saiu da empresa (Sim ou não)\n",
    "- **BusinessTravel:** Frequência de viagens a trabalho\n",
    "- **DailyRate:** Custo do funcionário por dia\n",
    "- **Department:** Departamento\n",
    "- **DistanceFromHome:** Distância do trabalho até a casa do funcionário\n",
    "- **Education:** Nível de educação:\n",
    "    - 1: 'Below College'\n",
    "    - 2: 'College'\n",
    "    - 3: 'Bachelor'\n",
    "    - 4: 'Master'\n",
    "    - 5: 'Doctor'\n",
    "- **EducationField:** Área da educação\n",
    "- **EmployeeNumber:** ID do funcionário\n",
    "- **EnvironmentSatisfaction:** Satisfação com o ambiente de trabalho:\n",
    "    - 1: 'Low'\n",
    "    - 2: 'Medium'\n",
    "    - 3: 'High'\n",
    "    - 4: 'Very High'\n",
    "- **Gender:** Gênero\n",
    "- **HourlyRate:** Valor/hora\n",
    "- **JobInvolvement:** Nível de envolvimento com o trabalho (psicologica e emocionalmente):\n",
    "    - 1: 'Low'\n",
    "    - 2: 'Medium'\n",
    "    - 3: 'High'\n",
    "    - 4: 'Very High'\n",
    "- **JobLevel:** Nível do funcionário\n",
    "- **JobRole:** Cargo\n",
    "- **JobSatisfaction:** Nível de satisfação com o trabalho:\n",
    "    - 1: 'Low'\n",
    "    - 2: 'Medium'\n",
    "    - 3: 'High'\n",
    "    - 4: 'Very High'\n",
    "- **MaritalStatus:** Estado Civil\n",
    "- **NumCompaniesWorked:** Número de empresas que já trabalhou\n",
    "- **PercentSalaryHike:** Aumento salarial (%)\n",
    "- **PerformanceRating:** Nível de performance:\n",
    "    - 1: 'Low'\n",
    "    - 2: 'Good'\n",
    "    - 3: 'Excellent'\n",
    "    - 4: 'Outstanding'\n",
    "- **RelationshipSatisfaction:** Satisfação de relacionamento:\n",
    "    - 1: 'Low'\n",
    "    - 2: 'Medium'\n",
    "    - 3: 'High'\n",
    "    - 4: 'Very High'\n",
    "- **TotalWorkingYears:** Número de anos trabalhados\n",
    "- **TrainingTimesLastYear:** Número de treinamentos no ano anterior\n",
    "- **WorkLifeBalance:** Equilíbrio da vida profissional\n",
    "    - 1: 'Bad'\n",
    "    - 2: 'Good'\n",
    "    - 3: 'Better'\n",
    "    - 4: 'Best'\n",
    "- **YearsAtCompany:** Anos na empresa\n",
    "- **YearsInCurrentRole:** Anos na posição atual\n",
    "- **YearsSinceLastPromotion:** Anos desde a última promoção\n",
    "- **YearsWithCurrManager:** Anos com o mesmo gestor\n",
    "\n",
    "2) Base de dados de casos e óbitos de covid no estado de SP.\n",
    "\n",
    "- **nome_munic:** Nome do município\n",
    "- **codigo_ibge:** Código do município no IBGE (7 dígitos)\n",
    "- **casos_novos:** Casos novos registrados na data\n",
    "- **obitos_novos:** Óbitos novos registrados na data\n",
    "- **nome_drs:** Nome do Dpto. Regional de Saúde\n",
    "- **cod_drs:** Código do Dpto. Regional de Saúde\n",
    "- **pop:** População Estimada (fonte: SEADE)\n",
    "- **pop60:** População acima de 60 anos (fonte: SEADE)\n",
    "- **ano_mes:** Ano e mês dos dados"
   ]
  },
  {
   "cell_type": "code",
   "execution_count": 4,
   "id": "4bfd8e6e",
   "metadata": {},
   "outputs": [],
   "source": [
    "import pandas as pd\n",
    "import numpy as np\n",
    "import matplotlib.pyplot as plt"
   ]
  },
  {
   "cell_type": "code",
   "execution_count": 2,
   "id": "103963b2",
   "metadata": {},
   "outputs": [],
   "source": [
    "df1 = pd.read_csv('./data/IBM_Employees.csv')"
   ]
  },
  {
   "cell_type": "code",
   "execution_count": 3,
   "id": "94b436ae",
   "metadata": {},
   "outputs": [],
   "source": [
    "df2 = pd.read_csv('./data/dados_covid_sp_20.csv')"
   ]
  },
  {
   "cell_type": "markdown",
   "id": "a79c5ed6",
   "metadata": {},
   "source": [
    "## Exercício 1:\n",
    "Utilizando a base de dados da IBM e a biblioteca matplotlib:\n",
    "\n",
    "**a)** Faça um gráfico de dispersão (scatter plot) de tamanho (10,5), com a variável *YearsAtCompany* no eixo X e a variável *DailyRate* no eixo Y. Coloque o título \"YearsAtCompany x DailyRate\" na cor azul e com uma letra diferente da usual."
   ]
  },
  {
   "cell_type": "code",
   "execution_count": null,
   "id": "f365e1c4",
   "metadata": {},
   "outputs": [],
   "source": []
  },
  {
   "cell_type": "markdown",
   "id": "81e98db3",
   "metadata": {},
   "source": [
    "**b)** Repita o gráfico do item a, identificando as observações do gênero feminino com a cor vermelha e do gênero masculino com a cor verde. Não esqueça de inserir legenda para as cores."
   ]
  },
  {
   "cell_type": "code",
   "execution_count": null,
   "id": "763a11f6",
   "metadata": {},
   "outputs": [],
   "source": []
  },
  {
   "cell_type": "markdown",
   "id": "3f013395",
   "metadata": {},
   "source": [
    "**c)** Repita o gráfico do item a, porém agora identificando os funcionários pela variável 'JobSatisfaction', \n",
    "utilizando a seguinte escala de cores:\n",
    "- cor: '#FFE4E1' para 'Low' \n",
    "- cor: '#FFB6C1' para 'Medium' \n",
    "- cor: '#FF69B4' para 'High' \n",
    "- cor: '#C71585' para 'Very High' "
   ]
  },
  {
   "cell_type": "code",
   "execution_count": null,
   "id": "9d2be24d",
   "metadata": {},
   "outputs": [],
   "source": []
  },
  {
   "cell_type": "markdown",
   "id": "db2121bc",
   "metadata": {},
   "source": [
    "## Exercício 2\n",
    "\n",
    "**a)** Utilizando a base de dados de covid e a biblioteca matplotlib, crie um gráfico de linhas mostrando a evolução do número de casos novos mês a mês, para as DRS 'Grande São Paulo', 'São José do Rio Preto' e 'Marília'. Identifique os DRS por cores e legenda. Não esqueça de colocar título para o gráfico e para os eixos. "
   ]
  },
  {
   "cell_type": "code",
   "execution_count": null,
   "id": "706a5a75",
   "metadata": {},
   "outputs": [],
   "source": []
  },
  {
   "cell_type": "markdown",
   "id": "f984809d",
   "metadata": {},
   "source": [
    "**b)** Repita o gráfico do item a trocando as cores dos DRS."
   ]
  },
  {
   "cell_type": "code",
   "execution_count": null,
   "id": "1f19fd62",
   "metadata": {},
   "outputs": [],
   "source": []
  },
  {
   "cell_type": "markdown",
   "id": "dd44949c",
   "metadata": {},
   "source": [
    "**c)** Considerando apenas os DRS 'Bauru', 'São José do Rio Preto' e 'Marília', faça três gráficos de pizza, para os meses de abril, maio e junho, mostrando a porcentagem de novos óbitos em cada DRS."
   ]
  },
  {
   "cell_type": "code",
   "execution_count": null,
   "id": "0f7eea50",
   "metadata": {},
   "outputs": [],
   "source": []
  },
  {
   "cell_type": "markdown",
   "id": "a46ba988",
   "metadata": {},
   "source": [
    "## Exercício 3:\n",
    "Utilizando a base de dados de covid e a biblioteca matplotlib:\n",
    "\n",
    "**a)** Faça um gráfico de barras mostrando o total de óbitos (considerando todos os meses) para todos os DRS, excluindo a Grande São Paulo. Coloque título no gráfico e nos eixos, defina um tamanho de imagem bom e intercale as barras com as cores 'red' e 'green'."
   ]
  },
  {
   "cell_type": "code",
   "execution_count": null,
   "id": "74979672",
   "metadata": {},
   "outputs": [],
   "source": []
  },
  {
   "cell_type": "markdown",
   "id": "e4e201a4",
   "metadata": {},
   "source": [
    "**b)**  Faça um gráfico de barras horizontal mostrando o total de óbitos no mês de abril para 3 DRS da sua escolha. Coloque título no gráfico e nos eixos, defina um tamanho de imagem bom."
   ]
  },
  {
   "cell_type": "code",
   "execution_count": null,
   "id": "b847001d",
   "metadata": {},
   "outputs": [],
   "source": []
  },
  {
   "cell_type": "markdown",
   "id": "d59cb7c9",
   "metadata": {},
   "source": [
    "## Exercício 4:\n",
    "\n",
    "**a)** Utilizando a base de dados da IBM e a biblioteca matplotlib, crie um histograma para as idades dos funcionários, separando por gênero."
   ]
  },
  {
   "cell_type": "code",
   "execution_count": null,
   "id": "79ff36e7",
   "metadata": {},
   "outputs": [],
   "source": []
  },
  {
   "cell_type": "markdown",
   "id": "fbdae1d7",
   "metadata": {},
   "source": [
    "**b)** Faça agora um boxplot das idades, por gênero."
   ]
  },
  {
   "cell_type": "code",
   "execution_count": null,
   "id": "7cc7572e",
   "metadata": {},
   "outputs": [],
   "source": []
  }
 ],
 "metadata": {
  "kernelspec": {
   "display_name": "Python 3",
   "language": "python",
   "name": "python3"
  },
  "language_info": {
   "codemirror_mode": {
    "name": "ipython",
    "version": 3
   },
   "file_extension": ".py",
   "mimetype": "text/x-python",
   "name": "python",
   "nbconvert_exporter": "python",
   "pygments_lexer": "ipython3",
   "version": "3.7.4"
  }
 },
 "nbformat": 4,
 "nbformat_minor": 5
}
