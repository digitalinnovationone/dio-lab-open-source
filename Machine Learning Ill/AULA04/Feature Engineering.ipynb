{
 "cells": [
  {
   "cell_type": "markdown",
   "id": "1a76adcd",
   "metadata": {},
   "source": [
    "# Feature Engineering"
   ]
  },
  {
   "cell_type": "markdown",
   "id": "4dfe4054",
   "metadata": {},
   "source": [
    "Basicamente podemos usar 2 técnicas de feature engineering:\n",
    "\n",
    "- Extraction: Getting useful features from existing data.\n",
    "- Selection: Choosing a subset of the original pool of features.\n",
    "\n",
    "\n",
    "<img src='https://miro.medium.com/max/1400/1*0BuIHICuDp14IMC1Jke9Lw.png'>\n",
    "\n",
    "\n",
    "Outra visão\n",
    "\n",
    "<img src='https://quantdare.com/wp-content/uploads/2019/11/features_2.png'>\n",
    "\n",
    "\n",
    "<img src='https://quantdare.com/wp-content/uploads/2019/11/features_3.png'>\n",
    "\n",
    "Vantagens:\n",
    "\n",
    "- If we are feeding the data to another ML algorithm it will run much faster\n",
    "- The data will take less space in memory\n",
    "- It might even perform better if we are eliminating redundant or useless information\n",
    "- Better visualization of the data and gain insights on the most important features\n",
    "\n",
    "Pontos de atenção (desvantagens):\n",
    "\n",
    "- Lost of information with possible decrease in performance\n",
    "- Might be computationally expensive\n",
    "- ML pipeline more complex\n",
    "- Hard to interpret transformed features\n",
    "\n",
    "Fonte: \n",
    "- https://blog.devgenius.io/feature-engineering-in-a-nutshell-frameworks-for-feature-extraction-and-feature-selection-616f9892b685\n",
    "- https://www.kaggle.com/code/kashnitsky/topic-6-feature-engineering-and-feature-selection/notebook"
   ]
  },
  {
   "cell_type": "code",
   "execution_count": null,
   "id": "5a912c3e",
   "metadata": {},
   "outputs": [],
   "source": []
  }
 ],
 "metadata": {
  "kernelspec": {
   "display_name": "Python 3 (ipykernel)",
   "language": "python",
   "name": "python3"
  },
  "language_info": {
   "codemirror_mode": {
    "name": "ipython",
    "version": 3
   },
   "file_extension": ".py",
   "mimetype": "text/x-python",
   "name": "python",
   "nbconvert_exporter": "python",
   "pygments_lexer": "ipython3",
   "version": "3.10.4"
  },
  "varInspector": {
   "cols": {
    "lenName": 16,
    "lenType": 16,
    "lenVar": 40
   },
   "kernels_config": {
    "python": {
     "delete_cmd_postfix": "",
     "delete_cmd_prefix": "del ",
     "library": "var_list.py",
     "varRefreshCmd": "print(var_dic_list())"
    },
    "r": {
     "delete_cmd_postfix": ") ",
     "delete_cmd_prefix": "rm(",
     "library": "var_list.r",
     "varRefreshCmd": "cat(var_dic_list()) "
    }
   },
   "types_to_exclude": [
    "module",
    "function",
    "builtin_function_or_method",
    "instance",
    "_Feature"
   ],
   "window_display": false
  }
 },
 "nbformat": 4,
 "nbformat_minor": 5
}
