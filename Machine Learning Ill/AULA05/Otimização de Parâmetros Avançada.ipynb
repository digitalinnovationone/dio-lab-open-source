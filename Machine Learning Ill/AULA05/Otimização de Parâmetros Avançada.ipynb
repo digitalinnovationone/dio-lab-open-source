{
 "cells": [
  {
   "cell_type": "markdown",
   "metadata": {},
   "source": [
    "# Otimização Bayesiana\n",
    "\n",
    "Na aula de hoje, vamos explorar os seguintes tópicos em Python:\n",
    "\n",
    "- 1) Introdução\n",
    "- 2) Otimização bayesiana\n",
    "- 3) Visualizando a Otimização bayesiana"
   ]
  },
  {
   "cell_type": "markdown",
   "metadata": {},
   "source": [
    "__________"
   ]
  },
  {
   "cell_type": "code",
   "execution_count": 3,
   "metadata": {
    "ExecuteTime": {
     "end_time": "2022-07-21T15:09:52.521585Z",
     "start_time": "2022-07-21T15:09:50.442808Z"
    }
   },
   "outputs": [],
   "source": [
    "import numpy  as np\n",
    "import pandas as pd \n",
    "\n",
    "import matplotlib.pyplot as plt\n",
    "import seaborn as sns\n",
    "\n",
    "from sklearn.model_selection import train_test_split\n",
    "from sklearn.metrics import f1_score"
   ]
  },
  {
   "cell_type": "code",
   "execution_count": 4,
   "metadata": {
    "ExecuteTime": {
     "end_time": "2022-07-21T15:09:52.553284Z",
     "start_time": "2022-07-21T15:09:52.539297Z"
    }
   },
   "outputs": [],
   "source": [
    "from sklearn.metrics import classification_report, ConfusionMatrixDisplay\n",
    "\n",
    "def metricas_classificacao(estimator, X_train, X_test, y_train, y_test):\n",
    "    \n",
    "    # ============================================\n",
    "\n",
    "    print(\"\\nMétricas de avaliação de treino:\")\n",
    "\n",
    "    y_pred_train = estimator.predict(X_train)\n",
    "\n",
    "    ConfusionMatrixDisplay.from_predictions(y_train, y_pred_train)\n",
    "    plt.show()\n",
    "\n",
    "    print(classification_report(y_train, y_pred_train))\n",
    "\n",
    "    # ============================================\n",
    "\n",
    "    print(\"\\nMétricas de avaliação de teste:\")\n",
    "\n",
    "    y_pred_test = estimator.predict(X_test)\n",
    "\n",
    "    ConfusionMatrixDisplay.from_predictions(y_test, y_pred_test)\n",
    "    plt.show()\n",
    "\n",
    "    print(classification_report(y_test, y_pred_test))\n",
    "\n",
    "    # ============================================\n",
    "\n",
    "    f1_score_weighted = f1_score(y_test, y_pred_test, average='weighted')\n",
    "    print(f\"F1-score weighted: {100*f1_score_weighted:.2f}\")\n",
    "    return f1_score_weighted"
   ]
  },
  {
   "cell_type": "markdown",
   "metadata": {},
   "source": [
    "____\n",
    "____\n",
    "_____"
   ]
  },
  {
   "cell_type": "markdown",
   "metadata": {},
   "source": [
    "## 1) Introdução\n",
    "\n",
    "Desde que conhecemos os primeiros estimadores utilizados para a construção de modelos, uma preocupação adicional nos acompanhou: o ajuste de valores dos hiperparâmetros.\n",
    "\n",
    "Quase todos os estimadores que conhecemos têm um ou mais **hiperparâmetros** associados.\n",
    "\n",
    "Como vimos, os hiperparâmetros influenciam o comportamento do modelo (e, portanto, são muito importantes), mas eles não são determinados a partir dos dados! É nosso dever, como cientistas de dados, fornecer valores adequados para os hiperparâmetros.\n",
    "\n",
    "No começo de nossa jornada, nós utilizávamos os valores default para os hiperparâmetros, ou então, mudávamos manualmente alguns valores, para sensibilizar a influência dos hiperparâmetros no modelo final.\n",
    "\n",
    "Mas logo percebemos que essa não era a melhor abordagem --- precisávamos de um método mais sistemático para a busca de bons valores para os hiperparâmetros!"
   ]
  },
  {
   "cell_type": "markdown",
   "metadata": {},
   "source": [
    "_______\n",
    "\n",
    "Para este fim, introduzimos inicialmente o **grid search**, que **testa exaustivamente** combinações explícitas de valores de hiperparâmetros.\n",
    "\n",
    "Apesar de simples e direta, esta é uma abordagem computacionalmente muito custosa (sentimos isso na pele, ao rodar rotinas de grid search que demoram horas, ou até mesmo dias!). \n",
    "\n",
    "De fato, esta é uma abordagem de força bruta que, aliás, não nos dá garantia nenhuma: é perfeitamente possível que nenhuma das combinações que estabelecemos seja boa boa! Oras, há muitos casos em que o **espaço de hiperparâmetros** é infinito (basta considerar um hiperparâmetro dado por um float que não é limitado)."
   ]
  },
  {
   "cell_type": "markdown",
   "metadata": {},
   "source": [
    "______\n",
    "\n",
    "Para endereçar este problema, introduzimos então o **random search**.\n",
    "\n",
    "Neste caso, ao invés de disponibilizarmos valores específicos de hiperparâmetros a serem combinados, disponibilizamos **intervalos** ou explicitamente **distribuições de probabilidade** sobre o espaço de parâmetros de cada hiperparâmetro, e **amostramos valores aleatórios** destas distribuições para gerar as combinações.\n",
    "\n",
    "Com essa abordagem estocástica, há a possibilidade de encontrarmos boas combinações, que não estariam inclusas nos valores explícitos que passamos para o grid search.\n",
    "\n",
    "Por outro lado, com o random search também não temos garantia alguma que as melhores combinações serão encontradas, sobretudo porque **todas as combinações são amostradas de maneira aleatória**. Ou seja, todas as combinações são amostradas **sem considerar** a performance das combinações anteriores. Com esta metodologia, fica difícil garantirmos que efetivamente encontraremos boas combinações..."
   ]
  },
  {
   "cell_type": "markdown",
   "metadata": {},
   "source": [
    "Metodologia de grid search (à esquerda) vs random search (à direita):\n",
    "\n",
    "<img src=https://www.researchgate.net/profile/Minrui-Zheng/publication/328252103/figure/fig4/AS:766093471801344@1559662325592/Distribution-of-sampled-hyperparameters-a-grid-search-b-random-search.png width=600>\n",
    "\n",
    "Gridsearch\n",
    "\n",
    "<img src=\"https://inotgo.com/imagesLocal/202112/07/20211207175525489M_4.gif\" width=400 text=\"https://chowdera.com/2022/01/202201031814095745.html\">\n",
    "\n",
    "Randomsearch\n",
    "\n",
    "<img src=\"https://inotgo.com/imagesLocal/202110/20/20211020234558679h_3.gif\" width=400 text=\"https://chowdera.com/2022/01/202201031814095745.html\"> \n",
    "\n",
    "O que queremos:\n",
    "\n",
    "<img src=\"https://inotgo.com/imagesLocal/202112/07/20211207175525489M_0.gif\" width=400 text=\"https://chowdera.com/2022/01/202201031814095745.html\"> "
   ]
  },
  {
   "cell_type": "markdown",
   "metadata": {},
   "source": [
    "_________\n",
    "\n",
    "Então, podemos nos perguntar: qual seria o próximo passo? Existiria um método ainda mais eficiente e \"educado\" para fazer a otimização de hiperparâmetros?\n",
    "\n",
    "A resposta é: sim! Hoje, conheceremos o método de **otimização Bayesiana**, aplicada à otimização de hiperparâmetros!\n",
    "\n",
    "E a principal motivação de utilização é em uma condição em que é muito custoso (financeiramente ou em tempo) rodar os testes de parâmetros várias vezes. Em alguns casos, rodar o modelo uma única vez para apenas um conjunto de parâmetros pode demorar horas e, dessa forma, é inviável realizarmos uma busca de parâmetros com grid ou random search."
   ]
  },
  {
   "cell_type": "markdown",
   "metadata": {},
   "source": [
    "_________\n",
    "_________\n",
    "_________"
   ]
  },
  {
   "cell_type": "markdown",
   "metadata": {},
   "source": [
    "## 2) Otimização Bayesiana\n",
    "\n",
    "O objetivo da otimização baeysiana é o mesmo que tínhamos com o grid e random search: **determinar os valores adequados para um conjunto de hiperparâmetros**, de modo que a combinação de valores **proporcione os melhores valores para uma métrica de avaliação calculada em dados de validação**.\n",
    "\n",
    "O que muda com a otimização baeysiana é a forma como isso será feito.\n",
    "\n",
    "Já descrevemos os problemas que ambos grid e random search têm. Sobretudo, o fato das combinações de valores dos hiperparâmetros serem independentes entre si, sem levar em consideração combinações anteriores, que poderiam ser boas.\n",
    "\n",
    ">Pra entender isso melhor, imagine o cenário em que queremos otimizar 3 hiperparâmetros.\n",
    "<br><br>\n",
    ">Pode ser que, em uma combinação, encontremos bons valores para 2 dos 3 hiperparâmetros; ja, na próxima, como os 3 valores serão novos, pode ser que os 3 sejam ruins. Não seria interessante de conseguíssemos manter a informação sobre os valores bons que encontramos?\n",
    "\n",
    "Esse é o espírito da otimização baeysiana!"
   ]
  },
  {
   "cell_type": "markdown",
   "metadata": {},
   "source": [
    "Pra entender isso intuitivamente, considere a figura a seguir (suponha que o \"score\" é um erro, então, quanto menor, melhor):\n",
    "\n",
    "<img src=https://miro.medium.com/max/1120/1*MiNXGrkk5BbjfkNAXZQSNA.png width=400>\n",
    "\n",
    "Pergunta: onde você concentraria a busca por valores do hiperparâmetro `n_estimators`?\n",
    "\n",
    "Olhando pro gráfico, existe claramente uma região no espaço do hiperparâmetro `n_estimators` que é melhor: menos de 200 árvores.\n",
    "\n",
    "**Uma vez que temos este conhecimento**, realmente não faz sentido algum que os próximos valores que vamos testar sejam maiores que 200, não é mesmo?\n",
    "\n",
    "Esse é o espírito da otimização bayesiana: **utilizamos a informação que temos quanto ao score alcançado com valores iniciais de hiperparâmetros para guiar a escolha dos próximos valores!**\n",
    "\n",
    "E aqui já fica claro o porquê do método receber o título \"bayesiano\": de fato, estamos nos utilizando da \"filosofia\" bayesiana de ajuste de estratégia conforme agregamos novas informações! "
   ]
  },
  {
   "cell_type": "markdown",
   "metadata": {},
   "source": [
    ">E é por isso que a otimização bayesiana é tão mais eficiente que as estratégias anteriores: gastamos um pouco mais de energia para propor combinações de hiperparâmetros **levando em consideração** as combinações passadas e suas respectivas perfomances.\n",
    "<br><br>\n",
    "Com isso, podemos focar apenas em testar **combinações promissoras**, e não precisamos gastar energia em procurar por combinações que sabemos não ser tão boas.\n",
    "\n",
    "Faz sentido, não é mesmo?\n",
    "\n",
    "Agora, precisamos apenas entender **como** é possível implementar isso."
   ]
  },
  {
   "cell_type": "markdown",
   "metadata": {},
   "source": [
    "### 2.1) Função objetivo\n",
    "\n",
    "É razoável assumirmos que existe uma função que relaciona a métrica de performance (score) que temos interesse de otimizar e os hiperparâmetros, não é mesmo?\n",
    "\n",
    "Sabendo que as métricas de performance essencialmente comparam os targets preditos com os targets reais, e sabendo que os targets preditos (pela hipótese) são influenciados pelos hiperparâmetros, é bem natural que assumamos que esta função existe.\n",
    "\n",
    "<img src=\"surrogate_function.png\" width=600>\n",
    "\n",
    "Agora, o ponto é que pode ser extremamente difícil escrever esta função explicitamente. Como nosso objetivo será encontrar valores que **otimizam** a função, costumamos chamá-la de **função objetivo**. \n",
    "\n",
    "Mas, veja, queremos otimizar uma função objetivo **sem nem saber qual é sua dependência funcional com os hiperparâmetros**. Problemas deste tipo são chamados de **otimização de caixa-preta**, e existem várias técnicas para abordá-los. Recomendo [este material](https://www.lix.polytechnique.fr/~dambrosio/blackbox_material/Cassioli_1.pdf) aos interessados.\n",
    "\n",
    "Quando formos pra prática, construiremos a função objetivo implicitamente, como o resultado retornado por uma **métrica de avaliação** dado o treinamento de um modelo. \n",
    "\n",
    "Na prática, isso nos será suficiente, pois bastará que tomemos **alguns pontos** desta função, para seguir com sua otimização, isso graças à introdução do surrogate model.\n",
    "\n",
    "<img src=https://www.researchgate.net/profile/Abraham-Duarte/publication/236164556/figure/fig1/AS:393408515461120@1470807307227/Schematic-representation-of-the-black-box-optimization-framework.png width=500>"
   ]
  },
  {
   "cell_type": "markdown",
   "metadata": {},
   "source": [
    "### 2.2) Surrogate model\n",
    "\n",
    "Na prática, iremos apenas **avaliar alguns pontos da função objetivo** e construir um **modelo probabilístico dela** com base nestes pontos, que serão tratados como **amostras**.\n",
    "\n",
    "Nós vamos aproximar o black box utilizando um modelo probabilístico e os dados de treino que temos. Tendo esse modelo probabilístico podemos inferir quais são os melhores parâmetros sem ter que toda hora testá-los no modelo\n",
    "\n",
    "Este modelo probabílistico é conhecido como **surrogate model (modelo substituto ou emulador)**, pois ele emula probabilisticamente o que seria a função real sem a necessidade dela ser reconstruída explicitamente. E o melhor, dado que o modelo surrogate é bem mais simples que a função objetivo, será muito mais fácil otimizá-lo do que a função objetivo em si!\n",
    "\n",
    "<img src=https://miro.medium.com/max/1400/1*01OV9s_DYaK8k-cwa0bk3A.png width=600 text='https://towardsdatascience.com/the-beauty-of-bayesian-optimization-explained-in-simple-terms-81f3ee13b10f'>\n",
    "\n",
    "Suponha que temos 8 pontos que foram obtidos ao passarmos 8 valores distintos de max_depth pro nosso modelo e que queremos minimizar nossa métrica de avaliação, como o MSE. Esses pontos obtidos pertencem à uma função objetivo desconhecida, mas que será emulada pela surrogate function. Sabendo quem são os pontos atuais de mínimo, podemos escolher outros pontos próximos à estes para serem testados no modelo de ML. Com isso, podemos atualizar nosso surrogate model nessas áreas de maior interesse. Depois de uma certa quantidade de iterações, devemos chegar bem próximos do mínimo global.\n",
    "\n",
    "<img src=https://miro.medium.com/max/1400/1*31TpvO5XO_VGaZG0m3FgVg.png width=600 text='https://towardsdatascience.com/the-beauty-of-bayesian-optimization-explained-in-simple-terms-81f3ee13b10f'>\n",
    "\n",
    "\n",
    "Assim vemos que o surrogate model acompanha os resultados de avaliações anteriores para formar um modelo probabilístico de mapeamento de hiperparâmetros para uma probabilidade de uma pontuação na função objetivo:\n",
    "\n",
    "O ponto é que nosso modelo surrogate será atualizado **de maneira bayesiana**, isto é, levando em consideração scores anteriores (à priori) para sugerir as próximas combinações (à posteriori) de hiperparâmetros:\n",
    "\n",
    "$$P(score|hiperparâmetros)$$\n",
    "\n",
    "Esse modelo substituto é muito mais fácil de otimizar do que a função objetivo."
   ]
  },
  {
   "cell_type": "markdown",
   "metadata": {},
   "source": [
    "Operacionalmente, para essa primeira parte seguiremos o seguinte passo-a-passo:\n",
    "\n",
    "- Escolhemos alguns pontos aleatoriamente;\n",
    "- Construiremos um modelo probabilístico surrogate para a função objetivo;\n",
    "- Otimizaremos o modelo surrogate, encontrando bons valores para os hiperparâmetros nesta função;\n",
    "- Utilizamos estes valores encontrados e damos de input para a função objetivo real, e amostramos um novo ponto;\n",
    "- Atualizamos o modelo surrogate, incorporando o novo ponto amostrado;\n",
    "- Repetimos os últimos 3 passos, até atingirmos o critério de parada (em geral, um número pré-definido de passos).\n"
   ]
  },
  {
   "cell_type": "markdown",
   "metadata": {},
   "source": [
    "Contudo, há muitas formas possíveis para modelarmos a função surrogate e suas incertezas. Um método muito interessante é o que utiliza **processos gaussianos**. Sugiro muito a leitura [deste post interativo](https://distill.pub/2019/visual-exploration-gaussian-processes/) para conhecer um pouco mais sobre este método; e [este post](https://towardsdatascience.com/the-intuitions-behind-bayesian-optimization-with-gaussian-processes-7e00fcc898a0) para uma intuição quanto a sua aplicação como modelo surrogate da otimização bayesiana.\n",
    "\n",
    "Uma analogia com esses processos gaussianos pode ser pensada com jogar um dado que ao invés de retornar um número de 1 à 6, retorna uma função diferente que pode ser ajustada nos pontos disponibilizados. Usamos a média desse processo gaussiano como a função que mais aproxima a função caixa preta e sua variação para construir uma área de incertezas da nossa função objetivo (área em cinza). Link para entender como funcionam os [processos gaussianos](https://towardsdatascience.com/an-intuitive-guide-to-gaussian-processes-ec2f0b45c71d).\n",
    "\n",
    "<img src=https://miro.medium.com/max/1400/0*09NmB3U7dZ8bvU81.png width=700 text='https://towardsdatascience.com/the-beauty-of-bayesian-optimization-explained-in-simple-terms-81f3ee13b10f'>"
   ]
  },
  {
   "cell_type": "markdown",
   "metadata": {},
   "source": [
    "Mas ainda resta uma pergunta: qual é exatamente este critério de escolha das regiões? **Como**, a cada iteração, os próximos valores de hiperparâmetros são propostos, com o objetivo de minimizar a função objetivo?\n",
    "\n",
    "Isto é feito de acordo com a chamada **função de seleção**."
   ]
  },
  {
   "cell_type": "markdown",
   "metadata": {},
   "source": [
    "### 2.3) Função de seleção/aquisição (acquisition function)\n",
    "\n",
    "O objetivo da função de seleção é muito simples: **determinar os valores dos hiperparâmetros que são escolhidos do modelo surrogate** a cada passo.\n",
    "\n",
    "Há vários critérios possíveis, mas o mais comum é conhecido como **Expected Improvement** (melhoria esperada). Seu uso é bem direto: **propomos novos valores de hiperparâmetros de modo que o expected improvement seja maximizado**. \n",
    "\n",
    "Podemos omitir aqui os detalhes matemáticos, o importante é lembrarmos que o papel da função de seleção é estabelecer o critério segundo o qual o modelo surrogate irá proporcionar os valores de hiperparâmetros a cada iteração.\n",
    "\n",
    "E, com isso, conseguimos, a cada iteração, propor candidatos a valores de hiperparâmetros que melhoram o modelo surrogate. O registro destes valores é muito importante, para que o teorema de Bayes entre em ação!\n",
    "\n",
    "<img src=https://www.researchgate.net/publication/358344674/figure/fig2/AS:1119596249645056@1643943955386/Two-exemplary-iterations-of-a-Bayesian-Optimization-BO-on-a-1D-function-The-BO.png width=600 text='www.researchgate.net/publication/358344674_Review_of_automated_time_series_forecasting_pipelines'>"
   ]
  },
  {
   "cell_type": "markdown",
   "metadata": {},
   "source": [
    "Vamos ver como isso funciona iterativamente:\n",
    "\n",
    "<img src=https://miro.medium.com/max/1400/1*YVkGpTThrtnsNCeBjRr1lw.gif width=700 text=\"https://medium.com/@gerbentempelman/comparing-hyperparameter-optimization-frameworks-in-python-a-conceptual-and-pragmatic-approach-24d9baa1cc69\">\n",
    "\n",
    "A linha f em azul representa a função objetivo desconhecida. Ela é iterativamente aproximada pelo modelo substituto criado por um processo gaussiano (GP) o qual é representado pela linha laranja (+ intervalos de confiança). À medida que o número de iterações aumenta, melhor o modelo é capaz de determinar onde f é minimizado. A função de aquisição (EI - Expected Impute) indica onde no espaço de busca o modelo substituto deve se orientar, e para isso ele procura maximizar o EI."
   ]
  },
  {
   "cell_type": "markdown",
   "metadata": {},
   "source": [
    "### 2.4) Histórico de registros\n",
    "\n",
    "O histórico de registros, que é uma tupla com **(valores de hiperparâmetros, respectivo score)** é muitíssimo importante para que seja possível a construção de um modelo surrogate que, a cada passo, melhora a descrição probabilística da função objetivo.\n",
    "\n",
    "Isso é importante pois, quão melhor for nossa descrição da função objetivo, teremos que o passo disponibilizado pelo expected improvement irá proporcionar hiperparâmetros mais próximos do ótimo da função objetivo. \n",
    "\n",
    "E é aqui que o teorema de Bayes entra em ação: a partir de novas evidências (amostras do surrogate), atualizamos a nossa descrição da função objetivo com cada vez mais detalhes, e, assim, ela fica mais fácil de ser otimizada sem precisar ser explicitamente construída!\n",
    "\n",
    "<img src=https://miro.medium.com/max/1400/1*RQ-pAwQ88yC904QppChGPQ.png width=500>\n",
    "\n",
    "<img src=https://miro.medium.com/max/1400/1*bSLAe1LCj3mMKfaZsQWCrw.png width=500>"
   ]
  },
  {
   "cell_type": "markdown",
   "metadata": {},
   "source": [
    "__________\n",
    "\n",
    "#### Retomando alguns conceitos:\n",
    "- **Otimização Bayesiana** é uma abordagem que utiliza o Teorema de Bayes para direcionar a busca a fim de encontrar o mínimo ou o máximo de uma função objetivo. No nosso caso a probabilidade posterior é uma função objetiva substituta (surrogate objective model).\n",
    "\n",
    "$$  P(A|B) = \\frac{P(B|A) * P(A)}{P(B)} $$\n",
    "\n",
    "Aqui removemos o valor normalizador de $P(B)$ do Teorema de Bayes e descrevemos a probabilidade condicional como uma quantidade proporcional. Isso é útil, pois não estamos interessados ​​em calcular uma probabilidade condicional específica, mas em otimizar uma quantidade.\n",
    "\n",
    "$$  P(A|B) = P(B|A) * P(A) $$\n",
    "\n",
    "A probabilidade condicional que estamos calculando é geralmente chamada de probabilidade posterior; a probabilidade condicional reversa às vezes é chamada de probabilidade e a probabilidade marginal é chamada de probabilidade anterior; e por isso podemos escrever:\n",
    "\n",
    "$$ posterior = likelihood * prior $$\n",
    "\n",
    "Isso fornece uma estrutura que pode ser usada para quantificar as crenças sobre uma função objetivo desconhecida dadas amostras do domínio e sua avaliação por meio da função objetivo. [link](https://machinelearningmastery.com/what-is-bayesian-optimization/)\n",
    "\n",
    "- **Função objetivo:** É a função que recebe um conjunto de hiperparâmetros e retorna uma métrica escalar que precisa ser minimizada ou maximizada. No nosso caso ela é desconhecida.\n",
    "- **Espaço de busca:** São os limites mínimo e máximo para cada hiperparâmetro que será avaliado.\n",
    "- **Surrogate model:** Modelo probabilístico utilizado para aproximar a função objetivo.\n",
    "- **Processos Gaussianos:** É o método que cria o surrogate model. Ele e o método Tree-Parzen Estimators são os mais comuns de serem utilizados, mas algumas bibliotecas também usam Random Forests e o Gradient Boosting. \n",
    "- **Função de seleção/aquisição:** É técnica que irá definir qual o próximo conjunto de hiperparâmetros a ser testado. Ou seja, passaremos esses hiperparâmetros para o modelo de ML e salvaremos o score resultante.\n",
    "- **Expected Improvement:** É uma das formas de se fazer a função de seleção. O pensamento central para toda essa abordagem é que a extensão em que a função substituta é capaz de aproximar a função objetivo é assumida como dependente de quantas iterações o método pode fazer. Em palavras simples: presume-se que o desempenho aumenta à medida que o número de iterações aumenta.\n",
    "\n",
    "#### Passo-a-passo\n",
    "Agora que já conhecemos todos os ingredientes importantes, podemos enunciar o passo-a-passo da otimização bayesiana:\n",
    "\n",
    "- Primeiro definimos um espaço de busca para cada um dos hiperparâmetros;\n",
    "- Escolhemos alguns pontos desse espaço aleatoriamente;\n",
    "- Avaliamos esses pontos implicitamente com a função objetivo, que tem como inputs os hiperparâmetros, e como output o score a ser otimizado (que será a métrica de avaliação de interesse);\n",
    "- Utilizamos esses pontos como priori para construir o modelo surrogate probabilístico da função objetivo através de um processo gaussiano;\n",
    "- Em um loop:\n",
    "    - A otimização da função de seleção irá determinar os próximos valores para os hiperparâmetros a serem escolhidos - reavalia esses pontos no modelo de ML\n",
    "    - Atualizamos o histórico de valores de hiperparâmetros e respectivo score, que é utilizado pelo algoritmo para a atualização do modelo surrogate;\n",
    "    - Repetimos o processo até o critério de parada.\n",
    "\n",
    "E é isso!\n",
    "\n",
    "Para os interessados em maiores detalhes matemáticos, recomendo fortemente [este artigo](http://proceedings.mlr.press/v28/bergstra13.pdf), e [este também](https://proceedings.neurips.cc/paper/2011/file/86e8f7ab32cfd12577bc2619bc635690-Paper.pdf), que reporta resultados incríveis a favor do uso de otimização bayesiana como alternativa aos métodos tradicionais de otimização de hiperparâmetros.\n",
    "\n",
    "Agora, vamos ver o método funcionando na prática!"
   ]
  },
  {
   "cell_type": "markdown",
   "metadata": {},
   "source": [
    "______________"
   ]
  },
  {
   "cell_type": "code",
   "execution_count": 6,
   "metadata": {
    "ExecuteTime": {
     "end_time": "2022-07-21T15:10:59.530457Z",
     "start_time": "2022-07-21T15:10:59.514795Z"
    }
   },
   "outputs": [],
   "source": [
    "from sklearn.compose import ColumnTransformer\n",
    "from sklearn.preprocessing import StandardScaler, OneHotEncoder, OrdinalEncoder\n",
    "from sklearn.impute import SimpleImputer\n",
    "from sklearn.model_selection import GridSearchCV, StratifiedKFold, train_test_split\n",
    "from sklearn.pipeline import Pipeline\n",
    "\n",
    "def pipe_pre_process_german(drop_not_features=[\"Risk\"], col_target=\"Risk\",\n",
    "                             inputer_num_strategy=\"mean\",\n",
    "                             encoding=\"ordinal\"):\n",
    "    '''\n",
    "    - inputer_num_strategy (str): \"mean\", \"median\";\n",
    "    - encoding (str): \"onehot\" para OneHotEncoder; \"ordinal\" OrdinalEncoder;\n",
    "    '''\n",
    "    \n",
    "    df = pd.read_csv(\"../datasets/german_credit_data.csv\", index_col=0)\n",
    "\n",
    "    X = df.drop(columns=drop_not_features)\n",
    "    y = df[col_target]\n",
    "    \n",
    "    X_train, X_test, y_train, y_test = train_test_split(X, y, test_size=0.2, random_state=42, stratify=y)\n",
    "\n",
    "    # ==========================================================\n",
    "\n",
    "    pipe_features_num = Pipeline([(\"input_num\", SimpleImputer(strategy=inputer_num_strategy)),\n",
    "                                  (\"std\", StandardScaler())])\n",
    "\n",
    "    features_num = X_train.select_dtypes(include=np.number).columns.tolist()\n",
    "\n",
    "    # ==========================================================\n",
    "\n",
    "    if encoding == \"onehot\":\n",
    "    \n",
    "        pipe_features_cat = Pipeline([(\"input_cat\", SimpleImputer(strategy=\"constant\", fill_value=\"unknown\")),\n",
    "                                      (\"onehot\", OneHotEncoder(handle_unknown=\"ignore\"))])\n",
    "        \n",
    "    elif encoding == \"ordinal\":\n",
    "        \n",
    "        pipe_features_cat = Pipeline([(\"input_cat\", SimpleImputer(strategy=\"constant\", fill_value=\"unknown\")),\n",
    "                                      (\"ordinal\", OrdinalEncoder(handle_unknown=\"use_encoded_value\",\n",
    "                                                                 unknown_value=-1))])\n",
    "    \n",
    "    else:\n",
    "        \n",
    "        raise ValueError(\"Únicos encodings disponíveis são 'ordinal' e 'onehot'\")\n",
    "        \n",
    "        \n",
    "    features_cat = X_train.select_dtypes(exclude=np.number).columns.tolist()\n",
    "\n",
    "    # ==========================================================\n",
    "\n",
    "    pre_processador = ColumnTransformer([(\"transf_num\", pipe_features_num, features_num),\n",
    "                                         (\"transf_cat\", pipe_features_cat, features_cat)])\n",
    "\n",
    "    return X_train, X_test, y_train, y_test, pre_processador"
   ]
  },
  {
   "cell_type": "markdown",
   "metadata": {},
   "source": [
    "Vamos construir um modelo com os hiperparâmetros default (mas `learning_rate=0.1`)"
   ]
  },
  {
   "cell_type": "code",
   "execution_count": 7,
   "metadata": {
    "ExecuteTime": {
     "end_time": "2022-07-21T15:11:01.272177Z",
     "start_time": "2022-07-21T15:11:01.218251Z"
    }
   },
   "outputs": [],
   "source": [
    "X_train, X_test, y_train, y_test, pre_processador = pipe_pre_process_german(drop_not_features=[\"Risk\"], \n",
    "                                                                            col_target=\"Risk\",\n",
    "                                                                            inputer_num_strategy=\"mean\",\n",
    "                                                                            encoding=\"ordinal\")"
   ]
  },
  {
   "cell_type": "code",
   "execution_count": 8,
   "metadata": {
    "ExecuteTime": {
     "end_time": "2022-07-21T15:11:02.353711Z",
     "start_time": "2022-07-21T15:11:02.326738Z"
    }
   },
   "outputs": [
    {
     "data": {
      "text/plain": [
       "ColumnTransformer(transformers=[('transf_num',\n",
       "                                 Pipeline(steps=[('input_num', SimpleImputer()),\n",
       "                                                 ('std', StandardScaler())]),\n",
       "                                 ['Age', 'Job', 'Credit amount', 'Duration']),\n",
       "                                ('transf_cat',\n",
       "                                 Pipeline(steps=[('input_cat',\n",
       "                                                  SimpleImputer(fill_value='unknown',\n",
       "                                                                strategy='constant')),\n",
       "                                                 ('ordinal',\n",
       "                                                  OrdinalEncoder(handle_unknown='use_encoded_value',\n",
       "                                                                 unknown_value=-1))]),\n",
       "                                 ['Sex', 'Housing', 'Saving accounts',\n",
       "                                  'Checking account', 'Purpose'])])"
      ]
     },
     "execution_count": 8,
     "metadata": {},
     "output_type": "execute_result"
    }
   ],
   "source": [
    "pre_processador"
   ]
  },
  {
   "cell_type": "code",
   "execution_count": 9,
   "metadata": {
    "ExecuteTime": {
     "end_time": "2022-07-21T15:11:03.480376Z",
     "start_time": "2022-07-21T15:11:03.187348Z"
    }
   },
   "outputs": [],
   "source": [
    "from sklearn.ensemble import GradientBoostingClassifier"
   ]
  },
  {
   "cell_type": "code",
   "execution_count": 10,
   "metadata": {
    "ExecuteTime": {
     "end_time": "2022-07-21T15:11:04.606284Z",
     "start_time": "2022-07-21T15:11:03.977316Z"
    },
    "scrolled": true
   },
   "outputs": [
    {
     "name": "stdout",
     "output_type": "stream",
     "text": [
      "\n",
      "Métricas de avaliação de treino:\n"
     ]
    },
    {
     "data": {
      "image/png": "[encoded data removed]",
      "text/plain": [
       "<Figure size 432x288 with 2 Axes>"
      ]
     },
     "metadata": {
      "needs_background": "light"
     },
     "output_type": "display_data"
    },
    {
     "name": "stdout",
     "output_type": "stream",
     "text": [
      "              precision    recall  f1-score   support\n",
      "\n",
      "         bad       0.90      0.68      0.77       240\n",
      "        good       0.88      0.97      0.92       560\n",
      "\n",
      "    accuracy                           0.88       800\n",
      "   macro avg       0.89      0.82      0.85       800\n",
      "weighted avg       0.88      0.88      0.87       800\n",
      "\n",
      "\n",
      "Métricas de avaliação de teste:\n"
     ]
    },
    {
     "data": {
      "image/png": "[encoded data removed]",
      "text/plain": [
       "<Figure size 432x288 with 2 Axes>"
      ]
     },
     "metadata": {
      "needs_background": "light"
     },
     "output_type": "display_data"
    },
    {
     "name": "stdout",
     "output_type": "stream",
     "text": [
      "              precision    recall  f1-score   support\n",
      "\n",
      "         bad       0.59      0.43      0.50        60\n",
      "        good       0.78      0.87      0.82       140\n",
      "\n",
      "    accuracy                           0.74       200\n",
      "   macro avg       0.69      0.65      0.66       200\n",
      "weighted avg       0.72      0.74      0.73       200\n",
      "\n",
      "F1-score weighted: 72.70\n"
     ]
    }
   ],
   "source": [
    "pipe = Pipeline([(\"pp\", pre_processador),\n",
    "                 (\"gb\", GradientBoostingClassifier(random_state=42))])\n",
    "\n",
    "pipe.fit(X_train, y_train)\n",
    "\n",
    "score = metricas_classificacao(pipe, X_train, X_test, y_train, y_test)"
   ]
  },
  {
   "cell_type": "markdown",
   "metadata": {},
   "source": [
    "Nada mal. Vamos ver se conseguimos melhorar com o Grid Search:"
   ]
  },
  {
   "cell_type": "code",
   "execution_count": 11,
   "metadata": {
    "ExecuteTime": {
     "end_time": "2022-07-21T15:11:14.737879Z",
     "start_time": "2022-07-21T15:11:07.300364Z"
    },
    "scrolled": true
   },
   "outputs": [
    {
     "data": {
      "text/plain": [
       "GridSearchCV(cv=StratifiedKFold(n_splits=5, random_state=42, shuffle=True),\n",
       "             estimator=Pipeline(steps=[('pp',\n",
       "                                        ColumnTransformer(transformers=[('transf_num',\n",
       "                                                                         Pipeline(steps=[('input_num',\n",
       "                                                                                          SimpleImputer()),\n",
       "                                                                                         ('std',\n",
       "                                                                                          StandardScaler())]),\n",
       "                                                                         ['Age',\n",
       "                                                                          'Job',\n",
       "                                                                          'Credit '\n",
       "                                                                          'amount',\n",
       "                                                                          'Duration']),\n",
       "                                                                        ('transf_cat',\n",
       "                                                                         Pipeline(steps=[('input_cat',\n",
       "                                                                                          SimpleImputer(fill_value='unknown',\n",
       "                                                                                                        strat...nt')),\n",
       "                                                                                         ('ordinal',\n",
       "                                                                                          OrdinalEncoder(handle_unknown='use_encoded_value',\n",
       "                                                                                                         unknown_value=-1))]),\n",
       "                                                                         ['Sex',\n",
       "                                                                          'Housing',\n",
       "                                                                          'Saving '\n",
       "                                                                          'accounts',\n",
       "                                                                          'Checking '\n",
       "                                                                          'account',\n",
       "                                                                          'Purpose'])])),\n",
       "                                       ('gb',\n",
       "                                        GradientBoostingClassifier(random_state=42))]),\n",
       "             n_jobs=-1,\n",
       "             param_grid={'gb__loss': ['deviance', 'exponential'],\n",
       "                         'gb__max_depth': [5, 10, 15],\n",
       "                         'gb__n_estimators': [5, 25, 50]},\n",
       "             scoring='f1_weighted')"
      ]
     },
     "execution_count": 11,
     "metadata": {},
     "output_type": "execute_result"
    }
   ],
   "source": [
    "pipe = Pipeline([(\"pp\", pre_processador),\n",
    "                 (\"gb\", GradientBoostingClassifier(random_state=42))])\n",
    "\n",
    "params_grid = {\"gb__loss\" : [\"deviance\", \"exponential\"],\n",
    "               \"gb__n_estimators\" : [5, 25, 50],\n",
    "               \"gb__max_depth\" : [5, 10, 15]}\n",
    "\n",
    "splitter = StratifiedKFold(n_splits=5, random_state=42, shuffle=True)\n",
    "\n",
    "grid_gb = GridSearchCV(pipe,\n",
    "                       params_grid, \n",
    "                       cv=splitter,\n",
    "                       scoring=\"f1_weighted\",\n",
    "                       n_jobs=-1)\n",
    "\n",
    "grid_gb.fit(X_train, y_train)"
   ]
  },
  {
   "cell_type": "code",
   "execution_count": 12,
   "metadata": {
    "ExecuteTime": {
     "end_time": "2022-07-21T15:11:14.860271Z",
     "start_time": "2022-07-21T15:11:14.847593Z"
    }
   },
   "outputs": [
    {
     "data": {
      "text/plain": [
       "{'gb__loss': 'deviance', 'gb__max_depth': 5, 'gb__n_estimators': 50}"
      ]
     },
     "execution_count": 12,
     "metadata": {},
     "output_type": "execute_result"
    }
   ],
   "source": [
    "grid_gb.best_params_"
   ]
  },
  {
   "cell_type": "code",
   "execution_count": 13,
   "metadata": {
    "ExecuteTime": {
     "end_time": "2022-07-21T15:11:15.286859Z",
     "start_time": "2022-07-21T15:11:14.973337Z"
    },
    "scrolled": true
   },
   "outputs": [
    {
     "name": "stdout",
     "output_type": "stream",
     "text": [
      "\n",
      "Métricas de avaliação de treino:\n"
     ]
    },
    {
     "data": {
      "image/png": "[encoded data removed]",
      "text/plain": [
       "<Figure size 432x288 with 2 Axes>"
      ]
     },
     "metadata": {
      "needs_background": "light"
     },
     "output_type": "display_data"
    },
    {
     "name": "stdout",
     "output_type": "stream",
     "text": [
      "              precision    recall  f1-score   support\n",
      "\n",
      "         bad       0.98      0.82      0.89       240\n",
      "        good       0.93      0.99      0.96       560\n",
      "\n",
      "    accuracy                           0.94       800\n",
      "   macro avg       0.95      0.91      0.92       800\n",
      "weighted avg       0.94      0.94      0.94       800\n",
      "\n",
      "\n",
      "Métricas de avaliação de teste:\n"
     ]
    },
    {
     "data": {
      "image/png": "[encoded data removed]",
      "text/plain": [
       "<Figure size 432x288 with 2 Axes>"
      ]
     },
     "metadata": {
      "needs_background": "light"
     },
     "output_type": "display_data"
    },
    {
     "name": "stdout",
     "output_type": "stream",
     "text": [
      "              precision    recall  f1-score   support\n",
      "\n",
      "         bad       0.62      0.47      0.53        60\n",
      "        good       0.79      0.88      0.83       140\n",
      "\n",
      "    accuracy                           0.76       200\n",
      "   macro avg       0.71      0.67      0.68       200\n",
      "weighted avg       0.74      0.76      0.74       200\n",
      "\n",
      "F1-score weighted: 74.37\n"
     ]
    }
   ],
   "source": [
    "score_grid = metricas_classificacao(grid_gb, X_train, X_test, y_train, y_test)"
   ]
  },
  {
   "cell_type": "code",
   "execution_count": 14,
   "metadata": {
    "ExecuteTime": {
     "end_time": "2022-07-21T15:11:15.412153Z",
     "start_time": "2022-07-21T15:11:15.398701Z"
    }
   },
   "outputs": [
    {
     "name": "stdout",
     "output_type": "stream",
     "text": [
      "Score sem search: 72.70\n",
      "Score com grid: 74.37\n"
     ]
    }
   ],
   "source": [
    "print(f\"Score sem search: {100*score:.2f}\\nScore com grid: {100*score_grid:.2f}\")"
   ]
  },
  {
   "cell_type": "markdown",
   "metadata": {
    "ExecuteTime": {
     "end_time": "2022-03-11T20:02:39.023720Z",
     "start_time": "2022-03-11T20:02:39.000730Z"
    }
   },
   "source": [
    "Resultado legal, melhoramos um pouco o f1 weighted.\n",
    "\n",
    "Mas será que não dá pra melhorar ainda mais? Vamos pra otimização Bayesiana!"
   ]
  },
  {
   "cell_type": "markdown",
   "metadata": {},
   "source": [
    "#### [BayesSearchCV](http://scikit-optimize.github.io/stable/modules/generated/skopt.BayesSearchCV.html#skopt.BayesSearchCV)"
   ]
  },
  {
   "cell_type": "markdown",
   "metadata": {},
   "source": [
    "Para utilizar essa biblioteca é necessário intalar o pacote scikit-optimize"
   ]
  },
  {
   "cell_type": "code",
   "execution_count": 16,
   "metadata": {
    "ExecuteTime": {
     "end_time": "2022-07-21T15:12:45.350863Z",
     "start_time": "2022-07-21T15:12:45.338859Z"
    }
   },
   "outputs": [],
   "source": [
    "# !pip install scikit-optimize\n"
   ]
  },
  {
   "cell_type": "code",
   "execution_count": 17,
   "metadata": {
    "ExecuteTime": {
     "end_time": "2022-07-21T15:19:36.746963Z",
     "start_time": "2022-07-21T15:17:36.167353Z"
    }
   },
   "outputs": [
    {
     "name": "stdout",
     "output_type": "stream",
     "text": [
      "Fitting 5 folds for each of 1 candidates, totalling 5 fits\n",
      "[CV] END gb__loss=deviance, gb__max_depth=37, gb__n_estimators=94; total time=   0.4s\n",
      "[CV] END gb__loss=deviance, gb__max_depth=37, gb__n_estimators=94; total time=   0.5s\n",
      "[CV] END gb__loss=deviance, gb__max_depth=37, gb__n_estimators=94; total time=   0.4s\n",
      "[CV] END gb__loss=deviance, gb__max_depth=37, gb__n_estimators=94; total time=   0.4s\n",
      "[CV] END gb__loss=deviance, gb__max_depth=37, gb__n_estimators=94; total time=   0.4s\n",
      "Fitting 5 folds for each of 1 candidates, totalling 5 fits\n",
      "[CV] END gb__loss=exponential, gb__max_depth=44, gb__n_estimators=37; total time=   0.1s\n",
      "[CV] END gb__loss=exponential, gb__max_depth=44, gb__n_estimators=37; total time=   0.1s\n",
      "[CV] END gb__loss=exponential, gb__max_depth=44, gb__n_estimators=37; total time=   0.1s\n",
      "[CV] END gb__loss=exponential, gb__max_depth=44, gb__n_estimators=37; total time=   0.1s\n",
      "[CV] END gb__loss=exponential, gb__max_depth=44, gb__n_estimators=37; total time=   0.1s\n",
      "Fitting 5 folds for each of 1 candidates, totalling 5 fits\n",
      "[CV] END gb__loss=deviance, gb__max_depth=46, gb__n_estimators=19; total time=   0.0s\n",
      "[CV] END gb__loss=deviance, gb__max_depth=46, gb__n_estimators=19; total time=   0.0s\n",
      "[CV] END gb__loss=deviance, gb__max_depth=46, gb__n_estimators=19; total time=   0.0s\n",
      "[CV] END gb__loss=deviance, gb__max_depth=46, gb__n_estimators=19; total time=   0.0s\n",
      "[CV] END gb__loss=deviance, gb__max_depth=46, gb__n_estimators=19; total time=   0.0s\n",
      "Fitting 5 folds for each of 1 candidates, totalling 5 fits\n",
      "[CV] END gb__loss=exponential, gb__max_depth=9, gb__n_estimators=64; total time=   0.3s\n",
      "[CV] END gb__loss=exponential, gb__max_depth=9, gb__n_estimators=64; total time=   0.2s\n",
      "[CV] END gb__loss=exponential, gb__max_depth=9, gb__n_estimators=64; total time=   0.3s\n",
      "[CV] END gb__loss=exponential, gb__max_depth=9, gb__n_estimators=64; total time=   0.3s\n",
      "[CV] END gb__loss=exponential, gb__max_depth=9, gb__n_estimators=64; total time=   0.3s\n",
      "Fitting 5 folds for each of 1 candidates, totalling 5 fits\n",
      "[CV] END gb__loss=exponential, gb__max_depth=22, gb__n_estimators=57; total time=   0.3s\n",
      "[CV] END gb__loss=exponential, gb__max_depth=22, gb__n_estimators=57; total time=   0.2s\n",
      "[CV] END gb__loss=exponential, gb__max_depth=22, gb__n_estimators=57; total time=   0.2s\n",
      "[CV] END gb__loss=exponential, gb__max_depth=22, gb__n_estimators=57; total time=   0.2s\n",
      "[CV] END gb__loss=exponential, gb__max_depth=22, gb__n_estimators=57; total time=   0.2s\n",
      "Fitting 5 folds for each of 1 candidates, totalling 5 fits\n",
      "[CV] END gb__loss=exponential, gb__max_depth=47, gb__n_estimators=25; total time=   0.1s\n",
      "[CV] END gb__loss=exponential, gb__max_depth=47, gb__n_estimators=25; total time=   0.1s\n",
      "[CV] END gb__loss=exponential, gb__max_depth=47, gb__n_estimators=25; total time=   0.0s\n",
      "[CV] END gb__loss=exponential, gb__max_depth=47, gb__n_estimators=25; total time=   0.1s\n",
      "[CV] END gb__loss=exponential, gb__max_depth=47, gb__n_estimators=25; total time=   0.1s\n",
      "Fitting 5 folds for each of 1 candidates, totalling 5 fits\n",
      "[CV] END gb__loss=exponential, gb__max_depth=39, gb__n_estimators=42; total time=   0.1s\n",
      "[CV] END gb__loss=exponential, gb__max_depth=39, gb__n_estimators=42; total time=   0.2s\n",
      "[CV] END gb__loss=exponential, gb__max_depth=39, gb__n_estimators=42; total time=   0.1s\n",
      "[CV] END gb__loss=exponential, gb__max_depth=39, gb__n_estimators=42; total time=   0.2s\n",
      "[CV] END gb__loss=exponential, gb__max_depth=39, gb__n_estimators=42; total time=   0.1s\n",
      "Fitting 5 folds for each of 1 candidates, totalling 5 fits\n",
      "[CV] END gb__loss=exponential, gb__max_depth=46, gb__n_estimators=55; total time=   0.2s\n",
      "[CV] END gb__loss=exponential, gb__max_depth=46, gb__n_estimators=55; total time=   0.2s\n",
      "[CV] END gb__loss=exponential, gb__max_depth=46, gb__n_estimators=55; total time=   0.2s\n",
      "[CV] END gb__loss=exponential, gb__max_depth=46, gb__n_estimators=55; total time=   0.2s\n",
      "[CV] END gb__loss=exponential, gb__max_depth=46, gb__n_estimators=55; total time=   0.2s\n",
      "Fitting 5 folds for each of 1 candidates, totalling 5 fits\n",
      "[CV] END gb__loss=exponential, gb__max_depth=35, gb__n_estimators=88; total time=   0.4s\n",
      "[CV] END gb__loss=exponential, gb__max_depth=35, gb__n_estimators=88; total time=   0.4s\n",
      "[CV] END gb__loss=exponential, gb__max_depth=35, gb__n_estimators=88; total time=   0.3s\n",
      "[CV] END gb__loss=exponential, gb__max_depth=35, gb__n_estimators=88; total time=   0.4s\n",
      "[CV] END gb__loss=exponential, gb__max_depth=35, gb__n_estimators=88; total time=   0.4s\n",
      "Fitting 5 folds for each of 1 candidates, totalling 5 fits\n",
      "[CV] END gb__loss=deviance, gb__max_depth=41, gb__n_estimators=77; total time=   0.3s\n",
      "[CV] END gb__loss=deviance, gb__max_depth=41, gb__n_estimators=77; total time=   0.3s\n",
      "[CV] END gb__loss=deviance, gb__max_depth=41, gb__n_estimators=77; total time=   0.3s\n",
      "[CV] END gb__loss=deviance, gb__max_depth=41, gb__n_estimators=77; total time=   0.3s\n",
      "[CV] END gb__loss=deviance, gb__max_depth=41, gb__n_estimators=77; total time=   0.3s\n",
      "Fitting 5 folds for each of 1 candidates, totalling 5 fits\n",
      "[CV] END gb__loss=exponential, gb__max_depth=1, gb__n_estimators=100; total time=   0.0s\n",
      "[CV] END gb__loss=exponential, gb__max_depth=1, gb__n_estimators=100; total time=   0.0s\n",
      "[CV] END gb__loss=exponential, gb__max_depth=1, gb__n_estimators=100; total time=   0.0s\n",
      "[CV] END gb__loss=exponential, gb__max_depth=1, gb__n_estimators=100; total time=   0.0s\n",
      "[CV] END gb__loss=exponential, gb__max_depth=1, gb__n_estimators=100; total time=   0.0s\n",
      "Fitting 5 folds for each of 1 candidates, totalling 5 fits\n",
      "[CV] END gb__loss=deviance, gb__max_depth=6, gb__n_estimators=10; total time=   0.0s\n",
      "[CV] END gb__loss=deviance, gb__max_depth=6, gb__n_estimators=10; total time=   0.0s\n",
      "[CV] END gb__loss=deviance, gb__max_depth=6, gb__n_estimators=10; total time=   0.0s\n",
      "[CV] END gb__loss=deviance, gb__max_depth=6, gb__n_estimators=10; total time=   0.0s\n",
      "[CV] END gb__loss=deviance, gb__max_depth=6, gb__n_estimators=10; total time=   0.0s\n",
      "Fitting 5 folds for each of 1 candidates, totalling 5 fits\n",
      "[CV] END gb__loss=exponential, gb__max_depth=6, gb__n_estimators=100; total time=   0.1s\n",
      "[CV] END gb__loss=exponential, gb__max_depth=6, gb__n_estimators=100; total time=   0.1s\n",
      "[CV] END gb__loss=exponential, gb__max_depth=6, gb__n_estimators=100; total time=   0.1s\n",
      "[CV] END gb__loss=exponential, gb__max_depth=6, gb__n_estimators=100; total time=   0.1s\n",
      "[CV] END gb__loss=exponential, gb__max_depth=6, gb__n_estimators=100; total time=   0.1s\n",
      "Fitting 5 folds for each of 1 candidates, totalling 5 fits\n",
      "[CV] END gb__loss=exponential, gb__max_depth=1, gb__n_estimators=11; total time=   0.0s\n",
      "[CV] END gb__loss=exponential, gb__max_depth=1, gb__n_estimators=11; total time=   0.0s\n",
      "[CV] END gb__loss=exponential, gb__max_depth=1, gb__n_estimators=11; total time=   0.0s\n",
      "[CV] END gb__loss=exponential, gb__max_depth=1, gb__n_estimators=11; total time=   0.0s\n",
      "[CV] END gb__loss=exponential, gb__max_depth=1, gb__n_estimators=11; total time=   0.0s\n",
      "Fitting 5 folds for each of 1 candidates, totalling 5 fits\n",
      "[CV] END gb__loss=exponential, gb__max_depth=11, gb__n_estimators=100; total time=   0.7s\n",
      "[CV] END gb__loss=exponential, gb__max_depth=11, gb__n_estimators=100; total time=   0.6s\n",
      "[CV] END gb__loss=exponential, gb__max_depth=11, gb__n_estimators=100; total time=   0.6s\n",
      "[CV] END gb__loss=exponential, gb__max_depth=11, gb__n_estimators=100; total time=   0.6s\n",
      "[CV] END gb__loss=exponential, gb__max_depth=11, gb__n_estimators=100; total time=   0.6s\n",
      "Fitting 5 folds for each of 1 candidates, totalling 5 fits\n",
      "[CV] END gb__loss=deviance, gb__max_depth=2, gb__n_estimators=95; total time=   0.0s\n",
      "[CV] END gb__loss=deviance, gb__max_depth=2, gb__n_estimators=95; total time=   0.0s\n",
      "[CV] END gb__loss=deviance, gb__max_depth=2, gb__n_estimators=95; total time=   0.0s\n",
      "[CV] END gb__loss=deviance, gb__max_depth=2, gb__n_estimators=95; total time=   0.0s\n",
      "[CV] END gb__loss=deviance, gb__max_depth=2, gb__n_estimators=95; total time=   0.0s\n",
      "Fitting 5 folds for each of 1 candidates, totalling 5 fits\n",
      "[CV] END gb__loss=deviance, gb__max_depth=6, gb__n_estimators=100; total time=   0.1s\n",
      "[CV] END gb__loss=deviance, gb__max_depth=6, gb__n_estimators=100; total time=   0.1s\n"
     ]
    },
    {
     "name": "stdout",
     "output_type": "stream",
     "text": [
      "[CV] END gb__loss=deviance, gb__max_depth=6, gb__n_estimators=100; total time=   0.1s\n",
      "[CV] END gb__loss=deviance, gb__max_depth=6, gb__n_estimators=100; total time=   0.1s\n",
      "[CV] END gb__loss=deviance, gb__max_depth=6, gb__n_estimators=100; total time=   0.1s\n",
      "Fitting 5 folds for each of 1 candidates, totalling 5 fits\n",
      "[CV] END gb__loss=deviance, gb__max_depth=17, gb__n_estimators=76; total time=   0.5s\n",
      "[CV] END gb__loss=deviance, gb__max_depth=17, gb__n_estimators=76; total time=   0.3s\n",
      "[CV] END gb__loss=deviance, gb__max_depth=17, gb__n_estimators=76; total time=   0.3s\n",
      "[CV] END gb__loss=deviance, gb__max_depth=17, gb__n_estimators=76; total time=   0.3s\n",
      "[CV] END gb__loss=deviance, gb__max_depth=17, gb__n_estimators=76; total time=   0.3s\n",
      "Fitting 5 folds for each of 1 candidates, totalling 5 fits\n",
      "[CV] END gb__loss=deviance, gb__max_depth=1, gb__n_estimators=56; total time=   0.0s\n",
      "[CV] END gb__loss=deviance, gb__max_depth=1, gb__n_estimators=56; total time=   0.0s\n",
      "[CV] END gb__loss=deviance, gb__max_depth=1, gb__n_estimators=56; total time=   0.0s\n",
      "[CV] END gb__loss=deviance, gb__max_depth=1, gb__n_estimators=56; total time=   0.0s\n",
      "[CV] END gb__loss=deviance, gb__max_depth=1, gb__n_estimators=56; total time=   0.0s\n",
      "Fitting 5 folds for each of 1 candidates, totalling 5 fits\n",
      "[CV] END gb__loss=exponential, gb__max_depth=4, gb__n_estimators=86; total time=   0.0s\n",
      "[CV] END gb__loss=exponential, gb__max_depth=4, gb__n_estimators=86; total time=   0.0s\n",
      "[CV] END gb__loss=exponential, gb__max_depth=4, gb__n_estimators=86; total time=   0.0s\n",
      "[CV] END gb__loss=exponential, gb__max_depth=4, gb__n_estimators=86; total time=   0.0s\n",
      "[CV] END gb__loss=exponential, gb__max_depth=4, gb__n_estimators=86; total time=   0.0s\n",
      "Fitting 5 folds for each of 1 candidates, totalling 5 fits\n",
      "[CV] END gb__loss=deviance, gb__max_depth=4, gb__n_estimators=100; total time=   0.1s\n",
      "[CV] END gb__loss=deviance, gb__max_depth=4, gb__n_estimators=100; total time=   0.0s\n",
      "[CV] END gb__loss=deviance, gb__max_depth=4, gb__n_estimators=100; total time=   0.0s\n",
      "[CV] END gb__loss=deviance, gb__max_depth=4, gb__n_estimators=100; total time=   0.0s\n",
      "[CV] END gb__loss=deviance, gb__max_depth=4, gb__n_estimators=100; total time=   0.0s\n",
      "Fitting 5 folds for each of 1 candidates, totalling 5 fits\n",
      "[CV] END gb__loss=deviance, gb__max_depth=16, gb__n_estimators=10; total time=   0.0s\n",
      "[CV] END gb__loss=deviance, gb__max_depth=16, gb__n_estimators=10; total time=   0.0s\n",
      "[CV] END gb__loss=deviance, gb__max_depth=16, gb__n_estimators=10; total time=   0.0s\n",
      "[CV] END gb__loss=deviance, gb__max_depth=16, gb__n_estimators=10; total time=   0.0s\n",
      "[CV] END gb__loss=deviance, gb__max_depth=16, gb__n_estimators=10; total time=   0.0s\n",
      "Fitting 5 folds for each of 1 candidates, totalling 5 fits\n",
      "[CV] END gb__loss=deviance, gb__max_depth=31, gb__n_estimators=10; total time=   0.0s\n",
      "[CV] END gb__loss=deviance, gb__max_depth=31, gb__n_estimators=10; total time=   0.0s\n",
      "[CV] END gb__loss=deviance, gb__max_depth=31, gb__n_estimators=10; total time=   0.0s\n",
      "[CV] END gb__loss=deviance, gb__max_depth=31, gb__n_estimators=10; total time=   0.0s\n",
      "[CV] END gb__loss=deviance, gb__max_depth=31, gb__n_estimators=10; total time=   0.0s\n",
      "Fitting 5 folds for each of 1 candidates, totalling 5 fits\n",
      "[CV] END gb__loss=exponential, gb__max_depth=50, gb__n_estimators=100; total time=   0.5s\n",
      "[CV] END gb__loss=exponential, gb__max_depth=50, gb__n_estimators=100; total time=   0.4s\n",
      "[CV] END gb__loss=exponential, gb__max_depth=50, gb__n_estimators=100; total time=   0.4s\n",
      "[CV] END gb__loss=exponential, gb__max_depth=50, gb__n_estimators=100; total time=   0.4s\n",
      "[CV] END gb__loss=exponential, gb__max_depth=50, gb__n_estimators=100; total time=   0.4s\n",
      "Fitting 5 folds for each of 1 candidates, totalling 5 fits\n",
      "[CV] END gb__loss=exponential, gb__max_depth=7, gb__n_estimators=96; total time=   0.3s\n",
      "[CV] END gb__loss=exponential, gb__max_depth=7, gb__n_estimators=96; total time=   0.2s\n",
      "[CV] END gb__loss=exponential, gb__max_depth=7, gb__n_estimators=96; total time=   0.2s\n",
      "[CV] END gb__loss=exponential, gb__max_depth=7, gb__n_estimators=96; total time=   0.2s\n",
      "[CV] END gb__loss=exponential, gb__max_depth=7, gb__n_estimators=96; total time=   0.2s\n",
      "Fitting 5 folds for each of 1 candidates, totalling 5 fits\n",
      "[CV] END gb__loss=deviance, gb__max_depth=50, gb__n_estimators=100; total time=   0.4s\n",
      "[CV] END gb__loss=deviance, gb__max_depth=50, gb__n_estimators=100; total time=   0.4s\n",
      "[CV] END gb__loss=deviance, gb__max_depth=50, gb__n_estimators=100; total time=   0.4s\n",
      "[CV] END gb__loss=deviance, gb__max_depth=50, gb__n_estimators=100; total time=   0.4s\n",
      "[CV] END gb__loss=deviance, gb__max_depth=50, gb__n_estimators=100; total time=   0.4s\n",
      "Fitting 5 folds for each of 1 candidates, totalling 5 fits\n",
      "[CV] END gb__loss=deviance, gb__max_depth=6, gb__n_estimators=73; total time=   0.1s\n",
      "[CV] END gb__loss=deviance, gb__max_depth=6, gb__n_estimators=73; total time=   0.1s\n",
      "[CV] END gb__loss=deviance, gb__max_depth=6, gb__n_estimators=73; total time=   0.1s\n",
      "[CV] END gb__loss=deviance, gb__max_depth=6, gb__n_estimators=73; total time=   0.1s\n",
      "[CV] END gb__loss=deviance, gb__max_depth=6, gb__n_estimators=73; total time=   0.1s\n",
      "Fitting 5 folds for each of 1 candidates, totalling 5 fits\n",
      "[CV] END gb__loss=deviance, gb__max_depth=26, gb__n_estimators=100; total time=   0.4s\n",
      "[CV] END gb__loss=deviance, gb__max_depth=26, gb__n_estimators=100; total time=   0.4s\n",
      "[CV] END gb__loss=deviance, gb__max_depth=26, gb__n_estimators=100; total time=   0.4s\n",
      "[CV] END gb__loss=deviance, gb__max_depth=26, gb__n_estimators=100; total time=   0.4s\n",
      "[CV] END gb__loss=deviance, gb__max_depth=26, gb__n_estimators=100; total time=   0.4s\n",
      "Fitting 5 folds for each of 1 candidates, totalling 5 fits\n",
      "[CV] END gb__loss=exponential, gb__max_depth=5, gb__n_estimators=100; total time=   0.1s\n",
      "[CV] END gb__loss=exponential, gb__max_depth=5, gb__n_estimators=100; total time=   0.1s\n",
      "[CV] END gb__loss=exponential, gb__max_depth=5, gb__n_estimators=100; total time=   0.1s\n",
      "[CV] END gb__loss=exponential, gb__max_depth=5, gb__n_estimators=100; total time=   0.1s\n",
      "[CV] END gb__loss=exponential, gb__max_depth=5, gb__n_estimators=100; total time=   0.1s\n",
      "Fitting 5 folds for each of 1 candidates, totalling 5 fits\n",
      "[CV] END gb__loss=deviance, gb__max_depth=10, gb__n_estimators=10; total time=   0.0s\n",
      "[CV] END gb__loss=deviance, gb__max_depth=10, gb__n_estimators=10; total time=   0.0s\n",
      "[CV] END gb__loss=deviance, gb__max_depth=10, gb__n_estimators=10; total time=   0.0s\n",
      "[CV] END gb__loss=deviance, gb__max_depth=10, gb__n_estimators=10; total time=   0.0s\n",
      "[CV] END gb__loss=deviance, gb__max_depth=10, gb__n_estimators=10; total time=   0.0s\n",
      "Fitting 5 folds for each of 1 candidates, totalling 5 fits\n",
      "[CV] END gb__loss=exponential, gb__max_depth=4, gb__n_estimators=100; total time=   0.1s\n",
      "[CV] END gb__loss=exponential, gb__max_depth=4, gb__n_estimators=100; total time=   0.0s\n",
      "[CV] END gb__loss=exponential, gb__max_depth=4, gb__n_estimators=100; total time=   0.0s\n",
      "[CV] END gb__loss=exponential, gb__max_depth=4, gb__n_estimators=100; total time=   0.0s\n",
      "[CV] END gb__loss=exponential, gb__max_depth=4, gb__n_estimators=100; total time=   0.0s\n"
     ]
    },
    {
     "name": "stderr",
     "output_type": "stream",
     "text": [
      "C:\\Users\\RMM\\anaconda3\\envs\\turma815\\lib\\site-packages\\skopt\\optimizer\\optimizer.py:449: UserWarning: The objective has been evaluated at this point before.\n",
      "  warnings.warn(\"The objective has been evaluated \"\n"
     ]
    },
    {
     "name": "stdout",
     "output_type": "stream",
     "text": [
      "Fitting 5 folds for each of 1 candidates, totalling 5 fits\n",
      "[CV] END gb__loss=exponential, gb__max_depth=5, gb__n_estimators=100; total time=   0.1s\n",
      "[CV] END gb__loss=exponential, gb__max_depth=5, gb__n_estimators=100; total time=   0.1s\n",
      "[CV] END gb__loss=exponential, gb__max_depth=5, gb__n_estimators=100; total time=   0.1s\n",
      "[CV] END gb__loss=exponential, gb__max_depth=5, gb__n_estimators=100; total time=   0.1s\n",
      "[CV] END gb__loss=exponential, gb__max_depth=5, gb__n_estimators=100; total time=   0.1s\n",
      "Fitting 5 folds for each of 1 candidates, totalling 5 fits\n",
      "[CV] END gb__loss=deviance, gb__max_depth=11, gb__n_estimators=100; total time=   0.6s\n",
      "[CV] END gb__loss=deviance, gb__max_depth=11, gb__n_estimators=100; total time=   0.6s\n",
      "[CV] END gb__loss=deviance, gb__max_depth=11, gb__n_estimators=100; total time=   0.6s\n",
      "[CV] END gb__loss=deviance, gb__max_depth=11, gb__n_estimators=100; total time=   0.6s\n",
      "[CV] END gb__loss=deviance, gb__max_depth=11, gb__n_estimators=100; total time=   0.6s\n"
     ]
    },
    {
     "name": "stderr",
     "output_type": "stream",
     "text": [
      "C:\\Users\\RMM\\anaconda3\\envs\\turma815\\lib\\site-packages\\skopt\\optimizer\\optimizer.py:449: UserWarning: The objective has been evaluated at this point before.\n",
      "  warnings.warn(\"The objective has been evaluated \"\n"
     ]
    },
    {
     "name": "stdout",
     "output_type": "stream",
     "text": [
      "Fitting 5 folds for each of 1 candidates, totalling 5 fits\n",
      "[CV] END gb__loss=exponential, gb__max_depth=5, gb__n_estimators=100; total time=   0.1s\n",
      "[CV] END gb__loss=exponential, gb__max_depth=5, gb__n_estimators=100; total time=   0.1s\n",
      "[CV] END gb__loss=exponential, gb__max_depth=5, gb__n_estimators=100; total time=   0.1s\n",
      "[CV] END gb__loss=exponential, gb__max_depth=5, gb__n_estimators=100; total time=   0.1s\n",
      "[CV] END gb__loss=exponential, gb__max_depth=5, gb__n_estimators=100; total time=   0.1s\n",
      "Fitting 5 folds for each of 1 candidates, totalling 5 fits\n",
      "[CV] END gb__loss=exponential, gb__max_depth=28, gb__n_estimators=10; total time=   0.0s\n",
      "[CV] END gb__loss=exponential, gb__max_depth=28, gb__n_estimators=10; total time=   0.0s\n",
      "[CV] END gb__loss=exponential, gb__max_depth=28, gb__n_estimators=10; total time=   0.0s\n",
      "[CV] END gb__loss=exponential, gb__max_depth=28, gb__n_estimators=10; total time=   0.0s\n",
      "[CV] END gb__loss=exponential, gb__max_depth=28, gb__n_estimators=10; total time=   0.0s\n"
     ]
    },
    {
     "name": "stderr",
     "output_type": "stream",
     "text": [
      "C:\\Users\\RMM\\anaconda3\\envs\\turma815\\lib\\site-packages\\skopt\\optimizer\\optimizer.py:449: UserWarning: The objective has been evaluated at this point before.\n",
      "  warnings.warn(\"The objective has been evaluated \"\n"
     ]
    },
    {
     "name": "stdout",
     "output_type": "stream",
     "text": [
      "Fitting 5 folds for each of 1 candidates, totalling 5 fits\n",
      "[CV] END gb__loss=exponential, gb__max_depth=5, gb__n_estimators=100; total time=   0.1s\n",
      "[CV] END gb__loss=exponential, gb__max_depth=5, gb__n_estimators=100; total time=   0.1s\n",
      "[CV] END gb__loss=exponential, gb__max_depth=5, gb__n_estimators=100; total time=   0.1s\n",
      "[CV] END gb__loss=exponential, gb__max_depth=5, gb__n_estimators=100; total time=   0.1s\n",
      "[CV] END gb__loss=exponential, gb__max_depth=5, gb__n_estimators=100; total time=   0.1s\n",
      "Fitting 5 folds for each of 1 candidates, totalling 5 fits\n",
      "[CV] END gb__loss=exponential, gb__max_depth=6, gb__n_estimators=55; total time=   0.1s\n",
      "[CV] END gb__loss=exponential, gb__max_depth=6, gb__n_estimators=55; total time=   0.0s\n",
      "[CV] END gb__loss=exponential, gb__max_depth=6, gb__n_estimators=55; total time=   0.0s\n",
      "[CV] END gb__loss=exponential, gb__max_depth=6, gb__n_estimators=55; total time=   0.0s\n",
      "[CV] END gb__loss=exponential, gb__max_depth=6, gb__n_estimators=55; total time=   0.0s\n",
      "Fitting 5 folds for each of 1 candidates, totalling 5 fits\n",
      "[CV] END gb__loss=deviance, gb__max_depth=8, gb__n_estimators=100; total time=   0.3s\n",
      "[CV] END gb__loss=deviance, gb__max_depth=8, gb__n_estimators=100; total time=   0.3s\n",
      "[CV] END gb__loss=deviance, gb__max_depth=8, gb__n_estimators=100; total time=   0.3s\n",
      "[CV] END gb__loss=deviance, gb__max_depth=8, gb__n_estimators=100; total time=   0.3s\n",
      "[CV] END gb__loss=deviance, gb__max_depth=8, gb__n_estimators=100; total time=   0.3s\n",
      "Fitting 5 folds for each of 1 candidates, totalling 5 fits\n",
      "[CV] END gb__loss=exponential, gb__max_depth=15, gb__n_estimators=100; total time=   0.7s\n",
      "[CV] END gb__loss=exponential, gb__max_depth=15, gb__n_estimators=100; total time=   0.7s\n",
      "[CV] END gb__loss=exponential, gb__max_depth=15, gb__n_estimators=100; total time=   0.5s\n",
      "[CV] END gb__loss=exponential, gb__max_depth=15, gb__n_estimators=100; total time=   0.5s\n",
      "[CV] END gb__loss=exponential, gb__max_depth=15, gb__n_estimators=100; total time=   0.6s\n",
      "Fitting 5 folds for each of 1 candidates, totalling 5 fits\n",
      "[CV] END gb__loss=deviance, gb__max_depth=22, gb__n_estimators=10; total time=   0.0s\n",
      "[CV] END gb__loss=deviance, gb__max_depth=22, gb__n_estimators=10; total time=   0.0s\n",
      "[CV] END gb__loss=deviance, gb__max_depth=22, gb__n_estimators=10; total time=   0.0s\n",
      "[CV] END gb__loss=deviance, gb__max_depth=22, gb__n_estimators=10; total time=   0.0s\n",
      "[CV] END gb__loss=deviance, gb__max_depth=22, gb__n_estimators=10; total time=   0.0s\n"
     ]
    },
    {
     "name": "stderr",
     "output_type": "stream",
     "text": [
      "C:\\Users\\RMM\\anaconda3\\envs\\turma815\\lib\\site-packages\\skopt\\optimizer\\optimizer.py:449: UserWarning: The objective has been evaluated at this point before.\n",
      "  warnings.warn(\"The objective has been evaluated \"\n"
     ]
    },
    {
     "name": "stdout",
     "output_type": "stream",
     "text": [
      "Fitting 5 folds for each of 1 candidates, totalling 5 fits\n",
      "[CV] END gb__loss=exponential, gb__max_depth=5, gb__n_estimators=100; total time=   0.1s\n",
      "[CV] END gb__loss=exponential, gb__max_depth=5, gb__n_estimators=100; total time=   0.1s\n",
      "[CV] END gb__loss=exponential, gb__max_depth=5, gb__n_estimators=100; total time=   0.1s\n",
      "[CV] END gb__loss=exponential, gb__max_depth=5, gb__n_estimators=100; total time=   0.1s\n",
      "[CV] END gb__loss=exponential, gb__max_depth=5, gb__n_estimators=100; total time=   0.1s\n",
      "Fitting 5 folds for each of 1 candidates, totalling 5 fits\n",
      "[CV] END gb__loss=exponential, gb__max_depth=31, gb__n_estimators=100; total time=   0.5s\n",
      "[CV] END gb__loss=exponential, gb__max_depth=31, gb__n_estimators=100; total time=   0.4s\n",
      "[CV] END gb__loss=exponential, gb__max_depth=31, gb__n_estimators=100; total time=   0.4s\n",
      "[CV] END gb__loss=exponential, gb__max_depth=31, gb__n_estimators=100; total time=   0.4s\n",
      "[CV] END gb__loss=exponential, gb__max_depth=31, gb__n_estimators=100; total time=   0.4s\n",
      "Fitting 5 folds for each of 1 candidates, totalling 5 fits\n",
      "[CV] END gb__loss=exponential, gb__max_depth=12, gb__n_estimators=36; total time=   0.3s\n",
      "[CV] END gb__loss=exponential, gb__max_depth=12, gb__n_estimators=36; total time=   0.2s\n",
      "[CV] END gb__loss=exponential, gb__max_depth=12, gb__n_estimators=36; total time=   0.1s\n",
      "[CV] END gb__loss=exponential, gb__max_depth=12, gb__n_estimators=36; total time=   0.2s\n",
      "[CV] END gb__loss=exponential, gb__max_depth=12, gb__n_estimators=36; total time=   0.2s\n",
      "Fitting 5 folds for each of 1 candidates, totalling 5 fits\n",
      "[CV] END gb__loss=exponential, gb__max_depth=5, gb__n_estimators=94; total time=   0.1s\n",
      "[CV] END gb__loss=exponential, gb__max_depth=5, gb__n_estimators=94; total time=   0.1s\n",
      "[CV] END gb__loss=exponential, gb__max_depth=5, gb__n_estimators=94; total time=   0.1s\n",
      "[CV] END gb__loss=exponential, gb__max_depth=5, gb__n_estimators=94; total time=   0.1s\n",
      "[CV] END gb__loss=exponential, gb__max_depth=5, gb__n_estimators=94; total time=   0.1s\n",
      "Fitting 5 folds for each of 1 candidates, totalling 5 fits\n",
      "[CV] END gb__loss=deviance, gb__max_depth=35, gb__n_estimators=10; total time=   0.0s\n",
      "[CV] END gb__loss=deviance, gb__max_depth=35, gb__n_estimators=10; total time=   0.0s\n",
      "[CV] END gb__loss=deviance, gb__max_depth=35, gb__n_estimators=10; total time=   0.0s\n",
      "[CV] END gb__loss=deviance, gb__max_depth=35, gb__n_estimators=10; total time=   0.0s\n",
      "[CV] END gb__loss=deviance, gb__max_depth=35, gb__n_estimators=10; total time=   0.0s\n",
      "Fitting 5 folds for each of 1 candidates, totalling 5 fits\n",
      "[CV] END gb__loss=exponential, gb__max_depth=50, gb__n_estimators=10; total time=   0.0s\n",
      "[CV] END gb__loss=exponential, gb__max_depth=50, gb__n_estimators=10; total time=   0.0s\n",
      "[CV] END gb__loss=exponential, gb__max_depth=50, gb__n_estimators=10; total time=   0.0s\n",
      "[CV] END gb__loss=exponential, gb__max_depth=50, gb__n_estimators=10; total time=   0.0s\n",
      "[CV] END gb__loss=exponential, gb__max_depth=50, gb__n_estimators=10; total time=   0.0s\n"
     ]
    },
    {
     "name": "stderr",
     "output_type": "stream",
     "text": [
      "C:\\Users\\RMM\\anaconda3\\envs\\turma815\\lib\\site-packages\\skopt\\optimizer\\optimizer.py:449: UserWarning: The objective has been evaluated at this point before.\n",
      "  warnings.warn(\"The objective has been evaluated \"\n"
     ]
    },
    {
     "name": "stdout",
     "output_type": "stream",
     "text": [
      "Fitting 5 folds for each of 1 candidates, totalling 5 fits\n",
      "[CV] END gb__loss=exponential, gb__max_depth=5, gb__n_estimators=100; total time=   0.1s\n",
      "[CV] END gb__loss=exponential, gb__max_depth=5, gb__n_estimators=100; total time=   0.1s\n",
      "[CV] END gb__loss=exponential, gb__max_depth=5, gb__n_estimators=100; total time=   0.1s\n",
      "[CV] END gb__loss=exponential, gb__max_depth=5, gb__n_estimators=100; total time=   0.1s\n",
      "[CV] END gb__loss=exponential, gb__max_depth=5, gb__n_estimators=100; total time=   0.1s\n"
     ]
    },
    {
     "name": "stderr",
     "output_type": "stream",
     "text": [
      "C:\\Users\\RMM\\anaconda3\\envs\\turma815\\lib\\site-packages\\skopt\\optimizer\\optimizer.py:449: UserWarning: The objective has been evaluated at this point before.\n",
      "  warnings.warn(\"The objective has been evaluated \"\n"
     ]
    },
    {
     "name": "stdout",
     "output_type": "stream",
     "text": [
      "Fitting 5 folds for each of 1 candidates, totalling 5 fits\n",
      "[CV] END gb__loss=exponential, gb__max_depth=5, gb__n_estimators=100; total time=   0.1s\n",
      "[CV] END gb__loss=exponential, gb__max_depth=5, gb__n_estimators=100; total time=   0.1s\n",
      "[CV] END gb__loss=exponential, gb__max_depth=5, gb__n_estimators=100; total time=   0.1s\n",
      "[CV] END gb__loss=exponential, gb__max_depth=5, gb__n_estimators=100; total time=   0.1s\n",
      "[CV] END gb__loss=exponential, gb__max_depth=5, gb__n_estimators=100; total time=   0.1s\n"
     ]
    },
    {
     "name": "stderr",
     "output_type": "stream",
     "text": [
      "C:\\Users\\RMM\\anaconda3\\envs\\turma815\\lib\\site-packages\\skopt\\optimizer\\optimizer.py:449: UserWarning: The objective has been evaluated at this point before.\n",
      "  warnings.warn(\"The objective has been evaluated \"\n"
     ]
    },
    {
     "name": "stdout",
     "output_type": "stream",
     "text": [
      "Fitting 5 folds for each of 1 candidates, totalling 5 fits\n",
      "[CV] END gb__loss=exponential, gb__max_depth=5, gb__n_estimators=100; total time=   0.1s\n",
      "[CV] END gb__loss=exponential, gb__max_depth=5, gb__n_estimators=100; total time=   0.1s\n",
      "[CV] END gb__loss=exponential, gb__max_depth=5, gb__n_estimators=100; total time=   0.1s\n",
      "[CV] END gb__loss=exponential, gb__max_depth=5, gb__n_estimators=100; total time=   0.1s\n",
      "[CV] END gb__loss=exponential, gb__max_depth=5, gb__n_estimators=100; total time=   0.1s\n"
     ]
    },
    {
     "name": "stderr",
     "output_type": "stream",
     "text": [
      "C:\\Users\\RMM\\anaconda3\\envs\\turma815\\lib\\site-packages\\skopt\\optimizer\\optimizer.py:449: UserWarning: The objective has been evaluated at this point before.\n",
      "  warnings.warn(\"The objective has been evaluated \"\n"
     ]
    },
    {
     "name": "stdout",
     "output_type": "stream",
     "text": [
      "Fitting 5 folds for each of 1 candidates, totalling 5 fits\n",
      "[CV] END gb__loss=exponential, gb__max_depth=5, gb__n_estimators=100; total time=   0.1s\n",
      "[CV] END gb__loss=exponential, gb__max_depth=5, gb__n_estimators=100; total time=   0.1s\n",
      "[CV] END gb__loss=exponential, gb__max_depth=5, gb__n_estimators=100; total time=   0.1s\n",
      "[CV] END gb__loss=exponential, gb__max_depth=5, gb__n_estimators=100; total time=   0.1s\n",
      "[CV] END gb__loss=exponential, gb__max_depth=5, gb__n_estimators=100; total time=   0.1s\n",
      "val. score: 0.7357567162240468\n",
      "test score: 0.7515981735159818\n",
      "best params: OrderedDict([('gb__loss', 'exponential'), ('gb__max_depth', 5), ('gb__n_estimators', 100)])\n"
     ]
    }
   ],
   "source": [
    "from skopt import BayesSearchCV\n",
    "\n",
    "params_grid = {\"gb__loss\" : [\"deviance\", \"exponential\"],  # categorical parameter\n",
    "               \"gb__n_estimators\" : (10, 100, 'uniform'),\n",
    "               \"gb__max_depth\" : (1, 50, 'uniform')\n",
    "               }\n",
    "\n",
    "# log-uniform: understand as search over p = exp(x) by varying x\n",
    "opt = BayesSearchCV(\n",
    "    pipe,\n",
    "    params_grid,\n",
    "    scoring=\"f1_weighted\",\n",
    "    n_iter=50,\n",
    "    cv=splitter,\n",
    "    random_state=42,\n",
    "    verbose=2\n",
    ")\n",
    "\n",
    "opt.fit(X_train, y_train)\n",
    "\n",
    "print(\"val. score: %s\" % opt.best_score_)\n",
    "print(\"test score: %s\" % opt.score(X_test, y_test))\n",
    "print(\"best params: %s\" % str(opt.best_params_))"
   ]
  },
  {
   "cell_type": "code",
   "execution_count": 18,
   "metadata": {
    "ExecuteTime": {
     "end_time": "2022-07-21T15:19:37.229833Z",
     "start_time": "2022-07-21T15:19:36.919489Z"
    }
   },
   "outputs": [
    {
     "name": "stdout",
     "output_type": "stream",
     "text": [
      "\n",
      "Métricas de avaliação de treino:\n"
     ]
    },
    {
     "data": {
      "image/png": "[encoded data removed]",
      "text/plain": [
       "<Figure size 432x288 with 2 Axes>"
      ]
     },
     "metadata": {
      "needs_background": "light"
     },
     "output_type": "display_data"
    },
    {
     "name": "stdout",
     "output_type": "stream",
     "text": [
      "              precision    recall  f1-score   support\n",
      "\n",
      "         bad       1.00      0.96      0.98       240\n",
      "        good       0.98      1.00      0.99       560\n",
      "\n",
      "    accuracy                           0.99       800\n",
      "   macro avg       0.99      0.98      0.98       800\n",
      "weighted avg       0.99      0.99      0.99       800\n",
      "\n",
      "\n",
      "Métricas de avaliação de teste:\n"
     ]
    },
    {
     "data": {
      "image/png": "[encoded data removed]",
      "text/plain": [
       "<Figure size 432x288 with 2 Axes>"
      ]
     },
     "metadata": {
      "needs_background": "light"
     },
     "output_type": "display_data"
    },
    {
     "name": "stdout",
     "output_type": "stream",
     "text": [
      "              precision    recall  f1-score   support\n",
      "\n",
      "         bad       0.62      0.50      0.56        60\n",
      "        good       0.80      0.87      0.84       140\n",
      "\n",
      "    accuracy                           0.76       200\n",
      "   macro avg       0.71      0.69      0.70       200\n",
      "weighted avg       0.75      0.76      0.75       200\n",
      "\n",
      "F1-score weighted: 75.16\n"
     ]
    }
   ],
   "source": [
    "score_opt = metricas_classificacao(opt, X_train, X_test, y_train, y_test)"
   ]
  },
  {
   "cell_type": "code",
   "execution_count": 19,
   "metadata": {
    "ExecuteTime": {
     "end_time": "2022-07-21T15:19:37.414642Z",
     "start_time": "2022-07-21T15:19:37.401543Z"
    }
   },
   "outputs": [
    {
     "name": "stdout",
     "output_type": "stream",
     "text": [
      "Score sem search: 72.70\n",
      "Score com grid: 74.37\n",
      "Score com bays:75.16\n"
     ]
    }
   ],
   "source": [
    "print(f\"Score sem search: {100*score:.2f}\\nScore com grid: {100*score_grid:.2f}\\nScore com bays:{100*score_opt:.2f}\")"
   ]
  },
  {
   "cell_type": "markdown",
   "metadata": {},
   "source": [
    "#### Gráfico de convergência ([convergence](https://scikit-optimize.github.io/stable/modules/generated/skopt.plots.plot_convergence.html#skopt.plots.plot_convergence))\n",
    "Com o método `plot_convergence` podemos ver como está a convergência da nossa análise de hiperparâmetros.\n"
   ]
  },
  {
   "cell_type": "code",
   "execution_count": 20,
   "metadata": {
    "ExecuteTime": {
     "end_time": "2022-07-21T15:19:45.693096Z",
     "start_time": "2022-07-21T15:19:41.347069Z"
    }
   },
   "outputs": [
    {
     "data": {
      "image/png": "[encoded data removed]",
      "text/plain": [
       "<Figure size 432x288 with 1 Axes>"
      ]
     },
     "metadata": {
      "needs_background": "light"
     },
     "output_type": "display_data"
    }
   ],
   "source": [
    "from skopt.plots import plot_convergence\n",
    "\n",
    "plot_convergence(opt.optimizer_results_[0]);"
   ]
  },
  {
   "cell_type": "markdown",
   "metadata": {},
   "source": [
    "#### Gráficos de Dependência Parcial ([Partial Dependence](https://scikit-optimize.github.io/stable/modules/generated/skopt.plots.plot_objective.html#skopt.plots.plot_objective))\n",
    "\n",
    "O que é: o gráfico de dependência parcial mostra o efeito marginal que uma ou duas features têm no resultado previsto de um modelo, marginalizando os valores das demais features de entrada.\n",
    "\n",
    "O método `plot_objective()` plota uma matriz 2-d com os chamados gráficos de dependência parcial da função objetivo, ou seja, mostra a influência de cada dimensão do espaço de busca na função objetivo. Para estimar a função objetivo ele usa o último modelo ajustado.\n",
    "\n",
    "Na diagonal temos o efeito de uma única dimensão na função objetivo, enquanto os gráficos abaixo da diagonal mostram o efeito na função objetivo ao variar duas dimensões.\n",
    "\n",
    "A Dependência Parcial é calculada pela média do valor objetivo para um número de amostras aleatórias no espaço de busca, mantendo uma ou duas dimensões fixas em intervalos regulares. Isso calcula a média do efeito de variar as outras dimensões e mostra a influência de uma ou duas dimensões na função objetivo.\n",
    "\n",
    "Os pequenos pontos pretos são os pontos que foram amostrados durante a otimização, enquanto a estrela vermelha indica o melhor mínimo observado.\n",
    "\n"
   ]
  },
  {
   "cell_type": "code",
   "execution_count": 21,
   "metadata": {
    "ExecuteTime": {
     "end_time": "2022-07-21T15:19:47.270985Z",
     "start_time": "2022-07-21T15:19:45.852689Z"
    }
   },
   "outputs": [
    {
     "data": {
      "image/png": "[encoded data removed]",
      "text/plain": [
       "<Figure size 432x432 with 9 Axes>"
      ]
     },
     "metadata": {
      "needs_background": "light"
     },
     "output_type": "display_data"
    }
   ],
   "source": [
    "from skopt.plots import plot_objective\n",
    "\n",
    "plot_objective(opt.optimizer_results_[0]);"
   ]
  },
  {
   "cell_type": "code",
   "execution_count": 22,
   "metadata": {
    "ExecuteTime": {
     "end_time": "2022-07-21T15:19:47.444323Z",
     "start_time": "2022-07-21T15:19:47.430324Z"
    }
   },
   "outputs": [
    {
     "data": {
      "text/plain": [
       "OrderedDict([('gb__loss', 'exponential'),\n",
       "             ('gb__max_depth', 5),\n",
       "             ('gb__n_estimators', 100)])"
      ]
     },
     "execution_count": 22,
     "metadata": {},
     "output_type": "execute_result"
    }
   ],
   "source": [
    "opt.best_params_"
   ]
  },
  {
   "cell_type": "markdown",
   "metadata": {},
   "source": [
    "#### [Plot Evaluations](https://scikit-optimize.github.io/stable/modules/generated/skopt.plots.plot_evaluations.html#skopt.plots.plot_evaluations)\n",
    "No método `plot_evaluations` a diagonal mostra histogramas dos pontos que foram amostrados para cada uma das dimensões do espaço de busca. \n",
    "No triângulo inferior é mostrado um gráfico de dispersão (scatter) bidimensional de todos os pontos no qual a ordem em que os pontos foram avaliados está codificada na cor de cada ponto. Cores mais escuras/roxas correspondem a amostras anteriores e cores mais claras/amarelas correspondem a amostras posteriores. A estrela em vermelho mostra a localização do mínimo encontrado pelo processo de otimização.\n"
   ]
  },
  {
   "cell_type": "code",
   "execution_count": 23,
   "metadata": {
    "ExecuteTime": {
     "end_time": "2022-07-21T15:19:48.138376Z",
     "start_time": "2022-07-21T15:19:47.584911Z"
    }
   },
   "outputs": [
    {
     "data": {
      "image/png": "[encoded data removed]",
      "text/plain": [
       "<Figure size 432x432 with 9 Axes>"
      ]
     },
     "metadata": {
      "needs_background": "light"
     },
     "output_type": "display_data"
    }
   ],
   "source": [
    "from skopt.plots import plot_evaluations\n",
    "\n",
    "plot_evaluations(opt.optimizer_results_[0]);"
   ]
  },
  {
   "cell_type": "markdown",
   "metadata": {},
   "source": [
    "Exemplos de uso desses gráficos: [link](https://scikit-optimize.github.io/stable/auto_examples/plots/visualizing-results.html#sphx-glr-auto-examples-plots-visualizing-results-py)"
   ]
  },
  {
   "cell_type": "markdown",
   "metadata": {},
   "source": [
    "___\n",
    "___\n",
    "___"
   ]
  },
  {
   "cell_type": "markdown",
   "metadata": {},
   "source": [
    "### Limitações:\n",
    "- A principal limitação da otimização Bayesiana com Processos Gaussianos é a eficiência. À medida que a dimensionalidade aumenta, mais pontos precisam ser avaliados. Infelizmente, o custo da inferência exata no processo gaussiano escala como $O[n^3]$ onde n é o número de pontos de dados.\n",
    "- Não é facilmente paralelizável como o GridSearch e o RandomSearch\n",
    "\n",
    "### Resumo:\n",
    "\n",
    "Queremos encontrar um valor ótimo de uma função que é super cara para avaliar. O que fazemos: avaliamos essa função algumas vezes e usamos um modelo substituto que se aproxima da função verdadeira. Neste caso, o modelo substituto será encontrado através de um processo gaussiano. Utilizamos os valores da média e da variância do processo gaussiano para descobrir onde será o próximo ponto a ser avaliado e para tomar essa decisão utilizamos algo que é chamado de função aquisitiva.\n",
    "\n",
    "Dessa forma, gastamos um pouco mais de tempo selecionando os próximos hiperparâmetros mas fazemos menos chamadas na função objetivo. Na prática, o tempo gasto selecionando os próximos hiperparâmetros é muito menor quando comparado com o tempo gasto na função objetivo.\n",
    "\n",
    "Sempre teremos um trade-off entre garantir a melhor combinação de hiperparâmetros e o custo de encontrá-la.\n",
    "\n",
    "### Bibliografia e Aprofundamento\n",
    "- [Explicação simples e didática](https://pt.quora.com/Como-funciona-a-otimiza%C3%A7%C3%A3o-bayesiana)\n",
    "- [Comparação entre vários pacotes e métodos de otimização baysiana](https://medium.com/@gerbentempelman/comparing-hyperparameter-optimization-frameworks-in-python-a-conceptual-and-pragmatic-approach-24d9baa1cc69)\n",
    "- [Um pouco mais matemático](https://medium.com/criteo-engineering/hyper-parameter-optimization-algorithms-2fe447525903)\n",
    "- [Vídeo mostrando o funcionamento](https://gfycat.com/legalanyantelopegroundsquirrel)\n",
    "- [Gifs mostrando a difetença de uma função de aquisição exploitative e explorative](https://www.andreaamico.eu/reinforcement-learning/2019/05/08/bayesian_opt.html)\n",
    "- [O que é Otimização Bayesiana](https://machinelearningmastery.com/what-is-bayesian-optimization/)\n",
    "\n",
    "Mais GIFS\n",
    "\n",
    "<img src=https://www.andreaamico.eu/asset/images/2019-05-08/ei.gif width=700 text=\"https://www.andreaamico.eu/reinforcement-learning/2019/05/08/bayesian_opt.html\">"
   ]
  },
  {
   "cell_type": "markdown",
   "metadata": {},
   "source": [
    "___\n",
    "___\n",
    "___"
   ]
  },
  {
   "cell_type": "markdown",
   "metadata": {},
   "source": [
    "#### Exercício\n",
    "\n",
    "Aplique uma Otimização Bayesiana no seu projeto e análise os gráficos de otimização. "
   ]
  }
 ],
 "metadata": {
  "kernelspec": {
   "display_name": "Python 3 (ipykernel)",
   "language": "python",
   "name": "python3"
  },
  "language_info": {
   "codemirror_mode": {
    "name": "ipython",
    "version": 3
   },
   "file_extension": ".py",
   "mimetype": "text/x-python",
   "name": "python",
   "nbconvert_exporter": "python",
   "pygments_lexer": "ipython3",
   "version": "3.10.4"
  },
  "varInspector": {
   "cols": {
    "lenName": 16,
    "lenType": 16,
    "lenVar": 40
   },
   "kernels_config": {
    "python": {
     "delete_cmd_postfix": "",
     "delete_cmd_prefix": "del ",
     "library": "var_list.py",
     "varRefreshCmd": "print(var_dic_list())"
    },
    "r": {
     "delete_cmd_postfix": ") ",
     "delete_cmd_prefix": "rm(",
     "library": "var_list.r",
     "varRefreshCmd": "cat(var_dic_list()) "
    }
   },
   "types_to_exclude": [
    "module",
    "function",
    "builtin_function_or_method",
    "instance",
    "_Feature"
   ],
   "window_display": false
  },
  "vscode": {
   "interpreter": {
    "hash": "cb5f626699f206ef97176a4f092b8d9f6e52ae1f84b4bb3163daf9eb25ca3519"
   }
  }
 },
 "nbformat": 4,
 "nbformat_minor": 4
}
