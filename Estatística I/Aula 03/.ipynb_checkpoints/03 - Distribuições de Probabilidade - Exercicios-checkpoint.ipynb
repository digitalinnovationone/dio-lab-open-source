{
 "cells": [
  {
   "cell_type": "markdown",
   "id": "948dcd6e",
   "metadata": {},
   "source": [
    "# 03 - Distribuições de Probabilidade\n",
    "\n",
    "Nessa aula, iremos tratar dos seguintes conteúdos:\n",
    "- Tipos de Variáveis Aleatórias\n",
    "- Esperança e Variância\n",
    "- Distribuição de Probabilidade\n",
    "- Distribuição - Bernoulli e Binomial\n",
    "- Distribuição Poisson\n",
    "- Distribuição Exponencial\n",
    "- Distribuição Uniforme"
   ]
  },
  {
   "cell_type": "markdown",
   "id": "c037c5b5",
   "metadata": {},
   "source": [
    "<img src = \"http://storage.ning.com/topology/rest/1.0/file/get/1490420457?profile=original\" width=800>"
   ]
  },
  {
   "cell_type": "markdown",
   "id": "5d12324b",
   "metadata": {},
   "source": [
    "## "
   ]
  },
  {
   "cell_type": "code",
   "execution_count": 1,
   "id": "bddc08b0",
   "metadata": {},
   "outputs": [],
   "source": [
    "import pandas as pd\n",
    "import numpy as np\n",
    "import matplotlib.pyplot as plt\n",
    "import seaborn as sns"
   ]
  },
  {
   "cell_type": "markdown",
   "id": "7fc17e95",
   "metadata": {},
   "source": [
    "## "
   ]
  },
  {
   "cell_type": "markdown",
   "id": "84c19815",
   "metadata": {},
   "source": [
    "## Exercícios"
   ]
  },
  {
   "cell_type": "markdown",
   "id": "bed5d17d",
   "metadata": {},
   "source": [
    "__1)__ Em uma caixa há 7 bolas brancas, 4 pretas e 5 vermelhas. Retira-se 6 bolas com reposição. Calcule a probabilidade de que:\n",
    "\n",
    "__A)__ saiam 4 bolas vermelhas:\n",
    "\n",
    "__B)__ pelo menos 3 bolas brancas:\n",
    "\n",
    "__C)__ 1 ou 2 bolas pretas."
   ]
  },
  {
   "cell_type": "markdown",
   "id": "0201c99a",
   "metadata": {},
   "source": [
    "## Resolução"
   ]
  },
  {
   "cell_type": "markdown",
   "id": "a0598681",
   "metadata": {},
   "source": [
    "__A)__ saiam 4 bolas vermelhas;"
   ]
  },
  {
   "cell_type": "code",
   "execution_count": 70,
   "id": "b93919d6",
   "metadata": {},
   "outputs": [],
   "source": [
    "from math import factorial\n",
    "\n",
    "def binomial(n,p,k):\n",
    "    C = (factorial(n)/(factorial(n-k)*factorial(k)))\n",
    "    return C*np.power(p, k)*np.power(1-p, n-k)"
   ]
  },
  {
   "cell_type": "code",
   "execution_count": 71,
   "id": "9bc99f24",
   "metadata": {},
   "outputs": [
    {
     "name": "stdout",
     "output_type": "stream",
     "text": [
      "A probabilidade será:  0.0676\n"
     ]
    }
   ],
   "source": [
    "# numero de retiradas\n",
    "n = 6\n",
    "\n",
    "# numero de brancas\n",
    "k = 4\n",
    "\n",
    "# probabilidade de uma bola vermelha\n",
    "p = 5/16\n",
    "\n",
    "# print do resultado teorico\n",
    "print(\"A probabilidade será: \", np.round(binomial(n,p,k), 4))"
   ]
  },
  {
   "cell_type": "markdown",
   "id": "34df7a5a",
   "metadata": {},
   "source": [
    "__B)__ saiam pelo menos 3 brancas:"
   ]
  },
  {
   "cell_type": "code",
   "execution_count": 72,
   "id": "74711f33",
   "metadata": {},
   "outputs": [
    {
     "name": "stdout",
     "output_type": "stream",
     "text": [
      "A probabilidade será:  0.5331\n"
     ]
    }
   ],
   "source": [
    "# numero de retiradas\n",
    "n = 6\n",
    "\n",
    "# probabilidade de uma bola preta\n",
    "p = 7/16\n",
    "\n",
    "# calculando a probabilidade acumulativa\n",
    "prop = 0\n",
    "for k in range(3, 7):\n",
    "       prop += binomial(n,p,k)\n",
    "\n",
    "# PRint da probabilidade\n",
    "print(\"A probabilidade será: \", np.round(prop, 4))"
   ]
  },
  {
   "cell_type": "markdown",
   "id": "e9db0b06",
   "metadata": {},
   "source": [
    "__C)__ 1 ou 2 bolas pretas."
   ]
  },
  {
   "cell_type": "code",
   "execution_count": 73,
   "id": "fdaec2b1",
   "metadata": {},
   "outputs": [
    {
     "name": "stdout",
     "output_type": "stream",
     "text": [
      "A probabilidade será:  0.6526\n"
     ]
    }
   ],
   "source": [
    "# numero de retiradas\n",
    "n = 6\n",
    "\n",
    "# probabilidade de uma bola preta\n",
    "p = 4/16\n",
    "\n",
    "# calculando a probabilidade acumulativa\n",
    "prop = 0\n",
    "for k in range(1, 3):\n",
    "       prop += binomial(n,p,k)\n",
    "\n",
    "# PRint da probabilidade\n",
    "print(\"A probabilidade será: \", np.round(prop, 4))"
   ]
  },
  {
   "cell_type": "markdown",
   "id": "840489b6",
   "metadata": {},
   "source": [
    "## "
   ]
  },
  {
   "cell_type": "markdown",
   "id": "e1753989",
   "metadata": {},
   "source": [
    "__2)__ Em um livro de 800 páginas há 800 erros de impressão. Qual a probabilidade de que uma página contenha pelo menos 3 erros?"
   ]
  },
  {
   "cell_type": "code",
   "execution_count": 74,
   "id": "85feadd3",
   "metadata": {},
   "outputs": [
    {
     "name": "stdout",
     "output_type": "stream",
     "text": [
      "P(k = 0) =  0.08030139707139416\n"
     ]
    }
   ],
   "source": [
    "#Define o poisson\n",
    "def Poisson(lbd, k):\n",
    "    return np.exp(-lbd)*(lbd**k)/factorial(k)\n",
    "\n",
    "# lambda\n",
    "lbd = 800/800\n",
    "\n",
    "# zera a probabilidade\n",
    "prop = 0\n",
    "\n",
    "# loop para os casos\n",
    "for k in range(0, 3):\n",
    "    prop += Poisson(lbd, k)\n",
    "\n",
    "# print do resultado\n",
    "# Obs P(X >= 3) = 1 - P(X < 3) = 1 - [P(X = 0) + P(X = 1) + P(X = 2)]\n",
    "print(\"P(X >= 3) = \", 1-prop)"
   ]
  },
  {
   "cell_type": "markdown",
   "id": "4ed57c97",
   "metadata": {},
   "source": [
    "## "
   ]
  },
  {
   "cell_type": "markdown",
   "id": "e1f55925",
   "metadata": {},
   "source": [
    "__3)__ Numa criação de coelhos, 45% são machos. Qual a probabilidade de nascerem pelo menos 5 coelhos machos num dia em que nasceram 15 coelhos?"
   ]
  },
  {
   "cell_type": "code",
   "execution_count": 76,
   "id": "5fd11049",
   "metadata": {},
   "outputs": [
    {
     "name": "stdout",
     "output_type": "stream",
     "text": [
      "A probabilidade será:  0.8796006952925634\n"
     ]
    }
   ],
   "source": [
    "# numero de coelhos recem nascidos\n",
    "n = 15\n",
    "\n",
    "# probabilidade de macho\n",
    "p = 0.45\n",
    "\n",
    "# calculando a probabilidade acumulativa\n",
    "prop = 0\n",
    "for k in range(0, 5):\n",
    "       prop += binomial(n,p,k)\n",
    "\n",
    "# PRint da probabilidade\n",
    "# Obs: P(X >= 5) = 1 - P(X < 5) = 1 - [P(X = 0) + P(X = 1) + P(X = 2) + P(X = 3) + P(X = 4)]\n",
    "print(\"A probabilidade será: \", 1-prop)"
   ]
  },
  {
   "cell_type": "markdown",
   "id": "acd19444",
   "metadata": {},
   "source": [
    "## "
   ]
  },
  {
   "cell_type": "markdown",
   "id": "eb5be6f8",
   "metadata": {},
   "source": [
    "__4)__ Numa estrada há 2 acidentes para cada 100 km. Qual a probabilidade de que em:\n",
    "\n",
    "__A)__ 250 km pelo menos 3 acidentes?"
   ]
  },
  {
   "cell_type": "code",
   "execution_count": 78,
   "id": "fdaf453e",
   "metadata": {},
   "outputs": [
    {
     "name": "stdout",
     "output_type": "stream",
     "text": [
      "P(k >= 3) =  0.8753479805169189\n"
     ]
    }
   ],
   "source": [
    "def Poisson(lbd, k):\n",
    "    return np.exp(-lbd)*(lbd**k)/factorial(k)\n",
    "\n",
    "lbd = (250*2)/100 # 2 acidentes/100 km * 250km = 5 acidentes/km\n",
    "\n",
    "prop = 0\n",
    "for k in range(0,3):\n",
    "    prop += Poisson(lbd, k)\n",
    "\n",
    "# print do resultado\n",
    "# Obs: P(X >= 3) = 1 - P(X < 3) = 1 - [P(X = 0) + P(X = 1) + P(X = 2)]\n",
    "print(\"P(k >= 3) = \", 1-prop)"
   ]
  },
  {
   "cell_type": "markdown",
   "id": "7b32130a",
   "metadata": {},
   "source": [
    "__B)__ 300 km ocorram 5 acidentes?"
   ]
  },
  {
   "cell_type": "code",
   "execution_count": 79,
   "id": "9099f355",
   "metadata": {},
   "outputs": [
    {
     "name": "stdout",
     "output_type": "stream",
     "text": [
      "P(X = 5) =  0.16062314104798003\n"
     ]
    }
   ],
   "source": [
    "lbd = (300*2)/100 # 2 acidentes/100 km * 300km = 6 acidentes/km\n",
    "\n",
    "k = 5 # 5 acidentes\n",
    "\n",
    "# print do resultado\n",
    "print(\"P(X = 5) = \", Poisson(lbd, k))"
   ]
  },
  {
   "cell_type": "code",
   "execution_count": null,
   "id": "27cf07c7",
   "metadata": {},
   "outputs": [],
   "source": []
  }
 ],
 "metadata": {
  "kernelspec": {
   "display_name": "Python 3 (ipykernel)",
   "language": "python",
   "name": "python3"
  },
  "language_info": {
   "codemirror_mode": {
    "name": "ipython",
    "version": 3
   },
   "file_extension": ".py",
   "mimetype": "text/x-python",
   "name": "python",
   "nbconvert_exporter": "python",
   "pygments_lexer": "ipython3",
   "version": "3.9.7"
  }
 },
 "nbformat": 4,
 "nbformat_minor": 5
}
