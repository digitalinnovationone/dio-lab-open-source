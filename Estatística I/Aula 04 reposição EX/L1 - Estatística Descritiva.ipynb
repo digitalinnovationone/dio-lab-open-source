{
 "cells": [
  {
   "cell_type": "markdown",
   "id": "bf41096b",
   "metadata": {},
   "source": [
    "# Exercícios - Estatística Descritiva"
   ]
  },
  {
   "cell_type": "markdown",
   "id": "dc9efb9e",
   "metadata": {},
   "source": [
    "### Questão 1"
   ]
  },
  {
   "cell_type": "markdown",
   "id": "f0f7505b",
   "metadata": {},
   "source": [
    "Os exercícios de 1 a 5 serão desenvolvidos utilizando o _dataset_ `Titanic.csv`:\n",
    "    \n",
    "Calcule a frequência absoluta para os sobreviventes no _Titanic_.\n",
    "\n",
    "__Dica.:__ Utilize a função `.value_counts()`"
   ]
  },
  {
   "cell_type": "markdown",
   "id": "02cce555",
   "metadata": {},
   "source": [
    "Carregando as principais bibliotecas que iremos utilizar:"
   ]
  },
  {
   "cell_type": "code",
   "execution_count": 1,
   "id": "35fab489",
   "metadata": {
    "ExecuteTime": {
     "end_time": "2021-10-08T18:56:44.331870Z",
     "start_time": "2021-10-08T18:56:39.679403Z"
    }
   },
   "outputs": [],
   "source": [
    "import pandas as pd\n",
    "import numpy as np\n",
    "import matplotlib.pyplot as plt\n",
    "import seaborn as sns\n",
    "\n",
    "# sns.load_dataset('titanic')"
   ]
  },
  {
   "cell_type": "code",
   "execution_count": null,
   "id": "21d68928",
   "metadata": {},
   "outputs": [],
   "source": []
  },
  {
   "cell_type": "code",
   "execution_count": null,
   "id": "c83641da",
   "metadata": {},
   "outputs": [],
   "source": []
  },
  {
   "cell_type": "code",
   "execution_count": null,
   "id": "75be9f7b",
   "metadata": {},
   "outputs": [],
   "source": []
  },
  {
   "cell_type": "markdown",
   "id": "70fbcc9a",
   "metadata": {},
   "source": [
    "### Questão 2"
   ]
  },
  {
   "cell_type": "markdown",
   "id": "26ebb4fc",
   "metadata": {},
   "source": [
    "Os exercícios de 1 a 5 serão desenvolvidos utilizando o _dataset_ `Titanic.csv`:\n",
    "    \n",
    "Calcule a frequência relativa, relativa percentual e acumulativa para os sobreviventes no _Titanic_.\n",
    "\n",
    "__Dica.:__ Utilize a função `.value_counts()`"
   ]
  },
  {
   "cell_type": "code",
   "execution_count": null,
   "id": "1b111474",
   "metadata": {},
   "outputs": [],
   "source": []
  },
  {
   "cell_type": "code",
   "execution_count": null,
   "id": "b237f03d",
   "metadata": {},
   "outputs": [],
   "source": []
  },
  {
   "cell_type": "code",
   "execution_count": null,
   "id": "c8d4b94a",
   "metadata": {},
   "outputs": [],
   "source": []
  },
  {
   "cell_type": "markdown",
   "id": "a1490edd",
   "metadata": {},
   "source": [
    "### Questão 3"
   ]
  },
  {
   "cell_type": "markdown",
   "id": "045b0f2a",
   "metadata": {},
   "source": [
    "Os exercícios de 1 a 5 serão desenvolvidos utilizando o _dataset_ `Titanic.csv`:\n",
    "    \n",
    "Utilizando a coluna `Age` do _dataset Titanic_, defina as principais métricas estatísticas para essa variável tais como:\n",
    "- Média;\n",
    "- Desvio Padrão;\n",
    "- Mínimo;\n",
    "- Primeiro Quartil;\n",
    "- Segundo Quartil (Mediana);\n",
    "- Terceiro Quartil;\n",
    "- Distância Interquartil (IQR);\n",
    "- Máximo;\n",
    "- Skewness;\n",
    "- Moda."
   ]
  },
  {
   "cell_type": "code",
   "execution_count": null,
   "id": "70c58f1a",
   "metadata": {},
   "outputs": [],
   "source": []
  },
  {
   "cell_type": "code",
   "execution_count": null,
   "id": "6a09ba97",
   "metadata": {},
   "outputs": [],
   "source": []
  },
  {
   "cell_type": "code",
   "execution_count": null,
   "id": "dfc0905a",
   "metadata": {},
   "outputs": [],
   "source": []
  },
  {
   "cell_type": "markdown",
   "id": "0c48d8bc",
   "metadata": {},
   "source": [
    "### Questão 4"
   ]
  },
  {
   "cell_type": "markdown",
   "id": "02b13cc4",
   "metadata": {},
   "source": [
    "Os exercícios de 1 a 5 serão desenvolvidos utilizando o _dataset_ `Titanic.csv`:\n",
    "    \n",
    "Crie um gráfico da dispersão das idades dos passageiros do _Titanic_ e identifique os pontos onde se encontram a média, mediana e moda das idades."
   ]
  },
  {
   "cell_type": "code",
   "execution_count": null,
   "id": "379adf78",
   "metadata": {},
   "outputs": [],
   "source": []
  },
  {
   "cell_type": "code",
   "execution_count": null,
   "id": "a7a84d19",
   "metadata": {},
   "outputs": [],
   "source": []
  },
  {
   "cell_type": "code",
   "execution_count": null,
   "id": "cf6cee1a",
   "metadata": {},
   "outputs": [],
   "source": []
  },
  {
   "cell_type": "markdown",
   "id": "43458232",
   "metadata": {},
   "source": [
    "### Questão 5"
   ]
  },
  {
   "cell_type": "markdown",
   "id": "a722484e",
   "metadata": {},
   "source": [
    "Os exercícios de 1 a 5 serão desenvolvidos utilizando o _dataset_ `Titanic.csv`:\n",
    "    \n",
    "Ainda trabalhando com os valores das idades crie três _Boxplots_:\n",
    "- _Boxplot_ das idades para todos os passageiros;\n",
    "- _Boxplot_ das idades dos passageiros separados pelo sexo.\n",
    "- _Boxplot_ das idades dos passageiros separados pelo sexo e por sobreviventes."
   ]
  },
  {
   "cell_type": "code",
   "execution_count": null,
   "id": "2924a6b8",
   "metadata": {},
   "outputs": [],
   "source": []
  },
  {
   "cell_type": "code",
   "execution_count": null,
   "id": "98b41d40",
   "metadata": {},
   "outputs": [],
   "source": []
  },
  {
   "cell_type": "code",
   "execution_count": null,
   "id": "a16588e6",
   "metadata": {},
   "outputs": [],
   "source": []
  },
  {
   "cell_type": "markdown",
   "id": "9060a1ca",
   "metadata": {},
   "source": [
    "### Questão 6"
   ]
  },
  {
   "cell_type": "markdown",
   "id": "aa6db351",
   "metadata": {
    "ExecuteTime": {
     "end_time": "2021-10-08T18:58:25.038529Z",
     "start_time": "2021-10-08T18:58:25.027559Z"
    }
   },
   "source": [
    "Com o dataset `penguins`, responda as questões abaixo:\n",
    "\n",
    "sns.load_dataset('penguins')"
   ]
  },
  {
   "cell_type": "markdown",
   "id": "e8e2272c",
   "metadata": {},
   "source": [
    "Classifique o tipo de dado de cada coluna"
   ]
  },
  {
   "cell_type": "code",
   "execution_count": null,
   "id": "6c8561b5",
   "metadata": {},
   "outputs": [],
   "source": [
    "penguins = sns.load_dataset('penguins')\n",
    "penguins"
   ]
  },
  {
   "cell_type": "code",
   "execution_count": null,
   "id": "8a2162bc",
   "metadata": {},
   "outputs": [],
   "source": []
  },
  {
   "cell_type": "code",
   "execution_count": null,
   "id": "1269564b",
   "metadata": {},
   "outputs": [],
   "source": []
  },
  {
   "cell_type": "markdown",
   "id": "cd8fe357",
   "metadata": {},
   "source": [
    "### Questão 7\n",
    "Calcule a frequência absoluta para cada espécie de pinguim"
   ]
  },
  {
   "cell_type": "code",
   "execution_count": null,
   "id": "820b61a5",
   "metadata": {},
   "outputs": [],
   "source": []
  },
  {
   "cell_type": "code",
   "execution_count": null,
   "id": "f581d503",
   "metadata": {},
   "outputs": [],
   "source": []
  },
  {
   "cell_type": "code",
   "execution_count": null,
   "id": "536e916f",
   "metadata": {},
   "outputs": [],
   "source": []
  },
  {
   "cell_type": "markdown",
   "id": "620b2761",
   "metadata": {
    "ExecuteTime": {
     "end_time": "2021-10-08T19:01:38.859000Z",
     "start_time": "2021-10-08T19:01:38.844322Z"
    }
   },
   "source": [
    "### Questão 8\n",
    "Calcule a frequência relativa, relativa percentual e acumulativa para os sobreviventes no Titanic"
   ]
  },
  {
   "cell_type": "code",
   "execution_count": null,
   "id": "4e52e2ba",
   "metadata": {},
   "outputs": [],
   "source": []
  },
  {
   "cell_type": "code",
   "execution_count": null,
   "id": "ef31f758",
   "metadata": {},
   "outputs": [],
   "source": []
  },
  {
   "cell_type": "code",
   "execution_count": null,
   "id": "f36ea0e9",
   "metadata": {},
   "outputs": [],
   "source": []
  },
  {
   "cell_type": "markdown",
   "id": "8c784572",
   "metadata": {},
   "source": [
    "### Questão 9\n",
    "Utilizando a coluna `body_mass_g` do dataset Penguins, defina as principais métricas estatísticas para essa variável tais como:\n",
    "\n",
    "- Média;\n",
    "- Desvio Padrão;\n",
    "- Mínimo;\n",
    "- Primeiro Quartil;\n",
    "- Segundo Quartil (Mediana);\n",
    "- Terceiro Quartil;\n",
    "- Distância Interquartil (IQR);\n",
    "- Máximo;\n",
    "- Skewness;\n",
    "- Moda."
   ]
  },
  {
   "cell_type": "code",
   "execution_count": null,
   "id": "339826ce",
   "metadata": {},
   "outputs": [],
   "source": [
    "penguins = sns.load_dataset('penguins')\n",
    "penguins"
   ]
  },
  {
   "cell_type": "code",
   "execution_count": null,
   "id": "64ecad20",
   "metadata": {},
   "outputs": [],
   "source": []
  },
  {
   "cell_type": "code",
   "execution_count": null,
   "id": "ea9d72da",
   "metadata": {},
   "outputs": [],
   "source": []
  },
  {
   "cell_type": "markdown",
   "id": "13c53261",
   "metadata": {},
   "source": [
    "### Questão 10\n",
    "Crie um gráfico da dispersão da massa dos pinguins e identifique os pontos onde se encontram a média, mediana e moda das idades."
   ]
  },
  {
   "cell_type": "code",
   "execution_count": null,
   "id": "10ac9d4d",
   "metadata": {},
   "outputs": [],
   "source": []
  },
  {
   "cell_type": "code",
   "execution_count": null,
   "id": "6c1eb66e",
   "metadata": {},
   "outputs": [],
   "source": []
  },
  {
   "cell_type": "code",
   "execution_count": null,
   "id": "b524464d",
   "metadata": {},
   "outputs": [],
   "source": []
  },
  {
   "cell_type": "markdown",
   "id": "312a2d79",
   "metadata": {
    "ExecuteTime": {
     "end_time": "2021-10-08T19:07:27.672797Z",
     "start_time": "2021-10-08T19:07:27.657230Z"
    }
   },
   "source": [
    "### Questão 11\n",
    "Ainda trabalhando com os valores das massas dos pinguins crie três Boxplots:\n",
    "\n",
    "- Boxplot das massas para todos os pinguins\n",
    "- Boxplot das massas dos pinguins separados pelo sexo.\n",
    "- Boxplot das massas dos pinguins separados pelo sexo e pela espécies."
   ]
  },
  {
   "cell_type": "code",
   "execution_count": null,
   "id": "c82a0953",
   "metadata": {},
   "outputs": [],
   "source": []
  },
  {
   "cell_type": "code",
   "execution_count": null,
   "id": "1a585cc7",
   "metadata": {},
   "outputs": [],
   "source": []
  },
  {
   "cell_type": "code",
   "execution_count": null,
   "id": "c0dfb4b1",
   "metadata": {},
   "outputs": [],
   "source": []
  }
 ],
 "metadata": {
  "kernelspec": {
   "display_name": "Python 3 (ipykernel)",
   "language": "python",
   "name": "python3"
  },
  "language_info": {
   "codemirror_mode": {
    "name": "ipython",
    "version": 3
   },
   "file_extension": ".py",
   "mimetype": "text/x-python",
   "name": "python",
   "nbconvert_exporter": "python",
   "pygments_lexer": "ipython3",
   "version": "3.8.11"
  },
  "varInspector": {
   "cols": {
    "lenName": 16,
    "lenType": 16,
    "lenVar": 40
   },
   "kernels_config": {
    "python": {
     "delete_cmd_postfix": "",
     "delete_cmd_prefix": "del ",
     "library": "var_list.py",
     "varRefreshCmd": "print(var_dic_list())"
    },
    "r": {
     "delete_cmd_postfix": ") ",
     "delete_cmd_prefix": "rm(",
     "library": "var_list.r",
     "varRefreshCmd": "cat(var_dic_list()) "
    }
   },
   "types_to_exclude": [
    "module",
    "function",
    "builtin_function_or_method",
    "instance",
    "_Feature"
   ],
   "window_display": false
  }
 },
 "nbformat": 4,
 "nbformat_minor": 5
}
