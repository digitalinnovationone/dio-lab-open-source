{
 "cells": [
  {
   "cell_type": "markdown",
   "id": "ab3dfefb",
   "metadata": {},
   "source": [
    "# Exercícios - Probabilidade"
   ]
  },
  {
   "cell_type": "markdown",
   "id": "65123c45",
   "metadata": {},
   "source": [
    "### Questão 1"
   ]
  },
  {
   "cell_type": "markdown",
   "id": "f36953b8",
   "metadata": {},
   "source": [
    "Um teste para COVID-19 possui uma taxa de 5% de falso positivo e 1% de falso negativo, ou seja, em 5% dos não-infectados acusa como infectados, e em 1% dos infectados acusa como não infectados. Sabendo que atualmente 1% da população está infectada, calcule a probabilidade de um paciente cujo teste apontou positivo estar realmente infectado."
   ]
  },
  {
   "cell_type": "markdown",
   "id": "b74c5bea",
   "metadata": {},
   "source": [
    "### Resolução:"
   ]
  },
  {
   "cell_type": "markdown",
   "id": "11d1b102",
   "metadata": {},
   "source": [
    "Temos uma determinada doença C, e um teste T utilizado para detectar esta doença. \n",
    "\n",
    "O teste não é 100% confiável, indicando pessoas que **não têm a doença como doentes (falsos positivos)** e **não detectando a doença em pessoas que a possuem (falsos negativos)**\n",
    "\n",
    "> Consideremos que 1% das pessoas possui a doença: $P(C) = 0.01$\n",
    "\n",
    "> Logo, 99% das pessoas não a possui: $P(¬C) = 0.99$\n",
    "\n",
    "Os Falsos positivos são 5%, ou seja 5% dos testes positivos na verdade não estâo com a doença. Já o caso dos falsos negativos são 1%, ou seja 1% dos testes negativos na verdade a pessoa está realmente doente. Vamos ver esse resumo na matriz de confusão abaixo:\n",
    "\n",
    "\n",
    "|                | Pessoa Doente | Pessoa Não Doente |\n",
    "|----------------|---------------|-------------------|\n",
    "| Teste positivo | 99 %          | 5 %               |\n",
    "| Teste Negativo |  1 %          | 95 %              |\n",
    "\n",
    "\n",
    "Agora, a chance de você **ter a doença e o teste detecta-la (verdadeiro positivo)** é igual **a chance de você ter a doença multiplicado pela chance do teste ter dado positivo corretamente**;\n",
    "\n",
    "Analogamente, a chance de você **não ter a doença e o teste detecta-la mesmo assim (falso positivo)** é igual **a chance de você não ter a doença multiplicado pela chance do teste ter dado positivo incorretamente**;\n",
    "\n",
    "E assim por diante, para todos os resultados. Atualizamos então a tabela, que fica assim:\n",
    "\n",
    "|                | Pessoa Doente                            | Pessoa Não Doente                               |\n",
    "|----------------|------------------------------------------|-------------------------------------------------|\n",
    "| **Teste positivo** | Prob Doente e teste pos: 1% × 99% = 0,99% | Prob Não Doente e teste pos: 99% × 5% = 4,95%   |\n",
    "| **Teste Negativo** | Prob Doente e teste neg: 1% × 1% = 0,01% | Prob Não Doente e teste neg: 99% × 95% = 94,05% |\n",
    "\n",
    "\n",
    "Considerando o cálculo básico de probabilidade, temos que a chance de ter a doença é igual à **chance do evento desejado dividido por todas as possibilidades**. \n",
    "\n",
    "O evento desejado é um positivo verdadeiro, ou seja, **teste positivo e a pessoa com doença**.\n",
    "\n",
    "O **total de possibilidades com relação ao teste positivo** seria a **soma da probabilidade de “doente e teste pos”** (verdadeiro positivo) com **“não doente e teste pos” (falso positivo)**, que resultará em 0,99% + 4,95%, igual a 5,94%.\n",
    "\n",
    "Fazendo toda a conta, nossa chance de ter a doença se temos um teste positivo é de **0,99%/5,94% = 0.1667**, ou **16,67%**."
   ]
  },
  {
   "cell_type": "markdown",
   "id": "e7a59a5b",
   "metadata": {},
   "source": [
    "## "
   ]
  },
  {
   "cell_type": "markdown",
   "id": "e1e8b03b",
   "metadata": {},
   "source": [
    "### Questão 2"
   ]
  },
  {
   "cell_type": "markdown",
   "id": "9b42655a",
   "metadata": {},
   "source": [
    "A probabilidade de dado honesto é conhecido e igual a $1/6$, mas quando vamos testar isso com um dado físico, não necessariamente vai cair uma vez cada face do dado (se eu lançar ele 6 vezes). A ideia é que conforme fazermos vários testes a tendência é que a probabilidade de cada face irá convergir pro valor esperado. \n",
    "\n",
    "Vamos testar este conceito utilizando da programação seguintes os itens abaixo:]\n",
    "\n",
    "__A)__ Desenvolva uma função que receba um valor n, onde n é a quantidade de elementos e o objetivo da função é retorna uma _Series_ com n elementos sendo esses elementos números variando de 1 e 6;\n",
    "\n",
    "__B)__ Teste a função para n igual a 10, 100, 1.000, 10.000 e 100.000 casos e para cada um deles calcule a proporção de vezes que aparece cada número;\n",
    "\n",
    "__DIca.:__ utilize a função do _Pandas_ `.value_counts`\n",
    "\n",
    "__C)__ O que podermos dizer sobre a afirmação do enunciado, a tendência é que as probabilidades irâo convergir para $1/6$?"
   ]
  },
  {
   "cell_type": "markdown",
   "id": "71734866",
   "metadata": {},
   "source": [
    "### Resolução:"
   ]
  },
  {
   "cell_type": "markdown",
   "id": "24dfa44c",
   "metadata": {},
   "source": [
    "__A)__ Desenvolva uma função que receba um valor n, onde n é a quantidade de elementos e o objetivo da função é retorna uma _Series_ com n elementos sendo esses elementos números variando de 1 e 6;"
   ]
  },
  {
   "cell_type": "markdown",
   "id": "98acf450",
   "metadata": {},
   "source": [
    "Primeiramente vamos importar as bibliotecas necessárias:"
   ]
  },
  {
   "cell_type": "code",
   "execution_count": 1,
   "id": "c732a185",
   "metadata": {},
   "outputs": [],
   "source": [
    "# Import das Libs\n",
    "import random\n",
    "import pandas as pd"
   ]
  },
  {
   "cell_type": "code",
   "execution_count": 2,
   "id": "b88cda11",
   "metadata": {},
   "outputs": [],
   "source": [
    "# Cria uma função que gera aleatoriamente n elementos entre 1 e 6\n",
    "def gera_faces(n):\n",
    "    # Cria uma lista vazia\n",
    "    list_numbers = []\n",
    "    \n",
    "    # Loop entre 0 e n-ésimo elemento\n",
    "    for i in range (0, n):\n",
    "        # Usando o random.randint gera um número aleatório entre 1 e 6\n",
    "        number = random.randint(1, 6)\n",
    "        \n",
    "        # Salva o número gerado em uma lista\n",
    "        list_numbers.append(number)\n",
    "\n",
    "    # a saída convertemos a lista em uma Series do Pandas\n",
    "    return pd.Series(list_numbers)"
   ]
  },
  {
   "cell_type": "markdown",
   "id": "fdd57481",
   "metadata": {},
   "source": [
    "__B)__ Teste a função para n igual a 10, 100, 1.000, 10.000 e 100.000 casos e para cada um deles calcule a proporção de vezes que aparece cada número;"
   ]
  },
  {
   "cell_type": "code",
   "execution_count": 3,
   "id": "84f76a1b",
   "metadata": {},
   "outputs": [
    {
     "name": "stdout",
     "output_type": "stream",
     "text": [
      "16.666666666666664\n"
     ]
    }
   ],
   "source": [
    "# Calculo da Probabilidade teórica de uma face do dado honesto em porcentagem\n",
    "P = (1/6)*100\n",
    "\n",
    "# PRint da Probabilidade\n",
    "print(P)"
   ]
  },
  {
   "cell_type": "code",
   "execution_count": 4,
   "id": "3427d4e1",
   "metadata": {},
   "outputs": [
    {
     "data": {
      "text/plain": [
       "0    5\n",
       "1    6\n",
       "2    1\n",
       "3    4\n",
       "4    2\n",
       "5    2\n",
       "6    5\n",
       "7    6\n",
       "8    4\n",
       "9    6\n",
       "dtype: int64"
      ]
     },
     "execution_count": 4,
     "metadata": {},
     "output_type": "execute_result"
    }
   ],
   "source": [
    "# Ensaio 1 - 10 elementos\n",
    "# Gera 10 números aleatórios\n",
    "serie10 = gera_faces(10)\n",
    "\n",
    "# Print da Serie\n",
    "serie10"
   ]
  },
  {
   "cell_type": "code",
   "execution_count": 5,
   "id": "5bd73ce9",
   "metadata": {
    "scrolled": true
   },
   "outputs": [
    {
     "data": {
      "text/plain": [
       "6    30.0\n",
       "5    20.0\n",
       "4    20.0\n",
       "2    20.0\n",
       "1    10.0\n",
       "dtype: float64"
      ]
     },
     "execution_count": 5,
     "metadata": {},
     "output_type": "execute_result"
    }
   ],
   "source": [
    "# Calcula a frequência em porcentagem para essa serie\n",
    "serie10.value_counts(normalize = True)*100"
   ]
  },
  {
   "cell_type": "code",
   "execution_count": 6,
   "id": "d8969ba8",
   "metadata": {},
   "outputs": [
    {
     "data": {
      "text/plain": [
       "0     4\n",
       "1     2\n",
       "2     6\n",
       "3     2\n",
       "4     5\n",
       "     ..\n",
       "95    1\n",
       "96    5\n",
       "97    4\n",
       "98    3\n",
       "99    1\n",
       "Length: 100, dtype: int64"
      ]
     },
     "execution_count": 6,
     "metadata": {},
     "output_type": "execute_result"
    }
   ],
   "source": [
    "# Ensaio 2 - 100 elementos\n",
    "# Gera 100 números aleatórios\n",
    "serie100 = gera_faces(100)\n",
    "\n",
    "# Print da Serie\n",
    "serie100"
   ]
  },
  {
   "cell_type": "code",
   "execution_count": 7,
   "id": "b15cf68d",
   "metadata": {
    "scrolled": true
   },
   "outputs": [
    {
     "data": {
      "text/plain": [
       "5    24.0\n",
       "2    18.0\n",
       "6    17.0\n",
       "4    16.0\n",
       "1    13.0\n",
       "3    12.0\n",
       "dtype: float64"
      ]
     },
     "execution_count": 7,
     "metadata": {},
     "output_type": "execute_result"
    }
   ],
   "source": [
    "# Calcula a frequência em porcentagem para essa serie\n",
    "serie100.value_counts(normalize = True)*100"
   ]
  },
  {
   "cell_type": "code",
   "execution_count": 8,
   "id": "18471995",
   "metadata": {},
   "outputs": [
    {
     "data": {
      "text/plain": [
       "0      6\n",
       "1      6\n",
       "2      2\n",
       "3      1\n",
       "4      3\n",
       "      ..\n",
       "995    2\n",
       "996    5\n",
       "997    3\n",
       "998    4\n",
       "999    2\n",
       "Length: 1000, dtype: int64"
      ]
     },
     "execution_count": 8,
     "metadata": {},
     "output_type": "execute_result"
    }
   ],
   "source": [
    "# Ensaio 3 - 1000 elementos\n",
    "# Gera 1000 números aleatórios\n",
    "serie1k = gera_faces(1000)\n",
    "\n",
    "# Print da Serie\n",
    "serie1k"
   ]
  },
  {
   "cell_type": "code",
   "execution_count": 9,
   "id": "3e3bf2df",
   "metadata": {
    "scrolled": true
   },
   "outputs": [
    {
     "data": {
      "text/plain": [
       "3    18.2\n",
       "6    16.7\n",
       "4    16.7\n",
       "1    16.5\n",
       "2    16.2\n",
       "5    15.7\n",
       "dtype: float64"
      ]
     },
     "execution_count": 9,
     "metadata": {},
     "output_type": "execute_result"
    }
   ],
   "source": [
    "# Calcula a frequência em porcentagem para essa serie\n",
    "serie1k.value_counts(normalize = True)*100"
   ]
  },
  {
   "cell_type": "code",
   "execution_count": 10,
   "id": "65d37b27",
   "metadata": {},
   "outputs": [
    {
     "data": {
      "text/plain": [
       "0       2\n",
       "1       1\n",
       "2       6\n",
       "3       2\n",
       "4       3\n",
       "       ..\n",
       "9995    1\n",
       "9996    6\n",
       "9997    3\n",
       "9998    4\n",
       "9999    4\n",
       "Length: 10000, dtype: int64"
      ]
     },
     "execution_count": 10,
     "metadata": {},
     "output_type": "execute_result"
    }
   ],
   "source": [
    "# Ensaio 4 - 10000 elementos\n",
    "# Gera 10000 números aleatórios\n",
    "serie10k = gera_faces(10000)\n",
    "\n",
    "# Print da Serie\n",
    "serie10k"
   ]
  },
  {
   "cell_type": "code",
   "execution_count": 11,
   "id": "6deebef2",
   "metadata": {},
   "outputs": [
    {
     "data": {
      "text/plain": [
       "4    17.93\n",
       "6    16.53\n",
       "2    16.51\n",
       "1    16.47\n",
       "5    16.46\n",
       "3    16.10\n",
       "dtype: float64"
      ]
     },
     "execution_count": 11,
     "metadata": {},
     "output_type": "execute_result"
    }
   ],
   "source": [
    "# Calcula a frequência em porcentagem para essa serie\n",
    "serie10k.value_counts(normalize = True)*100"
   ]
  },
  {
   "cell_type": "code",
   "execution_count": 12,
   "id": "ffb9e652",
   "metadata": {},
   "outputs": [
    {
     "data": {
      "text/plain": [
       "0        5\n",
       "1        6\n",
       "2        6\n",
       "3        6\n",
       "4        5\n",
       "        ..\n",
       "99995    4\n",
       "99996    2\n",
       "99997    3\n",
       "99998    6\n",
       "99999    3\n",
       "Length: 100000, dtype: int64"
      ]
     },
     "execution_count": 12,
     "metadata": {},
     "output_type": "execute_result"
    }
   ],
   "source": [
    "# Ensaio 5 - 100000 elementos\n",
    "# Gera 100000 números aleatórios\n",
    "serie100k = gera_faces(100000)\n",
    "\n",
    "# Print da Serie\n",
    "serie100k"
   ]
  },
  {
   "cell_type": "code",
   "execution_count": 13,
   "id": "bf2d6a11",
   "metadata": {},
   "outputs": [
    {
     "data": {
      "text/plain": [
       "3    16.897\n",
       "5    16.811\n",
       "2    16.629\n",
       "4    16.594\n",
       "6    16.558\n",
       "1    16.511\n",
       "dtype: float64"
      ]
     },
     "execution_count": 13,
     "metadata": {},
     "output_type": "execute_result"
    }
   ],
   "source": [
    "# Calcula a frequência em porcentagem para essa serie\n",
    "serie100k.value_counts(normalize = True)*100"
   ]
  },
  {
   "cell_type": "markdown",
   "id": "baa85dd2",
   "metadata": {},
   "source": [
    "__C)__ O que podermos dizer sobre a afirmação do enunciado, a tendência é que as probabilidades irâo convergir para $1/6$?"
   ]
  },
  {
   "cell_type": "markdown",
   "id": "a61861cf",
   "metadata": {},
   "source": [
    "Com o exercício conseguimos observar que, quando utilizamos uma amostra pequena fica realmente dificil descrever o evento de probabilidade de um dado honesta, mas conforme aumentamos o número de observações, realmente o percentual de saída para cada uma das faces converge para $1/6$."
   ]
  },
  {
   "cell_type": "markdown",
   "id": "599d7945",
   "metadata": {},
   "source": [
    "## "
   ]
  },
  {
   "cell_type": "markdown",
   "id": "8ed593e2",
   "metadata": {},
   "source": [
    "### Questão 3"
   ]
  },
  {
   "cell_type": "markdown",
   "id": "f9102e3c",
   "metadata": {},
   "source": [
    "Na casa de Luiza e Rafael tem um pote de balas de diferentes cores. Certo dia a mamãe deles contou quantas balas tinha de cada uma das cores:\n",
    "\n",
    "- 14 balas azuis;\n",
    "- 22 balas vermelhas;\n",
    "- 17 balas amarelas.\n",
    "\n",
    "A mamãe deles deixou que cada um pegasse 3 balas começando pela Luiza e depois o Rafael. Dado isso resolva os item abaixo:\n",
    "\n",
    "__A)__ Qual a probabilidade da Luiza pegar uma bala de cada na ordem da contagem e o Rafael pegar 2 azuis e uma vermelha, dado que é um evento sem reposição?\n",
    "\n",
    "__B)__ Luiza decidiu ficar só com a bala amarela e devolveu as demais para o pote antes que o Rafael pegasse suas balas. Como que ficaria a probabilidade para o Rafael agora?"
   ]
  },
  {
   "cell_type": "markdown",
   "id": "2616b0fb",
   "metadata": {},
   "source": [
    "### Resolução:"
   ]
  },
  {
   "cell_type": "markdown",
   "id": "01d85838",
   "metadata": {},
   "source": [
    "__A)__ Qual a probabilidade da Luiza pegar uma bala de cada e o Rafael pegar 2 azuis e uma vermelha, dado que é um evento sem reposição?"
   ]
  },
  {
   "cell_type": "markdown",
   "id": "358e87a7",
   "metadata": {},
   "source": [
    "Primeiramente vamos definir quantas balas tem no pote:"
   ]
  },
  {
   "cell_type": "code",
   "execution_count": 14,
   "id": "82b6a262",
   "metadata": {},
   "outputs": [],
   "source": [
    "balas_azuis = 14\n",
    "balas_vermelhas = 22 \n",
    "balas_amarelas = 17"
   ]
  },
  {
   "cell_type": "code",
   "execution_count": 15,
   "id": "af9c092c",
   "metadata": {},
   "outputs": [
    {
     "name": "stdout",
     "output_type": "stream",
     "text": [
      "53\n"
     ]
    }
   ],
   "source": [
    "total_balas = balas_azuis + balas_vermelhas + balas_amarelas\n",
    "\n",
    "print(total_balas)"
   ]
  },
  {
   "cell_type": "markdown",
   "id": "61f40071",
   "metadata": {},
   "source": [
    "Vamos começar pela probabilidade da Luiza:"
   ]
  },
  {
   "cell_type": "code",
   "execution_count": 16,
   "id": "73b29793",
   "metadata": {},
   "outputs": [
    {
     "name": "stdout",
     "output_type": "stream",
     "text": [
      "0.2641509433962264\n"
     ]
    }
   ],
   "source": [
    "# Evento 1 - Pegou uma bala azul\n",
    "# P(L1) = balas azuis / total = 14/53\n",
    "L1 = balas_azuis/total_balas\n",
    "\n",
    "print(L1)"
   ]
  },
  {
   "cell_type": "code",
   "execution_count": 17,
   "id": "ccc0f4b9",
   "metadata": {},
   "outputs": [
    {
     "name": "stdout",
     "output_type": "stream",
     "text": [
      "0.4230769230769231\n"
     ]
    }
   ],
   "source": [
    "# Evento 2 - Pegou uma bala vermelha\n",
    "# P(L2) = balas vermelhas / (total - 1) = 22/52 = 11/26, pois não teve reposição\n",
    "L2 = balas_vermelhas/(total_balas - 1)\n",
    "\n",
    "print(L2)"
   ]
  },
  {
   "cell_type": "code",
   "execution_count": 18,
   "id": "1993944a",
   "metadata": {},
   "outputs": [
    {
     "name": "stdout",
     "output_type": "stream",
     "text": [
      "0.3333333333333333\n"
     ]
    }
   ],
   "source": [
    "# Evento 3 - Pegou uma bala amarela\n",
    "# P(L3) = balas amarelas / (total - 2) = 17/51 = 1/3, pois não teve reposição\n",
    "L3 = balas_amarelas/(total_balas - 2)\n",
    "\n",
    "print(L3)"
   ]
  },
  {
   "cell_type": "code",
   "execution_count": 20,
   "id": "03ae37f2",
   "metadata": {},
   "outputs": [
    {
     "name": "stdout",
     "output_type": "stream",
     "text": [
      "A probabilidade para as balas da Luiza é 3.73%\n"
     ]
    }
   ],
   "source": [
    "import numpy as np\n",
    "\n",
    "# Probabilidade Final para a Luiza\n",
    "# Vai ser o produto dos 3 eventos = P(Luiza) = (14/53)*(11/26)*(1/3) = 77/2.067\n",
    "P_Luiza = np.round(L1*L2*L3*100, 2)\n",
    "\n",
    "# PRint da probabilidade\n",
    "print('A probabilidade para as balas da Luiza é {}%'.format(P_Luiza))"
   ]
  },
  {
   "cell_type": "markdown",
   "id": "f033a973",
   "metadata": {},
   "source": [
    "Calculando a probabilidade agora para as balas do Rafael:"
   ]
  },
  {
   "cell_type": "code",
   "execution_count": 21,
   "id": "689e7e59",
   "metadata": {},
   "outputs": [
    {
     "name": "stdout",
     "output_type": "stream",
     "text": [
      "0.26\n"
     ]
    }
   ],
   "source": [
    "# Evento 1 - Pegou uma bala azul\n",
    "# P(R1) = balas azuis -1 / total -3 = 13/50, pois não teve reposição\n",
    "R1 = (balas_azuis-1)/(total_balas-3)\n",
    "\n",
    "print(R1)"
   ]
  },
  {
   "cell_type": "code",
   "execution_count": 22,
   "id": "813e7ca9",
   "metadata": {},
   "outputs": [
    {
     "name": "stdout",
     "output_type": "stream",
     "text": [
      "0.24489795918367346\n"
     ]
    }
   ],
   "source": [
    "# Evento 2 - Pegou outra bala azul\n",
    "# P(R2) = balas azuis -2 / total -4 = 12/49, pois não teve reposição\n",
    "R2 = (balas_azuis-2)/(total_balas-4)\n",
    "\n",
    "print(R2)"
   ]
  },
  {
   "cell_type": "code",
   "execution_count": 23,
   "id": "f079620f",
   "metadata": {},
   "outputs": [
    {
     "name": "stdout",
     "output_type": "stream",
     "text": [
      "0.4375\n"
     ]
    }
   ],
   "source": [
    "# Evento 3 - Pegou uma bala vermelha\n",
    "# P(R3) = balas vermelhas - 1 / (total - 5) = 21/48 = 7/16, pois não teve reposição\n",
    "R3 = (balas_vermelhas - 1)/(total_balas - 5)\n",
    "\n",
    "print(R3)"
   ]
  },
  {
   "cell_type": "code",
   "execution_count": 24,
   "id": "d1410548",
   "metadata": {},
   "outputs": [
    {
     "name": "stdout",
     "output_type": "stream",
     "text": [
      "A probabilidade para as balas da Rafael é 2.79%\n"
     ]
    }
   ],
   "source": [
    "# Probabilidade Final para o Rafael\n",
    "# Vai ser o produto dos 3 eventos = P(Rafael) = (13/50)*(12/49)*(7/16) = 273/9.800\n",
    "P_Rafael = np.round(R1*R2*R3*100, 2)\n",
    "\n",
    "# PRint da probabilidade\n",
    "print('A probabilidade para as balas da Rafael é {}%'.format(P_Rafael))"
   ]
  },
  {
   "cell_type": "markdown",
   "id": "c6eb5021",
   "metadata": {},
   "source": [
    "__B)__ Luiza decidiu ficar só com a bala amarela e devolveu as demais para o pote antes que o Rafael pegasse suas balas. Como que ficaria a probabilidade para o Rafael agora?"
   ]
  },
  {
   "cell_type": "markdown",
   "id": "b01cc0e5",
   "metadata": {},
   "source": [
    "Vamos calcular a nova probabilidade para as balas do Rafael:"
   ]
  },
  {
   "cell_type": "code",
   "execution_count": 25,
   "id": "5324ed2b",
   "metadata": {},
   "outputs": [
    {
     "name": "stdout",
     "output_type": "stream",
     "text": [
      "0.2692307692307692\n"
     ]
    }
   ],
   "source": [
    "# Evento 1 - Pegou uma bala azul\n",
    "# P(R1n) = balas azuis / (total - 1) = 14/52 = 7/26, pois não teve reposição\n",
    "R1n = (balas_azuis)/(total_balas-1)\n",
    "\n",
    "print(R1n)"
   ]
  },
  {
   "cell_type": "code",
   "execution_count": 26,
   "id": "3b323941",
   "metadata": {},
   "outputs": [
    {
     "name": "stdout",
     "output_type": "stream",
     "text": [
      "0.2549019607843137\n"
     ]
    }
   ],
   "source": [
    "# Evento 2 - Pegou outra bala azul\n",
    "# P(R2n) = balas azuis-1 / total-2 = 13/51, pois não teve reposição\n",
    "R2n = (balas_azuis-1)/(total_balas-2)\n",
    "\n",
    "print(R2n)"
   ]
  },
  {
   "cell_type": "code",
   "execution_count": 27,
   "id": "ec665a2a",
   "metadata": {},
   "outputs": [
    {
     "name": "stdout",
     "output_type": "stream",
     "text": [
      "0.44\n"
     ]
    }
   ],
   "source": [
    "# Evento 3 - Pegou uma bala vermelha\n",
    "# P(R3n) = balas vermelhas / (total - 3) = 22/50 = 11/25, pois não teve reposição\n",
    "R3n = (balas_vermelhas)/(total_balas - 3)\n",
    "\n",
    "print(R3n)"
   ]
  },
  {
   "cell_type": "code",
   "execution_count": 28,
   "id": "49cb6b3a",
   "metadata": {},
   "outputs": [
    {
     "name": "stdout",
     "output_type": "stream",
     "text": [
      "A nova probabilidade para as balas da Rafael é 3.02%\n"
     ]
    }
   ],
   "source": [
    "# Probabilidade Final para o Rafael\n",
    "# Vai ser o produto dos 3 eventos = P(Rafael) = (7/26)*(13/51)*(11/25) = 1.001/33.150\n",
    "P_Rafael_n = np.round(R1n*R2n*R3n*100, 2)\n",
    "\n",
    "# PRint da probabilidade\n",
    "print('A nova probabilidade para as balas da Rafael é {}%'.format(P_Rafael_n))"
   ]
  },
  {
   "cell_type": "markdown",
   "id": "f776dca7",
   "metadata": {},
   "source": [
    "## "
   ]
  },
  {
   "cell_type": "markdown",
   "id": "efcd759a",
   "metadata": {},
   "source": [
    "### Questão 4"
   ]
  },
  {
   "cell_type": "markdown",
   "id": "8180ee4e",
   "metadata": {},
   "source": [
    "Um programa de computador gera uma pontuação aleatória para cada usuário, sendo que:\n",
    "\n",
    "- Em 1/2 dos casos, gera 0.5;\n",
    "- Em 1/4 dos casos, gera 0.25;\n",
    "- Em 1/8 dos casos, gera 0.125.\n",
    "\n",
    "E essa lógica segue assim por diante. Resolva os itens a seguir:\n",
    "\n",
    "__A)__ Calcule o __valor esperado__ utilizando apenas os 3 primeiros casos;\n",
    "\n",
    "__B)__ Faça um _loop_ para calcular o __valor esperado__ para 100 casos e avalie se só com os 3 primeiros casos temos uma boa aproximação ou não."
   ]
  },
  {
   "cell_type": "markdown",
   "id": "cde2f70e",
   "metadata": {},
   "source": [
    "### Resolução:"
   ]
  },
  {
   "cell_type": "markdown",
   "id": "44cbeb07",
   "metadata": {},
   "source": [
    "__A)__ Calcule o __valor esperado__ utilizando apenas os 3 primeiros casos;"
   ]
  },
  {
   "cell_type": "markdown",
   "id": "4253941d",
   "metadata": {},
   "source": [
    "Sabendo que o cálculo do valor esperado é da forma $\\sum_{i=1}^{k} x_i P(x_i)$, temos que para os 3 primeiros casos:"
   ]
  },
  {
   "cell_type": "code",
   "execution_count": 29,
   "id": "4c48974b",
   "metadata": {},
   "outputs": [
    {
     "name": "stdout",
     "output_type": "stream",
     "text": [
      "0.328125\n"
     ]
    }
   ],
   "source": [
    "# Cálculo do valor esperado\n",
    "esp = (1/2)*(0.5) + (1/4)*(0.25) + (1/8)*(0.125)\n",
    "\n",
    "# Mostra o valor\n",
    "print(esp)"
   ]
  },
  {
   "cell_type": "markdown",
   "id": "c7674cd1",
   "metadata": {},
   "source": [
    "__B)__ Faça um _loop_ para calcular o __valor esperado__ para 100 casos e avalie se só com os 3 primeiros casos temos uma boa aproximação ou não."
   ]
  },
  {
   "cell_type": "code",
   "execution_count": 30,
   "id": "60a70c2a",
   "metadata": {},
   "outputs": [],
   "source": [
    "# Import do NumPy\n",
    "import numpy as np"
   ]
  },
  {
   "cell_type": "markdown",
   "id": "fac3bd3c",
   "metadata": {},
   "source": [
    "Vamos criar um _loop_ para avaliar o __valor esperado__ para 100 casos:"
   ]
  },
  {
   "cell_type": "code",
   "execution_count": 55,
   "id": "a0ee97d9",
   "metadata": {},
   "outputs": [
    {
     "name": "stdout",
     "output_type": "stream",
     "text": [
      "0.3333333333333333\n"
     ]
    }
   ],
   "source": [
    "# Número de casos\n",
    "n = 100\n",
    "\n",
    "# Valor esperado inicial\n",
    "esp_loop = 0\n",
    "\n",
    "# Loop para percorre a soma até o n=ésimo valor\n",
    "for i in range(n):\n",
    "    prob = (1/(2**(i+1)))*(1/(2**(i+1))) # a probabilidade tem o mesmo valor do número aleatório\n",
    "    # soma no valor esperado\n",
    "    esp_loop += prob\n",
    "    \n",
    "    \n",
    "# Mostra o valor esperado\n",
    "print(esp_loop)"
   ]
  },
  {
   "cell_type": "code",
   "execution_count": 32,
   "id": "2923d64f",
   "metadata": {},
   "outputs": [
    {
     "data": {
      "text/plain": [
       "0.984375"
      ]
     },
     "execution_count": 32,
     "metadata": {},
     "output_type": "execute_result"
    }
   ],
   "source": [
    "# Comparação dos valores esperados\n",
    "esp/esp_loop"
   ]
  },
  {
   "cell_type": "markdown",
   "id": "2da46d71",
   "metadata": {},
   "source": [
    "Os 3 primeiros casos já representam 98% do valor esperado, sendo assim uma boa aproximação do resultado dessa aplicação."
   ]
  },
  {
   "cell_type": "markdown",
   "id": "b04cd2da",
   "metadata": {},
   "source": [
    "## "
   ]
  },
  {
   "cell_type": "markdown",
   "id": "57a9dba0",
   "metadata": {},
   "source": [
    "### Questão 5"
   ]
  },
  {
   "cell_type": "markdown",
   "id": "03ce87d4",
   "metadata": {},
   "source": [
    "Em um programa de auditório, havia 3 portas (A, B, C), dentro da qual uma continha um prêmio. O participante escolheu a porta A e antes de abrir a porta o apresentador abriu a porta C, na qual não havia nada. O participante aumentará a probabilidade de acertar a porta caso mude a escolha dele da porta A para a B?"
   ]
  },
  {
   "cell_type": "markdown",
   "id": "bfbfba8a",
   "metadata": {},
   "source": [
    "### Resolução:"
   ]
  },
  {
   "cell_type": "markdown",
   "id": "fbd8a3a4",
   "metadata": {},
   "source": [
    "A probabilidade do prêmio estar em uma das portas é:\n",
    "\n",
    "$$ P(A) = P(B) = P(C) = 1/3 $$\n",
    "\n",
    "Vamos, utilizar o Teorema de Bayes para resolver esse problema:\n",
    "<br><br>\n",
    "\n",
    "$$ P(premio = A | abriu = C) = \\frac{P(abriu = C | premio = A)P(A) }{P(abriu = C | premio = A)P(A) + P(abriu = C | premio = B)P(B) + P(abriu = C | premio = C)P(C) }    $$\n",
    "<br><br>\n",
    "\n",
    "Vamos ver o que são cada uma das probabilidades condicionais, dado que eu escolhi a porta A e a primeira porta aberta foi a C:\n",
    "\n",
    "- A probabilidade do prêmio agora está na porta A será $1/2$, pois o prêmio ou vai estar na porta A ou B. Dessa forma:\n",
    "<br><br>\n",
    "$$ P(abriu = C | premio = A) = 1/2 $$\n",
    "<br>\n",
    "\n",
    "- Agora imagine que o prêmio não possa estar na porta A, ou seja sobrou apenas a porta B e C. Dado que ele abriu a porta C, a probabilidade do prêmio estar na porta B é 1, pois o apresentador não vai abrir a porta do prêmio de primeira e ele também não vai abrir a porta que você escolheu. Portanto:\n",
    "<br><br>\n",
    "$$ P(abriu = C | premio = B) = 1 $$\n",
    "<br>\n",
    "\n",
    "- Por fim, a porta C não tem probabilidade nenhuma de conter o prêmio pois já foi aberta. Assim temos que:\n",
    "<br><br>\n",
    "$$ P(abriu = C | premio = C) = 0 $$\n",
    "<br><br>\n",
    "Agora basta aplicar as probabilidades calculadas acima na dedução do Teorema de Bayes para o exercício das portas:\n",
    "<br><br>\n",
    "$$ P(premio = A | abriu = C) = \\frac{(1/2)(1/3)}{(1/2)(1/3) + (1)(1/3) + (0)(1/3)} = 1/3    $$\n",
    "<br><br>\n",
    "\n",
    "O que acontece então se trocarmos de para a porta B?:\n",
    "<br><br>\n",
    "$$ P(premio = B | abriu = C) = 1 - P(premio = A | abriu = C) = 1 - 1/3 = 2/3    $$\n",
    "\n",
    "A probabilidade de acertarmos a porta se trocar será $2/3$, ou seja dobramos a probabilidade de acertar!"
   ]
  }
 ],
 "metadata": {
  "kernelspec": {
   "display_name": "Python 3 (ipykernel)",
   "language": "python",
   "name": "python3"
  },
  "language_info": {
   "codemirror_mode": {
    "name": "ipython",
    "version": 3
   },
   "file_extension": ".py",
   "mimetype": "text/x-python",
   "name": "python",
   "nbconvert_exporter": "python",
   "pygments_lexer": "ipython3",
   "version": "3.9.7"
  },
  "varInspector": {
   "cols": {
    "lenName": 16,
    "lenType": 16,
    "lenVar": 40
   },
   "kernels_config": {
    "python": {
     "delete_cmd_postfix": "",
     "delete_cmd_prefix": "del ",
     "library": "var_list.py",
     "varRefreshCmd": "print(var_dic_list())"
    },
    "r": {
     "delete_cmd_postfix": ") ",
     "delete_cmd_prefix": "rm(",
     "library": "var_list.r",
     "varRefreshCmd": "cat(var_dic_list()) "
    }
   },
   "types_to_exclude": [
    "module",
    "function",
    "builtin_function_or_method",
    "instance",
    "_Feature"
   ],
   "window_display": false
  }
 },
 "nbformat": 4,
 "nbformat_minor": 5
}
