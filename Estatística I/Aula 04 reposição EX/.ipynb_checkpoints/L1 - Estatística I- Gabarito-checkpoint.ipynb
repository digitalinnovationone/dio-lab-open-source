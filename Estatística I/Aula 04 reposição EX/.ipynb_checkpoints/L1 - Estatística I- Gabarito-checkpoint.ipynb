{
 "cells": [
  {
   "cell_type": "markdown",
   "id": "bf41096b",
   "metadata": {},
   "source": [
    "# Exercícios - Estatística I"
   ]
  },
  {
   "cell_type": "markdown",
   "id": "dc9efb9e",
   "metadata": {},
   "source": [
    "### Questão 1"
   ]
  },
  {
   "cell_type": "markdown",
   "id": "f0f7505b",
   "metadata": {},
   "source": [
    "Os exercícios de 1 a 5 serão desenvolvidos utilizando o _dataset_ `Titanic.csv`:\n",
    "    \n",
    "Calcule a frequência absoluta para os sobreviventes no _Titanic_.\n",
    "\n",
    "__Dica.:__ Utilize a função `.value_counts()`"
   ]
  },
  {
   "cell_type": "markdown",
   "id": "02cce555",
   "metadata": {},
   "source": [
    "Carregando as principais bibliotecas que iremos utilizar:"
   ]
  },
  {
   "cell_type": "code",
   "execution_count": 1,
   "id": "35fab489",
   "metadata": {
    "ExecuteTime": {
     "end_time": "2021-10-08T19:43:52.806161Z",
     "start_time": "2021-10-08T19:43:51.139052Z"
    }
   },
   "outputs": [],
   "source": [
    "import pandas as pd\n",
    "import numpy as np\n",
    "import matplotlib.pyplot as plt\n",
    "import seaborn as sns\n",
    "\n",
    "# sns.load_dataset('titanic')"
   ]
  },
  {
   "cell_type": "code",
   "execution_count": 2,
   "id": "21d68928",
   "metadata": {
    "ExecuteTime": {
     "end_time": "2021-10-08T19:43:52.898915Z",
     "start_time": "2021-10-08T19:43:52.856037Z"
    }
   },
   "outputs": [
    {
     "data": {
      "text/html": [
       "<div>\n",
       "<style scoped>\n",
       "    .dataframe tbody tr th:only-of-type {\n",
       "        vertical-align: middle;\n",
       "    }\n",
       "\n",
       "    .dataframe tbody tr th {\n",
       "        vertical-align: top;\n",
       "    }\n",
       "\n",
       "    .dataframe thead th {\n",
       "        text-align: right;\n",
       "    }\n",
       "</style>\n",
       "<table border=\"1\" class=\"dataframe\">\n",
       "  <thead>\n",
       "    <tr style=\"text-align: right;\">\n",
       "      <th></th>\n",
       "      <th>survived</th>\n",
       "      <th>pclass</th>\n",
       "      <th>sex</th>\n",
       "      <th>age</th>\n",
       "      <th>sibsp</th>\n",
       "      <th>parch</th>\n",
       "      <th>fare</th>\n",
       "      <th>embarked</th>\n",
       "      <th>class</th>\n",
       "      <th>who</th>\n",
       "      <th>adult_male</th>\n",
       "      <th>deck</th>\n",
       "      <th>embark_town</th>\n",
       "      <th>alive</th>\n",
       "      <th>alone</th>\n",
       "    </tr>\n",
       "  </thead>\n",
       "  <tbody>\n",
       "    <tr>\n",
       "      <th>0</th>\n",
       "      <td>0</td>\n",
       "      <td>3</td>\n",
       "      <td>male</td>\n",
       "      <td>22.0</td>\n",
       "      <td>1</td>\n",
       "      <td>0</td>\n",
       "      <td>7.2500</td>\n",
       "      <td>S</td>\n",
       "      <td>Third</td>\n",
       "      <td>man</td>\n",
       "      <td>True</td>\n",
       "      <td>NaN</td>\n",
       "      <td>Southampton</td>\n",
       "      <td>no</td>\n",
       "      <td>False</td>\n",
       "    </tr>\n",
       "    <tr>\n",
       "      <th>1</th>\n",
       "      <td>1</td>\n",
       "      <td>1</td>\n",
       "      <td>female</td>\n",
       "      <td>38.0</td>\n",
       "      <td>1</td>\n",
       "      <td>0</td>\n",
       "      <td>71.2833</td>\n",
       "      <td>C</td>\n",
       "      <td>First</td>\n",
       "      <td>woman</td>\n",
       "      <td>False</td>\n",
       "      <td>C</td>\n",
       "      <td>Cherbourg</td>\n",
       "      <td>yes</td>\n",
       "      <td>False</td>\n",
       "    </tr>\n",
       "    <tr>\n",
       "      <th>2</th>\n",
       "      <td>1</td>\n",
       "      <td>3</td>\n",
       "      <td>female</td>\n",
       "      <td>26.0</td>\n",
       "      <td>0</td>\n",
       "      <td>0</td>\n",
       "      <td>7.9250</td>\n",
       "      <td>S</td>\n",
       "      <td>Third</td>\n",
       "      <td>woman</td>\n",
       "      <td>False</td>\n",
       "      <td>NaN</td>\n",
       "      <td>Southampton</td>\n",
       "      <td>yes</td>\n",
       "      <td>True</td>\n",
       "    </tr>\n",
       "    <tr>\n",
       "      <th>3</th>\n",
       "      <td>1</td>\n",
       "      <td>1</td>\n",
       "      <td>female</td>\n",
       "      <td>35.0</td>\n",
       "      <td>1</td>\n",
       "      <td>0</td>\n",
       "      <td>53.1000</td>\n",
       "      <td>S</td>\n",
       "      <td>First</td>\n",
       "      <td>woman</td>\n",
       "      <td>False</td>\n",
       "      <td>C</td>\n",
       "      <td>Southampton</td>\n",
       "      <td>yes</td>\n",
       "      <td>False</td>\n",
       "    </tr>\n",
       "    <tr>\n",
       "      <th>4</th>\n",
       "      <td>0</td>\n",
       "      <td>3</td>\n",
       "      <td>male</td>\n",
       "      <td>35.0</td>\n",
       "      <td>0</td>\n",
       "      <td>0</td>\n",
       "      <td>8.0500</td>\n",
       "      <td>S</td>\n",
       "      <td>Third</td>\n",
       "      <td>man</td>\n",
       "      <td>True</td>\n",
       "      <td>NaN</td>\n",
       "      <td>Southampton</td>\n",
       "      <td>no</td>\n",
       "      <td>True</td>\n",
       "    </tr>\n",
       "  </tbody>\n",
       "</table>\n",
       "</div>"
      ],
      "text/plain": [
       "   survived  pclass     sex   age  sibsp  parch     fare embarked  class  \\\n",
       "0         0       3    male  22.0      1      0   7.2500        S  Third   \n",
       "1         1       1  female  38.0      1      0  71.2833        C  First   \n",
       "2         1       3  female  26.0      0      0   7.9250        S  Third   \n",
       "3         1       1  female  35.0      1      0  53.1000        S  First   \n",
       "4         0       3    male  35.0      0      0   8.0500        S  Third   \n",
       "\n",
       "     who  adult_male deck  embark_town alive  alone  \n",
       "0    man        True  NaN  Southampton    no  False  \n",
       "1  woman       False    C    Cherbourg   yes  False  \n",
       "2  woman       False  NaN  Southampton   yes   True  \n",
       "3  woman       False    C  Southampton   yes  False  \n",
       "4    man        True  NaN  Southampton    no   True  "
      ]
     },
     "execution_count": 2,
     "metadata": {},
     "output_type": "execute_result"
    }
   ],
   "source": [
    "# Print carregando o dataset Titanic\n",
    "# titanic = pd.read_csv(\"titanic.csv\")\n",
    "titanic = sns.load_dataset('titanic')\n",
    "\n",
    "# Print das primeiras linhas\n",
    "titanic.head()"
   ]
  },
  {
   "cell_type": "code",
   "execution_count": 3,
   "id": "9cdc4a7b",
   "metadata": {
    "ExecuteTime": {
     "end_time": "2021-10-08T19:43:53.007623Z",
     "start_time": "2021-10-08T19:43:52.995660Z"
    }
   },
   "outputs": [
    {
     "name": "stdout",
     "output_type": "stream",
     "text": [
      "Tabela de frequência ABSOLUTA da coluna 'Survived':\n"
     ]
    },
    {
     "data": {
      "text/plain": [
       "0    549\n",
       "1    342\n",
       "Name: survived, dtype: int64"
      ]
     },
     "metadata": {},
     "output_type": "display_data"
    }
   ],
   "source": [
    "# Print do Título\n",
    "print(\"Tabela de frequência ABSOLUTA da coluna 'Survived':\")\n",
    "\n",
    "# Print da Tabela de Frequencia absoluta\n",
    "display(titanic[\"survived\"].value_counts())"
   ]
  },
  {
   "cell_type": "markdown",
   "id": "70fbcc9a",
   "metadata": {},
   "source": [
    "### Questão 2"
   ]
  },
  {
   "cell_type": "markdown",
   "id": "26ebb4fc",
   "metadata": {},
   "source": [
    "Os exercícios de 1 a 5 serão desenvolvidos utilizando o _dataset_ `Titanic.csv`:\n",
    "    \n",
    "Calcule a frequência relativa e relativa percentual  para os sobreviventes no _Titanic_.\n",
    "\n",
    "__Dica.:__ Utilize a função `.value_counts()`"
   ]
  },
  {
   "cell_type": "code",
   "execution_count": 4,
   "id": "1b111474",
   "metadata": {
    "ExecuteTime": {
     "end_time": "2021-10-08T19:43:54.233383Z",
     "start_time": "2021-10-08T19:43:54.213438Z"
    }
   },
   "outputs": [
    {
     "name": "stdout",
     "output_type": "stream",
     "text": [
      "Tabela de frequência RELATIVA da coluna 'Survived':\n"
     ]
    },
    {
     "data": {
      "text/plain": [
       "0    0.616162\n",
       "1    0.383838\n",
       "Name: survived, dtype: float64"
      ]
     },
     "metadata": {},
     "output_type": "display_data"
    }
   ],
   "source": [
    "# Print do Titulo\n",
    "print(\"Tabela de frequência RELATIVA da coluna 'Survived':\")\n",
    "\n",
    "# Print da Tabela de Frequencia relativa\n",
    "display(titanic[\"survived\"].value_counts(normalize=True))"
   ]
  },
  {
   "cell_type": "code",
   "execution_count": 5,
   "id": "4ccec6e5",
   "metadata": {
    "ExecuteTime": {
     "end_time": "2021-10-08T19:43:54.688539Z",
     "start_time": "2021-10-08T19:43:54.665600Z"
    }
   },
   "outputs": [
    {
     "name": "stdout",
     "output_type": "stream",
     "text": [
      "Tabela de frequência PERCENTUAL da coluna 'Survived':\n"
     ]
    },
    {
     "data": {
      "text/plain": [
       "0    61.62%\n",
       "1    38.38%\n",
       "Name: survived, dtype: object"
      ]
     },
     "execution_count": 5,
     "metadata": {},
     "output_type": "execute_result"
    }
   ],
   "source": [
    "# Print do Titulo\n",
    "print(\"Tabela de frequência PERCENTUAL da coluna 'Survived':\")\n",
    "\n",
    "# Print da Tabela de Frequencia Percentual\n",
    "titanic[\"survived\"].value_counts(normalize=True).apply(lambda x: str(round(x*100, 2)) + \"%\")"
   ]
  },
  {
   "cell_type": "markdown",
   "id": "a1490edd",
   "metadata": {},
   "source": [
    "### Questão 3"
   ]
  },
  {
   "cell_type": "markdown",
   "id": "045b0f2a",
   "metadata": {},
   "source": [
    "Os exercícios de 1 a 5 serão desenvolvidos utilizando o _dataset_ `Titanic.csv`:\n",
    "    \n",
    "Utilizando a coluna `Age` do _dataset Titanic_, defina as principais métricas estatísticas para essa variável tais como:\n",
    "- Média;\n",
    "- Desvio Padrão;\n",
    "- Mínimo;\n",
    "- Primeiro Quartil;\n",
    "- Segundo Quartil (Mediana);\n",
    "- Terceiro Quartil;\n",
    "- Distância Interquartil (IQR);\n",
    "- Máximo;\n",
    "- Skewness;\n",
    "- Moda."
   ]
  },
  {
   "cell_type": "code",
   "execution_count": 7,
   "id": "70c58f1a",
   "metadata": {
    "ExecuteTime": {
     "end_time": "2021-10-08T19:43:56.809652Z",
     "start_time": "2021-10-08T19:43:56.781728Z"
    }
   },
   "outputs": [
    {
     "name": "stdout",
     "output_type": "stream",
     "text": [
      "Média de idades: 29.69911764705882\n",
      "Desvio padrão de idades: 14.526497332334044\n",
      "\n",
      "Idade mínima: 0.42\n",
      "\n",
      "Idade Q1: 20.125\n",
      "Mediana de idades: 28.0\n",
      "Idade Q3: 38.0\n",
      "IQR das idades: 17.875\n",
      "\n",
      "Idade máxima: 80.0\n",
      "\n",
      "Skewness das idades: 0.38910778230082704\n",
      "\n",
      "Idade(s) mais comum(s):\n"
     ]
    },
    {
     "data": {
      "text/plain": [
       "0    24.0\n",
       "dtype: float64"
      ]
     },
     "metadata": {},
     "output_type": "display_data"
    }
   ],
   "source": [
    "# Calculo das Metricas para Idade\n",
    "print(\"Média de idades:\", titanic[\"age\"].mean())\n",
    "print(\"Desvio padrão de idades:\", titanic[\"age\"].std())\n",
    "print(\"\\nIdade mínima:\", titanic[\"age\"].min())\n",
    "print(\"\\nIdade Q1:\", titanic[\"age\"].quantile(0.25))\n",
    "print(\"Mediana de idades:\", titanic[\"age\"].median())\n",
    "print(\"Idade Q3:\", titanic[\"age\"].quantile(0.75))\n",
    "print(\"IQR das idades:\", titanic[\"age\"].quantile(0.75) - titanic[\"age\"].quantile(0.25))\n",
    "print(\"\\nIdade máxima:\", titanic[\"age\"].max())\n",
    "print(\"\\nSkewness das idades:\", titanic[\"age\"].skew())\n",
    "print(\"\\nIdade(s) mais comum(s):\")\n",
    "display(titanic[\"age\"].mode())"
   ]
  },
  {
   "cell_type": "code",
   "execution_count": 8,
   "id": "13b882f7",
   "metadata": {
    "ExecuteTime": {
     "end_time": "2021-10-08T19:43:57.311460Z",
     "start_time": "2021-10-08T19:43:57.286525Z"
    }
   },
   "outputs": [
    {
     "data": {
      "text/plain": [
       "count    714.000000\n",
       "mean      29.699118\n",
       "std       14.526497\n",
       "min        0.420000\n",
       "25%       20.125000\n",
       "50%       28.000000\n",
       "75%       38.000000\n",
       "max       80.000000\n",
       "Name: age, dtype: float64"
      ]
     },
     "execution_count": 8,
     "metadata": {},
     "output_type": "execute_result"
    }
   ],
   "source": [
    "titanic['age'].describe()"
   ]
  },
  {
   "cell_type": "markdown",
   "id": "0c48d8bc",
   "metadata": {},
   "source": [
    "### Questão 4"
   ]
  },
  {
   "cell_type": "markdown",
   "id": "02b13cc4",
   "metadata": {},
   "source": [
    "Os exercícios de 1 a 5 serão desenvolvidos utilizando o _dataset_ `Titanic.csv`:\n",
    "    \n",
    "Crie um gráfico de distribuição das idades dos passageiros do _Titanic_ e identifique os pontos onde se encontram a média, mediana e moda das idades."
   ]
  },
  {
   "cell_type": "code",
   "execution_count": 9,
   "id": "379adf78",
   "metadata": {
    "ExecuteTime": {
     "end_time": "2021-10-08T19:43:58.878411Z",
     "start_time": "2021-10-08T19:43:58.607137Z"
    }
   },
   "outputs": [
    {
     "data": {
      "image/png": "[encoded data removed]",
      "text/plain": [
       "<Figure size 864x432 with 1 Axes>"
      ]
     },
     "metadata": {
      "needs_background": "light"
     },
     "output_type": "display_data"
    }
   ],
   "source": [
    "# Define o tamanho da figura\n",
    "plt.figure(figsize=(12, 6))\n",
    "\n",
    "# Define o Titulo\n",
    "plt.title(\"Distribuição de idades dos passageiros do Titanic\", size=18)\n",
    "\n",
    "# Plot do Histograma\n",
    "sns.histplot(titanic[\"age\"], kde=True, alpha=0.2)\n",
    "\n",
    "# plotando média\n",
    "plt.axvline(x=titanic[\"age\"].mean(), color=\"red\", label=\"média\")\n",
    "\n",
    "# plotando a mediana\n",
    "plt.axvline(titanic[\"age\"].median(), color=\"green\", label=\"mediana\")\n",
    "\n",
    "# Loop para plotar as modas\n",
    "for i in range(titanic[\"age\"].mode().shape[0]):\n",
    "    plt.axvline(titanic[\"age\"].mode()[i], color=\"yellow\", label=\"moda\")\n",
    "\n",
    "# Cria uma legenda\n",
    "plt.legend()\n",
    "\n",
    "# Mostra o Gráfico\n",
    "plt.show()"
   ]
  },
  {
   "cell_type": "markdown",
   "id": "43458232",
   "metadata": {},
   "source": [
    "### Questão 5"
   ]
  },
  {
   "cell_type": "markdown",
   "id": "a722484e",
   "metadata": {},
   "source": [
    "Os exercícios de 1 a 5 serão desenvolvidos utilizando o _dataset_ `Titanic.csv`:\n",
    "    \n",
    "Ainda trabalhando com os valores das idades crie três _Boxplots_:\n",
    "- _Boxplot_ das idades para todos os passageiros;\n",
    "- _Boxplot_ das idades dos passageiros separados pelo sexo.\n",
    "- _Boxplot_ das idades dos passageiros separados pelo sexo e por sobreviventes."
   ]
  },
  {
   "cell_type": "code",
   "execution_count": 10,
   "id": "2924a6b8",
   "metadata": {
    "ExecuteTime": {
     "end_time": "2021-10-08T19:44:00.044259Z",
     "start_time": "2021-10-08T19:43:59.899645Z"
    }
   },
   "outputs": [
    {
     "data": {
      "image/png": "[encoded data removed]",
      "text/plain": [
       "<Figure size 576x432 with 1 Axes>"
      ]
     },
     "metadata": {
      "needs_background": "light"
     },
     "output_type": "display_data"
    }
   ],
   "source": [
    "# Define o tamanho da figura\n",
    "plt.figure(figsize=(8, 6))\n",
    "\n",
    "# Cria um BoxPlot\n",
    "sns.boxplot(data=titanic, x=\"age\")\n",
    "\n",
    "# Cria um titulo\n",
    "plt.title(\"Boxplot das Idades\")\n",
    "\n",
    "#Mostra o gráfico\n",
    "plt.show()"
   ]
  },
  {
   "cell_type": "code",
   "execution_count": 11,
   "id": "9d41e161",
   "metadata": {
    "ExecuteTime": {
     "end_time": "2021-10-08T19:44:00.682473Z",
     "start_time": "2021-10-08T19:44:00.485997Z"
    }
   },
   "outputs": [
    {
     "data": {
      "image/png": "[encoded data removed]",
      "text/plain": [
       "<Figure size 576x432 with 1 Axes>"
      ]
     },
     "metadata": {
      "needs_background": "light"
     },
     "output_type": "display_data"
    }
   ],
   "source": [
    "# Define o tamanho da figura\n",
    "plt.figure(figsize=(8, 6))\n",
    "\n",
    "# Plot do Boxplot\n",
    "sns.boxplot(data=titanic, y=\"age\", x=\"survived\", hue=\"sex\")\n",
    "\n",
    "# Cria um titulo\n",
    "plt.title(\"Boxplot das Idades e Sexo por classe de sobreviventes\")\n",
    "\n",
    "# Mostra o gráfico\n",
    "plt.show()"
   ]
  },
  {
   "cell_type": "code",
   "execution_count": 12,
   "id": "de4ddacb",
   "metadata": {
    "ExecuteTime": {
     "end_time": "2021-10-08T19:44:01.135862Z",
     "start_time": "2021-10-08T19:44:00.995240Z"
    }
   },
   "outputs": [
    {
     "data": {
      "image/png": "[encoded data removed]",
      "text/plain": [
       "<Figure size 576x432 with 1 Axes>"
      ]
     },
     "metadata": {
      "needs_background": "light"
     },
     "output_type": "display_data"
    }
   ],
   "source": [
    "# Define o tamanho da figura\n",
    "plt.figure(figsize=(8, 6))\n",
    "\n",
    "# Plot do Boxplot\n",
    "sns.boxplot(data=titanic, y=\"age\", x=\"sex\")\n",
    "\n",
    "# Cria um titulo\n",
    "plt.title(\"Boxplot das Idades e Sexo\")\n",
    "\n",
    "# Mostra o gráfico\n",
    "plt.show()"
   ]
  },
  {
   "cell_type": "markdown",
   "id": "d0eda9fb",
   "metadata": {
    "ExecuteTime": {
     "end_time": "2021-10-08T18:58:25.038529Z",
     "start_time": "2021-10-08T18:58:25.027559Z"
    }
   },
   "source": [
    "Com o dataset `penguins`, responda as questões abaixo:\n",
    "\n",
    "sns.load_dataset('penguins')"
   ]
  },
  {
   "cell_type": "markdown",
   "id": "9060a1ca",
   "metadata": {},
   "source": [
    "### Questão 6"
   ]
  },
  {
   "cell_type": "markdown",
   "id": "e8e2272c",
   "metadata": {},
   "source": [
    "Classifique o tipo de dado de cada coluna"
   ]
  },
  {
   "cell_type": "code",
   "execution_count": 13,
   "id": "6c8561b5",
   "metadata": {
    "ExecuteTime": {
     "end_time": "2021-10-08T19:44:02.928354Z",
     "start_time": "2021-10-08T19:44:02.896438Z"
    }
   },
   "outputs": [
    {
     "data": {
      "text/html": [
       "<div>\n",
       "<style scoped>\n",
       "    .dataframe tbody tr th:only-of-type {\n",
       "        vertical-align: middle;\n",
       "    }\n",
       "\n",
       "    .dataframe tbody tr th {\n",
       "        vertical-align: top;\n",
       "    }\n",
       "\n",
       "    .dataframe thead th {\n",
       "        text-align: right;\n",
       "    }\n",
       "</style>\n",
       "<table border=\"1\" class=\"dataframe\">\n",
       "  <thead>\n",
       "    <tr style=\"text-align: right;\">\n",
       "      <th></th>\n",
       "      <th>species</th>\n",
       "      <th>island</th>\n",
       "      <th>bill_length_mm</th>\n",
       "      <th>bill_depth_mm</th>\n",
       "      <th>flipper_length_mm</th>\n",
       "      <th>body_mass_g</th>\n",
       "      <th>sex</th>\n",
       "    </tr>\n",
       "  </thead>\n",
       "  <tbody>\n",
       "    <tr>\n",
       "      <th>0</th>\n",
       "      <td>Adelie</td>\n",
       "      <td>Torgersen</td>\n",
       "      <td>39.1</td>\n",
       "      <td>18.7</td>\n",
       "      <td>181.0</td>\n",
       "      <td>3750.0</td>\n",
       "      <td>Male</td>\n",
       "    </tr>\n",
       "    <tr>\n",
       "      <th>1</th>\n",
       "      <td>Adelie</td>\n",
       "      <td>Torgersen</td>\n",
       "      <td>39.5</td>\n",
       "      <td>17.4</td>\n",
       "      <td>186.0</td>\n",
       "      <td>3800.0</td>\n",
       "      <td>Female</td>\n",
       "    </tr>\n",
       "    <tr>\n",
       "      <th>2</th>\n",
       "      <td>Adelie</td>\n",
       "      <td>Torgersen</td>\n",
       "      <td>40.3</td>\n",
       "      <td>18.0</td>\n",
       "      <td>195.0</td>\n",
       "      <td>3250.0</td>\n",
       "      <td>Female</td>\n",
       "    </tr>\n",
       "    <tr>\n",
       "      <th>3</th>\n",
       "      <td>Adelie</td>\n",
       "      <td>Torgersen</td>\n",
       "      <td>NaN</td>\n",
       "      <td>NaN</td>\n",
       "      <td>NaN</td>\n",
       "      <td>NaN</td>\n",
       "      <td>NaN</td>\n",
       "    </tr>\n",
       "    <tr>\n",
       "      <th>4</th>\n",
       "      <td>Adelie</td>\n",
       "      <td>Torgersen</td>\n",
       "      <td>36.7</td>\n",
       "      <td>19.3</td>\n",
       "      <td>193.0</td>\n",
       "      <td>3450.0</td>\n",
       "      <td>Female</td>\n",
       "    </tr>\n",
       "    <tr>\n",
       "      <th>...</th>\n",
       "      <td>...</td>\n",
       "      <td>...</td>\n",
       "      <td>...</td>\n",
       "      <td>...</td>\n",
       "      <td>...</td>\n",
       "      <td>...</td>\n",
       "      <td>...</td>\n",
       "    </tr>\n",
       "    <tr>\n",
       "      <th>339</th>\n",
       "      <td>Gentoo</td>\n",
       "      <td>Biscoe</td>\n",
       "      <td>NaN</td>\n",
       "      <td>NaN</td>\n",
       "      <td>NaN</td>\n",
       "      <td>NaN</td>\n",
       "      <td>NaN</td>\n",
       "    </tr>\n",
       "    <tr>\n",
       "      <th>340</th>\n",
       "      <td>Gentoo</td>\n",
       "      <td>Biscoe</td>\n",
       "      <td>46.8</td>\n",
       "      <td>14.3</td>\n",
       "      <td>215.0</td>\n",
       "      <td>4850.0</td>\n",
       "      <td>Female</td>\n",
       "    </tr>\n",
       "    <tr>\n",
       "      <th>341</th>\n",
       "      <td>Gentoo</td>\n",
       "      <td>Biscoe</td>\n",
       "      <td>50.4</td>\n",
       "      <td>15.7</td>\n",
       "      <td>222.0</td>\n",
       "      <td>5750.0</td>\n",
       "      <td>Male</td>\n",
       "    </tr>\n",
       "    <tr>\n",
       "      <th>342</th>\n",
       "      <td>Gentoo</td>\n",
       "      <td>Biscoe</td>\n",
       "      <td>45.2</td>\n",
       "      <td>14.8</td>\n",
       "      <td>212.0</td>\n",
       "      <td>5200.0</td>\n",
       "      <td>Female</td>\n",
       "    </tr>\n",
       "    <tr>\n",
       "      <th>343</th>\n",
       "      <td>Gentoo</td>\n",
       "      <td>Biscoe</td>\n",
       "      <td>49.9</td>\n",
       "      <td>16.1</td>\n",
       "      <td>213.0</td>\n",
       "      <td>5400.0</td>\n",
       "      <td>Male</td>\n",
       "    </tr>\n",
       "  </tbody>\n",
       "</table>\n",
       "<p>344 rows × 7 columns</p>\n",
       "</div>"
      ],
      "text/plain": [
       "    species     island  bill_length_mm  bill_depth_mm  flipper_length_mm  \\\n",
       "0    Adelie  Torgersen            39.1           18.7              181.0   \n",
       "1    Adelie  Torgersen            39.5           17.4              186.0   \n",
       "2    Adelie  Torgersen            40.3           18.0              195.0   \n",
       "3    Adelie  Torgersen             NaN            NaN                NaN   \n",
       "4    Adelie  Torgersen            36.7           19.3              193.0   \n",
       "..      ...        ...             ...            ...                ...   \n",
       "339  Gentoo     Biscoe             NaN            NaN                NaN   \n",
       "340  Gentoo     Biscoe            46.8           14.3              215.0   \n",
       "341  Gentoo     Biscoe            50.4           15.7              222.0   \n",
       "342  Gentoo     Biscoe            45.2           14.8              212.0   \n",
       "343  Gentoo     Biscoe            49.9           16.1              213.0   \n",
       "\n",
       "     body_mass_g     sex  \n",
       "0         3750.0    Male  \n",
       "1         3800.0  Female  \n",
       "2         3250.0  Female  \n",
       "3            NaN     NaN  \n",
       "4         3450.0  Female  \n",
       "..           ...     ...  \n",
       "339          NaN     NaN  \n",
       "340       4850.0  Female  \n",
       "341       5750.0    Male  \n",
       "342       5200.0  Female  \n",
       "343       5400.0    Male  \n",
       "\n",
       "[344 rows x 7 columns]"
      ]
     },
     "execution_count": 13,
     "metadata": {},
     "output_type": "execute_result"
    }
   ],
   "source": [
    "penguins = sns.load_dataset('penguins')\n",
    "penguins"
   ]
  },
  {
   "cell_type": "code",
   "execution_count": 14,
   "id": "f19ec6ea",
   "metadata": {
    "ExecuteTime": {
     "end_time": "2021-10-08T19:44:03.210304Z",
     "start_time": "2021-10-08T19:44:03.189361Z"
    }
   },
   "outputs": [
    {
     "name": "stdout",
     "output_type": "stream",
     "text": [
      "<class 'pandas.core.frame.DataFrame'>\n",
      "RangeIndex: 344 entries, 0 to 343\n",
      "Data columns (total 7 columns):\n",
      " #   Column             Non-Null Count  Dtype  \n",
      "---  ------             --------------  -----  \n",
      " 0   species            344 non-null    object \n",
      " 1   island             344 non-null    object \n",
      " 2   bill_length_mm     342 non-null    float64\n",
      " 3   bill_depth_mm      342 non-null    float64\n",
      " 4   flipper_length_mm  342 non-null    float64\n",
      " 5   body_mass_g        342 non-null    float64\n",
      " 6   sex                333 non-null    object \n",
      "dtypes: float64(4), object(3)\n",
      "memory usage: 18.9+ KB\n"
     ]
    }
   ],
   "source": [
    "penguins.info()"
   ]
  },
  {
   "cell_type": "markdown",
   "id": "eba99b67",
   "metadata": {
    "ExecuteTime": {
     "end_time": "2021-10-08T19:28:00.454009Z",
     "start_time": "2021-10-08T19:28:00.441389Z"
    }
   },
   "source": [
    "Quantitativo contínuos: bill_length_mm, bill_depth_mm, flipper_length_mm, body_mass_g,\n",
    "    \n",
    "Qualitativos nominais: species, island, sex"
   ]
  },
  {
   "cell_type": "markdown",
   "id": "cd8fe357",
   "metadata": {},
   "source": [
    "### Questão 7\n",
    "Calcule a frequência absoluta para cada espécie de pinguim"
   ]
  },
  {
   "cell_type": "code",
   "execution_count": 15,
   "id": "820b61a5",
   "metadata": {
    "ExecuteTime": {
     "end_time": "2021-10-08T19:44:04.360957Z",
     "start_time": "2021-10-08T19:44:04.344001Z"
    }
   },
   "outputs": [
    {
     "name": "stdout",
     "output_type": "stream",
     "text": [
      "Tabela de frequência ABSOLUTA da coluna 'species':\n"
     ]
    },
    {
     "data": {
      "text/plain": [
       "Adelie       152\n",
       "Gentoo       124\n",
       "Chinstrap     68\n",
       "Name: species, dtype: int64"
      ]
     },
     "metadata": {},
     "output_type": "display_data"
    }
   ],
   "source": [
    "print(\"Tabela de frequência ABSOLUTA da coluna 'species':\")\n",
    "\n",
    "# Print da Tabela de Frequencia absoluta\n",
    "display(penguins[\"species\"].value_counts())"
   ]
  },
  {
   "cell_type": "markdown",
   "id": "620b2761",
   "metadata": {
    "ExecuteTime": {
     "end_time": "2021-10-08T19:01:38.859000Z",
     "start_time": "2021-10-08T19:01:38.844322Z"
    }
   },
   "source": [
    "### Questão 8\n",
    "Calcule a frequência relativa, relativa percentual e acumulativa de cada espécie de pinguim"
   ]
  },
  {
   "cell_type": "code",
   "execution_count": 16,
   "id": "4e52e2ba",
   "metadata": {
    "ExecuteTime": {
     "end_time": "2021-10-08T19:44:05.177534Z",
     "start_time": "2021-10-08T19:44:05.163572Z"
    }
   },
   "outputs": [
    {
     "name": "stdout",
     "output_type": "stream",
     "text": [
      "Tabela de frequência RELATIVA da coluna 'species':\n"
     ]
    },
    {
     "data": {
      "text/plain": [
       "Adelie       0.441860\n",
       "Gentoo       0.360465\n",
       "Chinstrap    0.197674\n",
       "Name: species, dtype: float64"
      ]
     },
     "metadata": {},
     "output_type": "display_data"
    }
   ],
   "source": [
    "print(\"Tabela de frequência RELATIVA da coluna 'species':\")\n",
    "display(penguins[\"species\"].value_counts(normalize=True))"
   ]
  },
  {
   "cell_type": "code",
   "execution_count": 17,
   "id": "c536ec33",
   "metadata": {
    "ExecuteTime": {
     "end_time": "2021-10-08T19:44:05.554980Z",
     "start_time": "2021-10-08T19:44:05.537028Z"
    }
   },
   "outputs": [
    {
     "name": "stdout",
     "output_type": "stream",
     "text": [
      "Tabela de frequência PERCENTUAL da coluna 'species':\n"
     ]
    },
    {
     "data": {
      "text/plain": [
       "Adelie       44.19%\n",
       "Gentoo       36.05%\n",
       "Chinstrap    19.77%\n",
       "Name: species, dtype: object"
      ]
     },
     "execution_count": 17,
     "metadata": {},
     "output_type": "execute_result"
    }
   ],
   "source": [
    "print(\"Tabela de frequência PERCENTUAL da coluna 'species':\")\n",
    "\n",
    "# Print da Tabela de Frequencia Percentual\n",
    "penguins[\"species\"].value_counts(normalize=True).apply(lambda x: str(round(x*100, 2)) + \"%\")"
   ]
  },
  {
   "cell_type": "code",
   "execution_count": 18,
   "id": "0a73832d",
   "metadata": {
    "ExecuteTime": {
     "end_time": "2021-10-08T19:44:05.948097Z",
     "start_time": "2021-10-08T19:44:05.926120Z"
    }
   },
   "outputs": [
    {
     "name": "stdout",
     "output_type": "stream",
     "text": [
      "Tabela de frequência Acumulada da coluna 'species':\n"
     ]
    },
    {
     "data": {
      "text/plain": [
       "Adelie       44.19%\n",
       "Gentoo       80.23%\n",
       "Chinstrap    100.0%\n",
       "Name: species, dtype: object"
      ]
     },
     "execution_count": 18,
     "metadata": {},
     "output_type": "execute_result"
    }
   ],
   "source": [
    "print(\"Tabela de frequência Acumulada da coluna 'species':\")\n",
    "\n",
    "# Print da Tabela de Frequencia Percentual\n",
    "penguins[\"species\"].value_counts(normalize=True).cumsum().apply(lambda x: str(round(x*100, 2)) + \"%\")"
   ]
  },
  {
   "cell_type": "markdown",
   "id": "8c784572",
   "metadata": {},
   "source": [
    "### Questão 9\n",
    "Utilizando a coluna `body_mass_g` do dataset Penguins, defina as principais métricas estatísticas para essa variável tais como:\n",
    "\n",
    "- Média;\n",
    "- Desvio Padrão;\n",
    "- Mínimo;\n",
    "- Primeiro Quartil;\n",
    "- Segundo Quartil (Mediana);\n",
    "- Terceiro Quartil;\n",
    "- Distância Interquartil (IQR);\n",
    "- Máximo;\n",
    "- Skewness;\n",
    "- Moda."
   ]
  },
  {
   "cell_type": "code",
   "execution_count": 19,
   "id": "67418fa6",
   "metadata": {
    "ExecuteTime": {
     "end_time": "2021-10-08T19:44:06.767234Z",
     "start_time": "2021-10-08T19:44:06.752276Z"
    }
   },
   "outputs": [
    {
     "data": {
      "text/plain": [
       "count     342.000000\n",
       "mean     4201.754386\n",
       "std       801.954536\n",
       "min      2700.000000\n",
       "25%      3550.000000\n",
       "50%      4050.000000\n",
       "75%      4750.000000\n",
       "max      6300.000000\n",
       "Name: body_mass_g, dtype: float64"
      ]
     },
     "execution_count": 19,
     "metadata": {},
     "output_type": "execute_result"
    }
   ],
   "source": [
    "penguins['body_mass_g'].describe()"
   ]
  },
  {
   "cell_type": "code",
   "execution_count": 20,
   "id": "785f378e",
   "metadata": {
    "ExecuteTime": {
     "end_time": "2021-10-08T19:44:07.171396Z",
     "start_time": "2021-10-08T19:44:07.154441Z"
    }
   },
   "outputs": [
    {
     "name": "stdout",
     "output_type": "stream",
     "text": [
      "IQR : 1200.0\n",
      "\n",
      "Skewness das massas: 0.470329330480123\n",
      "\n",
      "Idade(s) mais comum(s):\n"
     ]
    },
    {
     "data": {
      "text/plain": [
       "0    3800.0\n",
       "dtype: float64"
      ]
     },
     "metadata": {},
     "output_type": "display_data"
    }
   ],
   "source": [
    "print(\"IQR :\", penguins[\"body_mass_g\"].quantile(0.75) - penguins[\"body_mass_g\"].quantile(0.25))\n",
    "print(\"\\nSkewness das massas:\", penguins[\"body_mass_g\"].skew())\n",
    "print(\"\\nIdade(s) mais comum(s):\")\n",
    "display(penguins[\"body_mass_g\"].mode())"
   ]
  },
  {
   "cell_type": "markdown",
   "id": "13c53261",
   "metadata": {},
   "source": [
    "### Questão 10\n",
    "Crie um gráfico da distribuição da massa dos pinguins e identifique os pontos onde se encontram a média, mediana e moda das idades."
   ]
  },
  {
   "cell_type": "code",
   "execution_count": 21,
   "id": "2fd1c64d",
   "metadata": {
    "ExecuteTime": {
     "end_time": "2021-10-08T19:44:08.287362Z",
     "start_time": "2021-10-08T19:44:08.071940Z"
    }
   },
   "outputs": [
    {
     "data": {
      "image/png": "[encoded data removed]",
      "text/plain": [
       "<Figure size 864x432 with 1 Axes>"
      ]
     },
     "metadata": {
      "needs_background": "light"
     },
     "output_type": "display_data"
    }
   ],
   "source": [
    "# Define o tamanho da figura\n",
    "plt.figure(figsize=(12, 6))\n",
    "\n",
    "# Define o Titulo\n",
    "plt.title(\"Distribuição da massa dos pinguins\", size=18)\n",
    "\n",
    "# Plot do Histograma\n",
    "sns.histplot(penguins[\"body_mass_g\"], kde=True, alpha=0.2)\n",
    "\n",
    "# plotando média\n",
    "plt.axvline(x=penguins[\"body_mass_g\"].mean(), color=\"red\", label=\"média\")\n",
    "\n",
    "# plotando a mediana\n",
    "plt.axvline(penguins[\"body_mass_g\"].median(), color=\"green\", label=\"mediana\")\n",
    "\n",
    "# Loop para plotar as modas\n",
    "for i in range(penguins[\"body_mass_g\"].mode().shape[0]):\n",
    "    plt.axvline(penguins[\"body_mass_g\"].mode()[i], color=\"yellow\", label=\"moda\")\n",
    "\n",
    "# Cria uma legenda\n",
    "plt.legend()\n",
    "\n",
    "# Mostra o Gráfico\n",
    "plt.show()"
   ]
  },
  {
   "cell_type": "markdown",
   "id": "312a2d79",
   "metadata": {
    "ExecuteTime": {
     "end_time": "2021-10-08T19:07:27.672797Z",
     "start_time": "2021-10-08T19:07:27.657230Z"
    }
   },
   "source": [
    "### Questão 11\n",
    "Ainda trabalhando com os valores das massas dos pinguins crie três Boxplots:\n",
    "\n",
    "- Boxplot da massa para todos os pinguins\n",
    "- Boxplot da massas dos pinguins separados pelo sexo.\n",
    "- Boxplot da massas dos pinguins separados pelo sexo e pela espécies."
   ]
  },
  {
   "cell_type": "code",
   "execution_count": 22,
   "id": "b23cc176",
   "metadata": {
    "ExecuteTime": {
     "end_time": "2021-10-08T19:44:09.149868Z",
     "start_time": "2021-10-08T19:44:09.038167Z"
    }
   },
   "outputs": [
    {
     "data": {
      "text/plain": [
       "<AxesSubplot:xlabel='body_mass_g'>"
      ]
     },
     "execution_count": 22,
     "metadata": {},
     "output_type": "execute_result"
    },
    {
     "data": {
      "image/png": "[encoded data removed]",
      "text/plain": [
       "<Figure size 432x288 with 1 Axes>"
      ]
     },
     "metadata": {
      "needs_background": "light"
     },
     "output_type": "display_data"
    }
   ],
   "source": [
    "sns.boxplot(data=penguins, x=\"body_mass_g\")#, x=\"Survived\", hue=\"Sex\")"
   ]
  },
  {
   "cell_type": "code",
   "execution_count": 23,
   "id": "e69416dd",
   "metadata": {
    "ExecuteTime": {
     "end_time": "2021-10-08T19:44:09.711123Z",
     "start_time": "2021-10-08T19:44:09.526567Z"
    }
   },
   "outputs": [
    {
     "data": {
      "text/plain": [
       "<AxesSubplot:xlabel='body_mass_g', ylabel='sex'>"
      ]
     },
     "execution_count": 23,
     "metadata": {},
     "output_type": "execute_result"
    },
    {
     "data": {
      "image/png": "[encoded data removed]",
      "text/plain": [
       "<Figure size 432x288 with 1 Axes>"
      ]
     },
     "metadata": {
      "needs_background": "light"
     },
     "output_type": "display_data"
    }
   ],
   "source": [
    "sns.boxplot(data=penguins, x=\"body_mass_g\", y=\"sex\")"
   ]
  },
  {
   "cell_type": "code",
   "execution_count": 24,
   "id": "c82a0953",
   "metadata": {
    "ExecuteTime": {
     "end_time": "2021-10-08T19:44:10.366477Z",
     "start_time": "2021-10-08T19:44:10.146065Z"
    }
   },
   "outputs": [
    {
     "data": {
      "text/plain": [
       "<AxesSubplot:xlabel='body_mass_g', ylabel='sex'>"
      ]
     },
     "execution_count": 24,
     "metadata": {},
     "output_type": "execute_result"
    },
    {
     "data": {
      "image/png": "[encoded data removed]",
      "text/plain": [
       "<Figure size 432x288 with 1 Axes>"
      ]
     },
     "metadata": {
      "needs_background": "light"
     },
     "output_type": "display_data"
    }
   ],
   "source": [
    "sns.boxplot(data=penguins, x=\"body_mass_g\", y=\"sex\", hue='species')"
   ]
  },
  {
   "cell_type": "code",
   "execution_count": null,
   "id": "5397d8c0",
   "metadata": {},
   "outputs": [],
   "source": []
  },
  {
   "cell_type": "code",
   "execution_count": null,
   "id": "760bf537",
   "metadata": {},
   "outputs": [],
   "source": []
  }
 ],
 "metadata": {
  "kernelspec": {
   "display_name": "Python 3 (ipykernel)",
   "language": "python",
   "name": "python3"
  },
  "language_info": {
   "codemirror_mode": {
    "name": "ipython",
    "version": 3
   },
   "file_extension": ".py",
   "mimetype": "text/x-python",
   "name": "python",
   "nbconvert_exporter": "python",
   "pygments_lexer": "ipython3",
   "version": "3.9.7"
  },
  "varInspector": {
   "cols": {
    "lenName": 16,
    "lenType": 16,
    "lenVar": 40
   },
   "kernels_config": {
    "python": {
     "delete_cmd_postfix": "",
     "delete_cmd_prefix": "del ",
     "library": "var_list.py",
     "varRefreshCmd": "print(var_dic_list())"
    },
    "r": {
     "delete_cmd_postfix": ") ",
     "delete_cmd_prefix": "rm(",
     "library": "var_list.r",
     "varRefreshCmd": "cat(var_dic_list()) "
    }
   },
   "types_to_exclude": [
    "module",
    "function",
    "builtin_function_or_method",
    "instance",
    "_Feature"
   ],
   "window_display": false
  }
 },
 "nbformat": 4,
 "nbformat_minor": 5
}
