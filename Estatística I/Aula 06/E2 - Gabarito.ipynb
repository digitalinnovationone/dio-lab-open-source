{
 "cells": [
  {
   "cell_type": "markdown",
   "id": "6bbe1be8-11db-48e4-9bd6-d5e52c0a190e",
   "metadata": {},
   "source": [
    "# E2 - Exercícios Gabarito"
   ]
  },
  {
   "cell_type": "code",
   "execution_count": 28,
   "id": "dcf2db38-4ff1-4d6f-873f-425e6846e372",
   "metadata": {},
   "outputs": [],
   "source": [
    "from scipy import stats\n",
    "import numpy as np\n",
    "import pandas as pd\n",
    "import seaborn as sns\n",
    "import matplotlib.pyplot as plt\n",
    "import statsmodels.api as sm\n",
    "from statsmodels.formula.api import ols\n"
   ]
  },
  {
   "cell_type": "markdown",
   "id": "783d3e07-299a-4feb-8a2b-7d16bb0ff31e",
   "metadata": {},
   "source": [
    "__1)__ Num teste de multipla escolha o estudante sabe uma resposta com probabilidade $p$ e chuta uma resposta com probabilidade $1-p$. Sendo $m$ a quantidade de alternativas (igual para todas as questões), e assumindo que o estudante chutou, ele tem uma probabilidade de acertar de $\\frac{1}{m}$.\n",
    "- Sabendo-se que o estudante acertou a questão, qual é a probabilidade dele realmente saber a resposta? \n",
    "    \n",
    "__obs.:__ podem fazer de forma genérica ou substituirem valores para $p$ e $m$"
   ]
  },
  {
   "cell_type": "markdown",
   "id": "8866caa3-5f4c-4dd6-86fe-3d78253bb4f1",
   "metadata": {},
   "source": [
    "- S: Saber\n",
    "- C: Correto\n",
    "\n",
    "$$P(S|C) = \\dfrac{P(S)P(C|S)}{P(S)P(C|S) + P(\\lnot S)P(C|\\lnot S)}$$\n",
    "\n",
    "mas\n",
    "\n",
    "- $P(S) = p$\n",
    "- $P(\\lnot S) = 1-p$\n",
    "- $P(C|\\lnot S) = \\frac{1}{m}$\n",
    "- $P(C|S) = 1$\n",
    "\n",
    "e portanto\n",
    "\n",
    "$$P(S|C) = \\dfrac{p}{p + (1-p)\\frac{1}{m}} = \\dfrac{mp}{1+(m-1)p}$$\n"
   ]
  },
  {
   "cell_type": "markdown",
   "id": "8bd11d66-b6c2-4706-8686-4e0047cded58",
   "metadata": {},
   "source": [
    "__2)__ Suponha que o limite de uma estrada é de 80km/h e, a partir da medição por radar, sabe-se que nessa rodovia a velocidade dos veículo $X$ segue uma distribuição normal com média de 72km/h e desvio padrão de 8 km/h.\n",
    "- Qual a probabilidade de um veículo ser multado?\n",
    "- Além da multa, se um veículo ultrapassar o limite em 30km/h, o motorista perde a carteira. Considerando apenas os infratores de velocidade, qual a probabilidade dele perder a carteira?\n",
    "    "
   ]
  },
  {
   "cell_type": "code",
   "execution_count": 8,
   "id": "74f6ad85-7e56-4e3e-a1ea-993de6171562",
   "metadata": {},
   "outputs": [
    {
     "data": {
      "text/plain": [
       "0.15865525393145707"
      ]
     },
     "execution_count": 8,
     "metadata": {},
     "output_type": "execute_result"
    }
   ],
   "source": [
    "#P(X > 80) = 1 - P(X<=80)\n",
    "rv = stats.norm(72, 8)\n",
    "1-rv.cdf(80)"
   ]
  },
  {
   "cell_type": "code",
   "execution_count": 9,
   "id": "9eea9934-36de-4ac7-a6d2-09c1178481e3",
   "metadata": {},
   "outputs": [
    {
     "data": {
      "text/plain": [
       "1.017083242516037e-06"
      ]
     },
     "execution_count": 9,
     "metadata": {},
     "output_type": "execute_result"
    }
   ],
   "source": [
    "#P(X > 110| X> 80) = P(X>110) = 1 - P(X<=110)\n",
    "1 - rv.cdf(110)"
   ]
  },
  {
   "cell_type": "markdown",
   "id": "17df2c74-5ecf-49ce-8118-4d10a7f618e0",
   "metadata": {},
   "source": [
    "__3)__ Suponha que a probabilidade de uma criança nascer loira é de 1/4. Se houverem 6 crianças na família, qual é a probabilidade de 3 dele serem loiros?"
   ]
  },
  {
   "cell_type": "code",
   "execution_count": 10,
   "id": "0bbb476a-e6e4-44b7-87bf-c5c11b5615fe",
   "metadata": {},
   "outputs": [
    {
     "data": {
      "text/plain": [
       "0.13183593750000008"
      ]
     },
     "execution_count": 10,
     "metadata": {},
     "output_type": "execute_result"
    }
   ],
   "source": [
    "#X~Bin(6,0.25)\n",
    "#P(X = 3)\n",
    "rv = stats.binom(6, 0.25)\n",
    "rv.pmf(3)"
   ]
  },
  {
   "cell_type": "markdown",
   "id": "229db1ae-e7ac-47fb-9e35-d5e78ee24dd2",
   "metadata": {},
   "source": [
    "__4)__ Se a probabilidade de atingir um alvo com um único disparo é de 0.3. Qual é a probabilidade de, em 4 disparos, atingirmos o alvo ao menos 3 vezes?\n"
   ]
  },
  {
   "cell_type": "code",
   "execution_count": 11,
   "id": "a88020b8-bd22-4b6b-82c1-373c4c491e38",
   "metadata": {},
   "outputs": [
    {
     "data": {
      "text/plain": [
       "0.0837"
      ]
     },
     "execution_count": 11,
     "metadata": {},
     "output_type": "execute_result"
    }
   ],
   "source": [
    "#X~Bin(4,0.3)\n",
    "#P(X >= 3) = 1 - P(X < 3) = 1 - P(X <= 2)\n",
    "rv = stats.binom(4, 0.3)\n",
    "1-rv.cdf(2)"
   ]
  },
  {
   "cell_type": "markdown",
   "id": "7759d93d-5ea0-4c95-b059-3710133469d0",
   "metadata": {},
   "source": [
    "__5)__ Suponha que o número de meteoros registrados por um sistema de radares num intervalo qualquer de 30 segundos é de 1.81 em média. Assumindo que os meteoros aparecem aleatoriamente e de forma independente. Usando a distribuição de Poisson determine:\n",
    "- A probabilidade de que nenhum meteoro seja encontrado num intervalo de 1 minuto.\n",
    "- A probabilidade encontrarmos de 5 a 8 meteoros em 2 minutos."
   ]
  },
  {
   "cell_type": "code",
   "execution_count": 12,
   "id": "6acebf93-fcee-4a4d-8303-b6cd1cd3b16e",
   "metadata": {},
   "outputs": [
    {
     "data": {
      "text/plain": [
       "0.026782676492638175"
      ]
     },
     "execution_count": 12,
     "metadata": {},
     "output_type": "execute_result"
    }
   ],
   "source": [
    "#X~Poisson(k*lambda)\n",
    "#P(X = 0| lambda = 2*1.81)\n",
    "rv = stats.poisson(2*1.81)\n",
    "rv.pmf(0)"
   ]
  },
  {
   "cell_type": "code",
   "execution_count": 15,
   "id": "a74df928-91a0-40e1-a253-c71fad3b2e86",
   "metadata": {},
   "outputs": [
    {
     "data": {
      "text/plain": [
       "0.5451062052204809"
      ]
     },
     "execution_count": 15,
     "metadata": {},
     "output_type": "execute_result"
    }
   ],
   "source": [
    "#X~Poisson(k*lambda)\n",
    "#P(5 <= X <= 8| lambda = 4*1.81)\n",
    "rv = stats.poisson(4*1.81)\n",
    "rv.cdf(8) - rv.cdf(4)"
   ]
  },
  {
   "cell_type": "markdown",
   "id": "349bfc5c-671a-49f6-bc97-a4dac3643be7",
   "metadata": {},
   "source": [
    "__6)__ O número médio de jornais vendidos numa banca é 5 jornais por minuto. Qual é a probabilidade de vender ao menos 1 jornal em um minuto?"
   ]
  },
  {
   "cell_type": "code",
   "execution_count": 16,
   "id": "7df828a2-5f30-469a-86fd-56d21f317946",
   "metadata": {},
   "outputs": [
    {
     "data": {
      "text/plain": [
       "0.9932620530009145"
      ]
     },
     "execution_count": 16,
     "metadata": {},
     "output_type": "execute_result"
    }
   ],
   "source": [
    "#X ~ Poisson(5)\n",
    "#P(X>=1) = 1 - P(X<1) = 1-P(X=0)\n",
    "rv = stats.poisson(5)\n",
    "1-rv.pmf(0)"
   ]
  },
  {
   "cell_type": "markdown",
   "id": "304398b1-5bdd-416e-8514-867f736c89eb",
   "metadata": {},
   "source": [
    "__7)__ Jane iniciou um novo trabalha como representante de vendas numa empresa extremamente competitiva, ao ponto de exigirem que novos colaboradores batem uma meta de 100 reais por contrato. Numa amostra coletada pela gerente de Jane de 16 vendas, observou-se que a média de valor fechado nos contratos foi de 108 reais com um desvio de 12 reais. Considerando uma confiança de 95%, a gerente poderia seguir com a contratação da Jane ou ela precisaria ser desligada de acordo com as políticas da empresa?"
   ]
  },
  {
   "cell_type": "markdown",
   "id": "8bbf3cbe-b6eb-42b5-86a7-52bb7aa8b5da",
   "metadata": {},
   "source": [
    "- $H_0: \\mu <= 100$\n",
    "- $H_1: \\mu > 100$\n",
    "- $\\alpha = 0.05$\n",
    "\n",
    "$$\\overline{X} \\sim N(100, \\frac{144}{16}) \\rightarrow Z = \\dfrac{\\overline{X} - 100}{3} \\sim N(0, 1)$$\n",
    "\n",
    "$$\\alpha = P(\\text{Erro Tipo I}) \\rightarrow z = \\dfrac{\\overline{X} - 100}{3} = 1.645$$\n",
    "$$RC = \\{X \\in [104.935; \\infty)\\}$$\n",
    "\n",
    "Portanto rejeitamos H0 e Jane pode seguir feliz repensando sua escolha de empresa enquanto recebe seu salário"
   ]
  }
 ],
 "metadata": {
  "kernelspec": {
   "display_name": "Python 3 (ipykernel)",
   "language": "python",
   "name": "python3"
  },
  "language_info": {
   "codemirror_mode": {
    "name": "ipython",
    "version": 3
   },
   "file_extension": ".py",
   "mimetype": "text/x-python",
   "name": "python",
   "nbconvert_exporter": "python",
   "pygments_lexer": "ipython3",
   "version": "3.9.7"
  }
 },
 "nbformat": 4,
 "nbformat_minor": 5
}
