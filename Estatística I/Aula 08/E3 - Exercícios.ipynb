{
 "cells": [
  {
   "cell_type": "markdown",
   "id": "615f2026",
   "metadata": {
    "id": "615f2026"
   },
   "source": [
    "# Exercícios - Estatística II"
   ]
  },
  {
   "cell_type": "markdown",
   "id": "b3fd867e",
   "metadata": {
    "id": "b3fd867e"
   },
   "source": [
    "### Questão 1"
   ]
  },
  {
   "cell_type": "markdown",
   "id": "1a47d0ed",
   "metadata": {
    "id": "1a47d0ed"
   },
   "source": [
    "Uma relação bem importante entre uma população e uma amostra, é que uma amostra pode ser significativa daquela população (ou seja, podemos inferir que a média e variância da amostra será bem próximo do valor real da população), isto quando essa amostra for grande o suficiente para isso. Vamos fazer algumas simulações utilizando o _Python_ para testar esses conceicos, resolvendo os itens a seguir:\n",
    "\n",
    "__A)__ Crie uma lista com número aleatórios entre 20 e 50 e que essa lista contenham 1 milhão de elementos;\n",
    "\n",
    "__B)__ Calcule a média e a variância para essa lista;\n",
    "\n",
    "__C)__ Faça amostra aleatórias de diversos tamanhos (10, 100, 1.000 e 10.000 elementos) e calcule as mesmas métricas que o item anterior, para avaliar o conceito proposto no enunciado"
   ]
  },
  {
   "cell_type": "code",
   "execution_count": null,
   "id": "0e93f872",
   "metadata": {
    "id": "0e93f872"
   },
   "outputs": [],
   "source": []
  },
  {
   "cell_type": "markdown",
   "id": "3502aea3",
   "metadata": {
    "id": "3502aea3"
   },
   "source": [
    "### Questão 2"
   ]
  },
  {
   "cell_type": "markdown",
   "id": "97416ea6",
   "metadata": {
    "id": "97416ea6"
   },
   "source": [
    "Neste exercício vamos demonstrar a importância de uma amostragem estratificada quando temos grupos significantes dentro da população. Faça os seguintes itens:\n",
    "\n",
    "__A)__ Crie 3 listas de números aleatórios sendo elas:\n",
    "    - uma lista com números aleatórios entre 40 e 50 contendo 10.000 elementos;\n",
    "    - uma lista com números aleatórios entre 10 e 20 contendo 6.000 elementos;\n",
    "    - uma lista com números aleatórios entre 80 e 90 contendo 4.000 elementos.\n",
    "    \n",
    "__B)__ Calcule a média e a variância para cada uma das 3 listas;\n",
    "\n",
    "__C)__ Calcule a média e a variância para a população, onde a população seja as 3 listas juntas;\n",
    "\n",
    "__Dica.:__ Neste caso, temos que trabalhar com média e variância ponderada!\n",
    "\n",
    "__D)__ Una as 3 listas em uma só e retire uma amostra de 1% da lista resultante. Calcule a média e a variância para esta amostra;\n",
    "\n",
    "__E)__ Por fim, faça uma amostra estratificada da seguinte forma: faça uma amostra aleatória de 1% de cada uma das 3 listas e em seguida calcule a média e a variância para a amostra estratificada (será necessário utilizar a média e variância ponderada!).\n",
    "\n",
    "__F)__ Compare o resultado das métricas para a amostra e a amostra estratificada com o valor das métricas da população."
   ]
  },
  {
   "cell_type": "code",
   "execution_count": null,
   "id": "119245b9",
   "metadata": {
    "id": "119245b9"
   },
   "outputs": [],
   "source": []
  },
  {
   "cell_type": "markdown",
   "id": "2e3a7b3a",
   "metadata": {
    "id": "2e3a7b3a"
   },
   "source": [
    "### Questão 3"
   ]
  },
  {
   "cell_type": "markdown",
   "id": "8d8b9db9",
   "metadata": {
    "id": "8d8b9db9"
   },
   "source": [
    " Uma máquina de sorvete está regulada de modo a servir uma média de 120g por casquinha. Se a quantidade servida por casquinha seguir uma distribuição normal com desvio padrão de 18g, determine a porcentagem de casquinhas que conterão mais de 150g de sorvete."
   ]
  },
  {
   "cell_type": "code",
   "execution_count": null,
   "id": "3b3ff14e",
   "metadata": {
    "id": "3b3ff14e"
   },
   "outputs": [],
   "source": []
  },
  {
   "cell_type": "markdown",
   "id": "18951732",
   "metadata": {
    "id": "18951732"
   },
   "source": [
    "### Questão 4"
   ]
  },
  {
   "cell_type": "markdown",
   "id": "91d33a4a",
   "metadata": {
    "id": "91d33a4a"
   },
   "source": [
    "O peso médio de 500 estudantes do sexo masculino de uma determinada universidade é 71 Kg e o desvio padrão é 5,3 Kg. Admitindo que os pesos são normalmente distribuídos, determine a oercentagem de estudantes que pesam entre 65 e 72,5 kg"
   ]
  },
  {
   "cell_type": "code",
   "execution_count": null,
   "id": "9dcf53ee",
   "metadata": {
    "id": "9dcf53ee"
   },
   "outputs": [],
   "source": []
  },
  {
   "cell_type": "markdown",
   "id": "49a54c36",
   "metadata": {
    "id": "49a54c36"
   },
   "source": [
    "### Questão 5"
   ]
  },
  {
   "cell_type": "markdown",
   "id": "ad7af421",
   "metadata": {
    "id": "ad7af421"
   },
   "source": [
    "Uma fábrica anuncia que o índice de cafeína em um refrigerante de uma dada marca é igual a 20 mg por lata. Um laboratório realiza 20 análises do índice obtendo: 22, 19, 21, 22, 20, 18, 27, 20, 21, 19, 20, 22, 17, 20, 21,18, 25, 16, 20, 21. Sabe-se que o índice de cafeína do refrigerante dessa marca se distribui normalmente com variância 4 mg$^2$. Pode-se aceitar a afirmação do fabricante, ao nível de 5%?"
   ]
  },
  {
   "cell_type": "code",
   "execution_count": null,
   "id": "46281c0d",
   "metadata": {
    "id": "46281c0d"
   },
   "outputs": [],
   "source": []
  },
  {
   "cell_type": "markdown",
   "id": "909f1699",
   "metadata": {},
   "source": [
    "## Questão 6\n",
    "\n",
    "Uma rede de _fast-food_ está querendo otimizar o tempo de produção X de seus lanches, sendo X em minutos. Sabe-se que X segue uma distribuição normal $N(4, 9)$. A linha de produção reorganizada de maneira a otimizar este tempo, onde utilizando uma amostra de 30 lanches produzidos, o tempo médio de produção foi de 2.8 minutos. Usando o p-valor, você diria que a nova organização é melhor que a anterior?"
   ]
  },
  {
   "cell_type": "code",
   "execution_count": null,
   "id": "f60ecd9d",
   "metadata": {},
   "outputs": [],
   "source": []
  }
 ],
 "metadata": {
  "colab": {
   "name": "L3 - Estatística II.ipynb",
   "provenance": []
  },
  "kernelspec": {
   "display_name": "Python 3 (ipykernel)",
   "language": "python",
   "name": "python3"
  },
  "language_info": {
   "codemirror_mode": {
    "name": "ipython",
    "version": 3
   },
   "file_extension": ".py",
   "mimetype": "text/x-python",
   "name": "python",
   "nbconvert_exporter": "python",
   "pygments_lexer": "ipython3",
   "version": "3.8.11"
  },
  "varInspector": {
   "cols": {
    "lenName": 16,
    "lenType": 16,
    "lenVar": 40
   },
   "kernels_config": {
    "python": {
     "delete_cmd_postfix": "",
     "delete_cmd_prefix": "del ",
     "library": "var_list.py",
     "varRefreshCmd": "print(var_dic_list())"
    },
    "r": {
     "delete_cmd_postfix": ") ",
     "delete_cmd_prefix": "rm(",
     "library": "var_list.r",
     "varRefreshCmd": "cat(var_dic_list()) "
    }
   },
   "types_to_exclude": [
    "module",
    "function",
    "builtin_function_or_method",
    "instance",
    "_Feature"
   ],
   "window_display": false
  }
 },
 "nbformat": 4,
 "nbformat_minor": 5
}
