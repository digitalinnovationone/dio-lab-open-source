{
 "cells": [
  {
   "cell_type": "markdown",
   "id": "5f4c0561",
   "metadata": {},
   "source": [
    "# 02 - Probabilidade\n",
    "\n",
    "Nessa aula, iremos tratar dos seguintes conteúdos:\n",
    "- Probabilidade\n",
    "- Variável Aleatória\n",
    "- Espaço Amostral\n",
    "- Probabilidade - Definição\n",
    "- Probabilidade da Uniâo de Eventos\n",
    "- Eventos Independentes\n",
    "- Teorema de Bayes"
   ]
  },
  {
   "cell_type": "markdown",
   "id": "26dffd9c",
   "metadata": {},
   "source": [
    "<img src = \"https://www.estudopratico.com.br/wp-content/uploads/2014/06/probabilidade-calcular-e1586431045913-1200x675.jpg\" width=800>"
   ]
  },
  {
   "cell_type": "markdown",
   "id": "4c27128d",
   "metadata": {},
   "source": [
    "## "
   ]
  },
  {
   "cell_type": "markdown",
   "id": "a91f37d7",
   "metadata": {},
   "source": [
    "## Exercícios"
   ]
  },
  {
   "cell_type": "markdown",
   "id": "eb603e56",
   "metadata": {},
   "source": [
    "__1)__ Um teste para identificação de malária na população amazônica possui uma taxa de 8% de falso positivo e 2% de falso negativo, ou seja, em 8% dos não-infectados acusa como infectados, e em 2% dos infectados acusa como não infectados. Sabendo que atualmente 0,4% da população amazônica está infectada, calcule a probabilidade de um paciente cujo teste apontou positivo estar realmente não infectado.\n",
    "\n",
    "__Resolução:__\n",
    "\n",
    "> Consideremos que 0,4% das pessoas possui a doença: $P(C) = 0.004$\n",
    "\n",
    "> Logo, 99,6% das pessoas não a possui: $P(¬C) = 0.996$\n",
    "\n",
    "Os Falsos positivos são 8%, ou seja 8% dos testes positivos na verdade não estâo com a doença. Já o caso dos falsos negativos são 2%, ou seja 2% dos testes negativos na verdade a pessoa está realmente doente. Vamos ver esse resumo na tabela abaixo:\n",
    "\n",
    "\n",
    "|                | Pessoa Doente | Pessoa Não Doente |\n",
    "|----------------|---------------|-------------------|\n",
    "| Teste positivo | 98 %          | 8 %               |\n",
    "| Teste Negativo |  2 %          | 92 %              |\n",
    "\n",
    "\n",
    "Fazendo os cálculos de forma análoga a aula:\n",
    "\n",
    "\n",
    "|                | Pessoa Doente                            | Pessoa Não Doente                               |\n",
    "|----------------|------------------------------------------|-------------------------------------------------|\n",
    "| **Teste positivo** | Prob Doente e teste pos: 0,4% × 98% = 0,39% | Prob Não Doente e teste pos: 99,6% × 8% = 7,97%   |\n",
    "| **Teste Negativo** | Prob Doente e teste neg: 0,4% × 2% = 0,01% | Prob Não Doente e teste neg: 99,6% × 92% = 91,63% |\n",
    "\n",
    "\n",
    "O evento desejado é um Falso positivo, ou seja, **teste positivo e a pessoa sem a doença**.\n",
    "\n",
    "O **total de possibilidades com relação ao teste positivo** seria a **soma da probabilidade de “doente e teste pos”** (verdadeiro positivo) com **“não doente e teste pos” (falso positivo)**, que resultará em 0,39% + 7,97%, igual a 8,36%.\n",
    "\n",
    "Portanto, a chance de ter não ter a doença se temos um teste positivo é de **7,97%/8,36% = 0.9531**, ou **95,31%**. \n"
   ]
  },
  {
   "cell_type": "markdown",
   "id": "b083f9be",
   "metadata": {},
   "source": [
    "## "
   ]
  },
  {
   "cell_type": "markdown",
   "id": "345698cc",
   "metadata": {},
   "source": [
    "__2)__ Luiza tem um pote de cápsulas de café onde têm cápsulas de diversas cores. Então Luiza decidiu contar quantas cápsulas de cada ela tem:\n",
    "\n",
    "- Azul: 10 cápsulas\n",
    "- Roxo: 7 cápsulas\n",
    "- Preto: 8 cápsulas\n",
    "- Vermelho: 5 cápsulas\n",
    "\n",
    "Colocando todas as cápsulas de volta e escolhendo duas quaisquer para tomar, qual a probabilidade de Luiza pegar aleatoriamente primeiro uma cápsula azul e depois uma vermelha, dado que são eventos independentes?"
   ]
  },
  {
   "cell_type": "code",
   "execution_count": null,
   "id": "b5776d08",
   "metadata": {},
   "outputs": [],
   "source": [
    "# Evento A - Retirar uma cápsula Azul\n",
    "P(A) = 10/30 = 1/3\n",
    "\n",
    "# Evento B - Retirar uma cápsula Vermelha\n",
    "P(B) = 5/30 = 1/6\n",
    "\n",
    "# Evento (A ∩ B)\n",
    "P(A ∩ B) = P(A)*P(B) = (1/3)*(1/6) = 1/18"
   ]
  },
  {
   "cell_type": "code",
   "execution_count": null,
   "id": "40620895",
   "metadata": {},
   "outputs": [],
   "source": [
    "# EXTRA - E no caso de sem reposição?\n",
    "P(A ∩ B) = P(A)*P(B | A) = P(B)*P(A | B) = (1/3)*(5/29) = (1/6)*(10/29) = 5/87"
   ]
  },
  {
   "cell_type": "markdown",
   "id": "7e83040e",
   "metadata": {},
   "source": [
    "## "
   ]
  },
  {
   "cell_type": "markdown",
   "id": "a715aae7",
   "metadata": {},
   "source": [
    "__3)__ Se uma moeda for lançada 5 vezes, qual é a probabilidade de sair pelo menos 4 caras?"
   ]
  },
  {
   "cell_type": "code",
   "execution_count": null,
   "id": "6026f282",
   "metadata": {},
   "outputs": [],
   "source": [
    "# Definindo o espaço amostral\n",
    "S = 2*2*2*2*2 = 32\n",
    "\n",
    "# Vamos fixar as duas primeiras posições\n",
    "S1 = {(K, K, K, K, C), (K, K, K, C, K), (K, K, C, K, K), (K, C, K, K, K), (C, K, K, K, K), (K, K, K, K, K)}\n",
    "\n",
    "# Probabilidade\n",
    "P = 6/32 = 3/16"
   ]
  },
  {
   "cell_type": "markdown",
   "id": "6e7eb848",
   "metadata": {},
   "source": [
    "## "
   ]
  },
  {
   "cell_type": "markdown",
   "id": "e98b4d32",
   "metadata": {},
   "source": [
    "__4)__ Dois dados são lançados e vamos definir os eventos A e B como:\n",
    "    \n",
    "- __A__: a soma dos dados é igual a 6;\n",
    "    \n",
    "- __B__: saiu o valor 4 no primeiro dado.\n",
    "    \n",
    "Esses eventos são independentes?"
   ]
  },
  {
   "cell_type": "markdown",
   "id": "d9899dfd",
   "metadata": {},
   "source": [
    "Vamos definir o espaço amostral, as probabilidades de A, B e (A ∩ B). Em seguida vamos comparar com a relação da definição de eventos independentes:\n",
    "\n",
    "$$ P(A ∩ B) = P(A)P(B) $$\n",
    "\n",
    "Para verificar se é verdadeira a suposição:"
   ]
  },
  {
   "cell_type": "code",
   "execution_count": null,
   "id": "e1fa0242",
   "metadata": {},
   "outputs": [],
   "source": [
    "# Espaço amostral dos eventos possiveis\n",
    "S = {(1,1), (1,2), (1,3), (1,4), (1,5), (1,6),\n",
    "     (2,1), (2,2), (2,3), (2,4), (2,5), (2,6),\n",
    "     (3,1), (3,2), (3,3), (3,4), (3,5), (3,6),\n",
    "     (4,1), (4,2), (4,3), (4,4), (4,5), (4,6),\n",
    "     (5,1), (5,2), (5,3), (5,4), (5,5), (5,6),\n",
    "     (6,1), (6,2), (6,3), (6,4), (6,5), (6,6)}\n",
    "\n",
    "# Evento A - A soma igual a 6\n",
    "A = {(1,5), (2,4), (3,3), (4,2), (5,1)}\n",
    "P(A) = 5/36\n",
    "\n",
    "# Evento B - O primeiro dado deu 4\n",
    "B = {(4,1), (4,2), (4,3), (4,4), (4,5), (4,6)}\n",
    "P(B) = 6/36 = 1/6\n",
    "\n",
    "# Evento A ∩ B\n",
    "(A ∩ B) = {(4,2)}\n",
    "P(A ∩ B) = 1/36\n",
    "\n",
    "#Portanto\n",
    "P(A)P(B) = (5/36)*(1/6) = 5/216 != P(A ∩ B)"
   ]
  },
  {
   "cell_type": "markdown",
   "id": "4841c1f6",
   "metadata": {},
   "source": [
    "Portanto os eventos A e B não são independentes."
   ]
  },
  {
   "cell_type": "markdown",
   "id": "284b2c32",
   "metadata": {},
   "source": [
    "## "
   ]
  }
 ],
 "metadata": {
  "kernelspec": {
   "display_name": "Python 3 (ipykernel)",
   "language": "python",
   "name": "python3"
  },
  "language_info": {
   "codemirror_mode": {
    "name": "ipython",
    "version": 3
   },
   "file_extension": ".py",
   "mimetype": "text/x-python",
   "name": "python",
   "nbconvert_exporter": "python",
   "pygments_lexer": "ipython3",
   "version": "3.9.7"
  }
 },
 "nbformat": 4,
 "nbformat_minor": 5
}
