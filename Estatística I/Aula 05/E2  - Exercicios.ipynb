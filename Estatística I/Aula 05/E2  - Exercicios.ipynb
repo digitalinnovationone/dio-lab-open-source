{
 "cells": [
  {
   "cell_type": "markdown",
   "id": "6bbe1be8-11db-48e4-9bd6-d5e52c0a190e",
   "metadata": {},
   "source": [
    "# E2 - Exercícios"
   ]
  },
  {
   "cell_type": "markdown",
   "id": "783d3e07-299a-4feb-8a2b-7d16bb0ff31e",
   "metadata": {},
   "source": [
    "__1)__ Num teste de multipla escolha o estudante sabe uma resposta com probabilidade $p$ e chuta uma resposta com probabilidade $1-p$. Sendo $m$ a quantidade de alternativas (igual para todas as questões), e assumindo que o estudante chutou, ele tem uma probabilidade de acertar de $\\frac{1}{m}$.\n",
    "\n",
    "- Sabendo-se que o estudante acertou a questão, qual é a probabilidade dele realmente saber a resposta? \n",
    "    \n",
    "__Obs.:__ podem fazer de forma genérica ou substituirem valores para $p$ e $m$"
   ]
  },
  {
   "cell_type": "code",
   "execution_count": null,
   "id": "91e8db02-c142-4b22-97ad-069c436051e6",
   "metadata": {},
   "outputs": [],
   "source": []
  },
  {
   "cell_type": "markdown",
   "id": "8bd11d66-b6c2-4706-8686-4e0047cded58",
   "metadata": {},
   "source": [
    "__2)__ Suponha que o limite de uma estrada é de 80km/h e, a partir da medição por radar, sabe-se que nessa rodovia a velocidade dos veículo $X$ segue uma distribuição normal com média de 72km/h e desvio padrão de 8 km/h.\n",
    " - Qual a probabilidade de um veículo ser multado?\n",
    " - Além da multa, se um veículo ultrapassar o limite em 30km/h, o motorista perde a carteira. Considerando apenas os infratores de velocidade, qual a probabilidade dele perder a carteira?\n",
    "    "
   ]
  },
  {
   "cell_type": "code",
   "execution_count": null,
   "id": "74f6ad85-7e56-4e3e-a1ea-993de6171562",
   "metadata": {},
   "outputs": [],
   "source": []
  },
  {
   "cell_type": "markdown",
   "id": "17df2c74-5ecf-49ce-8118-4d10a7f618e0",
   "metadata": {},
   "source": [
    "__3)__ Suponha que a probabilidade de uma criança nascer loira é de 1/4. Se houverem 6 crianças na família, qual é a probabilidade de 3 dele serem loiros?"
   ]
  },
  {
   "cell_type": "code",
   "execution_count": null,
   "id": "0bbb476a-e6e4-44b7-87bf-c5c11b5615fe",
   "metadata": {},
   "outputs": [],
   "source": []
  },
  {
   "cell_type": "markdown",
   "id": "229db1ae-e7ac-47fb-9e35-d5e78ee24dd2",
   "metadata": {},
   "source": [
    "__4)__ Se a probabilidade de atingir um alvo com um único disparo é de 0.3. Qual é a probabilidade de, em 4 disparos, atingirmos o alvo ao menos 3 vezes?\n"
   ]
  },
  {
   "cell_type": "code",
   "execution_count": null,
   "id": "a88020b8-bd22-4b6b-82c1-373c4c491e38",
   "metadata": {},
   "outputs": [],
   "source": []
  },
  {
   "cell_type": "markdown",
   "id": "7759d93d-5ea0-4c95-b059-3710133469d0",
   "metadata": {},
   "source": [
    "__5)__ Suponha que o número de meteoros registrados por um sistema de radares num intervalo qualquer de 30 segundos é de 1.81 em média. Assumindo que os meteoros aparecem aleatoriamente e de forma independente. Usando a distribuição de Poisson determine:\n",
    " - A probabilidade de que nenhum meteoro seja encontrado num intervalo de 1 minuto.\n",
    " - A probabilidade encontrarmos de 5 a 8 meteoros em 2 minutos."
   ]
  },
  {
   "cell_type": "code",
   "execution_count": null,
   "id": "6acebf93-fcee-4a4d-8303-b6cd1cd3b16e",
   "metadata": {},
   "outputs": [],
   "source": []
  },
  {
   "cell_type": "markdown",
   "id": "349bfc5c-671a-49f6-bc97-a4dac3643be7",
   "metadata": {},
   "source": [
    "__6)__ O número médio de jornais vendidos numa banca é 5 jornais por minuto. Qual é a probabilidade de vender ao menos 1 jornal em um minuto?"
   ]
  },
  {
   "cell_type": "code",
   "execution_count": null,
   "id": "7df828a2-5f30-469a-86fd-56d21f317946",
   "metadata": {},
   "outputs": [],
   "source": []
  }
 ],
 "metadata": {
  "kernelspec": {
   "display_name": "Python 3 (ipykernel)",
   "language": "python",
   "name": "python3"
  },
  "language_info": {
   "codemirror_mode": {
    "name": "ipython",
    "version": 3
   },
   "file_extension": ".py",
   "mimetype": "text/x-python",
   "name": "python",
   "nbconvert_exporter": "python",
   "pygments_lexer": "ipython3",
   "version": "3.8.11"
  }
 },
 "nbformat": 4,
 "nbformat_minor": 5
}
