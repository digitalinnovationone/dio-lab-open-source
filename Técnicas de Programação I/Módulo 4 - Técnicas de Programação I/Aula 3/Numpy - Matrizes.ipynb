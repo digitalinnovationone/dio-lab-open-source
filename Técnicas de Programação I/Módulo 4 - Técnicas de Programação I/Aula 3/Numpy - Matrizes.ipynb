{
 "cells": [
  {
   "cell_type": "markdown",
   "id": "22a75ede",
   "metadata": {},
   "source": [
    "# Matrizes com Numpy\n",
    "\n",
    "Antes de iniciarmos com o Numpy, vamos rever o que é um array n-dimensional no Numpy:\n",
    "\n",
    "![imgs/img1.png](imgs/img1.jpg)"
   ]
  },
  {
   "cell_type": "code",
   "execution_count": null,
   "id": "6540c514",
   "metadata": {},
   "outputs": [],
   "source": [
    "[[[1, 2], [4, 3], [7, 4]], [[2, X], [9, Y], [7, 5]]]"
   ]
  },
  {
   "cell_type": "code",
   "execution_count": null,
   "id": "9b87d26a",
   "metadata": {},
   "outputs": [],
   "source": [
    "[[[1,4,7], [2,9,7], ...], [[2,3,4], [], ...]]"
   ]
  },
  {
   "cell_type": "markdown",
   "id": "a70ae36a",
   "metadata": {},
   "source": [
    "***********************\n",
    "\n",
    "![imgs/img2.png](imgs/img2.jpg)"
   ]
  },
  {
   "cell_type": "markdown",
   "id": "6e9513d6",
   "metadata": {},
   "source": [
    "#### Exibindo arrays\n",
    "\n",
    "Quando você exibe um array, o Numpy monta a visualização da seguinte forma:\n",
    "\n",
    "- o último eixo (axis) é \"printado\" da esquerda para a direita\n",
    "- o penúltimo é exibido de cima para baixo\n",
    "- o outros são exibidos de cima para baixo com uma linha vazia entre eles"
   ]
  },
  {
   "cell_type": "code",
   "execution_count": 3,
   "id": "e03ed3f3",
   "metadata": {
    "ExecuteTime": {
     "end_time": "2022-01-14T22:34:41.700041Z",
     "start_time": "2022-01-14T22:34:41.690092Z"
    }
   },
   "outputs": [
    {
     "data": {
      "text/plain": [
       "array([[[1, 2, 3],\n",
       "        [4, 5, 6],\n",
       "        [7, 8, 9]],\n",
       "\n",
       "       [[1, 2, 3],\n",
       "        [4, 5, 6],\n",
       "        [7, 8, 9]]])"
      ]
     },
     "execution_count": 3,
     "metadata": {},
     "output_type": "execute_result"
    }
   ],
   "source": [
    "np.array([[[1,2,3], [4,5,6], [7,8,9]], [[1,2,3], [4,5,6], [7,8,9]]])"
   ]
  },
  {
   "cell_type": "code",
   "execution_count": 4,
   "id": "7b28e478",
   "metadata": {
    "ExecuteTime": {
     "end_time": "2022-01-14T22:35:07.928176Z",
     "start_time": "2022-01-14T22:35:07.913187Z"
    }
   },
   "outputs": [],
   "source": [
    "import numpy as np"
   ]
  },
  {
   "cell_type": "markdown",
   "id": "9877b558",
   "metadata": {},
   "source": [
    "## Usando números aleatórios no Numpy\n",
    "\n",
    "### Rand\n",
    "\n",
    "Gera números aleatórios de uma distribuição uniforme entre 0 e 1. Passamos o shape como argumento"
   ]
  },
  {
   "cell_type": "code",
   "execution_count": 11,
   "id": "565ff132",
   "metadata": {
    "ExecuteTime": {
     "end_time": "2022-01-14T22:40:30.640300Z",
     "start_time": "2022-01-14T22:40:30.622764Z"
    }
   },
   "outputs": [
    {
     "data": {
      "text/plain": [
       "array([[[0.02087627, 0.3190045 , 0.78722113],\n",
       "        [0.79018864, 0.45205221, 0.18938603],\n",
       "        [0.52575509, 0.41429411, 0.92478396]],\n",
       "\n",
       "       [[0.35353679, 0.82552861, 0.20996959],\n",
       "        [0.37608903, 0.3899484 , 0.65204528],\n",
       "        [0.92016681, 0.46103397, 0.17129216]]])"
      ]
     },
     "execution_count": 11,
     "metadata": {},
     "output_type": "execute_result"
    }
   ],
   "source": [
    "np.random.rand(2,3,3)"
   ]
  },
  {
   "cell_type": "markdown",
   "id": "7c395e1f",
   "metadata": {},
   "source": [
    "### Randn\n",
    "\n",
    "Gera números advindos de uma distribuição normal padrão. Passamos o shape como argumento.\n"
   ]
  },
  {
   "cell_type": "code",
   "execution_count": 13,
   "id": "a2dcc488",
   "metadata": {
    "ExecuteTime": {
     "end_time": "2022-01-14T22:43:53.358421Z",
     "start_time": "2022-01-14T22:43:53.345425Z"
    }
   },
   "outputs": [
    {
     "data": {
      "text/plain": [
       "array([[ 1.16635516,  0.1461136 , -0.22090021, -0.46225469, -0.01049572,\n",
       "         0.60056355,  1.30637167,  0.48383826,  1.36328101,  1.81554617],\n",
       "       [ 0.64806481,  0.23012094,  0.63877333,  1.69846347, -0.21019368,\n",
       "        -1.27856065,  0.11355789, -0.47275256,  0.49084447,  0.32139555],\n",
       "       [ 0.61152173,  0.33903681,  0.37305698, -0.65745062, -0.53566081,\n",
       "         0.9357091 ,  0.68314253,  0.74395283, -0.97546162, -0.65940909],\n",
       "       [ 1.59672254, -1.29824895, -1.9034091 , -1.23592678,  1.547065  ,\n",
       "         1.3568301 , -0.58282727,  1.23446189,  0.98552324,  0.59339437],\n",
       "       [ 0.10393846, -1.34222478, -0.15678524, -1.831991  ,  0.72474179,\n",
       "         0.20210712, -1.20338282,  0.91049827,  0.77996779,  1.2012257 ],\n",
       "       [-2.27443329,  0.00578399, -0.46482729,  1.84088741, -1.0628452 ,\n",
       "        -0.24164061, -0.13009686,  1.96837331,  1.29107468, -1.32013165],\n",
       "       [-0.40596379, -0.72978891,  0.51223841,  0.69473173, -0.57378812,\n",
       "         0.05821336, -1.21469023,  0.60351385,  1.34472323, -0.37439273],\n",
       "       [ 0.38500947,  0.85040815,  0.66536195, -0.95074591,  0.93980373,\n",
       "        -1.22430531, -0.37098233, -1.40785316, -0.32179036,  0.07020939],\n",
       "       [-1.00908804,  0.04760715,  0.11112068,  1.60486112, -0.61944451,\n",
       "         0.70937185, -0.15491312,  1.68669989,  0.77425661, -1.72388817],\n",
       "       [ 0.29969098,  1.54374619,  2.08692709, -0.36690799, -0.82045201,\n",
       "         0.37179862, -0.09814336, -1.1940523 ,  0.40485009, -0.63371368]])"
      ]
     },
     "execution_count": 13,
     "metadata": {},
     "output_type": "execute_result"
    }
   ],
   "source": [
    "np.random.randn(10, 10)"
   ]
  },
  {
   "cell_type": "markdown",
   "id": "3b9e1f24",
   "metadata": {},
   "source": [
    "### Randint\n",
    "\n",
    "Permite que voce passe um intervalo, o qual será utilizado para gerar número inteiros com base em uma distribição uniforme. Passamos os limites e o shape como parâmetros.\n",
    "\n",
    "- low -> inclusivo\n",
    "- high -> exclusivo"
   ]
  },
  {
   "cell_type": "code",
   "execution_count": 23,
   "id": "13c0c4f8",
   "metadata": {
    "ExecuteTime": {
     "end_time": "2022-01-14T22:47:17.605197Z",
     "start_time": "2022-01-14T22:47:17.596182Z"
    }
   },
   "outputs": [
    {
     "data": {
      "text/plain": [
       "array([[ 5, 10,  3,  9],\n",
       "       [ 3,  6,  6,  1],\n",
       "       [ 6,  4,  2,  7],\n",
       "       [ 5, 10,  0,  4]])"
      ]
     },
     "execution_count": 23,
     "metadata": {},
     "output_type": "execute_result"
    }
   ],
   "source": [
    "np.random.randint(0, 11, (4,4))"
   ]
  },
  {
   "cell_type": "markdown",
   "id": "2615b10a",
   "metadata": {},
   "source": [
    "## Copiando ndarrays\n",
    "\n",
    "Muito cuidado na hora de copiar arrays, atribuindo eles a outras variáveis, pois a passagem referência."
   ]
  },
  {
   "cell_type": "code",
   "execution_count": 29,
   "id": "cdf7c0dc",
   "metadata": {
    "ExecuteTime": {
     "end_time": "2022-01-14T22:50:08.705912Z",
     "start_time": "2022-01-14T22:50:08.689912Z"
    }
   },
   "outputs": [
    {
     "data": {
      "text/plain": [
       "array([1, 2, 3, 4, 5])"
      ]
     },
     "execution_count": 29,
     "metadata": {},
     "output_type": "execute_result"
    }
   ],
   "source": [
    "a = np.array([1,2,3,4,5])\n",
    "a"
   ]
  },
  {
   "cell_type": "code",
   "execution_count": 25,
   "id": "7d6fb77a",
   "metadata": {
    "ExecuteTime": {
     "end_time": "2022-01-14T22:48:51.482627Z",
     "start_time": "2022-01-14T22:48:51.475627Z"
    }
   },
   "outputs": [
    {
     "data": {
      "text/plain": [
       "array([1, 2, 3, 4, 5])"
      ]
     },
     "execution_count": 25,
     "metadata": {},
     "output_type": "execute_result"
    }
   ],
   "source": [
    "b = a\n",
    "b"
   ]
  },
  {
   "cell_type": "code",
   "execution_count": 26,
   "id": "dfbd543f",
   "metadata": {
    "ExecuteTime": {
     "end_time": "2022-01-14T22:49:04.426755Z",
     "start_time": "2022-01-14T22:49:04.401749Z"
    }
   },
   "outputs": [
    {
     "data": {
      "text/plain": [
       "array([ 1,  2,  3,  4, 10])"
      ]
     },
     "execution_count": 26,
     "metadata": {},
     "output_type": "execute_result"
    }
   ],
   "source": [
    "b[-1] = 10\n",
    "b"
   ]
  },
  {
   "cell_type": "code",
   "execution_count": 27,
   "id": "f8b07971",
   "metadata": {
    "ExecuteTime": {
     "end_time": "2022-01-14T22:49:12.527775Z",
     "start_time": "2022-01-14T22:49:12.513778Z"
    }
   },
   "outputs": [
    {
     "data": {
      "text/plain": [
       "array([ 1,  2,  3,  4, 10])"
      ]
     },
     "execution_count": 27,
     "metadata": {},
     "output_type": "execute_result"
    }
   ],
   "source": [
    "a"
   ]
  },
  {
   "cell_type": "code",
   "execution_count": 30,
   "id": "bfa77f2e",
   "metadata": {
    "ExecuteTime": {
     "end_time": "2022-01-14T22:50:10.724100Z",
     "start_time": "2022-01-14T22:50:10.706101Z"
    }
   },
   "outputs": [
    {
     "data": {
      "text/plain": [
       "array([1, 2, 3, 4, 5])"
      ]
     },
     "execution_count": 30,
     "metadata": {},
     "output_type": "execute_result"
    }
   ],
   "source": [
    "b = a.copy()\n",
    "b"
   ]
  },
  {
   "cell_type": "code",
   "execution_count": 31,
   "id": "32579cac",
   "metadata": {
    "ExecuteTime": {
     "end_time": "2022-01-14T22:50:19.134761Z",
     "start_time": "2022-01-14T22:50:19.118771Z"
    }
   },
   "outputs": [
    {
     "data": {
      "text/plain": [
       "array([ 1,  2,  3,  4, 10])"
      ]
     },
     "execution_count": 31,
     "metadata": {},
     "output_type": "execute_result"
    }
   ],
   "source": [
    "b[-1] = 10\n",
    "b"
   ]
  },
  {
   "cell_type": "code",
   "execution_count": 32,
   "id": "e36b2f27",
   "metadata": {
    "ExecuteTime": {
     "end_time": "2022-01-14T22:50:23.578263Z",
     "start_time": "2022-01-14T22:50:23.563263Z"
    }
   },
   "outputs": [
    {
     "data": {
      "text/plain": [
       "array([1, 2, 3, 4, 5])"
      ]
     },
     "execution_count": 32,
     "metadata": {},
     "output_type": "execute_result"
    }
   ],
   "source": [
    "a"
   ]
  },
  {
   "cell_type": "markdown",
   "id": "0dcb5153",
   "metadata": {},
   "source": [
    "## Indexing e slicing em matrizes"
   ]
  },
  {
   "cell_type": "code",
   "execution_count": 34,
   "id": "ef064706",
   "metadata": {
    "ExecuteTime": {
     "end_time": "2022-01-14T22:51:32.975975Z",
     "start_time": "2022-01-14T22:51:32.964011Z"
    }
   },
   "outputs": [
    {
     "data": {
      "text/plain": [
       "array([[1, 2, 3],\n",
       "       [4, 5, 6],\n",
       "       [7, 8, 9]])"
      ]
     },
     "execution_count": 34,
     "metadata": {},
     "output_type": "execute_result"
    }
   ],
   "source": [
    "matriz = np.array([[1,2,3], [4,5,6], [7,8,9]])\n",
    "matriz"
   ]
  },
  {
   "cell_type": "code",
   "execution_count": 50,
   "id": "d6a2991b",
   "metadata": {
    "ExecuteTime": {
     "end_time": "2022-01-14T22:59:06.020636Z",
     "start_time": "2022-01-14T22:59:06.009627Z"
    }
   },
   "outputs": [
    {
     "data": {
      "text/plain": [
       "2"
      ]
     },
     "execution_count": 50,
     "metadata": {},
     "output_type": "execute_result"
    }
   ],
   "source": [
    "matriz[0][1]"
   ]
  },
  {
   "cell_type": "code",
   "execution_count": 41,
   "id": "90aa8ad8",
   "metadata": {
    "ExecuteTime": {
     "end_time": "2022-01-14T22:53:51.588455Z",
     "start_time": "2022-01-14T22:53:51.581459Z"
    }
   },
   "outputs": [
    {
     "data": {
      "text/plain": [
       "array([2, 5, 8])"
      ]
     },
     "execution_count": 41,
     "metadata": {},
     "output_type": "execute_result"
    }
   ],
   "source": [
    "matriz[:, 1]"
   ]
  },
  {
   "cell_type": "code",
   "execution_count": 43,
   "id": "9f07e43e",
   "metadata": {
    "ExecuteTime": {
     "end_time": "2022-01-14T22:55:55.560117Z",
     "start_time": "2022-01-14T22:55:55.540126Z"
    }
   },
   "outputs": [
    {
     "data": {
      "text/plain": [
       "array([[2, 3],\n",
       "       [5, 6],\n",
       "       [8, 9]])"
      ]
     },
     "execution_count": 43,
     "metadata": {},
     "output_type": "execute_result"
    }
   ],
   "source": [
    "matriz[:, -2:]"
   ]
  },
  {
   "cell_type": "code",
   "execution_count": 54,
   "id": "47f8321e",
   "metadata": {
    "ExecuteTime": {
     "end_time": "2022-01-14T23:00:04.383139Z",
     "start_time": "2022-01-14T23:00:04.371143Z"
    }
   },
   "outputs": [
    {
     "data": {
      "text/plain": [
       "array([[1, 2],\n",
       "       [4, 5],\n",
       "       [7, 8]])"
      ]
     },
     "execution_count": 54,
     "metadata": {},
     "output_type": "execute_result"
    }
   ],
   "source": [
    "matriz[:, [0, 1]]"
   ]
  },
  {
   "cell_type": "code",
   "execution_count": 47,
   "id": "19b5e5c6",
   "metadata": {
    "ExecuteTime": {
     "end_time": "2022-01-14T22:57:44.321057Z",
     "start_time": "2022-01-14T22:57:44.311054Z"
    }
   },
   "outputs": [
    {
     "data": {
      "text/plain": [
       "array([[1, 3],\n",
       "       [4, 6],\n",
       "       [7, 9]])"
      ]
     },
     "execution_count": 47,
     "metadata": {},
     "output_type": "execute_result"
    }
   ],
   "source": [
    "matriz[:, [0,-1]]"
   ]
  },
  {
   "cell_type": "code",
   "execution_count": 56,
   "id": "7d43c17f",
   "metadata": {
    "ExecuteTime": {
     "end_time": "2022-01-14T23:01:56.143948Z",
     "start_time": "2022-01-14T23:01:56.131942Z"
    }
   },
   "outputs": [
    {
     "data": {
      "text/plain": [
       "array([1, 5, 9])"
      ]
     },
     "execution_count": 56,
     "metadata": {},
     "output_type": "execute_result"
    }
   ],
   "source": [
    "np.diagonal(matriz)"
   ]
  },
  {
   "cell_type": "markdown",
   "id": "d4964fd8",
   "metadata": {},
   "source": [
    "## Operações básicas aplicadas nos eixos de uma matriz\n",
    "\n",
    "Lembram as funcoes da ultima aula, como np.zeros e np.ones? Podemos passar o shape que quisermos como argumento!\n"
   ]
  },
  {
   "cell_type": "code",
   "execution_count": 57,
   "id": "6cb3fc79",
   "metadata": {
    "ExecuteTime": {
     "end_time": "2022-01-14T23:02:52.712236Z",
     "start_time": "2022-01-14T23:02:52.698245Z"
    }
   },
   "outputs": [
    {
     "data": {
      "text/plain": [
       "array([[1, 2, 3],\n",
       "       [4, 5, 6],\n",
       "       [7, 8, 9]])"
      ]
     },
     "execution_count": 57,
     "metadata": {},
     "output_type": "execute_result"
    }
   ],
   "source": [
    "matriz"
   ]
  },
  {
   "cell_type": "code",
   "execution_count": 63,
   "id": "4b5bbf56",
   "metadata": {
    "ExecuteTime": {
     "end_time": "2022-01-14T23:07:58.518736Z",
     "start_time": "2022-01-14T23:07:58.510734Z"
    }
   },
   "outputs": [
    {
     "data": {
      "text/plain": [
       "array([ 6, 15, 24])"
      ]
     },
     "execution_count": 63,
     "metadata": {},
     "output_type": "execute_result"
    }
   ],
   "source": [
    "matriz.sum(axis=0)"
   ]
  },
  {
   "cell_type": "code",
   "execution_count": 64,
   "id": "3245af63",
   "metadata": {
    "ExecuteTime": {
     "end_time": "2022-01-14T23:09:45.557165Z",
     "start_time": "2022-01-14T23:09:45.548164Z"
    }
   },
   "outputs": [
    {
     "data": {
      "text/plain": [
       "array([3, 6, 9])"
      ]
     },
     "execution_count": 64,
     "metadata": {},
     "output_type": "execute_result"
    }
   ],
   "source": [
    "matriz.max(axis=1)"
   ]
  },
  {
   "cell_type": "code",
   "execution_count": 66,
   "id": "4ac11184",
   "metadata": {
    "ExecuteTime": {
     "end_time": "2022-01-14T23:12:06.048307Z",
     "start_time": "2022-01-14T23:12:06.037309Z"
    }
   },
   "outputs": [
    {
     "data": {
      "text/plain": [
       "array([[[8, 8, 9],\n",
       "        [2, 7, 0],\n",
       "        [9, 9, 8]],\n",
       "\n",
       "       [[8, 6, 1],\n",
       "        [1, 9, 6],\n",
       "        [9, 9, 1]],\n",
       "\n",
       "       [[9, 0, 1],\n",
       "        [7, 7, 9],\n",
       "        [5, 7, 6]]])"
      ]
     },
     "execution_count": 66,
     "metadata": {},
     "output_type": "execute_result"
    }
   ],
   "source": [
    "a = np.random.randint(10, size=(3,3,3))\n",
    "a"
   ]
  },
  {
   "cell_type": "code",
   "execution_count": 73,
   "id": "6ead6bec",
   "metadata": {
    "ExecuteTime": {
     "end_time": "2022-01-14T23:18:46.430586Z",
     "start_time": "2022-01-14T23:18:46.410587Z"
    }
   },
   "outputs": [
    {
     "data": {
      "text/plain": [
       "array([[25,  9, 26],\n",
       "       [15, 16, 19],\n",
       "       [10, 23, 18]])"
      ]
     },
     "execution_count": 73,
     "metadata": {},
     "output_type": "execute_result"
    }
   ],
   "source": [
    "a.sum(axis = 2)"
   ]
  },
  {
   "cell_type": "markdown",
   "id": "9a60dce5",
   "metadata": {},
   "source": [
    "## Mudando o formato de uma matriz: reshape, concatenate, vstack e hstack\n",
    "\n",
    "### reshape"
   ]
  },
  {
   "cell_type": "code",
   "execution_count": 83,
   "id": "a521d5ae",
   "metadata": {
    "ExecuteTime": {
     "end_time": "2022-01-14T23:41:14.328592Z",
     "start_time": "2022-01-14T23:41:14.317588Z"
    }
   },
   "outputs": [
    {
     "data": {
      "text/plain": [
       "array([ 1,  2,  3,  4,  5,  6,  7,  8,  9, 10, 11, 12])"
      ]
     },
     "execution_count": 83,
     "metadata": {},
     "output_type": "execute_result"
    }
   ],
   "source": [
    "array = np.array([1,2,3,4,5,6,7,8,9, 10, 11, 12])\n",
    "array"
   ]
  },
  {
   "cell_type": "code",
   "execution_count": 84,
   "id": "2c4f296b",
   "metadata": {
    "ExecuteTime": {
     "end_time": "2022-01-14T23:41:17.714020Z",
     "start_time": "2022-01-14T23:41:17.703005Z"
    }
   },
   "outputs": [
    {
     "data": {
      "text/plain": [
       "array([[ 1,  2,  3],\n",
       "       [ 4,  5,  6],\n",
       "       [ 7,  8,  9],\n",
       "       [10, 11, 12]])"
      ]
     },
     "execution_count": 84,
     "metadata": {},
     "output_type": "execute_result"
    }
   ],
   "source": [
    "array.reshape(-1,3)"
   ]
  },
  {
   "cell_type": "code",
   "execution_count": 85,
   "id": "0168a70b",
   "metadata": {
    "ExecuteTime": {
     "end_time": "2022-01-14T23:41:51.230690Z",
     "start_time": "2022-01-14T23:41:51.217682Z"
    }
   },
   "outputs": [
    {
     "data": {
      "text/plain": [
       "array([[1, 2, 3],\n",
       "       [4, 5, 6],\n",
       "       [7, 8, 9]])"
      ]
     },
     "execution_count": 85,
     "metadata": {},
     "output_type": "execute_result"
    }
   ],
   "source": [
    "matriz = np.array([[1,2,3],\n",
    "                   [4,5,6],\n",
    "                   [7,8,9]])\n",
    "matriz"
   ]
  },
  {
   "cell_type": "code",
   "execution_count": 86,
   "id": "3a7a33fa",
   "metadata": {
    "ExecuteTime": {
     "end_time": "2022-01-14T23:42:09.140118Z",
     "start_time": "2022-01-14T23:42:09.132120Z"
    }
   },
   "outputs": [
    {
     "data": {
      "text/plain": [
       "(3, 3)"
      ]
     },
     "execution_count": 86,
     "metadata": {},
     "output_type": "execute_result"
    }
   ],
   "source": [
    "matriz.shape"
   ]
  },
  {
   "cell_type": "code",
   "execution_count": 88,
   "id": "32180b14",
   "metadata": {
    "ExecuteTime": {
     "end_time": "2022-01-14T23:42:35.234793Z",
     "start_time": "2022-01-14T23:42:35.215798Z"
    }
   },
   "outputs": [
    {
     "data": {
      "text/plain": [
       "array([1, 2, 3, 4, 5, 6, 7, 8, 9])"
      ]
     },
     "execution_count": 88,
     "metadata": {},
     "output_type": "execute_result"
    }
   ],
   "source": [
    "matriz.reshape(-1)"
   ]
  },
  {
   "cell_type": "code",
   "execution_count": 92,
   "id": "201fdeae",
   "metadata": {
    "ExecuteTime": {
     "end_time": "2022-01-14T23:45:23.050799Z",
     "start_time": "2022-01-14T23:45:23.040782Z"
    }
   },
   "outputs": [
    {
     "data": {
      "text/plain": [
       "array([1, 2, 3, 4, 5, 6, 7, 8, 9])"
      ]
     },
     "execution_count": 92,
     "metadata": {},
     "output_type": "execute_result"
    }
   ],
   "source": [
    "matriz.reshape(-1)"
   ]
  },
  {
   "cell_type": "markdown",
   "id": "b56a79c0",
   "metadata": {},
   "source": [
    "### concatenate\n",
    "\n",
    "É a operação \"mãe\" das outras. Com ela, podemos fazer o mesmo que fazemos com vstack e hstack."
   ]
  },
  {
   "cell_type": "code",
   "execution_count": 99,
   "id": "239453cb",
   "metadata": {
    "ExecuteTime": {
     "end_time": "2022-01-14T23:47:02.466866Z",
     "start_time": "2022-01-14T23:47:02.449871Z"
    }
   },
   "outputs": [],
   "source": [
    "array1 = np.array([[1,2,3]])\n",
    "array2 = np.array([[4,5,6,4]])"
   ]
  },
  {
   "cell_type": "code",
   "execution_count": 100,
   "id": "734feac3",
   "metadata": {
    "ExecuteTime": {
     "end_time": "2022-01-14T23:47:04.465259Z",
     "start_time": "2022-01-14T23:47:04.450301Z"
    }
   },
   "outputs": [
    {
     "data": {
      "text/plain": [
       "((1, 3), (1, 4))"
      ]
     },
     "execution_count": 100,
     "metadata": {},
     "output_type": "execute_result"
    }
   ],
   "source": [
    "array1.shape, array2.shape"
   ]
  },
  {
   "cell_type": "code",
   "execution_count": 102,
   "id": "4a5c6500",
   "metadata": {
    "ExecuteTime": {
     "end_time": "2022-01-14T23:47:13.927124Z",
     "start_time": "2022-01-14T23:47:13.908154Z"
    }
   },
   "outputs": [
    {
     "data": {
      "text/plain": [
       "array([[1, 2, 3, 4, 5, 6, 4]])"
      ]
     },
     "execution_count": 102,
     "metadata": {},
     "output_type": "execute_result"
    }
   ],
   "source": [
    "np.concatenate([array1, array2], axis=1)"
   ]
  },
  {
   "cell_type": "markdown",
   "id": "e3073f1e",
   "metadata": {},
   "source": [
    "### vstack\n",
    "\n",
    "Empilhamento vertical"
   ]
  },
  {
   "cell_type": "code",
   "execution_count": 105,
   "id": "01a1156d",
   "metadata": {
    "ExecuteTime": {
     "end_time": "2022-01-14T23:48:39.635514Z",
     "start_time": "2022-01-14T23:48:39.615514Z"
    }
   },
   "outputs": [],
   "source": [
    "array1 = np.array([[1,2,3]])\n",
    "array2 = np.array([[4,5,6]])\n",
    "array3 = np.array([[7,8,9]])"
   ]
  },
  {
   "cell_type": "code",
   "execution_count": 107,
   "id": "5fe80011",
   "metadata": {
    "ExecuteTime": {
     "end_time": "2022-01-14T23:48:50.758749Z",
     "start_time": "2022-01-14T23:48:50.753740Z"
    }
   },
   "outputs": [
    {
     "data": {
      "text/plain": [
       "array([[1, 2, 3],\n",
       "       [4, 5, 6],\n",
       "       [7, 8, 9]])"
      ]
     },
     "execution_count": 107,
     "metadata": {},
     "output_type": "execute_result"
    }
   ],
   "source": [
    "np.vstack((array1, array2, array3))"
   ]
  },
  {
   "cell_type": "markdown",
   "id": "13786405",
   "metadata": {},
   "source": [
    "### hstack\n",
    "\n",
    "Empilhamento horizontal"
   ]
  },
  {
   "cell_type": "code",
   "execution_count": 108,
   "id": "41831706",
   "metadata": {
    "ExecuteTime": {
     "end_time": "2022-01-14T23:49:22.335944Z",
     "start_time": "2022-01-14T23:49:22.319944Z"
    }
   },
   "outputs": [],
   "source": [
    "array1 = np.array([[1,2,3]])\n",
    "array2 = np.array([[4,5,6]])\n",
    "array3 = np.array([[7,8,9]])"
   ]
  },
  {
   "cell_type": "code",
   "execution_count": 109,
   "id": "7f308ba2",
   "metadata": {
    "ExecuteTime": {
     "end_time": "2022-01-14T23:49:34.215037Z",
     "start_time": "2022-01-14T23:49:34.196038Z"
    }
   },
   "outputs": [
    {
     "data": {
      "text/plain": [
       "array([[1, 2, 3, 4, 5, 6, 7, 8, 9]])"
      ]
     },
     "execution_count": 109,
     "metadata": {},
     "output_type": "execute_result"
    }
   ],
   "source": [
    "np.hstack((array1, array2, array3))"
   ]
  },
  {
   "cell_type": "markdown",
   "id": "7fc09934",
   "metadata": {},
   "source": [
    "## Operações matriciais\n",
    "\n",
    "O numpy permite que façamos uma série de operações muito utilizadas em álgebra linear como:\n",
    "\n",
    "- Transpor uma matriz (Mudar linhas para colunas e colunas para linhas);\n",
    "- Realizar multiplicação matricial\n",
    "- Criar matrizes identidades\n",
    "\n",
    "E muitas outras, como podemos ver em: https://numpy.org/doc/stable/reference/routines.linalg.html"
   ]
  },
  {
   "cell_type": "markdown",
   "id": "ecdecb8a",
   "metadata": {},
   "source": [
    "### Matriz identidade\n",
    "\n",
    "É uma matriz onde todos os elementos são zeros exceto a diagonal, que é preenchida por 1's."
   ]
  },
  {
   "cell_type": "code",
   "execution_count": 111,
   "id": "ff627924",
   "metadata": {
    "ExecuteTime": {
     "end_time": "2022-01-14T23:52:09.741582Z",
     "start_time": "2022-01-14T23:52:09.733576Z"
    }
   },
   "outputs": [
    {
     "data": {
      "text/plain": [
       "array([[1., 0., 0., 0., 0., 0., 0., 0., 0.],\n",
       "       [0., 1., 0., 0., 0., 0., 0., 0., 0.],\n",
       "       [0., 0., 1., 0., 0., 0., 0., 0., 0.],\n",
       "       [0., 0., 0., 1., 0., 0., 0., 0., 0.],\n",
       "       [0., 0., 0., 0., 1., 0., 0., 0., 0.],\n",
       "       [0., 0., 0., 0., 0., 1., 0., 0., 0.],\n",
       "       [0., 0., 0., 0., 0., 0., 1., 0., 0.],\n",
       "       [0., 0., 0., 0., 0., 0., 0., 1., 0.],\n",
       "       [0., 0., 0., 0., 0., 0., 0., 0., 1.]])"
      ]
     },
     "execution_count": 111,
     "metadata": {},
     "output_type": "execute_result"
    }
   ],
   "source": [
    "np.identity(9)"
   ]
  },
  {
   "cell_type": "code",
   "execution_count": 112,
   "id": "a06e040e",
   "metadata": {
    "ExecuteTime": {
     "end_time": "2022-01-14T23:52:31.128021Z",
     "start_time": "2022-01-14T23:52:31.109018Z"
    }
   },
   "outputs": [
    {
     "data": {
      "text/plain": [
       "array([[1., 0., 0., 0., 0., 0., 0.],\n",
       "       [0., 1., 0., 0., 0., 0., 0.],\n",
       "       [0., 0., 1., 0., 0., 0., 0.],\n",
       "       [0., 0., 0., 1., 0., 0., 0.],\n",
       "       [0., 0., 0., 0., 1., 0., 0.],\n",
       "       [0., 0., 0., 0., 0., 1., 0.],\n",
       "       [0., 0., 0., 0., 0., 0., 1.],\n",
       "       [0., 0., 0., 0., 0., 0., 0.],\n",
       "       [0., 0., 0., 0., 0., 0., 0.]])"
      ]
     },
     "execution_count": 112,
     "metadata": {},
     "output_type": "execute_result"
    }
   ],
   "source": [
    "np.eye(9, 7)"
   ]
  },
  {
   "cell_type": "markdown",
   "id": "74ee9acc",
   "metadata": {},
   "source": [
    "### Multiplicação de matriz\n",
    "\n",
    "![image.png](imgs/img3.jpg)"
   ]
  },
  {
   "cell_type": "code",
   "execution_count": 116,
   "id": "69d5662c",
   "metadata": {
    "ExecuteTime": {
     "end_time": "2022-01-14T23:54:13.418101Z",
     "start_time": "2022-01-14T23:54:13.404077Z"
    }
   },
   "outputs": [],
   "source": [
    "matriz1 = np.array([[-1,3], [4,2]])\n",
    "matriz2 = np.array([[1,2], [3,4]])"
   ]
  },
  {
   "cell_type": "code",
   "execution_count": 119,
   "id": "34e8171e",
   "metadata": {
    "ExecuteTime": {
     "end_time": "2022-01-14T23:55:35.336796Z",
     "start_time": "2022-01-14T23:55:35.324797Z"
    }
   },
   "outputs": [
    {
     "data": {
      "text/plain": [
       "array([[ 8, 10],\n",
       "       [10, 16]])"
      ]
     },
     "execution_count": 119,
     "metadata": {},
     "output_type": "execute_result"
    }
   ],
   "source": [
    "## matriz1 * matriz2 --> JEITO ERRADO\n",
    "\n",
    "np.matmul(matriz1, matriz2)"
   ]
  },
  {
   "cell_type": "code",
   "execution_count": 120,
   "id": "a7410f41",
   "metadata": {
    "ExecuteTime": {
     "end_time": "2022-01-14T23:56:03.152954Z",
     "start_time": "2022-01-14T23:56:03.146983Z"
    }
   },
   "outputs": [
    {
     "data": {
      "text/plain": [
       "array([[ 8, 10],\n",
       "       [10, 16]])"
      ]
     },
     "execution_count": 120,
     "metadata": {},
     "output_type": "execute_result"
    }
   ],
   "source": [
    "matriz1 @ matriz2"
   ]
  },
  {
   "cell_type": "markdown",
   "id": "5324ae53",
   "metadata": {},
   "source": [
    "### Transpondo matrizes\n",
    "\n",
    "![image.png](imgs/img4.jpg)"
   ]
  },
  {
   "cell_type": "code",
   "execution_count": 121,
   "id": "d9faf36b",
   "metadata": {
    "ExecuteTime": {
     "end_time": "2022-01-14T23:57:07.976523Z",
     "start_time": "2022-01-14T23:57:07.956524Z"
    }
   },
   "outputs": [
    {
     "data": {
      "text/plain": [
       "array([[1, 2],\n",
       "       [3, 4],\n",
       "       [5, 6]])"
      ]
     },
     "execution_count": 121,
     "metadata": {},
     "output_type": "execute_result"
    }
   ],
   "source": [
    "matriz = np.array([[1,2], [3,4], [5,6]])\n",
    "matriz"
   ]
  },
  {
   "cell_type": "code",
   "execution_count": 126,
   "id": "a09a1059",
   "metadata": {
    "ExecuteTime": {
     "end_time": "2022-01-14T23:58:10.311000Z",
     "start_time": "2022-01-14T23:58:10.302996Z"
    }
   },
   "outputs": [
    {
     "data": {
      "text/plain": [
       "array([[1, 3, 5],\n",
       "       [2, 4, 6]])"
      ]
     },
     "execution_count": 126,
     "metadata": {},
     "output_type": "execute_result"
    }
   ],
   "source": [
    "matriz.transpose(1, 0)"
   ]
  },
  {
   "cell_type": "code",
   "execution_count": 129,
   "id": "1421f0d4",
   "metadata": {
    "ExecuteTime": {
     "end_time": "2022-01-14T23:59:44.573838Z",
     "start_time": "2022-01-14T23:59:44.563839Z"
    }
   },
   "outputs": [
    {
     "data": {
      "text/plain": [
       "array([[[1, 5],\n",
       "        [8, 4],\n",
       "        [4, 6]],\n",
       "\n",
       "       [[2, 8],\n",
       "        [6, 4],\n",
       "        [5, 7]],\n",
       "\n",
       "       [[7, 7],\n",
       "        [4, 0],\n",
       "        [5, 4]],\n",
       "\n",
       "       [[7, 8],\n",
       "        [8, 8],\n",
       "        [0, 1]]])"
      ]
     },
     "execution_count": 129,
     "metadata": {},
     "output_type": "execute_result"
    }
   ],
   "source": [
    "a = np.random.randint(10, size=(4,3,2)) ## 0 -> 2, 1 -> 4, 2 -> 3\n",
    "a"
   ]
  },
  {
   "cell_type": "code",
   "execution_count": 131,
   "id": "8cd535e3",
   "metadata": {
    "ExecuteTime": {
     "end_time": "2022-01-15T00:00:55.901159Z",
     "start_time": "2022-01-15T00:00:55.889180Z"
    }
   },
   "outputs": [
    {
     "data": {
      "text/plain": [
       "(4, 3, 2)"
      ]
     },
     "execution_count": 131,
     "metadata": {},
     "output_type": "execute_result"
    }
   ],
   "source": [
    "a.shape ## (2, 4, 3)"
   ]
  },
  {
   "cell_type": "code",
   "execution_count": 132,
   "id": "becec717",
   "metadata": {
    "ExecuteTime": {
     "end_time": "2022-01-15T00:01:36.382545Z",
     "start_time": "2022-01-15T00:01:36.371544Z"
    }
   },
   "outputs": [],
   "source": [
    "ANTIGA = (4, 3, 2) # 0 = 4, 1 = 3, 2 = 2\n",
    "NOVA = (3, 4, 2) "
   ]
  },
  {
   "cell_type": "code",
   "execution_count": null,
   "id": "bb852142",
   "metadata": {},
   "outputs": [],
   "source": [
    "0, 1, 2 -> 2, 0, 1 -> 1, 2, 0"
   ]
  },
  {
   "cell_type": "code",
   "execution_count": 136,
   "id": "cb8b0098",
   "metadata": {
    "ExecuteTime": {
     "end_time": "2022-01-15T00:06:34.005865Z",
     "start_time": "2022-01-15T00:06:33.987867Z"
    }
   },
   "outputs": [
    {
     "data": {
      "text/plain": [
       "array([[[1, 5],\n",
       "        [2, 8],\n",
       "        [7, 7],\n",
       "        [7, 8]],\n",
       "\n",
       "       [[8, 4],\n",
       "        [6, 4],\n",
       "        [4, 0],\n",
       "        [8, 8]],\n",
       "\n",
       "       [[4, 6],\n",
       "        [5, 7],\n",
       "        [5, 4],\n",
       "        [0, 1]]])"
      ]
     },
     "execution_count": 136,
     "metadata": {},
     "output_type": "execute_result"
    }
   ],
   "source": [
    "a.transpose(1, 0, 2)"
   ]
  },
  {
   "cell_type": "markdown",
   "id": "643c0787",
   "metadata": {},
   "source": [
    "## Extra: Calculando moda com o numpy\n",
    "\n",
    "Abaixo, veremos um jeito de calcular a moda utilizando o Numpy. Porém, também é possível fazer usando outra biblioteca, baseada em Numpy: https://docs.scipy.org/doc/scipy/reference/generated/scipy.stats.mode.html"
   ]
  },
  {
   "cell_type": "code",
   "execution_count": 137,
   "id": "7ebce298",
   "metadata": {
    "ExecuteTime": {
     "end_time": "2022-01-15T00:08:10.988610Z",
     "start_time": "2022-01-15T00:08:10.975607Z"
    }
   },
   "outputs": [],
   "source": [
    "a = np.array([1,1,1,1,1,1,1,1,2,2,2,2,2,2,2,2,2,3,3,3,3,3,3,3,4,4,4,4,4,4,5,5,5,5,5])"
   ]
  },
  {
   "cell_type": "code",
   "execution_count": 138,
   "id": "ff9a2077",
   "metadata": {
    "ExecuteTime": {
     "end_time": "2022-01-15T00:08:27.675001Z",
     "start_time": "2022-01-15T00:08:27.659003Z"
    }
   },
   "outputs": [
    {
     "data": {
      "text/plain": [
       "array([1, 2, 3, 4, 5])"
      ]
     },
     "execution_count": 138,
     "metadata": {},
     "output_type": "execute_result"
    }
   ],
   "source": [
    "np.unique(a)"
   ]
  },
  {
   "cell_type": "code",
   "execution_count": 139,
   "id": "49375544",
   "metadata": {
    "ExecuteTime": {
     "end_time": "2022-01-15T00:09:04.098552Z",
     "start_time": "2022-01-15T00:09:04.079544Z"
    }
   },
   "outputs": [
    {
     "data": {
      "text/plain": [
       "(array([1, 2, 3, 4, 5]), array([8, 9, 7, 6, 5], dtype=int64))"
      ]
     },
     "execution_count": 139,
     "metadata": {},
     "output_type": "execute_result"
    }
   ],
   "source": [
    "np.unique(a, return_counts=True)"
   ]
  },
  {
   "cell_type": "code",
   "execution_count": 140,
   "id": "40b7d47c",
   "metadata": {
    "ExecuteTime": {
     "end_time": "2022-01-15T00:09:41.859920Z",
     "start_time": "2022-01-15T00:09:41.840923Z"
    }
   },
   "outputs": [
    {
     "data": {
      "text/plain": [
       "2"
      ]
     },
     "execution_count": 140,
     "metadata": {},
     "output_type": "execute_result"
    }
   ],
   "source": [
    "np.array([1, 2, 3, 4, 5])[1]"
   ]
  },
  {
   "cell_type": "code",
   "execution_count": 141,
   "id": "68a0ebc3",
   "metadata": {
    "ExecuteTime": {
     "end_time": "2022-01-15T00:09:58.042032Z",
     "start_time": "2022-01-15T00:09:58.019058Z"
    }
   },
   "outputs": [
    {
     "data": {
      "text/plain": [
       "1"
      ]
     },
     "execution_count": 141,
     "metadata": {},
     "output_type": "execute_result"
    }
   ],
   "source": [
    "np.array([8, 9, 7, 6, 5]).argmax()"
   ]
  },
  {
   "cell_type": "code",
   "execution_count": 142,
   "id": "b56585b3",
   "metadata": {
    "ExecuteTime": {
     "end_time": "2022-01-15T00:10:28.940380Z",
     "start_time": "2022-01-15T00:10:28.928402Z"
    }
   },
   "outputs": [
    {
     "data": {
      "text/plain": [
       "2"
      ]
     },
     "execution_count": 142,
     "metadata": {},
     "output_type": "execute_result"
    }
   ],
   "source": [
    "unique_array, counts = np.unique(a, return_counts=True)\n",
    "unique_array[counts.argmax()]"
   ]
  }
 ],
 "metadata": {
  "kernelspec": {
   "display_name": "Python 3",
   "language": "python",
   "name": "python3"
  },
  "language_info": {
   "codemirror_mode": {
    "name": "ipython",
    "version": 3
   },
   "file_extension": ".py",
   "mimetype": "text/x-python",
   "name": "python",
   "nbconvert_exporter": "python",
   "pygments_lexer": "ipython3",
   "version": "3.8.3"
  }
 },
 "nbformat": 4,
 "nbformat_minor": 5
}
