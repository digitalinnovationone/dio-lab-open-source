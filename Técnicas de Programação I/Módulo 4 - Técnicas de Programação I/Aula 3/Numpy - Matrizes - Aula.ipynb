{
 "cells": [
  {
   "cell_type": "markdown",
   "id": "22a75ede",
   "metadata": {},
   "source": [
    "# Matrizes com Numpy\n",
    "\n",
    "Antes de iniciarmos com o Numpy, vamos rever o que é um array n-dimensional no Numpy:\n",
    "\n",
    "![imgs/img1.png](imgs/img1.jpg)"
   ]
  },
  {
   "cell_type": "markdown",
   "id": "a70ae36a",
   "metadata": {},
   "source": [
    "***********************\n",
    "\n",
    "![imgs/img2.png](imgs/img2.jpg)"
   ]
  },
  {
   "cell_type": "markdown",
   "id": "6e9513d6",
   "metadata": {},
   "source": [
    "#### Exibindo arrays\n",
    "\n",
    "Quando você exibe um array, o Numpy monta a visualização da seguinte forma:\n",
    "\n",
    "- o último eixo (axis) é \"printado\" da esquerda para a direita\n",
    "- o penúltimo é exibido de cima para baixo\n",
    "- o outros são exibidos de cima para baixo com uma linha vazia entre eles"
   ]
  },
  {
   "cell_type": "code",
   "execution_count": 1,
   "id": "7b28e478",
   "metadata": {
    "ExecuteTime": {
     "end_time": "2021-09-07T23:26:34.932286Z",
     "start_time": "2021-09-07T23:26:33.482576Z"
    }
   },
   "outputs": [],
   "source": [
    "import numpy as np"
   ]
  },
  {
   "cell_type": "markdown",
   "id": "9877b558",
   "metadata": {},
   "source": [
    "## Usando números aleatórios no Numpy\n",
    "\n",
    "### Rand\n",
    "\n",
    "Gera números aleatórios de uma distribuição uniforme entre 0 e 1. Passamos o shape como argumento"
   ]
  },
  {
   "cell_type": "code",
   "execution_count": 5,
   "id": "e84446f8",
   "metadata": {
    "ExecuteTime": {
     "end_time": "2021-09-07T23:28:27.926494Z",
     "start_time": "2021-09-07T23:28:27.914967Z"
    }
   },
   "outputs": [
    {
     "data": {
      "text/plain": [
       "array([0.71463166, 0.37895747, 0.0039669 ])"
      ]
     },
     "execution_count": 5,
     "metadata": {},
     "output_type": "execute_result"
    }
   ],
   "source": [
    "np.random.rand(3)"
   ]
  },
  {
   "cell_type": "code",
   "execution_count": 6,
   "id": "72bfa4fa",
   "metadata": {
    "ExecuteTime": {
     "end_time": "2021-09-07T23:28:29.417250Z",
     "start_time": "2021-09-07T23:28:29.399286Z"
    }
   },
   "outputs": [
    {
     "data": {
      "text/plain": [
       "array([[0.39830836, 0.86466911, 0.48305147],\n",
       "       [0.381302  , 0.01824722, 0.57605506],\n",
       "       [0.02970811, 0.47559738, 0.47865571]])"
      ]
     },
     "execution_count": 6,
     "metadata": {},
     "output_type": "execute_result"
    }
   ],
   "source": [
    "np.random.rand(3,3)"
   ]
  },
  {
   "cell_type": "markdown",
   "id": "7c395e1f",
   "metadata": {},
   "source": [
    "### Randn\n",
    "\n",
    "Gera números advindos de uma distribuição normal padrão. Passamos o shape como argumento.\n"
   ]
  },
  {
   "cell_type": "code",
   "execution_count": 9,
   "id": "419a9614",
   "metadata": {
    "ExecuteTime": {
     "end_time": "2021-09-07T23:30:07.578128Z",
     "start_time": "2021-09-07T23:30:07.568019Z"
    }
   },
   "outputs": [
    {
     "data": {
      "text/plain": [
       "array([-0.42128337, -0.17334936, -0.2330406 ])"
      ]
     },
     "execution_count": 9,
     "metadata": {},
     "output_type": "execute_result"
    }
   ],
   "source": [
    "np.random.randn(3)"
   ]
  },
  {
   "cell_type": "code",
   "execution_count": 8,
   "id": "c11f0890",
   "metadata": {
    "ExecuteTime": {
     "end_time": "2021-09-07T23:29:58.716168Z",
     "start_time": "2021-09-07T23:29:58.695821Z"
    }
   },
   "outputs": [
    {
     "data": {
      "text/plain": [
       "array([[-0.85837579, -1.42561016,  0.55852356,  0.30943713],\n",
       "       [ 0.3388262 , -0.28524817,  0.35021453, -0.01713794],\n",
       "       [ 0.2582992 , -0.72075744,  0.70078249, -0.58523434],\n",
       "       [-0.38754993, -0.51827964,  1.16401818, -1.24378242]])"
      ]
     },
     "execution_count": 8,
     "metadata": {},
     "output_type": "execute_result"
    }
   ],
   "source": [
    "np.random.randn(4, 4)"
   ]
  },
  {
   "cell_type": "markdown",
   "id": "3b9e1f24",
   "metadata": {},
   "source": [
    "### Randint\n",
    "\n",
    "Permite que voce passe um intervalo, o qual será utilizado para gerar número inteiros com base em uma distribição uniforme. Passamos os limites e o shape como parâmetros.\n",
    "\n",
    "- low -> inclusivo\n",
    "- high -> exclusivo"
   ]
  },
  {
   "cell_type": "code",
   "execution_count": 12,
   "id": "0f1b9445",
   "metadata": {
    "ExecuteTime": {
     "end_time": "2021-09-07T23:35:23.019116Z",
     "start_time": "2021-09-07T23:35:23.008904Z"
    }
   },
   "outputs": [
    {
     "data": {
      "text/plain": [
       "array([19, 16, 14])"
      ]
     },
     "execution_count": 12,
     "metadata": {},
     "output_type": "execute_result"
    }
   ],
   "source": [
    "np.random.randint(low=0, high=20, size=(3,))"
   ]
  },
  {
   "cell_type": "code",
   "execution_count": 11,
   "id": "5584f9b5",
   "metadata": {
    "ExecuteTime": {
     "end_time": "2021-09-07T23:32:14.357790Z",
     "start_time": "2021-09-07T23:32:14.350652Z"
    }
   },
   "outputs": [
    {
     "data": {
      "text/plain": [
       "array([[ 9,  7],\n",
       "       [ 6,  4],\n",
       "       [13,  1]])"
      ]
     },
     "execution_count": 11,
     "metadata": {},
     "output_type": "execute_result"
    }
   ],
   "source": [
    "np.random.randint(low=0, high=20, size=(3,2))"
   ]
  },
  {
   "cell_type": "markdown",
   "id": "2615b10a",
   "metadata": {},
   "source": [
    "## Copiando ndarrays\n",
    "\n",
    "Muito cuidado na hora de copiar arrays, atribuindo eles a outras variáveis, pois a passagem é por referência."
   ]
  },
  {
   "cell_type": "code",
   "execution_count": 25,
   "id": "b633dc72",
   "metadata": {
    "ExecuteTime": {
     "end_time": "2021-09-07T23:40:48.636829Z",
     "start_time": "2021-09-07T23:40:48.626008Z"
    }
   },
   "outputs": [
    {
     "data": {
      "text/plain": [
       "array([[1, 2, 3],\n",
       "       [4, 5, 6],\n",
       "       [7, 8, 9]])"
      ]
     },
     "execution_count": 25,
     "metadata": {},
     "output_type": "execute_result"
    }
   ],
   "source": [
    "a = np.array([[1,2,3], [4,5,6], [7,8,9]])\n",
    "a"
   ]
  },
  {
   "cell_type": "code",
   "execution_count": 26,
   "id": "b387be2a",
   "metadata": {
    "ExecuteTime": {
     "end_time": "2021-09-07T23:40:48.834495Z",
     "start_time": "2021-09-07T23:40:48.824537Z"
    }
   },
   "outputs": [
    {
     "data": {
      "text/plain": [
       "array([[1, 2, 3],\n",
       "       [4, 5, 6],\n",
       "       [7, 8, 9]])"
      ]
     },
     "execution_count": 26,
     "metadata": {},
     "output_type": "execute_result"
    }
   ],
   "source": [
    "b = a\n",
    "b"
   ]
  },
  {
   "cell_type": "code",
   "execution_count": 27,
   "id": "143bc4da",
   "metadata": {
    "ExecuteTime": {
     "end_time": "2021-09-07T23:41:10.477735Z",
     "start_time": "2021-09-07T23:41:10.464800Z"
    }
   },
   "outputs": [
    {
     "data": {
      "text/plain": [
       "array([[ 1,  2,  3],\n",
       "       [ 4,  5,  6],\n",
       "       [ 7,  8, 10]])"
      ]
     },
     "execution_count": 27,
     "metadata": {},
     "output_type": "execute_result"
    }
   ],
   "source": [
    "b[2, 2] = 10\n",
    "b"
   ]
  },
  {
   "cell_type": "code",
   "execution_count": 28,
   "id": "40c59918",
   "metadata": {
    "ExecuteTime": {
     "end_time": "2021-09-07T23:41:13.119700Z",
     "start_time": "2021-09-07T23:41:13.111537Z"
    }
   },
   "outputs": [
    {
     "data": {
      "text/plain": [
       "array([[ 1,  2,  3],\n",
       "       [ 4,  5,  6],\n",
       "       [ 7,  8, 10]])"
      ]
     },
     "execution_count": 28,
     "metadata": {},
     "output_type": "execute_result"
    }
   ],
   "source": [
    "a"
   ]
  },
  {
   "cell_type": "markdown",
   "id": "eaf929a8",
   "metadata": {},
   "source": [
    "Opa, queriamos mudar só a variável \"b\", mas mudamos \"a\" também. O que fazer?"
   ]
  },
  {
   "cell_type": "code",
   "execution_count": 29,
   "id": "3144695c",
   "metadata": {
    "ExecuteTime": {
     "end_time": "2021-09-07T23:41:53.636879Z",
     "start_time": "2021-09-07T23:41:53.618263Z"
    }
   },
   "outputs": [
    {
     "data": {
      "text/plain": [
       "array([[1, 2, 3],\n",
       "       [4, 5, 6],\n",
       "       [7, 8, 9]])"
      ]
     },
     "execution_count": 29,
     "metadata": {},
     "output_type": "execute_result"
    }
   ],
   "source": [
    "a = np.array([[1,2,3], [4,5,6], [7,8,9]])\n",
    "a"
   ]
  },
  {
   "cell_type": "code",
   "execution_count": 30,
   "id": "0ac388f9",
   "metadata": {
    "ExecuteTime": {
     "end_time": "2021-09-07T23:41:58.844065Z",
     "start_time": "2021-09-07T23:41:58.827834Z"
    }
   },
   "outputs": [
    {
     "data": {
      "text/plain": [
       "array([[1, 2, 3],\n",
       "       [4, 5, 6],\n",
       "       [7, 8, 9]])"
      ]
     },
     "execution_count": 30,
     "metadata": {},
     "output_type": "execute_result"
    }
   ],
   "source": [
    "b = a.copy()\n",
    "b"
   ]
  },
  {
   "cell_type": "code",
   "execution_count": 31,
   "id": "01353b0d",
   "metadata": {
    "ExecuteTime": {
     "end_time": "2021-09-07T23:42:06.170937Z",
     "start_time": "2021-09-07T23:42:06.151056Z"
    }
   },
   "outputs": [
    {
     "data": {
      "text/plain": [
       "array([[ 1,  2,  3],\n",
       "       [ 4,  5,  6],\n",
       "       [ 7,  8, 10]])"
      ]
     },
     "execution_count": 31,
     "metadata": {},
     "output_type": "execute_result"
    }
   ],
   "source": [
    "b[2, 2] = 10\n",
    "b"
   ]
  },
  {
   "cell_type": "code",
   "execution_count": 32,
   "id": "db8f9e01",
   "metadata": {
    "ExecuteTime": {
     "end_time": "2021-09-07T23:42:08.947380Z",
     "start_time": "2021-09-07T23:42:08.940803Z"
    }
   },
   "outputs": [
    {
     "data": {
      "text/plain": [
       "array([[1, 2, 3],\n",
       "       [4, 5, 6],\n",
       "       [7, 8, 9]])"
      ]
     },
     "execution_count": 32,
     "metadata": {},
     "output_type": "execute_result"
    }
   ],
   "source": [
    "a"
   ]
  },
  {
   "cell_type": "markdown",
   "id": "0dcb5153",
   "metadata": {},
   "source": [
    "## Indexing e slicing em matrizes"
   ]
  },
  {
   "cell_type": "code",
   "execution_count": 34,
   "id": "6ceac2b3",
   "metadata": {
    "ExecuteTime": {
     "end_time": "2021-09-07T23:55:57.441479Z",
     "start_time": "2021-09-07T23:55:57.425770Z"
    }
   },
   "outputs": [
    {
     "data": {
      "text/plain": [
       "array([[1, 2, 3],\n",
       "       [4, 5, 6],\n",
       "       [7, 8, 9]])"
      ]
     },
     "execution_count": 34,
     "metadata": {},
     "output_type": "execute_result"
    }
   ],
   "source": [
    "matriz = np.array([[1,2,3], [4,5,6], [7,8,9]])\n",
    "matriz"
   ]
  },
  {
   "cell_type": "code",
   "execution_count": 35,
   "id": "81252b03",
   "metadata": {
    "ExecuteTime": {
     "end_time": "2021-09-07T23:56:19.021279Z",
     "start_time": "2021-09-07T23:56:19.008005Z"
    }
   },
   "outputs": [
    {
     "data": {
      "text/plain": [
       "1"
      ]
     },
     "execution_count": 35,
     "metadata": {},
     "output_type": "execute_result"
    }
   ],
   "source": [
    "# quero o primeiro elemento da primeira linha\n",
    "\n",
    "# faziamos assim em listas, ne?\n",
    "matriz[0][0]"
   ]
  },
  {
   "cell_type": "code",
   "execution_count": 36,
   "id": "f4ea96fa",
   "metadata": {
    "ExecuteTime": {
     "end_time": "2021-09-07T23:56:25.802253Z",
     "start_time": "2021-09-07T23:56:25.784923Z"
    }
   },
   "outputs": [
    {
     "data": {
      "text/plain": [
       "1"
      ]
     },
     "execution_count": 36,
     "metadata": {},
     "output_type": "execute_result"
    }
   ],
   "source": [
    "matriz[0, 0]"
   ]
  },
  {
   "cell_type": "code",
   "execution_count": 37,
   "id": "1d8f15cc",
   "metadata": {
    "ExecuteTime": {
     "end_time": "2021-09-07T23:56:41.395331Z",
     "start_time": "2021-09-07T23:56:41.386972Z"
    }
   },
   "outputs": [
    {
     "data": {
      "text/plain": [
       "array([1, 2, 3])"
      ]
     },
     "execution_count": 37,
     "metadata": {},
     "output_type": "execute_result"
    }
   ],
   "source": [
    "# quero todos os elementos da primeira linha\n",
    "matriz[0]"
   ]
  },
  {
   "cell_type": "code",
   "execution_count": 38,
   "id": "cdc5c552",
   "metadata": {
    "ExecuteTime": {
     "end_time": "2021-09-07T23:56:50.233913Z",
     "start_time": "2021-09-07T23:56:50.222417Z"
    }
   },
   "outputs": [
    {
     "data": {
      "text/plain": [
       "array([1, 2, 3])"
      ]
     },
     "execution_count": 38,
     "metadata": {},
     "output_type": "execute_result"
    }
   ],
   "source": [
    "matriz[0, :]"
   ]
  },
  {
   "cell_type": "code",
   "execution_count": 39,
   "id": "5b5ebcd1",
   "metadata": {
    "ExecuteTime": {
     "end_time": "2021-09-07T23:57:14.161243Z",
     "start_time": "2021-09-07T23:57:14.153985Z"
    }
   },
   "outputs": [
    {
     "data": {
      "text/plain": [
       "array([5, 6])"
      ]
     },
     "execution_count": 39,
     "metadata": {},
     "output_type": "execute_result"
    }
   ],
   "source": [
    "# quero o segundo e o terceiro elemento da segunda linha\n",
    "matriz[1, 1:]"
   ]
  },
  {
   "cell_type": "code",
   "execution_count": 40,
   "id": "de8d1878",
   "metadata": {
    "ExecuteTime": {
     "end_time": "2021-09-07T23:57:21.353060Z",
     "start_time": "2021-09-07T23:57:21.333565Z"
    }
   },
   "outputs": [
    {
     "data": {
      "text/plain": [
       "array([5, 6])"
      ]
     },
     "execution_count": 40,
     "metadata": {},
     "output_type": "execute_result"
    }
   ],
   "source": [
    "matriz[1, [1,2]]"
   ]
  },
  {
   "cell_type": "markdown",
   "id": "d4964fd8",
   "metadata": {},
   "source": [
    "## Operações básicas aplicadas nos eixos de uma matriz\n",
    "\n",
    "Lembram as funcoes da ultima aula, como np.zeros e np.ones? Podemos passar o shape que quisermos como argumento!\n"
   ]
  },
  {
   "cell_type": "code",
   "execution_count": 44,
   "id": "8ad762b8",
   "metadata": {
    "ExecuteTime": {
     "end_time": "2021-09-07T23:58:17.538084Z",
     "start_time": "2021-09-07T23:58:17.528413Z"
    }
   },
   "outputs": [
    {
     "data": {
      "text/plain": [
       "array([[1., 1.],\n",
       "       [1., 1.],\n",
       "       [1., 1.]])"
      ]
     },
     "execution_count": 44,
     "metadata": {},
     "output_type": "execute_result"
    }
   ],
   "source": [
    "matriz = np.ones((3,2))\n",
    "matriz"
   ]
  },
  {
   "cell_type": "markdown",
   "id": "d31f8ba9",
   "metadata": {},
   "source": [
    "Quero somar os elementos de cada linha. Será que vamos conseguir o resultado que queriamos?"
   ]
  },
  {
   "cell_type": "code",
   "execution_count": 45,
   "id": "98cd5346",
   "metadata": {
    "ExecuteTime": {
     "end_time": "2021-09-07T23:59:29.893243Z",
     "start_time": "2021-09-07T23:59:29.886191Z"
    }
   },
   "outputs": [
    {
     "data": {
      "text/plain": [
       "6.0"
      ]
     },
     "execution_count": 45,
     "metadata": {},
     "output_type": "execute_result"
    }
   ],
   "source": [
    "matriz.sum()"
   ]
  },
  {
   "cell_type": "markdown",
   "id": "e97863d8",
   "metadata": {},
   "source": [
    "Precisamos passar o eixo!\n",
    "\n",
    "Esse eixo representa o eixo onde \"agruparemos\" para realizar a operação que queremos. Por exemplo, se queremos saber a soma de cada linha, precisamos somar cada elemento em cada coluna dessa linha. Logo, estamos \"agrupando\" as colunas e somando elas. Por isso, passamos axis=1."
   ]
  },
  {
   "cell_type": "code",
   "execution_count": 50,
   "id": "8006a2ec",
   "metadata": {
    "ExecuteTime": {
     "end_time": "2021-09-08T00:02:52.979517Z",
     "start_time": "2021-09-08T00:02:52.967569Z"
    }
   },
   "outputs": [
    {
     "data": {
      "text/plain": [
       "array([2., 2., 2.])"
      ]
     },
     "execution_count": 50,
     "metadata": {},
     "output_type": "execute_result"
    }
   ],
   "source": [
    "# Perceba que o resultado tem apenas 3 elementos, ja que so temos tres linhas\n",
    "matriz.sum(axis=1)"
   ]
  },
  {
   "cell_type": "markdown",
   "id": "181058ab",
   "metadata": {},
   "source": [
    "Quero somar os elementos em cada coluna:"
   ]
  },
  {
   "cell_type": "code",
   "execution_count": 49,
   "id": "99e89806",
   "metadata": {
    "ExecuteTime": {
     "end_time": "2021-09-08T00:02:18.898023Z",
     "start_time": "2021-09-08T00:02:18.892493Z"
    }
   },
   "outputs": [
    {
     "data": {
      "text/plain": [
       "array([3., 3.])"
      ]
     },
     "execution_count": 49,
     "metadata": {},
     "output_type": "execute_result"
    }
   ],
   "source": [
    "# Perceba que o resultado tem apenas 2 elementos, ja que so temos duas colunas\n",
    "matriz.sum(axis=0)"
   ]
  },
  {
   "cell_type": "markdown",
   "id": "cb4df20a",
   "metadata": {},
   "source": [
    "O mesmo vale para outras funções vistas na aula anterior."
   ]
  },
  {
   "cell_type": "code",
   "execution_count": 63,
   "id": "e1a55057",
   "metadata": {
    "ExecuteTime": {
     "end_time": "2021-09-08T00:08:05.638584Z",
     "start_time": "2021-09-08T00:08:05.627022Z"
    }
   },
   "outputs": [
    {
     "data": {
      "text/plain": [
       "array([1., 1.])"
      ]
     },
     "execution_count": 63,
     "metadata": {},
     "output_type": "execute_result"
    }
   ],
   "source": [
    "matriz.mean(axis=0)"
   ]
  },
  {
   "cell_type": "code",
   "execution_count": 64,
   "id": "a972c208",
   "metadata": {
    "ExecuteTime": {
     "end_time": "2021-09-08T00:08:15.351252Z",
     "start_time": "2021-09-08T00:08:15.338742Z"
    }
   },
   "outputs": [
    {
     "data": {
      "text/plain": [
       "array([1., 1., 1.])"
      ]
     },
     "execution_count": 64,
     "metadata": {},
     "output_type": "execute_result"
    }
   ],
   "source": [
    "matriz.mean(axis=1)"
   ]
  },
  {
   "cell_type": "markdown",
   "id": "9a60dce5",
   "metadata": {},
   "source": [
    "## Mudando o formato de uma matriz: reshape, concatenate, vstack e hstack\n",
    "\n",
    "### reshape"
   ]
  },
  {
   "cell_type": "code",
   "execution_count": 75,
   "id": "b58a8743",
   "metadata": {
    "ExecuteTime": {
     "end_time": "2021-09-08T00:13:20.632351Z",
     "start_time": "2021-09-08T00:13:20.624153Z"
    }
   },
   "outputs": [
    {
     "data": {
      "text/plain": [
       "array([1, 1, 1, 1, 2, 2, 2, 2, 3, 3, 3, 3])"
      ]
     },
     "execution_count": 75,
     "metadata": {},
     "output_type": "execute_result"
    }
   ],
   "source": [
    "array = np.array([1,1,1,1,2,2,2,2,3,3,3,3])\n",
    "array"
   ]
  },
  {
   "cell_type": "code",
   "execution_count": 78,
   "id": "16a2e1aa",
   "metadata": {
    "ExecuteTime": {
     "end_time": "2021-09-08T00:13:37.113679Z",
     "start_time": "2021-09-08T00:13:37.096441Z"
    }
   },
   "outputs": [
    {
     "data": {
      "text/plain": [
       "array([[1, 1, 1, 1],\n",
       "       [2, 2, 2, 2],\n",
       "       [3, 3, 3, 3]])"
      ]
     },
     "execution_count": 78,
     "metadata": {},
     "output_type": "execute_result"
    }
   ],
   "source": [
    "array.reshape(3, 4)"
   ]
  },
  {
   "cell_type": "code",
   "execution_count": 80,
   "id": "baeb9386",
   "metadata": {
    "ExecuteTime": {
     "end_time": "2021-09-08T00:14:36.484158Z",
     "start_time": "2021-09-08T00:14:36.472483Z"
    }
   },
   "outputs": [
    {
     "data": {
      "text/plain": [
       "array([[1, 1, 1, 1],\n",
       "       [2, 2, 2, 2],\n",
       "       [3, 3, 3, 3]])"
      ]
     },
     "execution_count": 80,
     "metadata": {},
     "output_type": "execute_result"
    }
   ],
   "source": [
    "# O -1 quer dizer: cria quantas linhas/colunas voce quiser, mas o outro eixo eu quero que tenha tamanho X.\n",
    "array.reshape(-1, 4)"
   ]
  },
  {
   "cell_type": "code",
   "execution_count": 81,
   "id": "9a0ac41d",
   "metadata": {
    "ExecuteTime": {
     "end_time": "2021-09-08T00:15:57.610678Z",
     "start_time": "2021-09-08T00:15:57.603854Z"
    }
   },
   "outputs": [
    {
     "data": {
      "text/plain": [
       "array([[1, 1, 1, 1],\n",
       "       [2, 2, 2, 2],\n",
       "       [3, 3, 3, 3]])"
      ]
     },
     "execution_count": 81,
     "metadata": {},
     "output_type": "execute_result"
    }
   ],
   "source": [
    "matriz = np.array([[1, 1, 1, 1], [2, 2, 2, 2], [3, 3, 3, 3]])\n",
    "matriz"
   ]
  },
  {
   "cell_type": "code",
   "execution_count": 83,
   "id": "b098fd63",
   "metadata": {
    "ExecuteTime": {
     "end_time": "2021-09-08T00:16:12.417773Z",
     "start_time": "2021-09-08T00:16:12.399884Z"
    }
   },
   "outputs": [
    {
     "data": {
      "text/plain": [
       "array([[1, 1, 1],\n",
       "       [1, 2, 2],\n",
       "       [2, 2, 3],\n",
       "       [3, 3, 3]])"
      ]
     },
     "execution_count": 83,
     "metadata": {},
     "output_type": "execute_result"
    }
   ],
   "source": [
    "matriz.reshape(4,3)"
   ]
  },
  {
   "cell_type": "code",
   "execution_count": 84,
   "id": "2c410be1",
   "metadata": {
    "ExecuteTime": {
     "end_time": "2021-09-08T00:16:27.111784Z",
     "start_time": "2021-09-08T00:16:27.097321Z"
    }
   },
   "outputs": [
    {
     "data": {
      "text/plain": [
       "array([1, 1, 1, 1, 2, 2, 2, 2, 3, 3, 3, 3])"
      ]
     },
     "execution_count": 84,
     "metadata": {},
     "output_type": "execute_result"
    }
   ],
   "source": [
    "matriz.reshape(-1)"
   ]
  },
  {
   "cell_type": "markdown",
   "id": "b56a79c0",
   "metadata": {},
   "source": [
    "### concatenate\n",
    "\n",
    "É a operação \"mãe\" das outras. Com ela, podemos fazer o mesmo que fazemos com vstack e hstack."
   ]
  },
  {
   "cell_type": "code",
   "execution_count": 102,
   "id": "9c7fd634",
   "metadata": {
    "ExecuteTime": {
     "end_time": "2021-09-08T00:37:31.131817Z",
     "start_time": "2021-09-08T00:37:31.112049Z"
    }
   },
   "outputs": [],
   "source": [
    "a = np.array([[1,1,1,1]])\n",
    "b = np.array([[2,2,2,2]])\n",
    "c = np.array([[3,3,3,3]])"
   ]
  },
  {
   "cell_type": "code",
   "execution_count": 105,
   "id": "66b630f6",
   "metadata": {
    "ExecuteTime": {
     "end_time": "2021-09-08T00:37:50.597519Z",
     "start_time": "2021-09-08T00:37:50.583924Z"
    }
   },
   "outputs": [
    {
     "data": {
      "text/plain": [
       "array([[1, 1, 1, 1],\n",
       "       [2, 2, 2, 2],\n",
       "       [3, 3, 3, 3]])"
      ]
     },
     "execution_count": 105,
     "metadata": {},
     "output_type": "execute_result"
    }
   ],
   "source": [
    "np.concatenate((a,b,c), axis=0)"
   ]
  },
  {
   "cell_type": "code",
   "execution_count": 106,
   "id": "a17f08d3",
   "metadata": {
    "ExecuteTime": {
     "end_time": "2021-09-08T00:38:18.257563Z",
     "start_time": "2021-09-08T00:38:18.250981Z"
    }
   },
   "outputs": [
    {
     "data": {
      "text/plain": [
       "array([[1, 1, 1, 1, 2, 2, 2, 2, 3, 3, 3, 3]])"
      ]
     },
     "execution_count": 106,
     "metadata": {},
     "output_type": "execute_result"
    }
   ],
   "source": [
    "np.concatenate((a,b,c), axis=1)"
   ]
  },
  {
   "cell_type": "markdown",
   "id": "e3073f1e",
   "metadata": {},
   "source": [
    "### vstack\n",
    "\n",
    "Empilhamento vertical"
   ]
  },
  {
   "cell_type": "code",
   "execution_count": 107,
   "id": "af36a170",
   "metadata": {
    "ExecuteTime": {
     "end_time": "2021-09-08T00:38:31.442163Z",
     "start_time": "2021-09-08T00:38:31.427913Z"
    }
   },
   "outputs": [],
   "source": [
    "a = np.array([[1,1,1,1]])\n",
    "b = np.array([[2,2,2,2]])\n",
    "c = np.array([[3,3,3,3]])"
   ]
  },
  {
   "cell_type": "code",
   "execution_count": 109,
   "id": "46cfc494",
   "metadata": {
    "ExecuteTime": {
     "end_time": "2021-09-08T00:38:48.643493Z",
     "start_time": "2021-09-08T00:38:48.629343Z"
    }
   },
   "outputs": [
    {
     "data": {
      "text/plain": [
       "array([[1, 1, 1, 1],\n",
       "       [2, 2, 2, 2],\n",
       "       [3, 3, 3, 3]])"
      ]
     },
     "execution_count": 109,
     "metadata": {},
     "output_type": "execute_result"
    }
   ],
   "source": [
    "np.vstack((a,b,c))"
   ]
  },
  {
   "cell_type": "code",
   "execution_count": null,
   "id": "6271871b",
   "metadata": {},
   "outputs": [],
   "source": [
    "matriz_1 = np.array([[1,1,1], [2,2,2]])\n",
    "matriz_2 = np.array([[3,3,3], [4,4,4]])"
   ]
  },
  {
   "cell_type": "code",
   "execution_count": 114,
   "id": "de6b3b3a",
   "metadata": {
    "ExecuteTime": {
     "end_time": "2021-09-08T00:40:33.401678Z",
     "start_time": "2021-09-08T00:40:33.387672Z"
    }
   },
   "outputs": [
    {
     "data": {
      "text/plain": [
       "array([[1, 1, 1],\n",
       "       [2, 2, 2],\n",
       "       [3, 3, 3],\n",
       "       [4, 4, 4]])"
      ]
     },
     "execution_count": 114,
     "metadata": {},
     "output_type": "execute_result"
    }
   ],
   "source": [
    "np.vstack((matriz_1, matriz_2))"
   ]
  },
  {
   "cell_type": "markdown",
   "id": "13786405",
   "metadata": {},
   "source": [
    "### hstack\n",
    "\n",
    "Empilhamento horizontal"
   ]
  },
  {
   "cell_type": "code",
   "execution_count": 110,
   "id": "f0f62479",
   "metadata": {
    "ExecuteTime": {
     "end_time": "2021-09-08T00:38:59.287351Z",
     "start_time": "2021-09-08T00:38:59.283547Z"
    }
   },
   "outputs": [],
   "source": [
    "a = np.array([[1,1,1,1]])\n",
    "b = np.array([[2,2,2,2]])\n",
    "c = np.array([[3,3,3,3]])"
   ]
  },
  {
   "cell_type": "code",
   "execution_count": 111,
   "id": "0e679d5a",
   "metadata": {
    "ExecuteTime": {
     "end_time": "2021-09-08T00:39:09.426721Z",
     "start_time": "2021-09-08T00:39:09.415439Z"
    }
   },
   "outputs": [
    {
     "data": {
      "text/plain": [
       "array([[1, 1, 1, 1, 2, 2, 2, 2, 3, 3, 3, 3]])"
      ]
     },
     "execution_count": 111,
     "metadata": {},
     "output_type": "execute_result"
    }
   ],
   "source": [
    "np.hstack((a,b,c))"
   ]
  },
  {
   "cell_type": "code",
   "execution_count": 112,
   "id": "5deb9735",
   "metadata": {
    "ExecuteTime": {
     "end_time": "2021-09-08T00:40:00.948741Z",
     "start_time": "2021-09-08T00:40:00.940933Z"
    }
   },
   "outputs": [],
   "source": [
    "matriz_1 = np.array([[1,1,1], [2,2,2]])\n",
    "matriz_2 = np.array([[3,3,3], [4,4,4]])"
   ]
  },
  {
   "cell_type": "code",
   "execution_count": 113,
   "id": "0ed57eb0",
   "metadata": {
    "ExecuteTime": {
     "end_time": "2021-09-08T00:40:16.014004Z",
     "start_time": "2021-09-08T00:40:15.991680Z"
    }
   },
   "outputs": [
    {
     "data": {
      "text/plain": [
       "array([[1, 1, 1, 3, 3, 3],\n",
       "       [2, 2, 2, 4, 4, 4]])"
      ]
     },
     "execution_count": 113,
     "metadata": {},
     "output_type": "execute_result"
    }
   ],
   "source": [
    "np.hstack((matriz_1,matriz_2))"
   ]
  },
  {
   "cell_type": "markdown",
   "id": "7fc09934",
   "metadata": {},
   "source": [
    "## Operações matriciais\n",
    "\n",
    "O numpy permite que façamos uma série de operações muito utilizadas em álgebra linear como:\n",
    "\n",
    "- Transpor uma matriz (Mudar linhas para colunas e colunas para linhas);\n",
    "- Realizar multiplicação matricial\n",
    "- Criar matrizes identidades\n",
    "\n",
    "E muitas outras, como podemos ver em: https://numpy.org/doc/stable/reference/routines.linalg.html"
   ]
  },
  {
   "cell_type": "markdown",
   "id": "ecdecb8a",
   "metadata": {},
   "source": [
    "### Matriz identidade\n",
    "\n",
    "É uma matriz onde todos os elementos são zeros exceto a diagonal, que é preenchida por 1's."
   ]
  },
  {
   "cell_type": "code",
   "execution_count": 88,
   "id": "1b33bafd",
   "metadata": {
    "ExecuteTime": {
     "end_time": "2021-09-08T00:29:53.606555Z",
     "start_time": "2021-09-08T00:29:53.595092Z"
    }
   },
   "outputs": [
    {
     "data": {
      "text/plain": [
       "array([[1., 0., 0.],\n",
       "       [0., 1., 0.],\n",
       "       [0., 0., 1.]])"
      ]
     },
     "execution_count": 88,
     "metadata": {},
     "output_type": "execute_result"
    }
   ],
   "source": [
    "# So gera matrizes quadradas\n",
    "np.identity(3)"
   ]
  },
  {
   "cell_type": "code",
   "execution_count": 89,
   "id": "2b790b7f",
   "metadata": {
    "ExecuteTime": {
     "end_time": "2021-09-08T00:31:00.938043Z",
     "start_time": "2021-09-08T00:31:00.924740Z"
    }
   },
   "outputs": [
    {
     "data": {
      "text/plain": [
       "array([[1., 0., 0.],\n",
       "       [0., 1., 0.],\n",
       "       [0., 0., 1.]])"
      ]
     },
     "execution_count": 89,
     "metadata": {},
     "output_type": "execute_result"
    }
   ],
   "source": [
    "# Funciona quase igual o np.identity, mas permite gerar matrizes não quadradas\n",
    "np.eye(3)"
   ]
  },
  {
   "cell_type": "code",
   "execution_count": 90,
   "id": "99ce79ff",
   "metadata": {
    "ExecuteTime": {
     "end_time": "2021-09-08T00:31:06.308555Z",
     "start_time": "2021-09-08T00:31:06.287887Z"
    }
   },
   "outputs": [
    {
     "data": {
      "text/plain": [
       "array([[1., 0.],\n",
       "       [0., 1.],\n",
       "       [0., 0.]])"
      ]
     },
     "execution_count": 90,
     "metadata": {},
     "output_type": "execute_result"
    }
   ],
   "source": [
    "np.eye(3,2)"
   ]
  },
  {
   "cell_type": "markdown",
   "id": "74ee9acc",
   "metadata": {},
   "source": [
    "### Multiplicação de matriz\n",
    "\n",
    "![image.png](imgs/img3.jpg)"
   ]
  },
  {
   "cell_type": "code",
   "execution_count": 92,
   "id": "cb344fdd",
   "metadata": {
    "ExecuteTime": {
     "end_time": "2021-09-08T00:32:03.303732Z",
     "start_time": "2021-09-08T00:32:03.290698Z"
    }
   },
   "outputs": [
    {
     "data": {
      "text/plain": [
       "(array([[1, 2],\n",
       "        [3, 4]]),\n",
       " array([[-1,  3],\n",
       "        [ 4,  2]]))"
      ]
     },
     "execution_count": 92,
     "metadata": {},
     "output_type": "execute_result"
    }
   ],
   "source": [
    "A = np.array([[1,2], [3,4]])\n",
    "B = np.array([[-1,3], [4,2]])\n",
    "A, B"
   ]
  },
  {
   "cell_type": "markdown",
   "id": "8d1976e9",
   "metadata": {},
   "source": [
    "Se usarmos o operador \"\\*\", o que acontece?"
   ]
  },
  {
   "cell_type": "code",
   "execution_count": 94,
   "id": "d7d3a61c",
   "metadata": {
    "ExecuteTime": {
     "end_time": "2021-09-08T00:33:14.724696Z",
     "start_time": "2021-09-08T00:33:14.715882Z"
    }
   },
   "outputs": [
    {
     "data": {
      "text/plain": [
       "array([[-1,  6],\n",
       "       [12,  8]])"
      ]
     },
     "execution_count": 94,
     "metadata": {},
     "output_type": "execute_result"
    }
   ],
   "source": [
    "B * A"
   ]
  },
  {
   "cell_type": "markdown",
   "id": "ba628fea",
   "metadata": {},
   "source": [
    "Ele fez a multiplicação elemento a elemento, mas queremos fazer uma multiplicação matricial como a vista acima, como fazer?"
   ]
  },
  {
   "cell_type": "code",
   "execution_count": 96,
   "id": "5f14ab4a",
   "metadata": {
    "ExecuteTime": {
     "end_time": "2021-09-08T00:33:35.286114Z",
     "start_time": "2021-09-08T00:33:35.264868Z"
    }
   },
   "outputs": [
    {
     "data": {
      "text/plain": [
       "array([[ 8, 10],\n",
       "       [10, 16]])"
      ]
     },
     "execution_count": 96,
     "metadata": {},
     "output_type": "execute_result"
    }
   ],
   "source": [
    "np.matmul(B, A)"
   ]
  },
  {
   "cell_type": "code",
   "execution_count": 97,
   "id": "ff96da4f",
   "metadata": {
    "ExecuteTime": {
     "end_time": "2021-09-08T00:33:48.974679Z",
     "start_time": "2021-09-08T00:33:48.960618Z"
    }
   },
   "outputs": [
    {
     "data": {
      "text/plain": [
       "array([[ 8, 10],\n",
       "       [10, 16]])"
      ]
     },
     "execution_count": 97,
     "metadata": {},
     "output_type": "execute_result"
    }
   ],
   "source": [
    "B @ A"
   ]
  },
  {
   "cell_type": "markdown",
   "id": "5324ae53",
   "metadata": {},
   "source": [
    "### Transpondo matrizes\n",
    "\n",
    "![image.png](imgs/img4.jpg)"
   ]
  },
  {
   "cell_type": "code",
   "execution_count": 115,
   "id": "950ac135",
   "metadata": {
    "ExecuteTime": {
     "end_time": "2021-09-08T00:43:52.945367Z",
     "start_time": "2021-09-08T00:43:52.929028Z"
    }
   },
   "outputs": [
    {
     "data": {
      "text/plain": [
       "array([[1, 2],\n",
       "       [3, 4],\n",
       "       [5, 6]])"
      ]
     },
     "execution_count": 115,
     "metadata": {},
     "output_type": "execute_result"
    }
   ],
   "source": [
    "A = np.array([[1,2], [3,4], [5,6]])\n",
    "A"
   ]
  },
  {
   "cell_type": "code",
   "execution_count": 118,
   "id": "9fa56000",
   "metadata": {
    "ExecuteTime": {
     "end_time": "2021-09-08T00:44:13.879416Z",
     "start_time": "2021-09-08T00:44:13.865864Z"
    }
   },
   "outputs": [
    {
     "data": {
      "text/plain": [
       "array([[1, 3, 5],\n",
       "       [2, 4, 6]])"
      ]
     },
     "execution_count": 118,
     "metadata": {},
     "output_type": "execute_result"
    }
   ],
   "source": [
    "A.transpose()"
   ]
  },
  {
   "cell_type": "code",
   "execution_count": 119,
   "id": "73c6d5bf",
   "metadata": {
    "ExecuteTime": {
     "end_time": "2021-09-08T00:44:36.918292Z",
     "start_time": "2021-09-08T00:44:36.909418Z"
    }
   },
   "outputs": [
    {
     "data": {
      "text/plain": [
       "array([[1, 3, 5],\n",
       "       [2, 4, 6]])"
      ]
     },
     "execution_count": 119,
     "metadata": {},
     "output_type": "execute_result"
    }
   ],
   "source": [
    "# Posso passar a ordem dos eixos que quero para a nova matriz\n",
    "A.transpose(1, 0)"
   ]
  },
  {
   "cell_type": "code",
   "execution_count": 120,
   "id": "d4a35492",
   "metadata": {
    "ExecuteTime": {
     "end_time": "2021-09-08T00:44:40.254525Z",
     "start_time": "2021-09-08T00:44:40.238582Z"
    }
   },
   "outputs": [
    {
     "data": {
      "text/plain": [
       "array([[1, 3, 5],\n",
       "       [2, 4, 6]])"
      ]
     },
     "execution_count": 120,
     "metadata": {},
     "output_type": "execute_result"
    }
   ],
   "source": [
    "A.T"
   ]
  },
  {
   "cell_type": "markdown",
   "id": "643c0787",
   "metadata": {},
   "source": [
    "## Extra: Calculando moda com o numpy\n",
    "\n",
    "Abaixo, veremos um jeito de calcular a moda utilizando o Numpy. Porém, também é possível fazer usando outra biblioteca, baseada em Numpy: https://docs.scipy.org/doc/scipy/reference/generated/scipy.stats.mode.html"
   ]
  },
  {
   "cell_type": "code",
   "execution_count": 60,
   "id": "7ebce298",
   "metadata": {
    "ExecuteTime": {
     "end_time": "2021-09-08T00:06:39.485283Z",
     "start_time": "2021-09-08T00:06:39.471087Z"
    }
   },
   "outputs": [],
   "source": [
    "a = np.array([1,1,1,1,1,1,1,1,2,2,2,2,2,2,2,2,2,3,3,3,3,3,3,3,4,4,4,4,4,4,5,5,5,5,5])"
   ]
  },
  {
   "cell_type": "code",
   "execution_count": 61,
   "id": "49375544",
   "metadata": {
    "ExecuteTime": {
     "end_time": "2021-09-08T00:06:39.736178Z",
     "start_time": "2021-09-08T00:06:39.717081Z"
    }
   },
   "outputs": [
    {
     "data": {
      "text/plain": [
       "(array([1, 2, 3, 4, 5]), array([8, 9, 7, 6, 5], dtype=int64))"
      ]
     },
     "execution_count": 61,
     "metadata": {},
     "output_type": "execute_result"
    }
   ],
   "source": [
    "np.unique(a, return_counts=True)"
   ]
  },
  {
   "cell_type": "code",
   "execution_count": 62,
   "id": "b56585b3",
   "metadata": {
    "ExecuteTime": {
     "end_time": "2021-09-08T00:06:41.109301Z",
     "start_time": "2021-09-08T00:06:41.090877Z"
    }
   },
   "outputs": [
    {
     "data": {
      "text/plain": [
       "2"
      ]
     },
     "execution_count": 62,
     "metadata": {},
     "output_type": "execute_result"
    }
   ],
   "source": [
    "unique_array, counts = np.unique(a, return_counts=True)\n",
    "unique_array[counts.argmax()]"
   ]
  }
 ],
 "metadata": {
  "kernelspec": {
   "display_name": "Python 3",
   "language": "python",
   "name": "python3"
  },
  "language_info": {
   "codemirror_mode": {
    "name": "ipython",
    "version": 3
   },
   "file_extension": ".py",
   "mimetype": "text/x-python",
   "name": "python",
   "nbconvert_exporter": "python",
   "pygments_lexer": "ipython3",
   "version": "3.8.3"
  }
 },
 "nbformat": 4,
 "nbformat_minor": 5
}
