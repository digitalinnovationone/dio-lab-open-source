{
 "cells": [
  {
   "cell_type": "code",
   "execution_count": 1,
   "id": "38e23ea9",
   "metadata": {
    "ExecuteTime": {
     "end_time": "2021-09-08T22:10:13.222526Z",
     "start_time": "2021-09-08T22:10:12.411487Z"
    }
   },
   "outputs": [],
   "source": [
    "import numpy as np"
   ]
  },
  {
   "cell_type": "markdown",
   "id": "7775640f",
   "metadata": {},
   "source": [
    "## Questão 1 - Crie um numpy array com 10 elementos 0, exceto o elemento de índice 6, que deve ser 20"
   ]
  },
  {
   "cell_type": "code",
   "execution_count": 3,
   "id": "7eba4074",
   "metadata": {
    "ExecuteTime": {
     "end_time": "2021-09-08T22:10:25.254759Z",
     "start_time": "2021-09-08T22:10:25.233763Z"
    }
   },
   "outputs": [
    {
     "data": {
      "text/plain": [
       "array([ 0.,  0.,  0.,  0.,  0.,  0., 20.,  0.,  0.,  0.])"
      ]
     },
     "execution_count": 3,
     "metadata": {},
     "output_type": "execute_result"
    }
   ],
   "source": [
    "my_array = np.zeros(10)\n",
    "my_array[6] = 20\n",
    "my_array"
   ]
  },
  {
   "cell_type": "markdown",
   "id": "a104a324",
   "metadata": {},
   "source": [
    "## Questão 2 - Crie uma função que receba um numpy array e retorne um array de 20 elementos contendo apenas o maior elemento do array recebido"
   ]
  },
  {
   "cell_type": "code",
   "execution_count": 10,
   "id": "1b01a02d",
   "metadata": {
    "ExecuteTime": {
     "end_time": "2021-09-08T22:12:37.684904Z",
     "start_time": "2021-09-08T22:12:37.674883Z"
    }
   },
   "outputs": [],
   "source": [
    "def func1(array):\n",
    "    max_ = array.max()\n",
    "    return np.full(20, max_)"
   ]
  },
  {
   "cell_type": "code",
   "execution_count": 11,
   "id": "d890086a",
   "metadata": {
    "ExecuteTime": {
     "end_time": "2021-09-08T22:12:37.964015Z",
     "start_time": "2021-09-08T22:12:37.953011Z"
    }
   },
   "outputs": [
    {
     "data": {
      "text/plain": [
       "array([89, 89, 89, 89, 89, 89, 89, 89, 89, 89, 89, 89, 89, 89, 89, 89, 89,\n",
       "       89, 89, 89])"
      ]
     },
     "execution_count": 11,
     "metadata": {},
     "output_type": "execute_result"
    }
   ],
   "source": [
    "func1(np.array([4,5,7,89,11]))"
   ]
  },
  {
   "cell_type": "markdown",
   "id": "a97eb2e1",
   "metadata": {},
   "source": [
    "## Questão 3 - Faça uma função que receba um vetor, eleve ele ao quadrado, some 3, pegue apenas o elementos que são diferentes de 4 e, por último, divida por 4. Depois, retorne esse vetor modificado"
   ]
  },
  {
   "cell_type": "code",
   "execution_count": 13,
   "id": "cad4f69e",
   "metadata": {
    "ExecuteTime": {
     "end_time": "2021-09-08T22:14:53.623160Z",
     "start_time": "2021-09-08T22:14:53.618152Z"
    }
   },
   "outputs": [],
   "source": [
    "def func2(array):\n",
    "    array = (array ** 2) + 3\n",
    "    array = array[array != 4]\n",
    "    array = array / 4\n",
    "    return array"
   ]
  },
  {
   "cell_type": "code",
   "execution_count": 16,
   "id": "7b76cace",
   "metadata": {
    "ExecuteTime": {
     "end_time": "2021-09-08T22:15:28.087904Z",
     "start_time": "2021-09-08T22:15:28.078903Z"
    }
   },
   "outputs": [
    {
     "data": {
      "text/plain": [
       "array([1.75, 3.  , 4.75, 7.  , 9.75])"
      ]
     },
     "execution_count": 16,
     "metadata": {},
     "output_type": "execute_result"
    }
   ],
   "source": [
    "func2(np.array([1,2,3,4,5,6]))"
   ]
  },
  {
   "cell_type": "markdown",
   "id": "2a7ce405",
   "metadata": {},
   "source": [
    "## Questão 4 - Faça uma função que receba dois array, junte os dois e retorne"
   ]
  },
  {
   "cell_type": "code",
   "execution_count": 19,
   "id": "a1287385",
   "metadata": {
    "ExecuteTime": {
     "end_time": "2021-09-08T22:17:21.036073Z",
     "start_time": "2021-09-08T22:17:21.032070Z"
    }
   },
   "outputs": [],
   "source": [
    "def func3(array1, array2):\n",
    "    return np.concatenate((array1, array2))"
   ]
  },
  {
   "cell_type": "code",
   "execution_count": 18,
   "id": "5cbb3a45",
   "metadata": {
    "ExecuteTime": {
     "end_time": "2021-09-08T22:16:20.150483Z",
     "start_time": "2021-09-08T22:16:20.128487Z"
    }
   },
   "outputs": [
    {
     "data": {
      "text/plain": [
       "array([1, 2, 3, 4, 5, 6, 6, 5, 4, 3, 2, 1])"
      ]
     },
     "execution_count": 18,
     "metadata": {},
     "output_type": "execute_result"
    }
   ],
   "source": [
    "func3(np.array([1,2,3,4,5,6]), np.array([6,5,4,3,2,1]))"
   ]
  },
  {
   "cell_type": "markdown",
   "id": "343b73e6",
   "metadata": {},
   "source": [
    "## Questão 5 - Faça uma função que descreva meu array exibindo os seguintes dados com até 3 casas decimais: máx, min, média, desvio padrão (standard deviation). A exibição deve ser da seguinte forma:\n",
    "\n",
    "```\n",
    "******************************\n",
    "Array: array([0, 5, 6, 8, 9])\n",
    "\n",
    "Max: 9\n",
    "Min: 0\n",
    "Media: 5.6\n",
    "Desvio padrao: 3.137\n",
    "******************************\n",
    "```"
   ]
  },
  {
   "cell_type": "code",
   "execution_count": 27,
   "id": "653160fb",
   "metadata": {
    "ExecuteTime": {
     "end_time": "2021-09-08T22:20:17.171675Z",
     "start_time": "2021-09-08T22:20:17.162678Z"
    }
   },
   "outputs": [],
   "source": [
    "def func4(array):\n",
    "    print('*' * 35)\n",
    "    print(array)\n",
    "    print(f'\\nMax: {np.round(array.max(), 3)}\\nMin: {np.round(array.min(), 3)}\\nMedia: {np.round(array.mean(), 3)}\\nDesvio padrao: {np.round(array.std(), 3)}')\n",
    "    print('*' * 35)"
   ]
  },
  {
   "cell_type": "code",
   "execution_count": 28,
   "id": "63fa7d26",
   "metadata": {
    "ExecuteTime": {
     "end_time": "2021-09-08T22:20:18.127500Z",
     "start_time": "2021-09-08T22:20:18.121481Z"
    }
   },
   "outputs": [
    {
     "name": "stdout",
     "output_type": "stream",
     "text": [
      "***********************************\n",
      "[0 5 6 8 9]\n",
      "\n",
      "Max: 9\n",
      "Min: 0\n",
      "Media: 5.6\n",
      "Desvio padrao: 3.137\n",
      "***********************************\n"
     ]
    }
   ],
   "source": [
    "func4(np.array([0, 5, 6, 8, 9]))"
   ]
  }
 ],
 "metadata": {
  "kernelspec": {
   "display_name": "Python 3",
   "language": "python",
   "name": "python3"
  },
  "language_info": {
   "codemirror_mode": {
    "name": "ipython",
    "version": 3
   },
   "file_extension": ".py",
   "mimetype": "text/x-python",
   "name": "python",
   "nbconvert_exporter": "python",
   "pygments_lexer": "ipython3",
   "version": "3.8.3"
  }
 },
 "nbformat": 4,
 "nbformat_minor": 5
}
