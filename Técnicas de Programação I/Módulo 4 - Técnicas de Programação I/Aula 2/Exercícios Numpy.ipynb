{
 "cells": [
  {
   "cell_type": "code",
   "execution_count": 1,
   "id": "38e23ea9",
   "metadata": {
    "ExecuteTime": {
     "end_time": "2021-09-08T22:10:13.222526Z",
     "start_time": "2021-09-08T22:10:12.411487Z"
    }
   },
   "outputs": [],
   "source": [
    "import numpy as np"
   ]
  },
  {
   "cell_type": "markdown",
   "id": "7775640f",
   "metadata": {},
   "source": [
    "## Questão 1 - Crie um numpy array com 10 elementos 0, exceto o elemento de índice 6, que deve ser 20"
   ]
  },
  {
   "cell_type": "markdown",
   "id": "a104a324",
   "metadata": {},
   "source": [
    "## Questão 2 - Crie uma função que receba um numpy array e retorne um array de 20 elementos contendo apenas o maior elemento do array recebido"
   ]
  },
  {
   "cell_type": "markdown",
   "id": "a97eb2e1",
   "metadata": {},
   "source": [
    "## Questão 3 - Faça uma função que receba um array, eleve ele ao quadrado, some 3, pegue apenas o elementos que são diferentes de 4 e, por último, divida por 4. Depois, retorne esse array modificado"
   ]
  },
  {
   "cell_type": "markdown",
   "id": "2a7ce405",
   "metadata": {},
   "source": [
    "## Questão 4 - Faça uma função que receba dois array, junte os dois e retorne"
   ]
  },
  {
   "cell_type": "markdown",
   "id": "343b73e6",
   "metadata": {},
   "source": [
    "## Questão 5 - Faça uma função que descreva meu array exibindo os seguintes dados com até 3 casas decimais: máx, min, média, desvio padrão (standard deviation). A exibição deve ser da seguinte forma:\n",
    "\n",
    "```\n",
    "******************************\n",
    "Array: [0, 5, 6, 8, 9]\n",
    "\n",
    "Max: 9\n",
    "Min: 0\n",
    "Media: 5.6\n",
    "Desvio padrao: 3.137\n",
    "******************************\n",
    "```"
   ]
  },
  {
   "cell_type": "code",
   "execution_count": null,
   "id": "648894a5",
   "metadata": {},
   "outputs": [],
   "source": []
  }
 ],
 "metadata": {
  "kernelspec": {
   "display_name": "Python 3",
   "language": "python",
   "name": "python3"
  },
  "language_info": {
   "codemirror_mode": {
    "name": "ipython",
    "version": 3
   },
   "file_extension": ".py",
   "mimetype": "text/x-python",
   "name": "python",
   "nbconvert_exporter": "python",
   "pygments_lexer": "ipython3",
   "version": "3.8.3"
  }
 },
 "nbformat": 4,
 "nbformat_minor": 5
}
