{
 "cells": [
  {
   "cell_type": "markdown",
   "id": "97e80eb8",
   "metadata": {},
   "source": [
    "## Revisão"
   ]
  },
  {
   "cell_type": "markdown",
   "id": "8784377d",
   "metadata": {},
   "source": [
    "### Git"
   ]
  },
  {
   "cell_type": "markdown",
   "id": "77288447",
   "metadata": {},
   "source": [
    "#### Gitflow básico\n",
    "\n",
    "Adicionar os arquivos editados $\\rightarrow$ Commitar os arquivos $\\rightarrow$ Jogar para o repositório remoto\n",
    "\n",
    "`git add <O QUE VOCE QUER ADICIONAR>` $\\rightarrow$ `git commit -m <MENSAGEM>` $\\rightarrow$ `git push`\n",
    "\n",
    "E caso eu queira trazer as alterações do repositório remoto, usar: `git pull`"
   ]
  },
  {
   "cell_type": "markdown",
   "id": "39dc45b5",
   "metadata": {},
   "source": [
    "Git README: https://docs.github.com/pt/repositories/managing-your-repositorys-settings-and-features/customizing-your-repository/about-readmes\n",
    "\n",
    "GitHub Pages: https://pages.github.com/"
   ]
  },
  {
   "cell_type": "markdown",
   "id": "e2abcb47",
   "metadata": {},
   "source": [
    "### Numpy"
   ]
  },
  {
   "cell_type": "markdown",
   "id": "db317362",
   "metadata": {},
   "source": [
    "#### Array de 1D\n",
    "\n",
    "- Criação de array (np.array, lendo arquivo de texto, np.ones, np.zeros, np.full)\n",
    "- Informações do array (.shape, .size, .ndim)\n",
    "- Indexação e fatiamento (parecido com lista, permitia a aplicação de filtros (arr\\[arr < 5\\])\n",
    "- Funções dos array (.sum, .mean, .std, operações entre arrays e escalares (arr * 3, onde aplicava o broadcast))\n",
    "- Comparamos array com a lista\n",
    "\n",
    "#### Array de 2D\n",
    "\n",
    "- Entendendo o conceito de Axis do numpy\n",
    "- Aplicou o módulo random do numpy (np.random.rand, np.random.randint, np.random.randn)\n",
    "- Cópia do array (a = np.array(\\[1,2\\] $\\rightarrow$ b = a, mas isso está errado pois não estamos copiando o array, o certo seria b = a.copy())\n",
    "- Indexação e fatiamento (dá para fazer parecido com a lista, mas o numpy tem um jeito próprio para você fazer isso com mais de uma dimensão)\n",
    "\n",
    "    arr\\[0\\]\\[2\\] $\\rightarrow$ arr\\[0,2\\] ou arr\\[\\[0\\],\\[2\\]\\]\n",
    "\n",
    "\n",
    "- Operações aplicadas nos eixos do seu array (nesse caso, o axis ele representa o eixo a ser agregado)\n",
    "\n",
    "   arr = \\[\\[1,2,3\\],\\[4,5,6\\]\\]  $\\rightarrow$ somar linhas $\\rightarrow$ arr.sum(axis=1)\n",
    "          \n",
    "   arr = \\[\\[1,2,3\\],\\[4,5,6\\]\\]  $\\rightarrow$ somar colunas $\\rightarrow$ arr.sum(axis=0)\n",
    "\n",
    "\n",
    "- Mudar o formato de uma matriz (.reshape, np.concatenate, np.vstack, np.hstack)\n",
    "- Algumas operações matriciais e algébricas (matriz identidade (np.identity ou np.eye), multiplicação de matriz (.dot ou @), transpor matrizes (.T)"
   ]
  },
  {
   "cell_type": "markdown",
   "id": "acdeddfe",
   "metadata": {},
   "source": [
    "### Pandas"
   ]
  },
  {
   "cell_type": "markdown",
   "id": "f739f7a7",
   "metadata": {},
   "source": [
    "#### Introdução a Series e DataFrame\n",
    "\n",
    "- Conceitos de Series e DataFrame (Series é uma coluna do DataFrame)\n",
    "- Criando Series (podia a partir de estruturas já existentes, como listas ou arrays)\n",
    "- Indexar a Series (loc, iloc)\n",
    "- Operações com Series (muito parecido com numpy)\n",
    "\n",
    "- Criando DataFrames (a partir de dicionários ou listas)\n",
    "- Indexando DataFrames (loc, iloc)\n",
    "- Aplicando filtros (mesma coisa que vimos no numpy)\n",
    "- Operações com Dataframe\n",
    "\n",
    "- Leitura de arquivos e salvamento (pd.read_csv, pd.read_excel, etc e df.to_csv, df.to_excel)\n",
    "\n",
    "#### Manipulação de DataFrames\n",
    "\n",
    "- Duas funções: .value_counts(), .cumsum()\n",
    "\n",
    "- Juntando DataFrames\n",
    "    - Concat: Quando você enfileirar ou empilhar, sem querer usar uma coluna para isso\n",
    "    - Merge: Permite que você junte dois DataFrames por vez usando uma chave (coluna que apareça nos dois)\n",
    "\n",
    "- Pivotando um DataFrame\n",
    "    - df.pivot: bastante limitado, permite apenas usar uma única colunas para index, para columns e para values\n",
    "    - pd.pivot_table: mais flexível, permite que você mais colunas e monte visualizações mais complexas\n",
    "\n",
    "- Desfazendo um pivot\n",
    "    - df.melt()\n",
    "    \n",
    "- cut e qcut: transformando variáveis numéricas em categóricas\n",
    "\n",
    "#### Limpeza e Transformação de dados\n",
    "\n",
    "- Visualização de informações gerais do seu DataFrame:\n",
    "    - df.info(): Permite ver os tipos, quantidade de linhas e colunas e se está faltando dados\n",
    "    - df.describe(): Permite ver estatísticas das colunas (principalmente as numéricas)\n",
    "    - df.dtypes: Mostra o tipo\n",
    "    \n",
    "- Limpeza dos dados\n",
    "    - Remoção de duplicada:\n",
    "        - .drop_duplicates(): removia as duplicadas\n",
    "        - .duplicated(): filtrava as duplicadas para um dataframe\n",
    "    - Remoção de valores nulos:\n",
    "        - .isna() ou .isnull(): gerava valores booleanos para cada elemento\n",
    "        - .dropna(subset=xxxx): removia linhas com valores nulos\n",
    "\n",
    "- Indexação rápida em DataFrame: Diferença em loc/iloc e at/iat, mas o at/iat funcionam apenas para um único valor\n",
    "\n",
    "- Transformação de dados:\n",
    "    - .fillna(): Preenche os dados faltantes, sendo possível passar o preenchimento com a média, mediana, etc\n",
    "    - .replace(): Permite que você substitua valores, mas com o detalhe de que tem que ocorrer a combinação, a não ser que você use um regex\n",
    "    - .map(): ele faz só mapeamento (só funciona em Series)\n",
    "    - .applymap(): versão do map que funciona em DataFrame\n",
    "    - .apply(): Permite que você execute qualquer função ao longo do eixo do seu DataFrame ou Series (com ele é possível fazer map e applymap)\n",
    "    - .get_dummies: ele transforma variáveis categóricas em colunas binárias\n",
    "    \n",
    "    | previsao_tempo |\n",
    "|----------------|\n",
    "| chuva          |\n",
    "| sol            |\n",
    "| normal         |\n",
    "    \n",
    "    Depois de aplicar o get_dummies, nos temos o seguinte:\n",
    "    \n",
    "    | chuva | sol | normal |\n",
    "|-------|-----|--------|\n",
    "| 1     | 0   | 0      |\n",
    "| 0     | 1   | 0      |\n",
    "| 0     | 0   | 1      |"
   ]
  }
 ],
 "metadata": {
  "kernelspec": {
   "display_name": "Python 3",
   "language": "python",
   "name": "python3"
  },
  "language_info": {
   "codemirror_mode": {
    "name": "ipython",
    "version": 3
   },
   "file_extension": ".py",
   "mimetype": "text/x-python",
   "name": "python",
   "nbconvert_exporter": "python",
   "pygments_lexer": "ipython3",
   "version": "3.8.3"
  }
 },
 "nbformat": 4,
 "nbformat_minor": 5
}
