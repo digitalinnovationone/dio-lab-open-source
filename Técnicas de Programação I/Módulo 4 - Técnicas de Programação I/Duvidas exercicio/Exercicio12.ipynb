{
 "cells": [
  {
   "cell_type": "code",
   "execution_count": 14,
   "id": "dd9590e6",
   "metadata": {
    "ExecuteTime": {
     "end_time": "2022-01-28T01:01:57.984371Z",
     "start_time": "2022-01-28T01:01:57.952337Z"
    }
   },
   "outputs": [
    {
     "name": "stdout",
     "output_type": "stream",
     "text": [
      "[ 0  2  3  7  8 10 11 15 16 18 19 23 24 26 27 31]\n",
      "[array(['Amélia', '13', 'F', 'peixes', '1.51', '9', '7', 'True'],\n",
      "      dtype='<U9'), array(['Bruno', '14', 'O', 'leão', '1.6', '4', '10', 'False'], dtype='<U9'), array(['João', '14', 'M', 'escorpião', '1.58', '8', '9', 'True'],\n",
      "      dtype='<U9'), array(['Jordana', '13', 'F', 'escorpião', '1.72', '9', '9', 'False'],\n",
      "      dtype='<U9')]\n",
      "[['Amélia' '13' 'F' 'peixes']\n",
      " ['Bruno' '14' 'O' 'leão']\n",
      " ['João' '14' 'M' 'escorpião']\n",
      " ['Jordana' '13' 'F' 'escorpião']]\n",
      "[['1.51' '9' '7' 'True']\n",
      " ['1.6' '4' '10' 'False']\n",
      " ['1.58' '8' '9' 'True']\n",
      " ['1.72' '9' '9' 'False']]\n",
      "[['Amélia' '13' 'None' 'peixes']\n",
      " ['Bruno' '14' 'O' 'leão']\n",
      " ['João' '14' 'M' 'escorpião']\n",
      " ['Jordana' '13' 'None' 'escorpião']]\n"
     ]
    }
   ],
   "source": [
    "import numpy as np\n",
    "\n",
    "arr = np.array(['Amélia', 13, 'F', 'peixes',     1.51, 9, 7, True,\n",
    "                'Bruno', 14, 'O', 'leão',        1.60, 4, 10, False,\n",
    "                'João', 14, 'M', 'escorpião',    1.58, 8, 9, True,\n",
    "                'Jordana', 13, 'F', 'escorpião', 1.72, 9, 9, False])\n",
    "\n",
    "# a)\n",
    "indices = np.where(np.char.isalpha(arr))[0]\n",
    "print(indices)\n",
    "\n",
    "# b)\n",
    "alunos = np.split(arr, 4)\n",
    "print(alunos)\n",
    "\n",
    "# c)\n",
    "coluna1, coluna2 = np.hsplit(arr.reshape(-1, 8), 2)\n",
    "print(coluna1)\n",
    "print(coluna2)\n",
    "\n",
    "# d)\n",
    "def delete_gender(x):\n",
    "    if int(x[1]) < 14:\n",
    "        x[2] = None\n",
    "    return x\n",
    "\n",
    "sem_genero = np.apply_along_axis(delete_gender, axis=1, arr=coluna1)\n",
    "print(sem_genero)"
   ]
  }
 ],
 "metadata": {
  "kernelspec": {
   "display_name": "Python 3",
   "language": "python",
   "name": "python3"
  },
  "language_info": {
   "codemirror_mode": {
    "name": "ipython",
    "version": 3
   },
   "file_extension": ".py",
   "mimetype": "text/x-python",
   "name": "python",
   "nbconvert_exporter": "python",
   "pygments_lexer": "ipython3",
   "version": "3.8.3"
  }
 },
 "nbformat": 4,
 "nbformat_minor": 5
}
