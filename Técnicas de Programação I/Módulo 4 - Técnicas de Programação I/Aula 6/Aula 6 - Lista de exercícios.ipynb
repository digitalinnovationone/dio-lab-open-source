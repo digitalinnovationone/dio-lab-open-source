{
 "cells": [
  {
   "cell_type": "markdown",
   "id": "07cc37e7",
   "metadata": {},
   "source": [
    "### Aula 6: Exercícios\n",
    "\n",
    "Para estes exercícios, iremos utilizar a base fictícia de funcionários criada por cientistas de dados da IBM. Essa base foi editada a fins de atender aos exercícios.\n",
    "\n",
    "**Variáveis:**\n",
    "- **Age:** Idade\n",
    "- **Attrition:** Se saiu da empresa (Sim ou não)\n",
    "- **BusinessTravel:** Frequência de viagens a trabalho\n",
    "- **DailyRate:** Custo do funcionário por dia\n",
    "- **Department:** Departamento\n",
    "- **DistanceFromHome:** Distância do trabalho até a casa do funcionário\n",
    "- **Education:** Nível de educação:\n",
    "    - 1: 'Below College'\n",
    "    - 2: 'College'\n",
    "    - 3: 'Bachelor'\n",
    "    - 4: 'Master'\n",
    "    - 5: 'Doctor'\n",
    "- **EducationField:** Área da educação\n",
    "- **EmployeeNumber:** ID do funcionário\n",
    "- **EnvironmentSatisfaction:** Satisfação com o ambiente de trabalho:\n",
    "    - 1: 'Low'\n",
    "    - 2: 'Medium'\n",
    "    - 3: 'High'\n",
    "    - 4: 'Very High'\n",
    "- **Gender:** Gênero\n",
    "- **HourlyRate:** Valor/hora\n",
    "- **JobInvolvement:** Nível de envolvimento com o trabalho (psicologica e emocionalmente):\n",
    "    - 1: 'Low'\n",
    "    - 2: 'Medium'\n",
    "    - 3: 'High'\n",
    "    - 4: 'Very High'\n",
    "- **JobLevel:** Nível do funcionário\n",
    "- **JobRole:** Cargo\n",
    "- **JobSatisfaction:** Nível de satisfação com o trabalho:\n",
    "    - 1: 'Low'\n",
    "    - 2: 'Medium'\n",
    "    - 3: 'High'\n",
    "    - 4: 'Very High'\n",
    "- **MaritalStatus:** Estado Civil\n",
    "- **NumCompaniesWorked:** Número de empresas que já trabalhou\n",
    "- **PercentSalaryHike:** Aumento salarial (%)\n",
    "- **PerformanceRating:** Nível de performance:\n",
    "    - 1: 'Low'\n",
    "    - 2: 'Good'\n",
    "    - 3: 'Excellent'\n",
    "    - 4: 'Outstanding'\n",
    "- **RelationshipSatisfaction:** Satisfação de relacionamento:\n",
    "    - 1: 'Low'\n",
    "    - 2: 'Medium'\n",
    "    - 3: 'High'\n",
    "    - 4: 'Very High'\n",
    "- **TotalWorkingYears:** Número de anos trabalhados\n",
    "- **TrainingTimesLastYear:** Número de treinamentos no ano anterior\n",
    "- **WorkLifeBalance:** Equilíbrio da vida profissional\n",
    "    - 1: 'Bad'\n",
    "    - 2: 'Good'\n",
    "    - 3: 'Better'\n",
    "    - 4: 'Best'\n",
    "- **YearsAtCompany:** Anos na empresa\n",
    "- **YearsInCurrentRole:** Anos na posição atual\n",
    "- **YearsSinceLastPromotion:** Anos desde a última promoção\n",
    "- **YearsWithCurrManager:** Anos com o mesmo gestor"
   ]
  },
  {
   "cell_type": "code",
   "execution_count": 1,
   "id": "20c52d95",
   "metadata": {},
   "outputs": [],
   "source": [
    "import pandas as pd\n",
    "import numpy as np"
   ]
  },
  {
   "cell_type": "code",
   "execution_count": 2,
   "id": "a913f18c",
   "metadata": {},
   "outputs": [],
   "source": [
    "df = pd.read_csv('./data/IBM_Employees.csv')"
   ]
  },
  {
   "cell_type": "markdown",
   "id": "a4813ff0",
   "metadata": {},
   "source": [
    "### Exercício 1:\n",
    "\n",
    "a) Indique o número de linhas, variáveis e porcentagem de missings por variável no dataset de funcionários da IBM. \n",
    "\n",
    "b) Discuta com o grupo a melhor forma de tratar cada tipo de missings e aplique a estratégia escolhida."
   ]
  },
  {
   "cell_type": "markdown",
   "id": "eea0e3d0",
   "metadata": {},
   "source": [
    "### Exercício 2:\n",
    "\n",
    "Algumas variáveis estão apresentadas por números de categoria. Transforme cada valor dessas variáveis para seus respectivos textos, conforme métodos abaixo:\n",
    "\n",
    "a) Substituia pelas classes de texto os valores numéricos da variável **Education** utilizando a função *np.where*.\n",
    "\n",
    "b) Substituia pelas classes de texto os valores numéricos da variável **PerformanceRating** utilizando a função *replace*.\n",
    "\n",
    "c) Substituia pelas classes de texto os valores numéricos da variável **WorkLifeBalance** utilizando a função *map*.\n",
    "\n",
    "d) Substituia pelas classes de texto os valores numéricos das variáveis **EnvironmentSatisfaction**, **JobInvolvement**, **JobSatisfaction** e **RelationshipSatisfaction** utilizando a função *applymap*."
   ]
  },
  {
   "cell_type": "markdown",
   "id": "76ee215d",
   "metadata": {},
   "source": [
    "### Exercício 3\n",
    "\n",
    "Transforme a variável *educationfield* em dummies."
   ]
  },
  {
   "cell_type": "code",
   "execution_count": null,
   "id": "7bf3752f",
   "metadata": {},
   "outputs": [],
   "source": []
  }
 ],
 "metadata": {
  "kernelspec": {
   "display_name": "Python 3",
   "language": "python",
   "name": "python3"
  },
  "language_info": {
   "codemirror_mode": {
    "name": "ipython",
    "version": 3
   },
   "file_extension": ".py",
   "mimetype": "text/x-python",
   "name": "python",
   "nbconvert_exporter": "python",
   "pygments_lexer": "ipython3",
   "version": "3.7.4"
  }
 },
 "nbformat": 4,
 "nbformat_minor": 5
}
