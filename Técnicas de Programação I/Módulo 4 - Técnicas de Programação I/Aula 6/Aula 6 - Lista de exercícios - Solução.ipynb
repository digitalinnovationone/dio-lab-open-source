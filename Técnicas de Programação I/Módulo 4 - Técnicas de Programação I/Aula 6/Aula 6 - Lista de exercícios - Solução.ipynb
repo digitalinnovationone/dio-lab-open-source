{
 "cells": [
  {
   "cell_type": "markdown",
   "id": "59586816",
   "metadata": {},
   "source": [
    "### Aula 6: Exercícios\n",
    "\n",
    "Para estes exercícios, iremos utilizar a base fictícia de funcionários criada por cientistas de dados da IBM. Essa base foi editada a fins de atender aos exercícios.\n",
    "\n",
    "**Variáveis:**\n",
    "- **Age:** Idade\n",
    "- **Attrition:** Se saiu da empresa (Sim ou não)\n",
    "- **BusinessTravel:** Frequência de viagens a trabalho\n",
    "- **DailyRate:** Custo do funcionário por dia\n",
    "- **Department:** Departamento\n",
    "- **DistanceFromHome:** Distância do trabalho até a casa do funcionário\n",
    "- **Education:** Nível de educação:\n",
    "    - 1: 'Below College'\n",
    "    - 2: 'College'\n",
    "    - 3: 'Bachelor'\n",
    "    - 4: 'Master'\n",
    "    - 5: 'Doctor'\n",
    "- **EducationField:** Área da educação\n",
    "- **EmployeeNumber:** ID do funcionário\n",
    "- **EnvironmentSatisfaction:** Satisfação com o ambiente de trabalho:\n",
    "    - 1: 'Low'\n",
    "    - 2: 'Medium'\n",
    "    - 3: 'High'\n",
    "    - 4: 'Very High'\n",
    "- **Gender:** Gênero\n",
    "- **HourlyRate:** Valor/hora\n",
    "- **JobInvolvement:** Nível de envolvimento com o trabalho (psicologica e emocionalmente):\n",
    "    - 1: 'Low'\n",
    "    - 2: 'Medium'\n",
    "    - 3: 'High'\n",
    "    - 4: 'Very High'\n",
    "- **JobLevel:** Nível do funcionário\n",
    "- **JobRole:** Cargo\n",
    "- **JobSatisfaction:** Nível de satisfação com o trabalho:\n",
    "    - 1: 'Low'\n",
    "    - 2: 'Medium'\n",
    "    - 3: 'High'\n",
    "    - 4: 'Very High'\n",
    "- **MaritalStatus:** Estado Civil\n",
    "- **NumCompaniesWorked:** Número de empresas que já trabalhou\n",
    "- **PercentSalaryHike:** Aumento salarial (%)\n",
    "- **PerformanceRating:** Nível de performance:\n",
    "    - 1: 'Low'\n",
    "    - 2: 'Good'\n",
    "    - 3: 'Excellent'\n",
    "    - 4: 'Outstanding'\n",
    "- **RelationshipSatisfaction:** Satisfação de relacionamento:\n",
    "    - 1: 'Low'\n",
    "    - 2: 'Medium'\n",
    "    - 3: 'High'\n",
    "    - 4: 'Very High'\n",
    "- **TotalWorkingYears:** Número de anos trabalhados\n",
    "- **TrainingTimesLastYear:** Número de treinamentos no ano anterior\n",
    "- **WorkLifeBalance:** Equilíbrio da vida profissional\n",
    "    - 1: 'Bad'\n",
    "    - 2: 'Good'\n",
    "    - 3: 'Better'\n",
    "    - 4: 'Best'\n",
    "- **YearsAtCompany:** Anos na empresa\n",
    "- **YearsInCurrentRole:** Anos na posição atual\n",
    "- **YearsSinceLastPromotion:** Anos desde a última promoção\n",
    "- **YearsWithCurrManager:** Anos com o mesmo gestor"
   ]
  },
  {
   "cell_type": "code",
   "execution_count": 1,
   "id": "301bc79d",
   "metadata": {},
   "outputs": [],
   "source": [
    "import pandas as pd\n",
    "import numpy as np"
   ]
  },
  {
   "cell_type": "code",
   "execution_count": 6,
   "id": "f1d0bfe9",
   "metadata": {},
   "outputs": [],
   "source": [
    "df = pd.read_csv('./data/IBM_Employees.csv')"
   ]
  },
  {
   "cell_type": "markdown",
   "id": "378b40a2",
   "metadata": {},
   "source": [
    "### Exercício 1:\n",
    "\n",
    "a) Indique o número de linhas, variáveis e porcentagem de missings por variável no dataset de funcionários da IBM. \n",
    "\n",
    "b) Discuta com o grupo a melhor forma de tratar cada tipo de missings e aplique a estratégia escolhida."
   ]
  },
  {
   "cell_type": "code",
   "execution_count": 3,
   "id": "8a50729b",
   "metadata": {},
   "outputs": [
    {
     "name": "stdout",
     "output_type": "stream",
     "text": [
      "Número de linhas: 1470\n",
      "Número de colunas: 28\n",
      "\n",
      "Porcentagem de missings:\n",
      "\n",
      "Age                          0.000000\n",
      "Attrition                    0.000000\n",
      "BusinessTravel               0.000000\n",
      "DailyRate                    3.129252\n",
      "Department                   0.000000\n",
      "DistanceFromHome            23.605442\n",
      "Education                    0.000000\n",
      "EducationField               0.000000\n",
      "EmployeeNumber               0.000000\n",
      "EnvironmentSatisfaction      0.000000\n",
      "Gender                       0.000000\n",
      "HourlyRate                   0.000000\n",
      "JobInvolvement               0.000000\n",
      "JobLevel                     0.000000\n",
      "JobRole                      0.000000\n",
      "JobSatisfaction              0.000000\n",
      "MaritalStatus                0.000000\n",
      "NumCompaniesWorked           0.000000\n",
      "PercentSalaryHike            0.000000\n",
      "PerformanceRating            0.000000\n",
      "RelationshipSatisfaction     0.000000\n",
      "TotalWorkingYears            0.000000\n",
      "TrainingTimesLastYear        0.000000\n",
      "WorkLifeBalance              8.571429\n",
      "YearsAtCompany               0.000000\n",
      "YearsInCurrentRole           0.000000\n",
      "YearsSinceLastPromotion      0.000000\n",
      "YearsWithCurrManager         0.000000\n",
      "dtype: float64\n"
     ]
    }
   ],
   "source": [
    "## a)\n",
    "\n",
    "print('Número de linhas: ' + str(df.shape[0]))\n",
    "print('Número de colunas: ' + str(df.shape[1])+'\\n')\n",
    "\n",
    "print(\"Porcentagem de missings:\\n\")\n",
    "print(df.isnull().sum() * 100 / len(df))"
   ]
  },
  {
   "cell_type": "code",
   "execution_count": 4,
   "id": "4a2c9e2d",
   "metadata": {},
   "outputs": [],
   "source": [
    "## b) \n",
    "## As variáveis que apresentam missing são: DailyRate; DistanceFromHome; WorkLifeBalance.\n",
    "## As variáveis DistanceFromHome e WorkLifeBalance são muito pessoais, sendo difícil realizar qualquer tipo de substituição.\n",
    "## Já para a variável DailyRate, pode fazer sentido estimá-la pela média do DailyRate de pessoas no mesmo cargo e nível.\n",
    "## Melhor ainda se considerarmos também que essas pessoas estejam com tempo de cargo e empresa parecidos.\n",
    "\n",
    "## substituindo os valores de DailyRate:\n",
    "def daily_rate_estimate(df_agrupado):\n",
    "    df_agrupado['DailyRate'].fillna(df_agrupado['DailyRate'].mean(), inplace = True)\n",
    "    return df_agrupado\n",
    "\n",
    "df_ajustado = df.groupby(['JobLevel', 'JobRole']).apply(daily_rate_estimate)"
   ]
  },
  {
   "cell_type": "code",
   "execution_count": 5,
   "id": "9d8aed2d",
   "metadata": {},
   "outputs": [],
   "source": [
    "## Para as demais variáveis, se não for prejudicar análises, podemos excluir as observações\n",
    "df_ajustado.dropna(axis=0, inplace = True)"
   ]
  },
  {
   "cell_type": "code",
   "execution_count": 6,
   "id": "af75bd76",
   "metadata": {},
   "outputs": [],
   "source": [
    "df_ajustado.reset_index(drop=True, inplace=True)"
   ]
  },
  {
   "cell_type": "markdown",
   "id": "e6a16d3f",
   "metadata": {},
   "source": [
    "### Exercício 2:\n",
    "\n",
    "Algumas variáveis estão apresentadas por números de categoria. Transforme cada valor dessas variáveis para seus respectivos textos, conforme métodos abaixo:\n",
    "\n",
    "a) Substituia pelas classes de texto os valores numéricos da variável **Education** utilizando a função *apply*.\n",
    "\n",
    "b) Substituia pelas classes de texto os valores numéricos da variável **PerformanceRating** utilizando a função *replace*.\n",
    "\n",
    "c) Substituia pelas classes de texto os valores numéricos da variável **WorkLifeBalance** utilizando a função *map*.\n",
    "\n",
    "d) Substituia pelas classes de texto os valores numéricos das variáveis **EnvironmentSatisfaction**, **JobInvolvement**, **JobSatisfaction** e **RelationshipSatisfaction** utilizando a função *applymap*."
   ]
  },
  {
   "cell_type": "code",
   "execution_count": 7,
   "id": "6fb79c6d",
   "metadata": {},
   "outputs": [],
   "source": [
    "## a)\n",
    "def education_levels(x):\n",
    "    dict_replace = {1: 'Below College',\n",
    "                    2: 'College',\n",
    "                    3: 'Bachelor',\n",
    "                    4: 'Master',\n",
    "                    5: 'Doctor'}\n",
    "    \n",
    "    return dict_replace[x]\n",
    "\n",
    "df['Education_levels'] = df['Education'].apply(education_levels)"
   ]
  },
  {
   "cell_type": "code",
   "execution_count": 8,
   "id": "f365bbc4",
   "metadata": {},
   "outputs": [],
   "source": [
    "## b)\n",
    "df['PerformanceRating_levels'] = df['PerformanceRating'].replace({1: 'Low',\n",
    "                                                                  2: 'Good',\n",
    "                                                                  3: 'Excellent',\n",
    "                                                                  4: 'Outstanding'})"
   ]
  },
  {
   "cell_type": "code",
   "execution_count": 10,
   "id": "d1510b59",
   "metadata": {},
   "outputs": [],
   "source": [
    "## c)\n",
    "dict_replace_wlb = {1: 'Bad',\n",
    "                    2: 'Good',\n",
    "                    3: 'Better',\n",
    "                    4: 'Best'}\n",
    "df['WorkLifeBalance_levels'] = df['WorkLifeBalance'].map(dict_replace_wlb)"
   ]
  },
  {
   "cell_type": "code",
   "execution_count": 11,
   "id": "ecf683a6",
   "metadata": {},
   "outputs": [],
   "source": [
    "## d)\n",
    "\n",
    "def replace_levels(x):\n",
    "    dict_replace_d = {1: 'Low',\n",
    "                      2: 'Medium',\n",
    "                      3: 'High',\n",
    "                      4: 'Very High'}\n",
    "    return dict_replace_d[x]\n",
    "\n",
    "df[['EnvironmentSatisfaction_levels', 'JobInvolvement_levels', 'JobSatisfaction_levels', 'RelationshipSatisfaction_levels']] = df[['EnvironmentSatisfaction', 'JobInvolvement', 'JobSatisfaction', 'RelationshipSatisfaction']].applymap(replace_levels)\n"
   ]
  },
  {
   "cell_type": "markdown",
   "id": "b7052f44",
   "metadata": {},
   "source": [
    "### Exercício 3\n",
    "\n",
    "Transforme a variável *educationfield* em dummies."
   ]
  },
  {
   "cell_type": "code",
   "execution_count": 9,
   "id": "5ebc864c",
   "metadata": {},
   "outputs": [],
   "source": [
    "df = pd.get_dummies(df, columns=['EducationField'])"
   ]
  },
  {
   "cell_type": "code",
   "execution_count": null,
   "id": "754c4e09",
   "metadata": {},
   "outputs": [],
   "source": []
  }
 ],
 "metadata": {
  "kernelspec": {
   "display_name": "Python 3",
   "language": "python",
   "name": "python3"
  },
  "language_info": {
   "codemirror_mode": {
    "name": "ipython",
    "version": 3
   },
   "file_extension": ".py",
   "mimetype": "text/x-python",
   "name": "python",
   "nbconvert_exporter": "python",
   "pygments_lexer": "ipython3",
   "version": "3.7.4"
  }
 },
 "nbformat": 4,
 "nbformat_minor": 5
}
