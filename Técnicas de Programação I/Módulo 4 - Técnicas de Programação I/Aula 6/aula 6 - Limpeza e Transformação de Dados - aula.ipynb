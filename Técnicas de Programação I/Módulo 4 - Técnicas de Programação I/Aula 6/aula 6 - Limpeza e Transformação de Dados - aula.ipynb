{
 "cells": [
  {
   "cell_type": "markdown",
   "id": "8cc3540a",
   "metadata": {},
   "source": [
    "## Aula 6 - Limpeza e Transformação de Dados com Pandas\n",
    "\n",
    "**Documentação:** https://pandas.pydata.org/docs/index.html\n",
    "\n",
    "**Conteúdo da aula:**\n",
    "\n",
    "- Análise geral de uma tabela pandas\n",
    "    - info\n",
    "    - describe\n",
    "    - dtypes\n",
    "    - duplicates\n",
    "    - NA (notna, isna)\n",
    "- Excluindo e substituindo dados\n",
    "    - Drop\n",
    "    - Fill\n",
    "    - replace\n",
    "    - np.where\n",
    "    - map\n",
    "    - apply\n",
    "\n",
    "\n",
    "**Dataset de exemplo:** titanic (https://github.com/pandas-dev/pandas/blob/main/doc/data/titanic.csv)\n",
    "\n",
    "- **PassengerId:** Identificação de cada passageiro.\n",
    "- **Survived:** Recebe 0 se o passageiro não sobreviveu; 1 caso tenha sobrevivido.\n",
    "- **Pclass:** Classe do passageiro (1 = 1ª classe, 2 = 2ª classe, 3 = 3ª classe).\n",
    "- **Name:** Nome do passageiro.\n",
    "- **Sex:** Gênero do passageiro.\n",
    "- **Age:** Idade do passageiro.\n",
    "- **SibSp:** Número de irmãos/esposo(a) a bordo.\n",
    "- **Parch:** Número de pais/filhos a bordo.\n",
    "- **Ticket:** Número da passagem do passageiro.\n",
    "- **Fare:** Valor da taxa do passageiro.\n",
    "- **Cabin:** Número da cabine do passageiro.\n",
    "- **Embarked:** Porto de embarcação do passageiro (C = Cherbourg, Q = Queenstown, S = Southampton).\n"
   ]
  },
  {
   "cell_type": "code",
   "execution_count": 1,
   "id": "b098a0b5",
   "metadata": {},
   "outputs": [],
   "source": [
    "import pandas as pd\n",
    "import numpy as np"
   ]
  },
  {
   "cell_type": "code",
   "execution_count": 2,
   "id": "8ad2ede3",
   "metadata": {},
   "outputs": [],
   "source": [
    "df = pd.read_csv('data/titanic.csv')"
   ]
  },
  {
   "cell_type": "markdown",
   "id": "dcc39b82",
   "metadata": {},
   "source": [
    "### Limpeza dos dados\n",
    "\n",
    "O que seria limpar os dados? Quais seriam os benefícios?\n",
    "\n",
    "A limpeza de um conjunto de dados é fundamental na análise e ciência de dados:\n",
    "- Campos com valores faltantes podem ser um problema na hora de executar alguma função;\n",
    "- Campos com valores atípicos podem causar erros de interpretação, gerando problemas nas tomadas de decisão;\n",
    "- Podem haver colunas com tipos de dados diferentes do esperado, impedindo algumas funções de serem utilizadas. Exemplo: Coluna de idade como string -> Impede de calcular corretamente a idade média, máxima, mínima... \n",
    "\n",
    "A fim de mitigar esses problemas, podemos \"limpar\" os dados de diversas formas. Mas primeiro, temos que identificá-los!"
   ]
  },
  {
   "cell_type": "code",
   "execution_count": null,
   "id": "caf6dd34",
   "metadata": {},
   "outputs": [],
   "source": []
  },
  {
   "cell_type": "markdown",
   "id": "fb5714c2",
   "metadata": {},
   "source": [
    "**Funções usuais para analisar informações gerais de uma tabela:**\n",
    "- 'dtypes' - exibe o tipo das variáveis\n",
    "- 'describe' - descreve, por default, as colunas numéricas com estatísticas pontuais (contagem, média, desvio padrão, valor mínimo, quartis e valor máximo)\n",
    "- 'info' - Retorna várias informações a respeito da tabela: número de linhas e colunas, tipo das colunas, quantidade de valores não nulos por coluna, resumo da quantidade de colunas por tipo de dados.\n",
    "- 'isnull' ou 'isna' - verifica se tem valores nulos\n",
    "- 'notnull' ou 'notna' - verifica se tem valores não nulos\n",
    "- 'duplicated' - exibe dados duplicados em um conjunto de dados\n",
    "- 'unique' - Mostra os valores únicos de uma serie (coluna)\n",
    "- 'nunique' - devolve o número de valores únicos de uma série (coluna)\n",
    "- 'value_counts' - devolve a contagem que cada valor da série (coluna) aparece\n"
   ]
  },
  {
   "cell_type": "code",
   "execution_count": null,
   "id": "09fbee7d",
   "metadata": {},
   "outputs": [],
   "source": []
  },
  {
   "cell_type": "markdown",
   "id": "00a09fc1",
   "metadata": {},
   "source": [
    "### Substituindo e eliminando valores valores\n",
    "\n",
    "Após identificar valores que devam ser tratados, podemos usar muitas abordagens:\n",
    "- Eliminar a informação (cortar a linha)\n",
    "- Eliminar a coluna (Se uma variável tiver muitos valores estranhos/missings, podemos optar por não usá-la na análise - mas temos que ter CUIDADO, pois pode ser uma informação importante).\n",
    "- Substituir valores por um valor fixo (0, média, etc)\n",
    "- Substituir valores por condições (utilizando funções)"
   ]
  },
  {
   "cell_type": "markdown",
   "id": "706406fc",
   "metadata": {},
   "source": [
    "**Algumas funções para eliminar linhas e/ou colunas:**\n",
    "- drop_duplicates\n",
    "- dropna\n",
    "- drop"
   ]
  },
  {
   "cell_type": "code",
   "execution_count": null,
   "id": "5d673c90",
   "metadata": {},
   "outputs": [],
   "source": []
  },
  {
   "cell_type": "markdown",
   "id": "4fe43df1",
   "metadata": {},
   "source": [
    "**Algumas formas de substiuir valores:**\n",
    "- De forma pontual\n",
    "    - Seleção por posição (iloc; iat)\n",
    "    - Seleção por label (loc; at)\n",
    "- Função \"fillna\": Uma forma rápida de substituir valores nulos\n",
    "- Por regras/funções mais complexas \n",
    "    - np.where\n",
    "    - replace\n",
    "    - map\n",
    "    - apply\n",
    "    - applymap"
   ]
  },
  {
   "cell_type": "markdown",
   "id": "bd2f5645",
   "metadata": {},
   "source": [
    "## Replace x np.where x map x apply x applymap\n",
    "\n",
    "Utilizam dicionários e/ou funções para facilitar a transformação de dados a partir de regras.\n",
    "\n",
    "![map_apply_applymap](images/map_apply_applymap.png)\n",
    "\n",
    "**Map:** Utilizado quando queremos alterar os valores de uma Series\n",
    "\n",
    "**Apply:** Utilizado tanto em dataframes como Series\n",
    "\n",
    "**Applymap:** Utilizado apenas em dataframes, quando queremos alterar todos os valores (não importa a coluna)"
   ]
  },
  {
   "cell_type": "code",
   "execution_count": null,
   "id": "28d65dab",
   "metadata": {},
   "outputs": [],
   "source": []
  },
  {
   "cell_type": "markdown",
   "id": "cbc87875",
   "metadata": {},
   "source": [
    "### Variáveis Dummies\n",
    "\n",
    "Chamamos de variáveis dummies as variáveis binárias (0 ou 1) criadas para representar categorias. \n",
    "\n",
    "**Exemplo:**\n",
    "Uma variável 'Gênero Feminino' com valores binários (0 ou 1) indica se a observação é do gênero feminino (1) ou não (0). \n",
    "\n",
    "Função get_dummies: Converte variáveis categóricas em variáveis dummies"
   ]
  },
  {
   "cell_type": "code",
   "execution_count": null,
   "id": "afeb5e86",
   "metadata": {},
   "outputs": [],
   "source": []
  }
 ],
 "metadata": {
  "kernelspec": {
   "display_name": "Python 3",
   "language": "python",
   "name": "python3"
  },
  "language_info": {
   "codemirror_mode": {
    "name": "ipython",
    "version": 3
   },
   "file_extension": ".py",
   "mimetype": "text/x-python",
   "name": "python",
   "nbconvert_exporter": "python",
   "pygments_lexer": "ipython3",
   "version": "3.7.4"
  }
 },
 "nbformat": 4,
 "nbformat_minor": 5
}
