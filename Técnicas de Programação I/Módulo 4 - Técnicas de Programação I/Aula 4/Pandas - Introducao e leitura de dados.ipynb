{
 "cells": [
  {
   "cell_type": "markdown",
   "id": "04c9c09c",
   "metadata": {},
   "source": [
    "## Pandas\n",
    "\n",
    "Pandas é uma das bibliotecas mais utilizadas no mundo de Data Science. Sua aceitação se dá pelo fato de trabalhar com dados tabulares (tabelas, planilhas, etc) e permitir que você processe, visualize, limpe, entre outras operações, essas tabelas (tudo isso usando Python!).\n",
    "No pandas, chamamos uma tabela de **DataFrame**.\n",
    "\n",
    "![](imgs/img1.JPG)\n",
    "\n",
    "Além disso, outro fator importante é quantidade de diferentes fontes de dados que ele permite que você leia e escreva, sendo possível ler, processar e salvar rapidamente.\n",
    "\n",
    "![](imgs/img2.JPG)\n",
    "\n",
    "**Como instalar**\n",
    "\n",
    "- ```bash\n",
    "conda install pandas\n",
    "```\n",
    "\n",
    "Ou\n",
    "\n",
    "- ```bash\n",
    "pip install pandas\n",
    "```\n",
    "\n",
    "\n",
    "**Documentação**\n",
    "\n",
    "- https://pandas.pydata.org/\n",
    "- https://pandas.pydata.org/Pandas_Cheat_Sheet.pdf"
   ]
  },
  {
   "cell_type": "code",
   "execution_count": 3,
   "id": "e6e69bd8",
   "metadata": {
    "ExecuteTime": {
     "end_time": "2022-01-18T15:37:09.995176Z",
     "start_time": "2022-01-18T15:37:09.990216Z"
    }
   },
   "outputs": [],
   "source": [
    "import pandas as pd\n",
    "import numpy as np"
   ]
  },
  {
   "cell_type": "markdown",
   "id": "95638c01",
   "metadata": {},
   "source": [
    "## Series e DataFrames"
   ]
  },
  {
   "cell_type": "markdown",
   "id": "c37266d7",
   "metadata": {},
   "source": [
    "### Series\n",
    "\n",
    "Cada coluna em um DataFrame é uma Series.\n",
    "\n",
    "Quais estruturas seriam semelhantes a uma coluna?\n",
    "\n",
    "- Lista\n",
    "- Numpy array\n",
    "\n",
    "Mas como criar uma Series?"
   ]
  },
  {
   "cell_type": "code",
   "execution_count": 5,
   "id": "5e9d17ec",
   "metadata": {
    "ExecuteTime": {
     "end_time": "2022-01-18T15:37:20.835462Z",
     "start_time": "2022-01-18T15:37:20.828500Z"
    }
   },
   "outputs": [
    {
     "data": {
      "text/plain": [
       "([1, 2, 3, 4, 5], array([1, 2, 3, 4, 5]))"
      ]
     },
     "execution_count": 5,
     "metadata": {},
     "output_type": "execute_result"
    }
   ],
   "source": [
    "lista = [1, 2, 3, 4, 5]\n",
    "\n",
    "array_numpy = np.array(lista)\n",
    "\n",
    "lista, array_numpy"
   ]
  },
  {
   "cell_type": "code",
   "execution_count": 9,
   "id": "2d560b04",
   "metadata": {
    "ExecuteTime": {
     "end_time": "2022-01-18T15:38:04.683028Z",
     "start_time": "2022-01-18T15:38:04.671030Z"
    }
   },
   "outputs": [
    {
     "data": {
      "text/plain": [
       "0    1\n",
       "1    2\n",
       "2    3\n",
       "3    4\n",
       "4    5\n",
       "dtype: int64"
      ]
     },
     "execution_count": 9,
     "metadata": {},
     "output_type": "execute_result"
    }
   ],
   "source": [
    "pd.Series(data=lista)"
   ]
  },
  {
   "cell_type": "code",
   "execution_count": 10,
   "id": "21431bfd",
   "metadata": {
    "ExecuteTime": {
     "end_time": "2022-01-18T15:38:05.029026Z",
     "start_time": "2022-01-18T15:38:05.009064Z"
    }
   },
   "outputs": [
    {
     "data": {
      "text/plain": [
       "0    1.0\n",
       "1    2.0\n",
       "2    3.0\n",
       "3    4.0\n",
       "4    5.0\n",
       "dtype: float64"
      ]
     },
     "execution_count": 10,
     "metadata": {},
     "output_type": "execute_result"
    }
   ],
   "source": [
    "# Podemos usar o dtype para especificar o tipo\n",
    "pd.Series(data=lista, dtype=float)"
   ]
  },
  {
   "cell_type": "markdown",
   "id": "5c4b0847",
   "metadata": {},
   "source": [
    "Mas o que são esses números que apareceram no lado esquerdo? São o índice!\n",
    "\n",
    "Toda Series, caso você não passe o índice, gera um automaticamente."
   ]
  },
  {
   "cell_type": "code",
   "execution_count": 13,
   "id": "041486f1",
   "metadata": {
    "ExecuteTime": {
     "end_time": "2022-01-18T15:39:36.984982Z",
     "start_time": "2022-01-18T15:39:36.979988Z"
    }
   },
   "outputs": [
    {
     "data": {
      "text/plain": [
       "RangeIndex(start=0, stop=5, step=1)"
      ]
     },
     "execution_count": 13,
     "metadata": {},
     "output_type": "execute_result"
    }
   ],
   "source": [
    "minha_series = pd.Series(data=lista)\n",
    "minha_series.index"
   ]
  },
  {
   "cell_type": "code",
   "execution_count": 31,
   "id": "338a3c89",
   "metadata": {
    "ExecuteTime": {
     "end_time": "2022-01-18T15:42:29.138860Z",
     "start_time": "2022-01-18T15:42:29.109790Z"
    }
   },
   "outputs": [
    {
     "data": {
      "text/plain": [
       "primeira    1\n",
       "segunda     2\n",
       "terceira    3\n",
       "quarta      4\n",
       "quinta      5\n",
       "dtype: int64"
      ]
     },
     "execution_count": 31,
     "metadata": {},
     "output_type": "execute_result"
    }
   ],
   "source": [
    "# Caso você queira especificar um índice\n",
    "minha_series = pd.Series(data=lista, index=['primeira', 'segunda', 'terceira', 'quarta', 'quinta'])\n",
    "minha_series"
   ]
  },
  {
   "cell_type": "markdown",
   "id": "04f5e5eb",
   "metadata": {
    "ExecuteTime": {
     "end_time": "2022-01-18T15:41:09.164431Z",
     "start_time": "2022-01-18T15:41:09.142430Z"
    }
   },
   "source": [
    "Para indexar uma Series (pegar uma linha) temos duas opções que são as mais recomendadas:\n",
    "\n",
    "- loc: Pega pelo índice nominal (o que você passa) --> Inclusivo\n",
    "- iloc: Pega pelo índice numérico --> Exclusivo"
   ]
  },
  {
   "cell_type": "code",
   "execution_count": 38,
   "id": "03913d6e",
   "metadata": {
    "ExecuteTime": {
     "end_time": "2022-01-18T15:44:30.229823Z",
     "start_time": "2022-01-18T15:44:30.204496Z"
    }
   },
   "outputs": [
    {
     "data": {
      "text/plain": [
       "primeira    1\n",
       "segunda     2\n",
       "dtype: int64"
      ]
     },
     "execution_count": 38,
     "metadata": {},
     "output_type": "execute_result"
    }
   ],
   "source": [
    "minha_series.loc[\"primeira\": \"segunda\"]"
   ]
  },
  {
   "cell_type": "code",
   "execution_count": 39,
   "id": "6a298c11",
   "metadata": {
    "ExecuteTime": {
     "end_time": "2022-01-18T15:44:34.146316Z",
     "start_time": "2022-01-18T15:44:34.132314Z"
    }
   },
   "outputs": [
    {
     "data": {
      "text/plain": [
       "primeira    1\n",
       "dtype: int64"
      ]
     },
     "execution_count": 39,
     "metadata": {},
     "output_type": "execute_result"
    }
   ],
   "source": [
    "minha_series.iloc[0:1]"
   ]
  },
  {
   "cell_type": "markdown",
   "id": "81fa3024",
   "metadata": {},
   "source": [
    "### Operações com Series"
   ]
  },
  {
   "cell_type": "code",
   "execution_count": 43,
   "id": "abd9d66e",
   "metadata": {
    "ExecuteTime": {
     "end_time": "2022-01-18T15:46:27.566300Z",
     "start_time": "2022-01-18T15:46:27.560264Z"
    }
   },
   "outputs": [],
   "source": [
    "minha_series = pd.Series(data=lista)"
   ]
  },
  {
   "cell_type": "code",
   "execution_count": 44,
   "id": "0ed989c8",
   "metadata": {
    "ExecuteTime": {
     "end_time": "2022-01-18T15:46:27.741568Z",
     "start_time": "2022-01-18T15:46:27.734564Z"
    }
   },
   "outputs": [
    {
     "data": {
      "text/plain": [
       "[1, 2, 3, 4, 5]"
      ]
     },
     "execution_count": 44,
     "metadata": {},
     "output_type": "execute_result"
    }
   ],
   "source": [
    "# Voltar para lista\n",
    "minha_series.tolist()"
   ]
  },
  {
   "cell_type": "code",
   "execution_count": 45,
   "id": "511e962e",
   "metadata": {
    "ExecuteTime": {
     "end_time": "2022-01-18T15:46:27.850882Z",
     "start_time": "2022-01-18T15:46:27.844880Z"
    }
   },
   "outputs": [
    {
     "data": {
      "text/plain": [
       "15"
      ]
     },
     "execution_count": 45,
     "metadata": {},
     "output_type": "execute_result"
    }
   ],
   "source": [
    "# soma todos os valores da Series\n",
    "minha_series.sum()"
   ]
  },
  {
   "cell_type": "code",
   "execution_count": 46,
   "id": "aae4fc3e",
   "metadata": {
    "ExecuteTime": {
     "end_time": "2022-01-18T15:46:28.117855Z",
     "start_time": "2022-01-18T15:46:28.096854Z"
    }
   },
   "outputs": [
    {
     "data": {
      "text/plain": [
       "5"
      ]
     },
     "execution_count": 46,
     "metadata": {},
     "output_type": "execute_result"
    }
   ],
   "source": [
    "# quantidade de linhas \n",
    "minha_series.count()"
   ]
  },
  {
   "cell_type": "code",
   "execution_count": 47,
   "id": "b773c2d8",
   "metadata": {
    "ExecuteTime": {
     "end_time": "2022-01-18T15:46:28.213283Z",
     "start_time": "2022-01-18T15:46:28.199313Z"
    }
   },
   "outputs": [
    {
     "data": {
      "text/plain": [
       "3.0"
      ]
     },
     "execution_count": 47,
     "metadata": {},
     "output_type": "execute_result"
    }
   ],
   "source": [
    "# média da Series\n",
    "minha_series.mean()"
   ]
  },
  {
   "cell_type": "code",
   "execution_count": 48,
   "id": "4e852f96",
   "metadata": {
    "ExecuteTime": {
     "end_time": "2022-01-18T15:46:28.665471Z",
     "start_time": "2022-01-18T15:46:28.656473Z"
    }
   },
   "outputs": [
    {
     "data": {
      "text/plain": [
       "1.5811388300841898"
      ]
     },
     "execution_count": 48,
     "metadata": {},
     "output_type": "execute_result"
    }
   ],
   "source": [
    "# desvio padrão da Series\n",
    "minha_series.std()"
   ]
  },
  {
   "cell_type": "code",
   "execution_count": 42,
   "id": "48013465",
   "metadata": {
    "ExecuteTime": {
     "end_time": "2022-01-18T15:46:25.183887Z",
     "start_time": "2022-01-18T15:46:25.167930Z"
    }
   },
   "outputs": [
    {
     "data": {
      "text/plain": [
       "array([1, 2, 3, 4, 5], dtype=int64)"
      ]
     },
     "execution_count": 42,
     "metadata": {},
     "output_type": "execute_result"
    }
   ],
   "source": [
    "# desvio padrão da Series\n",
    "minha_series.unique()"
   ]
  },
  {
   "cell_type": "code",
   "execution_count": 51,
   "id": "bed1461b",
   "metadata": {
    "ExecuteTime": {
     "end_time": "2022-01-18T15:54:25.409453Z",
     "start_time": "2022-01-18T15:54:25.389232Z"
    }
   },
   "outputs": [
    {
     "data": {
      "text/plain": [
       "0    1\n",
       "1    2\n",
       "2    3\n",
       "dtype: int64"
      ]
     },
     "execution_count": 51,
     "metadata": {},
     "output_type": "execute_result"
    }
   ],
   "source": [
    "# Podemos fazer filtros\n",
    "minha_series[minha_series < 4]"
   ]
  },
  {
   "cell_type": "markdown",
   "id": "d4a13b92",
   "metadata": {},
   "source": [
    "### Operações entre Series"
   ]
  },
  {
   "cell_type": "code",
   "execution_count": 52,
   "id": "9063df96",
   "metadata": {
    "ExecuteTime": {
     "end_time": "2022-01-18T17:16:56.339514Z",
     "start_time": "2022-01-18T17:16:56.323775Z"
    }
   },
   "outputs": [
    {
     "data": {
      "text/plain": [
       "0     1\n",
       "1     4\n",
       "2     9\n",
       "3    16\n",
       "4    25\n",
       "dtype: int64"
      ]
     },
     "execution_count": 52,
     "metadata": {},
     "output_type": "execute_result"
    }
   ],
   "source": [
    "minha_series_2 = pd.Series(data=[elemento**2 for elemento in lista])\n",
    "minha_series_2"
   ]
  },
  {
   "cell_type": "code",
   "execution_count": 53,
   "id": "194900e4",
   "metadata": {
    "ExecuteTime": {
     "end_time": "2022-01-18T17:17:07.362697Z",
     "start_time": "2022-01-18T17:17:07.349582Z"
    }
   },
   "outputs": [
    {
     "data": {
      "text/plain": [
       "0     2\n",
       "1     6\n",
       "2    12\n",
       "3    20\n",
       "4    30\n",
       "dtype: int64"
      ]
     },
     "execution_count": 53,
     "metadata": {},
     "output_type": "execute_result"
    }
   ],
   "source": [
    "minha_series + minha_series_2"
   ]
  },
  {
   "cell_type": "code",
   "execution_count": 54,
   "id": "3e8bc89d",
   "metadata": {
    "ExecuteTime": {
     "end_time": "2022-01-18T17:17:13.460395Z",
     "start_time": "2022-01-18T17:17:13.446690Z"
    }
   },
   "outputs": [
    {
     "data": {
      "text/plain": [
       "0     2\n",
       "1     4\n",
       "2     6\n",
       "3     8\n",
       "4    10\n",
       "dtype: int64"
      ]
     },
     "execution_count": 54,
     "metadata": {},
     "output_type": "execute_result"
    }
   ],
   "source": [
    "minha_series * 2"
   ]
  },
  {
   "cell_type": "code",
   "execution_count": 55,
   "id": "536141e3",
   "metadata": {
    "ExecuteTime": {
     "end_time": "2022-01-18T17:17:21.094007Z",
     "start_time": "2022-01-18T17:17:21.079687Z"
    }
   },
   "outputs": [
    {
     "data": {
      "text/plain": [
       "0     0\n",
       "1    -2\n",
       "2    -6\n",
       "3   -12\n",
       "4   -20\n",
       "dtype: int64"
      ]
     },
     "execution_count": 55,
     "metadata": {},
     "output_type": "execute_result"
    }
   ],
   "source": [
    "minha_series - minha_series_2"
   ]
  },
  {
   "cell_type": "code",
   "execution_count": 56,
   "id": "f4dd8a2e",
   "metadata": {
    "ExecuteTime": {
     "end_time": "2022-01-18T17:17:33.843643Z",
     "start_time": "2022-01-18T17:17:33.830134Z"
    }
   },
   "outputs": [
    {
     "data": {
      "text/plain": [
       "0      1\n",
       "1      8\n",
       "2     27\n",
       "3     64\n",
       "4    125\n",
       "dtype: int64"
      ]
     },
     "execution_count": 56,
     "metadata": {},
     "output_type": "execute_result"
    }
   ],
   "source": [
    "# Podemos gerar um nova Series\n",
    "minha_series_3 = minha_series * minha_series_2\n",
    "minha_series_3"
   ]
  },
  {
   "cell_type": "markdown",
   "id": "fa8c4078",
   "metadata": {},
   "source": [
    "### Dataframes\n",
    "\n",
    "É um conjunto de Series. Pode ser entendido como uma tabela."
   ]
  },
  {
   "cell_type": "code",
   "execution_count": 57,
   "id": "4ae3668f",
   "metadata": {
    "ExecuteTime": {
     "end_time": "2022-01-18T17:18:26.749868Z",
     "start_time": "2022-01-18T17:18:26.704026Z"
    }
   },
   "outputs": [
    {
     "data": {
      "text/html": [
       "<div>\n",
       "<style scoped>\n",
       "    .dataframe tbody tr th:only-of-type {\n",
       "        vertical-align: middle;\n",
       "    }\n",
       "\n",
       "    .dataframe tbody tr th {\n",
       "        vertical-align: top;\n",
       "    }\n",
       "\n",
       "    .dataframe thead th {\n",
       "        text-align: right;\n",
       "    }\n",
       "</style>\n",
       "<table border=\"1\" class=\"dataframe\">\n",
       "  <thead>\n",
       "    <tr style=\"text-align: right;\">\n",
       "      <th></th>\n",
       "      <th>coluna1</th>\n",
       "      <th>coluna2</th>\n",
       "      <th>coluna 3</th>\n",
       "    </tr>\n",
       "  </thead>\n",
       "  <tbody>\n",
       "    <tr>\n",
       "      <th>0</th>\n",
       "      <td>1</td>\n",
       "      <td>1</td>\n",
       "      <td>1</td>\n",
       "    </tr>\n",
       "    <tr>\n",
       "      <th>1</th>\n",
       "      <td>2</td>\n",
       "      <td>4</td>\n",
       "      <td>8</td>\n",
       "    </tr>\n",
       "    <tr>\n",
       "      <th>2</th>\n",
       "      <td>3</td>\n",
       "      <td>9</td>\n",
       "      <td>27</td>\n",
       "    </tr>\n",
       "    <tr>\n",
       "      <th>3</th>\n",
       "      <td>4</td>\n",
       "      <td>16</td>\n",
       "      <td>64</td>\n",
       "    </tr>\n",
       "    <tr>\n",
       "      <th>4</th>\n",
       "      <td>5</td>\n",
       "      <td>25</td>\n",
       "      <td>125</td>\n",
       "    </tr>\n",
       "  </tbody>\n",
       "</table>\n",
       "</div>"
      ],
      "text/plain": [
       "   coluna1  coluna2  coluna 3\n",
       "0        1        1         1\n",
       "1        2        4         8\n",
       "2        3        9        27\n",
       "3        4       16        64\n",
       "4        5       25       125"
      ]
     },
     "execution_count": 57,
     "metadata": {},
     "output_type": "execute_result"
    }
   ],
   "source": [
    "df = pd.DataFrame()\n",
    "\n",
    "# ao invés de Series, podemos atribuir uma lista para a coluna\n",
    "df['coluna1'] = [1, 2, 3, 4, 5]\n",
    "df['coluna2'] = minha_series_2\n",
    "df['coluna 3'] = minha_series_3\n",
    "df"
   ]
  },
  {
   "cell_type": "code",
   "execution_count": 58,
   "id": "f70fa16c",
   "metadata": {
    "ExecuteTime": {
     "end_time": "2022-01-18T17:18:41.758402Z",
     "start_time": "2022-01-18T17:18:41.745628Z"
    }
   },
   "outputs": [
    {
     "data": {
      "text/html": [
       "<div>\n",
       "<style scoped>\n",
       "    .dataframe tbody tr th:only-of-type {\n",
       "        vertical-align: middle;\n",
       "    }\n",
       "\n",
       "    .dataframe tbody tr th {\n",
       "        vertical-align: top;\n",
       "    }\n",
       "\n",
       "    .dataframe thead th {\n",
       "        text-align: right;\n",
       "    }\n",
       "</style>\n",
       "<table border=\"1\" class=\"dataframe\">\n",
       "  <thead>\n",
       "    <tr style=\"text-align: right;\">\n",
       "      <th></th>\n",
       "      <th>coluna1</th>\n",
       "      <th>coluna2</th>\n",
       "      <th>coluna 3</th>\n",
       "    </tr>\n",
       "  </thead>\n",
       "  <tbody>\n",
       "    <tr>\n",
       "      <th>0</th>\n",
       "      <td>1</td>\n",
       "      <td>1</td>\n",
       "      <td>1</td>\n",
       "    </tr>\n",
       "    <tr>\n",
       "      <th>1</th>\n",
       "      <td>2</td>\n",
       "      <td>4</td>\n",
       "      <td>8</td>\n",
       "    </tr>\n",
       "    <tr>\n",
       "      <th>2</th>\n",
       "      <td>3</td>\n",
       "      <td>9</td>\n",
       "      <td>27</td>\n",
       "    </tr>\n",
       "    <tr>\n",
       "      <th>3</th>\n",
       "      <td>4</td>\n",
       "      <td>16</td>\n",
       "      <td>64</td>\n",
       "    </tr>\n",
       "    <tr>\n",
       "      <th>4</th>\n",
       "      <td>5</td>\n",
       "      <td>25</td>\n",
       "      <td>125</td>\n",
       "    </tr>\n",
       "  </tbody>\n",
       "</table>\n",
       "</div>"
      ],
      "text/plain": [
       "   coluna1  coluna2  coluna 3\n",
       "0        1        1         1\n",
       "1        2        4         8\n",
       "2        3        9        27\n",
       "3        4       16        64\n",
       "4        5       25       125"
      ]
     },
     "execution_count": 58,
     "metadata": {},
     "output_type": "execute_result"
    }
   ],
   "source": [
    "dicionario = {\n",
    "    'coluna1': [1, 2, 3, 4, 5],\n",
    "    'coluna2': [1, 4, 9, 16, 25],\n",
    "    'coluna 3': [1, 8, 27, 64, 125]\n",
    "}\n",
    "df = pd.DataFrame(dicionario)\n",
    "df"
   ]
  },
  {
   "cell_type": "code",
   "execution_count": 59,
   "id": "25bd8bbc",
   "metadata": {
    "ExecuteTime": {
     "end_time": "2022-01-18T17:19:10.088861Z",
     "start_time": "2022-01-18T17:19:10.065164Z"
    }
   },
   "outputs": [
    {
     "data": {
      "text/html": [
       "<div>\n",
       "<style scoped>\n",
       "    .dataframe tbody tr th:only-of-type {\n",
       "        vertical-align: middle;\n",
       "    }\n",
       "\n",
       "    .dataframe tbody tr th {\n",
       "        vertical-align: top;\n",
       "    }\n",
       "\n",
       "    .dataframe thead th {\n",
       "        text-align: right;\n",
       "    }\n",
       "</style>\n",
       "<table border=\"1\" class=\"dataframe\">\n",
       "  <thead>\n",
       "    <tr style=\"text-align: right;\">\n",
       "      <th></th>\n",
       "      <th>0</th>\n",
       "      <th>1</th>\n",
       "      <th>2</th>\n",
       "      <th>3</th>\n",
       "      <th>4</th>\n",
       "    </tr>\n",
       "  </thead>\n",
       "  <tbody>\n",
       "    <tr>\n",
       "      <th>0</th>\n",
       "      <td>1</td>\n",
       "      <td>2</td>\n",
       "      <td>3</td>\n",
       "      <td>4</td>\n",
       "      <td>5</td>\n",
       "    </tr>\n",
       "    <tr>\n",
       "      <th>1</th>\n",
       "      <td>1</td>\n",
       "      <td>4</td>\n",
       "      <td>9</td>\n",
       "      <td>16</td>\n",
       "      <td>25</td>\n",
       "    </tr>\n",
       "    <tr>\n",
       "      <th>2</th>\n",
       "      <td>1</td>\n",
       "      <td>8</td>\n",
       "      <td>27</td>\n",
       "      <td>64</td>\n",
       "      <td>125</td>\n",
       "    </tr>\n",
       "  </tbody>\n",
       "</table>\n",
       "</div>"
      ],
      "text/plain": [
       "   0  1   2   3    4\n",
       "0  1  2   3   4    5\n",
       "1  1  4   9  16   25\n",
       "2  1  8  27  64  125"
      ]
     },
     "execution_count": 59,
     "metadata": {},
     "output_type": "execute_result"
    }
   ],
   "source": [
    "lista = [[1, 2, 3, 4, 5], [1, 4, 9, 16, 25], [1, 8, 27, 64, 125]]\n",
    "df = pd.DataFrame(lista, )\n",
    "df"
   ]
  },
  {
   "cell_type": "markdown",
   "id": "ce5ac6cb",
   "metadata": {},
   "source": [
    "### Acessando DataFrames\n",
    "\n",
    "- loc\n",
    "- iloc"
   ]
  },
  {
   "cell_type": "code",
   "execution_count": 79,
   "id": "0e884754",
   "metadata": {
    "ExecuteTime": {
     "end_time": "2022-01-18T18:36:52.049317Z",
     "start_time": "2022-01-18T18:36:52.034551Z"
    }
   },
   "outputs": [
    {
     "data": {
      "text/html": [
       "<div>\n",
       "<style scoped>\n",
       "    .dataframe tbody tr th:only-of-type {\n",
       "        vertical-align: middle;\n",
       "    }\n",
       "\n",
       "    .dataframe tbody tr th {\n",
       "        vertical-align: top;\n",
       "    }\n",
       "\n",
       "    .dataframe thead th {\n",
       "        text-align: right;\n",
       "    }\n",
       "</style>\n",
       "<table border=\"1\" class=\"dataframe\">\n",
       "  <thead>\n",
       "    <tr style=\"text-align: right;\">\n",
       "      <th></th>\n",
       "      <th>coluna1</th>\n",
       "      <th>coluna2</th>\n",
       "      <th>coluna 3</th>\n",
       "    </tr>\n",
       "  </thead>\n",
       "  <tbody>\n",
       "    <tr>\n",
       "      <th>0</th>\n",
       "      <td>1</td>\n",
       "      <td>1</td>\n",
       "      <td>1</td>\n",
       "    </tr>\n",
       "    <tr>\n",
       "      <th>1</th>\n",
       "      <td>2</td>\n",
       "      <td>4</td>\n",
       "      <td>8</td>\n",
       "    </tr>\n",
       "    <tr>\n",
       "      <th>2</th>\n",
       "      <td>3</td>\n",
       "      <td>9</td>\n",
       "      <td>27</td>\n",
       "    </tr>\n",
       "    <tr>\n",
       "      <th>3</th>\n",
       "      <td>4</td>\n",
       "      <td>16</td>\n",
       "      <td>64</td>\n",
       "    </tr>\n",
       "    <tr>\n",
       "      <th>4</th>\n",
       "      <td>5</td>\n",
       "      <td>25</td>\n",
       "      <td>125</td>\n",
       "    </tr>\n",
       "  </tbody>\n",
       "</table>\n",
       "</div>"
      ],
      "text/plain": [
       "   coluna1  coluna2  coluna 3\n",
       "0        1        1         1\n",
       "1        2        4         8\n",
       "2        3        9        27\n",
       "3        4       16        64\n",
       "4        5       25       125"
      ]
     },
     "execution_count": 79,
     "metadata": {},
     "output_type": "execute_result"
    }
   ],
   "source": [
    "dicionario = {\n",
    "    'coluna1': [1, 2, 3, 4, 5],\n",
    "    'coluna2': [1, 4, 9, 16, 25],\n",
    "    'coluna 3': [1, 8, 27, 64, 125]\n",
    "}\n",
    "df = pd.DataFrame(dicionario)\n",
    "df"
   ]
  },
  {
   "cell_type": "code",
   "execution_count": 81,
   "id": "83d05cd8",
   "metadata": {
    "ExecuteTime": {
     "end_time": "2022-01-18T18:37:14.634200Z",
     "start_time": "2022-01-18T18:37:14.619581Z"
    }
   },
   "outputs": [
    {
     "data": {
      "text/plain": [
       "coluna1     1\n",
       "coluna2     1\n",
       "coluna 3    1\n",
       "Name: 0, dtype: int64"
      ]
     },
     "execution_count": 81,
     "metadata": {},
     "output_type": "execute_result"
    }
   ],
   "source": [
    "df.loc[0]"
   ]
  },
  {
   "cell_type": "code",
   "execution_count": 82,
   "id": "50e3e512",
   "metadata": {
    "ExecuteTime": {
     "end_time": "2022-01-18T18:37:31.277857Z",
     "start_time": "2022-01-18T18:37:31.269011Z"
    }
   },
   "outputs": [
    {
     "data": {
      "text/plain": [
       "1"
      ]
     },
     "execution_count": 82,
     "metadata": {},
     "output_type": "execute_result"
    }
   ],
   "source": [
    "df.loc[0, 'coluna1']"
   ]
  },
  {
   "cell_type": "code",
   "execution_count": 83,
   "id": "70455949",
   "metadata": {
    "ExecuteTime": {
     "end_time": "2022-01-18T18:37:48.539175Z",
     "start_time": "2022-01-18T18:37:48.515527Z"
    }
   },
   "outputs": [
    {
     "data": {
      "text/html": [
       "<div>\n",
       "<style scoped>\n",
       "    .dataframe tbody tr th:only-of-type {\n",
       "        vertical-align: middle;\n",
       "    }\n",
       "\n",
       "    .dataframe tbody tr th {\n",
       "        vertical-align: top;\n",
       "    }\n",
       "\n",
       "    .dataframe thead th {\n",
       "        text-align: right;\n",
       "    }\n",
       "</style>\n",
       "<table border=\"1\" class=\"dataframe\">\n",
       "  <thead>\n",
       "    <tr style=\"text-align: right;\">\n",
       "      <th></th>\n",
       "      <th>coluna1</th>\n",
       "      <th>coluna 3</th>\n",
       "    </tr>\n",
       "  </thead>\n",
       "  <tbody>\n",
       "    <tr>\n",
       "      <th>0</th>\n",
       "      <td>1</td>\n",
       "      <td>1</td>\n",
       "    </tr>\n",
       "    <tr>\n",
       "      <th>1</th>\n",
       "      <td>2</td>\n",
       "      <td>8</td>\n",
       "    </tr>\n",
       "  </tbody>\n",
       "</table>\n",
       "</div>"
      ],
      "text/plain": [
       "   coluna1  coluna 3\n",
       "0        1         1\n",
       "1        2         8"
      ]
     },
     "execution_count": 83,
     "metadata": {},
     "output_type": "execute_result"
    }
   ],
   "source": [
    "df.loc[0:1, ['coluna1', 'coluna 3']]"
   ]
  },
  {
   "cell_type": "code",
   "execution_count": 84,
   "id": "8fd0a479",
   "metadata": {
    "ExecuteTime": {
     "end_time": "2022-01-18T18:38:06.489256Z",
     "start_time": "2022-01-18T18:38:06.476686Z"
    }
   },
   "outputs": [
    {
     "data": {
      "text/plain": [
       "coluna1     1\n",
       "coluna2     1\n",
       "coluna 3    1\n",
       "Name: 0, dtype: int64"
      ]
     },
     "execution_count": 84,
     "metadata": {},
     "output_type": "execute_result"
    }
   ],
   "source": [
    "df.iloc[0]"
   ]
  },
  {
   "cell_type": "code",
   "execution_count": 88,
   "id": "10b90ca7",
   "metadata": {
    "ExecuteTime": {
     "end_time": "2022-01-18T18:38:33.592429Z",
     "start_time": "2022-01-18T18:38:33.578802Z"
    }
   },
   "outputs": [
    {
     "data": {
      "text/html": [
       "<div>\n",
       "<style scoped>\n",
       "    .dataframe tbody tr th:only-of-type {\n",
       "        vertical-align: middle;\n",
       "    }\n",
       "\n",
       "    .dataframe tbody tr th {\n",
       "        vertical-align: top;\n",
       "    }\n",
       "\n",
       "    .dataframe thead th {\n",
       "        text-align: right;\n",
       "    }\n",
       "</style>\n",
       "<table border=\"1\" class=\"dataframe\">\n",
       "  <thead>\n",
       "    <tr style=\"text-align: right;\">\n",
       "      <th></th>\n",
       "      <th>coluna1</th>\n",
       "      <th>coluna2</th>\n",
       "      <th>coluna 3</th>\n",
       "    </tr>\n",
       "  </thead>\n",
       "  <tbody>\n",
       "    <tr>\n",
       "      <th>0</th>\n",
       "      <td>1</td>\n",
       "      <td>1</td>\n",
       "      <td>1</td>\n",
       "    </tr>\n",
       "    <tr>\n",
       "      <th>1</th>\n",
       "      <td>2</td>\n",
       "      <td>4</td>\n",
       "      <td>8</td>\n",
       "    </tr>\n",
       "  </tbody>\n",
       "</table>\n",
       "</div>"
      ],
      "text/plain": [
       "   coluna1  coluna2  coluna 3\n",
       "0        1        1         1\n",
       "1        2        4         8"
      ]
     },
     "execution_count": 88,
     "metadata": {},
     "output_type": "execute_result"
    }
   ],
   "source": [
    "# Tudo deve ser índice\n",
    "df.iloc[0:2, :]"
   ]
  },
  {
   "cell_type": "markdown",
   "id": "5a3c79df",
   "metadata": {},
   "source": [
    "### Filtros"
   ]
  },
  {
   "cell_type": "code",
   "execution_count": 92,
   "id": "13f5e8fc",
   "metadata": {
    "ExecuteTime": {
     "end_time": "2022-01-18T18:41:03.594663Z",
     "start_time": "2022-01-18T18:41:03.579726Z"
    }
   },
   "outputs": [
    {
     "data": {
      "text/plain": [
       "0     True\n",
       "1     True\n",
       "2    False\n",
       "3    False\n",
       "4    False\n",
       "Name: coluna1, dtype: bool"
      ]
     },
     "execution_count": 92,
     "metadata": {},
     "output_type": "execute_result"
    }
   ],
   "source": [
    "df['coluna1'] < 3"
   ]
  },
  {
   "cell_type": "code",
   "execution_count": 93,
   "id": "ceebc2f3",
   "metadata": {
    "ExecuteTime": {
     "end_time": "2022-01-18T18:41:15.951650Z",
     "start_time": "2022-01-18T18:41:15.936966Z"
    }
   },
   "outputs": [
    {
     "data": {
      "text/html": [
       "<div>\n",
       "<style scoped>\n",
       "    .dataframe tbody tr th:only-of-type {\n",
       "        vertical-align: middle;\n",
       "    }\n",
       "\n",
       "    .dataframe tbody tr th {\n",
       "        vertical-align: top;\n",
       "    }\n",
       "\n",
       "    .dataframe thead th {\n",
       "        text-align: right;\n",
       "    }\n",
       "</style>\n",
       "<table border=\"1\" class=\"dataframe\">\n",
       "  <thead>\n",
       "    <tr style=\"text-align: right;\">\n",
       "      <th></th>\n",
       "      <th>coluna1</th>\n",
       "      <th>coluna2</th>\n",
       "      <th>coluna 3</th>\n",
       "      <th>coluna4</th>\n",
       "    </tr>\n",
       "  </thead>\n",
       "  <tbody>\n",
       "    <tr>\n",
       "      <th>0</th>\n",
       "      <td>1</td>\n",
       "      <td>1</td>\n",
       "      <td>1</td>\n",
       "      <td>2</td>\n",
       "    </tr>\n",
       "    <tr>\n",
       "      <th>1</th>\n",
       "      <td>2</td>\n",
       "      <td>4</td>\n",
       "      <td>8</td>\n",
       "      <td>6</td>\n",
       "    </tr>\n",
       "  </tbody>\n",
       "</table>\n",
       "</div>"
      ],
      "text/plain": [
       "   coluna1  coluna2  coluna 3  coluna4\n",
       "0        1        1         1        2\n",
       "1        2        4         8        6"
      ]
     },
     "execution_count": 93,
     "metadata": {},
     "output_type": "execute_result"
    }
   ],
   "source": [
    "df[df['coluna1'] < 3]"
   ]
  },
  {
   "cell_type": "markdown",
   "id": "1b59b2ff",
   "metadata": {},
   "source": [
    "### Operações com DataFrame"
   ]
  },
  {
   "cell_type": "code",
   "execution_count": 89,
   "id": "921ccfe0",
   "metadata": {
    "ExecuteTime": {
     "end_time": "2022-01-18T18:40:05.746985Z",
     "start_time": "2022-01-18T18:40:05.735050Z"
    }
   },
   "outputs": [
    {
     "data": {
      "text/html": [
       "<div>\n",
       "<style scoped>\n",
       "    .dataframe tbody tr th:only-of-type {\n",
       "        vertical-align: middle;\n",
       "    }\n",
       "\n",
       "    .dataframe tbody tr th {\n",
       "        vertical-align: top;\n",
       "    }\n",
       "\n",
       "    .dataframe thead th {\n",
       "        text-align: right;\n",
       "    }\n",
       "</style>\n",
       "<table border=\"1\" class=\"dataframe\">\n",
       "  <thead>\n",
       "    <tr style=\"text-align: right;\">\n",
       "      <th></th>\n",
       "      <th>coluna1</th>\n",
       "      <th>coluna2</th>\n",
       "      <th>coluna 3</th>\n",
       "    </tr>\n",
       "  </thead>\n",
       "  <tbody>\n",
       "    <tr>\n",
       "      <th>0</th>\n",
       "      <td>3</td>\n",
       "      <td>3</td>\n",
       "      <td>3</td>\n",
       "    </tr>\n",
       "    <tr>\n",
       "      <th>1</th>\n",
       "      <td>6</td>\n",
       "      <td>12</td>\n",
       "      <td>24</td>\n",
       "    </tr>\n",
       "    <tr>\n",
       "      <th>2</th>\n",
       "      <td>9</td>\n",
       "      <td>27</td>\n",
       "      <td>81</td>\n",
       "    </tr>\n",
       "    <tr>\n",
       "      <th>3</th>\n",
       "      <td>12</td>\n",
       "      <td>48</td>\n",
       "      <td>192</td>\n",
       "    </tr>\n",
       "    <tr>\n",
       "      <th>4</th>\n",
       "      <td>15</td>\n",
       "      <td>75</td>\n",
       "      <td>375</td>\n",
       "    </tr>\n",
       "  </tbody>\n",
       "</table>\n",
       "</div>"
      ],
      "text/plain": [
       "   coluna1  coluna2  coluna 3\n",
       "0        3        3         3\n",
       "1        6       12        24\n",
       "2        9       27        81\n",
       "3       12       48       192\n",
       "4       15       75       375"
      ]
     },
     "execution_count": 89,
     "metadata": {},
     "output_type": "execute_result"
    }
   ],
   "source": [
    "df * 3"
   ]
  },
  {
   "cell_type": "code",
   "execution_count": 90,
   "id": "72975c8f",
   "metadata": {
    "ExecuteTime": {
     "end_time": "2022-01-18T18:40:27.779914Z",
     "start_time": "2022-01-18T18:40:27.765918Z"
    }
   },
   "outputs": [],
   "source": [
    "df['coluna4'] = df['coluna1'] + df['coluna2']"
   ]
  },
  {
   "cell_type": "code",
   "execution_count": 91,
   "id": "817aaf40",
   "metadata": {
    "ExecuteTime": {
     "end_time": "2022-01-18T18:40:30.439614Z",
     "start_time": "2022-01-18T18:40:30.429715Z"
    }
   },
   "outputs": [
    {
     "data": {
      "text/html": [
       "<div>\n",
       "<style scoped>\n",
       "    .dataframe tbody tr th:only-of-type {\n",
       "        vertical-align: middle;\n",
       "    }\n",
       "\n",
       "    .dataframe tbody tr th {\n",
       "        vertical-align: top;\n",
       "    }\n",
       "\n",
       "    .dataframe thead th {\n",
       "        text-align: right;\n",
       "    }\n",
       "</style>\n",
       "<table border=\"1\" class=\"dataframe\">\n",
       "  <thead>\n",
       "    <tr style=\"text-align: right;\">\n",
       "      <th></th>\n",
       "      <th>coluna1</th>\n",
       "      <th>coluna2</th>\n",
       "      <th>coluna 3</th>\n",
       "      <th>coluna4</th>\n",
       "    </tr>\n",
       "  </thead>\n",
       "  <tbody>\n",
       "    <tr>\n",
       "      <th>0</th>\n",
       "      <td>1</td>\n",
       "      <td>1</td>\n",
       "      <td>1</td>\n",
       "      <td>2</td>\n",
       "    </tr>\n",
       "    <tr>\n",
       "      <th>1</th>\n",
       "      <td>2</td>\n",
       "      <td>4</td>\n",
       "      <td>8</td>\n",
       "      <td>6</td>\n",
       "    </tr>\n",
       "    <tr>\n",
       "      <th>2</th>\n",
       "      <td>3</td>\n",
       "      <td>9</td>\n",
       "      <td>27</td>\n",
       "      <td>12</td>\n",
       "    </tr>\n",
       "    <tr>\n",
       "      <th>3</th>\n",
       "      <td>4</td>\n",
       "      <td>16</td>\n",
       "      <td>64</td>\n",
       "      <td>20</td>\n",
       "    </tr>\n",
       "    <tr>\n",
       "      <th>4</th>\n",
       "      <td>5</td>\n",
       "      <td>25</td>\n",
       "      <td>125</td>\n",
       "      <td>30</td>\n",
       "    </tr>\n",
       "  </tbody>\n",
       "</table>\n",
       "</div>"
      ],
      "text/plain": [
       "   coluna1  coluna2  coluna 3  coluna4\n",
       "0        1        1         1        2\n",
       "1        2        4         8        6\n",
       "2        3        9        27       12\n",
       "3        4       16        64       20\n",
       "4        5       25       125       30"
      ]
     },
     "execution_count": 91,
     "metadata": {},
     "output_type": "execute_result"
    }
   ],
   "source": [
    "df"
   ]
  },
  {
   "cell_type": "markdown",
   "id": "a3eac11d",
   "metadata": {},
   "source": [
    "## Lendo dados\n",
    "\n",
    "Vamos aprender aqui o ```read_csv``` e o ```read_excel```. Claro que existem outros, mas escolhemos esses por ser os mais utilizados (o uso entre eles é bem parecido)."
   ]
  },
  {
   "cell_type": "markdown",
   "id": "dee948c3",
   "metadata": {},
   "source": [
    "![](imgs/img2.JPG)"
   ]
  },
  {
   "cell_type": "markdown",
   "id": "a33cb31c",
   "metadata": {},
   "source": [
    "### read_csv"
   ]
  },
  {
   "cell_type": "code",
   "execution_count": 74,
   "id": "74a46aaa",
   "metadata": {
    "ExecuteTime": {
     "end_time": "2022-01-18T18:18:59.102656Z",
     "start_time": "2022-01-18T18:18:59.062374Z"
    }
   },
   "outputs": [
    {
     "data": {
      "text/html": [
       "<div>\n",
       "<style scoped>\n",
       "    .dataframe tbody tr th:only-of-type {\n",
       "        vertical-align: middle;\n",
       "    }\n",
       "\n",
       "    .dataframe tbody tr th {\n",
       "        vertical-align: top;\n",
       "    }\n",
       "\n",
       "    .dataframe thead th {\n",
       "        text-align: right;\n",
       "    }\n",
       "</style>\n",
       "<table border=\"1\" class=\"dataframe\">\n",
       "  <thead>\n",
       "    <tr style=\"text-align: right;\">\n",
       "      <th></th>\n",
       "      <th>PassengerId</th>\n",
       "      <th>Survived</th>\n",
       "      <th>Pclass</th>\n",
       "      <th>Name</th>\n",
       "      <th>Sex</th>\n",
       "      <th>Age</th>\n",
       "      <th>SibSp</th>\n",
       "      <th>Parch</th>\n",
       "      <th>Ticket</th>\n",
       "      <th>Fare</th>\n",
       "      <th>Cabin</th>\n",
       "      <th>Embarked</th>\n",
       "    </tr>\n",
       "  </thead>\n",
       "  <tbody>\n",
       "    <tr>\n",
       "      <th>0</th>\n",
       "      <td>1</td>\n",
       "      <td>0</td>\n",
       "      <td>3</td>\n",
       "      <td>Braund, Mr. Owen Harris</td>\n",
       "      <td>male</td>\n",
       "      <td>22.0</td>\n",
       "      <td>1</td>\n",
       "      <td>0</td>\n",
       "      <td>A/5 21171</td>\n",
       "      <td>7.2500</td>\n",
       "      <td>NaN</td>\n",
       "      <td>S</td>\n",
       "    </tr>\n",
       "    <tr>\n",
       "      <th>1</th>\n",
       "      <td>2</td>\n",
       "      <td>1</td>\n",
       "      <td>1</td>\n",
       "      <td>Cumings, Mrs. John Bradley (Florence Briggs Th...</td>\n",
       "      <td>female</td>\n",
       "      <td>38.0</td>\n",
       "      <td>1</td>\n",
       "      <td>0</td>\n",
       "      <td>PC 17599</td>\n",
       "      <td>71.2833</td>\n",
       "      <td>C85</td>\n",
       "      <td>C</td>\n",
       "    </tr>\n",
       "    <tr>\n",
       "      <th>2</th>\n",
       "      <td>3</td>\n",
       "      <td>1</td>\n",
       "      <td>3</td>\n",
       "      <td>Heikkinen, Miss. Laina</td>\n",
       "      <td>female</td>\n",
       "      <td>26.0</td>\n",
       "      <td>0</td>\n",
       "      <td>0</td>\n",
       "      <td>STON/O2. 3101282</td>\n",
       "      <td>7.9250</td>\n",
       "      <td>NaN</td>\n",
       "      <td>S</td>\n",
       "    </tr>\n",
       "    <tr>\n",
       "      <th>3</th>\n",
       "      <td>4</td>\n",
       "      <td>1</td>\n",
       "      <td>1</td>\n",
       "      <td>Futrelle, Mrs. Jacques Heath (Lily May Peel)</td>\n",
       "      <td>female</td>\n",
       "      <td>35.0</td>\n",
       "      <td>1</td>\n",
       "      <td>0</td>\n",
       "      <td>113803</td>\n",
       "      <td>53.1000</td>\n",
       "      <td>C123</td>\n",
       "      <td>S</td>\n",
       "    </tr>\n",
       "    <tr>\n",
       "      <th>4</th>\n",
       "      <td>5</td>\n",
       "      <td>0</td>\n",
       "      <td>3</td>\n",
       "      <td>Allen, Mr. William Henry</td>\n",
       "      <td>male</td>\n",
       "      <td>35.0</td>\n",
       "      <td>0</td>\n",
       "      <td>0</td>\n",
       "      <td>373450</td>\n",
       "      <td>8.0500</td>\n",
       "      <td>NaN</td>\n",
       "      <td>S</td>\n",
       "    </tr>\n",
       "  </tbody>\n",
       "</table>\n",
       "</div>"
      ],
      "text/plain": [
       "   PassengerId  Survived  Pclass  \\\n",
       "0            1         0       3   \n",
       "1            2         1       1   \n",
       "2            3         1       3   \n",
       "3            4         1       1   \n",
       "4            5         0       3   \n",
       "\n",
       "                                                Name     Sex   Age  SibSp  \\\n",
       "0                            Braund, Mr. Owen Harris    male  22.0      1   \n",
       "1  Cumings, Mrs. John Bradley (Florence Briggs Th...  female  38.0      1   \n",
       "2                             Heikkinen, Miss. Laina  female  26.0      0   \n",
       "3       Futrelle, Mrs. Jacques Heath (Lily May Peel)  female  35.0      1   \n",
       "4                           Allen, Mr. William Henry    male  35.0      0   \n",
       "\n",
       "   Parch            Ticket     Fare Cabin Embarked  \n",
       "0      0         A/5 21171   7.2500   NaN        S  \n",
       "1      0          PC 17599  71.2833   C85        C  \n",
       "2      0  STON/O2. 3101282   7.9250   NaN        S  \n",
       "3      0            113803  53.1000  C123        S  \n",
       "4      0            373450   8.0500   NaN        S  "
      ]
     },
     "execution_count": 74,
     "metadata": {},
     "output_type": "execute_result"
    }
   ],
   "source": [
    "df = pd.read_csv('./titanic.csv')\n",
    "df.head()"
   ]
  },
  {
   "cell_type": "code",
   "execution_count": 75,
   "id": "2faf56b1",
   "metadata": {
    "ExecuteTime": {
     "end_time": "2022-01-18T18:18:59.213345Z",
     "start_time": "2022-01-18T18:18:59.198212Z"
    }
   },
   "outputs": [
    {
     "data": {
      "text/plain": [
       "(891, 12)"
      ]
     },
     "execution_count": 75,
     "metadata": {},
     "output_type": "execute_result"
    }
   ],
   "source": [
    "df.shape"
   ]
  },
  {
   "cell_type": "markdown",
   "id": "7f9a22da",
   "metadata": {},
   "source": [
    "Também temos alguns argumentos que podem nos ajudar em alguns casos:\n",
    "* sep: separador do arquivo CSV;\n",
    "* usecols: as colunas que você quer ler do CSV;\n",
    "* nrows: a quantidade de linhas que você quer ler;\n",
    "* skiprows: as linhas que você não quer ler ao carregar o arquivo;\n",
    "* dentre outros..."
   ]
  },
  {
   "cell_type": "code",
   "execution_count": 73,
   "id": "0cd03b9d",
   "metadata": {
    "ExecuteTime": {
     "end_time": "2022-01-18T18:18:56.728511Z",
     "start_time": "2022-01-18T18:18:56.695403Z"
    }
   },
   "outputs": [
    {
     "data": {
      "text/html": [
       "<div>\n",
       "<style scoped>\n",
       "    .dataframe tbody tr th:only-of-type {\n",
       "        vertical-align: middle;\n",
       "    }\n",
       "\n",
       "    .dataframe tbody tr th {\n",
       "        vertical-align: top;\n",
       "    }\n",
       "\n",
       "    .dataframe thead th {\n",
       "        text-align: right;\n",
       "    }\n",
       "</style>\n",
       "<table border=\"1\" class=\"dataframe\">\n",
       "  <thead>\n",
       "    <tr style=\"text-align: right;\">\n",
       "      <th></th>\n",
       "      <th>PassengerId</th>\n",
       "      <th>Survived</th>\n",
       "      <th>Pclass</th>\n",
       "    </tr>\n",
       "  </thead>\n",
       "  <tbody>\n",
       "    <tr>\n",
       "      <th>0</th>\n",
       "      <td>3</td>\n",
       "      <td>1</td>\n",
       "      <td>3</td>\n",
       "    </tr>\n",
       "    <tr>\n",
       "      <th>1</th>\n",
       "      <td>4</td>\n",
       "      <td>1</td>\n",
       "      <td>1</td>\n",
       "    </tr>\n",
       "  </tbody>\n",
       "</table>\n",
       "</div>"
      ],
      "text/plain": [
       "   PassengerId  Survived  Pclass\n",
       "0            3         1       3\n",
       "1            4         1       1"
      ]
     },
     "execution_count": 73,
     "metadata": {},
     "output_type": "execute_result"
    }
   ],
   "source": [
    "usecols = ['PassengerId', 'Survived', 'Pclass']\n",
    "df = pd.read_csv('./titanic.csv', sep=',', usecols=usecols, nrows=2, skiprows=[1, 2])\n",
    "df.head()"
   ]
  },
  {
   "cell_type": "markdown",
   "id": "5d2fed7a",
   "metadata": {},
   "source": [
    "Também podemos ler CSV's em chunks. Onde você carrega uma quantidade n de linhas por vez e processa, com o objetivo de economizar recursos ou viabilizar a execução pela falta de recursos."
   ]
  },
  {
   "cell_type": "code",
   "execution_count": 71,
   "id": "ecefa4a9",
   "metadata": {
    "ExecuteTime": {
     "end_time": "2022-01-18T18:17:31.519601Z",
     "start_time": "2022-01-18T18:17:31.376055Z"
    },
    "scrolled": false
   },
   "outputs": [
    {
     "name": "stdout",
     "output_type": "stream",
     "text": [
      "valuecounts: \n",
      "0    0.655\n",
      "1    0.345\n",
      "Name: Survived, dtype: float64 \n",
      "\n",
      "valuecounts: \n",
      "0    0.56\n",
      "1    0.44\n",
      "Name: Survived, dtype: float64 \n",
      "\n",
      "valuecounts: \n",
      "0    0.605\n",
      "1    0.395\n",
      "Name: Survived, dtype: float64 \n",
      "\n",
      "valuecounts: \n",
      "0    0.64\n",
      "1    0.36\n",
      "Name: Survived, dtype: float64 \n",
      "\n",
      "valuecounts: \n",
      "0    0.626374\n",
      "1    0.373626\n",
      "Name: Survived, dtype: float64 \n",
      "\n"
     ]
    }
   ],
   "source": [
    "# onde o chunksize é a quantidade de linhas lidas por vez\n",
    "df_ = pd.read_csv('./titanic.csv', chunksize=200)\n",
    "for df in df_:\n",
    "    # processamento: aqui poderia ser a chamada de uma função ou qualquer outro processamento\n",
    "    value_counts = df['Survived'].value_counts(normalize=True)\n",
    "    print(f'valuecounts: \\n{value_counts} \\n')"
   ]
  },
  {
   "cell_type": "markdown",
   "id": "bb3f4275",
   "metadata": {},
   "source": [
    "### read_excel"
   ]
  },
  {
   "cell_type": "code",
   "execution_count": 77,
   "id": "982d0edf",
   "metadata": {
    "ExecuteTime": {
     "end_time": "2022-01-18T18:30:18.608673Z",
     "start_time": "2022-01-18T18:30:18.043598Z"
    }
   },
   "outputs": [
    {
     "data": {
      "text/html": [
       "<div>\n",
       "<style scoped>\n",
       "    .dataframe tbody tr th:only-of-type {\n",
       "        vertical-align: middle;\n",
       "    }\n",
       "\n",
       "    .dataframe tbody tr th {\n",
       "        vertical-align: top;\n",
       "    }\n",
       "\n",
       "    .dataframe thead th {\n",
       "        text-align: right;\n",
       "    }\n",
       "</style>\n",
       "<table border=\"1\" class=\"dataframe\">\n",
       "  <thead>\n",
       "    <tr style=\"text-align: right;\">\n",
       "      <th></th>\n",
       "      <th>PassengerId</th>\n",
       "      <th>Survived</th>\n",
       "      <th>Pclass</th>\n",
       "      <th>Name</th>\n",
       "      <th>Sex</th>\n",
       "      <th>Age</th>\n",
       "      <th>SibSp</th>\n",
       "      <th>Parch</th>\n",
       "      <th>Ticket</th>\n",
       "      <th>Fare</th>\n",
       "      <th>Cabin</th>\n",
       "      <th>Embarked</th>\n",
       "    </tr>\n",
       "  </thead>\n",
       "  <tbody>\n",
       "    <tr>\n",
       "      <th>0</th>\n",
       "      <td>1</td>\n",
       "      <td>0</td>\n",
       "      <td>3</td>\n",
       "      <td>Braund, Mr. Owen Harris</td>\n",
       "      <td>male</td>\n",
       "      <td>22.0</td>\n",
       "      <td>1</td>\n",
       "      <td>0</td>\n",
       "      <td>A/5 21171</td>\n",
       "      <td>725</td>\n",
       "      <td>NaN</td>\n",
       "      <td>S</td>\n",
       "    </tr>\n",
       "    <tr>\n",
       "      <th>1</th>\n",
       "      <td>2</td>\n",
       "      <td>1</td>\n",
       "      <td>1</td>\n",
       "      <td>Cumings, Mrs. John Bradley (Florence Briggs Th...</td>\n",
       "      <td>female</td>\n",
       "      <td>38.0</td>\n",
       "      <td>1</td>\n",
       "      <td>0</td>\n",
       "      <td>PC 17599</td>\n",
       "      <td>712833</td>\n",
       "      <td>C85</td>\n",
       "      <td>C</td>\n",
       "    </tr>\n",
       "    <tr>\n",
       "      <th>2</th>\n",
       "      <td>3</td>\n",
       "      <td>1</td>\n",
       "      <td>3</td>\n",
       "      <td>Heikkinen, Miss. Laina</td>\n",
       "      <td>female</td>\n",
       "      <td>26.0</td>\n",
       "      <td>0</td>\n",
       "      <td>0</td>\n",
       "      <td>STON/O2. 3101282</td>\n",
       "      <td>7925</td>\n",
       "      <td>NaN</td>\n",
       "      <td>S</td>\n",
       "    </tr>\n",
       "    <tr>\n",
       "      <th>3</th>\n",
       "      <td>4</td>\n",
       "      <td>1</td>\n",
       "      <td>1</td>\n",
       "      <td>Futrelle, Mrs. Jacques Heath (Lily May Peel)</td>\n",
       "      <td>female</td>\n",
       "      <td>35.0</td>\n",
       "      <td>1</td>\n",
       "      <td>0</td>\n",
       "      <td>113803</td>\n",
       "      <td>531</td>\n",
       "      <td>C123</td>\n",
       "      <td>S</td>\n",
       "    </tr>\n",
       "    <tr>\n",
       "      <th>4</th>\n",
       "      <td>5</td>\n",
       "      <td>0</td>\n",
       "      <td>3</td>\n",
       "      <td>Allen, Mr. William Henry</td>\n",
       "      <td>male</td>\n",
       "      <td>35.0</td>\n",
       "      <td>0</td>\n",
       "      <td>0</td>\n",
       "      <td>373450</td>\n",
       "      <td>805</td>\n",
       "      <td>NaN</td>\n",
       "      <td>S</td>\n",
       "    </tr>\n",
       "  </tbody>\n",
       "</table>\n",
       "</div>"
      ],
      "text/plain": [
       "   PassengerId  Survived  Pclass  \\\n",
       "0            1         0       3   \n",
       "1            2         1       1   \n",
       "2            3         1       3   \n",
       "3            4         1       1   \n",
       "4            5         0       3   \n",
       "\n",
       "                                                Name     Sex   Age  SibSp  \\\n",
       "0                            Braund, Mr. Owen Harris    male  22.0      1   \n",
       "1  Cumings, Mrs. John Bradley (Florence Briggs Th...  female  38.0      1   \n",
       "2                             Heikkinen, Miss. Laina  female  26.0      0   \n",
       "3       Futrelle, Mrs. Jacques Heath (Lily May Peel)  female  35.0      1   \n",
       "4                           Allen, Mr. William Henry    male  35.0      0   \n",
       "\n",
       "   Parch            Ticket    Fare Cabin Embarked  \n",
       "0      0         A/5 21171     725   NaN        S  \n",
       "1      0          PC 17599  712833   C85        C  \n",
       "2      0  STON/O2. 3101282    7925   NaN        S  \n",
       "3      0            113803     531  C123        S  \n",
       "4      0            373450     805   NaN        S  "
      ]
     },
     "execution_count": 77,
     "metadata": {},
     "output_type": "execute_result"
    }
   ],
   "source": [
    "df = pd.read_excel('./titanic.xlsx')\n",
    "df.head()"
   ]
  },
  {
   "cell_type": "code",
   "execution_count": 78,
   "id": "3c1dd4b0",
   "metadata": {
    "ExecuteTime": {
     "end_time": "2022-01-18T18:30:18.856106Z",
     "start_time": "2022-01-18T18:30:18.829725Z"
    }
   },
   "outputs": [
    {
     "data": {
      "text/html": [
       "<div>\n",
       "<style scoped>\n",
       "    .dataframe tbody tr th:only-of-type {\n",
       "        vertical-align: middle;\n",
       "    }\n",
       "\n",
       "    .dataframe tbody tr th {\n",
       "        vertical-align: top;\n",
       "    }\n",
       "\n",
       "    .dataframe thead th {\n",
       "        text-align: right;\n",
       "    }\n",
       "</style>\n",
       "<table border=\"1\" class=\"dataframe\">\n",
       "  <thead>\n",
       "    <tr style=\"text-align: right;\">\n",
       "      <th></th>\n",
       "      <th>PassengerId</th>\n",
       "      <th>Survived</th>\n",
       "      <th>Pclass</th>\n",
       "      <th>Name</th>\n",
       "      <th>Sex</th>\n",
       "      <th>Age</th>\n",
       "      <th>SibSp</th>\n",
       "      <th>Parch</th>\n",
       "      <th>Ticket</th>\n",
       "      <th>Fare</th>\n",
       "      <th>Cabin</th>\n",
       "      <th>Embarked</th>\n",
       "    </tr>\n",
       "  </thead>\n",
       "  <tbody>\n",
       "    <tr>\n",
       "      <th>886</th>\n",
       "      <td>887</td>\n",
       "      <td>0</td>\n",
       "      <td>2</td>\n",
       "      <td>Montvila, Rev. Juozas</td>\n",
       "      <td>male</td>\n",
       "      <td>27.0</td>\n",
       "      <td>0</td>\n",
       "      <td>0</td>\n",
       "      <td>211536</td>\n",
       "      <td>13</td>\n",
       "      <td>NaN</td>\n",
       "      <td>S</td>\n",
       "    </tr>\n",
       "    <tr>\n",
       "      <th>887</th>\n",
       "      <td>888</td>\n",
       "      <td>1</td>\n",
       "      <td>1</td>\n",
       "      <td>Graham, Miss. Margaret Edith</td>\n",
       "      <td>female</td>\n",
       "      <td>19.0</td>\n",
       "      <td>0</td>\n",
       "      <td>0</td>\n",
       "      <td>112053</td>\n",
       "      <td>30</td>\n",
       "      <td>B42</td>\n",
       "      <td>S</td>\n",
       "    </tr>\n",
       "    <tr>\n",
       "      <th>888</th>\n",
       "      <td>889</td>\n",
       "      <td>0</td>\n",
       "      <td>3</td>\n",
       "      <td>Johnston, Miss. Catherine Helen \"Carrie\"</td>\n",
       "      <td>female</td>\n",
       "      <td>NaN</td>\n",
       "      <td>1</td>\n",
       "      <td>2</td>\n",
       "      <td>W./C. 6607</td>\n",
       "      <td>2345</td>\n",
       "      <td>NaN</td>\n",
       "      <td>S</td>\n",
       "    </tr>\n",
       "    <tr>\n",
       "      <th>889</th>\n",
       "      <td>890</td>\n",
       "      <td>1</td>\n",
       "      <td>1</td>\n",
       "      <td>Behr, Mr. Karl Howell</td>\n",
       "      <td>male</td>\n",
       "      <td>26.0</td>\n",
       "      <td>0</td>\n",
       "      <td>0</td>\n",
       "      <td>111369</td>\n",
       "      <td>30</td>\n",
       "      <td>C148</td>\n",
       "      <td>C</td>\n",
       "    </tr>\n",
       "    <tr>\n",
       "      <th>890</th>\n",
       "      <td>891</td>\n",
       "      <td>0</td>\n",
       "      <td>3</td>\n",
       "      <td>Dooley, Mr. Patrick</td>\n",
       "      <td>male</td>\n",
       "      <td>32.0</td>\n",
       "      <td>0</td>\n",
       "      <td>0</td>\n",
       "      <td>370376</td>\n",
       "      <td>775</td>\n",
       "      <td>NaN</td>\n",
       "      <td>Q</td>\n",
       "    </tr>\n",
       "  </tbody>\n",
       "</table>\n",
       "</div>"
      ],
      "text/plain": [
       "     PassengerId  Survived  Pclass                                      Name  \\\n",
       "886          887         0       2                     Montvila, Rev. Juozas   \n",
       "887          888         1       1              Graham, Miss. Margaret Edith   \n",
       "888          889         0       3  Johnston, Miss. Catherine Helen \"Carrie\"   \n",
       "889          890         1       1                     Behr, Mr. Karl Howell   \n",
       "890          891         0       3                       Dooley, Mr. Patrick   \n",
       "\n",
       "        Sex   Age  SibSp  Parch      Ticket  Fare Cabin Embarked  \n",
       "886    male  27.0      0      0      211536    13   NaN        S  \n",
       "887  female  19.0      0      0      112053    30   B42        S  \n",
       "888  female   NaN      1      2  W./C. 6607  2345   NaN        S  \n",
       "889    male  26.0      0      0      111369    30  C148        C  \n",
       "890    male  32.0      0      0      370376   775   NaN        Q  "
      ]
     },
     "execution_count": 78,
     "metadata": {},
     "output_type": "execute_result"
    }
   ],
   "source": [
    "df.tail()"
   ]
  },
  {
   "cell_type": "markdown",
   "id": "b25f5dea",
   "metadata": {},
   "source": [
    "## Salvando DataFrames"
   ]
  },
  {
   "cell_type": "code",
   "execution_count": null,
   "id": "a638e8f2",
   "metadata": {},
   "outputs": [],
   "source": [
    "# é importante o index ser None para não salvá-lo no arquivo\n",
    "df.to_excel('./titanic_saved.xlsx', index=None)\n",
    "# ou\n",
    "df.to_csv('./titanic_saved.csv', index=None, sep=',')"
   ]
  }
 ],
 "metadata": {
  "kernelspec": {
   "display_name": "Python 3",
   "language": "python",
   "name": "python3"
  },
  "language_info": {
   "codemirror_mode": {
    "name": "ipython",
    "version": 3
   },
   "file_extension": ".py",
   "mimetype": "text/x-python",
   "name": "python",
   "nbconvert_exporter": "python",
   "pygments_lexer": "ipython3",
   "version": "3.8.3"
  }
 },
 "nbformat": 4,
 "nbformat_minor": 5
}
