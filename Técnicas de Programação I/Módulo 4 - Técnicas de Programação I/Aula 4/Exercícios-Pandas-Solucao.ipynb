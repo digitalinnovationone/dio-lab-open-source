{
 "cells": [
  {
   "cell_type": "markdown",
   "id": "8a9bc6fb",
   "metadata": {},
   "source": [
    "## Exercícios Titanic\n",
    "\n",
    "Nesse exercício, o intuito é que vocês usem a base fornecida e respondam as questões abaixo. Lembrem-se: Devemos usar o pandas para isso! Caso tenha algo diferente do que vimos, busquem na documentação!"
   ]
  },
  {
   "cell_type": "code",
   "execution_count": 1,
   "id": "0e33fab0",
   "metadata": {
    "ExecuteTime": {
     "end_time": "2022-01-19T00:39:08.159668Z",
     "start_time": "2022-01-19T00:39:07.278299Z"
    }
   },
   "outputs": [],
   "source": [
    "import pandas as pd"
   ]
  },
  {
   "cell_type": "markdown",
   "id": "3f527232",
   "metadata": {},
   "source": [
    "## 1. Leia a base titanic.csv"
   ]
  },
  {
   "cell_type": "code",
   "execution_count": 2,
   "id": "5c4fcb78",
   "metadata": {
    "ExecuteTime": {
     "end_time": "2022-01-19T00:39:08.285627Z",
     "start_time": "2022-01-19T00:39:08.209628Z"
    }
   },
   "outputs": [
    {
     "data": {
      "text/html": [
       "<div>\n",
       "<style scoped>\n",
       "    .dataframe tbody tr th:only-of-type {\n",
       "        vertical-align: middle;\n",
       "    }\n",
       "\n",
       "    .dataframe tbody tr th {\n",
       "        vertical-align: top;\n",
       "    }\n",
       "\n",
       "    .dataframe thead th {\n",
       "        text-align: right;\n",
       "    }\n",
       "</style>\n",
       "<table border=\"1\" class=\"dataframe\">\n",
       "  <thead>\n",
       "    <tr style=\"text-align: right;\">\n",
       "      <th></th>\n",
       "      <th>PassengerId</th>\n",
       "      <th>Survived</th>\n",
       "      <th>Pclass</th>\n",
       "      <th>Name</th>\n",
       "      <th>Sex</th>\n",
       "      <th>Age</th>\n",
       "      <th>SibSp</th>\n",
       "      <th>Parch</th>\n",
       "      <th>Ticket</th>\n",
       "      <th>Fare</th>\n",
       "      <th>Cabin</th>\n",
       "      <th>Embarked</th>\n",
       "    </tr>\n",
       "  </thead>\n",
       "  <tbody>\n",
       "    <tr>\n",
       "      <th>0</th>\n",
       "      <td>1</td>\n",
       "      <td>0</td>\n",
       "      <td>3</td>\n",
       "      <td>Braund, Mr. Owen Harris</td>\n",
       "      <td>male</td>\n",
       "      <td>22.0</td>\n",
       "      <td>1</td>\n",
       "      <td>0</td>\n",
       "      <td>A/5 21171</td>\n",
       "      <td>7.2500</td>\n",
       "      <td>NaN</td>\n",
       "      <td>S</td>\n",
       "    </tr>\n",
       "    <tr>\n",
       "      <th>1</th>\n",
       "      <td>2</td>\n",
       "      <td>1</td>\n",
       "      <td>1</td>\n",
       "      <td>Cumings, Mrs. John Bradley (Florence Briggs Th...</td>\n",
       "      <td>female</td>\n",
       "      <td>38.0</td>\n",
       "      <td>1</td>\n",
       "      <td>0</td>\n",
       "      <td>PC 17599</td>\n",
       "      <td>71.2833</td>\n",
       "      <td>C85</td>\n",
       "      <td>C</td>\n",
       "    </tr>\n",
       "    <tr>\n",
       "      <th>2</th>\n",
       "      <td>3</td>\n",
       "      <td>1</td>\n",
       "      <td>3</td>\n",
       "      <td>Heikkinen, Miss. Laina</td>\n",
       "      <td>female</td>\n",
       "      <td>26.0</td>\n",
       "      <td>0</td>\n",
       "      <td>0</td>\n",
       "      <td>STON/O2. 3101282</td>\n",
       "      <td>7.9250</td>\n",
       "      <td>NaN</td>\n",
       "      <td>S</td>\n",
       "    </tr>\n",
       "    <tr>\n",
       "      <th>3</th>\n",
       "      <td>4</td>\n",
       "      <td>1</td>\n",
       "      <td>1</td>\n",
       "      <td>Futrelle, Mrs. Jacques Heath (Lily May Peel)</td>\n",
       "      <td>female</td>\n",
       "      <td>35.0</td>\n",
       "      <td>1</td>\n",
       "      <td>0</td>\n",
       "      <td>113803</td>\n",
       "      <td>53.1000</td>\n",
       "      <td>C123</td>\n",
       "      <td>S</td>\n",
       "    </tr>\n",
       "    <tr>\n",
       "      <th>4</th>\n",
       "      <td>5</td>\n",
       "      <td>0</td>\n",
       "      <td>3</td>\n",
       "      <td>Allen, Mr. William Henry</td>\n",
       "      <td>male</td>\n",
       "      <td>35.0</td>\n",
       "      <td>0</td>\n",
       "      <td>0</td>\n",
       "      <td>373450</td>\n",
       "      <td>8.0500</td>\n",
       "      <td>NaN</td>\n",
       "      <td>S</td>\n",
       "    </tr>\n",
       "  </tbody>\n",
       "</table>\n",
       "</div>"
      ],
      "text/plain": [
       "   PassengerId  Survived  Pclass  \\\n",
       "0            1         0       3   \n",
       "1            2         1       1   \n",
       "2            3         1       3   \n",
       "3            4         1       1   \n",
       "4            5         0       3   \n",
       "\n",
       "                                                Name     Sex   Age  SibSp  \\\n",
       "0                            Braund, Mr. Owen Harris    male  22.0      1   \n",
       "1  Cumings, Mrs. John Bradley (Florence Briggs Th...  female  38.0      1   \n",
       "2                             Heikkinen, Miss. Laina  female  26.0      0   \n",
       "3       Futrelle, Mrs. Jacques Heath (Lily May Peel)  female  35.0      1   \n",
       "4                           Allen, Mr. William Henry    male  35.0      0   \n",
       "\n",
       "   Parch            Ticket     Fare Cabin Embarked  \n",
       "0      0         A/5 21171   7.2500   NaN        S  \n",
       "1      0          PC 17599  71.2833   C85        C  \n",
       "2      0  STON/O2. 3101282   7.9250   NaN        S  \n",
       "3      0            113803  53.1000  C123        S  \n",
       "4      0            373450   8.0500   NaN        S  "
      ]
     },
     "execution_count": 2,
     "metadata": {},
     "output_type": "execute_result"
    }
   ],
   "source": [
    "df = pd.read_csv('./titanic.csv')\n",
    "df.head()"
   ]
  },
  {
   "cell_type": "markdown",
   "id": "368fe478",
   "metadata": {},
   "source": [
    "## 2. Quantos homens e quantos mulheres estavam no navio?"
   ]
  },
  {
   "cell_type": "code",
   "execution_count": 5,
   "id": "e7a85175",
   "metadata": {
    "ExecuteTime": {
     "end_time": "2022-01-18T18:44:05.391086Z",
     "start_time": "2022-01-18T18:44:05.382533Z"
    }
   },
   "outputs": [
    {
     "data": {
      "text/plain": [
       "314"
      ]
     },
     "execution_count": 5,
     "metadata": {},
     "output_type": "execute_result"
    }
   ],
   "source": [
    "df[df['Sex'] == 'female'].shape[0]"
   ]
  },
  {
   "cell_type": "code",
   "execution_count": 6,
   "id": "ecb8d838",
   "metadata": {
    "ExecuteTime": {
     "end_time": "2022-01-18T18:44:10.353911Z",
     "start_time": "2022-01-18T18:44:10.340504Z"
    }
   },
   "outputs": [
    {
     "data": {
      "text/plain": [
       "577"
      ]
     },
     "execution_count": 6,
     "metadata": {},
     "output_type": "execute_result"
    }
   ],
   "source": [
    "df[df['Sex'] == 'male'].shape[0]"
   ]
  },
  {
   "cell_type": "markdown",
   "id": "e62d2834",
   "metadata": {},
   "source": [
    "## 3. Qual era a média de idade dos passageiros?"
   ]
  },
  {
   "cell_type": "code",
   "execution_count": 7,
   "id": "4f545f61",
   "metadata": {
    "ExecuteTime": {
     "end_time": "2022-01-18T18:44:22.583750Z",
     "start_time": "2022-01-18T18:44:22.569075Z"
    }
   },
   "outputs": [
    {
     "data": {
      "text/plain": [
       "29.69911764705882"
      ]
     },
     "execution_count": 7,
     "metadata": {},
     "output_type": "execute_result"
    }
   ],
   "source": [
    "df['Age'].mean()"
   ]
  },
  {
   "cell_type": "markdown",
   "id": "eed48286",
   "metadata": {},
   "source": [
    "## 4. Quantos passageiros sobreviveram?"
   ]
  },
  {
   "cell_type": "code",
   "execution_count": 8,
   "id": "a1fe456b",
   "metadata": {
    "ExecuteTime": {
     "end_time": "2022-01-18T18:44:39.448772Z",
     "start_time": "2022-01-18T18:44:39.442333Z"
    }
   },
   "outputs": [
    {
     "data": {
      "text/plain": [
       "342"
      ]
     },
     "execution_count": 8,
     "metadata": {},
     "output_type": "execute_result"
    }
   ],
   "source": [
    "df['Survived'].sum()"
   ]
  },
  {
   "cell_type": "code",
   "execution_count": 9,
   "id": "ab11dc92",
   "metadata": {
    "ExecuteTime": {
     "end_time": "2022-01-18T18:44:49.269503Z",
     "start_time": "2022-01-18T18:44:49.256903Z"
    }
   },
   "outputs": [
    {
     "data": {
      "text/plain": [
       "342"
      ]
     },
     "execution_count": 9,
     "metadata": {},
     "output_type": "execute_result"
    }
   ],
   "source": [
    "df[df['Survived'] == 1].shape[0]"
   ]
  },
  {
   "cell_type": "markdown",
   "id": "d762b6f1",
   "metadata": {},
   "source": [
    "## 5. Traga as informações do passageiro de nome \"Montvila, Rev. Juozas\""
   ]
  },
  {
   "cell_type": "code",
   "execution_count": 13,
   "id": "0d2f9bf3",
   "metadata": {
    "ExecuteTime": {
     "end_time": "2022-01-18T18:45:45.925281Z",
     "start_time": "2022-01-18T18:45:45.902245Z"
    }
   },
   "outputs": [
    {
     "data": {
      "text/html": [
       "<div>\n",
       "<style scoped>\n",
       "    .dataframe tbody tr th:only-of-type {\n",
       "        vertical-align: middle;\n",
       "    }\n",
       "\n",
       "    .dataframe tbody tr th {\n",
       "        vertical-align: top;\n",
       "    }\n",
       "\n",
       "    .dataframe thead th {\n",
       "        text-align: right;\n",
       "    }\n",
       "</style>\n",
       "<table border=\"1\" class=\"dataframe\">\n",
       "  <thead>\n",
       "    <tr style=\"text-align: right;\">\n",
       "      <th></th>\n",
       "      <th>PassengerId</th>\n",
       "      <th>Survived</th>\n",
       "      <th>Pclass</th>\n",
       "      <th>Name</th>\n",
       "      <th>Sex</th>\n",
       "      <th>Age</th>\n",
       "      <th>SibSp</th>\n",
       "      <th>Parch</th>\n",
       "      <th>Ticket</th>\n",
       "      <th>Fare</th>\n",
       "      <th>Cabin</th>\n",
       "      <th>Embarked</th>\n",
       "    </tr>\n",
       "  </thead>\n",
       "  <tbody>\n",
       "    <tr>\n",
       "      <th>886</th>\n",
       "      <td>887</td>\n",
       "      <td>0</td>\n",
       "      <td>2</td>\n",
       "      <td>Montvila, Rev. Juozas</td>\n",
       "      <td>male</td>\n",
       "      <td>27.0</td>\n",
       "      <td>0</td>\n",
       "      <td>0</td>\n",
       "      <td>211536</td>\n",
       "      <td>13.0</td>\n",
       "      <td>NaN</td>\n",
       "      <td>S</td>\n",
       "    </tr>\n",
       "  </tbody>\n",
       "</table>\n",
       "</div>"
      ],
      "text/plain": [
       "     PassengerId  Survived  Pclass                   Name   Sex   Age  SibSp  \\\n",
       "886          887         0       2  Montvila, Rev. Juozas  male  27.0      0   \n",
       "\n",
       "     Parch  Ticket  Fare Cabin Embarked  \n",
       "886      0  211536  13.0   NaN        S  "
      ]
     },
     "execution_count": 13,
     "metadata": {},
     "output_type": "execute_result"
    }
   ],
   "source": [
    "df.loc[df['Name'] == \"Montvila, Rev. Juozas\"]"
   ]
  },
  {
   "cell_type": "markdown",
   "id": "139f268d",
   "metadata": {},
   "source": [
    "## 6. (Pergunta aberta) Sobreviveram mais crianças, homens adultos ou mulheres adultas?"
   ]
  },
  {
   "cell_type": "code",
   "execution_count": 19,
   "id": "1ea5d482",
   "metadata": {
    "ExecuteTime": {
     "end_time": "2022-01-19T01:10:39.814136Z",
     "start_time": "2022-01-19T01:10:39.801138Z"
    }
   },
   "outputs": [],
   "source": [
    "criancas = df['Age'] <= 18\n",
    "homens_adultos = (df['Sex'] == 'male') & (df['Age'] > 18)\n",
    "mulheres_adultas = (df['Sex'] == 'female') & (df['Age'] > 18)"
   ]
  },
  {
   "cell_type": "code",
   "execution_count": 20,
   "id": "c147a08a",
   "metadata": {
    "ExecuteTime": {
     "end_time": "2022-01-19T01:10:41.755418Z",
     "start_time": "2022-01-19T01:10:41.734222Z"
    }
   },
   "outputs": [
    {
     "data": {
      "text/plain": [
       "70"
      ]
     },
     "execution_count": 20,
     "metadata": {},
     "output_type": "execute_result"
    }
   ],
   "source": [
    "df[criancas]['Survived'].sum()"
   ]
  },
  {
   "cell_type": "code",
   "execution_count": 21,
   "id": "b05f3a73",
   "metadata": {
    "ExecuteTime": {
     "end_time": "2022-01-19T01:10:43.919469Z",
     "start_time": "2022-01-19T01:10:43.900467Z"
    }
   },
   "outputs": [
    {
     "data": {
      "text/plain": [
       "69"
      ]
     },
     "execution_count": 21,
     "metadata": {},
     "output_type": "execute_result"
    }
   ],
   "source": [
    "df[homens_adultos]['Survived'].sum()"
   ]
  },
  {
   "cell_type": "code",
   "execution_count": 22,
   "id": "4c74a3f5",
   "metadata": {
    "ExecuteTime": {
     "end_time": "2022-01-19T01:10:44.441505Z",
     "start_time": "2022-01-19T01:10:44.434469Z"
    }
   },
   "outputs": [
    {
     "data": {
      "text/plain": [
       "151"
      ]
     },
     "execution_count": 22,
     "metadata": {},
     "output_type": "execute_result"
    }
   ],
   "source": [
    "df[mulheres_adultas]['Survived'].sum()"
   ]
  },
  {
   "cell_type": "markdown",
   "id": "0f5164d4",
   "metadata": {},
   "source": [
    "Mas 70 de que? Temos que olhar o percentual!"
   ]
  },
  {
   "cell_type": "code",
   "execution_count": 20,
   "id": "1e9f55b1",
   "metadata": {
    "ExecuteTime": {
     "end_time": "2022-01-18T18:48:03.300317Z",
     "start_time": "2022-01-18T18:48:03.282683Z"
    }
   },
   "outputs": [
    {
     "data": {
      "text/plain": [
       "0.5398230088495575"
      ]
     },
     "execution_count": 20,
     "metadata": {},
     "output_type": "execute_result"
    }
   ],
   "source": [
    "df[criancas]['Survived'].sum() / df[criancas]['Survived'].shape[0]"
   ]
  },
  {
   "cell_type": "code",
   "execution_count": 21,
   "id": "475e02c4",
   "metadata": {
    "ExecuteTime": {
     "end_time": "2022-01-18T18:48:12.571541Z",
     "start_time": "2022-01-18T18:48:12.555504Z"
    }
   },
   "outputs": [
    {
     "data": {
      "text/plain": [
       "0.7718446601941747"
      ]
     },
     "execution_count": 21,
     "metadata": {},
     "output_type": "execute_result"
    }
   ],
   "source": [
    "df[mulheres_adultas]['Survived'].sum() / df[mulheres_adultas]['Survived'].shape[0]"
   ]
  },
  {
   "cell_type": "code",
   "execution_count": 22,
   "id": "b60cab78",
   "metadata": {
    "ExecuteTime": {
     "end_time": "2022-01-18T18:48:20.869859Z",
     "start_time": "2022-01-18T18:48:20.850362Z"
    }
   },
   "outputs": [
    {
     "data": {
      "text/plain": [
       "0.17721518987341772"
      ]
     },
     "execution_count": 22,
     "metadata": {},
     "output_type": "execute_result"
    }
   ],
   "source": [
    "df[homens_adultos]['Survived'].sum() / df[homens_adultos]['Survived'].shape[0]"
   ]
  }
 ],
 "metadata": {
  "kernelspec": {
   "display_name": "Python 3",
   "language": "python",
   "name": "python3"
  },
  "language_info": {
   "codemirror_mode": {
    "name": "ipython",
    "version": 3
   },
   "file_extension": ".py",
   "mimetype": "text/x-python",
   "name": "python",
   "nbconvert_exporter": "python",
   "pygments_lexer": "ipython3",
   "version": "3.8.3"
  }
 },
 "nbformat": 4,
 "nbformat_minor": 5
}
