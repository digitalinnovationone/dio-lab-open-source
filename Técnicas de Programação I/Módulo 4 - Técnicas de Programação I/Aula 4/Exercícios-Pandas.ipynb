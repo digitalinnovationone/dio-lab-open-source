{
 "cells": [
  {
   "cell_type": "markdown",
   "id": "8a9bc6fb",
   "metadata": {},
   "source": [
    "## Exercícios Titanic\n",
    "\n",
    "Nesse exercício, o intuito é que vocês usem a base fornecida e respondam as questões abaixo. Lembrem-se: Devemos usar o pandas para isso! Caso tenha algo diferente do que vimos, busquem na documentação!"
   ]
  },
  {
   "cell_type": "markdown",
   "id": "3f527232",
   "metadata": {},
   "source": [
    "## 1. Leia a base titanic.csv"
   ]
  },
  {
   "cell_type": "markdown",
   "id": "368fe478",
   "metadata": {},
   "source": [
    "## 2. Quantos homens e quantos mulheres estavam no navio?"
   ]
  },
  {
   "cell_type": "markdown",
   "id": "e62d2834",
   "metadata": {},
   "source": [
    "## 3. Qual era a média de idade dos passageiros?"
   ]
  },
  {
   "cell_type": "markdown",
   "id": "eed48286",
   "metadata": {},
   "source": [
    "## 4. Quantos passageiros sobreviveram?"
   ]
  },
  {
   "cell_type": "markdown",
   "id": "d762b6f1",
   "metadata": {},
   "source": [
    "## 5. Traga as informações do passageiro de nome \"Montvila, Rev. Juozas\""
   ]
  },
  {
   "cell_type": "markdown",
   "id": "139f268d",
   "metadata": {},
   "source": [
    "## 6. (Pergunta aberta) Sobreviveram mais crianças, homens adultos ou mulheres adultas?"
   ]
  }
 ],
 "metadata": {
  "kernelspec": {
   "display_name": "Python 3",
   "language": "python",
   "name": "python3"
  },
  "language_info": {
   "codemirror_mode": {
    "name": "ipython",
    "version": 3
   },
   "file_extension": ".py",
   "mimetype": "text/x-python",
   "name": "python",
   "nbconvert_exporter": "python",
   "pygments_lexer": "ipython3",
   "version": "3.8.3"
  }
 },
 "nbformat": 4,
 "nbformat_minor": 5
}
