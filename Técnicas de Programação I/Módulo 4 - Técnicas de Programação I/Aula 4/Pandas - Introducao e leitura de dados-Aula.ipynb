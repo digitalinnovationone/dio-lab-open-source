{
 "cells": [
  {
   "cell_type": "markdown",
   "id": "04c9c09c",
   "metadata": {},
   "source": [
    "## Pandas\n",
    "\n",
    "Pandas é uma das bibliotecas mais utilizadas no mundo de Data Science. Sua aceitação se dá pelo fato de trabalhar com dados tabulares (tabelas, planilhas, etc) e permitir que você processe, visualize, limpe, entre outras operações, essas tabelas (tudo isso usando Python!).\n",
    "No pandas, chamamos uma tabela de **DataFrame**.\n",
    "\n",
    "![](imgs/img1.JPG)\n",
    "\n",
    "Além disso, outro fator importante é quantidade de diferentes fontes de dados que ele permite que você leia e escreva, sendo possível ler, processar e salvar rapidamente.\n",
    "\n",
    "![](imgs/img2.JPG)\n",
    "\n",
    "**Como instalar**\n",
    "\n",
    "- ```bash\n",
    "conda install pandas\n",
    "```\n",
    "\n",
    "Ou\n",
    "\n",
    "- ```bash\n",
    "pip install pandas\n",
    "```\n",
    "\n",
    "\n",
    "**Documentação**\n",
    "\n",
    "- https://pandas.pydata.org/\n",
    "- https://pandas.pydata.org/Pandas_Cheat_Sheet.pdf"
   ]
  },
  {
   "cell_type": "code",
   "execution_count": 1,
   "id": "e6e69bd8",
   "metadata": {
    "ExecuteTime": {
     "end_time": "2022-01-18T22:16:31.764106Z",
     "start_time": "2022-01-18T22:16:28.910108Z"
    }
   },
   "outputs": [],
   "source": [
    "import pandas as pd\n",
    "import numpy as np"
   ]
  },
  {
   "cell_type": "markdown",
   "id": "95638c01",
   "metadata": {},
   "source": [
    "## Series e DataFrames"
   ]
  },
  {
   "cell_type": "markdown",
   "id": "c37266d7",
   "metadata": {},
   "source": [
    "### Series\n",
    "\n",
    "Cada coluna em um DataFrame é uma Series.\n",
    "\n",
    "Quais estruturas seriam semelhantes a uma coluna?\n",
    "\n",
    "- Lista\n",
    "- Numpy array\n",
    "\n",
    "Mas como criar uma Series?"
   ]
  },
  {
   "cell_type": "code",
   "execution_count": 5,
   "id": "9b2b9a15",
   "metadata": {
    "ExecuteTime": {
     "end_time": "2022-01-18T22:25:27.692276Z",
     "start_time": "2022-01-18T22:25:27.678276Z"
    }
   },
   "outputs": [
    {
     "data": {
      "text/plain": [
       "([1, 2, 3, 4, 5], array([1, 2, 3, 4, 5]))"
      ]
     },
     "execution_count": 5,
     "metadata": {},
     "output_type": "execute_result"
    }
   ],
   "source": [
    "lista = [1,2,3,4,5]\n",
    "\n",
    "array_numpy = np.array(lista)\n",
    "\n",
    "lista, array_numpy"
   ]
  },
  {
   "cell_type": "code",
   "execution_count": 7,
   "id": "2601d2eb",
   "metadata": {
    "ExecuteTime": {
     "end_time": "2022-01-18T22:26:55.859673Z",
     "start_time": "2022-01-18T22:26:55.845680Z"
    }
   },
   "outputs": [
    {
     "data": {
      "text/plain": [
       "0    1.0\n",
       "1    2.0\n",
       "2    3.0\n",
       "3    4.0\n",
       "4    5.0\n",
       "dtype: float64"
      ]
     },
     "execution_count": 7,
     "metadata": {},
     "output_type": "execute_result"
    }
   ],
   "source": [
    "pd.Series(data=lista, dtype=float)"
   ]
  },
  {
   "cell_type": "code",
   "execution_count": 11,
   "id": "e9a31089",
   "metadata": {
    "ExecuteTime": {
     "end_time": "2022-01-18T22:27:55.352002Z",
     "start_time": "2022-01-18T22:27:55.337003Z"
    }
   },
   "outputs": [
    {
     "data": {
      "text/plain": [
       "0    1\n",
       "1    2\n",
       "2    3\n",
       "3    4\n",
       "4    5\n",
       "dtype: int32"
      ]
     },
     "execution_count": 11,
     "metadata": {},
     "output_type": "execute_result"
    }
   ],
   "source": [
    "minha_series = pd.Series(data=array_numpy)\n",
    "minha_series"
   ]
  },
  {
   "cell_type": "code",
   "execution_count": 13,
   "id": "d4186219",
   "metadata": {
    "ExecuteTime": {
     "end_time": "2022-01-18T22:28:31.048864Z",
     "start_time": "2022-01-18T22:28:31.039869Z"
    }
   },
   "outputs": [
    {
     "data": {
      "text/plain": [
       "(RangeIndex(start=0, stop=5, step=1), array([1, 2, 3, 4, 5]))"
      ]
     },
     "execution_count": 13,
     "metadata": {},
     "output_type": "execute_result"
    }
   ],
   "source": [
    "minha_series.index, minha_series.values"
   ]
  },
  {
   "cell_type": "code",
   "execution_count": 20,
   "id": "bbd9c682",
   "metadata": {
    "ExecuteTime": {
     "end_time": "2022-01-18T22:33:44.345537Z",
     "start_time": "2022-01-18T22:33:44.324541Z"
    }
   },
   "outputs": [
    {
     "data": {
      "text/plain": [
       "primeiro    1\n",
       "segundo     2\n",
       "terceiro    3\n",
       "quarto      4\n",
       "quinto      5\n",
       "dtype: int32"
      ]
     },
     "execution_count": 20,
     "metadata": {},
     "output_type": "execute_result"
    }
   ],
   "source": [
    "meus_indices = ['primeiro', 'segundo', 'terceiro', 'quarto', 'quinto']\n",
    "minha_series = pd.Series(index=meus_indices, data=array_numpy)\n",
    "minha_series"
   ]
  },
  {
   "cell_type": "code",
   "execution_count": 15,
   "id": "d9632832",
   "metadata": {
    "ExecuteTime": {
     "end_time": "2022-01-18T22:30:28.395225Z",
     "start_time": "2022-01-18T22:30:28.374221Z"
    }
   },
   "outputs": [
    {
     "data": {
      "text/plain": [
       "(Index(['primeiro', 'segundo', 'terceiro', 'quarto', 'quinto'], dtype='object'),\n",
       " array([1, 2, 3, 4, 5]))"
      ]
     },
     "execution_count": 15,
     "metadata": {},
     "output_type": "execute_result"
    }
   ],
   "source": [
    "minha_series.index, minha_series.values"
   ]
  },
  {
   "cell_type": "markdown",
   "id": "32a9940d",
   "metadata": {},
   "source": [
    "### Indexing"
   ]
  },
  {
   "cell_type": "code",
   "execution_count": 21,
   "id": "11e5d629",
   "metadata": {
    "ExecuteTime": {
     "end_time": "2022-01-18T22:34:37.385541Z",
     "start_time": "2022-01-18T22:34:37.372531Z"
    }
   },
   "outputs": [
    {
     "data": {
      "text/plain": [
       "primeiro    1\n",
       "segundo     2\n",
       "terceiro    3\n",
       "quarto      4\n",
       "quinto      5\n",
       "dtype: int32"
      ]
     },
     "execution_count": 21,
     "metadata": {},
     "output_type": "execute_result"
    }
   ],
   "source": [
    "minha_series"
   ]
  },
  {
   "cell_type": "markdown",
   "id": "99bc0cfb",
   "metadata": {},
   "source": [
    "0 primeiro 1\n",
    "1 segundo  2\n",
    "2 terceiro 3\n",
    "3 quarto   4\n",
    "4 quinto   5"
   ]
  },
  {
   "cell_type": "code",
   "execution_count": 26,
   "id": "d50bc1ae",
   "metadata": {
    "ExecuteTime": {
     "end_time": "2022-01-18T22:35:06.522957Z",
     "start_time": "2022-01-18T22:35:06.506958Z"
    }
   },
   "outputs": [
    {
     "data": {
      "text/plain": [
       "3"
      ]
     },
     "execution_count": 26,
     "metadata": {},
     "output_type": "execute_result"
    }
   ],
   "source": [
    "minha_series[2]"
   ]
  },
  {
   "cell_type": "markdown",
   "id": "cade3d55",
   "metadata": {},
   "source": [
    "- loc: você passa o índice definido -> Inclusivo ([primeiro:segundo] eu retorno ambos)\n",
    "- iloc: você passa o índice numérico -> Exclusivo ([0:2] eu retorno apenas 0, 1)"
   ]
  },
  {
   "cell_type": "code",
   "execution_count": 29,
   "id": "2510ac17",
   "metadata": {
    "ExecuteTime": {
     "end_time": "2022-01-18T22:39:03.156464Z",
     "start_time": "2022-01-18T22:39:03.141436Z"
    }
   },
   "outputs": [
    {
     "data": {
      "text/plain": [
       "primeiro    1\n",
       "segundo     2\n",
       "terceiro    3\n",
       "quarto      4\n",
       "dtype: int32"
      ]
     },
     "execution_count": 29,
     "metadata": {},
     "output_type": "execute_result"
    }
   ],
   "source": [
    "minha_series.loc[\"primeiro\":\"quarto\"]"
   ]
  },
  {
   "cell_type": "code",
   "execution_count": 33,
   "id": "3f44e1fb",
   "metadata": {
    "ExecuteTime": {
     "end_time": "2022-01-18T22:39:45.351376Z",
     "start_time": "2022-01-18T22:39:45.327382Z"
    }
   },
   "outputs": [
    {
     "data": {
      "text/plain": [
       "primeiro    1\n",
       "segundo     2\n",
       "terceiro    3\n",
       "quarto      4\n",
       "dtype: int32"
      ]
     },
     "execution_count": 33,
     "metadata": {},
     "output_type": "execute_result"
    }
   ],
   "source": [
    "minha_series.iloc[0:4]"
   ]
  },
  {
   "cell_type": "code",
   "execution_count": 34,
   "id": "04552a0f",
   "metadata": {
    "ExecuteTime": {
     "end_time": "2022-01-18T22:40:08.952242Z",
     "start_time": "2022-01-18T22:40:08.929240Z"
    }
   },
   "outputs": [
    {
     "data": {
      "text/plain": [
       "0    1\n",
       "1    2\n",
       "2    3\n",
       "3    4\n",
       "4    5\n",
       "dtype: int64"
      ]
     },
     "execution_count": 34,
     "metadata": {},
     "output_type": "execute_result"
    }
   ],
   "source": [
    "minha_series = pd.Series(data=lista)\n",
    "minha_series"
   ]
  },
  {
   "cell_type": "code",
   "execution_count": 35,
   "id": "38b7ff12",
   "metadata": {
    "ExecuteTime": {
     "end_time": "2022-01-18T22:40:23.511584Z",
     "start_time": "2022-01-18T22:40:23.493581Z"
    }
   },
   "outputs": [
    {
     "data": {
      "text/plain": [
       "0    1\n",
       "1    2\n",
       "2    3\n",
       "3    4\n",
       "4    5\n",
       "dtype: int64"
      ]
     },
     "execution_count": 35,
     "metadata": {},
     "output_type": "execute_result"
    }
   ],
   "source": [
    "minha_series.loc[0:4]"
   ]
  },
  {
   "cell_type": "code",
   "execution_count": 36,
   "id": "f2c0210c",
   "metadata": {
    "ExecuteTime": {
     "end_time": "2022-01-18T22:40:31.537936Z",
     "start_time": "2022-01-18T22:40:31.524937Z"
    }
   },
   "outputs": [
    {
     "data": {
      "text/plain": [
       "0    1\n",
       "1    2\n",
       "2    3\n",
       "3    4\n",
       "dtype: int64"
      ]
     },
     "execution_count": 36,
     "metadata": {},
     "output_type": "execute_result"
    }
   ],
   "source": [
    "minha_series.iloc[0:4]"
   ]
  },
  {
   "cell_type": "markdown",
   "id": "81fa3024",
   "metadata": {},
   "source": [
    "### Operações com Series"
   ]
  },
  {
   "cell_type": "code",
   "execution_count": 39,
   "id": "5994b942",
   "metadata": {
    "ExecuteTime": {
     "end_time": "2022-01-18T22:48:27.786327Z",
     "start_time": "2022-01-18T22:48:27.777322Z"
    }
   },
   "outputs": [
    {
     "data": {
      "text/plain": [
       "0    1\n",
       "1    2\n",
       "2    3\n",
       "3    4\n",
       "4    5\n",
       "dtype: int64"
      ]
     },
     "execution_count": 39,
     "metadata": {},
     "output_type": "execute_result"
    }
   ],
   "source": [
    "minha_series"
   ]
  },
  {
   "cell_type": "code",
   "execution_count": 40,
   "id": "59a57237",
   "metadata": {
    "ExecuteTime": {
     "end_time": "2022-01-18T22:48:32.384544Z",
     "start_time": "2022-01-18T22:48:32.377544Z"
    }
   },
   "outputs": [
    {
     "data": {
      "text/plain": [
       "0     3\n",
       "1     6\n",
       "2     9\n",
       "3    12\n",
       "4    15\n",
       "dtype: int64"
      ]
     },
     "execution_count": 40,
     "metadata": {},
     "output_type": "execute_result"
    }
   ],
   "source": [
    "minha_series * 3"
   ]
  },
  {
   "cell_type": "code",
   "execution_count": 42,
   "id": "2f78a1df",
   "metadata": {
    "ExecuteTime": {
     "end_time": "2022-01-18T22:48:52.699205Z",
     "start_time": "2022-01-18T22:48:52.677195Z"
    }
   },
   "outputs": [
    {
     "data": {
      "text/plain": [
       "[1, 2, 3, 4, 5]"
      ]
     },
     "execution_count": 42,
     "metadata": {},
     "output_type": "execute_result"
    }
   ],
   "source": [
    "minha_series.to_list()"
   ]
  },
  {
   "cell_type": "code",
   "execution_count": 43,
   "id": "50ec124b",
   "metadata": {
    "ExecuteTime": {
     "end_time": "2022-01-18T22:49:05.013679Z",
     "start_time": "2022-01-18T22:49:04.999669Z"
    }
   },
   "outputs": [
    {
     "data": {
      "text/plain": [
       "0     2\n",
       "1     4\n",
       "2     6\n",
       "3     8\n",
       "4    10\n",
       "dtype: int64"
      ]
     },
     "execution_count": 43,
     "metadata": {},
     "output_type": "execute_result"
    }
   ],
   "source": [
    "minha_series + minha_series"
   ]
  },
  {
   "cell_type": "code",
   "execution_count": 44,
   "id": "01db2275",
   "metadata": {
    "ExecuteTime": {
     "end_time": "2022-01-18T22:49:19.364384Z",
     "start_time": "2022-01-18T22:49:19.344385Z"
    }
   },
   "outputs": [
    {
     "data": {
      "text/plain": [
       "15"
      ]
     },
     "execution_count": 44,
     "metadata": {},
     "output_type": "execute_result"
    }
   ],
   "source": [
    "minha_series.sum()"
   ]
  },
  {
   "cell_type": "code",
   "execution_count": 45,
   "id": "c445ea38",
   "metadata": {
    "ExecuteTime": {
     "end_time": "2022-01-18T22:49:25.877358Z",
     "start_time": "2022-01-18T22:49:25.865356Z"
    }
   },
   "outputs": [
    {
     "data": {
      "text/plain": [
       "3.0"
      ]
     },
     "execution_count": 45,
     "metadata": {},
     "output_type": "execute_result"
    }
   ],
   "source": [
    "minha_series.mean()"
   ]
  },
  {
   "cell_type": "code",
   "execution_count": 46,
   "id": "410bc75b",
   "metadata": {
    "ExecuteTime": {
     "end_time": "2022-01-18T22:49:31.164755Z",
     "start_time": "2022-01-18T22:49:31.157753Z"
    }
   },
   "outputs": [
    {
     "data": {
      "text/plain": [
       "5"
      ]
     },
     "execution_count": 46,
     "metadata": {},
     "output_type": "execute_result"
    }
   ],
   "source": [
    "minha_series.max()"
   ]
  },
  {
   "cell_type": "code",
   "execution_count": 47,
   "id": "c37c72d3",
   "metadata": {
    "ExecuteTime": {
     "end_time": "2022-01-18T22:49:37.566638Z",
     "start_time": "2022-01-18T22:49:37.550639Z"
    }
   },
   "outputs": [
    {
     "data": {
      "text/plain": [
       "1.5811388300841898"
      ]
     },
     "execution_count": 47,
     "metadata": {},
     "output_type": "execute_result"
    }
   ],
   "source": [
    "minha_series.std()"
   ]
  },
  {
   "cell_type": "code",
   "execution_count": 50,
   "id": "52de3f95",
   "metadata": {
    "ExecuteTime": {
     "end_time": "2022-01-18T22:50:34.282139Z",
     "start_time": "2022-01-18T22:50:34.262146Z"
    }
   },
   "outputs": [
    {
     "data": {
      "text/plain": [
       "0     True\n",
       "1     True\n",
       "2     True\n",
       "3    False\n",
       "4    False\n",
       "dtype: bool"
      ]
     },
     "execution_count": 50,
     "metadata": {},
     "output_type": "execute_result"
    }
   ],
   "source": [
    "minha_series < 4"
   ]
  },
  {
   "cell_type": "code",
   "execution_count": 49,
   "id": "ab80ac34",
   "metadata": {
    "ExecuteTime": {
     "end_time": "2022-01-18T22:50:16.458054Z",
     "start_time": "2022-01-18T22:50:16.450095Z"
    }
   },
   "outputs": [
    {
     "data": {
      "text/plain": [
       "0    1\n",
       "1    2\n",
       "2    3\n",
       "dtype: int64"
      ]
     },
     "execution_count": 49,
     "metadata": {},
     "output_type": "execute_result"
    }
   ],
   "source": [
    "minha_series[minha_series < 4]"
   ]
  },
  {
   "cell_type": "markdown",
   "id": "d4a13b92",
   "metadata": {},
   "source": [
    "### Operações entre Series"
   ]
  },
  {
   "cell_type": "code",
   "execution_count": 51,
   "id": "d7e095b8",
   "metadata": {
    "ExecuteTime": {
     "end_time": "2022-01-18T22:55:04.579973Z",
     "start_time": "2022-01-18T22:55:04.562036Z"
    }
   },
   "outputs": [
    {
     "data": {
      "text/plain": [
       "0     2\n",
       "1     4\n",
       "2     6\n",
       "3     8\n",
       "4    10\n",
       "dtype: int64"
      ]
     },
     "execution_count": 51,
     "metadata": {},
     "output_type": "execute_result"
    }
   ],
   "source": [
    "minha_series + minha_series"
   ]
  },
  {
   "cell_type": "code",
   "execution_count": 52,
   "id": "d90a23ee",
   "metadata": {
    "ExecuteTime": {
     "end_time": "2022-01-18T22:55:30.997398Z",
     "start_time": "2022-01-18T22:55:30.981434Z"
    }
   },
   "outputs": [
    {
     "data": {
      "text/plain": [
       "0    1\n",
       "1    3\n",
       "2    3\n",
       "3    4\n",
       "4    6\n",
       "dtype: int64"
      ]
     },
     "execution_count": 52,
     "metadata": {},
     "output_type": "execute_result"
    }
   ],
   "source": [
    "minha_series_nova = pd.Series([1,3,3,4,6])\n",
    "minha_series_nova"
   ]
  },
  {
   "cell_type": "code",
   "execution_count": 53,
   "id": "695dab86",
   "metadata": {
    "ExecuteTime": {
     "end_time": "2022-01-18T22:55:35.025531Z",
     "start_time": "2022-01-18T22:55:35.014530Z"
    }
   },
   "outputs": [
    {
     "data": {
      "text/plain": [
       "0     True\n",
       "1    False\n",
       "2     True\n",
       "3     True\n",
       "4    False\n",
       "dtype: bool"
      ]
     },
     "execution_count": 53,
     "metadata": {},
     "output_type": "execute_result"
    }
   ],
   "source": [
    "minha_series == minha_series_nova"
   ]
  },
  {
   "cell_type": "code",
   "execution_count": 54,
   "id": "ab8a3f83",
   "metadata": {
    "ExecuteTime": {
     "end_time": "2022-01-18T22:55:51.256758Z",
     "start_time": "2022-01-18T22:55:51.245759Z"
    }
   },
   "outputs": [
    {
     "data": {
      "text/plain": [
       "0     1\n",
       "1     6\n",
       "2     9\n",
       "3    16\n",
       "4    30\n",
       "dtype: int64"
      ]
     },
     "execution_count": 54,
     "metadata": {},
     "output_type": "execute_result"
    }
   ],
   "source": [
    "minha_series * minha_series_nova"
   ]
  },
  {
   "cell_type": "markdown",
   "id": "fa8c4078",
   "metadata": {},
   "source": [
    "### Dataframes\n",
    "\n",
    "É um conjunto de Series. Pode ser entendido como uma tabela."
   ]
  },
  {
   "cell_type": "code",
   "execution_count": 61,
   "id": "aae8472c",
   "metadata": {
    "ExecuteTime": {
     "end_time": "2022-01-18T22:58:52.860743Z",
     "start_time": "2022-01-18T22:58:52.830962Z"
    }
   },
   "outputs": [
    {
     "data": {
      "text/html": [
       "<div>\n",
       "<style scoped>\n",
       "    .dataframe tbody tr th:only-of-type {\n",
       "        vertical-align: middle;\n",
       "    }\n",
       "\n",
       "    .dataframe tbody tr th {\n",
       "        vertical-align: top;\n",
       "    }\n",
       "\n",
       "    .dataframe thead th {\n",
       "        text-align: right;\n",
       "    }\n",
       "</style>\n",
       "<table border=\"1\" class=\"dataframe\">\n",
       "  <thead>\n",
       "    <tr style=\"text-align: right;\">\n",
       "      <th></th>\n",
       "      <th>coluna1</th>\n",
       "      <th>coluna2</th>\n",
       "      <th>coluna3</th>\n",
       "      <th>coluna4</th>\n",
       "    </tr>\n",
       "  </thead>\n",
       "  <tbody>\n",
       "    <tr>\n",
       "      <th>0</th>\n",
       "      <td>1</td>\n",
       "      <td>1</td>\n",
       "      <td>1</td>\n",
       "      <td>2</td>\n",
       "    </tr>\n",
       "    <tr>\n",
       "      <th>1</th>\n",
       "      <td>2</td>\n",
       "      <td>2</td>\n",
       "      <td>2</td>\n",
       "      <td>4</td>\n",
       "    </tr>\n",
       "    <tr>\n",
       "      <th>2</th>\n",
       "      <td>3</td>\n",
       "      <td>3</td>\n",
       "      <td>3</td>\n",
       "      <td>6</td>\n",
       "    </tr>\n",
       "    <tr>\n",
       "      <th>3</th>\n",
       "      <td>4</td>\n",
       "      <td>4</td>\n",
       "      <td>4</td>\n",
       "      <td>8</td>\n",
       "    </tr>\n",
       "    <tr>\n",
       "      <th>4</th>\n",
       "      <td>5</td>\n",
       "      <td>5</td>\n",
       "      <td>5</td>\n",
       "      <td>10</td>\n",
       "    </tr>\n",
       "  </tbody>\n",
       "</table>\n",
       "</div>"
      ],
      "text/plain": [
       "   coluna1  coluna2  coluna3  coluna4\n",
       "0        1        1        1        2\n",
       "1        2        2        2        4\n",
       "2        3        3        3        6\n",
       "3        4        4        4        8\n",
       "4        5        5        5       10"
      ]
     },
     "execution_count": 61,
     "metadata": {},
     "output_type": "execute_result"
    }
   ],
   "source": [
    "df = pd.DataFrame()\n",
    "df['coluna1'] = [1,2,3,4,5]\n",
    "df['coluna2'] = [1,2,3,4,5]\n",
    "df['coluna3'] = [1,2,3,4,5]\n",
    "df['coluna4'] = df['coluna1'] + df['coluna2']\n",
    "df"
   ]
  },
  {
   "cell_type": "code",
   "execution_count": 64,
   "id": "6440d515",
   "metadata": {
    "ExecuteTime": {
     "end_time": "2022-01-18T22:59:44.262079Z",
     "start_time": "2022-01-18T22:59:44.247054Z"
    }
   },
   "outputs": [
    {
     "data": {
      "text/plain": [
       "pandas.core.frame.DataFrame"
      ]
     },
     "execution_count": 64,
     "metadata": {},
     "output_type": "execute_result"
    }
   ],
   "source": [
    "type(df)"
   ]
  },
  {
   "cell_type": "code",
   "execution_count": 63,
   "id": "bf779fbe",
   "metadata": {
    "ExecuteTime": {
     "end_time": "2022-01-18T22:59:37.272884Z",
     "start_time": "2022-01-18T22:59:37.260882Z"
    }
   },
   "outputs": [
    {
     "data": {
      "text/plain": [
       "pandas.core.series.Series"
      ]
     },
     "execution_count": 63,
     "metadata": {},
     "output_type": "execute_result"
    }
   ],
   "source": [
    "type(df['coluna1'])"
   ]
  },
  {
   "cell_type": "code",
   "execution_count": 65,
   "id": "a614ce7f",
   "metadata": {
    "ExecuteTime": {
     "end_time": "2022-01-18T23:00:03.115850Z",
     "start_time": "2022-01-18T23:00:03.105857Z"
    }
   },
   "outputs": [
    {
     "data": {
      "text/plain": [
       "Index(['coluna1', 'coluna2', 'coluna3', 'coluna4'], dtype='object')"
      ]
     },
     "execution_count": 65,
     "metadata": {},
     "output_type": "execute_result"
    }
   ],
   "source": [
    "df.columns"
   ]
  },
  {
   "cell_type": "code",
   "execution_count": 66,
   "id": "135196fa",
   "metadata": {
    "ExecuteTime": {
     "end_time": "2022-01-18T23:01:54.960044Z",
     "start_time": "2022-01-18T23:01:54.943047Z"
    }
   },
   "outputs": [
    {
     "data": {
      "text/plain": [
       "{'coluna1': [1, 2, 3, 4, 5],\n",
       " 'coluna2': [1, 2, 3, 4, 5],\n",
       " 'coluna3': [1, 2, 3, 4, 5]}"
      ]
     },
     "execution_count": 66,
     "metadata": {},
     "output_type": "execute_result"
    }
   ],
   "source": [
    "meu_dicionario = {\n",
    "    \"coluna1\": [1,2,3,4,5],\n",
    "    \"coluna2\": [1,2,3,4,5],\n",
    "    \"coluna3\": [1,2,3,4,5]\n",
    "}\n",
    "meu_dicionario"
   ]
  },
  {
   "cell_type": "code",
   "execution_count": 68,
   "id": "b41f52e1",
   "metadata": {
    "ExecuteTime": {
     "end_time": "2022-01-18T23:02:12.855671Z",
     "start_time": "2022-01-18T23:02:12.831667Z"
    }
   },
   "outputs": [
    {
     "data": {
      "text/html": [
       "<div>\n",
       "<style scoped>\n",
       "    .dataframe tbody tr th:only-of-type {\n",
       "        vertical-align: middle;\n",
       "    }\n",
       "\n",
       "    .dataframe tbody tr th {\n",
       "        vertical-align: top;\n",
       "    }\n",
       "\n",
       "    .dataframe thead th {\n",
       "        text-align: right;\n",
       "    }\n",
       "</style>\n",
       "<table border=\"1\" class=\"dataframe\">\n",
       "  <thead>\n",
       "    <tr style=\"text-align: right;\">\n",
       "      <th></th>\n",
       "      <th>coluna1</th>\n",
       "      <th>coluna2</th>\n",
       "      <th>coluna3</th>\n",
       "    </tr>\n",
       "  </thead>\n",
       "  <tbody>\n",
       "    <tr>\n",
       "      <th>0</th>\n",
       "      <td>1</td>\n",
       "      <td>1</td>\n",
       "      <td>1</td>\n",
       "    </tr>\n",
       "    <tr>\n",
       "      <th>1</th>\n",
       "      <td>2</td>\n",
       "      <td>2</td>\n",
       "      <td>2</td>\n",
       "    </tr>\n",
       "    <tr>\n",
       "      <th>2</th>\n",
       "      <td>3</td>\n",
       "      <td>3</td>\n",
       "      <td>3</td>\n",
       "    </tr>\n",
       "    <tr>\n",
       "      <th>3</th>\n",
       "      <td>4</td>\n",
       "      <td>4</td>\n",
       "      <td>4</td>\n",
       "    </tr>\n",
       "    <tr>\n",
       "      <th>4</th>\n",
       "      <td>5</td>\n",
       "      <td>5</td>\n",
       "      <td>5</td>\n",
       "    </tr>\n",
       "  </tbody>\n",
       "</table>\n",
       "</div>"
      ],
      "text/plain": [
       "   coluna1  coluna2  coluna3\n",
       "0        1        1        1\n",
       "1        2        2        2\n",
       "2        3        3        3\n",
       "3        4        4        4\n",
       "4        5        5        5"
      ]
     },
     "execution_count": 68,
     "metadata": {},
     "output_type": "execute_result"
    }
   ],
   "source": [
    "df = pd.DataFrame(meu_dicionario)\n",
    "df"
   ]
  },
  {
   "cell_type": "code",
   "execution_count": 69,
   "id": "8c819c09",
   "metadata": {
    "ExecuteTime": {
     "end_time": "2022-01-18T23:03:58.050457Z",
     "start_time": "2022-01-18T23:03:58.034451Z"
    }
   },
   "outputs": [
    {
     "data": {
      "text/plain": [
       "[[1, 1, 1], [2, 2, 2], [3, 3, 3], [4, 4, 4], [5, 5, 5]]"
      ]
     },
     "execution_count": 69,
     "metadata": {},
     "output_type": "execute_result"
    }
   ],
   "source": [
    "minha_lista = [[1,1,1],\n",
    "               [2,2,2],\n",
    "               [3,3,3],\n",
    "               [4,4,4],\n",
    "               [5,5,5]]\n",
    "minha_lista"
   ]
  },
  {
   "cell_type": "code",
   "execution_count": 72,
   "id": "d0077ad8",
   "metadata": {
    "ExecuteTime": {
     "end_time": "2022-01-18T23:04:48.182885Z",
     "start_time": "2022-01-18T23:04:48.158918Z"
    }
   },
   "outputs": [
    {
     "data": {
      "text/html": [
       "<div>\n",
       "<style scoped>\n",
       "    .dataframe tbody tr th:only-of-type {\n",
       "        vertical-align: middle;\n",
       "    }\n",
       "\n",
       "    .dataframe tbody tr th {\n",
       "        vertical-align: top;\n",
       "    }\n",
       "\n",
       "    .dataframe thead th {\n",
       "        text-align: right;\n",
       "    }\n",
       "</style>\n",
       "<table border=\"1\" class=\"dataframe\">\n",
       "  <thead>\n",
       "    <tr style=\"text-align: right;\">\n",
       "      <th></th>\n",
       "      <th>coluna1</th>\n",
       "      <th>coluna2</th>\n",
       "      <th>coluna3</th>\n",
       "    </tr>\n",
       "  </thead>\n",
       "  <tbody>\n",
       "    <tr>\n",
       "      <th>0</th>\n",
       "      <td>1</td>\n",
       "      <td>1</td>\n",
       "      <td>1</td>\n",
       "    </tr>\n",
       "    <tr>\n",
       "      <th>1</th>\n",
       "      <td>2</td>\n",
       "      <td>2</td>\n",
       "      <td>2</td>\n",
       "    </tr>\n",
       "    <tr>\n",
       "      <th>2</th>\n",
       "      <td>3</td>\n",
       "      <td>3</td>\n",
       "      <td>3</td>\n",
       "    </tr>\n",
       "    <tr>\n",
       "      <th>3</th>\n",
       "      <td>4</td>\n",
       "      <td>4</td>\n",
       "      <td>4</td>\n",
       "    </tr>\n",
       "    <tr>\n",
       "      <th>4</th>\n",
       "      <td>5</td>\n",
       "      <td>5</td>\n",
       "      <td>5</td>\n",
       "    </tr>\n",
       "  </tbody>\n",
       "</table>\n",
       "</div>"
      ],
      "text/plain": [
       "   coluna1  coluna2  coluna3\n",
       "0        1        1        1\n",
       "1        2        2        2\n",
       "2        3        3        3\n",
       "3        4        4        4\n",
       "4        5        5        5"
      ]
     },
     "execution_count": 72,
     "metadata": {},
     "output_type": "execute_result"
    }
   ],
   "source": [
    "df = pd.DataFrame(minha_lista, columns=['coluna1', 'coluna2', 'coluna3'])\n",
    "df"
   ]
  },
  {
   "cell_type": "markdown",
   "id": "ce5ac6cb",
   "metadata": {},
   "source": [
    "### Acessando DataFrames\n",
    "\n",
    "- loc\n",
    "- iloc"
   ]
  },
  {
   "cell_type": "code",
   "execution_count": 103,
   "id": "4d292b8e",
   "metadata": {
    "ExecuteTime": {
     "end_time": "2022-01-18T23:18:41.746471Z",
     "start_time": "2022-01-18T23:18:41.722468Z"
    }
   },
   "outputs": [
    {
     "data": {
      "text/html": [
       "<div>\n",
       "<style scoped>\n",
       "    .dataframe tbody tr th:only-of-type {\n",
       "        vertical-align: middle;\n",
       "    }\n",
       "\n",
       "    .dataframe tbody tr th {\n",
       "        vertical-align: top;\n",
       "    }\n",
       "\n",
       "    .dataframe thead th {\n",
       "        text-align: right;\n",
       "    }\n",
       "</style>\n",
       "<table border=\"1\" class=\"dataframe\">\n",
       "  <thead>\n",
       "    <tr style=\"text-align: right;\">\n",
       "      <th></th>\n",
       "      <th>coluna1</th>\n",
       "      <th>coluna2</th>\n",
       "      <th>coluna3</th>\n",
       "    </tr>\n",
       "  </thead>\n",
       "  <tbody>\n",
       "    <tr>\n",
       "      <th>b</th>\n",
       "      <td>1</td>\n",
       "      <td>1</td>\n",
       "      <td>1</td>\n",
       "    </tr>\n",
       "    <tr>\n",
       "      <th>a</th>\n",
       "      <td>2</td>\n",
       "      <td>2</td>\n",
       "      <td>2</td>\n",
       "    </tr>\n",
       "    <tr>\n",
       "      <th>c</th>\n",
       "      <td>3</td>\n",
       "      <td>3</td>\n",
       "      <td>3</td>\n",
       "    </tr>\n",
       "    <tr>\n",
       "      <th>d</th>\n",
       "      <td>4</td>\n",
       "      <td>4</td>\n",
       "      <td>4</td>\n",
       "    </tr>\n",
       "    <tr>\n",
       "      <th>e</th>\n",
       "      <td>5</td>\n",
       "      <td>5</td>\n",
       "      <td>5</td>\n",
       "    </tr>\n",
       "  </tbody>\n",
       "</table>\n",
       "</div>"
      ],
      "text/plain": [
       "   coluna1  coluna2  coluna3\n",
       "b        1        1        1\n",
       "a        2        2        2\n",
       "c        3        3        3\n",
       "d        4        4        4\n",
       "e        5        5        5"
      ]
     },
     "execution_count": 103,
     "metadata": {},
     "output_type": "execute_result"
    }
   ],
   "source": [
    "meus_indices = ['b', 'a', 'c', 'd', 'e']\n",
    "df = pd.DataFrame(minha_lista, columns=['coluna1', 'coluna2', 'coluna3'], index=meus_indices)\n",
    "df"
   ]
  },
  {
   "cell_type": "code",
   "execution_count": 109,
   "id": "f0ca4b8c",
   "metadata": {
    "ExecuteTime": {
     "end_time": "2022-01-18T23:19:25.367899Z",
     "start_time": "2022-01-18T23:19:25.344914Z"
    }
   },
   "outputs": [
    {
     "data": {
      "text/html": [
       "<div>\n",
       "<style scoped>\n",
       "    .dataframe tbody tr th:only-of-type {\n",
       "        vertical-align: middle;\n",
       "    }\n",
       "\n",
       "    .dataframe tbody tr th {\n",
       "        vertical-align: top;\n",
       "    }\n",
       "\n",
       "    .dataframe thead th {\n",
       "        text-align: right;\n",
       "    }\n",
       "</style>\n",
       "<table border=\"1\" class=\"dataframe\">\n",
       "  <thead>\n",
       "    <tr style=\"text-align: right;\">\n",
       "      <th></th>\n",
       "      <th>coluna1</th>\n",
       "      <th>coluna3</th>\n",
       "    </tr>\n",
       "  </thead>\n",
       "  <tbody>\n",
       "    <tr>\n",
       "      <th>b</th>\n",
       "      <td>1</td>\n",
       "      <td>1</td>\n",
       "    </tr>\n",
       "    <tr>\n",
       "      <th>d</th>\n",
       "      <td>4</td>\n",
       "      <td>4</td>\n",
       "    </tr>\n",
       "  </tbody>\n",
       "</table>\n",
       "</div>"
      ],
      "text/plain": [
       "   coluna1  coluna3\n",
       "b        1        1\n",
       "d        4        4"
      ]
     },
     "execution_count": 109,
     "metadata": {},
     "output_type": "execute_result"
    }
   ],
   "source": [
    "df.loc[['b','d'], ['coluna1','coluna3']]"
   ]
  },
  {
   "cell_type": "code",
   "execution_count": 97,
   "id": "398857c9",
   "metadata": {
    "ExecuteTime": {
     "end_time": "2022-01-18T23:15:26.958763Z",
     "start_time": "2022-01-18T23:15:26.952758Z"
    }
   },
   "outputs": [
    {
     "data": {
      "text/plain": [
       "Index(['coluna1', 'coluna2', 'coluna3'], dtype='object')"
      ]
     },
     "execution_count": 97,
     "metadata": {},
     "output_type": "execute_result"
    }
   ],
   "source": [
    "df.columns"
   ]
  },
  {
   "cell_type": "code",
   "execution_count": 112,
   "id": "2631ba0b",
   "metadata": {
    "ExecuteTime": {
     "end_time": "2022-01-18T23:19:58.032819Z",
     "start_time": "2022-01-18T23:19:58.018823Z"
    }
   },
   "outputs": [
    {
     "data": {
      "text/plain": [
       "b    1\n",
       "a    2\n",
       "c    3\n",
       "d    4\n",
       "e    5\n",
       "Name: coluna1, dtype: int64"
      ]
     },
     "execution_count": 112,
     "metadata": {},
     "output_type": "execute_result"
    }
   ],
   "source": [
    "df.iloc[:, 0]"
   ]
  },
  {
   "cell_type": "markdown",
   "id": "5a3c79df",
   "metadata": {},
   "source": [
    "### Filtros"
   ]
  },
  {
   "cell_type": "code",
   "execution_count": 117,
   "id": "9d61cac1",
   "metadata": {
    "ExecuteTime": {
     "end_time": "2022-01-18T23:23:49.533542Z",
     "start_time": "2022-01-18T23:23:49.521544Z"
    }
   },
   "outputs": [
    {
     "data": {
      "text/plain": [
       "[[1, 5, 7], [2, 10, 100], [3, 12, 200], [4, 15, 1000], [5, 20, 4000]]"
      ]
     },
     "execution_count": 117,
     "metadata": {},
     "output_type": "execute_result"
    }
   ],
   "source": [
    "minha_lista = [[1,5,7],\n",
    "               [2,10,100],\n",
    "               [3,12,200],\n",
    "               [4,15,1000],\n",
    "               [5,20,4000]]\n",
    "minha_lista"
   ]
  },
  {
   "cell_type": "code",
   "execution_count": 118,
   "id": "07b6b7a1",
   "metadata": {
    "ExecuteTime": {
     "end_time": "2022-01-18T23:24:07.443372Z",
     "start_time": "2022-01-18T23:24:07.424369Z"
    }
   },
   "outputs": [
    {
     "data": {
      "text/html": [
       "<div>\n",
       "<style scoped>\n",
       "    .dataframe tbody tr th:only-of-type {\n",
       "        vertical-align: middle;\n",
       "    }\n",
       "\n",
       "    .dataframe tbody tr th {\n",
       "        vertical-align: top;\n",
       "    }\n",
       "\n",
       "    .dataframe thead th {\n",
       "        text-align: right;\n",
       "    }\n",
       "</style>\n",
       "<table border=\"1\" class=\"dataframe\">\n",
       "  <thead>\n",
       "    <tr style=\"text-align: right;\">\n",
       "      <th></th>\n",
       "      <th>coluna1</th>\n",
       "      <th>coluna2</th>\n",
       "      <th>coluna3</th>\n",
       "    </tr>\n",
       "  </thead>\n",
       "  <tbody>\n",
       "    <tr>\n",
       "      <th>b</th>\n",
       "      <td>1</td>\n",
       "      <td>5</td>\n",
       "      <td>7</td>\n",
       "    </tr>\n",
       "    <tr>\n",
       "      <th>a</th>\n",
       "      <td>2</td>\n",
       "      <td>10</td>\n",
       "      <td>100</td>\n",
       "    </tr>\n",
       "    <tr>\n",
       "      <th>c</th>\n",
       "      <td>3</td>\n",
       "      <td>12</td>\n",
       "      <td>200</td>\n",
       "    </tr>\n",
       "    <tr>\n",
       "      <th>d</th>\n",
       "      <td>4</td>\n",
       "      <td>15</td>\n",
       "      <td>1000</td>\n",
       "    </tr>\n",
       "    <tr>\n",
       "      <th>e</th>\n",
       "      <td>5</td>\n",
       "      <td>20</td>\n",
       "      <td>4000</td>\n",
       "    </tr>\n",
       "  </tbody>\n",
       "</table>\n",
       "</div>"
      ],
      "text/plain": [
       "   coluna1  coluna2  coluna3\n",
       "b        1        5        7\n",
       "a        2       10      100\n",
       "c        3       12      200\n",
       "d        4       15     1000\n",
       "e        5       20     4000"
      ]
     },
     "execution_count": 118,
     "metadata": {},
     "output_type": "execute_result"
    }
   ],
   "source": [
    "meus_indices = ['b', 'a', 'c', 'd', 'e']\n",
    "df = pd.DataFrame(minha_lista, columns=['coluna1', 'coluna2', 'coluna3'], index=meus_indices)\n",
    "df"
   ]
  },
  {
   "cell_type": "code",
   "execution_count": 119,
   "id": "fdb4e96c",
   "metadata": {
    "ExecuteTime": {
     "end_time": "2022-01-18T23:24:12.344501Z",
     "start_time": "2022-01-18T23:24:12.321497Z"
    }
   },
   "outputs": [
    {
     "data": {
      "text/plain": [
       "b    False\n",
       "a    False\n",
       "c     True\n",
       "d     True\n",
       "e     True\n",
       "Name: coluna1, dtype: bool"
      ]
     },
     "execution_count": 119,
     "metadata": {},
     "output_type": "execute_result"
    }
   ],
   "source": [
    "df['coluna1'] > 2"
   ]
  },
  {
   "cell_type": "code",
   "execution_count": 120,
   "id": "f676d742",
   "metadata": {
    "ExecuteTime": {
     "end_time": "2022-01-18T23:24:13.403677Z",
     "start_time": "2022-01-18T23:24:13.386687Z"
    }
   },
   "outputs": [
    {
     "data": {
      "text/html": [
       "<div>\n",
       "<style scoped>\n",
       "    .dataframe tbody tr th:only-of-type {\n",
       "        vertical-align: middle;\n",
       "    }\n",
       "\n",
       "    .dataframe tbody tr th {\n",
       "        vertical-align: top;\n",
       "    }\n",
       "\n",
       "    .dataframe thead th {\n",
       "        text-align: right;\n",
       "    }\n",
       "</style>\n",
       "<table border=\"1\" class=\"dataframe\">\n",
       "  <thead>\n",
       "    <tr style=\"text-align: right;\">\n",
       "      <th></th>\n",
       "      <th>coluna1</th>\n",
       "      <th>coluna2</th>\n",
       "      <th>coluna3</th>\n",
       "    </tr>\n",
       "  </thead>\n",
       "  <tbody>\n",
       "    <tr>\n",
       "      <th>c</th>\n",
       "      <td>3</td>\n",
       "      <td>12</td>\n",
       "      <td>200</td>\n",
       "    </tr>\n",
       "    <tr>\n",
       "      <th>d</th>\n",
       "      <td>4</td>\n",
       "      <td>15</td>\n",
       "      <td>1000</td>\n",
       "    </tr>\n",
       "    <tr>\n",
       "      <th>e</th>\n",
       "      <td>5</td>\n",
       "      <td>20</td>\n",
       "      <td>4000</td>\n",
       "    </tr>\n",
       "  </tbody>\n",
       "</table>\n",
       "</div>"
      ],
      "text/plain": [
       "   coluna1  coluna2  coluna3\n",
       "c        3       12      200\n",
       "d        4       15     1000\n",
       "e        5       20     4000"
      ]
     },
     "execution_count": 120,
     "metadata": {},
     "output_type": "execute_result"
    }
   ],
   "source": [
    "df[df['coluna1'] > 2]"
   ]
  },
  {
   "cell_type": "markdown",
   "id": "60eacf9e",
   "metadata": {},
   "source": [
    "and -> &\n",
    "\n",
    "or -> |\n",
    "\n",
    "not -> ~"
   ]
  },
  {
   "cell_type": "code",
   "execution_count": 122,
   "id": "0c8ad0ed",
   "metadata": {
    "ExecuteTime": {
     "end_time": "2022-01-18T23:26:47.139503Z",
     "start_time": "2022-01-18T23:26:47.126504Z"
    }
   },
   "outputs": [],
   "source": [
    "filtro = (df['coluna1'] > 2) & (df['coluna2'] > 12)"
   ]
  },
  {
   "cell_type": "code",
   "execution_count": 127,
   "id": "b1c21dbb",
   "metadata": {
    "ExecuteTime": {
     "end_time": "2022-01-18T23:28:36.849746Z",
     "start_time": "2022-01-18T23:28:36.826747Z"
    }
   },
   "outputs": [
    {
     "data": {
      "text/html": [
       "<div>\n",
       "<style scoped>\n",
       "    .dataframe tbody tr th:only-of-type {\n",
       "        vertical-align: middle;\n",
       "    }\n",
       "\n",
       "    .dataframe tbody tr th {\n",
       "        vertical-align: top;\n",
       "    }\n",
       "\n",
       "    .dataframe thead th {\n",
       "        text-align: right;\n",
       "    }\n",
       "</style>\n",
       "<table border=\"1\" class=\"dataframe\">\n",
       "  <thead>\n",
       "    <tr style=\"text-align: right;\">\n",
       "      <th></th>\n",
       "      <th>coluna1</th>\n",
       "      <th>coluna2</th>\n",
       "      <th>coluna3</th>\n",
       "    </tr>\n",
       "  </thead>\n",
       "  <tbody>\n",
       "    <tr>\n",
       "      <th>d</th>\n",
       "      <td>4</td>\n",
       "      <td>15</td>\n",
       "      <td>1000</td>\n",
       "    </tr>\n",
       "    <tr>\n",
       "      <th>e</th>\n",
       "      <td>5</td>\n",
       "      <td>20</td>\n",
       "      <td>4000</td>\n",
       "    </tr>\n",
       "  </tbody>\n",
       "</table>\n",
       "</div>"
      ],
      "text/plain": [
       "   coluna1  coluna2  coluna3\n",
       "d        4       15     1000\n",
       "e        5       20     4000"
      ]
     },
     "execution_count": 127,
     "metadata": {},
     "output_type": "execute_result"
    }
   ],
   "source": [
    "df[filtro]"
   ]
  },
  {
   "cell_type": "code",
   "execution_count": 126,
   "id": "5630d33f",
   "metadata": {
    "ExecuteTime": {
     "end_time": "2022-01-18T23:28:26.171637Z",
     "start_time": "2022-01-18T23:28:26.149644Z"
    }
   },
   "outputs": [
    {
     "data": {
      "text/html": [
       "<div>\n",
       "<style scoped>\n",
       "    .dataframe tbody tr th:only-of-type {\n",
       "        vertical-align: middle;\n",
       "    }\n",
       "\n",
       "    .dataframe tbody tr th {\n",
       "        vertical-align: top;\n",
       "    }\n",
       "\n",
       "    .dataframe thead th {\n",
       "        text-align: right;\n",
       "    }\n",
       "</style>\n",
       "<table border=\"1\" class=\"dataframe\">\n",
       "  <thead>\n",
       "    <tr style=\"text-align: right;\">\n",
       "      <th></th>\n",
       "      <th>coluna1</th>\n",
       "      <th>coluna2</th>\n",
       "      <th>coluna3</th>\n",
       "    </tr>\n",
       "  </thead>\n",
       "  <tbody>\n",
       "    <tr>\n",
       "      <th>b</th>\n",
       "      <td>1</td>\n",
       "      <td>5</td>\n",
       "      <td>7</td>\n",
       "    </tr>\n",
       "    <tr>\n",
       "      <th>a</th>\n",
       "      <td>2</td>\n",
       "      <td>10</td>\n",
       "      <td>100</td>\n",
       "    </tr>\n",
       "    <tr>\n",
       "      <th>c</th>\n",
       "      <td>3</td>\n",
       "      <td>12</td>\n",
       "      <td>200</td>\n",
       "    </tr>\n",
       "    <tr>\n",
       "      <th>d</th>\n",
       "      <td>4</td>\n",
       "      <td>15</td>\n",
       "      <td>1000</td>\n",
       "    </tr>\n",
       "    <tr>\n",
       "      <th>e</th>\n",
       "      <td>5</td>\n",
       "      <td>20</td>\n",
       "      <td>4000</td>\n",
       "    </tr>\n",
       "  </tbody>\n",
       "</table>\n",
       "</div>"
      ],
      "text/plain": [
       "   coluna1  coluna2  coluna3\n",
       "b        1        5        7\n",
       "a        2       10      100\n",
       "c        3       12      200\n",
       "d        4       15     1000\n",
       "e        5       20     4000"
      ]
     },
     "execution_count": 126,
     "metadata": {},
     "output_type": "execute_result"
    }
   ],
   "source": [
    "df"
   ]
  },
  {
   "cell_type": "code",
   "execution_count": 125,
   "id": "640cb79a",
   "metadata": {
    "ExecuteTime": {
     "end_time": "2022-01-18T23:28:20.865251Z",
     "start_time": "2022-01-18T23:28:20.843254Z"
    }
   },
   "outputs": [
    {
     "data": {
      "text/html": [
       "<div>\n",
       "<style scoped>\n",
       "    .dataframe tbody tr th:only-of-type {\n",
       "        vertical-align: middle;\n",
       "    }\n",
       "\n",
       "    .dataframe tbody tr th {\n",
       "        vertical-align: top;\n",
       "    }\n",
       "\n",
       "    .dataframe thead th {\n",
       "        text-align: right;\n",
       "    }\n",
       "</style>\n",
       "<table border=\"1\" class=\"dataframe\">\n",
       "  <thead>\n",
       "    <tr style=\"text-align: right;\">\n",
       "      <th></th>\n",
       "      <th>coluna1</th>\n",
       "      <th>coluna2</th>\n",
       "      <th>coluna3</th>\n",
       "    </tr>\n",
       "  </thead>\n",
       "  <tbody>\n",
       "    <tr>\n",
       "      <th>a</th>\n",
       "      <td>2</td>\n",
       "      <td>10</td>\n",
       "      <td>100</td>\n",
       "    </tr>\n",
       "    <tr>\n",
       "      <th>d</th>\n",
       "      <td>4</td>\n",
       "      <td>15</td>\n",
       "      <td>1000</td>\n",
       "    </tr>\n",
       "    <tr>\n",
       "      <th>e</th>\n",
       "      <td>5</td>\n",
       "      <td>20</td>\n",
       "      <td>4000</td>\n",
       "    </tr>\n",
       "  </tbody>\n",
       "</table>\n",
       "</div>"
      ],
      "text/plain": [
       "   coluna1  coluna2  coluna3\n",
       "a        2       10      100\n",
       "d        4       15     1000\n",
       "e        5       20     4000"
      ]
     },
     "execution_count": 125,
     "metadata": {},
     "output_type": "execute_result"
    }
   ],
   "source": [
    "df[[False, True, False, True, True]]"
   ]
  },
  {
   "cell_type": "markdown",
   "id": "1b59b2ff",
   "metadata": {},
   "source": [
    "### Operações com DataFrame"
   ]
  },
  {
   "cell_type": "code",
   "execution_count": 128,
   "id": "d4850a3c",
   "metadata": {
    "ExecuteTime": {
     "end_time": "2022-01-18T23:50:07.993865Z",
     "start_time": "2022-01-18T23:50:07.972377Z"
    }
   },
   "outputs": [
    {
     "data": {
      "text/html": [
       "<div>\n",
       "<style scoped>\n",
       "    .dataframe tbody tr th:only-of-type {\n",
       "        vertical-align: middle;\n",
       "    }\n",
       "\n",
       "    .dataframe tbody tr th {\n",
       "        vertical-align: top;\n",
       "    }\n",
       "\n",
       "    .dataframe thead th {\n",
       "        text-align: right;\n",
       "    }\n",
       "</style>\n",
       "<table border=\"1\" class=\"dataframe\">\n",
       "  <thead>\n",
       "    <tr style=\"text-align: right;\">\n",
       "      <th></th>\n",
       "      <th>coluna1</th>\n",
       "      <th>coluna2</th>\n",
       "      <th>coluna3</th>\n",
       "    </tr>\n",
       "  </thead>\n",
       "  <tbody>\n",
       "    <tr>\n",
       "      <th>b</th>\n",
       "      <td>1</td>\n",
       "      <td>5</td>\n",
       "      <td>7</td>\n",
       "    </tr>\n",
       "    <tr>\n",
       "      <th>a</th>\n",
       "      <td>2</td>\n",
       "      <td>10</td>\n",
       "      <td>100</td>\n",
       "    </tr>\n",
       "    <tr>\n",
       "      <th>c</th>\n",
       "      <td>3</td>\n",
       "      <td>12</td>\n",
       "      <td>200</td>\n",
       "    </tr>\n",
       "    <tr>\n",
       "      <th>d</th>\n",
       "      <td>4</td>\n",
       "      <td>15</td>\n",
       "      <td>1000</td>\n",
       "    </tr>\n",
       "    <tr>\n",
       "      <th>e</th>\n",
       "      <td>5</td>\n",
       "      <td>20</td>\n",
       "      <td>4000</td>\n",
       "    </tr>\n",
       "  </tbody>\n",
       "</table>\n",
       "</div>"
      ],
      "text/plain": [
       "   coluna1  coluna2  coluna3\n",
       "b        1        5        7\n",
       "a        2       10      100\n",
       "c        3       12      200\n",
       "d        4       15     1000\n",
       "e        5       20     4000"
      ]
     },
     "execution_count": 128,
     "metadata": {},
     "output_type": "execute_result"
    }
   ],
   "source": [
    "df"
   ]
  },
  {
   "cell_type": "code",
   "execution_count": 129,
   "id": "3a75e103",
   "metadata": {
    "ExecuteTime": {
     "end_time": "2022-01-18T23:50:14.853169Z",
     "start_time": "2022-01-18T23:50:14.834171Z"
    }
   },
   "outputs": [
    {
     "data": {
      "text/html": [
       "<div>\n",
       "<style scoped>\n",
       "    .dataframe tbody tr th:only-of-type {\n",
       "        vertical-align: middle;\n",
       "    }\n",
       "\n",
       "    .dataframe tbody tr th {\n",
       "        vertical-align: top;\n",
       "    }\n",
       "\n",
       "    .dataframe thead th {\n",
       "        text-align: right;\n",
       "    }\n",
       "</style>\n",
       "<table border=\"1\" class=\"dataframe\">\n",
       "  <thead>\n",
       "    <tr style=\"text-align: right;\">\n",
       "      <th></th>\n",
       "      <th>coluna1</th>\n",
       "      <th>coluna2</th>\n",
       "      <th>coluna3</th>\n",
       "    </tr>\n",
       "  </thead>\n",
       "  <tbody>\n",
       "    <tr>\n",
       "      <th>b</th>\n",
       "      <td>3</td>\n",
       "      <td>15</td>\n",
       "      <td>21</td>\n",
       "    </tr>\n",
       "    <tr>\n",
       "      <th>a</th>\n",
       "      <td>6</td>\n",
       "      <td>30</td>\n",
       "      <td>300</td>\n",
       "    </tr>\n",
       "    <tr>\n",
       "      <th>c</th>\n",
       "      <td>9</td>\n",
       "      <td>36</td>\n",
       "      <td>600</td>\n",
       "    </tr>\n",
       "    <tr>\n",
       "      <th>d</th>\n",
       "      <td>12</td>\n",
       "      <td>45</td>\n",
       "      <td>3000</td>\n",
       "    </tr>\n",
       "    <tr>\n",
       "      <th>e</th>\n",
       "      <td>15</td>\n",
       "      <td>60</td>\n",
       "      <td>12000</td>\n",
       "    </tr>\n",
       "  </tbody>\n",
       "</table>\n",
       "</div>"
      ],
      "text/plain": [
       "   coluna1  coluna2  coluna3\n",
       "b        3       15       21\n",
       "a        6       30      300\n",
       "c        9       36      600\n",
       "d       12       45     3000\n",
       "e       15       60    12000"
      ]
     },
     "execution_count": 129,
     "metadata": {},
     "output_type": "execute_result"
    }
   ],
   "source": [
    "df * 3"
   ]
  },
  {
   "cell_type": "code",
   "execution_count": 130,
   "id": "9040af7d",
   "metadata": {
    "ExecuteTime": {
     "end_time": "2022-01-18T23:50:33.661696Z",
     "start_time": "2022-01-18T23:50:33.642694Z"
    }
   },
   "outputs": [],
   "source": [
    "df['coluna4'] = df['coluna1'] + 2"
   ]
  },
  {
   "cell_type": "code",
   "execution_count": 131,
   "id": "db2f86f1",
   "metadata": {
    "ExecuteTime": {
     "end_time": "2022-01-18T23:50:37.635170Z",
     "start_time": "2022-01-18T23:50:37.616170Z"
    }
   },
   "outputs": [
    {
     "data": {
      "text/html": [
       "<div>\n",
       "<style scoped>\n",
       "    .dataframe tbody tr th:only-of-type {\n",
       "        vertical-align: middle;\n",
       "    }\n",
       "\n",
       "    .dataframe tbody tr th {\n",
       "        vertical-align: top;\n",
       "    }\n",
       "\n",
       "    .dataframe thead th {\n",
       "        text-align: right;\n",
       "    }\n",
       "</style>\n",
       "<table border=\"1\" class=\"dataframe\">\n",
       "  <thead>\n",
       "    <tr style=\"text-align: right;\">\n",
       "      <th></th>\n",
       "      <th>coluna1</th>\n",
       "      <th>coluna2</th>\n",
       "      <th>coluna3</th>\n",
       "      <th>coluna4</th>\n",
       "    </tr>\n",
       "  </thead>\n",
       "  <tbody>\n",
       "    <tr>\n",
       "      <th>b</th>\n",
       "      <td>1</td>\n",
       "      <td>5</td>\n",
       "      <td>7</td>\n",
       "      <td>3</td>\n",
       "    </tr>\n",
       "    <tr>\n",
       "      <th>a</th>\n",
       "      <td>2</td>\n",
       "      <td>10</td>\n",
       "      <td>100</td>\n",
       "      <td>4</td>\n",
       "    </tr>\n",
       "    <tr>\n",
       "      <th>c</th>\n",
       "      <td>3</td>\n",
       "      <td>12</td>\n",
       "      <td>200</td>\n",
       "      <td>5</td>\n",
       "    </tr>\n",
       "    <tr>\n",
       "      <th>d</th>\n",
       "      <td>4</td>\n",
       "      <td>15</td>\n",
       "      <td>1000</td>\n",
       "      <td>6</td>\n",
       "    </tr>\n",
       "    <tr>\n",
       "      <th>e</th>\n",
       "      <td>5</td>\n",
       "      <td>20</td>\n",
       "      <td>4000</td>\n",
       "      <td>7</td>\n",
       "    </tr>\n",
       "  </tbody>\n",
       "</table>\n",
       "</div>"
      ],
      "text/plain": [
       "   coluna1  coluna2  coluna3  coluna4\n",
       "b        1        5        7        3\n",
       "a        2       10      100        4\n",
       "c        3       12      200        5\n",
       "d        4       15     1000        6\n",
       "e        5       20     4000        7"
      ]
     },
     "execution_count": 131,
     "metadata": {},
     "output_type": "execute_result"
    }
   ],
   "source": [
    "df"
   ]
  },
  {
   "cell_type": "markdown",
   "id": "a3eac11d",
   "metadata": {},
   "source": [
    "## Lendo dados\n",
    "\n",
    "Vamos aprender aqui o ```read_csv``` e o ```read_excel```. Claro que existem outros, mas escolhemos esses por ser os mais utilizados (o uso entre eles é bem parecido)."
   ]
  },
  {
   "cell_type": "markdown",
   "id": "dee948c3",
   "metadata": {},
   "source": [
    "![](imgs/img2.JPG)"
   ]
  },
  {
   "cell_type": "markdown",
   "id": "a33cb31c",
   "metadata": {},
   "source": [
    "### read_csv"
   ]
  },
  {
   "cell_type": "code",
   "execution_count": 137,
   "id": "3bb04baf",
   "metadata": {
    "ExecuteTime": {
     "end_time": "2022-01-18T23:54:23.406206Z",
     "start_time": "2022-01-18T23:54:23.361184Z"
    }
   },
   "outputs": [
    {
     "data": {
      "text/html": [
       "<div>\n",
       "<style scoped>\n",
       "    .dataframe tbody tr th:only-of-type {\n",
       "        vertical-align: middle;\n",
       "    }\n",
       "\n",
       "    .dataframe tbody tr th {\n",
       "        vertical-align: top;\n",
       "    }\n",
       "\n",
       "    .dataframe thead th {\n",
       "        text-align: right;\n",
       "    }\n",
       "</style>\n",
       "<table border=\"1\" class=\"dataframe\">\n",
       "  <thead>\n",
       "    <tr style=\"text-align: right;\">\n",
       "      <th></th>\n",
       "      <th>PassengerId</th>\n",
       "      <th>Survived</th>\n",
       "      <th>Pclass</th>\n",
       "      <th>Name</th>\n",
       "      <th>Sex</th>\n",
       "      <th>Age</th>\n",
       "      <th>SibSp</th>\n",
       "      <th>Parch</th>\n",
       "      <th>Ticket</th>\n",
       "      <th>Fare</th>\n",
       "      <th>Cabin</th>\n",
       "      <th>Embarked</th>\n",
       "    </tr>\n",
       "  </thead>\n",
       "  <tbody>\n",
       "    <tr>\n",
       "      <th>0</th>\n",
       "      <td>1</td>\n",
       "      <td>0</td>\n",
       "      <td>3</td>\n",
       "      <td>Braund, Mr. Owen Harris</td>\n",
       "      <td>male</td>\n",
       "      <td>22.0</td>\n",
       "      <td>1</td>\n",
       "      <td>0</td>\n",
       "      <td>A/5 21171</td>\n",
       "      <td>7.2500</td>\n",
       "      <td>NaN</td>\n",
       "      <td>S</td>\n",
       "    </tr>\n",
       "    <tr>\n",
       "      <th>1</th>\n",
       "      <td>2</td>\n",
       "      <td>1</td>\n",
       "      <td>1</td>\n",
       "      <td>Cumings, Mrs. John Bradley (Florence Briggs Th...</td>\n",
       "      <td>female</td>\n",
       "      <td>38.0</td>\n",
       "      <td>1</td>\n",
       "      <td>0</td>\n",
       "      <td>PC 17599</td>\n",
       "      <td>71.2833</td>\n",
       "      <td>C85</td>\n",
       "      <td>C</td>\n",
       "    </tr>\n",
       "    <tr>\n",
       "      <th>2</th>\n",
       "      <td>3</td>\n",
       "      <td>1</td>\n",
       "      <td>3</td>\n",
       "      <td>Heikkinen, Miss. Laina</td>\n",
       "      <td>female</td>\n",
       "      <td>26.0</td>\n",
       "      <td>0</td>\n",
       "      <td>0</td>\n",
       "      <td>STON/O2. 3101282</td>\n",
       "      <td>7.9250</td>\n",
       "      <td>NaN</td>\n",
       "      <td>S</td>\n",
       "    </tr>\n",
       "    <tr>\n",
       "      <th>3</th>\n",
       "      <td>4</td>\n",
       "      <td>1</td>\n",
       "      <td>1</td>\n",
       "      <td>Futrelle, Mrs. Jacques Heath (Lily May Peel)</td>\n",
       "      <td>female</td>\n",
       "      <td>35.0</td>\n",
       "      <td>1</td>\n",
       "      <td>0</td>\n",
       "      <td>113803</td>\n",
       "      <td>53.1000</td>\n",
       "      <td>C123</td>\n",
       "      <td>S</td>\n",
       "    </tr>\n",
       "    <tr>\n",
       "      <th>4</th>\n",
       "      <td>5</td>\n",
       "      <td>0</td>\n",
       "      <td>3</td>\n",
       "      <td>Allen, Mr. William Henry</td>\n",
       "      <td>male</td>\n",
       "      <td>35.0</td>\n",
       "      <td>0</td>\n",
       "      <td>0</td>\n",
       "      <td>373450</td>\n",
       "      <td>8.0500</td>\n",
       "      <td>NaN</td>\n",
       "      <td>S</td>\n",
       "    </tr>\n",
       "  </tbody>\n",
       "</table>\n",
       "</div>"
      ],
      "text/plain": [
       "   PassengerId  Survived  Pclass  \\\n",
       "0            1         0       3   \n",
       "1            2         1       1   \n",
       "2            3         1       3   \n",
       "3            4         1       1   \n",
       "4            5         0       3   \n",
       "\n",
       "                                                Name     Sex   Age  SibSp  \\\n",
       "0                            Braund, Mr. Owen Harris    male  22.0      1   \n",
       "1  Cumings, Mrs. John Bradley (Florence Briggs Th...  female  38.0      1   \n",
       "2                             Heikkinen, Miss. Laina  female  26.0      0   \n",
       "3       Futrelle, Mrs. Jacques Heath (Lily May Peel)  female  35.0      1   \n",
       "4                           Allen, Mr. William Henry    male  35.0      0   \n",
       "\n",
       "   Parch            Ticket     Fare Cabin Embarked  \n",
       "0      0         A/5 21171   7.2500   NaN        S  \n",
       "1      0          PC 17599  71.2833   C85        C  \n",
       "2      0  STON/O2. 3101282   7.9250   NaN        S  \n",
       "3      0            113803  53.1000  C123        S  \n",
       "4      0            373450   8.0500   NaN        S  "
      ]
     },
     "execution_count": 137,
     "metadata": {},
     "output_type": "execute_result"
    }
   ],
   "source": [
    "df = pd.read_csv('titanic.csv')\n",
    "df.head()"
   ]
  },
  {
   "cell_type": "code",
   "execution_count": 138,
   "id": "11a28614",
   "metadata": {
    "ExecuteTime": {
     "end_time": "2022-01-18T23:54:31.272834Z",
     "start_time": "2022-01-18T23:54:31.245834Z"
    }
   },
   "outputs": [
    {
     "data": {
      "text/html": [
       "<div>\n",
       "<style scoped>\n",
       "    .dataframe tbody tr th:only-of-type {\n",
       "        vertical-align: middle;\n",
       "    }\n",
       "\n",
       "    .dataframe tbody tr th {\n",
       "        vertical-align: top;\n",
       "    }\n",
       "\n",
       "    .dataframe thead th {\n",
       "        text-align: right;\n",
       "    }\n",
       "</style>\n",
       "<table border=\"1\" class=\"dataframe\">\n",
       "  <thead>\n",
       "    <tr style=\"text-align: right;\">\n",
       "      <th></th>\n",
       "      <th>PassengerId</th>\n",
       "      <th>Survived</th>\n",
       "      <th>Pclass</th>\n",
       "      <th>Name</th>\n",
       "      <th>Sex</th>\n",
       "      <th>Age</th>\n",
       "      <th>SibSp</th>\n",
       "      <th>Parch</th>\n",
       "      <th>Ticket</th>\n",
       "      <th>Fare</th>\n",
       "      <th>Cabin</th>\n",
       "      <th>Embarked</th>\n",
       "    </tr>\n",
       "  </thead>\n",
       "  <tbody>\n",
       "    <tr>\n",
       "      <th>886</th>\n",
       "      <td>887</td>\n",
       "      <td>0</td>\n",
       "      <td>2</td>\n",
       "      <td>Montvila, Rev. Juozas</td>\n",
       "      <td>male</td>\n",
       "      <td>27.0</td>\n",
       "      <td>0</td>\n",
       "      <td>0</td>\n",
       "      <td>211536</td>\n",
       "      <td>13.00</td>\n",
       "      <td>NaN</td>\n",
       "      <td>S</td>\n",
       "    </tr>\n",
       "    <tr>\n",
       "      <th>887</th>\n",
       "      <td>888</td>\n",
       "      <td>1</td>\n",
       "      <td>1</td>\n",
       "      <td>Graham, Miss. Margaret Edith</td>\n",
       "      <td>female</td>\n",
       "      <td>19.0</td>\n",
       "      <td>0</td>\n",
       "      <td>0</td>\n",
       "      <td>112053</td>\n",
       "      <td>30.00</td>\n",
       "      <td>B42</td>\n",
       "      <td>S</td>\n",
       "    </tr>\n",
       "    <tr>\n",
       "      <th>888</th>\n",
       "      <td>889</td>\n",
       "      <td>0</td>\n",
       "      <td>3</td>\n",
       "      <td>Johnston, Miss. Catherine Helen \"Carrie\"</td>\n",
       "      <td>female</td>\n",
       "      <td>NaN</td>\n",
       "      <td>1</td>\n",
       "      <td>2</td>\n",
       "      <td>W./C. 6607</td>\n",
       "      <td>23.45</td>\n",
       "      <td>NaN</td>\n",
       "      <td>S</td>\n",
       "    </tr>\n",
       "    <tr>\n",
       "      <th>889</th>\n",
       "      <td>890</td>\n",
       "      <td>1</td>\n",
       "      <td>1</td>\n",
       "      <td>Behr, Mr. Karl Howell</td>\n",
       "      <td>male</td>\n",
       "      <td>26.0</td>\n",
       "      <td>0</td>\n",
       "      <td>0</td>\n",
       "      <td>111369</td>\n",
       "      <td>30.00</td>\n",
       "      <td>C148</td>\n",
       "      <td>C</td>\n",
       "    </tr>\n",
       "    <tr>\n",
       "      <th>890</th>\n",
       "      <td>891</td>\n",
       "      <td>0</td>\n",
       "      <td>3</td>\n",
       "      <td>Dooley, Mr. Patrick</td>\n",
       "      <td>male</td>\n",
       "      <td>32.0</td>\n",
       "      <td>0</td>\n",
       "      <td>0</td>\n",
       "      <td>370376</td>\n",
       "      <td>7.75</td>\n",
       "      <td>NaN</td>\n",
       "      <td>Q</td>\n",
       "    </tr>\n",
       "  </tbody>\n",
       "</table>\n",
       "</div>"
      ],
      "text/plain": [
       "     PassengerId  Survived  Pclass                                      Name  \\\n",
       "886          887         0       2                     Montvila, Rev. Juozas   \n",
       "887          888         1       1              Graham, Miss. Margaret Edith   \n",
       "888          889         0       3  Johnston, Miss. Catherine Helen \"Carrie\"   \n",
       "889          890         1       1                     Behr, Mr. Karl Howell   \n",
       "890          891         0       3                       Dooley, Mr. Patrick   \n",
       "\n",
       "        Sex   Age  SibSp  Parch      Ticket   Fare Cabin Embarked  \n",
       "886    male  27.0      0      0      211536  13.00   NaN        S  \n",
       "887  female  19.0      0      0      112053  30.00   B42        S  \n",
       "888  female   NaN      1      2  W./C. 6607  23.45   NaN        S  \n",
       "889    male  26.0      0      0      111369  30.00  C148        C  \n",
       "890    male  32.0      0      0      370376   7.75   NaN        Q  "
      ]
     },
     "execution_count": 138,
     "metadata": {},
     "output_type": "execute_result"
    }
   ],
   "source": [
    "df.tail()"
   ]
  },
  {
   "cell_type": "code",
   "execution_count": 139,
   "id": "ae2cd1d6",
   "metadata": {
    "ExecuteTime": {
     "end_time": "2022-01-18T23:56:23.762013Z",
     "start_time": "2022-01-18T23:56:23.740001Z"
    }
   },
   "outputs": [
    {
     "data": {
      "text/plain": [
       "(891, 12)"
      ]
     },
     "execution_count": 139,
     "metadata": {},
     "output_type": "execute_result"
    }
   ],
   "source": [
    "df.shape"
   ]
  },
  {
   "cell_type": "markdown",
   "id": "ffe7ea3d",
   "metadata": {},
   "source": [
    "Também temos alguns argumentos que podem nos ajudar em alguns casos:\n",
    "* sep: separador do arquivo CSV;\n",
    "* usecols: as colunas que você quer ler do CSV;\n",
    "* nrows: a quantidade de linhas que você quer ler;\n",
    "* skiprows: as linhas que você não quer ler ao carregar o arquivo;\n",
    "* encoding: corrige formatacoes de diferente linguas\n",
    "* dentre outros..."
   ]
  },
  {
   "cell_type": "code",
   "execution_count": 147,
   "id": "66b2a823",
   "metadata": {
    "ExecuteTime": {
     "end_time": "2022-01-19T00:03:53.656819Z",
     "start_time": "2022-01-19T00:03:53.624285Z"
    }
   },
   "outputs": [
    {
     "data": {
      "text/html": [
       "<div>\n",
       "<style scoped>\n",
       "    .dataframe tbody tr th:only-of-type {\n",
       "        vertical-align: middle;\n",
       "    }\n",
       "\n",
       "    .dataframe tbody tr th {\n",
       "        vertical-align: top;\n",
       "    }\n",
       "\n",
       "    .dataframe thead th {\n",
       "        text-align: right;\n",
       "    }\n",
       "</style>\n",
       "<table border=\"1\" class=\"dataframe\">\n",
       "  <thead>\n",
       "    <tr style=\"text-align: right;\">\n",
       "      <th></th>\n",
       "      <th>PassengerId</th>\n",
       "      <th>Survived</th>\n",
       "    </tr>\n",
       "  </thead>\n",
       "  <tbody>\n",
       "    <tr>\n",
       "      <th>0</th>\n",
       "      <td>3</td>\n",
       "      <td>1</td>\n",
       "    </tr>\n",
       "    <tr>\n",
       "      <th>1</th>\n",
       "      <td>4</td>\n",
       "      <td>1</td>\n",
       "    </tr>\n",
       "    <tr>\n",
       "      <th>2</th>\n",
       "      <td>5</td>\n",
       "      <td>0</td>\n",
       "    </tr>\n",
       "    <tr>\n",
       "      <th>3</th>\n",
       "      <td>6</td>\n",
       "      <td>0</td>\n",
       "    </tr>\n",
       "    <tr>\n",
       "      <th>4</th>\n",
       "      <td>7</td>\n",
       "      <td>0</td>\n",
       "    </tr>\n",
       "    <tr>\n",
       "      <th>5</th>\n",
       "      <td>8</td>\n",
       "      <td>0</td>\n",
       "    </tr>\n",
       "    <tr>\n",
       "      <th>6</th>\n",
       "      <td>9</td>\n",
       "      <td>1</td>\n",
       "    </tr>\n",
       "    <tr>\n",
       "      <th>7</th>\n",
       "      <td>10</td>\n",
       "      <td>1</td>\n",
       "    </tr>\n",
       "    <tr>\n",
       "      <th>8</th>\n",
       "      <td>11</td>\n",
       "      <td>1</td>\n",
       "    </tr>\n",
       "    <tr>\n",
       "      <th>9</th>\n",
       "      <td>12</td>\n",
       "      <td>1</td>\n",
       "    </tr>\n",
       "  </tbody>\n",
       "</table>\n",
       "</div>"
      ],
      "text/plain": [
       "   PassengerId  Survived\n",
       "0            3         1\n",
       "1            4         1\n",
       "2            5         0\n",
       "3            6         0\n",
       "4            7         0\n",
       "5            8         0\n",
       "6            9         1\n",
       "7           10         1\n",
       "8           11         1\n",
       "9           12         1"
      ]
     },
     "execution_count": 147,
     "metadata": {},
     "output_type": "execute_result"
    }
   ],
   "source": [
    "pd.read_csv('titanic.csv', sep=',',\n",
    "            usecols=['PassengerId', 'Survived'],\n",
    "            encoding='utf-8',\n",
    "            nrows=10,\n",
    "            skiprows=[1,2], decimal=',')"
   ]
  },
  {
   "cell_type": "code",
   "execution_count": 146,
   "id": "1df88d25",
   "metadata": {
    "ExecuteTime": {
     "end_time": "2022-01-19T00:02:34.656042Z",
     "start_time": "2022-01-19T00:02:34.649974Z"
    }
   },
   "outputs": [
    {
     "data": {
      "text/plain": [
       "(891, 12)"
      ]
     },
     "execution_count": 146,
     "metadata": {},
     "output_type": "execute_result"
    }
   ],
   "source": [
    "df.shape"
   ]
  },
  {
   "cell_type": "code",
   "execution_count": 154,
   "id": "876bfc61",
   "metadata": {
    "ExecuteTime": {
     "end_time": "2022-01-19T00:08:43.128534Z",
     "start_time": "2022-01-19T00:08:43.116538Z"
    }
   },
   "outputs": [],
   "source": [
    "df_ = pd.read_csv('titanic.csv', chunksize=200)"
   ]
  },
  {
   "cell_type": "code",
   "execution_count": 150,
   "id": "761f9236",
   "metadata": {
    "ExecuteTime": {
     "end_time": "2022-01-19T00:06:29.383910Z",
     "start_time": "2022-01-19T00:06:29.346918Z"
    }
   },
   "outputs": [
    {
     "name": "stdout",
     "output_type": "stream",
     "text": [
      "200\n",
      "400\n",
      "600\n",
      "800\n",
      "891\n"
     ]
    }
   ],
   "source": [
    "for df in df_:\n",
    "    print(df['PassengerId'].max())"
   ]
  },
  {
   "cell_type": "code",
   "execution_count": 162,
   "id": "1295da11",
   "metadata": {
    "ExecuteTime": {
     "end_time": "2022-01-19T00:10:43.092510Z",
     "start_time": "2022-01-19T00:10:43.074512Z"
    }
   },
   "outputs": [],
   "source": [
    "df_ = pd.read_csv('titanic.csv', chunksize=200)"
   ]
  },
  {
   "cell_type": "code",
   "execution_count": 163,
   "id": "1c47f43e",
   "metadata": {
    "ExecuteTime": {
     "end_time": "2022-01-19T00:10:43.344508Z",
     "start_time": "2022-01-19T00:10:43.307515Z"
    }
   },
   "outputs": [],
   "source": [
    "age_total = 0\n",
    "passenger = 0\n",
    "for df in df_:\n",
    "    age_total += df['Age'].sum()\n",
    "    passenger += df['Age'].count()"
   ]
  },
  {
   "cell_type": "code",
   "execution_count": 168,
   "id": "494c4f83",
   "metadata": {
    "ExecuteTime": {
     "end_time": "2022-01-19T00:12:06.047625Z",
     "start_time": "2022-01-19T00:12:06.040617Z"
    }
   },
   "outputs": [
    {
     "data": {
      "text/plain": [
       "714"
      ]
     },
     "execution_count": 168,
     "metadata": {},
     "output_type": "execute_result"
    }
   ],
   "source": [
    "passenger"
   ]
  },
  {
   "cell_type": "code",
   "execution_count": 166,
   "id": "5201c54b",
   "metadata": {
    "ExecuteTime": {
     "end_time": "2022-01-19T00:11:03.043775Z",
     "start_time": "2022-01-19T00:11:03.034749Z"
    }
   },
   "outputs": [
    {
     "data": {
      "text/plain": [
       "29.69911764705882"
      ]
     },
     "execution_count": 166,
     "metadata": {},
     "output_type": "execute_result"
    }
   ],
   "source": [
    "age_total / passenger"
   ]
  },
  {
   "cell_type": "code",
   "execution_count": 158,
   "id": "b6d08375",
   "metadata": {
    "ExecuteTime": {
     "end_time": "2022-01-19T00:09:46.763314Z",
     "start_time": "2022-01-19T00:09:46.718365Z"
    }
   },
   "outputs": [
    {
     "data": {
      "text/plain": [
       "29.69911764705882"
      ]
     },
     "execution_count": 158,
     "metadata": {},
     "output_type": "execute_result"
    }
   ],
   "source": [
    "df = pd.read_csv('titanic.csv')\n",
    "df['Age'].mean()"
   ]
  },
  {
   "cell_type": "code",
   "execution_count": 167,
   "id": "20e238c0",
   "metadata": {
    "ExecuteTime": {
     "end_time": "2022-01-19T00:11:09.861648Z",
     "start_time": "2022-01-19T00:11:09.826652Z"
    }
   },
   "outputs": [
    {
     "data": {
      "text/html": [
       "<div>\n",
       "<style scoped>\n",
       "    .dataframe tbody tr th:only-of-type {\n",
       "        vertical-align: middle;\n",
       "    }\n",
       "\n",
       "    .dataframe tbody tr th {\n",
       "        vertical-align: top;\n",
       "    }\n",
       "\n",
       "    .dataframe thead th {\n",
       "        text-align: right;\n",
       "    }\n",
       "</style>\n",
       "<table border=\"1\" class=\"dataframe\">\n",
       "  <thead>\n",
       "    <tr style=\"text-align: right;\">\n",
       "      <th></th>\n",
       "      <th>PassengerId</th>\n",
       "      <th>Survived</th>\n",
       "      <th>Pclass</th>\n",
       "      <th>Name</th>\n",
       "      <th>Sex</th>\n",
       "      <th>Age</th>\n",
       "      <th>SibSp</th>\n",
       "      <th>Parch</th>\n",
       "      <th>Ticket</th>\n",
       "      <th>Fare</th>\n",
       "      <th>Cabin</th>\n",
       "      <th>Embarked</th>\n",
       "    </tr>\n",
       "  </thead>\n",
       "  <tbody>\n",
       "    <tr>\n",
       "      <th>800</th>\n",
       "      <td>801</td>\n",
       "      <td>0</td>\n",
       "      <td>2</td>\n",
       "      <td>Ponesell, Mr. Martin</td>\n",
       "      <td>male</td>\n",
       "      <td>34.00</td>\n",
       "      <td>0</td>\n",
       "      <td>0</td>\n",
       "      <td>250647</td>\n",
       "      <td>13.0000</td>\n",
       "      <td>NaN</td>\n",
       "      <td>S</td>\n",
       "    </tr>\n",
       "    <tr>\n",
       "      <th>801</th>\n",
       "      <td>802</td>\n",
       "      <td>1</td>\n",
       "      <td>2</td>\n",
       "      <td>Collyer, Mrs. Harvey (Charlotte Annie Tate)</td>\n",
       "      <td>female</td>\n",
       "      <td>31.00</td>\n",
       "      <td>1</td>\n",
       "      <td>1</td>\n",
       "      <td>C.A. 31921</td>\n",
       "      <td>26.2500</td>\n",
       "      <td>NaN</td>\n",
       "      <td>S</td>\n",
       "    </tr>\n",
       "    <tr>\n",
       "      <th>802</th>\n",
       "      <td>803</td>\n",
       "      <td>1</td>\n",
       "      <td>1</td>\n",
       "      <td>Carter, Master. William Thornton II</td>\n",
       "      <td>male</td>\n",
       "      <td>11.00</td>\n",
       "      <td>1</td>\n",
       "      <td>2</td>\n",
       "      <td>113760</td>\n",
       "      <td>120.0000</td>\n",
       "      <td>B96 B98</td>\n",
       "      <td>S</td>\n",
       "    </tr>\n",
       "    <tr>\n",
       "      <th>803</th>\n",
       "      <td>804</td>\n",
       "      <td>1</td>\n",
       "      <td>3</td>\n",
       "      <td>Thomas, Master. Assad Alexander</td>\n",
       "      <td>male</td>\n",
       "      <td>0.42</td>\n",
       "      <td>0</td>\n",
       "      <td>1</td>\n",
       "      <td>2625</td>\n",
       "      <td>8.5167</td>\n",
       "      <td>NaN</td>\n",
       "      <td>C</td>\n",
       "    </tr>\n",
       "    <tr>\n",
       "      <th>804</th>\n",
       "      <td>805</td>\n",
       "      <td>1</td>\n",
       "      <td>3</td>\n",
       "      <td>Hedman, Mr. Oskar Arvid</td>\n",
       "      <td>male</td>\n",
       "      <td>27.00</td>\n",
       "      <td>0</td>\n",
       "      <td>0</td>\n",
       "      <td>347089</td>\n",
       "      <td>6.9750</td>\n",
       "      <td>NaN</td>\n",
       "      <td>S</td>\n",
       "    </tr>\n",
       "    <tr>\n",
       "      <th>...</th>\n",
       "      <td>...</td>\n",
       "      <td>...</td>\n",
       "      <td>...</td>\n",
       "      <td>...</td>\n",
       "      <td>...</td>\n",
       "      <td>...</td>\n",
       "      <td>...</td>\n",
       "      <td>...</td>\n",
       "      <td>...</td>\n",
       "      <td>...</td>\n",
       "      <td>...</td>\n",
       "      <td>...</td>\n",
       "    </tr>\n",
       "    <tr>\n",
       "      <th>886</th>\n",
       "      <td>887</td>\n",
       "      <td>0</td>\n",
       "      <td>2</td>\n",
       "      <td>Montvila, Rev. Juozas</td>\n",
       "      <td>male</td>\n",
       "      <td>27.00</td>\n",
       "      <td>0</td>\n",
       "      <td>0</td>\n",
       "      <td>211536</td>\n",
       "      <td>13.0000</td>\n",
       "      <td>NaN</td>\n",
       "      <td>S</td>\n",
       "    </tr>\n",
       "    <tr>\n",
       "      <th>887</th>\n",
       "      <td>888</td>\n",
       "      <td>1</td>\n",
       "      <td>1</td>\n",
       "      <td>Graham, Miss. Margaret Edith</td>\n",
       "      <td>female</td>\n",
       "      <td>19.00</td>\n",
       "      <td>0</td>\n",
       "      <td>0</td>\n",
       "      <td>112053</td>\n",
       "      <td>30.0000</td>\n",
       "      <td>B42</td>\n",
       "      <td>S</td>\n",
       "    </tr>\n",
       "    <tr>\n",
       "      <th>888</th>\n",
       "      <td>889</td>\n",
       "      <td>0</td>\n",
       "      <td>3</td>\n",
       "      <td>Johnston, Miss. Catherine Helen \"Carrie\"</td>\n",
       "      <td>female</td>\n",
       "      <td>NaN</td>\n",
       "      <td>1</td>\n",
       "      <td>2</td>\n",
       "      <td>W./C. 6607</td>\n",
       "      <td>23.4500</td>\n",
       "      <td>NaN</td>\n",
       "      <td>S</td>\n",
       "    </tr>\n",
       "    <tr>\n",
       "      <th>889</th>\n",
       "      <td>890</td>\n",
       "      <td>1</td>\n",
       "      <td>1</td>\n",
       "      <td>Behr, Mr. Karl Howell</td>\n",
       "      <td>male</td>\n",
       "      <td>26.00</td>\n",
       "      <td>0</td>\n",
       "      <td>0</td>\n",
       "      <td>111369</td>\n",
       "      <td>30.0000</td>\n",
       "      <td>C148</td>\n",
       "      <td>C</td>\n",
       "    </tr>\n",
       "    <tr>\n",
       "      <th>890</th>\n",
       "      <td>891</td>\n",
       "      <td>0</td>\n",
       "      <td>3</td>\n",
       "      <td>Dooley, Mr. Patrick</td>\n",
       "      <td>male</td>\n",
       "      <td>32.00</td>\n",
       "      <td>0</td>\n",
       "      <td>0</td>\n",
       "      <td>370376</td>\n",
       "      <td>7.7500</td>\n",
       "      <td>NaN</td>\n",
       "      <td>Q</td>\n",
       "    </tr>\n",
       "  </tbody>\n",
       "</table>\n",
       "<p>91 rows × 12 columns</p>\n",
       "</div>"
      ],
      "text/plain": [
       "     PassengerId  Survived  Pclass  \\\n",
       "800          801         0       2   \n",
       "801          802         1       2   \n",
       "802          803         1       1   \n",
       "803          804         1       3   \n",
       "804          805         1       3   \n",
       "..           ...       ...     ...   \n",
       "886          887         0       2   \n",
       "887          888         1       1   \n",
       "888          889         0       3   \n",
       "889          890         1       1   \n",
       "890          891         0       3   \n",
       "\n",
       "                                            Name     Sex    Age  SibSp  Parch  \\\n",
       "800                         Ponesell, Mr. Martin    male  34.00      0      0   \n",
       "801  Collyer, Mrs. Harvey (Charlotte Annie Tate)  female  31.00      1      1   \n",
       "802          Carter, Master. William Thornton II    male  11.00      1      2   \n",
       "803              Thomas, Master. Assad Alexander    male   0.42      0      1   \n",
       "804                      Hedman, Mr. Oskar Arvid    male  27.00      0      0   \n",
       "..                                           ...     ...    ...    ...    ...   \n",
       "886                        Montvila, Rev. Juozas    male  27.00      0      0   \n",
       "887                 Graham, Miss. Margaret Edith  female  19.00      0      0   \n",
       "888     Johnston, Miss. Catherine Helen \"Carrie\"  female    NaN      1      2   \n",
       "889                        Behr, Mr. Karl Howell    male  26.00      0      0   \n",
       "890                          Dooley, Mr. Patrick    male  32.00      0      0   \n",
       "\n",
       "         Ticket      Fare    Cabin Embarked  \n",
       "800      250647   13.0000      NaN        S  \n",
       "801  C.A. 31921   26.2500      NaN        S  \n",
       "802      113760  120.0000  B96 B98        S  \n",
       "803        2625    8.5167      NaN        C  \n",
       "804      347089    6.9750      NaN        S  \n",
       "..          ...       ...      ...      ...  \n",
       "886      211536   13.0000      NaN        S  \n",
       "887      112053   30.0000      B42        S  \n",
       "888  W./C. 6607   23.4500      NaN        S  \n",
       "889      111369   30.0000     C148        C  \n",
       "890      370376    7.7500      NaN        Q  \n",
       "\n",
       "[91 rows x 12 columns]"
      ]
     },
     "execution_count": 167,
     "metadata": {},
     "output_type": "execute_result"
    }
   ],
   "source": [
    "df"
   ]
  },
  {
   "cell_type": "markdown",
   "id": "bb3f4275",
   "metadata": {},
   "source": [
    "### read_excel"
   ]
  },
  {
   "cell_type": "markdown",
   "id": "c26363e0",
   "metadata": {},
   "source": [
    "sheet_name é um parâmetro importante para selecionar uma planilha (aba) específica"
   ]
  },
  {
   "cell_type": "code",
   "execution_count": 172,
   "id": "da0366ec",
   "metadata": {
    "ExecuteTime": {
     "end_time": "2022-01-19T00:14:28.034868Z",
     "start_time": "2022-01-19T00:14:27.050534Z"
    }
   },
   "outputs": [
    {
     "data": {
      "text/html": [
       "<div>\n",
       "<style scoped>\n",
       "    .dataframe tbody tr th:only-of-type {\n",
       "        vertical-align: middle;\n",
       "    }\n",
       "\n",
       "    .dataframe tbody tr th {\n",
       "        vertical-align: top;\n",
       "    }\n",
       "\n",
       "    .dataframe thead th {\n",
       "        text-align: right;\n",
       "    }\n",
       "</style>\n",
       "<table border=\"1\" class=\"dataframe\">\n",
       "  <thead>\n",
       "    <tr style=\"text-align: right;\">\n",
       "      <th></th>\n",
       "      <th>PassengerId</th>\n",
       "      <th>Survived</th>\n",
       "      <th>Pclass</th>\n",
       "      <th>Name</th>\n",
       "      <th>Sex</th>\n",
       "      <th>Age</th>\n",
       "      <th>SibSp</th>\n",
       "      <th>Parch</th>\n",
       "      <th>Ticket</th>\n",
       "      <th>Fare</th>\n",
       "      <th>Cabin</th>\n",
       "      <th>Embarked</th>\n",
       "    </tr>\n",
       "  </thead>\n",
       "  <tbody>\n",
       "    <tr>\n",
       "      <th>0</th>\n",
       "      <td>1</td>\n",
       "      <td>0</td>\n",
       "      <td>3</td>\n",
       "      <td>Braund, Mr. Owen Harris</td>\n",
       "      <td>male</td>\n",
       "      <td>22.0</td>\n",
       "      <td>1</td>\n",
       "      <td>0</td>\n",
       "      <td>A/5 21171</td>\n",
       "      <td>725</td>\n",
       "      <td>NaN</td>\n",
       "      <td>S</td>\n",
       "    </tr>\n",
       "    <tr>\n",
       "      <th>1</th>\n",
       "      <td>2</td>\n",
       "      <td>1</td>\n",
       "      <td>1</td>\n",
       "      <td>Cumings, Mrs. John Bradley (Florence Briggs Th...</td>\n",
       "      <td>female</td>\n",
       "      <td>38.0</td>\n",
       "      <td>1</td>\n",
       "      <td>0</td>\n",
       "      <td>PC 17599</td>\n",
       "      <td>712833</td>\n",
       "      <td>C85</td>\n",
       "      <td>C</td>\n",
       "    </tr>\n",
       "    <tr>\n",
       "      <th>2</th>\n",
       "      <td>3</td>\n",
       "      <td>1</td>\n",
       "      <td>3</td>\n",
       "      <td>Heikkinen, Miss. Laina</td>\n",
       "      <td>female</td>\n",
       "      <td>26.0</td>\n",
       "      <td>0</td>\n",
       "      <td>0</td>\n",
       "      <td>STON/O2. 3101282</td>\n",
       "      <td>7925</td>\n",
       "      <td>NaN</td>\n",
       "      <td>S</td>\n",
       "    </tr>\n",
       "    <tr>\n",
       "      <th>3</th>\n",
       "      <td>4</td>\n",
       "      <td>1</td>\n",
       "      <td>1</td>\n",
       "      <td>Futrelle, Mrs. Jacques Heath (Lily May Peel)</td>\n",
       "      <td>female</td>\n",
       "      <td>35.0</td>\n",
       "      <td>1</td>\n",
       "      <td>0</td>\n",
       "      <td>113803</td>\n",
       "      <td>531</td>\n",
       "      <td>C123</td>\n",
       "      <td>S</td>\n",
       "    </tr>\n",
       "    <tr>\n",
       "      <th>4</th>\n",
       "      <td>5</td>\n",
       "      <td>0</td>\n",
       "      <td>3</td>\n",
       "      <td>Allen, Mr. William Henry</td>\n",
       "      <td>male</td>\n",
       "      <td>35.0</td>\n",
       "      <td>0</td>\n",
       "      <td>0</td>\n",
       "      <td>373450</td>\n",
       "      <td>805</td>\n",
       "      <td>NaN</td>\n",
       "      <td>S</td>\n",
       "    </tr>\n",
       "    <tr>\n",
       "      <th>...</th>\n",
       "      <td>...</td>\n",
       "      <td>...</td>\n",
       "      <td>...</td>\n",
       "      <td>...</td>\n",
       "      <td>...</td>\n",
       "      <td>...</td>\n",
       "      <td>...</td>\n",
       "      <td>...</td>\n",
       "      <td>...</td>\n",
       "      <td>...</td>\n",
       "      <td>...</td>\n",
       "      <td>...</td>\n",
       "    </tr>\n",
       "    <tr>\n",
       "      <th>886</th>\n",
       "      <td>887</td>\n",
       "      <td>0</td>\n",
       "      <td>2</td>\n",
       "      <td>Montvila, Rev. Juozas</td>\n",
       "      <td>male</td>\n",
       "      <td>27.0</td>\n",
       "      <td>0</td>\n",
       "      <td>0</td>\n",
       "      <td>211536</td>\n",
       "      <td>13</td>\n",
       "      <td>NaN</td>\n",
       "      <td>S</td>\n",
       "    </tr>\n",
       "    <tr>\n",
       "      <th>887</th>\n",
       "      <td>888</td>\n",
       "      <td>1</td>\n",
       "      <td>1</td>\n",
       "      <td>Graham, Miss. Margaret Edith</td>\n",
       "      <td>female</td>\n",
       "      <td>19.0</td>\n",
       "      <td>0</td>\n",
       "      <td>0</td>\n",
       "      <td>112053</td>\n",
       "      <td>30</td>\n",
       "      <td>B42</td>\n",
       "      <td>S</td>\n",
       "    </tr>\n",
       "    <tr>\n",
       "      <th>888</th>\n",
       "      <td>889</td>\n",
       "      <td>0</td>\n",
       "      <td>3</td>\n",
       "      <td>Johnston, Miss. Catherine Helen \"Carrie\"</td>\n",
       "      <td>female</td>\n",
       "      <td>NaN</td>\n",
       "      <td>1</td>\n",
       "      <td>2</td>\n",
       "      <td>W./C. 6607</td>\n",
       "      <td>2345</td>\n",
       "      <td>NaN</td>\n",
       "      <td>S</td>\n",
       "    </tr>\n",
       "    <tr>\n",
       "      <th>889</th>\n",
       "      <td>890</td>\n",
       "      <td>1</td>\n",
       "      <td>1</td>\n",
       "      <td>Behr, Mr. Karl Howell</td>\n",
       "      <td>male</td>\n",
       "      <td>26.0</td>\n",
       "      <td>0</td>\n",
       "      <td>0</td>\n",
       "      <td>111369</td>\n",
       "      <td>30</td>\n",
       "      <td>C148</td>\n",
       "      <td>C</td>\n",
       "    </tr>\n",
       "    <tr>\n",
       "      <th>890</th>\n",
       "      <td>891</td>\n",
       "      <td>0</td>\n",
       "      <td>3</td>\n",
       "      <td>Dooley, Mr. Patrick</td>\n",
       "      <td>male</td>\n",
       "      <td>32.0</td>\n",
       "      <td>0</td>\n",
       "      <td>0</td>\n",
       "      <td>370376</td>\n",
       "      <td>775</td>\n",
       "      <td>NaN</td>\n",
       "      <td>Q</td>\n",
       "    </tr>\n",
       "  </tbody>\n",
       "</table>\n",
       "<p>891 rows × 12 columns</p>\n",
       "</div>"
      ],
      "text/plain": [
       "     PassengerId  Survived  Pclass  \\\n",
       "0              1         0       3   \n",
       "1              2         1       1   \n",
       "2              3         1       3   \n",
       "3              4         1       1   \n",
       "4              5         0       3   \n",
       "..           ...       ...     ...   \n",
       "886          887         0       2   \n",
       "887          888         1       1   \n",
       "888          889         0       3   \n",
       "889          890         1       1   \n",
       "890          891         0       3   \n",
       "\n",
       "                                                  Name     Sex   Age  SibSp  \\\n",
       "0                              Braund, Mr. Owen Harris    male  22.0      1   \n",
       "1    Cumings, Mrs. John Bradley (Florence Briggs Th...  female  38.0      1   \n",
       "2                               Heikkinen, Miss. Laina  female  26.0      0   \n",
       "3         Futrelle, Mrs. Jacques Heath (Lily May Peel)  female  35.0      1   \n",
       "4                             Allen, Mr. William Henry    male  35.0      0   \n",
       "..                                                 ...     ...   ...    ...   \n",
       "886                              Montvila, Rev. Juozas    male  27.0      0   \n",
       "887                       Graham, Miss. Margaret Edith  female  19.0      0   \n",
       "888           Johnston, Miss. Catherine Helen \"Carrie\"  female   NaN      1   \n",
       "889                              Behr, Mr. Karl Howell    male  26.0      0   \n",
       "890                                Dooley, Mr. Patrick    male  32.0      0   \n",
       "\n",
       "     Parch            Ticket    Fare Cabin Embarked  \n",
       "0        0         A/5 21171     725   NaN        S  \n",
       "1        0          PC 17599  712833   C85        C  \n",
       "2        0  STON/O2. 3101282    7925   NaN        S  \n",
       "3        0            113803     531  C123        S  \n",
       "4        0            373450     805   NaN        S  \n",
       "..     ...               ...     ...   ...      ...  \n",
       "886      0            211536      13   NaN        S  \n",
       "887      0            112053      30   B42        S  \n",
       "888      2        W./C. 6607    2345   NaN        S  \n",
       "889      0            111369      30  C148        C  \n",
       "890      0            370376     775   NaN        Q  \n",
       "\n",
       "[891 rows x 12 columns]"
      ]
     },
     "execution_count": 172,
     "metadata": {},
     "output_type": "execute_result"
    }
   ],
   "source": [
    "df = pd.read_excel('titanic.xlsx')\n",
    "df"
   ]
  },
  {
   "cell_type": "markdown",
   "id": "b25f5dea",
   "metadata": {},
   "source": [
    "## Salvando DataFrames"
   ]
  },
  {
   "cell_type": "code",
   "execution_count": 176,
   "id": "17630ad4",
   "metadata": {
    "ExecuteTime": {
     "end_time": "2022-01-19T00:16:29.355467Z",
     "start_time": "2022-01-19T00:16:29.305461Z"
    }
   },
   "outputs": [],
   "source": [
    "df.to_csv('titanic_exported.csv', index=None)"
   ]
  },
  {
   "cell_type": "code",
   "execution_count": 177,
   "id": "69967245",
   "metadata": {
    "ExecuteTime": {
     "end_time": "2022-01-19T00:17:04.420287Z",
     "start_time": "2022-01-19T00:17:01.381562Z"
    }
   },
   "outputs": [],
   "source": [
    "df.to_excel('titanic_exported.xlsx', index=None)"
   ]
  }
 ],
 "metadata": {
  "kernelspec": {
   "display_name": "Python 3",
   "language": "python",
   "name": "python3"
  },
  "language_info": {
   "codemirror_mode": {
    "name": "ipython",
    "version": 3
   },
   "file_extension": ".py",
   "mimetype": "text/x-python",
   "name": "python",
   "nbconvert_exporter": "python",
   "pygments_lexer": "ipython3",
   "version": "3.8.3"
  }
 },
 "nbformat": 4,
 "nbformat_minor": 5
}
