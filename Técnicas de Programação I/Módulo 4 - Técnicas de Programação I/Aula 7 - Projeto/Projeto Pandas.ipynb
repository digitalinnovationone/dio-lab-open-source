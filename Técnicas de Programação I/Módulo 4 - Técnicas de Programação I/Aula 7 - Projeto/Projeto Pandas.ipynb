{
 "cells": [
  {
   "cell_type": "markdown",
   "metadata": {},
   "source": [
    "# Projeto Final\n",
    "\n",
    "Você fazem parte do time de Data Science e Analytics da Popolishoshop e receberam uma base de dados contendo as infromações sobre a última Black Friday que ocorreu. O time de negócio solicitou para vocês um relatório, onde especificaram algumas informações e também um estudo para que vocês respondessem utilizando as bases fornecidas.\n",
    "\n",
    "Para esse desafio, vamos trabalhar com o data set [Black Friday](https://www.kaggle.com/sdolezel/black-friday), que reúne dados sobre transações de compras em uma loja de varejo. Esse dataset está quebrado em diferentes arquivos e é sua função entender como cada um se relaciona com o outro.\n",
    "\n",
    "Vamos utilizá-lo para praticar a exploração utilizando pandas."
   ]
  },
  {
   "cell_type": "markdown",
   "metadata": {},
   "source": [
    "Na tabela a seguir podemos ver os nomes das colunas e as descrições dos campos."
   ]
  },
  {
   "cell_type": "markdown",
   "metadata": {},
   "source": [
    "| Coluna                 | Descrição                                                 |\n",
    "|------------------------|-----------------------------------------------------------|\n",
    "| User_ID                | ID do usuário                                             |\n",
    "| Product_ID             | ID do produto                                             |\n",
    "| Gender                 | Sexo do usuário                                           |\n",
    "| Age                    | Ano em intervalos                                         |\n",
    "| Occupation             | Ocupação (mascarada)                                      |\n",
    "| City_Category          | Categoria da cidade (A, B, C)                             |\n",
    "| StayInCurrentCityYears | Número de anos de permanência na cidade atual             |\n",
    "| Marital_Status         | Estado civil                                              |\n",
    "| ProductCategory1       | Categoria do produto (Mascarada)                          |\n",
    "| ProductCategory2       | Categoria que o produto pode pertencer também (Mascarada) |\n",
    "| ProductCategory3       | Categoria que o produto pode pertencer também (Mascarada) |\n",
    "| Purchase               | Valor da compra                                           | "
   ]
  },
  {
   "cell_type": "markdown",
   "metadata": {},
   "source": [
    "Todo o código desenvolvido deve ser pensado para ser reutilizado. A avaliação se dará executando todo o notebook com outra tabela, de mesmas colunas. Sendo assim, pensem na qualidade e reprodução do código."
   ]
  },
  {
   "cell_type": "markdown",
   "metadata": {},
   "source": [
    "## _Set up_ da análise"
   ]
  },
  {
   "cell_type": "markdown",
   "metadata": {},
   "source": [
    "Faça a leitura das três bases fornecidas e junte-as em um único DataFrame."
   ]
  },
  {
   "cell_type": "markdown",
   "metadata": {},
   "source": [
    "## Questão 1\n",
    "\n",
    "Quantas observações e quantas colunas há no dataset completo (todas as bases juntas)? Responda no formato de uma tuple `(n_observacoes, n_colunas)`."
   ]
  },
  {
   "cell_type": "markdown",
   "metadata": {},
   "source": [
    "## Questão 2\n",
    "\n",
    "Há quantas mulheres com idade entre 26 e 35 anos no dataset? Responda como um único escalar."
   ]
  },
  {
   "cell_type": "markdown",
   "metadata": {},
   "source": [
    "## Questão 3\n",
    "\n",
    "Quantos usuários únicos há no dataset? Responda como um único escalar."
   ]
  },
  {
   "cell_type": "markdown",
   "metadata": {},
   "source": [
    "## Questão 4\n",
    "\n",
    "Qual porcentagem dos registros (percentual de linhas) possui ao menos um valor null (`None`, `ǸaN` etc)? Responda como um único escalar entre 0 e 1."
   ]
  },
  {
   "cell_type": "markdown",
   "metadata": {},
   "source": [
    "## Questão 5\n",
    "\n",
    "Quantos valores null existem na variável (coluna) com o maior número de null? Responda como um único escalar."
   ]
  },
  {
   "cell_type": "markdown",
   "metadata": {},
   "source": [
    "## Questão 6\n",
    "\n",
    "Qual o valor mais frequente (sem contar nulls) em `Product_Category_3`? Responda como um único escalar."
   ]
  },
  {
   "cell_type": "markdown",
   "metadata": {},
   "source": [
    "## Questão 7\n",
    "\n",
    "Podemos afirmar que se uma observação é null em `Product_Category_2` ela também o é em `Product_Category_3`? Responda com um bool (`True`, `False`)."
   ]
  },
  {
   "cell_type": "markdown",
   "metadata": {},
   "source": [
    "## Questão 8\n",
    "\n",
    "Qual o ID do usuário que mais gastou na Black Friday?"
   ]
  },
  {
   "cell_type": "markdown",
   "metadata": {},
   "source": [
    "## Questão 9\n",
    "\n",
    "Qual grupo (homens ou mulheres) mais gastou na Black Friday?"
   ]
  },
  {
   "cell_type": "markdown",
   "metadata": {},
   "source": [
    "## Questão 10\n",
    "\n",
    "Faça uma nova tabela com a categoria mais comprada por cada cliente.\n",
    "\n",
    "Obs: se ele comprou um produto que possuir valores nas três colunas de categorias, então deve-se considerar todas as categorias."
   ]
  },
  {
   "cell_type": "code",
   "execution_count": null,
   "metadata": {},
   "outputs": [],
   "source": [
    "Categoria_1 é um intervalo de 1 a 12\n",
    "Categoria_2 é um intervalo de 1 a 12\n",
    "Categoria_3 é um intervalo de 1 a 12\n",
    "\n",
    "Categoria_1: 2\n",
    "Categoria_2: 4\n",
    "Categoria_3: 1"
   ]
  },
  {
   "cell_type": "code",
   "execution_count": null,
   "metadata": {},
   "outputs": [],
   "source": [
    "       1 2 3 4 5 6 7 8 9 10 11 12\n",
    "739273 1 1 0 1 0 0 0 0 0 0  0  0"
   ]
  },
  {
   "cell_type": "markdown",
   "metadata": {},
   "source": [
    "## Questão 11\n",
    "\n",
    "Normalize a coluna Purchase. A fórmula de normalização é:\n",
    "\n",
    "\n",
    "$$x_{norm} = \\frac{x - x_{min}}{x_{max} - x_{min}} $$"
   ]
  },
  {
   "cell_type": "markdown",
   "metadata": {},
   "source": [
    "## Questão 12\n",
    "O estado civil influencia no valor gasto e na categoria de produto comprada? Mostre!\n",
    "\n",
    "Se eu quisesse vender mais produtos da categoria 14, deveria investir em propagandas para qual estado civil?"
   ]
  },
  {
   "cell_type": "markdown",
   "metadata": {},
   "source": [
    "## Questão 13\n",
    "Quais as variáveis que mais impactaram no valor da compra? Como você chegou a essa conclusão?"
   ]
  }
 ],
 "metadata": {
  "kernelspec": {
   "display_name": "Python 3",
   "language": "python",
   "name": "python3"
  },
  "language_info": {
   "codemirror_mode": {
    "name": "ipython",
    "version": 3
   },
   "file_extension": ".py",
   "mimetype": "text/x-python",
   "name": "python",
   "nbconvert_exporter": "python",
   "pygments_lexer": "ipython3",
   "version": "3.8.3"
  }
 },
 "nbformat": 4,
 "nbformat_minor": 2
}
