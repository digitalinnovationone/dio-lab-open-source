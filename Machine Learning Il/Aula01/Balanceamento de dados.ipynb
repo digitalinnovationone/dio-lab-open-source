{
 "cells": [
  {
   "cell_type": "markdown",
   "id": "15d464ae",
   "metadata": {},
   "source": [
    "# Recados"
   ]
  },
  {
   "cell_type": "markdown",
   "id": "c7a5cda2",
   "metadata": {
    "ExecuteTime": {
     "end_time": "2022-05-27T22:20:14.922327Z",
     "start_time": "2022-05-27T22:20:14.914307Z"
    }
   },
   "source": [
    "Machine Learning II \n",
    "- Início: 27/05 \n",
    "- Fim: 21/06\n",
    "\n",
    "https://github.com/renatapink/DS_turma815  \n",
    "https://drive.google.com/drive/folders/1D1Zs2qH0YQSqXB9WRAeM8n_TUYOmI3gq\n",
    "\n",
    "http://dontpad.com/turma815"
   ]
  },
  {
   "cell_type": "markdown",
   "id": "c89e56cd",
   "metadata": {},
   "source": [
    "# Balanceamento de dados"
   ]
  },
  {
   "cell_type": "code",
   "execution_count": 18,
   "id": "2cdb3e08",
   "metadata": {
    "ExecuteTime": {
     "end_time": "2022-05-27T22:55:28.452648Z",
     "start_time": "2022-05-27T22:55:28.437690Z"
    }
   },
   "outputs": [],
   "source": [
    "# importando as bibliotecas\n",
    "import pandas as pd\n",
    "import numpy as np\n",
    "\n",
    "from sklearn.model_selection import train_test_split\n",
    "from sklearn.tree import DecisionTreeClassifier\n",
    "\n",
    "from sklearn.metrics import classification_report, ConfusionMatrixDisplay, confusion_matrix"
   ]
  },
  {
   "cell_type": "markdown",
   "id": "d62d7b74",
   "metadata": {},
   "source": [
    "Entender o nosso problema e nossos dados\n",
    "\n",
    "\n",
    "1 - age (numeric)\n",
    "\n",
    "2 - job : type of job (categorical: \"admin.\", \"unknown\", \"unemployed\", \"management\", \"housemaid\", \"entrepreneur\", \"student\", \"blue-collar\", \"self-employed\", \"retired\", \"technician\", \"services\")\n",
    "\n",
    "3 - marital : marital status (categorical: \"married\", \"divorced\", \"single\"; note: \"divorced\" means divorced or widowed)\n",
    "\n",
    "4 - education (categorical: \"unknown\", \"secondary\", \"primary\", \"tertiary\")\n",
    "\n",
    "5 - default: has credit in default? (binary: \"yes\", \"no\")\n",
    "\n",
    "6 - balance: average yearly balance, in euros (numeric)\n",
    "\n",
    "7 - housing: has housing loan? (binary: \"yes\", \"no\")\n",
    "\n",
    "8 - loan: has personal loan? (binary: \"yes\", \"no\")\n",
    "\n",
    "9 - contact: contact communication type (categorical: \"unknown\", \"telephone\", \"cellular\")\n",
    "\n",
    "10 - day: last contact day of the month (numeric)\n",
    "\n",
    "11 - month: last contact month of year (categorical: \"jan\", \"feb\", \"mar\", ..., \"nov\", \"dec\")\n",
    "\n",
    "12 - duration: last contact duration, in seconds (numeric)\n",
    "\n",
    "13 - campaign: number of contacts performed during this campaign and for this client (numeric, includes last contact)\n",
    "\n",
    "14 - pdays: number of days that passed by after the client was last contacted from a previous campaign (numeric, -1 means client was not previously contacted)\n",
    "\n",
    "15 - previous: number of contacts performed before this campaign and for this client (numeric)\n",
    "\n",
    "16 - poutcome: outcome of the previous marketing campaign (categorical: \"unknown\",\"other\",\"failure\",\"success\")\n",
    "\n",
    "Output variable (desired target):\n",
    "\n",
    "17 - y - has the client subscribed a term deposit? (binary: \"yes\",\"no\")"
   ]
  },
  {
   "cell_type": "code",
   "execution_count": 3,
   "id": "ff8bc693",
   "metadata": {
    "ExecuteTime": {
     "end_time": "2022-05-27T22:30:37.010589Z",
     "start_time": "2022-05-27T22:30:36.808913Z"
    }
   },
   "outputs": [],
   "source": [
    "# Carregar o dataset (depois de ter um conhecimento prévio dele)\n",
    "df =  pd.read_csv('../datasets/bank-full.csv')"
   ]
  },
  {
   "cell_type": "code",
   "execution_count": 7,
   "id": "91b51031",
   "metadata": {
    "ExecuteTime": {
     "end_time": "2022-05-27T22:38:07.162502Z",
     "start_time": "2022-05-27T22:38:07.112630Z"
    }
   },
   "outputs": [
    {
     "data": {
      "text/html": [
       "<div>\n",
       "<style scoped>\n",
       "    .dataframe tbody tr th:only-of-type {\n",
       "        vertical-align: middle;\n",
       "    }\n",
       "\n",
       "    .dataframe tbody tr th {\n",
       "        vertical-align: top;\n",
       "    }\n",
       "\n",
       "    .dataframe thead th {\n",
       "        text-align: right;\n",
       "    }\n",
       "</style>\n",
       "<table border=\"1\" class=\"dataframe\">\n",
       "  <thead>\n",
       "    <tr style=\"text-align: right;\">\n",
       "      <th></th>\n",
       "      <th>age</th>\n",
       "      <th>job</th>\n",
       "      <th>marital</th>\n",
       "      <th>education</th>\n",
       "      <th>default</th>\n",
       "      <th>balance</th>\n",
       "      <th>housing</th>\n",
       "      <th>loan</th>\n",
       "      <th>contact</th>\n",
       "      <th>day</th>\n",
       "      <th>month</th>\n",
       "      <th>duration</th>\n",
       "      <th>campaign</th>\n",
       "      <th>pdays</th>\n",
       "      <th>previous</th>\n",
       "      <th>poutcome</th>\n",
       "      <th>Target</th>\n",
       "    </tr>\n",
       "  </thead>\n",
       "  <tbody>\n",
       "    <tr>\n",
       "      <th>0</th>\n",
       "      <td>58</td>\n",
       "      <td>management</td>\n",
       "      <td>married</td>\n",
       "      <td>tertiary</td>\n",
       "      <td>no</td>\n",
       "      <td>2143</td>\n",
       "      <td>yes</td>\n",
       "      <td>no</td>\n",
       "      <td>unknown</td>\n",
       "      <td>5</td>\n",
       "      <td>may</td>\n",
       "      <td>261</td>\n",
       "      <td>1</td>\n",
       "      <td>-1</td>\n",
       "      <td>0</td>\n",
       "      <td>unknown</td>\n",
       "      <td>no</td>\n",
       "    </tr>\n",
       "    <tr>\n",
       "      <th>1</th>\n",
       "      <td>44</td>\n",
       "      <td>technician</td>\n",
       "      <td>single</td>\n",
       "      <td>secondary</td>\n",
       "      <td>no</td>\n",
       "      <td>29</td>\n",
       "      <td>yes</td>\n",
       "      <td>no</td>\n",
       "      <td>unknown</td>\n",
       "      <td>5</td>\n",
       "      <td>may</td>\n",
       "      <td>151</td>\n",
       "      <td>1</td>\n",
       "      <td>-1</td>\n",
       "      <td>0</td>\n",
       "      <td>unknown</td>\n",
       "      <td>no</td>\n",
       "    </tr>\n",
       "    <tr>\n",
       "      <th>2</th>\n",
       "      <td>33</td>\n",
       "      <td>entrepreneur</td>\n",
       "      <td>married</td>\n",
       "      <td>secondary</td>\n",
       "      <td>no</td>\n",
       "      <td>2</td>\n",
       "      <td>yes</td>\n",
       "      <td>yes</td>\n",
       "      <td>unknown</td>\n",
       "      <td>5</td>\n",
       "      <td>may</td>\n",
       "      <td>76</td>\n",
       "      <td>1</td>\n",
       "      <td>-1</td>\n",
       "      <td>0</td>\n",
       "      <td>unknown</td>\n",
       "      <td>no</td>\n",
       "    </tr>\n",
       "    <tr>\n",
       "      <th>3</th>\n",
       "      <td>47</td>\n",
       "      <td>blue-collar</td>\n",
       "      <td>married</td>\n",
       "      <td>unknown</td>\n",
       "      <td>no</td>\n",
       "      <td>1506</td>\n",
       "      <td>yes</td>\n",
       "      <td>no</td>\n",
       "      <td>unknown</td>\n",
       "      <td>5</td>\n",
       "      <td>may</td>\n",
       "      <td>92</td>\n",
       "      <td>1</td>\n",
       "      <td>-1</td>\n",
       "      <td>0</td>\n",
       "      <td>unknown</td>\n",
       "      <td>no</td>\n",
       "    </tr>\n",
       "    <tr>\n",
       "      <th>4</th>\n",
       "      <td>33</td>\n",
       "      <td>unknown</td>\n",
       "      <td>single</td>\n",
       "      <td>unknown</td>\n",
       "      <td>no</td>\n",
       "      <td>1</td>\n",
       "      <td>no</td>\n",
       "      <td>no</td>\n",
       "      <td>unknown</td>\n",
       "      <td>5</td>\n",
       "      <td>may</td>\n",
       "      <td>198</td>\n",
       "      <td>1</td>\n",
       "      <td>-1</td>\n",
       "      <td>0</td>\n",
       "      <td>unknown</td>\n",
       "      <td>no</td>\n",
       "    </tr>\n",
       "    <tr>\n",
       "      <th>...</th>\n",
       "      <td>...</td>\n",
       "      <td>...</td>\n",
       "      <td>...</td>\n",
       "      <td>...</td>\n",
       "      <td>...</td>\n",
       "      <td>...</td>\n",
       "      <td>...</td>\n",
       "      <td>...</td>\n",
       "      <td>...</td>\n",
       "      <td>...</td>\n",
       "      <td>...</td>\n",
       "      <td>...</td>\n",
       "      <td>...</td>\n",
       "      <td>...</td>\n",
       "      <td>...</td>\n",
       "      <td>...</td>\n",
       "      <td>...</td>\n",
       "    </tr>\n",
       "    <tr>\n",
       "      <th>45206</th>\n",
       "      <td>51</td>\n",
       "      <td>technician</td>\n",
       "      <td>married</td>\n",
       "      <td>tertiary</td>\n",
       "      <td>no</td>\n",
       "      <td>825</td>\n",
       "      <td>no</td>\n",
       "      <td>no</td>\n",
       "      <td>cellular</td>\n",
       "      <td>17</td>\n",
       "      <td>nov</td>\n",
       "      <td>977</td>\n",
       "      <td>3</td>\n",
       "      <td>-1</td>\n",
       "      <td>0</td>\n",
       "      <td>unknown</td>\n",
       "      <td>yes</td>\n",
       "    </tr>\n",
       "    <tr>\n",
       "      <th>45207</th>\n",
       "      <td>71</td>\n",
       "      <td>retired</td>\n",
       "      <td>divorced</td>\n",
       "      <td>primary</td>\n",
       "      <td>no</td>\n",
       "      <td>1729</td>\n",
       "      <td>no</td>\n",
       "      <td>no</td>\n",
       "      <td>cellular</td>\n",
       "      <td>17</td>\n",
       "      <td>nov</td>\n",
       "      <td>456</td>\n",
       "      <td>2</td>\n",
       "      <td>-1</td>\n",
       "      <td>0</td>\n",
       "      <td>unknown</td>\n",
       "      <td>yes</td>\n",
       "    </tr>\n",
       "    <tr>\n",
       "      <th>45208</th>\n",
       "      <td>72</td>\n",
       "      <td>retired</td>\n",
       "      <td>married</td>\n",
       "      <td>secondary</td>\n",
       "      <td>no</td>\n",
       "      <td>5715</td>\n",
       "      <td>no</td>\n",
       "      <td>no</td>\n",
       "      <td>cellular</td>\n",
       "      <td>17</td>\n",
       "      <td>nov</td>\n",
       "      <td>1127</td>\n",
       "      <td>5</td>\n",
       "      <td>184</td>\n",
       "      <td>3</td>\n",
       "      <td>success</td>\n",
       "      <td>yes</td>\n",
       "    </tr>\n",
       "    <tr>\n",
       "      <th>45209</th>\n",
       "      <td>57</td>\n",
       "      <td>blue-collar</td>\n",
       "      <td>married</td>\n",
       "      <td>secondary</td>\n",
       "      <td>no</td>\n",
       "      <td>668</td>\n",
       "      <td>no</td>\n",
       "      <td>no</td>\n",
       "      <td>telephone</td>\n",
       "      <td>17</td>\n",
       "      <td>nov</td>\n",
       "      <td>508</td>\n",
       "      <td>4</td>\n",
       "      <td>-1</td>\n",
       "      <td>0</td>\n",
       "      <td>unknown</td>\n",
       "      <td>no</td>\n",
       "    </tr>\n",
       "    <tr>\n",
       "      <th>45210</th>\n",
       "      <td>37</td>\n",
       "      <td>entrepreneur</td>\n",
       "      <td>married</td>\n",
       "      <td>secondary</td>\n",
       "      <td>no</td>\n",
       "      <td>2971</td>\n",
       "      <td>no</td>\n",
       "      <td>no</td>\n",
       "      <td>cellular</td>\n",
       "      <td>17</td>\n",
       "      <td>nov</td>\n",
       "      <td>361</td>\n",
       "      <td>2</td>\n",
       "      <td>188</td>\n",
       "      <td>11</td>\n",
       "      <td>other</td>\n",
       "      <td>no</td>\n",
       "    </tr>\n",
       "  </tbody>\n",
       "</table>\n",
       "<p>45211 rows × 17 columns</p>\n",
       "</div>"
      ],
      "text/plain": [
       "       age           job   marital  education default  balance housing loan  \\\n",
       "0       58    management   married   tertiary      no     2143     yes   no   \n",
       "1       44    technician    single  secondary      no       29     yes   no   \n",
       "2       33  entrepreneur   married  secondary      no        2     yes  yes   \n",
       "3       47   blue-collar   married    unknown      no     1506     yes   no   \n",
       "4       33       unknown    single    unknown      no        1      no   no   \n",
       "...    ...           ...       ...        ...     ...      ...     ...  ...   \n",
       "45206   51    technician   married   tertiary      no      825      no   no   \n",
       "45207   71       retired  divorced    primary      no     1729      no   no   \n",
       "45208   72       retired   married  secondary      no     5715      no   no   \n",
       "45209   57   blue-collar   married  secondary      no      668      no   no   \n",
       "45210   37  entrepreneur   married  secondary      no     2971      no   no   \n",
       "\n",
       "         contact  day month  duration  campaign  pdays  previous poutcome  \\\n",
       "0        unknown    5   may       261         1     -1         0  unknown   \n",
       "1        unknown    5   may       151         1     -1         0  unknown   \n",
       "2        unknown    5   may        76         1     -1         0  unknown   \n",
       "3        unknown    5   may        92         1     -1         0  unknown   \n",
       "4        unknown    5   may       198         1     -1         0  unknown   \n",
       "...          ...  ...   ...       ...       ...    ...       ...      ...   \n",
       "45206   cellular   17   nov       977         3     -1         0  unknown   \n",
       "45207   cellular   17   nov       456         2     -1         0  unknown   \n",
       "45208   cellular   17   nov      1127         5    184         3  success   \n",
       "45209  telephone   17   nov       508         4     -1         0  unknown   \n",
       "45210   cellular   17   nov       361         2    188        11    other   \n",
       "\n",
       "      Target  \n",
       "0         no  \n",
       "1         no  \n",
       "2         no  \n",
       "3         no  \n",
       "4         no  \n",
       "...      ...  \n",
       "45206    yes  \n",
       "45207    yes  \n",
       "45208    yes  \n",
       "45209     no  \n",
       "45210     no  \n",
       "\n",
       "[45211 rows x 17 columns]"
      ]
     },
     "execution_count": 7,
     "metadata": {},
     "output_type": "execute_result"
    }
   ],
   "source": [
    "df"
   ]
  },
  {
   "cell_type": "code",
   "execution_count": 8,
   "id": "bf3e5f11",
   "metadata": {
    "ExecuteTime": {
     "end_time": "2022-05-27T22:40:09.820560Z",
     "start_time": "2022-05-27T22:40:09.751688Z"
    }
   },
   "outputs": [
    {
     "data": {
      "text/html": [
       "<div>\n",
       "<style scoped>\n",
       "    .dataframe tbody tr th:only-of-type {\n",
       "        vertical-align: middle;\n",
       "    }\n",
       "\n",
       "    .dataframe tbody tr th {\n",
       "        vertical-align: top;\n",
       "    }\n",
       "\n",
       "    .dataframe thead th {\n",
       "        text-align: right;\n",
       "    }\n",
       "</style>\n",
       "<table border=\"1\" class=\"dataframe\">\n",
       "  <thead>\n",
       "    <tr style=\"text-align: right;\">\n",
       "      <th></th>\n",
       "      <th>age</th>\n",
       "      <th>balance</th>\n",
       "      <th>day</th>\n",
       "      <th>duration</th>\n",
       "      <th>campaign</th>\n",
       "      <th>pdays</th>\n",
       "      <th>previous</th>\n",
       "    </tr>\n",
       "  </thead>\n",
       "  <tbody>\n",
       "    <tr>\n",
       "      <th>count</th>\n",
       "      <td>45211.000000</td>\n",
       "      <td>45211.000000</td>\n",
       "      <td>45211.000000</td>\n",
       "      <td>45211.000000</td>\n",
       "      <td>45211.000000</td>\n",
       "      <td>45211.000000</td>\n",
       "      <td>45211.000000</td>\n",
       "    </tr>\n",
       "    <tr>\n",
       "      <th>mean</th>\n",
       "      <td>40.936210</td>\n",
       "      <td>1362.272058</td>\n",
       "      <td>15.806419</td>\n",
       "      <td>258.163080</td>\n",
       "      <td>2.763841</td>\n",
       "      <td>40.197828</td>\n",
       "      <td>0.580323</td>\n",
       "    </tr>\n",
       "    <tr>\n",
       "      <th>std</th>\n",
       "      <td>10.618762</td>\n",
       "      <td>3044.765829</td>\n",
       "      <td>8.322476</td>\n",
       "      <td>257.527812</td>\n",
       "      <td>3.098021</td>\n",
       "      <td>100.128746</td>\n",
       "      <td>2.303441</td>\n",
       "    </tr>\n",
       "    <tr>\n",
       "      <th>min</th>\n",
       "      <td>18.000000</td>\n",
       "      <td>-8019.000000</td>\n",
       "      <td>1.000000</td>\n",
       "      <td>0.000000</td>\n",
       "      <td>1.000000</td>\n",
       "      <td>-1.000000</td>\n",
       "      <td>0.000000</td>\n",
       "    </tr>\n",
       "    <tr>\n",
       "      <th>25%</th>\n",
       "      <td>33.000000</td>\n",
       "      <td>72.000000</td>\n",
       "      <td>8.000000</td>\n",
       "      <td>103.000000</td>\n",
       "      <td>1.000000</td>\n",
       "      <td>-1.000000</td>\n",
       "      <td>0.000000</td>\n",
       "    </tr>\n",
       "    <tr>\n",
       "      <th>50%</th>\n",
       "      <td>39.000000</td>\n",
       "      <td>448.000000</td>\n",
       "      <td>16.000000</td>\n",
       "      <td>180.000000</td>\n",
       "      <td>2.000000</td>\n",
       "      <td>-1.000000</td>\n",
       "      <td>0.000000</td>\n",
       "    </tr>\n",
       "    <tr>\n",
       "      <th>75%</th>\n",
       "      <td>48.000000</td>\n",
       "      <td>1428.000000</td>\n",
       "      <td>21.000000</td>\n",
       "      <td>319.000000</td>\n",
       "      <td>3.000000</td>\n",
       "      <td>-1.000000</td>\n",
       "      <td>0.000000</td>\n",
       "    </tr>\n",
       "    <tr>\n",
       "      <th>max</th>\n",
       "      <td>95.000000</td>\n",
       "      <td>102127.000000</td>\n",
       "      <td>31.000000</td>\n",
       "      <td>4918.000000</td>\n",
       "      <td>63.000000</td>\n",
       "      <td>871.000000</td>\n",
       "      <td>275.000000</td>\n",
       "    </tr>\n",
       "  </tbody>\n",
       "</table>\n",
       "</div>"
      ],
      "text/plain": [
       "                age        balance           day      duration      campaign  \\\n",
       "count  45211.000000   45211.000000  45211.000000  45211.000000  45211.000000   \n",
       "mean      40.936210    1362.272058     15.806419    258.163080      2.763841   \n",
       "std       10.618762    3044.765829      8.322476    257.527812      3.098021   \n",
       "min       18.000000   -8019.000000      1.000000      0.000000      1.000000   \n",
       "25%       33.000000      72.000000      8.000000    103.000000      1.000000   \n",
       "50%       39.000000     448.000000     16.000000    180.000000      2.000000   \n",
       "75%       48.000000    1428.000000     21.000000    319.000000      3.000000   \n",
       "max       95.000000  102127.000000     31.000000   4918.000000     63.000000   \n",
       "\n",
       "              pdays      previous  \n",
       "count  45211.000000  45211.000000  \n",
       "mean      40.197828      0.580323  \n",
       "std      100.128746      2.303441  \n",
       "min       -1.000000      0.000000  \n",
       "25%       -1.000000      0.000000  \n",
       "50%       -1.000000      0.000000  \n",
       "75%       -1.000000      0.000000  \n",
       "max      871.000000    275.000000  "
      ]
     },
     "execution_count": 8,
     "metadata": {},
     "output_type": "execute_result"
    }
   ],
   "source": [
    "# Análise exporatória de dados\n",
    "\n",
    "# nulos (missing), dados duplicados, distribuição, (tratamento de dados), dados categóricos/numéricos\n",
    "\n",
    "\n",
    "df.describe()"
   ]
  },
  {
   "cell_type": "code",
   "execution_count": 9,
   "id": "bc4265b3",
   "metadata": {
    "ExecuteTime": {
     "end_time": "2022-05-27T22:40:26.383298Z",
     "start_time": "2022-05-27T22:40:26.268381Z"
    }
   },
   "outputs": [
    {
     "name": "stdout",
     "output_type": "stream",
     "text": [
      "<class 'pandas.core.frame.DataFrame'>\n",
      "RangeIndex: 45211 entries, 0 to 45210\n",
      "Data columns (total 17 columns):\n",
      " #   Column     Non-Null Count  Dtype \n",
      "---  ------     --------------  ----- \n",
      " 0   age        45211 non-null  int64 \n",
      " 1   job        45211 non-null  object\n",
      " 2   marital    45211 non-null  object\n",
      " 3   education  45211 non-null  object\n",
      " 4   default    45211 non-null  object\n",
      " 5   balance    45211 non-null  int64 \n",
      " 6   housing    45211 non-null  object\n",
      " 7   loan       45211 non-null  object\n",
      " 8   contact    45211 non-null  object\n",
      " 9   day        45211 non-null  int64 \n",
      " 10  month      45211 non-null  object\n",
      " 11  duration   45211 non-null  int64 \n",
      " 12  campaign   45211 non-null  int64 \n",
      " 13  pdays      45211 non-null  int64 \n",
      " 14  previous   45211 non-null  int64 \n",
      " 15  poutcome   45211 non-null  object\n",
      " 16  Target     45211 non-null  object\n",
      "dtypes: int64(7), object(10)\n",
      "memory usage: 5.9+ MB\n"
     ]
    }
   ],
   "source": [
    "df.info()"
   ]
  },
  {
   "cell_type": "code",
   "execution_count": 10,
   "id": "2cd9ed72",
   "metadata": {
    "ExecuteTime": {
     "end_time": "2022-05-27T22:42:21.519507Z",
     "start_time": "2022-05-27T22:42:21.500556Z"
    }
   },
   "outputs": [],
   "source": [
    "# Definir quem são as features e quem é o target\n",
    "\n",
    "X = df.select_dtypes(include=np.number) #features\n",
    "y = df['Target'] # target"
   ]
  },
  {
   "cell_type": "code",
   "execution_count": 12,
   "id": "938b4968",
   "metadata": {
    "ExecuteTime": {
     "end_time": "2022-05-27T22:44:12.252677Z",
     "start_time": "2022-05-27T22:44:12.230697Z"
    }
   },
   "outputs": [
    {
     "data": {
      "text/plain": [
       "no     39922\n",
       "yes     5289\n",
       "Name: Target, dtype: int64"
      ]
     },
     "execution_count": 12,
     "metadata": {},
     "output_type": "execute_result"
    }
   ],
   "source": [
    "df['Target'].value_counts(dropna=False)"
   ]
  },
  {
   "cell_type": "code",
   "execution_count": 13,
   "id": "6b34d6e4",
   "metadata": {
    "ExecuteTime": {
     "end_time": "2022-05-27T22:44:46.956674Z",
     "start_time": "2022-05-27T22:44:46.937728Z"
    }
   },
   "outputs": [
    {
     "data": {
      "text/plain": [
       "no     0.883015\n",
       "yes    0.116985\n",
       "Name: Target, dtype: float64"
      ]
     },
     "execution_count": 13,
     "metadata": {},
     "output_type": "execute_result"
    }
   ],
   "source": [
    "df['Target'].value_counts(dropna=False, normalize=True)"
   ]
  },
  {
   "cell_type": "markdown",
   "id": "f1f93da9",
   "metadata": {},
   "source": [
    "Completamente desbalanceados"
   ]
  },
  {
   "cell_type": "code",
   "execution_count": 14,
   "id": "f9e08a12",
   "metadata": {
    "ExecuteTime": {
     "end_time": "2022-05-27T22:47:38.985035Z",
     "start_time": "2022-05-27T22:47:38.900260Z"
    }
   },
   "outputs": [],
   "source": [
    "# particionar os dados em treino e teste\n",
    "\n",
    "X_train, X_test, y_train, y_test = train_test_split(X, y, test_size=0.2, random_state=42, stratify=y)\n"
   ]
  },
  {
   "cell_type": "code",
   "execution_count": 51,
   "id": "f9c6dd38",
   "metadata": {
    "ExecuteTime": {
     "end_time": "2022-05-27T23:27:10.321849Z",
     "start_time": "2022-05-27T23:27:10.300043Z"
    }
   },
   "outputs": [
    {
     "name": "stdout",
     "output_type": "stream",
     "text": [
      "no     0.883018\n",
      "yes    0.116982\n",
      "Name: Target, dtype: float64\n"
     ]
    }
   ],
   "source": [
    "print(y_train.value_counts(normalize=True))"
   ]
  },
  {
   "cell_type": "code",
   "execution_count": 52,
   "id": "f58d4039",
   "metadata": {
    "ExecuteTime": {
     "end_time": "2022-05-27T23:27:20.873623Z",
     "start_time": "2022-05-27T23:27:20.850688Z"
    }
   },
   "outputs": [
    {
     "name": "stdout",
     "output_type": "stream",
     "text": [
      "no     0.883003\n",
      "yes    0.116997\n",
      "Name: Target, dtype: float64\n"
     ]
    }
   ],
   "source": [
    "print(y_test.value_counts(normalize=True))"
   ]
  },
  {
   "cell_type": "code",
   "execution_count": 16,
   "id": "6ec9a28d",
   "metadata": {
    "ExecuteTime": {
     "end_time": "2022-05-27T22:53:22.560556Z",
     "start_time": "2022-05-27T22:53:22.286533Z"
    }
   },
   "outputs": [
    {
     "data": {
      "text/plain": [
       "DecisionTreeClassifier()"
      ]
     },
     "execution_count": 16,
     "metadata": {},
     "output_type": "execute_result"
    }
   ],
   "source": [
    "# Escolher um modelo. Modelo supervisionado - classificação\n",
    "\n",
    "model = DecisionTreeClassifier() # Intânciando o modelo de classificação\n",
    "\n",
    "# Treina o modelo\n",
    "model.fit(X_train, y_train)"
   ]
  },
  {
   "cell_type": "code",
   "execution_count": 17,
   "id": "ae8ec5ac",
   "metadata": {
    "ExecuteTime": {
     "end_time": "2022-05-27T22:54:45.185887Z",
     "start_time": "2022-05-27T22:54:45.166938Z"
    }
   },
   "outputs": [],
   "source": [
    "# Avalia o modelo - vale a pena predizer os dados de treino para ver comportamento (overfitting).....\n",
    "\n",
    "y_pred = model.predict(X_test) # predição dos dados"
   ]
  },
  {
   "cell_type": "code",
   "execution_count": 20,
   "id": "e897b74a",
   "metadata": {
    "ExecuteTime": {
     "end_time": "2022-05-27T22:56:22.299146Z",
     "start_time": "2022-05-27T22:56:21.619725Z"
    }
   },
   "outputs": [
    {
     "name": "stdout",
     "output_type": "stream",
     "text": [
      "              precision    recall  f1-score   support\n",
      "\n",
      "          no       0.92      0.91      0.91      7985\n",
      "         yes       0.36      0.40      0.38      1058\n",
      "\n",
      "    accuracy                           0.85      9043\n",
      "   macro avg       0.64      0.65      0.65      9043\n",
      "weighted avg       0.85      0.85      0.85      9043\n",
      "\n"
     ]
    }
   ],
   "source": [
    "print(classification_report(y_test, y_pred))"
   ]
  },
  {
   "cell_type": "code",
   "execution_count": 21,
   "id": "7d63b9e3",
   "metadata": {
    "ExecuteTime": {
     "end_time": "2022-05-27T22:56:42.936902Z",
     "start_time": "2022-05-27T22:56:42.517343Z"
    }
   },
   "outputs": [
    {
     "data": {
      "text/plain": [
       "<sklearn.metrics._plot.confusion_matrix.ConfusionMatrixDisplay at 0x16cf866e620>"
      ]
     },
     "execution_count": 21,
     "metadata": {},
     "output_type": "execute_result"
    },
    {
     "data": {
      "image/png": "[encoded data removed]",
      "text/plain": [
       "<Figure size 432x288 with 2 Axes>"
      ]
     },
     "metadata": {
      "needs_background": "light"
     },
     "output_type": "display_data"
    }
   ],
   "source": [
    "cm = confusion_matrix(y_test, y_pred)\n",
    "\n",
    "ConfusionMatrixDisplay(cm).plot(cmap='Blues')"
   ]
  },
  {
   "cell_type": "markdown",
   "id": "2ef5c025",
   "metadata": {},
   "source": [
    "# Balanceamento dos dados\n",
    "\n",
    "1. Undersampling: diminuir a quantidade de amostras da classe majoritária para igualar a minoritária\n",
    "2. Upsampling: aumentar a quantidade de amostras da classe minoritãria para igualar com a majoritária\n",
    "\n",
    "<img src=\"images/resampling.png\"  style=\"width:800px\" />\n",
    "\n",
    "\n",
    "*OBSERVAÇÃO*: fazer balanceamento apenas entre as amostras de treinamento!!!"
   ]
  },
  {
   "cell_type": "code",
   "execution_count": 23,
   "id": "62c0cd89",
   "metadata": {
    "ExecuteTime": {
     "end_time": "2022-05-27T22:58:06.471655Z",
     "start_time": "2022-05-27T22:58:06.449715Z"
    }
   },
   "outputs": [
    {
     "data": {
      "text/plain": [
       "no     31937\n",
       "yes     4231\n",
       "Name: Target, dtype: int64"
      ]
     },
     "execution_count": 23,
     "metadata": {},
     "output_type": "execute_result"
    }
   ],
   "source": [
    "y_train.value_counts()"
   ]
  },
  {
   "cell_type": "markdown",
   "id": "69774b29",
   "metadata": {},
   "source": [
    "Biblioteca: https://imbalanced-learn.org/"
   ]
  },
  {
   "cell_type": "markdown",
   "id": "e84d5a7c",
   "metadata": {},
   "source": [
    "### Oversampling\n",
    "[imblearn.over_sampling.SMOTE](https://imbalanced-learn.org/stable/references/generated/imblearn.over_sampling.SMOTE.html)"
   ]
  },
  {
   "cell_type": "code",
   "execution_count": 28,
   "id": "68236bfc",
   "metadata": {
    "ExecuteTime": {
     "end_time": "2022-05-27T23:06:51.802893Z",
     "start_time": "2022-05-27T23:06:51.563030Z"
    }
   },
   "outputs": [
    {
     "name": "stdout",
     "output_type": "stream",
     "text": [
      "Original dataset shape Counter({'no': 31937, 'yes': 4231})\n",
      "Dataset shape oversampling Counter({'no': 31937, 'yes': 31937})\n"
     ]
    }
   ],
   "source": [
    "from imblearn.over_sampling import SMOTE\n",
    "from collections import Counter\n",
    "\n",
    "print('Original dataset shape', Counter(y_train))\n",
    "\n",
    "sm = SMOTE(random_state=42)\n",
    "X_res, y_res = sm.fit_resample(X_train, y_train)\n",
    "\n",
    "print('Dataset shape oversampling', Counter(y_res))\n"
   ]
  },
  {
   "cell_type": "markdown",
   "id": "cd8da976",
   "metadata": {},
   "source": [
    "[imblearn.over_sampling.RandomOverSampler](https://imbalanced-learn.org/stable/references/generated/imblearn.over_sampling.RandomOverSampler.html)"
   ]
  },
  {
   "cell_type": "code",
   "execution_count": 30,
   "id": "490adf70",
   "metadata": {
    "ExecuteTime": {
     "end_time": "2022-05-27T23:09:14.220670Z",
     "start_time": "2022-05-27T23:09:14.069071Z"
    }
   },
   "outputs": [
    {
     "name": "stdout",
     "output_type": "stream",
     "text": [
      "Original dataset shape Counter({'no': 31937, 'yes': 4231})\n",
      "Dataset shape oversampling Counter({'no': 31937, 'yes': 31937})\n"
     ]
    }
   ],
   "source": [
    "from imblearn.over_sampling import RandomOverSampler \n",
    "from collections import Counter\n",
    "\n",
    "print('Original dataset shape', Counter(y_train))\n",
    "\n",
    "sm1 = RandomOverSampler(random_state=42)\n",
    "X_res, y_res = sm1.fit_resample(X_train, y_train)\n",
    "\n",
    "print('Dataset shape oversampling', Counter(y_res))"
   ]
  },
  {
   "cell_type": "markdown",
   "id": "8ad05b6c",
   "metadata": {},
   "source": [
    "[imblearn.over_sampling.ADASYN](https://imbalanced-learn.org/stable/references/generated/imblearn.over_sampling.ADASYN.html)"
   ]
  },
  {
   "cell_type": "code",
   "execution_count": 31,
   "id": "8e9b9acf",
   "metadata": {
    "ExecuteTime": {
     "end_time": "2022-05-27T23:10:17.391351Z",
     "start_time": "2022-05-27T23:10:16.850495Z"
    }
   },
   "outputs": [
    {
     "name": "stdout",
     "output_type": "stream",
     "text": [
      "Original dataset shape Counter({'no': 31937, 'yes': 4231})\n",
      "Original dataset shape Counter({'yes': 32921, 'no': 31937})\n"
     ]
    }
   ],
   "source": [
    "from imblearn.over_sampling import ADASYN \n",
    "from collections import Counter\n",
    "\n",
    "print('Original dataset shape', Counter(y_train))\n",
    "\n",
    "sm = ADASYN(random_state=42)\n",
    "X_res, y_res = sm.fit_resample(X_train, y_train)\n",
    "\n",
    "print('Dataset shape oversampling', Counter(y_res))"
   ]
  },
  {
   "cell_type": "markdown",
   "id": "1e4e54e2",
   "metadata": {},
   "source": [
    "### Undersampling"
   ]
  },
  {
   "cell_type": "markdown",
   "id": "40f0c026",
   "metadata": {},
   "source": [
    "[imblearn.under_sampling.RandomUnderSampler](https://imbalanced-learn.org/stable/references/generated/imblearn.under_sampling.RandomUnderSampler.html)"
   ]
  },
  {
   "cell_type": "code",
   "execution_count": 32,
   "id": "9afc7a4f",
   "metadata": {
    "ExecuteTime": {
     "end_time": "2022-05-27T23:12:32.109932Z",
     "start_time": "2022-05-27T23:12:31.824179Z"
    }
   },
   "outputs": [
    {
     "name": "stdout",
     "output_type": "stream",
     "text": [
      "Original dataset shape Counter({'no': 31937, 'yes': 4231})\n",
      "Dataset shape undersampling Counter({'no': 4231, 'yes': 4231})\n"
     ]
    }
   ],
   "source": [
    "from imblearn.under_sampling import RandomUnderSampler\n",
    "from collections import Counter\n",
    "\n",
    "print('Original dataset shape', Counter(y_train))\n",
    "\n",
    "sm = RandomUnderSampler(random_state=42)\n",
    "X_res, y_res = sm.fit_resample(X_train, y_train)\n",
    "\n",
    "print('Dataset shape undersampling', Counter(y_res))"
   ]
  },
  {
   "cell_type": "markdown",
   "id": "b5f89b94",
   "metadata": {},
   "source": [
    "[imblearn.under_sampling.TomekLinks](https://imbalanced-learn.org/stable/references/generated/imblearn.under_sampling.TomekLinks.html)"
   ]
  },
  {
   "cell_type": "code",
   "execution_count": 34,
   "id": "2ba1b6e9",
   "metadata": {
    "ExecuteTime": {
     "end_time": "2022-05-27T23:14:04.034096Z",
     "start_time": "2022-05-27T23:14:03.411191Z"
    }
   },
   "outputs": [
    {
     "name": "stdout",
     "output_type": "stream",
     "text": [
      "Original dataset shape Counter({'no': 31937, 'yes': 4231})\n",
      "Dataset shape undersampling Counter({'no': 30445, 'yes': 4231})\n"
     ]
    }
   ],
   "source": [
    "# **********************************************\n",
    "from imblearn.under_sampling import TomekLinks \n",
    "from collections import Counter\n",
    "\n",
    "print('Original dataset shape', Counter(y_train))\n",
    "\n",
    "sm = TomekLinks()\n",
    "X_res, y_res = sm.fit_resample(X_train, y_train)\n",
    "\n",
    "print('Dataset shape undersampling', Counter(y_res))"
   ]
  },
  {
   "cell_type": "markdown",
   "id": "d1319145",
   "metadata": {},
   "source": [
    "### Up + Downsampling"
   ]
  },
  {
   "cell_type": "markdown",
   "id": "809dc5aa",
   "metadata": {},
   "source": [
    "[imblearn.combine.SMOTEENN](https://imbalanced-learn.org/stable/references/generated/imblearn.combine.SMOTEENN.html)"
   ]
  },
  {
   "cell_type": "code",
   "execution_count": 37,
   "id": "ab83a3e2",
   "metadata": {
    "ExecuteTime": {
     "end_time": "2022-05-27T23:17:35.512593Z",
     "start_time": "2022-05-27T23:17:32.815748Z"
    }
   },
   "outputs": [
    {
     "name": "stdout",
     "output_type": "stream",
     "text": [
      "Original dataset shape Counter({'no': 31937, 'yes': 4231})\n",
      "Dataset shape undersampling Counter({'yes': 27195, 'no': 22414})\n"
     ]
    }
   ],
   "source": [
    "from imblearn.combine import SMOTEENN \n",
    "from collections import Counter\n",
    "\n",
    "print('Original dataset shape', Counter(y_train))\n",
    "\n",
    "sm = SMOTEENN()\n",
    "X_res, y_res = sm.fit_resample(X_train, y_train)\n",
    "\n",
    "print('Dataset shape undersampling', Counter(y_res))"
   ]
  },
  {
   "cell_type": "code",
   "execution_count": 36,
   "id": "e978c27d",
   "metadata": {
    "ExecuteTime": {
     "end_time": "2022-05-27T23:16:53.846371Z",
     "start_time": "2022-05-27T23:16:51.729000Z"
    }
   },
   "outputs": [
    {
     "name": "stdout",
     "output_type": "stream",
     "text": [
      "Original dataset shape Counter({'no': 31937, 'yes': 4231})\n",
      "Dataset shape undersampling Counter({'no': 31035, 'yes': 31035})\n"
     ]
    }
   ],
   "source": [
    "# **********************************************\n",
    "from imblearn.combine import SMOTETomek \n",
    "from collections import Counter\n",
    "\n",
    "print('Original dataset shape', Counter(y_train))\n",
    "\n",
    "sm = SMOTETomek(random_state=42)\n",
    "X_res, y_res = sm.fit_resample(X_train, y_train)\n",
    "\n",
    "print('Dataset shape undersampling', Counter(y_res))"
   ]
  },
  {
   "cell_type": "markdown",
   "id": "7c330f55",
   "metadata": {
    "ExecuteTime": {
     "end_time": "2022-05-27T23:17:54.747831Z",
     "start_time": "2022-05-27T23:17:54.726825Z"
    }
   },
   "source": [
    "Voltar ao nosso modelo"
   ]
  },
  {
   "cell_type": "code",
   "execution_count": 40,
   "id": "1da3dada",
   "metadata": {
    "ExecuteTime": {
     "end_time": "2022-05-27T23:18:55.484996Z",
     "start_time": "2022-05-27T23:18:54.759663Z"
    }
   },
   "outputs": [
    {
     "data": {
      "text/plain": [
       "DecisionTreeClassifier()"
      ]
     },
     "execution_count": 40,
     "metadata": {},
     "output_type": "execute_result"
    }
   ],
   "source": [
    "# Escolher um modelo. Modelo supervisionado - classificação\n",
    "\n",
    "model1 = DecisionTreeClassifier() # Intânciando o modelo de classificação\n",
    "\n",
    "# Treina o modelo\n",
    "model1.fit(X_res, y_res)"
   ]
  },
  {
   "cell_type": "code",
   "execution_count": 41,
   "id": "adb4a595",
   "metadata": {
    "ExecuteTime": {
     "end_time": "2022-05-27T23:19:19.798477Z",
     "start_time": "2022-05-27T23:19:19.757589Z"
    }
   },
   "outputs": [],
   "source": [
    "# Avalia o modelo - vale a pena predizer os dados de treino para ver comportamento (overfitting).....\n",
    "\n",
    "y_pred1 = model1.predict(X_res) # predição dos dados"
   ]
  },
  {
   "cell_type": "code",
   "execution_count": 42,
   "id": "46cd13ed",
   "metadata": {
    "ExecuteTime": {
     "end_time": "2022-05-27T23:20:03.126288Z",
     "start_time": "2022-05-27T23:19:58.774339Z"
    }
   },
   "outputs": [
    {
     "name": "stdout",
     "output_type": "stream",
     "text": [
      "              precision    recall  f1-score   support\n",
      "\n",
      "          no       1.00      1.00      1.00     22414\n",
      "         yes       1.00      1.00      1.00     27195\n",
      "\n",
      "    accuracy                           1.00     49609\n",
      "   macro avg       1.00      1.00      1.00     49609\n",
      "weighted avg       1.00      1.00      1.00     49609\n",
      "\n"
     ]
    }
   ],
   "source": [
    "print(classification_report(y_res, y_pred1))"
   ]
  },
  {
   "cell_type": "markdown",
   "id": "b39e545d",
   "metadata": {},
   "source": [
    "Usando outro algoritmo"
   ]
  },
  {
   "cell_type": "code",
   "execution_count": 47,
   "id": "52d06e07",
   "metadata": {
    "ExecuteTime": {
     "end_time": "2022-05-27T23:23:28.793162Z",
     "start_time": "2022-05-27T23:23:28.781675Z"
    }
   },
   "outputs": [],
   "source": [
    "import warnings\n",
    "warnings.filterwarnings(\"ignore\")"
   ]
  },
  {
   "cell_type": "code",
   "execution_count": 48,
   "id": "f426fc15",
   "metadata": {
    "ExecuteTime": {
     "end_time": "2022-05-27T23:23:30.948262Z",
     "start_time": "2022-05-27T23:23:29.465881Z"
    }
   },
   "outputs": [
    {
     "name": "stdout",
     "output_type": "stream",
     "text": [
      "              precision    recall  f1-score   support\n",
      "\n",
      "          no       0.90      0.98      0.94      7985\n",
      "         yes       0.54      0.14      0.22      1058\n",
      "\n",
      "    accuracy                           0.89      9043\n",
      "   macro avg       0.72      0.56      0.58      9043\n",
      "weighted avg       0.85      0.89      0.85      9043\n",
      "\n"
     ]
    }
   ],
   "source": [
    "from sklearn.linear_model import LogisticRegression\n",
    "\n",
    "logreg = LogisticRegression() # cria o objeto\n",
    "logreg.fit(X_train,y_train) # da um fit (treinar o modelo)\n",
    "y_pred = logreg.predict(X_test) # da um predict (fazer as predições)\n",
    "\n",
    "print(classification_report(y_test, y_pred))"
   ]
  },
  {
   "cell_type": "code",
   "execution_count": 49,
   "id": "d9fe6574",
   "metadata": {
    "ExecuteTime": {
     "end_time": "2022-05-27T23:23:32.412681Z",
     "start_time": "2022-05-27T23:23:31.032331Z"
    }
   },
   "outputs": [
    {
     "name": "stdout",
     "output_type": "stream",
     "text": [
      "              precision    recall  f1-score   support\n",
      "\n",
      "          no       0.96      0.71      0.81      7985\n",
      "         yes       0.26      0.78      0.39      1058\n",
      "\n",
      "    accuracy                           0.71      9043\n",
      "   macro avg       0.61      0.74      0.60      9043\n",
      "weighted avg       0.88      0.71      0.76      9043\n",
      "\n"
     ]
    }
   ],
   "source": [
    "from sklearn.linear_model import LogisticRegression\n",
    "\n",
    "logreg1 = LogisticRegression() # cria o objeto\n",
    "logreg1.fit(X_res,y_res) # da um fit (treinar o modelo)\n",
    "y_pred1 = logreg1.predict(X_test) # da um predict (fazer as predições)\n",
    "\n",
    "print(classification_report(y_test, y_pred1))"
   ]
  },
  {
   "cell_type": "code",
   "execution_count": null,
   "id": "f87ab743",
   "metadata": {},
   "outputs": [],
   "source": []
  }
 ],
 "metadata": {
  "kernelspec": {
   "display_name": "Python 3 (ipykernel)",
   "language": "python",
   "name": "python3"
  },
  "language_info": {
   "codemirror_mode": {
    "name": "ipython",
    "version": 3
   },
   "file_extension": ".py",
   "mimetype": "text/x-python",
   "name": "python",
   "nbconvert_exporter": "python",
   "pygments_lexer": "ipython3",
   "version": "3.10.4"
  },
  "varInspector": {
   "cols": {
    "lenName": 16,
    "lenType": 16,
    "lenVar": 40
   },
   "kernels_config": {
    "python": {
     "delete_cmd_postfix": "",
     "delete_cmd_prefix": "del ",
     "library": "var_list.py",
     "varRefreshCmd": "print(var_dic_list())"
    },
    "r": {
     "delete_cmd_postfix": ") ",
     "delete_cmd_prefix": "rm(",
     "library": "var_list.r",
     "varRefreshCmd": "cat(var_dic_list()) "
    }
   },
   "types_to_exclude": [
    "module",
    "function",
    "builtin_function_or_method",
    "instance",
    "_Feature"
   ],
   "window_display": false
  }
 },
 "nbformat": 4,
 "nbformat_minor": 5
}
