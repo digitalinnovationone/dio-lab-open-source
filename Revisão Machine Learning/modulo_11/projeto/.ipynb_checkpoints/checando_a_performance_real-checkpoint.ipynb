{
 "cells": [
  {
   "cell_type": "code",
   "execution_count": 1,
   "id": "846d3017",
   "metadata": {
    "ExecuteTime": {
     "end_time": "2022-07-29T22:35:24.551361Z",
     "start_time": "2022-07-29T22:35:19.191080Z"
    }
   },
   "outputs": [],
   "source": [
    "import pandas as pd\n",
    "from sklearn.metrics import roc_auc_score"
   ]
  },
  {
   "cell_type": "markdown",
   "id": "f047da62",
   "metadata": {},
   "source": [
    "Lendo o arquivo de probabilidades de inadimplência, que foi exportado após termos utilizado o modelo"
   ]
  },
  {
   "cell_type": "code",
   "execution_count": 2,
   "id": "0240ba45",
   "metadata": {
    "ExecuteTime": {
     "end_time": "2022-07-29T22:35:25.223035Z",
     "start_time": "2022-07-29T22:35:24.557356Z"
    }
   },
   "outputs": [
    {
     "data": {
      "text/html": [
       "<div>\n",
       "<style scoped>\n",
       "    .dataframe tbody tr th:only-of-type {\n",
       "        vertical-align: middle;\n",
       "    }\n",
       "\n",
       "    .dataframe tbody tr th {\n",
       "        vertical-align: top;\n",
       "    }\n",
       "\n",
       "    .dataframe thead th {\n",
       "        text-align: right;\n",
       "    }\n",
       "</style>\n",
       "<table border=\"1\" class=\"dataframe\">\n",
       "  <thead>\n",
       "    <tr style=\"text-align: right;\">\n",
       "      <th></th>\n",
       "      <th>SK_ID_CURR</th>\n",
       "      <th>proba</th>\n",
       "    </tr>\n",
       "  </thead>\n",
       "  <tbody>\n",
       "    <tr>\n",
       "      <th>0</th>\n",
       "      <td>149741</td>\n",
       "      <td>0.646420</td>\n",
       "    </tr>\n",
       "    <tr>\n",
       "      <th>1</th>\n",
       "      <td>363290</td>\n",
       "      <td>0.165856</td>\n",
       "    </tr>\n",
       "    <tr>\n",
       "      <th>2</th>\n",
       "      <td>436006</td>\n",
       "      <td>0.333876</td>\n",
       "    </tr>\n",
       "    <tr>\n",
       "      <th>3</th>\n",
       "      <td>377703</td>\n",
       "      <td>0.206049</td>\n",
       "    </tr>\n",
       "    <tr>\n",
       "      <th>4</th>\n",
       "      <td>188624</td>\n",
       "      <td>0.650230</td>\n",
       "    </tr>\n",
       "    <tr>\n",
       "      <th>...</th>\n",
       "      <td>...</td>\n",
       "      <td>...</td>\n",
       "    </tr>\n",
       "    <tr>\n",
       "      <th>61498</th>\n",
       "      <td>102817</td>\n",
       "      <td>0.250371</td>\n",
       "    </tr>\n",
       "    <tr>\n",
       "      <th>61499</th>\n",
       "      <td>343961</td>\n",
       "      <td>0.370276</td>\n",
       "    </tr>\n",
       "    <tr>\n",
       "      <th>61500</th>\n",
       "      <td>427828</td>\n",
       "      <td>0.176911</td>\n",
       "    </tr>\n",
       "    <tr>\n",
       "      <th>61501</th>\n",
       "      <td>405956</td>\n",
       "      <td>0.319885</td>\n",
       "    </tr>\n",
       "    <tr>\n",
       "      <th>61502</th>\n",
       "      <td>425814</td>\n",
       "      <td>0.248679</td>\n",
       "    </tr>\n",
       "  </tbody>\n",
       "</table>\n",
       "<p>61503 rows × 2 columns</p>\n",
       "</div>"
      ],
      "text/plain": [
       "       SK_ID_CURR     proba\n",
       "0          149741  0.646420\n",
       "1          363290  0.165856\n",
       "2          436006  0.333876\n",
       "3          377703  0.206049\n",
       "4          188624  0.650230\n",
       "...           ...       ...\n",
       "61498      102817  0.250371\n",
       "61499      343961  0.370276\n",
       "61500      427828  0.176911\n",
       "61501      405956  0.319885\n",
       "61502      425814  0.248679\n",
       "\n",
       "[61503 rows x 2 columns]"
      ]
     },
     "execution_count": 2,
     "metadata": {},
     "output_type": "execute_result"
    }
   ],
   "source": [
    "# mude aqui pro nome do arquivo que vc gerou!!\n",
    "entrega = pd.read_csv(\"probabilidades_entrega.csv\")\n",
    "\n",
    "entrega"
   ]
  },
  {
   "cell_type": "markdown",
   "id": "62168b69",
   "metadata": {},
   "source": [
    "Lendo a base da entrega, só que agora com os targets reais!"
   ]
  },
  {
   "cell_type": "code",
   "execution_count": 3,
   "id": "88848dfa",
   "metadata": {
    "ExecuteTime": {
     "end_time": "2022-07-29T22:35:25.534306Z",
     "start_time": "2022-07-29T22:35:25.229061Z"
    }
   },
   "outputs": [
    {
     "data": {
      "text/html": [
       "<div>\n",
       "<style scoped>\n",
       "    .dataframe tbody tr th:only-of-type {\n",
       "        vertical-align: middle;\n",
       "    }\n",
       "\n",
       "    .dataframe tbody tr th {\n",
       "        vertical-align: top;\n",
       "    }\n",
       "\n",
       "    .dataframe thead th {\n",
       "        text-align: right;\n",
       "    }\n",
       "</style>\n",
       "<table border=\"1\" class=\"dataframe\">\n",
       "  <thead>\n",
       "    <tr style=\"text-align: right;\">\n",
       "      <th></th>\n",
       "      <th>SK_ID_CURR</th>\n",
       "      <th>TARGET</th>\n",
       "    </tr>\n",
       "  </thead>\n",
       "  <tbody>\n",
       "    <tr>\n",
       "      <th>0</th>\n",
       "      <td>149741</td>\n",
       "      <td>1</td>\n",
       "    </tr>\n",
       "    <tr>\n",
       "      <th>1</th>\n",
       "      <td>363290</td>\n",
       "      <td>0</td>\n",
       "    </tr>\n",
       "    <tr>\n",
       "      <th>2</th>\n",
       "      <td>436006</td>\n",
       "      <td>0</td>\n",
       "    </tr>\n",
       "    <tr>\n",
       "      <th>3</th>\n",
       "      <td>377703</td>\n",
       "      <td>0</td>\n",
       "    </tr>\n",
       "    <tr>\n",
       "      <th>4</th>\n",
       "      <td>188624</td>\n",
       "      <td>0</td>\n",
       "    </tr>\n",
       "    <tr>\n",
       "      <th>...</th>\n",
       "      <td>...</td>\n",
       "      <td>...</td>\n",
       "    </tr>\n",
       "    <tr>\n",
       "      <th>61498</th>\n",
       "      <td>102817</td>\n",
       "      <td>0</td>\n",
       "    </tr>\n",
       "    <tr>\n",
       "      <th>61499</th>\n",
       "      <td>343961</td>\n",
       "      <td>0</td>\n",
       "    </tr>\n",
       "    <tr>\n",
       "      <th>61500</th>\n",
       "      <td>427828</td>\n",
       "      <td>0</td>\n",
       "    </tr>\n",
       "    <tr>\n",
       "      <th>61501</th>\n",
       "      <td>405956</td>\n",
       "      <td>0</td>\n",
       "    </tr>\n",
       "    <tr>\n",
       "      <th>61502</th>\n",
       "      <td>425814</td>\n",
       "      <td>1</td>\n",
       "    </tr>\n",
       "  </tbody>\n",
       "</table>\n",
       "<p>61503 rows × 2 columns</p>\n",
       "</div>"
      ],
      "text/plain": [
       "       SK_ID_CURR  TARGET\n",
       "0          149741       1\n",
       "1          363290       0\n",
       "2          436006       0\n",
       "3          377703       0\n",
       "4          188624       0\n",
       "...           ...     ...\n",
       "61498      102817       0\n",
       "61499      343961       0\n",
       "61500      427828       0\n",
       "61501      405956       0\n",
       "61502      425814       1\n",
       "\n",
       "[61503 rows x 2 columns]"
      ]
     },
     "execution_count": 3,
     "metadata": {},
     "output_type": "execute_result"
    }
   ],
   "source": [
    "df_entrega_com_target = pd.read_csv(\"id_targets_reais.csv\")\n",
    "\n",
    "df_entrega_com_target"
   ]
  },
  {
   "cell_type": "markdown",
   "id": "e4325edc",
   "metadata": {},
   "source": [
    "Agora, cruzando as duas bases:"
   ]
  },
  {
   "cell_type": "code",
   "execution_count": 4,
   "id": "a8c33ab9",
   "metadata": {
    "ExecuteTime": {
     "end_time": "2022-07-29T22:35:25.753415Z",
     "start_time": "2022-07-29T22:35:25.543301Z"
    }
   },
   "outputs": [],
   "source": [
    "df_test_final = entrega.merge(df_entrega_com_target, on=\"SK_ID_CURR\", how=\"inner\")"
   ]
  },
  {
   "cell_type": "code",
   "execution_count": 5,
   "id": "f9c1c34f",
   "metadata": {
    "ExecuteTime": {
     "end_time": "2022-07-29T22:35:25.818406Z",
     "start_time": "2022-07-29T22:35:25.760410Z"
    }
   },
   "outputs": [
    {
     "data": {
      "text/html": [
       "<div>\n",
       "<style scoped>\n",
       "    .dataframe tbody tr th:only-of-type {\n",
       "        vertical-align: middle;\n",
       "    }\n",
       "\n",
       "    .dataframe tbody tr th {\n",
       "        vertical-align: top;\n",
       "    }\n",
       "\n",
       "    .dataframe thead th {\n",
       "        text-align: right;\n",
       "    }\n",
       "</style>\n",
       "<table border=\"1\" class=\"dataframe\">\n",
       "  <thead>\n",
       "    <tr style=\"text-align: right;\">\n",
       "      <th></th>\n",
       "      <th>SK_ID_CURR</th>\n",
       "      <th>proba</th>\n",
       "      <th>TARGET</th>\n",
       "    </tr>\n",
       "  </thead>\n",
       "  <tbody>\n",
       "    <tr>\n",
       "      <th>0</th>\n",
       "      <td>149741</td>\n",
       "      <td>0.646420</td>\n",
       "      <td>1</td>\n",
       "    </tr>\n",
       "    <tr>\n",
       "      <th>1</th>\n",
       "      <td>363290</td>\n",
       "      <td>0.165856</td>\n",
       "      <td>0</td>\n",
       "    </tr>\n",
       "    <tr>\n",
       "      <th>2</th>\n",
       "      <td>436006</td>\n",
       "      <td>0.333876</td>\n",
       "      <td>0</td>\n",
       "    </tr>\n",
       "    <tr>\n",
       "      <th>3</th>\n",
       "      <td>377703</td>\n",
       "      <td>0.206049</td>\n",
       "      <td>0</td>\n",
       "    </tr>\n",
       "    <tr>\n",
       "      <th>4</th>\n",
       "      <td>188624</td>\n",
       "      <td>0.650230</td>\n",
       "      <td>0</td>\n",
       "    </tr>\n",
       "    <tr>\n",
       "      <th>...</th>\n",
       "      <td>...</td>\n",
       "      <td>...</td>\n",
       "      <td>...</td>\n",
       "    </tr>\n",
       "    <tr>\n",
       "      <th>61498</th>\n",
       "      <td>102817</td>\n",
       "      <td>0.250371</td>\n",
       "      <td>0</td>\n",
       "    </tr>\n",
       "    <tr>\n",
       "      <th>61499</th>\n",
       "      <td>343961</td>\n",
       "      <td>0.370276</td>\n",
       "      <td>0</td>\n",
       "    </tr>\n",
       "    <tr>\n",
       "      <th>61500</th>\n",
       "      <td>427828</td>\n",
       "      <td>0.176911</td>\n",
       "      <td>0</td>\n",
       "    </tr>\n",
       "    <tr>\n",
       "      <th>61501</th>\n",
       "      <td>405956</td>\n",
       "      <td>0.319885</td>\n",
       "      <td>0</td>\n",
       "    </tr>\n",
       "    <tr>\n",
       "      <th>61502</th>\n",
       "      <td>425814</td>\n",
       "      <td>0.248679</td>\n",
       "      <td>1</td>\n",
       "    </tr>\n",
       "  </tbody>\n",
       "</table>\n",
       "<p>61503 rows × 3 columns</p>\n",
       "</div>"
      ],
      "text/plain": [
       "       SK_ID_CURR     proba  TARGET\n",
       "0          149741  0.646420       1\n",
       "1          363290  0.165856       0\n",
       "2          436006  0.333876       0\n",
       "3          377703  0.206049       0\n",
       "4          188624  0.650230       0\n",
       "...           ...       ...     ...\n",
       "61498      102817  0.250371       0\n",
       "61499      343961  0.370276       0\n",
       "61500      427828  0.176911       0\n",
       "61501      405956  0.319885       0\n",
       "61502      425814  0.248679       1\n",
       "\n",
       "[61503 rows x 3 columns]"
      ]
     },
     "execution_count": 5,
     "metadata": {},
     "output_type": "execute_result"
    }
   ],
   "source": [
    "df_test_final"
   ]
  },
  {
   "cell_type": "code",
   "execution_count": 6,
   "id": "e2a4e5f0",
   "metadata": {
    "ExecuteTime": {
     "end_time": "2022-07-29T22:35:26.168669Z",
     "start_time": "2022-07-29T22:35:25.824374Z"
    }
   },
   "outputs": [
    {
     "name": "stdout",
     "output_type": "stream",
     "text": [
      "0.754\n"
     ]
    }
   ],
   "source": [
    "auc = roc_auc_score(df_test_final[\"TARGET\"], df_test_final[\"proba\"])\n",
    "\n",
    "print(f\"{auc:.3f}\")"
   ]
  }
 ],
 "metadata": {
  "kernelspec": {
   "display_name": "Python 3",
   "language": "python",
   "name": "python3"
  },
  "language_info": {
   "codemirror_mode": {
    "name": "ipython",
    "version": 3
   },
   "file_extension": ".py",
   "mimetype": "text/x-python",
   "name": "python",
   "nbconvert_exporter": "python",
   "pygments_lexer": "ipython3",
   "version": "3.8.3"
  }
 },
 "nbformat": 4,
 "nbformat_minor": 5
}
