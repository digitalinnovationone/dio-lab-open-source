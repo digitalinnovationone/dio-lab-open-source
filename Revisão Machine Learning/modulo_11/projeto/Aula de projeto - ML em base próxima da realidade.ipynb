{
 "cells": [
  {
   "cell_type": "markdown",
   "metadata": {},
   "source": [
    "# Aula de projeto - ML em base próxima da realidade"
   ]
  },
  {
   "cell_type": "markdown",
   "metadata": {},
   "source": [
    "Vamos explorar algumas das técnicas que aprendemos até o momento, aplicando-as ao dataset do projeto final, que é um dataset bem complexo, mais próximo do que encontramos na vida real!"
   ]
  },
  {
   "cell_type": "markdown",
   "metadata": {},
   "source": [
    "____________"
   ]
  },
  {
   "cell_type": "code",
   "execution_count": 1,
   "metadata": {
    "ExecuteTime": {
     "end_time": "2022-07-29T22:10:32.305345Z",
     "start_time": "2022-07-29T22:10:32.082473Z"
    }
   },
   "outputs": [],
   "source": [
    "%load_ext autoreload\n",
    "%autoreload 2"
   ]
  },
  {
   "cell_type": "code",
   "execution_count": 2,
   "metadata": {
    "ExecuteTime": {
     "end_time": "2022-07-29T22:11:27.006425Z",
     "start_time": "2022-07-29T22:10:32.480947Z"
    }
   },
   "outputs": [],
   "source": [
    "from ml_utils import *"
   ]
  },
  {
   "cell_type": "code",
   "execution_count": 3,
   "metadata": {
    "ExecuteTime": {
     "end_time": "2022-07-29T22:11:38.704838Z",
     "start_time": "2022-07-29T22:11:27.012421Z"
    }
   },
   "outputs": [],
   "source": [
    "df = pd.read_csv(\"application_train.csv\")"
   ]
  },
  {
   "cell_type": "code",
   "execution_count": 4,
   "metadata": {
    "ExecuteTime": {
     "end_time": "2022-07-29T22:11:40.291826Z",
     "start_time": "2022-07-29T22:11:38.719820Z"
    }
   },
   "outputs": [
    {
     "data": {
      "text/html": [
       "<div>\n",
       "<style scoped>\n",
       "    .dataframe tbody tr th:only-of-type {\n",
       "        vertical-align: middle;\n",
       "    }\n",
       "\n",
       "    .dataframe tbody tr th {\n",
       "        vertical-align: top;\n",
       "    }\n",
       "\n",
       "    .dataframe thead th {\n",
       "        text-align: right;\n",
       "    }\n",
       "</style>\n",
       "<table border=\"1\" class=\"dataframe\">\n",
       "  <thead>\n",
       "    <tr style=\"text-align: right;\">\n",
       "      <th></th>\n",
       "      <th>SK_ID_CURR</th>\n",
       "      <th>TARGET</th>\n",
       "      <th>NAME_CONTRACT_TYPE</th>\n",
       "      <th>CODE_GENDER</th>\n",
       "      <th>FLAG_OWN_CAR</th>\n",
       "      <th>FLAG_OWN_REALTY</th>\n",
       "      <th>CNT_CHILDREN</th>\n",
       "      <th>AMT_INCOME_TOTAL</th>\n",
       "      <th>AMT_CREDIT</th>\n",
       "      <th>AMT_ANNUITY</th>\n",
       "      <th>...</th>\n",
       "      <th>FLAG_DOCUMENT_18</th>\n",
       "      <th>FLAG_DOCUMENT_19</th>\n",
       "      <th>FLAG_DOCUMENT_20</th>\n",
       "      <th>FLAG_DOCUMENT_21</th>\n",
       "      <th>AMT_REQ_CREDIT_BUREAU_HOUR</th>\n",
       "      <th>AMT_REQ_CREDIT_BUREAU_DAY</th>\n",
       "      <th>AMT_REQ_CREDIT_BUREAU_WEEK</th>\n",
       "      <th>AMT_REQ_CREDIT_BUREAU_MON</th>\n",
       "      <th>AMT_REQ_CREDIT_BUREAU_QRT</th>\n",
       "      <th>AMT_REQ_CREDIT_BUREAU_YEAR</th>\n",
       "    </tr>\n",
       "  </thead>\n",
       "  <tbody>\n",
       "    <tr>\n",
       "      <th>0</th>\n",
       "      <td>456162</td>\n",
       "      <td>0</td>\n",
       "      <td>Cash loans</td>\n",
       "      <td>F</td>\n",
       "      <td>N</td>\n",
       "      <td>N</td>\n",
       "      <td>0</td>\n",
       "      <td>112500.0</td>\n",
       "      <td>700830.0</td>\n",
       "      <td>22738.5</td>\n",
       "      <td>...</td>\n",
       "      <td>0</td>\n",
       "      <td>0</td>\n",
       "      <td>0</td>\n",
       "      <td>0</td>\n",
       "      <td>0.0</td>\n",
       "      <td>0.0</td>\n",
       "      <td>0.0</td>\n",
       "      <td>0.0</td>\n",
       "      <td>0.0</td>\n",
       "      <td>1.0</td>\n",
       "    </tr>\n",
       "    <tr>\n",
       "      <th>1</th>\n",
       "      <td>134978</td>\n",
       "      <td>0</td>\n",
       "      <td>Cash loans</td>\n",
       "      <td>F</td>\n",
       "      <td>N</td>\n",
       "      <td>N</td>\n",
       "      <td>0</td>\n",
       "      <td>90000.0</td>\n",
       "      <td>375322.5</td>\n",
       "      <td>14422.5</td>\n",
       "      <td>...</td>\n",
       "      <td>0</td>\n",
       "      <td>0</td>\n",
       "      <td>0</td>\n",
       "      <td>0</td>\n",
       "      <td>0.0</td>\n",
       "      <td>0.0</td>\n",
       "      <td>0.0</td>\n",
       "      <td>1.0</td>\n",
       "      <td>0.0</td>\n",
       "      <td>3.0</td>\n",
       "    </tr>\n",
       "    <tr>\n",
       "      <th>2</th>\n",
       "      <td>318952</td>\n",
       "      <td>0</td>\n",
       "      <td>Cash loans</td>\n",
       "      <td>M</td>\n",
       "      <td>Y</td>\n",
       "      <td>N</td>\n",
       "      <td>0</td>\n",
       "      <td>180000.0</td>\n",
       "      <td>544491.0</td>\n",
       "      <td>16047.0</td>\n",
       "      <td>...</td>\n",
       "      <td>0</td>\n",
       "      <td>0</td>\n",
       "      <td>0</td>\n",
       "      <td>0</td>\n",
       "      <td>0.0</td>\n",
       "      <td>0.0</td>\n",
       "      <td>0.0</td>\n",
       "      <td>1.0</td>\n",
       "      <td>1.0</td>\n",
       "      <td>3.0</td>\n",
       "    </tr>\n",
       "    <tr>\n",
       "      <th>3</th>\n",
       "      <td>361264</td>\n",
       "      <td>0</td>\n",
       "      <td>Cash loans</td>\n",
       "      <td>F</td>\n",
       "      <td>N</td>\n",
       "      <td>Y</td>\n",
       "      <td>0</td>\n",
       "      <td>270000.0</td>\n",
       "      <td>814041.0</td>\n",
       "      <td>28971.0</td>\n",
       "      <td>...</td>\n",
       "      <td>0</td>\n",
       "      <td>0</td>\n",
       "      <td>0</td>\n",
       "      <td>0</td>\n",
       "      <td>0.0</td>\n",
       "      <td>0.0</td>\n",
       "      <td>0.0</td>\n",
       "      <td>0.0</td>\n",
       "      <td>1.0</td>\n",
       "      <td>4.0</td>\n",
       "    </tr>\n",
       "    <tr>\n",
       "      <th>4</th>\n",
       "      <td>260639</td>\n",
       "      <td>0</td>\n",
       "      <td>Cash loans</td>\n",
       "      <td>F</td>\n",
       "      <td>N</td>\n",
       "      <td>Y</td>\n",
       "      <td>0</td>\n",
       "      <td>144000.0</td>\n",
       "      <td>675000.0</td>\n",
       "      <td>21906.0</td>\n",
       "      <td>...</td>\n",
       "      <td>0</td>\n",
       "      <td>0</td>\n",
       "      <td>0</td>\n",
       "      <td>0</td>\n",
       "      <td>0.0</td>\n",
       "      <td>0.0</td>\n",
       "      <td>0.0</td>\n",
       "      <td>10.0</td>\n",
       "      <td>0.0</td>\n",
       "      <td>0.0</td>\n",
       "    </tr>\n",
       "  </tbody>\n",
       "</table>\n",
       "<p>5 rows × 122 columns</p>\n",
       "</div>"
      ],
      "text/plain": [
       "   SK_ID_CURR  TARGET NAME_CONTRACT_TYPE CODE_GENDER FLAG_OWN_CAR  \\\n",
       "0      456162       0         Cash loans           F            N   \n",
       "1      134978       0         Cash loans           F            N   \n",
       "2      318952       0         Cash loans           M            Y   \n",
       "3      361264       0         Cash loans           F            N   \n",
       "4      260639       0         Cash loans           F            N   \n",
       "\n",
       "  FLAG_OWN_REALTY  CNT_CHILDREN  AMT_INCOME_TOTAL  AMT_CREDIT  AMT_ANNUITY  \\\n",
       "0               N             0          112500.0    700830.0      22738.5   \n",
       "1               N             0           90000.0    375322.5      14422.5   \n",
       "2               N             0          180000.0    544491.0      16047.0   \n",
       "3               Y             0          270000.0    814041.0      28971.0   \n",
       "4               Y             0          144000.0    675000.0      21906.0   \n",
       "\n",
       "   ...  FLAG_DOCUMENT_18 FLAG_DOCUMENT_19 FLAG_DOCUMENT_20 FLAG_DOCUMENT_21  \\\n",
       "0  ...                 0                0                0                0   \n",
       "1  ...                 0                0                0                0   \n",
       "2  ...                 0                0                0                0   \n",
       "3  ...                 0                0                0                0   \n",
       "4  ...                 0                0                0                0   \n",
       "\n",
       "  AMT_REQ_CREDIT_BUREAU_HOUR AMT_REQ_CREDIT_BUREAU_DAY  \\\n",
       "0                        0.0                       0.0   \n",
       "1                        0.0                       0.0   \n",
       "2                        0.0                       0.0   \n",
       "3                        0.0                       0.0   \n",
       "4                        0.0                       0.0   \n",
       "\n",
       "   AMT_REQ_CREDIT_BUREAU_WEEK  AMT_REQ_CREDIT_BUREAU_MON  \\\n",
       "0                         0.0                        0.0   \n",
       "1                         0.0                        1.0   \n",
       "2                         0.0                        1.0   \n",
       "3                         0.0                        0.0   \n",
       "4                         0.0                       10.0   \n",
       "\n",
       "   AMT_REQ_CREDIT_BUREAU_QRT  AMT_REQ_CREDIT_BUREAU_YEAR  \n",
       "0                        0.0                         1.0  \n",
       "1                        0.0                         3.0  \n",
       "2                        1.0                         3.0  \n",
       "3                        1.0                         4.0  \n",
       "4                        0.0                         0.0  \n",
       "\n",
       "[5 rows x 122 columns]"
      ]
     },
     "execution_count": 4,
     "metadata": {},
     "output_type": "execute_result"
    }
   ],
   "source": [
    "df.head()"
   ]
  },
  {
   "cell_type": "code",
   "execution_count": 5,
   "metadata": {
    "ExecuteTime": {
     "end_time": "2022-07-29T22:11:41.058389Z",
     "start_time": "2022-07-29T22:11:40.299821Z"
    }
   },
   "outputs": [
    {
     "data": {
      "text/plain": [
       "(246008, 122)"
      ]
     },
     "execution_count": 5,
     "metadata": {},
     "output_type": "execute_result"
    }
   ],
   "source": [
    "df.shape"
   ]
  },
  {
   "cell_type": "code",
   "execution_count": 6,
   "metadata": {
    "ExecuteTime": {
     "end_time": "2022-07-29T22:11:42.434728Z",
     "start_time": "2022-07-29T22:11:41.066382Z"
    }
   },
   "outputs": [],
   "source": [
    "X = df.drop(columns=[\"SK_ID_CURR\", \"TARGET\"])\n",
    "y = df[\"TARGET\"]"
   ]
  },
  {
   "cell_type": "code",
   "execution_count": 7,
   "metadata": {
    "ExecuteTime": {
     "end_time": "2022-07-29T22:11:43.480036Z",
     "start_time": "2022-07-29T22:11:42.438727Z"
    }
   },
   "outputs": [
    {
     "data": {
      "text/plain": [
       "0    0.918824\n",
       "1    0.081176\n",
       "Name: TARGET, dtype: float64"
      ]
     },
     "execution_count": 7,
     "metadata": {},
     "output_type": "execute_result"
    }
   ],
   "source": [
    "y.value_counts(normalize=True)"
   ]
  },
  {
   "cell_type": "code",
   "execution_count": 8,
   "metadata": {
    "ExecuteTime": {
     "end_time": "2022-07-29T22:11:46.804997Z",
     "start_time": "2022-07-29T22:11:43.485909Z"
    }
   },
   "outputs": [],
   "source": [
    "X_train, X_test, y_train, y_test = train_test_split(X, y, test_size=0.2, random_state=42, stratify=y)"
   ]
  },
  {
   "cell_type": "markdown",
   "metadata": {},
   "source": [
    "_________"
   ]
  },
  {
   "cell_type": "markdown",
   "metadata": {},
   "source": [
    "## EDA\n",
    "\n",
    "Aqui, deve entrar a EDA, que, como sabemos, é **importantíssima!**\n",
    "\n",
    "Não deixe de fazer uma boa, longa e cuidadosa análise exploratória, até que você realmente se sinta confortável com o problema e com os dados com os quais estamos trabalhando! Algumas dicas:\n",
    "\n",
    "- Explore a estrutura da base, os tipos de dados que temos, a distribuição das features numéricas, etc.;\n",
    "- Formule perguntas sobre a população de interesse, e responda a estas perguntas utilizando as informações que estão na amostra!\n",
    "- Use e abuse de ferramentas de dataviz (o que inclue o uso de PCA para visualizações em 2D);\n",
    "\n",
    "\n",
    "> **Importante:** é muito difícil fazer uma análise exploratória de qualidade sem sabermos o que são as colunas de nossa base! Por isso, é importantíssimo que você utilize os **metadados** pra apoiar sua análise -- eles estão no arquivo `HomeCredit_columns_description`."
   ]
  },
  {
   "cell_type": "code",
   "execution_count": 9,
   "metadata": {
    "ExecuteTime": {
     "end_time": "2022-07-23T01:35:03.328751Z",
     "start_time": "2022-07-23T01:35:03.089425Z"
    }
   },
   "outputs": [],
   "source": [
    "# faça uma EDA detalhada!"
   ]
  },
  {
   "cell_type": "markdown",
   "metadata": {},
   "source": [
    "_________"
   ]
  },
  {
   "cell_type": "markdown",
   "metadata": {},
   "source": [
    "## Feature engineering"
   ]
  },
  {
   "cell_type": "markdown",
   "metadata": {},
   "source": [
    "Vamos agora criar algumas features qualitativas, utilizando algumas das técnicas mais genéricas que discutimos na aula de feature engineering.\n",
    "\n",
    "> Mas, lembre-se, este processo só faz sentido se realmente conhecermos a base com a qual estamos trabalhando!! Por isso, não esqueça da EDA!"
   ]
  },
  {
   "cell_type": "markdown",
   "metadata": {},
   "source": [
    "**Taxas relacionadas à receita**\n"
   ]
  },
  {
   "cell_type": "code",
   "execution_count": 10,
   "metadata": {
    "ExecuteTime": {
     "end_time": "2022-07-23T01:35:03.575615Z",
     "start_time": "2022-07-23T01:35:03.333749Z"
    }
   },
   "outputs": [
    {
     "data": {
      "text/plain": [
       "28631      2.399077\n",
       "183632     5.266667\n",
       "134136     0.666667\n",
       "12766      3.899315\n",
       "174805    10.000000\n",
       "            ...    \n",
       "132533     8.985000\n",
       "1407       3.330800\n",
       "40785      1.497500\n",
       "80125      4.844800\n",
       "3211       2.949333\n",
       "Length: 196806, dtype: float64"
      ]
     },
     "execution_count": 10,
     "metadata": {},
     "output_type": "execute_result"
    }
   ],
   "source": [
    "X_train[\"AMT_CREDIT\"]/X_train[\"AMT_INCOME_TOTAL\"]"
   ]
  },
  {
   "cell_type": "code",
   "execution_count": 11,
   "metadata": {
    "ExecuteTime": {
     "end_time": "2022-07-23T01:35:03.883427Z",
     "start_time": "2022-07-23T01:35:03.583610Z"
    }
   },
   "outputs": [
    {
     "data": {
      "text/plain": [
       "28631     0.246277\n",
       "183632    0.296500\n",
       "134136    0.052667\n",
       "12766     0.199589\n",
       "174805    0.347600\n",
       "            ...   \n",
       "132533    0.262700\n",
       "1407      0.127000\n",
       "40785     0.116600\n",
       "80125     0.225840\n",
       "3211      0.233967\n",
       "Length: 196806, dtype: float64"
      ]
     },
     "execution_count": 11,
     "metadata": {},
     "output_type": "execute_result"
    }
   ],
   "source": [
    "X_train[\"AMT_ANNUITY\"]/X_train[\"AMT_INCOME_TOTAL\"]"
   ]
  },
  {
   "cell_type": "code",
   "execution_count": 12,
   "metadata": {
    "ExecuteTime": {
     "end_time": "2022-07-23T01:35:04.197926Z",
     "start_time": "2022-07-23T01:35:03.893418Z"
    }
   },
   "outputs": [
    {
     "data": {
      "text/plain": [
       "count    196799.000000\n",
       "mean          0.181082\n",
       "std           0.094410\n",
       "min           0.003333\n",
       "25%           0.114985\n",
       "50%           0.163043\n",
       "75%           0.229350\n",
       "max           1.451571\n",
       "dtype: float64"
      ]
     },
     "execution_count": 12,
     "metadata": {},
     "output_type": "execute_result"
    }
   ],
   "source": [
    "(X_train[\"AMT_ANNUITY\"]/X_train[\"AMT_INCOME_TOTAL\"]).describe()"
   ]
  },
  {
   "cell_type": "code",
   "execution_count": 13,
   "metadata": {
    "ExecuteTime": {
     "end_time": "2022-07-23T01:35:04.527736Z",
     "start_time": "2022-07-23T01:35:04.207918Z"
    }
   },
   "outputs": [
    {
     "data": {
      "text/plain": [
       "28631      2.307692\n",
       "183632     4.166667\n",
       "134136     0.666667\n",
       "12766      3.424658\n",
       "174805    10.000000\n",
       "            ...    \n",
       "132533     7.500000\n",
       "1407       2.750000\n",
       "40785      1.250000\n",
       "80125      4.000000\n",
       "3211       2.333333\n",
       "Length: 196806, dtype: float64"
      ]
     },
     "execution_count": 13,
     "metadata": {},
     "output_type": "execute_result"
    }
   ],
   "source": [
    "X_train[\"AMT_GOODS_PRICE\"]/X_train[\"AMT_INCOME_TOTAL\"]"
   ]
  },
  {
   "cell_type": "code",
   "execution_count": 14,
   "metadata": {
    "ExecuteTime": {
     "end_time": "2022-07-23T01:35:04.811571Z",
     "start_time": "2022-07-23T01:35:04.533731Z"
    }
   },
   "outputs": [
    {
     "data": {
      "text/plain": [
       "28631     97500.0\n",
       "183632    18000.0\n",
       "134136    67500.0\n",
       "12766     87600.0\n",
       "174805    60000.0\n",
       "           ...   \n",
       "132533    90000.0\n",
       "1407      90000.0\n",
       "40785     60000.0\n",
       "80125     56250.0\n",
       "3211      45000.0\n",
       "Length: 196806, dtype: float64"
      ]
     },
     "execution_count": 14,
     "metadata": {},
     "output_type": "execute_result"
    }
   ],
   "source": [
    "X_train[\"AMT_INCOME_TOTAL\"]/X_train[\"CNT_FAM_MEMBERS\"]"
   ]
  },
  {
   "cell_type": "markdown",
   "metadata": {},
   "source": [
    "**Tempo empregado como uma porcentagem do tempo de vida**"
   ]
  },
  {
   "cell_type": "code",
   "execution_count": 15,
   "metadata": {
    "ExecuteTime": {
     "end_time": "2022-07-23T01:35:05.110906Z",
     "start_time": "2022-07-23T01:35:04.820567Z"
    }
   },
   "outputs": [
    {
     "data": {
      "text/plain": [
       "28631    -47.136986\n",
       "183632   -41.200000\n",
       "134136   -50.071233\n",
       "12766    -29.887671\n",
       "174805   -39.589041\n",
       "            ...    \n",
       "132533   -56.243836\n",
       "1407     -54.739726\n",
       "40785    -43.772603\n",
       "80125    -24.279452\n",
       "3211     -30.087671\n",
       "Name: DAYS_BIRTH, Length: 196806, dtype: float64"
      ]
     },
     "execution_count": 15,
     "metadata": {},
     "output_type": "execute_result"
    }
   ],
   "source": [
    "X_train[\"DAYS_BIRTH\"]/365"
   ]
  },
  {
   "cell_type": "code",
   "execution_count": 16,
   "metadata": {
    "ExecuteTime": {
     "end_time": "2022-07-23T01:35:05.391744Z",
     "start_time": "2022-07-23T01:35:05.117904Z"
    }
   },
   "outputs": [
    {
     "data": {
      "text/plain": [
       "28631      -1946\n",
       "183632      -128\n",
       "134136    365243\n",
       "12766       -325\n",
       "174805     -3580\n",
       "           ...  \n",
       "132533     -2979\n",
       "1407       -4469\n",
       "40785      -4260\n",
       "80125      -1408\n",
       "3211        -539\n",
       "Name: DAYS_EMPLOYED, Length: 196806, dtype: int64"
      ]
     },
     "execution_count": 16,
     "metadata": {},
     "output_type": "execute_result"
    }
   ],
   "source": [
    "X_train[\"DAYS_EMPLOYED\"]"
   ]
  },
  {
   "cell_type": "code",
   "execution_count": 17,
   "metadata": {
    "ExecuteTime": {
     "end_time": "2022-07-23T01:35:05.936094Z",
     "start_time": "2022-07-23T01:35:05.395743Z"
    }
   },
   "outputs": [
    {
     "data": {
      "text/plain": [
       "28631    -1946\n",
       "183632    -128\n",
       "134136       0\n",
       "12766     -325\n",
       "174805   -3580\n",
       "          ... \n",
       "132533   -2979\n",
       "1407     -4469\n",
       "40785    -4260\n",
       "80125    -1408\n",
       "3211      -539\n",
       "Name: DAYS_EMPLOYED, Length: 196806, dtype: int64"
      ]
     },
     "execution_count": 17,
     "metadata": {},
     "output_type": "execute_result"
    }
   ],
   "source": [
    "X_train[\"DAYS_EMPLOYED\"].apply(lambda x: 0 if x>=0 else x)"
   ]
  },
  {
   "cell_type": "code",
   "execution_count": 18,
   "metadata": {
    "ExecuteTime": {
     "end_time": "2022-07-23T01:35:06.434966Z",
     "start_time": "2022-07-23T01:35:05.940091Z"
    }
   },
   "outputs": [
    {
     "data": {
      "text/plain": [
       "28631     0.113107\n",
       "183632    0.008512\n",
       "134136   -0.000000\n",
       "12766     0.029792\n",
       "174805    0.247751\n",
       "            ...   \n",
       "132533    0.145112\n",
       "1407      0.223674\n",
       "40785     0.266633\n",
       "80125     0.158881\n",
       "3211      0.049080\n",
       "Length: 196806, dtype: float64"
      ]
     },
     "execution_count": 18,
     "metadata": {},
     "output_type": "execute_result"
    }
   ],
   "source": [
    "X_train[\"DAYS_EMPLOYED\"].apply(lambda x: 0 if x>=0 else x)/X_train[\"DAYS_BIRTH\"]"
   ]
  },
  {
   "cell_type": "code",
   "execution_count": 19,
   "metadata": {
    "ExecuteTime": {
     "end_time": "2022-07-23T01:35:06.729796Z",
     "start_time": "2022-07-23T01:35:06.439963Z"
    }
   },
   "outputs": [
    {
     "data": {
      "text/plain": [
       "28631      0.113107\n",
       "183632     0.008512\n",
       "134136   -19.984844\n",
       "12766      0.029792\n",
       "174805     0.247751\n",
       "            ...    \n",
       "132533     0.145112\n",
       "1407       0.223674\n",
       "40785      0.266633\n",
       "80125      0.158881\n",
       "3211       0.049080\n",
       "Length: 196806, dtype: float64"
      ]
     },
     "execution_count": 19,
     "metadata": {},
     "output_type": "execute_result"
    }
   ],
   "source": [
    "X_train[\"DAYS_EMPLOYED\"]/X_train[\"DAYS_BIRTH\"]"
   ]
  },
  {
   "cell_type": "code",
   "execution_count": 20,
   "metadata": {
    "ExecuteTime": {
     "end_time": "2022-07-23T01:35:07.010637Z",
     "start_time": "2022-07-23T01:35:06.735794Z"
    }
   },
   "outputs": [
    {
     "data": {
      "text/plain": [
       "28631     0.113107\n",
       "183632    0.008512\n",
       "134136    0.000000\n",
       "12766     0.029792\n",
       "174805    0.247751\n",
       "            ...   \n",
       "132533    0.145112\n",
       "1407      0.223674\n",
       "40785     0.266633\n",
       "80125     0.158881\n",
       "3211      0.049080\n",
       "Length: 196806, dtype: float64"
      ]
     },
     "execution_count": 20,
     "metadata": {},
     "output_type": "execute_result"
    }
   ],
   "source": [
    "np.clip(X_train[\"DAYS_EMPLOYED\"]/X_train[\"DAYS_BIRTH\"], 0, 1)"
   ]
  },
  {
   "cell_type": "markdown",
   "metadata": {
    "ExecuteTime": {
     "end_time": "2022-03-18T19:56:41.510400Z",
     "start_time": "2022-03-18T19:56:41.499407Z"
    }
   },
   "source": [
    "**Número de adultos e crianças na família**\n"
   ]
  },
  {
   "cell_type": "code",
   "execution_count": 21,
   "metadata": {
    "ExecuteTime": {
     "end_time": "2022-07-23T01:35:07.275000Z",
     "start_time": "2022-07-23T01:35:07.014634Z"
    }
   },
   "outputs": [
    {
     "data": {
      "text/plain": [
       "28631     2.0\n",
       "183632    1.0\n",
       "134136    2.0\n",
       "12766     2.0\n",
       "174805    2.0\n",
       "         ... \n",
       "132533    1.0\n",
       "1407      1.0\n",
       "40785     2.0\n",
       "80125     2.0\n",
       "3211      2.0\n",
       "Length: 196806, dtype: float64"
      ]
     },
     "execution_count": 21,
     "metadata": {},
     "output_type": "execute_result"
    }
   ],
   "source": [
    "X_train[\"CNT_FAM_MEMBERS\"] - X_train[\"CNT_CHILDREN\"]"
   ]
  },
  {
   "cell_type": "code",
   "execution_count": 22,
   "metadata": {
    "ExecuteTime": {
     "end_time": "2022-07-23T01:35:07.521857Z",
     "start_time": "2022-07-23T01:35:07.290991Z"
    }
   },
   "outputs": [
    {
     "data": {
      "text/plain": [
       "28631     0.333333\n",
       "183632    0.666667\n",
       "134136    0.000000\n",
       "12766     0.333333\n",
       "174805    0.333333\n",
       "            ...   \n",
       "132533    0.000000\n",
       "1407      0.000000\n",
       "40785     0.333333\n",
       "80125     0.000000\n",
       "3211      0.333333\n",
       "Length: 196806, dtype: float64"
      ]
     },
     "execution_count": 22,
     "metadata": {},
     "output_type": "execute_result"
    }
   ],
   "source": [
    "X_train['CNT_CHILDREN']/X_train['CNT_FAM_MEMBERS']"
   ]
  },
  {
   "cell_type": "markdown",
   "metadata": {},
   "source": [
    "**Quantidade de pagamentos**"
   ]
  },
  {
   "cell_type": "code",
   "execution_count": 23,
   "metadata": {
    "ExecuteTime": {
     "end_time": "2022-07-23T01:35:07.741731Z",
     "start_time": "2022-07-23T01:35:07.525859Z"
    }
   },
   "outputs": [
    {
     "data": {
      "text/plain": [
       "28631      9.741379\n",
       "183632    17.762788\n",
       "134136    12.658228\n",
       "12766     19.536719\n",
       "174805    28.768700\n",
       "            ...    \n",
       "132533    34.202512\n",
       "1407      26.226772\n",
       "40785     12.843053\n",
       "80125     21.452356\n",
       "3211      12.605784\n",
       "Length: 196806, dtype: float64"
      ]
     },
     "execution_count": 23,
     "metadata": {},
     "output_type": "execute_result"
    }
   ],
   "source": [
    "X_train['AMT_CREDIT']/X_train['AMT_ANNUITY']"
   ]
  },
  {
   "cell_type": "markdown",
   "metadata": {},
   "source": [
    "**Estatísticas sobre dados externos**\n"
   ]
  },
  {
   "cell_type": "code",
   "execution_count": 24,
   "metadata": {
    "ExecuteTime": {
     "end_time": "2022-07-23T01:35:07.978160Z",
     "start_time": "2022-07-23T01:35:07.744731Z"
    }
   },
   "outputs": [
    {
     "data": {
      "text/html": [
       "<div>\n",
       "<style scoped>\n",
       "    .dataframe tbody tr th:only-of-type {\n",
       "        vertical-align: middle;\n",
       "    }\n",
       "\n",
       "    .dataframe tbody tr th {\n",
       "        vertical-align: top;\n",
       "    }\n",
       "\n",
       "    .dataframe thead th {\n",
       "        text-align: right;\n",
       "    }\n",
       "</style>\n",
       "<table border=\"1\" class=\"dataframe\">\n",
       "  <thead>\n",
       "    <tr style=\"text-align: right;\">\n",
       "      <th></th>\n",
       "      <th>EXT_SOURCE_1</th>\n",
       "      <th>EXT_SOURCE_2</th>\n",
       "      <th>EXT_SOURCE_3</th>\n",
       "    </tr>\n",
       "  </thead>\n",
       "  <tbody>\n",
       "    <tr>\n",
       "      <th>28631</th>\n",
       "      <td>0.862670</td>\n",
       "      <td>0.537364</td>\n",
       "      <td>0.735221</td>\n",
       "    </tr>\n",
       "    <tr>\n",
       "      <th>183632</th>\n",
       "      <td>NaN</td>\n",
       "      <td>0.484688</td>\n",
       "      <td>NaN</td>\n",
       "    </tr>\n",
       "    <tr>\n",
       "      <th>134136</th>\n",
       "      <td>0.558577</td>\n",
       "      <td>0.465365</td>\n",
       "      <td>0.380800</td>\n",
       "    </tr>\n",
       "    <tr>\n",
       "      <th>12766</th>\n",
       "      <td>0.330174</td>\n",
       "      <td>0.213449</td>\n",
       "      <td>0.297087</td>\n",
       "    </tr>\n",
       "    <tr>\n",
       "      <th>174805</th>\n",
       "      <td>0.629119</td>\n",
       "      <td>0.648341</td>\n",
       "      <td>0.506484</td>\n",
       "    </tr>\n",
       "    <tr>\n",
       "      <th>...</th>\n",
       "      <td>...</td>\n",
       "      <td>...</td>\n",
       "      <td>...</td>\n",
       "    </tr>\n",
       "    <tr>\n",
       "      <th>132533</th>\n",
       "      <td>NaN</td>\n",
       "      <td>0.162192</td>\n",
       "      <td>0.673830</td>\n",
       "    </tr>\n",
       "    <tr>\n",
       "      <th>1407</th>\n",
       "      <td>NaN</td>\n",
       "      <td>0.727673</td>\n",
       "      <td>0.835777</td>\n",
       "    </tr>\n",
       "    <tr>\n",
       "      <th>40785</th>\n",
       "      <td>NaN</td>\n",
       "      <td>0.537880</td>\n",
       "      <td>0.665855</td>\n",
       "    </tr>\n",
       "    <tr>\n",
       "      <th>80125</th>\n",
       "      <td>0.564393</td>\n",
       "      <td>0.443233</td>\n",
       "      <td>0.508287</td>\n",
       "    </tr>\n",
       "    <tr>\n",
       "      <th>3211</th>\n",
       "      <td>0.142344</td>\n",
       "      <td>0.404628</td>\n",
       "      <td>NaN</td>\n",
       "    </tr>\n",
       "  </tbody>\n",
       "</table>\n",
       "<p>196806 rows × 3 columns</p>\n",
       "</div>"
      ],
      "text/plain": [
       "        EXT_SOURCE_1  EXT_SOURCE_2  EXT_SOURCE_3\n",
       "28631       0.862670      0.537364      0.735221\n",
       "183632           NaN      0.484688           NaN\n",
       "134136      0.558577      0.465365      0.380800\n",
       "12766       0.330174      0.213449      0.297087\n",
       "174805      0.629119      0.648341      0.506484\n",
       "...              ...           ...           ...\n",
       "132533           NaN      0.162192      0.673830\n",
       "1407             NaN      0.727673      0.835777\n",
       "40785            NaN      0.537880      0.665855\n",
       "80125       0.564393      0.443233      0.508287\n",
       "3211        0.142344      0.404628           NaN\n",
       "\n",
       "[196806 rows x 3 columns]"
      ]
     },
     "execution_count": 24,
     "metadata": {},
     "output_type": "execute_result"
    }
   ],
   "source": [
    "X_train[[\"EXT_SOURCE_1\", \"EXT_SOURCE_2\", \"EXT_SOURCE_3\"]]"
   ]
  },
  {
   "cell_type": "code",
   "execution_count": 25,
   "metadata": {
    "ExecuteTime": {
     "end_time": "2022-07-23T01:35:08.214025Z",
     "start_time": "2022-07-23T01:35:07.984160Z"
    }
   },
   "outputs": [
    {
     "data": {
      "text/plain": [
       "28631     0.537364\n",
       "183632    0.484688\n",
       "134136    0.380800\n",
       "12766     0.213449\n",
       "174805    0.506484\n",
       "            ...   \n",
       "132533    0.162192\n",
       "1407      0.727673\n",
       "40785     0.537880\n",
       "80125     0.443233\n",
       "3211      0.142344\n",
       "Length: 196806, dtype: float64"
      ]
     },
     "execution_count": 25,
     "metadata": {},
     "output_type": "execute_result"
    }
   ],
   "source": [
    "X_train[[\"EXT_SOURCE_1\", \"EXT_SOURCE_2\", \"EXT_SOURCE_3\"]].min(axis = 1)"
   ]
  },
  {
   "cell_type": "code",
   "execution_count": 26,
   "metadata": {
    "ExecuteTime": {
     "end_time": "2022-07-23T01:35:08.465882Z",
     "start_time": "2022-07-23T01:35:08.218032Z"
    }
   },
   "outputs": [
    {
     "data": {
      "text/plain": [
       "28631     0.862670\n",
       "183632    0.484688\n",
       "134136    0.558577\n",
       "12766     0.330174\n",
       "174805    0.648341\n",
       "            ...   \n",
       "132533    0.673830\n",
       "1407      0.835777\n",
       "40785     0.665855\n",
       "80125     0.564393\n",
       "3211      0.404628\n",
       "Length: 196806, dtype: float64"
      ]
     },
     "execution_count": 26,
     "metadata": {},
     "output_type": "execute_result"
    }
   ],
   "source": [
    "X_train[[\"EXT_SOURCE_1\", \"EXT_SOURCE_2\", \"EXT_SOURCE_3\"]].max(axis = 1)"
   ]
  },
  {
   "cell_type": "code",
   "execution_count": 27,
   "metadata": {
    "ExecuteTime": {
     "end_time": "2022-07-23T01:35:08.670765Z",
     "start_time": "2022-07-23T01:35:08.470878Z"
    }
   },
   "outputs": [
    {
     "data": {
      "text/plain": [
       "28631     0.711752\n",
       "183632    0.484688\n",
       "134136    0.468247\n",
       "12766     0.280236\n",
       "174805    0.594648\n",
       "            ...   \n",
       "132533    0.418011\n",
       "1407      0.781725\n",
       "40785     0.601868\n",
       "80125     0.505304\n",
       "3211      0.273486\n",
       "Length: 196806, dtype: float64"
      ]
     },
     "execution_count": 27,
     "metadata": {},
     "output_type": "execute_result"
    }
   ],
   "source": [
    "X_train[[\"EXT_SOURCE_1\", \"EXT_SOURCE_2\", \"EXT_SOURCE_3\"]].mean(axis = 1)"
   ]
  },
  {
   "cell_type": "code",
   "execution_count": 28,
   "metadata": {
    "ExecuteTime": {
     "end_time": "2022-07-23T01:35:08.890151Z",
     "start_time": "2022-07-23T01:35:08.676762Z"
    }
   },
   "outputs": [
    {
     "data": {
      "text/plain": [
       "28631     0.163918\n",
       "183632         NaN\n",
       "134136    0.088924\n",
       "12766     0.060160\n",
       "174805    0.076954\n",
       "            ...   \n",
       "132533    0.361783\n",
       "1407      0.076441\n",
       "40785     0.090492\n",
       "80125     0.060635\n",
       "3211      0.185463\n",
       "Length: 196806, dtype: float64"
      ]
     },
     "execution_count": 28,
     "metadata": {},
     "output_type": "execute_result"
    }
   ],
   "source": [
    "X_train[[\"EXT_SOURCE_1\", \"EXT_SOURCE_2\", \"EXT_SOURCE_3\"]].std(axis = 1)"
   ]
  },
  {
   "cell_type": "code",
   "execution_count": 29,
   "metadata": {
    "ExecuteTime": {
     "end_time": "2022-07-23T01:35:09.120533Z",
     "start_time": "2022-07-23T01:35:08.893148Z"
    }
   },
   "outputs": [
    {
     "data": {
      "text/html": [
       "<div>\n",
       "<style scoped>\n",
       "    .dataframe tbody tr th:only-of-type {\n",
       "        vertical-align: middle;\n",
       "    }\n",
       "\n",
       "    .dataframe tbody tr th {\n",
       "        vertical-align: top;\n",
       "    }\n",
       "\n",
       "    .dataframe thead th {\n",
       "        text-align: right;\n",
       "    }\n",
       "</style>\n",
       "<table border=\"1\" class=\"dataframe\">\n",
       "  <thead>\n",
       "    <tr style=\"text-align: right;\">\n",
       "      <th></th>\n",
       "      <th>EXT_SOURCE_1</th>\n",
       "      <th>EXT_SOURCE_2</th>\n",
       "      <th>EXT_SOURCE_3</th>\n",
       "    </tr>\n",
       "  </thead>\n",
       "  <tbody>\n",
       "    <tr>\n",
       "      <th>28631</th>\n",
       "      <td>0.862670</td>\n",
       "      <td>0.537364</td>\n",
       "      <td>0.735221</td>\n",
       "    </tr>\n",
       "    <tr>\n",
       "      <th>183632</th>\n",
       "      <td>NaN</td>\n",
       "      <td>0.484688</td>\n",
       "      <td>NaN</td>\n",
       "    </tr>\n",
       "    <tr>\n",
       "      <th>134136</th>\n",
       "      <td>0.558577</td>\n",
       "      <td>0.465365</td>\n",
       "      <td>0.380800</td>\n",
       "    </tr>\n",
       "    <tr>\n",
       "      <th>12766</th>\n",
       "      <td>0.330174</td>\n",
       "      <td>0.213449</td>\n",
       "      <td>0.297087</td>\n",
       "    </tr>\n",
       "    <tr>\n",
       "      <th>174805</th>\n",
       "      <td>0.629119</td>\n",
       "      <td>0.648341</td>\n",
       "      <td>0.506484</td>\n",
       "    </tr>\n",
       "    <tr>\n",
       "      <th>...</th>\n",
       "      <td>...</td>\n",
       "      <td>...</td>\n",
       "      <td>...</td>\n",
       "    </tr>\n",
       "    <tr>\n",
       "      <th>132533</th>\n",
       "      <td>NaN</td>\n",
       "      <td>0.162192</td>\n",
       "      <td>0.673830</td>\n",
       "    </tr>\n",
       "    <tr>\n",
       "      <th>1407</th>\n",
       "      <td>NaN</td>\n",
       "      <td>0.727673</td>\n",
       "      <td>0.835777</td>\n",
       "    </tr>\n",
       "    <tr>\n",
       "      <th>40785</th>\n",
       "      <td>NaN</td>\n",
       "      <td>0.537880</td>\n",
       "      <td>0.665855</td>\n",
       "    </tr>\n",
       "    <tr>\n",
       "      <th>80125</th>\n",
       "      <td>0.564393</td>\n",
       "      <td>0.443233</td>\n",
       "      <td>0.508287</td>\n",
       "    </tr>\n",
       "    <tr>\n",
       "      <th>3211</th>\n",
       "      <td>0.142344</td>\n",
       "      <td>0.404628</td>\n",
       "      <td>NaN</td>\n",
       "    </tr>\n",
       "  </tbody>\n",
       "</table>\n",
       "<p>196806 rows × 3 columns</p>\n",
       "</div>"
      ],
      "text/plain": [
       "        EXT_SOURCE_1  EXT_SOURCE_2  EXT_SOURCE_3\n",
       "28631       0.862670      0.537364      0.735221\n",
       "183632           NaN      0.484688           NaN\n",
       "134136      0.558577      0.465365      0.380800\n",
       "12766       0.330174      0.213449      0.297087\n",
       "174805      0.629119      0.648341      0.506484\n",
       "...              ...           ...           ...\n",
       "132533           NaN      0.162192      0.673830\n",
       "1407             NaN      0.727673      0.835777\n",
       "40785            NaN      0.537880      0.665855\n",
       "80125       0.564393      0.443233      0.508287\n",
       "3211        0.142344      0.404628           NaN\n",
       "\n",
       "[196806 rows x 3 columns]"
      ]
     },
     "execution_count": 29,
     "metadata": {},
     "output_type": "execute_result"
    }
   ],
   "source": [
    "X_train[[\"EXT_SOURCE_1\", \"EXT_SOURCE_2\", \"EXT_SOURCE_3\"]]"
   ]
  },
  {
   "cell_type": "code",
   "execution_count": 30,
   "metadata": {
    "ExecuteTime": {
     "end_time": "2022-07-23T01:35:09.491295Z",
     "start_time": "2022-07-23T01:35:09.124529Z"
    }
   },
   "outputs": [
    {
     "data": {
      "text/plain": [
       "28631     3\n",
       "183632    1\n",
       "134136    3\n",
       "12766     3\n",
       "174805    3\n",
       "         ..\n",
       "132533    2\n",
       "1407      2\n",
       "40785     2\n",
       "80125     3\n",
       "3211      2\n",
       "Length: 196806, dtype: int64"
      ]
     },
     "execution_count": 30,
     "metadata": {},
     "output_type": "execute_result"
    }
   ],
   "source": [
    "(~X_train[[\"EXT_SOURCE_1\", \"EXT_SOURCE_2\", \"EXT_SOURCE_3\"]].isnull()).sum(axis=1)"
   ]
  },
  {
   "cell_type": "markdown",
   "metadata": {},
   "source": [
    "**Número de documentos entregues**\n"
   ]
  },
  {
   "cell_type": "code",
   "execution_count": 31,
   "metadata": {
    "ExecuteTime": {
     "end_time": "2022-07-23T01:35:09.724179Z",
     "start_time": "2022-07-23T01:35:09.495293Z"
    }
   },
   "outputs": [
    {
     "data": {
      "text/plain": [
       "['FLAG_DOCUMENT_2',\n",
       " 'FLAG_DOCUMENT_3',\n",
       " 'FLAG_DOCUMENT_4',\n",
       " 'FLAG_DOCUMENT_5',\n",
       " 'FLAG_DOCUMENT_6',\n",
       " 'FLAG_DOCUMENT_7',\n",
       " 'FLAG_DOCUMENT_8',\n",
       " 'FLAG_DOCUMENT_9',\n",
       " 'FLAG_DOCUMENT_10',\n",
       " 'FLAG_DOCUMENT_11',\n",
       " 'FLAG_DOCUMENT_12',\n",
       " 'FLAG_DOCUMENT_13',\n",
       " 'FLAG_DOCUMENT_14',\n",
       " 'FLAG_DOCUMENT_15',\n",
       " 'FLAG_DOCUMENT_16',\n",
       " 'FLAG_DOCUMENT_17',\n",
       " 'FLAG_DOCUMENT_18',\n",
       " 'FLAG_DOCUMENT_19',\n",
       " 'FLAG_DOCUMENT_20',\n",
       " 'FLAG_DOCUMENT_21']"
      ]
     },
     "execution_count": 31,
     "metadata": {},
     "output_type": "execute_result"
    }
   ],
   "source": [
    "[x for x in X_train.columns if \"FLAG_DOCUMENT_\" in x]"
   ]
  },
  {
   "cell_type": "code",
   "execution_count": 32,
   "metadata": {
    "ExecuteTime": {
     "end_time": "2022-07-23T01:35:09.989392Z",
     "start_time": "2022-07-23T01:35:09.727161Z"
    }
   },
   "outputs": [
    {
     "data": {
      "text/html": [
       "<div>\n",
       "<style scoped>\n",
       "    .dataframe tbody tr th:only-of-type {\n",
       "        vertical-align: middle;\n",
       "    }\n",
       "\n",
       "    .dataframe tbody tr th {\n",
       "        vertical-align: top;\n",
       "    }\n",
       "\n",
       "    .dataframe thead th {\n",
       "        text-align: right;\n",
       "    }\n",
       "</style>\n",
       "<table border=\"1\" class=\"dataframe\">\n",
       "  <thead>\n",
       "    <tr style=\"text-align: right;\">\n",
       "      <th></th>\n",
       "      <th>FLAG_DOCUMENT_2</th>\n",
       "      <th>FLAG_DOCUMENT_3</th>\n",
       "      <th>FLAG_DOCUMENT_4</th>\n",
       "      <th>FLAG_DOCUMENT_5</th>\n",
       "      <th>FLAG_DOCUMENT_6</th>\n",
       "      <th>FLAG_DOCUMENT_7</th>\n",
       "      <th>FLAG_DOCUMENT_8</th>\n",
       "      <th>FLAG_DOCUMENT_9</th>\n",
       "      <th>FLAG_DOCUMENT_10</th>\n",
       "      <th>FLAG_DOCUMENT_11</th>\n",
       "      <th>FLAG_DOCUMENT_12</th>\n",
       "      <th>FLAG_DOCUMENT_13</th>\n",
       "      <th>FLAG_DOCUMENT_14</th>\n",
       "      <th>FLAG_DOCUMENT_15</th>\n",
       "      <th>FLAG_DOCUMENT_16</th>\n",
       "      <th>FLAG_DOCUMENT_17</th>\n",
       "      <th>FLAG_DOCUMENT_18</th>\n",
       "      <th>FLAG_DOCUMENT_19</th>\n",
       "      <th>FLAG_DOCUMENT_20</th>\n",
       "      <th>FLAG_DOCUMENT_21</th>\n",
       "    </tr>\n",
       "  </thead>\n",
       "  <tbody>\n",
       "    <tr>\n",
       "      <th>28631</th>\n",
       "      <td>0</td>\n",
       "      <td>1</td>\n",
       "      <td>0</td>\n",
       "      <td>0</td>\n",
       "      <td>0</td>\n",
       "      <td>0</td>\n",
       "      <td>0</td>\n",
       "      <td>0</td>\n",
       "      <td>0</td>\n",
       "      <td>0</td>\n",
       "      <td>0</td>\n",
       "      <td>0</td>\n",
       "      <td>0</td>\n",
       "      <td>0</td>\n",
       "      <td>0</td>\n",
       "      <td>0</td>\n",
       "      <td>0</td>\n",
       "      <td>0</td>\n",
       "      <td>0</td>\n",
       "      <td>0</td>\n",
       "    </tr>\n",
       "    <tr>\n",
       "      <th>183632</th>\n",
       "      <td>0</td>\n",
       "      <td>1</td>\n",
       "      <td>0</td>\n",
       "      <td>0</td>\n",
       "      <td>0</td>\n",
       "      <td>0</td>\n",
       "      <td>0</td>\n",
       "      <td>0</td>\n",
       "      <td>0</td>\n",
       "      <td>0</td>\n",
       "      <td>0</td>\n",
       "      <td>0</td>\n",
       "      <td>0</td>\n",
       "      <td>0</td>\n",
       "      <td>0</td>\n",
       "      <td>0</td>\n",
       "      <td>0</td>\n",
       "      <td>0</td>\n",
       "      <td>0</td>\n",
       "      <td>0</td>\n",
       "    </tr>\n",
       "    <tr>\n",
       "      <th>134136</th>\n",
       "      <td>0</td>\n",
       "      <td>0</td>\n",
       "      <td>0</td>\n",
       "      <td>0</td>\n",
       "      <td>1</td>\n",
       "      <td>0</td>\n",
       "      <td>0</td>\n",
       "      <td>0</td>\n",
       "      <td>0</td>\n",
       "      <td>0</td>\n",
       "      <td>0</td>\n",
       "      <td>0</td>\n",
       "      <td>0</td>\n",
       "      <td>0</td>\n",
       "      <td>0</td>\n",
       "      <td>0</td>\n",
       "      <td>0</td>\n",
       "      <td>0</td>\n",
       "      <td>0</td>\n",
       "      <td>0</td>\n",
       "    </tr>\n",
       "    <tr>\n",
       "      <th>12766</th>\n",
       "      <td>0</td>\n",
       "      <td>1</td>\n",
       "      <td>0</td>\n",
       "      <td>0</td>\n",
       "      <td>0</td>\n",
       "      <td>0</td>\n",
       "      <td>0</td>\n",
       "      <td>0</td>\n",
       "      <td>0</td>\n",
       "      <td>0</td>\n",
       "      <td>0</td>\n",
       "      <td>0</td>\n",
       "      <td>0</td>\n",
       "      <td>0</td>\n",
       "      <td>0</td>\n",
       "      <td>0</td>\n",
       "      <td>0</td>\n",
       "      <td>0</td>\n",
       "      <td>0</td>\n",
       "      <td>0</td>\n",
       "    </tr>\n",
       "    <tr>\n",
       "      <th>174805</th>\n",
       "      <td>0</td>\n",
       "      <td>1</td>\n",
       "      <td>0</td>\n",
       "      <td>0</td>\n",
       "      <td>0</td>\n",
       "      <td>0</td>\n",
       "      <td>0</td>\n",
       "      <td>0</td>\n",
       "      <td>0</td>\n",
       "      <td>0</td>\n",
       "      <td>0</td>\n",
       "      <td>0</td>\n",
       "      <td>0</td>\n",
       "      <td>0</td>\n",
       "      <td>0</td>\n",
       "      <td>0</td>\n",
       "      <td>0</td>\n",
       "      <td>0</td>\n",
       "      <td>0</td>\n",
       "      <td>0</td>\n",
       "    </tr>\n",
       "    <tr>\n",
       "      <th>...</th>\n",
       "      <td>...</td>\n",
       "      <td>...</td>\n",
       "      <td>...</td>\n",
       "      <td>...</td>\n",
       "      <td>...</td>\n",
       "      <td>...</td>\n",
       "      <td>...</td>\n",
       "      <td>...</td>\n",
       "      <td>...</td>\n",
       "      <td>...</td>\n",
       "      <td>...</td>\n",
       "      <td>...</td>\n",
       "      <td>...</td>\n",
       "      <td>...</td>\n",
       "      <td>...</td>\n",
       "      <td>...</td>\n",
       "      <td>...</td>\n",
       "      <td>...</td>\n",
       "      <td>...</td>\n",
       "      <td>...</td>\n",
       "    </tr>\n",
       "    <tr>\n",
       "      <th>132533</th>\n",
       "      <td>0</td>\n",
       "      <td>1</td>\n",
       "      <td>0</td>\n",
       "      <td>0</td>\n",
       "      <td>0</td>\n",
       "      <td>0</td>\n",
       "      <td>0</td>\n",
       "      <td>0</td>\n",
       "      <td>0</td>\n",
       "      <td>0</td>\n",
       "      <td>0</td>\n",
       "      <td>0</td>\n",
       "      <td>0</td>\n",
       "      <td>0</td>\n",
       "      <td>0</td>\n",
       "      <td>0</td>\n",
       "      <td>0</td>\n",
       "      <td>0</td>\n",
       "      <td>0</td>\n",
       "      <td>0</td>\n",
       "    </tr>\n",
       "    <tr>\n",
       "      <th>1407</th>\n",
       "      <td>0</td>\n",
       "      <td>1</td>\n",
       "      <td>0</td>\n",
       "      <td>0</td>\n",
       "      <td>0</td>\n",
       "      <td>0</td>\n",
       "      <td>0</td>\n",
       "      <td>0</td>\n",
       "      <td>0</td>\n",
       "      <td>0</td>\n",
       "      <td>0</td>\n",
       "      <td>0</td>\n",
       "      <td>0</td>\n",
       "      <td>0</td>\n",
       "      <td>0</td>\n",
       "      <td>0</td>\n",
       "      <td>0</td>\n",
       "      <td>0</td>\n",
       "      <td>0</td>\n",
       "      <td>0</td>\n",
       "    </tr>\n",
       "    <tr>\n",
       "      <th>40785</th>\n",
       "      <td>0</td>\n",
       "      <td>0</td>\n",
       "      <td>0</td>\n",
       "      <td>0</td>\n",
       "      <td>0</td>\n",
       "      <td>0</td>\n",
       "      <td>1</td>\n",
       "      <td>0</td>\n",
       "      <td>0</td>\n",
       "      <td>0</td>\n",
       "      <td>0</td>\n",
       "      <td>0</td>\n",
       "      <td>0</td>\n",
       "      <td>0</td>\n",
       "      <td>0</td>\n",
       "      <td>0</td>\n",
       "      <td>0</td>\n",
       "      <td>0</td>\n",
       "      <td>0</td>\n",
       "      <td>0</td>\n",
       "    </tr>\n",
       "    <tr>\n",
       "      <th>80125</th>\n",
       "      <td>0</td>\n",
       "      <td>1</td>\n",
       "      <td>0</td>\n",
       "      <td>0</td>\n",
       "      <td>0</td>\n",
       "      <td>0</td>\n",
       "      <td>0</td>\n",
       "      <td>0</td>\n",
       "      <td>0</td>\n",
       "      <td>0</td>\n",
       "      <td>0</td>\n",
       "      <td>0</td>\n",
       "      <td>0</td>\n",
       "      <td>0</td>\n",
       "      <td>0</td>\n",
       "      <td>0</td>\n",
       "      <td>0</td>\n",
       "      <td>0</td>\n",
       "      <td>0</td>\n",
       "      <td>0</td>\n",
       "    </tr>\n",
       "    <tr>\n",
       "      <th>3211</th>\n",
       "      <td>0</td>\n",
       "      <td>1</td>\n",
       "      <td>0</td>\n",
       "      <td>0</td>\n",
       "      <td>0</td>\n",
       "      <td>0</td>\n",
       "      <td>0</td>\n",
       "      <td>0</td>\n",
       "      <td>0</td>\n",
       "      <td>0</td>\n",
       "      <td>0</td>\n",
       "      <td>0</td>\n",
       "      <td>0</td>\n",
       "      <td>0</td>\n",
       "      <td>0</td>\n",
       "      <td>0</td>\n",
       "      <td>0</td>\n",
       "      <td>0</td>\n",
       "      <td>0</td>\n",
       "      <td>0</td>\n",
       "    </tr>\n",
       "  </tbody>\n",
       "</table>\n",
       "<p>196806 rows × 20 columns</p>\n",
       "</div>"
      ],
      "text/plain": [
       "        FLAG_DOCUMENT_2  FLAG_DOCUMENT_3  FLAG_DOCUMENT_4  FLAG_DOCUMENT_5  \\\n",
       "28631                 0                1                0                0   \n",
       "183632                0                1                0                0   \n",
       "134136                0                0                0                0   \n",
       "12766                 0                1                0                0   \n",
       "174805                0                1                0                0   \n",
       "...                 ...              ...              ...              ...   \n",
       "132533                0                1                0                0   \n",
       "1407                  0                1                0                0   \n",
       "40785                 0                0                0                0   \n",
       "80125                 0                1                0                0   \n",
       "3211                  0                1                0                0   \n",
       "\n",
       "        FLAG_DOCUMENT_6  FLAG_DOCUMENT_7  FLAG_DOCUMENT_8  FLAG_DOCUMENT_9  \\\n",
       "28631                 0                0                0                0   \n",
       "183632                0                0                0                0   \n",
       "134136                1                0                0                0   \n",
       "12766                 0                0                0                0   \n",
       "174805                0                0                0                0   \n",
       "...                 ...              ...              ...              ...   \n",
       "132533                0                0                0                0   \n",
       "1407                  0                0                0                0   \n",
       "40785                 0                0                1                0   \n",
       "80125                 0                0                0                0   \n",
       "3211                  0                0                0                0   \n",
       "\n",
       "        FLAG_DOCUMENT_10  FLAG_DOCUMENT_11  FLAG_DOCUMENT_12  \\\n",
       "28631                  0                 0                 0   \n",
       "183632                 0                 0                 0   \n",
       "134136                 0                 0                 0   \n",
       "12766                  0                 0                 0   \n",
       "174805                 0                 0                 0   \n",
       "...                  ...               ...               ...   \n",
       "132533                 0                 0                 0   \n",
       "1407                   0                 0                 0   \n",
       "40785                  0                 0                 0   \n",
       "80125                  0                 0                 0   \n",
       "3211                   0                 0                 0   \n",
       "\n",
       "        FLAG_DOCUMENT_13  FLAG_DOCUMENT_14  FLAG_DOCUMENT_15  \\\n",
       "28631                  0                 0                 0   \n",
       "183632                 0                 0                 0   \n",
       "134136                 0                 0                 0   \n",
       "12766                  0                 0                 0   \n",
       "174805                 0                 0                 0   \n",
       "...                  ...               ...               ...   \n",
       "132533                 0                 0                 0   \n",
       "1407                   0                 0                 0   \n",
       "40785                  0                 0                 0   \n",
       "80125                  0                 0                 0   \n",
       "3211                   0                 0                 0   \n",
       "\n",
       "        FLAG_DOCUMENT_16  FLAG_DOCUMENT_17  FLAG_DOCUMENT_18  \\\n",
       "28631                  0                 0                 0   \n",
       "183632                 0                 0                 0   \n",
       "134136                 0                 0                 0   \n",
       "12766                  0                 0                 0   \n",
       "174805                 0                 0                 0   \n",
       "...                  ...               ...               ...   \n",
       "132533                 0                 0                 0   \n",
       "1407                   0                 0                 0   \n",
       "40785                  0                 0                 0   \n",
       "80125                  0                 0                 0   \n",
       "3211                   0                 0                 0   \n",
       "\n",
       "        FLAG_DOCUMENT_19  FLAG_DOCUMENT_20  FLAG_DOCUMENT_21  \n",
       "28631                  0                 0                 0  \n",
       "183632                 0                 0                 0  \n",
       "134136                 0                 0                 0  \n",
       "12766                  0                 0                 0  \n",
       "174805                 0                 0                 0  \n",
       "...                  ...               ...               ...  \n",
       "132533                 0                 0                 0  \n",
       "1407                   0                 0                 0  \n",
       "40785                  0                 0                 0  \n",
       "80125                  0                 0                 0  \n",
       "3211                   0                 0                 0  \n",
       "\n",
       "[196806 rows x 20 columns]"
      ]
     },
     "execution_count": 32,
     "metadata": {},
     "output_type": "execute_result"
    }
   ],
   "source": [
    "features_docs = [x for x in X_train.columns if \"FLAG_DOCUMENT_\" in x]\n",
    "\n",
    "X_train[features_docs]"
   ]
  },
  {
   "cell_type": "code",
   "execution_count": 33,
   "metadata": {
    "ExecuteTime": {
     "end_time": "2022-07-23T01:35:10.272063Z",
     "start_time": "2022-07-23T01:35:09.993392Z"
    }
   },
   "outputs": [
    {
     "data": {
      "text/plain": [
       "28631     1\n",
       "183632    1\n",
       "134136    1\n",
       "12766     1\n",
       "174805    1\n",
       "         ..\n",
       "132533    1\n",
       "1407      1\n",
       "40785     1\n",
       "80125     1\n",
       "3211      1\n",
       "Length: 196806, dtype: int64"
      ]
     },
     "execution_count": 33,
     "metadata": {},
     "output_type": "execute_result"
    }
   ],
   "source": [
    "features_docs = [x for x in X_train.columns if \"FLAG_DOCUMENT_\" in x]\n",
    "\n",
    "X_train[features_docs].sum(axis=1)"
   ]
  },
  {
   "cell_type": "code",
   "execution_count": 34,
   "metadata": {
    "ExecuteTime": {
     "end_time": "2022-07-23T01:35:10.534061Z",
     "start_time": "2022-07-23T01:35:10.277062Z"
    }
   },
   "outputs": [
    {
     "data": {
      "text/plain": [
       "1    172936\n",
       "0     18796\n",
       "2      4972\n",
       "3       101\n",
       "4         1\n",
       "dtype: int64"
      ]
     },
     "execution_count": 34,
     "metadata": {},
     "output_type": "execute_result"
    }
   ],
   "source": [
    "X_train[features_docs].sum(axis=1).value_counts()"
   ]
  },
  {
   "cell_type": "markdown",
   "metadata": {},
   "source": [
    "**Tipo de dia da data de aplicação**\n"
   ]
  },
  {
   "cell_type": "code",
   "execution_count": 35,
   "metadata": {
    "ExecuteTime": {
     "end_time": "2022-07-23T01:35:10.767929Z",
     "start_time": "2022-07-23T01:35:10.540059Z"
    }
   },
   "outputs": [
    {
     "data": {
      "text/plain": [
       "TUESDAY      34406\n",
       "WEDNESDAY    33037\n",
       "MONDAY       32672\n",
       "THURSDAY     32400\n",
       "FRIDAY       32132\n",
       "SATURDAY     21776\n",
       "SUNDAY       10383\n",
       "Name: WEEKDAY_APPR_PROCESS_START, dtype: int64"
      ]
     },
     "execution_count": 35,
     "metadata": {},
     "output_type": "execute_result"
    }
   ],
   "source": [
    "X_train[\"WEEKDAY_APPR_PROCESS_START\"].value_counts()"
   ]
  },
  {
   "cell_type": "code",
   "execution_count": 36,
   "metadata": {
    "ExecuteTime": {
     "end_time": "2022-07-23T01:35:11.067772Z",
     "start_time": "2022-07-23T01:35:10.778927Z"
    }
   },
   "outputs": [
    {
     "data": {
      "text/plain": [
       "28631     Working day\n",
       "183632        Weekend\n",
       "134136        Weekend\n",
       "12766     Working day\n",
       "174805        Weekend\n",
       "             ...     \n",
       "132533        Weekend\n",
       "1407          Weekend\n",
       "40785     Working day\n",
       "80125     Working day\n",
       "3211      Working day\n",
       "Name: WEEKDAY_APPR_PROCESS_START, Length: 196806, dtype: object"
      ]
     },
     "execution_count": 36,
     "metadata": {},
     "output_type": "execute_result"
    }
   ],
   "source": [
    "X_train[\"WEEKDAY_APPR_PROCESS_START\"].apply(lambda x: \"Weekend\" if x in [\"SATURDAY\", \"SUNDAY\"] else \"Working day\")"
   ]
  },
  {
   "cell_type": "markdown",
   "metadata": {},
   "source": [
    "**Algumas outras razões temporais**"
   ]
  },
  {
   "cell_type": "code",
   "execution_count": 37,
   "metadata": {
    "ExecuteTime": {
     "end_time": "2022-07-23T01:35:11.303622Z",
     "start_time": "2022-07-23T01:35:11.073753Z"
    }
   },
   "outputs": [
    {
     "data": {
      "text/plain": [
       "28631     0.000291\n",
       "183632         NaN\n",
       "134136    0.000821\n",
       "12766          NaN\n",
       "174805    0.001661\n",
       "            ...   \n",
       "132533         NaN\n",
       "1407           NaN\n",
       "40785     0.000250\n",
       "80125          NaN\n",
       "3211           NaN\n",
       "Length: 196806, dtype: float64"
      ]
     },
     "execution_count": 37,
     "metadata": {},
     "output_type": "execute_result"
    }
   ],
   "source": [
    "(X_train[\"OWN_CAR_AGE\"]/X_train[\"DAYS_BIRTH\"]).abs()"
   ]
  },
  {
   "cell_type": "code",
   "execution_count": 38,
   "metadata": {
    "ExecuteTime": {
     "end_time": "2022-07-23T01:35:11.537366Z",
     "start_time": "2022-07-23T01:35:11.307620Z"
    }
   },
   "outputs": [
    {
     "data": {
      "text/plain": [
       "28631     0.042662\n",
       "183632    0.265328\n",
       "134136    0.098709\n",
       "12766     0.238794\n",
       "174805    0.359170\n",
       "            ...   \n",
       "132533    0.198110\n",
       "1407      0.175325\n",
       "40785     0.382174\n",
       "80125     0.075942\n",
       "3211      0.325077\n",
       "Length: 196806, dtype: float64"
      ]
     },
     "execution_count": 38,
     "metadata": {},
     "output_type": "execute_result"
    }
   ],
   "source": [
    "X_train[\"DAYS_ID_PUBLISH\"] / X_train[\"DAYS_BIRTH\"]"
   ]
  },
  {
   "cell_type": "code",
   "execution_count": 39,
   "metadata": {
    "ExecuteTime": {
     "end_time": "2022-07-23T01:35:11.756844Z",
     "start_time": "2022-07-23T01:35:11.542361Z"
    }
   },
   "outputs": [
    {
     "data": {
      "text/plain": [
       "28631     0.452775\n",
       "183632    0.078867\n",
       "134136    0.032721\n",
       "12766     0.060409\n",
       "174805    0.197993\n",
       "            ...   \n",
       "132533    0.469093\n",
       "1407      0.573774\n",
       "40785     0.158165\n",
       "80125     0.341684\n",
       "3211      0.170825\n",
       "Length: 196806, dtype: float64"
      ]
     },
     "execution_count": 39,
     "metadata": {},
     "output_type": "execute_result"
    }
   ],
   "source": [
    "X_train[\"DAYS_REGISTRATION\"] / X_train[\"DAYS_BIRTH\"]"
   ]
  },
  {
   "cell_type": "markdown",
   "metadata": {},
   "source": [
    "___________________"
   ]
  },
  {
   "cell_type": "markdown",
   "metadata": {},
   "source": [
    "## Feature engineering na Pipeline\n",
    "\n",
    "Depois de termos construido as features acima de maneira exploratória, agora podemos incorporar o feature engineering à pipeline!"
   ]
  },
  {
   "cell_type": "code",
   "execution_count": 9,
   "metadata": {
    "ExecuteTime": {
     "end_time": "2022-07-29T22:11:47.023035Z",
     "start_time": "2022-07-29T22:11:46.810993Z"
    }
   },
   "outputs": [],
   "source": [
    "class FeaturesCreator(BaseEstimator, TransformerMixin):\n",
    "    \n",
    "    def __init__(self):\n",
    "        \n",
    "        pass\n",
    "    \n",
    "    def fit(self, X, y=None):\n",
    "        \n",
    "        return self\n",
    "    \n",
    "    def transform(self, X, y=None):\n",
    "        \n",
    "        X[\"CREDITO_SOBRE_RECEITA\"] = X[\"AMT_CREDIT\"]/X[\"AMT_INCOME_TOTAL\"]\n",
    "        X[\"ANUIDADE_SOBRE_RECEITA\"] = X[\"AMT_ANNUITY\"]/X[\"AMT_INCOME_TOTAL\"]\n",
    "        X[\"BENS_SOBRE_RECEITA\"] = X[\"AMT_GOODS_PRICE\"] / X[\"AMT_INCOME_TOTAL\"]\n",
    "        X[\"RECEITA_PER_CAPTA\"] = X[\"AMT_INCOME_TOTAL\"] / X[\"CNT_FAM_MEMBERS\"]\n",
    "\n",
    "        # =======================================\n",
    "\n",
    "        X[\"PORCAO_DE_VIDA_EMPREGADO\"] = np.clip(X[\"DAYS_EMPLOYED\"] / X[\"DAYS_BIRTH\"], 0, 1)\n",
    "\n",
    "        # =======================================\n",
    "\n",
    "        X[\"N_ADULTOS\"] = X[\"CNT_FAM_MEMBERS\"] - X[\"CNT_CHILDREN\"]\n",
    "        X['TAXA_DE_CRIANCAS'] = X['CNT_CHILDREN'] / X['CNT_FAM_MEMBERS']\n",
    "\n",
    "        # =======================================\n",
    "\n",
    "        X['QUANTIDADE_DE_PAGAMENTOS'] = X['AMT_CREDIT'] / X['AMT_ANNUITY']\n",
    "\n",
    "        # =======================================\n",
    "\n",
    "        X[\"EXT_SOURCE_MIN\"]  = X[[\"EXT_SOURCE_1\", \"EXT_SOURCE_2\", \"EXT_SOURCE_3\"]].min(axis = 1)\n",
    "        X[\"EXT_SOURCE_MAX\"]  = X[[\"EXT_SOURCE_1\", \"EXT_SOURCE_2\", \"EXT_SOURCE_3\"]].max(axis = 1)\n",
    "        X[\"EXT_SOURCE_MEAN\"] = X[[\"EXT_SOURCE_1\", \"EXT_SOURCE_2\", \"EXT_SOURCE_3\"]].mean(axis = 1)\n",
    "        X[\"EXT_SOURCE_STD\"]   = X[[\"EXT_SOURCE_1\", \"EXT_SOURCE_2\", \"EXT_SOURCE_3\"]].std(axis = 1)\n",
    "        X[\"NUM_EXT_SOURCES\"] = (~X[[\"EXT_SOURCE_1\", \"EXT_SOURCE_2\", \"EXT_SOURCE_3\"]].isnull()).astype(int).sum(axis=1)\n",
    "\n",
    "        # =======================================\n",
    "\n",
    "        features_docs = [x for x in X.columns if \"FLAG_DOCUMENT_\" in x]\n",
    "        X[\"NUM_DOCUMENTOS\"] = X[features_docs].sum(axis = 1)\n",
    "\n",
    "        # =======================================\n",
    "\n",
    "        X[\"TIPO_DE_DIA_PEDIDO\"] = X[\"WEEKDAY_APPR_PROCESS_START\"].apply(lambda x: \"Weekend\" if x in [\"SATURDAY\", \"SUNDAY\"]\n",
    "                                                                        else \"Working day\")\n",
    "\n",
    "        # =======================================\n",
    "\n",
    "        X[\"TEMPO_MOTORIZADO\"] = X[\"OWN_CAR_AGE\"] / X[\"DAYS_BIRTH\"]\n",
    "        X[\"TAXA_DIAS_PUBLICACAO_ID\"] = X[\"DAYS_ID_PUBLISH\"] / X[\"DAYS_BIRTH\"]\n",
    "        X[\"TAXA_DIAS_REGISTRO\"] = X[\"DAYS_REGISTRATION\"] / X[\"DAYS_BIRTH\"]\n",
    "\n",
    "        return X"
   ]
  },
  {
   "cell_type": "code",
   "execution_count": 10,
   "metadata": {
    "ExecuteTime": {
     "end_time": "2022-07-29T22:11:47.785841Z",
     "start_time": "2022-07-29T22:11:47.026040Z"
    }
   },
   "outputs": [],
   "source": [
    "class ColumnDropper(BaseEstimator, TransformerMixin):\n",
    "    \n",
    "    def __init__(self, columns_to_drop):\n",
    "        \n",
    "        self.columns_to_drop = columns_to_drop\n",
    "        \n",
    "    def fit(self, X, y=None):\n",
    "        \n",
    "        return self \n",
    "\n",
    "    def transform(self, X, y=None):\n",
    "        \n",
    "        return X.drop(columns = self.columns_to_drop)"
   ]
  },
  {
   "cell_type": "markdown",
   "metadata": {},
   "source": [
    "Vamos criar uma função para incorporar a leitura dos dados + pipeline de pré-processamento que inclui o feature engineering!"
   ]
  },
  {
   "cell_type": "code",
   "execution_count": 11,
   "metadata": {
    "ExecuteTime": {
     "end_time": "2022-07-29T22:11:48.318082Z",
     "start_time": "2022-07-29T22:11:47.793816Z"
    }
   },
   "outputs": [],
   "source": [
    "def pipe_pre_process_projeto_with_feat_eng(cols_to_drop_not_features=[],\n",
    "                                           inputer_num_strategy=\"mean\",\n",
    "                                           encoding=\"onehot\",\n",
    "                                           scaler=False):\n",
    "    '''\n",
    "    pipeline titanic com feature engineering\n",
    "    \n",
    "    - inputer_num_strategy (str): \"mean\", \"median\";\n",
    "    - encoding (str): \"onehot\" para OneHotEncoder; \"ordinal\" OrdinalEncoder;\n",
    "    - scaler: \"ss\", \"mms\" ou False caso não queira scaling\n",
    "    '''\n",
    "    \n",
    "    df_entrega = pd.read_csv(\"application_test_student.csv\")\n",
    "    X_entrega = df_entrega.copy()\n",
    "\n",
    "    # ==========================================================\n",
    "    \n",
    "    \n",
    "    df = pd.read_csv(\"application_train.csv\")\n",
    "\n",
    "    X = df.drop(columns=[\"TARGET\"])\n",
    "    y = df[\"TARGET\"]\n",
    "\n",
    "    X_train, X_test, y_train, y_test = train_test_split(X, y, test_size=0.2, random_state=42, stratify=y)\n",
    "\n",
    "    # ==========================================================\n",
    "    # adicionando o passo de feature engineering\n",
    "    \n",
    "    pipe_feat_eng = Pipeline([(\"create_features\", FeaturesCreator()),\n",
    "                              (\"column_dropper\", ColumnDropper(cols_to_drop_not_features))]).fit(X_train)\n",
    "\n",
    "    X_train = pipe_feat_eng.transform(X_train)\n",
    "    X_test = pipe_feat_eng.transform(X_test)\n",
    "    X_entrega = pipe_feat_eng.transform(X_entrega)\n",
    "    \n",
    "    # ==========================================================\n",
    "    \n",
    "    passos_features_num = [(\"input_num\", SimpleImputer(strategy=inputer_num_strategy))]\n",
    "    \n",
    "    # apenas se scaler não for False\n",
    "    if scaler:\n",
    "        \n",
    "        if scaler == \"ss\":\n",
    "            passos_features_num.append((\"ss\", StandardScaler()))\n",
    "\n",
    "        elif scaler == \"mms\":\n",
    "            passos_features_num.append((\"mms\", MinMaxScaler()))\n",
    "            \n",
    "        else:\n",
    "            raise ValueError(f\"Estratégia de scaling {scaler} não disponível!\")\n",
    "        \n",
    "    pipe_features_num = Pipeline(passos_features_num)\n",
    "\n",
    "    features_num = X_train.select_dtypes(include=np.number).columns.tolist()\n",
    "    \n",
    "    # ==========================================================\n",
    "\n",
    "    if encoding == \"onehot\":\n",
    "        pipe_features_cat = Pipeline([(\"input_cat\", SimpleImputer(strategy=\"constant\", fill_value=\"unknown\")),\n",
    "                                      (\"onehot\", OneHotEncoder(handle_unknown=\"ignore\"))])\n",
    "        \n",
    "    elif encoding == \"ordinal\":\n",
    "        pipe_features_cat = Pipeline([(\"input_cat\", SimpleImputer(strategy=\"constant\", fill_value=\"unknown\")),\n",
    "                                      (\"ordinal\", OrdinalEncoder(handle_unknown=\"use_encoded_value\",\n",
    "                                                                 unknown_value=-1))])    \n",
    "    else:\n",
    "        raise ValueError(\"Únicos encodings disponíveis são 'ordinal' e 'onehot'\")\n",
    "        \n",
    "        \n",
    "    features_cat = X_train.select_dtypes(exclude=np.number).columns.tolist()\n",
    "\n",
    "    # ==========================================================\n",
    "\n",
    "    pre_processador = ColumnTransformer([(\"transf_num\", pipe_features_num, features_num),\n",
    "                                         (\"transf_cat\", pipe_features_cat, features_cat)])\n",
    "\n",
    "    return X_train, X_test, y_train, y_test, X_entrega, pre_processador"
   ]
  },
  {
   "cell_type": "code",
   "execution_count": 12,
   "metadata": {
    "ExecuteTime": {
     "end_time": "2022-07-29T22:12:22.306399Z",
     "start_time": "2022-07-29T22:11:48.334073Z"
    }
   },
   "outputs": [],
   "source": [
    "cols_to_drop = [\"SK_ID_CURR\", \"CODE_GENDER\"]\n",
    "\n",
    "(X_train, X_test, \n",
    " y_train, y_test, \n",
    " X_entrega, \n",
    " pre_processador) = pipe_pre_process_projeto_with_feat_eng(cols_to_drop_not_features=cols_to_drop, \n",
    "                                                           inputer_num_strategy=\"mean\",\n",
    "                                                           encoding=\"onehot\",\n",
    "                                                           scaler=\"ss\")"
   ]
  },
  {
   "cell_type": "code",
   "execution_count": 13,
   "metadata": {
    "ExecuteTime": {
     "end_time": "2022-07-29T22:12:22.899037Z",
     "start_time": "2022-07-29T22:12:22.311393Z"
    }
   },
   "outputs": [
    {
     "data": {
      "text/html": [
       "<style>#sk-container-id-1 {color: black;background-color: white;}#sk-container-id-1 pre{padding: 0;}#sk-container-id-1 div.sk-toggleable {background-color: white;}#sk-container-id-1 label.sk-toggleable__label {cursor: pointer;display: block;width: 100%;margin-bottom: 0;padding: 0.3em;box-sizing: border-box;text-align: center;}#sk-container-id-1 label.sk-toggleable__label-arrow:before {content: \"▸\";float: left;margin-right: 0.25em;color: #696969;}#sk-container-id-1 label.sk-toggleable__label-arrow:hover:before {color: black;}#sk-container-id-1 div.sk-estimator:hover label.sk-toggleable__label-arrow:before {color: black;}#sk-container-id-1 div.sk-toggleable__content {max-height: 0;max-width: 0;overflow: hidden;text-align: left;background-color: #f0f8ff;}#sk-container-id-1 div.sk-toggleable__content pre {margin: 0.2em;color: black;border-radius: 0.25em;background-color: #f0f8ff;}#sk-container-id-1 input.sk-toggleable__control:checked~div.sk-toggleable__content {max-height: 200px;max-width: 100%;overflow: auto;}#sk-container-id-1 input.sk-toggleable__control:checked~label.sk-toggleable__label-arrow:before {content: \"▾\";}#sk-container-id-1 div.sk-estimator input.sk-toggleable__control:checked~label.sk-toggleable__label {background-color: #d4ebff;}#sk-container-id-1 div.sk-label input.sk-toggleable__control:checked~label.sk-toggleable__label {background-color: #d4ebff;}#sk-container-id-1 input.sk-hidden--visually {border: 0;clip: rect(1px 1px 1px 1px);clip: rect(1px, 1px, 1px, 1px);height: 1px;margin: -1px;overflow: hidden;padding: 0;position: absolute;width: 1px;}#sk-container-id-1 div.sk-estimator {font-family: monospace;background-color: #f0f8ff;border: 1px dotted black;border-radius: 0.25em;box-sizing: border-box;margin-bottom: 0.5em;}#sk-container-id-1 div.sk-estimator:hover {background-color: #d4ebff;}#sk-container-id-1 div.sk-parallel-item::after {content: \"\";width: 100%;border-bottom: 1px solid gray;flex-grow: 1;}#sk-container-id-1 div.sk-label:hover label.sk-toggleable__label {background-color: #d4ebff;}#sk-container-id-1 div.sk-serial::before {content: \"\";position: absolute;border-left: 1px solid gray;box-sizing: border-box;top: 0;bottom: 0;left: 50%;z-index: 0;}#sk-container-id-1 div.sk-serial {display: flex;flex-direction: column;align-items: center;background-color: white;padding-right: 0.2em;padding-left: 0.2em;position: relative;}#sk-container-id-1 div.sk-item {position: relative;z-index: 1;}#sk-container-id-1 div.sk-parallel {display: flex;align-items: stretch;justify-content: center;background-color: white;position: relative;}#sk-container-id-1 div.sk-item::before, #sk-container-id-1 div.sk-parallel-item::before {content: \"\";position: absolute;border-left: 1px solid gray;box-sizing: border-box;top: 0;bottom: 0;left: 50%;z-index: -1;}#sk-container-id-1 div.sk-parallel-item {display: flex;flex-direction: column;z-index: 1;position: relative;background-color: white;}#sk-container-id-1 div.sk-parallel-item:first-child::after {align-self: flex-end;width: 50%;}#sk-container-id-1 div.sk-parallel-item:last-child::after {align-self: flex-start;width: 50%;}#sk-container-id-1 div.sk-parallel-item:only-child::after {width: 0;}#sk-container-id-1 div.sk-dashed-wrapped {border: 1px dashed gray;margin: 0 0.4em 0.5em 0.4em;box-sizing: border-box;padding-bottom: 0.4em;background-color: white;}#sk-container-id-1 div.sk-label label {font-family: monospace;font-weight: bold;display: inline-block;line-height: 1.2em;}#sk-container-id-1 div.sk-label-container {text-align: center;}#sk-container-id-1 div.sk-container {/* jupyter's `normalize.less` sets `[hidden] { display: none; }` but bootstrap.min.css set `[hidden] { display: none !important; }` so we also need the `!important` here to be able to override the default hidden behavior on the sphinx rendered scikit-learn.org. See: https://github.com/scikit-learn/scikit-learn/issues/21755 */display: inline-block !important;position: relative;}#sk-container-id-1 div.sk-text-repr-fallback {display: none;}</style><div id=\"sk-container-id-1\" class=\"sk-top-container\"><div class=\"sk-text-repr-fallback\"><pre>ColumnTransformer(transformers=[(&#x27;transf_num&#x27;,\n",
       "                                 Pipeline(steps=[(&#x27;input_num&#x27;, SimpleImputer()),\n",
       "                                                 (&#x27;ss&#x27;, StandardScaler())]),\n",
       "                                 [&#x27;CNT_CHILDREN&#x27;, &#x27;AMT_INCOME_TOTAL&#x27;,\n",
       "                                  &#x27;AMT_CREDIT&#x27;, &#x27;AMT_ANNUITY&#x27;,\n",
       "                                  &#x27;AMT_GOODS_PRICE&#x27;,\n",
       "                                  &#x27;REGION_POPULATION_RELATIVE&#x27;, &#x27;DAYS_BIRTH&#x27;,\n",
       "                                  &#x27;DAYS_EMPLOYED&#x27;, &#x27;DAYS_REGISTRATION&#x27;,\n",
       "                                  &#x27;DAYS_ID_PUBLISH&#x27;, &#x27;OWN_CAR_AGE&#x27;,\n",
       "                                  &#x27;FLAG_MOBIL&#x27;, &#x27;FLAG_EMP_PHONE&#x27;,\n",
       "                                  &#x27;FLAG_WORK_P...\n",
       "                                                  OneHotEncoder(handle_unknown=&#x27;ignore&#x27;))]),\n",
       "                                 [&#x27;NAME_CONTRACT_TYPE&#x27;, &#x27;FLAG_OWN_CAR&#x27;,\n",
       "                                  &#x27;FLAG_OWN_REALTY&#x27;, &#x27;NAME_TYPE_SUITE&#x27;,\n",
       "                                  &#x27;NAME_INCOME_TYPE&#x27;, &#x27;NAME_EDUCATION_TYPE&#x27;,\n",
       "                                  &#x27;NAME_FAMILY_STATUS&#x27;, &#x27;NAME_HOUSING_TYPE&#x27;,\n",
       "                                  &#x27;OCCUPATION_TYPE&#x27;,\n",
       "                                  &#x27;WEEKDAY_APPR_PROCESS_START&#x27;,\n",
       "                                  &#x27;ORGANIZATION_TYPE&#x27;, &#x27;FONDKAPREMONT_MODE&#x27;,\n",
       "                                  &#x27;HOUSETYPE_MODE&#x27;, &#x27;WALLSMATERIAL_MODE&#x27;,\n",
       "                                  &#x27;EMERGENCYSTATE_MODE&#x27;,\n",
       "                                  &#x27;TIPO_DE_DIA_PEDIDO&#x27;])])</pre><b>In a Jupyter environment, please rerun this cell to show the HTML representation or trust the notebook. <br />On GitHub, the HTML representation is unable to render, please try loading this page with nbviewer.org.</b></div><div class=\"sk-container\" hidden><div class=\"sk-item sk-dashed-wrapped\"><div class=\"sk-label-container\"><div class=\"sk-label sk-toggleable\"><input class=\"sk-toggleable__control sk-hidden--visually\" id=\"sk-estimator-id-1\" type=\"checkbox\" ><label for=\"sk-estimator-id-1\" class=\"sk-toggleable__label sk-toggleable__label-arrow\">ColumnTransformer</label><div class=\"sk-toggleable__content\"><pre>ColumnTransformer(transformers=[(&#x27;transf_num&#x27;,\n",
       "                                 Pipeline(steps=[(&#x27;input_num&#x27;, SimpleImputer()),\n",
       "                                                 (&#x27;ss&#x27;, StandardScaler())]),\n",
       "                                 [&#x27;CNT_CHILDREN&#x27;, &#x27;AMT_INCOME_TOTAL&#x27;,\n",
       "                                  &#x27;AMT_CREDIT&#x27;, &#x27;AMT_ANNUITY&#x27;,\n",
       "                                  &#x27;AMT_GOODS_PRICE&#x27;,\n",
       "                                  &#x27;REGION_POPULATION_RELATIVE&#x27;, &#x27;DAYS_BIRTH&#x27;,\n",
       "                                  &#x27;DAYS_EMPLOYED&#x27;, &#x27;DAYS_REGISTRATION&#x27;,\n",
       "                                  &#x27;DAYS_ID_PUBLISH&#x27;, &#x27;OWN_CAR_AGE&#x27;,\n",
       "                                  &#x27;FLAG_MOBIL&#x27;, &#x27;FLAG_EMP_PHONE&#x27;,\n",
       "                                  &#x27;FLAG_WORK_P...\n",
       "                                                  OneHotEncoder(handle_unknown=&#x27;ignore&#x27;))]),\n",
       "                                 [&#x27;NAME_CONTRACT_TYPE&#x27;, &#x27;FLAG_OWN_CAR&#x27;,\n",
       "                                  &#x27;FLAG_OWN_REALTY&#x27;, &#x27;NAME_TYPE_SUITE&#x27;,\n",
       "                                  &#x27;NAME_INCOME_TYPE&#x27;, &#x27;NAME_EDUCATION_TYPE&#x27;,\n",
       "                                  &#x27;NAME_FAMILY_STATUS&#x27;, &#x27;NAME_HOUSING_TYPE&#x27;,\n",
       "                                  &#x27;OCCUPATION_TYPE&#x27;,\n",
       "                                  &#x27;WEEKDAY_APPR_PROCESS_START&#x27;,\n",
       "                                  &#x27;ORGANIZATION_TYPE&#x27;, &#x27;FONDKAPREMONT_MODE&#x27;,\n",
       "                                  &#x27;HOUSETYPE_MODE&#x27;, &#x27;WALLSMATERIAL_MODE&#x27;,\n",
       "                                  &#x27;EMERGENCYSTATE_MODE&#x27;,\n",
       "                                  &#x27;TIPO_DE_DIA_PEDIDO&#x27;])])</pre></div></div></div><div class=\"sk-parallel\"><div class=\"sk-parallel-item\"><div class=\"sk-item\"><div class=\"sk-label-container\"><div class=\"sk-label sk-toggleable\"><input class=\"sk-toggleable__control sk-hidden--visually\" id=\"sk-estimator-id-2\" type=\"checkbox\" ><label for=\"sk-estimator-id-2\" class=\"sk-toggleable__label sk-toggleable__label-arrow\">transf_num</label><div class=\"sk-toggleable__content\"><pre>[&#x27;CNT_CHILDREN&#x27;, &#x27;AMT_INCOME_TOTAL&#x27;, &#x27;AMT_CREDIT&#x27;, &#x27;AMT_ANNUITY&#x27;, &#x27;AMT_GOODS_PRICE&#x27;, &#x27;REGION_POPULATION_RELATIVE&#x27;, &#x27;DAYS_BIRTH&#x27;, &#x27;DAYS_EMPLOYED&#x27;, &#x27;DAYS_REGISTRATION&#x27;, &#x27;DAYS_ID_PUBLISH&#x27;, &#x27;OWN_CAR_AGE&#x27;, &#x27;FLAG_MOBIL&#x27;, &#x27;FLAG_EMP_PHONE&#x27;, &#x27;FLAG_WORK_PHONE&#x27;, &#x27;FLAG_CONT_MOBILE&#x27;, &#x27;FLAG_PHONE&#x27;, &#x27;FLAG_EMAIL&#x27;, &#x27;CNT_FAM_MEMBERS&#x27;, &#x27;REGION_RATING_CLIENT&#x27;, &#x27;REGION_RATING_CLIENT_W_CITY&#x27;, &#x27;HOUR_APPR_PROCESS_START&#x27;, &#x27;REG_REGION_NOT_LIVE_REGION&#x27;, &#x27;REG_REGION_NOT_WORK_REGION&#x27;, &#x27;LIVE_REGION_NOT_WORK_REGION&#x27;, &#x27;REG_CITY_NOT_LIVE_CITY&#x27;, &#x27;REG_CITY_NOT_WORK_CITY&#x27;, &#x27;LIVE_CITY_NOT_WORK_CITY&#x27;, &#x27;EXT_SOURCE_1&#x27;, &#x27;EXT_SOURCE_2&#x27;, &#x27;EXT_SOURCE_3&#x27;, &#x27;APARTMENTS_AVG&#x27;, &#x27;BASEMENTAREA_AVG&#x27;, &#x27;YEARS_BEGINEXPLUATATION_AVG&#x27;, &#x27;YEARS_BUILD_AVG&#x27;, &#x27;COMMONAREA_AVG&#x27;, &#x27;ELEVATORS_AVG&#x27;, &#x27;ENTRANCES_AVG&#x27;, &#x27;FLOORSMAX_AVG&#x27;, &#x27;FLOORSMIN_AVG&#x27;, &#x27;LANDAREA_AVG&#x27;, &#x27;LIVINGAPARTMENTS_AVG&#x27;, &#x27;LIVINGAREA_AVG&#x27;, &#x27;NONLIVINGAPARTMENTS_AVG&#x27;, &#x27;NONLIVINGAREA_AVG&#x27;, &#x27;APARTMENTS_MODE&#x27;, &#x27;BASEMENTAREA_MODE&#x27;, &#x27;YEARS_BEGINEXPLUATATION_MODE&#x27;, &#x27;YEARS_BUILD_MODE&#x27;, &#x27;COMMONAREA_MODE&#x27;, &#x27;ELEVATORS_MODE&#x27;, &#x27;ENTRANCES_MODE&#x27;, &#x27;FLOORSMAX_MODE&#x27;, &#x27;FLOORSMIN_MODE&#x27;, &#x27;LANDAREA_MODE&#x27;, &#x27;LIVINGAPARTMENTS_MODE&#x27;, &#x27;LIVINGAREA_MODE&#x27;, &#x27;NONLIVINGAPARTMENTS_MODE&#x27;, &#x27;NONLIVINGAREA_MODE&#x27;, &#x27;APARTMENTS_MEDI&#x27;, &#x27;BASEMENTAREA_MEDI&#x27;, &#x27;YEARS_BEGINEXPLUATATION_MEDI&#x27;, &#x27;YEARS_BUILD_MEDI&#x27;, &#x27;COMMONAREA_MEDI&#x27;, &#x27;ELEVATORS_MEDI&#x27;, &#x27;ENTRANCES_MEDI&#x27;, &#x27;FLOORSMAX_MEDI&#x27;, &#x27;FLOORSMIN_MEDI&#x27;, &#x27;LANDAREA_MEDI&#x27;, &#x27;LIVINGAPARTMENTS_MEDI&#x27;, &#x27;LIVINGAREA_MEDI&#x27;, &#x27;NONLIVINGAPARTMENTS_MEDI&#x27;, &#x27;NONLIVINGAREA_MEDI&#x27;, &#x27;TOTALAREA_MODE&#x27;, &#x27;OBS_30_CNT_SOCIAL_CIRCLE&#x27;, &#x27;DEF_30_CNT_SOCIAL_CIRCLE&#x27;, &#x27;OBS_60_CNT_SOCIAL_CIRCLE&#x27;, &#x27;DEF_60_CNT_SOCIAL_CIRCLE&#x27;, &#x27;DAYS_LAST_PHONE_CHANGE&#x27;, &#x27;FLAG_DOCUMENT_2&#x27;, &#x27;FLAG_DOCUMENT_3&#x27;, &#x27;FLAG_DOCUMENT_4&#x27;, &#x27;FLAG_DOCUMENT_5&#x27;, &#x27;FLAG_DOCUMENT_6&#x27;, &#x27;FLAG_DOCUMENT_7&#x27;, &#x27;FLAG_DOCUMENT_8&#x27;, &#x27;FLAG_DOCUMENT_9&#x27;, &#x27;FLAG_DOCUMENT_10&#x27;, &#x27;FLAG_DOCUMENT_11&#x27;, &#x27;FLAG_DOCUMENT_12&#x27;, &#x27;FLAG_DOCUMENT_13&#x27;, &#x27;FLAG_DOCUMENT_14&#x27;, &#x27;FLAG_DOCUMENT_15&#x27;, &#x27;FLAG_DOCUMENT_16&#x27;, &#x27;FLAG_DOCUMENT_17&#x27;, &#x27;FLAG_DOCUMENT_18&#x27;, &#x27;FLAG_DOCUMENT_19&#x27;, &#x27;FLAG_DOCUMENT_20&#x27;, &#x27;FLAG_DOCUMENT_21&#x27;, &#x27;AMT_REQ_CREDIT_BUREAU_HOUR&#x27;, &#x27;AMT_REQ_CREDIT_BUREAU_DAY&#x27;, &#x27;AMT_REQ_CREDIT_BUREAU_WEEK&#x27;, &#x27;AMT_REQ_CREDIT_BUREAU_MON&#x27;, &#x27;AMT_REQ_CREDIT_BUREAU_QRT&#x27;, &#x27;AMT_REQ_CREDIT_BUREAU_YEAR&#x27;, &#x27;CREDITO_SOBRE_RECEITA&#x27;, &#x27;ANUIDADE_SOBRE_RECEITA&#x27;, &#x27;BENS_SOBRE_RECEITA&#x27;, &#x27;RECEITA_PER_CAPTA&#x27;, &#x27;PORCAO_DE_VIDA_EMPREGADO&#x27;, &#x27;N_ADULTOS&#x27;, &#x27;TAXA_DE_CRIANCAS&#x27;, &#x27;QUANTIDADE_DE_PAGAMENTOS&#x27;, &#x27;EXT_SOURCE_MIN&#x27;, &#x27;EXT_SOURCE_MAX&#x27;, &#x27;EXT_SOURCE_MEAN&#x27;, &#x27;EXT_SOURCE_STD&#x27;, &#x27;NUM_EXT_SOURCES&#x27;, &#x27;NUM_DOCUMENTOS&#x27;, &#x27;TEMPO_MOTORIZADO&#x27;, &#x27;TAXA_DIAS_PUBLICACAO_ID&#x27;, &#x27;TAXA_DIAS_REGISTRO&#x27;]</pre></div></div></div><div class=\"sk-serial\"><div class=\"sk-item\"><div class=\"sk-serial\"><div class=\"sk-item\"><div class=\"sk-estimator sk-toggleable\"><input class=\"sk-toggleable__control sk-hidden--visually\" id=\"sk-estimator-id-3\" type=\"checkbox\" ><label for=\"sk-estimator-id-3\" class=\"sk-toggleable__label sk-toggleable__label-arrow\">SimpleImputer</label><div class=\"sk-toggleable__content\"><pre>SimpleImputer()</pre></div></div></div><div class=\"sk-item\"><div class=\"sk-estimator sk-toggleable\"><input class=\"sk-toggleable__control sk-hidden--visually\" id=\"sk-estimator-id-4\" type=\"checkbox\" ><label for=\"sk-estimator-id-4\" class=\"sk-toggleable__label sk-toggleable__label-arrow\">StandardScaler</label><div class=\"sk-toggleable__content\"><pre>StandardScaler()</pre></div></div></div></div></div></div></div></div><div class=\"sk-parallel-item\"><div class=\"sk-item\"><div class=\"sk-label-container\"><div class=\"sk-label sk-toggleable\"><input class=\"sk-toggleable__control sk-hidden--visually\" id=\"sk-estimator-id-5\" type=\"checkbox\" ><label for=\"sk-estimator-id-5\" class=\"sk-toggleable__label sk-toggleable__label-arrow\">transf_cat</label><div class=\"sk-toggleable__content\"><pre>[&#x27;NAME_CONTRACT_TYPE&#x27;, &#x27;FLAG_OWN_CAR&#x27;, &#x27;FLAG_OWN_REALTY&#x27;, &#x27;NAME_TYPE_SUITE&#x27;, &#x27;NAME_INCOME_TYPE&#x27;, &#x27;NAME_EDUCATION_TYPE&#x27;, &#x27;NAME_FAMILY_STATUS&#x27;, &#x27;NAME_HOUSING_TYPE&#x27;, &#x27;OCCUPATION_TYPE&#x27;, &#x27;WEEKDAY_APPR_PROCESS_START&#x27;, &#x27;ORGANIZATION_TYPE&#x27;, &#x27;FONDKAPREMONT_MODE&#x27;, &#x27;HOUSETYPE_MODE&#x27;, &#x27;WALLSMATERIAL_MODE&#x27;, &#x27;EMERGENCYSTATE_MODE&#x27;, &#x27;TIPO_DE_DIA_PEDIDO&#x27;]</pre></div></div></div><div class=\"sk-serial\"><div class=\"sk-item\"><div class=\"sk-serial\"><div class=\"sk-item\"><div class=\"sk-estimator sk-toggleable\"><input class=\"sk-toggleable__control sk-hidden--visually\" id=\"sk-estimator-id-6\" type=\"checkbox\" ><label for=\"sk-estimator-id-6\" class=\"sk-toggleable__label sk-toggleable__label-arrow\">SimpleImputer</label><div class=\"sk-toggleable__content\"><pre>SimpleImputer(fill_value=&#x27;unknown&#x27;, strategy=&#x27;constant&#x27;)</pre></div></div></div><div class=\"sk-item\"><div class=\"sk-estimator sk-toggleable\"><input class=\"sk-toggleable__control sk-hidden--visually\" id=\"sk-estimator-id-7\" type=\"checkbox\" ><label for=\"sk-estimator-id-7\" class=\"sk-toggleable__label sk-toggleable__label-arrow\">OneHotEncoder</label><div class=\"sk-toggleable__content\"><pre>OneHotEncoder(handle_unknown=&#x27;ignore&#x27;)</pre></div></div></div></div></div></div></div></div></div></div></div></div>"
      ],
      "text/plain": [
       "ColumnTransformer(transformers=[('transf_num',\n",
       "                                 Pipeline(steps=[('input_num', SimpleImputer()),\n",
       "                                                 ('ss', StandardScaler())]),\n",
       "                                 ['CNT_CHILDREN', 'AMT_INCOME_TOTAL',\n",
       "                                  'AMT_CREDIT', 'AMT_ANNUITY',\n",
       "                                  'AMT_GOODS_PRICE',\n",
       "                                  'REGION_POPULATION_RELATIVE', 'DAYS_BIRTH',\n",
       "                                  'DAYS_EMPLOYED', 'DAYS_REGISTRATION',\n",
       "                                  'DAYS_ID_PUBLISH', 'OWN_CAR_AGE',\n",
       "                                  'FLAG_MOBIL', 'FLAG_EMP_PHONE',\n",
       "                                  'FLAG_WORK_P...\n",
       "                                                  OneHotEncoder(handle_unknown='ignore'))]),\n",
       "                                 ['NAME_CONTRACT_TYPE', 'FLAG_OWN_CAR',\n",
       "                                  'FLAG_OWN_REALTY', 'NAME_TYPE_SUITE',\n",
       "                                  'NAME_INCOME_TYPE', 'NAME_EDUCATION_TYPE',\n",
       "                                  'NAME_FAMILY_STATUS', 'NAME_HOUSING_TYPE',\n",
       "                                  'OCCUPATION_TYPE',\n",
       "                                  'WEEKDAY_APPR_PROCESS_START',\n",
       "                                  'ORGANIZATION_TYPE', 'FONDKAPREMONT_MODE',\n",
       "                                  'HOUSETYPE_MODE', 'WALLSMATERIAL_MODE',\n",
       "                                  'EMERGENCYSTATE_MODE',\n",
       "                                  'TIPO_DE_DIA_PEDIDO'])])"
      ]
     },
     "execution_count": 13,
     "metadata": {},
     "output_type": "execute_result"
    }
   ],
   "source": [
    "pre_processador"
   ]
  },
  {
   "cell_type": "markdown",
   "metadata": {},
   "source": [
    "___________"
   ]
  },
  {
   "cell_type": "markdown",
   "metadata": {},
   "source": [
    "## Agora sim, é tó treinar o modelo!"
   ]
  },
  {
   "cell_type": "code",
   "execution_count": 45,
   "metadata": {
    "ExecuteTime": {
     "end_time": "2022-07-23T01:35:30.578453Z",
     "start_time": "2022-07-23T01:35:30.281621Z"
    }
   },
   "outputs": [],
   "source": [
    "from sklearn.ensemble import GradientBoostingClassifier"
   ]
  },
  {
   "cell_type": "code",
   "execution_count": 46,
   "metadata": {
    "ExecuteTime": {
     "end_time": "2022-07-23T01:49:36.517641Z",
     "start_time": "2022-07-23T01:35:30.583451Z"
    },
    "scrolled": true
   },
   "outputs": [
    {
     "name": "stdout",
     "output_type": "stream",
     "text": [
      "Métricas de avaliação de treino - com cutoff = 0.50\n"
     ]
    },
    {
     "data": {
      "image/png": "[encoded data removed]",
      "text/plain": [
       "<Figure size 432x288 with 2 Axes>"
      ]
     },
     "metadata": {
      "needs_background": "light"
     },
     "output_type": "display_data"
    },
    {
     "name": "stdout",
     "output_type": "stream",
     "text": [
      "              precision    recall  f1-score   support\n",
      "\n",
      "           0       0.92      1.00      0.96    180830\n",
      "           1       0.67      0.02      0.04     15976\n",
      "\n",
      "    accuracy                           0.92    196806\n",
      "   macro avg       0.79      0.51      0.50    196806\n",
      "weighted avg       0.90      0.92      0.88    196806\n",
      "\n",
      "================================================================================\n",
      "                      Abaixo, métricas que variam o cutoff                      \n",
      "                               Classe positiva: 1                               \n",
      "================================================================================\n"
     ]
    },
    {
     "data": {
      "image/png": "[encoded data removed]",
      "text/plain": [
       "<Figure size 432x288 with 1 Axes>"
      ]
     },
     "metadata": {
      "needs_background": "light"
     },
     "output_type": "display_data"
    },
    {
     "name": "stdout",
     "output_type": "stream",
     "text": [
      "\n",
      "################################################################################\n",
      "\n",
      "Métricas de avaliação de teste - com cutoff = 0.50\n"
     ]
    },
    {
     "data": {
      "image/png": "[encoded data removed]",
      "text/plain": [
       "<Figure size 432x288 with 2 Axes>"
      ]
     },
     "metadata": {
      "needs_background": "light"
     },
     "output_type": "display_data"
    },
    {
     "name": "stdout",
     "output_type": "stream",
     "text": [
      "              precision    recall  f1-score   support\n",
      "\n",
      "           0       0.92      1.00      0.96     45208\n",
      "           1       0.63      0.01      0.03      3994\n",
      "\n",
      "    accuracy                           0.92     49202\n",
      "   macro avg       0.77      0.51      0.49     49202\n",
      "weighted avg       0.90      0.92      0.88     49202\n",
      "\n",
      "================================================================================\n",
      "                      Abaixo, métricas que variam o cutoff                      \n",
      "                               Classe positiva: 1                               \n",
      "================================================================================\n"
     ]
    },
    {
     "data": {
      "image/png": "[encoded data removed]",
      "text/plain": [
       "<Figure size 432x288 with 1 Axes>"
      ]
     },
     "metadata": {
      "needs_background": "light"
     },
     "output_type": "display_data"
    }
   ],
   "source": [
    "pipe_gb_fe = Pipeline([(\"pre_processador\", pre_processador),\n",
    "                       (\"gb\", GradientBoostingClassifier(random_state=42))])\n",
    "\n",
    "pipe_gb_fe.fit(X_train, y_train)\n",
    "\n",
    "# ==========================================\n",
    "\n",
    "_ = clf_metrics_train_test(pipe_gb_fe, X_train, y_train, X_test, y_test, cutoff=0.5, \n",
    "                           plot_conf_matrix=True, print_cr=True, plot_roc=True, pos_label=1)"
   ]
  },
  {
   "cell_type": "markdown",
   "metadata": {},
   "source": [
    "___________________"
   ]
  },
  {
   "cell_type": "markdown",
   "metadata": {},
   "source": [
    "## Vamos testar fazer undersampling \n",
    "\n",
    "Além de balancear os dados, isso ajuda a reduzir o tamanho da base!\n",
    "\n",
    "<img src=\"https://miro.medium.com/max/1400/1*-9Y4VyZm7OqBYAdKEmAb6w.png\" width=600>\n",
    "\n",
    "Para isso, vamos utilizar as ferramentas da biblioteca [imblearn](https://imbalanced-learn.org/stable/).\n",
    "\n",
    "Em particular, vamos usar a ferramenta mais simples para o undersampling, o [RandomUnderSampler](https://imbalanced-learn.org/stable/references/generated/imblearn.under_sampling.RandomUnderSampler.html).\n",
    "\n",
    "Para instalar, o de sempre:\n",
    "\n",
    "`pip install -U imbalanced-learn`"
   ]
  },
  {
   "cell_type": "code",
   "execution_count": 47,
   "metadata": {
    "ExecuteTime": {
     "end_time": "2022-07-23T01:49:36.656356Z",
     "start_time": "2022-07-23T01:49:36.517641Z"
    }
   },
   "outputs": [
    {
     "data": {
      "text/plain": [
       "0    180830\n",
       "1     15976\n",
       "Name: TARGET, dtype: int64"
      ]
     },
     "execution_count": 47,
     "metadata": {},
     "output_type": "execute_result"
    }
   ],
   "source": [
    "y_train.value_counts()"
   ]
  },
  {
   "cell_type": "code",
   "execution_count": 48,
   "metadata": {
    "ExecuteTime": {
     "end_time": "2022-07-23T01:49:36.800061Z",
     "start_time": "2022-07-23T01:49:36.656356Z"
    }
   },
   "outputs": [
    {
     "data": {
      "text/plain": [
       "0    0.918824\n",
       "1    0.081176\n",
       "Name: TARGET, dtype: float64"
      ]
     },
     "execution_count": 48,
     "metadata": {},
     "output_type": "execute_result"
    }
   ],
   "source": [
    "y_train.value_counts(normalize=True)"
   ]
  },
  {
   "cell_type": "code",
   "execution_count": 14,
   "metadata": {
    "ExecuteTime": {
     "end_time": "2022-07-29T22:12:26.868668Z",
     "start_time": "2022-07-29T22:12:22.905034Z"
    }
   },
   "outputs": [],
   "source": [
    "from imblearn.pipeline import Pipeline\n",
    "from imblearn.under_sampling import RandomUnderSampler"
   ]
  },
  {
   "cell_type": "code",
   "execution_count": 15,
   "metadata": {
    "ExecuteTime": {
     "end_time": "2022-07-29T22:17:50.211895Z",
     "start_time": "2022-07-29T22:12:26.880660Z"
    },
    "scrolled": true
   },
   "outputs": [
    {
     "name": "stdout",
     "output_type": "stream",
     "text": [
      "Métricas de avaliação de treino - com cutoff = 0.50\n"
     ]
    },
    {
     "data": {
      "image/png": "[encoded data removed]",
      "text/plain": [
       "<Figure size 432x288 with 2 Axes>"
      ]
     },
     "metadata": {
      "needs_background": "light"
     },
     "output_type": "display_data"
    },
    {
     "name": "stdout",
     "output_type": "stream",
     "text": [
      "              precision    recall  f1-score   support\n",
      "\n",
      "           0       0.95      0.89      0.91    180830\n",
      "           1       0.25      0.42      0.31     15976\n",
      "\n",
      "    accuracy                           0.85    196806\n",
      "   macro avg       0.60      0.65      0.61    196806\n",
      "weighted avg       0.89      0.85      0.87    196806\n",
      "\n",
      "================================================================================\n",
      "                      Abaixo, métricas que variam o cutoff                      \n",
      "                               Classe positiva: 1                               \n",
      "================================================================================\n"
     ]
    },
    {
     "data": {
      "image/png": "[encoded data removed]",
      "text/plain": [
       "<Figure size 432x288 with 1 Axes>"
      ]
     },
     "metadata": {
      "needs_background": "light"
     },
     "output_type": "display_data"
    },
    {
     "name": "stdout",
     "output_type": "stream",
     "text": [
      "\n",
      "################################################################################\n",
      "\n",
      "Métricas de avaliação de teste - com cutoff = 0.50\n"
     ]
    },
    {
     "data": {
      "image/png": "[encoded data removed]",
      "text/plain": [
       "<Figure size 432x288 with 2 Axes>"
      ]
     },
     "metadata": {
      "needs_background": "light"
     },
     "output_type": "display_data"
    },
    {
     "name": "stdout",
     "output_type": "stream",
     "text": [
      "              precision    recall  f1-score   support\n",
      "\n",
      "           0       0.94      0.89      0.92     45208\n",
      "           1       0.24      0.40      0.30      3994\n",
      "\n",
      "    accuracy                           0.85     49202\n",
      "   macro avg       0.59      0.64      0.61     49202\n",
      "weighted avg       0.89      0.85      0.87     49202\n",
      "\n",
      "================================================================================\n",
      "                      Abaixo, métricas que variam o cutoff                      \n",
      "                               Classe positiva: 1                               \n",
      "================================================================================\n"
     ]
    },
    {
     "data": {
      "image/png": "[encoded data removed]",
      "text/plain": [
       "<Figure size 432x288 with 1 Axes>"
      ]
     },
     "metadata": {
      "needs_background": "light"
     },
     "output_type": "display_data"
    }
   ],
   "source": [
    "pipe_gb_fe_undersamp = Pipeline([(\"under_samp\", RandomUnderSampler(sampling_strategy=0.5, random_state=42)),\n",
    "                                 (\"pre_processador\", pre_processador),\n",
    "                                 (\"gb\", GradientBoostingClassifier(random_state=42))])\n",
    "\n",
    "pipe_gb_fe_undersamp.fit(X_train, y_train)\n",
    "\n",
    "# ==========================================\n",
    "\n",
    "_ = clf_metrics_train_test(pipe_gb_fe_undersamp, X_train, y_train, X_test, y_test, cutoff=0.5, \n",
    "                           plot_conf_matrix=True, print_cr=True, plot_roc=True, pos_label=1)"
   ]
  },
  {
   "cell_type": "markdown",
   "metadata": {},
   "source": [
    "Um resultado muito bom, 0.755 de AUC no teste (e isso sem fazer otimização de hiperparâmetros!)"
   ]
  },
  {
   "cell_type": "markdown",
   "metadata": {},
   "source": [
    "Vamos salvar este modelo (que no caso é a pipeline completa!), pra gente não precisar ficar rodando toda vez!"
   ]
  },
  {
   "cell_type": "code",
   "execution_count": 16,
   "metadata": {
    "ExecuteTime": {
     "end_time": "2022-07-29T22:18:14.553002Z",
     "start_time": "2022-07-29T22:18:14.314138Z"
    }
   },
   "outputs": [],
   "source": [
    "import joblib"
   ]
  },
  {
   "cell_type": "code",
   "execution_count": 17,
   "metadata": {
    "ExecuteTime": {
     "end_time": "2022-07-29T22:18:41.911396Z",
     "start_time": "2022-07-29T22:18:41.328838Z"
    }
   },
   "outputs": [
    {
     "data": {
      "text/plain": [
       "['meu_modelo.joblib']"
      ]
     },
     "execution_count": 17,
     "metadata": {},
     "output_type": "execute_result"
    }
   ],
   "source": [
    "joblib.dump(pipe_gb_fe_undersamp, \"meu_modelo.joblib\")"
   ]
  },
  {
   "cell_type": "markdown",
   "metadata": {},
   "source": [
    "____________"
   ]
  },
  {
   "cell_type": "markdown",
   "metadata": {},
   "source": [
    "## Formato da entrega\n",
    "\n",
    "Lembrando as instruções que estão no enunciado:\n",
    "\n",
    "Deve ser entregue um arquivo csv com as **predições** para a base de teste (`aplication_test_student.csv`).\n",
    "\n",
    "Essa base deverá ser um Data Frame com duas colunas: a primeira sendo o **SK_ID_CURR** e a segunda a **probabilidade de inadimplência.**"
   ]
  },
  {
   "cell_type": "markdown",
   "metadata": {},
   "source": [
    "As features `X_entrega` foram lidas e retornadas pela função que fizemos acima, `pipe_pre_process_projeto_with_feat_eng`, pra garantir que elas já tenham passado pela pipeline de feature engineering!\n",
    "\n",
    "Então agora é só usar estas features, passar pro modelo que já foi treinado, e pegar o `predict_proba()`!"
   ]
  },
  {
   "cell_type": "markdown",
   "metadata": {},
   "source": [
    "Vamos emular o procedimento de ler o modelo que já foi treinado anteriormente"
   ]
  },
  {
   "cell_type": "code",
   "execution_count": 19,
   "metadata": {
    "ExecuteTime": {
     "end_time": "2022-07-29T22:19:43.411360Z",
     "start_time": "2022-07-29T22:19:43.017587Z"
    }
   },
   "outputs": [
    {
     "data": {
      "text/html": [
       "<style>#sk-container-id-2 {color: black;background-color: white;}#sk-container-id-2 pre{padding: 0;}#sk-container-id-2 div.sk-toggleable {background-color: white;}#sk-container-id-2 label.sk-toggleable__label {cursor: pointer;display: block;width: 100%;margin-bottom: 0;padding: 0.3em;box-sizing: border-box;text-align: center;}#sk-container-id-2 label.sk-toggleable__label-arrow:before {content: \"▸\";float: left;margin-right: 0.25em;color: #696969;}#sk-container-id-2 label.sk-toggleable__label-arrow:hover:before {color: black;}#sk-container-id-2 div.sk-estimator:hover label.sk-toggleable__label-arrow:before {color: black;}#sk-container-id-2 div.sk-toggleable__content {max-height: 0;max-width: 0;overflow: hidden;text-align: left;background-color: #f0f8ff;}#sk-container-id-2 div.sk-toggleable__content pre {margin: 0.2em;color: black;border-radius: 0.25em;background-color: #f0f8ff;}#sk-container-id-2 input.sk-toggleable__control:checked~div.sk-toggleable__content {max-height: 200px;max-width: 100%;overflow: auto;}#sk-container-id-2 input.sk-toggleable__control:checked~label.sk-toggleable__label-arrow:before {content: \"▾\";}#sk-container-id-2 div.sk-estimator input.sk-toggleable__control:checked~label.sk-toggleable__label {background-color: #d4ebff;}#sk-container-id-2 div.sk-label input.sk-toggleable__control:checked~label.sk-toggleable__label {background-color: #d4ebff;}#sk-container-id-2 input.sk-hidden--visually {border: 0;clip: rect(1px 1px 1px 1px);clip: rect(1px, 1px, 1px, 1px);height: 1px;margin: -1px;overflow: hidden;padding: 0;position: absolute;width: 1px;}#sk-container-id-2 div.sk-estimator {font-family: monospace;background-color: #f0f8ff;border: 1px dotted black;border-radius: 0.25em;box-sizing: border-box;margin-bottom: 0.5em;}#sk-container-id-2 div.sk-estimator:hover {background-color: #d4ebff;}#sk-container-id-2 div.sk-parallel-item::after {content: \"\";width: 100%;border-bottom: 1px solid gray;flex-grow: 1;}#sk-container-id-2 div.sk-label:hover label.sk-toggleable__label {background-color: #d4ebff;}#sk-container-id-2 div.sk-serial::before {content: \"\";position: absolute;border-left: 1px solid gray;box-sizing: border-box;top: 0;bottom: 0;left: 50%;z-index: 0;}#sk-container-id-2 div.sk-serial {display: flex;flex-direction: column;align-items: center;background-color: white;padding-right: 0.2em;padding-left: 0.2em;position: relative;}#sk-container-id-2 div.sk-item {position: relative;z-index: 1;}#sk-container-id-2 div.sk-parallel {display: flex;align-items: stretch;justify-content: center;background-color: white;position: relative;}#sk-container-id-2 div.sk-item::before, #sk-container-id-2 div.sk-parallel-item::before {content: \"\";position: absolute;border-left: 1px solid gray;box-sizing: border-box;top: 0;bottom: 0;left: 50%;z-index: -1;}#sk-container-id-2 div.sk-parallel-item {display: flex;flex-direction: column;z-index: 1;position: relative;background-color: white;}#sk-container-id-2 div.sk-parallel-item:first-child::after {align-self: flex-end;width: 50%;}#sk-container-id-2 div.sk-parallel-item:last-child::after {align-self: flex-start;width: 50%;}#sk-container-id-2 div.sk-parallel-item:only-child::after {width: 0;}#sk-container-id-2 div.sk-dashed-wrapped {border: 1px dashed gray;margin: 0 0.4em 0.5em 0.4em;box-sizing: border-box;padding-bottom: 0.4em;background-color: white;}#sk-container-id-2 div.sk-label label {font-family: monospace;font-weight: bold;display: inline-block;line-height: 1.2em;}#sk-container-id-2 div.sk-label-container {text-align: center;}#sk-container-id-2 div.sk-container {/* jupyter's `normalize.less` sets `[hidden] { display: none; }` but bootstrap.min.css set `[hidden] { display: none !important; }` so we also need the `!important` here to be able to override the default hidden behavior on the sphinx rendered scikit-learn.org. See: https://github.com/scikit-learn/scikit-learn/issues/21755 */display: inline-block !important;position: relative;}#sk-container-id-2 div.sk-text-repr-fallback {display: none;}</style><div id=\"sk-container-id-2\" class=\"sk-top-container\"><div class=\"sk-text-repr-fallback\"><pre>Pipeline(steps=[(&#x27;under_samp&#x27;,\n",
       "                 RandomUnderSampler(random_state=42, sampling_strategy=0.5)),\n",
       "                (&#x27;pre_processador&#x27;,\n",
       "                 ColumnTransformer(transformers=[(&#x27;transf_num&#x27;,\n",
       "                                                  Pipeline(steps=[(&#x27;input_num&#x27;,\n",
       "                                                                   SimpleImputer()),\n",
       "                                                                  (&#x27;ss&#x27;,\n",
       "                                                                   StandardScaler())]),\n",
       "                                                  [&#x27;CNT_CHILDREN&#x27;,\n",
       "                                                   &#x27;AMT_INCOME_TOTAL&#x27;,\n",
       "                                                   &#x27;AMT_CREDIT&#x27;, &#x27;AMT_ANNUITY&#x27;,\n",
       "                                                   &#x27;AMT_GOODS_PRICE&#x27;,\n",
       "                                                   &#x27;REGION_POPULATION_RELATIVE&#x27;,\n",
       "                                                   &#x27;DAYS_BIRTH&#x27;,\n",
       "                                                   &#x27;D...\n",
       "                                                   &#x27;FLAG_OWN_CAR&#x27;,\n",
       "                                                   &#x27;FLAG_OWN_REALTY&#x27;,\n",
       "                                                   &#x27;NAME_TYPE_SUITE&#x27;,\n",
       "                                                   &#x27;NAME_INCOME_TYPE&#x27;,\n",
       "                                                   &#x27;NAME_EDUCATION_TYPE&#x27;,\n",
       "                                                   &#x27;NAME_FAMILY_STATUS&#x27;,\n",
       "                                                   &#x27;NAME_HOUSING_TYPE&#x27;,\n",
       "                                                   &#x27;OCCUPATION_TYPE&#x27;,\n",
       "                                                   &#x27;WEEKDAY_APPR_PROCESS_START&#x27;,\n",
       "                                                   &#x27;ORGANIZATION_TYPE&#x27;,\n",
       "                                                   &#x27;FONDKAPREMONT_MODE&#x27;,\n",
       "                                                   &#x27;HOUSETYPE_MODE&#x27;,\n",
       "                                                   &#x27;WALLSMATERIAL_MODE&#x27;,\n",
       "                                                   &#x27;EMERGENCYSTATE_MODE&#x27;,\n",
       "                                                   &#x27;TIPO_DE_DIA_PEDIDO&#x27;])])),\n",
       "                (&#x27;gb&#x27;, GradientBoostingClassifier(random_state=42))])</pre><b>In a Jupyter environment, please rerun this cell to show the HTML representation or trust the notebook. <br />On GitHub, the HTML representation is unable to render, please try loading this page with nbviewer.org.</b></div><div class=\"sk-container\" hidden><div class=\"sk-item sk-dashed-wrapped\"><div class=\"sk-label-container\"><div class=\"sk-label sk-toggleable\"><input class=\"sk-toggleable__control sk-hidden--visually\" id=\"sk-estimator-id-8\" type=\"checkbox\" ><label for=\"sk-estimator-id-8\" class=\"sk-toggleable__label sk-toggleable__label-arrow\">Pipeline</label><div class=\"sk-toggleable__content\"><pre>Pipeline(steps=[(&#x27;under_samp&#x27;,\n",
       "                 RandomUnderSampler(random_state=42, sampling_strategy=0.5)),\n",
       "                (&#x27;pre_processador&#x27;,\n",
       "                 ColumnTransformer(transformers=[(&#x27;transf_num&#x27;,\n",
       "                                                  Pipeline(steps=[(&#x27;input_num&#x27;,\n",
       "                                                                   SimpleImputer()),\n",
       "                                                                  (&#x27;ss&#x27;,\n",
       "                                                                   StandardScaler())]),\n",
       "                                                  [&#x27;CNT_CHILDREN&#x27;,\n",
       "                                                   &#x27;AMT_INCOME_TOTAL&#x27;,\n",
       "                                                   &#x27;AMT_CREDIT&#x27;, &#x27;AMT_ANNUITY&#x27;,\n",
       "                                                   &#x27;AMT_GOODS_PRICE&#x27;,\n",
       "                                                   &#x27;REGION_POPULATION_RELATIVE&#x27;,\n",
       "                                                   &#x27;DAYS_BIRTH&#x27;,\n",
       "                                                   &#x27;D...\n",
       "                                                   &#x27;FLAG_OWN_CAR&#x27;,\n",
       "                                                   &#x27;FLAG_OWN_REALTY&#x27;,\n",
       "                                                   &#x27;NAME_TYPE_SUITE&#x27;,\n",
       "                                                   &#x27;NAME_INCOME_TYPE&#x27;,\n",
       "                                                   &#x27;NAME_EDUCATION_TYPE&#x27;,\n",
       "                                                   &#x27;NAME_FAMILY_STATUS&#x27;,\n",
       "                                                   &#x27;NAME_HOUSING_TYPE&#x27;,\n",
       "                                                   &#x27;OCCUPATION_TYPE&#x27;,\n",
       "                                                   &#x27;WEEKDAY_APPR_PROCESS_START&#x27;,\n",
       "                                                   &#x27;ORGANIZATION_TYPE&#x27;,\n",
       "                                                   &#x27;FONDKAPREMONT_MODE&#x27;,\n",
       "                                                   &#x27;HOUSETYPE_MODE&#x27;,\n",
       "                                                   &#x27;WALLSMATERIAL_MODE&#x27;,\n",
       "                                                   &#x27;EMERGENCYSTATE_MODE&#x27;,\n",
       "                                                   &#x27;TIPO_DE_DIA_PEDIDO&#x27;])])),\n",
       "                (&#x27;gb&#x27;, GradientBoostingClassifier(random_state=42))])</pre></div></div></div><div class=\"sk-serial\"><div class=\"sk-item\"><div class=\"sk-estimator sk-toggleable\"><input class=\"sk-toggleable__control sk-hidden--visually\" id=\"sk-estimator-id-9\" type=\"checkbox\" ><label for=\"sk-estimator-id-9\" class=\"sk-toggleable__label sk-toggleable__label-arrow\">RandomUnderSampler</label><div class=\"sk-toggleable__content\"><pre>RandomUnderSampler(random_state=42, sampling_strategy=0.5)</pre></div></div></div><div class=\"sk-item sk-dashed-wrapped\"><div class=\"sk-label-container\"><div class=\"sk-label sk-toggleable\"><input class=\"sk-toggleable__control sk-hidden--visually\" id=\"sk-estimator-id-10\" type=\"checkbox\" ><label for=\"sk-estimator-id-10\" class=\"sk-toggleable__label sk-toggleable__label-arrow\">pre_processador: ColumnTransformer</label><div class=\"sk-toggleable__content\"><pre>ColumnTransformer(transformers=[(&#x27;transf_num&#x27;,\n",
       "                                 Pipeline(steps=[(&#x27;input_num&#x27;, SimpleImputer()),\n",
       "                                                 (&#x27;ss&#x27;, StandardScaler())]),\n",
       "                                 [&#x27;CNT_CHILDREN&#x27;, &#x27;AMT_INCOME_TOTAL&#x27;,\n",
       "                                  &#x27;AMT_CREDIT&#x27;, &#x27;AMT_ANNUITY&#x27;,\n",
       "                                  &#x27;AMT_GOODS_PRICE&#x27;,\n",
       "                                  &#x27;REGION_POPULATION_RELATIVE&#x27;, &#x27;DAYS_BIRTH&#x27;,\n",
       "                                  &#x27;DAYS_EMPLOYED&#x27;, &#x27;DAYS_REGISTRATION&#x27;,\n",
       "                                  &#x27;DAYS_ID_PUBLISH&#x27;, &#x27;OWN_CAR_AGE&#x27;,\n",
       "                                  &#x27;FLAG_MOBIL&#x27;, &#x27;FLAG_EMP_PHONE&#x27;,\n",
       "                                  &#x27;FLAG_WORK_P...\n",
       "                                                  OneHotEncoder(handle_unknown=&#x27;ignore&#x27;))]),\n",
       "                                 [&#x27;NAME_CONTRACT_TYPE&#x27;, &#x27;FLAG_OWN_CAR&#x27;,\n",
       "                                  &#x27;FLAG_OWN_REALTY&#x27;, &#x27;NAME_TYPE_SUITE&#x27;,\n",
       "                                  &#x27;NAME_INCOME_TYPE&#x27;, &#x27;NAME_EDUCATION_TYPE&#x27;,\n",
       "                                  &#x27;NAME_FAMILY_STATUS&#x27;, &#x27;NAME_HOUSING_TYPE&#x27;,\n",
       "                                  &#x27;OCCUPATION_TYPE&#x27;,\n",
       "                                  &#x27;WEEKDAY_APPR_PROCESS_START&#x27;,\n",
       "                                  &#x27;ORGANIZATION_TYPE&#x27;, &#x27;FONDKAPREMONT_MODE&#x27;,\n",
       "                                  &#x27;HOUSETYPE_MODE&#x27;, &#x27;WALLSMATERIAL_MODE&#x27;,\n",
       "                                  &#x27;EMERGENCYSTATE_MODE&#x27;,\n",
       "                                  &#x27;TIPO_DE_DIA_PEDIDO&#x27;])])</pre></div></div></div><div class=\"sk-parallel\"><div class=\"sk-parallel-item\"><div class=\"sk-item\"><div class=\"sk-label-container\"><div class=\"sk-label sk-toggleable\"><input class=\"sk-toggleable__control sk-hidden--visually\" id=\"sk-estimator-id-11\" type=\"checkbox\" ><label for=\"sk-estimator-id-11\" class=\"sk-toggleable__label sk-toggleable__label-arrow\">transf_num</label><div class=\"sk-toggleable__content\"><pre>[&#x27;CNT_CHILDREN&#x27;, &#x27;AMT_INCOME_TOTAL&#x27;, &#x27;AMT_CREDIT&#x27;, &#x27;AMT_ANNUITY&#x27;, &#x27;AMT_GOODS_PRICE&#x27;, &#x27;REGION_POPULATION_RELATIVE&#x27;, &#x27;DAYS_BIRTH&#x27;, &#x27;DAYS_EMPLOYED&#x27;, &#x27;DAYS_REGISTRATION&#x27;, &#x27;DAYS_ID_PUBLISH&#x27;, &#x27;OWN_CAR_AGE&#x27;, &#x27;FLAG_MOBIL&#x27;, &#x27;FLAG_EMP_PHONE&#x27;, &#x27;FLAG_WORK_PHONE&#x27;, &#x27;FLAG_CONT_MOBILE&#x27;, &#x27;FLAG_PHONE&#x27;, &#x27;FLAG_EMAIL&#x27;, &#x27;CNT_FAM_MEMBERS&#x27;, &#x27;REGION_RATING_CLIENT&#x27;, &#x27;REGION_RATING_CLIENT_W_CITY&#x27;, &#x27;HOUR_APPR_PROCESS_START&#x27;, &#x27;REG_REGION_NOT_LIVE_REGION&#x27;, &#x27;REG_REGION_NOT_WORK_REGION&#x27;, &#x27;LIVE_REGION_NOT_WORK_REGION&#x27;, &#x27;REG_CITY_NOT_LIVE_CITY&#x27;, &#x27;REG_CITY_NOT_WORK_CITY&#x27;, &#x27;LIVE_CITY_NOT_WORK_CITY&#x27;, &#x27;EXT_SOURCE_1&#x27;, &#x27;EXT_SOURCE_2&#x27;, &#x27;EXT_SOURCE_3&#x27;, &#x27;APARTMENTS_AVG&#x27;, &#x27;BASEMENTAREA_AVG&#x27;, &#x27;YEARS_BEGINEXPLUATATION_AVG&#x27;, &#x27;YEARS_BUILD_AVG&#x27;, &#x27;COMMONAREA_AVG&#x27;, &#x27;ELEVATORS_AVG&#x27;, &#x27;ENTRANCES_AVG&#x27;, &#x27;FLOORSMAX_AVG&#x27;, &#x27;FLOORSMIN_AVG&#x27;, &#x27;LANDAREA_AVG&#x27;, &#x27;LIVINGAPARTMENTS_AVG&#x27;, &#x27;LIVINGAREA_AVG&#x27;, &#x27;NONLIVINGAPARTMENTS_AVG&#x27;, &#x27;NONLIVINGAREA_AVG&#x27;, &#x27;APARTMENTS_MODE&#x27;, &#x27;BASEMENTAREA_MODE&#x27;, &#x27;YEARS_BEGINEXPLUATATION_MODE&#x27;, &#x27;YEARS_BUILD_MODE&#x27;, &#x27;COMMONAREA_MODE&#x27;, &#x27;ELEVATORS_MODE&#x27;, &#x27;ENTRANCES_MODE&#x27;, &#x27;FLOORSMAX_MODE&#x27;, &#x27;FLOORSMIN_MODE&#x27;, &#x27;LANDAREA_MODE&#x27;, &#x27;LIVINGAPARTMENTS_MODE&#x27;, &#x27;LIVINGAREA_MODE&#x27;, &#x27;NONLIVINGAPARTMENTS_MODE&#x27;, &#x27;NONLIVINGAREA_MODE&#x27;, &#x27;APARTMENTS_MEDI&#x27;, &#x27;BASEMENTAREA_MEDI&#x27;, &#x27;YEARS_BEGINEXPLUATATION_MEDI&#x27;, &#x27;YEARS_BUILD_MEDI&#x27;, &#x27;COMMONAREA_MEDI&#x27;, &#x27;ELEVATORS_MEDI&#x27;, &#x27;ENTRANCES_MEDI&#x27;, &#x27;FLOORSMAX_MEDI&#x27;, &#x27;FLOORSMIN_MEDI&#x27;, &#x27;LANDAREA_MEDI&#x27;, &#x27;LIVINGAPARTMENTS_MEDI&#x27;, &#x27;LIVINGAREA_MEDI&#x27;, &#x27;NONLIVINGAPARTMENTS_MEDI&#x27;, &#x27;NONLIVINGAREA_MEDI&#x27;, &#x27;TOTALAREA_MODE&#x27;, &#x27;OBS_30_CNT_SOCIAL_CIRCLE&#x27;, &#x27;DEF_30_CNT_SOCIAL_CIRCLE&#x27;, &#x27;OBS_60_CNT_SOCIAL_CIRCLE&#x27;, &#x27;DEF_60_CNT_SOCIAL_CIRCLE&#x27;, &#x27;DAYS_LAST_PHONE_CHANGE&#x27;, &#x27;FLAG_DOCUMENT_2&#x27;, &#x27;FLAG_DOCUMENT_3&#x27;, &#x27;FLAG_DOCUMENT_4&#x27;, &#x27;FLAG_DOCUMENT_5&#x27;, &#x27;FLAG_DOCUMENT_6&#x27;, &#x27;FLAG_DOCUMENT_7&#x27;, &#x27;FLAG_DOCUMENT_8&#x27;, &#x27;FLAG_DOCUMENT_9&#x27;, &#x27;FLAG_DOCUMENT_10&#x27;, &#x27;FLAG_DOCUMENT_11&#x27;, &#x27;FLAG_DOCUMENT_12&#x27;, &#x27;FLAG_DOCUMENT_13&#x27;, &#x27;FLAG_DOCUMENT_14&#x27;, &#x27;FLAG_DOCUMENT_15&#x27;, &#x27;FLAG_DOCUMENT_16&#x27;, &#x27;FLAG_DOCUMENT_17&#x27;, &#x27;FLAG_DOCUMENT_18&#x27;, &#x27;FLAG_DOCUMENT_19&#x27;, &#x27;FLAG_DOCUMENT_20&#x27;, &#x27;FLAG_DOCUMENT_21&#x27;, &#x27;AMT_REQ_CREDIT_BUREAU_HOUR&#x27;, &#x27;AMT_REQ_CREDIT_BUREAU_DAY&#x27;, &#x27;AMT_REQ_CREDIT_BUREAU_WEEK&#x27;, &#x27;AMT_REQ_CREDIT_BUREAU_MON&#x27;, &#x27;AMT_REQ_CREDIT_BUREAU_QRT&#x27;, &#x27;AMT_REQ_CREDIT_BUREAU_YEAR&#x27;, &#x27;CREDITO_SOBRE_RECEITA&#x27;, &#x27;ANUIDADE_SOBRE_RECEITA&#x27;, &#x27;BENS_SOBRE_RECEITA&#x27;, &#x27;RECEITA_PER_CAPTA&#x27;, &#x27;PORCAO_DE_VIDA_EMPREGADO&#x27;, &#x27;N_ADULTOS&#x27;, &#x27;TAXA_DE_CRIANCAS&#x27;, &#x27;QUANTIDADE_DE_PAGAMENTOS&#x27;, &#x27;EXT_SOURCE_MIN&#x27;, &#x27;EXT_SOURCE_MAX&#x27;, &#x27;EXT_SOURCE_MEAN&#x27;, &#x27;EXT_SOURCE_STD&#x27;, &#x27;NUM_EXT_SOURCES&#x27;, &#x27;NUM_DOCUMENTOS&#x27;, &#x27;TEMPO_MOTORIZADO&#x27;, &#x27;TAXA_DIAS_PUBLICACAO_ID&#x27;, &#x27;TAXA_DIAS_REGISTRO&#x27;]</pre></div></div></div><div class=\"sk-serial\"><div class=\"sk-item\"><div class=\"sk-serial\"><div class=\"sk-item\"><div class=\"sk-estimator sk-toggleable\"><input class=\"sk-toggleable__control sk-hidden--visually\" id=\"sk-estimator-id-12\" type=\"checkbox\" ><label for=\"sk-estimator-id-12\" class=\"sk-toggleable__label sk-toggleable__label-arrow\">SimpleImputer</label><div class=\"sk-toggleable__content\"><pre>SimpleImputer()</pre></div></div></div><div class=\"sk-item\"><div class=\"sk-estimator sk-toggleable\"><input class=\"sk-toggleable__control sk-hidden--visually\" id=\"sk-estimator-id-13\" type=\"checkbox\" ><label for=\"sk-estimator-id-13\" class=\"sk-toggleable__label sk-toggleable__label-arrow\">StandardScaler</label><div class=\"sk-toggleable__content\"><pre>StandardScaler()</pre></div></div></div></div></div></div></div></div><div class=\"sk-parallel-item\"><div class=\"sk-item\"><div class=\"sk-label-container\"><div class=\"sk-label sk-toggleable\"><input class=\"sk-toggleable__control sk-hidden--visually\" id=\"sk-estimator-id-14\" type=\"checkbox\" ><label for=\"sk-estimator-id-14\" class=\"sk-toggleable__label sk-toggleable__label-arrow\">transf_cat</label><div class=\"sk-toggleable__content\"><pre>[&#x27;NAME_CONTRACT_TYPE&#x27;, &#x27;FLAG_OWN_CAR&#x27;, &#x27;FLAG_OWN_REALTY&#x27;, &#x27;NAME_TYPE_SUITE&#x27;, &#x27;NAME_INCOME_TYPE&#x27;, &#x27;NAME_EDUCATION_TYPE&#x27;, &#x27;NAME_FAMILY_STATUS&#x27;, &#x27;NAME_HOUSING_TYPE&#x27;, &#x27;OCCUPATION_TYPE&#x27;, &#x27;WEEKDAY_APPR_PROCESS_START&#x27;, &#x27;ORGANIZATION_TYPE&#x27;, &#x27;FONDKAPREMONT_MODE&#x27;, &#x27;HOUSETYPE_MODE&#x27;, &#x27;WALLSMATERIAL_MODE&#x27;, &#x27;EMERGENCYSTATE_MODE&#x27;, &#x27;TIPO_DE_DIA_PEDIDO&#x27;]</pre></div></div></div><div class=\"sk-serial\"><div class=\"sk-item\"><div class=\"sk-serial\"><div class=\"sk-item\"><div class=\"sk-estimator sk-toggleable\"><input class=\"sk-toggleable__control sk-hidden--visually\" id=\"sk-estimator-id-15\" type=\"checkbox\" ><label for=\"sk-estimator-id-15\" class=\"sk-toggleable__label sk-toggleable__label-arrow\">SimpleImputer</label><div class=\"sk-toggleable__content\"><pre>SimpleImputer(fill_value=&#x27;unknown&#x27;, strategy=&#x27;constant&#x27;)</pre></div></div></div><div class=\"sk-item\"><div class=\"sk-estimator sk-toggleable\"><input class=\"sk-toggleable__control sk-hidden--visually\" id=\"sk-estimator-id-16\" type=\"checkbox\" ><label for=\"sk-estimator-id-16\" class=\"sk-toggleable__label sk-toggleable__label-arrow\">OneHotEncoder</label><div class=\"sk-toggleable__content\"><pre>OneHotEncoder(handle_unknown=&#x27;ignore&#x27;)</pre></div></div></div></div></div></div></div></div></div></div><div class=\"sk-item\"><div class=\"sk-estimator sk-toggleable\"><input class=\"sk-toggleable__control sk-hidden--visually\" id=\"sk-estimator-id-17\" type=\"checkbox\" ><label for=\"sk-estimator-id-17\" class=\"sk-toggleable__label sk-toggleable__label-arrow\">GradientBoostingClassifier</label><div class=\"sk-toggleable__content\"><pre>GradientBoostingClassifier(random_state=42)</pre></div></div></div></div></div></div></div>"
      ],
      "text/plain": [
       "Pipeline(steps=[('under_samp',\n",
       "                 RandomUnderSampler(random_state=42, sampling_strategy=0.5)),\n",
       "                ('pre_processador',\n",
       "                 ColumnTransformer(transformers=[('transf_num',\n",
       "                                                  Pipeline(steps=[('input_num',\n",
       "                                                                   SimpleImputer()),\n",
       "                                                                  ('ss',\n",
       "                                                                   StandardScaler())]),\n",
       "                                                  ['CNT_CHILDREN',\n",
       "                                                   'AMT_INCOME_TOTAL',\n",
       "                                                   'AMT_CREDIT', 'AMT_ANNUITY',\n",
       "                                                   'AMT_GOODS_PRICE',\n",
       "                                                   'REGION_POPULATION_RELATIVE',\n",
       "                                                   'DAYS_BIRTH',\n",
       "                                                   'D...\n",
       "                                                   'FLAG_OWN_CAR',\n",
       "                                                   'FLAG_OWN_REALTY',\n",
       "                                                   'NAME_TYPE_SUITE',\n",
       "                                                   'NAME_INCOME_TYPE',\n",
       "                                                   'NAME_EDUCATION_TYPE',\n",
       "                                                   'NAME_FAMILY_STATUS',\n",
       "                                                   'NAME_HOUSING_TYPE',\n",
       "                                                   'OCCUPATION_TYPE',\n",
       "                                                   'WEEKDAY_APPR_PROCESS_START',\n",
       "                                                   'ORGANIZATION_TYPE',\n",
       "                                                   'FONDKAPREMONT_MODE',\n",
       "                                                   'HOUSETYPE_MODE',\n",
       "                                                   'WALLSMATERIAL_MODE',\n",
       "                                                   'EMERGENCYSTATE_MODE',\n",
       "                                                   'TIPO_DE_DIA_PEDIDO'])])),\n",
       "                ('gb', GradientBoostingClassifier(random_state=42))])"
      ]
     },
     "execution_count": 19,
     "metadata": {},
     "output_type": "execute_result"
    }
   ],
   "source": [
    "meu_modelo_lido = joblib.load(\"meu_modelo.joblib\")\n",
    "\n",
    "meu_modelo_lido"
   ]
  },
  {
   "cell_type": "code",
   "execution_count": 20,
   "metadata": {
    "ExecuteTime": {
     "end_time": "2022-07-29T22:19:53.719783Z",
     "start_time": "2022-07-29T22:19:53.370472Z"
    }
   },
   "outputs": [
    {
     "data": {
      "text/plain": [
       "array([0, 1], dtype=int64)"
      ]
     },
     "execution_count": 20,
     "metadata": {},
     "output_type": "execute_result"
    }
   ],
   "source": [
    "meu_modelo_lido.classes_"
   ]
  },
  {
   "cell_type": "code",
   "execution_count": 21,
   "metadata": {
    "ExecuteTime": {
     "end_time": "2022-07-29T22:20:04.377800Z",
     "start_time": "2022-07-29T22:20:01.377411Z"
    }
   },
   "outputs": [],
   "source": [
    "y_probs_entrega = meu_modelo_lido.predict_proba(X_entrega)[:, 1]"
   ]
  },
  {
   "cell_type": "code",
   "execution_count": 23,
   "metadata": {
    "ExecuteTime": {
     "end_time": "2022-07-29T22:20:11.160163Z",
     "start_time": "2022-07-29T22:20:10.758393Z"
    }
   },
   "outputs": [
    {
     "data": {
      "text/plain": [
       "array([0.64641994, 0.16585562, 0.33387648, ..., 0.17691056, 0.31988464,\n",
       "       0.248679  ])"
      ]
     },
     "execution_count": 23,
     "metadata": {},
     "output_type": "execute_result"
    }
   ],
   "source": [
    "y_probs_entrega"
   ]
  },
  {
   "cell_type": "code",
   "execution_count": 24,
   "metadata": {
    "ExecuteTime": {
     "end_time": "2022-07-29T22:20:34.307628Z",
     "start_time": "2022-07-29T22:20:30.378687Z"
    }
   },
   "outputs": [
    {
     "data": {
      "text/plain": [
       "0        149741\n",
       "1        363290\n",
       "2        436006\n",
       "3        377703\n",
       "4        188624\n",
       "          ...  \n",
       "61498    102817\n",
       "61499    343961\n",
       "61500    427828\n",
       "61501    405956\n",
       "61502    425814\n",
       "Name: SK_ID_CURR, Length: 61503, dtype: int64"
      ]
     },
     "execution_count": 24,
     "metadata": {},
     "output_type": "execute_result"
    }
   ],
   "source": [
    "df_entrega = pd.read_csv(\"application_test_student.csv\")\n",
    "\n",
    "df_entrega[\"SK_ID_CURR\"]"
   ]
  },
  {
   "cell_type": "code",
   "execution_count": 25,
   "metadata": {
    "ExecuteTime": {
     "end_time": "2022-07-29T22:20:38.910089Z",
     "start_time": "2022-07-29T22:20:38.567116Z"
    }
   },
   "outputs": [
    {
     "data": {
      "text/html": [
       "<div>\n",
       "<style scoped>\n",
       "    .dataframe tbody tr th:only-of-type {\n",
       "        vertical-align: middle;\n",
       "    }\n",
       "\n",
       "    .dataframe tbody tr th {\n",
       "        vertical-align: top;\n",
       "    }\n",
       "\n",
       "    .dataframe thead th {\n",
       "        text-align: right;\n",
       "    }\n",
       "</style>\n",
       "<table border=\"1\" class=\"dataframe\">\n",
       "  <thead>\n",
       "    <tr style=\"text-align: right;\">\n",
       "      <th></th>\n",
       "      <th>SK_ID_CURR</th>\n",
       "      <th>proba</th>\n",
       "    </tr>\n",
       "  </thead>\n",
       "  <tbody>\n",
       "    <tr>\n",
       "      <th>0</th>\n",
       "      <td>149741</td>\n",
       "      <td>0.646420</td>\n",
       "    </tr>\n",
       "    <tr>\n",
       "      <th>1</th>\n",
       "      <td>363290</td>\n",
       "      <td>0.165856</td>\n",
       "    </tr>\n",
       "    <tr>\n",
       "      <th>2</th>\n",
       "      <td>436006</td>\n",
       "      <td>0.333876</td>\n",
       "    </tr>\n",
       "    <tr>\n",
       "      <th>3</th>\n",
       "      <td>377703</td>\n",
       "      <td>0.206049</td>\n",
       "    </tr>\n",
       "    <tr>\n",
       "      <th>4</th>\n",
       "      <td>188624</td>\n",
       "      <td>0.650230</td>\n",
       "    </tr>\n",
       "    <tr>\n",
       "      <th>...</th>\n",
       "      <td>...</td>\n",
       "      <td>...</td>\n",
       "    </tr>\n",
       "    <tr>\n",
       "      <th>61498</th>\n",
       "      <td>102817</td>\n",
       "      <td>0.250371</td>\n",
       "    </tr>\n",
       "    <tr>\n",
       "      <th>61499</th>\n",
       "      <td>343961</td>\n",
       "      <td>0.370276</td>\n",
       "    </tr>\n",
       "    <tr>\n",
       "      <th>61500</th>\n",
       "      <td>427828</td>\n",
       "      <td>0.176911</td>\n",
       "    </tr>\n",
       "    <tr>\n",
       "      <th>61501</th>\n",
       "      <td>405956</td>\n",
       "      <td>0.319885</td>\n",
       "    </tr>\n",
       "    <tr>\n",
       "      <th>61502</th>\n",
       "      <td>425814</td>\n",
       "      <td>0.248679</td>\n",
       "    </tr>\n",
       "  </tbody>\n",
       "</table>\n",
       "<p>61503 rows × 2 columns</p>\n",
       "</div>"
      ],
      "text/plain": [
       "       SK_ID_CURR     proba\n",
       "0          149741  0.646420\n",
       "1          363290  0.165856\n",
       "2          436006  0.333876\n",
       "3          377703  0.206049\n",
       "4          188624  0.650230\n",
       "...           ...       ...\n",
       "61498      102817  0.250371\n",
       "61499      343961  0.370276\n",
       "61500      427828  0.176911\n",
       "61501      405956  0.319885\n",
       "61502      425814  0.248679\n",
       "\n",
       "[61503 rows x 2 columns]"
      ]
     },
     "execution_count": 25,
     "metadata": {},
     "output_type": "execute_result"
    }
   ],
   "source": [
    "entrega = pd.DataFrame({\"SK_ID_CURR\" : df_entrega[\"SK_ID_CURR\"],\n",
    "                        \"proba\": y_probs_entrega})\n",
    "\n",
    "entrega"
   ]
  },
  {
   "cell_type": "code",
   "execution_count": 26,
   "metadata": {
    "ExecuteTime": {
     "end_time": "2022-07-29T22:21:04.073546Z",
     "start_time": "2022-07-29T22:21:03.174988Z"
    }
   },
   "outputs": [],
   "source": [
    "entrega.to_csv(\"probabilidades_entrega.csv\", index=False)"
   ]
  },
  {
   "cell_type": "markdown",
   "metadata": {},
   "source": [
    "E é isso! Agora é com vocês, entrem no ciclo de modelagem, aplique as técnicas que aprendemos até aqui, e entrege um resultado bem legal! :D"
   ]
  }
 ],
 "metadata": {
  "kernelspec": {
   "display_name": "Python 3",
   "language": "python",
   "name": "python3"
  },
  "language_info": {
   "codemirror_mode": {
    "name": "ipython",
    "version": 3
   },
   "file_extension": ".py",
   "mimetype": "text/x-python",
   "name": "python",
   "nbconvert_exporter": "python",
   "pygments_lexer": "ipython3",
   "version": "3.8.3"
  }
 },
 "nbformat": 4,
 "nbformat_minor": 4
}
