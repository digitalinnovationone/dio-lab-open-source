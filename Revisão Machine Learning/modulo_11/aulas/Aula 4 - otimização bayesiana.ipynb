{
 "cells": [
  {
   "cell_type": "markdown",
   "metadata": {},
   "source": [
    "# Aula 4 - otimização bayesiana\n",
    "\n",
    "Na aula de hoje, vamos explorar os seguintes tópicos em Python:\n",
    "\n",
    "- 1) Introdução\n",
    "- 2) Otimização bayesiana\n",
    "- 3) Ferramentas de visualização da skopt"
   ]
  },
  {
   "cell_type": "markdown",
   "metadata": {},
   "source": [
    "Na parte prática da aula de hoje, usaremos a biblioteca [scikit-optimize](https://scikit-optimize.github.io/stable/).\n",
    "\n",
    "Para instalá-la, o de sempre:\n",
    "\n",
    "`pip install scikit-optimize`"
   ]
  },
  {
   "cell_type": "markdown",
   "metadata": {},
   "source": [
    "__________"
   ]
  },
  {
   "cell_type": "code",
   "execution_count": 1,
   "metadata": {
    "ExecuteTime": {
     "end_time": "2022-07-22T22:05:14.189819Z",
     "start_time": "2022-07-22T22:04:40.719889Z"
    }
   },
   "outputs": [],
   "source": [
    "from ml_utils import *"
   ]
  },
  {
   "cell_type": "markdown",
   "metadata": {},
   "source": [
    "____\n",
    "____\n",
    "_____"
   ]
  },
  {
   "cell_type": "markdown",
   "metadata": {},
   "source": [
    "## 1) Introdução\n",
    "\n",
    "Desde que conhecemos os primeiros estimadores utilizados para a construção de modelos, uma preocupação adicional nos acompanhou: o ajuste de valores dos hiperparâmetros.\n",
    "\n",
    "Quase todos os estimadores que conhecemos têm um ou mais **hiperparâmetros** associados.\n",
    "\n",
    "Como vimos, os hiperparâmetros influenciam o comportamento do modelo (e, portanto, são muito importantes), mas eles não são determinados a partir dos dados! É nosso dever, como cientistas de dados, fornecer valores adequados para os hiperparâmetros.\n",
    "\n",
    "No começo de nossa jornada, nós utilizávamos os valores default para os hiperparâmetros, ou então, mudávamos manualmente alguns valores, para sensibilizar a influência dos hiperparâmetros no modelo final.\n",
    "\n",
    "Mas logo percebemos que essa não era a melhor abordagem --- precisávamos de um método mais sistemàtico para a busca de bons valores para os hiperparâmetros!"
   ]
  },
  {
   "cell_type": "markdown",
   "metadata": {},
   "source": [
    "_______\n",
    "\n",
    "Para este fim, introduzimos inicialmente o **grid search**, que **testa exaustivamente** combinações explícitas de valores de hiperparâmetros.\n",
    "\n",
    "Apesar de simples e direta, esta é uma abordagem computacionalmente muito custosa (sentimos isso na pele, ao rodar rotinas de grid search que demoram horas, ou até mesmo dias!). \n",
    "\n",
    "De fato, esta é uma abordagem de força bruta que, aliás, não nos dá garantia nenhuma: é perfeitamente possível que nenhuma das combinações que estabelecemos seja boa boa! Oras, há muitos casos em que o **espaço de hiperparâmetros** é infinito (basta considerar um hiperparâmetro dado por um float que não é limitado).\n",
    "\n",
    "<img src=https://s3-sa-east-1.amazonaws.com/lcpi/4ad728dc-ab11-46a7-957a-003b1034099b.gif width=400>"
   ]
  },
  {
   "cell_type": "markdown",
   "metadata": {},
   "source": [
    "______\n",
    "\n",
    "Para endereçar este problema, introduzimos então o **random search**.\n",
    "\n",
    "Neste caso, ao invés de disponibilizarmos valores específicos de hiperparâmetros a serem combinados, disponibilizamos **intervalos** ou explicitamente **distribuições de probabilidade** sobre o espaço de parâmetros de cada hiperparâmetro, e **amostramos valores aleatórios** destas distribuições para gerar as combinações.\n",
    "\n",
    "Com essa abordagem estocástica, há a possibilidade de encontrarmos boas combinações, que não estariam inclusas nos valores explícitos que passamos para o grid search.\n",
    "\n",
    "Por outro lado, com o random search também não temos garantia alguma que as melhores combinações serão encontradas, sobretudo porque **todas as combinações são amostradas de maneira aleatória**. Ou seja, todas as combinações são amostradas **sem considerar** a performance das combinações anteriores. Com esta metodologia, fica difícil garantirmos que efetivamente encontraremos boas combinações...\n",
    "\n",
    "<img src=https://s3-sa-east-1.amazonaws.com/lcpi/00bcaf02-32e8-46ca-8bf3-8f1db62dbcf2.gif width=400>"
   ]
  },
  {
   "cell_type": "markdown",
   "metadata": {},
   "source": [
    "Metodologia de grid search (à esquerda) vs random search (à direita):\n",
    "\n",
    "<img src=https://www.researchgate.net/profile/Minrui-Zheng/publication/328252103/figure/fig4/AS:766093471801344@1559662325592/Distribution-of-sampled-hyperparameters-a-grid-search-b-random-search.png width=600>"
   ]
  },
  {
   "cell_type": "markdown",
   "metadata": {},
   "source": [
    "_________\n",
    "\n",
    "Então, podemos nos perguntar: qual seria o próximo passo? Existiria um método ainda mais eficiente e \"educado\" para fazer a otimização de hiperparâmetros?\n",
    "\n",
    "Será que não existe alguma forma de buscarmos por hiperparâmetros de maneira estocástica, mas que ao mesmo tempo nos possibilite algum direcionamento para que tenhamos mais chances de encontrar boas combinações no espaço de hiperparâmetros? Algo assim:\n",
    "\n",
    "<img src=https://s3-sa-east-1.amazonaws.com/lcpi/d7b84011-d606-4a05-8a49-3d692071b4f5.gif width=400>\n",
    "\n",
    "A resposta é: sim! Hoje, conheceremos o método de **otimização Bayesiana**, aplicada à otimização de hiperparâmetros, cujo objetivo é exatamente este!\n",
    "\n",
    "> importante: como veremos, a principal vantagem da otimização Bayesiana é conseguirmos bons conjuntos de hiperparâmetros com **poucas buscas**, isto é, em poucos ciclos de treinamento e validação. Isso é muito bom, sobretudo em casos em que é muito custoso (financeiramente ou em tempo) rodar os testes de parâmetros várias vezes --- em alguns casos, rodar o modelo uma única vez para apenas um conjunto de hiperparâmetros pode demorar horas e, dessa forma, é inviável realizarmos uma busca de parâmetros com grid ou random search (com muitas iterações), o que pode ser necessário para encontrarmos um bom conjunto de hiperparâmetros. São em situações como essa que a otimização Bayesiana pode ser muitíssimo útil!"
   ]
  },
  {
   "cell_type": "markdown",
   "metadata": {},
   "source": [
    "_________\n",
    "_________\n",
    "_________"
   ]
  },
  {
   "cell_type": "markdown",
   "metadata": {},
   "source": [
    "## 2) Otimização Bayesiana\n",
    "\n",
    "O objetivo da otimização baeysiana é o mesmo que tínhamos com o grid e random search: **determinar os valores adequados para um conjunto de hiperparâmetros**, de modo que a combinação de valores **proporcione os melhores valores para uma métrica de avaliação calculada em dados de validação**.\n",
    "\n",
    "O que muda com a otimização baeysiana é a forma como isso será feito.\n",
    "\n",
    "Já descrevemos os problemas que ambos grid e random search têm. Sobretudo, o fato das combinações de valores dos hiperparâmetros serem independentes entre si, sem levar em consideração combinações anteriores, que poderiam ser boas.\n",
    "\n",
    ">Pra entender isso melhor, imagine o cenário em que queremos otimizar 3 hiperparâmetros.\n",
    "<br><br>\n",
    ">Pode ser que, em uma combinação, encontremos bons valores para 2 dos 3 hiperparâmetros; ja, na próxima, como os 3 valores serão novos, pode ser que os 3 sejam ruins. Não seria interessante de conseguíssemos manter a informação sobre os valores bons que encontramos?\n",
    "\n",
    "Esse é o espírito da otimização baeysiana!"
   ]
  },
  {
   "cell_type": "markdown",
   "metadata": {},
   "source": [
    "Pra entender isso intuitivamente, considere a figura a seguir (suponha que o \"score\" é um erro, então, quanto menor, melhor):\n",
    "\n",
    "<img src=https://miro.medium.com/max/1120/1*MiNXGrkk5BbjfkNAXZQSNA.png width=400>\n",
    "\n",
    "Pergunta: onde você concentraria a busca por valores do hiperparâmetro `n_estimators`?\n",
    "\n",
    "Olhando pro gráfico, existe claramente uma região no espaço do hiperparâmetro `n_estimators` que é melhor: menos de 200 árvores.\n",
    "\n",
    "**Uma vez que temos este conhecimento**, realmente não faz sentido algum que os próximos valores que vamos testar sejam maiores que 200, não é mesmo?\n",
    "\n",
    "Esse é o espírito da otimização bayesiana: **utilizamos a informação que temos quanto ao score alcançado com valores iniciais de hiperparâmetros para guiar a escolha dos próximos valores!**\n",
    "\n",
    "E aqui já fica claro o porquê do método receber o título \"bayesiano\": de fato, estamos nos utilizando da \"filosofia\" bayesiana de ajuste de estratégia conforme agregamos novas informações! "
   ]
  },
  {
   "cell_type": "markdown",
   "metadata": {},
   "source": [
    ">E é por isso que a otimização bayesiana é tão mais eficiente que as estratégias anteriores: gastamos um pouco mais de energia para propor combinações de hiperparâmetros **levando em consideração** as combinações passadas e suas respectivas perfomances.\n",
    "<br><br>\n",
    "Com isso, podemos focar apenas em testar **combinações promissoras**, e não precisamos gastar energia em procurar por combinações que sabemos não ser tão boas.\n",
    "\n",
    "Faz sentido, não é mesmo?\n",
    "\n",
    "Agora, precisamos apenas entender **como** é possível implementar isso."
   ]
  },
  {
   "cell_type": "markdown",
   "metadata": {},
   "source": [
    "### 2.1) Função objetivo\n",
    "\n",
    "É razoável assumirmos que existe uma função que relaciona a métrica de performance (score) que temos interesse de otimizar e os hiperparâmetros, não é mesmo?\n",
    "\n",
    "Sabendo que as métricas de performance essencialmente comparam os targets preditos com os targets reais, e sabendo que os targets preditos (pela hipótese) são influenciados pelos hiperparâmetros, é bem natural que assumamos que esta função existe.\n",
    "\n",
    "Como nosso objetivo será encontrar valores que **otimizam** a função, costumamos chamá-la de **função objetivo**. Agora, o ponto é que pode ser extremamente difícil **escrever esta função explicitamente**, de modo que ela nos parece como uma \"caixa preta\": \n",
    "\n",
    "<img src=https://s3-sa-east-1.amazonaws.com/lcpi/8a5137ea-89b9-42f7-8813-42a040de5f10.png width=600>\n",
    "\n",
    "Para fixarmos a terminologia, vamos chamar, de maneira bem genérica, a função objetivo de $F(x)$; onde $x$ é um determinado conjunto de hiperparâmetros."
   ]
  },
  {
   "cell_type": "markdown",
   "metadata": {},
   "source": [
    "Mas, veja, queremos otimizar uma função objetivo **sem nem saber qual é sua dependência funcional com os hiperparâmetros**. Problemas deste tipo são chamados de **otimização de caixa-preta**, e existem várias técnicas para abordá-los. Recomendo [este material](https://www.lix.polytechnique.fr/~dambrosio/blackbox_material/Cassioli_1.pdf) aos interessados.\n",
    "\n",
    "<img src=https://www.researchgate.net/profile/Abraham-Duarte/publication/236164556/figure/fig1/AS:393408515461120@1470807307227/Schematic-representation-of-the-black-box-optimization-framework.png width=500>\n",
    "\n",
    "Quando formos pra prática, construiremos a função objetivo implicitamente, como o resultado retornado por uma **métrica de avaliação** dado o treinamento de um modelo. \n",
    "\n",
    "Na prática, isso nos será suficiente, pois bastará que tomemos **alguns pontos** desta função, para seguir com sua otimização, isso graças à introdução do **surrogate model**."
   ]
  },
  {
   "cell_type": "markdown",
   "metadata": {},
   "source": [
    "### 2.2) Surrogate model\n",
    "\n",
    "Na prática, iremos apenas **avaliar alguns pontos da função objetivo** e construir um **modelo probabilístico dela** com base nestes pontos, que serão tratados como **amostras**.\n",
    "\n",
    "Este modelo probabílistico é conhecido como **surrogate model (modelo substituto ou emulador)**, pois ele emula probabilisticamente o que seria a função real, sem a necessidade dela ser reconstruída explicitamente. E o melhor, dado que o modelo surrogate é bem mais simples que a função objetivo, será muito mais fácil otimizá-lo do que a função objetivo em si!\n",
    "\n",
    "<img src=https://www.researchgate.net/profile/Seung-Seop-Jin-2/publication/297605027/figure/fig1/AS:339392045568000@1457928777016/Concept-of-sequential-surrogate-modelling.png width=600>\n",
    "\n",
    "O ponto é que nosso modelo surrogate será atualizado **de maneira bayesiana**, isto é, levando em consideração scores anteriores (priori), para sugerir as próximas combinações (posteriori) de hiperparâmetros de maneira mais principada, isto é, trabalhamos com probabilidades condicionais:\n",
    "\n",
    "$$P(score|hiperparâmetros)$$\n",
    "\n",
    "E, claro, o modelo substituto é muito mais fácil de otimizar do que a função objetivo, afinal, a função objetivo é desconhecida, enquanto o surrogate é construído a partir dos pontos que são amostrados (sendo atualizado a cada novos pontos)."
   ]
  },
  {
   "cell_type": "markdown",
   "metadata": {},
   "source": [
    "Para entender isso melhor, suponha que temos 8 pontos que foram obtidos ao passarmos 8 valores distintos de `max_depth` pro nosso modelo e que queremos minimizar alguma métrica de avaliação (score), como o MSE. Assim, cada ponto obtido é um par $(x, F(x))$, ou seja, estes pontos são amostrados da função objetivo desconhecida, mas que será emulada pela surrogate function. \n",
    "\n",
    "<img src=https://s3-sa-east-1.amazonaws.com/lcpi/a9c87cb2-eb2c-43be-a5d8-b7b2bc953174.png width=600>"
   ]
  },
  {
   "cell_type": "markdown",
   "metadata": {},
   "source": [
    "Agora, com base nestes pontos que temos conhecimento, podemos escolher outros pontos (isto é, conjunto de hiperparâmetros) próximos dos mínimos, e distantes dos máximos, para serem testados no modelo de ML. Com isso, podemos atualizar nosso surrogate model nessas áreas de maior interesse. Depois de uma certa quantidade de iterações, nossa expectativa é que cheguemos próximos do mínimo global.\n",
    "\n",
    "<img src=https://s3-sa-east-1.amazonaws.com/lcpi/a0308285-7778-4e6e-b4b9-97c2dad03b31.png width=600>"
   ]
  },
  {
   "cell_type": "markdown",
   "metadata": {},
   "source": [
    "Operacionalmente, seguiremos o seguinte passo-a-passo:\n",
    "\n",
    "- Escolhemos uma combinação aleatória de hiperparâmetros;\n",
    "- Treinamos e avaliamos o modelo com este conjunto, assim, tomamos um ponto da função objetivo;\n",
    "- Construiremos um modelo probabilístico surrogate para a função objetivo com esta informação;\n",
    "- Otimizaremos o modelo surrogate, encontrando bons valores para os hiperparâmetros nesta função;\n",
    "- Utilizamos estes valores encontrados e damos de input para a função, e amostramos um novo ponto;\n",
    "- Atualizamos o modelo surrogate, incorporando o novo ponto amostrado;\n",
    "- Repetimos os últimos 3 passos, até atingirmos o critério de parada (em geral, um número pré-definido de passos).\n"
   ]
  },
  {
   "cell_type": "markdown",
   "metadata": {},
   "source": [
    "Claro, a esta altura você pode estar se perguntando, afinal, **como** operacionalmente construímos o modelo surrogate a partir dos pontos amostrados da função objetivo, não é mesmo?"
   ]
  },
  {
   "cell_type": "markdown",
   "metadata": {},
   "source": [
    "Um método muito utilizado para construir o surrogate model é o chamado **Tree-structured Parzen Estimator** (TPE). Uma biblioteca de otimização bayesiana que se utiliza desta técnica é a [hyperopt](http://hyperopt.github.io/hyperopt/). Aos interessados, sugiro dar uma olhada na documentação e experimentar também esta biblioteca, que tende a dar ótimos resultados."
   ]
  },
  {
   "cell_type": "markdown",
   "metadata": {},
   "source": [
    "Na aula de hoje, vamos usar a `skopt`, biblioteca de otimização bayesiana que se utiliza de [processos gaussianos](https://scikit-learn.org/stable/modules/gaussian_process.html) para a construção do surrogate. Sugiro muito a leitura [deste post interativo](https://distill.pub/2019/visual-exploration-gaussian-processes/) para conhecer um pouco mais sobre este método; e [este post](https://towardsdatascience.com/the-intuitions-behind-bayesian-optimization-with-gaussian-processes-7e00fcc898a0) para uma intuição quanto a sua aplicação como modelo surrogate da otimização bayesiana."
   ]
  },
  {
   "cell_type": "markdown",
   "metadata": {},
   "source": [
    "Um processo gaussiano permite que **aproximemos uma função de maneira probabilística**, ao estabelecer intervalos de confiança para os valores da função ao redor de pontos $(x, F(x))$ aleatoriamente amostrados:\n",
    "\n",
    "<img src=https://miro.medium.com/max/1400/0*09NmB3U7dZ8bvU81.png width=700>\n",
    "\n",
    "Para maiores informações sobre processos gaussianos, seu funcionamento, e mais intuição, recomendo a leitura [deste post](https://towardsdatascience.com/an-intuitive-guide-to-gaussian-processes-ec2f0b45c71d).\n",
    "\n"
   ]
  },
  {
   "cell_type": "markdown",
   "metadata": {},
   "source": [
    "Não nos preocuparemos com a matemática por trás destes métodos. (Aos interessados, sugiro a leitura [deste artigo](https://www.diva-portal.org/smash/get/diva2:1223709/FULLTEXT01.pdf), que compara diferentes modelos surrogates e técnicas de otimização de hiperparâmetros, no contexto de redes neurais, embora as ideias sejam válidas no geral). E saiba que há muitas outras técnicas para a construção do surrogate model -- algumas bibliotecas usam inclusive Random Forests e o Gradient Boosting para isso! "
   ]
  },
  {
   "cell_type": "markdown",
   "metadata": {},
   "source": [
    "Muito bem! Com os métodos de construção do modelo surrogate, sabemos como, dada a informação de novos pontos (amostras da função objetivo), o surrogate é atualizado. Mas ainda resta uma pergunta importantíssima: qual é exatamente este critério de escolha de novos pontos, ou seja, de regiões promissoras no espaço de hiperparâmetros? **Como**, a cada iteração, os próximos valores de hiperparâmetros são propostos, com o objetivo de minimizar a função objetivo?\n",
    "\n",
    "Isto é feito de acordo com a chamada **função de seleção**."
   ]
  },
  {
   "cell_type": "markdown",
   "metadata": {},
   "source": [
    "### 2.3) Função de seleção (aka função de aquisição/acquisition function)\n",
    "\n",
    "O objetivo da função de seleção é muito simples: **determinar os valores dos hiperparâmetros que são escolhidos do modelo surrogate** a cada passo.\n",
    "\n",
    "Há vários critérios possíveis, mas o mais comum é conhecido como **Expected Improvement** (melhoria esperada), e ela é uma função do modelo surrogate. Seu uso é bem direto: **propomos novos valores de hiperparâmetros de modo que o expected improvement seja maximizado**. \n",
    "\n",
    "Podemos omitir aqui os detalhes matemáticos, o importante é lembrarmos que é o papel da função de seleção estabelecer o critério segundo o qual o modelo surrogate irá proporcionar os valores de hiperparâmetros a cada iteração.\n",
    "\n",
    "E, com isso, conseguimos, a cada iteração, propor candidatos a valores de hiperparâmetros que melhoram o modelo surrogate. \n",
    "\n",
    "<img src=https://www.researchgate.net/publication/358344674/figure/fig2/AS:1119596249645056@1643943955386/Two-exemplary-iterations-of-a-Bayesian-Optimization-BO-on-a-1D-function-The-BO.png width=600>"
   ]
  },
  {
   "cell_type": "markdown",
   "metadata": {},
   "source": [
    "Vamos ver como isso funciona iterativamente:\n",
    "\n",
    "<img src=https://miro.medium.com/max/1400/1*YVkGpTThrtnsNCeBjRr1lw.gif width=700>\n",
    "\n",
    "A linha f em azul representa a função objetivo desconhecida. Ela é iterativamente aproximada pelo modelo substituto criado por um processo gaussiano (GP) o qual é representado pela linha laranja (+ intervalos de confiança). À medida que o número de iterações aumenta, melhor o modelo é capaz de determinar onde f é minimizado. A função de aquisição (EI - Expected Impute) indica onde no espaço de busca o modelo substituto deve se orientar. Os novos pontos a serem amostrados são justamente aqueles em que a função de aquisição é máxima, a cada iteração!"
   ]
  },
  {
   "cell_type": "markdown",
   "metadata": {},
   "source": [
    "Agora, para que a função de seleção funcione, é, naturalmente, necessário que tenhamos um **registro** dos pontos que são amostrados a cada iteração, para que o teorema de Bayes entre em ação!"
   ]
  },
  {
   "cell_type": "markdown",
   "metadata": {},
   "source": [
    "### 2.4) Histórico de registros\n",
    "\n",
    "O histórico de registros, que é uma tupla com **(valores de hiperparâmetros, respectivo score)** (isto é, $(x, F(x))$, onde $F(x)$ é a função objetivo, e $x$ é um determinado conjunto de hiperparâmetros), é muitíssimo importante para que seja possível a construção de um modelo surrogate que, a cada passo, melhora a descrição probabilística da função objetivo.\n",
    "\n",
    "Isso é importante pois, quão melhor for nossa descrição da função objetivo, teremos que o passo disponibilizado pelo expected improvement irá proporcionar hiperparâmetros mais próximos do ótimo da função objetivo. \n",
    "\n",
    "E é aqui que o teorema de Bayes entra em ação: a partir de novas evidências (amostras do surrogate), atualizamos a nossa descrição da funcção objetivo com cada vez mais detalhes, e, assim, ela fica mais fácil de ser otimizada, sem precisar ser explicitamente construída!\n",
    "\n",
    "<img src=https://miro.medium.com/max/1400/1*RQ-pAwQ88yC904QppChGPQ.png width=500>\n",
    "\n",
    "<img src=https://miro.medium.com/max/1400/1*bSLAe1LCj3mMKfaZsQWCrw.png width=500>"
   ]
  },
  {
   "cell_type": "markdown",
   "metadata": {},
   "source": [
    "____________\n",
    "\n",
    "Agora que já conhecemos todos os ingredientes importantes, podemos dizer enunciar o passo-a-passo da otimização bayesiana:\n",
    "\n",
    "- Primeiro definimos um espaço de busca para cada um dos hiperparâmetros. Há a possibilidade de impor uma distribuição de probabilidade sobre o espaço;\n",
    "- Na primeira iteração, escolhemos aleatoriamente (segundo a distribuição imposta, se houver) um ponto do espaço de hiperparâmetros (isto é, uma combinação de valores aleatoriamente escolhidos). Esse é o $x$;\n",
    "- Tomando este input $x$, amostramos pontos da função objetivo, ao usar a combinação amostrada de valores de hiperparâmetros para treinar o modelo, cujo score a ser otimizado (que será a métrica de avaliação de interesse) é calculado. Esse é o $F(x)$;\n",
    "- $(x, F(x))$ é tomado como a priori, e daí construímos o modelo surrogate probabilístico da função objetivo (no caso do skopt com processos gaussianos);\n",
    "- Em um loop:\n",
    "    - Atualizamos a função de seleção, que irá determinar os próximos valores $x$ para os hiperparâmetros a serem escolhidos do espaço de hiperparâmetros;\n",
    "    - Calculamos $F(x)$ e atualizamos o histórico de valores $(x, F(x))$, que é utilizado pelo algoritmo para a atualização do modelo surrogate;\n",
    "    - Repetimos o processo até o critério de parada (isto é, o número máximo de iterações que determinamos).\n"
   ]
  },
  {
   "cell_type": "markdown",
   "metadata": {},
   "source": [
    "___________\n",
    "\n",
    "### Resumo/glossário\n",
    "\n",
    "Um resumo dos conceitos que vimos acima, ingredientes para a otimização Bayesiana:\n",
    "\n",
    "- **Função objetivo:** É a função que recebe um conjunto de hiperparâmetros e retorna uma métrica escalar que precisa ser minimizada ou maximizada. No nosso caso ela é desconhecida.\n",
    "- **Espaço de hiperparâmetros/espaço de busca:** São os limites mínimo e máximo para cada hiperparâmetro que será avaliado.\n",
    "- **Surrogate model:** Modelo probabilístico utilizado para aproximar a função objetivo.\n",
    "- **Processos Gaussianos:** É o método que cria o surrogate model. Ele e o método Tree-Parzen Estimators são os mais comuns de serem utilizados, mas algumas bibliotecas também usam Random Forests e o Gradient Boosting. \n",
    "- **Função de seleção/aquisição:** É técnica que irá definir qual o próximos conjunto de hiperparâmetros a ser testado, para que sejam passados para o modelo de ML que é scorado a cada iteração, amostrando assim a função objetivo.\n",
    "- **Expected Improvement:** É uma das formas de se fazer a função de seleção. O pensamento central para toda essa abordagem é que a extensão em que a função substituta é capaz de aproximar a função objetivo é assumida como dependente de quantas iterações o método pode fazer. Em palavras simples: presume-se que o desempenho aumenta à medida que o número de iterações aumenta."
   ]
  },
  {
   "cell_type": "markdown",
   "metadata": {},
   "source": [
    "__________\n",
    "\n",
    "E é isso!\n",
    "\n",
    "Para os interessados em maiores detalhes matemáticos, recomendo fortemente [este artigo](http://proceedings.mlr.press/v28/bergstra13.pdf), e [este também](https://proceedings.neurips.cc/paper/2011/file/86e8f7ab32cfd12577bc2619bc635690-Paper.pdf), que reporta resultados incríveis a favor do uso de otimização bayesiana como alternativa aos métodos tradicionais de otimização de hiperparâmetros.\n",
    "\n",
    "Agora, vamos ver o método funcionando na prática!"
   ]
  },
  {
   "cell_type": "markdown",
   "metadata": {},
   "source": [
    "______________"
   ]
  },
  {
   "cell_type": "code",
   "execution_count": 12,
   "metadata": {
    "ExecuteTime": {
     "end_time": "2022-07-22T00:38:45.997123Z",
     "start_time": "2022-07-22T00:38:45.892669Z"
    }
   },
   "outputs": [],
   "source": [
    "df = pd.read_csv(\"../datasets/german_credit_data.csv\", index_col=0)\n",
    "\n",
    "X = df.drop(columns=[\"Risk\"]).select_dtypes(include=np.number)\n",
    "y = df[\"Risk\"]\n",
    "\n",
    "X_train, X_test, y_train, y_test = train_test_split(X, y, test_size=0.2, random_state=42, stratify=y)"
   ]
  },
  {
   "cell_type": "code",
   "execution_count": 15,
   "metadata": {
    "ExecuteTime": {
     "end_time": "2022-07-22T00:39:17.150317Z",
     "start_time": "2022-07-22T00:39:16.369246Z"
    },
    "scrolled": true
   },
   "outputs": [
    {
     "name": "stdout",
     "output_type": "stream",
     "text": [
      "Métricas de avaliação de treino - com cutoff = 0.50\n"
     ]
    },
    {
     "data": {
      "image/png": "[encoded data removed]",
      "text/plain": [
       "<Figure size 432x288 with 2 Axes>"
      ]
     },
     "metadata": {
      "needs_background": "light"
     },
     "output_type": "display_data"
    },
    {
     "name": "stdout",
     "output_type": "stream",
     "text": [
      "              precision    recall  f1-score   support\n",
      "\n",
      "         bad       0.94      0.48      0.64       240\n",
      "        good       0.82      0.99      0.89       560\n",
      "\n",
      "    accuracy                           0.83       800\n",
      "   macro avg       0.88      0.73      0.76       800\n",
      "weighted avg       0.85      0.83      0.82       800\n",
      "\n",
      "\n",
      "################################################################################\n",
      "\n",
      "Métricas de avaliação de teste - com cutoff = 0.50\n"
     ]
    },
    {
     "data": {
      "image/png": "[encoded data removed]",
      "text/plain": [
       "<Figure size 432x288 with 2 Axes>"
      ]
     },
     "metadata": {
      "needs_background": "light"
     },
     "output_type": "display_data"
    },
    {
     "name": "stdout",
     "output_type": "stream",
     "text": [
      "              precision    recall  f1-score   support\n",
      "\n",
      "         bad       0.45      0.25      0.32        60\n",
      "        good       0.73      0.87      0.79       140\n",
      "\n",
      "    accuracy                           0.69       200\n",
      "   macro avg       0.59      0.56      0.56       200\n",
      "weighted avg       0.65      0.69      0.65       200\n",
      "\n"
     ]
    }
   ],
   "source": [
    "pipe = Pipeline([(\"gb\", GradientBoostingClassifier(random_state=42))])\n",
    "\n",
    "pipe.fit(X_train, y_train)\n",
    "\n",
    "_ = clf_metrics_train_test(pipe, X_train, y_train, X_test, y_test, cutoff=0.5, \n",
    "                           plot_conf_matrix=True, print_cr=True, pos_label=\"bad\")"
   ]
  },
  {
   "cell_type": "markdown",
   "metadata": {},
   "source": [
    "Mas, agora sabemos como usar todas as features!"
   ]
  },
  {
   "cell_type": "code",
   "execution_count": 3,
   "metadata": {
    "ExecuteTime": {
     "end_time": "2022-07-22T22:05:46.022776Z",
     "start_time": "2022-07-22T22:05:45.988793Z"
    }
   },
   "outputs": [],
   "source": [
    "def pipe_pre_process_german(drop_not_features=[\"Risk\"], col_target=\"Risk\",\n",
    "                             inputer_num_strategy=\"mean\",\n",
    "                             encoding=\"ordinal\"):\n",
    "    '''\n",
    "    - inputer_num_strategy (str): \"mean\", \"median\";\n",
    "    - encoding (str): \"onehot\" para OneHotEncoder; \"ordinal\" OrdinalEncoder;\n",
    "    '''\n",
    "    \n",
    "    df = pd.read_csv(\"../datasets/german_credit_data.csv\", index_col=0)\n",
    "\n",
    "    X = df.drop(columns=drop_not_features)\n",
    "    y = df[col_target]\n",
    "    \n",
    "    X_train, X_test, y_train, y_test = train_test_split(X, y, test_size=0.2, random_state=42, stratify=y)\n",
    "\n",
    "    # ==========================================================\n",
    "\n",
    "    pipe_features_num = Pipeline([(\"input_num\", SimpleImputer(strategy=inputer_num_strategy)),\n",
    "                                  (\"std\", StandardScaler())])\n",
    "\n",
    "    features_num = X_train.select_dtypes(include=np.number).columns.tolist()\n",
    "\n",
    "    # ==========================================================\n",
    "\n",
    "    if encoding == \"onehot\":\n",
    "    \n",
    "        pipe_features_cat = Pipeline([(\"input_cat\", SimpleImputer(strategy=\"constant\", fill_value=\"unknown\")),\n",
    "                                      (\"onehot\", OneHotEncoder(handle_unknown=\"ignore\"))])\n",
    "        \n",
    "    elif encoding == \"ordinal\":\n",
    "        \n",
    "        pipe_features_cat = Pipeline([(\"input_cat\", SimpleImputer(strategy=\"constant\", fill_value=\"unknown\")),\n",
    "                                      (\"ordinal\", OrdinalEncoder(handle_unknown=\"use_encoded_value\",\n",
    "                                                                 unknown_value=-1))])\n",
    "    \n",
    "    else:\n",
    "        \n",
    "        raise ValueError(\"Únicos encodings disponíveis são 'ordinal' e 'onehot'\")\n",
    "        \n",
    "        \n",
    "    features_cat = X_train.select_dtypes(exclude=np.number).columns.tolist()\n",
    "\n",
    "    # ==========================================================\n",
    "\n",
    "    pre_processador = ColumnTransformer([(\"transf_num\", pipe_features_num, features_num),\n",
    "                                         (\"transf_cat\", pipe_features_cat, features_cat)])\n",
    "\n",
    "    return X_train, X_test, y_train, y_test, pre_processador"
   ]
  },
  {
   "cell_type": "markdown",
   "metadata": {},
   "source": [
    "Vamos construir um modelo com os hiperparâmetros default (mas `learning_rate=0.1`)"
   ]
  },
  {
   "cell_type": "code",
   "execution_count": 4,
   "metadata": {
    "ExecuteTime": {
     "end_time": "2022-07-22T22:08:29.559831Z",
     "start_time": "2022-07-22T22:08:29.355934Z"
    }
   },
   "outputs": [],
   "source": [
    "X_train, X_test, y_train, y_test, pre_processador = pipe_pre_process_german(drop_not_features=[\"Risk\"], col_target=\"Risk\",\n",
    "                                                                             inputer_num_strategy=\"mean\",\n",
    "                                                                             encoding=\"ordinal\")"
   ]
  },
  {
   "cell_type": "code",
   "execution_count": 18,
   "metadata": {
    "ExecuteTime": {
     "end_time": "2022-07-22T00:39:50.002059Z",
     "start_time": "2022-07-22T00:39:49.931097Z"
    }
   },
   "outputs": [
    {
     "data": {
      "text/html": [
       "<style>#sk-container-id-2 {color: black;background-color: white;}#sk-container-id-2 pre{padding: 0;}#sk-container-id-2 div.sk-toggleable {background-color: white;}#sk-container-id-2 label.sk-toggleable__label {cursor: pointer;display: block;width: 100%;margin-bottom: 0;padding: 0.3em;box-sizing: border-box;text-align: center;}#sk-container-id-2 label.sk-toggleable__label-arrow:before {content: \"▸\";float: left;margin-right: 0.25em;color: #696969;}#sk-container-id-2 label.sk-toggleable__label-arrow:hover:before {color: black;}#sk-container-id-2 div.sk-estimator:hover label.sk-toggleable__label-arrow:before {color: black;}#sk-container-id-2 div.sk-toggleable__content {max-height: 0;max-width: 0;overflow: hidden;text-align: left;background-color: #f0f8ff;}#sk-container-id-2 div.sk-toggleable__content pre {margin: 0.2em;color: black;border-radius: 0.25em;background-color: #f0f8ff;}#sk-container-id-2 input.sk-toggleable__control:checked~div.sk-toggleable__content {max-height: 200px;max-width: 100%;overflow: auto;}#sk-container-id-2 input.sk-toggleable__control:checked~label.sk-toggleable__label-arrow:before {content: \"▾\";}#sk-container-id-2 div.sk-estimator input.sk-toggleable__control:checked~label.sk-toggleable__label {background-color: #d4ebff;}#sk-container-id-2 div.sk-label input.sk-toggleable__control:checked~label.sk-toggleable__label {background-color: #d4ebff;}#sk-container-id-2 input.sk-hidden--visually {border: 0;clip: rect(1px 1px 1px 1px);clip: rect(1px, 1px, 1px, 1px);height: 1px;margin: -1px;overflow: hidden;padding: 0;position: absolute;width: 1px;}#sk-container-id-2 div.sk-estimator {font-family: monospace;background-color: #f0f8ff;border: 1px dotted black;border-radius: 0.25em;box-sizing: border-box;margin-bottom: 0.5em;}#sk-container-id-2 div.sk-estimator:hover {background-color: #d4ebff;}#sk-container-id-2 div.sk-parallel-item::after {content: \"\";width: 100%;border-bottom: 1px solid gray;flex-grow: 1;}#sk-container-id-2 div.sk-label:hover label.sk-toggleable__label {background-color: #d4ebff;}#sk-container-id-2 div.sk-serial::before {content: \"\";position: absolute;border-left: 1px solid gray;box-sizing: border-box;top: 0;bottom: 0;left: 50%;z-index: 0;}#sk-container-id-2 div.sk-serial {display: flex;flex-direction: column;align-items: center;background-color: white;padding-right: 0.2em;padding-left: 0.2em;position: relative;}#sk-container-id-2 div.sk-item {position: relative;z-index: 1;}#sk-container-id-2 div.sk-parallel {display: flex;align-items: stretch;justify-content: center;background-color: white;position: relative;}#sk-container-id-2 div.sk-item::before, #sk-container-id-2 div.sk-parallel-item::before {content: \"\";position: absolute;border-left: 1px solid gray;box-sizing: border-box;top: 0;bottom: 0;left: 50%;z-index: -1;}#sk-container-id-2 div.sk-parallel-item {display: flex;flex-direction: column;z-index: 1;position: relative;background-color: white;}#sk-container-id-2 div.sk-parallel-item:first-child::after {align-self: flex-end;width: 50%;}#sk-container-id-2 div.sk-parallel-item:last-child::after {align-self: flex-start;width: 50%;}#sk-container-id-2 div.sk-parallel-item:only-child::after {width: 0;}#sk-container-id-2 div.sk-dashed-wrapped {border: 1px dashed gray;margin: 0 0.4em 0.5em 0.4em;box-sizing: border-box;padding-bottom: 0.4em;background-color: white;}#sk-container-id-2 div.sk-label label {font-family: monospace;font-weight: bold;display: inline-block;line-height: 1.2em;}#sk-container-id-2 div.sk-label-container {text-align: center;}#sk-container-id-2 div.sk-container {/* jupyter's `normalize.less` sets `[hidden] { display: none; }` but bootstrap.min.css set `[hidden] { display: none !important; }` so we also need the `!important` here to be able to override the default hidden behavior on the sphinx rendered scikit-learn.org. See: https://github.com/scikit-learn/scikit-learn/issues/21755 */display: inline-block !important;position: relative;}#sk-container-id-2 div.sk-text-repr-fallback {display: none;}</style><div id=\"sk-container-id-2\" class=\"sk-top-container\"><div class=\"sk-text-repr-fallback\"><pre>ColumnTransformer(transformers=[(&#x27;transf_num&#x27;,\n",
       "                                 Pipeline(steps=[(&#x27;input_num&#x27;, SimpleImputer()),\n",
       "                                                 (&#x27;std&#x27;, StandardScaler())]),\n",
       "                                 [&#x27;Age&#x27;, &#x27;Job&#x27;, &#x27;Credit amount&#x27;, &#x27;Duration&#x27;]),\n",
       "                                (&#x27;transf_cat&#x27;,\n",
       "                                 Pipeline(steps=[(&#x27;input_cat&#x27;,\n",
       "                                                  SimpleImputer(fill_value=&#x27;unknown&#x27;,\n",
       "                                                                strategy=&#x27;constant&#x27;)),\n",
       "                                                 (&#x27;ordinal&#x27;,\n",
       "                                                  OrdinalEncoder(handle_unknown=&#x27;use_encoded_value&#x27;,\n",
       "                                                                 unknown_value=-1))]),\n",
       "                                 [&#x27;Sex&#x27;, &#x27;Housing&#x27;, &#x27;Saving accounts&#x27;,\n",
       "                                  &#x27;Checking account&#x27;, &#x27;Purpose&#x27;])])</pre><b>In a Jupyter environment, please rerun this cell to show the HTML representation or trust the notebook. <br />On GitHub, the HTML representation is unable to render, please try loading this page with nbviewer.org.</b></div><div class=\"sk-container\" hidden><div class=\"sk-item sk-dashed-wrapped\"><div class=\"sk-label-container\"><div class=\"sk-label sk-toggleable\"><input class=\"sk-toggleable__control sk-hidden--visually\" id=\"sk-estimator-id-8\" type=\"checkbox\" ><label for=\"sk-estimator-id-8\" class=\"sk-toggleable__label sk-toggleable__label-arrow\">ColumnTransformer</label><div class=\"sk-toggleable__content\"><pre>ColumnTransformer(transformers=[(&#x27;transf_num&#x27;,\n",
       "                                 Pipeline(steps=[(&#x27;input_num&#x27;, SimpleImputer()),\n",
       "                                                 (&#x27;std&#x27;, StandardScaler())]),\n",
       "                                 [&#x27;Age&#x27;, &#x27;Job&#x27;, &#x27;Credit amount&#x27;, &#x27;Duration&#x27;]),\n",
       "                                (&#x27;transf_cat&#x27;,\n",
       "                                 Pipeline(steps=[(&#x27;input_cat&#x27;,\n",
       "                                                  SimpleImputer(fill_value=&#x27;unknown&#x27;,\n",
       "                                                                strategy=&#x27;constant&#x27;)),\n",
       "                                                 (&#x27;ordinal&#x27;,\n",
       "                                                  OrdinalEncoder(handle_unknown=&#x27;use_encoded_value&#x27;,\n",
       "                                                                 unknown_value=-1))]),\n",
       "                                 [&#x27;Sex&#x27;, &#x27;Housing&#x27;, &#x27;Saving accounts&#x27;,\n",
       "                                  &#x27;Checking account&#x27;, &#x27;Purpose&#x27;])])</pre></div></div></div><div class=\"sk-parallel\"><div class=\"sk-parallel-item\"><div class=\"sk-item\"><div class=\"sk-label-container\"><div class=\"sk-label sk-toggleable\"><input class=\"sk-toggleable__control sk-hidden--visually\" id=\"sk-estimator-id-9\" type=\"checkbox\" ><label for=\"sk-estimator-id-9\" class=\"sk-toggleable__label sk-toggleable__label-arrow\">transf_num</label><div class=\"sk-toggleable__content\"><pre>[&#x27;Age&#x27;, &#x27;Job&#x27;, &#x27;Credit amount&#x27;, &#x27;Duration&#x27;]</pre></div></div></div><div class=\"sk-serial\"><div class=\"sk-item\"><div class=\"sk-serial\"><div class=\"sk-item\"><div class=\"sk-estimator sk-toggleable\"><input class=\"sk-toggleable__control sk-hidden--visually\" id=\"sk-estimator-id-10\" type=\"checkbox\" ><label for=\"sk-estimator-id-10\" class=\"sk-toggleable__label sk-toggleable__label-arrow\">SimpleImputer</label><div class=\"sk-toggleable__content\"><pre>SimpleImputer()</pre></div></div></div><div class=\"sk-item\"><div class=\"sk-estimator sk-toggleable\"><input class=\"sk-toggleable__control sk-hidden--visually\" id=\"sk-estimator-id-11\" type=\"checkbox\" ><label for=\"sk-estimator-id-11\" class=\"sk-toggleable__label sk-toggleable__label-arrow\">StandardScaler</label><div class=\"sk-toggleable__content\"><pre>StandardScaler()</pre></div></div></div></div></div></div></div></div><div class=\"sk-parallel-item\"><div class=\"sk-item\"><div class=\"sk-label-container\"><div class=\"sk-label sk-toggleable\"><input class=\"sk-toggleable__control sk-hidden--visually\" id=\"sk-estimator-id-12\" type=\"checkbox\" ><label for=\"sk-estimator-id-12\" class=\"sk-toggleable__label sk-toggleable__label-arrow\">transf_cat</label><div class=\"sk-toggleable__content\"><pre>[&#x27;Sex&#x27;, &#x27;Housing&#x27;, &#x27;Saving accounts&#x27;, &#x27;Checking account&#x27;, &#x27;Purpose&#x27;]</pre></div></div></div><div class=\"sk-serial\"><div class=\"sk-item\"><div class=\"sk-serial\"><div class=\"sk-item\"><div class=\"sk-estimator sk-toggleable\"><input class=\"sk-toggleable__control sk-hidden--visually\" id=\"sk-estimator-id-13\" type=\"checkbox\" ><label for=\"sk-estimator-id-13\" class=\"sk-toggleable__label sk-toggleable__label-arrow\">SimpleImputer</label><div class=\"sk-toggleable__content\"><pre>SimpleImputer(fill_value=&#x27;unknown&#x27;, strategy=&#x27;constant&#x27;)</pre></div></div></div><div class=\"sk-item\"><div class=\"sk-estimator sk-toggleable\"><input class=\"sk-toggleable__control sk-hidden--visually\" id=\"sk-estimator-id-14\" type=\"checkbox\" ><label for=\"sk-estimator-id-14\" class=\"sk-toggleable__label sk-toggleable__label-arrow\">OrdinalEncoder</label><div class=\"sk-toggleable__content\"><pre>OrdinalEncoder(handle_unknown=&#x27;use_encoded_value&#x27;, unknown_value=-1)</pre></div></div></div></div></div></div></div></div></div></div></div></div>"
      ],
      "text/plain": [
       "ColumnTransformer(transformers=[('transf_num',\n",
       "                                 Pipeline(steps=[('input_num', SimpleImputer()),\n",
       "                                                 ('std', StandardScaler())]),\n",
       "                                 ['Age', 'Job', 'Credit amount', 'Duration']),\n",
       "                                ('transf_cat',\n",
       "                                 Pipeline(steps=[('input_cat',\n",
       "                                                  SimpleImputer(fill_value='unknown',\n",
       "                                                                strategy='constant')),\n",
       "                                                 ('ordinal',\n",
       "                                                  OrdinalEncoder(handle_unknown='use_encoded_value',\n",
       "                                                                 unknown_value=-1))]),\n",
       "                                 ['Sex', 'Housing', 'Saving accounts',\n",
       "                                  'Checking account', 'Purpose'])])"
      ]
     },
     "execution_count": 18,
     "metadata": {},
     "output_type": "execute_result"
    }
   ],
   "source": [
    "pre_processador"
   ]
  },
  {
   "cell_type": "code",
   "execution_count": 19,
   "metadata": {
    "ExecuteTime": {
     "end_time": "2022-07-22T00:39:53.006036Z",
     "start_time": "2022-07-22T00:39:51.453040Z"
    },
    "scrolled": false
   },
   "outputs": [
    {
     "name": "stdout",
     "output_type": "stream",
     "text": [
      "Métricas de avaliação de treino - com cutoff = 0.50\n"
     ]
    },
    {
     "data": {
      "image/png": "[encoded data removed]",
      "text/plain": [
       "<Figure size 432x288 with 2 Axes>"
      ]
     },
     "metadata": {
      "needs_background": "light"
     },
     "output_type": "display_data"
    },
    {
     "name": "stdout",
     "output_type": "stream",
     "text": [
      "              precision    recall  f1-score   support\n",
      "\n",
      "         bad       0.90      0.68      0.77       240\n",
      "        good       0.88      0.97      0.92       560\n",
      "\n",
      "    accuracy                           0.88       800\n",
      "   macro avg       0.89      0.82      0.85       800\n",
      "weighted avg       0.88      0.88      0.87       800\n",
      "\n",
      "\n",
      "################################################################################\n",
      "\n",
      "Métricas de avaliação de teste - com cutoff = 0.50\n"
     ]
    },
    {
     "data": {
      "image/png": "[encoded data removed]",
      "text/plain": [
       "<Figure size 432x288 with 2 Axes>"
      ]
     },
     "metadata": {
      "needs_background": "light"
     },
     "output_type": "display_data"
    },
    {
     "name": "stdout",
     "output_type": "stream",
     "text": [
      "              precision    recall  f1-score   support\n",
      "\n",
      "         bad       0.59      0.43      0.50        60\n",
      "        good       0.78      0.87      0.82       140\n",
      "\n",
      "    accuracy                           0.74       200\n",
      "   macro avg       0.69      0.65      0.66       200\n",
      "weighted avg       0.72      0.74      0.73       200\n",
      "\n"
     ]
    }
   ],
   "source": [
    "from sklearn.ensemble import GradientBoostingClassifier\n",
    "\n",
    "pipe = Pipeline([(\"pp\", pre_processador), \n",
    "                 (\"gb\", GradientBoostingClassifier(random_state=42))])\n",
    "\n",
    "pipe.fit(X_train, y_train)\n",
    "\n",
    "_ = clf_metrics_train_test(pipe, X_train, y_train, X_test, y_test, cutoff=0.5, \n",
    "                           plot_conf_matrix=True, print_cr=True, pos_label=\"bad\")"
   ]
  },
  {
   "cell_type": "markdown",
   "metadata": {},
   "source": [
    "Nada mal. Vamos ver se conseguimos melhorar com o Grid Search:"
   ]
  },
  {
   "cell_type": "code",
   "execution_count": 23,
   "metadata": {
    "ExecuteTime": {
     "end_time": "2022-07-22T00:43:51.958559Z",
     "start_time": "2022-07-22T00:43:51.952701Z"
    }
   },
   "outputs": [
    {
     "data": {
      "text/plain": [
       "array([100, 200, 300, 400, 500])"
      ]
     },
     "execution_count": 23,
     "metadata": {},
     "output_type": "execute_result"
    }
   ],
   "source": [
    "np.arange(100, 600, 100)"
   ]
  },
  {
   "cell_type": "code",
   "execution_count": 24,
   "metadata": {
    "ExecuteTime": {
     "end_time": "2022-07-22T00:44:48.486452Z",
     "start_time": "2022-07-22T00:43:57.009113Z"
    }
   },
   "outputs": [
    {
     "name": "stdout",
     "output_type": "stream",
     "text": [
      "Fitting 5 folds for each of 20 candidates, totalling 100 fits\n"
     ]
    },
    {
     "data": {
      "text/html": [
       "<style>#sk-container-id-3 {color: black;background-color: white;}#sk-container-id-3 pre{padding: 0;}#sk-container-id-3 div.sk-toggleable {background-color: white;}#sk-container-id-3 label.sk-toggleable__label {cursor: pointer;display: block;width: 100%;margin-bottom: 0;padding: 0.3em;box-sizing: border-box;text-align: center;}#sk-container-id-3 label.sk-toggleable__label-arrow:before {content: \"▸\";float: left;margin-right: 0.25em;color: #696969;}#sk-container-id-3 label.sk-toggleable__label-arrow:hover:before {color: black;}#sk-container-id-3 div.sk-estimator:hover label.sk-toggleable__label-arrow:before {color: black;}#sk-container-id-3 div.sk-toggleable__content {max-height: 0;max-width: 0;overflow: hidden;text-align: left;background-color: #f0f8ff;}#sk-container-id-3 div.sk-toggleable__content pre {margin: 0.2em;color: black;border-radius: 0.25em;background-color: #f0f8ff;}#sk-container-id-3 input.sk-toggleable__control:checked~div.sk-toggleable__content {max-height: 200px;max-width: 100%;overflow: auto;}#sk-container-id-3 input.sk-toggleable__control:checked~label.sk-toggleable__label-arrow:before {content: \"▾\";}#sk-container-id-3 div.sk-estimator input.sk-toggleable__control:checked~label.sk-toggleable__label {background-color: #d4ebff;}#sk-container-id-3 div.sk-label input.sk-toggleable__control:checked~label.sk-toggleable__label {background-color: #d4ebff;}#sk-container-id-3 input.sk-hidden--visually {border: 0;clip: rect(1px 1px 1px 1px);clip: rect(1px, 1px, 1px, 1px);height: 1px;margin: -1px;overflow: hidden;padding: 0;position: absolute;width: 1px;}#sk-container-id-3 div.sk-estimator {font-family: monospace;background-color: #f0f8ff;border: 1px dotted black;border-radius: 0.25em;box-sizing: border-box;margin-bottom: 0.5em;}#sk-container-id-3 div.sk-estimator:hover {background-color: #d4ebff;}#sk-container-id-3 div.sk-parallel-item::after {content: \"\";width: 100%;border-bottom: 1px solid gray;flex-grow: 1;}#sk-container-id-3 div.sk-label:hover label.sk-toggleable__label {background-color: #d4ebff;}#sk-container-id-3 div.sk-serial::before {content: \"\";position: absolute;border-left: 1px solid gray;box-sizing: border-box;top: 0;bottom: 0;left: 50%;z-index: 0;}#sk-container-id-3 div.sk-serial {display: flex;flex-direction: column;align-items: center;background-color: white;padding-right: 0.2em;padding-left: 0.2em;position: relative;}#sk-container-id-3 div.sk-item {position: relative;z-index: 1;}#sk-container-id-3 div.sk-parallel {display: flex;align-items: stretch;justify-content: center;background-color: white;position: relative;}#sk-container-id-3 div.sk-item::before, #sk-container-id-3 div.sk-parallel-item::before {content: \"\";position: absolute;border-left: 1px solid gray;box-sizing: border-box;top: 0;bottom: 0;left: 50%;z-index: -1;}#sk-container-id-3 div.sk-parallel-item {display: flex;flex-direction: column;z-index: 1;position: relative;background-color: white;}#sk-container-id-3 div.sk-parallel-item:first-child::after {align-self: flex-end;width: 50%;}#sk-container-id-3 div.sk-parallel-item:last-child::after {align-self: flex-start;width: 50%;}#sk-container-id-3 div.sk-parallel-item:only-child::after {width: 0;}#sk-container-id-3 div.sk-dashed-wrapped {border: 1px dashed gray;margin: 0 0.4em 0.5em 0.4em;box-sizing: border-box;padding-bottom: 0.4em;background-color: white;}#sk-container-id-3 div.sk-label label {font-family: monospace;font-weight: bold;display: inline-block;line-height: 1.2em;}#sk-container-id-3 div.sk-label-container {text-align: center;}#sk-container-id-3 div.sk-container {/* jupyter's `normalize.less` sets `[hidden] { display: none; }` but bootstrap.min.css set `[hidden] { display: none !important; }` so we also need the `!important` here to be able to override the default hidden behavior on the sphinx rendered scikit-learn.org. See: https://github.com/scikit-learn/scikit-learn/issues/21755 */display: inline-block !important;position: relative;}#sk-container-id-3 div.sk-text-repr-fallback {display: none;}</style><div id=\"sk-container-id-3\" class=\"sk-top-container\"><div class=\"sk-text-repr-fallback\"><pre>GridSearchCV(cv=StratifiedKFold(n_splits=5, random_state=42, shuffle=True),\n",
       "             estimator=Pipeline(steps=[(&#x27;pp&#x27;,\n",
       "                                        ColumnTransformer(transformers=[(&#x27;transf_num&#x27;,\n",
       "                                                                         Pipeline(steps=[(&#x27;input_num&#x27;,\n",
       "                                                                                          SimpleImputer()),\n",
       "                                                                                         (&#x27;std&#x27;,\n",
       "                                                                                          StandardScaler())]),\n",
       "                                                                         [&#x27;Age&#x27;,\n",
       "                                                                          &#x27;Job&#x27;,\n",
       "                                                                          &#x27;Credit &#x27;\n",
       "                                                                          &#x27;amount&#x27;,\n",
       "                                                                          &#x27;Duration&#x27;]),\n",
       "                                                                        (&#x27;transf_cat&#x27;,\n",
       "                                                                         Pipeline(steps=[(&#x27;input_cat&#x27;,\n",
       "                                                                                          SimpleImputer(fill_value=&#x27;unknown&#x27;,\n",
       "                                                                                                        strat...\n",
       "                                                                                          OrdinalEncoder(handle_unknown=&#x27;use_encoded_value&#x27;,\n",
       "                                                                                                         unknown_value=-1))]),\n",
       "                                                                         [&#x27;Sex&#x27;,\n",
       "                                                                          &#x27;Housing&#x27;,\n",
       "                                                                          &#x27;Saving &#x27;\n",
       "                                                                          &#x27;accounts&#x27;,\n",
       "                                                                          &#x27;Checking &#x27;\n",
       "                                                                          &#x27;account&#x27;,\n",
       "                                                                          &#x27;Purpose&#x27;])])),\n",
       "                                       (&#x27;gb&#x27;,\n",
       "                                        GradientBoostingClassifier(random_state=42))]),\n",
       "             n_jobs=-1,\n",
       "             param_grid={&#x27;gb__loss&#x27;: [&#x27;log_loss&#x27;, &#x27;exponential&#x27;],\n",
       "                         &#x27;gb__max_depth&#x27;: [1, 2],\n",
       "                         &#x27;gb__n_estimators&#x27;: array([100, 200, 300, 400, 500])},\n",
       "             scoring=&#x27;f1_weighted&#x27;, verbose=10)</pre><b>In a Jupyter environment, please rerun this cell to show the HTML representation or trust the notebook. <br />On GitHub, the HTML representation is unable to render, please try loading this page with nbviewer.org.</b></div><div class=\"sk-container\" hidden><div class=\"sk-item sk-dashed-wrapped\"><div class=\"sk-label-container\"><div class=\"sk-label sk-toggleable\"><input class=\"sk-toggleable__control sk-hidden--visually\" id=\"sk-estimator-id-15\" type=\"checkbox\" ><label for=\"sk-estimator-id-15\" class=\"sk-toggleable__label sk-toggleable__label-arrow\">GridSearchCV</label><div class=\"sk-toggleable__content\"><pre>GridSearchCV(cv=StratifiedKFold(n_splits=5, random_state=42, shuffle=True),\n",
       "             estimator=Pipeline(steps=[(&#x27;pp&#x27;,\n",
       "                                        ColumnTransformer(transformers=[(&#x27;transf_num&#x27;,\n",
       "                                                                         Pipeline(steps=[(&#x27;input_num&#x27;,\n",
       "                                                                                          SimpleImputer()),\n",
       "                                                                                         (&#x27;std&#x27;,\n",
       "                                                                                          StandardScaler())]),\n",
       "                                                                         [&#x27;Age&#x27;,\n",
       "                                                                          &#x27;Job&#x27;,\n",
       "                                                                          &#x27;Credit &#x27;\n",
       "                                                                          &#x27;amount&#x27;,\n",
       "                                                                          &#x27;Duration&#x27;]),\n",
       "                                                                        (&#x27;transf_cat&#x27;,\n",
       "                                                                         Pipeline(steps=[(&#x27;input_cat&#x27;,\n",
       "                                                                                          SimpleImputer(fill_value=&#x27;unknown&#x27;,\n",
       "                                                                                                        strat...\n",
       "                                                                                          OrdinalEncoder(handle_unknown=&#x27;use_encoded_value&#x27;,\n",
       "                                                                                                         unknown_value=-1))]),\n",
       "                                                                         [&#x27;Sex&#x27;,\n",
       "                                                                          &#x27;Housing&#x27;,\n",
       "                                                                          &#x27;Saving &#x27;\n",
       "                                                                          &#x27;accounts&#x27;,\n",
       "                                                                          &#x27;Checking &#x27;\n",
       "                                                                          &#x27;account&#x27;,\n",
       "                                                                          &#x27;Purpose&#x27;])])),\n",
       "                                       (&#x27;gb&#x27;,\n",
       "                                        GradientBoostingClassifier(random_state=42))]),\n",
       "             n_jobs=-1,\n",
       "             param_grid={&#x27;gb__loss&#x27;: [&#x27;log_loss&#x27;, &#x27;exponential&#x27;],\n",
       "                         &#x27;gb__max_depth&#x27;: [1, 2],\n",
       "                         &#x27;gb__n_estimators&#x27;: array([100, 200, 300, 400, 500])},\n",
       "             scoring=&#x27;f1_weighted&#x27;, verbose=10)</pre></div></div></div><div class=\"sk-parallel\"><div class=\"sk-parallel-item\"><div class=\"sk-item\"><div class=\"sk-label-container\"><div class=\"sk-label sk-toggleable\"><input class=\"sk-toggleable__control sk-hidden--visually\" id=\"sk-estimator-id-16\" type=\"checkbox\" ><label for=\"sk-estimator-id-16\" class=\"sk-toggleable__label sk-toggleable__label-arrow\">estimator: Pipeline</label><div class=\"sk-toggleable__content\"><pre>Pipeline(steps=[(&#x27;pp&#x27;,\n",
       "                 ColumnTransformer(transformers=[(&#x27;transf_num&#x27;,\n",
       "                                                  Pipeline(steps=[(&#x27;input_num&#x27;,\n",
       "                                                                   SimpleImputer()),\n",
       "                                                                  (&#x27;std&#x27;,\n",
       "                                                                   StandardScaler())]),\n",
       "                                                  [&#x27;Age&#x27;, &#x27;Job&#x27;,\n",
       "                                                   &#x27;Credit amount&#x27;,\n",
       "                                                   &#x27;Duration&#x27;]),\n",
       "                                                 (&#x27;transf_cat&#x27;,\n",
       "                                                  Pipeline(steps=[(&#x27;input_cat&#x27;,\n",
       "                                                                   SimpleImputer(fill_value=&#x27;unknown&#x27;,\n",
       "                                                                                 strategy=&#x27;constant&#x27;)),\n",
       "                                                                  (&#x27;ordinal&#x27;,\n",
       "                                                                   OrdinalEncoder(handle_unknown=&#x27;use_encoded_value&#x27;,\n",
       "                                                                                  unknown_value=-1))]),\n",
       "                                                  [&#x27;Sex&#x27;, &#x27;Housing&#x27;,\n",
       "                                                   &#x27;Saving accounts&#x27;,\n",
       "                                                   &#x27;Checking account&#x27;,\n",
       "                                                   &#x27;Purpose&#x27;])])),\n",
       "                (&#x27;gb&#x27;, GradientBoostingClassifier(random_state=42))])</pre></div></div></div><div class=\"sk-serial\"><div class=\"sk-item\"><div class=\"sk-serial\"><div class=\"sk-item sk-dashed-wrapped\"><div class=\"sk-label-container\"><div class=\"sk-label sk-toggleable\"><input class=\"sk-toggleable__control sk-hidden--visually\" id=\"sk-estimator-id-17\" type=\"checkbox\" ><label for=\"sk-estimator-id-17\" class=\"sk-toggleable__label sk-toggleable__label-arrow\">pp: ColumnTransformer</label><div class=\"sk-toggleable__content\"><pre>ColumnTransformer(transformers=[(&#x27;transf_num&#x27;,\n",
       "                                 Pipeline(steps=[(&#x27;input_num&#x27;, SimpleImputer()),\n",
       "                                                 (&#x27;std&#x27;, StandardScaler())]),\n",
       "                                 [&#x27;Age&#x27;, &#x27;Job&#x27;, &#x27;Credit amount&#x27;, &#x27;Duration&#x27;]),\n",
       "                                (&#x27;transf_cat&#x27;,\n",
       "                                 Pipeline(steps=[(&#x27;input_cat&#x27;,\n",
       "                                                  SimpleImputer(fill_value=&#x27;unknown&#x27;,\n",
       "                                                                strategy=&#x27;constant&#x27;)),\n",
       "                                                 (&#x27;ordinal&#x27;,\n",
       "                                                  OrdinalEncoder(handle_unknown=&#x27;use_encoded_value&#x27;,\n",
       "                                                                 unknown_value=-1))]),\n",
       "                                 [&#x27;Sex&#x27;, &#x27;Housing&#x27;, &#x27;Saving accounts&#x27;,\n",
       "                                  &#x27;Checking account&#x27;, &#x27;Purpose&#x27;])])</pre></div></div></div><div class=\"sk-parallel\"><div class=\"sk-parallel-item\"><div class=\"sk-item\"><div class=\"sk-label-container\"><div class=\"sk-label sk-toggleable\"><input class=\"sk-toggleable__control sk-hidden--visually\" id=\"sk-estimator-id-18\" type=\"checkbox\" ><label for=\"sk-estimator-id-18\" class=\"sk-toggleable__label sk-toggleable__label-arrow\">transf_num</label><div class=\"sk-toggleable__content\"><pre>[&#x27;Age&#x27;, &#x27;Job&#x27;, &#x27;Credit amount&#x27;, &#x27;Duration&#x27;]</pre></div></div></div><div class=\"sk-serial\"><div class=\"sk-item\"><div class=\"sk-serial\"><div class=\"sk-item\"><div class=\"sk-estimator sk-toggleable\"><input class=\"sk-toggleable__control sk-hidden--visually\" id=\"sk-estimator-id-19\" type=\"checkbox\" ><label for=\"sk-estimator-id-19\" class=\"sk-toggleable__label sk-toggleable__label-arrow\">SimpleImputer</label><div class=\"sk-toggleable__content\"><pre>SimpleImputer()</pre></div></div></div><div class=\"sk-item\"><div class=\"sk-estimator sk-toggleable\"><input class=\"sk-toggleable__control sk-hidden--visually\" id=\"sk-estimator-id-20\" type=\"checkbox\" ><label for=\"sk-estimator-id-20\" class=\"sk-toggleable__label sk-toggleable__label-arrow\">StandardScaler</label><div class=\"sk-toggleable__content\"><pre>StandardScaler()</pre></div></div></div></div></div></div></div></div><div class=\"sk-parallel-item\"><div class=\"sk-item\"><div class=\"sk-label-container\"><div class=\"sk-label sk-toggleable\"><input class=\"sk-toggleable__control sk-hidden--visually\" id=\"sk-estimator-id-21\" type=\"checkbox\" ><label for=\"sk-estimator-id-21\" class=\"sk-toggleable__label sk-toggleable__label-arrow\">transf_cat</label><div class=\"sk-toggleable__content\"><pre>[&#x27;Sex&#x27;, &#x27;Housing&#x27;, &#x27;Saving accounts&#x27;, &#x27;Checking account&#x27;, &#x27;Purpose&#x27;]</pre></div></div></div><div class=\"sk-serial\"><div class=\"sk-item\"><div class=\"sk-serial\"><div class=\"sk-item\"><div class=\"sk-estimator sk-toggleable\"><input class=\"sk-toggleable__control sk-hidden--visually\" id=\"sk-estimator-id-22\" type=\"checkbox\" ><label for=\"sk-estimator-id-22\" class=\"sk-toggleable__label sk-toggleable__label-arrow\">SimpleImputer</label><div class=\"sk-toggleable__content\"><pre>SimpleImputer(fill_value=&#x27;unknown&#x27;, strategy=&#x27;constant&#x27;)</pre></div></div></div><div class=\"sk-item\"><div class=\"sk-estimator sk-toggleable\"><input class=\"sk-toggleable__control sk-hidden--visually\" id=\"sk-estimator-id-23\" type=\"checkbox\" ><label for=\"sk-estimator-id-23\" class=\"sk-toggleable__label sk-toggleable__label-arrow\">OrdinalEncoder</label><div class=\"sk-toggleable__content\"><pre>OrdinalEncoder(handle_unknown=&#x27;use_encoded_value&#x27;, unknown_value=-1)</pre></div></div></div></div></div></div></div></div></div></div><div class=\"sk-item\"><div class=\"sk-estimator sk-toggleable\"><input class=\"sk-toggleable__control sk-hidden--visually\" id=\"sk-estimator-id-24\" type=\"checkbox\" ><label for=\"sk-estimator-id-24\" class=\"sk-toggleable__label sk-toggleable__label-arrow\">GradientBoostingClassifier</label><div class=\"sk-toggleable__content\"><pre>GradientBoostingClassifier(random_state=42)</pre></div></div></div></div></div></div></div></div></div></div></div></div>"
      ],
      "text/plain": [
       "GridSearchCV(cv=StratifiedKFold(n_splits=5, random_state=42, shuffle=True),\n",
       "             estimator=Pipeline(steps=[('pp',\n",
       "                                        ColumnTransformer(transformers=[('transf_num',\n",
       "                                                                         Pipeline(steps=[('input_num',\n",
       "                                                                                          SimpleImputer()),\n",
       "                                                                                         ('std',\n",
       "                                                                                          StandardScaler())]),\n",
       "                                                                         ['Age',\n",
       "                                                                          'Job',\n",
       "                                                                          'Credit '\n",
       "                                                                          'amount',\n",
       "                                                                          'Duration']),\n",
       "                                                                        ('transf_cat',\n",
       "                                                                         Pipeline(steps=[('input_cat',\n",
       "                                                                                          SimpleImputer(fill_value='unknown',\n",
       "                                                                                                        strat...\n",
       "                                                                                          OrdinalEncoder(handle_unknown='use_encoded_value',\n",
       "                                                                                                         unknown_value=-1))]),\n",
       "                                                                         ['Sex',\n",
       "                                                                          'Housing',\n",
       "                                                                          'Saving '\n",
       "                                                                          'accounts',\n",
       "                                                                          'Checking '\n",
       "                                                                          'account',\n",
       "                                                                          'Purpose'])])),\n",
       "                                       ('gb',\n",
       "                                        GradientBoostingClassifier(random_state=42))]),\n",
       "             n_jobs=-1,\n",
       "             param_grid={'gb__loss': ['log_loss', 'exponential'],\n",
       "                         'gb__max_depth': [1, 2],\n",
       "                         'gb__n_estimators': array([100, 200, 300, 400, 500])},\n",
       "             scoring='f1_weighted', verbose=10)"
      ]
     },
     "execution_count": 24,
     "metadata": {},
     "output_type": "execute_result"
    }
   ],
   "source": [
    "pipe = Pipeline([(\"pp\", pre_processador),\n",
    "                 (\"gb\", GradientBoostingClassifier(random_state=42))])\n",
    "\n",
    "params_grid = {\"gb__loss\" : [\"log_loss\", \"exponential\"],\n",
    "               \"gb__n_estimators\" : np.arange(100, 600, 100),\n",
    "               \"gb__max_depth\" : [1, 2]}\n",
    "\n",
    "splitter = StratifiedKFold(n_splits=5, random_state=42, shuffle=True)\n",
    "\n",
    "grid_gb = GridSearchCV(pipe,\n",
    "                       params_grid, \n",
    "                       cv=splitter,\n",
    "                       scoring=\"f1_weighted\",\n",
    "                       verbose=10,\n",
    "                       n_jobs=-1)\n",
    "\n",
    "grid_gb.fit(X_train, y_train)"
   ]
  },
  {
   "cell_type": "code",
   "execution_count": 25,
   "metadata": {
    "ExecuteTime": {
     "end_time": "2022-07-22T00:45:16.271901Z",
     "start_time": "2022-07-22T00:45:16.251913Z"
    }
   },
   "outputs": [
    {
     "data": {
      "text/plain": [
       "{'gb__loss': 'exponential', 'gb__max_depth': 2, 'gb__n_estimators': 200}"
      ]
     },
     "execution_count": 25,
     "metadata": {},
     "output_type": "execute_result"
    }
   ],
   "source": [
    "grid_gb.best_params_"
   ]
  },
  {
   "cell_type": "code",
   "execution_count": 26,
   "metadata": {
    "ExecuteTime": {
     "end_time": "2022-07-22T00:45:37.153594Z",
     "start_time": "2022-07-22T00:45:37.132605Z"
    }
   },
   "outputs": [
    {
     "data": {
      "text/plain": [
       "0.7299071543528693"
      ]
     },
     "execution_count": 26,
     "metadata": {},
     "output_type": "execute_result"
    }
   ],
   "source": [
    "grid_gb.best_score_"
   ]
  },
  {
   "cell_type": "code",
   "execution_count": 27,
   "metadata": {
    "ExecuteTime": {
     "end_time": "2022-07-22T00:45:56.777282Z",
     "start_time": "2022-07-22T00:45:56.103619Z"
    }
   },
   "outputs": [
    {
     "name": "stdout",
     "output_type": "stream",
     "text": [
      "Métricas de avaliação de treino - com cutoff = 0.50\n"
     ]
    },
    {
     "data": {
      "image/png": "[encoded data removed]",
      "text/plain": [
       "<Figure size 432x288 with 2 Axes>"
      ]
     },
     "metadata": {
      "needs_background": "light"
     },
     "output_type": "display_data"
    },
    {
     "name": "stdout",
     "output_type": "stream",
     "text": [
      "              precision    recall  f1-score   support\n",
      "\n",
      "         bad       0.82      0.60      0.69       240\n",
      "        good       0.85      0.94      0.89       560\n",
      "\n",
      "    accuracy                           0.84       800\n",
      "   macro avg       0.83      0.77      0.79       800\n",
      "weighted avg       0.84      0.84      0.83       800\n",
      "\n",
      "\n",
      "################################################################################\n",
      "\n",
      "Métricas de avaliação de teste - com cutoff = 0.50\n"
     ]
    },
    {
     "data": {
      "image/png": "[encoded data removed]",
      "text/plain": [
       "<Figure size 432x288 with 2 Axes>"
      ]
     },
     "metadata": {
      "needs_background": "light"
     },
     "output_type": "display_data"
    },
    {
     "name": "stdout",
     "output_type": "stream",
     "text": [
      "              precision    recall  f1-score   support\n",
      "\n",
      "         bad       0.62      0.47      0.53        60\n",
      "        good       0.79      0.88      0.83       140\n",
      "\n",
      "    accuracy                           0.76       200\n",
      "   macro avg       0.71      0.67      0.68       200\n",
      "weighted avg       0.74      0.76      0.74       200\n",
      "\n"
     ]
    }
   ],
   "source": [
    "_ = clf_metrics_train_test(grid_gb, X_train, y_train, X_test, y_test, cutoff=0.5, \n",
    "                           plot_conf_matrix=True, print_cr=True, pos_label=\"bad\")"
   ]
  },
  {
   "cell_type": "markdown",
   "metadata": {},
   "source": [
    "E que tal um random search?\n",
    "\n",
    "Aqui, podemos aumentar bem o espaço de hiperparâmetros, e selecionar apenas algumas poucas combinações (mas de maneira totalmente aleatória!)"
   ]
  },
  {
   "cell_type": "code",
   "execution_count": 31,
   "metadata": {
    "ExecuteTime": {
     "end_time": "2022-07-22T00:51:58.823732Z",
     "start_time": "2022-07-22T00:51:58.802742Z"
    },
    "scrolled": true
   },
   "outputs": [
    {
     "data": {
      "text/plain": [
       "array([  10,   11,   12,   13,   14,   15,   16,   17,   18,   19,   20,\n",
       "         21,   22,   23,   24,   25,   26,   27,   28,   29,   30,   31,\n",
       "         32,   33,   34,   35,   36,   37,   38,   39,   40,   41,   42,\n",
       "         43,   44,   45,   46,   47,   48,   49,   50,   51,   52,   53,\n",
       "         54,   55,   56,   57,   58,   59,   60,   61,   62,   63,   64,\n",
       "         65,   66,   67,   68,   69,   70,   71,   72,   73,   74,   75,\n",
       "         76,   77,   78,   79,   80,   81,   82,   83,   84,   85,   86,\n",
       "         87,   88,   89,   90,   91,   92,   93,   94,   95,   96,   97,\n",
       "         98,   99,  100,  101,  102,  103,  104,  105,  106,  107,  108,\n",
       "        109,  110,  111,  112,  113,  114,  115,  116,  117,  118,  119,\n",
       "        120,  121,  122,  123,  124,  125,  126,  127,  128,  129,  130,\n",
       "        131,  132,  133,  134,  135,  136,  137,  138,  139,  140,  141,\n",
       "        142,  143,  144,  145,  146,  147,  148,  149,  150,  151,  152,\n",
       "        153,  154,  155,  156,  157,  158,  159,  160,  161,  162,  163,\n",
       "        164,  165,  166,  167,  168,  169,  170,  171,  172,  173,  174,\n",
       "        175,  176,  177,  178,  179,  180,  181,  182,  183,  184,  185,\n",
       "        186,  187,  188,  189,  190,  191,  192,  193,  194,  195,  196,\n",
       "        197,  198,  199,  200,  201,  202,  203,  204,  205,  206,  207,\n",
       "        208,  209,  210,  211,  212,  213,  214,  215,  216,  217,  218,\n",
       "        219,  220,  221,  222,  223,  224,  225,  226,  227,  228,  229,\n",
       "        230,  231,  232,  233,  234,  235,  236,  237,  238,  239,  240,\n",
       "        241,  242,  243,  244,  245,  246,  247,  248,  249,  250,  251,\n",
       "        252,  253,  254,  255,  256,  257,  258,  259,  260,  261,  262,\n",
       "        263,  264,  265,  266,  267,  268,  269,  270,  271,  272,  273,\n",
       "        274,  275,  276,  277,  278,  279,  280,  281,  282,  283,  284,\n",
       "        285,  286,  287,  288,  289,  290,  291,  292,  293,  294,  295,\n",
       "        296,  297,  298,  299,  300,  301,  302,  303,  304,  305,  306,\n",
       "        307,  308,  309,  310,  311,  312,  313,  314,  315,  316,  317,\n",
       "        318,  319,  320,  321,  322,  323,  324,  325,  326,  327,  328,\n",
       "        329,  330,  331,  332,  333,  334,  335,  336,  337,  338,  339,\n",
       "        340,  341,  342,  343,  344,  345,  346,  347,  348,  349,  350,\n",
       "        351,  352,  353,  354,  355,  356,  357,  358,  359,  360,  361,\n",
       "        362,  363,  364,  365,  366,  367,  368,  369,  370,  371,  372,\n",
       "        373,  374,  375,  376,  377,  378,  379,  380,  381,  382,  383,\n",
       "        384,  385,  386,  387,  388,  389,  390,  391,  392,  393,  394,\n",
       "        395,  396,  397,  398,  399,  400,  401,  402,  403,  404,  405,\n",
       "        406,  407,  408,  409,  410,  411,  412,  413,  414,  415,  416,\n",
       "        417,  418,  419,  420,  421,  422,  423,  424,  425,  426,  427,\n",
       "        428,  429,  430,  431,  432,  433,  434,  435,  436,  437,  438,\n",
       "        439,  440,  441,  442,  443,  444,  445,  446,  447,  448,  449,\n",
       "        450,  451,  452,  453,  454,  455,  456,  457,  458,  459,  460,\n",
       "        461,  462,  463,  464,  465,  466,  467,  468,  469,  470,  471,\n",
       "        472,  473,  474,  475,  476,  477,  478,  479,  480,  481,  482,\n",
       "        483,  484,  485,  486,  487,  488,  489,  490,  491,  492,  493,\n",
       "        494,  495,  496,  497,  498,  499,  500,  501,  502,  503,  504,\n",
       "        505,  506,  507,  508,  509,  510,  511,  512,  513,  514,  515,\n",
       "        516,  517,  518,  519,  520,  521,  522,  523,  524,  525,  526,\n",
       "        527,  528,  529,  530,  531,  532,  533,  534,  535,  536,  537,\n",
       "        538,  539,  540,  541,  542,  543,  544,  545,  546,  547,  548,\n",
       "        549,  550,  551,  552,  553,  554,  555,  556,  557,  558,  559,\n",
       "        560,  561,  562,  563,  564,  565,  566,  567,  568,  569,  570,\n",
       "        571,  572,  573,  574,  575,  576,  577,  578,  579,  580,  581,\n",
       "        582,  583,  584,  585,  586,  587,  588,  589,  590,  591,  592,\n",
       "        593,  594,  595,  596,  597,  598,  599,  600,  601,  602,  603,\n",
       "        604,  605,  606,  607,  608,  609,  610,  611,  612,  613,  614,\n",
       "        615,  616,  617,  618,  619,  620,  621,  622,  623,  624,  625,\n",
       "        626,  627,  628,  629,  630,  631,  632,  633,  634,  635,  636,\n",
       "        637,  638,  639,  640,  641,  642,  643,  644,  645,  646,  647,\n",
       "        648,  649,  650,  651,  652,  653,  654,  655,  656,  657,  658,\n",
       "        659,  660,  661,  662,  663,  664,  665,  666,  667,  668,  669,\n",
       "        670,  671,  672,  673,  674,  675,  676,  677,  678,  679,  680,\n",
       "        681,  682,  683,  684,  685,  686,  687,  688,  689,  690,  691,\n",
       "        692,  693,  694,  695,  696,  697,  698,  699,  700,  701,  702,\n",
       "        703,  704,  705,  706,  707,  708,  709,  710,  711,  712,  713,\n",
       "        714,  715,  716,  717,  718,  719,  720,  721,  722,  723,  724,\n",
       "        725,  726,  727,  728,  729,  730,  731,  732,  733,  734,  735,\n",
       "        736,  737,  738,  739,  740,  741,  742,  743,  744,  745,  746,\n",
       "        747,  748,  749,  750,  751,  752,  753,  754,  755,  756,  757,\n",
       "        758,  759,  760,  761,  762,  763,  764,  765,  766,  767,  768,\n",
       "        769,  770,  771,  772,  773,  774,  775,  776,  777,  778,  779,\n",
       "        780,  781,  782,  783,  784,  785,  786,  787,  788,  789,  790,\n",
       "        791,  792,  793,  794,  795,  796,  797,  798,  799,  800,  801,\n",
       "        802,  803,  804,  805,  806,  807,  808,  809,  810,  811,  812,\n",
       "        813,  814,  815,  816,  817,  818,  819,  820,  821,  822,  823,\n",
       "        824,  825,  826,  827,  828,  829,  830,  831,  832,  833,  834,\n",
       "        835,  836,  837,  838,  839,  840,  841,  842,  843,  844,  845,\n",
       "        846,  847,  848,  849,  850,  851,  852,  853,  854,  855,  856,\n",
       "        857,  858,  859,  860,  861,  862,  863,  864,  865,  866,  867,\n",
       "        868,  869,  870,  871,  872,  873,  874,  875,  876,  877,  878,\n",
       "        879,  880,  881,  882,  883,  884,  885,  886,  887,  888,  889,\n",
       "        890,  891,  892,  893,  894,  895,  896,  897,  898,  899,  900,\n",
       "        901,  902,  903,  904,  905,  906,  907,  908,  909,  910,  911,\n",
       "        912,  913,  914,  915,  916,  917,  918,  919,  920,  921,  922,\n",
       "        923,  924,  925,  926,  927,  928,  929,  930,  931,  932,  933,\n",
       "        934,  935,  936,  937,  938,  939,  940,  941,  942,  943,  944,\n",
       "        945,  946,  947,  948,  949,  950,  951,  952,  953,  954,  955,\n",
       "        956,  957,  958,  959,  960,  961,  962,  963,  964,  965,  966,\n",
       "        967,  968,  969,  970,  971,  972,  973,  974,  975,  976,  977,\n",
       "        978,  979,  980,  981,  982,  983,  984,  985,  986,  987,  988,\n",
       "        989,  990,  991,  992,  993,  994,  995,  996,  997,  998,  999,\n",
       "       1000])"
      ]
     },
     "execution_count": 31,
     "metadata": {},
     "output_type": "execute_result"
    }
   ],
   "source": [
    "np.arange(10, 1001, 1)"
   ]
  },
  {
   "cell_type": "code",
   "execution_count": 34,
   "metadata": {
    "ExecuteTime": {
     "end_time": "2022-07-22T00:54:33.818980Z",
     "start_time": "2022-07-22T00:54:33.807990Z"
    }
   },
   "outputs": [
    {
     "data": {
      "text/plain": [
       "array([ 1,  2,  3,  4,  5,  6,  7,  8,  9, 10, 11, 12, 13, 14, 15, 16, 17,\n",
       "       18, 19, 20, 21, 22, 23, 24, 25, 26, 27, 28, 29, 30, 31, 32, 33, 34,\n",
       "       35, 36, 37, 38, 39, 40, 41, 42, 43, 44, 45, 46, 47, 48, 49, 50])"
      ]
     },
     "execution_count": 34,
     "metadata": {},
     "output_type": "execute_result"
    }
   ],
   "source": [
    "np.arange(1, 51, 1)"
   ]
  },
  {
   "cell_type": "code",
   "execution_count": 30,
   "metadata": {
    "ExecuteTime": {
     "end_time": "2022-07-22T00:51:06.070440Z",
     "start_time": "2022-07-22T00:47:49.204398Z"
    }
   },
   "outputs": [
    {
     "name": "stdout",
     "output_type": "stream",
     "text": [
      "Fitting 5 folds for each of 20 candidates, totalling 100 fits\n"
     ]
    },
    {
     "data": {
      "text/html": [
       "<style>#sk-container-id-4 {color: black;background-color: white;}#sk-container-id-4 pre{padding: 0;}#sk-container-id-4 div.sk-toggleable {background-color: white;}#sk-container-id-4 label.sk-toggleable__label {cursor: pointer;display: block;width: 100%;margin-bottom: 0;padding: 0.3em;box-sizing: border-box;text-align: center;}#sk-container-id-4 label.sk-toggleable__label-arrow:before {content: \"▸\";float: left;margin-right: 0.25em;color: #696969;}#sk-container-id-4 label.sk-toggleable__label-arrow:hover:before {color: black;}#sk-container-id-4 div.sk-estimator:hover label.sk-toggleable__label-arrow:before {color: black;}#sk-container-id-4 div.sk-toggleable__content {max-height: 0;max-width: 0;overflow: hidden;text-align: left;background-color: #f0f8ff;}#sk-container-id-4 div.sk-toggleable__content pre {margin: 0.2em;color: black;border-radius: 0.25em;background-color: #f0f8ff;}#sk-container-id-4 input.sk-toggleable__control:checked~div.sk-toggleable__content {max-height: 200px;max-width: 100%;overflow: auto;}#sk-container-id-4 input.sk-toggleable__control:checked~label.sk-toggleable__label-arrow:before {content: \"▾\";}#sk-container-id-4 div.sk-estimator input.sk-toggleable__control:checked~label.sk-toggleable__label {background-color: #d4ebff;}#sk-container-id-4 div.sk-label input.sk-toggleable__control:checked~label.sk-toggleable__label {background-color: #d4ebff;}#sk-container-id-4 input.sk-hidden--visually {border: 0;clip: rect(1px 1px 1px 1px);clip: rect(1px, 1px, 1px, 1px);height: 1px;margin: -1px;overflow: hidden;padding: 0;position: absolute;width: 1px;}#sk-container-id-4 div.sk-estimator {font-family: monospace;background-color: #f0f8ff;border: 1px dotted black;border-radius: 0.25em;box-sizing: border-box;margin-bottom: 0.5em;}#sk-container-id-4 div.sk-estimator:hover {background-color: #d4ebff;}#sk-container-id-4 div.sk-parallel-item::after {content: \"\";width: 100%;border-bottom: 1px solid gray;flex-grow: 1;}#sk-container-id-4 div.sk-label:hover label.sk-toggleable__label {background-color: #d4ebff;}#sk-container-id-4 div.sk-serial::before {content: \"\";position: absolute;border-left: 1px solid gray;box-sizing: border-box;top: 0;bottom: 0;left: 50%;z-index: 0;}#sk-container-id-4 div.sk-serial {display: flex;flex-direction: column;align-items: center;background-color: white;padding-right: 0.2em;padding-left: 0.2em;position: relative;}#sk-container-id-4 div.sk-item {position: relative;z-index: 1;}#sk-container-id-4 div.sk-parallel {display: flex;align-items: stretch;justify-content: center;background-color: white;position: relative;}#sk-container-id-4 div.sk-item::before, #sk-container-id-4 div.sk-parallel-item::before {content: \"\";position: absolute;border-left: 1px solid gray;box-sizing: border-box;top: 0;bottom: 0;left: 50%;z-index: -1;}#sk-container-id-4 div.sk-parallel-item {display: flex;flex-direction: column;z-index: 1;position: relative;background-color: white;}#sk-container-id-4 div.sk-parallel-item:first-child::after {align-self: flex-end;width: 50%;}#sk-container-id-4 div.sk-parallel-item:last-child::after {align-self: flex-start;width: 50%;}#sk-container-id-4 div.sk-parallel-item:only-child::after {width: 0;}#sk-container-id-4 div.sk-dashed-wrapped {border: 1px dashed gray;margin: 0 0.4em 0.5em 0.4em;box-sizing: border-box;padding-bottom: 0.4em;background-color: white;}#sk-container-id-4 div.sk-label label {font-family: monospace;font-weight: bold;display: inline-block;line-height: 1.2em;}#sk-container-id-4 div.sk-label-container {text-align: center;}#sk-container-id-4 div.sk-container {/* jupyter's `normalize.less` sets `[hidden] { display: none; }` but bootstrap.min.css set `[hidden] { display: none !important; }` so we also need the `!important` here to be able to override the default hidden behavior on the sphinx rendered scikit-learn.org. See: https://github.com/scikit-learn/scikit-learn/issues/21755 */display: inline-block !important;position: relative;}#sk-container-id-4 div.sk-text-repr-fallback {display: none;}</style><div id=\"sk-container-id-4\" class=\"sk-top-container\"><div class=\"sk-text-repr-fallback\"><pre>RandomizedSearchCV(cv=StratifiedKFold(n_splits=5, random_state=42, shuffle=True),\n",
       "                   estimator=Pipeline(steps=[(&#x27;pp&#x27;,\n",
       "                                              ColumnTransformer(transformers=[(&#x27;transf_num&#x27;,\n",
       "                                                                               Pipeline(steps=[(&#x27;input_num&#x27;,\n",
       "                                                                                                SimpleImputer()),\n",
       "                                                                                               (&#x27;std&#x27;,\n",
       "                                                                                                StandardScaler())]),\n",
       "                                                                               [&#x27;Age&#x27;,\n",
       "                                                                                &#x27;Job&#x27;,\n",
       "                                                                                &#x27;Credit &#x27;\n",
       "                                                                                &#x27;amount&#x27;,\n",
       "                                                                                &#x27;Duration&#x27;]),\n",
       "                                                                              (&#x27;transf_cat&#x27;,\n",
       "                                                                               Pipeline(steps=[(&#x27;input_cat&#x27;,\n",
       "                                                                                                SimpleImputer(fill_value=&#x27;unknown&#x27;...\n",
       "        923,  924,  925,  926,  927,  928,  929,  930,  931,  932,  933,\n",
       "        934,  935,  936,  937,  938,  939,  940,  941,  942,  943,  944,\n",
       "        945,  946,  947,  948,  949,  950,  951,  952,  953,  954,  955,\n",
       "        956,  957,  958,  959,  960,  961,  962,  963,  964,  965,  966,\n",
       "        967,  968,  969,  970,  971,  972,  973,  974,  975,  976,  977,\n",
       "        978,  979,  980,  981,  982,  983,  984,  985,  986,  987,  988,\n",
       "        989,  990,  991,  992,  993,  994,  995,  996,  997,  998,  999,\n",
       "       1000])},\n",
       "                   random_state=42, scoring=&#x27;f1_weighted&#x27;, verbose=10)</pre><b>In a Jupyter environment, please rerun this cell to show the HTML representation or trust the notebook. <br />On GitHub, the HTML representation is unable to render, please try loading this page with nbviewer.org.</b></div><div class=\"sk-container\" hidden><div class=\"sk-item sk-dashed-wrapped\"><div class=\"sk-label-container\"><div class=\"sk-label sk-toggleable\"><input class=\"sk-toggleable__control sk-hidden--visually\" id=\"sk-estimator-id-25\" type=\"checkbox\" ><label for=\"sk-estimator-id-25\" class=\"sk-toggleable__label sk-toggleable__label-arrow\">RandomizedSearchCV</label><div class=\"sk-toggleable__content\"><pre>RandomizedSearchCV(cv=StratifiedKFold(n_splits=5, random_state=42, shuffle=True),\n",
       "                   estimator=Pipeline(steps=[(&#x27;pp&#x27;,\n",
       "                                              ColumnTransformer(transformers=[(&#x27;transf_num&#x27;,\n",
       "                                                                               Pipeline(steps=[(&#x27;input_num&#x27;,\n",
       "                                                                                                SimpleImputer()),\n",
       "                                                                                               (&#x27;std&#x27;,\n",
       "                                                                                                StandardScaler())]),\n",
       "                                                                               [&#x27;Age&#x27;,\n",
       "                                                                                &#x27;Job&#x27;,\n",
       "                                                                                &#x27;Credit &#x27;\n",
       "                                                                                &#x27;amount&#x27;,\n",
       "                                                                                &#x27;Duration&#x27;]),\n",
       "                                                                              (&#x27;transf_cat&#x27;,\n",
       "                                                                               Pipeline(steps=[(&#x27;input_cat&#x27;,\n",
       "                                                                                                SimpleImputer(fill_value=&#x27;unknown&#x27;...\n",
       "        923,  924,  925,  926,  927,  928,  929,  930,  931,  932,  933,\n",
       "        934,  935,  936,  937,  938,  939,  940,  941,  942,  943,  944,\n",
       "        945,  946,  947,  948,  949,  950,  951,  952,  953,  954,  955,\n",
       "        956,  957,  958,  959,  960,  961,  962,  963,  964,  965,  966,\n",
       "        967,  968,  969,  970,  971,  972,  973,  974,  975,  976,  977,\n",
       "        978,  979,  980,  981,  982,  983,  984,  985,  986,  987,  988,\n",
       "        989,  990,  991,  992,  993,  994,  995,  996,  997,  998,  999,\n",
       "       1000])},\n",
       "                   random_state=42, scoring=&#x27;f1_weighted&#x27;, verbose=10)</pre></div></div></div><div class=\"sk-parallel\"><div class=\"sk-parallel-item\"><div class=\"sk-item\"><div class=\"sk-label-container\"><div class=\"sk-label sk-toggleable\"><input class=\"sk-toggleable__control sk-hidden--visually\" id=\"sk-estimator-id-26\" type=\"checkbox\" ><label for=\"sk-estimator-id-26\" class=\"sk-toggleable__label sk-toggleable__label-arrow\">estimator: Pipeline</label><div class=\"sk-toggleable__content\"><pre>Pipeline(steps=[(&#x27;pp&#x27;,\n",
       "                 ColumnTransformer(transformers=[(&#x27;transf_num&#x27;,\n",
       "                                                  Pipeline(steps=[(&#x27;input_num&#x27;,\n",
       "                                                                   SimpleImputer()),\n",
       "                                                                  (&#x27;std&#x27;,\n",
       "                                                                   StandardScaler())]),\n",
       "                                                  [&#x27;Age&#x27;, &#x27;Job&#x27;,\n",
       "                                                   &#x27;Credit amount&#x27;,\n",
       "                                                   &#x27;Duration&#x27;]),\n",
       "                                                 (&#x27;transf_cat&#x27;,\n",
       "                                                  Pipeline(steps=[(&#x27;input_cat&#x27;,\n",
       "                                                                   SimpleImputer(fill_value=&#x27;unknown&#x27;,\n",
       "                                                                                 strategy=&#x27;constant&#x27;)),\n",
       "                                                                  (&#x27;ordinal&#x27;,\n",
       "                                                                   OrdinalEncoder(handle_unknown=&#x27;use_encoded_value&#x27;,\n",
       "                                                                                  unknown_value=-1))]),\n",
       "                                                  [&#x27;Sex&#x27;, &#x27;Housing&#x27;,\n",
       "                                                   &#x27;Saving accounts&#x27;,\n",
       "                                                   &#x27;Checking account&#x27;,\n",
       "                                                   &#x27;Purpose&#x27;])])),\n",
       "                (&#x27;gb&#x27;, GradientBoostingClassifier(random_state=42))])</pre></div></div></div><div class=\"sk-serial\"><div class=\"sk-item\"><div class=\"sk-serial\"><div class=\"sk-item sk-dashed-wrapped\"><div class=\"sk-label-container\"><div class=\"sk-label sk-toggleable\"><input class=\"sk-toggleable__control sk-hidden--visually\" id=\"sk-estimator-id-27\" type=\"checkbox\" ><label for=\"sk-estimator-id-27\" class=\"sk-toggleable__label sk-toggleable__label-arrow\">pp: ColumnTransformer</label><div class=\"sk-toggleable__content\"><pre>ColumnTransformer(transformers=[(&#x27;transf_num&#x27;,\n",
       "                                 Pipeline(steps=[(&#x27;input_num&#x27;, SimpleImputer()),\n",
       "                                                 (&#x27;std&#x27;, StandardScaler())]),\n",
       "                                 [&#x27;Age&#x27;, &#x27;Job&#x27;, &#x27;Credit amount&#x27;, &#x27;Duration&#x27;]),\n",
       "                                (&#x27;transf_cat&#x27;,\n",
       "                                 Pipeline(steps=[(&#x27;input_cat&#x27;,\n",
       "                                                  SimpleImputer(fill_value=&#x27;unknown&#x27;,\n",
       "                                                                strategy=&#x27;constant&#x27;)),\n",
       "                                                 (&#x27;ordinal&#x27;,\n",
       "                                                  OrdinalEncoder(handle_unknown=&#x27;use_encoded_value&#x27;,\n",
       "                                                                 unknown_value=-1))]),\n",
       "                                 [&#x27;Sex&#x27;, &#x27;Housing&#x27;, &#x27;Saving accounts&#x27;,\n",
       "                                  &#x27;Checking account&#x27;, &#x27;Purpose&#x27;])])</pre></div></div></div><div class=\"sk-parallel\"><div class=\"sk-parallel-item\"><div class=\"sk-item\"><div class=\"sk-label-container\"><div class=\"sk-label sk-toggleable\"><input class=\"sk-toggleable__control sk-hidden--visually\" id=\"sk-estimator-id-28\" type=\"checkbox\" ><label for=\"sk-estimator-id-28\" class=\"sk-toggleable__label sk-toggleable__label-arrow\">transf_num</label><div class=\"sk-toggleable__content\"><pre>[&#x27;Age&#x27;, &#x27;Job&#x27;, &#x27;Credit amount&#x27;, &#x27;Duration&#x27;]</pre></div></div></div><div class=\"sk-serial\"><div class=\"sk-item\"><div class=\"sk-serial\"><div class=\"sk-item\"><div class=\"sk-estimator sk-toggleable\"><input class=\"sk-toggleable__control sk-hidden--visually\" id=\"sk-estimator-id-29\" type=\"checkbox\" ><label for=\"sk-estimator-id-29\" class=\"sk-toggleable__label sk-toggleable__label-arrow\">SimpleImputer</label><div class=\"sk-toggleable__content\"><pre>SimpleImputer()</pre></div></div></div><div class=\"sk-item\"><div class=\"sk-estimator sk-toggleable\"><input class=\"sk-toggleable__control sk-hidden--visually\" id=\"sk-estimator-id-30\" type=\"checkbox\" ><label for=\"sk-estimator-id-30\" class=\"sk-toggleable__label sk-toggleable__label-arrow\">StandardScaler</label><div class=\"sk-toggleable__content\"><pre>StandardScaler()</pre></div></div></div></div></div></div></div></div><div class=\"sk-parallel-item\"><div class=\"sk-item\"><div class=\"sk-label-container\"><div class=\"sk-label sk-toggleable\"><input class=\"sk-toggleable__control sk-hidden--visually\" id=\"sk-estimator-id-31\" type=\"checkbox\" ><label for=\"sk-estimator-id-31\" class=\"sk-toggleable__label sk-toggleable__label-arrow\">transf_cat</label><div class=\"sk-toggleable__content\"><pre>[&#x27;Sex&#x27;, &#x27;Housing&#x27;, &#x27;Saving accounts&#x27;, &#x27;Checking account&#x27;, &#x27;Purpose&#x27;]</pre></div></div></div><div class=\"sk-serial\"><div class=\"sk-item\"><div class=\"sk-serial\"><div class=\"sk-item\"><div class=\"sk-estimator sk-toggleable\"><input class=\"sk-toggleable__control sk-hidden--visually\" id=\"sk-estimator-id-32\" type=\"checkbox\" ><label for=\"sk-estimator-id-32\" class=\"sk-toggleable__label sk-toggleable__label-arrow\">SimpleImputer</label><div class=\"sk-toggleable__content\"><pre>SimpleImputer(fill_value=&#x27;unknown&#x27;, strategy=&#x27;constant&#x27;)</pre></div></div></div><div class=\"sk-item\"><div class=\"sk-estimator sk-toggleable\"><input class=\"sk-toggleable__control sk-hidden--visually\" id=\"sk-estimator-id-33\" type=\"checkbox\" ><label for=\"sk-estimator-id-33\" class=\"sk-toggleable__label sk-toggleable__label-arrow\">OrdinalEncoder</label><div class=\"sk-toggleable__content\"><pre>OrdinalEncoder(handle_unknown=&#x27;use_encoded_value&#x27;, unknown_value=-1)</pre></div></div></div></div></div></div></div></div></div></div><div class=\"sk-item\"><div class=\"sk-estimator sk-toggleable\"><input class=\"sk-toggleable__control sk-hidden--visually\" id=\"sk-estimator-id-34\" type=\"checkbox\" ><label for=\"sk-estimator-id-34\" class=\"sk-toggleable__label sk-toggleable__label-arrow\">GradientBoostingClassifier</label><div class=\"sk-toggleable__content\"><pre>GradientBoostingClassifier(random_state=42)</pre></div></div></div></div></div></div></div></div></div></div></div></div>"
      ],
      "text/plain": [
       "RandomizedSearchCV(cv=StratifiedKFold(n_splits=5, random_state=42, shuffle=True),\n",
       "                   estimator=Pipeline(steps=[('pp',\n",
       "                                              ColumnTransformer(transformers=[('transf_num',\n",
       "                                                                               Pipeline(steps=[('input_num',\n",
       "                                                                                                SimpleImputer()),\n",
       "                                                                                               ('std',\n",
       "                                                                                                StandardScaler())]),\n",
       "                                                                               ['Age',\n",
       "                                                                                'Job',\n",
       "                                                                                'Credit '\n",
       "                                                                                'amount',\n",
       "                                                                                'Duration']),\n",
       "                                                                              ('transf_cat',\n",
       "                                                                               Pipeline(steps=[('input_cat',\n",
       "                                                                                                SimpleImputer(fill_value='unknown'...\n",
       "        923,  924,  925,  926,  927,  928,  929,  930,  931,  932,  933,\n",
       "        934,  935,  936,  937,  938,  939,  940,  941,  942,  943,  944,\n",
       "        945,  946,  947,  948,  949,  950,  951,  952,  953,  954,  955,\n",
       "        956,  957,  958,  959,  960,  961,  962,  963,  964,  965,  966,\n",
       "        967,  968,  969,  970,  971,  972,  973,  974,  975,  976,  977,\n",
       "        978,  979,  980,  981,  982,  983,  984,  985,  986,  987,  988,\n",
       "        989,  990,  991,  992,  993,  994,  995,  996,  997,  998,  999,\n",
       "       1000])},\n",
       "                   random_state=42, scoring='f1_weighted', verbose=10)"
      ]
     },
     "execution_count": 30,
     "metadata": {},
     "output_type": "execute_result"
    }
   ],
   "source": [
    "pipe = Pipeline([(\"pp\", pre_processador),\n",
    "                 (\"gb\", GradientBoostingClassifier(random_state=42))])\n",
    "\n",
    "params_distros = {\"gb__loss\" : [\"log_loss\", \"exponential\"],\n",
    "                  \"gb__n_estimators\" : np.arange(10, 1001, 1),\n",
    "                  \"gb__max_depth\" : np.arange(1, 51, 1),\n",
    "                  \"gb__learning_rate\" : scipy.stats.loguniform(1e-6, 1e+1)}\n",
    "\n",
    "splitter = StratifiedKFold(n_splits=5, random_state=42, shuffle=True)\n",
    "\n",
    "rand_gb = RandomizedSearchCV(pipe,\n",
    "                             params_distros,\n",
    "                             n_iter=20,\n",
    "                             cv=splitter,\n",
    "                             scoring=\"f1_weighted\",\n",
    "                             verbose=10,\n",
    "                             n_jobs=-1,\n",
    "                             random_state=42)\n",
    "\n",
    "rand_gb.fit(X_train, y_train)"
   ]
  },
  {
   "cell_type": "code",
   "execution_count": 35,
   "metadata": {
    "ExecuteTime": {
     "end_time": "2022-07-22T00:55:14.510394Z",
     "start_time": "2022-07-22T00:55:14.476411Z"
    }
   },
   "outputs": [
    {
     "data": {
      "text/plain": [
       "{'gb__learning_rate': 0.12328322054506936,\n",
       " 'gb__loss': 'log_loss',\n",
       " 'gb__max_depth': 8,\n",
       " 'gb__n_estimators': 471}"
      ]
     },
     "execution_count": 35,
     "metadata": {},
     "output_type": "execute_result"
    }
   ],
   "source": [
    "rand_gb.best_params_"
   ]
  },
  {
   "cell_type": "code",
   "execution_count": 37,
   "metadata": {
    "ExecuteTime": {
     "end_time": "2022-07-22T00:57:02.663652Z",
     "start_time": "2022-07-22T00:57:01.934945Z"
    }
   },
   "outputs": [
    {
     "name": "stdout",
     "output_type": "stream",
     "text": [
      "Métricas de avaliação de treino - com cutoff = 0.50\n"
     ]
    },
    {
     "data": {
      "image/png": "[encoded data removed]",
      "text/plain": [
       "<Figure size 432x288 with 2 Axes>"
      ]
     },
     "metadata": {
      "needs_background": "light"
     },
     "output_type": "display_data"
    },
    {
     "name": "stdout",
     "output_type": "stream",
     "text": [
      "              precision    recall  f1-score   support\n",
      "\n",
      "         bad       1.00      1.00      1.00       240\n",
      "        good       1.00      1.00      1.00       560\n",
      "\n",
      "    accuracy                           1.00       800\n",
      "   macro avg       1.00      1.00      1.00       800\n",
      "weighted avg       1.00      1.00      1.00       800\n",
      "\n",
      "\n",
      "################################################################################\n",
      "\n",
      "Métricas de avaliação de teste - com cutoff = 0.50\n"
     ]
    },
    {
     "data": {
      "image/png": "[encoded data removed]",
      "text/plain": [
       "<Figure size 432x288 with 2 Axes>"
      ]
     },
     "metadata": {
      "needs_background": "light"
     },
     "output_type": "display_data"
    },
    {
     "name": "stdout",
     "output_type": "stream",
     "text": [
      "              precision    recall  f1-score   support\n",
      "\n",
      "         bad       0.60      0.47      0.52        60\n",
      "        good       0.79      0.86      0.83       140\n",
      "\n",
      "    accuracy                           0.74       200\n",
      "   macro avg       0.69      0.67      0.67       200\n",
      "weighted avg       0.73      0.74      0.74       200\n",
      "\n"
     ]
    }
   ],
   "source": [
    "_ = clf_metrics_train_test(rand_gb, X_train, y_train, X_test, y_test, cutoff=0.5, \n",
    "                           plot_conf_matrix=True, print_cr=True, pos_label=\"bad\")"
   ]
  },
  {
   "cell_type": "markdown",
   "metadata": {
    "ExecuteTime": {
     "end_time": "2022-03-11T20:02:39.023720Z",
     "start_time": "2022-03-11T20:02:39.000730Z"
    }
   },
   "source": [
    "Resultado legal, melhor que o modelo sem busca de hiperparâmetros, mas tivemos um modelo claramente overfitado, o que muito provavelmente se deve ao `max_depth`: árvores profundas tendem a ser modelos overfitados! E, sobretudo para boosting, árvores profundas não é uma boa ideia. Por isso é importante que sempre tenhamos cuidado na definição do espaço de hiperparâmetros: nem sempre é uma boa ideia deixá-lo tão grande, sobretudo quando fazemos poucas amostras com o random search, como foi o caso.\n",
    "\n",
    "A boa notícia é que a otimização bayesiana muda este cenário! Vamos então ver a otimização Bayesiana em ação na prática!"
   ]
  },
  {
   "cell_type": "markdown",
   "metadata": {},
   "source": [
    "Como dissemos anterioremente, vamos utilizar a biblioteca `skopt`. \n",
    "\n",
    "Em particular, a classe que vamos utilizar é a [BayesSearchCV](http://scikit-optimize.github.io/stable/modules/generated/skopt.BayesSearchCV.html#skopt.BayesSearchCV), que é super parecida com as classes que conhecemos do sklearn (grid e random search)!"
   ]
  },
  {
   "cell_type": "code",
   "execution_count": 5,
   "metadata": {
    "ExecuteTime": {
     "end_time": "2022-07-22T22:08:36.031778Z",
     "start_time": "2022-07-22T22:08:35.107135Z"
    }
   },
   "outputs": [],
   "source": [
    "from skopt import BayesSearchCV\n",
    "from skopt.space import Real, Categorical, Integer"
   ]
  },
  {
   "cell_type": "code",
   "execution_count": 6,
   "metadata": {
    "ExecuteTime": {
     "end_time": "2022-07-22T22:12:21.951855Z",
     "start_time": "2022-07-22T22:08:39.189014Z"
    },
    "scrolled": true
   },
   "outputs": [
    {
     "name": "stdout",
     "output_type": "stream",
     "text": [
      "Fitting 5 folds for each of 1 candidates, totalling 5 fits\n",
      "Fitting 5 folds for each of 1 candidates, totalling 5 fits\n",
      "Fitting 5 folds for each of 1 candidates, totalling 5 fits\n",
      "Fitting 5 folds for each of 1 candidates, totalling 5 fits\n",
      "Fitting 5 folds for each of 1 candidates, totalling 5 fits\n",
      "Fitting 5 folds for each of 1 candidates, totalling 5 fits\n",
      "Fitting 5 folds for each of 1 candidates, totalling 5 fits\n",
      "Fitting 5 folds for each of 1 candidates, totalling 5 fits\n",
      "Fitting 5 folds for each of 1 candidates, totalling 5 fits\n",
      "Fitting 5 folds for each of 1 candidates, totalling 5 fits\n",
      "Fitting 5 folds for each of 1 candidates, totalling 5 fits\n",
      "Fitting 5 folds for each of 1 candidates, totalling 5 fits\n",
      "Fitting 5 folds for each of 1 candidates, totalling 5 fits\n",
      "Fitting 5 folds for each of 1 candidates, totalling 5 fits\n",
      "Fitting 5 folds for each of 1 candidates, totalling 5 fits\n",
      "Fitting 5 folds for each of 1 candidates, totalling 5 fits\n",
      "Fitting 5 folds for each of 1 candidates, totalling 5 fits\n",
      "Fitting 5 folds for each of 1 candidates, totalling 5 fits\n",
      "Fitting 5 folds for each of 1 candidates, totalling 5 fits\n",
      "Fitting 5 folds for each of 1 candidates, totalling 5 fits\n"
     ]
    },
    {
     "data": {
      "text/html": [
       "<style>#sk-container-id-1 {color: black;background-color: white;}#sk-container-id-1 pre{padding: 0;}#sk-container-id-1 div.sk-toggleable {background-color: white;}#sk-container-id-1 label.sk-toggleable__label {cursor: pointer;display: block;width: 100%;margin-bottom: 0;padding: 0.3em;box-sizing: border-box;text-align: center;}#sk-container-id-1 label.sk-toggleable__label-arrow:before {content: \"▸\";float: left;margin-right: 0.25em;color: #696969;}#sk-container-id-1 label.sk-toggleable__label-arrow:hover:before {color: black;}#sk-container-id-1 div.sk-estimator:hover label.sk-toggleable__label-arrow:before {color: black;}#sk-container-id-1 div.sk-toggleable__content {max-height: 0;max-width: 0;overflow: hidden;text-align: left;background-color: #f0f8ff;}#sk-container-id-1 div.sk-toggleable__content pre {margin: 0.2em;color: black;border-radius: 0.25em;background-color: #f0f8ff;}#sk-container-id-1 input.sk-toggleable__control:checked~div.sk-toggleable__content {max-height: 200px;max-width: 100%;overflow: auto;}#sk-container-id-1 input.sk-toggleable__control:checked~label.sk-toggleable__label-arrow:before {content: \"▾\";}#sk-container-id-1 div.sk-estimator input.sk-toggleable__control:checked~label.sk-toggleable__label {background-color: #d4ebff;}#sk-container-id-1 div.sk-label input.sk-toggleable__control:checked~label.sk-toggleable__label {background-color: #d4ebff;}#sk-container-id-1 input.sk-hidden--visually {border: 0;clip: rect(1px 1px 1px 1px);clip: rect(1px, 1px, 1px, 1px);height: 1px;margin: -1px;overflow: hidden;padding: 0;position: absolute;width: 1px;}#sk-container-id-1 div.sk-estimator {font-family: monospace;background-color: #f0f8ff;border: 1px dotted black;border-radius: 0.25em;box-sizing: border-box;margin-bottom: 0.5em;}#sk-container-id-1 div.sk-estimator:hover {background-color: #d4ebff;}#sk-container-id-1 div.sk-parallel-item::after {content: \"\";width: 100%;border-bottom: 1px solid gray;flex-grow: 1;}#sk-container-id-1 div.sk-label:hover label.sk-toggleable__label {background-color: #d4ebff;}#sk-container-id-1 div.sk-serial::before {content: \"\";position: absolute;border-left: 1px solid gray;box-sizing: border-box;top: 0;bottom: 0;left: 50%;z-index: 0;}#sk-container-id-1 div.sk-serial {display: flex;flex-direction: column;align-items: center;background-color: white;padding-right: 0.2em;padding-left: 0.2em;position: relative;}#sk-container-id-1 div.sk-item {position: relative;z-index: 1;}#sk-container-id-1 div.sk-parallel {display: flex;align-items: stretch;justify-content: center;background-color: white;position: relative;}#sk-container-id-1 div.sk-item::before, #sk-container-id-1 div.sk-parallel-item::before {content: \"\";position: absolute;border-left: 1px solid gray;box-sizing: border-box;top: 0;bottom: 0;left: 50%;z-index: -1;}#sk-container-id-1 div.sk-parallel-item {display: flex;flex-direction: column;z-index: 1;position: relative;background-color: white;}#sk-container-id-1 div.sk-parallel-item:first-child::after {align-self: flex-end;width: 50%;}#sk-container-id-1 div.sk-parallel-item:last-child::after {align-self: flex-start;width: 50%;}#sk-container-id-1 div.sk-parallel-item:only-child::after {width: 0;}#sk-container-id-1 div.sk-dashed-wrapped {border: 1px dashed gray;margin: 0 0.4em 0.5em 0.4em;box-sizing: border-box;padding-bottom: 0.4em;background-color: white;}#sk-container-id-1 div.sk-label label {font-family: monospace;font-weight: bold;display: inline-block;line-height: 1.2em;}#sk-container-id-1 div.sk-label-container {text-align: center;}#sk-container-id-1 div.sk-container {/* jupyter's `normalize.less` sets `[hidden] { display: none; }` but bootstrap.min.css set `[hidden] { display: none !important; }` so we also need the `!important` here to be able to override the default hidden behavior on the sphinx rendered scikit-learn.org. See: https://github.com/scikit-learn/scikit-learn/issues/21755 */display: inline-block !important;position: relative;}#sk-container-id-1 div.sk-text-repr-fallback {display: none;}</style><div id=\"sk-container-id-1\" class=\"sk-top-container\"><div class=\"sk-text-repr-fallback\"><pre>BayesSearchCV(cv=StratifiedKFold(n_splits=5, random_state=42, shuffle=True),\n",
       "              estimator=Pipeline(steps=[(&#x27;pp&#x27;,\n",
       "                                         ColumnTransformer(transformers=[(&#x27;transf_num&#x27;,\n",
       "                                                                          Pipeline(steps=[(&#x27;input_num&#x27;,\n",
       "                                                                                           SimpleImputer()),\n",
       "                                                                                          (&#x27;std&#x27;,\n",
       "                                                                                           StandardScaler())]),\n",
       "                                                                          [&#x27;Age&#x27;,\n",
       "                                                                           &#x27;Job&#x27;,\n",
       "                                                                           &#x27;Credit &#x27;\n",
       "                                                                           &#x27;amount&#x27;,\n",
       "                                                                           &#x27;Duration&#x27;]),\n",
       "                                                                         (&#x27;transf_cat&#x27;,\n",
       "                                                                          Pipeline(steps=[(&#x27;input_cat&#x27;,\n",
       "                                                                                           SimpleImputer(fill_value=&#x27;unknown&#x27;,\n",
       "                                                                                                         stra...\n",
       "              n_iter=20, n_jobs=-1, random_state=42, scoring=&#x27;f1_weighted&#x27;,\n",
       "              search_spaces={&#x27;gb__learning_rate&#x27;: Real(low=1e-06, high=10.0, prior=&#x27;log-uniform&#x27;, transform=&#x27;normalize&#x27;),\n",
       "                             &#x27;gb__loss&#x27;: Categorical(categories=(&#x27;log_loss&#x27;, &#x27;exponential&#x27;), prior=None),\n",
       "                             &#x27;gb__max_depth&#x27;: Integer(low=1, high=50, prior=&#x27;uniform&#x27;, transform=&#x27;normalize&#x27;),\n",
       "                             &#x27;gb__n_estimators&#x27;: Integer(low=50, high=1000, prior=&#x27;uniform&#x27;, transform=&#x27;normalize&#x27;)},\n",
       "              verbose=10)</pre><b>In a Jupyter environment, please rerun this cell to show the HTML representation or trust the notebook. <br />On GitHub, the HTML representation is unable to render, please try loading this page with nbviewer.org.</b></div><div class=\"sk-container\" hidden><div class=\"sk-item sk-dashed-wrapped\"><div class=\"sk-label-container\"><div class=\"sk-label sk-toggleable\"><input class=\"sk-toggleable__control sk-hidden--visually\" id=\"sk-estimator-id-1\" type=\"checkbox\" ><label for=\"sk-estimator-id-1\" class=\"sk-toggleable__label sk-toggleable__label-arrow\">BayesSearchCV</label><div class=\"sk-toggleable__content\"><pre>BayesSearchCV(cv=StratifiedKFold(n_splits=5, random_state=42, shuffle=True),\n",
       "              estimator=Pipeline(steps=[(&#x27;pp&#x27;,\n",
       "                                         ColumnTransformer(transformers=[(&#x27;transf_num&#x27;,\n",
       "                                                                          Pipeline(steps=[(&#x27;input_num&#x27;,\n",
       "                                                                                           SimpleImputer()),\n",
       "                                                                                          (&#x27;std&#x27;,\n",
       "                                                                                           StandardScaler())]),\n",
       "                                                                          [&#x27;Age&#x27;,\n",
       "                                                                           &#x27;Job&#x27;,\n",
       "                                                                           &#x27;Credit &#x27;\n",
       "                                                                           &#x27;amount&#x27;,\n",
       "                                                                           &#x27;Duration&#x27;]),\n",
       "                                                                         (&#x27;transf_cat&#x27;,\n",
       "                                                                          Pipeline(steps=[(&#x27;input_cat&#x27;,\n",
       "                                                                                           SimpleImputer(fill_value=&#x27;unknown&#x27;,\n",
       "                                                                                                         stra...\n",
       "              n_iter=20, n_jobs=-1, random_state=42, scoring=&#x27;f1_weighted&#x27;,\n",
       "              search_spaces={&#x27;gb__learning_rate&#x27;: Real(low=1e-06, high=10.0, prior=&#x27;log-uniform&#x27;, transform=&#x27;normalize&#x27;),\n",
       "                             &#x27;gb__loss&#x27;: Categorical(categories=(&#x27;log_loss&#x27;, &#x27;exponential&#x27;), prior=None),\n",
       "                             &#x27;gb__max_depth&#x27;: Integer(low=1, high=50, prior=&#x27;uniform&#x27;, transform=&#x27;normalize&#x27;),\n",
       "                             &#x27;gb__n_estimators&#x27;: Integer(low=50, high=1000, prior=&#x27;uniform&#x27;, transform=&#x27;normalize&#x27;)},\n",
       "              verbose=10)</pre></div></div></div><div class=\"sk-parallel\"><div class=\"sk-parallel-item\"><div class=\"sk-item\"><div class=\"sk-label-container\"><div class=\"sk-label sk-toggleable\"><input class=\"sk-toggleable__control sk-hidden--visually\" id=\"sk-estimator-id-2\" type=\"checkbox\" ><label for=\"sk-estimator-id-2\" class=\"sk-toggleable__label sk-toggleable__label-arrow\">estimator: Pipeline</label><div class=\"sk-toggleable__content\"><pre>Pipeline(steps=[(&#x27;pp&#x27;,\n",
       "                 ColumnTransformer(transformers=[(&#x27;transf_num&#x27;,\n",
       "                                                  Pipeline(steps=[(&#x27;input_num&#x27;,\n",
       "                                                                   SimpleImputer()),\n",
       "                                                                  (&#x27;std&#x27;,\n",
       "                                                                   StandardScaler())]),\n",
       "                                                  [&#x27;Age&#x27;, &#x27;Job&#x27;,\n",
       "                                                   &#x27;Credit amount&#x27;,\n",
       "                                                   &#x27;Duration&#x27;]),\n",
       "                                                 (&#x27;transf_cat&#x27;,\n",
       "                                                  Pipeline(steps=[(&#x27;input_cat&#x27;,\n",
       "                                                                   SimpleImputer(fill_value=&#x27;unknown&#x27;,\n",
       "                                                                                 strategy=&#x27;constant&#x27;)),\n",
       "                                                                  (&#x27;ordinal&#x27;,\n",
       "                                                                   OrdinalEncoder(handle_unknown=&#x27;use_encoded_value&#x27;,\n",
       "                                                                                  unknown_value=-1))]),\n",
       "                                                  [&#x27;Sex&#x27;, &#x27;Housing&#x27;,\n",
       "                                                   &#x27;Saving accounts&#x27;,\n",
       "                                                   &#x27;Checking account&#x27;,\n",
       "                                                   &#x27;Purpose&#x27;])])),\n",
       "                (&#x27;gb&#x27;, GradientBoostingClassifier(random_state=42))])</pre></div></div></div><div class=\"sk-serial\"><div class=\"sk-item\"><div class=\"sk-serial\"><div class=\"sk-item sk-dashed-wrapped\"><div class=\"sk-label-container\"><div class=\"sk-label sk-toggleable\"><input class=\"sk-toggleable__control sk-hidden--visually\" id=\"sk-estimator-id-3\" type=\"checkbox\" ><label for=\"sk-estimator-id-3\" class=\"sk-toggleable__label sk-toggleable__label-arrow\">pp: ColumnTransformer</label><div class=\"sk-toggleable__content\"><pre>ColumnTransformer(transformers=[(&#x27;transf_num&#x27;,\n",
       "                                 Pipeline(steps=[(&#x27;input_num&#x27;, SimpleImputer()),\n",
       "                                                 (&#x27;std&#x27;, StandardScaler())]),\n",
       "                                 [&#x27;Age&#x27;, &#x27;Job&#x27;, &#x27;Credit amount&#x27;, &#x27;Duration&#x27;]),\n",
       "                                (&#x27;transf_cat&#x27;,\n",
       "                                 Pipeline(steps=[(&#x27;input_cat&#x27;,\n",
       "                                                  SimpleImputer(fill_value=&#x27;unknown&#x27;,\n",
       "                                                                strategy=&#x27;constant&#x27;)),\n",
       "                                                 (&#x27;ordinal&#x27;,\n",
       "                                                  OrdinalEncoder(handle_unknown=&#x27;use_encoded_value&#x27;,\n",
       "                                                                 unknown_value=-1))]),\n",
       "                                 [&#x27;Sex&#x27;, &#x27;Housing&#x27;, &#x27;Saving accounts&#x27;,\n",
       "                                  &#x27;Checking account&#x27;, &#x27;Purpose&#x27;])])</pre></div></div></div><div class=\"sk-parallel\"><div class=\"sk-parallel-item\"><div class=\"sk-item\"><div class=\"sk-label-container\"><div class=\"sk-label sk-toggleable\"><input class=\"sk-toggleable__control sk-hidden--visually\" id=\"sk-estimator-id-4\" type=\"checkbox\" ><label for=\"sk-estimator-id-4\" class=\"sk-toggleable__label sk-toggleable__label-arrow\">transf_num</label><div class=\"sk-toggleable__content\"><pre>[&#x27;Age&#x27;, &#x27;Job&#x27;, &#x27;Credit amount&#x27;, &#x27;Duration&#x27;]</pre></div></div></div><div class=\"sk-serial\"><div class=\"sk-item\"><div class=\"sk-serial\"><div class=\"sk-item\"><div class=\"sk-estimator sk-toggleable\"><input class=\"sk-toggleable__control sk-hidden--visually\" id=\"sk-estimator-id-5\" type=\"checkbox\" ><label for=\"sk-estimator-id-5\" class=\"sk-toggleable__label sk-toggleable__label-arrow\">SimpleImputer</label><div class=\"sk-toggleable__content\"><pre>SimpleImputer()</pre></div></div></div><div class=\"sk-item\"><div class=\"sk-estimator sk-toggleable\"><input class=\"sk-toggleable__control sk-hidden--visually\" id=\"sk-estimator-id-6\" type=\"checkbox\" ><label for=\"sk-estimator-id-6\" class=\"sk-toggleable__label sk-toggleable__label-arrow\">StandardScaler</label><div class=\"sk-toggleable__content\"><pre>StandardScaler()</pre></div></div></div></div></div></div></div></div><div class=\"sk-parallel-item\"><div class=\"sk-item\"><div class=\"sk-label-container\"><div class=\"sk-label sk-toggleable\"><input class=\"sk-toggleable__control sk-hidden--visually\" id=\"sk-estimator-id-7\" type=\"checkbox\" ><label for=\"sk-estimator-id-7\" class=\"sk-toggleable__label sk-toggleable__label-arrow\">transf_cat</label><div class=\"sk-toggleable__content\"><pre>[&#x27;Sex&#x27;, &#x27;Housing&#x27;, &#x27;Saving accounts&#x27;, &#x27;Checking account&#x27;, &#x27;Purpose&#x27;]</pre></div></div></div><div class=\"sk-serial\"><div class=\"sk-item\"><div class=\"sk-serial\"><div class=\"sk-item\"><div class=\"sk-estimator sk-toggleable\"><input class=\"sk-toggleable__control sk-hidden--visually\" id=\"sk-estimator-id-8\" type=\"checkbox\" ><label for=\"sk-estimator-id-8\" class=\"sk-toggleable__label sk-toggleable__label-arrow\">SimpleImputer</label><div class=\"sk-toggleable__content\"><pre>SimpleImputer(fill_value=&#x27;unknown&#x27;, strategy=&#x27;constant&#x27;)</pre></div></div></div><div class=\"sk-item\"><div class=\"sk-estimator sk-toggleable\"><input class=\"sk-toggleable__control sk-hidden--visually\" id=\"sk-estimator-id-9\" type=\"checkbox\" ><label for=\"sk-estimator-id-9\" class=\"sk-toggleable__label sk-toggleable__label-arrow\">OrdinalEncoder</label><div class=\"sk-toggleable__content\"><pre>OrdinalEncoder(handle_unknown=&#x27;use_encoded_value&#x27;, unknown_value=-1)</pre></div></div></div></div></div></div></div></div></div></div><div class=\"sk-item\"><div class=\"sk-estimator sk-toggleable\"><input class=\"sk-toggleable__control sk-hidden--visually\" id=\"sk-estimator-id-10\" type=\"checkbox\" ><label for=\"sk-estimator-id-10\" class=\"sk-toggleable__label sk-toggleable__label-arrow\">GradientBoostingClassifier</label><div class=\"sk-toggleable__content\"><pre>GradientBoostingClassifier(random_state=42)</pre></div></div></div></div></div></div></div></div></div></div></div></div>"
      ],
      "text/plain": [
       "BayesSearchCV(cv=StratifiedKFold(n_splits=5, random_state=42, shuffle=True),\n",
       "              estimator=Pipeline(steps=[('pp',\n",
       "                                         ColumnTransformer(transformers=[('transf_num',\n",
       "                                                                          Pipeline(steps=[('input_num',\n",
       "                                                                                           SimpleImputer()),\n",
       "                                                                                          ('std',\n",
       "                                                                                           StandardScaler())]),\n",
       "                                                                          ['Age',\n",
       "                                                                           'Job',\n",
       "                                                                           'Credit '\n",
       "                                                                           'amount',\n",
       "                                                                           'Duration']),\n",
       "                                                                         ('transf_cat',\n",
       "                                                                          Pipeline(steps=[('input_cat',\n",
       "                                                                                           SimpleImputer(fill_value='unknown',\n",
       "                                                                                                         stra...\n",
       "              n_iter=20, n_jobs=-1, random_state=42, scoring='f1_weighted',\n",
       "              search_spaces={'gb__learning_rate': Real(low=1e-06, high=10.0, prior='log-uniform', transform='normalize'),\n",
       "                             'gb__loss': Categorical(categories=('log_loss', 'exponential'), prior=None),\n",
       "                             'gb__max_depth': Integer(low=1, high=50, prior='uniform', transform='normalize'),\n",
       "                             'gb__n_estimators': Integer(low=50, high=1000, prior='uniform', transform='normalize')},\n",
       "              verbose=10)"
      ]
     },
     "execution_count": 6,
     "metadata": {},
     "output_type": "execute_result"
    }
   ],
   "source": [
    "pipe = Pipeline([(\"pp\", pre_processador),\n",
    "                 (\"gb\", GradientBoostingClassifier(random_state=42))])\n",
    "\n",
    "params_distros = {\"gb__loss\" : Categorical([\"log_loss\", \"exponential\"]),\n",
    "                  \"gb__n_estimators\" : Integer(50, 1000, \"uniform\"),\n",
    "                  \"gb__max_depth\" : Integer(1, 50, \"uniform\"),\n",
    "                  \"gb__learning_rate\" : Real(1e-6, 1e+1, \"log-uniform\")}\n",
    "\n",
    "splitter = StratifiedKFold(n_splits=5, random_state=42, shuffle=True)\n",
    "\n",
    "bayes_gb = BayesSearchCV(pipe,\n",
    "                         params_distros,\n",
    "                         n_iter=20,\n",
    "                         cv=splitter,\n",
    "                         scoring=\"f1_weighted\",\n",
    "                         verbose=10,\n",
    "                         n_jobs=-1,\n",
    "                         random_state=42)\n",
    "\n",
    "bayes_gb.fit(X_train, y_train)"
   ]
  },
  {
   "cell_type": "code",
   "execution_count": 7,
   "metadata": {
    "ExecuteTime": {
     "end_time": "2022-07-22T22:12:21.967843Z",
     "start_time": "2022-07-22T22:12:21.956850Z"
    }
   },
   "outputs": [
    {
     "data": {
      "text/plain": [
       "OrderedDict([('gb__learning_rate', 0.1740237291083292),\n",
       "             ('gb__loss', 'log_loss'),\n",
       "             ('gb__max_depth', 1),\n",
       "             ('gb__n_estimators', 808)])"
      ]
     },
     "execution_count": 7,
     "metadata": {},
     "output_type": "execute_result"
    }
   ],
   "source": [
    "bayes_gb.best_params_"
   ]
  },
  {
   "cell_type": "code",
   "execution_count": 8,
   "metadata": {
    "ExecuteTime": {
     "end_time": "2022-07-22T22:17:38.703746Z",
     "start_time": "2022-07-22T22:17:37.313167Z"
    }
   },
   "outputs": [
    {
     "name": "stdout",
     "output_type": "stream",
     "text": [
      "Métricas de avaliação de treino - com cutoff = 0.50\n"
     ]
    },
    {
     "data": {
      "image/png": "[encoded data removed]",
      "text/plain": [
       "<Figure size 432x288 with 2 Axes>"
      ]
     },
     "metadata": {
      "needs_background": "light"
     },
     "output_type": "display_data"
    },
    {
     "name": "stdout",
     "output_type": "stream",
     "text": [
      "              precision    recall  f1-score   support\n",
      "\n",
      "         bad       0.72      0.54      0.62       240\n",
      "        good       0.82      0.91      0.86       560\n",
      "\n",
      "    accuracy                           0.80       800\n",
      "   macro avg       0.77      0.73      0.74       800\n",
      "weighted avg       0.79      0.80      0.79       800\n",
      "\n",
      "\n",
      "################################################################################\n",
      "\n",
      "Métricas de avaliação de teste - com cutoff = 0.50\n"
     ]
    },
    {
     "data": {
      "image/png": "[encoded data removed]",
      "text/plain": [
       "<Figure size 432x288 with 2 Axes>"
      ]
     },
     "metadata": {
      "needs_background": "light"
     },
     "output_type": "display_data"
    },
    {
     "name": "stdout",
     "output_type": "stream",
     "text": [
      "              precision    recall  f1-score   support\n",
      "\n",
      "         bad       0.68      0.50      0.58        60\n",
      "        good       0.81      0.90      0.85       140\n",
      "\n",
      "    accuracy                           0.78       200\n",
      "   macro avg       0.74      0.70      0.71       200\n",
      "weighted avg       0.77      0.78      0.77       200\n",
      "\n"
     ]
    }
   ],
   "source": [
    "_ = clf_metrics_train_test(bayes_gb, X_train, y_train, X_test, y_test, cutoff=0.5, \n",
    "                           plot_conf_matrix=True, print_cr=True, pos_label=\"bad\")"
   ]
  },
  {
   "cell_type": "markdown",
   "metadata": {},
   "source": [
    "Conseguimos melhorar ainda mais nosso modelo, e com o mesmo número de iterações! \n",
    "\n",
    "Esse é o poder da otimização Bayesiana!"
   ]
  },
  {
   "cell_type": "markdown",
   "metadata": {},
   "source": [
    "___________"
   ]
  },
  {
   "cell_type": "markdown",
   "metadata": {},
   "source": [
    "## 3) Ferramentas de visualização da skopt\n",
    "\n",
    "Além da classe que nos permite fazer a otimização bayesiana de modo totalmente integrada e similar ao sklearn, a `skopt` disponibiliza também ferramentas muito interessantes para a visualização do processo de otimização de hiperparâmetros!\n",
    "\n",
    "Vamos conhecer algumas destas ferramentas!"
   ]
  },
  {
   "cell_type": "markdown",
   "metadata": {},
   "source": [
    "### Gráfico de convergência \n",
    "\n",
    "Com o método [plot_convergence](https://scikit-optimize.github.io/stable/modules/generated/skopt.plots.plot_convergence.html#skopt.plots.plot_convergence), visualizar a evolução da métrica de avaliação desejada em função do número de iterações.\n",
    "\n",
    "Lembre-se que o valor da métrica de avaliação nada mais é que $F(x)$, o valor da função objetivo avaliada a cada combinação de hiperparâmetros $x$ que é amostrada em cada iteração!\n"
   ]
  },
  {
   "cell_type": "code",
   "execution_count": 15,
   "metadata": {
    "ExecuteTime": {
     "end_time": "2022-07-22T22:35:35.484185Z",
     "start_time": "2022-07-22T22:35:35.346068Z"
    },
    "scrolled": true
   },
   "outputs": [
    {
     "data": {
      "text/html": [
       "<div>\n",
       "<style scoped>\n",
       "    .dataframe tbody tr th:only-of-type {\n",
       "        vertical-align: middle;\n",
       "    }\n",
       "\n",
       "    .dataframe tbody tr th {\n",
       "        vertical-align: top;\n",
       "    }\n",
       "\n",
       "    .dataframe thead th {\n",
       "        text-align: right;\n",
       "    }\n",
       "</style>\n",
       "<table border=\"1\" class=\"dataframe\">\n",
       "  <thead>\n",
       "    <tr style=\"text-align: right;\">\n",
       "      <th></th>\n",
       "      <th>mean_fit_time</th>\n",
       "      <th>std_fit_time</th>\n",
       "      <th>mean_score_time</th>\n",
       "      <th>std_score_time</th>\n",
       "      <th>param_gb__learning_rate</th>\n",
       "      <th>param_gb__loss</th>\n",
       "      <th>param_gb__max_depth</th>\n",
       "      <th>param_gb__n_estimators</th>\n",
       "      <th>params</th>\n",
       "      <th>split0_test_score</th>\n",
       "      <th>split1_test_score</th>\n",
       "      <th>split2_test_score</th>\n",
       "      <th>split3_test_score</th>\n",
       "      <th>split4_test_score</th>\n",
       "      <th>mean_test_score</th>\n",
       "      <th>std_test_score</th>\n",
       "      <th>rank_test_score</th>\n",
       "    </tr>\n",
       "  </thead>\n",
       "  <tbody>\n",
       "    <tr>\n",
       "      <th>0</th>\n",
       "      <td>8.547459</td>\n",
       "      <td>1.464219</td>\n",
       "      <td>0.034680</td>\n",
       "      <td>0.012640</td>\n",
       "      <td>0.000743</td>\n",
       "      <td>log_loss</td>\n",
       "      <td>47</td>\n",
       "      <td>350</td>\n",
       "      <td>{'gb__learning_rate': 0.0007425534359037013, '...</td>\n",
       "      <td>0.576471</td>\n",
       "      <td>0.576471</td>\n",
       "      <td>0.576471</td>\n",
       "      <td>0.576471</td>\n",
       "      <td>0.576471</td>\n",
       "      <td>0.576471</td>\n",
       "      <td>0.000000</td>\n",
       "      <td>16</td>\n",
       "    </tr>\n",
       "    <tr>\n",
       "      <th>1</th>\n",
       "      <td>2.478669</td>\n",
       "      <td>0.582760</td>\n",
       "      <td>0.026283</td>\n",
       "      <td>0.010948</td>\n",
       "      <td>0.727308</td>\n",
       "      <td>log_loss</td>\n",
       "      <td>16</td>\n",
       "      <td>954</td>\n",
       "      <td>{'gb__learning_rate': 0.7273082081096716, 'gb_...</td>\n",
       "      <td>0.582470</td>\n",
       "      <td>0.698518</td>\n",
       "      <td>0.581651</td>\n",
       "      <td>0.681159</td>\n",
       "      <td>0.696110</td>\n",
       "      <td>0.647982</td>\n",
       "      <td>0.054153</td>\n",
       "      <td>11</td>\n",
       "    </tr>\n",
       "    <tr>\n",
       "      <th>2</th>\n",
       "      <td>4.571165</td>\n",
       "      <td>0.839971</td>\n",
       "      <td>0.025186</td>\n",
       "      <td>0.004830</td>\n",
       "      <td>0.0013</td>\n",
       "      <td>log_loss</td>\n",
       "      <td>6</td>\n",
       "      <td>462</td>\n",
       "      <td>{'gb__learning_rate': 0.0012996535162010368, '...</td>\n",
       "      <td>0.623480</td>\n",
       "      <td>0.703125</td>\n",
       "      <td>0.630769</td>\n",
       "      <td>0.623392</td>\n",
       "      <td>0.651870</td>\n",
       "      <td>0.646527</td>\n",
       "      <td>0.030155</td>\n",
       "      <td>12</td>\n",
       "    </tr>\n",
       "    <tr>\n",
       "      <th>3</th>\n",
       "      <td>2.273045</td>\n",
       "      <td>0.569922</td>\n",
       "      <td>0.028385</td>\n",
       "      <td>0.013655</td>\n",
       "      <td>0.486152</td>\n",
       "      <td>exponential</td>\n",
       "      <td>30</td>\n",
       "      <td>813</td>\n",
       "      <td>{'gb__learning_rate': 0.4861518228524981, 'gb_...</td>\n",
       "      <td>0.693732</td>\n",
       "      <td>0.680764</td>\n",
       "      <td>0.586835</td>\n",
       "      <td>0.663266</td>\n",
       "      <td>0.658124</td>\n",
       "      <td>0.656544</td>\n",
       "      <td>0.037085</td>\n",
       "      <td>6</td>\n",
       "    </tr>\n",
       "    <tr>\n",
       "      <th>4</th>\n",
       "      <td>1.992512</td>\n",
       "      <td>0.505691</td>\n",
       "      <td>0.024709</td>\n",
       "      <td>0.007643</td>\n",
       "      <td>0.395252</td>\n",
       "      <td>exponential</td>\n",
       "      <td>27</td>\n",
       "      <td>730</td>\n",
       "      <td>{'gb__learning_rate': 0.395252013727049, 'gb__...</td>\n",
       "      <td>0.693732</td>\n",
       "      <td>0.680764</td>\n",
       "      <td>0.576448</td>\n",
       "      <td>0.665831</td>\n",
       "      <td>0.647825</td>\n",
       "      <td>0.652920</td>\n",
       "      <td>0.041186</td>\n",
       "      <td>8</td>\n",
       "    </tr>\n",
       "    <tr>\n",
       "      <th>5</th>\n",
       "      <td>5.629309</td>\n",
       "      <td>1.242735</td>\n",
       "      <td>0.036792</td>\n",
       "      <td>0.008146</td>\n",
       "      <td>0.137466</td>\n",
       "      <td>log_loss</td>\n",
       "      <td>9</td>\n",
       "      <td>229</td>\n",
       "      <td>{'gb__learning_rate': 0.1374662627789092, 'gb_...</td>\n",
       "      <td>0.732174</td>\n",
       "      <td>0.775610</td>\n",
       "      <td>0.643615</td>\n",
       "      <td>0.659189</td>\n",
       "      <td>0.716974</td>\n",
       "      <td>0.705512</td>\n",
       "      <td>0.048442</td>\n",
       "      <td>3</td>\n",
       "    </tr>\n",
       "    <tr>\n",
       "      <th>6</th>\n",
       "      <td>22.212528</td>\n",
       "      <td>3.759769</td>\n",
       "      <td>0.042575</td>\n",
       "      <td>0.014751</td>\n",
       "      <td>0.020872</td>\n",
       "      <td>log_loss</td>\n",
       "      <td>19</td>\n",
       "      <td>881</td>\n",
       "      <td>{'gb__learning_rate': 0.020871588778809444, 'g...</td>\n",
       "      <td>0.633927</td>\n",
       "      <td>0.692138</td>\n",
       "      <td>0.599168</td>\n",
       "      <td>0.670919</td>\n",
       "      <td>0.658124</td>\n",
       "      <td>0.650855</td>\n",
       "      <td>0.031993</td>\n",
       "      <td>10</td>\n",
       "    </tr>\n",
       "    <tr>\n",
       "      <th>7</th>\n",
       "      <td>24.786567</td>\n",
       "      <td>6.631021</td>\n",
       "      <td>0.053368</td>\n",
       "      <td>0.016383</td>\n",
       "      <td>0.006365</td>\n",
       "      <td>log_loss</td>\n",
       "      <td>25</td>\n",
       "      <td>846</td>\n",
       "      <td>{'gb__learning_rate': 0.006365338060906856, 'g...</td>\n",
       "      <td>0.693732</td>\n",
       "      <td>0.697802</td>\n",
       "      <td>0.589851</td>\n",
       "      <td>0.676009</td>\n",
       "      <td>0.668406</td>\n",
       "      <td>0.665160</td>\n",
       "      <td>0.039196</td>\n",
       "      <td>4</td>\n",
       "    </tr>\n",
       "    <tr>\n",
       "      <th>8</th>\n",
       "      <td>0.646789</td>\n",
       "      <td>0.043433</td>\n",
       "      <td>0.023182</td>\n",
       "      <td>0.010902</td>\n",
       "      <td>4.879169</td>\n",
       "      <td>log_loss</td>\n",
       "      <td>44</td>\n",
       "      <td>445</td>\n",
       "      <td>{'gb__learning_rate': 4.8791694844275515, 'gb_...</td>\n",
       "      <td>0.700465</td>\n",
       "      <td>0.669802</td>\n",
       "      <td>0.581651</td>\n",
       "      <td>0.655205</td>\n",
       "      <td>0.662500</td>\n",
       "      <td>0.653925</td>\n",
       "      <td>0.039285</td>\n",
       "      <td>7</td>\n",
       "    </tr>\n",
       "    <tr>\n",
       "      <th>9</th>\n",
       "      <td>7.217781</td>\n",
       "      <td>1.591163</td>\n",
       "      <td>0.032019</td>\n",
       "      <td>0.014098</td>\n",
       "      <td>0.000001</td>\n",
       "      <td>log_loss</td>\n",
       "      <td>37</td>\n",
       "      <td>292</td>\n",
       "      <td>{'gb__learning_rate': 1.0602594470835007e-06, ...</td>\n",
       "      <td>0.576471</td>\n",
       "      <td>0.576471</td>\n",
       "      <td>0.576471</td>\n",
       "      <td>0.576471</td>\n",
       "      <td>0.576471</td>\n",
       "      <td>0.576471</td>\n",
       "      <td>0.000000</td>\n",
       "      <td>16</td>\n",
       "    </tr>\n",
       "    <tr>\n",
       "      <th>10</th>\n",
       "      <td>2.094011</td>\n",
       "      <td>0.442662</td>\n",
       "      <td>0.034992</td>\n",
       "      <td>0.021696</td>\n",
       "      <td>2.051095</td>\n",
       "      <td>log_loss</td>\n",
       "      <td>6</td>\n",
       "      <td>171</td>\n",
       "      <td>{'gb__learning_rate': 2.051094699342426, 'gb__...</td>\n",
       "      <td>0.527273</td>\n",
       "      <td>0.675051</td>\n",
       "      <td>0.605461</td>\n",
       "      <td>0.650089</td>\n",
       "      <td>0.532719</td>\n",
       "      <td>0.598119</td>\n",
       "      <td>0.059949</td>\n",
       "      <td>15</td>\n",
       "    </tr>\n",
       "    <tr>\n",
       "      <th>11</th>\n",
       "      <td>0.114735</td>\n",
       "      <td>0.022917</td>\n",
       "      <td>0.021987</td>\n",
       "      <td>0.007124</td>\n",
       "      <td>0.066562</td>\n",
       "      <td>exponential</td>\n",
       "      <td>1</td>\n",
       "      <td>50</td>\n",
       "      <td>{'gb__learning_rate': 0.0665620675119858, 'gb_...</td>\n",
       "      <td>0.603293</td>\n",
       "      <td>0.670545</td>\n",
       "      <td>0.641825</td>\n",
       "      <td>0.618194</td>\n",
       "      <td>0.631228</td>\n",
       "      <td>0.633017</td>\n",
       "      <td>0.022770</td>\n",
       "      <td>14</td>\n",
       "    </tr>\n",
       "    <tr>\n",
       "      <th>12</th>\n",
       "      <td>0.267967</td>\n",
       "      <td>0.058448</td>\n",
       "      <td>0.024386</td>\n",
       "      <td>0.006972</td>\n",
       "      <td>0.000001</td>\n",
       "      <td>exponential</td>\n",
       "      <td>1</td>\n",
       "      <td>116</td>\n",
       "      <td>{'gb__learning_rate': 1.09938684142729e-06, 'g...</td>\n",
       "      <td>0.576471</td>\n",
       "      <td>0.576471</td>\n",
       "      <td>0.576471</td>\n",
       "      <td>0.576471</td>\n",
       "      <td>0.576471</td>\n",
       "      <td>0.576471</td>\n",
       "      <td>0.000000</td>\n",
       "      <td>16</td>\n",
       "    </tr>\n",
       "    <tr>\n",
       "      <th>13</th>\n",
       "      <td>1.541117</td>\n",
       "      <td>0.344035</td>\n",
       "      <td>0.023386</td>\n",
       "      <td>0.015126</td>\n",
       "      <td>0.152996</td>\n",
       "      <td>log_loss</td>\n",
       "      <td>23</td>\n",
       "      <td>71</td>\n",
       "      <td>{'gb__learning_rate': 0.1529963777044206, 'gb_...</td>\n",
       "      <td>0.641455</td>\n",
       "      <td>0.675051</td>\n",
       "      <td>0.586835</td>\n",
       "      <td>0.660403</td>\n",
       "      <td>0.667743</td>\n",
       "      <td>0.646297</td>\n",
       "      <td>0.031764</td>\n",
       "      <td>13</td>\n",
       "    </tr>\n",
       "    <tr>\n",
       "      <th>14</th>\n",
       "      <td>3.881890</td>\n",
       "      <td>0.842560</td>\n",
       "      <td>0.023993</td>\n",
       "      <td>0.006225</td>\n",
       "      <td>0.110007</td>\n",
       "      <td>log_loss</td>\n",
       "      <td>5</td>\n",
       "      <td>455</td>\n",
       "      <td>{'gb__learning_rate': 0.11000719387281149, 'gb...</td>\n",
       "      <td>0.714888</td>\n",
       "      <td>0.772082</td>\n",
       "      <td>0.688968</td>\n",
       "      <td>0.706667</td>\n",
       "      <td>0.698409</td>\n",
       "      <td>0.716203</td>\n",
       "      <td>0.029235</td>\n",
       "      <td>2</td>\n",
       "    </tr>\n",
       "    <tr>\n",
       "      <th>15</th>\n",
       "      <td>3.045911</td>\n",
       "      <td>0.288244</td>\n",
       "      <td>0.042377</td>\n",
       "      <td>0.026073</td>\n",
       "      <td>0.174024</td>\n",
       "      <td>log_loss</td>\n",
       "      <td>1</td>\n",
       "      <td>808</td>\n",
       "      <td>{'gb__learning_rate': 0.1740237291083292, 'gb_...</td>\n",
       "      <td>0.733166</td>\n",
       "      <td>0.768652</td>\n",
       "      <td>0.699274</td>\n",
       "      <td>0.701425</td>\n",
       "      <td>0.691302</td>\n",
       "      <td>0.718764</td>\n",
       "      <td>0.028743</td>\n",
       "      <td>1</td>\n",
       "    </tr>\n",
       "    <tr>\n",
       "      <th>16</th>\n",
       "      <td>1.803515</td>\n",
       "      <td>0.270720</td>\n",
       "      <td>0.038042</td>\n",
       "      <td>0.015402</td>\n",
       "      <td>10.0</td>\n",
       "      <td>exponential</td>\n",
       "      <td>50</td>\n",
       "      <td>738</td>\n",
       "      <td>{'gb__learning_rate': 10.0, 'gb__loss': 'expon...</td>\n",
       "      <td>0.682737</td>\n",
       "      <td>0.675583</td>\n",
       "      <td>0.576448</td>\n",
       "      <td>0.655652</td>\n",
       "      <td>0.672981</td>\n",
       "      <td>0.652680</td>\n",
       "      <td>0.039141</td>\n",
       "      <td>9</td>\n",
       "    </tr>\n",
       "    <tr>\n",
       "      <th>17</th>\n",
       "      <td>1.617153</td>\n",
       "      <td>0.245587</td>\n",
       "      <td>0.018316</td>\n",
       "      <td>0.005103</td>\n",
       "      <td>0.000195</td>\n",
       "      <td>exponential</td>\n",
       "      <td>1</td>\n",
       "      <td>836</td>\n",
       "      <td>{'gb__learning_rate': 0.0001954567866683063, '...</td>\n",
       "      <td>0.576471</td>\n",
       "      <td>0.576471</td>\n",
       "      <td>0.576471</td>\n",
       "      <td>0.576471</td>\n",
       "      <td>0.576471</td>\n",
       "      <td>0.576471</td>\n",
       "      <td>0.000000</td>\n",
       "      <td>16</td>\n",
       "    </tr>\n",
       "    <tr>\n",
       "      <th>18</th>\n",
       "      <td>2.529495</td>\n",
       "      <td>0.664846</td>\n",
       "      <td>0.024411</td>\n",
       "      <td>0.007837</td>\n",
       "      <td>10.0</td>\n",
       "      <td>exponential</td>\n",
       "      <td>4</td>\n",
       "      <td>346</td>\n",
       "      <td>{'gb__learning_rate': 10.0, 'gb__loss': 'expon...</td>\n",
       "      <td>0.645714</td>\n",
       "      <td>0.485369</td>\n",
       "      <td>0.562400</td>\n",
       "      <td>0.378504</td>\n",
       "      <td>0.633204</td>\n",
       "      <td>0.541038</td>\n",
       "      <td>0.099423</td>\n",
       "      <td>20</td>\n",
       "    </tr>\n",
       "    <tr>\n",
       "      <th>19</th>\n",
       "      <td>7.912693</td>\n",
       "      <td>2.030580</td>\n",
       "      <td>0.030381</td>\n",
       "      <td>0.010923</td>\n",
       "      <td>0.067689</td>\n",
       "      <td>exponential</td>\n",
       "      <td>50</td>\n",
       "      <td>645</td>\n",
       "      <td>{'gb__learning_rate': 0.06768856227879143, 'gb...</td>\n",
       "      <td>0.688239</td>\n",
       "      <td>0.680764</td>\n",
       "      <td>0.579636</td>\n",
       "      <td>0.665831</td>\n",
       "      <td>0.668406</td>\n",
       "      <td>0.656575</td>\n",
       "      <td>0.039327</td>\n",
       "      <td>5</td>\n",
       "    </tr>\n",
       "  </tbody>\n",
       "</table>\n",
       "</div>"
      ],
      "text/plain": [
       "    mean_fit_time  std_fit_time  mean_score_time  std_score_time  \\\n",
       "0        8.547459      1.464219         0.034680        0.012640   \n",
       "1        2.478669      0.582760         0.026283        0.010948   \n",
       "2        4.571165      0.839971         0.025186        0.004830   \n",
       "3        2.273045      0.569922         0.028385        0.013655   \n",
       "4        1.992512      0.505691         0.024709        0.007643   \n",
       "5        5.629309      1.242735         0.036792        0.008146   \n",
       "6       22.212528      3.759769         0.042575        0.014751   \n",
       "7       24.786567      6.631021         0.053368        0.016383   \n",
       "8        0.646789      0.043433         0.023182        0.010902   \n",
       "9        7.217781      1.591163         0.032019        0.014098   \n",
       "10       2.094011      0.442662         0.034992        0.021696   \n",
       "11       0.114735      0.022917         0.021987        0.007124   \n",
       "12       0.267967      0.058448         0.024386        0.006972   \n",
       "13       1.541117      0.344035         0.023386        0.015126   \n",
       "14       3.881890      0.842560         0.023993        0.006225   \n",
       "15       3.045911      0.288244         0.042377        0.026073   \n",
       "16       1.803515      0.270720         0.038042        0.015402   \n",
       "17       1.617153      0.245587         0.018316        0.005103   \n",
       "18       2.529495      0.664846         0.024411        0.007837   \n",
       "19       7.912693      2.030580         0.030381        0.010923   \n",
       "\n",
       "   param_gb__learning_rate param_gb__loss param_gb__max_depth  \\\n",
       "0                 0.000743       log_loss                  47   \n",
       "1                 0.727308       log_loss                  16   \n",
       "2                   0.0013       log_loss                   6   \n",
       "3                 0.486152    exponential                  30   \n",
       "4                 0.395252    exponential                  27   \n",
       "5                 0.137466       log_loss                   9   \n",
       "6                 0.020872       log_loss                  19   \n",
       "7                 0.006365       log_loss                  25   \n",
       "8                 4.879169       log_loss                  44   \n",
       "9                 0.000001       log_loss                  37   \n",
       "10                2.051095       log_loss                   6   \n",
       "11                0.066562    exponential                   1   \n",
       "12                0.000001    exponential                   1   \n",
       "13                0.152996       log_loss                  23   \n",
       "14                0.110007       log_loss                   5   \n",
       "15                0.174024       log_loss                   1   \n",
       "16                    10.0    exponential                  50   \n",
       "17                0.000195    exponential                   1   \n",
       "18                    10.0    exponential                   4   \n",
       "19                0.067689    exponential                  50   \n",
       "\n",
       "   param_gb__n_estimators                                             params  \\\n",
       "0                     350  {'gb__learning_rate': 0.0007425534359037013, '...   \n",
       "1                     954  {'gb__learning_rate': 0.7273082081096716, 'gb_...   \n",
       "2                     462  {'gb__learning_rate': 0.0012996535162010368, '...   \n",
       "3                     813  {'gb__learning_rate': 0.4861518228524981, 'gb_...   \n",
       "4                     730  {'gb__learning_rate': 0.395252013727049, 'gb__...   \n",
       "5                     229  {'gb__learning_rate': 0.1374662627789092, 'gb_...   \n",
       "6                     881  {'gb__learning_rate': 0.020871588778809444, 'g...   \n",
       "7                     846  {'gb__learning_rate': 0.006365338060906856, 'g...   \n",
       "8                     445  {'gb__learning_rate': 4.8791694844275515, 'gb_...   \n",
       "9                     292  {'gb__learning_rate': 1.0602594470835007e-06, ...   \n",
       "10                    171  {'gb__learning_rate': 2.051094699342426, 'gb__...   \n",
       "11                     50  {'gb__learning_rate': 0.0665620675119858, 'gb_...   \n",
       "12                    116  {'gb__learning_rate': 1.09938684142729e-06, 'g...   \n",
       "13                     71  {'gb__learning_rate': 0.1529963777044206, 'gb_...   \n",
       "14                    455  {'gb__learning_rate': 0.11000719387281149, 'gb...   \n",
       "15                    808  {'gb__learning_rate': 0.1740237291083292, 'gb_...   \n",
       "16                    738  {'gb__learning_rate': 10.0, 'gb__loss': 'expon...   \n",
       "17                    836  {'gb__learning_rate': 0.0001954567866683063, '...   \n",
       "18                    346  {'gb__learning_rate': 10.0, 'gb__loss': 'expon...   \n",
       "19                    645  {'gb__learning_rate': 0.06768856227879143, 'gb...   \n",
       "\n",
       "    split0_test_score  split1_test_score  split2_test_score  \\\n",
       "0            0.576471           0.576471           0.576471   \n",
       "1            0.582470           0.698518           0.581651   \n",
       "2            0.623480           0.703125           0.630769   \n",
       "3            0.693732           0.680764           0.586835   \n",
       "4            0.693732           0.680764           0.576448   \n",
       "5            0.732174           0.775610           0.643615   \n",
       "6            0.633927           0.692138           0.599168   \n",
       "7            0.693732           0.697802           0.589851   \n",
       "8            0.700465           0.669802           0.581651   \n",
       "9            0.576471           0.576471           0.576471   \n",
       "10           0.527273           0.675051           0.605461   \n",
       "11           0.603293           0.670545           0.641825   \n",
       "12           0.576471           0.576471           0.576471   \n",
       "13           0.641455           0.675051           0.586835   \n",
       "14           0.714888           0.772082           0.688968   \n",
       "15           0.733166           0.768652           0.699274   \n",
       "16           0.682737           0.675583           0.576448   \n",
       "17           0.576471           0.576471           0.576471   \n",
       "18           0.645714           0.485369           0.562400   \n",
       "19           0.688239           0.680764           0.579636   \n",
       "\n",
       "    split3_test_score  split4_test_score  mean_test_score  std_test_score  \\\n",
       "0            0.576471           0.576471         0.576471        0.000000   \n",
       "1            0.681159           0.696110         0.647982        0.054153   \n",
       "2            0.623392           0.651870         0.646527        0.030155   \n",
       "3            0.663266           0.658124         0.656544        0.037085   \n",
       "4            0.665831           0.647825         0.652920        0.041186   \n",
       "5            0.659189           0.716974         0.705512        0.048442   \n",
       "6            0.670919           0.658124         0.650855        0.031993   \n",
       "7            0.676009           0.668406         0.665160        0.039196   \n",
       "8            0.655205           0.662500         0.653925        0.039285   \n",
       "9            0.576471           0.576471         0.576471        0.000000   \n",
       "10           0.650089           0.532719         0.598119        0.059949   \n",
       "11           0.618194           0.631228         0.633017        0.022770   \n",
       "12           0.576471           0.576471         0.576471        0.000000   \n",
       "13           0.660403           0.667743         0.646297        0.031764   \n",
       "14           0.706667           0.698409         0.716203        0.029235   \n",
       "15           0.701425           0.691302         0.718764        0.028743   \n",
       "16           0.655652           0.672981         0.652680        0.039141   \n",
       "17           0.576471           0.576471         0.576471        0.000000   \n",
       "18           0.378504           0.633204         0.541038        0.099423   \n",
       "19           0.665831           0.668406         0.656575        0.039327   \n",
       "\n",
       "    rank_test_score  \n",
       "0                16  \n",
       "1                11  \n",
       "2                12  \n",
       "3                 6  \n",
       "4                 8  \n",
       "5                 3  \n",
       "6                10  \n",
       "7                 4  \n",
       "8                 7  \n",
       "9                16  \n",
       "10               15  \n",
       "11               14  \n",
       "12               16  \n",
       "13               13  \n",
       "14                2  \n",
       "15                1  \n",
       "16                9  \n",
       "17               16  \n",
       "18               20  \n",
       "19                5  "
      ]
     },
     "execution_count": 15,
     "metadata": {},
     "output_type": "execute_result"
    }
   ],
   "source": [
    "pd.DataFrame(bayes_gb.cv_results_)"
   ]
  },
  {
   "cell_type": "code",
   "execution_count": 13,
   "metadata": {
    "ExecuteTime": {
     "end_time": "2022-07-22T22:35:11.761448Z",
     "start_time": "2022-07-22T22:35:11.749454Z"
    }
   },
   "outputs": [
    {
     "data": {
      "text/plain": [
       "OrderedDict([('gb__learning_rate', 0.1740237291083292),\n",
       "             ('gb__loss', 'log_loss'),\n",
       "             ('gb__max_depth', 1),\n",
       "             ('gb__n_estimators', 808)])"
      ]
     },
     "execution_count": 13,
     "metadata": {},
     "output_type": "execute_result"
    }
   ],
   "source": [
    "bayes_gb.best_params_"
   ]
  },
  {
   "cell_type": "code",
   "execution_count": 21,
   "metadata": {
    "ExecuteTime": {
     "end_time": "2022-07-22T22:36:55.785058Z",
     "start_time": "2022-07-22T22:36:55.754073Z"
    },
    "scrolled": true
   },
   "outputs": [
    {
     "data": {
      "text/plain": [
       "          fun: -0.7187638686039872\n",
       "    func_vals: array([-0.57647059, -0.64798168, -0.64652711, -0.65654402, -0.65292004,\n",
       "       -0.70551241, -0.65085515, -0.66516   , -0.65392468, -0.57647059,\n",
       "       -0.59811858, -0.63301717, -0.57647059, -0.64629715, -0.71620273,\n",
       "       -0.71876387, -0.65268023, -0.57647059, -0.54103808, -0.65657512])\n",
       "       models: [GaussianProcessRegressor(kernel=1**2 * Matern(length_scale=[1, 1, 1, 1], nu=2.5) + WhiteKernel(noise_level=1),\n",
       "                         n_restarts_optimizer=2, noise='gaussian',\n",
       "                         normalize_y=True, random_state=1608637542), GaussianProcessRegressor(kernel=1**2 * Matern(length_scale=[1, 1, 1, 1], nu=2.5) + WhiteKernel(noise_level=1),\n",
       "                         n_restarts_optimizer=2, noise='gaussian',\n",
       "                         normalize_y=True, random_state=1608637542), GaussianProcessRegressor(kernel=1**2 * Matern(length_scale=[1, 1, 1, 1], nu=2.5) + WhiteKernel(noise_level=1),\n",
       "                         n_restarts_optimizer=2, noise='gaussian',\n",
       "                         normalize_y=True, random_state=1608637542), GaussianProcessRegressor(kernel=1**2 * Matern(length_scale=[1, 1, 1, 1], nu=2.5) + WhiteKernel(noise_level=1),\n",
       "                         n_restarts_optimizer=2, noise='gaussian',\n",
       "                         normalize_y=True, random_state=1608637542), GaussianProcessRegressor(kernel=1**2 * Matern(length_scale=[1, 1, 1, 1], nu=2.5) + WhiteKernel(noise_level=1),\n",
       "                         n_restarts_optimizer=2, noise='gaussian',\n",
       "                         normalize_y=True, random_state=1608637542), GaussianProcessRegressor(kernel=1**2 * Matern(length_scale=[1, 1, 1, 1], nu=2.5) + WhiteKernel(noise_level=1),\n",
       "                         n_restarts_optimizer=2, noise='gaussian',\n",
       "                         normalize_y=True, random_state=1608637542), GaussianProcessRegressor(kernel=1**2 * Matern(length_scale=[1, 1, 1, 1], nu=2.5) + WhiteKernel(noise_level=1),\n",
       "                         n_restarts_optimizer=2, noise='gaussian',\n",
       "                         normalize_y=True, random_state=1608637542), GaussianProcessRegressor(kernel=1**2 * Matern(length_scale=[1, 1, 1, 1], nu=2.5) + WhiteKernel(noise_level=1),\n",
       "                         n_restarts_optimizer=2, noise='gaussian',\n",
       "                         normalize_y=True, random_state=1608637542), GaussianProcessRegressor(kernel=1**2 * Matern(length_scale=[1, 1, 1, 1], nu=2.5) + WhiteKernel(noise_level=1),\n",
       "                         n_restarts_optimizer=2, noise='gaussian',\n",
       "                         normalize_y=True, random_state=1608637542), GaussianProcessRegressor(kernel=1**2 * Matern(length_scale=[1, 1, 1, 1], nu=2.5) + WhiteKernel(noise_level=1),\n",
       "                         n_restarts_optimizer=2, noise='gaussian',\n",
       "                         normalize_y=True, random_state=1608637542), GaussianProcessRegressor(kernel=1**2 * Matern(length_scale=[1, 1, 1, 1], nu=2.5) + WhiteKernel(noise_level=1),\n",
       "                         n_restarts_optimizer=2, noise='gaussian',\n",
       "                         normalize_y=True, random_state=1608637542)]\n",
       " random_state: RandomState(MT19937) at 0x2233BCB0940\n",
       "        space: Space([Real(low=1e-06, high=10.0, prior='log-uniform', transform='normalize'),\n",
       "       Categorical(categories=('log_loss', 'exponential'), prior=None),\n",
       "       Integer(low=1, high=50, prior='uniform', transform='normalize'),\n",
       "       Integer(low=50, high=1000, prior='uniform', transform='normalize')])\n",
       "        specs: {'args': {'dimensions': [Real(low=1e-06, high=10.0, prior='log-uniform', transform='normalize'), Categorical(categories=('log_loss', 'exponential'), prior=None), Integer(low=1, high=50, prior='uniform', transform='normalize'), Integer(low=50, high=1000, prior='uniform', transform='normalize')], 'base_estimator': 'gp', 'n_random_starts': None, 'n_initial_points': 10, 'initial_point_generator': 'random', 'n_jobs': 1, 'acq_func': 'gp_hedge', 'acq_optimizer': 'auto', 'random_state': RandomState(MT19937) at 0x2233BCB0940, 'model_queue_size': None, 'acq_func_kwargs': None, 'acq_optimizer_kwargs': None}, 'function': 'Optimizer'}\n",
       "            x: [0.1740237291083292, 'log_loss', 1, 808]\n",
       "      x_iters: [[0.0007425534359037013, 'log_loss', 47, 350], [0.7273082081096716, 'log_loss', 16, 954], [0.0012996535162010368, 'log_loss', 6, 462], [0.4861518228524981, 'exponential', 30, 813], [0.395252013727049, 'exponential', 27, 730], [0.1374662627789092, 'log_loss', 9, 229], [0.020871588778809444, 'log_loss', 19, 881], [0.006365338060906856, 'log_loss', 25, 846], [4.8791694844275515, 'log_loss', 44, 445], [1.0602594470835007e-06, 'log_loss', 37, 292], [2.051094699342426, 'log_loss', 6, 171], [0.0665620675119858, 'exponential', 1, 50], [1.09938684142729e-06, 'exponential', 1, 116], [0.1529963777044206, 'log_loss', 23, 71], [0.11000719387281149, 'log_loss', 5, 455], [0.1740237291083292, 'log_loss', 1, 808], [10.0, 'exponential', 50, 738], [0.0001954567866683063, 'exponential', 1, 836], [10.0, 'exponential', 4, 346], [0.06768856227879143, 'exponential', 50, 645]]"
      ]
     },
     "execution_count": 21,
     "metadata": {},
     "output_type": "execute_result"
    }
   ],
   "source": [
    "bayes_gb.optimizer_results_[0]"
   ]
  },
  {
   "cell_type": "code",
   "execution_count": 27,
   "metadata": {
    "ExecuteTime": {
     "end_time": "2022-07-22T23:00:55.962168Z",
     "start_time": "2022-07-22T23:00:55.597478Z"
    }
   },
   "outputs": [
    {
     "data": {
      "image/png": "[encoded data removed]",
      "text/plain": [
       "<Figure size 864x432 with 1 Axes>"
      ]
     },
     "metadata": {
      "needs_background": "light"
     },
     "output_type": "display_data"
    }
   ],
   "source": [
    "from skopt.plots import plot_convergence\n",
    "\n",
    "plt.figure(figsize=(12, 6))\n",
    "plot_convergence(bayes_gb.optimizer_results_[0]);"
   ]
  },
  {
   "cell_type": "markdown",
   "metadata": {},
   "source": [
    "O efeito do uso do princípio Bayesiano é claro: ao invés de caminharmos aleatoriamente e sem direcionamento no espaço de hiperparâmetros (que é o que o random search faz), com a opt bayesiana vemos que, a cada iteração, o valor da função objetivo é sistematicamente reduzido, o que é um reflexo do direcionamento bayesiano que temos na busca por hiperparâmetros!"
   ]
  },
  {
   "cell_type": "markdown",
   "metadata": {},
   "source": [
    "### Gráficos de Dependência Parcial\n",
    "\n",
    "Uma outra visualização interessante é a de [dependência parcial](https://scikit-optimize.github.io/stable/modules/generated/skopt.plots.plot_objective.html#skopt.plots.plot_objective), que mostra o efeito marginal que cada hiperparâmetro tem no resultado previsto de um modelo, marginalizando os valores dos demais hiperparâmetros de entrada.\n",
    "\n",
    "O método `plot_objective()` plota uma a diagonal inferior de uma matriz com os chamados **gráficos de dependência parcial** da função objetivo, ou seja, mostra a influência de cada dimensão do espaço de busca (espaço de hiperparâmetros) na função objetivo. Para estimar a função objetivo ele usa o último modelo ajustado.\n",
    "\n",
    "Na diagonal temos o efeito de uma única dimensão na função objetivo, enquanto os gráficos abaixo da diagonal mostram o efeito na função objetivo ao variar duas dimensões.\n",
    "\n",
    "A Dependência Parcial é calculada pela média do valor objetivo para um número de amostras aleatórias no espaço de busca, mantendo uma ou duas dimensões fixas em intervalos regulares. Isso calcula a média do efeito de variar as outras dimensões e mostra a influência de uma ou duas dimensões na função objetivo.\n",
    "\n",
    "Os pequenos pontos pretos são os pontos que foram amostrados durante a otimização, enquanto a estrela vermelha indica o melhor valor observado (isto é, que minimizou (conjuntamente) a função objetivo)."
   ]
  },
  {
   "cell_type": "code",
   "execution_count": 25,
   "metadata": {
    "ExecuteTime": {
     "end_time": "2022-07-22T22:46:49.719503Z",
     "start_time": "2022-07-22T22:46:49.699514Z"
    }
   },
   "outputs": [
    {
     "data": {
      "text/plain": [
       "OrderedDict([('gb__learning_rate', 0.1740237291083292),\n",
       "             ('gb__loss', 'log_loss'),\n",
       "             ('gb__max_depth', 1),\n",
       "             ('gb__n_estimators', 808)])"
      ]
     },
     "execution_count": 25,
     "metadata": {},
     "output_type": "execute_result"
    }
   ],
   "source": [
    "bayes_gb.best_params_"
   ]
  },
  {
   "cell_type": "code",
   "execution_count": 24,
   "metadata": {
    "ExecuteTime": {
     "end_time": "2022-07-22T22:44:10.783052Z",
     "start_time": "2022-07-22T22:44:04.675402Z"
    }
   },
   "outputs": [
    {
     "data": {
      "image/png": "[encoded data removed]",
      "text/plain": [
       "<Figure size 576x576 with 16 Axes>"
      ]
     },
     "metadata": {
      "needs_background": "light"
     },
     "output_type": "display_data"
    }
   ],
   "source": [
    "from skopt.plots import plot_objective\n",
    "\n",
    "plot_objective(bayes_gb.optimizer_results_[0]);"
   ]
  },
  {
   "cell_type": "markdown",
   "metadata": {},
   "source": [
    "### Plot de avaliações\n",
    "\n",
    "Outro plot interessante é o [plot de avaliações](https://scikit-optimize.github.io/stable/modules/generated/skopt.plots.plot_evaluations.html#skopt.plots.plot_evaluations), com o método `plot_evaluations`, que na diagonal mostra histogramas dos pontos que foram amostrados para cada uma das dimensões do espaço de busca, e na diagonal inferior mostra um gráfico de dispersão (scatter) bidimensional de todos os pontos no qual a ordem em que os pontos foram avaliados está codificada na cor de cada ponto. Cores mais escuras/roxas correspondem a amostras anteriores e cores mais claras/amarelas correspondem a amostras posteriores. A estrela em vermelho mostra a localização do mínimo encontrado pelo processo de otimização."
   ]
  },
  {
   "cell_type": "code",
   "execution_count": 26,
   "metadata": {
    "ExecuteTime": {
     "end_time": "2022-07-22T22:56:54.108257Z",
     "start_time": "2022-07-22T22:56:50.831098Z"
    }
   },
   "outputs": [
    {
     "data": {
      "image/png": "[encoded data removed]",
      "text/plain": [
       "<Figure size 576x576 with 16 Axes>"
      ]
     },
     "metadata": {
      "needs_background": "light"
     },
     "output_type": "display_data"
    }
   ],
   "source": [
    "from skopt.plots import plot_evaluations\n",
    "\n",
    "plot_evaluations(bayes_gb.optimizer_results_[0]);"
   ]
  },
  {
   "cell_type": "markdown",
   "metadata": {},
   "source": [
    "___________"
   ]
  },
  {
   "cell_type": "markdown",
   "metadata": {},
   "source": [
    "Depois de termos visto a otimização bayesiana na prática, e seu enorme poder, podemos nos enganhar em achar que esta técnica é suprema, e que tudo o que aprendemos antes é dispensável. Por isso, é importante mencionar algumas últimas palavras sobre este método, em particular no que diz respeito às suas limitações.\n",
    "\n",
    "### Limitações da otimização bayesiana\n",
    "\n",
    "- A principal limitação da otimização Bayesiana com Processos Gaussianos é a eficiência. À medida que a dimensionalidade aumenta, mais pontos precisam ser avaliados. Infelizmente, o custo da inferência exata no processo gaussiano escala como $O(n^3)$ onde n é o número de pontos de dados.\n",
    "\n",
    "- Não é facilmente paralelizável como o GridSearch e o RandomSearch, o que faz sentido, dada a natureza bayesiana do método. Apesar de termos utilizado o n_jobs, os ganhos de paralelização que temos são marginais.\n",
    "\n",
    "Na otimização bayesiana, gastamos um pouco mais de tempo selecionando os próximos hiperparâmetros (utilizando o surrogate e a função de seleção), mas fazemos menos chamadas na função objetivo (que envolve o treinamento e avaliação do modelo, e, por isso, é um procedimento custoso!). Na prática, o tempo gasto selecionando os próximos hiperparâmetros é muito menor quando comparado com o tempo gasto nas avaliações da função objetivo (treinamento e avaliação do modelo).\n",
    "\n",
    "Sempre teremos um trade-off entre garantir a melhor combinação de hiperparâmetros e o custo de encontrá-la. É nosso dever saber balancear bem este trade-off.\n",
    "\n",
    "E, apesar destas técnicas avançadas, lembre-se que o que realmente costuma dar resultados impactantes em modelos é a utilização de bons dados, boas features. Assim, para além das técnicas avançadas que aprendemos, empregar grande parte do tempo que temos disponível em uma boa análise exploratória e criação de features tende a ser algo muito recompensador em termos de entrega de performance!"
   ]
  },
  {
   "cell_type": "markdown",
   "metadata": {},
   "source": [
    "___________"
   ]
  },
  {
   "cell_type": "markdown",
   "metadata": {},
   "source": [
    "### Bibliografia e Aprofundamento\n",
    "\n",
    "Para quem quiser se aprofundar um pouco mais na otimização bayesiana, tenho as seguintes recomendações:\n",
    "\n",
    "- [Explicação simples e didática](https://pt.quora.com/Como-funciona-a-otimiza%C3%A7%C3%A3o-bayesiana)\n",
    "- [Comparação entre vários pacotes e métodos de otimização bayesiana](https://medium.com/@gerbentempelman/comparing-hyperparameter-optimization-frameworks-in-python-a-conceptual-and-pragmatic-approach-24d9baa1cc69)\n",
    "- [Um pouco mais matemático](https://medium.com/criteo-engineering/hyper-parameter-optimization-algorithms-2fe447525903)\n",
    "- [Vídeo mostrando o funcionamento](https://gfycat.com/legalanyantelopegroundsquirrel)\n",
    "- [Gifs mostrando a difetença de uma função de aquisição exploitative e explorative](https://www.andreaamico.eu/reinforcement-learning/2019/05/08/bayesian_opt.html)\n",
    "- [O que é Otimização Bayesiana](https://machinelearningmastery.com/what-is-bayesian-optimization/)"
   ]
  }
 ],
 "metadata": {
  "kernelspec": {
   "display_name": "Python 3",
   "language": "python",
   "name": "python3"
  },
  "language_info": {
   "codemirror_mode": {
    "name": "ipython",
    "version": 3
   },
   "file_extension": ".py",
   "mimetype": "text/x-python",
   "name": "python",
   "nbconvert_exporter": "python",
   "pygments_lexer": "ipython3",
   "version": "3.8.3"
  }
 },
 "nbformat": 4,
 "nbformat_minor": 4
}
