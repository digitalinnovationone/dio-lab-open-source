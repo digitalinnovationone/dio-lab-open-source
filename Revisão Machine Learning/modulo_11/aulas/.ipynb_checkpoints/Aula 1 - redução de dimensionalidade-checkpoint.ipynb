{
 "cells": [
  {
   "cell_type": "markdown",
   "metadata": {},
   "source": [
    "# Aula 1 - redução de dimensionalidade\n",
    "\n",
    "Na aula de hoje, vamos explorar os seguintes tópicos em Python:\n",
    "\n",
    "- 1) PCA\n",
    "- 2) PCA na Pipeline\n",
    "- 3) PCA na EDA\n",
    "- 4) A matemática do PCA\n"
   ]
  },
  {
   "cell_type": "code",
   "execution_count": 2,
   "metadata": {
    "ExecuteTime": {
     "end_time": "2022-07-12T23:11:12.437938Z",
     "start_time": "2022-07-12T23:10:49.166541Z"
    }
   },
   "outputs": [],
   "source": [
    "from ml_utils import *"
   ]
  },
  {
   "cell_type": "markdown",
   "metadata": {},
   "source": [
    "____\n",
    "____\n",
    "_____"
   ]
  },
  {
   "cell_type": "markdown",
   "metadata": {},
   "source": [
    "## 1) PCA\n",
    "\n",
    "PCA (principal component analysis) é uma técnica **não supervisionada** que determina **as direções de máxima variância** no espaço de features, de modo que **as direções sejam ortogonais entre si**.\n",
    "\n",
    "Ou seja,\n",
    "\n",
    "> A primeira componente principal é a direção que maximiza a variância dos dados projetados em sua direção; \n",
    "<br>A segunda componente principal é uma direção ortogonal à primeira que também maximiza a variância nesta direção;\n",
    "<br>e assim sucessivamente.\n",
    "\n",
    "<img src=https://austingwalters.com/wp-content/uploads/2014/11/gaussDist-labeled.png width=400>"
   ]
  },
  {
   "cell_type": "markdown",
   "metadata": {},
   "source": [
    "Uma forma interessante de ver o PCA é através da construção de um novo espaço de features construído a partir da **projeção** dos dados originais às direções de maior variabilidade.\n",
    "\n",
    "Considere o conjunto de dados a seguir:\n",
    "\n",
    "<img src=\"https://i.stack.imgur.com/jPw90.png\">"
   ]
  },
  {
   "cell_type": "markdown",
   "metadata": {},
   "source": [
    "Podemos nos perguntar: em qual direção podemos **projetar os dados** de modo a capturarmos a **maior variabilidade** dos dados?\n",
    "\n",
    "Podemos testar várias direções:\n",
    "\n",
    "<img src=\"https://i.stack.imgur.com/Q7HIP.gif\">"
   ]
  },
  {
   "cell_type": "markdown",
   "metadata": {},
   "source": [
    "É fácil de ver que existe uma direção em que maximizamos a variabilidade da projeção:\n",
    "\n",
    "<img src=\"https://i.stack.imgur.com/lNHqt.gif\">\n",
    "\n",
    "Essa direção é a **primeira componente principal!** \n",
    "\n",
    "Recomendo bastante a leitura [deste post](https://stats.stackexchange.com/questions/2691/making-sense-of-principal-component-analysis-eigenvectors-eigenvalues), onde o PCA é explicado em diferentes graus de formalismo matemático, de maneira bem divertida!"
   ]
  },
  {
   "cell_type": "markdown",
   "metadata": {},
   "source": [
    "É importante notar que:\n",
    "\n",
    "- Se o espaço original tem $n$ features, é possível construir $n$ componentes principais;<br><br>\n",
    "- Cada componente principal é uma **combinação linear das features originais**;<br><br>\n",
    "- As componentes principais são ortogonais entre si;<br><br>\n",
    "- As componentes principais são linearmente descorrelacionadas;<br>"
   ]
  },
  {
   "cell_type": "markdown",
   "metadata": {},
   "source": [
    "É muito comum que PCA seja utilizada como uma técnica de **redução de dimensionalidade**, isto porque, **no espaço transformado de componentes principais**, é comum que grande parte da variância completa dos dados esteja contida nas $L$ primeiras componentes principais ($L < n$).\n",
    "\n",
    "Sendo assim, ao invés de utilizar o espaço de features completo (de dimensão $n$) para a construção de modelos, podemos utilizar apenas $L$ dimensões **do espaço de features de componentes principais**, reduzindo, assim, a dimensionalidade do espaço de features efetivo em que os estimadores irão trabalhar.\n",
    "\n",
    "Os objetivos desta redução podem ser:\n",
    "\n",
    "- Evitar a maldição da dimensionalidade;\n",
    "- Treinar modelos mais rápido (de maneira mais eficiente), afinal, há menos dados;\n",
    "- Fornecer dados sem qualquer colinearidade (há estimadores que assumem não-colinearidade!)"
   ]
  },
  {
   "cell_type": "markdown",
   "metadata": {},
   "source": [
    "### 1.1) O que é cada PC? \n",
    "### PCA como feature map\n",
    "\n",
    "Como dissemos acima, cada componente principal é uma **combinação linear das features originais**.\n",
    "\n",
    "Nesse sentido, podemos enxergar o PCA como **um método que constrói um novo espaço de features** (ou seja, um *feature map!*), de mesma dimensão que o espaço original:\n",
    "\n",
    "<img src=https://miro.medium.com/max/1200/1*V3JWBvxB92Uo116Bpxa3Tw.png width=700>"
   ]
  },
  {
   "cell_type": "markdown",
   "metadata": {},
   "source": [
    "O ponto é que o espaço de features construído pelo PCA é muito particular: as novas features são ortogonais entre si, e tais que maximizam a variância dos dados em cada sub-espaço de projeção, como dissemos acima.\n",
    "\n",
    "Assim, na prática, seja um espaço de input $\\mathcal{X}$ de $n$ dimensões, tal que cada vetor de features $\\vec{x} \\in \\mathcal{X}$ é dado por:\n",
    "\n",
    "$ \\vec{x} = \\left ( x_1, x_2, x_3, \\cdots , x_n \\right) $\n",
    "\n",
    "Após a aplicação do PCA, estaremos no espaço de componentes principais, tal que um vetor de features neste espaço, $\\vec{x}_{PC}$, será dado por:\n",
    "\n",
    "$ \\vec{x}_{PC} = \\left ( PC_1, PC_2, PC_3, \\cdots , PC_n \\right) $\n",
    "\n",
    "Onde cada componente principal é uma combinação linear das features originais, isto é, \n",
    "\n",
    "$ PC_i = \\sum_{k=1}^n \\alpha_{i, k} x_k = \\alpha_{i, 1} x_1 +  \\alpha_{i, 2} x_2 + \\cdots +  \\alpha_{i, n} x_n$\n",
    "\n",
    "Note que cada componente principal $i$ tem $n$ coeficientes diferentes $\\alpha_{i, k}$, que acompanham cada uma das features $k$ do espaço original."
   ]
  },
  {
   "cell_type": "markdown",
   "metadata": {},
   "source": [
    "Para visualizarmos concretamente o PCA em ação, vamos tomar um dataset bem simples!"
   ]
  },
  {
   "cell_type": "code",
   "execution_count": 3,
   "metadata": {
    "ExecuteTime": {
     "end_time": "2022-07-12T23:11:12.656373Z",
     "start_time": "2022-07-12T23:11:12.443852Z"
    }
   },
   "outputs": [],
   "source": [
    "df = pd.read_csv(\"../datasets/iris.csv\")"
   ]
  },
  {
   "cell_type": "code",
   "execution_count": 4,
   "metadata": {
    "ExecuteTime": {
     "end_time": "2022-07-12T23:11:12.795907Z",
     "start_time": "2022-07-12T23:11:12.661351Z"
    }
   },
   "outputs": [
    {
     "data": {
      "text/html": [
       "<div>\n",
       "<style scoped>\n",
       "    .dataframe tbody tr th:only-of-type {\n",
       "        vertical-align: middle;\n",
       "    }\n",
       "\n",
       "    .dataframe tbody tr th {\n",
       "        vertical-align: top;\n",
       "    }\n",
       "\n",
       "    .dataframe thead th {\n",
       "        text-align: right;\n",
       "    }\n",
       "</style>\n",
       "<table border=\"1\" class=\"dataframe\">\n",
       "  <thead>\n",
       "    <tr style=\"text-align: right;\">\n",
       "      <th></th>\n",
       "      <th>sepal_length</th>\n",
       "      <th>sepal_width</th>\n",
       "      <th>petal_length</th>\n",
       "      <th>petal_width</th>\n",
       "      <th>species</th>\n",
       "    </tr>\n",
       "  </thead>\n",
       "  <tbody>\n",
       "    <tr>\n",
       "      <th>0</th>\n",
       "      <td>5.1</td>\n",
       "      <td>3.5</td>\n",
       "      <td>1.4</td>\n",
       "      <td>0.2</td>\n",
       "      <td>setosa</td>\n",
       "    </tr>\n",
       "    <tr>\n",
       "      <th>1</th>\n",
       "      <td>4.9</td>\n",
       "      <td>3.0</td>\n",
       "      <td>1.4</td>\n",
       "      <td>0.2</td>\n",
       "      <td>setosa</td>\n",
       "    </tr>\n",
       "    <tr>\n",
       "      <th>2</th>\n",
       "      <td>4.7</td>\n",
       "      <td>3.2</td>\n",
       "      <td>1.3</td>\n",
       "      <td>0.2</td>\n",
       "      <td>setosa</td>\n",
       "    </tr>\n",
       "    <tr>\n",
       "      <th>3</th>\n",
       "      <td>4.6</td>\n",
       "      <td>3.1</td>\n",
       "      <td>1.5</td>\n",
       "      <td>0.2</td>\n",
       "      <td>setosa</td>\n",
       "    </tr>\n",
       "    <tr>\n",
       "      <th>4</th>\n",
       "      <td>5.0</td>\n",
       "      <td>3.6</td>\n",
       "      <td>1.4</td>\n",
       "      <td>0.2</td>\n",
       "      <td>setosa</td>\n",
       "    </tr>\n",
       "    <tr>\n",
       "      <th>...</th>\n",
       "      <td>...</td>\n",
       "      <td>...</td>\n",
       "      <td>...</td>\n",
       "      <td>...</td>\n",
       "      <td>...</td>\n",
       "    </tr>\n",
       "    <tr>\n",
       "      <th>145</th>\n",
       "      <td>6.7</td>\n",
       "      <td>3.0</td>\n",
       "      <td>5.2</td>\n",
       "      <td>2.3</td>\n",
       "      <td>virginica</td>\n",
       "    </tr>\n",
       "    <tr>\n",
       "      <th>146</th>\n",
       "      <td>6.3</td>\n",
       "      <td>2.5</td>\n",
       "      <td>5.0</td>\n",
       "      <td>1.9</td>\n",
       "      <td>virginica</td>\n",
       "    </tr>\n",
       "    <tr>\n",
       "      <th>147</th>\n",
       "      <td>6.5</td>\n",
       "      <td>3.0</td>\n",
       "      <td>5.2</td>\n",
       "      <td>2.0</td>\n",
       "      <td>virginica</td>\n",
       "    </tr>\n",
       "    <tr>\n",
       "      <th>148</th>\n",
       "      <td>6.2</td>\n",
       "      <td>3.4</td>\n",
       "      <td>5.4</td>\n",
       "      <td>2.3</td>\n",
       "      <td>virginica</td>\n",
       "    </tr>\n",
       "    <tr>\n",
       "      <th>149</th>\n",
       "      <td>5.9</td>\n",
       "      <td>3.0</td>\n",
       "      <td>5.1</td>\n",
       "      <td>1.8</td>\n",
       "      <td>virginica</td>\n",
       "    </tr>\n",
       "  </tbody>\n",
       "</table>\n",
       "<p>150 rows × 5 columns</p>\n",
       "</div>"
      ],
      "text/plain": [
       "     sepal_length  sepal_width  petal_length  petal_width    species\n",
       "0             5.1          3.5           1.4          0.2     setosa\n",
       "1             4.9          3.0           1.4          0.2     setosa\n",
       "2             4.7          3.2           1.3          0.2     setosa\n",
       "3             4.6          3.1           1.5          0.2     setosa\n",
       "4             5.0          3.6           1.4          0.2     setosa\n",
       "..            ...          ...           ...          ...        ...\n",
       "145           6.7          3.0           5.2          2.3  virginica\n",
       "146           6.3          2.5           5.0          1.9  virginica\n",
       "147           6.5          3.0           5.2          2.0  virginica\n",
       "148           6.2          3.4           5.4          2.3  virginica\n",
       "149           5.9          3.0           5.1          1.8  virginica\n",
       "\n",
       "[150 rows x 5 columns]"
      ]
     },
     "execution_count": 4,
     "metadata": {},
     "output_type": "execute_result"
    }
   ],
   "source": [
    "df"
   ]
  },
  {
   "cell_type": "code",
   "execution_count": 5,
   "metadata": {
    "ExecuteTime": {
     "end_time": "2022-07-12T23:11:52.387339Z",
     "start_time": "2022-07-12T23:11:52.268860Z"
    }
   },
   "outputs": [],
   "source": [
    "X = df.drop(columns=\"species\")\n",
    "y = df[\"species\"]"
   ]
  },
  {
   "cell_type": "code",
   "execution_count": 6,
   "metadata": {
    "ExecuteTime": {
     "end_time": "2022-07-12T23:11:54.632760Z",
     "start_time": "2022-07-12T23:11:54.599776Z"
    }
   },
   "outputs": [
    {
     "data": {
      "text/html": [
       "<div>\n",
       "<style scoped>\n",
       "    .dataframe tbody tr th:only-of-type {\n",
       "        vertical-align: middle;\n",
       "    }\n",
       "\n",
       "    .dataframe tbody tr th {\n",
       "        vertical-align: top;\n",
       "    }\n",
       "\n",
       "    .dataframe thead th {\n",
       "        text-align: right;\n",
       "    }\n",
       "</style>\n",
       "<table border=\"1\" class=\"dataframe\">\n",
       "  <thead>\n",
       "    <tr style=\"text-align: right;\">\n",
       "      <th></th>\n",
       "      <th>sepal_length</th>\n",
       "      <th>sepal_width</th>\n",
       "      <th>petal_length</th>\n",
       "      <th>petal_width</th>\n",
       "    </tr>\n",
       "  </thead>\n",
       "  <tbody>\n",
       "    <tr>\n",
       "      <th>0</th>\n",
       "      <td>5.1</td>\n",
       "      <td>3.5</td>\n",
       "      <td>1.4</td>\n",
       "      <td>0.2</td>\n",
       "    </tr>\n",
       "    <tr>\n",
       "      <th>1</th>\n",
       "      <td>4.9</td>\n",
       "      <td>3.0</td>\n",
       "      <td>1.4</td>\n",
       "      <td>0.2</td>\n",
       "    </tr>\n",
       "    <tr>\n",
       "      <th>2</th>\n",
       "      <td>4.7</td>\n",
       "      <td>3.2</td>\n",
       "      <td>1.3</td>\n",
       "      <td>0.2</td>\n",
       "    </tr>\n",
       "    <tr>\n",
       "      <th>3</th>\n",
       "      <td>4.6</td>\n",
       "      <td>3.1</td>\n",
       "      <td>1.5</td>\n",
       "      <td>0.2</td>\n",
       "    </tr>\n",
       "    <tr>\n",
       "      <th>4</th>\n",
       "      <td>5.0</td>\n",
       "      <td>3.6</td>\n",
       "      <td>1.4</td>\n",
       "      <td>0.2</td>\n",
       "    </tr>\n",
       "    <tr>\n",
       "      <th>...</th>\n",
       "      <td>...</td>\n",
       "      <td>...</td>\n",
       "      <td>...</td>\n",
       "      <td>...</td>\n",
       "    </tr>\n",
       "    <tr>\n",
       "      <th>145</th>\n",
       "      <td>6.7</td>\n",
       "      <td>3.0</td>\n",
       "      <td>5.2</td>\n",
       "      <td>2.3</td>\n",
       "    </tr>\n",
       "    <tr>\n",
       "      <th>146</th>\n",
       "      <td>6.3</td>\n",
       "      <td>2.5</td>\n",
       "      <td>5.0</td>\n",
       "      <td>1.9</td>\n",
       "    </tr>\n",
       "    <tr>\n",
       "      <th>147</th>\n",
       "      <td>6.5</td>\n",
       "      <td>3.0</td>\n",
       "      <td>5.2</td>\n",
       "      <td>2.0</td>\n",
       "    </tr>\n",
       "    <tr>\n",
       "      <th>148</th>\n",
       "      <td>6.2</td>\n",
       "      <td>3.4</td>\n",
       "      <td>5.4</td>\n",
       "      <td>2.3</td>\n",
       "    </tr>\n",
       "    <tr>\n",
       "      <th>149</th>\n",
       "      <td>5.9</td>\n",
       "      <td>3.0</td>\n",
       "      <td>5.1</td>\n",
       "      <td>1.8</td>\n",
       "    </tr>\n",
       "  </tbody>\n",
       "</table>\n",
       "<p>150 rows × 4 columns</p>\n",
       "</div>"
      ],
      "text/plain": [
       "     sepal_length  sepal_width  petal_length  petal_width\n",
       "0             5.1          3.5           1.4          0.2\n",
       "1             4.9          3.0           1.4          0.2\n",
       "2             4.7          3.2           1.3          0.2\n",
       "3             4.6          3.1           1.5          0.2\n",
       "4             5.0          3.6           1.4          0.2\n",
       "..            ...          ...           ...          ...\n",
       "145           6.7          3.0           5.2          2.3\n",
       "146           6.3          2.5           5.0          1.9\n",
       "147           6.5          3.0           5.2          2.0\n",
       "148           6.2          3.4           5.4          2.3\n",
       "149           5.9          3.0           5.1          1.8\n",
       "\n",
       "[150 rows x 4 columns]"
      ]
     },
     "execution_count": 6,
     "metadata": {},
     "output_type": "execute_result"
    }
   ],
   "source": [
    "X"
   ]
  },
  {
   "cell_type": "code",
   "execution_count": 7,
   "metadata": {
    "ExecuteTime": {
     "end_time": "2022-07-12T23:13:15.207033Z",
     "start_time": "2022-07-12T23:13:14.939383Z"
    }
   },
   "outputs": [],
   "source": [
    "X_train, X_test, y_train, y_test = train_test_split(X, y, test_size=0.2, random_state=42, stratify=y)"
   ]
  },
  {
   "cell_type": "code",
   "execution_count": 8,
   "metadata": {
    "ExecuteTime": {
     "end_time": "2022-07-12T23:13:19.639932Z",
     "start_time": "2022-07-12T23:13:19.600957Z"
    }
   },
   "outputs": [
    {
     "data": {
      "text/html": [
       "<div>\n",
       "<style scoped>\n",
       "    .dataframe tbody tr th:only-of-type {\n",
       "        vertical-align: middle;\n",
       "    }\n",
       "\n",
       "    .dataframe tbody tr th {\n",
       "        vertical-align: top;\n",
       "    }\n",
       "\n",
       "    .dataframe thead th {\n",
       "        text-align: right;\n",
       "    }\n",
       "</style>\n",
       "<table border=\"1\" class=\"dataframe\">\n",
       "  <thead>\n",
       "    <tr style=\"text-align: right;\">\n",
       "      <th></th>\n",
       "      <th>sepal_length</th>\n",
       "      <th>sepal_width</th>\n",
       "      <th>petal_length</th>\n",
       "      <th>petal_width</th>\n",
       "    </tr>\n",
       "  </thead>\n",
       "  <tbody>\n",
       "    <tr>\n",
       "      <th>8</th>\n",
       "      <td>4.4</td>\n",
       "      <td>2.9</td>\n",
       "      <td>1.4</td>\n",
       "      <td>0.2</td>\n",
       "    </tr>\n",
       "    <tr>\n",
       "      <th>106</th>\n",
       "      <td>4.9</td>\n",
       "      <td>2.5</td>\n",
       "      <td>4.5</td>\n",
       "      <td>1.7</td>\n",
       "    </tr>\n",
       "    <tr>\n",
       "      <th>76</th>\n",
       "      <td>6.8</td>\n",
       "      <td>2.8</td>\n",
       "      <td>4.8</td>\n",
       "      <td>1.4</td>\n",
       "    </tr>\n",
       "    <tr>\n",
       "      <th>9</th>\n",
       "      <td>4.9</td>\n",
       "      <td>3.1</td>\n",
       "      <td>1.5</td>\n",
       "      <td>0.1</td>\n",
       "    </tr>\n",
       "    <tr>\n",
       "      <th>89</th>\n",
       "      <td>5.5</td>\n",
       "      <td>2.5</td>\n",
       "      <td>4.0</td>\n",
       "      <td>1.3</td>\n",
       "    </tr>\n",
       "    <tr>\n",
       "      <th>...</th>\n",
       "      <td>...</td>\n",
       "      <td>...</td>\n",
       "      <td>...</td>\n",
       "      <td>...</td>\n",
       "    </tr>\n",
       "    <tr>\n",
       "      <th>37</th>\n",
       "      <td>4.9</td>\n",
       "      <td>3.6</td>\n",
       "      <td>1.4</td>\n",
       "      <td>0.1</td>\n",
       "    </tr>\n",
       "    <tr>\n",
       "      <th>2</th>\n",
       "      <td>4.7</td>\n",
       "      <td>3.2</td>\n",
       "      <td>1.3</td>\n",
       "      <td>0.2</td>\n",
       "    </tr>\n",
       "    <tr>\n",
       "      <th>33</th>\n",
       "      <td>5.5</td>\n",
       "      <td>4.2</td>\n",
       "      <td>1.4</td>\n",
       "      <td>0.2</td>\n",
       "    </tr>\n",
       "    <tr>\n",
       "      <th>52</th>\n",
       "      <td>6.9</td>\n",
       "      <td>3.1</td>\n",
       "      <td>4.9</td>\n",
       "      <td>1.5</td>\n",
       "    </tr>\n",
       "    <tr>\n",
       "      <th>3</th>\n",
       "      <td>4.6</td>\n",
       "      <td>3.1</td>\n",
       "      <td>1.5</td>\n",
       "      <td>0.2</td>\n",
       "    </tr>\n",
       "  </tbody>\n",
       "</table>\n",
       "<p>120 rows × 4 columns</p>\n",
       "</div>"
      ],
      "text/plain": [
       "     sepal_length  sepal_width  petal_length  petal_width\n",
       "8             4.4          2.9           1.4          0.2\n",
       "106           4.9          2.5           4.5          1.7\n",
       "76            6.8          2.8           4.8          1.4\n",
       "9             4.9          3.1           1.5          0.1\n",
       "89            5.5          2.5           4.0          1.3\n",
       "..            ...          ...           ...          ...\n",
       "37            4.9          3.6           1.4          0.1\n",
       "2             4.7          3.2           1.3          0.2\n",
       "33            5.5          4.2           1.4          0.2\n",
       "52            6.9          3.1           4.9          1.5\n",
       "3             4.6          3.1           1.5          0.2\n",
       "\n",
       "[120 rows x 4 columns]"
      ]
     },
     "execution_count": 8,
     "metadata": {},
     "output_type": "execute_result"
    }
   ],
   "source": [
    "X_train"
   ]
  },
  {
   "cell_type": "markdown",
   "metadata": {},
   "source": [
    "No caso do dataset iris, temos 4 features, de modo que o espaço original tem 4 dimensões, e um vetor de features é:\n",
    "\n",
    "$ \\vec{x} = (x_1, x_2, x_3, x_4)$.\n",
    "\n",
    "Sendo que:\n",
    "\n",
    "- $x_1$ : 'sepal_length', \n",
    "- $x_2$ : 'sepal_width', \n",
    "- $x_3$ : 'petal_length', \n",
    "- $x_4$ : 'petal_width'."
   ]
  },
  {
   "cell_type": "markdown",
   "metadata": {},
   "source": [
    "Assim, esperamos que após o PCA, o espaço de componentes principais também tenha 4 dimensões, isto é, \n",
    "\n",
    "$ \\vec{x}_{PC} = \\left ( PC_1, PC_2, PC_3, PC_4 \\right) $\n",
    "\n",
    "E as componentes principais serão: \n",
    "\n",
    "$ PC_1 = \\alpha_{1, 1} x_1 + \\alpha_{1, 2} x_2 + \\alpha_{1, 3} x_3 + \\alpha_{1, 4} x_4$\n",
    "\n",
    "$ PC_2 = \\alpha_{2, 1} x_1 + \\alpha_{2, 2} x_2 + \\alpha_{2, 3} x_3 + \\alpha_{2, 4} x_4$\n",
    "\n",
    "$ PC_3 = \\alpha_{3, 1} x_1 + \\alpha_{3, 2} x_2 + \\alpha_{3, 3} x_3 + \\alpha_{3, 4} x_4$\n",
    "\n",
    "$ PC_4 = \\alpha_{4, 1} x_1 + \\alpha_{4, 2} x_2 + \\alpha_{4, 3} x_3 + \\alpha_{4, 4} x_4$"
   ]
  },
  {
   "cell_type": "markdown",
   "metadata": {},
   "source": [
    "Vamos agora aplicar o PCA para calcular as componentes principais!"
   ]
  },
  {
   "cell_type": "markdown",
   "metadata": {},
   "source": [
    "Mas antes, um ponto muito importante: **devemos escalar as features originais com o StandardScaler antes de aplicarmos o PCA**!\n",
    "\n",
    "Isso porque o método matemático recebe dados com média 0 e desvio padrão 1!"
   ]
  },
  {
   "cell_type": "code",
   "execution_count": 12,
   "metadata": {
    "ExecuteTime": {
     "end_time": "2022-07-12T23:18:44.281075Z",
     "start_time": "2022-07-12T23:18:44.250093Z"
    }
   },
   "outputs": [
    {
     "data": {
      "text/html": [
       "<div>\n",
       "<style scoped>\n",
       "    .dataframe tbody tr th:only-of-type {\n",
       "        vertical-align: middle;\n",
       "    }\n",
       "\n",
       "    .dataframe tbody tr th {\n",
       "        vertical-align: top;\n",
       "    }\n",
       "\n",
       "    .dataframe thead th {\n",
       "        text-align: right;\n",
       "    }\n",
       "</style>\n",
       "<table border=\"1\" class=\"dataframe\">\n",
       "  <thead>\n",
       "    <tr style=\"text-align: right;\">\n",
       "      <th></th>\n",
       "      <th>sepal_length</th>\n",
       "      <th>sepal_width</th>\n",
       "      <th>petal_length</th>\n",
       "      <th>petal_width</th>\n",
       "    </tr>\n",
       "  </thead>\n",
       "  <tbody>\n",
       "    <tr>\n",
       "      <th>8</th>\n",
       "      <td>4.4</td>\n",
       "      <td>2.9</td>\n",
       "      <td>1.4</td>\n",
       "      <td>0.2</td>\n",
       "    </tr>\n",
       "    <tr>\n",
       "      <th>106</th>\n",
       "      <td>4.9</td>\n",
       "      <td>2.5</td>\n",
       "      <td>4.5</td>\n",
       "      <td>1.7</td>\n",
       "    </tr>\n",
       "    <tr>\n",
       "      <th>76</th>\n",
       "      <td>6.8</td>\n",
       "      <td>2.8</td>\n",
       "      <td>4.8</td>\n",
       "      <td>1.4</td>\n",
       "    </tr>\n",
       "    <tr>\n",
       "      <th>9</th>\n",
       "      <td>4.9</td>\n",
       "      <td>3.1</td>\n",
       "      <td>1.5</td>\n",
       "      <td>0.1</td>\n",
       "    </tr>\n",
       "    <tr>\n",
       "      <th>89</th>\n",
       "      <td>5.5</td>\n",
       "      <td>2.5</td>\n",
       "      <td>4.0</td>\n",
       "      <td>1.3</td>\n",
       "    </tr>\n",
       "    <tr>\n",
       "      <th>...</th>\n",
       "      <td>...</td>\n",
       "      <td>...</td>\n",
       "      <td>...</td>\n",
       "      <td>...</td>\n",
       "    </tr>\n",
       "    <tr>\n",
       "      <th>37</th>\n",
       "      <td>4.9</td>\n",
       "      <td>3.6</td>\n",
       "      <td>1.4</td>\n",
       "      <td>0.1</td>\n",
       "    </tr>\n",
       "    <tr>\n",
       "      <th>2</th>\n",
       "      <td>4.7</td>\n",
       "      <td>3.2</td>\n",
       "      <td>1.3</td>\n",
       "      <td>0.2</td>\n",
       "    </tr>\n",
       "    <tr>\n",
       "      <th>33</th>\n",
       "      <td>5.5</td>\n",
       "      <td>4.2</td>\n",
       "      <td>1.4</td>\n",
       "      <td>0.2</td>\n",
       "    </tr>\n",
       "    <tr>\n",
       "      <th>52</th>\n",
       "      <td>6.9</td>\n",
       "      <td>3.1</td>\n",
       "      <td>4.9</td>\n",
       "      <td>1.5</td>\n",
       "    </tr>\n",
       "    <tr>\n",
       "      <th>3</th>\n",
       "      <td>4.6</td>\n",
       "      <td>3.1</td>\n",
       "      <td>1.5</td>\n",
       "      <td>0.2</td>\n",
       "    </tr>\n",
       "  </tbody>\n",
       "</table>\n",
       "<p>120 rows × 4 columns</p>\n",
       "</div>"
      ],
      "text/plain": [
       "     sepal_length  sepal_width  petal_length  petal_width\n",
       "8             4.4          2.9           1.4          0.2\n",
       "106           4.9          2.5           4.5          1.7\n",
       "76            6.8          2.8           4.8          1.4\n",
       "9             4.9          3.1           1.5          0.1\n",
       "89            5.5          2.5           4.0          1.3\n",
       "..            ...          ...           ...          ...\n",
       "37            4.9          3.6           1.4          0.1\n",
       "2             4.7          3.2           1.3          0.2\n",
       "33            5.5          4.2           1.4          0.2\n",
       "52            6.9          3.1           4.9          1.5\n",
       "3             4.6          3.1           1.5          0.2\n",
       "\n",
       "[120 rows x 4 columns]"
      ]
     },
     "execution_count": 12,
     "metadata": {},
     "output_type": "execute_result"
    }
   ],
   "source": [
    "X_train"
   ]
  },
  {
   "cell_type": "code",
   "execution_count": 14,
   "metadata": {
    "ExecuteTime": {
     "end_time": "2022-07-12T23:19:09.107176Z",
     "start_time": "2022-07-12T23:19:09.090184Z"
    }
   },
   "outputs": [],
   "source": [
    "std_scaler = StandardScaler().fit(X_train)\n",
    "\n",
    "X_train_ss = pd.DataFrame(std_scaler.transform(X_train), columns=X_train.columns, index=X_train.index)"
   ]
  },
  {
   "cell_type": "code",
   "execution_count": 15,
   "metadata": {
    "ExecuteTime": {
     "end_time": "2022-07-12T23:19:16.482464Z",
     "start_time": "2022-07-12T23:19:16.323033Z"
    }
   },
   "outputs": [
    {
     "data": {
      "text/html": [
       "<div>\n",
       "<style scoped>\n",
       "    .dataframe tbody tr th:only-of-type {\n",
       "        vertical-align: middle;\n",
       "    }\n",
       "\n",
       "    .dataframe tbody tr th {\n",
       "        vertical-align: top;\n",
       "    }\n",
       "\n",
       "    .dataframe thead th {\n",
       "        text-align: right;\n",
       "    }\n",
       "</style>\n",
       "<table border=\"1\" class=\"dataframe\">\n",
       "  <thead>\n",
       "    <tr style=\"text-align: right;\">\n",
       "      <th></th>\n",
       "      <th>sepal_length</th>\n",
       "      <th>sepal_width</th>\n",
       "      <th>petal_length</th>\n",
       "      <th>petal_width</th>\n",
       "    </tr>\n",
       "  </thead>\n",
       "  <tbody>\n",
       "    <tr>\n",
       "      <th>count</th>\n",
       "      <td>1.200000e+02</td>\n",
       "      <td>1.200000e+02</td>\n",
       "      <td>1.200000e+02</td>\n",
       "      <td>1.200000e+02</td>\n",
       "    </tr>\n",
       "    <tr>\n",
       "      <th>mean</th>\n",
       "      <td>-1.554312e-16</td>\n",
       "      <td>1.006371e-15</td>\n",
       "      <td>3.885781e-17</td>\n",
       "      <td>1.739349e-16</td>\n",
       "    </tr>\n",
       "    <tr>\n",
       "      <th>std</th>\n",
       "      <td>1.004193e+00</td>\n",
       "      <td>1.004193e+00</td>\n",
       "      <td>1.004193e+00</td>\n",
       "      <td>1.004193e+00</td>\n",
       "    </tr>\n",
       "    <tr>\n",
       "      <th>min</th>\n",
       "      <td>-1.840983e+00</td>\n",
       "      <td>-2.347097e+00</td>\n",
       "      <td>-1.516067e+00</td>\n",
       "      <td>-1.454945e+00</td>\n",
       "    </tr>\n",
       "    <tr>\n",
       "      <th>25%</th>\n",
       "      <td>-8.856620e-01</td>\n",
       "      <td>-5.559895e-01</td>\n",
       "      <td>-1.232159e+00</td>\n",
       "      <td>-1.191606e+00</td>\n",
       "    </tr>\n",
       "    <tr>\n",
       "      <th>50%</th>\n",
       "      <td>-1.094638e-01</td>\n",
       "      <td>-1.082127e-01</td>\n",
       "      <td>2.725514e-01</td>\n",
       "      <td>1.250858e-01</td>\n",
       "    </tr>\n",
       "    <tr>\n",
       "      <th>75%</th>\n",
       "      <td>6.667343e-01</td>\n",
       "      <td>6.194245e-01</td>\n",
       "      <td>7.551944e-01</td>\n",
       "      <td>7.834318e-01</td>\n",
       "    </tr>\n",
       "    <tr>\n",
       "      <th>max</th>\n",
       "      <td>2.457961e+00</td>\n",
       "      <td>3.026225e+00</td>\n",
       "      <td>1.777262e+00</td>\n",
       "      <td>1.705116e+00</td>\n",
       "    </tr>\n",
       "  </tbody>\n",
       "</table>\n",
       "</div>"
      ],
      "text/plain": [
       "       sepal_length   sepal_width  petal_length   petal_width\n",
       "count  1.200000e+02  1.200000e+02  1.200000e+02  1.200000e+02\n",
       "mean  -1.554312e-16  1.006371e-15  3.885781e-17  1.739349e-16\n",
       "std    1.004193e+00  1.004193e+00  1.004193e+00  1.004193e+00\n",
       "min   -1.840983e+00 -2.347097e+00 -1.516067e+00 -1.454945e+00\n",
       "25%   -8.856620e-01 -5.559895e-01 -1.232159e+00 -1.191606e+00\n",
       "50%   -1.094638e-01 -1.082127e-01  2.725514e-01  1.250858e-01\n",
       "75%    6.667343e-01  6.194245e-01  7.551944e-01  7.834318e-01\n",
       "max    2.457961e+00  3.026225e+00  1.777262e+00  1.705116e+00"
      ]
     },
     "execution_count": 15,
     "metadata": {},
     "output_type": "execute_result"
    }
   ],
   "source": [
    "X_train_ss.describe()"
   ]
  },
  {
   "cell_type": "markdown",
   "metadata": {},
   "source": [
    "Agora sim!\n",
    "\n",
    "A classe é essa: [PCA](https://scikit-learn.org/stable/modules/generated/sklearn.decomposition.PCA.html)"
   ]
  },
  {
   "cell_type": "code",
   "execution_count": 16,
   "metadata": {
    "ExecuteTime": {
     "end_time": "2022-07-12T23:23:17.155138Z",
     "start_time": "2022-07-12T23:23:16.438633Z"
    }
   },
   "outputs": [],
   "source": [
    "from sklearn.decomposition import PCA\n",
    "\n",
    "pca = PCA(random_state=42).fit(X_train_ss)"
   ]
  },
  {
   "cell_type": "code",
   "execution_count": 17,
   "metadata": {
    "ExecuteTime": {
     "end_time": "2022-07-12T23:23:21.271564Z",
     "start_time": "2022-07-12T23:23:21.234587Z"
    }
   },
   "outputs": [
    {
     "data": {
      "text/plain": [
       "PCA(random_state=42)"
      ]
     },
     "execution_count": 17,
     "metadata": {},
     "output_type": "execute_result"
    }
   ],
   "source": [
    "pca"
   ]
  },
  {
   "cell_type": "markdown",
   "metadata": {},
   "source": [
    "Com o PCA fitado, temos alguns atributos importantes!"
   ]
  },
  {
   "cell_type": "code",
   "execution_count": 19,
   "metadata": {
    "ExecuteTime": {
     "end_time": "2022-07-12T23:24:51.217395Z",
     "start_time": "2022-07-12T23:24:51.202407Z"
    }
   },
   "outputs": [
    {
     "data": {
      "text/plain": [
       "array(['sepal_length', 'sepal_width', 'petal_length', 'petal_width'],\n",
       "      dtype=object)"
      ]
     },
     "execution_count": 19,
     "metadata": {},
     "output_type": "execute_result"
    }
   ],
   "source": [
    "pca.feature_names_in_"
   ]
  },
  {
   "cell_type": "markdown",
   "metadata": {},
   "source": [
    "O atributo `components_` dá exatamente os coeficientes $\\alpha_{i, k}$ que determinan as combinações lineares de cada componente principal!"
   ]
  },
  {
   "cell_type": "code",
   "execution_count": 20,
   "metadata": {
    "ExecuteTime": {
     "end_time": "2022-07-12T23:25:25.991884Z",
     "start_time": "2022-07-12T23:25:25.965899Z"
    }
   },
   "outputs": [
    {
     "data": {
      "text/plain": [
       "array([[ 0.52679335, -0.25307206,  0.58186918,  0.56557189],\n",
       "       [ 0.34813945,  0.93470791,  0.02689438,  0.06630793],\n",
       "       [-0.72745724,  0.22196252,  0.1386138 ,  0.6342908 ],\n",
       "       [ 0.26850263, -0.11405393, -0.80093144,  0.52288323]])"
      ]
     },
     "execution_count": 20,
     "metadata": {},
     "output_type": "execute_result"
    }
   ],
   "source": [
    "pca.components_"
   ]
  },
  {
   "cell_type": "code",
   "execution_count": 22,
   "metadata": {
    "ExecuteTime": {
     "end_time": "2022-07-12T23:27:13.765790Z",
     "start_time": "2022-07-12T23:27:13.733810Z"
    }
   },
   "outputs": [
    {
     "data": {
      "text/html": [
       "<div>\n",
       "<style scoped>\n",
       "    .dataframe tbody tr th:only-of-type {\n",
       "        vertical-align: middle;\n",
       "    }\n",
       "\n",
       "    .dataframe tbody tr th {\n",
       "        vertical-align: top;\n",
       "    }\n",
       "\n",
       "    .dataframe thead th {\n",
       "        text-align: right;\n",
       "    }\n",
       "</style>\n",
       "<table border=\"1\" class=\"dataframe\">\n",
       "  <thead>\n",
       "    <tr style=\"text-align: right;\">\n",
       "      <th></th>\n",
       "      <th>sepal_length</th>\n",
       "      <th>sepal_width</th>\n",
       "      <th>petal_length</th>\n",
       "      <th>petal_width</th>\n",
       "    </tr>\n",
       "  </thead>\n",
       "  <tbody>\n",
       "    <tr>\n",
       "      <th>8</th>\n",
       "      <td>-1.721568</td>\n",
       "      <td>-0.332101</td>\n",
       "      <td>-1.345722</td>\n",
       "      <td>-1.323276</td>\n",
       "    </tr>\n",
       "    <tr>\n",
       "      <th>106</th>\n",
       "      <td>-1.124492</td>\n",
       "      <td>-1.227655</td>\n",
       "      <td>0.414505</td>\n",
       "      <td>0.651763</td>\n",
       "    </tr>\n",
       "    <tr>\n",
       "      <th>76</th>\n",
       "      <td>1.144395</td>\n",
       "      <td>-0.555990</td>\n",
       "      <td>0.584850</td>\n",
       "      <td>0.256755</td>\n",
       "    </tr>\n",
       "    <tr>\n",
       "      <th>9</th>\n",
       "      <td>-1.124492</td>\n",
       "      <td>0.115676</td>\n",
       "      <td>-1.288941</td>\n",
       "      <td>-1.454945</td>\n",
       "    </tr>\n",
       "    <tr>\n",
       "      <th>89</th>\n",
       "      <td>-0.408002</td>\n",
       "      <td>-1.227655</td>\n",
       "      <td>0.130598</td>\n",
       "      <td>0.125086</td>\n",
       "    </tr>\n",
       "    <tr>\n",
       "      <th>...</th>\n",
       "      <td>...</td>\n",
       "      <td>...</td>\n",
       "      <td>...</td>\n",
       "      <td>...</td>\n",
       "    </tr>\n",
       "    <tr>\n",
       "      <th>37</th>\n",
       "      <td>-1.124492</td>\n",
       "      <td>1.235118</td>\n",
       "      <td>-1.345722</td>\n",
       "      <td>-1.454945</td>\n",
       "    </tr>\n",
       "    <tr>\n",
       "      <th>2</th>\n",
       "      <td>-1.363322</td>\n",
       "      <td>0.339564</td>\n",
       "      <td>-1.402504</td>\n",
       "      <td>-1.323276</td>\n",
       "    </tr>\n",
       "    <tr>\n",
       "      <th>33</th>\n",
       "      <td>-0.408002</td>\n",
       "      <td>2.578448</td>\n",
       "      <td>-1.345722</td>\n",
       "      <td>-1.323276</td>\n",
       "    </tr>\n",
       "    <tr>\n",
       "      <th>52</th>\n",
       "      <td>1.263810</td>\n",
       "      <td>0.115676</td>\n",
       "      <td>0.641631</td>\n",
       "      <td>0.388424</td>\n",
       "    </tr>\n",
       "    <tr>\n",
       "      <th>3</th>\n",
       "      <td>-1.482738</td>\n",
       "      <td>0.115676</td>\n",
       "      <td>-1.288941</td>\n",
       "      <td>-1.323276</td>\n",
       "    </tr>\n",
       "  </tbody>\n",
       "</table>\n",
       "<p>120 rows × 4 columns</p>\n",
       "</div>"
      ],
      "text/plain": [
       "     sepal_length  sepal_width  petal_length  petal_width\n",
       "8       -1.721568    -0.332101     -1.345722    -1.323276\n",
       "106     -1.124492    -1.227655      0.414505     0.651763\n",
       "76       1.144395    -0.555990      0.584850     0.256755\n",
       "9       -1.124492     0.115676     -1.288941    -1.454945\n",
       "89      -0.408002    -1.227655      0.130598     0.125086\n",
       "..            ...          ...           ...          ...\n",
       "37      -1.124492     1.235118     -1.345722    -1.454945\n",
       "2       -1.363322     0.339564     -1.402504    -1.323276\n",
       "33      -0.408002     2.578448     -1.345722    -1.323276\n",
       "52       1.263810     0.115676      0.641631     0.388424\n",
       "3       -1.482738     0.115676     -1.288941    -1.323276\n",
       "\n",
       "[120 rows x 4 columns]"
      ]
     },
     "execution_count": 22,
     "metadata": {},
     "output_type": "execute_result"
    }
   ],
   "source": [
    "X_train_ss"
   ]
  },
  {
   "cell_type": "code",
   "execution_count": 24,
   "metadata": {
    "ExecuteTime": {
     "end_time": "2022-07-12T23:28:45.239756Z",
     "start_time": "2022-07-12T23:28:45.212767Z"
    }
   },
   "outputs": [
    {
     "data": {
      "text/plain": [
       "['PC1', 'PC2', 'PC3', 'PC4']"
      ]
     },
     "execution_count": 24,
     "metadata": {},
     "output_type": "execute_result"
    }
   ],
   "source": [
    "[f\"PC{i+1}\" for i in range(4)]"
   ]
  },
  {
   "cell_type": "code",
   "execution_count": 29,
   "metadata": {
    "ExecuteTime": {
     "end_time": "2022-07-12T23:29:53.279303Z",
     "start_time": "2022-07-12T23:29:53.261311Z"
    }
   },
   "outputs": [
    {
     "data": {
      "text/plain": [
       "4"
      ]
     },
     "execution_count": 29,
     "metadata": {},
     "output_type": "execute_result"
    }
   ],
   "source": [
    "pca.n_components_"
   ]
  },
  {
   "cell_type": "code",
   "execution_count": 30,
   "metadata": {
    "ExecuteTime": {
     "end_time": "2022-07-12T23:30:00.212769Z",
     "start_time": "2022-07-12T23:30:00.158803Z"
    }
   },
   "outputs": [
    {
     "data": {
      "text/html": [
       "<div>\n",
       "<style scoped>\n",
       "    .dataframe tbody tr th:only-of-type {\n",
       "        vertical-align: middle;\n",
       "    }\n",
       "\n",
       "    .dataframe tbody tr th {\n",
       "        vertical-align: top;\n",
       "    }\n",
       "\n",
       "    .dataframe thead th {\n",
       "        text-align: right;\n",
       "    }\n",
       "</style>\n",
       "<table border=\"1\" class=\"dataframe\">\n",
       "  <thead>\n",
       "    <tr style=\"text-align: right;\">\n",
       "      <th></th>\n",
       "      <th>PC1</th>\n",
       "      <th>PC2</th>\n",
       "      <th>PC3</th>\n",
       "      <th>PC4</th>\n",
       "    </tr>\n",
       "  </thead>\n",
       "  <tbody>\n",
       "    <tr>\n",
       "      <th>8</th>\n",
       "      <td>-2.354307</td>\n",
       "      <td>-1.033699</td>\n",
       "      <td>0.152776</td>\n",
       "      <td>-0.038455</td>\n",
       "    </tr>\n",
       "    <tr>\n",
       "      <th>106</th>\n",
       "      <td>0.328116</td>\n",
       "      <td>-1.484614</td>\n",
       "      <td>1.016390</td>\n",
       "      <td>-0.153105</td>\n",
       "    </tr>\n",
       "    <tr>\n",
       "      <th>76</th>\n",
       "      <td>1.229084</td>\n",
       "      <td>-0.088525</td>\n",
       "      <td>-0.711982</td>\n",
       "      <td>0.036514</td>\n",
       "    </tr>\n",
       "    <tr>\n",
       "      <th>9</th>\n",
       "      <td>-2.194520</td>\n",
       "      <td>-0.414497</td>\n",
       "      <td>-0.257827</td>\n",
       "      <td>-0.043535</td>\n",
       "    </tr>\n",
       "    <tr>\n",
       "      <th>89</th>\n",
       "      <td>0.242488</td>\n",
       "      <td>-1.277733</td>\n",
       "      <td>0.121754</td>\n",
       "      <td>-0.008725</td>\n",
       "    </tr>\n",
       "    <tr>\n",
       "      <th>...</th>\n",
       "      <td>...</td>\n",
       "      <td>...</td>\n",
       "      <td>...</td>\n",
       "      <td>...</td>\n",
       "    </tr>\n",
       "    <tr>\n",
       "      <th>37</th>\n",
       "      <td>-2.510859</td>\n",
       "      <td>0.630327</td>\n",
       "      <td>-0.017224</td>\n",
       "      <td>-0.125734</td>\n",
       "    </tr>\n",
       "    <tr>\n",
       "      <th>2</th>\n",
       "      <td>-2.368605</td>\n",
       "      <td>-0.282696</td>\n",
       "      <td>0.033381</td>\n",
       "      <td>0.026607</td>\n",
       "    </tr>\n",
       "    <tr>\n",
       "      <th>33</th>\n",
       "      <td>-2.398907</td>\n",
       "      <td>2.144118</td>\n",
       "      <td>-0.156755</td>\n",
       "      <td>-0.017719</td>\n",
       "    </tr>\n",
       "    <tr>\n",
       "      <th>52</th>\n",
       "      <td>1.229520</td>\n",
       "      <td>0.591117</td>\n",
       "      <td>-0.558379</td>\n",
       "      <td>0.015341</td>\n",
       "    </tr>\n",
       "    <tr>\n",
       "      <th>3</th>\n",
       "      <td>-2.308773</td>\n",
       "      <td>-0.530485</td>\n",
       "      <td>0.086297</td>\n",
       "      <td>-0.070878</td>\n",
       "    </tr>\n",
       "  </tbody>\n",
       "</table>\n",
       "<p>120 rows × 4 columns</p>\n",
       "</div>"
      ],
      "text/plain": [
       "          PC1       PC2       PC3       PC4\n",
       "8   -2.354307 -1.033699  0.152776 -0.038455\n",
       "106  0.328116 -1.484614  1.016390 -0.153105\n",
       "76   1.229084 -0.088525 -0.711982  0.036514\n",
       "9   -2.194520 -0.414497 -0.257827 -0.043535\n",
       "89   0.242488 -1.277733  0.121754 -0.008725\n",
       "..        ...       ...       ...       ...\n",
       "37  -2.510859  0.630327 -0.017224 -0.125734\n",
       "2   -2.368605 -0.282696  0.033381  0.026607\n",
       "33  -2.398907  2.144118 -0.156755 -0.017719\n",
       "52   1.229520  0.591117 -0.558379  0.015341\n",
       "3   -2.308773 -0.530485  0.086297 -0.070878\n",
       "\n",
       "[120 rows x 4 columns]"
      ]
     },
     "execution_count": 30,
     "metadata": {},
     "output_type": "execute_result"
    }
   ],
   "source": [
    "X_train_pca = pd.DataFrame(pca.transform(X_train_ss), index=X_train.index, \n",
    "                           columns=[f\"PC{i+1}\" for i in range(pca.n_components_)])\n",
    "\n",
    "X_train_pca"
   ]
  },
  {
   "cell_type": "markdown",
   "metadata": {},
   "source": [
    "Ou seja,\n",
    "\n",
    "$PC_1 = 0.527x_1 -0.253x_2 + 0.582x_3 + 0.566x_4$\n",
    "\n",
    "$PC_2 = 0.348x_1 + 0.935x_2 + 0.027x_3 + 0.066x_4$\n",
    "\n",
    "$PC_3 = -0.727x_1 + 0.222x_2 + 0.139x_3 + 0.634x_4$\n",
    "\n",
    "$PC_4 = 0.269x_1 -0.114x_2 -0.801x_3 + 0.523x_4$"
   ]
  },
  {
   "cell_type": "markdown",
   "metadata": {},
   "source": [
    "Lembrando que:\n",
    "\n",
    "- $x_1$ : 'sepal_length', \n",
    "- $x_2$ : 'sepal_width', \n",
    "- $x_3$ : 'petal_length', \n",
    "- $x_4$ : 'petal_width'."
   ]
  },
  {
   "cell_type": "markdown",
   "metadata": {},
   "source": [
    "Há alguns outros atributos muito importantes:"
   ]
  },
  {
   "cell_type": "markdown",
   "metadata": {},
   "source": [
    "O `.explained_variance_` dá a **porção de variância** explicada por cada componente principal!"
   ]
  },
  {
   "cell_type": "code",
   "execution_count": 35,
   "metadata": {
    "ExecuteTime": {
     "end_time": "2022-07-12T23:43:34.405086Z",
     "start_time": "2022-07-12T23:43:34.394093Z"
    }
   },
   "outputs": [
    {
     "data": {
      "text/plain": [
       "sepal_length    1.008403\n",
       "sepal_width     1.008403\n",
       "petal_length    1.008403\n",
       "petal_width     1.008403\n",
       "dtype: float64"
      ]
     },
     "execution_count": 35,
     "metadata": {},
     "output_type": "execute_result"
    }
   ],
   "source": [
    "X_train_ss.var()"
   ]
  },
  {
   "cell_type": "code",
   "execution_count": 34,
   "metadata": {
    "ExecuteTime": {
     "end_time": "2022-07-12T23:43:22.548785Z",
     "start_time": "2022-07-12T23:43:22.535796Z"
    }
   },
   "outputs": [
    {
     "data": {
      "text/plain": [
       "4.033613445378153"
      ]
     },
     "execution_count": 34,
     "metadata": {},
     "output_type": "execute_result"
    }
   ],
   "source": [
    "X_train_ss.var().sum()"
   ]
  },
  {
   "cell_type": "code",
   "execution_count": 31,
   "metadata": {
    "ExecuteTime": {
     "end_time": "2022-07-12T23:43:00.986184Z",
     "start_time": "2022-07-12T23:43:00.966194Z"
    }
   },
   "outputs": [
    {
     "data": {
      "text/plain": [
       "array([2.93151868, 0.93042018, 0.15254729, 0.01912729])"
      ]
     },
     "execution_count": 31,
     "metadata": {},
     "output_type": "execute_result"
    }
   ],
   "source": [
    "pca.explained_variance_"
   ]
  },
  {
   "cell_type": "markdown",
   "metadata": {},
   "source": [
    "O `.explained_variance_ratio_`dá a **proporção** de variância explicada por cada PC:"
   ]
  },
  {
   "cell_type": "code",
   "execution_count": 37,
   "metadata": {
    "ExecuteTime": {
     "end_time": "2022-07-12T23:44:42.039411Z",
     "start_time": "2022-07-12T23:44:42.021423Z"
    }
   },
   "outputs": [
    {
     "data": {
      "text/plain": [
       "array([72.67723405, 23.06666702,  3.78190145,  0.47419749])"
      ]
     },
     "execution_count": 37,
     "metadata": {},
     "output_type": "execute_result"
    }
   ],
   "source": [
    "pca.explained_variance_ratio_*100"
   ]
  },
  {
   "cell_type": "code",
   "execution_count": 40,
   "metadata": {
    "ExecuteTime": {
     "end_time": "2022-07-12T23:45:47.648479Z",
     "start_time": "2022-07-12T23:45:47.634489Z"
    }
   },
   "outputs": [
    {
     "data": {
      "text/plain": [
       "array([ 72.67723405,  95.74390107,  99.52580251, 100.        ])"
      ]
     },
     "execution_count": 40,
     "metadata": {},
     "output_type": "execute_result"
    }
   ],
   "source": [
    "pca.explained_variance_ratio_.cumsum()*100"
   ]
  },
  {
   "cell_type": "markdown",
   "metadata": {},
   "source": [
    "Podemos plotar os resultados acima:"
   ]
  },
  {
   "cell_type": "code",
   "execution_count": 42,
   "metadata": {
    "ExecuteTime": {
     "end_time": "2022-07-13T00:00:46.524645Z",
     "start_time": "2022-07-13T00:00:46.276119Z"
    }
   },
   "outputs": [
    {
     "data": {
      "image/png": "[encoded data removed]",
      "text/plain": [
       "<Figure size 432x288 with 1 Axes>"
      ]
     },
     "metadata": {
      "needs_background": "light"
     },
     "output_type": "display_data"
    }
   ],
   "source": [
    "plt.bar([f\"PC{i+1}\" for i in range(pca.n_components_)], pca.explained_variance_ratio_*100);"
   ]
  },
  {
   "cell_type": "code",
   "execution_count": 46,
   "metadata": {
    "ExecuteTime": {
     "end_time": "2022-07-13T00:01:51.559284Z",
     "start_time": "2022-07-13T00:01:51.337506Z"
    }
   },
   "outputs": [
    {
     "data": {
      "image/png": "[encoded data removed]",
      "text/plain": [
       "<Figure size 432x288 with 1 Axes>"
      ]
     },
     "metadata": {
      "needs_background": "light"
     },
     "output_type": "display_data"
    }
   ],
   "source": [
    "plt.bar([f\"PC{i+1}\" for i in range(pca.n_components_)], pca.explained_variance_ratio_.cumsum()*100)\n",
    "plt.axhline(y=100, color=\"red\", ls=\":\");"
   ]
  },
  {
   "cell_type": "markdown",
   "metadata": {},
   "source": [
    "Dos resultados, é fácil ver que com apenas 2 componentes principais, capturamos 95% da variância dos dados!\n",
    "\n",
    "Assim, caso queiramos reduzir o número de dimensões de $n=4$ para $L=2$, temos a garantia de que grande parte da variabilidade estará contida nas duas componentes principais que usaremos para modelagem!\n",
    "\n",
    "> Veja que a escolha de $L < n$ componentes principais pode ser vista como um procedimento de **feature selection**, mas feito **no espaço de componentes principais!**\n",
    "> Como não são as features originais que são selecionadas, é comum nos referirmos a este procedimento como **redução de dimensionalidade** (e a dimensionalidade que é reduzida é do espaço de componentes principais!)\n",
    "\n",
    "De fato, note que **todas as 4 features originais** estão presentes em cada uma das PCs, como termos da combinação linear que define cada PC. E, naturalmente, todas as 4 estão presentes nas $L$ primeiras."
   ]
  },
  {
   "cell_type": "markdown",
   "metadata": {},
   "source": [
    "Caso queiramos construir modelos no espaço de componentes principais, é importante que incorporemos o PCA em nossa pipeline! \n",
    "\n",
    "Vamos ver na prática!"
   ]
  },
  {
   "cell_type": "markdown",
   "metadata": {},
   "source": [
    "____________"
   ]
  },
  {
   "cell_type": "markdown",
   "metadata": {},
   "source": [
    "## 2) PCA na Pipeline"
   ]
  },
  {
   "cell_type": "code",
   "execution_count": 47,
   "metadata": {
    "ExecuteTime": {
     "end_time": "2022-07-13T00:02:54.758798Z",
     "start_time": "2022-07-13T00:02:54.553454Z"
    }
   },
   "outputs": [
    {
     "name": "stdout",
     "output_type": "stream",
     "text": [
      "<class 'pandas.core.frame.DataFrame'>\n",
      "RangeIndex: 150 entries, 0 to 149\n",
      "Data columns (total 5 columns):\n",
      " #   Column        Non-Null Count  Dtype  \n",
      "---  ------        --------------  -----  \n",
      " 0   sepal_length  150 non-null    float64\n",
      " 1   sepal_width   150 non-null    float64\n",
      " 2   petal_length  150 non-null    float64\n",
      " 3   petal_width   150 non-null    float64\n",
      " 4   species       150 non-null    object \n",
      "dtypes: float64(4), object(1)\n",
      "memory usage: 6.0+ KB\n"
     ]
    }
   ],
   "source": [
    "df = pd.read_csv(\"../datasets/iris.csv\")\n",
    "\n",
    "X = df.drop(columns=\"species\")\n",
    "y = df[\"species\"]\n",
    "\n",
    "X_train, X_test, y_train, y_test = train_test_split(X, y, test_size=0.2, \n",
    "                                                    random_state=42, stratify=y)\n",
    "\n",
    "df.info()"
   ]
  },
  {
   "cell_type": "code",
   "execution_count": 48,
   "metadata": {
    "ExecuteTime": {
     "end_time": "2022-07-13T00:03:50.516593Z",
     "start_time": "2022-07-13T00:03:50.511592Z"
    }
   },
   "outputs": [],
   "source": [
    "from sklearn.linear_model import LogisticRegression"
   ]
  },
  {
   "cell_type": "code",
   "execution_count": 54,
   "metadata": {
    "ExecuteTime": {
     "end_time": "2022-07-13T00:07:15.971682Z",
     "start_time": "2022-07-13T00:07:15.129162Z"
    },
    "scrolled": true
   },
   "outputs": [
    {
     "name": "stdout",
     "output_type": "stream",
     "text": [
      "Métricas de avaliação de treino\n"
     ]
    },
    {
     "data": {
      "image/png": "[encoded data removed]",
      "text/plain": [
       "<Figure size 432x288 with 2 Axes>"
      ]
     },
     "metadata": {
      "needs_background": "light"
     },
     "output_type": "display_data"
    },
    {
     "name": "stdout",
     "output_type": "stream",
     "text": [
      "\n",
      "################################################################################\n",
      "\n",
      "Métricas de avaliação de teste\n"
     ]
    },
    {
     "data": {
      "image/png": "[encoded data removed]",
      "text/plain": [
       "<Figure size 432x288 with 2 Axes>"
      ]
     },
     "metadata": {
      "needs_background": "light"
     },
     "output_type": "display_data"
    }
   ],
   "source": [
    "pipe_sem_pca = Pipeline([(\"lr\", LogisticRegression(random_state=42))]).fit(X_train, y_train)\n",
    "\n",
    "_ = clf_metrics_train_test(pipe_sem_pca, X_train, y_train, X_test, y_test, cutoff=0.5, \n",
    "                           plot_conf_matrix=True, print_cr=False)"
   ]
  },
  {
   "cell_type": "code",
   "execution_count": 55,
   "metadata": {
    "ExecuteTime": {
     "end_time": "2022-07-13T00:08:19.285014Z",
     "start_time": "2022-07-13T00:08:18.547709Z"
    }
   },
   "outputs": [
    {
     "name": "stdout",
     "output_type": "stream",
     "text": [
      "Métricas de avaliação de treino\n"
     ]
    },
    {
     "data": {
      "image/png": "[encoded data removed]",
      "text/plain": [
       "<Figure size 432x288 with 2 Axes>"
      ]
     },
     "metadata": {
      "needs_background": "light"
     },
     "output_type": "display_data"
    },
    {
     "name": "stdout",
     "output_type": "stream",
     "text": [
      "\n",
      "################################################################################\n",
      "\n",
      "Métricas de avaliação de teste\n"
     ]
    },
    {
     "data": {
      "image/png": "[encoded data removed]",
      "text/plain": [
       "<Figure size 432x288 with 2 Axes>"
      ]
     },
     "metadata": {
      "needs_background": "light"
     },
     "output_type": "display_data"
    }
   ],
   "source": [
    "pipe_sem_pca = Pipeline([(\"ss\", StandardScaler()), \n",
    "                         # aqui eu to escolhendo o numero de PCs que quero!\n",
    "                         (\"pca\", PCA(n_components=2)),\n",
    "                         (\"lr\", LogisticRegression(random_state=42))]).fit(X_train, y_train)\n",
    "\n",
    "_ = clf_metrics_train_test(pipe_sem_pca, X_train, y_train, X_test, y_test, cutoff=0.5, \n",
    "                           plot_conf_matrix=True, print_cr=False)"
   ]
  },
  {
   "cell_type": "markdown",
   "metadata": {},
   "source": [
    "Ao invés de escolher explicitamente o número de PCs a serem utilizadas, podemos também declarar a porcentagem acumulada mínima de variância que queremos capturar nas $L$ PCs selecionadas:"
   ]
  },
  {
   "cell_type": "code",
   "execution_count": 56,
   "metadata": {
    "ExecuteTime": {
     "end_time": "2022-07-13T00:13:33.256503Z",
     "start_time": "2022-07-13T00:13:32.209147Z"
    },
    "scrolled": true
   },
   "outputs": [
    {
     "name": "stdout",
     "output_type": "stream",
     "text": [
      "Métricas de avaliação de treino\n"
     ]
    },
    {
     "data": {
      "image/png": "[encoded data removed]",
      "text/plain": [
       "<Figure size 432x288 with 2 Axes>"
      ]
     },
     "metadata": {
      "needs_background": "light"
     },
     "output_type": "display_data"
    },
    {
     "name": "stdout",
     "output_type": "stream",
     "text": [
      "\n",
      "################################################################################\n",
      "\n",
      "Métricas de avaliação de teste\n"
     ]
    },
    {
     "data": {
      "image/png": "[encoded data removed]",
      "text/plain": [
       "<Figure size 432x288 with 2 Axes>"
      ]
     },
     "metadata": {
      "needs_background": "light"
     },
     "output_type": "display_data"
    }
   ],
   "source": [
    "pipe_com_pca = Pipeline([(\"ss\", StandardScaler()), \n",
    "                         # aqui eu to escolhendo INDIRETAMENTE o numero de PCs que quero!\n",
    "                         (\"pca\", PCA(n_components=0.9)),\n",
    "                         (\"lr\", LogisticRegression(random_state=42))]).fit(X_train, y_train)\n",
    "\n",
    "_ = clf_metrics_train_test(pipe_com_pca, X_train, y_train, X_test, y_test, cutoff=0.5, \n",
    "                           plot_conf_matrix=True, print_cr=False)"
   ]
  },
  {
   "cell_type": "code",
   "execution_count": 59,
   "metadata": {
    "ExecuteTime": {
     "end_time": "2022-07-13T00:14:20.700312Z",
     "start_time": "2022-07-13T00:14:20.688320Z"
    }
   },
   "outputs": [
    {
     "data": {
      "text/plain": [
       "PCA(n_components=0.9)"
      ]
     },
     "execution_count": 59,
     "metadata": {},
     "output_type": "execute_result"
    }
   ],
   "source": [
    "pipe_sem_pca[\"pca\"]"
   ]
  },
  {
   "cell_type": "code",
   "execution_count": 60,
   "metadata": {
    "ExecuteTime": {
     "end_time": "2022-07-13T00:14:26.558991Z",
     "start_time": "2022-07-13T00:14:26.544977Z"
    }
   },
   "outputs": [
    {
     "data": {
      "text/plain": [
       "2"
      ]
     },
     "execution_count": 60,
     "metadata": {},
     "output_type": "execute_result"
    }
   ],
   "source": [
    "pipe_sem_pca[\"pca\"].n_components_"
   ]
  },
  {
   "cell_type": "markdown",
   "metadata": {},
   "source": [
    "___________\n",
    "\n",
    "Vamos analisar um outro dataset?"
   ]
  },
  {
   "cell_type": "code",
   "execution_count": 61,
   "metadata": {
    "ExecuteTime": {
     "end_time": "2022-07-13T00:16:46.427956Z",
     "start_time": "2022-07-13T00:16:46.259051Z"
    }
   },
   "outputs": [],
   "source": [
    "df_bc = pd.read_csv(\"../datasets/breast_cancer.csv\")\n",
    "\n",
    "X = df_bc.drop(columns=[\"id\", \"diagnosis\"])\n",
    "y = df_bc[\"diagnosis\"]\n",
    "\n",
    "X_train, X_test, y_train, y_test = train_test_split(X, y, test_size=0.2, \n",
    "                                                    random_state=42, stratify=y)"
   ]
  },
  {
   "cell_type": "code",
   "execution_count": 62,
   "metadata": {
    "ExecuteTime": {
     "end_time": "2022-07-13T00:16:50.474695Z",
     "start_time": "2022-07-13T00:16:50.373755Z"
    }
   },
   "outputs": [
    {
     "data": {
      "text/html": [
       "<div>\n",
       "<style scoped>\n",
       "    .dataframe tbody tr th:only-of-type {\n",
       "        vertical-align: middle;\n",
       "    }\n",
       "\n",
       "    .dataframe tbody tr th {\n",
       "        vertical-align: top;\n",
       "    }\n",
       "\n",
       "    .dataframe thead th {\n",
       "        text-align: right;\n",
       "    }\n",
       "</style>\n",
       "<table border=\"1\" class=\"dataframe\">\n",
       "  <thead>\n",
       "    <tr style=\"text-align: right;\">\n",
       "      <th></th>\n",
       "      <th>radius_mean</th>\n",
       "      <th>texture_mean</th>\n",
       "      <th>perimeter_mean</th>\n",
       "      <th>area_mean</th>\n",
       "      <th>smoothness_mean</th>\n",
       "      <th>compactness_mean</th>\n",
       "      <th>concavity_mean</th>\n",
       "      <th>concave points_mean</th>\n",
       "      <th>symmetry_mean</th>\n",
       "      <th>fractal_dimension_mean</th>\n",
       "      <th>...</th>\n",
       "      <th>radius_worst</th>\n",
       "      <th>texture_worst</th>\n",
       "      <th>perimeter_worst</th>\n",
       "      <th>area_worst</th>\n",
       "      <th>smoothness_worst</th>\n",
       "      <th>compactness_worst</th>\n",
       "      <th>concavity_worst</th>\n",
       "      <th>concave points_worst</th>\n",
       "      <th>symmetry_worst</th>\n",
       "      <th>fractal_dimension_worst</th>\n",
       "    </tr>\n",
       "  </thead>\n",
       "  <tbody>\n",
       "    <tr>\n",
       "      <th>10</th>\n",
       "      <td>16.02</td>\n",
       "      <td>23.24</td>\n",
       "      <td>102.70</td>\n",
       "      <td>797.8</td>\n",
       "      <td>0.08206</td>\n",
       "      <td>0.06669</td>\n",
       "      <td>0.03299</td>\n",
       "      <td>0.03323</td>\n",
       "      <td>0.1528</td>\n",
       "      <td>0.05697</td>\n",
       "      <td>...</td>\n",
       "      <td>19.19</td>\n",
       "      <td>33.88</td>\n",
       "      <td>123.80</td>\n",
       "      <td>1150.0</td>\n",
       "      <td>0.11810</td>\n",
       "      <td>0.15510</td>\n",
       "      <td>0.14590</td>\n",
       "      <td>0.09975</td>\n",
       "      <td>0.2948</td>\n",
       "      <td>0.08452</td>\n",
       "    </tr>\n",
       "    <tr>\n",
       "      <th>170</th>\n",
       "      <td>12.32</td>\n",
       "      <td>12.39</td>\n",
       "      <td>78.85</td>\n",
       "      <td>464.1</td>\n",
       "      <td>0.10280</td>\n",
       "      <td>0.06981</td>\n",
       "      <td>0.03987</td>\n",
       "      <td>0.03700</td>\n",
       "      <td>0.1959</td>\n",
       "      <td>0.05955</td>\n",
       "      <td>...</td>\n",
       "      <td>13.50</td>\n",
       "      <td>15.64</td>\n",
       "      <td>86.97</td>\n",
       "      <td>549.1</td>\n",
       "      <td>0.13850</td>\n",
       "      <td>0.12660</td>\n",
       "      <td>0.12420</td>\n",
       "      <td>0.09391</td>\n",
       "      <td>0.2827</td>\n",
       "      <td>0.06771</td>\n",
       "    </tr>\n",
       "    <tr>\n",
       "      <th>407</th>\n",
       "      <td>12.85</td>\n",
       "      <td>21.37</td>\n",
       "      <td>82.63</td>\n",
       "      <td>514.5</td>\n",
       "      <td>0.07551</td>\n",
       "      <td>0.08316</td>\n",
       "      <td>0.06126</td>\n",
       "      <td>0.01867</td>\n",
       "      <td>0.1580</td>\n",
       "      <td>0.06114</td>\n",
       "      <td>...</td>\n",
       "      <td>14.40</td>\n",
       "      <td>27.01</td>\n",
       "      <td>91.63</td>\n",
       "      <td>645.8</td>\n",
       "      <td>0.09402</td>\n",
       "      <td>0.19360</td>\n",
       "      <td>0.18380</td>\n",
       "      <td>0.05601</td>\n",
       "      <td>0.2488</td>\n",
       "      <td>0.08151</td>\n",
       "    </tr>\n",
       "    <tr>\n",
       "      <th>430</th>\n",
       "      <td>14.90</td>\n",
       "      <td>22.53</td>\n",
       "      <td>102.10</td>\n",
       "      <td>685.0</td>\n",
       "      <td>0.09947</td>\n",
       "      <td>0.22250</td>\n",
       "      <td>0.27330</td>\n",
       "      <td>0.09711</td>\n",
       "      <td>0.2041</td>\n",
       "      <td>0.06898</td>\n",
       "      <td>...</td>\n",
       "      <td>16.35</td>\n",
       "      <td>27.57</td>\n",
       "      <td>125.40</td>\n",
       "      <td>832.7</td>\n",
       "      <td>0.14190</td>\n",
       "      <td>0.70900</td>\n",
       "      <td>0.90190</td>\n",
       "      <td>0.24750</td>\n",
       "      <td>0.2866</td>\n",
       "      <td>0.11550</td>\n",
       "    </tr>\n",
       "    <tr>\n",
       "      <th>27</th>\n",
       "      <td>18.61</td>\n",
       "      <td>20.25</td>\n",
       "      <td>122.10</td>\n",
       "      <td>1094.0</td>\n",
       "      <td>0.09440</td>\n",
       "      <td>0.10660</td>\n",
       "      <td>0.14900</td>\n",
       "      <td>0.07731</td>\n",
       "      <td>0.1697</td>\n",
       "      <td>0.05699</td>\n",
       "      <td>...</td>\n",
       "      <td>21.31</td>\n",
       "      <td>27.26</td>\n",
       "      <td>139.90</td>\n",
       "      <td>1403.0</td>\n",
       "      <td>0.13380</td>\n",
       "      <td>0.21170</td>\n",
       "      <td>0.34460</td>\n",
       "      <td>0.14900</td>\n",
       "      <td>0.2341</td>\n",
       "      <td>0.07421</td>\n",
       "    </tr>\n",
       "    <tr>\n",
       "      <th>...</th>\n",
       "      <td>...</td>\n",
       "      <td>...</td>\n",
       "      <td>...</td>\n",
       "      <td>...</td>\n",
       "      <td>...</td>\n",
       "      <td>...</td>\n",
       "      <td>...</td>\n",
       "      <td>...</td>\n",
       "      <td>...</td>\n",
       "      <td>...</td>\n",
       "      <td>...</td>\n",
       "      <td>...</td>\n",
       "      <td>...</td>\n",
       "      <td>...</td>\n",
       "      <td>...</td>\n",
       "      <td>...</td>\n",
       "      <td>...</td>\n",
       "      <td>...</td>\n",
       "      <td>...</td>\n",
       "      <td>...</td>\n",
       "      <td>...</td>\n",
       "    </tr>\n",
       "    <tr>\n",
       "      <th>37</th>\n",
       "      <td>13.03</td>\n",
       "      <td>18.42</td>\n",
       "      <td>82.61</td>\n",
       "      <td>523.8</td>\n",
       "      <td>0.08983</td>\n",
       "      <td>0.03766</td>\n",
       "      <td>0.02562</td>\n",
       "      <td>0.02923</td>\n",
       "      <td>0.1467</td>\n",
       "      <td>0.05863</td>\n",
       "      <td>...</td>\n",
       "      <td>13.30</td>\n",
       "      <td>22.81</td>\n",
       "      <td>84.46</td>\n",
       "      <td>545.9</td>\n",
       "      <td>0.09701</td>\n",
       "      <td>0.04619</td>\n",
       "      <td>0.04833</td>\n",
       "      <td>0.05013</td>\n",
       "      <td>0.1987</td>\n",
       "      <td>0.06169</td>\n",
       "    </tr>\n",
       "    <tr>\n",
       "      <th>415</th>\n",
       "      <td>11.89</td>\n",
       "      <td>21.17</td>\n",
       "      <td>76.39</td>\n",
       "      <td>433.8</td>\n",
       "      <td>0.09773</td>\n",
       "      <td>0.08120</td>\n",
       "      <td>0.02555</td>\n",
       "      <td>0.02179</td>\n",
       "      <td>0.2019</td>\n",
       "      <td>0.06290</td>\n",
       "      <td>...</td>\n",
       "      <td>13.05</td>\n",
       "      <td>27.21</td>\n",
       "      <td>85.09</td>\n",
       "      <td>522.9</td>\n",
       "      <td>0.14260</td>\n",
       "      <td>0.21870</td>\n",
       "      <td>0.11640</td>\n",
       "      <td>0.08263</td>\n",
       "      <td>0.3075</td>\n",
       "      <td>0.07351</td>\n",
       "    </tr>\n",
       "    <tr>\n",
       "      <th>458</th>\n",
       "      <td>13.00</td>\n",
       "      <td>25.13</td>\n",
       "      <td>82.61</td>\n",
       "      <td>520.2</td>\n",
       "      <td>0.08369</td>\n",
       "      <td>0.05073</td>\n",
       "      <td>0.01206</td>\n",
       "      <td>0.01762</td>\n",
       "      <td>0.1667</td>\n",
       "      <td>0.05449</td>\n",
       "      <td>...</td>\n",
       "      <td>14.34</td>\n",
       "      <td>31.88</td>\n",
       "      <td>91.06</td>\n",
       "      <td>628.5</td>\n",
       "      <td>0.12180</td>\n",
       "      <td>0.10930</td>\n",
       "      <td>0.04462</td>\n",
       "      <td>0.05921</td>\n",
       "      <td>0.2306</td>\n",
       "      <td>0.06291</td>\n",
       "    </tr>\n",
       "    <tr>\n",
       "      <th>476</th>\n",
       "      <td>14.20</td>\n",
       "      <td>20.53</td>\n",
       "      <td>92.41</td>\n",
       "      <td>618.4</td>\n",
       "      <td>0.08931</td>\n",
       "      <td>0.11080</td>\n",
       "      <td>0.05063</td>\n",
       "      <td>0.03058</td>\n",
       "      <td>0.1506</td>\n",
       "      <td>0.06009</td>\n",
       "      <td>...</td>\n",
       "      <td>16.45</td>\n",
       "      <td>27.26</td>\n",
       "      <td>112.10</td>\n",
       "      <td>828.5</td>\n",
       "      <td>0.11530</td>\n",
       "      <td>0.34290</td>\n",
       "      <td>0.25120</td>\n",
       "      <td>0.13390</td>\n",
       "      <td>0.2534</td>\n",
       "      <td>0.07858</td>\n",
       "    </tr>\n",
       "    <tr>\n",
       "      <th>335</th>\n",
       "      <td>17.06</td>\n",
       "      <td>21.00</td>\n",
       "      <td>111.80</td>\n",
       "      <td>918.6</td>\n",
       "      <td>0.11190</td>\n",
       "      <td>0.10560</td>\n",
       "      <td>0.15080</td>\n",
       "      <td>0.09934</td>\n",
       "      <td>0.1727</td>\n",
       "      <td>0.06071</td>\n",
       "      <td>...</td>\n",
       "      <td>20.99</td>\n",
       "      <td>33.15</td>\n",
       "      <td>143.20</td>\n",
       "      <td>1362.0</td>\n",
       "      <td>0.14490</td>\n",
       "      <td>0.20530</td>\n",
       "      <td>0.39200</td>\n",
       "      <td>0.18270</td>\n",
       "      <td>0.2623</td>\n",
       "      <td>0.07599</td>\n",
       "    </tr>\n",
       "  </tbody>\n",
       "</table>\n",
       "<p>455 rows × 30 columns</p>\n",
       "</div>"
      ],
      "text/plain": [
       "     radius_mean  texture_mean  perimeter_mean  area_mean  smoothness_mean  \\\n",
       "10         16.02         23.24          102.70      797.8          0.08206   \n",
       "170        12.32         12.39           78.85      464.1          0.10280   \n",
       "407        12.85         21.37           82.63      514.5          0.07551   \n",
       "430        14.90         22.53          102.10      685.0          0.09947   \n",
       "27         18.61         20.25          122.10     1094.0          0.09440   \n",
       "..           ...           ...             ...        ...              ...   \n",
       "37         13.03         18.42           82.61      523.8          0.08983   \n",
       "415        11.89         21.17           76.39      433.8          0.09773   \n",
       "458        13.00         25.13           82.61      520.2          0.08369   \n",
       "476        14.20         20.53           92.41      618.4          0.08931   \n",
       "335        17.06         21.00          111.80      918.6          0.11190   \n",
       "\n",
       "     compactness_mean  concavity_mean  concave points_mean  symmetry_mean  \\\n",
       "10            0.06669         0.03299              0.03323         0.1528   \n",
       "170           0.06981         0.03987              0.03700         0.1959   \n",
       "407           0.08316         0.06126              0.01867         0.1580   \n",
       "430           0.22250         0.27330              0.09711         0.2041   \n",
       "27            0.10660         0.14900              0.07731         0.1697   \n",
       "..                ...             ...                  ...            ...   \n",
       "37            0.03766         0.02562              0.02923         0.1467   \n",
       "415           0.08120         0.02555              0.02179         0.2019   \n",
       "458           0.05073         0.01206              0.01762         0.1667   \n",
       "476           0.11080         0.05063              0.03058         0.1506   \n",
       "335           0.10560         0.15080              0.09934         0.1727   \n",
       "\n",
       "     fractal_dimension_mean  ...  radius_worst  texture_worst  \\\n",
       "10                  0.05697  ...         19.19          33.88   \n",
       "170                 0.05955  ...         13.50          15.64   \n",
       "407                 0.06114  ...         14.40          27.01   \n",
       "430                 0.06898  ...         16.35          27.57   \n",
       "27                  0.05699  ...         21.31          27.26   \n",
       "..                      ...  ...           ...            ...   \n",
       "37                  0.05863  ...         13.30          22.81   \n",
       "415                 0.06290  ...         13.05          27.21   \n",
       "458                 0.05449  ...         14.34          31.88   \n",
       "476                 0.06009  ...         16.45          27.26   \n",
       "335                 0.06071  ...         20.99          33.15   \n",
       "\n",
       "     perimeter_worst  area_worst  smoothness_worst  compactness_worst  \\\n",
       "10            123.80      1150.0           0.11810            0.15510   \n",
       "170            86.97       549.1           0.13850            0.12660   \n",
       "407            91.63       645.8           0.09402            0.19360   \n",
       "430           125.40       832.7           0.14190            0.70900   \n",
       "27            139.90      1403.0           0.13380            0.21170   \n",
       "..               ...         ...               ...                ...   \n",
       "37             84.46       545.9           0.09701            0.04619   \n",
       "415            85.09       522.9           0.14260            0.21870   \n",
       "458            91.06       628.5           0.12180            0.10930   \n",
       "476           112.10       828.5           0.11530            0.34290   \n",
       "335           143.20      1362.0           0.14490            0.20530   \n",
       "\n",
       "     concavity_worst  concave points_worst  symmetry_worst  \\\n",
       "10           0.14590               0.09975          0.2948   \n",
       "170          0.12420               0.09391          0.2827   \n",
       "407          0.18380               0.05601          0.2488   \n",
       "430          0.90190               0.24750          0.2866   \n",
       "27           0.34460               0.14900          0.2341   \n",
       "..               ...                   ...             ...   \n",
       "37           0.04833               0.05013          0.1987   \n",
       "415          0.11640               0.08263          0.3075   \n",
       "458          0.04462               0.05921          0.2306   \n",
       "476          0.25120               0.13390          0.2534   \n",
       "335          0.39200               0.18270          0.2623   \n",
       "\n",
       "     fractal_dimension_worst  \n",
       "10                   0.08452  \n",
       "170                  0.06771  \n",
       "407                  0.08151  \n",
       "430                  0.11550  \n",
       "27                   0.07421  \n",
       "..                       ...  \n",
       "37                   0.06169  \n",
       "415                  0.07351  \n",
       "458                  0.06291  \n",
       "476                  0.07858  \n",
       "335                  0.07599  \n",
       "\n",
       "[455 rows x 30 columns]"
      ]
     },
     "execution_count": 62,
     "metadata": {},
     "output_type": "execute_result"
    }
   ],
   "source": [
    "X_train"
   ]
  },
  {
   "cell_type": "markdown",
   "metadata": {},
   "source": [
    "Antes, vamos analisar o PCA"
   ]
  },
  {
   "cell_type": "code",
   "execution_count": 63,
   "metadata": {
    "ExecuteTime": {
     "end_time": "2022-07-13T00:18:15.476449Z",
     "start_time": "2022-07-13T00:18:15.427478Z"
    }
   },
   "outputs": [],
   "source": [
    "pipe_pca = Pipeline([(\"ss\", StandardScaler()), (\"pca\", PCA())]).fit(X_train)"
   ]
  },
  {
   "cell_type": "code",
   "execution_count": 64,
   "metadata": {
    "ExecuteTime": {
     "end_time": "2022-07-13T00:18:21.302485Z",
     "start_time": "2022-07-13T00:18:21.292492Z"
    }
   },
   "outputs": [
    {
     "data": {
      "text/plain": [
       "Pipeline(steps=[('ss', StandardScaler()), ('pca', PCA())])"
      ]
     },
     "execution_count": 64,
     "metadata": {},
     "output_type": "execute_result"
    }
   ],
   "source": [
    "pipe_pca"
   ]
  },
  {
   "cell_type": "code",
   "execution_count": 66,
   "metadata": {
    "ExecuteTime": {
     "end_time": "2022-07-13T00:18:39.087002Z",
     "start_time": "2022-07-13T00:18:39.072491Z"
    }
   },
   "outputs": [
    {
     "data": {
      "text/plain": [
       "PCA()"
      ]
     },
     "execution_count": 66,
     "metadata": {},
     "output_type": "execute_result"
    }
   ],
   "source": [
    "pca_bc = pipe_pca[\"pca\"]\n",
    "\n",
    "pca_bc"
   ]
  },
  {
   "cell_type": "code",
   "execution_count": 68,
   "metadata": {
    "ExecuteTime": {
     "end_time": "2022-07-13T00:19:22.716520Z",
     "start_time": "2022-07-13T00:19:22.598089Z"
    },
    "scrolled": true
   },
   "outputs": [
    {
     "data": {
      "text/html": [
       "<div>\n",
       "<style scoped>\n",
       "    .dataframe tbody tr th:only-of-type {\n",
       "        vertical-align: middle;\n",
       "    }\n",
       "\n",
       "    .dataframe tbody tr th {\n",
       "        vertical-align: top;\n",
       "    }\n",
       "\n",
       "    .dataframe thead th {\n",
       "        text-align: right;\n",
       "    }\n",
       "</style>\n",
       "<table border=\"1\" class=\"dataframe\">\n",
       "  <thead>\n",
       "    <tr style=\"text-align: right;\">\n",
       "      <th></th>\n",
       "      <th>0</th>\n",
       "      <th>1</th>\n",
       "      <th>2</th>\n",
       "      <th>3</th>\n",
       "      <th>4</th>\n",
       "      <th>5</th>\n",
       "      <th>6</th>\n",
       "      <th>7</th>\n",
       "      <th>8</th>\n",
       "      <th>9</th>\n",
       "      <th>...</th>\n",
       "      <th>20</th>\n",
       "      <th>21</th>\n",
       "      <th>22</th>\n",
       "      <th>23</th>\n",
       "      <th>24</th>\n",
       "      <th>25</th>\n",
       "      <th>26</th>\n",
       "      <th>27</th>\n",
       "      <th>28</th>\n",
       "      <th>29</th>\n",
       "    </tr>\n",
       "  </thead>\n",
       "  <tbody>\n",
       "    <tr>\n",
       "      <th>0</th>\n",
       "      <td>0.217057</td>\n",
       "      <td>0.101900</td>\n",
       "      <td>0.225804</td>\n",
       "      <td>0.219079</td>\n",
       "      <td>0.148588</td>\n",
       "      <td>0.241928</td>\n",
       "      <td>0.257761</td>\n",
       "      <td>0.260383</td>\n",
       "      <td>0.142086</td>\n",
       "      <td>0.071593</td>\n",
       "      <td>...</td>\n",
       "      <td>0.226607</td>\n",
       "      <td>0.104176</td>\n",
       "      <td>0.235494</td>\n",
       "      <td>0.223108</td>\n",
       "      <td>0.129968</td>\n",
       "      <td>0.210301</td>\n",
       "      <td>0.226322</td>\n",
       "      <td>0.249367</td>\n",
       "      <td>0.122964</td>\n",
       "      <td>0.133513</td>\n",
       "    </tr>\n",
       "    <tr>\n",
       "      <th>1</th>\n",
       "      <td>-0.239776</td>\n",
       "      <td>-0.061533</td>\n",
       "      <td>-0.220949</td>\n",
       "      <td>-0.236925</td>\n",
       "      <td>0.177063</td>\n",
       "      <td>0.139921</td>\n",
       "      <td>0.060089</td>\n",
       "      <td>-0.040533</td>\n",
       "      <td>0.193612</td>\n",
       "      <td>0.366648</td>\n",
       "      <td>...</td>\n",
       "      <td>-0.223083</td>\n",
       "      <td>-0.047070</td>\n",
       "      <td>-0.202365</td>\n",
       "      <td>-0.223734</td>\n",
       "      <td>0.168982</td>\n",
       "      <td>0.142217</td>\n",
       "      <td>0.104547</td>\n",
       "      <td>-0.006525</td>\n",
       "      <td>0.150772</td>\n",
       "      <td>0.277471</td>\n",
       "    </tr>\n",
       "    <tr>\n",
       "      <th>2</th>\n",
       "      <td>-0.008311</td>\n",
       "      <td>0.042622</td>\n",
       "      <td>-0.008682</td>\n",
       "      <td>0.026774</td>\n",
       "      <td>-0.123747</td>\n",
       "      <td>-0.072390</td>\n",
       "      <td>0.006244</td>\n",
       "      <td>-0.033120</td>\n",
       "      <td>-0.031526</td>\n",
       "      <td>-0.024754</td>\n",
       "      <td>...</td>\n",
       "      <td>-0.051765</td>\n",
       "      <td>-0.065006</td>\n",
       "      <td>-0.051920</td>\n",
       "      <td>-0.018463</td>\n",
       "      <td>-0.273405</td>\n",
       "      <td>-0.232023</td>\n",
       "      <td>-0.166840</td>\n",
       "      <td>-0.173776</td>\n",
       "      <td>-0.258227</td>\n",
       "      <td>-0.227019</td>\n",
       "    </tr>\n",
       "    <tr>\n",
       "      <th>3</th>\n",
       "      <td>0.034019</td>\n",
       "      <td>-0.604567</td>\n",
       "      <td>0.034811</td>\n",
       "      <td>0.049760</td>\n",
       "      <td>0.172319</td>\n",
       "      <td>0.026919</td>\n",
       "      <td>0.018772</td>\n",
       "      <td>0.066597</td>\n",
       "      <td>0.060259</td>\n",
       "      <td>0.047728</td>\n",
       "      <td>...</td>\n",
       "      <td>0.014340</td>\n",
       "      <td>-0.625307</td>\n",
       "      <td>0.011821</td>\n",
       "      <td>0.028554</td>\n",
       "      <td>0.046106</td>\n",
       "      <td>-0.086943</td>\n",
       "      <td>-0.070720</td>\n",
       "      <td>0.012278</td>\n",
       "      <td>-0.023137</td>\n",
       "      <td>-0.076337</td>\n",
       "    </tr>\n",
       "    <tr>\n",
       "      <th>4</th>\n",
       "      <td>0.051273</td>\n",
       "      <td>-0.078389</td>\n",
       "      <td>0.049230</td>\n",
       "      <td>0.019268</td>\n",
       "      <td>-0.353763</td>\n",
       "      <td>0.005880</td>\n",
       "      <td>0.088314</td>\n",
       "      <td>-0.037016</td>\n",
       "      <td>-0.289883</td>\n",
       "      <td>-0.057985</td>\n",
       "      <td>...</td>\n",
       "      <td>0.005302</td>\n",
       "      <td>-0.120841</td>\n",
       "      <td>0.015576</td>\n",
       "      <td>-0.020667</td>\n",
       "      <td>-0.321436</td>\n",
       "      <td>0.121794</td>\n",
       "      <td>0.201613</td>\n",
       "      <td>0.050592</td>\n",
       "      <td>-0.227207</td>\n",
       "      <td>0.093793</td>\n",
       "    </tr>\n",
       "    <tr>\n",
       "      <th>5</th>\n",
       "      <td>0.022095</td>\n",
       "      <td>-0.033330</td>\n",
       "      <td>0.021464</td>\n",
       "      <td>-0.005856</td>\n",
       "      <td>-0.271336</td>\n",
       "      <td>-0.009350</td>\n",
       "      <td>-0.011982</td>\n",
       "      <td>-0.030996</td>\n",
       "      <td>0.353414</td>\n",
       "      <td>-0.124979</td>\n",
       "      <td>...</td>\n",
       "      <td>0.003814</td>\n",
       "      <td>-0.051660</td>\n",
       "      <td>0.013744</td>\n",
       "      <td>-0.028860</td>\n",
       "      <td>-0.341606</td>\n",
       "      <td>0.039656</td>\n",
       "      <td>0.019544</td>\n",
       "      <td>-0.007397</td>\n",
       "      <td>0.512424</td>\n",
       "      <td>-0.092844</td>\n",
       "    </tr>\n",
       "    <tr>\n",
       "      <th>6</th>\n",
       "      <td>0.131639</td>\n",
       "      <td>0.019324</td>\n",
       "      <td>0.120195</td>\n",
       "      <td>0.063394</td>\n",
       "      <td>0.115507</td>\n",
       "      <td>-0.042769</td>\n",
       "      <td>0.080651</td>\n",
       "      <td>0.138948</td>\n",
       "      <td>0.088844</td>\n",
       "      <td>-0.294945</td>\n",
       "      <td>...</td>\n",
       "      <td>0.028552</td>\n",
       "      <td>0.005553</td>\n",
       "      <td>0.014088</td>\n",
       "      <td>-0.045483</td>\n",
       "      <td>0.133500</td>\n",
       "      <td>-0.159190</td>\n",
       "      <td>0.021131</td>\n",
       "      <td>0.165254</td>\n",
       "      <td>0.033966</td>\n",
       "      <td>-0.358977</td>\n",
       "    </tr>\n",
       "    <tr>\n",
       "      <th>7</th>\n",
       "      <td>0.046098</td>\n",
       "      <td>-0.201142</td>\n",
       "      <td>0.055599</td>\n",
       "      <td>0.000958</td>\n",
       "      <td>0.285402</td>\n",
       "      <td>0.157806</td>\n",
       "      <td>0.100744</td>\n",
       "      <td>0.183449</td>\n",
       "      <td>0.152937</td>\n",
       "      <td>0.171085</td>\n",
       "      <td>...</td>\n",
       "      <td>-0.015466</td>\n",
       "      <td>-0.059133</td>\n",
       "      <td>-0.006079</td>\n",
       "      <td>-0.057568</td>\n",
       "      <td>-0.151450</td>\n",
       "      <td>-0.095943</td>\n",
       "      <td>-0.058419</td>\n",
       "      <td>0.054487</td>\n",
       "      <td>-0.220652</td>\n",
       "      <td>-0.082971</td>\n",
       "    </tr>\n",
       "    <tr>\n",
       "      <th>8</th>\n",
       "      <td>-0.174011</td>\n",
       "      <td>0.127048</td>\n",
       "      <td>-0.179169</td>\n",
       "      <td>-0.158599</td>\n",
       "      <td>0.062931</td>\n",
       "      <td>-0.174615</td>\n",
       "      <td>0.011674</td>\n",
       "      <td>-0.073631</td>\n",
       "      <td>0.415290</td>\n",
       "      <td>-0.085417</td>\n",
       "      <td>...</td>\n",
       "      <td>-0.076653</td>\n",
       "      <td>0.114440</td>\n",
       "      <td>-0.086241</td>\n",
       "      <td>-0.046408</td>\n",
       "      <td>0.050372</td>\n",
       "      <td>-0.186198</td>\n",
       "      <td>0.060580</td>\n",
       "      <td>0.051455</td>\n",
       "      <td>0.037473</td>\n",
       "      <td>-0.149476</td>\n",
       "    </tr>\n",
       "    <tr>\n",
       "      <th>9</th>\n",
       "      <td>-0.133805</td>\n",
       "      <td>-0.106163</td>\n",
       "      <td>-0.124421</td>\n",
       "      <td>-0.118962</td>\n",
       "      <td>0.117840</td>\n",
       "      <td>-0.029058</td>\n",
       "      <td>0.144988</td>\n",
       "      <td>-0.022300</td>\n",
       "      <td>-0.521364</td>\n",
       "      <td>-0.116367</td>\n",
       "      <td>...</td>\n",
       "      <td>-0.115174</td>\n",
       "      <td>0.023287</td>\n",
       "      <td>-0.087952</td>\n",
       "      <td>-0.117130</td>\n",
       "      <td>0.162910</td>\n",
       "      <td>0.113328</td>\n",
       "      <td>0.345412</td>\n",
       "      <td>0.100787</td>\n",
       "      <td>0.026673</td>\n",
       "      <td>-0.121790</td>\n",
       "    </tr>\n",
       "    <tr>\n",
       "      <th>10</th>\n",
       "      <td>0.025640</td>\n",
       "      <td>-0.327073</td>\n",
       "      <td>-0.001265</td>\n",
       "      <td>0.102274</td>\n",
       "      <td>-0.147536</td>\n",
       "      <td>-0.327007</td>\n",
       "      <td>0.099491</td>\n",
       "      <td>-0.096651</td>\n",
       "      <td>0.047324</td>\n",
       "      <td>-0.072331</td>\n",
       "      <td>...</td>\n",
       "      <td>0.113234</td>\n",
       "      <td>0.023983</td>\n",
       "      <td>0.060441</td>\n",
       "      <td>0.201565</td>\n",
       "      <td>0.185264</td>\n",
       "      <td>-0.166523</td>\n",
       "      <td>0.198154</td>\n",
       "      <td>-0.089738</td>\n",
       "      <td>0.235678</td>\n",
       "      <td>0.128660</td>\n",
       "    </tr>\n",
       "    <tr>\n",
       "      <th>11</th>\n",
       "      <td>0.058903</td>\n",
       "      <td>0.170171</td>\n",
       "      <td>0.033904</td>\n",
       "      <td>0.050837</td>\n",
       "      <td>0.253566</td>\n",
       "      <td>-0.152879</td>\n",
       "      <td>-0.124298</td>\n",
       "      <td>-0.010792</td>\n",
       "      <td>-0.339568</td>\n",
       "      <td>0.221446</td>\n",
       "      <td>...</td>\n",
       "      <td>0.106069</td>\n",
       "      <td>0.099348</td>\n",
       "      <td>0.041355</td>\n",
       "      <td>0.102835</td>\n",
       "      <td>0.113402</td>\n",
       "      <td>-0.332163</td>\n",
       "      <td>-0.219446</td>\n",
       "      <td>0.028993</td>\n",
       "      <td>0.122132</td>\n",
       "      <td>0.055698</td>\n",
       "    </tr>\n",
       "    <tr>\n",
       "      <th>12</th>\n",
       "      <td>0.048398</td>\n",
       "      <td>0.275407</td>\n",
       "      <td>0.070802</td>\n",
       "      <td>0.109543</td>\n",
       "      <td>0.167642</td>\n",
       "      <td>0.139926</td>\n",
       "      <td>0.377908</td>\n",
       "      <td>0.128309</td>\n",
       "      <td>0.105419</td>\n",
       "      <td>0.175057</td>\n",
       "      <td>...</td>\n",
       "      <td>-0.102288</td>\n",
       "      <td>-0.034106</td>\n",
       "      <td>-0.083567</td>\n",
       "      <td>-0.062139</td>\n",
       "      <td>-0.162635</td>\n",
       "      <td>-0.155232</td>\n",
       "      <td>0.134031</td>\n",
       "      <td>-0.289468</td>\n",
       "      <td>-0.174817</td>\n",
       "      <td>-0.172653</td>\n",
       "    </tr>\n",
       "    <tr>\n",
       "      <th>13</th>\n",
       "      <td>0.055255</td>\n",
       "      <td>-0.035042</td>\n",
       "      <td>0.046589</td>\n",
       "      <td>-0.013044</td>\n",
       "      <td>0.428781</td>\n",
       "      <td>0.022536</td>\n",
       "      <td>-0.182283</td>\n",
       "      <td>-0.217075</td>\n",
       "      <td>0.014599</td>\n",
       "      <td>-0.408741</td>\n",
       "      <td>...</td>\n",
       "      <td>0.030221</td>\n",
       "      <td>0.047588</td>\n",
       "      <td>0.029382</td>\n",
       "      <td>-0.029364</td>\n",
       "      <td>0.185067</td>\n",
       "      <td>0.163116</td>\n",
       "      <td>-0.086146</td>\n",
       "      <td>-0.251902</td>\n",
       "      <td>0.032863</td>\n",
       "      <td>-0.218647</td>\n",
       "    </tr>\n",
       "    <tr>\n",
       "      <th>14</th>\n",
       "      <td>0.085728</td>\n",
       "      <td>0.097034</td>\n",
       "      <td>0.067733</td>\n",
       "      <td>0.028093</td>\n",
       "      <td>0.149964</td>\n",
       "      <td>-0.215569</td>\n",
       "      <td>0.122411</td>\n",
       "      <td>0.201147</td>\n",
       "      <td>0.062393</td>\n",
       "      <td>-0.491317</td>\n",
       "      <td>...</td>\n",
       "      <td>-0.175595</td>\n",
       "      <td>-0.088652</td>\n",
       "      <td>-0.207157</td>\n",
       "      <td>-0.330592</td>\n",
       "      <td>-0.096783</td>\n",
       "      <td>0.042778</td>\n",
       "      <td>0.177705</td>\n",
       "      <td>0.149866</td>\n",
       "      <td>-0.109679</td>\n",
       "      <td>0.313897</td>\n",
       "    </tr>\n",
       "    <tr>\n",
       "      <th>15</th>\n",
       "      <td>-0.143801</td>\n",
       "      <td>-0.141658</td>\n",
       "      <td>-0.105109</td>\n",
       "      <td>-0.147125</td>\n",
       "      <td>-0.247695</td>\n",
       "      <td>0.208366</td>\n",
       "      <td>0.285105</td>\n",
       "      <td>0.378206</td>\n",
       "      <td>-0.182643</td>\n",
       "      <td>-0.064030</td>\n",
       "      <td>...</td>\n",
       "      <td>-0.089153</td>\n",
       "      <td>0.172517</td>\n",
       "      <td>-0.055894</td>\n",
       "      <td>-0.122930</td>\n",
       "      <td>0.139326</td>\n",
       "      <td>-0.128190</td>\n",
       "      <td>-0.249406</td>\n",
       "      <td>0.211058</td>\n",
       "      <td>0.245858</td>\n",
       "      <td>-0.344924</td>\n",
       "    </tr>\n",
       "    <tr>\n",
       "      <th>16</th>\n",
       "      <td>0.200364</td>\n",
       "      <td>-0.057881</td>\n",
       "      <td>0.190437</td>\n",
       "      <td>0.256622</td>\n",
       "      <td>0.190327</td>\n",
       "      <td>-0.002286</td>\n",
       "      <td>-0.047955</td>\n",
       "      <td>-0.023185</td>\n",
       "      <td>-0.206045</td>\n",
       "      <td>0.109651</td>\n",
       "      <td>...</td>\n",
       "      <td>-0.219656</td>\n",
       "      <td>0.070936</td>\n",
       "      <td>-0.211237</td>\n",
       "      <td>-0.240228</td>\n",
       "      <td>-0.292375</td>\n",
       "      <td>0.018021</td>\n",
       "      <td>-0.185956</td>\n",
       "      <td>-0.053755</td>\n",
       "      <td>0.452162</td>\n",
       "      <td>0.082976</td>\n",
       "    </tr>\n",
       "    <tr>\n",
       "      <th>17</th>\n",
       "      <td>0.009709</td>\n",
       "      <td>-0.056946</td>\n",
       "      <td>0.019767</td>\n",
       "      <td>0.267215</td>\n",
       "      <td>-0.200885</td>\n",
       "      <td>-0.147232</td>\n",
       "      <td>-0.001950</td>\n",
       "      <td>-0.000831</td>\n",
       "      <td>0.169445</td>\n",
       "      <td>0.079493</td>\n",
       "      <td>...</td>\n",
       "      <td>-0.214617</td>\n",
       "      <td>0.097574</td>\n",
       "      <td>-0.213060</td>\n",
       "      <td>0.083976</td>\n",
       "      <td>0.328086</td>\n",
       "      <td>-0.070940</td>\n",
       "      <td>-0.056737</td>\n",
       "      <td>0.166215</td>\n",
       "      <td>-0.277252</td>\n",
       "      <td>0.009718</td>\n",
       "    </tr>\n",
       "    <tr>\n",
       "      <th>18</th>\n",
       "      <td>0.280074</td>\n",
       "      <td>0.003922</td>\n",
       "      <td>0.293439</td>\n",
       "      <td>0.129389</td>\n",
       "      <td>-0.321512</td>\n",
       "      <td>0.241806</td>\n",
       "      <td>-0.037120</td>\n",
       "      <td>-0.214407</td>\n",
       "      <td>0.052627</td>\n",
       "      <td>0.030947</td>\n",
       "      <td>...</td>\n",
       "      <td>-0.091217</td>\n",
       "      <td>-0.030397</td>\n",
       "      <td>-0.037297</td>\n",
       "      <td>-0.418019</td>\n",
       "      <td>0.436313</td>\n",
       "      <td>0.012405</td>\n",
       "      <td>-0.049468</td>\n",
       "      <td>-0.179949</td>\n",
       "      <td>-0.035206</td>\n",
       "      <td>-0.025249</td>\n",
       "    </tr>\n",
       "    <tr>\n",
       "      <th>19</th>\n",
       "      <td>-0.001474</td>\n",
       "      <td>0.514695</td>\n",
       "      <td>-0.027692</td>\n",
       "      <td>0.064167</td>\n",
       "      <td>-0.088787</td>\n",
       "      <td>-0.141186</td>\n",
       "      <td>-0.052322</td>\n",
       "      <td>0.052646</td>\n",
       "      <td>-0.073745</td>\n",
       "      <td>0.088437</td>\n",
       "      <td>...</td>\n",
       "      <td>-0.013499</td>\n",
       "      <td>-0.660124</td>\n",
       "      <td>-0.091668</td>\n",
       "      <td>0.032819</td>\n",
       "      <td>0.183654</td>\n",
       "      <td>0.036155</td>\n",
       "      <td>-0.016996</td>\n",
       "      <td>0.158762</td>\n",
       "      <td>0.186866</td>\n",
       "      <td>-0.112862</td>\n",
       "    </tr>\n",
       "    <tr>\n",
       "      <th>20</th>\n",
       "      <td>-0.091396</td>\n",
       "      <td>0.075859</td>\n",
       "      <td>-0.056975</td>\n",
       "      <td>-0.073731</td>\n",
       "      <td>-0.015105</td>\n",
       "      <td>0.472185</td>\n",
       "      <td>-0.022102</td>\n",
       "      <td>-0.265993</td>\n",
       "      <td>-0.012621</td>\n",
       "      <td>-0.139971</td>\n",
       "      <td>...</td>\n",
       "      <td>-0.012522</td>\n",
       "      <td>-0.112265</td>\n",
       "      <td>-0.017204</td>\n",
       "      <td>0.189627</td>\n",
       "      <td>-0.043467</td>\n",
       "      <td>0.291337</td>\n",
       "      <td>-0.001750</td>\n",
       "      <td>-0.009740</td>\n",
       "      <td>0.003538</td>\n",
       "      <td>-0.191565</td>\n",
       "    </tr>\n",
       "    <tr>\n",
       "      <th>21</th>\n",
       "      <td>-0.087829</td>\n",
       "      <td>0.050879</td>\n",
       "      <td>-0.067256</td>\n",
       "      <td>-0.039564</td>\n",
       "      <td>-0.087503</td>\n",
       "      <td>0.110297</td>\n",
       "      <td>0.340004</td>\n",
       "      <td>0.205229</td>\n",
       "      <td>-0.056930</td>\n",
       "      <td>-0.257040</td>\n",
       "      <td>...</td>\n",
       "      <td>0.033739</td>\n",
       "      <td>-0.089236</td>\n",
       "      <td>-0.034227</td>\n",
       "      <td>0.169388</td>\n",
       "      <td>0.163736</td>\n",
       "      <td>-0.068183</td>\n",
       "      <td>-0.264176</td>\n",
       "      <td>-0.557112</td>\n",
       "      <td>0.069466</td>\n",
       "      <td>0.369407</td>\n",
       "    </tr>\n",
       "    <tr>\n",
       "      <th>22</th>\n",
       "      <td>0.043555</td>\n",
       "      <td>-0.048528</td>\n",
       "      <td>-0.007540</td>\n",
       "      <td>-0.035722</td>\n",
       "      <td>-0.031232</td>\n",
       "      <td>0.053422</td>\n",
       "      <td>-0.168246</td>\n",
       "      <td>0.133882</td>\n",
       "      <td>0.059437</td>\n",
       "      <td>-0.088831</td>\n",
       "      <td>...</td>\n",
       "      <td>0.083446</td>\n",
       "      <td>0.061986</td>\n",
       "      <td>-0.101388</td>\n",
       "      <td>-0.065544</td>\n",
       "      <td>-0.024821</td>\n",
       "      <td>0.241072</td>\n",
       "      <td>-0.513803</td>\n",
       "      <td>0.291256</td>\n",
       "      <td>-0.172301</td>\n",
       "      <td>0.202306</td>\n",
       "    </tr>\n",
       "    <tr>\n",
       "      <th>23</th>\n",
       "      <td>-0.146867</td>\n",
       "      <td>0.044112</td>\n",
       "      <td>-0.116563</td>\n",
       "      <td>0.179429</td>\n",
       "      <td>0.046132</td>\n",
       "      <td>-0.319303</td>\n",
       "      <td>0.104857</td>\n",
       "      <td>0.176885</td>\n",
       "      <td>0.013508</td>\n",
       "      <td>-0.001722</td>\n",
       "      <td>...</td>\n",
       "      <td>-0.173042</td>\n",
       "      <td>-0.045345</td>\n",
       "      <td>0.148164</td>\n",
       "      <td>0.136159</td>\n",
       "      <td>0.015029</td>\n",
       "      <td>0.469324</td>\n",
       "      <td>-0.265433</td>\n",
       "      <td>-0.075874</td>\n",
       "      <td>-0.019067</td>\n",
       "      <td>-0.116213</td>\n",
       "    </tr>\n",
       "    <tr>\n",
       "      <th>24</th>\n",
       "      <td>0.097078</td>\n",
       "      <td>-0.120939</td>\n",
       "      <td>0.024542</td>\n",
       "      <td>0.133236</td>\n",
       "      <td>-0.049384</td>\n",
       "      <td>-0.287216</td>\n",
       "      <td>0.047169</td>\n",
       "      <td>0.117808</td>\n",
       "      <td>0.010209</td>\n",
       "      <td>0.253928</td>\n",
       "      <td>...</td>\n",
       "      <td>0.023118</td>\n",
       "      <td>0.156235</td>\n",
       "      <td>-0.213330</td>\n",
       "      <td>-0.017164</td>\n",
       "      <td>0.027338</td>\n",
       "      <td>0.419513</td>\n",
       "      <td>0.103032</td>\n",
       "      <td>-0.276903</td>\n",
       "      <td>-0.013683</td>\n",
       "      <td>-0.303046</td>\n",
       "    </tr>\n",
       "    <tr>\n",
       "      <th>25</th>\n",
       "      <td>-0.174390</td>\n",
       "      <td>-0.032070</td>\n",
       "      <td>-0.150156</td>\n",
       "      <td>0.470099</td>\n",
       "      <td>-0.015908</td>\n",
       "      <td>0.299282</td>\n",
       "      <td>-0.408132</td>\n",
       "      <td>0.239958</td>\n",
       "      <td>-0.019869</td>\n",
       "      <td>-0.128239</td>\n",
       "      <td>...</td>\n",
       "      <td>-0.246387</td>\n",
       "      <td>0.048911</td>\n",
       "      <td>-0.298693</td>\n",
       "      <td>0.299890</td>\n",
       "      <td>-0.007731</td>\n",
       "      <td>-0.122743</td>\n",
       "      <td>0.198105</td>\n",
       "      <td>-0.055448</td>\n",
       "      <td>0.036810</td>\n",
       "      <td>0.022094</td>\n",
       "    </tr>\n",
       "    <tr>\n",
       "      <th>26</th>\n",
       "      <td>-0.076124</td>\n",
       "      <td>-0.024422</td>\n",
       "      <td>-0.068252</td>\n",
       "      <td>0.318061</td>\n",
       "      <td>0.081975</td>\n",
       "      <td>0.011130</td>\n",
       "      <td>0.504079</td>\n",
       "      <td>-0.569222</td>\n",
       "      <td>-0.006478</td>\n",
       "      <td>-0.048039</td>\n",
       "      <td>...</td>\n",
       "      <td>-0.089722</td>\n",
       "      <td>0.031323</td>\n",
       "      <td>-0.174339</td>\n",
       "      <td>0.166040</td>\n",
       "      <td>-0.058859</td>\n",
       "      <td>-0.026992</td>\n",
       "      <td>-0.188982</td>\n",
       "      <td>0.261519</td>\n",
       "      <td>0.008664</td>\n",
       "      <td>0.032702</td>\n",
       "    </tr>\n",
       "    <tr>\n",
       "      <th>27</th>\n",
       "      <td>0.212174</td>\n",
       "      <td>0.001431</td>\n",
       "      <td>0.082667</td>\n",
       "      <td>-0.283851</td>\n",
       "      <td>0.002490</td>\n",
       "      <td>-0.016745</td>\n",
       "      <td>0.031279</td>\n",
       "      <td>0.020330</td>\n",
       "      <td>0.000085</td>\n",
       "      <td>0.001153</td>\n",
       "      <td>...</td>\n",
       "      <td>0.408680</td>\n",
       "      <td>-0.000472</td>\n",
       "      <td>-0.720842</td>\n",
       "      <td>0.242238</td>\n",
       "      <td>-0.001523</td>\n",
       "      <td>0.043845</td>\n",
       "      <td>0.003992</td>\n",
       "      <td>0.008160</td>\n",
       "      <td>0.008207</td>\n",
       "      <td>-0.034306</td>\n",
       "    </tr>\n",
       "    <tr>\n",
       "      <th>28</th>\n",
       "      <td>0.223045</td>\n",
       "      <td>-0.010083</td>\n",
       "      <td>0.378690</td>\n",
       "      <td>-0.426246</td>\n",
       "      <td>-0.002930</td>\n",
       "      <td>-0.050208</td>\n",
       "      <td>-0.005299</td>\n",
       "      <td>-0.004879</td>\n",
       "      <td>-0.006679</td>\n",
       "      <td>0.008080</td>\n",
       "      <td>...</td>\n",
       "      <td>-0.638000</td>\n",
       "      <td>0.016542</td>\n",
       "      <td>0.034236</td>\n",
       "      <td>0.436296</td>\n",
       "      <td>0.009886</td>\n",
       "      <td>0.001763</td>\n",
       "      <td>-0.013435</td>\n",
       "      <td>0.034716</td>\n",
       "      <td>0.011977</td>\n",
       "      <td>0.013532</td>\n",
       "    </tr>\n",
       "    <tr>\n",
       "      <th>29</th>\n",
       "      <td>-0.698030</td>\n",
       "      <td>0.000352</td>\n",
       "      <td>0.695659</td>\n",
       "      <td>0.023299</td>\n",
       "      <td>0.006367</td>\n",
       "      <td>-0.049530</td>\n",
       "      <td>-0.020798</td>\n",
       "      <td>0.000289</td>\n",
       "      <td>0.000136</td>\n",
       "      <td>0.004484</td>\n",
       "      <td>...</td>\n",
       "      <td>0.130998</td>\n",
       "      <td>-0.001774</td>\n",
       "      <td>-0.079068</td>\n",
       "      <td>-0.035609</td>\n",
       "      <td>-0.005462</td>\n",
       "      <td>0.014930</td>\n",
       "      <td>-0.002672</td>\n",
       "      <td>0.002867</td>\n",
       "      <td>0.000374</td>\n",
       "      <td>-0.001274</td>\n",
       "    </tr>\n",
       "  </tbody>\n",
       "</table>\n",
       "<p>30 rows × 30 columns</p>\n",
       "</div>"
      ],
      "text/plain": [
       "          0         1         2         3         4         5         6   \\\n",
       "0   0.217057  0.101900  0.225804  0.219079  0.148588  0.241928  0.257761   \n",
       "1  -0.239776 -0.061533 -0.220949 -0.236925  0.177063  0.139921  0.060089   \n",
       "2  -0.008311  0.042622 -0.008682  0.026774 -0.123747 -0.072390  0.006244   \n",
       "3   0.034019 -0.604567  0.034811  0.049760  0.172319  0.026919  0.018772   \n",
       "4   0.051273 -0.078389  0.049230  0.019268 -0.353763  0.005880  0.088314   \n",
       "5   0.022095 -0.033330  0.021464 -0.005856 -0.271336 -0.009350 -0.011982   \n",
       "6   0.131639  0.019324  0.120195  0.063394  0.115507 -0.042769  0.080651   \n",
       "7   0.046098 -0.201142  0.055599  0.000958  0.285402  0.157806  0.100744   \n",
       "8  -0.174011  0.127048 -0.179169 -0.158599  0.062931 -0.174615  0.011674   \n",
       "9  -0.133805 -0.106163 -0.124421 -0.118962  0.117840 -0.029058  0.144988   \n",
       "10  0.025640 -0.327073 -0.001265  0.102274 -0.147536 -0.327007  0.099491   \n",
       "11  0.058903  0.170171  0.033904  0.050837  0.253566 -0.152879 -0.124298   \n",
       "12  0.048398  0.275407  0.070802  0.109543  0.167642  0.139926  0.377908   \n",
       "13  0.055255 -0.035042  0.046589 -0.013044  0.428781  0.022536 -0.182283   \n",
       "14  0.085728  0.097034  0.067733  0.028093  0.149964 -0.215569  0.122411   \n",
       "15 -0.143801 -0.141658 -0.105109 -0.147125 -0.247695  0.208366  0.285105   \n",
       "16  0.200364 -0.057881  0.190437  0.256622  0.190327 -0.002286 -0.047955   \n",
       "17  0.009709 -0.056946  0.019767  0.267215 -0.200885 -0.147232 -0.001950   \n",
       "18  0.280074  0.003922  0.293439  0.129389 -0.321512  0.241806 -0.037120   \n",
       "19 -0.001474  0.514695 -0.027692  0.064167 -0.088787 -0.141186 -0.052322   \n",
       "20 -0.091396  0.075859 -0.056975 -0.073731 -0.015105  0.472185 -0.022102   \n",
       "21 -0.087829  0.050879 -0.067256 -0.039564 -0.087503  0.110297  0.340004   \n",
       "22  0.043555 -0.048528 -0.007540 -0.035722 -0.031232  0.053422 -0.168246   \n",
       "23 -0.146867  0.044112 -0.116563  0.179429  0.046132 -0.319303  0.104857   \n",
       "24  0.097078 -0.120939  0.024542  0.133236 -0.049384 -0.287216  0.047169   \n",
       "25 -0.174390 -0.032070 -0.150156  0.470099 -0.015908  0.299282 -0.408132   \n",
       "26 -0.076124 -0.024422 -0.068252  0.318061  0.081975  0.011130  0.504079   \n",
       "27  0.212174  0.001431  0.082667 -0.283851  0.002490 -0.016745  0.031279   \n",
       "28  0.223045 -0.010083  0.378690 -0.426246 -0.002930 -0.050208 -0.005299   \n",
       "29 -0.698030  0.000352  0.695659  0.023299  0.006367 -0.049530 -0.020798   \n",
       "\n",
       "          7         8         9   ...        20        21        22        23  \\\n",
       "0   0.260383  0.142086  0.071593  ...  0.226607  0.104176  0.235494  0.223108   \n",
       "1  -0.040533  0.193612  0.366648  ... -0.223083 -0.047070 -0.202365 -0.223734   \n",
       "2  -0.033120 -0.031526 -0.024754  ... -0.051765 -0.065006 -0.051920 -0.018463   \n",
       "3   0.066597  0.060259  0.047728  ...  0.014340 -0.625307  0.011821  0.028554   \n",
       "4  -0.037016 -0.289883 -0.057985  ...  0.005302 -0.120841  0.015576 -0.020667   \n",
       "5  -0.030996  0.353414 -0.124979  ...  0.003814 -0.051660  0.013744 -0.028860   \n",
       "6   0.138948  0.088844 -0.294945  ...  0.028552  0.005553  0.014088 -0.045483   \n",
       "7   0.183449  0.152937  0.171085  ... -0.015466 -0.059133 -0.006079 -0.057568   \n",
       "8  -0.073631  0.415290 -0.085417  ... -0.076653  0.114440 -0.086241 -0.046408   \n",
       "9  -0.022300 -0.521364 -0.116367  ... -0.115174  0.023287 -0.087952 -0.117130   \n",
       "10 -0.096651  0.047324 -0.072331  ...  0.113234  0.023983  0.060441  0.201565   \n",
       "11 -0.010792 -0.339568  0.221446  ...  0.106069  0.099348  0.041355  0.102835   \n",
       "12  0.128309  0.105419  0.175057  ... -0.102288 -0.034106 -0.083567 -0.062139   \n",
       "13 -0.217075  0.014599 -0.408741  ...  0.030221  0.047588  0.029382 -0.029364   \n",
       "14  0.201147  0.062393 -0.491317  ... -0.175595 -0.088652 -0.207157 -0.330592   \n",
       "15  0.378206 -0.182643 -0.064030  ... -0.089153  0.172517 -0.055894 -0.122930   \n",
       "16 -0.023185 -0.206045  0.109651  ... -0.219656  0.070936 -0.211237 -0.240228   \n",
       "17 -0.000831  0.169445  0.079493  ... -0.214617  0.097574 -0.213060  0.083976   \n",
       "18 -0.214407  0.052627  0.030947  ... -0.091217 -0.030397 -0.037297 -0.418019   \n",
       "19  0.052646 -0.073745  0.088437  ... -0.013499 -0.660124 -0.091668  0.032819   \n",
       "20 -0.265993 -0.012621 -0.139971  ... -0.012522 -0.112265 -0.017204  0.189627   \n",
       "21  0.205229 -0.056930 -0.257040  ...  0.033739 -0.089236 -0.034227  0.169388   \n",
       "22  0.133882  0.059437 -0.088831  ...  0.083446  0.061986 -0.101388 -0.065544   \n",
       "23  0.176885  0.013508 -0.001722  ... -0.173042 -0.045345  0.148164  0.136159   \n",
       "24  0.117808  0.010209  0.253928  ...  0.023118  0.156235 -0.213330 -0.017164   \n",
       "25  0.239958 -0.019869 -0.128239  ... -0.246387  0.048911 -0.298693  0.299890   \n",
       "26 -0.569222 -0.006478 -0.048039  ... -0.089722  0.031323 -0.174339  0.166040   \n",
       "27  0.020330  0.000085  0.001153  ...  0.408680 -0.000472 -0.720842  0.242238   \n",
       "28 -0.004879 -0.006679  0.008080  ... -0.638000  0.016542  0.034236  0.436296   \n",
       "29  0.000289  0.000136  0.004484  ...  0.130998 -0.001774 -0.079068 -0.035609   \n",
       "\n",
       "          24        25        26        27        28        29  \n",
       "0   0.129968  0.210301  0.226322  0.249367  0.122964  0.133513  \n",
       "1   0.168982  0.142217  0.104547 -0.006525  0.150772  0.277471  \n",
       "2  -0.273405 -0.232023 -0.166840 -0.173776 -0.258227 -0.227019  \n",
       "3   0.046106 -0.086943 -0.070720  0.012278 -0.023137 -0.076337  \n",
       "4  -0.321436  0.121794  0.201613  0.050592 -0.227207  0.093793  \n",
       "5  -0.341606  0.039656  0.019544 -0.007397  0.512424 -0.092844  \n",
       "6   0.133500 -0.159190  0.021131  0.165254  0.033966 -0.358977  \n",
       "7  -0.151450 -0.095943 -0.058419  0.054487 -0.220652 -0.082971  \n",
       "8   0.050372 -0.186198  0.060580  0.051455  0.037473 -0.149476  \n",
       "9   0.162910  0.113328  0.345412  0.100787  0.026673 -0.121790  \n",
       "10  0.185264 -0.166523  0.198154 -0.089738  0.235678  0.128660  \n",
       "11  0.113402 -0.332163 -0.219446  0.028993  0.122132  0.055698  \n",
       "12 -0.162635 -0.155232  0.134031 -0.289468 -0.174817 -0.172653  \n",
       "13  0.185067  0.163116 -0.086146 -0.251902  0.032863 -0.218647  \n",
       "14 -0.096783  0.042778  0.177705  0.149866 -0.109679  0.313897  \n",
       "15  0.139326 -0.128190 -0.249406  0.211058  0.245858 -0.344924  \n",
       "16 -0.292375  0.018021 -0.185956 -0.053755  0.452162  0.082976  \n",
       "17  0.328086 -0.070940 -0.056737  0.166215 -0.277252  0.009718  \n",
       "18  0.436313  0.012405 -0.049468 -0.179949 -0.035206 -0.025249  \n",
       "19  0.183654  0.036155 -0.016996  0.158762  0.186866 -0.112862  \n",
       "20 -0.043467  0.291337 -0.001750 -0.009740  0.003538 -0.191565  \n",
       "21  0.163736 -0.068183 -0.264176 -0.557112  0.069466  0.369407  \n",
       "22 -0.024821  0.241072 -0.513803  0.291256 -0.172301  0.202306  \n",
       "23  0.015029  0.469324 -0.265433 -0.075874 -0.019067 -0.116213  \n",
       "24  0.027338  0.419513  0.103032 -0.276903 -0.013683 -0.303046  \n",
       "25 -0.007731 -0.122743  0.198105 -0.055448  0.036810  0.022094  \n",
       "26 -0.058859 -0.026992 -0.188982  0.261519  0.008664  0.032702  \n",
       "27 -0.001523  0.043845  0.003992  0.008160  0.008207 -0.034306  \n",
       "28  0.009886  0.001763 -0.013435  0.034716  0.011977  0.013532  \n",
       "29 -0.005462  0.014930 -0.002672  0.002867  0.000374 -0.001274  \n",
       "\n",
       "[30 rows x 30 columns]"
      ]
     },
     "execution_count": 68,
     "metadata": {},
     "output_type": "execute_result"
    }
   ],
   "source": [
    "pd.DataFrame(pca_bc.components_)"
   ]
  },
  {
   "cell_type": "code",
   "execution_count": 71,
   "metadata": {
    "ExecuteTime": {
     "end_time": "2022-07-13T00:19:56.477970Z",
     "start_time": "2022-07-13T00:19:56.463977Z"
    }
   },
   "outputs": [
    {
     "data": {
      "text/plain": [
       "array([1.34075237e+01, 5.57583121e+00, 2.88172583e+00, 1.98248759e+00,\n",
       "       1.69040102e+00, 1.19918188e+00, 6.65811271e-01, 4.85268216e-01,\n",
       "       3.86285667e-01, 3.50468676e-01, 3.03174298e-01, 2.72258795e-01,\n",
       "       2.38314353e-01, 1.44161469e-01, 9.14330565e-02, 7.55558771e-02,\n",
       "       5.93879845e-02, 5.24392723e-02, 4.73079416e-02, 3.16151650e-02,\n",
       "       2.99319648e-02, 2.39270335e-02, 2.35728449e-02, 1.59724926e-02,\n",
       "       1.53896919e-02, 7.94084410e-03, 6.31364827e-03, 1.51324664e-03,\n",
       "       7.60153510e-04, 1.24064291e-04])"
      ]
     },
     "execution_count": 71,
     "metadata": {},
     "output_type": "execute_result"
    }
   ],
   "source": [
    "pca_bc.explained_variance_"
   ]
  },
  {
   "cell_type": "code",
   "execution_count": 75,
   "metadata": {
    "ExecuteTime": {
     "end_time": "2022-07-13T00:21:38.617564Z",
     "start_time": "2022-07-13T00:21:38.602567Z"
    }
   },
   "outputs": [
    {
     "data": {
      "text/plain": [
       "array([44.5935222 , 18.54525545,  9.58464121,  6.59376825,  5.62228616,\n",
       "        3.98848772,  2.21449317,  1.61400564,  1.28478896,  1.16566138,\n",
       "        1.00835994,  0.90553475,  0.79263529,  0.4794821 ,  0.30410702,\n",
       "        0.2512994 ,  0.19752487,  0.1744134 ,  0.15734656,  0.10515227,\n",
       "        0.09955393,  0.07958149,  0.07840345,  0.05312463,  0.05118623,\n",
       "        0.02641131,  0.02099924,  0.00503307,  0.00252828,  0.00041264])"
      ]
     },
     "execution_count": 75,
     "metadata": {},
     "output_type": "execute_result"
    }
   ],
   "source": [
    "np.set_printoptions(suppress=True)\n",
    "\n",
    "pca_bc.explained_variance_ratio_*100"
   ]
  },
  {
   "cell_type": "code",
   "execution_count": 76,
   "metadata": {
    "ExecuteTime": {
     "end_time": "2022-07-13T00:22:21.672123Z",
     "start_time": "2022-07-13T00:22:21.658136Z"
    }
   },
   "outputs": [
    {
     "data": {
      "text/plain": [
       "array([ 44.5935222 ,  63.13877766,  72.72341886,  79.31718711,\n",
       "        84.93947327,  88.927961  ,  91.14245416,  92.7564598 ,\n",
       "        94.04124876,  95.20691014,  96.21527008,  97.12080483,\n",
       "        97.91344011,  98.39292221,  98.69702923,  98.94832863,\n",
       "        99.1458535 ,  99.32026691,  99.47761347,  99.58276574,\n",
       "        99.68231967,  99.76190116,  99.84030461,  99.89342924,\n",
       "        99.94461547,  99.97102678,  99.99202602,  99.99705909,\n",
       "        99.99958736, 100.        ])"
      ]
     },
     "execution_count": 76,
     "metadata": {},
     "output_type": "execute_result"
    }
   ],
   "source": [
    "pca_bc.explained_variance_ratio_.cumsum()*100"
   ]
  },
  {
   "cell_type": "code",
   "execution_count": 79,
   "metadata": {
    "ExecuteTime": {
     "end_time": "2022-07-13T00:24:42.159626Z",
     "start_time": "2022-07-13T00:24:41.499272Z"
    }
   },
   "outputs": [
    {
     "data": {
      "image/png": "[encoded data removed]",
      "text/plain": [
       "<Figure size 1152x432 with 1 Axes>"
      ]
     },
     "metadata": {
      "needs_background": "light"
     },
     "output_type": "display_data"
    }
   ],
   "source": [
    "plt.figure(figsize=(16, 6))\n",
    "\n",
    "plt.bar([f\"PC{i+1}\" for i in range(pca_bc.n_components_)], pca_bc.explained_variance_ratio_*100);"
   ]
  },
  {
   "cell_type": "code",
   "execution_count": 78,
   "metadata": {
    "ExecuteTime": {
     "end_time": "2022-07-13T00:23:56.635690Z",
     "start_time": "2022-07-13T00:23:55.618869Z"
    }
   },
   "outputs": [
    {
     "data": {
      "image/png": "[encoded data removed]",
      "text/plain": [
       "<Figure size 1152x432 with 1 Axes>"
      ]
     },
     "metadata": {
      "needs_background": "light"
     },
     "output_type": "display_data"
    }
   ],
   "source": [
    "plt.figure(figsize=(16, 6))\n",
    "\n",
    "plt.bar([f\"PC{i+1}\" for i in range(pca_bc.n_components_)], pca_bc.explained_variance_ratio_.cumsum()*100)\n",
    "plt.axhline(y=100, color=\"red\", ls=\":\");"
   ]
  },
  {
   "cell_type": "markdown",
   "metadata": {},
   "source": [
    "Vamos treinar modelos!"
   ]
  },
  {
   "cell_type": "code",
   "execution_count": 82,
   "metadata": {
    "ExecuteTime": {
     "end_time": "2022-07-13T00:30:06.412188Z",
     "start_time": "2022-07-13T00:30:05.675140Z"
    }
   },
   "outputs": [
    {
     "name": "stdout",
     "output_type": "stream",
     "text": [
      "Métricas de avaliação de treino - com cutoff = 0.50\n"
     ]
    },
    {
     "data": {
      "image/png": "[encoded data removed]",
      "text/plain": [
       "<Figure size 432x288 with 2 Axes>"
      ]
     },
     "metadata": {
      "needs_background": "light"
     },
     "output_type": "display_data"
    },
    {
     "name": "stdout",
     "output_type": "stream",
     "text": [
      "              precision    recall  f1-score   support\n",
      "\n",
      "           B       0.98      1.00      0.99       285\n",
      "           M       1.00      0.96      0.98       170\n",
      "\n",
      "    accuracy                           0.99       455\n",
      "   macro avg       0.99      0.98      0.99       455\n",
      "weighted avg       0.99      0.99      0.99       455\n",
      "\n",
      "\n",
      "################################################################################\n",
      "\n",
      "Métricas de avaliação de teste - com cutoff = 0.50\n"
     ]
    },
    {
     "data": {
      "image/png": "[encoded data removed]",
      "text/plain": [
       "<Figure size 432x288 with 2 Axes>"
      ]
     },
     "metadata": {
      "needs_background": "light"
     },
     "output_type": "display_data"
    },
    {
     "name": "stdout",
     "output_type": "stream",
     "text": [
      "              precision    recall  f1-score   support\n",
      "\n",
      "           B       0.96      0.99      0.97        72\n",
      "           M       0.97      0.93      0.95        42\n",
      "\n",
      "    accuracy                           0.96       114\n",
      "   macro avg       0.97      0.96      0.96       114\n",
      "weighted avg       0.97      0.96      0.96       114\n",
      "\n"
     ]
    }
   ],
   "source": [
    "pipe_sem_pca = Pipeline([(\"ss\", StandardScaler()), \n",
    "                         (\"lr\", LogisticRegression(random_state=42))]).fit(X_train, y_train)\n",
    "\n",
    "_ = clf_metrics_train_test(pipe_sem_pca, X_train, y_train, X_test, y_test, cutoff=0.5, \n",
    "                           plot_conf_matrix=True, print_cr=True, pos_label=\"M\")"
   ]
  },
  {
   "cell_type": "code",
   "execution_count": 83,
   "metadata": {
    "ExecuteTime": {
     "end_time": "2022-07-13T00:30:40.862210Z",
     "start_time": "2022-07-13T00:30:40.842224Z"
    }
   },
   "outputs": [
    {
     "data": {
      "text/plain": [
       "0.13333333333333333"
      ]
     },
     "execution_count": 83,
     "metadata": {},
     "output_type": "execute_result"
    }
   ],
   "source": [
    "4/30"
   ]
  },
  {
   "cell_type": "code",
   "execution_count": 87,
   "metadata": {
    "ExecuteTime": {
     "end_time": "2022-07-13T00:32:10.022834Z",
     "start_time": "2022-07-13T00:32:10.002865Z"
    }
   },
   "outputs": [
    {
     "data": {
      "text/plain": [
       "0.8666666666666667"
      ]
     },
     "execution_count": 87,
     "metadata": {},
     "output_type": "execute_result"
    }
   ],
   "source": [
    "26/30"
   ]
  },
  {
   "cell_type": "code",
   "execution_count": 88,
   "metadata": {
    "ExecuteTime": {
     "end_time": "2022-07-13T00:33:10.940784Z",
     "start_time": "2022-07-13T00:33:10.013200Z"
    },
    "scrolled": true
   },
   "outputs": [
    {
     "name": "stdout",
     "output_type": "stream",
     "text": [
      "Métricas de avaliação de treino - com cutoff = 0.50\n"
     ]
    },
    {
     "data": {
      "image/png": "[encoded data removed]",
      "text/plain": [
       "<Figure size 432x288 with 2 Axes>"
      ]
     },
     "metadata": {
      "needs_background": "light"
     },
     "output_type": "display_data"
    },
    {
     "name": "stdout",
     "output_type": "stream",
     "text": [
      "              precision    recall  f1-score   support\n",
      "\n",
      "           B       0.96      0.98      0.97       285\n",
      "           M       0.96      0.94      0.95       170\n",
      "\n",
      "    accuracy                           0.96       455\n",
      "   macro avg       0.96      0.96      0.96       455\n",
      "weighted avg       0.96      0.96      0.96       455\n",
      "\n",
      "\n",
      "################################################################################\n",
      "\n",
      "Métricas de avaliação de teste - com cutoff = 0.50\n"
     ]
    },
    {
     "data": {
      "image/png": "[encoded data removed]",
      "text/plain": [
       "<Figure size 432x288 with 2 Axes>"
      ]
     },
     "metadata": {
      "needs_background": "light"
     },
     "output_type": "display_data"
    },
    {
     "name": "stdout",
     "output_type": "stream",
     "text": [
      "              precision    recall  f1-score   support\n",
      "\n",
      "           B       0.96      1.00      0.98        72\n",
      "           M       1.00      0.93      0.96        42\n",
      "\n",
      "    accuracy                           0.97       114\n",
      "   macro avg       0.98      0.96      0.97       114\n",
      "weighted avg       0.97      0.97      0.97       114\n",
      "\n"
     ]
    }
   ],
   "source": [
    "pipe_com_pca = Pipeline([(\"ss\", StandardScaler()), \n",
    "                         # aqui eu to escolhendo INDIRETAMENTE o numero de PCs que quero!\n",
    "                         (\"pca\", PCA(n_components=4)),\n",
    "                         (\"lr\", LogisticRegression(random_state=42))]).fit(X_train, y_train)\n",
    "\n",
    "_ = clf_metrics_train_test(pipe_com_pca, X_train, y_train, X_test, y_test, cutoff=0.5, \n",
    "                           plot_conf_matrix=True, print_cr=True, pos_label=\"M\")"
   ]
  },
  {
   "cell_type": "markdown",
   "metadata": {},
   "source": [
    "Mesmo usando apenas duas features (PCs), temos uma performance comparável à do modelo treinado no espaço de input completo!\n",
    "\n",
    "Este é o grande poder do PCA!"
   ]
  },
  {
   "cell_type": "markdown",
   "metadata": {},
   "source": [
    "____________"
   ]
  },
  {
   "cell_type": "markdown",
   "metadata": {},
   "source": [
    "## 3) PCA na EDA\n",
    "\n",
    "Um outro uso importante do PCA é como um auxiliar na **interpretabilidade** de dados de alta dimensionalidade.\n",
    "\n",
    "Ao fazermos uma redução de dimensionalidade, podemos passar a enxergar os dados em duas dimensões (por exemplo), o que pode nos ajudar a extrair insights mais precisos, sendo uma importante ferramenta para complementar as técnicas de EDA que já conhecemos.\n",
    "\n",
    "Fazer isso na prática é muito simples!"
   ]
  },
  {
   "cell_type": "markdown",
   "metadata": {},
   "source": [
    "### EDA com PCA - breast cancer"
   ]
  },
  {
   "cell_type": "code",
   "execution_count": 119,
   "metadata": {
    "ExecuteTime": {
     "end_time": "2022-07-13T01:06:11.194576Z",
     "start_time": "2022-07-13T01:06:11.143781Z"
    }
   },
   "outputs": [],
   "source": [
    "df_bc = pd.read_csv(\"../datasets/breast_cancer.csv\")\n",
    "\n",
    "X = df_bc.drop(columns=[\"id\", \"diagnosis\"])\n",
    "y = df_bc[\"diagnosis\"]\n",
    "\n",
    "X_train, X_test, y_train, y_test = train_test_split(X, y, test_size=0.2, \n",
    "                                                    random_state=42, stratify=y)"
   ]
  },
  {
   "cell_type": "code",
   "execution_count": 102,
   "metadata": {
    "ExecuteTime": {
     "end_time": "2022-07-13T00:58:18.333428Z",
     "start_time": "2022-07-13T00:58:18.316426Z"
    }
   },
   "outputs": [],
   "source": [
    "# isso aqui, nao rola...\n",
    "# sns.pairplot(pd.concat([X_train, y_train], axis=1), hue=\"diagnosis\");"
   ]
  },
  {
   "cell_type": "code",
   "execution_count": 93,
   "metadata": {
    "ExecuteTime": {
     "end_time": "2022-07-13T00:42:09.525352Z",
     "start_time": "2022-07-13T00:42:09.437404Z"
    }
   },
   "outputs": [
    {
     "data": {
      "text/html": [
       "<div>\n",
       "<style scoped>\n",
       "    .dataframe tbody tr th:only-of-type {\n",
       "        vertical-align: middle;\n",
       "    }\n",
       "\n",
       "    .dataframe tbody tr th {\n",
       "        vertical-align: top;\n",
       "    }\n",
       "\n",
       "    .dataframe thead th {\n",
       "        text-align: right;\n",
       "    }\n",
       "</style>\n",
       "<table border=\"1\" class=\"dataframe\">\n",
       "  <thead>\n",
       "    <tr style=\"text-align: right;\">\n",
       "      <th></th>\n",
       "      <th>radius_mean</th>\n",
       "      <th>texture_mean</th>\n",
       "      <th>perimeter_mean</th>\n",
       "      <th>area_mean</th>\n",
       "      <th>smoothness_mean</th>\n",
       "      <th>compactness_mean</th>\n",
       "      <th>concavity_mean</th>\n",
       "      <th>concave points_mean</th>\n",
       "      <th>symmetry_mean</th>\n",
       "      <th>fractal_dimension_mean</th>\n",
       "      <th>...</th>\n",
       "      <th>radius_worst</th>\n",
       "      <th>texture_worst</th>\n",
       "      <th>perimeter_worst</th>\n",
       "      <th>area_worst</th>\n",
       "      <th>smoothness_worst</th>\n",
       "      <th>compactness_worst</th>\n",
       "      <th>concavity_worst</th>\n",
       "      <th>concave points_worst</th>\n",
       "      <th>symmetry_worst</th>\n",
       "      <th>fractal_dimension_worst</th>\n",
       "    </tr>\n",
       "  </thead>\n",
       "  <tbody>\n",
       "    <tr>\n",
       "      <th>10</th>\n",
       "      <td>16.02</td>\n",
       "      <td>23.24</td>\n",
       "      <td>102.70</td>\n",
       "      <td>797.8</td>\n",
       "      <td>0.08206</td>\n",
       "      <td>0.06669</td>\n",
       "      <td>0.03299</td>\n",
       "      <td>0.03323</td>\n",
       "      <td>0.1528</td>\n",
       "      <td>0.05697</td>\n",
       "      <td>...</td>\n",
       "      <td>19.19</td>\n",
       "      <td>33.88</td>\n",
       "      <td>123.80</td>\n",
       "      <td>1150.0</td>\n",
       "      <td>0.11810</td>\n",
       "      <td>0.15510</td>\n",
       "      <td>0.14590</td>\n",
       "      <td>0.09975</td>\n",
       "      <td>0.2948</td>\n",
       "      <td>0.08452</td>\n",
       "    </tr>\n",
       "    <tr>\n",
       "      <th>170</th>\n",
       "      <td>12.32</td>\n",
       "      <td>12.39</td>\n",
       "      <td>78.85</td>\n",
       "      <td>464.1</td>\n",
       "      <td>0.10280</td>\n",
       "      <td>0.06981</td>\n",
       "      <td>0.03987</td>\n",
       "      <td>0.03700</td>\n",
       "      <td>0.1959</td>\n",
       "      <td>0.05955</td>\n",
       "      <td>...</td>\n",
       "      <td>13.50</td>\n",
       "      <td>15.64</td>\n",
       "      <td>86.97</td>\n",
       "      <td>549.1</td>\n",
       "      <td>0.13850</td>\n",
       "      <td>0.12660</td>\n",
       "      <td>0.12420</td>\n",
       "      <td>0.09391</td>\n",
       "      <td>0.2827</td>\n",
       "      <td>0.06771</td>\n",
       "    </tr>\n",
       "    <tr>\n",
       "      <th>407</th>\n",
       "      <td>12.85</td>\n",
       "      <td>21.37</td>\n",
       "      <td>82.63</td>\n",
       "      <td>514.5</td>\n",
       "      <td>0.07551</td>\n",
       "      <td>0.08316</td>\n",
       "      <td>0.06126</td>\n",
       "      <td>0.01867</td>\n",
       "      <td>0.1580</td>\n",
       "      <td>0.06114</td>\n",
       "      <td>...</td>\n",
       "      <td>14.40</td>\n",
       "      <td>27.01</td>\n",
       "      <td>91.63</td>\n",
       "      <td>645.8</td>\n",
       "      <td>0.09402</td>\n",
       "      <td>0.19360</td>\n",
       "      <td>0.18380</td>\n",
       "      <td>0.05601</td>\n",
       "      <td>0.2488</td>\n",
       "      <td>0.08151</td>\n",
       "    </tr>\n",
       "    <tr>\n",
       "      <th>430</th>\n",
       "      <td>14.90</td>\n",
       "      <td>22.53</td>\n",
       "      <td>102.10</td>\n",
       "      <td>685.0</td>\n",
       "      <td>0.09947</td>\n",
       "      <td>0.22250</td>\n",
       "      <td>0.27330</td>\n",
       "      <td>0.09711</td>\n",
       "      <td>0.2041</td>\n",
       "      <td>0.06898</td>\n",
       "      <td>...</td>\n",
       "      <td>16.35</td>\n",
       "      <td>27.57</td>\n",
       "      <td>125.40</td>\n",
       "      <td>832.7</td>\n",
       "      <td>0.14190</td>\n",
       "      <td>0.70900</td>\n",
       "      <td>0.90190</td>\n",
       "      <td>0.24750</td>\n",
       "      <td>0.2866</td>\n",
       "      <td>0.11550</td>\n",
       "    </tr>\n",
       "    <tr>\n",
       "      <th>27</th>\n",
       "      <td>18.61</td>\n",
       "      <td>20.25</td>\n",
       "      <td>122.10</td>\n",
       "      <td>1094.0</td>\n",
       "      <td>0.09440</td>\n",
       "      <td>0.10660</td>\n",
       "      <td>0.14900</td>\n",
       "      <td>0.07731</td>\n",
       "      <td>0.1697</td>\n",
       "      <td>0.05699</td>\n",
       "      <td>...</td>\n",
       "      <td>21.31</td>\n",
       "      <td>27.26</td>\n",
       "      <td>139.90</td>\n",
       "      <td>1403.0</td>\n",
       "      <td>0.13380</td>\n",
       "      <td>0.21170</td>\n",
       "      <td>0.34460</td>\n",
       "      <td>0.14900</td>\n",
       "      <td>0.2341</td>\n",
       "      <td>0.07421</td>\n",
       "    </tr>\n",
       "    <tr>\n",
       "      <th>...</th>\n",
       "      <td>...</td>\n",
       "      <td>...</td>\n",
       "      <td>...</td>\n",
       "      <td>...</td>\n",
       "      <td>...</td>\n",
       "      <td>...</td>\n",
       "      <td>...</td>\n",
       "      <td>...</td>\n",
       "      <td>...</td>\n",
       "      <td>...</td>\n",
       "      <td>...</td>\n",
       "      <td>...</td>\n",
       "      <td>...</td>\n",
       "      <td>...</td>\n",
       "      <td>...</td>\n",
       "      <td>...</td>\n",
       "      <td>...</td>\n",
       "      <td>...</td>\n",
       "      <td>...</td>\n",
       "      <td>...</td>\n",
       "      <td>...</td>\n",
       "    </tr>\n",
       "    <tr>\n",
       "      <th>37</th>\n",
       "      <td>13.03</td>\n",
       "      <td>18.42</td>\n",
       "      <td>82.61</td>\n",
       "      <td>523.8</td>\n",
       "      <td>0.08983</td>\n",
       "      <td>0.03766</td>\n",
       "      <td>0.02562</td>\n",
       "      <td>0.02923</td>\n",
       "      <td>0.1467</td>\n",
       "      <td>0.05863</td>\n",
       "      <td>...</td>\n",
       "      <td>13.30</td>\n",
       "      <td>22.81</td>\n",
       "      <td>84.46</td>\n",
       "      <td>545.9</td>\n",
       "      <td>0.09701</td>\n",
       "      <td>0.04619</td>\n",
       "      <td>0.04833</td>\n",
       "      <td>0.05013</td>\n",
       "      <td>0.1987</td>\n",
       "      <td>0.06169</td>\n",
       "    </tr>\n",
       "    <tr>\n",
       "      <th>415</th>\n",
       "      <td>11.89</td>\n",
       "      <td>21.17</td>\n",
       "      <td>76.39</td>\n",
       "      <td>433.8</td>\n",
       "      <td>0.09773</td>\n",
       "      <td>0.08120</td>\n",
       "      <td>0.02555</td>\n",
       "      <td>0.02179</td>\n",
       "      <td>0.2019</td>\n",
       "      <td>0.06290</td>\n",
       "      <td>...</td>\n",
       "      <td>13.05</td>\n",
       "      <td>27.21</td>\n",
       "      <td>85.09</td>\n",
       "      <td>522.9</td>\n",
       "      <td>0.14260</td>\n",
       "      <td>0.21870</td>\n",
       "      <td>0.11640</td>\n",
       "      <td>0.08263</td>\n",
       "      <td>0.3075</td>\n",
       "      <td>0.07351</td>\n",
       "    </tr>\n",
       "    <tr>\n",
       "      <th>458</th>\n",
       "      <td>13.00</td>\n",
       "      <td>25.13</td>\n",
       "      <td>82.61</td>\n",
       "      <td>520.2</td>\n",
       "      <td>0.08369</td>\n",
       "      <td>0.05073</td>\n",
       "      <td>0.01206</td>\n",
       "      <td>0.01762</td>\n",
       "      <td>0.1667</td>\n",
       "      <td>0.05449</td>\n",
       "      <td>...</td>\n",
       "      <td>14.34</td>\n",
       "      <td>31.88</td>\n",
       "      <td>91.06</td>\n",
       "      <td>628.5</td>\n",
       "      <td>0.12180</td>\n",
       "      <td>0.10930</td>\n",
       "      <td>0.04462</td>\n",
       "      <td>0.05921</td>\n",
       "      <td>0.2306</td>\n",
       "      <td>0.06291</td>\n",
       "    </tr>\n",
       "    <tr>\n",
       "      <th>476</th>\n",
       "      <td>14.20</td>\n",
       "      <td>20.53</td>\n",
       "      <td>92.41</td>\n",
       "      <td>618.4</td>\n",
       "      <td>0.08931</td>\n",
       "      <td>0.11080</td>\n",
       "      <td>0.05063</td>\n",
       "      <td>0.03058</td>\n",
       "      <td>0.1506</td>\n",
       "      <td>0.06009</td>\n",
       "      <td>...</td>\n",
       "      <td>16.45</td>\n",
       "      <td>27.26</td>\n",
       "      <td>112.10</td>\n",
       "      <td>828.5</td>\n",
       "      <td>0.11530</td>\n",
       "      <td>0.34290</td>\n",
       "      <td>0.25120</td>\n",
       "      <td>0.13390</td>\n",
       "      <td>0.2534</td>\n",
       "      <td>0.07858</td>\n",
       "    </tr>\n",
       "    <tr>\n",
       "      <th>335</th>\n",
       "      <td>17.06</td>\n",
       "      <td>21.00</td>\n",
       "      <td>111.80</td>\n",
       "      <td>918.6</td>\n",
       "      <td>0.11190</td>\n",
       "      <td>0.10560</td>\n",
       "      <td>0.15080</td>\n",
       "      <td>0.09934</td>\n",
       "      <td>0.1727</td>\n",
       "      <td>0.06071</td>\n",
       "      <td>...</td>\n",
       "      <td>20.99</td>\n",
       "      <td>33.15</td>\n",
       "      <td>143.20</td>\n",
       "      <td>1362.0</td>\n",
       "      <td>0.14490</td>\n",
       "      <td>0.20530</td>\n",
       "      <td>0.39200</td>\n",
       "      <td>0.18270</td>\n",
       "      <td>0.2623</td>\n",
       "      <td>0.07599</td>\n",
       "    </tr>\n",
       "  </tbody>\n",
       "</table>\n",
       "<p>455 rows × 30 columns</p>\n",
       "</div>"
      ],
      "text/plain": [
       "     radius_mean  texture_mean  perimeter_mean  area_mean  smoothness_mean  \\\n",
       "10         16.02         23.24          102.70      797.8          0.08206   \n",
       "170        12.32         12.39           78.85      464.1          0.10280   \n",
       "407        12.85         21.37           82.63      514.5          0.07551   \n",
       "430        14.90         22.53          102.10      685.0          0.09947   \n",
       "27         18.61         20.25          122.10     1094.0          0.09440   \n",
       "..           ...           ...             ...        ...              ...   \n",
       "37         13.03         18.42           82.61      523.8          0.08983   \n",
       "415        11.89         21.17           76.39      433.8          0.09773   \n",
       "458        13.00         25.13           82.61      520.2          0.08369   \n",
       "476        14.20         20.53           92.41      618.4          0.08931   \n",
       "335        17.06         21.00          111.80      918.6          0.11190   \n",
       "\n",
       "     compactness_mean  concavity_mean  concave points_mean  symmetry_mean  \\\n",
       "10            0.06669         0.03299              0.03323         0.1528   \n",
       "170           0.06981         0.03987              0.03700         0.1959   \n",
       "407           0.08316         0.06126              0.01867         0.1580   \n",
       "430           0.22250         0.27330              0.09711         0.2041   \n",
       "27            0.10660         0.14900              0.07731         0.1697   \n",
       "..                ...             ...                  ...            ...   \n",
       "37            0.03766         0.02562              0.02923         0.1467   \n",
       "415           0.08120         0.02555              0.02179         0.2019   \n",
       "458           0.05073         0.01206              0.01762         0.1667   \n",
       "476           0.11080         0.05063              0.03058         0.1506   \n",
       "335           0.10560         0.15080              0.09934         0.1727   \n",
       "\n",
       "     fractal_dimension_mean  ...  radius_worst  texture_worst  \\\n",
       "10                  0.05697  ...         19.19          33.88   \n",
       "170                 0.05955  ...         13.50          15.64   \n",
       "407                 0.06114  ...         14.40          27.01   \n",
       "430                 0.06898  ...         16.35          27.57   \n",
       "27                  0.05699  ...         21.31          27.26   \n",
       "..                      ...  ...           ...            ...   \n",
       "37                  0.05863  ...         13.30          22.81   \n",
       "415                 0.06290  ...         13.05          27.21   \n",
       "458                 0.05449  ...         14.34          31.88   \n",
       "476                 0.06009  ...         16.45          27.26   \n",
       "335                 0.06071  ...         20.99          33.15   \n",
       "\n",
       "     perimeter_worst  area_worst  smoothness_worst  compactness_worst  \\\n",
       "10            123.80      1150.0           0.11810            0.15510   \n",
       "170            86.97       549.1           0.13850            0.12660   \n",
       "407            91.63       645.8           0.09402            0.19360   \n",
       "430           125.40       832.7           0.14190            0.70900   \n",
       "27            139.90      1403.0           0.13380            0.21170   \n",
       "..               ...         ...               ...                ...   \n",
       "37             84.46       545.9           0.09701            0.04619   \n",
       "415            85.09       522.9           0.14260            0.21870   \n",
       "458            91.06       628.5           0.12180            0.10930   \n",
       "476           112.10       828.5           0.11530            0.34290   \n",
       "335           143.20      1362.0           0.14490            0.20530   \n",
       "\n",
       "     concavity_worst  concave points_worst  symmetry_worst  \\\n",
       "10           0.14590               0.09975          0.2948   \n",
       "170          0.12420               0.09391          0.2827   \n",
       "407          0.18380               0.05601          0.2488   \n",
       "430          0.90190               0.24750          0.2866   \n",
       "27           0.34460               0.14900          0.2341   \n",
       "..               ...                   ...             ...   \n",
       "37           0.04833               0.05013          0.1987   \n",
       "415          0.11640               0.08263          0.3075   \n",
       "458          0.04462               0.05921          0.2306   \n",
       "476          0.25120               0.13390          0.2534   \n",
       "335          0.39200               0.18270          0.2623   \n",
       "\n",
       "     fractal_dimension_worst  \n",
       "10                   0.08452  \n",
       "170                  0.06771  \n",
       "407                  0.08151  \n",
       "430                  0.11550  \n",
       "27                   0.07421  \n",
       "..                       ...  \n",
       "37                   0.06169  \n",
       "415                  0.07351  \n",
       "458                  0.06291  \n",
       "476                  0.07858  \n",
       "335                  0.07599  \n",
       "\n",
       "[455 rows x 30 columns]"
      ]
     },
     "execution_count": 93,
     "metadata": {},
     "output_type": "execute_result"
    }
   ],
   "source": [
    "X_train"
   ]
  },
  {
   "cell_type": "code",
   "execution_count": 95,
   "metadata": {
    "ExecuteTime": {
     "end_time": "2022-07-13T00:45:24.779622Z",
     "start_time": "2022-07-13T00:45:24.724139Z"
    }
   },
   "outputs": [
    {
     "data": {
      "text/html": [
       "<div>\n",
       "<style scoped>\n",
       "    .dataframe tbody tr th:only-of-type {\n",
       "        vertical-align: middle;\n",
       "    }\n",
       "\n",
       "    .dataframe tbody tr th {\n",
       "        vertical-align: top;\n",
       "    }\n",
       "\n",
       "    .dataframe thead th {\n",
       "        text-align: right;\n",
       "    }\n",
       "</style>\n",
       "<table border=\"1\" class=\"dataframe\">\n",
       "  <thead>\n",
       "    <tr style=\"text-align: right;\">\n",
       "      <th></th>\n",
       "      <th>PC1</th>\n",
       "      <th>PC2</th>\n",
       "    </tr>\n",
       "  </thead>\n",
       "  <tbody>\n",
       "    <tr>\n",
       "      <th>10</th>\n",
       "      <td>-0.875937</td>\n",
       "      <td>-2.571309</td>\n",
       "    </tr>\n",
       "    <tr>\n",
       "      <th>170</th>\n",
       "      <td>-2.505128</td>\n",
       "      <td>0.192453</td>\n",
       "    </tr>\n",
       "    <tr>\n",
       "      <th>407</th>\n",
       "      <td>-1.354117</td>\n",
       "      <td>0.417851</td>\n",
       "    </tr>\n",
       "    <tr>\n",
       "      <th>430</th>\n",
       "      <td>4.854091</td>\n",
       "      <td>3.017576</td>\n",
       "    </tr>\n",
       "    <tr>\n",
       "      <th>27</th>\n",
       "      <td>2.926225</td>\n",
       "      <td>-1.866546</td>\n",
       "    </tr>\n",
       "    <tr>\n",
       "      <th>...</th>\n",
       "      <td>...</td>\n",
       "      <td>...</td>\n",
       "    </tr>\n",
       "    <tr>\n",
       "      <th>37</th>\n",
       "      <td>-3.730069</td>\n",
       "      <td>-1.364877</td>\n",
       "    </tr>\n",
       "    <tr>\n",
       "      <th>415</th>\n",
       "      <td>-1.894651</td>\n",
       "      <td>0.942551</td>\n",
       "    </tr>\n",
       "    <tr>\n",
       "      <th>458</th>\n",
       "      <td>-3.180442</td>\n",
       "      <td>-1.992055</td>\n",
       "    </tr>\n",
       "    <tr>\n",
       "      <th>476</th>\n",
       "      <td>-0.568062</td>\n",
       "      <td>-0.906734</td>\n",
       "    </tr>\n",
       "    <tr>\n",
       "      <th>335</th>\n",
       "      <td>3.171861</td>\n",
       "      <td>-1.573469</td>\n",
       "    </tr>\n",
       "  </tbody>\n",
       "</table>\n",
       "<p>455 rows × 2 columns</p>\n",
       "</div>"
      ],
      "text/plain": [
       "          PC1       PC2\n",
       "10  -0.875937 -2.571309\n",
       "170 -2.505128  0.192453\n",
       "407 -1.354117  0.417851\n",
       "430  4.854091  3.017576\n",
       "27   2.926225 -1.866546\n",
       "..        ...       ...\n",
       "37  -3.730069 -1.364877\n",
       "415 -1.894651  0.942551\n",
       "458 -3.180442 -1.992055\n",
       "476 -0.568062 -0.906734\n",
       "335  3.171861 -1.573469\n",
       "\n",
       "[455 rows x 2 columns]"
      ]
     },
     "execution_count": 95,
     "metadata": {},
     "output_type": "execute_result"
    }
   ],
   "source": [
    "pipe_pca = Pipeline([(\"ss\", StandardScaler()), (\"pca\", PCA(n_components=2))]).fit(X_train)\n",
    "\n",
    "X_train_pca = pd.DataFrame(pipe_pca.transform(X_train), index=X_train.index, \n",
    "                           columns=[f\"PC{i+1}\" for i in range(pipe_pca[\"pca\"].n_components_)])\n",
    "\n",
    "X_train_pca"
   ]
  },
  {
   "cell_type": "code",
   "execution_count": 100,
   "metadata": {
    "ExecuteTime": {
     "end_time": "2022-07-13T00:47:46.801066Z",
     "start_time": "2022-07-13T00:47:46.082951Z"
    }
   },
   "outputs": [
    {
     "data": {
      "image/png": "[encoded data removed]",
      "text/plain": [
       "<Figure size 432x432 with 3 Axes>"
      ]
     },
     "metadata": {
      "needs_background": "light"
     },
     "output_type": "display_data"
    }
   ],
   "source": [
    "X_pca_com_y_train = pd.concat([X_train_pca, y_train], axis=1)\n",
    "\n",
    "sns.jointplot(data=X_pca_com_y_train, x=\"PC1\", y=\"PC2\", hue=\"diagnosis\");"
   ]
  },
  {
   "cell_type": "markdown",
   "metadata": {},
   "source": [
    "Dá pra fazer também um gráfico 3D:"
   ]
  },
  {
   "cell_type": "code",
   "execution_count": 103,
   "metadata": {
    "ExecuteTime": {
     "end_time": "2022-07-13T00:58:56.813669Z",
     "start_time": "2022-07-13T00:58:56.768697Z"
    }
   },
   "outputs": [
    {
     "data": {
      "text/html": [
       "<div>\n",
       "<style scoped>\n",
       "    .dataframe tbody tr th:only-of-type {\n",
       "        vertical-align: middle;\n",
       "    }\n",
       "\n",
       "    .dataframe tbody tr th {\n",
       "        vertical-align: top;\n",
       "    }\n",
       "\n",
       "    .dataframe thead th {\n",
       "        text-align: right;\n",
       "    }\n",
       "</style>\n",
       "<table border=\"1\" class=\"dataframe\">\n",
       "  <thead>\n",
       "    <tr style=\"text-align: right;\">\n",
       "      <th></th>\n",
       "      <th>PC1</th>\n",
       "      <th>PC2</th>\n",
       "      <th>PC3</th>\n",
       "    </tr>\n",
       "  </thead>\n",
       "  <tbody>\n",
       "    <tr>\n",
       "      <th>10</th>\n",
       "      <td>-0.875937</td>\n",
       "      <td>-2.571309</td>\n",
       "      <td>-0.548511</td>\n",
       "    </tr>\n",
       "    <tr>\n",
       "      <th>170</th>\n",
       "      <td>-2.505128</td>\n",
       "      <td>0.192453</td>\n",
       "      <td>-0.404965</td>\n",
       "    </tr>\n",
       "    <tr>\n",
       "      <th>407</th>\n",
       "      <td>-1.354117</td>\n",
       "      <td>0.417851</td>\n",
       "      <td>2.545009</td>\n",
       "    </tr>\n",
       "    <tr>\n",
       "      <th>430</th>\n",
       "      <td>4.854091</td>\n",
       "      <td>3.017576</td>\n",
       "      <td>-1.626587</td>\n",
       "    </tr>\n",
       "    <tr>\n",
       "      <th>27</th>\n",
       "      <td>2.926225</td>\n",
       "      <td>-1.866546</td>\n",
       "      <td>2.486468</td>\n",
       "    </tr>\n",
       "    <tr>\n",
       "      <th>...</th>\n",
       "      <td>...</td>\n",
       "      <td>...</td>\n",
       "      <td>...</td>\n",
       "    </tr>\n",
       "    <tr>\n",
       "      <th>37</th>\n",
       "      <td>-3.730069</td>\n",
       "      <td>-1.364877</td>\n",
       "      <td>1.713709</td>\n",
       "    </tr>\n",
       "    <tr>\n",
       "      <th>415</th>\n",
       "      <td>-1.894651</td>\n",
       "      <td>0.942551</td>\n",
       "      <td>0.074451</td>\n",
       "    </tr>\n",
       "    <tr>\n",
       "      <th>458</th>\n",
       "      <td>-3.180442</td>\n",
       "      <td>-1.992055</td>\n",
       "      <td>0.009280</td>\n",
       "    </tr>\n",
       "    <tr>\n",
       "      <th>476</th>\n",
       "      <td>-0.568062</td>\n",
       "      <td>-0.906734</td>\n",
       "      <td>-0.314257</td>\n",
       "    </tr>\n",
       "    <tr>\n",
       "      <th>335</th>\n",
       "      <td>3.171861</td>\n",
       "      <td>-1.573469</td>\n",
       "      <td>1.196476</td>\n",
       "    </tr>\n",
       "  </tbody>\n",
       "</table>\n",
       "<p>455 rows × 3 columns</p>\n",
       "</div>"
      ],
      "text/plain": [
       "          PC1       PC2       PC3\n",
       "10  -0.875937 -2.571309 -0.548511\n",
       "170 -2.505128  0.192453 -0.404965\n",
       "407 -1.354117  0.417851  2.545009\n",
       "430  4.854091  3.017576 -1.626587\n",
       "27   2.926225 -1.866546  2.486468\n",
       "..        ...       ...       ...\n",
       "37  -3.730069 -1.364877  1.713709\n",
       "415 -1.894651  0.942551  0.074451\n",
       "458 -3.180442 -1.992055  0.009280\n",
       "476 -0.568062 -0.906734 -0.314257\n",
       "335  3.171861 -1.573469  1.196476\n",
       "\n",
       "[455 rows x 3 columns]"
      ]
     },
     "execution_count": 103,
     "metadata": {},
     "output_type": "execute_result"
    }
   ],
   "source": [
    "pipe_pca = Pipeline([(\"ss\", StandardScaler()), (\"pca\", PCA(n_components=3))]).fit(X_train)\n",
    "\n",
    "X_train_pca = pd.DataFrame(pipe_pca.transform(X_train), index=X_train.index, \n",
    "                           columns=[f\"PC{i+1}\" for i in range(pipe_pca[\"pca\"].n_components_)])\n",
    "\n",
    "X_train_pca"
   ]
  },
  {
   "cell_type": "code",
   "execution_count": 104,
   "metadata": {
    "ExecuteTime": {
     "end_time": "2022-07-13T01:00:19.733462Z",
     "start_time": "2022-07-13T01:00:19.720464Z"
    }
   },
   "outputs": [
    {
     "data": {
      "text/plain": [
       "array(['M', 'B'], dtype=object)"
      ]
     },
     "execution_count": 104,
     "metadata": {},
     "output_type": "execute_result"
    }
   ],
   "source": [
    "y_train.unique()"
   ]
  },
  {
   "cell_type": "code",
   "execution_count": 109,
   "metadata": {
    "ExecuteTime": {
     "end_time": "2022-07-13T01:00:58.523720Z",
     "start_time": "2022-07-13T01:00:58.488713Z"
    }
   },
   "outputs": [
    {
     "data": {
      "text/html": [
       "<div>\n",
       "<style scoped>\n",
       "    .dataframe tbody tr th:only-of-type {\n",
       "        vertical-align: middle;\n",
       "    }\n",
       "\n",
       "    .dataframe tbody tr th {\n",
       "        vertical-align: top;\n",
       "    }\n",
       "\n",
       "    .dataframe thead th {\n",
       "        text-align: right;\n",
       "    }\n",
       "</style>\n",
       "<table border=\"1\" class=\"dataframe\">\n",
       "  <thead>\n",
       "    <tr style=\"text-align: right;\">\n",
       "      <th></th>\n",
       "      <th>PC1</th>\n",
       "      <th>PC2</th>\n",
       "      <th>PC3</th>\n",
       "      <th>diagnosis</th>\n",
       "    </tr>\n",
       "  </thead>\n",
       "  <tbody>\n",
       "    <tr>\n",
       "      <th>10</th>\n",
       "      <td>-0.875937</td>\n",
       "      <td>-2.571309</td>\n",
       "      <td>-0.548511</td>\n",
       "      <td>M</td>\n",
       "    </tr>\n",
       "    <tr>\n",
       "      <th>430</th>\n",
       "      <td>4.854091</td>\n",
       "      <td>3.017576</td>\n",
       "      <td>-1.626587</td>\n",
       "      <td>M</td>\n",
       "    </tr>\n",
       "    <tr>\n",
       "      <th>27</th>\n",
       "      <td>2.926225</td>\n",
       "      <td>-1.866546</td>\n",
       "      <td>2.486468</td>\n",
       "      <td>M</td>\n",
       "    </tr>\n",
       "    <tr>\n",
       "      <th>212</th>\n",
       "      <td>11.759700</td>\n",
       "      <td>-7.573812</td>\n",
       "      <td>9.565187</td>\n",
       "      <td>M</td>\n",
       "    </tr>\n",
       "    <tr>\n",
       "      <th>36</th>\n",
       "      <td>1.240639</td>\n",
       "      <td>0.963397</td>\n",
       "      <td>-1.515270</td>\n",
       "      <td>M</td>\n",
       "    </tr>\n",
       "    <tr>\n",
       "      <th>...</th>\n",
       "      <td>...</td>\n",
       "      <td>...</td>\n",
       "      <td>...</td>\n",
       "      <td>...</td>\n",
       "    </tr>\n",
       "    <tr>\n",
       "      <th>446</th>\n",
       "      <td>3.111006</td>\n",
       "      <td>-1.733402</td>\n",
       "      <td>-1.881087</td>\n",
       "      <td>M</td>\n",
       "    </tr>\n",
       "    <tr>\n",
       "      <th>392</th>\n",
       "      <td>4.029249</td>\n",
       "      <td>0.776450</td>\n",
       "      <td>-0.931314</td>\n",
       "      <td>M</td>\n",
       "    </tr>\n",
       "    <tr>\n",
       "      <th>230</th>\n",
       "      <td>3.148289</td>\n",
       "      <td>-0.089327</td>\n",
       "      <td>-2.877062</td>\n",
       "      <td>M</td>\n",
       "    </tr>\n",
       "    <tr>\n",
       "      <th>229</th>\n",
       "      <td>2.718681</td>\n",
       "      <td>3.483697</td>\n",
       "      <td>-2.399294</td>\n",
       "      <td>M</td>\n",
       "    </tr>\n",
       "    <tr>\n",
       "      <th>335</th>\n",
       "      <td>3.171861</td>\n",
       "      <td>-1.573469</td>\n",
       "      <td>1.196476</td>\n",
       "      <td>M</td>\n",
       "    </tr>\n",
       "  </tbody>\n",
       "</table>\n",
       "<p>170 rows × 4 columns</p>\n",
       "</div>"
      ],
      "text/plain": [
       "           PC1       PC2       PC3 diagnosis\n",
       "10   -0.875937 -2.571309 -0.548511         M\n",
       "430   4.854091  3.017576 -1.626587         M\n",
       "27    2.926225 -1.866546  2.486468         M\n",
       "212  11.759700 -7.573812  9.565187         M\n",
       "36    1.240639  0.963397 -1.515270         M\n",
       "..         ...       ...       ...       ...\n",
       "446   3.111006 -1.733402 -1.881087         M\n",
       "392   4.029249  0.776450 -0.931314         M\n",
       "230   3.148289 -0.089327 -2.877062         M\n",
       "229   2.718681  3.483697 -2.399294         M\n",
       "335   3.171861 -1.573469  1.196476         M\n",
       "\n",
       "[170 rows x 4 columns]"
      ]
     },
     "execution_count": 109,
     "metadata": {},
     "output_type": "execute_result"
    }
   ],
   "source": [
    "X_pca_y.query(f\"diagnosis == 'M'\")"
   ]
  },
  {
   "cell_type": "code",
   "execution_count": 107,
   "metadata": {
    "ExecuteTime": {
     "end_time": "2022-07-13T01:00:38.305238Z",
     "start_time": "2022-07-13T01:00:37.553034Z"
    }
   },
   "outputs": [
    {
     "data": {
      "image/png": "[encoded data removed]",
      "text/plain": [
       "<Figure size 576x576 with 1 Axes>"
      ]
     },
     "metadata": {
      "needs_background": "light"
     },
     "output_type": "display_data"
    }
   ],
   "source": [
    "X_pca_y = pd.concat([X_train_pca, y_train], axis=1)\n",
    "\n",
    "# ==========================\n",
    "\n",
    "fig = plt.figure(figsize=(8, 8))\n",
    "\n",
    "ax = fig.add_subplot(111, projection='3d')\n",
    "ax.set_title(f\"Projeção dos dados nas 3 componentes principais\")\n",
    "\n",
    "for level in y_train.unique():\n",
    "    \n",
    "    X_level = X_pca_y.query(f\"diagnosis == '{level}'\")\n",
    "    \n",
    "    ax.scatter(X_level[\"PC1\"], X_level[\"PC2\"], X_level[\"PC3\"], label=level)\n",
    "    \n",
    "ax.legend()\n",
    "plt.show()"
   ]
  },
  {
   "cell_type": "markdown",
   "metadata": {},
   "source": [
    "Vamos fazer uma função para isso:"
   ]
  },
  {
   "cell_type": "code",
   "execution_count": 110,
   "metadata": {
    "ExecuteTime": {
     "end_time": "2022-07-13T01:04:11.847078Z",
     "start_time": "2022-07-13T01:04:11.834090Z"
    }
   },
   "outputs": [
    {
     "data": {
      "text/plain": [
       "'diagnosis'"
      ]
     },
     "execution_count": 110,
     "metadata": {},
     "output_type": "execute_result"
    }
   ],
   "source": [
    "y_train.name"
   ]
  },
  {
   "cell_type": "code",
   "execution_count": 116,
   "metadata": {
    "ExecuteTime": {
     "end_time": "2022-07-13T01:05:58.541395Z",
     "start_time": "2022-07-13T01:05:58.512411Z"
    }
   },
   "outputs": [],
   "source": [
    "def pca_eda(X, y, n_components):\n",
    "    '''\n",
    "    n_components: 2 ou 3\n",
    "    '''\n",
    "    \n",
    "    pipe_pca = Pipeline([(\"ss\", StandardScaler()),\n",
    "                         (\"pca\", PCA(n_components=n_components))]).fit(X)\n",
    "\n",
    "    X_pca = pd.DataFrame(pipe_pca.transform(X), index = X.index,\n",
    "                         columns=[f\"PC{i+1}\" for i in range(n_components)])\n",
    "    \n",
    "    X_pca_y = pd.concat([X_pca, y], axis=1)\n",
    "    \n",
    "    target_name = y.name\n",
    "    \n",
    "    # =======================================\n",
    "\n",
    "    if n_components == 2:\n",
    "        \n",
    "        g = sns.jointplot(data=X_pca_y, x=\"PC1\", y=\"PC2\", hue=target_name)\n",
    "        \n",
    "        g.fig.suptitle(f\"Projeção dos dados nas 2 componentes principais\", y=1.08)\n",
    "\n",
    "        plt.show()\n",
    "        \n",
    "    elif n_components == 3:\n",
    "        \n",
    "        fig = plt.figure(figsize=(8, 8))\n",
    "\n",
    "        ax = fig.add_subplot(111, projection='3d')\n",
    "        ax.set_title(f\"Projeção dos dados nas 3 componentes principais\")\n",
    "\n",
    "        for level in y_train.unique():\n",
    "\n",
    "            X_level = X_pca_y.query(f\"{target_name} == '{level}'\")\n",
    "\n",
    "            ax.scatter(X_level[\"PC1\"], X_level[\"PC2\"], X_level[\"PC3\"], label=level)\n",
    "\n",
    "        ax.legend()\n",
    "        plt.show()\n",
    "        \n",
    "    else:\n",
    "        \n",
    "        print(\"Não é possível visualizar em mais de 3 dimensões!\")"
   ]
  },
  {
   "cell_type": "code",
   "execution_count": 120,
   "metadata": {
    "ExecuteTime": {
     "end_time": "2022-07-13T01:06:20.938386Z",
     "start_time": "2022-07-13T01:06:19.698058Z"
    }
   },
   "outputs": [
    {
     "data": {
      "image/png": "[encoded data removed]",
      "text/plain": [
       "<Figure size 432x432 with 3 Axes>"
      ]
     },
     "metadata": {
      "needs_background": "light"
     },
     "output_type": "display_data"
    }
   ],
   "source": [
    "pca_eda(X_train, y_train, n_components=2)"
   ]
  },
  {
   "cell_type": "code",
   "execution_count": 121,
   "metadata": {
    "ExecuteTime": {
     "end_time": "2022-07-13T01:06:21.631861Z",
     "start_time": "2022-07-13T01:06:20.943385Z"
    }
   },
   "outputs": [
    {
     "data": {
      "image/png": "[encoded data removed]",
      "text/plain": [
       "<Figure size 576x576 with 1 Axes>"
      ]
     },
     "metadata": {
      "needs_background": "light"
     },
     "output_type": "display_data"
    }
   ],
   "source": [
    "pca_eda(X_train, y_train, n_components=3)"
   ]
  },
  {
   "cell_type": "markdown",
   "metadata": {},
   "source": [
    "Vamos fazer o mesmo pro dataset iris!"
   ]
  },
  {
   "cell_type": "markdown",
   "metadata": {},
   "source": [
    "### EDA com PCA - iris"
   ]
  },
  {
   "cell_type": "code",
   "execution_count": 122,
   "metadata": {
    "ExecuteTime": {
     "end_time": "2022-07-13T01:06:24.848251Z",
     "start_time": "2022-07-13T01:06:24.798279Z"
    }
   },
   "outputs": [],
   "source": [
    "df = pd.read_csv(\"../datasets/iris.csv\")\n",
    "\n",
    "X = df.drop(columns=\"species\")\n",
    "y = df[\"species\"]\n",
    "\n",
    "X_train, X_test, y_train, y_test = train_test_split(X, y, test_size=0.2, \n",
    "                                                    random_state=42, stratify=y)"
   ]
  },
  {
   "cell_type": "code",
   "execution_count": 91,
   "metadata": {
    "ExecuteTime": {
     "end_time": "2022-07-13T00:40:28.797851Z",
     "start_time": "2022-07-13T00:40:21.342106Z"
    }
   },
   "outputs": [
    {
     "data": {
      "text/plain": [
       "<seaborn.axisgrid.PairGrid at 0x14650580ca0>"
      ]
     },
     "execution_count": 91,
     "metadata": {},
     "output_type": "execute_result"
    },
    {
     "data": {
      "image/png": "[encoded data removed]",
      "text/plain": [
       "<Figure size 804.75x720 with 20 Axes>"
      ]
     },
     "metadata": {
      "needs_background": "light"
     },
     "output_type": "display_data"
    }
   ],
   "source": [
    "sns.pairplot(pd.concat([X_train, y_train], axis=1), hue=\"species\");"
   ]
  },
  {
   "cell_type": "code",
   "execution_count": 123,
   "metadata": {
    "ExecuteTime": {
     "end_time": "2022-07-13T01:06:29.763089Z",
     "start_time": "2022-07-13T01:06:27.960552Z"
    }
   },
   "outputs": [
    {
     "data": {
      "image/png": "[encoded data removed]",
      "text/plain": [
       "<Figure size 432x432 with 3 Axes>"
      ]
     },
     "metadata": {
      "needs_background": "light"
     },
     "output_type": "display_data"
    }
   ],
   "source": [
    "pca_eda(X_train, y_train, n_components=2)"
   ]
  },
  {
   "cell_type": "code",
   "execution_count": 124,
   "metadata": {
    "ExecuteTime": {
     "end_time": "2022-07-13T01:06:59.444650Z",
     "start_time": "2022-07-13T01:06:59.000887Z"
    }
   },
   "outputs": [
    {
     "data": {
      "image/png": "[encoded data removed]",
      "text/plain": [
       "<Figure size 576x576 with 1 Axes>"
      ]
     },
     "metadata": {
      "needs_background": "light"
     },
     "output_type": "display_data"
    }
   ],
   "source": [
    "pca_eda(X_train, y_train, n_components=3)"
   ]
  },
  {
   "cell_type": "markdown",
   "metadata": {},
   "source": [
    "____________"
   ]
  },
  {
   "cell_type": "markdown",
   "metadata": {},
   "source": [
    "## 4) A matemática do PCA\n",
    "\n",
    "__________\n",
    "\n",
    "Considere a matriz de features $X_{N \\times n}$\n",
    "\n",
    "> $N$ linhas (observações), cada uma caracterizada por $n$ features no espaço original.\n",
    "\n",
    "Cada observação $i$ é caracterizada pelo vetor de features $\\vec{x}_i = (x_{i1}, x_{i2}, \\cdots, x_{in}$), que são as linhas da matriz de features:\n",
    "\n",
    "$$\n",
    "  X = \\left [ \\begin{array}{ccccc}\n",
    "x_{11} & x_{12} & x_{13} & \\cdots & x_{1n}\\\\ \n",
    "x_{21} & x_{22} & x_{23} & \\cdots & x_{2n}\\\\ \n",
    "\\vdots & \\vdots & \\vdots & \\cdots & \\vdots  \\\\\n",
    "x_{N1} & x_{N2} & x_{N3} & \\cdots & x_{Nn}\\\\ \n",
    "   \\end{array} \\right ] \n",
    "$$"
   ]
  },
  {
   "cell_type": "markdown",
   "metadata": {},
   "source": [
    "____________"
   ]
  },
  {
   "cell_type": "markdown",
   "metadata": {},
   "source": [
    "### Passo 1 - standardização\n",
    "\n",
    "Para dados em que as features originais $x_j$ estão em escalas diferentes, é necessário escalar os dados para que eles tenham média 0 e desvio padrão 1 (ou seja, usamos o `StandardScaler`). \n",
    "\n",
    "Isso porque os componentes são influenciados pela escala das variáveis, justamente porque as matrizes de covariâncias, $\\Sigma$ ou $\\hat{\\Sigma} = S$, são sensíveis à escala de um par de variáveis. \n",
    "\n",
    "Considere:\n",
    "\n",
    "- $\\bar{x}_j$ a média da variável $x_j$; \n",
    "- $s(x_j)$ o desvio padrão de $x_j$; \n",
    "\n",
    "Sendo $i = 1, 2,3,4,\\cdots, N$ e $j = 1, 2,3,4,\\cdots, n$.\n",
    "\n",
    "Com isso, a padronização pode ser realizada por meio da equação abaixo: \n",
    "\n",
    "- Média 0 e desvio padrão 1: \n",
    "\n",
    "$$ \\tilde{x}_{ij}= \\frac{x_{ij}-\\bar{x_j}}{s(X_j)} $$ \n",
    "\n",
    "<br>"
   ]
  },
  {
   "cell_type": "markdown",
   "metadata": {},
   "source": [
    "### Passo 2 - cálculo da matriz de covariância\n",
    "\n",
    "Calcular a matriz de **covariância**/**correlação**, que são dadas por:\n",
    "\n",
    "$$\n",
    "  S = \\left [ \\begin{array}{ccccc}\n",
    "\\hat{Var}(x_1) & \\hat{Cov}(x_1x_2) & \\hat{Cov}(x_1x_3) & \\cdots & \\hat{Cov}(x_1x_n)\\\\ \n",
    "\\hat{Cov}(x_2x_1) &\\hat{Var}(x_2)& \\hat{Cov}(x_2x_3) & \\cdots & \\hat{Cov}(x_2x_n)\\\\ \n",
    "\\vdots & \\vdots & \\vdots & \\cdots & \\vdots  \\\\\n",
    "\\hat{Cov}(x_nx_1) & \\hat{Cov}(x_nx_2)  & \\hat{Cov}(x_nx_3)  & \\cdots & \\hat{Var}(x_n)\\\\ \n",
    "   \\end{array} \\right ] \n",
    "$$\n",
    "\n",
    "<br>\n",
    "<br>\n",
    "\n",
    "$$\n",
    "  R = \\left [ \\begin{array}{ccccc}\n",
    "1 & r(x_1x_2) & r(x_1x_3) & \\cdots & r(x_1x_n)\\\\ \n",
    "r(x_2x_1) & 1 & r(x_2x_3) & \\cdots & r(x_2x_n)\\\\ \n",
    "\\vdots & \\vdots & \\vdots & \\cdots & \\vdots  \\\\\n",
    "r(x_nx_1) & r(x_nx_2)  & r(x_nx_3)  & \\cdots & 1\\\\ \n",
    "   \\end{array} \\right ] \n",
    "$$\n",
    "\n",
    "Em que:\n",
    "\n",
    "$$\n",
    " \\begin{array}{ccc}\n",
    "\\hat{Var}(x_j) = \\frac{\\sum_{i=1}^{N}(x_{ij}-\\bar{x}_j)^2}{N-1}, & \n",
    "\\hat{Cov}(x_{j1},x_{j2}) = \\frac{\\sum_{i=1}^N(x_{ij1}-\\bar{x_{j1}})(x_{ij2}-\\bar{x_{j2}})}{N-1}, &\n",
    "r(x_{j1},x_{j2}) = \\frac{\\hat{Cov}(x_{j1},x_{j2})}{S_{xj1}S_{xj2}}\n",
    "   \\end{array} \n",
    "$$\n",
    "\n",
    "<br>"
   ]
  },
  {
   "cell_type": "markdown",
   "metadata": {},
   "source": [
    "### Passo 3 - determinação de autovalores e autovetores\n",
    "\n",
    "As componentes principais são determinadas através da equação característica (equação de autovalores) da matriz S ou R:\n",
    "\n",
    "$$det[R - \\lambda I]= 0 $$\n",
    "\n",
    "Em que $I$ é a matriz identidade de dimensão $n \\times n $. \n",
    "\n",
    "Se R ou S tem posto completo igual a $n$, então $det[R - \\lambda I]= 0$, que pode ser reescrito como $\\mid R - \\lambda I \\mid = 0$, terá $n$ soluções. Lembrando que ter posto completo significa que nenhuma coluna é combinação linear de outra.\n",
    "\n",
    "Considere que $\\lambda_1,\\lambda_2,\\lambda_3, \\cdots, \\lambda_n$ sejam as raízes da equação característica de R ou S, então temos que  $\\lambda_1 > \\lambda_2 > \\lambda_3 > \\cdots, \\lambda_n$. \n",
    "\n",
    "Chamamos $\\lambda_i$ de **autovalores**. \n",
    "\n",
    "Além disso, para cada autovalor há um **autovetor** $\\tilde{a}_i$ associado, $\n",
    "  \\tilde{a}_i = \\left [ \\begin{array}{c}\n",
    "a_{i1}\\\\ \n",
    "a_{i2}\\\\ \n",
    "\\vdots \\\\\n",
    "a_{ip} \\\\ \n",
    "   \\end{array} \\right ] \n",
    "$\n",
    "\n",
    "O cálculo do autovetor $\\tilde{a}_i$, pode ser realizado considerando a seguinte propriedade:\n",
    "\n",
    "$$ R\\tilde{a}_i =  \\lambda_i \\tilde{a}_i $$\n",
    "\n",
    "O autovetor deve ser normalizado, isso é,\n",
    "\n",
    "$$ a_i = \\frac{\\tilde{a}_i }{\\mid \\tilde{a}_i  \\mid}$$\n",
    "\n",
    "Desta maneira, as componentes do vetor são tais que sua norma L2 é igual a 1.\n",
    "\n",
    "<br>"
   ]
  },
  {
   "cell_type": "markdown",
   "metadata": {},
   "source": [
    "### Passo 4 - cálculo das componentes principais\n",
    "\n",
    "O cálculo da i-ésima componente principal é dado por:\n",
    "\n",
    "$$PC_i = a_{i1}x_1 + a_{i2}x_2 + a_{i3}x_3 + \\cdots + a_{in}x_n $$\n",
    "\n",
    "em que $a_{i1}$ são as componetes do autovetor $a_i$ associado ao autovalor $\\lambda_i$."
   ]
  },
  {
   "cell_type": "markdown",
   "metadata": {},
   "source": [
    "__________\n",
    "\n",
    "Operacionalmente, o PCA se apoia em um procedimento matemático denominado **Singular Value Decomposition (SVD)**, que é uma forma de decompor qualquer matriz não quadrada $M_{m\\times n}$,\n",
    "\n",
    "$$M_{m\\times n} = U_{m \\times m}\\Sigma_{m \\times n}V_{n \\times n}^{\\dagger}$$\n",
    "\n",
    "- onde $U$ é uma matriz unitária $m\\times m$ real ou complexa;\n",
    "\n",
    "- $\\Sigma$ é uma matriz retangular diagonal $m\\times n$ com números reais não-negativos na diagonal;\n",
    "\n",
    "- e $V^{\\dagger}$ (a conjugada transposta de $V$) é uma matriz unitária $n\\times n$ real ou complexa. \n",
    "\n",
    "Os valores de $\\Sigma$ são os chamados valores singulares de $M$. As $m$ colunas de $U$ e as $n$ colunas de $V$ são os chamados vetores singulares à esquerda e vetores singulares à direita de $A$, respetivamente.\n",
    "\n",
    "<img src=https://upload.wikimedia.org/wikipedia/commons/thumb/c/c8/Singular_value_decomposition_visualisation.svg/800px-Singular_value_decomposition_visualisation.svg.png width=300>"
   ]
  }
 ],
 "metadata": {
  "kernelspec": {
   "display_name": "Python 3",
   "language": "python",
   "name": "python3"
  },
  "language_info": {
   "codemirror_mode": {
    "name": "ipython",
    "version": 3
   },
   "file_extension": ".py",
   "mimetype": "text/x-python",
   "name": "python",
   "nbconvert_exporter": "python",
   "pygments_lexer": "ipython3",
   "version": "3.8.3"
  }
 },
 "nbformat": 4,
 "nbformat_minor": 4
}
