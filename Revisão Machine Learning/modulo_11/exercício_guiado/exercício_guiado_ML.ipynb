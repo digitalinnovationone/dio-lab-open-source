{
 "cells": [
  {
   "cell_type": "markdown",
   "id": "0b6c7065",
   "metadata": {},
   "source": [
    "# Exercício guiado de Machine Learning\n",
    "\n",
    "## Advanced analytics no mercado de vinho\n",
    "_________"
   ]
  },
  {
   "cell_type": "markdown",
   "id": "1142ed5f",
   "metadata": {},
   "source": [
    "Suponha que você é um cientista de dados que trabalha na área de *advanced analytics* de uma empresa especializada na distribuição e vendas de vinhos tintos. Naturalmente, a empresa está interessada em vender vinhos que sejam percebidos como bons por grande parte do público. Pensando nisso, foi feita uma pesquisa, na qual vinhos tintos com diferentes características físico-químicas foram oferecidos a alguns voluntários, que, após experimentá-los, deram notas de 0 a 10. A base coletada contém as seguintes informações:\n",
    "\n",
    "- Medidas de 11 variáveis físico-químicas que caracterizam cada amostra (as features do problema):\n",
    "<br><br>\n",
    "    - 1 - fixed acidity - medida da acidez devido à presença de ácidos orgânicos de baixa volatilidade (ácido málico, lático, tartárico ou cítrico) no vinho;\n",
    "    - 2 - volatile acidity - medida da acidez devido a ácidos de baixo peso molecular (sobretudo ácido acético) presentes no vinho, que são responsáveis pelo aroma e gosto de vinagre;\n",
    "    - 3 - citric acid - medida de ácido cítrico no vinho;\n",
    "    - 4 - residual sugar - medida de açúcar residual presente no vinho, com origem nos resíduos de açúcar da uva que permanecem no vinho após o fim da fermentação;\n",
    "    - 5 - chlorides - medida de cloretos (íons de cloro) no vinho;\n",
    "    - 6 - free sulfur dioxide - medida de dióxido de enxofre livre (isto é, que não está ligado a outras moléculas) no vinho;\n",
    "    - 7 - total sulfur dioxide - medida de dióxido de enxofre total (livre + porção ligada a outras moléculas) no vinho;\n",
    "    - 8 - density - medida da densidade do vinho;\n",
    "    - 9 - pH - medida do pH do vinho;\n",
    "    - 10 - sulphates - medida de sulfatos (íons SO₄²⁻) no vinho;\n",
    "    - 11 - alcohol - medida da graduação alcoólica do vinho.\n",
    "<br><br>\n",
    "- Além disso, há a variável resposta que no caso é um score numérico:\n",
    "<br><br>\n",
    "    - 12 - quality - score numérico de qualidade (de 0 a 10), produzido com base em dados sensoriais.\n",
    "\n",
    "Com base nestes dados coletados, seu objetivo é produzir um modelo capaz de distinguir vinhos bons de ruins, com base nas medidas de suas características físico-químicas. \n",
    "\n",
    "Uma vez que tenhamos este modelo, caso produtoras de vinho ofereçam um novo vinho para ser vendido por sua empresa, será possível decidir de maneira mais direcionada se vale a pena passar a vender este produto ou não, de acordo com a predição de sua qualidade dada pelo modelo.\n",
    "\n",
    "Dentro deste contexto, seu objetivo como cientista de dados é claro:\n",
    "\n",
    "> Agregar valor ao negócio, explorando os dados que você tem à disposição.\n",
    "\n",
    "Na primeira sprint do projeto, você e outros colegas do time de ciência de dados chegaram na seguinte _TO-DO list_ para o desenvolvimento do projeto:\n",
    "\n",
    "- [ ] Ingestão dos dados e detalhada análise exploratória\n",
    "- [ ] Formulação do problema\n",
    "- [ ] Primeiro modelo baseline\n",
    "- [ ] Iterações pelo ciclo de modelagem\n",
    "- [ ] Compilação dos resultados para o negócio\n",
    "- [ ] Comunicação dos resultados\n",
    "\n",
    "Com base na TO-DO list acima, o time de data science quebrou a análise exploratória em algumas perguntas importantes a serem respondidas, antes da etapa de modelagem.\n",
    "\n",
    "Agora é com você! Bom trabalho, e divirta-se! :D"
   ]
  },
  {
   "cell_type": "markdown",
   "id": "835736a8",
   "metadata": {},
   "source": [
    "_________\n",
    "\n",
    "*Obs.: Naturalmente, o enunciado acima foi apenas uma historinha que criei pra motivar o problema em um contexto de negócio, rs. Para maiores informações sobre a coleta e origem real dos dados, veja a página do dataset no repositório UCI machine learning repository, [disponível aqui!](https://archive.ics.uci.edu/ml/datasets/wine+quality)* \n",
    "\n",
    "_________"
   ]
  },
  {
   "cell_type": "markdown",
   "id": "49d5b449",
   "metadata": {},
   "source": [
    "Vamos começar pelos primeiros pontos da TO-DO list:\n",
    "\n",
    "- [ ] Ingestão dos dados e detalhada análise exploratória\n",
    "- [ ] Formulação do problema"
   ]
  },
  {
   "cell_type": "markdown",
   "id": "d8f96e46",
   "metadata": {},
   "source": [
    "_______"
   ]
  },
  {
   "cell_type": "markdown",
   "id": "aeebee7b",
   "metadata": {},
   "source": [
    "1) Leia o arquivo csv `winequality-red.csv`, construindo um Data Frame do pandas. Responda:\n",
    "\n",
    "- Quantas linhas há no dataset?\n",
    "- Quantas colunas há no dataset?\n",
    "- Quais os tipos de dados em cada coluna?\n",
    "- Há dados nulos (null, missing) na base?"
   ]
  },
  {
   "cell_type": "code",
   "execution_count": null,
   "id": "37faca29",
   "metadata": {},
   "outputs": [],
   "source": []
  },
  {
   "cell_type": "markdown",
   "id": "6416a960",
   "metadata": {},
   "source": [
    "_______"
   ]
  },
  {
   "cell_type": "markdown",
   "id": "615e5a6c",
   "metadata": {},
   "source": [
    "2) Utilizando a base de vinhos tintos, estude a distribuição das variáveis numéricas, calculando, para cada coluna, as principais estatísticas descritivas de posição (média, mediana, quartis, etc.) e de dispersão (std, IQR, etc.). Se desejar, visualize as distribuições de cada variável na amostra."
   ]
  },
  {
   "cell_type": "code",
   "execution_count": null,
   "id": "aca64055",
   "metadata": {},
   "outputs": [],
   "source": []
  },
  {
   "cell_type": "markdown",
   "id": "79c31be1",
   "metadata": {},
   "source": [
    "_______"
   ]
  },
  {
   "cell_type": "markdown",
   "id": "8df12e60",
   "metadata": {},
   "source": [
    "3) Utilizando a base de vinhos tintos, responda: existe alguma coluna com outliers? Indique qual método de detecção de outliers você utilizou, justificando seu uso."
   ]
  },
  {
   "cell_type": "code",
   "execution_count": null,
   "id": "16cf5b78",
   "metadata": {},
   "outputs": [],
   "source": []
  },
  {
   "cell_type": "markdown",
   "id": "7ad24f16",
   "metadata": {},
   "source": [
    "_______"
   ]
  },
  {
   "cell_type": "markdown",
   "id": "dc77a411",
   "metadata": {},
   "source": [
    "4) Utilizando a base de vinhos tintos, estude os dados na coluna `quality`, que é a variável resposta do problema. Em particular, responda:\n",
    "\n",
    "- Essa é uma variável contínua ou discreta?\n",
    "- Como as notas estão distribuídas? Quais as notas mais/menos comuns?\n",
    "- Faz sentido discretizar esta variável em dois níveis categóricos? \n",
    "    - Se sim, qual seria o valor de corte, e, com este corte, qual é o significado de cada nível categórico?\n",
    "    - Como estes dois níveis categóricos estão distribuídos?"
   ]
  },
  {
   "cell_type": "code",
   "execution_count": null,
   "id": "97f48ebc",
   "metadata": {},
   "outputs": [],
   "source": []
  },
  {
   "cell_type": "markdown",
   "id": "9fcdf721",
   "metadata": {},
   "source": [
    "_______"
   ]
  },
  {
   "cell_type": "markdown",
   "id": "0a078e7c",
   "metadata": {},
   "source": [
    "5) Utilizando a base de vinhos tintos, calcule e/ou visualize a correlação (utilizando a relação que achar mais adequada) entre as variáveis na base. \n",
    "\n",
    "Em particular, estude a correlação entre as features e o target `quality`, e responda se há correlações fortes.\n",
    "\n",
    "Plote também a relação entre cada uma das features e o target (na forma de um scatterplot, por exemplo).\n",
    "\n",
    "Com base nas análises acima, responda: é uma boa ideia modelar o problema como um problema de regressão? Se sim, que métodos de aprendizagem você utilizaria?"
   ]
  },
  {
   "cell_type": "code",
   "execution_count": null,
   "id": "27fe290f",
   "metadata": {},
   "outputs": [],
   "source": []
  },
  {
   "cell_type": "markdown",
   "id": "41a9395e",
   "metadata": {},
   "source": [
    "_______"
   ]
  },
  {
   "cell_type": "markdown",
   "id": "19ea9499",
   "metadata": {},
   "source": [
    "6) Utilizando a base de vinhos tintos, calcule e/ou visualize (em um gráfico de barras, ou como preferir) o intervalo de confiança de 90% para a média de cada uma das variáveis físico-químicas, agrupadas pelos níveis categóricos da variável resposta `quality`. Que conclusões são possíveis tirar destes gráficos?\n",
    "\n",
    "Sugestão: utilizar o seaborn para a visualização."
   ]
  },
  {
   "cell_type": "code",
   "execution_count": null,
   "id": "956f759d",
   "metadata": {},
   "outputs": [],
   "source": []
  },
  {
   "cell_type": "markdown",
   "id": "26d4d149",
   "metadata": {},
   "source": [
    "_______"
   ]
  },
  {
   "cell_type": "markdown",
   "id": "b93ab071",
   "metadata": {},
   "source": [
    "7) Utilizando a base de vinhos tintos, discretize a variável resposta `quality` em dois níveis categóricos para transformar o problema em um problema de classificação binária. Como valor de corte, utilize aquele que seja tal que os dois níveis categóricos estejam o mais igualmente distribuídos possível (isto é, um corte que minimize o desbalanceamento das classes). Sugestão: teste todos os valores de corte possíveis (não são muitos!)\n",
    "\n",
    "Após a determinação do valor de corte que satisfaça às condições acima, responda: o que, qualitativamente, cada uma das duas classes representa? Esta discretização faz sentido? Se sim, para facilitar análises posteriores, nomeie as classes de acordo.\n",
    "\n",
    "Dica: vamos usar esta nova variável resposta binária nas análises dos próximos exercícios, então sugiro que o dataframe com esta variável seja salvo num arquivo, para que ele possa ser simplesmente lido posteriormente."
   ]
  },
  {
   "cell_type": "code",
   "execution_count": null,
   "id": "9ba95bfe",
   "metadata": {},
   "outputs": [],
   "source": []
  },
  {
   "cell_type": "markdown",
   "id": "e25b19e0",
   "metadata": {},
   "source": [
    "_______"
   ]
  },
  {
   "cell_type": "markdown",
   "id": "63bab758",
   "metadata": {},
   "source": [
    "8) Considere a base de vinhos tintos com a variável `quality` discretizada em duas classes (\"good\" para score maior que 5; \"bad\" caso contrário). Vamos agora analisar a separabilidade das duas classes do problema. Para isso, faça:\n",
    "\n",
    "- Visualize as distribuições das features, com indicação dos diferentes níveis categóricos do target;\n",
    "- Visualize as projeções dos dados em cada um dos subespaços de pares de features, com indicação dos níveis categóricos do target;\n",
    "\n",
    "Responda: com base nesta análise, o problema é linearmente separável?"
   ]
  },
  {
   "cell_type": "code",
   "execution_count": null,
   "id": "63d0a7f0",
   "metadata": {},
   "outputs": [],
   "source": []
  },
  {
   "cell_type": "markdown",
   "id": "89774d48",
   "metadata": {},
   "source": [
    "_______"
   ]
  },
  {
   "cell_type": "markdown",
   "id": "3c8d0260",
   "metadata": {},
   "source": [
    "9) Considere a base de vinhos tintos com a variável `quality` discretizada em duas classes (\"good\" para score maior que 5; \"bad\" caso contrário). Separe o dataset em dados de treino (70%) e de teste (30%), estratifidando pelo target. Utilize `random_state=42` como seed, para fins de reprodutibilidade.\n",
    "\n",
    "Apenas com os dados de treino, calcule as componentes principais do espaço de features, e responda:\n",
    "\n",
    "- Quantas componentes principais são necessárias para que pelo menos 90% da variância do dataset seja explicada?\n",
    "- Faça um scatterplot das duas primeiras componentes principais, com indicação dos níveis categóricos do target;\n",
    "    - No sub-espaço das duas primeiras componentes principais, há separabilidade linear dos dados?\n",
    "\n",
    "Dica: utilize as ferramentas do scikit-learn."
   ]
  },
  {
   "cell_type": "code",
   "execution_count": null,
   "id": "b9148353",
   "metadata": {},
   "outputs": [],
   "source": []
  },
  {
   "cell_type": "markdown",
   "id": "e860ef2e",
   "metadata": {},
   "source": [
    "_______"
   ]
  },
  {
   "cell_type": "markdown",
   "id": "beffea8a",
   "metadata": {},
   "source": [
    "10) Considere a base de vinhos tintos com a variável `quality` discretizada em duas classes (\"good\" para score maior que 5; \"bad\" caso contrário). Separe o dataset em dados de treino (70%) e de teste (30%), estratifidando pelo target. Utilize `random_state=42` como seed, para fins de reprodutibilidade. Usando os dados de treino, faça:\n",
    "\n",
    "- Agrupe os dados pelos níveis categóricos do target, e calcule a média de cada uma das features;\n",
    "\n",
    "- Faça um teste de hipótese para determinar se, a um nível de significância de 5%, há diferença na média de cada uma das sub-amostras de cada classe, para todas as variáveis;\n",
    "\n",
    "- Compare a distribuição das features analisando o boxplot de cada uma, separados pelas duas classes do target.\n",
    "\n",
    "Dica: utilize as ferramentas do scipy e do scikit-learn."
   ]
  },
  {
   "cell_type": "code",
   "execution_count": null,
   "id": "5460f197",
   "metadata": {},
   "outputs": [],
   "source": []
  },
  {
   "cell_type": "markdown",
   "id": "c46a349c",
   "metadata": {},
   "source": [
    "__________\n",
    "__________\n",
    "__________\n"
   ]
  },
  {
   "cell_type": "markdown",
   "id": "a3aa3dae",
   "metadata": {},
   "source": [
    "Uma vez que você tenha respondido às questões anteriores, você completou, talvez sem perceber, o importantíssimo (e longo!) processo de análise exploratória dos dados (EDA, do termo inglês _exploratory data analysis_)!\n",
    "\n",
    "De fato, a etapa de EDA é importantíssima em todo projeto de ciência de dados, pois é apenas explorando os dados que de fato nos familiarizamos com o contexto do problema com o qual estamos trabalhando, o que é fundamental para o sucesso das próximas etapas, que pode envolver a criação e avaliação de modelos de machine learning, que é exatamente o que faremos agora, endereçando os próximos pontos da TO-DO list:\n",
    "\n",
    "- [ ] Primeiro modelo baseline\n",
    "- [ ] Iterações pelo ciclo de modelagem\n",
    "\n",
    "Vamos lá!"
   ]
  },
  {
   "cell_type": "markdown",
   "id": "84abedb3",
   "metadata": {},
   "source": [
    "___________"
   ]
  },
  {
   "cell_type": "code",
   "execution_count": null,
   "id": "78eb6012",
   "metadata": {},
   "outputs": [],
   "source": [
    "# baseline e ciclo de modelagem!"
   ]
  },
  {
   "cell_type": "markdown",
   "id": "8d50839d",
   "metadata": {},
   "source": [
    "__________\n",
    "__________\n",
    "__________\n"
   ]
  },
  {
   "cell_type": "markdown",
   "id": "8ab0ac15",
   "metadata": {},
   "source": [
    "Agora que já passamos um bom tempo no ciclo de modelagem, e temos ótimos resultados, precisamos reportá-los para o negócio. Isto é, falta endereçar os dois últimos pontos da TO-DO list:\n",
    "\n",
    "- [ ] Compilação dos resultados para o negócio\n",
    "- [ ] Comunicação dos resultados\n",
    "\n",
    "Para isso, use e abuse de ferramentas de dataviz, faça uma apresentação no PPT, enfim, o que for necessário para passar a mensagem para o negócio de maneira efetiva e precisa. E, lembre-se, a equipe de negócio não é técnica, então trate de usar uma linguagem acessível e com o mínimo de tecnicalidades --- mas esteja preparado para perguntas técnicas (talvez com alguns slides ocultos no final da apresentação), pois nunca sabemos quando perguntas assim podem aparecer!"
   ]
  },
  {
   "cell_type": "code",
   "execution_count": null,
   "id": "25b3479e",
   "metadata": {},
   "outputs": [],
   "source": [
    "# comunicação de resultados"
   ]
  },
  {
   "cell_type": "markdown",
   "id": "89ec4cb1",
   "metadata": {},
   "source": [
    "__________\n",
    "__________\n",
    "__________\n"
   ]
  }
 ],
 "metadata": {
  "kernelspec": {
   "display_name": "Python 3",
   "language": "python",
   "name": "python3"
  },
  "language_info": {
   "codemirror_mode": {
    "name": "ipython",
    "version": 3
   },
   "file_extension": ".py",
   "mimetype": "text/x-python",
   "name": "python",
   "nbconvert_exporter": "python",
   "pygments_lexer": "ipython3",
   "version": "3.8.3"
  }
 },
 "nbformat": 4,
 "nbformat_minor": 5
}
