{
 "cells": [
  {
   "cell_type": "markdown",
   "metadata": {},
   "source": [
    "# Aula 1 - Machine Learning - Introdução\n",
    "\n",
    "____________"
   ]
  },
  {
   "cell_type": "markdown",
   "metadata": {},
   "source": [
    "A partir da aula de hoje, iniciaremos nossos estudos em Machine Learning.\n",
    "\n",
    "Antes de começarmos, vamos dar uma olhada novamente em alguns conceitos, e no que vamos aprender neste módulo!\n",
    "\n",
    "_______________"
   ]
  },
  {
   "cell_type": "markdown",
   "metadata": {},
   "source": [
    "Anteriormente, vimos qual é a jornada de um projeto de data science:\n",
    "\n",
    "<img src=\"https://www.abgconsultoria.com.br/blog/wp-content/uploads/img33-768x242.png\" width=700>"
   ]
  },
  {
   "cell_type": "markdown",
   "metadata": {},
   "source": [
    "## O que é \"modelagem\"?\n",
    "\n",
    "Já vimos anteriormente do que se trata machine learning, em um sentido mais amplo.\n",
    "\n",
    "Agora, o que exatamente é a \"modelagem\"? Ou melhor, **o que queremos alcançar ao construir um modelo?** \n",
    "\n",
    "Ou ainda, **o que um modelo representa?**\n",
    "\n",
    "Em linhas gerais, construímos um modelo com o objetivo de **representar a realidade** de maneira quantitativa e matemática.\n",
    "\n",
    "> Um modelo é uma descrição matemática/quantitativa de algum aspecto do problema que desejamos resolver"
   ]
  },
  {
   "cell_type": "markdown",
   "metadata": {},
   "source": [
    "Muitaz vezes, nos interessa **descobrir relações** em nosso universo de interesse, como, por exemplo, como as variáveis **se relacionam para produzir determinado resultado** ou **como elas estão estruturadas**.\n",
    "\n",
    "> É possível descobrir essas relações e estruturas partindo de uma **teoria**, em uma abordagem que chama-se **theory-driven**. Neste caso, partimos de **princípios fundamentais** para explicar o universo de interesse.\n",
    "\n",
    "> Como a abordagem acima é quase sempre extremamente complexa ou inpraticável, partimos para a aboragem **data-driven**, na qual **coletamos amostras do universo de interesse**, e essa amostra é utilizada para que tiremos conclusões, descubramos relações, etc.\n",
    "\n",
    "Observação: muitas vezes, **ambas as abordagens são utilizadas simultaneamente!** Elas não são exludentes!\n",
    "\n",
    "Ambas as abordagens resultam em **um modelo** para descrever a realidade.\n",
    "\n",
    "Mas, a segunda abordagem é **muito mais dependente da estatística**, para que seja possível avaliar **o quanto você pode confiar no modelo que você construiu**, ou ainda, **o quão útil ele é**.\n",
    "\n",
    "## <i>\"All models are wrong. But some are useful.\"\n",
    "\n",
    "\n",
    "_______"
   ]
  },
  {
   "cell_type": "markdown",
   "metadata": {},
   "source": [
    "Imagem da generalização para termos em mente:\n",
    "\n",
    "<img src=\"https://phhp-faculty-cantrell.sites.medinfo.ufl.edu/files/2012/07/mod10-big_picture_inference.gif\">"
   ]
  },
  {
   "cell_type": "markdown",
   "metadata": {},
   "source": [
    "Quando utilizamos **Machine Learning** para construir um modelo, os detalhes desta representação são **determinados (“aprendidos”)** a partir de dados, empiricamente, em contraste a uma abordagem theory-driven.\n",
    "\n",
    "Em geral, resolver um problema utilizando técnicas de ML é uma boa ideia se:\n",
    "\n",
    "    • Há dados disponíveis sobre o problema em questão;\n",
    "\n",
    "    • Existe um padrão que é refletido nos dados;\n",
    "\n",
    "    • Uma descrição teórica não é praticável."
   ]
  },
  {
   "cell_type": "markdown",
   "metadata": {},
   "source": [
    "No fim, todo modelo será representado **por uma equação matemática**.\n",
    "\n",
    "No entanto, essa equação pode ser extremamente complexa, de modo que raramente seremos capazes de escrever a equação completa. Mas não se preocupe com isso!\n",
    "\n",
    "<img src=\"https://miro.medium.com/max/2404/1*yLvf2jr_TNkEe9PKYOBDkA.png\" width=500>\n",
    "\n",
    "<img src=\"https://st3.ning.com/topology/rest/1.0/file/get/2808372468?profile=original\" width=500>\n",
    "\n",
    "____"
   ]
  },
  {
   "cell_type": "markdown",
   "metadata": {},
   "source": [
    "Muitas vezes, um modelo complexo não é necessário. \n",
    "\n",
    "Há problemas que são resolvidos com uma simples média!!\n",
    "\n",
    "Então, é muito importante que você como cientista de dados **foque em resolver o problema**, não importa como você fará isso. **Não tente matar uma mosca com um canhão!**\n",
    "\n",
    "É importante, sim, que você **tenha conhecimentos amplos** sobre o maior número possível de técnicas e ferramentas!\n",
    "\n",
    "\n",
    "Mas isso não quer dizer que você **precisa** de machine learning sempre! \n",
    "\n",
    "Então, novamente: foco no problema, não na técnica pela técnica com fim em si mesma!\n",
    "\n",
    "____"
   ]
  },
  {
   "cell_type": "markdown",
   "metadata": {},
   "source": [
    "Vamos focar agora um pouco mais no **ciclo de modelagem** e alguns de seus elementos importantes:"
   ]
  },
  {
   "cell_type": "markdown",
   "metadata": {},
   "source": [
    "<!-- <img src=\"https://techblog.cdiscount.com/assets/images/DataScience/automl/ML_process.png\" width=650> -->\n",
    "\n",
    "<img src=\"https://miro.medium.com/max/656/0*FKrWuLRbB_MiEIKh\">"
   ]
  },
  {
   "cell_type": "markdown",
   "metadata": {},
   "source": [
    "- **Conjunto de dados de treino**: são os dados utilizados para a construção do modelo, os dados que o modelo utilizará \"para aprender\"\n",
    "\n",
    "\n",
    "- **Treinamento do modelo/aprendizagem**: é a etapa em que cálculos matemáticos são feitos para que a equação que descreve o modelo seja criada! É assim que \"o modelo aprende!\". Não se preocupe: usaremos bibliotecas para fazer isso!\n",
    "\n",
    "\n",
    "- **Conjunto de dados de teste**: conjunto de dados utilizado para testar o modelo após ele ter sido treinado.\n",
    "\n",
    "\n",
    "- **Avaliação do modelo**: forma de avaliar a performance do modelo. Há várias métricas e formas diferentes de avaliação, que conheceremos melhor mais tarde."
   ]
  },
  {
   "cell_type": "markdown",
   "metadata": {},
   "source": [
    "Além dos elementos discutidos acima, há dois conceitos importantes, que veremos em maiores detalhes mais adiante no curso:\n",
    "\n",
    "- **Conjunto de dados de validação**: conjunto de dados usados para testar o modelo ainda em desenvolvimento, sobretudo com o objetivo de otimização de hiperparâmetros. Vamos discutir melhor sua importância quando falarmos de validação cruzada.\n",
    "\n",
    "- **Seleção de hiperparâmetros/seleção de modelo**: etapa em que os hiperperâmetros que constituem o modelo são selecionados. Aqui, técnicas como **grid search** e **cross validation** são muito importantes! Falaremos disso mais tarde.\n",
    "\n",
    "\n",
    "<img src=\"https://cdn-images-1.medium.com/max/1000/1*ZiYvylk60EY2XG7ck1lqJA.png\" width=400>\n",
    "\n",
    "___________"
   ]
  },
  {
   "cell_type": "markdown",
   "metadata": {},
   "source": [
    "No esquema acima, fica evidente que há duas grandes etapas no **ciclo de modelagem**:\n",
    "\n",
    "### Passo 1: construção do modelo\n",
    "\n",
    "### Passo 2: avaliação do modelo\n",
    "\n",
    "No decorrer do curso, vamos entender a fundo cada uma destas etapas, e as ferramentas associadas a cada uma delas!\n",
    "\n",
    "___________"
   ]
  },
  {
   "cell_type": "markdown",
   "metadata": {},
   "source": [
    "Nas aulas seguintes vamos estudar exemplos específicos de como iterar no ciclo de machine learning.\n",
    "\n",
    "Veremos que, de forma geral, o processo consiste em:\n",
    "\n",
    "- 0) Conhecer os dados com os quais estamos trabalhando --- fazer todo o processo de EDA, etc., etc.\n",
    "\n",
    "\n",
    "- 1) Importar a **classe do estimador que se deseja treinar** - escolher a hipótese!\n",
    "    - Usaremos a biblioteca [scikit-learn](https://scikit-learn.org/stable/)\n",
    "  \n",
    "  \n",
    "- 2) Instanciar a classe do estimador, **escolhendo os hiperparâmetros desejados**\n",
    "    - Para a primeira versão do modelo, pode ser uma boa escolha utilizar os hiperparâmetros default;\n",
    "    - Veremos mais pra frente como escolher os hiperparâmetros adequadamente;\n",
    "   \n",
    "   \n",
    "- 3) Separe os dados em **dados de treino** e **dados de teste**.\n",
    "    - Em alguns casos, pode ser interessante criar também um conjunto de **dados de validação**\n",
    "    - Para fazer a separação, usamos o [train-test split](https://scikit-learn.org/stable/modules/generated/sklearn.model_selection.train_test_split.html)\n",
    "    \n",
    "    \n",
    "- 4) Treine o modelo, usando **os dados de treino**\n",
    "\n",
    "\n",
    "- 5) Use o modelo treinado para **fazer previsões** usando os **dados de teste** (ou **de validação**)\n",
    "\n",
    "\n",
    "- 6) **Avalie a performance do modelo com base nas previsões acima**\n",
    "\n",
    "\n",
    "- 7) Se necessário, reinicie o ciclo!\n",
    "\n",
    "\n",
    "- 8) Quando o modelo estiver suficientemente bom, faça o **deploy**"
   ]
  },
  {
   "cell_type": "markdown",
   "metadata": {},
   "source": [
    "_____"
   ]
  },
  {
   "cell_type": "markdown",
   "metadata": {},
   "source": [
    "Antes de criarmos qualquer modelo, precisamos nos perguntar: **que tipo de problema estou querendo resolver?**\n",
    "\n",
    "Pois o algoritmo de ML que você vai utilizar depende diretamente do tipo de problema que você deseja resolver!\n",
    "\n",
    "Como um guia inicial, a imagem a seguir é muitíssimo útil:"
   ]
  },
  {
   "cell_type": "markdown",
   "metadata": {},
   "source": [
    "<img src=\"https://scikit-learn.org/stable/_static/ml_map.png\" width=900>\n",
    "\n",
    "[Clique Aqui](https://scikit-learn.org/stable/tutorial/machine_learning_map/index.html) para a versão interativa online com links para as páginas de cada estimador!"
   ]
  },
  {
   "cell_type": "markdown",
   "metadata": {},
   "source": [
    "___________\n",
    "\n",
    "Inicialmente, focaremos em métodos de **aprendizagem supervisionada**, que nos auxiliarão a endereçar problemas de **regressão** e **classificação**, que se diferem de maneira muito simples:\n",
    "\n",
    "> Um problema de regressão tem **target contínuo**;\n",
    "\n",
    "> Um problema de classificação **tem target discreto**;\n",
    "\n",
    "<img src=https://static.javatpoint.com/tutorial/machine-learning/images/regression-vs-classification-in-machine-learning.png width=400>\n",
    "\n",
    "<img src=https://miro.medium.com/max/1400/1*wH09k0DhF4JQhVMymtVQHQ.jpeg width=400>\n",
    "\n",
    "A diferenciação entre problemas de classificação e regressão é muito importante (e muito simples de fazer, conforme indicado acima!), sendo nosso principal guia para a determinação dos métodos a serem utilizados tanto na construção quanto na avaliação de um modelo!"
   ]
  },
  {
   "cell_type": "markdown",
   "metadata": {},
   "source": [
    "____\n",
    "\n",
    "Nas próximas aulas, vamos ver exemplos específicos de algoritmos e problemas que eles resolvem.\n",
    "\n",
    "Nossa abordagem será prática e direta. Falaremos brevemente da teoria, mas evitaremos detalhes matemáticos desnecessariamente profundos.\n",
    "\n",
    "Para quem tiver interessado em descobrir mais a fundo sobre os modelos que vamos discutir, recomendo [este livro](https://www.statlearning.com/) para uma primeira exposição, e [este livro](https://web.stanford.edu/~hastie/ElemStatLearn/) para uma abordagem ainda mais profunda e detalhada!\n",
    "\n",
    "Durante as aulas, tocaremos em alguns conceitos da chamada **teoria de aprendizagem estatística**, que é a teoria matemática que fundamenta o que é feito em ML. Aos interessados em maior formalização matemática, indico [este curso](https://work.caltech.edu/telecourse), para uma introdução com rigor matemático, mas acessível; e indico [este livro](https://cs.nyu.edu/~mohri/mlbook/) para quem quiser se aprofundar mais na matemática."
   ]
  },
  {
   "cell_type": "markdown",
   "metadata": {},
   "source": [
    "______\n",
    "\n",
    "E para quem quise descobir um pouco mais sobre estatística, inferência, e as bases para ML, recomendo alguns dos livros [deste site](https://www.openintro.org/book/stat/). O site também tem ótimos tutoriais e um fórum!"
   ]
  }
 ],
 "metadata": {
  "kernelspec": {
   "display_name": "Python 3",
   "language": "python",
   "name": "python3"
  },
  "language_info": {
   "codemirror_mode": {
    "name": "ipython",
    "version": 3
   },
   "file_extension": ".py",
   "mimetype": "text/x-python",
   "name": "python",
   "nbconvert_exporter": "python",
   "pygments_lexer": "ipython3",
   "version": "3.8.3"
  }
 },
 "nbformat": 4,
 "nbformat_minor": 4
}
