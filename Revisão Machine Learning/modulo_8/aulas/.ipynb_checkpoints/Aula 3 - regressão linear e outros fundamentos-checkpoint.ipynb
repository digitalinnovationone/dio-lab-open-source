{
 "cells": [
  {
   "cell_type": "markdown",
   "metadata": {},
   "source": [
    "# Aula 3 - Regressão linear\n",
    "\n",
    "Na aula de hoje, vamos explorar os seguintes tópicos em Python:\n",
    "\n",
    "- 1) Introdução\n",
    "- 2) Regressão linear simples\n",
    "- 3) Regressão linear múltipla\n",
    "- 4) Overfitting: um dos lados do tradeoff viés-variância"
   ]
  },
  {
   "cell_type": "markdown",
   "metadata": {},
   "source": [
    "____\n",
    "____\n",
    "____"
   ]
  },
  {
   "cell_type": "markdown",
   "metadata": {},
   "source": [
    "## 1) Introdução\n",
    "\n",
    "Imagine que você quer vender sua casa.\n",
    "\n",
    "Você sabe os atributos da sua casa: quantos cômodos têm, quantos carros cabem na garagem, qual é a área construída, qual sua localidade, etc.\n",
    "\n",
    "Agora, a pergunta é: qual seria o melhor preço pra você colocá-la a venda, ou seja, quanto de fato ela vale?\n",
    "\n",
    "Você pode solicitar a avaliação de um corretor de imóveis (contando com a experiência dele), ou então...\n",
    "\n",
    "...fazer um modelo de **Machine Learning**, que, com base nos atributos e preços de diversas outras casas, pode fazer uma **predição** sobre o preço adequado da sua casa!\n",
    "\n",
    "Para resolver este problema, podemos utilizar um dos mais simples e importantes algoritmos de machine learning: a **Regressão Linear!**\n",
    "\n",
    "____"
   ]
  },
  {
   "cell_type": "markdown",
   "metadata": {},
   "source": [
    "Para introduzirmos as ideias, vamos usar um [dataset de preço de casas](https://www.kaggle.com/c/house-prices-advanced-regression-techniques/data).\n",
    "\n",
    "Esta base de dados contém **79 features** (+ 1 ID), que são as características de cada uma das casas listadas; e **1 target** (`SalePrice`), que é o preço pelo qual aquela casa foi vendida.\n",
    "\n",
    "Por termos o target disponível, estamos trabalhando com um problema de **aprendizagem supervisionada**.\n",
    "\n",
    "Para o significado de cada uma das features, e os valores que elas podem assumir, veja a página acima.\n",
    "\n",
    "**Vamos ler a base e começar a explorá-la!**"
   ]
  },
  {
   "cell_type": "code",
   "execution_count": 1,
   "metadata": {
    "ExecuteTime": {
     "end_time": "2022-05-13T21:28:23.955354Z",
     "start_time": "2022-05-13T21:28:20.725208Z"
    }
   },
   "outputs": [],
   "source": [
    "import pandas as pd\n",
    "import numpy as np\n",
    "import matplotlib.pyplot as plt\n",
    "import seaborn as sns"
   ]
  },
  {
   "cell_type": "code",
   "execution_count": 2,
   "metadata": {
    "ExecuteTime": {
     "end_time": "2022-05-13T21:28:24.237913Z",
     "start_time": "2022-05-13T21:28:23.955354Z"
    }
   },
   "outputs": [],
   "source": [
    "df = pd.read_csv(\"../datasets/house_prices.csv\")"
   ]
  },
  {
   "cell_type": "code",
   "execution_count": 3,
   "metadata": {
    "ExecuteTime": {
     "end_time": "2022-05-13T21:28:24.332830Z",
     "start_time": "2022-05-13T21:28:24.241127Z"
    }
   },
   "outputs": [
    {
     "data": {
      "text/html": [
       "<div>\n",
       "<style scoped>\n",
       "    .dataframe tbody tr th:only-of-type {\n",
       "        vertical-align: middle;\n",
       "    }\n",
       "\n",
       "    .dataframe tbody tr th {\n",
       "        vertical-align: top;\n",
       "    }\n",
       "\n",
       "    .dataframe thead th {\n",
       "        text-align: right;\n",
       "    }\n",
       "</style>\n",
       "<table border=\"1\" class=\"dataframe\">\n",
       "  <thead>\n",
       "    <tr style=\"text-align: right;\">\n",
       "      <th></th>\n",
       "      <th>Id</th>\n",
       "      <th>MSSubClass</th>\n",
       "      <th>MSZoning</th>\n",
       "      <th>LotFrontage</th>\n",
       "      <th>LotArea</th>\n",
       "      <th>Street</th>\n",
       "      <th>Alley</th>\n",
       "      <th>LotShape</th>\n",
       "      <th>LandContour</th>\n",
       "      <th>Utilities</th>\n",
       "      <th>...</th>\n",
       "      <th>PoolArea</th>\n",
       "      <th>PoolQC</th>\n",
       "      <th>Fence</th>\n",
       "      <th>MiscFeature</th>\n",
       "      <th>MiscVal</th>\n",
       "      <th>MoSold</th>\n",
       "      <th>YrSold</th>\n",
       "      <th>SaleType</th>\n",
       "      <th>SaleCondition</th>\n",
       "      <th>SalePrice</th>\n",
       "    </tr>\n",
       "  </thead>\n",
       "  <tbody>\n",
       "    <tr>\n",
       "      <th>0</th>\n",
       "      <td>1</td>\n",
       "      <td>60</td>\n",
       "      <td>RL</td>\n",
       "      <td>65.0</td>\n",
       "      <td>8450</td>\n",
       "      <td>Pave</td>\n",
       "      <td>NaN</td>\n",
       "      <td>Reg</td>\n",
       "      <td>Lvl</td>\n",
       "      <td>AllPub</td>\n",
       "      <td>...</td>\n",
       "      <td>0</td>\n",
       "      <td>NaN</td>\n",
       "      <td>NaN</td>\n",
       "      <td>NaN</td>\n",
       "      <td>0</td>\n",
       "      <td>2</td>\n",
       "      <td>2008</td>\n",
       "      <td>WD</td>\n",
       "      <td>Normal</td>\n",
       "      <td>208500</td>\n",
       "    </tr>\n",
       "    <tr>\n",
       "      <th>1</th>\n",
       "      <td>2</td>\n",
       "      <td>20</td>\n",
       "      <td>RL</td>\n",
       "      <td>80.0</td>\n",
       "      <td>9600</td>\n",
       "      <td>Pave</td>\n",
       "      <td>NaN</td>\n",
       "      <td>Reg</td>\n",
       "      <td>Lvl</td>\n",
       "      <td>AllPub</td>\n",
       "      <td>...</td>\n",
       "      <td>0</td>\n",
       "      <td>NaN</td>\n",
       "      <td>NaN</td>\n",
       "      <td>NaN</td>\n",
       "      <td>0</td>\n",
       "      <td>5</td>\n",
       "      <td>2007</td>\n",
       "      <td>WD</td>\n",
       "      <td>Normal</td>\n",
       "      <td>181500</td>\n",
       "    </tr>\n",
       "    <tr>\n",
       "      <th>2</th>\n",
       "      <td>3</td>\n",
       "      <td>60</td>\n",
       "      <td>RL</td>\n",
       "      <td>68.0</td>\n",
       "      <td>11250</td>\n",
       "      <td>Pave</td>\n",
       "      <td>NaN</td>\n",
       "      <td>IR1</td>\n",
       "      <td>Lvl</td>\n",
       "      <td>AllPub</td>\n",
       "      <td>...</td>\n",
       "      <td>0</td>\n",
       "      <td>NaN</td>\n",
       "      <td>NaN</td>\n",
       "      <td>NaN</td>\n",
       "      <td>0</td>\n",
       "      <td>9</td>\n",
       "      <td>2008</td>\n",
       "      <td>WD</td>\n",
       "      <td>Normal</td>\n",
       "      <td>223500</td>\n",
       "    </tr>\n",
       "    <tr>\n",
       "      <th>3</th>\n",
       "      <td>4</td>\n",
       "      <td>70</td>\n",
       "      <td>RL</td>\n",
       "      <td>60.0</td>\n",
       "      <td>9550</td>\n",
       "      <td>Pave</td>\n",
       "      <td>NaN</td>\n",
       "      <td>IR1</td>\n",
       "      <td>Lvl</td>\n",
       "      <td>AllPub</td>\n",
       "      <td>...</td>\n",
       "      <td>0</td>\n",
       "      <td>NaN</td>\n",
       "      <td>NaN</td>\n",
       "      <td>NaN</td>\n",
       "      <td>0</td>\n",
       "      <td>2</td>\n",
       "      <td>2006</td>\n",
       "      <td>WD</td>\n",
       "      <td>Abnorml</td>\n",
       "      <td>140000</td>\n",
       "    </tr>\n",
       "    <tr>\n",
       "      <th>4</th>\n",
       "      <td>5</td>\n",
       "      <td>60</td>\n",
       "      <td>RL</td>\n",
       "      <td>84.0</td>\n",
       "      <td>14260</td>\n",
       "      <td>Pave</td>\n",
       "      <td>NaN</td>\n",
       "      <td>IR1</td>\n",
       "      <td>Lvl</td>\n",
       "      <td>AllPub</td>\n",
       "      <td>...</td>\n",
       "      <td>0</td>\n",
       "      <td>NaN</td>\n",
       "      <td>NaN</td>\n",
       "      <td>NaN</td>\n",
       "      <td>0</td>\n",
       "      <td>12</td>\n",
       "      <td>2008</td>\n",
       "      <td>WD</td>\n",
       "      <td>Normal</td>\n",
       "      <td>250000</td>\n",
       "    </tr>\n",
       "    <tr>\n",
       "      <th>...</th>\n",
       "      <td>...</td>\n",
       "      <td>...</td>\n",
       "      <td>...</td>\n",
       "      <td>...</td>\n",
       "      <td>...</td>\n",
       "      <td>...</td>\n",
       "      <td>...</td>\n",
       "      <td>...</td>\n",
       "      <td>...</td>\n",
       "      <td>...</td>\n",
       "      <td>...</td>\n",
       "      <td>...</td>\n",
       "      <td>...</td>\n",
       "      <td>...</td>\n",
       "      <td>...</td>\n",
       "      <td>...</td>\n",
       "      <td>...</td>\n",
       "      <td>...</td>\n",
       "      <td>...</td>\n",
       "      <td>...</td>\n",
       "      <td>...</td>\n",
       "    </tr>\n",
       "    <tr>\n",
       "      <th>1455</th>\n",
       "      <td>1456</td>\n",
       "      <td>60</td>\n",
       "      <td>RL</td>\n",
       "      <td>62.0</td>\n",
       "      <td>7917</td>\n",
       "      <td>Pave</td>\n",
       "      <td>NaN</td>\n",
       "      <td>Reg</td>\n",
       "      <td>Lvl</td>\n",
       "      <td>AllPub</td>\n",
       "      <td>...</td>\n",
       "      <td>0</td>\n",
       "      <td>NaN</td>\n",
       "      <td>NaN</td>\n",
       "      <td>NaN</td>\n",
       "      <td>0</td>\n",
       "      <td>8</td>\n",
       "      <td>2007</td>\n",
       "      <td>WD</td>\n",
       "      <td>Normal</td>\n",
       "      <td>175000</td>\n",
       "    </tr>\n",
       "    <tr>\n",
       "      <th>1456</th>\n",
       "      <td>1457</td>\n",
       "      <td>20</td>\n",
       "      <td>RL</td>\n",
       "      <td>85.0</td>\n",
       "      <td>13175</td>\n",
       "      <td>Pave</td>\n",
       "      <td>NaN</td>\n",
       "      <td>Reg</td>\n",
       "      <td>Lvl</td>\n",
       "      <td>AllPub</td>\n",
       "      <td>...</td>\n",
       "      <td>0</td>\n",
       "      <td>NaN</td>\n",
       "      <td>MnPrv</td>\n",
       "      <td>NaN</td>\n",
       "      <td>0</td>\n",
       "      <td>2</td>\n",
       "      <td>2010</td>\n",
       "      <td>WD</td>\n",
       "      <td>Normal</td>\n",
       "      <td>210000</td>\n",
       "    </tr>\n",
       "    <tr>\n",
       "      <th>1457</th>\n",
       "      <td>1458</td>\n",
       "      <td>70</td>\n",
       "      <td>RL</td>\n",
       "      <td>66.0</td>\n",
       "      <td>9042</td>\n",
       "      <td>Pave</td>\n",
       "      <td>NaN</td>\n",
       "      <td>Reg</td>\n",
       "      <td>Lvl</td>\n",
       "      <td>AllPub</td>\n",
       "      <td>...</td>\n",
       "      <td>0</td>\n",
       "      <td>NaN</td>\n",
       "      <td>GdPrv</td>\n",
       "      <td>Shed</td>\n",
       "      <td>2500</td>\n",
       "      <td>5</td>\n",
       "      <td>2010</td>\n",
       "      <td>WD</td>\n",
       "      <td>Normal</td>\n",
       "      <td>266500</td>\n",
       "    </tr>\n",
       "    <tr>\n",
       "      <th>1458</th>\n",
       "      <td>1459</td>\n",
       "      <td>20</td>\n",
       "      <td>RL</td>\n",
       "      <td>68.0</td>\n",
       "      <td>9717</td>\n",
       "      <td>Pave</td>\n",
       "      <td>NaN</td>\n",
       "      <td>Reg</td>\n",
       "      <td>Lvl</td>\n",
       "      <td>AllPub</td>\n",
       "      <td>...</td>\n",
       "      <td>0</td>\n",
       "      <td>NaN</td>\n",
       "      <td>NaN</td>\n",
       "      <td>NaN</td>\n",
       "      <td>0</td>\n",
       "      <td>4</td>\n",
       "      <td>2010</td>\n",
       "      <td>WD</td>\n",
       "      <td>Normal</td>\n",
       "      <td>142125</td>\n",
       "    </tr>\n",
       "    <tr>\n",
       "      <th>1459</th>\n",
       "      <td>1460</td>\n",
       "      <td>20</td>\n",
       "      <td>RL</td>\n",
       "      <td>75.0</td>\n",
       "      <td>9937</td>\n",
       "      <td>Pave</td>\n",
       "      <td>NaN</td>\n",
       "      <td>Reg</td>\n",
       "      <td>Lvl</td>\n",
       "      <td>AllPub</td>\n",
       "      <td>...</td>\n",
       "      <td>0</td>\n",
       "      <td>NaN</td>\n",
       "      <td>NaN</td>\n",
       "      <td>NaN</td>\n",
       "      <td>0</td>\n",
       "      <td>6</td>\n",
       "      <td>2008</td>\n",
       "      <td>WD</td>\n",
       "      <td>Normal</td>\n",
       "      <td>147500</td>\n",
       "    </tr>\n",
       "  </tbody>\n",
       "</table>\n",
       "<p>1460 rows × 81 columns</p>\n",
       "</div>"
      ],
      "text/plain": [
       "        Id  MSSubClass MSZoning  LotFrontage  LotArea Street Alley LotShape  \\\n",
       "0        1          60       RL         65.0     8450   Pave   NaN      Reg   \n",
       "1        2          20       RL         80.0     9600   Pave   NaN      Reg   \n",
       "2        3          60       RL         68.0    11250   Pave   NaN      IR1   \n",
       "3        4          70       RL         60.0     9550   Pave   NaN      IR1   \n",
       "4        5          60       RL         84.0    14260   Pave   NaN      IR1   \n",
       "...    ...         ...      ...          ...      ...    ...   ...      ...   \n",
       "1455  1456          60       RL         62.0     7917   Pave   NaN      Reg   \n",
       "1456  1457          20       RL         85.0    13175   Pave   NaN      Reg   \n",
       "1457  1458          70       RL         66.0     9042   Pave   NaN      Reg   \n",
       "1458  1459          20       RL         68.0     9717   Pave   NaN      Reg   \n",
       "1459  1460          20       RL         75.0     9937   Pave   NaN      Reg   \n",
       "\n",
       "     LandContour Utilities  ... PoolArea PoolQC  Fence MiscFeature MiscVal  \\\n",
       "0            Lvl    AllPub  ...        0    NaN    NaN         NaN       0   \n",
       "1            Lvl    AllPub  ...        0    NaN    NaN         NaN       0   \n",
       "2            Lvl    AllPub  ...        0    NaN    NaN         NaN       0   \n",
       "3            Lvl    AllPub  ...        0    NaN    NaN         NaN       0   \n",
       "4            Lvl    AllPub  ...        0    NaN    NaN         NaN       0   \n",
       "...          ...       ...  ...      ...    ...    ...         ...     ...   \n",
       "1455         Lvl    AllPub  ...        0    NaN    NaN         NaN       0   \n",
       "1456         Lvl    AllPub  ...        0    NaN  MnPrv         NaN       0   \n",
       "1457         Lvl    AllPub  ...        0    NaN  GdPrv        Shed    2500   \n",
       "1458         Lvl    AllPub  ...        0    NaN    NaN         NaN       0   \n",
       "1459         Lvl    AllPub  ...        0    NaN    NaN         NaN       0   \n",
       "\n",
       "     MoSold YrSold  SaleType  SaleCondition  SalePrice  \n",
       "0         2   2008        WD         Normal     208500  \n",
       "1         5   2007        WD         Normal     181500  \n",
       "2         9   2008        WD         Normal     223500  \n",
       "3         2   2006        WD        Abnorml     140000  \n",
       "4        12   2008        WD         Normal     250000  \n",
       "...     ...    ...       ...            ...        ...  \n",
       "1455      8   2007        WD         Normal     175000  \n",
       "1456      2   2010        WD         Normal     210000  \n",
       "1457      5   2010        WD         Normal     266500  \n",
       "1458      4   2010        WD         Normal     142125  \n",
       "1459      6   2008        WD         Normal     147500  \n",
       "\n",
       "[1460 rows x 81 columns]"
      ]
     },
     "execution_count": 3,
     "metadata": {},
     "output_type": "execute_result"
    }
   ],
   "source": [
    "df"
   ]
  },
  {
   "cell_type": "code",
   "execution_count": 4,
   "metadata": {
    "ExecuteTime": {
     "end_time": "2022-05-13T21:28:24.585804Z",
     "start_time": "2022-05-13T21:28:24.351817Z"
    },
    "scrolled": true
   },
   "outputs": [
    {
     "name": "stdout",
     "output_type": "stream",
     "text": [
      "<class 'pandas.core.frame.DataFrame'>\n",
      "RangeIndex: 1460 entries, 0 to 1459\n",
      "Data columns (total 81 columns):\n",
      " #   Column         Non-Null Count  Dtype  \n",
      "---  ------         --------------  -----  \n",
      " 0   Id             1460 non-null   int64  \n",
      " 1   MSSubClass     1460 non-null   int64  \n",
      " 2   MSZoning       1460 non-null   object \n",
      " 3   LotFrontage    1201 non-null   float64\n",
      " 4   LotArea        1460 non-null   int64  \n",
      " 5   Street         1460 non-null   object \n",
      " 6   Alley          91 non-null     object \n",
      " 7   LotShape       1460 non-null   object \n",
      " 8   LandContour    1460 non-null   object \n",
      " 9   Utilities      1460 non-null   object \n",
      " 10  LotConfig      1460 non-null   object \n",
      " 11  LandSlope      1460 non-null   object \n",
      " 12  Neighborhood   1460 non-null   object \n",
      " 13  Condition1     1460 non-null   object \n",
      " 14  Condition2     1460 non-null   object \n",
      " 15  BldgType       1460 non-null   object \n",
      " 16  HouseStyle     1460 non-null   object \n",
      " 17  OverallQual    1460 non-null   int64  \n",
      " 18  OverallCond    1460 non-null   int64  \n",
      " 19  YearBuilt      1460 non-null   int64  \n",
      " 20  YearRemodAdd   1460 non-null   int64  \n",
      " 21  RoofStyle      1460 non-null   object \n",
      " 22  RoofMatl       1460 non-null   object \n",
      " 23  Exterior1st    1460 non-null   object \n",
      " 24  Exterior2nd    1460 non-null   object \n",
      " 25  MasVnrType     1452 non-null   object \n",
      " 26  MasVnrArea     1452 non-null   float64\n",
      " 27  ExterQual      1460 non-null   object \n",
      " 28  ExterCond      1460 non-null   object \n",
      " 29  Foundation     1460 non-null   object \n",
      " 30  BsmtQual       1423 non-null   object \n",
      " 31  BsmtCond       1423 non-null   object \n",
      " 32  BsmtExposure   1422 non-null   object \n",
      " 33  BsmtFinType1   1423 non-null   object \n",
      " 34  BsmtFinSF1     1460 non-null   int64  \n",
      " 35  BsmtFinType2   1422 non-null   object \n",
      " 36  BsmtFinSF2     1460 non-null   int64  \n",
      " 37  BsmtUnfSF      1460 non-null   int64  \n",
      " 38  TotalBsmtSF    1460 non-null   int64  \n",
      " 39  Heating        1460 non-null   object \n",
      " 40  HeatingQC      1460 non-null   object \n",
      " 41  CentralAir     1460 non-null   object \n",
      " 42  Electrical     1459 non-null   object \n",
      " 43  1stFlrSF       1460 non-null   int64  \n",
      " 44  2ndFlrSF       1460 non-null   int64  \n",
      " 45  LowQualFinSF   1460 non-null   int64  \n",
      " 46  GrLivArea      1460 non-null   int64  \n",
      " 47  BsmtFullBath   1460 non-null   int64  \n",
      " 48  BsmtHalfBath   1460 non-null   int64  \n",
      " 49  FullBath       1460 non-null   int64  \n",
      " 50  HalfBath       1460 non-null   int64  \n",
      " 51  BedroomAbvGr   1460 non-null   int64  \n",
      " 52  KitchenAbvGr   1460 non-null   int64  \n",
      " 53  KitchenQual    1460 non-null   object \n",
      " 54  TotRmsAbvGrd   1460 non-null   int64  \n",
      " 55  Functional     1460 non-null   object \n",
      " 56  Fireplaces     1460 non-null   int64  \n",
      " 57  FireplaceQu    770 non-null    object \n",
      " 58  GarageType     1379 non-null   object \n",
      " 59  GarageYrBlt    1379 non-null   float64\n",
      " 60  GarageFinish   1379 non-null   object \n",
      " 61  GarageCars     1460 non-null   int64  \n",
      " 62  GarageArea     1460 non-null   int64  \n",
      " 63  GarageQual     1379 non-null   object \n",
      " 64  GarageCond     1379 non-null   object \n",
      " 65  PavedDrive     1460 non-null   object \n",
      " 66  WoodDeckSF     1460 non-null   int64  \n",
      " 67  OpenPorchSF    1460 non-null   int64  \n",
      " 68  EnclosedPorch  1460 non-null   int64  \n",
      " 69  3SsnPorch      1460 non-null   int64  \n",
      " 70  ScreenPorch    1460 non-null   int64  \n",
      " 71  PoolArea       1460 non-null   int64  \n",
      " 72  PoolQC         7 non-null      object \n",
      " 73  Fence          281 non-null    object \n",
      " 74  MiscFeature    54 non-null     object \n",
      " 75  MiscVal        1460 non-null   int64  \n",
      " 76  MoSold         1460 non-null   int64  \n",
      " 77  YrSold         1460 non-null   int64  \n",
      " 78  SaleType       1460 non-null   object \n",
      " 79  SaleCondition  1460 non-null   object \n",
      " 80  SalePrice      1460 non-null   int64  \n",
      "dtypes: float64(3), int64(35), object(43)\n",
      "memory usage: 924.0+ KB\n"
     ]
    }
   ],
   "source": [
    "df.info()"
   ]
  },
  {
   "cell_type": "code",
   "execution_count": 5,
   "metadata": {
    "ExecuteTime": {
     "end_time": "2022-05-13T21:28:24.728711Z",
     "start_time": "2022-05-13T21:28:24.588784Z"
    }
   },
   "outputs": [],
   "source": [
    "nulos = df.isnull().sum()"
   ]
  },
  {
   "cell_type": "code",
   "execution_count": 6,
   "metadata": {
    "ExecuteTime": {
     "end_time": "2022-05-13T21:28:24.868368Z",
     "start_time": "2022-05-13T21:28:24.731713Z"
    }
   },
   "outputs": [
    {
     "data": {
      "text/plain": [
       "LotFrontage      259\n",
       "Alley           1369\n",
       "MasVnrType         8\n",
       "MasVnrArea         8\n",
       "BsmtQual          37\n",
       "BsmtCond          37\n",
       "BsmtExposure      38\n",
       "BsmtFinType1      37\n",
       "BsmtFinType2      38\n",
       "Electrical         1\n",
       "FireplaceQu      690\n",
       "GarageType        81\n",
       "GarageYrBlt       81\n",
       "GarageFinish      81\n",
       "GarageQual        81\n",
       "GarageCond        81\n",
       "PoolQC          1453\n",
       "Fence           1179\n",
       "MiscFeature     1406\n",
       "dtype: int64"
      ]
     },
     "execution_count": 6,
     "metadata": {},
     "output_type": "execute_result"
    }
   ],
   "source": [
    "nulos[nulos > 0]"
   ]
  },
  {
   "cell_type": "code",
   "execution_count": 7,
   "metadata": {
    "ExecuteTime": {
     "end_time": "2022-05-13T21:28:24.995909Z",
     "start_time": "2022-05-13T21:28:24.870367Z"
    }
   },
   "outputs": [
    {
     "data": {
      "text/plain": [
       "LotFrontage     17.739726\n",
       "Alley           93.767123\n",
       "MasVnrType       0.547945\n",
       "MasVnrArea       0.547945\n",
       "BsmtQual         2.534247\n",
       "BsmtCond         2.534247\n",
       "BsmtExposure     2.602740\n",
       "BsmtFinType1     2.534247\n",
       "BsmtFinType2     2.602740\n",
       "Electrical       0.068493\n",
       "FireplaceQu     47.260274\n",
       "GarageType       5.547945\n",
       "GarageYrBlt      5.547945\n",
       "GarageFinish     5.547945\n",
       "GarageQual       5.547945\n",
       "GarageCond       5.547945\n",
       "PoolQC          99.520548\n",
       "Fence           80.753425\n",
       "MiscFeature     96.301370\n",
       "dtype: float64"
      ]
     },
     "execution_count": 7,
     "metadata": {},
     "output_type": "execute_result"
    }
   ],
   "source": [
    "(nulos[nulos > 0]/df.shape[0])*100"
   ]
  },
  {
   "cell_type": "code",
   "execution_count": 8,
   "metadata": {
    "ExecuteTime": {
     "end_time": "2022-05-13T21:28:25.153968Z",
     "start_time": "2022-05-13T21:28:25.000833Z"
    },
    "scrolled": true
   },
   "outputs": [
    {
     "data": {
      "text/plain": [
       "['MSZoning',\n",
       " 'Street',\n",
       " 'Alley',\n",
       " 'LotShape',\n",
       " 'LandContour',\n",
       " 'Utilities',\n",
       " 'LotConfig',\n",
       " 'LandSlope',\n",
       " 'Neighborhood',\n",
       " 'Condition1',\n",
       " 'Condition2',\n",
       " 'BldgType',\n",
       " 'HouseStyle',\n",
       " 'RoofStyle',\n",
       " 'RoofMatl',\n",
       " 'Exterior1st',\n",
       " 'Exterior2nd',\n",
       " 'MasVnrType',\n",
       " 'ExterQual',\n",
       " 'ExterCond',\n",
       " 'Foundation',\n",
       " 'BsmtQual',\n",
       " 'BsmtCond',\n",
       " 'BsmtExposure',\n",
       " 'BsmtFinType1',\n",
       " 'BsmtFinType2',\n",
       " 'Heating',\n",
       " 'HeatingQC',\n",
       " 'CentralAir',\n",
       " 'Electrical',\n",
       " 'KitchenQual',\n",
       " 'Functional',\n",
       " 'FireplaceQu',\n",
       " 'GarageType',\n",
       " 'GarageFinish',\n",
       " 'GarageQual',\n",
       " 'GarageCond',\n",
       " 'PavedDrive',\n",
       " 'PoolQC',\n",
       " 'Fence',\n",
       " 'MiscFeature',\n",
       " 'SaleType',\n",
       " 'SaleCondition']"
      ]
     },
     "execution_count": 8,
     "metadata": {},
     "output_type": "execute_result"
    }
   ],
   "source": [
    "df.select_dtypes(exclude=np.number).columns.tolist()"
   ]
  },
  {
   "cell_type": "markdown",
   "metadata": {},
   "source": [
    "Por enquanto, não vamos nos preocupar com os dados missing, pois vamos usar apenas uma feature no nosso modelo inicial.\n",
    "\n",
    "Aproveite para depois explorar os dados da forma que quiser!\n",
    "\n",
    "Por enquanto, vamos dar uma olhada na coluna target!"
   ]
  },
  {
   "cell_type": "markdown",
   "metadata": {},
   "source": [
    "Mas antes, vamos identificar e diferenciar as features (X) do target (y)"
   ]
  },
  {
   "cell_type": "markdown",
   "metadata": {},
   "source": [
    "> Obs.: a coluna \"Id\" traz apenas um número de identificação arbitrário que não deve ser correlacionado com o target. Portanto, vamos desconsiderar esta coluna como feature."
   ]
  },
  {
   "cell_type": "code",
   "execution_count": 9,
   "metadata": {
    "ExecuteTime": {
     "end_time": "2022-05-13T21:28:25.297413Z",
     "start_time": "2022-05-13T21:28:25.156967Z"
    }
   },
   "outputs": [],
   "source": [
    "# features: tudo exceto o target e o id (arbitrario)\n",
    "X = df.drop(columns=[\"Id\", \"SalePrice\"])\n",
    "\n",
    "# target da nossa base - continuo, o que caracteriza regressão!\n",
    "y = df[\"SalePrice\"]"
   ]
  },
  {
   "cell_type": "code",
   "execution_count": 10,
   "metadata": {
    "ExecuteTime": {
     "end_time": "2022-05-13T21:28:25.484177Z",
     "start_time": "2022-05-13T21:28:25.299394Z"
    }
   },
   "outputs": [
    {
     "data": {
      "text/html": [
       "<div>\n",
       "<style scoped>\n",
       "    .dataframe tbody tr th:only-of-type {\n",
       "        vertical-align: middle;\n",
       "    }\n",
       "\n",
       "    .dataframe tbody tr th {\n",
       "        vertical-align: top;\n",
       "    }\n",
       "\n",
       "    .dataframe thead th {\n",
       "        text-align: right;\n",
       "    }\n",
       "</style>\n",
       "<table border=\"1\" class=\"dataframe\">\n",
       "  <thead>\n",
       "    <tr style=\"text-align: right;\">\n",
       "      <th></th>\n",
       "      <th>MSSubClass</th>\n",
       "      <th>MSZoning</th>\n",
       "      <th>LotFrontage</th>\n",
       "      <th>LotArea</th>\n",
       "      <th>Street</th>\n",
       "      <th>Alley</th>\n",
       "      <th>LotShape</th>\n",
       "      <th>LandContour</th>\n",
       "      <th>Utilities</th>\n",
       "      <th>LotConfig</th>\n",
       "      <th>...</th>\n",
       "      <th>ScreenPorch</th>\n",
       "      <th>PoolArea</th>\n",
       "      <th>PoolQC</th>\n",
       "      <th>Fence</th>\n",
       "      <th>MiscFeature</th>\n",
       "      <th>MiscVal</th>\n",
       "      <th>MoSold</th>\n",
       "      <th>YrSold</th>\n",
       "      <th>SaleType</th>\n",
       "      <th>SaleCondition</th>\n",
       "    </tr>\n",
       "  </thead>\n",
       "  <tbody>\n",
       "    <tr>\n",
       "      <th>0</th>\n",
       "      <td>60</td>\n",
       "      <td>RL</td>\n",
       "      <td>65.0</td>\n",
       "      <td>8450</td>\n",
       "      <td>Pave</td>\n",
       "      <td>NaN</td>\n",
       "      <td>Reg</td>\n",
       "      <td>Lvl</td>\n",
       "      <td>AllPub</td>\n",
       "      <td>Inside</td>\n",
       "      <td>...</td>\n",
       "      <td>0</td>\n",
       "      <td>0</td>\n",
       "      <td>NaN</td>\n",
       "      <td>NaN</td>\n",
       "      <td>NaN</td>\n",
       "      <td>0</td>\n",
       "      <td>2</td>\n",
       "      <td>2008</td>\n",
       "      <td>WD</td>\n",
       "      <td>Normal</td>\n",
       "    </tr>\n",
       "    <tr>\n",
       "      <th>1</th>\n",
       "      <td>20</td>\n",
       "      <td>RL</td>\n",
       "      <td>80.0</td>\n",
       "      <td>9600</td>\n",
       "      <td>Pave</td>\n",
       "      <td>NaN</td>\n",
       "      <td>Reg</td>\n",
       "      <td>Lvl</td>\n",
       "      <td>AllPub</td>\n",
       "      <td>FR2</td>\n",
       "      <td>...</td>\n",
       "      <td>0</td>\n",
       "      <td>0</td>\n",
       "      <td>NaN</td>\n",
       "      <td>NaN</td>\n",
       "      <td>NaN</td>\n",
       "      <td>0</td>\n",
       "      <td>5</td>\n",
       "      <td>2007</td>\n",
       "      <td>WD</td>\n",
       "      <td>Normal</td>\n",
       "    </tr>\n",
       "    <tr>\n",
       "      <th>2</th>\n",
       "      <td>60</td>\n",
       "      <td>RL</td>\n",
       "      <td>68.0</td>\n",
       "      <td>11250</td>\n",
       "      <td>Pave</td>\n",
       "      <td>NaN</td>\n",
       "      <td>IR1</td>\n",
       "      <td>Lvl</td>\n",
       "      <td>AllPub</td>\n",
       "      <td>Inside</td>\n",
       "      <td>...</td>\n",
       "      <td>0</td>\n",
       "      <td>0</td>\n",
       "      <td>NaN</td>\n",
       "      <td>NaN</td>\n",
       "      <td>NaN</td>\n",
       "      <td>0</td>\n",
       "      <td>9</td>\n",
       "      <td>2008</td>\n",
       "      <td>WD</td>\n",
       "      <td>Normal</td>\n",
       "    </tr>\n",
       "    <tr>\n",
       "      <th>3</th>\n",
       "      <td>70</td>\n",
       "      <td>RL</td>\n",
       "      <td>60.0</td>\n",
       "      <td>9550</td>\n",
       "      <td>Pave</td>\n",
       "      <td>NaN</td>\n",
       "      <td>IR1</td>\n",
       "      <td>Lvl</td>\n",
       "      <td>AllPub</td>\n",
       "      <td>Corner</td>\n",
       "      <td>...</td>\n",
       "      <td>0</td>\n",
       "      <td>0</td>\n",
       "      <td>NaN</td>\n",
       "      <td>NaN</td>\n",
       "      <td>NaN</td>\n",
       "      <td>0</td>\n",
       "      <td>2</td>\n",
       "      <td>2006</td>\n",
       "      <td>WD</td>\n",
       "      <td>Abnorml</td>\n",
       "    </tr>\n",
       "    <tr>\n",
       "      <th>4</th>\n",
       "      <td>60</td>\n",
       "      <td>RL</td>\n",
       "      <td>84.0</td>\n",
       "      <td>14260</td>\n",
       "      <td>Pave</td>\n",
       "      <td>NaN</td>\n",
       "      <td>IR1</td>\n",
       "      <td>Lvl</td>\n",
       "      <td>AllPub</td>\n",
       "      <td>FR2</td>\n",
       "      <td>...</td>\n",
       "      <td>0</td>\n",
       "      <td>0</td>\n",
       "      <td>NaN</td>\n",
       "      <td>NaN</td>\n",
       "      <td>NaN</td>\n",
       "      <td>0</td>\n",
       "      <td>12</td>\n",
       "      <td>2008</td>\n",
       "      <td>WD</td>\n",
       "      <td>Normal</td>\n",
       "    </tr>\n",
       "    <tr>\n",
       "      <th>...</th>\n",
       "      <td>...</td>\n",
       "      <td>...</td>\n",
       "      <td>...</td>\n",
       "      <td>...</td>\n",
       "      <td>...</td>\n",
       "      <td>...</td>\n",
       "      <td>...</td>\n",
       "      <td>...</td>\n",
       "      <td>...</td>\n",
       "      <td>...</td>\n",
       "      <td>...</td>\n",
       "      <td>...</td>\n",
       "      <td>...</td>\n",
       "      <td>...</td>\n",
       "      <td>...</td>\n",
       "      <td>...</td>\n",
       "      <td>...</td>\n",
       "      <td>...</td>\n",
       "      <td>...</td>\n",
       "      <td>...</td>\n",
       "      <td>...</td>\n",
       "    </tr>\n",
       "    <tr>\n",
       "      <th>1455</th>\n",
       "      <td>60</td>\n",
       "      <td>RL</td>\n",
       "      <td>62.0</td>\n",
       "      <td>7917</td>\n",
       "      <td>Pave</td>\n",
       "      <td>NaN</td>\n",
       "      <td>Reg</td>\n",
       "      <td>Lvl</td>\n",
       "      <td>AllPub</td>\n",
       "      <td>Inside</td>\n",
       "      <td>...</td>\n",
       "      <td>0</td>\n",
       "      <td>0</td>\n",
       "      <td>NaN</td>\n",
       "      <td>NaN</td>\n",
       "      <td>NaN</td>\n",
       "      <td>0</td>\n",
       "      <td>8</td>\n",
       "      <td>2007</td>\n",
       "      <td>WD</td>\n",
       "      <td>Normal</td>\n",
       "    </tr>\n",
       "    <tr>\n",
       "      <th>1456</th>\n",
       "      <td>20</td>\n",
       "      <td>RL</td>\n",
       "      <td>85.0</td>\n",
       "      <td>13175</td>\n",
       "      <td>Pave</td>\n",
       "      <td>NaN</td>\n",
       "      <td>Reg</td>\n",
       "      <td>Lvl</td>\n",
       "      <td>AllPub</td>\n",
       "      <td>Inside</td>\n",
       "      <td>...</td>\n",
       "      <td>0</td>\n",
       "      <td>0</td>\n",
       "      <td>NaN</td>\n",
       "      <td>MnPrv</td>\n",
       "      <td>NaN</td>\n",
       "      <td>0</td>\n",
       "      <td>2</td>\n",
       "      <td>2010</td>\n",
       "      <td>WD</td>\n",
       "      <td>Normal</td>\n",
       "    </tr>\n",
       "    <tr>\n",
       "      <th>1457</th>\n",
       "      <td>70</td>\n",
       "      <td>RL</td>\n",
       "      <td>66.0</td>\n",
       "      <td>9042</td>\n",
       "      <td>Pave</td>\n",
       "      <td>NaN</td>\n",
       "      <td>Reg</td>\n",
       "      <td>Lvl</td>\n",
       "      <td>AllPub</td>\n",
       "      <td>Inside</td>\n",
       "      <td>...</td>\n",
       "      <td>0</td>\n",
       "      <td>0</td>\n",
       "      <td>NaN</td>\n",
       "      <td>GdPrv</td>\n",
       "      <td>Shed</td>\n",
       "      <td>2500</td>\n",
       "      <td>5</td>\n",
       "      <td>2010</td>\n",
       "      <td>WD</td>\n",
       "      <td>Normal</td>\n",
       "    </tr>\n",
       "    <tr>\n",
       "      <th>1458</th>\n",
       "      <td>20</td>\n",
       "      <td>RL</td>\n",
       "      <td>68.0</td>\n",
       "      <td>9717</td>\n",
       "      <td>Pave</td>\n",
       "      <td>NaN</td>\n",
       "      <td>Reg</td>\n",
       "      <td>Lvl</td>\n",
       "      <td>AllPub</td>\n",
       "      <td>Inside</td>\n",
       "      <td>...</td>\n",
       "      <td>0</td>\n",
       "      <td>0</td>\n",
       "      <td>NaN</td>\n",
       "      <td>NaN</td>\n",
       "      <td>NaN</td>\n",
       "      <td>0</td>\n",
       "      <td>4</td>\n",
       "      <td>2010</td>\n",
       "      <td>WD</td>\n",
       "      <td>Normal</td>\n",
       "    </tr>\n",
       "    <tr>\n",
       "      <th>1459</th>\n",
       "      <td>20</td>\n",
       "      <td>RL</td>\n",
       "      <td>75.0</td>\n",
       "      <td>9937</td>\n",
       "      <td>Pave</td>\n",
       "      <td>NaN</td>\n",
       "      <td>Reg</td>\n",
       "      <td>Lvl</td>\n",
       "      <td>AllPub</td>\n",
       "      <td>Inside</td>\n",
       "      <td>...</td>\n",
       "      <td>0</td>\n",
       "      <td>0</td>\n",
       "      <td>NaN</td>\n",
       "      <td>NaN</td>\n",
       "      <td>NaN</td>\n",
       "      <td>0</td>\n",
       "      <td>6</td>\n",
       "      <td>2008</td>\n",
       "      <td>WD</td>\n",
       "      <td>Normal</td>\n",
       "    </tr>\n",
       "  </tbody>\n",
       "</table>\n",
       "<p>1460 rows × 79 columns</p>\n",
       "</div>"
      ],
      "text/plain": [
       "      MSSubClass MSZoning  LotFrontage  LotArea Street Alley LotShape  \\\n",
       "0             60       RL         65.0     8450   Pave   NaN      Reg   \n",
       "1             20       RL         80.0     9600   Pave   NaN      Reg   \n",
       "2             60       RL         68.0    11250   Pave   NaN      IR1   \n",
       "3             70       RL         60.0     9550   Pave   NaN      IR1   \n",
       "4             60       RL         84.0    14260   Pave   NaN      IR1   \n",
       "...          ...      ...          ...      ...    ...   ...      ...   \n",
       "1455          60       RL         62.0     7917   Pave   NaN      Reg   \n",
       "1456          20       RL         85.0    13175   Pave   NaN      Reg   \n",
       "1457          70       RL         66.0     9042   Pave   NaN      Reg   \n",
       "1458          20       RL         68.0     9717   Pave   NaN      Reg   \n",
       "1459          20       RL         75.0     9937   Pave   NaN      Reg   \n",
       "\n",
       "     LandContour Utilities LotConfig  ... ScreenPorch PoolArea PoolQC  Fence  \\\n",
       "0            Lvl    AllPub    Inside  ...           0        0    NaN    NaN   \n",
       "1            Lvl    AllPub       FR2  ...           0        0    NaN    NaN   \n",
       "2            Lvl    AllPub    Inside  ...           0        0    NaN    NaN   \n",
       "3            Lvl    AllPub    Corner  ...           0        0    NaN    NaN   \n",
       "4            Lvl    AllPub       FR2  ...           0        0    NaN    NaN   \n",
       "...          ...       ...       ...  ...         ...      ...    ...    ...   \n",
       "1455         Lvl    AllPub    Inside  ...           0        0    NaN    NaN   \n",
       "1456         Lvl    AllPub    Inside  ...           0        0    NaN  MnPrv   \n",
       "1457         Lvl    AllPub    Inside  ...           0        0    NaN  GdPrv   \n",
       "1458         Lvl    AllPub    Inside  ...           0        0    NaN    NaN   \n",
       "1459         Lvl    AllPub    Inside  ...           0        0    NaN    NaN   \n",
       "\n",
       "     MiscFeature MiscVal  MoSold  YrSold  SaleType  SaleCondition  \n",
       "0            NaN       0       2    2008        WD         Normal  \n",
       "1            NaN       0       5    2007        WD         Normal  \n",
       "2            NaN       0       9    2008        WD         Normal  \n",
       "3            NaN       0       2    2006        WD        Abnorml  \n",
       "4            NaN       0      12    2008        WD         Normal  \n",
       "...          ...     ...     ...     ...       ...            ...  \n",
       "1455         NaN       0       8    2007        WD         Normal  \n",
       "1456         NaN       0       2    2010        WD         Normal  \n",
       "1457        Shed    2500       5    2010        WD         Normal  \n",
       "1458         NaN       0       4    2010        WD         Normal  \n",
       "1459         NaN       0       6    2008        WD         Normal  \n",
       "\n",
       "[1460 rows x 79 columns]"
      ]
     },
     "execution_count": 10,
     "metadata": {},
     "output_type": "execute_result"
    }
   ],
   "source": [
    "X"
   ]
  },
  {
   "cell_type": "code",
   "execution_count": 11,
   "metadata": {
    "ExecuteTime": {
     "end_time": "2022-05-13T21:28:25.670727Z",
     "start_time": "2022-05-13T21:28:25.486174Z"
    }
   },
   "outputs": [
    {
     "data": {
      "text/plain": [
       "0       208500\n",
       "1       181500\n",
       "2       223500\n",
       "3       140000\n",
       "4       250000\n",
       "         ...  \n",
       "1455    175000\n",
       "1456    210000\n",
       "1457    266500\n",
       "1458    142125\n",
       "1459    147500\n",
       "Name: SalePrice, Length: 1460, dtype: int64"
      ]
     },
     "execution_count": 11,
     "metadata": {},
     "output_type": "execute_result"
    }
   ],
   "source": [
    "y"
   ]
  },
  {
   "cell_type": "code",
   "execution_count": 12,
   "metadata": {
    "ExecuteTime": {
     "end_time": "2022-05-13T21:28:25.921948Z",
     "start_time": "2022-05-13T21:28:25.673724Z"
    }
   },
   "outputs": [
    {
     "data": {
      "text/plain": [
       "array([20, 'RL', 70.0, 11200, 'Pave', nan, 'Reg', 'Lvl', 'AllPub',\n",
       "       'Inside', 'Gtl', 'Sawyer', 'Norm', 'Norm', '1Fam', '1Story', 5, 5,\n",
       "       1965, 1965, 'Hip', 'CompShg', 'HdBoard', 'HdBoard', 'None', 0.0,\n",
       "       'TA', 'TA', 'CBlock', 'TA', 'TA', 'No', 'Rec', 906, 'Unf', 0, 134,\n",
       "       1040, 'GasA', 'Ex', 'Y', 'SBrkr', 1040, 0, 0, 1040, 1, 0, 1, 0, 3,\n",
       "       1, 'TA', 5, 'Typ', 0, nan, 'Detchd', 1965.0, 'Unf', 1, 384, 'TA',\n",
       "       'TA', 'Y', 0, 0, 0, 0, 0, 0, nan, nan, nan, 0, 2, 2008, 'WD',\n",
       "       'Normal'], dtype=object)"
      ]
     },
     "execution_count": 12,
     "metadata": {},
     "output_type": "execute_result"
    }
   ],
   "source": [
    "X.iloc[10].values"
   ]
  },
  {
   "cell_type": "code",
   "execution_count": 13,
   "metadata": {
    "ExecuteTime": {
     "end_time": "2022-05-13T21:28:26.110099Z",
     "start_time": "2022-05-13T21:28:25.924948Z"
    }
   },
   "outputs": [
    {
     "data": {
      "text/plain": [
       "129500"
      ]
     },
     "execution_count": 13,
     "metadata": {},
     "output_type": "execute_result"
    }
   ],
   "source": [
    "y.iloc[10]"
   ]
  },
  {
   "cell_type": "code",
   "execution_count": 14,
   "metadata": {
    "ExecuteTime": {
     "end_time": "2022-05-13T21:28:26.458759Z",
     "start_time": "2022-05-13T21:28:26.112308Z"
    }
   },
   "outputs": [],
   "source": [
    "from sklearn.model_selection import train_test_split\n",
    "\n",
    "X_train, X_test, y_train, y_test = train_test_split(X, y, test_size=0.2, random_state=42)"
   ]
  },
  {
   "cell_type": "code",
   "execution_count": 15,
   "metadata": {
    "ExecuteTime": {
     "end_time": "2022-05-13T21:28:26.474754Z",
     "start_time": "2022-05-13T21:28:26.460762Z"
    }
   },
   "outputs": [
    {
     "data": {
      "text/plain": [
       "(1460, 79)"
      ]
     },
     "execution_count": 15,
     "metadata": {},
     "output_type": "execute_result"
    }
   ],
   "source": [
    "X.shape"
   ]
  },
  {
   "cell_type": "code",
   "execution_count": 16,
   "metadata": {
    "ExecuteTime": {
     "end_time": "2022-05-13T21:28:26.649883Z",
     "start_time": "2022-05-13T21:28:26.477753Z"
    }
   },
   "outputs": [
    {
     "data": {
      "text/plain": [
       "(1168, 79)"
      ]
     },
     "execution_count": 16,
     "metadata": {},
     "output_type": "execute_result"
    }
   ],
   "source": [
    "X_train.shape"
   ]
  },
  {
   "cell_type": "code",
   "execution_count": 17,
   "metadata": {
    "ExecuteTime": {
     "end_time": "2022-05-13T21:28:26.759559Z",
     "start_time": "2022-05-13T21:28:26.652865Z"
    }
   },
   "outputs": [
    {
     "data": {
      "text/plain": [
       "(1168,)"
      ]
     },
     "execution_count": 17,
     "metadata": {},
     "output_type": "execute_result"
    }
   ],
   "source": [
    "y_train.shape"
   ]
  },
  {
   "cell_type": "code",
   "execution_count": 18,
   "metadata": {
    "ExecuteTime": {
     "end_time": "2022-05-13T21:28:26.900999Z",
     "start_time": "2022-05-13T21:28:26.762485Z"
    }
   },
   "outputs": [
    {
     "data": {
      "text/plain": [
       "(292, 79)"
      ]
     },
     "execution_count": 18,
     "metadata": {},
     "output_type": "execute_result"
    }
   ],
   "source": [
    "X_test.shape"
   ]
  },
  {
   "cell_type": "code",
   "execution_count": 19,
   "metadata": {
    "ExecuteTime": {
     "end_time": "2022-05-13T21:28:27.088469Z",
     "start_time": "2022-05-13T21:28:26.902999Z"
    }
   },
   "outputs": [
    {
     "data": {
      "text/plain": [
       "(292,)"
      ]
     },
     "execution_count": 19,
     "metadata": {},
     "output_type": "execute_result"
    }
   ],
   "source": [
    "y_test.shape"
   ]
  },
  {
   "cell_type": "markdown",
   "metadata": {},
   "source": [
    "Agora sim, vamos olhar com carinho pro target"
   ]
  },
  {
   "cell_type": "code",
   "execution_count": 20,
   "metadata": {
    "ExecuteTime": {
     "end_time": "2022-05-13T21:28:27.228176Z",
     "start_time": "2022-05-13T21:28:27.090471Z"
    }
   },
   "outputs": [
    {
     "data": {
      "text/plain": [
       "254     145000\n",
       "1066    178000\n",
       "638      85000\n",
       "799     175000\n",
       "380     127000\n",
       "         ...  \n",
       "1095    176432\n",
       "1130    135000\n",
       "1294    115000\n",
       "860     189950\n",
       "1126    174000\n",
       "Name: SalePrice, Length: 1168, dtype: int64"
      ]
     },
     "execution_count": 20,
     "metadata": {},
     "output_type": "execute_result"
    }
   ],
   "source": [
    "y_train"
   ]
  },
  {
   "cell_type": "code",
   "execution_count": 21,
   "metadata": {
    "ExecuteTime": {
     "end_time": "2022-05-13T21:28:27.778743Z",
     "start_time": "2022-05-13T21:28:27.231174Z"
    }
   },
   "outputs": [
    {
     "data": {
      "text/plain": [
       "<AxesSubplot:xlabel='SalePrice', ylabel='Count'>"
      ]
     },
     "execution_count": 21,
     "metadata": {},
     "output_type": "execute_result"
    },
    {
     "data": {
      "image/png": "[encoded data removed]",
      "text/plain": [
       "<Figure size 432x288 with 1 Axes>"
      ]
     },
     "metadata": {
      "needs_background": "light"
     },
     "output_type": "display_data"
    }
   ],
   "source": [
    "sns.histplot(y_train, kde=True)"
   ]
  },
  {
   "cell_type": "code",
   "execution_count": 22,
   "metadata": {
    "ExecuteTime": {
     "end_time": "2022-05-13T21:28:27.967969Z",
     "start_time": "2022-05-13T21:28:27.781164Z"
    }
   },
   "outputs": [
    {
     "data": {
      "text/plain": [
       "<AxesSubplot:xlabel='SalePrice', ylabel='Density'>"
      ]
     },
     "execution_count": 22,
     "metadata": {},
     "output_type": "execute_result"
    },
    {
     "data": {
      "image/png": "[encoded data removed]",
      "text/plain": [
       "<Figure size 432x288 with 1 Axes>"
      ]
     },
     "metadata": {
      "needs_background": "light"
     },
     "output_type": "display_data"
    }
   ],
   "source": [
    "sns.kdeplot(y_train)"
   ]
  },
  {
   "cell_type": "code",
   "execution_count": 23,
   "metadata": {
    "ExecuteTime": {
     "end_time": "2022-05-13T21:28:28.109734Z",
     "start_time": "2022-05-13T21:28:27.973943Z"
    }
   },
   "outputs": [
    {
     "data": {
      "text/plain": [
       "1.743128561420854"
      ]
     },
     "execution_count": 23,
     "metadata": {},
     "output_type": "execute_result"
    }
   ],
   "source": [
    "y_train.skew()"
   ]
  },
  {
   "cell_type": "code",
   "execution_count": 24,
   "metadata": {
    "ExecuteTime": {
     "end_time": "2022-05-13T21:28:28.281984Z",
     "start_time": "2022-05-13T21:28:28.112713Z"
    }
   },
   "outputs": [
    {
     "data": {
      "text/plain": [
       "count      1168.000000\n",
       "mean     181441.541952\n",
       "std       77263.583862\n",
       "min       34900.000000\n",
       "25%      130000.000000\n",
       "50%      165000.000000\n",
       "75%      214925.000000\n",
       "max      745000.000000\n",
       "Name: SalePrice, dtype: float64"
      ]
     },
     "execution_count": 24,
     "metadata": {},
     "output_type": "execute_result"
    }
   ],
   "source": [
    "y_train.describe()"
   ]
  },
  {
   "cell_type": "markdown",
   "metadata": {},
   "source": [
    "Tomar o log de distribuições enviesadas tende a diminuir o desvio:"
   ]
  },
  {
   "cell_type": "code",
   "execution_count": 25,
   "metadata": {
    "ExecuteTime": {
     "end_time": "2022-05-13T21:28:28.392525Z",
     "start_time": "2022-05-13T21:28:28.284910Z"
    }
   },
   "outputs": [
    {
     "data": {
      "text/plain": [
       "254     145000\n",
       "1066    178000\n",
       "638      85000\n",
       "799     175000\n",
       "380     127000\n",
       "         ...  \n",
       "1095    176432\n",
       "1130    135000\n",
       "1294    115000\n",
       "860     189950\n",
       "1126    174000\n",
       "Name: SalePrice, Length: 1168, dtype: int64"
      ]
     },
     "execution_count": 25,
     "metadata": {},
     "output_type": "execute_result"
    }
   ],
   "source": [
    "y_train"
   ]
  },
  {
   "cell_type": "code",
   "execution_count": 26,
   "metadata": {
    "ExecuteTime": {
     "end_time": "2022-05-13T21:28:28.486757Z",
     "start_time": "2022-05-13T21:28:28.394508Z"
    }
   },
   "outputs": [],
   "source": [
    "log_price = np.log10(y_train)"
   ]
  },
  {
   "cell_type": "code",
   "execution_count": 27,
   "metadata": {
    "ExecuteTime": {
     "end_time": "2022-05-13T21:28:28.596869Z",
     "start_time": "2022-05-13T21:28:28.489755Z"
    }
   },
   "outputs": [
    {
     "data": {
      "text/plain": [
       "254     5.161368\n",
       "1066    5.250420\n",
       "638     4.929419\n",
       "799     5.243038\n",
       "380     5.103804\n",
       "          ...   \n",
       "1095    5.246577\n",
       "1130    5.130334\n",
       "1294    5.060698\n",
       "860     5.278639\n",
       "1126    5.240549\n",
       "Name: SalePrice, Length: 1168, dtype: float64"
      ]
     },
     "execution_count": 27,
     "metadata": {},
     "output_type": "execute_result"
    }
   ],
   "source": [
    "log_price"
   ]
  },
  {
   "cell_type": "code",
   "execution_count": 28,
   "metadata": {
    "ExecuteTime": {
     "end_time": "2022-05-13T21:28:28.962529Z",
     "start_time": "2022-05-13T21:28:28.600794Z"
    }
   },
   "outputs": [
    {
     "data": {
      "text/plain": [
       "<AxesSubplot:xlabel='SalePrice', ylabel='Count'>"
      ]
     },
     "execution_count": 28,
     "metadata": {},
     "output_type": "execute_result"
    },
    {
     "data": {
      "image/png": "[encoded data removed]",
      "text/plain": [
       "<Figure size 432x288 with 1 Axes>"
      ]
     },
     "metadata": {
      "needs_background": "light"
     },
     "output_type": "display_data"
    }
   ],
   "source": [
    "sns.histplot(log_price, kde=True)"
   ]
  },
  {
   "cell_type": "code",
   "execution_count": 29,
   "metadata": {
    "ExecuteTime": {
     "end_time": "2022-05-13T21:28:29.148655Z",
     "start_time": "2022-05-13T21:28:28.964527Z"
    }
   },
   "outputs": [
    {
     "name": "stderr",
     "output_type": "stream",
     "text": [
      "<ipython-input-29-263e90887082>:2: RuntimeWarning: divide by zero encountered in log10\n",
      "  plt.plot(x, np.log10(x))\n"
     ]
    },
    {
     "data": {
      "text/plain": [
       "[<matplotlib.lines.Line2D at 0x1c8b208b9d0>]"
      ]
     },
     "execution_count": 29,
     "metadata": {},
     "output_type": "execute_result"
    },
    {
     "data": {
      "image/png": "[encoded data removed]",
      "text/plain": [
       "<Figure size 432x288 with 1 Axes>"
      ]
     },
     "metadata": {
      "needs_background": "light"
     },
     "output_type": "display_data"
    }
   ],
   "source": [
    "x = np.linspace(0, 1000, 1000) \n",
    "plt.plot(x, np.log10(x))"
   ]
  },
  {
   "cell_type": "code",
   "execution_count": 30,
   "metadata": {
    "ExecuteTime": {
     "end_time": "2022-05-13T21:28:29.164647Z",
     "start_time": "2022-05-13T21:28:29.150657Z"
    }
   },
   "outputs": [
    {
     "data": {
      "text/plain": [
       "count    1168.000000\n",
       "mean        5.224846\n",
       "std         0.169639\n",
       "min         4.542825\n",
       "25%         5.113943\n",
       "50%         5.217484\n",
       "75%         5.332287\n",
       "max         5.872156\n",
       "Name: SalePrice, dtype: float64"
      ]
     },
     "execution_count": 30,
     "metadata": {},
     "output_type": "execute_result"
    }
   ],
   "source": [
    "log_price.describe()"
   ]
  },
  {
   "cell_type": "markdown",
   "metadata": {},
   "source": [
    "Fica evidente que a distribuição é desviada para a direita.\n",
    "\n",
    "Vamos tentar alterar isso na próximas versões do modelo para ver se teremos ganhos de performance!\n",
    "\n",
    "Por enquanto, seguimos assim."
   ]
  },
  {
   "cell_type": "markdown",
   "metadata": {},
   "source": [
    "Vamos agora dar uma olhada na correlação das variáveis"
   ]
  },
  {
   "cell_type": "code",
   "execution_count": 31,
   "metadata": {
    "ExecuteTime": {
     "end_time": "2022-05-13T21:28:29.746912Z",
     "start_time": "2022-05-13T21:28:29.166647Z"
    }
   },
   "outputs": [
    {
     "data": {
      "text/plain": [
       "<AxesSubplot:>"
      ]
     },
     "execution_count": 31,
     "metadata": {},
     "output_type": "execute_result"
    },
    {
     "data": {
      "image/png": "[encoded data removed]",
      "text/plain": [
       "<Figure size 432x288 with 2 Axes>"
      ]
     },
     "metadata": {
      "needs_background": "light"
     },
     "output_type": "display_data"
    }
   ],
   "source": [
    "sns.heatmap(X_train.corr())"
   ]
  },
  {
   "cell_type": "markdown",
   "metadata": {},
   "source": [
    "Em particular, podemos olhar a correlação entre as features e o target"
   ]
  },
  {
   "cell_type": "code",
   "execution_count": 32,
   "metadata": {
    "ExecuteTime": {
     "end_time": "2022-05-13T21:28:29.778045Z",
     "start_time": "2022-05-13T21:28:29.749891Z"
    }
   },
   "outputs": [],
   "source": [
    "corr_feats_target = pd.concat([X_train, y_train], axis=1).corr()[\"SalePrice\"]"
   ]
  },
  {
   "cell_type": "code",
   "execution_count": 33,
   "metadata": {
    "ExecuteTime": {
     "end_time": "2022-05-13T21:28:29.857886Z",
     "start_time": "2022-05-13T21:28:29.782023Z"
    }
   },
   "outputs": [
    {
     "data": {
      "text/plain": [
       "MSSubClass      -0.088081\n",
       "LotFrontage      0.330066\n",
       "LotArea          0.266204\n",
       "OverallQual      0.785555\n",
       "OverallCond     -0.074391\n",
       "YearBuilt        0.516501\n",
       "YearRemodAdd     0.508593\n",
       "MasVnrArea       0.459123\n",
       "BsmtFinSF1       0.359460\n",
       "BsmtFinSF2      -0.005731\n",
       "BsmtUnfSF        0.222487\n",
       "TotalBsmtSF      0.597766\n",
       "1stFlrSF         0.587883\n",
       "2ndFlrSF         0.314030\n",
       "LowQualFinSF    -0.011189\n",
       "GrLivArea        0.695652\n",
       "BsmtFullBath     0.226346\n",
       "BsmtHalfBath    -0.048346\n",
       "FullBath         0.552546\n",
       "HalfBath         0.280481\n",
       "BedroomAbvGr     0.156211\n",
       "KitchenAbvGr    -0.142785\n",
       "TotRmsAbvGrd     0.520388\n",
       "Fireplaces       0.457549\n",
       "GarageYrBlt      0.480351\n",
       "GarageCars       0.640991\n",
       "GarageArea       0.624139\n",
       "WoodDeckSF       0.329843\n",
       "OpenPorchSF      0.299969\n",
       "EnclosedPorch   -0.149532\n",
       "3SsnPorch        0.051532\n",
       "ScreenPorch      0.119172\n",
       "PoolArea         0.115630\n",
       "MiscVal         -0.020179\n",
       "MoSold           0.041890\n",
       "YrSold          -0.009099\n",
       "SalePrice        1.000000\n",
       "Name: SalePrice, dtype: float64"
      ]
     },
     "execution_count": 33,
     "metadata": {},
     "output_type": "execute_result"
    }
   ],
   "source": [
    "corr_feats_target"
   ]
  },
  {
   "cell_type": "code",
   "execution_count": 34,
   "metadata": {
    "ExecuteTime": {
     "end_time": "2022-05-13T21:28:29.970051Z",
     "start_time": "2022-05-13T21:28:29.860864Z"
    }
   },
   "outputs": [
    {
     "data": {
      "text/plain": [
       "Index(['OverallQual', 'GrLivArea', 'SalePrice'], dtype='object')"
      ]
     },
     "execution_count": 34,
     "metadata": {},
     "output_type": "execute_result"
    }
   ],
   "source": [
    "corr_feats_target[corr_feats_target.abs() > 0.65].index"
   ]
  },
  {
   "cell_type": "code",
   "execution_count": 35,
   "metadata": {
    "ExecuteTime": {
     "end_time": "2022-05-13T21:28:30.594538Z",
     "start_time": "2022-05-13T21:28:29.972048Z"
    }
   },
   "outputs": [
    {
     "data": {
      "image/png": "[encoded data removed]",
      "text/plain": [
       "<Figure size 432x432 with 3 Axes>"
      ]
     },
     "metadata": {
      "needs_background": "light"
     },
     "output_type": "display_data"
    }
   ],
   "source": [
    "sns.jointplot(x=X_train[\"OverallQual\"], y=y_train);"
   ]
  },
  {
   "cell_type": "code",
   "execution_count": 36,
   "metadata": {
    "ExecuteTime": {
     "end_time": "2022-05-13T21:28:31.198036Z",
     "start_time": "2022-05-13T21:28:30.597516Z"
    }
   },
   "outputs": [
    {
     "data": {
      "image/png": "[encoded data removed]",
      "text/plain": [
       "<Figure size 432x432 with 3 Axes>"
      ]
     },
     "metadata": {
      "needs_background": "light"
     },
     "output_type": "display_data"
    }
   ],
   "source": [
    "sns.jointplot(x=X_train[\"GrLivArea\"], y=y_train);"
   ]
  },
  {
   "cell_type": "markdown",
   "metadata": {},
   "source": [
    "Parece que a variável de área construída (\"GrLivArea\") é uma forte candidata a **explicar** o preço das casas, pois vemos calaramente uma correlação entre as variáveis!\n",
    "\n",
    "Mas note que há claramente dois outliers... \n",
    "\n",
    "Vamos retirá-los (por propositos pedagogicos - lembre-se de tentar entender o pq dos outliers)"
   ]
  },
  {
   "cell_type": "code",
   "execution_count": 37,
   "metadata": {
    "ExecuteTime": {
     "end_time": "2022-05-13T21:28:31.230019Z",
     "start_time": "2022-05-13T21:28:31.201015Z"
    }
   },
   "outputs": [
    {
     "data": {
      "text/plain": [
       "Int64Index([523, 1298], dtype='int64')"
      ]
     },
     "execution_count": 37,
     "metadata": {},
     "output_type": "execute_result"
    }
   ],
   "source": [
    "idxs_outliers = X_train.query(\"GrLivArea > 4500\").index\n",
    "\n",
    "idxs_outliers"
   ]
  },
  {
   "cell_type": "code",
   "execution_count": 38,
   "metadata": {
    "ExecuteTime": {
     "end_time": "2022-05-13T21:28:31.326101Z",
     "start_time": "2022-05-13T21:28:31.233998Z"
    }
   },
   "outputs": [],
   "source": [
    "y_train = y_train.drop(index = idxs_outliers)\n",
    "\n",
    "X_train = X_train.drop(index = idxs_outliers)"
   ]
  },
  {
   "cell_type": "code",
   "execution_count": 39,
   "metadata": {
    "ExecuteTime": {
     "end_time": "2022-05-13T21:28:31.959982Z",
     "start_time": "2022-05-13T21:28:31.328044Z"
    }
   },
   "outputs": [
    {
     "data": {
      "image/png": "[encoded data removed]",
      "text/plain": [
       "<Figure size 432x432 with 3 Axes>"
      ]
     },
     "metadata": {
      "needs_background": "light"
     },
     "output_type": "display_data"
    }
   ],
   "source": [
    "sns.jointplot(x=X_train[\"GrLivArea\"], y=y_train);"
   ]
  },
  {
   "cell_type": "markdown",
   "metadata": {},
   "source": [
    "Vamos agora iniciar a construção de um modelo bem simples, que utilize a variável GrLivArea para predizer o preço!"
   ]
  },
  {
   "cell_type": "code",
   "execution_count": 40,
   "metadata": {
    "ExecuteTime": {
     "end_time": "2022-05-13T21:28:31.974953Z",
     "start_time": "2022-05-13T21:28:31.961959Z"
    }
   },
   "outputs": [
    {
     "data": {
      "text/plain": [
       "254     145000\n",
       "1066    178000\n",
       "638      85000\n",
       "799     175000\n",
       "380     127000\n",
       "         ...  \n",
       "1095    176432\n",
       "1130    135000\n",
       "1294    115000\n",
       "860     189950\n",
       "1126    174000\n",
       "Name: SalePrice, Length: 1166, dtype: int64"
      ]
     },
     "execution_count": 40,
     "metadata": {},
     "output_type": "execute_result"
    }
   ],
   "source": [
    "y_train"
   ]
  },
  {
   "cell_type": "code",
   "execution_count": 41,
   "metadata": {
    "ExecuteTime": {
     "end_time": "2022-05-13T21:28:32.084874Z",
     "start_time": "2022-05-13T21:28:31.977953Z"
    }
   },
   "outputs": [
    {
     "data": {
      "text/plain": [
       "254     1314\n",
       "1066    1571\n",
       "638      796\n",
       "799     1768\n",
       "380     1691\n",
       "        ... \n",
       "1095    1314\n",
       "1130    1981\n",
       "1294     864\n",
       "860     1426\n",
       "1126    1555\n",
       "Name: GrLivArea, Length: 1166, dtype: int64"
      ]
     },
     "execution_count": 41,
     "metadata": {},
     "output_type": "execute_result"
    }
   ],
   "source": [
    "X_train[\"GrLivArea\"]"
   ]
  },
  {
   "cell_type": "markdown",
   "metadata": {},
   "source": [
    "___\n",
    "___\n",
    "___"
   ]
  },
  {
   "cell_type": "markdown",
   "metadata": {},
   "source": [
    "## 2) Regressão linear simples\n",
    "\n",
    "Apesar de alguns outliers, parece bem adequado que os pontos plotados acima sejam descritos por uma reta, não é mesmo?\n",
    "\n",
    "Ou, melhor dizendo: **a variável GrLivArea parece estar relacionada ao target SalePrice linearmente!**\n",
    "\n",
    "Para modelarmos esta relação, vamos conhecer o modelo de **Regressão Linear Simples**.\n",
    "\n",
    "Como o próprio nome diz, o modelo de Regressão Linear será **uma reta (polinômio linear)**, que melhor se ajusta aos seus dados!"
   ]
  },
  {
   "cell_type": "markdown",
   "metadata": {},
   "source": [
    "O modelo de **Regressão Linear Simples** será uma linha reta que relaciona Y (o preço da casa) e X (os atributos da casa). \n",
    "\n",
    "Se utilizarmos **apenas um atributo** (como, por exemplo, a área construída), temos uma **Regressão Linear Simples**, e nosso modelo é:\n",
    "\n",
    "$$ \\hat{y} = b_0 + b_1 X $$\n",
    "\n",
    "Neste caso, o modelo tem dois coeficientes (ou **parâmetros**) a serem determinados: $b_0$ (intercepto ou coeficiente linear) e $b_1$ (coeficiente angular). \n",
    "\n",
    "A equação acima exprime a **forma funcional** do conjunto de hipóteses com o qual trabalharemos: funções lineares, de uma úniva variável. Isto é,\n",
    "\n",
    "$$ f_{H, \\vec{b}} = b_0 + b_1 X $$\n",
    "\n",
    "Ou seja,\n",
    "\n",
    "$$ \\mathcal{H} = \\{ f_{H, \\vec{b}}\\} = \\{ b_0 + b_1 X \\} $$ \n",
    "\n",
    "é o conjunto de hipóteses que está sendo considerado, e o vetor de parâmetros é:\n",
    "\n",
    "$$\\vec{b} = \\begin{bmatrix}\n",
    "b_0\\\\ \n",
    "b_1\n",
    "\\end{bmatrix}$$\n",
    "\n",
    "O **algoritmo de aprendizagem** do estimador é utilizado justamente para encontrarmos os coeficientes $b_0$ e $b_1$ (isto é, o vetor de parâmetros) **que melhor se ajustam aos dados!**\n",
    "\n",
    "Para fazer isso, pode-se utilizar o método dos **mínimos quadrados** (OLS  - ordinary least squares) ou então o [gradiente descendente](https://towardsdatascience.com/linear-regression-using-gradient-descent-97a6c8700931).\n",
    "\n",
    "Vamos conhecer o OLS!"
   ]
  },
  {
   "cell_type": "markdown",
   "metadata": {},
   "source": [
    "## O algoritmo de aprendizagem da regressão linear\n",
    "\n",
    "De maneira esquemática, um algoritmo de aprendizagem recebe:\n",
    "\n",
    "- Um conjunto de hipóteses $\\mathcal{H}$;\n",
    "- Um conjunto de dados de treino $\\left(X_i, y_i \\right)$\n",
    "\n",
    "A partir destes inputs, o algoritmo constrói uma **função de perda**, que nada mais é que uma função que contabiliza **os erros cometidos pelo modelo**.\n",
    "\n",
    "E para sabermos o quanto um modelo está errando é muito simples: basta **compararmos o target predito $\\hat{y}$ com o target real $y$**!\n",
    "\n",
    "Isso pode ser feito de muitas maneiras. A \"maneira\" específica é o que determina a relação funcional da função de custo de interesse. Para regressão linear, a função de perda mais comum é o **erro quadrático (squared error)**:\n",
    "\n",
    "$$\\text{SE}= (y_i-\\hat{y}_i)^2$$\n",
    "\n",
    "Onde $i = 1, 2, \\cdots, n$ é um índice que identifica cada uma das $n$ observações de treino.\n",
    "\n",
    "Obs.: se tomarmos a média do SE em toda a base de treino, temos o **Mean Squared Error** (MSE):\n",
    "\n",
    "$$\\text{MSE} = \\frac 1n\\sum_{i=1}^n(y_i-\\hat{y}_i)^2$$\n",
    "\n",
    "> Quando tomamos a função de erro para uma única observação, a chamamos de **função de perda**. Quando tomamos sua média sobre todo o dataset, a chamamos de **função de custo**. Na prática, os termos são usados como sinônimos (e, pro problema matemático a ser resolvido, tanto faz também)."
   ]
  },
  {
   "cell_type": "markdown",
   "metadata": {},
   "source": [
    "<img src=https://images.squarespace-cdn.com/content/v1/5acbdd3a25bf024c12f4c8b4/1600368657769-5BJU5FK86VZ6UXZGRC1M/Mean+Squared+Error.png width=400>"
   ]
  },
  {
   "cell_type": "markdown",
   "metadata": {},
   "source": [
    "Agora, note uma coisa muito importante: **a função de custo é inteiramente dependente da função de hipótese (e, portanto, dos parâmetros!) e dos dados de treino!**\n",
    "\n",
    "De fato, para a i-ésima observação, $\\hat{y}_i = b_0 + b_1 X_i$ (note aqui a dependência da hipótese e dos dados!). Assim,\n",
    "\n",
    "$$(y_i-\\hat{y}_i)^2 = (y_i - (b_0 + b_1 X_i))^2 $$\n",
    "\n",
    "Por isso, escrevemos a função de custo como $\\mathcal{L}_{H, \\vec{b}}(X_i, y_i)$, para deixar claro que ela depende tanto dos dados $\\left(X_i, y_i \\right)$ quando da hipótese parametrizada:\n",
    "\n",
    "$$\\mathcal{L}_{H, \\vec{b}}(X_i, y_i) = \\sum_{i=1}^n(y_i - (b_0 + b_1 X_i))^2$$\n"
   ]
  },
  {
   "cell_type": "markdown",
   "metadata": {},
   "source": [
    "Uma vez que temos uma função de custo, nosso objetivo passa a ser **minimizá-la**. E isso faz total sentido: queremos que nosso modelo, após ter \"aprendido\", erre o mínimo possível!\n",
    "\n",
    "Por isso, naturalmente caímos em um **problema de otimização**. Mas, a pergunta que surge é: queremos minimizar o erro **com relação a que?**\n",
    "\n",
    "Agora, é importante lembrarmos que a **função hipótese é parametrizada**. E é justamente o vetor de parâmetros que determina **a reta que melhor se ajusta aos dados**. \n",
    "\n",
    "Assim, podemos resumir o objetivo do algoritmo de aprendizagem como:\n",
    "\n",
    "> Determinar o vetor de parâmetros que minimiza a função de custo nos dados de treino\n",
    "\n",
    "E isso faz total sentido, não é mesmo?"
   ]
  },
  {
   "cell_type": "markdown",
   "metadata": {},
   "source": [
    "E, operacionalmente, isso é justamente o que queremos fazer:\n",
    "\n",
    "$$\\hat{b} = \\operatorname*{argmin}_b \\left( \\mathcal{L}_{H, \\vec{b}}(X_i, y_i) \\right)$$"
   ]
  },
  {
   "cell_type": "markdown",
   "metadata": {},
   "source": [
    "Existe uma forma muito conhecida e natural para resolvermos problemas de otimização como este: o famoso \"deriva e iguala a 0\".\n",
    "\n",
    "E é exatamente o que o método OLS nos dá: através da otimização explícita da função de custo quadrática, temos uma expressão analítica para os parâmetros:\n",
    "\n",
    "$$ \\left\\{\\begin{matrix}\n",
    "\\frac{\\partial \\mathcal{L}}{\\partial b_0} = 0\\\\ \n",
    "\\frac{\\partial \\mathcal{L}}{\\partial b_1} = 0\n",
    "\\end{matrix}\\right. \n",
    "\\Rightarrow\n",
    "\\left\\{\\begin{matrix}\n",
    "\\hat{b}_1 = \\frac{\\sum_i (x_i - \\bar{x})(y_i - \\bar{y})}{\\sum_i (x_i - \\bar{x})^2}\\\\ \n",
    "\\hat{b}_0 = \\bar{y} - \\hat{b}_1 \\bar{x}\n",
    "\\end{matrix}\\right. \\ ,\n",
    "$$\n",
    "\n",
    "onde: $\\bar{x} = \\frac{1}{n} \\sum_i x_i$ e $\\bar{y} = \\frac{1}{n} \\sum_i y_i$, são os valores médios da feature e target, respectivamente."
   ]
  },
  {
   "cell_type": "markdown",
   "metadata": {},
   "source": [
    "Para quem quiser saber detalhes sobre o procedimento acima, sugiro as referências citadas, ou então [este artigo super simples](https://are.berkeley.edu/courses/EEP118/current/derive_ols.pdf)."
   ]
  },
  {
   "cell_type": "markdown",
   "metadata": {},
   "source": [
    "E esse é o algoritmo de aprendizagem da regressão linear!"
   ]
  },
  {
   "cell_type": "markdown",
   "metadata": {},
   "source": [
    "_________"
   ]
  },
  {
   "cell_type": "markdown",
   "metadata": {},
   "source": [
    "# Passo 1 - construção do modelo"
   ]
  },
  {
   "cell_type": "markdown",
   "metadata": {},
   "source": [
    "Agora temos os dados, escolhemos o conjunto de hipóteses, e conhecemos também o algoritmo de treinamento da regressão linear!\n",
    "\n",
    "Felizmente, não precisamos implementar este algoritmo na mão (embora, caso queira, fique à vontade! É um ótimo exercício!)\n",
    "\n",
    "Aqui na aula, usaremos o sklearn para isso!\n",
    "\n",
    "Vamos começar?"
   ]
  },
  {
   "cell_type": "code",
   "execution_count": 42,
   "metadata": {
    "ExecuteTime": {
     "end_time": "2022-05-13T21:28:32.180968Z",
     "start_time": "2022-05-13T21:28:32.087853Z"
    }
   },
   "outputs": [],
   "source": [
    "# nesse primeiro modelo, queremos uma regressão linea simples, só com essa uma feature\n",
    "# (o reshape é pra convenção do sklearn)\n",
    "X_train_1d = X_train[\"GrLivArea\"].values.reshape(-1, 1)"
   ]
  },
  {
   "cell_type": "code",
   "execution_count": 43,
   "metadata": {
    "ExecuteTime": {
     "end_time": "2022-05-13T21:28:32.323716Z",
     "start_time": "2022-05-13T21:28:32.183164Z"
    }
   },
   "outputs": [
    {
     "data": {
      "text/plain": [
       "array([1314, 1571,  796, ...,  864, 1426, 1555], dtype=int64)"
      ]
     },
     "execution_count": 43,
     "metadata": {},
     "output_type": "execute_result"
    }
   ],
   "source": [
    "X_train[\"GrLivArea\"].values"
   ]
  },
  {
   "cell_type": "code",
   "execution_count": 44,
   "metadata": {
    "ExecuteTime": {
     "end_time": "2022-05-13T21:28:32.418207Z",
     "start_time": "2022-05-13T21:28:32.325697Z"
    }
   },
   "outputs": [
    {
     "data": {
      "text/plain": [
       "array([[1314],\n",
       "       [1571],\n",
       "       [ 796],\n",
       "       ...,\n",
       "       [ 864],\n",
       "       [1426],\n",
       "       [1555]], dtype=int64)"
      ]
     },
     "execution_count": 44,
     "metadata": {},
     "output_type": "execute_result"
    }
   ],
   "source": [
    "X_train_1d"
   ]
  },
  {
   "cell_type": "code",
   "execution_count": 45,
   "metadata": {
    "ExecuteTime": {
     "end_time": "2022-05-13T21:28:32.702855Z",
     "start_time": "2022-05-13T21:28:32.420205Z"
    }
   },
   "outputs": [
    {
     "data": {
      "text/plain": [
       "LinearRegression()"
      ]
     },
     "execution_count": 45,
     "metadata": {},
     "output_type": "execute_result"
    }
   ],
   "source": [
    "# passo 1 - import a classe (aqui é que escolhemos a hipotese)\n",
    "from sklearn.linear_model import LinearRegression\n",
    "\n",
    "# passo 2 - instancia o objeto do estimador \n",
    "reglin = LinearRegression()\n",
    "\n",
    "# passo 3 - treinar o modelo (aqui que damos os dados, pra treinar o modelo)\n",
    "reglin.fit(X_train_1d, y_train)"
   ]
  },
  {
   "cell_type": "code",
   "execution_count": 46,
   "metadata": {
    "ExecuteTime": {
     "end_time": "2022-05-13T21:28:32.782811Z",
     "start_time": "2022-05-13T21:28:32.706856Z"
    }
   },
   "outputs": [
    {
     "data": {
      "text/plain": [
       "LinearRegression()"
      ]
     },
     "execution_count": 46,
     "metadata": {},
     "output_type": "execute_result"
    }
   ],
   "source": [
    "reglin = LinearRegression().fit(X_train_1d, y_train)\n",
    "\n",
    "reglin"
   ]
  },
  {
   "cell_type": "markdown",
   "metadata": {},
   "source": [
    "Agora que o modelo está treinado, podemos dar uma olhada nos coeficientes que foram encontrados!"
   ]
  },
  {
   "cell_type": "code",
   "execution_count": 47,
   "metadata": {
    "ExecuteTime": {
     "end_time": "2022-05-13T21:28:32.893746Z",
     "start_time": "2022-05-13T21:28:32.786809Z"
    }
   },
   "outputs": [
    {
     "data": {
      "text/plain": [
       "{'fit_intercept': True,\n",
       " 'normalize': 'deprecated',\n",
       " 'copy_X': True,\n",
       " 'n_jobs': None,\n",
       " 'positive': False,\n",
       " 'n_features_in_': 1,\n",
       " 'coef_': array([112.12517083]),\n",
       " '_residues': 3269050466968.8315,\n",
       " 'rank_': 1,\n",
       " 'singular_': array([17148.49137244]),\n",
       " 'intercept_': 10895.38004325694}"
      ]
     },
     "execution_count": 47,
     "metadata": {},
     "output_type": "execute_result"
    }
   ],
   "source": [
    "vars(reglin)"
   ]
  },
  {
   "cell_type": "code",
   "execution_count": 48,
   "metadata": {
    "ExecuteTime": {
     "end_time": "2022-05-13T21:28:33.052654Z",
     "start_time": "2022-05-13T21:28:32.896744Z"
    }
   },
   "outputs": [
    {
     "data": {
      "text/plain": [
       "10895.38004325694"
      ]
     },
     "execution_count": 48,
     "metadata": {},
     "output_type": "execute_result"
    }
   ],
   "source": [
    "# esse é o termo independente, b0\n",
    "reglin.intercept_"
   ]
  },
  {
   "cell_type": "code",
   "execution_count": 49,
   "metadata": {
    "ExecuteTime": {
     "end_time": "2022-05-13T21:28:33.193642Z",
     "start_time": "2022-05-13T21:28:33.055653Z"
    }
   },
   "outputs": [
    {
     "data": {
      "text/plain": [
       "array([112.12517083])"
      ]
     },
     "execution_count": 49,
     "metadata": {},
     "output_type": "execute_result"
    }
   ],
   "source": [
    "reglin.coef_"
   ]
  },
  {
   "cell_type": "code",
   "execution_count": 50,
   "metadata": {
    "ExecuteTime": {
     "end_time": "2022-05-13T21:28:33.336765Z",
     "start_time": "2022-05-13T21:28:33.195643Z"
    }
   },
   "outputs": [
    {
     "data": {
      "text/plain": [
       "112.12517082752618"
      ]
     },
     "execution_count": 50,
     "metadata": {},
     "output_type": "execute_result"
    }
   ],
   "source": [
    "# esse é o b1\n",
    "reglin.coef_[0]"
   ]
  },
  {
   "cell_type": "markdown",
   "metadata": {},
   "source": [
    "$$\\vec{\\hat{b}} = \\begin{bmatrix}\n",
    "\\hat{b}_0\\\\ \n",
    "\\hat{b}_1\n",
    "\\end{bmatrix} = \n",
    "\\begin{bmatrix}\n",
    "10895.38\\\\ \n",
    "112.12\n",
    "\\end{bmatrix}$$"
   ]
  },
  {
   "cell_type": "markdown",
   "metadata": {},
   "source": [
    "Como interpretamos este resultado?\n",
    "\n",
    "O nosso modelo final é dado por:\n",
    "\n",
    "$$ \\hat{y} = \\mathcal{M} = f_{H, \\hat{\\vec{b}}}(X = \\text{GrLiveArea}) =  10895.38 + 112.12 \\text{GrLiveArea}$$\n",
    "\n",
    "Isto quer dizer que:\n",
    "\n",
    "> Aumentando a variável \"GrLiveArea\" em uma unidade faz com que o preço seja aumentado em USD 112.12!\n",
    "\n",
    "> O preço mínimo a ser pago, independente da área construída, é de 10895.38!"
   ]
  },
  {
   "cell_type": "markdown",
   "metadata": {},
   "source": [
    "Podemos visualizar o modelo treinado, neste caso:"
   ]
  },
  {
   "cell_type": "code",
   "execution_count": 51,
   "metadata": {
    "ExecuteTime": {
     "end_time": "2022-05-13T21:28:33.655086Z",
     "start_time": "2022-05-13T21:28:33.339742Z"
    }
   },
   "outputs": [
    {
     "data": {
      "image/png": "[encoded data removed]",
      "text/plain": [
       "<Figure size 864x432 with 1 Axes>"
      ]
     },
     "metadata": {
      "needs_background": "light"
     },
     "output_type": "display_data"
    }
   ],
   "source": [
    "plt.figure(figsize=(12, 6))\n",
    "\n",
    "sns.scatterplot(x=X_train[\"GrLivArea\"], y=y_train)\n",
    "\n",
    "sns.scatterplot(x=X_test[\"GrLivArea\"], y=y_test)\n",
    "\n",
    "# ==============================================\n",
    "\n",
    "x = np.linspace(0, X_train[\"GrLivArea\"].max(), 100)\n",
    "y = reglin.intercept_ + reglin.coef_[0]*x\n",
    "\n",
    "plt.plot(x, y, color=\"red\")\n",
    "\n",
    "plt.axvline(x=0, color=\"black\")\n",
    "\n",
    "plt.show()"
   ]
  },
  {
   "cell_type": "code",
   "execution_count": 52,
   "metadata": {
    "ExecuteTime": {
     "end_time": "2022-05-13T21:28:34.492119Z",
     "start_time": "2022-05-13T21:28:33.658067Z"
    }
   },
   "outputs": [
    {
     "data": {
      "text/plain": [
       "<seaborn.axisgrid.JointGrid at 0x1c8b386b040>"
      ]
     },
     "execution_count": 52,
     "metadata": {},
     "output_type": "execute_result"
    },
    {
     "data": {
      "image/png": "[encoded data removed]",
      "text/plain": [
       "<Figure size 432x432 with 3 Axes>"
      ]
     },
     "metadata": {
      "needs_background": "light"
     },
     "output_type": "display_data"
    }
   ],
   "source": [
    "sns.jointplot(x=X_train[\"GrLivArea\"], y=y_train, kind=\"reg\")"
   ]
  },
  {
   "cell_type": "code",
   "execution_count": 53,
   "metadata": {
    "ExecuteTime": {
     "end_time": "2022-05-13T21:28:34.873967Z",
     "start_time": "2022-05-13T21:28:34.494119Z"
    }
   },
   "outputs": [
    {
     "data": {
      "text/plain": [
       "<AxesSubplot:xlabel='GrLivArea', ylabel='SalePrice'>"
      ]
     },
     "execution_count": 53,
     "metadata": {},
     "output_type": "execute_result"
    },
    {
     "data": {
      "image/png": "[encoded data removed]",
      "text/plain": [
       "<Figure size 432x288 with 1 Axes>"
      ]
     },
     "metadata": {
      "needs_background": "light"
     },
     "output_type": "display_data"
    }
   ],
   "source": [
    "sns.regplot(x=X_train[\"GrLivArea\"], y=y_train)"
   ]
  },
  {
   "cell_type": "markdown",
   "metadata": {},
   "source": [
    "É raro que consigamos visualizar nosso modelo final como fizemos acima, mas no caso da regressão linear simples, temos essa sorte! :)\n",
    "\n",
    "Vamos agora fazer algumas previsões!"
   ]
  },
  {
   "cell_type": "code",
   "execution_count": 54,
   "metadata": {
    "ExecuteTime": {
     "end_time": "2022-05-13T21:28:34.889956Z",
     "start_time": "2022-05-13T21:28:34.876966Z"
    }
   },
   "outputs": [
    {
     "name": "stdout",
     "output_type": "stream",
     "text": [
      "Para uma casa de área 3000, o preço deve ser 347270.8925258354\n"
     ]
    }
   ],
   "source": [
    "x = 3000\n",
    "y = reglin.intercept_ + reglin.coef_[0]*x\n",
    "\n",
    "print(f\"Para uma casa de área {x}, o preço deve ser {y}\")"
   ]
  },
  {
   "cell_type": "markdown",
   "metadata": {},
   "source": [
    "Ou ainda:"
   ]
  },
  {
   "cell_type": "code",
   "execution_count": 55,
   "metadata": {
    "ExecuteTime": {
     "end_time": "2022-05-13T21:28:35.017438Z",
     "start_time": "2022-05-13T21:28:34.892956Z"
    }
   },
   "outputs": [
    {
     "name": "stdout",
     "output_type": "stream",
     "text": [
      "Para uma casa de área 3000, o preço deve ser 347270.8925258354\n"
     ]
    }
   ],
   "source": [
    "x = 3000\n",
    "y = reglin.predict([[x]])\n",
    "\n",
    "print(f\"Para uma casa de área {x}, o preço deve ser {y[0]}\")"
   ]
  },
  {
   "cell_type": "markdown",
   "metadata": {},
   "source": [
    "Pedizendo vários valores de uma vez (muito mais comum)"
   ]
  },
  {
   "cell_type": "code",
   "execution_count": 56,
   "metadata": {
    "ExecuteTime": {
     "end_time": "2022-05-13T21:28:35.127674Z",
     "start_time": "2022-05-13T21:28:35.020420Z"
    }
   },
   "outputs": [
    {
     "data": {
      "text/plain": [
       "array([[1068],\n",
       "       [2622],\n",
       "       [1028],\n",
       "       [1664],\n",
       "       [1620],\n",
       "       [ 630],\n",
       "       [1954],\n",
       "       [1456],\n",
       "       [ 630],\n",
       "       [1393],\n",
       "       [1477],\n",
       "       [ 874],\n",
       "       [ 894],\n",
       "       [1535],\n",
       "       [1690],\n",
       "       [1008],\n",
       "       [1720],\n",
       "       [1134],\n",
       "       [1012],\n",
       "       [1479],\n",
       "       [1803],\n",
       "       [1590],\n",
       "       [1476],\n",
       "       [ 936],\n",
       "       [1431],\n",
       "       [1199],\n",
       "       [1340],\n",
       "       [ 864],\n",
       "       [1604],\n",
       "       [1352],\n",
       "       [1252],\n",
       "       [2046],\n",
       "       [3086],\n",
       "       [ 952],\n",
       "       [1636],\n",
       "       [1136],\n",
       "       [1904],\n",
       "       [1928],\n",
       "       [2520],\n",
       "       [ 882],\n",
       "       [1176],\n",
       "       [2110],\n",
       "       [ 950],\n",
       "       [2042],\n",
       "       [ 988],\n",
       "       [2210],\n",
       "       [ 912],\n",
       "       [ 955],\n",
       "       [2296],\n",
       "       [1524],\n",
       "       [ 988],\n",
       "       [1567],\n",
       "       [1304],\n",
       "       [2898],\n",
       "       [ 848],\n",
       "       [1734],\n",
       "       [1775],\n",
       "       [1126],\n",
       "       [1117],\n",
       "       [ 827],\n",
       "       [ 520],\n",
       "       [1246],\n",
       "       [2473],\n",
       "       [1506],\n",
       "       [1776],\n",
       "       [2158],\n",
       "       [1034],\n",
       "       [2262],\n",
       "       [ 974],\n",
       "       [1458],\n",
       "       [1535],\n",
       "       [1211],\n",
       "       [ 907],\n",
       "       [1040],\n",
       "       [2364],\n",
       "       [1291],\n",
       "       [2392],\n",
       "       [2418],\n",
       "       [1150],\n",
       "       [ 780],\n",
       "       [ 987],\n",
       "       [1077],\n",
       "       [ 988],\n",
       "       [ 886],\n",
       "       [1400],\n",
       "       [1573],\n",
       "       [1939],\n",
       "       [1453],\n",
       "       [ 848],\n",
       "       [1456],\n",
       "       [1559],\n",
       "       [1620],\n",
       "       [ 816],\n",
       "       [2730],\n",
       "       [1768],\n",
       "       [1316],\n",
       "       [1548],\n",
       "       [1452],\n",
       "       [1498],\n",
       "       [2353],\n",
       "       [1657],\n",
       "       [1768],\n",
       "       [2223],\n",
       "       [ 854],\n",
       "       [1432],\n",
       "       [1478],\n",
       "       [1026],\n",
       "       [1742],\n",
       "       [ 990],\n",
       "       [2080],\n",
       "       [ 800],\n",
       "       [1040],\n",
       "       [1040],\n",
       "       [1513],\n",
       "       [1797],\n",
       "       [ 804],\n",
       "       [ 901],\n",
       "       [ 872],\n",
       "       [1902],\n",
       "       [1629],\n",
       "       [ 767],\n",
       "       [ 848],\n",
       "       [1600],\n",
       "       [1848],\n",
       "       [1412],\n",
       "       [ 935],\n",
       "       [2256],\n",
       "       [ 935],\n",
       "       [1099],\n",
       "       [1664],\n",
       "       [1582],\n",
       "       [2028],\n",
       "       [1779],\n",
       "       [2229],\n",
       "       [ 480],\n",
       "       [1718],\n",
       "       [1702],\n",
       "       [ 938],\n",
       "       [1654],\n",
       "       [4316],\n",
       "       [2794],\n",
       "       [ 928],\n",
       "       [1732],\n",
       "       [1694],\n",
       "       [1056],\n",
       "       [ 900],\n",
       "       [2057],\n",
       "       [1430],\n",
       "       [ 768],\n",
       "       [ 864],\n",
       "       [1180],\n",
       "       [1348],\n",
       "       [2515],\n",
       "       [2274],\n",
       "       [1077],\n",
       "       [1792],\n",
       "       [1258],\n",
       "       [1375],\n",
       "       [ 605],\n",
       "       [1144],\n",
       "       [1234],\n",
       "       [1056],\n",
       "       [1646],\n",
       "       [1526],\n",
       "       [1216],\n",
       "       [1800],\n",
       "       [1950],\n",
       "       [2574],\n",
       "       [2868],\n",
       "       [2403],\n",
       "       [1944],\n",
       "       [ 882],\n",
       "       [1522],\n",
       "       [1556],\n",
       "       [2872],\n",
       "       [1588],\n",
       "       [1487],\n",
       "       [1717],\n",
       "       [1360],\n",
       "       [1573],\n",
       "       [1265],\n",
       "       [1044],\n",
       "       [ 954],\n",
       "       [1389],\n",
       "       [1989],\n",
       "       [1710],\n",
       "       [1689],\n",
       "       [1500],\n",
       "       [1368],\n",
       "       [1092],\n",
       "       [1365],\n",
       "       [1073],\n",
       "       [1308],\n",
       "       [1118],\n",
       "       [1306],\n",
       "       [2008],\n",
       "       [1247],\n",
       "       [1317],\n",
       "       [1739],\n",
       "       [1343],\n",
       "       [1533],\n",
       "       [1446],\n",
       "       [1344],\n",
       "       [2630],\n",
       "       [1337],\n",
       "       [ 980],\n",
       "       [2020],\n",
       "       [1121],\n",
       "       [1595],\n",
       "       [ 892],\n",
       "       [2243],\n",
       "       [1285],\n",
       "       [1225],\n",
       "       [1471],\n",
       "       [1363],\n",
       "       [1566],\n",
       "       [1402],\n",
       "       [1144],\n",
       "       [1352],\n",
       "       [1734],\n",
       "       [ 894],\n",
       "       [1324],\n",
       "       [1647],\n",
       "       [1131],\n",
       "       [1466],\n",
       "       [1215],\n",
       "       [1128],\n",
       "       [ 968],\n",
       "       [1632],\n",
       "       [1178],\n",
       "       [ 930],\n",
       "       [1501],\n",
       "       [ 864],\n",
       "       [1229],\n",
       "       [1915],\n",
       "       [1396],\n",
       "       [1208],\n",
       "       [ 996],\n",
       "       [2062],\n",
       "       [ 923],\n",
       "       [ 720],\n",
       "       [2978],\n",
       "       [1744],\n",
       "       [2945],\n",
       "       [1876],\n",
       "       [1347],\n",
       "       [1431],\n",
       "       [1137],\n",
       "       [1060],\n",
       "       [ 789],\n",
       "       [1838],\n",
       "       [1472],\n",
       "       [1505],\n",
       "       [ 691],\n",
       "       [1159],\n",
       "       [1069],\n",
       "       [1224],\n",
       "       [1302],\n",
       "       [1603],\n",
       "       [2090],\n",
       "       [1973],\n",
       "       [1208],\n",
       "       [ 894],\n",
       "       [1644],\n",
       "       [1726],\n",
       "       [1933],\n",
       "       [1337],\n",
       "       [ 848],\n",
       "       [1005],\n",
       "       [1430],\n",
       "       [2076],\n",
       "       [1337],\n",
       "       [1971],\n",
       "       [1112],\n",
       "       [1224],\n",
       "       [1002],\n",
       "       [1709],\n",
       "       [1869],\n",
       "       [1473],\n",
       "       [1558],\n",
       "       [1776],\n",
       "       [ 630],\n",
       "       [1576],\n",
       "       [ 792],\n",
       "       [1718],\n",
       "       [1489],\n",
       "       [1840],\n",
       "       [1131],\n",
       "       [1530],\n",
       "       [1456],\n",
       "       [1510],\n",
       "       [ 864]], dtype=int64)"
      ]
     },
     "execution_count": 56,
     "metadata": {},
     "output_type": "execute_result"
    }
   ],
   "source": [
    "X_test[\"GrLivArea\"].values.reshape(-1, 1)"
   ]
  },
  {
   "cell_type": "code",
   "execution_count": 57,
   "metadata": {
    "ExecuteTime": {
     "end_time": "2022-05-13T21:28:35.238397Z",
     "start_time": "2022-05-13T21:28:35.130644Z"
    },
    "scrolled": true
   },
   "outputs": [
    {
     "data": {
      "text/plain": [
       "array([154500, 325000, 115000, 159000, 315500,  75500, 311500, 146000,\n",
       "        84500, 135500], dtype=int64)"
      ]
     },
     "execution_count": 57,
     "metadata": {},
     "output_type": "execute_result"
    }
   ],
   "source": [
    "y_test.values[:10]"
   ]
  },
  {
   "cell_type": "code",
   "execution_count": 58,
   "metadata": {
    "ExecuteTime": {
     "end_time": "2022-05-13T21:28:35.347613Z",
     "start_time": "2022-05-13T21:28:35.240404Z"
    }
   },
   "outputs": [
    {
     "data": {
      "text/plain": [
       "array([130645.06, 304887.58, 126160.06, 197471.66, 192538.16,  81534.24,\n",
       "       229987.96, 174149.63,  81534.24, 167085.74])"
      ]
     },
     "execution_count": 58,
     "metadata": {},
     "output_type": "execute_result"
    }
   ],
   "source": [
    "reglin.predict(X_test[\"GrLivArea\"].values.reshape(-1, 1)).round(2)[:10]"
   ]
  },
  {
   "cell_type": "markdown",
   "metadata": {},
   "source": [
    "____________"
   ]
  },
  {
   "cell_type": "markdown",
   "metadata": {},
   "source": [
    "# Passo 2 - avaliação do modelo"
   ]
  },
  {
   "cell_type": "markdown",
   "metadata": {},
   "source": [
    "Agora que temos o modelo treinado e algumas previsões, como avaliamos a performance do modelo?\n",
    "\n",
    "É nesse momento que entra em jogo a **base de teste**!\n",
    "\n",
    "Conheceremos agora algumas **métricas de avaliação**, que são medidas quantitativas para, de uma forma ou de outra, **comparar os targets reais com os targets preditos**.\n",
    "\n",
    "> Existem várias métricas de avaliação diferentes, e cada uma avalia **um aspecto particular** da performance do modelo.\n",
    "\n",
    "> Problemas de regressão e classificação admitem métricas de avaliação diferentes, dada a diferença entre os targets (contínuo vs discreto).\n",
    "\n",
    "Ao analisarmos estas métricas **calculadas na base de teste**, podemos ter uma ideia boa sobre o **poder de generalização** de nosso modelo, pois estaremos efetivamente testando o modelo com **observações que não foram utilizadas em sua construção!**\n",
    "\n",
    "Obs.: até podemos calcular as métricas de avaliação na base de treino, mas o propósito desse cálculo **não é a avaliação da generalização**. Veremos mais a frente em que contextos vale a pena calcularmos as métricas na base de treino. Mas, antes, vamos conhecer quais são as principais métricas!"
   ]
  },
  {
   "cell_type": "code",
   "execution_count": 59,
   "metadata": {
    "ExecuteTime": {
     "end_time": "2022-05-13T21:28:35.442376Z",
     "start_time": "2022-05-13T21:28:35.349592Z"
    }
   },
   "outputs": [],
   "source": [
    "y_pred = reglin.predict(X_test[\"GrLivArea\"].values.reshape(-1, 1)).round(2)"
   ]
  },
  {
   "cell_type": "code",
   "execution_count": 60,
   "metadata": {
    "ExecuteTime": {
     "end_time": "2022-05-13T21:28:35.551739Z",
     "start_time": "2022-05-13T21:28:35.446373Z"
    },
    "scrolled": true
   },
   "outputs": [
    {
     "data": {
      "text/plain": [
       "array([130645.06, 304887.58, 126160.06, 197471.66, 192538.16,  81534.24,\n",
       "       229987.96, 174149.63,  81534.24, 167085.74, 176504.26, 108892.78,\n",
       "       111135.28, 183007.52, 200386.92, 123917.55, 203750.67, 138045.32,\n",
       "       124366.05, 176728.51, 213057.06, 189174.4 , 176392.13, 115844.54,\n",
       "       171346.5 , 145333.46, 161143.11, 107771.53, 190744.15, 162488.61,\n",
       "       151276.09, 240303.48, 356913.66, 117638.54, 194332.16, 138269.57,\n",
       "       224381.71, 227072.71, 293450.81, 109789.78, 142754.58, 247479.49,\n",
       "       117414.29, 239854.98, 121675.05, 258692.01, 113153.54, 117974.92,\n",
       "       268334.77, 181774.14, 121675.05, 186595.52, 157106.6 , 335834.13,\n",
       "       105977.52, 205320.43, 209917.56, 137148.32, 136139.2 , 103622.9 ,\n",
       "        69200.47, 150603.34, 288180.93, 179755.89, 210029.68, 252861.5 ,\n",
       "       126832.81, 264522.52, 120105.3 , 174373.88, 183007.52, 146678.96,\n",
       "       112592.91, 127505.56, 275959.28, 155648.98, 279098.79, 282014.04,\n",
       "       139839.33,  98353.01, 121562.92, 131654.19, 121675.05, 110238.28,\n",
       "       167870.62, 187268.27, 228306.09, 173813.25, 105977.52, 174149.63,\n",
       "       185698.52, 192538.16, 102389.52, 316997.1 , 209132.68, 158452.1 ,\n",
       "       184465.14, 173701.13, 178858.89, 274725.91, 196686.79, 209132.68,\n",
       "       260149.63, 106650.28, 171458.62, 176616.38, 125935.81, 206217.43,\n",
       "       121899.3 , 244115.74, 100595.52, 127505.56, 127505.56, 180540.76,\n",
       "       212384.31, 101044.02, 111920.16, 108668.53, 224157.45, 193547.28,\n",
       "        96895.39, 105977.52, 190295.65, 218102.7 , 169216.12, 115732.41,\n",
       "       263849.77, 115732.41, 134120.94, 197471.66, 188277.4 , 238285.23,\n",
       "       210366.06, 260822.39,  64715.46, 203526.42, 201732.42, 116068.79,\n",
       "       196350.41, 494827.62, 324173.11, 114947.54, 205096.18, 200835.42,\n",
       "       129299.56, 111808.03, 241536.86, 171234.37,  97007.51, 107771.53,\n",
       "       143203.08, 162040.11, 292890.18, 265868.02, 131654.19, 211823.69,\n",
       "       151948.84, 165067.49,  78731.11, 139166.58, 149257.84, 129299.56,\n",
       "       195453.41, 181998.39, 147239.59, 212720.69, 229539.46, 299505.57,\n",
       "       332470.37, 280332.17, 228866.71, 109789.78, 181549.89, 185362.15,\n",
       "       332918.87, 188950.15, 177625.51, 203414.3 , 163385.61, 187268.27,\n",
       "       152733.72, 127954.06, 117862.79, 166637.24, 233912.34, 202629.42,\n",
       "       200274.79, 179083.14, 164282.61, 133336.07, 163946.24, 131205.69,\n",
       "       157555.1 , 136251.32, 157330.85, 236042.72, 150715.47, 158564.23,\n",
       "       205881.05, 161479.48, 182783.27, 173028.38, 161591.61, 305784.58,\n",
       "       160806.73, 120778.05, 237388.23, 136587.7 , 189735.03, 110911.03,\n",
       "       262392.14, 154976.22, 148248.71, 175831.51, 163721.99, 186483.4 ,\n",
       "       168094.87, 139166.58, 162488.61, 205320.43, 111135.28, 159349.11,\n",
       "       195565.54, 137708.95, 175270.88, 147127.46, 137372.57, 119432.55,\n",
       "       193883.66, 142978.83, 115171.79, 179195.26, 107771.53, 148697.21,\n",
       "       225615.08, 167422.12, 146342.59, 122572.05, 242097.48, 114386.91,\n",
       "        91625.5 , 344804.14, 206441.68, 341104.01, 221242.2 , 161927.99,\n",
       "       171346.5 , 138381.7 , 129748.06,  99362.14, 216981.44, 175943.63,\n",
       "       179643.76,  88373.87, 140848.45, 130757.19, 148136.59, 156882.35,\n",
       "       190632.03, 245236.99, 232118.34, 146342.59, 111135.28, 195229.16,\n",
       "       204423.42, 227633.34, 160806.73, 105977.52, 123581.18, 171234.37,\n",
       "       243667.23, 160806.73, 231894.09, 135578.57, 148136.59, 123244.8 ,\n",
       "       202517.3 , 220457.32, 176055.76, 185586.4 , 210029.68,  81534.24,\n",
       "       187604.65,  99698.52, 203526.42, 177849.76, 217205.69, 137708.95,\n",
       "       182446.89, 174149.63, 180204.39, 107771.53])"
      ]
     },
     "execution_count": 60,
     "metadata": {},
     "output_type": "execute_result"
    }
   ],
   "source": [
    "y_pred"
   ]
  },
  {
   "cell_type": "markdown",
   "metadata": {},
   "source": [
    "Observação: a coluna \"Id\" traz apenas um número de identificação arbitrário que não deve ser correlacionado com o target. Portanto, vamos desconsiderar esta coluna de nosso modelo!"
   ]
  },
  {
   "cell_type": "markdown",
   "metadata": {},
   "source": [
    "Vamos conhecer algumas métricas para problemas de regressão!"
   ]
  },
  {
   "cell_type": "markdown",
   "metadata": {},
   "source": [
    "Em problemas de regressão, é uma boa ideia dar uma olhada nos **resíduos** das predições! Os resíduos nada mais são do que **os erros do modelo**, ou seja, **a diferença entre cada valor predito e o valor real**, para **os dados de teste!** Isto é,\n",
    "\n",
    "$$R(y_i) = y_i - \\hat{y}_i $$\n",
    "\n",
    "Rearranjando os termos, podemos escrever a equação acima como:\n",
    "\n",
    "$$ \\hat{y}_i= y_i - R(y_i)  $$\n",
    "\n",
    "Perceba, portanto, que um modelo perfeito (o que, lembre-se, é virtualmente impossível, e não o que queremos!), seria tal que $\\hat{y}_i= y_i$. Podemos visualizar este caso:"
   ]
  },
  {
   "cell_type": "code",
   "execution_count": 61,
   "metadata": {
    "ExecuteTime": {
     "end_time": "2022-05-13T21:28:35.807024Z",
     "start_time": "2022-05-13T21:28:35.553739Z"
    }
   },
   "outputs": [
    {
     "data": {
      "image/png": "[encoded data removed]",
      "text/plain": [
       "<Figure size 432x288 with 1 Axes>"
      ]
     },
     "metadata": {
      "needs_background": "light"
     },
     "output_type": "display_data"
    }
   ],
   "source": [
    "x = np.linspace(0, y_test.max())\n",
    "y = x\n",
    "\n",
    "plt.plot(x, y, color=\"red\", ls=\":\")\n",
    "\n",
    "sns.scatterplot(x=y_test, y=y_pred)\n",
    "\n",
    "plt.xlabel(\"Real\")\n",
    "plt.ylabel(\"Predito\")\n",
    "\n",
    "plt.show()"
   ]
  },
  {
   "cell_type": "markdown",
   "metadata": {},
   "source": [
    "O caso 100% perfeito (na prática, impossível) seria $y_i = \\hat{y}_i$, o que produziria uma reta exata!\n",
    "\n",
    "Quanto mais \"espalhados\" estiverem os pontos em torno da reta, em geral **pior é o modelo**, pois ele está errando mais!\n",
    "\n",
    "Uma forma de quantificar isso através de uma métrica conhecida como **$R^2$**, o **coeficiente de determinação**.\n",
    "\n",
    "Este coeficiente indica **o quão próximos os dados estão da reta ajustada**. Por outro lado, o $R^2$ representa a porcentagem de variação na resposta que é explicada pelo modelo.\n",
    "\n",
    "$$R^2 = 1 - \\frac{\\sum_{i=1}^n(y_i-\\hat{y}_i)^2}{\\sum_{i=1}^n(y_i-\\bar{y})^2}$$\n",
    "\n",
    "É possível utilizar o $R^2$ nos dados de treino, mas temos que tomar muito cuidado com a forma como interpretaremos esta métrica! Discutiremos mais a diante a importância de calcularmos as métricas de avaliação também na base de treino.\n",
    "\n",
    "Por enquanto, vamos calcular o $R^2$ nos dados de teste apenas, como faremos a seguir. Essa métrica equivale, portanto, **ao gráfico que fizemos acima!**\n",
    "\n",
    "Então, quanto mais próximo de 1, melhor o modelo!"
   ]
  },
  {
   "cell_type": "code",
   "execution_count": 62,
   "metadata": {
    "ExecuteTime": {
     "end_time": "2022-05-13T21:28:35.823021Z",
     "start_time": "2022-05-13T21:28:35.810027Z"
    }
   },
   "outputs": [
    {
     "data": {
      "text/plain": [
       "181457.09348198972"
      ]
     },
     "execution_count": 62,
     "metadata": {},
     "output_type": "execute_result"
    }
   ],
   "source": [
    "# esse é o y_barra (valor medio do target - é o modelo mais simples possível)\n",
    "y_train.mean()"
   ]
  },
  {
   "cell_type": "code",
   "execution_count": 63,
   "metadata": {
    "ExecuteTime": {
     "end_time": "2022-05-13T21:28:35.950111Z",
     "start_time": "2022-05-13T21:28:35.826022Z"
    }
   },
   "outputs": [
    {
     "data": {
      "text/plain": [
       "0.5675383111402961"
      ]
     },
     "execution_count": 63,
     "metadata": {},
     "output_type": "execute_result"
    }
   ],
   "source": [
    "from sklearn.metrics import r2_score\n",
    "\n",
    "r2_score(y_test, y_pred)"
   ]
  },
  {
   "cell_type": "markdown",
   "metadata": {},
   "source": [
    "Outra coisa importante é que os resíduos sejam normalmente distribuídos (isso faz parte das premissas da visão mais estatística da regressão linear). Se esse não for o caso, pode ser importante que você reveja se a regressão linear de fato é um modelo adequado ao seu problema.\n",
    "\n",
    "Mas, de maneira mais genérica, é interessante avaliarmos a **distribuição dos resíduos** para termos uma ideia da distribuição dos erros."
   ]
  },
  {
   "cell_type": "code",
   "execution_count": 64,
   "metadata": {
    "ExecuteTime": {
     "end_time": "2022-05-13T21:28:36.061979Z",
     "start_time": "2022-05-13T21:28:35.952090Z"
    }
   },
   "outputs": [
    {
     "data": {
      "text/plain": [
       "892      23854.94\n",
       "1105     20112.42\n",
       "413     -11160.06\n",
       "522     -38471.66\n",
       "1036    122961.84\n",
       "          ...    \n",
       "479     -48237.95\n",
       "1361     77553.11\n",
       "802      14850.37\n",
       "651     -72204.39\n",
       "722      16728.47\n",
       "Name: SalePrice, Length: 292, dtype: float64"
      ]
     },
     "execution_count": 64,
     "metadata": {},
     "output_type": "execute_result"
    }
   ],
   "source": [
    "residuos = y_test - y_pred\n",
    "\n",
    "residuos"
   ]
  },
  {
   "cell_type": "code",
   "execution_count": 65,
   "metadata": {
    "ExecuteTime": {
     "end_time": "2022-05-13T21:28:36.365625Z",
     "start_time": "2022-05-13T21:28:36.064975Z"
    }
   },
   "outputs": [
    {
     "data": {
      "image/png": "[encoded data removed]",
      "text/plain": [
       "<Figure size 432x288 with 1 Axes>"
      ]
     },
     "metadata": {
      "needs_background": "light"
     },
     "output_type": "display_data"
    }
   ],
   "source": [
    "sns.histplot(residuos, kde=True);"
   ]
  },
  {
   "cell_type": "code",
   "execution_count": 66,
   "metadata": {
    "ExecuteTime": {
     "end_time": "2022-05-13T21:28:36.381595Z",
     "start_time": "2022-05-13T21:28:36.368603Z"
    }
   },
   "outputs": [
    {
     "data": {
      "text/plain": [
       "count       292.000000\n",
       "mean       3376.936062\n",
       "std       57594.082908\n",
       "min     -156822.390000\n",
       "25%      -29205.515000\n",
       "50%        -176.810000\n",
       "75%       22218.205000\n",
       "max      335697.720000\n",
       "Name: SalePrice, dtype: float64"
      ]
     },
     "execution_count": 66,
     "metadata": {},
     "output_type": "execute_result"
    }
   ],
   "source": [
    "residuos.describe()"
   ]
  },
  {
   "cell_type": "markdown",
   "metadata": {},
   "source": [
    "Além dos resíduos, existem três principais **métricas de avaliação** do modelo de regressão linear:"
   ]
  },
  {
   "cell_type": "markdown",
   "metadata": {},
   "source": [
    "**Mean Absolute Error** (MAE) é a média do valor absoluto de todos os resíduos (erros):\n",
    "\n",
    "$$\\frac 1n\\sum_{i=1}^n|y_i-\\hat{y}_i|$$\n",
    "\n",
    "**Mean Squared Error** (MSE) é a média dos erros quadrados:\n",
    "\n",
    "$$\\frac 1n\\sum_{i=1}^n(y_i-\\hat{y}_i)^2$$\n",
    "\n",
    "**Root Mean Squared Error** (RMSE) é a raiz quadrada da média dos erros quadrados:\n",
    "\n",
    "$$\\sqrt{\\frac 1n\\sum_{i=1}^n(y_i-\\hat{y}_i)^2}$$\n",
    "\n",
    "**Mean absolute percentage error** (MAPE) é o erro absoluto médio relativo ao valor real dos targets:\n",
    "\n",
    "$$\\frac 1n\\sum_{i=1}^n \\left | \\frac{y_i-\\hat{y}_i}{y_i} \\right| $$\n",
    "\n",
    "Comparando as métricas:\n",
    "\n",
    "- **MAE** é a mais simples de entender, mas ela penaliza mais erros menores;\n",
    "- **MSE** é a métrica mais popular, pois essa métrica penaliza mais erros maiores, o que faz mais sentido na maior parte das aplicações reais.\n",
    "- **RMSE** é ainda mais popular, pois esta métrica está nas mesmas unidades que o target.\n",
    "- **MAPE** penaliza mais resíduos negativos (isto é, erros pra cima) do que residuos positivos (erros pra baixo).\n",
    "    - $y_i = 100$ e $\\hat{y}_i = 150$ (erro pra cima). Temos: $\\text{MAPE} = \\left | \\frac{100 - 150}{100} \\right| = 50 \\%$\n",
    "    - $y_i = 200$ e $\\hat{y}_i = 150$ (erro pra baixo). Temos: $\\text{MAPE} = \\left | \\frac{200 - 150}{200} \\right| = 25 \\%$\n",
    "\n",
    "Estas métricas todas podem ser utilizadas como **funções de custo** a serem minimizadas pelo algoritmo do estimador.\n",
    "\n",
    "Inclusive, já conhecemos uma delas: O MSE, que é usado como função de custo para o OLS!"
   ]
  },
  {
   "cell_type": "code",
   "execution_count": 67,
   "metadata": {
    "ExecuteTime": {
     "end_time": "2022-05-13T21:28:36.509063Z",
     "start_time": "2022-05-13T21:28:36.385594Z"
    }
   },
   "outputs": [
    {
     "name": "stdout",
     "output_type": "stream",
     "text": [
      "MAE: 38473.85\n",
      "RMSE: 57594.46\n",
      "MAPE: 0.23\n"
     ]
    }
   ],
   "source": [
    "from sklearn.metrics import mean_absolute_error, mean_squared_error, mean_absolute_percentage_error\n",
    "\n",
    "print(f\"MAE: {mean_absolute_error(y_test, y_pred):.2f}\")\n",
    "# print(f\"MSE: {mean_squared_error(y_test, y_pred):.2f}\")\n",
    "print(f\"RMSE: {np.sqrt(mean_squared_error(y_test, y_pred)):.2f}\")\n",
    "print(f\"MAPE: {mean_absolute_percentage_error(y_test, y_pred):.2f}\")"
   ]
  },
  {
   "cell_type": "code",
   "execution_count": 68,
   "metadata": {
    "ExecuteTime": {
     "end_time": "2022-05-13T21:28:36.618549Z",
     "start_time": "2022-05-13T21:28:36.518065Z"
    }
   },
   "outputs": [
    {
     "data": {
      "text/plain": [
       "0.2120272581342569"
      ]
     },
     "execution_count": 68,
     "metadata": {},
     "output_type": "execute_result"
    }
   ],
   "source": [
    "38473.85/181457.093482"
   ]
  },
  {
   "cell_type": "code",
   "execution_count": 69,
   "metadata": {
    "ExecuteTime": {
     "end_time": "2022-05-13T21:28:36.714244Z",
     "start_time": "2022-05-13T21:28:36.622508Z"
    }
   },
   "outputs": [
    {
     "data": {
      "text/plain": [
       "count      1166.000000\n",
       "mean     181457.093482\n",
       "std       77327.262158\n",
       "min       34900.000000\n",
       "25%      130000.000000\n",
       "50%      165000.000000\n",
       "75%      214975.000000\n",
       "max      745000.000000\n",
       "Name: SalePrice, dtype: float64"
      ]
     },
     "execution_count": 69,
     "metadata": {},
     "output_type": "execute_result"
    }
   ],
   "source": [
    "y_train.describe()"
   ]
  },
  {
   "cell_type": "markdown",
   "metadata": {},
   "source": [
    "Vamos dar uma olhada em tudo junto:\n"
   ]
  },
  {
   "cell_type": "code",
   "execution_count": 70,
   "metadata": {
    "ExecuteTime": {
     "end_time": "2022-05-13T21:28:36.826112Z",
     "start_time": "2022-05-13T21:28:36.717225Z"
    }
   },
   "outputs": [],
   "source": [
    "def plot_scatter_real_pred(y_test, y_pred):\n",
    "    \n",
    "    x = np.linspace(0, y_test.max())\n",
    "    y = x\n",
    "\n",
    "    plt.title(\"Target real x target predito\")\n",
    "    \n",
    "    plt.plot(x, y, color=\"red\", ls=\":\")\n",
    "\n",
    "    sns.scatterplot(x=y_test, y=y_pred)\n",
    "\n",
    "    plt.xlabel(\"Real\")\n",
    "    plt.ylabel(\"Predito\")\n",
    "\n",
    "    plt.show()"
   ]
  },
  {
   "cell_type": "code",
   "execution_count": 71,
   "metadata": {
    "ExecuteTime": {
     "end_time": "2022-05-13T21:28:36.920562Z",
     "start_time": "2022-05-13T21:28:36.829116Z"
    }
   },
   "outputs": [],
   "source": [
    "from sklearn.linear_model import LinearRegression\n",
    "from sklearn.metrics import mean_absolute_error, mean_squared_error, mean_absolute_percentage_error\n",
    "\n",
    "def reg_lin_pt1_pt2(X_train, y_train, X_test, y_test, plot=True):\n",
    "\n",
    "    # ===============================\n",
    "    # passo 1 - construção do modelo\n",
    "\n",
    "    reglin = LinearRegression()\n",
    "\n",
    "    reglin.fit(X_train, y_train)\n",
    "\n",
    "    # ===============================\n",
    "    # passo 2 - avaliação do modelo\n",
    "\n",
    "    y_pred = reglin.predict(X_test)\n",
    "    \n",
    "    print(\"\\nMétricas de avaliação (dados de teste):\\n\")\n",
    "\n",
    "    if plot:\n",
    "        plot_scatter_real_pred(y_test, y_pred)\n",
    "\n",
    "    print(f\"R^2: {r2_score(y_test, y_pred):.2f}\")\n",
    "    print(f\"MAE: {mean_absolute_error(y_test, y_pred):.2f}\")\n",
    "    print(f\"RMSE: {np.sqrt(mean_squared_error(y_test, y_pred)):.2f}\")\n",
    "    print(f\"MAPE: {(mean_absolute_percentage_error(y_test, y_pred))*100:.2f}%\")\n",
    "\n",
    "    residuos = y_test - y_pred\n",
    "    print(\"\\nDistribuição dos resíduos:\\n\")\n",
    "    print(residuos.describe())\n",
    "    \n",
    "    if plot:\n",
    "        sns.histplot(residuos, kde=True)\n",
    "        plt.show()"
   ]
  },
  {
   "cell_type": "code",
   "execution_count": 72,
   "metadata": {
    "ExecuteTime": {
     "end_time": "2022-05-13T21:28:37.440421Z",
     "start_time": "2022-05-13T21:28:36.922569Z"
    }
   },
   "outputs": [
    {
     "name": "stdout",
     "output_type": "stream",
     "text": [
      "\n",
      "Métricas de avaliação (dados de teste):\n",
      "\n"
     ]
    },
    {
     "data": {
      "image/png": "[encoded data removed]",
      "text/plain": [
       "<Figure size 432x288 with 1 Axes>"
      ]
     },
     "metadata": {
      "needs_background": "light"
     },
     "output_type": "display_data"
    },
    {
     "name": "stdout",
     "output_type": "stream",
     "text": [
      "R^2: 0.57\n",
      "MAE: 38473.84\n",
      "RMSE: 57594.46\n",
      "MAPE: 23.34%\n",
      "\n",
      "Distribuição dos resíduos:\n",
      "\n",
      "count       292.000000\n",
      "mean       3376.936012\n",
      "std       57594.082477\n",
      "min     -156822.385818\n",
      "25%      -29205.512403\n",
      "50%        -176.809412\n",
      "75%       22218.204254\n",
      "max      335697.716120\n",
      "Name: SalePrice, dtype: float64\n"
     ]
    },
    {
     "data": {
      "image/png": "[encoded data removed]",
      "text/plain": [
       "<Figure size 432x288 with 1 Axes>"
      ]
     },
     "metadata": {
      "needs_background": "light"
     },
     "output_type": "display_data"
    }
   ],
   "source": [
    "reg_lin_pt1_pt2(X_train[\"GrLivArea\"].values.reshape(-1, 1), y_train, \n",
    "                X_test[\"GrLivArea\"].values.reshape(-1, 1), y_test,\n",
    "                plot=True)"
   ]
  },
  {
   "cell_type": "code",
   "execution_count": 73,
   "metadata": {
    "ExecuteTime": {
     "end_time": "2022-05-13T21:28:37.472399Z",
     "start_time": "2022-05-13T21:28:37.443426Z"
    }
   },
   "outputs": [
    {
     "name": "stdout",
     "output_type": "stream",
     "text": [
      "\n",
      "Métricas de avaliação (dados de teste):\n",
      "\n",
      "R^2: 0.57\n",
      "MAE: 38473.84\n",
      "RMSE: 57594.46\n",
      "MAPE: 23.34%\n",
      "\n",
      "Distribuição dos resíduos:\n",
      "\n",
      "count       292.000000\n",
      "mean       3376.936012\n",
      "std       57594.082477\n",
      "min     -156822.385818\n",
      "25%      -29205.512403\n",
      "50%        -176.809412\n",
      "75%       22218.204254\n",
      "max      335697.716120\n",
      "Name: SalePrice, dtype: float64\n"
     ]
    }
   ],
   "source": [
    "reg_lin_pt1_pt2(X_train[\"GrLivArea\"].values.reshape(-1, 1), y_train, \n",
    "                X_test[\"GrLivArea\"].values.reshape(-1, 1), y_test,\n",
    "                plot=False)"
   ]
  },
  {
   "cell_type": "markdown",
   "metadata": {},
   "source": [
    "E é isso, passamos pela primeira vez pelo ciclo de modelagem! Muito legal, não é mesmo?\n",
    "\n",
    "Mas, claro, é difícil de acreditar que um modelo tão simples, com uma única feature, é o melhor que podemos fazer.\n",
    "\n",
    "Que tal fazermos algumas mudanças? Vamos entrar no ciclo!"
   ]
  },
  {
   "cell_type": "markdown",
   "metadata": {},
   "source": [
    "___\n",
    "___\n",
    "___"
   ]
  },
  {
   "cell_type": "markdown",
   "metadata": {},
   "source": [
    "## 3) Regressão linear múltipla\n",
    "\n",
    "O modelo que fizemos acima considera uma única feature como preditora do preço da casa.\n",
    "\n",
    "Mas temos outras 78 dessas features! Será que não há mais informação útil em todas essas outras variáveis?\n",
    "\n",
    "Em geral, sim! É natural que esperemos que **mais variáveis** tragam **mais informações** ao modelo, e, portanto, o torne mais preciso! (embora, como veremos, não é verdade necessariamente que mais features nos deem um melhor modelo, em todos os casos).\n",
    "\n",
    "Para incorporar estas outras variáveis ao modelo, é muito simples! "
   ]
  },
  {
   "cell_type": "markdown",
   "metadata": {},
   "source": [
    "Podemos passar a utilizar outros atributos (como o número de cômodos, qual é a renda média da vizinhança, etc.), e neste caso teremos uma **Regressão Linear Múltipla**, que é expressa pela seguinte função de hipótese:\n",
    "\n",
    "$$ \\hat{y} = f_{H, \\vec{b}} = b_0 + b_1 X_1 + b_2 X_2 + \\cdots + b_n X_n $$\n",
    "\n",
    "Neste caso, além de $b_0$ e $b_1$, temos também outros coeficientes, um pra cada uma das $n$ features que escolhermos! Ou seja, o vetor de parâmetros tem $n+1$ dimensões:\n",
    "\n",
    "$$\\vec{b} = \\begin{bmatrix}\n",
    "b_0\\\\ \n",
    "b_1\\\\\n",
    "\\vdots\\\\\n",
    "b_n\n",
    "\\end{bmatrix}$$\n",
    "\n",
    "Modelos de regressão múltipla são potencialmente mais precisos, mas há também um lado ruim: nós perdemos a **possibilidade de visualização**. Agora, não temos mais uma reta, mas sim um **hiperplano** que relaciona todas as features com o target!\n",
    "\n",
    "<img src=\"https://miro.medium.com/max/1120/0*rGSfRsMjiQeG5jof.png\" width=500>"
   ]
  },
  {
   "cell_type": "markdown",
   "metadata": {},
   "source": [
    "O OLS também é válido para a regressão linear múltipla, mas o fato de termos muitas variáveis faz com que os cálculos do problema de otimização sejam consideravelmente mais complicados.\n",
    "\n",
    "Para facilitar este procedimento, é muito comum utilizarmos uma **notação matricial**, que facilita muitíssimo o cálculo do problema de otimização. Para os interessados, sugiro as referências, ou então [esta lecture](https://web.stanford.edu/~mrosenfe/soc_meth_proj3/matrix_OLS_NYU_notes.pdf)."
   ]
  },
  {
   "cell_type": "markdown",
   "metadata": {},
   "source": [
    "Vamos construir esse modelo na prática com o sklearn!"
   ]
  },
  {
   "cell_type": "markdown",
   "metadata": {},
   "source": [
    "Lembrando que podemos apenas passar pro sklearn **dados numéricos** e **preenchidos** (sem NaNs)!"
   ]
  },
  {
   "cell_type": "markdown",
   "metadata": {},
   "source": [
    "V amos ler os dados novamente, pra garantir\n",
    "\n",
    "Em particular, NÃO estamos mais jogando fora aqueles dois outliers! Isso vai ser legal pra gente analisar sua influência no modelo final :)"
   ]
  },
  {
   "cell_type": "code",
   "execution_count": 74,
   "metadata": {
    "ExecuteTime": {
     "end_time": "2022-05-13T21:28:37.599547Z",
     "start_time": "2022-05-13T21:28:37.476397Z"
    }
   },
   "outputs": [],
   "source": [
    "df = pd.read_csv(\"../datasets/house_prices.csv\")\n",
    "\n",
    "X = df.drop(columns=[\"Id\", \"SalePrice\"])\n",
    "y = df[\"SalePrice\"]\n",
    "\n",
    "X_train, X_test, y_train, y_test = train_test_split(X, y, test_size=0.2, random_state=42)"
   ]
  },
  {
   "cell_type": "code",
   "execution_count": 75,
   "metadata": {
    "ExecuteTime": {
     "end_time": "2022-05-13T21:28:37.710477Z",
     "start_time": "2022-05-13T21:28:37.602526Z"
    },
    "scrolled": true
   },
   "outputs": [
    {
     "name": "stdout",
     "output_type": "stream",
     "text": [
      "<class 'pandas.core.frame.DataFrame'>\n",
      "Int64Index: 1168 entries, 254 to 1126\n",
      "Data columns (total 36 columns):\n",
      " #   Column         Non-Null Count  Dtype  \n",
      "---  ------         --------------  -----  \n",
      " 0   MSSubClass     1168 non-null   int64  \n",
      " 1   LotFrontage    951 non-null    float64\n",
      " 2   LotArea        1168 non-null   int64  \n",
      " 3   OverallQual    1168 non-null   int64  \n",
      " 4   OverallCond    1168 non-null   int64  \n",
      " 5   YearBuilt      1168 non-null   int64  \n",
      " 6   YearRemodAdd   1168 non-null   int64  \n",
      " 7   MasVnrArea     1162 non-null   float64\n",
      " 8   BsmtFinSF1     1168 non-null   int64  \n",
      " 9   BsmtFinSF2     1168 non-null   int64  \n",
      " 10  BsmtUnfSF      1168 non-null   int64  \n",
      " 11  TotalBsmtSF    1168 non-null   int64  \n",
      " 12  1stFlrSF       1168 non-null   int64  \n",
      " 13  2ndFlrSF       1168 non-null   int64  \n",
      " 14  LowQualFinSF   1168 non-null   int64  \n",
      " 15  GrLivArea      1168 non-null   int64  \n",
      " 16  BsmtFullBath   1168 non-null   int64  \n",
      " 17  BsmtHalfBath   1168 non-null   int64  \n",
      " 18  FullBath       1168 non-null   int64  \n",
      " 19  HalfBath       1168 non-null   int64  \n",
      " 20  BedroomAbvGr   1168 non-null   int64  \n",
      " 21  KitchenAbvGr   1168 non-null   int64  \n",
      " 22  TotRmsAbvGrd   1168 non-null   int64  \n",
      " 23  Fireplaces     1168 non-null   int64  \n",
      " 24  GarageYrBlt    1104 non-null   float64\n",
      " 25  GarageCars     1168 non-null   int64  \n",
      " 26  GarageArea     1168 non-null   int64  \n",
      " 27  WoodDeckSF     1168 non-null   int64  \n",
      " 28  OpenPorchSF    1168 non-null   int64  \n",
      " 29  EnclosedPorch  1168 non-null   int64  \n",
      " 30  3SsnPorch      1168 non-null   int64  \n",
      " 31  ScreenPorch    1168 non-null   int64  \n",
      " 32  PoolArea       1168 non-null   int64  \n",
      " 33  MiscVal        1168 non-null   int64  \n",
      " 34  MoSold         1168 non-null   int64  \n",
      " 35  YrSold         1168 non-null   int64  \n",
      "dtypes: float64(3), int64(33)\n",
      "memory usage: 337.6 KB\n"
     ]
    }
   ],
   "source": [
    "X_train.select_dtypes(include=np.number).info()"
   ]
  },
  {
   "cell_type": "code",
   "execution_count": 76,
   "metadata": {
    "ExecuteTime": {
     "end_time": "2022-05-13T21:28:37.850628Z",
     "start_time": "2022-05-13T21:28:37.713454Z"
    }
   },
   "outputs": [
    {
     "data": {
      "text/plain": [
       "LotFrontage    217\n",
       "MasVnrArea       6\n",
       "GarageYrBlt     64\n",
       "dtype: int64"
      ]
     },
     "execution_count": 76,
     "metadata": {},
     "output_type": "execute_result"
    }
   ],
   "source": [
    "nulos = X_train.select_dtypes(include=np.number).isnull().sum()\n",
    "\n",
    "nulos[nulos > 0]"
   ]
  },
  {
   "cell_type": "code",
   "execution_count": 77,
   "metadata": {
    "ExecuteTime": {
     "end_time": "2022-05-13T21:28:37.946637Z",
     "start_time": "2022-05-13T21:28:37.853608Z"
    }
   },
   "outputs": [
    {
     "data": {
      "text/plain": [
       "LotFrontage    42\n",
       "MasVnrArea      2\n",
       "GarageYrBlt    17\n",
       "dtype: int64"
      ]
     },
     "execution_count": 77,
     "metadata": {},
     "output_type": "execute_result"
    }
   ],
   "source": [
    "nulos_teste = X_test.select_dtypes(include=np.number).isnull().sum()\n",
    "\n",
    "nulos_teste[nulos_teste > 0]"
   ]
  },
  {
   "cell_type": "markdown",
   "metadata": {},
   "source": [
    "_____"
   ]
  },
  {
   "cell_type": "code",
   "execution_count": 78,
   "metadata": {
    "ExecuteTime": {
     "end_time": "2022-05-13T21:28:38.041488Z",
     "start_time": "2022-05-13T21:28:37.948634Z"
    }
   },
   "outputs": [],
   "source": [
    "# é isso que vamos usar como features! só dados numéricos, e sem NaNs\n",
    "X_train_model = X_train.select_dtypes(include=np.number).dropna(axis=\"columns\")\n",
    "\n",
    "# usando o .loc no final, pra garantir que pegamos exatamente as mesmas features\n",
    "X_test_model = X_test.loc[:, X_train_model.columns]"
   ]
  },
  {
   "cell_type": "code",
   "execution_count": 79,
   "metadata": {
    "ExecuteTime": {
     "end_time": "2022-05-13T21:28:38.167980Z",
     "start_time": "2022-05-13T21:28:38.043491Z"
    }
   },
   "outputs": [
    {
     "data": {
      "text/plain": [
       "(1168, 33)"
      ]
     },
     "execution_count": 79,
     "metadata": {},
     "output_type": "execute_result"
    }
   ],
   "source": [
    "X_train_model.shape"
   ]
  },
  {
   "cell_type": "code",
   "execution_count": 80,
   "metadata": {
    "ExecuteTime": {
     "end_time": "2022-05-13T21:28:38.279914Z",
     "start_time": "2022-05-13T21:28:38.170978Z"
    }
   },
   "outputs": [
    {
     "data": {
      "text/plain": [
       "Index(['MSSubClass', 'LotArea', 'OverallQual', 'OverallCond', 'YearBuilt',\n",
       "       'YearRemodAdd', 'BsmtFinSF1', 'BsmtFinSF2', 'BsmtUnfSF', 'TotalBsmtSF',\n",
       "       '1stFlrSF', '2ndFlrSF', 'LowQualFinSF', 'GrLivArea', 'BsmtFullBath',\n",
       "       'BsmtHalfBath', 'FullBath', 'HalfBath', 'BedroomAbvGr', 'KitchenAbvGr',\n",
       "       'TotRmsAbvGrd', 'Fireplaces', 'GarageCars', 'GarageArea', 'WoodDeckSF',\n",
       "       'OpenPorchSF', 'EnclosedPorch', '3SsnPorch', 'ScreenPorch', 'PoolArea',\n",
       "       'MiscVal', 'MoSold', 'YrSold'],\n",
       "      dtype='object')"
      ]
     },
     "execution_count": 80,
     "metadata": {},
     "output_type": "execute_result"
    }
   ],
   "source": [
    "X_train_model.columns"
   ]
  },
  {
   "cell_type": "code",
   "execution_count": 81,
   "metadata": {
    "ExecuteTime": {
     "end_time": "2022-05-13T21:28:38.374862Z",
     "start_time": "2022-05-13T21:28:38.282911Z"
    }
   },
   "outputs": [
    {
     "data": {
      "text/plain": [
       "((1168, 33), (292, 33))"
      ]
     },
     "execution_count": 81,
     "metadata": {},
     "output_type": "execute_result"
    }
   ],
   "source": [
    "assert(X_train_model.shape[1] == X_test_model.shape[1])\n",
    "assert(X_test_model.isnull().sum().sum() == 0)\n",
    "\n",
    "X_train_model.shape, X_test_model.shape"
   ]
  },
  {
   "cell_type": "code",
   "execution_count": 82,
   "metadata": {
    "ExecuteTime": {
     "end_time": "2022-05-13T21:28:38.485794Z",
     "start_time": "2022-05-13T21:28:38.377857Z"
    }
   },
   "outputs": [],
   "source": [
    "def calc_r2_adj(r2, y, X):\n",
    "    \n",
    "    return 1 - (1-r2)*(len(y) - 1)/(len(y) - X.shape[1] - 1)"
   ]
  },
  {
   "cell_type": "code",
   "execution_count": 83,
   "metadata": {
    "ExecuteTime": {
     "end_time": "2022-05-13T21:28:38.581741Z",
     "start_time": "2022-05-13T21:28:38.488795Z"
    }
   },
   "outputs": [],
   "source": [
    "def reg_lin_pt1_pt2(X_train, y_train, X_test, y_test, plot=True):\n",
    "\n",
    "    # ===============================\n",
    "    # passo 1 - construção do modelo\n",
    "\n",
    "    reglin = LinearRegression()\n",
    "\n",
    "    reglin.fit(X_train, y_train)\n",
    "\n",
    "    # ===============================\n",
    "    # passo 2 - avaliação do modelo\n",
    "\n",
    "    y_pred = reglin.predict(X_test)\n",
    "    \n",
    "    print(\"\\nMétricas de avaliação (dados de teste):\\n\")\n",
    "\n",
    "    if plot:\n",
    "        plot_scatter_real_pred(y_test, y_pred)\n",
    "\n",
    "    r2 = r2_score(y_test, y_pred)\n",
    "    r2_adj = calc_r2_adj(r2, y_test, X_test)\n",
    "    \n",
    "    print(f\"R^2: {r2:.2f} | Adj R^2: {r2_adj:.2f}\")\n",
    "    print(f\"MAE: {mean_absolute_error(y_test, y_pred):.2f}\")\n",
    "    print(f\"RMSE: {np.sqrt(mean_squared_error(y_test, y_pred)):.2f}\")\n",
    "    print(f\"MAPE: {(mean_absolute_percentage_error(y_test, y_pred))*100:.2f}%\")\n",
    "\n",
    "    residuos = y_test - y_pred\n",
    "    print(\"\\nDistribuição dos resíduos:\\n\")\n",
    "    print(residuos.describe())\n",
    "    \n",
    "    if plot:\n",
    "        sns.histplot(residuos, kde=True)\n",
    "        plt.show()\n",
    "        \n",
    "    # new: returnando o objeto do modelo treinado!\n",
    "    return reglin"
   ]
  },
  {
   "cell_type": "markdown",
   "metadata": {},
   "source": [
    "Vamos começar treinando de novo um modelo de reg lin só com uma unica feature (só pra comparar)"
   ]
  },
  {
   "cell_type": "code",
   "execution_count": 84,
   "metadata": {
    "ExecuteTime": {
     "end_time": "2022-05-13T21:28:38.692694Z",
     "start_time": "2022-05-13T21:28:38.584740Z"
    }
   },
   "outputs": [
    {
     "name": "stdout",
     "output_type": "stream",
     "text": [
      "\n",
      "Métricas de avaliação (dados de teste):\n",
      "\n",
      "R^2: 0.55 | Adj R^2: 0.55\n",
      "MAE: 38341.20\n",
      "RMSE: 58471.76\n",
      "MAPE: 23.34%\n",
      "\n",
      "Distribuição dos resíduos:\n",
      "\n",
      "count       292.000000\n",
      "mean       3515.754922\n",
      "std       58466.163367\n",
      "min     -149347.637583\n",
      "25%      -30951.653433\n",
      "50%       -2718.855323\n",
      "75%       21621.209371\n",
      "max      344473.352964\n",
      "Name: SalePrice, dtype: float64\n"
     ]
    }
   ],
   "source": [
    "reglin_simples = reg_lin_pt1_pt2(X_train[\"GrLivArea\"].values.reshape(-1, 1), y_train, \n",
    "                                 X_test[\"GrLivArea\"].values.reshape(-1, 1), y_test,\n",
    "                                 plot=False)"
   ]
  },
  {
   "cell_type": "markdown",
   "metadata": {},
   "source": [
    "A performance caiu um pouco com relação ao que fizemos lá em cima, pq lemos os dados novamente e agora não estamos jogando aqueles dois outliers fora. Isso mostra o grande efeito dos outliers em um modelo como a regressão linear!"
   ]
  },
  {
   "cell_type": "code",
   "execution_count": 85,
   "metadata": {
    "ExecuteTime": {
     "end_time": "2022-05-13T21:28:38.818950Z",
     "start_time": "2022-05-13T21:28:38.695658Z"
    }
   },
   "outputs": [
    {
     "data": {
      "text/html": [
       "<div>\n",
       "<style scoped>\n",
       "    .dataframe tbody tr th:only-of-type {\n",
       "        vertical-align: middle;\n",
       "    }\n",
       "\n",
       "    .dataframe tbody tr th {\n",
       "        vertical-align: top;\n",
       "    }\n",
       "\n",
       "    .dataframe thead th {\n",
       "        text-align: right;\n",
       "    }\n",
       "</style>\n",
       "<table border=\"1\" class=\"dataframe\">\n",
       "  <thead>\n",
       "    <tr style=\"text-align: right;\">\n",
       "      <th></th>\n",
       "      <th>MSSubClass</th>\n",
       "      <th>LotArea</th>\n",
       "      <th>OverallQual</th>\n",
       "      <th>OverallCond</th>\n",
       "      <th>YearBuilt</th>\n",
       "      <th>YearRemodAdd</th>\n",
       "      <th>BsmtFinSF1</th>\n",
       "      <th>BsmtFinSF2</th>\n",
       "      <th>BsmtUnfSF</th>\n",
       "      <th>TotalBsmtSF</th>\n",
       "      <th>...</th>\n",
       "      <th>GarageArea</th>\n",
       "      <th>WoodDeckSF</th>\n",
       "      <th>OpenPorchSF</th>\n",
       "      <th>EnclosedPorch</th>\n",
       "      <th>3SsnPorch</th>\n",
       "      <th>ScreenPorch</th>\n",
       "      <th>PoolArea</th>\n",
       "      <th>MiscVal</th>\n",
       "      <th>MoSold</th>\n",
       "      <th>YrSold</th>\n",
       "    </tr>\n",
       "  </thead>\n",
       "  <tbody>\n",
       "    <tr>\n",
       "      <th>254</th>\n",
       "      <td>20</td>\n",
       "      <td>8400</td>\n",
       "      <td>5</td>\n",
       "      <td>6</td>\n",
       "      <td>1957</td>\n",
       "      <td>1957</td>\n",
       "      <td>922</td>\n",
       "      <td>0</td>\n",
       "      <td>392</td>\n",
       "      <td>1314</td>\n",
       "      <td>...</td>\n",
       "      <td>294</td>\n",
       "      <td>250</td>\n",
       "      <td>0</td>\n",
       "      <td>0</td>\n",
       "      <td>0</td>\n",
       "      <td>0</td>\n",
       "      <td>0</td>\n",
       "      <td>0</td>\n",
       "      <td>6</td>\n",
       "      <td>2010</td>\n",
       "    </tr>\n",
       "    <tr>\n",
       "      <th>1066</th>\n",
       "      <td>60</td>\n",
       "      <td>7837</td>\n",
       "      <td>6</td>\n",
       "      <td>7</td>\n",
       "      <td>1993</td>\n",
       "      <td>1994</td>\n",
       "      <td>0</td>\n",
       "      <td>0</td>\n",
       "      <td>799</td>\n",
       "      <td>799</td>\n",
       "      <td>...</td>\n",
       "      <td>380</td>\n",
       "      <td>0</td>\n",
       "      <td>40</td>\n",
       "      <td>0</td>\n",
       "      <td>0</td>\n",
       "      <td>0</td>\n",
       "      <td>0</td>\n",
       "      <td>0</td>\n",
       "      <td>5</td>\n",
       "      <td>2009</td>\n",
       "    </tr>\n",
       "    <tr>\n",
       "      <th>638</th>\n",
       "      <td>30</td>\n",
       "      <td>8777</td>\n",
       "      <td>5</td>\n",
       "      <td>7</td>\n",
       "      <td>1910</td>\n",
       "      <td>1950</td>\n",
       "      <td>0</td>\n",
       "      <td>0</td>\n",
       "      <td>796</td>\n",
       "      <td>796</td>\n",
       "      <td>...</td>\n",
       "      <td>0</td>\n",
       "      <td>328</td>\n",
       "      <td>0</td>\n",
       "      <td>164</td>\n",
       "      <td>0</td>\n",
       "      <td>0</td>\n",
       "      <td>0</td>\n",
       "      <td>0</td>\n",
       "      <td>5</td>\n",
       "      <td>2008</td>\n",
       "    </tr>\n",
       "    <tr>\n",
       "      <th>799</th>\n",
       "      <td>50</td>\n",
       "      <td>7200</td>\n",
       "      <td>5</td>\n",
       "      <td>7</td>\n",
       "      <td>1937</td>\n",
       "      <td>1950</td>\n",
       "      <td>569</td>\n",
       "      <td>0</td>\n",
       "      <td>162</td>\n",
       "      <td>731</td>\n",
       "      <td>...</td>\n",
       "      <td>240</td>\n",
       "      <td>0</td>\n",
       "      <td>0</td>\n",
       "      <td>264</td>\n",
       "      <td>0</td>\n",
       "      <td>0</td>\n",
       "      <td>0</td>\n",
       "      <td>0</td>\n",
       "      <td>6</td>\n",
       "      <td>2007</td>\n",
       "    </tr>\n",
       "    <tr>\n",
       "      <th>380</th>\n",
       "      <td>50</td>\n",
       "      <td>5000</td>\n",
       "      <td>5</td>\n",
       "      <td>6</td>\n",
       "      <td>1924</td>\n",
       "      <td>1950</td>\n",
       "      <td>218</td>\n",
       "      <td>0</td>\n",
       "      <td>808</td>\n",
       "      <td>1026</td>\n",
       "      <td>...</td>\n",
       "      <td>308</td>\n",
       "      <td>0</td>\n",
       "      <td>0</td>\n",
       "      <td>242</td>\n",
       "      <td>0</td>\n",
       "      <td>0</td>\n",
       "      <td>0</td>\n",
       "      <td>0</td>\n",
       "      <td>5</td>\n",
       "      <td>2010</td>\n",
       "    </tr>\n",
       "  </tbody>\n",
       "</table>\n",
       "<p>5 rows × 33 columns</p>\n",
       "</div>"
      ],
      "text/plain": [
       "      MSSubClass  LotArea  OverallQual  OverallCond  YearBuilt  YearRemodAdd  \\\n",
       "254           20     8400            5            6       1957          1957   \n",
       "1066          60     7837            6            7       1993          1994   \n",
       "638           30     8777            5            7       1910          1950   \n",
       "799           50     7200            5            7       1937          1950   \n",
       "380           50     5000            5            6       1924          1950   \n",
       "\n",
       "      BsmtFinSF1  BsmtFinSF2  BsmtUnfSF  TotalBsmtSF  ...  GarageArea  \\\n",
       "254          922           0        392         1314  ...         294   \n",
       "1066           0           0        799          799  ...         380   \n",
       "638            0           0        796          796  ...           0   \n",
       "799          569           0        162          731  ...         240   \n",
       "380          218           0        808         1026  ...         308   \n",
       "\n",
       "      WoodDeckSF  OpenPorchSF  EnclosedPorch  3SsnPorch  ScreenPorch  \\\n",
       "254          250            0              0          0            0   \n",
       "1066           0           40              0          0            0   \n",
       "638          328            0            164          0            0   \n",
       "799            0            0            264          0            0   \n",
       "380            0            0            242          0            0   \n",
       "\n",
       "      PoolArea  MiscVal  MoSold  YrSold  \n",
       "254          0        0       6    2010  \n",
       "1066         0        0       5    2009  \n",
       "638          0        0       5    2008  \n",
       "799          0        0       6    2007  \n",
       "380          0        0       5    2010  \n",
       "\n",
       "[5 rows x 33 columns]"
      ]
     },
     "execution_count": 85,
     "metadata": {},
     "output_type": "execute_result"
    }
   ],
   "source": [
    "X_train_model.head()"
   ]
  },
  {
   "cell_type": "code",
   "execution_count": 86,
   "metadata": {
    "ExecuteTime": {
     "end_time": "2022-05-13T21:28:38.944152Z",
     "start_time": "2022-05-13T21:28:38.821947Z"
    }
   },
   "outputs": [
    {
     "data": {
      "text/html": [
       "<div>\n",
       "<style scoped>\n",
       "    .dataframe tbody tr th:only-of-type {\n",
       "        vertical-align: middle;\n",
       "    }\n",
       "\n",
       "    .dataframe tbody tr th {\n",
       "        vertical-align: top;\n",
       "    }\n",
       "\n",
       "    .dataframe thead th {\n",
       "        text-align: right;\n",
       "    }\n",
       "</style>\n",
       "<table border=\"1\" class=\"dataframe\">\n",
       "  <thead>\n",
       "    <tr style=\"text-align: right;\">\n",
       "      <th></th>\n",
       "      <th>MSSubClass</th>\n",
       "      <th>LotArea</th>\n",
       "      <th>OverallQual</th>\n",
       "      <th>OverallCond</th>\n",
       "      <th>YearBuilt</th>\n",
       "      <th>YearRemodAdd</th>\n",
       "      <th>BsmtFinSF1</th>\n",
       "      <th>BsmtFinSF2</th>\n",
       "      <th>BsmtUnfSF</th>\n",
       "      <th>TotalBsmtSF</th>\n",
       "      <th>...</th>\n",
       "      <th>GarageArea</th>\n",
       "      <th>WoodDeckSF</th>\n",
       "      <th>OpenPorchSF</th>\n",
       "      <th>EnclosedPorch</th>\n",
       "      <th>3SsnPorch</th>\n",
       "      <th>ScreenPorch</th>\n",
       "      <th>PoolArea</th>\n",
       "      <th>MiscVal</th>\n",
       "      <th>MoSold</th>\n",
       "      <th>YrSold</th>\n",
       "    </tr>\n",
       "  </thead>\n",
       "  <tbody>\n",
       "    <tr>\n",
       "      <th>254</th>\n",
       "      <td>20</td>\n",
       "      <td>8400</td>\n",
       "      <td>5</td>\n",
       "      <td>6</td>\n",
       "      <td>1957</td>\n",
       "      <td>1957</td>\n",
       "      <td>922</td>\n",
       "      <td>0</td>\n",
       "      <td>392</td>\n",
       "      <td>1314</td>\n",
       "      <td>...</td>\n",
       "      <td>294</td>\n",
       "      <td>250</td>\n",
       "      <td>0</td>\n",
       "      <td>0</td>\n",
       "      <td>0</td>\n",
       "      <td>0</td>\n",
       "      <td>0</td>\n",
       "      <td>0</td>\n",
       "      <td>6</td>\n",
       "      <td>2010</td>\n",
       "    </tr>\n",
       "    <tr>\n",
       "      <th>1066</th>\n",
       "      <td>60</td>\n",
       "      <td>7837</td>\n",
       "      <td>6</td>\n",
       "      <td>7</td>\n",
       "      <td>1993</td>\n",
       "      <td>1994</td>\n",
       "      <td>0</td>\n",
       "      <td>0</td>\n",
       "      <td>799</td>\n",
       "      <td>799</td>\n",
       "      <td>...</td>\n",
       "      <td>380</td>\n",
       "      <td>0</td>\n",
       "      <td>40</td>\n",
       "      <td>0</td>\n",
       "      <td>0</td>\n",
       "      <td>0</td>\n",
       "      <td>0</td>\n",
       "      <td>0</td>\n",
       "      <td>5</td>\n",
       "      <td>2009</td>\n",
       "    </tr>\n",
       "    <tr>\n",
       "      <th>638</th>\n",
       "      <td>30</td>\n",
       "      <td>8777</td>\n",
       "      <td>5</td>\n",
       "      <td>7</td>\n",
       "      <td>1910</td>\n",
       "      <td>1950</td>\n",
       "      <td>0</td>\n",
       "      <td>0</td>\n",
       "      <td>796</td>\n",
       "      <td>796</td>\n",
       "      <td>...</td>\n",
       "      <td>0</td>\n",
       "      <td>328</td>\n",
       "      <td>0</td>\n",
       "      <td>164</td>\n",
       "      <td>0</td>\n",
       "      <td>0</td>\n",
       "      <td>0</td>\n",
       "      <td>0</td>\n",
       "      <td>5</td>\n",
       "      <td>2008</td>\n",
       "    </tr>\n",
       "    <tr>\n",
       "      <th>799</th>\n",
       "      <td>50</td>\n",
       "      <td>7200</td>\n",
       "      <td>5</td>\n",
       "      <td>7</td>\n",
       "      <td>1937</td>\n",
       "      <td>1950</td>\n",
       "      <td>569</td>\n",
       "      <td>0</td>\n",
       "      <td>162</td>\n",
       "      <td>731</td>\n",
       "      <td>...</td>\n",
       "      <td>240</td>\n",
       "      <td>0</td>\n",
       "      <td>0</td>\n",
       "      <td>264</td>\n",
       "      <td>0</td>\n",
       "      <td>0</td>\n",
       "      <td>0</td>\n",
       "      <td>0</td>\n",
       "      <td>6</td>\n",
       "      <td>2007</td>\n",
       "    </tr>\n",
       "    <tr>\n",
       "      <th>380</th>\n",
       "      <td>50</td>\n",
       "      <td>5000</td>\n",
       "      <td>5</td>\n",
       "      <td>6</td>\n",
       "      <td>1924</td>\n",
       "      <td>1950</td>\n",
       "      <td>218</td>\n",
       "      <td>0</td>\n",
       "      <td>808</td>\n",
       "      <td>1026</td>\n",
       "      <td>...</td>\n",
       "      <td>308</td>\n",
       "      <td>0</td>\n",
       "      <td>0</td>\n",
       "      <td>242</td>\n",
       "      <td>0</td>\n",
       "      <td>0</td>\n",
       "      <td>0</td>\n",
       "      <td>0</td>\n",
       "      <td>5</td>\n",
       "      <td>2010</td>\n",
       "    </tr>\n",
       "    <tr>\n",
       "      <th>...</th>\n",
       "      <td>...</td>\n",
       "      <td>...</td>\n",
       "      <td>...</td>\n",
       "      <td>...</td>\n",
       "      <td>...</td>\n",
       "      <td>...</td>\n",
       "      <td>...</td>\n",
       "      <td>...</td>\n",
       "      <td>...</td>\n",
       "      <td>...</td>\n",
       "      <td>...</td>\n",
       "      <td>...</td>\n",
       "      <td>...</td>\n",
       "      <td>...</td>\n",
       "      <td>...</td>\n",
       "      <td>...</td>\n",
       "      <td>...</td>\n",
       "      <td>...</td>\n",
       "      <td>...</td>\n",
       "      <td>...</td>\n",
       "      <td>...</td>\n",
       "    </tr>\n",
       "    <tr>\n",
       "      <th>1095</th>\n",
       "      <td>20</td>\n",
       "      <td>9317</td>\n",
       "      <td>6</td>\n",
       "      <td>5</td>\n",
       "      <td>2006</td>\n",
       "      <td>2006</td>\n",
       "      <td>24</td>\n",
       "      <td>0</td>\n",
       "      <td>1290</td>\n",
       "      <td>1314</td>\n",
       "      <td>...</td>\n",
       "      <td>440</td>\n",
       "      <td>0</td>\n",
       "      <td>22</td>\n",
       "      <td>0</td>\n",
       "      <td>0</td>\n",
       "      <td>0</td>\n",
       "      <td>0</td>\n",
       "      <td>0</td>\n",
       "      <td>3</td>\n",
       "      <td>2007</td>\n",
       "    </tr>\n",
       "    <tr>\n",
       "      <th>1130</th>\n",
       "      <td>50</td>\n",
       "      <td>7804</td>\n",
       "      <td>4</td>\n",
       "      <td>3</td>\n",
       "      <td>1928</td>\n",
       "      <td>1950</td>\n",
       "      <td>622</td>\n",
       "      <td>0</td>\n",
       "      <td>500</td>\n",
       "      <td>1122</td>\n",
       "      <td>...</td>\n",
       "      <td>576</td>\n",
       "      <td>431</td>\n",
       "      <td>44</td>\n",
       "      <td>0</td>\n",
       "      <td>0</td>\n",
       "      <td>0</td>\n",
       "      <td>0</td>\n",
       "      <td>0</td>\n",
       "      <td>12</td>\n",
       "      <td>2009</td>\n",
       "    </tr>\n",
       "    <tr>\n",
       "      <th>1294</th>\n",
       "      <td>20</td>\n",
       "      <td>8172</td>\n",
       "      <td>5</td>\n",
       "      <td>7</td>\n",
       "      <td>1955</td>\n",
       "      <td>1990</td>\n",
       "      <td>167</td>\n",
       "      <td>0</td>\n",
       "      <td>697</td>\n",
       "      <td>864</td>\n",
       "      <td>...</td>\n",
       "      <td>572</td>\n",
       "      <td>0</td>\n",
       "      <td>0</td>\n",
       "      <td>0</td>\n",
       "      <td>0</td>\n",
       "      <td>0</td>\n",
       "      <td>0</td>\n",
       "      <td>0</td>\n",
       "      <td>4</td>\n",
       "      <td>2006</td>\n",
       "    </tr>\n",
       "    <tr>\n",
       "      <th>860</th>\n",
       "      <td>50</td>\n",
       "      <td>7642</td>\n",
       "      <td>7</td>\n",
       "      <td>8</td>\n",
       "      <td>1918</td>\n",
       "      <td>1998</td>\n",
       "      <td>0</td>\n",
       "      <td>0</td>\n",
       "      <td>912</td>\n",
       "      <td>912</td>\n",
       "      <td>...</td>\n",
       "      <td>216</td>\n",
       "      <td>0</td>\n",
       "      <td>240</td>\n",
       "      <td>0</td>\n",
       "      <td>0</td>\n",
       "      <td>0</td>\n",
       "      <td>0</td>\n",
       "      <td>0</td>\n",
       "      <td>6</td>\n",
       "      <td>2007</td>\n",
       "    </tr>\n",
       "    <tr>\n",
       "      <th>1126</th>\n",
       "      <td>120</td>\n",
       "      <td>3684</td>\n",
       "      <td>7</td>\n",
       "      <td>5</td>\n",
       "      <td>2007</td>\n",
       "      <td>2007</td>\n",
       "      <td>0</td>\n",
       "      <td>0</td>\n",
       "      <td>1373</td>\n",
       "      <td>1373</td>\n",
       "      <td>...</td>\n",
       "      <td>660</td>\n",
       "      <td>143</td>\n",
       "      <td>20</td>\n",
       "      <td>0</td>\n",
       "      <td>0</td>\n",
       "      <td>0</td>\n",
       "      <td>0</td>\n",
       "      <td>0</td>\n",
       "      <td>6</td>\n",
       "      <td>2009</td>\n",
       "    </tr>\n",
       "  </tbody>\n",
       "</table>\n",
       "<p>1168 rows × 33 columns</p>\n",
       "</div>"
      ],
      "text/plain": [
       "      MSSubClass  LotArea  OverallQual  OverallCond  YearBuilt  YearRemodAdd  \\\n",
       "254           20     8400            5            6       1957          1957   \n",
       "1066          60     7837            6            7       1993          1994   \n",
       "638           30     8777            5            7       1910          1950   \n",
       "799           50     7200            5            7       1937          1950   \n",
       "380           50     5000            5            6       1924          1950   \n",
       "...          ...      ...          ...          ...        ...           ...   \n",
       "1095          20     9317            6            5       2006          2006   \n",
       "1130          50     7804            4            3       1928          1950   \n",
       "1294          20     8172            5            7       1955          1990   \n",
       "860           50     7642            7            8       1918          1998   \n",
       "1126         120     3684            7            5       2007          2007   \n",
       "\n",
       "      BsmtFinSF1  BsmtFinSF2  BsmtUnfSF  TotalBsmtSF  ...  GarageArea  \\\n",
       "254          922           0        392         1314  ...         294   \n",
       "1066           0           0        799          799  ...         380   \n",
       "638            0           0        796          796  ...           0   \n",
       "799          569           0        162          731  ...         240   \n",
       "380          218           0        808         1026  ...         308   \n",
       "...          ...         ...        ...          ...  ...         ...   \n",
       "1095          24           0       1290         1314  ...         440   \n",
       "1130         622           0        500         1122  ...         576   \n",
       "1294         167           0        697          864  ...         572   \n",
       "860            0           0        912          912  ...         216   \n",
       "1126           0           0       1373         1373  ...         660   \n",
       "\n",
       "      WoodDeckSF  OpenPorchSF  EnclosedPorch  3SsnPorch  ScreenPorch  \\\n",
       "254          250            0              0          0            0   \n",
       "1066           0           40              0          0            0   \n",
       "638          328            0            164          0            0   \n",
       "799            0            0            264          0            0   \n",
       "380            0            0            242          0            0   \n",
       "...          ...          ...            ...        ...          ...   \n",
       "1095           0           22              0          0            0   \n",
       "1130         431           44              0          0            0   \n",
       "1294           0            0              0          0            0   \n",
       "860            0          240              0          0            0   \n",
       "1126         143           20              0          0            0   \n",
       "\n",
       "      PoolArea  MiscVal  MoSold  YrSold  \n",
       "254          0        0       6    2010  \n",
       "1066         0        0       5    2009  \n",
       "638          0        0       5    2008  \n",
       "799          0        0       6    2007  \n",
       "380          0        0       5    2010  \n",
       "...        ...      ...     ...     ...  \n",
       "1095         0        0       3    2007  \n",
       "1130         0        0      12    2009  \n",
       "1294         0        0       4    2006  \n",
       "860          0        0       6    2007  \n",
       "1126         0        0       6    2009  \n",
       "\n",
       "[1168 rows x 33 columns]"
      ]
     },
     "execution_count": 86,
     "metadata": {},
     "output_type": "execute_result"
    }
   ],
   "source": [
    "X_train_model"
   ]
  },
  {
   "cell_type": "code",
   "execution_count": 87,
   "metadata": {
    "ExecuteTime": {
     "end_time": "2022-05-13T21:28:39.476846Z",
     "start_time": "2022-05-13T21:28:38.947147Z"
    }
   },
   "outputs": [
    {
     "name": "stdout",
     "output_type": "stream",
     "text": [
      "\n",
      "Métricas de avaliação (dados de teste):\n",
      "\n"
     ]
    },
    {
     "data": {
      "image/png": "[encoded data removed]",
      "text/plain": [
       "<Figure size 432x288 with 1 Axes>"
      ]
     },
     "metadata": {
      "needs_background": "light"
     },
     "output_type": "display_data"
    },
    {
     "name": "stdout",
     "output_type": "stream",
     "text": [
      "R^2: 0.82 | Adj R^2: 0.80\n",
      "MAE: 22938.25\n",
      "RMSE: 37312.27\n",
      "MAPE: 13.45%\n",
      "\n",
      "Distribuição dos resíduos:\n",
      "\n",
      "count       292.000000\n",
      "mean       3906.261898\n",
      "std       37170.936225\n",
      "min      -72360.843025\n",
      "25%      -16250.719394\n",
      "50%         862.782726\n",
      "75%       16069.854162\n",
      "max      306279.161692\n",
      "Name: SalePrice, dtype: float64\n"
     ]
    },
    {
     "data": {
      "image/png": "[encoded data removed]",
      "text/plain": [
       "<Figure size 432x288 with 1 Axes>"
      ]
     },
     "metadata": {
      "needs_background": "light"
     },
     "output_type": "display_data"
    }
   ],
   "source": [
    "reglin_multi = reg_lin_pt1_pt2(X_train_model, y_train,\n",
    "                               X_test_model, y_test, \n",
    "                               plot=True)"
   ]
  },
  {
   "cell_type": "markdown",
   "metadata": {},
   "source": [
    "Vamos olhar para os parâmetros do modelo:"
   ]
  },
  {
   "cell_type": "code",
   "execution_count": 88,
   "metadata": {
    "ExecuteTime": {
     "end_time": "2022-05-13T21:28:39.492856Z",
     "start_time": "2022-05-13T21:28:39.480843Z"
    }
   },
   "outputs": [
    {
     "data": {
      "text/plain": [
       "(24899.74815733818, array([102.48895892]))"
      ]
     },
     "execution_count": 88,
     "metadata": {},
     "output_type": "execute_result"
    }
   ],
   "source": [
    "reglin_simples.intercept_, reglin_simples.coef_"
   ]
  },
  {
   "cell_type": "code",
   "execution_count": 89,
   "metadata": {
    "ExecuteTime": {
     "end_time": "2022-05-13T21:28:39.616540Z",
     "start_time": "2022-05-13T21:28:39.494833Z"
    }
   },
   "outputs": [
    {
     "data": {
      "text/plain": [
       "{'fit_intercept': True,\n",
       " 'normalize': 'deprecated',\n",
       " 'copy_X': True,\n",
       " 'n_jobs': None,\n",
       " 'positive': False,\n",
       " 'feature_names_in_': array(['MSSubClass', 'LotArea', 'OverallQual', 'OverallCond', 'YearBuilt',\n",
       "        'YearRemodAdd', 'BsmtFinSF1', 'BsmtFinSF2', 'BsmtUnfSF',\n",
       "        'TotalBsmtSF', '1stFlrSF', '2ndFlrSF', 'LowQualFinSF', 'GrLivArea',\n",
       "        'BsmtFullBath', 'BsmtHalfBath', 'FullBath', 'HalfBath',\n",
       "        'BedroomAbvGr', 'KitchenAbvGr', 'TotRmsAbvGrd', 'Fireplaces',\n",
       "        'GarageCars', 'GarageArea', 'WoodDeckSF', 'OpenPorchSF',\n",
       "        'EnclosedPorch', '3SsnPorch', 'ScreenPorch', 'PoolArea', 'MiscVal',\n",
       "        'MoSold', 'YrSold'], dtype=object),\n",
       " 'n_features_in_': 33,\n",
       " 'coef_': array([-1.75548690e+02,  4.09174234e-01,  1.84955503e+04,  3.83573710e+03,\n",
       "         3.37312908e+02,  1.80209917e+02,  1.00461555e+01, -4.61607099e+00,\n",
       "         3.82786748e-01,  5.81287122e+00,  1.31240039e+01,  1.42134340e+01,\n",
       "         4.50422890e+00,  3.18416668e+01,  1.10492803e+04, -3.26518493e+02,\n",
       "         3.42606130e+03, -1.66531509e+03, -9.08810085e+03, -1.00971990e+04,\n",
       "         5.10100134e+03,  4.37021557e+03,  1.16074917e+04,  5.58607730e-01,\n",
       "         2.55639049e+01, -6.62562003e+00,  7.06908781e+00,  3.85262374e+01,\n",
       "         6.55989735e+01, -3.73443286e+01, -7.15692563e-01, -2.09433750e+02,\n",
       "        -5.14524004e+02]),\n",
       " '_residues': array([], dtype=float64),\n",
       " 'rank_': 31,\n",
       " 'singular_': array([3.67650843e+05, 2.39975617e+04, 2.01853415e+04, 1.89128138e+04,\n",
       "        1.81868962e+04, 7.56023278e+03, 5.86367582e+03, 5.80895128e+03,\n",
       "        4.17930879e+03, 2.29720065e+03, 2.04383973e+03, 1.89262209e+03,\n",
       "        1.79843297e+03, 1.35867882e+03, 1.33268727e+03, 1.06364664e+03,\n",
       "        8.52627236e+02, 4.97661293e+02, 9.07153974e+01, 4.41333005e+01,\n",
       "        3.40173675e+01, 3.20814722e+01, 2.72897707e+01, 1.81471102e+01,\n",
       "        1.65578167e+01, 1.44124119e+01, 1.29168259e+01, 1.10700722e+01,\n",
       "        9.53932852e+00, 7.28020198e+00, 5.93925594e+00, 3.99587723e-11,\n",
       "        3.99587723e-11]),\n",
       " 'intercept_': -48411.54387301279}"
      ]
     },
     "execution_count": 89,
     "metadata": {},
     "output_type": "execute_result"
    }
   ],
   "source": [
    "vars(reglin_multi)"
   ]
  },
  {
   "cell_type": "code",
   "execution_count": 90,
   "metadata": {
    "ExecuteTime": {
     "end_time": "2022-05-13T21:28:39.744107Z",
     "start_time": "2022-05-13T21:28:39.618539Z"
    }
   },
   "outputs": [
    {
     "data": {
      "text/plain": [
       "(-48411.54387301279,\n",
       " array([-1.75548690e+02,  4.09174234e-01,  1.84955503e+04,  3.83573710e+03,\n",
       "         3.37312908e+02,  1.80209917e+02,  1.00461555e+01, -4.61607099e+00,\n",
       "         3.82786748e-01,  5.81287122e+00,  1.31240039e+01,  1.42134340e+01,\n",
       "         4.50422890e+00,  3.18416668e+01,  1.10492803e+04, -3.26518493e+02,\n",
       "         3.42606130e+03, -1.66531509e+03, -9.08810085e+03, -1.00971990e+04,\n",
       "         5.10100134e+03,  4.37021557e+03,  1.16074917e+04,  5.58607730e-01,\n",
       "         2.55639049e+01, -6.62562003e+00,  7.06908781e+00,  3.85262374e+01,\n",
       "         6.55989735e+01, -3.73443286e+01, -7.15692563e-01, -2.09433750e+02,\n",
       "        -5.14524004e+02]))"
      ]
     },
     "execution_count": 90,
     "metadata": {},
     "output_type": "execute_result"
    }
   ],
   "source": [
    "reglin_multi.intercept_, reglin_multi.coef_"
   ]
  },
  {
   "cell_type": "code",
   "execution_count": 91,
   "metadata": {
    "ExecuteTime": {
     "end_time": "2022-05-13T21:28:39.854521Z",
     "start_time": "2022-05-13T21:28:39.747110Z"
    }
   },
   "outputs": [
    {
     "data": {
      "text/plain": [
       "array(['MSSubClass', 'LotArea', 'OverallQual', 'OverallCond', 'YearBuilt',\n",
       "       'YearRemodAdd', 'BsmtFinSF1', 'BsmtFinSF2', 'BsmtUnfSF',\n",
       "       'TotalBsmtSF', '1stFlrSF', '2ndFlrSF', 'LowQualFinSF', 'GrLivArea',\n",
       "       'BsmtFullBath', 'BsmtHalfBath', 'FullBath', 'HalfBath',\n",
       "       'BedroomAbvGr', 'KitchenAbvGr', 'TotRmsAbvGrd', 'Fireplaces',\n",
       "       'GarageCars', 'GarageArea', 'WoodDeckSF', 'OpenPorchSF',\n",
       "       'EnclosedPorch', '3SsnPorch', 'ScreenPorch', 'PoolArea', 'MiscVal',\n",
       "       'MoSold', 'YrSold'], dtype=object)"
      ]
     },
     "execution_count": 91,
     "metadata": {},
     "output_type": "execute_result"
    }
   ],
   "source": [
    "reglin_multi.feature_names_in_"
   ]
  },
  {
   "cell_type": "code",
   "execution_count": 92,
   "metadata": {
    "ExecuteTime": {
     "end_time": "2022-05-13T21:28:39.947650Z",
     "start_time": "2022-05-13T21:28:39.857520Z"
    }
   },
   "outputs": [
    {
     "data": {
      "text/plain": [
       "15"
      ]
     },
     "execution_count": 92,
     "metadata": {},
     "output_type": "execute_result"
    }
   ],
   "source": [
    "X_train[\"MSSubClass\"].nunique()"
   ]
  },
  {
   "cell_type": "code",
   "execution_count": 93,
   "metadata": {
    "ExecuteTime": {
     "end_time": "2022-05-13T21:28:40.056896Z",
     "start_time": "2022-05-13T21:28:39.951648Z"
    }
   },
   "outputs": [
    {
     "data": {
      "text/plain": [
       "20     434\n",
       "60     240\n",
       "50     113\n",
       "120     64\n",
       "70      52\n",
       "30      50\n",
       "160     49\n",
       "80      45\n",
       "90      41\n",
       "190     28\n",
       "85      17\n",
       "75      15\n",
       "45      10\n",
       "180      7\n",
       "40       3\n",
       "Name: MSSubClass, dtype: int64"
      ]
     },
     "execution_count": 93,
     "metadata": {},
     "output_type": "execute_result"
    }
   ],
   "source": [
    "X_train[\"MSSubClass\"].value_counts()"
   ]
  },
  {
   "cell_type": "code",
   "execution_count": 94,
   "metadata": {
    "ExecuteTime": {
     "end_time": "2022-05-13T21:28:40.167084Z",
     "start_time": "2022-05-13T21:28:40.059823Z"
    }
   },
   "outputs": [
    {
     "data": {
      "text/plain": [
       "6     311\n",
       "5     308\n",
       "7     258\n",
       "8     135\n",
       "4      88\n",
       "9      36\n",
       "3      16\n",
       "10     13\n",
       "1       2\n",
       "2       1\n",
       "Name: OverallQual, dtype: int64"
      ]
     },
     "execution_count": 94,
     "metadata": {},
     "output_type": "execute_result"
    }
   ],
   "source": [
    "X_train[\"OverallQual\"].value_counts()"
   ]
  },
  {
   "cell_type": "code",
   "execution_count": 95,
   "metadata": {
    "ExecuteTime": {
     "end_time": "2022-05-13T21:28:40.278633Z",
     "start_time": "2022-05-13T21:28:40.169082Z"
    },
    "scrolled": true
   },
   "outputs": [
    {
     "data": {
      "text/html": [
       "<div>\n",
       "<style scoped>\n",
       "    .dataframe tbody tr th:only-of-type {\n",
       "        vertical-align: middle;\n",
       "    }\n",
       "\n",
       "    .dataframe tbody tr th {\n",
       "        vertical-align: top;\n",
       "    }\n",
       "\n",
       "    .dataframe thead th {\n",
       "        text-align: right;\n",
       "    }\n",
       "</style>\n",
       "<table border=\"1\" class=\"dataframe\">\n",
       "  <thead>\n",
       "    <tr style=\"text-align: right;\">\n",
       "      <th></th>\n",
       "      <th>param_value</th>\n",
       "    </tr>\n",
       "  </thead>\n",
       "  <tbody>\n",
       "    <tr>\n",
       "      <th>MSSubClass</th>\n",
       "      <td>-175.548690</td>\n",
       "    </tr>\n",
       "    <tr>\n",
       "      <th>LotArea</th>\n",
       "      <td>0.409174</td>\n",
       "    </tr>\n",
       "    <tr>\n",
       "      <th>OverallQual</th>\n",
       "      <td>18495.550309</td>\n",
       "    </tr>\n",
       "    <tr>\n",
       "      <th>OverallCond</th>\n",
       "      <td>3835.737095</td>\n",
       "    </tr>\n",
       "    <tr>\n",
       "      <th>YearBuilt</th>\n",
       "      <td>337.312908</td>\n",
       "    </tr>\n",
       "    <tr>\n",
       "      <th>YearRemodAdd</th>\n",
       "      <td>180.209917</td>\n",
       "    </tr>\n",
       "    <tr>\n",
       "      <th>BsmtFinSF1</th>\n",
       "      <td>10.046155</td>\n",
       "    </tr>\n",
       "    <tr>\n",
       "      <th>BsmtFinSF2</th>\n",
       "      <td>-4.616071</td>\n",
       "    </tr>\n",
       "    <tr>\n",
       "      <th>BsmtUnfSF</th>\n",
       "      <td>0.382787</td>\n",
       "    </tr>\n",
       "    <tr>\n",
       "      <th>TotalBsmtSF</th>\n",
       "      <td>5.812871</td>\n",
       "    </tr>\n",
       "    <tr>\n",
       "      <th>1stFlrSF</th>\n",
       "      <td>13.124004</td>\n",
       "    </tr>\n",
       "    <tr>\n",
       "      <th>2ndFlrSF</th>\n",
       "      <td>14.213434</td>\n",
       "    </tr>\n",
       "    <tr>\n",
       "      <th>LowQualFinSF</th>\n",
       "      <td>4.504229</td>\n",
       "    </tr>\n",
       "    <tr>\n",
       "      <th>GrLivArea</th>\n",
       "      <td>31.841667</td>\n",
       "    </tr>\n",
       "    <tr>\n",
       "      <th>BsmtFullBath</th>\n",
       "      <td>11049.280317</td>\n",
       "    </tr>\n",
       "    <tr>\n",
       "      <th>BsmtHalfBath</th>\n",
       "      <td>-326.518493</td>\n",
       "    </tr>\n",
       "    <tr>\n",
       "      <th>FullBath</th>\n",
       "      <td>3426.061299</td>\n",
       "    </tr>\n",
       "    <tr>\n",
       "      <th>HalfBath</th>\n",
       "      <td>-1665.315093</td>\n",
       "    </tr>\n",
       "    <tr>\n",
       "      <th>BedroomAbvGr</th>\n",
       "      <td>-9088.100847</td>\n",
       "    </tr>\n",
       "    <tr>\n",
       "      <th>KitchenAbvGr</th>\n",
       "      <td>-10097.199042</td>\n",
       "    </tr>\n",
       "    <tr>\n",
       "      <th>TotRmsAbvGrd</th>\n",
       "      <td>5101.001335</td>\n",
       "    </tr>\n",
       "    <tr>\n",
       "      <th>Fireplaces</th>\n",
       "      <td>4370.215572</td>\n",
       "    </tr>\n",
       "    <tr>\n",
       "      <th>GarageCars</th>\n",
       "      <td>11607.491716</td>\n",
       "    </tr>\n",
       "    <tr>\n",
       "      <th>GarageArea</th>\n",
       "      <td>0.558608</td>\n",
       "    </tr>\n",
       "    <tr>\n",
       "      <th>WoodDeckSF</th>\n",
       "      <td>25.563905</td>\n",
       "    </tr>\n",
       "    <tr>\n",
       "      <th>OpenPorchSF</th>\n",
       "      <td>-6.625620</td>\n",
       "    </tr>\n",
       "    <tr>\n",
       "      <th>EnclosedPorch</th>\n",
       "      <td>7.069088</td>\n",
       "    </tr>\n",
       "    <tr>\n",
       "      <th>3SsnPorch</th>\n",
       "      <td>38.526237</td>\n",
       "    </tr>\n",
       "    <tr>\n",
       "      <th>ScreenPorch</th>\n",
       "      <td>65.598974</td>\n",
       "    </tr>\n",
       "    <tr>\n",
       "      <th>PoolArea</th>\n",
       "      <td>-37.344329</td>\n",
       "    </tr>\n",
       "    <tr>\n",
       "      <th>MiscVal</th>\n",
       "      <td>-0.715693</td>\n",
       "    </tr>\n",
       "    <tr>\n",
       "      <th>MoSold</th>\n",
       "      <td>-209.433750</td>\n",
       "    </tr>\n",
       "    <tr>\n",
       "      <th>YrSold</th>\n",
       "      <td>-514.524004</td>\n",
       "    </tr>\n",
       "  </tbody>\n",
       "</table>\n",
       "</div>"
      ],
      "text/plain": [
       "                param_value\n",
       "MSSubClass      -175.548690\n",
       "LotArea            0.409174\n",
       "OverallQual    18495.550309\n",
       "OverallCond     3835.737095\n",
       "YearBuilt        337.312908\n",
       "YearRemodAdd     180.209917\n",
       "BsmtFinSF1        10.046155\n",
       "BsmtFinSF2        -4.616071\n",
       "BsmtUnfSF          0.382787\n",
       "TotalBsmtSF        5.812871\n",
       "1stFlrSF          13.124004\n",
       "2ndFlrSF          14.213434\n",
       "LowQualFinSF       4.504229\n",
       "GrLivArea         31.841667\n",
       "BsmtFullBath   11049.280317\n",
       "BsmtHalfBath    -326.518493\n",
       "FullBath        3426.061299\n",
       "HalfBath       -1665.315093\n",
       "BedroomAbvGr   -9088.100847\n",
       "KitchenAbvGr  -10097.199042\n",
       "TotRmsAbvGrd    5101.001335\n",
       "Fireplaces      4370.215572\n",
       "GarageCars     11607.491716\n",
       "GarageArea         0.558608\n",
       "WoodDeckSF        25.563905\n",
       "OpenPorchSF       -6.625620\n",
       "EnclosedPorch      7.069088\n",
       "3SsnPorch         38.526237\n",
       "ScreenPorch       65.598974\n",
       "PoolArea         -37.344329\n",
       "MiscVal           -0.715693\n",
       "MoSold          -209.433750\n",
       "YrSold          -514.524004"
      ]
     },
     "execution_count": 95,
     "metadata": {},
     "output_type": "execute_result"
    }
   ],
   "source": [
    "params_df = pd.DataFrame(reglin_multi.coef_, index=reglin_multi.feature_names_in_, columns=[\"param_value\"])\n",
    "\n",
    "params_df"
   ]
  },
  {
   "cell_type": "markdown",
   "metadata": {},
   "source": [
    "_________"
   ]
  },
  {
   "cell_type": "markdown",
   "metadata": {},
   "source": [
    "É possível interpretar os parâmetros e atribuir uma \"importância\" de cada feature ao valor do respectivo parâmetro. Mas, cuidado: essa análise é afetada pela escala das features! Veja:"
   ]
  },
  {
   "cell_type": "code",
   "execution_count": 96,
   "metadata": {
    "ExecuteTime": {
     "end_time": "2022-05-13T21:28:40.466791Z",
     "start_time": "2022-05-13T21:28:40.281614Z"
    }
   },
   "outputs": [
    {
     "data": {
      "text/plain": [
       "count    1168.000000\n",
       "mean        6.121575\n",
       "std         1.367619\n",
       "min         1.000000\n",
       "25%         5.000000\n",
       "50%         6.000000\n",
       "75%         7.000000\n",
       "max        10.000000\n",
       "Name: OverallQual, dtype: float64"
      ]
     },
     "execution_count": 96,
     "metadata": {},
     "output_type": "execute_result"
    }
   ],
   "source": [
    "X_train[\"OverallQual\"].describe()"
   ]
  },
  {
   "cell_type": "code",
   "execution_count": 97,
   "metadata": {
    "ExecuteTime": {
     "end_time": "2022-05-13T21:28:40.575600Z",
     "start_time": "2022-05-13T21:28:40.468789Z"
    }
   },
   "outputs": [
    {
     "data": {
      "text/plain": [
       "18495.550309335667"
      ]
     },
     "execution_count": 97,
     "metadata": {},
     "output_type": "execute_result"
    }
   ],
   "source": [
    "params_df.loc[\"OverallQual\", \"param_value\"]"
   ]
  },
  {
   "cell_type": "markdown",
   "metadata": {},
   "source": [
    "$\\hat{y} = \\cdots + 18495.55 \\text{OverallQual} + \\cdots$"
   ]
  },
  {
   "cell_type": "code",
   "execution_count": 98,
   "metadata": {
    "ExecuteTime": {
     "end_time": "2022-05-13T21:28:40.685017Z",
     "start_time": "2022-05-13T21:28:40.578597Z"
    }
   },
   "outputs": [
    {
     "name": "stdout",
     "output_type": "stream",
     "text": [
      "18495.550309335667\n",
      "113221.90471896406\n",
      "184955.50309335667\n"
     ]
    }
   ],
   "source": [
    "print(params_df.loc[\"OverallQual\", \"param_value\"]*X_train[\"OverallQual\"].min())\n",
    "print(params_df.loc[\"OverallQual\", \"param_value\"]*X_train[\"OverallQual\"].mean())\n",
    "print(params_df.loc[\"OverallQual\", \"param_value\"]*X_train[\"OverallQual\"].max())"
   ]
  },
  {
   "cell_type": "code",
   "execution_count": 99,
   "metadata": {
    "ExecuteTime": {
     "end_time": "2022-05-13T21:28:40.796221Z",
     "start_time": "2022-05-13T21:28:40.687013Z"
    }
   },
   "outputs": [
    {
     "data": {
      "text/plain": [
       "count    1168.000000\n",
       "mean     1970.965753\n",
       "std        30.675495\n",
       "min      1872.000000\n",
       "25%      1953.000000\n",
       "50%      1972.000000\n",
       "75%      2001.000000\n",
       "max      2010.000000\n",
       "Name: YearBuilt, dtype: float64"
      ]
     },
     "execution_count": 99,
     "metadata": {},
     "output_type": "execute_result"
    }
   ],
   "source": [
    "X_train[\"YearBuilt\"].describe()"
   ]
  },
  {
   "cell_type": "code",
   "execution_count": 100,
   "metadata": {
    "ExecuteTime": {
     "end_time": "2022-05-13T21:28:40.890591Z",
     "start_time": "2022-05-13T21:28:40.799223Z"
    }
   },
   "outputs": [
    {
     "data": {
      "text/plain": [
       "337.31290775233856"
      ]
     },
     "execution_count": 100,
     "metadata": {},
     "output_type": "execute_result"
    }
   ],
   "source": [
    "params_df.loc[\"YearBuilt\", \"param_value\"]"
   ]
  },
  {
   "cell_type": "markdown",
   "metadata": {},
   "source": [
    "$\\hat{y} = \\cdots + 337.31 \\text{YearBuilt} + \\cdots$"
   ]
  },
  {
   "cell_type": "code",
   "execution_count": 101,
   "metadata": {
    "ExecuteTime": {
     "end_time": "2022-05-13T21:28:41.001297Z",
     "start_time": "2022-05-13T21:28:40.892591Z"
    }
   },
   "outputs": [
    {
     "name": "stdout",
     "output_type": "stream",
     "text": [
      "631449.7633123777\n",
      "664832.18936795\n",
      "677998.9445822005\n"
     ]
    }
   ],
   "source": [
    "print(params_df.loc[\"YearBuilt\", \"param_value\"]*X_train[\"YearBuilt\"].min())\n",
    "print(params_df.loc[\"YearBuilt\", \"param_value\"]*X_train[\"YearBuilt\"].mean())\n",
    "print(params_df.loc[\"YearBuilt\", \"param_value\"]*X_train[\"YearBuilt\"].max())"
   ]
  },
  {
   "cell_type": "markdown",
   "metadata": {},
   "source": [
    "Uma forma de eliminarmos o efeito da escala, é **escalando os dados** (um pré-processamento).\n",
    "\n",
    "Isso pode ser visto como uma terceira passada no ciclo."
   ]
  },
  {
   "cell_type": "code",
   "execution_count": 102,
   "metadata": {
    "ExecuteTime": {
     "end_time": "2022-05-13T21:28:41.192908Z",
     "start_time": "2022-05-13T21:28:41.003296Z"
    }
   },
   "outputs": [
    {
     "data": {
      "text/html": [
       "<div>\n",
       "<style scoped>\n",
       "    .dataframe tbody tr th:only-of-type {\n",
       "        vertical-align: middle;\n",
       "    }\n",
       "\n",
       "    .dataframe tbody tr th {\n",
       "        vertical-align: top;\n",
       "    }\n",
       "\n",
       "    .dataframe thead th {\n",
       "        text-align: right;\n",
       "    }\n",
       "</style>\n",
       "<table border=\"1\" class=\"dataframe\">\n",
       "  <thead>\n",
       "    <tr style=\"text-align: right;\">\n",
       "      <th></th>\n",
       "      <th>MSSubClass</th>\n",
       "      <th>LotArea</th>\n",
       "      <th>OverallQual</th>\n",
       "      <th>OverallCond</th>\n",
       "      <th>YearBuilt</th>\n",
       "      <th>YearRemodAdd</th>\n",
       "      <th>BsmtFinSF1</th>\n",
       "      <th>BsmtFinSF2</th>\n",
       "      <th>BsmtUnfSF</th>\n",
       "      <th>TotalBsmtSF</th>\n",
       "      <th>...</th>\n",
       "      <th>GarageArea</th>\n",
       "      <th>WoodDeckSF</th>\n",
       "      <th>OpenPorchSF</th>\n",
       "      <th>EnclosedPorch</th>\n",
       "      <th>3SsnPorch</th>\n",
       "      <th>ScreenPorch</th>\n",
       "      <th>PoolArea</th>\n",
       "      <th>MiscVal</th>\n",
       "      <th>MoSold</th>\n",
       "      <th>YrSold</th>\n",
       "    </tr>\n",
       "  </thead>\n",
       "  <tbody>\n",
       "    <tr>\n",
       "      <th>min</th>\n",
       "      <td>20.0</td>\n",
       "      <td>1300.0</td>\n",
       "      <td>1.0</td>\n",
       "      <td>1.0</td>\n",
       "      <td>1872.0</td>\n",
       "      <td>1950.0</td>\n",
       "      <td>0.0</td>\n",
       "      <td>0.0</td>\n",
       "      <td>0.0</td>\n",
       "      <td>0.0</td>\n",
       "      <td>...</td>\n",
       "      <td>0.0</td>\n",
       "      <td>0.0</td>\n",
       "      <td>0.0</td>\n",
       "      <td>0.0</td>\n",
       "      <td>0.0</td>\n",
       "      <td>0.0</td>\n",
       "      <td>0.0</td>\n",
       "      <td>0.0</td>\n",
       "      <td>1.0</td>\n",
       "      <td>2006.0</td>\n",
       "    </tr>\n",
       "    <tr>\n",
       "      <th>max</th>\n",
       "      <td>190.0</td>\n",
       "      <td>215245.0</td>\n",
       "      <td>10.0</td>\n",
       "      <td>9.0</td>\n",
       "      <td>2010.0</td>\n",
       "      <td>2010.0</td>\n",
       "      <td>5644.0</td>\n",
       "      <td>1127.0</td>\n",
       "      <td>2336.0</td>\n",
       "      <td>6110.0</td>\n",
       "      <td>...</td>\n",
       "      <td>1418.0</td>\n",
       "      <td>857.0</td>\n",
       "      <td>547.0</td>\n",
       "      <td>552.0</td>\n",
       "      <td>508.0</td>\n",
       "      <td>480.0</td>\n",
       "      <td>738.0</td>\n",
       "      <td>15500.0</td>\n",
       "      <td>12.0</td>\n",
       "      <td>2010.0</td>\n",
       "    </tr>\n",
       "  </tbody>\n",
       "</table>\n",
       "<p>2 rows × 33 columns</p>\n",
       "</div>"
      ],
      "text/plain": [
       "     MSSubClass   LotArea  OverallQual  OverallCond  YearBuilt  YearRemodAdd  \\\n",
       "min        20.0    1300.0          1.0          1.0     1872.0        1950.0   \n",
       "max       190.0  215245.0         10.0          9.0     2010.0        2010.0   \n",
       "\n",
       "     BsmtFinSF1  BsmtFinSF2  BsmtUnfSF  TotalBsmtSF  ...  GarageArea  \\\n",
       "min         0.0         0.0        0.0          0.0  ...         0.0   \n",
       "max      5644.0      1127.0     2336.0       6110.0  ...      1418.0   \n",
       "\n",
       "     WoodDeckSF  OpenPorchSF  EnclosedPorch  3SsnPorch  ScreenPorch  PoolArea  \\\n",
       "min         0.0          0.0            0.0        0.0          0.0       0.0   \n",
       "max       857.0        547.0          552.0      508.0        480.0     738.0   \n",
       "\n",
       "     MiscVal  MoSold  YrSold  \n",
       "min      0.0     1.0  2006.0  \n",
       "max  15500.0    12.0  2010.0  \n",
       "\n",
       "[2 rows x 33 columns]"
      ]
     },
     "execution_count": 102,
     "metadata": {},
     "output_type": "execute_result"
    }
   ],
   "source": [
    "X_train_model.describe().loc[[\"min\", \"max\"]]"
   ]
  },
  {
   "cell_type": "code",
   "execution_count": 103,
   "metadata": {
    "ExecuteTime": {
     "end_time": "2022-05-13T21:28:41.319835Z",
     "start_time": "2022-05-13T21:28:41.194910Z"
    }
   },
   "outputs": [
    {
     "data": {
      "text/html": [
       "<div>\n",
       "<style scoped>\n",
       "    .dataframe tbody tr th:only-of-type {\n",
       "        vertical-align: middle;\n",
       "    }\n",
       "\n",
       "    .dataframe tbody tr th {\n",
       "        vertical-align: top;\n",
       "    }\n",
       "\n",
       "    .dataframe thead th {\n",
       "        text-align: right;\n",
       "    }\n",
       "</style>\n",
       "<table border=\"1\" class=\"dataframe\">\n",
       "  <thead>\n",
       "    <tr style=\"text-align: right;\">\n",
       "      <th></th>\n",
       "      <th>MSSubClass</th>\n",
       "      <th>LotArea</th>\n",
       "      <th>OverallQual</th>\n",
       "      <th>OverallCond</th>\n",
       "      <th>YearBuilt</th>\n",
       "      <th>YearRemodAdd</th>\n",
       "      <th>BsmtFinSF1</th>\n",
       "      <th>BsmtFinSF2</th>\n",
       "      <th>BsmtUnfSF</th>\n",
       "      <th>TotalBsmtSF</th>\n",
       "      <th>...</th>\n",
       "      <th>GarageArea</th>\n",
       "      <th>WoodDeckSF</th>\n",
       "      <th>OpenPorchSF</th>\n",
       "      <th>EnclosedPorch</th>\n",
       "      <th>3SsnPorch</th>\n",
       "      <th>ScreenPorch</th>\n",
       "      <th>PoolArea</th>\n",
       "      <th>MiscVal</th>\n",
       "      <th>MoSold</th>\n",
       "      <th>YrSold</th>\n",
       "    </tr>\n",
       "  </thead>\n",
       "  <tbody>\n",
       "    <tr>\n",
       "      <th>min</th>\n",
       "      <td>20.0</td>\n",
       "      <td>1491.0</td>\n",
       "      <td>2.0</td>\n",
       "      <td>2.0</td>\n",
       "      <td>1880.0</td>\n",
       "      <td>1950.0</td>\n",
       "      <td>0.0</td>\n",
       "      <td>0.0</td>\n",
       "      <td>0.0</td>\n",
       "      <td>0.0</td>\n",
       "      <td>...</td>\n",
       "      <td>0.0</td>\n",
       "      <td>0.0</td>\n",
       "      <td>0.0</td>\n",
       "      <td>0.0</td>\n",
       "      <td>0.0</td>\n",
       "      <td>0.0</td>\n",
       "      <td>0.0</td>\n",
       "      <td>0.0</td>\n",
       "      <td>1.0</td>\n",
       "      <td>2006.0</td>\n",
       "    </tr>\n",
       "    <tr>\n",
       "      <th>max</th>\n",
       "      <td>190.0</td>\n",
       "      <td>70761.0</td>\n",
       "      <td>10.0</td>\n",
       "      <td>9.0</td>\n",
       "      <td>2009.0</td>\n",
       "      <td>2010.0</td>\n",
       "      <td>2188.0</td>\n",
       "      <td>1474.0</td>\n",
       "      <td>2042.0</td>\n",
       "      <td>3206.0</td>\n",
       "      <td>...</td>\n",
       "      <td>1390.0</td>\n",
       "      <td>466.0</td>\n",
       "      <td>274.0</td>\n",
       "      <td>318.0</td>\n",
       "      <td>238.0</td>\n",
       "      <td>396.0</td>\n",
       "      <td>576.0</td>\n",
       "      <td>600.0</td>\n",
       "      <td>12.0</td>\n",
       "      <td>2010.0</td>\n",
       "    </tr>\n",
       "  </tbody>\n",
       "</table>\n",
       "<p>2 rows × 33 columns</p>\n",
       "</div>"
      ],
      "text/plain": [
       "     MSSubClass  LotArea  OverallQual  OverallCond  YearBuilt  YearRemodAdd  \\\n",
       "min        20.0   1491.0          2.0          2.0     1880.0        1950.0   \n",
       "max       190.0  70761.0         10.0          9.0     2009.0        2010.0   \n",
       "\n",
       "     BsmtFinSF1  BsmtFinSF2  BsmtUnfSF  TotalBsmtSF  ...  GarageArea  \\\n",
       "min         0.0         0.0        0.0          0.0  ...         0.0   \n",
       "max      2188.0      1474.0     2042.0       3206.0  ...      1390.0   \n",
       "\n",
       "     WoodDeckSF  OpenPorchSF  EnclosedPorch  3SsnPorch  ScreenPorch  PoolArea  \\\n",
       "min         0.0          0.0            0.0        0.0          0.0       0.0   \n",
       "max       466.0        274.0          318.0      238.0        396.0     576.0   \n",
       "\n",
       "     MiscVal  MoSold  YrSold  \n",
       "min      0.0     1.0  2006.0  \n",
       "max    600.0    12.0  2010.0  \n",
       "\n",
       "[2 rows x 33 columns]"
      ]
     },
     "execution_count": 103,
     "metadata": {},
     "output_type": "execute_result"
    }
   ],
   "source": [
    "X_test_model.describe().loc[[\"min\", \"max\"]]"
   ]
  },
  {
   "cell_type": "code",
   "execution_count": 104,
   "metadata": {
    "ExecuteTime": {
     "end_time": "2022-05-13T21:28:41.351818Z",
     "start_time": "2022-05-13T21:28:41.322835Z"
    }
   },
   "outputs": [],
   "source": [
    "from sklearn.preprocessing import MinMaxScaler\n",
    "\n",
    "mms = MinMaxScaler().fit(X_train_model)\n",
    "\n",
    "X_train_model_mms = pd.DataFrame(mms.transform(X_train_model), columns=X_train_model.columns, index=X_train_model.index)\n",
    "X_test_model_mms = pd.DataFrame(mms.transform(X_test_model), columns=X_test_model.columns, index=X_test_model.index)"
   ]
  },
  {
   "cell_type": "code",
   "execution_count": 105,
   "metadata": {
    "ExecuteTime": {
     "end_time": "2022-05-13T21:28:41.527091Z",
     "start_time": "2022-05-13T21:28:41.354818Z"
    }
   },
   "outputs": [
    {
     "data": {
      "text/html": [
       "<div>\n",
       "<style scoped>\n",
       "    .dataframe tbody tr th:only-of-type {\n",
       "        vertical-align: middle;\n",
       "    }\n",
       "\n",
       "    .dataframe tbody tr th {\n",
       "        vertical-align: top;\n",
       "    }\n",
       "\n",
       "    .dataframe thead th {\n",
       "        text-align: right;\n",
       "    }\n",
       "</style>\n",
       "<table border=\"1\" class=\"dataframe\">\n",
       "  <thead>\n",
       "    <tr style=\"text-align: right;\">\n",
       "      <th></th>\n",
       "      <th>MSSubClass</th>\n",
       "      <th>LotArea</th>\n",
       "      <th>OverallQual</th>\n",
       "      <th>OverallCond</th>\n",
       "      <th>YearBuilt</th>\n",
       "      <th>YearRemodAdd</th>\n",
       "      <th>BsmtFinSF1</th>\n",
       "      <th>BsmtFinSF2</th>\n",
       "      <th>BsmtUnfSF</th>\n",
       "      <th>TotalBsmtSF</th>\n",
       "      <th>...</th>\n",
       "      <th>GarageArea</th>\n",
       "      <th>WoodDeckSF</th>\n",
       "      <th>OpenPorchSF</th>\n",
       "      <th>EnclosedPorch</th>\n",
       "      <th>3SsnPorch</th>\n",
       "      <th>ScreenPorch</th>\n",
       "      <th>PoolArea</th>\n",
       "      <th>MiscVal</th>\n",
       "      <th>MoSold</th>\n",
       "      <th>YrSold</th>\n",
       "    </tr>\n",
       "  </thead>\n",
       "  <tbody>\n",
       "    <tr>\n",
       "      <th>min</th>\n",
       "      <td>0.0</td>\n",
       "      <td>0.0</td>\n",
       "      <td>0.0</td>\n",
       "      <td>0.0</td>\n",
       "      <td>0.0</td>\n",
       "      <td>0.0</td>\n",
       "      <td>0.0</td>\n",
       "      <td>0.0</td>\n",
       "      <td>0.0</td>\n",
       "      <td>0.0</td>\n",
       "      <td>...</td>\n",
       "      <td>0.0</td>\n",
       "      <td>0.0</td>\n",
       "      <td>0.0</td>\n",
       "      <td>0.0</td>\n",
       "      <td>0.0</td>\n",
       "      <td>0.0</td>\n",
       "      <td>0.0</td>\n",
       "      <td>0.0</td>\n",
       "      <td>0.0</td>\n",
       "      <td>0.0</td>\n",
       "    </tr>\n",
       "    <tr>\n",
       "      <th>max</th>\n",
       "      <td>1.0</td>\n",
       "      <td>1.0</td>\n",
       "      <td>1.0</td>\n",
       "      <td>1.0</td>\n",
       "      <td>1.0</td>\n",
       "      <td>1.0</td>\n",
       "      <td>1.0</td>\n",
       "      <td>1.0</td>\n",
       "      <td>1.0</td>\n",
       "      <td>1.0</td>\n",
       "      <td>...</td>\n",
       "      <td>1.0</td>\n",
       "      <td>1.0</td>\n",
       "      <td>1.0</td>\n",
       "      <td>1.0</td>\n",
       "      <td>1.0</td>\n",
       "      <td>1.0</td>\n",
       "      <td>1.0</td>\n",
       "      <td>1.0</td>\n",
       "      <td>1.0</td>\n",
       "      <td>1.0</td>\n",
       "    </tr>\n",
       "  </tbody>\n",
       "</table>\n",
       "<p>2 rows × 33 columns</p>\n",
       "</div>"
      ],
      "text/plain": [
       "     MSSubClass  LotArea  OverallQual  OverallCond  YearBuilt  YearRemodAdd  \\\n",
       "min         0.0      0.0          0.0          0.0        0.0           0.0   \n",
       "max         1.0      1.0          1.0          1.0        1.0           1.0   \n",
       "\n",
       "     BsmtFinSF1  BsmtFinSF2  BsmtUnfSF  TotalBsmtSF  ...  GarageArea  \\\n",
       "min         0.0         0.0        0.0          0.0  ...         0.0   \n",
       "max         1.0         1.0        1.0          1.0  ...         1.0   \n",
       "\n",
       "     WoodDeckSF  OpenPorchSF  EnclosedPorch  3SsnPorch  ScreenPorch  PoolArea  \\\n",
       "min         0.0          0.0            0.0        0.0          0.0       0.0   \n",
       "max         1.0          1.0            1.0        1.0          1.0       1.0   \n",
       "\n",
       "     MiscVal  MoSold  YrSold  \n",
       "min      0.0     0.0     0.0  \n",
       "max      1.0     1.0     1.0  \n",
       "\n",
       "[2 rows x 33 columns]"
      ]
     },
     "execution_count": 105,
     "metadata": {},
     "output_type": "execute_result"
    }
   ],
   "source": [
    "X_train_model_mms.describe().loc[[\"min\", \"max\"]]"
   ]
  },
  {
   "cell_type": "code",
   "execution_count": 106,
   "metadata": {
    "ExecuteTime": {
     "end_time": "2022-05-13T21:28:41.702180Z",
     "start_time": "2022-05-13T21:28:41.529054Z"
    }
   },
   "outputs": [
    {
     "data": {
      "text/html": [
       "<div>\n",
       "<style scoped>\n",
       "    .dataframe tbody tr th:only-of-type {\n",
       "        vertical-align: middle;\n",
       "    }\n",
       "\n",
       "    .dataframe tbody tr th {\n",
       "        vertical-align: top;\n",
       "    }\n",
       "\n",
       "    .dataframe thead th {\n",
       "        text-align: right;\n",
       "    }\n",
       "</style>\n",
       "<table border=\"1\" class=\"dataframe\">\n",
       "  <thead>\n",
       "    <tr style=\"text-align: right;\">\n",
       "      <th></th>\n",
       "      <th>MSSubClass</th>\n",
       "      <th>LotArea</th>\n",
       "      <th>OverallQual</th>\n",
       "      <th>OverallCond</th>\n",
       "      <th>YearBuilt</th>\n",
       "      <th>YearRemodAdd</th>\n",
       "      <th>BsmtFinSF1</th>\n",
       "      <th>BsmtFinSF2</th>\n",
       "      <th>BsmtUnfSF</th>\n",
       "      <th>TotalBsmtSF</th>\n",
       "      <th>...</th>\n",
       "      <th>GarageArea</th>\n",
       "      <th>WoodDeckSF</th>\n",
       "      <th>OpenPorchSF</th>\n",
       "      <th>EnclosedPorch</th>\n",
       "      <th>3SsnPorch</th>\n",
       "      <th>ScreenPorch</th>\n",
       "      <th>PoolArea</th>\n",
       "      <th>MiscVal</th>\n",
       "      <th>MoSold</th>\n",
       "      <th>YrSold</th>\n",
       "    </tr>\n",
       "  </thead>\n",
       "  <tbody>\n",
       "    <tr>\n",
       "      <th>min</th>\n",
       "      <td>0.0</td>\n",
       "      <td>0.000893</td>\n",
       "      <td>0.111111</td>\n",
       "      <td>0.125</td>\n",
       "      <td>0.057971</td>\n",
       "      <td>0.0</td>\n",
       "      <td>0.000000</td>\n",
       "      <td>0.000000</td>\n",
       "      <td>0.000000</td>\n",
       "      <td>0.000000</td>\n",
       "      <td>...</td>\n",
       "      <td>0.000000</td>\n",
       "      <td>0.000000</td>\n",
       "      <td>0.000000</td>\n",
       "      <td>0.000000</td>\n",
       "      <td>0.000000</td>\n",
       "      <td>0.000</td>\n",
       "      <td>0.000000</td>\n",
       "      <td>0.00000</td>\n",
       "      <td>0.0</td>\n",
       "      <td>0.0</td>\n",
       "    </tr>\n",
       "    <tr>\n",
       "      <th>max</th>\n",
       "      <td>1.0</td>\n",
       "      <td>0.324668</td>\n",
       "      <td>1.000000</td>\n",
       "      <td>1.000</td>\n",
       "      <td>0.992754</td>\n",
       "      <td>1.0</td>\n",
       "      <td>0.387668</td>\n",
       "      <td>1.307897</td>\n",
       "      <td>0.874144</td>\n",
       "      <td>0.524714</td>\n",
       "      <td>...</td>\n",
       "      <td>0.980254</td>\n",
       "      <td>0.543757</td>\n",
       "      <td>0.500914</td>\n",
       "      <td>0.576087</td>\n",
       "      <td>0.468504</td>\n",
       "      <td>0.825</td>\n",
       "      <td>0.780488</td>\n",
       "      <td>0.03871</td>\n",
       "      <td>1.0</td>\n",
       "      <td>1.0</td>\n",
       "    </tr>\n",
       "  </tbody>\n",
       "</table>\n",
       "<p>2 rows × 33 columns</p>\n",
       "</div>"
      ],
      "text/plain": [
       "     MSSubClass   LotArea  OverallQual  OverallCond  YearBuilt  YearRemodAdd  \\\n",
       "min         0.0  0.000893     0.111111        0.125   0.057971           0.0   \n",
       "max         1.0  0.324668     1.000000        1.000   0.992754           1.0   \n",
       "\n",
       "     BsmtFinSF1  BsmtFinSF2  BsmtUnfSF  TotalBsmtSF  ...  GarageArea  \\\n",
       "min    0.000000    0.000000   0.000000     0.000000  ...    0.000000   \n",
       "max    0.387668    1.307897   0.874144     0.524714  ...    0.980254   \n",
       "\n",
       "     WoodDeckSF  OpenPorchSF  EnclosedPorch  3SsnPorch  ScreenPorch  PoolArea  \\\n",
       "min    0.000000     0.000000       0.000000   0.000000        0.000  0.000000   \n",
       "max    0.543757     0.500914       0.576087   0.468504        0.825  0.780488   \n",
       "\n",
       "     MiscVal  MoSold  YrSold  \n",
       "min  0.00000     0.0     0.0  \n",
       "max  0.03871     1.0     1.0  \n",
       "\n",
       "[2 rows x 33 columns]"
      ]
     },
     "execution_count": 106,
     "metadata": {},
     "output_type": "execute_result"
    }
   ],
   "source": [
    "X_test_model_mms.describe().loc[[\"min\", \"max\"]]"
   ]
  },
  {
   "cell_type": "code",
   "execution_count": 107,
   "metadata": {
    "ExecuteTime": {
     "end_time": "2022-05-13T21:28:41.734162Z",
     "start_time": "2022-05-13T21:28:41.704177Z"
    }
   },
   "outputs": [],
   "source": [
    "def reg_lin_pt1_pt2(X_train, y_train, X_test, y_test, plot=True, scale_mms=False):\n",
    "\n",
    "    if scale_mms:\n",
    "\n",
    "        mms = MinMaxScaler().fit(X_train)\n",
    "\n",
    "        # passamos assim, pra carregar o nome das features, e ter o .feature_names_in_\n",
    "        X_train = pd.DataFrame(mms.transform(X_train), columns=X_train.columns, index=X_train.index)\n",
    "        X_test = pd.DataFrame(mms.transform(X_test), columns=X_test.columns, index=X_test.index)\n",
    "        \n",
    "#         X_train = mms.transform(X_train)\n",
    "#         X_test = mms.transform(X_test)\n",
    "    \n",
    "    # ===============================\n",
    "    # passo 1 - construção do modelo\n",
    "\n",
    "    reglin = LinearRegression()\n",
    "\n",
    "    reglin.fit(X_train, y_train)\n",
    "\n",
    "    # ===============================\n",
    "    # passo 2 - avaliação do modelo\n",
    "\n",
    "    y_pred = reglin.predict(X_test)\n",
    "    \n",
    "    print(\"\\nMétricas de avaliação (dados de teste):\\n\")\n",
    "\n",
    "    if plot:\n",
    "        plot_scatter_real_pred(y_test, y_pred)\n",
    "\n",
    "    r2 = r2_score(y_test, y_pred)\n",
    "    r2_adj = calc_r2_adj(r2, y_test, X_test)\n",
    "    \n",
    "    print(f\"R^2: {r2:.2f} | Adj R^2: {r2_adj:.2f}\")\n",
    "    print(f\"MAE: {mean_absolute_error(y_test, y_pred):.2f}\")\n",
    "    print(f\"RMSE: {np.sqrt(mean_squared_error(y_test, y_pred)):.2f}\")\n",
    "    print(f\"MAPE: {(mean_absolute_percentage_error(y_test, y_pred))*100:.2f}%\")\n",
    "\n",
    "    residuos = y_test - y_pred\n",
    "    print(\"\\nDistribuição dos resíduos:\\n\")\n",
    "    print(residuos.describe())\n",
    "    \n",
    "    if plot:\n",
    "        sns.histplot(residuos, kde=True)\n",
    "        plt.show()\n",
    "        \n",
    "    # new: returnando o objeto do modelo treinado!\n",
    "    return reglin"
   ]
  },
  {
   "cell_type": "code",
   "execution_count": 108,
   "metadata": {
    "ExecuteTime": {
     "end_time": "2022-05-13T21:28:42.341364Z",
     "start_time": "2022-05-13T21:28:41.736158Z"
    },
    "scrolled": false
   },
   "outputs": [
    {
     "name": "stdout",
     "output_type": "stream",
     "text": [
      "\n",
      "Métricas de avaliação (dados de teste):\n",
      "\n"
     ]
    },
    {
     "data": {
      "image/png": "[encoded data removed]",
      "text/plain": [
       "<Figure size 432x288 with 1 Axes>"
      ]
     },
     "metadata": {
      "needs_background": "light"
     },
     "output_type": "display_data"
    },
    {
     "name": "stdout",
     "output_type": "stream",
     "text": [
      "R^2: 0.82 | Adj R^2: 0.80\n",
      "MAE: 22944.63\n",
      "RMSE: 37317.50\n",
      "MAPE: 13.45%\n",
      "\n",
      "Distribuição dos resíduos:\n",
      "\n",
      "count       292.000000\n",
      "mean       3884.839205\n",
      "std       37178.455395\n",
      "min      -72380.588058\n",
      "25%      -16310.664298\n",
      "50%         823.909304\n",
      "75%       16046.948499\n",
      "max      306311.131773\n",
      "Name: SalePrice, dtype: float64\n"
     ]
    },
    {
     "data": {
      "image/png": "[encoded data removed]",
      "text/plain": [
       "<Figure size 432x288 with 1 Axes>"
      ]
     },
     "metadata": {
      "needs_background": "light"
     },
     "output_type": "display_data"
    },
    {
     "data": {
      "text/html": [
       "<div>\n",
       "<style scoped>\n",
       "    .dataframe tbody tr th:only-of-type {\n",
       "        vertical-align: middle;\n",
       "    }\n",
       "\n",
       "    .dataframe tbody tr th {\n",
       "        vertical-align: top;\n",
       "    }\n",
       "\n",
       "    .dataframe thead th {\n",
       "        text-align: right;\n",
       "    }\n",
       "</style>\n",
       "<table border=\"1\" class=\"dataframe\">\n",
       "  <thead>\n",
       "    <tr style=\"text-align: right;\">\n",
       "      <th></th>\n",
       "      <th>param_value</th>\n",
       "    </tr>\n",
       "  </thead>\n",
       "  <tbody>\n",
       "    <tr>\n",
       "      <th>MSSubClass</th>\n",
       "      <td>-2.990692e+04</td>\n",
       "    </tr>\n",
       "    <tr>\n",
       "      <th>LotArea</th>\n",
       "      <td>8.743753e+04</td>\n",
       "    </tr>\n",
       "    <tr>\n",
       "      <th>OverallQual</th>\n",
       "      <td>1.665872e+05</td>\n",
       "    </tr>\n",
       "    <tr>\n",
       "      <th>OverallCond</th>\n",
       "      <td>3.076871e+04</td>\n",
       "    </tr>\n",
       "    <tr>\n",
       "      <th>YearBuilt</th>\n",
       "      <td>4.658117e+04</td>\n",
       "    </tr>\n",
       "    <tr>\n",
       "      <th>YearRemodAdd</th>\n",
       "      <td>1.078255e+04</td>\n",
       "    </tr>\n",
       "    <tr>\n",
       "      <th>BsmtFinSF1</th>\n",
       "      <td>1.114685e+17</td>\n",
       "    </tr>\n",
       "    <tr>\n",
       "      <th>BsmtFinSF2</th>\n",
       "      <td>2.225814e+16</td>\n",
       "    </tr>\n",
       "    <tr>\n",
       "      <th>BsmtUnfSF</th>\n",
       "      <td>4.613578e+16</td>\n",
       "    </tr>\n",
       "    <tr>\n",
       "      <th>TotalBsmtSF</th>\n",
       "      <td>-1.206719e+17</td>\n",
       "    </tr>\n",
       "    <tr>\n",
       "      <th>1stFlrSF</th>\n",
       "      <td>2.138354e+17</td>\n",
       "    </tr>\n",
       "    <tr>\n",
       "      <th>2ndFlrSF</th>\n",
       "      <td>1.013240e+17</td>\n",
       "    </tr>\n",
       "    <tr>\n",
       "      <th>LowQualFinSF</th>\n",
       "      <td>2.806651e+16</td>\n",
       "    </tr>\n",
       "    <tr>\n",
       "      <th>GrLivArea</th>\n",
       "      <td>-2.604494e+17</td>\n",
       "    </tr>\n",
       "    <tr>\n",
       "      <th>BsmtFullBath</th>\n",
       "      <td>3.318863e+04</td>\n",
       "    </tr>\n",
       "    <tr>\n",
       "      <th>BsmtHalfBath</th>\n",
       "      <td>-6.178465e+02</td>\n",
       "    </tr>\n",
       "    <tr>\n",
       "      <th>FullBath</th>\n",
       "      <td>1.023618e+04</td>\n",
       "    </tr>\n",
       "    <tr>\n",
       "      <th>HalfBath</th>\n",
       "      <td>-3.348910e+03</td>\n",
       "    </tr>\n",
       "    <tr>\n",
       "      <th>BedroomAbvGr</th>\n",
       "      <td>-7.270674e+04</td>\n",
       "    </tr>\n",
       "    <tr>\n",
       "      <th>KitchenAbvGr</th>\n",
       "      <td>-3.025091e+04</td>\n",
       "    </tr>\n",
       "    <tr>\n",
       "      <th>TotRmsAbvGrd</th>\n",
       "      <td>6.123214e+04</td>\n",
       "    </tr>\n",
       "    <tr>\n",
       "      <th>Fireplaces</th>\n",
       "      <td>1.312333e+04</td>\n",
       "    </tr>\n",
       "    <tr>\n",
       "      <th>GarageCars</th>\n",
       "      <td>4.647278e+04</td>\n",
       "    </tr>\n",
       "    <tr>\n",
       "      <th>GarageArea</th>\n",
       "      <td>7.556530e+02</td>\n",
       "    </tr>\n",
       "    <tr>\n",
       "      <th>WoodDeckSF</th>\n",
       "      <td>2.191455e+04</td>\n",
       "    </tr>\n",
       "    <tr>\n",
       "      <th>OpenPorchSF</th>\n",
       "      <td>-3.585024e+03</td>\n",
       "    </tr>\n",
       "    <tr>\n",
       "      <th>EnclosedPorch</th>\n",
       "      <td>3.895524e+03</td>\n",
       "    </tr>\n",
       "    <tr>\n",
       "      <th>3SsnPorch</th>\n",
       "      <td>1.942221e+04</td>\n",
       "    </tr>\n",
       "    <tr>\n",
       "      <th>ScreenPorch</th>\n",
       "      <td>3.144838e+04</td>\n",
       "    </tr>\n",
       "    <tr>\n",
       "      <th>PoolArea</th>\n",
       "      <td>-2.750692e+04</td>\n",
       "    </tr>\n",
       "    <tr>\n",
       "      <th>MiscVal</th>\n",
       "      <td>-1.100181e+04</td>\n",
       "    </tr>\n",
       "    <tr>\n",
       "      <th>MoSold</th>\n",
       "      <td>-2.342084e+03</td>\n",
       "    </tr>\n",
       "    <tr>\n",
       "      <th>YrSold</th>\n",
       "      <td>-2.061434e+03</td>\n",
       "    </tr>\n",
       "  </tbody>\n",
       "</table>\n",
       "</div>"
      ],
      "text/plain": [
       "                param_value\n",
       "MSSubClass    -2.990692e+04\n",
       "LotArea        8.743753e+04\n",
       "OverallQual    1.665872e+05\n",
       "OverallCond    3.076871e+04\n",
       "YearBuilt      4.658117e+04\n",
       "YearRemodAdd   1.078255e+04\n",
       "BsmtFinSF1     1.114685e+17\n",
       "BsmtFinSF2     2.225814e+16\n",
       "BsmtUnfSF      4.613578e+16\n",
       "TotalBsmtSF   -1.206719e+17\n",
       "1stFlrSF       2.138354e+17\n",
       "2ndFlrSF       1.013240e+17\n",
       "LowQualFinSF   2.806651e+16\n",
       "GrLivArea     -2.604494e+17\n",
       "BsmtFullBath   3.318863e+04\n",
       "BsmtHalfBath  -6.178465e+02\n",
       "FullBath       1.023618e+04\n",
       "HalfBath      -3.348910e+03\n",
       "BedroomAbvGr  -7.270674e+04\n",
       "KitchenAbvGr  -3.025091e+04\n",
       "TotRmsAbvGrd   6.123214e+04\n",
       "Fireplaces     1.312333e+04\n",
       "GarageCars     4.647278e+04\n",
       "GarageArea     7.556530e+02\n",
       "WoodDeckSF     2.191455e+04\n",
       "OpenPorchSF   -3.585024e+03\n",
       "EnclosedPorch  3.895524e+03\n",
       "3SsnPorch      1.942221e+04\n",
       "ScreenPorch    3.144838e+04\n",
       "PoolArea      -2.750692e+04\n",
       "MiscVal       -1.100181e+04\n",
       "MoSold        -2.342084e+03\n",
       "YrSold        -2.061434e+03"
      ]
     },
     "execution_count": 108,
     "metadata": {},
     "output_type": "execute_result"
    }
   ],
   "source": [
    "reglin_multi_mms = reg_lin_pt1_pt2(X_train_model, y_train,\n",
    "                                   X_test_model, y_test, \n",
    "                                   plot=True, scale_mms=True)\n",
    "\n",
    "params_df = pd.DataFrame(reglin_multi_mms.coef_, index=reglin_multi_mms.feature_names_in_, columns=[\"param_value\"])\n",
    "\n",
    "params_df"
   ]
  },
  {
   "cell_type": "code",
   "execution_count": 109,
   "metadata": {
    "ExecuteTime": {
     "end_time": "2022-05-13T21:28:42.374207Z",
     "start_time": "2022-05-13T21:28:42.343564Z"
    },
    "scrolled": true
   },
   "outputs": [
    {
     "data": {
      "text/html": [
       "<div>\n",
       "<style scoped>\n",
       "    .dataframe tbody tr th:only-of-type {\n",
       "        vertical-align: middle;\n",
       "    }\n",
       "\n",
       "    .dataframe tbody tr th {\n",
       "        vertical-align: top;\n",
       "    }\n",
       "\n",
       "    .dataframe thead th {\n",
       "        text-align: right;\n",
       "    }\n",
       "</style>\n",
       "<table border=\"1\" class=\"dataframe\">\n",
       "  <thead>\n",
       "    <tr style=\"text-align: right;\">\n",
       "      <th></th>\n",
       "      <th>param_value</th>\n",
       "    </tr>\n",
       "  </thead>\n",
       "  <tbody>\n",
       "    <tr>\n",
       "      <th>GrLivArea</th>\n",
       "      <td>2.604494e+17</td>\n",
       "    </tr>\n",
       "    <tr>\n",
       "      <th>1stFlrSF</th>\n",
       "      <td>2.138354e+17</td>\n",
       "    </tr>\n",
       "    <tr>\n",
       "      <th>TotalBsmtSF</th>\n",
       "      <td>1.206719e+17</td>\n",
       "    </tr>\n",
       "    <tr>\n",
       "      <th>BsmtFinSF1</th>\n",
       "      <td>1.114685e+17</td>\n",
       "    </tr>\n",
       "    <tr>\n",
       "      <th>2ndFlrSF</th>\n",
       "      <td>1.013240e+17</td>\n",
       "    </tr>\n",
       "    <tr>\n",
       "      <th>BsmtUnfSF</th>\n",
       "      <td>4.613578e+16</td>\n",
       "    </tr>\n",
       "    <tr>\n",
       "      <th>LowQualFinSF</th>\n",
       "      <td>2.806651e+16</td>\n",
       "    </tr>\n",
       "    <tr>\n",
       "      <th>BsmtFinSF2</th>\n",
       "      <td>2.225814e+16</td>\n",
       "    </tr>\n",
       "    <tr>\n",
       "      <th>OverallQual</th>\n",
       "      <td>1.665872e+05</td>\n",
       "    </tr>\n",
       "    <tr>\n",
       "      <th>LotArea</th>\n",
       "      <td>8.743753e+04</td>\n",
       "    </tr>\n",
       "    <tr>\n",
       "      <th>BedroomAbvGr</th>\n",
       "      <td>7.270674e+04</td>\n",
       "    </tr>\n",
       "    <tr>\n",
       "      <th>TotRmsAbvGrd</th>\n",
       "      <td>6.123214e+04</td>\n",
       "    </tr>\n",
       "    <tr>\n",
       "      <th>YearBuilt</th>\n",
       "      <td>4.658117e+04</td>\n",
       "    </tr>\n",
       "    <tr>\n",
       "      <th>GarageCars</th>\n",
       "      <td>4.647278e+04</td>\n",
       "    </tr>\n",
       "    <tr>\n",
       "      <th>BsmtFullBath</th>\n",
       "      <td>3.318863e+04</td>\n",
       "    </tr>\n",
       "    <tr>\n",
       "      <th>ScreenPorch</th>\n",
       "      <td>3.144838e+04</td>\n",
       "    </tr>\n",
       "    <tr>\n",
       "      <th>OverallCond</th>\n",
       "      <td>3.076871e+04</td>\n",
       "    </tr>\n",
       "    <tr>\n",
       "      <th>KitchenAbvGr</th>\n",
       "      <td>3.025091e+04</td>\n",
       "    </tr>\n",
       "    <tr>\n",
       "      <th>MSSubClass</th>\n",
       "      <td>2.990692e+04</td>\n",
       "    </tr>\n",
       "    <tr>\n",
       "      <th>PoolArea</th>\n",
       "      <td>2.750692e+04</td>\n",
       "    </tr>\n",
       "    <tr>\n",
       "      <th>WoodDeckSF</th>\n",
       "      <td>2.191455e+04</td>\n",
       "    </tr>\n",
       "    <tr>\n",
       "      <th>3SsnPorch</th>\n",
       "      <td>1.942221e+04</td>\n",
       "    </tr>\n",
       "    <tr>\n",
       "      <th>Fireplaces</th>\n",
       "      <td>1.312333e+04</td>\n",
       "    </tr>\n",
       "    <tr>\n",
       "      <th>MiscVal</th>\n",
       "      <td>1.100181e+04</td>\n",
       "    </tr>\n",
       "    <tr>\n",
       "      <th>YearRemodAdd</th>\n",
       "      <td>1.078255e+04</td>\n",
       "    </tr>\n",
       "    <tr>\n",
       "      <th>FullBath</th>\n",
       "      <td>1.023618e+04</td>\n",
       "    </tr>\n",
       "    <tr>\n",
       "      <th>EnclosedPorch</th>\n",
       "      <td>3.895524e+03</td>\n",
       "    </tr>\n",
       "    <tr>\n",
       "      <th>OpenPorchSF</th>\n",
       "      <td>3.585024e+03</td>\n",
       "    </tr>\n",
       "    <tr>\n",
       "      <th>HalfBath</th>\n",
       "      <td>3.348910e+03</td>\n",
       "    </tr>\n",
       "    <tr>\n",
       "      <th>MoSold</th>\n",
       "      <td>2.342084e+03</td>\n",
       "    </tr>\n",
       "    <tr>\n",
       "      <th>YrSold</th>\n",
       "      <td>2.061434e+03</td>\n",
       "    </tr>\n",
       "    <tr>\n",
       "      <th>GarageArea</th>\n",
       "      <td>7.556530e+02</td>\n",
       "    </tr>\n",
       "    <tr>\n",
       "      <th>BsmtHalfBath</th>\n",
       "      <td>6.178465e+02</td>\n",
       "    </tr>\n",
       "  </tbody>\n",
       "</table>\n",
       "</div>"
      ],
      "text/plain": [
       "                param_value\n",
       "GrLivArea      2.604494e+17\n",
       "1stFlrSF       2.138354e+17\n",
       "TotalBsmtSF    1.206719e+17\n",
       "BsmtFinSF1     1.114685e+17\n",
       "2ndFlrSF       1.013240e+17\n",
       "BsmtUnfSF      4.613578e+16\n",
       "LowQualFinSF   2.806651e+16\n",
       "BsmtFinSF2     2.225814e+16\n",
       "OverallQual    1.665872e+05\n",
       "LotArea        8.743753e+04\n",
       "BedroomAbvGr   7.270674e+04\n",
       "TotRmsAbvGrd   6.123214e+04\n",
       "YearBuilt      4.658117e+04\n",
       "GarageCars     4.647278e+04\n",
       "BsmtFullBath   3.318863e+04\n",
       "ScreenPorch    3.144838e+04\n",
       "OverallCond    3.076871e+04\n",
       "KitchenAbvGr   3.025091e+04\n",
       "MSSubClass     2.990692e+04\n",
       "PoolArea       2.750692e+04\n",
       "WoodDeckSF     2.191455e+04\n",
       "3SsnPorch      1.942221e+04\n",
       "Fireplaces     1.312333e+04\n",
       "MiscVal        1.100181e+04\n",
       "YearRemodAdd   1.078255e+04\n",
       "FullBath       1.023618e+04\n",
       "EnclosedPorch  3.895524e+03\n",
       "OpenPorchSF    3.585024e+03\n",
       "HalfBath       3.348910e+03\n",
       "MoSold         2.342084e+03\n",
       "YrSold         2.061434e+03\n",
       "GarageArea     7.556530e+02\n",
       "BsmtHalfBath   6.178465e+02"
      ]
     },
     "execution_count": 109,
     "metadata": {},
     "output_type": "execute_result"
    }
   ],
   "source": [
    "params_df.abs().sort_values(\"param_value\", ascending=False)"
   ]
  },
  {
   "cell_type": "code",
   "execution_count": 110,
   "metadata": {
    "ExecuteTime": {
     "end_time": "2022-05-13T21:28:42.469590Z",
     "start_time": "2022-05-13T21:28:42.377189Z"
    }
   },
   "outputs": [
    {
     "data": {
      "text/plain": [
       "['GrLivArea',\n",
       " '1stFlrSF',\n",
       " 'TotalBsmtSF',\n",
       " 'BsmtFinSF1',\n",
       " '2ndFlrSF',\n",
       " 'BsmtUnfSF',\n",
       " 'LowQualFinSF',\n",
       " 'BsmtFinSF2',\n",
       " 'OverallQual',\n",
       " 'LotArea']"
      ]
     },
     "execution_count": 110,
     "metadata": {},
     "output_type": "execute_result"
    }
   ],
   "source": [
    "# lista com as 10 features mais importantes\n",
    "params_df.abs().sort_values(\"param_value\", ascending=False)[:10].index.tolist()"
   ]
  },
  {
   "cell_type": "markdown",
   "metadata": {},
   "source": [
    "Análise de \"componentes\" das áreas da casa. Valeu José!!"
   ]
  },
  {
   "cell_type": "code",
   "execution_count": 111,
   "metadata": {
    "ExecuteTime": {
     "end_time": "2022-05-13T21:28:42.626623Z",
     "start_time": "2022-05-13T21:28:42.471569Z"
    }
   },
   "outputs": [
    {
     "data": {
      "text/html": [
       "<div>\n",
       "<style scoped>\n",
       "    .dataframe tbody tr th:only-of-type {\n",
       "        vertical-align: middle;\n",
       "    }\n",
       "\n",
       "    .dataframe tbody tr th {\n",
       "        vertical-align: top;\n",
       "    }\n",
       "\n",
       "    .dataframe thead th {\n",
       "        text-align: right;\n",
       "    }\n",
       "</style>\n",
       "<table border=\"1\" class=\"dataframe\">\n",
       "  <thead>\n",
       "    <tr style=\"text-align: right;\">\n",
       "      <th></th>\n",
       "      <th>1stFlrSF</th>\n",
       "      <th>2ndFlrSF</th>\n",
       "      <th>GrLivArea</th>\n",
       "      <th>test</th>\n",
       "    </tr>\n",
       "  </thead>\n",
       "  <tbody>\n",
       "    <tr>\n",
       "      <th>254</th>\n",
       "      <td>1314</td>\n",
       "      <td>0</td>\n",
       "      <td>1314</td>\n",
       "      <td>1314</td>\n",
       "    </tr>\n",
       "    <tr>\n",
       "      <th>1066</th>\n",
       "      <td>799</td>\n",
       "      <td>772</td>\n",
       "      <td>1571</td>\n",
       "      <td>1571</td>\n",
       "    </tr>\n",
       "    <tr>\n",
       "      <th>638</th>\n",
       "      <td>796</td>\n",
       "      <td>0</td>\n",
       "      <td>796</td>\n",
       "      <td>796</td>\n",
       "    </tr>\n",
       "    <tr>\n",
       "      <th>799</th>\n",
       "      <td>981</td>\n",
       "      <td>787</td>\n",
       "      <td>1768</td>\n",
       "      <td>1768</td>\n",
       "    </tr>\n",
       "    <tr>\n",
       "      <th>380</th>\n",
       "      <td>1026</td>\n",
       "      <td>665</td>\n",
       "      <td>1691</td>\n",
       "      <td>1691</td>\n",
       "    </tr>\n",
       "    <tr>\n",
       "      <th>...</th>\n",
       "      <td>...</td>\n",
       "      <td>...</td>\n",
       "      <td>...</td>\n",
       "      <td>...</td>\n",
       "    </tr>\n",
       "    <tr>\n",
       "      <th>1095</th>\n",
       "      <td>1314</td>\n",
       "      <td>0</td>\n",
       "      <td>1314</td>\n",
       "      <td>1314</td>\n",
       "    </tr>\n",
       "    <tr>\n",
       "      <th>1130</th>\n",
       "      <td>1328</td>\n",
       "      <td>653</td>\n",
       "      <td>1981</td>\n",
       "      <td>1981</td>\n",
       "    </tr>\n",
       "    <tr>\n",
       "      <th>1294</th>\n",
       "      <td>864</td>\n",
       "      <td>0</td>\n",
       "      <td>864</td>\n",
       "      <td>864</td>\n",
       "    </tr>\n",
       "    <tr>\n",
       "      <th>860</th>\n",
       "      <td>912</td>\n",
       "      <td>514</td>\n",
       "      <td>1426</td>\n",
       "      <td>1426</td>\n",
       "    </tr>\n",
       "    <tr>\n",
       "      <th>1126</th>\n",
       "      <td>1555</td>\n",
       "      <td>0</td>\n",
       "      <td>1555</td>\n",
       "      <td>1555</td>\n",
       "    </tr>\n",
       "  </tbody>\n",
       "</table>\n",
       "<p>1168 rows × 4 columns</p>\n",
       "</div>"
      ],
      "text/plain": [
       "      1stFlrSF  2ndFlrSF  GrLivArea  test\n",
       "254       1314         0       1314  1314\n",
       "1066       799       772       1571  1571\n",
       "638        796         0        796   796\n",
       "799        981       787       1768  1768\n",
       "380       1026       665       1691  1691\n",
       "...        ...       ...        ...   ...\n",
       "1095      1314         0       1314  1314\n",
       "1130      1328       653       1981  1981\n",
       "1294       864         0        864   864\n",
       "860        912       514       1426  1426\n",
       "1126      1555         0       1555  1555\n",
       "\n",
       "[1168 rows x 4 columns]"
      ]
     },
     "execution_count": 111,
     "metadata": {},
     "output_type": "execute_result"
    }
   ],
   "source": [
    "aux = X_train[[\"1stFlrSF\", \"2ndFlrSF\", \"GrLivArea\"]].copy()\n",
    "\n",
    "aux[\"test\"] = aux[[\"1stFlrSF\", \"2ndFlrSF\"]].sum(axis=1)\n",
    "\n",
    "aux"
   ]
  },
  {
   "cell_type": "code",
   "execution_count": 112,
   "metadata": {
    "ExecuteTime": {
     "end_time": "2022-05-13T21:28:42.753696Z",
     "start_time": "2022-05-13T21:28:42.628550Z"
    }
   },
   "outputs": [
    {
     "data": {
      "text/html": [
       "<div>\n",
       "<style scoped>\n",
       "    .dataframe tbody tr th:only-of-type {\n",
       "        vertical-align: middle;\n",
       "    }\n",
       "\n",
       "    .dataframe tbody tr th {\n",
       "        vertical-align: top;\n",
       "    }\n",
       "\n",
       "    .dataframe thead th {\n",
       "        text-align: right;\n",
       "    }\n",
       "</style>\n",
       "<table border=\"1\" class=\"dataframe\">\n",
       "  <thead>\n",
       "    <tr style=\"text-align: right;\">\n",
       "      <th></th>\n",
       "      <th>1stFlrSF</th>\n",
       "      <th>2ndFlrSF</th>\n",
       "      <th>GrLivArea</th>\n",
       "      <th>test</th>\n",
       "    </tr>\n",
       "  </thead>\n",
       "  <tbody>\n",
       "    <tr>\n",
       "      <th>1stFlrSF</th>\n",
       "      <td>1.000000</td>\n",
       "      <td>-0.213277</td>\n",
       "      <td>0.557241</td>\n",
       "      <td>0.563486</td>\n",
       "    </tr>\n",
       "    <tr>\n",
       "      <th>2ndFlrSF</th>\n",
       "      <td>-0.213277</td>\n",
       "      <td>1.000000</td>\n",
       "      <td>0.687505</td>\n",
       "      <td>0.686940</td>\n",
       "    </tr>\n",
       "    <tr>\n",
       "      <th>GrLivArea</th>\n",
       "      <td>0.557241</td>\n",
       "      <td>0.687505</td>\n",
       "      <td>1.000000</td>\n",
       "      <td>0.995833</td>\n",
       "    </tr>\n",
       "    <tr>\n",
       "      <th>test</th>\n",
       "      <td>0.563486</td>\n",
       "      <td>0.686940</td>\n",
       "      <td>0.995833</td>\n",
       "      <td>1.000000</td>\n",
       "    </tr>\n",
       "  </tbody>\n",
       "</table>\n",
       "</div>"
      ],
      "text/plain": [
       "           1stFlrSF  2ndFlrSF  GrLivArea      test\n",
       "1stFlrSF   1.000000 -0.213277   0.557241  0.563486\n",
       "2ndFlrSF  -0.213277  1.000000   0.687505  0.686940\n",
       "GrLivArea  0.557241  0.687505   1.000000  0.995833\n",
       "test       0.563486  0.686940   0.995833  1.000000"
      ]
     },
     "execution_count": 112,
     "metadata": {},
     "output_type": "execute_result"
    }
   ],
   "source": [
    "aux.corr()"
   ]
  },
  {
   "cell_type": "code",
   "execution_count": 113,
   "metadata": {
    "ExecuteTime": {
     "end_time": "2022-05-13T21:28:42.864540Z",
     "start_time": "2022-05-13T21:28:42.756675Z"
    }
   },
   "outputs": [
    {
     "data": {
      "text/plain": [
       "-6653"
      ]
     },
     "execution_count": 113,
     "metadata": {},
     "output_type": "execute_result"
    }
   ],
   "source": [
    "(aux[\"test\"] - aux[\"GrLivArea\"]).sum()"
   ]
  },
  {
   "cell_type": "code",
   "execution_count": 114,
   "metadata": {
    "ExecuteTime": {
     "end_time": "2022-05-13T21:28:42.958682Z",
     "start_time": "2022-05-13T21:28:42.869462Z"
    }
   },
   "outputs": [
    {
     "data": {
      "text/plain": [
       "21"
      ]
     },
     "execution_count": 114,
     "metadata": {},
     "output_type": "execute_result"
    }
   ],
   "source": [
    "(aux[\"test\"] - aux[\"GrLivArea\"] != 0).sum()"
   ]
  },
  {
   "cell_type": "markdown",
   "metadata": {},
   "source": [
    "__________"
   ]
  },
  {
   "cell_type": "markdown",
   "metadata": {},
   "source": [
    "A performance do modelo melhorou?\n",
    "\n",
    "Será que dá pra melhorar mais?\n",
    "\n",
    "Opções:\n",
    "\n",
    "- tentar apenas um subconjunto de features: **feature selection**\n",
    "\n",
    "- passar a utilizar as features categóricas, ou então criar novas features: **feature engeneering**\n",
    "\n",
    "- Usar estimadores diferentes da regressão linear (quem sabe, métodos não-lineares?)\n",
    "\n",
    "Isso, e muito mais, aprenderemos nos próximos módulos do curso! :D"
   ]
  },
  {
   "cell_type": "markdown",
   "metadata": {},
   "source": [
    "____\n",
    "____\n",
    "____"
   ]
  },
  {
   "cell_type": "markdown",
   "metadata": {},
   "source": [
    "## 4) Overfitting: um dos lados do tradeoff viés-variância\n",
    "\n",
    "O famoso **tradeoff viés-variância** é um dos conceitos mais importantes em apredizado de máquina.\n",
    "\n",
    "Muitas vezes alguns modelos têm 100% de acerto nos dados de **treino**, mas **na base de teste** a performance cai para menos de 50%.\n",
    "\n",
    "Isso pode acontecer porque o modelo fica **especialista apenas no conjunto de treino**, não conseguindo **generalizar os padrões para além dos dados vistos**. \n",
    "\n",
    "Quando isso ocorre, dizemos que nosso modelo sofre de **overfitting**.\n",
    "\n",
    "<img src=\"https://miro.medium.com/max/1125/1*_7OPgojau8hkiPUiHoGK_w.png\" width=800>\n",
    "\n",
    "O overfitting está intimamente ligado com o conceito de **viés** (bias) e **variância** (variance):"
   ]
  },
  {
   "cell_type": "markdown",
   "metadata": {},
   "source": [
    ">**Viés**<br>\n",
    "É a diferença entre o que o modelo prediz, e o valor correto a ser predito.<br>\n",
    "Modelos com alto viés são muito simples, de modo a **não conseguir capturar as relações que os dados de treino exibem** (underfit).<br>\n",
    "Issso faz com que ambos os erros de treino e de teste sejam altos.\n",
    "<br><br>\n",
    "Em outras palavras:<br>\n",
    "**Incapacidade de um modelo de capturar a verdadeira relação entre features e target**\n",
    "\n",
    "\n",
    "> **Variância**<br>\n",
    "Variância se refere à variabilidade das predições de um modelo.<br>\n",
    "Modelos com alta variância são muito complexos, por **aprenderem demais as relações  exibidas nos dados de treino** (overfit).<br>\n",
    "Isso faz com que os erros de treino sejam baixos, mas os erros de teste sejam altos.\n",
    "<br><br>\n",
    "Em outras palavras:<br>\n",
    "**Incapacidade de um modelo performar bem em outros datasets diferentes do usado no treinamento**. "
   ]
  },
  {
   "cell_type": "markdown",
   "metadata": {},
   "source": [
    "<img src=\"https://www.learnopencv.com/wp-content/uploads/2017/02/Bias-Variance-Tradeoff-In-Machine-Learning-1.png\" width=500>\n",
    "\n",
    "<img src=\"https://miro.medium.com/max/1494/1*C7ZKM93QVdpeSCGbF5TjIg.png\" width=800>"
   ]
  },
  {
   "cell_type": "markdown",
   "metadata": {},
   "source": [
    "E é essa a grande vantagem em calcularmos as métricas de avaliação tanto na base de treino quanto na base de teste: \n",
    "\n",
    "- analisando a diferença entre estas métricas, conseguimos facilmente inferir se houve overfitting (o que acontece quando há uma grande diferença entre as métricas de treino e de teste);\n",
    "\n",
    "- identificar underfitting é algo um pouco mais sensível, e tem muito mais a ver com a expectativa que temos de performance para aquele modelo.\n",
    "\n",
    "Por isso, daqui pra frente, vamos sempre criar o hábito de calcular e analisar as métricas de avaliação em ambas as bases!\n",
    "\n",
    "> Mas nunca se esqueça que **para a avaliação da performance de generalização do modelo**, são as métricas de **teste** que devemos analisar!\n",
    "\n",
    "Mas é legal calcularmos as métricas de treino para podermos avaliar o gap:"
   ]
  },
  {
   "cell_type": "code",
   "execution_count": 115,
   "metadata": {
    "ExecuteTime": {
     "end_time": "2022-05-13T22:39:44.893112Z",
     "start_time": "2022-05-13T22:39:44.825502Z"
    }
   },
   "outputs": [],
   "source": [
    "def calc_reg_metrics(model, X, y, label=\"\", plot=False):\n",
    "    \n",
    "    y_pred = model.predict(X)\n",
    "\n",
    "    print(f\"\\nMétricas de avaliação (dados de {label}):\\n\")\n",
    "\n",
    "    if plot:\n",
    "        plot_scatter_real_pred(y, y_pred)\n",
    "\n",
    "    r2 = r2_score(y, y_pred)\n",
    "    r2_adj = calc_r2_adj(r2, y, X)\n",
    "\n",
    "    print(f\"R^2: {r2:.2f} | Adj R^2: {r2_adj:.2f}\")\n",
    "    print(f\"MAE: {mean_absolute_error(y, y_pred):.2f}\")\n",
    "    print(f\"RMSE: {np.sqrt(mean_squared_error(y, y_pred)):.2f}\")\n",
    "    print(f\"MAPE: {(mean_absolute_percentage_error(y, y_pred))*100:.2f}%\")\n",
    "\n",
    "    residuos = y - y_pred\n",
    "    print(f\"\\nDistribuição dos resíduos de {label}:\\n\")\n",
    "    print(residuos.describe())\n",
    "\n",
    "    if plot:\n",
    "        sns.histplot(residuos, kde=True)\n",
    "        plt.show()"
   ]
  },
  {
   "cell_type": "code",
   "execution_count": 118,
   "metadata": {
    "ExecuteTime": {
     "end_time": "2022-05-13T22:41:43.367970Z",
     "start_time": "2022-05-13T22:41:43.348980Z"
    }
   },
   "outputs": [],
   "source": [
    "def calc_reg_metrics(model, X, y, label=\"\", plot=False, dist_resids=True, print_stuff=True):\n",
    "    \n",
    "    y_pred = model.predict(X)\n",
    "\n",
    "    if print_stuff:\n",
    "        print(f\"\\nMétricas de avaliação (dados de {label}):\\n\")\n",
    "\n",
    "    if plot:\n",
    "        plot_scatter_real_pred(y, y_pred)\n",
    "\n",
    "    r2 = r2_score(y, y_pred)\n",
    "    mae = mean_absolute_error(y, y_pred)\n",
    "    rmse = np.sqrt(mean_squared_error(y, y_pred))\n",
    "    mape = mean_absolute_percentage_error(y, y_pred)\n",
    "\n",
    "    if print_stuff:\n",
    "        print(f\"R^2: {r2:.2f}\")\n",
    "        print(f\"MAE: {mae:.2f}\")\n",
    "        print(f\"RMSE: {rmse:.2f}\")\n",
    "        print(f\"MAPE: {mape:.2%}\")\n",
    "\n",
    "    if dist_resids:\n",
    "        residuos = y - y_pred\n",
    "        print(f\"\\nDistribuição dos resíduos de {label}:\\n\")\n",
    "        print(pd.Series(residuos).describe())\n",
    "\n",
    "    if plot:\n",
    "        sns.histplot(residuos, kde=True)\n",
    "        plt.show()\n",
    "        \n",
    "    # retorna um dicionário com as métricas\n",
    "    metrics_dict = {\"r2\" : r2, \n",
    "                    \"mae\" : mae,\n",
    "                    \"rmse\" : rmse,\n",
    "                    \"mape\" : mape}\n",
    "    \n",
    "    return metrics_dict\n"
   ]
  },
  {
   "cell_type": "code",
   "execution_count": 119,
   "metadata": {
    "ExecuteTime": {
     "end_time": "2022-05-13T22:42:01.061841Z",
     "start_time": "2022-05-13T22:42:01.036857Z"
    }
   },
   "outputs": [],
   "source": [
    "def reg_lin_pt1_pt2(X_train, y_train, X_test, y_test, plot=True, scale_mms=False, train_metrics=True):\n",
    "\n",
    "    if scale_mms:\n",
    "\n",
    "        mms = MinMaxScaler().fit(X_train)\n",
    "\n",
    "        # passamos assim, pra carregar o nome das features, e ter o .feature_names_in_\n",
    "        X_train = pd.DataFrame(mms.transform(X_train), columns=X_train.columns, index=X_train.index)\n",
    "        X_test = pd.DataFrame(mms.transform(X_test), columns=X_test.columns, index=X_test.index)\n",
    "    \n",
    "    # ===============================\n",
    "    # passo 1 - construção do modelo\n",
    "\n",
    "    reglin = LinearRegression()\n",
    "\n",
    "    reglin.fit(X_train, y_train)\n",
    "\n",
    "    # ===============================\n",
    "    # passo 2 - avaliação do modelo\n",
    "    \n",
    "    if train_metrics:\n",
    "        calc_reg_metrics(reglin, X_train, y_train, label=\"treino\", plot=plot, dist_resids=False)\n",
    "        print()\n",
    "        print(\"#\"*50)\n",
    "        \n",
    "    calc_reg_metrics(reglin, X_test, y_test, label=\"teste\", plot=plot, dist_resids=False)\n",
    "\n",
    "    # new: returnando o objeto do modelo treinado!\n",
    "    return reglin"
   ]
  },
  {
   "cell_type": "code",
   "execution_count": 120,
   "metadata": {
    "ExecuteTime": {
     "end_time": "2022-05-13T22:42:02.369537Z",
     "start_time": "2022-05-13T22:42:02.302585Z"
    }
   },
   "outputs": [
    {
     "name": "stdout",
     "output_type": "stream",
     "text": [
      "\n",
      "Métricas de avaliação (dados de treino):\n",
      "\n",
      "R^2: 0.80\n",
      "MAE: 21058.28\n",
      "RMSE: 34240.23\n",
      "MAPE: 12.42%\n",
      "\n",
      "##################################################\n",
      "\n",
      "Métricas de avaliação (dados de teste):\n",
      "\n",
      "R^2: 0.82\n",
      "MAE: 22944.63\n",
      "RMSE: 37317.50\n",
      "MAPE: 13.45%\n"
     ]
    }
   ],
   "source": [
    "reglin_multi_mms = reg_lin_pt1_pt2(X_train_model, y_train,\n",
    "                                   X_test_model, y_test, \n",
    "                                   plot=False, scale_mms=True, train_metrics=True)"
   ]
  },
  {
   "cell_type": "code",
   "execution_count": 121,
   "metadata": {
    "ExecuteTime": {
     "end_time": "2022-05-13T22:46:59.697239Z",
     "start_time": "2022-05-13T22:46:59.657265Z"
    }
   },
   "outputs": [
    {
     "name": "stdout",
     "output_type": "stream",
     "text": [
      "\n",
      "Métricas de avaliação (dados de treino):\n",
      "\n",
      "R^2: 0.48\n",
      "MAE: 37328.74\n",
      "RMSE: 55480.77\n",
      "MAPE: 22.23%\n",
      "\n",
      "##################################################\n",
      "\n",
      "Métricas de avaliação (dados de teste):\n",
      "\n",
      "R^2: 0.55\n",
      "MAE: 38341.20\n",
      "RMSE: 58471.76\n",
      "MAPE: 23.34%\n"
     ]
    },
    {
     "data": {
      "text/plain": [
       "LinearRegression()"
      ]
     },
     "execution_count": 121,
     "metadata": {},
     "output_type": "execute_result"
    }
   ],
   "source": [
    "reg_lin_pt1_pt2(X_train[\"GrLivArea\"].values.reshape(-1, 1), y_train, \n",
    "                                 X_test[\"GrLivArea\"].values.reshape(-1, 1), y_test,\n",
    "                                 plot=False)"
   ]
  },
  {
   "cell_type": "markdown",
   "metadata": {},
   "source": [
    "__Como garantir que nosso modelo não está sofrendo de overfitting?__\n",
    "\n",
    "Naturalmente, essa é uma pergunta de extrema importância, especialmente no contexto de **redes neurais**. [Veja aqui](https://towardsdatascience.com/8-simple-techniques-to-prevent-overfitting-4d443da2ef7d) e [aqui](https://towardsdatascience.com/dont-overfit-how-to-prevent-overfitting-in-your-deep-learning-models-63274e552323) algumas discussões.\n",
    "\n",
    "Na prática: **jamais se apegue à peformance de treino como forma de avaliar o modelo!** \n",
    "\n",
    "O que queremos otimizar sempre será a performance **avaliada nos dados de teste**, isto é, a **performance de generalização** do modelo. \n",
    "\n",
    "Assim, é **avaliando o modelo nos dados de teste** que garantimos que uma boa performance não é produto do overfitting!"
   ]
  },
  {
   "cell_type": "markdown",
   "metadata": {},
   "source": [
    "Mais a diante, aprenderemos como transitar entre os regimes de under e overfitting.\n",
    "\n",
    "Por enquanto, uma boa prática é comparar as métricas de treino com as métricas de teste, conforme fizemos acima. Isso nos permite avaliar, de maneira rápida e simples, se houve underfitting!"
   ]
  }
 ],
 "metadata": {
  "kernelspec": {
   "display_name": "Python 3",
   "language": "python",
   "name": "python3"
  },
  "language_info": {
   "codemirror_mode": {
    "name": "ipython",
    "version": 3
   },
   "file_extension": ".py",
   "mimetype": "text/x-python",
   "name": "python",
   "nbconvert_exporter": "python",
   "pygments_lexer": "ipython3",
   "version": "3.8.3"
  },
  "toc": {
   "base_numbering": 1,
   "nav_menu": {},
   "number_sections": true,
   "sideBar": true,
   "skip_h1_title": false,
   "title_cell": "Table of Contents",
   "title_sidebar": "Contents",
   "toc_cell": false,
   "toc_position": {},
   "toc_section_display": true,
   "toc_window_display": false
  },
  "varInspector": {
   "cols": {
    "lenName": 16,
    "lenType": 16,
    "lenVar": 40
   },
   "kernels_config": {
    "python": {
     "delete_cmd_postfix": "",
     "delete_cmd_prefix": "del ",
     "library": "var_list.py",
     "varRefreshCmd": "print(var_dic_list())"
    },
    "r": {
     "delete_cmd_postfix": ") ",
     "delete_cmd_prefix": "rm(",
     "library": "var_list.r",
     "varRefreshCmd": "cat(var_dic_list()) "
    }
   },
   "types_to_exclude": [
    "module",
    "function",
    "builtin_function_or_method",
    "instance",
    "_Feature"
   ],
   "window_display": false
  }
 },
 "nbformat": 4,
 "nbformat_minor": 1
}
