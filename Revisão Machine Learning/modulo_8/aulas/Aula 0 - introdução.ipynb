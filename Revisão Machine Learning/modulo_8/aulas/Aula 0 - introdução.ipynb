{
 "cells": [
  {
   "cell_type": "markdown",
   "metadata": {},
   "source": [
    "# Aula 0 - Introdução\n",
    "\n",
    "____________\n",
    "\n",
    "A esta altura, estamos no encaminhando para o fim do nosso curso!\n",
    "\n",
    "Parabéns por ter chegado até aqui --- certamente a jornada foi de muito aprendizado, estudo e dedicação!\n",
    "\n",
    "A partir de hoje, iniciaremos nossos estudos em **machine learning**, e aprenderemos um conjunto de técnicas que é fundamental para todo cientista de dados.\n",
    "\n",
    "Antes de começarmos a nos aprofundar no conteúdo, vamos fazer uma pequena revisão do contexto geral de ciência de dados, e introduzir um pouco de terminologia."
   ]
  },
  {
   "cell_type": "markdown",
   "metadata": {},
   "source": [
    "____"
   ]
  },
  {
   "cell_type": "markdown",
   "metadata": {},
   "source": [
    "## Data science\n",
    "\n",
    "Como o próprio nome diz, o termo **data science** se refere a um conjunto de técnicas e ferramentas utilizadas para a resolução de problemas segundo uma abordagem **data driven**, isto é, **baseada em dados**, cujo objetivo é direcionar o processo de **tomada de decisão** e/ou **produção de novos insights**!\n",
    "\n",
    "Ciência de dados é uma área interdisciplinar baseada em três pilares, conforme a imagem abaixo:\n",
    "\n",
    "<img src=https://s3.amazonaws.com/uploads.hotmart.com/blog/2018/04/data-science-1.png>"
   ]
  },
  {
   "cell_type": "markdown",
   "metadata": {},
   "source": [
    "___"
   ]
  },
  {
   "cell_type": "markdown",
   "metadata": {},
   "source": [
    "## A jornada de um projeto de Data Science\n",
    "\n",
    "Um projeto de data science é dividido, essencialmente, nas seguintes etapas:\n",
    "\n",
    "- 0) Formulação do problema;\n",
    "- 1) Ingestão dos dados;\n",
    "- 2) Preparação dos dados;\n",
    "- 3) Exploração dos dados;\n",
    "- 4) Modelagem;\n",
    "- 5) Apresentação ou deploy;\n",
    "\n",
    "Depois da etapa 0), a mais trabalhosa (e que provavelmente mais vai levar tempo) são de 2) a 3)!\n",
    "\n",
    "E há quem diga que estas são as etapas mais importantes! **(Garbage in, garbage out!)**"
   ]
  },
  {
   "cell_type": "markdown",
   "metadata": {},
   "source": [
    "<img src=\"https://www.abgconsultoria.com.br/blog/wp-content/uploads/img33-768x242.png\" width=700>"
   ]
  },
  {
   "cell_type": "markdown",
   "metadata": {},
   "source": [
    "<img src=\"https://www.researchgate.net/profile/Eduardo_Garcia_Del_Valle/publication/327612291/figure/fig4/AS:670200676511747@1536799701256/Sequence-of-functional-units-of-a-data-science-pipeline-including-data.ppm\" width=700>"
   ]
  },
  {
   "cell_type": "markdown",
   "metadata": {},
   "source": [
    "<img src=\"https://www.xtivia.com/media/Data_Science_Pipeline.png\" width=700>"
   ]
  },
  {
   "cell_type": "markdown",
   "metadata": {},
   "source": [
    "Até o momento, conhecemos diversas técnicas e ferramentas para executamos os passos de 0) a 3).\n",
    "\n",
    "Finalmente, chegou o momento de começarmos a explorar etapa 4)!\n",
    "\n",
    "Vamos então, inicialmente, enunciar alguns termos e conceitos importantes."
   ]
  },
  {
   "cell_type": "markdown",
   "metadata": {},
   "source": [
    "## Inteligência Artificial\n",
    "\n",
    "É a área que estuda sistemas computacionais **capazes de realizar tarefas que normalmente exigiriam interferência ou ação humana**, mediada pela inteligência natural.\n",
    "\n",
    "Algumas das tarefas que originalmente demandam inteligência natural são: \n",
    "\n",
    "- **percepção visual**;\n",
    "- **reconhecimento de fala**;\n",
    "- **tomada de decisão**;\n",
    "- **tradução entre línguas naturais**;\n",
    "\n",
    "É formidável imaginar que estas tarefas possam ser realizadas por sistemas que não desenvolveram biologicamente o que conhecemos por \"inteligência\". No entanto, este é justamente o objetvio da AI: fazer com que sistemas computacionais resolvam tais tarefas!\n",
    "\n",
    "Neste curso, focaremos em apenas uma **sub-área** da AI, a **aprendizagem de máquina** (no inglês, **Machine learning**).\n",
    "\n",
    "<img src=\"https://www.researchgate.net/profile/Ma_Louella_Salenga/publication/324183626/figure/fig1/AS:611807588798464@1522877704466/Fields-of-artificial-intelligence-10.png\" width=650>"
   ]
  },
  {
   "cell_type": "markdown",
   "metadata": {},
   "source": [
    "E também é importante dizer que não apenas de Machine Learning se faz a ciência de dados!\n",
    "\n",
    "<img src=\"https://miro.medium.com/max/1000/1*_0A4I9mXjl6H0Qw401qWRg.png\" width=500>"
   ]
  },
  {
   "cell_type": "markdown",
   "metadata": {},
   "source": [
    "____"
   ]
  },
  {
   "cell_type": "markdown",
   "metadata": {},
   "source": [
    "## Machine Learning\n",
    "\n",
    "A **aprendizagem de máquina** se divide em três grandes áreas, cada uma caracterizada por uma abordagem e escopo específicos:\n",
    "\n",
    "<img src=\"https://i.pinimg.com/originals/67/70/5d/67705d8c7aee0c6b601c16548076e924.png\" width=700>"
   ]
  },
  {
   "cell_type": "markdown",
   "metadata": {},
   "source": [
    "### Deep Learning\n",
    "\n",
    "**Redes neurais artificiais profundas**\n",
    "\n",
    "<img src=\"https://www.institutodeengenharia.org.br/site/wp-content/uploads/2019/04/2.png\" width=650>\n",
    "    \n",
    "<br>\n",
    "\n",
    "<img src=\"https://i2.wp.com/semiengineering.com/wp-content/uploads/2018/01/MLvsDL.png?resize=733%2C405&ssl=1\" width=650>\n",
    "\n",
    "<br>\n",
    "\n",
    "<img src=\"https://www.researchgate.net/publication/331540139/figure/fig3/AS:733273504378885@1551837435876/The-performance-of-deep-learning-with-respect-to-the-amount-of-data.ppm\" width=600>"
   ]
  },
  {
   "cell_type": "markdown",
   "metadata": {},
   "source": [
    "____"
   ]
  },
  {
   "cell_type": "markdown",
   "metadata": {},
   "source": [
    "## O cientista de dados é um Jedi?\n",
    "\n",
    "<img src=\"https://1onjea25cyhx3uvxgs4vu325-wpengine.netdna-ssl.com/wp-content/uploads/2014/11/Data-Science-Skills-Udacity-Matrix.png\" width=600>"
   ]
  }
 ],
 "metadata": {
  "kernelspec": {
   "display_name": "Python 3",
   "language": "python",
   "name": "python3"
  },
  "language_info": {
   "codemirror_mode": {
    "name": "ipython",
    "version": 3
   },
   "file_extension": ".py",
   "mimetype": "text/x-python",
   "name": "python",
   "nbconvert_exporter": "python",
   "pygments_lexer": "ipython3",
   "version": "3.8.3"
  }
 },
 "nbformat": 4,
 "nbformat_minor": 4
}
