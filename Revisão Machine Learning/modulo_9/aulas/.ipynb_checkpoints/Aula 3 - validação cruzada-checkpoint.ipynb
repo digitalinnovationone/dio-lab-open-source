{
 "cells": [
  {
   "cell_type": "markdown",
   "metadata": {},
   "source": [
    "# Aula 3 - validação cruzada\n",
    "\n",
    "Na aula de hoje, vamos explorar os seguintes tópicos em Python:\n",
    "\n",
    "- 1) Validação cruzada (cross validation)\n",
    "- 2) Ajuste de hiperparâmetros"
   ]
  },
  {
   "cell_type": "code",
   "execution_count": 1,
   "metadata": {
    "ExecuteTime": {
     "end_time": "2022-05-24T22:46:49.305376Z",
     "start_time": "2022-05-24T22:46:49.138437Z"
    }
   },
   "outputs": [],
   "source": [
    "%load_ext autoreload\n",
    "%autoreload 2"
   ]
  },
  {
   "cell_type": "code",
   "execution_count": 2,
   "metadata": {
    "ExecuteTime": {
     "end_time": "2022-05-24T22:46:55.580354Z",
     "start_time": "2022-05-24T22:46:49.692360Z"
    }
   },
   "outputs": [],
   "source": [
    "from ml_utils import *"
   ]
  },
  {
   "cell_type": "markdown",
   "metadata": {},
   "source": [
    "____\n",
    "____\n",
    "____"
   ]
  },
  {
   "cell_type": "markdown",
   "metadata": {},
   "source": [
    "## 1) Validação cruzada (cross validation)\n",
    "\n",
    "O cross validation (CV) é uma das técnicas mais importantes no ferramental de um cientista de dados.\n",
    "\n",
    "Operacionalmente, o CV implementa diferentes conjuntos de treino e teste (aqui chamados de **validação**), criando efetivamente diferentes modelos treinados e avaliados em diferentes suconjuntos aleatórios (os chamados **folds**) da base de dados original. \n",
    "\n",
    "No fim, é possível inspecionar as métricas de interesse em cada fold, bem como ter uma ideia da performance média do modelo, olhando para **a distribuição das métricas de avaliação**.\n",
    "\n",
    "Note que este procedimento está intimamente relacionado com a avaliação da desejável habilidade de **generalização do modelo**!"
   ]
  },
  {
   "cell_type": "markdown",
   "metadata": {},
   "source": [
    "A forma mais comum de fazermos CV é através da técnica **k-fold**:\n",
    "\n",
    "<img src=https://scikit-learn.org/stable/_images/grid_search_cross_validation.png width=500>"
   ]
  },
  {
   "cell_type": "markdown",
   "metadata": {},
   "source": [
    "No extremo desta abordagem, podemos tomar o número $k$ de folds igual ao número de observações na base ($n$). Neste caso, utiliza-se **uma única** observação para teste, enquanto o resto do dataset é utilizado para treino. Essa abordagem é conhecida como **leave one out (LOO)**:\n",
    "\n",
    "<img src=https://assets.datacamp.com/production/repositories/3981/datasets/8a6236f142b1ee2e4a70aae2af9507c7c580f302/Screen%20Shot%202019-01-27%20at%209.25.41%20AM.png width=500>\n",
    "\n",
    "Note que o esforço computacional aumenta conforme $k$ aumenta, sendo máximo quando $k=n$. Por esse motivo, recomenda-se usar o LOO apenas nos casos em que o número de observções na base original é bem pequeno ($\\sim 10^2$)."
   ]
  },
  {
   "cell_type": "markdown",
   "metadata": {},
   "source": [
    "Vamos implementar o procedimento de CV utilizando o sklearn!\n",
    "\n",
    "No [submódulo model_selection](https://scikit-learn.org/stable/modules/classes.html#module-sklearn.model_selection), temos duas ferramentas muito importantes para o processo de CV:\n",
    "\n",
    "- [KFold](https://scikit-learn.org/stable/modules/generated/sklearn.model_selection.KFold.html#sklearn.model_selection.KFold): classe que cria os folds. Obs.: para fazer o LOO, basta colocar $k=n$ folds, ou então usar diretamente a classe que implementa o [LOO](https://scikit-learn.org/stable/modules/generated/sklearn.model_selection.LeaveOneOut.html#sklearn.model_selection.LeaveOneOut);\n",
    "\n",
    "- [cross_validate](https://scikit-learn.org/stable/modules/generated/sklearn.model_selection.cross_validate.html#sklearn.model_selection.cross_validate): função que recebe os folds e os utiliza para o treinamento e avaliação cruzada de modelos, segundo a métrica definida.\n",
    "\n",
    "Para ilustrar o CV, vamos utilizar os datasets de regressão e classificação que já conhecemos!"
   ]
  },
  {
   "cell_type": "markdown",
   "metadata": {},
   "source": [
    "_______\n",
    "\n",
    "Vamos começar com nossa familiar base do problema de **regressão** (precificação de casas)"
   ]
  },
  {
   "cell_type": "code",
   "execution_count": 3,
   "metadata": {
    "ExecuteTime": {
     "end_time": "2022-05-24T23:19:57.095464Z",
     "start_time": "2022-05-24T23:19:56.574513Z"
    }
   },
   "outputs": [],
   "source": [
    "df = pd.read_csv(\"../datasets/house_prices.csv\")\n",
    "\n",
    "X = df.drop(columns=[\"Id\", \"SalePrice\"])\n",
    "y = df[\"SalePrice\"]\n",
    "\n",
    "# NÃO ESQUEÇA DO TRAIN-TEST SPLIT, MESMO NA VALIDAÇÃO CRUZADA!!!\n",
    "X_train, X_test, y_train, y_test = train_test_split(X, y, test_size=0.2, random_state=42)\n",
    "\n",
    "X_train_model = X_train.select_dtypes(include=np.number).dropna(axis=\"columns\")\n",
    "X_test_model = X_test.loc[:, X_train_model.columns]"
   ]
  },
  {
   "cell_type": "code",
   "execution_count": 5,
   "metadata": {
    "ExecuteTime": {
     "end_time": "2022-05-24T23:20:47.315666Z",
     "start_time": "2022-05-24T23:20:47.159758Z"
    }
   },
   "outputs": [
    {
     "data": {
      "text/html": [
       "<div>\n",
       "<style scoped>\n",
       "    .dataframe tbody tr th:only-of-type {\n",
       "        vertical-align: middle;\n",
       "    }\n",
       "\n",
       "    .dataframe tbody tr th {\n",
       "        vertical-align: top;\n",
       "    }\n",
       "\n",
       "    .dataframe thead th {\n",
       "        text-align: right;\n",
       "    }\n",
       "</style>\n",
       "<table border=\"1\" class=\"dataframe\">\n",
       "  <thead>\n",
       "    <tr style=\"text-align: right;\">\n",
       "      <th></th>\n",
       "      <th>MSSubClass</th>\n",
       "      <th>LotArea</th>\n",
       "      <th>OverallQual</th>\n",
       "      <th>OverallCond</th>\n",
       "      <th>YearBuilt</th>\n",
       "      <th>YearRemodAdd</th>\n",
       "      <th>BsmtFinSF1</th>\n",
       "      <th>BsmtFinSF2</th>\n",
       "      <th>BsmtUnfSF</th>\n",
       "      <th>TotalBsmtSF</th>\n",
       "      <th>...</th>\n",
       "      <th>GarageArea</th>\n",
       "      <th>WoodDeckSF</th>\n",
       "      <th>OpenPorchSF</th>\n",
       "      <th>EnclosedPorch</th>\n",
       "      <th>3SsnPorch</th>\n",
       "      <th>ScreenPorch</th>\n",
       "      <th>PoolArea</th>\n",
       "      <th>MiscVal</th>\n",
       "      <th>MoSold</th>\n",
       "      <th>YrSold</th>\n",
       "    </tr>\n",
       "  </thead>\n",
       "  <tbody>\n",
       "    <tr>\n",
       "      <th>254</th>\n",
       "      <td>20</td>\n",
       "      <td>8400</td>\n",
       "      <td>5</td>\n",
       "      <td>6</td>\n",
       "      <td>1957</td>\n",
       "      <td>1957</td>\n",
       "      <td>922</td>\n",
       "      <td>0</td>\n",
       "      <td>392</td>\n",
       "      <td>1314</td>\n",
       "      <td>...</td>\n",
       "      <td>294</td>\n",
       "      <td>250</td>\n",
       "      <td>0</td>\n",
       "      <td>0</td>\n",
       "      <td>0</td>\n",
       "      <td>0</td>\n",
       "      <td>0</td>\n",
       "      <td>0</td>\n",
       "      <td>6</td>\n",
       "      <td>2010</td>\n",
       "    </tr>\n",
       "    <tr>\n",
       "      <th>1066</th>\n",
       "      <td>60</td>\n",
       "      <td>7837</td>\n",
       "      <td>6</td>\n",
       "      <td>7</td>\n",
       "      <td>1993</td>\n",
       "      <td>1994</td>\n",
       "      <td>0</td>\n",
       "      <td>0</td>\n",
       "      <td>799</td>\n",
       "      <td>799</td>\n",
       "      <td>...</td>\n",
       "      <td>380</td>\n",
       "      <td>0</td>\n",
       "      <td>40</td>\n",
       "      <td>0</td>\n",
       "      <td>0</td>\n",
       "      <td>0</td>\n",
       "      <td>0</td>\n",
       "      <td>0</td>\n",
       "      <td>5</td>\n",
       "      <td>2009</td>\n",
       "    </tr>\n",
       "    <tr>\n",
       "      <th>638</th>\n",
       "      <td>30</td>\n",
       "      <td>8777</td>\n",
       "      <td>5</td>\n",
       "      <td>7</td>\n",
       "      <td>1910</td>\n",
       "      <td>1950</td>\n",
       "      <td>0</td>\n",
       "      <td>0</td>\n",
       "      <td>796</td>\n",
       "      <td>796</td>\n",
       "      <td>...</td>\n",
       "      <td>0</td>\n",
       "      <td>328</td>\n",
       "      <td>0</td>\n",
       "      <td>164</td>\n",
       "      <td>0</td>\n",
       "      <td>0</td>\n",
       "      <td>0</td>\n",
       "      <td>0</td>\n",
       "      <td>5</td>\n",
       "      <td>2008</td>\n",
       "    </tr>\n",
       "    <tr>\n",
       "      <th>799</th>\n",
       "      <td>50</td>\n",
       "      <td>7200</td>\n",
       "      <td>5</td>\n",
       "      <td>7</td>\n",
       "      <td>1937</td>\n",
       "      <td>1950</td>\n",
       "      <td>569</td>\n",
       "      <td>0</td>\n",
       "      <td>162</td>\n",
       "      <td>731</td>\n",
       "      <td>...</td>\n",
       "      <td>240</td>\n",
       "      <td>0</td>\n",
       "      <td>0</td>\n",
       "      <td>264</td>\n",
       "      <td>0</td>\n",
       "      <td>0</td>\n",
       "      <td>0</td>\n",
       "      <td>0</td>\n",
       "      <td>6</td>\n",
       "      <td>2007</td>\n",
       "    </tr>\n",
       "    <tr>\n",
       "      <th>380</th>\n",
       "      <td>50</td>\n",
       "      <td>5000</td>\n",
       "      <td>5</td>\n",
       "      <td>6</td>\n",
       "      <td>1924</td>\n",
       "      <td>1950</td>\n",
       "      <td>218</td>\n",
       "      <td>0</td>\n",
       "      <td>808</td>\n",
       "      <td>1026</td>\n",
       "      <td>...</td>\n",
       "      <td>308</td>\n",
       "      <td>0</td>\n",
       "      <td>0</td>\n",
       "      <td>242</td>\n",
       "      <td>0</td>\n",
       "      <td>0</td>\n",
       "      <td>0</td>\n",
       "      <td>0</td>\n",
       "      <td>5</td>\n",
       "      <td>2010</td>\n",
       "    </tr>\n",
       "    <tr>\n",
       "      <th>...</th>\n",
       "      <td>...</td>\n",
       "      <td>...</td>\n",
       "      <td>...</td>\n",
       "      <td>...</td>\n",
       "      <td>...</td>\n",
       "      <td>...</td>\n",
       "      <td>...</td>\n",
       "      <td>...</td>\n",
       "      <td>...</td>\n",
       "      <td>...</td>\n",
       "      <td>...</td>\n",
       "      <td>...</td>\n",
       "      <td>...</td>\n",
       "      <td>...</td>\n",
       "      <td>...</td>\n",
       "      <td>...</td>\n",
       "      <td>...</td>\n",
       "      <td>...</td>\n",
       "      <td>...</td>\n",
       "      <td>...</td>\n",
       "      <td>...</td>\n",
       "    </tr>\n",
       "    <tr>\n",
       "      <th>1095</th>\n",
       "      <td>20</td>\n",
       "      <td>9317</td>\n",
       "      <td>6</td>\n",
       "      <td>5</td>\n",
       "      <td>2006</td>\n",
       "      <td>2006</td>\n",
       "      <td>24</td>\n",
       "      <td>0</td>\n",
       "      <td>1290</td>\n",
       "      <td>1314</td>\n",
       "      <td>...</td>\n",
       "      <td>440</td>\n",
       "      <td>0</td>\n",
       "      <td>22</td>\n",
       "      <td>0</td>\n",
       "      <td>0</td>\n",
       "      <td>0</td>\n",
       "      <td>0</td>\n",
       "      <td>0</td>\n",
       "      <td>3</td>\n",
       "      <td>2007</td>\n",
       "    </tr>\n",
       "    <tr>\n",
       "      <th>1130</th>\n",
       "      <td>50</td>\n",
       "      <td>7804</td>\n",
       "      <td>4</td>\n",
       "      <td>3</td>\n",
       "      <td>1928</td>\n",
       "      <td>1950</td>\n",
       "      <td>622</td>\n",
       "      <td>0</td>\n",
       "      <td>500</td>\n",
       "      <td>1122</td>\n",
       "      <td>...</td>\n",
       "      <td>576</td>\n",
       "      <td>431</td>\n",
       "      <td>44</td>\n",
       "      <td>0</td>\n",
       "      <td>0</td>\n",
       "      <td>0</td>\n",
       "      <td>0</td>\n",
       "      <td>0</td>\n",
       "      <td>12</td>\n",
       "      <td>2009</td>\n",
       "    </tr>\n",
       "    <tr>\n",
       "      <th>1294</th>\n",
       "      <td>20</td>\n",
       "      <td>8172</td>\n",
       "      <td>5</td>\n",
       "      <td>7</td>\n",
       "      <td>1955</td>\n",
       "      <td>1990</td>\n",
       "      <td>167</td>\n",
       "      <td>0</td>\n",
       "      <td>697</td>\n",
       "      <td>864</td>\n",
       "      <td>...</td>\n",
       "      <td>572</td>\n",
       "      <td>0</td>\n",
       "      <td>0</td>\n",
       "      <td>0</td>\n",
       "      <td>0</td>\n",
       "      <td>0</td>\n",
       "      <td>0</td>\n",
       "      <td>0</td>\n",
       "      <td>4</td>\n",
       "      <td>2006</td>\n",
       "    </tr>\n",
       "    <tr>\n",
       "      <th>860</th>\n",
       "      <td>50</td>\n",
       "      <td>7642</td>\n",
       "      <td>7</td>\n",
       "      <td>8</td>\n",
       "      <td>1918</td>\n",
       "      <td>1998</td>\n",
       "      <td>0</td>\n",
       "      <td>0</td>\n",
       "      <td>912</td>\n",
       "      <td>912</td>\n",
       "      <td>...</td>\n",
       "      <td>216</td>\n",
       "      <td>0</td>\n",
       "      <td>240</td>\n",
       "      <td>0</td>\n",
       "      <td>0</td>\n",
       "      <td>0</td>\n",
       "      <td>0</td>\n",
       "      <td>0</td>\n",
       "      <td>6</td>\n",
       "      <td>2007</td>\n",
       "    </tr>\n",
       "    <tr>\n",
       "      <th>1126</th>\n",
       "      <td>120</td>\n",
       "      <td>3684</td>\n",
       "      <td>7</td>\n",
       "      <td>5</td>\n",
       "      <td>2007</td>\n",
       "      <td>2007</td>\n",
       "      <td>0</td>\n",
       "      <td>0</td>\n",
       "      <td>1373</td>\n",
       "      <td>1373</td>\n",
       "      <td>...</td>\n",
       "      <td>660</td>\n",
       "      <td>143</td>\n",
       "      <td>20</td>\n",
       "      <td>0</td>\n",
       "      <td>0</td>\n",
       "      <td>0</td>\n",
       "      <td>0</td>\n",
       "      <td>0</td>\n",
       "      <td>6</td>\n",
       "      <td>2009</td>\n",
       "    </tr>\n",
       "  </tbody>\n",
       "</table>\n",
       "<p>1168 rows × 33 columns</p>\n",
       "</div>"
      ],
      "text/plain": [
       "      MSSubClass  LotArea  OverallQual  OverallCond  YearBuilt  YearRemodAdd  \\\n",
       "254           20     8400            5            6       1957          1957   \n",
       "1066          60     7837            6            7       1993          1994   \n",
       "638           30     8777            5            7       1910          1950   \n",
       "799           50     7200            5            7       1937          1950   \n",
       "380           50     5000            5            6       1924          1950   \n",
       "...          ...      ...          ...          ...        ...           ...   \n",
       "1095          20     9317            6            5       2006          2006   \n",
       "1130          50     7804            4            3       1928          1950   \n",
       "1294          20     8172            5            7       1955          1990   \n",
       "860           50     7642            7            8       1918          1998   \n",
       "1126         120     3684            7            5       2007          2007   \n",
       "\n",
       "      BsmtFinSF1  BsmtFinSF2  BsmtUnfSF  TotalBsmtSF  ...  GarageArea  \\\n",
       "254          922           0        392         1314  ...         294   \n",
       "1066           0           0        799          799  ...         380   \n",
       "638            0           0        796          796  ...           0   \n",
       "799          569           0        162          731  ...         240   \n",
       "380          218           0        808         1026  ...         308   \n",
       "...          ...         ...        ...          ...  ...         ...   \n",
       "1095          24           0       1290         1314  ...         440   \n",
       "1130         622           0        500         1122  ...         576   \n",
       "1294         167           0        697          864  ...         572   \n",
       "860            0           0        912          912  ...         216   \n",
       "1126           0           0       1373         1373  ...         660   \n",
       "\n",
       "      WoodDeckSF  OpenPorchSF  EnclosedPorch  3SsnPorch  ScreenPorch  \\\n",
       "254          250            0              0          0            0   \n",
       "1066           0           40              0          0            0   \n",
       "638          328            0            164          0            0   \n",
       "799            0            0            264          0            0   \n",
       "380            0            0            242          0            0   \n",
       "...          ...          ...            ...        ...          ...   \n",
       "1095           0           22              0          0            0   \n",
       "1130         431           44              0          0            0   \n",
       "1294           0            0              0          0            0   \n",
       "860            0          240              0          0            0   \n",
       "1126         143           20              0          0            0   \n",
       "\n",
       "      PoolArea  MiscVal  MoSold  YrSold  \n",
       "254          0        0       6    2010  \n",
       "1066         0        0       5    2009  \n",
       "638          0        0       5    2008  \n",
       "799          0        0       6    2007  \n",
       "380          0        0       5    2010  \n",
       "...        ...      ...     ...     ...  \n",
       "1095         0        0       3    2007  \n",
       "1130         0        0      12    2009  \n",
       "1294         0        0       4    2006  \n",
       "860          0        0       6    2007  \n",
       "1126         0        0       6    2009  \n",
       "\n",
       "[1168 rows x 33 columns]"
      ]
     },
     "execution_count": 5,
     "metadata": {},
     "output_type": "execute_result"
    }
   ],
   "source": [
    "X_train_model"
   ]
  },
  {
   "cell_type": "code",
   "execution_count": 7,
   "metadata": {
    "ExecuteTime": {
     "end_time": "2022-05-24T23:20:58.473137Z",
     "start_time": "2022-05-24T23:20:58.326588Z"
    }
   },
   "outputs": [
    {
     "data": {
      "text/plain": [
       "254     145000\n",
       "1066    178000\n",
       "638      85000\n",
       "799     175000\n",
       "380     127000\n",
       "         ...  \n",
       "1095    176432\n",
       "1130    135000\n",
       "1294    115000\n",
       "860     189950\n",
       "1126    174000\n",
       "Name: SalePrice, Length: 1168, dtype: int64"
      ]
     },
     "execution_count": 7,
     "metadata": {},
     "output_type": "execute_result"
    }
   ],
   "source": [
    "y_train"
   ]
  },
  {
   "cell_type": "markdown",
   "metadata": {},
   "source": [
    "Vamos usar o CV implementado do sklearn:"
   ]
  },
  {
   "cell_type": "code",
   "execution_count": 8,
   "metadata": {
    "ExecuteTime": {
     "end_time": "2022-05-24T23:21:43.021072Z",
     "start_time": "2022-05-24T23:21:42.863418Z"
    }
   },
   "outputs": [],
   "source": [
    "from sklearn.model_selection import KFold"
   ]
  },
  {
   "cell_type": "code",
   "execution_count": 11,
   "metadata": {
    "ExecuteTime": {
     "end_time": "2022-05-24T23:22:46.729384Z",
     "start_time": "2022-05-24T23:22:46.569479Z"
    }
   },
   "outputs": [],
   "source": [
    "kf = KFold(n_splits=5, shuffle=True, random_state=42)"
   ]
  },
  {
   "cell_type": "code",
   "execution_count": 12,
   "metadata": {
    "ExecuteTime": {
     "end_time": "2022-05-24T23:22:50.169800Z",
     "start_time": "2022-05-24T23:22:49.998897Z"
    }
   },
   "outputs": [
    {
     "data": {
      "text/plain": [
       "{'n_splits': 5, 'shuffle': True, 'random_state': 42}"
      ]
     },
     "execution_count": 12,
     "metadata": {},
     "output_type": "execute_result"
    }
   ],
   "source": [
    "vars(kf)"
   ]
  },
  {
   "cell_type": "markdown",
   "metadata": {},
   "source": [
    "Com o método `.split()`, podemos pegar os índices de cada split:"
   ]
  },
  {
   "cell_type": "code",
   "execution_count": 15,
   "metadata": {
    "ExecuteTime": {
     "end_time": "2022-05-24T23:25:04.283932Z",
     "start_time": "2022-05-24T23:25:04.127024Z"
    },
    "scrolled": false
   },
   "outputs": [
    {
     "data": {
      "text/plain": [
       "5"
      ]
     },
     "execution_count": 15,
     "metadata": {},
     "output_type": "execute_result"
    }
   ],
   "source": [
    "len(list(kf.split(X_train_model)))"
   ]
  },
  {
   "cell_type": "code",
   "execution_count": 16,
   "metadata": {
    "ExecuteTime": {
     "end_time": "2022-05-24T23:25:17.289152Z",
     "start_time": "2022-05-24T23:25:17.035275Z"
    },
    "scrolled": true
   },
   "outputs": [
    {
     "data": {
      "text/plain": [
       "(array([   0,    1,    2,    3,    4,    5,    6,    7,    8,    9,   11,\n",
       "          12,   13,   14,   15,   16,   17,   18,   19,   20,   21,   22,\n",
       "          24,   25,   26,   27,   28,   29,   30,   32,   33,   34,   35,\n",
       "          36,   37,   38,   39,   40,   41,   42,   45,   46,   47,   48,\n",
       "          50,   52,   53,   55,   57,   60,   61,   62,   64,   65,   66,\n",
       "          67,   68,   69,   71,   72,   73,   74,   75,   77,   78,   79,\n",
       "          80,   81,   82,   84,   85,   87,   89,   90,   91,   92,   93,\n",
       "          94,   95,   97,   98,   99,  100,  102,  103,  104,  105,  106,\n",
       "         108,  110,  111,  112,  114,  115,  116,  117,  118,  119,  120,\n",
       "         121,  122,  123,  124,  125,  126,  127,  129,  130,  131,  132,\n",
       "         133,  134,  136,  137,  142,  143,  144,  145,  146,  147,  148,\n",
       "         149,  150,  151,  152,  153,  154,  157,  159,  160,  161,  162,\n",
       "         164,  165,  166,  167,  169,  171,  172,  173,  175,  176,  177,\n",
       "         178,  179,  180,  181,  182,  183,  184,  185,  186,  187,  188,\n",
       "         189,  190,  191,  193,  194,  195,  196,  197,  200,  201,  202,\n",
       "         203,  204,  205,  206,  207,  211,  212,  213,  214,  215,  216,\n",
       "         217,  219,  221,  222,  223,  224,  225,  226,  227,  228,  229,\n",
       "         230,  232,  234,  235,  236,  237,  238,  239,  241,  242,  245,\n",
       "         246,  248,  249,  250,  251,  252,  253,  254,  255,  256,  257,\n",
       "         258,  259,  261,  262,  263,  264,  266,  267,  268,  269,  271,\n",
       "         272,  273,  276,  277,  278,  279,  280,  281,  282,  283,  284,\n",
       "         285,  286,  287,  288,  289,  291,  293,  295,  297,  300,  301,\n",
       "         302,  303,  304,  305,  307,  310,  311,  312,  313,  314,  315,\n",
       "         316,  317,  318,  320,  322,  324,  325,  326,  329,  330,  331,\n",
       "         332,  333,  334,  335,  337,  338,  339,  340,  341,  342,  343,\n",
       "         345,  346,  347,  348,  349,  350,  351,  353,  356,  357,  359,\n",
       "         360,  363,  364,  365,  366,  367,  368,  369,  370,  372,  373,\n",
       "         374,  375,  378,  379,  381,  382,  383,  384,  385,  386,  387,\n",
       "         388,  389,  391,  392,  393,  395,  396,  397,  399,  400,  401,\n",
       "         402,  403,  404,  406,  407,  408,  410,  412,  413,  414,  415,\n",
       "         416,  417,  418,  419,  421,  426,  427,  430,  431,  433,  434,\n",
       "         436,  437,  438,  439,  440,  441,  443,  444,  445,  446,  447,\n",
       "         448,  449,  450,  452,  453,  454,  455,  456,  458,  459,  460,\n",
       "         461,  463,  464,  466,  468,  469,  470,  471,  472,  473,  474,\n",
       "         475,  476,  479,  480,  481,  482,  483,  484,  485,  487,  488,\n",
       "         489,  490,  491,  492,  494,  495,  496,  498,  499,  500,  501,\n",
       "         502,  503,  504,  505,  507,  508,  509,  510,  511,  512,  514,\n",
       "         515,  516,  517,  518,  520,  521,  522,  523,  524,  525,  526,\n",
       "         527,  528,  529,  530,  531,  534,  536,  537,  540,  541,  542,\n",
       "         544,  546,  547,  549,  550,  551,  552,  553,  555,  556,  557,\n",
       "         559,  562,  563,  564,  565,  566,  567,  568,  569,  571,  573,\n",
       "         574,  575,  576,  577,  578,  579,  580,  581,  582,  583,  584,\n",
       "         586,  587,  588,  591,  592,  593,  595,  597,  598,  600,  601,\n",
       "         602,  603,  604,  606,  607,  608,  609,  610,  611,  612,  613,\n",
       "         615,  616,  617,  619,  620,  621,  622,  623,  624,  625,  626,\n",
       "         627,  628,  631,  632,  633,  634,  635,  637,  638,  639,  640,\n",
       "         641,  642,  644,  645,  646,  647,  648,  649,  650,  651,  652,\n",
       "         653,  654,  655,  656,  657,  658,  659,  660,  661,  662,  663,\n",
       "         664,  665,  668,  669,  670,  671,  672,  673,  674,  675,  676,\n",
       "         677,  678,  679,  680,  681,  682,  683,  684,  685,  686,  687,\n",
       "         688,  690,  691,  693,  696,  697,  698,  699,  700,  701,  702,\n",
       "         703,  704,  705,  707,  708,  709,  710,  711,  713,  715,  716,\n",
       "         717,  718,  719,  720,  722,  724,  725,  726,  727,  729,  730,\n",
       "         734,  735,  736,  737,  738,  739,  740,  741,  742,  743,  744,\n",
       "         745,  746,  747,  748,  749,  750,  751,  754,  755,  756,  757,\n",
       "         758,  760,  761,  763,  764,  765,  766,  768,  769,  770,  771,\n",
       "         772,  773,  775,  776,  777,  778,  779,  781,  782,  783,  784,\n",
       "         785,  786,  788,  789,  790,  791,  792,  793,  794,  795,  797,\n",
       "         798,  799,  800,  801,  802,  804,  805,  806,  809,  812,  813,\n",
       "         814,  815,  817,  818,  819,  821,  822,  823,  824,  825,  828,\n",
       "         829,  831,  832,  834,  835,  836,  838,  839,  840,  841,  842,\n",
       "         843,  844,  846,  847,  848,  850,  851,  853,  854,  855,  856,\n",
       "         857,  858,  859,  860,  861,  862,  863,  864,  866,  867,  869,\n",
       "         870,  871,  872,  873,  874,  876,  877,  878,  880,  881,  882,\n",
       "         883,  885,  886,  888,  890,  891,  892,  893,  894,  895,  896,\n",
       "         897,  898,  899,  901,  902,  903,  904,  906,  907,  908,  909,\n",
       "         910,  911,  913,  914,  915,  919,  921,  922,  923,  927,  928,\n",
       "         929,  930,  931,  932,  933,  934,  935,  936,  938,  941,  942,\n",
       "         943,  944,  945,  947,  949,  950,  951,  952,  953,  954,  955,\n",
       "         956,  957,  958,  959,  960,  961,  962,  963,  964,  968,  970,\n",
       "         971,  972,  973,  974,  975,  976,  977,  979,  980,  981,  982,\n",
       "         983,  984,  985,  986,  987,  989,  992,  993,  994,  995,  996,\n",
       "         998,  999, 1001, 1002, 1005, 1007, 1008, 1010, 1011, 1012, 1015,\n",
       "        1016, 1017, 1018, 1019, 1020, 1021, 1022, 1023, 1024, 1025, 1026,\n",
       "        1027, 1028, 1031, 1032, 1033, 1034, 1035, 1036, 1037, 1038, 1040,\n",
       "        1042, 1043, 1044, 1045, 1047, 1048, 1049, 1050, 1051, 1052, 1053,\n",
       "        1054, 1055, 1056, 1057, 1058, 1059, 1060, 1061, 1062, 1063, 1064,\n",
       "        1065, 1066, 1067, 1068, 1069, 1070, 1071, 1072, 1073, 1074, 1075,\n",
       "        1076, 1077, 1078, 1079, 1080, 1081, 1082, 1083, 1084, 1086, 1087,\n",
       "        1088, 1089, 1090, 1091, 1092, 1094, 1095, 1096, 1097, 1098, 1099,\n",
       "        1100, 1103, 1104, 1105, 1106, 1107, 1108, 1109, 1110, 1112, 1113,\n",
       "        1114, 1115, 1117, 1118, 1120, 1121, 1122, 1123, 1124, 1125, 1126,\n",
       "        1127, 1128, 1129, 1130, 1134, 1135, 1136, 1138, 1139, 1140, 1141,\n",
       "        1142, 1143, 1144, 1146, 1147, 1148, 1149, 1150, 1151, 1152, 1153,\n",
       "        1155, 1156, 1157, 1158, 1162, 1163, 1164, 1165, 1166, 1167]),\n",
       " array([  10,   23,   31,   43,   44,   49,   51,   54,   56,   58,   59,\n",
       "          63,   70,   76,   83,   86,   88,   96,  101,  107,  109,  113,\n",
       "         128,  135,  138,  139,  140,  141,  155,  156,  158,  163,  168,\n",
       "         170,  174,  192,  198,  199,  208,  209,  210,  218,  220,  231,\n",
       "         233,  240,  243,  244,  247,  260,  265,  270,  274,  275,  290,\n",
       "         292,  294,  296,  298,  299,  306,  308,  309,  319,  321,  323,\n",
       "         327,  328,  336,  344,  352,  354,  355,  358,  361,  362,  371,\n",
       "         376,  377,  380,  390,  394,  398,  405,  409,  411,  420,  422,\n",
       "         423,  424,  425,  428,  429,  432,  435,  442,  451,  457,  462,\n",
       "         465,  467,  477,  478,  486,  493,  497,  506,  513,  519,  532,\n",
       "         533,  535,  538,  539,  543,  545,  548,  554,  558,  560,  561,\n",
       "         570,  572,  585,  589,  590,  594,  596,  599,  605,  614,  618,\n",
       "         629,  630,  636,  643,  666,  667,  689,  692,  694,  695,  706,\n",
       "         712,  714,  721,  723,  728,  731,  732,  733,  752,  753,  759,\n",
       "         762,  767,  774,  780,  787,  796,  803,  807,  808,  810,  811,\n",
       "         816,  820,  826,  827,  830,  833,  837,  845,  849,  852,  865,\n",
       "         868,  875,  879,  884,  887,  889,  900,  905,  912,  916,  917,\n",
       "         918,  920,  924,  925,  926,  937,  939,  940,  946,  948,  965,\n",
       "         966,  967,  969,  978,  988,  990,  991,  997, 1000, 1003, 1004,\n",
       "        1006, 1009, 1013, 1014, 1029, 1030, 1039, 1041, 1046, 1085, 1093,\n",
       "        1101, 1102, 1111, 1116, 1119, 1131, 1132, 1133, 1137, 1145, 1154,\n",
       "        1159, 1160, 1161]))"
      ]
     },
     "execution_count": 16,
     "metadata": {},
     "output_type": "execute_result"
    }
   ],
   "source": [
    "list(kf.split(X_train_model))[0]"
   ]
  },
  {
   "cell_type": "markdown",
   "metadata": {},
   "source": [
    "Em cada split, temos uma tupla `([indices de treino], [indices de validação])`.\n",
    "\n",
    "Como visto acima, isso é feito pra cada split. O que temos abaixo é apenas o primeiro split (indice 0):"
   ]
  },
  {
   "cell_type": "code",
   "execution_count": 17,
   "metadata": {
    "ExecuteTime": {
     "end_time": "2022-05-24T23:27:02.706074Z",
     "start_time": "2022-05-24T23:27:02.553102Z"
    }
   },
   "outputs": [],
   "source": [
    "idcs_train, idcs_val = list(kf.split(X_train_model))[0]"
   ]
  },
  {
   "cell_type": "code",
   "execution_count": 19,
   "metadata": {
    "ExecuteTime": {
     "end_time": "2022-05-24T23:27:11.475591Z",
     "start_time": "2022-05-24T23:27:11.336671Z"
    }
   },
   "outputs": [
    {
     "data": {
      "text/plain": [
       "array([  10,   23,   31,   43,   44,   49,   51,   54,   56,   58,   59,\n",
       "         63,   70,   76,   83,   86,   88,   96,  101,  107,  109,  113,\n",
       "        128,  135,  138,  139,  140,  141,  155,  156,  158,  163,  168,\n",
       "        170,  174,  192,  198,  199,  208,  209,  210,  218,  220,  231,\n",
       "        233,  240,  243,  244,  247,  260,  265,  270,  274,  275,  290,\n",
       "        292,  294,  296,  298,  299,  306,  308,  309,  319,  321,  323,\n",
       "        327,  328,  336,  344,  352,  354,  355,  358,  361,  362,  371,\n",
       "        376,  377,  380,  390,  394,  398,  405,  409,  411,  420,  422,\n",
       "        423,  424,  425,  428,  429,  432,  435,  442,  451,  457,  462,\n",
       "        465,  467,  477,  478,  486,  493,  497,  506,  513,  519,  532,\n",
       "        533,  535,  538,  539,  543,  545,  548,  554,  558,  560,  561,\n",
       "        570,  572,  585,  589,  590,  594,  596,  599,  605,  614,  618,\n",
       "        629,  630,  636,  643,  666,  667,  689,  692,  694,  695,  706,\n",
       "        712,  714,  721,  723,  728,  731,  732,  733,  752,  753,  759,\n",
       "        762,  767,  774,  780,  787,  796,  803,  807,  808,  810,  811,\n",
       "        816,  820,  826,  827,  830,  833,  837,  845,  849,  852,  865,\n",
       "        868,  875,  879,  884,  887,  889,  900,  905,  912,  916,  917,\n",
       "        918,  920,  924,  925,  926,  937,  939,  940,  946,  948,  965,\n",
       "        966,  967,  969,  978,  988,  990,  991,  997, 1000, 1003, 1004,\n",
       "       1006, 1009, 1013, 1014, 1029, 1030, 1039, 1041, 1046, 1085, 1093,\n",
       "       1101, 1102, 1111, 1116, 1119, 1131, 1132, 1133, 1137, 1145, 1154,\n",
       "       1159, 1160, 1161])"
      ]
     },
     "execution_count": 19,
     "metadata": {},
     "output_type": "execute_result"
    }
   ],
   "source": [
    "idcs_val"
   ]
  },
  {
   "cell_type": "code",
   "execution_count": 21,
   "metadata": {
    "ExecuteTime": {
     "end_time": "2022-05-24T23:28:13.783854Z",
     "start_time": "2022-05-24T23:28:13.597500Z"
    }
   },
   "outputs": [
    {
     "data": {
      "text/html": [
       "<div>\n",
       "<style scoped>\n",
       "    .dataframe tbody tr th:only-of-type {\n",
       "        vertical-align: middle;\n",
       "    }\n",
       "\n",
       "    .dataframe tbody tr th {\n",
       "        vertical-align: top;\n",
       "    }\n",
       "\n",
       "    .dataframe thead th {\n",
       "        text-align: right;\n",
       "    }\n",
       "</style>\n",
       "<table border=\"1\" class=\"dataframe\">\n",
       "  <thead>\n",
       "    <tr style=\"text-align: right;\">\n",
       "      <th></th>\n",
       "      <th>MSSubClass</th>\n",
       "      <th>LotArea</th>\n",
       "      <th>OverallQual</th>\n",
       "      <th>OverallCond</th>\n",
       "      <th>YearBuilt</th>\n",
       "      <th>YearRemodAdd</th>\n",
       "      <th>BsmtFinSF1</th>\n",
       "      <th>BsmtFinSF2</th>\n",
       "      <th>BsmtUnfSF</th>\n",
       "      <th>TotalBsmtSF</th>\n",
       "      <th>...</th>\n",
       "      <th>GarageArea</th>\n",
       "      <th>WoodDeckSF</th>\n",
       "      <th>OpenPorchSF</th>\n",
       "      <th>EnclosedPorch</th>\n",
       "      <th>3SsnPorch</th>\n",
       "      <th>ScreenPorch</th>\n",
       "      <th>PoolArea</th>\n",
       "      <th>MiscVal</th>\n",
       "      <th>MoSold</th>\n",
       "      <th>YrSold</th>\n",
       "    </tr>\n",
       "  </thead>\n",
       "  <tbody>\n",
       "    <tr>\n",
       "      <th>254</th>\n",
       "      <td>20</td>\n",
       "      <td>8400</td>\n",
       "      <td>5</td>\n",
       "      <td>6</td>\n",
       "      <td>1957</td>\n",
       "      <td>1957</td>\n",
       "      <td>922</td>\n",
       "      <td>0</td>\n",
       "      <td>392</td>\n",
       "      <td>1314</td>\n",
       "      <td>...</td>\n",
       "      <td>294</td>\n",
       "      <td>250</td>\n",
       "      <td>0</td>\n",
       "      <td>0</td>\n",
       "      <td>0</td>\n",
       "      <td>0</td>\n",
       "      <td>0</td>\n",
       "      <td>0</td>\n",
       "      <td>6</td>\n",
       "      <td>2010</td>\n",
       "    </tr>\n",
       "    <tr>\n",
       "      <th>1066</th>\n",
       "      <td>60</td>\n",
       "      <td>7837</td>\n",
       "      <td>6</td>\n",
       "      <td>7</td>\n",
       "      <td>1993</td>\n",
       "      <td>1994</td>\n",
       "      <td>0</td>\n",
       "      <td>0</td>\n",
       "      <td>799</td>\n",
       "      <td>799</td>\n",
       "      <td>...</td>\n",
       "      <td>380</td>\n",
       "      <td>0</td>\n",
       "      <td>40</td>\n",
       "      <td>0</td>\n",
       "      <td>0</td>\n",
       "      <td>0</td>\n",
       "      <td>0</td>\n",
       "      <td>0</td>\n",
       "      <td>5</td>\n",
       "      <td>2009</td>\n",
       "    </tr>\n",
       "    <tr>\n",
       "      <th>638</th>\n",
       "      <td>30</td>\n",
       "      <td>8777</td>\n",
       "      <td>5</td>\n",
       "      <td>7</td>\n",
       "      <td>1910</td>\n",
       "      <td>1950</td>\n",
       "      <td>0</td>\n",
       "      <td>0</td>\n",
       "      <td>796</td>\n",
       "      <td>796</td>\n",
       "      <td>...</td>\n",
       "      <td>0</td>\n",
       "      <td>328</td>\n",
       "      <td>0</td>\n",
       "      <td>164</td>\n",
       "      <td>0</td>\n",
       "      <td>0</td>\n",
       "      <td>0</td>\n",
       "      <td>0</td>\n",
       "      <td>5</td>\n",
       "      <td>2008</td>\n",
       "    </tr>\n",
       "    <tr>\n",
       "      <th>799</th>\n",
       "      <td>50</td>\n",
       "      <td>7200</td>\n",
       "      <td>5</td>\n",
       "      <td>7</td>\n",
       "      <td>1937</td>\n",
       "      <td>1950</td>\n",
       "      <td>569</td>\n",
       "      <td>0</td>\n",
       "      <td>162</td>\n",
       "      <td>731</td>\n",
       "      <td>...</td>\n",
       "      <td>240</td>\n",
       "      <td>0</td>\n",
       "      <td>0</td>\n",
       "      <td>264</td>\n",
       "      <td>0</td>\n",
       "      <td>0</td>\n",
       "      <td>0</td>\n",
       "      <td>0</td>\n",
       "      <td>6</td>\n",
       "      <td>2007</td>\n",
       "    </tr>\n",
       "    <tr>\n",
       "      <th>380</th>\n",
       "      <td>50</td>\n",
       "      <td>5000</td>\n",
       "      <td>5</td>\n",
       "      <td>6</td>\n",
       "      <td>1924</td>\n",
       "      <td>1950</td>\n",
       "      <td>218</td>\n",
       "      <td>0</td>\n",
       "      <td>808</td>\n",
       "      <td>1026</td>\n",
       "      <td>...</td>\n",
       "      <td>308</td>\n",
       "      <td>0</td>\n",
       "      <td>0</td>\n",
       "      <td>242</td>\n",
       "      <td>0</td>\n",
       "      <td>0</td>\n",
       "      <td>0</td>\n",
       "      <td>0</td>\n",
       "      <td>5</td>\n",
       "      <td>2010</td>\n",
       "    </tr>\n",
       "    <tr>\n",
       "      <th>...</th>\n",
       "      <td>...</td>\n",
       "      <td>...</td>\n",
       "      <td>...</td>\n",
       "      <td>...</td>\n",
       "      <td>...</td>\n",
       "      <td>...</td>\n",
       "      <td>...</td>\n",
       "      <td>...</td>\n",
       "      <td>...</td>\n",
       "      <td>...</td>\n",
       "      <td>...</td>\n",
       "      <td>...</td>\n",
       "      <td>...</td>\n",
       "      <td>...</td>\n",
       "      <td>...</td>\n",
       "      <td>...</td>\n",
       "      <td>...</td>\n",
       "      <td>...</td>\n",
       "      <td>...</td>\n",
       "      <td>...</td>\n",
       "      <td>...</td>\n",
       "    </tr>\n",
       "    <tr>\n",
       "      <th>1095</th>\n",
       "      <td>20</td>\n",
       "      <td>9317</td>\n",
       "      <td>6</td>\n",
       "      <td>5</td>\n",
       "      <td>2006</td>\n",
       "      <td>2006</td>\n",
       "      <td>24</td>\n",
       "      <td>0</td>\n",
       "      <td>1290</td>\n",
       "      <td>1314</td>\n",
       "      <td>...</td>\n",
       "      <td>440</td>\n",
       "      <td>0</td>\n",
       "      <td>22</td>\n",
       "      <td>0</td>\n",
       "      <td>0</td>\n",
       "      <td>0</td>\n",
       "      <td>0</td>\n",
       "      <td>0</td>\n",
       "      <td>3</td>\n",
       "      <td>2007</td>\n",
       "    </tr>\n",
       "    <tr>\n",
       "      <th>1130</th>\n",
       "      <td>50</td>\n",
       "      <td>7804</td>\n",
       "      <td>4</td>\n",
       "      <td>3</td>\n",
       "      <td>1928</td>\n",
       "      <td>1950</td>\n",
       "      <td>622</td>\n",
       "      <td>0</td>\n",
       "      <td>500</td>\n",
       "      <td>1122</td>\n",
       "      <td>...</td>\n",
       "      <td>576</td>\n",
       "      <td>431</td>\n",
       "      <td>44</td>\n",
       "      <td>0</td>\n",
       "      <td>0</td>\n",
       "      <td>0</td>\n",
       "      <td>0</td>\n",
       "      <td>0</td>\n",
       "      <td>12</td>\n",
       "      <td>2009</td>\n",
       "    </tr>\n",
       "    <tr>\n",
       "      <th>1294</th>\n",
       "      <td>20</td>\n",
       "      <td>8172</td>\n",
       "      <td>5</td>\n",
       "      <td>7</td>\n",
       "      <td>1955</td>\n",
       "      <td>1990</td>\n",
       "      <td>167</td>\n",
       "      <td>0</td>\n",
       "      <td>697</td>\n",
       "      <td>864</td>\n",
       "      <td>...</td>\n",
       "      <td>572</td>\n",
       "      <td>0</td>\n",
       "      <td>0</td>\n",
       "      <td>0</td>\n",
       "      <td>0</td>\n",
       "      <td>0</td>\n",
       "      <td>0</td>\n",
       "      <td>0</td>\n",
       "      <td>4</td>\n",
       "      <td>2006</td>\n",
       "    </tr>\n",
       "    <tr>\n",
       "      <th>860</th>\n",
       "      <td>50</td>\n",
       "      <td>7642</td>\n",
       "      <td>7</td>\n",
       "      <td>8</td>\n",
       "      <td>1918</td>\n",
       "      <td>1998</td>\n",
       "      <td>0</td>\n",
       "      <td>0</td>\n",
       "      <td>912</td>\n",
       "      <td>912</td>\n",
       "      <td>...</td>\n",
       "      <td>216</td>\n",
       "      <td>0</td>\n",
       "      <td>240</td>\n",
       "      <td>0</td>\n",
       "      <td>0</td>\n",
       "      <td>0</td>\n",
       "      <td>0</td>\n",
       "      <td>0</td>\n",
       "      <td>6</td>\n",
       "      <td>2007</td>\n",
       "    </tr>\n",
       "    <tr>\n",
       "      <th>1126</th>\n",
       "      <td>120</td>\n",
       "      <td>3684</td>\n",
       "      <td>7</td>\n",
       "      <td>5</td>\n",
       "      <td>2007</td>\n",
       "      <td>2007</td>\n",
       "      <td>0</td>\n",
       "      <td>0</td>\n",
       "      <td>1373</td>\n",
       "      <td>1373</td>\n",
       "      <td>...</td>\n",
       "      <td>660</td>\n",
       "      <td>143</td>\n",
       "      <td>20</td>\n",
       "      <td>0</td>\n",
       "      <td>0</td>\n",
       "      <td>0</td>\n",
       "      <td>0</td>\n",
       "      <td>0</td>\n",
       "      <td>6</td>\n",
       "      <td>2009</td>\n",
       "    </tr>\n",
       "  </tbody>\n",
       "</table>\n",
       "<p>934 rows × 33 columns</p>\n",
       "</div>"
      ],
      "text/plain": [
       "      MSSubClass  LotArea  OverallQual  OverallCond  YearBuilt  YearRemodAdd  \\\n",
       "254           20     8400            5            6       1957          1957   \n",
       "1066          60     7837            6            7       1993          1994   \n",
       "638           30     8777            5            7       1910          1950   \n",
       "799           50     7200            5            7       1937          1950   \n",
       "380           50     5000            5            6       1924          1950   \n",
       "...          ...      ...          ...          ...        ...           ...   \n",
       "1095          20     9317            6            5       2006          2006   \n",
       "1130          50     7804            4            3       1928          1950   \n",
       "1294          20     8172            5            7       1955          1990   \n",
       "860           50     7642            7            8       1918          1998   \n",
       "1126         120     3684            7            5       2007          2007   \n",
       "\n",
       "      BsmtFinSF1  BsmtFinSF2  BsmtUnfSF  TotalBsmtSF  ...  GarageArea  \\\n",
       "254          922           0        392         1314  ...         294   \n",
       "1066           0           0        799          799  ...         380   \n",
       "638            0           0        796          796  ...           0   \n",
       "799          569           0        162          731  ...         240   \n",
       "380          218           0        808         1026  ...         308   \n",
       "...          ...         ...        ...          ...  ...         ...   \n",
       "1095          24           0       1290         1314  ...         440   \n",
       "1130         622           0        500         1122  ...         576   \n",
       "1294         167           0        697          864  ...         572   \n",
       "860            0           0        912          912  ...         216   \n",
       "1126           0           0       1373         1373  ...         660   \n",
       "\n",
       "      WoodDeckSF  OpenPorchSF  EnclosedPorch  3SsnPorch  ScreenPorch  \\\n",
       "254          250            0              0          0            0   \n",
       "1066           0           40              0          0            0   \n",
       "638          328            0            164          0            0   \n",
       "799            0            0            264          0            0   \n",
       "380            0            0            242          0            0   \n",
       "...          ...          ...            ...        ...          ...   \n",
       "1095           0           22              0          0            0   \n",
       "1130         431           44              0          0            0   \n",
       "1294           0            0              0          0            0   \n",
       "860            0          240              0          0            0   \n",
       "1126         143           20              0          0            0   \n",
       "\n",
       "      PoolArea  MiscVal  MoSold  YrSold  \n",
       "254          0        0       6    2010  \n",
       "1066         0        0       5    2009  \n",
       "638          0        0       5    2008  \n",
       "799          0        0       6    2007  \n",
       "380          0        0       5    2010  \n",
       "...        ...      ...     ...     ...  \n",
       "1095         0        0       3    2007  \n",
       "1130         0        0      12    2009  \n",
       "1294         0        0       4    2006  \n",
       "860          0        0       6    2007  \n",
       "1126         0        0       6    2009  \n",
       "\n",
       "[934 rows x 33 columns]"
      ]
     },
     "execution_count": 21,
     "metadata": {},
     "output_type": "execute_result"
    }
   ],
   "source": [
    "X_train_model.iloc[idcs_train, :]"
   ]
  },
  {
   "cell_type": "code",
   "execution_count": 20,
   "metadata": {
    "ExecuteTime": {
     "end_time": "2022-05-24T23:27:51.395889Z",
     "start_time": "2022-05-24T23:27:51.115050Z"
    }
   },
   "outputs": [
    {
     "data": {
      "text/html": [
       "<div>\n",
       "<style scoped>\n",
       "    .dataframe tbody tr th:only-of-type {\n",
       "        vertical-align: middle;\n",
       "    }\n",
       "\n",
       "    .dataframe tbody tr th {\n",
       "        vertical-align: top;\n",
       "    }\n",
       "\n",
       "    .dataframe thead th {\n",
       "        text-align: right;\n",
       "    }\n",
       "</style>\n",
       "<table border=\"1\" class=\"dataframe\">\n",
       "  <thead>\n",
       "    <tr style=\"text-align: right;\">\n",
       "      <th></th>\n",
       "      <th>MSSubClass</th>\n",
       "      <th>LotArea</th>\n",
       "      <th>OverallQual</th>\n",
       "      <th>OverallCond</th>\n",
       "      <th>YearBuilt</th>\n",
       "      <th>YearRemodAdd</th>\n",
       "      <th>BsmtFinSF1</th>\n",
       "      <th>BsmtFinSF2</th>\n",
       "      <th>BsmtUnfSF</th>\n",
       "      <th>TotalBsmtSF</th>\n",
       "      <th>...</th>\n",
       "      <th>GarageArea</th>\n",
       "      <th>WoodDeckSF</th>\n",
       "      <th>OpenPorchSF</th>\n",
       "      <th>EnclosedPorch</th>\n",
       "      <th>3SsnPorch</th>\n",
       "      <th>ScreenPorch</th>\n",
       "      <th>PoolArea</th>\n",
       "      <th>MiscVal</th>\n",
       "      <th>MoSold</th>\n",
       "      <th>YrSold</th>\n",
       "    </tr>\n",
       "  </thead>\n",
       "  <tbody>\n",
       "    <tr>\n",
       "      <th>1445</th>\n",
       "      <td>85</td>\n",
       "      <td>8400</td>\n",
       "      <td>6</td>\n",
       "      <td>5</td>\n",
       "      <td>1966</td>\n",
       "      <td>1966</td>\n",
       "      <td>187</td>\n",
       "      <td>627</td>\n",
       "      <td>0</td>\n",
       "      <td>814</td>\n",
       "      <td>...</td>\n",
       "      <td>240</td>\n",
       "      <td>0</td>\n",
       "      <td>0</td>\n",
       "      <td>252</td>\n",
       "      <td>0</td>\n",
       "      <td>0</td>\n",
       "      <td>0</td>\n",
       "      <td>0</td>\n",
       "      <td>5</td>\n",
       "      <td>2007</td>\n",
       "    </tr>\n",
       "    <tr>\n",
       "      <th>965</th>\n",
       "      <td>60</td>\n",
       "      <td>10237</td>\n",
       "      <td>6</td>\n",
       "      <td>5</td>\n",
       "      <td>2005</td>\n",
       "      <td>2007</td>\n",
       "      <td>0</td>\n",
       "      <td>0</td>\n",
       "      <td>783</td>\n",
       "      <td>783</td>\n",
       "      <td>...</td>\n",
       "      <td>393</td>\n",
       "      <td>0</td>\n",
       "      <td>72</td>\n",
       "      <td>0</td>\n",
       "      <td>0</td>\n",
       "      <td>0</td>\n",
       "      <td>0</td>\n",
       "      <td>0</td>\n",
       "      <td>7</td>\n",
       "      <td>2007</td>\n",
       "    </tr>\n",
       "    <tr>\n",
       "      <th>210</th>\n",
       "      <td>30</td>\n",
       "      <td>5604</td>\n",
       "      <td>5</td>\n",
       "      <td>6</td>\n",
       "      <td>1925</td>\n",
       "      <td>1950</td>\n",
       "      <td>468</td>\n",
       "      <td>0</td>\n",
       "      <td>396</td>\n",
       "      <td>864</td>\n",
       "      <td>...</td>\n",
       "      <td>0</td>\n",
       "      <td>0</td>\n",
       "      <td>0</td>\n",
       "      <td>96</td>\n",
       "      <td>0</td>\n",
       "      <td>0</td>\n",
       "      <td>0</td>\n",
       "      <td>0</td>\n",
       "      <td>4</td>\n",
       "      <td>2008</td>\n",
       "    </tr>\n",
       "    <tr>\n",
       "      <th>83</th>\n",
       "      <td>20</td>\n",
       "      <td>8892</td>\n",
       "      <td>5</td>\n",
       "      <td>5</td>\n",
       "      <td>1960</td>\n",
       "      <td>1960</td>\n",
       "      <td>0</td>\n",
       "      <td>0</td>\n",
       "      <td>1065</td>\n",
       "      <td>1065</td>\n",
       "      <td>...</td>\n",
       "      <td>461</td>\n",
       "      <td>74</td>\n",
       "      <td>0</td>\n",
       "      <td>0</td>\n",
       "      <td>0</td>\n",
       "      <td>0</td>\n",
       "      <td>0</td>\n",
       "      <td>0</td>\n",
       "      <td>7</td>\n",
       "      <td>2007</td>\n",
       "    </tr>\n",
       "    <tr>\n",
       "      <th>1274</th>\n",
       "      <td>50</td>\n",
       "      <td>5362</td>\n",
       "      <td>5</td>\n",
       "      <td>6</td>\n",
       "      <td>1910</td>\n",
       "      <td>2003</td>\n",
       "      <td>0</td>\n",
       "      <td>0</td>\n",
       "      <td>661</td>\n",
       "      <td>661</td>\n",
       "      <td>...</td>\n",
       "      <td>552</td>\n",
       "      <td>242</td>\n",
       "      <td>0</td>\n",
       "      <td>81</td>\n",
       "      <td>0</td>\n",
       "      <td>0</td>\n",
       "      <td>0</td>\n",
       "      <td>0</td>\n",
       "      <td>11</td>\n",
       "      <td>2007</td>\n",
       "    </tr>\n",
       "    <tr>\n",
       "      <th>...</th>\n",
       "      <td>...</td>\n",
       "      <td>...</td>\n",
       "      <td>...</td>\n",
       "      <td>...</td>\n",
       "      <td>...</td>\n",
       "      <td>...</td>\n",
       "      <td>...</td>\n",
       "      <td>...</td>\n",
       "      <td>...</td>\n",
       "      <td>...</td>\n",
       "      <td>...</td>\n",
       "      <td>...</td>\n",
       "      <td>...</td>\n",
       "      <td>...</td>\n",
       "      <td>...</td>\n",
       "      <td>...</td>\n",
       "      <td>...</td>\n",
       "      <td>...</td>\n",
       "      <td>...</td>\n",
       "      <td>...</td>\n",
       "      <td>...</td>\n",
       "    </tr>\n",
       "    <tr>\n",
       "      <th>955</th>\n",
       "      <td>90</td>\n",
       "      <td>7136</td>\n",
       "      <td>6</td>\n",
       "      <td>6</td>\n",
       "      <td>1946</td>\n",
       "      <td>1950</td>\n",
       "      <td>484</td>\n",
       "      <td>0</td>\n",
       "      <td>495</td>\n",
       "      <td>979</td>\n",
       "      <td>...</td>\n",
       "      <td>492</td>\n",
       "      <td>0</td>\n",
       "      <td>0</td>\n",
       "      <td>0</td>\n",
       "      <td>0</td>\n",
       "      <td>0</td>\n",
       "      <td>0</td>\n",
       "      <td>0</td>\n",
       "      <td>8</td>\n",
       "      <td>2007</td>\n",
       "    </tr>\n",
       "    <tr>\n",
       "      <th>871</th>\n",
       "      <td>60</td>\n",
       "      <td>8750</td>\n",
       "      <td>6</td>\n",
       "      <td>5</td>\n",
       "      <td>1998</td>\n",
       "      <td>1998</td>\n",
       "      <td>505</td>\n",
       "      <td>0</td>\n",
       "      <td>299</td>\n",
       "      <td>804</td>\n",
       "      <td>...</td>\n",
       "      <td>523</td>\n",
       "      <td>0</td>\n",
       "      <td>77</td>\n",
       "      <td>0</td>\n",
       "      <td>0</td>\n",
       "      <td>0</td>\n",
       "      <td>0</td>\n",
       "      <td>0</td>\n",
       "      <td>6</td>\n",
       "      <td>2010</td>\n",
       "    </tr>\n",
       "    <tr>\n",
       "      <th>1238</th>\n",
       "      <td>20</td>\n",
       "      <td>13072</td>\n",
       "      <td>6</td>\n",
       "      <td>5</td>\n",
       "      <td>2005</td>\n",
       "      <td>2005</td>\n",
       "      <td>0</td>\n",
       "      <td>0</td>\n",
       "      <td>1141</td>\n",
       "      <td>1141</td>\n",
       "      <td>...</td>\n",
       "      <td>484</td>\n",
       "      <td>0</td>\n",
       "      <td>0</td>\n",
       "      <td>0</td>\n",
       "      <td>0</td>\n",
       "      <td>0</td>\n",
       "      <td>0</td>\n",
       "      <td>0</td>\n",
       "      <td>3</td>\n",
       "      <td>2006</td>\n",
       "    </tr>\n",
       "    <tr>\n",
       "      <th>466</th>\n",
       "      <td>20</td>\n",
       "      <td>10628</td>\n",
       "      <td>7</td>\n",
       "      <td>5</td>\n",
       "      <td>1970</td>\n",
       "      <td>1970</td>\n",
       "      <td>778</td>\n",
       "      <td>0</td>\n",
       "      <td>499</td>\n",
       "      <td>1277</td>\n",
       "      <td>...</td>\n",
       "      <td>526</td>\n",
       "      <td>0</td>\n",
       "      <td>0</td>\n",
       "      <td>0</td>\n",
       "      <td>0</td>\n",
       "      <td>176</td>\n",
       "      <td>0</td>\n",
       "      <td>0</td>\n",
       "      <td>4</td>\n",
       "      <td>2007</td>\n",
       "    </tr>\n",
       "    <tr>\n",
       "      <th>121</th>\n",
       "      <td>50</td>\n",
       "      <td>6060</td>\n",
       "      <td>4</td>\n",
       "      <td>5</td>\n",
       "      <td>1939</td>\n",
       "      <td>1950</td>\n",
       "      <td>0</td>\n",
       "      <td>0</td>\n",
       "      <td>732</td>\n",
       "      <td>732</td>\n",
       "      <td>...</td>\n",
       "      <td>264</td>\n",
       "      <td>0</td>\n",
       "      <td>0</td>\n",
       "      <td>140</td>\n",
       "      <td>0</td>\n",
       "      <td>0</td>\n",
       "      <td>0</td>\n",
       "      <td>0</td>\n",
       "      <td>6</td>\n",
       "      <td>2007</td>\n",
       "    </tr>\n",
       "  </tbody>\n",
       "</table>\n",
       "<p>234 rows × 33 columns</p>\n",
       "</div>"
      ],
      "text/plain": [
       "      MSSubClass  LotArea  OverallQual  OverallCond  YearBuilt  YearRemodAdd  \\\n",
       "1445          85     8400            6            5       1966          1966   \n",
       "965           60    10237            6            5       2005          2007   \n",
       "210           30     5604            5            6       1925          1950   \n",
       "83            20     8892            5            5       1960          1960   \n",
       "1274          50     5362            5            6       1910          2003   \n",
       "...          ...      ...          ...          ...        ...           ...   \n",
       "955           90     7136            6            6       1946          1950   \n",
       "871           60     8750            6            5       1998          1998   \n",
       "1238          20    13072            6            5       2005          2005   \n",
       "466           20    10628            7            5       1970          1970   \n",
       "121           50     6060            4            5       1939          1950   \n",
       "\n",
       "      BsmtFinSF1  BsmtFinSF2  BsmtUnfSF  TotalBsmtSF  ...  GarageArea  \\\n",
       "1445         187         627          0          814  ...         240   \n",
       "965            0           0        783          783  ...         393   \n",
       "210          468           0        396          864  ...           0   \n",
       "83             0           0       1065         1065  ...         461   \n",
       "1274           0           0        661          661  ...         552   \n",
       "...          ...         ...        ...          ...  ...         ...   \n",
       "955          484           0        495          979  ...         492   \n",
       "871          505           0        299          804  ...         523   \n",
       "1238           0           0       1141         1141  ...         484   \n",
       "466          778           0        499         1277  ...         526   \n",
       "121            0           0        732          732  ...         264   \n",
       "\n",
       "      WoodDeckSF  OpenPorchSF  EnclosedPorch  3SsnPorch  ScreenPorch  \\\n",
       "1445           0            0            252          0            0   \n",
       "965            0           72              0          0            0   \n",
       "210            0            0             96          0            0   \n",
       "83            74            0              0          0            0   \n",
       "1274         242            0             81          0            0   \n",
       "...          ...          ...            ...        ...          ...   \n",
       "955            0            0              0          0            0   \n",
       "871            0           77              0          0            0   \n",
       "1238           0            0              0          0            0   \n",
       "466            0            0              0          0          176   \n",
       "121            0            0            140          0            0   \n",
       "\n",
       "      PoolArea  MiscVal  MoSold  YrSold  \n",
       "1445         0        0       5    2007  \n",
       "965          0        0       7    2007  \n",
       "210          0        0       4    2008  \n",
       "83           0        0       7    2007  \n",
       "1274         0        0      11    2007  \n",
       "...        ...      ...     ...     ...  \n",
       "955          0        0       8    2007  \n",
       "871          0        0       6    2010  \n",
       "1238         0        0       3    2006  \n",
       "466          0        0       4    2007  \n",
       "121          0        0       6    2007  \n",
       "\n",
       "[234 rows x 33 columns]"
      ]
     },
     "execution_count": 20,
     "metadata": {},
     "output_type": "execute_result"
    }
   ],
   "source": [
    "X_train_model.iloc[idcs_val, :]"
   ]
  },
  {
   "cell_type": "markdown",
   "metadata": {},
   "source": [
    "Como vimos acima, a classe KFold indica a estratégia de splits a ser usada, e o método `.split()` só gera os splits.\n",
    "\n",
    "Mas, na prática, vamos usar a função `cross_validate()` pra geras as métricas de avaliação na validação cruzada, que tem o KFold como argumento!"
   ]
  },
  {
   "cell_type": "code",
   "execution_count": 22,
   "metadata": {
    "ExecuteTime": {
     "end_time": "2022-05-24T23:31:05.367475Z",
     "start_time": "2022-05-24T23:31:05.222560Z"
    }
   },
   "outputs": [],
   "source": [
    "from sklearn.model_selection import cross_validate"
   ]
  },
  {
   "cell_type": "code",
   "execution_count": 23,
   "metadata": {
    "ExecuteTime": {
     "end_time": "2022-05-24T23:32:01.941597Z",
     "start_time": "2022-05-24T23:32:01.797465Z"
    }
   },
   "outputs": [],
   "source": [
    "from sklearn.linear_model import LinearRegression"
   ]
  },
  {
   "cell_type": "code",
   "execution_count": 31,
   "metadata": {
    "ExecuteTime": {
     "end_time": "2022-05-24T23:48:01.239836Z",
     "start_time": "2022-05-24T23:48:00.748117Z"
    }
   },
   "outputs": [],
   "source": [
    "estimador = LinearRegression()\n",
    "kf = KFold(n_splits=5, shuffle=True, random_state=42)\n",
    "\n",
    "results_cv = cross_validate(estimator=estimador,\n",
    "                               X=X_train_model, y=y_train,\n",
    "                               cv=kf, scoring=\"neg_mean_absolute_error\",\n",
    "                               return_train_score=True)\n",
    "\n",
    "# .abs() pra deixar as métricas positivas\n",
    "results_cv_df = pd.DataFrame(results_cv).abs()"
   ]
  },
  {
   "cell_type": "code",
   "execution_count": 32,
   "metadata": {
    "ExecuteTime": {
     "end_time": "2022-05-24T23:48:01.635610Z",
     "start_time": "2022-05-24T23:48:01.250829Z"
    }
   },
   "outputs": [
    {
     "data": {
      "text/plain": [
       "{'fit_time': array([0.01099324, 0.00699067, 0.01199532, 0.00799537, 0.01299071]),\n",
       " 'score_time': array([0.00499845, 0.00299978, 0.00399661, 0.01799059, 0.00899386]),\n",
       " 'test_score': array([-21666.36413797, -22691.26007716, -23735.65169589, -23398.84221258,\n",
       "        -20521.75444073]),\n",
       " 'train_score': array([-21602.26321505, -20814.93638534, -19887.55468095, -21170.57306197,\n",
       "        -21886.41097011])}"
      ]
     },
     "execution_count": 32,
     "metadata": {},
     "output_type": "execute_result"
    }
   ],
   "source": [
    "results_cv"
   ]
  },
  {
   "cell_type": "markdown",
   "metadata": {},
   "source": [
    "Vamos olhar pros resultados mais de perto..."
   ]
  },
  {
   "cell_type": "code",
   "execution_count": 33,
   "metadata": {
    "ExecuteTime": {
     "end_time": "2022-05-24T23:48:04.317571Z",
     "start_time": "2022-05-24T23:48:04.174648Z"
    }
   },
   "outputs": [
    {
     "data": {
      "text/html": [
       "<div>\n",
       "<style scoped>\n",
       "    .dataframe tbody tr th:only-of-type {\n",
       "        vertical-align: middle;\n",
       "    }\n",
       "\n",
       "    .dataframe tbody tr th {\n",
       "        vertical-align: top;\n",
       "    }\n",
       "\n",
       "    .dataframe thead th {\n",
       "        text-align: right;\n",
       "    }\n",
       "</style>\n",
       "<table border=\"1\" class=\"dataframe\">\n",
       "  <thead>\n",
       "    <tr style=\"text-align: right;\">\n",
       "      <th></th>\n",
       "      <th>fit_time</th>\n",
       "      <th>score_time</th>\n",
       "      <th>test_score</th>\n",
       "      <th>train_score</th>\n",
       "    </tr>\n",
       "  </thead>\n",
       "  <tbody>\n",
       "    <tr>\n",
       "      <th>0</th>\n",
       "      <td>0.010993</td>\n",
       "      <td>0.004998</td>\n",
       "      <td>21666.364138</td>\n",
       "      <td>21602.263215</td>\n",
       "    </tr>\n",
       "    <tr>\n",
       "      <th>1</th>\n",
       "      <td>0.006991</td>\n",
       "      <td>0.003000</td>\n",
       "      <td>22691.260077</td>\n",
       "      <td>20814.936385</td>\n",
       "    </tr>\n",
       "    <tr>\n",
       "      <th>2</th>\n",
       "      <td>0.011995</td>\n",
       "      <td>0.003997</td>\n",
       "      <td>23735.651696</td>\n",
       "      <td>19887.554681</td>\n",
       "    </tr>\n",
       "    <tr>\n",
       "      <th>3</th>\n",
       "      <td>0.007995</td>\n",
       "      <td>0.017991</td>\n",
       "      <td>23398.842213</td>\n",
       "      <td>21170.573062</td>\n",
       "    </tr>\n",
       "    <tr>\n",
       "      <th>4</th>\n",
       "      <td>0.012991</td>\n",
       "      <td>0.008994</td>\n",
       "      <td>20521.754441</td>\n",
       "      <td>21886.410970</td>\n",
       "    </tr>\n",
       "  </tbody>\n",
       "</table>\n",
       "</div>"
      ],
      "text/plain": [
       "   fit_time  score_time    test_score   train_score\n",
       "0  0.010993    0.004998  21666.364138  21602.263215\n",
       "1  0.006991    0.003000  22691.260077  20814.936385\n",
       "2  0.011995    0.003997  23735.651696  19887.554681\n",
       "3  0.007995    0.017991  23398.842213  21170.573062\n",
       "4  0.012991    0.008994  20521.754441  21886.410970"
      ]
     },
     "execution_count": 33,
     "metadata": {},
     "output_type": "execute_result"
    }
   ],
   "source": [
    "results_cv_df"
   ]
  },
  {
   "cell_type": "markdown",
   "metadata": {},
   "source": [
    "Vamos criar uma função:\n"
   ]
  },
  {
   "cell_type": "code",
   "execution_count": 35,
   "metadata": {
    "ExecuteTime": {
     "end_time": "2022-05-25T00:11:50.053228Z",
     "start_time": "2022-05-25T00:11:49.899803Z"
    }
   },
   "outputs": [],
   "source": [
    "def calc_cv(estimator, X, y, n_splits, scoring):\n",
    "    \n",
    "    kf = KFold(n_splits=n_splits, shuffle=True, random_state=42)\n",
    "    \n",
    "    results_cv = cross_validate(estimator=estimador,\n",
    "                                X=X, y=y,\n",
    "                                cv=kf, scoring=scoring,\n",
    "                                return_train_score=True)\n",
    "\n",
    "    # .abs() pra deixar as métricas positivas\n",
    "    results_cv_df = pd.DataFrame(results_cv).abs()\n",
    "    \n",
    "    return results_cv_df"
   ]
  },
  {
   "cell_type": "code",
   "execution_count": 41,
   "metadata": {
    "ExecuteTime": {
     "end_time": "2022-05-25T00:13:24.459561Z",
     "start_time": "2022-05-25T00:13:24.173728Z"
    }
   },
   "outputs": [
    {
     "data": {
      "text/html": [
       "<div>\n",
       "<style scoped>\n",
       "    .dataframe tbody tr th:only-of-type {\n",
       "        vertical-align: middle;\n",
       "    }\n",
       "\n",
       "    .dataframe tbody tr th {\n",
       "        vertical-align: top;\n",
       "    }\n",
       "\n",
       "    .dataframe thead th {\n",
       "        text-align: right;\n",
       "    }\n",
       "</style>\n",
       "<table border=\"1\" class=\"dataframe\">\n",
       "  <thead>\n",
       "    <tr style=\"text-align: right;\">\n",
       "      <th></th>\n",
       "      <th>fit_time</th>\n",
       "      <th>score_time</th>\n",
       "      <th>test_score</th>\n",
       "      <th>train_score</th>\n",
       "    </tr>\n",
       "  </thead>\n",
       "  <tbody>\n",
       "    <tr>\n",
       "      <th>0</th>\n",
       "      <td>0.006997</td>\n",
       "      <td>0.005997</td>\n",
       "      <td>20909.269814</td>\n",
       "      <td>21372.138145</td>\n",
       "    </tr>\n",
       "    <tr>\n",
       "      <th>1</th>\n",
       "      <td>0.006996</td>\n",
       "      <td>0.002000</td>\n",
       "      <td>21523.511964</td>\n",
       "      <td>21218.092027</td>\n",
       "    </tr>\n",
       "    <tr>\n",
       "      <th>2</th>\n",
       "      <td>0.005997</td>\n",
       "      <td>0.002998</td>\n",
       "      <td>21251.665323</td>\n",
       "      <td>21320.679994</td>\n",
       "    </tr>\n",
       "    <tr>\n",
       "      <th>3</th>\n",
       "      <td>0.006995</td>\n",
       "      <td>0.005997</td>\n",
       "      <td>23936.132206</td>\n",
       "      <td>20540.633686</td>\n",
       "    </tr>\n",
       "    <tr>\n",
       "      <th>4</th>\n",
       "      <td>0.004996</td>\n",
       "      <td>0.002000</td>\n",
       "      <td>21453.803482</td>\n",
       "      <td>21294.997170</td>\n",
       "    </tr>\n",
       "    <tr>\n",
       "      <th>5</th>\n",
       "      <td>0.005996</td>\n",
       "      <td>0.002002</td>\n",
       "      <td>26698.288474</td>\n",
       "      <td>19765.228481</td>\n",
       "    </tr>\n",
       "    <tr>\n",
       "      <th>6</th>\n",
       "      <td>0.005995</td>\n",
       "      <td>0.002999</td>\n",
       "      <td>22488.878462</td>\n",
       "      <td>21146.145270</td>\n",
       "    </tr>\n",
       "    <tr>\n",
       "      <th>7</th>\n",
       "      <td>0.005996</td>\n",
       "      <td>0.003000</td>\n",
       "      <td>22775.774380</td>\n",
       "      <td>21076.303238</td>\n",
       "    </tr>\n",
       "    <tr>\n",
       "      <th>8</th>\n",
       "      <td>0.007994</td>\n",
       "      <td>0.007998</td>\n",
       "      <td>19292.448322</td>\n",
       "      <td>21512.516230</td>\n",
       "    </tr>\n",
       "    <tr>\n",
       "      <th>9</th>\n",
       "      <td>0.005995</td>\n",
       "      <td>0.001998</td>\n",
       "      <td>20629.538473</td>\n",
       "      <td>21345.526953</td>\n",
       "    </tr>\n",
       "  </tbody>\n",
       "</table>\n",
       "</div>"
      ],
      "text/plain": [
       "   fit_time  score_time    test_score   train_score\n",
       "0  0.006997    0.005997  20909.269814  21372.138145\n",
       "1  0.006996    0.002000  21523.511964  21218.092027\n",
       "2  0.005997    0.002998  21251.665323  21320.679994\n",
       "3  0.006995    0.005997  23936.132206  20540.633686\n",
       "4  0.004996    0.002000  21453.803482  21294.997170\n",
       "5  0.005996    0.002002  26698.288474  19765.228481\n",
       "6  0.005995    0.002999  22488.878462  21146.145270\n",
       "7  0.005996    0.003000  22775.774380  21076.303238\n",
       "8  0.007994    0.007998  19292.448322  21512.516230\n",
       "9  0.005995    0.001998  20629.538473  21345.526953"
      ]
     },
     "execution_count": 41,
     "metadata": {},
     "output_type": "execute_result"
    }
   ],
   "source": [
    "results_cv_df = calc_cv(estimator=LinearRegression(), \n",
    "                        X=X_train_model, y=y_train, n_splits=10, scoring=\"neg_mean_absolute_error\")\n",
    "\n",
    "results_cv_df"
   ]
  },
  {
   "cell_type": "code",
   "execution_count": 43,
   "metadata": {
    "ExecuteTime": {
     "end_time": "2022-05-25T00:14:26.578873Z",
     "start_time": "2022-05-25T00:14:26.405971Z"
    }
   },
   "outputs": [
    {
     "data": {
      "text/html": [
       "<div>\n",
       "<style scoped>\n",
       "    .dataframe tbody tr th:only-of-type {\n",
       "        vertical-align: middle;\n",
       "    }\n",
       "\n",
       "    .dataframe tbody tr th {\n",
       "        vertical-align: top;\n",
       "    }\n",
       "\n",
       "    .dataframe thead th {\n",
       "        text-align: right;\n",
       "    }\n",
       "</style>\n",
       "<table border=\"1\" class=\"dataframe\">\n",
       "  <thead>\n",
       "    <tr style=\"text-align: right;\">\n",
       "      <th></th>\n",
       "      <th>test_score</th>\n",
       "      <th>train_score</th>\n",
       "    </tr>\n",
       "  </thead>\n",
       "  <tbody>\n",
       "    <tr>\n",
       "      <th>count</th>\n",
       "      <td>10.000000</td>\n",
       "      <td>10.000000</td>\n",
       "    </tr>\n",
       "    <tr>\n",
       "      <th>mean</th>\n",
       "      <td>22095.931090</td>\n",
       "      <td>21059.226119</td>\n",
       "    </tr>\n",
       "    <tr>\n",
       "      <th>std</th>\n",
       "      <td>2056.301758</td>\n",
       "      <td>525.542374</td>\n",
       "    </tr>\n",
       "    <tr>\n",
       "      <th>min</th>\n",
       "      <td>19292.448322</td>\n",
       "      <td>19765.228481</td>\n",
       "    </tr>\n",
       "    <tr>\n",
       "      <th>25%</th>\n",
       "      <td>20994.868691</td>\n",
       "      <td>21093.763746</td>\n",
       "    </tr>\n",
       "    <tr>\n",
       "      <th>50%</th>\n",
       "      <td>21488.657723</td>\n",
       "      <td>21256.544599</td>\n",
       "    </tr>\n",
       "    <tr>\n",
       "      <th>75%</th>\n",
       "      <td>22704.050400</td>\n",
       "      <td>21339.315213</td>\n",
       "    </tr>\n",
       "    <tr>\n",
       "      <th>max</th>\n",
       "      <td>26698.288474</td>\n",
       "      <td>21512.516230</td>\n",
       "    </tr>\n",
       "  </tbody>\n",
       "</table>\n",
       "</div>"
      ],
      "text/plain": [
       "         test_score   train_score\n",
       "count     10.000000     10.000000\n",
       "mean   22095.931090  21059.226119\n",
       "std     2056.301758    525.542374\n",
       "min    19292.448322  19765.228481\n",
       "25%    20994.868691  21093.763746\n",
       "50%    21488.657723  21256.544599\n",
       "75%    22704.050400  21339.315213\n",
       "max    26698.288474  21512.516230"
      ]
     },
     "execution_count": 43,
     "metadata": {},
     "output_type": "execute_result"
    }
   ],
   "source": [
    "results_cv_df[[\"test_score\", \"train_score\"]].describe()"
   ]
  },
  {
   "cell_type": "code",
   "execution_count": 44,
   "metadata": {
    "ExecuteTime": {
     "end_time": "2022-05-25T00:18:42.955046Z",
     "start_time": "2022-05-25T00:18:42.380376Z"
    }
   },
   "outputs": [
    {
     "data": {
      "text/plain": [
       "<AxesSubplot:xlabel='test_score', ylabel='Count'>"
      ]
     },
     "execution_count": 44,
     "metadata": {},
     "output_type": "execute_result"
    },
    {
     "data": {
      "image/png": "[encoded data removed]",
      "text/plain": [
       "<Figure size 432x288 with 1 Axes>"
      ]
     },
     "metadata": {
      "needs_background": "light"
     },
     "output_type": "display_data"
    }
   ],
   "source": [
    "sns.histplot(data=results_cv_df, x=\"test_score\", kde=True)"
   ]
  },
  {
   "cell_type": "code",
   "execution_count": 45,
   "metadata": {
    "ExecuteTime": {
     "end_time": "2022-05-25T00:19:01.361088Z",
     "start_time": "2022-05-25T00:19:00.354803Z"
    }
   },
   "outputs": [
    {
     "data": {
      "text/plain": [
       "<AxesSubplot:xlabel='train_score', ylabel='Count'>"
      ]
     },
     "execution_count": 45,
     "metadata": {},
     "output_type": "execute_result"
    },
    {
     "data": {
      "image/png": "[encoded data removed]",
      "text/plain": [
       "<Figure size 432x288 with 1 Axes>"
      ]
     },
     "metadata": {
      "needs_background": "light"
     },
     "output_type": "display_data"
    }
   ],
   "source": [
    "sns.histplot(data=results_cv_df, x=\"train_score\", kde=True)"
   ]
  },
  {
   "cell_type": "code",
   "execution_count": 47,
   "metadata": {
    "ExecuteTime": {
     "end_time": "2022-05-25T00:22:05.617549Z",
     "start_time": "2022-05-25T00:22:04.982827Z"
    }
   },
   "outputs": [
    {
     "data": {
      "text/plain": [
       "<AxesSubplot:xlabel='train_score', ylabel='Count'>"
      ]
     },
     "execution_count": 47,
     "metadata": {},
     "output_type": "execute_result"
    },
    {
     "data": {
      "image/png": "[encoded data removed]",
      "text/plain": [
       "<Figure size 432x288 with 1 Axes>"
      ]
     },
     "metadata": {
      "needs_background": "light"
     },
     "output_type": "display_data"
    }
   ],
   "source": [
    "sns.histplot(data=results_cv_df, x=\"train_score\", kde=True, color=\"orange\")\n",
    "sns.histplot(data=results_cv_df, x=\"test_score\", kde=True)"
   ]
  },
  {
   "cell_type": "code",
   "execution_count": 50,
   "metadata": {
    "ExecuteTime": {
     "end_time": "2022-05-25T00:29:04.569873Z",
     "start_time": "2022-05-25T00:29:04.374869Z"
    }
   },
   "outputs": [],
   "source": [
    "def calc_cv(estimator, X, y, n_splits, scoring, plot_distros=False):\n",
    "    \n",
    "    kf = KFold(n_splits=n_splits, shuffle=True, random_state=42)\n",
    "    \n",
    "    results_cv = cross_validate(estimator=estimador,\n",
    "                                X=X, y=y,\n",
    "                                cv=kf, scoring=scoring,\n",
    "                                return_train_score=True)\n",
    "\n",
    "    # .abs() pra deixar as métricas positivas\n",
    "    results_cv_df = pd.DataFrame(results_cv).abs()\n",
    "    \n",
    "    # ================================================\n",
    "    \n",
    "    print(\"Distribuição de métricas de avaliação:\")\n",
    "    \n",
    "    display(results_cv_df[[\"test_score\", \"train_score\"]].describe())\n",
    "    \n",
    "    # ================================================\n",
    "    \n",
    "    if plot_distros:\n",
    "        \n",
    "        print(\"\\nDistribuição de métricas de treino\")\n",
    "        sns.histplot(data=results_cv_df, x=\"train_score\", kde=True, color=\"orange\")\n",
    "        plt.show()\n",
    "\n",
    "        print(\"\\nDistribuição de métricas de teste\")\n",
    "        sns.histplot(data=results_cv_df, x=\"test_score\", kde=True)\n",
    "        plt.show()\n",
    "\n",
    "        print(\"\\nAs duas juntas (compara a variância!)\")\n",
    "        sns.histplot(data=results_cv_df, x=\"train_score\", kde=True, color=\"orange\", label=\"treino\")\n",
    "        sns.histplot(data=results_cv_df, x=\"test_score\", kde=True, label=\"teste\")\n",
    "        plt.legend()\n",
    "        plt.show()\n",
    "    \n",
    "    # ================================================\n",
    "    \n",
    "    return results_cv_df"
   ]
  },
  {
   "cell_type": "code",
   "execution_count": 54,
   "metadata": {
    "ExecuteTime": {
     "end_time": "2022-05-25T00:29:50.349577Z",
     "start_time": "2022-05-25T00:29:47.623242Z"
    },
    "scrolled": true
   },
   "outputs": [
    {
     "name": "stdout",
     "output_type": "stream",
     "text": [
      "Distribuição de métricas de avaliação:\n"
     ]
    },
    {
     "data": {
      "text/html": [
       "<div>\n",
       "<style scoped>\n",
       "    .dataframe tbody tr th:only-of-type {\n",
       "        vertical-align: middle;\n",
       "    }\n",
       "\n",
       "    .dataframe tbody tr th {\n",
       "        vertical-align: top;\n",
       "    }\n",
       "\n",
       "    .dataframe thead th {\n",
       "        text-align: right;\n",
       "    }\n",
       "</style>\n",
       "<table border=\"1\" class=\"dataframe\">\n",
       "  <thead>\n",
       "    <tr style=\"text-align: right;\">\n",
       "      <th></th>\n",
       "      <th>test_score</th>\n",
       "      <th>train_score</th>\n",
       "    </tr>\n",
       "  </thead>\n",
       "  <tbody>\n",
       "    <tr>\n",
       "      <th>count</th>\n",
       "      <td>10.000000</td>\n",
       "      <td>10.000000</td>\n",
       "    </tr>\n",
       "    <tr>\n",
       "      <th>mean</th>\n",
       "      <td>22095.931090</td>\n",
       "      <td>21059.226119</td>\n",
       "    </tr>\n",
       "    <tr>\n",
       "      <th>std</th>\n",
       "      <td>2056.301758</td>\n",
       "      <td>525.542374</td>\n",
       "    </tr>\n",
       "    <tr>\n",
       "      <th>min</th>\n",
       "      <td>19292.448322</td>\n",
       "      <td>19765.228481</td>\n",
       "    </tr>\n",
       "    <tr>\n",
       "      <th>25%</th>\n",
       "      <td>20994.868691</td>\n",
       "      <td>21093.763746</td>\n",
       "    </tr>\n",
       "    <tr>\n",
       "      <th>50%</th>\n",
       "      <td>21488.657723</td>\n",
       "      <td>21256.544599</td>\n",
       "    </tr>\n",
       "    <tr>\n",
       "      <th>75%</th>\n",
       "      <td>22704.050400</td>\n",
       "      <td>21339.315213</td>\n",
       "    </tr>\n",
       "    <tr>\n",
       "      <th>max</th>\n",
       "      <td>26698.288474</td>\n",
       "      <td>21512.516230</td>\n",
       "    </tr>\n",
       "  </tbody>\n",
       "</table>\n",
       "</div>"
      ],
      "text/plain": [
       "         test_score   train_score\n",
       "count     10.000000     10.000000\n",
       "mean   22095.931090  21059.226119\n",
       "std     2056.301758    525.542374\n",
       "min    19292.448322  19765.228481\n",
       "25%    20994.868691  21093.763746\n",
       "50%    21488.657723  21256.544599\n",
       "75%    22704.050400  21339.315213\n",
       "max    26698.288474  21512.516230"
      ]
     },
     "metadata": {},
     "output_type": "display_data"
    },
    {
     "name": "stdout",
     "output_type": "stream",
     "text": [
      "\n",
      "Distribuição de métricas de treino\n"
     ]
    },
    {
     "data": {
      "image/png": "[encoded data removed]",
      "text/plain": [
       "<Figure size 432x288 with 1 Axes>"
      ]
     },
     "metadata": {
      "needs_background": "light"
     },
     "output_type": "display_data"
    },
    {
     "name": "stdout",
     "output_type": "stream",
     "text": [
      "\n",
      "Distribuição de métricas de teste\n"
     ]
    },
    {
     "data": {
      "image/png": "[encoded data removed]",
      "text/plain": [
       "<Figure size 432x288 with 1 Axes>"
      ]
     },
     "metadata": {
      "needs_background": "light"
     },
     "output_type": "display_data"
    },
    {
     "name": "stdout",
     "output_type": "stream",
     "text": [
      "\n",
      "As duas juntas (compara a variância!)\n"
     ]
    },
    {
     "data": {
      "image/png": "[encoded data removed]",
      "text/plain": [
       "<Figure size 432x288 with 1 Axes>"
      ]
     },
     "metadata": {
      "needs_background": "light"
     },
     "output_type": "display_data"
    }
   ],
   "source": [
    "_ = calc_cv(estimator=LinearRegression(), \n",
    "            X=X_train_model, y=y_train, n_splits=10, scoring=\"neg_mean_absolute_error\", plot_distros=True)"
   ]
  },
  {
   "cell_type": "markdown",
   "metadata": {},
   "source": [
    "Caso queira usar mais métricas de uma vez... SEM PROBLEMAS :)"
   ]
  },
  {
   "cell_type": "code",
   "execution_count": 60,
   "metadata": {
    "ExecuteTime": {
     "end_time": "2022-05-25T00:36:21.132784Z",
     "start_time": "2022-05-25T00:36:20.839984Z"
    }
   },
   "outputs": [
    {
     "data": {
      "text/plain": [
       "['fit_time',\n",
       " 'score_time',\n",
       " 'test_neg_mean_absolute_error',\n",
       " 'train_neg_mean_absolute_error',\n",
       " 'test_neg_root_mean_squared_error',\n",
       " 'train_neg_root_mean_squared_error',\n",
       " 'test_r2',\n",
       " 'train_r2']"
      ]
     },
     "execution_count": 60,
     "metadata": {},
     "output_type": "execute_result"
    }
   ],
   "source": [
    "estimador = LinearRegression()\n",
    "kf = KFold(n_splits=5, shuffle=True, random_state=42)\n",
    "scoring=(\"neg_mean_absolute_error\", \"neg_root_mean_squared_error\", \"r2\")\n",
    "\n",
    "results_cv = cross_validate(estimator=estimador,\n",
    "                               X=X_train_model, y=y_train,\n",
    "                               cv=kf, scoring=scoring,\n",
    "                               return_train_score=True)\n",
    "\n",
    "# .abs() pra deixar as métricas positivas\n",
    "results_cv_df = pd.DataFrame(results_cv).abs()\n",
    "\n",
    "results_cv_df.columns.tolist()"
   ]
  },
  {
   "cell_type": "markdown",
   "metadata": {},
   "source": [
    "Se eu simplesmente usar a função como acima, vai dar um erro devido aos muitos scores que temos agora!!!"
   ]
  },
  {
   "cell_type": "code",
   "execution_count": 62,
   "metadata": {
    "ExecuteTime": {
     "end_time": "2022-05-25T00:38:20.313933Z",
     "start_time": "2022-05-25T00:38:20.165018Z"
    }
   },
   "outputs": [],
   "source": [
    "## descomente, caso queira ver o erro!\n",
    "\n",
    "# _ = calc_cv(estimator=LinearRegression(), \n",
    "#             X=X_train_model, y=y_train, n_splits=10, \n",
    "#             scoring=(\"neg_mean_absolute_error\", \"neg_root_mean_squared_error\", \"r2\"),\n",
    "#             plot_distros=True)"
   ]
  },
  {
   "cell_type": "markdown",
   "metadata": {},
   "source": [
    "Adaptando a função:"
   ]
  },
  {
   "cell_type": "code",
   "execution_count": 94,
   "metadata": {
    "ExecuteTime": {
     "end_time": "2022-05-25T00:52:17.142040Z",
     "start_time": "2022-05-25T00:52:16.975149Z"
    }
   },
   "outputs": [],
   "source": [
    "def extrai_nome_metrica(str_metrica):\n",
    "    '''\n",
    "    - str_metrica: alguma string de metrica do sklearn, que sai do cross_validate com o prefixo \"train_\" ou \"test_\"\n",
    "    (veja aqui os exemplos: https://scikit-learn.org/stable/modules/model_evaluation.html#scoring-parameter)\n",
    "    \n",
    "    - type_metric: \"train_\" ou \"test_\", dependendo do que temos\n",
    "    '''\n",
    "    \n",
    "    type_metric = str_metrica.split(\"_\")[0] + \"_\"\n",
    "    \n",
    "    return str_metrica.split(type_metric)[-1].replace(\"neg_\", \"\").replace(\"_\", \" \")"
   ]
  },
  {
   "cell_type": "code",
   "execution_count": 100,
   "metadata": {
    "ExecuteTime": {
     "end_time": "2022-05-25T00:57:06.342140Z",
     "start_time": "2022-05-25T00:56:59.186840Z"
    },
    "scrolled": true
   },
   "outputs": [
    {
     "name": "stdout",
     "output_type": "stream",
     "text": [
      "\n",
      "Distribuição da métrica de avaliação mean absolute error:\n"
     ]
    },
    {
     "data": {
      "text/html": [
       "<div>\n",
       "<style scoped>\n",
       "    .dataframe tbody tr th:only-of-type {\n",
       "        vertical-align: middle;\n",
       "    }\n",
       "\n",
       "    .dataframe tbody tr th {\n",
       "        vertical-align: top;\n",
       "    }\n",
       "\n",
       "    .dataframe thead th {\n",
       "        text-align: right;\n",
       "    }\n",
       "</style>\n",
       "<table border=\"1\" class=\"dataframe\">\n",
       "  <thead>\n",
       "    <tr style=\"text-align: right;\">\n",
       "      <th></th>\n",
       "      <th>test_neg_mean_absolute_error</th>\n",
       "      <th>train_neg_mean_absolute_error</th>\n",
       "    </tr>\n",
       "  </thead>\n",
       "  <tbody>\n",
       "    <tr>\n",
       "      <th>count</th>\n",
       "      <td>5.000000</td>\n",
       "      <td>5.000000</td>\n",
       "    </tr>\n",
       "    <tr>\n",
       "      <th>mean</th>\n",
       "      <td>22402.774513</td>\n",
       "      <td>21072.347663</td>\n",
       "    </tr>\n",
       "    <tr>\n",
       "      <th>std</th>\n",
       "      <td>1316.479502</td>\n",
       "      <td>778.323963</td>\n",
       "    </tr>\n",
       "    <tr>\n",
       "      <th>min</th>\n",
       "      <td>20521.754441</td>\n",
       "      <td>19887.554681</td>\n",
       "    </tr>\n",
       "    <tr>\n",
       "      <th>25%</th>\n",
       "      <td>21666.364138</td>\n",
       "      <td>20814.936385</td>\n",
       "    </tr>\n",
       "    <tr>\n",
       "      <th>50%</th>\n",
       "      <td>22691.260077</td>\n",
       "      <td>21170.573062</td>\n",
       "    </tr>\n",
       "    <tr>\n",
       "      <th>75%</th>\n",
       "      <td>23398.842213</td>\n",
       "      <td>21602.263215</td>\n",
       "    </tr>\n",
       "    <tr>\n",
       "      <th>max</th>\n",
       "      <td>23735.651696</td>\n",
       "      <td>21886.410970</td>\n",
       "    </tr>\n",
       "  </tbody>\n",
       "</table>\n",
       "</div>"
      ],
      "text/plain": [
       "       test_neg_mean_absolute_error  train_neg_mean_absolute_error\n",
       "count                      5.000000                       5.000000\n",
       "mean                   22402.774513                   21072.347663\n",
       "std                     1316.479502                     778.323963\n",
       "min                    20521.754441                   19887.554681\n",
       "25%                    21666.364138                   20814.936385\n",
       "50%                    22691.260077                   21170.573062\n",
       "75%                    23398.842213                   21602.263215\n",
       "max                    23735.651696                   21886.410970"
      ]
     },
     "metadata": {},
     "output_type": "display_data"
    },
    {
     "name": "stdout",
     "output_type": "stream",
     "text": [
      "\n",
      "Distribuição de mean absolute error de treino\n"
     ]
    },
    {
     "data": {
      "image/png": "[encoded data removed]",
      "text/plain": [
       "<Figure size 432x288 with 1 Axes>"
      ]
     },
     "metadata": {
      "needs_background": "light"
     },
     "output_type": "display_data"
    },
    {
     "name": "stdout",
     "output_type": "stream",
     "text": [
      "\n",
      "Distribuição de mean absolute error de teste\n"
     ]
    },
    {
     "data": {
      "image/png": "[encoded data removed]",
      "text/plain": [
       "<Figure size 432x288 with 1 Axes>"
      ]
     },
     "metadata": {
      "needs_background": "light"
     },
     "output_type": "display_data"
    },
    {
     "name": "stdout",
     "output_type": "stream",
     "text": [
      "\n",
      "As duas juntas (compara a variância!)\n"
     ]
    },
    {
     "data": {
      "image/png": "[encoded data removed]",
      "text/plain": [
       "<Figure size 432x288 with 1 Axes>"
      ]
     },
     "metadata": {
      "needs_background": "light"
     },
     "output_type": "display_data"
    },
    {
     "name": "stdout",
     "output_type": "stream",
     "text": [
      "################################################################################\n",
      "\n",
      "Distribuição da métrica de avaliação root mean squared error:\n"
     ]
    },
    {
     "data": {
      "text/html": [
       "<div>\n",
       "<style scoped>\n",
       "    .dataframe tbody tr th:only-of-type {\n",
       "        vertical-align: middle;\n",
       "    }\n",
       "\n",
       "    .dataframe tbody tr th {\n",
       "        vertical-align: top;\n",
       "    }\n",
       "\n",
       "    .dataframe thead th {\n",
       "        text-align: right;\n",
       "    }\n",
       "</style>\n",
       "<table border=\"1\" class=\"dataframe\">\n",
       "  <thead>\n",
       "    <tr style=\"text-align: right;\">\n",
       "      <th></th>\n",
       "      <th>test_neg_root_mean_squared_error</th>\n",
       "      <th>train_neg_root_mean_squared_error</th>\n",
       "    </tr>\n",
       "  </thead>\n",
       "  <tbody>\n",
       "    <tr>\n",
       "      <th>count</th>\n",
       "      <td>5.000000</td>\n",
       "      <td>5.000000</td>\n",
       "    </tr>\n",
       "    <tr>\n",
       "      <th>mean</th>\n",
       "      <td>36793.293742</td>\n",
       "      <td>33835.745700</td>\n",
       "    </tr>\n",
       "    <tr>\n",
       "      <th>std</th>\n",
       "      <td>8641.698242</td>\n",
       "      <td>2115.490913</td>\n",
       "    </tr>\n",
       "    <tr>\n",
       "      <th>min</th>\n",
       "      <td>28685.883135</td>\n",
       "      <td>30435.381888</td>\n",
       "    </tr>\n",
       "    <tr>\n",
       "      <th>25%</th>\n",
       "      <td>32586.660387</td>\n",
       "      <td>33175.025513</td>\n",
       "    </tr>\n",
       "    <tr>\n",
       "      <th>50%</th>\n",
       "      <td>32727.060938</td>\n",
       "      <td>34875.878812</td>\n",
       "    </tr>\n",
       "    <tr>\n",
       "      <th>75%</th>\n",
       "      <td>39300.169837</td>\n",
       "      <td>34987.589736</td>\n",
       "    </tr>\n",
       "    <tr>\n",
       "      <th>max</th>\n",
       "      <td>50666.694412</td>\n",
       "      <td>35704.852552</td>\n",
       "    </tr>\n",
       "  </tbody>\n",
       "</table>\n",
       "</div>"
      ],
      "text/plain": [
       "       test_neg_root_mean_squared_error  train_neg_root_mean_squared_error\n",
       "count                          5.000000                           5.000000\n",
       "mean                       36793.293742                       33835.745700\n",
       "std                         8641.698242                        2115.490913\n",
       "min                        28685.883135                       30435.381888\n",
       "25%                        32586.660387                       33175.025513\n",
       "50%                        32727.060938                       34875.878812\n",
       "75%                        39300.169837                       34987.589736\n",
       "max                        50666.694412                       35704.852552"
      ]
     },
     "metadata": {},
     "output_type": "display_data"
    },
    {
     "name": "stdout",
     "output_type": "stream",
     "text": [
      "\n",
      "Distribuição de root mean squared error de treino\n"
     ]
    },
    {
     "data": {
      "image/png": "[encoded data removed]",
      "text/plain": [
       "<Figure size 432x288 with 1 Axes>"
      ]
     },
     "metadata": {
      "needs_background": "light"
     },
     "output_type": "display_data"
    },
    {
     "name": "stdout",
     "output_type": "stream",
     "text": [
      "\n",
      "Distribuição de root mean squared error de teste\n"
     ]
    },
    {
     "data": {
      "image/png": "[encoded data removed]",
      "text/plain": [
       "<Figure size 432x288 with 1 Axes>"
      ]
     },
     "metadata": {
      "needs_background": "light"
     },
     "output_type": "display_data"
    },
    {
     "name": "stdout",
     "output_type": "stream",
     "text": [
      "\n",
      "As duas juntas (compara a variância!)\n"
     ]
    },
    {
     "data": {
      "image/png": "[encoded data removed]",
      "text/plain": [
       "<Figure size 432x288 with 1 Axes>"
      ]
     },
     "metadata": {
      "needs_background": "light"
     },
     "output_type": "display_data"
    },
    {
     "name": "stdout",
     "output_type": "stream",
     "text": [
      "################################################################################\n",
      "\n",
      "Distribuição da métrica de avaliação r2:\n"
     ]
    },
    {
     "data": {
      "text/html": [
       "<div>\n",
       "<style scoped>\n",
       "    .dataframe tbody tr th:only-of-type {\n",
       "        vertical-align: middle;\n",
       "    }\n",
       "\n",
       "    .dataframe tbody tr th {\n",
       "        vertical-align: top;\n",
       "    }\n",
       "\n",
       "    .dataframe thead th {\n",
       "        text-align: right;\n",
       "    }\n",
       "</style>\n",
       "<table border=\"1\" class=\"dataframe\">\n",
       "  <thead>\n",
       "    <tr style=\"text-align: right;\">\n",
       "      <th></th>\n",
       "      <th>test_r2</th>\n",
       "      <th>train_r2</th>\n",
       "    </tr>\n",
       "  </thead>\n",
       "  <tbody>\n",
       "    <tr>\n",
       "      <th>count</th>\n",
       "      <td>5.000000</td>\n",
       "      <td>5.000000</td>\n",
       "    </tr>\n",
       "    <tr>\n",
       "      <th>mean</th>\n",
       "      <td>0.767744</td>\n",
       "      <td>0.807702</td>\n",
       "    </tr>\n",
       "    <tr>\n",
       "      <th>std</th>\n",
       "      <td>0.093329</td>\n",
       "      <td>0.020297</td>\n",
       "    </tr>\n",
       "    <tr>\n",
       "      <th>min</th>\n",
       "      <td>0.618834</td>\n",
       "      <td>0.791676</td>\n",
       "    </tr>\n",
       "    <tr>\n",
       "      <th>25%</th>\n",
       "      <td>0.736132</td>\n",
       "      <td>0.792242</td>\n",
       "    </tr>\n",
       "    <tr>\n",
       "      <th>50%</th>\n",
       "      <td>0.805443</td>\n",
       "      <td>0.798958</td>\n",
       "    </tr>\n",
       "    <tr>\n",
       "      <th>75%</th>\n",
       "      <td>0.834299</td>\n",
       "      <td>0.816274</td>\n",
       "    </tr>\n",
       "    <tr>\n",
       "      <th>max</th>\n",
       "      <td>0.844014</td>\n",
       "      <td>0.839359</td>\n",
       "    </tr>\n",
       "  </tbody>\n",
       "</table>\n",
       "</div>"
      ],
      "text/plain": [
       "        test_r2  train_r2\n",
       "count  5.000000  5.000000\n",
       "mean   0.767744  0.807702\n",
       "std    0.093329  0.020297\n",
       "min    0.618834  0.791676\n",
       "25%    0.736132  0.792242\n",
       "50%    0.805443  0.798958\n",
       "75%    0.834299  0.816274\n",
       "max    0.844014  0.839359"
      ]
     },
     "metadata": {},
     "output_type": "display_data"
    },
    {
     "name": "stdout",
     "output_type": "stream",
     "text": [
      "\n",
      "Distribuição de r2 de treino\n"
     ]
    },
    {
     "data": {
      "image/png": "[encoded data removed]",
      "text/plain": [
       "<Figure size 432x288 with 1 Axes>"
      ]
     },
     "metadata": {
      "needs_background": "light"
     },
     "output_type": "display_data"
    },
    {
     "name": "stdout",
     "output_type": "stream",
     "text": [
      "\n",
      "Distribuição de r2 de teste\n"
     ]
    },
    {
     "data": {
      "image/png": "[encoded data removed]",
      "text/plain": [
       "<Figure size 432x288 with 1 Axes>"
      ]
     },
     "metadata": {
      "needs_background": "light"
     },
     "output_type": "display_data"
    },
    {
     "name": "stdout",
     "output_type": "stream",
     "text": [
      "\n",
      "As duas juntas (compara a variância!)\n"
     ]
    },
    {
     "data": {
      "image/png": "[encoded data removed]",
      "text/plain": [
       "<Figure size 432x288 with 1 Axes>"
      ]
     },
     "metadata": {
      "needs_background": "light"
     },
     "output_type": "display_data"
    },
    {
     "name": "stdout",
     "output_type": "stream",
     "text": [
      "################################################################################\n"
     ]
    }
   ],
   "source": [
    "colunas_metricas = results_cv_df.columns.tolist()[2:]\n",
    "\n",
    "for i in range(0, len(colunas_metricas), 2):\n",
    "    \n",
    "    # colunas de teste e treino\n",
    "    col_test, col_train = colunas_metricas[i], colunas_metricas[i+1]\n",
    "        \n",
    "    # estrai o \"test_\", e dá apenas a string referente à metrica (sem o underline!!)\n",
    "    str_metrica = extrai_nome_metrica(col_test)\n",
    "\n",
    "    print(f\"\\nDistribuição da métrica de avaliação {str_metrica}:\")\n",
    "    \n",
    "    display(results_cv_df[[col_test, col_train]].describe())\n",
    "    \n",
    "    print(f\"\\nDistribuição de {str_metrica} de treino\")\n",
    "    sns.histplot(data=results_cv_df, x=col_train, kde=True, color=\"orange\")\n",
    "    plt.show()\n",
    "\n",
    "    print(f\"\\nDistribuição de {str_metrica} de teste\")\n",
    "    sns.histplot(data=results_cv_df, x=col_test, kde=True)\n",
    "    plt.show()\n",
    "\n",
    "    print(\"\\nAs duas juntas (compara a variância!)\")\n",
    "    sns.histplot(data=results_cv_df, x=col_train, kde=True, color=\"orange\", label=\"treino\")\n",
    "    sns.histplot(data=results_cv_df, x=col_test, kde=True, label=\"teste\")\n",
    "    plt.legend()\n",
    "    plt.show()\n",
    "    \n",
    "    print(\"#\"*80)"
   ]
  },
  {
   "cell_type": "markdown",
   "metadata": {},
   "source": [
    "Entendida a construção acima, vamos pra função:"
   ]
  },
  {
   "cell_type": "code",
   "execution_count": 101,
   "metadata": {
    "ExecuteTime": {
     "end_time": "2022-05-25T00:59:15.547676Z",
     "start_time": "2022-05-25T00:59:15.370777Z"
    }
   },
   "outputs": [],
   "source": [
    "def calc_cv(estimator, X, y, n_splits, scoring, plot_distros=False):\n",
    "    \n",
    "    kf = KFold(n_splits=n_splits, shuffle=True, random_state=42)\n",
    "    \n",
    "    results_cv = cross_validate(estimator=estimador,\n",
    "                                X=X, y=y,\n",
    "                                cv=kf, scoring=scoring,\n",
    "                                return_train_score=True)\n",
    "\n",
    "    # .abs() pra deixar as métricas positivas\n",
    "    results_cv_df = pd.DataFrame(results_cv).abs()\n",
    "    \n",
    "    # ================================================\n",
    "    \n",
    "    colunas_metricas = results_cv_df.columns.tolist()[2:]\n",
    "\n",
    "    for i in range(0, len(colunas_metricas), 2):\n",
    "\n",
    "        # colunas de teste e treino\n",
    "        col_test, col_train = colunas_metricas[i], colunas_metricas[i+1]\n",
    "\n",
    "        # estrai o \"test_\", e dá apenas a string referente à metrica (sem o underline!!)\n",
    "        str_metrica = extrai_nome_metrica(col_test)\n",
    "\n",
    "        print(f\"\\nDistribuição da métrica de avaliação {str_metrica}:\")\n",
    "\n",
    "        display(results_cv_df[[col_test, col_train]].describe())\n",
    "        \n",
    "        # ================================================\n",
    "\n",
    "        if plot_distros:\n",
    "            \n",
    "            print(f\"\\nDistribuição de {str_metrica} de treino\")\n",
    "            sns.histplot(data=results_cv_df, x=col_train, kde=True, color=\"orange\")\n",
    "            plt.show()\n",
    "\n",
    "            print(f\"\\nDistribuição de {str_metrica} de teste\")\n",
    "            sns.histplot(data=results_cv_df, x=col_test, kde=True)\n",
    "            plt.show()\n",
    "\n",
    "            print(\"\\nAs duas juntas (compara a variância!)\")\n",
    "            sns.histplot(data=results_cv_df, x=col_train, kde=True, color=\"orange\", label=\"treino\")\n",
    "            sns.histplot(data=results_cv_df, x=col_test, kde=True, label=\"teste\")\n",
    "            plt.legend()\n",
    "            plt.show()\n",
    "\n",
    "        print(\"#\"*80)\n",
    "    \n",
    "    # ================================================\n",
    "    \n",
    "    return results_cv_df"
   ]
  },
  {
   "cell_type": "code",
   "execution_count": 110,
   "metadata": {
    "ExecuteTime": {
     "end_time": "2022-05-25T01:10:05.842836Z",
     "start_time": "2022-05-25T01:10:05.194201Z"
    },
    "scrolled": true
   },
   "outputs": [
    {
     "name": "stdout",
     "output_type": "stream",
     "text": [
      "\n",
      "Distribuição da métrica de avaliação mean absolute error:\n"
     ]
    },
    {
     "data": {
      "text/html": [
       "<div>\n",
       "<style scoped>\n",
       "    .dataframe tbody tr th:only-of-type {\n",
       "        vertical-align: middle;\n",
       "    }\n",
       "\n",
       "    .dataframe tbody tr th {\n",
       "        vertical-align: top;\n",
       "    }\n",
       "\n",
       "    .dataframe thead th {\n",
       "        text-align: right;\n",
       "    }\n",
       "</style>\n",
       "<table border=\"1\" class=\"dataframe\">\n",
       "  <thead>\n",
       "    <tr style=\"text-align: right;\">\n",
       "      <th></th>\n",
       "      <th>test_neg_mean_absolute_error</th>\n",
       "      <th>train_neg_mean_absolute_error</th>\n",
       "    </tr>\n",
       "  </thead>\n",
       "  <tbody>\n",
       "    <tr>\n",
       "      <th>count</th>\n",
       "      <td>20.000000</td>\n",
       "      <td>20.000000</td>\n",
       "    </tr>\n",
       "    <tr>\n",
       "      <th>mean</th>\n",
       "      <td>22399.581016</td>\n",
       "      <td>21052.008916</td>\n",
       "    </tr>\n",
       "    <tr>\n",
       "      <th>std</th>\n",
       "      <td>3172.435943</td>\n",
       "      <td>278.638159</td>\n",
       "    </tr>\n",
       "    <tr>\n",
       "      <th>min</th>\n",
       "      <td>16313.681063</td>\n",
       "      <td>20063.295735</td>\n",
       "    </tr>\n",
       "    <tr>\n",
       "      <th>25%</th>\n",
       "      <td>21010.988793</td>\n",
       "      <td>20970.839118</td>\n",
       "    </tr>\n",
       "    <tr>\n",
       "      <th>50%</th>\n",
       "      <td>22210.768535</td>\n",
       "      <td>21103.084783</td>\n",
       "    </tr>\n",
       "    <tr>\n",
       "      <th>75%</th>\n",
       "      <td>23333.148693</td>\n",
       "      <td>21223.224998</td>\n",
       "    </tr>\n",
       "    <tr>\n",
       "      <th>max</th>\n",
       "      <td>29772.699285</td>\n",
       "      <td>21412.571326</td>\n",
       "    </tr>\n",
       "  </tbody>\n",
       "</table>\n",
       "</div>"
      ],
      "text/plain": [
       "       test_neg_mean_absolute_error  train_neg_mean_absolute_error\n",
       "count                     20.000000                      20.000000\n",
       "mean                   22399.581016                   21052.008916\n",
       "std                     3172.435943                     278.638159\n",
       "min                    16313.681063                   20063.295735\n",
       "25%                    21010.988793                   20970.839118\n",
       "50%                    22210.768535                   21103.084783\n",
       "75%                    23333.148693                   21223.224998\n",
       "max                    29772.699285                   21412.571326"
      ]
     },
     "metadata": {},
     "output_type": "display_data"
    },
    {
     "name": "stdout",
     "output_type": "stream",
     "text": [
      "################################################################################\n",
      "\n",
      "Distribuição da métrica de avaliação root mean squared error:\n"
     ]
    },
    {
     "data": {
      "text/html": [
       "<div>\n",
       "<style scoped>\n",
       "    .dataframe tbody tr th:only-of-type {\n",
       "        vertical-align: middle;\n",
       "    }\n",
       "\n",
       "    .dataframe tbody tr th {\n",
       "        vertical-align: top;\n",
       "    }\n",
       "\n",
       "    .dataframe thead th {\n",
       "        text-align: right;\n",
       "    }\n",
       "</style>\n",
       "<table border=\"1\" class=\"dataframe\">\n",
       "  <thead>\n",
       "    <tr style=\"text-align: right;\">\n",
       "      <th></th>\n",
       "      <th>test_neg_root_mean_squared_error</th>\n",
       "      <th>train_neg_root_mean_squared_error</th>\n",
       "    </tr>\n",
       "  </thead>\n",
       "  <tbody>\n",
       "    <tr>\n",
       "      <th>count</th>\n",
       "      <td>20.000000</td>\n",
       "      <td>20.000000</td>\n",
       "    </tr>\n",
       "    <tr>\n",
       "      <th>mean</th>\n",
       "      <td>36733.301638</td>\n",
       "      <td>34095.204700</td>\n",
       "    </tr>\n",
       "    <tr>\n",
       "      <th>std</th>\n",
       "      <td>16692.073882</td>\n",
       "      <td>927.796005</td>\n",
       "    </tr>\n",
       "    <tr>\n",
       "      <th>min</th>\n",
       "      <td>20808.560860</td>\n",
       "      <td>30833.666967</td>\n",
       "    </tr>\n",
       "    <tr>\n",
       "      <th>25%</th>\n",
       "      <td>27699.716056</td>\n",
       "      <td>34099.980640</td>\n",
       "    </tr>\n",
       "    <tr>\n",
       "      <th>50%</th>\n",
       "      <td>31437.743922</td>\n",
       "      <td>34419.467035</td>\n",
       "    </tr>\n",
       "    <tr>\n",
       "      <th>75%</th>\n",
       "      <td>37976.415587</td>\n",
       "      <td>34568.922366</td>\n",
       "    </tr>\n",
       "    <tr>\n",
       "      <th>max</th>\n",
       "      <td>89462.322496</td>\n",
       "      <td>34824.185022</td>\n",
       "    </tr>\n",
       "  </tbody>\n",
       "</table>\n",
       "</div>"
      ],
      "text/plain": [
       "       test_neg_root_mean_squared_error  train_neg_root_mean_squared_error\n",
       "count                         20.000000                          20.000000\n",
       "mean                       36733.301638                       34095.204700\n",
       "std                        16692.073882                         927.796005\n",
       "min                        20808.560860                       30833.666967\n",
       "25%                        27699.716056                       34099.980640\n",
       "50%                        31437.743922                       34419.467035\n",
       "75%                        37976.415587                       34568.922366\n",
       "max                        89462.322496                       34824.185022"
      ]
     },
     "metadata": {},
     "output_type": "display_data"
    },
    {
     "name": "stdout",
     "output_type": "stream",
     "text": [
      "################################################################################\n",
      "\n",
      "Distribuição da métrica de avaliação r2:\n"
     ]
    },
    {
     "data": {
      "text/html": [
       "<div>\n",
       "<style scoped>\n",
       "    .dataframe tbody tr th:only-of-type {\n",
       "        vertical-align: middle;\n",
       "    }\n",
       "\n",
       "    .dataframe tbody tr th {\n",
       "        vertical-align: top;\n",
       "    }\n",
       "\n",
       "    .dataframe thead th {\n",
       "        text-align: right;\n",
       "    }\n",
       "</style>\n",
       "<table border=\"1\" class=\"dataframe\">\n",
       "  <thead>\n",
       "    <tr style=\"text-align: right;\">\n",
       "      <th></th>\n",
       "      <th>test_r2</th>\n",
       "      <th>train_r2</th>\n",
       "    </tr>\n",
       "  </thead>\n",
       "  <tbody>\n",
       "    <tr>\n",
       "      <th>count</th>\n",
       "      <td>20.000000</td>\n",
       "      <td>20.000000</td>\n",
       "    </tr>\n",
       "    <tr>\n",
       "      <th>mean</th>\n",
       "      <td>0.830713</td>\n",
       "      <td>0.804912</td>\n",
       "    </tr>\n",
       "    <tr>\n",
       "      <th>std</th>\n",
       "      <td>0.192734</td>\n",
       "      <td>0.010387</td>\n",
       "    </tr>\n",
       "    <tr>\n",
       "      <th>min</th>\n",
       "      <td>0.497639</td>\n",
       "      <td>0.797680</td>\n",
       "    </tr>\n",
       "    <tr>\n",
       "      <th>25%</th>\n",
       "      <td>0.761789</td>\n",
       "      <td>0.799719</td>\n",
       "    </tr>\n",
       "    <tr>\n",
       "      <th>50%</th>\n",
       "      <td>0.844060</td>\n",
       "      <td>0.801384</td>\n",
       "    </tr>\n",
       "    <tr>\n",
       "      <th>75%</th>\n",
       "      <td>0.863993</td>\n",
       "      <td>0.805065</td>\n",
       "    </tr>\n",
       "    <tr>\n",
       "      <th>max</th>\n",
       "      <td>1.511230</td>\n",
       "      <td>0.844380</td>\n",
       "    </tr>\n",
       "  </tbody>\n",
       "</table>\n",
       "</div>"
      ],
      "text/plain": [
       "         test_r2   train_r2\n",
       "count  20.000000  20.000000\n",
       "mean    0.830713   0.804912\n",
       "std     0.192734   0.010387\n",
       "min     0.497639   0.797680\n",
       "25%     0.761789   0.799719\n",
       "50%     0.844060   0.801384\n",
       "75%     0.863993   0.805065\n",
       "max     1.511230   0.844380"
      ]
     },
     "metadata": {},
     "output_type": "display_data"
    },
    {
     "name": "stdout",
     "output_type": "stream",
     "text": [
      "################################################################################\n"
     ]
    }
   ],
   "source": [
    "_ = calc_cv(estimator=LinearRegression(), \n",
    "            X=X_train_model, y=y_train, n_splits=20, \n",
    "            scoring=(\"neg_mean_absolute_error\", \"neg_root_mean_squared_error\", \"r2\"),\n",
    "            plot_distros=False)"
   ]
  },
  {
   "cell_type": "code",
   "execution_count": 111,
   "metadata": {
    "ExecuteTime": {
     "end_time": "2022-05-25T01:10:55.407147Z",
     "start_time": "2022-05-25T01:10:55.232734Z"
    }
   },
   "outputs": [
    {
     "data": {
      "text/plain": [
       "(21264.339393562102, 23534.822638437898)"
      ]
     },
     "execution_count": 111,
     "metadata": {},
     "output_type": "execute_result"
    }
   ],
   "source": [
    "# isso é um protótipo (bem alto nivel) do intervalo de confiança pra media\n",
    "# mas lembre-se: há detalhes adicionais! lembre das aulas de estatistico!\n",
    "\n",
    "22399.581016 - 1.96*(3172.435943/np.sqrt(30)), 22399.581016 + 1.96*(3172.435943/np.sqrt(30))"
   ]
  },
  {
   "cell_type": "markdown",
   "metadata": {},
   "source": [
    "Lição de casa: construa os intervalos de confiança \"direito\"!!"
   ]
  },
  {
   "cell_type": "markdown",
   "metadata": {},
   "source": [
    "Mas, e daí? Como interpretamos isso acima?\n",
    "\n",
    "Vamos treinar o modelo com **todo** os dados de treino (ou seja, dessa vez, sem os splits), e depois calcular as métricas de avaliação, como fazíamos antes! (aqui entra a base de teste!)"
   ]
  },
  {
   "cell_type": "code",
   "execution_count": 107,
   "metadata": {
    "ExecuteTime": {
     "end_time": "2022-05-25T01:06:15.050004Z",
     "start_time": "2022-05-25T01:06:14.840533Z"
    }
   },
   "outputs": [
    {
     "name": "stdout",
     "output_type": "stream",
     "text": [
      "\n",
      "Métricas de avaliação (dados de treino):\n",
      "\n",
      "R^2: 0.80\n",
      "MAE: 21054.72\n",
      "RMSE: 34241.17\n",
      "MAPE: 12.42%\n",
      "\n",
      "\n",
      "\n",
      "Métricas de avaliação (dados de teste):\n",
      "\n",
      "R^2: 0.82\n",
      "MAE: 22938.25\n",
      "RMSE: 37312.27\n",
      "MAPE: 13.45%\n"
     ]
    }
   ],
   "source": [
    "model = LinearRegression().fit(X_train_model, y_train)\n",
    "\n",
    "_ = calc_reg_metrics(model, X_train_model, y_train, label=\"treino\", plot=False, dist_resids=False, print_stuff=True)\n",
    "\n",
    "print(\"\\n\")\n",
    "\n",
    "_ = calc_reg_metrics(model, X_test_model, y_test, label=\"teste\", plot=False, dist_resids=False, print_stuff=True)"
   ]
  },
  {
   "cell_type": "markdown",
   "metadata": {},
   "source": [
    "_______________"
   ]
  },
  {
   "cell_type": "markdown",
   "metadata": {},
   "source": [
    "____\n",
    "\n",
    "**Na prática**:\n",
    "\n",
    "Para bases maiores, nós fazemos realmente como está na figura lá em cima, isto é:\n",
    "\n",
    "- primeiro fazemos o train-test split;\n",
    "- aí, aplicamos CV na base de treino;\n",
    "- depois testamos na base de teste\n",
    "\n",
    "Isso é sobretudo importante no segundo \"uso\" do cv, que é otimização de hiperparâmetros, como veremos mais à frente!\n",
    "\n",
    "Mas, quando tivermos bases muito pequenas ($\\sim 10^2$ linhas), o train-test split pode não ser possível, e, nesse caso, trabalhamos apenas com as métricas da validação cruzada!"
   ]
  },
  {
   "cell_type": "markdown",
   "metadata": {},
   "source": [
    "_____\n",
    "\n",
    "Vamos agora ver um caso de **classificação**:"
   ]
  },
  {
   "cell_type": "code",
   "execution_count": null,
   "metadata": {
    "ExecuteTime": {
     "end_time": "2022-05-19T18:37:25.033607Z",
     "start_time": "2022-05-19T18:37:24.925556Z"
    }
   },
   "outputs": [],
   "source": [
    "df = pd.read_csv(\"../datasets/advertising.csv\")\n",
    "\n",
    "df_model = df.select_dtypes(include=np.number)\n",
    "\n",
    "X = df_model.drop(columns=\"Clicked on Ad\")\n",
    "y = df_model[\"Clicked on Ad\"]\n",
    "\n",
    "X_train, X_test, y_train, y_test = train_test_split(X, y, test_size=0.3, random_state=42)"
   ]
  },
  {
   "cell_type": "markdown",
   "metadata": {},
   "source": [
    "Agora, o CV, bem parecido com o que fizemos acima:\n",
    "\n",
    "- uma regressão logística com regularização l1 e fator de regularização (C) igual a 1.2;\n",
    "- 10 folds;\n",
    "- roc_auc como métrica de avaliação."
   ]
  },
  {
   "cell_type": "code",
   "execution_count": null,
   "metadata": {},
   "outputs": [],
   "source": []
  },
  {
   "cell_type": "markdown",
   "metadata": {},
   "source": [
    "____________\n",
    "\n",
    "## 2) Ajuste de hiperparâmetros\n",
    "\n",
    "Além de permitir uma avaliação mais robusta de um modelo, o CV pode também ser utilizado para um propósito muito importante: **a escolha de valores adequados de hiperparâmetros** de um modelo -- processo conhecido como **hyperparameter tuning**.\n",
    "\n",
    "<img src=https://www.okw.com/en/Com-Knobs/COM-KNOBS-class-OKW_GroupInfoImage500x408.jpg width=400>\n",
    "\n",
    "Na aula que vem vamos estudar uma forma mais estruturada de fazer este procedimento.\n",
    "\n",
    "Mas, nesta aula, vamos ver formas automáticas e diretas de aplicar CV aos modelos que conhecemos!\n",
    "\n",
    "Antes de irmos pra prática, uma pergunta importante é: **como/por que utilizar CV para o ajuste de hiperparâmetros?**\n",
    "\n",
    "Ao testarmos diferentes valores/combinações de hiperparâmetros em diferentes folds, temos uma estimativa mais realista sobre o efeito destas escolhas: se o resultado for bom em todos os folds (ou bom em média), temos um indicativo mais robusto de que de fato aquela é uma boa escolha. Em particular, fica muito mais difícil de cometermos **overfitting** através da escolha de hiperparâmetros que ajustem muito bem uma única base de treino. Faz sentido, né?\n",
    "\n",
    "Para saber mais sobre estas questões, sugiro [este post](https://towardsdatascience.com/cross-validation-and-hyperparameter-tuning-how-to-optimise-your-machine-learning-model-13f005af9d7d) e [este post](https://machinelearningmastery.com/nested-cross-validation-for-machine-learning-with-python/)."
   ]
  },
  {
   "cell_type": "markdown",
   "metadata": {},
   "source": [
    "No sklearn, temos o procedimento de CV incorporado a algumas classes de hipóteses:\n",
    "\n",
    "- [Lasso CV](https://scikit-learn.org/stable/modules/generated/sklearn.linear_model.LassoCV.html)\n",
    "- [Ridge CV](https://scikit-learn.org/stable/modules/generated/sklearn.linear_model.RidgeCV.html)\n",
    "- [ElasticNetCV](https://scikit-learn.org/stable/modules/generated/sklearn.linear_model.ElasticNetCV.html)\n",
    "- [LogisticRegressionCV](https://scikit-learn.org/stable/modules/generated/sklearn.linear_model.LogisticRegressionCV.html)\n",
    "\n",
    "Em todos os casos, é possível especificar uma lista de hiperparâmetros a serem percorridos, e o modelo com melhor hiperparâmetro (ou combinação de hiperparâmetros) é escolhido! "
   ]
  },
  {
   "cell_type": "markdown",
   "metadata": {},
   "source": [
    "Vamos pegar as bases acima e aplicar os métodos de CV built-in pra ver se encontramos resultados melhores:"
   ]
  },
  {
   "cell_type": "code",
   "execution_count": null,
   "metadata": {},
   "outputs": [],
   "source": []
  },
  {
   "cell_type": "markdown",
   "metadata": {},
   "source": [
    "Vamos tentar com o EN:"
   ]
  },
  {
   "cell_type": "code",
   "execution_count": null,
   "metadata": {},
   "outputs": [],
   "source": []
  },
  {
   "cell_type": "markdown",
   "metadata": {},
   "source": [
    "Na aula que vem, vamos aprender formas mais robustas de fazer o tunning de hiperparâmetros (GridSearch), e de estruturar melhor o passo-a-passo de modelagem (Pipeline). Até lá!"
   ]
  }
 ],
 "metadata": {
  "kernelspec": {
   "display_name": "Python 3",
   "language": "python",
   "name": "python3"
  },
  "language_info": {
   "codemirror_mode": {
    "name": "ipython",
    "version": 3
   },
   "file_extension": ".py",
   "mimetype": "text/x-python",
   "name": "python",
   "nbconvert_exporter": "python",
   "pygments_lexer": "ipython3",
   "version": "3.8.3"
  },
  "toc": {
   "base_numbering": 1,
   "nav_menu": {
    "height": "249.667px",
    "width": "359.667px"
   },
   "number_sections": true,
   "sideBar": true,
   "skip_h1_title": false,
   "title_cell": "Table of Contents",
   "title_sidebar": "Contents",
   "toc_cell": false,
   "toc_position": {},
   "toc_section_display": true,
   "toc_window_display": false
  },
  "varInspector": {
   "cols": {
    "lenName": 16,
    "lenType": 16,
    "lenVar": 40
   },
   "kernels_config": {
    "python": {
     "delete_cmd_postfix": "",
     "delete_cmd_prefix": "del ",
     "library": "var_list.py",
     "varRefreshCmd": "print(var_dic_list())"
    },
    "r": {
     "delete_cmd_postfix": ") ",
     "delete_cmd_prefix": "rm(",
     "library": "var_list.r",
     "varRefreshCmd": "cat(var_dic_list()) "
    }
   },
   "types_to_exclude": [
    "module",
    "function",
    "builtin_function_or_method",
    "instance",
    "_Feature"
   ],
   "window_display": false
  }
 },
 "nbformat": 4,
 "nbformat_minor": 2
}
