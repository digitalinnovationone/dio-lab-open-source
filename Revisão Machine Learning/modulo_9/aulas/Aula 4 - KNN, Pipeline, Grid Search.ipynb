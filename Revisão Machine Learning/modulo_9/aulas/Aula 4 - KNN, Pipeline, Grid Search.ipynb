{
 "cells": [
  {
   "cell_type": "markdown",
   "metadata": {},
   "source": [
    "# Aula 4 - KNN e ferramentas especiais\n",
    "\n",
    "Na aula de hoje, vamos explorar os seguintes tópicos em Python:\n",
    "\n",
    "- 1) KNN\n",
    "- 2) Ferramentas Especiais\n",
    "- 3) KNN para regressão"
   ]
  },
  {
   "cell_type": "code",
   "execution_count": 1,
   "metadata": {
    "ExecuteTime": {
     "end_time": "2022-05-31T21:59:13.289323Z",
     "start_time": "2022-05-31T21:59:13.112423Z"
    }
   },
   "outputs": [],
   "source": [
    "%load_ext autoreload\n",
    "%autoreload 2"
   ]
  },
  {
   "cell_type": "code",
   "execution_count": 98,
   "metadata": {
    "ExecuteTime": {
     "end_time": "2022-05-31T22:46:55.902139Z",
     "start_time": "2022-05-31T22:46:55.588185Z"
    }
   },
   "outputs": [],
   "source": [
    "from ml_utils import *"
   ]
  },
  {
   "cell_type": "markdown",
   "metadata": {},
   "source": [
    "____\n",
    "____\n",
    "____"
   ]
  },
  {
   "cell_type": "markdown",
   "metadata": {},
   "source": [
    "## 1) KNN\n",
    "\n",
    "Hoje conheceremos um novo algoritmo de aprendizagem (que inicialmente veremos no contexto de classificação): o KNN, que é a sigla de **k nearest neighbors**, ou seja, **k vizinhos mais próximos**.\n",
    "\n",
    "A ideia é bem simples: tomamos uma base de treino classificada (supervisionada). \n",
    "\n",
    "A cada observação de teste que queiramos classificar, tomamos **a classe como sendo a classe das $k$ observações que estão mais próximas do elemento a ser classificado**\n",
    "\n",
    "<img src=\"https://res.cloudinary.com/dyd911kmh/image/upload/f_auto,q_auto:best/v1531424125/KNN_final1_ibdm8a.png\" width=600>"
   ]
  },
  {
   "cell_type": "markdown",
   "metadata": {},
   "source": [
    "Este algoritmo é muito simples e intuitivo, mas há dois elementos de extrema importância:\n",
    "\n",
    "> Como medir a **distância** entre dados? Qual é a **métrica** adequada?\n",
    "\n",
    "Veremos que o sklearn nos permite escolher diferentes métricas de distância, o que é ótimo, pois assim podemos seguir a habitual abordagem: testar diferentes métricas, e escolher a que der melhores resultados!\n",
    "\n",
    "<img src=https://miro.medium.com/max/1400/1*FTVRr_Wqz-3_k6Mk6G4kew.png width=500>"
   ]
  },
  {
   "cell_type": "markdown",
   "metadata": {},
   "source": [
    "> Qual é o número de vizinhos adequados: i.e., **como escolher $k$?**\n",
    "\n",
    "Essa é uma escolha particularmente importante, pois escolhas diferentes de $k$ podem facilmente levar a classificações diferentes:\n",
    "\n",
    "<img src=\"https://helloacm.com/wp-content/uploads/2016/03/2012-10-26-knn-concept.png\" width=400>\n",
    "\n",
    "Veremos logo como escolher bons valores!"
   ]
  },
  {
   "cell_type": "markdown",
   "metadata": {},
   "source": [
    "> **Reflita e responda**: como a escolha de $k$ influencia a performance de generalização do modelo (isto é, seu comportamento no que diz respeito ao trade-off viés-variância)?\n",
    "><br><br>Dica: pense no que acontece nos extremos, $k=1$ e $k=N$, ond $N$ é o número de observações na base de treino."
   ]
  },
  {
   "cell_type": "markdown",
   "metadata": {},
   "source": [
    "Conclusão: \n",
    "\n",
    "- $k=1$ temos alta variância (overfitting - pense nos outliers!).\n",
    "\n",
    "- $k=N$ temos alto viés (underfitting - não aprendemos nada, só predizemos diretamente a classe majoritária na base de treino)."
   ]
  },
  {
   "cell_type": "markdown",
   "metadata": {},
   "source": [
    "Pra ilustrar este ponto, veja este site: http://vision.stanford.edu/teaching/cs231n-demos/knn/\n",
    "\n",
    "Valeo, Theo!"
   ]
  },
  {
   "cell_type": "markdown",
   "metadata": {},
   "source": [
    "As etapas do algoritmo são as seguintes:\n",
    "\n",
    "1. Recebe um dado não classificado;\n",
    "2. Mede sua distância (de acordo com a métrica desejada) a cada um dos elementos da base de treino;\n",
    "3. Obtém um *ranking* das distâncias, em ordem decrescente;\n",
    "4. Verifica a classe de cada da um dos *K* dados que tiveram a menor distância e conta a quantidade de cada classe;\n",
    "5. Toma como resultado a classe que mais apareceu (moda) dentre os dados que tiveram as menores distâncias;\n",
    "6. Classifica o novo dado com a classe tomada como resultado da classificação."
   ]
  },
  {
   "cell_type": "markdown",
   "metadata": {},
   "source": [
    "KNN é um método _lazy learner_ -- Ou seja, **não há uma etapa explícita de treinamento**, conforme vimos antes.\n",
    "\n",
    "Cada observação de teste é classificada por vez, segundo o passo a passo acima."
   ]
  },
  {
   "cell_type": "markdown",
   "metadata": {},
   "source": [
    "> **MUITO IMPORTANTE**: sempre devemos **escalar os dados** quando formos construir um modelo KNN! Reflita: por quê?"
   ]
  },
  {
   "cell_type": "markdown",
   "metadata": {},
   "source": [
    "#### Lendo conjunto de dados\n",
    "\n",
    "Como exemplo vamos utilizar dados de câncer de mama (o dataset que foi sugerido como exercício!), eles estão disponiveis no [UCI](https://archive.ics.uci.edu/ml/datasets/Breast+Cancer+Wisconsin+(Diagnostic)) ou pelo [kaggle](https://www.kaggle.com/uciml/breast-cancer-wisconsin-data). \n",
    "\n",
    "A ideia é que consigamos construir um modelo para classificar, com base em medidas fisiológicas, se um tumor é maligno ou benigno."
   ]
  },
  {
   "cell_type": "code",
   "execution_count": 3,
   "metadata": {
    "ExecuteTime": {
     "end_time": "2022-05-31T21:59:16.857114Z",
     "start_time": "2022-05-31T21:59:16.436474Z"
    }
   },
   "outputs": [],
   "source": [
    "df = pd.read_csv(\"../datasets/breast_cancer.csv\")"
   ]
  },
  {
   "cell_type": "code",
   "execution_count": 4,
   "metadata": {
    "ExecuteTime": {
     "end_time": "2022-05-31T21:59:17.247892Z",
     "start_time": "2022-05-31T21:59:16.893100Z"
    }
   },
   "outputs": [
    {
     "data": {
      "text/html": [
       "<div>\n",
       "<style scoped>\n",
       "    .dataframe tbody tr th:only-of-type {\n",
       "        vertical-align: middle;\n",
       "    }\n",
       "\n",
       "    .dataframe tbody tr th {\n",
       "        vertical-align: top;\n",
       "    }\n",
       "\n",
       "    .dataframe thead th {\n",
       "        text-align: right;\n",
       "    }\n",
       "</style>\n",
       "<table border=\"1\" class=\"dataframe\">\n",
       "  <thead>\n",
       "    <tr style=\"text-align: right;\">\n",
       "      <th></th>\n",
       "      <th>id</th>\n",
       "      <th>diagnosis</th>\n",
       "      <th>radius_mean</th>\n",
       "      <th>texture_mean</th>\n",
       "      <th>perimeter_mean</th>\n",
       "      <th>area_mean</th>\n",
       "      <th>smoothness_mean</th>\n",
       "      <th>compactness_mean</th>\n",
       "      <th>concavity_mean</th>\n",
       "      <th>concave points_mean</th>\n",
       "      <th>...</th>\n",
       "      <th>radius_worst</th>\n",
       "      <th>texture_worst</th>\n",
       "      <th>perimeter_worst</th>\n",
       "      <th>area_worst</th>\n",
       "      <th>smoothness_worst</th>\n",
       "      <th>compactness_worst</th>\n",
       "      <th>concavity_worst</th>\n",
       "      <th>concave points_worst</th>\n",
       "      <th>symmetry_worst</th>\n",
       "      <th>fractal_dimension_worst</th>\n",
       "    </tr>\n",
       "  </thead>\n",
       "  <tbody>\n",
       "    <tr>\n",
       "      <th>0</th>\n",
       "      <td>842302</td>\n",
       "      <td>M</td>\n",
       "      <td>17.99</td>\n",
       "      <td>10.38</td>\n",
       "      <td>122.80</td>\n",
       "      <td>1001.0</td>\n",
       "      <td>0.11840</td>\n",
       "      <td>0.27760</td>\n",
       "      <td>0.30010</td>\n",
       "      <td>0.14710</td>\n",
       "      <td>...</td>\n",
       "      <td>25.380</td>\n",
       "      <td>17.33</td>\n",
       "      <td>184.60</td>\n",
       "      <td>2019.0</td>\n",
       "      <td>0.16220</td>\n",
       "      <td>0.66560</td>\n",
       "      <td>0.7119</td>\n",
       "      <td>0.2654</td>\n",
       "      <td>0.4601</td>\n",
       "      <td>0.11890</td>\n",
       "    </tr>\n",
       "    <tr>\n",
       "      <th>1</th>\n",
       "      <td>842517</td>\n",
       "      <td>M</td>\n",
       "      <td>20.57</td>\n",
       "      <td>17.77</td>\n",
       "      <td>132.90</td>\n",
       "      <td>1326.0</td>\n",
       "      <td>0.08474</td>\n",
       "      <td>0.07864</td>\n",
       "      <td>0.08690</td>\n",
       "      <td>0.07017</td>\n",
       "      <td>...</td>\n",
       "      <td>24.990</td>\n",
       "      <td>23.41</td>\n",
       "      <td>158.80</td>\n",
       "      <td>1956.0</td>\n",
       "      <td>0.12380</td>\n",
       "      <td>0.18660</td>\n",
       "      <td>0.2416</td>\n",
       "      <td>0.1860</td>\n",
       "      <td>0.2750</td>\n",
       "      <td>0.08902</td>\n",
       "    </tr>\n",
       "    <tr>\n",
       "      <th>2</th>\n",
       "      <td>84300903</td>\n",
       "      <td>M</td>\n",
       "      <td>19.69</td>\n",
       "      <td>21.25</td>\n",
       "      <td>130.00</td>\n",
       "      <td>1203.0</td>\n",
       "      <td>0.10960</td>\n",
       "      <td>0.15990</td>\n",
       "      <td>0.19740</td>\n",
       "      <td>0.12790</td>\n",
       "      <td>...</td>\n",
       "      <td>23.570</td>\n",
       "      <td>25.53</td>\n",
       "      <td>152.50</td>\n",
       "      <td>1709.0</td>\n",
       "      <td>0.14440</td>\n",
       "      <td>0.42450</td>\n",
       "      <td>0.4504</td>\n",
       "      <td>0.2430</td>\n",
       "      <td>0.3613</td>\n",
       "      <td>0.08758</td>\n",
       "    </tr>\n",
       "    <tr>\n",
       "      <th>3</th>\n",
       "      <td>84348301</td>\n",
       "      <td>M</td>\n",
       "      <td>11.42</td>\n",
       "      <td>20.38</td>\n",
       "      <td>77.58</td>\n",
       "      <td>386.1</td>\n",
       "      <td>0.14250</td>\n",
       "      <td>0.28390</td>\n",
       "      <td>0.24140</td>\n",
       "      <td>0.10520</td>\n",
       "      <td>...</td>\n",
       "      <td>14.910</td>\n",
       "      <td>26.50</td>\n",
       "      <td>98.87</td>\n",
       "      <td>567.7</td>\n",
       "      <td>0.20980</td>\n",
       "      <td>0.86630</td>\n",
       "      <td>0.6869</td>\n",
       "      <td>0.2575</td>\n",
       "      <td>0.6638</td>\n",
       "      <td>0.17300</td>\n",
       "    </tr>\n",
       "    <tr>\n",
       "      <th>4</th>\n",
       "      <td>84358402</td>\n",
       "      <td>M</td>\n",
       "      <td>20.29</td>\n",
       "      <td>14.34</td>\n",
       "      <td>135.10</td>\n",
       "      <td>1297.0</td>\n",
       "      <td>0.10030</td>\n",
       "      <td>0.13280</td>\n",
       "      <td>0.19800</td>\n",
       "      <td>0.10430</td>\n",
       "      <td>...</td>\n",
       "      <td>22.540</td>\n",
       "      <td>16.67</td>\n",
       "      <td>152.20</td>\n",
       "      <td>1575.0</td>\n",
       "      <td>0.13740</td>\n",
       "      <td>0.20500</td>\n",
       "      <td>0.4000</td>\n",
       "      <td>0.1625</td>\n",
       "      <td>0.2364</td>\n",
       "      <td>0.07678</td>\n",
       "    </tr>\n",
       "    <tr>\n",
       "      <th>...</th>\n",
       "      <td>...</td>\n",
       "      <td>...</td>\n",
       "      <td>...</td>\n",
       "      <td>...</td>\n",
       "      <td>...</td>\n",
       "      <td>...</td>\n",
       "      <td>...</td>\n",
       "      <td>...</td>\n",
       "      <td>...</td>\n",
       "      <td>...</td>\n",
       "      <td>...</td>\n",
       "      <td>...</td>\n",
       "      <td>...</td>\n",
       "      <td>...</td>\n",
       "      <td>...</td>\n",
       "      <td>...</td>\n",
       "      <td>...</td>\n",
       "      <td>...</td>\n",
       "      <td>...</td>\n",
       "      <td>...</td>\n",
       "      <td>...</td>\n",
       "    </tr>\n",
       "    <tr>\n",
       "      <th>564</th>\n",
       "      <td>926424</td>\n",
       "      <td>M</td>\n",
       "      <td>21.56</td>\n",
       "      <td>22.39</td>\n",
       "      <td>142.00</td>\n",
       "      <td>1479.0</td>\n",
       "      <td>0.11100</td>\n",
       "      <td>0.11590</td>\n",
       "      <td>0.24390</td>\n",
       "      <td>0.13890</td>\n",
       "      <td>...</td>\n",
       "      <td>25.450</td>\n",
       "      <td>26.40</td>\n",
       "      <td>166.10</td>\n",
       "      <td>2027.0</td>\n",
       "      <td>0.14100</td>\n",
       "      <td>0.21130</td>\n",
       "      <td>0.4107</td>\n",
       "      <td>0.2216</td>\n",
       "      <td>0.2060</td>\n",
       "      <td>0.07115</td>\n",
       "    </tr>\n",
       "    <tr>\n",
       "      <th>565</th>\n",
       "      <td>926682</td>\n",
       "      <td>M</td>\n",
       "      <td>20.13</td>\n",
       "      <td>28.25</td>\n",
       "      <td>131.20</td>\n",
       "      <td>1261.0</td>\n",
       "      <td>0.09780</td>\n",
       "      <td>0.10340</td>\n",
       "      <td>0.14400</td>\n",
       "      <td>0.09791</td>\n",
       "      <td>...</td>\n",
       "      <td>23.690</td>\n",
       "      <td>38.25</td>\n",
       "      <td>155.00</td>\n",
       "      <td>1731.0</td>\n",
       "      <td>0.11660</td>\n",
       "      <td>0.19220</td>\n",
       "      <td>0.3215</td>\n",
       "      <td>0.1628</td>\n",
       "      <td>0.2572</td>\n",
       "      <td>0.06637</td>\n",
       "    </tr>\n",
       "    <tr>\n",
       "      <th>566</th>\n",
       "      <td>926954</td>\n",
       "      <td>M</td>\n",
       "      <td>16.60</td>\n",
       "      <td>28.08</td>\n",
       "      <td>108.30</td>\n",
       "      <td>858.1</td>\n",
       "      <td>0.08455</td>\n",
       "      <td>0.10230</td>\n",
       "      <td>0.09251</td>\n",
       "      <td>0.05302</td>\n",
       "      <td>...</td>\n",
       "      <td>18.980</td>\n",
       "      <td>34.12</td>\n",
       "      <td>126.70</td>\n",
       "      <td>1124.0</td>\n",
       "      <td>0.11390</td>\n",
       "      <td>0.30940</td>\n",
       "      <td>0.3403</td>\n",
       "      <td>0.1418</td>\n",
       "      <td>0.2218</td>\n",
       "      <td>0.07820</td>\n",
       "    </tr>\n",
       "    <tr>\n",
       "      <th>567</th>\n",
       "      <td>927241</td>\n",
       "      <td>M</td>\n",
       "      <td>20.60</td>\n",
       "      <td>29.33</td>\n",
       "      <td>140.10</td>\n",
       "      <td>1265.0</td>\n",
       "      <td>0.11780</td>\n",
       "      <td>0.27700</td>\n",
       "      <td>0.35140</td>\n",
       "      <td>0.15200</td>\n",
       "      <td>...</td>\n",
       "      <td>25.740</td>\n",
       "      <td>39.42</td>\n",
       "      <td>184.60</td>\n",
       "      <td>1821.0</td>\n",
       "      <td>0.16500</td>\n",
       "      <td>0.86810</td>\n",
       "      <td>0.9387</td>\n",
       "      <td>0.2650</td>\n",
       "      <td>0.4087</td>\n",
       "      <td>0.12400</td>\n",
       "    </tr>\n",
       "    <tr>\n",
       "      <th>568</th>\n",
       "      <td>92751</td>\n",
       "      <td>B</td>\n",
       "      <td>7.76</td>\n",
       "      <td>24.54</td>\n",
       "      <td>47.92</td>\n",
       "      <td>181.0</td>\n",
       "      <td>0.05263</td>\n",
       "      <td>0.04362</td>\n",
       "      <td>0.00000</td>\n",
       "      <td>0.00000</td>\n",
       "      <td>...</td>\n",
       "      <td>9.456</td>\n",
       "      <td>30.37</td>\n",
       "      <td>59.16</td>\n",
       "      <td>268.6</td>\n",
       "      <td>0.08996</td>\n",
       "      <td>0.06444</td>\n",
       "      <td>0.0000</td>\n",
       "      <td>0.0000</td>\n",
       "      <td>0.2871</td>\n",
       "      <td>0.07039</td>\n",
       "    </tr>\n",
       "  </tbody>\n",
       "</table>\n",
       "<p>569 rows × 32 columns</p>\n",
       "</div>"
      ],
      "text/plain": [
       "           id diagnosis  radius_mean  texture_mean  perimeter_mean  area_mean  \\\n",
       "0      842302         M        17.99         10.38          122.80     1001.0   \n",
       "1      842517         M        20.57         17.77          132.90     1326.0   \n",
       "2    84300903         M        19.69         21.25          130.00     1203.0   \n",
       "3    84348301         M        11.42         20.38           77.58      386.1   \n",
       "4    84358402         M        20.29         14.34          135.10     1297.0   \n",
       "..        ...       ...          ...           ...             ...        ...   \n",
       "564    926424         M        21.56         22.39          142.00     1479.0   \n",
       "565    926682         M        20.13         28.25          131.20     1261.0   \n",
       "566    926954         M        16.60         28.08          108.30      858.1   \n",
       "567    927241         M        20.60         29.33          140.10     1265.0   \n",
       "568     92751         B         7.76         24.54           47.92      181.0   \n",
       "\n",
       "     smoothness_mean  compactness_mean  concavity_mean  concave points_mean  \\\n",
       "0            0.11840           0.27760         0.30010              0.14710   \n",
       "1            0.08474           0.07864         0.08690              0.07017   \n",
       "2            0.10960           0.15990         0.19740              0.12790   \n",
       "3            0.14250           0.28390         0.24140              0.10520   \n",
       "4            0.10030           0.13280         0.19800              0.10430   \n",
       "..               ...               ...             ...                  ...   \n",
       "564          0.11100           0.11590         0.24390              0.13890   \n",
       "565          0.09780           0.10340         0.14400              0.09791   \n",
       "566          0.08455           0.10230         0.09251              0.05302   \n",
       "567          0.11780           0.27700         0.35140              0.15200   \n",
       "568          0.05263           0.04362         0.00000              0.00000   \n",
       "\n",
       "     ...  radius_worst  texture_worst  perimeter_worst  area_worst  \\\n",
       "0    ...        25.380          17.33           184.60      2019.0   \n",
       "1    ...        24.990          23.41           158.80      1956.0   \n",
       "2    ...        23.570          25.53           152.50      1709.0   \n",
       "3    ...        14.910          26.50            98.87       567.7   \n",
       "4    ...        22.540          16.67           152.20      1575.0   \n",
       "..   ...           ...            ...              ...         ...   \n",
       "564  ...        25.450          26.40           166.10      2027.0   \n",
       "565  ...        23.690          38.25           155.00      1731.0   \n",
       "566  ...        18.980          34.12           126.70      1124.0   \n",
       "567  ...        25.740          39.42           184.60      1821.0   \n",
       "568  ...         9.456          30.37            59.16       268.6   \n",
       "\n",
       "     smoothness_worst  compactness_worst  concavity_worst  \\\n",
       "0             0.16220            0.66560           0.7119   \n",
       "1             0.12380            0.18660           0.2416   \n",
       "2             0.14440            0.42450           0.4504   \n",
       "3             0.20980            0.86630           0.6869   \n",
       "4             0.13740            0.20500           0.4000   \n",
       "..                ...                ...              ...   \n",
       "564           0.14100            0.21130           0.4107   \n",
       "565           0.11660            0.19220           0.3215   \n",
       "566           0.11390            0.30940           0.3403   \n",
       "567           0.16500            0.86810           0.9387   \n",
       "568           0.08996            0.06444           0.0000   \n",
       "\n",
       "     concave points_worst  symmetry_worst  fractal_dimension_worst  \n",
       "0                  0.2654          0.4601                  0.11890  \n",
       "1                  0.1860          0.2750                  0.08902  \n",
       "2                  0.2430          0.3613                  0.08758  \n",
       "3                  0.2575          0.6638                  0.17300  \n",
       "4                  0.1625          0.2364                  0.07678  \n",
       "..                    ...             ...                      ...  \n",
       "564                0.2216          0.2060                  0.07115  \n",
       "565                0.1628          0.2572                  0.06637  \n",
       "566                0.1418          0.2218                  0.07820  \n",
       "567                0.2650          0.4087                  0.12400  \n",
       "568                0.0000          0.2871                  0.07039  \n",
       "\n",
       "[569 rows x 32 columns]"
      ]
     },
     "execution_count": 4,
     "metadata": {},
     "output_type": "execute_result"
    }
   ],
   "source": [
    "df"
   ]
  },
  {
   "cell_type": "code",
   "execution_count": 5,
   "metadata": {
    "ExecuteTime": {
     "end_time": "2022-05-31T21:59:17.451806Z",
     "start_time": "2022-05-31T21:59:17.251889Z"
    },
    "scrolled": true
   },
   "outputs": [
    {
     "name": "stdout",
     "output_type": "stream",
     "text": [
      "<class 'pandas.core.frame.DataFrame'>\n",
      "RangeIndex: 569 entries, 0 to 568\n",
      "Data columns (total 32 columns):\n",
      " #   Column                   Non-Null Count  Dtype  \n",
      "---  ------                   --------------  -----  \n",
      " 0   id                       569 non-null    int64  \n",
      " 1   diagnosis                569 non-null    object \n",
      " 2   radius_mean              569 non-null    float64\n",
      " 3   texture_mean             569 non-null    float64\n",
      " 4   perimeter_mean           569 non-null    float64\n",
      " 5   area_mean                569 non-null    float64\n",
      " 6   smoothness_mean          569 non-null    float64\n",
      " 7   compactness_mean         569 non-null    float64\n",
      " 8   concavity_mean           569 non-null    float64\n",
      " 9   concave points_mean      569 non-null    float64\n",
      " 10  symmetry_mean            569 non-null    float64\n",
      " 11  fractal_dimension_mean   569 non-null    float64\n",
      " 12  radius_se                569 non-null    float64\n",
      " 13  texture_se               569 non-null    float64\n",
      " 14  perimeter_se             569 non-null    float64\n",
      " 15  area_se                  569 non-null    float64\n",
      " 16  smoothness_se            569 non-null    float64\n",
      " 17  compactness_se           569 non-null    float64\n",
      " 18  concavity_se             569 non-null    float64\n",
      " 19  concave points_se        569 non-null    float64\n",
      " 20  symmetry_se              569 non-null    float64\n",
      " 21  fractal_dimension_se     569 non-null    float64\n",
      " 22  radius_worst             569 non-null    float64\n",
      " 23  texture_worst            569 non-null    float64\n",
      " 24  perimeter_worst          569 non-null    float64\n",
      " 25  area_worst               569 non-null    float64\n",
      " 26  smoothness_worst         569 non-null    float64\n",
      " 27  compactness_worst        569 non-null    float64\n",
      " 28  concavity_worst          569 non-null    float64\n",
      " 29  concave points_worst     569 non-null    float64\n",
      " 30  symmetry_worst           569 non-null    float64\n",
      " 31  fractal_dimension_worst  569 non-null    float64\n",
      "dtypes: float64(30), int64(1), object(1)\n",
      "memory usage: 142.4+ KB\n"
     ]
    }
   ],
   "source": [
    "df.info()"
   ]
  },
  {
   "cell_type": "code",
   "execution_count": 6,
   "metadata": {
    "ExecuteTime": {
     "end_time": "2022-05-31T21:59:17.798195Z",
     "start_time": "2022-05-31T21:59:17.453771Z"
    }
   },
   "outputs": [
    {
     "data": {
      "text/plain": [
       "id                         0\n",
       "diagnosis                  0\n",
       "radius_mean                0\n",
       "texture_mean               0\n",
       "perimeter_mean             0\n",
       "area_mean                  0\n",
       "smoothness_mean            0\n",
       "compactness_mean           0\n",
       "concavity_mean             0\n",
       "concave points_mean        0\n",
       "symmetry_mean              0\n",
       "fractal_dimension_mean     0\n",
       "radius_se                  0\n",
       "texture_se                 0\n",
       "perimeter_se               0\n",
       "area_se                    0\n",
       "smoothness_se              0\n",
       "compactness_se             0\n",
       "concavity_se               0\n",
       "concave points_se          0\n",
       "symmetry_se                0\n",
       "fractal_dimension_se       0\n",
       "radius_worst               0\n",
       "texture_worst              0\n",
       "perimeter_worst            0\n",
       "area_worst                 0\n",
       "smoothness_worst           0\n",
       "compactness_worst          0\n",
       "concavity_worst            0\n",
       "concave points_worst       0\n",
       "symmetry_worst             0\n",
       "fractal_dimension_worst    0\n",
       "dtype: int64"
      ]
     },
     "execution_count": 6,
     "metadata": {},
     "output_type": "execute_result"
    }
   ],
   "source": [
    "df.isnull().sum()"
   ]
  },
  {
   "cell_type": "markdown",
   "metadata": {},
   "source": [
    "A coluna de ID não dá nenhuma informação relevante: podemos eliminá-la"
   ]
  },
  {
   "cell_type": "code",
   "execution_count": 7,
   "metadata": {
    "ExecuteTime": {
     "end_time": "2022-05-31T21:59:18.031033Z",
     "start_time": "2022-05-31T21:59:17.800368Z"
    }
   },
   "outputs": [],
   "source": [
    "df = df.drop(columns=[\"id\"])"
   ]
  },
  {
   "cell_type": "markdown",
   "metadata": {},
   "source": [
    "Explore os dados! Essa é uma base muito rica, com muitas colunas! Aproveite este exemplo concreto para fazer muitas perguntas e respondê-las! Faça visualizações sempre que achar interessante!\n",
    "\n",
    "Vamos fazer um apenas pra treinar:"
   ]
  },
  {
   "cell_type": "code",
   "execution_count": 8,
   "metadata": {
    "ExecuteTime": {
     "end_time": "2022-05-31T21:59:22.005695Z",
     "start_time": "2022-05-31T21:59:18.036038Z"
    }
   },
   "outputs": [
    {
     "data": {
      "image/png": "[encoded data removed]",
      "text/plain": [
       "<Figure size 432x432 with 3 Axes>"
      ]
     },
     "metadata": {
      "needs_background": "light"
     },
     "output_type": "display_data"
    }
   ],
   "source": [
    "sns.jointplot(data = df, x=\"texture_mean\", y=\"radius_mean\");"
   ]
  },
  {
   "cell_type": "code",
   "execution_count": 9,
   "metadata": {
    "ExecuteTime": {
     "end_time": "2022-05-31T21:59:23.676736Z",
     "start_time": "2022-05-31T21:59:22.011690Z"
    }
   },
   "outputs": [
    {
     "data": {
      "image/png": "[encoded data removed]",
      "text/plain": [
       "<Figure size 432x432 with 3 Axes>"
      ]
     },
     "metadata": {
      "needs_background": "light"
     },
     "output_type": "display_data"
    }
   ],
   "source": [
    "sns.jointplot(data = df, x=\"texture_mean\", y=\"radius_mean\", hue=\"diagnosis\");"
   ]
  },
  {
   "cell_type": "code",
   "execution_count": 10,
   "metadata": {
    "ExecuteTime": {
     "end_time": "2022-05-31T21:59:23.894609Z",
     "start_time": "2022-05-31T21:59:23.683731Z"
    }
   },
   "outputs": [
    {
     "data": {
      "text/plain": [
       "(569, 31)"
      ]
     },
     "execution_count": 10,
     "metadata": {},
     "output_type": "execute_result"
    }
   ],
   "source": [
    "df.shape"
   ]
  },
  {
   "cell_type": "markdown",
   "metadata": {},
   "source": [
    "Uma pergunta é bastante importante: **as classes aparecem balanceadas, ou há algum desbalanço?**"
   ]
  },
  {
   "cell_type": "code",
   "execution_count": 11,
   "metadata": {
    "ExecuteTime": {
     "end_time": "2022-05-31T21:59:24.100493Z",
     "start_time": "2022-05-31T21:59:23.897610Z"
    }
   },
   "outputs": [
    {
     "data": {
      "text/plain": [
       "B    357\n",
       "M    212\n",
       "Name: diagnosis, dtype: int64"
      ]
     },
     "execution_count": 11,
     "metadata": {},
     "output_type": "execute_result"
    }
   ],
   "source": [
    "df[\"diagnosis\"].value_counts()"
   ]
  },
  {
   "cell_type": "code",
   "execution_count": 12,
   "metadata": {
    "ExecuteTime": {
     "end_time": "2022-05-31T21:59:24.241412Z",
     "start_time": "2022-05-31T21:59:24.104494Z"
    }
   },
   "outputs": [
    {
     "data": {
      "text/plain": [
       "B    62.741652\n",
       "M    37.258348\n",
       "Name: diagnosis, dtype: float64"
      ]
     },
     "execution_count": 12,
     "metadata": {},
     "output_type": "execute_result"
    }
   ],
   "source": [
    "df[\"diagnosis\"].value_counts(normalize=True)*100"
   ]
  },
  {
   "cell_type": "code",
   "execution_count": 13,
   "metadata": {
    "ExecuteTime": {
     "end_time": "2022-05-31T21:59:24.695675Z",
     "start_time": "2022-05-31T21:59:24.243410Z"
    }
   },
   "outputs": [
    {
     "data": {
      "text/plain": [
       "<AxesSubplot:xlabel='diagnosis', ylabel='count'>"
      ]
     },
     "execution_count": 13,
     "metadata": {},
     "output_type": "execute_result"
    },
    {
     "data": {
      "image/png": "[encoded data removed]",
      "text/plain": [
       "<Figure size 432x288 with 1 Axes>"
      ]
     },
     "metadata": {
      "needs_background": "light"
     },
     "output_type": "display_data"
    }
   ],
   "source": [
    "sns.countplot(data=df, x=\"diagnosis\")"
   ]
  },
  {
   "cell_type": "markdown",
   "metadata": {},
   "source": [
    "Há um leve desbalanceamento: há mais dados de tumores benignos do que malignos. \n",
    "\n",
    "Como o desbalanceamento não é tão gritante assim (coisa de 80-20), e este desbalanço é algo natural, não vamos tratar este caso, vamos deixar para tratar um caso mais crítico.\n",
    "\n",
    "[Clique aqui](https://machinelearningmastery.com/what-is-imbalanced-classification/) para saber um pouco mais sobre desbalanceamento de classes; e [aqui](https://machinelearningmastery.com/tactics-to-combat-imbalanced-classes-in-your-machine-learning-dataset/) caso você queira saber algumas formas de endereçar este problema (spoilers!).\n",
    "\n",
    "Uma coisa importante é sempre setar o parâmetro `stratify` do train-test split, que vai garantir a mesma distribuição do target em ambos os conjuntos de treino e de teste! Isso faz com que a diferença na distribuição não se torne um fator adicional de viés na avaliação do modelo!"
   ]
  },
  {
   "cell_type": "code",
   "execution_count": 14,
   "metadata": {
    "ExecuteTime": {
     "end_time": "2022-05-31T21:59:25.273773Z",
     "start_time": "2022-05-31T21:59:24.698681Z"
    }
   },
   "outputs": [],
   "source": [
    "X = df.drop(columns=\"diagnosis\")\n",
    "y = df[\"diagnosis\"]\n",
    "\n",
    "X_train, X_test, y_train, y_test = train_test_split(X, y, \n",
    "                                                    test_size=0.2, random_state=42,\n",
    "                                                    stratify=y)"
   ]
  },
  {
   "cell_type": "code",
   "execution_count": 15,
   "metadata": {
    "ExecuteTime": {
     "end_time": "2022-05-31T21:59:25.508290Z",
     "start_time": "2022-05-31T21:59:25.273773Z"
    }
   },
   "outputs": [
    {
     "data": {
      "text/plain": [
       "B    62.741652\n",
       "M    37.258348\n",
       "Name: diagnosis, dtype: float64"
      ]
     },
     "execution_count": 15,
     "metadata": {},
     "output_type": "execute_result"
    }
   ],
   "source": [
    "df[\"diagnosis\"].value_counts(normalize=True)*100"
   ]
  },
  {
   "cell_type": "code",
   "execution_count": 16,
   "metadata": {
    "ExecuteTime": {
     "end_time": "2022-05-31T21:59:25.634601Z",
     "start_time": "2022-05-31T21:59:25.510289Z"
    }
   },
   "outputs": [
    {
     "data": {
      "text/plain": [
       "B    62.637363\n",
       "M    37.362637\n",
       "Name: diagnosis, dtype: float64"
      ]
     },
     "execution_count": 16,
     "metadata": {},
     "output_type": "execute_result"
    }
   ],
   "source": [
    "y_train.value_counts(normalize=True)*100"
   ]
  },
  {
   "cell_type": "code",
   "execution_count": 17,
   "metadata": {
    "ExecuteTime": {
     "end_time": "2022-05-31T21:59:25.761338Z",
     "start_time": "2022-05-31T21:59:25.637583Z"
    }
   },
   "outputs": [
    {
     "data": {
      "text/plain": [
       "B    63.157895\n",
       "M    36.842105\n",
       "Name: diagnosis, dtype: float64"
      ]
     },
     "execution_count": 17,
     "metadata": {},
     "output_type": "execute_result"
    }
   ],
   "source": [
    "y_test.value_counts(normalize=True)*100"
   ]
  },
  {
   "cell_type": "markdown",
   "metadata": {},
   "source": [
    "_____\n",
    "\n",
    "**Transformando os dados**\n",
    "\n",
    "O primeiro processo que pode ser feito para tunning do KNN é a **transformação das features**. \n",
    "\n",
    "Devido ao KNN utilizar **distâncias** como critério para classificação, ter as variaveis transformadas garante que sejam eliminados viéses relacionados à escala dos dados.\n",
    "\n",
    "Para **escalar os dados**, o sklearn nos proporciona diversos **scalers**. Já conhecemos o [MinMaxScaler](https://scikit-learn.org/stable/modules/generated/sklearn.preprocessing.MinMaxScaler.html). Outra opção é o [StandardScaler.](https://scikit-learn.org/stable/modules/generated/sklearn.preprocessing.StandardScaler.html)"
   ]
  },
  {
   "cell_type": "markdown",
   "metadata": {},
   "source": [
    "É **muito importante** que os transformers sejam fitados **com os dados de treino**, para que informações da base de teste não sejam utilizadas no treinamento (conceito conhecido como [data leakage](https://machinelearningmastery.com/data-preparation-without-data-leakage/)).\n",
    "\n",
    "No caso do standard scaler: o objetivo do `.fit()` é determinar a média $\\mu$ e desvio padrão $\\sigma$ dos dados, para que a normalização seja feita. Se calcularmos estes parâmetros usando **todos os dados**, estamos utilizando informações da base de teste -- o que, como sabemos, jamais deve ser feito!!\n",
    "\n",
    "Por isso, sempre siga o seguinte passo-a-passo par aplicação de transformers:\n",
    "\n",
    "- Primeiro, faça o train test split;\n",
    "- Use o `.fit()` nos dados de **treino**;\n",
    "- Use o `.transform()` pra trasnformar os dados de treino e de teste tbm -- com o **mesmo transformer treinado** com os dados de treino;"
   ]
  },
  {
   "cell_type": "markdown",
   "metadata": {},
   "source": [
    "Começaremos com o  [standard scaler](https://scikit-learn.org/stable/modules/generated/sklearn.preprocessing.StandardScaler.html) - **média 0 e std 1**"
   ]
  },
  {
   "cell_type": "code",
   "execution_count": 18,
   "metadata": {
    "ExecuteTime": {
     "end_time": "2022-05-31T21:59:25.919645Z",
     "start_time": "2022-05-31T21:59:25.763343Z"
    }
   },
   "outputs": [],
   "source": [
    "from sklearn.preprocessing import StandardScaler\n",
    "\n",
    "ss = StandardScaler().fit(X_train)\n",
    "\n",
    "X_train_ss = pd.DataFrame(ss.transform(X_train), columns=X_train.columns, index=X_train.index)\n",
    "X_test_ss = pd.DataFrame(ss.transform(X_test), columns=X_test.columns, index=X_test.index)"
   ]
  },
  {
   "cell_type": "code",
   "execution_count": 19,
   "metadata": {
    "ExecuteTime": {
     "end_time": "2022-05-31T21:59:26.171521Z",
     "start_time": "2022-05-31T21:59:25.922644Z"
    }
   },
   "outputs": [
    {
     "data": {
      "text/html": [
       "<div>\n",
       "<style scoped>\n",
       "    .dataframe tbody tr th:only-of-type {\n",
       "        vertical-align: middle;\n",
       "    }\n",
       "\n",
       "    .dataframe tbody tr th {\n",
       "        vertical-align: top;\n",
       "    }\n",
       "\n",
       "    .dataframe thead th {\n",
       "        text-align: right;\n",
       "    }\n",
       "</style>\n",
       "<table border=\"1\" class=\"dataframe\">\n",
       "  <thead>\n",
       "    <tr style=\"text-align: right;\">\n",
       "      <th></th>\n",
       "      <th>radius_mean</th>\n",
       "      <th>texture_mean</th>\n",
       "      <th>perimeter_mean</th>\n",
       "      <th>area_mean</th>\n",
       "      <th>smoothness_mean</th>\n",
       "      <th>compactness_mean</th>\n",
       "      <th>concavity_mean</th>\n",
       "      <th>concave points_mean</th>\n",
       "      <th>symmetry_mean</th>\n",
       "      <th>fractal_dimension_mean</th>\n",
       "      <th>...</th>\n",
       "      <th>radius_worst</th>\n",
       "      <th>texture_worst</th>\n",
       "      <th>perimeter_worst</th>\n",
       "      <th>area_worst</th>\n",
       "      <th>smoothness_worst</th>\n",
       "      <th>compactness_worst</th>\n",
       "      <th>concavity_worst</th>\n",
       "      <th>concave points_worst</th>\n",
       "      <th>symmetry_worst</th>\n",
       "      <th>fractal_dimension_worst</th>\n",
       "    </tr>\n",
       "  </thead>\n",
       "  <tbody>\n",
       "    <tr>\n",
       "      <th>count</th>\n",
       "      <td>4.550000e+02</td>\n",
       "      <td>4.550000e+02</td>\n",
       "      <td>4.550000e+02</td>\n",
       "      <td>4.550000e+02</td>\n",
       "      <td>4.550000e+02</td>\n",
       "      <td>4.550000e+02</td>\n",
       "      <td>4.550000e+02</td>\n",
       "      <td>4.550000e+02</td>\n",
       "      <td>4.550000e+02</td>\n",
       "      <td>4.550000e+02</td>\n",
       "      <td>...</td>\n",
       "      <td>4.550000e+02</td>\n",
       "      <td>4.550000e+02</td>\n",
       "      <td>4.550000e+02</td>\n",
       "      <td>4.550000e+02</td>\n",
       "      <td>4.550000e+02</td>\n",
       "      <td>4.550000e+02</td>\n",
       "      <td>4.550000e+02</td>\n",
       "      <td>4.550000e+02</td>\n",
       "      <td>4.550000e+02</td>\n",
       "      <td>4.550000e+02</td>\n",
       "    </tr>\n",
       "    <tr>\n",
       "      <th>mean</th>\n",
       "      <td>-1.820278e-16</td>\n",
       "      <td>3.693017e-16</td>\n",
       "      <td>4.958183e-16</td>\n",
       "      <td>-1.049222e-16</td>\n",
       "      <td>1.141944e-16</td>\n",
       "      <td>-2.151972e-16</td>\n",
       "      <td>-1.908120e-16</td>\n",
       "      <td>4.245688e-17</td>\n",
       "      <td>5.368111e-18</td>\n",
       "      <td>9.882205e-18</td>\n",
       "      <td>...</td>\n",
       "      <td>-3.794279e-16</td>\n",
       "      <td>2.318048e-16</td>\n",
       "      <td>-2.820698e-16</td>\n",
       "      <td>-8.784182e-18</td>\n",
       "      <td>-2.200926e-16</td>\n",
       "      <td>-1.156584e-16</td>\n",
       "      <td>-5.856121e-17</td>\n",
       "      <td>-8.052167e-17</td>\n",
       "      <td>-4.902062e-16</td>\n",
       "      <td>-2.577913e-16</td>\n",
       "    </tr>\n",
       "    <tr>\n",
       "      <th>std</th>\n",
       "      <td>1.001101e+00</td>\n",
       "      <td>1.001101e+00</td>\n",
       "      <td>1.001101e+00</td>\n",
       "      <td>1.001101e+00</td>\n",
       "      <td>1.001101e+00</td>\n",
       "      <td>1.001101e+00</td>\n",
       "      <td>1.001101e+00</td>\n",
       "      <td>1.001101e+00</td>\n",
       "      <td>1.001101e+00</td>\n",
       "      <td>1.001101e+00</td>\n",
       "      <td>...</td>\n",
       "      <td>1.001101e+00</td>\n",
       "      <td>1.001101e+00</td>\n",
       "      <td>1.001101e+00</td>\n",
       "      <td>1.001101e+00</td>\n",
       "      <td>1.001101e+00</td>\n",
       "      <td>1.001101e+00</td>\n",
       "      <td>1.001101e+00</td>\n",
       "      <td>1.001101e+00</td>\n",
       "      <td>1.001101e+00</td>\n",
       "      <td>1.001101e+00</td>\n",
       "    </tr>\n",
       "    <tr>\n",
       "      <th>min</th>\n",
       "      <td>-2.009730e+00</td>\n",
       "      <td>-2.265011e+00</td>\n",
       "      <td>-1.961360e+00</td>\n",
       "      <td>-1.433461e+00</td>\n",
       "      <td>-2.342455e+00</td>\n",
       "      <td>-1.568307e+00</td>\n",
       "      <td>-1.092835e+00</td>\n",
       "      <td>-1.236420e+00</td>\n",
       "      <td>-2.733834e+00</td>\n",
       "      <td>-1.791603e+00</td>\n",
       "      <td>...</td>\n",
       "      <td>-1.720204e+00</td>\n",
       "      <td>-2.286387e+00</td>\n",
       "      <td>-1.682868e+00</td>\n",
       "      <td>-1.212587e+00</td>\n",
       "      <td>-2.596976e+00</td>\n",
       "      <td>-1.442492e+00</td>\n",
       "      <td>-1.298977e+00</td>\n",
       "      <td>-1.729670e+00</td>\n",
       "      <td>-2.141576e+00</td>\n",
       "      <td>-1.602524e+00</td>\n",
       "    </tr>\n",
       "    <tr>\n",
       "      <th>25%</th>\n",
       "      <td>-6.869865e-01</td>\n",
       "      <td>-7.192578e-01</td>\n",
       "      <td>-6.877646e-01</td>\n",
       "      <td>-6.643427e-01</td>\n",
       "      <td>-7.599676e-01</td>\n",
       "      <td>-7.446452e-01</td>\n",
       "      <td>-7.311067e-01</td>\n",
       "      <td>-7.398554e-01</td>\n",
       "      <td>-7.042022e-01</td>\n",
       "      <td>-7.295506e-01</td>\n",
       "      <td>...</td>\n",
       "      <td>-6.805052e-01</td>\n",
       "      <td>-7.269867e-01</td>\n",
       "      <td>-6.949785e-01</td>\n",
       "      <td>-6.436573e-01</td>\n",
       "      <td>-7.475060e-01</td>\n",
       "      <td>-6.811748e-01</td>\n",
       "      <td>-7.355618e-01</td>\n",
       "      <td>-7.700379e-01</td>\n",
       "      <td>-6.377821e-01</td>\n",
       "      <td>-7.030095e-01</td>\n",
       "    </tr>\n",
       "    <tr>\n",
       "      <th>50%</th>\n",
       "      <td>-2.310610e-01</td>\n",
       "      <td>-1.207886e-01</td>\n",
       "      <td>-2.444667e-01</td>\n",
       "      <td>-3.143644e-01</td>\n",
       "      <td>-5.267576e-02</td>\n",
       "      <td>-2.145711e-01</td>\n",
       "      <td>-3.649669e-01</td>\n",
       "      <td>-3.954004e-01</td>\n",
       "      <td>-5.783428e-02</td>\n",
       "      <td>-2.031921e-01</td>\n",
       "      <td>...</td>\n",
       "      <td>-2.924054e-01</td>\n",
       "      <td>-6.996374e-02</td>\n",
       "      <td>-2.990905e-01</td>\n",
       "      <td>-3.561409e-01</td>\n",
       "      <td>-4.191078e-02</td>\n",
       "      <td>-2.454053e-01</td>\n",
       "      <td>-2.141609e-01</td>\n",
       "      <td>-2.170230e-01</td>\n",
       "      <td>-1.439281e-01</td>\n",
       "      <td>-2.222582e-01</td>\n",
       "    </tr>\n",
       "    <tr>\n",
       "      <th>75%</th>\n",
       "      <td>4.947835e-01</td>\n",
       "      <td>5.628428e-01</td>\n",
       "      <td>4.975359e-01</td>\n",
       "      <td>3.775369e-01</td>\n",
       "      <td>6.231343e-01</td>\n",
       "      <td>4.923801e-01</td>\n",
       "      <td>5.271006e-01</td>\n",
       "      <td>6.321626e-01</td>\n",
       "      <td>5.034376e-01</td>\n",
       "      <td>5.249492e-01</td>\n",
       "      <td>...</td>\n",
       "      <td>5.787764e-01</td>\n",
       "      <td>7.072664e-01</td>\n",
       "      <td>5.606441e-01</td>\n",
       "      <td>3.987080e-01</td>\n",
       "      <td>6.189186e-01</td>\n",
       "      <td>5.218523e-01</td>\n",
       "      <td>5.217957e-01</td>\n",
       "      <td>6.980537e-01</td>\n",
       "      <td>4.340876e-01</td>\n",
       "      <td>4.386715e-01</td>\n",
       "    </tr>\n",
       "    <tr>\n",
       "      <th>max</th>\n",
       "      <td>3.900239e+00</td>\n",
       "      <td>4.634299e+00</td>\n",
       "      <td>3.899731e+00</td>\n",
       "      <td>5.114742e+00</td>\n",
       "      <td>4.715773e+00</td>\n",
       "      <td>4.485809e+00</td>\n",
       "      <td>4.137033e+00</td>\n",
       "      <td>3.838961e+00</td>\n",
       "      <td>4.435961e+00</td>\n",
       "      <td>4.987148e+00</td>\n",
       "      <td>...</td>\n",
       "      <td>4.021630e+00</td>\n",
       "      <td>3.891934e+00</td>\n",
       "      <td>4.198771e+00</td>\n",
       "      <td>5.782013e+00</td>\n",
       "      <td>3.859114e+00</td>\n",
       "      <td>5.071677e+00</td>\n",
       "      <td>4.611335e+00</td>\n",
       "      <td>2.628551e+00</td>\n",
       "      <td>5.914120e+00</td>\n",
       "      <td>6.798089e+00</td>\n",
       "    </tr>\n",
       "  </tbody>\n",
       "</table>\n",
       "<p>8 rows × 30 columns</p>\n",
       "</div>"
      ],
      "text/plain": [
       "        radius_mean  texture_mean  perimeter_mean     area_mean  \\\n",
       "count  4.550000e+02  4.550000e+02    4.550000e+02  4.550000e+02   \n",
       "mean  -1.820278e-16  3.693017e-16    4.958183e-16 -1.049222e-16   \n",
       "std    1.001101e+00  1.001101e+00    1.001101e+00  1.001101e+00   \n",
       "min   -2.009730e+00 -2.265011e+00   -1.961360e+00 -1.433461e+00   \n",
       "25%   -6.869865e-01 -7.192578e-01   -6.877646e-01 -6.643427e-01   \n",
       "50%   -2.310610e-01 -1.207886e-01   -2.444667e-01 -3.143644e-01   \n",
       "75%    4.947835e-01  5.628428e-01    4.975359e-01  3.775369e-01   \n",
       "max    3.900239e+00  4.634299e+00    3.899731e+00  5.114742e+00   \n",
       "\n",
       "       smoothness_mean  compactness_mean  concavity_mean  concave points_mean  \\\n",
       "count     4.550000e+02      4.550000e+02    4.550000e+02         4.550000e+02   \n",
       "mean      1.141944e-16     -2.151972e-16   -1.908120e-16         4.245688e-17   \n",
       "std       1.001101e+00      1.001101e+00    1.001101e+00         1.001101e+00   \n",
       "min      -2.342455e+00     -1.568307e+00   -1.092835e+00        -1.236420e+00   \n",
       "25%      -7.599676e-01     -7.446452e-01   -7.311067e-01        -7.398554e-01   \n",
       "50%      -5.267576e-02     -2.145711e-01   -3.649669e-01        -3.954004e-01   \n",
       "75%       6.231343e-01      4.923801e-01    5.271006e-01         6.321626e-01   \n",
       "max       4.715773e+00      4.485809e+00    4.137033e+00         3.838961e+00   \n",
       "\n",
       "       symmetry_mean  fractal_dimension_mean  ...  radius_worst  \\\n",
       "count   4.550000e+02            4.550000e+02  ...  4.550000e+02   \n",
       "mean    5.368111e-18            9.882205e-18  ... -3.794279e-16   \n",
       "std     1.001101e+00            1.001101e+00  ...  1.001101e+00   \n",
       "min    -2.733834e+00           -1.791603e+00  ... -1.720204e+00   \n",
       "25%    -7.042022e-01           -7.295506e-01  ... -6.805052e-01   \n",
       "50%    -5.783428e-02           -2.031921e-01  ... -2.924054e-01   \n",
       "75%     5.034376e-01            5.249492e-01  ...  5.787764e-01   \n",
       "max     4.435961e+00            4.987148e+00  ...  4.021630e+00   \n",
       "\n",
       "       texture_worst  perimeter_worst    area_worst  smoothness_worst  \\\n",
       "count   4.550000e+02     4.550000e+02  4.550000e+02      4.550000e+02   \n",
       "mean    2.318048e-16    -2.820698e-16 -8.784182e-18     -2.200926e-16   \n",
       "std     1.001101e+00     1.001101e+00  1.001101e+00      1.001101e+00   \n",
       "min    -2.286387e+00    -1.682868e+00 -1.212587e+00     -2.596976e+00   \n",
       "25%    -7.269867e-01    -6.949785e-01 -6.436573e-01     -7.475060e-01   \n",
       "50%    -6.996374e-02    -2.990905e-01 -3.561409e-01     -4.191078e-02   \n",
       "75%     7.072664e-01     5.606441e-01  3.987080e-01      6.189186e-01   \n",
       "max     3.891934e+00     4.198771e+00  5.782013e+00      3.859114e+00   \n",
       "\n",
       "       compactness_worst  concavity_worst  concave points_worst  \\\n",
       "count       4.550000e+02     4.550000e+02          4.550000e+02   \n",
       "mean       -1.156584e-16    -5.856121e-17         -8.052167e-17   \n",
       "std         1.001101e+00     1.001101e+00          1.001101e+00   \n",
       "min        -1.442492e+00    -1.298977e+00         -1.729670e+00   \n",
       "25%        -6.811748e-01    -7.355618e-01         -7.700379e-01   \n",
       "50%        -2.454053e-01    -2.141609e-01         -2.170230e-01   \n",
       "75%         5.218523e-01     5.217957e-01          6.980537e-01   \n",
       "max         5.071677e+00     4.611335e+00          2.628551e+00   \n",
       "\n",
       "       symmetry_worst  fractal_dimension_worst  \n",
       "count    4.550000e+02             4.550000e+02  \n",
       "mean    -4.902062e-16            -2.577913e-16  \n",
       "std      1.001101e+00             1.001101e+00  \n",
       "min     -2.141576e+00            -1.602524e+00  \n",
       "25%     -6.377821e-01            -7.030095e-01  \n",
       "50%     -1.439281e-01            -2.222582e-01  \n",
       "75%      4.340876e-01             4.386715e-01  \n",
       "max      5.914120e+00             6.798089e+00  \n",
       "\n",
       "[8 rows x 30 columns]"
      ]
     },
     "execution_count": 19,
     "metadata": {},
     "output_type": "execute_result"
    }
   ],
   "source": [
    "X_train_ss.describe()"
   ]
  },
  {
   "cell_type": "markdown",
   "metadata": {},
   "source": [
    "Outra opção é transformar os dados com o [min max scaler](https://scikit-learn.org/stable/modules/generated/sklearn.preprocessing.MinMaxScaler.html) - **deixa o espaço amostral entre 0 e 1**\n",
    "\n",
    "Aqui, as mesmas considerações sobre o método `.fit()` são válidas! (E pra qualquer outro transformer)"
   ]
  },
  {
   "cell_type": "code",
   "execution_count": 20,
   "metadata": {
    "ExecuteTime": {
     "end_time": "2022-05-31T21:59:26.392926Z",
     "start_time": "2022-05-31T21:59:26.174500Z"
    }
   },
   "outputs": [
    {
     "data": {
      "text/html": [
       "<div>\n",
       "<style scoped>\n",
       "    .dataframe tbody tr th:only-of-type {\n",
       "        vertical-align: middle;\n",
       "    }\n",
       "\n",
       "    .dataframe tbody tr th {\n",
       "        vertical-align: top;\n",
       "    }\n",
       "\n",
       "    .dataframe thead th {\n",
       "        text-align: right;\n",
       "    }\n",
       "</style>\n",
       "<table border=\"1\" class=\"dataframe\">\n",
       "  <thead>\n",
       "    <tr style=\"text-align: right;\">\n",
       "      <th></th>\n",
       "      <th>radius_mean</th>\n",
       "      <th>texture_mean</th>\n",
       "      <th>perimeter_mean</th>\n",
       "      <th>area_mean</th>\n",
       "      <th>smoothness_mean</th>\n",
       "      <th>compactness_mean</th>\n",
       "      <th>concavity_mean</th>\n",
       "      <th>concave points_mean</th>\n",
       "      <th>symmetry_mean</th>\n",
       "      <th>fractal_dimension_mean</th>\n",
       "      <th>...</th>\n",
       "      <th>radius_worst</th>\n",
       "      <th>texture_worst</th>\n",
       "      <th>perimeter_worst</th>\n",
       "      <th>area_worst</th>\n",
       "      <th>smoothness_worst</th>\n",
       "      <th>compactness_worst</th>\n",
       "      <th>concavity_worst</th>\n",
       "      <th>concave points_worst</th>\n",
       "      <th>symmetry_worst</th>\n",
       "      <th>fractal_dimension_worst</th>\n",
       "    </tr>\n",
       "  </thead>\n",
       "  <tbody>\n",
       "    <tr>\n",
       "      <th>count</th>\n",
       "      <td>455.000000</td>\n",
       "      <td>455.000000</td>\n",
       "      <td>455.000000</td>\n",
       "      <td>455.000000</td>\n",
       "      <td>455.000000</td>\n",
       "      <td>455.000000</td>\n",
       "      <td>455.000000</td>\n",
       "      <td>455.000000</td>\n",
       "      <td>455.000000</td>\n",
       "      <td>455.000000</td>\n",
       "      <td>...</td>\n",
       "      <td>455.000000</td>\n",
       "      <td>455.000000</td>\n",
       "      <td>455.000000</td>\n",
       "      <td>455.000000</td>\n",
       "      <td>455.000000</td>\n",
       "      <td>455.000000</td>\n",
       "      <td>455.000000</td>\n",
       "      <td>455.000000</td>\n",
       "      <td>455.000000</td>\n",
       "      <td>455.000000</td>\n",
       "    </tr>\n",
       "    <tr>\n",
       "      <th>mean</th>\n",
       "      <td>0.340058</td>\n",
       "      <td>0.328295</td>\n",
       "      <td>0.334641</td>\n",
       "      <td>0.218909</td>\n",
       "      <td>0.331876</td>\n",
       "      <td>0.259048</td>\n",
       "      <td>0.208960</td>\n",
       "      <td>0.243611</td>\n",
       "      <td>0.381299</td>\n",
       "      <td>0.264297</td>\n",
       "      <td>...</td>\n",
       "      <td>0.299591</td>\n",
       "      <td>0.370066</td>\n",
       "      <td>0.286122</td>\n",
       "      <td>0.173361</td>\n",
       "      <td>0.402252</td>\n",
       "      <td>0.221439</td>\n",
       "      <td>0.219781</td>\n",
       "      <td>0.396875</td>\n",
       "      <td>0.265846</td>\n",
       "      <td>0.190763</td>\n",
       "    </tr>\n",
       "    <tr>\n",
       "      <th>std</th>\n",
       "      <td>0.169392</td>\n",
       "      <td>0.145102</td>\n",
       "      <td>0.170804</td>\n",
       "      <td>0.152882</td>\n",
       "      <td>0.141835</td>\n",
       "      <td>0.165359</td>\n",
       "      <td>0.191420</td>\n",
       "      <td>0.197246</td>\n",
       "      <td>0.139628</td>\n",
       "      <td>0.147682</td>\n",
       "      <td>...</td>\n",
       "      <td>0.174352</td>\n",
       "      <td>0.162034</td>\n",
       "      <td>0.170208</td>\n",
       "      <td>0.143125</td>\n",
       "      <td>0.155063</td>\n",
       "      <td>0.153680</td>\n",
       "      <td>0.169382</td>\n",
       "      <td>0.229704</td>\n",
       "      <td>0.124272</td>\n",
       "      <td>0.119170</td>\n",
       "    </tr>\n",
       "    <tr>\n",
       "      <th>min</th>\n",
       "      <td>0.000000</td>\n",
       "      <td>0.000000</td>\n",
       "      <td>0.000000</td>\n",
       "      <td>0.000000</td>\n",
       "      <td>0.000000</td>\n",
       "      <td>0.000000</td>\n",
       "      <td>0.000000</td>\n",
       "      <td>0.000000</td>\n",
       "      <td>0.000000</td>\n",
       "      <td>0.000000</td>\n",
       "      <td>...</td>\n",
       "      <td>0.000000</td>\n",
       "      <td>0.000000</td>\n",
       "      <td>0.000000</td>\n",
       "      <td>0.000000</td>\n",
       "      <td>0.000000</td>\n",
       "      <td>0.000000</td>\n",
       "      <td>0.000000</td>\n",
       "      <td>0.000000</td>\n",
       "      <td>0.000000</td>\n",
       "      <td>0.000000</td>\n",
       "    </tr>\n",
       "    <tr>\n",
       "      <th>25%</th>\n",
       "      <td>0.223816</td>\n",
       "      <td>0.224045</td>\n",
       "      <td>0.217297</td>\n",
       "      <td>0.117455</td>\n",
       "      <td>0.224205</td>\n",
       "      <td>0.136050</td>\n",
       "      <td>0.069166</td>\n",
       "      <td>0.097838</td>\n",
       "      <td>0.283081</td>\n",
       "      <td>0.156674</td>\n",
       "      <td>...</td>\n",
       "      <td>0.181074</td>\n",
       "      <td>0.252399</td>\n",
       "      <td>0.167962</td>\n",
       "      <td>0.081338</td>\n",
       "      <td>0.286469</td>\n",
       "      <td>0.116871</td>\n",
       "      <td>0.095327</td>\n",
       "      <td>0.220189</td>\n",
       "      <td>0.186675</td>\n",
       "      <td>0.107077</td>\n",
       "    </tr>\n",
       "    <tr>\n",
       "      <th>50%</th>\n",
       "      <td>0.300961</td>\n",
       "      <td>0.310788</td>\n",
       "      <td>0.292931</td>\n",
       "      <td>0.170901</td>\n",
       "      <td>0.324413</td>\n",
       "      <td>0.223606</td>\n",
       "      <td>0.139175</td>\n",
       "      <td>0.165706</td>\n",
       "      <td>0.373232</td>\n",
       "      <td>0.234322</td>\n",
       "      <td>...</td>\n",
       "      <td>0.248666</td>\n",
       "      <td>0.358742</td>\n",
       "      <td>0.235271</td>\n",
       "      <td>0.122444</td>\n",
       "      <td>0.395760</td>\n",
       "      <td>0.183767</td>\n",
       "      <td>0.183546</td>\n",
       "      <td>0.347079</td>\n",
       "      <td>0.247979</td>\n",
       "      <td>0.164305</td>\n",
       "    </tr>\n",
       "    <tr>\n",
       "      <th>75%</th>\n",
       "      <td>0.423778</td>\n",
       "      <td>0.409875</td>\n",
       "      <td>0.419529</td>\n",
       "      <td>0.276564</td>\n",
       "      <td>0.420161</td>\n",
       "      <td>0.340378</td>\n",
       "      <td>0.309747</td>\n",
       "      <td>0.368166</td>\n",
       "      <td>0.451515</td>\n",
       "      <td>0.341737</td>\n",
       "      <td>...</td>\n",
       "      <td>0.400391</td>\n",
       "      <td>0.484542</td>\n",
       "      <td>0.381443</td>\n",
       "      <td>0.230363</td>\n",
       "      <td>0.498118</td>\n",
       "      <td>0.301549</td>\n",
       "      <td>0.308067</td>\n",
       "      <td>0.557045</td>\n",
       "      <td>0.319732</td>\n",
       "      <td>0.242982</td>\n",
       "    </tr>\n",
       "    <tr>\n",
       "      <th>max</th>\n",
       "      <td>1.000000</td>\n",
       "      <td>1.000000</td>\n",
       "      <td>1.000000</td>\n",
       "      <td>1.000000</td>\n",
       "      <td>1.000000</td>\n",
       "      <td>1.000000</td>\n",
       "      <td>1.000000</td>\n",
       "      <td>1.000000</td>\n",
       "      <td>1.000000</td>\n",
       "      <td>1.000000</td>\n",
       "      <td>...</td>\n",
       "      <td>1.000000</td>\n",
       "      <td>1.000000</td>\n",
       "      <td>1.000000</td>\n",
       "      <td>1.000000</td>\n",
       "      <td>1.000000</td>\n",
       "      <td>1.000000</td>\n",
       "      <td>1.000000</td>\n",
       "      <td>1.000000</td>\n",
       "      <td>1.000000</td>\n",
       "      <td>1.000000</td>\n",
       "    </tr>\n",
       "  </tbody>\n",
       "</table>\n",
       "<p>8 rows × 30 columns</p>\n",
       "</div>"
      ],
      "text/plain": [
       "       radius_mean  texture_mean  perimeter_mean   area_mean  smoothness_mean  \\\n",
       "count   455.000000    455.000000      455.000000  455.000000       455.000000   \n",
       "mean      0.340058      0.328295        0.334641    0.218909         0.331876   \n",
       "std       0.169392      0.145102        0.170804    0.152882         0.141835   \n",
       "min       0.000000      0.000000        0.000000    0.000000         0.000000   \n",
       "25%       0.223816      0.224045        0.217297    0.117455         0.224205   \n",
       "50%       0.300961      0.310788        0.292931    0.170901         0.324413   \n",
       "75%       0.423778      0.409875        0.419529    0.276564         0.420161   \n",
       "max       1.000000      1.000000        1.000000    1.000000         1.000000   \n",
       "\n",
       "       compactness_mean  concavity_mean  concave points_mean  symmetry_mean  \\\n",
       "count        455.000000      455.000000           455.000000     455.000000   \n",
       "mean           0.259048        0.208960             0.243611       0.381299   \n",
       "std            0.165359        0.191420             0.197246       0.139628   \n",
       "min            0.000000        0.000000             0.000000       0.000000   \n",
       "25%            0.136050        0.069166             0.097838       0.283081   \n",
       "50%            0.223606        0.139175             0.165706       0.373232   \n",
       "75%            0.340378        0.309747             0.368166       0.451515   \n",
       "max            1.000000        1.000000             1.000000       1.000000   \n",
       "\n",
       "       fractal_dimension_mean  ...  radius_worst  texture_worst  \\\n",
       "count              455.000000  ...    455.000000     455.000000   \n",
       "mean                 0.264297  ...      0.299591       0.370066   \n",
       "std                  0.147682  ...      0.174352       0.162034   \n",
       "min                  0.000000  ...      0.000000       0.000000   \n",
       "25%                  0.156674  ...      0.181074       0.252399   \n",
       "50%                  0.234322  ...      0.248666       0.358742   \n",
       "75%                  0.341737  ...      0.400391       0.484542   \n",
       "max                  1.000000  ...      1.000000       1.000000   \n",
       "\n",
       "       perimeter_worst  area_worst  smoothness_worst  compactness_worst  \\\n",
       "count       455.000000  455.000000        455.000000         455.000000   \n",
       "mean          0.286122    0.173361          0.402252           0.221439   \n",
       "std           0.170208    0.143125          0.155063           0.153680   \n",
       "min           0.000000    0.000000          0.000000           0.000000   \n",
       "25%           0.167962    0.081338          0.286469           0.116871   \n",
       "50%           0.235271    0.122444          0.395760           0.183767   \n",
       "75%           0.381443    0.230363          0.498118           0.301549   \n",
       "max           1.000000    1.000000          1.000000           1.000000   \n",
       "\n",
       "       concavity_worst  concave points_worst  symmetry_worst  \\\n",
       "count       455.000000            455.000000      455.000000   \n",
       "mean          0.219781              0.396875        0.265846   \n",
       "std           0.169382              0.229704        0.124272   \n",
       "min           0.000000              0.000000        0.000000   \n",
       "25%           0.095327              0.220189        0.186675   \n",
       "50%           0.183546              0.347079        0.247979   \n",
       "75%           0.308067              0.557045        0.319732   \n",
       "max           1.000000              1.000000        1.000000   \n",
       "\n",
       "       fractal_dimension_worst  \n",
       "count               455.000000  \n",
       "mean                  0.190763  \n",
       "std                   0.119170  \n",
       "min                   0.000000  \n",
       "25%                   0.107077  \n",
       "50%                   0.164305  \n",
       "75%                   0.242982  \n",
       "max                   1.000000  \n",
       "\n",
       "[8 rows x 30 columns]"
      ]
     },
     "execution_count": 20,
     "metadata": {},
     "output_type": "execute_result"
    }
   ],
   "source": [
    "from sklearn.preprocessing import MinMaxScaler\n",
    "\n",
    "mms = MinMaxScaler().fit(X_train)\n",
    "\n",
    "X_train_mms = pd.DataFrame(mms.transform(X_train), columns=X_train.columns, index=X_train.index)\n",
    "X_test_mms = pd.DataFrame(mms.transform(X_test), columns=X_test.columns, index=X_test.index)\n",
    "\n",
    "X_train_mms.describe()"
   ]
  },
  {
   "cell_type": "markdown",
   "metadata": {},
   "source": [
    "Podemos testar também o [RobustScaler](https://scikit-learn.org/stable/modules/generated/sklearn.preprocessing.RobustScaler.html) - **mediana 0 e IQR 1**"
   ]
  },
  {
   "cell_type": "code",
   "execution_count": 21,
   "metadata": {
    "ExecuteTime": {
     "end_time": "2022-05-31T21:59:26.679761Z",
     "start_time": "2022-05-31T21:59:26.394925Z"
    }
   },
   "outputs": [
    {
     "data": {
      "text/html": [
       "<div>\n",
       "<style scoped>\n",
       "    .dataframe tbody tr th:only-of-type {\n",
       "        vertical-align: middle;\n",
       "    }\n",
       "\n",
       "    .dataframe tbody tr th {\n",
       "        vertical-align: top;\n",
       "    }\n",
       "\n",
       "    .dataframe thead th {\n",
       "        text-align: right;\n",
       "    }\n",
       "</style>\n",
       "<table border=\"1\" class=\"dataframe\">\n",
       "  <thead>\n",
       "    <tr style=\"text-align: right;\">\n",
       "      <th></th>\n",
       "      <th>radius_mean</th>\n",
       "      <th>texture_mean</th>\n",
       "      <th>perimeter_mean</th>\n",
       "      <th>area_mean</th>\n",
       "      <th>smoothness_mean</th>\n",
       "      <th>compactness_mean</th>\n",
       "      <th>concavity_mean</th>\n",
       "      <th>concave points_mean</th>\n",
       "      <th>symmetry_mean</th>\n",
       "      <th>fractal_dimension_mean</th>\n",
       "      <th>...</th>\n",
       "      <th>radius_worst</th>\n",
       "      <th>texture_worst</th>\n",
       "      <th>perimeter_worst</th>\n",
       "      <th>area_worst</th>\n",
       "      <th>smoothness_worst</th>\n",
       "      <th>compactness_worst</th>\n",
       "      <th>concavity_worst</th>\n",
       "      <th>concave points_worst</th>\n",
       "      <th>symmetry_worst</th>\n",
       "      <th>fractal_dimension_worst</th>\n",
       "    </tr>\n",
       "  </thead>\n",
       "  <tbody>\n",
       "    <tr>\n",
       "      <th>count</th>\n",
       "      <td>455.000000</td>\n",
       "      <td>455.000000</td>\n",
       "      <td>455.000000</td>\n",
       "      <td>455.000000</td>\n",
       "      <td>455.000000</td>\n",
       "      <td>455.000000</td>\n",
       "      <td>455.000000</td>\n",
       "      <td>455.000000</td>\n",
       "      <td>455.000000</td>\n",
       "      <td>455.000000</td>\n",
       "      <td>...</td>\n",
       "      <td>455.000000</td>\n",
       "      <td>455.000000</td>\n",
       "      <td>455.000000</td>\n",
       "      <td>455.000000</td>\n",
       "      <td>455.000000</td>\n",
       "      <td>455.000000</td>\n",
       "      <td>455.000000</td>\n",
       "      <td>455.000000</td>\n",
       "      <td>455.000000</td>\n",
       "      <td>455.000000</td>\n",
       "    </tr>\n",
       "    <tr>\n",
       "      <th>mean</th>\n",
       "      <td>0.195521</td>\n",
       "      <td>0.094212</td>\n",
       "      <td>0.206249</td>\n",
       "      <td>0.301728</td>\n",
       "      <td>0.038085</td>\n",
       "      <td>0.173457</td>\n",
       "      <td>0.290069</td>\n",
       "      <td>0.288189</td>\n",
       "      <td>0.047890</td>\n",
       "      <td>0.161971</td>\n",
       "      <td>...</td>\n",
       "      <td>0.232200</td>\n",
       "      <td>0.048781</td>\n",
       "      <td>0.238201</td>\n",
       "      <td>0.341666</td>\n",
       "      <td>0.030672</td>\n",
       "      <td>0.203990</td>\n",
       "      <td>0.170326</td>\n",
       "      <td>0.147827</td>\n",
       "      <td>0.134278</td>\n",
       "      <td>0.194676</td>\n",
       "    </tr>\n",
       "    <tr>\n",
       "      <th>std</th>\n",
       "      <td>0.847120</td>\n",
       "      <td>0.780829</td>\n",
       "      <td>0.844597</td>\n",
       "      <td>0.960860</td>\n",
       "      <td>0.723808</td>\n",
       "      <td>0.809281</td>\n",
       "      <td>0.795656</td>\n",
       "      <td>0.729656</td>\n",
       "      <td>0.828973</td>\n",
       "      <td>0.798008</td>\n",
       "      <td>...</td>\n",
       "      <td>0.794978</td>\n",
       "      <td>0.697994</td>\n",
       "      <td>0.797294</td>\n",
       "      <td>0.960413</td>\n",
       "      <td>0.732642</td>\n",
       "      <td>0.832151</td>\n",
       "      <td>0.796194</td>\n",
       "      <td>0.681906</td>\n",
       "      <td>0.933976</td>\n",
       "      <td>0.876865</td>\n",
       "    </tr>\n",
       "    <tr>\n",
       "      <th>min</th>\n",
       "      <td>-1.505089</td>\n",
       "      <td>-1.672429</td>\n",
       "      <td>-1.448488</td>\n",
       "      <td>-1.074114</td>\n",
       "      <td>-1.655539</td>\n",
       "      <td>-1.094348</td>\n",
       "      <td>-0.578496</td>\n",
       "      <td>-0.612980</td>\n",
       "      <td>-2.215892</td>\n",
       "      <td>-1.266171</td>\n",
       "      <td>...</td>\n",
       "      <td>-1.133820</td>\n",
       "      <td>-1.545350</td>\n",
       "      <td>-1.102065</td>\n",
       "      <td>-0.821638</td>\n",
       "      <td>-1.869891</td>\n",
       "      <td>-0.995062</td>\n",
       "      <td>-0.862775</td>\n",
       "      <td>-1.030349</td>\n",
       "      <td>-1.863704</td>\n",
       "      <td>-1.208977</td>\n",
       "    </tr>\n",
       "    <tr>\n",
       "      <th>25%</th>\n",
       "      <td>-0.385799</td>\n",
       "      <td>-0.466788</td>\n",
       "      <td>-0.373996</td>\n",
       "      <td>-0.335910</td>\n",
       "      <td>-0.511381</td>\n",
       "      <td>-0.428507</td>\n",
       "      <td>-0.291001</td>\n",
       "      <td>-0.251057</td>\n",
       "      <td>-0.535232</td>\n",
       "      <td>-0.419576</td>\n",
       "      <td>...</td>\n",
       "      <td>-0.308191</td>\n",
       "      <td>-0.458094</td>\n",
       "      <td>-0.315292</td>\n",
       "      <td>-0.275831</td>\n",
       "      <td>-0.516381</td>\n",
       "      <td>-0.362227</td>\n",
       "      <td>-0.414680</td>\n",
       "      <td>-0.376690</td>\n",
       "      <td>-0.460741</td>\n",
       "      <td>-0.421091</td>\n",
       "    </tr>\n",
       "    <tr>\n",
       "      <th>50%</th>\n",
       "      <td>0.000000</td>\n",
       "      <td>0.000000</td>\n",
       "      <td>0.000000</td>\n",
       "      <td>0.000000</td>\n",
       "      <td>0.000000</td>\n",
       "      <td>0.000000</td>\n",
       "      <td>0.000000</td>\n",
       "      <td>0.000000</td>\n",
       "      <td>0.000000</td>\n",
       "      <td>0.000000</td>\n",
       "      <td>...</td>\n",
       "      <td>0.000000</td>\n",
       "      <td>0.000000</td>\n",
       "      <td>0.000000</td>\n",
       "      <td>0.000000</td>\n",
       "      <td>0.000000</td>\n",
       "      <td>0.000000</td>\n",
       "      <td>0.000000</td>\n",
       "      <td>0.000000</td>\n",
       "      <td>0.000000</td>\n",
       "      <td>0.000000</td>\n",
       "    </tr>\n",
       "    <tr>\n",
       "      <th>75%</th>\n",
       "      <td>0.614201</td>\n",
       "      <td>0.533212</td>\n",
       "      <td>0.626004</td>\n",
       "      <td>0.664090</td>\n",
       "      <td>0.488619</td>\n",
       "      <td>0.571493</td>\n",
       "      <td>0.708999</td>\n",
       "      <td>0.748943</td>\n",
       "      <td>0.464768</td>\n",
       "      <td>0.580424</td>\n",
       "      <td>...</td>\n",
       "      <td>0.691809</td>\n",
       "      <td>0.541906</td>\n",
       "      <td>0.684708</td>\n",
       "      <td>0.724169</td>\n",
       "      <td>0.483619</td>\n",
       "      <td>0.637773</td>\n",
       "      <td>0.585320</td>\n",
       "      <td>0.623310</td>\n",
       "      <td>0.539259</td>\n",
       "      <td>0.578909</td>\n",
       "    </tr>\n",
       "    <tr>\n",
       "      <th>max</th>\n",
       "      <td>3.495858</td>\n",
       "      <td>3.708826</td>\n",
       "      <td>3.496327</td>\n",
       "      <td>5.210877</td>\n",
       "      <td>3.447648</td>\n",
       "      <td>3.799745</td>\n",
       "      <td>3.578107</td>\n",
       "      <td>3.086229</td>\n",
       "      <td>3.721139</td>\n",
       "      <td>4.137378</td>\n",
       "      <td>...</td>\n",
       "      <td>3.425791</td>\n",
       "      <td>2.762342</td>\n",
       "      <td>3.582177</td>\n",
       "      <td>5.888678</td>\n",
       "      <td>2.854914</td>\n",
       "      <td>4.419753</td>\n",
       "      <td>3.837807</td>\n",
       "      <td>1.938281</td>\n",
       "      <td>5.651852</td>\n",
       "      <td>6.149131</td>\n",
       "    </tr>\n",
       "  </tbody>\n",
       "</table>\n",
       "<p>8 rows × 30 columns</p>\n",
       "</div>"
      ],
      "text/plain": [
       "       radius_mean  texture_mean  perimeter_mean   area_mean  smoothness_mean  \\\n",
       "count   455.000000    455.000000      455.000000  455.000000       455.000000   \n",
       "mean      0.195521      0.094212        0.206249    0.301728         0.038085   \n",
       "std       0.847120      0.780829        0.844597    0.960860         0.723808   \n",
       "min      -1.505089     -1.672429       -1.448488   -1.074114        -1.655539   \n",
       "25%      -0.385799     -0.466788       -0.373996   -0.335910        -0.511381   \n",
       "50%       0.000000      0.000000        0.000000    0.000000         0.000000   \n",
       "75%       0.614201      0.533212        0.626004    0.664090         0.488619   \n",
       "max       3.495858      3.708826        3.496327    5.210877         3.447648   \n",
       "\n",
       "       compactness_mean  concavity_mean  concave points_mean  symmetry_mean  \\\n",
       "count        455.000000      455.000000           455.000000     455.000000   \n",
       "mean           0.173457        0.290069             0.288189       0.047890   \n",
       "std            0.809281        0.795656             0.729656       0.828973   \n",
       "min           -1.094348       -0.578496            -0.612980      -2.215892   \n",
       "25%           -0.428507       -0.291001            -0.251057      -0.535232   \n",
       "50%            0.000000        0.000000             0.000000       0.000000   \n",
       "75%            0.571493        0.708999             0.748943       0.464768   \n",
       "max            3.799745        3.578107             3.086229       3.721139   \n",
       "\n",
       "       fractal_dimension_mean  ...  radius_worst  texture_worst  \\\n",
       "count              455.000000  ...    455.000000     455.000000   \n",
       "mean                 0.161971  ...      0.232200       0.048781   \n",
       "std                  0.798008  ...      0.794978       0.697994   \n",
       "min                 -1.266171  ...     -1.133820      -1.545350   \n",
       "25%                 -0.419576  ...     -0.308191      -0.458094   \n",
       "50%                  0.000000  ...      0.000000       0.000000   \n",
       "75%                  0.580424  ...      0.691809       0.541906   \n",
       "max                  4.137378  ...      3.425791       2.762342   \n",
       "\n",
       "       perimeter_worst  area_worst  smoothness_worst  compactness_worst  \\\n",
       "count       455.000000  455.000000        455.000000         455.000000   \n",
       "mean          0.238201    0.341666          0.030672           0.203990   \n",
       "std           0.797294    0.960413          0.732642           0.832151   \n",
       "min          -1.102065   -0.821638         -1.869891          -0.995062   \n",
       "25%          -0.315292   -0.275831         -0.516381          -0.362227   \n",
       "50%           0.000000    0.000000          0.000000           0.000000   \n",
       "75%           0.684708    0.724169          0.483619           0.637773   \n",
       "max           3.582177    5.888678          2.854914           4.419753   \n",
       "\n",
       "       concavity_worst  concave points_worst  symmetry_worst  \\\n",
       "count       455.000000            455.000000      455.000000   \n",
       "mean          0.170326              0.147827        0.134278   \n",
       "std           0.796194              0.681906        0.933976   \n",
       "min          -0.862775             -1.030349       -1.863704   \n",
       "25%          -0.414680             -0.376690       -0.460741   \n",
       "50%           0.000000              0.000000        0.000000   \n",
       "75%           0.585320              0.623310        0.539259   \n",
       "max           3.837807              1.938281        5.651852   \n",
       "\n",
       "       fractal_dimension_worst  \n",
       "count               455.000000  \n",
       "mean                  0.194676  \n",
       "std                   0.876865  \n",
       "min                  -1.208977  \n",
       "25%                  -0.421091  \n",
       "50%                   0.000000  \n",
       "75%                   0.578909  \n",
       "max                   6.149131  \n",
       "\n",
       "[8 rows x 30 columns]"
      ]
     },
     "execution_count": 21,
     "metadata": {},
     "output_type": "execute_result"
    }
   ],
   "source": [
    "from sklearn.preprocessing import RobustScaler\n",
    "\n",
    "rs = RobustScaler().fit(X_train)\n",
    "\n",
    "X_train_rs = pd.DataFrame(rs.transform(X_train), columns=X_train.columns, index=X_train.index)\n",
    "X_test_rs = pd.DataFrame(rs.transform(X_test), columns=X_test.columns, index=X_test.index)\n",
    "\n",
    "X_train_rs.describe()"
   ]
  },
  {
   "cell_type": "markdown",
   "metadata": {},
   "source": [
    "___________\n",
    "\n",
    "Agora sim, com os dados escalados, estamos prontos para treinar e avaliar o modelo, com as features escaladas!\n",
    "\n",
    "Classe: [KNeighborsClassifier](https://scikit-learn.org/stable/modules/generated/sklearn.neighbors.KNeighborsClassifier.html)\n",
    "\n",
    "Nosso primeiro modelo será com os hiperparâmetros default!"
   ]
  },
  {
   "cell_type": "code",
   "execution_count": 22,
   "metadata": {
    "ExecuteTime": {
     "end_time": "2022-05-31T21:59:26.915647Z",
     "start_time": "2022-05-31T21:59:26.684759Z"
    }
   },
   "outputs": [],
   "source": [
    "from sklearn.neighbors import KNeighborsClassifier\n",
    "\n",
    "# ===================================\n",
    "\n",
    "X = df.drop(columns=\"diagnosis\")\n",
    "y = df[\"diagnosis\"]\n",
    "\n",
    "X_train, X_test, y_train, y_test = train_test_split(X, y, \n",
    "                                                    test_size=0.2, random_state=42,\n",
    "                                                    stratify=y)\n",
    "\n",
    "# ===================================\n",
    "\n",
    "ss = StandardScaler().fit(X_train)\n",
    "\n",
    "X_train_ss = pd.DataFrame(ss.transform(X_train), columns=X_train.columns, index=X_train.index)\n",
    "X_test_ss = pd.DataFrame(ss.transform(X_test), columns=X_test.columns, index=X_test.index)\n",
    "\n",
    "# ===================================\n",
    "# PASSO 1 \n",
    "\n",
    "# quando instanciamos a classe, é que escolhemos os valores dos hiperparâmetros\n",
    "knn = KNeighborsClassifier(n_neighbors=5, \n",
    "                           weights='uniform',\n",
    "                           metric=\"euclidean\").fit(X_train_ss, y_train)"
   ]
  },
  {
   "cell_type": "code",
   "execution_count": 23,
   "metadata": {
    "ExecuteTime": {
     "end_time": "2022-05-31T21:59:27.102549Z",
     "start_time": "2022-05-31T21:59:26.926652Z"
    }
   },
   "outputs": [
    {
     "data": {
      "text/plain": [
       "array(['B', 'M'], dtype=object)"
      ]
     },
     "execution_count": 23,
     "metadata": {},
     "output_type": "execute_result"
    }
   ],
   "source": [
    "knn.classes_"
   ]
  },
  {
   "cell_type": "code",
   "execution_count": 24,
   "metadata": {
    "ExecuteTime": {
     "end_time": "2022-05-31T21:59:27.262472Z",
     "start_time": "2022-05-31T21:59:27.105546Z"
    }
   },
   "outputs": [
    {
     "data": {
      "text/plain": [
       "array(['B', 'M', 'B', 'M', 'B', 'B', 'M', 'B', 'B', 'B', 'M', 'B', 'M',\n",
       "       'B', 'B', 'B', 'M', 'B', 'B', 'B', 'B', 'B', 'M', 'M', 'M', 'B',\n",
       "       'B', 'M', 'M', 'M', 'M', 'B', 'M', 'M', 'B', 'B', 'B', 'B', 'M',\n",
       "       'B', 'B', 'B', 'M', 'B', 'B', 'M', 'B', 'M', 'B', 'B', 'M', 'M',\n",
       "       'B', 'B', 'B', 'M', 'B', 'B', 'B', 'M', 'B', 'B', 'M', 'B', 'B',\n",
       "       'B', 'M', 'M', 'B', 'M', 'B', 'M', 'M', 'B', 'B', 'B', 'B', 'M',\n",
       "       'B', 'M', 'M', 'M', 'B', 'B', 'B', 'B', 'M', 'M', 'M', 'B', 'M',\n",
       "       'B', 'B', 'B', 'B', 'B', 'B', 'M', 'B', 'B', 'B', 'B', 'B', 'B',\n",
       "       'B', 'B', 'M', 'B', 'M', 'B', 'B', 'B', 'M', 'M'], dtype=object)"
      ]
     },
     "execution_count": 24,
     "metadata": {},
     "output_type": "execute_result"
    }
   ],
   "source": [
    "y_test.values"
   ]
  },
  {
   "cell_type": "code",
   "execution_count": 25,
   "metadata": {
    "ExecuteTime": {
     "end_time": "2022-05-31T21:59:27.513610Z",
     "start_time": "2022-05-31T21:59:27.264454Z"
    }
   },
   "outputs": [
    {
     "data": {
      "text/plain": [
       "array(['B', 'M', 'B', 'B', 'B', 'B', 'M', 'B', 'B', 'B', 'M', 'B', 'M',\n",
       "       'B', 'B', 'B', 'B', 'B', 'M', 'B', 'B', 'B', 'M', 'M', 'M', 'B',\n",
       "       'B', 'M', 'M', 'M', 'M', 'B', 'M', 'M', 'B', 'B', 'B', 'B', 'M',\n",
       "       'B', 'B', 'B', 'B', 'B', 'B', 'M', 'B', 'M', 'B', 'B', 'M', 'M',\n",
       "       'B', 'B', 'B', 'M', 'B', 'B', 'B', 'M', 'B', 'B', 'M', 'B', 'B',\n",
       "       'B', 'M', 'M', 'B', 'M', 'B', 'M', 'M', 'B', 'B', 'B', 'B', 'M',\n",
       "       'B', 'M', 'M', 'M', 'B', 'B', 'B', 'B', 'M', 'M', 'M', 'B', 'M',\n",
       "       'B', 'B', 'B', 'B', 'B', 'B', 'M', 'B', 'B', 'B', 'B', 'B', 'B',\n",
       "       'B', 'B', 'M', 'B', 'M', 'B', 'B', 'B', 'B', 'M'], dtype=object)"
      ]
     },
     "execution_count": 25,
     "metadata": {},
     "output_type": "execute_result"
    }
   ],
   "source": [
    "knn.predict(X_test_ss)"
   ]
  },
  {
   "cell_type": "code",
   "execution_count": 26,
   "metadata": {
    "ExecuteTime": {
     "end_time": "2022-05-31T21:59:27.767310Z",
     "start_time": "2022-05-31T21:59:27.523451Z"
    }
   },
   "outputs": [
    {
     "data": {
      "text/plain": [
       "array(['B', 'M'], dtype=object)"
      ]
     },
     "execution_count": 26,
     "metadata": {},
     "output_type": "execute_result"
    }
   ],
   "source": [
    "knn.classes_"
   ]
  },
  {
   "cell_type": "code",
   "execution_count": 27,
   "metadata": {
    "ExecuteTime": {
     "end_time": "2022-05-31T21:59:28.083132Z",
     "start_time": "2022-05-31T21:59:27.771308Z"
    }
   },
   "outputs": [
    {
     "data": {
      "text/plain": [
       "array([[1. , 0. ],\n",
       "       [0. , 1. ],\n",
       "       [1. , 0. ],\n",
       "       [0.8, 0.2],\n",
       "       [1. , 0. ],\n",
       "       [1. , 0. ],\n",
       "       [0.2, 0.8],\n",
       "       [1. , 0. ],\n",
       "       [1. , 0. ],\n",
       "       [1. , 0. ],\n",
       "       [0.2, 0.8],\n",
       "       [1. , 0. ],\n",
       "       [0. , 1. ],\n",
       "       [1. , 0. ],\n",
       "       [0.8, 0.2],\n",
       "       [1. , 0. ],\n",
       "       [1. , 0. ],\n",
       "       [1. , 0. ],\n",
       "       [0.4, 0.6],\n",
       "       [1. , 0. ],\n",
       "       [1. , 0. ],\n",
       "       [1. , 0. ],\n",
       "       [0. , 1. ],\n",
       "       [0. , 1. ],\n",
       "       [0.4, 0.6],\n",
       "       [1. , 0. ],\n",
       "       [1. , 0. ],\n",
       "       [0.2, 0.8],\n",
       "       [0. , 1. ],\n",
       "       [0. , 1. ],\n",
       "       [0. , 1. ],\n",
       "       [1. , 0. ],\n",
       "       [0. , 1. ],\n",
       "       [0. , 1. ],\n",
       "       [1. , 0. ],\n",
       "       [1. , 0. ],\n",
       "       [1. , 0. ],\n",
       "       [1. , 0. ],\n",
       "       [0. , 1. ],\n",
       "       [1. , 0. ],\n",
       "       [1. , 0. ],\n",
       "       [1. , 0. ],\n",
       "       [0.8, 0.2],\n",
       "       [1. , 0. ],\n",
       "       [1. , 0. ],\n",
       "       [0. , 1. ],\n",
       "       [0.8, 0.2],\n",
       "       [0.4, 0.6],\n",
       "       [1. , 0. ],\n",
       "       [1. , 0. ],\n",
       "       [0. , 1. ],\n",
       "       [0. , 1. ],\n",
       "       [1. , 0. ],\n",
       "       [1. , 0. ],\n",
       "       [1. , 0. ],\n",
       "       [0.4, 0.6],\n",
       "       [0.8, 0.2],\n",
       "       [1. , 0. ],\n",
       "       [1. , 0. ],\n",
       "       [0. , 1. ],\n",
       "       [1. , 0. ],\n",
       "       [1. , 0. ],\n",
       "       [0. , 1. ],\n",
       "       [1. , 0. ],\n",
       "       [1. , 0. ],\n",
       "       [1. , 0. ],\n",
       "       [0. , 1. ],\n",
       "       [0. , 1. ],\n",
       "       [1. , 0. ],\n",
       "       [0.2, 0.8],\n",
       "       [1. , 0. ],\n",
       "       [0. , 1. ],\n",
       "       [0. , 1. ],\n",
       "       [1. , 0. ],\n",
       "       [1. , 0. ],\n",
       "       [1. , 0. ],\n",
       "       [1. , 0. ],\n",
       "       [0. , 1. ],\n",
       "       [1. , 0. ],\n",
       "       [0.4, 0.6],\n",
       "       [0. , 1. ],\n",
       "       [0. , 1. ],\n",
       "       [1. , 0. ],\n",
       "       [1. , 0. ],\n",
       "       [1. , 0. ],\n",
       "       [1. , 0. ],\n",
       "       [0. , 1. ],\n",
       "       [0. , 1. ],\n",
       "       [0. , 1. ],\n",
       "       [1. , 0. ],\n",
       "       [0. , 1. ],\n",
       "       [1. , 0. ],\n",
       "       [0.6, 0.4],\n",
       "       [1. , 0. ],\n",
       "       [1. , 0. ],\n",
       "       [1. , 0. ],\n",
       "       [1. , 0. ],\n",
       "       [0.4, 0.6],\n",
       "       [1. , 0. ],\n",
       "       [1. , 0. ],\n",
       "       [1. , 0. ],\n",
       "       [1. , 0. ],\n",
       "       [1. , 0. ],\n",
       "       [1. , 0. ],\n",
       "       [1. , 0. ],\n",
       "       [1. , 0. ],\n",
       "       [0. , 1. ],\n",
       "       [1. , 0. ],\n",
       "       [0. , 1. ],\n",
       "       [1. , 0. ],\n",
       "       [1. , 0. ],\n",
       "       [0.8, 0.2],\n",
       "       [0.8, 0.2],\n",
       "       [0. , 1. ]])"
      ]
     },
     "execution_count": 27,
     "metadata": {},
     "output_type": "execute_result"
    }
   ],
   "source": [
    "knn.predict_proba(X_test_ss)"
   ]
  },
  {
   "cell_type": "code",
   "execution_count": 28,
   "metadata": {
    "ExecuteTime": {
     "end_time": "2022-05-31T21:59:29.882543Z",
     "start_time": "2022-05-31T21:59:28.090130Z"
    },
    "scrolled": true
   },
   "outputs": [
    {
     "name": "stdout",
     "output_type": "stream",
     "text": [
      "Métricas de avaliação de teste - com cutoff = 0.50\n"
     ]
    },
    {
     "data": {
      "image/png": "[encoded data removed]",
      "text/plain": [
       "<Figure size 432x288 with 2 Axes>"
      ]
     },
     "metadata": {
      "needs_background": "light"
     },
     "output_type": "display_data"
    },
    {
     "name": "stdout",
     "output_type": "stream",
     "text": [
      "              precision    recall  f1-score   support\n",
      "\n",
      "           B       0.95      0.99      0.97        72\n",
      "           M       0.97      0.90      0.94        42\n",
      "\n",
      "    accuracy                           0.96       114\n",
      "   macro avg       0.96      0.95      0.95       114\n",
      "weighted avg       0.96      0.96      0.96       114\n",
      "\n",
      "================================================================================\n",
      "                      Abaixo, métricas que variam o cutoff                      \n",
      "                               Classe positiva: M                               \n",
      "================================================================================\n"
     ]
    },
    {
     "data": {
      "image/png": "[encoded data removed]",
      "text/plain": [
       "<Figure size 432x288 with 1 Axes>"
      ]
     },
     "metadata": {
      "needs_background": "light"
     },
     "output_type": "display_data"
    },
    {
     "data": {
      "image/png": "[encoded data removed]",
      "text/plain": [
       "<Figure size 432x288 with 1 Axes>"
      ]
     },
     "metadata": {
      "needs_background": "light"
     },
     "output_type": "display_data"
    },
    {
     "data": {
      "image/png": "[encoded data removed]",
      "text/plain": [
       "<Figure size 432x288 with 1 Axes>"
      ]
     },
     "metadata": {
      "needs_background": "light"
     },
     "output_type": "display_data"
    }
   ],
   "source": [
    "_ = clf_metrics(knn, X_test_ss, y_test, cutoff=0.5, label_metrica=\"teste\", \n",
    "                print_plot=True, plot_conf_matrix=True, print_cr=True,\n",
    "                plot_prc=True, plot_roc=True, \n",
    "                pos_label=\"M\")"
   ]
  },
  {
   "cell_type": "code",
   "execution_count": 29,
   "metadata": {
    "ExecuteTime": {
     "end_time": "2022-05-31T21:59:30.848110Z",
     "start_time": "2022-05-31T21:59:29.885544Z"
    }
   },
   "outputs": [
    {
     "name": "stdout",
     "output_type": "stream",
     "text": [
      "Métricas de avaliação de train - com cutoff = 0.50\n"
     ]
    },
    {
     "data": {
      "image/png": "[encoded data removed]",
      "text/plain": [
       "<Figure size 432x288 with 2 Axes>"
      ]
     },
     "metadata": {
      "needs_background": "light"
     },
     "output_type": "display_data"
    },
    {
     "name": "stdout",
     "output_type": "stream",
     "text": [
      "              precision    recall  f1-score   support\n",
      "\n",
      "           B       0.97      1.00      0.98       285\n",
      "           M       0.99      0.95      0.97       170\n",
      "\n",
      "    accuracy                           0.98       455\n",
      "   macro avg       0.98      0.97      0.98       455\n",
      "weighted avg       0.98      0.98      0.98       455\n",
      "\n"
     ]
    }
   ],
   "source": [
    "_ = clf_metrics(knn, X_train_ss, y_train, cutoff=0.5, label_metrica=\"train\", \n",
    "                print_plot=True, plot_conf_matrix=True, print_cr=True,\n",
    "                plot_prc=False, plot_roc=False, \n",
    "                pos_label=\"M\")"
   ]
  },
  {
   "cell_type": "markdown",
   "metadata": {},
   "source": [
    "Note como a escolha da classe positiva muda a análise!"
   ]
  },
  {
   "cell_type": "code",
   "execution_count": 30,
   "metadata": {
    "ExecuteTime": {
     "end_time": "2022-05-31T21:59:31.901967Z",
     "start_time": "2022-05-31T21:59:30.851106Z"
    }
   },
   "outputs": [
    {
     "name": "stdout",
     "output_type": "stream",
     "text": [
      "Métricas de avaliação de teste - com cutoff = 0.50\n"
     ]
    },
    {
     "data": {
      "image/png": "[encoded data removed]",
      "text/plain": [
       "<Figure size 432x288 with 2 Axes>"
      ]
     },
     "metadata": {
      "needs_background": "light"
     },
     "output_type": "display_data"
    },
    {
     "name": "stdout",
     "output_type": "stream",
     "text": [
      "              precision    recall  f1-score   support\n",
      "\n",
      "           B       0.95      0.99      0.97        72\n",
      "           M       0.97      0.90      0.94        42\n",
      "\n",
      "    accuracy                           0.96       114\n",
      "   macro avg       0.96      0.95      0.95       114\n",
      "weighted avg       0.96      0.96      0.96       114\n",
      "\n",
      "================================================================================\n",
      "                      Abaixo, métricas que variam o cutoff                      \n",
      "                               Classe positiva: M                               \n",
      "================================================================================\n"
     ]
    },
    {
     "data": {
      "image/png": "[encoded data removed]",
      "text/plain": [
       "<Figure size 432x288 with 1 Axes>"
      ]
     },
     "metadata": {
      "needs_background": "light"
     },
     "output_type": "display_data"
    },
    {
     "data": {
      "image/png": "[encoded data removed]",
      "text/plain": [
       "<Figure size 432x288 with 1 Axes>"
      ]
     },
     "metadata": {
      "needs_background": "light"
     },
     "output_type": "display_data"
    }
   ],
   "source": [
    "_ = clf_metrics(knn, X_test_ss, y_test, cutoff=0.5, label_metrica=\"teste\", \n",
    "                print_plot=True, plot_conf_matrix=True, print_cr=True,\n",
    "                plot_prc=True, plot_roc=False, \n",
    "                pos_label=\"M\")"
   ]
  },
  {
   "cell_type": "code",
   "execution_count": 31,
   "metadata": {
    "ExecuteTime": {
     "end_time": "2022-05-31T21:59:33.062099Z",
     "start_time": "2022-05-31T21:59:31.906944Z"
    }
   },
   "outputs": [
    {
     "name": "stdout",
     "output_type": "stream",
     "text": [
      "Métricas de avaliação de teste - com cutoff = 0.50\n"
     ]
    },
    {
     "data": {
      "image/png": "[encoded data removed]",
      "text/plain": [
       "<Figure size 432x288 with 2 Axes>"
      ]
     },
     "metadata": {
      "needs_background": "light"
     },
     "output_type": "display_data"
    },
    {
     "name": "stdout",
     "output_type": "stream",
     "text": [
      "              precision    recall  f1-score   support\n",
      "\n",
      "           B       0.95      0.99      0.97        72\n",
      "           M       0.97      0.90      0.94        42\n",
      "\n",
      "    accuracy                           0.96       114\n",
      "   macro avg       0.96      0.95      0.95       114\n",
      "weighted avg       0.96      0.96      0.96       114\n",
      "\n",
      "================================================================================\n",
      "                      Abaixo, métricas que variam o cutoff                      \n",
      "                               Classe positiva: B                               \n",
      "================================================================================\n"
     ]
    },
    {
     "data": {
      "image/png": "[encoded data removed]",
      "text/plain": [
       "<Figure size 432x288 with 1 Axes>"
      ]
     },
     "metadata": {
      "needs_background": "light"
     },
     "output_type": "display_data"
    },
    {
     "data": {
      "image/png": "[encoded data removed]",
      "text/plain": [
       "<Figure size 432x288 with 1 Axes>"
      ]
     },
     "metadata": {
      "needs_background": "light"
     },
     "output_type": "display_data"
    }
   ],
   "source": [
    "_ = clf_metrics(knn, X_test_ss, y_test, cutoff=0.5, label_metrica=\"teste\", \n",
    "                print_plot=True, plot_conf_matrix=True, print_cr=True,\n",
    "                plot_prc=True, plot_roc=False, \n",
    "                pos_label=\"B\")"
   ]
  },
  {
   "cell_type": "markdown",
   "metadata": {},
   "source": [
    "Uma coisa que podemos fazer pra melhorar o recall da classe M é abaixar o cutoff!!"
   ]
  },
  {
   "cell_type": "code",
   "execution_count": 32,
   "metadata": {
    "ExecuteTime": {
     "end_time": "2022-05-31T21:59:34.130099Z",
     "start_time": "2022-05-31T21:59:33.068063Z"
    },
    "scrolled": true
   },
   "outputs": [
    {
     "name": "stdout",
     "output_type": "stream",
     "text": [
      "Métricas de avaliação de teste - com cutoff = 0.05\n"
     ]
    },
    {
     "data": {
      "image/png": "[encoded data removed]",
      "text/plain": [
       "<Figure size 432x288 with 2 Axes>"
      ]
     },
     "metadata": {
      "needs_background": "light"
     },
     "output_type": "display_data"
    },
    {
     "name": "stdout",
     "output_type": "stream",
     "text": [
      "              precision    recall  f1-score   support\n",
      "\n",
      "           B       0.99      0.92      0.95        72\n",
      "           M       0.87      0.98      0.92        42\n",
      "\n",
      "    accuracy                           0.94       114\n",
      "   macro avg       0.93      0.95      0.94       114\n",
      "weighted avg       0.94      0.94      0.94       114\n",
      "\n",
      "================================================================================\n",
      "                      Abaixo, métricas que variam o cutoff                      \n",
      "                               Classe positiva: M                               \n",
      "================================================================================\n"
     ]
    },
    {
     "data": {
      "image/png": "[encoded data removed]",
      "text/plain": [
       "<Figure size 432x288 with 1 Axes>"
      ]
     },
     "metadata": {
      "needs_background": "light"
     },
     "output_type": "display_data"
    },
    {
     "data": {
      "image/png": "[encoded data removed]",
      "text/plain": [
       "<Figure size 432x288 with 1 Axes>"
      ]
     },
     "metadata": {
      "needs_background": "light"
     },
     "output_type": "display_data"
    }
   ],
   "source": [
    "_ = clf_metrics(knn, X_test_ss, y_test, cutoff=0.05, label_metrica=\"teste\", \n",
    "                print_plot=True, plot_conf_matrix=True, print_cr=True,\n",
    "                plot_prc=True, plot_roc=False, \n",
    "                pos_label=\"M\")"
   ]
  },
  {
   "cell_type": "markdown",
   "metadata": {},
   "source": [
    "O que vamos aprender jaja é como mudar a performance do modelo, sem mexer no cutoff -- mexendo nos hiperparâmetros!"
   ]
  },
  {
   "cell_type": "markdown",
   "metadata": {},
   "source": [
    "__________\n",
    "\n",
    "Vamos fazer também a validação cruzada!\n",
    "\n",
    "Mas uma importante alteração é necessária... Se fizermos como antes, usando o target original diretamente:\n",
    "\n",
    "```python\n",
    "from sklearn.model_selection import KFold, cross_validate\n",
    "\n",
    "grupo = KFold(n_splits=10, shuffle=True, random_state=42)\n",
    "\n",
    "metrica = \"f1\"\n",
    "\n",
    "results = cross_validate(estimator=estimador,\n",
    "                         X=X_train, y=y_train,\n",
    "                         cv=grupo,\n",
    "                         scoring=metrica,\n",
    "                         return_train_score=True)\n",
    "```\n",
    "Teremos um erro (teste!)"
   ]
  },
  {
   "cell_type": "code",
   "execution_count": 33,
   "metadata": {
    "ExecuteTime": {
     "end_time": "2022-05-31T21:59:34.987432Z",
     "start_time": "2022-05-31T21:59:34.134079Z"
    }
   },
   "outputs": [
    {
     "name": "stderr",
     "output_type": "stream",
     "text": [
      "C:\\Users\\andre\\anaconda3\\lib\\site-packages\\sklearn\\model_selection\\_validation.py:770: UserWarning: Scoring failed. The score on this train-test partition for these parameters will be set to nan. Details: \n",
      "Traceback (most recent call last):\n",
      "  File \"C:\\Users\\andre\\anaconda3\\lib\\site-packages\\sklearn\\model_selection\\_validation.py\", line 761, in _score\n",
      "    scores = scorer(estimator, X_test, y_test)\n",
      "  File \"C:\\Users\\andre\\anaconda3\\lib\\site-packages\\sklearn\\metrics\\_scorer.py\", line 216, in __call__\n",
      "    return self._score(\n",
      "  File \"C:\\Users\\andre\\anaconda3\\lib\\site-packages\\sklearn\\metrics\\_scorer.py\", line 264, in _score\n",
      "    return self._sign * self._score_func(y_true, y_pred, **self._kwargs)\n",
      "  File \"C:\\Users\\andre\\anaconda3\\lib\\site-packages\\sklearn\\metrics\\_classification.py\", line 1901, in recall_score\n",
      "    _, r, _, _ = precision_recall_fscore_support(\n",
      "  File \"C:\\Users\\andre\\anaconda3\\lib\\site-packages\\sklearn\\metrics\\_classification.py\", line 1544, in precision_recall_fscore_support\n",
      "    labels = _check_set_wise_labels(y_true, y_pred, average, labels, pos_label)\n",
      "  File \"C:\\Users\\andre\\anaconda3\\lib\\site-packages\\sklearn\\metrics\\_classification.py\", line 1356, in _check_set_wise_labels\n",
      "    raise ValueError(\n",
      "ValueError: pos_label=1 is not a valid label. It should be one of ['B', 'M']\n",
      "\n",
      "  warnings.warn(\n",
      "C:\\Users\\andre\\anaconda3\\lib\\site-packages\\sklearn\\model_selection\\_validation.py:770: UserWarning: Scoring failed. The score on this train-test partition for these parameters will be set to nan. Details: \n",
      "Traceback (most recent call last):\n",
      "  File \"C:\\Users\\andre\\anaconda3\\lib\\site-packages\\sklearn\\model_selection\\_validation.py\", line 761, in _score\n",
      "    scores = scorer(estimator, X_test, y_test)\n",
      "  File \"C:\\Users\\andre\\anaconda3\\lib\\site-packages\\sklearn\\metrics\\_scorer.py\", line 216, in __call__\n",
      "    return self._score(\n",
      "  File \"C:\\Users\\andre\\anaconda3\\lib\\site-packages\\sklearn\\metrics\\_scorer.py\", line 264, in _score\n",
      "    return self._sign * self._score_func(y_true, y_pred, **self._kwargs)\n",
      "  File \"C:\\Users\\andre\\anaconda3\\lib\\site-packages\\sklearn\\metrics\\_classification.py\", line 1901, in recall_score\n",
      "    _, r, _, _ = precision_recall_fscore_support(\n",
      "  File \"C:\\Users\\andre\\anaconda3\\lib\\site-packages\\sklearn\\metrics\\_classification.py\", line 1544, in precision_recall_fscore_support\n",
      "    labels = _check_set_wise_labels(y_true, y_pred, average, labels, pos_label)\n",
      "  File \"C:\\Users\\andre\\anaconda3\\lib\\site-packages\\sklearn\\metrics\\_classification.py\", line 1356, in _check_set_wise_labels\n",
      "    raise ValueError(\n",
      "ValueError: pos_label=1 is not a valid label. It should be one of ['B', 'M']\n",
      "\n",
      "  warnings.warn(\n",
      "C:\\Users\\andre\\anaconda3\\lib\\site-packages\\sklearn\\model_selection\\_validation.py:770: UserWarning: Scoring failed. The score on this train-test partition for these parameters will be set to nan. Details: \n",
      "Traceback (most recent call last):\n",
      "  File \"C:\\Users\\andre\\anaconda3\\lib\\site-packages\\sklearn\\model_selection\\_validation.py\", line 761, in _score\n",
      "    scores = scorer(estimator, X_test, y_test)\n",
      "  File \"C:\\Users\\andre\\anaconda3\\lib\\site-packages\\sklearn\\metrics\\_scorer.py\", line 216, in __call__\n",
      "    return self._score(\n",
      "  File \"C:\\Users\\andre\\anaconda3\\lib\\site-packages\\sklearn\\metrics\\_scorer.py\", line 264, in _score\n",
      "    return self._sign * self._score_func(y_true, y_pred, **self._kwargs)\n",
      "  File \"C:\\Users\\andre\\anaconda3\\lib\\site-packages\\sklearn\\metrics\\_classification.py\", line 1901, in recall_score\n",
      "    _, r, _, _ = precision_recall_fscore_support(\n",
      "  File \"C:\\Users\\andre\\anaconda3\\lib\\site-packages\\sklearn\\metrics\\_classification.py\", line 1544, in precision_recall_fscore_support\n",
      "    labels = _check_set_wise_labels(y_true, y_pred, average, labels, pos_label)\n",
      "  File \"C:\\Users\\andre\\anaconda3\\lib\\site-packages\\sklearn\\metrics\\_classification.py\", line 1356, in _check_set_wise_labels\n",
      "    raise ValueError(\n",
      "ValueError: pos_label=1 is not a valid label. It should be one of ['B', 'M']\n",
      "\n",
      "  warnings.warn(\n",
      "C:\\Users\\andre\\anaconda3\\lib\\site-packages\\sklearn\\model_selection\\_validation.py:770: UserWarning: Scoring failed. The score on this train-test partition for these parameters will be set to nan. Details: \n",
      "Traceback (most recent call last):\n",
      "  File \"C:\\Users\\andre\\anaconda3\\lib\\site-packages\\sklearn\\model_selection\\_validation.py\", line 761, in _score\n",
      "    scores = scorer(estimator, X_test, y_test)\n",
      "  File \"C:\\Users\\andre\\anaconda3\\lib\\site-packages\\sklearn\\metrics\\_scorer.py\", line 216, in __call__\n",
      "    return self._score(\n",
      "  File \"C:\\Users\\andre\\anaconda3\\lib\\site-packages\\sklearn\\metrics\\_scorer.py\", line 264, in _score\n",
      "    return self._sign * self._score_func(y_true, y_pred, **self._kwargs)\n",
      "  File \"C:\\Users\\andre\\anaconda3\\lib\\site-packages\\sklearn\\metrics\\_classification.py\", line 1901, in recall_score\n",
      "    _, r, _, _ = precision_recall_fscore_support(\n",
      "  File \"C:\\Users\\andre\\anaconda3\\lib\\site-packages\\sklearn\\metrics\\_classification.py\", line 1544, in precision_recall_fscore_support\n",
      "    labels = _check_set_wise_labels(y_true, y_pred, average, labels, pos_label)\n",
      "  File \"C:\\Users\\andre\\anaconda3\\lib\\site-packages\\sklearn\\metrics\\_classification.py\", line 1356, in _check_set_wise_labels\n",
      "    raise ValueError(\n",
      "ValueError: pos_label=1 is not a valid label. It should be one of ['B', 'M']\n",
      "\n",
      "  warnings.warn(\n",
      "C:\\Users\\andre\\anaconda3\\lib\\site-packages\\sklearn\\model_selection\\_validation.py:770: UserWarning: Scoring failed. The score on this train-test partition for these parameters will be set to nan. Details: \n",
      "Traceback (most recent call last):\n",
      "  File \"C:\\Users\\andre\\anaconda3\\lib\\site-packages\\sklearn\\model_selection\\_validation.py\", line 761, in _score\n",
      "    scores = scorer(estimator, X_test, y_test)\n",
      "  File \"C:\\Users\\andre\\anaconda3\\lib\\site-packages\\sklearn\\metrics\\_scorer.py\", line 216, in __call__\n",
      "    return self._score(\n",
      "  File \"C:\\Users\\andre\\anaconda3\\lib\\site-packages\\sklearn\\metrics\\_scorer.py\", line 264, in _score\n",
      "    return self._sign * self._score_func(y_true, y_pred, **self._kwargs)\n",
      "  File \"C:\\Users\\andre\\anaconda3\\lib\\site-packages\\sklearn\\metrics\\_classification.py\", line 1901, in recall_score\n",
      "    _, r, _, _ = precision_recall_fscore_support(\n",
      "  File \"C:\\Users\\andre\\anaconda3\\lib\\site-packages\\sklearn\\metrics\\_classification.py\", line 1544, in precision_recall_fscore_support\n",
      "    labels = _check_set_wise_labels(y_true, y_pred, average, labels, pos_label)\n",
      "  File \"C:\\Users\\andre\\anaconda3\\lib\\site-packages\\sklearn\\metrics\\_classification.py\", line 1356, in _check_set_wise_labels\n",
      "    raise ValueError(\n",
      "ValueError: pos_label=1 is not a valid label. It should be one of ['B', 'M']\n",
      "\n",
      "  warnings.warn(\n",
      "C:\\Users\\andre\\anaconda3\\lib\\site-packages\\sklearn\\model_selection\\_validation.py:770: UserWarning: Scoring failed. The score on this train-test partition for these parameters will be set to nan. Details: \n",
      "Traceback (most recent call last):\n",
      "  File \"C:\\Users\\andre\\anaconda3\\lib\\site-packages\\sklearn\\model_selection\\_validation.py\", line 761, in _score\n",
      "    scores = scorer(estimator, X_test, y_test)\n",
      "  File \"C:\\Users\\andre\\anaconda3\\lib\\site-packages\\sklearn\\metrics\\_scorer.py\", line 216, in __call__\n",
      "    return self._score(\n",
      "  File \"C:\\Users\\andre\\anaconda3\\lib\\site-packages\\sklearn\\metrics\\_scorer.py\", line 264, in _score\n",
      "    return self._sign * self._score_func(y_true, y_pred, **self._kwargs)\n",
      "  File \"C:\\Users\\andre\\anaconda3\\lib\\site-packages\\sklearn\\metrics\\_classification.py\", line 1901, in recall_score\n",
      "    _, r, _, _ = precision_recall_fscore_support(\n",
      "  File \"C:\\Users\\andre\\anaconda3\\lib\\site-packages\\sklearn\\metrics\\_classification.py\", line 1544, in precision_recall_fscore_support\n",
      "    labels = _check_set_wise_labels(y_true, y_pred, average, labels, pos_label)\n",
      "  File \"C:\\Users\\andre\\anaconda3\\lib\\site-packages\\sklearn\\metrics\\_classification.py\", line 1356, in _check_set_wise_labels\n",
      "    raise ValueError(\n",
      "ValueError: pos_label=1 is not a valid label. It should be one of ['B', 'M']\n",
      "\n",
      "  warnings.warn(\n",
      "C:\\Users\\andre\\anaconda3\\lib\\site-packages\\sklearn\\model_selection\\_validation.py:770: UserWarning: Scoring failed. The score on this train-test partition for these parameters will be set to nan. Details: \n",
      "Traceback (most recent call last):\n",
      "  File \"C:\\Users\\andre\\anaconda3\\lib\\site-packages\\sklearn\\model_selection\\_validation.py\", line 761, in _score\n",
      "    scores = scorer(estimator, X_test, y_test)\n",
      "  File \"C:\\Users\\andre\\anaconda3\\lib\\site-packages\\sklearn\\metrics\\_scorer.py\", line 216, in __call__\n",
      "    return self._score(\n",
      "  File \"C:\\Users\\andre\\anaconda3\\lib\\site-packages\\sklearn\\metrics\\_scorer.py\", line 264, in _score\n",
      "    return self._sign * self._score_func(y_true, y_pred, **self._kwargs)\n",
      "  File \"C:\\Users\\andre\\anaconda3\\lib\\site-packages\\sklearn\\metrics\\_classification.py\", line 1901, in recall_score\n",
      "    _, r, _, _ = precision_recall_fscore_support(\n",
      "  File \"C:\\Users\\andre\\anaconda3\\lib\\site-packages\\sklearn\\metrics\\_classification.py\", line 1544, in precision_recall_fscore_support\n",
      "    labels = _check_set_wise_labels(y_true, y_pred, average, labels, pos_label)\n",
      "  File \"C:\\Users\\andre\\anaconda3\\lib\\site-packages\\sklearn\\metrics\\_classification.py\", line 1356, in _check_set_wise_labels\n",
      "    raise ValueError(\n",
      "ValueError: pos_label=1 is not a valid label. It should be one of ['B', 'M']\n",
      "\n",
      "  warnings.warn(\n"
     ]
    },
    {
     "name": "stderr",
     "output_type": "stream",
     "text": [
      "C:\\Users\\andre\\anaconda3\\lib\\site-packages\\sklearn\\model_selection\\_validation.py:770: UserWarning: Scoring failed. The score on this train-test partition for these parameters will be set to nan. Details: \n",
      "Traceback (most recent call last):\n",
      "  File \"C:\\Users\\andre\\anaconda3\\lib\\site-packages\\sklearn\\model_selection\\_validation.py\", line 761, in _score\n",
      "    scores = scorer(estimator, X_test, y_test)\n",
      "  File \"C:\\Users\\andre\\anaconda3\\lib\\site-packages\\sklearn\\metrics\\_scorer.py\", line 216, in __call__\n",
      "    return self._score(\n",
      "  File \"C:\\Users\\andre\\anaconda3\\lib\\site-packages\\sklearn\\metrics\\_scorer.py\", line 264, in _score\n",
      "    return self._sign * self._score_func(y_true, y_pred, **self._kwargs)\n",
      "  File \"C:\\Users\\andre\\anaconda3\\lib\\site-packages\\sklearn\\metrics\\_classification.py\", line 1901, in recall_score\n",
      "    _, r, _, _ = precision_recall_fscore_support(\n",
      "  File \"C:\\Users\\andre\\anaconda3\\lib\\site-packages\\sklearn\\metrics\\_classification.py\", line 1544, in precision_recall_fscore_support\n",
      "    labels = _check_set_wise_labels(y_true, y_pred, average, labels, pos_label)\n",
      "  File \"C:\\Users\\andre\\anaconda3\\lib\\site-packages\\sklearn\\metrics\\_classification.py\", line 1356, in _check_set_wise_labels\n",
      "    raise ValueError(\n",
      "ValueError: pos_label=1 is not a valid label. It should be one of ['B', 'M']\n",
      "\n",
      "  warnings.warn(\n",
      "C:\\Users\\andre\\anaconda3\\lib\\site-packages\\sklearn\\model_selection\\_validation.py:770: UserWarning: Scoring failed. The score on this train-test partition for these parameters will be set to nan. Details: \n",
      "Traceback (most recent call last):\n",
      "  File \"C:\\Users\\andre\\anaconda3\\lib\\site-packages\\sklearn\\model_selection\\_validation.py\", line 761, in _score\n",
      "    scores = scorer(estimator, X_test, y_test)\n",
      "  File \"C:\\Users\\andre\\anaconda3\\lib\\site-packages\\sklearn\\metrics\\_scorer.py\", line 216, in __call__\n",
      "    return self._score(\n",
      "  File \"C:\\Users\\andre\\anaconda3\\lib\\site-packages\\sklearn\\metrics\\_scorer.py\", line 264, in _score\n",
      "    return self._sign * self._score_func(y_true, y_pred, **self._kwargs)\n",
      "  File \"C:\\Users\\andre\\anaconda3\\lib\\site-packages\\sklearn\\metrics\\_classification.py\", line 1901, in recall_score\n",
      "    _, r, _, _ = precision_recall_fscore_support(\n",
      "  File \"C:\\Users\\andre\\anaconda3\\lib\\site-packages\\sklearn\\metrics\\_classification.py\", line 1544, in precision_recall_fscore_support\n",
      "    labels = _check_set_wise_labels(y_true, y_pred, average, labels, pos_label)\n",
      "  File \"C:\\Users\\andre\\anaconda3\\lib\\site-packages\\sklearn\\metrics\\_classification.py\", line 1356, in _check_set_wise_labels\n",
      "    raise ValueError(\n",
      "ValueError: pos_label=1 is not a valid label. It should be one of ['B', 'M']\n",
      "\n",
      "  warnings.warn(\n",
      "C:\\Users\\andre\\anaconda3\\lib\\site-packages\\sklearn\\model_selection\\_validation.py:770: UserWarning: Scoring failed. The score on this train-test partition for these parameters will be set to nan. Details: \n",
      "Traceback (most recent call last):\n",
      "  File \"C:\\Users\\andre\\anaconda3\\lib\\site-packages\\sklearn\\model_selection\\_validation.py\", line 761, in _score\n",
      "    scores = scorer(estimator, X_test, y_test)\n",
      "  File \"C:\\Users\\andre\\anaconda3\\lib\\site-packages\\sklearn\\metrics\\_scorer.py\", line 216, in __call__\n",
      "    return self._score(\n",
      "  File \"C:\\Users\\andre\\anaconda3\\lib\\site-packages\\sklearn\\metrics\\_scorer.py\", line 264, in _score\n",
      "    return self._sign * self._score_func(y_true, y_pred, **self._kwargs)\n",
      "  File \"C:\\Users\\andre\\anaconda3\\lib\\site-packages\\sklearn\\metrics\\_classification.py\", line 1901, in recall_score\n",
      "    _, r, _, _ = precision_recall_fscore_support(\n",
      "  File \"C:\\Users\\andre\\anaconda3\\lib\\site-packages\\sklearn\\metrics\\_classification.py\", line 1544, in precision_recall_fscore_support\n",
      "    labels = _check_set_wise_labels(y_true, y_pred, average, labels, pos_label)\n",
      "  File \"C:\\Users\\andre\\anaconda3\\lib\\site-packages\\sklearn\\metrics\\_classification.py\", line 1356, in _check_set_wise_labels\n",
      "    raise ValueError(\n",
      "ValueError: pos_label=1 is not a valid label. It should be one of ['B', 'M']\n",
      "\n",
      "  warnings.warn(\n",
      "C:\\Users\\andre\\anaconda3\\lib\\site-packages\\sklearn\\model_selection\\_validation.py:770: UserWarning: Scoring failed. The score on this train-test partition for these parameters will be set to nan. Details: \n",
      "Traceback (most recent call last):\n",
      "  File \"C:\\Users\\andre\\anaconda3\\lib\\site-packages\\sklearn\\model_selection\\_validation.py\", line 761, in _score\n",
      "    scores = scorer(estimator, X_test, y_test)\n",
      "  File \"C:\\Users\\andre\\anaconda3\\lib\\site-packages\\sklearn\\metrics\\_scorer.py\", line 216, in __call__\n",
      "    return self._score(\n",
      "  File \"C:\\Users\\andre\\anaconda3\\lib\\site-packages\\sklearn\\metrics\\_scorer.py\", line 264, in _score\n",
      "    return self._sign * self._score_func(y_true, y_pred, **self._kwargs)\n",
      "  File \"C:\\Users\\andre\\anaconda3\\lib\\site-packages\\sklearn\\metrics\\_classification.py\", line 1901, in recall_score\n",
      "    _, r, _, _ = precision_recall_fscore_support(\n",
      "  File \"C:\\Users\\andre\\anaconda3\\lib\\site-packages\\sklearn\\metrics\\_classification.py\", line 1544, in precision_recall_fscore_support\n",
      "    labels = _check_set_wise_labels(y_true, y_pred, average, labels, pos_label)\n",
      "  File \"C:\\Users\\andre\\anaconda3\\lib\\site-packages\\sklearn\\metrics\\_classification.py\", line 1356, in _check_set_wise_labels\n",
      "    raise ValueError(\n",
      "ValueError: pos_label=1 is not a valid label. It should be one of ['B', 'M']\n",
      "\n",
      "  warnings.warn(\n",
      "C:\\Users\\andre\\anaconda3\\lib\\site-packages\\sklearn\\model_selection\\_validation.py:770: UserWarning: Scoring failed. The score on this train-test partition for these parameters will be set to nan. Details: \n",
      "Traceback (most recent call last):\n",
      "  File \"C:\\Users\\andre\\anaconda3\\lib\\site-packages\\sklearn\\model_selection\\_validation.py\", line 761, in _score\n",
      "    scores = scorer(estimator, X_test, y_test)\n",
      "  File \"C:\\Users\\andre\\anaconda3\\lib\\site-packages\\sklearn\\metrics\\_scorer.py\", line 216, in __call__\n",
      "    return self._score(\n",
      "  File \"C:\\Users\\andre\\anaconda3\\lib\\site-packages\\sklearn\\metrics\\_scorer.py\", line 264, in _score\n",
      "    return self._sign * self._score_func(y_true, y_pred, **self._kwargs)\n",
      "  File \"C:\\Users\\andre\\anaconda3\\lib\\site-packages\\sklearn\\metrics\\_classification.py\", line 1901, in recall_score\n",
      "    _, r, _, _ = precision_recall_fscore_support(\n",
      "  File \"C:\\Users\\andre\\anaconda3\\lib\\site-packages\\sklearn\\metrics\\_classification.py\", line 1544, in precision_recall_fscore_support\n",
      "    labels = _check_set_wise_labels(y_true, y_pred, average, labels, pos_label)\n",
      "  File \"C:\\Users\\andre\\anaconda3\\lib\\site-packages\\sklearn\\metrics\\_classification.py\", line 1356, in _check_set_wise_labels\n",
      "    raise ValueError(\n",
      "ValueError: pos_label=1 is not a valid label. It should be one of ['B', 'M']\n",
      "\n",
      "  warnings.warn(\n",
      "C:\\Users\\andre\\anaconda3\\lib\\site-packages\\sklearn\\model_selection\\_validation.py:770: UserWarning: Scoring failed. The score on this train-test partition for these parameters will be set to nan. Details: \n",
      "Traceback (most recent call last):\n",
      "  File \"C:\\Users\\andre\\anaconda3\\lib\\site-packages\\sklearn\\model_selection\\_validation.py\", line 761, in _score\n",
      "    scores = scorer(estimator, X_test, y_test)\n",
      "  File \"C:\\Users\\andre\\anaconda3\\lib\\site-packages\\sklearn\\metrics\\_scorer.py\", line 216, in __call__\n",
      "    return self._score(\n",
      "  File \"C:\\Users\\andre\\anaconda3\\lib\\site-packages\\sklearn\\metrics\\_scorer.py\", line 264, in _score\n",
      "    return self._sign * self._score_func(y_true, y_pred, **self._kwargs)\n",
      "  File \"C:\\Users\\andre\\anaconda3\\lib\\site-packages\\sklearn\\metrics\\_classification.py\", line 1901, in recall_score\n",
      "    _, r, _, _ = precision_recall_fscore_support(\n",
      "  File \"C:\\Users\\andre\\anaconda3\\lib\\site-packages\\sklearn\\metrics\\_classification.py\", line 1544, in precision_recall_fscore_support\n",
      "    labels = _check_set_wise_labels(y_true, y_pred, average, labels, pos_label)\n",
      "  File \"C:\\Users\\andre\\anaconda3\\lib\\site-packages\\sklearn\\metrics\\_classification.py\", line 1356, in _check_set_wise_labels\n",
      "    raise ValueError(\n",
      "ValueError: pos_label=1 is not a valid label. It should be one of ['B', 'M']\n",
      "\n",
      "  warnings.warn(\n",
      "C:\\Users\\andre\\anaconda3\\lib\\site-packages\\sklearn\\model_selection\\_validation.py:770: UserWarning: Scoring failed. The score on this train-test partition for these parameters will be set to nan. Details: \n",
      "Traceback (most recent call last):\n",
      "  File \"C:\\Users\\andre\\anaconda3\\lib\\site-packages\\sklearn\\model_selection\\_validation.py\", line 761, in _score\n",
      "    scores = scorer(estimator, X_test, y_test)\n",
      "  File \"C:\\Users\\andre\\anaconda3\\lib\\site-packages\\sklearn\\metrics\\_scorer.py\", line 216, in __call__\n",
      "    return self._score(\n",
      "  File \"C:\\Users\\andre\\anaconda3\\lib\\site-packages\\sklearn\\metrics\\_scorer.py\", line 264, in _score\n",
      "    return self._sign * self._score_func(y_true, y_pred, **self._kwargs)\n",
      "  File \"C:\\Users\\andre\\anaconda3\\lib\\site-packages\\sklearn\\metrics\\_classification.py\", line 1901, in recall_score\n",
      "    _, r, _, _ = precision_recall_fscore_support(\n",
      "  File \"C:\\Users\\andre\\anaconda3\\lib\\site-packages\\sklearn\\metrics\\_classification.py\", line 1544, in precision_recall_fscore_support\n",
      "    labels = _check_set_wise_labels(y_true, y_pred, average, labels, pos_label)\n",
      "  File \"C:\\Users\\andre\\anaconda3\\lib\\site-packages\\sklearn\\metrics\\_classification.py\", line 1356, in _check_set_wise_labels\n",
      "    raise ValueError(\n",
      "ValueError: pos_label=1 is not a valid label. It should be one of ['B', 'M']\n",
      "\n",
      "  warnings.warn(\n",
      "C:\\Users\\andre\\anaconda3\\lib\\site-packages\\sklearn\\model_selection\\_validation.py:770: UserWarning: Scoring failed. The score on this train-test partition for these parameters will be set to nan. Details: \n",
      "Traceback (most recent call last):\n",
      "  File \"C:\\Users\\andre\\anaconda3\\lib\\site-packages\\sklearn\\model_selection\\_validation.py\", line 761, in _score\n",
      "    scores = scorer(estimator, X_test, y_test)\n",
      "  File \"C:\\Users\\andre\\anaconda3\\lib\\site-packages\\sklearn\\metrics\\_scorer.py\", line 216, in __call__\n",
      "    return self._score(\n",
      "  File \"C:\\Users\\andre\\anaconda3\\lib\\site-packages\\sklearn\\metrics\\_scorer.py\", line 264, in _score\n",
      "    return self._sign * self._score_func(y_true, y_pred, **self._kwargs)\n",
      "  File \"C:\\Users\\andre\\anaconda3\\lib\\site-packages\\sklearn\\metrics\\_classification.py\", line 1901, in recall_score\n",
      "    _, r, _, _ = precision_recall_fscore_support(\n",
      "  File \"C:\\Users\\andre\\anaconda3\\lib\\site-packages\\sklearn\\metrics\\_classification.py\", line 1544, in precision_recall_fscore_support\n",
      "    labels = _check_set_wise_labels(y_true, y_pred, average, labels, pos_label)\n",
      "  File \"C:\\Users\\andre\\anaconda3\\lib\\site-packages\\sklearn\\metrics\\_classification.py\", line 1356, in _check_set_wise_labels\n",
      "    raise ValueError(\n",
      "ValueError: pos_label=1 is not a valid label. It should be one of ['B', 'M']\n",
      "\n",
      "  warnings.warn(\n",
      "C:\\Users\\andre\\anaconda3\\lib\\site-packages\\sklearn\\model_selection\\_validation.py:770: UserWarning: Scoring failed. The score on this train-test partition for these parameters will be set to nan. Details: \n",
      "Traceback (most recent call last):\n",
      "  File \"C:\\Users\\andre\\anaconda3\\lib\\site-packages\\sklearn\\model_selection\\_validation.py\", line 761, in _score\n",
      "    scores = scorer(estimator, X_test, y_test)\n",
      "  File \"C:\\Users\\andre\\anaconda3\\lib\\site-packages\\sklearn\\metrics\\_scorer.py\", line 216, in __call__\n",
      "    return self._score(\n",
      "  File \"C:\\Users\\andre\\anaconda3\\lib\\site-packages\\sklearn\\metrics\\_scorer.py\", line 264, in _score\n",
      "    return self._sign * self._score_func(y_true, y_pred, **self._kwargs)\n",
      "  File \"C:\\Users\\andre\\anaconda3\\lib\\site-packages\\sklearn\\metrics\\_classification.py\", line 1901, in recall_score\n",
      "    _, r, _, _ = precision_recall_fscore_support(\n",
      "  File \"C:\\Users\\andre\\anaconda3\\lib\\site-packages\\sklearn\\metrics\\_classification.py\", line 1544, in precision_recall_fscore_support\n",
      "    labels = _check_set_wise_labels(y_true, y_pred, average, labels, pos_label)\n",
      "  File \"C:\\Users\\andre\\anaconda3\\lib\\site-packages\\sklearn\\metrics\\_classification.py\", line 1356, in _check_set_wise_labels\n",
      "    raise ValueError(\n",
      "ValueError: pos_label=1 is not a valid label. It should be one of ['B', 'M']\n",
      "\n",
      "  warnings.warn(\n",
      "C:\\Users\\andre\\anaconda3\\lib\\site-packages\\sklearn\\model_selection\\_validation.py:770: UserWarning: Scoring failed. The score on this train-test partition for these parameters will be set to nan. Details: \n",
      "Traceback (most recent call last):\n",
      "  File \"C:\\Users\\andre\\anaconda3\\lib\\site-packages\\sklearn\\model_selection\\_validation.py\", line 761, in _score\n",
      "    scores = scorer(estimator, X_test, y_test)\n",
      "  File \"C:\\Users\\andre\\anaconda3\\lib\\site-packages\\sklearn\\metrics\\_scorer.py\", line 216, in __call__\n",
      "    return self._score(\n",
      "  File \"C:\\Users\\andre\\anaconda3\\lib\\site-packages\\sklearn\\metrics\\_scorer.py\", line 264, in _score\n",
      "    return self._sign * self._score_func(y_true, y_pred, **self._kwargs)\n",
      "  File \"C:\\Users\\andre\\anaconda3\\lib\\site-packages\\sklearn\\metrics\\_classification.py\", line 1901, in recall_score\n",
      "    _, r, _, _ = precision_recall_fscore_support(\n",
      "  File \"C:\\Users\\andre\\anaconda3\\lib\\site-packages\\sklearn\\metrics\\_classification.py\", line 1544, in precision_recall_fscore_support\n",
      "    labels = _check_set_wise_labels(y_true, y_pred, average, labels, pos_label)\n",
      "  File \"C:\\Users\\andre\\anaconda3\\lib\\site-packages\\sklearn\\metrics\\_classification.py\", line 1356, in _check_set_wise_labels\n",
      "    raise ValueError(\n",
      "ValueError: pos_label=1 is not a valid label. It should be one of ['B', 'M']\n",
      "\n",
      "  warnings.warn(\n",
      "C:\\Users\\andre\\anaconda3\\lib\\site-packages\\sklearn\\model_selection\\_validation.py:770: UserWarning: Scoring failed. The score on this train-test partition for these parameters will be set to nan. Details: \n",
      "Traceback (most recent call last):\n",
      "  File \"C:\\Users\\andre\\anaconda3\\lib\\site-packages\\sklearn\\model_selection\\_validation.py\", line 761, in _score\n",
      "    scores = scorer(estimator, X_test, y_test)\n",
      "  File \"C:\\Users\\andre\\anaconda3\\lib\\site-packages\\sklearn\\metrics\\_scorer.py\", line 216, in __call__\n",
      "    return self._score(\n",
      "  File \"C:\\Users\\andre\\anaconda3\\lib\\site-packages\\sklearn\\metrics\\_scorer.py\", line 264, in _score\n",
      "    return self._sign * self._score_func(y_true, y_pred, **self._kwargs)\n",
      "  File \"C:\\Users\\andre\\anaconda3\\lib\\site-packages\\sklearn\\metrics\\_classification.py\", line 1901, in recall_score\n",
      "    _, r, _, _ = precision_recall_fscore_support(\n",
      "  File \"C:\\Users\\andre\\anaconda3\\lib\\site-packages\\sklearn\\metrics\\_classification.py\", line 1544, in precision_recall_fscore_support\n",
      "    labels = _check_set_wise_labels(y_true, y_pred, average, labels, pos_label)\n",
      "  File \"C:\\Users\\andre\\anaconda3\\lib\\site-packages\\sklearn\\metrics\\_classification.py\", line 1356, in _check_set_wise_labels\n",
      "    raise ValueError(\n",
      "ValueError: pos_label=1 is not a valid label. It should be one of ['B', 'M']\n",
      "\n",
      "  warnings.warn(\n",
      "C:\\Users\\andre\\anaconda3\\lib\\site-packages\\sklearn\\model_selection\\_validation.py:770: UserWarning: Scoring failed. The score on this train-test partition for these parameters will be set to nan. Details: \n",
      "Traceback (most recent call last):\n",
      "  File \"C:\\Users\\andre\\anaconda3\\lib\\site-packages\\sklearn\\model_selection\\_validation.py\", line 761, in _score\n",
      "    scores = scorer(estimator, X_test, y_test)\n",
      "  File \"C:\\Users\\andre\\anaconda3\\lib\\site-packages\\sklearn\\metrics\\_scorer.py\", line 216, in __call__\n",
      "    return self._score(\n",
      "  File \"C:\\Users\\andre\\anaconda3\\lib\\site-packages\\sklearn\\metrics\\_scorer.py\", line 264, in _score\n",
      "    return self._sign * self._score_func(y_true, y_pred, **self._kwargs)\n",
      "  File \"C:\\Users\\andre\\anaconda3\\lib\\site-packages\\sklearn\\metrics\\_classification.py\", line 1901, in recall_score\n",
      "    _, r, _, _ = precision_recall_fscore_support(\n",
      "  File \"C:\\Users\\andre\\anaconda3\\lib\\site-packages\\sklearn\\metrics\\_classification.py\", line 1544, in precision_recall_fscore_support\n",
      "    labels = _check_set_wise_labels(y_true, y_pred, average, labels, pos_label)\n",
      "  File \"C:\\Users\\andre\\anaconda3\\lib\\site-packages\\sklearn\\metrics\\_classification.py\", line 1356, in _check_set_wise_labels\n",
      "    raise ValueError(\n",
      "ValueError: pos_label=1 is not a valid label. It should be one of ['B', 'M']\n",
      "\n",
      "  warnings.warn(\n",
      "C:\\Users\\andre\\anaconda3\\lib\\site-packages\\sklearn\\model_selection\\_validation.py:770: UserWarning: Scoring failed. The score on this train-test partition for these parameters will be set to nan. Details: \n",
      "Traceback (most recent call last):\n",
      "  File \"C:\\Users\\andre\\anaconda3\\lib\\site-packages\\sklearn\\model_selection\\_validation.py\", line 761, in _score\n",
      "    scores = scorer(estimator, X_test, y_test)\n",
      "  File \"C:\\Users\\andre\\anaconda3\\lib\\site-packages\\sklearn\\metrics\\_scorer.py\", line 216, in __call__\n",
      "    return self._score(\n",
      "  File \"C:\\Users\\andre\\anaconda3\\lib\\site-packages\\sklearn\\metrics\\_scorer.py\", line 264, in _score\n",
      "    return self._sign * self._score_func(y_true, y_pred, **self._kwargs)\n",
      "  File \"C:\\Users\\andre\\anaconda3\\lib\\site-packages\\sklearn\\metrics\\_classification.py\", line 1901, in recall_score\n",
      "    _, r, _, _ = precision_recall_fscore_support(\n",
      "  File \"C:\\Users\\andre\\anaconda3\\lib\\site-packages\\sklearn\\metrics\\_classification.py\", line 1544, in precision_recall_fscore_support\n",
      "    labels = _check_set_wise_labels(y_true, y_pred, average, labels, pos_label)\n",
      "  File \"C:\\Users\\andre\\anaconda3\\lib\\site-packages\\sklearn\\metrics\\_classification.py\", line 1356, in _check_set_wise_labels\n",
      "    raise ValueError(\n",
      "ValueError: pos_label=1 is not a valid label. It should be one of ['B', 'M']\n",
      "\n",
      "  warnings.warn(\n"
     ]
    }
   ],
   "source": [
    "from sklearn.model_selection import KFold, cross_validate\n",
    "\n",
    "grupo = KFold(n_splits=10, shuffle=True, random_state=42)\n",
    "\n",
    "metrica = \"recall\"\n",
    "\n",
    "results = cross_validate(estimator=knn,\n",
    "                         X=X_train_ss, y=y_train,\n",
    "                         cv=grupo,\n",
    "                         scoring=metrica,\n",
    "                         return_train_score=True)"
   ]
  },
  {
   "cell_type": "markdown",
   "metadata": {},
   "source": [
    "Não há problema algum em utilizar as classes originais quando deseja-se avaliar o modelo final com a matriz de confusão ou o classification_report. Internamente, é feita um mapeamento pra 0 e 1.\n",
    "\n",
    "Mas, pra usar o cross_validate, este mapa não é feito. Daí, é necessário que seja explicitamente indicada este mapeamento, indicando qual é a **classe positiva**, isto é, qual a classe referente à qual calcularemos as métricas de avaliação. Pra isso, precisamos:\n",
    "\n",
    "- Indicar qual é a classe positiva (valor 1) na hora de indicar a métrica a ser calculada -- mas pra isso, a função respectiva da métrica deve ser usada na função `make_scorer`, junto com o argumento `pos_label`\n",
    "\n",
    "Vejamos:"
   ]
  },
  {
   "cell_type": "markdown",
   "metadata": {},
   "source": [
    "Discutimos que o recall da classe \"M\" é o que queremos otimizar. Então, vamos, antes de tudo, fazer a CV pra essa métrica:"
   ]
  },
  {
   "cell_type": "code",
   "execution_count": 34,
   "metadata": {
    "ExecuteTime": {
     "end_time": "2022-05-31T21:59:35.645565Z",
     "start_time": "2022-05-31T21:59:34.990427Z"
    }
   },
   "outputs": [],
   "source": [
    "from sklearn.metrics import recall_score, make_scorer\n",
    "\n",
    "metrica = make_scorer(recall_score, pos_label=\"M\")\n",
    "\n",
    "results = cross_validate(estimator=knn,\n",
    "                         X=X_train_ss, y=y_train,\n",
    "                         cv=grupo,\n",
    "                         scoring=metrica,\n",
    "                         return_train_score=True)"
   ]
  },
  {
   "cell_type": "code",
   "execution_count": 35,
   "metadata": {
    "ExecuteTime": {
     "end_time": "2022-05-31T21:59:35.802975Z",
     "start_time": "2022-05-31T21:59:35.647546Z"
    }
   },
   "outputs": [
    {
     "data": {
      "text/html": [
       "<div>\n",
       "<style scoped>\n",
       "    .dataframe tbody tr th:only-of-type {\n",
       "        vertical-align: middle;\n",
       "    }\n",
       "\n",
       "    .dataframe tbody tr th {\n",
       "        vertical-align: top;\n",
       "    }\n",
       "\n",
       "    .dataframe thead th {\n",
       "        text-align: right;\n",
       "    }\n",
       "</style>\n",
       "<table border=\"1\" class=\"dataframe\">\n",
       "  <thead>\n",
       "    <tr style=\"text-align: right;\">\n",
       "      <th></th>\n",
       "      <th>fit_time</th>\n",
       "      <th>score_time</th>\n",
       "      <th>test_score</th>\n",
       "      <th>train_score</th>\n",
       "    </tr>\n",
       "  </thead>\n",
       "  <tbody>\n",
       "    <tr>\n",
       "      <th>0</th>\n",
       "      <td>0.001991</td>\n",
       "      <td>0.006998</td>\n",
       "      <td>0.900000</td>\n",
       "      <td>0.950000</td>\n",
       "    </tr>\n",
       "    <tr>\n",
       "      <th>1</th>\n",
       "      <td>0.001999</td>\n",
       "      <td>0.004998</td>\n",
       "      <td>0.956522</td>\n",
       "      <td>0.952381</td>\n",
       "    </tr>\n",
       "    <tr>\n",
       "      <th>2</th>\n",
       "      <td>0.003995</td>\n",
       "      <td>0.005998</td>\n",
       "      <td>0.950000</td>\n",
       "      <td>0.946667</td>\n",
       "    </tr>\n",
       "    <tr>\n",
       "      <th>3</th>\n",
       "      <td>0.004001</td>\n",
       "      <td>0.009993</td>\n",
       "      <td>0.944444</td>\n",
       "      <td>0.934211</td>\n",
       "    </tr>\n",
       "    <tr>\n",
       "      <th>4</th>\n",
       "      <td>0.013992</td>\n",
       "      <td>0.010991</td>\n",
       "      <td>0.909091</td>\n",
       "      <td>0.949686</td>\n",
       "    </tr>\n",
       "    <tr>\n",
       "      <th>5</th>\n",
       "      <td>0.004997</td>\n",
       "      <td>0.010992</td>\n",
       "      <td>0.950000</td>\n",
       "      <td>0.933333</td>\n",
       "    </tr>\n",
       "    <tr>\n",
       "      <th>6</th>\n",
       "      <td>0.002997</td>\n",
       "      <td>0.004997</td>\n",
       "      <td>0.900000</td>\n",
       "      <td>0.946667</td>\n",
       "    </tr>\n",
       "    <tr>\n",
       "      <th>7</th>\n",
       "      <td>0.002999</td>\n",
       "      <td>0.006994</td>\n",
       "      <td>0.882353</td>\n",
       "      <td>0.934641</td>\n",
       "    </tr>\n",
       "    <tr>\n",
       "      <th>8</th>\n",
       "      <td>0.002999</td>\n",
       "      <td>0.005994</td>\n",
       "      <td>0.750000</td>\n",
       "      <td>0.949367</td>\n",
       "    </tr>\n",
       "    <tr>\n",
       "      <th>9</th>\n",
       "      <td>0.003996</td>\n",
       "      <td>0.008995</td>\n",
       "      <td>0.947368</td>\n",
       "      <td>0.933775</td>\n",
       "    </tr>\n",
       "  </tbody>\n",
       "</table>\n",
       "</div>"
      ],
      "text/plain": [
       "   fit_time  score_time  test_score  train_score\n",
       "0  0.001991    0.006998    0.900000     0.950000\n",
       "1  0.001999    0.004998    0.956522     0.952381\n",
       "2  0.003995    0.005998    0.950000     0.946667\n",
       "3  0.004001    0.009993    0.944444     0.934211\n",
       "4  0.013992    0.010991    0.909091     0.949686\n",
       "5  0.004997    0.010992    0.950000     0.933333\n",
       "6  0.002997    0.004997    0.900000     0.946667\n",
       "7  0.002999    0.006994    0.882353     0.934641\n",
       "8  0.002999    0.005994    0.750000     0.949367\n",
       "9  0.003996    0.008995    0.947368     0.933775"
      ]
     },
     "execution_count": 35,
     "metadata": {},
     "output_type": "execute_result"
    }
   ],
   "source": [
    "pd.DataFrame(results)"
   ]
  },
  {
   "cell_type": "markdown",
   "metadata": {},
   "source": [
    "Chamando a nossa função, mas agora com o `make_scorer` sendo o nosso argumento `scoring`"
   ]
  },
  {
   "cell_type": "code",
   "execution_count": 36,
   "metadata": {
    "ExecuteTime": {
     "end_time": "2022-05-31T21:59:43.186250Z",
     "start_time": "2022-05-31T21:59:35.810970Z"
    }
   },
   "outputs": [
    {
     "name": "stdout",
     "output_type": "stream",
     "text": [
      "\n",
      "Distribuição da métrica de avaliação score:\n"
     ]
    },
    {
     "data": {
      "text/html": [
       "<div>\n",
       "<style scoped>\n",
       "    .dataframe tbody tr th:only-of-type {\n",
       "        vertical-align: middle;\n",
       "    }\n",
       "\n",
       "    .dataframe tbody tr th {\n",
       "        vertical-align: top;\n",
       "    }\n",
       "\n",
       "    .dataframe thead th {\n",
       "        text-align: right;\n",
       "    }\n",
       "</style>\n",
       "<table border=\"1\" class=\"dataframe\">\n",
       "  <thead>\n",
       "    <tr style=\"text-align: right;\">\n",
       "      <th></th>\n",
       "      <th>test_score</th>\n",
       "      <th>train_score</th>\n",
       "    </tr>\n",
       "  </thead>\n",
       "  <tbody>\n",
       "    <tr>\n",
       "      <th>count</th>\n",
       "      <td>20.000000</td>\n",
       "      <td>20.000000</td>\n",
       "    </tr>\n",
       "    <tr>\n",
       "      <th>mean</th>\n",
       "      <td>0.896818</td>\n",
       "      <td>0.944865</td>\n",
       "    </tr>\n",
       "    <tr>\n",
       "      <th>std</th>\n",
       "      <td>0.145105</td>\n",
       "      <td>0.006841</td>\n",
       "    </tr>\n",
       "    <tr>\n",
       "      <th>min</th>\n",
       "      <td>0.400000</td>\n",
       "      <td>0.931250</td>\n",
       "    </tr>\n",
       "    <tr>\n",
       "      <th>25%</th>\n",
       "      <td>0.829545</td>\n",
       "      <td>0.941751</td>\n",
       "    </tr>\n",
       "    <tr>\n",
       "      <th>50%</th>\n",
       "      <td>0.925000</td>\n",
       "      <td>0.944615</td>\n",
       "    </tr>\n",
       "    <tr>\n",
       "      <th>75%</th>\n",
       "      <td>1.000000</td>\n",
       "      <td>0.946992</td>\n",
       "    </tr>\n",
       "    <tr>\n",
       "      <th>max</th>\n",
       "      <td>1.000000</td>\n",
       "      <td>0.957576</td>\n",
       "    </tr>\n",
       "  </tbody>\n",
       "</table>\n",
       "</div>"
      ],
      "text/plain": [
       "       test_score  train_score\n",
       "count   20.000000    20.000000\n",
       "mean     0.896818     0.944865\n",
       "std      0.145105     0.006841\n",
       "min      0.400000     0.931250\n",
       "25%      0.829545     0.941751\n",
       "50%      0.925000     0.944615\n",
       "75%      1.000000     0.946992\n",
       "max      1.000000     0.957576"
      ]
     },
     "metadata": {},
     "output_type": "display_data"
    },
    {
     "name": "stdout",
     "output_type": "stream",
     "text": [
      "\n",
      "Distribuição de score de treino\n"
     ]
    },
    {
     "data": {
      "image/png": "[encoded data removed]",
      "text/plain": [
       "<Figure size 432x288 with 1 Axes>"
      ]
     },
     "metadata": {
      "needs_background": "light"
     },
     "output_type": "display_data"
    },
    {
     "name": "stdout",
     "output_type": "stream",
     "text": [
      "\n",
      "Distribuição de score de teste\n"
     ]
    },
    {
     "data": {
      "image/png": "[encoded data removed]",
      "text/plain": [
       "<Figure size 432x288 with 1 Axes>"
      ]
     },
     "metadata": {
      "needs_background": "light"
     },
     "output_type": "display_data"
    },
    {
     "name": "stdout",
     "output_type": "stream",
     "text": [
      "\n",
      "As duas juntas (compara a variância!)\n"
     ]
    },
    {
     "data": {
      "image/png": "[encoded data removed]",
      "text/plain": [
       "<Figure size 432x288 with 1 Axes>"
      ]
     },
     "metadata": {
      "needs_background": "light"
     },
     "output_type": "display_data"
    },
    {
     "name": "stdout",
     "output_type": "stream",
     "text": [
      "################################################################################\n"
     ]
    },
    {
     "data": {
      "text/html": [
       "<div>\n",
       "<style scoped>\n",
       "    .dataframe tbody tr th:only-of-type {\n",
       "        vertical-align: middle;\n",
       "    }\n",
       "\n",
       "    .dataframe tbody tr th {\n",
       "        vertical-align: top;\n",
       "    }\n",
       "\n",
       "    .dataframe thead th {\n",
       "        text-align: right;\n",
       "    }\n",
       "</style>\n",
       "<table border=\"1\" class=\"dataframe\">\n",
       "  <thead>\n",
       "    <tr style=\"text-align: right;\">\n",
       "      <th></th>\n",
       "      <th>fit_time</th>\n",
       "      <th>score_time</th>\n",
       "      <th>test_score</th>\n",
       "      <th>train_score</th>\n",
       "    </tr>\n",
       "  </thead>\n",
       "  <tbody>\n",
       "    <tr>\n",
       "      <th>0</th>\n",
       "      <td>0.005999</td>\n",
       "      <td>0.008993</td>\n",
       "      <td>1.000000</td>\n",
       "      <td>0.945455</td>\n",
       "    </tr>\n",
       "    <tr>\n",
       "      <th>1</th>\n",
       "      <td>0.005998</td>\n",
       "      <td>0.007994</td>\n",
       "      <td>0.800000</td>\n",
       "      <td>0.951515</td>\n",
       "    </tr>\n",
       "    <tr>\n",
       "      <th>2</th>\n",
       "      <td>0.005976</td>\n",
       "      <td>0.007027</td>\n",
       "      <td>0.933333</td>\n",
       "      <td>0.954839</td>\n",
       "    </tr>\n",
       "    <tr>\n",
       "      <th>3</th>\n",
       "      <td>0.004998</td>\n",
       "      <td>0.007994</td>\n",
       "      <td>1.000000</td>\n",
       "      <td>0.944444</td>\n",
       "    </tr>\n",
       "    <tr>\n",
       "      <th>4</th>\n",
       "      <td>0.008996</td>\n",
       "      <td>0.008997</td>\n",
       "      <td>1.000000</td>\n",
       "      <td>0.950617</td>\n",
       "    </tr>\n",
       "    <tr>\n",
       "      <th>5</th>\n",
       "      <td>0.006999</td>\n",
       "      <td>0.018985</td>\n",
       "      <td>0.916667</td>\n",
       "      <td>0.943038</td>\n",
       "    </tr>\n",
       "    <tr>\n",
       "      <th>6</th>\n",
       "      <td>0.006000</td>\n",
       "      <td>0.009992</td>\n",
       "      <td>1.000000</td>\n",
       "      <td>0.944099</td>\n",
       "    </tr>\n",
       "    <tr>\n",
       "      <th>7</th>\n",
       "      <td>0.005996</td>\n",
       "      <td>0.007995</td>\n",
       "      <td>0.888889</td>\n",
       "      <td>0.937888</td>\n",
       "    </tr>\n",
       "    <tr>\n",
       "      <th>8</th>\n",
       "      <td>0.009993</td>\n",
       "      <td>0.014990</td>\n",
       "      <td>0.750000</td>\n",
       "      <td>0.945783</td>\n",
       "    </tr>\n",
       "    <tr>\n",
       "      <th>9</th>\n",
       "      <td>0.004000</td>\n",
       "      <td>0.008994</td>\n",
       "      <td>1.000000</td>\n",
       "      <td>0.944785</td>\n",
       "    </tr>\n",
       "    <tr>\n",
       "      <th>10</th>\n",
       "      <td>0.008825</td>\n",
       "      <td>0.008028</td>\n",
       "      <td>0.777778</td>\n",
       "      <td>0.944099</td>\n",
       "    </tr>\n",
       "    <tr>\n",
       "      <th>11</th>\n",
       "      <td>0.006080</td>\n",
       "      <td>0.009466</td>\n",
       "      <td>1.000000</td>\n",
       "      <td>0.936709</td>\n",
       "    </tr>\n",
       "    <tr>\n",
       "      <th>12</th>\n",
       "      <td>0.004995</td>\n",
       "      <td>0.006996</td>\n",
       "      <td>0.818182</td>\n",
       "      <td>0.955975</td>\n",
       "    </tr>\n",
       "    <tr>\n",
       "      <th>13</th>\n",
       "      <td>0.004992</td>\n",
       "      <td>0.012023</td>\n",
       "      <td>1.000000</td>\n",
       "      <td>0.931250</td>\n",
       "    </tr>\n",
       "    <tr>\n",
       "      <th>14</th>\n",
       "      <td>0.005117</td>\n",
       "      <td>0.026021</td>\n",
       "      <td>0.833333</td>\n",
       "      <td>0.945122</td>\n",
       "    </tr>\n",
       "    <tr>\n",
       "      <th>15</th>\n",
       "      <td>0.005994</td>\n",
       "      <td>0.007995</td>\n",
       "      <td>0.909091</td>\n",
       "      <td>0.937107</td>\n",
       "    </tr>\n",
       "    <tr>\n",
       "      <th>16</th>\n",
       "      <td>0.004000</td>\n",
       "      <td>0.010992</td>\n",
       "      <td>0.400000</td>\n",
       "      <td>0.957576</td>\n",
       "    </tr>\n",
       "    <tr>\n",
       "      <th>17</th>\n",
       "      <td>0.003994</td>\n",
       "      <td>0.026985</td>\n",
       "      <td>1.000000</td>\n",
       "      <td>0.945455</td>\n",
       "    </tr>\n",
       "    <tr>\n",
       "      <th>18</th>\n",
       "      <td>0.005997</td>\n",
       "      <td>0.008991</td>\n",
       "      <td>1.000000</td>\n",
       "      <td>0.944444</td>\n",
       "    </tr>\n",
       "    <tr>\n",
       "      <th>19</th>\n",
       "      <td>0.006995</td>\n",
       "      <td>0.006995</td>\n",
       "      <td>0.909091</td>\n",
       "      <td>0.937107</td>\n",
       "    </tr>\n",
       "  </tbody>\n",
       "</table>\n",
       "</div>"
      ],
      "text/plain": [
       "    fit_time  score_time  test_score  train_score\n",
       "0   0.005999    0.008993    1.000000     0.945455\n",
       "1   0.005998    0.007994    0.800000     0.951515\n",
       "2   0.005976    0.007027    0.933333     0.954839\n",
       "3   0.004998    0.007994    1.000000     0.944444\n",
       "4   0.008996    0.008997    1.000000     0.950617\n",
       "5   0.006999    0.018985    0.916667     0.943038\n",
       "6   0.006000    0.009992    1.000000     0.944099\n",
       "7   0.005996    0.007995    0.888889     0.937888\n",
       "8   0.009993    0.014990    0.750000     0.945783\n",
       "9   0.004000    0.008994    1.000000     0.944785\n",
       "10  0.008825    0.008028    0.777778     0.944099\n",
       "11  0.006080    0.009466    1.000000     0.936709\n",
       "12  0.004995    0.006996    0.818182     0.955975\n",
       "13  0.004992    0.012023    1.000000     0.931250\n",
       "14  0.005117    0.026021    0.833333     0.945122\n",
       "15  0.005994    0.007995    0.909091     0.937107\n",
       "16  0.004000    0.010992    0.400000     0.957576\n",
       "17  0.003994    0.026985    1.000000     0.945455\n",
       "18  0.005997    0.008991    1.000000     0.944444\n",
       "19  0.006995    0.006995    0.909091     0.937107"
      ]
     },
     "execution_count": 36,
     "metadata": {},
     "output_type": "execute_result"
    }
   ],
   "source": [
    "metrica = make_scorer(recall_score, pos_label=\"M\")\n",
    "\n",
    "calc_cv(knn, X_train_ss, y_train, n_splits=20, scoring=metrica, n_jobs=-1, verbose=0, plot_distros=True)"
   ]
  },
  {
   "cell_type": "markdown",
   "metadata": {},
   "source": [
    "O modelo não teve uma performance muito ruim, mas podemos melhorar! Afinal, um modelo de tamanha importância não pode ter uma margem de erro muito grande, não é mesmo?\n",
    "\n",
    "Vamos iniciar o ciclo de melhorias para ver se conseguimos melhorar a performance do modelo, em um processo que é muitas vezes chamado de **tunning**\n"
   ]
  },
  {
   "cell_type": "markdown",
   "metadata": {},
   "source": [
    "____\n",
    "____\n",
    "____"
   ]
  },
  {
   "cell_type": "markdown",
   "metadata": {},
   "source": [
    "## 2) Ferramentas especiais\n",
    "\n",
    "Vamos agora ver algumas ferramentas especiais do sklearn que nos ajudam no desenvolvimento de modelos!"
   ]
  },
  {
   "cell_type": "markdown",
   "metadata": {},
   "source": [
    "### Pipeline\n",
    "\n",
    "O [Pipeline](https://scikit-learn.org/stable/modules/generated/sklearn.pipeline.Pipeline.html) é uma estrutura que o sklearn proporciona a fim de garantir que possamos em uma única estrutura passar **o estimador e o transformador** (e muitas outras coisas). Para maiores informações, [clique aqui](https://scikit-learn.org/stable/modules/compose.html#pipeline). \n",
    "\n",
    "Vamos ver a seguir como esta estrutura funciona:"
   ]
  },
  {
   "cell_type": "markdown",
   "metadata": {},
   "source": [
    "A vida antiga, antes da pípeline, era assim:"
   ]
  },
  {
   "cell_type": "code",
   "execution_count": 37,
   "metadata": {
    "ExecuteTime": {
     "end_time": "2022-05-31T21:59:43.406153Z",
     "start_time": "2022-05-31T21:59:43.190250Z"
    }
   },
   "outputs": [],
   "source": [
    "# X = df.drop(columns=\"diagnosis\")\n",
    "# y = df[\"diagnosis\"]\n",
    "\n",
    "# X_train, X_test, y_train, y_test = train_test_split(X, y, \n",
    "#                                                     test_size=0.2, random_state=42,\n",
    "#                                                     stratify=y)\n",
    "\n",
    "# # ===================================\n",
    "\n",
    "# ss = StandardScaler().fit(X_train)\n",
    "\n",
    "# X_train_ss = pd.DataFrame(ss.transform(X_train), columns=X_train.columns, index=X_train.index)\n",
    "# X_test_ss = pd.DataFrame(ss.transform(X_test), columns=X_test.columns, index=X_test.index)\n",
    "\n",
    "# # ===================================\n",
    "# # PASSO 1 \n",
    "\n",
    "# # quando instanciamos a classe, é que escolhemos os valores dos hiperparâmetros\n",
    "# knn = KNeighborsClassifier(n_neighbors=5, \n",
    "#                            weights='uniform',\n",
    "#                            metric=\"euclidean\").fit(X_train_ss, y_train)\n",
    "\n",
    "# y_pred = knn.predict(X_test_ss)"
   ]
  },
  {
   "cell_type": "markdown",
   "metadata": {},
   "source": [
    "Mas agora, conhecemnos a pipeline!"
   ]
  },
  {
   "cell_type": "code",
   "execution_count": 38,
   "metadata": {
    "ExecuteTime": {
     "end_time": "2022-05-31T21:59:43.563624Z",
     "start_time": "2022-05-31T21:59:43.410153Z"
    }
   },
   "outputs": [],
   "source": [
    "from sklearn.pipeline import Pipeline"
   ]
  },
  {
   "cell_type": "code",
   "execution_count": 39,
   "metadata": {
    "ExecuteTime": {
     "end_time": "2022-05-31T21:59:43.705040Z",
     "start_time": "2022-05-31T21:59:43.565625Z"
    }
   },
   "outputs": [],
   "source": [
    "X = df.drop(columns=\"diagnosis\")\n",
    "y = df[\"diagnosis\"]\n",
    "\n",
    "X_train, X_test, y_train, y_test = train_test_split(X, y, \n",
    "                                                    test_size=0.2, random_state=42,\n",
    "                                                    stratify=y)\n",
    "\n",
    "# ===================================\n",
    "\n",
    "# lista de tuplas, onde cada tupla é um passo a ser feito, sequencialmente, na pipeline\n",
    "# cada tupla tem a sintaxe (\"nome_do_passo\", ObjetoDoPasso())\n",
    "\n",
    "lista_etapas = [(\"std_scaler\", StandardScaler()), \n",
    "                (\"knn\", KNeighborsClassifier(n_neighbors=5, weights='uniform', metric=\"euclidean\"))]\n",
    "\n",
    "# passo pra pipeline os dados ORIGINAIS!!!\n",
    "\n",
    "pipe = Pipeline(lista_etapas).fit(X_train, y_train)"
   ]
  },
  {
   "cell_type": "code",
   "execution_count": 40,
   "metadata": {
    "ExecuteTime": {
     "end_time": "2022-05-31T21:59:43.895004Z",
     "start_time": "2022-05-31T21:59:43.708038Z"
    }
   },
   "outputs": [
    {
     "data": {
      "text/plain": [
       "Pipeline(steps=[('std_scaler', StandardScaler()),\n",
       "                ('knn', KNeighborsClassifier(metric='euclidean'))])"
      ]
     },
     "execution_count": 40,
     "metadata": {},
     "output_type": "execute_result"
    }
   ],
   "source": [
    "pipe"
   ]
  },
  {
   "cell_type": "code",
   "execution_count": 41,
   "metadata": {
    "ExecuteTime": {
     "end_time": "2022-05-31T21:59:44.052924Z",
     "start_time": "2022-05-31T21:59:43.900019Z"
    }
   },
   "outputs": [
    {
     "data": {
      "text/plain": [
       "array(['B', 'M', 'B', 'B', 'B', 'B', 'M', 'B', 'B', 'B', 'M', 'B', 'M',\n",
       "       'B', 'B', 'B', 'B', 'B', 'M', 'B', 'B', 'B', 'M', 'M', 'M', 'B',\n",
       "       'B', 'M', 'M', 'M', 'M', 'B', 'M', 'M', 'B', 'B', 'B', 'B', 'M',\n",
       "       'B', 'B', 'B', 'B', 'B', 'B', 'M', 'B', 'M', 'B', 'B', 'M', 'M',\n",
       "       'B', 'B', 'B', 'M', 'B', 'B', 'B', 'M', 'B', 'B', 'M', 'B', 'B',\n",
       "       'B', 'M', 'M', 'B', 'M', 'B', 'M', 'M', 'B', 'B', 'B', 'B', 'M',\n",
       "       'B', 'M', 'M', 'M', 'B', 'B', 'B', 'B', 'M', 'M', 'M', 'B', 'M',\n",
       "       'B', 'B', 'B', 'B', 'B', 'B', 'M', 'B', 'B', 'B', 'B', 'B', 'B',\n",
       "       'B', 'B', 'M', 'B', 'M', 'B', 'B', 'B', 'B', 'M'], dtype=object)"
      ]
     },
     "execution_count": 41,
     "metadata": {},
     "output_type": "execute_result"
    }
   ],
   "source": [
    "# aqui tbm passamos os dados originais!\n",
    "\n",
    "pipe.predict(X_test)"
   ]
  },
  {
   "cell_type": "markdown",
   "metadata": {},
   "source": [
    "Dá pra ser ainda mais enxuto no código:"
   ]
  },
  {
   "cell_type": "code",
   "execution_count": 42,
   "metadata": {
    "ExecuteTime": {
     "end_time": "2022-05-31T21:59:44.196830Z",
     "start_time": "2022-05-31T21:59:44.055911Z"
    }
   },
   "outputs": [
    {
     "data": {
      "text/plain": [
       "Pipeline(steps=[('std_scaler', StandardScaler()),\n",
       "                ('knn', KNeighborsClassifier(metric='euclidean'))])"
      ]
     },
     "execution_count": 42,
     "metadata": {},
     "output_type": "execute_result"
    }
   ],
   "source": [
    "pipe = Pipeline([(\"std_scaler\", StandardScaler()), \n",
    "                 (\"knn\", KNeighborsClassifier(n_neighbors=5, \n",
    "                                              weights='uniform', \n",
    "                                              metric=\"euclidean\"))]).fit(X_train, y_train)\n",
    "\n",
    "pipe"
   ]
  },
  {
   "cell_type": "markdown",
   "metadata": {},
   "source": [
    "**Para o train-test split normal**"
   ]
  },
  {
   "cell_type": "code",
   "execution_count": 43,
   "metadata": {
    "ExecuteTime": {
     "end_time": "2022-05-31T21:59:44.611973Z",
     "start_time": "2022-05-31T21:59:44.198829Z"
    }
   },
   "outputs": [
    {
     "name": "stdout",
     "output_type": "stream",
     "text": [
      "Métricas de avaliação de teste - com cutoff = 0.50\n"
     ]
    },
    {
     "data": {
      "image/png": "[encoded data removed]",
      "text/plain": [
       "<Figure size 432x288 with 2 Axes>"
      ]
     },
     "metadata": {
      "needs_background": "light"
     },
     "output_type": "display_data"
    },
    {
     "name": "stdout",
     "output_type": "stream",
     "text": [
      "              precision    recall  f1-score   support\n",
      "\n",
      "           B       0.95      0.99      0.97        72\n",
      "           M       0.97      0.90      0.94        42\n",
      "\n",
      "    accuracy                           0.96       114\n",
      "   macro avg       0.96      0.95      0.95       114\n",
      "weighted avg       0.96      0.96      0.96       114\n",
      "\n"
     ]
    }
   ],
   "source": [
    "# passei o objeto pipe como estimador, e os dados de teste originais!!!\n",
    "\n",
    "_ = clf_metrics(pipe, X_test, y_test, cutoff=0.5, label_metrica=\"teste\", \n",
    "                print_plot=True, plot_conf_matrix=True, print_cr=True,\n",
    "                plot_prc=False, plot_roc=False, \n",
    "                pos_label=\"M\")"
   ]
  },
  {
   "cell_type": "markdown",
   "metadata": {},
   "source": [
    "**Para a validação cruzada**"
   ]
  },
  {
   "cell_type": "code",
   "execution_count": 44,
   "metadata": {
    "ExecuteTime": {
     "end_time": "2022-05-31T21:59:45.972184Z",
     "start_time": "2022-05-31T21:59:44.623965Z"
    },
    "scrolled": true
   },
   "outputs": [
    {
     "name": "stdout",
     "output_type": "stream",
     "text": [
      "\n",
      "Distribuição da métrica de avaliação score:\n"
     ]
    },
    {
     "data": {
      "text/html": [
       "<div>\n",
       "<style scoped>\n",
       "    .dataframe tbody tr th:only-of-type {\n",
       "        vertical-align: middle;\n",
       "    }\n",
       "\n",
       "    .dataframe tbody tr th {\n",
       "        vertical-align: top;\n",
       "    }\n",
       "\n",
       "    .dataframe thead th {\n",
       "        text-align: right;\n",
       "    }\n",
       "</style>\n",
       "<table border=\"1\" class=\"dataframe\">\n",
       "  <thead>\n",
       "    <tr style=\"text-align: right;\">\n",
       "      <th></th>\n",
       "      <th>test_score</th>\n",
       "      <th>train_score</th>\n",
       "    </tr>\n",
       "  </thead>\n",
       "  <tbody>\n",
       "    <tr>\n",
       "      <th>count</th>\n",
       "      <td>20.000000</td>\n",
       "      <td>20.000000</td>\n",
       "    </tr>\n",
       "    <tr>\n",
       "      <th>mean</th>\n",
       "      <td>0.896818</td>\n",
       "      <td>0.944865</td>\n",
       "    </tr>\n",
       "    <tr>\n",
       "      <th>std</th>\n",
       "      <td>0.145105</td>\n",
       "      <td>0.006841</td>\n",
       "    </tr>\n",
       "    <tr>\n",
       "      <th>min</th>\n",
       "      <td>0.400000</td>\n",
       "      <td>0.931250</td>\n",
       "    </tr>\n",
       "    <tr>\n",
       "      <th>25%</th>\n",
       "      <td>0.829545</td>\n",
       "      <td>0.941751</td>\n",
       "    </tr>\n",
       "    <tr>\n",
       "      <th>50%</th>\n",
       "      <td>0.925000</td>\n",
       "      <td>0.944615</td>\n",
       "    </tr>\n",
       "    <tr>\n",
       "      <th>75%</th>\n",
       "      <td>1.000000</td>\n",
       "      <td>0.946992</td>\n",
       "    </tr>\n",
       "    <tr>\n",
       "      <th>max</th>\n",
       "      <td>1.000000</td>\n",
       "      <td>0.957576</td>\n",
       "    </tr>\n",
       "  </tbody>\n",
       "</table>\n",
       "</div>"
      ],
      "text/plain": [
       "       test_score  train_score\n",
       "count   20.000000    20.000000\n",
       "mean     0.896818     0.944865\n",
       "std      0.145105     0.006841\n",
       "min      0.400000     0.931250\n",
       "25%      0.829545     0.941751\n",
       "50%      0.925000     0.944615\n",
       "75%      1.000000     0.946992\n",
       "max      1.000000     0.957576"
      ]
     },
     "metadata": {},
     "output_type": "display_data"
    },
    {
     "name": "stdout",
     "output_type": "stream",
     "text": [
      "\n",
      "Distribuição de score de treino\n"
     ]
    },
    {
     "data": {
      "image/png": "[encoded data removed]",
      "text/plain": [
       "<Figure size 432x288 with 1 Axes>"
      ]
     },
     "metadata": {
      "needs_background": "light"
     },
     "output_type": "display_data"
    },
    {
     "name": "stdout",
     "output_type": "stream",
     "text": [
      "\n",
      "Distribuição de score de teste\n"
     ]
    },
    {
     "data": {
      "image/png": "[encoded data removed]",
      "text/plain": [
       "<Figure size 432x288 with 1 Axes>"
      ]
     },
     "metadata": {
      "needs_background": "light"
     },
     "output_type": "display_data"
    },
    {
     "name": "stdout",
     "output_type": "stream",
     "text": [
      "\n",
      "As duas juntas (compara a variância!)\n"
     ]
    },
    {
     "data": {
      "image/png": "[encoded data removed]",
      "text/plain": [
       "<Figure size 432x288 with 1 Axes>"
      ]
     },
     "metadata": {
      "needs_background": "light"
     },
     "output_type": "display_data"
    },
    {
     "name": "stdout",
     "output_type": "stream",
     "text": [
      "################################################################################\n"
     ]
    },
    {
     "data": {
      "text/html": [
       "<div>\n",
       "<style scoped>\n",
       "    .dataframe tbody tr th:only-of-type {\n",
       "        vertical-align: middle;\n",
       "    }\n",
       "\n",
       "    .dataframe tbody tr th {\n",
       "        vertical-align: top;\n",
       "    }\n",
       "\n",
       "    .dataframe thead th {\n",
       "        text-align: right;\n",
       "    }\n",
       "</style>\n",
       "<table border=\"1\" class=\"dataframe\">\n",
       "  <thead>\n",
       "    <tr style=\"text-align: right;\">\n",
       "      <th></th>\n",
       "      <th>fit_time</th>\n",
       "      <th>score_time</th>\n",
       "      <th>test_score</th>\n",
       "      <th>train_score</th>\n",
       "    </tr>\n",
       "  </thead>\n",
       "  <tbody>\n",
       "    <tr>\n",
       "      <th>0</th>\n",
       "      <td>0.008999</td>\n",
       "      <td>0.006992</td>\n",
       "      <td>1.000000</td>\n",
       "      <td>0.945455</td>\n",
       "    </tr>\n",
       "    <tr>\n",
       "      <th>1</th>\n",
       "      <td>0.008994</td>\n",
       "      <td>0.006995</td>\n",
       "      <td>0.800000</td>\n",
       "      <td>0.951515</td>\n",
       "    </tr>\n",
       "    <tr>\n",
       "      <th>2</th>\n",
       "      <td>0.007996</td>\n",
       "      <td>0.006995</td>\n",
       "      <td>0.933333</td>\n",
       "      <td>0.954839</td>\n",
       "    </tr>\n",
       "    <tr>\n",
       "      <th>3</th>\n",
       "      <td>0.007997</td>\n",
       "      <td>0.008003</td>\n",
       "      <td>1.000000</td>\n",
       "      <td>0.944444</td>\n",
       "    </tr>\n",
       "    <tr>\n",
       "      <th>4</th>\n",
       "      <td>0.051968</td>\n",
       "      <td>0.013997</td>\n",
       "      <td>1.000000</td>\n",
       "      <td>0.950617</td>\n",
       "    </tr>\n",
       "    <tr>\n",
       "      <th>5</th>\n",
       "      <td>0.010994</td>\n",
       "      <td>0.008996</td>\n",
       "      <td>0.916667</td>\n",
       "      <td>0.943038</td>\n",
       "    </tr>\n",
       "    <tr>\n",
       "      <th>6</th>\n",
       "      <td>0.041974</td>\n",
       "      <td>0.008997</td>\n",
       "      <td>1.000000</td>\n",
       "      <td>0.944099</td>\n",
       "    </tr>\n",
       "    <tr>\n",
       "      <th>7</th>\n",
       "      <td>0.009995</td>\n",
       "      <td>0.008000</td>\n",
       "      <td>0.888889</td>\n",
       "      <td>0.937888</td>\n",
       "    </tr>\n",
       "    <tr>\n",
       "      <th>8</th>\n",
       "      <td>0.035980</td>\n",
       "      <td>0.008994</td>\n",
       "      <td>0.750000</td>\n",
       "      <td>0.945783</td>\n",
       "    </tr>\n",
       "    <tr>\n",
       "      <th>9</th>\n",
       "      <td>0.014993</td>\n",
       "      <td>0.021985</td>\n",
       "      <td>1.000000</td>\n",
       "      <td>0.944785</td>\n",
       "    </tr>\n",
       "    <tr>\n",
       "      <th>10</th>\n",
       "      <td>0.009993</td>\n",
       "      <td>0.009993</td>\n",
       "      <td>0.777778</td>\n",
       "      <td>0.944099</td>\n",
       "    </tr>\n",
       "    <tr>\n",
       "      <th>11</th>\n",
       "      <td>0.011993</td>\n",
       "      <td>0.007997</td>\n",
       "      <td>1.000000</td>\n",
       "      <td>0.936709</td>\n",
       "    </tr>\n",
       "    <tr>\n",
       "      <th>12</th>\n",
       "      <td>0.008998</td>\n",
       "      <td>0.006990</td>\n",
       "      <td>0.818182</td>\n",
       "      <td>0.955975</td>\n",
       "    </tr>\n",
       "    <tr>\n",
       "      <th>13</th>\n",
       "      <td>0.018986</td>\n",
       "      <td>0.007996</td>\n",
       "      <td>1.000000</td>\n",
       "      <td>0.931250</td>\n",
       "    </tr>\n",
       "    <tr>\n",
       "      <th>14</th>\n",
       "      <td>0.014988</td>\n",
       "      <td>0.005996</td>\n",
       "      <td>0.833333</td>\n",
       "      <td>0.945122</td>\n",
       "    </tr>\n",
       "    <tr>\n",
       "      <th>15</th>\n",
       "      <td>0.011993</td>\n",
       "      <td>0.006999</td>\n",
       "      <td>0.909091</td>\n",
       "      <td>0.937107</td>\n",
       "    </tr>\n",
       "    <tr>\n",
       "      <th>16</th>\n",
       "      <td>0.009994</td>\n",
       "      <td>0.008994</td>\n",
       "      <td>0.400000</td>\n",
       "      <td>0.957576</td>\n",
       "    </tr>\n",
       "    <tr>\n",
       "      <th>17</th>\n",
       "      <td>0.008995</td>\n",
       "      <td>0.015991</td>\n",
       "      <td>1.000000</td>\n",
       "      <td>0.945455</td>\n",
       "    </tr>\n",
       "    <tr>\n",
       "      <th>18</th>\n",
       "      <td>0.009993</td>\n",
       "      <td>0.013991</td>\n",
       "      <td>1.000000</td>\n",
       "      <td>0.944444</td>\n",
       "    </tr>\n",
       "    <tr>\n",
       "      <th>19</th>\n",
       "      <td>0.006995</td>\n",
       "      <td>0.005998</td>\n",
       "      <td>0.909091</td>\n",
       "      <td>0.937107</td>\n",
       "    </tr>\n",
       "  </tbody>\n",
       "</table>\n",
       "</div>"
      ],
      "text/plain": [
       "    fit_time  score_time  test_score  train_score\n",
       "0   0.008999    0.006992    1.000000     0.945455\n",
       "1   0.008994    0.006995    0.800000     0.951515\n",
       "2   0.007996    0.006995    0.933333     0.954839\n",
       "3   0.007997    0.008003    1.000000     0.944444\n",
       "4   0.051968    0.013997    1.000000     0.950617\n",
       "5   0.010994    0.008996    0.916667     0.943038\n",
       "6   0.041974    0.008997    1.000000     0.944099\n",
       "7   0.009995    0.008000    0.888889     0.937888\n",
       "8   0.035980    0.008994    0.750000     0.945783\n",
       "9   0.014993    0.021985    1.000000     0.944785\n",
       "10  0.009993    0.009993    0.777778     0.944099\n",
       "11  0.011993    0.007997    1.000000     0.936709\n",
       "12  0.008998    0.006990    0.818182     0.955975\n",
       "13  0.018986    0.007996    1.000000     0.931250\n",
       "14  0.014988    0.005996    0.833333     0.945122\n",
       "15  0.011993    0.006999    0.909091     0.937107\n",
       "16  0.009994    0.008994    0.400000     0.957576\n",
       "17  0.008995    0.015991    1.000000     0.945455\n",
       "18  0.009993    0.013991    1.000000     0.944444\n",
       "19  0.006995    0.005998    0.909091     0.937107"
      ]
     },
     "execution_count": 44,
     "metadata": {},
     "output_type": "execute_result"
    }
   ],
   "source": [
    "metrica = make_scorer(recall_score, pos_label=\"M\")\n",
    "\n",
    "# passando os dados originais e o pipe! (dados de treino pq é a validação cruzada)\n",
    "\n",
    "calc_cv(pipe, X_train, y_train, n_splits=20, scoring=metrica, n_jobs=-1, verbose=0, plot_distros=True)"
   ]
  },
  {
   "cell_type": "markdown",
   "metadata": {},
   "source": [
    "Uma boa ideia é usar o [StratifiedKFold](https://scikit-learn.org/stable/modules/generated/sklearn.model_selection.StratifiedKFold.html), pois ele mantém a estratificação do target dentro de cada split!\n",
    "\n",
    "Isso é sobretudo importante pra dados desbalanceados (no target)"
   ]
  },
  {
   "cell_type": "code",
   "execution_count": 45,
   "metadata": {
    "ExecuteTime": {
     "end_time": "2022-05-31T21:59:47.408950Z",
     "start_time": "2022-05-31T21:59:45.978182Z"
    },
    "scrolled": true
   },
   "outputs": [
    {
     "name": "stdout",
     "output_type": "stream",
     "text": [
      "\n",
      "Distribuição da métrica de avaliação score:\n"
     ]
    },
    {
     "data": {
      "text/html": [
       "<div>\n",
       "<style scoped>\n",
       "    .dataframe tbody tr th:only-of-type {\n",
       "        vertical-align: middle;\n",
       "    }\n",
       "\n",
       "    .dataframe tbody tr th {\n",
       "        vertical-align: top;\n",
       "    }\n",
       "\n",
       "    .dataframe thead th {\n",
       "        text-align: right;\n",
       "    }\n",
       "</style>\n",
       "<table border=\"1\" class=\"dataframe\">\n",
       "  <thead>\n",
       "    <tr style=\"text-align: right;\">\n",
       "      <th></th>\n",
       "      <th>test_score</th>\n",
       "      <th>train_score</th>\n",
       "    </tr>\n",
       "  </thead>\n",
       "  <tbody>\n",
       "    <tr>\n",
       "      <th>count</th>\n",
       "      <td>20.000000</td>\n",
       "      <td>20.000000</td>\n",
       "    </tr>\n",
       "    <tr>\n",
       "      <th>mean</th>\n",
       "      <td>0.911806</td>\n",
       "      <td>0.944281</td>\n",
       "    </tr>\n",
       "    <tr>\n",
       "      <th>std</th>\n",
       "      <td>0.133543</td>\n",
       "      <td>0.007442</td>\n",
       "    </tr>\n",
       "    <tr>\n",
       "      <th>min</th>\n",
       "      <td>0.500000</td>\n",
       "      <td>0.931677</td>\n",
       "    </tr>\n",
       "    <tr>\n",
       "      <th>25%</th>\n",
       "      <td>0.875000</td>\n",
       "      <td>0.938272</td>\n",
       "    </tr>\n",
       "    <tr>\n",
       "      <th>50%</th>\n",
       "      <td>1.000000</td>\n",
       "      <td>0.944444</td>\n",
       "    </tr>\n",
       "    <tr>\n",
       "      <th>75%</th>\n",
       "      <td>1.000000</td>\n",
       "      <td>0.950311</td>\n",
       "    </tr>\n",
       "    <tr>\n",
       "      <th>max</th>\n",
       "      <td>1.000000</td>\n",
       "      <td>0.956790</td>\n",
       "    </tr>\n",
       "  </tbody>\n",
       "</table>\n",
       "</div>"
      ],
      "text/plain": [
       "       test_score  train_score\n",
       "count   20.000000    20.000000\n",
       "mean     0.911806     0.944281\n",
       "std      0.133543     0.007442\n",
       "min      0.500000     0.931677\n",
       "25%      0.875000     0.938272\n",
       "50%      1.000000     0.944444\n",
       "75%      1.000000     0.950311\n",
       "max      1.000000     0.956790"
      ]
     },
     "metadata": {},
     "output_type": "display_data"
    },
    {
     "name": "stdout",
     "output_type": "stream",
     "text": [
      "\n",
      "Distribuição de score de treino\n"
     ]
    },
    {
     "data": {
      "image/png": "[encoded data removed]",
      "text/plain": [
       "<Figure size 432x288 with 1 Axes>"
      ]
     },
     "metadata": {
      "needs_background": "light"
     },
     "output_type": "display_data"
    },
    {
     "name": "stdout",
     "output_type": "stream",
     "text": [
      "\n",
      "Distribuição de score de teste\n"
     ]
    },
    {
     "data": {
      "image/png": "[encoded data removed]",
      "text/plain": [
       "<Figure size 432x288 with 1 Axes>"
      ]
     },
     "metadata": {
      "needs_background": "light"
     },
     "output_type": "display_data"
    },
    {
     "name": "stdout",
     "output_type": "stream",
     "text": [
      "\n",
      "As duas juntas (compara a variância!)\n"
     ]
    },
    {
     "data": {
      "image/png": "[encoded data removed]",
      "text/plain": [
       "<Figure size 432x288 with 1 Axes>"
      ]
     },
     "metadata": {
      "needs_background": "light"
     },
     "output_type": "display_data"
    },
    {
     "name": "stdout",
     "output_type": "stream",
     "text": [
      "################################################################################\n"
     ]
    },
    {
     "data": {
      "text/html": [
       "<div>\n",
       "<style scoped>\n",
       "    .dataframe tbody tr th:only-of-type {\n",
       "        vertical-align: middle;\n",
       "    }\n",
       "\n",
       "    .dataframe tbody tr th {\n",
       "        vertical-align: top;\n",
       "    }\n",
       "\n",
       "    .dataframe thead th {\n",
       "        text-align: right;\n",
       "    }\n",
       "</style>\n",
       "<table border=\"1\" class=\"dataframe\">\n",
       "  <thead>\n",
       "    <tr style=\"text-align: right;\">\n",
       "      <th></th>\n",
       "      <th>fit_time</th>\n",
       "      <th>score_time</th>\n",
       "      <th>test_score</th>\n",
       "      <th>train_score</th>\n",
       "    </tr>\n",
       "  </thead>\n",
       "  <tbody>\n",
       "    <tr>\n",
       "      <th>0</th>\n",
       "      <td>0.007994</td>\n",
       "      <td>0.006996</td>\n",
       "      <td>1.000000</td>\n",
       "      <td>0.931677</td>\n",
       "    </tr>\n",
       "    <tr>\n",
       "      <th>1</th>\n",
       "      <td>0.007998</td>\n",
       "      <td>0.006997</td>\n",
       "      <td>1.000000</td>\n",
       "      <td>0.950311</td>\n",
       "    </tr>\n",
       "    <tr>\n",
       "      <th>2</th>\n",
       "      <td>0.007997</td>\n",
       "      <td>0.006995</td>\n",
       "      <td>0.888889</td>\n",
       "      <td>0.956522</td>\n",
       "    </tr>\n",
       "    <tr>\n",
       "      <th>3</th>\n",
       "      <td>0.009994</td>\n",
       "      <td>0.012992</td>\n",
       "      <td>0.777778</td>\n",
       "      <td>0.950311</td>\n",
       "    </tr>\n",
       "    <tr>\n",
       "      <th>4</th>\n",
       "      <td>0.016990</td>\n",
       "      <td>0.011993</td>\n",
       "      <td>0.888889</td>\n",
       "      <td>0.944099</td>\n",
       "    </tr>\n",
       "    <tr>\n",
       "      <th>5</th>\n",
       "      <td>0.022986</td>\n",
       "      <td>0.017992</td>\n",
       "      <td>1.000000</td>\n",
       "      <td>0.950311</td>\n",
       "    </tr>\n",
       "    <tr>\n",
       "      <th>6</th>\n",
       "      <td>0.052968</td>\n",
       "      <td>0.009993</td>\n",
       "      <td>1.000000</td>\n",
       "      <td>0.944099</td>\n",
       "    </tr>\n",
       "    <tr>\n",
       "      <th>7</th>\n",
       "      <td>0.010992</td>\n",
       "      <td>0.009993</td>\n",
       "      <td>1.000000</td>\n",
       "      <td>0.944099</td>\n",
       "    </tr>\n",
       "    <tr>\n",
       "      <th>8</th>\n",
       "      <td>0.017992</td>\n",
       "      <td>0.007994</td>\n",
       "      <td>0.888889</td>\n",
       "      <td>0.950311</td>\n",
       "    </tr>\n",
       "    <tr>\n",
       "      <th>9</th>\n",
       "      <td>0.018990</td>\n",
       "      <td>0.006995</td>\n",
       "      <td>0.666667</td>\n",
       "      <td>0.950311</td>\n",
       "    </tr>\n",
       "    <tr>\n",
       "      <th>10</th>\n",
       "      <td>0.036966</td>\n",
       "      <td>0.019986</td>\n",
       "      <td>1.000000</td>\n",
       "      <td>0.938272</td>\n",
       "    </tr>\n",
       "    <tr>\n",
       "      <th>11</th>\n",
       "      <td>0.024986</td>\n",
       "      <td>0.008997</td>\n",
       "      <td>1.000000</td>\n",
       "      <td>0.944444</td>\n",
       "    </tr>\n",
       "    <tr>\n",
       "      <th>12</th>\n",
       "      <td>0.008997</td>\n",
       "      <td>0.055967</td>\n",
       "      <td>0.500000</td>\n",
       "      <td>0.956790</td>\n",
       "    </tr>\n",
       "    <tr>\n",
       "      <th>13</th>\n",
       "      <td>0.007994</td>\n",
       "      <td>0.009994</td>\n",
       "      <td>0.875000</td>\n",
       "      <td>0.938272</td>\n",
       "    </tr>\n",
       "    <tr>\n",
       "      <th>14</th>\n",
       "      <td>0.009000</td>\n",
       "      <td>0.016984</td>\n",
       "      <td>1.000000</td>\n",
       "      <td>0.932099</td>\n",
       "    </tr>\n",
       "    <tr>\n",
       "      <th>15</th>\n",
       "      <td>0.029985</td>\n",
       "      <td>0.006994</td>\n",
       "      <td>1.000000</td>\n",
       "      <td>0.938272</td>\n",
       "    </tr>\n",
       "    <tr>\n",
       "      <th>16</th>\n",
       "      <td>0.015996</td>\n",
       "      <td>0.007987</td>\n",
       "      <td>1.000000</td>\n",
       "      <td>0.932099</td>\n",
       "    </tr>\n",
       "    <tr>\n",
       "      <th>17</th>\n",
       "      <td>0.028983</td>\n",
       "      <td>0.008995</td>\n",
       "      <td>0.875000</td>\n",
       "      <td>0.944444</td>\n",
       "    </tr>\n",
       "    <tr>\n",
       "      <th>18</th>\n",
       "      <td>0.009994</td>\n",
       "      <td>0.022987</td>\n",
       "      <td>1.000000</td>\n",
       "      <td>0.944444</td>\n",
       "    </tr>\n",
       "    <tr>\n",
       "      <th>19</th>\n",
       "      <td>0.021988</td>\n",
       "      <td>0.006994</td>\n",
       "      <td>0.875000</td>\n",
       "      <td>0.944444</td>\n",
       "    </tr>\n",
       "  </tbody>\n",
       "</table>\n",
       "</div>"
      ],
      "text/plain": [
       "    fit_time  score_time  test_score  train_score\n",
       "0   0.007994    0.006996    1.000000     0.931677\n",
       "1   0.007998    0.006997    1.000000     0.950311\n",
       "2   0.007997    0.006995    0.888889     0.956522\n",
       "3   0.009994    0.012992    0.777778     0.950311\n",
       "4   0.016990    0.011993    0.888889     0.944099\n",
       "5   0.022986    0.017992    1.000000     0.950311\n",
       "6   0.052968    0.009993    1.000000     0.944099\n",
       "7   0.010992    0.009993    1.000000     0.944099\n",
       "8   0.017992    0.007994    0.888889     0.950311\n",
       "9   0.018990    0.006995    0.666667     0.950311\n",
       "10  0.036966    0.019986    1.000000     0.938272\n",
       "11  0.024986    0.008997    1.000000     0.944444\n",
       "12  0.008997    0.055967    0.500000     0.956790\n",
       "13  0.007994    0.009994    0.875000     0.938272\n",
       "14  0.009000    0.016984    1.000000     0.932099\n",
       "15  0.029985    0.006994    1.000000     0.938272\n",
       "16  0.015996    0.007987    1.000000     0.932099\n",
       "17  0.028983    0.008995    0.875000     0.944444\n",
       "18  0.009994    0.022987    1.000000     0.944444\n",
       "19  0.021988    0.006994    0.875000     0.944444"
      ]
     },
     "execution_count": 45,
     "metadata": {},
     "output_type": "execute_result"
    }
   ],
   "source": [
    "calc_cv(pipe, X_train, y_train, n_splits=20, scoring=metrica, n_jobs=-1, verbose=0, plot_distros=True, stratified=True)"
   ]
  },
  {
   "cell_type": "markdown",
   "metadata": {},
   "source": [
    "______"
   ]
  },
  {
   "cell_type": "markdown",
   "metadata": {},
   "source": [
    "### Gridsearch\n",
    "\n",
    "O [Gridsearch](https://scikit-learn.org/stable/modules/generated/sklearn.model_selection.GridSearchCV.html) é uma estrutura que o sklearn proporciona para que seja feita **a busca exaustiva de hiperparâmetros de um estimador**.\n",
    "\n",
    "Na prática, o que o gridsearch faz é **treinar diversos modelos com diferentes combinações de hiperparâmetros**, de modo a manter o melhor deles como o modelo final, tudo automaticamente! \n",
    "\n",
    "Tudo o que precisamos fazer é indicar quais os hiperparâmetros que queremos procurar: a **grade**!\n",
    "\n",
    "<img src=\"https://www.yourdatateacher.com/wp-content/uploads/2021/03/image-6.png\" width=500>"
   ]
  },
  {
   "cell_type": "markdown",
   "metadata": {},
   "source": [
    "É muito comum também passarmos o **Pipeline** como argumento do gridsearch!\n",
    "\n",
    "Para maiores informações, [clique aqui](https://scikit-learn.org/stable/modules/grid_search.html#grid-search). \n",
    "\n",
    "Vamos ver a seguir como esta estrutura funciona:"
   ]
  },
  {
   "cell_type": "markdown",
   "metadata": {},
   "source": [
    "O Gridsearch avalia o melhor modelo segundo a métrica que passamos em `scoring`. [Clique aqui](https://scikit-learn.org/stable/modules/model_evaluation.html#scoring-parameter) para ver as métricas disponíveis por padrão.\n",
    "\n",
    "Mas o GS vai além: ele não calcula a métrica uma única vez, mas sim **várias vezes**, conforme especificado pelo parâmetro `cv`. No fim, o melhor modelo é o que tem o melhor scoring **médio** entre as vezes que é calculado.\n",
    "\n",
    "O \"cv\" quer dizer **Cross Validation**, o método mais seguro de realizar um treinamento e avaliação de um modelo que conhecemos na aula passada!\n",
    "\n",
    "<img src=\"https://ethen8181.github.io/machine-learning/model_selection/img/kfolds.png\" width=600> "
   ]
  },
  {
   "cell_type": "markdown",
   "metadata": {},
   "source": [
    "Com a validação cruzada, garantimos uma avaliação justa de cada um dos modelos candidatos (cada um construído com uma combinação diferente de hiperparâmetros).\n",
    "\n",
    "Assim, sabemos que a melhor combinação de hiperparâmetros a ser encontrada não estará de qualquer forma \"overfitada\" em particularidades da base de treino!"
   ]
  },
  {
   "cell_type": "markdown",
   "metadata": {},
   "source": [
    "Vamos colocar tudo em uma única célula:"
   ]
  },
  {
   "cell_type": "code",
   "execution_count": 46,
   "metadata": {
    "ExecuteTime": {
     "end_time": "2022-05-31T21:59:47.578854Z",
     "start_time": "2022-05-31T21:59:47.410947Z"
    }
   },
   "outputs": [],
   "source": [
    "from sklearn.model_selection import GridSearchCV, StratifiedKFold"
   ]
  },
  {
   "cell_type": "code",
   "execution_count": 47,
   "metadata": {
    "ExecuteTime": {
     "end_time": "2022-05-31T21:59:47.818713Z",
     "start_time": "2022-05-31T21:59:47.583849Z"
    }
   },
   "outputs": [
    {
     "data": {
      "text/plain": [
       "380"
      ]
     },
     "execution_count": 47,
     "metadata": {},
     "output_type": "execute_result"
    }
   ],
   "source": [
    "len(range(2, 21))*2*2*5"
   ]
  },
  {
   "cell_type": "code",
   "execution_count": 48,
   "metadata": {
    "ExecuteTime": {
     "end_time": "2022-05-31T21:59:51.092219Z",
     "start_time": "2022-05-31T21:59:47.821712Z"
    }
   },
   "outputs": [
    {
     "name": "stdout",
     "output_type": "stream",
     "text": [
      "Fitting 5 folds for each of 76 candidates, totalling 380 fits\n"
     ]
    }
   ],
   "source": [
    "X = df.drop(columns=\"diagnosis\")\n",
    "y = df[\"diagnosis\"]\n",
    "\n",
    "X_train, X_test, y_train, y_test = train_test_split(X, y, \n",
    "                                                    test_size=0.2, random_state=42,\n",
    "                                                    stratify=y)\n",
    "\n",
    "\n",
    "# essa é a nossa pipeline -- todos os passos!\n",
    "pipe = Pipeline([(\"std_scaler\", StandardScaler()),\n",
    "                 (\"knn\", KNeighborsClassifier())])\n",
    "\n",
    "# os valores da grade de hiperparametros que vamos variar!\n",
    "# formato do dict:\n",
    "# {\"id_do_passo__hiper_parametro\" : [lista de valores a serem variados]}\n",
    "\n",
    "grade_de_parametros = {\"knn__n_neighbors\" : range(2, 21),\n",
    "                       \"knn__weights\" : [\"uniform\", \"distance\"],\n",
    "                       \"knn__metric\" : [\"manhattan\", \"euclidean\"]}\n",
    "\n",
    "# é o critério que usaremos pra escolher qual é os melhroes valores pros hiperparametros\n",
    "# (esse critério é exatamente o que queremos otimizar, em termos da performance do modelo!!)\n",
    "metrica = make_scorer(recall_score, pos_label=\"M\")\n",
    "\n",
    "# estratégia do cv interno usado no grid search\n",
    "# geralmente, nao precisamos de muitos splits pro gridsearch... 5 ou 10 costuma ser suficiente\n",
    "kf = StratifiedKFold(n_splits=5, shuffle=True, random_state=42)\n",
    "\n",
    "grid_knn = GridSearchCV(estimator = pipe,\n",
    "                        param_grid = grade_de_parametros,\n",
    "                        scoring = metrica,\n",
    "                        cv = kf,\n",
    "                        n_jobs=-1, verbose=10).fit(X_train, y_train)"
   ]
  },
  {
   "cell_type": "code",
   "execution_count": 49,
   "metadata": {
    "ExecuteTime": {
     "end_time": "2022-05-31T21:59:51.250100Z",
     "start_time": "2022-05-31T21:59:51.095217Z"
    }
   },
   "outputs": [
    {
     "data": {
      "text/plain": [
       "GridSearchCV(cv=StratifiedKFold(n_splits=5, random_state=42, shuffle=True),\n",
       "             estimator=Pipeline(steps=[('std_scaler', StandardScaler()),\n",
       "                                       ('knn', KNeighborsClassifier())]),\n",
       "             n_jobs=-1,\n",
       "             param_grid={'knn__metric': ['manhattan', 'euclidean'],\n",
       "                         'knn__n_neighbors': range(2, 21),\n",
       "                         'knn__weights': ['uniform', 'distance']},\n",
       "             scoring=make_scorer(recall_score, pos_label=M), verbose=10)"
      ]
     },
     "execution_count": 49,
     "metadata": {},
     "output_type": "execute_result"
    }
   ],
   "source": [
    "grid_knn"
   ]
  },
  {
   "cell_type": "markdown",
   "metadata": {},
   "source": [
    "O GS treinado tem diversos atributos super úteis e interessantes! Vamos dar uma olhada neles:"
   ]
  },
  {
   "cell_type": "markdown",
   "metadata": {},
   "source": [
    "`.best_estimator_`: retorna quais as escolhas do Pipeline que produziram o melhor modelo. No que diz respeito ao modelo, temos exatamente quais os parâmetros escolhidos!"
   ]
  },
  {
   "cell_type": "code",
   "execution_count": 50,
   "metadata": {
    "ExecuteTime": {
     "end_time": "2022-05-31T21:59:51.545514Z",
     "start_time": "2022-05-31T21:59:51.255100Z"
    }
   },
   "outputs": [
    {
     "data": {
      "text/plain": [
       "Pipeline(steps=[('std_scaler', StandardScaler()),\n",
       "                ('knn',\n",
       "                 KNeighborsClassifier(metric='manhattan', n_neighbors=3))])"
      ]
     },
     "execution_count": 50,
     "metadata": {},
     "output_type": "execute_result"
    }
   ],
   "source": [
    "grid_knn.best_estimator_"
   ]
  },
  {
   "cell_type": "markdown",
   "metadata": {},
   "source": [
    "`.best_params_`: retorna os parâmetros testados na grade que produziram o melhor modelo."
   ]
  },
  {
   "cell_type": "code",
   "execution_count": 51,
   "metadata": {
    "ExecuteTime": {
     "end_time": "2022-05-31T21:59:51.716499Z",
     "start_time": "2022-05-31T21:59:51.550523Z"
    }
   },
   "outputs": [
    {
     "data": {
      "text/plain": [
       "{'knn__metric': 'manhattan', 'knn__n_neighbors': 3, 'knn__weights': 'uniform'}"
      ]
     },
     "execution_count": 51,
     "metadata": {},
     "output_type": "execute_result"
    }
   ],
   "source": [
    "grid_knn.best_params_"
   ]
  },
  {
   "cell_type": "markdown",
   "metadata": {},
   "source": [
    "`.best_score_`: retorna a **média cross-validada da métrica de interesse** do melhor modelo. Como esse é o valor médio construído usando CV, este é estatisticamente o valor mais realístico a ser atribuído à performance do modelo!"
   ]
  },
  {
   "cell_type": "code",
   "execution_count": 52,
   "metadata": {
    "ExecuteTime": {
     "end_time": "2022-05-31T21:59:51.874858Z",
     "start_time": "2022-05-31T21:59:51.720494Z"
    }
   },
   "outputs": [
    {
     "data": {
      "text/plain": [
       "0.9470588235294117"
      ]
     },
     "execution_count": 52,
     "metadata": {},
     "output_type": "execute_result"
    }
   ],
   "source": [
    "grid_knn.best_score_"
   ]
  },
  {
   "cell_type": "markdown",
   "metadata": {},
   "source": [
    "`.cv_results_`: diversas informações do processo feito pelo GS"
   ]
  },
  {
   "cell_type": "code",
   "execution_count": 53,
   "metadata": {
    "ExecuteTime": {
     "end_time": "2022-05-31T21:59:52.050260Z",
     "start_time": "2022-05-31T21:59:51.877844Z"
    }
   },
   "outputs": [
    {
     "data": {
      "text/html": [
       "<div>\n",
       "<style scoped>\n",
       "    .dataframe tbody tr th:only-of-type {\n",
       "        vertical-align: middle;\n",
       "    }\n",
       "\n",
       "    .dataframe tbody tr th {\n",
       "        vertical-align: top;\n",
       "    }\n",
       "\n",
       "    .dataframe thead th {\n",
       "        text-align: right;\n",
       "    }\n",
       "</style>\n",
       "<table border=\"1\" class=\"dataframe\">\n",
       "  <thead>\n",
       "    <tr style=\"text-align: right;\">\n",
       "      <th></th>\n",
       "      <th>mean_fit_time</th>\n",
       "      <th>std_fit_time</th>\n",
       "      <th>mean_score_time</th>\n",
       "      <th>std_score_time</th>\n",
       "      <th>param_knn__metric</th>\n",
       "      <th>param_knn__n_neighbors</th>\n",
       "      <th>param_knn__weights</th>\n",
       "      <th>params</th>\n",
       "      <th>split0_test_score</th>\n",
       "      <th>split1_test_score</th>\n",
       "      <th>split2_test_score</th>\n",
       "      <th>split3_test_score</th>\n",
       "      <th>split4_test_score</th>\n",
       "      <th>mean_test_score</th>\n",
       "      <th>std_test_score</th>\n",
       "      <th>rank_test_score</th>\n",
       "    </tr>\n",
       "  </thead>\n",
       "  <tbody>\n",
       "    <tr>\n",
       "      <th>2</th>\n",
       "      <td>0.010595</td>\n",
       "      <td>0.002575</td>\n",
       "      <td>0.016998</td>\n",
       "      <td>0.002281</td>\n",
       "      <td>manhattan</td>\n",
       "      <td>3</td>\n",
       "      <td>uniform</td>\n",
       "      <td>{'knn__metric': 'manhattan', 'knn__n_neighbors...</td>\n",
       "      <td>0.941176</td>\n",
       "      <td>1.000000</td>\n",
       "      <td>0.911765</td>\n",
       "      <td>0.911765</td>\n",
       "      <td>0.970588</td>\n",
       "      <td>0.947059</td>\n",
       "      <td>0.034300</td>\n",
       "      <td>1</td>\n",
       "    </tr>\n",
       "    <tr>\n",
       "      <th>3</th>\n",
       "      <td>0.012005</td>\n",
       "      <td>0.003292</td>\n",
       "      <td>0.011199</td>\n",
       "      <td>0.002023</td>\n",
       "      <td>manhattan</td>\n",
       "      <td>3</td>\n",
       "      <td>distance</td>\n",
       "      <td>{'knn__metric': 'manhattan', 'knn__n_neighbors...</td>\n",
       "      <td>0.941176</td>\n",
       "      <td>1.000000</td>\n",
       "      <td>0.911765</td>\n",
       "      <td>0.911765</td>\n",
       "      <td>0.970588</td>\n",
       "      <td>0.947059</td>\n",
       "      <td>0.034300</td>\n",
       "      <td>1</td>\n",
       "    </tr>\n",
       "    <tr>\n",
       "      <th>5</th>\n",
       "      <td>0.018189</td>\n",
       "      <td>0.011543</td>\n",
       "      <td>0.016790</td>\n",
       "      <td>0.013607</td>\n",
       "      <td>manhattan</td>\n",
       "      <td>4</td>\n",
       "      <td>distance</td>\n",
       "      <td>{'knn__metric': 'manhattan', 'knn__n_neighbors...</td>\n",
       "      <td>0.941176</td>\n",
       "      <td>1.000000</td>\n",
       "      <td>0.911765</td>\n",
       "      <td>0.911765</td>\n",
       "      <td>0.970588</td>\n",
       "      <td>0.947059</td>\n",
       "      <td>0.034300</td>\n",
       "      <td>1</td>\n",
       "    </tr>\n",
       "    <tr>\n",
       "      <th>40</th>\n",
       "      <td>0.009236</td>\n",
       "      <td>0.002149</td>\n",
       "      <td>0.015550</td>\n",
       "      <td>0.003853</td>\n",
       "      <td>euclidean</td>\n",
       "      <td>3</td>\n",
       "      <td>uniform</td>\n",
       "      <td>{'knn__metric': 'euclidean', 'knn__n_neighbors...</td>\n",
       "      <td>0.941176</td>\n",
       "      <td>1.000000</td>\n",
       "      <td>0.911765</td>\n",
       "      <td>0.882353</td>\n",
       "      <td>0.941176</td>\n",
       "      <td>0.935294</td>\n",
       "      <td>0.039019</td>\n",
       "      <td>4</td>\n",
       "    </tr>\n",
       "    <tr>\n",
       "      <th>41</th>\n",
       "      <td>0.009796</td>\n",
       "      <td>0.001598</td>\n",
       "      <td>0.007395</td>\n",
       "      <td>0.001020</td>\n",
       "      <td>euclidean</td>\n",
       "      <td>3</td>\n",
       "      <td>distance</td>\n",
       "      <td>{'knn__metric': 'euclidean', 'knn__n_neighbors...</td>\n",
       "      <td>0.941176</td>\n",
       "      <td>1.000000</td>\n",
       "      <td>0.911765</td>\n",
       "      <td>0.882353</td>\n",
       "      <td>0.941176</td>\n",
       "      <td>0.935294</td>\n",
       "      <td>0.039019</td>\n",
       "      <td>4</td>\n",
       "    </tr>\n",
       "    <tr>\n",
       "      <th>...</th>\n",
       "      <td>...</td>\n",
       "      <td>...</td>\n",
       "      <td>...</td>\n",
       "      <td>...</td>\n",
       "      <td>...</td>\n",
       "      <td>...</td>\n",
       "      <td>...</td>\n",
       "      <td>...</td>\n",
       "      <td>...</td>\n",
       "      <td>...</td>\n",
       "      <td>...</td>\n",
       "      <td>...</td>\n",
       "      <td>...</td>\n",
       "      <td>...</td>\n",
       "      <td>...</td>\n",
       "      <td>...</td>\n",
       "    </tr>\n",
       "    <tr>\n",
       "      <th>32</th>\n",
       "      <td>0.010396</td>\n",
       "      <td>0.001020</td>\n",
       "      <td>0.018386</td>\n",
       "      <td>0.004669</td>\n",
       "      <td>manhattan</td>\n",
       "      <td>18</td>\n",
       "      <td>uniform</td>\n",
       "      <td>{'knn__metric': 'manhattan', 'knn__n_neighbors...</td>\n",
       "      <td>0.882353</td>\n",
       "      <td>1.000000</td>\n",
       "      <td>0.794118</td>\n",
       "      <td>0.852941</td>\n",
       "      <td>0.882353</td>\n",
       "      <td>0.882353</td>\n",
       "      <td>0.067069</td>\n",
       "      <td>70</td>\n",
       "    </tr>\n",
       "    <tr>\n",
       "      <th>28</th>\n",
       "      <td>0.008394</td>\n",
       "      <td>0.001019</td>\n",
       "      <td>0.017190</td>\n",
       "      <td>0.002481</td>\n",
       "      <td>manhattan</td>\n",
       "      <td>16</td>\n",
       "      <td>uniform</td>\n",
       "      <td>{'knn__metric': 'manhattan', 'knn__n_neighbors...</td>\n",
       "      <td>0.882353</td>\n",
       "      <td>1.000000</td>\n",
       "      <td>0.794118</td>\n",
       "      <td>0.852941</td>\n",
       "      <td>0.882353</td>\n",
       "      <td>0.882353</td>\n",
       "      <td>0.067069</td>\n",
       "      <td>70</td>\n",
       "    </tr>\n",
       "    <tr>\n",
       "      <th>70</th>\n",
       "      <td>0.009595</td>\n",
       "      <td>0.001959</td>\n",
       "      <td>0.015990</td>\n",
       "      <td>0.002757</td>\n",
       "      <td>euclidean</td>\n",
       "      <td>18</td>\n",
       "      <td>uniform</td>\n",
       "      <td>{'knn__metric': 'euclidean', 'knn__n_neighbors...</td>\n",
       "      <td>0.882353</td>\n",
       "      <td>0.970588</td>\n",
       "      <td>0.794118</td>\n",
       "      <td>0.882353</td>\n",
       "      <td>0.882353</td>\n",
       "      <td>0.882353</td>\n",
       "      <td>0.055805</td>\n",
       "      <td>70</td>\n",
       "    </tr>\n",
       "    <tr>\n",
       "      <th>37</th>\n",
       "      <td>0.008795</td>\n",
       "      <td>0.001166</td>\n",
       "      <td>0.014192</td>\n",
       "      <td>0.006611</td>\n",
       "      <td>manhattan</td>\n",
       "      <td>20</td>\n",
       "      <td>distance</td>\n",
       "      <td>{'knn__metric': 'manhattan', 'knn__n_neighbors...</td>\n",
       "      <td>0.882353</td>\n",
       "      <td>1.000000</td>\n",
       "      <td>0.794118</td>\n",
       "      <td>0.852941</td>\n",
       "      <td>0.882353</td>\n",
       "      <td>0.882353</td>\n",
       "      <td>0.067069</td>\n",
       "      <td>70</td>\n",
       "    </tr>\n",
       "    <tr>\n",
       "      <th>74</th>\n",
       "      <td>0.012992</td>\n",
       "      <td>0.006225</td>\n",
       "      <td>0.014991</td>\n",
       "      <td>0.001413</td>\n",
       "      <td>euclidean</td>\n",
       "      <td>20</td>\n",
       "      <td>uniform</td>\n",
       "      <td>{'knn__metric': 'euclidean', 'knn__n_neighbors...</td>\n",
       "      <td>0.882353</td>\n",
       "      <td>0.970588</td>\n",
       "      <td>0.794118</td>\n",
       "      <td>0.852941</td>\n",
       "      <td>0.882353</td>\n",
       "      <td>0.876471</td>\n",
       "      <td>0.057032</td>\n",
       "      <td>76</td>\n",
       "    </tr>\n",
       "  </tbody>\n",
       "</table>\n",
       "<p>76 rows × 16 columns</p>\n",
       "</div>"
      ],
      "text/plain": [
       "    mean_fit_time  std_fit_time  mean_score_time  std_score_time  \\\n",
       "2        0.010595      0.002575         0.016998        0.002281   \n",
       "3        0.012005      0.003292         0.011199        0.002023   \n",
       "5        0.018189      0.011543         0.016790        0.013607   \n",
       "40       0.009236      0.002149         0.015550        0.003853   \n",
       "41       0.009796      0.001598         0.007395        0.001020   \n",
       "..            ...           ...              ...             ...   \n",
       "32       0.010396      0.001020         0.018386        0.004669   \n",
       "28       0.008394      0.001019         0.017190        0.002481   \n",
       "70       0.009595      0.001959         0.015990        0.002757   \n",
       "37       0.008795      0.001166         0.014192        0.006611   \n",
       "74       0.012992      0.006225         0.014991        0.001413   \n",
       "\n",
       "   param_knn__metric param_knn__n_neighbors param_knn__weights  \\\n",
       "2          manhattan                      3            uniform   \n",
       "3          manhattan                      3           distance   \n",
       "5          manhattan                      4           distance   \n",
       "40         euclidean                      3            uniform   \n",
       "41         euclidean                      3           distance   \n",
       "..               ...                    ...                ...   \n",
       "32         manhattan                     18            uniform   \n",
       "28         manhattan                     16            uniform   \n",
       "70         euclidean                     18            uniform   \n",
       "37         manhattan                     20           distance   \n",
       "74         euclidean                     20            uniform   \n",
       "\n",
       "                                               params  split0_test_score  \\\n",
       "2   {'knn__metric': 'manhattan', 'knn__n_neighbors...           0.941176   \n",
       "3   {'knn__metric': 'manhattan', 'knn__n_neighbors...           0.941176   \n",
       "5   {'knn__metric': 'manhattan', 'knn__n_neighbors...           0.941176   \n",
       "40  {'knn__metric': 'euclidean', 'knn__n_neighbors...           0.941176   \n",
       "41  {'knn__metric': 'euclidean', 'knn__n_neighbors...           0.941176   \n",
       "..                                                ...                ...   \n",
       "32  {'knn__metric': 'manhattan', 'knn__n_neighbors...           0.882353   \n",
       "28  {'knn__metric': 'manhattan', 'knn__n_neighbors...           0.882353   \n",
       "70  {'knn__metric': 'euclidean', 'knn__n_neighbors...           0.882353   \n",
       "37  {'knn__metric': 'manhattan', 'knn__n_neighbors...           0.882353   \n",
       "74  {'knn__metric': 'euclidean', 'knn__n_neighbors...           0.882353   \n",
       "\n",
       "    split1_test_score  split2_test_score  split3_test_score  \\\n",
       "2            1.000000           0.911765           0.911765   \n",
       "3            1.000000           0.911765           0.911765   \n",
       "5            1.000000           0.911765           0.911765   \n",
       "40           1.000000           0.911765           0.882353   \n",
       "41           1.000000           0.911765           0.882353   \n",
       "..                ...                ...                ...   \n",
       "32           1.000000           0.794118           0.852941   \n",
       "28           1.000000           0.794118           0.852941   \n",
       "70           0.970588           0.794118           0.882353   \n",
       "37           1.000000           0.794118           0.852941   \n",
       "74           0.970588           0.794118           0.852941   \n",
       "\n",
       "    split4_test_score  mean_test_score  std_test_score  rank_test_score  \n",
       "2            0.970588         0.947059        0.034300                1  \n",
       "3            0.970588         0.947059        0.034300                1  \n",
       "5            0.970588         0.947059        0.034300                1  \n",
       "40           0.941176         0.935294        0.039019                4  \n",
       "41           0.941176         0.935294        0.039019                4  \n",
       "..                ...              ...             ...              ...  \n",
       "32           0.882353         0.882353        0.067069               70  \n",
       "28           0.882353         0.882353        0.067069               70  \n",
       "70           0.882353         0.882353        0.055805               70  \n",
       "37           0.882353         0.882353        0.067069               70  \n",
       "74           0.882353         0.876471        0.057032               76  \n",
       "\n",
       "[76 rows x 16 columns]"
      ]
     },
     "execution_count": 53,
     "metadata": {},
     "output_type": "execute_result"
    }
   ],
   "source": [
    "cv_results_df = pd.DataFrame(grid_knn.cv_results_).sort_values(\"rank_test_score\")\n",
    "\n",
    "cv_results_df"
   ]
  },
  {
   "cell_type": "markdown",
   "metadata": {},
   "source": [
    "____________"
   ]
  },
  {
   "cell_type": "markdown",
   "metadata": {},
   "source": [
    "Agora sim, podemos avaliar a generalização final (base de teste)"
   ]
  },
  {
   "cell_type": "code",
   "execution_count": 54,
   "metadata": {
    "ExecuteTime": {
     "end_time": "2022-05-31T21:59:52.485284Z",
     "start_time": "2022-05-31T21:59:52.055258Z"
    }
   },
   "outputs": [
    {
     "name": "stdout",
     "output_type": "stream",
     "text": [
      "Métricas de avaliação de teste - com cutoff = 0.50\n"
     ]
    },
    {
     "data": {
      "image/png": "[encoded data removed]",
      "text/plain": [
       "<Figure size 432x288 with 2 Axes>"
      ]
     },
     "metadata": {
      "needs_background": "light"
     },
     "output_type": "display_data"
    },
    {
     "name": "stdout",
     "output_type": "stream",
     "text": [
      "              precision    recall  f1-score   support\n",
      "\n",
      "           B       0.95      0.99      0.97        72\n",
      "           M       0.97      0.90      0.94        42\n",
      "\n",
      "    accuracy                           0.96       114\n",
      "   macro avg       0.96      0.95      0.95       114\n",
      "weighted avg       0.96      0.96      0.96       114\n",
      "\n"
     ]
    }
   ],
   "source": [
    "pipe_antigo = Pipeline([(\"std_scaler\", StandardScaler()), \n",
    "                        (\"knn\", KNeighborsClassifier(n_neighbors=5, \n",
    "                                                     weights='uniform', \n",
    "                                                     metric=\"euclidean\"))]).fit(X_train, y_train)\n",
    "\n",
    "_ = clf_metrics(pipe_antigo, X_test, y_test, cutoff=0.5, label_metrica=\"teste\", \n",
    "                print_plot=True, plot_conf_matrix=True, print_cr=True,\n",
    "                plot_prc=False, plot_roc=False, \n",
    "                pos_label=\"M\")"
   ]
  },
  {
   "cell_type": "code",
   "execution_count": 55,
   "metadata": {
    "ExecuteTime": {
     "end_time": "2022-05-31T21:59:52.937487Z",
     "start_time": "2022-05-31T21:59:52.495276Z"
    }
   },
   "outputs": [
    {
     "name": "stdout",
     "output_type": "stream",
     "text": [
      "Métricas de avaliação de teste - com cutoff = 0.50\n"
     ]
    },
    {
     "data": {
      "image/png": "[encoded data removed]",
      "text/plain": [
       "<Figure size 432x288 with 2 Axes>"
      ]
     },
     "metadata": {
      "needs_background": "light"
     },
     "output_type": "display_data"
    },
    {
     "name": "stdout",
     "output_type": "stream",
     "text": [
      "              precision    recall  f1-score   support\n",
      "\n",
      "           B       0.95      1.00      0.97        72\n",
      "           M       1.00      0.90      0.95        42\n",
      "\n",
      "    accuracy                           0.96       114\n",
      "   macro avg       0.97      0.95      0.96       114\n",
      "weighted avg       0.97      0.96      0.96       114\n",
      "\n"
     ]
    }
   ],
   "source": [
    "_ = clf_metrics(grid_knn, X_test, y_test, cutoff=0.5, label_metrica=\"teste\", \n",
    "                print_plot=True, plot_conf_matrix=True, print_cr=True,\n",
    "                plot_prc=False, plot_roc=False, \n",
    "                pos_label=\"M\")"
   ]
  },
  {
   "cell_type": "markdown",
   "metadata": {},
   "source": [
    "________\n",
    "_______\n",
    "______\n",
    "\n",
    "Sua vez! Faça agora uma estrutura de Pipeline + GS para o Logit, e depois compare o melhor logit com o melhor knn. Qual é o melhor modelo final?"
   ]
  },
  {
   "cell_type": "code",
   "execution_count": 56,
   "metadata": {
    "ExecuteTime": {
     "end_time": "2022-05-31T21:59:53.127413Z",
     "start_time": "2022-05-31T21:59:52.941486Z"
    }
   },
   "outputs": [],
   "source": [
    "# pra casa\n",
    "# teste l1, l2 e elastic net, poly features, etc etc"
   ]
  },
  {
   "cell_type": "markdown",
   "metadata": {},
   "source": [
    "____\n",
    "____\n",
    "____"
   ]
  },
  {
   "cell_type": "markdown",
   "metadata": {},
   "source": [
    "## 3) KNN para regressão\n",
    "\n",
    "O KNN é nosso primeiro exemplo de algoritmo que pode ser utilizado para ambos os problemas de classificação e regressão!\n",
    "\n",
    "A ideia é bem simples: o target atribuído a uma nova observação é igual à **média do target das $k$ observações mais próximas**\n",
    "\n",
    "<img src=\"https://bookdown.org/f100441618/bookdown-regresion/www/KNN.jpg\" width=500>\n",
    "\n",
    "Naturalmente, também para regressão o parâmetro $k$ e a métrica de distância são hiperparâmetros importantes:\n",
    "\n",
    "<img src=\"https://i.stack.imgur.com/gAILq.png\" width=500>\n",
    "\n",
    "A classe no sklearn é a [KNeighborsRegressor](https://scikit-learn.org/stable/modules/generated/sklearn.neighbors.KNeighborsRegressor.html). Dê uma olhada no User Guide e também no [RadiusNeighborsRegressor!](https://scikit-learn.org/stable/modules/generated/sklearn.neighbors.RadiusNeighborsRegressor.html#sklearn.neighbors.RadiusNeighborsRegressor)"
   ]
  },
  {
   "cell_type": "code",
   "execution_count": 57,
   "metadata": {
    "ExecuteTime": {
     "end_time": "2022-05-31T21:59:53.568002Z",
     "start_time": "2022-05-31T21:59:53.139407Z"
    }
   },
   "outputs": [],
   "source": [
    "df = pd.read_csv(\"../datasets/house_prices.csv\")\n",
    "\n",
    "X = df.drop(columns=[\"Id\", \"SalePrice\"])\n",
    "y = df[\"SalePrice\"]\n",
    "\n",
    "X_train, X_test, y_train, y_test = train_test_split(X, y, test_size=0.2, random_state=42)\n",
    "\n",
    "X_train = X_train.select_dtypes(include=np.number).dropna(axis=\"columns\")\n",
    "X_test = X_test.loc[:, X_train.columns]"
   ]
  },
  {
   "cell_type": "code",
   "execution_count": 58,
   "metadata": {
    "ExecuteTime": {
     "end_time": "2022-05-31T21:59:53.694812Z",
     "start_time": "2022-05-31T21:59:53.571025Z"
    }
   },
   "outputs": [],
   "source": [
    "from sklearn.neighbors import KNeighborsRegressor"
   ]
  },
  {
   "cell_type": "code",
   "execution_count": 103,
   "metadata": {
    "ExecuteTime": {
     "end_time": "2022-05-31T22:49:24.749465Z",
     "start_time": "2022-05-31T22:49:02.425554Z"
    }
   },
   "outputs": [
    {
     "name": "stdout",
     "output_type": "stream",
     "text": [
      "Fitting 5 folds for each of 76 candidates, totalling 380 fits\n"
     ]
    }
   ],
   "source": [
    "pipe_reg = Pipeline([(\"std_scaler\", StandardScaler()),\n",
    "                 (\"knn\", KNeighborsRegressor())])\n",
    "\n",
    "grade_de_parametros = {\"knn__n_neighbors\" : range(2, 21),\n",
    "                       \"knn__weights\" : [\"uniform\", \"distance\"],\n",
    "                       \"knn__metric\" : [\"manhattan\", \"euclidean\"]}\n",
    "\n",
    "metrica = \"neg_mean_absolute_error\"\n",
    "\n",
    "kf = KFold(n_splits=5, shuffle=True, random_state=42)\n",
    "\n",
    "grid_knn_reg = GridSearchCV(estimator = pipe_reg,\n",
    "                            param_grid = grade_de_parametros,\n",
    "                            scoring = metrica,\n",
    "                            cv = kf,\n",
    "                            n_jobs=-1, verbose=10, return_train_score=True).fit(X_train, y_train)"
   ]
  },
  {
   "cell_type": "code",
   "execution_count": 104,
   "metadata": {
    "ExecuteTime": {
     "end_time": "2022-05-31T22:49:25.034360Z",
     "start_time": "2022-05-31T22:49:24.755460Z"
    }
   },
   "outputs": [
    {
     "data": {
      "text/plain": [
       "{'knn__metric': 'manhattan',\n",
       " 'knn__n_neighbors': 10,\n",
       " 'knn__weights': 'distance'}"
      ]
     },
     "execution_count": 104,
     "metadata": {},
     "output_type": "execute_result"
    }
   ],
   "source": [
    "grid_knn_reg.best_params_"
   ]
  },
  {
   "cell_type": "code",
   "execution_count": 105,
   "metadata": {
    "ExecuteTime": {
     "end_time": "2022-05-31T22:49:25.562874Z",
     "start_time": "2022-05-31T22:49:25.039358Z"
    }
   },
   "outputs": [
    {
     "name": "stdout",
     "output_type": "stream",
     "text": [
      "\n",
      "Métricas de avaliação (dados de treino):\n",
      "\n",
      "R^2: 1.00\n",
      "MAE: 7.11\n",
      "RMSE: 171.73\n",
      "MAPE: 0.00%\n",
      "\n",
      "Métricas de avaliação (dados de teste):\n",
      "\n",
      "R^2: 0.82\n",
      "MAE: 20555.39\n",
      "RMSE: 36794.57\n",
      "MAPE: 11.74%\n"
     ]
    }
   ],
   "source": [
    "_ = calc_reg_metrics(grid_knn_reg, X_train, y_train, label=\"treino\", plot=False, dist_resids=False, print_stuff=True)\n",
    "\n",
    "_ = calc_reg_metrics(grid_knn_reg, X_test, y_test, label=\"teste\", plot=False, dist_resids=False, print_stuff=True)"
   ]
  },
  {
   "cell_type": "code",
   "execution_count": 107,
   "metadata": {
    "ExecuteTime": {
     "end_time": "2022-05-31T22:49:41.160028Z",
     "start_time": "2022-05-31T22:49:40.941039Z"
    }
   },
   "outputs": [
    {
     "data": {
      "text/plain": [
       "-19788.67549324904"
      ]
     },
     "execution_count": 107,
     "metadata": {},
     "output_type": "execute_result"
    }
   ],
   "source": [
    "grid_knn_reg.best_score_"
   ]
  },
  {
   "cell_type": "markdown",
   "metadata": {},
   "source": [
    "E se quisermos escolher uma combinação que seja \"boa\" no que diz respeito à comparação (delta) entre métricas de treino e teste?\n",
    "\n",
    "Pra isso, usamos a função abaixo (vide o modulo `ml_utils` pra definição)!"
   ]
  },
  {
   "cell_type": "code",
   "execution_count": 121,
   "metadata": {
    "ExecuteTime": {
     "end_time": "2022-05-31T23:01:02.166372Z",
     "start_time": "2022-05-31T23:01:01.834561Z"
    },
    "scrolled": true
   },
   "outputs": [
    {
     "data": {
      "text/html": [
       "<div>\n",
       "<style scoped>\n",
       "    .dataframe tbody tr th:only-of-type {\n",
       "        vertical-align: middle;\n",
       "    }\n",
       "\n",
       "    .dataframe tbody tr th {\n",
       "        vertical-align: top;\n",
       "    }\n",
       "\n",
       "    .dataframe thead th {\n",
       "        text-align: right;\n",
       "    }\n",
       "</style>\n",
       "<table border=\"1\" class=\"dataframe\">\n",
       "  <thead>\n",
       "    <tr style=\"text-align: right;\">\n",
       "      <th></th>\n",
       "      <th>mean_test_score</th>\n",
       "      <th>mean_train_score</th>\n",
       "      <th>delta</th>\n",
       "    </tr>\n",
       "  </thead>\n",
       "  <tbody>\n",
       "    <tr>\n",
       "      <th>36</th>\n",
       "      <td>20850.490263</td>\n",
       "      <td>19628.843164</td>\n",
       "      <td>1221.647099</td>\n",
       "    </tr>\n",
       "    <tr>\n",
       "      <th>30</th>\n",
       "      <td>20524.836939</td>\n",
       "      <td>19291.997763</td>\n",
       "      <td>1232.839176</td>\n",
       "    </tr>\n",
       "    <tr>\n",
       "      <th>32</th>\n",
       "      <td>20657.245194</td>\n",
       "      <td>19393.153656</td>\n",
       "      <td>1264.091538</td>\n",
       "    </tr>\n",
       "    <tr>\n",
       "      <th>34</th>\n",
       "      <td>20780.438168</td>\n",
       "      <td>19507.059031</td>\n",
       "      <td>1273.379137</td>\n",
       "    </tr>\n",
       "    <tr>\n",
       "      <th>28</th>\n",
       "      <td>20457.315367</td>\n",
       "      <td>19161.547727</td>\n",
       "      <td>1295.767640</td>\n",
       "    </tr>\n",
       "    <tr>\n",
       "      <th>...</th>\n",
       "      <td>...</td>\n",
       "      <td>...</td>\n",
       "      <td>...</td>\n",
       "    </tr>\n",
       "    <tr>\n",
       "      <th>47</th>\n",
       "      <td>22203.852753</td>\n",
       "      <td>5.328608</td>\n",
       "      <td>22198.524145</td>\n",
       "    </tr>\n",
       "    <tr>\n",
       "      <th>45</th>\n",
       "      <td>22450.106060</td>\n",
       "      <td>5.328523</td>\n",
       "      <td>22444.777537</td>\n",
       "    </tr>\n",
       "    <tr>\n",
       "      <th>43</th>\n",
       "      <td>22905.070835</td>\n",
       "      <td>5.328441</td>\n",
       "      <td>22899.742394</td>\n",
       "    </tr>\n",
       "    <tr>\n",
       "      <th>41</th>\n",
       "      <td>23453.890011</td>\n",
       "      <td>5.328344</td>\n",
       "      <td>23448.561667</td>\n",
       "    </tr>\n",
       "    <tr>\n",
       "      <th>39</th>\n",
       "      <td>24409.003724</td>\n",
       "      <td>5.328253</td>\n",
       "      <td>24403.675471</td>\n",
       "    </tr>\n",
       "  </tbody>\n",
       "</table>\n",
       "<p>76 rows × 3 columns</p>\n",
       "</div>"
      ],
      "text/plain": [
       "    mean_test_score  mean_train_score         delta\n",
       "36     20850.490263      19628.843164   1221.647099\n",
       "30     20524.836939      19291.997763   1232.839176\n",
       "32     20657.245194      19393.153656   1264.091538\n",
       "34     20780.438168      19507.059031   1273.379137\n",
       "28     20457.315367      19161.547727   1295.767640\n",
       "..              ...               ...           ...\n",
       "47     22203.852753          5.328608  22198.524145\n",
       "45     22450.106060          5.328523  22444.777537\n",
       "43     22905.070835          5.328441  22899.742394\n",
       "41     23453.890011          5.328344  23448.561667\n",
       "39     24409.003724          5.328253  24403.675471\n",
       "\n",
       "[76 rows x 3 columns]"
      ]
     },
     "metadata": {},
     "output_type": "display_data"
    }
   ],
   "source": [
    "best_params_delta = calc_best_params_delta(grid_knn_reg, print_deltas=True)"
   ]
  },
  {
   "cell_type": "code",
   "execution_count": 122,
   "metadata": {
    "ExecuteTime": {
     "end_time": "2022-05-31T23:01:03.717099Z",
     "start_time": "2022-05-31T23:01:03.541689Z"
    }
   },
   "outputs": [
    {
     "data": {
      "text/plain": [
       "{'metric': 'manhattan', 'n_neighbors': 20, 'weights': 'uniform'}"
      ]
     },
     "execution_count": 122,
     "metadata": {},
     "output_type": "execute_result"
    }
   ],
   "source": [
    "best_params_delta"
   ]
  },
  {
   "cell_type": "markdown",
   "metadata": {},
   "source": [
    "Agora que temos uma boa combinação de hiperparâmetros (que não overfita, segundo o critério do `delta`), temos que treinar um modelo (pipeline) com esse conjunto de hiperparametros!"
   ]
  },
  {
   "cell_type": "code",
   "execution_count": 128,
   "metadata": {
    "ExecuteTime": {
     "end_time": "2022-05-31T23:02:31.975132Z",
     "start_time": "2022-05-31T23:02:31.636833Z"
    }
   },
   "outputs": [
    {
     "name": "stdout",
     "output_type": "stream",
     "text": [
      "\n",
      "Métricas de avaliação (dados de treino):\n",
      "\n",
      "R^2: 0.82\n",
      "MAE: 19127.47\n",
      "RMSE: 32690.13\n",
      "MAPE: 10.62%\n",
      "\n",
      "Métricas de avaliação (dados de teste):\n",
      "\n",
      "R^2: 0.79\n",
      "MAE: 21140.53\n",
      "RMSE: 39984.98\n",
      "MAPE: 12.16%\n"
     ]
    }
   ],
   "source": [
    "pipe_reg_best_delta = Pipeline([(\"std_scaler\", StandardScaler()),\n",
    "                                (\"knn\", KNeighborsRegressor(**best_params_delta))]).fit(X_train, y_train)\n",
    "\n",
    "_ = calc_reg_metrics(pipe_reg_best_delta, X_train, y_train, label=\"treino\", plot=False, dist_resids=False, print_stuff=True)\n",
    "\n",
    "_ = calc_reg_metrics(pipe_reg_best_delta, X_test, y_test, label=\"teste\", plot=False, dist_resids=False, print_stuff=True)"
   ]
  },
  {
   "cell_type": "markdown",
   "metadata": {
    "ExecuteTime": {
     "end_time": "2022-05-31T22:52:58.039300Z",
     "start_time": "2022-05-31T22:52:57.840315Z"
    }
   },
   "source": [
    "___________"
   ]
  },
  {
   "cell_type": "code",
   "execution_count": 62,
   "metadata": {
    "ExecuteTime": {
     "end_time": "2022-05-31T22:00:02.735690Z",
     "start_time": "2022-05-31T22:00:02.570263Z"
    }
   },
   "outputs": [],
   "source": [
    "# a como melhorar esse overfitting??"
   ]
  },
  {
   "cell_type": "markdown",
   "metadata": {},
   "source": [
    "Limitando o k, pra fugir de overfitting"
   ]
  },
  {
   "cell_type": "code",
   "execution_count": 68,
   "metadata": {
    "ExecuteTime": {
     "end_time": "2022-05-31T22:35:06.362176Z",
     "start_time": "2022-05-31T22:34:20.149588Z"
    }
   },
   "outputs": [
    {
     "name": "stdout",
     "output_type": "stream",
     "text": [
      "Fitting 5 folds for each of 100 candidates, totalling 500 fits\n"
     ]
    }
   ],
   "source": [
    "pipe_reg = Pipeline([(\"std_scaler\", StandardScaler()),\n",
    "                 (\"knn\", KNeighborsRegressor())])\n",
    "\n",
    "grade_de_parametros = {\"knn__n_neighbors\" : range(50, 100),\n",
    "                       \"knn__weights\" : [\"uniform\"],\n",
    "                       \"knn__metric\" : [\"manhattan\", \"euclidean\"]}\n",
    "\n",
    "metrica = \"neg_mean_absolute_error\"\n",
    "\n",
    "kf = KFold(n_splits=5, shuffle=True, random_state=42)\n",
    "\n",
    "grid_knn_reg = GridSearchCV(estimator = pipe_reg,\n",
    "                            param_grid = grade_de_parametros,\n",
    "                            scoring = metrica,\n",
    "                            cv = kf,\n",
    "                            n_jobs=-1, verbose=10, return_train_score=True).fit(X_train, y_train)"
   ]
  },
  {
   "cell_type": "code",
   "execution_count": 69,
   "metadata": {
    "ExecuteTime": {
     "end_time": "2022-05-31T22:35:06.610335Z",
     "start_time": "2022-05-31T22:35:06.366179Z"
    }
   },
   "outputs": [
    {
     "data": {
      "text/plain": [
       "{'knn__metric': 'manhattan', 'knn__n_neighbors': 50, 'knn__weights': 'uniform'}"
      ]
     },
     "execution_count": 69,
     "metadata": {},
     "output_type": "execute_result"
    }
   ],
   "source": [
    "grid_knn_reg.best_params_"
   ]
  },
  {
   "cell_type": "code",
   "execution_count": 70,
   "metadata": {
    "ExecuteTime": {
     "end_time": "2022-05-31T22:35:07.216523Z",
     "start_time": "2022-05-31T22:35:06.618330Z"
    }
   },
   "outputs": [
    {
     "name": "stdout",
     "output_type": "stream",
     "text": [
      "\n",
      "Métricas de avaliação (dados de treino):\n",
      "\n",
      "R^2: 0.78\n",
      "MAE: 21708.03\n",
      "RMSE: 36547.09\n",
      "MAPE: 12.12%\n",
      "\n",
      "Métricas de avaliação (dados de teste):\n",
      "\n",
      "R^2: 0.75\n",
      "MAE: 23263.94\n",
      "RMSE: 43657.65\n",
      "MAPE: 13.61%\n"
     ]
    }
   ],
   "source": [
    "_ = calc_reg_metrics(grid_knn_reg, X_train, y_train, label=\"treino\", plot=False, dist_resids=False, print_stuff=True)\n",
    "\n",
    "_ = calc_reg_metrics(grid_knn_reg, X_test, y_test, label=\"teste\", plot=False, dist_resids=False, print_stuff=True)"
   ]
  },
  {
   "cell_type": "markdown",
   "metadata": {},
   "source": [
    "Usando nossa função do critério baseado no delta novamente:"
   ]
  },
  {
   "cell_type": "code",
   "execution_count": 97,
   "metadata": {
    "ExecuteTime": {
     "end_time": "2022-05-31T22:44:12.514804Z",
     "start_time": "2022-05-31T22:44:12.315356Z"
    }
   },
   "outputs": [
    {
     "data": {
      "text/html": [
       "<div>\n",
       "<style scoped>\n",
       "    .dataframe tbody tr th:only-of-type {\n",
       "        vertical-align: middle;\n",
       "    }\n",
       "\n",
       "    .dataframe tbody tr th {\n",
       "        vertical-align: top;\n",
       "    }\n",
       "\n",
       "    .dataframe thead th {\n",
       "        text-align: right;\n",
       "    }\n",
       "</style>\n",
       "<table border=\"1\" class=\"dataframe\">\n",
       "  <thead>\n",
       "    <tr style=\"text-align: right;\">\n",
       "      <th></th>\n",
       "      <th>mean_test_score</th>\n",
       "      <th>mean_train_score</th>\n",
       "      <th>delta</th>\n",
       "    </tr>\n",
       "  </thead>\n",
       "  <tbody>\n",
       "    <tr>\n",
       "      <th>85</th>\n",
       "      <td>25895.664287</td>\n",
       "      <td>25596.030248</td>\n",
       "      <td>299.634040</td>\n",
       "    </tr>\n",
       "    <tr>\n",
       "      <th>37</th>\n",
       "      <td>24768.300796</td>\n",
       "      <td>24467.355202</td>\n",
       "      <td>300.945594</td>\n",
       "    </tr>\n",
       "    <tr>\n",
       "      <th>38</th>\n",
       "      <td>24807.351454</td>\n",
       "      <td>24500.258587</td>\n",
       "      <td>307.092867</td>\n",
       "    </tr>\n",
       "    <tr>\n",
       "      <th>45</th>\n",
       "      <td>25068.044299</td>\n",
       "      <td>24759.097156</td>\n",
       "      <td>308.947143</td>\n",
       "    </tr>\n",
       "    <tr>\n",
       "      <th>44</th>\n",
       "      <td>25025.294780</td>\n",
       "      <td>24716.338275</td>\n",
       "      <td>308.956505</td>\n",
       "    </tr>\n",
       "    <tr>\n",
       "      <th>...</th>\n",
       "      <td>...</td>\n",
       "      <td>...</td>\n",
       "      <td>...</td>\n",
       "    </tr>\n",
       "    <tr>\n",
       "      <th>52</th>\n",
       "      <td>24637.623251</td>\n",
       "      <td>23972.222973</td>\n",
       "      <td>665.400279</td>\n",
       "    </tr>\n",
       "    <tr>\n",
       "      <th>51</th>\n",
       "      <td>24590.622800</td>\n",
       "      <td>23908.139632</td>\n",
       "      <td>682.483168</td>\n",
       "    </tr>\n",
       "    <tr>\n",
       "      <th>54</th>\n",
       "      <td>24771.946932</td>\n",
       "      <td>24089.206890</td>\n",
       "      <td>682.740042</td>\n",
       "    </tr>\n",
       "    <tr>\n",
       "      <th>55</th>\n",
       "      <td>24818.711349</td>\n",
       "      <td>24130.700676</td>\n",
       "      <td>688.010673</td>\n",
       "    </tr>\n",
       "    <tr>\n",
       "      <th>50</th>\n",
       "      <td>24536.252675</td>\n",
       "      <td>23844.953129</td>\n",
       "      <td>691.299545</td>\n",
       "    </tr>\n",
       "  </tbody>\n",
       "</table>\n",
       "<p>100 rows × 3 columns</p>\n",
       "</div>"
      ],
      "text/plain": [
       "    mean_test_score  mean_train_score       delta\n",
       "85     25895.664287      25596.030248  299.634040\n",
       "37     24768.300796      24467.355202  300.945594\n",
       "38     24807.351454      24500.258587  307.092867\n",
       "45     25068.044299      24759.097156  308.947143\n",
       "44     25025.294780      24716.338275  308.956505\n",
       "..              ...               ...         ...\n",
       "52     24637.623251      23972.222973  665.400279\n",
       "51     24590.622800      23908.139632  682.483168\n",
       "54     24771.946932      24089.206890  682.740042\n",
       "55     24818.711349      24130.700676  688.010673\n",
       "50     24536.252675      23844.953129  691.299545\n",
       "\n",
       "[100 rows x 3 columns]"
      ]
     },
     "metadata": {},
     "output_type": "display_data"
    },
    {
     "data": {
      "text/plain": [
       "{'knn__metric': 'euclidean', 'knn__n_neighbors': 85, 'knn__weights': 'uniform'}"
      ]
     },
     "execution_count": 97,
     "metadata": {},
     "output_type": "execute_result"
    }
   ],
   "source": [
    "calc_best_params_delta(grid_knn_reg, print_deltas=True)"
   ]
  },
  {
   "cell_type": "markdown",
   "metadata": {},
   "source": [
    "# Lição de casa\n",
    "\n",
    "tentar melhorar a função do `delta`, pensando em um critério pra escolha do melhor modelo (melhor combinação de hiperparâmetros), que leve em consideração tanto o delta quanto um valor \"bom\" pra métrica de teste!"
   ]
  }
 ],
 "metadata": {
  "kernelspec": {
   "display_name": "Python 3",
   "language": "python",
   "name": "python3"
  },
  "language_info": {
   "codemirror_mode": {
    "name": "ipython",
    "version": 3
   },
   "file_extension": ".py",
   "mimetype": "text/x-python",
   "name": "python",
   "nbconvert_exporter": "python",
   "pygments_lexer": "ipython3",
   "version": "3.8.3"
  }
 },
 "nbformat": 4,
 "nbformat_minor": 2
}
