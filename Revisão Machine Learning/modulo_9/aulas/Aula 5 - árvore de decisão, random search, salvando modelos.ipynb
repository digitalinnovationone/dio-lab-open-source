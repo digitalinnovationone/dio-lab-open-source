{
 "cells": [
  {
   "cell_type": "markdown",
   "metadata": {},
   "source": [
    "# Aula 5 - árvore de decisão, random search, salvando modelos\n",
    "\n",
    "Na aula de hoje, vamos explorar os seguintes tópicos em Python:\n",
    "\n",
    "- 1) Árvores de decisão para classificação\n",
    "- 2) Random Search\n",
    "- 3) Salvando modelos\n",
    "- 4) Árvores de decisão para regressão"
   ]
  },
  {
   "cell_type": "markdown",
   "metadata": {},
   "source": [
    "____\n",
    "____\n",
    "____"
   ]
  },
  {
   "cell_type": "markdown",
   "metadata": {},
   "source": [
    "## 1) Árvores de decisão para classificação"
   ]
  },
  {
   "cell_type": "markdown",
   "metadata": {},
   "source": [
    "Já vimos árvores de decisão anteriormente no curso, no módulo de estrutura de dados.\n",
    "\n",
    "Naquele contato, nós criamos árvores **instanciando a classe com a estrutura que desejávamos**.\n",
    "\n",
    "Agora, conheceremos árvores como **estimadores**, de modo que á arvore **irá determinar sua estrutura com base nos dados de treino**!\n",
    "\n",
    "Isto é, a árvore irá determinar **quais são as melhores quebras** a serem feitas em cada nó.\n",
    "\n",
    "Entenderemos mais a frente como a \"qualidade\" de uma quebra é quantificada.\n",
    "\n",
    "Antes, vamos construir um modelo de árvore na prática!"
   ]
  },
  {
   "cell_type": "code",
   "execution_count": 1,
   "metadata": {
    "ExecuteTime": {
     "end_time": "2022-06-03T21:45:03.457279Z",
     "start_time": "2022-06-03T21:45:03.268387Z"
    }
   },
   "outputs": [],
   "source": [
    "%load_ext autoreload\n",
    "%autoreload 2"
   ]
  },
  {
   "cell_type": "code",
   "execution_count": 2,
   "metadata": {
    "ExecuteTime": {
     "end_time": "2022-06-03T21:45:31.657257Z",
     "start_time": "2022-06-03T21:45:03.463276Z"
    }
   },
   "outputs": [],
   "source": [
    "from ml_utils import *"
   ]
  },
  {
   "cell_type": "markdown",
   "metadata": {},
   "source": [
    "Para o exemplo de árvore de descisão iremos utilizar um [dataset de risco de crédito](https://www.kaggle.com/uciml/german-credit). \n",
    "\n",
    "O objetivo é determinar a quais clientes será concedido crédito, com base em diversas features.\n",
    "\n",
    "Esta base é clássica, e muito utilizada, mas simplifica consideravelmente o processo de risco de crédito. Na vida real, este problema é tratado utilizando diversas informações, de diferentes fontes. Para uma ideia da complexidade real do problema, sugiro dar uma olhada [nesta competição](https://www.kaggle.com/c/home-credit-default-risk/data)."
   ]
  },
  {
   "cell_type": "code",
   "execution_count": 3,
   "metadata": {
    "ExecuteTime": {
     "end_time": "2022-06-03T21:45:32.637150Z",
     "start_time": "2022-06-03T21:45:31.660257Z"
    }
   },
   "outputs": [],
   "source": [
    "df = pd.read_csv(\"../datasets/german_credit_data.csv\", index_col=0)"
   ]
  },
  {
   "cell_type": "code",
   "execution_count": 4,
   "metadata": {
    "ExecuteTime": {
     "end_time": "2022-06-03T21:45:33.200354Z",
     "start_time": "2022-06-03T21:45:32.645146Z"
    }
   },
   "outputs": [
    {
     "data": {
      "text/html": [
       "<div>\n",
       "<style scoped>\n",
       "    .dataframe tbody tr th:only-of-type {\n",
       "        vertical-align: middle;\n",
       "    }\n",
       "\n",
       "    .dataframe tbody tr th {\n",
       "        vertical-align: top;\n",
       "    }\n",
       "\n",
       "    .dataframe thead th {\n",
       "        text-align: right;\n",
       "    }\n",
       "</style>\n",
       "<table border=\"1\" class=\"dataframe\">\n",
       "  <thead>\n",
       "    <tr style=\"text-align: right;\">\n",
       "      <th></th>\n",
       "      <th>Age</th>\n",
       "      <th>Sex</th>\n",
       "      <th>Job</th>\n",
       "      <th>Housing</th>\n",
       "      <th>Saving accounts</th>\n",
       "      <th>Checking account</th>\n",
       "      <th>Credit amount</th>\n",
       "      <th>Duration</th>\n",
       "      <th>Purpose</th>\n",
       "      <th>Risk</th>\n",
       "    </tr>\n",
       "  </thead>\n",
       "  <tbody>\n",
       "    <tr>\n",
       "      <th>0</th>\n",
       "      <td>67</td>\n",
       "      <td>male</td>\n",
       "      <td>2</td>\n",
       "      <td>own</td>\n",
       "      <td>NaN</td>\n",
       "      <td>little</td>\n",
       "      <td>1169</td>\n",
       "      <td>6</td>\n",
       "      <td>radio/TV</td>\n",
       "      <td>good</td>\n",
       "    </tr>\n",
       "    <tr>\n",
       "      <th>1</th>\n",
       "      <td>22</td>\n",
       "      <td>female</td>\n",
       "      <td>2</td>\n",
       "      <td>own</td>\n",
       "      <td>little</td>\n",
       "      <td>moderate</td>\n",
       "      <td>5951</td>\n",
       "      <td>48</td>\n",
       "      <td>radio/TV</td>\n",
       "      <td>bad</td>\n",
       "    </tr>\n",
       "    <tr>\n",
       "      <th>2</th>\n",
       "      <td>49</td>\n",
       "      <td>male</td>\n",
       "      <td>1</td>\n",
       "      <td>own</td>\n",
       "      <td>little</td>\n",
       "      <td>NaN</td>\n",
       "      <td>2096</td>\n",
       "      <td>12</td>\n",
       "      <td>education</td>\n",
       "      <td>good</td>\n",
       "    </tr>\n",
       "    <tr>\n",
       "      <th>3</th>\n",
       "      <td>45</td>\n",
       "      <td>male</td>\n",
       "      <td>2</td>\n",
       "      <td>free</td>\n",
       "      <td>little</td>\n",
       "      <td>little</td>\n",
       "      <td>7882</td>\n",
       "      <td>42</td>\n",
       "      <td>furniture/equipment</td>\n",
       "      <td>good</td>\n",
       "    </tr>\n",
       "    <tr>\n",
       "      <th>4</th>\n",
       "      <td>53</td>\n",
       "      <td>male</td>\n",
       "      <td>2</td>\n",
       "      <td>free</td>\n",
       "      <td>little</td>\n",
       "      <td>little</td>\n",
       "      <td>4870</td>\n",
       "      <td>24</td>\n",
       "      <td>car</td>\n",
       "      <td>bad</td>\n",
       "    </tr>\n",
       "    <tr>\n",
       "      <th>...</th>\n",
       "      <td>...</td>\n",
       "      <td>...</td>\n",
       "      <td>...</td>\n",
       "      <td>...</td>\n",
       "      <td>...</td>\n",
       "      <td>...</td>\n",
       "      <td>...</td>\n",
       "      <td>...</td>\n",
       "      <td>...</td>\n",
       "      <td>...</td>\n",
       "    </tr>\n",
       "    <tr>\n",
       "      <th>995</th>\n",
       "      <td>31</td>\n",
       "      <td>female</td>\n",
       "      <td>1</td>\n",
       "      <td>own</td>\n",
       "      <td>little</td>\n",
       "      <td>NaN</td>\n",
       "      <td>1736</td>\n",
       "      <td>12</td>\n",
       "      <td>furniture/equipment</td>\n",
       "      <td>good</td>\n",
       "    </tr>\n",
       "    <tr>\n",
       "      <th>996</th>\n",
       "      <td>40</td>\n",
       "      <td>male</td>\n",
       "      <td>3</td>\n",
       "      <td>own</td>\n",
       "      <td>little</td>\n",
       "      <td>little</td>\n",
       "      <td>3857</td>\n",
       "      <td>30</td>\n",
       "      <td>car</td>\n",
       "      <td>good</td>\n",
       "    </tr>\n",
       "    <tr>\n",
       "      <th>997</th>\n",
       "      <td>38</td>\n",
       "      <td>male</td>\n",
       "      <td>2</td>\n",
       "      <td>own</td>\n",
       "      <td>little</td>\n",
       "      <td>NaN</td>\n",
       "      <td>804</td>\n",
       "      <td>12</td>\n",
       "      <td>radio/TV</td>\n",
       "      <td>good</td>\n",
       "    </tr>\n",
       "    <tr>\n",
       "      <th>998</th>\n",
       "      <td>23</td>\n",
       "      <td>male</td>\n",
       "      <td>2</td>\n",
       "      <td>free</td>\n",
       "      <td>little</td>\n",
       "      <td>little</td>\n",
       "      <td>1845</td>\n",
       "      <td>45</td>\n",
       "      <td>radio/TV</td>\n",
       "      <td>bad</td>\n",
       "    </tr>\n",
       "    <tr>\n",
       "      <th>999</th>\n",
       "      <td>27</td>\n",
       "      <td>male</td>\n",
       "      <td>2</td>\n",
       "      <td>own</td>\n",
       "      <td>moderate</td>\n",
       "      <td>moderate</td>\n",
       "      <td>4576</td>\n",
       "      <td>45</td>\n",
       "      <td>car</td>\n",
       "      <td>good</td>\n",
       "    </tr>\n",
       "  </tbody>\n",
       "</table>\n",
       "<p>1000 rows × 10 columns</p>\n",
       "</div>"
      ],
      "text/plain": [
       "     Age     Sex  Job Housing Saving accounts Checking account  Credit amount  \\\n",
       "0     67    male    2     own             NaN           little           1169   \n",
       "1     22  female    2     own          little         moderate           5951   \n",
       "2     49    male    1     own          little              NaN           2096   \n",
       "3     45    male    2    free          little           little           7882   \n",
       "4     53    male    2    free          little           little           4870   \n",
       "..   ...     ...  ...     ...             ...              ...            ...   \n",
       "995   31  female    1     own          little              NaN           1736   \n",
       "996   40    male    3     own          little           little           3857   \n",
       "997   38    male    2     own          little              NaN            804   \n",
       "998   23    male    2    free          little           little           1845   \n",
       "999   27    male    2     own        moderate         moderate           4576   \n",
       "\n",
       "     Duration              Purpose  Risk  \n",
       "0           6             radio/TV  good  \n",
       "1          48             radio/TV   bad  \n",
       "2          12            education  good  \n",
       "3          42  furniture/equipment  good  \n",
       "4          24                  car   bad  \n",
       "..        ...                  ...   ...  \n",
       "995        12  furniture/equipment  good  \n",
       "996        30                  car  good  \n",
       "997        12             radio/TV  good  \n",
       "998        45             radio/TV   bad  \n",
       "999        45                  car  good  \n",
       "\n",
       "[1000 rows x 10 columns]"
      ]
     },
     "execution_count": 4,
     "metadata": {},
     "output_type": "execute_result"
    }
   ],
   "source": [
    "df"
   ]
  },
  {
   "cell_type": "code",
   "execution_count": 5,
   "metadata": {
    "ExecuteTime": {
     "end_time": "2022-06-03T21:45:33.608150Z",
     "start_time": "2022-06-03T21:45:33.204355Z"
    }
   },
   "outputs": [
    {
     "name": "stdout",
     "output_type": "stream",
     "text": [
      "<class 'pandas.core.frame.DataFrame'>\n",
      "Int64Index: 1000 entries, 0 to 999\n",
      "Data columns (total 10 columns):\n",
      " #   Column            Non-Null Count  Dtype \n",
      "---  ------            --------------  ----- \n",
      " 0   Age               1000 non-null   int64 \n",
      " 1   Sex               1000 non-null   object\n",
      " 2   Job               1000 non-null   int64 \n",
      " 3   Housing           1000 non-null   object\n",
      " 4   Saving accounts   817 non-null    object\n",
      " 5   Checking account  606 non-null    object\n",
      " 6   Credit amount     1000 non-null   int64 \n",
      " 7   Duration          1000 non-null   int64 \n",
      " 8   Purpose           1000 non-null   object\n",
      " 9   Risk              1000 non-null   object\n",
      "dtypes: int64(4), object(6)\n",
      "memory usage: 85.9+ KB\n"
     ]
    }
   ],
   "source": [
    "df.info()"
   ]
  },
  {
   "cell_type": "markdown",
   "metadata": {},
   "source": [
    "Novamente, por enquanto utilizaremos apenas as features numéricas!"
   ]
  },
  {
   "cell_type": "code",
   "execution_count": 6,
   "metadata": {
    "ExecuteTime": {
     "end_time": "2022-06-03T21:45:34.089988Z",
     "start_time": "2022-06-03T21:45:33.614143Z"
    }
   },
   "outputs": [],
   "source": [
    "X = df.select_dtypes(include=np.number)\n",
    "y = df[\"Risk\"]"
   ]
  },
  {
   "cell_type": "code",
   "execution_count": 7,
   "metadata": {
    "ExecuteTime": {
     "end_time": "2022-06-03T21:45:34.291872Z",
     "start_time": "2022-06-03T21:45:34.093988Z"
    }
   },
   "outputs": [
    {
     "data": {
      "text/plain": [
       "0      good\n",
       "1       bad\n",
       "2      good\n",
       "3      good\n",
       "4       bad\n",
       "       ... \n",
       "995    good\n",
       "996    good\n",
       "997    good\n",
       "998     bad\n",
       "999    good\n",
       "Name: Risk, Length: 1000, dtype: object"
      ]
     },
     "execution_count": 7,
     "metadata": {},
     "output_type": "execute_result"
    }
   ],
   "source": [
    "y"
   ]
  },
  {
   "cell_type": "code",
   "execution_count": 8,
   "metadata": {
    "ExecuteTime": {
     "end_time": "2022-06-03T21:45:34.616007Z",
     "start_time": "2022-06-03T21:45:34.298871Z"
    }
   },
   "outputs": [
    {
     "name": "stdout",
     "output_type": "stream",
     "text": [
      "<class 'pandas.core.frame.DataFrame'>\n",
      "Int64Index: 1000 entries, 0 to 999\n",
      "Data columns (total 4 columns):\n",
      " #   Column         Non-Null Count  Dtype\n",
      "---  ------         --------------  -----\n",
      " 0   Age            1000 non-null   int64\n",
      " 1   Job            1000 non-null   int64\n",
      " 2   Credit amount  1000 non-null   int64\n",
      " 3   Duration       1000 non-null   int64\n",
      "dtypes: int64(4)\n",
      "memory usage: 39.1 KB\n"
     ]
    }
   ],
   "source": [
    "X.info()"
   ]
  },
  {
   "cell_type": "markdown",
   "metadata": {},
   "source": [
    "Como o target está distribuído? Há desbalanço?"
   ]
  },
  {
   "cell_type": "code",
   "execution_count": 9,
   "metadata": {
    "ExecuteTime": {
     "end_time": "2022-06-03T21:45:34.819008Z",
     "start_time": "2022-06-03T21:45:34.627060Z"
    }
   },
   "outputs": [
    {
     "data": {
      "text/plain": [
       "array(['good', 'bad'], dtype=object)"
      ]
     },
     "execution_count": 9,
     "metadata": {},
     "output_type": "execute_result"
    }
   ],
   "source": [
    "y.unique()"
   ]
  },
  {
   "cell_type": "code",
   "execution_count": 10,
   "metadata": {
    "ExecuteTime": {
     "end_time": "2022-06-03T21:45:35.097355Z",
     "start_time": "2022-06-03T21:45:34.821006Z"
    }
   },
   "outputs": [
    {
     "data": {
      "text/plain": [
       "good    700\n",
       "bad     300\n",
       "Name: Risk, dtype: int64"
      ]
     },
     "execution_count": 10,
     "metadata": {},
     "output_type": "execute_result"
    }
   ],
   "source": [
    "y.value_counts()"
   ]
  },
  {
   "cell_type": "code",
   "execution_count": 11,
   "metadata": {
    "ExecuteTime": {
     "end_time": "2022-06-03T21:45:35.266259Z",
     "start_time": "2022-06-03T21:45:35.106352Z"
    }
   },
   "outputs": [
    {
     "data": {
      "text/plain": [
       "good    70.0\n",
       "bad     30.0\n",
       "Name: Risk, dtype: float64"
      ]
     },
     "execution_count": 11,
     "metadata": {},
     "output_type": "execute_result"
    }
   ],
   "source": [
    "y.value_counts(normalize=True)*100"
   ]
  },
  {
   "cell_type": "code",
   "execution_count": 12,
   "metadata": {
    "ExecuteTime": {
     "end_time": "2022-06-03T21:45:36.559532Z",
     "start_time": "2022-06-03T21:45:35.270259Z"
    }
   },
   "outputs": [
    {
     "data": {
      "image/png": "[encoded data removed]",
      "text/plain": [
       "<Figure size 432x288 with 1 Axes>"
      ]
     },
     "metadata": {
      "needs_background": "light"
     },
     "output_type": "display_data"
    }
   ],
   "source": [
    "sns.countplot(data=df, x=\"Risk\");"
   ]
  },
  {
   "cell_type": "markdown",
   "metadata": {},
   "source": [
    "Há um desbalanço considerável no target, mas, por enquanto, não vamos nos preocupar em endereçar isso na partida. Vamos apenas garantir que a proporção é mantida após o train-test split, quando formos fazê-lo\n"
   ]
  },
  {
   "cell_type": "code",
   "execution_count": 13,
   "metadata": {
    "ExecuteTime": {
     "end_time": "2022-06-03T21:45:36.992859Z",
     "start_time": "2022-06-03T21:45:36.565542Z"
    }
   },
   "outputs": [],
   "source": [
    "X_train, X_test, y_train, y_test = train_test_split(X, y, test_size=0.2, random_state=42, stratify=y)"
   ]
  },
  {
   "cell_type": "code",
   "execution_count": 14,
   "metadata": {
    "ExecuteTime": {
     "end_time": "2022-06-03T21:45:37.148280Z",
     "start_time": "2022-06-03T21:45:36.995859Z"
    }
   },
   "outputs": [
    {
     "data": {
      "text/plain": [
       "good    70.0\n",
       "bad     30.0\n",
       "Name: Risk, dtype: float64"
      ]
     },
     "execution_count": 14,
     "metadata": {},
     "output_type": "execute_result"
    }
   ],
   "source": [
    "y.value_counts(normalize=True)*100"
   ]
  },
  {
   "cell_type": "code",
   "execution_count": 15,
   "metadata": {
    "ExecuteTime": {
     "end_time": "2022-06-03T21:45:37.323157Z",
     "start_time": "2022-06-03T21:45:37.150278Z"
    }
   },
   "outputs": [
    {
     "data": {
      "text/plain": [
       "good    70.0\n",
       "bad     30.0\n",
       "Name: Risk, dtype: float64"
      ]
     },
     "execution_count": 15,
     "metadata": {},
     "output_type": "execute_result"
    }
   ],
   "source": [
    "y_train.value_counts(normalize=True)*100"
   ]
  },
  {
   "cell_type": "code",
   "execution_count": 16,
   "metadata": {
    "ExecuteTime": {
     "end_time": "2022-06-03T21:45:37.496061Z",
     "start_time": "2022-06-03T21:45:37.327159Z"
    }
   },
   "outputs": [
    {
     "data": {
      "text/plain": [
       "good    70.0\n",
       "bad     30.0\n",
       "Name: Risk, dtype: float64"
      ]
     },
     "execution_count": 16,
     "metadata": {},
     "output_type": "execute_result"
    }
   ],
   "source": [
    "y_test.value_counts(normalize=True)*100"
   ]
  },
  {
   "cell_type": "code",
   "execution_count": 17,
   "metadata": {
    "ExecuteTime": {
     "end_time": "2022-06-03T21:45:44.215792Z",
     "start_time": "2022-06-03T21:45:37.512050Z"
    }
   },
   "outputs": [
    {
     "data": {
      "image/png": "[encoded data removed]",
      "text/plain": [
       "<Figure size 780.75x720 with 20 Axes>"
      ]
     },
     "metadata": {
      "needs_background": "light"
     },
     "output_type": "display_data"
    }
   ],
   "source": [
    "sns.pairplot(data=pd.concat([X_train, y_train], axis=1), hue=\"Risk\");"
   ]
  },
  {
   "cell_type": "markdown",
   "metadata": {},
   "source": [
    "Vamos construir um classificador de árvore de decisão, cuja classe é a [DecisionTreeClassifier](https://scikit-learn.org/stable/modules/generated/sklearn.tree.DecisionTreeClassifier.html)"
   ]
  },
  {
   "cell_type": "code",
   "execution_count": 18,
   "metadata": {
    "ExecuteTime": {
     "end_time": "2022-06-03T21:45:44.448234Z",
     "start_time": "2022-06-03T21:45:44.251794Z"
    }
   },
   "outputs": [],
   "source": [
    "df = pd.read_csv(\"../datasets/german_credit_data.csv\", index_col=0)\n",
    "\n",
    "X = df.select_dtypes(include=np.number)\n",
    "y = df[\"Risk\"]\n",
    "\n",
    "X_train, X_test, y_train, y_test = train_test_split(X, y, test_size=0.2, random_state=42, stratify=y)"
   ]
  },
  {
   "cell_type": "markdown",
   "metadata": {},
   "source": [
    "### Só pra testar com o logit..."
   ]
  },
  {
   "cell_type": "code",
   "execution_count": 19,
   "metadata": {
    "ExecuteTime": {
     "end_time": "2022-06-03T21:45:44.649111Z",
     "start_time": "2022-06-03T21:45:44.450218Z"
    }
   },
   "outputs": [],
   "source": [
    "from sklearn.linear_model import LogisticRegression"
   ]
  },
  {
   "cell_type": "code",
   "execution_count": 20,
   "metadata": {
    "ExecuteTime": {
     "end_time": "2022-06-03T21:45:45.589589Z",
     "start_time": "2022-06-03T21:45:44.654110Z"
    },
    "scrolled": false
   },
   "outputs": [
    {
     "name": "stdout",
     "output_type": "stream",
     "text": [
      "Métricas de avaliação de treino - com cutoff = 0.50\n"
     ]
    },
    {
     "data": {
      "image/png": "[encoded data removed]",
      "text/plain": [
       "<Figure size 432x288 with 2 Axes>"
      ]
     },
     "metadata": {
      "needs_background": "light"
     },
     "output_type": "display_data"
    },
    {
     "name": "stdout",
     "output_type": "stream",
     "text": [
      "              precision    recall  f1-score   support\n",
      "\n",
      "         bad       0.60      0.12      0.20       240\n",
      "        good       0.72      0.97      0.82       560\n",
      "\n",
      "    accuracy                           0.71       800\n",
      "   macro avg       0.66      0.54      0.51       800\n",
      "weighted avg       0.68      0.71      0.64       800\n",
      "\n",
      "\n",
      "################################################################################\n",
      "\n",
      "Métricas de avaliação de teste - com cutoff = 0.50\n"
     ]
    },
    {
     "data": {
      "image/png": "[encoded data removed]",
      "text/plain": [
       "<Figure size 432x288 with 2 Axes>"
      ]
     },
     "metadata": {
      "needs_background": "light"
     },
     "output_type": "display_data"
    },
    {
     "name": "stdout",
     "output_type": "stream",
     "text": [
      "              precision    recall  f1-score   support\n",
      "\n",
      "         bad       0.36      0.07      0.11        60\n",
      "        good       0.70      0.95      0.81       140\n",
      "\n",
      "    accuracy                           0.69       200\n",
      "   macro avg       0.53      0.51      0.46       200\n",
      "weighted avg       0.60      0.69      0.60       200\n",
      "\n"
     ]
    }
   ],
   "source": [
    "lr = LogisticRegression().fit(X_train, y_train)\n",
    "\n",
    "_ = clf_metrics_train_test(lr, X_train, y_train, X_test, y_test, cutoff=0.5, \n",
    "                           print_plot=True, plot_conf_matrix=True, print_cr=True, pos_label=\"bad\")"
   ]
  },
  {
   "cell_type": "markdown",
   "metadata": {},
   "source": [
    "Agora, pra árvore:"
   ]
  },
  {
   "cell_type": "code",
   "execution_count": 21,
   "metadata": {
    "ExecuteTime": {
     "end_time": "2022-06-03T21:45:46.352517Z",
     "start_time": "2022-06-03T21:45:45.591572Z"
    }
   },
   "outputs": [],
   "source": [
    "from sklearn.tree import DecisionTreeClassifier"
   ]
  },
  {
   "cell_type": "code",
   "execution_count": 22,
   "metadata": {
    "ExecuteTime": {
     "end_time": "2022-06-03T21:45:46.633500Z",
     "start_time": "2022-06-03T21:45:46.357515Z"
    }
   },
   "outputs": [
    {
     "name": "stdout",
     "output_type": "stream",
     "text": [
      "Métricas de avaliação de treino - com cutoff = 0.50\n",
      "              precision    recall  f1-score   support\n",
      "\n",
      "         bad       1.00      1.00      1.00       240\n",
      "        good       1.00      1.00      1.00       560\n",
      "\n",
      "    accuracy                           1.00       800\n",
      "   macro avg       1.00      1.00      1.00       800\n",
      "weighted avg       1.00      1.00      1.00       800\n",
      "\n",
      "\n",
      "################################################################################\n",
      "\n",
      "Métricas de avaliação de teste - com cutoff = 0.50\n",
      "              precision    recall  f1-score   support\n",
      "\n",
      "         bad       0.34      0.37      0.35        60\n",
      "        good       0.72      0.69      0.71       140\n",
      "\n",
      "    accuracy                           0.59       200\n",
      "   macro avg       0.53      0.53      0.53       200\n",
      "weighted avg       0.60      0.59      0.60       200\n",
      "\n"
     ]
    }
   ],
   "source": [
    "dt = DecisionTreeClassifier(random_state=42).fit(X_train, y_train)\n",
    "\n",
    "_ = clf_metrics_train_test(dt, X_train, y_train, X_test, y_test, cutoff=0.5, \n",
    "                           print_plot=True, plot_conf_matrix=False, print_cr=True, pos_label=\"bad\")"
   ]
  },
  {
   "cell_type": "markdown",
   "metadata": {},
   "source": [
    "Temos um claro overfitting! \n",
    "\n",
    "Por que isso pode ter acontecido? Vamos discutir mais sobre isso adiante, mas o fato é que o método de árvore de decisão é um método notoriamente **propenso a overfitting**.\n",
    "\n",
    "Para entender o porquê, vamos dar uma olhada na árvore treinada!"
   ]
  },
  {
   "cell_type": "markdown",
   "metadata": {},
   "source": [
    "__Visualizando a árvore de decisão__\n",
    "\n",
    "É possível visualizar a árvore de decisão criada com o próprio sklearn!\n",
    "\n",
    "Para isso, basta usar a função `plot_tree()` do sub-módulo tree, conforme abaixo!\n",
    "\n",
    "Para mais detalhes sobre como plotar a árvore, [clique aqui](https://scikit-learn.org/stable/modules/tree.html#tree)"
   ]
  },
  {
   "cell_type": "code",
   "execution_count": 23,
   "metadata": {
    "ExecuteTime": {
     "end_time": "2022-06-03T21:45:46.820393Z",
     "start_time": "2022-06-03T21:45:46.643494Z"
    }
   },
   "outputs": [],
   "source": [
    "from sklearn.tree import plot_tree"
   ]
  },
  {
   "cell_type": "code",
   "execution_count": 24,
   "metadata": {
    "ExecuteTime": {
     "end_time": "2022-06-03T21:45:47.025278Z",
     "start_time": "2022-06-03T21:45:46.831391Z"
    }
   },
   "outputs": [
    {
     "data": {
      "text/plain": [
       "array(['Age', 'Job', 'Credit amount', 'Duration'], dtype=object)"
      ]
     },
     "execution_count": 24,
     "metadata": {},
     "output_type": "execute_result"
    }
   ],
   "source": [
    "dt.feature_names_in_"
   ]
  },
  {
   "cell_type": "code",
   "execution_count": 25,
   "metadata": {
    "ExecuteTime": {
     "end_time": "2022-06-03T21:45:47.257135Z",
     "start_time": "2022-06-03T21:45:47.034278Z"
    }
   },
   "outputs": [
    {
     "data": {
      "text/plain": [
       "Index(['Age', 'Job', 'Credit amount', 'Duration'], dtype='object')"
      ]
     },
     "execution_count": 25,
     "metadata": {},
     "output_type": "execute_result"
    }
   ],
   "source": [
    "X_train.columns"
   ]
  },
  {
   "cell_type": "markdown",
   "metadata": {},
   "source": [
    "Obs.: vou deixar os plots comentados pra não pesar no notebook. Quando quiser rodar, é só decomentar! ;)"
   ]
  },
  {
   "cell_type": "code",
   "execution_count": 26,
   "metadata": {
    "ExecuteTime": {
     "end_time": "2022-06-03T21:45:47.445346Z",
     "start_time": "2022-06-03T21:45:47.261134Z"
    }
   },
   "outputs": [],
   "source": [
    "# fig = plt.figure(figsize=(18, 18), dpi=300)\n",
    "\n",
    "# plot_tree(dt, feature_names=dt.feature_names_in_)\n",
    "\n",
    "# fig.savefig(\"arvore_overfitada.png\")"
   ]
  },
  {
   "cell_type": "markdown",
   "metadata": {},
   "source": [
    "Alguns métodos interessantes da árvore:"
   ]
  },
  {
   "cell_type": "code",
   "execution_count": 27,
   "metadata": {
    "ExecuteTime": {
     "end_time": "2022-06-03T21:45:47.614254Z",
     "start_time": "2022-06-03T21:45:47.448346Z"
    }
   },
   "outputs": [
    {
     "data": {
      "text/plain": [
       "524288"
      ]
     },
     "execution_count": 27,
     "metadata": {},
     "output_type": "execute_result"
    }
   ],
   "source": [
    "2**19"
   ]
  },
  {
   "cell_type": "code",
   "execution_count": 28,
   "metadata": {
    "ExecuteTime": {
     "end_time": "2022-06-03T21:45:47.833209Z",
     "start_time": "2022-06-03T21:45:47.623246Z"
    }
   },
   "outputs": [
    {
     "data": {
      "text/plain": [
       "19"
      ]
     },
     "execution_count": 28,
     "metadata": {},
     "output_type": "execute_result"
    }
   ],
   "source": [
    "dt.get_depth()"
   ]
  },
  {
   "cell_type": "code",
   "execution_count": 29,
   "metadata": {
    "ExecuteTime": {
     "end_time": "2022-06-03T21:45:48.021041Z",
     "start_time": "2022-06-03T21:45:47.838147Z"
    }
   },
   "outputs": [
    {
     "data": {
      "text/plain": [
       "233"
      ]
     },
     "execution_count": 29,
     "metadata": {},
     "output_type": "execute_result"
    }
   ],
   "source": [
    "dt.get_n_leaves()"
   ]
  },
  {
   "cell_type": "code",
   "execution_count": 30,
   "metadata": {
    "ExecuteTime": {
     "end_time": "2022-06-03T21:45:48.193904Z",
     "start_time": "2022-06-03T21:45:48.025040Z"
    }
   },
   "outputs": [
    {
     "data": {
      "text/plain": [
       "(800, 4)"
      ]
     },
     "execution_count": 30,
     "metadata": {},
     "output_type": "execute_result"
    }
   ],
   "source": [
    "X_train.shape"
   ]
  },
  {
   "cell_type": "markdown",
   "metadata": {},
   "source": [
    "Temos uma árvore **muito profunda**, o que implica em um **modelo muito complexo**.\n",
    "\n",
    "De fato, se imaginarmos a hipótese como uma função definida por partes, quanto mais quebras, mais partes, o que torna a hipótese mais complexa, e, portanto, mais propensa a overfitting!\n",
    "\n",
    "Uma visualização do que acontece com o espaço de features:\n",
    "\n",
    "<img src=https://paulvanderlaken.files.wordpress.com/2020/03/readme-titanic_plot-11.png width=500>"
   ]
  },
  {
   "cell_type": "markdown",
   "metadata": {},
   "source": [
    "### Regularização de uma árvore de decisão\n",
    "\n",
    "Temos alguns outros hiperparâmetros muito importantes para a árvore de decisão, sobretudo no que diz respeito à sua **regularização**: `max_depth`, `min_samples_split`, `min_samples_leaf`, `max_leaf_nodes`, `min_impurity_decrease`, `ccp_alpha`."
   ]
  },
  {
   "cell_type": "markdown",
   "metadata": {},
   "source": [
    "Vamos então treinar um modelo melhor?\n",
    "\n",
    "Vamos usar o que aprendemos na aula passada e já usar o Grid Search!"
   ]
  },
  {
   "cell_type": "markdown",
   "metadata": {},
   "source": [
    "_________________"
   ]
  },
  {
   "cell_type": "code",
   "execution_count": 42,
   "metadata": {
    "ExecuteTime": {
     "end_time": "2022-06-03T22:39:19.716737Z",
     "start_time": "2022-06-03T22:39:19.442894Z"
    }
   },
   "outputs": [
    {
     "data": {
      "text/plain": [
       "[2, 3, 4, 5, 6, 7, 8, 9, 10]"
      ]
     },
     "execution_count": 42,
     "metadata": {},
     "output_type": "execute_result"
    }
   ],
   "source": [
    "list(range(2, 11))"
   ]
  },
  {
   "cell_type": "code",
   "execution_count": 31,
   "metadata": {
    "ExecuteTime": {
     "end_time": "2022-06-03T21:45:58.902416Z",
     "start_time": "2022-06-03T21:45:48.199831Z"
    }
   },
   "outputs": [
    {
     "name": "stdout",
     "output_type": "stream",
     "text": [
      "Fitting 5 folds for each of 36 candidates, totalling 180 fits\n"
     ]
    },
    {
     "data": {
      "text/plain": [
       "GridSearchCV(cv=StratifiedKFold(n_splits=5, random_state=42, shuffle=True),\n",
       "             estimator=Pipeline(steps=[('dt',\n",
       "                                        DecisionTreeClassifier(random_state=42))]),\n",
       "             n_jobs=-1,\n",
       "             param_grid={'dt__criterion': ['gini', 'entropy'],\n",
       "                         'dt__max_depth': range(2, 11),\n",
       "                         'dt__splitter': ['best', 'random']},\n",
       "             return_train_score=True, scoring='f1_weighted', verbose=10)"
      ]
     },
     "execution_count": 31,
     "metadata": {},
     "output_type": "execute_result"
    }
   ],
   "source": [
    "pipe = Pipeline([(\"dt\", DecisionTreeClassifier(random_state=42))])\n",
    "\n",
    "param_grid_dt = {\"dt__criterion\" : [\"gini\", \"entropy\"],\n",
    "                 \"dt__splitter\" : [\"best\", \"random\"],\n",
    "                 \"dt__max_depth\" : range(2, 11)}\n",
    "\n",
    "splitter = StratifiedKFold(n_splits=5, shuffle=True, random_state=42)\n",
    "\n",
    "grid_dt = GridSearchCV(pipe,\n",
    "                       param_grid_dt,\n",
    "                       cv=splitter,\n",
    "                       scoring=\"f1_weighted\",\n",
    "                       verbose=10,\n",
    "                       n_jobs=-1,\n",
    "                       return_train_score=True)\n",
    "\n",
    "grid_dt.fit(X_train, y_train)"
   ]
  },
  {
   "cell_type": "code",
   "execution_count": 32,
   "metadata": {
    "ExecuteTime": {
     "end_time": "2022-06-03T21:45:59.137634Z",
     "start_time": "2022-06-03T21:45:58.915408Z"
    }
   },
   "outputs": [
    {
     "data": {
      "text/plain": [
       "{'dt__criterion': 'entropy', 'dt__max_depth': 8, 'dt__splitter': 'random'}"
      ]
     },
     "execution_count": 32,
     "metadata": {},
     "output_type": "execute_result"
    }
   ],
   "source": [
    "grid_dt.best_params_"
   ]
  },
  {
   "cell_type": "code",
   "execution_count": 33,
   "metadata": {
    "ExecuteTime": {
     "end_time": "2022-06-03T21:45:59.417767Z",
     "start_time": "2022-06-03T21:45:59.143629Z"
    }
   },
   "outputs": [
    {
     "name": "stdout",
     "output_type": "stream",
     "text": [
      "Métricas de avaliação de treino - com cutoff = 0.50\n",
      "              precision    recall  f1-score   support\n",
      "\n",
      "         bad       0.73      0.37      0.49       240\n",
      "        good       0.78      0.94      0.85       560\n",
      "\n",
      "    accuracy                           0.77       800\n",
      "   macro avg       0.75      0.65      0.67       800\n",
      "weighted avg       0.76      0.77      0.74       800\n",
      "\n",
      "\n",
      "################################################################################\n",
      "\n",
      "Métricas de avaliação de teste - com cutoff = 0.50\n",
      "              precision    recall  f1-score   support\n",
      "\n",
      "         bad       0.52      0.23      0.32        60\n",
      "        good       0.73      0.91      0.81       140\n",
      "\n",
      "    accuracy                           0.70       200\n",
      "   macro avg       0.63      0.57      0.57       200\n",
      "weighted avg       0.67      0.70      0.66       200\n",
      "\n"
     ]
    }
   ],
   "source": [
    "_ = clf_metrics_train_test(grid_dt, X_train, y_train, X_test, y_test, cutoff=0.5, \n",
    "                           print_plot=True, plot_conf_matrix=False, print_cr=True, pos_label=\"bad\")"
   ]
  },
  {
   "cell_type": "markdown",
   "metadata": {},
   "source": [
    "Muito melhor, não é mesmo? E longe de estar overfitado!\n",
    "\n",
    "Veja como o modelo agora está bem mais simples:"
   ]
  },
  {
   "cell_type": "code",
   "execution_count": 34,
   "metadata": {
    "ExecuteTime": {
     "end_time": "2022-06-03T21:45:59.591665Z",
     "start_time": "2022-06-03T21:45:59.421762Z"
    }
   },
   "outputs": [
    {
     "data": {
      "text/plain": [
       "DecisionTreeClassifier(criterion='entropy', max_depth=8, random_state=42,\n",
       "                       splitter='random')"
      ]
     },
     "execution_count": 34,
     "metadata": {},
     "output_type": "execute_result"
    }
   ],
   "source": [
    "grid_dt.best_estimator_[\"dt\"]"
   ]
  },
  {
   "cell_type": "code",
   "execution_count": 35,
   "metadata": {
    "ExecuteTime": {
     "end_time": "2022-06-03T21:45:59.780769Z",
     "start_time": "2022-06-03T21:45:59.595710Z"
    }
   },
   "outputs": [
    {
     "data": {
      "text/plain": [
       "array(['Age', 'Job', 'Credit amount', 'Duration'], dtype=object)"
      ]
     },
     "execution_count": 35,
     "metadata": {},
     "output_type": "execute_result"
    }
   ],
   "source": [
    "grid_dt.best_estimator_[\"dt\"].feature_names_in_"
   ]
  },
  {
   "cell_type": "code",
   "execution_count": 36,
   "metadata": {
    "ExecuteTime": {
     "end_time": "2022-06-03T21:45:59.966578Z",
     "start_time": "2022-06-03T21:45:59.788771Z"
    },
    "scrolled": true
   },
   "outputs": [],
   "source": [
    "# fig = plt.figure(figsize=(12, 12), dpi=300)\n",
    "\n",
    "# plot_tree(grid_dt.best_estimator_[\"dt\"], feature_names=grid_dt.best_estimator_[\"dt\"].feature_names_in_)\n",
    "\n",
    "# fig.savefig(\"arvore_nao_tao_overfitada.png\")"
   ]
  },
  {
   "cell_type": "code",
   "execution_count": 37,
   "metadata": {
    "ExecuteTime": {
     "end_time": "2022-06-03T21:46:00.246862Z",
     "start_time": "2022-06-03T21:45:59.970497Z"
    }
   },
   "outputs": [
    {
     "data": {
      "text/plain": [
       "8"
      ]
     },
     "execution_count": 37,
     "metadata": {},
     "output_type": "execute_result"
    }
   ],
   "source": [
    "grid_dt.best_estimator_[\"dt\"].get_depth()"
   ]
  },
  {
   "cell_type": "code",
   "execution_count": 38,
   "metadata": {
    "ExecuteTime": {
     "end_time": "2022-06-03T21:46:00.493156Z",
     "start_time": "2022-06-03T21:46:00.252858Z"
    }
   },
   "outputs": [
    {
     "data": {
      "text/plain": [
       "87"
      ]
     },
     "execution_count": 38,
     "metadata": {},
     "output_type": "execute_result"
    }
   ],
   "source": [
    "grid_dt.best_estimator_[\"dt\"].get_n_leaves()"
   ]
  },
  {
   "cell_type": "markdown",
   "metadata": {},
   "source": [
    "Usando nossa função pra determinação dos melhores hiperparâmetros, comparando as métricas de validação com o treino também:"
   ]
  },
  {
   "cell_type": "code",
   "execution_count": 39,
   "metadata": {
    "ExecuteTime": {
     "end_time": "2022-06-03T21:46:00.806964Z",
     "start_time": "2022-06-03T21:46:00.495140Z"
    },
    "scrolled": true
   },
   "outputs": [
    {
     "data": {
      "text/html": [
       "<div>\n",
       "<style scoped>\n",
       "    .dataframe tbody tr th:only-of-type {\n",
       "        vertical-align: middle;\n",
       "    }\n",
       "\n",
       "    .dataframe tbody tr th {\n",
       "        vertical-align: top;\n",
       "    }\n",
       "\n",
       "    .dataframe thead th {\n",
       "        text-align: right;\n",
       "    }\n",
       "</style>\n",
       "<table border=\"1\" class=\"dataframe\">\n",
       "  <thead>\n",
       "    <tr style=\"text-align: right;\">\n",
       "      <th></th>\n",
       "      <th>mean_train_score</th>\n",
       "      <th>mean_test_score</th>\n",
       "      <th>delta</th>\n",
       "      <th>mean_train_score_norm</th>\n",
       "      <th>mean_test_score_norm</th>\n",
       "      <th>delta_norm</th>\n",
       "      <th>metrica_criterio_final</th>\n",
       "    </tr>\n",
       "  </thead>\n",
       "  <tbody>\n",
       "    <tr>\n",
       "      <th>6</th>\n",
       "      <td>0.730665</td>\n",
       "      <td>0.670889</td>\n",
       "      <td>0.059775</td>\n",
       "      <td>0.479387</td>\n",
       "      <td>0.856318</td>\n",
       "      <td>0.286204</td>\n",
       "      <td>0.785057</td>\n",
       "    </tr>\n",
       "    <tr>\n",
       "      <th>24</th>\n",
       "      <td>0.720903</td>\n",
       "      <td>0.667474</td>\n",
       "      <td>0.053429</td>\n",
       "      <td>0.450843</td>\n",
       "      <td>0.824577</td>\n",
       "      <td>0.261773</td>\n",
       "      <td>0.781402</td>\n",
       "    </tr>\n",
       "    <tr>\n",
       "      <th>31</th>\n",
       "      <td>0.752848</td>\n",
       "      <td>0.675589</td>\n",
       "      <td>0.077259</td>\n",
       "      <td>0.544254</td>\n",
       "      <td>0.900000</td>\n",
       "      <td>0.353507</td>\n",
       "      <td>0.773246</td>\n",
       "    </tr>\n",
       "    <tr>\n",
       "      <th>22</th>\n",
       "      <td>0.700067</td>\n",
       "      <td>0.658293</td>\n",
       "      <td>0.041774</td>\n",
       "      <td>0.389916</td>\n",
       "      <td>0.739240</td>\n",
       "      <td>0.216909</td>\n",
       "      <td>0.761166</td>\n",
       "    </tr>\n",
       "    <tr>\n",
       "      <th>23</th>\n",
       "      <td>0.657552</td>\n",
       "      <td>0.638290</td>\n",
       "      <td>0.019261</td>\n",
       "      <td>0.265594</td>\n",
       "      <td>0.553325</td>\n",
       "      <td>0.130245</td>\n",
       "      <td>0.711540</td>\n",
       "    </tr>\n",
       "    <tr>\n",
       "      <th>21</th>\n",
       "      <td>0.656388</td>\n",
       "      <td>0.636483</td>\n",
       "      <td>0.019905</td>\n",
       "      <td>0.262192</td>\n",
       "      <td>0.536528</td>\n",
       "      <td>0.132722</td>\n",
       "      <td>0.701903</td>\n",
       "    </tr>\n",
       "    <tr>\n",
       "      <th>4</th>\n",
       "      <td>0.703169</td>\n",
       "      <td>0.645422</td>\n",
       "      <td>0.057747</td>\n",
       "      <td>0.398985</td>\n",
       "      <td>0.619613</td>\n",
       "      <td>0.278395</td>\n",
       "      <td>0.670609</td>\n",
       "    </tr>\n",
       "    <tr>\n",
       "      <th>18</th>\n",
       "      <td>0.660309</td>\n",
       "      <td>0.632365</td>\n",
       "      <td>0.027944</td>\n",
       "      <td>0.273655</td>\n",
       "      <td>0.498248</td>\n",
       "      <td>0.163668</td>\n",
       "      <td>0.667290</td>\n",
       "    </tr>\n",
       "    <tr>\n",
       "      <th>0</th>\n",
       "      <td>0.661188</td>\n",
       "      <td>0.632365</td>\n",
       "      <td>0.028823</td>\n",
       "      <td>0.276227</td>\n",
       "      <td>0.498248</td>\n",
       "      <td>0.167053</td>\n",
       "      <td>0.665598</td>\n",
       "    </tr>\n",
       "    <tr>\n",
       "      <th>10</th>\n",
       "      <td>0.787974</td>\n",
       "      <td>0.668149</td>\n",
       "      <td>0.119825</td>\n",
       "      <td>0.646969</td>\n",
       "      <td>0.830850</td>\n",
       "      <td>0.517368</td>\n",
       "      <td>0.656741</td>\n",
       "    </tr>\n",
       "    <tr>\n",
       "      <th>5</th>\n",
       "      <td>0.661843</td>\n",
       "      <td>0.629687</td>\n",
       "      <td>0.032156</td>\n",
       "      <td>0.278141</td>\n",
       "      <td>0.473360</td>\n",
       "      <td>0.179881</td>\n",
       "      <td>0.646739</td>\n",
       "    </tr>\n",
       "    <tr>\n",
       "      <th>3</th>\n",
       "      <td>0.645499</td>\n",
       "      <td>0.624474</td>\n",
       "      <td>0.021025</td>\n",
       "      <td>0.230351</td>\n",
       "      <td>0.424910</td>\n",
       "      <td>0.137034</td>\n",
       "      <td>0.643938</td>\n",
       "    </tr>\n",
       "    <tr>\n",
       "      <th>20</th>\n",
       "      <td>0.673717</td>\n",
       "      <td>0.632463</td>\n",
       "      <td>0.041254</td>\n",
       "      <td>0.312864</td>\n",
       "      <td>0.499158</td>\n",
       "      <td>0.214907</td>\n",
       "      <td>0.642125</td>\n",
       "    </tr>\n",
       "    <tr>\n",
       "      <th>8</th>\n",
       "      <td>0.752855</td>\n",
       "      <td>0.655081</td>\n",
       "      <td>0.097774</td>\n",
       "      <td>0.544274</td>\n",
       "      <td>0.709383</td>\n",
       "      <td>0.432481</td>\n",
       "      <td>0.638451</td>\n",
       "    </tr>\n",
       "    <tr>\n",
       "      <th>2</th>\n",
       "      <td>0.677186</td>\n",
       "      <td>0.631682</td>\n",
       "      <td>0.045504</td>\n",
       "      <td>0.323008</td>\n",
       "      <td>0.491907</td>\n",
       "      <td>0.231265</td>\n",
       "      <td>0.630321</td>\n",
       "    </tr>\n",
       "    <tr>\n",
       "      <th>26</th>\n",
       "      <td>0.740174</td>\n",
       "      <td>0.649736</td>\n",
       "      <td>0.090438</td>\n",
       "      <td>0.507194</td>\n",
       "      <td>0.659706</td>\n",
       "      <td>0.404242</td>\n",
       "      <td>0.627732</td>\n",
       "    </tr>\n",
       "    <tr>\n",
       "      <th>11</th>\n",
       "      <td>0.743688</td>\n",
       "      <td>0.648901</td>\n",
       "      <td>0.094787</td>\n",
       "      <td>0.517469</td>\n",
       "      <td>0.651942</td>\n",
       "      <td>0.420984</td>\n",
       "      <td>0.615479</td>\n",
       "    </tr>\n",
       "    <tr>\n",
       "      <th>28</th>\n",
       "      <td>0.781027</td>\n",
       "      <td>0.659189</td>\n",
       "      <td>0.121838</td>\n",
       "      <td>0.626654</td>\n",
       "      <td>0.747566</td>\n",
       "      <td>0.525117</td>\n",
       "      <td>0.611225</td>\n",
       "    </tr>\n",
       "    <tr>\n",
       "      <th>13</th>\n",
       "      <td>0.775533</td>\n",
       "      <td>0.648306</td>\n",
       "      <td>0.127227</td>\n",
       "      <td>0.610588</td>\n",
       "      <td>0.646416</td>\n",
       "      <td>0.545860</td>\n",
       "      <td>0.550278</td>\n",
       "    </tr>\n",
       "    <tr>\n",
       "      <th>29</th>\n",
       "      <td>0.729501</td>\n",
       "      <td>0.632491</td>\n",
       "      <td>0.097010</td>\n",
       "      <td>0.475984</td>\n",
       "      <td>0.499425</td>\n",
       "      <td>0.429538</td>\n",
       "      <td>0.534943</td>\n",
       "    </tr>\n",
       "    <tr>\n",
       "      <th>25</th>\n",
       "      <td>0.655708</td>\n",
       "      <td>0.609474</td>\n",
       "      <td>0.046234</td>\n",
       "      <td>0.260203</td>\n",
       "      <td>0.285492</td>\n",
       "      <td>0.234076</td>\n",
       "      <td>0.525708</td>\n",
       "    </tr>\n",
       "    <tr>\n",
       "      <th>27</th>\n",
       "      <td>0.703387</td>\n",
       "      <td>0.622157</td>\n",
       "      <td>0.081230</td>\n",
       "      <td>0.399624</td>\n",
       "      <td>0.403375</td>\n",
       "      <td>0.368794</td>\n",
       "      <td>0.517290</td>\n",
       "    </tr>\n",
       "    <tr>\n",
       "      <th>12</th>\n",
       "      <td>0.822353</td>\n",
       "      <td>0.654401</td>\n",
       "      <td>0.167952</td>\n",
       "      <td>0.747497</td>\n",
       "      <td>0.703069</td>\n",
       "      <td>0.702631</td>\n",
       "      <td>0.500219</td>\n",
       "    </tr>\n",
       "    <tr>\n",
       "      <th>19</th>\n",
       "      <td>0.600922</td>\n",
       "      <td>0.589517</td>\n",
       "      <td>0.011405</td>\n",
       "      <td>0.100000</td>\n",
       "      <td>0.100000</td>\n",
       "      <td>0.100000</td>\n",
       "      <td>0.500000</td>\n",
       "    </tr>\n",
       "    <tr>\n",
       "      <th>1</th>\n",
       "      <td>0.603772</td>\n",
       "      <td>0.589517</td>\n",
       "      <td>0.014255</td>\n",
       "      <td>0.108335</td>\n",
       "      <td>0.100000</td>\n",
       "      <td>0.110973</td>\n",
       "      <td>0.494514</td>\n",
       "    </tr>\n",
       "    <tr>\n",
       "      <th>14</th>\n",
       "      <td>0.852009</td>\n",
       "      <td>0.659780</td>\n",
       "      <td>0.192229</td>\n",
       "      <td>0.834214</td>\n",
       "      <td>0.753060</td>\n",
       "      <td>0.796087</td>\n",
       "      <td>0.478486</td>\n",
       "    </tr>\n",
       "    <tr>\n",
       "      <th>30</th>\n",
       "      <td>0.805958</td>\n",
       "      <td>0.645763</td>\n",
       "      <td>0.160195</td>\n",
       "      <td>0.699556</td>\n",
       "      <td>0.622775</td>\n",
       "      <td>0.672774</td>\n",
       "      <td>0.475000</td>\n",
       "    </tr>\n",
       "    <tr>\n",
       "      <th>7</th>\n",
       "      <td>0.662570</td>\n",
       "      <td>0.601111</td>\n",
       "      <td>0.061459</td>\n",
       "      <td>0.280268</td>\n",
       "      <td>0.207754</td>\n",
       "      <td>0.292687</td>\n",
       "      <td>0.457533</td>\n",
       "    </tr>\n",
       "    <tr>\n",
       "      <th>34</th>\n",
       "      <td>0.863227</td>\n",
       "      <td>0.659622</td>\n",
       "      <td>0.203605</td>\n",
       "      <td>0.867018</td>\n",
       "      <td>0.751591</td>\n",
       "      <td>0.839880</td>\n",
       "      <td>0.455855</td>\n",
       "    </tr>\n",
       "    <tr>\n",
       "      <th>17</th>\n",
       "      <td>0.817229</td>\n",
       "      <td>0.643468</td>\n",
       "      <td>0.173761</td>\n",
       "      <td>0.732513</td>\n",
       "      <td>0.601446</td>\n",
       "      <td>0.724995</td>\n",
       "      <td>0.438226</td>\n",
       "    </tr>\n",
       "    <tr>\n",
       "      <th>9</th>\n",
       "      <td>0.693666</td>\n",
       "      <td>0.606406</td>\n",
       "      <td>0.087260</td>\n",
       "      <td>0.371199</td>\n",
       "      <td>0.256975</td>\n",
       "      <td>0.392008</td>\n",
       "      <td>0.432483</td>\n",
       "    </tr>\n",
       "    <tr>\n",
       "      <th>33</th>\n",
       "      <td>0.792505</td>\n",
       "      <td>0.632271</td>\n",
       "      <td>0.160234</td>\n",
       "      <td>0.660218</td>\n",
       "      <td>0.497376</td>\n",
       "      <td>0.672924</td>\n",
       "      <td>0.412226</td>\n",
       "    </tr>\n",
       "    <tr>\n",
       "      <th>16</th>\n",
       "      <td>0.874506</td>\n",
       "      <td>0.655284</td>\n",
       "      <td>0.219222</td>\n",
       "      <td>0.900000</td>\n",
       "      <td>0.711268</td>\n",
       "      <td>0.900000</td>\n",
       "      <td>0.405634</td>\n",
       "    </tr>\n",
       "    <tr>\n",
       "      <th>32</th>\n",
       "      <td>0.844391</td>\n",
       "      <td>0.644630</td>\n",
       "      <td>0.199761</td>\n",
       "      <td>0.811940</td>\n",
       "      <td>0.612250</td>\n",
       "      <td>0.825083</td>\n",
       "      <td>0.393584</td>\n",
       "    </tr>\n",
       "    <tr>\n",
       "      <th>35</th>\n",
       "      <td>0.811926</td>\n",
       "      <td>0.633870</td>\n",
       "      <td>0.178056</td>\n",
       "      <td>0.717007</td>\n",
       "      <td>0.512242</td>\n",
       "      <td>0.741528</td>\n",
       "      <td>0.385357</td>\n",
       "    </tr>\n",
       "    <tr>\n",
       "      <th>15</th>\n",
       "      <td>0.805380</td>\n",
       "      <td>0.629570</td>\n",
       "      <td>0.175810</td>\n",
       "      <td>0.697866</td>\n",
       "      <td>0.472271</td>\n",
       "      <td>0.732884</td>\n",
       "      <td>0.369693</td>\n",
       "    </tr>\n",
       "  </tbody>\n",
       "</table>\n",
       "</div>"
      ],
      "text/plain": [
       "    mean_train_score  mean_test_score     delta  mean_train_score_norm  \\\n",
       "6           0.730665         0.670889  0.059775               0.479387   \n",
       "24          0.720903         0.667474  0.053429               0.450843   \n",
       "31          0.752848         0.675589  0.077259               0.544254   \n",
       "22          0.700067         0.658293  0.041774               0.389916   \n",
       "23          0.657552         0.638290  0.019261               0.265594   \n",
       "21          0.656388         0.636483  0.019905               0.262192   \n",
       "4           0.703169         0.645422  0.057747               0.398985   \n",
       "18          0.660309         0.632365  0.027944               0.273655   \n",
       "0           0.661188         0.632365  0.028823               0.276227   \n",
       "10          0.787974         0.668149  0.119825               0.646969   \n",
       "5           0.661843         0.629687  0.032156               0.278141   \n",
       "3           0.645499         0.624474  0.021025               0.230351   \n",
       "20          0.673717         0.632463  0.041254               0.312864   \n",
       "8           0.752855         0.655081  0.097774               0.544274   \n",
       "2           0.677186         0.631682  0.045504               0.323008   \n",
       "26          0.740174         0.649736  0.090438               0.507194   \n",
       "11          0.743688         0.648901  0.094787               0.517469   \n",
       "28          0.781027         0.659189  0.121838               0.626654   \n",
       "13          0.775533         0.648306  0.127227               0.610588   \n",
       "29          0.729501         0.632491  0.097010               0.475984   \n",
       "25          0.655708         0.609474  0.046234               0.260203   \n",
       "27          0.703387         0.622157  0.081230               0.399624   \n",
       "12          0.822353         0.654401  0.167952               0.747497   \n",
       "19          0.600922         0.589517  0.011405               0.100000   \n",
       "1           0.603772         0.589517  0.014255               0.108335   \n",
       "14          0.852009         0.659780  0.192229               0.834214   \n",
       "30          0.805958         0.645763  0.160195               0.699556   \n",
       "7           0.662570         0.601111  0.061459               0.280268   \n",
       "34          0.863227         0.659622  0.203605               0.867018   \n",
       "17          0.817229         0.643468  0.173761               0.732513   \n",
       "9           0.693666         0.606406  0.087260               0.371199   \n",
       "33          0.792505         0.632271  0.160234               0.660218   \n",
       "16          0.874506         0.655284  0.219222               0.900000   \n",
       "32          0.844391         0.644630  0.199761               0.811940   \n",
       "35          0.811926         0.633870  0.178056               0.717007   \n",
       "15          0.805380         0.629570  0.175810               0.697866   \n",
       "\n",
       "    mean_test_score_norm  delta_norm  metrica_criterio_final  \n",
       "6               0.856318    0.286204                0.785057  \n",
       "24              0.824577    0.261773                0.781402  \n",
       "31              0.900000    0.353507                0.773246  \n",
       "22              0.739240    0.216909                0.761166  \n",
       "23              0.553325    0.130245                0.711540  \n",
       "21              0.536528    0.132722                0.701903  \n",
       "4               0.619613    0.278395                0.670609  \n",
       "18              0.498248    0.163668                0.667290  \n",
       "0               0.498248    0.167053                0.665598  \n",
       "10              0.830850    0.517368                0.656741  \n",
       "5               0.473360    0.179881                0.646739  \n",
       "3               0.424910    0.137034                0.643938  \n",
       "20              0.499158    0.214907                0.642125  \n",
       "8               0.709383    0.432481                0.638451  \n",
       "2               0.491907    0.231265                0.630321  \n",
       "26              0.659706    0.404242                0.627732  \n",
       "11              0.651942    0.420984                0.615479  \n",
       "28              0.747566    0.525117                0.611225  \n",
       "13              0.646416    0.545860                0.550278  \n",
       "29              0.499425    0.429538                0.534943  \n",
       "25              0.285492    0.234076                0.525708  \n",
       "27              0.403375    0.368794                0.517290  \n",
       "12              0.703069    0.702631                0.500219  \n",
       "19              0.100000    0.100000                0.500000  \n",
       "1               0.100000    0.110973                0.494514  \n",
       "14              0.753060    0.796087                0.478486  \n",
       "30              0.622775    0.672774                0.475000  \n",
       "7               0.207754    0.292687                0.457533  \n",
       "34              0.751591    0.839880                0.455855  \n",
       "17              0.601446    0.724995                0.438226  \n",
       "9               0.256975    0.392008                0.432483  \n",
       "33              0.497376    0.672924                0.412226  \n",
       "16              0.711268    0.900000                0.405634  \n",
       "32              0.612250    0.825083                0.393584  \n",
       "35              0.512242    0.741528                0.385357  \n",
       "15              0.472271    0.732884                0.369693  "
      ]
     },
     "metadata": {},
     "output_type": "display_data"
    }
   ],
   "source": [
    "best_params_delta = calc_best_params_delta(grid_dt, peso_delta=0.5, print_deltas=True)"
   ]
  },
  {
   "cell_type": "code",
   "execution_count": 40,
   "metadata": {
    "ExecuteTime": {
     "end_time": "2022-06-03T21:46:01.026349Z",
     "start_time": "2022-06-03T21:46:00.810961Z"
    }
   },
   "outputs": [
    {
     "data": {
      "text/plain": [
       "{'dt__criterion': 'gini', 'dt__max_depth': 5, 'dt__splitter': 'best'}"
      ]
     },
     "execution_count": 40,
     "metadata": {},
     "output_type": "execute_result"
    }
   ],
   "source": [
    "best_params_delta"
   ]
  },
  {
   "cell_type": "code",
   "execution_count": 41,
   "metadata": {
    "ExecuteTime": {
     "end_time": "2022-06-03T21:46:01.385156Z",
     "start_time": "2022-06-03T21:46:01.058328Z"
    }
   },
   "outputs": [
    {
     "name": "stdout",
     "output_type": "stream",
     "text": [
      "Métricas de avaliação de treino - com cutoff = 0.50\n",
      "              precision    recall  f1-score   support\n",
      "\n",
      "         bad       0.81      0.24      0.37       240\n",
      "        good       0.75      0.97      0.85       560\n",
      "\n",
      "    accuracy                           0.76       800\n",
      "   macro avg       0.78      0.61      0.61       800\n",
      "weighted avg       0.77      0.76      0.71       800\n",
      "\n",
      "\n",
      "################################################################################\n",
      "\n",
      "Métricas de avaliação de teste - com cutoff = 0.50\n",
      "              precision    recall  f1-score   support\n",
      "\n",
      "         bad       0.52      0.22      0.31        60\n",
      "        good       0.73      0.91      0.81       140\n",
      "\n",
      "    accuracy                           0.70       200\n",
      "   macro avg       0.63      0.57      0.56       200\n",
      "weighted avg       0.67      0.70      0.66       200\n",
      "\n"
     ]
    }
   ],
   "source": [
    "pipe_best_delta = Pipeline([(\"dt\", DecisionTreeClassifier(random_state=42))]).set_params(**best_params_delta) \n",
    "\n",
    "pipe_best_delta.fit(X_train, y_train)\n",
    "\n",
    "_ = clf_metrics_train_test(pipe_best_delta, X_train, y_train, X_test, y_test, cutoff=0.5, \n",
    "                           print_plot=True, plot_conf_matrix=False, print_cr=True, pos_label=\"bad\")"
   ]
  },
  {
   "cell_type": "markdown",
   "metadata": {},
   "source": [
    "De fato, este modelo está com um gap menor entre as métricas de treino e teste, muito legal, não é mesmo?"
   ]
  },
  {
   "cell_type": "markdown",
   "metadata": {},
   "source": [
    "_________"
   ]
  },
  {
   "cell_type": "markdown",
   "metadata": {},
   "source": [
    "## 2) Random Search"
   ]
  },
  {
   "cell_type": "markdown",
   "metadata": {},
   "source": [
    "Uma outra forma de buscar por hiperparâmetros é através **de uma busca aleatória**, o que pode ser feito através do [RandomizedSearchCV](https://scikit-learn.org/stable/modules/generated/sklearn.model_selection.RandomizedSearchCV.html)\n",
    "\n",
    "<img src=\"https://www.yourdatateacher.com/wp-content/uploads/2021/03/image-7.png\" width=400>\n",
    "\n",
    "A diferença entre este buscador e o GridSearch, é que neste caso não explicitamos a lista com os valores dos hiperparâmetros a serem combinados, mas passamos **os valores possíveis dos hiperparâmetros, que são amostrados aleatoriamente de modo a gerar combinações aleatórias!** \n",
    "\n",
    "Aí, ao invés de tentarmos todas as combinações possíveis, testamos apenas **um número determinado de combinações aleatoriamente amostradas das distribuições!**"
   ]
  },
  {
   "cell_type": "markdown",
   "metadata": {},
   "source": [
    "<img src=https://miro.medium.com/max/1004/0*yDmmJmvRowl0cSN8.png width=700>\n",
    "\n",
    "Para mais informações sobre este método, [clique aqui!](https://scikit-learn.org/stable/modules/grid_search.html#randomized-parameter-search).\n",
    "\n",
    "[Veja aqui](https://scikit-learn.org/stable/auto_examples/model_selection/plot_randomized_search.html) uma comparação entre os dois métodos.\n",
    "\n",
    "Em algumas situações, pode ser que a busca aleatória seja mais eficiente que o grid search, dado seu caráter aleatório!"
   ]
  },
  {
   "cell_type": "code",
   "execution_count": 46,
   "metadata": {
    "ExecuteTime": {
     "end_time": "2022-06-03T22:55:48.944421Z",
     "start_time": "2022-06-03T22:55:48.674573Z"
    }
   },
   "outputs": [
    {
     "data": {
      "text/plain": [
       "array([0.        , 0.00050505, 0.0010101 , 0.00151515, 0.0020202 ,\n",
       "       0.00252525, 0.0030303 , 0.00353535, 0.0040404 , 0.00454545,\n",
       "       0.00505051, 0.00555556, 0.00606061, 0.00656566, 0.00707071,\n",
       "       0.00757576, 0.00808081, 0.00858586, 0.00909091, 0.00959596,\n",
       "       0.01010101, 0.01060606, 0.01111111, 0.01161616, 0.01212121,\n",
       "       0.01262626, 0.01313131, 0.01363636, 0.01414141, 0.01464646,\n",
       "       0.01515152, 0.01565657, 0.01616162, 0.01666667, 0.01717172,\n",
       "       0.01767677, 0.01818182, 0.01868687, 0.01919192, 0.01969697,\n",
       "       0.02020202, 0.02070707, 0.02121212, 0.02171717, 0.02222222,\n",
       "       0.02272727, 0.02323232, 0.02373737, 0.02424242, 0.02474747,\n",
       "       0.02525253, 0.02575758, 0.02626263, 0.02676768, 0.02727273,\n",
       "       0.02777778, 0.02828283, 0.02878788, 0.02929293, 0.02979798,\n",
       "       0.03030303, 0.03080808, 0.03131313, 0.03181818, 0.03232323,\n",
       "       0.03282828, 0.03333333, 0.03383838, 0.03434343, 0.03484848,\n",
       "       0.03535354, 0.03585859, 0.03636364, 0.03686869, 0.03737374,\n",
       "       0.03787879, 0.03838384, 0.03888889, 0.03939394, 0.03989899,\n",
       "       0.04040404, 0.04090909, 0.04141414, 0.04191919, 0.04242424,\n",
       "       0.04292929, 0.04343434, 0.04393939, 0.04444444, 0.04494949,\n",
       "       0.04545455, 0.0459596 , 0.04646465, 0.0469697 , 0.04747475,\n",
       "       0.0479798 , 0.04848485, 0.0489899 , 0.04949495, 0.05      ])"
      ]
     },
     "execution_count": 46,
     "metadata": {},
     "output_type": "execute_result"
    }
   ],
   "source": [
    "np.linspace(0, 0.05, 100)"
   ]
  },
  {
   "cell_type": "code",
   "execution_count": 48,
   "metadata": {
    "ExecuteTime": {
     "end_time": "2022-06-03T22:58:00.461391Z",
     "start_time": "2022-06-03T22:58:00.260509Z"
    }
   },
   "outputs": [
    {
     "data": {
      "text/plain": [
       "<scipy.stats._distn_infrastructure.rv_frozen at 0x24c5d708580>"
      ]
     },
     "execution_count": 48,
     "metadata": {},
     "output_type": "execute_result"
    }
   ],
   "source": [
    "import scipy\n",
    "\n",
    "# distribuição uniforme sobre o espaço amostral [0, 0.05]\n",
    "scipy.stats.uniform(0, 0.05)"
   ]
  },
  {
   "cell_type": "code",
   "execution_count": 57,
   "metadata": {
    "ExecuteTime": {
     "end_time": "2022-06-03T23:04:57.506426Z",
     "start_time": "2022-06-03T23:04:49.476756Z"
    }
   },
   "outputs": [
    {
     "name": "stdout",
     "output_type": "stream",
     "text": [
      "Fitting 5 folds for each of 100 candidates, totalling 500 fits\n"
     ]
    },
    {
     "data": {
      "text/plain": [
       "RandomizedSearchCV(cv=StratifiedKFold(n_splits=5, random_state=42, shuffle=True),\n",
       "                   estimator=Pipeline(steps=[('dt',\n",
       "                                              DecisionTreeClassifier(random_state=42))]),\n",
       "                   n_iter=100, n_jobs=-1,\n",
       "                   param_distributions={'dt__criterion': ['gini', 'entropy'],\n",
       "                                        'dt__max_depth': range(2, 11),\n",
       "                                        'dt__min_impurity_decrease': <scipy.stats._distn_infrastructure.rv_frozen object at 0x0000024C5A48B6D0>,\n",
       "                                        'dt__splitter': ['best', 'random']},\n",
       "                   random_state=42, return_train_score=True,\n",
       "                   scoring='f1_weighted', verbose=10)"
      ]
     },
     "execution_count": 57,
     "metadata": {},
     "output_type": "execute_result"
    }
   ],
   "source": [
    "pipe = Pipeline([(\"dt\", DecisionTreeClassifier(random_state=42))])\n",
    "\n",
    "param_distro_dt = {\"dt__criterion\" : [\"gini\", \"entropy\"],\n",
    "                   \"dt__splitter\" : [\"best\", \"random\"],\n",
    "                   \"dt__max_depth\" : range(2, 11),\n",
    "                   \"dt__min_impurity_decrease\" : scipy.stats.uniform(0, 0.05)}\n",
    "\n",
    "splitter = StratifiedKFold(n_splits=5, shuffle=True, random_state=42)\n",
    "\n",
    "grid_dt_random = RandomizedSearchCV(pipe,\n",
    "                                     param_distro_dt,\n",
    "                                     n_iter=100, # aqui que escolhemos o número de combinações amostradas!\n",
    "                                     cv=splitter,\n",
    "                                     scoring=\"f1_weighted\",\n",
    "                                     verbose=10,\n",
    "                                     n_jobs=-1,\n",
    "                                     return_train_score=True,\n",
    "                                     random_state=42)\n",
    "\n",
    "grid_dt_random.fit(X_train, y_train)"
   ]
  },
  {
   "cell_type": "code",
   "execution_count": 58,
   "metadata": {
    "ExecuteTime": {
     "end_time": "2022-06-03T23:04:57.988538Z",
     "start_time": "2022-06-03T23:04:57.511423Z"
    }
   },
   "outputs": [
    {
     "data": {
      "text/plain": [
       "{'dt__criterion': 'gini',\n",
       " 'dt__max_depth': 5,\n",
       " 'dt__min_impurity_decrease': 0.001215798321572692,\n",
       " 'dt__splitter': 'best'}"
      ]
     },
     "execution_count": 58,
     "metadata": {},
     "output_type": "execute_result"
    }
   ],
   "source": [
    "grid_dt_random.best_params_"
   ]
  },
  {
   "cell_type": "code",
   "execution_count": 59,
   "metadata": {
    "ExecuteTime": {
     "end_time": "2022-06-03T23:04:58.313397Z",
     "start_time": "2022-06-03T23:04:57.999531Z"
    }
   },
   "outputs": [
    {
     "data": {
      "text/plain": [
       "0.6691711113310732"
      ]
     },
     "execution_count": 59,
     "metadata": {},
     "output_type": "execute_result"
    }
   ],
   "source": [
    "grid_dt_random.best_score_"
   ]
  },
  {
   "cell_type": "code",
   "execution_count": 60,
   "metadata": {
    "ExecuteTime": {
     "end_time": "2022-06-03T23:04:58.983196Z",
     "start_time": "2022-06-03T23:04:58.317398Z"
    }
   },
   "outputs": [
    {
     "name": "stdout",
     "output_type": "stream",
     "text": [
      "Métricas de avaliação de treino - com cutoff = 0.50\n",
      "              precision    recall  f1-score   support\n",
      "\n",
      "         bad       0.81      0.24      0.37       240\n",
      "        good       0.75      0.97      0.85       560\n",
      "\n",
      "    accuracy                           0.76       800\n",
      "   macro avg       0.78      0.61      0.61       800\n",
      "weighted avg       0.77      0.76      0.71       800\n",
      "\n",
      "\n",
      "################################################################################\n",
      "\n",
      "Métricas de avaliação de teste - com cutoff = 0.50\n",
      "              precision    recall  f1-score   support\n",
      "\n",
      "         bad       0.52      0.22      0.31        60\n",
      "        good       0.73      0.91      0.81       140\n",
      "\n",
      "    accuracy                           0.70       200\n",
      "   macro avg       0.63      0.57      0.56       200\n",
      "weighted avg       0.67      0.70      0.66       200\n",
      "\n"
     ]
    }
   ],
   "source": [
    "_ = clf_metrics_train_test(grid_dt_random, X_train, y_train, X_test, y_test, cutoff=0.5, \n",
    "                           print_plot=True, plot_conf_matrix=False, print_cr=True, pos_label=\"bad\")"
   ]
  },
  {
   "cell_type": "markdown",
   "metadata": {},
   "source": [
    "> Uma boa dica: parar estimadores com muitos hiperparâmetros, ou então hiperparâmetros em que é difícil chutar bons valores, utilizar o **random search** para explorar inicialmente o espaço; e depois partir para o **grid search** nas regiões promissoras!"
   ]
  },
  {
   "cell_type": "markdown",
   "metadata": {},
   "source": [
    "____________\n",
    "\n",
    "## 3) Salvando modelos\n",
    "\n",
    "Muitas vezes, é interessante salvarmos um modelo treinado (imagine uma otimização de hiperparâmetros que levou horas ou dias pra rodar!)\n",
    "\n",
    "Pra salvar o modelo (que no caso é a pipeline completa)\n",
    "\n",
    "Para mais informações, clique [aqui](https://scikit-learn.org/stable/modules/model_persistence.html)"
   ]
  },
  {
   "cell_type": "code",
   "execution_count": 63,
   "metadata": {
    "ExecuteTime": {
     "end_time": "2022-06-03T23:14:04.532091Z",
     "start_time": "2022-06-03T23:14:04.290227Z"
    }
   },
   "outputs": [
    {
     "data": {
      "text/plain": [
       "RandomizedSearchCV(cv=StratifiedKFold(n_splits=5, random_state=42, shuffle=True),\n",
       "                   estimator=Pipeline(steps=[('dt',\n",
       "                                              DecisionTreeClassifier(random_state=42))]),\n",
       "                   n_iter=100, n_jobs=-1,\n",
       "                   param_distributions={'dt__criterion': ['gini', 'entropy'],\n",
       "                                        'dt__max_depth': range(2, 11),\n",
       "                                        'dt__min_impurity_decrease': <scipy.stats._distn_infrastructure.rv_frozen object at 0x0000024C5A48B6D0>,\n",
       "                                        'dt__splitter': ['best', 'random']},\n",
       "                   random_state=42, return_train_score=True,\n",
       "                   scoring='f1_weighted', verbose=10)"
      ]
     },
     "execution_count": 63,
     "metadata": {},
     "output_type": "execute_result"
    }
   ],
   "source": [
    "grid_dt_random"
   ]
  },
  {
   "cell_type": "code",
   "execution_count": 65,
   "metadata": {
    "ExecuteTime": {
     "end_time": "2022-06-03T23:15:25.500941Z",
     "start_time": "2022-06-03T23:15:25.113653Z"
    }
   },
   "outputs": [
    {
     "data": {
      "text/plain": [
       "['pipe_modelo_arvore.joblib']"
      ]
     },
     "execution_count": 65,
     "metadata": {},
     "output_type": "execute_result"
    }
   ],
   "source": [
    "from joblib import dump, load\n",
    "\n",
    "dump(grid_dt_random, \"pipe_modelo_arvore.joblib\")"
   ]
  },
  {
   "cell_type": "markdown",
   "metadata": {},
   "source": [
    "Testando se deu certo... Vamos ler o arquivo, e trabalhar com o objeto que é lido!"
   ]
  },
  {
   "cell_type": "code",
   "execution_count": 67,
   "metadata": {
    "ExecuteTime": {
     "end_time": "2022-06-03T23:17:35.889901Z",
     "start_time": "2022-06-03T23:17:35.711004Z"
    }
   },
   "outputs": [],
   "source": [
    "grid_dt_random_lida = load(\"pipe_modelo_arvore.joblib\")"
   ]
  },
  {
   "cell_type": "code",
   "execution_count": 69,
   "metadata": {
    "ExecuteTime": {
     "end_time": "2022-06-03T23:18:12.424963Z",
     "start_time": "2022-06-03T23:18:12.270052Z"
    }
   },
   "outputs": [
    {
     "data": {
      "text/plain": [
       "array(['good', 'bad', 'good', 'good', 'good', 'good', 'good', 'good',\n",
       "       'good', 'good', 'good', 'good', 'good', 'bad', 'good', 'good',\n",
       "       'good', 'good', 'good', 'good', 'good', 'good', 'good', 'good',\n",
       "       'good', 'bad', 'good', 'bad', 'good', 'good', 'good', 'good',\n",
       "       'good', 'good', 'good', 'good', 'bad', 'good', 'good', 'good',\n",
       "       'good', 'good', 'good', 'good', 'good', 'good', 'good', 'good',\n",
       "       'good', 'good', 'good', 'good', 'good', 'good', 'good', 'good',\n",
       "       'good', 'good', 'good', 'good', 'good', 'good', 'good', 'good',\n",
       "       'bad', 'good', 'good', 'good', 'good', 'good', 'good', 'bad',\n",
       "       'good', 'good', 'good', 'good', 'good', 'good', 'good', 'good',\n",
       "       'good', 'bad', 'good', 'good', 'good', 'good', 'good', 'bad',\n",
       "       'bad', 'good', 'good', 'good', 'bad', 'good', 'good', 'good',\n",
       "       'good', 'good', 'good', 'good', 'good', 'bad', 'good', 'good',\n",
       "       'good', 'good', 'good', 'good', 'bad', 'good', 'good', 'good',\n",
       "       'good', 'good', 'good', 'good', 'good', 'good', 'good', 'good',\n",
       "       'good', 'bad', 'good', 'good', 'good', 'good', 'good', 'good',\n",
       "       'good', 'bad', 'good', 'good', 'good', 'good', 'bad', 'good',\n",
       "       'good', 'bad', 'good', 'bad', 'good', 'good', 'good', 'good',\n",
       "       'good', 'good', 'good', 'good', 'good', 'good', 'good', 'bad',\n",
       "       'good', 'good', 'good', 'good', 'good', 'good', 'good', 'good',\n",
       "       'good', 'good', 'good', 'good', 'good', 'bad', 'good', 'good',\n",
       "       'good', 'good', 'good', 'good', 'good', 'good', 'good', 'bad',\n",
       "       'good', 'good', 'good', 'bad', 'bad', 'good', 'good', 'bad',\n",
       "       'good', 'good', 'good', 'good', 'good', 'bad', 'good', 'good',\n",
       "       'good', 'good', 'good', 'good', 'good', 'good', 'good', 'good'],\n",
       "      dtype=object)"
      ]
     },
     "execution_count": 69,
     "metadata": {},
     "output_type": "execute_result"
    }
   ],
   "source": [
    "grid_dt_random_lida.predict(X_test)"
   ]
  },
  {
   "cell_type": "code",
   "execution_count": 70,
   "metadata": {
    "ExecuteTime": {
     "end_time": "2022-06-03T23:18:25.943421Z",
     "start_time": "2022-06-03T23:18:25.709770Z"
    }
   },
   "outputs": [
    {
     "name": "stdout",
     "output_type": "stream",
     "text": [
      "Métricas de avaliação de treino - com cutoff = 0.50\n",
      "              precision    recall  f1-score   support\n",
      "\n",
      "         bad       0.81      0.24      0.37       240\n",
      "        good       0.75      0.97      0.85       560\n",
      "\n",
      "    accuracy                           0.76       800\n",
      "   macro avg       0.78      0.61      0.61       800\n",
      "weighted avg       0.77      0.76      0.71       800\n",
      "\n",
      "\n",
      "################################################################################\n",
      "\n",
      "Métricas de avaliação de teste - com cutoff = 0.50\n",
      "              precision    recall  f1-score   support\n",
      "\n",
      "         bad       0.52      0.22      0.31        60\n",
      "        good       0.73      0.91      0.81       140\n",
      "\n",
      "    accuracy                           0.70       200\n",
      "   macro avg       0.63      0.57      0.56       200\n",
      "weighted avg       0.67      0.70      0.66       200\n",
      "\n"
     ]
    }
   ],
   "source": [
    "_ = clf_metrics_train_test(grid_dt_random_lida, X_train, y_train, X_test, y_test, cutoff=0.5, \n",
    "                           print_plot=True, plot_conf_matrix=False, print_cr=True, pos_label=\"bad\")"
   ]
  },
  {
   "cell_type": "markdown",
   "metadata": {},
   "source": [
    "_________________"
   ]
  },
  {
   "cell_type": "markdown",
   "metadata": {},
   "source": [
    "## 4) Árvores de decisão para regressão\n",
    "\n",
    "Alguns algoritmos de classificação podem ser utilizados como algoritmos de regressão, inclusive árvores de decisão!\n",
    "\n",
    "As **árvores de regressão** consistem em funções com valores discretos, similar a uma escada, onde cada degrau é o valor de uma folha. [Aqui](https://scikit-learn.org/stable/auto_examples/tree/plot_tree_regression.html) há detalhes sobre a classe do sklearn; e [aqui](https://www.youtube.com/watch?v=g9c66TUylZ4) está o StatQuest sobre árvores de regressão!\n",
    "\n",
    "Considere o seguinte dataset:\n",
    "\n",
    "<img src='https://s3-sa-east-1.amazonaws.com/lcpi/800a4332-e709-4ea3-8c24-959c05c8fd65.png' width=500>\n",
    "\n",
    "O algoritmo irá obter os valores do target como sendo **a média dos valores de cada folha da árvore final**. \n",
    "\n",
    "Visualmente: \n",
    "\n",
    "<img src='https://s3-sa-east-1.amazonaws.com/lcpi/64cb4edd-20e1-486a-8fc9-60e60e1485d5.png' width=500>\n",
    "\n",
    "Para a escolha das melhores divisões: \n",
    "\n",
    "- o algoritmo percorre a médida entre cada par de pontos das features; \n",
    "- define estes valores como divisões (sequencialmente); \n",
    "- para cada divisão experimentada, o algoritmo calcula o MSE;\n",
    "- a melhor divisão é aquela que apresentar o menor erro!\n",
    "\n",
    "Visualmente:\n",
    "\n",
    "<img src='https://s3-sa-east-1.amazonaws.com/lcpi/be58ac8b-5c59-4b9f-be79-e000d060e9e3.png' width=500>\n",
    "\n",
    "<img src='https://s3-sa-east-1.amazonaws.com/lcpi/1f317afd-6119-41a5-849d-cee038403cf2.png' width=500>"
   ]
  },
  {
   "cell_type": "markdown",
   "metadata": {},
   "source": [
    "Outro exemplo de árvore de regressão treinada (note a aparência da hipótese -- são \"setores\", que em uma única dimensão parecem com degraus):\n",
    "\n",
    "<img src=\"https://res.cloudinary.com/practicaldev/image/fetch/s--YryIJN_o--/c_imagga_scale,f_auto,fl_progressive,h_900,q_auto,w_1600/https://thepracticaldev.s3.amazonaws.com/i/7oxf0e3cggdj9jayxeig.png\" width=600>"
   ]
  },
  {
   "cell_type": "markdown",
   "metadata": {},
   "source": [
    "Vamos fazer um modelo de árvore de regressão para precificação de casas!"
   ]
  },
  {
   "cell_type": "markdown",
   "metadata": {},
   "source": [
    "A classe é [DecisionTreeRegressor](https://scikit-learn.org/stable/modules/generated/sklearn.tree.DecisionTreeRegressor.html)"
   ]
  },
  {
   "cell_type": "code",
   "execution_count": 71,
   "metadata": {
    "ExecuteTime": {
     "end_time": "2022-06-03T23:23:55.143080Z",
     "start_time": "2022-06-03T23:23:54.583830Z"
    }
   },
   "outputs": [],
   "source": [
    "df = pd.read_csv(\"../datasets/house_prices.csv\")\n",
    "\n",
    "X = df.drop(columns=[\"Id\", \"SalePrice\"])\n",
    "y = df[\"SalePrice\"]\n",
    "\n",
    "X_train, X_test, y_train, y_test = train_test_split(X, y, test_size=0.2, random_state=42)\n",
    "\n",
    "X_train = X_train.select_dtypes(include=np.number).dropna(axis=\"columns\")\n",
    "X_test = X_test.loc[:, X_train.columns]"
   ]
  },
  {
   "cell_type": "code",
   "execution_count": 73,
   "metadata": {
    "ExecuteTime": {
     "end_time": "2022-06-03T23:25:45.596178Z",
     "start_time": "2022-06-03T23:25:45.406202Z"
    }
   },
   "outputs": [
    {
     "data": {
      "text/plain": [
       "(1168, 33)"
      ]
     },
     "execution_count": 73,
     "metadata": {},
     "output_type": "execute_result"
    }
   ],
   "source": [
    "X_train.shape"
   ]
  },
  {
   "cell_type": "code",
   "execution_count": 72,
   "metadata": {
    "ExecuteTime": {
     "end_time": "2022-06-03T23:24:10.234418Z",
     "start_time": "2022-06-03T23:24:10.071568Z"
    }
   },
   "outputs": [],
   "source": [
    "from sklearn.tree import DecisionTreeRegressor"
   ]
  },
  {
   "cell_type": "code",
   "execution_count": 74,
   "metadata": {
    "ExecuteTime": {
     "end_time": "2022-06-03T23:31:45.501410Z",
     "start_time": "2022-06-03T23:31:27.904075Z"
    }
   },
   "outputs": [
    {
     "name": "stdout",
     "output_type": "stream",
     "text": [
      "Fitting 5 folds for each of 72 candidates, totalling 360 fits\n"
     ]
    },
    {
     "data": {
      "text/plain": [
       "GridSearchCV(cv=KFold(n_splits=5, random_state=42, shuffle=True),\n",
       "             estimator=Pipeline(steps=[('dt',\n",
       "                                        DecisionTreeRegressor(random_state=42))]),\n",
       "             n_jobs=-1,\n",
       "             param_grid={'dt__criterion': ['squared_error', 'friedman_mse',\n",
       "                                           'absolute_error', 'poisson'],\n",
       "                         'dt__max_depth': range(2, 11),\n",
       "                         'dt__splitter': ['best', 'random']},\n",
       "             return_train_score=True, scoring='neg_mean_absolute_error',\n",
       "             verbose=10)"
      ]
     },
     "execution_count": 74,
     "metadata": {},
     "output_type": "execute_result"
    }
   ],
   "source": [
    "pipe = Pipeline([(\"dt\", DecisionTreeRegressor(random_state=42))])\n",
    "\n",
    "param_grid_dt_reg = {\"dt__criterion\" : [\"squared_error\", \"friedman_mse\", \"absolute_error\", \"poisson\"],\n",
    "                     \"dt__splitter\" : [\"best\", \"random\"],\n",
    "                     \"dt__max_depth\" : range(2, 11)}\n",
    "\n",
    "# em regressão, não faz tanto sentido usar o stratified kfold, usamos o kfold normal!\n",
    "splitter = KFold(n_splits=5, shuffle=True, random_state=42)\n",
    "\n",
    "grid_dt_reg = GridSearchCV(pipe,\n",
    "                           param_grid_dt_reg,\n",
    "                           cv=splitter,\n",
    "                           scoring=\"neg_mean_absolute_error\",\n",
    "                           verbose=10,\n",
    "                           n_jobs=-1,\n",
    "                           return_train_score=True)\n",
    "\n",
    "grid_dt_reg.fit(X_train, y_train)"
   ]
  },
  {
   "cell_type": "code",
   "execution_count": 75,
   "metadata": {
    "ExecuteTime": {
     "end_time": "2022-06-03T23:32:00.579048Z",
     "start_time": "2022-06-03T23:32:00.310065Z"
    }
   },
   "outputs": [
    {
     "data": {
      "text/plain": [
       "{'dt__criterion': 'squared_error', 'dt__max_depth': 9, 'dt__splitter': 'best'}"
      ]
     },
     "execution_count": 75,
     "metadata": {},
     "output_type": "execute_result"
    }
   ],
   "source": [
    "grid_dt_reg.best_params_"
   ]
  },
  {
   "cell_type": "code",
   "execution_count": 76,
   "metadata": {
    "ExecuteTime": {
     "end_time": "2022-06-03T23:32:15.168984Z",
     "start_time": "2022-06-03T23:32:15.001080Z"
    }
   },
   "outputs": [
    {
     "data": {
      "text/plain": [
       "-25372.201624918776"
      ]
     },
     "execution_count": 76,
     "metadata": {},
     "output_type": "execute_result"
    }
   ],
   "source": [
    "grid_dt_reg.best_score_"
   ]
  },
  {
   "cell_type": "code",
   "execution_count": 77,
   "metadata": {
    "ExecuteTime": {
     "end_time": "2022-06-03T23:34:28.149017Z",
     "start_time": "2022-06-03T23:34:27.928201Z"
    }
   },
   "outputs": [
    {
     "name": "stdout",
     "output_type": "stream",
     "text": [
      "\n",
      "Métricas de avaliação (dados de treino):\n",
      "\n",
      "R^2: 0.98\n",
      "MAE: 7703.06\n",
      "RMSE: 11021.02\n",
      "MAPE: 5.13%\n",
      "\n",
      "################################################################################\n",
      "\n",
      "Métricas de avaliação (dados de teste):\n",
      "\n",
      "R^2: 0.73\n",
      "MAE: 26505.79\n",
      "RMSE: 45444.58\n",
      "MAPE: 15.44%\n"
     ]
    }
   ],
   "source": [
    " _ = reg_metrics_train_test(grid_dt_reg, X_train, y_train, X_test, y_test, \n",
    "                            plot=False, dist_resids=False, print_stuff=True)"
   ]
  },
  {
   "cell_type": "markdown",
   "metadata": {},
   "source": [
    "Usando nossa função que escolhe a combinação de hiperparâmetros olhando também pras métricas de treino:"
   ]
  },
  {
   "cell_type": "code",
   "execution_count": 80,
   "metadata": {
    "ExecuteTime": {
     "end_time": "2022-06-03T23:37:16.316556Z",
     "start_time": "2022-06-03T23:37:16.136662Z"
    },
    "scrolled": true
   },
   "outputs": [
    {
     "data": {
      "text/html": [
       "<div>\n",
       "<style scoped>\n",
       "    .dataframe tbody tr th:only-of-type {\n",
       "        vertical-align: middle;\n",
       "    }\n",
       "\n",
       "    .dataframe tbody tr th {\n",
       "        vertical-align: top;\n",
       "    }\n",
       "\n",
       "    .dataframe thead th {\n",
       "        text-align: right;\n",
       "    }\n",
       "</style>\n",
       "<table border=\"1\" class=\"dataframe\">\n",
       "  <thead>\n",
       "    <tr style=\"text-align: right;\">\n",
       "      <th></th>\n",
       "      <th>mean_train_score</th>\n",
       "      <th>mean_test_score</th>\n",
       "      <th>delta</th>\n",
       "      <th>mean_train_score_norm</th>\n",
       "      <th>mean_test_score_norm</th>\n",
       "      <th>delta_norm</th>\n",
       "      <th>metrica_criterio_final</th>\n",
       "    </tr>\n",
       "  </thead>\n",
       "  <tbody>\n",
       "    <tr>\n",
       "      <th>23</th>\n",
       "      <td>-27191.164697</td>\n",
       "      <td>-28820.384899</td>\n",
       "      <td>1629.220202</td>\n",
       "      <td>0.544989</td>\n",
       "      <td>0.810283</td>\n",
       "      <td>0.145426</td>\n",
       "      <td>0.832429</td>\n",
       "    </tr>\n",
       "    <tr>\n",
       "      <th>5</th>\n",
       "      <td>-27191.164697</td>\n",
       "      <td>-28820.384899</td>\n",
       "      <td>1629.220202</td>\n",
       "      <td>0.544989</td>\n",
       "      <td>0.810283</td>\n",
       "      <td>0.145426</td>\n",
       "      <td>0.832429</td>\n",
       "    </tr>\n",
       "    <tr>\n",
       "      <th>41</th>\n",
       "      <td>-26702.071889</td>\n",
       "      <td>-28902.964866</td>\n",
       "      <td>2200.892976</td>\n",
       "      <td>0.552757</td>\n",
       "      <td>0.808135</td>\n",
       "      <td>0.166137</td>\n",
       "      <td>0.820999</td>\n",
       "    </tr>\n",
       "    <tr>\n",
       "      <th>39</th>\n",
       "      <td>-30566.460055</td>\n",
       "      <td>-31418.542242</td>\n",
       "      <td>852.082186</td>\n",
       "      <td>0.491385</td>\n",
       "      <td>0.742683</td>\n",
       "      <td>0.117271</td>\n",
       "      <td>0.812706</td>\n",
       "    </tr>\n",
       "    <tr>\n",
       "      <th>40</th>\n",
       "      <td>-23563.796024</td>\n",
       "      <td>-27515.483929</td>\n",
       "      <td>3951.687905</td>\n",
       "      <td>0.602597</td>\n",
       "      <td>0.844235</td>\n",
       "      <td>0.229568</td>\n",
       "      <td>0.807334</td>\n",
       "    </tr>\n",
       "    <tr>\n",
       "      <th>...</th>\n",
       "      <td>...</td>\n",
       "      <td>...</td>\n",
       "      <td>...</td>\n",
       "      <td>...</td>\n",
       "      <td>...</td>\n",
       "      <td>...</td>\n",
       "      <td>...</td>\n",
       "    </tr>\n",
       "    <tr>\n",
       "      <th>62</th>\n",
       "      <td>-52137.358822</td>\n",
       "      <td>-55522.296536</td>\n",
       "      <td>3384.937714</td>\n",
       "      <td>0.148809</td>\n",
       "      <td>0.115537</td>\n",
       "      <td>0.209035</td>\n",
       "      <td>0.453251</td>\n",
       "    </tr>\n",
       "    <tr>\n",
       "      <th>64</th>\n",
       "      <td>-51836.430501</td>\n",
       "      <td>-55457.696455</td>\n",
       "      <td>3621.265955</td>\n",
       "      <td>0.153588</td>\n",
       "      <td>0.117218</td>\n",
       "      <td>0.217597</td>\n",
       "      <td>0.449811</td>\n",
       "    </tr>\n",
       "    <tr>\n",
       "      <th>60</th>\n",
       "      <td>-52582.628809</td>\n",
       "      <td>-55979.985803</td>\n",
       "      <td>3397.356995</td>\n",
       "      <td>0.141738</td>\n",
       "      <td>0.103629</td>\n",
       "      <td>0.209484</td>\n",
       "      <td>0.447072</td>\n",
       "    </tr>\n",
       "    <tr>\n",
       "      <th>59</th>\n",
       "      <td>-52351.471904</td>\n",
       "      <td>-56119.459835</td>\n",
       "      <td>3767.987931</td>\n",
       "      <td>0.145409</td>\n",
       "      <td>0.100000</td>\n",
       "      <td>0.222912</td>\n",
       "      <td>0.438544</td>\n",
       "    </tr>\n",
       "    <tr>\n",
       "      <th>61</th>\n",
       "      <td>-51432.000484</td>\n",
       "      <td>-56053.965812</td>\n",
       "      <td>4621.965328</td>\n",
       "      <td>0.160011</td>\n",
       "      <td>0.101704</td>\n",
       "      <td>0.253851</td>\n",
       "      <td>0.423926</td>\n",
       "    </tr>\n",
       "  </tbody>\n",
       "</table>\n",
       "<p>72 rows × 7 columns</p>\n",
       "</div>"
      ],
      "text/plain": [
       "    mean_train_score  mean_test_score        delta  mean_train_score_norm  \\\n",
       "23     -27191.164697    -28820.384899  1629.220202               0.544989   \n",
       "5      -27191.164697    -28820.384899  1629.220202               0.544989   \n",
       "41     -26702.071889    -28902.964866  2200.892976               0.552757   \n",
       "39     -30566.460055    -31418.542242   852.082186               0.491385   \n",
       "40     -23563.796024    -27515.483929  3951.687905               0.602597   \n",
       "..               ...              ...          ...                    ...   \n",
       "62     -52137.358822    -55522.296536  3384.937714               0.148809   \n",
       "64     -51836.430501    -55457.696455  3621.265955               0.153588   \n",
       "60     -52582.628809    -55979.985803  3397.356995               0.141738   \n",
       "59     -52351.471904    -56119.459835  3767.987931               0.145409   \n",
       "61     -51432.000484    -56053.965812  4621.965328               0.160011   \n",
       "\n",
       "    mean_test_score_norm  delta_norm  metrica_criterio_final  \n",
       "23              0.810283    0.145426                0.832429  \n",
       "5               0.810283    0.145426                0.832429  \n",
       "41              0.808135    0.166137                0.820999  \n",
       "39              0.742683    0.117271                0.812706  \n",
       "40              0.844235    0.229568                0.807334  \n",
       "..                   ...         ...                     ...  \n",
       "62              0.115537    0.209035                0.453251  \n",
       "64              0.117218    0.217597                0.449811  \n",
       "60              0.103629    0.209484                0.447072  \n",
       "59              0.100000    0.222912                0.438544  \n",
       "61              0.101704    0.253851                0.423926  \n",
       "\n",
       "[72 rows x 7 columns]"
      ]
     },
     "metadata": {},
     "output_type": "display_data"
    }
   ],
   "source": [
    "best_params_delta_reg = calc_best_params_delta(grid_dt_reg, peso_delta=0.5, print_deltas=True)"
   ]
  },
  {
   "cell_type": "code",
   "execution_count": 81,
   "metadata": {
    "ExecuteTime": {
     "end_time": "2022-06-03T23:37:19.879451Z",
     "start_time": "2022-06-03T23:37:19.680564Z"
    }
   },
   "outputs": [
    {
     "data": {
      "text/plain": [
       "{'dt__criterion': 'friedman_mse', 'dt__max_depth': 4, 'dt__splitter': 'random'}"
      ]
     },
     "execution_count": 81,
     "metadata": {},
     "output_type": "execute_result"
    }
   ],
   "source": [
    "best_params_delta_reg"
   ]
  },
  {
   "cell_type": "code",
   "execution_count": 83,
   "metadata": {
    "ExecuteTime": {
     "end_time": "2022-06-03T23:37:45.626019Z",
     "start_time": "2022-06-03T23:37:45.423459Z"
    }
   },
   "outputs": [
    {
     "name": "stdout",
     "output_type": "stream",
     "text": [
      "\n",
      "Métricas de avaliação (dados de treino):\n",
      "\n",
      "R^2: 0.75\n",
      "MAE: 27521.60\n",
      "RMSE: 38450.54\n",
      "MAPE: 16.57%\n",
      "\n",
      "################################################################################\n",
      "\n",
      "Métricas de avaliação (dados de teste):\n",
      "\n",
      "R^2: 0.72\n",
      "MAE: 29607.24\n",
      "RMSE: 46391.23\n",
      "MAPE: 18.82%\n"
     ]
    }
   ],
   "source": [
    "pipe_best_delta_reg = Pipeline([(\"dt\", DecisionTreeRegressor(random_state=42))]).set_params(**best_params_delta_reg) \n",
    "\n",
    "pipe_best_delta_reg.fit(X_train, y_train)\n",
    "\n",
    "_ = reg_metrics_train_test(pipe_best_delta_reg, X_train, y_train, X_test, y_test, \n",
    "                            plot=False, dist_resids=False, print_stuff=True)"
   ]
  },
  {
   "cell_type": "code",
   "execution_count": null,
   "metadata": {
    "ExecuteTime": {
     "end_time": "2022-06-02T19:23:38.201565Z",
     "start_time": "2022-06-02T19:23:38.077638Z"
    }
   },
   "outputs": [],
   "source": [
    "# pra casa: random search com o ccp_alpha"
   ]
  },
  {
   "cell_type": "markdown",
   "metadata": {},
   "source": [
    "Conseguimos fazer coisas bem melhores com a regressão linear regularizada!\n",
    "\n",
    "Mas, é legal saber que agora temos mais uma técnica para explorar!!\n",
    "\n",
    "Para casa: itere mais algumas vez no grid/random search com a árvore de decisão. Tente chegar no melhor modelo possível!"
   ]
  }
 ],
 "metadata": {
  "kernelspec": {
   "display_name": "Python 3",
   "language": "python",
   "name": "python3"
  },
  "language_info": {
   "codemirror_mode": {
    "name": "ipython",
    "version": 3
   },
   "file_extension": ".py",
   "mimetype": "text/x-python",
   "name": "python",
   "nbconvert_exporter": "python",
   "pygments_lexer": "ipython3",
   "version": "3.8.3"
  }
 },
 "nbformat": 4,
 "nbformat_minor": 2
}
