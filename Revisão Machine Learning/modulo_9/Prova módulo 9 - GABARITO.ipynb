{
 "cells": [
  {
   "cell_type": "markdown",
   "metadata": {},
   "source": [
    "# Prova módulo 9 - ML1 - Gabarito\n",
    "\n",
    "_____\n",
    "_____\n",
    "_____"
   ]
  },
  {
   "cell_type": "markdown",
   "metadata": {},
   "source": [
    "**1) Julgue a afirmativa a seguir como verdadeira ou falsa, justificando sua resposta se a afirmativa for falsa**\n",
    "\n",
    "Há situações em que a resolução de um problema de negócio demanda o desenvolvimento de um modelo preditivo. Nestes casos, é comum seguirmos uma abordagem data-driven, comumente apoiada por técnicas de aprendizagem de máquina. \n",
    "\n",
    "Neste contexto, podemos dizer que um modelo de machine learning nada mais é do que uma representação matemática do problema sob análise (ou de alguns de seus aspectos), construído teoricamente a partir dos princípios fundamentais que regem este problema.\n",
    "\n",
    "( ) Verdadeiro\n",
    "\n",
    "(x) Falso\n"
   ]
  },
  {
   "cell_type": "markdown",
   "metadata": {},
   "source": [
    "<font color=red>\n",
    "    Um modelo <b>empírico</b>, construído segundo uma abordagem <b>data-driven</b>, de fato é uma representação matemática do problema sob análise, mas sua construção se dá a partir de <b>dados</b> coletados, gerados como <b>amostras</b> pelo processo teórico que rege o problema. Se um modelo for construído teoricamente a partir dos princípios fundamentais que regem o problema, dizemos que o modelo é <b>teórico</b>, construído segundo a abordagem <b>theory-driven</b>.\n",
    "</font>"
   ]
  },
  {
   "cell_type": "markdown",
   "metadata": {},
   "source": [
    "__________\n",
    "__________"
   ]
  },
  {
   "cell_type": "markdown",
   "metadata": {},
   "source": [
    "**2) Julgue a afirmativa a seguir como verdadeira ou falsa, justificando sua resposta se a afirmativa for falsa**\n",
    "\n",
    "Utilizamos uma abordagem data-driven, baseada em aprendizagem de máquina, em problemas tais que:\n",
    "\n",
    "- Existe um padrão a ser descoberto (que assumimos ser o processo teórico $\\mathcal{F}$ que rege o problema);\n",
    "- Uma descrição teórica não é praticável;\n",
    "- Existam dados coletados sobre o problema, isto é, amostras geradas pelo proceso teórico $\\mathcal{F}$.\n",
    "\n",
    "(X) Verdadeiro\n",
    "\n",
    "( ) Falso\n"
   ]
  },
  {
   "cell_type": "markdown",
   "metadata": {},
   "source": [
    "<font color=red>\n",
    "Tudo certo!\n",
    "<br><br>\n",
    "Um comentário aqui, pessoal, sobre cada um dos pontos:\n",
    "    \n",
    "- Se não existir nenhum padrão a ser aprendido, mesmo os melhores métodos de aprendizagem não produzirão um bom resultado, afinal, não há o que aprender! E, de fato, isso pode acontecer na vida real, sobretudo se os dados não forem coletados da maneira adequada/não refletirem o processo teórico no qual estamos interessados;<br><br>\n",
    "    \n",
    "- Se tivéssemos uma abordagem teórica, construída a partir de princípios fundamentais, teríamos uma descrição perfeita do problema sob análise, certo? Neste caso, não precisaríamos fazer modelos de Machine Learning, que por mais que funcionem bem, sempre terão erros associados. Acontece que é qause sempre impraticável seguirmos esta abordagem teórica em problemas da vida real, por iso que recorremos às técnicas de aprendizagem de máquina (técnicas empíricas, data-driven); <br><br>\n",
    "    \n",
    "- E, por fim, o ingrediente fundamental para que seja possível treinar um modelo de ML são os dados. Sem dados, é impossível seguirmos uma abordagem empírica!\n",
    "    \n",
    "Por isso, usamos machine learning apenas no caso em que temos as três condições acima satisfeitas! \n",
    "    \n",
    "No entanto, apenas a terceira é realmente impeditiva (sem dados, não dá pra fazer nada!). \n",
    "    \n",
    "Por outro lado, se existir uma descrição teórica e dados também, nada nos impede de treinar um modelo de ML (só não vai ser a melhor abordagem); \n",
    "    \n",
    "E, se não existir um padrão nos dados, também nada nos impede de treinar um modelo de ML (ele só vai ser horrível). \n",
    "    \n",
    "Por isso que a terceira condição é fundamental, e as duas primeiras, a rigor, menos fundamentais -- embora, pensando em utilidade do que fizemos, de fato precisamos satisfazer as 3 condições. Justo?\n",
    "</font>"
   ]
  },
  {
   "cell_type": "markdown",
   "metadata": {},
   "source": [
    "__________\n",
    "__________"
   ]
  },
  {
   "cell_type": "markdown",
   "metadata": {},
   "source": [
    "**3) Julgue a afirmativa a seguir como verdadeira ou falsa, justificando sua resposta se a afirmativa for falsa**\n",
    "\n",
    "Para aferir a capacidade de generalização de um modelo supervisionado, é muito importante que o volume de dados original seja separado nas amostras de treino e de teste. \n",
    "\n",
    "O modelo é treinado utilizando os dados de treino; e os dados de teste são utilizados ao fim do processo, para avaliar sua performance em dados não vistos em treinamento, estimando, assim, sua capacidade de generalização.\n",
    "\n",
    "(x) Verdadeiro\n",
    "\n",
    "( ) Falso\n"
   ]
  },
  {
   "cell_type": "markdown",
   "metadata": {},
   "source": [
    "<font color=red>\n",
    "Tudo certo!\n",
    "</font>"
   ]
  },
  {
   "cell_type": "markdown",
   "metadata": {},
   "source": [
    "__________\n",
    "__________"
   ]
  },
  {
   "cell_type": "markdown",
   "metadata": {},
   "source": [
    "**4) Considere a figura a seguir, sobre o famoso tradeoff *viés/variância* (*bias/variance*):**\n",
    "\n",
    "<img src=https://www.learnopencv.com/wp-content/uploads/2017/02/Bias-Variance-Tradeoff-In-Machine-Learning-1.png width=400>\n",
    "\n",
    "Sobre este tradeoff, avalie as afirmativas a seguir como verdadeiras ou falsas:\n",
    "\n",
    "- 1 - Dizemos que um modelo tem **alto viés** (bias), se ele sofre de **underfitting**, isto é, se a diferença entre os erros de treino e teste/validação é pequena, e ambos erros são grandes. Este fenômeno tende a ocorrer quando a hipótese não é capaz de capturar corretamente os padrões refletidos na amostra de treino.\n",
    "\n",
    "- 2 - Dizemos que um modelo tem **alta variância** (variance), se ele sofre de **overfitting**, isto é, se a diferença entre os erros de treino e teste/validação é muito grande, sendo os erros de teste/validação muito maiores que os erros de treino. Este fenômeno tende a ocorrer quando a hipótese é tão complexa, que se torna capaz de capturar até mesmo as particularidades (ruídos) da base de treino, perdendo, assim, poder de generalização.\n",
    "\n",
    "Julgando as afirmativas 1 e 2, temos, respectivamente:\n",
    "\n",
    "(x) Verdadeiro / Verdadeiro\n",
    "\n",
    "( ) Falso / Verdadeiro\n",
    "\n",
    "( ) Verdadeiro / Falso\n",
    "\n",
    "( ) Falso / Falso\n"
   ]
  },
  {
   "cell_type": "markdown",
   "metadata": {},
   "source": [
    "<font color=red>\n",
    "Tudo certo!\n",
    "</font>"
   ]
  },
  {
   "cell_type": "markdown",
   "metadata": {},
   "source": [
    "__________\n",
    "__________"
   ]
  },
  {
   "cell_type": "markdown",
   "metadata": {},
   "source": [
    "**5) Considere a figura a seguir, sobre métricas de avaliação de problemas de classificação:**\n",
    "\n",
    "<img src=https://upload.wikimedia.org/wikipedia/commons/thumb/2/26/Precisionrecall.svg/1200px-Precisionrecall.svg.png width=200>\n",
    "\n",
    "Neste contexto, julgue a afirmativa a seguir como verdadeira ou falsa, justificando sua resposta se a afirmativa for falsa:\n",
    "\n",
    "Em um sistema/teste de detecção de doenças extremamente contagiosas, é muito importante que o modelo consiga capturar corretamente todas as pessoas que estão de fato doentes, mesmo que isso implique em indicar erroneamente que algumas pessoas saudáveis estão doentes. \n",
    "\n",
    "Ou seja, em um sistema desses, é importante que os **falsos negativos** sejam minimizados; portanto, o objetivo é **maximizar** a métrica **precision**.\n",
    "\n",
    "( ) Verdadeiro\n",
    "\n",
    "(x) Falso\n"
   ]
  },
  {
   "cell_type": "markdown",
   "metadata": {},
   "source": [
    "<font color=red>\n",
    "De fato, segundo a descrição do problema, estamos interessados em minimizar os falsos negativos. Mas, fazendo isso, a métrica a ser maximizada é o <b>recall</b>, não o precision (vide a imagem acima!)\n",
    "</font>"
   ]
  },
  {
   "cell_type": "markdown",
   "metadata": {},
   "source": [
    "__________\n",
    "__________"
   ]
  },
  {
   "cell_type": "markdown",
   "metadata": {},
   "source": [
    "**6) Julgue a afirmativa a seguir como verdadeira ou falsa, justificando sua resposta se a afirmativa for falsa**\n",
    "\n",
    "A validação cruzada é uma técnica muito importante para que tenhamos estatísticas para as métricas de avaliação, sendo também muito utilizada para a determinação de valores adequados para hiperparâmetros de modelos, contribuindo para evitar overfitting.\n",
    "\n",
    "(x) Verdadeiro\n",
    "\n",
    "( ) Falso\n"
   ]
  },
  {
   "cell_type": "markdown",
   "metadata": {},
   "source": [
    "<font color=red>\n",
    "Tudo certo!\n",
    "</font>"
   ]
  },
  {
   "cell_type": "markdown",
   "metadata": {},
   "source": [
    "__________\n",
    "__________"
   ]
  },
  {
   "cell_type": "markdown",
   "metadata": {},
   "source": [
    "**7) Julgue as afirmativas a seguir como verdadeiras ou falsas, justificando sua resposta para as afirmativas falsas, se houver alguma**\n",
    "\n",
    " - 1 - O método KNN pode ser usado tanto para classificação quanto para regressão, e consiste em atribuir o target a uma observação de teste como sendo a média dos targets das $k$ observações de treino mais próximas à observação de teste (no caso de classificação, esta \"média\" na verdade é a moda, isto é, um voto de maioria);\n",
    "\n",
    " - 2 - Pensando nos extremos dos valores de $k$: quando $k=1$, o modelo tem alto viés; e quando $k=N$ ($N$ é o número de observações na base de treino), o modelo tem alta variância.\n",
    "\n",
    "Julgando as afirmativas 1 e 2, temos, respectivamente:\n",
    "\n",
    "() Verdadeiro / Verdadeiro\n",
    "\n",
    "( ) Falso / Verdadeiro\n",
    "\n",
    "(x) Verdadeiro / Falso\n",
    "\n",
    "( ) Falso / Falso"
   ]
  },
  {
   "cell_type": "markdown",
   "metadata": {},
   "source": [
    "<font color=red>\n",
    "Com $k=1$, levamos em consideração um único vizinho, de modo que o modelo fica extremamente sensível a variações locais -- se por acaso o único vizinho mais próximo for um outlier, nossa decisão será errada, pois considerará apenas este vizinho. De maneira mais ampla, ao considerar uma informação tão local, o estimador foca apenas em informações bem específicas e particulares, potencialmente ruidozas. Portanto, neste caso, há tendência maior de <b>overfitting</b>, isto é, <b> alta variância</b>.\n",
    "\n",
    "Por outro lado, tomando $k=n$, a predição é tomada simplesmente como uma média dos targets da amostra, sem discriminação alguma (no caso de classificação: o target majoritário é sempre predito; no caso de regressão: a média global é sempre predita). Com isso, nós deixamos de capturar o padrão geral, o que caracteriva <b>underfitting</b>, ou seja, neste caso o modelo tem <b>alto viés.</b> </font>"
   ]
  },
  {
   "cell_type": "markdown",
   "metadata": {},
   "source": [
    "__________\n",
    "__________"
   ]
  },
  {
   "cell_type": "markdown",
   "metadata": {},
   "source": [
    "**8) Julgue a afirmativa a seguir como verdadeira ou falsa, justificando sua resposta se a afirmativa for falsa**\n",
    "\n",
    "Os hiperparâmetros de estimadores, apesar de não serem aprendidos (isto é, determinados diretamente dos dados de treino), influenciam o comportamento do modelo final. Há estimadores com mais, outros com menos hiperparâmetros; alguns mais importantes, outros menos. Mas o fato é que o ajuste de valores adequados para os hiperparâmetros é algo muito importante para a construção de bons modelos!\n",
    "\n",
    "Duas técnicas comumente otimizadas para este fim são o Grid Search e o Random Search.\n",
    "\n",
    "No Grid Search, estabeçecemos alguns valores para cada um dos hiperparâmetros que desejamos otimizar, e então testamos exaustivamente todas as combinações possíveis, uma a uma.\n",
    "\n",
    "(x) Verdadeiro\n",
    "\n",
    "( ) Falso\n"
   ]
  },
  {
   "cell_type": "markdown",
   "metadata": {},
   "source": [
    "<font color=red>\n",
    "Certinho!\n",
    "</font>"
   ]
  },
  {
   "cell_type": "markdown",
   "metadata": {},
   "source": [
    "__________\n",
    "__________"
   ]
  },
  {
   "cell_type": "markdown",
   "metadata": {},
   "source": [
    "**9) Vamos treinar, avaliar e escolher o melhor modelo!**\n",
    "\n",
    "Considere o dataset a seguir (**use exatamente o mesmo código!**):"
   ]
  },
  {
   "cell_type": "code",
   "execution_count": 11,
   "metadata": {
    "ExecuteTime": {
     "end_time": "2022-05-28T00:02:00.643432Z",
     "start_time": "2022-05-28T00:02:00.604453Z"
    }
   },
   "outputs": [],
   "source": [
    "import pandas as pd\n",
    "import numpy as np\n",
    "from sklearn.datasets import make_regression\n",
    "from sklearn.model_selection import train_test_split\n",
    "\n",
    "X, y = make_regression(n_samples = 400,\n",
    "                       n_features = 5,\n",
    "                       n_informative = 3,\n",
    "                       noise = 20,\n",
    "                       random_state = 42)\n",
    "\n",
    "X_train, X_test, y_train, y_test = train_test_split(X, y, test_size=0.3, random_state=42)"
   ]
  },
  {
   "cell_type": "markdown",
   "metadata": {},
   "source": [
    "Com os algoritmos do KNN, Decision Tree e Random Forest (todos os hiperparâmetros default e seed=42), assinale a alternativa que contém **apenas associações corretas** considerando o **erro absoluto médio (MAE)** com duas casas decimais. <br>\n",
    "\n",
    "1 - O melhor modelo é o Random Forest pois ele obteve um menor erro no conjunto de validação. <br>\n",
    "2 - Os erros de validação obtidos foram: 20.23 para o Random Forest, 23.48 para o KNN e 25.46 para o Decision Tree <br>\n",
    "3 - O melhor modelo é o Decision Tree pois ele obteve um MAE = 0 no treino. <br>\n",
    "4 - Os erros de validação obtidos foram: 6.95 para o Random Forest, 17.57 para o KNN e 0.00 para o Decision Tree. <br>\n",
    "5 - O melhor modelo é o KNN porque apesar de ter um erro de validação maior que o Random Forest, ele não apresentou tanto overfit quanto esse. <br>\n",
    "6 - Os modelos de árvore tiveram overfit. <br>\n",
    "\n",
    "() 1, 2\n",
    "\n",
    "(X) 2, 5, 6\n",
    "\n",
    "() 3, 6\n",
    "\n",
    "() 2, 5"
   ]
  },
  {
   "cell_type": "code",
   "execution_count": 12,
   "metadata": {
    "ExecuteTime": {
     "end_time": "2022-05-28T00:02:13.107959Z",
     "start_time": "2022-05-28T00:02:13.080975Z"
    }
   },
   "outputs": [
    {
     "name": "stdout",
     "output_type": "stream",
     "text": [
      "Algoritmo: lr\n",
      "MAE de treino: 15.19\n",
      "MAE de teste: 15.89\n",
      "\n",
      "Algoritmo: knn\n",
      "MAE de treino: 13.36\n",
      "MAE de teste: 24.53\n",
      "\n"
     ]
    }
   ],
   "source": [
    "from sklearn.linear_model import LinearRegression\n",
    "from sklearn.neighbors import KNeighborsRegressor\n",
    "from sklearn.metrics import mean_absolute_error\n",
    "\n",
    "lr = LinearRegression()\n",
    "knn = KNeighborsRegressor(n_neighbors=2)\n",
    "\n",
    "models = {'lr': lr, 'knn': knn,}\n",
    "\n",
    "\n",
    "for model_name, model in models.items():\n",
    "    model.fit(X_train, y_train)\n",
    "\n",
    "    y_pred_train = model.predict(X_train)\n",
    "    y_pred_test = model.predict(X_test)\n",
    "\n",
    "    mae_train = mean_absolute_error(y_train, y_pred_train)\n",
    "    mae_test = mean_absolute_error(y_test, y_pred_test)\n",
    "\n",
    "    print(f\"Algoritmo: {model_name}\")\n",
    "    print(f\"MAE de treino: {mae_train:.2f}\")\n",
    "    print(f\"MAE de teste: {mae_test:.2f}\\n\")"
   ]
  }
 ],
 "metadata": {
  "interpreter": {
   "hash": "cb5f626699f206ef97176a4f092b8d9f6e52ae1f84b4bb3163daf9eb25ca3519"
  },
  "kernelspec": {
   "display_name": "Python 3",
   "language": "python",
   "name": "python3"
  },
  "language_info": {
   "codemirror_mode": {
    "name": "ipython",
    "version": 3
   },
   "file_extension": ".py",
   "mimetype": "text/x-python",
   "name": "python",
   "nbconvert_exporter": "python",
   "pygments_lexer": "ipython3",
   "version": "3.8.3"
  }
 },
 "nbformat": 4,
 "nbformat_minor": 4
}
