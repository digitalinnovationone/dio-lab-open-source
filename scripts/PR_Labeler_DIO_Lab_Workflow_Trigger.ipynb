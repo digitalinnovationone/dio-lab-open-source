{
 "cells": [
  {
   "cell_type": "markdown",
   "metadata": {
    "id": "view-in-github",
    "colab_type": "text"
   },
   "source": [
    "<a href=\"https://colab.research.google.com/github/falvojr/dio-lab-open-source/blob/main/PR_Labeler_DIO_Lab_Workflow_Trigger.ipynb\" target=\"_parent\"><img src=\"https://colab.research.google.com/assets/colab-badge.svg\" alt=\"Open In Colab\"/></a>"
   ]
  },
  {
   "cell_type": "code",
   "metadata": {
    "colab": {
     "base_uri": "https://localhost:8080/"
    },
    "id": "kkSAY8CcFJIP",
    "outputId": "5f12ee02-b7ef-4af3-9153-486792c48221",
    "jupyter": {
     "is_executing": true
    }
   },
   "source": [
    "import os\n",
    "import requests\n",
    "\n",
    "class GitHubConfig:\n",
    "    \"\"\"Configurações relacionadas ao GitHub e ao repositório.\"\"\"\n",
    "    TOKEN = os.getenv('GITHUB_TOKEN')  # O token vem de uma variável de ambiente\n",
    "    if not TOKEN:\n",
    "        raise ValueError(\"O token do GitHub não foi encontrado. Defina a variável de ambiente 'GITHUB_TOKEN'.\")\n",
    "\n",
    "    OWNER = 'digitalinnovationone'\n",
    "    REPO = 'dio-lab-open-source'\n",
    "    HEADERS = {\n",
    "        'Authorization': f'token {TOKEN}',\n",
    "        'Accept': 'application/vnd.github.v3+json'\n",
    "    }\n",
    "\n",
    "    @staticmethod\n",
    "    def get_session():\n",
    "        \"\"\"Retorna uma sessão configurada para reutilização de conexões HTTP.\"\"\"\n",
    "        session = requests.Session()\n",
    "        session.headers.update(GitHubConfig.HEADERS)\n",
    "        return session\n",
    "\n",
    "def obter_prs_abertos():\n",
    "    \"\"\"Retorna uma lista de todos os PRs abertos.\"\"\"\n",
    "    session = GitHubConfig.get_session()  # Usando a sessão para otimizar as requisições\n",
    "    next_page = 1\n",
    "    all_prs = []\n",
    "\n",
    "    while True:\n",
    "        try:\n",
    "            url = f'https://api.github.com/repos/{GitHubConfig.OWNER}/{GitHubConfig.REPO}/pulls?page={next_page}&per_page=100'\n",
    "            response = session.get(url)\n",
    "            response.raise_for_status()\n",
    "        except requests.RequestException as e:\n",
    "            print(f\"Erro ao recuperar PRs: {e}\")\n",
    "            return []\n",
    "\n",
    "        prs = response.json()\n",
    "        all_prs.extend(prs)\n",
    "\n",
    "        if len(prs) < 100:\n",
    "            break\n",
    "\n",
    "        next_page += 1\n",
    "\n",
    "    print(f\"Recuperados {len(all_prs)} PRs abertos no total.\")\n",
    "    return all_prs\n",
    "\n",
    "def adicionar_label(pr_number):\n",
    "    \"\"\"Adiciona a label ao PR especificado.\"\"\"\n",
    "    session = GitHubConfig.get_session()  # Usando a sessão\n",
    "    label_data = {'labels': ['run dio workflow']}\n",
    "    try:\n",
    "        url = f'https://api.github.com/repos/{GitHubConfig.OWNER}/{GitHubConfig.REPO}/issues/{pr_number}/labels'\n",
    "        response = session.post(url, json=label_data)\n",
    "        response.raise_for_status()\n",
    "    except requests.RequestException as e:\n",
    "        print(f\"Erro ao adicionar label ao PR {pr_number}: {e}\")\n",
    "        return None\n",
    "\n",
    "    return response.status_code\n",
    "\n",
    "def main():\n",
    "    prs_abertos = obter_prs_abertos()\n",
    "    prs_abertos.reverse()\n",
    "\n",
    "    for pr in prs_abertos:\n",
    "        pr_number = pr['number']\n",
    "        labels = [label['name'] for label in pr['labels']]\n",
    "\n",
    "        if 'run dio workflow' not in labels:\n",
    "            status_code = adicionar_label(pr_number)\n",
    "            if status_code:\n",
    "                print(f\"Adicionado label ao PR #{pr_number}, Resposta: {status_code}\")\n",
    "        else:\n",
    "            print(f\"PR #{pr_number} já possui o label. Pulando.\")\n",
    "\n",
    "if __name__ == \"__main__\":\n",
    "    main()\n"
   ],
   "outputs": [],
   "execution_count": null
  }
 ],
 "metadata": {
  "colab": {
   "provenance": [],
   "authorship_tag": "ABX9TyPlkWCTWUJG/Jltt/KvrpC7",
   "include_colab_link": true
  },
  "kernelspec": {
   "display_name": "Python 3",
   "name": "python3"
  },
  "language_info": {
   "name": "python"
  }
 },
 "nbformat": 4,
 "nbformat_minor": 0
}
