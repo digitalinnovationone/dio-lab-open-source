{
 "cells": [
  {
   "cell_type": "code",
   "execution_count": 1,
   "id": "8d72a589",
   "metadata": {
    "ExecuteTime": {
     "end_time": "2022-08-24T23:37:37.383311Z",
     "start_time": "2022-08-24T23:37:37.374303Z"
    }
   },
   "outputs": [],
   "source": [
    "import re"
   ]
  },
  {
   "cell_type": "code",
   "execution_count": 6,
   "id": "d00a0bd4",
   "metadata": {
    "ExecuteTime": {
     "end_time": "2022-08-24T23:43:20.947588Z",
     "start_time": "2022-08-24T23:43:20.939581Z"
    }
   },
   "outputs": [
    {
     "data": {
      "text/plain": [
       "True"
      ]
     },
     "execution_count": 6,
     "metadata": {},
     "output_type": "execute_result"
    }
   ],
   "source": [
    "pattern = re.compile(r'^(([0-9]{3}.[0-9]{3}.[0-9]{3}-[0-9]{2})|([0-9]{11}))$') ### qual é a expressao regular do regex neste caso\n",
    "cpf = '000.000.000-00'\n",
    "bool(re.match(pattern, cpf))"
   ]
  },
  {
   "cell_type": "code",
   "execution_count": 25,
   "id": "71e6d08b",
   "metadata": {
    "ExecuteTime": {
     "end_time": "2022-08-25T00:08:43.045727Z",
     "start_time": "2022-08-25T00:08:43.041724Z"
    }
   },
   "outputs": [],
   "source": [
    "teste_cpf = re.compile(r'^(([0-9]{3}.[0-9]{3}.[0-9]{3}-[0-9]{2})|([0-9]{11}))$')\n",
    "\n",
    "def isValidcpf(cpf):\n",
    "    if re.fullmatch(teste_cpf, cpf):\n",
    "      print(\"CPF Valido\")\n",
    "    else:\n",
    "      print(\"CPF Invalido\")"
   ]
  },
  {
   "cell_type": "code",
   "execution_count": 28,
   "id": "75299e4f",
   "metadata": {
    "ExecuteTime": {
     "end_time": "2022-08-25T00:09:10.553100Z",
     "start_time": "2022-08-25T00:09:10.545093Z"
    }
   },
   "outputs": [
    {
     "name": "stdout",
     "output_type": "stream",
     "text": [
      "CPF Valido\n",
      "CPF Invalido\n",
      "CPF Valido\n",
      "CPF Invalido\n"
     ]
    }
   ],
   "source": [
    "isValidcpf(\"012.345.678-92\")\n",
    "isValidcpf(\"396.756.88-38\")\n",
    "isValidcpf(\"12340585284\")\n",
    "isValidcpf(\"6548155456\")"
   ]
  },
  {
   "cell_type": "code",
   "execution_count": 50,
   "id": "af7dfbcb",
   "metadata": {
    "ExecuteTime": {
     "end_time": "2022-08-25T00:33:54.208671Z",
     "start_time": "2022-08-25T00:33:54.191670Z"
    }
   },
   "outputs": [
    {
     "data": {
      "text/plain": [
       "True"
      ]
     },
     "execution_count": 50,
     "metadata": {},
     "output_type": "execute_result"
    }
   ],
   "source": [
    "pattern = re.compile(r'([A-Za-z0-9]+[.-_])*[A-Za-z0-9]+@[A-Za-z0-9-]+(\\.[A-Z|a-z]{2,})+') ### qual é a expressao regular do regex neste caso\n",
    "email = 'cflavs.7@gmail.com'\n",
    "bool(re.match(pattern, email))\n"
   ]
  },
  {
   "cell_type": "code",
   "execution_count": 62,
   "id": "11b7e22b",
   "metadata": {
    "ExecuteTime": {
     "end_time": "2022-08-25T00:38:37.157022Z",
     "start_time": "2022-08-25T00:38:37.144011Z"
    }
   },
   "outputs": [],
   "source": [
    "\n",
    "teste_email = re.compile(r'(([A-Za-z0-9]+[.-_])*([A-Za-z0-9]))+@[A-Za-z0-9-]+(\\.[A-Z|a-z]{2,})+')\n",
    "\n",
    "def isValid(email):\n",
    "    if re.fullmatch(teste_email, email):\n",
    "      print(\"Email Valido\")\n",
    "    else:\n",
    "      print(\"E-mail Invalido\")\n"
   ]
  },
  {
   "cell_type": "code",
   "execution_count": 63,
   "id": "ff96313c",
   "metadata": {
    "ExecuteTime": {
     "end_time": "2022-08-25T00:38:37.857406Z",
     "start_time": "2022-08-25T00:38:37.847397Z"
    }
   },
   "outputs": [
    {
     "name": "stdout",
     "output_type": "stream",
     "text": [
      "Email Valido\n",
      "Email Valido\n",
      "E-mail Invalido\n",
      "E-mail Invalido\n",
      "E-mail Invalido\n"
     ]
    }
   ],
   "source": [
    "isValid(\"name.surname@gmail.com\")\n",
    "isValid(\"anonymous123@yahoo.co.uk\")\n",
    "isValid(\"anonymous123@...uk\")\n",
    "isValid(\"haiahai.@gmail.com.br\")\n",
    "isValid(\"...@domain.us\")"
   ]
  },
  {
   "cell_type": "code",
   "execution_count": null,
   "id": "0b0a7ca0",
   "metadata": {},
   "outputs": [],
   "source": []
  }
 ],
 "metadata": {
  "kernelspec": {
   "display_name": "Python 3 (ipykernel)",
   "language": "python",
   "name": "python3"
  },
  "language_info": {
   "codemirror_mode": {
    "name": "ipython",
    "version": 3
   },
   "file_extension": ".py",
   "mimetype": "text/x-python",
   "name": "python",
   "nbconvert_exporter": "python",
   "pygments_lexer": "ipython3",
   "version": "3.10.4"
  }
 },
 "nbformat": 4,
 "nbformat_minor": 5
}
