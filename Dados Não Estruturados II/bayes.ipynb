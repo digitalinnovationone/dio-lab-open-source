{
 "cells": [
  {
   "cell_type": "markdown",
   "id": "7422aef5",
   "metadata": {},
   "source": [
    "# Modelos probabilisticos - Naive Bayes\n",
    "\n",
    "* Em determinados problemas, é possível fazer uma relação entre variáveis por meio de probabilidades\n",
    "* O naive bayes é um modelo voltado para esta visão, tendo como base o teorema de Bayes\n",
    "* Suposição de independência ou não correlação entre as variáveis do conjunto de dados sendo utilizadas para resolver um determinado problema\n",
    "* Variáveis igualmente importantes\n",
    "* Formulação de acordo com o teorema de Bayes\n",
    "  * Utilizado para cálculo da probabilidade de um evento A dado que um evento B ocorreu\n",
    "  * P(B|A): probabilidade de B acontecer dado que A ocorreu\n",
    "  * P(A): probabilidade de A ocorrer\n",
    "  * P(B): probabilidade de B ocorrer\n",
    "![Title](../imgs/teorema_bayes.webp)"
   ]
  },
  {
   "cell_type": "markdown",
   "id": "47d8522e",
   "metadata": {},
   "source": [
    "# Como assim professora?\n",
    "![Title](../imgs/fine.jpg)"
   ]
  },
  {
   "cell_type": "markdown",
   "id": "c99c4ef1",
   "metadata": {},
   "source": [
    "# Exemplo\n",
    "![Title](../imgs/tabela-bayes.png)\n",
    "\n",
    "𝑃(𝑆𝑖𝑚|𝐸𝑛𝑠𝑜𝑙𝑎𝑟𝑎𝑑𝑜)=(𝑃(𝐸𝑛𝑠𝑜𝑙𝑎𝑟𝑎𝑑𝑜|𝑆𝑖𝑚)∗𝑃(𝑆𝑖𝑚))/𝑃(𝐸𝑛𝑠𝑜𝑙𝑎𝑟𝑎𝑑𝑜)\n",
    "\n",
    "\n",
    "𝑃(𝑆𝑖𝑚)=9/14=0,64\n",
    "\n",
    "𝑃(𝐸𝑛𝑠𝑜𝑙𝑎𝑟𝑎𝑑𝑜)=5/14=0,36\n",
    "\n",
    "𝑃(𝐸𝑛𝑠𝑜𝑙𝑎𝑟𝑎𝑑𝑜|𝑆𝑖𝑚)=3/9=0,33\n",
    "\n",
    "P(Sim | Ensolarado) = 0,33 * 0,64 / 0,36 = 0,60"
   ]
  },
  {
   "cell_type": "markdown",
   "id": "aac5b9d6",
   "metadata": {},
   "source": [
    "# Uso em NLP\n",
    "\n",
    "* O algoritmo de Bayes é uma das técnicas simples mais utilizadas para NLP em aplicações de classificação\n",
    "* Palavras com maior probabilidade de ocorrer em uma determinada classe determinam um padrão\n",
    "\n",
    "![Title](../imgs/bayes_nlp.png)"
   ]
  },
  {
   "cell_type": "markdown",
   "id": "1ac8d7ce",
   "metadata": {},
   "source": [
    "## Variações do Naive Bayes\n",
    "\n",
    "Algoritmos de ML dependem principalmente da natureza dos seus dados! Sendo assim, naturalmente, diferentes formas de organizar a base de dados retornam diferentes resultados para o algoritmo de Bayes. Dessa forma, temos variações:\n",
    "\n",
    "* Gaussian Naive Bayes: Utilizado na classificação assumindo uma distribuição normal.\n",
    "* Bernoulli Naive Bayes: O modelo binomial é útil se os vetores são binários (0 ou 1)\n",
    "* Multinomial Naive Bayes: Esse algoritmo usa os dados em uma distribuição multinomial, que é uma generalização da distribuição binomial. Se, por exemplo, considerarmos um problema de classificação de texto. Podemos considerar tentativas de Bernoulli, onde ao invés de verificarmos a palavra que ocorre no documento, verificamos a contagem de vezes que a palavra apareceu no texto."
   ]
  },
  {
   "cell_type": "code",
   "execution_count": 39,
   "id": "6f6c0570",
   "metadata": {},
   "outputs": [],
   "source": [
    "import pandas as pd\n",
    "import numpy as np\n",
    "import seaborn as sns\n",
    "import matplotlib.pyplot as plt\n",
    "import nltk\n",
    "from nltk.stem.porter import *\n",
    "from nltk.tokenize import word_tokenize\n",
    "from nltk.corpus import stopwords\n",
    "import re\n",
    "from sklearn.metrics import classification_report\n",
    "from sklearn.naive_bayes import MultinomialNB\n",
    "\n",
    "# Bibliotecas para o modelo\n",
    "from sklearn.model_selection import train_test_split\n",
    "from sklearn.feature_extraction.text import TfidfVectorizer\n",
    "from sklearn.naive_bayes import GaussianNB"
   ]
  },
  {
   "cell_type": "code",
   "execution_count": 2,
   "id": "62d1d0c8",
   "metadata": {},
   "outputs": [
    {
     "name": "stderr",
     "output_type": "stream",
     "text": [
      "[nltk_data] Downloading package stopwords to\n",
      "[nltk_data]     /Users/cecilia/nltk_data...\n",
      "[nltk_data]   Package stopwords is already up-to-date!\n",
      "[nltk_data] Downloading package punkt to /Users/cecilia/nltk_data...\n",
      "[nltk_data]   Package punkt is already up-to-date!\n"
     ]
    }
   ],
   "source": [
    "nltk.download('stopwords')\n",
    "nltk.download('punkt')\n",
    "\n",
    "# Define as stopwords em inglês\n",
    "sw_english = set(stopwords.words('english'))\n",
    "\n",
    "# Instância o PorterStemmer\n",
    "stemmer = PorterStemmer()"
   ]
  },
  {
   "cell_type": "code",
   "execution_count": 5,
   "id": "7fbfe0f2",
   "metadata": {},
   "outputs": [
    {
     "data": {
      "text/html": [
       "<div>\n",
       "<style scoped>\n",
       "    .dataframe tbody tr th:only-of-type {\n",
       "        vertical-align: middle;\n",
       "    }\n",
       "\n",
       "    .dataframe tbody tr th {\n",
       "        vertical-align: top;\n",
       "    }\n",
       "\n",
       "    .dataframe thead th {\n",
       "        text-align: right;\n",
       "    }\n",
       "</style>\n",
       "<table border=\"1\" class=\"dataframe\">\n",
       "  <thead>\n",
       "    <tr style=\"text-align: right;\">\n",
       "      <th></th>\n",
       "      <th>type</th>\n",
       "      <th>text</th>\n",
       "    </tr>\n",
       "  </thead>\n",
       "  <tbody>\n",
       "    <tr>\n",
       "      <th>0</th>\n",
       "      <td>ham</td>\n",
       "      <td>Hope you are having a good week. Just checking in</td>\n",
       "    </tr>\n",
       "    <tr>\n",
       "      <th>1</th>\n",
       "      <td>ham</td>\n",
       "      <td>K..give back my thanks.</td>\n",
       "    </tr>\n",
       "    <tr>\n",
       "      <th>2</th>\n",
       "      <td>ham</td>\n",
       "      <td>Am also doing in cbe only. But have to pay.</td>\n",
       "    </tr>\n",
       "    <tr>\n",
       "      <th>3</th>\n",
       "      <td>spam</td>\n",
       "      <td>complimentary 4 STAR Ibiza Holiday or £10,000 ...</td>\n",
       "    </tr>\n",
       "    <tr>\n",
       "      <th>4</th>\n",
       "      <td>spam</td>\n",
       "      <td>okmail: Dear Dave this is your final notice to...</td>\n",
       "    </tr>\n",
       "    <tr>\n",
       "      <th>...</th>\n",
       "      <td>...</td>\n",
       "      <td>...</td>\n",
       "    </tr>\n",
       "    <tr>\n",
       "      <th>5554</th>\n",
       "      <td>ham</td>\n",
       "      <td>You are a great role model. You are giving so ...</td>\n",
       "    </tr>\n",
       "    <tr>\n",
       "      <th>5555</th>\n",
       "      <td>ham</td>\n",
       "      <td>Awesome, I remember the last time we got someb...</td>\n",
       "    </tr>\n",
       "    <tr>\n",
       "      <th>5556</th>\n",
       "      <td>spam</td>\n",
       "      <td>If you don't, your prize will go to another cu...</td>\n",
       "    </tr>\n",
       "    <tr>\n",
       "      <th>5557</th>\n",
       "      <td>spam</td>\n",
       "      <td>SMS. ac JSco: Energy is high, but u may not kn...</td>\n",
       "    </tr>\n",
       "    <tr>\n",
       "      <th>5558</th>\n",
       "      <td>ham</td>\n",
       "      <td>Shall call now dear having food</td>\n",
       "    </tr>\n",
       "  </tbody>\n",
       "</table>\n",
       "<p>5559 rows × 2 columns</p>\n",
       "</div>"
      ],
      "text/plain": [
       "      type                                               text\n",
       "0      ham  Hope you are having a good week. Just checking in\n",
       "1      ham                            K..give back my thanks.\n",
       "2      ham        Am also doing in cbe only. But have to pay.\n",
       "3     spam  complimentary 4 STAR Ibiza Holiday or £10,000 ...\n",
       "4     spam  okmail: Dear Dave this is your final notice to...\n",
       "...    ...                                                ...\n",
       "5554   ham  You are a great role model. You are giving so ...\n",
       "5555   ham  Awesome, I remember the last time we got someb...\n",
       "5556  spam  If you don't, your prize will go to another cu...\n",
       "5557  spam  SMS. ac JSco: Energy is high, but u may not kn...\n",
       "5558   ham                    Shall call now dear having food\n",
       "\n",
       "[5559 rows x 2 columns]"
      ]
     },
     "execution_count": 5,
     "metadata": {},
     "output_type": "execute_result"
    }
   ],
   "source": [
    "df = pd.read_csv('../datasets/spamraw.csv')\n",
    "df"
   ]
  },
  {
   "cell_type": "code",
   "execution_count": 20,
   "id": "5ef82cb6",
   "metadata": {},
   "outputs": [],
   "source": [
    "def preprocessing(string):\n",
    "    ###\n",
    "    # tokenização\n",
    "    words = word_tokenize(string)\n",
    "    ###\n",
    "    # Remove Stopwords\n",
    "    filtered_words = []\n",
    "    for w in words:\n",
    "        if w not in sw_english:\n",
    "            filtered_words.append(w)\n",
    "    ###\n",
    "    # Aplica o Stemming\n",
    "    stem_words = []\n",
    "    for w in filtered_words:\n",
    "        s_words = stemmer.stem(w)\n",
    "        stem_words.append(s_words)\n",
    "    ###\n",
    "    # Retorna a lista de palavras pré-processadas\n",
    "    return stem_words"
   ]
  },
  {
   "cell_type": "code",
   "execution_count": 21,
   "id": "242386c0",
   "metadata": {},
   "outputs": [],
   "source": [
    "df[\"filtered_words\"] = df['text'].apply(lambda x: preprocessing(x))\n",
    "df['join_words'] = df['filtered_words'].apply(lambda x: ' '.join(x))"
   ]
  },
  {
   "cell_type": "code",
   "execution_count": 35,
   "id": "10f997d4",
   "metadata": {},
   "outputs": [],
   "source": [
    "X = df['join_words']\n",
    "y = df['type'].replace({'ham':0, 'spam': 1})"
   ]
  },
  {
   "cell_type": "code",
   "execution_count": 36,
   "id": "e6a2ba13",
   "metadata": {},
   "outputs": [],
   "source": [
    "X_train, X_test, y_train, y_test = train_test_split(X,\n",
    "                                                     y,\n",
    "                                                     test_size = 0.3,\n",
    "                                                     random_state = 42)"
   ]
  },
  {
   "cell_type": "code",
   "execution_count": 37,
   "id": "43dc31de",
   "metadata": {},
   "outputs": [],
   "source": [
    "tfidf = TfidfVectorizer(use_idf = True)\n",
    "\n",
    "X_train_tfidf = tfidf.fit_transform(X_train).todense()\n",
    "X_test_tfidf  = tfidf.transform(X_test).todense()"
   ]
  },
  {
   "cell_type": "code",
   "execution_count": 40,
   "id": "40894a00",
   "metadata": {},
   "outputs": [
    {
     "name": "stdout",
     "output_type": "stream",
     "text": [
      "              precision    recall  f1-score   support\n",
      "\n",
      "           0       0.98      0.89      0.93      1457\n",
      "           1       0.53      0.88      0.66       211\n",
      "\n",
      "    accuracy                           0.88      1668\n",
      "   macro avg       0.75      0.88      0.79      1668\n",
      "weighted avg       0.92      0.88      0.90      1668\n",
      "\n"
     ]
    }
   ],
   "source": [
    "# Instanciando o modelo\n",
    "model = GaussianNB()\n",
    "\n",
    "# treinamento do modelo\n",
    "model.fit(X_train_tfidf, y_train)\n",
    "\n",
    "# Gerando as predições\n",
    "y_pred = model.predict(X_test_tfidf)\n",
    "\n",
    "# Print do classification report\n",
    "print(classification_report(y_test, y_pred))"
   ]
  },
  {
   "cell_type": "code",
   "execution_count": 42,
   "id": "46a89844",
   "metadata": {},
   "outputs": [
    {
     "name": "stdout",
     "output_type": "stream",
     "text": [
      "              precision    recall  f1-score   support\n",
      "\n",
      "           0       0.96      1.00      0.98      1457\n",
      "           1       1.00      0.73      0.85       211\n",
      "\n",
      "    accuracy                           0.97      1668\n",
      "   macro avg       0.98      0.87      0.91      1668\n",
      "weighted avg       0.97      0.97      0.96      1668\n",
      "\n"
     ]
    }
   ],
   "source": [
    "# Instanciando o modelo\n",
    "model = MultinomialNB()\n",
    "\n",
    "# treinamento do modelo\n",
    "model.fit(X_train_tfidf, y_train)\n",
    "\n",
    "# Gerando as predições\n",
    "y_pred = model.predict(X_test_tfidf)\n",
    "\n",
    "# Print do classification report\n",
    "print(classification_report(y_test, y_pred))"
   ]
  },
  {
   "cell_type": "code",
   "execution_count": 45,
   "id": "cde16c66",
   "metadata": {},
   "outputs": [],
   "source": [
    "# Carrega a função CountVectorizer\n",
    "from sklearn.feature_extraction.text import CountVectorizer\n",
    "\n",
    "# instancia o transformador\n",
    "cv = CountVectorizer()\n",
    "\n",
    "# Transforma os dados nas matrizes de saída\n",
    "X_train_cv = cv.fit_transform(X_train).toarray()\n",
    "X_test_cv = cv.transform(X_test).toarray()"
   ]
  },
  {
   "cell_type": "code",
   "execution_count": 33,
   "id": "0e2415da",
   "metadata": {},
   "outputs": [
    {
     "name": "stdout",
     "output_type": "stream",
     "text": [
      "              precision    recall  f1-score   support\n",
      "\n",
      "           0       0.99      0.90      0.94      1457\n",
      "           1       0.58      0.92      0.71       211\n",
      "\n",
      "    accuracy                           0.90      1668\n",
      "   macro avg       0.78      0.91      0.83      1668\n",
      "weighted avg       0.94      0.90      0.91      1668\n",
      "\n"
     ]
    }
   ],
   "source": [
    "# Instanciando o modelo\n",
    "model = GaussianNB()\n",
    "\n",
    "# treinamento do modelo\n",
    "model.fit(X_train_cv, y_train)\n",
    "\n",
    "# Gerando as predições\n",
    "y_pred = model.predict(X_test_cv)\n",
    "\n",
    "# Print do classification report\n",
    "print(classification_report(y_test, y_pred))"
   ]
  },
  {
   "cell_type": "markdown",
   "id": "5545c909",
   "metadata": {},
   "source": [
    "### MultinomialNB\n",
    "\n",
    "Como vimos que o Multinomial Naive Bayes é indicado quando nossos dados estão em uma estrutura baseada em contagens, podemos utiliza-lo para o nosso problema e comparar os resultados obtidos anteriormente"
   ]
  },
  {
   "cell_type": "code",
   "execution_count": 44,
   "id": "58d47eef",
   "metadata": {},
   "outputs": [
    {
     "name": "stdout",
     "output_type": "stream",
     "text": [
      "              precision    recall  f1-score   support\n",
      "\n",
      "           0       0.96      1.00      0.98      1457\n",
      "           1       1.00      0.73      0.85       211\n",
      "\n",
      "    accuracy                           0.97      1668\n",
      "   macro avg       0.98      0.87      0.91      1668\n",
      "weighted avg       0.97      0.97      0.96      1668\n",
      "\n"
     ]
    }
   ],
   "source": [
    "# Instanciando o modelo\n",
    "model = MultinomialNB()\n",
    "\n",
    "# treinamento do modelo\n",
    "model.fit(X_train_tfidf, y_train)\n",
    "\n",
    "# Gerando as predições\n",
    "y_pred = model.predict(X_test_tfidf)\n",
    "\n",
    "# Print do classification report\n",
    "print(classification_report(y_test, y_pred))"
   ]
  },
  {
   "cell_type": "code",
   "execution_count": 46,
   "id": "f4a96e06",
   "metadata": {},
   "outputs": [
    {
     "name": "stdout",
     "output_type": "stream",
     "text": [
      "              precision    recall  f1-score   support\n",
      "\n",
      "           0       0.99      0.99      0.99      1457\n",
      "           1       0.96      0.90      0.93       211\n",
      "\n",
      "    accuracy                           0.98      1668\n",
      "   macro avg       0.97      0.95      0.96      1668\n",
      "weighted avg       0.98      0.98      0.98      1668\n",
      "\n"
     ]
    }
   ],
   "source": [
    "# Instanciando o modelo\n",
    "model = MultinomialNB()\n",
    "\n",
    "# treinamento do modelo\n",
    "model.fit(X_train_cv, y_train)\n",
    "\n",
    "# Gerando as predições\n",
    "y_pred = model.predict(X_test_cv)\n",
    "\n",
    "# Print do classification report\n",
    "print(classification_report(y_test, y_pred))"
   ]
  },
  {
   "cell_type": "markdown",
   "id": "048cdef7",
   "metadata": {},
   "source": [
    "### Outros algoritmos de ML"
   ]
  },
  {
   "cell_type": "code",
   "execution_count": 48,
   "id": "9e44da05",
   "metadata": {},
   "outputs": [
    {
     "name": "stdout",
     "output_type": "stream",
     "text": [
      "              precision    recall  f1-score   support\n",
      "\n",
      "           0       0.97      1.00      0.99      1457\n",
      "           1       0.99      0.82      0.89       211\n",
      "\n",
      "    accuracy                           0.98      1668\n",
      "   macro avg       0.98      0.91      0.94      1668\n",
      "weighted avg       0.98      0.98      0.97      1668\n",
      "\n"
     ]
    }
   ],
   "source": [
    "# Instanciando o modelo\n",
    "model = RandomForestClassifier()\n",
    "\n",
    "# treinamento do modelo\n",
    "model.fit(X_train_tfidf, y_train)\n",
    "\n",
    "# Gerando as predições\n",
    "y_pred = model.predict(X_test_tfidf)\n",
    "\n",
    "# Print do classification report\n",
    "print(classification_report(y_test, y_pred))"
   ]
  },
  {
   "cell_type": "code",
   "execution_count": null,
   "id": "e2ec4a65",
   "metadata": {},
   "outputs": [],
   "source": []
  }
 ],
 "metadata": {
  "kernelspec": {
   "display_name": "Python 3 (ipykernel)",
   "language": "python",
   "name": "python3"
  },
  "language_info": {
   "codemirror_mode": {
    "name": "ipython",
    "version": 3
   },
   "file_extension": ".py",
   "mimetype": "text/x-python",
   "name": "python",
   "nbconvert_exporter": "python",
   "pygments_lexer": "ipython3",
   "version": "3.9.5"
  }
 },
 "nbformat": 4,
 "nbformat_minor": 5
}
