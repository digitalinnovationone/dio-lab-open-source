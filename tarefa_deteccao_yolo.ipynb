{
  "nbformat": 4,
  "nbformat_minor": 0,
  "metadata": {
    "colab": {
      "provenance": [],
      "private_outputs": true,
      "gpuType": "T4",
      "include_colab_link": true
    },
    "kernelspec": {
      "name": "python3",
      "display_name": "Python 3"
    },
    "accelerator": "GPU"
  },
  "cells": [
    {
      "cell_type": "markdown",
      "metadata": {
        "id": "view-in-github",
        "colab_type": "text"
      },
      "source": [
        "<a href=\"https://colab.research.google.com/github/teiabessa/dio-lab-open-source/blob/main/tarefa_deteccao_yolo.ipynb\" target=\"_parent\"><img src=\"https://colab.research.google.com/assets/colab-badge.svg\" alt=\"Open In Colab\"/></a>"
      ]
    },
    {
      "cell_type": "markdown",
      "metadata": {
        "id": "Ll6XWs4WeErH"
      },
      "source": [
        "![Notebook Title](http://blog.ibanyez.info/download/B20190408T000000071.jpg)"
      ]
    },
    {
      "cell_type": "markdown",
      "metadata": {
        "id": "Cqo1gtPX6BXO"
      },
      "source": [
        "# How to train YOLOv3 using Darknet on Colab notebook and optimize the VM runtime load times\n",
        "\n",
        "## Welcome!\n",
        "\n",
        "This Colab notebook will show you how to:\n",
        "\n",
        "* Train a **Yolo v3** model using **Darknet** using the Colab **12GB-RAM GPU**.\n",
        "* Turn Colab notebooks into an effective tool to work on real projects. Dealing with the handicap of a runtime that will **blow up every 12 hours** into the space!\n",
        "  * Working directly from the files on your computer.\n",
        "  * Configure your notebook to install everything you need and start training in about a minute (Tested using 550MB dataset).\n",
        "  * Receive your trained weights directly on your computer during the training. While the notebook is training you can check how it is going using your trained weights in your computer.\n",
        "\n",
        "\n",
        "#### This notebook is part of the post [How to train YOLOv3 using Darknet framework and optimize the VM runtime load times](http://blog.ibanyez.info/blogs/coding/20190410-run-a-google-colab-notebook-to-train-yolov3-using-darknet-in/) I encourage you to visit! You will find a deeper explanation about Google Colab, the goods and the limitations of this great tool.\n",
        "\n",
        "\n",
        "### These are the steps we'll follow:\n",
        "\n",
        "* Configure Google Drive and map as network  _Drive_.\n",
        "* Some utils to help to do some tasks.\n",
        "* Configure the pre-requisites on the runtime.\n",
        "  * Check the CUDA installation on the runtime VM.\n",
        "  * Install cuDNN.\n",
        "  * Clone and compile Darknet. We'll use a repo based on [AlexeyAB's Darknet repo](https://github.com/AlexeyAB/darknet/). I applied  some changes to make possible to load files from `/My Drive/` and reduced the number of logs on console to speed up the notebook.\n",
        "  * We'll check that everything works great.\n",
        "* Explained how to manage your YOLO files on your computer and it will be used transparently from this notebook.\n",
        "\n",
        "> _**NOTE:** Cells with an annotation **`# Not Necessary cell`**. Can be removed without having any impact. They are only explanatory content._\n",
        "\n",
        "### Without further ado, let's start!\n"
      ]
    },
    {
      "cell_type": "markdown",
      "metadata": {
        "id": "G4J9sFi39ScM"
      },
      "source": [
        "## STEP 0. Configure runtime to work with GPU\n",
        "\n",
        "We want to use the **12GB-RAM GPU** hardware acceleration!\n",
        "\n",
        "Go to **> Menu > Runtime > Configure Runtime Type** And select **GPU** From the **Hardware accelerator** drop down meu"
      ]
    },
    {
      "cell_type": "markdown",
      "metadata": {
        "id": "uOJg1x9gLvcj"
      },
      "source": [
        "## STEP 1. Connect your files to Google Drive\n",
        "In order to have your files in your local computer you need to install and configure Google Backup and Sync to keep one folder of your Drive synced with a folder on your computer.\n",
        "\n",
        "![schema drive.jpg](http://blog.ibanyez.info/download/B20190408T000000060.jpg)\n",
        "\n",
        "1. Create a folder on your Google Drive named _**darknet**_\n",
        "2. Configure the Google Backup and Sync as follows. If you don't speak Spanish, you maybe learn some words! **;)**\n",
        "![Sync Drive.jpg](http://blog.ibanyez.info/download/B20190408T000000063.jpg)\n",
        "\n",
        "**After this step you'll have a folder called _darknet_ in your local computer. This folder is where you will work with files on your computer**\n",
        "\n",
        "> _**TIP** - We need to have a good performance downloading data from Drive to Colab. Having a lot of files in your Drive root folder can slow down the things quite a bit. It's a good practice working with Colab to move all your root folder files into a folder_\n",
        "\n",
        "\n"
      ]
    },
    {
      "cell_type": "markdown",
      "metadata": {
        "id": "xaAwkZv0rBQd"
      },
      "source": [
        "## STEP 2. Connect the Colab notebook to Google Drive\n",
        "\n",
        "Now we're gonna map your Google Drive folder. This first step is the only one that will require your manual interaction every time you run your notebook.\n",
        "\n",
        "* Execute the following cell _(Click on Play button or press CTRL + ENTER)_ and click on the link to authorize your notebook to access to your Google Drive.\n",
        "* Paste the code Google will give to you and push `enter`"
      ]
    },
    {
      "cell_type": "code",
      "metadata": {
        "id": "LJZRcEw0LoBd"
      },
      "source": [
        "# This cell imports the drive library and mounts your Google Drive as a VM local drive. You can access to your Drive files\n",
        "# using this path \"/content/gdrive/My Drive/\"\n",
        "\n",
        "from google.colab import drive\n",
        "drive.mount('/content/gdrive', force_remount=True)"
      ],
      "execution_count": null,
      "outputs": []
    },
    {
      "cell_type": "markdown",
      "metadata": {
        "id": "V8pPjCXXvASq"
      },
      "source": [
        "Congratulations! Now you can access to your local computer folder directly from here!\n",
        "\n",
        "Check it out!"
      ]
    },
    {
      "cell_type": "code",
      "metadata": {
        "id": "DrdyBxyZvLpM"
      },
      "source": [
        "# Not Necessary cell\n",
        "# List the content of your local computer folder\n",
        "!ls -la \"/content/gdrive/My Drive/darknet\""
      ],
      "execution_count": null,
      "outputs": []
    },
    {
      "cell_type": "code",
      "metadata": {
        "id": "sGNcZ9EtOK7k"
      },
      "source": [
        "!sudo apt-get install tree"
      ],
      "execution_count": null,
      "outputs": []
    },
    {
      "cell_type": "code",
      "metadata": {
        "id": "ZGsRuXM-OQBb"
      },
      "source": [
        "!tree /content/gdrive/My\\ Drive/darknet/"
      ],
      "execution_count": null,
      "outputs": []
    },
    {
      "cell_type": "markdown",
      "source": [],
      "metadata": {
        "id": "rLBnpVZPkU3B"
      }
    },
    {
      "cell_type": "markdown",
      "metadata": {
        "id": "q1_APkL1nYbz"
      },
      "source": [
        "### UPDATE NOTE\n",
        "\n",
        "If you want to simplify your paths, you can use a Symbolic link:\n",
        "\n",
        "`!ln -s \"/content/gdrive/My Drive/darknet/\" /mydrive`\n",
        "\n",
        " Then you'll be able to access your Google Drive files just using `/mydrive` path\n",
        "\n",
        "**BE CAREFUL: All the paths in this notebook are without using Symbolic link. You'll have to remember to change the path everywhere**\n",
        "\n",
        "Thanks to **Dennis Kashkin** for this recommendation!"
      ]
    },
    {
      "cell_type": "code",
      "metadata": {
        "id": "yreDPcJdoo29"
      },
      "source": [
        "# Uncomment if you want to use Symbolic link\n",
        "!ln -s /content/gdrive/My\\ Drive/darknet/ /mydrive\n",
        "!ls /mydrive"
      ],
      "execution_count": null,
      "outputs": []
    },
    {
      "cell_type": "markdown",
      "metadata": {
        "id": "db68v7TmMTmR"
      },
      "source": [
        "## STEP 2. Check CUDA release version\n",
        "\n",
        "Nvidia CUDA is pre-installed on Colab notebooks. Now we'll check the version installed.\n",
        "\n",
        "> _**BE AWARE:** Maybe some time from the time I'm writing these lines (April 9th, 2019)  the CUDA version is upgraded on Colab and you should download another version of the cuDNN in the next step. Now is release 10.0 and we are using cuDNN (cudnn-10.0-linux-x64-v7.5.0.56.tgz) accordingly_"
      ]
    },
    {
      "cell_type": "code",
      "metadata": {
        "id": "ew5eGbl9MdKL"
      },
      "source": [
        "# This cell can be commented once you checked the current CUDA version\n",
        "# CUDA: Let's check that Nvidia CUDA is already pre-installed and which version is it. In some time from now maybe you\n",
        "!/usr/local/cuda/bin/nvcc --version\n"
      ],
      "execution_count": null,
      "outputs": []
    },
    {
      "cell_type": "markdown",
      "metadata": {
        "id": "v3nkYzWwMuBk"
      },
      "source": [
        "## STEP 3. Install cuDNN according to the current CUDA version\n",
        "Now, you need to download cuDNN from Nvidia web site. You'll need to sign up on the site.\n",
        "\n",
        "* Download cuDNN from [Nvidia website](https://developer.nvidia.com/cudnn)\n",
        "\n",
        "  * Right now, because we have _**CUDA 10.0**_ preinstalled in Colab runtime, you need download [cuDNN v7.5.0.56 for CUDA v10.0](https://developer.nvidia.com/compute/machine-learning/cudnn/secure/v7.5.0.56/prod/10.0_20190219/cudnn-10.0-linux-x64-v7.5.0.56.tgz) - the file is cudnn-10.0-linux-x64-v7.5.0.56.tgz\n",
        "\n",
        "* On your local computer, create a folder named _**cuDNN**_ in your local folder _**darknet**_. Copy the _**tgz**_ file there\n",
        "\n"
      ]
    },
    {
      "cell_type": "code",
      "source": [
        "# The path below for uncompress tgz file was given an error:\n",
        "#!tar -xzvf gdrive/My\\ Drive/darknet/cuDNN/cudnn-10.0-linux-x64-v7.5.0.56.tgz -C /usr/local/\n",
        "!tar -xzvf \"/content/gdrive/My Drive/darknet/cuDNN/cudnn-10.0-linux-x64-v7.5.0.56.tgz\" -C /usr/local/\n",
        "\n",
        "# We're unzipping the cuDNN files from your Drive folder directly to the VM CUDA folders\n",
        "!chmod a+r /usr/local/cuda/include/cudnn.h\n",
        "\n",
        "# Now we check the version we already installed. Can comment this line on future runs\n",
        "!cat /usr/local/cuda/include/cudnn.h | grep CUDNN_MAJOR -A 2"
      ],
      "metadata": {
        "id": "O6oo1UckAi-T"
      },
      "execution_count": null,
      "outputs": []
    },
    {
      "cell_type": "code",
      "source": [
        "from google.colab import drive\n",
        "drive.mount('/content/drive')"
      ],
      "metadata": {
        "id": "A-VLJsYexDDu"
      },
      "execution_count": null,
      "outputs": []
    },
    {
      "cell_type": "markdown",
      "metadata": {
        "id": "9x9BFQOfNowN"
      },
      "source": [
        "## STEP 4. Installing Darknet\n",
        "Great!! We have all the necessary to start working with Darknet.\n",
        "\n",
        "This notebook works with a slightly modified version of darknet, which is based on the [AlexeyAB Darknet repo](https://github.com/AlexeyAB/darknet/)\n",
        "The changes applied to the original repo are:\n",
        "* Allowing to use spaces on the darknet configuration files _**obj.data**_. Necessary to work with Google Drive directly.\n",
        "* Removing some logs on every epoch. The original repo write more logs than the Colab notebook can sync. This creates a long queue during the training. This version only shows the results after every iteration.\n",
        "\n",
        "You can take a look to the code at the [github repo](https://github.com/kriyeng/darknet/)\n",
        "\n",
        "> _**TRICK**: Because we want to run the notebook fast every time we will compile darknet only the first time we run this notebook. Then, we'll save the compiled version to your drive. For the future executions we'll copy the compiled one instead of compiling again._\n",
        "\n",
        "\n",
        "**Here comes our first trick to speed up the runtime load time**\n",
        "\n",
        "* The first time we will:\n",
        "  * Clone and compile the darknet project.\n",
        "  * Copy the compiled version to our Google Drive Floder\n",
        "  \n",
        "* The next times, instead of compiling it again on every runtime load, we'll copy the compiled version to our VM machine!\n",
        "\n",
        "When compiling the first time, your output last line has to be something like this:\n",
        "\n",
        "`g++ -std=c++11 -Iinclude/ -I3rdparty/stb/include -DOPENCV `pkg-config --cflags opencv` -DGPU (...)`"
      ]
    },
    {
      "cell_type": "markdown",
      "metadata": {
        "id": "UXi9S5XAIP3A"
      },
      "source": [
        "## STEP 4-A. Cloning and compiling Darkent. ONLY NEEDS TO BE RUN ON THE FIRST EXECUTION!!\n",
        "In this step we'll clone the darkent repo and compile it.\n",
        "* Clone Repo\n",
        "* Compile Darknet\n",
        "* Copy compiled version to Drive\n",
        "\n",
        "When compiling ends, your output last line has to be something like this:\n",
        "\n",
        "_`g++ -std=c++11 -Iinclude/ -I3rdparty/stb/include -DOPENCV `pkg-config --cflags opencv` -DGPU (...)_`"
      ]
    },
    {
      "cell_type": "markdown",
      "source": [
        "It was necessary instal the Por que seu código precisava do OpenCV?\n",
        "No Makefile do Darknet, quando você define OPENCV=1, o compilador inclui funcionalidades dependentes do OpenCV. Seu erro ocorreu porque:\n",
        "\n",
        "O Darknet tentou compilar com suporte a OpenCV (OPENCV=1 no Makefile).\n",
        "\n",
        "O OpenCV não estava instalado corretamente no Colab."
      ],
      "metadata": {
        "id": "puYIAUdAXZWf"
      }
    },
    {
      "cell_type": "code",
      "source": [
        "# Install OpenCV dependencies first, necessary to complie darknet\n",
        "!apt-get install -y pkg-config libopencv-dev\n",
        "\n",
        "# Clone repository\n",
        "#!git clone https://github.com/AlexeyAB/darknet.git%cd darknet\n",
        "\n",
        "# Modify Makefile using sed command with proper Colab settings\n",
        "#!sed -i 's/OPENCV=0/OPENCV=1/' Makefile\n",
        "#!sed -i 's/GPU=0/GPU=1/' Makefile\n",
        "#!sed -i 's/CUDNN=0/CUDNN=1/' Makefile\n",
        "\n",
        "# If OpenCV errors persist, try this alternative fix:\n",
        "#!pip install opencv-python\n",
        "\n",
        "# Compile Darknet\n",
        "!make\n",
        "\n",
        "# Create directory structure before copying\n",
        "!mkdir -p \"/content/gdrive/My Drive/darknet/bin\"\n",
        "\n",
        "# Copy compiled binary\n",
        "!cp ./darknet \"/content/gdrive/My Drive/darknet/bin/darknet\"\n",
        "\n",
        "# Check the folder\n",
        "!ls\n"
      ],
      "metadata": {
        "id": "Y87V78-SDrHp"
      },
      "execution_count": null,
      "outputs": []
    },
    {
      "cell_type": "markdown",
      "metadata": {
        "id": "rrVEej6lIHTI"
      },
      "source": [
        "## STEP 4-B. Copying the compiled version of Darknet from Drive. UNCOMMENT AFTER FIRST EXECUTION\n",
        "Copy the darknet compiled version from drive to the VM.\n",
        "* Make the local darknet folder\n",
        "* Copy the darknet file\n",
        "* Set execution permissions"
      ]
    },
    {
      "cell_type": "code",
      "metadata": {
        "id": "jAN2TNZ007c_"
      },
      "source": [
        "# Uncomment after the first run, when you have a copy of compiled darkent in your Google Drive\n",
        "\n",
        "# Makes a dir for darknet and move there\n",
        "#!mkdir -p darknet\n",
        "#%cd darknet\n",
        "\n",
        "# Copy the Darkent compiled version to the VM local drive\n",
        "#!cp /content/gdrive/My\\ Drive/darknet/bin/darknet ./darknet\n",
        "\n",
        "# Set execution permissions to Darknet\n",
        "#!chmod +x ./darknet\n",
        "#!ls"
      ],
      "execution_count": null,
      "outputs": []
    },
    {
      "cell_type": "markdown",
      "metadata": {
        "id": "fH7QRxBUOPiz"
      },
      "source": [
        "## STEP 5. Runtime configuration finished!\n",
        "Let's chek it out!\n",
        "\n",
        "If you are running this notebook for the first time, you can run the following cells in order to check if everything goes as expected!\n",
        "\n",
        "\n"
      ]
    },
    {
      "cell_type": "markdown",
      "metadata": {
        "id": "CD378FjcrurC"
      },
      "source": [
        "## Some Utils\n",
        "Let's add some utils that maybe can be useful.\n",
        "\n",
        "These utils are:\n",
        "* imgShow() - Will help us to show an image in the remote VM\n",
        "* download() - Will allow you to get some file from your notebook in case you need to\n",
        "* upload() - You can upload files to your current folder on the remote VM.\n",
        "\n",
        "Thanks to [Ivan Goncharov](https://twitter.com/Ivangrov) for these helpers!"
      ]
    },
    {
      "cell_type": "code",
      "metadata": {
        "id": "WD5FBWmjrsks"
      },
      "source": [
        "#download files\n",
        "def imShow(path):\n",
        "  import cv2\n",
        "  import matplotlib.pyplot as plt\n",
        "  %matplotlib inline\n",
        "\n",
        "  image = cv2.imread(path)\n",
        "  height, width = image.shape[:2]\n",
        "  resized_image = cv2.resize(image,(3*width, 3*height), interpolation = cv2.INTER_CUBIC)\n",
        "\n",
        "  fig = plt.gcf()\n",
        "  fig.set_size_inches(18, 10)\n",
        "  plt.axis(\"off\")\n",
        "  #plt.rcParams['figure.figsize'] = [10, 5]\n",
        "  plt.imshow(cv2.cvtColor(resized_image, cv2.COLOR_BGR2RGB))\n",
        "  plt.show()\n",
        "\n",
        "\n",
        "def upload():\n",
        "  from google.colab import files\n",
        "  uploaded = files.upload()\n",
        "  for name, data in uploaded.items():\n",
        "    with open(name, 'wb') as f:\n",
        "      f.write(data)\n",
        "      print ('saved file', name)\n",
        "def download(path):\n",
        "  from google.colab import files\n",
        "  files.download(path)"
      ],
      "execution_count": null,
      "outputs": []
    },
    {
      "cell_type": "code",
      "metadata": {
        "id": "eCou8imNOTTN"
      },
      "source": [
        "# Not necessary cell\n",
        "# Get yolov3 weights\n",
        "!wget https://pjreddie.com/media/files/yolov3.weights\n",
        "!ls"
      ],
      "execution_count": null,
      "outputs": []
    },
    {
      "cell_type": "markdown",
      "metadata": {
        "id": "JvySKrnh2cvG"
      },
      "source": [
        "**NOTE:** The following test only will work when the darknet is compiled in the runtime. This demo uses some data from the original darknet folders. For your Object detection projects, you'll have these necessary files on your local folder."
      ]
    },
    {
      "cell_type": "code",
      "metadata": {
        "id": "op1iEE3bOVR6"
      },
      "source": [
        "# Not necessary cell\n",
        "# Execute darknet using YOLOv3 model with pre-trained weights to detect objects on 'person.jpg'\n",
        "!./darknet detect cfg/yolov3.cfg yolov3.weights data/person.jpg -dont-show\n",
        "\n",
        "# Show the result using the helper imgShow()\n",
        "imShow('person.jpg')"
      ],
      "execution_count": null,
      "outputs": []
    },
    {
      "cell_type": "markdown",
      "metadata": {
        "id": "ZreQ_407H1uw"
      },
      "source": [
        "## If you can see the same picture as the one below, congratulations!! At this point you have Darknet configured and working!\n",
        "\n",
        "![person.jpg](http://blog.ibanyez.info/download/B20190409T000000064.png)"
      ]
    },
    {
      "cell_type": "markdown",
      "metadata": {
        "id": "j0t221djS1Gk"
      },
      "source": [
        "# PART 2. Training YOLO\n",
        "\n",
        " > _**TRICK:** Every time you want to run all your cells automatically you can go to the **> Menu > Runtime > run all**. Maybe you don't want to execute the entire notebook. You can write the following cell where you want to stop the process and uncoment the **`assert False`** command. This will throw an error and will stop to run more cells. Thanks to: [This thread](https://groups.google.com/forum/#!topic/jupyter/ELftSFSiedQ)_\n",
        "\n",
        "\n"
      ]
    },
    {
      "cell_type": "code",
      "metadata": {
        "id": "KQjODqIAS-er"
      },
      "source": [
        "# don't go beyond here with Run All\n",
        "#assert False"
      ],
      "execution_count": null,
      "outputs": []
    },
    {
      "cell_type": "markdown",
      "metadata": {
        "id": "wkzMqLZV-rF5"
      },
      "source": [
        "## PART 2. STEP 0. Preparing your data and configuration files\n",
        "\n",
        "Before going further let's take a look at what configuration files you need to have in your local drive _`darknet`_\n",
        "\n",
        "![Yolov3 configuration files cheat sheet.jpg](http://blog.ibanyez.info/download/B20190410T000000072.png)\n",
        "\n",
        "You can download the cheat sheet [here](http://blog.ibanyez.info/download/B20190410T000000072.png)\n",
        "\n",
        "If you need deeper explanations on how to prepare your data sets, annotation and deep learning, visit [How to train YOLOv3 using Darknet framework and optimize the VM runtime load times](post link)\n",
        "\n",
        "\n",
        "> **TRICK:** You have to be carefully configuring paths on your config files. _*obj.data*_ file needs to have spaces on the path escaped with _**\\**_. Like this: **_/content/gdrive/My\\ Drive/darknet/train.txt_**. But, in files **_train.txt_** and **_test.txt_** does not!\n",
        "\n",
        "\n"
      ]
    },
    {
      "cell_type": "markdown",
      "metadata": {
        "id": "dKl1l_NgBn6y"
      },
      "source": [
        "## PART 2. STEP 1. Loading files to VM local drive\n",
        "The network speed between Google Drive and Colab VM can have an impact on your training speed accessing to your dataset images.\n",
        "\n",
        "You can have 3 possible approaches depending on the size of your dataset.\n",
        "\n",
        "> _**NOTE:** This step is not necessary for all the configuration files and weights. They can be accessed directly from Google Drive without considerable performance issues. **This step is only for the dataset images and annotations**_\n",
        "\n",
        "* **Option 1** - You can try  to use directly the files from Google Drive _`img/`_ folder. Depending on your dataset maybe this can be more than good.\n",
        "* **Option 2** - Before start training copy your dataset from Google Drive to the local VM filesystem. Maybe can be a good practice to copy as one single tar file and decompress in your VM local _`img/`_ folder\n",
        "* **Option 3** - If your dataset is quite big, maybe you can upload to a git repository and clone from here. Usually transfer time between are much better. If you have to decide I have the feeling that bitbucket have better speed transfer times than github, but please, don't take this as confirmed, **I haven't done specific tests on that, I could be wrong!**\n",
        "\n",
        "\n"
      ]
    },
    {
      "cell_type": "markdown",
      "metadata": {
        "id": "4Cp5EsZOEBv8"
      },
      "source": [
        "#### PART 2. STEP 1 - Option 1. Using files from Google Drive directly.\n",
        "You don't have to do anything here. Your **_train.txt_** should have the correct path:\n",
        "* **/content/grdive/My Drive/darknet/img/image001.jpg**. As said before, don't use escaped white space for the paths on _**train.txt**_ and _**test.txt**_"
      ]
    },
    {
      "cell_type": "markdown",
      "metadata": {
        "id": "x6zm1GHDF-8_"
      },
      "source": [
        "#### PART 2. STEP 1 - Option 2A. Copying files from Google Drive to VM local filesystem.\n",
        "Execute the follow cell to copy your files"
      ]
    },
    {
      "cell_type": "code",
      "metadata": {
        "id": "WewV3jU3B4Eo"
      },
      "source": [
        "# Copy fils from Google Drive to the VM local filesystem\n",
        "!cp -r \"/content/gdrive/My Drive/darknet/img\" ./img\n"
      ],
      "execution_count": null,
      "outputs": []
    },
    {
      "cell_type": "markdown",
      "metadata": {
        "id": "PhUzh9F-GehW"
      },
      "source": [
        "#### PART 2. STEP 1 - Option 2B. Copying files zipped from Google Drive to VM local filesystem and unzip locally.\n",
        "Execute the follow cell to copy your files and uncompress.\n",
        "You can use _*!ls*_ command to esnure what's the correct path you have to configure in your _*train.txt*_ to correctly access to your dataset images\n"
      ]
    },
    {
      "cell_type": "code",
      "metadata": {
        "id": "vjnV7SDOGpdN"
      },
      "source": [
        "# Copy your compressed file\n",
        "#!cp -r \"/content/gdrive/My Drive/darknet/img/img.tgz\" ./img\n",
        "\n",
        "# Uncompress zipped file\n",
        "#!tar -xzvf ./img/img.tgz"
      ],
      "execution_count": null,
      "outputs": []
    },
    {
      "cell_type": "markdown",
      "metadata": {
        "id": "trq0Nnt9Hdns"
      },
      "source": [
        "#### PART 2. STEP 1 - Option 3. Clone your image dataset from a git repo. Seems the fastest one.\n",
        "Execute the follow cell to clone your dataset repo to VM local filesystem\n"
      ]
    },
    {
      "cell_type": "code",
      "metadata": {
        "id": "3Pa1Z9cxC290"
      },
      "source": [
        "# Git clone directly to ./img folder\n",
        "#!git clone https://[your-repository] ./img\n",
        "\n",
        "# Check the result - Uncomment when you checked for speed up further runs\n",
        "#!ls -la ./img"
      ],
      "execution_count": null,
      "outputs": []
    },
    {
      "cell_type": "markdown",
      "metadata": {
        "id": "6_4747QHIGZ7"
      },
      "source": [
        "## PART 3. Finally, Train your model!\n",
        "\n",
        "When you execute the following command, your model will start training.\n",
        "\n",
        "You will have a log line per epoch. On each iteration you will see how your training is going.\n",
        "\n",
        "> **TRICK: Darknet copies a backup of your trained weights every 100 iterations. As magic, this file will be synced to your local drive on your computer, as well as the backups darknet do every 1000 iterations, saving it on a separate file.**\n",
        "\n",
        "\n",
        "\n"
      ]
    },
    {
      "cell_type": "code",
      "metadata": {
        "id": "13fRzkiQiPhW"
      },
      "source": [
        "!./darknet detector train \"/content/gdrive/My Drive/darknet/obj.data\" \"/content/gdrive/My Drive/darknet/yolov3.cfg\" \"/content/gdrive/My Drive/darknet/darknet53.conv.74\" -dont_show"
      ],
      "execution_count": null,
      "outputs": []
    },
    {
      "cell_type": "markdown",
      "metadata": {
        "id": "0oWYkXA0LtCQ"
      },
      "source": [
        "## PERFORMANCE TIPS & TRICKS\n",
        "\n",
        "* **Speed up load times of the runtime:** When everything is checked that works, you can remove cells or comment unnecessary lines of code to make your loading time lower on every run.\n",
        "\n",
        "* **How to keep your notebook alive for more time?:** Keep you browser with your notebook open. If you close your browser, your notebook will reach the iddle time and will be removed from Colab cloud Service. (90 minutes)\n",
        "  \n",
        "* **Re-run your training after reaching the limitation time for Colab runtimes (12 hours):**\n",
        "  * Open a new notebook or reconnect the current one.\n",
        "  * Comment the cell above and uncomment the cell below.\n",
        "  * In your local computer, copy the file **backup/yolov3_last.weights** to your local computer **weights/** folder.\n",
        "  * Execute Run all in the **> menu > Runtime > Run All**\n",
        "  * _The copy step is not absolutely necessary, but I like to keep a copy of the last training session and not overwrite this file on next trainings._"
      ]
    },
    {
      "cell_type": "code",
      "metadata": {
        "id": "josdFFdVMyj3"
      },
      "source": [
        "# Start training at the point where the last runtime finished\n",
        "#!./darknet detector train \"/content/gdrive/My Drive/darknet/obj.data\" \"/content/gdrive/My Drive/darknet/yolov3.cfg\" \"/content/gdrive/My Drive/darknet/weights/yolov_last.weights\" -dont_show"
      ],
      "execution_count": null,
      "outputs": []
    },
    {
      "cell_type": "markdown",
      "metadata": {
        "id": "G3C8fIrVKR4T"
      },
      "source": [
        "## TROUBLESHOOTING\n",
        "The main problems you can face if your model throw an error is:\n",
        "\n",
        "* Images or files not found. Check the **Yolov3 cheat sheet** image above and check that everything is ok.\n",
        "* If have you configured wrongly your **filters** and **classes** in the **yolov3.cfg**. Check the **Yolov3 cheet sheet** above.\n",
        "* You can face some out of memory or library errors mainly for the lack of some the pre-requisits. In this case, check the versions of the current libraries installed on your Colab VM. You can find more information in the first steps of this notebook.\n",
        "* **Batch** and **subdivisions** parameters on your **yolov3.cfg** can affect to the memory allocation as well. Refer to the original repo [Here]() for further details.\n",
        "\n",
        "### TROUBLESHOOTING UPDATE\n",
        "Be careful if you are preparing your files on Windows. If you use **CRLF** on your files instead of **LF** You can have problems opening the files correctly. - Thanks to [Satya Shetty](https://twitter.com/satyashetty) for sharing this issue!\n"
      ]
    },
    {
      "cell_type": "markdown",
      "metadata": {
        "id": "46LRTt-5Pr52"
      },
      "source": [
        "## About me\n",
        "\n",
        "You can find the original post with more explanations about this notebook at [How to train YOLOv3 using Darknet framework and optimize the VM runtime load times](post link)\n",
        "\n",
        "I'm David Ibañez from Barcelona. Feel free to get in touch!\n",
        "\n",
        "* You can visit my blog at [Dev-ibanyez.info](http://blog.ibanyex.info)\n",
        "* You can get in touch with me on [Twitter](https://twitter.com/dav_ibanez)\n",
        "* You can get in touch or contribute to this notebook at [Github](https://github.com/kriyeng/yolo-on-colab-notebook/)\n",
        "* You can comment on the [dev.to post about this notebook ](PENDING)\n",
        "\n",
        "Thanks for you having read this notebook! :clap: :clap: :clap:\n",
        "\n",
        "## SOURCES\n",
        "\n",
        "\n",
        "#### Other sources\n",
        "* YOLO original web site [Joseph Redmon Page](https://pjreddie.com/darknet/yolo/)\n",
        "* AlexeyAB darknet repo [github](https://github.com/AlexeyAB/darknet/)\n",
        "* The Ivan Goncharov [notebook](https://github.com/ivangrov/YOLOv3-GoogleColab/blob/master/YOLOv3_GoogleColab.ipynb) inspired me to try Google Colab and end up creating this notebook."
      ]
    }
  ]
}